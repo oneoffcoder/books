{
 "cells": [
  {
   "cell_type": "code",
   "execution_count": 1,
   "id": "832a7dc9-a752-41ea-9eef-5a31ee5daa4b",
   "metadata": {
    "execution": {
     "iopub.execute_input": "2022-10-13T00:27:11.182757Z",
     "iopub.status.busy": "2022-10-13T00:27:11.182561Z",
     "iopub.status.idle": "2022-10-13T00:27:12.299995Z",
     "shell.execute_reply": "2022-10-13T00:27:12.299588Z",
     "shell.execute_reply.started": "2022-10-13T00:27:11.182706Z"
    },
    "tags": []
   },
   "outputs": [
    {
     "name": "stderr",
     "output_type": "stream",
     "text": [
      "2022-10-12 20:27:11.220754: I tensorflow/core/platform/cpu_feature_guard.cc:193] This TensorFlow binary is optimized with oneAPI Deep Neural Network Library (oneDNN) to use the following CPU instructions in performance-critical operations:  AVX2 FMA\n",
      "To enable them in other operations, rebuild TensorFlow with the appropriate compiler flags.\n",
      "2022-10-12 20:27:11.318275: E tensorflow/stream_executor/cuda/cuda_blas.cc:2981] Unable to register cuBLAS factory: Attempting to register factory for plugin cuBLAS when one has already been registered\n",
      "2022-10-12 20:27:11.750637: W tensorflow/stream_executor/platform/default/dso_loader.cc:64] Could not load dynamic library 'libnvinfer.so.7'; dlerror: libnvinfer.so.7: cannot open shared object file: No such file or directory; LD_LIBRARY_PATH: /usr/local/cuda-11.7/lib64\n",
      "2022-10-12 20:27:11.750717: W tensorflow/stream_executor/platform/default/dso_loader.cc:64] Could not load dynamic library 'libnvinfer_plugin.so.7'; dlerror: libnvinfer_plugin.so.7: cannot open shared object file: No such file or directory; LD_LIBRARY_PATH: /usr/local/cuda-11.7/lib64\n",
      "2022-10-12 20:27:11.750722: W tensorflow/compiler/tf2tensorrt/utils/py_utils.cc:38] TF-TRT Warning: Cannot dlopen some TensorRT libraries. If you would like to use Nvidia GPU with TensorRT, please make sure the missing libraries mentioned above are installed properly.\n"
     ]
    }
   ],
   "source": [
    "import tensorflow as tf\n",
    "\n",
    "(X_tr, y_tr), (X_te, y_te) = tf.keras.datasets.boston_housing.load_data(\n",
    "    path='boston_housing.npz', \n",
    "    test_split=0.2, \n",
    "    seed=37\n",
    ")"
   ]
  },
  {
   "cell_type": "code",
   "execution_count": 10,
   "id": "de5238ad-98b4-4999-ad6a-b49a1e308b23",
   "metadata": {
    "execution": {
     "iopub.execute_input": "2022-10-13T00:33:03.640210Z",
     "iopub.status.busy": "2022-10-13T00:33:03.640037Z",
     "iopub.status.idle": "2022-10-13T00:33:03.663675Z",
     "shell.execute_reply": "2022-10-13T00:33:03.663224Z",
     "shell.execute_reply.started": "2022-10-13T00:33:03.640172Z"
    },
    "tags": []
   },
   "outputs": [],
   "source": [
    "from tensorflow.data import Dataset\n",
    "import numpy as np\n",
    "\n",
    "SAMPLES_TR = X_tr.shape[0]\n",
    "SAMPLES_TE = X_te.shape[0]\n",
    "N_BATCHES = 10\n",
    "BATCH_SIZE_TR = np.floor(SAMPLES_TR / N_BATCHES)\n",
    "BATCH_SIZE_TE = 1\n",
    "\n",
    "D_tr = Dataset.from_tensor_slices((X_tr, y_tr)) \\\n",
    "    .shuffle(SAMPLES_TR, reshuffle_each_iteration=True) \\\n",
    "    .batch(BATCH_SIZE_TR)\n",
    "\n",
    "D_te = Dataset.from_tensor_slices((X_te, y_te)) \\\n",
    "    .shuffle(SAMPLES_TE) \\\n",
    "    .batch(BATCH_SIZE_TE)"
   ]
  },
  {
   "cell_type": "code",
   "execution_count": 33,
   "id": "fc7eca86-8332-455b-8249-970eea117d97",
   "metadata": {
    "execution": {
     "iopub.execute_input": "2022-10-13T00:49:16.333870Z",
     "iopub.status.busy": "2022-10-13T00:49:16.333689Z",
     "iopub.status.idle": "2022-10-13T00:49:16.534226Z",
     "shell.execute_reply": "2022-10-13T00:49:16.533773Z",
     "shell.execute_reply.started": "2022-10-13T00:49:16.333844Z"
    },
    "tags": []
   },
   "outputs": [],
   "source": [
    "from tensorflow.keras.models import Sequential\n",
    "from tensorflow.keras.layers import InputLayer, Dense, BatchNormalization\n",
    "import tensorflow_probability as tfp\n",
    "\n",
    "FEATURE_NAMES = [\n",
    "    'CRIM',\n",
    "    'ZN',\n",
    "    'INDUS',\n",
    "    'CHAS',\n",
    "    'NOX',\n",
    "    'RM',\n",
    "    'AGE',\n",
    "    'DIS',\n",
    "    'RAD',\n",
    "    'TAX',\n",
    "    'PTRATIO',\n",
    "    'B',\n",
    "    'LSTAT'\n",
    "]\n",
    "\n",
    "def prior(kernel_size, bias_size, dtype=None):\n",
    "    n = kernel_size + bias_size\n",
    "    prior_model = keras.Sequential(\n",
    "        [\n",
    "            tfp.layers.DistributionLambda(\n",
    "                lambda t: tfp.distributions.MultivariateNormalDiag(\n",
    "                    loc=tf.zeros(n), scale_diag=tf.ones(n)\n",
    "                )\n",
    "            )\n",
    "        ]\n",
    "    )\n",
    "    return prior_model\n",
    "\n",
    "def posterior(kernel_size, bias_size, dtype=None):\n",
    "    n = kernel_size + bias_size\n",
    "    posterior_model = keras.Sequential(\n",
    "        [\n",
    "            tfp.layers.VariableLayer(\n",
    "                tfp.layers.MultivariateNormalTriL.params_size(n), dtype=dtype\n",
    "            ),\n",
    "            tfp.layers.MultivariateNormalTriL(n),\n",
    "        ]\n",
    "    )\n",
    "    return posterior_model\n",
    "\n",
    "def get_model(train_size=10, hidden_units=[8, 8]):\n",
    "    prior = tfp.distributions.Independent(\n",
    "        tfp.distributions.Normal(loc=tf.zeros(1, dtype=tf.float32), scale=1.0), \n",
    "        reinterpreted_batch_ndims=1\n",
    "    )\n",
    "    \n",
    "    model = Sequential([\n",
    "        InputLayer(input_shape=(len(FEATURE_NAMES),), name='input'),\n",
    "        BatchNormalization(),\n",
    "        Dense(10, activation='relu', name='dense_1'),\n",
    "        Dense(tfp.layers.MultivariateNormalTriL.params_size(1), activation=None, name='distribution_weights'),\n",
    "        tfp.layers.MultivariateNormalTriL(1, activity_regularizer=tfp.layers.KLDivergenceRegularizer(prior, weight=1/N_BATCHES), name='output')\n",
    "    ], name='model')\n",
    "    \n",
    "    return model\n",
    "\n",
    "model = get_model()               "
   ]
  },
  {
   "cell_type": "code",
   "execution_count": 34,
   "id": "bbe8a4c5-346b-472c-95a6-26ad07e99dea",
   "metadata": {
    "execution": {
     "iopub.execute_input": "2022-10-13T00:49:17.033928Z",
     "iopub.status.busy": "2022-10-13T00:49:17.033345Z",
     "iopub.status.idle": "2022-10-13T00:49:17.044926Z",
     "shell.execute_reply": "2022-10-13T00:49:17.044513Z",
     "shell.execute_reply.started": "2022-10-13T00:49:17.033914Z"
    },
    "tags": []
   },
   "outputs": [
    {
     "name": "stdout",
     "output_type": "stream",
     "text": [
      "Model: \"model\"\n",
      "_________________________________________________________________\n",
      " Layer (type)                Output Shape              Param #   \n",
      "=================================================================\n",
      " batch_normalization (BatchN  (None, 13)               52        \n",
      " ormalization)                                                   \n",
      "                                                                 \n",
      " dense_1 (Dense)             (None, 10)                140       \n",
      "                                                                 \n",
      " distribution_weights (Dense  (None, 2)                22        \n",
      " )                                                               \n",
      "                                                                 \n",
      " output (MultivariateNormalT  ((None, 1),              0         \n",
      " riL)                         (None, 1))                         \n",
      "                                                                 \n",
      "=================================================================\n",
      "Total params: 214\n",
      "Trainable params: 188\n",
      "Non-trainable params: 26\n",
      "_________________________________________________________________\n"
     ]
    }
   ],
   "source": [
    "model.summary()"
   ]
  },
  {
   "cell_type": "code",
   "execution_count": 35,
   "id": "042d606d-b1fe-4d36-ab2d-3db2da1c1439",
   "metadata": {
    "execution": {
     "iopub.execute_input": "2022-10-13T00:49:20.683943Z",
     "iopub.status.busy": "2022-10-13T00:49:20.683768Z",
     "iopub.status.idle": "2022-10-13T00:49:20.789239Z",
     "shell.execute_reply": "2022-10-13T00:49:20.788675Z",
     "shell.execute_reply.started": "2022-10-13T00:49:20.683917Z"
    },
    "tags": []
   },
   "outputs": [
    {
     "data": {
      "image/png": "[encoded data removed]",
      "text/plain": [
       "<IPython.core.display.Image object>"
      ]
     },
     "execution_count": 35,
     "metadata": {},
     "output_type": "execute_result"
    }
   ],
   "source": [
    "from tensorflow import keras\n",
    "\n",
    "keras.utils.plot_model(model)"
   ]
  },
  {
   "cell_type": "code",
   "execution_count": 36,
   "id": "f8557841-0b26-4704-8e2f-1c0d269be26a",
   "metadata": {
    "execution": {
     "iopub.execute_input": "2022-10-13T00:49:23.551495Z",
     "iopub.status.busy": "2022-10-13T00:49:23.551323Z",
     "iopub.status.idle": "2022-10-13T00:49:23.561047Z",
     "shell.execute_reply": "2022-10-13T00:49:23.560601Z",
     "shell.execute_reply.started": "2022-10-13T00:49:23.551466Z"
    },
    "tags": []
   },
   "outputs": [],
   "source": [
    "def negative_loglikelihood(targets, estimated_distribution):\n",
    "    return -estimated_distribution.log_prob(targets)\n",
    "\n",
    "model.compile(\n",
    "    optimizer=keras.optimizers.RMSprop(learning_rate=0.001),\n",
    "    loss=negative_loglikelihood,\n",
    "    metrics=[keras.metrics.RootMeanSquaredError()],\n",
    ")"
   ]
  },
  {
   "cell_type": "code",
   "execution_count": 39,
   "id": "5f50ad3f-fcc6-4401-97a5-0ec694a1116c",
   "metadata": {
    "execution": {
     "iopub.execute_input": "2022-10-13T00:50:14.658306Z",
     "iopub.status.busy": "2022-10-13T00:50:14.657654Z",
     "iopub.status.idle": "2022-10-13T00:53:00.689984Z",
     "shell.execute_reply": "2022-10-13T00:53:00.689573Z",
     "shell.execute_reply.started": "2022-10-13T00:50:14.658290Z"
    },
    "tags": []
   },
   "outputs": [],
   "source": [
    "hist = model.fit(\n",
    "    x=D_tr,\n",
    "    validation_data=D_te,\n",
    "    epochs=1_000, \n",
    "    verbose=0\n",
    ")"
   ]
  },
  {
   "cell_type": "code",
   "execution_count": 40,
   "id": "8ebee55b-5592-4d88-ac45-59cd0f332eff",
   "metadata": {
    "execution": {
     "iopub.execute_input": "2022-10-13T00:53:00.691031Z",
     "iopub.status.busy": "2022-10-13T00:53:00.690864Z",
     "iopub.status.idle": "2022-10-13T00:53:00.858306Z",
     "shell.execute_reply": "2022-10-13T00:53:00.857850Z",
     "shell.execute_reply.started": "2022-10-13T00:53:00.691013Z"
    },
    "tags": []
   },
   "outputs": [
    {
     "name": "stdout",
     "output_type": "stream",
     "text": [
      "mae_tr: 24.07, mae_te: 21.912\n"
     ]
    }
   ],
   "source": [
    "_, mae_tr = model.evaluate(D_tr, verbose=0)\n",
    "_, mae_te = model.evaluate(D_te, verbose=0)\n",
    "\n",
    "print(f'mae_tr: {round(mae_tr, 3)}, mae_te: {round(mae_te, 3)}')"
   ]
  },
  {
   "cell_type": "code",
   "execution_count": null,
   "id": "4a4f06b8-ec83-4b9f-9f7e-2e570f098cdf",
   "metadata": {},
   "outputs": [],
   "source": []
  },
  {
   "cell_type": "code",
   "execution_count": null,
   "id": "aa1b35d7-1f6a-43a6-bccf-ece8ea3163d2",
   "metadata": {},
   "outputs": [],
   "source": []
  },
  {
   "cell_type": "code",
   "execution_count": null,
   "id": "e77f0db4-ad2f-49b4-bccc-96b7deacbf73",
   "metadata": {},
   "outputs": [],
   "source": []
  },
  {
   "cell_type": "code",
   "execution_count": null,
   "id": "abc1690d-f0ad-4222-8045-ecac4f2794eb",
   "metadata": {},
   "outputs": [],
   "source": []
  },
  {
   "cell_type": "code",
   "execution_count": null,
   "id": "18837cd6-8e40-435b-8828-89e663ed4cda",
   "metadata": {},
   "outputs": [],
   "source": []
  },
  {
   "cell_type": "code",
   "execution_count": null,
   "id": "bde4f8a4-53b2-473a-88af-a1099aa5a027",
   "metadata": {},
   "outputs": [],
   "source": []
  },
  {
   "cell_type": "code",
   "execution_count": null,
   "id": "15b1d60b-b23c-4dcb-a153-aad56392efa4",
   "metadata": {},
   "outputs": [],
   "source": []
  },
  {
   "cell_type": "code",
   "execution_count": null,
   "id": "bb6355e4-9e04-40fa-bfb1-6da0cd12443b",
   "metadata": {},
   "outputs": [],
   "source": []
  }
 ],
 "metadata": {
  "kernelspec": {
   "display_name": "tf",
   "language": "python",
   "name": "tf"
  },
  "language_info": {
   "codemirror_mode": {
    "name": "ipython",
    "version": 3
   },
   "file_extension": ".py",
   "mimetype": "text/x-python",
   "name": "python",
   "nbconvert_exporter": "python",
   "pygments_lexer": "ipython3",
   "version": "3.9.13"
  },
  "widgets": {
   "application/vnd.jupyter.widget-state+json": {
    "state": {},
    "version_major": 2,
    "version_minor": 0
   }
  }
 },
 "nbformat": 4,
 "nbformat_minor": 5
}
