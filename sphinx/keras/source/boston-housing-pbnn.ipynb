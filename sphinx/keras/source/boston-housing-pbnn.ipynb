{
 "cells": [
  {
   "cell_type": "markdown",
   "id": "2120afee-2813-4913-9065-e6ef11021e44",
   "metadata": {},
   "source": [
    "# Boston Housing, Probabilistic Bayesian Neural Networks"
   ]
  },
  {
   "cell_type": "markdown",
   "id": "e5a4493e-e09e-4c6e-a109-9bbd7ee918b5",
   "metadata": {},
   "source": [
    "## Load data"
   ]
  },
  {
   "cell_type": "code",
   "execution_count": 1,
   "id": "832a7dc9-a752-41ea-9eef-5a31ee5daa4b",
   "metadata": {
    "execution": {
     "iopub.execute_input": "2022-10-13T03:42:14.867306Z",
     "iopub.status.busy": "2022-10-13T03:42:14.867163Z",
     "iopub.status.idle": "2022-10-13T03:42:16.011545Z",
     "shell.execute_reply": "2022-10-13T03:42:16.011112Z",
     "shell.execute_reply.started": "2022-10-13T03:42:14.867270Z"
    },
    "tags": []
   },
   "outputs": [
    {
     "name": "stderr",
     "output_type": "stream",
     "text": [
      "2022-10-12 23:42:14.917282: I tensorflow/core/platform/cpu_feature_guard.cc:193] This TensorFlow binary is optimized with oneAPI Deep Neural Network Library (oneDNN) to use the following CPU instructions in performance-critical operations:  AVX2 FMA\n",
      "To enable them in other operations, rebuild TensorFlow with the appropriate compiler flags.\n",
      "2022-10-12 23:42:15.020595: E tensorflow/stream_executor/cuda/cuda_blas.cc:2981] Unable to register cuBLAS factory: Attempting to register factory for plugin cuBLAS when one has already been registered\n",
      "2022-10-12 23:42:15.467989: W tensorflow/stream_executor/platform/default/dso_loader.cc:64] Could not load dynamic library 'libnvinfer.so.7'; dlerror: libnvinfer.so.7: cannot open shared object file: No such file or directory; LD_LIBRARY_PATH: /usr/local/cuda-11.7/lib64\n",
      "2022-10-12 23:42:15.468067: W tensorflow/stream_executor/platform/default/dso_loader.cc:64] Could not load dynamic library 'libnvinfer_plugin.so.7'; dlerror: libnvinfer_plugin.so.7: cannot open shared object file: No such file or directory; LD_LIBRARY_PATH: /usr/local/cuda-11.7/lib64\n",
      "2022-10-12 23:42:15.468072: W tensorflow/compiler/tf2tensorrt/utils/py_utils.cc:38] TF-TRT Warning: Cannot dlopen some TensorRT libraries. If you would like to use Nvidia GPU with TensorRT, please make sure the missing libraries mentioned above are installed properly.\n"
     ]
    },
    {
     "data": {
      "text/plain": [
       "((404, 13), (404,), (102, 13), (102,))"
      ]
     },
     "execution_count": 1,
     "metadata": {},
     "output_type": "execute_result"
    }
   ],
   "source": [
    "import tensorflow as tf\n",
    "\n",
    "(X_tr, y_tr), (X_te, y_te) = tf.keras.datasets.boston_housing.load_data(\n",
    "    path='boston_housing.npz', \n",
    "    test_split=0.2, \n",
    "    seed=37\n",
    ")\n",
    "\n",
    "X_tr.shape, y_tr.shape, X_te.shape, y_te.shape"
   ]
  },
  {
   "cell_type": "markdown",
   "id": "35724806-0304-43b5-a670-3eb2487eb514",
   "metadata": {},
   "source": [
    "## Scale data"
   ]
  },
  {
   "cell_type": "code",
   "execution_count": 2,
   "id": "ecb3f177-1f78-4dbd-bc7f-370a59c1a0b2",
   "metadata": {
    "execution": {
     "iopub.execute_input": "2022-10-13T03:42:16.012287Z",
     "iopub.status.busy": "2022-10-13T03:42:16.012165Z",
     "iopub.status.idle": "2022-10-13T03:42:16.134139Z",
     "shell.execute_reply": "2022-10-13T03:42:16.133741Z",
     "shell.execute_reply.started": "2022-10-13T03:42:16.012261Z"
    },
    "tags": []
   },
   "outputs": [
    {
     "data": {
      "text/plain": [
       "((404, 13), (404,), (102, 13), (102,))"
      ]
     },
     "execution_count": 2,
     "metadata": {},
     "output_type": "execute_result"
    }
   ],
   "source": [
    "from sklearn.preprocessing import StandardScaler\n",
    "\n",
    "scaler = StandardScaler()\n",
    "scaler.fit(X_tr)\n",
    "\n",
    "X_tr = scaler.transform(X_tr)\n",
    "X_te = scaler.transform(X_te)\n",
    "\n",
    "X_tr.shape, y_tr.shape, X_te.shape, y_te.shape"
   ]
  },
  {
   "cell_type": "markdown",
   "id": "d92d1ce9-9c83-4eae-b0e4-d1ee5d2cfe66",
   "metadata": {},
   "source": [
    "## Prepare data"
   ]
  },
  {
   "cell_type": "code",
   "execution_count": 3,
   "id": "de5238ad-98b4-4999-ad6a-b49a1e308b23",
   "metadata": {
    "execution": {
     "iopub.execute_input": "2022-10-13T03:42:16.135399Z",
     "iopub.status.busy": "2022-10-13T03:42:16.135264Z",
     "iopub.status.idle": "2022-10-13T03:42:16.778098Z",
     "shell.execute_reply": "2022-10-13T03:42:16.777748Z",
     "shell.execute_reply.started": "2022-10-13T03:42:16.135374Z"
    },
    "tags": []
   },
   "outputs": [
    {
     "name": "stderr",
     "output_type": "stream",
     "text": [
      "2022-10-12 23:42:16.174676: I tensorflow/stream_executor/cuda/cuda_gpu_executor.cc:980] successful NUMA node read from SysFS had negative value (-1), but there must be at least one NUMA node, so returning NUMA node zero\n",
      "2022-10-12 23:42:16.198498: I tensorflow/stream_executor/cuda/cuda_gpu_executor.cc:980] successful NUMA node read from SysFS had negative value (-1), but there must be at least one NUMA node, so returning NUMA node zero\n",
      "2022-10-12 23:42:16.198664: I tensorflow/stream_executor/cuda/cuda_gpu_executor.cc:980] successful NUMA node read from SysFS had negative value (-1), but there must be at least one NUMA node, so returning NUMA node zero\n",
      "2022-10-12 23:42:16.199403: I tensorflow/core/platform/cpu_feature_guard.cc:193] This TensorFlow binary is optimized with oneAPI Deep Neural Network Library (oneDNN) to use the following CPU instructions in performance-critical operations:  AVX2 FMA\n",
      "To enable them in other operations, rebuild TensorFlow with the appropriate compiler flags.\n",
      "2022-10-12 23:42:16.200243: I tensorflow/stream_executor/cuda/cuda_gpu_executor.cc:980] successful NUMA node read from SysFS had negative value (-1), but there must be at least one NUMA node, so returning NUMA node zero\n",
      "2022-10-12 23:42:16.200386: I tensorflow/stream_executor/cuda/cuda_gpu_executor.cc:980] successful NUMA node read from SysFS had negative value (-1), but there must be at least one NUMA node, so returning NUMA node zero\n",
      "2022-10-12 23:42:16.200510: I tensorflow/stream_executor/cuda/cuda_gpu_executor.cc:980] successful NUMA node read from SysFS had negative value (-1), but there must be at least one NUMA node, so returning NUMA node zero\n",
      "2022-10-12 23:42:16.607942: I tensorflow/stream_executor/cuda/cuda_gpu_executor.cc:980] successful NUMA node read from SysFS had negative value (-1), but there must be at least one NUMA node, so returning NUMA node zero\n",
      "2022-10-12 23:42:16.608114: I tensorflow/stream_executor/cuda/cuda_gpu_executor.cc:980] successful NUMA node read from SysFS had negative value (-1), but there must be at least one NUMA node, so returning NUMA node zero\n",
      "2022-10-12 23:42:16.608240: I tensorflow/stream_executor/cuda/cuda_gpu_executor.cc:980] successful NUMA node read from SysFS had negative value (-1), but there must be at least one NUMA node, so returning NUMA node zero\n",
      "2022-10-12 23:42:16.608344: I tensorflow/core/common_runtime/gpu/gpu_device.cc:1616] Created device /job:localhost/replica:0/task:0/device:GPU:0 with 9457 MB memory:  -> device: 0, name: NVIDIA GeForce RTX 2080 Ti, pci bus id: 0000:01:00.0, compute capability: 7.5\n"
     ]
    }
   ],
   "source": [
    "from tensorflow.data import Dataset\n",
    "import numpy as np\n",
    "\n",
    "SAMPLES_TR = X_tr.shape[0]\n",
    "SAMPLES_TE = X_te.shape[0]\n",
    "N_BATCHES = 10\n",
    "BATCH_SIZE_TR = np.floor(SAMPLES_TR / N_BATCHES)\n",
    "BATCH_SIZE_TE = 1\n",
    "\n",
    "D_tr = Dataset.from_tensor_slices((X_tr, y_tr)) \\\n",
    "    .shuffle(SAMPLES_TR, reshuffle_each_iteration=True) \\\n",
    "    .batch(BATCH_SIZE_TR)\n",
    "\n",
    "D_te = Dataset.from_tensor_slices((X_te, y_te)) \\\n",
    "    .shuffle(SAMPLES_TE) \\\n",
    "    .batch(BATCH_SIZE_TE)"
   ]
  },
  {
   "cell_type": "markdown",
   "id": "6697f132-932f-4732-86ee-26f5568da2ca",
   "metadata": {},
   "source": [
    "## Model"
   ]
  },
  {
   "cell_type": "code",
   "execution_count": 4,
   "id": "fc7eca86-8332-455b-8249-970eea117d97",
   "metadata": {
    "execution": {
     "iopub.execute_input": "2022-10-13T03:42:16.778815Z",
     "iopub.status.busy": "2022-10-13T03:42:16.778718Z",
     "iopub.status.idle": "2022-10-13T03:42:17.454470Z",
     "shell.execute_reply": "2022-10-13T03:42:17.454016Z",
     "shell.execute_reply.started": "2022-10-13T03:42:16.778802Z"
    },
    "tags": []
   },
   "outputs": [
    {
     "name": "stdout",
     "output_type": "stream",
     "text": [
      "WARNING:tensorflow:From /home/super/anaconda3/envs/tf/lib/python3.9/site-packages/tensorflow_probability/python/distributions/distribution.py:342: calling MultivariateNormalDiag.__init__ (from tensorflow_probability.python.distributions.mvn_diag) with scale_identity_multiplier is deprecated and will be removed after 2020-01-01.\n",
      "Instructions for updating:\n",
      "`scale_identity_multiplier` is deprecated; please combine it into `scale_diag` directly instead.\n"
     ]
    }
   ],
   "source": [
    "from tensorflow import keras\n",
    "from tensorflow.keras.models import Sequential\n",
    "from tensorflow.keras.layers import InputLayer, Dense, BatchNormalization\n",
    "import tensorflow_probability as tfp\n",
    "\n",
    "FEATURE_NAMES = [\n",
    "    'CRIM',\n",
    "    'ZN',\n",
    "    'INDUS',\n",
    "    'CHAS',\n",
    "    'NOX',\n",
    "    'RM',\n",
    "    'AGE',\n",
    "    'DIS',\n",
    "    'RAD',\n",
    "    'TAX',\n",
    "    'PTRATIO',\n",
    "    'B',\n",
    "    'LSTAT'\n",
    "]\n",
    "\n",
    "def prior(kernel_size, bias_size, dtype=None):\n",
    "    n = kernel_size + bias_size\n",
    "    prior_model = keras.Sequential(\n",
    "        [\n",
    "            tfp.layers.DistributionLambda(\n",
    "                lambda t: tfp.distributions.MultivariateNormalDiag(\n",
    "                    loc=tf.zeros(n), scale_diag=tf.ones(n)\n",
    "                )\n",
    "            )\n",
    "        ]\n",
    "    )\n",
    "    return prior_model\n",
    "\n",
    "def posterior(kernel_size, bias_size, dtype=None):\n",
    "    n = kernel_size + bias_size\n",
    "    posterior_model = keras.Sequential(\n",
    "        [\n",
    "            tfp.layers.VariableLayer(\n",
    "                tfp.layers.MultivariateNormalTriL.params_size(n), dtype=dtype\n",
    "            ),\n",
    "            tfp.layers.MultivariateNormalTriL(n),\n",
    "        ]\n",
    "    )\n",
    "    return posterior_model\n",
    "\n",
    "def get_model():\n",
    "    prior = tfp.distributions.Independent(\n",
    "        tfp.distributions.Normal(loc=tf.zeros(1, dtype=tf.float32), scale=1.0), \n",
    "        reinterpreted_batch_ndims=1\n",
    "    )\n",
    "    \n",
    "    model = Sequential([\n",
    "        InputLayer(input_shape=(len(FEATURE_NAMES),), name='input'),\n",
    "        Dense(10, activation='relu', name='dense_1'),\n",
    "        Dense(\n",
    "            tfp.layers.MultivariateNormalTriL.params_size(1), \n",
    "            activation=None, \n",
    "            name='distribution_weights'\n",
    "        ),\n",
    "        tfp.layers.MultivariateNormalTriL(\n",
    "            1, \n",
    "            activity_regularizer=tfp.layers.KLDivergenceRegularizer(\n",
    "                prior, \n",
    "                weight=1/N_BATCHES\n",
    "            ), \n",
    "            name='output'\n",
    "        )\n",
    "    ], name='model')\n",
    "    \n",
    "    return model\n",
    "\n",
    "def get_model(train_size=BATCH_SIZE_TR):\n",
    "    model = Sequential([\n",
    "        InputLayer(input_shape=(len(FEATURE_NAMES),), name='input'),\n",
    "        BatchNormalization(),\n",
    "        tfp.layers.DenseVariational(\n",
    "            units=8,\n",
    "            make_prior_fn=prior,\n",
    "            make_posterior_fn=posterior,\n",
    "            kl_weight=1 / train_size,\n",
    "            activation='sigmoid',\n",
    "        ),\n",
    "        tfp.layers.DenseVariational(\n",
    "            units=8,\n",
    "            make_prior_fn=prior,\n",
    "            make_posterior_fn=posterior,\n",
    "            kl_weight=1 / train_size,\n",
    "            activation='sigmoid',\n",
    "        ),\n",
    "        Dense(units=2),\n",
    "        tfp.layers.IndependentNormal(1)\n",
    "    ], name='model')\n",
    "    \n",
    "    return model\n",
    "\n",
    "model = get_model()"
   ]
  },
  {
   "cell_type": "code",
   "execution_count": 5,
   "id": "bbe8a4c5-346b-472c-95a6-26ad07e99dea",
   "metadata": {
    "execution": {
     "iopub.execute_input": "2022-10-13T03:42:17.455363Z",
     "iopub.status.busy": "2022-10-13T03:42:17.455158Z",
     "iopub.status.idle": "2022-10-13T03:42:17.466151Z",
     "shell.execute_reply": "2022-10-13T03:42:17.465856Z",
     "shell.execute_reply.started": "2022-10-13T03:42:17.455349Z"
    },
    "tags": []
   },
   "outputs": [
    {
     "name": "stdout",
     "output_type": "stream",
     "text": [
      "Model: \"model\"\n",
      "_________________________________________________________________\n",
      " Layer (type)                Output Shape              Param #   \n",
      "=================================================================\n",
      " batch_normalization (BatchN  (None, 13)               52        \n",
      " ormalization)                                                   \n",
      "                                                                 \n",
      " dense_variational (DenseVar  (None, 8)                6440      \n",
      " iational)                                                       \n",
      "                                                                 \n",
      " dense_variational_1 (DenseV  (None, 8)                2700      \n",
      " ariational)                                                     \n",
      "                                                                 \n",
      " dense (Dense)               (None, 2)                 18        \n",
      "                                                                 \n",
      " independent_normal (Indepen  ((None, 1),              0         \n",
      " dentNormal)                  (None, 1))                         \n",
      "                                                                 \n",
      "=================================================================\n",
      "Total params: 9,210\n",
      "Trainable params: 9,184\n",
      "Non-trainable params: 26\n",
      "_________________________________________________________________\n"
     ]
    }
   ],
   "source": [
    "model.summary()"
   ]
  },
  {
   "cell_type": "code",
   "execution_count": 6,
   "id": "042d606d-b1fe-4d36-ab2d-3db2da1c1439",
   "metadata": {
    "execution": {
     "iopub.execute_input": "2022-10-13T03:42:17.466790Z",
     "iopub.status.busy": "2022-10-13T03:42:17.466659Z",
     "iopub.status.idle": "2022-10-13T03:42:17.560312Z",
     "shell.execute_reply": "2022-10-13T03:42:17.559859Z",
     "shell.execute_reply.started": "2022-10-13T03:42:17.466774Z"
    },
    "tags": []
   },
   "outputs": [
    {
     "data": {
      "image/png": "[encoded data removed]",
      "text/plain": [
       "<IPython.core.display.Image object>"
      ]
     },
     "execution_count": 6,
     "metadata": {},
     "output_type": "execute_result"
    }
   ],
   "source": [
    "from tensorflow import keras\n",
    "\n",
    "keras.utils.plot_model(model)"
   ]
  },
  {
   "cell_type": "markdown",
   "id": "82259390-db89-4548-8fa1-13392d6c126a",
   "metadata": {},
   "source": [
    "## Compile model"
   ]
  },
  {
   "cell_type": "code",
   "execution_count": 7,
   "id": "f8557841-0b26-4704-8e2f-1c0d269be26a",
   "metadata": {
    "execution": {
     "iopub.execute_input": "2022-10-13T03:42:17.561236Z",
     "iopub.status.busy": "2022-10-13T03:42:17.561084Z",
     "iopub.status.idle": "2022-10-13T03:42:17.576074Z",
     "shell.execute_reply": "2022-10-13T03:42:17.575659Z",
     "shell.execute_reply.started": "2022-10-13T03:42:17.561220Z"
    },
    "tags": []
   },
   "outputs": [],
   "source": [
    "def negative_loglikelihood(targets, estimated_distribution):\n",
    "    return -estimated_distribution.log_prob(targets)\n",
    "\n",
    "model.compile(\n",
    "    optimizer=keras.optimizers.RMSprop(learning_rate=0.001),\n",
    "    loss=negative_loglikelihood,\n",
    "    metrics=[keras.metrics.RootMeanSquaredError()],\n",
    ")"
   ]
  },
  {
   "cell_type": "markdown",
   "id": "61533754-fb5c-489b-8c17-73ac7e84700d",
   "metadata": {},
   "source": [
    "## Fit model"
   ]
  },
  {
   "cell_type": "code",
   "execution_count": 8,
   "id": "5f50ad3f-fcc6-4401-97a5-0ec694a1116c",
   "metadata": {
    "execution": {
     "iopub.execute_input": "2022-10-13T03:42:17.576814Z",
     "iopub.status.busy": "2022-10-13T03:42:17.576681Z",
     "iopub.status.idle": "2022-10-13T03:54:43.712499Z",
     "shell.execute_reply": "2022-10-13T03:54:43.712044Z",
     "shell.execute_reply.started": "2022-10-13T03:42:17.576801Z"
    },
    "tags": []
   },
   "outputs": [
    {
     "name": "stdout",
     "output_type": "stream",
     "text": [
      "CPU times: user 18min 39s, sys: 1min 18s, total: 19min 58s\n",
      "Wall time: 12min 26s\n"
     ]
    }
   ],
   "source": [
    "%%time\n",
    "hist = model.fit(\n",
    "    x=D_tr,\n",
    "    validation_data=D_te,\n",
    "    epochs=5_000, \n",
    "    verbose=0\n",
    ")"
   ]
  },
  {
   "cell_type": "markdown",
   "id": "a51d4e5a-f2a9-4695-a732-f162ded08509",
   "metadata": {},
   "source": [
    "## Evaluate"
   ]
  },
  {
   "cell_type": "code",
   "execution_count": 9,
   "id": "8ebee55b-5592-4d88-ac45-59cd0f332eff",
   "metadata": {
    "execution": {
     "iopub.execute_input": "2022-10-13T03:54:43.713210Z",
     "iopub.status.busy": "2022-10-13T03:54:43.713083Z",
     "iopub.status.idle": "2022-10-13T03:54:43.860035Z",
     "shell.execute_reply": "2022-10-13T03:54:43.859580Z",
     "shell.execute_reply.started": "2022-10-13T03:54:43.713197Z"
    },
    "tags": []
   },
   "outputs": [
    {
     "name": "stdout",
     "output_type": "stream",
     "text": [
      "mae_tr: 10.262, mae_te: 11.348\n"
     ]
    }
   ],
   "source": [
    "_, mae_tr = model.evaluate(D_tr, verbose=0)\n",
    "_, mae_te = model.evaluate(D_te, verbose=0)\n",
    "\n",
    "print(f'mae_tr: {round(mae_tr, 3)}, mae_te: {round(mae_te, 3)}')"
   ]
  },
  {
   "cell_type": "markdown",
   "id": "3e03a8c7-58e4-46b2-9426-3da4cdf94898",
   "metadata": {},
   "source": [
    "## Predictions"
   ]
  },
  {
   "cell_type": "code",
   "execution_count": 10,
   "id": "4a4f06b8-ec83-4b9f-9f7e-2e570f098cdf",
   "metadata": {
    "execution": {
     "iopub.execute_input": "2022-10-13T03:54:43.860865Z",
     "iopub.status.busy": "2022-10-13T03:54:43.860736Z",
     "iopub.status.idle": "2022-10-13T03:54:44.000940Z",
     "shell.execute_reply": "2022-10-13T03:54:44.000522Z",
     "shell.execute_reply.started": "2022-10-13T03:54:43.860847Z"
    },
    "tags": []
   },
   "outputs": [
    {
     "name": "stdout",
     "output_type": "stream",
     "text": [
      "Prediction mean: 29.12, stddev: 9.2, 95% CI: [11.08, 47.16] - Actual: 23.9\n",
      "Prediction mean: 27.48, stddev: 8.65, 95% CI: [10.53, 44.43] - Actual: 24.8\n",
      "Prediction mean: 24.11, stddev: 7.6, 95% CI: [9.21, 39.0] - Actual: 16.4\n",
      "Prediction mean: 29.07, stddev: 9.18, 95% CI: [11.07, 47.07] - Actual: 31.2\n",
      "Prediction mean: 21.92, stddev: 6.9, 95% CI: [8.4, 35.45] - Actual: 8.1\n",
      "Prediction mean: 23.01, stddev: 7.25, 95% CI: [8.81, 37.21] - Actual: 14.5\n",
      "Prediction mean: 30.02, stddev: 9.51, 95% CI: [11.39, 48.65] - Actual: 32.7\n",
      "Prediction mean: 24.44, stddev: 7.64, 95% CI: [9.47, 39.41] - Actual: 22.6\n",
      "Prediction mean: 22.76, stddev: 7.17, 95% CI: [8.71, 36.81] - Actual: 27.1\n",
      "Prediction mean: 23.25, stddev: 7.24, 95% CI: [9.05, 37.44] - Actual: 25.0\n"
     ]
    }
   ],
   "source": [
    "sample = 10\n",
    "examples, targets = list(D_te.unbatch().shuffle(256 * 10).batch(sample))[0]\n",
    "\n",
    "dist_pred = model(examples)\n",
    "mean_pred = dist_pred.mean().numpy().tolist()\n",
    "stdv_pred = dist_pred.stddev().numpy()\n",
    "\n",
    "upper = (mean_pred + (1.96 * stdv_pred)).tolist()\n",
    "lower = (mean_pred - (1.96 * stdv_pred)).tolist()\n",
    "stdv_pred = stdv_pred.tolist()\n",
    "\n",
    "for idx in range(sample):\n",
    "    print(\n",
    "        f'Prediction mean: {round(mean_pred[idx][0], 2)}, '\n",
    "        f'stddev: {round(stdv_pred[idx][0], 2)}, '\n",
    "        f'95% CI: [{round(lower[idx][0], 2)}, {round(upper[idx][0], 2)}]'\n",
    "        f' - Actual: {targets[idx]}'\n",
    "    )"
   ]
  },
  {
   "cell_type": "markdown",
   "id": "604ef72b-2372-459a-899f-304cc104e9ad",
   "metadata": {},
   "source": [
    "## Performance"
   ]
  },
  {
   "cell_type": "code",
   "execution_count": 11,
   "id": "aa1b35d7-1f6a-43a6-bccf-ece8ea3163d2",
   "metadata": {
    "execution": {
     "iopub.execute_input": "2022-10-13T03:54:44.001566Z",
     "iopub.status.busy": "2022-10-13T03:54:44.001469Z",
     "iopub.status.idle": "2022-10-13T04:00:17.177452Z",
     "shell.execute_reply": "2022-10-13T04:00:17.176951Z",
     "shell.execute_reply.started": "2022-10-13T03:54:44.001553Z"
    },
    "tags": []
   },
   "outputs": [],
   "source": [
    "SAMPLES = X_te.shape[0]\n",
    "ITERATIONS = 100\n",
    "\n",
    "test_iterator = tf.compat.v1.data.make_one_shot_iterator(D_te)\n",
    "X_true = np.empty(shape=(SAMPLES, len(FEATURE_NAMES)))\n",
    "Y_true = np.empty(shape=(SAMPLES, 1))\n",
    "Y_pred = np.empty(shape=(SAMPLES, 1, ITERATIONS))\n",
    "\n",
    "for i in range(SAMPLES):\n",
    "    features, labels = test_iterator.get_next()\n",
    "    X_true[i,:] = features\n",
    "    Y_true[i,:] = labels.numpy()\n",
    "    for k in range(ITERATIONS):\n",
    "        Y_pred[i,:,k] = model.predict(features, verbose=0)\n",
    "        \n",
    "Y_pred_m = np.mean(Y_pred, axis=-1)\n",
    "Y_pred_s = np.std(Y_pred, axis=-1)"
   ]
  },
  {
   "cell_type": "code",
   "execution_count": 43,
   "id": "c89cb64e-da65-4bbd-91f8-37a680feb62f",
   "metadata": {
    "execution": {
     "iopub.execute_input": "2022-10-13T04:15:57.493896Z",
     "iopub.status.busy": "2022-10-13T04:15:57.493714Z",
     "iopub.status.idle": "2022-10-13T04:15:57.500312Z",
     "shell.execute_reply": "2022-10-13T04:15:57.499935Z",
     "shell.execute_reply.started": "2022-10-13T04:15:57.493881Z"
    },
    "tags": []
   },
   "outputs": [
    {
     "data": {
      "text/plain": [
       "mae     4.911986\n",
       "rmse    6.642651\n",
       "rsq     0.441768\n",
       "dtype: float64"
      ]
     },
     "execution_count": 43,
     "metadata": {},
     "output_type": "execute_result"
    }
   ],
   "source": [
    "import pandas as pd\n",
    "from sklearn.metrics import mean_absolute_error, mean_squared_error, r2_score\n",
    "\n",
    "y_df = pd.DataFrame({\n",
    "    'y_true': Y_true.reshape(1, -1)[0],\n",
    "    'y_pred': Y_pred_m.reshape(1, -1)[0]\n",
    "})\n",
    "\n",
    "pd.Series({\n",
    "    'mae': mean_absolute_error(y_df['y_true'], y_df['y_pred']),\n",
    "    'rmse': mean_squared_error(y_df['y_true'], y_df['y_pred'], squared=False),\n",
    "    'rsq': r2_score(y_df['y_true'], y_df['y_pred'])\n",
    "})"
   ]
  },
  {
   "cell_type": "code",
   "execution_count": 44,
   "id": "18837cd6-8e40-435b-8828-89e663ed4cda",
   "metadata": {
    "execution": {
     "iopub.execute_input": "2022-10-13T04:15:57.961565Z",
     "iopub.status.busy": "2022-10-13T04:15:57.961381Z",
     "iopub.status.idle": "2022-10-13T04:15:57.966686Z",
     "shell.execute_reply": "2022-10-13T04:15:57.966274Z",
     "shell.execute_reply.started": "2022-10-13T04:15:57.961551Z"
    },
    "tags": []
   },
   "outputs": [
    {
     "data": {
      "text/html": [
       "<div>\n",
       "<style scoped>\n",
       "    .dataframe tbody tr th:only-of-type {\n",
       "        vertical-align: middle;\n",
       "    }\n",
       "\n",
       "    .dataframe tbody tr th {\n",
       "        vertical-align: top;\n",
       "    }\n",
       "\n",
       "    .dataframe thead th {\n",
       "        text-align: right;\n",
       "    }\n",
       "</style>\n",
       "<table border=\"1\" class=\"dataframe\">\n",
       "  <thead>\n",
       "    <tr style=\"text-align: right;\">\n",
       "      <th></th>\n",
       "      <th>y_true</th>\n",
       "      <th>y_pred</th>\n",
       "    </tr>\n",
       "  </thead>\n",
       "  <tbody>\n",
       "    <tr>\n",
       "      <th>y_true</th>\n",
       "      <td>1.000000</td>\n",
       "      <td>0.721327</td>\n",
       "    </tr>\n",
       "    <tr>\n",
       "      <th>y_pred</th>\n",
       "      <td>0.721327</td>\n",
       "      <td>1.000000</td>\n",
       "    </tr>\n",
       "  </tbody>\n",
       "</table>\n",
       "</div>"
      ],
      "text/plain": [
       "          y_true    y_pred\n",
       "y_true  1.000000  0.721327\n",
       "y_pred  0.721327  1.000000"
      ]
     },
     "execution_count": 44,
     "metadata": {},
     "output_type": "execute_result"
    }
   ],
   "source": [
    "y_df.corr()"
   ]
  },
  {
   "cell_type": "code",
   "execution_count": 45,
   "id": "bde4f8a4-53b2-473a-88af-a1099aa5a027",
   "metadata": {
    "execution": {
     "iopub.execute_input": "2022-10-13T04:15:58.529922Z",
     "iopub.status.busy": "2022-10-13T04:15:58.529800Z",
     "iopub.status.idle": "2022-10-13T04:15:58.602558Z",
     "shell.execute_reply": "2022-10-13T04:15:58.602159Z",
     "shell.execute_reply.started": "2022-10-13T04:15:58.529908Z"
    },
    "tags": []
   },
   "outputs": [
    {
     "data": {
      "image/png": "[encoded data removed]",
      "text/plain": [
       "<Figure size 640x480 with 1 Axes>"
      ]
     },
     "metadata": {},
     "output_type": "display_data"
    }
   ],
   "source": [
    "_ = y_df.plot(kind='scatter', x='y_true', y='y_pred')"
   ]
  },
  {
   "cell_type": "code",
   "execution_count": 40,
   "id": "15b1d60b-b23c-4dcb-a153-aad56392efa4",
   "metadata": {
    "execution": {
     "iopub.execute_input": "2022-10-13T04:15:30.965589Z",
     "iopub.status.busy": "2022-10-13T04:15:30.965408Z",
     "iopub.status.idle": "2022-10-13T04:15:30.971662Z",
     "shell.execute_reply": "2022-10-13T04:15:30.971354Z",
     "shell.execute_reply.started": "2022-10-13T04:15:30.965575Z"
    },
    "tags": []
   },
   "outputs": [],
   "source": [
    "y_df = pd.DataFrame({\n",
    "    'y_true': Y_true.reshape(1, -1)[0],\n",
    "    'y_pred': Y_pred_m.reshape(1, -1)[0],\n",
    "    'y_std': Y_pred_s.reshape(1, -1)[0]\n",
    "    }) \\\n",
    "    .assign(\n",
    "        y_lower=lambda d: d['y_pred'] - d['y_std'],\n",
    "        y_upper=lambda d: d['y_pred'] + d['y_std']\n",
    "    ) \\\n",
    "    .sort_values(['y_true', 'y_pred', 'y_std']) \\\n",
    "    .reset_index(drop=True)"
   ]
  },
  {
   "cell_type": "code",
   "execution_count": 42,
   "id": "14169dc0-4a38-4606-8faa-45a6658b50f0",
   "metadata": {
    "execution": {
     "iopub.execute_input": "2022-10-13T04:15:31.976575Z",
     "iopub.status.busy": "2022-10-13T04:15:31.976422Z",
     "iopub.status.idle": "2022-10-13T04:15:32.056938Z",
     "shell.execute_reply": "2022-10-13T04:15:32.056531Z",
     "shell.execute_reply.started": "2022-10-13T04:15:31.976557Z"
    },
    "tags": []
   },
   "outputs": [
    {
     "data": {
      "text/plain": [
       "<matplotlib.collections.PolyCollection at 0x7f4a1cc81130>"
      ]
     },
     "execution_count": 42,
     "metadata": {},
     "output_type": "execute_result"
    },
    {
     "data": {
      "image/png": "[encoded data removed]",
      "text/plain": [
       "<Figure size 640x480 with 1 Axes>"
      ]
     },
     "metadata": {},
     "output_type": "display_data"
    }
   ],
   "source": [
    "ax = y_df.plot(kind='scatter', x='y_true', y='y_pred', color='blue', alpha=0.5)\n",
    "ax.fill_between(y_df['y_true'], y_df['y_lower'], y_df['y_upper'], color='red', alpha=0.1)"
   ]
  },
  {
   "cell_type": "code",
   "execution_count": null,
   "id": "249f72ca-5972-4709-9597-0e1969d72a5e",
   "metadata": {},
   "outputs": [],
   "source": []
  }
 ],
 "metadata": {
  "kernelspec": {
   "display_name": "tf",
   "language": "python",
   "name": "tf"
  },
  "language_info": {
   "codemirror_mode": {
    "name": "ipython",
    "version": 3
   },
   "file_extension": ".py",
   "mimetype": "text/x-python",
   "name": "python",
   "nbconvert_exporter": "python",
   "pygments_lexer": "ipython3",
   "version": "3.9.13"
  },
  "widgets": {
   "application/vnd.jupyter.widget-state+json": {
    "state": {},
    "version_major": 2,
    "version_minor": 0
   }
  }
 },
 "nbformat": 4,
 "nbformat_minor": 5
}
