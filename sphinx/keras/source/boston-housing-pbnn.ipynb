{
 "cells": [
  {
   "cell_type": "markdown",
   "id": "2120afee-2813-4913-9065-e6ef11021e44",
   "metadata": {},
   "source": [
    "# Boston Housing, Probabilistic Bayesian Neural Networks"
   ]
  },
  {
   "cell_type": "markdown",
   "id": "e5a4493e-e09e-4c6e-a109-9bbd7ee918b5",
   "metadata": {},
   "source": [
    "## Load data"
   ]
  },
  {
   "cell_type": "code",
   "execution_count": 1,
   "id": "832a7dc9-a752-41ea-9eef-5a31ee5daa4b",
   "metadata": {
    "execution": {
     "iopub.execute_input": "2022-10-13T14:27:35.049734Z",
     "iopub.status.busy": "2022-10-13T14:27:35.049453Z",
     "iopub.status.idle": "2022-10-13T14:27:36.192038Z",
     "shell.execute_reply": "2022-10-13T14:27:36.191602Z",
     "shell.execute_reply.started": "2022-10-13T14:27:35.049674Z"
    },
    "tags": []
   },
   "outputs": [
    {
     "name": "stderr",
     "output_type": "stream",
     "text": [
      "2022-10-13 10:27:35.095742: I tensorflow/core/platform/cpu_feature_guard.cc:193] This TensorFlow binary is optimized with oneAPI Deep Neural Network Library (oneDNN) to use the following CPU instructions in performance-critical operations:  AVX2 FMA\n",
      "To enable them in other operations, rebuild TensorFlow with the appropriate compiler flags.\n",
      "2022-10-13 10:27:35.199312: E tensorflow/stream_executor/cuda/cuda_blas.cc:2981] Unable to register cuBLAS factory: Attempting to register factory for plugin cuBLAS when one has already been registered\n",
      "2022-10-13 10:27:35.655399: W tensorflow/stream_executor/platform/default/dso_loader.cc:64] Could not load dynamic library 'libnvinfer.so.7'; dlerror: libnvinfer.so.7: cannot open shared object file: No such file or directory; LD_LIBRARY_PATH: /usr/local/cuda-11.7/lib64\n",
      "2022-10-13 10:27:35.655481: W tensorflow/stream_executor/platform/default/dso_loader.cc:64] Could not load dynamic library 'libnvinfer_plugin.so.7'; dlerror: libnvinfer_plugin.so.7: cannot open shared object file: No such file or directory; LD_LIBRARY_PATH: /usr/local/cuda-11.7/lib64\n",
      "2022-10-13 10:27:35.655486: W tensorflow/compiler/tf2tensorrt/utils/py_utils.cc:38] TF-TRT Warning: Cannot dlopen some TensorRT libraries. If you would like to use Nvidia GPU with TensorRT, please make sure the missing libraries mentioned above are installed properly.\n"
     ]
    },
    {
     "data": {
      "text/plain": [
       "((506, 13), (506,))"
      ]
     },
     "execution_count": 1,
     "metadata": {},
     "output_type": "execute_result"
    }
   ],
   "source": [
    "import tensorflow as tf\n",
    "\n",
    "(X, y), _ = tf.keras.datasets.boston_housing.load_data(\n",
    "    path='boston_housing.npz', \n",
    "    test_split=0.0, \n",
    "    seed=37\n",
    ")\n",
    "\n",
    "X.shape, y.shape"
   ]
  },
  {
   "cell_type": "code",
   "execution_count": 2,
   "id": "01b38892-a905-4789-bddd-4c6c74fc6560",
   "metadata": {
    "execution": {
     "iopub.execute_input": "2022-10-13T14:27:38.748062Z",
     "iopub.status.busy": "2022-10-13T14:27:38.747915Z",
     "iopub.status.idle": "2022-10-13T14:27:38.755543Z",
     "shell.execute_reply": "2022-10-13T14:27:38.755120Z",
     "shell.execute_reply.started": "2022-10-13T14:27:38.748036Z"
    },
    "tags": []
   },
   "outputs": [
    {
     "data": {
      "text/plain": [
       "((404, 13), (404,), (50, 13), (50,), (52, 13), (52,))"
      ]
     },
     "execution_count": 2,
     "metadata": {},
     "output_type": "execute_result"
    }
   ],
   "source": [
    "import numpy as np\n",
    "\n",
    "def split(X, y, tr=0.8, tu=0.1, te=0.1, seed=37):\n",
    "    N = len(X)\n",
    "    indices = np.arange(N)\n",
    "    \n",
    "    rng = np.random.RandomState(seed)\n",
    "    rng.shuffle(indices)\n",
    "    \n",
    "    X = X[indices]\n",
    "    y = y[indices]\n",
    "\n",
    "    n_tr = int(N * tr)\n",
    "    n_tu = int(N * tu)\n",
    "    n_te = int(N * te)\n",
    "    \n",
    "    idx_tr = 0, n_tr\n",
    "    idx_tu = n_tr, n_tr + n_tu\n",
    "    idx_te = n_tr + n_tu, N\n",
    "    \n",
    "    X_tr = np.array(X[idx_tr[0]:idx_tr[1]])\n",
    "    X_tu = np.array(X[idx_tu[0]:idx_tu[1]])\n",
    "    X_te = np.array(X[idx_te[0]:idx_te[1]])\n",
    "    \n",
    "    y_tr = np.array(y[idx_tr[0]:idx_tr[1]])\n",
    "    y_tu = np.array(y[idx_tu[0]:idx_tu[1]])\n",
    "    y_te = np.array(y[idx_te[0]:idx_te[1]])\n",
    "    \n",
    "    return X_tr, y_tr, X_tu, y_tu, X_te, y_te\n",
    "    \n",
    "X_tr, y_tr, X_tu, y_tu, X_te, y_te = split(X, y)\n",
    "\n",
    "X_tr.shape, y_tr.shape, X_tu.shape, y_tu.shape, X_te.shape, y_te.shape"
   ]
  },
  {
   "cell_type": "markdown",
   "id": "35724806-0304-43b5-a670-3eb2487eb514",
   "metadata": {},
   "source": [
    "## Scale data"
   ]
  },
  {
   "cell_type": "code",
   "execution_count": 3,
   "id": "ecb3f177-1f78-4dbd-bc7f-370a59c1a0b2",
   "metadata": {
    "execution": {
     "iopub.execute_input": "2022-10-13T14:28:10.991442Z",
     "iopub.status.busy": "2022-10-13T14:28:10.991263Z",
     "iopub.status.idle": "2022-10-13T14:28:11.124047Z",
     "shell.execute_reply": "2022-10-13T14:28:11.123602Z",
     "shell.execute_reply.started": "2022-10-13T14:28:10.991415Z"
    },
    "tags": []
   },
   "outputs": [
    {
     "data": {
      "text/plain": [
       "((404, 13), (404,), (50, 13), (50,), (52, 13), (52,))"
      ]
     },
     "execution_count": 3,
     "metadata": {},
     "output_type": "execute_result"
    }
   ],
   "source": [
    "from sklearn.preprocessing import StandardScaler\n",
    "\n",
    "scaler = StandardScaler()\n",
    "scaler.fit(X_tr)\n",
    "\n",
    "X_tr = scaler.transform(X_tr)\n",
    "X_tu = scaler.transform(X_tu)\n",
    "X_te = scaler.transform(X_te)\n",
    "\n",
    "X_tr.shape, y_tr.shape, X_tu.shape, y_tu.shape, X_te.shape, y_te.shape"
   ]
  },
  {
   "cell_type": "markdown",
   "id": "d92d1ce9-9c83-4eae-b0e4-d1ee5d2cfe66",
   "metadata": {},
   "source": [
    "## Prepare data"
   ]
  },
  {
   "cell_type": "code",
   "execution_count": 4,
   "id": "de5238ad-98b4-4999-ad6a-b49a1e308b23",
   "metadata": {
    "execution": {
     "iopub.execute_input": "2022-10-13T14:29:03.144386Z",
     "iopub.status.busy": "2022-10-13T14:29:03.144208Z",
     "iopub.status.idle": "2022-10-13T14:29:03.761709Z",
     "shell.execute_reply": "2022-10-13T14:29:03.761247Z",
     "shell.execute_reply.started": "2022-10-13T14:29:03.144359Z"
    },
    "tags": []
   },
   "outputs": [
    {
     "name": "stderr",
     "output_type": "stream",
     "text": [
      "2022-10-13 10:29:03.186989: I tensorflow/stream_executor/cuda/cuda_gpu_executor.cc:980] successful NUMA node read from SysFS had negative value (-1), but there must be at least one NUMA node, so returning NUMA node zero\n",
      "2022-10-13 10:29:03.210276: I tensorflow/stream_executor/cuda/cuda_gpu_executor.cc:980] successful NUMA node read from SysFS had negative value (-1), but there must be at least one NUMA node, so returning NUMA node zero\n",
      "2022-10-13 10:29:03.210440: I tensorflow/stream_executor/cuda/cuda_gpu_executor.cc:980] successful NUMA node read from SysFS had negative value (-1), but there must be at least one NUMA node, so returning NUMA node zero\n",
      "2022-10-13 10:29:03.210813: I tensorflow/core/platform/cpu_feature_guard.cc:193] This TensorFlow binary is optimized with oneAPI Deep Neural Network Library (oneDNN) to use the following CPU instructions in performance-critical operations:  AVX2 FMA\n",
      "To enable them in other operations, rebuild TensorFlow with the appropriate compiler flags.\n",
      "2022-10-13 10:29:03.211819: I tensorflow/stream_executor/cuda/cuda_gpu_executor.cc:980] successful NUMA node read from SysFS had negative value (-1), but there must be at least one NUMA node, so returning NUMA node zero\n",
      "2022-10-13 10:29:03.211968: I tensorflow/stream_executor/cuda/cuda_gpu_executor.cc:980] successful NUMA node read from SysFS had negative value (-1), but there must be at least one NUMA node, so returning NUMA node zero\n",
      "2022-10-13 10:29:03.212091: I tensorflow/stream_executor/cuda/cuda_gpu_executor.cc:980] successful NUMA node read from SysFS had negative value (-1), but there must be at least one NUMA node, so returning NUMA node zero\n",
      "2022-10-13 10:29:03.626666: I tensorflow/stream_executor/cuda/cuda_gpu_executor.cc:980] successful NUMA node read from SysFS had negative value (-1), but there must be at least one NUMA node, so returning NUMA node zero\n",
      "2022-10-13 10:29:03.626834: I tensorflow/stream_executor/cuda/cuda_gpu_executor.cc:980] successful NUMA node read from SysFS had negative value (-1), but there must be at least one NUMA node, so returning NUMA node zero\n",
      "2022-10-13 10:29:03.626958: I tensorflow/stream_executor/cuda/cuda_gpu_executor.cc:980] successful NUMA node read from SysFS had negative value (-1), but there must be at least one NUMA node, so returning NUMA node zero\n",
      "2022-10-13 10:29:03.627060: I tensorflow/core/common_runtime/gpu/gpu_device.cc:1616] Created device /job:localhost/replica:0/task:0/device:GPU:0 with 9457 MB memory:  -> device: 0, name: NVIDIA GeForce RTX 2080 Ti, pci bus id: 0000:01:00.0, compute capability: 7.5\n"
     ]
    }
   ],
   "source": [
    "from tensorflow.data import Dataset\n",
    "\n",
    "SAMPLES_TR = X_tr.shape[0]\n",
    "SAMPLES_TU = X_tu.shape[0]\n",
    "SAMPLES_TE = X_te.shape[0]\n",
    "\n",
    "N_BATCHES = 10\n",
    "BATCH_SIZE_TR = np.floor(SAMPLES_TR / N_BATCHES)\n",
    "BATCH_SIZE_TU = 1\n",
    "BATCH_SIZE_TE = 1\n",
    "\n",
    "D_tr = Dataset.from_tensor_slices((X_tr, y_tr)) \\\n",
    "    .shuffle(SAMPLES_TR, reshuffle_each_iteration=True) \\\n",
    "    .batch(BATCH_SIZE_TR)\n",
    "\n",
    "D_tu = Dataset.from_tensor_slices((X_tu, y_tu)) \\\n",
    "    .shuffle(SAMPLES_TU) \\\n",
    "    .batch(BATCH_SIZE_TU)\n",
    "\n",
    "D_te = Dataset.from_tensor_slices((X_te, y_te)) \\\n",
    "    .shuffle(SAMPLES_TE) \\\n",
    "    .batch(BATCH_SIZE_TE)"
   ]
  },
  {
   "cell_type": "markdown",
   "id": "6697f132-932f-4732-86ee-26f5568da2ca",
   "metadata": {},
   "source": [
    "## Model"
   ]
  },
  {
   "cell_type": "code",
   "execution_count": 5,
   "id": "fc7eca86-8332-455b-8249-970eea117d97",
   "metadata": {
    "execution": {
     "iopub.execute_input": "2022-10-13T14:29:09.897057Z",
     "iopub.status.busy": "2022-10-13T14:29:09.896882Z",
     "iopub.status.idle": "2022-10-13T14:29:10.531223Z",
     "shell.execute_reply": "2022-10-13T14:29:10.530765Z",
     "shell.execute_reply.started": "2022-10-13T14:29:09.897018Z"
    },
    "tags": []
   },
   "outputs": [
    {
     "name": "stdout",
     "output_type": "stream",
     "text": [
      "WARNING:tensorflow:From /home/super/anaconda3/envs/tf/lib/python3.9/site-packages/tensorflow_probability/python/distributions/distribution.py:342: calling MultivariateNormalDiag.__init__ (from tensorflow_probability.python.distributions.mvn_diag) with scale_identity_multiplier is deprecated and will be removed after 2020-01-01.\n",
      "Instructions for updating:\n",
      "`scale_identity_multiplier` is deprecated; please combine it into `scale_diag` directly instead.\n"
     ]
    }
   ],
   "source": [
    "from tensorflow import keras\n",
    "from tensorflow.keras.models import Sequential\n",
    "from tensorflow.keras.layers import InputLayer, Dense, BatchNormalization\n",
    "import tensorflow_probability as tfp\n",
    "\n",
    "FEATURE_NAMES = [\n",
    "    'CRIM',\n",
    "    'ZN',\n",
    "    'INDUS',\n",
    "    'CHAS',\n",
    "    'NOX',\n",
    "    'RM',\n",
    "    'AGE',\n",
    "    'DIS',\n",
    "    'RAD',\n",
    "    'TAX',\n",
    "    'PTRATIO',\n",
    "    'B',\n",
    "    'LSTAT'\n",
    "]\n",
    "\n",
    "def prior(kernel_size, bias_size, dtype=None):\n",
    "    n = kernel_size + bias_size\n",
    "    prior_model = keras.Sequential(\n",
    "        [\n",
    "            tfp.layers.DistributionLambda(\n",
    "                lambda t: tfp.distributions.MultivariateNormalDiag(\n",
    "                    loc=tf.zeros(n), scale_diag=tf.ones(n)\n",
    "                )\n",
    "            )\n",
    "        ]\n",
    "    )\n",
    "    return prior_model\n",
    "\n",
    "def posterior(kernel_size, bias_size, dtype=None):\n",
    "    n = kernel_size + bias_size\n",
    "    posterior_model = keras.Sequential(\n",
    "        [\n",
    "            tfp.layers.VariableLayer(\n",
    "                tfp.layers.MultivariateNormalTriL.params_size(n), dtype=dtype\n",
    "            ),\n",
    "            tfp.layers.MultivariateNormalTriL(n),\n",
    "        ]\n",
    "    )\n",
    "    return posterior_model\n",
    "\n",
    "def get_model():\n",
    "    prior = tfp.distributions.Independent(\n",
    "        tfp.distributions.Normal(loc=tf.zeros(1, dtype=tf.float32), scale=1.0), \n",
    "        reinterpreted_batch_ndims=1\n",
    "    )\n",
    "    \n",
    "    model = Sequential([\n",
    "        InputLayer(input_shape=(len(FEATURE_NAMES),), name='input'),\n",
    "        Dense(10, activation='relu', name='dense_1'),\n",
    "        Dense(\n",
    "            tfp.layers.MultivariateNormalTriL.params_size(1), \n",
    "            activation=None, \n",
    "            name='distribution_weights'\n",
    "        ),\n",
    "        tfp.layers.MultivariateNormalTriL(\n",
    "            1, \n",
    "            activity_regularizer=tfp.layers.KLDivergenceRegularizer(\n",
    "                prior, \n",
    "                weight=1/N_BATCHES\n",
    "            ), \n",
    "            name='output'\n",
    "        )\n",
    "    ], name='model')\n",
    "    \n",
    "    return model\n",
    "\n",
    "def get_model(train_size=BATCH_SIZE_TR):\n",
    "    model = Sequential([\n",
    "        InputLayer(input_shape=(len(FEATURE_NAMES),), name='input'),\n",
    "        BatchNormalization(),\n",
    "        tfp.layers.DenseVariational(\n",
    "            units=8,\n",
    "            make_prior_fn=prior,\n",
    "            make_posterior_fn=posterior,\n",
    "            kl_weight=1 / train_size,\n",
    "            activation='sigmoid',\n",
    "        ),\n",
    "        tfp.layers.DenseVariational(\n",
    "            units=8,\n",
    "            make_prior_fn=prior,\n",
    "            make_posterior_fn=posterior,\n",
    "            kl_weight=1 / train_size,\n",
    "            activation='sigmoid',\n",
    "        ),\n",
    "        Dense(units=2),\n",
    "        tfp.layers.IndependentNormal(1)\n",
    "    ], name='model')\n",
    "    \n",
    "    return model\n",
    "\n",
    "model = get_model()"
   ]
  },
  {
   "cell_type": "code",
   "execution_count": 6,
   "id": "bbe8a4c5-346b-472c-95a6-26ad07e99dea",
   "metadata": {
    "execution": {
     "iopub.execute_input": "2022-10-13T14:29:11.364678Z",
     "iopub.status.busy": "2022-10-13T14:29:11.364511Z",
     "iopub.status.idle": "2022-10-13T14:29:11.376070Z",
     "shell.execute_reply": "2022-10-13T14:29:11.375596Z",
     "shell.execute_reply.started": "2022-10-13T14:29:11.364652Z"
    },
    "tags": []
   },
   "outputs": [
    {
     "name": "stdout",
     "output_type": "stream",
     "text": [
      "Model: \"model\"\n",
      "_________________________________________________________________\n",
      " Layer (type)                Output Shape              Param #   \n",
      "=================================================================\n",
      " batch_normalization (BatchN  (None, 13)               52        \n",
      " ormalization)                                                   \n",
      "                                                                 \n",
      " dense_variational (DenseVar  (None, 8)                6440      \n",
      " iational)                                                       \n",
      "                                                                 \n",
      " dense_variational_1 (DenseV  (None, 8)                2700      \n",
      " ariational)                                                     \n",
      "                                                                 \n",
      " dense (Dense)               (None, 2)                 18        \n",
      "                                                                 \n",
      " independent_normal (Indepen  ((None, 1),              0         \n",
      " dentNormal)                  (None, 1))                         \n",
      "                                                                 \n",
      "=================================================================\n",
      "Total params: 9,210\n",
      "Trainable params: 9,184\n",
      "Non-trainable params: 26\n",
      "_________________________________________________________________\n"
     ]
    }
   ],
   "source": [
    "model.summary()"
   ]
  },
  {
   "cell_type": "code",
   "execution_count": 7,
   "id": "042d606d-b1fe-4d36-ab2d-3db2da1c1439",
   "metadata": {
    "execution": {
     "iopub.execute_input": "2022-10-13T14:29:13.249694Z",
     "iopub.status.busy": "2022-10-13T14:29:13.249519Z",
     "iopub.status.idle": "2022-10-13T14:29:13.338179Z",
     "shell.execute_reply": "2022-10-13T14:29:13.337722Z",
     "shell.execute_reply.started": "2022-10-13T14:29:13.249668Z"
    },
    "tags": []
   },
   "outputs": [
    {
     "data": {
      "image/png": "[encoded data removed]",
      "text/plain": [
       "<IPython.core.display.Image object>"
      ]
     },
     "execution_count": 7,
     "metadata": {},
     "output_type": "execute_result"
    }
   ],
   "source": [
    "from tensorflow import keras\n",
    "\n",
    "keras.utils.plot_model(model)"
   ]
  },
  {
   "cell_type": "markdown",
   "id": "82259390-db89-4548-8fa1-13392d6c126a",
   "metadata": {},
   "source": [
    "## Compile model"
   ]
  },
  {
   "cell_type": "code",
   "execution_count": 8,
   "id": "f8557841-0b26-4704-8e2f-1c0d269be26a",
   "metadata": {
    "execution": {
     "iopub.execute_input": "2022-10-13T14:29:15.266410Z",
     "iopub.status.busy": "2022-10-13T14:29:15.266244Z",
     "iopub.status.idle": "2022-10-13T14:29:15.281554Z",
     "shell.execute_reply": "2022-10-13T14:29:15.281106Z",
     "shell.execute_reply.started": "2022-10-13T14:29:15.266383Z"
    },
    "tags": []
   },
   "outputs": [],
   "source": [
    "def negative_loglikelihood(targets, estimated_distribution):\n",
    "    return -estimated_distribution.log_prob(targets)\n",
    "\n",
    "model.compile(\n",
    "    optimizer=keras.optimizers.RMSprop(learning_rate=0.001),\n",
    "    loss=negative_loglikelihood,\n",
    "    metrics=[keras.metrics.RootMeanSquaredError()],\n",
    ")"
   ]
  },
  {
   "cell_type": "markdown",
   "id": "61533754-fb5c-489b-8c17-73ac7e84700d",
   "metadata": {},
   "source": [
    "## Fit model"
   ]
  },
  {
   "cell_type": "code",
   "execution_count": 9,
   "id": "5f50ad3f-fcc6-4401-97a5-0ec694a1116c",
   "metadata": {
    "execution": {
     "iopub.execute_input": "2022-10-13T14:29:33.725721Z",
     "iopub.status.busy": "2022-10-13T14:29:33.725544Z",
     "iopub.status.idle": "2022-10-13T14:37:06.348593Z",
     "shell.execute_reply": "2022-10-13T14:37:06.348123Z",
     "shell.execute_reply.started": "2022-10-13T14:29:33.725695Z"
    },
    "tags": []
   },
   "outputs": [
    {
     "name": "stdout",
     "output_type": "stream",
     "text": [
      "CPU times: user 11min 18s, sys: 49.2 s, total: 12min 7s\n",
      "Wall time: 7min 32s\n"
     ]
    }
   ],
   "source": [
    "%%time\n",
    "hist = model.fit(\n",
    "    x=D_tr,\n",
    "    validation_data=D_tu,\n",
    "    epochs=5_000, \n",
    "    verbose=0\n",
    ")"
   ]
  },
  {
   "cell_type": "markdown",
   "id": "a51d4e5a-f2a9-4695-a732-f162ded08509",
   "metadata": {},
   "source": [
    "## Evaluate"
   ]
  },
  {
   "cell_type": "code",
   "execution_count": 10,
   "id": "8ebee55b-5592-4d88-ac45-59cd0f332eff",
   "metadata": {
    "execution": {
     "iopub.execute_input": "2022-10-13T14:39:22.984771Z",
     "iopub.status.busy": "2022-10-13T14:39:22.984530Z",
     "iopub.status.idle": "2022-10-13T14:39:23.168875Z",
     "shell.execute_reply": "2022-10-13T14:39:23.168351Z",
     "shell.execute_reply.started": "2022-10-13T14:39:22.984745Z"
    },
    "tags": []
   },
   "outputs": [
    {
     "data": {
      "text/plain": [
       "mae_tr    10.770439\n",
       "mae_tu     9.368629\n",
       "mae_te     9.837456\n",
       "dtype: float64"
      ]
     },
     "execution_count": 10,
     "metadata": {},
     "output_type": "execute_result"
    }
   ],
   "source": [
    "import pandas as pd\n",
    "\n",
    "_, mae_tr = model.evaluate(D_tr, verbose=0)\n",
    "_, mae_tu = model.evaluate(D_tu, verbose=0)\n",
    "_, mae_te = model.evaluate(D_te, verbose=0)\n",
    "\n",
    "pd.Series({\n",
    "    'mae_tr': mae_tr,\n",
    "    'mae_tu': mae_tu,\n",
    "    'mae_te': mae_te\n",
    "})"
   ]
  },
  {
   "cell_type": "markdown",
   "id": "3e03a8c7-58e4-46b2-9426-3da4cdf94898",
   "metadata": {},
   "source": [
    "## Predictions"
   ]
  },
  {
   "cell_type": "code",
   "execution_count": 11,
   "id": "4a4f06b8-ec83-4b9f-9f7e-2e570f098cdf",
   "metadata": {
    "execution": {
     "iopub.execute_input": "2022-10-13T14:39:31.016027Z",
     "iopub.status.busy": "2022-10-13T14:39:31.015846Z",
     "iopub.status.idle": "2022-10-13T14:39:31.162985Z",
     "shell.execute_reply": "2022-10-13T14:39:31.162534Z",
     "shell.execute_reply.started": "2022-10-13T14:39:31.016000Z"
    },
    "tags": []
   },
   "outputs": [
    {
     "name": "stdout",
     "output_type": "stream",
     "text": [
      "Prediction mean: 21.75, stddev: 7.0, 95% CI: [8.03, 35.47] - Actual: 22.2\n",
      "Prediction mean: 27.17, stddev: 8.68, 95% CI: [10.16, 44.19] - Actual: 32.9\n",
      "Prediction mean: 27.32, stddev: 8.73, 95% CI: [10.21, 44.44] - Actual: 31.5\n",
      "Prediction mean: 27.23, stddev: 8.7, 95% CI: [10.18, 44.28] - Actual: 33.1\n",
      "Prediction mean: 23.53, stddev: 7.55, 95% CI: [8.74, 38.33] - Actual: 20.9\n",
      "Prediction mean: 19.17, stddev: 6.14, 95% CI: [7.13, 31.2] - Actual: 17.1\n",
      "Prediction mean: 22.58, stddev: 7.27, 95% CI: [8.33, 36.82] - Actual: 18.6\n",
      "Prediction mean: 20.23, stddev: 6.5, 95% CI: [7.49, 32.97] - Actual: 20.8\n",
      "Prediction mean: 19.06, stddev: 6.1, 95% CI: [7.1, 31.02] - Actual: 17.8\n",
      "Prediction mean: 25.7, stddev: 8.23, 95% CI: [9.56, 41.83] - Actual: 22.9\n"
     ]
    }
   ],
   "source": [
    "sample = 10\n",
    "examples, targets = list(D_te.unbatch().shuffle(256 * 10).batch(sample))[0]\n",
    "\n",
    "dist_pred = model(examples)\n",
    "mean_pred = dist_pred.mean().numpy().tolist()\n",
    "stdv_pred = dist_pred.stddev().numpy()\n",
    "\n",
    "upper = (mean_pred + (1.96 * stdv_pred)).tolist()\n",
    "lower = (mean_pred - (1.96 * stdv_pred)).tolist()\n",
    "stdv_pred = stdv_pred.tolist()\n",
    "\n",
    "for idx in range(sample):\n",
    "    print(\n",
    "        f'Prediction mean: {round(mean_pred[idx][0], 2)}, '\n",
    "        f'stddev: {round(stdv_pred[idx][0], 2)}, '\n",
    "        f'95% CI: [{round(lower[idx][0], 2)}, {round(upper[idx][0], 2)}]'\n",
    "        f' - Actual: {targets[idx]}'\n",
    "    )"
   ]
  },
  {
   "cell_type": "markdown",
   "id": "604ef72b-2372-459a-899f-304cc104e9ad",
   "metadata": {},
   "source": [
    "## Performance"
   ]
  },
  {
   "cell_type": "code",
   "execution_count": 12,
   "id": "aa1b35d7-1f6a-43a6-bccf-ece8ea3163d2",
   "metadata": {
    "execution": {
     "iopub.execute_input": "2022-10-13T14:39:36.670962Z",
     "iopub.status.busy": "2022-10-13T14:39:36.670784Z",
     "iopub.status.idle": "2022-10-13T14:42:27.447566Z",
     "shell.execute_reply": "2022-10-13T14:42:27.447212Z",
     "shell.execute_reply.started": "2022-10-13T14:39:36.670936Z"
    },
    "tags": []
   },
   "outputs": [],
   "source": [
    "SAMPLES = X_te.shape[0]\n",
    "ITERATIONS = 100\n",
    "\n",
    "test_iterator = tf.compat.v1.data.make_one_shot_iterator(D_te)\n",
    "X_true = np.empty(shape=(SAMPLES, len(FEATURE_NAMES)))\n",
    "Y_true = np.empty(shape=(SAMPLES, 1))\n",
    "Y_pred = np.empty(shape=(SAMPLES, 1, ITERATIONS))\n",
    "\n",
    "for i in range(SAMPLES):\n",
    "    features, labels = test_iterator.get_next()\n",
    "    X_true[i,:] = features\n",
    "    Y_true[i,:] = labels.numpy()\n",
    "    for k in range(ITERATIONS):\n",
    "        Y_pred[i,:,k] = model.predict(features, verbose=0)\n",
    "        \n",
    "Y_pred_m = np.mean(Y_pred, axis=-1)\n",
    "Y_pred_s = np.std(Y_pred, axis=-1)"
   ]
  },
  {
   "cell_type": "code",
   "execution_count": 13,
   "id": "c89cb64e-da65-4bbd-91f8-37a680feb62f",
   "metadata": {
    "execution": {
     "iopub.execute_input": "2022-10-13T14:42:27.448395Z",
     "iopub.status.busy": "2022-10-13T14:42:27.448262Z",
     "iopub.status.idle": "2022-10-13T14:42:27.462688Z",
     "shell.execute_reply": "2022-10-13T14:42:27.462289Z",
     "shell.execute_reply.started": "2022-10-13T14:42:27.448381Z"
    },
    "tags": []
   },
   "outputs": [
    {
     "data": {
      "text/plain": [
       "mae     4.586565\n",
       "rmse    6.198089\n",
       "rsq     0.436954\n",
       "dtype: float64"
      ]
     },
     "execution_count": 13,
     "metadata": {},
     "output_type": "execute_result"
    }
   ],
   "source": [
    "from sklearn.metrics import mean_absolute_error, mean_squared_error, r2_score\n",
    "\n",
    "y_df = pd.DataFrame({\n",
    "    'y_true': Y_true.reshape(1, -1)[0],\n",
    "    'y_pred': Y_pred_m.reshape(1, -1)[0],\n",
    "    'y_std': Y_pred_s.reshape(1, -1)[0]\n",
    "    }) \\\n",
    "    .assign(\n",
    "        y_lower=lambda d: d['y_pred'] - d['y_std'],\n",
    "        y_upper=lambda d: d['y_pred'] + d['y_std']\n",
    "    ) \\\n",
    "    .sort_values(['y_true', 'y_pred', 'y_std']) \\\n",
    "    .reset_index(drop=True)\n",
    "\n",
    "pd.Series({\n",
    "    'mae': mean_absolute_error(y_df['y_true'], y_df['y_pred']),\n",
    "    'rmse': mean_squared_error(y_df['y_true'], y_df['y_pred'], squared=False),\n",
    "    'rsq': r2_score(y_df['y_true'], y_df['y_pred'])\n",
    "})"
   ]
  },
  {
   "cell_type": "code",
   "execution_count": 14,
   "id": "18837cd6-8e40-435b-8828-89e663ed4cda",
   "metadata": {
    "execution": {
     "iopub.execute_input": "2022-10-13T14:42:27.463267Z",
     "iopub.status.busy": "2022-10-13T14:42:27.463172Z",
     "iopub.status.idle": "2022-10-13T14:42:27.478821Z",
     "shell.execute_reply": "2022-10-13T14:42:27.478430Z",
     "shell.execute_reply.started": "2022-10-13T14:42:27.463254Z"
    },
    "tags": []
   },
   "outputs": [
    {
     "data": {
      "text/html": [
       "<div>\n",
       "<style scoped>\n",
       "    .dataframe tbody tr th:only-of-type {\n",
       "        vertical-align: middle;\n",
       "    }\n",
       "\n",
       "    .dataframe tbody tr th {\n",
       "        vertical-align: top;\n",
       "    }\n",
       "\n",
       "    .dataframe thead th {\n",
       "        text-align: right;\n",
       "    }\n",
       "</style>\n",
       "<table border=\"1\" class=\"dataframe\">\n",
       "  <thead>\n",
       "    <tr style=\"text-align: right;\">\n",
       "      <th></th>\n",
       "      <th>y_true</th>\n",
       "      <th>y_pred</th>\n",
       "    </tr>\n",
       "  </thead>\n",
       "  <tbody>\n",
       "    <tr>\n",
       "      <th>y_true</th>\n",
       "      <td>1.000000</td>\n",
       "      <td>0.690947</td>\n",
       "    </tr>\n",
       "    <tr>\n",
       "      <th>y_pred</th>\n",
       "      <td>0.690947</td>\n",
       "      <td>1.000000</td>\n",
       "    </tr>\n",
       "  </tbody>\n",
       "</table>\n",
       "</div>"
      ],
      "text/plain": [
       "          y_true    y_pred\n",
       "y_true  1.000000  0.690947\n",
       "y_pred  0.690947  1.000000"
      ]
     },
     "execution_count": 14,
     "metadata": {},
     "output_type": "execute_result"
    }
   ],
   "source": [
    "y_df[['y_true', 'y_pred']].corr()"
   ]
  },
  {
   "cell_type": "code",
   "execution_count": 15,
   "id": "bde4f8a4-53b2-473a-88af-a1099aa5a027",
   "metadata": {
    "execution": {
     "iopub.execute_input": "2022-10-13T14:42:27.479664Z",
     "iopub.status.busy": "2022-10-13T14:42:27.479569Z",
     "iopub.status.idle": "2022-10-13T14:42:27.911325Z",
     "shell.execute_reply": "2022-10-13T14:42:27.910887Z",
     "shell.execute_reply.started": "2022-10-13T14:42:27.479651Z"
    },
    "tags": []
   },
   "outputs": [
    {
     "data": {
      "image/png": "[encoded data removed]",
      "text/plain": [
       "<Figure size 640x480 with 1 Axes>"
      ]
     },
     "metadata": {},
     "output_type": "display_data"
    }
   ],
   "source": [
    "_ = y_df.plot(kind='scatter', x='y_true', y='y_pred')"
   ]
  },
  {
   "cell_type": "code",
   "execution_count": 16,
   "id": "14169dc0-4a38-4606-8faa-45a6658b50f0",
   "metadata": {
    "execution": {
     "iopub.execute_input": "2022-10-13T14:42:27.912086Z",
     "iopub.status.busy": "2022-10-13T14:42:27.911971Z",
     "iopub.status.idle": "2022-10-13T14:42:27.990111Z",
     "shell.execute_reply": "2022-10-13T14:42:27.989600Z",
     "shell.execute_reply.started": "2022-10-13T14:42:27.912061Z"
    },
    "tags": []
   },
   "outputs": [
    {
     "data": {
      "text/plain": [
       "<matplotlib.collections.PolyCollection at 0x7f912428da90>"
      ]
     },
     "execution_count": 16,
     "metadata": {},
     "output_type": "execute_result"
    },
    {
     "data": {
      "image/png": "[encoded data removed]",
      "text/plain": [
       "<Figure size 640x480 with 1 Axes>"
      ]
     },
     "metadata": {},
     "output_type": "display_data"
    }
   ],
   "source": [
    "ax = y_df.plot(kind='scatter', x='y_true', y='y_pred', color='blue', alpha=0.5)\n",
    "ax.fill_between(y_df['y_true'], y_df['y_lower'], y_df['y_upper'], color='red', alpha=0.1)"
   ]
  },
  {
   "cell_type": "code",
   "execution_count": null,
   "id": "249f72ca-5972-4709-9597-0e1969d72a5e",
   "metadata": {},
   "outputs": [],
   "source": []
  }
 ],
 "metadata": {
  "kernelspec": {
   "display_name": "tf",
   "language": "python",
   "name": "tf"
  },
  "language_info": {
   "codemirror_mode": {
    "name": "ipython",
    "version": 3
   },
   "file_extension": ".py",
   "mimetype": "text/x-python",
   "name": "python",
   "nbconvert_exporter": "python",
   "pygments_lexer": "ipython3",
   "version": "3.9.13"
  },
  "widgets": {
   "application/vnd.jupyter.widget-state+json": {
    "state": {},
    "version_major": 2,
    "version_minor": 0
   }
  }
 },
 "nbformat": 4,
 "nbformat_minor": 5
}
