{
 "cells": [
  {
   "cell_type": "markdown",
   "id": "97c4aa2e-e906-43db-95bf-a915e3d57647",
   "metadata": {},
   "source": [
    "# MNIST Data\n",
    "\n",
    "Keras has a few readily [available datasets](https://keras.io/api/datasets/) to play around with. Let's see how we can load the MNIST dataset and serialize it to disk. The [MNIST dataset](https://keras.io/api/datasets/mnist/) has a bunch of handwritten digits from 0 to 9 and is often used to benchmark classification algorithms (not just in deep learning but with other types of classification algorithms as well)."
   ]
  },
  {
   "cell_type": "markdown",
   "id": "a579f8d6-35a3-431b-ab40-aacd6fccfe89",
   "metadata": {},
   "source": [
    "## Load the MNIST data\n",
    "\n",
    "First, let's load the data."
   ]
  },
  {
   "cell_type": "code",
   "execution_count": 1,
   "id": "813861e1-438a-4d60-9822-880d86931347",
   "metadata": {
    "execution": {
     "iopub.execute_input": "2022-10-11T23:06:27.057880Z",
     "iopub.status.busy": "2022-10-11T23:06:27.057655Z",
     "iopub.status.idle": "2022-10-11T23:06:28.347089Z",
     "shell.execute_reply": "2022-10-11T23:06:28.346620Z",
     "shell.execute_reply.started": "2022-10-11T23:06:27.057843Z"
    },
    "tags": []
   },
   "outputs": [
    {
     "name": "stderr",
     "output_type": "stream",
     "text": [
      "2022-10-11 19:06:27.097773: I tensorflow/core/platform/cpu_feature_guard.cc:193] This TensorFlow binary is optimized with oneAPI Deep Neural Network Library (oneDNN) to use the following CPU instructions in performance-critical operations:  AVX2 FMA\n",
      "To enable them in other operations, rebuild TensorFlow with the appropriate compiler flags.\n",
      "2022-10-11 19:06:27.198982: E tensorflow/stream_executor/cuda/cuda_blas.cc:2981] Unable to register cuBLAS factory: Attempting to register factory for plugin cuBLAS when one has already been registered\n",
      "2022-10-11 19:06:27.657916: W tensorflow/stream_executor/platform/default/dso_loader.cc:64] Could not load dynamic library 'libnvinfer.so.7'; dlerror: libnvinfer.so.7: cannot open shared object file: No such file or directory; LD_LIBRARY_PATH: /usr/local/cuda-11.7/lib64\n",
      "2022-10-11 19:06:27.657974: W tensorflow/stream_executor/platform/default/dso_loader.cc:64] Could not load dynamic library 'libnvinfer_plugin.so.7'; dlerror: libnvinfer_plugin.so.7: cannot open shared object file: No such file or directory; LD_LIBRARY_PATH: /usr/local/cuda-11.7/lib64\n",
      "2022-10-11 19:06:27.657981: W tensorflow/compiler/tf2tensorrt/utils/py_utils.cc:38] TF-TRT Warning: Cannot dlopen some TensorRT libraries. If you would like to use Nvidia GPU with TensorRT, please make sure the missing libraries mentioned above are installed properly.\n"
     ]
    }
   ],
   "source": [
    "import tensorflow as tf\n",
    "\n",
    "(X_tr, y_tr), (X_te, y_te) = tf.keras.datasets.mnist.load_data(path='mnist.npz')"
   ]
  },
  {
   "cell_type": "markdown",
   "id": "0c3b9feb-1089-4bae-9bc1-c5155b4fad0e",
   "metadata": {},
   "source": [
    "As you can see, there are \n",
    "\n",
    "- 60,000 training images, and\n",
    "- 10,000 testing images."
   ]
  },
  {
   "cell_type": "code",
   "execution_count": 2,
   "id": "7c230d9e-143f-45e0-8d2a-f39b98bd2e6d",
   "metadata": {
    "execution": {
     "iopub.execute_input": "2022-10-11T23:06:28.347799Z",
     "iopub.status.busy": "2022-10-11T23:06:28.347660Z",
     "iopub.status.idle": "2022-10-11T23:06:28.354335Z",
     "shell.execute_reply": "2022-10-11T23:06:28.353870Z",
     "shell.execute_reply.started": "2022-10-11T23:06:28.347786Z"
    },
    "tags": []
   },
   "outputs": [
    {
     "data": {
      "text/plain": [
       "((60000, 28, 28), (60000,))"
      ]
     },
     "execution_count": 2,
     "metadata": {},
     "output_type": "execute_result"
    }
   ],
   "source": [
    "X_tr.shape, y_tr.shape"
   ]
  },
  {
   "cell_type": "code",
   "execution_count": 3,
   "id": "655421b1-d322-4468-b411-69aaf76dfb0f",
   "metadata": {
    "execution": {
     "iopub.execute_input": "2022-10-11T23:06:28.356194Z",
     "iopub.status.busy": "2022-10-11T23:06:28.356009Z",
     "iopub.status.idle": "2022-10-11T23:06:28.368795Z",
     "shell.execute_reply": "2022-10-11T23:06:28.368283Z",
     "shell.execute_reply.started": "2022-10-11T23:06:28.356177Z"
    }
   },
   "outputs": [
    {
     "data": {
      "text/plain": [
       "((10000, 28, 28), (10000,))"
      ]
     },
     "execution_count": 3,
     "metadata": {},
     "output_type": "execute_result"
    }
   ],
   "source": [
    "X_te.shape, y_te.shape"
   ]
  },
  {
   "cell_type": "markdown",
   "id": "e6cb7cd8-9059-4fc8-b592-dc2e3addd6f4",
   "metadata": {},
   "source": [
    "Additionally, there are 10 classes corresponding to the digits in the range [0, 9]. There does not seem to be class imbalance."
   ]
  },
  {
   "cell_type": "code",
   "execution_count": 4,
   "id": "3d4a8de0-d947-4b76-9b61-59caff367572",
   "metadata": {
    "execution": {
     "iopub.execute_input": "2022-10-11T23:06:28.369653Z",
     "iopub.status.busy": "2022-10-11T23:06:28.369504Z",
     "iopub.status.idle": "2022-10-11T23:06:28.882332Z",
     "shell.execute_reply": "2022-10-11T23:06:28.881815Z",
     "shell.execute_reply.started": "2022-10-11T23:06:28.369637Z"
    },
    "tags": []
   },
   "outputs": [
    {
     "data": {
      "image/png": "[encoded data removed]",
      "text/plain": [
       "<Figure size 1000x250 with 2 Axes>"
      ]
     },
     "metadata": {},
     "output_type": "display_data"
    }
   ],
   "source": [
    "import numpy as np\n",
    "import pandas as pd\n",
    "import matplotlib.pyplot as plt\n",
    "\n",
    "v_tr, c_tr = np.unique(y_tr, return_counts=True)\n",
    "v_te, c_te = np.unique(y_te, return_counts=True)\n",
    "\n",
    "s_tr = pd.Series(c_tr, index=v_tr)\n",
    "s_te = pd.Series(c_tr, index=v_te)\n",
    "\n",
    "fig, ax = plt.subplots(1, 2, figsize=(10, 2.5))\n",
    "\n",
    "s_tr.plot(kind='bar', ax=ax[0])\n",
    "s_te.plot(kind='bar', ax=ax[1])\n",
    "\n",
    "ax[0].set_title(f'Training Distribution, n={X_tr.shape[0]:,}')\n",
    "ax[1].set_title(f'Testing Distribution, n={X_te.shape[0]:,}')\n",
    "\n",
    "plt.tight_layout()"
   ]
  },
  {
   "cell_type": "markdown",
   "id": "96b7de80-3d51-42ae-bafe-480511598909",
   "metadata": {},
   "source": [
    "## Display images"
   ]
  },
  {
   "cell_type": "code",
   "execution_count": 5,
   "id": "e19aa793-4d8c-48a7-999a-83aa288ab2da",
   "metadata": {
    "execution": {
     "iopub.execute_input": "2022-10-11T23:06:28.883040Z",
     "iopub.status.busy": "2022-10-11T23:06:28.882919Z",
     "iopub.status.idle": "2022-10-11T23:06:29.501414Z",
     "shell.execute_reply": "2022-10-11T23:06:29.500987Z",
     "shell.execute_reply.started": "2022-10-11T23:06:28.883027Z"
    }
   },
   "outputs": [],
   "source": [
    "images = {y: [im for im, clazz in zip(X_tr, y_tr) if clazz == y][0] for y in range(10)}"
   ]
  },
  {
   "cell_type": "code",
   "execution_count": 6,
   "id": "d7c0c341-8c8c-488a-a62f-35b55c61dda8",
   "metadata": {
    "execution": {
     "iopub.execute_input": "2022-10-11T23:06:29.502229Z",
     "iopub.status.busy": "2022-10-11T23:06:29.502107Z",
     "iopub.status.idle": "2022-10-11T23:06:29.633539Z",
     "shell.execute_reply": "2022-10-11T23:06:29.633102Z",
     "shell.execute_reply.started": "2022-10-11T23:06:29.502204Z"
    },
    "tags": []
   },
   "outputs": [
    {
     "data": {
      "image/png": "[encoded data removed]",
      "text/plain": [
       "<Figure size 300x150 with 10 Axes>"
      ]
     },
     "metadata": {},
     "output_type": "display_data"
    }
   ],
   "source": [
    "fig, axes = plt.subplots(2, 5, figsize=(3, 1.5))\n",
    "\n",
    "for (y, im), ax in zip(images.items(), np.ravel(axes)):\n",
    "    ax.imshow(im)\n",
    "    ax.set_axis_off()\n",
    "\n",
    "plt.tight_layout()"
   ]
  },
  {
   "cell_type": "markdown",
   "id": "be34e2d4-ef92-46e1-a345-899ef56b861a",
   "metadata": {},
   "source": [
    "## Save images"
   ]
  },
  {
   "cell_type": "code",
   "execution_count": 7,
   "id": "5d051ec1-0c4e-406a-a186-d7e19d2ef333",
   "metadata": {
    "execution": {
     "iopub.execute_input": "2022-10-11T23:06:29.634230Z",
     "iopub.status.busy": "2022-10-11T23:06:29.634132Z",
     "iopub.status.idle": "2022-10-11T23:06:30.629894Z",
     "shell.execute_reply": "2022-10-11T23:06:30.629431Z",
     "shell.execute_reply.started": "2022-10-11T23:06:29.634218Z"
    },
    "tags": []
   },
   "outputs": [
    {
     "name": "stdout",
     "output_type": "stream",
     "text": [
      "created: data/mnist/tr/00 | data/mnist/te/00\n",
      "created: data/mnist/tr/01 | data/mnist/te/01\n",
      "created: data/mnist/tr/02 | data/mnist/te/02\n",
      "created: data/mnist/tr/03 | data/mnist/te/03\n",
      "created: data/mnist/tr/04 | data/mnist/te/04\n",
      "created: data/mnist/tr/05 | data/mnist/te/05\n",
      "created: data/mnist/tr/06 | data/mnist/te/06\n",
      "created: data/mnist/tr/07 | data/mnist/te/07\n",
      "created: data/mnist/tr/08 | data/mnist/te/08\n",
      "created: data/mnist/tr/09 | data/mnist/te/09\n"
     ]
    }
   ],
   "source": [
    "from pathlib import Path\n",
    "import shutil\n",
    "\n",
    "shutil.rmtree('./data/mnist')\n",
    "\n",
    "v, _ = np.unique(y_tr, return_counts=True)\n",
    "for number in v:\n",
    "    p_tr = Path(f'./data/mnist/tr/{number:02}')\n",
    "    p_te = Path(f'./data/mnist/te/{number:02}')\n",
    "    \n",
    "    p_tr.mkdir(parents=True, exist_ok=True)\n",
    "    p_te.mkdir(parents=True, exist_ok=True)\n",
    "    \n",
    "    print(f'created: {p_tr} | {p_te}')"
   ]
  },
  {
   "cell_type": "code",
   "execution_count": 8,
   "id": "8fbc5019-77cb-4767-b8e6-396b3ff76639",
   "metadata": {
    "execution": {
     "iopub.execute_input": "2022-10-11T23:06:30.630638Z",
     "iopub.status.busy": "2022-10-11T23:06:30.630514Z",
     "iopub.status.idle": "2022-10-11T23:06:30.644354Z",
     "shell.execute_reply": "2022-10-11T23:06:30.643879Z",
     "shell.execute_reply.started": "2022-10-11T23:06:30.630613Z"
    },
    "tags": []
   },
   "outputs": [],
   "source": [
    "import cv2\n",
    "\n",
    "def save_images(X, y, fold):\n",
    "    counter = {int(num): 0 for num in v}\n",
    "\n",
    "    for img, digit in zip(X, y):\n",
    "        count = counter[int(digit)]\n",
    "        p = f'./data/mnist/{fold}/{digit:02}/{count:04}.png'\n",
    "        cv2.imwrite(p, img)\n",
    "\n",
    "        counter[int(digit)] += 1\n",
    "        \n",
    "    return counter"
   ]
  },
  {
   "cell_type": "code",
   "execution_count": 9,
   "id": "e4b54051-8e01-4a25-98b2-cb37fc0829eb",
   "metadata": {
    "execution": {
     "iopub.execute_input": "2022-10-11T23:06:30.645232Z",
     "iopub.status.busy": "2022-10-11T23:06:30.645089Z",
     "iopub.status.idle": "2022-10-11T23:06:33.703816Z",
     "shell.execute_reply": "2022-10-11T23:06:33.703325Z",
     "shell.execute_reply.started": "2022-10-11T23:06:30.645219Z"
    },
    "tags": []
   },
   "outputs": [
    {
     "data": {
      "text/plain": [
       "{0: 5923,\n",
       " 1: 6742,\n",
       " 2: 5958,\n",
       " 3: 6131,\n",
       " 4: 5842,\n",
       " 5: 5421,\n",
       " 6: 5918,\n",
       " 7: 6265,\n",
       " 8: 5851,\n",
       " 9: 5949}"
      ]
     },
     "execution_count": 9,
     "metadata": {},
     "output_type": "execute_result"
    }
   ],
   "source": [
    "save_images(X_tr, y_tr, 'tr')"
   ]
  },
  {
   "cell_type": "code",
   "execution_count": 10,
   "id": "f9e04ddb-76ad-43a8-bfba-c6cc8364a2d7",
   "metadata": {
    "execution": {
     "iopub.execute_input": "2022-10-11T23:06:33.704688Z",
     "iopub.status.busy": "2022-10-11T23:06:33.704411Z",
     "iopub.status.idle": "2022-10-11T23:06:34.207018Z",
     "shell.execute_reply": "2022-10-11T23:06:34.206586Z",
     "shell.execute_reply.started": "2022-10-11T23:06:33.704674Z"
    },
    "tags": []
   },
   "outputs": [
    {
     "data": {
      "text/plain": [
       "{0: 980,\n",
       " 1: 1135,\n",
       " 2: 1032,\n",
       " 3: 1010,\n",
       " 4: 982,\n",
       " 5: 892,\n",
       " 6: 958,\n",
       " 7: 1028,\n",
       " 8: 974,\n",
       " 9: 1009}"
      ]
     },
     "execution_count": 10,
     "metadata": {},
     "output_type": "execute_result"
    }
   ],
   "source": [
    "save_images(X_te, y_te, 'te')"
   ]
  },
  {
   "cell_type": "markdown",
   "id": "44aa9e06-b5c8-4fec-8533-7d96c53ab85c",
   "metadata": {},
   "source": [
    "## Verify saved images"
   ]
  },
  {
   "cell_type": "code",
   "execution_count": 11,
   "id": "0117bad1-5dc1-4e79-9122-8ba391880ab1",
   "metadata": {
    "execution": {
     "iopub.execute_input": "2022-10-11T23:06:34.207697Z",
     "iopub.status.busy": "2022-10-11T23:06:34.207564Z",
     "iopub.status.idle": "2022-10-11T23:06:36.628208Z",
     "shell.execute_reply": "2022-10-11T23:06:36.627770Z",
     "shell.execute_reply.started": "2022-10-11T23:06:34.207684Z"
    },
    "tags": []
   },
   "outputs": [
    {
     "data": {
      "text/plain": [
       "((60000, 6), (10000, 6))"
      ]
     },
     "execution_count": 11,
     "metadata": {},
     "output_type": "execute_result"
    }
   ],
   "source": [
    "def get_image(p):\n",
    "    return cv2.cvtColor(cv2.imread(p), cv2.COLOR_BGR2RGB)\n",
    "\n",
    "def get_metadata(p):\n",
    "    tokens = str(p).split('/')\n",
    "    \n",
    "    fold = tokens[2]\n",
    "    clazz = tokens[3]\n",
    "    filename = tokens[4]\n",
    "    w, h, c = get_image(str(p)).shape\n",
    "    \n",
    "    return fold, clazz, filename, w, h, c\n",
    "    \n",
    "I_tr = pd.DataFrame(\n",
    "    map(get_metadata, Path('./data/mnist/tr').glob('**/*.png')), \n",
    "    columns=['fold', 'clazz', 'filename', 'w', 'h', 'c']\n",
    ")\n",
    "\n",
    "I_te = pd.DataFrame(\n",
    "    map(get_metadata, Path('./data/mnist/te').glob('**/*.png')), \n",
    "    columns=['fold', 'clazz', 'filename', 'w', 'h', 'c']\n",
    ")\n",
    "\n",
    "I_tr.shape, I_te.shape"
   ]
  },
  {
   "cell_type": "code",
   "execution_count": 12,
   "id": "cb40d0a7-4342-4b1c-b4b6-20235267c411",
   "metadata": {
    "execution": {
     "iopub.execute_input": "2022-10-11T23:06:36.629659Z",
     "iopub.status.busy": "2022-10-11T23:06:36.629528Z",
     "iopub.status.idle": "2022-10-11T23:06:36.641403Z",
     "shell.execute_reply": "2022-10-11T23:06:36.640958Z",
     "shell.execute_reply.started": "2022-10-11T23:06:36.629646Z"
    },
    "tags": []
   },
   "outputs": [
    {
     "data": {
      "text/plain": [
       "clazz\n",
       "00    5923\n",
       "01    6742\n",
       "02    5958\n",
       "03    6131\n",
       "04    5842\n",
       "05    5421\n",
       "06    5918\n",
       "07    6265\n",
       "08    5851\n",
       "09    5949\n",
       "Name: n, dtype: int64"
      ]
     },
     "execution_count": 12,
     "metadata": {},
     "output_type": "execute_result"
    }
   ],
   "source": [
    "I_tr.assign(n=1).groupby(['clazz'])['n'].sum()"
   ]
  },
  {
   "cell_type": "code",
   "execution_count": 13,
   "id": "66f06a7a-0e97-4319-b386-1a72d44628f5",
   "metadata": {
    "execution": {
     "iopub.execute_input": "2022-10-11T23:06:36.642090Z",
     "iopub.status.busy": "2022-10-11T23:06:36.641956Z",
     "iopub.status.idle": "2022-10-11T23:06:36.663728Z",
     "shell.execute_reply": "2022-10-11T23:06:36.663319Z",
     "shell.execute_reply.started": "2022-10-11T23:06:36.642077Z"
    }
   },
   "outputs": [
    {
     "data": {
      "text/plain": [
       "clazz\n",
       "00     980\n",
       "01    1135\n",
       "02    1032\n",
       "03    1010\n",
       "04     982\n",
       "05     892\n",
       "06     958\n",
       "07    1028\n",
       "08     974\n",
       "09    1009\n",
       "Name: n, dtype: int64"
      ]
     },
     "execution_count": 13,
     "metadata": {},
     "output_type": "execute_result"
    }
   ],
   "source": [
    "I_te.assign(n=1).groupby(['clazz'])['n'].sum()"
   ]
  }
 ],
 "metadata": {
  "kernelspec": {
   "display_name": "tf",
   "language": "python",
   "name": "tf"
  },
  "language_info": {
   "codemirror_mode": {
    "name": "ipython",
    "version": 3
   },
   "file_extension": ".py",
   "mimetype": "text/x-python",
   "name": "python",
   "nbconvert_exporter": "python",
   "pygments_lexer": "ipython3",
   "version": "3.9.13"
  },
  "widgets": {
   "application/vnd.jupyter.widget-state+json": {
    "state": {},
    "version_major": 2,
    "version_minor": 0
   }
  }
 },
 "nbformat": 4,
 "nbformat_minor": 5
}
