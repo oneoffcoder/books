{
 "cells": [
  {
   "cell_type": "markdown",
   "id": "0e492b71-d34c-4558-99ad-3a96569aeb1e",
   "metadata": {},
   "source": [
    "# Probabilistic Bayesian Neural Network\n",
    "\n",
    "```bash\n",
    "pip install tensorflow-probability tensorflow-datasets\n",
    "```"
   ]
  },
  {
   "cell_type": "code",
   "execution_count": 18,
   "id": "dddae099-9686-40f2-99d8-e90761423c76",
   "metadata": {
    "execution": {
     "iopub.execute_input": "2022-10-12T20:46:28.762027Z",
     "iopub.status.busy": "2022-10-12T20:46:28.761880Z",
     "iopub.status.idle": "2022-10-12T20:46:28.767773Z",
     "shell.execute_reply": "2022-10-12T20:46:28.767398Z",
     "shell.execute_reply.started": "2022-10-12T20:46:28.762014Z"
    },
    "tags": []
   },
   "outputs": [
    {
     "data": {
      "text/plain": [
       "((404, 13), (404,), (102, 13), (102,))"
      ]
     },
     "execution_count": 18,
     "metadata": {},
     "output_type": "execute_result"
    }
   ],
   "source": [
    "(X_tr, y_tr), (X_te, y_te) = tf.keras.datasets.boston_housing.load_data(\n",
    "    path='boston_housing.npz', \n",
    "    test_split=0.2, \n",
    "    seed=37\n",
    ")\n",
    "\n",
    "X_tr.shape, y_tr.shape, X_te.shape, y_te.shape"
   ]
  },
  {
   "cell_type": "code",
   "execution_count": 28,
   "id": "8ca32ef4-8b63-4361-933a-ebf02187ed0c",
   "metadata": {
    "execution": {
     "iopub.execute_input": "2022-10-12T20:51:20.018732Z",
     "iopub.status.busy": "2022-10-12T20:51:20.018585Z",
     "iopub.status.idle": "2022-10-12T20:51:20.039907Z",
     "shell.execute_reply": "2022-10-12T20:51:20.039587Z",
     "shell.execute_reply.started": "2022-10-12T20:51:20.018719Z"
    },
    "tags": []
   },
   "outputs": [
    {
     "data": {
      "text/plain": [
       "<BatchDataset element_spec=(TensorSpec(shape=(None, 404, 13), dtype=tf.float64, name=None), TensorSpec(shape=(None, 404), dtype=tf.float64, name=None))>"
      ]
     },
     "execution_count": 28,
     "metadata": {},
     "output_type": "execute_result"
    }
   ],
   "source": [
    "import tensorflow as tf\n",
    "\n",
    "# inc_dataset = tf.data.Dataset.range(100)\n",
    "# dec_dataset = tf.data.Dataset.range(0, -100, -1)\n",
    "# dataset = tf.data.Dataset.zip((inc_dataset, dec_dataset))\n",
    "# batched_dataset = dataset.batch(4)\n",
    "\n",
    "tf.data.Dataset.zip((\n",
    "    tf.data.Dataset.from_tensors(X_tr),\n",
    "    tf.data.Dataset.from_tensors(y_tr)\n",
    ")).batch(4)\n"
   ]
  },
  {
   "cell_type": "code",
   "execution_count": 2,
   "id": "fd9ef66f-596f-4d96-9fdc-77a70010df5d",
   "metadata": {
    "execution": {
     "iopub.execute_input": "2022-10-12T20:01:37.025890Z",
     "iopub.status.busy": "2022-10-12T20:01:37.025739Z",
     "iopub.status.idle": "2022-10-12T20:01:39.072381Z",
     "shell.execute_reply": "2022-10-12T20:01:39.071876Z",
     "shell.execute_reply.started": "2022-10-12T20:01:37.025864Z"
    },
    "tags": []
   },
   "outputs": [
    {
     "name": "stderr",
     "output_type": "stream",
     "text": [
      "2022-10-12 16:01:37.077341: I tensorflow/core/platform/cpu_feature_guard.cc:193] This TensorFlow binary is optimized with oneAPI Deep Neural Network Library (oneDNN) to use the following CPU instructions in performance-critical operations:  AVX2 FMA\n",
      "To enable them in other operations, rebuild TensorFlow with the appropriate compiler flags.\n",
      "2022-10-12 16:01:37.181607: E tensorflow/stream_executor/cuda/cuda_blas.cc:2981] Unable to register cuBLAS factory: Attempting to register factory for plugin cuBLAS when one has already been registered\n",
      "2022-10-12 16:01:37.666145: W tensorflow/stream_executor/platform/default/dso_loader.cc:64] Could not load dynamic library 'libnvinfer.so.7'; dlerror: libnvinfer.so.7: cannot open shared object file: No such file or directory; LD_LIBRARY_PATH: /usr/local/cuda-11.7/lib64\n",
      "2022-10-12 16:01:37.666208: W tensorflow/stream_executor/platform/default/dso_loader.cc:64] Could not load dynamic library 'libnvinfer_plugin.so.7'; dlerror: libnvinfer_plugin.so.7: cannot open shared object file: No such file or directory; LD_LIBRARY_PATH: /usr/local/cuda-11.7/lib64\n",
      "2022-10-12 16:01:37.666214: W tensorflow/compiler/tf2tensorrt/utils/py_utils.cc:38] TF-TRT Warning: Cannot dlopen some TensorRT libraries. If you would like to use Nvidia GPU with TensorRT, please make sure the missing libraries mentioned above are installed properly.\n",
      "/home/super/anaconda3/envs/tf/lib/python3.9/site-packages/tqdm/auto.py:22: TqdmWarning: IProgress not found. Please update jupyter and ipywidgets. See https://ipywidgets.readthedocs.io/en/stable/user_install.html\n",
      "  from .autonotebook import tqdm as notebook_tqdm\n",
      "2022-10-12 16:01:38.462034: I tensorflow/stream_executor/cuda/cuda_gpu_executor.cc:980] successful NUMA node read from SysFS had negative value (-1), but there must be at least one NUMA node, so returning NUMA node zero\n",
      "2022-10-12 16:01:38.485628: I tensorflow/stream_executor/cuda/cuda_gpu_executor.cc:980] successful NUMA node read from SysFS had negative value (-1), but there must be at least one NUMA node, so returning NUMA node zero\n",
      "2022-10-12 16:01:38.485785: I tensorflow/stream_executor/cuda/cuda_gpu_executor.cc:980] successful NUMA node read from SysFS had negative value (-1), but there must be at least one NUMA node, so returning NUMA node zero\n",
      "2022-10-12 16:01:38.486176: I tensorflow/core/platform/cpu_feature_guard.cc:193] This TensorFlow binary is optimized with oneAPI Deep Neural Network Library (oneDNN) to use the following CPU instructions in performance-critical operations:  AVX2 FMA\n",
      "To enable them in other operations, rebuild TensorFlow with the appropriate compiler flags.\n",
      "2022-10-12 16:01:38.486700: I tensorflow/stream_executor/cuda/cuda_gpu_executor.cc:980] successful NUMA node read from SysFS had negative value (-1), but there must be at least one NUMA node, so returning NUMA node zero\n",
      "2022-10-12 16:01:38.486841: I tensorflow/stream_executor/cuda/cuda_gpu_executor.cc:980] successful NUMA node read from SysFS had negative value (-1), but there must be at least one NUMA node, so returning NUMA node zero\n",
      "2022-10-12 16:01:38.486958: I tensorflow/stream_executor/cuda/cuda_gpu_executor.cc:980] successful NUMA node read from SysFS had negative value (-1), but there must be at least one NUMA node, so returning NUMA node zero\n",
      "2022-10-12 16:01:38.887416: I tensorflow/stream_executor/cuda/cuda_gpu_executor.cc:980] successful NUMA node read from SysFS had negative value (-1), but there must be at least one NUMA node, so returning NUMA node zero\n",
      "2022-10-12 16:01:38.887577: I tensorflow/stream_executor/cuda/cuda_gpu_executor.cc:980] successful NUMA node read from SysFS had negative value (-1), but there must be at least one NUMA node, so returning NUMA node zero\n",
      "2022-10-12 16:01:38.887698: I tensorflow/stream_executor/cuda/cuda_gpu_executor.cc:980] successful NUMA node read from SysFS had negative value (-1), but there must be at least one NUMA node, so returning NUMA node zero\n",
      "2022-10-12 16:01:38.887799: I tensorflow/core/common_runtime/gpu/gpu_device.cc:1616] Created device /job:localhost/replica:0/task:0/device:GPU:0 with 9457 MB memory:  -> device: 0, name: NVIDIA GeForce RTX 2080 Ti, pci bus id: 0000:01:00.0, compute capability: 7.5\n"
     ]
    }
   ],
   "source": [
    "import tensorflow as tf\n",
    "import tensorflow_datasets as tfds\n",
    "\n",
    "def get_data(dataset_size=4898, batch_size=256):\n",
    "    train_size = int(dataset_size * 0.85)\n",
    "    dataset = tfds.load(name='wine_quality', as_supervised=True, split='train') \\\n",
    "        .map(lambda x, y: (x, tf.cast(y, tf.float32))) \\\n",
    "        .prefetch(buffer_size=dataset_size) \\\n",
    "        .cache()\n",
    "    \n",
    "    X_tr = dataset.take(train_size).shuffle(buffer_size=train_size).batch(batch_size)\n",
    "    X_te = dataset.skip(train_size).batch(batch_size)\n",
    "\n",
    "    return X_tr, X_te\n",
    "\n",
    "X_tr, X_te = get_data()"
   ]
  },
  {
   "cell_type": "code",
   "execution_count": 15,
   "id": "f098c130-84a4-4f98-b0f0-9b5ba3f0a6ea",
   "metadata": {
    "execution": {
     "iopub.execute_input": "2022-10-12T20:35:41.611547Z",
     "iopub.status.busy": "2022-10-12T20:35:41.611401Z",
     "iopub.status.idle": "2022-10-12T20:35:41.615266Z",
     "shell.execute_reply": "2022-10-12T20:35:41.614865Z",
     "shell.execute_reply.started": "2022-10-12T20:35:41.611535Z"
    },
    "tags": []
   },
   "outputs": [
    {
     "data": {
      "text/plain": [
       "['alcohol',\n",
       " 'chlorides',\n",
       " 'citric acid',\n",
       " 'density',\n",
       " 'fixed acidity',\n",
       " 'free sulfur dioxide',\n",
       " 'pH',\n",
       " 'residual sugar',\n",
       " 'sulphates',\n",
       " 'total sulfur dioxide',\n",
       " 'volatile acidity']"
      ]
     },
     "execution_count": 15,
     "metadata": {},
     "output_type": "execute_result"
    }
   ],
   "source": [
    "list(X_tr.element_spec[0].keys())"
   ]
  },
  {
   "cell_type": "code",
   "execution_count": 17,
   "id": "87b8de4d-d589-46e4-be60-732ede683b42",
   "metadata": {
    "execution": {
     "iopub.execute_input": "2022-10-12T20:39:44.421755Z",
     "iopub.status.busy": "2022-10-12T20:39:44.421607Z",
     "iopub.status.idle": "2022-10-12T20:39:44.425335Z",
     "shell.execute_reply": "2022-10-12T20:39:44.424845Z",
     "shell.execute_reply.started": "2022-10-12T20:39:44.421742Z"
    }
   },
   "outputs": [
    {
     "data": {
      "text/plain": [
       "tensorflow.python.data.ops.dataset_ops.BatchDataset"
      ]
     },
     "execution_count": 17,
     "metadata": {},
     "output_type": "execute_result"
    }
   ],
   "source": [
    "type(X_tr)"
   ]
  },
  {
   "cell_type": "code",
   "execution_count": 16,
   "id": "2369d464-9bc4-406f-96cd-d952de3f791e",
   "metadata": {
    "execution": {
     "iopub.execute_input": "2022-10-12T20:36:07.539107Z",
     "iopub.status.busy": "2022-10-12T20:36:07.538960Z",
     "iopub.status.idle": "2022-10-12T20:36:07.542580Z",
     "shell.execute_reply": "2022-10-12T20:36:07.542062Z",
     "shell.execute_reply.started": "2022-10-12T20:36:07.539094Z"
    }
   },
   "outputs": [
    {
     "data": {
      "text/plain": [
       "<BatchDataset element_spec=({'alcohol': TensorSpec(shape=(None,), dtype=tf.float32, name=None), 'chlorides': TensorSpec(shape=(None,), dtype=tf.float32, name=None), 'citric acid': TensorSpec(shape=(None,), dtype=tf.float32, name=None), 'density': TensorSpec(shape=(None,), dtype=tf.float32, name=None), 'fixed acidity': TensorSpec(shape=(None,), dtype=tf.float32, name=None), 'free sulfur dioxide': TensorSpec(shape=(None,), dtype=tf.float32, name=None), 'pH': TensorSpec(shape=(None,), dtype=tf.float32, name=None), 'residual sugar': TensorSpec(shape=(None,), dtype=tf.float32, name=None), 'sulphates': TensorSpec(shape=(None,), dtype=tf.float64, name=None), 'total sulfur dioxide': TensorSpec(shape=(None,), dtype=tf.float32, name=None), 'volatile acidity': TensorSpec(shape=(None,), dtype=tf.float32, name=None)}, TensorSpec(shape=(None,), dtype=tf.float32, name=None))>"
      ]
     },
     "execution_count": 16,
     "metadata": {},
     "output_type": "execute_result"
    }
   ],
   "source": [
    "X_tr"
   ]
  },
  {
   "cell_type": "code",
   "execution_count": 11,
   "id": "2c267f74-b866-4942-9596-47775775f26b",
   "metadata": {
    "execution": {
     "iopub.execute_input": "2022-10-12T20:34:49.319516Z",
     "iopub.status.busy": "2022-10-12T20:34:49.319388Z",
     "iopub.status.idle": "2022-10-12T20:34:49.323358Z",
     "shell.execute_reply": "2022-10-12T20:34:49.322990Z",
     "shell.execute_reply.started": "2022-10-12T20:34:49.319502Z"
    },
    "tags": []
   },
   "outputs": [
    {
     "data": {
      "text/plain": [
       "['_GeneratorState',\n",
       " '__abstractmethods__',\n",
       " '__bool__',\n",
       " '__class__',\n",
       " '__class_getitem__',\n",
       " '__debug_string__',\n",
       " '__delattr__',\n",
       " '__dict__',\n",
       " '__dir__',\n",
       " '__doc__',\n",
       " '__eq__',\n",
       " '__format__',\n",
       " '__ge__',\n",
       " '__getattribute__',\n",
       " '__gt__',\n",
       " '__hash__',\n",
       " '__init__',\n",
       " '__init_subclass__',\n",
       " '__iter__',\n",
       " '__le__',\n",
       " '__len__',\n",
       " '__lt__',\n",
       " '__module__',\n",
       " '__ne__',\n",
       " '__new__',\n",
       " '__nonzero__',\n",
       " '__reduce__',\n",
       " '__reduce_ex__',\n",
       " '__repr__',\n",
       " '__setattr__',\n",
       " '__sizeof__',\n",
       " '__slots__',\n",
       " '__str__',\n",
       " '__subclasshook__',\n",
       " '__tf_tracing_type__',\n",
       " '__weakref__',\n",
       " '_abc_impl',\n",
       " '_add_trackable_child',\n",
       " '_add_variable_with_custom_getter',\n",
       " '_apply_debug_options',\n",
       " '_as_serialized_graph',\n",
       " '_batch_size',\n",
       " '_checkpoint_dependencies',\n",
       " '_common_args',\n",
       " '_consumers',\n",
       " '_convert_variables_to_tensors',\n",
       " '_deferred_dependencies',\n",
       " '_deserialization_dependencies',\n",
       " '_deserialize_from_proto',\n",
       " '_drop_remainder',\n",
       " '_export_to_saved_model_graph',\n",
       " '_flat_shapes',\n",
       " '_flat_structure',\n",
       " '_flat_types',\n",
       " '_functions',\n",
       " '_gather_saveables_for_checkpoint',\n",
       " '_graph',\n",
       " '_graph_attr',\n",
       " '_handle_deferred_dependencies',\n",
       " '_input_dataset',\n",
       " '_inputs',\n",
       " '_lookup_dependency',\n",
       " '_map_resources',\n",
       " '_maybe_initialize_trackable',\n",
       " '_maybe_track_assets',\n",
       " '_metadata',\n",
       " '_name',\n",
       " '_name_based_attribute_restore',\n",
       " '_name_based_restores',\n",
       " '_no_dependency',\n",
       " '_object_identifier',\n",
       " '_options',\n",
       " '_options_attr',\n",
       " '_options_tensor_to_options',\n",
       " '_preload_simple_restoration',\n",
       " '_restore_from_tensors',\n",
       " '_serialize_to_proto',\n",
       " '_serialize_to_tensors',\n",
       " '_setattr_tracking',\n",
       " '_shape_invariant_to_type_spec',\n",
       " '_structure',\n",
       " '_tf_api_names',\n",
       " '_tf_api_names_v1',\n",
       " '_trace_variant_creation',\n",
       " '_track_trackable',\n",
       " '_trackable_children',\n",
       " '_type_spec',\n",
       " '_unconditional_checkpoint_dependencies',\n",
       " '_unconditional_dependency_names',\n",
       " '_update_uid',\n",
       " '_variant_tensor',\n",
       " '_variant_tensor_attr',\n",
       " 'apply',\n",
       " 'as_numpy_iterator',\n",
       " 'batch',\n",
       " 'bucket_by_sequence_length',\n",
       " 'cache',\n",
       " 'cardinality',\n",
       " 'choose_from_datasets',\n",
       " 'concatenate',\n",
       " 'element_spec',\n",
       " 'enumerate',\n",
       " 'filter',\n",
       " 'flat_map',\n",
       " 'from_generator',\n",
       " 'from_tensor_slices',\n",
       " 'from_tensors',\n",
       " 'get_single_element',\n",
       " 'group_by_window',\n",
       " 'interleave',\n",
       " 'list_files',\n",
       " 'load',\n",
       " 'map',\n",
       " 'options',\n",
       " 'padded_batch',\n",
       " 'prefetch',\n",
       " 'random',\n",
       " 'range',\n",
       " 'reduce',\n",
       " 'rejection_resample',\n",
       " 'repeat',\n",
       " 'sample_from_datasets',\n",
       " 'save',\n",
       " 'scan',\n",
       " 'shard',\n",
       " 'shuffle',\n",
       " 'skip',\n",
       " 'snapshot',\n",
       " 'take',\n",
       " 'take_while',\n",
       " 'unbatch',\n",
       " 'unique',\n",
       " 'window',\n",
       " 'with_options',\n",
       " 'zip']"
      ]
     },
     "execution_count": 11,
     "metadata": {},
     "output_type": "execute_result"
    }
   ],
   "source": [
    "dir(X_tr)"
   ]
  },
  {
   "cell_type": "code",
   "execution_count": 3,
   "id": "089a79a9-e1d3-4c97-aeba-a97dcf59bc80",
   "metadata": {
    "execution": {
     "iopub.execute_input": "2022-10-12T20:01:39.073210Z",
     "iopub.status.busy": "2022-10-12T20:01:39.073035Z",
     "iopub.status.idle": "2022-10-12T20:01:39.686618Z",
     "shell.execute_reply": "2022-10-12T20:01:39.686168Z",
     "shell.execute_reply.started": "2022-10-12T20:01:39.073197Z"
    },
    "tags": []
   },
   "outputs": [
    {
     "name": "stdout",
     "output_type": "stream",
     "text": [
      "WARNING:tensorflow:From /home/super/anaconda3/envs/tf/lib/python3.9/site-packages/tensorflow_probability/python/distributions/distribution.py:342: calling MultivariateNormalDiag.__init__ (from tensorflow_probability.python.distributions.mvn_diag) with scale_identity_multiplier is deprecated and will be removed after 2020-01-01.\n",
      "Instructions for updating:\n",
      "`scale_identity_multiplier` is deprecated; please combine it into `scale_diag` directly instead.\n"
     ]
    },
    {
     "name": "stderr",
     "output_type": "stream",
     "text": [
      "WARNING:tensorflow:From /home/super/anaconda3/envs/tf/lib/python3.9/site-packages/tensorflow_probability/python/distributions/distribution.py:342: calling MultivariateNormalDiag.__init__ (from tensorflow_probability.python.distributions.mvn_diag) with scale_identity_multiplier is deprecated and will be removed after 2020-01-01.\n",
      "Instructions for updating:\n",
      "`scale_identity_multiplier` is deprecated; please combine it into `scale_diag` directly instead.\n"
     ]
    }
   ],
   "source": [
    "import numpy as np\n",
    "\n",
    "from tensorflow import keras\n",
    "from tensorflow.keras import layers\n",
    "\n",
    "import tensorflow_probability as tfp\n",
    "\n",
    "FEATURE_NAMES = [\n",
    "    'CRIM',\n",
    "    'ZN',\n",
    "    'INDUS',\n",
    "    'CHAS',\n",
    "    'NOX',\n",
    "    'RM',\n",
    "    'AGE',\n",
    "    'DIS',\n",
    "    'RAD',\n",
    "    'TAX',\n",
    "    'PTRATIO',\n",
    "    'B',\n",
    "    'LSTAT'\n",
    "]\n",
    "\n",
    "FEATURE_NAMES = list(X_tr.element_spec[0].keys())\n",
    "\n",
    "def get_inputs():\n",
    "    get_input = lambda feature: layers.Input(name=feature, shape=(1,), dtype=tf.float32)\n",
    "    return  {feature_name: get_input(feature_name) for feature_name in FEATURE_NAMES}\n",
    "\n",
    "def prior(kernel_size, bias_size, dtype=None):\n",
    "    n = kernel_size + bias_size\n",
    "    prior_model = keras.Sequential(\n",
    "        [\n",
    "            tfp.layers.DistributionLambda(\n",
    "                lambda t: tfp.distributions.MultivariateNormalDiag(\n",
    "                    loc=tf.zeros(n), scale_diag=tf.ones(n)\n",
    "                )\n",
    "            )\n",
    "        ]\n",
    "    )\n",
    "    return prior_model\n",
    "\n",
    "def posterior(kernel_size, bias_size, dtype=None):\n",
    "    n = kernel_size + bias_size\n",
    "    posterior_model = keras.Sequential(\n",
    "        [\n",
    "            tfp.layers.VariableLayer(\n",
    "                tfp.layers.MultivariateNormalTriL.params_size(n), dtype=dtype\n",
    "            ),\n",
    "            tfp.layers.MultivariateNormalTriL(n),\n",
    "        ]\n",
    "    )\n",
    "    return posterior_model\n",
    "\n",
    "def get_model(train_size, hidden_units=[8, 8]):\n",
    "    inputs = get_inputs()\n",
    "    features = keras.layers.concatenate(list(inputs.values()))\n",
    "    features = layers.BatchNormalization()(features)\n",
    "\n",
    "    for units in hidden_units:\n",
    "        features = tfp.layers.DenseVariational(\n",
    "            units=units,\n",
    "            make_prior_fn=prior,\n",
    "            make_posterior_fn=posterior,\n",
    "            kl_weight=1 / train_size,\n",
    "            activation='sigmoid',\n",
    "        )(features)\n",
    "\n",
    "    distribution_params = layers.Dense(units=2)(features)\n",
    "    outputs = tfp.layers.IndependentNormal(1)(distribution_params)\n",
    "\n",
    "    model = keras.Model(inputs=inputs, outputs=outputs)\n",
    "    return model\n",
    "\n",
    "model = get_model(100)"
   ]
  },
  {
   "cell_type": "code",
   "execution_count": 4,
   "id": "10e7f691-a770-478a-a388-f1b0583a0564",
   "metadata": {
    "execution": {
     "iopub.execute_input": "2022-10-12T20:01:39.687720Z",
     "iopub.status.busy": "2022-10-12T20:01:39.687582Z",
     "iopub.status.idle": "2022-10-12T20:01:39.816453Z",
     "shell.execute_reply": "2022-10-12T20:01:39.815951Z",
     "shell.execute_reply.started": "2022-10-12T20:01:39.687706Z"
    },
    "tags": []
   },
   "outputs": [
    {
     "data": {
      "image/png": "[encoded data removed]",
      "text/plain": [
       "<IPython.core.display.Image object>"
      ]
     },
     "execution_count": 4,
     "metadata": {},
     "output_type": "execute_result"
    }
   ],
   "source": [
    "keras.utils.plot_model(model)"
   ]
  },
  {
   "cell_type": "code",
   "execution_count": 5,
   "id": "9c2651cd-4cf5-4e3c-912b-115f7641821e",
   "metadata": {
    "execution": {
     "iopub.execute_input": "2022-10-12T20:01:39.817371Z",
     "iopub.status.busy": "2022-10-12T20:01:39.817223Z",
     "iopub.status.idle": "2022-10-12T20:01:39.832902Z",
     "shell.execute_reply": "2022-10-12T20:01:39.832424Z",
     "shell.execute_reply.started": "2022-10-12T20:01:39.817356Z"
    },
    "tags": []
   },
   "outputs": [],
   "source": [
    "def negative_loglikelihood(targets, estimated_distribution):\n",
    "    return -estimated_distribution.log_prob(targets)\n",
    "\n",
    "model.compile(\n",
    "    optimizer=keras.optimizers.RMSprop(learning_rate=0.001),\n",
    "    loss=negative_loglikelihood,\n",
    "    metrics=[keras.metrics.RootMeanSquaredError()],\n",
    ")"
   ]
  },
  {
   "cell_type": "code",
   "execution_count": 6,
   "id": "8cfd9393-b969-416a-bec4-dc1e8bf79589",
   "metadata": {
    "execution": {
     "iopub.execute_input": "2022-10-12T20:01:39.833646Z",
     "iopub.status.busy": "2022-10-12T20:01:39.833520Z",
     "iopub.status.idle": "2022-10-12T20:03:00.612967Z",
     "shell.execute_reply": "2022-10-12T20:03:00.612499Z",
     "shell.execute_reply.started": "2022-10-12T20:01:39.833621Z"
    },
    "tags": []
   },
   "outputs": [
    {
     "name": "stderr",
     "output_type": "stream",
     "text": [
      "2022-10-12 16:01:41.213900: W tensorflow/core/kernels/data/cache_dataset_ops.cc:856] The calling iterator did not fully read the dataset being cached. In order to avoid unexpected truncation of the dataset, the partially cached contents of the dataset  will be discarded. This can happen if you have an input pipeline similar to `dataset.cache().take(k).repeat()`. You should use `dataset.take(k).cache().repeat()` instead.\n",
      "2022-10-12 16:01:41.215369: W tensorflow/core/kernels/data/cache_dataset_ops.cc:856] The calling iterator did not fully read the dataset being cached. In order to avoid unexpected truncation of the dataset, the partially cached contents of the dataset  will be discarded. This can happen if you have an input pipeline similar to `dataset.cache().take(k).repeat()`. You should use `dataset.take(k).cache().repeat()` instead.\n"
     ]
    },
    {
     "data": {
      "text/plain": [
       "<keras.callbacks.History at 0x7fd6746db520>"
      ]
     },
     "execution_count": 6,
     "metadata": {},
     "output_type": "execute_result"
    }
   ],
   "source": [
    "model.fit(x=X_tr, validation_data=X_te, epochs=1_000, verbose=0)"
   ]
  },
  {
   "cell_type": "code",
   "execution_count": 7,
   "id": "493ff489-d63c-4abc-87c8-89ceaf4dc898",
   "metadata": {
    "execution": {
     "iopub.execute_input": "2022-10-12T20:03:00.613656Z",
     "iopub.status.busy": "2022-10-12T20:03:00.613556Z",
     "iopub.status.idle": "2022-10-12T20:03:00.685187Z",
     "shell.execute_reply": "2022-10-12T20:03:00.684718Z",
     "shell.execute_reply.started": "2022-10-12T20:03:00.613643Z"
    },
    "tags": []
   },
   "outputs": [
    {
     "name": "stdout",
     "output_type": "stream",
     "text": [
      "rmse_tr: 1.226, rmse_te: 1.229\n"
     ]
    }
   ],
   "source": [
    "_, rmse_tr = model.evaluate(X_tr, verbose=0)\n",
    "_, rmse_te = model.evaluate(X_te, verbose=0)\n",
    "\n",
    "print(f'rmse_tr: {round(rmse_tr, 3)}, rmse_te: {round(rmse_te, 3)}')"
   ]
  },
  {
   "cell_type": "code",
   "execution_count": null,
   "id": "fc7efccb-b553-4c43-a68a-d866a654da87",
   "metadata": {
    "tags": []
   },
   "outputs": [],
   "source": []
  },
  {
   "cell_type": "code",
   "execution_count": 9,
   "id": "da5501c6-42fb-4fa1-bb46-3cd2f529c6eb",
   "metadata": {
    "execution": {
     "iopub.execute_input": "2022-10-12T20:17:42.953475Z",
     "iopub.status.busy": "2022-10-12T20:17:42.953301Z",
     "iopub.status.idle": "2022-10-12T20:17:43.105412Z",
     "shell.execute_reply": "2022-10-12T20:17:43.104987Z",
     "shell.execute_reply.started": "2022-10-12T20:17:42.953449Z"
    },
    "tags": []
   },
   "outputs": [
    {
     "name": "stdout",
     "output_type": "stream",
     "text": [
      "Prediction mean: 6.26, stddev: 0.87, 95% CI: [7.96 - 4.56] - Actual: 7.0\n",
      "Prediction mean: 5.92, stddev: 0.86, 95% CI: [7.6 - 4.24] - Actual: 6.0\n",
      "Prediction mean: 5.95, stddev: 0.86, 95% CI: [7.64 - 4.27] - Actual: 6.0\n",
      "Prediction mean: 5.68, stddev: 0.85, 95% CI: [7.34 - 4.02] - Actual: 7.0\n",
      "Prediction mean: 5.74, stddev: 0.85, 95% CI: [7.4 - 4.08] - Actual: 5.0\n",
      "Prediction mean: 5.27, stddev: 0.83, 95% CI: [6.9 - 3.65] - Actual: 4.0\n",
      "Prediction mean: 5.23, stddev: 0.83, 95% CI: [6.85 - 3.61] - Actual: 6.0\n",
      "Prediction mean: 5.2, stddev: 0.83, 95% CI: [6.83 - 3.58] - Actual: 8.0\n",
      "Prediction mean: 5.15, stddev: 0.82, 95% CI: [6.77 - 3.54] - Actual: 5.0\n",
      "Prediction mean: 5.51, stddev: 0.84, 95% CI: [7.16 - 3.87] - Actual: 5.0\n"
     ]
    }
   ],
   "source": [
    "sample = 10\n",
    "examples, targets = list(X_te.unbatch().shuffle(256 * 10).batch(sample))[0]\n",
    "\n",
    "dist_pred = model(examples)\n",
    "mean_pred = dist_pred.mean().numpy().tolist()\n",
    "stdv_pred = dist_pred.stddev().numpy()\n",
    "\n",
    "upper = (mean_pred + (1.96 * stdv_pred)).tolist()\n",
    "lower = (mean_pred - (1.96 * stdv_pred)).tolist()\n",
    "stdv_pred = stdv_pred.tolist()\n",
    "\n",
    "for idx in range(sample):\n",
    "    print(\n",
    "        f'Prediction mean: {round(mean_pred[idx][0], 2)}, '\n",
    "        f'stddev: {round(stdv_pred[idx][0], 2)}, '\n",
    "        f'95% CI: [{round(upper[idx][0], 2)} - {round(lower[idx][0], 2)}]'\n",
    "        f' - Actual: {targets[idx]}'\n",
    "    )"
   ]
  },
  {
   "cell_type": "code",
   "execution_count": null,
   "id": "f0143ae0-d923-4dc1-9c2b-8d01fb7d8194",
   "metadata": {},
   "outputs": [],
   "source": []
  }
 ],
 "metadata": {
  "kernelspec": {
   "display_name": "tf",
   "language": "python",
   "name": "tf"
  },
  "language_info": {
   "codemirror_mode": {
    "name": "ipython",
    "version": 3
   },
   "file_extension": ".py",
   "mimetype": "text/x-python",
   "name": "python",
   "nbconvert_exporter": "python",
   "pygments_lexer": "ipython3",
   "version": "3.9.13"
  },
  "widgets": {
   "application/vnd.jupyter.widget-state+json": {
    "state": {},
    "version_major": 2,
    "version_minor": 0
   }
  }
 },
 "nbformat": 4,
 "nbformat_minor": 5
}
