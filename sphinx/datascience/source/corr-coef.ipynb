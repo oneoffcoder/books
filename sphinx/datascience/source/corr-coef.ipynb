{
 "cells": [
  {
   "cell_type": "markdown",
   "id": "1610661f-6f5c-46af-b2e1-b7f16c7afe2b",
   "metadata": {},
   "source": [
    "# Correlation vs Regression Coefficient\n",
    "\n",
    "For two variables $X$ and $Y$, we can compute the correlation and a regression coefficient when regressing $Y \\sim X$. Let's see the similarities and differences between the correlation and regression coefficient. In general, both provide\n",
    "\n",
    "- direction (sign, positive or negative), and\n",
    "- magnitude (value).\n",
    "\n",
    "Typically, correlation, as computed using [Pearson's correlation](https://en.wikipedia.org/wiki/Pearson_correlation_coefficient), is in the range $[-1, 1]$, where a value of\n",
    "\n",
    "- $-1$ indicates negative correlation (as one variable goes up, the other goes down),\n",
    "- $0$ indicates no correlation (as one variable goes up or down, the other is not affected), and,\n",
    "- $1$ indicates positive correlation (as one variable goes up, the other goes up as well).\n",
    "\n",
    "For a regression coefficient $\\beta_X$ between $X$ and $Y$ when performing the regression $Y \\sim X$, the direction can be positive or negative (just like in regression, with the same interpretation), however, the magnitude is not bounded in the range $[-1, 1]$ and can be unbounded $[-\\infty, \\infty]$, in fact. The regression coefficient $\\beta_X$ associated with $X$ for $Y \\sim X$ is a weight on $X$ and determines how it influences the baseline (expected/average) value of $Y$ to change by; in other words, the regression coefficient $\\beta_X$ is how much change we can expect the baseline of $Y$ to change when $X$ changes by a unit. \n",
    "\n",
    "The regression coefficient is useful for prediction problems, while the correlation is useful for summarizing the association between two variables. However, they are related conceptually and computationally. "
   ]
  },
  {
   "cell_type": "markdown",
   "id": "707aa4aa-b8b3-4374-8fb4-131391675b42",
   "metadata": {},
   "source": [
    "## Simulation\n",
    "\n",
    "Let's simulate the following data.\n",
    "\n",
    "- $X \\sim \\mathcal{N}(0, 3)$\n",
    "- $Y \\sim 5 + 3 X + e$\n",
    "- $e \\sim \\mathcal{N}(0, 1)$"
   ]
  },
  {
   "cell_type": "code",
   "execution_count": 1,
   "id": "a21c01ec-1e6f-4187-9445-5dd4624f9f0c",
   "metadata": {},
   "outputs": [],
   "source": [
    "import pandas as pd\n",
    "import numpy as np\n",
    "\n",
    "np.random.seed(37)\n",
    "\n",
    "n = 1_000\n",
    "x = np.random.normal(0, 3, n)\n",
    "y = 5 + 3 * x + np.random.normal(0, 1, n)\n",
    "\n",
    "df = pd.DataFrame({\n",
    "    'x': x,\n",
    "    'y': y\n",
    "})"
   ]
  },
  {
   "cell_type": "markdown",
   "id": "bfef376e-45a3-44c6-a3f9-d612bb206a13",
   "metadata": {},
   "source": [
    "## Correlation\n",
    "\n",
    "Computing the correlation is very easy using Pandas. As you can see, $X$ and $Y$ are nearly perfectly correlated in a positive way."
   ]
  },
  {
   "cell_type": "code",
   "execution_count": 2,
   "id": "c2af1781-e6e2-4837-964e-530d3df255dd",
   "metadata": {},
   "outputs": [
    {
     "data": {
      "text/html": [
       "<div>\n",
       "<style scoped>\n",
       "    .dataframe tbody tr th:only-of-type {\n",
       "        vertical-align: middle;\n",
       "    }\n",
       "\n",
       "    .dataframe tbody tr th {\n",
       "        vertical-align: top;\n",
       "    }\n",
       "\n",
       "    .dataframe thead th {\n",
       "        text-align: right;\n",
       "    }\n",
       "</style>\n",
       "<table border=\"1\" class=\"dataframe\">\n",
       "  <thead>\n",
       "    <tr style=\"text-align: right;\">\n",
       "      <th></th>\n",
       "      <th>x</th>\n",
       "      <th>y</th>\n",
       "    </tr>\n",
       "  </thead>\n",
       "  <tbody>\n",
       "    <tr>\n",
       "      <th>x</th>\n",
       "      <td>1.000000</td>\n",
       "      <td>0.993783</td>\n",
       "    </tr>\n",
       "    <tr>\n",
       "      <th>y</th>\n",
       "      <td>0.993783</td>\n",
       "      <td>1.000000</td>\n",
       "    </tr>\n",
       "  </tbody>\n",
       "</table>\n",
       "</div>"
      ],
      "text/plain": [
       "          x         y\n",
       "x  1.000000  0.993783\n",
       "y  0.993783  1.000000"
      ]
     },
     "execution_count": 2,
     "metadata": {},
     "output_type": "execute_result"
    }
   ],
   "source": [
    "df.corr()"
   ]
  },
  {
   "cell_type": "markdown",
   "id": "bc878e19-5eb7-4419-bfbd-d8f218e081ce",
   "metadata": {},
   "source": [
    "## Regression coefficient\n",
    "\n",
    "Now, let's regress $Y \\sim X$. You can see that the intercept is the average value of $Y$ at 4.9 (which is not far from the truth, 5.0). The coefficient $\\beta_X$ for $X$ is 2.9987 (which is not far from the truth, 3.0). When $X$ changes, we can expect the baseline value of $Y$ to change by a factor of 2.9987."
   ]
  },
  {
   "cell_type": "code",
   "execution_count": 3,
   "id": "b00b025b-638a-4bb4-b397-14af90e95378",
   "metadata": {},
   "outputs": [
    {
     "data": {
      "text/plain": [
       "(4.983964548516603, array([2.99871521]))"
      ]
     },
     "execution_count": 3,
     "metadata": {},
     "output_type": "execute_result"
    }
   ],
   "source": [
    "from sklearn.linear_model import LinearRegression\n",
    "\n",
    "m = LinearRegression()\n",
    "m.fit(df[['x']], df['y'])\n",
    "\n",
    "m.intercept_, m.coef_"
   ]
  },
  {
   "cell_type": "markdown",
   "id": "baed5342-e97d-4785-b554-346c58a80daf",
   "metadata": {},
   "source": [
    "## Correlation from regression coefficient\n",
    "\n",
    "We can compute the correlation from the regression coeffcient as follows.\n",
    "\n",
    "$r = \\dfrac{\\sigma^2_{XY}}{\\sigma_X \\sigma_Y} = \\beta_X \\dfrac{\\sigma_X}{\\sigma_Y}$"
   ]
  },
  {
   "cell_type": "code",
   "execution_count": 4,
   "id": "d17befe4-453c-4899-94a3-e40a225cdf49",
   "metadata": {},
   "outputs": [
    {
     "data": {
      "text/plain": [
       "0.993782985850263"
      ]
     },
     "execution_count": 4,
     "metadata": {},
     "output_type": "execute_result"
    }
   ],
   "source": [
    "b = m.coef_[0]\n",
    "s_x = df['x'].std()\n",
    "s_y = df['y'].std()\n",
    "\n",
    "\n",
    "r = b * (s_x / s_y)\n",
    "r"
   ]
  },
  {
   "cell_type": "markdown",
   "id": "bd0f2768-cd08-4dc0-8d5e-c37b60494f44",
   "metadata": {},
   "source": [
    "## Regression coefficient from correlation\n",
    "\n",
    "We can compute the regression coefficient from correlation as follows.\n",
    "\n",
    "$\\beta_X = \\dfrac{\\sigma^2_{XY}}{\\sigma_X} = r \\dfrac{\\sigma_Y}{\\sigma_X}$"
   ]
  },
  {
   "cell_type": "code",
   "execution_count": 5,
   "id": "8fc5915d-2995-49f2-ac11-467135e6155c",
   "metadata": {},
   "outputs": [
    {
     "data": {
      "text/plain": [
       "2.9987152098184437"
      ]
     },
     "execution_count": 5,
     "metadata": {},
     "output_type": "execute_result"
    }
   ],
   "source": [
    "v_xy = df.cov().iloc[0, 1]\n",
    "v_x = df['x'].var()\n",
    "\n",
    "b = v_xy / v_x\n",
    "b"
   ]
  },
  {
   "cell_type": "code",
   "execution_count": 6,
   "id": "127296d4-0333-4ed3-9801-295dbd7ec18d",
   "metadata": {},
   "outputs": [
    {
     "data": {
      "text/plain": [
       "2.998715209818446"
      ]
     },
     "execution_count": 6,
     "metadata": {},
     "output_type": "execute_result"
    }
   ],
   "source": [
    "b = r * (s_y / s_x)\n",
    "b"
   ]
  },
  {
   "cell_type": "markdown",
   "id": "ee108fb7-9f05-4d24-a56a-a0150a2e1cc9",
   "metadata": {},
   "source": [
    "## Regressing X ~ Y\n",
    "\n",
    "Now let's regress $X \\sim Y$ and see what $\\beta_Y$ is for $Y$. According to the equations above, we really do not have to do a regression equation to get the regression coefficient.\n",
    "\n",
    "$\\beta_Y = \\dfrac{\\sigma^2_{XY}}{\\sigma_Y} = r \\dfrac{\\sigma_X}{\\sigma_Y}$"
   ]
  },
  {
   "cell_type": "code",
   "execution_count": 7,
   "id": "1a6bc155-7afe-4c3a-a954-54b341699f37",
   "metadata": {},
   "outputs": [
    {
     "data": {
      "text/plain": [
       "0.3293425863622632"
      ]
     },
     "execution_count": 7,
     "metadata": {},
     "output_type": "execute_result"
    }
   ],
   "source": [
    "v_xy = df.cov().iloc[0, 1]\n",
    "v_y = df['y'].var()\n",
    "\n",
    "b = v_xy / v_y\n",
    "b"
   ]
  },
  {
   "cell_type": "code",
   "execution_count": 8,
   "id": "afafa0c3-4b5a-4920-917e-adfd216cf0f4",
   "metadata": {},
   "outputs": [
    {
     "data": {
      "text/plain": [
       "0.3293425863622633"
      ]
     },
     "execution_count": 8,
     "metadata": {},
     "output_type": "execute_result"
    }
   ],
   "source": [
    "b = r * (s_x / s_y)\n",
    "b"
   ]
  },
  {
   "cell_type": "markdown",
   "id": "cb97a90d-19cb-4def-ad0a-fc6aa135b417",
   "metadata": {},
   "source": [
    "But, let's do the regression anyways. You can see that $\\beta_Y$ is the same in call cases. \n",
    "\n",
    "- Bonus: Why is the intercept -1.6 though (and not the average value of X)?"
   ]
  },
  {
   "cell_type": "code",
   "execution_count": 9,
   "id": "745dfd29-fa2f-46a7-a153-08a359aa29ed",
   "metadata": {},
   "outputs": [
    {
     "data": {
      "text/plain": [
       "(-1.6409565959948018, array([0.32934259]))"
      ]
     },
     "execution_count": 9,
     "metadata": {},
     "output_type": "execute_result"
    }
   ],
   "source": [
    "m = LinearRegression()\n",
    "m.fit(df[['y']], df['x'])\n",
    "\n",
    "m.intercept_, m.coef_"
   ]
  },
  {
   "cell_type": "markdown",
   "id": "badd7bc1-caa0-4636-903c-4b403be441d7",
   "metadata": {},
   "source": [
    "The correlation can then be derived from $\\beta_Y$.\n",
    "\n",
    "$r = \\dfrac{\\sigma^2_{XY}}{\\sigma_X \\sigma_Y} = \\beta_Y \\dfrac{\\sigma_Y}{\\sigma_X}$"
   ]
  },
  {
   "cell_type": "code",
   "execution_count": 10,
   "id": "1283b4ef-b1e6-4d2a-a264-d2d7aa6a1db2",
   "metadata": {},
   "outputs": [
    {
     "data": {
      "text/plain": [
       "0.993782985850263"
      ]
     },
     "execution_count": 10,
     "metadata": {},
     "output_type": "execute_result"
    }
   ],
   "source": [
    "b * (s_y / s_x)"
   ]
  },
  {
   "cell_type": "markdown",
   "id": "b8c6e7ac-2984-4d2b-b0ba-50e6c068e102",
   "metadata": {},
   "source": [
    "## z-scores"
   ]
  },
  {
   "cell_type": "markdown",
   "id": "46e8a1ad-8a97-4ba0-9985-8277d6ed4e8c",
   "metadata": {},
   "source": [
    "Notice how $\\beta_X$ and $\\beta_Y$ are not (necessarily) the same; they are asymmetrical (though not always), while correlation is symmetrical (always). However, if we transform $X$ and $Y$ into their z-scores, look what happens to the coefficients with the regression models as well as the correlation coefficient.\n",
    "\n",
    "- $X_z \\sim Y_z$\n",
    "- $Y_z \\sim X_z$\n",
    "\n",
    "It seems both models are now indistinguishable and the coefficients are the same."
   ]
  },
  {
   "cell_type": "code",
   "execution_count": 11,
   "id": "167c3ae8-17f9-4f72-bdf8-765fdfc4ecac",
   "metadata": {},
   "outputs": [
    {
     "data": {
      "text/plain": [
       "(3.2912297889129536e-17, array([0.99378299]))"
      ]
     },
     "execution_count": 11,
     "metadata": {},
     "output_type": "execute_result"
    }
   ],
   "source": [
    "from scipy.stats import zscore\n",
    "\n",
    "Z = df.apply(zscore)\n",
    "\n",
    "m.fit(Z[['x']], Z['y'])\n",
    "m.intercept_, m.coef_"
   ]
  },
  {
   "cell_type": "code",
   "execution_count": 12,
   "id": "c821ca7a-892c-4c64-984a-3ec85e1ff637",
   "metadata": {},
   "outputs": [
    {
     "data": {
      "text/plain": [
       "(-3.260859790997736e-17, array([0.99378299]))"
      ]
     },
     "execution_count": 12,
     "metadata": {},
     "output_type": "execute_result"
    }
   ],
   "source": [
    "m.fit(Z[['y']], Z['x'])\n",
    "m.intercept_, m.coef_"
   ]
  },
  {
   "cell_type": "markdown",
   "id": "a663c145-2a33-48e0-9363-40f8a7e60cdd",
   "metadata": {},
   "source": [
    "Now, observe the correlation between $X_z$ and $Y_z$."
   ]
  },
  {
   "cell_type": "code",
   "execution_count": 13,
   "id": "23b3c6e6-466e-4420-a067-a17b7a9e9c31",
   "metadata": {},
   "outputs": [
    {
     "data": {
      "text/html": [
       "<div>\n",
       "<style scoped>\n",
       "    .dataframe tbody tr th:only-of-type {\n",
       "        vertical-align: middle;\n",
       "    }\n",
       "\n",
       "    .dataframe tbody tr th {\n",
       "        vertical-align: top;\n",
       "    }\n",
       "\n",
       "    .dataframe thead th {\n",
       "        text-align: right;\n",
       "    }\n",
       "</style>\n",
       "<table border=\"1\" class=\"dataframe\">\n",
       "  <thead>\n",
       "    <tr style=\"text-align: right;\">\n",
       "      <th></th>\n",
       "      <th>x</th>\n",
       "      <th>y</th>\n",
       "    </tr>\n",
       "  </thead>\n",
       "  <tbody>\n",
       "    <tr>\n",
       "      <th>x</th>\n",
       "      <td>1.000000</td>\n",
       "      <td>0.993783</td>\n",
       "    </tr>\n",
       "    <tr>\n",
       "      <th>y</th>\n",
       "      <td>0.993783</td>\n",
       "      <td>1.000000</td>\n",
       "    </tr>\n",
       "  </tbody>\n",
       "</table>\n",
       "</div>"
      ],
      "text/plain": [
       "          x         y\n",
       "x  1.000000  0.993783\n",
       "y  0.993783  1.000000"
      ]
     },
     "execution_count": 13,
     "metadata": {},
     "output_type": "execute_result"
    }
   ],
   "source": [
    "Z.corr()"
   ]
  },
  {
   "cell_type": "markdown",
   "id": "b6c69c25-5728-426f-9e97-ef93bd741ac2",
   "metadata": {},
   "source": [
    "It even seems that the coefficients and correlation are the same! In fact they are the same in z-score space to each other and to the correlation in the original space. When the data is standardized (z-score), then the following holds.\n",
    "\n",
    "- $r = r_z = \\beta_{X_z} = \\beta_{Y_z}$\n",
    "\n",
    "In fact, [standardizing the data is a very common thing to do in regression](https://en.wikipedia.org/wiki/Standardized_coefficient) to compare coefficients. When standardizing a dataset, the variables lose their units (they are unitless) and the coefficients are not interpreted per unit changes but per standard deviation changes in influencing the target variable. The above only holds when there are 2 variables at play, but when there are multiple independent variables, the situation changes."
   ]
  },
  {
   "cell_type": "markdown",
   "id": "9fe0ec47-845b-4c91-9888-e0b1d852e250",
   "metadata": {},
   "source": [
    "## House value, simulation\n",
    "\n",
    "Let's simulate data as follows.\n",
    "\n",
    "- $I ~ \\sim \\mathcal{N}(30000, 5000)$\n",
    "- $A ~ \\sim \\mathcal{N}(45, 5)$\n",
    "- $e ~ \\sim \\mathcal{N}(0, 1)$\n",
    "- $y = H ~ \\sim 250000 + 3 I - 0.5 A + e$\n",
    "\n",
    "where,\n",
    "\n",
    "- $I$ is the yearly income of a person,\n",
    "- $A$ is the age of a person,\n",
    "- $e$ is random error,\n",
    "- $y$ or $H$ is the worth of a person's home "
   ]
  },
  {
   "cell_type": "code",
   "execution_count": 20,
   "id": "9ac4c755-4a84-4c27-99c1-99acf0dd19fd",
   "metadata": {},
   "outputs": [],
   "source": [
    "n = 1_000\n",
    "\n",
    "income = np.random.normal(30_000, 5_000, n)\n",
    "age = np.random.normal(45, 5, n)\n",
    "house = 250_000 + (3 * income) - (0.5 * age) + np.random.normal(0, 1, n)\n",
    "\n",
    "df = pd.DataFrame({\n",
    "    'income': income,\n",
    "    'age': age,\n",
    "    'y': house\n",
    "})"
   ]
  },
  {
   "cell_type": "code",
   "execution_count": 24,
   "id": "63d64ce2-c212-4c10-b02d-39f39121e7f8",
   "metadata": {},
   "outputs": [],
   "source": [
    "Z = df.apply(zscore)"
   ]
  },
  {
   "cell_type": "markdown",
   "id": "613919cd-7c3a-41e6-b719-effe9d439995",
   "metadata": {},
   "source": [
    "As you can see, the correlations are the same, whether we are in unit (raw) or unitless (z-score) space."
   ]
  },
  {
   "cell_type": "code",
   "execution_count": 21,
   "id": "24d3cd14-3e3b-4b5b-b8d0-453531df0f21",
   "metadata": {},
   "outputs": [
    {
     "data": {
      "text/html": [
       "<div>\n",
       "<style scoped>\n",
       "    .dataframe tbody tr th:only-of-type {\n",
       "        vertical-align: middle;\n",
       "    }\n",
       "\n",
       "    .dataframe tbody tr th {\n",
       "        vertical-align: top;\n",
       "    }\n",
       "\n",
       "    .dataframe thead th {\n",
       "        text-align: right;\n",
       "    }\n",
       "</style>\n",
       "<table border=\"1\" class=\"dataframe\">\n",
       "  <thead>\n",
       "    <tr style=\"text-align: right;\">\n",
       "      <th></th>\n",
       "      <th>income</th>\n",
       "      <th>age</th>\n",
       "      <th>y</th>\n",
       "    </tr>\n",
       "  </thead>\n",
       "  <tbody>\n",
       "    <tr>\n",
       "      <th>income</th>\n",
       "      <td>1.000000</td>\n",
       "      <td>0.006481</td>\n",
       "      <td>1.000000</td>\n",
       "    </tr>\n",
       "    <tr>\n",
       "      <th>age</th>\n",
       "      <td>0.006481</td>\n",
       "      <td>1.000000</td>\n",
       "      <td>0.006309</td>\n",
       "    </tr>\n",
       "    <tr>\n",
       "      <th>y</th>\n",
       "      <td>1.000000</td>\n",
       "      <td>0.006309</td>\n",
       "      <td>1.000000</td>\n",
       "    </tr>\n",
       "  </tbody>\n",
       "</table>\n",
       "</div>"
      ],
      "text/plain": [
       "          income       age         y\n",
       "income  1.000000  0.006481  1.000000\n",
       "age     0.006481  1.000000  0.006309\n",
       "y       1.000000  0.006309  1.000000"
      ]
     },
     "execution_count": 21,
     "metadata": {},
     "output_type": "execute_result"
    }
   ],
   "source": [
    "df.corr()"
   ]
  },
  {
   "cell_type": "code",
   "execution_count": 25,
   "id": "8af3b9ef-4776-4ed0-a4f0-c424ca87ce0a",
   "metadata": {},
   "outputs": [
    {
     "data": {
      "text/html": [
       "<div>\n",
       "<style scoped>\n",
       "    .dataframe tbody tr th:only-of-type {\n",
       "        vertical-align: middle;\n",
       "    }\n",
       "\n",
       "    .dataframe tbody tr th {\n",
       "        vertical-align: top;\n",
       "    }\n",
       "\n",
       "    .dataframe thead th {\n",
       "        text-align: right;\n",
       "    }\n",
       "</style>\n",
       "<table border=\"1\" class=\"dataframe\">\n",
       "  <thead>\n",
       "    <tr style=\"text-align: right;\">\n",
       "      <th></th>\n",
       "      <th>income</th>\n",
       "      <th>age</th>\n",
       "      <th>y</th>\n",
       "    </tr>\n",
       "  </thead>\n",
       "  <tbody>\n",
       "    <tr>\n",
       "      <th>income</th>\n",
       "      <td>1.000000</td>\n",
       "      <td>0.006481</td>\n",
       "      <td>1.000000</td>\n",
       "    </tr>\n",
       "    <tr>\n",
       "      <th>age</th>\n",
       "      <td>0.006481</td>\n",
       "      <td>1.000000</td>\n",
       "      <td>0.006309</td>\n",
       "    </tr>\n",
       "    <tr>\n",
       "      <th>y</th>\n",
       "      <td>1.000000</td>\n",
       "      <td>0.006309</td>\n",
       "      <td>1.000000</td>\n",
       "    </tr>\n",
       "  </tbody>\n",
       "</table>\n",
       "</div>"
      ],
      "text/plain": [
       "          income       age         y\n",
       "income  1.000000  0.006481  1.000000\n",
       "age     0.006481  1.000000  0.006309\n",
       "y       1.000000  0.006309  1.000000"
      ]
     },
     "execution_count": 25,
     "metadata": {},
     "output_type": "execute_result"
    }
   ],
   "source": [
    "Z.corr()"
   ]
  },
  {
   "cell_type": "markdown",
   "id": "f8eec860-449c-435f-948c-a90baf81e01f",
   "metadata": {},
   "source": [
    "Now look at the regression parameters in unit or unitless space; they look very different from the the correlations.\n",
    "\n",
    "The coefficients of the regression with units is easy to interpret.\n",
    "\n",
    "- a unit change in income adds 3 times the income to the expected/baseline housing worth\n",
    "- a unit change in age removes 0.5 times the age to the expected/baseline housing worth."
   ]
  },
  {
   "cell_type": "code",
   "execution_count": 22,
   "id": "242a5b45-7659-4cf7-9ca0-5bdea09898f5",
   "metadata": {},
   "outputs": [
    {
     "data": {
      "text/plain": [
       "(249999.95252662763, array([ 3.0000031 , -0.50079101]))"
      ]
     },
     "execution_count": 22,
     "metadata": {},
     "output_type": "execute_result"
    }
   ],
   "source": [
    "# unit space\n",
    "m = LinearRegression()\n",
    "m.fit(df[['income', 'age']], df['y'])\n",
    "\n",
    "m.intercept_, m.coef_"
   ]
  },
  {
   "cell_type": "markdown",
   "id": "8c596074-1736-4e6c-9632-bf87ae8cfc2a",
   "metadata": {},
   "source": [
    "The coefficients of the regression without units is harder to interpret. \n",
    "\n",
    "- a one standard deviation change in income adds 1 standard deviation change to the expected/baseline housing worth\n",
    "- a one standard deviation change in income adds no standard deviation change to the expected/baseline housing worth"
   ]
  },
  {
   "cell_type": "code",
   "execution_count": 26,
   "id": "b620a356-3c33-4214-ae45-bcc4c62f1a9e",
   "metadata": {},
   "outputs": [
    {
     "data": {
      "text/plain": [
       "(-2.348538114834866e-15, array([ 1.00000110e+00, -1.72047727e-04]))"
      ]
     },
     "execution_count": 26,
     "metadata": {},
     "output_type": "execute_result"
    }
   ],
   "source": [
    "# unitless space\n",
    "m.fit(Z[['income', 'age']], Z['y'])\n",
    "m.intercept_, m.coef_"
   ]
  },
  {
   "cell_type": "markdown",
   "id": "23016146-d316-4c84-95c3-d21a0507fb90",
   "metadata": {},
   "source": [
    "For this mixture of unit and unitless features/variables, what's the interpretation?"
   ]
  },
  {
   "cell_type": "code",
   "execution_count": 28,
   "id": "cfca3b9b-7a93-474d-a3eb-82752a909ab3",
   "metadata": {},
   "outputs": [
    {
     "data": {
      "text/plain": [
       "(339455.06343383784, array([ 1.50604056e+04, -2.59110570e+00]))"
      ]
     },
     "execution_count": 28,
     "metadata": {},
     "output_type": "execute_result"
    }
   ],
   "source": [
    "# independent variables are unitless, dependent variable has unit\n",
    "m.fit(Z[['income', 'age']], df['y'])\n",
    "m.intercept_, m.coef_"
   ]
  }
 ],
 "metadata": {
  "kernelspec": {
   "display_name": "Python 3 (ipykernel)",
   "language": "python",
   "name": "python3"
  },
  "language_info": {
   "codemirror_mode": {
    "name": "ipython",
    "version": 3
   },
   "file_extension": ".py",
   "mimetype": "text/x-python",
   "name": "python",
   "nbconvert_exporter": "python",
   "pygments_lexer": "ipython3",
   "version": "3.9.16"
  },
  "widgets": {
   "application/vnd.jupyter.widget-state+json": {
    "state": {},
    "version_major": 2,
    "version_minor": 0
   }
  }
 },
 "nbformat": 4,
 "nbformat_minor": 5
}
