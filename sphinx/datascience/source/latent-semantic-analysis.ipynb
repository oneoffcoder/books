{
 "cells": [
  {
   "cell_type": "markdown",
   "metadata": {},
   "source": [
    "# Latent Semantic Analysis"
   ]
  },
  {
   "cell_type": "markdown",
   "metadata": {},
   "source": [
    "[Latent semantic analysis](https://en.wikipedia.org/wiki/Latent_semantic_analysis) (LSA) is a natural language processing (NLP) technique to bridge terms and documents through concepts. The idea is that there are hidden concepts (latent concepts) through which words and documents are related. The heart and soul of LSA is the application of [singular value decomposition](https://en.wikipedia.org/wiki/Singular-value_decomposition) (SVD) to a term-document matrix. In this tutorial, we will see how SVD is applied to documents and terms in those documents to flush out the latent concepts. "
   ]
  },
  {
   "cell_type": "markdown",
   "metadata": {},
   "source": [
    "## Data\n",
    "\n",
    "Assume we have 6 documents labelled, d1, d2, d3, d4, d5, and d6. The first three documents, d1, d2, and d3 are about computer programming, and the last three documents are about financial investment. Assume each of these documents have titles, and the keywords in these titles span the terms\n",
    "\n",
    "* programming\n",
    "* development\n",
    "* language\n",
    "* money\n",
    "* finance\n",
    "* currency\n",
    "\n",
    "We can build a term-document matrix of these terms and documents where the each row correspond to one of the unique terms, and the columns correspond to one of the documents. The term-document matrix is of dimensions, m x n = 6 x 6, corresponding to 6 terms (m rows) and 6 documents (n columns).\n",
    "\n",
    "The dataframe, df, below, builds this term-document matrix; notice that the columns are labelled d1, d2, ..., d6, and the rows are indexed from programming, development, ..., currency. This term-document matrix is essentially a boolean matrix where the i-th, j-th entry is 1 if the i-th term shows up in the j-th document, otherwise, it is zero. Of course, you can create a different term-document matrix based on word frequency or something else like [TF-IDF](https://en.wikipedia.org/wiki/Tf–idf). Either way, the concepts and methods still apply to the term-document matrix. Furthermore, we convert df to A (convert the dataframe to a matrix); meaning, df = A.\n",
    "\n",
    "Notice that we have a query document, q, for which we want to find similar documents. Later, we will transform the documents into data points in latent space, as well as q, and perform a search in latent space to find documents that are similar to q conceptually."
   ]
  },
  {
   "cell_type": "code",
   "execution_count": 1,
   "metadata": {
    "ExecuteTime": {
     "end_time": "2018-04-16T23:17:28.385000Z",
     "start_time": "2018-04-16T23:17:27.686000Z"
    }
   },
   "outputs": [],
   "source": [
    "import pandas as pd\n",
    "import numpy as np\n",
    "\n",
    "np.random.seed(37)\n",
    "np.set_printoptions(precision=2)\n",
    "\n",
    "df = pd.DataFrame(\n",
    "    data={\n",
    "        'd1': np.array([1, 1, 0, 0, 0, 0], dtype=np.float),\n",
    "        'd2': np.array([1, 1, 1, 0, 0, 0], dtype=np.float),\n",
    "        'd3': np.array([1, 0, 1, 0, 0, 0], dtype=np.float),\n",
    "        'd4': np.array([0, 0, 0, 1, 1, 0], dtype=np.float),\n",
    "        'd5': np.array([0, 0, 0, 1, 1, 1], dtype=np.float),\n",
    "        'd6': np.array([0, 0, 0, 1, 0, 1], dtype=np.float)\n",
    "    }, \n",
    "    index=['programming', 'development', 'language', 'money', 'finance', 'currency'])\n",
    "\n",
    "A = df.values\n",
    "q = np.array([1, 0, 0, 0, 0, 0], dtype=np.float).reshape(-1, 1)"
   ]
  },
  {
   "cell_type": "code",
   "execution_count": 2,
   "metadata": {},
   "outputs": [
    {
     "name": "stdout",
     "output_type": "stream",
     "text": [
      "A (6, 6)\n"
     ]
    },
    {
     "data": {
      "text/plain": [
       "array([[1., 1., 1., 0., 0., 0.],\n",
       "       [1., 1., 0., 0., 0., 0.],\n",
       "       [0., 1., 1., 0., 0., 0.],\n",
       "       [0., 0., 0., 1., 1., 1.],\n",
       "       [0., 0., 0., 1., 1., 0.],\n",
       "       [0., 0., 0., 0., 1., 1.]])"
      ]
     },
     "execution_count": 2,
     "metadata": {},
     "output_type": "execute_result"
    }
   ],
   "source": [
    "print('A', A.shape)\n",
    "A"
   ]
  },
  {
   "cell_type": "code",
   "execution_count": 3,
   "metadata": {},
   "outputs": [
    {
     "name": "stdout",
     "output_type": "stream",
     "text": [
      "q (6, 1)\n"
     ]
    },
    {
     "data": {
      "text/plain": [
       "array([[1.],\n",
       "       [0.],\n",
       "       [0.],\n",
       "       [0.],\n",
       "       [0.],\n",
       "       [0.]])"
      ]
     },
     "execution_count": 3,
     "metadata": {},
     "output_type": "execute_result"
    }
   ],
   "source": [
    "print('q', q.shape)\n",
    "q"
   ]
  },
  {
   "cell_type": "markdown",
   "metadata": {},
   "source": [
    "## Singular value decomposition\n",
    "\n",
    "We apply SVD to A, such that $A = USV'$. Note the following.\n",
    "\n",
    "* $U$ holds the coordinates of the individual terms.\n",
    "* $S$ represents the latent concepts.\n",
    "* $V$ holds the coordinates of the individual documents.\n",
    "* $VT$, or, equivalently, $V'$, is $V$ transposed.\n",
    "\n",
    "Note that $S$ stores the eigenvalues, $U$ stores the left-eigenvectors and $V'$ stores the right-eigenvectors."
   ]
  },
  {
   "cell_type": "code",
   "execution_count": 4,
   "metadata": {
    "ExecuteTime": {
     "end_time": "2018-04-16T23:17:28.555000Z",
     "start_time": "2018-04-16T23:17:28.420000Z"
    }
   },
   "outputs": [],
   "source": [
    "from numpy.linalg import svd\n",
    "\n",
    "U, S, VT = svd(A, full_matrices=False)\n",
    "S = np.diag(S)\n",
    "V = VT.transpose()"
   ]
  },
  {
   "cell_type": "code",
   "execution_count": 5,
   "metadata": {},
   "outputs": [
    {
     "name": "stdout",
     "output_type": "stream",
     "text": [
      "U (6, 6)\n"
     ]
    },
    {
     "data": {
      "text/plain": [
       "array([[-7.07e-01,  0.00e+00, -7.91e-17,  0.00e+00, -7.07e-01,  0.00e+00],\n",
       "       [-5.00e-01,  0.00e+00, -7.07e-01,  0.00e+00,  5.00e-01,  0.00e+00],\n",
       "       [-5.00e-01,  0.00e+00,  7.07e-01,  0.00e+00,  5.00e-01,  0.00e+00],\n",
       "       [ 0.00e+00, -7.07e-01,  0.00e+00, -7.91e-17,  0.00e+00, -7.07e-01],\n",
       "       [ 0.00e+00, -5.00e-01,  0.00e+00, -7.07e-01,  0.00e+00,  5.00e-01],\n",
       "       [ 0.00e+00, -5.00e-01,  0.00e+00,  7.07e-01,  0.00e+00,  5.00e-01]])"
      ]
     },
     "execution_count": 5,
     "metadata": {},
     "output_type": "execute_result"
    }
   ],
   "source": [
    "print('U', U.shape)\n",
    "U"
   ]
  },
  {
   "cell_type": "code",
   "execution_count": 6,
   "metadata": {},
   "outputs": [
    {
     "name": "stdout",
     "output_type": "stream",
     "text": [
      "S (6, 6)\n"
     ]
    },
    {
     "data": {
      "text/plain": [
       "array([[2.41, 0.  , 0.  , 0.  , 0.  , 0.  ],\n",
       "       [0.  , 2.41, 0.  , 0.  , 0.  , 0.  ],\n",
       "       [0.  , 0.  , 1.  , 0.  , 0.  , 0.  ],\n",
       "       [0.  , 0.  , 0.  , 1.  , 0.  , 0.  ],\n",
       "       [0.  , 0.  , 0.  , 0.  , 0.41, 0.  ],\n",
       "       [0.  , 0.  , 0.  , 0.  , 0.  , 0.41]])"
      ]
     },
     "execution_count": 6,
     "metadata": {},
     "output_type": "execute_result"
    }
   ],
   "source": [
    "print('S', S.shape)\n",
    "S"
   ]
  },
  {
   "cell_type": "code",
   "execution_count": 7,
   "metadata": {},
   "outputs": [
    {
     "name": "stdout",
     "output_type": "stream",
     "text": [
      "V (6, 6)\n"
     ]
    },
    {
     "data": {
      "text/plain": [
       "array([[-5.00e-01,  0.00e+00, -7.07e-01,  0.00e+00, -5.00e-01, -0.00e+00],\n",
       "       [-7.07e-01,  0.00e+00,  3.08e-16,  0.00e+00,  7.07e-01, -0.00e+00],\n",
       "       [-5.00e-01,  0.00e+00,  7.07e-01,  0.00e+00, -5.00e-01, -0.00e+00],\n",
       "       [ 0.00e+00, -5.00e-01,  0.00e+00, -7.07e-01, -0.00e+00, -5.00e-01],\n",
       "       [ 0.00e+00, -7.07e-01,  0.00e+00,  3.08e-16,  0.00e+00,  7.07e-01],\n",
       "       [ 0.00e+00, -5.00e-01,  0.00e+00,  7.07e-01,  0.00e+00, -5.00e-01]])"
      ]
     },
     "execution_count": 7,
     "metadata": {},
     "output_type": "execute_result"
    }
   ],
   "source": [
    "print('V', V.shape)\n",
    "V"
   ]
  },
  {
   "cell_type": "code",
   "execution_count": 8,
   "metadata": {},
   "outputs": [
    {
     "name": "stdout",
     "output_type": "stream",
     "text": [
      "VT (6, 6)\n"
     ]
    },
    {
     "data": {
      "text/plain": [
       "array([[-5.00e-01, -7.07e-01, -5.00e-01,  0.00e+00,  0.00e+00,  0.00e+00],\n",
       "       [ 0.00e+00,  0.00e+00,  0.00e+00, -5.00e-01, -7.07e-01, -5.00e-01],\n",
       "       [-7.07e-01,  3.08e-16,  7.07e-01,  0.00e+00,  0.00e+00,  0.00e+00],\n",
       "       [ 0.00e+00,  0.00e+00,  0.00e+00, -7.07e-01,  3.08e-16,  7.07e-01],\n",
       "       [-5.00e-01,  7.07e-01, -5.00e-01, -0.00e+00,  0.00e+00,  0.00e+00],\n",
       "       [-0.00e+00, -0.00e+00, -0.00e+00, -5.00e-01,  7.07e-01, -5.00e-01]])"
      ]
     },
     "execution_count": 8,
     "metadata": {},
     "output_type": "execute_result"
    }
   ],
   "source": [
    "print('VT', VT.shape)\n",
    "VT"
   ]
  },
  {
   "cell_type": "markdown",
   "metadata": {},
   "source": [
    "## Choose k << n\n",
    "\n",
    "We now need to choose a k that is way less than n (the number of terms), $k << n$. Typically, you could use a few of the [techniques below](https://en.wikipedia.org/wiki/Factor_analysis) for starters.\n",
    "\n",
    "* Kaiser criterion\n",
    "* Scree plot\n",
    "* Proportion of variance explained\n",
    "\n",
    "In our case, we arbitrarily choose k=3."
   ]
  },
  {
   "cell_type": "code",
   "execution_count": 9,
   "metadata": {
    "ExecuteTime": {
     "end_time": "2018-04-16T23:17:28.626000Z",
     "start_time": "2018-04-16T23:17:28.589000Z"
    }
   },
   "outputs": [],
   "source": [
    "from numpy.linalg import inv\n",
    "\n",
    "k = 3\n",
    "U_k = U[:, 0:k]\n",
    "S_k = inv(S[0:k, 0:k])\n",
    "V_k = V[:, 0:k]\n",
    "VT_k = VT[0:k, :]"
   ]
  },
  {
   "cell_type": "code",
   "execution_count": 10,
   "metadata": {},
   "outputs": [
    {
     "name": "stdout",
     "output_type": "stream",
     "text": [
      "U_k (6, 3)\n"
     ]
    },
    {
     "data": {
      "text/plain": [
       "array([[-7.07e-01,  0.00e+00, -7.91e-17],\n",
       "       [-5.00e-01,  0.00e+00, -7.07e-01],\n",
       "       [-5.00e-01,  0.00e+00,  7.07e-01],\n",
       "       [ 0.00e+00, -7.07e-01,  0.00e+00],\n",
       "       [ 0.00e+00, -5.00e-01,  0.00e+00],\n",
       "       [ 0.00e+00, -5.00e-01,  0.00e+00]])"
      ]
     },
     "execution_count": 10,
     "metadata": {},
     "output_type": "execute_result"
    }
   ],
   "source": [
    "print('U_k', U_k.shape)\n",
    "U_k"
   ]
  },
  {
   "cell_type": "code",
   "execution_count": 11,
   "metadata": {},
   "outputs": [
    {
     "name": "stdout",
     "output_type": "stream",
     "text": [
      "S_k^-1 (3, 3)\n"
     ]
    },
    {
     "data": {
      "text/plain": [
       "array([[0.41, 0.  , 0.  ],\n",
       "       [0.  , 0.41, 0.  ],\n",
       "       [0.  , 0.  , 1.  ]])"
      ]
     },
     "execution_count": 11,
     "metadata": {},
     "output_type": "execute_result"
    }
   ],
   "source": [
    "print('S_k^-1', S_k.shape)\n",
    "S_k"
   ]
  },
  {
   "cell_type": "code",
   "execution_count": 12,
   "metadata": {},
   "outputs": [
    {
     "name": "stdout",
     "output_type": "stream",
     "text": [
      "V_k (6, 3)\n"
     ]
    },
    {
     "data": {
      "text/plain": [
       "array([[-5.00e-01,  0.00e+00, -7.07e-01],\n",
       "       [-7.07e-01,  0.00e+00,  3.08e-16],\n",
       "       [-5.00e-01,  0.00e+00,  7.07e-01],\n",
       "       [ 0.00e+00, -5.00e-01,  0.00e+00],\n",
       "       [ 0.00e+00, -7.07e-01,  0.00e+00],\n",
       "       [ 0.00e+00, -5.00e-01,  0.00e+00]])"
      ]
     },
     "execution_count": 12,
     "metadata": {},
     "output_type": "execute_result"
    }
   ],
   "source": [
    "print('V_k', V_k.shape)\n",
    "V_k"
   ]
  },
  {
   "cell_type": "code",
   "execution_count": 13,
   "metadata": {},
   "outputs": [
    {
     "name": "stdout",
     "output_type": "stream",
     "text": [
      "VT_k (3, 6)\n"
     ]
    },
    {
     "data": {
      "text/plain": [
       "array([[-5.00e-01, -7.07e-01, -5.00e-01,  0.00e+00,  0.00e+00,  0.00e+00],\n",
       "       [ 0.00e+00,  0.00e+00,  0.00e+00, -5.00e-01, -7.07e-01, -5.00e-01],\n",
       "       [-7.07e-01,  3.08e-16,  7.07e-01,  0.00e+00,  0.00e+00,  0.00e+00]])"
      ]
     },
     "execution_count": 13,
     "metadata": {},
     "output_type": "execute_result"
    }
   ],
   "source": [
    "print('VT_k', VT_k.shape)\n",
    "VT_k"
   ]
  },
  {
   "cell_type": "markdown",
   "metadata": {},
   "source": [
    "## Visualize concepts to documents\n",
    "\n",
    "Here, we plot how the concepts (dimensions in latent space) relate to each document. Note that dimension 1 relates to documents 1, 2, and 3, and dimension 2 relates to documents 4, 5, 6."
   ]
  },
  {
   "cell_type": "code",
   "execution_count": 14,
   "metadata": {
    "ExecuteTime": {
     "end_time": "2018-04-16T23:17:29.971000Z",
     "start_time": "2018-04-16T23:17:28.683000Z"
    }
   },
   "outputs": [
    {
     "data": {
      "image/png": "[encoded data removed]",
      "text/plain": [
       "<Figure size 720x360 with 2 Axes>"
      ]
     },
     "metadata": {
      "needs_background": "light"
     },
     "output_type": "display_data"
    }
   ],
   "source": [
    "%matplotlib inline\n",
    "\n",
    "import matplotlib.pylab as plt\n",
    "import seaborn as sns\n",
    "\n",
    "fig, ax = plt.subplots(figsize=(10, 5))\n",
    "x_labels = ['doc{}'.format(i+1) for i in range(VT_k.shape[1])]\n",
    "y_labels = ['dim{}'.format(i+1) for i in range(VT_k.shape[0])]\n",
    "sns.heatmap(VT_k, xticklabels=x_labels, yticklabels=y_labels, center=0.0, ax=ax)\n",
    "plt.show()"
   ]
  },
  {
   "cell_type": "markdown",
   "metadata": {},
   "source": [
    "## Cluster in latent space\n",
    "\n",
    "We can also cluster the documents in latent space. Note that we already know there are 2 clusters, so we use k-means to cluster and specify 2 clusters."
   ]
  },
  {
   "cell_type": "code",
   "execution_count": 15,
   "metadata": {
    "ExecuteTime": {
     "end_time": "2018-04-16T23:17:30.294000Z",
     "start_time": "2018-04-16T23:17:30.003000Z"
    }
   },
   "outputs": [
    {
     "name": "stdout",
     "output_type": "stream",
     "text": [
      "[1 1 1 0 0 0]\n",
      "[[ 0.00e+00 -5.69e-01  0.00e+00]\n",
      " [-5.69e-01  0.00e+00  5.55e-17]]\n"
     ]
    }
   ],
   "source": [
    "from sklearn.cluster import KMeans\n",
    "\n",
    "kmeans = KMeans(n_clusters=2).fit(V_k)\n",
    "print(kmeans.labels_)\n",
    "print(kmeans.cluster_centers_)"
   ]
  },
  {
   "cell_type": "markdown",
   "metadata": {},
   "source": [
    "## Visualize terms and documents\n",
    "\n",
    "Here we plot the terms and documents in the latent space. Since we have selected 3 dimensions in latent space, we will plot the terms and documents with dimension 1 vs dimension 2, dimension 1 vs dimension 3, and dimension 2 vs dimension 3. Note that in the plot of dimension 1 vs dimension 2, all the programming books cluster together with the programming keywords, and all the financial books cluster together with the financial keywords."
   ]
  },
  {
   "cell_type": "code",
   "execution_count": 16,
   "metadata": {
    "ExecuteTime": {
     "end_time": "2018-04-16T23:17:31.754000Z",
     "start_time": "2018-04-16T23:17:30.335000Z"
    }
   },
   "outputs": [
    {
     "data": {
      "image/png": "[encoded data removed]",
      "text/plain": [
       "<Figure size 720x720 with 4 Axes>"
      ]
     },
     "metadata": {
      "needs_background": "light"
     },
     "output_type": "display_data"
    }
   ],
   "source": [
    "from scipy.special import binom\n",
    "import math\n",
    "\n",
    "def plot_terms_docs(x_index, y_index, U, V, df, ax):\n",
    "    def get_jitter():\n",
    "        return np.random.choice(np.linspace(0.05, 0.2, 20), 1)\n",
    "    \n",
    "    for i in range(len(df.index)):\n",
    "        term = df.index[i]\n",
    "        x = U[i][x_index] + get_jitter()\n",
    "        y = U[i][y_index] + get_jitter()\n",
    "\n",
    "        ax.plot(x, y, color='red', marker='*', markersize=10.0)\n",
    "        ax.annotate(term, xy=(x, y), \n",
    "                    textcoords='data', \n",
    "                    horizontalalignment='left', \n",
    "                    verticalalignment='bottom')\n",
    "\n",
    "    for i in range(V.shape[0]):\n",
    "        doc = 'd{}'.format(i + 1)\n",
    "        x = V[i][x_index] + get_jitter()\n",
    "        y = V[i][y_index] + get_jitter()\n",
    "\n",
    "        ax.plot(x, y, color='blue', marker='o', markersize=10.0)\n",
    "        ax.annotate(doc, xy=(x, y), \n",
    "                    textcoords='data', \n",
    "                    horizontalalignment='left', \n",
    "                    verticalalignment='bottom')\n",
    "        \n",
    "n = U_k.shape[1]\n",
    "num_cols = 2\n",
    "num_rows = 1\n",
    "num_combinations = int(binom(n, num_cols))\n",
    "is_odd = False\n",
    "\n",
    "if num_combinations % num_cols == 0:\n",
    "    num_rows = num_combinations / num_cols\n",
    "else:\n",
    "    num_rows = math.floor(num_combinations / num_cols + 1)\n",
    "    is_odd = True\n",
    "\n",
    "fig, axes = plt.subplots(num_rows, num_cols, \n",
    "                         sharex=False, sharey=False, \n",
    "                         figsize=(10, 10))\n",
    "if is_odd is True:\n",
    "    axes[-1, -1].axis('off')\n",
    "axes = axes.ravel()\n",
    "ax_counter = 0\n",
    "\n",
    "for i in range(n):\n",
    "    for j in range(n):\n",
    "        if j > i:\n",
    "            ax = axes[ax_counter]\n",
    "            plot_terms_docs(i, j, U_k, V_k, df, ax)\n",
    "            ax.set_xlabel('dim{}'.format(i + 1))\n",
    "            ax.set_ylabel('dim{}'.format(j + 1))\n",
    "\n",
    "            ax_counter += 1"
   ]
  },
  {
   "cell_type": "markdown",
   "metadata": {},
   "source": [
    "## Query for similar documents\n",
    "\n",
    "This example shows how to convert a new document into latent space and then query for similar documents. Note that the new document has the term \"programming\", thus, its cosine-similarity is closer to the programming documents than the financial ones."
   ]
  },
  {
   "cell_type": "code",
   "execution_count": 17,
   "metadata": {
    "ExecuteTime": {
     "end_time": "2018-04-16T23:17:31.822000Z",
     "start_time": "2018-04-16T23:17:31.799000Z"
    }
   },
   "outputs": [
    {
     "name": "stdout",
     "output_type": "stream",
     "text": [
      "q in latent space (1, 3)\n"
     ]
    },
    {
     "data": {
      "text/plain": [
       "array([[-2.93e-01,  0.00e+00, -7.91e-17]])"
      ]
     },
     "execution_count": 17,
     "metadata": {},
     "output_type": "execute_result"
    }
   ],
   "source": [
    "r = q.transpose().dot(U_k).dot(S_k)\n",
    "\n",
    "print('q in latent space', r.shape)\n",
    "r"
   ]
  },
  {
   "cell_type": "code",
   "execution_count": 18,
   "metadata": {
    "ExecuteTime": {
     "end_time": "2018-04-16T23:17:31.896000Z",
     "start_time": "2018-04-16T23:17:31.857000Z"
    }
   },
   "outputs": [
    {
     "name": "stdout",
     "output_type": "stream",
     "text": [
      "q similarities to docs in latent space (1, 6)\n"
     ]
    },
    {
     "data": {
      "text/plain": [
       "array([[0.58, 1.  , 0.58, 0.  , 0.  , 0.  ]])"
      ]
     },
     "execution_count": 18,
     "metadata": {},
     "output_type": "execute_result"
    }
   ],
   "source": [
    "from sklearn.metrics.pairwise import cosine_similarity\n",
    "\n",
    "r = cosine_similarity(q.transpose().dot(U_k).dot(S_k), V_k)\n",
    "\n",
    "print('q similarities to docs in latent space', r.shape)\n",
    "r"
   ]
  }
 ],
 "metadata": {
  "kernelspec": {
   "display_name": "Python 3",
   "language": "python",
   "name": "python3"
  },
  "language_info": {
   "codemirror_mode": {
    "name": "ipython",
    "version": 3
   },
   "file_extension": ".py",
   "mimetype": "text/x-python",
   "name": "python",
   "nbconvert_exporter": "python",
   "pygments_lexer": "ipython3",
   "version": "3.7.3"
  },
  "toc": {
   "base_numbering": 1,
   "nav_menu": {},
   "number_sections": true,
   "sideBar": true,
   "skip_h1_title": false,
   "title_cell": "Table of Contents",
   "title_sidebar": "Contents",
   "toc_cell": false,
   "toc_position": {},
   "toc_section_display": true,
   "toc_window_display": false
  },
  "varInspector": {
   "cols": {
    "lenName": 16,
    "lenType": 16,
    "lenVar": 40
   },
   "kernels_config": {
    "python": {
     "delete_cmd_postfix": "",
     "delete_cmd_prefix": "del ",
     "library": "var_list.py",
     "varRefreshCmd": "print(var_dic_list())"
    },
    "r": {
     "delete_cmd_postfix": ") ",
     "delete_cmd_prefix": "rm(",
     "library": "var_list.r",
     "varRefreshCmd": "cat(var_dic_list()) "
    }
   },
   "types_to_exclude": [
    "module",
    "function",
    "builtin_function_or_method",
    "instance",
    "_Feature"
   ],
   "window_display": false
  }
 },
 "nbformat": 4,
 "nbformat_minor": 4
}
