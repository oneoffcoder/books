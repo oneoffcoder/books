{
 "cells": [
  {
   "cell_type": "markdown",
   "metadata": {},
   "source": [
    "# Dynamic Bayesian Networks, Hidden Markov Models\n",
    "\n",
    "A Hidden Markov Model (HMM) is a special type of Bayesian Network (BN) called a Dynamic Bayesian Network (DNB). We will show how the two are related. A HMM may be represented in either matrix form for computation for as a graph for understanding the states and transitions. A DBN is a BN used to model time series data and can be used to model a HMM."
   ]
  },
  {
   "cell_type": "markdown",
   "metadata": {},
   "source": [
    "## Hidden Markov Model\n",
    "\n",
    "Below is a [HMM](https://en.wikipedia.org/wiki/Hidden_Markov_mode) with $T$ transition matrix and $E$ emission matrix. $T$ specifies the transition probabilities between the hidden states and $E$ specifies the output probabilities given the hidden state. Note that $T$ is the hidden state of the weather (rainy or sunny) and $E$ is the observation/output of the activity (walk, shop and clean)."
   ]
  },
  {
   "cell_type": "code",
   "execution_count": 1,
   "metadata": {},
   "outputs": [],
   "source": [
    "import numpy as np\n",
    "\n",
    "T = np.array([[0.7, 0.3], [0.4, 0.6]]).cumsum(axis=1)\n",
    "\n",
    "E = np.array([\n",
    "    [0.1, 0.4, 0.5],\n",
    "    [0.6, 0.3, 0.1]\n",
    "]).cumsum(axis=1)"
   ]
  },
  {
   "cell_type": "markdown",
   "metadata": {},
   "source": [
    "After we define $T$ and $E$, we can sample from $T$ then $E$ and keep count of the number of times we observe each hidden state and observed output. What we get at the end (after normalization) is the marginal probabilities of the hidden states and outputs. Note how we do not need the start probabilities and we can just pick a random starting hidden state."
   ]
  },
  {
   "cell_type": "code",
   "execution_count": 2,
   "metadata": {},
   "outputs": [
    {
     "data": {
      "text/plain": [
       "(array([0.57367, 0.42633]), array([0.31635, 0.35542, 0.32823]))"
      ]
     },
     "execution_count": 2,
     "metadata": {},
     "output_type": "execute_result"
    }
   ],
   "source": [
    "from random import choice\n",
    "import bisect\n",
    "\n",
    "np.random.seed(37)\n",
    "\n",
    "C_t = np.zeros(T.shape[1])\n",
    "C_e = np.zeros(E.shape[1])\n",
    "\n",
    "n_iters = 100_000\n",
    "\n",
    "t = choice(range(T.shape[0]))\n",
    "e = bisect.bisect_left(E[t], np.random.random())\n",
    "\n",
    "for it in range(n_iters):\n",
    "    C_t[t] += 1\n",
    "    C_e[e] += 1\n",
    "    \n",
    "    t_p, e_p = np.random.random(2)\n",
    "    \n",
    "    t = bisect.bisect_left(T[t], t_p)\n",
    "    e = bisect.bisect_left(E[t], e_p)\n",
    "    \n",
    "C_t = C_t / C_t.sum()\n",
    "C_e = C_e / C_e.sum()\n",
    "\n",
    "C_t, C_e"
   ]
  },
  {
   "cell_type": "markdown",
   "metadata": {},
   "source": [
    "## Dynamic Bayesian Network\n",
    "\n",
    "We can model a HMM with a DBN. The DBN structure is endless, but we do not have to create an endless DBN structure. In fact, we only need the structure of the DNB at two consecutive time slices, and we assume that the structure within a time slice does not change (intra-relationship) and the relationship from the current to the next time slice does not change (inter-relationship). When we represent a DBN with two time slices, the DBN is said to be `rolled up`, but when we perform inference, we can `unroll` the DBN. \n",
    "\n",
    "After we define the DBN, we observe the marginal probabilities of the hidden and output states at time 0, $t_0$, and time 1, $t_1$."
   ]
  },
  {
   "cell_type": "code",
   "execution_count": 3,
   "metadata": {},
   "outputs": [
    {
     "name": "stdout",
     "output_type": "stream",
     "text": [
      "0|weather|rainy,sunny\n",
      "0=rainy|0.60000\n",
      "0=sunny|0.40000\n",
      "---------------\n",
      "2|weather_next|rainy,sunny\n",
      "2=rainy|0.58000\n",
      "2=sunny|0.42000\n",
      "---------------\n",
      "1|activity|walk,shop,clean\n",
      "1=walk|0.30000\n",
      "1=shop|0.36000\n",
      "1=clean|0.34000\n",
      "---------------\n",
      "3|activity_next|walk,shop,clean\n",
      "3=walk|0.31000\n",
      "3=shop|0.35800\n",
      "3=clean|0.33200\n",
      "---------------\n"
     ]
    }
   ],
   "source": [
    "from pybbn.graph.dag import Bbn\n",
    "from pybbn.graph.edge import Edge, EdgeType\n",
    "from pybbn.graph.jointree import EvidenceBuilder\n",
    "from pybbn.graph.node import BbnNode\n",
    "from pybbn.graph.variable import Variable\n",
    "from pybbn.pptc.inferencecontroller import InferenceController\n",
    "\n",
    "# create the nodes\n",
    "w_curr = BbnNode(Variable(0, 'weather', ['rainy', 'sunny']), [0.6, 0.4])\n",
    "a_curr = BbnNode(Variable(1, 'activity', ['walk', 'shop', 'clean']), [0.1, 0.4, 0.5, 0.6, 0.3, 0.1])\n",
    "w_next = BbnNode(Variable(2, 'weather_next', ['rainy', 'sunny']), [0.7, 0.3, 0.4, 0.6])\n",
    "a_next = BbnNode(Variable(3, 'activity_next', ['walk', 'shop', 'clean']), [0.1, 0.4, 0.5, 0.6, 0.3, 0.1])\n",
    "\n",
    "# create the network structure\n",
    "bbn = Bbn() \\\n",
    "    .add_node(w_curr) \\\n",
    "    .add_node(a_curr) \\\n",
    "    .add_node(w_next) \\\n",
    "    .add_node(a_next) \\\n",
    "    .add_edge(Edge(w_curr, a_curr, EdgeType.DIRECTED)) \\\n",
    "    .add_edge(Edge(w_curr, w_next, EdgeType.DIRECTED)) \\\n",
    "    .add_edge(Edge(w_next, a_next, EdgeType.DIRECTED))\n",
    "\n",
    "# convert the BBN to a join tree\n",
    "join_tree = InferenceController.apply(bbn)\n",
    "\n",
    "for node in [w_curr, w_next, a_curr, a_next]:\n",
    "    potential = join_tree.get_bbn_potential(node)\n",
    "    print(node)\n",
    "    print(potential)\n",
    "    print('-' * 15)"
   ]
  },
  {
   "cell_type": "markdown",
   "metadata": {},
   "source": [
    "We can perform inference throughout time on a DBN by using the probabilities of the next hidden states as the new start probabilities to the next time slice. Only the start probabilities propagate and the other conditional probabilities remain fixed. In the code below, we unroll the DBN from $t_0$ to $t_{20}$."
   ]
  },
  {
   "cell_type": "code",
   "execution_count": 4,
   "metadata": {},
   "outputs": [
    {
     "data": {
      "text/html": [
       "<div>\n",
       "<style scoped>\n",
       "    .dataframe tbody tr th:only-of-type {\n",
       "        vertical-align: middle;\n",
       "    }\n",
       "\n",
       "    .dataframe tbody tr th {\n",
       "        vertical-align: top;\n",
       "    }\n",
       "\n",
       "    .dataframe thead th {\n",
       "        text-align: right;\n",
       "    }\n",
       "</style>\n",
       "<table border=\"1\" class=\"dataframe\">\n",
       "  <thead>\n",
       "    <tr style=\"text-align: right;\">\n",
       "      <th></th>\n",
       "      <th>rainy</th>\n",
       "      <th>sunny</th>\n",
       "    </tr>\n",
       "  </thead>\n",
       "  <tbody>\n",
       "    <tr>\n",
       "      <th>0</th>\n",
       "      <td>0.600000</td>\n",
       "      <td>0.400000</td>\n",
       "    </tr>\n",
       "    <tr>\n",
       "      <th>1</th>\n",
       "      <td>0.580000</td>\n",
       "      <td>0.420000</td>\n",
       "    </tr>\n",
       "    <tr>\n",
       "      <th>2</th>\n",
       "      <td>0.574000</td>\n",
       "      <td>0.426000</td>\n",
       "    </tr>\n",
       "    <tr>\n",
       "      <th>3</th>\n",
       "      <td>0.572200</td>\n",
       "      <td>0.427800</td>\n",
       "    </tr>\n",
       "    <tr>\n",
       "      <th>4</th>\n",
       "      <td>0.571660</td>\n",
       "      <td>0.428340</td>\n",
       "    </tr>\n",
       "    <tr>\n",
       "      <th>5</th>\n",
       "      <td>0.571498</td>\n",
       "      <td>0.428502</td>\n",
       "    </tr>\n",
       "    <tr>\n",
       "      <th>6</th>\n",
       "      <td>0.571449</td>\n",
       "      <td>0.428551</td>\n",
       "    </tr>\n",
       "    <tr>\n",
       "      <th>7</th>\n",
       "      <td>0.571435</td>\n",
       "      <td>0.428565</td>\n",
       "    </tr>\n",
       "    <tr>\n",
       "      <th>8</th>\n",
       "      <td>0.571430</td>\n",
       "      <td>0.428570</td>\n",
       "    </tr>\n",
       "    <tr>\n",
       "      <th>9</th>\n",
       "      <td>0.571429</td>\n",
       "      <td>0.428571</td>\n",
       "    </tr>\n",
       "    <tr>\n",
       "      <th>10</th>\n",
       "      <td>0.571429</td>\n",
       "      <td>0.428571</td>\n",
       "    </tr>\n",
       "    <tr>\n",
       "      <th>11</th>\n",
       "      <td>0.571429</td>\n",
       "      <td>0.428571</td>\n",
       "    </tr>\n",
       "    <tr>\n",
       "      <th>12</th>\n",
       "      <td>0.571429</td>\n",
       "      <td>0.428571</td>\n",
       "    </tr>\n",
       "    <tr>\n",
       "      <th>13</th>\n",
       "      <td>0.571429</td>\n",
       "      <td>0.428571</td>\n",
       "    </tr>\n",
       "    <tr>\n",
       "      <th>14</th>\n",
       "      <td>0.571429</td>\n",
       "      <td>0.428571</td>\n",
       "    </tr>\n",
       "    <tr>\n",
       "      <th>15</th>\n",
       "      <td>0.571429</td>\n",
       "      <td>0.428571</td>\n",
       "    </tr>\n",
       "    <tr>\n",
       "      <th>16</th>\n",
       "      <td>0.571429</td>\n",
       "      <td>0.428571</td>\n",
       "    </tr>\n",
       "    <tr>\n",
       "      <th>17</th>\n",
       "      <td>0.571429</td>\n",
       "      <td>0.428571</td>\n",
       "    </tr>\n",
       "    <tr>\n",
       "      <th>18</th>\n",
       "      <td>0.571429</td>\n",
       "      <td>0.428571</td>\n",
       "    </tr>\n",
       "    <tr>\n",
       "      <th>19</th>\n",
       "      <td>0.571429</td>\n",
       "      <td>0.428571</td>\n",
       "    </tr>\n",
       "    <tr>\n",
       "      <th>20</th>\n",
       "      <td>0.571429</td>\n",
       "      <td>0.428571</td>\n",
       "    </tr>\n",
       "  </tbody>\n",
       "</table>\n",
       "</div>"
      ],
      "text/plain": [
       "       rainy     sunny\n",
       "0   0.600000  0.400000\n",
       "1   0.580000  0.420000\n",
       "2   0.574000  0.426000\n",
       "3   0.572200  0.427800\n",
       "4   0.571660  0.428340\n",
       "5   0.571498  0.428502\n",
       "6   0.571449  0.428551\n",
       "7   0.571435  0.428565\n",
       "8   0.571430  0.428570\n",
       "9   0.571429  0.428571\n",
       "10  0.571429  0.428571\n",
       "11  0.571429  0.428571\n",
       "12  0.571429  0.428571\n",
       "13  0.571429  0.428571\n",
       "14  0.571429  0.428571\n",
       "15  0.571429  0.428571\n",
       "16  0.571429  0.428571\n",
       "17  0.571429  0.428571\n",
       "18  0.571429  0.428571\n",
       "19  0.571429  0.428571\n",
       "20  0.571429  0.428571"
      ]
     },
     "execution_count": 4,
     "metadata": {},
     "output_type": "execute_result"
    }
   ],
   "source": [
    "import pandas as pd\n",
    "\n",
    "def get_probs(jt, node):\n",
    "    entries = jt.get_bbn_potential(node).entries\n",
    "    return [e.value for e in entries]\n",
    "\n",
    "p = get_probs(join_tree, w_curr)\n",
    "jt = InferenceController.reapply(join_tree, {w_curr.id: p})\n",
    "\n",
    "probs = [p]\n",
    "\n",
    "for _ in range(20):\n",
    "    p = get_probs(jt, w_next)\n",
    "    jt = InferenceController.reapply(jt, {w_curr.id: p})\n",
    "    \n",
    "    probs.append(p)\n",
    "    \n",
    "pd.DataFrame(probs, columns=['rainy', 'sunny'])"
   ]
  },
  {
   "cell_type": "markdown",
   "metadata": {},
   "source": [
    "As you can see, the marginal probabilities for the hidden and observed states have stabilized."
   ]
  },
  {
   "cell_type": "code",
   "execution_count": 5,
   "metadata": {},
   "outputs": [
    {
     "name": "stdout",
     "output_type": "stream",
     "text": [
      "0|weather|rainy,sunny\n",
      "0=rainy|0.57143\n",
      "0=sunny|0.42857\n",
      "---------------\n",
      "2|weather_next|rainy,sunny\n",
      "2=rainy|0.57143\n",
      "2=sunny|0.42857\n",
      "---------------\n",
      "1|activity|walk,shop,clean\n",
      "1=walk|0.31429\n",
      "1=shop|0.35714\n",
      "1=clean|0.32857\n",
      "---------------\n",
      "3|activity_next|walk,shop,clean\n",
      "3=walk|0.31429\n",
      "3=shop|0.35714\n",
      "3=clean|0.32857\n",
      "---------------\n"
     ]
    }
   ],
   "source": [
    "for node in [w_curr, w_next, a_curr, a_next]:\n",
    "    potential = jt.get_bbn_potential(node)\n",
    "    print(node)\n",
    "    print(potential)\n",
    "    print('-' * 15)"
   ]
  }
 ],
 "metadata": {
  "kernelspec": {
   "display_name": "Python 3",
   "language": "python",
   "name": "python3"
  },
  "language_info": {
   "codemirror_mode": {
    "name": "ipython",
    "version": 3
   },
   "file_extension": ".py",
   "mimetype": "text/x-python",
   "name": "python",
   "nbconvert_exporter": "python",
   "pygments_lexer": "ipython3",
   "version": "3.8.3"
  },
  "widgets": {
   "application/vnd.jupyter.widget-state+json": {
    "state": {},
    "version_major": 2,
    "version_minor": 0
   }
  }
 },
 "nbformat": 4,
 "nbformat_minor": 4
}
