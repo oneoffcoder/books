{
 "cells": [
  {
   "cell_type": "markdown",
   "id": "98bbce15-7b04-4b7c-93ad-e5b28154540b",
   "metadata": {},
   "source": [
    "# Principal Component Analysis - Iris\n",
    "\n",
    "Let's take a look at PCA again using the Iris dataset as an example to reinforce some concepts."
   ]
  },
  {
   "cell_type": "markdown",
   "id": "5fbdd4fc-68a2-4fb9-a278-9e4237988afc",
   "metadata": {},
   "source": [
    "## Load data"
   ]
  },
  {
   "cell_type": "code",
   "execution_count": 1,
   "id": "9a66d535-9225-4337-9802-d7852676917e",
   "metadata": {},
   "outputs": [
    {
     "data": {
      "text/plain": [
       "((150, 4), (150,))"
      ]
     },
     "execution_count": 1,
     "metadata": {},
     "output_type": "execute_result"
    }
   ],
   "source": [
    "from sklearn.datasets import load_iris\n",
    "\n",
    "X, y = load_iris(return_X_y=True, as_frame=True)\n",
    "X.columns = ['s_length', 's_width', 'p_length', 'p_width']\n",
    "\n",
    "X.shape, y.shape"
   ]
  },
  {
   "cell_type": "code",
   "execution_count": 2,
   "id": "42881729-c088-409d-a3b9-cf9e47afc7fe",
   "metadata": {},
   "outputs": [
    {
     "data": {
      "text/html": [
       "<div>\n",
       "<style scoped>\n",
       "    .dataframe tbody tr th:only-of-type {\n",
       "        vertical-align: middle;\n",
       "    }\n",
       "\n",
       "    .dataframe tbody tr th {\n",
       "        vertical-align: top;\n",
       "    }\n",
       "\n",
       "    .dataframe thead th {\n",
       "        text-align: right;\n",
       "    }\n",
       "</style>\n",
       "<table border=\"1\" class=\"dataframe\">\n",
       "  <thead>\n",
       "    <tr style=\"text-align: right;\">\n",
       "      <th></th>\n",
       "      <th>s_length</th>\n",
       "      <th>s_width</th>\n",
       "      <th>p_length</th>\n",
       "      <th>p_width</th>\n",
       "    </tr>\n",
       "  </thead>\n",
       "  <tbody>\n",
       "    <tr>\n",
       "      <th>0</th>\n",
       "      <td>5.1</td>\n",
       "      <td>3.5</td>\n",
       "      <td>1.4</td>\n",
       "      <td>0.2</td>\n",
       "    </tr>\n",
       "    <tr>\n",
       "      <th>1</th>\n",
       "      <td>4.9</td>\n",
       "      <td>3.0</td>\n",
       "      <td>1.4</td>\n",
       "      <td>0.2</td>\n",
       "    </tr>\n",
       "    <tr>\n",
       "      <th>2</th>\n",
       "      <td>4.7</td>\n",
       "      <td>3.2</td>\n",
       "      <td>1.3</td>\n",
       "      <td>0.2</td>\n",
       "    </tr>\n",
       "    <tr>\n",
       "      <th>3</th>\n",
       "      <td>4.6</td>\n",
       "      <td>3.1</td>\n",
       "      <td>1.5</td>\n",
       "      <td>0.2</td>\n",
       "    </tr>\n",
       "    <tr>\n",
       "      <th>4</th>\n",
       "      <td>5.0</td>\n",
       "      <td>3.6</td>\n",
       "      <td>1.4</td>\n",
       "      <td>0.2</td>\n",
       "    </tr>\n",
       "  </tbody>\n",
       "</table>\n",
       "</div>"
      ],
      "text/plain": [
       "   s_length  s_width  p_length  p_width\n",
       "0       5.1      3.5       1.4      0.2\n",
       "1       4.9      3.0       1.4      0.2\n",
       "2       4.7      3.2       1.3      0.2\n",
       "3       4.6      3.1       1.5      0.2\n",
       "4       5.0      3.6       1.4      0.2"
      ]
     },
     "execution_count": 2,
     "metadata": {},
     "output_type": "execute_result"
    }
   ],
   "source": [
    "X.head()"
   ]
  },
  {
   "cell_type": "markdown",
   "id": "f343c891-76fa-4e3e-b822-35ca690a751e",
   "metadata": {},
   "source": [
    "## PCA\n",
    "\n",
    "The procedure of PCA to work is to \n",
    "\n",
    "- map `X` to z-scores, `Z`, \n",
    "- compute the covariance matrix `C` of `Z`, and\n",
    "- apply singular-value decomposition (SVD) to `Z` resulting in `U`, `S`, `VT`.\n",
    "\n",
    "Here are the denotations.\n",
    "\n",
    "- `X`: data\n",
    "- `Z`: data mapped to z-scores\n",
    "- `C`: covariance matrix of `Z`\n",
    "- `U`: left-hand eigen-vectors\n",
    "- `S`: eigen-values\n",
    "- `VT`: right-hand eigen-vectors\n",
    "\n",
    "Getting `Z` and `C` is performed as follows."
   ]
  },
  {
   "cell_type": "code",
   "execution_count": 3,
   "id": "7c4a38b5-87f4-4eef-8787-4a2c7ae803a5",
   "metadata": {},
   "outputs": [],
   "source": [
    "from scipy.stats import zscore\n",
    "\n",
    "Z = X.apply(zscore)\n",
    "C = Z.cov()"
   ]
  },
  {
   "cell_type": "markdown",
   "id": "e9b3d3d4-4f66-4981-b37d-8f0b68faea61",
   "metadata": {},
   "source": [
    "SVD is applied to `C` as follows."
   ]
  },
  {
   "cell_type": "code",
   "execution_count": 4,
   "id": "6d7ee91f-5122-459b-9de3-12c54adb8c0d",
   "metadata": {},
   "outputs": [
    {
     "data": {
      "text/plain": [
       "((4, 4), (4,), (4, 4))"
      ]
     },
     "execution_count": 4,
     "metadata": {},
     "output_type": "execute_result"
    }
   ],
   "source": [
    "from numpy.linalg import svd\n",
    "\n",
    "U, S, VT = svd(C, full_matrices=False)\n",
    "\n",
    "U.shape, S.shape, VT.shape"
   ]
  },
  {
   "cell_type": "code",
   "execution_count": 5,
   "id": "d498bd7d-abb9-4e6f-9e7a-d55dceeddf44",
   "metadata": {},
   "outputs": [
    {
     "data": {
      "text/plain": [
       "array([[-0.52106591, -0.37741762,  0.71956635,  0.26128628],\n",
       "       [ 0.26934744, -0.92329566, -0.24438178, -0.12350962],\n",
       "       [-0.5804131 , -0.02449161, -0.14212637, -0.80144925],\n",
       "       [-0.56485654, -0.06694199, -0.63427274,  0.52359713]])"
      ]
     },
     "execution_count": 5,
     "metadata": {},
     "output_type": "execute_result"
    }
   ],
   "source": [
    "U"
   ]
  },
  {
   "cell_type": "code",
   "execution_count": 6,
   "id": "24f45cd6-06e5-416e-bcd5-e2afbc10844e",
   "metadata": {},
   "outputs": [
    {
     "data": {
      "text/plain": [
       "array([2.93808505, 0.9201649 , 0.14774182, 0.02085386])"
      ]
     },
     "execution_count": 6,
     "metadata": {},
     "output_type": "execute_result"
    }
   ],
   "source": [
    "S"
   ]
  },
  {
   "cell_type": "code",
   "execution_count": 7,
   "id": "3d0e47b4-d9b4-4446-b91d-e7b94eb574d4",
   "metadata": {},
   "outputs": [
    {
     "data": {
      "text/plain": [
       "array([[-0.52106591,  0.26934744, -0.5804131 , -0.56485654],\n",
       "       [-0.37741762, -0.92329566, -0.02449161, -0.06694199],\n",
       "       [ 0.71956635, -0.24438178, -0.14212637, -0.63427274],\n",
       "       [ 0.26128628, -0.12350962, -0.80144925,  0.52359713]])"
      ]
     },
     "execution_count": 7,
     "metadata": {},
     "output_type": "execute_result"
    }
   ],
   "source": [
    "VT"
   ]
  },
  {
   "cell_type": "markdown",
   "id": "538a176f-350d-4c92-b5ed-fb2d8f08d768",
   "metadata": {},
   "source": [
    "## Interpretation of S\n",
    "\n",
    "When `S` is normalized so that the elements sum to unit, each resulting element is the amount of variance accounted for by its corresponding principal component. According to what we see below, the first 2 principal components account for (0.73 + 0.22) 95% of the variance in the data. Note that the elements in `S` are produced from largest to smallest; the first principal component accounts for the largest variance, followed by the second and so on."
   ]
  },
  {
   "cell_type": "code",
   "execution_count": 8,
   "id": "7eab180a-5999-4223-a3bd-71ddc06b8949",
   "metadata": {},
   "outputs": [
    {
     "data": {
      "text/plain": [
       "array([0.72962445, 0.22850762, 0.03668922, 0.00517871])"
      ]
     },
     "execution_count": 8,
     "metadata": {},
     "output_type": "execute_result"
    }
   ],
   "source": [
    "S / S.sum()"
   ]
  },
  {
   "cell_type": "markdown",
   "id": "283dff09-edf5-4054-a13b-7e80f06de5ec",
   "metadata": {},
   "source": [
    "## Interpretation of U and VT\n",
    "\n",
    "`U` and `VT` are just transpose of one another and they represent the strength of association between the features in `X` and principal components.\n",
    "\n",
    "- For `U`, the columns correspond to principal components and rows to features.\n",
    "- For `VT`, the opposite is true; columns correspond to features and rows to principal components.\n",
    "\n",
    "Each element in `U` or `VT` gives you a strength of association between the corresponding feature and principal component. "
   ]
  },
  {
   "cell_type": "code",
   "execution_count": 9,
   "id": "e2687426-8add-4fcd-8163-8f9d3637ea52",
   "metadata": {},
   "outputs": [
    {
     "data": {
      "text/html": [
       "<div>\n",
       "<style scoped>\n",
       "    .dataframe tbody tr th:only-of-type {\n",
       "        vertical-align: middle;\n",
       "    }\n",
       "\n",
       "    .dataframe tbody tr th {\n",
       "        vertical-align: top;\n",
       "    }\n",
       "\n",
       "    .dataframe thead th {\n",
       "        text-align: right;\n",
       "    }\n",
       "</style>\n",
       "<table border=\"1\" class=\"dataframe\">\n",
       "  <thead>\n",
       "    <tr style=\"text-align: right;\">\n",
       "      <th></th>\n",
       "      <th>s_length</th>\n",
       "      <th>s_width</th>\n",
       "      <th>p_length</th>\n",
       "      <th>p_width</th>\n",
       "    </tr>\n",
       "  </thead>\n",
       "  <tbody>\n",
       "    <tr>\n",
       "      <th>PC-0</th>\n",
       "      <td>-0.521066</td>\n",
       "      <td>-0.377418</td>\n",
       "      <td>0.719566</td>\n",
       "      <td>0.261286</td>\n",
       "    </tr>\n",
       "    <tr>\n",
       "      <th>PC-1</th>\n",
       "      <td>0.269347</td>\n",
       "      <td>-0.923296</td>\n",
       "      <td>-0.244382</td>\n",
       "      <td>-0.123510</td>\n",
       "    </tr>\n",
       "    <tr>\n",
       "      <th>PC-2</th>\n",
       "      <td>-0.580413</td>\n",
       "      <td>-0.024492</td>\n",
       "      <td>-0.142126</td>\n",
       "      <td>-0.801449</td>\n",
       "    </tr>\n",
       "    <tr>\n",
       "      <th>PC-3</th>\n",
       "      <td>-0.564857</td>\n",
       "      <td>-0.066942</td>\n",
       "      <td>-0.634273</td>\n",
       "      <td>0.523597</td>\n",
       "    </tr>\n",
       "  </tbody>\n",
       "</table>\n",
       "</div>"
      ],
      "text/plain": [
       "      s_length   s_width  p_length   p_width\n",
       "PC-0 -0.521066 -0.377418  0.719566  0.261286\n",
       "PC-1  0.269347 -0.923296 -0.244382 -0.123510\n",
       "PC-2 -0.580413 -0.024492 -0.142126 -0.801449\n",
       "PC-3 -0.564857 -0.066942 -0.634273  0.523597"
      ]
     },
     "execution_count": 9,
     "metadata": {},
     "output_type": "execute_result"
    }
   ],
   "source": [
    "import pandas as pd\n",
    "\n",
    "pd.DataFrame(U, columns=X.columns, index=[f'PC-{i}' for i in range(U.shape[1])])"
   ]
  },
  {
   "cell_type": "code",
   "execution_count": 10,
   "id": "ccff124b-44d0-408c-89a3-800a16fc2195",
   "metadata": {},
   "outputs": [
    {
     "data": {
      "text/html": [
       "<div>\n",
       "<style scoped>\n",
       "    .dataframe tbody tr th:only-of-type {\n",
       "        vertical-align: middle;\n",
       "    }\n",
       "\n",
       "    .dataframe tbody tr th {\n",
       "        vertical-align: top;\n",
       "    }\n",
       "\n",
       "    .dataframe thead th {\n",
       "        text-align: right;\n",
       "    }\n",
       "</style>\n",
       "<table border=\"1\" class=\"dataframe\">\n",
       "  <thead>\n",
       "    <tr style=\"text-align: right;\">\n",
       "      <th></th>\n",
       "      <th>PC-0</th>\n",
       "      <th>PC-1</th>\n",
       "      <th>PC-2</th>\n",
       "      <th>PC-3</th>\n",
       "    </tr>\n",
       "  </thead>\n",
       "  <tbody>\n",
       "    <tr>\n",
       "      <th>s_length</th>\n",
       "      <td>-0.521066</td>\n",
       "      <td>0.269347</td>\n",
       "      <td>-0.580413</td>\n",
       "      <td>-0.564857</td>\n",
       "    </tr>\n",
       "    <tr>\n",
       "      <th>s_width</th>\n",
       "      <td>-0.377418</td>\n",
       "      <td>-0.923296</td>\n",
       "      <td>-0.024492</td>\n",
       "      <td>-0.066942</td>\n",
       "    </tr>\n",
       "    <tr>\n",
       "      <th>p_length</th>\n",
       "      <td>0.719566</td>\n",
       "      <td>-0.244382</td>\n",
       "      <td>-0.142126</td>\n",
       "      <td>-0.634273</td>\n",
       "    </tr>\n",
       "    <tr>\n",
       "      <th>p_width</th>\n",
       "      <td>0.261286</td>\n",
       "      <td>-0.123510</td>\n",
       "      <td>-0.801449</td>\n",
       "      <td>0.523597</td>\n",
       "    </tr>\n",
       "  </tbody>\n",
       "</table>\n",
       "</div>"
      ],
      "text/plain": [
       "              PC-0      PC-1      PC-2      PC-3\n",
       "s_length -0.521066  0.269347 -0.580413 -0.564857\n",
       "s_width  -0.377418 -0.923296 -0.024492 -0.066942\n",
       "p_length  0.719566 -0.244382 -0.142126 -0.634273\n",
       "p_width   0.261286 -0.123510 -0.801449  0.523597"
      ]
     },
     "execution_count": 10,
     "metadata": {},
     "output_type": "execute_result"
    }
   ],
   "source": [
    "pd.DataFrame(VT, columns=[f'PC-{i}' for i in range(VT.shape[1])], index=X.columns)"
   ]
  },
  {
   "cell_type": "markdown",
   "id": "3fa2ce8f-f7da-43ec-9ad3-7d20a60940d7",
   "metadata": {},
   "source": [
    "## Loadings squared\n",
    "\n",
    "The loadings gives you the Pearson correlation between a feature and PC, while the the loadings squared gives you how much of a feature's variance is explained by each principal component. The sum of the variance explained by the principal components (for a feature) should sum to one. \n",
    "\n",
    "Loadings `L` and loadings squared `I` is computed as follows.\n",
    "\n",
    "- $L = U \\times \\sqrt{S}$\n",
    "- $I = L^2$"
   ]
  },
  {
   "cell_type": "code",
   "execution_count": 11,
   "id": "4dc70866-ff00-44ca-a591-01c21bdd1507",
   "metadata": {},
   "outputs": [
    {
     "data": {
      "text/html": [
       "<div>\n",
       "<style scoped>\n",
       "    .dataframe tbody tr th:only-of-type {\n",
       "        vertical-align: middle;\n",
       "    }\n",
       "\n",
       "    .dataframe tbody tr th {\n",
       "        vertical-align: top;\n",
       "    }\n",
       "\n",
       "    .dataframe thead th {\n",
       "        text-align: right;\n",
       "    }\n",
       "</style>\n",
       "<table border=\"1\" class=\"dataframe\">\n",
       "  <thead>\n",
       "    <tr style=\"text-align: right;\">\n",
       "      <th></th>\n",
       "      <th>PC-0</th>\n",
       "      <th>PC-1</th>\n",
       "      <th>PC-2</th>\n",
       "      <th>PC-3</th>\n",
       "    </tr>\n",
       "  </thead>\n",
       "  <tbody>\n",
       "    <tr>\n",
       "      <th>s_length</th>\n",
       "      <td>-0.893151</td>\n",
       "      <td>-0.362039</td>\n",
       "      <td>0.276581</td>\n",
       "      <td>0.037732</td>\n",
       "    </tr>\n",
       "    <tr>\n",
       "      <th>s_width</th>\n",
       "      <td>0.461684</td>\n",
       "      <td>-0.885673</td>\n",
       "      <td>-0.093934</td>\n",
       "      <td>-0.017836</td>\n",
       "    </tr>\n",
       "    <tr>\n",
       "      <th>p_length</th>\n",
       "      <td>-0.994877</td>\n",
       "      <td>-0.023494</td>\n",
       "      <td>-0.054629</td>\n",
       "      <td>-0.115736</td>\n",
       "    </tr>\n",
       "    <tr>\n",
       "      <th>p_width</th>\n",
       "      <td>-0.968212</td>\n",
       "      <td>-0.064214</td>\n",
       "      <td>-0.243797</td>\n",
       "      <td>0.075612</td>\n",
       "    </tr>\n",
       "  </tbody>\n",
       "</table>\n",
       "</div>"
      ],
      "text/plain": [
       "              PC-0      PC-1      PC-2      PC-3\n",
       "s_length -0.893151 -0.362039  0.276581  0.037732\n",
       "s_width   0.461684 -0.885673 -0.093934 -0.017836\n",
       "p_length -0.994877 -0.023494 -0.054629 -0.115736\n",
       "p_width  -0.968212 -0.064214 -0.243797  0.075612"
      ]
     },
     "execution_count": 11,
     "metadata": {},
     "output_type": "execute_result"
    }
   ],
   "source": [
    "import numpy as np\n",
    "\n",
    "L = U * np.sqrt(S)\n",
    "\n",
    "pd.DataFrame(L, columns=[f'PC-{i}' for i in range(L.shape[1])], index=X.columns)"
   ]
  },
  {
   "cell_type": "markdown",
   "id": "ac9e3de8-8701-430f-a49d-3d3a4ea65f77",
   "metadata": {},
   "source": [
    "From the table above, ignoring the sign (positive or negative), for `s_length`,\n",
    "\n",
    "- it is most correlated to the first PC,\n",
    "- followed by the second, \n",
    "- the third, and\n",
    "- very little to the fourth.\n",
    "\n",
    "In contrast, note how `s_width` is most correlated to the second PC."
   ]
  },
  {
   "cell_type": "code",
   "execution_count": 12,
   "id": "9f060a66-5498-460c-a73d-77e81c299ef1",
   "metadata": {},
   "outputs": [
    {
     "data": {
      "text/html": [
       "<div>\n",
       "<style scoped>\n",
       "    .dataframe tbody tr th:only-of-type {\n",
       "        vertical-align: middle;\n",
       "    }\n",
       "\n",
       "    .dataframe tbody tr th {\n",
       "        vertical-align: top;\n",
       "    }\n",
       "\n",
       "    .dataframe thead th {\n",
       "        text-align: right;\n",
       "    }\n",
       "</style>\n",
       "<table border=\"1\" class=\"dataframe\">\n",
       "  <thead>\n",
       "    <tr style=\"text-align: right;\">\n",
       "      <th></th>\n",
       "      <th>PC-0</th>\n",
       "      <th>PC-1</th>\n",
       "      <th>PC-2</th>\n",
       "      <th>PC-3</th>\n",
       "    </tr>\n",
       "  </thead>\n",
       "  <tbody>\n",
       "    <tr>\n",
       "      <th>s_length</th>\n",
       "      <td>0.797719</td>\n",
       "      <td>0.131072</td>\n",
       "      <td>0.076497</td>\n",
       "      <td>0.001424</td>\n",
       "    </tr>\n",
       "    <tr>\n",
       "      <th>s_width</th>\n",
       "      <td>0.213152</td>\n",
       "      <td>0.784417</td>\n",
       "      <td>0.008824</td>\n",
       "      <td>0.000318</td>\n",
       "    </tr>\n",
       "    <tr>\n",
       "      <th>p_length</th>\n",
       "      <td>0.989780</td>\n",
       "      <td>0.000552</td>\n",
       "      <td>0.002984</td>\n",
       "      <td>0.013395</td>\n",
       "    </tr>\n",
       "    <tr>\n",
       "      <th>p_width</th>\n",
       "      <td>0.937434</td>\n",
       "      <td>0.004123</td>\n",
       "      <td>0.059437</td>\n",
       "      <td>0.005717</td>\n",
       "    </tr>\n",
       "  </tbody>\n",
       "</table>\n",
       "</div>"
      ],
      "text/plain": [
       "              PC-0      PC-1      PC-2      PC-3\n",
       "s_length  0.797719  0.131072  0.076497  0.001424\n",
       "s_width   0.213152  0.784417  0.008824  0.000318\n",
       "p_length  0.989780  0.000552  0.002984  0.013395\n",
       "p_width   0.937434  0.004123  0.059437  0.005717"
      ]
     },
     "execution_count": 12,
     "metadata": {},
     "output_type": "execute_result"
    }
   ],
   "source": [
    "import numpy as np\n",
    "\n",
    "I = np.power(L, 2)\n",
    "\n",
    "pd.DataFrame(I, columns=[f'PC-{i}' for i in range(I.shape[1])], index=X.columns)"
   ]
  },
  {
   "cell_type": "markdown",
   "id": "8d8a4a3e-dc8f-4855-bae5-f922e30fc089",
   "metadata": {},
   "source": [
    "From the table above, for `s_length`,\n",
    "\n",
    "- 80% of its variance is explained by the first PC, \n",
    "- 13% by the second, \n",
    "- 8% by the third, and\n",
    "- none by the fourth.\n",
    "\n",
    "On the contrary, note how most of the variance of `s_width` is captured by the second PC."
   ]
  },
  {
   "cell_type": "markdown",
   "id": "09226191-e81a-45e0-a34d-30e8ea525406",
   "metadata": {},
   "source": [
    "## Projection into PC space\n",
    "\n",
    "PCA is typically used to reduce dimensionality, or, in other words, represent the data in lower dimension. Once you get `U` or `VT`, you can project the z-scaled data `Z` to PC space by a simple multiplication. From the looks of things above, it seems the first PCs account 95% of the data's variance, and so we can project the 4-dimensional `Z` data to 2-dimensional PC data/representation."
   ]
  },
  {
   "cell_type": "code",
   "execution_count": 13,
   "id": "5155894c-9e7f-4756-95a6-17acd8064427",
   "metadata": {},
   "outputs": [
    {
     "data": {
      "text/plain": [
       "((150, 4), (150, 2))"
      ]
     },
     "execution_count": 13,
     "metadata": {},
     "output_type": "execute_result"
    }
   ],
   "source": [
    "P = pd.DataFrame(np.dot(Z, U[:,:2]), columns=['PC-0', 'PC-1'])\n",
    "\n",
    "Z.shape, P.shape"
   ]
  },
  {
   "cell_type": "code",
   "execution_count": 14,
   "id": "27712fb7-5c71-4cbb-b2e7-cc15c86ab7eb",
   "metadata": {},
   "outputs": [
    {
     "data": {
      "text/html": [
       "<div>\n",
       "<style scoped>\n",
       "    .dataframe tbody tr th:only-of-type {\n",
       "        vertical-align: middle;\n",
       "    }\n",
       "\n",
       "    .dataframe tbody tr th {\n",
       "        vertical-align: top;\n",
       "    }\n",
       "\n",
       "    .dataframe thead th {\n",
       "        text-align: right;\n",
       "    }\n",
       "</style>\n",
       "<table border=\"1\" class=\"dataframe\">\n",
       "  <thead>\n",
       "    <tr style=\"text-align: right;\">\n",
       "      <th></th>\n",
       "      <th>PC-0</th>\n",
       "      <th>PC-1</th>\n",
       "    </tr>\n",
       "  </thead>\n",
       "  <tbody>\n",
       "    <tr>\n",
       "      <th>0</th>\n",
       "      <td>2.264703</td>\n",
       "      <td>-0.480027</td>\n",
       "    </tr>\n",
       "    <tr>\n",
       "      <th>1</th>\n",
       "      <td>2.080961</td>\n",
       "      <td>0.674134</td>\n",
       "    </tr>\n",
       "    <tr>\n",
       "      <th>2</th>\n",
       "      <td>2.364229</td>\n",
       "      <td>0.341908</td>\n",
       "    </tr>\n",
       "    <tr>\n",
       "      <th>3</th>\n",
       "      <td>2.299384</td>\n",
       "      <td>0.597395</td>\n",
       "    </tr>\n",
       "    <tr>\n",
       "      <th>4</th>\n",
       "      <td>2.389842</td>\n",
       "      <td>-0.646835</td>\n",
       "    </tr>\n",
       "  </tbody>\n",
       "</table>\n",
       "</div>"
      ],
      "text/plain": [
       "       PC-0      PC-1\n",
       "0  2.264703 -0.480027\n",
       "1  2.080961  0.674134\n",
       "2  2.364229  0.341908\n",
       "3  2.299384  0.597395\n",
       "4  2.389842 -0.646835"
      ]
     },
     "execution_count": 14,
     "metadata": {},
     "output_type": "execute_result"
    }
   ],
   "source": [
    "P.head()"
   ]
  },
  {
   "cell_type": "markdown",
   "id": "35084675-9f8b-425b-8943-63cccb8e131a",
   "metadata": {},
   "source": [
    "From the scatter plot below, the different iris flower species seem to be linearly separable in 2D PC space. "
   ]
  },
  {
   "cell_type": "code",
   "execution_count": 15,
   "id": "a5e76bdd-7187-423e-b5f0-0539b1418f77",
   "metadata": {},
   "outputs": [
    {
     "data": {
      "image/png": "[encoded data removed]",
      "text/plain": [
       "<Figure size 500x300 with 1 Axes>"
      ]
     },
     "metadata": {},
     "output_type": "display_data"
    }
   ],
   "source": [
    "import matplotlib.pyplot as plt\n",
    "import seaborn as sns\n",
    "\n",
    "fig, ax = plt.subplots(figsize=(5, 3))\n",
    "\n",
    "for label, color, clazz in zip(y.unique(), sns.color_palette('tab10'), ['setosa', 'versicolour', 'virginica']):\n",
    "    P[y==label].plot(kind='scatter', x='PC-0', y='PC-1', color=color, ax=ax, label=clazz)\n",
    "\n",
    "ax.legend(loc='center left', bbox_to_anchor=(1, 0.5))\n",
    "fig.tight_layout()"
   ]
  },
  {
   "cell_type": "markdown",
   "id": "d97754a1-20cc-4e71-948b-28141322a24a",
   "metadata": {},
   "source": [
    "## Another view of U and VT\n",
    "\n",
    "If we regress each PC on `Z`, we recover the eigenvectors.\n",
    "\n",
    "- $P_0 \\sim Z$\n",
    "- $P_1 \\sim Z$\n",
    "- $P_2 \\sim Z$\n",
    "- $P_3 \\sim Z$\n",
    "\n",
    "Compare the 2 regressions below to `VT`."
   ]
  },
  {
   "cell_type": "code",
   "execution_count": 16,
   "id": "3320aa67-66a0-40ac-8e01-ac72b451047a",
   "metadata": {},
   "outputs": [
    {
     "data": {
      "text/plain": [
       "array([-0.52106591,  0.26934744, -0.5804131 , -0.56485654])"
      ]
     },
     "execution_count": 16,
     "metadata": {},
     "output_type": "execute_result"
    }
   ],
   "source": [
    "from sklearn.linear_model import LinearRegression\n",
    "\n",
    "m = LinearRegression(fit_intercept=False)\n",
    "m.fit(Z, P['PC-0'])\n",
    "\n",
    "m.coef_"
   ]
  },
  {
   "cell_type": "code",
   "execution_count": 17,
   "id": "2b764f89-2332-4ccf-91ed-b72ef9ad9b9a",
   "metadata": {},
   "outputs": [
    {
     "data": {
      "text/plain": [
       "array([-0.37741762, -0.92329566, -0.02449161, -0.06694199])"
      ]
     },
     "execution_count": 17,
     "metadata": {},
     "output_type": "execute_result"
    }
   ],
   "source": [
    "m = LinearRegression(fit_intercept=False)\n",
    "m.fit(Z, P['PC-1'])\n",
    "\n",
    "m.coef_"
   ]
  },
  {
   "cell_type": "code",
   "execution_count": 18,
   "id": "25e1cac7-5d13-4755-8871-1ea7a0ea6604",
   "metadata": {},
   "outputs": [
    {
     "data": {
      "text/html": [
       "<div>\n",
       "<style scoped>\n",
       "    .dataframe tbody tr th:only-of-type {\n",
       "        vertical-align: middle;\n",
       "    }\n",
       "\n",
       "    .dataframe tbody tr th {\n",
       "        vertical-align: top;\n",
       "    }\n",
       "\n",
       "    .dataframe thead th {\n",
       "        text-align: right;\n",
       "    }\n",
       "</style>\n",
       "<table border=\"1\" class=\"dataframe\">\n",
       "  <thead>\n",
       "    <tr style=\"text-align: right;\">\n",
       "      <th></th>\n",
       "      <th>s_length</th>\n",
       "      <th>s_width</th>\n",
       "      <th>p_length</th>\n",
       "      <th>p_width</th>\n",
       "    </tr>\n",
       "  </thead>\n",
       "  <tbody>\n",
       "    <tr>\n",
       "      <th>PC-0</th>\n",
       "      <td>-0.521066</td>\n",
       "      <td>0.269347</td>\n",
       "      <td>-0.580413</td>\n",
       "      <td>-0.564857</td>\n",
       "    </tr>\n",
       "    <tr>\n",
       "      <th>PC-1</th>\n",
       "      <td>-0.377418</td>\n",
       "      <td>-0.923296</td>\n",
       "      <td>-0.024492</td>\n",
       "      <td>-0.066942</td>\n",
       "    </tr>\n",
       "    <tr>\n",
       "      <th>PC-2</th>\n",
       "      <td>0.719566</td>\n",
       "      <td>-0.244382</td>\n",
       "      <td>-0.142126</td>\n",
       "      <td>-0.634273</td>\n",
       "    </tr>\n",
       "    <tr>\n",
       "      <th>PC-3</th>\n",
       "      <td>0.261286</td>\n",
       "      <td>-0.123510</td>\n",
       "      <td>-0.801449</td>\n",
       "      <td>0.523597</td>\n",
       "    </tr>\n",
       "  </tbody>\n",
       "</table>\n",
       "</div>"
      ],
      "text/plain": [
       "      s_length   s_width  p_length   p_width\n",
       "PC-0 -0.521066  0.269347 -0.580413 -0.564857\n",
       "PC-1 -0.377418 -0.923296 -0.024492 -0.066942\n",
       "PC-2  0.719566 -0.244382 -0.142126 -0.634273\n",
       "PC-3  0.261286 -0.123510 -0.801449  0.523597"
      ]
     },
     "execution_count": 18,
     "metadata": {},
     "output_type": "execute_result"
    }
   ],
   "source": [
    "pd.DataFrame(VT, columns=X.columns, index=[f'PC-{i}' for i in range(VT.shape[1])])"
   ]
  }
 ],
 "metadata": {
  "kernelspec": {
   "display_name": "Python 3 (ipykernel)",
   "language": "python",
   "name": "python3"
  },
  "language_info": {
   "codemirror_mode": {
    "name": "ipython",
    "version": 3
   },
   "file_extension": ".py",
   "mimetype": "text/x-python",
   "name": "python",
   "nbconvert_exporter": "python",
   "pygments_lexer": "ipython3",
   "version": "3.9.16"
  }
 },
 "nbformat": 4,
 "nbformat_minor": 5
}
