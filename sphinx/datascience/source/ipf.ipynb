{
 "cells": [
  {
   "cell_type": "markdown",
   "id": "38fab882-2a93-4153-b410-3ccb5f217bf1",
   "metadata": {},
   "source": [
    "# Iterative Proportional Fitting\n",
    "\n",
    "Iterative Proportional Fitting `IPF` is a technique to find a matrix $X$ that is closest to another matrix $Z$ subject to the constraint that the row and column marginals of $X$ be (nearly) identical to a target matrix $Y$. One way to cast the problem is as follows.\n",
    "\n",
    "$X = PZQ$\n",
    "\n",
    "Here, $P$ and $Q$ are diagonal matrices transforming $Z$ into $X$ such that the row and column marginals of $X$ are like $Y$. IPF goes by a lot of different names depending on the field.\n",
    "\n",
    "- `biproportional fitting` in statistics\n",
    "- `RAS algorithm` in economics\n",
    "- `raking` in survey statistics\n",
    "- `matrix scaling` in computer science\n",
    "\n",
    "In survey statistics, IPF may be used to weight data (or observations) and then apply weighted sampling (using these weights) so that the resulting sampled data reflects one with the desired proportions. For example, the percentage of `White` people in the US is 58% and the percentage of `Males` is 49%. Let's say we did a survey and the percentage of `White` people in our data was 47% and the percentage of `Males` was 60%. Now, we want to make a population inference based on our sample, but, we cannot do so on the raw sample since the sample percentages do not match with the population ones. We can use IPF to determine the weights of each observation, and then do weighted sampling (with replacement) to get our data to reflect the population percentages. \n",
    "\n",
    "Let's take a look at how IPF works. There are two well known algorithms.\n",
    "\n",
    "- classical IPF\n",
    "- factor estimation"
   ]
  },
  {
   "cell_type": "markdown",
   "id": "7a9824d8-2505-44a9-8665-e99feefd2bbf",
   "metadata": {},
   "source": [
    "## Data\n",
    "\n",
    "This data is taken from [Wikipedia](https://en.wikipedia.org/wiki/Iterative_proportional_fitting#Example).\n",
    "\n",
    "- $X$ is a contingency matrix of counts for 2 dimensions\n",
    "- $u$ is the target row marginals\n",
    "- $v$ is the target column marginals"
   ]
  },
  {
   "cell_type": "code",
   "execution_count": 1,
   "id": "4469a76a-ce97-4b17-9812-6cf33eaa989d",
   "metadata": {
    "execution": {
     "iopub.execute_input": "2022-01-07T19:39:47.964003Z",
     "iopub.status.busy": "2022-01-07T19:39:47.964003Z",
     "iopub.status.idle": "2022-01-07T19:39:48.058998Z",
     "shell.execute_reply": "2022-01-07T19:39:48.058998Z",
     "shell.execute_reply.started": "2022-01-07T19:39:47.964003Z"
    },
    "tags": []
   },
   "outputs": [],
   "source": [
    "import numpy as np\n",
    "\n",
    "X = np.array([\n",
    "    [40, 30, 20, 10],\n",
    "    [35, 50, 100, 75],\n",
    "    [30, 80, 70, 120],\n",
    "    [20, 30, 40, 50]\n",
    "])\n",
    "\n",
    "u = np.array([150, 300, 400, 150]) # row target\n",
    "v = np.array([200, 300, 400, 100]) # col target"
   ]
  },
  {
   "cell_type": "markdown",
   "id": "d30d4bac-a370-49fd-a760-ea965c1d30e6",
   "metadata": {},
   "source": [
    "These are the observed and target row marginals."
   ]
  },
  {
   "cell_type": "code",
   "execution_count": 2,
   "id": "c1ca60a8-0491-4eb4-9379-5b188a82107d",
   "metadata": {
    "execution": {
     "iopub.execute_input": "2022-01-07T19:39:48.060003Z",
     "iopub.status.busy": "2022-01-07T19:39:48.060003Z",
     "iopub.status.idle": "2022-01-07T19:39:48.075001Z",
     "shell.execute_reply": "2022-01-07T19:39:48.075001Z",
     "shell.execute_reply.started": "2022-01-07T19:39:48.060003Z"
    },
    "tags": []
   },
   "outputs": [
    {
     "name": "stdout",
     "output_type": "stream",
     "text": [
      "observed: [100 260 300 140]\n",
      "target: [150 300 400 150]\n"
     ]
    }
   ],
   "source": [
    "print(f'observed: {X.sum(axis=1)}')\n",
    "print(f'target: {u}')"
   ]
  },
  {
   "cell_type": "markdown",
   "id": "7ea895e0-f53d-4193-a26c-0114e0bf8695",
   "metadata": {},
   "source": [
    "These are the observed and target column marginals."
   ]
  },
  {
   "cell_type": "code",
   "execution_count": 3,
   "id": "cfb5d2db-dec1-45af-8840-b3a86b453d95",
   "metadata": {
    "execution": {
     "iopub.execute_input": "2022-01-07T19:39:48.076000Z",
     "iopub.status.busy": "2022-01-07T19:39:48.076000Z",
     "iopub.status.idle": "2022-01-07T19:39:48.091001Z",
     "shell.execute_reply": "2022-01-07T19:39:48.091001Z",
     "shell.execute_reply.started": "2022-01-07T19:39:48.076000Z"
    },
    "tags": []
   },
   "outputs": [
    {
     "name": "stdout",
     "output_type": "stream",
     "text": [
      "observed: [125 190 230 255]\n",
      "target: [200 300 400 100]\n"
     ]
    }
   ],
   "source": [
    "print(f'observed: {X.sum(axis=0)}')\n",
    "print(f'target: {v}')"
   ]
  },
  {
   "cell_type": "markdown",
   "id": "b966efe4-8649-426c-900e-55740f37ca3f",
   "metadata": {},
   "source": [
    "## Classical IPF algorithm\n",
    "\n",
    "The classifical IPF algorithm alternates between adjusting the elements to satisfy the target row marginals and then the target column marginals. Initially,\n",
    "\n",
    "$m_{ij}^0 = x_{ij}$\n",
    "\n",
    "Meaning, $M$ is set to $X$ at the start. Then, we adjust $m_{ij}$ to satisfy the target row marginals. We are essentially do weighted normalization.\n",
    "\n",
    "$m_{ij}^1 = \\dfrac{m_{ij}^0 u_i}{\\sum_J m_{ij}^0}$\n",
    "\n",
    "Next, we adjust $m_{ij}$ to satisfy the target column marginals.\n",
    "\n",
    "$m_{ij}^2 = \\dfrac{m_{ij}^1 v_i}{\\sum_I m_{ij}^1}$\n",
    "\n",
    "Then $m_{ij}^0$ is set to $m_{ij}^2$ and we repeat the procedure until the marginals of $M$ are (nearly) identical to the target marginals $u$ and $v$. In the running example, after 6 iterations, the margins of $M$ are nearly indentical to the target ones (we are using the `L2-norm` to compute the distance)."
   ]
  },
  {
   "cell_type": "code",
   "execution_count": 4,
   "id": "bf968c8f-0c7e-4344-b618-65c235b219d9",
   "metadata": {
    "execution": {
     "iopub.execute_input": "2022-01-07T19:39:48.092001Z",
     "iopub.status.busy": "2022-01-07T19:39:48.092001Z",
     "iopub.status.idle": "2022-01-07T19:39:48.107017Z",
     "shell.execute_reply": "2022-01-07T19:39:48.107017Z",
     "shell.execute_reply.started": "2022-01-07T19:39:48.092001Z"
    },
    "tags": []
   },
   "outputs": [
    {
     "name": "stdout",
     "output_type": "stream",
     "text": [
      "d_u = 46.44167, d_v = 0.00000\n",
      "d_u = 2.43362, d_v = 0.00000\n",
      "d_u = 0.15757, d_v = 0.00000\n",
      "d_u = 0.01076, d_v = 0.00000\n",
      "d_u = 0.00074, d_v = 0.00000\n",
      "d_u = 0.00005, d_v = 0.00000\n"
     ]
    }
   ],
   "source": [
    "def ipf_update(M, u, v):\n",
    "    r_sums = M.sum(axis=1)\n",
    "    N = np.array([[M[r,c] * u[r] / r_sums[r] for c in range(M.shape[1])] \n",
    "                  for r in range(M.shape[0])])\n",
    "\n",
    "    c_sums = N.sum(axis=0)\n",
    "    O = np.array([[N[r, c] * v[c] / c_sums[c] for c in range(N.shape[1])] \n",
    "                  for r in range(N.shape[0])])\n",
    "    \n",
    "    d_u = np.linalg.norm(u - O.sum(axis=1), 2)\n",
    "    d_v = np.linalg.norm(v - O.sum(axis=0), 2)\n",
    "    \n",
    "    return O, d_u, d_v\n",
    "\n",
    "M = X.copy()\n",
    "\n",
    "for _ in range(10):\n",
    "    M, d_u, d_v = ipf_update(M, u, v)\n",
    "    print(f'd_u = {d_u:.5f}, d_v = {d_v:.5f}')\n",
    "    if d_u <= 0.0001 and d_v <= 0.0001:\n",
    "        break"
   ]
  },
  {
   "cell_type": "markdown",
   "id": "9f5e23b0-2e98-41ab-bf5b-e9849de5fa04",
   "metadata": {},
   "source": [
    "$M$ ends up looking like the following."
   ]
  },
  {
   "cell_type": "code",
   "execution_count": 5,
   "id": "6b85ff7e-3f1c-4090-b92d-c575ad87b48f",
   "metadata": {
    "execution": {
     "iopub.execute_input": "2022-01-07T19:39:48.108020Z",
     "iopub.status.busy": "2022-01-07T19:39:48.108020Z",
     "iopub.status.idle": "2022-01-07T19:39:48.123019Z",
     "shell.execute_reply": "2022-01-07T19:39:48.123019Z",
     "shell.execute_reply.started": "2022-01-07T19:39:48.108020Z"
    },
    "tags": []
   },
   "outputs": [
    {
     "data": {
      "text/plain": [
       "array([[ 64.55852549,  46.23247384,  35.38430991,   3.82473358],\n",
       "       [ 49.96791318,  68.15934981, 156.4985403 ,  25.37417955],\n",
       "       [ 56.72193658, 144.42821667, 145.0824759 ,  53.76734831],\n",
       "       [ 28.75162474,  41.17995969,  63.03467389,  17.03373857]])"
      ]
     },
     "execution_count": 5,
     "metadata": {},
     "output_type": "execute_result"
    }
   ],
   "source": [
    "M"
   ]
  },
  {
   "cell_type": "markdown",
   "id": "1d2594a3-8900-4325-9313-46093e03b240",
   "metadata": {},
   "source": [
    "Here are the column and row marginals of $M$."
   ]
  },
  {
   "cell_type": "code",
   "execution_count": 6,
   "id": "715dd2f5-fc0e-4cc6-9e69-0c1c0ea45b46",
   "metadata": {
    "execution": {
     "iopub.execute_input": "2022-01-07T19:39:48.124017Z",
     "iopub.status.busy": "2022-01-07T19:39:48.124017Z",
     "iopub.status.idle": "2022-01-07T19:39:48.138968Z",
     "shell.execute_reply": "2022-01-07T19:39:48.138968Z",
     "shell.execute_reply.started": "2022-01-07T19:39:48.124017Z"
    },
    "tags": []
   },
   "outputs": [
    {
     "data": {
      "text/plain": [
       "array([200., 300., 400., 100.])"
      ]
     },
     "execution_count": 6,
     "metadata": {},
     "output_type": "execute_result"
    }
   ],
   "source": [
    "M.sum(axis=0)"
   ]
  },
  {
   "cell_type": "code",
   "execution_count": 7,
   "id": "7f268e17-1b8b-4fea-9a64-27607e3bf751",
   "metadata": {
    "execution": {
     "iopub.execute_input": "2022-01-07T19:39:48.140968Z",
     "iopub.status.busy": "2022-01-07T19:39:48.140968Z",
     "iopub.status.idle": "2022-01-07T19:39:48.154967Z",
     "shell.execute_reply": "2022-01-07T19:39:48.154967Z",
     "shell.execute_reply.started": "2022-01-07T19:39:48.140968Z"
    },
    "tags": []
   },
   "outputs": [
    {
     "data": {
      "text/plain": [
       "array([150.00004282, 299.99998284, 399.99997746, 149.99999688])"
      ]
     },
     "execution_count": 7,
     "metadata": {},
     "output_type": "execute_result"
    }
   ],
   "source": [
    "M.sum(axis=1)"
   ]
  },
  {
   "cell_type": "markdown",
   "id": "70ca7371-ab84-4ef5-ac78-ded0057a44a1",
   "metadata": {},
   "source": [
    "## Factor estimation\n",
    "\n",
    "The factor estimation algorithm is more efficient than the IPF algorithm. It does not need to compute $M$ directly, but we do so here as a matter of `tracing` the intermediary outputs. In factor estimation, we have \n",
    "\n",
    "- $a$ as the row factor (size $I$), and\n",
    "- $b$ as the column factor (size $J$).\n",
    "\n",
    "The idea is to find $a$ and $b$ such that\n",
    "\n",
    "$m_{ij} = a_i b_j x_{ij}$\n",
    "\n",
    "and the resulting matrix $M$ will have its margins (nearly) identical to the target row $u$ and column $v$ marginals. The algorithm starts out with initializing all the elements of $b$ to 1. Then we iterate between estimating $a$ and $b$ until convergence.\n",
    "\n",
    "- $a_i^n = \\dfrac{u_i}{\\sum_J x_{ij} b_j^{n-1}}$\n",
    "- $b_j^n = \\dfrac{v_j}{\\sum_I x_{ij} a_i^n}$"
   ]
  },
  {
   "cell_type": "code",
   "execution_count": 8,
   "id": "322815da-cdf7-47c8-859c-834fbd05ea6c",
   "metadata": {
    "execution": {
     "iopub.execute_input": "2022-01-07T19:39:48.156968Z",
     "iopub.status.busy": "2022-01-07T19:39:48.155970Z",
     "iopub.status.idle": "2022-01-07T19:39:48.170968Z",
     "shell.execute_reply": "2022-01-07T19:39:48.170968Z",
     "shell.execute_reply.started": "2022-01-07T19:39:48.155970Z"
    },
    "tags": []
   },
   "outputs": [
    {
     "name": "stdout",
     "output_type": "stream",
     "text": [
      "d_u = 46.44167, d_v = 0.00000\n",
      "d_u = 2.43362, d_v = 0.00000\n",
      "d_u = 0.15757, d_v = 0.00000\n",
      "d_u = 0.01076, d_v = 0.00000\n",
      "d_u = 0.00074, d_v = 0.00000\n",
      "d_u = 0.00005, d_v = 0.00000\n"
     ]
    }
   ],
   "source": [
    "def factor_update(X, u, v, b):\n",
    "    a = [u[i] / sum([X[i, j] * b[j] for j in range(X.shape[1])]) for i in range(X.shape[0])]\n",
    "    b = [v[j] / sum([X[i, j] * a[i] for i in range(X.shape[0])]) for j in range(X.shape[1])]\n",
    "    \n",
    "    M = np.array([[X[i, j] * a[i] * b[j] for j in range(X.shape[1])] for i in range(X.shape[0])])\n",
    "    \n",
    "    d_u = np.linalg.norm(u - M.sum(axis=1), 2)\n",
    "    d_v = np.linalg.norm(v - M.sum(axis=0), 2)\n",
    "    \n",
    "    return M, a, b, d_u, d_v\n",
    "\n",
    "b = np.ones(X.shape[1])\n",
    "for _ in range(10):\n",
    "    M, a, b, d_u, d_v = factor_update(X, u, v, b)\n",
    "    print(f'd_u = {d_u:.5f}, d_v = {d_v:.5f}')\n",
    "    if d_u <= 0.0001 and d_v <= 0.0001:\n",
    "        break"
   ]
  },
  {
   "cell_type": "markdown",
   "id": "b2b6da03-7e2e-4639-9c2d-65fdcef02bd8",
   "metadata": {},
   "source": [
    "The row and column factors are as follows."
   ]
  },
  {
   "cell_type": "code",
   "execution_count": 9,
   "id": "5c36bba3-6250-4033-b70f-3486b0d84df8",
   "metadata": {
    "execution": {
     "iopub.execute_input": "2022-01-07T19:39:48.171968Z",
     "iopub.status.busy": "2022-01-07T19:39:48.171968Z",
     "iopub.status.idle": "2022-01-07T19:39:48.186981Z",
     "shell.execute_reply": "2022-01-07T19:39:48.186981Z",
     "shell.execute_reply.started": "2022-01-07T19:39:48.171968Z"
    },
    "tags": []
   },
   "outputs": [
    {
     "data": {
      "text/plain": [
       "[1.251391838473094, 1.106936925262328, 1.4659849174901225, 1.1146335288885565]"
      ]
     },
     "execution_count": 9,
     "metadata": {},
     "output_type": "execute_result"
    }
   ],
   "source": [
    "a"
   ]
  },
  {
   "cell_type": "code",
   "execution_count": 10,
   "id": "77b5d4e2-1c9e-4265-afbc-62201529489a",
   "metadata": {
    "execution": {
     "iopub.execute_input": "2022-01-07T19:39:48.187983Z",
     "iopub.status.busy": "2022-01-07T19:39:48.187983Z",
     "iopub.status.idle": "2022-01-07T19:39:48.202811Z",
     "shell.execute_reply": "2022-01-07T19:39:48.202811Z",
     "shell.execute_reply.started": "2022-01-07T19:39:48.187983Z"
    },
    "tags": []
   },
   "outputs": [
    {
     "data": {
      "text/plain": [
       "[1.2897344282495622,\n",
       " 1.231494735600841,\n",
       " 1.4137981734141623,\n",
       " 0.30563836678112183]"
      ]
     },
     "execution_count": 10,
     "metadata": {},
     "output_type": "execute_result"
    }
   ],
   "source": [
    "b"
   ]
  },
  {
   "cell_type": "markdown",
   "id": "add03fbc-1c88-4475-8f97-49e98a467189",
   "metadata": {},
   "source": [
    "$M$ may be reproduced from $X$, $a$ and $b$."
   ]
  },
  {
   "cell_type": "code",
   "execution_count": 11,
   "id": "08f207da-e91b-46bc-b27b-16730e8ba329",
   "metadata": {
    "execution": {
     "iopub.execute_input": "2022-01-07T19:39:48.203702Z",
     "iopub.status.busy": "2022-01-07T19:39:48.203702Z",
     "iopub.status.idle": "2022-01-07T19:39:48.218306Z",
     "shell.execute_reply": "2022-01-07T19:39:48.218306Z",
     "shell.execute_reply.started": "2022-01-07T19:39:48.203702Z"
    },
    "tags": []
   },
   "outputs": [
    {
     "data": {
      "text/plain": [
       "array([[ 64.55852549,  46.23247384,  35.38430991,   3.82473358],\n",
       "       [ 49.96791318,  68.15934981, 156.4985403 ,  25.37417955],\n",
       "       [ 56.72193658, 144.42821667, 145.0824759 ,  53.76734831],\n",
       "       [ 28.75162474,  41.17995969,  63.03467389,  17.03373857]])"
      ]
     },
     "execution_count": 11,
     "metadata": {},
     "output_type": "execute_result"
    }
   ],
   "source": [
    "M"
   ]
  },
  {
   "cell_type": "markdown",
   "id": "645436d0-c710-4648-8afc-dda6ae75532e",
   "metadata": {},
   "source": [
    "As you can see, the row and column marginals are nearly identical to the target ones."
   ]
  },
  {
   "cell_type": "code",
   "execution_count": 12,
   "id": "fe21c8bd-0630-413c-bcdd-94fcd3d640db",
   "metadata": {
    "execution": {
     "iopub.execute_input": "2022-01-07T19:39:48.219306Z",
     "iopub.status.busy": "2022-01-07T19:39:48.219306Z",
     "iopub.status.idle": "2022-01-07T19:39:48.233971Z",
     "shell.execute_reply": "2022-01-07T19:39:48.233971Z",
     "shell.execute_reply.started": "2022-01-07T19:39:48.219306Z"
    }
   },
   "outputs": [
    {
     "data": {
      "text/plain": [
       "array([200., 300., 400., 100.])"
      ]
     },
     "execution_count": 12,
     "metadata": {},
     "output_type": "execute_result"
    }
   ],
   "source": [
    "M.sum(axis=0)"
   ]
  },
  {
   "cell_type": "code",
   "execution_count": 13,
   "id": "a5c0817e-8572-4b33-9ceb-5d04f2ece648",
   "metadata": {
    "execution": {
     "iopub.execute_input": "2022-01-07T19:39:48.234971Z",
     "iopub.status.busy": "2022-01-07T19:39:48.234971Z",
     "iopub.status.idle": "2022-01-07T19:39:48.249994Z",
     "shell.execute_reply": "2022-01-07T19:39:48.249994Z",
     "shell.execute_reply.started": "2022-01-07T19:39:48.234971Z"
    }
   },
   "outputs": [
    {
     "data": {
      "text/plain": [
       "array([150.00004282, 299.99998284, 399.99997746, 149.99999688])"
      ]
     },
     "execution_count": 13,
     "metadata": {},
     "output_type": "execute_result"
    }
   ],
   "source": [
    "M.sum(axis=1)"
   ]
  },
  {
   "cell_type": "markdown",
   "id": "3ad4d702-63ca-458d-be6c-a20a482e9cca",
   "metadata": {},
   "source": [
    "## Weighting\n",
    "\n",
    "After we estimate $M$, we can normalize the values of all the elements so that they sum to 1.0. The normalized elements of $M$ are the weights corresponding to the `i` and `j` values. "
   ]
  },
  {
   "cell_type": "code",
   "execution_count": 14,
   "id": "8ee5e8ea-2e70-49e3-8a89-be87e1923b1d",
   "metadata": {
    "execution": {
     "iopub.execute_input": "2022-01-07T19:39:48.250994Z",
     "iopub.status.busy": "2022-01-07T19:39:48.250994Z",
     "iopub.status.idle": "2022-01-07T19:39:48.265603Z",
     "shell.execute_reply": "2022-01-07T19:39:48.265304Z",
     "shell.execute_reply.started": "2022-01-07T19:39:48.250994Z"
    },
    "tags": []
   },
   "outputs": [
    {
     "data": {
      "text/plain": [
       "array([[0.06455853, 0.04623247, 0.03538431, 0.00382473],\n",
       "       [0.04996791, 0.06815935, 0.15649854, 0.02537418],\n",
       "       [0.05672194, 0.14442822, 0.14508248, 0.05376735],\n",
       "       [0.02875162, 0.04117996, 0.06303467, 0.01703374]])"
      ]
     },
     "execution_count": 14,
     "metadata": {},
     "output_type": "execute_result"
    }
   ],
   "source": [
    "M / M.sum()"
   ]
  },
  {
   "cell_type": "markdown",
   "id": "42e00451-2b22-4fbb-8a0c-934c2cc97f2b",
   "metadata": {},
   "source": [
    "## Example\n",
    "\n",
    "Let's simulate a data set that has 3 fields.\n",
    "\n",
    "- race: {white, other}\n",
    "- gender: {male, female}\n",
    "- weight (the weight of a person, or how heavy a person is)\n",
    "\n",
    "We will sample the weights for each invididual as follows.\n",
    "\n",
    "- $\\mathcal{N_{wm}}(150, 1.5)$ for white $w$ male $m$\n",
    "- $\\mathcal{N_{om}}(160, 1.3)$ for other $o$ male $m$\n",
    "- $\\mathcal{N_{wf}}(125, 1.1)$ for white $w$ female $f$\n",
    "- $\\mathcal{N_{of}}(130, 1.1)$ for other $o$ female $f$\n",
    "\n"
   ]
  },
  {
   "cell_type": "code",
   "execution_count": 15,
   "id": "6334bc62-5cce-47be-aec2-f652b48c1fee",
   "metadata": {
    "execution": {
     "iopub.execute_input": "2022-01-07T19:39:48.266305Z",
     "iopub.status.busy": "2022-01-07T19:39:48.266305Z",
     "iopub.status.idle": "2022-01-07T19:39:48.485304Z",
     "shell.execute_reply": "2022-01-07T19:39:48.485304Z",
     "shell.execute_reply.started": "2022-01-07T19:39:48.266305Z"
    },
    "tags": []
   },
   "outputs": [
    {
     "data": {
      "text/html": [
       "<div>\n",
       "<style scoped>\n",
       "    .dataframe tbody tr th:only-of-type {\n",
       "        vertical-align: middle;\n",
       "    }\n",
       "\n",
       "    .dataframe tbody tr th {\n",
       "        vertical-align: top;\n",
       "    }\n",
       "\n",
       "    .dataframe thead th {\n",
       "        text-align: right;\n",
       "    }\n",
       "</style>\n",
       "<table border=\"1\" class=\"dataframe\">\n",
       "  <thead>\n",
       "    <tr style=\"text-align: right;\">\n",
       "      <th></th>\n",
       "      <th>race</th>\n",
       "      <th>gender</th>\n",
       "      <th>weight</th>\n",
       "    </tr>\n",
       "  </thead>\n",
       "  <tbody>\n",
       "    <tr>\n",
       "      <th>0</th>\n",
       "      <td>white</td>\n",
       "      <td>male</td>\n",
       "      <td>151.141693</td>\n",
       "    </tr>\n",
       "    <tr>\n",
       "      <th>1</th>\n",
       "      <td>white</td>\n",
       "      <td>male</td>\n",
       "      <td>148.045344</td>\n",
       "    </tr>\n",
       "    <tr>\n",
       "      <th>2</th>\n",
       "      <td>white</td>\n",
       "      <td>male</td>\n",
       "      <td>151.683133</td>\n",
       "    </tr>\n",
       "    <tr>\n",
       "      <th>3</th>\n",
       "      <td>white</td>\n",
       "      <td>male</td>\n",
       "      <td>149.063184</td>\n",
       "    </tr>\n",
       "    <tr>\n",
       "      <th>4</th>\n",
       "      <td>white</td>\n",
       "      <td>male</td>\n",
       "      <td>150.203894</td>\n",
       "    </tr>\n",
       "  </tbody>\n",
       "</table>\n",
       "</div>"
      ],
      "text/plain": [
       "    race gender      weight\n",
       "0  white   male  151.141693\n",
       "1  white   male  148.045344\n",
       "2  white   male  151.683133\n",
       "3  white   male  149.063184\n",
       "4  white   male  150.203894"
      ]
     },
     "execution_count": 15,
     "metadata": {},
     "output_type": "execute_result"
    }
   ],
   "source": [
    "import pandas as pd\n",
    "\n",
    "wm = np.random.normal(150, 1.5, 100)\n",
    "om = np.random.normal(160, 1.3, 80)\n",
    "wf = np.random.normal(125, 1.1, 200)\n",
    "of = np.random.normal(130, 1.1, 150)\n",
    "\n",
    "data = [{'race': 'white', 'gender': 'male', 'weight': w} for w in wm]\n",
    "data += [{'race': 'other', 'gender': 'male', 'weight': w} for w in om]\n",
    "data += [{'race': 'white', 'gender': 'female', 'weight': w} for w in wf]\n",
    "data += [{'race': 'other', 'gender': 'female', 'weight': w} for w in of]\n",
    "\n",
    "df = pd.DataFrame(data)\n",
    "df.head()"
   ]
  },
  {
   "cell_type": "markdown",
   "id": "5227fae6-babc-422d-817f-b124fd7229af",
   "metadata": {},
   "source": [
    "A contingency table gender and race of the synthetic data is as follows."
   ]
  },
  {
   "cell_type": "code",
   "execution_count": 16,
   "id": "c65b58e5-21ba-4a49-8f25-637e5e6605d7",
   "metadata": {
    "execution": {
     "iopub.execute_input": "2022-01-07T19:39:48.486304Z",
     "iopub.status.busy": "2022-01-07T19:39:48.486304Z",
     "iopub.status.idle": "2022-01-07T19:39:48.501304Z",
     "shell.execute_reply": "2022-01-07T19:39:48.501304Z",
     "shell.execute_reply.started": "2022-01-07T19:39:48.486304Z"
    },
    "tags": []
   },
   "outputs": [
    {
     "data": {
      "text/html": [
       "<div>\n",
       "<style scoped>\n",
       "    .dataframe tbody tr th:only-of-type {\n",
       "        vertical-align: middle;\n",
       "    }\n",
       "\n",
       "    .dataframe tbody tr th {\n",
       "        vertical-align: top;\n",
       "    }\n",
       "\n",
       "    .dataframe thead th {\n",
       "        text-align: right;\n",
       "    }\n",
       "</style>\n",
       "<table border=\"1\" class=\"dataframe\">\n",
       "  <thead>\n",
       "    <tr style=\"text-align: right;\">\n",
       "      <th>gender</th>\n",
       "      <th>female</th>\n",
       "      <th>male</th>\n",
       "    </tr>\n",
       "    <tr>\n",
       "      <th>race</th>\n",
       "      <th></th>\n",
       "      <th></th>\n",
       "    </tr>\n",
       "  </thead>\n",
       "  <tbody>\n",
       "    <tr>\n",
       "      <th>other</th>\n",
       "      <td>150</td>\n",
       "      <td>80</td>\n",
       "    </tr>\n",
       "    <tr>\n",
       "      <th>white</th>\n",
       "      <td>200</td>\n",
       "      <td>100</td>\n",
       "    </tr>\n",
       "  </tbody>\n",
       "</table>\n",
       "</div>"
      ],
      "text/plain": [
       "gender  female  male\n",
       "race                \n",
       "other      150    80\n",
       "white      200   100"
      ]
     },
     "execution_count": 16,
     "metadata": {},
     "output_type": "execute_result"
    }
   ],
   "source": [
    "pd.crosstab(df.race, df.gender)"
   ]
  },
  {
   "cell_type": "markdown",
   "id": "5e3bdc7a-3306-4d2b-928e-5d0de0c49ee7",
   "metadata": {},
   "source": [
    "Here is the contingency table reprsented as percentages."
   ]
  },
  {
   "cell_type": "code",
   "execution_count": 17,
   "id": "8c4f5fef-7188-4056-a0c3-ab8a22388890",
   "metadata": {
    "execution": {
     "iopub.execute_input": "2022-01-07T19:39:48.502305Z",
     "iopub.status.busy": "2022-01-07T19:39:48.502305Z",
     "iopub.status.idle": "2022-01-07T19:39:48.517170Z",
     "shell.execute_reply": "2022-01-07T19:39:48.517170Z",
     "shell.execute_reply.started": "2022-01-07T19:39:48.502305Z"
    }
   },
   "outputs": [
    {
     "data": {
      "text/html": [
       "<div>\n",
       "<style scoped>\n",
       "    .dataframe tbody tr th:only-of-type {\n",
       "        vertical-align: middle;\n",
       "    }\n",
       "\n",
       "    .dataframe tbody tr th {\n",
       "        vertical-align: top;\n",
       "    }\n",
       "\n",
       "    .dataframe thead th {\n",
       "        text-align: right;\n",
       "    }\n",
       "</style>\n",
       "<table border=\"1\" class=\"dataframe\">\n",
       "  <thead>\n",
       "    <tr style=\"text-align: right;\">\n",
       "      <th>gender</th>\n",
       "      <th>female</th>\n",
       "      <th>male</th>\n",
       "    </tr>\n",
       "    <tr>\n",
       "      <th>race</th>\n",
       "      <th></th>\n",
       "      <th></th>\n",
       "    </tr>\n",
       "  </thead>\n",
       "  <tbody>\n",
       "    <tr>\n",
       "      <th>other</th>\n",
       "      <td>0.283019</td>\n",
       "      <td>0.150943</td>\n",
       "    </tr>\n",
       "    <tr>\n",
       "      <th>white</th>\n",
       "      <td>0.377358</td>\n",
       "      <td>0.188679</td>\n",
       "    </tr>\n",
       "  </tbody>\n",
       "</table>\n",
       "</div>"
      ],
      "text/plain": [
       "gender    female      male\n",
       "race                      \n",
       "other   0.283019  0.150943\n",
       "white   0.377358  0.188679"
      ]
     },
     "execution_count": 17,
     "metadata": {},
     "output_type": "execute_result"
    }
   ],
   "source": [
    "pd.crosstab(df.race, df.gender) / df.shape[0]"
   ]
  },
  {
   "cell_type": "markdown",
   "id": "d578333f-d340-488f-b5ae-7db0d4b5d02b",
   "metadata": {},
   "source": [
    "We want to upsample the synthetic data so that the sampled data has the following percentages.\n",
    "\n",
    "- race: white (58%), other (42%)\n",
    "- gender: male (49%), female (51%)\n",
    "\n",
    "Let's apply the IPF algorithm to see what the sampling weights will be."
   ]
  },
  {
   "cell_type": "code",
   "execution_count": 18,
   "id": "61518f7d-910d-4ea2-afbf-95a4302c358d",
   "metadata": {
    "execution": {
     "iopub.execute_input": "2022-01-07T19:39:48.518178Z",
     "iopub.status.busy": "2022-01-07T19:39:48.518178Z",
     "iopub.status.idle": "2022-01-07T19:39:48.533177Z",
     "shell.execute_reply": "2022-01-07T19:39:48.533177Z",
     "shell.execute_reply.started": "2022-01-07T19:39:48.518178Z"
    },
    "tags": []
   },
   "outputs": [
    {
     "data": {
      "text/plain": [
       "array([[150,  80],\n",
       "       [200, 100]], dtype=int64)"
      ]
     },
     "execution_count": 18,
     "metadata": {},
     "output_type": "execute_result"
    }
   ],
   "source": [
    "X = pd.crosstab(df.race, df.gender).values\n",
    "M = X.copy()\n",
    "\n",
    "M"
   ]
  },
  {
   "cell_type": "code",
   "execution_count": 19,
   "id": "6ce6abf7-4339-4850-b8f1-af1efa100fc8",
   "metadata": {
    "execution": {
     "iopub.execute_input": "2022-01-07T19:39:48.534178Z",
     "iopub.status.busy": "2022-01-07T19:39:48.534178Z",
     "iopub.status.idle": "2022-01-07T19:39:48.549177Z",
     "shell.execute_reply": "2022-01-07T19:39:48.548561Z",
     "shell.execute_reply.started": "2022-01-07T19:39:48.534178Z"
    },
    "tags": []
   },
   "outputs": [
    {
     "data": {
      "text/plain": [
       "(array([420., 580.]), array([510., 490.]))"
      ]
     },
     "execution_count": 19,
     "metadata": {},
     "output_type": "execute_result"
    }
   ],
   "source": [
    "u = np.array([1 - 0.58, 0.58]) * 1_000\n",
    "v = np.array([0.51, 0.49]) * 1_000\n",
    "\n",
    "u, v"
   ]
  },
  {
   "cell_type": "code",
   "execution_count": 20,
   "id": "5b27d887-82e2-44cd-9400-73b950e77ff0",
   "metadata": {
    "execution": {
     "iopub.execute_input": "2022-01-07T19:39:48.550178Z",
     "iopub.status.busy": "2022-01-07T19:39:48.550178Z",
     "iopub.status.idle": "2022-01-07T19:39:48.564196Z",
     "shell.execute_reply": "2022-01-07T19:39:48.564196Z",
     "shell.execute_reply.started": "2022-01-07T19:39:48.550178Z"
    },
    "tags": []
   },
   "outputs": [
    {
     "name": "stdout",
     "output_type": "stream",
     "text": [
      "d_u = 3.35310, d_v = 0.00000\n",
      "d_u = 0.00085, d_v = 0.00000\n",
      "d_u = 0.00000, d_v = 0.00000\n"
     ]
    }
   ],
   "source": [
    "for _ in range(10):\n",
    "    M, d_u, d_v = ipf_update(M, u, v)\n",
    "    print(f'd_u = {d_u:.5f}, d_v = {d_v:.5f}')\n",
    "    if d_u <= 0.0001 and d_v <= 0.0001:\n",
    "        break"
   ]
  },
  {
   "cell_type": "code",
   "execution_count": 21,
   "id": "5a64fba4-91ff-43f5-b225-71191d86e3a6",
   "metadata": {
    "execution": {
     "iopub.execute_input": "2022-01-07T19:39:48.565194Z",
     "iopub.status.busy": "2022-01-07T19:39:48.565194Z",
     "iopub.status.idle": "2022-01-07T19:39:48.580208Z",
     "shell.execute_reply": "2022-01-07T19:39:48.580208Z",
     "shell.execute_reply.started": "2022-01-07T19:39:48.565194Z"
    },
    "tags": []
   },
   "outputs": [
    {
     "data": {
      "text/plain": [
       "array([[210.271138  , 209.72886215],\n",
       "       [299.728862  , 280.27113785]])"
      ]
     },
     "execution_count": 21,
     "metadata": {},
     "output_type": "execute_result"
    }
   ],
   "source": [
    "M"
   ]
  },
  {
   "cell_type": "code",
   "execution_count": 22,
   "id": "ae01d9ef-ea53-4598-b15d-3520433b721a",
   "metadata": {
    "execution": {
     "iopub.execute_input": "2022-01-07T19:39:48.581208Z",
     "iopub.status.busy": "2022-01-07T19:39:48.581208Z",
     "iopub.status.idle": "2022-01-07T19:39:48.596207Z",
     "shell.execute_reply": "2022-01-07T19:39:48.596207Z",
     "shell.execute_reply.started": "2022-01-07T19:39:48.581208Z"
    }
   },
   "outputs": [
    {
     "data": {
      "text/plain": [
       "array([[0.21027114, 0.20972886],\n",
       "       [0.29972886, 0.28027114]])"
      ]
     },
     "execution_count": 22,
     "metadata": {},
     "output_type": "execute_result"
    }
   ],
   "source": [
    "M / M.sum()"
   ]
  },
  {
   "cell_type": "markdown",
   "id": "02e6af15-b23a-4be7-a8f5-0bde1fe3cb33",
   "metadata": {},
   "source": [
    "Let's use the factor estimation algorithm to estimate the weights."
   ]
  },
  {
   "cell_type": "code",
   "execution_count": 23,
   "id": "0d1c3857-7d93-4728-9e9e-d5ed447651ae",
   "metadata": {
    "execution": {
     "iopub.execute_input": "2022-01-07T19:39:48.597209Z",
     "iopub.status.busy": "2022-01-07T19:39:48.597209Z",
     "iopub.status.idle": "2022-01-07T19:39:48.612208Z",
     "shell.execute_reply": "2022-01-07T19:39:48.612208Z",
     "shell.execute_reply.started": "2022-01-07T19:39:48.597209Z"
    },
    "tags": []
   },
   "outputs": [
    {
     "name": "stdout",
     "output_type": "stream",
     "text": [
      "d_u = 3.35310, d_v = 0.00000\n",
      "d_u = 0.00085, d_v = 0.00000\n",
      "d_u = 0.00000, d_v = 0.00000\n"
     ]
    }
   ],
   "source": [
    "b = np.ones(X.shape[1])\n",
    "\n",
    "for _ in range(10):\n",
    "    M, a, b, d_u, d_v = factor_update(X, u, v, b)\n",
    "    print(f'd_u = {d_u:.5f}, d_v = {d_v:.5f}')\n",
    "    if d_u <= 0.0001 and d_v <= 0.0001:\n",
    "        break"
   ]
  },
  {
   "cell_type": "code",
   "execution_count": 24,
   "id": "12fb1315-c60a-4a86-b525-c2afa2b0d4cd",
   "metadata": {
    "execution": {
     "iopub.execute_input": "2022-01-07T19:39:48.614212Z",
     "iopub.status.busy": "2022-01-07T19:39:48.613210Z",
     "iopub.status.idle": "2022-01-07T19:39:48.628208Z",
     "shell.execute_reply": "2022-01-07T19:39:48.628208Z",
     "shell.execute_reply.started": "2022-01-07T19:39:48.614212Z"
    },
    "tags": []
   },
   "outputs": [
    {
     "data": {
      "text/plain": [
       "[1.8158335284361056, 1.9412711210103644]"
      ]
     },
     "execution_count": 24,
     "metadata": {},
     "output_type": "execute_result"
    }
   ],
   "source": [
    "a"
   ]
  },
  {
   "cell_type": "code",
   "execution_count": 25,
   "id": "f5fbd79f-a580-4b0c-a142-186a23c7f960",
   "metadata": {
    "execution": {
     "iopub.execute_input": "2022-01-07T19:39:48.630208Z",
     "iopub.status.busy": "2022-01-07T19:39:48.630208Z",
     "iopub.status.idle": "2022-01-07T19:39:48.644208Z",
     "shell.execute_reply": "2022-01-07T19:39:48.644208Z",
     "shell.execute_reply.started": "2022-01-07T19:39:48.630208Z"
    },
    "tags": []
   },
   "outputs": [
    {
     "data": {
      "text/plain": [
       "[0.7719912452001316, 1.4437506168933019]"
      ]
     },
     "execution_count": 25,
     "metadata": {},
     "output_type": "execute_result"
    }
   ],
   "source": [
    "b"
   ]
  },
  {
   "cell_type": "code",
   "execution_count": 26,
   "id": "6547bb23-1adb-4057-8b60-df1fd495a0b5",
   "metadata": {
    "execution": {
     "iopub.execute_input": "2022-01-07T19:39:48.646211Z",
     "iopub.status.busy": "2022-01-07T19:39:48.645208Z",
     "iopub.status.idle": "2022-01-07T19:39:48.660207Z",
     "shell.execute_reply": "2022-01-07T19:39:48.660207Z",
     "shell.execute_reply.started": "2022-01-07T19:39:48.645208Z"
    },
    "tags": []
   },
   "outputs": [
    {
     "data": {
      "text/plain": [
       "array([[210.271138  , 209.72886215],\n",
       "       [299.728862  , 280.27113785]])"
      ]
     },
     "execution_count": 26,
     "metadata": {},
     "output_type": "execute_result"
    }
   ],
   "source": [
    "M"
   ]
  },
  {
   "cell_type": "code",
   "execution_count": 27,
   "id": "ce1d5371-309d-4cdc-a665-96eb57e2f9ff",
   "metadata": {
    "execution": {
     "iopub.execute_input": "2022-01-07T19:39:48.661208Z",
     "iopub.status.busy": "2022-01-07T19:39:48.661208Z",
     "iopub.status.idle": "2022-01-07T19:39:48.676206Z",
     "shell.execute_reply": "2022-01-07T19:39:48.676206Z",
     "shell.execute_reply.started": "2022-01-07T19:39:48.661208Z"
    },
    "tags": []
   },
   "outputs": [
    {
     "data": {
      "text/plain": [
       "array([[0.21027114, 0.20972886],\n",
       "       [0.29972886, 0.28027114]])"
      ]
     },
     "execution_count": 27,
     "metadata": {},
     "output_type": "execute_result"
    }
   ],
   "source": [
    "M / M.sum()"
   ]
  },
  {
   "cell_type": "code",
   "execution_count": 28,
   "id": "fcb87e7b-06a0-491a-8ce2-870d7c16ea40",
   "metadata": {
    "execution": {
     "iopub.execute_input": "2022-01-07T19:39:48.677208Z",
     "iopub.status.busy": "2022-01-07T19:39:48.677208Z",
     "iopub.status.idle": "2022-01-07T19:39:48.691206Z",
     "shell.execute_reply": "2022-01-07T19:39:48.691206Z",
     "shell.execute_reply.started": "2022-01-07T19:39:48.677208Z"
    },
    "tags": []
   },
   "outputs": [
    {
     "data": {
      "text/plain": [
       "[(0.21027113800403066, ('other', 'female')),\n",
       " (0.20972886214841346, ('other', 'male')),\n",
       " (0.29972886199596926, ('white', 'female')),\n",
       " (0.2802711378515865, ('white', 'male'))]"
      ]
     },
     "execution_count": 28,
     "metadata": {},
     "output_type": "execute_result"
    }
   ],
   "source": [
    "import itertools\n",
    "\n",
    "list(zip(np.ravel(M / M.sum()), itertools.product(*[['other', 'white'], ['female', 'male']])))"
   ]
  },
  {
   "cell_type": "markdown",
   "id": "cbcd2e14-ab29-4955-8229-16b277424c71",
   "metadata": {},
   "source": [
    "Now that we have the weights of each cell in $M$, we can divide then by the number of samples and re-assign these observation weights to the synthetic data."
   ]
  },
  {
   "cell_type": "code",
   "execution_count": 29,
   "id": "a3007bfe-cda5-40ce-93b7-653a80935476",
   "metadata": {
    "execution": {
     "iopub.execute_input": "2022-01-07T19:39:48.692208Z",
     "iopub.status.busy": "2022-01-07T19:39:48.692208Z",
     "iopub.status.idle": "2022-01-07T19:39:48.707208Z",
     "shell.execute_reply": "2022-01-07T19:39:48.707208Z",
     "shell.execute_reply.started": "2022-01-07T19:39:48.692208Z"
    },
    "tags": []
   },
   "outputs": [
    {
     "data": {
      "text/plain": [
       "{('other', 'female'): 0.0014018075866935376,\n",
       " ('other', 'male'): 0.002621610776855168,\n",
       " ('white', 'female'): 0.0014986443099798464,\n",
       " ('white', 'male'): 0.002802711378515865}"
      ]
     },
     "execution_count": 29,
     "metadata": {},
     "output_type": "execute_result"
    }
   ],
   "source": [
    "weights = {k: w / df[(df.race==k[0]) & (df.gender==k[1])].shape[0] \n",
    "           for w, k in (zip(np.ravel(M / M.sum()), itertools.product(*[['other', 'white'], ['female', 'male']])))}\n",
    "weights"
   ]
  },
  {
   "cell_type": "code",
   "execution_count": 30,
   "id": "36f0d031-2f1a-4265-9a18-a3aa95dcbac6",
   "metadata": {
    "execution": {
     "iopub.execute_input": "2022-01-07T19:39:48.708208Z",
     "iopub.status.busy": "2022-01-07T19:39:48.708208Z",
     "iopub.status.idle": "2022-01-07T19:39:48.722207Z",
     "shell.execute_reply": "2022-01-07T19:39:48.722207Z",
     "shell.execute_reply.started": "2022-01-07T19:39:48.708208Z"
    },
    "tags": []
   },
   "outputs": [],
   "source": [
    "w = df.apply(lambda r: weights[(r.race, r.gender)], axis=1)"
   ]
  },
  {
   "cell_type": "markdown",
   "id": "8bb21a58-2bac-47d4-95fa-41b401a132a3",
   "metadata": {},
   "source": [
    "The sampled data is created from the synthetic data. We will choose the number of samples to be 1,000."
   ]
  },
  {
   "cell_type": "code",
   "execution_count": 31,
   "id": "7c9c0956-cde1-4ff6-8fc5-90a8148e1c57",
   "metadata": {
    "execution": {
     "iopub.execute_input": "2022-01-07T19:39:48.723207Z",
     "iopub.status.busy": "2022-01-07T19:39:48.723207Z",
     "iopub.status.idle": "2022-01-07T19:39:48.738223Z",
     "shell.execute_reply": "2022-01-07T19:39:48.738223Z",
     "shell.execute_reply.started": "2022-01-07T19:39:48.723207Z"
    },
    "tags": []
   },
   "outputs": [
    {
     "data": {
      "text/plain": [
       "(1000, 3)"
      ]
     },
     "execution_count": 31,
     "metadata": {},
     "output_type": "execute_result"
    }
   ],
   "source": [
    "sampled_df = df.sample(n=1_000, replace=True, weights=w, random_state=37)\n",
    "sampled_df.shape"
   ]
  },
  {
   "cell_type": "markdown",
   "id": "3b918ed3-a6c8-4f10-829f-214a3e28beef",
   "metadata": {},
   "source": [
    "Now let's check the percentages."
   ]
  },
  {
   "cell_type": "code",
   "execution_count": 32,
   "id": "87c2397a-14a2-46e9-9d06-d35ae923b3ec",
   "metadata": {
    "execution": {
     "iopub.execute_input": "2022-01-07T19:39:48.739224Z",
     "iopub.status.busy": "2022-01-07T19:39:48.739224Z",
     "iopub.status.idle": "2022-01-07T19:39:48.753636Z",
     "shell.execute_reply": "2022-01-07T19:39:48.753636Z",
     "shell.execute_reply.started": "2022-01-07T19:39:48.739224Z"
    },
    "tags": []
   },
   "outputs": [
    {
     "data": {
      "text/html": [
       "<div>\n",
       "<style scoped>\n",
       "    .dataframe tbody tr th:only-of-type {\n",
       "        vertical-align: middle;\n",
       "    }\n",
       "\n",
       "    .dataframe tbody tr th {\n",
       "        vertical-align: top;\n",
       "    }\n",
       "\n",
       "    .dataframe thead th {\n",
       "        text-align: right;\n",
       "    }\n",
       "</style>\n",
       "<table border=\"1\" class=\"dataframe\">\n",
       "  <thead>\n",
       "    <tr style=\"text-align: right;\">\n",
       "      <th>gender</th>\n",
       "      <th>female</th>\n",
       "      <th>male</th>\n",
       "    </tr>\n",
       "    <tr>\n",
       "      <th>race</th>\n",
       "      <th></th>\n",
       "      <th></th>\n",
       "    </tr>\n",
       "  </thead>\n",
       "  <tbody>\n",
       "    <tr>\n",
       "      <th>other</th>\n",
       "      <td>0.205</td>\n",
       "      <td>0.219</td>\n",
       "    </tr>\n",
       "    <tr>\n",
       "      <th>white</th>\n",
       "      <td>0.304</td>\n",
       "      <td>0.272</td>\n",
       "    </tr>\n",
       "  </tbody>\n",
       "</table>\n",
       "</div>"
      ],
      "text/plain": [
       "gender  female   male\n",
       "race                 \n",
       "other    0.205  0.219\n",
       "white    0.304  0.272"
      ]
     },
     "execution_count": 32,
     "metadata": {},
     "output_type": "execute_result"
    }
   ],
   "source": [
    "pd.crosstab(sampled_df.race, sampled_df.gender) / sampled_df.shape[0]"
   ]
  },
  {
   "cell_type": "markdown",
   "id": "1c4f4690-eceb-4582-b041-903e647b33db",
   "metadata": {},
   "source": [
    "The gender percentages of the sampled data (sampled from the synthetic data) matches the national percentages."
   ]
  },
  {
   "cell_type": "code",
   "execution_count": 33,
   "id": "0b131ef7-dc88-42aa-ab98-c8cf7cd95eed",
   "metadata": {
    "execution": {
     "iopub.execute_input": "2022-01-07T19:39:48.754632Z",
     "iopub.status.busy": "2022-01-07T19:39:48.754632Z",
     "iopub.status.idle": "2022-01-07T19:39:48.769647Z",
     "shell.execute_reply": "2022-01-07T19:39:48.769647Z",
     "shell.execute_reply.started": "2022-01-07T19:39:48.754632Z"
    }
   },
   "outputs": [
    {
     "data": {
      "text/plain": [
       "gender\n",
       "female    0.509\n",
       "male      0.491\n",
       "dtype: float64"
      ]
     },
     "execution_count": 33,
     "metadata": {},
     "output_type": "execute_result"
    }
   ],
   "source": [
    "(pd.crosstab(sampled_df.race, sampled_df.gender) / sampled_df.shape[0]).sum(axis=0)"
   ]
  },
  {
   "cell_type": "markdown",
   "id": "8d109af0-49b5-43d2-831b-86c956a3e7d1",
   "metadata": {},
   "source": [
    "The race percentages of the sampled data (sampled from the synthetic data) matches the national percentages."
   ]
  },
  {
   "cell_type": "code",
   "execution_count": 34,
   "id": "b8d16964-55bc-4b3a-8c42-00af89a3f216",
   "metadata": {
    "execution": {
     "iopub.execute_input": "2022-01-07T19:39:48.770648Z",
     "iopub.status.busy": "2022-01-07T19:39:48.770648Z",
     "iopub.status.idle": "2022-01-07T19:39:48.785644Z",
     "shell.execute_reply": "2022-01-07T19:39:48.785644Z",
     "shell.execute_reply.started": "2022-01-07T19:39:48.770648Z"
    }
   },
   "outputs": [
    {
     "data": {
      "text/plain": [
       "race\n",
       "other    0.424\n",
       "white    0.576\n",
       "dtype: float64"
      ]
     },
     "execution_count": 34,
     "metadata": {},
     "output_type": "execute_result"
    }
   ],
   "source": [
    "(pd.crosstab(sampled_df.race, sampled_df.gender) / sampled_df.shape[0]).sum(axis=1)"
   ]
  },
  {
   "cell_type": "markdown",
   "id": "c36a1521-0440-41a9-a049-0c8e67b629e5",
   "metadata": {},
   "source": [
    "Finally, we can compute the average weight by gender and race. "
   ]
  },
  {
   "cell_type": "code",
   "execution_count": 35,
   "id": "3cf50303-5080-4edf-b28f-aa9023cdc51c",
   "metadata": {
    "execution": {
     "iopub.execute_input": "2022-01-07T19:39:48.786647Z",
     "iopub.status.busy": "2022-01-07T19:39:48.786647Z",
     "iopub.status.idle": "2022-01-07T19:39:48.801646Z",
     "shell.execute_reply": "2022-01-07T19:39:48.801646Z",
     "shell.execute_reply.started": "2022-01-07T19:39:48.786647Z"
    },
    "tags": []
   },
   "outputs": [
    {
     "data": {
      "text/html": [
       "<div>\n",
       "<style scoped>\n",
       "    .dataframe tbody tr th:only-of-type {\n",
       "        vertical-align: middle;\n",
       "    }\n",
       "\n",
       "    .dataframe tbody tr th {\n",
       "        vertical-align: top;\n",
       "    }\n",
       "\n",
       "    .dataframe thead th {\n",
       "        text-align: right;\n",
       "    }\n",
       "</style>\n",
       "<table border=\"1\" class=\"dataframe\">\n",
       "  <thead>\n",
       "    <tr style=\"text-align: right;\">\n",
       "      <th></th>\n",
       "      <th></th>\n",
       "      <th>weight</th>\n",
       "    </tr>\n",
       "    <tr>\n",
       "      <th>race</th>\n",
       "      <th>gender</th>\n",
       "      <th></th>\n",
       "    </tr>\n",
       "  </thead>\n",
       "  <tbody>\n",
       "    <tr>\n",
       "      <th rowspan=\"2\" valign=\"top\">other</th>\n",
       "      <th>female</th>\n",
       "      <td>129.969962</td>\n",
       "    </tr>\n",
       "    <tr>\n",
       "      <th>male</th>\n",
       "      <td>159.863323</td>\n",
       "    </tr>\n",
       "    <tr>\n",
       "      <th rowspan=\"2\" valign=\"top\">white</th>\n",
       "      <th>female</th>\n",
       "      <td>125.064400</td>\n",
       "    </tr>\n",
       "    <tr>\n",
       "      <th>male</th>\n",
       "      <td>150.371116</td>\n",
       "    </tr>\n",
       "  </tbody>\n",
       "</table>\n",
       "</div>"
      ],
      "text/plain": [
       "                  weight\n",
       "race  gender            \n",
       "other female  129.969962\n",
       "      male    159.863323\n",
       "white female  125.064400\n",
       "      male    150.371116"
      ]
     },
     "execution_count": 35,
     "metadata": {},
     "output_type": "execute_result"
    }
   ],
   "source": [
    "sampled_df.groupby(['race', 'gender']).agg('mean')"
   ]
  }
 ],
 "metadata": {
  "kernelspec": {
   "display_name": "Python 3",
   "language": "python",
   "name": "python3"
  },
  "language_info": {
   "codemirror_mode": {
    "name": "ipython",
    "version": 3
   },
   "file_extension": ".py",
   "mimetype": "text/x-python",
   "name": "python",
   "nbconvert_exporter": "python",
   "pygments_lexer": "ipython3",
   "version": "3.8.5"
  },
  "widgets": {
   "application/vnd.jupyter.widget-state+json": {
    "state": {},
    "version_major": 2,
    "version_minor": 0
   }
  }
 },
 "nbformat": 4,
 "nbformat_minor": 5
}
