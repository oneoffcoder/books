{
 "cells": [
  {
   "cell_type": "markdown",
   "id": "38fab882-2a93-4153-b410-3ccb5f217bf1",
   "metadata": {},
   "source": [
    "# Iterative Proportional Fitting\n",
    "\n",
    "Iterative Proportional Fitting `IPF` is a technique to find a matrix $X$ that is closest to another matrix $Z$ subject to the constraint that the row and column marginals of $X$ be (nearly) identical to a target matrix $Y$. One way to cast the problem is as follows.\n",
    "\n",
    "$X = PZQ$\n",
    "\n",
    "Here, $P$ and $Q$ are diagonal matrices transforming $Z$ into $X$ such that the row and column marginals of $X$ are like $Y$. IPF goes by a lot of different names depending on the field.\n",
    "\n",
    "- `biproportional fitting` in statistics\n",
    "- `RAS algorithm` in economics\n",
    "- `raking` in survey statistics\n",
    "- `matrix scaling` in computer science\n",
    "\n",
    "In survey statistics, IPF may be used to weight data (or observations) and then apply weighted sampling (using these weights) so that the resulting sampled data reflects one with the desired proportions. For example, the percentage of `White` people in the US is 58% and the percentage of `Males` is 49%. Let's say we did a survey and the percentage of `White` people in our data was 47% and the percentage of `Males` was 60%. Now, we want to make a population inference based on our sample, but, we cannot do so on the raw sample since the sample percentages do not match with the population ones. We can use IPF to determine the weights of each observation, and then do weighted sampling (with replacement) to get our data to reflect the population percentages. \n",
    "\n",
    "Let's take a look at how IPF works. There are two well known algorithms.\n",
    "\n",
    "- classical IPF\n",
    "- factor estimation"
   ]
  },
  {
   "cell_type": "markdown",
   "id": "7a9824d8-2505-44a9-8665-e99feefd2bbf",
   "metadata": {},
   "source": [
    "## Data\n",
    "\n",
    "This data is taken from [Wikipedia](https://en.wikipedia.org/wiki/Iterative_proportional_fitting#Example).\n",
    "\n",
    "- $X$ is a contingency matrix of counts for 2 dimensions\n",
    "- $u$ is the target row marginals\n",
    "- $v$ is the target column marginals"
   ]
  },
  {
   "cell_type": "code",
   "execution_count": 1,
   "id": "4469a76a-ce97-4b17-9812-6cf33eaa989d",
   "metadata": {
    "execution": {
     "iopub.execute_input": "2022-01-06T21:05:47.178234Z",
     "iopub.status.busy": "2022-01-06T21:05:47.178234Z",
     "iopub.status.idle": "2022-01-06T21:05:47.270235Z",
     "shell.execute_reply": "2022-01-06T21:05:47.270235Z",
     "shell.execute_reply.started": "2022-01-06T21:05:47.178234Z"
    },
    "tags": []
   },
   "outputs": [],
   "source": [
    "import numpy as np\n",
    "\n",
    "X = np.array([\n",
    "    [40, 30, 20, 10],\n",
    "    [35, 50, 100, 75],\n",
    "    [30, 80, 70, 120],\n",
    "    [20, 30, 40, 50]\n",
    "])\n",
    "\n",
    "u = np.array([150, 300, 400, 150]) # row target\n",
    "v = np.array([200, 300, 400, 100]) # col target"
   ]
  },
  {
   "cell_type": "markdown",
   "id": "d30d4bac-a370-49fd-a760-ea965c1d30e6",
   "metadata": {},
   "source": [
    "These are the observed and target row marginals."
   ]
  },
  {
   "cell_type": "code",
   "execution_count": 17,
   "id": "c1ca60a8-0491-4eb4-9379-5b188a82107d",
   "metadata": {
    "execution": {
     "iopub.execute_input": "2022-01-06T23:06:02.659130Z",
     "iopub.status.busy": "2022-01-06T23:06:02.659130Z",
     "iopub.status.idle": "2022-01-06T23:06:02.662131Z",
     "shell.execute_reply": "2022-01-06T23:06:02.662131Z",
     "shell.execute_reply.started": "2022-01-06T23:06:02.659130Z"
    },
    "tags": []
   },
   "outputs": [
    {
     "name": "stdout",
     "output_type": "stream",
     "text": [
      "observed: [100 260 300 140]\n",
      "target: [150 300 400 150]\n"
     ]
    }
   ],
   "source": [
    "print(f'observed: {X.sum(axis=1)}')\n",
    "print(f'target: {u}')"
   ]
  },
  {
   "cell_type": "markdown",
   "id": "7ea895e0-f53d-4193-a26c-0114e0bf8695",
   "metadata": {},
   "source": [
    "These are the observed and target column marginals."
   ]
  },
  {
   "cell_type": "code",
   "execution_count": 18,
   "id": "cfb5d2db-dec1-45af-8840-b3a86b453d95",
   "metadata": {
    "execution": {
     "iopub.execute_input": "2022-01-06T23:06:21.596195Z",
     "iopub.status.busy": "2022-01-06T23:06:21.595196Z",
     "iopub.status.idle": "2022-01-06T23:06:21.609196Z",
     "shell.execute_reply": "2022-01-06T23:06:21.609196Z",
     "shell.execute_reply.started": "2022-01-06T23:06:21.596195Z"
    },
    "tags": []
   },
   "outputs": [
    {
     "name": "stdout",
     "output_type": "stream",
     "text": [
      "observed: [125 190 230 255]\n",
      "target: [200 300 400 100]\n"
     ]
    }
   ],
   "source": [
    "print(f'observed: {X.sum(axis=0)}')\n",
    "print(f'target: {v}')"
   ]
  },
  {
   "cell_type": "markdown",
   "id": "b966efe4-8649-426c-900e-55740f37ca3f",
   "metadata": {},
   "source": [
    "## Classical IPF algorithm\n",
    "\n",
    "The classifical IPF algorithm alternates between adjusting the elements to satisfy the target row marginals and then the target column marginals. Initially,\n",
    "\n",
    "$m_{ij}^0 = x_{ij}$\n",
    "\n",
    "Meaning, $M$ is set to $X$ at the start. Then, we adjust $m_{ij}$ to satisfy the target row marginals. We are essentially do weighted normalization.\n",
    "\n",
    "$m_{ij}^1 = \\dfrac{m_{ij}^0 u_i}{\\sum_J m_{ij}^0}$\n",
    "\n",
    "Next, we adjust $m_{ij}$ to satisfy the target column marginals.\n",
    "\n",
    "$m_{ij}^2 = \\dfrac{m_{ij}^1 v_i}{\\sum_I m_{ij}^1}$\n",
    "\n",
    "Then $m_{ij}^0$ is set to $m_{ij}^2$ and we repeat the procedure until the marginals of $M$ are (nearly) identical to the target marginals $u$ and $v$. In the running example, after 6 iterations, the margins of $M$ are nearly indentical to the target ones (we are using the `L2-norm` to compute the distance)."
   ]
  },
  {
   "cell_type": "code",
   "execution_count": 2,
   "id": "bf968c8f-0c7e-4344-b618-65c235b219d9",
   "metadata": {
    "execution": {
     "iopub.execute_input": "2022-01-06T21:05:47.271235Z",
     "iopub.status.busy": "2022-01-06T21:05:47.271235Z",
     "iopub.status.idle": "2022-01-06T21:05:47.286233Z",
     "shell.execute_reply": "2022-01-06T21:05:47.286233Z",
     "shell.execute_reply.started": "2022-01-06T21:05:47.271235Z"
    },
    "tags": []
   },
   "outputs": [
    {
     "name": "stdout",
     "output_type": "stream",
     "text": [
      "d_u = 46.44167, d_v = 0.00000\n",
      "d_u = 2.43362, d_v = 0.00000\n",
      "d_u = 0.15757, d_v = 0.00000\n",
      "d_u = 0.01076, d_v = 0.00000\n",
      "d_u = 0.00074, d_v = 0.00000\n",
      "d_u = 0.00005, d_v = 0.00000\n"
     ]
    }
   ],
   "source": [
    "def ipf_update(M, u, v):\n",
    "    r_sums = M.sum(axis=1)\n",
    "    N = np.array([[M[r,c] * u[r] / r_sums[r] for c in range(M.shape[1])] \n",
    "                  for r in range(M.shape[0])])\n",
    "\n",
    "    c_sums = N.sum(axis=0)\n",
    "    O = np.array([[N[r, c] * v[c] / c_sums[c] for c in range(N.shape[1])] \n",
    "                  for r in range(N.shape[0])])\n",
    "    \n",
    "    d_u = np.linalg.norm(u - O.sum(axis=1), 2)\n",
    "    d_v = np.linalg.norm(v - O.sum(axis=0), 2)\n",
    "    \n",
    "    return O, d_u, d_v\n",
    "\n",
    "M = X.copy()\n",
    "\n",
    "for _ in range(10):\n",
    "    M, d_u, d_v = ipf_update(M, u, v)\n",
    "    print(f'd_u = {d_u:.5f}, d_v = {d_v:.5f}')\n",
    "    if d_u <= 0.0001 and d_v <= 0.0001:\n",
    "        break"
   ]
  },
  {
   "cell_type": "markdown",
   "id": "9f5e23b0-2e98-41ab-bf5b-e9849de5fa04",
   "metadata": {},
   "source": [
    "$M$ ends up looking like the following."
   ]
  },
  {
   "cell_type": "code",
   "execution_count": 19,
   "id": "6b85ff7e-3f1c-4090-b92d-c575ad87b48f",
   "metadata": {
    "execution": {
     "iopub.execute_input": "2022-01-06T23:28:09.712594Z",
     "iopub.status.busy": "2022-01-06T23:28:09.712594Z",
     "iopub.status.idle": "2022-01-06T23:28:09.720594Z",
     "shell.execute_reply": "2022-01-06T23:28:09.720594Z",
     "shell.execute_reply.started": "2022-01-06T23:28:09.712594Z"
    },
    "tags": []
   },
   "outputs": [
    {
     "data": {
      "text/plain": [
       "array([[ 64.55852549,  46.23247384,  35.38430991,   3.82473358],\n",
       "       [ 49.96791318,  68.15934981, 156.4985403 ,  25.37417955],\n",
       "       [ 56.72193658, 144.42821667, 145.0824759 ,  53.76734831],\n",
       "       [ 28.75162474,  41.17995969,  63.03467389,  17.03373857]])"
      ]
     },
     "execution_count": 19,
     "metadata": {},
     "output_type": "execute_result"
    }
   ],
   "source": [
    "M"
   ]
  },
  {
   "cell_type": "markdown",
   "id": "1d2594a3-8900-4325-9313-46093e03b240",
   "metadata": {},
   "source": [
    "Here are the column and row marginals of $M$."
   ]
  },
  {
   "cell_type": "code",
   "execution_count": 4,
   "id": "715dd2f5-fc0e-4cc6-9e69-0c1c0ea45b46",
   "metadata": {
    "execution": {
     "iopub.execute_input": "2022-01-06T21:05:47.302234Z",
     "iopub.status.busy": "2022-01-06T21:05:47.302234Z",
     "iopub.status.idle": "2022-01-06T21:05:47.316233Z",
     "shell.execute_reply": "2022-01-06T21:05:47.316233Z",
     "shell.execute_reply.started": "2022-01-06T21:05:47.302234Z"
    },
    "tags": []
   },
   "outputs": [
    {
     "data": {
      "text/plain": [
       "array([200., 300., 400., 100.])"
      ]
     },
     "execution_count": 4,
     "metadata": {},
     "output_type": "execute_result"
    }
   ],
   "source": [
    "M.sum(axis=0)"
   ]
  },
  {
   "cell_type": "code",
   "execution_count": 5,
   "id": "7f268e17-1b8b-4fea-9a64-27607e3bf751",
   "metadata": {
    "execution": {
     "iopub.execute_input": "2022-01-06T21:05:47.317234Z",
     "iopub.status.busy": "2022-01-06T21:05:47.317234Z",
     "iopub.status.idle": "2022-01-06T21:05:47.332235Z",
     "shell.execute_reply": "2022-01-06T21:05:47.332235Z",
     "shell.execute_reply.started": "2022-01-06T21:05:47.317234Z"
    },
    "tags": []
   },
   "outputs": [
    {
     "data": {
      "text/plain": [
       "array([150.00004282, 299.99998284, 399.99997746, 149.99999688])"
      ]
     },
     "execution_count": 5,
     "metadata": {},
     "output_type": "execute_result"
    }
   ],
   "source": [
    "M.sum(axis=1)"
   ]
  },
  {
   "cell_type": "markdown",
   "id": "70ca7371-ab84-4ef5-ac78-ded0057a44a1",
   "metadata": {},
   "source": [
    "## Factor estimation\n",
    "\n",
    "The factor estimation algorithm is more efficient than the IPF algorithm. It does not need to compute $M$ directly, but we do so here as a matter of `tracing` the intermediary outputs. In factor estimation, we have \n",
    "\n",
    "- $a$ as the row factor (size $I$), and\n",
    "- $b$ as the column factor (size $J$).\n",
    "\n",
    "The idea is to find $a$ and $b$ such that\n",
    "\n",
    "$m_{ij} = a_i b_j x_{ij}$\n",
    "\n",
    "and the resulting matrix $M$ will have its margins (nearly) identical to the target row $u$ and column $v$ marginals. The algorithm starts out with initializing all the elements of $b$ to 1. Then we iterate between estimating $a$ and $b$ until convergence.\n",
    "\n",
    "- $a_i^n = \\dfrac{u_i}{\\sum_J x_{ij} b_j^{n-1}}$\n",
    "- $b_j^n = \\dfrac{v_j}{\\sum_I x_{ij} a_i^n}$"
   ]
  },
  {
   "cell_type": "code",
   "execution_count": 6,
   "id": "322815da-cdf7-47c8-859c-834fbd05ea6c",
   "metadata": {
    "execution": {
     "iopub.execute_input": "2022-01-06T21:05:47.333233Z",
     "iopub.status.busy": "2022-01-06T21:05:47.333233Z",
     "iopub.status.idle": "2022-01-06T21:05:47.347234Z",
     "shell.execute_reply": "2022-01-06T21:05:47.347234Z",
     "shell.execute_reply.started": "2022-01-06T21:05:47.333233Z"
    },
    "tags": []
   },
   "outputs": [
    {
     "name": "stdout",
     "output_type": "stream",
     "text": [
      "d_u = 46.44167, d_v = 0.00000\n",
      "d_u = 2.43362, d_v = 0.00000\n",
      "d_u = 0.15757, d_v = 0.00000\n",
      "d_u = 0.01076, d_v = 0.00000\n",
      "d_u = 0.00074, d_v = 0.00000\n",
      "d_u = 0.00005, d_v = 0.00000\n"
     ]
    }
   ],
   "source": [
    "def factor_update(X, u, v, b):\n",
    "    a = [u[i] / sum([X[i, j] * b[j] for j in range(X.shape[1])]) for i in range(X.shape[0])]\n",
    "    b = [v[j] / sum([X[i, j] * a[i] for i in range(X.shape[0])]) for j in range(X.shape[1])]\n",
    "    \n",
    "    M = np.array([[X[i, j] * a[i] * b[j] for j in range(X.shape[1])] for i in range(X.shape[0])])\n",
    "    \n",
    "    d_u = np.linalg.norm(u - M.sum(axis=1), 2)\n",
    "    d_v = np.linalg.norm(v - M.sum(axis=0), 2)\n",
    "    \n",
    "    return M, a, b, d_u, d_v\n",
    "\n",
    "b = np.ones(X.shape[1])\n",
    "for _ in range(10):\n",
    "    M, a, b, d_u, d_v = factor_update(X, u, v, b)\n",
    "    print(f'd_u = {d_u:.5f}, d_v = {d_v:.5f}')\n",
    "    if d_u <= 0.0001 and d_v <= 0.0001:\n",
    "        break"
   ]
  },
  {
   "cell_type": "markdown",
   "id": "b2b6da03-7e2e-4639-9c2d-65fdcef02bd8",
   "metadata": {},
   "source": [
    "The row and column factors are as follows."
   ]
  },
  {
   "cell_type": "code",
   "execution_count": 7,
   "id": "5c36bba3-6250-4033-b70f-3486b0d84df8",
   "metadata": {
    "execution": {
     "iopub.execute_input": "2022-01-06T21:05:47.349235Z",
     "iopub.status.busy": "2022-01-06T21:05:47.349235Z",
     "iopub.status.idle": "2022-01-06T21:05:47.362235Z",
     "shell.execute_reply": "2022-01-06T21:05:47.362235Z",
     "shell.execute_reply.started": "2022-01-06T21:05:47.349235Z"
    },
    "tags": []
   },
   "outputs": [
    {
     "data": {
      "text/plain": [
       "[1.251391838473094, 1.106936925262328, 1.4659849174901225, 1.1146335288885565]"
      ]
     },
     "execution_count": 7,
     "metadata": {},
     "output_type": "execute_result"
    }
   ],
   "source": [
    "a"
   ]
  },
  {
   "cell_type": "code",
   "execution_count": 8,
   "id": "77b5d4e2-1c9e-4265-afbc-62201529489a",
   "metadata": {
    "execution": {
     "iopub.execute_input": "2022-01-06T21:05:47.363234Z",
     "iopub.status.busy": "2022-01-06T21:05:47.363234Z",
     "iopub.status.idle": "2022-01-06T21:05:47.377234Z",
     "shell.execute_reply": "2022-01-06T21:05:47.377234Z",
     "shell.execute_reply.started": "2022-01-06T21:05:47.363234Z"
    },
    "tags": []
   },
   "outputs": [
    {
     "data": {
      "text/plain": [
       "[1.2897344282495622,\n",
       " 1.231494735600841,\n",
       " 1.4137981734141623,\n",
       " 0.30563836678112183]"
      ]
     },
     "execution_count": 8,
     "metadata": {},
     "output_type": "execute_result"
    }
   ],
   "source": [
    "b"
   ]
  },
  {
   "cell_type": "markdown",
   "id": "add03fbc-1c88-4475-8f97-49e98a467189",
   "metadata": {},
   "source": [
    "$M$ may be reproduced from $X$, $a$ and $b$."
   ]
  },
  {
   "cell_type": "code",
   "execution_count": 9,
   "id": "08f207da-e91b-46bc-b27b-16730e8ba329",
   "metadata": {
    "execution": {
     "iopub.execute_input": "2022-01-06T21:05:47.378757Z",
     "iopub.status.busy": "2022-01-06T21:05:47.378235Z",
     "iopub.status.idle": "2022-01-06T21:05:47.392755Z",
     "shell.execute_reply": "2022-01-06T21:05:47.392755Z",
     "shell.execute_reply.started": "2022-01-06T21:05:47.378757Z"
    },
    "tags": []
   },
   "outputs": [
    {
     "data": {
      "text/plain": [
       "array([[ 64.55852549,  46.23247384,  35.38430991,   3.82473358],\n",
       "       [ 49.96791318,  68.15934981, 156.4985403 ,  25.37417955],\n",
       "       [ 56.72193658, 144.42821667, 145.0824759 ,  53.76734831],\n",
       "       [ 28.75162474,  41.17995969,  63.03467389,  17.03373857]])"
      ]
     },
     "execution_count": 9,
     "metadata": {},
     "output_type": "execute_result"
    }
   ],
   "source": [
    "M"
   ]
  },
  {
   "cell_type": "markdown",
   "id": "645436d0-c710-4648-8afc-dda6ae75532e",
   "metadata": {},
   "source": [
    "As you can see, the row and column marginals are nearly identical to the target ones."
   ]
  },
  {
   "cell_type": "code",
   "execution_count": 10,
   "id": "fe21c8bd-0630-413c-bcdd-94fcd3d640db",
   "metadata": {
    "execution": {
     "iopub.execute_input": "2022-01-06T21:06:04.562772Z",
     "iopub.status.busy": "2022-01-06T21:06:04.562772Z",
     "iopub.status.idle": "2022-01-06T21:06:04.580771Z",
     "shell.execute_reply": "2022-01-06T21:06:04.580771Z",
     "shell.execute_reply.started": "2022-01-06T21:06:04.562772Z"
    }
   },
   "outputs": [
    {
     "data": {
      "text/plain": [
       "array([200., 300., 400., 100.])"
      ]
     },
     "execution_count": 10,
     "metadata": {},
     "output_type": "execute_result"
    }
   ],
   "source": [
    "M.sum(axis=0)"
   ]
  },
  {
   "cell_type": "code",
   "execution_count": 11,
   "id": "a5c0817e-8572-4b33-9ceb-5d04f2ece648",
   "metadata": {
    "execution": {
     "iopub.execute_input": "2022-01-06T21:06:06.906633Z",
     "iopub.status.busy": "2022-01-06T21:06:06.906633Z",
     "iopub.status.idle": "2022-01-06T21:06:06.911632Z",
     "shell.execute_reply": "2022-01-06T21:06:06.911632Z",
     "shell.execute_reply.started": "2022-01-06T21:06:06.906633Z"
    }
   },
   "outputs": [
    {
     "data": {
      "text/plain": [
       "array([150.00004282, 299.99998284, 399.99997746, 149.99999688])"
      ]
     },
     "execution_count": 11,
     "metadata": {},
     "output_type": "execute_result"
    }
   ],
   "source": [
    "M.sum(axis=1)"
   ]
  },
  {
   "cell_type": "markdown",
   "id": "3ad4d702-63ca-458d-be6c-a20a482e9cca",
   "metadata": {},
   "source": [
    "## Weighting\n",
    "\n",
    "After we estimate $M$, we can normalize the values of all the elements so that they sum to 1.0. The normalized elements of $M$ are the weights corresponding to the `i` and `j` values. "
   ]
  },
  {
   "cell_type": "code",
   "execution_count": 20,
   "id": "8ee5e8ea-2e70-49e3-8a89-be87e1923b1d",
   "metadata": {
    "execution": {
     "iopub.execute_input": "2022-01-06T23:51:13.241665Z",
     "iopub.status.busy": "2022-01-06T23:51:13.241665Z",
     "iopub.status.idle": "2022-01-06T23:51:13.250663Z",
     "shell.execute_reply": "2022-01-06T23:51:13.250663Z",
     "shell.execute_reply.started": "2022-01-06T23:51:13.241665Z"
    },
    "tags": []
   },
   "outputs": [
    {
     "data": {
      "text/plain": [
       "array([[0.06455853, 0.04623247, 0.03538431, 0.00382473],\n",
       "       [0.04996791, 0.06815935, 0.15649854, 0.02537418],\n",
       "       [0.05672194, 0.14442822, 0.14508248, 0.05376735],\n",
       "       [0.02875162, 0.04117996, 0.06303467, 0.01703374]])"
      ]
     },
     "execution_count": 20,
     "metadata": {},
     "output_type": "execute_result"
    }
   ],
   "source": [
    "M / M.sum()"
   ]
  },
  {
   "cell_type": "code",
   "execution_count": 24,
   "id": "6334bc62-5cce-47be-aec2-f652b48c1fee",
   "metadata": {
    "execution": {
     "iopub.execute_input": "2022-01-06T23:58:39.589385Z",
     "iopub.status.busy": "2022-01-06T23:58:39.589385Z",
     "iopub.status.idle": "2022-01-06T23:58:39.608384Z",
     "shell.execute_reply": "2022-01-06T23:58:39.608384Z",
     "shell.execute_reply.started": "2022-01-06T23:58:39.589385Z"
    },
    "tags": []
   },
   "outputs": [
    {
     "data": {
      "text/html": [
       "<div>\n",
       "<style scoped>\n",
       "    .dataframe tbody tr th:only-of-type {\n",
       "        vertical-align: middle;\n",
       "    }\n",
       "\n",
       "    .dataframe tbody tr th {\n",
       "        vertical-align: top;\n",
       "    }\n",
       "\n",
       "    .dataframe thead th {\n",
       "        text-align: right;\n",
       "    }\n",
       "</style>\n",
       "<table border=\"1\" class=\"dataframe\">\n",
       "  <thead>\n",
       "    <tr style=\"text-align: right;\">\n",
       "      <th></th>\n",
       "      <th>race</th>\n",
       "      <th>gender</th>\n",
       "      <th>weight</th>\n",
       "    </tr>\n",
       "  </thead>\n",
       "  <tbody>\n",
       "    <tr>\n",
       "      <th>0</th>\n",
       "      <td>white</td>\n",
       "      <td>male</td>\n",
       "      <td>148.726671</td>\n",
       "    </tr>\n",
       "    <tr>\n",
       "      <th>1</th>\n",
       "      <td>white</td>\n",
       "      <td>male</td>\n",
       "      <td>149.831496</td>\n",
       "    </tr>\n",
       "    <tr>\n",
       "      <th>2</th>\n",
       "      <td>white</td>\n",
       "      <td>male</td>\n",
       "      <td>150.999142</td>\n",
       "    </tr>\n",
       "    <tr>\n",
       "      <th>3</th>\n",
       "      <td>white</td>\n",
       "      <td>male</td>\n",
       "      <td>152.625302</td>\n",
       "    </tr>\n",
       "    <tr>\n",
       "      <th>4</th>\n",
       "      <td>white</td>\n",
       "      <td>male</td>\n",
       "      <td>148.188388</td>\n",
       "    </tr>\n",
       "  </tbody>\n",
       "</table>\n",
       "</div>"
      ],
      "text/plain": [
       "    race gender      weight\n",
       "0  white   male  148.726671\n",
       "1  white   male  149.831496\n",
       "2  white   male  150.999142\n",
       "3  white   male  152.625302\n",
       "4  white   male  148.188388"
      ]
     },
     "execution_count": 24,
     "metadata": {},
     "output_type": "execute_result"
    }
   ],
   "source": [
    "import pandas as pd\n",
    "\n",
    "wm = np.random.normal(150, 1.5, 100)\n",
    "om = np.random.normal(160, 1.3, 80)\n",
    "wf = np.random.normal(125, 1.1, 200)\n",
    "of = np.random.normal(130, 1.1, 150)\n",
    "\n",
    "data = [{'race': 'white', 'gender': 'male', 'weight': w} for w in wm]\n",
    "data += [{'race': 'other', 'gender': 'male', 'weight': w} for w in om]\n",
    "data += [{'race': 'white', 'gender': 'female', 'weight': w} for w in wf]\n",
    "data += [{'race': 'other', 'gender': 'female', 'weight': w} for w in of]\n",
    "\n",
    "df = pd.DataFrame(data)\n",
    "df.head()"
   ]
  },
  {
   "cell_type": "code",
   "execution_count": 27,
   "id": "c65b58e5-21ba-4a49-8f25-637e5e6605d7",
   "metadata": {
    "execution": {
     "iopub.execute_input": "2022-01-07T00:08:04.322049Z",
     "iopub.status.busy": "2022-01-07T00:08:04.321046Z",
     "iopub.status.idle": "2022-01-07T00:08:04.361045Z",
     "shell.execute_reply": "2022-01-07T00:08:04.361045Z",
     "shell.execute_reply.started": "2022-01-07T00:08:04.322049Z"
    },
    "tags": []
   },
   "outputs": [
    {
     "data": {
      "text/html": [
       "<div>\n",
       "<style scoped>\n",
       "    .dataframe tbody tr th:only-of-type {\n",
       "        vertical-align: middle;\n",
       "    }\n",
       "\n",
       "    .dataframe tbody tr th {\n",
       "        vertical-align: top;\n",
       "    }\n",
       "\n",
       "    .dataframe thead th {\n",
       "        text-align: right;\n",
       "    }\n",
       "</style>\n",
       "<table border=\"1\" class=\"dataframe\">\n",
       "  <thead>\n",
       "    <tr style=\"text-align: right;\">\n",
       "      <th>gender</th>\n",
       "      <th>female</th>\n",
       "      <th>male</th>\n",
       "    </tr>\n",
       "    <tr>\n",
       "      <th>race</th>\n",
       "      <th></th>\n",
       "      <th></th>\n",
       "    </tr>\n",
       "  </thead>\n",
       "  <tbody>\n",
       "    <tr>\n",
       "      <th>other</th>\n",
       "      <td>150</td>\n",
       "      <td>80</td>\n",
       "    </tr>\n",
       "    <tr>\n",
       "      <th>white</th>\n",
       "      <td>200</td>\n",
       "      <td>100</td>\n",
       "    </tr>\n",
       "  </tbody>\n",
       "</table>\n",
       "</div>"
      ],
      "text/plain": [
       "gender  female  male\n",
       "race                \n",
       "other      150    80\n",
       "white      200   100"
      ]
     },
     "execution_count": 27,
     "metadata": {},
     "output_type": "execute_result"
    }
   ],
   "source": [
    "pd.crosstab(df.race, df.gender)"
   ]
  },
  {
   "cell_type": "code",
   "execution_count": 28,
   "id": "8c4f5fef-7188-4056-a0c3-ab8a22388890",
   "metadata": {
    "execution": {
     "iopub.execute_input": "2022-01-07T00:08:46.255206Z",
     "iopub.status.busy": "2022-01-07T00:08:46.255206Z",
     "iopub.status.idle": "2022-01-07T00:08:46.277206Z",
     "shell.execute_reply": "2022-01-07T00:08:46.277206Z",
     "shell.execute_reply.started": "2022-01-07T00:08:46.255206Z"
    }
   },
   "outputs": [
    {
     "data": {
      "text/html": [
       "<div>\n",
       "<style scoped>\n",
       "    .dataframe tbody tr th:only-of-type {\n",
       "        vertical-align: middle;\n",
       "    }\n",
       "\n",
       "    .dataframe tbody tr th {\n",
       "        vertical-align: top;\n",
       "    }\n",
       "\n",
       "    .dataframe thead th {\n",
       "        text-align: right;\n",
       "    }\n",
       "</style>\n",
       "<table border=\"1\" class=\"dataframe\">\n",
       "  <thead>\n",
       "    <tr style=\"text-align: right;\">\n",
       "      <th>gender</th>\n",
       "      <th>female</th>\n",
       "      <th>male</th>\n",
       "    </tr>\n",
       "    <tr>\n",
       "      <th>race</th>\n",
       "      <th></th>\n",
       "      <th></th>\n",
       "    </tr>\n",
       "  </thead>\n",
       "  <tbody>\n",
       "    <tr>\n",
       "      <th>other</th>\n",
       "      <td>0.283019</td>\n",
       "      <td>0.150943</td>\n",
       "    </tr>\n",
       "    <tr>\n",
       "      <th>white</th>\n",
       "      <td>0.377358</td>\n",
       "      <td>0.188679</td>\n",
       "    </tr>\n",
       "  </tbody>\n",
       "</table>\n",
       "</div>"
      ],
      "text/plain": [
       "gender    female      male\n",
       "race                      \n",
       "other   0.283019  0.150943\n",
       "white   0.377358  0.188679"
      ]
     },
     "execution_count": 28,
     "metadata": {},
     "output_type": "execute_result"
    }
   ],
   "source": [
    "pd.crosstab(df.race, df.gender) / df.shape[0]"
   ]
  },
  {
   "cell_type": "code",
   "execution_count": null,
   "id": "61518f7d-910d-4ea2-afbf-95a4302c358d",
   "metadata": {},
   "outputs": [],
   "source": []
  }
 ],
 "metadata": {
  "kernelspec": {
   "display_name": "Python 3",
   "language": "python",
   "name": "python3"
  },
  "language_info": {
   "codemirror_mode": {
    "name": "ipython",
    "version": 3
   },
   "file_extension": ".py",
   "mimetype": "text/x-python",
   "name": "python",
   "nbconvert_exporter": "python",
   "pygments_lexer": "ipython3",
   "version": "3.8.5"
  },
  "widgets": {
   "application/vnd.jupyter.widget-state+json": {
    "state": {},
    "version_major": 2,
    "version_minor": 0
   }
  }
 },
 "nbformat": 4,
 "nbformat_minor": 5
}
