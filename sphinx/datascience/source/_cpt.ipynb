{
 "cells": [
  {
   "cell_type": "markdown",
   "id": "a0e2a82e-21a9-4b68-8acf-a6c4b1e7fe53",
   "metadata": {},
   "source": [
    "# Estimating Conditional Probabilities"
   ]
  },
  {
   "cell_type": "markdown",
   "id": "36718210-e99e-42f7-a784-27fd617d5e9c",
   "metadata": {},
   "source": [
    "## Binary variables"
   ]
  },
  {
   "cell_type": "code",
   "execution_count": 82,
   "id": "ce6f44da-11e6-4973-9556-c022f8ba9ef9",
   "metadata": {
    "execution": {
     "iopub.execute_input": "2023-09-13T23:11:01.025621Z",
     "iopub.status.busy": "2023-09-13T23:11:01.025621Z",
     "iopub.status.idle": "2023-09-13T23:11:01.033012Z",
     "shell.execute_reply": "2023-09-13T23:11:01.033012Z",
     "shell.execute_reply.started": "2023-09-13T23:11:01.025621Z"
    },
    "tags": []
   },
   "outputs": [
    {
     "data": {
      "text/plain": [
       "((1000, 2), (1000,))"
      ]
     },
     "execution_count": 82,
     "metadata": {},
     "output_type": "execute_result"
    }
   ],
   "source": [
    "import pandas as pd\n",
    "import numpy as np\n",
    "from scipy.stats import binom\n",
    "\n",
    "np.random.seed(37)\n",
    "\n",
    "N = 1_000\n",
    "x_0 = np.random.binomial(1, 0.1, N)\n",
    "x_1 = np.random.binomial(1, 0.5, N)\n",
    "y = binom.rvs(1, 1 / (1 + np.exp(-(0.1 + 2.3 * x_0 - 3.4 * x_1))))\n",
    "\n",
    "Xy = pd.DataFrame({\n",
    "    'x_0': x_0,\n",
    "    'x_1': x_1,\n",
    "    'y': y\n",
    "})\n",
    "\n",
    "X, y = Xy[['x_0', 'x_1']], Xy['y']\n",
    "X.shape, y.shape"
   ]
  },
  {
   "cell_type": "code",
   "execution_count": 83,
   "id": "be2fec14-d73d-4a08-a79f-dcbd7d912bc8",
   "metadata": {
    "execution": {
     "iopub.execute_input": "2023-09-13T23:11:01.327950Z",
     "iopub.status.busy": "2023-09-13T23:11:01.327950Z",
     "iopub.status.idle": "2023-09-13T23:11:01.377329Z",
     "shell.execute_reply": "2023-09-13T23:11:01.377329Z",
     "shell.execute_reply.started": "2023-09-13T23:11:01.327950Z"
    },
    "tags": []
   },
   "outputs": [],
   "source": [
    "from sklearn.linear_model import LogisticRegression\n",
    "from sklearn.ensemble import RandomForestClassifier\n",
    "\n",
    "M = {\n",
    "    'L': LogisticRegression(solver='saga', random_state=37, n_jobs=-1).fit(X, y),\n",
    "    'R': RandomForestClassifier(random_state=37, n_jobs=-1, n_estimators=20).fit(X, y)\n",
    "}"
   ]
  },
  {
   "cell_type": "code",
   "execution_count": 84,
   "id": "08da659f-47b7-4ebe-98b4-3636af64f45c",
   "metadata": {
    "execution": {
     "iopub.execute_input": "2023-09-13T23:11:01.792286Z",
     "iopub.status.busy": "2023-09-13T23:11:01.792286Z",
     "iopub.status.idle": "2023-09-13T23:11:01.798937Z",
     "shell.execute_reply": "2023-09-13T23:11:01.798937Z",
     "shell.execute_reply.started": "2023-09-13T23:11:01.792286Z"
    },
    "tags": []
   },
   "outputs": [],
   "source": [
    "def get_conditional_probs(m):\n",
    "    def p(x_0, x_1, y):\n",
    "        n = (Xy['x_0']==x_0) & (Xy['x_1']==x_1) & (Xy['y']==y)\n",
    "        d = (Xy['x_0']==x_0) & (Xy['x_1']==x_1)\n",
    "        return Xy[n].shape[0] / Xy[d].shape[0]\n",
    "    \n",
    "    m_pred = pd.DataFrame({'x_0': [0, 0, 1, 1], 'x_1': [0, 1, 0, 1]}) \\\n",
    "        .assign(\n",
    "            p=lambda d: [r for r in m.predict_proba(d)],\n",
    "            m_p_0=lambda d: d.apply(lambda r: r['p'][0], axis=1),\n",
    "            m_p_1=lambda d: d.apply(lambda r: r['p'][1], axis=1),\n",
    "            y_0=0,\n",
    "            y_1=1\n",
    "        ) \\\n",
    "        .drop(columns=['p']) \\\n",
    "        [['x_0', 'x_1', 'y_0', 'y_1', 'm_p_0', 'm_p_1']] \\\n",
    "        .set_index(['x_0', 'x_1', 'y_0', 'y_1'])\n",
    "    \n",
    "    d_pred = pd.DataFrame({\n",
    "            'x_0': [0, 0, 1, 1],\n",
    "            'x_1': [0, 1, 0, 1],\n",
    "            'y_0': [0, 0, 0, 0],\n",
    "            'y_1': [1, 1, 1, 1]\n",
    "        }) \\\n",
    "        .assign(\n",
    "            d_p_0 = lambda d: d.apply(lambda r: p(r.x_0, r.x_1, r.y_0), axis=1),\n",
    "            d_p_1 = lambda d: d.apply(lambda r: p(r.x_0, r.x_1, r.y_1), axis=1)\n",
    "        ) \\\n",
    "        .set_index(['x_0', 'x_1', 'y_0', 'y_1'])\n",
    "    \n",
    "    return m_pred.join(d_pred)[['m_p_0', 'd_p_0', 'm_p_1', 'd_p_1']]"
   ]
  },
  {
   "cell_type": "code",
   "execution_count": 85,
   "id": "09e9994f-3265-4780-8b81-af53fd6c4c2b",
   "metadata": {
    "execution": {
     "iopub.execute_input": "2023-09-13T23:11:02.481696Z",
     "iopub.status.busy": "2023-09-13T23:11:02.480696Z",
     "iopub.status.idle": "2023-09-13T23:11:02.506004Z",
     "shell.execute_reply": "2023-09-13T23:11:02.506004Z",
     "shell.execute_reply.started": "2023-09-13T23:11:02.481696Z"
    },
    "tags": []
   },
   "outputs": [
    {
     "data": {
      "text/html": [
       "<div>\n",
       "<style scoped>\n",
       "    .dataframe tbody tr th:only-of-type {\n",
       "        vertical-align: middle;\n",
       "    }\n",
       "\n",
       "    .dataframe tbody tr th {\n",
       "        vertical-align: top;\n",
       "    }\n",
       "\n",
       "    .dataframe thead th {\n",
       "        text-align: right;\n",
       "    }\n",
       "</style>\n",
       "<table border=\"1\" class=\"dataframe\">\n",
       "  <thead>\n",
       "    <tr style=\"text-align: right;\">\n",
       "      <th></th>\n",
       "      <th></th>\n",
       "      <th></th>\n",
       "      <th></th>\n",
       "      <th>m_p_0</th>\n",
       "      <th>d_p_0</th>\n",
       "      <th>m_p_1</th>\n",
       "      <th>d_p_1</th>\n",
       "    </tr>\n",
       "    <tr>\n",
       "      <th>x_0</th>\n",
       "      <th>x_1</th>\n",
       "      <th>y_0</th>\n",
       "      <th>y_1</th>\n",
       "      <th></th>\n",
       "      <th></th>\n",
       "      <th></th>\n",
       "      <th></th>\n",
       "    </tr>\n",
       "  </thead>\n",
       "  <tbody>\n",
       "    <tr>\n",
       "      <th rowspan=\"2\" valign=\"top\">0</th>\n",
       "      <th>0</th>\n",
       "      <th>0</th>\n",
       "      <th>1</th>\n",
       "      <td>0.451874</td>\n",
       "      <td>0.448661</td>\n",
       "      <td>0.548126</td>\n",
       "      <td>0.551339</td>\n",
       "    </tr>\n",
       "    <tr>\n",
       "      <th>1</th>\n",
       "      <th>0</th>\n",
       "      <th>1</th>\n",
       "      <td>0.936365</td>\n",
       "      <td>0.944700</td>\n",
       "      <td>0.063635</td>\n",
       "      <td>0.055300</td>\n",
       "    </tr>\n",
       "    <tr>\n",
       "      <th rowspan=\"2\" valign=\"top\">1</th>\n",
       "      <th>0</th>\n",
       "      <th>0</th>\n",
       "      <th>1</th>\n",
       "      <td>0.092490</td>\n",
       "      <td>0.068966</td>\n",
       "      <td>0.907510</td>\n",
       "      <td>0.931034</td>\n",
       "    </tr>\n",
       "    <tr>\n",
       "      <th>1</th>\n",
       "      <th>0</th>\n",
       "      <th>1</th>\n",
       "      <td>0.645277</td>\n",
       "      <td>0.633333</td>\n",
       "      <td>0.354723</td>\n",
       "      <td>0.366667</td>\n",
       "    </tr>\n",
       "  </tbody>\n",
       "</table>\n",
       "</div>"
      ],
      "text/plain": [
       "                    m_p_0     d_p_0     m_p_1     d_p_1\n",
       "x_0 x_1 y_0 y_1                                        \n",
       "0   0   0   1    0.451874  0.448661  0.548126  0.551339\n",
       "    1   0   1    0.936365  0.944700  0.063635  0.055300\n",
       "1   0   0   1    0.092490  0.068966  0.907510  0.931034\n",
       "    1   0   1    0.645277  0.633333  0.354723  0.366667"
      ]
     },
     "execution_count": 85,
     "metadata": {},
     "output_type": "execute_result"
    }
   ],
   "source": [
    "get_conditional_probs(M['L'])"
   ]
  },
  {
   "cell_type": "code",
   "execution_count": 86,
   "id": "3f254d99-2bcc-4482-b7fa-f70c9a16fc22",
   "metadata": {
    "execution": {
     "iopub.execute_input": "2023-09-13T23:11:03.202053Z",
     "iopub.status.busy": "2023-09-13T23:11:03.201056Z",
     "iopub.status.idle": "2023-09-13T23:11:03.232695Z",
     "shell.execute_reply": "2023-09-13T23:11:03.232695Z",
     "shell.execute_reply.started": "2023-09-13T23:11:03.202053Z"
    },
    "tags": []
   },
   "outputs": [
    {
     "data": {
      "text/html": [
       "<div>\n",
       "<style scoped>\n",
       "    .dataframe tbody tr th:only-of-type {\n",
       "        vertical-align: middle;\n",
       "    }\n",
       "\n",
       "    .dataframe tbody tr th {\n",
       "        vertical-align: top;\n",
       "    }\n",
       "\n",
       "    .dataframe thead th {\n",
       "        text-align: right;\n",
       "    }\n",
       "</style>\n",
       "<table border=\"1\" class=\"dataframe\">\n",
       "  <thead>\n",
       "    <tr style=\"text-align: right;\">\n",
       "      <th></th>\n",
       "      <th></th>\n",
       "      <th></th>\n",
       "      <th></th>\n",
       "      <th>m_p_0</th>\n",
       "      <th>d_p_0</th>\n",
       "      <th>m_p_1</th>\n",
       "      <th>d_p_1</th>\n",
       "    </tr>\n",
       "    <tr>\n",
       "      <th>x_0</th>\n",
       "      <th>x_1</th>\n",
       "      <th>y_0</th>\n",
       "      <th>y_1</th>\n",
       "      <th></th>\n",
       "      <th></th>\n",
       "      <th></th>\n",
       "      <th></th>\n",
       "    </tr>\n",
       "  </thead>\n",
       "  <tbody>\n",
       "    <tr>\n",
       "      <th rowspan=\"2\" valign=\"top\">0</th>\n",
       "      <th>0</th>\n",
       "      <th>0</th>\n",
       "      <th>1</th>\n",
       "      <td>0.443748</td>\n",
       "      <td>0.448661</td>\n",
       "      <td>0.556252</td>\n",
       "      <td>0.551339</td>\n",
       "    </tr>\n",
       "    <tr>\n",
       "      <th>1</th>\n",
       "      <th>0</th>\n",
       "      <th>1</th>\n",
       "      <td>0.943741</td>\n",
       "      <td>0.944700</td>\n",
       "      <td>0.056259</td>\n",
       "      <td>0.055300</td>\n",
       "    </tr>\n",
       "    <tr>\n",
       "      <th rowspan=\"2\" valign=\"top\">1</th>\n",
       "      <th>0</th>\n",
       "      <th>0</th>\n",
       "      <th>1</th>\n",
       "      <td>0.070870</td>\n",
       "      <td>0.068966</td>\n",
       "      <td>0.929130</td>\n",
       "      <td>0.931034</td>\n",
       "    </tr>\n",
       "    <tr>\n",
       "      <th>1</th>\n",
       "      <th>0</th>\n",
       "      <th>1</th>\n",
       "      <td>0.627743</td>\n",
       "      <td>0.633333</td>\n",
       "      <td>0.372257</td>\n",
       "      <td>0.366667</td>\n",
       "    </tr>\n",
       "  </tbody>\n",
       "</table>\n",
       "</div>"
      ],
      "text/plain": [
       "                    m_p_0     d_p_0     m_p_1     d_p_1\n",
       "x_0 x_1 y_0 y_1                                        \n",
       "0   0   0   1    0.443748  0.448661  0.556252  0.551339\n",
       "    1   0   1    0.943741  0.944700  0.056259  0.055300\n",
       "1   0   0   1    0.070870  0.068966  0.929130  0.931034\n",
       "    1   0   1    0.627743  0.633333  0.372257  0.366667"
      ]
     },
     "execution_count": 86,
     "metadata": {},
     "output_type": "execute_result"
    }
   ],
   "source": [
    "get_conditional_probs(M['R'])"
   ]
  },
  {
   "cell_type": "markdown",
   "id": "8b9fe566-a778-49b2-a4c6-ed2d873d0ebd",
   "metadata": {},
   "source": [
    "## Multinomial variables"
   ]
  },
  {
   "cell_type": "code",
   "execution_count": 88,
   "id": "6d89c458-e201-45ea-a969-3b3e41893b5a",
   "metadata": {
    "execution": {
     "iopub.execute_input": "2023-09-13T23:11:39.650955Z",
     "iopub.status.busy": "2023-09-13T23:11:39.650955Z",
     "iopub.status.idle": "2023-09-13T23:11:39.659543Z",
     "shell.execute_reply": "2023-09-13T23:11:39.659543Z",
     "shell.execute_reply.started": "2023-09-13T23:11:39.650955Z"
    },
    "tags": []
   },
   "outputs": [
    {
     "data": {
      "text/plain": [
       "((1000, 2), (1000,))"
      ]
     },
     "execution_count": 88,
     "metadata": {},
     "output_type": "execute_result"
    }
   ],
   "source": [
    "x_0 = np.random.multinomial(1, [0.25, 0.35, 0.4], N)\n",
    "x_1 = np.random.multinomial(1, [0.35, 0.4, 0.25], N)\n",
    "y = binom.rvs(1, 1 / (1 + np.exp(-(0.5 + np.hstack([x_0, x_1]).dot(np.array([-1, 0.5, 0.37, -0.4, 0.8, 0.1]))))))\n",
    "\n",
    "x_0 = pd.Series(np.argmax(x_0, axis=1)).map({0: 'a', 1: 'b', 2: 'c'})\n",
    "x_1 = pd.Series(np.argmax(x_1, axis=1)).map({0: 'a', 1: 'b', 2: 'c'})\n",
    "\n",
    "Xy = pd.DataFrame({\n",
    "    'x_0': x_0,\n",
    "    'x_1': x_1,\n",
    "    'y': y\n",
    "})\n",
    "\n",
    "X, y = Xy[['x_0', 'x_1']], Xy['y']\n",
    "X.shape, y.shape"
   ]
  },
  {
   "cell_type": "code",
   "execution_count": 91,
   "id": "a8bada55-3b1b-4f1a-8242-03a37229c4ac",
   "metadata": {
    "execution": {
     "iopub.execute_input": "2023-09-13T23:12:41.547041Z",
     "iopub.status.busy": "2023-09-13T23:12:41.547041Z",
     "iopub.status.idle": "2023-09-13T23:12:41.594484Z",
     "shell.execute_reply": "2023-09-13T23:12:41.594484Z",
     "shell.execute_reply.started": "2023-09-13T23:12:41.547041Z"
    },
    "tags": []
   },
   "outputs": [
    {
     "data": {
      "text/html": [
       "<style>#sk-container-id-1 {color: black;}#sk-container-id-1 pre{padding: 0;}#sk-container-id-1 div.sk-toggleable {background-color: white;}#sk-container-id-1 label.sk-toggleable__label {cursor: pointer;display: block;width: 100%;margin-bottom: 0;padding: 0.3em;box-sizing: border-box;text-align: center;}#sk-container-id-1 label.sk-toggleable__label-arrow:before {content: \"▸\";float: left;margin-right: 0.25em;color: #696969;}#sk-container-id-1 label.sk-toggleable__label-arrow:hover:before {color: black;}#sk-container-id-1 div.sk-estimator:hover label.sk-toggleable__label-arrow:before {color: black;}#sk-container-id-1 div.sk-toggleable__content {max-height: 0;max-width: 0;overflow: hidden;text-align: left;background-color: #f0f8ff;}#sk-container-id-1 div.sk-toggleable__content pre {margin: 0.2em;color: black;border-radius: 0.25em;background-color: #f0f8ff;}#sk-container-id-1 input.sk-toggleable__control:checked~div.sk-toggleable__content {max-height: 200px;max-width: 100%;overflow: auto;}#sk-container-id-1 input.sk-toggleable__control:checked~label.sk-toggleable__label-arrow:before {content: \"▾\";}#sk-container-id-1 div.sk-estimator input.sk-toggleable__control:checked~label.sk-toggleable__label {background-color: #d4ebff;}#sk-container-id-1 div.sk-label input.sk-toggleable__control:checked~label.sk-toggleable__label {background-color: #d4ebff;}#sk-container-id-1 input.sk-hidden--visually {border: 0;clip: rect(1px 1px 1px 1px);clip: rect(1px, 1px, 1px, 1px);height: 1px;margin: -1px;overflow: hidden;padding: 0;position: absolute;width: 1px;}#sk-container-id-1 div.sk-estimator {font-family: monospace;background-color: #f0f8ff;border: 1px dotted black;border-radius: 0.25em;box-sizing: border-box;margin-bottom: 0.5em;}#sk-container-id-1 div.sk-estimator:hover {background-color: #d4ebff;}#sk-container-id-1 div.sk-parallel-item::after {content: \"\";width: 100%;border-bottom: 1px solid gray;flex-grow: 1;}#sk-container-id-1 div.sk-label:hover label.sk-toggleable__label {background-color: #d4ebff;}#sk-container-id-1 div.sk-serial::before {content: \"\";position: absolute;border-left: 1px solid gray;box-sizing: border-box;top: 0;bottom: 0;left: 50%;z-index: 0;}#sk-container-id-1 div.sk-serial {display: flex;flex-direction: column;align-items: center;background-color: white;padding-right: 0.2em;padding-left: 0.2em;position: relative;}#sk-container-id-1 div.sk-item {position: relative;z-index: 1;}#sk-container-id-1 div.sk-parallel {display: flex;align-items: stretch;justify-content: center;background-color: white;position: relative;}#sk-container-id-1 div.sk-item::before, #sk-container-id-1 div.sk-parallel-item::before {content: \"\";position: absolute;border-left: 1px solid gray;box-sizing: border-box;top: 0;bottom: 0;left: 50%;z-index: -1;}#sk-container-id-1 div.sk-parallel-item {display: flex;flex-direction: column;z-index: 1;position: relative;background-color: white;}#sk-container-id-1 div.sk-parallel-item:first-child::after {align-self: flex-end;width: 50%;}#sk-container-id-1 div.sk-parallel-item:last-child::after {align-self: flex-start;width: 50%;}#sk-container-id-1 div.sk-parallel-item:only-child::after {width: 0;}#sk-container-id-1 div.sk-dashed-wrapped {border: 1px dashed gray;margin: 0 0.4em 0.5em 0.4em;box-sizing: border-box;padding-bottom: 0.4em;background-color: white;}#sk-container-id-1 div.sk-label label {font-family: monospace;font-weight: bold;display: inline-block;line-height: 1.2em;}#sk-container-id-1 div.sk-label-container {text-align: center;}#sk-container-id-1 div.sk-container {/* jupyter's `normalize.less` sets `[hidden] { display: none; }` but bootstrap.min.css set `[hidden] { display: none !important; }` so we also need the `!important` here to be able to override the default hidden behavior on the sphinx rendered scikit-learn.org. See: https://github.com/scikit-learn/scikit-learn/issues/21755 */display: inline-block !important;position: relative;}#sk-container-id-1 div.sk-text-repr-fallback {display: none;}</style><div id=\"sk-container-id-1\" class=\"sk-top-container\"><div class=\"sk-text-repr-fallback\"><pre>RandomForestClassifier(n_estimators=20, n_jobs=-1, random_state=37)</pre><b>In a Jupyter environment, please rerun this cell to show the HTML representation or trust the notebook. <br />On GitHub, the HTML representation is unable to render, please try loading this page with nbviewer.org.</b></div><div class=\"sk-container\" hidden><div class=\"sk-item\"><div class=\"sk-estimator sk-toggleable\"><input class=\"sk-toggleable__control sk-hidden--visually\" id=\"sk-estimator-id-1\" type=\"checkbox\" checked><label for=\"sk-estimator-id-1\" class=\"sk-toggleable__label sk-toggleable__label-arrow\">RandomForestClassifier</label><div class=\"sk-toggleable__content\"><pre>RandomForestClassifier(n_estimators=20, n_jobs=-1, random_state=37)</pre></div></div></div></div></div>"
      ],
      "text/plain": [
       "RandomForestClassifier(n_estimators=20, n_jobs=-1, random_state=37)"
      ]
     },
     "execution_count": 91,
     "metadata": {},
     "output_type": "execute_result"
    }
   ],
   "source": [
    "m = RandomForestClassifier(random_state=37, n_jobs=-1, n_estimators=20)\n",
    "m.fit(pd.get_dummies(X), y)"
   ]
  },
  {
   "cell_type": "code",
   "execution_count": 100,
   "id": "6bad17ec-3ff0-4b6e-b428-c5ff4a0979df",
   "metadata": {
    "execution": {
     "iopub.execute_input": "2023-09-13T23:17:04.207528Z",
     "iopub.status.busy": "2023-09-13T23:17:04.207528Z",
     "iopub.status.idle": "2023-09-13T23:17:04.222051Z",
     "shell.execute_reply": "2023-09-13T23:17:04.221041Z",
     "shell.execute_reply.started": "2023-09-13T23:17:04.207528Z"
    },
    "tags": []
   },
   "outputs": [],
   "source": [
    "import itertools\n",
    "\n",
    "_X = pd.DataFrame(list(itertools.product(*[[0, 1] for _ in range(6)])), columns=pd.get_dummies(X).columns)\n",
    "_y = m.predict_proba(_X)"
   ]
  },
  {
   "cell_type": "code",
   "execution_count": 112,
   "id": "20687619-b992-45f8-9998-8151a92f3558",
   "metadata": {
    "execution": {
     "iopub.execute_input": "2023-09-13T23:20:20.312945Z",
     "iopub.status.busy": "2023-09-13T23:20:20.311940Z",
     "iopub.status.idle": "2023-09-13T23:20:20.321663Z",
     "shell.execute_reply": "2023-09-13T23:20:20.321663Z",
     "shell.execute_reply.started": "2023-09-13T23:20:20.312945Z"
    },
    "tags": []
   },
   "outputs": [
    {
     "data": {
      "text/html": [
       "<div>\n",
       "<style scoped>\n",
       "    .dataframe tbody tr th:only-of-type {\n",
       "        vertical-align: middle;\n",
       "    }\n",
       "\n",
       "    .dataframe tbody tr th {\n",
       "        vertical-align: top;\n",
       "    }\n",
       "\n",
       "    .dataframe thead th {\n",
       "        text-align: right;\n",
       "    }\n",
       "</style>\n",
       "<table border=\"1\" class=\"dataframe\">\n",
       "  <thead>\n",
       "    <tr style=\"text-align: right;\">\n",
       "      <th></th>\n",
       "      <th>x_0_a</th>\n",
       "      <th>x_0_b</th>\n",
       "      <th>x_0_c</th>\n",
       "      <th>x_1_a</th>\n",
       "      <th>x_1_b</th>\n",
       "      <th>x_1_c</th>\n",
       "      <th>y_0</th>\n",
       "      <th>y_1</th>\n",
       "    </tr>\n",
       "  </thead>\n",
       "  <tbody>\n",
       "    <tr>\n",
       "      <th>0</th>\n",
       "      <td>0</td>\n",
       "      <td>0</td>\n",
       "      <td>0</td>\n",
       "      <td>0</td>\n",
       "      <td>0</td>\n",
       "      <td>0</td>\n",
       "      <td>0.431127</td>\n",
       "      <td>0.568873</td>\n",
       "    </tr>\n",
       "    <tr>\n",
       "      <th>1</th>\n",
       "      <td>0</td>\n",
       "      <td>0</td>\n",
       "      <td>0</td>\n",
       "      <td>0</td>\n",
       "      <td>0</td>\n",
       "      <td>1</td>\n",
       "      <td>0.479480</td>\n",
       "      <td>0.520520</td>\n",
       "    </tr>\n",
       "    <tr>\n",
       "      <th>2</th>\n",
       "      <td>0</td>\n",
       "      <td>0</td>\n",
       "      <td>0</td>\n",
       "      <td>0</td>\n",
       "      <td>1</td>\n",
       "      <td>0</td>\n",
       "      <td>0.288129</td>\n",
       "      <td>0.711871</td>\n",
       "    </tr>\n",
       "    <tr>\n",
       "      <th>3</th>\n",
       "      <td>0</td>\n",
       "      <td>0</td>\n",
       "      <td>0</td>\n",
       "      <td>0</td>\n",
       "      <td>1</td>\n",
       "      <td>1</td>\n",
       "      <td>0.342478</td>\n",
       "      <td>0.657522</td>\n",
       "    </tr>\n",
       "    <tr>\n",
       "      <th>4</th>\n",
       "      <td>0</td>\n",
       "      <td>0</td>\n",
       "      <td>0</td>\n",
       "      <td>1</td>\n",
       "      <td>0</td>\n",
       "      <td>0</td>\n",
       "      <td>0.480711</td>\n",
       "      <td>0.519289</td>\n",
       "    </tr>\n",
       "    <tr>\n",
       "      <th>...</th>\n",
       "      <td>...</td>\n",
       "      <td>...</td>\n",
       "      <td>...</td>\n",
       "      <td>...</td>\n",
       "      <td>...</td>\n",
       "      <td>...</td>\n",
       "      <td>...</td>\n",
       "      <td>...</td>\n",
       "    </tr>\n",
       "    <tr>\n",
       "      <th>59</th>\n",
       "      <td>1</td>\n",
       "      <td>1</td>\n",
       "      <td>1</td>\n",
       "      <td>0</td>\n",
       "      <td>1</td>\n",
       "      <td>1</td>\n",
       "      <td>0.357823</td>\n",
       "      <td>0.642177</td>\n",
       "    </tr>\n",
       "    <tr>\n",
       "      <th>60</th>\n",
       "      <td>1</td>\n",
       "      <td>1</td>\n",
       "      <td>1</td>\n",
       "      <td>1</td>\n",
       "      <td>0</td>\n",
       "      <td>0</td>\n",
       "      <td>0.474246</td>\n",
       "      <td>0.525754</td>\n",
       "    </tr>\n",
       "    <tr>\n",
       "      <th>61</th>\n",
       "      <td>1</td>\n",
       "      <td>1</td>\n",
       "      <td>1</td>\n",
       "      <td>1</td>\n",
       "      <td>0</td>\n",
       "      <td>1</td>\n",
       "      <td>0.456696</td>\n",
       "      <td>0.543304</td>\n",
       "    </tr>\n",
       "    <tr>\n",
       "      <th>62</th>\n",
       "      <td>1</td>\n",
       "      <td>1</td>\n",
       "      <td>1</td>\n",
       "      <td>1</td>\n",
       "      <td>1</td>\n",
       "      <td>0</td>\n",
       "      <td>0.343861</td>\n",
       "      <td>0.656139</td>\n",
       "    </tr>\n",
       "    <tr>\n",
       "      <th>63</th>\n",
       "      <td>1</td>\n",
       "      <td>1</td>\n",
       "      <td>1</td>\n",
       "      <td>1</td>\n",
       "      <td>1</td>\n",
       "      <td>1</td>\n",
       "      <td>0.397518</td>\n",
       "      <td>0.602482</td>\n",
       "    </tr>\n",
       "  </tbody>\n",
       "</table>\n",
       "<p>64 rows × 8 columns</p>\n",
       "</div>"
      ],
      "text/plain": [
       "    x_0_a  x_0_b  x_0_c  x_1_a  x_1_b  x_1_c       y_0       y_1\n",
       "0       0      0      0      0      0      0  0.431127  0.568873\n",
       "1       0      0      0      0      0      1  0.479480  0.520520\n",
       "2       0      0      0      0      1      0  0.288129  0.711871\n",
       "3       0      0      0      0      1      1  0.342478  0.657522\n",
       "4       0      0      0      1      0      0  0.480711  0.519289\n",
       "..    ...    ...    ...    ...    ...    ...       ...       ...\n",
       "59      1      1      1      0      1      1  0.357823  0.642177\n",
       "60      1      1      1      1      0      0  0.474246  0.525754\n",
       "61      1      1      1      1      0      1  0.456696  0.543304\n",
       "62      1      1      1      1      1      0  0.343861  0.656139\n",
       "63      1      1      1      1      1      1  0.397518  0.602482\n",
       "\n",
       "[64 rows x 8 columns]"
      ]
     },
     "execution_count": 112,
     "metadata": {},
     "output_type": "execute_result"
    }
   ],
   "source": [
    "_X.assign(y_0=_y[:,0], y_1=_y[:,1])"
   ]
  },
  {
   "cell_type": "code",
   "execution_count": 116,
   "id": "731eccf0-d08c-4e05-aec0-253f91595557",
   "metadata": {
    "execution": {
     "iopub.execute_input": "2023-09-13T23:23:19.160699Z",
     "iopub.status.busy": "2023-09-13T23:23:19.160699Z",
     "iopub.status.idle": "2023-09-13T23:23:19.165629Z",
     "shell.execute_reply": "2023-09-13T23:23:19.165629Z",
     "shell.execute_reply.started": "2023-09-13T23:23:19.160699Z"
    },
    "tags": []
   },
   "outputs": [
    {
     "data": {
      "text/plain": [
       "0    0.369\n",
       "1    0.631\n",
       "Name: y, dtype: float64"
      ]
     },
     "execution_count": 116,
     "metadata": {},
     "output_type": "execute_result"
    }
   ],
   "source": [
    "y.value_counts().sort_index()  / y.shape[0]"
   ]
  },
  {
   "cell_type": "code",
   "execution_count": null,
   "id": "e21ca380-cbe4-460f-9f77-e79d25d658c6",
   "metadata": {},
   "outputs": [],
   "source": []
  }
 ],
 "metadata": {
  "kernelspec": {
   "display_name": "Python 3 (ipykernel)",
   "language": "python",
   "name": "python3"
  },
  "language_info": {
   "codemirror_mode": {
    "name": "ipython",
    "version": 3
   },
   "file_extension": ".py",
   "mimetype": "text/x-python",
   "name": "python",
   "nbconvert_exporter": "python",
   "pygments_lexer": "ipython3",
   "version": "3.11.4"
  },
  "widgets": {
   "application/vnd.jupyter.widget-state+json": {
    "state": {},
    "version_major": 2,
    "version_minor": 0
   }
  }
 },
 "nbformat": 4,
 "nbformat_minor": 5
}
