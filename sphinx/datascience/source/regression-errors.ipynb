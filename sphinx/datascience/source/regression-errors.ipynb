{
 "cells": [
  {
   "cell_type": "markdown",
   "id": "antique-handy",
   "metadata": {},
   "source": [
    "# Regression Errors\n",
    "\n",
    "Let's talk about errors in regression problems. Typically, in regression, we have a variable $y$ for which we want to learn a model to predict. The prediction from the model is usually denoted as $\\hat{y}$. The error $e$ is thus defined as follows\n",
    "\n",
    "- $e = y - \\hat{y}$\n",
    "\n",
    "Since we have many pairs of the truth, $y$ and $\\hat{y}$, we want to average over the differences. I will denote this error as the Mean Error `ME`.\n",
    "\n",
    "- $\\mathrm{ME} = \\frac{1}{n} \\sum{y - \\hat{y}}$\n",
    "\n",
    "The problem with ME is that averaging over the differences may result in something close to zero. The reason is because the positive and negative differences will have a cancelling effect. No one really computes the error of a regression model in this way.\n",
    "\n",
    "A better way is to consider the Mean Absolute Error `MAE`, where we take the average of the absolute differences.\n",
    "\n",
    "- $\\mathrm{MAE} = \\frac{1}{n} \\sum |y - \\hat{y}|$\n",
    "\n",
    "In MAE, since there are only positive differences resulting from $|y - \\hat{y}|$, we avoid the cancelling effect of positive and negative values when averaging. Many times, data scientists want to punish models that predict values further from the truth. In that case, the Root Mean Squared Error `RMSE` is used.\n",
    "\n",
    "- $\\mathrm{RMSE} = \\sqrt{\\frac{1}{n} \\sum (y - \\hat{y})^2}$\n",
    "\n",
    "In RMSE, we do not take the difference as in ME or the absolute difference as in MAE, rather, we square the difference. The idea is that when a model's prediction is off from the truth, we should exaggerate the consequences as it reflects the reality that being further away from the truth is orders of magnitude worse. However, the squaring of the difference results in something that is no longer in the unit of $y$, as such, we take the square root to bring the scalar value back into unit with $y$.\n",
    "\n",
    "For all these measures of performance, the closer the value is to zero, the better.\n",
    "\n",
    "Let's look at the following made-up example where a hypothetical model has made some prediction $\\hat{y}$ or `y_pred` and for each of these prediction, we have the ground truth $y$ or `y_true`."
   ]
  },
  {
   "cell_type": "code",
   "execution_count": 1,
   "id": "amazing-divorce",
   "metadata": {},
   "outputs": [
    {
     "data": {
      "text/html": [
       "<div>\n",
       "<style scoped>\n",
       "    .dataframe tbody tr th:only-of-type {\n",
       "        vertical-align: middle;\n",
       "    }\n",
       "\n",
       "    .dataframe tbody tr th {\n",
       "        vertical-align: top;\n",
       "    }\n",
       "\n",
       "    .dataframe thead th {\n",
       "        text-align: right;\n",
       "    }\n",
       "</style>\n",
       "<table border=\"1\" class=\"dataframe\">\n",
       "  <thead>\n",
       "    <tr style=\"text-align: right;\">\n",
       "      <th></th>\n",
       "      <th>y_true</th>\n",
       "      <th>y_pred</th>\n",
       "    </tr>\n",
       "  </thead>\n",
       "  <tbody>\n",
       "    <tr>\n",
       "      <th>0</th>\n",
       "      <td>10</td>\n",
       "      <td>11</td>\n",
       "    </tr>\n",
       "    <tr>\n",
       "      <th>1</th>\n",
       "      <td>8</td>\n",
       "      <td>7</td>\n",
       "    </tr>\n",
       "    <tr>\n",
       "      <th>2</th>\n",
       "      <td>7</td>\n",
       "      <td>5</td>\n",
       "    </tr>\n",
       "    <tr>\n",
       "      <th>3</th>\n",
       "      <td>9</td>\n",
       "      <td>11</td>\n",
       "    </tr>\n",
       "    <tr>\n",
       "      <th>4</th>\n",
       "      <td>4</td>\n",
       "      <td>1</td>\n",
       "    </tr>\n",
       "  </tbody>\n",
       "</table>\n",
       "</div>"
      ],
      "text/plain": [
       "   y_true  y_pred\n",
       "0      10      11\n",
       "1       8       7\n",
       "2       7       5\n",
       "3       9      11\n",
       "4       4       1"
      ]
     },
     "execution_count": 1,
     "metadata": {},
     "output_type": "execute_result"
    }
   ],
   "source": [
    "import pandas as pd\n",
    "\n",
    "df = pd.DataFrame({\n",
    "    'y_true': [10, 8, 7, 9, 4],\n",
    "    'y_pred': [11, 7, 6, 15, 1]\n",
    "})\n",
    "\n",
    "df = pd.DataFrame({\n",
    "    'y_true': [10, 8, 7, 9, 4],\n",
    "    'y_pred': [11, 7, 5, 11, 1]\n",
    "})\n",
    "\n",
    "df"
   ]
  },
  {
   "cell_type": "markdown",
   "id": "armed-facial",
   "metadata": {},
   "source": [
    "We will now compute the error `E`, absolute error `AE` and squared errors `SE` for each pair."
   ]
  },
  {
   "cell_type": "code",
   "execution_count": 2,
   "id": "academic-automation",
   "metadata": {},
   "outputs": [
    {
     "data": {
      "text/html": [
       "<div>\n",
       "<style scoped>\n",
       "    .dataframe tbody tr th:only-of-type {\n",
       "        vertical-align: middle;\n",
       "    }\n",
       "\n",
       "    .dataframe tbody tr th {\n",
       "        vertical-align: top;\n",
       "    }\n",
       "\n",
       "    .dataframe thead th {\n",
       "        text-align: right;\n",
       "    }\n",
       "</style>\n",
       "<table border=\"1\" class=\"dataframe\">\n",
       "  <thead>\n",
       "    <tr style=\"text-align: right;\">\n",
       "      <th></th>\n",
       "      <th>y_true</th>\n",
       "      <th>y_pred</th>\n",
       "      <th>E</th>\n",
       "      <th>AE</th>\n",
       "      <th>SE</th>\n",
       "    </tr>\n",
       "  </thead>\n",
       "  <tbody>\n",
       "    <tr>\n",
       "      <th>0</th>\n",
       "      <td>10</td>\n",
       "      <td>11</td>\n",
       "      <td>-1</td>\n",
       "      <td>1</td>\n",
       "      <td>1.0</td>\n",
       "    </tr>\n",
       "    <tr>\n",
       "      <th>1</th>\n",
       "      <td>8</td>\n",
       "      <td>7</td>\n",
       "      <td>1</td>\n",
       "      <td>1</td>\n",
       "      <td>1.0</td>\n",
       "    </tr>\n",
       "    <tr>\n",
       "      <th>2</th>\n",
       "      <td>7</td>\n",
       "      <td>5</td>\n",
       "      <td>2</td>\n",
       "      <td>2</td>\n",
       "      <td>4.0</td>\n",
       "    </tr>\n",
       "    <tr>\n",
       "      <th>3</th>\n",
       "      <td>9</td>\n",
       "      <td>11</td>\n",
       "      <td>-2</td>\n",
       "      <td>2</td>\n",
       "      <td>4.0</td>\n",
       "    </tr>\n",
       "    <tr>\n",
       "      <th>4</th>\n",
       "      <td>4</td>\n",
       "      <td>1</td>\n",
       "      <td>3</td>\n",
       "      <td>3</td>\n",
       "      <td>9.0</td>\n",
       "    </tr>\n",
       "  </tbody>\n",
       "</table>\n",
       "</div>"
      ],
      "text/plain": [
       "   y_true  y_pred  E  AE   SE\n",
       "0      10      11 -1   1  1.0\n",
       "1       8       7  1   1  1.0\n",
       "2       7       5  2   2  4.0\n",
       "3       9      11 -2   2  4.0\n",
       "4       4       1  3   3  9.0"
      ]
     },
     "execution_count": 2,
     "metadata": {},
     "output_type": "execute_result"
    }
   ],
   "source": [
    "import numpy as np\n",
    "\n",
    "df['E'] = df.y_true - df.y_pred\n",
    "df['AE'] = np.abs(df.y_true - df.y_pred)\n",
    "df['SE'] = np.power(df.y_true - df.y_pred, 2.0)\n",
    "\n",
    "df"
   ]
  },
  {
   "cell_type": "markdown",
   "id": "leading-expansion",
   "metadata": {},
   "source": [
    "From E, AE and SE, we can compute the average or mean errors, ME, MAE, RMSE, respectively, as follows."
   ]
  },
  {
   "cell_type": "code",
   "execution_count": 3,
   "id": "alone-baker",
   "metadata": {},
   "outputs": [
    {
     "data": {
      "text/plain": [
       "ME      0.6\n",
       "MAE     1.8\n",
       "RMSE    3.8\n",
       "dtype: float64"
      ]
     },
     "execution_count": 3,
     "metadata": {},
     "output_type": "execute_result"
    }
   ],
   "source": [
    "errors = df[['E', 'AE', 'SE']].mean()\n",
    "errors.se = np.sqrt(errors.SE)\n",
    "\n",
    "errors.index = ['ME', 'MAE', 'RMSE']\n",
    "errors"
   ]
  },
  {
   "cell_type": "markdown",
   "id": "certain-albuquerque",
   "metadata": {},
   "source": [
    "As you can see, these judgement of errors are saying different things and might lead you to draw contradictory and/or conflicting conclusions. We know ME is defective, and so we will ignore interpreting ME. MAE says we can expect to be `2.4` off from the truth while RMSE says we can expect to be `9.6` off from the truth. The values `2.4` and `9.6` are very different; while `2.4` may seem to be tolerably `good`, on the other hand, `9.6` seems `bad`.\n",
    "\n",
    "One thing we can try to do is to `normalize` these values. Let's just look at RMSE. Here are some ways we can normalize RMSE.\n",
    "\n",
    "- using the `mean` of y, denoted as $\\bar{y}$\n",
    "- using the `standard deviation` of y, denoted as $\\sigma_y$\n",
    "- using the range of y, denoted as $y_{\\mathrm{max}} - y_{\\mathrm{min}}$\n",
    "- using the interquartile range of  y, denoted as $Q_y^1 - Q_y^3$\n",
    "\n",
    "The code to compute these is as follows.\n",
    "\n",
    "- $\\bar{y}$ is `me_y`\n",
    "- $\\sigma_y$ is `sd_y`\n",
    "- $y_{\\mathrm{max}} - y_{\\mathrm{min}}$ is `ra_y`\n",
    "- $Q_y^1 - Q_y^3$ is `iq_y`\n",
    "\n",
    "Since these are used to divide RMSE, let's group them under a series as `denominators`."
   ]
  },
  {
   "cell_type": "code",
   "execution_count": 4,
   "id": "automatic-disabled",
   "metadata": {},
   "outputs": [
    {
     "data": {
      "text/plain": [
       "me_y    7.600000\n",
       "sd_y    2.302173\n",
       "ra_y    6.000000\n",
       "iq_y    2.000000\n",
       "dtype: float64"
      ]
     },
     "execution_count": 4,
     "metadata": {},
     "output_type": "execute_result"
    }
   ],
   "source": [
    "from scipy.stats import iqr\n",
    "\n",
    "me_y = df.y_true.mean()\n",
    "sd_y = df.y_true.std()\n",
    "ra_y = df.y_true.max() - df.y_true.min()\n",
    "iq_y = iqr(df.y_true)\n",
    "\n",
    "denominators = pd.Series([me_y, sd_y, ra_y, iq_y], index=['me_y', 'sd_y', 'ra_y', 'iq_y'])\n",
    "denominators"
   ]
  },
  {
   "cell_type": "markdown",
   "id": "above-smart",
   "metadata": {},
   "source": [
    "Here's the results of normalizing RMSE with the mean `me`, standard deviation `sd`, range `ra` and interquartile range `iq`."
   ]
  },
  {
   "cell_type": "code",
   "execution_count": 5,
   "id": "soviet-spank",
   "metadata": {},
   "outputs": [
    {
     "data": {
      "text/html": [
       "<div>\n",
       "<style scoped>\n",
       "    .dataframe tbody tr th:only-of-type {\n",
       "        vertical-align: middle;\n",
       "    }\n",
       "\n",
       "    .dataframe tbody tr th {\n",
       "        vertical-align: top;\n",
       "    }\n",
       "\n",
       "    .dataframe thead th {\n",
       "        text-align: right;\n",
       "    }\n",
       "</style>\n",
       "<table border=\"1\" class=\"dataframe\">\n",
       "  <thead>\n",
       "    <tr style=\"text-align: right;\">\n",
       "      <th></th>\n",
       "      <th>values</th>\n",
       "    </tr>\n",
       "  </thead>\n",
       "  <tbody>\n",
       "    <tr>\n",
       "      <th>$\\mathrm{RMSE}_{\\mathrm{me}}$</th>\n",
       "      <td>0.500000</td>\n",
       "    </tr>\n",
       "    <tr>\n",
       "      <th>$\\mathrm{RMSE}_{\\mathrm{sd}}$</th>\n",
       "      <td>1.650615</td>\n",
       "    </tr>\n",
       "    <tr>\n",
       "      <th>$\\mathrm{RMSE}_{\\mathrm{ra}}$</th>\n",
       "      <td>0.633333</td>\n",
       "    </tr>\n",
       "    <tr>\n",
       "      <th>$\\mathrm{RMSE}_{\\mathrm{iq}}$</th>\n",
       "      <td>1.900000</td>\n",
       "    </tr>\n",
       "  </tbody>\n",
       "</table>\n",
       "</div>"
      ],
      "text/plain": [
       "                                 values\n",
       "$\\mathrm{RMSE}_{\\mathrm{me}}$  0.500000\n",
       "$\\mathrm{RMSE}_{\\mathrm{sd}}$  1.650615\n",
       "$\\mathrm{RMSE}_{\\mathrm{ra}}$  0.633333\n",
       "$\\mathrm{RMSE}_{\\mathrm{iq}}$  1.900000"
      ]
     },
     "execution_count": 5,
     "metadata": {},
     "output_type": "execute_result"
    }
   ],
   "source": [
    "pd.DataFrame([{\n",
    "    r'$\\mathrm{RMSE}_{\\mathrm{me}}$': errors.RMSE / denominators.me_y,\n",
    "    r'$\\mathrm{RMSE}_{\\mathrm{sd}}$': errors.RMSE / denominators.sd_y,\n",
    "    r'$\\mathrm{RMSE}_{\\mathrm{ra}}$': errors.RMSE / denominators.ra_y,\n",
    "    r'$\\mathrm{RMSE}_{\\mathrm{iq}}$': errors.RMSE / denominators.iq_y,\n",
    "}]).T.rename(columns={0: 'values'})"
   ]
  }
 ],
 "metadata": {
  "kernelspec": {
   "display_name": "Python 3 (ipykernel)",
   "language": "python",
   "name": "python3"
  },
  "language_info": {
   "codemirror_mode": {
    "name": "ipython",
    "version": 3
   },
   "file_extension": ".py",
   "mimetype": "text/x-python",
   "name": "python",
   "nbconvert_exporter": "python",
   "pygments_lexer": "ipython3",
   "version": "3.9.16"
  },
  "widgets": {
   "application/vnd.jupyter.widget-state+json": {
    "state": {},
    "version_major": 2,
    "version_minor": 0
   }
  }
 },
 "nbformat": 4,
 "nbformat_minor": 5
}
