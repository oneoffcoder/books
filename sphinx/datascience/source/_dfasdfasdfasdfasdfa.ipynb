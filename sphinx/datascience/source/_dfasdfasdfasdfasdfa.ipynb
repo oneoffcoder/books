{
 "cells": [
  {
   "cell_type": "code",
   "execution_count": 6,
   "id": "8dd1e4ce-507d-43ad-9faa-f50412eeaf2f",
   "metadata": {},
   "outputs": [
    {
     "name": "stderr",
     "output_type": "stream",
     "text": [
      "\u001b[1m\u001b[1mRows: \u001b[1m\u001b[22m\u001b[34m\u001b[34m50\u001b[34m\u001b[39m \u001b[1m\u001b[1mColumns: \u001b[1m\u001b[22m\u001b[34m\u001b[34m8\u001b[34m\u001b[39m\n",
      "\u001b[36m──\u001b[39m \u001b[1m\u001b[1mColumn specification\u001b[1m\u001b[22m \u001b[36m──────────────────────────────────────────────────────────────────────────────────────────────\u001b[39m\n",
      "\u001b[1mDelimiter:\u001b[22m \",\"\n",
      "\u001b[31mchr\u001b[39m (1): hosp\n",
      "\u001b[32mdbl\u001b[39m (7): prob_survival, severe_burn, head_injury, is_senior, male, tertiary_...\n",
      "\n",
      "\u001b[36mℹ\u001b[39m Use \u001b[30m\u001b[47m\u001b[30m\u001b[47m`spec()`\u001b[47m\u001b[30m\u001b[49m\u001b[39m to retrieve the full column specification for this data.\n",
      "\u001b[36mℹ\u001b[39m Specify the column types or set \u001b[30m\u001b[47m\u001b[30m\u001b[47m`show_col_types = FALSE`\u001b[47m\u001b[30m\u001b[49m\u001b[39m to quiet this message.\n"
     ]
    }
   ],
   "source": [
    "library(readr)\n",
    "library(lme4)\n",
    "\n",
    "df <- read_csv('./data/trauma.csv')"
   ]
  },
  {
   "cell_type": "code",
   "execution_count": 16,
   "id": "e7f1f479-eb27-4c06-9a54-e98b19b46050",
   "metadata": {},
   "outputs": [
    {
     "data": {
      "text/html": [
       "<style>\n",
       ".list-inline {list-style: none; margin:0; padding: 0}\n",
       ".list-inline>li {display: inline-block}\n",
       ".list-inline>li:not(:last-child)::after {content: \"\\00b7\"; padding: 0 .5ex}\n",
       "</style>\n",
       "<ol class=list-inline><li>'prob_survival'</li><li>'severe_burn'</li><li>'head_injury'</li><li>'is_senior'</li><li>'male'</li><li>'hosp'</li><li>'tertiary_center'</li><li>'burn_center'</li></ol>\n"
      ],
      "text/latex": [
       "\\begin{enumerate*}\n",
       "\\item 'prob\\_survival'\n",
       "\\item 'severe\\_burn'\n",
       "\\item 'head\\_injury'\n",
       "\\item 'is\\_senior'\n",
       "\\item 'male'\n",
       "\\item 'hosp'\n",
       "\\item 'tertiary\\_center'\n",
       "\\item 'burn\\_center'\n",
       "\\end{enumerate*}\n"
      ],
      "text/markdown": [
       "1. 'prob_survival'\n",
       "2. 'severe_burn'\n",
       "3. 'head_injury'\n",
       "4. 'is_senior'\n",
       "5. 'male'\n",
       "6. 'hosp'\n",
       "7. 'tertiary_center'\n",
       "8. 'burn_center'\n",
       "\n",
       "\n"
      ],
      "text/plain": [
       "[1] \"prob_survival\"   \"severe_burn\"     \"head_injury\"     \"is_senior\"      \n",
       "[5] \"male\"            \"hosp\"            \"tertiary_center\" \"burn_center\"    "
      ]
     },
     "metadata": {},
     "output_type": "display_data"
    }
   ],
   "source": [
    "colnames(df)"
   ]
  },
  {
   "cell_type": "code",
   "execution_count": 34,
   "id": "fcf4ac01-37ef-45e9-929c-838361453395",
   "metadata": {},
   "outputs": [
    {
     "data": {
      "text/plain": [
       "\n",
       "Call:\n",
       "lm(formula = prob_survival ~ severe_burn + head_injury + is_senior + \n",
       "    male + hosp, data = df)\n",
       "\n",
       "Residuals:\n",
       "      Min        1Q    Median        3Q       Max \n",
       "-0.145059 -0.034591 -0.005934  0.029349  0.148130 \n",
       "\n",
       "Coefficients:\n",
       "            Estimate Std. Error t value Pr(>|t|)    \n",
       "(Intercept)  1.16218    0.02968  39.153  < 2e-16 ***\n",
       "severe_burn -0.24542    0.01812 -13.543  < 2e-16 ***\n",
       "head_injury -0.18178    0.01763 -10.314 5.88e-13 ***\n",
       "is_senior   -0.10929    0.01732  -6.310 1.56e-07 ***\n",
       "male        -0.02670    0.01855  -1.440 0.157523    \n",
       "hospB       -0.11793    0.02782  -4.239 0.000124 ***\n",
       "hospC       -0.22613    0.02816  -8.030 6.03e-10 ***\n",
       "hospD       -0.27645    0.02854  -9.687 3.70e-12 ***\n",
       "hospE       -0.34114    0.02778 -12.279 2.55e-15 ***\n",
       "---\n",
       "Signif. codes:  0 ‘***’ 0.001 ‘**’ 0.01 ‘*’ 0.05 ‘.’ 0.1 ‘ ’ 1\n",
       "\n",
       "Residual standard error: 0.05956 on 41 degrees of freedom\n",
       "Multiple R-squared:  0.9267,\tAdjusted R-squared:  0.9123 \n",
       "F-statistic: 64.75 on 8 and 41 DF,  p-value: < 2.2e-16\n"
      ]
     },
     "metadata": {},
     "output_type": "display_data"
    }
   ],
   "source": [
    "summary(lm(prob_survival ~ severe_burn + head_injury + is_senior + male + hosp, data=df))"
   ]
  },
  {
   "cell_type": "code",
   "execution_count": 25,
   "id": "4189af23-1a92-4f98-b79c-d4e61343a274",
   "metadata": {},
   "outputs": [
    {
     "data": {
      "text/plain": [
       "Linear mixed model fit by REML ['lmerMod']\n",
       "Formula: prob_survival ~ severe_burn + head_injury + is_senior + male +  \n",
       "    (1 | hosp)\n",
       "   Data: df\n",
       "REML criterion at convergence: -96.7453\n",
       "Random effects:\n",
       " Groups   Name        Std.Dev.\n",
       " hosp     (Intercept) 0.13343 \n",
       " Residual             0.05956 \n",
       "Number of obs: 50, groups:  hosp, 5\n",
       "Fixed Effects:\n",
       "(Intercept)  severe_burn  head_injury    is_senior         male  \n",
       "    0.96850     -0.24430     -0.18203     -0.10887     -0.02516  "
      ]
     },
     "metadata": {},
     "output_type": "display_data"
    }
   ],
   "source": [
    "lmer(prob_survival ~ severe_burn + head_injury + is_senior + male + (1 | hosp), data=df)"
   ]
  },
  {
   "cell_type": "code",
   "execution_count": 28,
   "id": "abb4d282-d32c-48f6-8d63-c6ecee9c2114",
   "metadata": {},
   "outputs": [
    {
     "data": {
      "text/plain": [
       "Linear mixed model fit by REML ['lmerMod']\n",
       "Formula: prob_survival ~ severe_burn + head_injury + is_senior + male +  \n",
       "    (1 | hosp:tertiary_center)\n",
       "   Data: df\n",
       "REML criterion at convergence: -96.7453\n",
       "Random effects:\n",
       " Groups               Name        Std.Dev.\n",
       " hosp:tertiary_center (Intercept) 0.13343 \n",
       " Residual                         0.05956 \n",
       "Number of obs: 50, groups:  hosp:tertiary_center, 5\n",
       "Fixed Effects:\n",
       "(Intercept)  severe_burn  head_injury    is_senior         male  \n",
       "    0.96850     -0.24430     -0.18203     -0.10887     -0.02516  "
      ]
     },
     "metadata": {},
     "output_type": "display_data"
    }
   ],
   "source": [
    "lmer(prob_survival ~ severe_burn + head_injury + is_senior + male + (1 | hosp:tertiary_center), data=df)"
   ]
  },
  {
   "cell_type": "code",
   "execution_count": 29,
   "id": "d7f8e00c-9dd8-46d8-a06b-bf19e23c1b02",
   "metadata": {},
   "outputs": [
    {
     "data": {
      "text/plain": [
       "Linear mixed model fit by REML ['lmerMod']\n",
       "Formula: prob_survival ~ severe_burn + head_injury + is_senior + male +  \n",
       "    (1 | hosp:burn_center)\n",
       "   Data: df\n",
       "REML criterion at convergence: -96.7453\n",
       "Random effects:\n",
       " Groups           Name        Std.Dev.\n",
       " hosp:burn_center (Intercept) 0.13343 \n",
       " Residual                     0.05956 \n",
       "Number of obs: 50, groups:  hosp:burn_center, 5\n",
       "Fixed Effects:\n",
       "(Intercept)  severe_burn  head_injury    is_senior         male  \n",
       "    0.96850     -0.24430     -0.18203     -0.10887     -0.02516  "
      ]
     },
     "metadata": {},
     "output_type": "display_data"
    }
   ],
   "source": [
    "lmer(prob_survival ~ severe_burn + head_injury + is_senior + male + (1 | hosp:burn_center), data=df)"
   ]
  },
  {
   "cell_type": "code",
   "execution_count": 31,
   "id": "b82184e8-27ae-4192-9db5-a473de4c361a",
   "metadata": {},
   "outputs": [
    {
     "data": {
      "text/plain": [
       "Linear mixed model fit by REML ['lmerMod']\n",
       "Formula: prob_survival ~ severe_burn + head_injury + is_senior + male +  \n",
       "    (1 | hosp:burn_center:tertiary_center)\n",
       "   Data: df\n",
       "REML criterion at convergence: -96.7453\n",
       "Random effects:\n",
       " Groups                           Name        Std.Dev.\n",
       " hosp:burn_center:tertiary_center (Intercept) 0.13343 \n",
       " Residual                                     0.05956 \n",
       "Number of obs: 50, groups:  hosp:burn_center:tertiary_center, 5\n",
       "Fixed Effects:\n",
       "(Intercept)  severe_burn  head_injury    is_senior         male  \n",
       "    0.96850     -0.24430     -0.18203     -0.10887     -0.02516  "
      ]
     },
     "metadata": {},
     "output_type": "display_data"
    }
   ],
   "source": [
    "lmer(prob_survival ~ severe_burn + head_injury + is_senior + male + (1 | hosp:burn_center:tertiary_center), data=df)"
   ]
  },
  {
   "cell_type": "code",
   "execution_count": 35,
   "id": "a0b55b38-0c08-46ae-8dbb-b7250839667b",
   "metadata": {},
   "outputs": [
    {
     "data": {
      "text/plain": [
       "Linear mixed model fit by REML ['lmerMod']\n",
       "Formula: prob_survival ~ severe_burn + head_injury + is_senior + male +  \n",
       "    (1 | hosp) + (1 | burn_center) + (1 | tertiary_center)\n",
       "   Data: df\n",
       "REML criterion at convergence: -99.7405\n",
       "Random effects:\n",
       " Groups          Name        Std.Dev. \n",
       " hosp            (Intercept) 0.0643983\n",
       " burn_center     (Intercept) 0.0004001\n",
       " tertiary_center (Intercept) 0.1508856\n",
       " Residual                    0.0595650\n",
       "Number of obs: 50, groups:  hosp, 5; burn_center, 2; tertiary_center, 2\n",
       "Fixed Effects:\n",
       "(Intercept)  severe_burn  head_injury    is_senior         male  \n",
       "    0.98997     -0.24391     -0.18331     -0.10995     -0.02511  "
      ]
     },
     "metadata": {},
     "output_type": "display_data"
    }
   ],
   "source": [
    "lmer(prob_survival ~ severe_burn + head_injury + is_senior + male + (1 | hosp) + (1 | burn_center) + (1 | tertiary_center), data=df)"
   ]
  },
  {
   "cell_type": "code",
   "execution_count": 44,
   "id": "e97dfadb-5174-474f-9899-1beb42791cac",
   "metadata": {},
   "outputs": [
    {
     "data": {
      "text/plain": [
       "Linear mixed model fit by REML ['lmerMod']\n",
       "Formula: prob_survival ~ severe_burn + head_injury + is_senior + male +  \n",
       "    (1 + tertiary_center | hosp)\n",
       "   Data: df\n",
       "REML criterion at convergence: -98.5596\n",
       "Random effects:\n",
       " Groups   Name            Std.Dev. Corr\n",
       " hosp     (Intercept)     0.05505      \n",
       "          tertiary_center 0.17303  0.86\n",
       " Residual                 0.05956      \n",
       "Number of obs: 50, groups:  hosp, 5\n",
       "Fixed Effects:\n",
       "(Intercept)  severe_burn  head_injury    is_senior         male  \n",
       "    0.89083     -0.24482     -0.18281     -0.10965     -0.02632  "
      ]
     },
     "metadata": {},
     "output_type": "display_data"
    }
   ],
   "source": [
    "lmer(prob_survival ~ severe_burn + head_injury + is_senior + male + (1 + tertiary_center | hosp), data=df)"
   ]
  },
  {
   "cell_type": "code",
   "execution_count": null,
   "id": "2847bf1c-09d3-43ee-bcb2-cd8d6695d779",
   "metadata": {},
   "outputs": [],
   "source": []
  }
 ],
 "metadata": {
  "kernelspec": {
   "display_name": "R",
   "language": "R",
   "name": "ir"
  },
  "language_info": {
   "codemirror_mode": "r",
   "file_extension": ".r",
   "mimetype": "text/x-r-source",
   "name": "R",
   "pygments_lexer": "r",
   "version": "4.1.1"
  }
 },
 "nbformat": 4,
 "nbformat_minor": 5
}
