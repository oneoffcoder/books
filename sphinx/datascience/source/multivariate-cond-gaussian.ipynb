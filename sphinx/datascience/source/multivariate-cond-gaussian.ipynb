{
 "cells": [
  {
   "cell_type": "markdown",
   "metadata": {},
   "source": [
    "# Conditional Multivariate Gaussian, In Depth\n",
    "\n",
    "Let's focus on conditional multivariate gaussian distributions. First, drop the `conditional` part and just focus on the multivariate gaussian distribution. Actually, drop the `multivariate` part and just focus on the gaussian. "
   ]
  },
  {
   "cell_type": "markdown",
   "metadata": {},
   "source": [
    "## Gaussian\n",
    "\n",
    "The gaussian is typically represented compactly as follows.\n",
    "\n",
    "$X \\sim \\mathcal{N}(\\mu, \\sigma^2)$\n",
    "\n",
    "where\n",
    "\n",
    "* $X$ is a single random variable\n",
    "* $\\mu$ is the mean of $X$\n",
    "* $\\sigma^2$ is the variance of $X$\n",
    "\n",
    "The statement, $X \\sim \\mathcal{N}(\\mu, \\sigma^2)$, says that $X$ comes from a gaussian distribution with a mean $\\mu$ and variance $\\sigma^2$; $\\mu$ and $\\sigma^2$ are called the `parameters`. Once you know the parameters of a gaussian, you can calculate the probability of any value through the probability density function `PDF`. The PDF of a gaussian is defined as follows.\n",
    "\n",
    "$f(x) = \\dfrac{1}{\\sigma \\sqrt{2 \\pi}}e^{-\\dfrac{1}{2}\\left(\\dfrac{x - \\mu}{\\sigma}\\right)^2}$\n"
   ]
  },
  {
   "cell_type": "markdown",
   "metadata": {},
   "source": [
    "## Multivariate gaussian\n",
    "\n",
    "The multivariate gaussian is represented as follows.\n",
    "\n",
    "$\\mathbf{X}\\ \\sim\\ \\mathcal{N}(\\boldsymbol\\mu,\\, \\boldsymbol\\Sigma)$\n",
    "\n",
    "* $\\mathbf{X}$ is now a vector of random variables\n",
    "* $\\boldsymbol\\mu$ is a vector of means\n",
    "* $\\boldsymbol\\Sigma$ is a covariance matrix\n",
    "\n",
    "The PDF of a multivariate gaussian is as follows.\n",
    "\n",
    "$f_{\\mathbf X}(x_1,\\ldots,x_k) = \\dfrac{\\exp\\left(-\\frac 1 2 ({\\mathbf x}-{\\boldsymbol\\mu})^\\mathrm{T}{\\boldsymbol\\Sigma}^{-1}({\\mathbf x}-{\\boldsymbol\\mu})\\right)}{\\sqrt{(2\\pi)^k|\\boldsymbol\\Sigma|}}$"
   ]
  },
  {
   "cell_type": "markdown",
   "metadata": {},
   "source": [
    "## Motivation\n",
    "\n",
    "Ok, let's stop here. We know the gaussian and we know the multivariate gaussian. Additionally, it's awesome that if we know the parameters of the gaussian, then we have a way to estimate the probability of any value. What's the point? \n",
    "\n",
    "The parameters and PDF can be used to compute how likely it is that the data came from the model, where `the model` refers to the gaussian distribution (univariate or multivariate form). Just think of the univariate case where we have two models, $\\mathcal{N}_1(0, 1)$ and $\\mathcal{N}_2(10, 1)$. If we observe a bunch of values close to zero (e.g. 0.1, -0.1, 0.001, -0.03), which model $\\mathcal{N}_1$ or $\\mathcal{N}_2$ do you think best explains the data? Obviously $\\mathcal{N}_1$ since its mean is closer to the average of what we are seeing of the observations.\n",
    "\n",
    "We can `score` the models $\\mathcal{N}_1$ and $\\mathcal{N}_2$ based on the data and the PDF. Note that the models are the same but `parameterized` differently. It is said that $\\mathcal{N}_1$ and $\\mathcal{N}_2$ come from the `same family of distribution`, here, gaussian. The goal of judging whether $\\mathcal{N}_1$ or $\\mathcal{N}_2$ best explains the data reduces to finding the parameters that maximizes the probability of the data given the model and parameters. This operation is called `fitting a model to the data`. In more precise methodological terms, it can take on the form of maximum likelihood estimation `MLE` or maximum a posteriori `MAP` estimation.\n",
    "\n",
    "Still, what does any of this have to do with conditional multivariate gaussian distributions? Imagine that you have a multivariate gaussian data set $\\mathbf{X} = \\{ X_1, X_2, X_3 \\}$, and you have a hunch that it is likely $X_2$ is dependent on $X1$ or $X_3$. Let's denote $\\mathcal{N}_{X_2|X_1}$ to represent the model where $X_2$ is dependent on $X_1$ and $\\mathcal{N}_{X_2|X_1}$ to represent the model where $X_2$ is dependent on $X_3$. We can even have a third model $\\mathcal{N}_{X_2|X_1,X_3}$ to say that $X_2$ is dependent on $X_1$ and $X_3$. These models are conditional multivariate gaussian models, and we know that we have a PDF that we can use with parameters to score how well the data will fit to these models.  Which of these models most likely explain the data? The conditional multivariate gives a way to judge and score the proposed models."
   ]
  },
  {
   "cell_type": "markdown",
   "metadata": {},
   "source": [
    "## Conditional multivariate gaussian\n",
    "\n",
    "Denote the following.\n",
    "\n",
    "* $\\mathbf{x}$ as a vector of observed values\n",
    "* $\\boldsymbol{\\mu}$ as a vector of means\n",
    "* $\\boldsymbol{\\Sigma}$ as a covariance matrix\n",
    "\n",
    "Here's the tricky notation part. Let's say a subset of variables in $\\mathbf{X}$ is assumed to be dependent on another mutually exclusive subset of variables. Denote the indices of the former as 1 and the indices of the latter as 2. For example, if \n",
    "\n",
    "* there are 3 variables $X_1$, $X_2$, $X_3$,\n",
    "* they are indexed 0, 1, 2, and\n",
    "* we think $X_2$ is dependent on $X_1$ and $X_3$, \n",
    "\n",
    "then $1 = [1]$ and $2 = [0, 2]$. With this understanding and notation, we can formulate the conditional multivariate gaussian with partitioning the data and parameters as follows.\n",
    "\n",
    "* $\\mathbf{x} =\\begin{bmatrix} \\mathbf{x}_1 \\\\ \\mathbf{x}_2 \\end{bmatrix}$\n",
    "* $\\boldsymbol\\mu = \\begin{bmatrix} \\boldsymbol\\mu_1 \\\\ \\boldsymbol\\mu_2 \\end{bmatrix}$\n",
    "* $\\boldsymbol\\Sigma = \\begin{bmatrix} \\boldsymbol\\Sigma_{11} & \\boldsymbol\\Sigma_{12} \\\\ \\boldsymbol\\Sigma_{21} & \\boldsymbol\\Sigma_{22} \\end{bmatrix}$\n",
    "\n",
    "Then, $\\mathbf{x}_1 | \\mathbf{x}_2 = a \\sim \\mathcal{N}(\\bar{\\boldsymbol\\mu}, \\overline{\\boldsymbol\\Sigma})$, where\n",
    "\n",
    "* $\\bar{\\boldsymbol\\mu} = \\boldsymbol\\mu_1 + \\boldsymbol\\Sigma_{12} \\boldsymbol\\Sigma_{22}^{-1} \\left( \\mathbf{a} - \\boldsymbol\\mu_2 \\right)$\n",
    "* $\\overline{\\boldsymbol\\Sigma} = \\boldsymbol\\Sigma_{11} - \\boldsymbol\\Sigma_{12} \\boldsymbol\\Sigma_{22}^{-1} \\boldsymbol\\Sigma_{21}$\n",
    "* $\\mathbf{x}_1$ corresponds to the variables/indices in 1\n",
    "* $\\mathbf{x}_2$ corresponds to the varialbes/indices in 2\n",
    "\n",
    "$\\mathcal{N}(\\bar{\\boldsymbol\\mu}, \\overline{\\boldsymbol\\Sigma})$ is just the gaussian parameterized slightly different.\n",
    "\n",
    "Lastly, it is interesting that $\\boldsymbol\\Sigma_{12} \\boldsymbol\\Sigma_{22}^{-1}$ gives the `regression coefficients`!"
   ]
  },
  {
   "cell_type": "markdown",
   "metadata": {},
   "source": [
    "## Simulation\n",
    "\n",
    "Let's simulate some data and tests some models. The data is simulated as follows.\n",
    "\n",
    "* $X_1 \\sim \\mathcal{N}(1, 1)$\n",
    "* $X_2 \\sim \\mathcal{N}(1 + 3.5 \\times X_1, 1)$\n",
    "* $X_3 \\sim \\mathcal{N}(2, 1)$\n",
    "* $X_4 \\sim \\mathcal{N}(3.8 - 2.5 \\times X_3, 1)$\n",
    "\n",
    "Focus on $X_2$, which only depends on $X_1$; $X_3$ and $X_4$ are simulated only to add `noise` and observe how model fitting will do."
   ]
  },
  {
   "cell_type": "code",
   "execution_count": 1,
   "metadata": {},
   "outputs": [
    {
     "name": "stdout",
     "output_type": "stream",
     "text": [
      "means\n",
      "[ 1.01277839  4.52863965  1.98990172 -1.17391554]\n",
      "\n",
      "mins\n",
      "[-2.31079823 -8.33142158 -1.80414214 -8.74552729]\n",
      "\n",
      "maxs\n",
      "[ 3.92919388 17.57679341  4.82528779  9.27678294]\n",
      "\n",
      "cov\n",
      "[[ 9.63461496e-01  3.36840170e+00 -1.12846545e-02 -5.12464592e-02]\n",
      " [ 3.36840170e+00  1.27550651e+01 -9.26050108e-02 -8.56265759e-02]\n",
      " [-1.12846545e-02 -9.26050108e-02  9.70507183e-01 -2.46328945e+00]\n",
      " [-5.12464592e-02 -8.56265759e-02 -2.46328945e+00  7.25484316e+00]]\n",
      "\n",
      "stddev\n",
      "[0.98156075 3.5714234  0.98514323 2.69348161]\n",
      "\n",
      "correlation matrix\n",
      "[[ 1.          0.9608716  -0.01167002 -0.01938352]\n",
      " [ 0.9608716   1.         -0.02632048 -0.0089013 ]\n",
      " [-0.01167002 -0.02632048  1.         -0.9283293 ]\n",
      " [-0.01938352 -0.0089013  -0.9283293   1.        ]]\n"
     ]
    }
   ],
   "source": [
    "import numpy as np\n",
    "\n",
    "np.random.seed(37)\n",
    "\n",
    "N = 1000\n",
    "\n",
    "x1 = np.random.normal(1, 1, N)\n",
    "x2 = np.random.normal(1 + 3.5 * x1, 1, N)\n",
    "x3 = np.random.normal(2, 1, N)\n",
    "x4 = np.random.normal(3.8 - 2.5 * x3, 1, N)\n",
    "\n",
    "data = np.vstack([x1, x2, x3, x4]).T\n",
    "means = data.mean(axis=0)\n",
    "mins = data.min(axis=0)\n",
    "maxs = data.max(axis=0)\n",
    "cov = np.cov(data.T)\n",
    "std = np.sqrt(np.diag(cov))\n",
    "cor = np.corrcoef(data.T)\n",
    "\n",
    "print('means')\n",
    "print(means)\n",
    "print('')\n",
    "print('mins')\n",
    "print(mins)\n",
    "print('')\n",
    "print('maxs')\n",
    "print(maxs)\n",
    "print('')\n",
    "print('cov')\n",
    "print(cov)\n",
    "print('')\n",
    "print('stddev')\n",
    "print(std)\n",
    "print('')\n",
    "print('correlation matrix')\n",
    "print(cor)"
   ]
  },
  {
   "cell_type": "markdown",
   "metadata": {},
   "source": [
    "## Evaluation\n",
    "\n",
    "Let's now evaluate the following models.\n",
    "\n",
    "* $\\mathcal{N}_{X_2|X_1}$\n",
    "* $\\mathcal{N}_{X_1|X_2}$\n",
    "* $\\mathcal{N}_{X_2|X_3}$\n",
    "* $\\mathcal{N}_{X_2|X_4}$\n",
    "* $\\mathcal{N}_{X_2|X_1, X_3}$\n",
    "* $\\mathcal{N}_{X_2|X_1, X_4}$\n",
    "* $\\mathcal{N}_{X_2|X_3, X_4}$\n",
    "* $\\mathcal{N}_{X_2|X_1, X_3, X_4}$"
   ]
  },
  {
   "cell_type": "code",
   "execution_count": 2,
   "metadata": {},
   "outputs": [],
   "source": [
    "from scipy.stats import norm\n",
    "\n",
    "def get_index_2(index_1, N):\n",
    "    return [i for i in range(N) if i not in index_1]\n",
    "\n",
    "def partition_means(index_1, means, index_2=None):\n",
    "    index_2 = get_index_2(index_1, len(means)) if index_2 is None else index_2\n",
    "    m_1, m_2 = means[index_1], means[index_2]\n",
    "    return m_1, m_2\n",
    "\n",
    "def partition_cov(index_1, cov, index_2=None):\n",
    "    index_2 = get_index_2(index_1, cov.shape[1]) if index_2 is None else index_2\n",
    "    s_11 = cov[index_1][:, index_1]\n",
    "    s_12 = cov[index_1][:, index_2]\n",
    "    s_21 = cov[index_2][:, index_1]\n",
    "    s_22 = cov[index_2][:, index_2]\n",
    "    \n",
    "    return s_11, s_12, s_21, np.linalg.inv(s_22)\n",
    "\n",
    "def partition_x(index_1, x, index_2=None):\n",
    "    index_2 = get_index_2(index_1, len(x)) if index_2 is None else index_2\n",
    "    x_1 = x[index_1]\n",
    "    x_2 = x[index_2]\n",
    "    return x_1, x_2\n",
    "\n",
    "def get_log_proba(index_1, data, means, cov, index_2=None, zero=0.000001):\n",
    "    m_1, m_2 = partition_means(index_1, means, index_2)\n",
    "    s_11, s_12, s_21, s_22 = partition_cov(index_1, cov, index_2)\n",
    "    s = (s_11 - s_12.dot(s_22).dot(s_21))[0, 0]\n",
    "\n",
    "    log_proba = []\n",
    "    for x in data:\n",
    "        x_1, x_2 = partition_x(index_1, x, index_2)\n",
    "        m = (m_1 + s_12.dot(s_22).dot((x_2 - m_2).T))[0]\n",
    "        p = norm.pdf(x_1, loc=m, scale=s)\n",
    "        log_p = np.log(p) if p >= zero else 0.0\n",
    "        log_proba.append(log_p)\n",
    "\n",
    "    return sum(log_proba)[0], s_12.dot(s_22)[0]"
   ]
  },
  {
   "cell_type": "markdown",
   "metadata": {},
   "source": [
    "$\\mathcal{N}_{X_2|X_1}$"
   ]
  },
  {
   "cell_type": "code",
   "execution_count": 3,
   "metadata": {},
   "outputs": [
    {
     "data": {
      "text/plain": [
       "(-1407.7504048724838, array([3.49614563]))"
      ]
     },
     "execution_count": 3,
     "metadata": {},
     "output_type": "execute_result"
    }
   ],
   "source": [
    "get_log_proba([1], data, means, cov, [0])"
   ]
  },
  {
   "cell_type": "markdown",
   "metadata": {},
   "source": [
    "$\\mathcal{N}_{X_1|X_2}$"
   ]
  },
  {
   "cell_type": "code",
   "execution_count": 4,
   "metadata": {},
   "outputs": [
    {
     "data": {
      "text/plain": [
       "(-1844.815851724664, array([0.26408346]))"
      ]
     },
     "execution_count": 4,
     "metadata": {},
     "output_type": "execute_result"
    }
   ],
   "source": [
    "get_log_proba([0], data, means, cov, [1])"
   ]
  },
  {
   "cell_type": "markdown",
   "metadata": {},
   "source": [
    "$\\mathcal{N}_{X_2|X_3}$"
   ]
  },
  {
   "cell_type": "code",
   "execution_count": 5,
   "metadata": {},
   "outputs": [
    {
     "data": {
      "text/plain": [
       "(-3503.3620421459736, array([-0.09541919]))"
      ]
     },
     "execution_count": 5,
     "metadata": {},
     "output_type": "execute_result"
    }
   ],
   "source": [
    "get_log_proba([1], data, means, cov, [2])"
   ]
  },
  {
   "cell_type": "markdown",
   "metadata": {},
   "source": [
    "$\\mathcal{N}_{X_2|X_4}$"
   ]
  },
  {
   "cell_type": "code",
   "execution_count": 6,
   "metadata": {},
   "outputs": [
    {
     "data": {
      "text/plain": [
       "(-3503.951768440483, array([-0.01180268]))"
      ]
     },
     "execution_count": 6,
     "metadata": {},
     "output_type": "execute_result"
    }
   ],
   "source": [
    "get_log_proba([1], data, means, cov, [3])"
   ]
  },
  {
   "cell_type": "markdown",
   "metadata": {},
   "source": [
    "$\\mathcal{N}_{X_2|X_1, X_3}$"
   ]
  },
  {
   "cell_type": "code",
   "execution_count": 7,
   "metadata": {},
   "outputs": [
    {
     "data": {
      "text/plain": [
       "(-1406.293970788458, array([ 3.49550407, -0.05477492]))"
      ]
     },
     "execution_count": 7,
     "metadata": {},
     "output_type": "execute_result"
    }
   ],
   "source": [
    "get_log_proba([1], data, means, cov, [0, 2])"
   ]
  },
  {
   "cell_type": "markdown",
   "metadata": {},
   "source": [
    "$\\mathcal{N}_{X_2|X_1, X_4}$"
   ]
  },
  {
   "cell_type": "code",
   "execution_count": 8,
   "metadata": {},
   "outputs": [
    {
     "data": {
      "text/plain": [
       "(-1407.1468441245966, array([3.49683168, 0.0128981 ]))"
      ]
     },
     "execution_count": 8,
     "metadata": {},
     "output_type": "execute_result"
    }
   ],
   "source": [
    "get_log_proba([1], data, means, cov, [0, 3])"
   ]
  },
  {
   "cell_type": "markdown",
   "metadata": {},
   "source": [
    "$\\mathcal{N}_{X_2|X_3, X_4}$"
   ]
  },
  {
   "cell_type": "code",
   "execution_count": 9,
   "metadata": {},
   "outputs": [
    {
     "data": {
      "text/plain": [
       "(-3495.601209966525, array([-0.90717683, -0.319823  ]))"
      ]
     },
     "execution_count": 9,
     "metadata": {},
     "output_type": "execute_result"
    }
   ],
   "source": [
    "get_log_proba([1], data, means, cov, [2, 3])"
   ]
  },
  {
   "cell_type": "markdown",
   "metadata": {},
   "source": [
    "$\\mathcal{N}_{X_2|X_1, X_3, X_4}$"
   ]
  },
  {
   "cell_type": "code",
   "execution_count": 10,
   "metadata": {},
   "outputs": [
    {
     "data": {
      "text/plain": [
       "(-1405.4323728994732, array([ 3.49205536, -0.16036643, -0.04158602]))"
      ]
     },
     "execution_count": 10,
     "metadata": {},
     "output_type": "execute_result"
    }
   ],
   "source": [
    "get_log_proba([1], data, means, cov, [0, 2, 3])"
   ]
  },
  {
   "cell_type": "markdown",
   "metadata": {},
   "source": [
    "## Summary\n",
    "\n",
    "Some interesting observations.\n",
    "\n",
    "* $\\mathcal{N}_{X_2|X_1}$ is a better fit than $\\mathcal{N}_{X_1|X_2}$ as expected\n",
    "* Any time we have $X_1$ with other variables in the conditioning set, the scores goes up (overfitting is at play here; we could counter overfitting if we can find a way to regularize)\n",
    "* Without $X_1$ in the conditioning set, the scores goes down\n",
    "* Even though having $X_3$ and $X_4$ raises the score slightly, their regression coefficients are nearly zero when $X_1$ is also in the conditioning set"
   ]
  }
 ],
 "metadata": {
  "kernelspec": {
   "display_name": "Python 3",
   "language": "python",
   "name": "python3"
  },
  "language_info": {
   "codemirror_mode": {
    "name": "ipython",
    "version": 3
   },
   "file_extension": ".py",
   "mimetype": "text/x-python",
   "name": "python",
   "nbconvert_exporter": "python",
   "pygments_lexer": "ipython3",
   "version": "3.7.6"
  }
 },
 "nbformat": 4,
 "nbformat_minor": 4
}
