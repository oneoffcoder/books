{
 "cells": [
  {
   "cell_type": "markdown",
   "id": "1077f7b0-0c65-41ec-9a34-060e6d009549",
   "metadata": {},
   "source": [
    "## Load data"
   ]
  },
  {
   "cell_type": "code",
   "execution_count": 32,
   "id": "d2c741f9-8f49-48e6-88cb-59cc6dae5e6c",
   "metadata": {},
   "outputs": [
    {
     "data": {
      "text/plain": [
       "((150, 4), (150,))"
      ]
     },
     "execution_count": 32,
     "metadata": {},
     "output_type": "execute_result"
    }
   ],
   "source": [
    "from sklearn.datasets import load_iris\n",
    "import pandas as pd\n",
    "import numpy as np\n",
    "\n",
    "y2n = {\n",
    "    0: 'setosa',\n",
    "    1: 'versicolor',\n",
    "    2: 'virginica'\n",
    "}\n",
    "\n",
    "X, y = load_iris(return_X_y=True, as_frame=True)\n",
    "X = X.rename(columns={c: c.replace('(cm)', '').strip().replace(' ', '_') for c in X.columns})\n",
    "\n",
    "X.shape, y.shape"
   ]
  },
  {
   "cell_type": "markdown",
   "id": "db9aa53b-2132-442f-8c48-7b88e3994df3",
   "metadata": {},
   "source": [
    "## Logistic regression"
   ]
  },
  {
   "cell_type": "code",
   "execution_count": 33,
   "id": "438bc0ce-932d-4df9-90a1-2637b8e8465b",
   "metadata": {},
   "outputs": [
    {
     "data": {
      "text/plain": [
       "LogisticRegression(class_weight='balanced', max_iter=10000, n_jobs=-1,\n",
       "                   random_state=37, solver='saga')"
      ]
     },
     "execution_count": 33,
     "metadata": {},
     "output_type": "execute_result"
    }
   ],
   "source": [
    "from sklearn.linear_model import LogisticRegression\n",
    "\n",
    "L = LogisticRegression(n_jobs=-1, random_state=37, solver='saga', max_iter=10_000, class_weight='balanced')\n",
    "L.fit(X, y)"
   ]
  },
  {
   "cell_type": "code",
   "execution_count": 42,
   "id": "77faa6ed-76c3-439f-83cc-f6a94152d1e2",
   "metadata": {},
   "outputs": [
    {
     "data": {
      "text/html": [
       "<div>\n",
       "<style scoped>\n",
       "    .dataframe tbody tr th:only-of-type {\n",
       "        vertical-align: middle;\n",
       "    }\n",
       "\n",
       "    .dataframe tbody tr th {\n",
       "        vertical-align: top;\n",
       "    }\n",
       "\n",
       "    .dataframe thead th {\n",
       "        text-align: right;\n",
       "    }\n",
       "</style>\n",
       "<table border=\"1\" class=\"dataframe\">\n",
       "  <thead>\n",
       "    <tr style=\"text-align: right;\">\n",
       "      <th></th>\n",
       "      <th>intercept</th>\n",
       "      <th>sepal_length</th>\n",
       "      <th>sepal_width</th>\n",
       "      <th>petal_length</th>\n",
       "      <th>petal_width</th>\n",
       "    </tr>\n",
       "    <tr>\n",
       "      <th>clazz</th>\n",
       "      <th></th>\n",
       "      <th></th>\n",
       "      <th></th>\n",
       "      <th></th>\n",
       "      <th></th>\n",
       "    </tr>\n",
       "  </thead>\n",
       "  <tbody>\n",
       "    <tr>\n",
       "      <th>setosa</th>\n",
       "      <td>6.566801</td>\n",
       "      <td>-0.00305</td>\n",
       "      <td>1.211489</td>\n",
       "      <td>-2.449880</td>\n",
       "      <td>-1.087380</td>\n",
       "    </tr>\n",
       "    <tr>\n",
       "      <th>versicolor</th>\n",
       "      <td>3.064096</td>\n",
       "      <td>0.36919</td>\n",
       "      <td>-0.395907</td>\n",
       "      <td>-0.162812</td>\n",
       "      <td>-0.930556</td>\n",
       "    </tr>\n",
       "    <tr>\n",
       "      <th>virginica</th>\n",
       "      <td>-9.630898</td>\n",
       "      <td>-0.36614</td>\n",
       "      <td>-0.815582</td>\n",
       "      <td>2.612692</td>\n",
       "      <td>2.017936</td>\n",
       "    </tr>\n",
       "  </tbody>\n",
       "</table>\n",
       "</div>"
      ],
      "text/plain": [
       "            intercept  sepal_length  sepal_width  petal_length  petal_width\n",
       "clazz                                                                      \n",
       "setosa       6.566801      -0.00305     1.211489     -2.449880    -1.087380\n",
       "versicolor   3.064096       0.36919    -0.395907     -0.162812    -0.930556\n",
       "virginica   -9.630898      -0.36614    -0.815582      2.612692     2.017936"
      ]
     },
     "execution_count": 42,
     "metadata": {},
     "output_type": "execute_result"
    }
   ],
   "source": [
    "pd.DataFrame([{**{'clazz': y2n[clazz], 'intercept': i}, **{col: coef for col, coef in zip(X.columns, coefs)}} \n",
    "              for clazz, (i, coefs) in enumerate(zip(L.intercept_, L.coef_))]) \\\n",
    "    .set_index(['clazz'])"
   ]
  },
  {
   "cell_type": "markdown",
   "id": "32228f6b-0cbc-4e96-aa83-bd8410088ebb",
   "metadata": {},
   "source": [
    "## Random forest"
   ]
  },
  {
   "cell_type": "code",
   "execution_count": 53,
   "id": "5d502670-361b-4829-b4bf-19413299501e",
   "metadata": {},
   "outputs": [
    {
     "data": {
      "text/plain": [
       "RandomForestClassifier(class_weight='balanced', n_estimators=3, n_jobs=-1,\n",
       "                       random_state=37)"
      ]
     },
     "execution_count": 53,
     "metadata": {},
     "output_type": "execute_result"
    }
   ],
   "source": [
    "from sklearn.ensemble import RandomForestClassifier\n",
    "\n",
    "R = RandomForestClassifier(n_jobs=-1, random_state=37, n_estimators=3, class_weight='balanced')\n",
    "R.fit(X, y)"
   ]
  },
  {
   "cell_type": "code",
   "execution_count": 54,
   "id": "195ed351-4139-471b-b309-cbaf2a1810a9",
   "metadata": {},
   "outputs": [
    {
     "data": {
      "text/plain": [
       "sepal_length    0.089231\n",
       "sepal_width     0.009675\n",
       "petal_length    0.667463\n",
       "petal_width     0.233630\n",
       "dtype: float64"
      ]
     },
     "execution_count": 54,
     "metadata": {},
     "output_type": "execute_result"
    }
   ],
   "source": [
    "pd.Series(R.feature_importances_, X.columns)"
   ]
  },
  {
   "cell_type": "markdown",
   "id": "c7503c00-26da-48d6-972c-4a779c0d434b",
   "metadata": {},
   "source": [
    "## Best candidates, logistic regression"
   ]
  },
  {
   "cell_type": "code",
   "execution_count": 59,
   "id": "cc52ae8b-60ce-4018-881f-9d3de28c3800",
   "metadata": {},
   "outputs": [
    {
     "data": {
      "text/html": [
       "<div>\n",
       "<style scoped>\n",
       "    .dataframe tbody tr th:only-of-type {\n",
       "        vertical-align: middle;\n",
       "    }\n",
       "\n",
       "    .dataframe tbody tr th {\n",
       "        vertical-align: top;\n",
       "    }\n",
       "\n",
       "    .dataframe thead th {\n",
       "        text-align: right;\n",
       "    }\n",
       "</style>\n",
       "<table border=\"1\" class=\"dataframe\">\n",
       "  <thead>\n",
       "    <tr style=\"text-align: right;\">\n",
       "      <th></th>\n",
       "      <th>sepal_length</th>\n",
       "      <th>sepal_width</th>\n",
       "      <th>petal_length</th>\n",
       "      <th>petal_width</th>\n",
       "      <th>setosa</th>\n",
       "      <th>versicolor</th>\n",
       "      <th>virginica</th>\n",
       "    </tr>\n",
       "  </thead>\n",
       "  <tbody>\n",
       "    <tr>\n",
       "      <th>22</th>\n",
       "      <td>4.6</td>\n",
       "      <td>3.6</td>\n",
       "      <td>1.0</td>\n",
       "      <td>0.2</td>\n",
       "      <td>0.994824</td>\n",
       "      <td>0.005176</td>\n",
       "      <td>3.442988e-09</td>\n",
       "    </tr>\n",
       "  </tbody>\n",
       "</table>\n",
       "</div>"
      ],
      "text/plain": [
       "    sepal_length  sepal_width  petal_length  petal_width    setosa  \\\n",
       "22           4.6          3.6           1.0          0.2  0.994824   \n",
       "\n",
       "    versicolor     virginica  \n",
       "22    0.005176  3.442988e-09  "
      ]
     },
     "execution_count": 59,
     "metadata": {},
     "output_type": "execute_result"
    }
   ],
   "source": [
    "X.join(pd.DataFrame(L.predict_proba(X), columns=['setosa', 'versicolor', 'virginica'])) \\\n",
    "    .sort_values(['setosa', 'versicolor', 'virginica'], ascending=[False, True, True]) \\\n",
    "    [:1]"
   ]
  },
  {
   "cell_type": "code",
   "execution_count": 60,
   "id": "4c82eadd-2527-4909-bc31-12d88ae7d35a",
   "metadata": {},
   "outputs": [
    {
     "data": {
      "text/html": [
       "<div>\n",
       "<style scoped>\n",
       "    .dataframe tbody tr th:only-of-type {\n",
       "        vertical-align: middle;\n",
       "    }\n",
       "\n",
       "    .dataframe tbody tr th {\n",
       "        vertical-align: top;\n",
       "    }\n",
       "\n",
       "    .dataframe thead th {\n",
       "        text-align: right;\n",
       "    }\n",
       "</style>\n",
       "<table border=\"1\" class=\"dataframe\">\n",
       "  <thead>\n",
       "    <tr style=\"text-align: right;\">\n",
       "      <th></th>\n",
       "      <th>sepal_length</th>\n",
       "      <th>sepal_width</th>\n",
       "      <th>petal_length</th>\n",
       "      <th>petal_width</th>\n",
       "      <th>setosa</th>\n",
       "      <th>versicolor</th>\n",
       "      <th>virginica</th>\n",
       "    </tr>\n",
       "  </thead>\n",
       "  <tbody>\n",
       "    <tr>\n",
       "      <th>62</th>\n",
       "      <td>6.0</td>\n",
       "      <td>2.2</td>\n",
       "      <td>4.0</td>\n",
       "      <td>1.0</td>\n",
       "      <td>0.010792</td>\n",
       "      <td>0.971058</td>\n",
       "      <td>0.018149</td>\n",
       "    </tr>\n",
       "  </tbody>\n",
       "</table>\n",
       "</div>"
      ],
      "text/plain": [
       "    sepal_length  sepal_width  petal_length  petal_width    setosa  \\\n",
       "62           6.0          2.2           4.0          1.0  0.010792   \n",
       "\n",
       "    versicolor  virginica  \n",
       "62    0.971058   0.018149  "
      ]
     },
     "execution_count": 60,
     "metadata": {},
     "output_type": "execute_result"
    }
   ],
   "source": [
    "X.join(pd.DataFrame(L.predict_proba(X), columns=['setosa', 'versicolor', 'virginica'])) \\\n",
    "    .sort_values(['versicolor', 'setosa', 'virginica'], ascending=[False, True, True]) \\\n",
    "    [:1]"
   ]
  },
  {
   "cell_type": "code",
   "execution_count": 61,
   "id": "ab3c73a4-6c37-4add-8eef-794728e0ead0",
   "metadata": {},
   "outputs": [
    {
     "data": {
      "text/html": [
       "<div>\n",
       "<style scoped>\n",
       "    .dataframe tbody tr th:only-of-type {\n",
       "        vertical-align: middle;\n",
       "    }\n",
       "\n",
       "    .dataframe tbody tr th {\n",
       "        vertical-align: top;\n",
       "    }\n",
       "\n",
       "    .dataframe thead th {\n",
       "        text-align: right;\n",
       "    }\n",
       "</style>\n",
       "<table border=\"1\" class=\"dataframe\">\n",
       "  <thead>\n",
       "    <tr style=\"text-align: right;\">\n",
       "      <th></th>\n",
       "      <th>sepal_length</th>\n",
       "      <th>sepal_width</th>\n",
       "      <th>petal_length</th>\n",
       "      <th>petal_width</th>\n",
       "      <th>setosa</th>\n",
       "      <th>versicolor</th>\n",
       "      <th>virginica</th>\n",
       "    </tr>\n",
       "  </thead>\n",
       "  <tbody>\n",
       "    <tr>\n",
       "      <th>118</th>\n",
       "      <td>7.7</td>\n",
       "      <td>2.6</td>\n",
       "      <td>6.9</td>\n",
       "      <td>2.3</td>\n",
       "      <td>1.838709e-08</td>\n",
       "      <td>0.001525</td>\n",
       "      <td>0.998475</td>\n",
       "    </tr>\n",
       "  </tbody>\n",
       "</table>\n",
       "</div>"
      ],
      "text/plain": [
       "     sepal_length  sepal_width  petal_length  petal_width        setosa  \\\n",
       "118           7.7          2.6           6.9          2.3  1.838709e-08   \n",
       "\n",
       "     versicolor  virginica  \n",
       "118    0.001525   0.998475  "
      ]
     },
     "execution_count": 61,
     "metadata": {},
     "output_type": "execute_result"
    }
   ],
   "source": [
    "X.join(pd.DataFrame(L.predict_proba(X), columns=['setosa', 'versicolor', 'virginica'])) \\\n",
    "    .sort_values(['virginica', 'setosa', 'versicolor'], ascending=[False, True, True]) \\\n",
    "    [:1]"
   ]
  },
  {
   "cell_type": "markdown",
   "id": "0448b3b4-ea2d-4260-a9a4-b64464e140de",
   "metadata": {},
   "source": [
    "## Best candidates, random forest"
   ]
  },
  {
   "cell_type": "code",
   "execution_count": 62,
   "id": "1e0657b9-8e4b-4726-8af1-6b2ee08833fb",
   "metadata": {},
   "outputs": [
    {
     "data": {
      "text/html": [
       "<div>\n",
       "<style scoped>\n",
       "    .dataframe tbody tr th:only-of-type {\n",
       "        vertical-align: middle;\n",
       "    }\n",
       "\n",
       "    .dataframe tbody tr th {\n",
       "        vertical-align: top;\n",
       "    }\n",
       "\n",
       "    .dataframe thead th {\n",
       "        text-align: right;\n",
       "    }\n",
       "</style>\n",
       "<table border=\"1\" class=\"dataframe\">\n",
       "  <thead>\n",
       "    <tr style=\"text-align: right;\">\n",
       "      <th></th>\n",
       "      <th>sepal_length</th>\n",
       "      <th>sepal_width</th>\n",
       "      <th>petal_length</th>\n",
       "      <th>petal_width</th>\n",
       "      <th>setosa</th>\n",
       "      <th>versicolor</th>\n",
       "      <th>virginica</th>\n",
       "    </tr>\n",
       "  </thead>\n",
       "  <tbody>\n",
       "    <tr>\n",
       "      <th>0</th>\n",
       "      <td>5.1</td>\n",
       "      <td>3.5</td>\n",
       "      <td>1.4</td>\n",
       "      <td>0.2</td>\n",
       "      <td>1.0</td>\n",
       "      <td>0.0</td>\n",
       "      <td>0.0</td>\n",
       "    </tr>\n",
       "  </tbody>\n",
       "</table>\n",
       "</div>"
      ],
      "text/plain": [
       "   sepal_length  sepal_width  petal_length  petal_width  setosa  versicolor  \\\n",
       "0           5.1          3.5           1.4          0.2     1.0         0.0   \n",
       "\n",
       "   virginica  \n",
       "0        0.0  "
      ]
     },
     "execution_count": 62,
     "metadata": {},
     "output_type": "execute_result"
    }
   ],
   "source": [
    "X.join(pd.DataFrame(R.predict_proba(X), columns=['setosa', 'versicolor', 'virginica'])) \\\n",
    "    .sort_values(['setosa', 'versicolor', 'virginica'], ascending=[False, True, True]) \\\n",
    "    [:1]"
   ]
  },
  {
   "cell_type": "code",
   "execution_count": 63,
   "id": "16cc2355-73c3-4334-bafa-17aba58d4d43",
   "metadata": {},
   "outputs": [
    {
     "data": {
      "text/html": [
       "<div>\n",
       "<style scoped>\n",
       "    .dataframe tbody tr th:only-of-type {\n",
       "        vertical-align: middle;\n",
       "    }\n",
       "\n",
       "    .dataframe tbody tr th {\n",
       "        vertical-align: top;\n",
       "    }\n",
       "\n",
       "    .dataframe thead th {\n",
       "        text-align: right;\n",
       "    }\n",
       "</style>\n",
       "<table border=\"1\" class=\"dataframe\">\n",
       "  <thead>\n",
       "    <tr style=\"text-align: right;\">\n",
       "      <th></th>\n",
       "      <th>sepal_length</th>\n",
       "      <th>sepal_width</th>\n",
       "      <th>petal_length</th>\n",
       "      <th>petal_width</th>\n",
       "      <th>setosa</th>\n",
       "      <th>versicolor</th>\n",
       "      <th>virginica</th>\n",
       "    </tr>\n",
       "  </thead>\n",
       "  <tbody>\n",
       "    <tr>\n",
       "      <th>50</th>\n",
       "      <td>7.0</td>\n",
       "      <td>3.2</td>\n",
       "      <td>4.7</td>\n",
       "      <td>1.4</td>\n",
       "      <td>0.0</td>\n",
       "      <td>1.0</td>\n",
       "      <td>0.0</td>\n",
       "    </tr>\n",
       "  </tbody>\n",
       "</table>\n",
       "</div>"
      ],
      "text/plain": [
       "    sepal_length  sepal_width  petal_length  petal_width  setosa  versicolor  \\\n",
       "50           7.0          3.2           4.7          1.4     0.0         1.0   \n",
       "\n",
       "    virginica  \n",
       "50        0.0  "
      ]
     },
     "execution_count": 63,
     "metadata": {},
     "output_type": "execute_result"
    }
   ],
   "source": [
    "X.join(pd.DataFrame(R.predict_proba(X), columns=['setosa', 'versicolor', 'virginica'])) \\\n",
    "    .sort_values(['versicolor', 'setosa', 'virginica'], ascending=[False, True, True]) \\\n",
    "    [:1]"
   ]
  },
  {
   "cell_type": "code",
   "execution_count": 64,
   "id": "15c03b21-d84b-494c-abe2-e6521b468f15",
   "metadata": {},
   "outputs": [
    {
     "data": {
      "text/html": [
       "<div>\n",
       "<style scoped>\n",
       "    .dataframe tbody tr th:only-of-type {\n",
       "        vertical-align: middle;\n",
       "    }\n",
       "\n",
       "    .dataframe tbody tr th {\n",
       "        vertical-align: top;\n",
       "    }\n",
       "\n",
       "    .dataframe thead th {\n",
       "        text-align: right;\n",
       "    }\n",
       "</style>\n",
       "<table border=\"1\" class=\"dataframe\">\n",
       "  <thead>\n",
       "    <tr style=\"text-align: right;\">\n",
       "      <th></th>\n",
       "      <th>sepal_length</th>\n",
       "      <th>sepal_width</th>\n",
       "      <th>petal_length</th>\n",
       "      <th>petal_width</th>\n",
       "      <th>setosa</th>\n",
       "      <th>versicolor</th>\n",
       "      <th>virginica</th>\n",
       "    </tr>\n",
       "  </thead>\n",
       "  <tbody>\n",
       "    <tr>\n",
       "      <th>100</th>\n",
       "      <td>6.3</td>\n",
       "      <td>3.3</td>\n",
       "      <td>6.0</td>\n",
       "      <td>2.5</td>\n",
       "      <td>0.0</td>\n",
       "      <td>0.0</td>\n",
       "      <td>1.0</td>\n",
       "    </tr>\n",
       "  </tbody>\n",
       "</table>\n",
       "</div>"
      ],
      "text/plain": [
       "     sepal_length  sepal_width  petal_length  petal_width  setosa  versicolor  \\\n",
       "100           6.3          3.3           6.0          2.5     0.0         0.0   \n",
       "\n",
       "     virginica  \n",
       "100        1.0  "
      ]
     },
     "execution_count": 64,
     "metadata": {},
     "output_type": "execute_result"
    }
   ],
   "source": [
    "X.join(pd.DataFrame(R.predict_proba(X), columns=['setosa', 'versicolor', 'virginica'])) \\\n",
    "    .sort_values(['virginica', 'setosa', 'versicolor'], ascending=[False, True, True]) \\\n",
    "    [:1]"
   ]
  },
  {
   "cell_type": "code",
   "execution_count": 78,
   "id": "111b688d-aa38-4518-b3ec-3ea80c6bde65",
   "metadata": {},
   "outputs": [
    {
     "data": {
      "text/html": [
       "<div>\n",
       "<style scoped>\n",
       "    .dataframe tbody tr th:only-of-type {\n",
       "        vertical-align: middle;\n",
       "    }\n",
       "\n",
       "    .dataframe tbody tr th {\n",
       "        vertical-align: top;\n",
       "    }\n",
       "\n",
       "    .dataframe thead th {\n",
       "        text-align: right;\n",
       "    }\n",
       "</style>\n",
       "<table border=\"1\" class=\"dataframe\">\n",
       "  <thead>\n",
       "    <tr style=\"text-align: right;\">\n",
       "      <th></th>\n",
       "      <th>sepal_length</th>\n",
       "      <th>sepal_width</th>\n",
       "      <th>petal_length</th>\n",
       "      <th>petal_width</th>\n",
       "    </tr>\n",
       "  </thead>\n",
       "  <tbody>\n",
       "    <tr>\n",
       "      <th>min</th>\n",
       "      <td>4.3</td>\n",
       "      <td>2.0</td>\n",
       "      <td>1.0</td>\n",
       "      <td>0.1</td>\n",
       "    </tr>\n",
       "    <tr>\n",
       "      <th>max</th>\n",
       "      <td>7.9</td>\n",
       "      <td>4.4</td>\n",
       "      <td>6.9</td>\n",
       "      <td>2.5</td>\n",
       "    </tr>\n",
       "  </tbody>\n",
       "</table>\n",
       "</div>"
      ],
      "text/plain": [
       "     sepal_length  sepal_width  petal_length  petal_width\n",
       "min           4.3          2.0           1.0          0.1\n",
       "max           7.9          4.4           6.9          2.5"
      ]
     },
     "execution_count": 78,
     "metadata": {},
     "output_type": "execute_result"
    }
   ],
   "source": [
    "X.describe().loc[['min', 'max']]"
   ]
  },
  {
   "cell_type": "markdown",
   "id": "8abb0b48-3f3b-419a-9436-a840f5846936",
   "metadata": {},
   "source": [
    "## Best candidate searching, logistic regression"
   ]
  },
  {
   "cell_type": "code",
   "execution_count": 164,
   "id": "87ec06fa-725a-4b94-9e10-7b226fc62f2a",
   "metadata": {},
   "outputs": [],
   "source": [
    "import optuna\n",
    "\n",
    "optuna.logging.set_verbosity(optuna.logging.WARNING)\n",
    "\n",
    "def objective(trial, m):\n",
    "    sl = trial.suggest_float('sepal_length', 4.3, 7.9)\n",
    "    sw = trial.suggest_float('sepal_width', 2.0, 4.4)\n",
    "    pl = trial.suggest_float('petal_length', 1.0, 6.9)\n",
    "    pw = trial.suggest_float('petal_width', 0.1, 2.5)\n",
    "    \n",
    "    _X = pd.DataFrame([[sl, sw, pl, pw]], columns=['sepal_length', 'sepal_width', 'petal_length', 'petal_width'])\n",
    "    _y = m.predict_proba(_X)[0]\n",
    "    \n",
    "    _y1 = _y[0]\n",
    "    _y2 = _y[1]\n",
    "    _y3 = _y[2]\n",
    "    \n",
    "    return _y1, _y2, _y3\n",
    "\n",
    "def get_study(algo, clazz):\n",
    "    if clazz == 0:\n",
    "        directions = ['maximize', 'minimize', 'minimize']\n",
    "    elif clazz == 1:\n",
    "        directions = ['minimize', 'maximize', 'minimize']\n",
    "    else:\n",
    "        directions = ['minimize', 'minimize', 'maximize']\n",
    "        \n",
    "    study = optuna.create_study(**{\n",
    "        'study_name': f'study-{algo}-{clazz:02}',\n",
    "        'storage': f'sqlite:///_temp/opt-study.db',\n",
    "        'load_if_exists': True,\n",
    "        'directions': directions,\n",
    "        'sampler': optuna.samplers.TPESampler(seed=37),\n",
    "        'pruner': optuna.pruners.MedianPruner(n_warmup_steps=10)\n",
    "    })\n",
    "    \n",
    "    return study\n",
    "\n",
    "def get_best_trial(algo, clazz):\n",
    "    study = get_study(algo, clazz)\n",
    "    return max(study.best_trials, key=lambda t: (t.values[clazz]))\n",
    "\n",
    "def get_best_params(algo, clazz):\n",
    "    best = get_best_trial(algo, clazz)\n",
    "    params = best.params\n",
    "    params = {k: params[k] for k in ['sepal_length', 'sepal_width', 'petal_length', 'petal_width']}\n",
    "    return params"
   ]
  },
  {
   "cell_type": "code",
   "execution_count": 165,
   "id": "fb7d4dc5-e1c9-4d45-924b-7d959e312646",
   "metadata": {},
   "outputs": [
    {
     "name": "stderr",
     "output_type": "stream",
     "text": [
      "/opt/anaconda3/lib/python3.9/site-packages/optuna/progress_bar.py:49: ExperimentalWarning: Progress bar is experimental (supported from v1.2.0). The interface can change in the future.\n",
      "  self._init_valid()\n"
     ]
    },
    {
     "data": {
      "application/vnd.jupyter.widget-view+json": {
       "model_id": "e7b9ca9d8949443fbb539e1977760bce",
       "version_major": 2,
       "version_minor": 0
      },
      "text/plain": [
       "  0%|          | 0/200 [00:00<?, ?it/s]"
      ]
     },
     "metadata": {},
     "output_type": "display_data"
    },
    {
     "data": {
      "text/plain": [
       "({'sepal_length': 4.9310309063381785,\n",
       "  'sepal_width': 4.396022809496658,\n",
       "  'petal_length': 1.0052584086592715,\n",
       "  'petal_width': 0.11658350842988516},\n",
       " [0.9983674109957078, 0.0016325885206006309, 4.836916060796055e-10])"
      ]
     },
     "execution_count": 165,
     "metadata": {},
     "output_type": "execute_result"
    }
   ],
   "source": [
    "study = get_study('logistic', 0)\n",
    "study.optimize(**{\n",
    "    'func': lambda t: objective(t, L),\n",
    "    'n_trials': 200,\n",
    "    'n_jobs': 6,\n",
    "    'show_progress_bar': True\n",
    "})\n",
    "best = max(study.best_trials, key=lambda t: (t.values[0]))\n",
    "best.params, best.values"
   ]
  },
  {
   "cell_type": "code",
   "execution_count": 166,
   "id": "8225b8d0-883b-4f38-8186-791df069adb1",
   "metadata": {},
   "outputs": [
    {
     "name": "stderr",
     "output_type": "stream",
     "text": [
      "/opt/anaconda3/lib/python3.9/site-packages/optuna/progress_bar.py:49: ExperimentalWarning: Progress bar is experimental (supported from v1.2.0). The interface can change in the future.\n",
      "  self._init_valid()\n"
     ]
    },
    {
     "data": {
      "application/vnd.jupyter.widget-view+json": {
       "model_id": "866ec904157545519525080122338446",
       "version_major": 2,
       "version_minor": 0
      },
      "text/plain": [
       "  0%|          | 0/200 [00:00<?, ?it/s]"
      ]
     },
     "metadata": {},
     "output_type": "display_data"
    },
    {
     "data": {
      "text/plain": [
       "({'sepal_length': 7.709515249076063,\n",
       "  'sepal_width': 2.2565776194939313,\n",
       "  'petal_length': 4.471929903412942,\n",
       "  'petal_width': 0.16444496616896156},\n",
       " [0.0024852339111455864, 0.9958836052066797, 0.0016311608821747631])"
      ]
     },
     "execution_count": 166,
     "metadata": {},
     "output_type": "execute_result"
    }
   ],
   "source": [
    "study = get_study('logistic', 1)\n",
    "study.optimize(**{\n",
    "    'func': lambda t: objective(t, L),\n",
    "    'n_trials': 200,\n",
    "    'n_jobs': 6,\n",
    "    'show_progress_bar': True\n",
    "})\n",
    "best = max(study.best_trials, key=lambda t: (t.values[1]))\n",
    "best.params, best.values"
   ]
  },
  {
   "cell_type": "code",
   "execution_count": 167,
   "id": "ae9770af-5993-4bc9-97a1-669ff21f1f1b",
   "metadata": {},
   "outputs": [
    {
     "name": "stderr",
     "output_type": "stream",
     "text": [
      "/opt/anaconda3/lib/python3.9/site-packages/optuna/progress_bar.py:49: ExperimentalWarning: Progress bar is experimental (supported from v1.2.0). The interface can change in the future.\n",
      "  self._init_valid()\n"
     ]
    },
    {
     "data": {
      "application/vnd.jupyter.widget-view+json": {
       "model_id": "bb01bc6e0c5c42aeab09086aeca2e796",
       "version_major": 2,
       "version_minor": 0
      },
      "text/plain": [
       "  0%|          | 0/200 [00:00<?, ?it/s]"
      ]
     },
     "metadata": {},
     "output_type": "display_data"
    },
    {
     "data": {
      "text/plain": [
       "({'sepal_length': 4.535880308530154,\n",
       "  'sepal_width': 2.1491224675040774,\n",
       "  'petal_length': 6.897154921009948,\n",
       "  'petal_width': 2.4993082784301346},\n",
       " [1.2786075607675126e-09, 6.909423630690177e-05, 0.9999309044850855])"
      ]
     },
     "execution_count": 167,
     "metadata": {},
     "output_type": "execute_result"
    }
   ],
   "source": [
    "study = get_study('logistic', 2)\n",
    "study.optimize(**{\n",
    "    'func': lambda t: objective(t, L),\n",
    "    'n_trials': 200,\n",
    "    'n_jobs': 6,\n",
    "    'show_progress_bar': True\n",
    "})\n",
    "best = max(study.best_trials, key=lambda t: (t.values[2]))\n",
    "best.params, best.values"
   ]
  },
  {
   "cell_type": "code",
   "execution_count": 168,
   "id": "8f6d1ce4-dd46-49cb-bb16-63c24e783e43",
   "metadata": {},
   "outputs": [
    {
     "data": {
      "text/plain": [
       "array([[9.98367411e-01, 1.63258852e-03, 4.83691606e-10],\n",
       "       [2.48523391e-03, 9.95883605e-01, 1.63116088e-03],\n",
       "       [1.27860756e-09, 6.90942363e-05, 9.99930904e-01]])"
      ]
     },
     "execution_count": 168,
     "metadata": {},
     "output_type": "execute_result"
    }
   ],
   "source": [
    "L.predict_proba(pd.DataFrame([get_best_params('logistic', c) for c in range(3)]))"
   ]
  },
  {
   "cell_type": "code",
   "execution_count": 169,
   "id": "c5d1d682-a585-42d3-a24b-b59443bbee47",
   "metadata": {},
   "outputs": [
    {
     "data": {
      "text/plain": [
       "array([[1.        , 0.        , 0.        ],\n",
       "       [0.33333333, 0.66666667, 0.        ],\n",
       "       [0.        , 0.33333333, 0.66666667]])"
      ]
     },
     "execution_count": 169,
     "metadata": {},
     "output_type": "execute_result"
    }
   ],
   "source": [
    "R.predict_proba(pd.DataFrame([get_best_params('logistic', c) for c in range(3)]))"
   ]
  },
  {
   "cell_type": "markdown",
   "id": "5920bb1c-e45a-4845-965f-b06c11142b86",
   "metadata": {},
   "source": [
    "## Best candidate searching, random forest"
   ]
  },
  {
   "cell_type": "code",
   "execution_count": 170,
   "id": "44a6c628-9db2-4459-bc01-0b5cbf726624",
   "metadata": {},
   "outputs": [
    {
     "name": "stderr",
     "output_type": "stream",
     "text": [
      "/opt/anaconda3/lib/python3.9/site-packages/optuna/progress_bar.py:49: ExperimentalWarning: Progress bar is experimental (supported from v1.2.0). The interface can change in the future.\n",
      "  self._init_valid()\n"
     ]
    },
    {
     "data": {
      "application/vnd.jupyter.widget-view+json": {
       "model_id": "fb225cf20ac94b73af1452884eb307fd",
       "version_major": 2,
       "version_minor": 0
      },
      "text/plain": [
       "  0%|          | 0/200 [00:00<?, ?it/s]"
      ]
     },
     "metadata": {},
     "output_type": "display_data"
    },
    {
     "data": {
      "text/plain": [
       "({'sepal_length': 4.82626887479423,\n",
       "  'sepal_width': 4.191078237607879,\n",
       "  'petal_length': 1.0558148586698979,\n",
       "  'petal_width': 0.1491680343675136},\n",
       " [1.0, 0.0, 0.0])"
      ]
     },
     "execution_count": 170,
     "metadata": {},
     "output_type": "execute_result"
    }
   ],
   "source": [
    "study = get_study('randomforest', 0)\n",
    "study.optimize(**{\n",
    "    'func': lambda t: objective(t, R),\n",
    "    'n_trials': 200,\n",
    "    'n_jobs': 6,\n",
    "    'show_progress_bar': True\n",
    "})\n",
    "best = max(study.best_trials, key=lambda t: (t.values[0]))\n",
    "best.params, best.values"
   ]
  },
  {
   "cell_type": "code",
   "execution_count": 171,
   "id": "77b26bf3-cd49-47f7-8fab-563a6907385e",
   "metadata": {},
   "outputs": [
    {
     "name": "stderr",
     "output_type": "stream",
     "text": [
      "/opt/anaconda3/lib/python3.9/site-packages/optuna/progress_bar.py:49: ExperimentalWarning: Progress bar is experimental (supported from v1.2.0). The interface can change in the future.\n",
      "  self._init_valid()\n"
     ]
    },
    {
     "data": {
      "application/vnd.jupyter.widget-view+json": {
       "model_id": "7544520f5c4f4fbaa3e23e44e9fe378d",
       "version_major": 2,
       "version_minor": 0
      },
      "text/plain": [
       "  0%|          | 0/200 [00:00<?, ?it/s]"
      ]
     },
     "metadata": {},
     "output_type": "display_data"
    },
    {
     "data": {
      "text/plain": [
       "({'sepal_length': 6.700297745575643,\n",
       "  'sepal_width': 2.6927993134892745,\n",
       "  'petal_length': 3.709505841815157,\n",
       "  'petal_width': 1.9913641681930534},\n",
       " [0.0, 1.0, 0.0])"
      ]
     },
     "execution_count": 171,
     "metadata": {},
     "output_type": "execute_result"
    }
   ],
   "source": [
    "study = get_study('randomforest', 1)\n",
    "study.optimize(**{\n",
    "    'func': lambda t: objective(t, R),\n",
    "    'n_trials': 200,\n",
    "    'n_jobs': 6,\n",
    "    'show_progress_bar': True\n",
    "})\n",
    "best = max(study.best_trials, key=lambda t: (t.values[1]))\n",
    "best.params, best.values"
   ]
  },
  {
   "cell_type": "code",
   "execution_count": 172,
   "id": "c329b159-1af5-4c94-9302-84df8b708c92",
   "metadata": {},
   "outputs": [
    {
     "name": "stderr",
     "output_type": "stream",
     "text": [
      "/opt/anaconda3/lib/python3.9/site-packages/optuna/progress_bar.py:49: ExperimentalWarning: Progress bar is experimental (supported from v1.2.0). The interface can change in the future.\n",
      "  self._init_valid()\n"
     ]
    },
    {
     "data": {
      "application/vnd.jupyter.widget-view+json": {
       "model_id": "25d801ca01204b0094eedc24052df5b6",
       "version_major": 2,
       "version_minor": 0
      },
      "text/plain": [
       "  0%|          | 0/200 [00:00<?, ?it/s]"
      ]
     },
     "metadata": {},
     "output_type": "display_data"
    },
    {
     "data": {
      "text/plain": [
       "({'sepal_length': 7.152365923578177,\n",
       "  'sepal_width': 3.1660797160919487,\n",
       "  'petal_length': 6.502452228699957,\n",
       "  'petal_width': 2.2209283171404506},\n",
       " [0.0, 0.0, 1.0])"
      ]
     },
     "execution_count": 172,
     "metadata": {},
     "output_type": "execute_result"
    }
   ],
   "source": [
    "study = get_study('randomforest', 2)\n",
    "study.optimize(**{\n",
    "    'func': lambda t: objective(t, R),\n",
    "    'n_trials': 200,\n",
    "    'n_jobs': 6,\n",
    "    'show_progress_bar': True\n",
    "})\n",
    "best = max(study.best_trials, key=lambda t: (t.values[2]))\n",
    "best.params, best.values"
   ]
  },
  {
   "cell_type": "code",
   "execution_count": 173,
   "id": "2f0483f2-bcbf-478c-90a1-148f97ea2d3c",
   "metadata": {},
   "outputs": [
    {
     "data": {
      "text/plain": [
       "array([[9.97539157e-01, 2.46084202e-03, 1.08705105e-09],\n",
       "       [2.84178539e-02, 9.03449061e-01, 6.81330856e-02],\n",
       "       [4.52622748e-07, 4.90345392e-03, 9.95096093e-01]])"
      ]
     },
     "execution_count": 173,
     "metadata": {},
     "output_type": "execute_result"
    }
   ],
   "source": [
    "L.predict_proba(pd.DataFrame([get_best_params('randomforest', c) for c in range(3)]))"
   ]
  },
  {
   "cell_type": "code",
   "execution_count": 174,
   "id": "14a476ba-2fee-4768-a6bd-676a726ba300",
   "metadata": {},
   "outputs": [
    {
     "data": {
      "text/plain": [
       "array([[1., 0., 0.],\n",
       "       [0., 1., 0.],\n",
       "       [0., 0., 1.]])"
      ]
     },
     "execution_count": 174,
     "metadata": {},
     "output_type": "execute_result"
    }
   ],
   "source": [
    "R.predict_proba(pd.DataFrame([get_best_params('randomforest', c) for c in range(3)]))"
   ]
  },
  {
   "cell_type": "code",
   "execution_count": null,
   "id": "a2b92df9-f4c8-4aea-b13c-2cb0bb2bac0e",
   "metadata": {},
   "outputs": [],
   "source": []
  },
  {
   "cell_type": "code",
   "execution_count": 192,
   "id": "42e739fb-b60b-428a-a054-80f0ce31c8c2",
   "metadata": {},
   "outputs": [
    {
     "data": {
      "text/html": [
       "<div>\n",
       "<style scoped>\n",
       "    .dataframe tbody tr th:only-of-type {\n",
       "        vertical-align: middle;\n",
       "    }\n",
       "\n",
       "    .dataframe tbody tr th {\n",
       "        vertical-align: top;\n",
       "    }\n",
       "\n",
       "    .dataframe thead th {\n",
       "        text-align: right;\n",
       "    }\n",
       "</style>\n",
       "<table border=\"1\" class=\"dataframe\">\n",
       "  <thead>\n",
       "    <tr style=\"text-align: right;\">\n",
       "      <th></th>\n",
       "      <th></th>\n",
       "      <th>sepal_length</th>\n",
       "      <th>sepal_width</th>\n",
       "      <th>petal_length</th>\n",
       "      <th>petal_width</th>\n",
       "      <th>L_setosa</th>\n",
       "      <th>L_versicolor</th>\n",
       "      <th>L_virginica</th>\n",
       "      <th>R_setosa</th>\n",
       "      <th>R_versicolor</th>\n",
       "      <th>R_virginica</th>\n",
       "    </tr>\n",
       "    <tr>\n",
       "      <th>algo</th>\n",
       "      <th>species</th>\n",
       "      <th></th>\n",
       "      <th></th>\n",
       "      <th></th>\n",
       "      <th></th>\n",
       "      <th></th>\n",
       "      <th></th>\n",
       "      <th></th>\n",
       "      <th></th>\n",
       "      <th></th>\n",
       "      <th></th>\n",
       "    </tr>\n",
       "  </thead>\n",
       "  <tbody>\n",
       "    <tr>\n",
       "      <th rowspan=\"3\" valign=\"top\">L</th>\n",
       "      <th>setosa</th>\n",
       "      <td>4.931031</td>\n",
       "      <td>4.396023</td>\n",
       "      <td>1.005258</td>\n",
       "      <td>0.116584</td>\n",
       "      <td>9.983674e-01</td>\n",
       "      <td>0.001633</td>\n",
       "      <td>4.836916e-10</td>\n",
       "      <td>1.000000</td>\n",
       "      <td>0.000000</td>\n",
       "      <td>0.000000</td>\n",
       "    </tr>\n",
       "    <tr>\n",
       "      <th>versicolor</th>\n",
       "      <td>7.709515</td>\n",
       "      <td>2.256578</td>\n",
       "      <td>4.471930</td>\n",
       "      <td>0.164445</td>\n",
       "      <td>2.485234e-03</td>\n",
       "      <td>0.995884</td>\n",
       "      <td>1.631161e-03</td>\n",
       "      <td>0.333333</td>\n",
       "      <td>0.666667</td>\n",
       "      <td>0.000000</td>\n",
       "    </tr>\n",
       "    <tr>\n",
       "      <th>virginica</th>\n",
       "      <td>4.535880</td>\n",
       "      <td>2.149122</td>\n",
       "      <td>6.897155</td>\n",
       "      <td>2.499308</td>\n",
       "      <td>1.278608e-09</td>\n",
       "      <td>0.000069</td>\n",
       "      <td>9.999309e-01</td>\n",
       "      <td>0.000000</td>\n",
       "      <td>0.333333</td>\n",
       "      <td>0.666667</td>\n",
       "    </tr>\n",
       "    <tr>\n",
       "      <th rowspan=\"3\" valign=\"top\">R</th>\n",
       "      <th>setosa</th>\n",
       "      <td>4.826269</td>\n",
       "      <td>4.191078</td>\n",
       "      <td>1.055815</td>\n",
       "      <td>0.149168</td>\n",
       "      <td>9.975392e-01</td>\n",
       "      <td>0.002461</td>\n",
       "      <td>1.087051e-09</td>\n",
       "      <td>1.000000</td>\n",
       "      <td>0.000000</td>\n",
       "      <td>0.000000</td>\n",
       "    </tr>\n",
       "    <tr>\n",
       "      <th>versicolor</th>\n",
       "      <td>6.700298</td>\n",
       "      <td>2.692799</td>\n",
       "      <td>3.709506</td>\n",
       "      <td>1.991364</td>\n",
       "      <td>2.841785e-02</td>\n",
       "      <td>0.903449</td>\n",
       "      <td>6.813309e-02</td>\n",
       "      <td>0.000000</td>\n",
       "      <td>1.000000</td>\n",
       "      <td>0.000000</td>\n",
       "    </tr>\n",
       "    <tr>\n",
       "      <th>virginica</th>\n",
       "      <td>7.152366</td>\n",
       "      <td>3.166080</td>\n",
       "      <td>6.502452</td>\n",
       "      <td>2.220928</td>\n",
       "      <td>4.526227e-07</td>\n",
       "      <td>0.004903</td>\n",
       "      <td>9.950961e-01</td>\n",
       "      <td>0.000000</td>\n",
       "      <td>0.000000</td>\n",
       "      <td>1.000000</td>\n",
       "    </tr>\n",
       "  </tbody>\n",
       "</table>\n",
       "</div>"
      ],
      "text/plain": [
       "                 sepal_length  sepal_width  petal_length  petal_width  \\\n",
       "algo species                                                            \n",
       "L    setosa          4.931031     4.396023      1.005258     0.116584   \n",
       "     versicolor      7.709515     2.256578      4.471930     0.164445   \n",
       "     virginica       4.535880     2.149122      6.897155     2.499308   \n",
       "R    setosa          4.826269     4.191078      1.055815     0.149168   \n",
       "     versicolor      6.700298     2.692799      3.709506     1.991364   \n",
       "     virginica       7.152366     3.166080      6.502452     2.220928   \n",
       "\n",
       "                     L_setosa  L_versicolor   L_virginica  R_setosa  \\\n",
       "algo species                                                          \n",
       "L    setosa      9.983674e-01      0.001633  4.836916e-10  1.000000   \n",
       "     versicolor  2.485234e-03      0.995884  1.631161e-03  0.333333   \n",
       "     virginica   1.278608e-09      0.000069  9.999309e-01  0.000000   \n",
       "R    setosa      9.975392e-01      0.002461  1.087051e-09  1.000000   \n",
       "     versicolor  2.841785e-02      0.903449  6.813309e-02  0.000000   \n",
       "     virginica   4.526227e-07      0.004903  9.950961e-01  0.000000   \n",
       "\n",
       "                 R_versicolor  R_virginica  \n",
       "algo species                                \n",
       "L    setosa          0.000000     0.000000  \n",
       "     versicolor      0.666667     0.000000  \n",
       "     virginica       0.333333     0.666667  \n",
       "R    setosa          0.000000     0.000000  \n",
       "     versicolor      1.000000     0.000000  \n",
       "     virginica       0.000000     1.000000  "
      ]
     },
     "execution_count": 192,
     "metadata": {},
     "output_type": "execute_result"
    }
   ],
   "source": [
    "_X = pd.concat([\n",
    "    pd.DataFrame([get_best_params('logistic', c) for c in range(3)], \n",
    "             index=pd.MultiIndex.from_tuples([('L', 'setosa'), ('L', 'versicolor'), ('L', 'virginica')], names=['algo', 'species'])),\n",
    "    pd.DataFrame([get_best_params('randomforest', c) for c in range(3)], \n",
    "             index=pd.MultiIndex.from_tuples([('R', 'setosa'), ('R', 'versicolor'), ('R', 'virginica')], names=['algo', 'species']))\n",
    "])\n",
    "\n",
    "_Y = pd.DataFrame(L.predict_proba(_X), columns=['L_setosa', 'L_versicolor', 'L_virginica']) \\\n",
    "    .join(pd.DataFrame(R.predict_proba(_X), columns=['R_setosa', 'R_versicolor', 'R_virginica']))\n",
    "\n",
    "_X.reset_index().join(_Y).set_index(['algo', 'species'])"
   ]
  },
  {
   "cell_type": "code",
   "execution_count": null,
   "id": "de0ec009-3984-4382-8055-6fad67bb1e38",
   "metadata": {},
   "outputs": [],
   "source": []
  }
 ],
 "metadata": {
  "kernelspec": {
   "display_name": "Python 3 (ipykernel)",
   "language": "python",
   "name": "python3"
  },
  "language_info": {
   "codemirror_mode": {
    "name": "ipython",
    "version": 3
   },
   "file_extension": ".py",
   "mimetype": "text/x-python",
   "name": "python",
   "nbconvert_exporter": "python",
   "pygments_lexer": "ipython3",
   "version": "3.9.16"
  },
  "widgets": {
   "application/vnd.jupyter.widget-state+json": {
    "state": {
     "000a6f60595a4a6e8381aba07da957d0": {
      "model_module": "@jupyter-widgets/controls",
      "model_module_version": "2.0.0",
      "model_name": "HTMLModel",
      "state": {
       "layout": "IPY_MODEL_6c353d959d5f4202a9059338ccc08fa1",
       "style": "IPY_MODEL_8edb5d00ae044f3187ca22056e28caab",
       "value": "100%"
      }
     },
     "005b40afb55c4ee3bdcbdea760e340e0": {
      "model_module": "@jupyter-widgets/controls",
      "model_module_version": "2.0.0",
      "model_name": "FloatProgressModel",
      "state": {
       "bar_style": "success",
       "layout": "IPY_MODEL_2e68180bde0546bba2111e088d5c6045",
       "max": 200,
       "style": "IPY_MODEL_8514447959ae4bc6b5a407a5d756758b",
       "value": 200
      }
     },
     "005cf86e7a83418e815a8abda3e575e8": {
      "model_module": "@jupyter-widgets/controls",
      "model_module_version": "2.0.0",
      "model_name": "HTMLStyleModel",
      "state": {
       "description_width": "",
       "font_size": null,
       "text_color": null
      }
     },
     "0062956266b04f5dae585ff4a893479b": {
      "model_module": "@jupyter-widgets/base",
      "model_module_version": "2.0.0",
      "model_name": "LayoutModel",
      "state": {}
     },
     "008d9120573d43428b28a9e317c03c21": {
      "model_module": "@jupyter-widgets/base",
      "model_module_version": "2.0.0",
      "model_name": "LayoutModel",
      "state": {}
     },
     "00dfdfbb092d4f3d930007aec7d1ddbb": {
      "model_module": "@jupyter-widgets/controls",
      "model_module_version": "2.0.0",
      "model_name": "ProgressStyleModel",
      "state": {
       "description_width": ""
      }
     },
     "016d0134aba547b0b58fd8d3db06ac8b": {
      "model_module": "@jupyter-widgets/controls",
      "model_module_version": "2.0.0",
      "model_name": "HTMLModel",
      "state": {
       "layout": "IPY_MODEL_23453c3c2f944685b7cc41687b5492f1",
       "style": "IPY_MODEL_1f6cb492f8514163a309b05e6d90feef",
       "value": "100%"
      }
     },
     "04555ee854a7451187a8703adbfec4b0": {
      "model_module": "@jupyter-widgets/controls",
      "model_module_version": "2.0.0",
      "model_name": "HBoxModel",
      "state": {
       "children": [
        "IPY_MODEL_0a5c2af0e9ab4ae0945b9efa8a86bc22",
        "IPY_MODEL_e88e57a1a56b4cb19041a6101fb59e71",
        "IPY_MODEL_25f092f61e5240a9b762bb2956700353"
       ],
       "layout": "IPY_MODEL_105d8802fb03451c9bb9d4a3e0810ffd"
      }
     },
     "053d257dd4a64722b2092fea2c7963de": {
      "model_module": "@jupyter-widgets/controls",
      "model_module_version": "2.0.0",
      "model_name": "HTMLStyleModel",
      "state": {
       "description_width": "",
       "font_size": null,
       "text_color": null
      }
     },
     "057542e47e614f26bbf3621956a9f2f3": {
      "model_module": "@jupyter-widgets/controls",
      "model_module_version": "2.0.0",
      "model_name": "HTMLStyleModel",
      "state": {
       "description_width": "",
       "font_size": null,
       "text_color": null
      }
     },
     "067bda1cf2684e6887bed88f6feab6c9": {
      "model_module": "@jupyter-widgets/controls",
      "model_module_version": "2.0.0",
      "model_name": "HTMLStyleModel",
      "state": {
       "description_width": "",
       "font_size": null,
       "text_color": null
      }
     },
     "06c3adbfbc0c403aa8bae4bc48efb6fe": {
      "model_module": "@jupyter-widgets/controls",
      "model_module_version": "2.0.0",
      "model_name": "HTMLStyleModel",
      "state": {
       "description_width": "",
       "font_size": null,
       "text_color": null
      }
     },
     "07728584bb7d46b39685b37c1981bf2e": {
      "model_module": "@jupyter-widgets/controls",
      "model_module_version": "2.0.0",
      "model_name": "ProgressStyleModel",
      "state": {
       "description_width": ""
      }
     },
     "0809ce727be147f291ad2df95d60a23e": {
      "model_module": "@jupyter-widgets/controls",
      "model_module_version": "2.0.0",
      "model_name": "HTMLStyleModel",
      "state": {
       "description_width": "",
       "font_size": null,
       "text_color": null
      }
     },
     "089db85d71df4a1a9d22224b84366425": {
      "model_module": "@jupyter-widgets/base",
      "model_module_version": "2.0.0",
      "model_name": "LayoutModel",
      "state": {}
     },
     "08f0f2a8248b4001b0683006ac2d63c3": {
      "model_module": "@jupyter-widgets/controls",
      "model_module_version": "2.0.0",
      "model_name": "HTMLModel",
      "state": {
       "layout": "IPY_MODEL_7ff6350cbb594fd1b057bdf5744f9295",
       "style": "IPY_MODEL_fdd6c63ff4604c1ca79db4817680dfe7",
       "value": " 200/200 [00:15&lt;00:00,  7.76it/s]"
      }
     },
     "090f1a5c2df64f15bddb05b1db656f45": {
      "model_module": "@jupyter-widgets/controls",
      "model_module_version": "2.0.0",
      "model_name": "HBoxModel",
      "state": {
       "children": [
        "IPY_MODEL_1f73d92ed8d442fcbe3b226f058aab6c",
        "IPY_MODEL_5c603a9aff764d12b5c7da14b4981c5d",
        "IPY_MODEL_cc7fdbe772ee43c6b4f4ac38ad78f506"
       ],
       "layout": "IPY_MODEL_8e3229bb4f9546ddbc1db9c0f94ec6c3"
      }
     },
     "0a5c2af0e9ab4ae0945b9efa8a86bc22": {
      "model_module": "@jupyter-widgets/controls",
      "model_module_version": "2.0.0",
      "model_name": "HTMLModel",
      "state": {
       "layout": "IPY_MODEL_32133321009945b18b85b3eaa59519d3",
       "style": "IPY_MODEL_9e260f3b995f41c1970621993e5a0a86",
       "value": "100%"
      }
     },
     "0aa6bec36e2844a4a2b8ce85a31cd09f": {
      "model_module": "@jupyter-widgets/base",
      "model_module_version": "2.0.0",
      "model_name": "LayoutModel",
      "state": {}
     },
     "0bd98abdcade433b9e275dd9976a9efa": {
      "model_module": "@jupyter-widgets/controls",
      "model_module_version": "2.0.0",
      "model_name": "ProgressStyleModel",
      "state": {
       "description_width": ""
      }
     },
     "0cfe7fff1f2a43df9dc2925300fbb395": {
      "model_module": "@jupyter-widgets/base",
      "model_module_version": "2.0.0",
      "model_name": "LayoutModel",
      "state": {}
     },
     "0d6a2ff33000460696f2a443c5f397f0": {
      "model_module": "@jupyter-widgets/controls",
      "model_module_version": "2.0.0",
      "model_name": "HTMLStyleModel",
      "state": {
       "description_width": "",
       "font_size": null,
       "text_color": null
      }
     },
     "0e652c05f8e94f0ca5975ba30615201c": {
      "model_module": "@jupyter-widgets/controls",
      "model_module_version": "2.0.0",
      "model_name": "HTMLStyleModel",
      "state": {
       "description_width": "",
       "font_size": null,
       "text_color": null
      }
     },
     "0eef5f740bd04ac3bd2400d6665e2b88": {
      "model_module": "@jupyter-widgets/controls",
      "model_module_version": "2.0.0",
      "model_name": "FloatProgressModel",
      "state": {
       "bar_style": "danger",
       "layout": "IPY_MODEL_5f73afa1f4864c79980f032cbd4aa3b9",
       "max": 200,
       "style": "IPY_MODEL_d17061806f314e458ccec00177dbd3e2"
      }
     },
     "0ef964bd32a1400ea658b4db93b3729e": {
      "model_module": "@jupyter-widgets/base",
      "model_module_version": "2.0.0",
      "model_name": "LayoutModel",
      "state": {}
     },
     "0f3782e540034720a5265c7cef73be10": {
      "model_module": "@jupyter-widgets/controls",
      "model_module_version": "2.0.0",
      "model_name": "HTMLModel",
      "state": {
       "layout": "IPY_MODEL_c0f809eac0e346f491c6ae6e4537e780",
       "style": "IPY_MODEL_a35a92fa8753465c9909ff0602043f4e",
       "value": " 200/200 [00:13&lt;00:00, 10.99it/s]"
      }
     },
     "10334313fb08449ebeb4f9fcead8d983": {
      "model_module": "@jupyter-widgets/controls",
      "model_module_version": "2.0.0",
      "model_name": "HTMLStyleModel",
      "state": {
       "description_width": "",
       "font_size": null,
       "text_color": null
      }
     },
     "105d8802fb03451c9bb9d4a3e0810ffd": {
      "model_module": "@jupyter-widgets/base",
      "model_module_version": "2.0.0",
      "model_name": "LayoutModel",
      "state": {}
     },
     "108699b8bb884b40aa32f591d31281fe": {
      "model_module": "@jupyter-widgets/controls",
      "model_module_version": "2.0.0",
      "model_name": "HTMLModel",
      "state": {
       "layout": "IPY_MODEL_6580dac2762245d39bfcbe1fb1403e2c",
       "style": "IPY_MODEL_5cdb03bac32d485199f41ac2573c4e34",
       "value": " 200/200 [00:46&lt;00:00,  3.58it/s]"
      }
     },
     "1195c6599027429ca2de72c2bb51e553": {
      "model_module": "@jupyter-widgets/controls",
      "model_module_version": "2.0.0",
      "model_name": "HTMLStyleModel",
      "state": {
       "description_width": "",
       "font_size": null,
       "text_color": null
      }
     },
     "11fe228e5907456f8c4db67e5383114f": {
      "model_module": "@jupyter-widgets/controls",
      "model_module_version": "2.0.0",
      "model_name": "HTMLStyleModel",
      "state": {
       "description_width": "",
       "font_size": null,
       "text_color": null
      }
     },
     "1204f1ca2c594b71bb81f965fd5d8217": {
      "model_module": "@jupyter-widgets/controls",
      "model_module_version": "2.0.0",
      "model_name": "HTMLStyleModel",
      "state": {
       "description_width": "",
       "font_size": null,
       "text_color": null
      }
     },
     "126b74d26e2c47e9a85de57ba1c4d09b": {
      "model_module": "@jupyter-widgets/controls",
      "model_module_version": "2.0.0",
      "model_name": "FloatProgressModel",
      "state": {
       "bar_style": "success",
       "layout": "IPY_MODEL_7122aa38c2ce499d88340cf3495d8b29",
       "max": 200,
       "style": "IPY_MODEL_9fb4fd0e06754374b2acbe78e9ea9b6c",
       "value": 200
      }
     },
     "12f76e41af6c4899b372672d910919a1": {
      "model_module": "@jupyter-widgets/controls",
      "model_module_version": "2.0.0",
      "model_name": "HTMLModel",
      "state": {
       "layout": "IPY_MODEL_ecefbaa9ccb341949fb37fc4aeefe3d3",
       "style": "IPY_MODEL_dd75912ba48e4f13ae5e755573277bbd",
       "value": " 200/200 [03:17&lt;00:00,  1.76s/it]"
      }
     },
     "1366907e74d14567a023ec9a51630034": {
      "model_module": "@jupyter-widgets/base",
      "model_module_version": "2.0.0",
      "model_name": "LayoutModel",
      "state": {}
     },
     "1465a72e89ba48aea5348619c361638b": {
      "model_module": "@jupyter-widgets/base",
      "model_module_version": "2.0.0",
      "model_name": "LayoutModel",
      "state": {}
     },
     "1513bc545f3e4d19a935e6b2ebb93af7": {
      "model_module": "@jupyter-widgets/controls",
      "model_module_version": "2.0.0",
      "model_name": "HBoxModel",
      "state": {
       "children": [
        "IPY_MODEL_cbc0e425ad76478596b66faefeb39ead",
        "IPY_MODEL_3222a9db28894a03a08b6b5e5f1617b5",
        "IPY_MODEL_8752a0e1dadc4bb394822527ca2c1b65"
       ],
       "layout": "IPY_MODEL_61a046da1dd74126a8d67218bf3b4db3"
      }
     },
     "1562f4a4862a48acb370d3cd77c45537": {
      "model_module": "@jupyter-widgets/controls",
      "model_module_version": "2.0.0",
      "model_name": "HTMLModel",
      "state": {
       "layout": "IPY_MODEL_8a0402e3d3584b48b30c82b37d59bc24",
       "style": "IPY_MODEL_f6069b81bede49b7a286380cb092d750",
       "value": "100%"
      }
     },
     "17a0624047324add9c64d74e0342db41": {
      "model_module": "@jupyter-widgets/base",
      "model_module_version": "2.0.0",
      "model_name": "LayoutModel",
      "state": {}
     },
     "18eea981be2d471eb65c8adf11c98c3b": {
      "model_module": "@jupyter-widgets/controls",
      "model_module_version": "2.0.0",
      "model_name": "HTMLModel",
      "state": {
       "layout": "IPY_MODEL_64842e5cb1e344318a8efbf9fc3c38e0",
       "style": "IPY_MODEL_774e3904a797405fb49e849117e22c5c",
       "value": "100%"
      }
     },
     "1909bffcad6c42659497fd81924f4572": {
      "model_module": "@jupyter-widgets/controls",
      "model_module_version": "2.0.0",
      "model_name": "FloatProgressModel",
      "state": {
       "bar_style": "success",
       "layout": "IPY_MODEL_93bfb7df27764067abcad18b0d88c3b1",
       "max": 200,
       "style": "IPY_MODEL_dc651af987b04f93851a25dc246fef91",
       "value": 200
      }
     },
     "1943cc1f6d6542199df9f7be85890a63": {
      "model_module": "@jupyter-widgets/base",
      "model_module_version": "2.0.0",
      "model_name": "LayoutModel",
      "state": {}
     },
     "19a971ebdcf6427eb4e59b174acd147c": {
      "model_module": "@jupyter-widgets/base",
      "model_module_version": "2.0.0",
      "model_name": "LayoutModel",
      "state": {}
     },
     "1a084e886ed8405b83678b2c68cb1788": {
      "model_module": "@jupyter-widgets/controls",
      "model_module_version": "2.0.0",
      "model_name": "HTMLModel",
      "state": {
       "layout": "IPY_MODEL_78657414065b4d5fbec8625b02660f67",
       "style": "IPY_MODEL_c72c20bb14fa4e80b3b2d5d75808bede",
       "value": " 200/200 [01:05&lt;00:00,  1.37it/s]"
      }
     },
     "1c3e9248921140608e15e566cdf6af40": {
      "model_module": "@jupyter-widgets/base",
      "model_module_version": "2.0.0",
      "model_name": "LayoutModel",
      "state": {}
     },
     "1c82e315887f46b68c83d7c278ccfba5": {
      "model_module": "@jupyter-widgets/base",
      "model_module_version": "2.0.0",
      "model_name": "LayoutModel",
      "state": {}
     },
     "1dd80dc73bb9489cbc3a03a889065b53": {
      "model_module": "@jupyter-widgets/controls",
      "model_module_version": "2.0.0",
      "model_name": "FloatProgressModel",
      "state": {
       "bar_style": "success",
       "layout": "IPY_MODEL_ab7dae90a35944c38ec3a8883b6ed39e",
       "max": 200,
       "style": "IPY_MODEL_9474fc15bd7b41f8ac7c224f3033d755",
       "value": 200
      }
     },
     "1e75c530bb744c599ac664f68fd9084c": {
      "model_module": "@jupyter-widgets/base",
      "model_module_version": "2.0.0",
      "model_name": "LayoutModel",
      "state": {}
     },
     "1ed1e407a8804bbca0c97fe8e27adeed": {
      "model_module": "@jupyter-widgets/controls",
      "model_module_version": "2.0.0",
      "model_name": "FloatProgressModel",
      "state": {
       "bar_style": "success",
       "layout": "IPY_MODEL_1e75c530bb744c599ac664f68fd9084c",
       "max": 200,
       "style": "IPY_MODEL_acedcc5cd76542b39c8f49f09304376b",
       "value": 200
      }
     },
     "1f6cb492f8514163a309b05e6d90feef": {
      "model_module": "@jupyter-widgets/controls",
      "model_module_version": "2.0.0",
      "model_name": "HTMLStyleModel",
      "state": {
       "description_width": "",
       "font_size": null,
       "text_color": null
      }
     },
     "1f73d92ed8d442fcbe3b226f058aab6c": {
      "model_module": "@jupyter-widgets/controls",
      "model_module_version": "2.0.0",
      "model_name": "HTMLModel",
      "state": {
       "layout": "IPY_MODEL_eef55ca306d9472a9bad306e1b4b0061",
       "style": "IPY_MODEL_cdb6d911ee6c4ff7a7104b652f6742b8",
       "value": "100%"
      }
     },
     "1fb53c9408fc4739ba97db60c8a7c249": {
      "model_module": "@jupyter-widgets/controls",
      "model_module_version": "2.0.0",
      "model_name": "HTMLModel",
      "state": {
       "layout": "IPY_MODEL_ca3193afe0c5450898ecc8a3fd9e6037",
       "style": "IPY_MODEL_f02c4683b7b2460a895f58e74f2b589a",
       "value": " 200/200 [00:55&lt;00:00,  2.35it/s]"
      }
     },
     "210ae980b4464f2f83a130bbcd080150": {
      "model_module": "@jupyter-widgets/base",
      "model_module_version": "2.0.0",
      "model_name": "LayoutModel",
      "state": {}
     },
     "21bb649fc33b4692920a5f76b95a5eee": {
      "model_module": "@jupyter-widgets/controls",
      "model_module_version": "2.0.0",
      "model_name": "HTMLStyleModel",
      "state": {
       "description_width": "",
       "font_size": null,
       "text_color": null
      }
     },
     "21de8a4950314299a34fca4afc2b4f98": {
      "model_module": "@jupyter-widgets/base",
      "model_module_version": "2.0.0",
      "model_name": "LayoutModel",
      "state": {}
     },
     "222f7dc2afb84ab8a17db3af9c4e8c54": {
      "model_module": "@jupyter-widgets/base",
      "model_module_version": "2.0.0",
      "model_name": "LayoutModel",
      "state": {}
     },
     "2306efc83a77459ea8124b0f000f3984": {
      "model_module": "@jupyter-widgets/base",
      "model_module_version": "2.0.0",
      "model_name": "LayoutModel",
      "state": {}
     },
     "23453c3c2f944685b7cc41687b5492f1": {
      "model_module": "@jupyter-widgets/base",
      "model_module_version": "2.0.0",
      "model_name": "LayoutModel",
      "state": {}
     },
     "235f0bf9fa1a461b9e1c7a2e761ab0d6": {
      "model_module": "@jupyter-widgets/base",
      "model_module_version": "2.0.0",
      "model_name": "LayoutModel",
      "state": {}
     },
     "2374772ba7c24fd291a56a38376e6686": {
      "model_module": "@jupyter-widgets/controls",
      "model_module_version": "2.0.0",
      "model_name": "HTMLModel",
      "state": {
       "layout": "IPY_MODEL_eb2d9b74684542bc96a2f1d7fa9793c1",
       "style": "IPY_MODEL_1195c6599027429ca2de72c2bb51e553",
       "value": " 200/200 [00:15&lt;00:00,  7.93it/s]"
      }
     },
     "24ac91ba6fed4df59f051715c4af165f": {
      "model_module": "@jupyter-widgets/controls",
      "model_module_version": "2.0.0",
      "model_name": "HTMLStyleModel",
      "state": {
       "description_width": "",
       "font_size": null,
       "text_color": null
      }
     },
     "24e2d4673c1841aca59ce4f4257107c4": {
      "model_module": "@jupyter-widgets/base",
      "model_module_version": "2.0.0",
      "model_name": "LayoutModel",
      "state": {}
     },
     "25d801ca01204b0094eedc24052df5b6": {
      "model_module": "@jupyter-widgets/controls",
      "model_module_version": "2.0.0",
      "model_name": "HBoxModel",
      "state": {
       "children": [
        "IPY_MODEL_c42d45ea207f4edf9f27655e253e8f63",
        "IPY_MODEL_df55ee7c355c419eb41372138090e87d",
        "IPY_MODEL_44126258744c4b62ab7b32b48fe7aa30"
       ],
       "layout": "IPY_MODEL_f0c6c704ece34bb1ab9d36ae59fe0559"
      }
     },
     "25f092f61e5240a9b762bb2956700353": {
      "model_module": "@jupyter-widgets/controls",
      "model_module_version": "2.0.0",
      "model_name": "HTMLModel",
      "state": {
       "layout": "IPY_MODEL_2306efc83a77459ea8124b0f000f3984",
       "style": "IPY_MODEL_06c3adbfbc0c403aa8bae4bc48efb6fe",
       "value": " 200/200 [00:19&lt;00:00,  6.32it/s]"
      }
     },
     "25f3886e75644a8f947c0a9a9bad509d": {
      "model_module": "@jupyter-widgets/controls",
      "model_module_version": "2.0.0",
      "model_name": "HTMLStyleModel",
      "state": {
       "description_width": "",
       "font_size": null,
       "text_color": null
      }
     },
     "26b5b5d596394a2f96a0e2af030ea6f6": {
      "model_module": "@jupyter-widgets/controls",
      "model_module_version": "2.0.0",
      "model_name": "HBoxModel",
      "state": {
       "children": [
        "IPY_MODEL_59d4157da98646029715a350915f1f80",
        "IPY_MODEL_5c8e311e73dc47dd9e4d9b68758ad86b",
        "IPY_MODEL_b8b641b75dee441db0df942bc299ec5b"
       ],
       "layout": "IPY_MODEL_1465a72e89ba48aea5348619c361638b"
      }
     },
     "26f5d25de1114cf582e4f036165e9d10": {
      "model_module": "@jupyter-widgets/base",
      "model_module_version": "2.0.0",
      "model_name": "LayoutModel",
      "state": {}
     },
     "27a5425aa5c649ce930a0346967bb710": {
      "model_module": "@jupyter-widgets/controls",
      "model_module_version": "2.0.0",
      "model_name": "HTMLModel",
      "state": {
       "layout": "IPY_MODEL_24e2d4673c1841aca59ce4f4257107c4",
       "style": "IPY_MODEL_cf12d2adbb3c4db5a37830a2d818d672",
       "value": "100%"
      }
     },
     "28430e71ffcf48fab0a086545567e265": {
      "model_module": "@jupyter-widgets/base",
      "model_module_version": "2.0.0",
      "model_name": "LayoutModel",
      "state": {}
     },
     "28969239983f4801bcb21a3b4baa8f0b": {
      "model_module": "@jupyter-widgets/controls",
      "model_module_version": "2.0.0",
      "model_name": "HTMLModel",
      "state": {
       "layout": "IPY_MODEL_3049a3984a204b34a5d7b17f433281c6",
       "style": "IPY_MODEL_dc6b4076d4334b4295cede2ecc49f433",
       "value": "100%"
      }
     },
     "28d2e1019e3041828778d04646149905": {
      "model_module": "@jupyter-widgets/base",
      "model_module_version": "2.0.0",
      "model_name": "LayoutModel",
      "state": {}
     },
     "2a5034a171d14608adcc23adc811f31f": {
      "model_module": "@jupyter-widgets/controls",
      "model_module_version": "2.0.0",
      "model_name": "HTMLModel",
      "state": {
       "layout": "IPY_MODEL_ea26ad5f230e45e6acec92e22bc40df1",
       "style": "IPY_MODEL_067bda1cf2684e6887bed88f6feab6c9",
       "value": " 200/200 [00:13&lt;00:00,  7.56it/s]"
      }
     },
     "2b7a3f76d4a9426cb62835e64e4e390f": {
      "model_module": "@jupyter-widgets/controls",
      "model_module_version": "2.0.0",
      "model_name": "HTMLModel",
      "state": {
       "layout": "IPY_MODEL_f6478cd0ef6049fea390b43efc8e5c00",
       "style": "IPY_MODEL_d36f7bb552d943fc825861aa10451889",
       "value": "100%"
      }
     },
     "2ba471b7a37e42e09292e8aeb1a81874": {
      "model_module": "@jupyter-widgets/base",
      "model_module_version": "2.0.0",
      "model_name": "LayoutModel",
      "state": {}
     },
     "2c6c8196693e4f378495e7b635f86350": {
      "model_module": "@jupyter-widgets/controls",
      "model_module_version": "2.0.0",
      "model_name": "HBoxModel",
      "state": {
       "children": [
        "IPY_MODEL_7f287765ab434a4f9d9031edc96b4c34",
        "IPY_MODEL_82c4b66d07574ef9a1d89d199e1ba983",
        "IPY_MODEL_5b7d1a7c5c7e465cae2242965e52b76e"
       ],
       "layout": "IPY_MODEL_7938e7fcc4b144b0b58759f8dd7f28aa"
      }
     },
     "2ca989f6ccbf4f948b108991db948ead": {
      "model_module": "@jupyter-widgets/base",
      "model_module_version": "2.0.0",
      "model_name": "LayoutModel",
      "state": {}
     },
     "2cb5e8219a044a318c4eb5053d783c91": {
      "model_module": "@jupyter-widgets/base",
      "model_module_version": "2.0.0",
      "model_name": "LayoutModel",
      "state": {}
     },
     "2cd078e82c0d43febcbdd94716a95888": {
      "model_module": "@jupyter-widgets/controls",
      "model_module_version": "2.0.0",
      "model_name": "FloatProgressModel",
      "state": {
       "bar_style": "success",
       "layout": "IPY_MODEL_6ec0afcf4c3f4b9c9f7b8e0f50d7060b",
       "max": 200,
       "style": "IPY_MODEL_323fb2f2efbd4ffabfcbbc38e77aadf9",
       "value": 200
      }
     },
     "2decbfeebadc4898a68b18c4da4c0c89": {
      "model_module": "@jupyter-widgets/controls",
      "model_module_version": "2.0.0",
      "model_name": "HTMLStyleModel",
      "state": {
       "description_width": "",
       "font_size": null,
       "text_color": null
      }
     },
     "2e29eaed25904af2b59b811f18091834": {
      "model_module": "@jupyter-widgets/base",
      "model_module_version": "2.0.0",
      "model_name": "LayoutModel",
      "state": {}
     },
     "2e68180bde0546bba2111e088d5c6045": {
      "model_module": "@jupyter-widgets/base",
      "model_module_version": "2.0.0",
      "model_name": "LayoutModel",
      "state": {}
     },
     "2fe26455834b4ab8ab6806ad4628e8bf": {
      "model_module": "@jupyter-widgets/controls",
      "model_module_version": "2.0.0",
      "model_name": "FloatProgressModel",
      "state": {
       "bar_style": "success",
       "layout": "IPY_MODEL_e2a282ef830643fa999beb87550f7b34",
       "max": 200,
       "style": "IPY_MODEL_c4e7ba9231bd420ba55e68310f08b83e",
       "value": 200
      }
     },
     "3049a3984a204b34a5d7b17f433281c6": {
      "model_module": "@jupyter-widgets/base",
      "model_module_version": "2.0.0",
      "model_name": "LayoutModel",
      "state": {}
     },
     "306d107087734f3aa75b71aaa42ab639": {
      "model_module": "@jupyter-widgets/controls",
      "model_module_version": "2.0.0",
      "model_name": "ProgressStyleModel",
      "state": {
       "description_width": ""
      }
     },
     "30707e0133224a8ea09619909fd3745c": {
      "model_module": "@jupyter-widgets/controls",
      "model_module_version": "2.0.0",
      "model_name": "HTMLStyleModel",
      "state": {
       "description_width": "",
       "font_size": null,
       "text_color": null
      }
     },
     "30e766afa4414ac4907e67dc6ee6e770": {
      "model_module": "@jupyter-widgets/controls",
      "model_module_version": "2.0.0",
      "model_name": "HTMLModel",
      "state": {
       "layout": "IPY_MODEL_a9853ebc3b0242f89dea67cf230d386a",
       "style": "IPY_MODEL_b60609929dba4048baa3596923231231",
       "value": " 200/200 [02:46&lt;00:00,  1.58s/it]"
      }
     },
     "30eea0ed5e164152bfa28aa26c9f4c31": {
      "model_module": "@jupyter-widgets/controls",
      "model_module_version": "2.0.0",
      "model_name": "ProgressStyleModel",
      "state": {
       "description_width": ""
      }
     },
     "311f9691da14404f8522575c61683fd6": {
      "model_module": "@jupyter-widgets/base",
      "model_module_version": "2.0.0",
      "model_name": "LayoutModel",
      "state": {}
     },
     "3192c006780d46979cc7e70e524dde28": {
      "model_module": "@jupyter-widgets/controls",
      "model_module_version": "2.0.0",
      "model_name": "FloatProgressModel",
      "state": {
       "bar_style": "danger",
       "layout": "IPY_MODEL_210ae980b4464f2f83a130bbcd080150",
       "max": 200,
       "style": "IPY_MODEL_e8b3977a2fc14720996e7fb2cc69bfae"
      }
     },
     "32133321009945b18b85b3eaa59519d3": {
      "model_module": "@jupyter-widgets/base",
      "model_module_version": "2.0.0",
      "model_name": "LayoutModel",
      "state": {}
     },
     "3222a9db28894a03a08b6b5e5f1617b5": {
      "model_module": "@jupyter-widgets/controls",
      "model_module_version": "2.0.0",
      "model_name": "FloatProgressModel",
      "state": {
       "bar_style": "danger",
       "layout": "IPY_MODEL_54c49d6aa3a94fd8ada19b0cc4c57895",
       "max": 200,
       "style": "IPY_MODEL_3a447630c3754ec791f60d6475a680b5"
      }
     },
     "323fb2f2efbd4ffabfcbbc38e77aadf9": {
      "model_module": "@jupyter-widgets/controls",
      "model_module_version": "2.0.0",
      "model_name": "ProgressStyleModel",
      "state": {
       "description_width": ""
      }
     },
     "3245f0bb09674637a5fb9103c1cb5e27": {
      "model_module": "@jupyter-widgets/controls",
      "model_module_version": "2.0.0",
      "model_name": "HTMLModel",
      "state": {
       "layout": "IPY_MODEL_0062956266b04f5dae585ff4a893479b",
       "style": "IPY_MODEL_9609ea53f44e4fd296803efab6dad8ea",
       "value": "100%"
      }
     },
     "32c0d84b2e5a429bb89cc59a1598c8db": {
      "model_module": "@jupyter-widgets/controls",
      "model_module_version": "2.0.0",
      "model_name": "HTMLModel",
      "state": {
       "layout": "IPY_MODEL_c69f7bee385841209c28e4681a18480e",
       "style": "IPY_MODEL_2decbfeebadc4898a68b18c4da4c0c89",
       "value": " 200/200 [00:13&lt;00:00, 10.47it/s]"
      }
     },
     "33fbf3d472574fa69a54a67c2512e690": {
      "model_module": "@jupyter-widgets/controls",
      "model_module_version": "2.0.0",
      "model_name": "HTMLModel",
      "state": {
       "layout": "IPY_MODEL_957cc91ee4da419b9691504e1d5ef9fd",
       "style": "IPY_MODEL_24ac91ba6fed4df59f051715c4af165f",
       "value": " 200/200 [00:07&lt;00:00, 28.43it/s]"
      }
     },
     "340acd1c26dc4f4da0ff1ce81c5212cd": {
      "model_module": "@jupyter-widgets/controls",
      "model_module_version": "2.0.0",
      "model_name": "HTMLStyleModel",
      "state": {
       "description_width": "",
       "font_size": null,
       "text_color": null
      }
     },
     "340f6c183f0e4c778ee87d9766f01490": {
      "model_module": "@jupyter-widgets/controls",
      "model_module_version": "2.0.0",
      "model_name": "HTMLModel",
      "state": {
       "layout": "IPY_MODEL_c89682d8e9834dc9ae30e42581cff276",
       "style": "IPY_MODEL_053d257dd4a64722b2092fea2c7963de",
       "value": "100%"
      }
     },
     "348c4462d38a4a8e92419d07e66b185d": {
      "model_module": "@jupyter-widgets/base",
      "model_module_version": "2.0.0",
      "model_name": "LayoutModel",
      "state": {}
     },
     "34b1c77f351f4cfeaaf43e4b02a68fc8": {
      "model_module": "@jupyter-widgets/base",
      "model_module_version": "2.0.0",
      "model_name": "LayoutModel",
      "state": {}
     },
     "3608e5a7a81d42bdac19016a829d0eb5": {
      "model_module": "@jupyter-widgets/controls",
      "model_module_version": "2.0.0",
      "model_name": "HBoxModel",
      "state": {
       "children": [
        "IPY_MODEL_d4acd1e1abb34218b825eba529cc3159",
        "IPY_MODEL_ba781762213a45bfa9b2959825a36f94",
        "IPY_MODEL_e081de76536c4a8e82e3c8fd2cc95f1b"
       ],
       "layout": "IPY_MODEL_5a16b5dc27cd403bbeace2ca1008785c"
      }
     },
     "386fc32745af48108db91d976a92db37": {
      "model_module": "@jupyter-widgets/base",
      "model_module_version": "2.0.0",
      "model_name": "LayoutModel",
      "state": {}
     },
     "395bec92b1b84c638ed92d8f8ceb7952": {
      "model_module": "@jupyter-widgets/controls",
      "model_module_version": "2.0.0",
      "model_name": "HBoxModel",
      "state": {
       "children": [
        "IPY_MODEL_27a5425aa5c649ce930a0346967bb710",
        "IPY_MODEL_4d1db8b3623d4dd0b997da56cfd5a1f9",
        "IPY_MODEL_60dbdf3d56ee481ba68cfdb9d9376ea3"
       ],
       "layout": "IPY_MODEL_e1b88339dc6c4677b446469889ccb248"
      }
     },
     "39c17b4a902e45c0992b7330347752dc": {
      "model_module": "@jupyter-widgets/controls",
      "model_module_version": "2.0.0",
      "model_name": "ProgressStyleModel",
      "state": {
       "description_width": ""
      }
     },
     "3a447630c3754ec791f60d6475a680b5": {
      "model_module": "@jupyter-widgets/controls",
      "model_module_version": "2.0.0",
      "model_name": "ProgressStyleModel",
      "state": {
       "description_width": ""
      }
     },
     "3a4bae9df32f4827badb5b143f7e9a60": {
      "model_module": "@jupyter-widgets/base",
      "model_module_version": "2.0.0",
      "model_name": "LayoutModel",
      "state": {}
     },
     "3a5629081eb340b085a3f715652c1dfd": {
      "model_module": "@jupyter-widgets/base",
      "model_module_version": "2.0.0",
      "model_name": "LayoutModel",
      "state": {}
     },
     "3ab464db4e924e32a889dbbecdcb6dda": {
      "model_module": "@jupyter-widgets/base",
      "model_module_version": "2.0.0",
      "model_name": "LayoutModel",
      "state": {}
     },
     "3cd9e456d9aa4dd9928c510065b2e9bd": {
      "model_module": "@jupyter-widgets/controls",
      "model_module_version": "2.0.0",
      "model_name": "FloatProgressModel",
      "state": {
       "bar_style": "success",
       "layout": "IPY_MODEL_3a4bae9df32f4827badb5b143f7e9a60",
       "max": 200,
       "style": "IPY_MODEL_d5915bb1830e4930bd8d3f353f3c2494",
       "value": 200
      }
     },
     "3d4622a6e19b44bb9234e831baf82765": {
      "model_module": "@jupyter-widgets/base",
      "model_module_version": "2.0.0",
      "model_name": "LayoutModel",
      "state": {}
     },
     "3d977ef6fc524928b0c8d048fa734eee": {
      "model_module": "@jupyter-widgets/controls",
      "model_module_version": "2.0.0",
      "model_name": "FloatProgressModel",
      "state": {
       "bar_style": "success",
       "layout": "IPY_MODEL_87a2bf223ce84bf888ede25d47a30b62",
       "max": 200,
       "style": "IPY_MODEL_5800d07f2ee745258155e96088df6453",
       "value": 200
      }
     },
     "3de2e8c755184e6a974b1b80ab81fd53": {
      "model_module": "@jupyter-widgets/controls",
      "model_module_version": "2.0.0",
      "model_name": "HTMLModel",
      "state": {
       "layout": "IPY_MODEL_809950cce15742afb2b6bbe3eb2c3af0",
       "style": "IPY_MODEL_5c5a77724f6a411db476e359fa40360b",
       "value": "  0%"
      }
     },
     "3de35b3e3cd149f8a0bfd7a3d4abfc1e": {
      "model_module": "@jupyter-widgets/base",
      "model_module_version": "2.0.0",
      "model_name": "LayoutModel",
      "state": {}
     },
     "3e1bc547eedf433db47fad8bb7cff8bd": {
      "model_module": "@jupyter-widgets/base",
      "model_module_version": "2.0.0",
      "model_name": "LayoutModel",
      "state": {}
     },
     "3fa555eb353543a5bd3f155dd1323c7e": {
      "model_module": "@jupyter-widgets/base",
      "model_module_version": "2.0.0",
      "model_name": "LayoutModel",
      "state": {}
     },
     "3ffe49117f55474584f6d5dd5ab58e1c": {
      "model_module": "@jupyter-widgets/controls",
      "model_module_version": "2.0.0",
      "model_name": "HTMLStyleModel",
      "state": {
       "description_width": "",
       "font_size": null,
       "text_color": null
      }
     },
     "402682cde76f4b7fb0971cf20cc3d2f1": {
      "model_module": "@jupyter-widgets/controls",
      "model_module_version": "2.0.0",
      "model_name": "HTMLStyleModel",
      "state": {
       "description_width": "",
       "font_size": null,
       "text_color": null
      }
     },
     "41a8a7c337724c02a365bebc4caafdb5": {
      "model_module": "@jupyter-widgets/controls",
      "model_module_version": "2.0.0",
      "model_name": "FloatProgressModel",
      "state": {
       "bar_style": "success",
       "layout": "IPY_MODEL_7fa6a556a09443df8604c0a17a086dd5",
       "max": 200,
       "style": "IPY_MODEL_cf1a6c9111dd4c5f95dd41dc63c13228",
       "value": 200
      }
     },
     "42a9e5c117634186b60f7e362fd2bf2f": {
      "model_module": "@jupyter-widgets/base",
      "model_module_version": "2.0.0",
      "model_name": "LayoutModel",
      "state": {}
     },
     "44126258744c4b62ab7b32b48fe7aa30": {
      "model_module": "@jupyter-widgets/controls",
      "model_module_version": "2.0.0",
      "model_name": "HTMLModel",
      "state": {
       "layout": "IPY_MODEL_1c3e9248921140608e15e566cdf6af40",
       "style": "IPY_MODEL_78af99842ad44723bd4bc21f81df4d2c",
       "value": " 200/200 [03:05&lt;00:00,  1.96s/it]"
      }
     },
     "4494625b494646b79b1e57db3c32a7fb": {
      "model_module": "@jupyter-widgets/controls",
      "model_module_version": "2.0.0",
      "model_name": "HBoxModel",
      "state": {
       "children": [
        "IPY_MODEL_c1bad62fc49b4a068f0b9d2f7b628407",
        "IPY_MODEL_ab502988cc164061b53f52e084da15cb",
        "IPY_MODEL_fdd2e7f203ca47da85c764d8384cc39d"
       ],
       "layout": "IPY_MODEL_2cb5e8219a044a318c4eb5053d783c91"
      }
     },
     "44cdafa381d2405aa3e4cb8e35744399": {
      "model_module": "@jupyter-widgets/controls",
      "model_module_version": "2.0.0",
      "model_name": "HBoxModel",
      "state": {
       "children": [
        "IPY_MODEL_924c3a36780144e6bf549c2d4fa83c94",
        "IPY_MODEL_64ccc52a5e0242b79847da894e6fcdff",
        "IPY_MODEL_95ab8349aa6f41158861cde4ee671427"
       ],
       "layout": "IPY_MODEL_6938a82baa1d406e868f080854c6a2f0"
      }
     },
     "47925f948dde4d348abf439432d4d32f": {
      "model_module": "@jupyter-widgets/controls",
      "model_module_version": "2.0.0",
      "model_name": "HTMLStyleModel",
      "state": {
       "description_width": "",
       "font_size": null,
       "text_color": null
      }
     },
     "486335ed28014acb82a6cf72050e9ece": {
      "model_module": "@jupyter-widgets/controls",
      "model_module_version": "2.0.0",
      "model_name": "ProgressStyleModel",
      "state": {
       "description_width": ""
      }
     },
     "49677d54a3704fc8b1ab9acfb23ae346": {
      "model_module": "@jupyter-widgets/controls",
      "model_module_version": "2.0.0",
      "model_name": "HTMLStyleModel",
      "state": {
       "description_width": "",
       "font_size": null,
       "text_color": null
      }
     },
     "4a3f390c5b1646de9a81198f1e064984": {
      "model_module": "@jupyter-widgets/controls",
      "model_module_version": "2.0.0",
      "model_name": "HTMLStyleModel",
      "state": {
       "description_width": "",
       "font_size": null,
       "text_color": null
      }
     },
     "4b6649f6ad29486c9751d32c2ebb78cc": {
      "model_module": "@jupyter-widgets/controls",
      "model_module_version": "2.0.0",
      "model_name": "HBoxModel",
      "state": {
       "children": [
        "IPY_MODEL_bfd17977db844b3ea262a6f5b6e31b3a",
        "IPY_MODEL_c0591170d9cc4f7f953af9cc9138ffee",
        "IPY_MODEL_99ffaea9cd32483faab85ff46840545d"
       ],
       "layout": "IPY_MODEL_1c82e315887f46b68c83d7c278ccfba5"
      }
     },
     "4d1db8b3623d4dd0b997da56cfd5a1f9": {
      "model_module": "@jupyter-widgets/controls",
      "model_module_version": "2.0.0",
      "model_name": "FloatProgressModel",
      "state": {
       "bar_style": "success",
       "layout": "IPY_MODEL_3d4622a6e19b44bb9234e831baf82765",
       "max": 200,
       "style": "IPY_MODEL_0bd98abdcade433b9e275dd9976a9efa",
       "value": 200
      }
     },
     "4d2109278160475aad9d3310e6f315b0": {
      "model_module": "@jupyter-widgets/controls",
      "model_module_version": "2.0.0",
      "model_name": "HTMLStyleModel",
      "state": {
       "description_width": "",
       "font_size": null,
       "text_color": null
      }
     },
     "4d393fc2662e40aabe9c396dd23ffec0": {
      "model_module": "@jupyter-widgets/base",
      "model_module_version": "2.0.0",
      "model_name": "LayoutModel",
      "state": {}
     },
     "4dec8eacf6614acb9a2a8baf9d122fe7": {
      "model_module": "@jupyter-widgets/controls",
      "model_module_version": "2.0.0",
      "model_name": "FloatProgressModel",
      "state": {
       "bar_style": "success",
       "layout": "IPY_MODEL_87a77b0ca118426a84b7cdb32d0b9f1f",
       "max": 200,
       "style": "IPY_MODEL_306d107087734f3aa75b71aaa42ab639",
       "value": 200
      }
     },
     "4e3d4cd0562444a3bbdfe57739bfc145": {
      "model_module": "@jupyter-widgets/controls",
      "model_module_version": "2.0.0",
      "model_name": "HTMLModel",
      "state": {
       "layout": "IPY_MODEL_ba5f1dc192e245839a22ecec27edc8d8",
       "style": "IPY_MODEL_402682cde76f4b7fb0971cf20cc3d2f1",
       "value": " 200/200 [00:14&lt;00:00,  8.83it/s]"
      }
     },
     "4e456139035040af90b742e9e256e3e3": {
      "model_module": "@jupyter-widgets/base",
      "model_module_version": "2.0.0",
      "model_name": "LayoutModel",
      "state": {}
     },
     "4e4e0b9b6d19484fb13a1521721f00ce": {
      "model_module": "@jupyter-widgets/controls",
      "model_module_version": "2.0.0",
      "model_name": "HTMLModel",
      "state": {
       "layout": "IPY_MODEL_9385b548f1df4a108d30ce1b7e6a7d71",
       "style": "IPY_MODEL_3ffe49117f55474584f6d5dd5ab58e1c",
       "value": "100%"
      }
     },
     "4fd94215ee7a41dd9b1c6a142bcb4724": {
      "model_module": "@jupyter-widgets/controls",
      "model_module_version": "2.0.0",
      "model_name": "HBoxModel",
      "state": {
       "children": [
        "IPY_MODEL_4e4e0b9b6d19484fb13a1521721f00ce",
        "IPY_MODEL_2cd078e82c0d43febcbdd94716a95888",
        "IPY_MODEL_33fbf3d472574fa69a54a67c2512e690"
       ],
       "layout": "IPY_MODEL_1943cc1f6d6542199df9f7be85890a63"
      }
     },
     "50dd715b9aad4c7b8d8ce12138286726": {
      "model_module": "@jupyter-widgets/base",
      "model_module_version": "2.0.0",
      "model_name": "LayoutModel",
      "state": {}
     },
     "53d91d4a5b8648b3b534d349420f7c7b": {
      "model_module": "@jupyter-widgets/controls",
      "model_module_version": "2.0.0",
      "model_name": "HTMLModel",
      "state": {
       "layout": "IPY_MODEL_be2e7849c9da41f095ebe1bb34034c92",
       "style": "IPY_MODEL_4d2109278160475aad9d3310e6f315b0",
       "value": "100%"
      }
     },
     "54c49d6aa3a94fd8ada19b0cc4c57895": {
      "model_module": "@jupyter-widgets/base",
      "model_module_version": "2.0.0",
      "model_name": "LayoutModel",
      "state": {}
     },
     "55f5693bc38f47a6bff32a1623727e30": {
      "model_module": "@jupyter-widgets/controls",
      "model_module_version": "2.0.0",
      "model_name": "FloatProgressModel",
      "state": {
       "bar_style": "success",
       "layout": "IPY_MODEL_235f0bf9fa1a461b9e1c7a2e761ab0d6",
       "max": 200,
       "style": "IPY_MODEL_30eea0ed5e164152bfa28aa26c9f4c31",
       "value": 200
      }
     },
     "57a295b98976487d858885114ed863bb": {
      "model_module": "@jupyter-widgets/controls",
      "model_module_version": "2.0.0",
      "model_name": "HBoxModel",
      "state": {
       "children": [
        "IPY_MODEL_3de2e8c755184e6a974b1b80ab81fd53",
        "IPY_MODEL_3192c006780d46979cc7e70e524dde28",
        "IPY_MODEL_af7256bc3acc4fcc91cc1ac7dfcdb82b"
       ],
       "layout": "IPY_MODEL_3ab464db4e924e32a889dbbecdcb6dda"
      }
     },
     "5800d07f2ee745258155e96088df6453": {
      "model_module": "@jupyter-widgets/controls",
      "model_module_version": "2.0.0",
      "model_name": "ProgressStyleModel",
      "state": {
       "description_width": ""
      }
     },
     "59ca154bd8b74de7bfee385a141666b5": {
      "model_module": "@jupyter-widgets/controls",
      "model_module_version": "2.0.0",
      "model_name": "HTMLModel",
      "state": {
       "layout": "IPY_MODEL_28430e71ffcf48fab0a086545567e265",
       "style": "IPY_MODEL_5ced29c18fa54ef6b891d2aa7a731d2d",
       "value": " 200/200 [00:14&lt;00:00,  8.04it/s]"
      }
     },
     "59d4157da98646029715a350915f1f80": {
      "model_module": "@jupyter-widgets/controls",
      "model_module_version": "2.0.0",
      "model_name": "HTMLModel",
      "state": {
       "layout": "IPY_MODEL_0aa6bec36e2844a4a2b8ce85a31cd09f",
       "style": "IPY_MODEL_a3be65e70a224385ac6d3555c245bfa2",
       "value": "100%"
      }
     },
     "5a16b5dc27cd403bbeace2ca1008785c": {
      "model_module": "@jupyter-widgets/base",
      "model_module_version": "2.0.0",
      "model_name": "LayoutModel",
      "state": {}
     },
     "5b75858c9bbd4cbe9d89cb9e93c7d1da": {
      "model_module": "@jupyter-widgets/controls",
      "model_module_version": "2.0.0",
      "model_name": "HBoxModel",
      "state": {
       "children": [
        "IPY_MODEL_1562f4a4862a48acb370d3cd77c45537",
        "IPY_MODEL_913cfcfa3e724494b7a0c6c5ffa35cc7",
        "IPY_MODEL_9d4875ba095640279f5b21e7ada84a55"
       ],
       "layout": "IPY_MODEL_ed5e5a7cd7804c3e9550da5e84e29c88"
      }
     },
     "5b7d1a7c5c7e465cae2242965e52b76e": {
      "model_module": "@jupyter-widgets/controls",
      "model_module_version": "2.0.0",
      "model_name": "HTMLModel",
      "state": {
       "layout": "IPY_MODEL_abec113bf47b44269fc5820b627580d4",
       "style": "IPY_MODEL_0809ce727be147f291ad2df95d60a23e",
       "value": " 200/200 [00:41&lt;00:00,  2.69it/s]"
      }
     },
     "5c051e17f52a415ca05fd716cf21ed52": {
      "model_module": "@jupyter-widgets/base",
      "model_module_version": "2.0.0",
      "model_name": "LayoutModel",
      "state": {}
     },
     "5c4f9e92699e413ab64eb40b5b9314b0": {
      "model_module": "@jupyter-widgets/controls",
      "model_module_version": "2.0.0",
      "model_name": "HTMLModel",
      "state": {
       "layout": "IPY_MODEL_beeeb517e3cb4e55bc8b04798643e10b",
       "style": "IPY_MODEL_4a3f390c5b1646de9a81198f1e064984",
       "value": "100%"
      }
     },
     "5c5a77724f6a411db476e359fa40360b": {
      "model_module": "@jupyter-widgets/controls",
      "model_module_version": "2.0.0",
      "model_name": "HTMLStyleModel",
      "state": {
       "description_width": "",
       "font_size": null,
       "text_color": null
      }
     },
     "5c603a9aff764d12b5c7da14b4981c5d": {
      "model_module": "@jupyter-widgets/controls",
      "model_module_version": "2.0.0",
      "model_name": "FloatProgressModel",
      "state": {
       "bar_style": "success",
       "layout": "IPY_MODEL_845985dfbd4841b7865e59695ae76aa8",
       "max": 200,
       "style": "IPY_MODEL_f3496aaeecfd45308aeedee584f6c8c3",
       "value": 200
      }
     },
     "5c8e311e73dc47dd9e4d9b68758ad86b": {
      "model_module": "@jupyter-widgets/controls",
      "model_module_version": "2.0.0",
      "model_name": "FloatProgressModel",
      "state": {
       "bar_style": "success",
       "layout": "IPY_MODEL_d166d42e208a4a27b7453f524db8fb1d",
       "max": 200,
       "style": "IPY_MODEL_f7884d96da304e60aaa60c70b1694a58",
       "value": 200
      }
     },
     "5cdb03bac32d485199f41ac2573c4e34": {
      "model_module": "@jupyter-widgets/controls",
      "model_module_version": "2.0.0",
      "model_name": "HTMLStyleModel",
      "state": {
       "description_width": "",
       "font_size": null,
       "text_color": null
      }
     },
     "5ced29c18fa54ef6b891d2aa7a731d2d": {
      "model_module": "@jupyter-widgets/controls",
      "model_module_version": "2.0.0",
      "model_name": "HTMLStyleModel",
      "state": {
       "description_width": "",
       "font_size": null,
       "text_color": null
      }
     },
     "5db494f5e7c74d4c9e47f6a16d1ca61c": {
      "model_module": "@jupyter-widgets/controls",
      "model_module_version": "2.0.0",
      "model_name": "ProgressStyleModel",
      "state": {
       "description_width": ""
      }
     },
     "5f73afa1f4864c79980f032cbd4aa3b9": {
      "model_module": "@jupyter-widgets/base",
      "model_module_version": "2.0.0",
      "model_name": "LayoutModel",
      "state": {}
     },
     "60dbdf3d56ee481ba68cfdb9d9376ea3": {
      "model_module": "@jupyter-widgets/controls",
      "model_module_version": "2.0.0",
      "model_name": "HTMLModel",
      "state": {
       "layout": "IPY_MODEL_fc90eed748ec4c8094aecf0b5a2bee7f",
       "style": "IPY_MODEL_47925f948dde4d348abf439432d4d32f",
       "value": " 200/200 [00:06&lt;00:00, 29.54it/s]"
      }
     },
     "61a046da1dd74126a8d67218bf3b4db3": {
      "model_module": "@jupyter-widgets/base",
      "model_module_version": "2.0.0",
      "model_name": "LayoutModel",
      "state": {}
     },
     "64842e5cb1e344318a8efbf9fc3c38e0": {
      "model_module": "@jupyter-widgets/base",
      "model_module_version": "2.0.0",
      "model_name": "LayoutModel",
      "state": {}
     },
     "64ccc52a5e0242b79847da894e6fcdff": {
      "model_module": "@jupyter-widgets/controls",
      "model_module_version": "2.0.0",
      "model_name": "FloatProgressModel",
      "state": {
       "bar_style": "success",
       "layout": "IPY_MODEL_6a97e9fa41394520a3cf2bd8a73978c5",
       "max": 200,
       "style": "IPY_MODEL_f9510fe2e8d043e2828a139bf85662ac",
       "value": 200
      }
     },
     "6580dac2762245d39bfcbe1fb1403e2c": {
      "model_module": "@jupyter-widgets/base",
      "model_module_version": "2.0.0",
      "model_name": "LayoutModel",
      "state": {}
     },
     "66ee957927e041c99bee48514d1a1aa8": {
      "model_module": "@jupyter-widgets/base",
      "model_module_version": "2.0.0",
      "model_name": "LayoutModel",
      "state": {}
     },
     "6782390e45ba4a03a07c880aeb19d69f": {
      "model_module": "@jupyter-widgets/controls",
      "model_module_version": "2.0.0",
      "model_name": "HTMLStyleModel",
      "state": {
       "description_width": "",
       "font_size": null,
       "text_color": null
      }
     },
     "67e7ca1e94b5424b969b1fa5a88f2055": {
      "model_module": "@jupyter-widgets/controls",
      "model_module_version": "2.0.0",
      "model_name": "HBoxModel",
      "state": {
       "children": [
        "IPY_MODEL_f02ee0e7826a40d485d2576e4609c6bc",
        "IPY_MODEL_a3eaf1e9519845ea8467bdeb35f33b50",
        "IPY_MODEL_d99c4ae3fb6c42fcb716de3f56500596"
       ],
       "layout": "IPY_MODEL_2ca989f6ccbf4f948b108991db948ead"
      }
     },
     "6901cbb94118489b82b0b129423bb470": {
      "model_module": "@jupyter-widgets/controls",
      "model_module_version": "2.0.0",
      "model_name": "HTMLStyleModel",
      "state": {
       "description_width": "",
       "font_size": null,
       "text_color": null
      }
     },
     "6920a5b6332842baa4da228bde0c4b68": {
      "model_module": "@jupyter-widgets/controls",
      "model_module_version": "2.0.0",
      "model_name": "HTMLModel",
      "state": {
       "layout": "IPY_MODEL_c5cd7a0ff8e34e5c9380630dae531077",
       "style": "IPY_MODEL_49677d54a3704fc8b1ab9acfb23ae346",
       "value": " 200/200 [00:13&lt;00:00, 10.76it/s]"
      }
     },
     "6938a82baa1d406e868f080854c6a2f0": {
      "model_module": "@jupyter-widgets/base",
      "model_module_version": "2.0.0",
      "model_name": "LayoutModel",
      "state": {}
     },
     "69ace789129b403fa55d2d0f6ffe0687": {
      "model_module": "@jupyter-widgets/controls",
      "model_module_version": "2.0.0",
      "model_name": "FloatProgressModel",
      "state": {
       "bar_style": "success",
       "layout": "IPY_MODEL_66ee957927e041c99bee48514d1a1aa8",
       "max": 200,
       "style": "IPY_MODEL_7c0a731e09e5494f8c7b0e45ed35f9a3",
       "value": 200
      }
     },
     "6a8cd43a39724713a94d9c98cf48ef34": {
      "model_module": "@jupyter-widgets/base",
      "model_module_version": "2.0.0",
      "model_name": "LayoutModel",
      "state": {}
     },
     "6a97e9fa41394520a3cf2bd8a73978c5": {
      "model_module": "@jupyter-widgets/base",
      "model_module_version": "2.0.0",
      "model_name": "LayoutModel",
      "state": {}
     },
     "6ab1a49290f04094b9efe6fc00187045": {
      "model_module": "@jupyter-widgets/controls",
      "model_module_version": "2.0.0",
      "model_name": "HTMLModel",
      "state": {
       "layout": "IPY_MODEL_b4636572fc394d31a759c32499cdbe13",
       "style": "IPY_MODEL_a050736b11f94980aecbf922584e7cac",
       "value": "100%"
      }
     },
     "6bcec42be642476ea5b44c28277a0d60": {
      "model_module": "@jupyter-widgets/controls",
      "model_module_version": "2.0.0",
      "model_name": "HTMLModel",
      "state": {
       "layout": "IPY_MODEL_3a5629081eb340b085a3f715652c1dfd",
       "style": "IPY_MODEL_005cf86e7a83418e815a8abda3e575e8",
       "value": "100%"
      }
     },
     "6c353d959d5f4202a9059338ccc08fa1": {
      "model_module": "@jupyter-widgets/base",
      "model_module_version": "2.0.0",
      "model_name": "LayoutModel",
      "state": {}
     },
     "6df817e6e440419084790921aa28b39a": {
      "model_module": "@jupyter-widgets/base",
      "model_module_version": "2.0.0",
      "model_name": "LayoutModel",
      "state": {}
     },
     "6ec0afcf4c3f4b9c9f7b8e0f50d7060b": {
      "model_module": "@jupyter-widgets/base",
      "model_module_version": "2.0.0",
      "model_name": "LayoutModel",
      "state": {}
     },
     "6fba204ea3fd476b8f48fdf79f1af695": {
      "model_module": "@jupyter-widgets/base",
      "model_module_version": "2.0.0",
      "model_name": "LayoutModel",
      "state": {}
     },
     "7004ff67aa1641cfbffcddd55b5d89e2": {
      "model_module": "@jupyter-widgets/controls",
      "model_module_version": "2.0.0",
      "model_name": "HTMLStyleModel",
      "state": {
       "description_width": "",
       "font_size": null,
       "text_color": null
      }
     },
     "7122aa38c2ce499d88340cf3495d8b29": {
      "model_module": "@jupyter-widgets/base",
      "model_module_version": "2.0.0",
      "model_name": "LayoutModel",
      "state": {}
     },
     "7123bf78edd045629910a62142093991": {
      "model_module": "@jupyter-widgets/controls",
      "model_module_version": "2.0.0",
      "model_name": "HTMLStyleModel",
      "state": {
       "description_width": "",
       "font_size": null,
       "text_color": null
      }
     },
     "738a61df1eee4fd380c5f5b2cdc5e849": {
      "model_module": "@jupyter-widgets/base",
      "model_module_version": "2.0.0",
      "model_name": "LayoutModel",
      "state": {}
     },
     "738ae805db78482293bdf14f481a288a": {
      "model_module": "@jupyter-widgets/controls",
      "model_module_version": "2.0.0",
      "model_name": "FloatProgressModel",
      "state": {
       "bar_style": "success",
       "layout": "IPY_MODEL_91ef1d0f976e445083f411379fe6aa04",
       "max": 200,
       "style": "IPY_MODEL_e8f586f8740b4448a7f9ba0866b1477b",
       "value": 200
      }
     },
     "73eb1cae2edf47dd9e396b0089edb8b6": {
      "model_module": "@jupyter-widgets/base",
      "model_module_version": "2.0.0",
      "model_name": "LayoutModel",
      "state": {}
     },
     "7544520f5c4f4fbaa3e23e44e9fe378d": {
      "model_module": "@jupyter-widgets/controls",
      "model_module_version": "2.0.0",
      "model_name": "HBoxModel",
      "state": {
       "children": [
        "IPY_MODEL_28969239983f4801bcb21a3b4baa8f0b",
        "IPY_MODEL_db1dae13216c4f5795c69ff1b110340e",
        "IPY_MODEL_12f76e41af6c4899b372672d910919a1"
       ],
       "layout": "IPY_MODEL_7c26ad7f76f34d4489ed39c54b329184"
      }
     },
     "774e3904a797405fb49e849117e22c5c": {
      "model_module": "@jupyter-widgets/controls",
      "model_module_version": "2.0.0",
      "model_name": "HTMLStyleModel",
      "state": {
       "description_width": "",
       "font_size": null,
       "text_color": null
      }
     },
     "77a29992896542d1a7dcdd43353b5500": {
      "model_module": "@jupyter-widgets/base",
      "model_module_version": "2.0.0",
      "model_name": "LayoutModel",
      "state": {}
     },
     "77facf0aa3da4f40b7ee310c26a291bc": {
      "model_module": "@jupyter-widgets/controls",
      "model_module_version": "2.0.0",
      "model_name": "ProgressStyleModel",
      "state": {
       "description_width": ""
      }
     },
     "7856c297b4e24f9ba754bf18c84715e8": {
      "model_module": "@jupyter-widgets/controls",
      "model_module_version": "2.0.0",
      "model_name": "HTMLStyleModel",
      "state": {
       "description_width": "",
       "font_size": null,
       "text_color": null
      }
     },
     "78657414065b4d5fbec8625b02660f67": {
      "model_module": "@jupyter-widgets/base",
      "model_module_version": "2.0.0",
      "model_name": "LayoutModel",
      "state": {}
     },
     "78985f17f58942b193f28e03a8a2825e": {
      "model_module": "@jupyter-widgets/controls",
      "model_module_version": "2.0.0",
      "model_name": "HTMLModel",
      "state": {
       "layout": "IPY_MODEL_c6a3f310436545fe9c19583dccee5018",
       "style": "IPY_MODEL_7123bf78edd045629910a62142093991",
       "value": "100%"
      }
     },
     "78af99842ad44723bd4bc21f81df4d2c": {
      "model_module": "@jupyter-widgets/controls",
      "model_module_version": "2.0.0",
      "model_name": "HTMLStyleModel",
      "state": {
       "description_width": "",
       "font_size": null,
       "text_color": null
      }
     },
     "7938e7fcc4b144b0b58759f8dd7f28aa": {
      "model_module": "@jupyter-widgets/base",
      "model_module_version": "2.0.0",
      "model_name": "LayoutModel",
      "state": {}
     },
     "799ce5e2f1a24524976c8f2f4210b154": {
      "model_module": "@jupyter-widgets/controls",
      "model_module_version": "2.0.0",
      "model_name": "HTMLStyleModel",
      "state": {
       "description_width": "",
       "font_size": null,
       "text_color": null
      }
     },
     "7ac2409da341497c932928bcea7e6056": {
      "model_module": "@jupyter-widgets/controls",
      "model_module_version": "2.0.0",
      "model_name": "HTMLModel",
      "state": {
       "layout": "IPY_MODEL_4d393fc2662e40aabe9c396dd23ffec0",
       "style": "IPY_MODEL_7d9a7a45a636481da7c5561a317162c1",
       "value": " 200/200 [00:13&lt;00:00,  8.98it/s]"
      }
     },
     "7c0a731e09e5494f8c7b0e45ed35f9a3": {
      "model_module": "@jupyter-widgets/controls",
      "model_module_version": "2.0.0",
      "model_name": "ProgressStyleModel",
      "state": {
       "description_width": ""
      }
     },
     "7c26ad7f76f34d4489ed39c54b329184": {
      "model_module": "@jupyter-widgets/base",
      "model_module_version": "2.0.0",
      "model_name": "LayoutModel",
      "state": {}
     },
     "7cb9f498d2be402fa59df9f31eb5b681": {
      "model_module": "@jupyter-widgets/base",
      "model_module_version": "2.0.0",
      "model_name": "LayoutModel",
      "state": {}
     },
     "7d9a7a45a636481da7c5561a317162c1": {
      "model_module": "@jupyter-widgets/controls",
      "model_module_version": "2.0.0",
      "model_name": "HTMLStyleModel",
      "state": {
       "description_width": "",
       "font_size": null,
       "text_color": null
      }
     },
     "7df00dfa3fb648029520a3625cf6483a": {
      "model_module": "@jupyter-widgets/base",
      "model_module_version": "2.0.0",
      "model_name": "LayoutModel",
      "state": {}
     },
     "7efd5191db104b02a32f661098112b49": {
      "model_module": "@jupyter-widgets/base",
      "model_module_version": "2.0.0",
      "model_name": "LayoutModel",
      "state": {}
     },
     "7f124289061d4cbdbfc32806245f16ea": {
      "model_module": "@jupyter-widgets/controls",
      "model_module_version": "2.0.0",
      "model_name": "HTMLStyleModel",
      "state": {
       "description_width": "",
       "font_size": null,
       "text_color": null
      }
     },
     "7f287765ab434a4f9d9031edc96b4c34": {
      "model_module": "@jupyter-widgets/controls",
      "model_module_version": "2.0.0",
      "model_name": "HTMLModel",
      "state": {
       "layout": "IPY_MODEL_008d9120573d43428b28a9e317c03c21",
       "style": "IPY_MODEL_951e1828e2104eb98976a7572b64953c",
       "value": "100%"
      }
     },
     "7fa6a556a09443df8604c0a17a086dd5": {
      "model_module": "@jupyter-widgets/base",
      "model_module_version": "2.0.0",
      "model_name": "LayoutModel",
      "state": {}
     },
     "7ff6350cbb594fd1b057bdf5744f9295": {
      "model_module": "@jupyter-widgets/base",
      "model_module_version": "2.0.0",
      "model_name": "LayoutModel",
      "state": {}
     },
     "809950cce15742afb2b6bbe3eb2c3af0": {
      "model_module": "@jupyter-widgets/base",
      "model_module_version": "2.0.0",
      "model_name": "LayoutModel",
      "state": {}
     },
     "80af0def12844276826e7343d83a2267": {
      "model_module": "@jupyter-widgets/controls",
      "model_module_version": "2.0.0",
      "model_name": "HTMLModel",
      "state": {
       "layout": "IPY_MODEL_d31fe453dc394fd58c756748c578ddb2",
       "style": "IPY_MODEL_8f1e848762ee43c0a47dcbca5fee3304",
       "value": " 200/200 [00:06&lt;00:00, 28.50it/s]"
      }
     },
     "81367dda161c446586bad17900ac5122": {
      "model_module": "@jupyter-widgets/base",
      "model_module_version": "2.0.0",
      "model_name": "LayoutModel",
      "state": {}
     },
     "8152fd29cee641df920a4ccdc31be04f": {
      "model_module": "@jupyter-widgets/controls",
      "model_module_version": "2.0.0",
      "model_name": "HBoxModel",
      "state": {
       "children": [
        "IPY_MODEL_53d91d4a5b8648b3b534d349420f7c7b",
        "IPY_MODEL_3d977ef6fc524928b0c8d048fa734eee",
        "IPY_MODEL_c7be97a0cf114c6e987e26b35a18b354"
       ],
       "layout": "IPY_MODEL_b076fbd039be41d9800543167f5c99c2"
      }
     },
     "82c4b66d07574ef9a1d89d199e1ba983": {
      "model_module": "@jupyter-widgets/controls",
      "model_module_version": "2.0.0",
      "model_name": "FloatProgressModel",
      "state": {
       "bar_style": "success",
       "layout": "IPY_MODEL_dbd4d5ab389d469c8e906a34c4e67c4b",
       "max": 200,
       "style": "IPY_MODEL_486335ed28014acb82a6cf72050e9ece",
       "value": 200
      }
     },
     "83a4e7f2808945998632e6506fdb9ac0": {
      "model_module": "@jupyter-widgets/controls",
      "model_module_version": "2.0.0",
      "model_name": "HBoxModel",
      "state": {
       "children": [
        "IPY_MODEL_000a6f60595a4a6e8381aba07da957d0",
        "IPY_MODEL_1dd80dc73bb9489cbc3a03a889065b53",
        "IPY_MODEL_108699b8bb884b40aa32f591d31281fe"
       ],
       "layout": "IPY_MODEL_311f9691da14404f8522575c61683fd6"
      }
     },
     "845985dfbd4841b7865e59695ae76aa8": {
      "model_module": "@jupyter-widgets/base",
      "model_module_version": "2.0.0",
      "model_name": "LayoutModel",
      "state": {}
     },
     "84ed5255b9fb4bc6b0ea0bfa4aa43a07": {
      "model_module": "@jupyter-widgets/controls",
      "model_module_version": "2.0.0",
      "model_name": "FloatProgressModel",
      "state": {
       "bar_style": "success",
       "layout": "IPY_MODEL_21de8a4950314299a34fca4afc2b4f98",
       "max": 200,
       "style": "IPY_MODEL_ddffe217cab444bd9c9dad7dd7735545",
       "value": 200
      }
     },
     "8514447959ae4bc6b5a407a5d756758b": {
      "model_module": "@jupyter-widgets/controls",
      "model_module_version": "2.0.0",
      "model_name": "ProgressStyleModel",
      "state": {
       "description_width": ""
      }
     },
     "85db1e504fa948cda510acddc2103fb4": {
      "model_module": "@jupyter-widgets/controls",
      "model_module_version": "2.0.0",
      "model_name": "ProgressStyleModel",
      "state": {
       "description_width": ""
      }
     },
     "866ec904157545519525080122338446": {
      "model_module": "@jupyter-widgets/controls",
      "model_module_version": "2.0.0",
      "model_name": "HBoxModel",
      "state": {
       "children": [
        "IPY_MODEL_bb2ad7d42c724708b4a27033f8360fa0",
        "IPY_MODEL_4dec8eacf6614acb9a2a8baf9d122fe7",
        "IPY_MODEL_da4c1f9a04a44ff09e6512128f09249b"
       ],
       "layout": "IPY_MODEL_6df817e6e440419084790921aa28b39a"
      }
     },
     "8752a0e1dadc4bb394822527ca2c1b65": {
      "model_module": "@jupyter-widgets/controls",
      "model_module_version": "2.0.0",
      "model_name": "HTMLModel",
      "state": {
       "layout": "IPY_MODEL_34b1c77f351f4cfeaaf43e4b02a68fc8",
       "style": "IPY_MODEL_aeccd6d7b20743718ade72a9fc1c602c",
       "value": " 0/200 [00:00&lt;?, ?it/s]"
      }
     },
     "87a2bf223ce84bf888ede25d47a30b62": {
      "model_module": "@jupyter-widgets/base",
      "model_module_version": "2.0.0",
      "model_name": "LayoutModel",
      "state": {}
     },
     "87a77b0ca118426a84b7cdb32d0b9f1f": {
      "model_module": "@jupyter-widgets/base",
      "model_module_version": "2.0.0",
      "model_name": "LayoutModel",
      "state": {}
     },
     "87bcabe5891d475cbd48248e8f95856d": {
      "model_module": "@jupyter-widgets/base",
      "model_module_version": "2.0.0",
      "model_name": "LayoutModel",
      "state": {}
     },
     "88065306b5744d1d8a3046d425f896dc": {
      "model_module": "@jupyter-widgets/base",
      "model_module_version": "2.0.0",
      "model_name": "LayoutModel",
      "state": {}
     },
     "880f28f781984a829f5982f5c30cfb7b": {
      "model_module": "@jupyter-widgets/base",
      "model_module_version": "2.0.0",
      "model_name": "LayoutModel",
      "state": {}
     },
     "898893ace91f495ea4b431565c302c81": {
      "model_module": "@jupyter-widgets/base",
      "model_module_version": "2.0.0",
      "model_name": "LayoutModel",
      "state": {}
     },
     "898b454e74704a7ea66718be2fa51f0c": {
      "model_module": "@jupyter-widgets/controls",
      "model_module_version": "2.0.0",
      "model_name": "HBoxModel",
      "state": {
       "children": [
        "IPY_MODEL_2b7a3f76d4a9426cb62835e64e4e390f",
        "IPY_MODEL_41a8a7c337724c02a365bebc4caafdb5",
        "IPY_MODEL_32c0d84b2e5a429bb89cc59a1598c8db"
       ],
       "layout": "IPY_MODEL_ef598fb9735e4ed981d42c324c30e709"
      }
     },
     "8999aea2e15147a8b46f2b3476efcc97": {
      "model_module": "@jupyter-widgets/controls",
      "model_module_version": "2.0.0",
      "model_name": "ProgressStyleModel",
      "state": {
       "description_width": ""
      }
     },
     "8a0402e3d3584b48b30c82b37d59bc24": {
      "model_module": "@jupyter-widgets/base",
      "model_module_version": "2.0.0",
      "model_name": "LayoutModel",
      "state": {}
     },
     "8a0b7cf0ed7c438d90684f13cd42bfd5": {
      "model_module": "@jupyter-widgets/controls",
      "model_module_version": "2.0.0",
      "model_name": "HTMLStyleModel",
      "state": {
       "description_width": "",
       "font_size": null,
       "text_color": null
      }
     },
     "8a75b9ca313449ed8af269803ac297e0": {
      "model_module": "@jupyter-widgets/controls",
      "model_module_version": "2.0.0",
      "model_name": "HTMLModel",
      "state": {
       "layout": "IPY_MODEL_8fae2bab64034926acc445100bbc7d8d",
       "style": "IPY_MODEL_7f124289061d4cbdbfc32806245f16ea",
       "value": "100%"
      }
     },
     "8cb54675649c4ea5b59b3d1d5cf94dfc": {
      "model_module": "@jupyter-widgets/base",
      "model_module_version": "2.0.0",
      "model_name": "LayoutModel",
      "state": {}
     },
     "8d0fc96483e74cffb5e62e055971e622": {
      "model_module": "@jupyter-widgets/controls",
      "model_module_version": "2.0.0",
      "model_name": "HBoxModel",
      "state": {
       "children": [
        "IPY_MODEL_8a75b9ca313449ed8af269803ac297e0",
        "IPY_MODEL_bc073f54d78f40b8b9a9b705d3484bb0",
        "IPY_MODEL_f07896e4868d4fddb26b5759a769f3fb"
       ],
       "layout": "IPY_MODEL_e4d2d9113ee44c0aaa5de6d6c97b5e15"
      }
     },
     "8d8b111f2ed849b1b2ea19db45cdca12": {
      "model_module": "@jupyter-widgets/controls",
      "model_module_version": "2.0.0",
      "model_name": "HTMLModel",
      "state": {
       "layout": "IPY_MODEL_dcf0e0f2ff9f406a86ab7cd5d044aa88",
       "style": "IPY_MODEL_e17da79625be4839a2149c1989a43920",
       "value": "100%"
      }
     },
     "8e3229bb4f9546ddbc1db9c0f94ec6c3": {
      "model_module": "@jupyter-widgets/base",
      "model_module_version": "2.0.0",
      "model_name": "LayoutModel",
      "state": {}
     },
     "8e553e9665f54dafbf35c7f300c68df2": {
      "model_module": "@jupyter-widgets/base",
      "model_module_version": "2.0.0",
      "model_name": "LayoutModel",
      "state": {}
     },
     "8edb5d00ae044f3187ca22056e28caab": {
      "model_module": "@jupyter-widgets/controls",
      "model_module_version": "2.0.0",
      "model_name": "HTMLStyleModel",
      "state": {
       "description_width": "",
       "font_size": null,
       "text_color": null
      }
     },
     "8f1e848762ee43c0a47dcbca5fee3304": {
      "model_module": "@jupyter-widgets/controls",
      "model_module_version": "2.0.0",
      "model_name": "HTMLStyleModel",
      "state": {
       "description_width": "",
       "font_size": null,
       "text_color": null
      }
     },
     "8fae2bab64034926acc445100bbc7d8d": {
      "model_module": "@jupyter-widgets/base",
      "model_module_version": "2.0.0",
      "model_name": "LayoutModel",
      "state": {}
     },
     "913cfcfa3e724494b7a0c6c5ffa35cc7": {
      "model_module": "@jupyter-widgets/controls",
      "model_module_version": "2.0.0",
      "model_name": "FloatProgressModel",
      "state": {
       "bar_style": "success",
       "layout": "IPY_MODEL_de690fb478e448679bc0d5599468f44d",
       "max": 200,
       "style": "IPY_MODEL_5db494f5e7c74d4c9e47f6a16d1ca61c",
       "value": 200
      }
     },
     "91ef1d0f976e445083f411379fe6aa04": {
      "model_module": "@jupyter-widgets/base",
      "model_module_version": "2.0.0",
      "model_name": "LayoutModel",
      "state": {}
     },
     "924c3a36780144e6bf549c2d4fa83c94": {
      "model_module": "@jupyter-widgets/controls",
      "model_module_version": "2.0.0",
      "model_name": "HTMLModel",
      "state": {
       "layout": "IPY_MODEL_73eb1cae2edf47dd9e396b0089edb8b6",
       "style": "IPY_MODEL_be2f84ead6e84931b8a6b2cb1717a497",
       "value": "100%"
      }
     },
     "9362796607a7460ea9d9ba55c8a95829": {
      "model_module": "@jupyter-widgets/base",
      "model_module_version": "2.0.0",
      "model_name": "LayoutModel",
      "state": {}
     },
     "9385b548f1df4a108d30ce1b7e6a7d71": {
      "model_module": "@jupyter-widgets/base",
      "model_module_version": "2.0.0",
      "model_name": "LayoutModel",
      "state": {}
     },
     "93bfb7df27764067abcad18b0d88c3b1": {
      "model_module": "@jupyter-widgets/base",
      "model_module_version": "2.0.0",
      "model_name": "LayoutModel",
      "state": {}
     },
     "9474fc15bd7b41f8ac7c224f3033d755": {
      "model_module": "@jupyter-widgets/controls",
      "model_module_version": "2.0.0",
      "model_name": "ProgressStyleModel",
      "state": {
       "description_width": ""
      }
     },
     "951e1828e2104eb98976a7572b64953c": {
      "model_module": "@jupyter-widgets/controls",
      "model_module_version": "2.0.0",
      "model_name": "HTMLStyleModel",
      "state": {
       "description_width": "",
       "font_size": null,
       "text_color": null
      }
     },
     "957cc91ee4da419b9691504e1d5ef9fd": {
      "model_module": "@jupyter-widgets/base",
      "model_module_version": "2.0.0",
      "model_name": "LayoutModel",
      "state": {}
     },
     "958f19c2ef794d8a885f7a90b88711eb": {
      "model_module": "@jupyter-widgets/controls",
      "model_module_version": "2.0.0",
      "model_name": "FloatProgressModel",
      "state": {
       "bar_style": "success",
       "layout": "IPY_MODEL_222f7dc2afb84ab8a17db3af9c4e8c54",
       "max": 200,
       "style": "IPY_MODEL_ba6511fe57b24d418681b26114ea50dc",
       "value": 200
      }
     },
     "95ab8349aa6f41158861cde4ee671427": {
      "model_module": "@jupyter-widgets/controls",
      "model_module_version": "2.0.0",
      "model_name": "HTMLModel",
      "state": {
       "layout": "IPY_MODEL_17a0624047324add9c64d74e0342db41",
       "style": "IPY_MODEL_30707e0133224a8ea09619909fd3745c",
       "value": " 200/200 [00:13&lt;00:00,  9.92it/s]"
      }
     },
     "9609ea53f44e4fd296803efab6dad8ea": {
      "model_module": "@jupyter-widgets/controls",
      "model_module_version": "2.0.0",
      "model_name": "HTMLStyleModel",
      "state": {
       "description_width": "",
       "font_size": null,
       "text_color": null
      }
     },
     "97f40c110d0545e382988ff53a235cd8": {
      "model_module": "@jupyter-widgets/base",
      "model_module_version": "2.0.0",
      "model_name": "LayoutModel",
      "state": {}
     },
     "98f23929148d47d8bcf07995ccf43db3": {
      "model_module": "@jupyter-widgets/controls",
      "model_module_version": "2.0.0",
      "model_name": "HBoxModel",
      "state": {
       "children": [
        "IPY_MODEL_e9e2498c92e345dd8185f2e468c53af9",
        "IPY_MODEL_0eef5f740bd04ac3bd2400d6665e2b88",
        "IPY_MODEL_e25570c838b7408cb36fe24426fbd906"
       ],
       "layout": "IPY_MODEL_880f28f781984a829f5982f5c30cfb7b"
      }
     },
     "99ffaea9cd32483faab85ff46840545d": {
      "model_module": "@jupyter-widgets/controls",
      "model_module_version": "2.0.0",
      "model_name": "HTMLModel",
      "state": {
       "layout": "IPY_MODEL_c053f04747a64650bc1d8d62f826c44b",
       "style": "IPY_MODEL_6901cbb94118489b82b0b129423bb470",
       "value": " 200/200 [00:16&lt;00:00,  5.09it/s]"
      }
     },
     "9d4875ba095640279f5b21e7ada84a55": {
      "model_module": "@jupyter-widgets/controls",
      "model_module_version": "2.0.0",
      "model_name": "HTMLModel",
      "state": {
       "layout": "IPY_MODEL_c6b3c1b6dba14f2a9a23321894b233a0",
       "style": "IPY_MODEL_9d78ce80bce749d890bc5546a444c86f",
       "value": " 200/200 [00:06&lt;00:00, 24.62it/s]"
      }
     },
     "9d78ce80bce749d890bc5546a444c86f": {
      "model_module": "@jupyter-widgets/controls",
      "model_module_version": "2.0.0",
      "model_name": "HTMLStyleModel",
      "state": {
       "description_width": "",
       "font_size": null,
       "text_color": null
      }
     },
     "9e260f3b995f41c1970621993e5a0a86": {
      "model_module": "@jupyter-widgets/controls",
      "model_module_version": "2.0.0",
      "model_name": "HTMLStyleModel",
      "state": {
       "description_width": "",
       "font_size": null,
       "text_color": null
      }
     },
     "9f06258c93784053906c6f9896963d02": {
      "model_module": "@jupyter-widgets/controls",
      "model_module_version": "2.0.0",
      "model_name": "HBoxModel",
      "state": {
       "children": [
        "IPY_MODEL_ac7b53b553e640ed94b716283b71266a",
        "IPY_MODEL_69ace789129b403fa55d2d0f6ffe0687",
        "IPY_MODEL_1a084e886ed8405b83678b2c68cb1788"
       ],
       "layout": "IPY_MODEL_b44784f37c894421be869dacef9e36d5"
      }
     },
     "9fb4fd0e06754374b2acbe78e9ea9b6c": {
      "model_module": "@jupyter-widgets/controls",
      "model_module_version": "2.0.0",
      "model_name": "ProgressStyleModel",
      "state": {
       "description_width": ""
      }
     },
     "a050736b11f94980aecbf922584e7cac": {
      "model_module": "@jupyter-widgets/controls",
      "model_module_version": "2.0.0",
      "model_name": "HTMLStyleModel",
      "state": {
       "description_width": "",
       "font_size": null,
       "text_color": null
      }
     },
     "a05e51cb96b24ca4964a727a227a5daa": {
      "model_module": "@jupyter-widgets/controls",
      "model_module_version": "2.0.0",
      "model_name": "ProgressStyleModel",
      "state": {
       "description_width": ""
      }
     },
     "a1a3beb3ccf444d2974b85726379f385": {
      "model_module": "@jupyter-widgets/controls",
      "model_module_version": "2.0.0",
      "model_name": "HTMLStyleModel",
      "state": {
       "description_width": "",
       "font_size": null,
       "text_color": null
      }
     },
     "a1ad251aae27438bad0a30b6f5adb683": {
      "model_module": "@jupyter-widgets/controls",
      "model_module_version": "2.0.0",
      "model_name": "HBoxModel",
      "state": {
       "children": [
        "IPY_MODEL_016d0134aba547b0b58fd8d3db06ac8b",
        "IPY_MODEL_cd80b2e1e0544719b95ae1a2147aa250",
        "IPY_MODEL_4e3d4cd0562444a3bbdfe57739bfc145"
       ],
       "layout": "IPY_MODEL_dcc8d38428ee47c7bce00152c5f98248"
      }
     },
     "a35a92fa8753465c9909ff0602043f4e": {
      "model_module": "@jupyter-widgets/controls",
      "model_module_version": "2.0.0",
      "model_name": "HTMLStyleModel",
      "state": {
       "description_width": "",
       "font_size": null,
       "text_color": null
      }
     },
     "a3be65e70a224385ac6d3555c245bfa2": {
      "model_module": "@jupyter-widgets/controls",
      "model_module_version": "2.0.0",
      "model_name": "HTMLStyleModel",
      "state": {
       "description_width": "",
       "font_size": null,
       "text_color": null
      }
     },
     "a3eaf1e9519845ea8467bdeb35f33b50": {
      "model_module": "@jupyter-widgets/controls",
      "model_module_version": "2.0.0",
      "model_name": "FloatProgressModel",
      "state": {
       "bar_style": "success",
       "layout": "IPY_MODEL_6a8cd43a39724713a94d9c98cf48ef34",
       "max": 200,
       "style": "IPY_MODEL_a05e51cb96b24ca4964a727a227a5daa",
       "value": 200
      }
     },
     "a536e17a13bd4ba4af387ba672af4d78": {
      "model_module": "@jupyter-widgets/controls",
      "model_module_version": "2.0.0",
      "model_name": "HBoxModel",
      "state": {
       "children": [
        "IPY_MODEL_3245f0bb09674637a5fb9103c1cb5e27",
        "IPY_MODEL_55f5693bc38f47a6bff32a1623727e30",
        "IPY_MODEL_2a5034a171d14608adcc23adc811f31f"
       ],
       "layout": "IPY_MODEL_cd199e1905684ebf8c2dba4073f959bc"
      }
     },
     "a6307a0dfe514721b9f88729deff87f0": {
      "model_module": "@jupyter-widgets/base",
      "model_module_version": "2.0.0",
      "model_name": "LayoutModel",
      "state": {}
     },
     "a748f781f3aa4774a27df423781b4626": {
      "model_module": "@jupyter-widgets/controls",
      "model_module_version": "2.0.0",
      "model_name": "HBoxModel",
      "state": {
       "children": [
        "IPY_MODEL_18eea981be2d471eb65c8adf11c98c3b",
        "IPY_MODEL_1909bffcad6c42659497fd81924f4572",
        "IPY_MODEL_08f0f2a8248b4001b0683006ac2d63c3"
       ],
       "layout": "IPY_MODEL_738a61df1eee4fd380c5f5b2cdc5e849"
      }
     },
     "a9853ebc3b0242f89dea67cf230d386a": {
      "model_module": "@jupyter-widgets/base",
      "model_module_version": "2.0.0",
      "model_name": "LayoutModel",
      "state": {}
     },
     "aa677e3f1af540f2a10730b713eccabd": {
      "model_module": "@jupyter-widgets/controls",
      "model_module_version": "2.0.0",
      "model_name": "HTMLStyleModel",
      "state": {
       "description_width": "",
       "font_size": null,
       "text_color": null
      }
     },
     "ab37299a8d634d8cbce2c6dfcf47133e": {
      "model_module": "@jupyter-widgets/base",
      "model_module_version": "2.0.0",
      "model_name": "LayoutModel",
      "state": {}
     },
     "ab502988cc164061b53f52e084da15cb": {
      "model_module": "@jupyter-widgets/controls",
      "model_module_version": "2.0.0",
      "model_name": "FloatProgressModel",
      "state": {
       "bar_style": "success",
       "layout": "IPY_MODEL_ef304da8dcf446ff9b2037baad31f62f",
       "max": 200,
       "style": "IPY_MODEL_85db1e504fa948cda510acddc2103fb4",
       "value": 200
      }
     },
     "ab7dae90a35944c38ec3a8883b6ed39e": {
      "model_module": "@jupyter-widgets/base",
      "model_module_version": "2.0.0",
      "model_name": "LayoutModel",
      "state": {}
     },
     "abec113bf47b44269fc5820b627580d4": {
      "model_module": "@jupyter-widgets/base",
      "model_module_version": "2.0.0",
      "model_name": "LayoutModel",
      "state": {}
     },
     "ac7714b87f8a428887c280e4b34e04af": {
      "model_module": "@jupyter-widgets/controls",
      "model_module_version": "2.0.0",
      "model_name": "HTMLModel",
      "state": {
       "layout": "IPY_MODEL_089db85d71df4a1a9d22224b84366425",
       "style": "IPY_MODEL_7004ff67aa1641cfbffcddd55b5d89e2",
       "value": " 200/200 [00:13&lt;00:00, 10.22it/s]"
      }
     },
     "ac7b53b553e640ed94b716283b71266a": {
      "model_module": "@jupyter-widgets/controls",
      "model_module_version": "2.0.0",
      "model_name": "HTMLModel",
      "state": {
       "layout": "IPY_MODEL_b39f7eccc4f349afbebb6777b485b17c",
       "style": "IPY_MODEL_0e652c05f8e94f0ca5975ba30615201c",
       "value": "100%"
      }
     },
     "acedcc5cd76542b39c8f49f09304376b": {
      "model_module": "@jupyter-widgets/controls",
      "model_module_version": "2.0.0",
      "model_name": "ProgressStyleModel",
      "state": {
       "description_width": ""
      }
     },
     "ae43950f7f564f1990bff0e5fa54f21e": {
      "model_module": "@jupyter-widgets/controls",
      "model_module_version": "2.0.0",
      "model_name": "HTMLStyleModel",
      "state": {
       "description_width": "",
       "font_size": null,
       "text_color": null
      }
     },
     "aeccd6d7b20743718ade72a9fc1c602c": {
      "model_module": "@jupyter-widgets/controls",
      "model_module_version": "2.0.0",
      "model_name": "HTMLStyleModel",
      "state": {
       "description_width": "",
       "font_size": null,
       "text_color": null
      }
     },
     "af7256bc3acc4fcc91cc1ac7dfcdb82b": {
      "model_module": "@jupyter-widgets/controls",
      "model_module_version": "2.0.0",
      "model_name": "HTMLModel",
      "state": {
       "layout": "IPY_MODEL_28d2e1019e3041828778d04646149905",
       "style": "IPY_MODEL_799ce5e2f1a24524976c8f2f4210b154",
       "value": " 0/200 [00:00&lt;?, ?it/s]"
      }
     },
     "b076fbd039be41d9800543167f5c99c2": {
      "model_module": "@jupyter-widgets/base",
      "model_module_version": "2.0.0",
      "model_name": "LayoutModel",
      "state": {}
     },
     "b16156e7c97f475595398df806ccf1b4": {
      "model_module": "@jupyter-widgets/controls",
      "model_module_version": "2.0.0",
      "model_name": "HTMLModel",
      "state": {
       "layout": "IPY_MODEL_a6307a0dfe514721b9f88729deff87f0",
       "style": "IPY_MODEL_a1a3beb3ccf444d2974b85726379f385",
       "value": "100%"
      }
     },
     "b2465598780a4065842043b01bac7c00": {
      "model_module": "@jupyter-widgets/controls",
      "model_module_version": "2.0.0",
      "model_name": "HTMLStyleModel",
      "state": {
       "description_width": "",
       "font_size": null,
       "text_color": null
      }
     },
     "b39f7eccc4f349afbebb6777b485b17c": {
      "model_module": "@jupyter-widgets/base",
      "model_module_version": "2.0.0",
      "model_name": "LayoutModel",
      "state": {}
     },
     "b44784f37c894421be869dacef9e36d5": {
      "model_module": "@jupyter-widgets/base",
      "model_module_version": "2.0.0",
      "model_name": "LayoutModel",
      "state": {}
     },
     "b4636572fc394d31a759c32499cdbe13": {
      "model_module": "@jupyter-widgets/base",
      "model_module_version": "2.0.0",
      "model_name": "LayoutModel",
      "state": {}
     },
     "b4a33bd0b8de4e90b69a751e931d3142": {
      "model_module": "@jupyter-widgets/controls",
      "model_module_version": "2.0.0",
      "model_name": "HTMLModel",
      "state": {
       "layout": "IPY_MODEL_3de35b3e3cd149f8a0bfd7a3d4abfc1e",
       "style": "IPY_MODEL_340acd1c26dc4f4da0ff1ce81c5212cd",
       "value": "100%"
      }
     },
     "b60609929dba4048baa3596923231231": {
      "model_module": "@jupyter-widgets/controls",
      "model_module_version": "2.0.0",
      "model_name": "HTMLStyleModel",
      "state": {
       "description_width": "",
       "font_size": null,
       "text_color": null
      }
     },
     "b8b641b75dee441db0df942bc299ec5b": {
      "model_module": "@jupyter-widgets/controls",
      "model_module_version": "2.0.0",
      "model_name": "HTMLModel",
      "state": {
       "layout": "IPY_MODEL_26f5d25de1114cf582e4f036165e9d10",
       "style": "IPY_MODEL_7856c297b4e24f9ba754bf18c84715e8",
       "value": " 200/200 [00:13&lt;00:00, 10.50it/s]"
      }
     },
     "ba5f1dc192e245839a22ecec27edc8d8": {
      "model_module": "@jupyter-widgets/base",
      "model_module_version": "2.0.0",
      "model_name": "LayoutModel",
      "state": {}
     },
     "ba6511fe57b24d418681b26114ea50dc": {
      "model_module": "@jupyter-widgets/controls",
      "model_module_version": "2.0.0",
      "model_name": "ProgressStyleModel",
      "state": {
       "description_width": ""
      }
     },
     "ba781762213a45bfa9b2959825a36f94": {
      "model_module": "@jupyter-widgets/controls",
      "model_module_version": "2.0.0",
      "model_name": "FloatProgressModel",
      "state": {
       "bar_style": "success",
       "layout": "IPY_MODEL_f5c7219a8c55453db3cc7db407e2ab3d",
       "max": 200,
       "style": "IPY_MODEL_07728584bb7d46b39685b37c1981bf2e",
       "value": 200
      }
     },
     "bae90b65264b4e1faeabde8c4adfe7b1": {
      "model_module": "@jupyter-widgets/controls",
      "model_module_version": "2.0.0",
      "model_name": "HTMLStyleModel",
      "state": {
       "description_width": "",
       "font_size": null,
       "text_color": null
      }
     },
     "bb01bc6e0c5c42aeab09086aeca2e796": {
      "model_module": "@jupyter-widgets/controls",
      "model_module_version": "2.0.0",
      "model_name": "HBoxModel",
      "state": {
       "children": [
        "IPY_MODEL_f9a2dad786e64ef9942d301ea9ec3e9f",
        "IPY_MODEL_2fe26455834b4ab8ab6806ad4628e8bf",
        "IPY_MODEL_ac7714b87f8a428887c280e4b34e04af"
       ],
       "layout": "IPY_MODEL_df20c344b4a34e3aadbb6b5b02b996e7"
      }
     },
     "bb2ad7d42c724708b4a27033f8360fa0": {
      "model_module": "@jupyter-widgets/controls",
      "model_module_version": "2.0.0",
      "model_name": "HTMLModel",
      "state": {
       "layout": "IPY_MODEL_0cfe7fff1f2a43df9dc2925300fbb395",
       "style": "IPY_MODEL_10334313fb08449ebeb4f9fcead8d983",
       "value": "100%"
      }
     },
     "bc073f54d78f40b8b9a9b705d3484bb0": {
      "model_module": "@jupyter-widgets/controls",
      "model_module_version": "2.0.0",
      "model_name": "FloatProgressModel",
      "state": {
       "bar_style": "success",
       "layout": "IPY_MODEL_e62c5f25762e480488f5d256c0dda718",
       "max": 200,
       "style": "IPY_MODEL_eb0e8fe53c704a90aab1f5b4a8a317e2",
       "value": 200
      }
     },
     "bcc3db3d6cde400fbc60ddfe453fcbd0": {
      "model_module": "@jupyter-widgets/controls",
      "model_module_version": "2.0.0",
      "model_name": "HTMLStyleModel",
      "state": {
       "description_width": "",
       "font_size": null,
       "text_color": null
      }
     },
     "be2e7849c9da41f095ebe1bb34034c92": {
      "model_module": "@jupyter-widgets/base",
      "model_module_version": "2.0.0",
      "model_name": "LayoutModel",
      "state": {}
     },
     "be2f84ead6e84931b8a6b2cb1717a497": {
      "model_module": "@jupyter-widgets/controls",
      "model_module_version": "2.0.0",
      "model_name": "HTMLStyleModel",
      "state": {
       "description_width": "",
       "font_size": null,
       "text_color": null
      }
     },
     "beeeb517e3cb4e55bc8b04798643e10b": {
      "model_module": "@jupyter-widgets/base",
      "model_module_version": "2.0.0",
      "model_name": "LayoutModel",
      "state": {}
     },
     "bfd17977db844b3ea262a6f5b6e31b3a": {
      "model_module": "@jupyter-widgets/controls",
      "model_module_version": "2.0.0",
      "model_name": "HTMLModel",
      "state": {
       "layout": "IPY_MODEL_87bcabe5891d475cbd48248e8f95856d",
       "style": "IPY_MODEL_11fe228e5907456f8c4db67e5383114f",
       "value": "100%"
      }
     },
     "c053f04747a64650bc1d8d62f826c44b": {
      "model_module": "@jupyter-widgets/base",
      "model_module_version": "2.0.0",
      "model_name": "LayoutModel",
      "state": {}
     },
     "c0591170d9cc4f7f953af9cc9138ffee": {
      "model_module": "@jupyter-widgets/controls",
      "model_module_version": "2.0.0",
      "model_name": "FloatProgressModel",
      "state": {
       "bar_style": "success",
       "layout": "IPY_MODEL_348c4462d38a4a8e92419d07e66b185d",
       "max": 200,
       "style": "IPY_MODEL_00dfdfbb092d4f3d930007aec7d1ddbb",
       "value": 200
      }
     },
     "c0f809eac0e346f491c6ae6e4537e780": {
      "model_module": "@jupyter-widgets/base",
      "model_module_version": "2.0.0",
      "model_name": "LayoutModel",
      "state": {}
     },
     "c1bad62fc49b4a068f0b9d2f7b628407": {
      "model_module": "@jupyter-widgets/controls",
      "model_module_version": "2.0.0",
      "model_name": "HTMLModel",
      "state": {
       "layout": "IPY_MODEL_1366907e74d14567a023ec9a51630034",
       "style": "IPY_MODEL_21bb649fc33b4692920a5f76b95a5eee",
       "value": "100%"
      }
     },
     "c42d45ea207f4edf9f27655e253e8f63": {
      "model_module": "@jupyter-widgets/controls",
      "model_module_version": "2.0.0",
      "model_name": "HTMLModel",
      "state": {
       "layout": "IPY_MODEL_c82d78e11f064f36bc890d2123fde7dd",
       "style": "IPY_MODEL_aa677e3f1af540f2a10730b713eccabd",
       "value": "100%"
      }
     },
     "c4e7ba9231bd420ba55e68310f08b83e": {
      "model_module": "@jupyter-widgets/controls",
      "model_module_version": "2.0.0",
      "model_name": "ProgressStyleModel",
      "state": {
       "description_width": ""
      }
     },
     "c565b5e004ac41fdb359c6026c9795bd": {
      "model_module": "@jupyter-widgets/controls",
      "model_module_version": "2.0.0",
      "model_name": "HBoxModel",
      "state": {
       "children": [
        "IPY_MODEL_b4a33bd0b8de4e90b69a751e931d3142",
        "IPY_MODEL_1ed1e407a8804bbca0c97fe8e27adeed",
        "IPY_MODEL_0f3782e540034720a5265c7cef73be10"
       ],
       "layout": "IPY_MODEL_77a29992896542d1a7dcdd43353b5500"
      }
     },
     "c5cd7a0ff8e34e5c9380630dae531077": {
      "model_module": "@jupyter-widgets/base",
      "model_module_version": "2.0.0",
      "model_name": "LayoutModel",
      "state": {}
     },
     "c69f7bee385841209c28e4681a18480e": {
      "model_module": "@jupyter-widgets/base",
      "model_module_version": "2.0.0",
      "model_name": "LayoutModel",
      "state": {}
     },
     "c6a3f310436545fe9c19583dccee5018": {
      "model_module": "@jupyter-widgets/base",
      "model_module_version": "2.0.0",
      "model_name": "LayoutModel",
      "state": {}
     },
     "c6b3c1b6dba14f2a9a23321894b233a0": {
      "model_module": "@jupyter-widgets/base",
      "model_module_version": "2.0.0",
      "model_name": "LayoutModel",
      "state": {}
     },
     "c72c20bb14fa4e80b3b2d5d75808bede": {
      "model_module": "@jupyter-widgets/controls",
      "model_module_version": "2.0.0",
      "model_name": "HTMLStyleModel",
      "state": {
       "description_width": "",
       "font_size": null,
       "text_color": null
      }
     },
     "c7be97a0cf114c6e987e26b35a18b354": {
      "model_module": "@jupyter-widgets/controls",
      "model_module_version": "2.0.0",
      "model_name": "HTMLModel",
      "state": {
       "layout": "IPY_MODEL_6fba204ea3fd476b8f48fdf79f1af695",
       "style": "IPY_MODEL_e54e9bde886540afa9a32f5a5bec742e",
       "value": " 200/200 [00:06&lt;00:00, 35.18it/s]"
      }
     },
     "c82d78e11f064f36bc890d2123fde7dd": {
      "model_module": "@jupyter-widgets/base",
      "model_module_version": "2.0.0",
      "model_name": "LayoutModel",
      "state": {}
     },
     "c89682d8e9834dc9ae30e42581cff276": {
      "model_module": "@jupyter-widgets/base",
      "model_module_version": "2.0.0",
      "model_name": "LayoutModel",
      "state": {}
     },
     "ca3193afe0c5450898ecc8a3fd9e6037": {
      "model_module": "@jupyter-widgets/base",
      "model_module_version": "2.0.0",
      "model_name": "LayoutModel",
      "state": {}
     },
     "cbc0e425ad76478596b66faefeb39ead": {
      "model_module": "@jupyter-widgets/controls",
      "model_module_version": "2.0.0",
      "model_name": "HTMLModel",
      "state": {
       "layout": "IPY_MODEL_7efd5191db104b02a32f661098112b49",
       "style": "IPY_MODEL_1204f1ca2c594b71bb81f965fd5d8217",
       "value": "  0%"
      }
     },
     "cc7fdbe772ee43c6b4f4ac38ad78f506": {
      "model_module": "@jupyter-widgets/controls",
      "model_module_version": "2.0.0",
      "model_name": "HTMLModel",
      "state": {
       "layout": "IPY_MODEL_5c051e17f52a415ca05fd716cf21ed52",
       "style": "IPY_MODEL_bcc3db3d6cde400fbc60ddfe453fcbd0",
       "value": " 200/200 [00:51&lt;00:00,  2.21it/s]"
      }
     },
     "ccc35dade5df4064a8001939bf19d617": {
      "model_module": "@jupyter-widgets/controls",
      "model_module_version": "2.0.0",
      "model_name": "HTMLStyleModel",
      "state": {
       "description_width": "",
       "font_size": null,
       "text_color": null
      }
     },
     "cd199e1905684ebf8c2dba4073f959bc": {
      "model_module": "@jupyter-widgets/base",
      "model_module_version": "2.0.0",
      "model_name": "LayoutModel",
      "state": {}
     },
     "cd80b2e1e0544719b95ae1a2147aa250": {
      "model_module": "@jupyter-widgets/controls",
      "model_module_version": "2.0.0",
      "model_name": "FloatProgressModel",
      "state": {
       "bar_style": "success",
       "layout": "IPY_MODEL_8e553e9665f54dafbf35c7f300c68df2",
       "max": 200,
       "style": "IPY_MODEL_db7eb5eb70884708a27fcae0d2c29346",
       "value": 200
      }
     },
     "cdb6d911ee6c4ff7a7104b652f6742b8": {
      "model_module": "@jupyter-widgets/controls",
      "model_module_version": "2.0.0",
      "model_name": "HTMLStyleModel",
      "state": {
       "description_width": "",
       "font_size": null,
       "text_color": null
      }
     },
     "cf12d2adbb3c4db5a37830a2d818d672": {
      "model_module": "@jupyter-widgets/controls",
      "model_module_version": "2.0.0",
      "model_name": "HTMLStyleModel",
      "state": {
       "description_width": "",
       "font_size": null,
       "text_color": null
      }
     },
     "cf1a6c9111dd4c5f95dd41dc63c13228": {
      "model_module": "@jupyter-widgets/controls",
      "model_module_version": "2.0.0",
      "model_name": "ProgressStyleModel",
      "state": {
       "description_width": ""
      }
     },
     "d166d42e208a4a27b7453f524db8fb1d": {
      "model_module": "@jupyter-widgets/base",
      "model_module_version": "2.0.0",
      "model_name": "LayoutModel",
      "state": {}
     },
     "d17061806f314e458ccec00177dbd3e2": {
      "model_module": "@jupyter-widgets/controls",
      "model_module_version": "2.0.0",
      "model_name": "ProgressStyleModel",
      "state": {
       "description_width": ""
      }
     },
     "d260b218aae44d338f1b29a2782f4dd2": {
      "model_module": "@jupyter-widgets/controls",
      "model_module_version": "2.0.0",
      "model_name": "HBoxModel",
      "state": {
       "children": [
        "IPY_MODEL_6bcec42be642476ea5b44c28277a0d60",
        "IPY_MODEL_d67716ad4bdb418684e9c28f662b4269",
        "IPY_MODEL_7ac2409da341497c932928bcea7e6056"
       ],
       "layout": "IPY_MODEL_7cb9f498d2be402fa59df9f31eb5b681"
      }
     },
     "d31fe453dc394fd58c756748c578ddb2": {
      "model_module": "@jupyter-widgets/base",
      "model_module_version": "2.0.0",
      "model_name": "LayoutModel",
      "state": {}
     },
     "d36f7bb552d943fc825861aa10451889": {
      "model_module": "@jupyter-widgets/controls",
      "model_module_version": "2.0.0",
      "model_name": "HTMLStyleModel",
      "state": {
       "description_width": "",
       "font_size": null,
       "text_color": null
      }
     },
     "d3bad8b5d3a9431cb1f3cba390008143": {
      "model_module": "@jupyter-widgets/controls",
      "model_module_version": "2.0.0",
      "model_name": "HBoxModel",
      "state": {
       "children": [
        "IPY_MODEL_f3120027487f4d8183e344d6e71c9221",
        "IPY_MODEL_84ed5255b9fb4bc6b0ea0bfa4aa43a07",
        "IPY_MODEL_d91405bbdfce423d9a47db69c1ec8a11"
       ],
       "layout": "IPY_MODEL_e8add80719d54511a2a13e3596242cf5"
      }
     },
     "d4acd1e1abb34218b825eba529cc3159": {
      "model_module": "@jupyter-widgets/controls",
      "model_module_version": "2.0.0",
      "model_name": "HTMLModel",
      "state": {
       "layout": "IPY_MODEL_50dd715b9aad4c7b8d8ce12138286726",
       "style": "IPY_MODEL_bae90b65264b4e1faeabde8c4adfe7b1",
       "value": "100%"
      }
     },
     "d4f844d1b8044aaf8023a375a4ba8682": {
      "model_module": "@jupyter-widgets/base",
      "model_module_version": "2.0.0",
      "model_name": "LayoutModel",
      "state": {}
     },
     "d5915bb1830e4930bd8d3f353f3c2494": {
      "model_module": "@jupyter-widgets/controls",
      "model_module_version": "2.0.0",
      "model_name": "ProgressStyleModel",
      "state": {
       "description_width": ""
      }
     },
     "d67716ad4bdb418684e9c28f662b4269": {
      "model_module": "@jupyter-widgets/controls",
      "model_module_version": "2.0.0",
      "model_name": "FloatProgressModel",
      "state": {
       "bar_style": "success",
       "layout": "IPY_MODEL_dd7ba084919b46c1a54f9ccb24e21cd2",
       "max": 200,
       "style": "IPY_MODEL_77facf0aa3da4f40b7ee310c26a291bc",
       "value": 200
      }
     },
     "d83e03f01fc2429c915b7b99d07ee789": {
      "model_module": "@jupyter-widgets/controls",
      "model_module_version": "2.0.0",
      "model_name": "HBoxModel",
      "state": {
       "children": [
        "IPY_MODEL_78985f17f58942b193f28e03a8a2825e",
        "IPY_MODEL_005b40afb55c4ee3bdcbdea760e340e0",
        "IPY_MODEL_1fb53c9408fc4739ba97db60c8a7c249"
       ],
       "layout": "IPY_MODEL_f01f63937cc84fdcaff94a1a74c5a5d3"
      }
     },
     "d91405bbdfce423d9a47db69c1ec8a11": {
      "model_module": "@jupyter-widgets/controls",
      "model_module_version": "2.0.0",
      "model_name": "HTMLModel",
      "state": {
       "layout": "IPY_MODEL_97f40c110d0545e382988ff53a235cd8",
       "style": "IPY_MODEL_ae43950f7f564f1990bff0e5fa54f21e",
       "value": " 200/200 [00:13&lt;00:00,  9.96it/s]"
      }
     },
     "d99c4ae3fb6c42fcb716de3f56500596": {
      "model_module": "@jupyter-widgets/controls",
      "model_module_version": "2.0.0",
      "model_name": "HTMLModel",
      "state": {
       "layout": "IPY_MODEL_f590974cc8564799a145bfee269bbd2c",
       "style": "IPY_MODEL_25f3886e75644a8f947c0a9a9bad509d",
       "value": " 200/200 [00:15&lt;00:00,  9.89it/s]"
      }
     },
     "da4c1f9a04a44ff09e6512128f09249b": {
      "model_module": "@jupyter-widgets/controls",
      "model_module_version": "2.0.0",
      "model_name": "HTMLModel",
      "state": {
       "layout": "IPY_MODEL_7df00dfa3fb648029520a3625cf6483a",
       "style": "IPY_MODEL_e1ab2ad016b8455aaee14f3748e12ce7",
       "value": " 200/200 [00:47&lt;00:00,  2.60it/s]"
      }
     },
     "dadd8e033f3e428083ce28bb30d6b375": {
      "model_module": "@jupyter-widgets/controls",
      "model_module_version": "2.0.0",
      "model_name": "ProgressStyleModel",
      "state": {
       "description_width": ""
      }
     },
     "db1dae13216c4f5795c69ff1b110340e": {
      "model_module": "@jupyter-widgets/controls",
      "model_module_version": "2.0.0",
      "model_name": "FloatProgressModel",
      "state": {
       "bar_style": "success",
       "layout": "IPY_MODEL_4e456139035040af90b742e9e256e3e3",
       "max": 200,
       "style": "IPY_MODEL_fbd57d5bc0fc4722abb14c782704c29c",
       "value": 200
      }
     },
     "db7eb5eb70884708a27fcae0d2c29346": {
      "model_module": "@jupyter-widgets/controls",
      "model_module_version": "2.0.0",
      "model_name": "ProgressStyleModel",
      "state": {
       "description_width": ""
      }
     },
     "dbd4d5ab389d469c8e906a34c4e67c4b": {
      "model_module": "@jupyter-widgets/base",
      "model_module_version": "2.0.0",
      "model_name": "LayoutModel",
      "state": {}
     },
     "dc651af987b04f93851a25dc246fef91": {
      "model_module": "@jupyter-widgets/controls",
      "model_module_version": "2.0.0",
      "model_name": "ProgressStyleModel",
      "state": {
       "description_width": ""
      }
     },
     "dc6b4076d4334b4295cede2ecc49f433": {
      "model_module": "@jupyter-widgets/controls",
      "model_module_version": "2.0.0",
      "model_name": "HTMLStyleModel",
      "state": {
       "description_width": "",
       "font_size": null,
       "text_color": null
      }
     },
     "dcc8d38428ee47c7bce00152c5f98248": {
      "model_module": "@jupyter-widgets/base",
      "model_module_version": "2.0.0",
      "model_name": "LayoutModel",
      "state": {}
     },
     "dcf0e0f2ff9f406a86ab7cd5d044aa88": {
      "model_module": "@jupyter-widgets/base",
      "model_module_version": "2.0.0",
      "model_name": "LayoutModel",
      "state": {}
     },
     "dd75912ba48e4f13ae5e755573277bbd": {
      "model_module": "@jupyter-widgets/controls",
      "model_module_version": "2.0.0",
      "model_name": "HTMLStyleModel",
      "state": {
       "description_width": "",
       "font_size": null,
       "text_color": null
      }
     },
     "dd7ba084919b46c1a54f9ccb24e21cd2": {
      "model_module": "@jupyter-widgets/base",
      "model_module_version": "2.0.0",
      "model_name": "LayoutModel",
      "state": {}
     },
     "ddffe217cab444bd9c9dad7dd7735545": {
      "model_module": "@jupyter-widgets/controls",
      "model_module_version": "2.0.0",
      "model_name": "ProgressStyleModel",
      "state": {
       "description_width": ""
      }
     },
     "de690fb478e448679bc0d5599468f44d": {
      "model_module": "@jupyter-widgets/base",
      "model_module_version": "2.0.0",
      "model_name": "LayoutModel",
      "state": {}
     },
     "df20c344b4a34e3aadbb6b5b02b996e7": {
      "model_module": "@jupyter-widgets/base",
      "model_module_version": "2.0.0",
      "model_name": "LayoutModel",
      "state": {}
     },
     "df55ee7c355c419eb41372138090e87d": {
      "model_module": "@jupyter-widgets/controls",
      "model_module_version": "2.0.0",
      "model_name": "FloatProgressModel",
      "state": {
       "bar_style": "success",
       "layout": "IPY_MODEL_9362796607a7460ea9d9ba55c8a95829",
       "max": 200,
       "style": "IPY_MODEL_39c17b4a902e45c0992b7330347752dc",
       "value": 200
      }
     },
     "e081de76536c4a8e82e3c8fd2cc95f1b": {
      "model_module": "@jupyter-widgets/controls",
      "model_module_version": "2.0.0",
      "model_name": "HTMLModel",
      "state": {
       "layout": "IPY_MODEL_2e29eaed25904af2b59b811f18091834",
       "style": "IPY_MODEL_6782390e45ba4a03a07c880aeb19d69f",
       "value": " 200/200 [00:13&lt;00:00,  9.89it/s]"
      }
     },
     "e17da79625be4839a2149c1989a43920": {
      "model_module": "@jupyter-widgets/controls",
      "model_module_version": "2.0.0",
      "model_name": "HTMLStyleModel",
      "state": {
       "description_width": "",
       "font_size": null,
       "text_color": null
      }
     },
     "e1ab2ad016b8455aaee14f3748e12ce7": {
      "model_module": "@jupyter-widgets/controls",
      "model_module_version": "2.0.0",
      "model_name": "HTMLStyleModel",
      "state": {
       "description_width": "",
       "font_size": null,
       "text_color": null
      }
     },
     "e1b88339dc6c4677b446469889ccb248": {
      "model_module": "@jupyter-widgets/base",
      "model_module_version": "2.0.0",
      "model_name": "LayoutModel",
      "state": {}
     },
     "e25570c838b7408cb36fe24426fbd906": {
      "model_module": "@jupyter-widgets/controls",
      "model_module_version": "2.0.0",
      "model_name": "HTMLModel",
      "state": {
       "layout": "IPY_MODEL_ab37299a8d634d8cbce2c6dfcf47133e",
       "style": "IPY_MODEL_ccc35dade5df4064a8001939bf19d617",
       "value": " 0/200 [00:00&lt;?, ?it/s]"
      }
     },
     "e2a282ef830643fa999beb87550f7b34": {
      "model_module": "@jupyter-widgets/base",
      "model_module_version": "2.0.0",
      "model_name": "LayoutModel",
      "state": {}
     },
     "e4d2d9113ee44c0aaa5de6d6c97b5e15": {
      "model_module": "@jupyter-widgets/base",
      "model_module_version": "2.0.0",
      "model_name": "LayoutModel",
      "state": {}
     },
     "e54e9bde886540afa9a32f5a5bec742e": {
      "model_module": "@jupyter-widgets/controls",
      "model_module_version": "2.0.0",
      "model_name": "HTMLStyleModel",
      "state": {
       "description_width": "",
       "font_size": null,
       "text_color": null
      }
     },
     "e62c5f25762e480488f5d256c0dda718": {
      "model_module": "@jupyter-widgets/base",
      "model_module_version": "2.0.0",
      "model_name": "LayoutModel",
      "state": {}
     },
     "e74711b50b044dd3b390860a4b36f8c8": {
      "model_module": "@jupyter-widgets/base",
      "model_module_version": "2.0.0",
      "model_name": "LayoutModel",
      "state": {}
     },
     "e7b9ca9d8949443fbb539e1977760bce": {
      "model_module": "@jupyter-widgets/controls",
      "model_module_version": "2.0.0",
      "model_name": "HBoxModel",
      "state": {
       "children": [
        "IPY_MODEL_b16156e7c97f475595398df806ccf1b4",
        "IPY_MODEL_958f19c2ef794d8a885f7a90b88711eb",
        "IPY_MODEL_2374772ba7c24fd291a56a38376e6686"
       ],
       "layout": "IPY_MODEL_3e1bc547eedf433db47fad8bb7cff8bd"
      }
     },
     "e88e57a1a56b4cb19041a6101fb59e71": {
      "model_module": "@jupyter-widgets/controls",
      "model_module_version": "2.0.0",
      "model_name": "FloatProgressModel",
      "state": {
       "bar_style": "success",
       "layout": "IPY_MODEL_8cb54675649c4ea5b59b3d1d5cf94dfc",
       "max": 200,
       "style": "IPY_MODEL_8999aea2e15147a8b46f2b3476efcc97",
       "value": 200
      }
     },
     "e8add80719d54511a2a13e3596242cf5": {
      "model_module": "@jupyter-widgets/base",
      "model_module_version": "2.0.0",
      "model_name": "LayoutModel",
      "state": {}
     },
     "e8b3977a2fc14720996e7fb2cc69bfae": {
      "model_module": "@jupyter-widgets/controls",
      "model_module_version": "2.0.0",
      "model_name": "ProgressStyleModel",
      "state": {
       "description_width": ""
      }
     },
     "e8f586f8740b4448a7f9ba0866b1477b": {
      "model_module": "@jupyter-widgets/controls",
      "model_module_version": "2.0.0",
      "model_name": "ProgressStyleModel",
      "state": {
       "description_width": ""
      }
     },
     "e9e2498c92e345dd8185f2e468c53af9": {
      "model_module": "@jupyter-widgets/controls",
      "model_module_version": "2.0.0",
      "model_name": "HTMLModel",
      "state": {
       "layout": "IPY_MODEL_898893ace91f495ea4b431565c302c81",
       "style": "IPY_MODEL_b2465598780a4065842043b01bac7c00",
       "value": "  0%"
      }
     },
     "ea26ad5f230e45e6acec92e22bc40df1": {
      "model_module": "@jupyter-widgets/base",
      "model_module_version": "2.0.0",
      "model_name": "LayoutModel",
      "state": {}
     },
     "eb0e8fe53c704a90aab1f5b4a8a317e2": {
      "model_module": "@jupyter-widgets/controls",
      "model_module_version": "2.0.0",
      "model_name": "ProgressStyleModel",
      "state": {
       "description_width": ""
      }
     },
     "eb2d9b74684542bc96a2f1d7fa9793c1": {
      "model_module": "@jupyter-widgets/base",
      "model_module_version": "2.0.0",
      "model_name": "LayoutModel",
      "state": {}
     },
     "ecefbaa9ccb341949fb37fc4aeefe3d3": {
      "model_module": "@jupyter-widgets/base",
      "model_module_version": "2.0.0",
      "model_name": "LayoutModel",
      "state": {}
     },
     "ed18da6b15654a0093442db8a5698721": {
      "model_module": "@jupyter-widgets/controls",
      "model_module_version": "2.0.0",
      "model_name": "HBoxModel",
      "state": {
       "children": [
        "IPY_MODEL_340f6c183f0e4c778ee87d9766f01490",
        "IPY_MODEL_f6efe0906b1f4d13929f2e4a9ba45131",
        "IPY_MODEL_6920a5b6332842baa4da228bde0c4b68"
       ],
       "layout": "IPY_MODEL_19a971ebdcf6427eb4e59b174acd147c"
      }
     },
     "ed5e5a7cd7804c3e9550da5e84e29c88": {
      "model_module": "@jupyter-widgets/base",
      "model_module_version": "2.0.0",
      "model_name": "LayoutModel",
      "state": {}
     },
     "eef55ca306d9472a9bad306e1b4b0061": {
      "model_module": "@jupyter-widgets/base",
      "model_module_version": "2.0.0",
      "model_name": "LayoutModel",
      "state": {}
     },
     "ef304da8dcf446ff9b2037baad31f62f": {
      "model_module": "@jupyter-widgets/base",
      "model_module_version": "2.0.0",
      "model_name": "LayoutModel",
      "state": {}
     },
     "ef598fb9735e4ed981d42c324c30e709": {
      "model_module": "@jupyter-widgets/base",
      "model_module_version": "2.0.0",
      "model_name": "LayoutModel",
      "state": {}
     },
     "f01f63937cc84fdcaff94a1a74c5a5d3": {
      "model_module": "@jupyter-widgets/base",
      "model_module_version": "2.0.0",
      "model_name": "LayoutModel",
      "state": {}
     },
     "f02c4683b7b2460a895f58e74f2b589a": {
      "model_module": "@jupyter-widgets/controls",
      "model_module_version": "2.0.0",
      "model_name": "HTMLStyleModel",
      "state": {
       "description_width": "",
       "font_size": null,
       "text_color": null
      }
     },
     "f02ee0e7826a40d485d2576e4609c6bc": {
      "model_module": "@jupyter-widgets/controls",
      "model_module_version": "2.0.0",
      "model_name": "HTMLModel",
      "state": {
       "layout": "IPY_MODEL_88065306b5744d1d8a3046d425f896dc",
       "style": "IPY_MODEL_057542e47e614f26bbf3621956a9f2f3",
       "value": "100%"
      }
     },
     "f07896e4868d4fddb26b5759a769f3fb": {
      "model_module": "@jupyter-widgets/controls",
      "model_module_version": "2.0.0",
      "model_name": "HTMLModel",
      "state": {
       "layout": "IPY_MODEL_81367dda161c446586bad17900ac5122",
       "style": "IPY_MODEL_f79592657359414abaeb1ad4af2fafdb",
       "value": " 200/200 [00:13&lt;00:00,  9.70it/s]"
      }
     },
     "f0c6c704ece34bb1ab9d36ae59fe0559": {
      "model_module": "@jupyter-widgets/base",
      "model_module_version": "2.0.0",
      "model_name": "LayoutModel",
      "state": {}
     },
     "f285123d109047fc8ac6438bfd65d311": {
      "model_module": "@jupyter-widgets/controls",
      "model_module_version": "2.0.0",
      "model_name": "HBoxModel",
      "state": {
       "children": [
        "IPY_MODEL_6ab1a49290f04094b9efe6fc00187045",
        "IPY_MODEL_738ae805db78482293bdf14f481a288a",
        "IPY_MODEL_80af0def12844276826e7343d83a2267"
       ],
       "layout": "IPY_MODEL_0ef964bd32a1400ea658b4db93b3729e"
      }
     },
     "f3120027487f4d8183e344d6e71c9221": {
      "model_module": "@jupyter-widgets/controls",
      "model_module_version": "2.0.0",
      "model_name": "HTMLModel",
      "state": {
       "layout": "IPY_MODEL_386fc32745af48108db91d976a92db37",
       "style": "IPY_MODEL_f4d716b46d85470ea4688e08323ebed5",
       "value": "100%"
      }
     },
     "f3496aaeecfd45308aeedee584f6c8c3": {
      "model_module": "@jupyter-widgets/controls",
      "model_module_version": "2.0.0",
      "model_name": "ProgressStyleModel",
      "state": {
       "description_width": ""
      }
     },
     "f4d716b46d85470ea4688e08323ebed5": {
      "model_module": "@jupyter-widgets/controls",
      "model_module_version": "2.0.0",
      "model_name": "HTMLStyleModel",
      "state": {
       "description_width": "",
       "font_size": null,
       "text_color": null
      }
     },
     "f590974cc8564799a145bfee269bbd2c": {
      "model_module": "@jupyter-widgets/base",
      "model_module_version": "2.0.0",
      "model_name": "LayoutModel",
      "state": {}
     },
     "f5c7219a8c55453db3cc7db407e2ab3d": {
      "model_module": "@jupyter-widgets/base",
      "model_module_version": "2.0.0",
      "model_name": "LayoutModel",
      "state": {}
     },
     "f6069b81bede49b7a286380cb092d750": {
      "model_module": "@jupyter-widgets/controls",
      "model_module_version": "2.0.0",
      "model_name": "HTMLStyleModel",
      "state": {
       "description_width": "",
       "font_size": null,
       "text_color": null
      }
     },
     "f6478cd0ef6049fea390b43efc8e5c00": {
      "model_module": "@jupyter-widgets/base",
      "model_module_version": "2.0.0",
      "model_name": "LayoutModel",
      "state": {}
     },
     "f6efe0906b1f4d13929f2e4a9ba45131": {
      "model_module": "@jupyter-widgets/controls",
      "model_module_version": "2.0.0",
      "model_name": "FloatProgressModel",
      "state": {
       "bar_style": "success",
       "layout": "IPY_MODEL_2ba471b7a37e42e09292e8aeb1a81874",
       "max": 200,
       "style": "IPY_MODEL_dadd8e033f3e428083ce28bb30d6b375",
       "value": 200
      }
     },
     "f7884d96da304e60aaa60c70b1694a58": {
      "model_module": "@jupyter-widgets/controls",
      "model_module_version": "2.0.0",
      "model_name": "ProgressStyleModel",
      "state": {
       "description_width": ""
      }
     },
     "f79592657359414abaeb1ad4af2fafdb": {
      "model_module": "@jupyter-widgets/controls",
      "model_module_version": "2.0.0",
      "model_name": "HTMLStyleModel",
      "state": {
       "description_width": "",
       "font_size": null,
       "text_color": null
      }
     },
     "f9510fe2e8d043e2828a139bf85662ac": {
      "model_module": "@jupyter-widgets/controls",
      "model_module_version": "2.0.0",
      "model_name": "ProgressStyleModel",
      "state": {
       "description_width": ""
      }
     },
     "f99792e76bb84387a83b8fd67ae41808": {
      "model_module": "@jupyter-widgets/controls",
      "model_module_version": "2.0.0",
      "model_name": "HBoxModel",
      "state": {
       "children": [
        "IPY_MODEL_5c4f9e92699e413ab64eb40b5b9314b0",
        "IPY_MODEL_126b74d26e2c47e9a85de57ba1c4d09b",
        "IPY_MODEL_59ca154bd8b74de7bfee385a141666b5"
       ],
       "layout": "IPY_MODEL_d4f844d1b8044aaf8023a375a4ba8682"
      }
     },
     "f9a2dad786e64ef9942d301ea9ec3e9f": {
      "model_module": "@jupyter-widgets/controls",
      "model_module_version": "2.0.0",
      "model_name": "HTMLModel",
      "state": {
       "layout": "IPY_MODEL_e74711b50b044dd3b390860a4b36f8c8",
       "style": "IPY_MODEL_8a0b7cf0ed7c438d90684f13cd42bfd5",
       "value": "100%"
      }
     },
     "fb225cf20ac94b73af1452884eb307fd": {
      "model_module": "@jupyter-widgets/controls",
      "model_module_version": "2.0.0",
      "model_name": "HBoxModel",
      "state": {
       "children": [
        "IPY_MODEL_8d8b111f2ed849b1b2ea19db45cdca12",
        "IPY_MODEL_3cd9e456d9aa4dd9928c510065b2e9bd",
        "IPY_MODEL_30e766afa4414ac4907e67dc6ee6e770"
       ],
       "layout": "IPY_MODEL_3fa555eb353543a5bd3f155dd1323c7e"
      }
     },
     "fbd57d5bc0fc4722abb14c782704c29c": {
      "model_module": "@jupyter-widgets/controls",
      "model_module_version": "2.0.0",
      "model_name": "ProgressStyleModel",
      "state": {
       "description_width": ""
      }
     },
     "fc90eed748ec4c8094aecf0b5a2bee7f": {
      "model_module": "@jupyter-widgets/base",
      "model_module_version": "2.0.0",
      "model_name": "LayoutModel",
      "state": {}
     },
     "fdd2e7f203ca47da85c764d8384cc39d": {
      "model_module": "@jupyter-widgets/controls",
      "model_module_version": "2.0.0",
      "model_name": "HTMLModel",
      "state": {
       "layout": "IPY_MODEL_42a9e5c117634186b60f7e362fd2bf2f",
       "style": "IPY_MODEL_0d6a2ff33000460696f2a443c5f397f0",
       "value": " 200/200 [00:07&lt;00:00, 29.28it/s]"
      }
     },
     "fdd6c63ff4604c1ca79db4817680dfe7": {
      "model_module": "@jupyter-widgets/controls",
      "model_module_version": "2.0.0",
      "model_name": "HTMLStyleModel",
      "state": {
       "description_width": "",
       "font_size": null,
       "text_color": null
      }
     }
    },
    "version_major": 2,
    "version_minor": 0
   }
  }
 },
 "nbformat": 4,
 "nbformat_minor": 5
}
