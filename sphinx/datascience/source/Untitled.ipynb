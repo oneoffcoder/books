{
 "cells": [
  {
   "cell_type": "code",
   "execution_count": 10,
   "id": "3dbacce0-b123-4954-afc3-6e288e377c75",
   "metadata": {
    "tags": []
   },
   "outputs": [
    {
     "data": {
      "text/plain": [
       "(676, 31)"
      ]
     },
     "execution_count": 10,
     "metadata": {},
     "output_type": "execute_result"
    }
   ],
   "source": [
    "import pandas as pd\n",
    "import numpy as np\n",
    "\n",
    "df = pd.read_csv('./data/retail_price.csv') \\\n",
    "    .assign(\n",
    "        month_year=lambda d: pd.to_datetime(d['month_year']),\n",
    "        year=lambda d: d['month_year'].dt.year,\n",
    "        month=lambda d: d['month_year'].dt.month,\n",
    "        weekend=lambda d: d['weekday'].apply(lambda x: 1 if x >= 5 else 0),\n",
    "        text=lambda d: d['product_category_name'].apply(lambda s: ' '.join(s.split('_')))\n",
    "    )\n",
    "df.shape"
   ]
  },
  {
   "cell_type": "code",
   "execution_count": 11,
   "id": "5037173c-0934-47c6-80d0-332b7bae89dd",
   "metadata": {},
   "outputs": [
    {
     "name": "stdout",
     "output_type": "stream",
     "text": [
      "<class 'pandas.core.frame.DataFrame'>\n",
      "RangeIndex: 676 entries, 0 to 675\n",
      "Data columns (total 31 columns):\n",
      " #   Column                      Non-Null Count  Dtype         \n",
      "---  ------                      --------------  -----         \n",
      " 0   product_id                  676 non-null    object        \n",
      " 1   product_category_name       676 non-null    object        \n",
      " 2   month_year                  676 non-null    datetime64[ns]\n",
      " 3   qty                         676 non-null    int64         \n",
      " 4   total_price                 676 non-null    float64       \n",
      " 5   freight_price               676 non-null    float64       \n",
      " 6   unit_price                  676 non-null    float64       \n",
      " 7   product_name_lenght         676 non-null    int64         \n",
      " 8   product_description_lenght  676 non-null    int64         \n",
      " 9   product_photos_qty          676 non-null    int64         \n",
      " 10  product_weight_g            676 non-null    int64         \n",
      " 11  product_score               676 non-null    float64       \n",
      " 12  customers                   676 non-null    int64         \n",
      " 13  weekday                     676 non-null    int64         \n",
      " 14  weekend                     676 non-null    int64         \n",
      " 15  holiday                     676 non-null    int64         \n",
      " 16  month                       676 non-null    int64         \n",
      " 17  year                        676 non-null    int64         \n",
      " 18  s                           676 non-null    float64       \n",
      " 19  volume                      676 non-null    int64         \n",
      " 20  comp_1                      676 non-null    float64       \n",
      " 21  ps1                         676 non-null    float64       \n",
      " 22  fp1                         676 non-null    float64       \n",
      " 23  comp_2                      676 non-null    float64       \n",
      " 24  ps2                         676 non-null    float64       \n",
      " 25  fp2                         676 non-null    float64       \n",
      " 26  comp_3                      676 non-null    float64       \n",
      " 27  ps3                         676 non-null    float64       \n",
      " 28  fp3                         676 non-null    float64       \n",
      " 29  lag_price                   676 non-null    float64       \n",
      " 30  text                        676 non-null    object        \n",
      "dtypes: datetime64[ns](1), float64(15), int64(12), object(3)\n",
      "memory usage: 163.8+ KB\n"
     ]
    }
   ],
   "source": [
    "df.info()"
   ]
  },
  {
   "cell_type": "code",
   "execution_count": 29,
   "id": "81427178-2855-4639-85b9-6e6c8e9d5710",
   "metadata": {},
   "outputs": [
    {
     "data": {
      "text/plain": [
       "product_category_name\n",
       "bed_bath_table           26\n",
       "computers_accessories    48\n",
       "consoles_games           10\n",
       "cool_stuff               18\n",
       "furniture_decor          13\n",
       "garden_tools             56\n",
       "health_beauty            33\n",
       "perfumery                14\n",
       "watches_gifts            78\n",
       "dtype: int64"
      ]
     },
     "execution_count": 29,
     "metadata": {},
     "output_type": "execute_result"
    }
   ],
   "source": [
    "df \\\n",
    "    .groupby(['product_category_name', 'unit_price']) \\\n",
    "    .size() \\\n",
    "    .reset_index() \\\n",
    "    .groupby(['product_category_name']) \\\n",
    "    .size()"
   ]
  },
  {
   "cell_type": "code",
   "execution_count": 30,
   "id": "7350ec74-c443-4151-a195-80184b304864",
   "metadata": {},
   "outputs": [
    {
     "data": {
      "text/plain": [
       "(296, 3)"
      ]
     },
     "execution_count": 30,
     "metadata": {},
     "output_type": "execute_result"
    }
   ],
   "source": [
    "pq_df = df.groupby(['product_category_name', 'unit_price']) \\\n",
    "    .agg(\n",
    "        q=pd.NamedAgg('qty', 'sum')\n",
    "    ) \\\n",
    "    .reset_index() \\\n",
    "    .rename(columns={'unit_price': 'p', 'product_category_name': 'category'}) \\\n",
    "    .set_index(['category']) \\\n",
    "    .join(df \\\n",
    "        .rename(columns={'product_category_name': 'category'}) \\\n",
    "        .groupby(['category']) \\\n",
    "        .agg(c=pd.NamedAgg('freight_price', 'mean'))\n",
    "    )\n",
    "pq_df.shape"
   ]
  },
  {
   "cell_type": "code",
   "execution_count": 31,
   "id": "3b6daa0d-da08-4c60-a867-cd706c158202",
   "metadata": {},
   "outputs": [
    {
     "data": {
      "text/html": [
       "<div>\n",
       "<style scoped>\n",
       "    .dataframe tbody tr th:only-of-type {\n",
       "        vertical-align: middle;\n",
       "    }\n",
       "\n",
       "    .dataframe tbody tr th {\n",
       "        vertical-align: top;\n",
       "    }\n",
       "\n",
       "    .dataframe thead th {\n",
       "        text-align: right;\n",
       "    }\n",
       "</style>\n",
       "<table border=\"1\" class=\"dataframe\">\n",
       "  <thead>\n",
       "    <tr style=\"text-align: right;\">\n",
       "      <th></th>\n",
       "      <th>p</th>\n",
       "      <th>q</th>\n",
       "      <th>c</th>\n",
       "    </tr>\n",
       "    <tr>\n",
       "      <th>category</th>\n",
       "      <th></th>\n",
       "      <th></th>\n",
       "      <th></th>\n",
       "    </tr>\n",
       "  </thead>\n",
       "  <tbody>\n",
       "    <tr>\n",
       "      <th>bed_bath_table</th>\n",
       "      <td>39.240000</td>\n",
       "      <td>8</td>\n",
       "      <td>16.139718</td>\n",
       "    </tr>\n",
       "    <tr>\n",
       "      <th>bed_bath_table</th>\n",
       "      <td>39.990000</td>\n",
       "      <td>105</td>\n",
       "      <td>16.139718</td>\n",
       "    </tr>\n",
       "    <tr>\n",
       "      <th>bed_bath_table</th>\n",
       "      <td>40.531818</td>\n",
       "      <td>11</td>\n",
       "      <td>16.139718</td>\n",
       "    </tr>\n",
       "    <tr>\n",
       "      <th>bed_bath_table</th>\n",
       "      <td>44.154444</td>\n",
       "      <td>32</td>\n",
       "      <td>16.139718</td>\n",
       "    </tr>\n",
       "    <tr>\n",
       "      <th>bed_bath_table</th>\n",
       "      <td>45.900000</td>\n",
       "      <td>76</td>\n",
       "      <td>16.139718</td>\n",
       "    </tr>\n",
       "    <tr>\n",
       "      <th>...</th>\n",
       "      <td>...</td>\n",
       "      <td>...</td>\n",
       "      <td>...</td>\n",
       "    </tr>\n",
       "    <tr>\n",
       "      <th>watches_gifts</th>\n",
       "      <td>339.900000</td>\n",
       "      <td>1</td>\n",
       "      <td>16.492840</td>\n",
       "    </tr>\n",
       "    <tr>\n",
       "      <th>watches_gifts</th>\n",
       "      <td>345.706667</td>\n",
       "      <td>9</td>\n",
       "      <td>16.492840</td>\n",
       "    </tr>\n",
       "    <tr>\n",
       "      <th>watches_gifts</th>\n",
       "      <td>346.158000</td>\n",
       "      <td>10</td>\n",
       "      <td>16.492840</td>\n",
       "    </tr>\n",
       "    <tr>\n",
       "      <th>watches_gifts</th>\n",
       "      <td>347.000000</td>\n",
       "      <td>5</td>\n",
       "      <td>16.492840</td>\n",
       "    </tr>\n",
       "    <tr>\n",
       "      <th>watches_gifts</th>\n",
       "      <td>348.800000</td>\n",
       "      <td>11</td>\n",
       "      <td>16.492840</td>\n",
       "    </tr>\n",
       "  </tbody>\n",
       "</table>\n",
       "<p>296 rows × 3 columns</p>\n",
       "</div>"
      ],
      "text/plain": [
       "                         p    q          c\n",
       "category                                  \n",
       "bed_bath_table   39.240000    8  16.139718\n",
       "bed_bath_table   39.990000  105  16.139718\n",
       "bed_bath_table   40.531818   11  16.139718\n",
       "bed_bath_table   44.154444   32  16.139718\n",
       "bed_bath_table   45.900000   76  16.139718\n",
       "...                    ...  ...        ...\n",
       "watches_gifts   339.900000    1  16.492840\n",
       "watches_gifts   345.706667    9  16.492840\n",
       "watches_gifts   346.158000   10  16.492840\n",
       "watches_gifts   347.000000    5  16.492840\n",
       "watches_gifts   348.800000   11  16.492840\n",
       "\n",
       "[296 rows x 3 columns]"
      ]
     },
     "execution_count": 31,
     "metadata": {},
     "output_type": "execute_result"
    }
   ],
   "source": [
    "pq_df"
   ]
  },
  {
   "cell_type": "code",
   "execution_count": 55,
   "id": "4ef926dd-333c-4fb1-bbaf-7f4e4a9d39b7",
   "metadata": {},
   "outputs": [
    {
     "data": {
      "text/plain": [
       "(9, 7)"
      ]
     },
     "execution_count": 55,
     "metadata": {},
     "output_type": "execute_result"
    }
   ],
   "source": [
    "from sklearn.linear_model import LinearRegression\n",
    "\n",
    "def get_mc(category):\n",
    "    return pq_df[pq_df.index==category].iloc[0].c\n",
    "\n",
    "def get_Xy(category):\n",
    "    Xy = pq_df[pq_df.index==category]\n",
    "    X = np.log(Xy[['p']])\n",
    "    y = np.log(Xy['q'])\n",
    "    \n",
    "    return X, y\n",
    "\n",
    "def get_model(X, y):\n",
    "    m = LinearRegression()\n",
    "    m.fit(X, y)\n",
    "    \n",
    "    return m\n",
    "    \n",
    "def get_params(model):\n",
    "    return pd.Series([model.intercept_, model.coef_[0]], ['b_0', 'b_1'])\n",
    "\n",
    "def get_pq(b_0, b_1):\n",
    "    return lambda q: (-b_0 / b_1) + (1 / b_1) * q\n",
    "\n",
    "def get_qp(b_0, b_1):\n",
    "    return lambda p: b_0 + (b_1 * p)\n",
    "\n",
    "def get_mr(b_0, b_1):\n",
    "    return lambda q: (-b_0 / b_1) + (2 * (1 / b_1) * q)\n",
    "\n",
    "def get_qo(b_0, b_1):\n",
    "    z_0 = (-b_0 / b_1)\n",
    "    z_1 = 2 * (1 / b_1)\n",
    "    return lambda mc: (mc - z_0) / z_1\n",
    "\n",
    "def get_funcs(b_0, b_1):\n",
    "    pq = get_pq(b_0, b_1)\n",
    "    qp = get_qp(b_0, b_1)\n",
    "    mr = get_mr(b_0, b_1)\n",
    "    qo = get_qo(b_0, b_1)\n",
    "    r = lambda p, q: p * q\n",
    "    t = lambda p, q, mc: (p * q) - (mc * q)\n",
    "    \n",
    "    return pq, qp, mr, qo, r, t\n",
    "\n",
    "def get_opt(f, mc):\n",
    "    pq_f, qp_f, mr_f, qo_f, r_f, t_f = f\n",
    "    \n",
    "    q_opt = qo_f(mc)\n",
    "    p_opt = pq_f(q_opt)\n",
    "    mr_opt = mr_f(q_opt)\n",
    "    r_opt = r_f(p_opt, q_opt)\n",
    "    t_opt = t_f(p_opt, q_opt, mc)\n",
    "\n",
    "    return pd.Series({\n",
    "        'mc': mc,\n",
    "        'q_opt': q_opt,\n",
    "        'p_opt': p_opt,\n",
    "        'mr_opt': mr_opt,\n",
    "        'r_opt': r_opt,\n",
    "        't_opt': t_opt\n",
    "    })\n",
    "\n",
    "def optimize(category):\n",
    "    X, y = get_Xy(category)\n",
    "    m = get_model(X, y)\n",
    "    p = get_params(m)\n",
    "    f = get_funcs(p.b_0, p.b_1)\n",
    "    mc = np.log(get_mc(category))\n",
    "    \n",
    "    return {**{'category': category}, **get_opt(f, mc).to_dict()}\n",
    "\n",
    "opt_df = pd.DataFrame([optimize(c) for c in pq_df.index.unique()])\n",
    "opt_df.shape"
   ]
  },
  {
   "cell_type": "code",
   "execution_count": 57,
   "id": "9fb7dae8-6e5c-4100-834d-8c574e7a7d1a",
   "metadata": {},
   "outputs": [
    {
     "data": {
      "text/html": [
       "<div>\n",
       "<style scoped>\n",
       "    .dataframe tbody tr th:only-of-type {\n",
       "        vertical-align: middle;\n",
       "    }\n",
       "\n",
       "    .dataframe tbody tr th {\n",
       "        vertical-align: top;\n",
       "    }\n",
       "\n",
       "    .dataframe thead th {\n",
       "        text-align: right;\n",
       "    }\n",
       "</style>\n",
       "<table border=\"1\" class=\"dataframe\">\n",
       "  <thead>\n",
       "    <tr style=\"text-align: right;\">\n",
       "      <th></th>\n",
       "      <th>mc</th>\n",
       "      <th>q_opt</th>\n",
       "      <th>p_opt</th>\n",
       "      <th>mr_opt</th>\n",
       "      <th>r_opt</th>\n",
       "      <th>t_opt</th>\n",
       "    </tr>\n",
       "    <tr>\n",
       "      <th>category</th>\n",
       "      <th></th>\n",
       "      <th></th>\n",
       "      <th></th>\n",
       "      <th></th>\n",
       "      <th></th>\n",
       "      <th></th>\n",
       "    </tr>\n",
       "  </thead>\n",
       "  <tbody>\n",
       "    <tr>\n",
       "      <th>bed_bath_table</th>\n",
       "      <td>16.139718</td>\n",
       "      <td>5.993082</td>\n",
       "      <td>3.469870e+03</td>\n",
       "      <td>16.139718</td>\n",
       "      <td>2.184266e+06</td>\n",
       "      <td>1.501205e+04</td>\n",
       "    </tr>\n",
       "    <tr>\n",
       "      <th>computers_accessories</th>\n",
       "      <td>25.103741</td>\n",
       "      <td>3.545770</td>\n",
       "      <td>2.368603e-11</td>\n",
       "      <td>25.103741</td>\n",
       "      <td>3.553920e-14</td>\n",
       "      <td>6.011480e-16</td>\n",
       "    </tr>\n",
       "    <tr>\n",
       "      <th>consoles_games</th>\n",
       "      <td>14.809415</td>\n",
       "      <td>10.203546</td>\n",
       "      <td>3.100986e+01</td>\n",
       "      <td>14.809415</td>\n",
       "      <td>2.913127e+03</td>\n",
       "      <td>5.565571e+00</td>\n",
       "    </tr>\n",
       "    <tr>\n",
       "      <th>cool_stuff</th>\n",
       "      <td>18.975096</td>\n",
       "      <td>5.301944</td>\n",
       "      <td>8.022958e+02</td>\n",
       "      <td>18.975096</td>\n",
       "      <td>6.992675e+04</td>\n",
       "      <td>5.158680e+02</td>\n",
       "    </tr>\n",
       "    <tr>\n",
       "      <th>furniture_decor</th>\n",
       "      <td>16.944617</td>\n",
       "      <td>11.426505</td>\n",
       "      <td>1.733073e+02</td>\n",
       "      <td>16.944617</td>\n",
       "      <td>2.841932e+05</td>\n",
       "      <td>2.882514e+02</td>\n",
       "    </tr>\n",
       "    <tr>\n",
       "      <th>garden_tools</th>\n",
       "      <td>28.458310</td>\n",
       "      <td>7.659429</td>\n",
       "      <td>2.051773e+02</td>\n",
       "      <td>28.458310</td>\n",
       "      <td>5.097424e+04</td>\n",
       "      <td>5.580485e+01</td>\n",
       "    </tr>\n",
       "    <tr>\n",
       "      <th>health_beauty</th>\n",
       "      <td>18.607448</td>\n",
       "      <td>6.315087</td>\n",
       "      <td>1.810042e+09</td>\n",
       "      <td>18.607448</td>\n",
       "      <td>1.151803e+17</td>\n",
       "      <td>5.265261e+14</td>\n",
       "    </tr>\n",
       "    <tr>\n",
       "      <th>perfumery</th>\n",
       "      <td>14.336311</td>\n",
       "      <td>12.563646</td>\n",
       "      <td>9.099016e+01</td>\n",
       "      <td>14.336311</td>\n",
       "      <td>9.074814e+04</td>\n",
       "      <td>1.074280e+02</td>\n",
       "    </tr>\n",
       "    <tr>\n",
       "      <th>watches_gifts</th>\n",
       "      <td>16.492840</td>\n",
       "      <td>13.434794</td>\n",
       "      <td>1.396856e+02</td>\n",
       "      <td>16.492840</td>\n",
       "      <td>3.739190e+05</td>\n",
       "      <td>2.572936e+02</td>\n",
       "    </tr>\n",
       "  </tbody>\n",
       "</table>\n",
       "</div>"
      ],
      "text/plain": [
       "                              mc      q_opt         p_opt     mr_opt  \\\n",
       "category                                                               \n",
       "bed_bath_table         16.139718   5.993082  3.469870e+03  16.139718   \n",
       "computers_accessories  25.103741   3.545770  2.368603e-11  25.103741   \n",
       "consoles_games         14.809415  10.203546  3.100986e+01  14.809415   \n",
       "cool_stuff             18.975096   5.301944  8.022958e+02  18.975096   \n",
       "furniture_decor        16.944617  11.426505  1.733073e+02  16.944617   \n",
       "garden_tools           28.458310   7.659429  2.051773e+02  28.458310   \n",
       "health_beauty          18.607448   6.315087  1.810042e+09  18.607448   \n",
       "perfumery              14.336311  12.563646  9.099016e+01  14.336311   \n",
       "watches_gifts          16.492840  13.434794  1.396856e+02  16.492840   \n",
       "\n",
       "                              r_opt         t_opt  \n",
       "category                                           \n",
       "bed_bath_table         2.184266e+06  1.501205e+04  \n",
       "computers_accessories  3.553920e-14  6.011480e-16  \n",
       "consoles_games         2.913127e+03  5.565571e+00  \n",
       "cool_stuff             6.992675e+04  5.158680e+02  \n",
       "furniture_decor        2.841932e+05  2.882514e+02  \n",
       "garden_tools           5.097424e+04  5.580485e+01  \n",
       "health_beauty          1.151803e+17  5.265261e+14  \n",
       "perfumery              9.074814e+04  1.074280e+02  \n",
       "watches_gifts          3.739190e+05  2.572936e+02  "
      ]
     },
     "execution_count": 57,
     "metadata": {},
     "output_type": "execute_result"
    }
   ],
   "source": [
    "np.exp(opt_df.set_index(['category']))"
   ]
  },
  {
   "cell_type": "code",
   "execution_count": 58,
   "id": "2c7503f9-fe5d-40c3-9d9b-12406f5d091d",
   "metadata": {},
   "outputs": [
    {
     "data": {
      "text/plain": [
       "product_category_name\n",
       "bed_bath_table            78.629278\n",
       "computers_accessories    119.482323\n",
       "consoles_games            27.033766\n",
       "cool_stuff               107.857512\n",
       "furniture_decor           60.154262\n",
       "garden_tools              80.094699\n",
       "health_beauty            132.309870\n",
       "perfumery                 89.348813\n",
       "watches_gifts            164.880007\n",
       "Name: unit_price, dtype: float64"
      ]
     },
     "execution_count": 58,
     "metadata": {},
     "output_type": "execute_result"
    }
   ],
   "source": [
    "df.groupby(['product_category_name'])['unit_price'].mean()"
   ]
  },
  {
   "cell_type": "code",
   "execution_count": 59,
   "id": "15dde5ea-35a0-46a6-a9d1-928f20b04203",
   "metadata": {},
   "outputs": [
    {
     "data": {
      "text/plain": [
       "product_category_name\n",
       "bed_bath_table           215.000000\n",
       "computers_accessories    178.057143\n",
       "consoles_games            36.200000\n",
       "cool_stuff               176.990000\n",
       "furniture_decor          103.233333\n",
       "garden_tools             187.854286\n",
       "health_beauty            364.000000\n",
       "perfumery                142.500000\n",
       "watches_gifts            348.800000\n",
       "Name: unit_price, dtype: float64"
      ]
     },
     "execution_count": 59,
     "metadata": {},
     "output_type": "execute_result"
    }
   ],
   "source": [
    "df.groupby(['product_category_name'])['unit_price'].max()"
   ]
  },
  {
   "cell_type": "code",
   "execution_count": null,
   "id": "f506f153-86e6-451a-aa29-b5c6484ac550",
   "metadata": {},
   "outputs": [],
   "source": []
  }
 ],
 "metadata": {
  "kernelspec": {
   "display_name": "Python 3 (ipykernel)",
   "language": "python",
   "name": "python3"
  },
  "language_info": {
   "codemirror_mode": {
    "name": "ipython",
    "version": 3
   },
   "file_extension": ".py",
   "mimetype": "text/x-python",
   "name": "python",
   "nbconvert_exporter": "python",
   "pygments_lexer": "ipython3",
   "version": "3.9.16"
  },
  "widgets": {
   "application/vnd.jupyter.widget-state+json": {
    "state": {},
    "version_major": 2,
    "version_minor": 0
   }
  }
 },
 "nbformat": 4,
 "nbformat_minor": 5
}
