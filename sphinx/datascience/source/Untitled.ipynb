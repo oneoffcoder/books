{
 "cells": [
  {
   "cell_type": "markdown",
   "id": "b76f5535-d5b5-411b-88ac-31a4a762cadf",
   "metadata": {},
   "source": [
    "A linear demand curve model is defined as follows with $Q$ (demand/quantity) predicted from $P$ (price). Using algebriac manipulation, we can formulate $P$ in terms of $Q$. The total revenue $R$ and marginal revenue $R'$ may also be defined quite easily using substitution and taking the derivative, respectively. Notice the progression from $Q$ to $P$ to $R$ and then finally $R'$.\n",
    "\n",
    "- $Q = \\beta_0 + \\beta_1 P$\n",
    "- $P = \\dfrac{1}{\\beta_1}Q - \\dfrac{\\beta_0}{\\beta_1}$\n",
    "- $R = PQ = \\dfrac{1}{\\beta_1}Q^2 - \\dfrac{\\beta_0}{\\beta_1}Q$\n",
    "- $R' = \\dfrac{\\mathrm{d} R}{\\mathrm{d} Q} = \\dfrac{2}{\\beta_1}Q - \\dfrac{\\beta_0}{\\beta_1}$\n",
    "\n",
    "Revenue optimality is found by setting the marginal cost $C'$ equal to the marginal revenue $R'$ and then solving for $Q$. The $Q$ value we get when $C'$ is known is the optimal quantity. We can then subsitute $Q$ back into the equations above to get the optimal $P$, $R$ and $R'$.\n",
    "\n",
    "- $C' = \\dfrac{2}{\\beta_1}Q - \\dfrac{\\beta_0}{\\beta_1}$\n",
    "- $\\beta_1 C'  = 2Q - \\beta_0$\n",
    "- $\\beta_0 + \\beta_1 C'  = 2Q$\n",
    "- $\\dfrac{\\beta_0 + \\beta_1 C'}{2}  = Q$\n",
    "\n",
    "Profit optimality.\n",
    "\n",
    "- $T = Q(P - C')$\n",
    "- $T = (\\beta_0 + \\beta_1 P)(P - C')$, substituting $Q$\n",
    "- $T = \\beta_0 P - \\beta_0 C' + \\beta_1 P^2 - \\beta_1 C'$, expanding using FOIL method\n",
    "- $T = \\beta_1 P^2 + \\beta_0 P - (\\beta_0 + \\beta_1) C'$, grouping polynomial terms\n",
    "- $T' = 2 \\beta_1 P + \\beta_0$, taking derivative with respect to $P$\n",
    "- $0 = 2 \\beta_1 P + \\beta_0$, optimal point is $T' = 0$\n",
    "- $-\\dfrac{\\beta_0}{2 \\beta_1} = P$, solving for $P$"
   ]
  },
  {
   "cell_type": "code",
   "execution_count": 1,
   "id": "4eb82655-03fb-4a3c-a255-4b1b22c43142",
   "metadata": {},
   "outputs": [
    {
     "data": {
      "text/plain": [
       "(97, 2)"
      ]
     },
     "execution_count": 1,
     "metadata": {},
     "output_type": "execute_result"
    }
   ],
   "source": [
    "import pandas as pd\n",
    "import numpy as np\n",
    "\n",
    "np.random.seed(37)\n",
    "\n",
    "N = 100\n",
    "P = np.random.normal(40, 20, N) # np.arange(0, 81, 1)\n",
    "Q = np.random.normal(400 + (-5 * P), 1, P.shape[0]) + np.random.normal(10, 20, N)\n",
    "\n",
    "df = pd.DataFrame({'p': P, 'q': Q}) \\\n",
    "    .sort_values(['p']) \\\n",
    "    .query('p >= 0') \\\n",
    "    .reset_index(drop=True)\n",
    "\n",
    "df.shape"
   ]
  },
  {
   "cell_type": "code",
   "execution_count": 2,
   "id": "f614da82-fae4-44ed-a856-9e47b579eb71",
   "metadata": {},
   "outputs": [],
   "source": [
    "X = df[['p']]\n",
    "y = df['q']\n",
    "\n",
    "mc = 15.0"
   ]
  },
  {
   "cell_type": "code",
   "execution_count": 3,
   "id": "9ff9bcaa-3b1e-464d-9cf3-803755f590df",
   "metadata": {},
   "outputs": [
    {
     "name": "stderr",
     "output_type": "stream",
     "text": [
      "Intel(R) Extension for Scikit-learn* enabled (https://github.com/intel/scikit-learn-intelex)\n"
     ]
    }
   ],
   "source": [
    "from sklearn.linear_model import LinearRegression\n",
    "\n",
    "def get_model(X, y):\n",
    "    m = LinearRegression()\n",
    "    m.fit(X, y)\n",
    "    \n",
    "    return m\n",
    "\n",
    "def debug_params(model, mc):\n",
    "    b_0, b_1 = model.intercept_, model.coef_[0]\n",
    "    qp_params = f'{b_0:.5f} + {b_1:.5f}p'\n",
    "    \n",
    "    z_0, z_1 = (-b_0 / b_1), (1 / b_1)\n",
    "    pq_params = f'{z_0:.5f} + {z_1:.5f}q'\n",
    "    tr_params = f'{z_0:.5f}q + {z_1:.5f}q^2'\n",
    "    \n",
    "    z_0, z_1 = (-b_0 / b_1), 2 * (1 / b_1)\n",
    "    mr_params = f'{z_0:.5f} + {z_1:.5f}q'\n",
    "    \n",
    "    z_0, z_1 = (-b_0 / b_1), 2 * (1 / b_1)\n",
    "    qo_params = f'({mc:.5f} - {z_0:.5f}) / {z_1:.5f}'\n",
    "    \n",
    "    t_params = f'{-b_0 / (2 * b_1):.5f}p'\n",
    "    \n",
    "    return {\n",
    "        'q': qp_params,\n",
    "        'p': pq_params,\n",
    "        'tr': tr_params,\n",
    "        'mr': mr_params,\n",
    "        'qo': qo_params,\n",
    "        't': t_params\n",
    "    }\n",
    "    \n",
    "def get_params(model):\n",
    "    return pd.Series([model.intercept_, model.coef_[0]], ['b_0', 'b_1'])\n",
    "\n",
    "def get_pq(b_0, b_1):\n",
    "    return lambda q: (-b_0 / b_1) + (1 / b_1) * q\n",
    "\n",
    "def get_qp(b_0, b_1):\n",
    "    return lambda p: b_0 + (b_1 * p)\n",
    "\n",
    "def get_mr(b_0, b_1):\n",
    "    return lambda q: (-b_0 / b_1) + (2 * (1 / b_1) * q)\n",
    "\n",
    "def get_qo(b_0, b_1):\n",
    "    z_0 = (-b_0 / b_1)\n",
    "    z_1 = 2 * (1 / b_1)\n",
    "    return lambda mc: (mc - z_0) / z_1\n",
    "\n",
    "def get_to(b_0, b_1):\n",
    "    return -b_0 / (2 * b_1)\n",
    "\n",
    "def get_funcs(b_0, b_1):\n",
    "    pq = get_pq(b_0, b_1)\n",
    "    qp = get_qp(b_0, b_1)\n",
    "    mr = get_mr(b_0, b_1)\n",
    "    qo = get_qo(b_0, b_1)\n",
    "    r = lambda p, q: p * q\n",
    "    t = lambda p, q, mc: (p * q) - (mc * q)\n",
    "    \n",
    "    return pq, qp, mr, qo, r, t\n",
    "\n",
    "def get_opt(f, mc):\n",
    "    pq_f, qp_f, mr_f, qo_f, r_f, t_f = f\n",
    "    \n",
    "    q_opt = qo_f(mc)\n",
    "    p_opt = pq_f(q_opt)\n",
    "    mr_opt = mr_f(q_opt)\n",
    "    r_opt = r_f(p_opt, q_opt)\n",
    "    t_opt = t_f(p_opt, q_opt, mc)\n",
    "\n",
    "    return pd.Series({\n",
    "        'mc': mc,\n",
    "        'p': p_opt,\n",
    "        'q': q_opt,\n",
    "        'mr': mr_opt,\n",
    "        'tr': r_opt,\n",
    "        'pr': t_opt\n",
    "    })\n",
    "\n",
    "def optimize(category):\n",
    "    X, y = get_Xy(category)\n",
    "    m = get_model(X, y)\n",
    "    p = get_params(m)\n",
    "    f = get_funcs(p.b_0, p.b_1)\n",
    "    mc = get_mc(category)\n",
    "    \n",
    "    return {**{'category': category}, **get_opt(f, mc).to_dict()}"
   ]
  },
  {
   "cell_type": "code",
   "execution_count": 4,
   "id": "fa169dbb-8870-442d-b855-7d6789883c62",
   "metadata": {},
   "outputs": [
    {
     "data": {
      "text/plain": [
       "{'q': '402.06115 + -4.83566p',\n",
       " 'p': '83.14509 + -0.20680q',\n",
       " 'tr': '83.14509q + -0.20680q^2',\n",
       " 'mr': '83.14509 + -0.41359q',\n",
       " 'qo': '(15.00000 - 83.14509) / -0.41359',\n",
       " 't': '41.57255p'}"
      ]
     },
     "execution_count": 4,
     "metadata": {},
     "output_type": "execute_result"
    }
   ],
   "source": [
    "m = get_model(X, y)\n",
    "debug_params(m, mc)"
   ]
  },
  {
   "cell_type": "code",
   "execution_count": 5,
   "id": "8bc85d86-6452-4644-ba6b-7ccf4a79ffd9",
   "metadata": {},
   "outputs": [
    {
     "data": {
      "text/plain": [
       "mc      15.000000\n",
       "p       49.072545\n",
       "q      164.763146\n",
       "mr      15.000000\n",
       "tr    8085.346941\n",
       "pr    5613.899751\n",
       "dtype: float64"
      ]
     },
     "execution_count": 5,
     "metadata": {},
     "output_type": "execute_result"
    }
   ],
   "source": [
    "f = get_funcs(m.intercept_, m.coef_[0])\n",
    "get_opt(f, mc)"
   ]
  },
  {
   "cell_type": "code",
   "execution_count": 6,
   "id": "aef5a5e6-1053-4310-804d-b8f94bd19fad",
   "metadata": {},
   "outputs": [
    {
     "data": {
      "text/plain": [
       "41.57254526955509"
      ]
     },
     "execution_count": 6,
     "metadata": {},
     "output_type": "execute_result"
    }
   ],
   "source": [
    "get_to(m.intercept_, m.coef_[0])"
   ]
  },
  {
   "cell_type": "code",
   "execution_count": 7,
   "id": "68873cbf-3489-40dc-bce7-08da76c1059c",
   "metadata": {},
   "outputs": [
    {
     "name": "stderr",
     "output_type": "stream",
     "text": [
      "C:\\Users\\super\\anaconda3\\lib\\site-packages\\sklearn\\base.py:439: UserWarning: X does not have valid feature names, but LinearRegression was fitted with feature names\n",
      "  warnings.warn(\n",
      "C:\\Users\\super\\anaconda3\\lib\\site-packages\\sklearn\\base.py:439: UserWarning: X does not have valid feature names, but LinearRegression was fitted with feature names\n",
      "  warnings.warn(\n"
     ]
    },
    {
     "data": {
      "text/plain": [
       "array([201.03057438])"
      ]
     },
     "execution_count": 7,
     "metadata": {},
     "output_type": "execute_result"
    }
   ],
   "source": [
    "m.predict([[41.57254526955506]])"
   ]
  },
  {
   "cell_type": "code",
   "execution_count": 8,
   "id": "c807273a-8d24-4cd2-8464-4828e899d5bf",
   "metadata": {},
   "outputs": [
    {
     "name": "stderr",
     "output_type": "stream",
     "text": [
      "C:\\Users\\super\\anaconda3\\lib\\site-packages\\sklearn\\base.py:439: UserWarning: X does not have valid feature names, but LinearRegression was fitted with feature names\n",
      "  warnings.warn(\n",
      "C:\\Users\\super\\anaconda3\\lib\\site-packages\\sklearn\\base.py:439: UserWarning: X does not have valid feature names, but LinearRegression was fitted with feature names\n",
      "  warnings.warn(\n"
     ]
    },
    {
     "data": {
      "text/plain": [
       "5341.894038341078"
      ]
     },
     "execution_count": 8,
     "metadata": {},
     "output_type": "execute_result"
    }
   ],
   "source": [
    "m.predict([[41.57254526955506]])[0] * (get_to(m.intercept_, m.coef_[0]) - mc)"
   ]
  },
  {
   "cell_type": "code",
   "execution_count": null,
   "id": "33ed545c-f932-4963-b6b2-1e4db81eaa78",
   "metadata": {},
   "outputs": [],
   "source": []
  },
  {
   "cell_type": "code",
   "execution_count": null,
   "id": "9883b424-40d5-4378-9c14-4914d58a1a1d",
   "metadata": {},
   "outputs": [],
   "source": []
  }
 ],
 "metadata": {
  "kernelspec": {
   "display_name": "Python 3 (ipykernel)",
   "language": "python",
   "name": "python3"
  },
  "language_info": {
   "codemirror_mode": {
    "name": "ipython",
    "version": 3
   },
   "file_extension": ".py",
   "mimetype": "text/x-python",
   "name": "python",
   "nbconvert_exporter": "python",
   "pygments_lexer": "ipython3",
   "version": "3.9.16"
  },
  "widgets": {
   "application/vnd.jupyter.widget-state+json": {
    "state": {},
    "version_major": 2,
    "version_minor": 0
   }
  }
 },
 "nbformat": 4,
 "nbformat_minor": 5
}
