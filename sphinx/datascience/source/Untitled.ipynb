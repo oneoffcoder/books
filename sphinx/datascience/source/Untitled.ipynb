{
 "cells": [
  {
   "cell_type": "code",
   "execution_count": 59,
   "id": "c3a35271-5a53-402b-9656-dcd2e32839bf",
   "metadata": {},
   "outputs": [
    {
     "name": "stdout",
     "output_type": "stream",
     "text": [
      "Optimization terminated successfully.\n",
      "         Current function value: -8348.080476\n",
      "         Iterations: 40\n",
      "         Function evaluations: 80\n",
      "[199.3809375]\n"
     ]
    }
   ],
   "source": [
    "import scipy.optimize as optimize\n",
    "import numpy as np\n",
    "\n",
    "def f(q):\n",
    "    r = 83.74 * q - 0.21 * q ** 2\n",
    "    return -r\n",
    "\n",
    "x = optimize.fmin(f, 0)\n",
    "\n",
    "print(x)"
   ]
  },
  {
   "cell_type": "code",
   "execution_count": 60,
   "id": "01ce8eef-8054-4c61-acd1-ccc0e4774d1d",
   "metadata": {},
   "outputs": [
    {
     "data": {
      "text/html": [
       "<div>\n",
       "<style scoped>\n",
       "    .dataframe tbody tr th:only-of-type {\n",
       "        vertical-align: middle;\n",
       "    }\n",
       "\n",
       "    .dataframe tbody tr th {\n",
       "        vertical-align: top;\n",
       "    }\n",
       "\n",
       "    .dataframe thead th {\n",
       "        text-align: right;\n",
       "    }\n",
       "</style>\n",
       "<table border=\"1\" class=\"dataframe\">\n",
       "  <thead>\n",
       "    <tr style=\"text-align: right;\">\n",
       "      <th></th>\n",
       "      <th>q</th>\n",
       "      <th>r</th>\n",
       "      <th>p</th>\n",
       "    </tr>\n",
       "  </thead>\n",
       "  <tbody>\n",
       "    <tr>\n",
       "      <th>19</th>\n",
       "      <td>199</td>\n",
       "      <td>8348.05</td>\n",
       "      <td>41.95</td>\n",
       "    </tr>\n",
       "    <tr>\n",
       "      <th>20</th>\n",
       "      <td>200</td>\n",
       "      <td>8348.00</td>\n",
       "      <td>41.74</td>\n",
       "    </tr>\n",
       "    <tr>\n",
       "      <th>18</th>\n",
       "      <td>198</td>\n",
       "      <td>8347.68</td>\n",
       "      <td>42.16</td>\n",
       "    </tr>\n",
       "    <tr>\n",
       "      <th>21</th>\n",
       "      <td>201</td>\n",
       "      <td>8347.53</td>\n",
       "      <td>41.53</td>\n",
       "    </tr>\n",
       "    <tr>\n",
       "      <th>17</th>\n",
       "      <td>197</td>\n",
       "      <td>8346.89</td>\n",
       "      <td>42.37</td>\n",
       "    </tr>\n",
       "    <tr>\n",
       "      <th>22</th>\n",
       "      <td>202</td>\n",
       "      <td>8346.64</td>\n",
       "      <td>41.32</td>\n",
       "    </tr>\n",
       "    <tr>\n",
       "      <th>16</th>\n",
       "      <td>196</td>\n",
       "      <td>8345.68</td>\n",
       "      <td>42.58</td>\n",
       "    </tr>\n",
       "    <tr>\n",
       "      <th>23</th>\n",
       "      <td>203</td>\n",
       "      <td>8345.33</td>\n",
       "      <td>41.11</td>\n",
       "    </tr>\n",
       "    <tr>\n",
       "      <th>15</th>\n",
       "      <td>195</td>\n",
       "      <td>8344.05</td>\n",
       "      <td>42.79</td>\n",
       "    </tr>\n",
       "    <tr>\n",
       "      <th>24</th>\n",
       "      <td>204</td>\n",
       "      <td>8343.60</td>\n",
       "      <td>40.90</td>\n",
       "    </tr>\n",
       "  </tbody>\n",
       "</table>\n",
       "</div>"
      ],
      "text/plain": [
       "      q        r      p\n",
       "19  199  8348.05  41.95\n",
       "20  200  8348.00  41.74\n",
       "18  198  8347.68  42.16\n",
       "21  201  8347.53  41.53\n",
       "17  197  8346.89  42.37\n",
       "22  202  8346.64  41.32\n",
       "16  196  8345.68  42.58\n",
       "23  203  8345.33  41.11\n",
       "15  195  8344.05  42.79\n",
       "24  204  8343.60  40.90"
      ]
     },
     "execution_count": 60,
     "metadata": {},
     "output_type": "execute_result"
    }
   ],
   "source": [
    "pd.DataFrame({'q': np.arange(180, 221, 1)}) \\\n",
    "    .assign(r=lambda d: -f(d.q), p=lambda d: d.r / d.q) \\\n",
    "    .sort_values(['r'], ascending=False) \\\n",
    "    .head(10)"
   ]
  },
  {
   "cell_type": "code",
   "execution_count": 61,
   "id": "786f15f4-67e9-41ee-8d5f-2021d6becdd9",
   "metadata": {},
   "outputs": [
    {
     "data": {
      "text/plain": [
       "<Axes: xlabel='p'>"
      ]
     },
     "execution_count": 61,
     "metadata": {},
     "output_type": "execute_result"
    },
    {
     "data": {
      "image/png": "[encoded data removed]",
      "text/plain": [
       "<Figure size 640x480 with 1 Axes>"
      ]
     },
     "metadata": {},
     "output_type": "display_data"
    }
   ],
   "source": [
    "import pandas as pd\n",
    "\n",
    "pd.DataFrame({'q': np.arange(180, 221, 1)}) \\\n",
    "    .assign(r=lambda d: -f(d.q), p=lambda d: d.r / d.q) \\\n",
    "    .set_index(['p'])['r'] \\\n",
    "    .plot(kind='line')"
   ]
  },
  {
   "cell_type": "code",
   "execution_count": 68,
   "id": "e65a3504-d1df-4d5b-b316-acaa6f0a81d6",
   "metadata": {},
   "outputs": [
    {
     "name": "stdout",
     "output_type": "stream",
     "text": [
      "Optimization terminated successfully.\n",
      "         Current function value: -1.000000\n",
      "         Iterations: 97\n",
      "         Function evaluations: 266\n",
      "[1.54456722 0.28585516]\n"
     ]
    }
   ],
   "source": [
    "def f(tup):\n",
    "    x, y = tup\n",
    "    z = np.sin(np.sqrt(x ** 2 + y ** 2))\n",
    "    return -z\n",
    "\n",
    "x = optimize.fmin(f, np.array([0, 0]), ftol=1e-30, xtol=1e-30, maxiter=10_000, maxfun=10_000)\n",
    "\n",
    "print(x)"
   ]
  },
  {
   "cell_type": "code",
   "execution_count": 73,
   "id": "1fa527b1-cfbe-4578-b832-9eed4b620b58",
   "metadata": {},
   "outputs": [
    {
     "data": {
      "text/plain": [
       "(1.0, 1.0, 0.9974949866040544)"
      ]
     },
     "execution_count": 73,
     "metadata": {},
     "output_type": "execute_result"
    }
   ],
   "source": [
    "-f(x), -f(np.array([1.54456722, 0.28585516])), -f(np.array([0, 1.5]))"
   ]
  },
  {
   "cell_type": "code",
   "execution_count": null,
   "id": "d7e2e584-9bc6-40ba-8efe-81e1855eec69",
   "metadata": {},
   "outputs": [],
   "source": []
  }
 ],
 "metadata": {
  "kernelspec": {
   "display_name": "Python 3 (ipykernel)",
   "language": "python",
   "name": "python3"
  },
  "language_info": {
   "codemirror_mode": {
    "name": "ipython",
    "version": 3
   },
   "file_extension": ".py",
   "mimetype": "text/x-python",
   "name": "python",
   "nbconvert_exporter": "python",
   "pygments_lexer": "ipython3",
   "version": "3.9.16"
  }
 },
 "nbformat": 4,
 "nbformat_minor": 5
}
