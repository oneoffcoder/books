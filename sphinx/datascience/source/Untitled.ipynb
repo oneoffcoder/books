{
 "cells": [
  {
   "cell_type": "markdown",
   "id": "1077f7b0-0c65-41ec-9a34-060e6d009549",
   "metadata": {},
   "source": [
    "## Load data"
   ]
  },
  {
   "cell_type": "code",
   "execution_count": 32,
   "id": "d2c741f9-8f49-48e6-88cb-59cc6dae5e6c",
   "metadata": {},
   "outputs": [
    {
     "data": {
      "text/plain": [
       "((150, 4), (150,))"
      ]
     },
     "execution_count": 32,
     "metadata": {},
     "output_type": "execute_result"
    }
   ],
   "source": [
    "from sklearn.datasets import load_iris\n",
    "import pandas as pd\n",
    "import numpy as np\n",
    "\n",
    "y2n = {\n",
    "    0: 'setosa',\n",
    "    1: 'versicolor',\n",
    "    2: 'virginica'\n",
    "}\n",
    "\n",
    "X, y = load_iris(return_X_y=True, as_frame=True)\n",
    "X = X.rename(columns={c: c.replace('(cm)', '').strip().replace(' ', '_') for c in X.columns})\n",
    "\n",
    "X.shape, y.shape"
   ]
  },
  {
   "cell_type": "markdown",
   "id": "db9aa53b-2132-442f-8c48-7b88e3994df3",
   "metadata": {},
   "source": [
    "## Logistic regression"
   ]
  },
  {
   "cell_type": "code",
   "execution_count": 33,
   "id": "438bc0ce-932d-4df9-90a1-2637b8e8465b",
   "metadata": {},
   "outputs": [
    {
     "data": {
      "text/plain": [
       "LogisticRegression(class_weight='balanced', max_iter=10000, n_jobs=-1,\n",
       "                   random_state=37, solver='saga')"
      ]
     },
     "execution_count": 33,
     "metadata": {},
     "output_type": "execute_result"
    }
   ],
   "source": [
    "from sklearn.linear_model import LogisticRegression\n",
    "\n",
    "L = LogisticRegression(n_jobs=-1, random_state=37, solver='saga', max_iter=10_000, class_weight='balanced')\n",
    "L.fit(X, y)"
   ]
  },
  {
   "cell_type": "code",
   "execution_count": 42,
   "id": "77faa6ed-76c3-439f-83cc-f6a94152d1e2",
   "metadata": {},
   "outputs": [
    {
     "data": {
      "text/html": [
       "<div>\n",
       "<style scoped>\n",
       "    .dataframe tbody tr th:only-of-type {\n",
       "        vertical-align: middle;\n",
       "    }\n",
       "\n",
       "    .dataframe tbody tr th {\n",
       "        vertical-align: top;\n",
       "    }\n",
       "\n",
       "    .dataframe thead th {\n",
       "        text-align: right;\n",
       "    }\n",
       "</style>\n",
       "<table border=\"1\" class=\"dataframe\">\n",
       "  <thead>\n",
       "    <tr style=\"text-align: right;\">\n",
       "      <th></th>\n",
       "      <th>intercept</th>\n",
       "      <th>sepal_length</th>\n",
       "      <th>sepal_width</th>\n",
       "      <th>petal_length</th>\n",
       "      <th>petal_width</th>\n",
       "    </tr>\n",
       "    <tr>\n",
       "      <th>clazz</th>\n",
       "      <th></th>\n",
       "      <th></th>\n",
       "      <th></th>\n",
       "      <th></th>\n",
       "      <th></th>\n",
       "    </tr>\n",
       "  </thead>\n",
       "  <tbody>\n",
       "    <tr>\n",
       "      <th>setosa</th>\n",
       "      <td>6.566801</td>\n",
       "      <td>-0.00305</td>\n",
       "      <td>1.211489</td>\n",
       "      <td>-2.449880</td>\n",
       "      <td>-1.087380</td>\n",
       "    </tr>\n",
       "    <tr>\n",
       "      <th>versicolor</th>\n",
       "      <td>3.064096</td>\n",
       "      <td>0.36919</td>\n",
       "      <td>-0.395907</td>\n",
       "      <td>-0.162812</td>\n",
       "      <td>-0.930556</td>\n",
       "    </tr>\n",
       "    <tr>\n",
       "      <th>virginica</th>\n",
       "      <td>-9.630898</td>\n",
       "      <td>-0.36614</td>\n",
       "      <td>-0.815582</td>\n",
       "      <td>2.612692</td>\n",
       "      <td>2.017936</td>\n",
       "    </tr>\n",
       "  </tbody>\n",
       "</table>\n",
       "</div>"
      ],
      "text/plain": [
       "            intercept  sepal_length  sepal_width  petal_length  petal_width\n",
       "clazz                                                                      \n",
       "setosa       6.566801      -0.00305     1.211489     -2.449880    -1.087380\n",
       "versicolor   3.064096       0.36919    -0.395907     -0.162812    -0.930556\n",
       "virginica   -9.630898      -0.36614    -0.815582      2.612692     2.017936"
      ]
     },
     "execution_count": 42,
     "metadata": {},
     "output_type": "execute_result"
    }
   ],
   "source": [
    "pd.DataFrame([{**{'clazz': y2n[clazz], 'intercept': i}, **{col: coef for col, coef in zip(X.columns, coefs)}} \n",
    "              for clazz, (i, coefs) in enumerate(zip(L.intercept_, L.coef_))]) \\\n",
    "    .set_index(['clazz'])"
   ]
  },
  {
   "cell_type": "markdown",
   "id": "32228f6b-0cbc-4e96-aa83-bd8410088ebb",
   "metadata": {},
   "source": [
    "## Random forest"
   ]
  },
  {
   "cell_type": "code",
   "execution_count": 53,
   "id": "5d502670-361b-4829-b4bf-19413299501e",
   "metadata": {},
   "outputs": [
    {
     "data": {
      "text/plain": [
       "RandomForestClassifier(class_weight='balanced', n_estimators=3, n_jobs=-1,\n",
       "                       random_state=37)"
      ]
     },
     "execution_count": 53,
     "metadata": {},
     "output_type": "execute_result"
    }
   ],
   "source": [
    "from sklearn.ensemble import RandomForestClassifier\n",
    "\n",
    "R = RandomForestClassifier(n_jobs=-1, random_state=37, n_estimators=3, class_weight='balanced')\n",
    "R.fit(X, y)"
   ]
  },
  {
   "cell_type": "code",
   "execution_count": 54,
   "id": "195ed351-4139-471b-b309-cbaf2a1810a9",
   "metadata": {},
   "outputs": [
    {
     "data": {
      "text/plain": [
       "sepal_length    0.089231\n",
       "sepal_width     0.009675\n",
       "petal_length    0.667463\n",
       "petal_width     0.233630\n",
       "dtype: float64"
      ]
     },
     "execution_count": 54,
     "metadata": {},
     "output_type": "execute_result"
    }
   ],
   "source": [
    "pd.Series(R.feature_importances_, X.columns)"
   ]
  },
  {
   "cell_type": "markdown",
   "id": "c7503c00-26da-48d6-972c-4a779c0d434b",
   "metadata": {},
   "source": [
    "## Best candidates, logistic regression"
   ]
  },
  {
   "cell_type": "code",
   "execution_count": 59,
   "id": "cc52ae8b-60ce-4018-881f-9d3de28c3800",
   "metadata": {},
   "outputs": [
    {
     "data": {
      "text/html": [
       "<div>\n",
       "<style scoped>\n",
       "    .dataframe tbody tr th:only-of-type {\n",
       "        vertical-align: middle;\n",
       "    }\n",
       "\n",
       "    .dataframe tbody tr th {\n",
       "        vertical-align: top;\n",
       "    }\n",
       "\n",
       "    .dataframe thead th {\n",
       "        text-align: right;\n",
       "    }\n",
       "</style>\n",
       "<table border=\"1\" class=\"dataframe\">\n",
       "  <thead>\n",
       "    <tr style=\"text-align: right;\">\n",
       "      <th></th>\n",
       "      <th>sepal_length</th>\n",
       "      <th>sepal_width</th>\n",
       "      <th>petal_length</th>\n",
       "      <th>petal_width</th>\n",
       "      <th>setosa</th>\n",
       "      <th>versicolor</th>\n",
       "      <th>virginica</th>\n",
       "    </tr>\n",
       "  </thead>\n",
       "  <tbody>\n",
       "    <tr>\n",
       "      <th>22</th>\n",
       "      <td>4.6</td>\n",
       "      <td>3.6</td>\n",
       "      <td>1.0</td>\n",
       "      <td>0.2</td>\n",
       "      <td>0.994824</td>\n",
       "      <td>0.005176</td>\n",
       "      <td>3.442988e-09</td>\n",
       "    </tr>\n",
       "  </tbody>\n",
       "</table>\n",
       "</div>"
      ],
      "text/plain": [
       "    sepal_length  sepal_width  petal_length  petal_width    setosa  \\\n",
       "22           4.6          3.6           1.0          0.2  0.994824   \n",
       "\n",
       "    versicolor     virginica  \n",
       "22    0.005176  3.442988e-09  "
      ]
     },
     "execution_count": 59,
     "metadata": {},
     "output_type": "execute_result"
    }
   ],
   "source": [
    "X.join(pd.DataFrame(L.predict_proba(X), columns=['setosa', 'versicolor', 'virginica'])) \\\n",
    "    .sort_values(['setosa', 'versicolor', 'virginica'], ascending=[False, True, True]) \\\n",
    "    [:1]"
   ]
  },
  {
   "cell_type": "code",
   "execution_count": 60,
   "id": "4c82eadd-2527-4909-bc31-12d88ae7d35a",
   "metadata": {},
   "outputs": [
    {
     "data": {
      "text/html": [
       "<div>\n",
       "<style scoped>\n",
       "    .dataframe tbody tr th:only-of-type {\n",
       "        vertical-align: middle;\n",
       "    }\n",
       "\n",
       "    .dataframe tbody tr th {\n",
       "        vertical-align: top;\n",
       "    }\n",
       "\n",
       "    .dataframe thead th {\n",
       "        text-align: right;\n",
       "    }\n",
       "</style>\n",
       "<table border=\"1\" class=\"dataframe\">\n",
       "  <thead>\n",
       "    <tr style=\"text-align: right;\">\n",
       "      <th></th>\n",
       "      <th>sepal_length</th>\n",
       "      <th>sepal_width</th>\n",
       "      <th>petal_length</th>\n",
       "      <th>petal_width</th>\n",
       "      <th>setosa</th>\n",
       "      <th>versicolor</th>\n",
       "      <th>virginica</th>\n",
       "    </tr>\n",
       "  </thead>\n",
       "  <tbody>\n",
       "    <tr>\n",
       "      <th>62</th>\n",
       "      <td>6.0</td>\n",
       "      <td>2.2</td>\n",
       "      <td>4.0</td>\n",
       "      <td>1.0</td>\n",
       "      <td>0.010792</td>\n",
       "      <td>0.971058</td>\n",
       "      <td>0.018149</td>\n",
       "    </tr>\n",
       "  </tbody>\n",
       "</table>\n",
       "</div>"
      ],
      "text/plain": [
       "    sepal_length  sepal_width  petal_length  petal_width    setosa  \\\n",
       "62           6.0          2.2           4.0          1.0  0.010792   \n",
       "\n",
       "    versicolor  virginica  \n",
       "62    0.971058   0.018149  "
      ]
     },
     "execution_count": 60,
     "metadata": {},
     "output_type": "execute_result"
    }
   ],
   "source": [
    "X.join(pd.DataFrame(L.predict_proba(X), columns=['setosa', 'versicolor', 'virginica'])) \\\n",
    "    .sort_values(['versicolor', 'setosa', 'virginica'], ascending=[False, True, True]) \\\n",
    "    [:1]"
   ]
  },
  {
   "cell_type": "code",
   "execution_count": 61,
   "id": "ab3c73a4-6c37-4add-8eef-794728e0ead0",
   "metadata": {},
   "outputs": [
    {
     "data": {
      "text/html": [
       "<div>\n",
       "<style scoped>\n",
       "    .dataframe tbody tr th:only-of-type {\n",
       "        vertical-align: middle;\n",
       "    }\n",
       "\n",
       "    .dataframe tbody tr th {\n",
       "        vertical-align: top;\n",
       "    }\n",
       "\n",
       "    .dataframe thead th {\n",
       "        text-align: right;\n",
       "    }\n",
       "</style>\n",
       "<table border=\"1\" class=\"dataframe\">\n",
       "  <thead>\n",
       "    <tr style=\"text-align: right;\">\n",
       "      <th></th>\n",
       "      <th>sepal_length</th>\n",
       "      <th>sepal_width</th>\n",
       "      <th>petal_length</th>\n",
       "      <th>petal_width</th>\n",
       "      <th>setosa</th>\n",
       "      <th>versicolor</th>\n",
       "      <th>virginica</th>\n",
       "    </tr>\n",
       "  </thead>\n",
       "  <tbody>\n",
       "    <tr>\n",
       "      <th>118</th>\n",
       "      <td>7.7</td>\n",
       "      <td>2.6</td>\n",
       "      <td>6.9</td>\n",
       "      <td>2.3</td>\n",
       "      <td>1.838709e-08</td>\n",
       "      <td>0.001525</td>\n",
       "      <td>0.998475</td>\n",
       "    </tr>\n",
       "  </tbody>\n",
       "</table>\n",
       "</div>"
      ],
      "text/plain": [
       "     sepal_length  sepal_width  petal_length  petal_width        setosa  \\\n",
       "118           7.7          2.6           6.9          2.3  1.838709e-08   \n",
       "\n",
       "     versicolor  virginica  \n",
       "118    0.001525   0.998475  "
      ]
     },
     "execution_count": 61,
     "metadata": {},
     "output_type": "execute_result"
    }
   ],
   "source": [
    "X.join(pd.DataFrame(L.predict_proba(X), columns=['setosa', 'versicolor', 'virginica'])) \\\n",
    "    .sort_values(['virginica', 'setosa', 'versicolor'], ascending=[False, True, True]) \\\n",
    "    [:1]"
   ]
  },
  {
   "cell_type": "markdown",
   "id": "0448b3b4-ea2d-4260-a9a4-b64464e140de",
   "metadata": {},
   "source": [
    "## Best candidates, random forest"
   ]
  },
  {
   "cell_type": "code",
   "execution_count": 62,
   "id": "1e0657b9-8e4b-4726-8af1-6b2ee08833fb",
   "metadata": {},
   "outputs": [
    {
     "data": {
      "text/html": [
       "<div>\n",
       "<style scoped>\n",
       "    .dataframe tbody tr th:only-of-type {\n",
       "        vertical-align: middle;\n",
       "    }\n",
       "\n",
       "    .dataframe tbody tr th {\n",
       "        vertical-align: top;\n",
       "    }\n",
       "\n",
       "    .dataframe thead th {\n",
       "        text-align: right;\n",
       "    }\n",
       "</style>\n",
       "<table border=\"1\" class=\"dataframe\">\n",
       "  <thead>\n",
       "    <tr style=\"text-align: right;\">\n",
       "      <th></th>\n",
       "      <th>sepal_length</th>\n",
       "      <th>sepal_width</th>\n",
       "      <th>petal_length</th>\n",
       "      <th>petal_width</th>\n",
       "      <th>setosa</th>\n",
       "      <th>versicolor</th>\n",
       "      <th>virginica</th>\n",
       "    </tr>\n",
       "  </thead>\n",
       "  <tbody>\n",
       "    <tr>\n",
       "      <th>0</th>\n",
       "      <td>5.1</td>\n",
       "      <td>3.5</td>\n",
       "      <td>1.4</td>\n",
       "      <td>0.2</td>\n",
       "      <td>1.0</td>\n",
       "      <td>0.0</td>\n",
       "      <td>0.0</td>\n",
       "    </tr>\n",
       "  </tbody>\n",
       "</table>\n",
       "</div>"
      ],
      "text/plain": [
       "   sepal_length  sepal_width  petal_length  petal_width  setosa  versicolor  \\\n",
       "0           5.1          3.5           1.4          0.2     1.0         0.0   \n",
       "\n",
       "   virginica  \n",
       "0        0.0  "
      ]
     },
     "execution_count": 62,
     "metadata": {},
     "output_type": "execute_result"
    }
   ],
   "source": [
    "X.join(pd.DataFrame(R.predict_proba(X), columns=['setosa', 'versicolor', 'virginica'])) \\\n",
    "    .sort_values(['setosa', 'versicolor', 'virginica'], ascending=[False, True, True]) \\\n",
    "    [:1]"
   ]
  },
  {
   "cell_type": "code",
   "execution_count": 63,
   "id": "16cc2355-73c3-4334-bafa-17aba58d4d43",
   "metadata": {},
   "outputs": [
    {
     "data": {
      "text/html": [
       "<div>\n",
       "<style scoped>\n",
       "    .dataframe tbody tr th:only-of-type {\n",
       "        vertical-align: middle;\n",
       "    }\n",
       "\n",
       "    .dataframe tbody tr th {\n",
       "        vertical-align: top;\n",
       "    }\n",
       "\n",
       "    .dataframe thead th {\n",
       "        text-align: right;\n",
       "    }\n",
       "</style>\n",
       "<table border=\"1\" class=\"dataframe\">\n",
       "  <thead>\n",
       "    <tr style=\"text-align: right;\">\n",
       "      <th></th>\n",
       "      <th>sepal_length</th>\n",
       "      <th>sepal_width</th>\n",
       "      <th>petal_length</th>\n",
       "      <th>petal_width</th>\n",
       "      <th>setosa</th>\n",
       "      <th>versicolor</th>\n",
       "      <th>virginica</th>\n",
       "    </tr>\n",
       "  </thead>\n",
       "  <tbody>\n",
       "    <tr>\n",
       "      <th>50</th>\n",
       "      <td>7.0</td>\n",
       "      <td>3.2</td>\n",
       "      <td>4.7</td>\n",
       "      <td>1.4</td>\n",
       "      <td>0.0</td>\n",
       "      <td>1.0</td>\n",
       "      <td>0.0</td>\n",
       "    </tr>\n",
       "  </tbody>\n",
       "</table>\n",
       "</div>"
      ],
      "text/plain": [
       "    sepal_length  sepal_width  petal_length  petal_width  setosa  versicolor  \\\n",
       "50           7.0          3.2           4.7          1.4     0.0         1.0   \n",
       "\n",
       "    virginica  \n",
       "50        0.0  "
      ]
     },
     "execution_count": 63,
     "metadata": {},
     "output_type": "execute_result"
    }
   ],
   "source": [
    "X.join(pd.DataFrame(R.predict_proba(X), columns=['setosa', 'versicolor', 'virginica'])) \\\n",
    "    .sort_values(['versicolor', 'setosa', 'virginica'], ascending=[False, True, True]) \\\n",
    "    [:1]"
   ]
  },
  {
   "cell_type": "code",
   "execution_count": 64,
   "id": "15c03b21-d84b-494c-abe2-e6521b468f15",
   "metadata": {},
   "outputs": [
    {
     "data": {
      "text/html": [
       "<div>\n",
       "<style scoped>\n",
       "    .dataframe tbody tr th:only-of-type {\n",
       "        vertical-align: middle;\n",
       "    }\n",
       "\n",
       "    .dataframe tbody tr th {\n",
       "        vertical-align: top;\n",
       "    }\n",
       "\n",
       "    .dataframe thead th {\n",
       "        text-align: right;\n",
       "    }\n",
       "</style>\n",
       "<table border=\"1\" class=\"dataframe\">\n",
       "  <thead>\n",
       "    <tr style=\"text-align: right;\">\n",
       "      <th></th>\n",
       "      <th>sepal_length</th>\n",
       "      <th>sepal_width</th>\n",
       "      <th>petal_length</th>\n",
       "      <th>petal_width</th>\n",
       "      <th>setosa</th>\n",
       "      <th>versicolor</th>\n",
       "      <th>virginica</th>\n",
       "    </tr>\n",
       "  </thead>\n",
       "  <tbody>\n",
       "    <tr>\n",
       "      <th>100</th>\n",
       "      <td>6.3</td>\n",
       "      <td>3.3</td>\n",
       "      <td>6.0</td>\n",
       "      <td>2.5</td>\n",
       "      <td>0.0</td>\n",
       "      <td>0.0</td>\n",
       "      <td>1.0</td>\n",
       "    </tr>\n",
       "  </tbody>\n",
       "</table>\n",
       "</div>"
      ],
      "text/plain": [
       "     sepal_length  sepal_width  petal_length  petal_width  setosa  versicolor  \\\n",
       "100           6.3          3.3           6.0          2.5     0.0         0.0   \n",
       "\n",
       "     virginica  \n",
       "100        1.0  "
      ]
     },
     "execution_count": 64,
     "metadata": {},
     "output_type": "execute_result"
    }
   ],
   "source": [
    "X.join(pd.DataFrame(R.predict_proba(X), columns=['setosa', 'versicolor', 'virginica'])) \\\n",
    "    .sort_values(['virginica', 'setosa', 'versicolor'], ascending=[False, True, True]) \\\n",
    "    [:1]"
   ]
  },
  {
   "cell_type": "code",
   "execution_count": 78,
   "id": "111b688d-aa38-4518-b3ec-3ea80c6bde65",
   "metadata": {},
   "outputs": [
    {
     "data": {
      "text/html": [
       "<div>\n",
       "<style scoped>\n",
       "    .dataframe tbody tr th:only-of-type {\n",
       "        vertical-align: middle;\n",
       "    }\n",
       "\n",
       "    .dataframe tbody tr th {\n",
       "        vertical-align: top;\n",
       "    }\n",
       "\n",
       "    .dataframe thead th {\n",
       "        text-align: right;\n",
       "    }\n",
       "</style>\n",
       "<table border=\"1\" class=\"dataframe\">\n",
       "  <thead>\n",
       "    <tr style=\"text-align: right;\">\n",
       "      <th></th>\n",
       "      <th>sepal_length</th>\n",
       "      <th>sepal_width</th>\n",
       "      <th>petal_length</th>\n",
       "      <th>petal_width</th>\n",
       "    </tr>\n",
       "  </thead>\n",
       "  <tbody>\n",
       "    <tr>\n",
       "      <th>min</th>\n",
       "      <td>4.3</td>\n",
       "      <td>2.0</td>\n",
       "      <td>1.0</td>\n",
       "      <td>0.1</td>\n",
       "    </tr>\n",
       "    <tr>\n",
       "      <th>max</th>\n",
       "      <td>7.9</td>\n",
       "      <td>4.4</td>\n",
       "      <td>6.9</td>\n",
       "      <td>2.5</td>\n",
       "    </tr>\n",
       "  </tbody>\n",
       "</table>\n",
       "</div>"
      ],
      "text/plain": [
       "     sepal_length  sepal_width  petal_length  petal_width\n",
       "min           4.3          2.0           1.0          0.1\n",
       "max           7.9          4.4           6.9          2.5"
      ]
     },
     "execution_count": 78,
     "metadata": {},
     "output_type": "execute_result"
    }
   ],
   "source": [
    "X.describe().loc[['min', 'max']]"
   ]
  },
  {
   "cell_type": "markdown",
   "id": "8abb0b48-3f3b-419a-9436-a840f5846936",
   "metadata": {},
   "source": [
    "## Best candidate searching, logistic regression"
   ]
  },
  {
   "cell_type": "code",
   "execution_count": 164,
   "id": "87ec06fa-725a-4b94-9e10-7b226fc62f2a",
   "metadata": {},
   "outputs": [],
   "source": [
    "import optuna\n",
    "\n",
    "optuna.logging.set_verbosity(optuna.logging.WARNING)\n",
    "\n",
    "def objective(trial, m):\n",
    "    sl = trial.suggest_float('sepal_length', 4.3, 7.9)\n",
    "    sw = trial.suggest_float('sepal_width', 2.0, 4.4)\n",
    "    pl = trial.suggest_float('petal_length', 1.0, 6.9)\n",
    "    pw = trial.suggest_float('petal_width', 0.1, 2.5)\n",
    "    \n",
    "    _X = pd.DataFrame([[sl, sw, pl, pw]], columns=['sepal_length', 'sepal_width', 'petal_length', 'petal_width'])\n",
    "    _y = m.predict_proba(_X)[0]\n",
    "    \n",
    "    _y1 = _y[0]\n",
    "    _y2 = _y[1]\n",
    "    _y3 = _y[2]\n",
    "    \n",
    "    return _y1, _y2, _y3\n",
    "\n",
    "def get_study(algo, clazz):\n",
    "    if clazz == 0:\n",
    "        directions = ['maximize', 'minimize', 'minimize']\n",
    "    elif clazz == 1:\n",
    "        directions = ['minimize', 'maximize', 'minimize']\n",
    "    else:\n",
    "        directions = ['minimize', 'minimize', 'maximize']\n",
    "        \n",
    "    study = optuna.create_study(**{\n",
    "        'study_name': f'study-{algo}-{clazz:02}',\n",
    "        'storage': f'sqlite:///_temp/opt-study.db',\n",
    "        'load_if_exists': True,\n",
    "        'directions': directions,\n",
    "        'sampler': optuna.samplers.TPESampler(seed=37),\n",
    "        'pruner': optuna.pruners.MedianPruner(n_warmup_steps=10)\n",
    "    })\n",
    "    \n",
    "    return study\n",
    "\n",
    "def get_best_trial(algo, clazz):\n",
    "    study = get_study(algo, clazz)\n",
    "    return max(study.best_trials, key=lambda t: (t.values[clazz]))\n",
    "\n",
    "def get_best_params(algo, clazz):\n",
    "    best = get_best_trial(algo, clazz)\n",
    "    params = best.params\n",
    "    params = {k: params[k] for k in ['sepal_length', 'sepal_width', 'petal_length', 'petal_width']}\n",
    "    return params"
   ]
  },
  {
   "cell_type": "code",
   "execution_count": 165,
   "id": "fb7d4dc5-e1c9-4d45-924b-7d959e312646",
   "metadata": {},
   "outputs": [
    {
     "name": "stderr",
     "output_type": "stream",
     "text": [
      "/opt/anaconda3/lib/python3.9/site-packages/optuna/progress_bar.py:49: ExperimentalWarning: Progress bar is experimental (supported from v1.2.0). The interface can change in the future.\n",
      "  self._init_valid()\n"
     ]
    },
    {
     "data": {
      "application/vnd.jupyter.widget-view+json": {
       "model_id": "e7b9ca9d8949443fbb539e1977760bce",
       "version_major": 2,
       "version_minor": 0
      },
      "text/plain": [
       "  0%|          | 0/200 [00:00<?, ?it/s]"
      ]
     },
     "metadata": {},
     "output_type": "display_data"
    },
    {
     "data": {
      "text/plain": [
       "({'sepal_length': 4.9310309063381785,\n",
       "  'sepal_width': 4.396022809496658,\n",
       "  'petal_length': 1.0052584086592715,\n",
       "  'petal_width': 0.11658350842988516},\n",
       " [0.9983674109957078, 0.0016325885206006309, 4.836916060796055e-10])"
      ]
     },
     "execution_count": 165,
     "metadata": {},
     "output_type": "execute_result"
    }
   ],
   "source": [
    "study = get_study('logistic', 0)\n",
    "study.optimize(**{\n",
    "    'func': lambda t: objective(t, L),\n",
    "    'n_trials': 200,\n",
    "    'n_jobs': 6,\n",
    "    'show_progress_bar': True\n",
    "})\n",
    "best = max(study.best_trials, key=lambda t: (t.values[0]))\n",
    "best.params, best.values"
   ]
  },
  {
   "cell_type": "code",
   "execution_count": 166,
   "id": "8225b8d0-883b-4f38-8186-791df069adb1",
   "metadata": {},
   "outputs": [
    {
     "name": "stderr",
     "output_type": "stream",
     "text": [
      "/opt/anaconda3/lib/python3.9/site-packages/optuna/progress_bar.py:49: ExperimentalWarning: Progress bar is experimental (supported from v1.2.0). The interface can change in the future.\n",
      "  self._init_valid()\n"
     ]
    },
    {
     "data": {
      "application/vnd.jupyter.widget-view+json": {
       "model_id": "866ec904157545519525080122338446",
       "version_major": 2,
       "version_minor": 0
      },
      "text/plain": [
       "  0%|          | 0/200 [00:00<?, ?it/s]"
      ]
     },
     "metadata": {},
     "output_type": "display_data"
    },
    {
     "data": {
      "text/plain": [
       "({'sepal_length': 7.709515249076063,\n",
       "  'sepal_width': 2.2565776194939313,\n",
       "  'petal_length': 4.471929903412942,\n",
       "  'petal_width': 0.16444496616896156},\n",
       " [0.0024852339111455864, 0.9958836052066797, 0.0016311608821747631])"
      ]
     },
     "execution_count": 166,
     "metadata": {},
     "output_type": "execute_result"
    }
   ],
   "source": [
    "study = get_study('logistic', 1)\n",
    "study.optimize(**{\n",
    "    'func': lambda t: objective(t, L),\n",
    "    'n_trials': 200,\n",
    "    'n_jobs': 6,\n",
    "    'show_progress_bar': True\n",
    "})\n",
    "best = max(study.best_trials, key=lambda t: (t.values[1]))\n",
    "best.params, best.values"
   ]
  },
  {
   "cell_type": "code",
   "execution_count": 167,
   "id": "ae9770af-5993-4bc9-97a1-669ff21f1f1b",
   "metadata": {},
   "outputs": [
    {
     "name": "stderr",
     "output_type": "stream",
     "text": [
      "/opt/anaconda3/lib/python3.9/site-packages/optuna/progress_bar.py:49: ExperimentalWarning: Progress bar is experimental (supported from v1.2.0). The interface can change in the future.\n",
      "  self._init_valid()\n"
     ]
    },
    {
     "data": {
      "application/vnd.jupyter.widget-view+json": {
       "model_id": "bb01bc6e0c5c42aeab09086aeca2e796",
       "version_major": 2,
       "version_minor": 0
      },
      "text/plain": [
       "  0%|          | 0/200 [00:00<?, ?it/s]"
      ]
     },
     "metadata": {},
     "output_type": "display_data"
    },
    {
     "data": {
      "text/plain": [
       "({'sepal_length': 4.535880308530154,\n",
       "  'sepal_width': 2.1491224675040774,\n",
       "  'petal_length': 6.897154921009948,\n",
       "  'petal_width': 2.4993082784301346},\n",
       " [1.2786075607675126e-09, 6.909423630690177e-05, 0.9999309044850855])"
      ]
     },
     "execution_count": 167,
     "metadata": {},
     "output_type": "execute_result"
    }
   ],
   "source": [
    "study = get_study('logistic', 2)\n",
    "study.optimize(**{\n",
    "    'func': lambda t: objective(t, L),\n",
    "    'n_trials': 200,\n",
    "    'n_jobs': 6,\n",
    "    'show_progress_bar': True\n",
    "})\n",
    "best = max(study.best_trials, key=lambda t: (t.values[2]))\n",
    "best.params, best.values"
   ]
  },
  {
   "cell_type": "code",
   "execution_count": 168,
   "id": "8f6d1ce4-dd46-49cb-bb16-63c24e783e43",
   "metadata": {},
   "outputs": [
    {
     "data": {
      "text/plain": [
       "array([[9.98367411e-01, 1.63258852e-03, 4.83691606e-10],\n",
       "       [2.48523391e-03, 9.95883605e-01, 1.63116088e-03],\n",
       "       [1.27860756e-09, 6.90942363e-05, 9.99930904e-01]])"
      ]
     },
     "execution_count": 168,
     "metadata": {},
     "output_type": "execute_result"
    }
   ],
   "source": [
    "L.predict_proba(pd.DataFrame([get_best_params('logistic', c) for c in range(3)]))"
   ]
  },
  {
   "cell_type": "code",
   "execution_count": 169,
   "id": "c5d1d682-a585-42d3-a24b-b59443bbee47",
   "metadata": {},
   "outputs": [
    {
     "data": {
      "text/plain": [
       "array([[1.        , 0.        , 0.        ],\n",
       "       [0.33333333, 0.66666667, 0.        ],\n",
       "       [0.        , 0.33333333, 0.66666667]])"
      ]
     },
     "execution_count": 169,
     "metadata": {},
     "output_type": "execute_result"
    }
   ],
   "source": [
    "R.predict_proba(pd.DataFrame([get_best_params('logistic', c) for c in range(3)]))"
   ]
  },
  {
   "cell_type": "markdown",
   "id": "5920bb1c-e45a-4845-965f-b06c11142b86",
   "metadata": {},
   "source": [
    "## Best candidate searching, random forest"
   ]
  },
  {
   "cell_type": "code",
   "execution_count": 170,
   "id": "44a6c628-9db2-4459-bc01-0b5cbf726624",
   "metadata": {},
   "outputs": [
    {
     "name": "stderr",
     "output_type": "stream",
     "text": [
      "/opt/anaconda3/lib/python3.9/site-packages/optuna/progress_bar.py:49: ExperimentalWarning: Progress bar is experimental (supported from v1.2.0). The interface can change in the future.\n",
      "  self._init_valid()\n"
     ]
    },
    {
     "data": {
      "application/vnd.jupyter.widget-view+json": {
       "model_id": "fb225cf20ac94b73af1452884eb307fd",
       "version_major": 2,
       "version_minor": 0
      },
      "text/plain": [
       "  0%|          | 0/200 [00:00<?, ?it/s]"
      ]
     },
     "metadata": {},
     "output_type": "display_data"
    },
    {
     "data": {
      "text/plain": [
       "({'sepal_length': 4.82626887479423,\n",
       "  'sepal_width': 4.191078237607879,\n",
       "  'petal_length': 1.0558148586698979,\n",
       "  'petal_width': 0.1491680343675136},\n",
       " [1.0, 0.0, 0.0])"
      ]
     },
     "execution_count": 170,
     "metadata": {},
     "output_type": "execute_result"
    }
   ],
   "source": [
    "study = get_study('randomforest', 0)\n",
    "study.optimize(**{\n",
    "    'func': lambda t: objective(t, R),\n",
    "    'n_trials': 200,\n",
    "    'n_jobs': 6,\n",
    "    'show_progress_bar': True\n",
    "})\n",
    "best = max(study.best_trials, key=lambda t: (t.values[0]))\n",
    "best.params, best.values"
   ]
  },
  {
   "cell_type": "code",
   "execution_count": 171,
   "id": "77b26bf3-cd49-47f7-8fab-563a6907385e",
   "metadata": {},
   "outputs": [
    {
     "name": "stderr",
     "output_type": "stream",
     "text": [
      "/opt/anaconda3/lib/python3.9/site-packages/optuna/progress_bar.py:49: ExperimentalWarning: Progress bar is experimental (supported from v1.2.0). The interface can change in the future.\n",
      "  self._init_valid()\n"
     ]
    },
    {
     "data": {
      "application/vnd.jupyter.widget-view+json": {
       "model_id": "7544520f5c4f4fbaa3e23e44e9fe378d",
       "version_major": 2,
       "version_minor": 0
      },
      "text/plain": [
       "  0%|          | 0/200 [00:00<?, ?it/s]"
      ]
     },
     "metadata": {},
     "output_type": "display_data"
    },
    {
     "data": {
      "text/plain": [
       "({'sepal_length': 6.700297745575643,\n",
       "  'sepal_width': 2.6927993134892745,\n",
       "  'petal_length': 3.709505841815157,\n",
       "  'petal_width': 1.9913641681930534},\n",
       " [0.0, 1.0, 0.0])"
      ]
     },
     "execution_count": 171,
     "metadata": {},
     "output_type": "execute_result"
    }
   ],
   "source": [
    "study = get_study('randomforest', 1)\n",
    "study.optimize(**{\n",
    "    'func': lambda t: objective(t, R),\n",
    "    'n_trials': 200,\n",
    "    'n_jobs': 6,\n",
    "    'show_progress_bar': True\n",
    "})\n",
    "best = max(study.best_trials, key=lambda t: (t.values[1]))\n",
    "best.params, best.values"
   ]
  },
  {
   "cell_type": "code",
   "execution_count": 172,
   "id": "c329b159-1af5-4c94-9302-84df8b708c92",
   "metadata": {},
   "outputs": [
    {
     "name": "stderr",
     "output_type": "stream",
     "text": [
      "/opt/anaconda3/lib/python3.9/site-packages/optuna/progress_bar.py:49: ExperimentalWarning: Progress bar is experimental (supported from v1.2.0). The interface can change in the future.\n",
      "  self._init_valid()\n"
     ]
    },
    {
     "data": {
      "application/vnd.jupyter.widget-view+json": {
       "model_id": "25d801ca01204b0094eedc24052df5b6",
       "version_major": 2,
       "version_minor": 0
      },
      "text/plain": [
       "  0%|          | 0/200 [00:00<?, ?it/s]"
      ]
     },
     "metadata": {},
     "output_type": "display_data"
    },
    {
     "data": {
      "text/plain": [
       "({'sepal_length': 7.152365923578177,\n",
       "  'sepal_width': 3.1660797160919487,\n",
       "  'petal_length': 6.502452228699957,\n",
       "  'petal_width': 2.2209283171404506},\n",
       " [0.0, 0.0, 1.0])"
      ]
     },
     "execution_count": 172,
     "metadata": {},
     "output_type": "execute_result"
    }
   ],
   "source": [
    "study = get_study('randomforest', 2)\n",
    "study.optimize(**{\n",
    "    'func': lambda t: objective(t, R),\n",
    "    'n_trials': 200,\n",
    "    'n_jobs': 6,\n",
    "    'show_progress_bar': True\n",
    "})\n",
    "best = max(study.best_trials, key=lambda t: (t.values[2]))\n",
    "best.params, best.values"
   ]
  },
  {
   "cell_type": "code",
   "execution_count": 173,
   "id": "2f0483f2-bcbf-478c-90a1-148f97ea2d3c",
   "metadata": {},
   "outputs": [
    {
     "data": {
      "text/plain": [
       "array([[9.97539157e-01, 2.46084202e-03, 1.08705105e-09],\n",
       "       [2.84178539e-02, 9.03449061e-01, 6.81330856e-02],\n",
       "       [4.52622748e-07, 4.90345392e-03, 9.95096093e-01]])"
      ]
     },
     "execution_count": 173,
     "metadata": {},
     "output_type": "execute_result"
    }
   ],
   "source": [
    "L.predict_proba(pd.DataFrame([get_best_params('randomforest', c) for c in range(3)]))"
   ]
  },
  {
   "cell_type": "code",
   "execution_count": 174,
   "id": "14a476ba-2fee-4768-a6bd-676a726ba300",
   "metadata": {},
   "outputs": [
    {
     "data": {
      "text/plain": [
       "array([[1., 0., 0.],\n",
       "       [0., 1., 0.],\n",
       "       [0., 0., 1.]])"
      ]
     },
     "execution_count": 174,
     "metadata": {},
     "output_type": "execute_result"
    }
   ],
   "source": [
    "R.predict_proba(pd.DataFrame([get_best_params('randomforest', c) for c in range(3)]))"
   ]
  },
  {
   "cell_type": "code",
   "execution_count": null,
   "id": "a2b92df9-f4c8-4aea-b13c-2cb0bb2bac0e",
   "metadata": {},
   "outputs": [],
   "source": []
  },
  {
   "cell_type": "code",
   "execution_count": 192,
   "id": "42e739fb-b60b-428a-a054-80f0ce31c8c2",
   "metadata": {},
   "outputs": [
    {
     "data": {
      "text/html": [
       "<div>\n",
       "<style scoped>\n",
       "    .dataframe tbody tr th:only-of-type {\n",
       "        vertical-align: middle;\n",
       "    }\n",
       "\n",
       "    .dataframe tbody tr th {\n",
       "        vertical-align: top;\n",
       "    }\n",
       "\n",
       "    .dataframe thead th {\n",
       "        text-align: right;\n",
       "    }\n",
       "</style>\n",
       "<table border=\"1\" class=\"dataframe\">\n",
       "  <thead>\n",
       "    <tr style=\"text-align: right;\">\n",
       "      <th></th>\n",
       "      <th></th>\n",
       "      <th>sepal_length</th>\n",
       "      <th>sepal_width</th>\n",
       "      <th>petal_length</th>\n",
       "      <th>petal_width</th>\n",
       "      <th>L_setosa</th>\n",
       "      <th>L_versicolor</th>\n",
       "      <th>L_virginica</th>\n",
       "      <th>R_setosa</th>\n",
       "      <th>R_versicolor</th>\n",
       "      <th>R_virginica</th>\n",
       "    </tr>\n",
       "    <tr>\n",
       "      <th>algo</th>\n",
       "      <th>species</th>\n",
       "      <th></th>\n",
       "      <th></th>\n",
       "      <th></th>\n",
       "      <th></th>\n",
       "      <th></th>\n",
       "      <th></th>\n",
       "      <th></th>\n",
       "      <th></th>\n",
       "      <th></th>\n",
       "      <th></th>\n",
       "    </tr>\n",
       "  </thead>\n",
       "  <tbody>\n",
       "    <tr>\n",
       "      <th rowspan=\"3\" valign=\"top\">L</th>\n",
       "      <th>setosa</th>\n",
       "      <td>4.931031</td>\n",
       "      <td>4.396023</td>\n",
       "      <td>1.005258</td>\n",
       "      <td>0.116584</td>\n",
       "      <td>9.983674e-01</td>\n",
       "      <td>0.001633</td>\n",
       "      <td>4.836916e-10</td>\n",
       "      <td>1.000000</td>\n",
       "      <td>0.000000</td>\n",
       "      <td>0.000000</td>\n",
       "    </tr>\n",
       "    <tr>\n",
       "      <th>versicolor</th>\n",
       "      <td>7.709515</td>\n",
       "      <td>2.256578</td>\n",
       "      <td>4.471930</td>\n",
       "      <td>0.164445</td>\n",
       "      <td>2.485234e-03</td>\n",
       "      <td>0.995884</td>\n",
       "      <td>1.631161e-03</td>\n",
       "      <td>0.333333</td>\n",
       "      <td>0.666667</td>\n",
       "      <td>0.000000</td>\n",
       "    </tr>\n",
       "    <tr>\n",
       "      <th>virginica</th>\n",
       "      <td>4.535880</td>\n",
       "      <td>2.149122</td>\n",
       "      <td>6.897155</td>\n",
       "      <td>2.499308</td>\n",
       "      <td>1.278608e-09</td>\n",
       "      <td>0.000069</td>\n",
       "      <td>9.999309e-01</td>\n",
       "      <td>0.000000</td>\n",
       "      <td>0.333333</td>\n",
       "      <td>0.666667</td>\n",
       "    </tr>\n",
       "    <tr>\n",
       "      <th rowspan=\"3\" valign=\"top\">R</th>\n",
       "      <th>setosa</th>\n",
       "      <td>4.826269</td>\n",
       "      <td>4.191078</td>\n",
       "      <td>1.055815</td>\n",
       "      <td>0.149168</td>\n",
       "      <td>9.975392e-01</td>\n",
       "      <td>0.002461</td>\n",
       "      <td>1.087051e-09</td>\n",
       "      <td>1.000000</td>\n",
       "      <td>0.000000</td>\n",
       "      <td>0.000000</td>\n",
       "    </tr>\n",
       "    <tr>\n",
       "      <th>versicolor</th>\n",
       "      <td>6.700298</td>\n",
       "      <td>2.692799</td>\n",
       "      <td>3.709506</td>\n",
       "      <td>1.991364</td>\n",
       "      <td>2.841785e-02</td>\n",
       "      <td>0.903449</td>\n",
       "      <td>6.813309e-02</td>\n",
       "      <td>0.000000</td>\n",
       "      <td>1.000000</td>\n",
       "      <td>0.000000</td>\n",
       "    </tr>\n",
       "    <tr>\n",
       "      <th>virginica</th>\n",
       "      <td>7.152366</td>\n",
       "      <td>3.166080</td>\n",
       "      <td>6.502452</td>\n",
       "      <td>2.220928</td>\n",
       "      <td>4.526227e-07</td>\n",
       "      <td>0.004903</td>\n",
       "      <td>9.950961e-01</td>\n",
       "      <td>0.000000</td>\n",
       "      <td>0.000000</td>\n",
       "      <td>1.000000</td>\n",
       "    </tr>\n",
       "  </tbody>\n",
       "</table>\n",
       "</div>"
      ],
      "text/plain": [
       "                 sepal_length  sepal_width  petal_length  petal_width  \\\n",
       "algo species                                                            \n",
       "L    setosa          4.931031     4.396023      1.005258     0.116584   \n",
       "     versicolor      7.709515     2.256578      4.471930     0.164445   \n",
       "     virginica       4.535880     2.149122      6.897155     2.499308   \n",
       "R    setosa          4.826269     4.191078      1.055815     0.149168   \n",
       "     versicolor      6.700298     2.692799      3.709506     1.991364   \n",
       "     virginica       7.152366     3.166080      6.502452     2.220928   \n",
       "\n",
       "                     L_setosa  L_versicolor   L_virginica  R_setosa  \\\n",
       "algo species                                                          \n",
       "L    setosa      9.983674e-01      0.001633  4.836916e-10  1.000000   \n",
       "     versicolor  2.485234e-03      0.995884  1.631161e-03  0.333333   \n",
       "     virginica   1.278608e-09      0.000069  9.999309e-01  0.000000   \n",
       "R    setosa      9.975392e-01      0.002461  1.087051e-09  1.000000   \n",
       "     versicolor  2.841785e-02      0.903449  6.813309e-02  0.000000   \n",
       "     virginica   4.526227e-07      0.004903  9.950961e-01  0.000000   \n",
       "\n",
       "                 R_versicolor  R_virginica  \n",
       "algo species                                \n",
       "L    setosa          0.000000     0.000000  \n",
       "     versicolor      0.666667     0.000000  \n",
       "     virginica       0.333333     0.666667  \n",
       "R    setosa          0.000000     0.000000  \n",
       "     versicolor      1.000000     0.000000  \n",
       "     virginica       0.000000     1.000000  "
      ]
     },
     "execution_count": 192,
     "metadata": {},
     "output_type": "execute_result"
    }
   ],
   "source": [
    "_X = pd.concat([\n",
    "    pd.DataFrame([get_best_params('logistic', c) for c in range(3)], \n",
    "             index=pd.MultiIndex.from_tuples([('L', 'setosa'), ('L', 'versicolor'), ('L', 'virginica')], names=['algo', 'species'])),\n",
    "    pd.DataFrame([get_best_params('randomforest', c) for c in range(3)], \n",
    "             index=pd.MultiIndex.from_tuples([('R', 'setosa'), ('R', 'versicolor'), ('R', 'virginica')], names=['algo', 'species']))\n",
    "])\n",
    "\n",
    "_Y = pd.DataFrame(L.predict_proba(_X), columns=['L_setosa', 'L_versicolor', 'L_virginica']) \\\n",
    "    .join(pd.DataFrame(R.predict_proba(_X), columns=['R_setosa', 'R_versicolor', 'R_virginica']))\n",
    "\n",
    "_X.reset_index().join(_Y).set_index(['algo', 'species'])"
   ]
  },
  {
   "cell_type": "code",
   "execution_count": null,
   "id": "c4ed0495-bb55-4fec-8615-195b42ef4bb5",
   "metadata": {},
   "outputs": [],
   "source": []
  }
 ],
 "metadata": {
  "kernelspec": {
   "display_name": "Python 3 (ipykernel)",
   "language": "python",
   "name": "python3"
  },
  "language_info": {
   "codemirror_mode": {
    "name": "ipython",
    "version": 3
   },
   "file_extension": ".py",
   "mimetype": "text/x-python",
   "name": "python",
   "nbconvert_exporter": "python",
   "pygments_lexer": "ipython3",
   "version": "3.11.4"
  },
  "widgets": {
   "application/vnd.jupyter.widget-state+json": {
    "state": {},
    "version_major": 2,
    "version_minor": 0
   }
  }
 },
 "nbformat": 4,
 "nbformat_minor": 5
}
