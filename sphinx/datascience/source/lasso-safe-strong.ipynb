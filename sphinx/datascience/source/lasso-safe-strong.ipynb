{
 "cells": [
  {
   "cell_type": "markdown",
   "id": "056b1b63-82c7-4add-9407-26160c909dfa",
   "metadata": {},
   "source": [
    "# Safe and Strong Screening for Generalized LASSO\n",
    "\n",
    "Safe <cite data-cite=\"ghaoui:2011\"></cite> and strong <cite data-cite=\"tibshirani:2012\"></cite> scoring rules may be used to filter out variables for LASSO regression. These approaches are a type of feature selection and involve inner-products to reduce the feature space. The safe scoring rule is defined as follows.\n",
    "\n",
    "$|x_j^T y| < \\lambda - ||x_j||_2 ||y||_2 \\dfrac{\\lambda_{\\mathrm{max}} - \\lambda}{\\lambda_{\\mathrm{max}}}$\n",
    "\n",
    "The strong scoring rule tends to remove more variables and is defined as follows.\n",
    "\n",
    "$|x_j^T y| < 2\\lambda - \\lambda_{\\mathrm{max}}$\n",
    "\n",
    "For these inequalities, \n",
    "\n",
    "- $x_j$ is the vector of values for the j-th,\n",
    "- $y$ is the vector of the dependent variable,\n",
    "- $\\lambda_{\\mathrm{max}} = \\mathrm{max}_i |x_i^T y|$, and\n",
    "- $\\lambda$ is the regularization parameter."
   ]
  },
  {
   "cell_type": "markdown",
   "id": "7c3b9919-9bf7-4058-8298-4e9a33f084a0",
   "metadata": {},
   "source": [
    "## Data"
   ]
  },
  {
   "cell_type": "code",
   "execution_count": 1,
   "id": "01b6e4dd-1a74-4e45-9687-af5eadcb1496",
   "metadata": {
    "execution": {
     "iopub.execute_input": "2022-02-16T22:20:52.504926Z",
     "iopub.status.busy": "2022-02-16T22:20:52.504926Z",
     "iopub.status.idle": "2022-02-16T22:20:52.922925Z",
     "shell.execute_reply": "2022-02-16T22:20:52.922925Z",
     "shell.execute_reply.started": "2022-02-16T22:20:52.504926Z"
    },
    "tags": []
   },
   "outputs": [],
   "source": [
    "import numpy as np\n",
    "import random\n",
    "from scipy.stats import binom\n",
    "\n",
    "random.seed(37)\n",
    "np.random.seed(37)\n",
    "\n",
    "N = 10_000\n",
    "\n",
    "x1 = np.random.binomial(1, 0.8, N)\n",
    "x2 = np.random.binomial(1, 0.7, N)\n",
    "x3 = np.random.binomial(1, 0.5, N)\n",
    "x4 = np.random.binomial(1, 0.3, N)\n",
    "x5 = np.random.binomial(1, 0.2, N)\n",
    "\n",
    "X = np.hstack((\n",
    "    x1.reshape(-1, 1), \n",
    "    x2.reshape(-1, 1), \n",
    "    x3.reshape(-1, 1),\n",
    "    x4.reshape(-1, 1),\n",
    "    x5.reshape(-1, 1)\n",
    "))\n",
    "\n",
    "z = 2.0 + 0.5 * x1 + 0.8 * x2\n",
    "p = 1.0 / (1.0 + np.exp(-z))\n",
    "y = binom.rvs(1, p)"
   ]
  },
  {
   "cell_type": "code",
   "execution_count": 2,
   "id": "245e182d-9cc1-44a9-bd79-8c3f2adb8a76",
   "metadata": {
    "execution": {
     "iopub.execute_input": "2022-02-16T22:20:52.923926Z",
     "iopub.status.busy": "2022-02-16T22:20:52.923926Z",
     "iopub.status.idle": "2022-02-16T22:20:52.953925Z",
     "shell.execute_reply": "2022-02-16T22:20:52.953925Z",
     "shell.execute_reply.started": "2022-02-16T22:20:52.923926Z"
    },
    "tags": []
   },
   "outputs": [],
   "source": [
    "x_ip = np.abs(X.T.dot(y))\n",
    "lambda_max = np.max(x_ip)\n",
    "lambda_v = lambda_max - (0.1 * lambda_max)\n",
    "\n",
    "x_norm = np.array([np.linalg.norm(X[:,i], 2) for i in range(X.shape[1])])\n",
    "y_norm = np.linalg.norm(y, 2)"
   ]
  },
  {
   "cell_type": "code",
   "execution_count": 3,
   "id": "40ffec6e-e2f0-4f3c-bede-b14b63c56bd5",
   "metadata": {
    "execution": {
     "iopub.execute_input": "2022-02-16T22:20:52.954925Z",
     "iopub.status.busy": "2022-02-16T22:20:52.954925Z",
     "iopub.status.idle": "2022-02-16T22:20:52.969925Z",
     "shell.execute_reply": "2022-02-16T22:20:52.969925Z",
     "shell.execute_reply.started": "2022-02-16T22:20:52.954925Z"
    },
    "tags": []
   },
   "outputs": [
    {
     "data": {
      "text/plain": [
       "6833.7"
      ]
     },
     "execution_count": 3,
     "metadata": {},
     "output_type": "execute_result"
    }
   ],
   "source": [
    "lambda_v"
   ]
  },
  {
   "cell_type": "code",
   "execution_count": 4,
   "id": "26317804-cedf-4fcb-941d-74e2fd73c619",
   "metadata": {
    "execution": {
     "iopub.execute_input": "2022-02-16T22:20:52.970925Z",
     "iopub.status.busy": "2022-02-16T22:20:52.970925Z",
     "iopub.status.idle": "2022-02-16T22:20:52.985925Z",
     "shell.execute_reply": "2022-02-16T22:20:52.985925Z",
     "shell.execute_reply.started": "2022-02-16T22:20:52.970925Z"
    },
    "tags": []
   },
   "outputs": [
    {
     "data": {
      "text/plain": [
       "7593"
      ]
     },
     "execution_count": 4,
     "metadata": {},
     "output_type": "execute_result"
    }
   ],
   "source": [
    "lambda_max"
   ]
  },
  {
   "cell_type": "code",
   "execution_count": 5,
   "id": "ec3588f0-7283-4b76-906b-1990172b4283",
   "metadata": {
    "execution": {
     "iopub.execute_input": "2022-02-16T22:20:52.986925Z",
     "iopub.status.busy": "2022-02-16T22:20:52.986925Z",
     "iopub.status.idle": "2022-02-16T22:20:53.001944Z",
     "shell.execute_reply": "2022-02-16T22:20:53.001944Z",
     "shell.execute_reply.started": "2022-02-16T22:20:52.986925Z"
    },
    "tags": []
   },
   "outputs": [
    {
     "data": {
      "text/plain": [
       "array([7593, 6770, 4740, 2834, 1890])"
      ]
     },
     "execution_count": 5,
     "metadata": {},
     "output_type": "execute_result"
    }
   ],
   "source": [
    "x_ip"
   ]
  },
  {
   "cell_type": "code",
   "execution_count": 6,
   "id": "9f39c5ff-cbd1-4953-b8bc-07f757adc5c6",
   "metadata": {
    "execution": {
     "iopub.execute_input": "2022-02-16T22:20:53.002946Z",
     "iopub.status.busy": "2022-02-16T22:20:53.002946Z",
     "iopub.status.idle": "2022-02-16T22:20:53.017946Z",
     "shell.execute_reply": "2022-02-16T22:20:53.017946Z",
     "shell.execute_reply.started": "2022-02-16T22:20:53.002946Z"
    },
    "tags": []
   },
   "outputs": [
    {
     "data": {
      "text/plain": [
       "array([89.35323161, 83.98214096, 70.79548008, 54.91812087, 44.754888  ])"
      ]
     },
     "execution_count": 6,
     "metadata": {},
     "output_type": "execute_result"
    }
   ],
   "source": [
    "x_norm"
   ]
  },
  {
   "cell_type": "code",
   "execution_count": 7,
   "id": "9bd36cb7-ef38-4843-bbee-cabf695e84d6",
   "metadata": {
    "execution": {
     "iopub.execute_input": "2022-02-16T22:20:53.019945Z",
     "iopub.status.busy": "2022-02-16T22:20:53.018944Z",
     "iopub.status.idle": "2022-02-16T22:20:53.033102Z",
     "shell.execute_reply": "2022-02-16T22:20:53.033102Z",
     "shell.execute_reply.started": "2022-02-16T22:20:53.019945Z"
    },
    "tags": []
   },
   "outputs": [
    {
     "data": {
      "text/plain": [
       "97.22139682189307"
      ]
     },
     "execution_count": 7,
     "metadata": {},
     "output_type": "execute_result"
    }
   ],
   "source": [
    "y_norm"
   ]
  },
  {
   "cell_type": "code",
   "execution_count": 8,
   "id": "36228f5c-be1d-488b-9e8f-6a1391d5a91d",
   "metadata": {
    "execution": {
     "iopub.execute_input": "2022-02-16T22:20:53.034105Z",
     "iopub.status.busy": "2022-02-16T22:20:53.034105Z",
     "iopub.status.idle": "2022-02-16T22:20:53.048121Z",
     "shell.execute_reply": "2022-02-16T22:20:53.048121Z",
     "shell.execute_reply.started": "2022-02-16T22:20:53.034105Z"
    },
    "tags": []
   },
   "outputs": [
    {
     "data": {
      "text/plain": [
       "array([5964.99540119, 6017.21389479, 6145.41645378, 6299.77835781,\n",
       "       6398.58672739])"
      ]
     },
     "execution_count": 8,
     "metadata": {},
     "output_type": "execute_result"
    }
   ],
   "source": [
    "lambda_v - x_norm * y_norm * ((lambda_max - lambda_v)/(lambda_max))"
   ]
  },
  {
   "cell_type": "code",
   "execution_count": 11,
   "id": "5c7da2f5-0cc1-43e8-9221-07f7bc85ecd1",
   "metadata": {
    "execution": {
     "iopub.execute_input": "2022-02-16T22:54:06.731972Z",
     "iopub.status.busy": "2022-02-16T22:54:06.731972Z",
     "iopub.status.idle": "2022-02-16T22:54:06.750972Z",
     "shell.execute_reply": "2022-02-16T22:54:06.750972Z",
     "shell.execute_reply.started": "2022-02-16T22:54:06.731972Z"
    }
   },
   "outputs": [
    {
     "data": {
      "text/plain": [
       "array([False, False,  True,  True,  True])"
      ]
     },
     "execution_count": 11,
     "metadata": {},
     "output_type": "execute_result"
    }
   ],
   "source": [
    "x_ip < lambda_v - x_norm * y_norm * ((lambda_max - lambda_v)/(lambda_max))"
   ]
  },
  {
   "cell_type": "code",
   "execution_count": 9,
   "id": "d36ae6be-1944-4f33-b707-56fc16d54dd8",
   "metadata": {
    "execution": {
     "iopub.execute_input": "2022-02-16T22:20:53.049120Z",
     "iopub.status.busy": "2022-02-16T22:20:53.049120Z",
     "iopub.status.idle": "2022-02-16T22:20:53.063258Z",
     "shell.execute_reply": "2022-02-16T22:20:53.063258Z",
     "shell.execute_reply.started": "2022-02-16T22:20:53.049120Z"
    },
    "tags": []
   },
   "outputs": [
    {
     "data": {
      "text/plain": [
       "6074.4"
      ]
     },
     "execution_count": 9,
     "metadata": {},
     "output_type": "execute_result"
    }
   ],
   "source": [
    "2 * lambda_v - lambda_max"
   ]
  },
  {
   "cell_type": "code",
   "execution_count": 10,
   "id": "e3d48175-5e79-439c-b441-946e0829a798",
   "metadata": {
    "execution": {
     "iopub.execute_input": "2022-02-16T22:20:53.064259Z",
     "iopub.status.busy": "2022-02-16T22:20:53.064259Z",
     "iopub.status.idle": "2022-02-16T22:20:53.079305Z",
     "shell.execute_reply": "2022-02-16T22:20:53.079305Z",
     "shell.execute_reply.started": "2022-02-16T22:20:53.064259Z"
    },
    "tags": []
   },
   "outputs": [
    {
     "data": {
      "text/plain": [
       "array([False, False,  True,  True,  True])"
      ]
     },
     "execution_count": 10,
     "metadata": {},
     "output_type": "execute_result"
    }
   ],
   "source": [
    "x_ip < 2 * lambda_v - lambda_max"
   ]
  },
  {
   "cell_type": "code",
   "execution_count": null,
   "id": "3225b211-3189-4116-9702-665d6da87227",
   "metadata": {},
   "outputs": [],
   "source": []
  }
 ],
 "metadata": {
  "kernelspec": {
   "display_name": "Python 3",
   "language": "python",
   "name": "python3"
  },
  "language_info": {
   "codemirror_mode": {
    "name": "ipython",
    "version": 3
   },
   "file_extension": ".py",
   "mimetype": "text/x-python",
   "name": "python",
   "nbconvert_exporter": "python",
   "pygments_lexer": "ipython3",
   "version": "3.8.5"
  },
  "widgets": {
   "application/vnd.jupyter.widget-state+json": {
    "state": {},
    "version_major": 2,
    "version_minor": 0
   }
  }
 },
 "nbformat": 4,
 "nbformat_minor": 5
}
