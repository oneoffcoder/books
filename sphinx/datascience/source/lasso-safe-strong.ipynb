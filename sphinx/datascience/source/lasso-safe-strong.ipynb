{
 "cells": [
  {
   "cell_type": "markdown",
   "id": "056b1b63-82c7-4add-9407-26160c909dfa",
   "metadata": {},
   "source": [
    "# Safe and Strong Screening for Generalized LASSO\n",
    "\n",
    "Safe <cite data-cite=\"ghaoui:2011\"></cite> and strong <cite data-cite=\"tibshirani:2012\"></cite> scoring rules may be used to filter out variables for LASSO regression. These approaches are a type of feature selection and involve inner-products to reduce the feature space. The safe scoring rule is defined as follows.\n",
    "\n",
    "$|x_j^T y| < \\lambda - ||x_j||_2 ||y||_2 \\dfrac{\\lambda_{\\mathrm{max}} - \\lambda}{\\lambda_{\\mathrm{max}}}$\n",
    "\n",
    "The strong scoring rule tends to remove more variables and is defined as follows.\n",
    "\n",
    "$|x_j^T y| < 2\\lambda - \\lambda_{\\mathrm{max}}$\n",
    "\n",
    "For these inequalities, \n",
    "\n",
    "- $x_j$ is the vector of values for the j-th,\n",
    "- $y$ is the vector of the dependent variable,\n",
    "- $\\lambda_{\\mathrm{max}} = \\mathrm{max}_i |x_i^T y|$, and\n",
    "- $\\lambda$ is the regularization parameter."
   ]
  },
  {
   "cell_type": "markdown",
   "id": "7c3b9919-9bf7-4058-8298-4e9a33f084a0",
   "metadata": {},
   "source": [
    "## Data\n",
    "\n",
    "Let's simulate some data.\n",
    "\n",
    "The variables $X_1, X_2, X_3, X_4, X_5$ are sampled as follows.\n",
    "\n",
    "- $X_1 \\sim \\mathcal{B}(1, 0.8)$\n",
    "- $X_2 \\sim \\mathcal{B}(1, 0.4)$\n",
    "- $X_3 \\sim \\mathcal{B}(1, 0.6)$\n",
    "- $X_4 \\sim \\mathcal{B}(1, 0.3)$\n",
    "- $X_5 \\sim \\mathcal{B}(1, 0.2)$\n",
    "\n",
    "The dependent variable $y$ is sampled as follows.\n",
    "\n",
    "- $z = 2.0 + 0.5 X_1 + 0.8 X_2$\n",
    "- $p = \\dfrac{1.0}{1.0 + \\exp(-z)}$\n",
    "- $y \\sim \\mathcal{B}(1, p)$\n",
    "\n",
    "There are 10,000 sampled data points."
   ]
  },
  {
   "cell_type": "code",
   "execution_count": 1,
   "id": "01b6e4dd-1a74-4e45-9687-af5eadcb1496",
   "metadata": {
    "tags": []
   },
   "outputs": [],
   "source": [
    "import numpy as np\n",
    "import random\n",
    "from scipy.stats import binom\n",
    "\n",
    "random.seed(37)\n",
    "np.random.seed(37)\n",
    "\n",
    "N = 10_000\n",
    "\n",
    "x1 = np.random.binomial(1, 0.8, N)\n",
    "x2 = np.random.binomial(1, 0.7, N)\n",
    "x3 = np.random.binomial(1, 0.5, N)\n",
    "x4 = np.random.binomial(1, 0.3, N)\n",
    "x5 = np.random.binomial(1, 0.2, N)\n",
    "\n",
    "X = np.hstack((\n",
    "    x1.reshape(-1, 1), \n",
    "    x2.reshape(-1, 1), \n",
    "    x3.reshape(-1, 1),\n",
    "    x4.reshape(-1, 1),\n",
    "    x5.reshape(-1, 1)\n",
    "))\n",
    "\n",
    "z = 2.0 + 0.5 * x1 + 0.8 * x2\n",
    "p = 1.0 / (1.0 + np.exp(-z))\n",
    "y = binom.rvs(1, p)"
   ]
  },
  {
   "cell_type": "markdown",
   "id": "deb3b1b3-cc20-4677-a727-1ed82cca2926",
   "metadata": {},
   "source": [
    "## Feature selection\n",
    "\n",
    "Let's compute what we need for the inequalities."
   ]
  },
  {
   "cell_type": "code",
   "execution_count": 2,
   "id": "245e182d-9cc1-44a9-bd79-8c3f2adb8a76",
   "metadata": {
    "tags": []
   },
   "outputs": [],
   "source": [
    "x_ip = np.abs(X.T.dot(y))                    # inner-product |x_i^T y|\n",
    "lambda_max = np.max(x_ip)                    # maximum value of inner-products\n",
    "lambda_v = lambda_max - (0.1 * lambda_max)   # lambda is selected to be lambda_max - (0.1 lambda_max)\n",
    "\n",
    "x_norm = np.array([np.linalg.norm(X[:,i], 2) for i in range(X.shape[1])])  # l2 norms of each variable/column\n",
    "y_norm = np.linalg.norm(y, 2)                                              # l2 norm of y"
   ]
  },
  {
   "cell_type": "code",
   "execution_count": 3,
   "id": "40ffec6e-e2f0-4f3c-bede-b14b63c56bd5",
   "metadata": {
    "tags": []
   },
   "outputs": [
    {
     "data": {
      "text/plain": [
       "6833.7"
      ]
     },
     "execution_count": 3,
     "metadata": {},
     "output_type": "execute_result"
    }
   ],
   "source": [
    "lambda_v"
   ]
  },
  {
   "cell_type": "code",
   "execution_count": 4,
   "id": "26317804-cedf-4fcb-941d-74e2fd73c619",
   "metadata": {
    "tags": []
   },
   "outputs": [
    {
     "data": {
      "text/plain": [
       "7593"
      ]
     },
     "execution_count": 4,
     "metadata": {},
     "output_type": "execute_result"
    }
   ],
   "source": [
    "lambda_max"
   ]
  },
  {
   "cell_type": "code",
   "execution_count": 5,
   "id": "ec3588f0-7283-4b76-906b-1990172b4283",
   "metadata": {
    "tags": []
   },
   "outputs": [
    {
     "data": {
      "text/plain": [
       "array([7593, 6770, 4740, 2834, 1890])"
      ]
     },
     "execution_count": 5,
     "metadata": {},
     "output_type": "execute_result"
    }
   ],
   "source": [
    "x_ip"
   ]
  },
  {
   "cell_type": "code",
   "execution_count": 6,
   "id": "9f39c5ff-cbd1-4953-b8bc-07f757adc5c6",
   "metadata": {
    "tags": []
   },
   "outputs": [
    {
     "data": {
      "text/plain": [
       "array([89.35323161, 83.98214096, 70.79548008, 54.91812087, 44.754888  ])"
      ]
     },
     "execution_count": 6,
     "metadata": {},
     "output_type": "execute_result"
    }
   ],
   "source": [
    "x_norm"
   ]
  },
  {
   "cell_type": "code",
   "execution_count": 7,
   "id": "9bd36cb7-ef38-4843-bbee-cabf695e84d6",
   "metadata": {
    "tags": []
   },
   "outputs": [
    {
     "data": {
      "text/plain": [
       "97.22139682189307"
      ]
     },
     "execution_count": 7,
     "metadata": {},
     "output_type": "execute_result"
    }
   ],
   "source": [
    "y_norm"
   ]
  },
  {
   "cell_type": "markdown",
   "id": "90ef2915-8807-4a6c-950c-8137fdc5f7d5",
   "metadata": {},
   "source": [
    "### Safe scoring rule\n",
    "\n",
    "$\\lambda - ||x_j||_2 ||y||_2 \\dfrac{\\lambda_{\\mathrm{max}} - \\lambda}{\\lambda_{\\mathrm{max}}}$"
   ]
  },
  {
   "cell_type": "code",
   "execution_count": 8,
   "id": "36228f5c-be1d-488b-9e8f-6a1391d5a91d",
   "metadata": {
    "tags": []
   },
   "outputs": [
    {
     "data": {
      "text/plain": [
       "array([5964.99540119, 6017.21389479, 6145.41645378, 6299.77835781,\n",
       "       6398.58672739])"
      ]
     },
     "execution_count": 8,
     "metadata": {},
     "output_type": "execute_result"
    }
   ],
   "source": [
    "lambda_v - x_norm * y_norm * ((lambda_max - lambda_v)/(lambda_max))"
   ]
  },
  {
   "cell_type": "markdown",
   "id": "5196dd1c-92fd-4ba4-9055-34eabaf1a58c",
   "metadata": {},
   "source": [
    "The safe scoring rule inequality.\n",
    "\n",
    "$|x_j^T y| < \\lambda - ||x_j||_2 ||y||_2 \\dfrac{\\lambda_{\\mathrm{max}} - \\lambda}{\\lambda_{\\mathrm{max}}}$\n",
    "\n",
    "As you can see, $X_1$ and $X_2$ are kept, but $X_3$, $X_4$ and $X_5$ are removed by the inequality."
   ]
  },
  {
   "cell_type": "code",
   "execution_count": 9,
   "id": "5c7da2f5-0cc1-43e8-9221-07f7bc85ecd1",
   "metadata": {},
   "outputs": [
    {
     "data": {
      "text/plain": [
       "array([False, False,  True,  True,  True])"
      ]
     },
     "execution_count": 9,
     "metadata": {},
     "output_type": "execute_result"
    }
   ],
   "source": [
    "x_ip < lambda_v - x_norm * y_norm * ((lambda_max - lambda_v)/(lambda_max))"
   ]
  },
  {
   "cell_type": "markdown",
   "id": "8ebdb495-bc48-44f9-aac5-8def935c396b",
   "metadata": {},
   "source": [
    "### Strong scoring rule\n",
    "\n",
    "$2\\lambda - \\lambda_{\\mathrm{max}}$"
   ]
  },
  {
   "cell_type": "code",
   "execution_count": 10,
   "id": "d36ae6be-1944-4f33-b707-56fc16d54dd8",
   "metadata": {
    "tags": []
   },
   "outputs": [
    {
     "data": {
      "text/plain": [
       "6074.4"
      ]
     },
     "execution_count": 10,
     "metadata": {},
     "output_type": "execute_result"
    }
   ],
   "source": [
    "2 * lambda_v - lambda_max"
   ]
  },
  {
   "cell_type": "markdown",
   "id": "3fdf570d-2bfd-46fc-9ea6-612db499b18e",
   "metadata": {},
   "source": [
    "The strong scoring rule inequality.\n",
    "\n",
    "$|x_j^T y| < 2\\lambda - \\lambda_{\\mathrm{max}}$\n",
    "\n",
    "Again, as you can see, $X_1$ and $X_2$ are kept, but $X_3$, $X_4$ and $X_5$ are removed by the inequality."
   ]
  },
  {
   "cell_type": "code",
   "execution_count": 11,
   "id": "e3d48175-5e79-439c-b441-946e0829a798",
   "metadata": {
    "tags": []
   },
   "outputs": [
    {
     "data": {
      "text/plain": [
       "array([False, False,  True,  True,  True])"
      ]
     },
     "execution_count": 11,
     "metadata": {},
     "output_type": "execute_result"
    }
   ],
   "source": [
    "x_ip < 2 * lambda_v - lambda_max"
   ]
  }
 ],
 "metadata": {
  "kernelspec": {
   "display_name": "Python 3",
   "language": "python",
   "name": "python3"
  },
  "language_info": {
   "codemirror_mode": {
    "name": "ipython",
    "version": 3
   },
   "file_extension": ".py",
   "mimetype": "text/x-python",
   "name": "python",
   "nbconvert_exporter": "python",
   "pygments_lexer": "ipython3",
   "version": "3.8.8"
  },
  "widgets": {
   "application/vnd.jupyter.widget-state+json": {
    "state": {},
    "version_major": 2,
    "version_minor": 0
   }
  }
 },
 "nbformat": 4,
 "nbformat_minor": 5
}
