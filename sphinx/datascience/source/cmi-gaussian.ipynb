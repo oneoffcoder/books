{
 "cells": [
  {
   "cell_type": "markdown",
   "metadata": {},
   "source": [
    "# Conditional Mutual Information for Gaussian Variables\n",
    "\n",
    "The conditional mutual information for two continuous variables $X$ and $Y$, given a third $Z$, is defined as follows.\n",
    "\n",
    "$I(X;Y|Z) = \\int_Z \\int_Y \\int_X p(x, y, z) \\log \\cfrac{p(z) p(x, y, z)}{p(x, z)p(y, z)} dx dy dz$\n",
    "\n",
    "Computing the conditional mutual information is prohibitive since the number of possible values of $X$, $Y$ and $Z$ could be very large, and the product of the numbers of possible values is even larger. Here, we will use an approximation to computing the mutual information. First, we will assume that the $X$, $Y$ and $Z$ are gaussian distributed. Second, we will not exhaustively enumerate all possible combinations of $x \\in X$, $y \\in Y$ and $z \\in Z$. Instead, we will only take equally spaced and an equal number of $x \\in X$, $y \\in Y$ and $z \\in Z$."
   ]
  },
  {
   "cell_type": "markdown",
   "metadata": {},
   "source": [
    "## Simulation\n",
    "\n",
    "Let's simulate data from 3 graphical models.\n",
    "\n",
    "* $M_S = X_1 \\rightarrow X_3 \\rightarrow X_2$\n",
    "* $M_D = X_1 \\leftarrow X_3 \\rightarrow X_2$\n",
    "* $M_C = X_1 \\rightarrow X_3 \\leftarrow X_2$\n",
    "\n",
    "$M_S$ is called a serial model, $M_D$ is called a diverging model and $M_C$ is called a converging model."
   ]
  },
  {
   "cell_type": "code",
   "execution_count": 1,
   "metadata": {},
   "outputs": [],
   "source": [
    "import numpy as np\n",
    "import pandas as pd\n",
    "from scipy.stats import multivariate_normal\n",
    "import itertools\n",
    "\n",
    "np.random.seed(37)\n",
    "\n",
    "class Data(object):\n",
    "    def __init__(self, data, means, cov, points=50):\n",
    "        self.data = data\n",
    "        self.means = means\n",
    "        self.cov = cov\n",
    "        self.df = pd.DataFrame(data, columns=['x1', 'x2', 'x3'])\n",
    "        self.p_xyz = multivariate_normal(means, cov)\n",
    "        self.p_xz = multivariate_normal(means[[0, 2]], cov[[0, 2]][:, [0, 2]])\n",
    "        self.p_yz = multivariate_normal(means[[1, 2]], cov[[1, 2]][:, [1, 2]])\n",
    "        self.p_z = multivariate_normal(means[2], cov[2, 2])\n",
    "        self.x_vals = np.linspace(self.df.x1.min(), self.df.x1.max(), num=points, endpoint=True)\n",
    "        self.y_vals = np.linspace(self.df.x2.min(), self.df.x2.max(), num=points, endpoint=True)\n",
    "        self.z_vals = np.linspace(self.df.x3.min(), self.df.x3.max(), num=points, endpoint=True)\n",
    "        \n",
    "    def get_cmi(self):\n",
    "        x_vals = self.x_vals\n",
    "        y_vals = self.y_vals\n",
    "        z_vals = self.z_vals\n",
    "        prod = itertools.product(*[x_vals, y_vals, z_vals])\n",
    "        \n",
    "        p_z = self.p_z\n",
    "        p_xz = self.p_xz\n",
    "        p_yz = self.p_yz\n",
    "        p_xyz = self.p_xyz\n",
    "        quads = ((p_xyz.pdf([x, y, z]), p_z.pdf(z), p_xz.pdf([x, z]), p_yz.pdf([y, z])) for x, y, z in prod)\n",
    "        \n",
    "        cmi = sum((xyz * (np.log(z) + np.log(xyz) - np.log(xz) - np.log(yz)) for xyz, z, xz, yz in quads))\n",
    "        return cmi\n",
    "\n",
    "\n",
    "def get_serial(N=1000):\n",
    "    x1 = np.random.normal(1, 1, N)\n",
    "    x3 = np.random.normal(1 + 3.5 * x1, 1, N)\n",
    "    x2 = np.random.normal(1 - 2.8 * x3, 3, N)\n",
    "\n",
    "    data = np.vstack([x1, x2, x3]).T\n",
    "    means = data.mean(axis=0)\n",
    "    cov = np.cov(data.T)\n",
    "    \n",
    "    return Data(data, means, cov)\n",
    "\n",
    "def get_diverging(N=1000):\n",
    "    x3 = np.random.normal(1, 1, N)\n",
    "    x1 = np.random.normal(1 + 2.8 * x3, 1, N)\n",
    "    x2 = np.random.normal(1 - 2.8 * x3, 3, N)\n",
    "\n",
    "    data = np.vstack([x1, x2, x3]).T\n",
    "    means = data.mean(axis=0)\n",
    "    cov = np.cov(data.T)\n",
    "    \n",
    "    return Data(data, means, cov)\n",
    "\n",
    "def get_converging(N=1000):\n",
    "    x1 = np.random.normal(2.8, 1, N)\n",
    "    x2 = np.random.normal(8.8, 3, N)\n",
    "    x3 = np.random.normal(1 + 0.8 * x1 + 0.9 * x2, 1, N)\n",
    "    \n",
    "\n",
    "    data = np.vstack([x1, x2, x3]).T\n",
    "    means = data.mean(axis=0)\n",
    "    cov = np.cov(data.T)\n",
    "    \n",
    "    return Data(data, means, cov)\n",
    "\n",
    "m_s = get_serial()\n",
    "m_d = get_diverging()\n",
    "m_c = get_converging()"
   ]
  },
  {
   "cell_type": "markdown",
   "metadata": {},
   "source": [
    "## Estimate conditional mutual information\n",
    "\n",
    "As, you can see, when testing for conditional mutual information, $I(X_1, X_2 | X_3)$ for both serial and diverging structure (data) suggest small conditional dependence. However, $I(X_1, X_2 | X_3)$ for the converging structure suggest larger conditional dependence."
   ]
  },
  {
   "cell_type": "code",
   "execution_count": 2,
   "metadata": {},
   "outputs": [
    {
     "name": "stdout",
     "output_type": "stream",
     "text": [
      "CPU times: user 15.8 s, sys: 278 ms, total: 16.1 s\n",
      "Wall time: 14.8 s\n"
     ]
    },
    {
     "data": {
      "text/plain": [
       "0.012372411431840816"
      ]
     },
     "execution_count": 2,
     "metadata": {},
     "output_type": "execute_result"
    }
   ],
   "source": [
    "%%time\n",
    "m_s.get_cmi()"
   ]
  },
  {
   "cell_type": "code",
   "execution_count": 3,
   "metadata": {},
   "outputs": [
    {
     "name": "stdout",
     "output_type": "stream",
     "text": [
      "CPU times: user 14.7 s, sys: 54.4 ms, total: 14.7 s\n",
      "Wall time: 14.7 s\n"
     ]
    },
    {
     "data": {
      "text/plain": [
       "9.612131185101602e-05"
      ]
     },
     "execution_count": 3,
     "metadata": {},
     "output_type": "execute_result"
    }
   ],
   "source": [
    "%%time\n",
    "m_d.get_cmi()"
   ]
  },
  {
   "cell_type": "code",
   "execution_count": 4,
   "metadata": {},
   "outputs": [
    {
     "name": "stdout",
     "output_type": "stream",
     "text": [
      "CPU times: user 14.7 s, sys: 84.7 ms, total: 14.7 s\n",
      "Wall time: 14.7 s\n"
     ]
    },
    {
     "data": {
      "text/plain": [
       "11.209703669891077"
      ]
     },
     "execution_count": 4,
     "metadata": {},
     "output_type": "execute_result"
    }
   ],
   "source": [
    "%%time\n",
    "m_c.get_cmi()"
   ]
  }
 ],
 "metadata": {
  "kernelspec": {
   "display_name": "Python 3",
   "language": "python",
   "name": "python3"
  },
  "language_info": {
   "codemirror_mode": {
    "name": "ipython",
    "version": 3
   },
   "file_extension": ".py",
   "mimetype": "text/x-python",
   "name": "python",
   "nbconvert_exporter": "python",
   "pygments_lexer": "ipython3",
   "version": "3.7.6"
  }
 },
 "nbformat": 4,
 "nbformat_minor": 4
}
