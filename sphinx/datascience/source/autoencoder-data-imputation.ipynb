{
 "cells": [
  {
   "cell_type": "markdown",
   "id": "common-invitation",
   "metadata": {},
   "source": [
    "# Data Imputation with Autoencoders\n",
    "\n",
    "Autoencoders may be used for data imputation. Let's see how data imputation with autoencoder works."
   ]
  },
  {
   "cell_type": "markdown",
   "id": "animated-billy",
   "metadata": {},
   "source": [
    "## Data\n",
    "\n",
    "The data is sampled as follows.\n",
    "\n",
    "- $X_0 \\sim \\mathcal{N}(0, 1)$\n",
    "- $X_1 \\sim \\mathcal{N}(1.1 + 4 X_0, 1)$\n",
    "- $X_2 \\sim \\mathcal{N}(2.3 - 0.5 X_0, 1)$"
   ]
  },
  {
   "cell_type": "code",
   "execution_count": 1,
   "id": "informative-ballot",
   "metadata": {
    "execution": {
     "iopub.execute_input": "2022-01-02T15:12:25.198104Z",
     "iopub.status.busy": "2022-01-02T15:12:25.197865Z",
     "iopub.status.idle": "2022-01-02T15:12:25.260666Z",
     "shell.execute_reply": "2022-01-02T15:12:25.260309Z",
     "shell.execute_reply.started": "2022-01-02T15:12:25.198041Z"
    }
   },
   "outputs": [
    {
     "data": {
      "text/plain": [
       "(1000, 3)"
      ]
     },
     "execution_count": 1,
     "metadata": {},
     "output_type": "execute_result"
    }
   ],
   "source": [
    "import numpy as np\n",
    "import random\n",
    "\n",
    "np.random.seed(37)\n",
    "random.seed(37)\n",
    "\n",
    "size = 1_000\n",
    "\n",
    "X_0 = np.random.normal(0, 1, size=size)\n",
    "X_1 = 1.1 + 4 * X_0 + np.random.normal(0, 1, size=size)\n",
    "X_2 = 2.3 - 0.5 * X_0 + np.random.normal(0, 1, size=size)\n",
    "\n",
    "X = np.hstack([X_0.reshape(-1, 1), X_1.reshape(-1, 1), X_2.reshape(-1, 1)])\n",
    "\n",
    "X.shape"
   ]
  },
  {
   "cell_type": "markdown",
   "id": "sustainable-satin",
   "metadata": {},
   "source": [
    "## Missing data\n",
    "\n",
    "We will make 10% of the data missing randomly."
   ]
  },
  {
   "cell_type": "code",
   "execution_count": 2,
   "id": "prescription-ceramic",
   "metadata": {
    "execution": {
     "iopub.execute_input": "2022-01-02T15:12:25.261480Z",
     "iopub.status.busy": "2022-01-02T15:12:25.261353Z",
     "iopub.status.idle": "2022-01-02T15:12:25.369828Z",
     "shell.execute_reply": "2022-01-02T15:12:25.369335Z",
     "shell.execute_reply.started": "2022-01-02T15:12:25.261466Z"
    }
   },
   "outputs": [],
   "source": [
    "import itertools\n",
    "import pandas as pd\n",
    "\n",
    "def make_missing(X, frac=0.1):\n",
    "    n = int(frac * X.shape[0] * X.shape[1])\n",
    "    \n",
    "    rows = list(range(X.shape[0]))\n",
    "    cols = list(range(X.shape[1]))\n",
    "    \n",
    "    coordinates = list(itertools.product(*[rows, cols]))\n",
    "    random.shuffle(coordinates)\n",
    "    coordinates = coordinates[:n]\n",
    "        \n",
    "    M = np.copy(X)\n",
    "    \n",
    "    for r, c in coordinates:\n",
    "        M[r, c] = np.nan\n",
    "            \n",
    "    return pd.DataFrame(M, columns=[f'X_{i}' for i in range(X.shape[1])]), coordinates\n",
    "\n",
    "df, coordinates = make_missing(X)"
   ]
  },
  {
   "cell_type": "code",
   "execution_count": 3,
   "id": "grand-trick",
   "metadata": {
    "execution": {
     "iopub.execute_input": "2022-01-02T15:12:25.370843Z",
     "iopub.status.busy": "2022-01-02T15:12:25.370675Z",
     "iopub.status.idle": "2022-01-02T15:12:25.375510Z",
     "shell.execute_reply": "2022-01-02T15:12:25.374740Z",
     "shell.execute_reply.started": "2022-01-02T15:12:25.370820Z"
    }
   },
   "outputs": [
    {
     "data": {
      "text/plain": [
       "X_0     99\n",
       "X_1    102\n",
       "X_2     99\n",
       "dtype: int64"
      ]
     },
     "execution_count": 3,
     "metadata": {},
     "output_type": "execute_result"
    }
   ],
   "source": [
    "df.isna().sum()"
   ]
  },
  {
   "cell_type": "code",
   "execution_count": 4,
   "id": "departmental-missile",
   "metadata": {
    "execution": {
     "iopub.execute_input": "2022-01-02T15:12:25.376568Z",
     "iopub.status.busy": "2022-01-02T15:12:25.376328Z",
     "iopub.status.idle": "2022-01-02T15:12:25.380462Z",
     "shell.execute_reply": "2022-01-02T15:12:25.380087Z",
     "shell.execute_reply.started": "2022-01-02T15:12:25.376549Z"
    }
   },
   "outputs": [
    {
     "data": {
      "text/plain": [
       "300"
      ]
     },
     "execution_count": 4,
     "metadata": {},
     "output_type": "execute_result"
    }
   ],
   "source": [
    "df.isna().sum().sum()"
   ]
  },
  {
   "cell_type": "code",
   "execution_count": 5,
   "id": "express-bidder",
   "metadata": {
    "execution": {
     "iopub.execute_input": "2022-01-02T15:12:25.381087Z",
     "iopub.status.busy": "2022-01-02T15:12:25.380980Z",
     "iopub.status.idle": "2022-01-02T15:12:25.886231Z",
     "shell.execute_reply": "2022-01-02T15:12:25.885836Z",
     "shell.execute_reply.started": "2022-01-02T15:12:25.381074Z"
    }
   },
   "outputs": [
    {
     "data": {
      "image/png": "[encoded data removed]",
      "text/plain": [
       "<Figure size 1800x720 with 2 Axes>"
      ]
     },
     "metadata": {
      "needs_background": "light"
     },
     "output_type": "display_data"
    }
   ],
   "source": [
    "import missingno as msno\n",
    "\n",
    "_ = msno.matrix(df)"
   ]
  },
  {
   "cell_type": "markdown",
   "id": "upset-absorption",
   "metadata": {},
   "source": [
    "Denote the following.\n",
    "\n",
    "- N: represents data that is not missing (will be used for training)\n",
    "- T: represents data that is ground truth for missing data (will be used for validation)\n",
    "- M: represents data that is missing (will be used for testing)"
   ]
  },
  {
   "cell_type": "code",
   "execution_count": 6,
   "id": "angry-enemy",
   "metadata": {
    "execution": {
     "iopub.execute_input": "2022-01-02T15:12:25.886962Z",
     "iopub.status.busy": "2022-01-02T15:12:25.886833Z",
     "iopub.status.idle": "2022-01-02T15:12:25.895199Z",
     "shell.execute_reply": "2022-01-02T15:12:25.894772Z",
     "shell.execute_reply.started": "2022-01-02T15:12:25.886948Z"
    }
   },
   "outputs": [
    {
     "data": {
      "text/plain": [
       "((732, 3), (268, 3), (268, 3))"
      ]
     },
     "execution_count": 6,
     "metadata": {},
     "output_type": "execute_result"
    }
   ],
   "source": [
    "N_df = df.dropna()\n",
    "T_df = pd.DataFrame(X[df.isnull().any(axis=1), :], columns=N_df.columns)\n",
    "M_df = df[df.isnull().any(axis=1)]\n",
    "\n",
    "N_df.shape, T_df.shape, M_df.shape"
   ]
  },
  {
   "cell_type": "code",
   "execution_count": 7,
   "id": "linear-joyce",
   "metadata": {
    "execution": {
     "iopub.execute_input": "2022-01-02T15:12:25.895867Z",
     "iopub.status.busy": "2022-01-02T15:12:25.895760Z",
     "iopub.status.idle": "2022-01-02T15:12:25.906195Z",
     "shell.execute_reply": "2022-01-02T15:12:25.905786Z",
     "shell.execute_reply.started": "2022-01-02T15:12:25.895853Z"
    }
   },
   "outputs": [
    {
     "data": {
      "text/plain": [
       "X_0   -0.054464\n",
       "X_1    0.222191\n",
       "X_2    2.381753\n",
       "Name: 0, dtype: float64"
      ]
     },
     "execution_count": 7,
     "metadata": {},
     "output_type": "execute_result"
    }
   ],
   "source": [
    "T_df.iloc[0]"
   ]
  },
  {
   "cell_type": "code",
   "execution_count": 8,
   "id": "defined-vocabulary",
   "metadata": {
    "execution": {
     "iopub.execute_input": "2022-01-02T15:12:25.906904Z",
     "iopub.status.busy": "2022-01-02T15:12:25.906755Z",
     "iopub.status.idle": "2022-01-02T15:12:25.910575Z",
     "shell.execute_reply": "2022-01-02T15:12:25.910103Z",
     "shell.execute_reply.started": "2022-01-02T15:12:25.906891Z"
    }
   },
   "outputs": [
    {
     "data": {
      "text/plain": [
       "X_0   -0.054464\n",
       "X_1         NaN\n",
       "X_2    2.381753\n",
       "Name: 0, dtype: float64"
      ]
     },
     "execution_count": 8,
     "metadata": {},
     "output_type": "execute_result"
    }
   ],
   "source": [
    "M_df.iloc[0]"
   ]
  },
  {
   "cell_type": "markdown",
   "id": "individual-baking",
   "metadata": {},
   "source": [
    "## Dataset, Data Loader\n",
    "\n",
    "We will have to create our datasets and data loaders."
   ]
  },
  {
   "cell_type": "code",
   "execution_count": 9,
   "id": "decreased-centre",
   "metadata": {
    "execution": {
     "iopub.execute_input": "2022-01-02T15:12:25.912227Z",
     "iopub.status.busy": "2022-01-02T15:12:25.912039Z",
     "iopub.status.idle": "2022-01-02T15:12:26.430244Z",
     "shell.execute_reply": "2022-01-02T15:12:26.429744Z",
     "shell.execute_reply.started": "2022-01-02T15:12:25.912206Z"
    }
   },
   "outputs": [
    {
     "name": "stdout",
     "output_type": "stream",
     "text": [
      "cuda\n"
     ]
    }
   ],
   "source": [
    "import torch\n",
    "from torch.utils.data import Dataset, DataLoader\n",
    "from torchvision.transforms import *\n",
    "\n",
    "class SampleDataset(Dataset):\n",
    "    def __init__(self, X, device, clazz=0):\n",
    "        self.__device = device\n",
    "        self.__clazz = clazz\n",
    "        self.__X = X\n",
    "\n",
    "    def __len__(self):\n",
    "        return self.__X.shape[0]\n",
    "\n",
    "    def __getitem__(self, idx):\n",
    "        item = self.__X[idx,:]\n",
    "        \n",
    "        return item, self.__clazz\n",
    "\n",
    "device = torch.device('cuda') if torch.cuda.is_available() else torch.device('cpu')\n",
    "print(device)\n",
    "\n",
    "N_ds = SampleDataset(X=N_df.values, device=device)\n",
    "M_ds = SampleDataset(X=M_df.fillna(0.0).values, device=device)\n",
    "\n",
    "N_dl = DataLoader(N_ds, batch_size=64, shuffle=True, num_workers=1)\n",
    "M_dl = DataLoader(M_ds, batch_size=64, shuffle=True, num_workers=1)"
   ]
  },
  {
   "cell_type": "markdown",
   "id": "structural-carter",
   "metadata": {},
   "source": [
    "## Autoencoder\n",
    "\n",
    "The two autoencoder architectures are adopted from the following.\n",
    "\n",
    "- [AE1](https://www.geeksforgeeks.org/implementing-an-autoencoder-in-pytorch/)\n",
    "- [AE2](https://github.com/Harry24k/MIDA-pytorch/blob/master/MIDA.ipynb)"
   ]
  },
  {
   "cell_type": "code",
   "execution_count": 10,
   "id": "promising-defensive",
   "metadata": {
    "execution": {
     "iopub.execute_input": "2022-01-02T15:12:26.431092Z",
     "iopub.status.busy": "2022-01-02T15:12:26.430979Z",
     "iopub.status.idle": "2022-01-02T15:12:26.439525Z",
     "shell.execute_reply": "2022-01-02T15:12:26.439058Z",
     "shell.execute_reply.started": "2022-01-02T15:12:26.431078Z"
    }
   },
   "outputs": [],
   "source": [
    "from torchvision import datasets\n",
    "from torchvision import transforms\n",
    "\n",
    "class AE1(torch.nn.Module):\n",
    "    def __init__(self, input_size):\n",
    "        super().__init__()\n",
    "        \n",
    "        self.input_size = input_size\n",
    "        self.drop_out = torch.nn.Dropout(p=0.5)\n",
    "        \n",
    "        self.encoder = torch.nn.Sequential(\n",
    "            torch.nn.Linear(input_size, 128),\n",
    "            torch.nn.ReLU(),\n",
    "            torch.nn.Linear(128, 64),\n",
    "            torch.nn.ReLU(),\n",
    "            torch.nn.Linear(64, 36),\n",
    "            torch.nn.ReLU(),\n",
    "            torch.nn.Linear(36, 18),\n",
    "            torch.nn.ReLU(),\n",
    "            torch.nn.Linear(18, 9)\n",
    "        )\n",
    "          \n",
    "        self.decoder = torch.nn.Sequential(\n",
    "            torch.nn.Linear(9, 18),\n",
    "            torch.nn.ReLU(),\n",
    "            torch.nn.Linear(18, 36),\n",
    "            torch.nn.ReLU(),\n",
    "            torch.nn.Linear(36, 64),\n",
    "            torch.nn.ReLU(),\n",
    "            torch.nn.Linear(64, 128),\n",
    "            torch.nn.ReLU(),\n",
    "            torch.nn.Linear(128, input_size)\n",
    "        )\n",
    "  \n",
    "    def forward(self, x):\n",
    "        drop_out = self.drop_out(x)\n",
    "        encoded = self.encoder(drop_out)\n",
    "        decoded = self.decoder(encoded)\n",
    "        return decoded\n",
    "\n",
    "class AE2(torch.nn.Module):\n",
    "    def __init__(self, dim, theta=7):\n",
    "        super().__init__()\n",
    "        self.dim = dim\n",
    "        self.theta = theta\n",
    "        \n",
    "        self.drop_out = torch.nn.Dropout(p=0.5)\n",
    "        \n",
    "        self.encoder = torch.nn.Sequential(\n",
    "            torch.nn.Linear(dim+theta*0, dim+theta*1),\n",
    "            torch.nn.Tanh(),\n",
    "            torch.nn.Linear(dim+theta*1, dim+theta*2),\n",
    "            torch.nn.Tanh(),\n",
    "            torch.nn.Linear(dim+theta*2, dim+theta*3)\n",
    "        )\n",
    "            \n",
    "        self.decoder = torch.nn.Sequential(\n",
    "            torch.nn.Linear(dim+theta*3, dim+theta*2),\n",
    "            torch.nn.Tanh(),\n",
    "            torch.nn.Linear(dim+theta*2, dim+theta*1),\n",
    "            torch.nn.Tanh(),\n",
    "            torch.nn.Linear(dim+theta*1, dim+theta*0)\n",
    "        )\n",
    "        \n",
    "    def forward(self, x):\n",
    "        x = x.view(-1, self.dim)\n",
    "        x_missed = self.drop_out(x)\n",
    "        \n",
    "        z = self.encoder(x_missed)\n",
    "        out = self.decoder(z)\n",
    "        \n",
    "        out = out.view(-1, self.dim)\n",
    "        \n",
    "        return out"
   ]
  },
  {
   "cell_type": "markdown",
   "id": "forty-utility",
   "metadata": {},
   "source": [
    "## Learning\n",
    "\n",
    "We will train two autoencoder models and compare how they perform with data imputation."
   ]
  },
  {
   "cell_type": "code",
   "execution_count": 11,
   "id": "golden-lucas",
   "metadata": {
    "execution": {
     "iopub.execute_input": "2022-01-02T15:12:26.440162Z",
     "iopub.status.busy": "2022-01-02T15:12:26.440054Z",
     "iopub.status.idle": "2022-01-02T15:12:26.453915Z",
     "shell.execute_reply": "2022-01-02T15:12:26.453325Z",
     "shell.execute_reply.started": "2022-01-02T15:12:26.440149Z"
    }
   },
   "outputs": [],
   "source": [
    "def train(model, optimizer):\n",
    "    loss_function = torch.nn.MSELoss()\n",
    "    \n",
    "    epochs = 20\n",
    "    loss_df = []\n",
    "\n",
    "    for epoch in range(epochs):\n",
    "        losses = []\n",
    "\n",
    "        for (items, _) in N_dl:  \n",
    "            items = items.to(device)\n",
    "            optimizer.zero_grad()\n",
    "\n",
    "            reconstructed = model(items)\n",
    "            loss = loss_function(reconstructed, items)\n",
    "\n",
    "            loss.backward()\n",
    "\n",
    "            optimizer.step()\n",
    "\n",
    "            losses.append(loss.detach().cpu().numpy().item())\n",
    "\n",
    "        losses = np.array(losses)\n",
    "\n",
    "        loss_df.append({\n",
    "            'epoch': epoch + 1,\n",
    "            'loss': losses.mean()\n",
    "        })\n",
    "\n",
    "    loss_df = pd.DataFrame(loss_df)\n",
    "    loss_df.index = loss_df['epoch']\n",
    "    loss_df = loss_df.drop(columns=['epoch'])\n",
    "    \n",
    "    return loss_df"
   ]
  },
  {
   "cell_type": "code",
   "execution_count": 12,
   "id": "normal-oregon",
   "metadata": {
    "execution": {
     "iopub.execute_input": "2022-01-02T15:12:26.454676Z",
     "iopub.status.busy": "2022-01-02T15:12:26.454518Z",
     "iopub.status.idle": "2022-01-02T15:12:31.467609Z",
     "shell.execute_reply": "2022-01-02T15:12:31.467121Z",
     "shell.execute_reply.started": "2022-01-02T15:12:26.454656Z"
    }
   },
   "outputs": [],
   "source": [
    "model_1 = AE1(input_size=N_df.shape[1]).double().to(device)\n",
    "opt_1 = torch.optim.Adam(model_1.parameters(), lr=1e-3, weight_decay=1e-8)\n",
    "loss_1 = train(model_1, opt_1)"
   ]
  },
  {
   "cell_type": "code",
   "execution_count": 13,
   "id": "acute-composer",
   "metadata": {
    "execution": {
     "iopub.execute_input": "2022-01-02T15:12:31.468357Z",
     "iopub.status.busy": "2022-01-02T15:12:31.468211Z",
     "iopub.status.idle": "2022-01-02T15:12:33.825645Z",
     "shell.execute_reply": "2022-01-02T15:12:33.825148Z",
     "shell.execute_reply.started": "2022-01-02T15:12:31.468336Z"
    }
   },
   "outputs": [],
   "source": [
    "model_2 = AE2(dim=N_df.shape[1]).double().to(device)\n",
    "opt_2 = torch.optim.SGD(model_2.parameters(), momentum=0.99, lr=0.01, nesterov=True)\n",
    "\n",
    "loss_2 = train(model_2, opt_2)"
   ]
  },
  {
   "cell_type": "code",
   "execution_count": 14,
   "id": "sufficient-announcement",
   "metadata": {
    "execution": {
     "iopub.execute_input": "2022-01-02T15:12:33.826349Z",
     "iopub.status.busy": "2022-01-02T15:12:33.826186Z",
     "iopub.status.idle": "2022-01-02T15:12:33.977686Z",
     "shell.execute_reply": "2022-01-02T15:12:33.977312Z",
     "shell.execute_reply.started": "2022-01-02T15:12:33.826334Z"
    }
   },
   "outputs": [
    {
     "data": {
      "image/png": "[encoded data removed]",
      "text/plain": [
       "<Figure size 1080x288 with 1 Axes>"
      ]
     },
     "metadata": {},
     "output_type": "display_data"
    }
   ],
   "source": [
    "import matplotlib.pyplot as plt\n",
    "\n",
    "plt.style.use('fivethirtyeight')\n",
    "\n",
    "ax = loss_1['loss'].plot(kind='line', figsize=(15, 4), title='MSE Loss', ylabel='MSE', label='AE1')\n",
    "_ = loss_2['loss'].plot(kind='line', figsize=(15, 4), title='MSE Loss', ylabel='MSE', ax=ax, label='AE2')\n",
    "_ = ax.set_xticks(list(range(1, 21, 1)))\n",
    "_ = ax.legend()"
   ]
  },
  {
   "cell_type": "markdown",
   "id": "liable-witness",
   "metadata": {},
   "source": [
    "## Imputation\n",
    "\n",
    "Now we will impute the data using the two autoencoders. The performance will be the average L2 distance between the imputed and true data."
   ]
  },
  {
   "cell_type": "code",
   "execution_count": 15,
   "id": "sixth-tokyo",
   "metadata": {
    "execution": {
     "iopub.execute_input": "2022-01-02T15:12:33.978211Z",
     "iopub.status.busy": "2022-01-02T15:12:33.978104Z",
     "iopub.status.idle": "2022-01-02T15:12:33.982729Z",
     "shell.execute_reply": "2022-01-02T15:12:33.982326Z",
     "shell.execute_reply.started": "2022-01-02T15:12:33.978197Z"
    }
   },
   "outputs": [],
   "source": [
    "def predict(m, items, device):\n",
    "    return m(items.to(device)).cpu().detach().numpy()\n",
    "\n",
    "def get_imputation(m_v, p_v, t_v):\n",
    "    def get_value(m, p, t):\n",
    "        return p if pd.isna(m) else t\n",
    "    \n",
    "    return np.array([get_value(m, p, t) for m, p, t in zip(m_v, p_v, t_v)])\n",
    "\n",
    "def get_performance(model):\n",
    "    N_pred = np.vstack([predict(model, items, device) for items, _ in N_dl])\n",
    "    M_pred = np.vstack([predict(model, items, device) for items, _ in M_dl])\n",
    "    I_pred = np.array([get_imputation(M_df.values[r,:], M_pred[r,:], T_df.values[r,:]) for r in range(M_df.shape[0])])\n",
    "\n",
    "    n_perf = np.array([np.linalg.norm(N_df.values[r,:] - N_pred[r,:], 2) for r in range(N_df.shape[0])]).mean()\n",
    "    m_perf = np.array([np.linalg.norm(T_df.values[r,:] - I_pred[r,:], 2) for r in range(T_df.shape[0])]).mean()\n",
    "    \n",
    "    return n_perf, m_perf"
   ]
  },
  {
   "cell_type": "markdown",
   "id": "underlying-russia",
   "metadata": {},
   "source": [
    "The first value is the training performance and the second value is the testing/validation performance. Lower is better. The results for the first autoencoder method is shown below."
   ]
  },
  {
   "cell_type": "code",
   "execution_count": 16,
   "id": "mental-battlefield",
   "metadata": {
    "execution": {
     "iopub.execute_input": "2022-01-02T15:12:33.983401Z",
     "iopub.status.busy": "2022-01-02T15:12:33.983289Z",
     "iopub.status.idle": "2022-01-02T15:12:34.207010Z",
     "shell.execute_reply": "2022-01-02T15:12:34.206565Z",
     "shell.execute_reply.started": "2022-01-02T15:12:33.983387Z"
    }
   },
   "outputs": [
    {
     "data": {
      "text/plain": [
       "(4.419058376740261, 2.0210263067003247)"
      ]
     },
     "execution_count": 16,
     "metadata": {},
     "output_type": "execute_result"
    }
   ],
   "source": [
    "get_performance(model_1)"
   ]
  },
  {
   "cell_type": "markdown",
   "id": "sharp-springfield",
   "metadata": {},
   "source": [
    "The results for the second autoencoder method is shown below."
   ]
  },
  {
   "cell_type": "code",
   "execution_count": 17,
   "id": "macro-speaking",
   "metadata": {
    "execution": {
     "iopub.execute_input": "2022-01-02T15:12:34.207697Z",
     "iopub.status.busy": "2022-01-02T15:12:34.207575Z",
     "iopub.status.idle": "2022-01-02T15:12:34.424105Z",
     "shell.execute_reply": "2022-01-02T15:12:34.423674Z",
     "shell.execute_reply.started": "2022-01-02T15:12:34.207682Z"
    }
   },
   "outputs": [
    {
     "data": {
      "text/plain": [
       "(4.414670724819407, 1.9455886899656865)"
      ]
     },
     "execution_count": 17,
     "metadata": {},
     "output_type": "execute_result"
    }
   ],
   "source": [
    "get_performance(model_2)"
   ]
  }
 ],
 "metadata": {
  "kernelspec": {
   "display_name": "Python 3",
   "language": "python",
   "name": "python3"
  },
  "language_info": {
   "codemirror_mode": {
    "name": "ipython",
    "version": 3
   },
   "file_extension": ".py",
   "mimetype": "text/x-python",
   "name": "python",
   "nbconvert_exporter": "python",
   "pygments_lexer": "ipython3",
   "version": "3.8.5"
  },
  "widgets": {
   "application/vnd.jupyter.widget-state+json": {
    "state": {},
    "version_major": 2,
    "version_minor": 0
   }
  }
 },
 "nbformat": 4,
 "nbformat_minor": 5
}
