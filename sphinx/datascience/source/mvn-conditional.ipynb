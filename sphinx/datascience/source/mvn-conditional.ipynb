{
 "cells": [
  {
   "cell_type": "markdown",
   "metadata": {},
   "source": [
    "# Conditional Multivariate Normal Distribution\n",
    "\n",
    "In this notebook we will learn about the [conditional multivariate normal (MVN) distribution](https://en.wikipedia.org/wiki/Multivariate_normal_distribution). In particular, we want to estimate the expected value (or the mean) of some subset of variables given that another subset has been conditioned on. Though the notation is quasi-dense, it is not terribly difficult to produce a conditional MVN from a marginal MVN distribution. \n",
    "\n",
    "## Case 1, pair\n",
    "\n",
    "* $X_0 \\rightarrow X_1$"
   ]
  },
  {
   "cell_type": "code",
   "execution_count": 1,
   "metadata": {},
   "outputs": [],
   "source": [
    "import numpy as np\n",
    "from numpy.random import normal"
   ]
  },
  {
   "cell_type": "code",
   "execution_count": 2,
   "metadata": {},
   "outputs": [
    {
     "name": "stdout",
     "output_type": "stream",
     "text": [
      "(10000, 2)\n",
      "(2,)\n",
      "(2, 2)\n",
      "mean [5.68155884e-04 1.01312455e+00]\n",
      "cov [[0.99668835 2.01313553]\n",
      " [2.01313553 5.05870431]]\n"
     ]
    }
   ],
   "source": [
    "N = 10000\n",
    "x0 = normal(0, 1, N)\n",
    "x1 = normal(1 + 2 * x0, 1, N)\n",
    "\n",
    "X = np.hstack([x0.reshape(-1, 1), x1.reshape(-1, 1)])\n",
    "M = np.mean(X, axis=0)\n",
    "S = np.cov(X.T)\n",
    "\n",
    "print(X.shape)\n",
    "print(M.shape)\n",
    "print(S.shape)\n",
    "print('mean', M)\n",
    "print('cov', S)"
   ]
  },
  {
   "cell_type": "code",
   "execution_count": 3,
   "metadata": {},
   "outputs": [
    {
     "data": {
      "text/plain": [
       "-0.2036322093171853"
      ]
     },
     "execution_count": 3,
     "metadata": {},
     "output_type": "execute_result"
    }
   ],
   "source": [
    "M[0] + S[0,1] / S[1,1] * (0.5 - M[1])"
   ]
  },
  {
   "cell_type": "code",
   "execution_count": 4,
   "metadata": {},
   "outputs": [
    {
     "data": {
      "text/plain": [
       "2.021889222105834"
      ]
     },
     "execution_count": 4,
     "metadata": {},
     "output_type": "execute_result"
    }
   ],
   "source": [
    "M[1] + S[1,0] / S[0,0] * (0.5 - M[0])"
   ]
  },
  {
   "cell_type": "code",
   "execution_count": 5,
   "metadata": {},
   "outputs": [
    {
     "data": {
      "text/plain": [
       "0.19555145212253944"
      ]
     },
     "execution_count": 5,
     "metadata": {},
     "output_type": "execute_result"
    }
   ],
   "source": [
    "S[0,0] - S[0,1] / S[1,1] * S[1,0]"
   ]
  },
  {
   "cell_type": "code",
   "execution_count": 6,
   "metadata": {},
   "outputs": [
    {
     "data": {
      "text/plain": [
       "0.9925238697013707"
      ]
     },
     "execution_count": 6,
     "metadata": {},
     "output_type": "execute_result"
    }
   ],
   "source": [
    "S[1,1] - S[1,0] / S[0,0] * S[1,0]"
   ]
  },
  {
   "cell_type": "markdown",
   "metadata": {},
   "source": [
    "## Case 2, serial\n",
    "\n",
    "* $X_0 \\rightarrow X_1 \\rightarrow X_2$"
   ]
  },
  {
   "cell_type": "code",
   "execution_count": 7,
   "metadata": {},
   "outputs": [],
   "source": [
    "from collections import namedtuple\n",
    "from numpy.linalg import inv\n",
    "import warnings\n",
    "\n",
    "warnings.filterwarnings('ignore')\n",
    "COV = namedtuple('COV', 'C11 C12 C21 C22 C22I')\n",
    "\n",
    "def to_row_indices(indices):\n",
    "    return [[i] for i in indices]\n",
    "\n",
    "def to_col_indices(indices):\n",
    "    return indices\n",
    "\n",
    "def get_covariances(i1, i2, S):\n",
    "    r = to_row_indices(i1)\n",
    "    c = to_col_indices(i1)\n",
    "    C11 = S[r,c]\n",
    "    \n",
    "    r = to_row_indices(i1)\n",
    "    c = to_col_indices(i2)\n",
    "    C12 = S[r,c]\n",
    "    \n",
    "    r = to_row_indices(i2)\n",
    "    c = to_col_indices(i1)\n",
    "    C21 = S[r,c]\n",
    "    \n",
    "    r = to_row_indices(i2)\n",
    "    c = to_col_indices(i2)\n",
    "    C22 = S[r,c]\n",
    "    \n",
    "    C22I = inv(C22)\n",
    "    \n",
    "    return COV(C11, C12, C21, C22, C22I)\n",
    "\n",
    "def compute_means(a, M, C, i1, i2):\n",
    "    a = np.array([2.0])\n",
    "    return M[i1] + C.C12.dot(C.C22I).dot(a - M[i2])\n",
    "\n",
    "def compute_covs(C):\n",
    "    return C.C11 - C.C12.dot(C.C22I).dot(C.C21)\n",
    "\n",
    "def update_mean(m, a, M, i1, i2):\n",
    "    v = np.copy(M)\n",
    "    for i, mu in zip(i1, m):\n",
    "        v[i] = mu\n",
    "    for i, mu in zip(i2, a):\n",
    "        v[i] = mu\n",
    "    return v\n",
    "\n",
    "def update_cov(c, S, i1, i2):\n",
    "    m = np.copy(S)\n",
    "    rows, cols = c.shape\n",
    "    for row in range(rows):\n",
    "        for col in range(cols):\n",
    "            m[i1[row],i1[col]] = c[row,col]\n",
    "    for i in i2:\n",
    "        m[i,i] = 0.01\n",
    "    return m\n",
    "\n",
    "def update_mean_cov(v, iv, M, S):\n",
    "    if v is None or iv is None or len(v) == 0 or len(iv) == 0:\n",
    "        return np.copy(M), np.copy(S)\n",
    "    i2 = iv.copy()\n",
    "    i1 = [i for i in range(S.shape[0]) if i not in i2]\n",
    "    \n",
    "    C = get_covariances(i1, i2, S)\n",
    "    m = compute_means(v, M, C, i1, i2)\n",
    "    c = compute_covs(C)\n",
    "    M_u = update_mean(m, v, M, i1, i2)\n",
    "    S_u = update_cov(c, S, i1, i2)\n",
    "    return M_u, S_u"
   ]
  },
  {
   "cell_type": "code",
   "execution_count": 8,
   "metadata": {},
   "outputs": [
    {
     "name": "stdout",
     "output_type": "stream",
     "text": [
      "mean [1.66213799e-03 9.98871604e-01 3.01395229e+00]\n",
      ">\n",
      "cov [[ 1.01282022  2.01247522  4.00904807]\n",
      " [ 2.01247522  4.98867722  9.94111759]\n",
      " [ 4.00904807  9.94111759 20.79087155]]\n",
      ">\n",
      "corr [[1.         0.89530633 0.87365252]\n",
      " [0.89530633 1.         0.97612663]\n",
      " [0.87365252 0.97612663 1.        ]]\n"
     ]
    }
   ],
   "source": [
    "N = 10000\n",
    "x0 = normal(0, 1, N)\n",
    "x1 = normal(1 + 2 * x0, 1, N)\n",
    "x2 = normal(1 + 2 * x1, 1, N)\n",
    "\n",
    "X = np.hstack([x0.reshape(-1, 1), x1.reshape(-1, 1), x2.reshape(-1, 1)])\n",
    "M = np.mean(X, axis=0)\n",
    "S = np.cov(X.T)\n",
    "\n",
    "print('mean', M)\n",
    "print('>')\n",
    "print('cov', S)\n",
    "print('>')\n",
    "print('corr', np.corrcoef(X.T))"
   ]
  },
  {
   "cell_type": "code",
   "execution_count": 9,
   "metadata": {},
   "outputs": [
    {
     "name": "stdout",
     "output_type": "stream",
     "text": [
      "mean [0.40552593 2.         5.00893706]\n",
      ">\n",
      "cov [[ 2.00970444e-01  2.01247522e+00 -1.28410016e-03]\n",
      " [ 2.01247522e+00  1.00000000e-02  9.94111759e+00]\n",
      " [-1.28410016e-03  9.94111759e+00  9.80846857e-01]]\n",
      ">\n",
      "corr [[ 1.         -0.01818347  0.78173084]\n",
      " [-0.01818347  1.          0.05034101]\n",
      " [ 0.78173084  0.05034101  1.        ]]\n"
     ]
    }
   ],
   "source": [
    "M_u, S_u = update_mean_cov(np.array([2.0]), [1], M, S)\n",
    "\n",
    "print('mean', M_u)\n",
    "print('>')\n",
    "print('cov', S_u)\n",
    "print('>')\n",
    "print('corr', np.corrcoef(np.random.multivariate_normal(M_u, S_u, N*10).T))"
   ]
  },
  {
   "cell_type": "markdown",
   "metadata": {},
   "source": [
    "## Case 3, diverging\n",
    "\n",
    "* $X_0 \\leftarrow X_1 \\rightarrow X_2$"
   ]
  },
  {
   "cell_type": "code",
   "execution_count": 10,
   "metadata": {},
   "outputs": [
    {
     "name": "stdout",
     "output_type": "stream",
     "text": [
      "mean [0.99893644 0.00140921 1.00078216]\n",
      ">\n",
      "cov [[17.04367065  4.01955884  8.13217597]\n",
      " [ 4.01955884  1.00495818  2.03724162]\n",
      " [ 8.13217597  2.03724162  5.12986471]]\n",
      ">\n",
      "corr [[1.         0.97123166 0.86970556]\n",
      " [0.97123166 1.         0.89725439]\n",
      " [0.86970556 0.89725439 1.        ]]\n"
     ]
    }
   ],
   "source": [
    "N = 10000\n",
    "\n",
    "x1 = normal(0, 1, N)\n",
    "x0 = normal(1 + 4.0 * x1, 1, N)\n",
    "x2 = normal(1 + 2.0 * x1, 1, N)\n",
    "\n",
    "X = np.hstack([x0.reshape(-1, 1), x1.reshape(-1, 1), x2.reshape(-1, 1)])\n",
    "M = np.mean(X, axis=0)\n",
    "S = np.cov(X.T)\n",
    "\n",
    "print('mean', M)\n",
    "print('>')\n",
    "print('cov', S)\n",
    "print('>')\n",
    "print('corr', np.corrcoef(X.T))"
   ]
  },
  {
   "cell_type": "code",
   "execution_count": 11,
   "metadata": {},
   "outputs": [
    {
     "name": "stdout",
     "output_type": "stream",
     "text": [
      "mean [8.99275494 2.         5.05230632]\n",
      ">\n",
      "cov [[ 0.9665307   4.01955884 -0.01623531]\n",
      " [ 4.01955884  0.01        2.03724162]\n",
      " [-0.01623531  2.03724162  0.99998796]]\n",
      ">\n",
      "corr [[1.         0.10108122 0.56025463]\n",
      " [0.10108122 1.         0.07837791]\n",
      " [0.56025463 0.07837791 1.        ]]\n"
     ]
    }
   ],
   "source": [
    "M_u, S_u = update_mean_cov(np.array([2.0]), [1], M, S)\n",
    "\n",
    "print('mean', M_u)\n",
    "print('>')\n",
    "print('cov', S_u)\n",
    "print('>')\n",
    "print('corr', np.corrcoef(np.random.multivariate_normal(M_u, S_u, N*10).T))"
   ]
  },
  {
   "cell_type": "markdown",
   "metadata": {},
   "source": [
    "## Case 4, converging\n",
    "\n",
    "* $X_0 \\rightarrow X_1 \\leftarrow X_2$"
   ]
  },
  {
   "cell_type": "code",
   "execution_count": 12,
   "metadata": {},
   "outputs": [
    {
     "name": "stdout",
     "output_type": "stream",
     "text": [
      "mean [-0.00160404  1.01593489 -0.00188201]\n",
      ">\n",
      "cov [[ 9.99862997e-01  1.98571152e+00 -2.46181590e-03]\n",
      " [ 1.98571152e+00  1.41042894e+01  3.03830414e+00]\n",
      " [-2.46181590e-03  3.03830414e+00  1.01292067e+00]]\n",
      ">\n",
      "corr [[ 1.          0.52877426 -0.00244623]\n",
      " [ 0.52877426  1.          0.80383687]\n",
      " [-0.00244623  0.80383687  1.        ]]\n"
     ]
    }
   ],
   "source": [
    "N = 10000\n",
    "\n",
    "x0 = normal(0, 1, N)\n",
    "x2 = normal(0, 1, N)\n",
    "x1 = normal(1 + 2 * x0 + 3 * x2, 1, N)\n",
    "\n",
    "X = np.hstack([x0.reshape(-1, 1), x1.reshape(-1, 1), x2.reshape(-1, 1)])\n",
    "M = np.mean(X, axis=0)\n",
    "S = np.cov(X.T)\n",
    "\n",
    "print('mean', M)\n",
    "print('>')\n",
    "print('cov', S)\n",
    "print('>')\n",
    "print('corr', np.corrcoef(X.T))"
   ]
  },
  {
   "cell_type": "code",
   "execution_count": 13,
   "metadata": {},
   "outputs": [
    {
     "name": "stdout",
     "output_type": "stream",
     "text": [
      "mean [0.1369403  2.         0.21010237]\n",
      ">\n",
      "cov [[ 0.72029909  1.98571152 -0.4302179 ]\n",
      " [ 1.98571152  0.01        3.03830414]\n",
      " [-0.4302179   3.03830414  0.35841821]]\n",
      ">\n",
      "corr [[1.         0.01033491 0.53523265]\n",
      " [0.01033491 1.         0.01582778]\n",
      " [0.53523265 0.01582778 1.        ]]\n"
     ]
    }
   ],
   "source": [
    "M_u, S_u = update_mean_cov(np.array([2.0]), [1], M, S)\n",
    "\n",
    "print('mean', M_u)\n",
    "print('>')\n",
    "print('cov', S_u)\n",
    "print('>')\n",
    "print('corr', np.corrcoef(np.random.multivariate_normal(M_u, S_u, N*10).T))"
   ]
  }
 ],
 "metadata": {
  "kernelspec": {
   "display_name": "Python 3",
   "language": "python",
   "name": "python3"
  },
  "language_info": {
   "codemirror_mode": {
    "name": "ipython",
    "version": 3
   },
   "file_extension": ".py",
   "mimetype": "text/x-python",
   "name": "python",
   "nbconvert_exporter": "python",
   "pygments_lexer": "ipython3",
   "version": "3.7.3"
  }
 },
 "nbformat": 4,
 "nbformat_minor": 4
}
