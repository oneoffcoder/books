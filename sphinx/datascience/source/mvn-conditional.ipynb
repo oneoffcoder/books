{
 "cells": [
  {
   "cell_type": "markdown",
   "metadata": {},
   "source": [
    "# Conditional Multivariate Normal Distribution\n",
    "\n",
    "In this notebook we will learn about the [conditional multivariate normal (MVN) distribution](https://en.wikipedia.org/wiki/Multivariate_normal_distribution). In particular, we want to estimate the expected value (or the mean) of some subset of variables given that another subset has been conditioned on. Though the notation is quasi-dense, it is not terribly difficult to produce a conditional MVN from a marginal MVN distribution. "
   ]
  },
  {
   "cell_type": "markdown",
   "metadata": {},
   "source": [
    "## Case 1, pair\n",
    "\n",
    "* $X_0 \\rightarrow X_1$"
   ]
  },
  {
   "cell_type": "code",
   "execution_count": 1,
   "metadata": {},
   "outputs": [
    {
     "name": "stdout",
     "output_type": "stream",
     "text": [
      "mean\n",
      "[0.00172, 0.99428]\n",
      "cov\n",
      "[0.99070, 1.98924]\n",
      "[1.98924, 5.00419]\n"
     ]
    }
   ],
   "source": [
    "import numpy as np\n",
    "from numpy.random import normal\n",
    "\n",
    "np.random.seed(37)\n",
    "\n",
    "def print_vector(title, v):\n",
    "    print(title)\n",
    "    s = ', '.join([f'{i:.5f}' for i in v])\n",
    "    print(f'[{s}]')\n",
    "    \n",
    "def print_matrix(title, m):\n",
    "    print(title)\n",
    "    s = [[f'{i:.5f}' for i in v] for v in m]\n",
    "    s = '\\n'.join([f'[{\", \".join(i)}]' for i in s])\n",
    "    print(s)\n",
    "    \n",
    "N = 10000\n",
    "x0 = normal(0, 1, N)\n",
    "x1 = normal(1 + 2 * x0, 1, N)\n",
    "\n",
    "X = np.hstack([x0.reshape(-1, 1), x1.reshape(-1, 1)])\n",
    "M = np.mean(X, axis=0)\n",
    "S = np.cov(X.T)\n",
    "\n",
    "print_vector('mean', M)\n",
    "print_matrix('cov', S)"
   ]
  },
  {
   "cell_type": "code",
   "execution_count": 2,
   "metadata": {},
   "outputs": [
    {
     "data": {
      "text/plain": [
       "-0.194758846999118"
      ]
     },
     "execution_count": 2,
     "metadata": {},
     "output_type": "execute_result"
    }
   ],
   "source": [
    "M[0] + S[0,1] / S[1,1] * (0.5 - M[1])"
   ]
  },
  {
   "cell_type": "code",
   "execution_count": 3,
   "metadata": {},
   "outputs": [
    {
     "data": {
      "text/plain": [
       "1.9947740092524469"
      ]
     },
     "execution_count": 3,
     "metadata": {},
     "output_type": "execute_result"
    }
   ],
   "source": [
    "M[1] + S[1,0] / S[0,0] * (0.5 - M[0])"
   ]
  },
  {
   "cell_type": "code",
   "execution_count": 4,
   "metadata": {},
   "outputs": [
    {
     "data": {
      "text/plain": [
       "0.1999450140696054"
      ]
     },
     "execution_count": 4,
     "metadata": {},
     "output_type": "execute_result"
    }
   ],
   "source": [
    "S[0,0] - S[0,1] / S[1,1] * S[1,0]"
   ]
  },
  {
   "cell_type": "code",
   "execution_count": 5,
   "metadata": {},
   "outputs": [
    {
     "data": {
      "text/plain": [
       "1.0099559400241556"
      ]
     },
     "execution_count": 5,
     "metadata": {},
     "output_type": "execute_result"
    }
   ],
   "source": [
    "S[1,1] - S[1,0] / S[0,0] * S[1,0]"
   ]
  },
  {
   "cell_type": "markdown",
   "metadata": {},
   "source": [
    "## Case 2, serial\n",
    "\n",
    "* $X_0 \\rightarrow X_1 \\rightarrow X_2$"
   ]
  },
  {
   "cell_type": "code",
   "execution_count": 6,
   "metadata": {},
   "outputs": [],
   "source": [
    "from collections import namedtuple\n",
    "from numpy.linalg import inv\n",
    "import warnings\n",
    "\n",
    "warnings.filterwarnings('ignore')\n",
    "COV = namedtuple('COV', 'C11 C12 C21 C22 C22I')\n",
    "\n",
    "def to_row_indices(indices):\n",
    "    return [[i] for i in indices]\n",
    "\n",
    "def to_col_indices(indices):\n",
    "    return indices\n",
    "\n",
    "def get_covariances(i1, i2, S):\n",
    "    r = to_row_indices(i1)\n",
    "    c = to_col_indices(i1)\n",
    "    C11 = S[r,c]\n",
    "    \n",
    "    r = to_row_indices(i1)\n",
    "    c = to_col_indices(i2)\n",
    "    C12 = S[r,c]\n",
    "    \n",
    "    r = to_row_indices(i2)\n",
    "    c = to_col_indices(i1)\n",
    "    C21 = S[r,c]\n",
    "    \n",
    "    r = to_row_indices(i2)\n",
    "    c = to_col_indices(i2)\n",
    "    C22 = S[r,c]\n",
    "    \n",
    "    C22I = inv(C22)\n",
    "    \n",
    "    return COV(C11, C12, C21, C22, C22I)\n",
    "\n",
    "def compute_means(a, M, C, i1, i2):\n",
    "    a = np.array([2.0])\n",
    "    return M[i1] + C.C12.dot(C.C22I).dot(a - M[i2])\n",
    "\n",
    "def compute_covs(C):\n",
    "    return C.C11 - C.C12.dot(C.C22I).dot(C.C21)\n",
    "\n",
    "def update_mean(m, a, M, i1, i2):\n",
    "    v = np.copy(M)\n",
    "    for i, mu in zip(i1, m):\n",
    "        v[i] = mu\n",
    "    for i, mu in zip(i2, a):\n",
    "        v[i] = mu\n",
    "    return v\n",
    "\n",
    "def update_cov(c, S, i1, i2):\n",
    "    m = np.copy(S)\n",
    "    rows, cols = c.shape\n",
    "    for row in range(rows):\n",
    "        for col in range(cols):\n",
    "            m[i1[row],i1[col]] = c[row,col]\n",
    "    for i in i2:\n",
    "        m[i,i] = 0.01\n",
    "    return m\n",
    "\n",
    "def update_mean_cov(v, iv, M, S):\n",
    "    if v is None or iv is None or len(v) == 0 or len(iv) == 0:\n",
    "        return np.copy(M), np.copy(S)\n",
    "    i2 = iv.copy()\n",
    "    i1 = [i for i in range(S.shape[0]) if i not in i2]\n",
    "    \n",
    "    C = get_covariances(i1, i2, S)\n",
    "    m = compute_means(v, M, C, i1, i2)\n",
    "    c = compute_covs(C)\n",
    "    M_u = update_mean(m, v, M, i1, i2)\n",
    "    S_u = update_cov(c, S, i1, i2)\n",
    "    return M_u, S_u"
   ]
  },
  {
   "cell_type": "code",
   "execution_count": 7,
   "metadata": {},
   "outputs": [
    {
     "name": "stdout",
     "output_type": "stream",
     "text": [
      "mean\n",
      "[0.00499, 0.99888, 3.01284]\n",
      ">\n",
      "cov\n",
      "[0.98453, 1.98373, 3.95254]\n",
      "[1.98373, 5.01127, 9.99960]\n",
      "[3.95254, 9.99960, 20.97023]\n",
      ">\n",
      "corr\n",
      "[1.00000, 0.89309, 0.86988]\n",
      "[0.89309, 1.00000, 0.97545]\n",
      "[0.86988, 0.97545, 1.00000]\n"
     ]
    }
   ],
   "source": [
    "N = 10000\n",
    "x0 = normal(0, 1, N)\n",
    "x1 = normal(1 + 2 * x0, 1, N)\n",
    "x2 = normal(1 + 2 * x1, 1, N)\n",
    "\n",
    "X = np.hstack([x0.reshape(-1, 1), x1.reshape(-1, 1), x2.reshape(-1, 1)])\n",
    "M = np.mean(X, axis=0)\n",
    "S = np.cov(X.T)\n",
    "\n",
    "print_vector('mean', M)\n",
    "print('>')\n",
    "print_matrix('cov', S)\n",
    "print('>')\n",
    "print_matrix('corr', np.corrcoef(X.T))"
   ]
  },
  {
   "cell_type": "code",
   "execution_count": 8,
   "metadata": {},
   "outputs": [
    {
     "name": "stdout",
     "output_type": "stream",
     "text": [
      "mean\n",
      "[0.40128, 2.00000, 5.01049]\n",
      ">\n",
      "cov\n",
      "[0.19927, 1.98373, -0.00584]\n",
      "[1.98373, 0.01000, 9.99960]\n",
      "[-0.00584, 9.99960, 1.01681]\n",
      ">\n",
      "corr\n",
      "[1.00000, -0.02114, 0.77507]\n",
      "[-0.02114, 1.00000, 0.04972]\n",
      "[0.77507, 0.04972, 1.00000]\n"
     ]
    }
   ],
   "source": [
    "M_u, S_u = update_mean_cov(np.array([2.0]), [1], M, S)\n",
    "\n",
    "print_vector('mean', M_u)\n",
    "print('>')\n",
    "print_matrix('cov', S_u)\n",
    "print('>')\n",
    "print_matrix('corr', np.corrcoef(np.random.multivariate_normal(M_u, S_u, N*10).T))"
   ]
  },
  {
   "cell_type": "markdown",
   "metadata": {},
   "source": [
    "## Case 3, diverging\n",
    "\n",
    "* $X_0 \\leftarrow X_1 \\rightarrow X_2$"
   ]
  },
  {
   "cell_type": "code",
   "execution_count": 9,
   "metadata": {},
   "outputs": [
    {
     "name": "stdout",
     "output_type": "stream",
     "text": [
      "mean\n",
      "[0.98517, -0.00131, 1.00396]\n",
      ">\n",
      "cov\n",
      "[16.98775, 3.99342, 7.96496]\n",
      "[3.99342, 0.99839, 1.98856]\n",
      "[7.96496, 1.98856, 4.93653]\n",
      ">\n",
      "corr\n",
      "[1.00000, 0.96968, 0.86977]\n",
      "[0.96968, 1.00000, 0.89573]\n",
      "[0.86977, 0.89573, 1.00000]\n"
     ]
    }
   ],
   "source": [
    "N = 10000\n",
    "\n",
    "x1 = normal(0, 1, N)\n",
    "x0 = normal(1 + 4.0 * x1, 1, N)\n",
    "x2 = normal(1 + 2.0 * x1, 1, N)\n",
    "\n",
    "X = np.hstack([x0.reshape(-1, 1), x1.reshape(-1, 1), x2.reshape(-1, 1)])\n",
    "M = np.mean(X, axis=0)\n",
    "S = np.cov(X.T)\n",
    "\n",
    "print_vector('mean', M)\n",
    "print('>')\n",
    "print_matrix('cov', S)\n",
    "print('>')\n",
    "print_matrix('corr', np.corrcoef(X.T))"
   ]
  },
  {
   "cell_type": "code",
   "execution_count": 10,
   "metadata": {},
   "outputs": [
    {
     "name": "stdout",
     "output_type": "stream",
     "text": [
      "mean\n",
      "[8.99009, 2.00000, 4.99009]\n",
      ">\n",
      "cov\n",
      "[1.01467, 3.99342, 0.01100]\n",
      "[3.99342, 0.01000, 1.98856]\n",
      "[0.01100, 1.98856, 0.97577]\n",
      ">\n",
      "corr\n",
      "[1.00000, 0.11161, 0.56147]\n",
      "[0.11161, 1.00000, 0.08156]\n",
      "[0.56147, 0.08156, 1.00000]\n"
     ]
    }
   ],
   "source": [
    "M_u, S_u = update_mean_cov(np.array([2.0]), [1], M, S)\n",
    "\n",
    "print_vector('mean', M_u)\n",
    "print('>')\n",
    "print_matrix('cov', S_u)\n",
    "print('>')\n",
    "print_matrix('corr', np.corrcoef(np.random.multivariate_normal(M_u, S_u, N*10).T))"
   ]
  },
  {
   "cell_type": "markdown",
   "metadata": {},
   "source": [
    "## Case 4, converging\n",
    "\n",
    "* $X_0 \\rightarrow X_1 \\leftarrow X_2$"
   ]
  },
  {
   "cell_type": "code",
   "execution_count": 11,
   "metadata": {},
   "outputs": [
    {
     "name": "stdout",
     "output_type": "stream",
     "text": [
      "mean\n",
      "[-0.00565, 0.97046, -0.01113]\n",
      ">\n",
      "cov\n",
      "[0.97729, 1.99763, 0.01513]\n",
      "[1.99763, 14.06103, 3.01565]\n",
      "[0.01513, 3.01565, 0.99463]\n",
      ">\n",
      "corr\n",
      "[1.00000, 0.53888, 0.01535]\n",
      "[0.53888, 1.00000, 0.80638]\n",
      "[0.01535, 0.80638, 1.00000]\n"
     ]
    }
   ],
   "source": [
    "N = 10000\n",
    "\n",
    "x0 = normal(0, 1, N)\n",
    "x2 = normal(0, 1, N)\n",
    "x1 = normal(1 + 2 * x0 + 3 * x2, 1, N)\n",
    "\n",
    "X = np.hstack([x0.reshape(-1, 1), x1.reshape(-1, 1), x2.reshape(-1, 1)])\n",
    "M = np.mean(X, axis=0)\n",
    "S = np.cov(X.T)\n",
    "\n",
    "print_vector('mean', M)\n",
    "print('>')\n",
    "print_matrix('cov', S)\n",
    "print('>')\n",
    "print_matrix('corr', np.corrcoef(X.T))"
   ]
  },
  {
   "cell_type": "code",
   "execution_count": 12,
   "metadata": {},
   "outputs": [
    {
     "name": "stdout",
     "output_type": "stream",
     "text": [
      "mean\n",
      "[0.14062, 2.00000, 0.20968]\n",
      ">\n",
      "cov\n",
      "[0.69349, 1.99763, -0.41330]\n",
      "[1.99763, 0.01000, 3.01565]\n",
      "[-0.41330, 3.01565, 0.34787]\n",
      ">\n",
      "corr\n",
      "[1.00000, 0.00407, 0.55062]\n",
      "[0.00407, 1.00000, 0.00786]\n",
      "[0.55062, 0.00786, 1.00000]\n"
     ]
    }
   ],
   "source": [
    "M_u, S_u = update_mean_cov(np.array([2.0]), [1], M, S)\n",
    "\n",
    "print_vector('mean', M_u)\n",
    "print('>')\n",
    "print_matrix('cov', S_u)\n",
    "print('>')\n",
    "print_matrix('corr', np.corrcoef(np.random.multivariate_normal(M_u, S_u, N*10).T))"
   ]
  }
 ],
 "metadata": {
  "kernelspec": {
   "display_name": "Python 3",
   "language": "python",
   "name": "python3"
  },
  "language_info": {
   "codemirror_mode": {
    "name": "ipython",
    "version": 3
   },
   "file_extension": ".py",
   "mimetype": "text/x-python",
   "name": "python",
   "nbconvert_exporter": "python",
   "pygments_lexer": "ipython3",
   "version": "3.7.4"
  }
 },
 "nbformat": 4,
 "nbformat_minor": 4
}
