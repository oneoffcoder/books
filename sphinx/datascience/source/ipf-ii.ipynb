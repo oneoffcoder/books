{
 "cells": [
  {
   "cell_type": "markdown",
   "id": "personal-foster",
   "metadata": {},
   "source": [
    "# Iterative Proportional Fitting, Higher Dimensions\n",
    "\n",
    "Previously, we showed how to use Iterative Proportional Fitting `IPF` to sample a two-dimensional data set such that the resulting proportions will match a defined target. In this notebook, we will show how to do so with 3 or more dimensions. First, let's talk about the US national percentages of race, age and gender.\n",
    "\n",
    "- race\n",
    "  - white: 58%\n",
    "  - other: 42%\n",
    "- age\n",
    "  - minor: 28%\n",
    "  - adult: 72%\n",
    "- gender\n",
    "  - male: 49%\n",
    "  - female: 51%\n",
    "\n",
    "Second, we will sample data whose distributions do not match the national ones. And lastly, we will provide code on how to apply IPF to this 3-dimensional data. However, the code is general enough to be applied for 2, 3 or more dimensions."
   ]
  },
  {
   "cell_type": "markdown",
   "id": "clinical-dream",
   "metadata": {},
   "source": [
    "## Synthetic data\n",
    "\n",
    "We will generate synthetic data based on race, age and gender as follows.\n",
    "\n",
    "- white, minor, male $\\sim \\mathcal{N}(5.5, 1.0)$\n",
    "- white, minor, female $\\sim \\mathcal{N}(5.3, 1.0)$\n",
    "- white, adult, male $\\sim \\mathcal{N}(5.9, 1.0)$\n",
    "- white, adult, female $\\sim \\mathcal{N}(5.7, 1.0)$\n",
    "- other, minor, male $\\sim \\mathcal{N}(5.3, 1.0)$\n",
    "- other, minor, female $\\sim \\mathcal{N}(5.2, 1.0)$\n",
    "- other, adult, male $\\sim \\mathcal{N}(5.8, 1.0)$\n",
    "- other, adult, female $\\sim \\mathcal{N}(5.5, 1.0)$"
   ]
  },
  {
   "cell_type": "code",
   "execution_count": 1,
   "id": "severe-question",
   "metadata": {
    "execution": {
     "iopub.execute_input": "2022-01-08T03:34:36.580555Z",
     "iopub.status.busy": "2022-01-08T03:34:36.580365Z",
     "iopub.status.idle": "2022-01-08T03:34:36.751023Z",
     "shell.execute_reply": "2022-01-08T03:34:36.750689Z",
     "shell.execute_reply.started": "2022-01-08T03:34:36.580506Z"
    },
    "tags": []
   },
   "outputs": [
    {
     "data": {
      "text/html": [
       "<div>\n",
       "<style scoped>\n",
       "    .dataframe tbody tr th:only-of-type {\n",
       "        vertical-align: middle;\n",
       "    }\n",
       "\n",
       "    .dataframe tbody tr th {\n",
       "        vertical-align: top;\n",
       "    }\n",
       "\n",
       "    .dataframe thead th {\n",
       "        text-align: right;\n",
       "    }\n",
       "</style>\n",
       "<table border=\"1\" class=\"dataframe\">\n",
       "  <thead>\n",
       "    <tr style=\"text-align: right;\">\n",
       "      <th></th>\n",
       "      <th>race</th>\n",
       "      <th>age</th>\n",
       "      <th>gender</th>\n",
       "      <th>height</th>\n",
       "    </tr>\n",
       "  </thead>\n",
       "  <tbody>\n",
       "    <tr>\n",
       "      <th>0</th>\n",
       "      <td>white</td>\n",
       "      <td>minor</td>\n",
       "      <td>male</td>\n",
       "      <td>5.445536</td>\n",
       "    </tr>\n",
       "    <tr>\n",
       "      <th>1</th>\n",
       "      <td>white</td>\n",
       "      <td>minor</td>\n",
       "      <td>male</td>\n",
       "      <td>6.174308</td>\n",
       "    </tr>\n",
       "    <tr>\n",
       "      <th>2</th>\n",
       "      <td>white</td>\n",
       "      <td>minor</td>\n",
       "      <td>male</td>\n",
       "      <td>5.846647</td>\n",
       "    </tr>\n",
       "    <tr>\n",
       "      <th>3</th>\n",
       "      <td>white</td>\n",
       "      <td>minor</td>\n",
       "      <td>male</td>\n",
       "      <td>4.199654</td>\n",
       "    </tr>\n",
       "    <tr>\n",
       "      <th>4</th>\n",
       "      <td>white</td>\n",
       "      <td>minor</td>\n",
       "      <td>male</td>\n",
       "      <td>7.018512</td>\n",
       "    </tr>\n",
       "  </tbody>\n",
       "</table>\n",
       "</div>"
      ],
      "text/plain": [
       "    race    age gender    height\n",
       "0  white  minor   male  5.445536\n",
       "1  white  minor   male  6.174308\n",
       "2  white  minor   male  5.846647\n",
       "3  white  minor   male  4.199654\n",
       "4  white  minor   male  7.018512"
      ]
     },
     "execution_count": 1,
     "metadata": {},
     "output_type": "execute_result"
    }
   ],
   "source": [
    "import pandas as pd\n",
    "import numpy as np\n",
    "import random\n",
    "import itertools\n",
    "\n",
    "np.random.seed(37)\n",
    "random.seed(37)\n",
    "\n",
    "height = [\n",
    "    np.random.normal(5.5, 1.0, 100),\n",
    "    np.random.normal(5.3, 1.0, 200),\n",
    "    np.random.normal(5.9, 1.0, 300),\n",
    "    np.random.normal(5.7, 1.0, 200),\n",
    "    np.random.normal(5.3, 1.0, 400),\n",
    "    np.random.normal(5.2, 1.0, 500),\n",
    "    np.random.normal(5.8, 1.0, 300),\n",
    "    np.random.normal(5.5, 1.0, 200)\n",
    "]\n",
    "\n",
    "demographic = [\n",
    "    ['white', 'minor', 'male'],\n",
    "    ['white', 'minor', 'female'],\n",
    "    ['white', 'adult', 'male'],\n",
    "    ['white', 'adult', 'female'],\n",
    "    ['other', 'minor', 'male'],\n",
    "    ['other', 'minor', 'female'],\n",
    "    ['other', 'adult', 'male'],\n",
    "    ['other', 'adult', 'female']\n",
    "]\n",
    "\n",
    "data = [[{'race': d[0], 'age': d[1], 'gender': d[2], 'height': h} for h in s] for d, s in zip(demographic, height)]\n",
    "data = list(itertools.chain(*data))\n",
    "\n",
    "df = pd.DataFrame(data)\n",
    "df.head()"
   ]
  },
  {
   "cell_type": "markdown",
   "id": "simplified-insulation",
   "metadata": {},
   "source": [
    "The percentages of each demographic dimension is as follows."
   ]
  },
  {
   "cell_type": "code",
   "execution_count": 2,
   "id": "tutorial-multiple",
   "metadata": {
    "execution": {
     "iopub.execute_input": "2022-01-08T03:34:36.751751Z",
     "iopub.status.busy": "2022-01-08T03:34:36.751636Z",
     "iopub.status.idle": "2022-01-08T03:34:36.759791Z",
     "shell.execute_reply": "2022-01-08T03:34:36.759459Z",
     "shell.execute_reply.started": "2022-01-08T03:34:36.751737Z"
    }
   },
   "outputs": [
    {
     "data": {
      "text/plain": [
       "other    0.636364\n",
       "white    0.363636\n",
       "Name: race, dtype: float64"
      ]
     },
     "execution_count": 2,
     "metadata": {},
     "output_type": "execute_result"
    }
   ],
   "source": [
    "df.race.value_counts().sort_index() / df.shape[0]"
   ]
  },
  {
   "cell_type": "code",
   "execution_count": 3,
   "id": "deluxe-sherman",
   "metadata": {
    "execution": {
     "iopub.execute_input": "2022-01-08T03:34:36.760653Z",
     "iopub.status.busy": "2022-01-08T03:34:36.760529Z",
     "iopub.status.idle": "2022-01-08T03:34:36.765477Z",
     "shell.execute_reply": "2022-01-08T03:34:36.764962Z",
     "shell.execute_reply.started": "2022-01-08T03:34:36.760632Z"
    }
   },
   "outputs": [
    {
     "data": {
      "text/plain": [
       "adult    0.454545\n",
       "minor    0.545455\n",
       "Name: age, dtype: float64"
      ]
     },
     "execution_count": 3,
     "metadata": {},
     "output_type": "execute_result"
    }
   ],
   "source": [
    "df.age.value_counts().sort_index() / df.shape[0]"
   ]
  },
  {
   "cell_type": "code",
   "execution_count": 4,
   "id": "artificial-collector",
   "metadata": {
    "execution": {
     "iopub.execute_input": "2022-01-08T03:34:36.766611Z",
     "iopub.status.busy": "2022-01-08T03:34:36.766437Z",
     "iopub.status.idle": "2022-01-08T03:34:36.771810Z",
     "shell.execute_reply": "2022-01-08T03:34:36.771145Z",
     "shell.execute_reply.started": "2022-01-08T03:34:36.766588Z"
    }
   },
   "outputs": [
    {
     "data": {
      "text/plain": [
       "female    0.5\n",
       "male      0.5\n",
       "Name: gender, dtype: float64"
      ]
     },
     "execution_count": 4,
     "metadata": {},
     "output_type": "execute_result"
    }
   ],
   "source": [
    "df.gender.value_counts().sort_index() / df.shape[0]"
   ]
  },
  {
   "cell_type": "markdown",
   "id": "insured-croatia",
   "metadata": {},
   "source": [
    "## Contigency table\n",
    "\n",
    "Now we will create the contigency table $X$ from the synthetic data.\n",
    "\n",
    "- $X$ is the contigency table, which is a 3-dimensional matrix\n",
    "- $u$ is the target marginals which directly reflects the target percentages\n",
    "- $f$ is just a helper vector to keep track of how the dimensions of the matrix maps back to the demographics variable"
   ]
  },
  {
   "cell_type": "code",
   "execution_count": 5,
   "id": "sexual-petersburg",
   "metadata": {
    "execution": {
     "iopub.execute_input": "2022-01-08T03:34:36.772588Z",
     "iopub.status.busy": "2022-01-08T03:34:36.772470Z",
     "iopub.status.idle": "2022-01-08T03:34:36.786122Z",
     "shell.execute_reply": "2022-01-08T03:34:36.785762Z",
     "shell.execute_reply.started": "2022-01-08T03:34:36.772573Z"
    },
    "tags": []
   },
   "outputs": [],
   "source": [
    "def get_target_marginals(d):\n",
    "    factors = list(d.keys())\n",
    "    targets = [sorted([(k2, v2) for k2, v2 in v.items()]) for k, v in d.items()]\n",
    "    targets = np.array([[v for _, v in item] for item in targets])\n",
    "    return factors, targets\n",
    "\n",
    "def get_table(df, targets):\n",
    "    factors, target_marginals = get_target_marginals(targets)\n",
    "    \n",
    "    cross_tab = pd.crosstab(df[factors[0]], [df[c] for c in factors[1:]])\n",
    "    shape = tuple([df[c].unique().shape[0] for c in factors])\n",
    "    table = cross_tab.values.reshape(shape)\n",
    "    \n",
    "    return factors, target_marginals, table\n",
    "\n",
    "f, u, X = get_table(df, {\n",
    "    'race': {'white': 5800, 'other': 4200},\n",
    "    'age': {'minor': 2800, 'adult': 7200},\n",
    "    'gender': {'male': 4900, 'female': 5100}\n",
    "})"
   ]
  },
  {
   "cell_type": "markdown",
   "id": "incorporated-amino",
   "metadata": {},
   "source": [
    "## IPF algorithm\n",
    "\n",
    "Using the IPF algorithm, we will learn the weights."
   ]
  },
  {
   "cell_type": "code",
   "execution_count": 6,
   "id": "special-exhibit",
   "metadata": {
    "execution": {
     "iopub.execute_input": "2022-01-08T03:34:36.786811Z",
     "iopub.status.busy": "2022-01-08T03:34:36.786695Z",
     "iopub.status.idle": "2022-01-08T03:34:36.794920Z",
     "shell.execute_reply": "2022-01-08T03:34:36.794469Z",
     "shell.execute_reply.started": "2022-01-08T03:34:36.786796Z"
    },
    "tags": []
   },
   "outputs": [],
   "source": [
    "def get_coordinates(M):\n",
    "    return list(itertools.product(*[list(range(n)) for n in M.shape]))\n",
    "\n",
    "def get_marginals(M, i):\n",
    "    coordinates = get_coordinates(M)\n",
    "    \n",
    "    key = lambda tup: tup[0]\n",
    "    counts = [(c[i], M[c]) for c in coordinates]\n",
    "    counts = sorted(counts, key=key)\n",
    "    counts = itertools.groupby(counts, key=key)\n",
    "    counts = {k: sum([v[1] for v in g]) for k, g in counts}\n",
    "    \n",
    "    return counts\n",
    "\n",
    "def get_all_marginals(M):\n",
    "    return np.array([[v for _, v in get_marginals(M, i).items()] \n",
    "                     for i in range(len(M.shape))])\n",
    "\n",
    "def get_counts(M, i):\n",
    "    coordinates = get_coordinates(M)\n",
    "    \n",
    "    key = lambda tup: tup[0]\n",
    "    counts = [(c[i], M[c], c) for c in coordinates]\n",
    "    counts = sorted(counts, key=key)\n",
    "    counts = itertools.groupby(counts, key=key)\n",
    "    counts = {k: [(tup[1], tup[2]) for tup in g] for k, g in counts}\n",
    "    \n",
    "    return counts\n",
    "\n",
    "def update_values(M, i, u):\n",
    "    marg = get_marginals(M, i)\n",
    "    vals = get_counts(M, i)\n",
    "    \n",
    "    d = [[(c, n * u[k] / marg[k]) for n, c in v] for k, v in vals.items()]\n",
    "    d = itertools.chain(*d)\n",
    "    d = list(d)\n",
    "    \n",
    "    return d\n",
    "\n",
    "def ipf_update(M, u):\n",
    "    for i in range(len(M.shape)):\n",
    "        values = update_values(M, i, u[i])\n",
    "        for idx, v in values:\n",
    "            M[idx] = v\n",
    "    \n",
    "    o = get_all_marginals(M)\n",
    "    d = get_deltas(o, u)\n",
    "    \n",
    "    return M, d\n",
    "\n",
    "def get_deltas(o, t):\n",
    "    return np.array([np.linalg.norm(o[r] - t[r], 2) for r in range(o.shape[0])])\n",
    "\n",
    "def get_weights(X, max_iters=50, zero_threshold=0.0001, convergence_threshold=3, debug=True):\n",
    "    M = X.copy()\n",
    "    \n",
    "    d_prev = np.zeros(len(M.shape))\n",
    "    count_zero = 0\n",
    "\n",
    "    for _ in range(max_iters):\n",
    "        M, d_next = ipf_update(M, u)\n",
    "        d = np.linalg.norm(d_prev - d_next, 2)\n",
    "\n",
    "        if d < zero_threshold:\n",
    "            count_zero += 1\n",
    "\n",
    "        if debug:\n",
    "            print(','.join([f'{v:.5f}' for v in d_next]), d)\n",
    "        d_prev = d_next\n",
    "\n",
    "        if count_zero >= convergence_threshold:\n",
    "            break\n",
    "\n",
    "    w = M / M.sum()\n",
    "    return w"
   ]
  },
  {
   "cell_type": "code",
   "execution_count": 7,
   "id": "intensive-elite",
   "metadata": {
    "execution": {
     "iopub.execute_input": "2022-01-08T03:34:36.795606Z",
     "iopub.status.busy": "2022-01-08T03:34:36.795431Z",
     "iopub.status.idle": "2022-01-08T03:34:36.800877Z",
     "shell.execute_reply": "2022-01-08T03:34:36.800498Z",
     "shell.execute_reply.started": "2022-01-08T03:34:36.795591Z"
    },
    "tags": []
   },
   "outputs": [
    {
     "name": "stdout",
     "output_type": "stream",
     "text": [
      "758.02375,123.06909,3.16228 767.9557278906121\n",
      "75.74299,7.28011,3.60555 692.0363565714724\n",
      "6.70820,2.23607,2.23607 69.23235546955618\n",
      "2.23607,2.23607,2.23607 4.47213595499958\n",
      "2.23607,2.23607,2.23607 0.0\n",
      "2.23607,2.23607,2.23607 0.0\n",
      "2.23607,2.23607,2.23607 0.0\n"
     ]
    }
   ],
   "source": [
    "w = get_weights(X)"
   ]
  },
  {
   "cell_type": "code",
   "execution_count": 8,
   "id": "genetic-sphere",
   "metadata": {
    "execution": {
     "iopub.execute_input": "2022-01-08T03:34:36.801549Z",
     "iopub.status.busy": "2022-01-08T03:34:36.801417Z",
     "iopub.status.idle": "2022-01-08T03:34:36.804566Z",
     "shell.execute_reply": "2022-01-08T03:34:36.804085Z",
     "shell.execute_reply.started": "2022-01-08T03:34:36.801534Z"
    }
   },
   "outputs": [
    {
     "data": {
      "text/plain": [
       "array([[[0.113334  , 0.13604081],\n",
       "        [0.10423127, 0.0663199 ]],\n",
       "\n",
       "       [[0.21406422, 0.256677  ],\n",
       "        [0.0783235 , 0.0310093 ]]])"
      ]
     },
     "execution_count": 8,
     "metadata": {},
     "output_type": "execute_result"
    }
   ],
   "source": [
    "w"
   ]
  },
  {
   "cell_type": "markdown",
   "id": "stuck-clerk",
   "metadata": {},
   "source": [
    "## Sampling\n",
    "\n",
    "Now that we have learned the weights, we can use them to sample (with replacement) from the synthetic data."
   ]
  },
  {
   "cell_type": "code",
   "execution_count": 9,
   "id": "laden-strategy",
   "metadata": {
    "execution": {
     "iopub.execute_input": "2022-01-08T03:34:36.805688Z",
     "iopub.status.busy": "2022-01-08T03:34:36.805574Z",
     "iopub.status.idle": "2022-01-08T03:34:36.846324Z",
     "shell.execute_reply": "2022-01-08T03:34:36.845953Z",
     "shell.execute_reply.started": "2022-01-08T03:34:36.805674Z"
    },
    "tags": []
   },
   "outputs": [
    {
     "data": {
      "text/html": [
       "<div>\n",
       "<style scoped>\n",
       "    .dataframe tbody tr th:only-of-type {\n",
       "        vertical-align: middle;\n",
       "    }\n",
       "\n",
       "    .dataframe tbody tr th {\n",
       "        vertical-align: top;\n",
       "    }\n",
       "\n",
       "    .dataframe thead th {\n",
       "        text-align: right;\n",
       "    }\n",
       "</style>\n",
       "<table border=\"1\" class=\"dataframe\">\n",
       "  <thead>\n",
       "    <tr style=\"text-align: right;\">\n",
       "      <th></th>\n",
       "      <th>race</th>\n",
       "      <th>age</th>\n",
       "      <th>gender</th>\n",
       "      <th>height</th>\n",
       "    </tr>\n",
       "  </thead>\n",
       "  <tbody>\n",
       "    <tr>\n",
       "      <th>1461</th>\n",
       "      <td>other</td>\n",
       "      <td>minor</td>\n",
       "      <td>female</td>\n",
       "      <td>5.337720</td>\n",
       "    </tr>\n",
       "    <tr>\n",
       "      <th>2034</th>\n",
       "      <td>other</td>\n",
       "      <td>adult</td>\n",
       "      <td>female</td>\n",
       "      <td>6.243500</td>\n",
       "    </tr>\n",
       "    <tr>\n",
       "      <th>1715</th>\n",
       "      <td>other</td>\n",
       "      <td>adult</td>\n",
       "      <td>male</td>\n",
       "      <td>5.261089</td>\n",
       "    </tr>\n",
       "    <tr>\n",
       "      <th>310</th>\n",
       "      <td>white</td>\n",
       "      <td>adult</td>\n",
       "      <td>male</td>\n",
       "      <td>5.682793</td>\n",
       "    </tr>\n",
       "    <tr>\n",
       "      <th>1884</th>\n",
       "      <td>other</td>\n",
       "      <td>adult</td>\n",
       "      <td>male</td>\n",
       "      <td>5.192252</td>\n",
       "    </tr>\n",
       "    <tr>\n",
       "      <th>...</th>\n",
       "      <td>...</td>\n",
       "      <td>...</td>\n",
       "      <td>...</td>\n",
       "      <td>...</td>\n",
       "    </tr>\n",
       "    <tr>\n",
       "      <th>2140</th>\n",
       "      <td>other</td>\n",
       "      <td>adult</td>\n",
       "      <td>female</td>\n",
       "      <td>6.026459</td>\n",
       "    </tr>\n",
       "    <tr>\n",
       "      <th>732</th>\n",
       "      <td>white</td>\n",
       "      <td>adult</td>\n",
       "      <td>female</td>\n",
       "      <td>5.155105</td>\n",
       "    </tr>\n",
       "    <tr>\n",
       "      <th>34</th>\n",
       "      <td>white</td>\n",
       "      <td>minor</td>\n",
       "      <td>male</td>\n",
       "      <td>5.273937</td>\n",
       "    </tr>\n",
       "    <tr>\n",
       "      <th>117</th>\n",
       "      <td>white</td>\n",
       "      <td>minor</td>\n",
       "      <td>female</td>\n",
       "      <td>5.599598</td>\n",
       "    </tr>\n",
       "    <tr>\n",
       "      <th>649</th>\n",
       "      <td>white</td>\n",
       "      <td>adult</td>\n",
       "      <td>female</td>\n",
       "      <td>6.546797</td>\n",
       "    </tr>\n",
       "  </tbody>\n",
       "</table>\n",
       "<p>10000 rows × 4 columns</p>\n",
       "</div>"
      ],
      "text/plain": [
       "       race    age  gender    height\n",
       "1461  other  minor  female  5.337720\n",
       "2034  other  adult  female  6.243500\n",
       "1715  other  adult    male  5.261089\n",
       "310   white  adult    male  5.682793\n",
       "1884  other  adult    male  5.192252\n",
       "...     ...    ...     ...       ...\n",
       "2140  other  adult  female  6.026459\n",
       "732   white  adult  female  5.155105\n",
       "34    white  minor    male  5.273937\n",
       "117   white  minor  female  5.599598\n",
       "649   white  adult  female  6.546797\n",
       "\n",
       "[10000 rows x 4 columns]"
      ]
     },
     "execution_count": 9,
     "metadata": {},
     "output_type": "execute_result"
    }
   ],
   "source": [
    "import functools\n",
    "\n",
    "def get_sampling_weights(df, f, w):\n",
    "    get_filters = lambda df, fields, values: [df[f] == v for f, v in zip(fields, values)]\n",
    "    get_total = lambda df, fields, values: df[functools.reduce(lambda a, b: a & b, get_filters(df, fields, values))].shape[0]\n",
    "\n",
    "    return {k: v / get_total(df, f, k) for k, v in zip(list(itertools.product(*[sorted(df[c].unique()) for c in f])), np.ravel(w))}\n",
    "\n",
    "def get_samples(df, f, w, n=10_000):\n",
    "    weights = get_sampling_weights(df, f, w)\n",
    "    s = df.apply(lambda r: weights[tuple([r[c] for c in f])], axis=1)\n",
    "    return df.sample(n=n, replace=True, weights=s)\n",
    "\n",
    "sample_df = get_samples(df, f, w)\n",
    "sample_df"
   ]
  },
  {
   "cell_type": "markdown",
   "id": "arranged-nigeria",
   "metadata": {},
   "source": [
    "Here is the cross-tabulation of the resulting sampled matrix."
   ]
  },
  {
   "cell_type": "code",
   "execution_count": 10,
   "id": "reasonable-facility",
   "metadata": {
    "execution": {
     "iopub.execute_input": "2022-01-08T03:34:36.847238Z",
     "iopub.status.busy": "2022-01-08T03:34:36.847074Z",
     "iopub.status.idle": "2022-01-08T03:34:36.862454Z",
     "shell.execute_reply": "2022-01-08T03:34:36.862040Z",
     "shell.execute_reply.started": "2022-01-08T03:34:36.847219Z"
    }
   },
   "outputs": [
    {
     "data": {
      "text/html": [
       "<div>\n",
       "<style scoped>\n",
       "    .dataframe tbody tr th:only-of-type {\n",
       "        vertical-align: middle;\n",
       "    }\n",
       "\n",
       "    .dataframe tbody tr th {\n",
       "        vertical-align: top;\n",
       "    }\n",
       "\n",
       "    .dataframe thead tr th {\n",
       "        text-align: left;\n",
       "    }\n",
       "\n",
       "    .dataframe thead tr:last-of-type th {\n",
       "        text-align: right;\n",
       "    }\n",
       "</style>\n",
       "<table border=\"1\" class=\"dataframe\">\n",
       "  <thead>\n",
       "    <tr>\n",
       "      <th>age</th>\n",
       "      <th colspan=\"2\" halign=\"left\">adult</th>\n",
       "      <th colspan=\"2\" halign=\"left\">minor</th>\n",
       "    </tr>\n",
       "    <tr>\n",
       "      <th>gender</th>\n",
       "      <th>female</th>\n",
       "      <th>male</th>\n",
       "      <th>female</th>\n",
       "      <th>male</th>\n",
       "    </tr>\n",
       "    <tr>\n",
       "      <th>race</th>\n",
       "      <th></th>\n",
       "      <th></th>\n",
       "      <th></th>\n",
       "      <th></th>\n",
       "    </tr>\n",
       "  </thead>\n",
       "  <tbody>\n",
       "    <tr>\n",
       "      <th>other</th>\n",
       "      <td>1165</td>\n",
       "      <td>1344</td>\n",
       "      <td>1041</td>\n",
       "      <td>628</td>\n",
       "    </tr>\n",
       "    <tr>\n",
       "      <th>white</th>\n",
       "      <td>2225</td>\n",
       "      <td>2492</td>\n",
       "      <td>791</td>\n",
       "      <td>314</td>\n",
       "    </tr>\n",
       "  </tbody>\n",
       "</table>\n",
       "</div>"
      ],
      "text/plain": [
       "age     adult        minor     \n",
       "gender female  male female male\n",
       "race                           \n",
       "other    1165  1344   1041  628\n",
       "white    2225  2492    791  314"
      ]
     },
     "execution_count": 10,
     "metadata": {},
     "output_type": "execute_result"
    }
   ],
   "source": [
    "ct = pd.crosstab(sample_df.race, [sample_df.age, sample_df.gender])\n",
    "ct"
   ]
  },
  {
   "cell_type": "markdown",
   "id": "proved-teaching",
   "metadata": {},
   "source": [
    "Let's check and verify the marginals."
   ]
  },
  {
   "cell_type": "code",
   "execution_count": 11,
   "id": "horizontal-occurrence",
   "metadata": {
    "execution": {
     "iopub.execute_input": "2022-01-08T03:34:36.863277Z",
     "iopub.status.busy": "2022-01-08T03:34:36.863114Z",
     "iopub.status.idle": "2022-01-08T03:34:36.868323Z",
     "shell.execute_reply": "2022-01-08T03:34:36.867875Z",
     "shell.execute_reply.started": "2022-01-08T03:34:36.863255Z"
    }
   },
   "outputs": [
    {
     "data": {
      "text/plain": [
       "other    0.4178\n",
       "white    0.5822\n",
       "Name: race, dtype: float64"
      ]
     },
     "execution_count": 11,
     "metadata": {},
     "output_type": "execute_result"
    }
   ],
   "source": [
    "sample_df.race.value_counts().sort_index() / sample_df.shape[0]"
   ]
  },
  {
   "cell_type": "code",
   "execution_count": 12,
   "id": "varied-union",
   "metadata": {
    "execution": {
     "iopub.execute_input": "2022-01-08T03:34:36.869042Z",
     "iopub.status.busy": "2022-01-08T03:34:36.868919Z",
     "iopub.status.idle": "2022-01-08T03:34:36.874236Z",
     "shell.execute_reply": "2022-01-08T03:34:36.873808Z",
     "shell.execute_reply.started": "2022-01-08T03:34:36.869027Z"
    }
   },
   "outputs": [
    {
     "data": {
      "text/plain": [
       "adult    0.7226\n",
       "minor    0.2774\n",
       "Name: age, dtype: float64"
      ]
     },
     "execution_count": 12,
     "metadata": {},
     "output_type": "execute_result"
    }
   ],
   "source": [
    "sample_df.age.value_counts().sort_index() / sample_df.shape[0]"
   ]
  },
  {
   "cell_type": "code",
   "execution_count": 13,
   "id": "tender-debate",
   "metadata": {
    "execution": {
     "iopub.execute_input": "2022-01-08T03:34:36.874841Z",
     "iopub.status.busy": "2022-01-08T03:34:36.874730Z",
     "iopub.status.idle": "2022-01-08T03:34:36.879552Z",
     "shell.execute_reply": "2022-01-08T03:34:36.879063Z",
     "shell.execute_reply.started": "2022-01-08T03:34:36.874827Z"
    }
   },
   "outputs": [
    {
     "data": {
      "text/plain": [
       "female    0.5222\n",
       "male      0.4778\n",
       "Name: gender, dtype: float64"
      ]
     },
     "execution_count": 13,
     "metadata": {},
     "output_type": "execute_result"
    }
   ],
   "source": [
    "sample_df.gender.value_counts().sort_index() / sample_df.shape[0]"
   ]
  }
 ],
 "metadata": {
  "kernelspec": {
   "display_name": "Python 3",
   "language": "python",
   "name": "python3"
  },
  "language_info": {
   "codemirror_mode": {
    "name": "ipython",
    "version": 3
   },
   "file_extension": ".py",
   "mimetype": "text/x-python",
   "name": "python",
   "nbconvert_exporter": "python",
   "pygments_lexer": "ipython3",
   "version": "3.8.5"
  },
  "widgets": {
   "application/vnd.jupyter.widget-state+json": {
    "state": {},
    "version_major": 2,
    "version_minor": 0
   }
  }
 },
 "nbformat": 4,
 "nbformat_minor": 5
}
