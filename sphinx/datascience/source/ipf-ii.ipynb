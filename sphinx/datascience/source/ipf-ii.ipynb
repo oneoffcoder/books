{
 "cells": [
  {
   "cell_type": "markdown",
   "id": "8ad9c5ff-0e9c-46d9-9e59-b1d5990fa254",
   "metadata": {},
   "source": [
    "# Iterative Proportional Fitting, Higher dimensions\n",
    "\n",
    "- race\n",
    "  - white: 58%\n",
    "  - other: 42%\n",
    "- age\n",
    "  - minor: 28%\n",
    "  - adult: 72%\n",
    "- gender\n",
    "  - male: 49%\n",
    "  - female: 51%\n"
   ]
  },
  {
   "cell_type": "code",
   "execution_count": 1,
   "id": "a1f46643-a96a-4488-9bdc-9f859149e42c",
   "metadata": {
    "execution": {
     "iopub.execute_input": "2022-01-08T01:10:08.885399Z",
     "iopub.status.busy": "2022-01-08T01:10:08.885399Z",
     "iopub.status.idle": "2022-01-08T01:10:09.177402Z",
     "shell.execute_reply": "2022-01-08T01:10:09.177402Z",
     "shell.execute_reply.started": "2022-01-08T01:10:08.885399Z"
    },
    "tags": []
   },
   "outputs": [
    {
     "data": {
      "text/html": [
       "<div>\n",
       "<style scoped>\n",
       "    .dataframe tbody tr th:only-of-type {\n",
       "        vertical-align: middle;\n",
       "    }\n",
       "\n",
       "    .dataframe tbody tr th {\n",
       "        vertical-align: top;\n",
       "    }\n",
       "\n",
       "    .dataframe thead th {\n",
       "        text-align: right;\n",
       "    }\n",
       "</style>\n",
       "<table border=\"1\" class=\"dataframe\">\n",
       "  <thead>\n",
       "    <tr style=\"text-align: right;\">\n",
       "      <th></th>\n",
       "      <th>race</th>\n",
       "      <th>age</th>\n",
       "      <th>gender</th>\n",
       "      <th>height</th>\n",
       "    </tr>\n",
       "  </thead>\n",
       "  <tbody>\n",
       "    <tr>\n",
       "      <th>0</th>\n",
       "      <td>white</td>\n",
       "      <td>minor</td>\n",
       "      <td>male</td>\n",
       "      <td>5.445536</td>\n",
       "    </tr>\n",
       "    <tr>\n",
       "      <th>1</th>\n",
       "      <td>white</td>\n",
       "      <td>minor</td>\n",
       "      <td>male</td>\n",
       "      <td>6.174308</td>\n",
       "    </tr>\n",
       "    <tr>\n",
       "      <th>2</th>\n",
       "      <td>white</td>\n",
       "      <td>minor</td>\n",
       "      <td>male</td>\n",
       "      <td>5.846647</td>\n",
       "    </tr>\n",
       "    <tr>\n",
       "      <th>3</th>\n",
       "      <td>white</td>\n",
       "      <td>minor</td>\n",
       "      <td>male</td>\n",
       "      <td>4.199654</td>\n",
       "    </tr>\n",
       "    <tr>\n",
       "      <th>4</th>\n",
       "      <td>white</td>\n",
       "      <td>minor</td>\n",
       "      <td>male</td>\n",
       "      <td>7.018512</td>\n",
       "    </tr>\n",
       "  </tbody>\n",
       "</table>\n",
       "</div>"
      ],
      "text/plain": [
       "    race    age gender    height\n",
       "0  white  minor   male  5.445536\n",
       "1  white  minor   male  6.174308\n",
       "2  white  minor   male  5.846647\n",
       "3  white  minor   male  4.199654\n",
       "4  white  minor   male  7.018512"
      ]
     },
     "execution_count": 1,
     "metadata": {},
     "output_type": "execute_result"
    }
   ],
   "source": [
    "import pandas as pd\n",
    "import numpy as np\n",
    "import random\n",
    "import itertools\n",
    "\n",
    "np.random.seed(37)\n",
    "random.seed(37)\n",
    "\n",
    "height = [\n",
    "    np.random.normal(5.5, 1.0, 100),\n",
    "    np.random.normal(5.3, 1.0, 200),\n",
    "    np.random.normal(5.9, 1.0, 300),\n",
    "    np.random.normal(5.7, 1.0, 200),\n",
    "    np.random.normal(5.3, 1.0, 400),\n",
    "    np.random.normal(5.2, 1.0, 500),\n",
    "    np.random.normal(5.8, 1.0, 300),\n",
    "    np.random.normal(5.5, 1.0, 200)\n",
    "]\n",
    "\n",
    "demographic = [\n",
    "    ['white', 'minor', 'male'],\n",
    "    ['white', 'minor', 'female'],\n",
    "    ['white', 'adult', 'male'],\n",
    "    ['white', 'adult', 'female'],\n",
    "    ['other', 'minor', 'male'],\n",
    "    ['other', 'minor', 'female'],\n",
    "    ['other', 'adult', 'male'],\n",
    "    ['other', 'adult', 'female']\n",
    "]\n",
    "\n",
    "data = [[{'race': d[0], 'age': d[1], 'gender': d[2], 'height': h} for h in s] for d, s in zip(demographic, height)]\n",
    "data = list(itertools.chain(*data))\n",
    "\n",
    "df = pd.DataFrame(data)\n",
    "df.head()"
   ]
  },
  {
   "cell_type": "code",
   "execution_count": 2,
   "id": "e55ed102-7a81-4126-83b2-8823c8768368",
   "metadata": {
    "execution": {
     "iopub.execute_input": "2022-01-08T01:10:09.178404Z",
     "iopub.status.busy": "2022-01-08T01:10:09.178404Z",
     "iopub.status.idle": "2022-01-08T01:10:09.193402Z",
     "shell.execute_reply": "2022-01-08T01:10:09.193402Z",
     "shell.execute_reply.started": "2022-01-08T01:10:09.178404Z"
    },
    "tags": []
   },
   "outputs": [],
   "source": [
    "def get_target_marginals(d):\n",
    "    factors = list(d.keys())\n",
    "    targets = [sorted([(k2, v2) for k2, v2 in v.items()]) for k, v in d.items()]\n",
    "    targets = np.array([[v for _, v in item] for item in targets])\n",
    "    return factors, targets\n",
    "\n",
    "def get_table(df, targets):\n",
    "    factors, target_marginals = get_target_marginals(targets)\n",
    "    \n",
    "    cross_tab = pd.crosstab(df[factors[0]], [df[c] for c in factors[1:]])\n",
    "    shape = tuple([df[c].unique().shape[0] for c in factors])\n",
    "    table = cross_tab.values.reshape(shape)\n",
    "    \n",
    "    return factors, target_marginals, table\n",
    "\n",
    "f, u, X = get_table(df, {\n",
    "    'race': {'white': 5800, 'other': 4200},\n",
    "    'age': {'minor': 2800, 'adult': 7200},\n",
    "    'gender': {'male': 4900, 'female': 5100}\n",
    "})"
   ]
  },
  {
   "cell_type": "code",
   "execution_count": 3,
   "id": "ab1f0510-ed14-4655-9c30-ec072c804c49",
   "metadata": {
    "execution": {
     "iopub.execute_input": "2022-01-08T01:10:09.194402Z",
     "iopub.status.busy": "2022-01-08T01:10:09.194402Z",
     "iopub.status.idle": "2022-01-08T01:10:09.210403Z",
     "shell.execute_reply": "2022-01-08T01:10:09.209503Z",
     "shell.execute_reply.started": "2022-01-08T01:10:09.194402Z"
    },
    "tags": []
   },
   "outputs": [],
   "source": [
    "def get_coordinates(M):\n",
    "    return list(itertools.product(*[list(range(n)) for n in M.shape]))\n",
    "\n",
    "def get_marginals(M, i):\n",
    "    coordinates = get_coordinates(M)\n",
    "    \n",
    "    key = lambda tup: tup[0]\n",
    "    counts = [(c[i], M[c]) for c in coordinates]\n",
    "    counts = sorted(counts, key=key)\n",
    "    counts = itertools.groupby(counts, key=key)\n",
    "    counts = {k: sum([v[1] for v in g]) for k, g in counts}\n",
    "    \n",
    "    return counts\n",
    "\n",
    "def get_all_marginals(M):\n",
    "    return np.array([[v for _, v in get_marginals(M, i).items()] \n",
    "                     for i in range(len(M.shape))])\n",
    "\n",
    "def get_counts(M, i):\n",
    "    coordinates = get_coordinates(M)\n",
    "    \n",
    "    key = lambda tup: tup[0]\n",
    "    counts = [(c[i], M[c], c) for c in coordinates]\n",
    "    counts = sorted(counts, key=key)\n",
    "    counts = itertools.groupby(counts, key=key)\n",
    "    counts = {k: [(tup[1], tup[2]) for tup in g] for k, g in counts}\n",
    "    \n",
    "    return counts\n",
    "\n",
    "def update_values(M, i, u):\n",
    "    marg = get_marginals(M, i)\n",
    "    vals = get_counts(M, i)\n",
    "    \n",
    "    d = [[(c, n * u[k] / marg[k]) for n, c in v] for k, v in vals.items()]\n",
    "    d = itertools.chain(*d)\n",
    "    d = list(d)\n",
    "    \n",
    "    return d\n",
    "\n",
    "def ipf_update(M, u):\n",
    "    for i in range(len(M.shape)):\n",
    "        values = update_values(M, i, u[i])\n",
    "        for idx, v in values:\n",
    "            M[idx] = v\n",
    "    \n",
    "    o = get_all_marginals(M)\n",
    "    d = get_deltas(o, u)\n",
    "    \n",
    "    return M, d\n",
    "\n",
    "def get_deltas(o, t):\n",
    "    return np.array([np.linalg.norm(o[r] - t[r], 2) for r in range(o.shape[0])])\n",
    "\n",
    "def get_weights(X, max_iters=50, zero_threshold=0.0001, convergence_threshold=3, debug=True):\n",
    "    M = X.copy()\n",
    "    \n",
    "    d_prev = np.zeros(len(M.shape))\n",
    "    count_zero = 0\n",
    "\n",
    "    for _ in range(max_iters):\n",
    "        M, d_next = ipf_update(M, u)\n",
    "        d = np.linalg.norm(d_prev - d_next, 2)\n",
    "\n",
    "        if d < zero_threshold:\n",
    "            count_zero += 1\n",
    "\n",
    "        if debug:\n",
    "            print(','.join([f'{v:.5f}' for v in d_next]), d)\n",
    "        d_prev = d_next\n",
    "\n",
    "        if count_zero >= convergence_threshold:\n",
    "            break\n",
    "\n",
    "    w = M / M.sum()\n",
    "    return w"
   ]
  },
  {
   "cell_type": "code",
   "execution_count": 5,
   "id": "53c0c66a-218c-4862-882a-b692a2d24321",
   "metadata": {
    "execution": {
     "iopub.execute_input": "2022-01-08T01:11:45.952292Z",
     "iopub.status.busy": "2022-01-08T01:11:45.951292Z",
     "iopub.status.idle": "2022-01-08T01:11:45.971292Z",
     "shell.execute_reply": "2022-01-08T01:11:45.971292Z",
     "shell.execute_reply.started": "2022-01-08T01:11:45.952292Z"
    },
    "tags": []
   },
   "outputs": [
    {
     "name": "stdout",
     "output_type": "stream",
     "text": [
      "758.02375,123.06909,3.16228 767.9557278906121\n",
      "75.74299,7.28011,3.60555 692.0363565714724\n",
      "6.70820,2.23607,2.23607 69.23235546955618\n",
      "2.23607,2.23607,2.23607 4.47213595499958\n",
      "2.23607,2.23607,2.23607 0.0\n",
      "2.23607,2.23607,2.23607 0.0\n",
      "2.23607,2.23607,2.23607 0.0\n"
     ]
    },
    {
     "data": {
      "text/plain": [
       "array([[[0.113334  , 0.13604081],\n",
       "        [0.10423127, 0.0663199 ]],\n",
       "\n",
       "       [[0.21406422, 0.256677  ],\n",
       "        [0.0783235 , 0.0310093 ]]])"
      ]
     },
     "execution_count": 5,
     "metadata": {},
     "output_type": "execute_result"
    }
   ],
   "source": [
    "w = get_weights(X)\n",
    "w"
   ]
  },
  {
   "cell_type": "code",
   "execution_count": 14,
   "id": "a90e6d93-1be8-4f88-a7c8-7ff570359fbe",
   "metadata": {
    "execution": {
     "iopub.execute_input": "2022-01-08T01:15:23.302812Z",
     "iopub.status.busy": "2022-01-08T01:15:23.302812Z",
     "iopub.status.idle": "2022-01-08T01:15:23.318812Z",
     "shell.execute_reply": "2022-01-08T01:15:23.318812Z",
     "shell.execute_reply.started": "2022-01-08T01:15:23.302812Z"
    },
    "tags": []
   },
   "outputs": [
    {
     "data": {
      "text/plain": [
       "{('other', 'adult', 'female'): 0.11333400020006001,\n",
       " ('other', 'adult', 'male'): 0.1360408122436731,\n",
       " ('other', 'minor', 'female'): 0.10423126938081424,\n",
       " ('other', 'minor', 'male'): 0.06631989596879063,\n",
       " ('white', 'adult', 'female'): 0.21406421926577973,\n",
       " ('white', 'adult', 'male'): 0.2566770031009303,\n",
       " ('white', 'minor', 'female'): 0.07832349704911473,\n",
       " ('white', 'minor', 'male'): 0.031009302790837252}"
      ]
     },
     "execution_count": 14,
     "metadata": {},
     "output_type": "execute_result"
    }
   ],
   "source": [
    "{k: v for k, v in zip(list(itertools.product(*[sorted(df[c].unique()) for c in f])), np.ravel(w))}"
   ]
  },
  {
   "cell_type": "code",
   "execution_count": null,
   "id": "8c070e82-cce3-41af-af11-350546e3972a",
   "metadata": {},
   "outputs": [],
   "source": []
  }
 ],
 "metadata": {
  "kernelspec": {
   "display_name": "Python 3",
   "language": "python",
   "name": "python3"
  },
  "language_info": {
   "codemirror_mode": {
    "name": "ipython",
    "version": 3
   },
   "file_extension": ".py",
   "mimetype": "text/x-python",
   "name": "python",
   "nbconvert_exporter": "python",
   "pygments_lexer": "ipython3",
   "version": "3.8.5"
  },
  "widgets": {
   "application/vnd.jupyter.widget-state+json": {
    "state": {},
    "version_major": 2,
    "version_minor": 0
   }
  }
 },
 "nbformat": 4,
 "nbformat_minor": 5
}
