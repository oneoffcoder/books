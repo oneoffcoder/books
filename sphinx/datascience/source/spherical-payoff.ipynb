{
 "cells": [
  {
   "cell_type": "markdown",
   "id": "970f059c-fe3c-4699-8dd5-19b3ba48d4b3",
   "metadata": {},
   "source": [
    "# Spherical Payoff\n",
    "\n",
    "The [spherical payoff](https://www.norsys.com/tutorials/netica/secD/tut_D2.htm) `SP` is a [scrictly proper scoring rule](https://en.wikipedia.org/wiki/Scoring_rule#StrictlyProperScoringRules) used to judge probabilistic classifiers. It is defined as follows.\n",
    "\n",
    "$SP = \\dfrac{1}{N} \\sum \\dfrac{p_c}{\\sqrt{p_0^2 + p_1^2}}$, where\n",
    "\n",
    "- $N$ is the number of samples,\n",
    "- $p_c$ probability predicted for the correct value,\n",
    "- $p_0$ is the probability predicted for y=0, and\n",
    "- $p_1$ is the probability predicted for y=1.\n",
    "\n",
    "The value of SP is in the range $[0, 1]$, where\n",
    "\n",
    "- a value closer to 0 indicates \"worst skill\", and\n",
    "- a value closer to 1 indicates the \"best skill\".\n",
    "\n",
    "Generally speaking, SP may be used beyond binary classification problems. "
   ]
  },
  {
   "cell_type": "markdown",
   "id": "5c4b9e41-be39-4aa6-873c-d663fd58f5b9",
   "metadata": {},
   "source": [
    "## Load data\n",
    "\n",
    "Let's import a dataset about students and whether they have conducted research. The indepent variables in X are the student's scores and peformance measures, and the dependent variable y is whether they have done research (y = 1) or not (y = 0)."
   ]
  },
  {
   "cell_type": "code",
   "execution_count": 1,
   "id": "c541bbc8-a7e9-4dac-857b-188ddc4803c9",
   "metadata": {
    "execution": {
     "iopub.execute_input": "2023-11-08T00:38:42.872867Z",
     "iopub.status.busy": "2023-11-08T00:38:42.872867Z",
     "iopub.status.idle": "2023-11-08T00:38:43.484227Z",
     "shell.execute_reply": "2023-11-08T00:38:43.484227Z",
     "shell.execute_reply.started": "2023-11-08T00:38:42.872867Z"
    },
    "tags": []
   },
   "outputs": [
    {
     "data": {
      "text/plain": [
       "(400, 7)"
      ]
     },
     "execution_count": 1,
     "metadata": {},
     "output_type": "execute_result"
    }
   ],
   "source": [
    "import pandas as pd\n",
    "import numpy as np\n",
    "\n",
    "url = 'https://raw.githubusercontent.com/selva86/datasets/master/Admission.csv'\n",
    "Xy = pd.read_csv(url) \\\n",
    "    .drop(columns=['Chance of Admit ', 'Serial No.'])\n",
    "    \n",
    "Xy.shape"
   ]
  },
  {
   "cell_type": "code",
   "execution_count": 2,
   "id": "395a9eea-9797-4135-adbc-d52eaff8fc49",
   "metadata": {
    "execution": {
     "iopub.execute_input": "2023-11-08T00:38:43.485234Z",
     "iopub.status.busy": "2023-11-08T00:38:43.485234Z",
     "iopub.status.idle": "2023-11-08T00:38:43.489195Z",
     "shell.execute_reply": "2023-11-08T00:38:43.489195Z",
     "shell.execute_reply.started": "2023-11-08T00:38:43.485234Z"
    },
    "tags": []
   },
   "outputs": [
    {
     "data": {
      "text/plain": [
       "Index(['GRE Score', 'TOEFL Score', 'University Rating', 'SOP', 'LOR ', 'CGPA',\n",
       "       'Research'],\n",
       "      dtype='object')"
      ]
     },
     "execution_count": 2,
     "metadata": {},
     "output_type": "execute_result"
    }
   ],
   "source": [
    "Xy.columns"
   ]
  },
  {
   "cell_type": "code",
   "execution_count": 3,
   "id": "208463fc-0986-4fa3-b48c-fd5dcb0e0a13",
   "metadata": {
    "execution": {
     "iopub.execute_input": "2023-11-08T00:38:43.490202Z",
     "iopub.status.busy": "2023-11-08T00:38:43.490202Z",
     "iopub.status.idle": "2023-11-08T00:38:43.500997Z",
     "shell.execute_reply": "2023-11-08T00:38:43.500997Z",
     "shell.execute_reply.started": "2023-11-08T00:38:43.490202Z"
    },
    "tags": []
   },
   "outputs": [
    {
     "data": {
      "text/html": [
       "<div>\n",
       "<style scoped>\n",
       "    .dataframe tbody tr th:only-of-type {\n",
       "        vertical-align: middle;\n",
       "    }\n",
       "\n",
       "    .dataframe tbody tr th {\n",
       "        vertical-align: top;\n",
       "    }\n",
       "\n",
       "    .dataframe thead th {\n",
       "        text-align: right;\n",
       "    }\n",
       "</style>\n",
       "<table border=\"1\" class=\"dataframe\">\n",
       "  <thead>\n",
       "    <tr style=\"text-align: right;\">\n",
       "      <th></th>\n",
       "      <th>GRE Score</th>\n",
       "      <th>TOEFL Score</th>\n",
       "      <th>University Rating</th>\n",
       "      <th>SOP</th>\n",
       "      <th>LOR</th>\n",
       "      <th>CGPA</th>\n",
       "      <th>Research</th>\n",
       "    </tr>\n",
       "  </thead>\n",
       "  <tbody>\n",
       "    <tr>\n",
       "      <th>0</th>\n",
       "      <td>337</td>\n",
       "      <td>118</td>\n",
       "      <td>4</td>\n",
       "      <td>4.5</td>\n",
       "      <td>4.5</td>\n",
       "      <td>9.65</td>\n",
       "      <td>1</td>\n",
       "    </tr>\n",
       "    <tr>\n",
       "      <th>1</th>\n",
       "      <td>324</td>\n",
       "      <td>107</td>\n",
       "      <td>4</td>\n",
       "      <td>4.0</td>\n",
       "      <td>4.5</td>\n",
       "      <td>8.87</td>\n",
       "      <td>1</td>\n",
       "    </tr>\n",
       "    <tr>\n",
       "      <th>2</th>\n",
       "      <td>316</td>\n",
       "      <td>104</td>\n",
       "      <td>3</td>\n",
       "      <td>3.0</td>\n",
       "      <td>3.5</td>\n",
       "      <td>8.00</td>\n",
       "      <td>1</td>\n",
       "    </tr>\n",
       "    <tr>\n",
       "      <th>3</th>\n",
       "      <td>322</td>\n",
       "      <td>110</td>\n",
       "      <td>3</td>\n",
       "      <td>3.5</td>\n",
       "      <td>2.5</td>\n",
       "      <td>8.67</td>\n",
       "      <td>1</td>\n",
       "    </tr>\n",
       "    <tr>\n",
       "      <th>4</th>\n",
       "      <td>314</td>\n",
       "      <td>103</td>\n",
       "      <td>2</td>\n",
       "      <td>2.0</td>\n",
       "      <td>3.0</td>\n",
       "      <td>8.21</td>\n",
       "      <td>0</td>\n",
       "    </tr>\n",
       "  </tbody>\n",
       "</table>\n",
       "</div>"
      ],
      "text/plain": [
       "   GRE Score  TOEFL Score  University Rating  SOP  LOR   CGPA  Research\n",
       "0        337          118                  4  4.5   4.5  9.65         1\n",
       "1        324          107                  4  4.0   4.5  8.87         1\n",
       "2        316          104                  3  3.0   3.5  8.00         1\n",
       "3        322          110                  3  3.5   2.5  8.67         1\n",
       "4        314          103                  2  2.0   3.0  8.21         0"
      ]
     },
     "execution_count": 3,
     "metadata": {},
     "output_type": "execute_result"
    }
   ],
   "source": [
    "Xy.head()"
   ]
  },
  {
   "cell_type": "markdown",
   "id": "b546755a-4f37-49be-a935-342e7750cd2f",
   "metadata": {},
   "source": [
    "## Create Xy\n",
    "\n",
    "We will split Xy in X and y individually."
   ]
  },
  {
   "cell_type": "code",
   "execution_count": 4,
   "id": "25752c32-a0b9-4db6-89a3-145400ceaf2f",
   "metadata": {
    "execution": {
     "iopub.execute_input": "2023-11-08T00:38:43.502003Z",
     "iopub.status.busy": "2023-11-08T00:38:43.502003Z",
     "iopub.status.idle": "2023-11-08T00:38:43.506550Z",
     "shell.execute_reply": "2023-11-08T00:38:43.506550Z",
     "shell.execute_reply.started": "2023-11-08T00:38:43.502003Z"
    },
    "tags": []
   },
   "outputs": [
    {
     "data": {
      "text/plain": [
       "((400, 6), (400,))"
      ]
     },
     "execution_count": 4,
     "metadata": {},
     "output_type": "execute_result"
    }
   ],
   "source": [
    "X = Xy.drop(columns=['Research'])\n",
    "y = Xy['Research']\n",
    "\n",
    "X.shape, y.shape"
   ]
  },
  {
   "cell_type": "markdown",
   "id": "093edb9b-6d1b-4c8e-8ad7-81236d1e2648",
   "metadata": {},
   "source": [
    "## Split Xy into training and testing\n",
    "\n",
    "We then split X and y into training and testing folds."
   ]
  },
  {
   "cell_type": "code",
   "execution_count": 5,
   "id": "9aedd26f-890b-4e3f-8024-00c84cc6bf0a",
   "metadata": {
    "execution": {
     "iopub.execute_input": "2023-11-08T00:38:43.507557Z",
     "iopub.status.busy": "2023-11-08T00:38:43.507557Z",
     "iopub.status.idle": "2023-11-08T00:38:44.081599Z",
     "shell.execute_reply": "2023-11-08T00:38:44.081599Z",
     "shell.execute_reply.started": "2023-11-08T00:38:43.507557Z"
    },
    "tags": []
   },
   "outputs": [
    {
     "data": {
      "text/plain": [
       "((360, 6), (40, 6), (360,), (40,))"
      ]
     },
     "execution_count": 5,
     "metadata": {},
     "output_type": "execute_result"
    }
   ],
   "source": [
    "from sklearn.model_selection import StratifiedKFold\n",
    "\n",
    "tr_idx, te_idx = next(StratifiedKFold(n_splits=10, random_state=37, shuffle=True).split(X, y))\n",
    "\n",
    "X_tr, X_te, y_tr, y_te = X.loc[tr_idx], X.loc[te_idx], y.loc[tr_idx], y.loc[te_idx]\n",
    "X_tr.shape, X_te.shape, y_tr.shape, y_te.shape"
   ]
  },
  {
   "cell_type": "markdown",
   "id": "5d473e63-9a00-44c2-96e1-73a6130a3d87",
   "metadata": {},
   "source": [
    "Let's make sure the proportions of 1's and 0's are preserved with the splitting."
   ]
  },
  {
   "cell_type": "code",
   "execution_count": 6,
   "id": "82391f8c-5657-43eb-b1e7-fdd86e30bb3c",
   "metadata": {
    "execution": {
     "iopub.execute_input": "2023-11-08T00:38:44.082608Z",
     "iopub.status.busy": "2023-11-08T00:38:44.082608Z",
     "iopub.status.idle": "2023-11-08T00:38:44.087428Z",
     "shell.execute_reply": "2023-11-08T00:38:44.087428Z",
     "shell.execute_reply.started": "2023-11-08T00:38:44.082608Z"
    },
    "tags": []
   },
   "outputs": [
    {
     "data": {
      "text/plain": [
       "(1    0.547222\n",
       " 0    0.452778\n",
       " Name: Research, dtype: float64,)"
      ]
     },
     "execution_count": 6,
     "metadata": {},
     "output_type": "execute_result"
    }
   ],
   "source": [
    "y_tr.value_counts() / y_tr.value_counts().sum(), "
   ]
  },
  {
   "cell_type": "code",
   "execution_count": 7,
   "id": "578fc9e4-d84d-4563-86a2-329806c35a14",
   "metadata": {
    "execution": {
     "iopub.execute_input": "2023-11-08T00:38:44.089440Z",
     "iopub.status.busy": "2023-11-08T00:38:44.089440Z",
     "iopub.status.idle": "2023-11-08T00:38:44.096067Z",
     "shell.execute_reply": "2023-11-08T00:38:44.096067Z",
     "shell.execute_reply.started": "2023-11-08T00:38:44.089440Z"
    },
    "tags": []
   },
   "outputs": [
    {
     "data": {
      "text/plain": [
       "1    0.55\n",
       "0    0.45\n",
       "Name: Research, dtype: float64"
      ]
     },
     "execution_count": 7,
     "metadata": {},
     "output_type": "execute_result"
    }
   ],
   "source": [
    "y_te.value_counts() / y_te.value_counts().sum()"
   ]
  },
  {
   "cell_type": "markdown",
   "id": "75b6d631-9d8a-436a-9be5-a8a2d852cb77",
   "metadata": {},
   "source": [
    "## Model learning\n",
    "\n",
    "Let's training a logistic regression model on the training data."
   ]
  },
  {
   "cell_type": "code",
   "execution_count": 8,
   "id": "7f4a62f7-c065-4d52-b5b3-83667dd48174",
   "metadata": {
    "execution": {
     "iopub.execute_input": "2023-11-08T00:38:44.097072Z",
     "iopub.status.busy": "2023-11-08T00:38:44.097072Z",
     "iopub.status.idle": "2023-11-08T00:38:44.206681Z",
     "shell.execute_reply": "2023-11-08T00:38:44.206681Z",
     "shell.execute_reply.started": "2023-11-08T00:38:44.097072Z"
    },
    "tags": []
   },
   "outputs": [
    {
     "data": {
      "text/html": [
       "<style>#sk-container-id-1 {color: black;}#sk-container-id-1 pre{padding: 0;}#sk-container-id-1 div.sk-toggleable {background-color: white;}#sk-container-id-1 label.sk-toggleable__label {cursor: pointer;display: block;width: 100%;margin-bottom: 0;padding: 0.3em;box-sizing: border-box;text-align: center;}#sk-container-id-1 label.sk-toggleable__label-arrow:before {content: \"▸\";float: left;margin-right: 0.25em;color: #696969;}#sk-container-id-1 label.sk-toggleable__label-arrow:hover:before {color: black;}#sk-container-id-1 div.sk-estimator:hover label.sk-toggleable__label-arrow:before {color: black;}#sk-container-id-1 div.sk-toggleable__content {max-height: 0;max-width: 0;overflow: hidden;text-align: left;background-color: #f0f8ff;}#sk-container-id-1 div.sk-toggleable__content pre {margin: 0.2em;color: black;border-radius: 0.25em;background-color: #f0f8ff;}#sk-container-id-1 input.sk-toggleable__control:checked~div.sk-toggleable__content {max-height: 200px;max-width: 100%;overflow: auto;}#sk-container-id-1 input.sk-toggleable__control:checked~label.sk-toggleable__label-arrow:before {content: \"▾\";}#sk-container-id-1 div.sk-estimator input.sk-toggleable__control:checked~label.sk-toggleable__label {background-color: #d4ebff;}#sk-container-id-1 div.sk-label input.sk-toggleable__control:checked~label.sk-toggleable__label {background-color: #d4ebff;}#sk-container-id-1 input.sk-hidden--visually {border: 0;clip: rect(1px 1px 1px 1px);clip: rect(1px, 1px, 1px, 1px);height: 1px;margin: -1px;overflow: hidden;padding: 0;position: absolute;width: 1px;}#sk-container-id-1 div.sk-estimator {font-family: monospace;background-color: #f0f8ff;border: 1px dotted black;border-radius: 0.25em;box-sizing: border-box;margin-bottom: 0.5em;}#sk-container-id-1 div.sk-estimator:hover {background-color: #d4ebff;}#sk-container-id-1 div.sk-parallel-item::after {content: \"\";width: 100%;border-bottom: 1px solid gray;flex-grow: 1;}#sk-container-id-1 div.sk-label:hover label.sk-toggleable__label {background-color: #d4ebff;}#sk-container-id-1 div.sk-serial::before {content: \"\";position: absolute;border-left: 1px solid gray;box-sizing: border-box;top: 0;bottom: 0;left: 50%;z-index: 0;}#sk-container-id-1 div.sk-serial {display: flex;flex-direction: column;align-items: center;background-color: white;padding-right: 0.2em;padding-left: 0.2em;position: relative;}#sk-container-id-1 div.sk-item {position: relative;z-index: 1;}#sk-container-id-1 div.sk-parallel {display: flex;align-items: stretch;justify-content: center;background-color: white;position: relative;}#sk-container-id-1 div.sk-item::before, #sk-container-id-1 div.sk-parallel-item::before {content: \"\";position: absolute;border-left: 1px solid gray;box-sizing: border-box;top: 0;bottom: 0;left: 50%;z-index: -1;}#sk-container-id-1 div.sk-parallel-item {display: flex;flex-direction: column;z-index: 1;position: relative;background-color: white;}#sk-container-id-1 div.sk-parallel-item:first-child::after {align-self: flex-end;width: 50%;}#sk-container-id-1 div.sk-parallel-item:last-child::after {align-self: flex-start;width: 50%;}#sk-container-id-1 div.sk-parallel-item:only-child::after {width: 0;}#sk-container-id-1 div.sk-dashed-wrapped {border: 1px dashed gray;margin: 0 0.4em 0.5em 0.4em;box-sizing: border-box;padding-bottom: 0.4em;background-color: white;}#sk-container-id-1 div.sk-label label {font-family: monospace;font-weight: bold;display: inline-block;line-height: 1.2em;}#sk-container-id-1 div.sk-label-container {text-align: center;}#sk-container-id-1 div.sk-container {/* jupyter's `normalize.less` sets `[hidden] { display: none; }` but bootstrap.min.css set `[hidden] { display: none !important; }` so we also need the `!important` here to be able to override the default hidden behavior on the sphinx rendered scikit-learn.org. See: https://github.com/scikit-learn/scikit-learn/issues/21755 */display: inline-block !important;position: relative;}#sk-container-id-1 div.sk-text-repr-fallback {display: none;}</style><div id=\"sk-container-id-1\" class=\"sk-top-container\"><div class=\"sk-text-repr-fallback\"><pre>LogisticRegression(max_iter=5000, n_jobs=-1, random_state=37, solver=&#x27;saga&#x27;)</pre><b>In a Jupyter environment, please rerun this cell to show the HTML representation or trust the notebook. <br />On GitHub, the HTML representation is unable to render, please try loading this page with nbviewer.org.</b></div><div class=\"sk-container\" hidden><div class=\"sk-item\"><div class=\"sk-estimator sk-toggleable\"><input class=\"sk-toggleable__control sk-hidden--visually\" id=\"sk-estimator-id-1\" type=\"checkbox\" checked><label for=\"sk-estimator-id-1\" class=\"sk-toggleable__label sk-toggleable__label-arrow\">LogisticRegression</label><div class=\"sk-toggleable__content\"><pre>LogisticRegression(max_iter=5000, n_jobs=-1, random_state=37, solver=&#x27;saga&#x27;)</pre></div></div></div></div></div>"
      ],
      "text/plain": [
       "LogisticRegression(max_iter=5000, n_jobs=-1, random_state=37, solver='saga')"
      ]
     },
     "execution_count": 8,
     "metadata": {},
     "output_type": "execute_result"
    }
   ],
   "source": [
    "from sklearn.linear_model import LogisticRegression\n",
    "\n",
    "m = LogisticRegression(solver='saga', max_iter=5_000, random_state=37, n_jobs=-1)\n",
    "m.fit(X_tr, y_tr)"
   ]
  },
  {
   "cell_type": "markdown",
   "id": "0138625b-b29b-4f00-b3ab-4e2041a0da00",
   "metadata": {},
   "source": [
    "## Scoring\n",
    "\n",
    "The null (reference) model is the one that always predicts the expected probability of y=1 defined as follows.\n",
    "\n",
    "$\\hat{y} = \\dfrac{1}{N} \\sum y$\n",
    "\n",
    "Notice in the code that we compute this constant prediction from the training data (not testing; although the data was split to preserve the proportions)."
   ]
  },
  {
   "cell_type": "code",
   "execution_count": 9,
   "id": "f174114b-61cd-4604-89e9-56ca28d354d6",
   "metadata": {
    "execution": {
     "iopub.execute_input": "2023-11-08T00:38:44.207687Z",
     "iopub.status.busy": "2023-11-08T00:38:44.207687Z",
     "iopub.status.idle": "2023-11-08T00:38:44.212725Z",
     "shell.execute_reply": "2023-11-08T00:38:44.212725Z",
     "shell.execute_reply.started": "2023-11-08T00:38:44.207687Z"
    },
    "tags": []
   },
   "outputs": [],
   "source": [
    "p1 = (y_tr.value_counts() / y_tr.value_counts().sum()).sort_index().loc[1]\n",
    "\n",
    "y_null = np.full(y_te.shape, p1)\n",
    "y_pred = m.predict_proba(X_te)[:,1]"
   ]
  },
  {
   "cell_type": "markdown",
   "id": "7ef8d16a-078f-41e3-8b5c-044b1f8d1769",
   "metadata": {},
   "source": [
    "The SP of the null and alternative models are shown below. Since higher is better for SP, the alternative model has the better skill. "
   ]
  },
  {
   "cell_type": "code",
   "execution_count": 10,
   "id": "75df5674-3406-4d45-b396-5cfb8fd71dfa",
   "metadata": {
    "execution": {
     "iopub.execute_input": "2023-11-08T00:38:44.213732Z",
     "iopub.status.busy": "2023-11-08T00:38:44.213732Z",
     "iopub.status.idle": "2023-11-08T00:38:44.221985Z",
     "shell.execute_reply": "2023-11-08T00:38:44.221985Z",
     "shell.execute_reply.started": "2023-11-08T00:38:44.213732Z"
    },
    "tags": []
   },
   "outputs": [
    {
     "data": {
      "text/plain": [
       "null    0.710623\n",
       "alt     0.792187\n",
       "dtype: float64"
      ]
     },
     "execution_count": 10,
     "metadata": {},
     "output_type": "execute_result"
    }
   ],
   "source": [
    "def get_spherical_payoff(y_t, y_p):\n",
    "    n = y_p if y_t == 1 else 1 - y_p\n",
    "    d = np.sqrt(y_p ** 2 + (1 - y_p) ** 2)\n",
    "    return n / d\n",
    "\n",
    "def spherical_payoff(y_true, y_pred):\n",
    "    sp = [get_spherical_payoff(y_t, y_p) for y_t, y_p in zip(y_true, y_pred)]\n",
    "    sp = np.mean(sp)\n",
    "    return sp\n",
    "\n",
    "b = pd.Series([\n",
    "    spherical_payoff(y_te, y_null),\n",
    "    spherical_payoff(y_te, y_pred)\n",
    "], ['null', 'alt'])\n",
    "\n",
    "b"
   ]
  },
  {
   "cell_type": "markdown",
   "id": "196a0fa5-8a51-4753-b4bf-7972770749b7",
   "metadata": {},
   "source": [
    "The alternative model is an improvement over the null one by a factor 1.11."
   ]
  },
  {
   "cell_type": "code",
   "execution_count": 11,
   "id": "817912d9-79f2-41ad-8d5e-ddd6b67f08ef",
   "metadata": {
    "execution": {
     "iopub.execute_input": "2023-11-08T00:38:44.222992Z",
     "iopub.status.busy": "2023-11-08T00:38:44.222992Z",
     "iopub.status.idle": "2023-11-08T00:38:44.228151Z",
     "shell.execute_reply": "2023-11-08T00:38:44.228151Z",
     "shell.execute_reply.started": "2023-11-08T00:38:44.222992Z"
    },
    "tags": []
   },
   "outputs": [
    {
     "data": {
      "text/plain": [
       "1.1147782039437109"
      ]
     },
     "execution_count": 11,
     "metadata": {},
     "output_type": "execute_result"
    }
   ],
   "source": [
    "(b.loc['alt'] / b.loc['null'])"
   ]
  }
 ],
 "metadata": {
  "kernelspec": {
   "display_name": "Python 3 (ipykernel)",
   "language": "python",
   "name": "python3"
  },
  "language_info": {
   "codemirror_mode": {
    "name": "ipython",
    "version": 3
   },
   "file_extension": ".py",
   "mimetype": "text/x-python",
   "name": "python",
   "nbconvert_exporter": "python",
   "pygments_lexer": "ipython3",
   "version": "3.11.4"
  },
  "widgets": {
   "application/vnd.jupyter.widget-state+json": {
    "state": {},
    "version_major": 2,
    "version_minor": 0
   }
  }
 },
 "nbformat": 4,
 "nbformat_minor": 5
}
