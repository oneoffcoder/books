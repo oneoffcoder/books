{
 "cells": [
  {
   "cell_type": "markdown",
   "id": "4ae9fabd-fe57-4860-a279-a473d87fbec7",
   "metadata": {},
   "source": [
    "# Frontdoor/Backdoor Adjustment Formulas"
   ]
  },
  {
   "cell_type": "markdown",
   "id": "d7cacfe8-9da1-4a7f-a292-4baa98c353ef",
   "metadata": {},
   "source": [
    "In a directed acyclic graph (DAG) representing a causal model, we can use the `backdoor criterion` to identify confounders and the `frontdoor criterion` to identify mediators. A set of variables $C$ satisifies the backdoor criterion relative to $T$ and $Y$ if the following are true:\n",
    "\n",
    "- $C$ blocks all backdoor paths from $T$ to $Y$\n",
    "- $C$ does not contain any descendants of $T$\n",
    "\n",
    "A set of variables $M$ satistifes the frontdoor criterion relative to $T$ and $Y$ if the following are true:\n",
    "\n",
    "- All paths from $T$ to $Y$ go through $M$\n",
    "- There is no active backdoor path from $T$ to $M$\n",
    "- All backdoor paths from $M$ to $Y$ are blocked by $T$\n",
    "\n",
    "If $(T, C, Y)$ satisfy the backdoor criterion, then the `backdoor adjustment formula` may be used to estimate the causal effect of $T$ on $Y$.\n",
    "\n",
    "- $P(y|do(t)) = \\sum_c P(y|t,c) P(c)$\n",
    "\n",
    "If $(T, M, Y)$ satisfy the frontdoor criterion, then the `frontdoor adjustment formula` may be used to estimate the causal effect of $T$ on $Y$.\n",
    "\n",
    "- $P(y|do(t)) = \\sum_m \\big( P(m|t) \\sum_t P(y|m,t) P(t) \\big)$\n",
    "\n",
    "Theoretically, the backdoor and frontdoor adjustment formulas should produce the same causal effect estimates. Let's see how these formulas work."
   ]
  },
  {
   "cell_type": "markdown",
   "id": "48a319cd-8ed3-4b87-9657-a3695d13d29d",
   "metadata": {},
   "source": [
    "## Causal network\n",
    "\n",
    "The (toy) causal network below has the following variables.\n",
    "\n",
    "- $T$: is for treatment\n",
    "- $Y$: is for outcome\n",
    "- $C$: is for confounder\n",
    "- $M$: is for mediator\n",
    "\n",
    "We specify the directed acylic graph (DAG) so the following relationships hold.\n",
    "\n",
    "- $T \\leftarrow C \\rightarrow Y$\n",
    "- $T \\rightarrow M \\rightarrow Y$\n",
    "\n",
    "Clearly, $C$ is a confounder of $T$ and $Y$ and $M$ is a mediator between $T$ and $Y$."
   ]
  },
  {
   "cell_type": "code",
   "execution_count": 1,
   "id": "02b06357-7fae-4b8d-a507-23600b4c301b",
   "metadata": {},
   "outputs": [],
   "source": [
    "from pybbn.graph.dag import Bbn\n",
    "from pybbn.graph.edge import Edge, EdgeType\n",
    "from pybbn.graph.jointree import EvidenceBuilder\n",
    "from pybbn.graph.node import BbnNode\n",
    "from pybbn.graph.variable import Variable\n",
    "from pybbn.pptc.inferencecontroller import InferenceController\n",
    "\n",
    "C = BbnNode(Variable(0, 'confounder', ['false', 'true']), [0.8, 0.2])\n",
    "T = BbnNode(Variable(1, 'treatment', ['false', 'true']), [0.8, 0.2, 0.2, 0.8])\n",
    "M = BbnNode(Variable(2, 'mediator', ['false', 'true']), [0.75, 0.25, 0.1, 0.9])\n",
    "Y = BbnNode(Variable(3, 'output', ['false', 'true']), [0.99, 0.01, 0.6, 0.4, 0.55, 0.45, 0.2, 0.8])\n",
    "\n",
    "bbn = Bbn() \\\n",
    "    .add_node(C) \\\n",
    "    .add_node(T) \\\n",
    "    .add_node(M) \\\n",
    "    .add_node(Y) \\\n",
    "    .add_edge(Edge(C, T, EdgeType.DIRECTED)) \\\n",
    "    .add_edge(Edge(T, M, EdgeType.DIRECTED)) \\\n",
    "    .add_edge(Edge(C, Y, EdgeType.DIRECTED)) \\\n",
    "    .add_edge(Edge(M, Y, EdgeType.DIRECTED))"
   ]
  },
  {
   "cell_type": "markdown",
   "id": "ebc85da3-262a-4aee-b692-b066699f1357",
   "metadata": {},
   "source": [
    "Now, let's sample some data. Although the result is not shown, when the number of samples is in the tens of thousands, the frontdoor and backdoor adjustment formulas do not converge to one another. Above 500,000, the results are nearly identical. Thus, we sample 1 million samples from the causal network to compute the causal effect."
   ]
  },
  {
   "cell_type": "code",
   "execution_count": 3,
   "id": "aa86f6e8-dcd2-4154-947f-7663324406d8",
   "metadata": {},
   "outputs": [],
   "source": [
    "import pandas as pd\n",
    "from pybbn.sampling.sampling import LogicSampler\n",
    "\n",
    "sampler = LogicSampler(bbn)\n",
    "samples = sampler.get_samples(n_samples=1_000_000, seed=37)\n",
    "\n",
    "df = pd.DataFrame(samples).rename(columns={0: 'C', 1: 'T', 2: 'M', 3: 'Y'})"
   ]
  },
  {
   "cell_type": "markdown",
   "id": "b60c44b5-21b8-4de9-ba43-744c97d48dec",
   "metadata": {},
   "source": [
    "## Frontdoor adjustment formula\n",
    "\n",
    "Here we apply the frontdoor adjustment formula."
   ]
  },
  {
   "cell_type": "code",
   "execution_count": 4,
   "id": "e7f7985c-30a6-4fe4-9cc3-fd9717f946c6",
   "metadata": {},
   "outputs": [],
   "source": [
    "import itertools\n",
    "\n",
    "def safe_divide(num, den):\n",
    "    if den == 0:\n",
    "        return 0\n",
    "    return num / den\n",
    "\n",
    "def get_filter(X, x):\n",
    "    f = [f'{_X}==\"{_x}\"' for _X, _x in zip(X, x)]\n",
    "    f = ' and '.join(f)\n",
    "    return f\n",
    "\n",
    "def get_domain_product_values(df, X):\n",
    "    prod = [sorted(df[x].unique()) for x in X]\n",
    "    prod = itertools.product(*prod)\n",
    "    prod = list(prod)\n",
    "\n",
    "    return prod\n",
    "\n",
    "def get_domain_product_filters(df, X):\n",
    "    prod = get_domain_product_values(df, X)\n",
    "    prod = [' and '.join([f'{_x}==\"{_v}\"' for _x, _v in zip(X, tup)]) for tup in prod]\n",
    "    return prod\n",
    "\n",
    "def get_marg_prob(df, X, x):\n",
    "    f = get_filter(X, x)\n",
    "    N = df.shape[0]\n",
    "    n = df.query(f).shape[0]\n",
    "    return safe_divide(n, N)\n",
    "\n",
    "def get_cond_prob(df, X, x, Y, y):\n",
    "    num_f = get_filter(X + Y, x + y)\n",
    "    den_f = get_filter(Y, y)\n",
    "\n",
    "    n = df.query(num_f).shape[0]\n",
    "    d = df.query(den_f).shape[0]\n",
    "    return safe_divide(n, d)\n",
    "\n",
    "def get_frontdoor_intv_prob(df, T, t, M, Y, y):\n",
    "    sum_m = 0\n",
    "    \n",
    "    for m_filter in get_domain_product_filters(df, M):\n",
    "        t_filter = get_filter(T, t)\n",
    "        tm_filter = f'{t_filter} and {m_filter}'\n",
    "        \n",
    "        n = df.query(tm_filter).shape[0]\n",
    "        d = df.query(t_filter).shape[0]\n",
    "        \n",
    "        p_m_given_t = safe_divide(n, d)\n",
    "\n",
    "        sum_t = 0\n",
    "        \n",
    "        for t_filter in get_domain_product_filters(df, T):\n",
    "            y_filter = get_filter(Y, y)\n",
    "            tmy_filter = f'{t_filter} and {m_filter} and {y_filter}'\n",
    "            tm_filter = f'{t_filter} and {m_filter}'\n",
    "\n",
    "            n = df.query(tmy_filter).shape[0]\n",
    "            d = df.query(tm_filter).shape[0]\n",
    "\n",
    "            p_y_given_mt = safe_divide(n, d)\n",
    "\n",
    "            n = df.query(t_filter).shape[0]\n",
    "            d = df.shape[0]\n",
    "            \n",
    "            p_t = safe_divide(n, d)\n",
    "\n",
    "            sum_t += (p_y_given_mt * p_t)\n",
    "\n",
    "        sum_m += (p_m_given_t * sum_t)\n",
    "\n",
    "    return sum_m\n",
    "\n",
    "def get_frontdoor_probs(df, T, M, Y, y):\n",
    "    def get_vals(X, x):\n",
    "        return ','.join([f'{_X}={_x}' for _X, _x in zip(X, x)])\n",
    "\n",
    "    def get_key(t):\n",
    "        t_vals = get_vals(T, t)\n",
    "        k = f'P({y_vals}|{t_vals})'\n",
    "        return k\n",
    "        \n",
    "    def compute(t):\n",
    "        return get_frontdoor_intv_prob(df, T, t, M, Y, y)\n",
    "\n",
    "    y_vals = get_vals(Y, y)\n",
    "    return {get_key(t): compute(t) for t in get_domain_product_values(df, T)}\n",
    "\n",
    "f_probs = get_frontdoor_probs(df, ['T'], ['M'], ['Y'], ['true'])"
   ]
  },
  {
   "cell_type": "markdown",
   "id": "99207f07-8226-4172-b71c-d090dea7d648",
   "metadata": {},
   "source": [
    "## Backdoor adjustment formula\n",
    "\n",
    "Here we apply the backdoor adjustment formula."
   ]
  },
  {
   "cell_type": "code",
   "execution_count": 5,
   "id": "f02f9fae-9c47-47ff-b1a1-8b6b9993715a",
   "metadata": {},
   "outputs": [],
   "source": [
    "def get_backdoor_intv_prob(df, T, t, C, Y, y):\n",
    "    sum_c = 0\n",
    "    \n",
    "    for c_filter in get_domain_product_filters(df, C):\n",
    "        t_filter = get_filter(T, t)\n",
    "        y_filter = get_filter(Y, y)\n",
    "        tc_filter = f'{t_filter} and {c_filter}'\n",
    "        tcy_filter = f'{tc_filter} and {y_filter}'\n",
    "        \n",
    "        n = df.query(tcy_filter).shape[0]\n",
    "        d = df.query(tc_filter).shape[0]\n",
    "        \n",
    "        p_y_given_tc = safe_divide(n, d)\n",
    "\n",
    "        n = df.query(c_filter).shape[0]\n",
    "        d = df.shape[0]\n",
    "\n",
    "        p_c = safe_divide(n, d)\n",
    "\n",
    "        sum_c += (p_y_given_tc * p_c)\n",
    "\n",
    "    return sum_c\n",
    "\n",
    "def get_backdoor_probs(df, T, C, Y, y):\n",
    "    def get_vals(X, x):\n",
    "        return ','.join([f'{_X}={_x}' for _X, _x in zip(X, x)])\n",
    "\n",
    "    def get_key(t):\n",
    "        t_vals = get_vals(T, t)\n",
    "        k = f'P({y_vals}|{t_vals})'\n",
    "        return k\n",
    "        \n",
    "    def compute(t):\n",
    "        return get_backdoor_intv_prob(df, T, t, C, Y, y)\n",
    "\n",
    "    y_vals = get_vals(Y, y)\n",
    "    return {get_key(t): compute(t) for t in get_domain_product_values(df, T)}\n",
    "\n",
    "b_probs = get_backdoor_probs(df, ['T'], ['C'], ['Y'], ['true'])"
   ]
  },
  {
   "cell_type": "markdown",
   "id": "f309aebe-f5c3-4f7e-89ad-94706ea38649",
   "metadata": {},
   "source": [
    "## Compare treatment effect estimations\n",
    "\n",
    "As you can see below, although not identical, the treatment effects using the adjustment formulas are very close. Here's a few different ways the formulas could diverge.\n",
    "\n",
    "- model specification: the model (structure and/or parameters) may be wrong\n",
    "- measurement error: the data could be measured incorrectly\n",
    "- unobserved confounding: there may be other confounders that are not observed\n",
    "- violation of assumptions: assumptions required by the frontdoor and backdoor criterion may be violated\n",
    "- data quality: there may be insufficient data\n"
   ]
  },
  {
   "cell_type": "code",
   "execution_count": 6,
   "id": "35b503d0-09f8-4ca8-9330-2d0dc060bf07",
   "metadata": {},
   "outputs": [
    {
     "data": {
      "text/plain": [
       "0.2485019432382713"
      ]
     },
     "execution_count": 6,
     "metadata": {},
     "output_type": "execute_result"
    }
   ],
   "source": [
    "f_probs['P(Y=true|T=true)'] - f_probs['P(Y=true|T=false)']"
   ]
  },
  {
   "cell_type": "code",
   "execution_count": 7,
   "id": "7140bf84-b64c-4f76-8279-3234d35ffeb1",
   "metadata": {},
   "outputs": [
    {
     "data": {
      "text/plain": [
       "0.2492747359976692"
      ]
     },
     "execution_count": 7,
     "metadata": {},
     "output_type": "execute_result"
    }
   ],
   "source": [
    "b_probs['P(Y=true|T=true)'] - b_probs['P(Y=true|T=false)']"
   ]
  }
 ],
 "metadata": {
  "kernelspec": {
   "display_name": "Python 3 (ipykernel)",
   "language": "python",
   "name": "python3"
  },
  "language_info": {
   "codemirror_mode": {
    "name": "ipython",
    "version": 3
   },
   "file_extension": ".py",
   "mimetype": "text/x-python",
   "name": "python",
   "nbconvert_exporter": "python",
   "pygments_lexer": "ipython3",
   "version": "3.11.5"
  }
 },
 "nbformat": 4,
 "nbformat_minor": 5
}
