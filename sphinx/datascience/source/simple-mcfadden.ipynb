{
 "cells": [
  {
   "cell_type": "markdown",
   "id": "fe2c406f-2105-473e-8a27-ae8e9dfb4a63",
   "metadata": {},
   "source": [
    "# McFadden's Psuedo R^2\n",
    "\n",
    "Here's a simple way to compute McFadden's psuedo R^2."
   ]
  },
  {
   "cell_type": "markdown",
   "id": "5c1144be-32da-45a6-8d26-a21db0e5e09d",
   "metadata": {},
   "source": [
    "## Simulate data"
   ]
  },
  {
   "cell_type": "code",
   "execution_count": 1,
   "id": "e6c1cbf8-4f31-43a7-929e-2ee459877691",
   "metadata": {
    "execution": {
     "iopub.execute_input": "2022-04-30T15:09:04.968618Z",
     "iopub.status.busy": "2022-04-30T15:09:04.968618Z",
     "iopub.status.idle": "2022-04-30T15:09:05.864526Z",
     "shell.execute_reply": "2022-04-30T15:09:05.864526Z",
     "shell.execute_reply.started": "2022-04-30T15:09:04.968618Z"
    },
    "tags": []
   },
   "outputs": [
    {
     "data": {
      "text/plain": [
       "(10000, 4)"
      ]
     },
     "execution_count": 1,
     "metadata": {},
     "output_type": "execute_result"
    }
   ],
   "source": [
    "import numpy as np\n",
    "import pandas as pd\n",
    "import matplotlib.pyplot as plt\n",
    "import seaborn as sns\n",
    "from numpy.random import binomial, normal\n",
    "from scipy.stats import bernoulli, binom\n",
    "\n",
    "np.random.seed(37)\n",
    "sns.set(color_codes=True)\n",
    "\n",
    "def get_data():\n",
    "    n = 10_000\n",
    "    X = np.hstack([\n",
    "        np.ones(n).reshape(n, 1),\n",
    "        normal(0.0, 1.0, n).reshape(n, 1),\n",
    "        normal(0.0, 1.0, n).reshape(n, 1)\n",
    "    ])\n",
    "    z = np.dot(X, np.array([1.0, 2.0, 3.0])) + normal(0.0, 1.0, n)\n",
    "    p = 1.0 / (1.0 + np.exp(-z))\n",
    "    y = binom.rvs(1, p)\n",
    "    \n",
    "    return pd.DataFrame(X, columns=['intercept', 'x1', 'x2']) \\\n",
    "        .assign(y=y)\n",
    "\n",
    "df = get_data()\n",
    "df.shape"
   ]
  },
  {
   "cell_type": "markdown",
   "id": "338399d0-3d24-422d-a819-7f4c9e51dac0",
   "metadata": {},
   "source": [
    "## Create Xy"
   ]
  },
  {
   "cell_type": "code",
   "execution_count": 2,
   "id": "99367746-043f-43bb-9d16-db57296a4920",
   "metadata": {
    "execution": {
     "iopub.execute_input": "2022-04-30T15:09:05.865527Z",
     "iopub.status.busy": "2022-04-30T15:09:05.865527Z",
     "iopub.status.idle": "2022-04-30T15:09:05.880526Z",
     "shell.execute_reply": "2022-04-30T15:09:05.880526Z",
     "shell.execute_reply.started": "2022-04-30T15:09:05.865527Z"
    },
    "tags": []
   },
   "outputs": [
    {
     "data": {
      "text/plain": [
       "((10000, 3), (10000,))"
      ]
     },
     "execution_count": 2,
     "metadata": {},
     "output_type": "execute_result"
    }
   ],
   "source": [
    "f_cols = [c for c in df.columns if c != 'y']\n",
    "n_cols = ['intercept']\n",
    "\n",
    "X, y = df[[c for c in df.columns if c != 'y']], df['y']\n",
    "\n",
    "X.shape, y.shape"
   ]
  },
  {
   "cell_type": "markdown",
   "id": "7f0d3169-27ad-455a-aa8e-39f4715d6aa1",
   "metadata": {},
   "source": [
    "## Create the full and null models"
   ]
  },
  {
   "cell_type": "code",
   "execution_count": 3,
   "id": "d3271ece-3ab3-49ee-bf7e-80b1b2d659e7",
   "metadata": {
    "execution": {
     "iopub.execute_input": "2022-04-30T15:09:05.881527Z",
     "iopub.status.busy": "2022-04-30T15:09:05.881527Z",
     "iopub.status.idle": "2022-04-30T15:09:06.004526Z",
     "shell.execute_reply": "2022-04-30T15:09:06.004526Z",
     "shell.execute_reply.started": "2022-04-30T15:09:05.881527Z"
    },
    "tags": []
   },
   "outputs": [
    {
     "data": {
      "text/plain": [
       "LogisticRegression(fit_intercept=False)"
      ]
     },
     "execution_count": 3,
     "metadata": {},
     "output_type": "execute_result"
    }
   ],
   "source": [
    "from sklearn.linear_model import LogisticRegression\n",
    "\n",
    "f_lr = LogisticRegression(fit_intercept=False, solver='lbfgs')\n",
    "n_lr = LogisticRegression(fit_intercept=False, solver='lbfgs')\n",
    "\n",
    "f_lr.fit(X[f_cols], y)\n",
    "n_lr.fit(X[n_cols], y)"
   ]
  },
  {
   "cell_type": "markdown",
   "id": "42140312-c595-47c6-a5f4-d4b85c0c3089",
   "metadata": {},
   "source": [
    "## Compute psuedo R^2"
   ]
  },
  {
   "cell_type": "code",
   "execution_count": 4,
   "id": "0af8881e-078b-4bdd-a6b9-ade7adae75b0",
   "metadata": {
    "execution": {
     "iopub.execute_input": "2022-04-30T15:09:06.005526Z",
     "iopub.status.busy": "2022-04-30T15:09:06.005526Z",
     "iopub.status.idle": "2022-04-30T15:09:06.020528Z",
     "shell.execute_reply": "2022-04-30T15:09:06.020528Z",
     "shell.execute_reply.started": "2022-04-30T15:09:06.005526Z"
    },
    "tags": []
   },
   "outputs": [
    {
     "data": {
      "text/plain": [
       "(0.34129810791617254, 0.6759731198350962, 0.4951010655580028)"
      ]
     },
     "execution_count": 4,
     "metadata": {},
     "output_type": "execute_result"
    }
   ],
   "source": [
    "from sklearn.metrics import log_loss\n",
    "\n",
    "f_llh = log_loss(y, f_lr.predict_proba(X[f_cols])[:,1])\n",
    "n_llh = log_loss(y, n_lr.predict_proba(X[n_cols])[:,1])\n",
    "\n",
    "f_llh, n_llh, 1 - (f_llh / n_llh)"
   ]
  }
 ],
 "metadata": {
  "kernelspec": {
   "display_name": "Python 3",
   "language": "python",
   "name": "python3"
  },
  "language_info": {
   "codemirror_mode": {
    "name": "ipython",
    "version": 3
   },
   "file_extension": ".py",
   "mimetype": "text/x-python",
   "name": "python",
   "nbconvert_exporter": "python",
   "pygments_lexer": "ipython3",
   "version": "3.8.5"
  },
  "widgets": {
   "application/vnd.jupyter.widget-state+json": {
    "state": {},
    "version_major": 2,
    "version_minor": 0
   }
  }
 },
 "nbformat": 4,
 "nbformat_minor": 5
}
