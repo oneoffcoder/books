{
 "cells": [
  {
   "cell_type": "markdown",
   "metadata": {},
   "source": [
    "# Causal Inference\n",
    "\n",
    "Let's learn about causal inference using Bayesian Belief Networks (BBN)."
   ]
  },
  {
   "cell_type": "code",
   "execution_count": 1,
   "metadata": {},
   "outputs": [],
   "source": [
    "%matplotlib inline\n",
    "import matplotlib.pyplot as plt\n",
    "import numpy as np\n",
    "import pandas as pd\n",
    "import networkx as nx\n",
    "import warnings\n",
    "\n",
    "plt.style.use('seaborn')\n",
    "warnings.filterwarnings('ignore')\n",
    "np.random.seed(37)"
   ]
  },
  {
   "cell_type": "markdown",
   "metadata": {},
   "source": [
    "## Gender, drug and recovery\n",
    "\n",
    "Imagine that we have an illness or disease, and that some patients were given a drug and some were not for treatment. We kept good records of three variables.\n",
    "\n",
    "* gender: whether the patient was female or male\n",
    "* drug: whether the patient took the drug or not\n",
    "* recovery: whether the patient recovered from the illness\n",
    "\n",
    "We can model the interactions of these variables using a BBN. "
   ]
  },
  {
   "cell_type": "markdown",
   "metadata": {},
   "source": [
    "### Structure\n",
    "\n",
    "The structure of a BBN is a directed acyclic graph `DAG`. We will visualize the structure later, but for now, the relationships in the model is as follows.\n",
    "\n",
    "* gender $\\rightarrow$ drug\n",
    "* gender $\\rightarrow$ recovery\n",
    "* drug $\\rightarrow$ recovery"
   ]
  },
  {
   "cell_type": "markdown",
   "metadata": {},
   "source": [
    "### Parameters\n",
    "\n",
    "For each variable, we need to define `local probability models`, and, here, they come in the form of `conditional probability tables`."
   ]
  },
  {
   "cell_type": "code",
   "execution_count": 2,
   "metadata": {},
   "outputs": [
    {
     "name": "stdout",
     "output_type": "stream",
     "text": [
      "[0.49, 0.51]\n"
     ]
    }
   ],
   "source": [
    "gender_probs = [0.49, 0.51]\n",
    "\n",
    "print(gender_probs)"
   ]
  },
  {
   "cell_type": "code",
   "execution_count": 3,
   "metadata": {},
   "outputs": [
    {
     "name": "stdout",
     "output_type": "stream",
     "text": [
      "[0.23323615160349853, 0.7667638483965015]\n",
      "[0.7563025210084033, 0.24369747899159663]\n"
     ]
    }
   ],
   "source": [
    "drug_probs = [0.23323615160349853, 0.7667638483965015,\n",
    "              0.7563025210084033, 0.24369747899159663]\n",
    "\n",
    "print(drug_probs[0:2])\n",
    "print(drug_probs[2:4])"
   ]
  },
  {
   "cell_type": "code",
   "execution_count": 4,
   "metadata": {},
   "outputs": [
    {
     "name": "stdout",
     "output_type": "stream",
     "text": [
      "[0.31000000000000005, 0.69]\n",
      "[0.27, 0.73]\n",
      "[0.13, 0.87]\n",
      "[0.06999999999999995, 0.93]\n"
     ]
    }
   ],
   "source": [
    "recovery_probs = [0.31000000000000005, 0.69, \n",
    "                  0.27, 0.73, \n",
    "                  0.13, 0.87, \n",
    "                  0.06999999999999995, 0.93]\n",
    "\n",
    "print(recovery_probs[0:2])\n",
    "print(recovery_probs[2:4])\n",
    "print(recovery_probs[4:6])\n",
    "print(recovery_probs[6:8])"
   ]
  },
  {
   "cell_type": "markdown",
   "metadata": {},
   "source": [
    "### Bayesian network\n",
    "\n",
    "With the structure and parameters defined, now we can build a BBN."
   ]
  },
  {
   "cell_type": "code",
   "execution_count": 5,
   "metadata": {},
   "outputs": [],
   "source": [
    "from pybbn.graph.dag import Bbn\n",
    "from pybbn.graph.edge import Edge, EdgeType\n",
    "from pybbn.graph.jointree import EvidenceBuilder\n",
    "from pybbn.graph.node import BbnNode\n",
    "from pybbn.graph.variable import Variable\n",
    "from pybbn.pptc.inferencecontroller import InferenceController\n",
    "\n",
    "X = BbnNode(Variable(1, 'drug', ['false', 'true']), drug_probs)\n",
    "Y = BbnNode(Variable(2, 'recovery', ['false', 'true']), recovery_probs)\n",
    "Z = BbnNode(Variable(0, 'gender', ['female', 'male']), gender_probs)\n",
    "\n",
    "bbn = Bbn() \\\n",
    "    .add_node(X) \\\n",
    "    .add_node(Y) \\\n",
    "    .add_node(Z) \\\n",
    "    .add_edge(Edge(Z, X, EdgeType.DIRECTED)) \\\n",
    "    .add_edge(Edge(Z, Y, EdgeType.DIRECTED)) \\\n",
    "    .add_edge(Edge(X, Y, EdgeType.DIRECTED))"
   ]
  },
  {
   "cell_type": "markdown",
   "metadata": {},
   "source": [
    "### Visualize Bayesian network structure\n",
    "\n",
    "Let's see the structure of this network."
   ]
  },
  {
   "cell_type": "code",
   "execution_count": 6,
   "metadata": {},
   "outputs": [],
   "source": [
    "g, labels = bbn.to_nx_graph()"
   ]
  },
  {
   "cell_type": "code",
   "execution_count": 7,
   "metadata": {},
   "outputs": [
    {
     "data": {
      "image/png": "[encoded data removed]",
      "text/plain": [
       "<Figure size 720x360 with 1 Axes>"
      ]
     },
     "metadata": {},
     "output_type": "display_data"
    }
   ],
   "source": [
    "fig, ax = plt.subplots(figsize=(10, 5))\n",
    "\n",
    "pos = nx.nx_agraph.graphviz_layout(g, prog='dot', args='-Kdot')\n",
    "\n",
    "params = {\n",
    "    'node_color': 'r',\n",
    "    'node_size': 1000,\n",
    "    'node_shape': 'o',\n",
    "    'alpha': 0.5,\n",
    "    'pos': pos,\n",
    "    'ax': ax\n",
    "}\n",
    "_ = nx.drawing.nx_pylab.draw_networkx_nodes(g, **params)\n",
    "\n",
    "params = {\n",
    "    'labels': labels,\n",
    "    'font_size': 20,\n",
    "    'font_color': 'k',\n",
    "    'font_family': 'monospace',\n",
    "    'font_weight': 'bold',\n",
    "    'pos': pos,\n",
    "    'ax': ax\n",
    "}\n",
    "_ = nx.drawing.nx_pylab.draw_networkx_labels(g, **params)\n",
    "\n",
    "params = {\n",
    "    'width': 1.5,\n",
    "    'alpha': 0.8,\n",
    "    'edge_color': 'b',\n",
    "    'arrowsize': 30,\n",
    "    'pos': pos,\n",
    "    'ax': ax\n",
    "}\n",
    "_ = nx.drawing.nx_pylab.draw_networkx_edges(g, **params)\n",
    "\n",
    "_ = ax.set_title('Gender, drug and recovery')\n",
    "\n",
    "plt.tight_layout()"
   ]
  },
  {
   "cell_type": "markdown",
   "metadata": {},
   "source": [
    "## Sample data\n",
    "\n",
    "Let's sample some data from the BBN and observe some summary statistics about the sampled data. Additionally, the data will help us answer if taking the drug does really help in recovery."
   ]
  },
  {
   "cell_type": "code",
   "execution_count": 8,
   "metadata": {},
   "outputs": [],
   "source": [
    "from pybbn.sampling.sampling import LogicSampler\n",
    "\n",
    "sampler = LogicSampler(bbn)\n",
    "data = pd.DataFrame(sampler.get_samples(n_samples=10000, seed=37))\n",
    "data = data.rename(columns=labels)"
   ]
  },
  {
   "cell_type": "markdown",
   "metadata": {},
   "source": [
    "## Simpson's paradox\n",
    "\n",
    "In general, the sample population made good recovery (80%)."
   ]
  },
  {
   "cell_type": "code",
   "execution_count": 9,
   "metadata": {},
   "outputs": [
    {
     "data": {
      "image/png": "[encoded data removed]",
      "text/plain": [
       "<Figure size 504x288 with 1 Axes>"
      ]
     },
     "metadata": {
      "needs_background": "light"
     },
     "output_type": "display_data"
    }
   ],
   "source": [
    "s = data.recovery.value_counts().sort_index()\n",
    "s /= s.sum()\n",
    "\n",
    "fig, ax = plt.subplots(figsize=(7, 4))\n",
    "_ = s.plot.bar(ax=ax, color=['b', 'r'])\n",
    "_ = ax.set_title('General recovery')\n",
    "_ = ax.set_ylabel('%')"
   ]
  },
  {
   "cell_type": "markdown",
   "metadata": {},
   "source": [
    "If we segment recovery by whether or not a patient takes the drug, we find that \n",
    "\n",
    "* `82%` of patients recovered if they did **NOT** take the drug, compared to `78%` if they did take the drug (not taking the drug **increases** your chance of recovery), and\n",
    "* `18%` of the patients did **NOT** recover if they did **NOT** take the drug, compared to `22%` if they did **NOT** recover but did take the drug (not taking the drug **decreases** of chance of not recovering). \n",
    "\n",
    "The comparison might lead one to interpret the outcome that **NOT** taking the drug gives us a better chance of recovery."
   ]
  },
  {
   "cell_type": "code",
   "execution_count": 10,
   "metadata": {},
   "outputs": [
    {
     "data": {
      "image/png": "[encoded data removed]",
      "text/plain": [
       "<Figure size 504x288 with 1 Axes>"
      ]
     },
     "metadata": {
      "needs_background": "light"
     },
     "output_type": "display_data"
    }
   ],
   "source": [
    "s0 = data[data.drug == 'false'].recovery.value_counts().sort_index()\n",
    "s0 /= s0.sum()\n",
    "\n",
    "s1 = data[data.drug == 'true'].recovery.value_counts().sort_index()\n",
    "s1 /= s1.sum()\n",
    "\n",
    "fig, ax = plt.subplots(figsize=(7, 4))\n",
    "_ = pd.DataFrame(\n",
    "    [[s0[0], s1[0]], [s0[1], s1[1]]], \n",
    "    columns=['drug=false', 'drug=true'], \n",
    "    index=['recovered=false', 'recovered=true']).plot.bar(ax=ax, color=['b', 'r'])"
   ]
  },
  {
   "cell_type": "markdown",
   "metadata": {},
   "source": [
    "Now, we segment based on gender. Notice \n",
    "\n",
    "* for both females and males, taking the drug did increase recovery, and\n",
    "* for both females and males, not taking the drug did decrease non-recovery.\n",
    "\n",
    "The observation here contradicts the one we had before without segmenting on gender. Before, not taking the drug was helpful, now, segmenting on gender, not taking the drug is harmful. This contradiction is `Simpson's paradox`. So is taking the drug helpful or harmful?"
   ]
  },
  {
   "cell_type": "code",
   "execution_count": 11,
   "metadata": {},
   "outputs": [
    {
     "data": {
      "image/png": "[encoded data removed]",
      "text/plain": [
       "<Figure size 1080x288 with 2 Axes>"
      ]
     },
     "metadata": {
      "needs_background": "light"
     },
     "output_type": "display_data"
    }
   ],
   "source": [
    "df = data[data.gender == 'female']\n",
    "\n",
    "s0 = df[df.drug == 'false'].recovery.value_counts().sort_index()\n",
    "s0 /= s0.sum()\n",
    "\n",
    "s1 = df[df.drug == 'true'].recovery.value_counts().sort_index()\n",
    "s1 /= s1.sum()\n",
    "\n",
    "f_df = pd.DataFrame(\n",
    "    [[s0[0], s1[0]], [s0[1], s1[1]]], \n",
    "    columns=['drug=false', 'drug=true'], \n",
    "    index=['recovered=false', 'recovered=true'])\n",
    "\n",
    "df = data[data.gender == 'male']\n",
    "\n",
    "s0 = df[df.drug == 'false'].recovery.value_counts().sort_index()\n",
    "s0 /= s0.sum()\n",
    "\n",
    "s1 = df[df.drug == 'true'].recovery.value_counts().sort_index()\n",
    "s1 /= s1.sum()\n",
    "\n",
    "m_df = pd.DataFrame(\n",
    "    [[s0[0], s1[0]], [s0[1], s1[1]]], \n",
    "    columns=['drug=false', 'drug=true'], \n",
    "    index=['recovered=false', 'recovered=true'])\n",
    "\n",
    "fig, ax = plt.subplots(1, 2, figsize=(15, 4))\n",
    "\n",
    "_ = f_df.plot.bar(ax=ax[0], color=['b', 'r'])\n",
    "_ = m_df.plot.bar(ax=ax[1], color=['b', 'r'])\n",
    "\n",
    "_ = ax[0].set_title('Female recovery')\n",
    "_ = ax[1].set_title('Male recovery')"
   ]
  },
  {
   "cell_type": "markdown",
   "metadata": {},
   "source": [
    "## do-operator\n",
    "\n",
    "Dr. Judea Pearl says that we can find out if taking the drug does really help or harm recovery (direction) and by how much (magnitude). Dr. Pearl starts by distguishing between `conditional` and `interventional` probabilities. \n",
    "\n",
    "* The `conditional` probabilities are what we are observing and interpreting above. Conditional probabilities are the result of merely filtering through data.\n",
    "* The `interventional` probabilities are the ones that result if we can somehow manipulate or intervene in the treatment process. Interventional probabilities are the result of changing the system/process, and thus, the data.\n",
    "\n",
    "Said by Dr. Pearl.\n",
    "\n",
    "* When we condition on a variable, we change nothing; we merely narrow our foucs to the subset of cases in which the variable takes the value we are interested in. What changes, then, is our **perception** about the world, **not the world itself**.\n",
    "\n",
    "Among many other amazing results, his `casual calculus` is able to frame `interventional probabilities` in terms of `conditional probabilities` and directly addresses causal inference in `observational data` (which is quite often controversial to use to draw causal conclusions, as opposed to `experimental data`). The main idea behind causal inference or estimating causal impact is the `do-operator`. The `do-operator` is the most simplest thing to do (no pun intended), but it takes some careful and critical thinking into why it actually works. In a nutshell, the `do-operator` is a graphical procedure where we remove the incoming links to a node (e.g. drug) for which we are trying to estimate causal impact (removing the links from a node's parents) to another node (e.g. recovery). This operation is `graph surgery` as we are cutting the graph and removing edges. Once we have the `manipulated graph` from the `do-operation`, we are able to estimate causal impact. Note that the `do-operator` enables us to estimate causal impact because it removes spurious paths. \n",
    "\n",
    "With the `do-operator`, we can estimate casual impact as follows (Pearl calls this equation the `adjustment formula`).\n",
    "\n",
    "$P_m(Y=y|X=x) = P(Y=y|\\text{do}(X=x)) = \\displaystyle \\sum_z P(Y=y|X=x, Z=z)P(Z=z)$\n",
    "\n",
    "Where\n",
    "\n",
    "* $P_m(Y=y|X=x)$ is the interventional probability of $Y$ given $X$ (uses manipulated model)\n",
    "\n",
    "In our running example,\n",
    "\n",
    "* $X$ is drug,\n",
    "* $Y$ is recovery, and\n",
    "* $Z$ is gender.\n",
    "\n",
    "Again, note that the `interventional probability` $P_m$ is defined entirely in terms of $P$, the `conditional probability` (the `do-operator` does not apply in the manipulated model or graph). Wow! Since we have a way to compute $P_m$ in terms of $P$, we do not really have to do graph surgery. We can leave the graph structure as it is; or leave the edges as they are. Now, we need to find nodes to condition on to block spurious paths. The `backdoor criterion`, can help us identify which set of variables to focus on. Stated by Perl.\n",
    "\n",
    "* Backdoor Criterion: Given an ordered pair of variables (X, Y) in a directed acylic graph G, a set of variables Z satisfies the backdoor criterion relative to (X, Y) if no node in Z is a descendant of X, and Z blocks every path between X and Y that contains an arrow into it. \n",
    "\n",
    "Any set of variables $Z$ that `d-separates` $X$ and $Y$ satisfies the backdoor criterion."
   ]
  },
  {
   "cell_type": "markdown",
   "metadata": {},
   "source": [
    "## Causal impact of drug on recovery\n",
    "\n",
    "Let's see if we can use the `adjustment formula` to estimate the causal impact of drug on recovery. The data we sampled earlier will help us compute the conditional and marginal probabilities required. In expanded form, the adjustment formula looks like the following.\n",
    "\n",
    "* $P(Y=1|\\text{do}(X=1)) = P(Y=1|X=1,Z=1)P(Z=1) + P(Y=1|X=1,Z=0)P(Z=0)$\n",
    "* $P(Y=1|\\text{do}(X=0)) = P(Y=1|X=0,Z=1)P(Z=1) + P(Y=1|X=0,Z=0)P(Z=0)$\n",
    "\n",
    "$P(Y=1|\\text{do}(X=1))$ is the interventional probability of recovery given that we have taken the drug, and $P(Y=1|\\text{do}(X=0))$ is the interventional probability of recovery given that we have **NOT** taken the drug.\n",
    "\n",
    "The average causal effect `ACE` is given as follows.\n",
    "\n",
    "$\\text{ACE} = P(Y=1|\\text{do}(X=1)) - P(Y=1|\\text{do}(X=0))$\n",
    "\n",
    "The `ACE` is the expected casual impact of recovery using the drug."
   ]
  },
  {
   "cell_type": "code",
   "execution_count": 12,
   "metadata": {},
   "outputs": [
    {
     "name": "stdout",
     "output_type": "stream",
     "text": [
      "P(Y=1|do(X=1)) = 0.82931\n"
     ]
    }
   ],
   "source": [
    "def get_prob(q):\n",
    "    return data.query(q).shape[0] / N\n",
    "\n",
    "N = data.shape[0]\n",
    "\n",
    "n = get_prob('recovery==\"true\" and drug==\"true\" and gender==\"male\"')\n",
    "d = get_prob('drug==\"true\" and gender==\"male\"')\n",
    "p_y1_x1z1 = n / d\n",
    "\n",
    "n = get_prob('recovery==\"true\" and drug==\"true\" and gender==\"female\"')\n",
    "d = get_prob('drug==\"true\" and gender==\"female\"')\n",
    "p_y1_x1z0 = n / d\n",
    "\n",
    "p_z1 = data[data.gender == 'male'].shape[0] / N\n",
    "p_z0 = data[data.gender == 'female'].shape[0] / N\n",
    "\n",
    "do_y1x1 = p_y1_x1z1 * p_z1 + p_y1_x1z0 * p_z0\n",
    "print(f'P(Y=1|do(X=1)) = {do_y1x1:.5f}')"
   ]
  },
  {
   "cell_type": "code",
   "execution_count": 13,
   "metadata": {},
   "outputs": [
    {
     "name": "stdout",
     "output_type": "stream",
     "text": [
      "P(Y=1|do(X=0)) = 0.77281\n"
     ]
    }
   ],
   "source": [
    "n = get_prob('recovery==\"true\" and drug==\"false\" and gender==\"male\"')\n",
    "d = get_prob('drug==\"false\" and gender==\"male\"')\n",
    "p_y1_x0z1 = n / d\n",
    "\n",
    "n = get_prob('recovery==\"true\" and drug==\"false\" and gender==\"female\"')\n",
    "d = get_prob('drug==\"false\" and gender==\"female\"')\n",
    "p_y1_x0z0 = n / d\n",
    "\n",
    "do_y1x0 = p_y1_x0z1 * p_z1 + p_y1_x0z0 * p_z0\n",
    "print(f'P(Y=1|do(X=0)) = {do_y1x0:.5f}')"
   ]
  },
  {
   "cell_type": "code",
   "execution_count": 14,
   "metadata": {},
   "outputs": [
    {
     "name": "stdout",
     "output_type": "stream",
     "text": [
      "ACE = 0.05650\n"
     ]
    }
   ],
   "source": [
    "ace = do_y1x1 - do_y1x0\n",
    "print(f'ACE = {ace:.5f}')"
   ]
  },
  {
   "cell_type": "markdown",
   "metadata": {},
   "source": [
    "We get an increase of about 6% (direction and magnitude) in recovery if we take the drug. Notice how we did not have to actually employ graph surgery or the `do-operator` and we used the backdoor criterion and only the conditional and marginal probabilities? "
   ]
  },
  {
   "cell_type": "markdown",
   "metadata": {},
   "source": [
    "## Manipulated graph\n",
    "\n",
    "We can actually use the `do-operator` and get a `manipulated graph` and simply compute the interventional conditional."
   ]
  },
  {
   "cell_type": "code",
   "execution_count": 15,
   "metadata": {},
   "outputs": [
    {
     "data": {
      "text/plain": [
       "{'drug': {'false': 0.5, 'true': 0.5},\n",
       " 'recovery': {'false': 0.1931, 'true': 0.8069},\n",
       " 'gender': {'female': 0.49, 'male': 0.51}}"
      ]
     },
     "execution_count": 15,
     "metadata": {},
     "output_type": "execute_result"
    }
   ],
   "source": [
    "# notice the parameter change in X (drug or drug probabilities)\n",
    "gender_probs = [0.49, 0.51]\n",
    "drug_probs = [0.5, 0.5]\n",
    "recovery_probs = [0.31000000000000005, 0.69, \n",
    "                  0.27, 0.73, \n",
    "                  0.13, 0.87, \n",
    "                  0.06999999999999995, 0.93]\n",
    "\n",
    "X = BbnNode(Variable(1, 'drug', ['false', 'true']), drug_probs)\n",
    "Y = BbnNode(Variable(2, 'recovery', ['false', 'true']), recovery_probs)\n",
    "Z = BbnNode(Variable(0, 'gender', ['female', 'male']), gender_probs)\n",
    "\n",
    "# notice the missing edge Z -> X\n",
    "bbn = Bbn() \\\n",
    "    .add_node(X) \\\n",
    "    .add_node(Y) \\\n",
    "    .add_node(Z) \\\n",
    "    .add_edge(Edge(Z, Y, EdgeType.DIRECTED)) \\\n",
    "    .add_edge(Edge(X, Y, EdgeType.DIRECTED))\n",
    "\n",
    "join_tree = InferenceController.apply(bbn)\n",
    "join_tree.get_posteriors()"
   ]
  },
  {
   "cell_type": "markdown",
   "metadata": {},
   "source": [
    "$P(Y=1|\\text{do}(X=1)) = 0.832$"
   ]
  },
  {
   "cell_type": "code",
   "execution_count": 16,
   "metadata": {},
   "outputs": [
    {
     "data": {
      "text/plain": [
       "{'drug': {'false': 0.0, 'true': 1.0},\n",
       " 'recovery': {'false': 0.16799999999999998, 'true': 0.8320000000000001},\n",
       " 'gender': {'female': 0.49, 'male': 0.51}}"
      ]
     },
     "execution_count": 16,
     "metadata": {},
     "output_type": "execute_result"
    }
   ],
   "source": [
    "ev = EvidenceBuilder() \\\n",
    "    .with_node(join_tree.get_bbn_node_by_name('drug')) \\\n",
    "    .with_evidence('true', 1.0) \\\n",
    "    .build()\n",
    "join_tree.unobserve_all()\n",
    "join_tree.set_observation(ev)\n",
    "join_tree.get_posteriors()"
   ]
  },
  {
   "cell_type": "markdown",
   "metadata": {},
   "source": [
    "$P(Y=1|\\text{do}(X=0)) = 0.782$"
   ]
  },
  {
   "cell_type": "code",
   "execution_count": 17,
   "metadata": {},
   "outputs": [
    {
     "data": {
      "text/plain": [
       "{'drug': {'false': 1.0, 'true': 0.0},\n",
       " 'recovery': {'false': 0.21820000000000003, 'true': 0.7817999999999999},\n",
       " 'gender': {'female': 0.49, 'male': 0.51}}"
      ]
     },
     "execution_count": 17,
     "metadata": {},
     "output_type": "execute_result"
    }
   ],
   "source": [
    "ev = EvidenceBuilder() \\\n",
    "    .with_node(join_tree.get_bbn_node_by_name('drug')) \\\n",
    "    .with_evidence('false', 1.0) \\\n",
    "    .build()\n",
    "join_tree.unobserve_all()\n",
    "join_tree.set_observation(ev)\n",
    "join_tree.get_posteriors()"
   ]
  },
  {
   "cell_type": "markdown",
   "metadata": {},
   "source": [
    "$\\text{ACE} = P(Y=1|\\text{do}(X=1)) - P(Y=1|\\text{do}(X=0)) = 0.05$ which is not too far off from using the `adjustment formula` based on the sampled data."
   ]
  }
 ],
 "metadata": {
  "kernelspec": {
   "display_name": "Python 3",
   "language": "python",
   "name": "python3"
  },
  "language_info": {
   "codemirror_mode": {
    "name": "ipython",
    "version": 3
   },
   "file_extension": ".py",
   "mimetype": "text/x-python",
   "name": "python",
   "nbconvert_exporter": "python",
   "pygments_lexer": "ipython3",
   "version": "3.8.5"
  },
  "widgets": {
   "application/vnd.jupyter.widget-state+json": {
    "state": {},
    "version_major": 2,
    "version_minor": 0
   }
  }
 },
 "nbformat": 4,
 "nbformat_minor": 4
}
