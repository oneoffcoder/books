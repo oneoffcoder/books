{
 "cells": [
  {
   "cell_type": "markdown",
   "metadata": {},
   "source": [
    "# Restricted Boltzmann Machine\n",
    "\n",
    "[Restricted Boltzmann Machines](https://en.wikipedia.org/wiki/Restricted_Boltzmann_machine) (RBMs) are a special type of neural networks (NNs) with 2 layers: a __visible layer__ and a __hidden layer__. A RBM is __restricted__ in the sense that there are no inter-node connections (nodes within a layer have no connections between one another). Thus, the visible-to-hidden architecture of a RBM forms what is called a [bipartite graph](https://en.wikipedia.org/wiki/Bipartite_graph). The application of RBMs span several problem areas, including but not limited to, natural language processing (NLP), recommendations, feature selection, and sequencing. \n",
    "\n",
    "One heavy use of RBMs is in the area of latent variable analysis; RBMs can be used to model observed variables with the visible layer and the latent or conceptual variables with the hidden layer. For example, in topic modeling, the visible nodes can represent words, and the hidden nodes can represent topics. Although a RBM is simply 2 layers, one may stack or chain together many RBMs in what is called a [deep belief network](https://en.wikipedia.org/wiki/Deep_belief_network). In a deep belief network, the output of the hidden layer of a RBM is the input to the next RBM. \n",
    "\n",
    "As with any NN, the connections between the nodes are associated with weights. However, learning these weights in a RBM is slightly different from learning the weights in other NNs. For example, when we learn the weights in a [multilayer perceptron](https://en.wikipedia.org/wiki/Multilayer_perceptron), we adjust the weights, __not__ directly with respect to the input variables, but the output variable (in supervised learning). On the other hand, when we learn the weights in a RBM, we adjust the weights directly with respect to the input variables. When using RBMs for latent variable analysis, typically, the number of nodes in the visible layer is larger than the number of nodes in the hidden layer; essentially, we are encoding the data in its original (visible) larger space to a smaller (hidden) space. As such, RBMs are often called [autoencoders](https://en.wikipedia.org/wiki/Autoencoder) because they are compressing the data or reducing the dimensionality of the data. Now, in a deep belief network, in the context of latent variable analysis, subsequent layers may be interpreted as higher and higher abstractions of the data. Going back to topic modeling, words can be abstracted to topics such as tennis, football, soccer, sports utility vehicle, sedan, coupe, and those topics can be abstracted to higher order topics such as sports and cars. Generally speaking, in a deep networks, it is interpreted that each layer is learning a different feature of the data; for example, in image processing of faces, one layer may be learning the mouth, another the eyes, and another the ears. \n",
    "\n",
    "This notebook focuses only on RBMs. Since a RBM is a NN, the weights could be learned using gradient descent, but, the original approach to learning the weights is known as __contrastive divergence__, which is approximate gradient descent. What is contrastive divergence (CD)? One possibly good way to understand CD is to remember that we are encoding the data from high to low dimensional space, and if we are really good at encoding the data into lower dimensional space, then we can reconstruct or decode the data from lower dimensional space back to higher dimensional space faithfully. Going back to topic modeling, if we have encoded words (visible) to topics (hidden), we can see if the encoding was any good at all by generating words from the topics (decoding). If the distribution of words that we generate from the topics closely resembles the original distribution of words, then we have learned a pretty good RBM model. CD is a measure of the divergence of the original distribution of the data from the generated distribution of the data from the hidden nodes. This measure of distribution divergence is typically measured using the [Kullback-Leibler divergence](https://en.wikipedia.org/wiki/Kullback%E2%80%93Leibler_divergence). The magnitude of the CD is what we use to adjust the weights. Note the following equation on updating the weights.\n",
    "\n",
    "$w^{*} = w + \\alpha \\nabla \\log p(v)$\n",
    "\n",
    "where\n",
    "\n",
    "* $w^{*}$ is the new weight\n",
    "* $w$ is the current weight\n",
    "* $\\alpha$ is the learning weight\n",
    "* $\\nabla \\log p(v)$ is the gradient of the log probability of the data\n",
    "\n",
    "This equation is essentially the same weight updating rule for all NNs. However, $\\log p(v)$ cannot be computed directly, and instead, alternating [Gibbs sampling](https://en.wikipedia.org/wiki/Gibbs_sampling) must be used. The use of alternating Gibbs sampling is not hard to understand; we alternate because we must sample from the hidden layer to generate the states of the visible layer, then we swap (alternate) to sampling from the visible layer to generate the states of the hidden layer. \n",
    "\n",
    "The code below is borrowed heavily from [here](http://blog.echen.me/2011/07/18/introduction-to-restricted-boltzmann-machines/). What is interesting about a RBM model is that after you learn it, you can do the following.\n",
    "\n",
    "* query which hidden nodes are activated by which visible nodes\n",
    "* query which visible nodes are activated by which hidden nodes\n",
    "* let the model daydream or dream, by generating new data\n",
    "\n",
    "Going back to topic modeling, we can \n",
    "\n",
    "* query which topics are associated with which words\n",
    "* query which words are associated with which topics\n",
    "* let the model generate new words\n",
    "\n",
    "We have 2 examples to play with in this notebook. \n",
    "\n",
    "* Use a RBM to learn the categories of movie preferences.\n",
    "* Use a RBM to learn the categories of names.\n",
    "\n",
    "Additionally, we will learn the weights using batch, stochastic, and mini-batch descent methods and observe the error (loss) over training iterations."
   ]
  },
  {
   "cell_type": "markdown",
   "metadata": {},
   "source": [
    "## Example RBM architecture"
   ]
  },
  {
   "cell_type": "code",
   "execution_count": 1,
   "metadata": {
    "ExecuteTime": {
     "end_time": "2018-05-24T23:00:02.345000Z",
     "start_time": "2018-05-24T23:00:02.310000Z"
    }
   },
   "outputs": [
    {
     "data": {
      "text/html": [
       "<svg height=\"300\" width=\"600\">\n",
       "    <!-- arcs from hidden unit 1 to visible units -->\n",
       "    <line x1=\"160\" y1=\"50\" x2=\"40\" y2=\"200\" style=\"stroke:rgb(0,0,0);stroke-width:1\" />\n",
       "    <line x1=\"160\" y1=\"50\" x2=\"120\" y2=\"200\" style=\"stroke:rgb(0,0,0);stroke-width:1\" />\n",
       "    <line x1=\"160\" y1=\"50\" x2=\"200\" y2=\"200\" style=\"stroke:rgb(0,0,0);stroke-width:1\" />\n",
       "    <line x1=\"160\" y1=\"50\" x2=\"280\" y2=\"200\" style=\"stroke:rgb(0,0,0);stroke-width:1\" />\n",
       "    <line x1=\"160\" y1=\"50\" x2=\"360\" y2=\"200\" style=\"stroke:rgb(0,0,0);stroke-width:1\" />\n",
       "    <line x1=\"160\" y1=\"50\" x2=\"440\" y2=\"200\" style=\"stroke:rgb(0,0,0);stroke-width:1\" />\n",
       "    \n",
       "    <!-- arcs from hidden unit 2 to visible units -->\n",
       "    <line x1=\"320\" y1=\"50\" x2=\"40\" y2=\"200\" style=\"stroke:rgb(180,180,180);stroke-width:1\" />\n",
       "    <line x1=\"320\" y1=\"50\" x2=\"120\" y2=\"200\" style=\"stroke:rgb(180,180,180);stroke-width:1\" />\n",
       "    <line x1=\"320\" y1=\"50\" x2=\"200\" y2=\"200\" style=\"stroke:rgb(180,180,180);stroke-width:1\" />\n",
       "    <line x1=\"320\" y1=\"50\" x2=\"280\" y2=\"200\" style=\"stroke:rgb(180,180,180);stroke-width:1\" />\n",
       "    <line x1=\"320\" y1=\"50\" x2=\"360\" y2=\"200\" style=\"stroke:rgb(180,180,180);stroke-width:1\" />\n",
       "    <line x1=\"320\" y1=\"50\" x2=\"440\" y2=\"200\" style=\"stroke:rgb(180,180,180);stroke-width:1\" />\n",
       "    \n",
       "    <line x1=\"540\" y1=\"120\" x2=\"160\" y2=\"50\" style=\"stroke:rgba(0,100,0, 0.5);stroke-width:0.5\" />\n",
       "    <line x1=\"540\" y1=\"120\" x2=\"320\" y2=\"50\" style=\"stroke:rgba(0,100,0, 0.5);stroke-width:0.5\" />\n",
       "    <line x1=\"540\" y1=\"120\" x2=\"40\" y2=\"200\" style=\"stroke:rgba(0,100,0, 0.5);stroke-width:0.5\" />\n",
       "    <line x1=\"540\" y1=\"120\" x2=\"120\" y2=\"200\" style=\"stroke:rgba(0,100,0, 0.5);stroke-width:0.5\" />\n",
       "    <line x1=\"540\" y1=\"120\" x2=\"200\" y2=\"200\" style=\"stroke:rgba(0,100,0, 0.5);stroke-width:0.5\" />\n",
       "    <line x1=\"540\" y1=\"120\" x2=\"280\" y2=\"200\" style=\"stroke:rgba(0,100,0, 0.5);stroke-width:0.5\" />\n",
       "    <line x1=\"540\" y1=\"120\" x2=\"360\" y2=\"200\" style=\"stroke:rgba(0,100,0, 0.5);stroke-width:0.5\" />\n",
       "    <line x1=\"540\" y1=\"120\" x2=\"440\" y2=\"200\" style=\"stroke:rgba(0,100,0, 0.5);stroke-width:0.5\" />\n",
       "    \n",
       "    <!-- hidden units -->\n",
       "    <circle cx=\"160\" cy=\"50\" r=\"20\" stroke=\"red\" stroke-width=\"2\" fill=\"white\" />\n",
       "    <circle cx=\"320\" cy=\"50\" r=\"20\" stroke=\"red\" stroke-width=\"2\" fill=\"white\" />\n",
       "    \n",
       "    <text x=\"154\" y=\"55\"><tspan>h<tspan dy=\"5\">1</tspan></tspan></text>\n",
       "    <text x=\"314\" y=\"55\"><tspan>h<tspan dy=\"5\">2</tspan></tspan></text>\n",
       "    \n",
       "    <!-- visible units-->\n",
       "    <circle cx=\"40\" cy=\"200\" r=\"20\" stroke=\"blue\" stroke-width=\"2\" fill=\"white\" />\n",
       "    <circle cx=\"120\" cy=\"200\" r=\"20\" stroke=\"blue\" stroke-width=\"2\" fill=\"white\" />\n",
       "    <circle cx=\"200\" cy=\"200\" r=\"20\" stroke=\"blue\" stroke-width=\"2\" fill=\"white\" />\n",
       "    <circle cx=\"280\" cy=\"200\" r=\"20\" stroke=\"blue\" stroke-width=\"2\" fill=\"white\" />\n",
       "    <circle cx=\"360\" cy=\"200\" r=\"20\" stroke=\"blue\" stroke-width=\"2\" fill=\"white\" />\n",
       "    <circle cx=\"440\" cy=\"200\" r=\"20\" stroke=\"blue\" stroke-width=\"2\" fill=\"white\" />\n",
       "    \n",
       "    <text x=\"34\" y=\"200\"><tspan>v<tspan dy=\"5\">1</tspan></tspan></text>\n",
       "    <text x=\"114\" y=\"200\"><tspan>v<tspan dy=\"5\">2</tspan></tspan></text>\n",
       "    <text x=\"194\" y=\"200\"><tspan>v<tspan dy=\"5\">3</tspan></tspan></text>\n",
       "    <text x=\"274\" y=\"200\"><tspan>v<tspan dy=\"5\">4</tspan></tspan></text>\n",
       "    <text x=\"354\" y=\"200\"><tspan>v<tspan dy=\"5\">5</tspan></tspan></text>\n",
       "    <text x=\"434\" y=\"200\"><tspan>v<tspan dy=\"5\">6</tspan></tspan></text>\n",
       "    \n",
       "    <!-- bias unit -->\n",
       "    <circle cx=\"540\" cy=\"120\" r=\"20\" stroke=\"black\" stroke-width=\"2\" fill=\"white\" />\n",
       "    <text x=\"535\" y=\"123\"><tspan>b</tspan></text>\n",
       "</svg> \n",
       "\n",
       "<p>\n",
       "An example RBM with 6 nodes in the visible layer, and 2 nodes in the hidden layer. \n",
       "There is a bias node as a part of the architecture.\n",
       "</p>\n"
      ],
      "text/plain": [
       "<IPython.core.display.HTML object>"
      ]
     },
     "metadata": {},
     "output_type": "display_data"
    }
   ],
   "source": [
    "%%html\n",
    "<svg height=\"300\" width=\"600\">\n",
    "    <!-- arcs from hidden unit 1 to visible units -->\n",
    "    <line x1=\"160\" y1=\"50\" x2=\"40\" y2=\"200\" style=\"stroke:rgb(0,0,0);stroke-width:1\" />\n",
    "    <line x1=\"160\" y1=\"50\" x2=\"120\" y2=\"200\" style=\"stroke:rgb(0,0,0);stroke-width:1\" />\n",
    "    <line x1=\"160\" y1=\"50\" x2=\"200\" y2=\"200\" style=\"stroke:rgb(0,0,0);stroke-width:1\" />\n",
    "    <line x1=\"160\" y1=\"50\" x2=\"280\" y2=\"200\" style=\"stroke:rgb(0,0,0);stroke-width:1\" />\n",
    "    <line x1=\"160\" y1=\"50\" x2=\"360\" y2=\"200\" style=\"stroke:rgb(0,0,0);stroke-width:1\" />\n",
    "    <line x1=\"160\" y1=\"50\" x2=\"440\" y2=\"200\" style=\"stroke:rgb(0,0,0);stroke-width:1\" />\n",
    "    \n",
    "    <!-- arcs from hidden unit 2 to visible units -->\n",
    "    <line x1=\"320\" y1=\"50\" x2=\"40\" y2=\"200\" style=\"stroke:rgb(180,180,180);stroke-width:1\" />\n",
    "    <line x1=\"320\" y1=\"50\" x2=\"120\" y2=\"200\" style=\"stroke:rgb(180,180,180);stroke-width:1\" />\n",
    "    <line x1=\"320\" y1=\"50\" x2=\"200\" y2=\"200\" style=\"stroke:rgb(180,180,180);stroke-width:1\" />\n",
    "    <line x1=\"320\" y1=\"50\" x2=\"280\" y2=\"200\" style=\"stroke:rgb(180,180,180);stroke-width:1\" />\n",
    "    <line x1=\"320\" y1=\"50\" x2=\"360\" y2=\"200\" style=\"stroke:rgb(180,180,180);stroke-width:1\" />\n",
    "    <line x1=\"320\" y1=\"50\" x2=\"440\" y2=\"200\" style=\"stroke:rgb(180,180,180);stroke-width:1\" />\n",
    "    \n",
    "    <line x1=\"540\" y1=\"120\" x2=\"160\" y2=\"50\" style=\"stroke:rgba(0,100,0, 0.5);stroke-width:0.5\" />\n",
    "    <line x1=\"540\" y1=\"120\" x2=\"320\" y2=\"50\" style=\"stroke:rgba(0,100,0, 0.5);stroke-width:0.5\" />\n",
    "    <line x1=\"540\" y1=\"120\" x2=\"40\" y2=\"200\" style=\"stroke:rgba(0,100,0, 0.5);stroke-width:0.5\" />\n",
    "    <line x1=\"540\" y1=\"120\" x2=\"120\" y2=\"200\" style=\"stroke:rgba(0,100,0, 0.5);stroke-width:0.5\" />\n",
    "    <line x1=\"540\" y1=\"120\" x2=\"200\" y2=\"200\" style=\"stroke:rgba(0,100,0, 0.5);stroke-width:0.5\" />\n",
    "    <line x1=\"540\" y1=\"120\" x2=\"280\" y2=\"200\" style=\"stroke:rgba(0,100,0, 0.5);stroke-width:0.5\" />\n",
    "    <line x1=\"540\" y1=\"120\" x2=\"360\" y2=\"200\" style=\"stroke:rgba(0,100,0, 0.5);stroke-width:0.5\" />\n",
    "    <line x1=\"540\" y1=\"120\" x2=\"440\" y2=\"200\" style=\"stroke:rgba(0,100,0, 0.5);stroke-width:0.5\" />\n",
    "    \n",
    "    <!-- hidden units -->\n",
    "    <circle cx=\"160\" cy=\"50\" r=\"20\" stroke=\"red\" stroke-width=\"2\" fill=\"white\" />\n",
    "    <circle cx=\"320\" cy=\"50\" r=\"20\" stroke=\"red\" stroke-width=\"2\" fill=\"white\" />\n",
    "    \n",
    "    <text x=\"154\" y=\"55\"><tspan>h<tspan dy=\"5\">1</tspan></tspan></text>\n",
    "    <text x=\"314\" y=\"55\"><tspan>h<tspan dy=\"5\">2</tspan></tspan></text>\n",
    "    \n",
    "    <!-- visible units-->\n",
    "    <circle cx=\"40\" cy=\"200\" r=\"20\" stroke=\"blue\" stroke-width=\"2\" fill=\"white\" />\n",
    "    <circle cx=\"120\" cy=\"200\" r=\"20\" stroke=\"blue\" stroke-width=\"2\" fill=\"white\" />\n",
    "    <circle cx=\"200\" cy=\"200\" r=\"20\" stroke=\"blue\" stroke-width=\"2\" fill=\"white\" />\n",
    "    <circle cx=\"280\" cy=\"200\" r=\"20\" stroke=\"blue\" stroke-width=\"2\" fill=\"white\" />\n",
    "    <circle cx=\"360\" cy=\"200\" r=\"20\" stroke=\"blue\" stroke-width=\"2\" fill=\"white\" />\n",
    "    <circle cx=\"440\" cy=\"200\" r=\"20\" stroke=\"blue\" stroke-width=\"2\" fill=\"white\" />\n",
    "    \n",
    "    <text x=\"34\" y=\"200\"><tspan>v<tspan dy=\"5\">1</tspan></tspan></text>\n",
    "    <text x=\"114\" y=\"200\"><tspan>v<tspan dy=\"5\">2</tspan></tspan></text>\n",
    "    <text x=\"194\" y=\"200\"><tspan>v<tspan dy=\"5\">3</tspan></tspan></text>\n",
    "    <text x=\"274\" y=\"200\"><tspan>v<tspan dy=\"5\">4</tspan></tspan></text>\n",
    "    <text x=\"354\" y=\"200\"><tspan>v<tspan dy=\"5\">5</tspan></tspan></text>\n",
    "    <text x=\"434\" y=\"200\"><tspan>v<tspan dy=\"5\">6</tspan></tspan></text>\n",
    "    \n",
    "    <!-- bias unit -->\n",
    "    <circle cx=\"540\" cy=\"120\" r=\"20\" stroke=\"black\" stroke-width=\"2\" fill=\"white\" />\n",
    "    <text x=\"535\" y=\"123\"><tspan>b</tspan></text>\n",
    "</svg> \n",
    "\n",
    "<p>\n",
    "An example RBM with 6 nodes in the visible layer, and 2 nodes in the hidden layer. \n",
    "There is a bias node as a part of the architecture.\n",
    "</p>"
   ]
  },
  {
   "cell_type": "markdown",
   "metadata": {},
   "source": [
    "## Learning"
   ]
  },
  {
   "cell_type": "code",
   "execution_count": 2,
   "metadata": {
    "ExecuteTime": {
     "end_time": "2018-05-24T23:00:03.191000Z",
     "start_time": "2018-05-24T23:00:02.355000Z"
    }
   },
   "outputs": [],
   "source": [
    "%matplotlib inline\n",
    "import numpy as np\n",
    "from scipy.special import expit\n",
    "import matplotlib.pyplot as plt\n",
    "from tqdm import tqdm\n",
    "import pandas as pd\n",
    "\n",
    "np.random.seed(37)    "
   ]
  },
  {
   "cell_type": "code",
   "execution_count": 3,
   "metadata": {
    "ExecuteTime": {
     "end_time": "2018-05-24T23:00:03.442000Z",
     "start_time": "2018-05-24T23:00:03.200000Z"
    }
   },
   "outputs": [],
   "source": [
    "def get_weight_matrix(n_visible, n_hidden, mean=0.0, stdev=0.1):\n",
    "    \"\"\"\n",
    "    Initializes a weight matrix specifying the links between the visible and hidden layers.\n",
    "    Note that the weight will not be of dimension n_visible x n_hidden, but instead,\n",
    "    n_visible + 1 x n_hidden + 1. The extra dimension is to account for the bias.\n",
    "    \n",
    "    :param n_visible: Number of visible nodes.\n",
    "    :param n_hidden: Number of hidden nodes.\n",
    "    :param mean: Mean of sampling distribution. Default value is 0.0.\n",
    "    :param stdev: Standard deviation of sampling distribution. Default value is 0.1.\n",
    "    :return: Weight matrix.\n",
    "    \"\"\"\n",
    "    w = np.random.normal(loc=mean, scale=stdev, size=n_visible * n_hidden).reshape(n_visible, n_hidden)\n",
    "    c = np.zeros((n_visible, 1))\n",
    "    r = np.zeros((1, n_hidden + 1))\n",
    "    m = np.hstack([c, w])\n",
    "    m = np.vstack([r, m])\n",
    "    return m\n",
    "\n",
    "def get_data_matrix(data):\n",
    "    \"\"\"\n",
    "    Converts data to a matrix with one with one extra column. The extra column is to \n",
    "    account for the bias.\n",
    "    \n",
    "    :param data: A matrix of data.\n",
    "    :return: Modified data matrix.\n",
    "    \"\"\"\n",
    "    c = np.ones((data.shape[0], 1))\n",
    "    m = np.hstack([c, data])\n",
    "    return m\n",
    "\n",
    "def positive_contrastive_divergence(X, W):\n",
    "    \"\"\"\n",
    "    Executes positive contrastive divergence (+CD) phase. \n",
    "    \n",
    "    :param X: Input data to visible layer.\n",
    "    :param W: Weights between connections of visible and hidden layers.\n",
    "    :return: A tuple of 1) positive hidden states and 2) positive associations.\n",
    "    \"\"\"\n",
    "    ph_activations = X.dot(W)\n",
    "    ph_probs = expit(ph_activations)\n",
    "    ph_probs[:, 0] = 1.0\n",
    "    ph_states = ph_probs > np.random.rand(ph_probs.shape[1])\n",
    "    p_associations = X.T.dot(ph_probs)\n",
    "    return ph_states, p_associations\n",
    "\n",
    "def negative_contrastive_divergence(ph_states, W):\n",
    "    \"\"\"\n",
    "    Executes negative contrastive divergence (-CD) phase.\n",
    "    \n",
    "    :param ph_states: Positive hidden states.\n",
    "    :param W: Weights between connections of visible and hidden layers.\n",
    "    :return: A tuple of 1) negative visible probabilities and 2) negative associations\n",
    "    \"\"\"\n",
    "    nv_activations = ph_states.dot(W.T)\n",
    "    nv_probs = expit(nv_activations)\n",
    "    nv_probs[:, 0] = 1.0\n",
    "    nh_activations = nv_probs.dot(W)\n",
    "    nh_probs = expit(nh_activations)\n",
    "    n_associations = nv_probs.T.dot(nh_probs)\n",
    "    return nv_probs, n_associations\n",
    "\n",
    "def update_weights(n, p_associations, n_associations, W, lr=0.1):\n",
    "    \"\"\"\n",
    "    Updates the weights after positive and negative associations have been learned.\n",
    "    \n",
    "    :param n: The total number of samples.\n",
    "    :param p_associations: Positive associations.\n",
    "    :param n_associations: Negative associations.\n",
    "    :param W: Weights between connections of visible and hidden layers.\n",
    "    :param lr: Learning rate. Default value is 0.1.\n",
    "    :return: The adjusted weights.\n",
    "    \"\"\"\n",
    "    M = W + lr * ((p_associations - n_associations) / float(n))\n",
    "    return M\n",
    "\n",
    "def query_hidden(v, n_hidden, W):\n",
    "    \"\"\"\n",
    "    Queries the hidden layer states given the states of the visible layer.\n",
    "    \n",
    "    :param v: The input values to the visible layer.\n",
    "    :param n_hidden: The number of hidden nodes.\n",
    "    :param W: Weights between connections of visible and hidden layers.\n",
    "    :return: The hidden states.\n",
    "    \"\"\"\n",
    "    n = v.shape[0]\n",
    "    h_states = np.ones((n, n_hidden + 1))\n",
    "    d = np.hstack([np.ones((n, 1)), v])\n",
    "    h_activations = d.dot(W)\n",
    "    h_probs = expit(h_activations)\n",
    "    h_states[:,:] = h_probs > np.random.rand(n, n_hidden + 1)\n",
    "    return h_states[:,1:]\n",
    "\n",
    "def query_visible(h, n_visible, W):\n",
    "    \"\"\"\n",
    "    Queries the visible layer states given the states of the hidden layer.\n",
    "    \n",
    "    :param h: The input values to the hidden layer.\n",
    "    :param n_visible: The number of visible nodes.\n",
    "    :param W: Weights between connections of visible and hidden layers.\n",
    "    :return: The visible states.\n",
    "    \"\"\"\n",
    "    n = h.shape[0]\n",
    "    v_states = np.ones((n, n_visible + 1))\n",
    "    d = np.hstack([np.ones((n, 1)), h])\n",
    "    v_activations = d.dot(W.T)\n",
    "    v_probs = expit(v_activations)\n",
    "    v_states[:,:] = v_probs > np.random.rand(n, n_visible + 1)\n",
    "    return v_states[:,1:]\n",
    "\n",
    "def daydream(n_samples, n_visible, n_hidden, W):\n",
    "    \"\"\"\n",
    "    Performs daydreaming or dreaming to generate samples.\n",
    "    \n",
    "    :param n_samples: The number of sampling to perform.\n",
    "    :param n_visible: The number of visible nodes.\n",
    "    :param n_hidden: The number of hidden nodes.\n",
    "    :param W: Weights between connections of visible and hidden layers.\n",
    "    :return: A single sample.\n",
    "    \"\"\"\n",
    "    samples = np.ones((n_samples, n_visible + 1))\n",
    "    samples[0,1:] = np.random.rand(n_visible)\n",
    "    \n",
    "    for i in range(1, n_samples):\n",
    "        visible = samples[i-1,:]\n",
    "        h_activations = visible.dot(W)\n",
    "        h_probs = expit(h_activations)\n",
    "        h_states = h_probs > np.random.rand(n_hidden + 1)\n",
    "        h_states[0] = 1\n",
    "        \n",
    "        v_activations = h_states.dot(W.T)\n",
    "        v_probs = expit(v_activations)\n",
    "        v_states = v_probs > np.random.rand(n_visible + 1)\n",
    "        \n",
    "        samples[i, :] = v_states\n",
    "    \n",
    "    return samples[-1, :]\n",
    "\n",
    "def train(X, W, max_iters=100, batch_size=1, shuffle=True):\n",
    "    \"\"\"\n",
    "    Trains the RBM model.\n",
    "    \n",
    "    :param X: The data matrix.\n",
    "    :param W: Weights between connections of visible and hidden layers.\n",
    "    :param max_iters: The maximum number of iterations. Default value is 100.\n",
    "    :param batch_size: The batch size.\n",
    "    :param shuffle: A boolean indicating if the data should be shuffled before each training epoch.\n",
    "    :return: Returns a tuple of 1) the learned weight matrix and 2) the losses (errors) during training iterations.\n",
    "    \"\"\"\n",
    "    b_size = batch_size\n",
    "    if b_size < 1:\n",
    "        b_size = 1\n",
    "    if b_size > X.shape[0]:\n",
    "        b_size = X.shape\n",
    "    \n",
    "    loss_trace = []\n",
    "    for epoch in tqdm(range(max_iters)):\n",
    "        S = np.copy(X)\n",
    "        if shuffle is True:\n",
    "            np.random.shuffle(S)\n",
    "        start = 0\n",
    "        while True:\n",
    "            stop = start + b_size\n",
    "            X_batch = S[start:stop, :]\n",
    "            ph_states, p_associations = positive_contrastive_divergence(X_batch, W)\n",
    "            nv_probs, n_associations = negative_contrastive_divergence(ph_states, W)\n",
    "            W = update_weights(X.shape[0], p_associations, n_associations, W)\n",
    "\n",
    "            error = np.sum((X_batch - nv_probs) ** 2) / float(b_size)\n",
    "            t = (epoch, error)\n",
    "            loss_trace.append(t)\n",
    "            \n",
    "            start = start + b_size\n",
    "            if start >= X.shape[0]:\n",
    "                break\n",
    "                \n",
    "    loss_df = pd.DataFrame(data=loss_trace, columns=['epoch', 'loss'])\n",
    "    return W, loss_df\n",
    "\n",
    "def plot_loss(loss, note=''):\n",
    "    \"\"\"\n",
    "    Plots the loss over training iterations.\n",
    "    \n",
    "    :param loss: A dataframe of loss. Should have 2 columns: epoch and loss.\n",
    "    :param note: A note to add to the title.\n",
    "    :return: None\n",
    "    \"\"\"\n",
    "    fig, ax = plt.subplots(figsize=(10, 5))\n",
    "    plt.plot(loss['epoch'], loss['loss'])\n",
    "    ax.set_title('Loss over time, {}'.format(note))\n",
    "    ax.set_xlabel(r'epoch')\n",
    "    ax.set_ylabel(r'loss')"
   ]
  },
  {
   "cell_type": "markdown",
   "metadata": {},
   "source": [
    "## Movies example\n",
    "\n",
    "This is a fake dataset where there are 6 users (rows) and 6 movies (columns). A value of 1 indicates user preference for a movie corresponding to the column index. The first 3 movies are science-fiction movies, and the last 3 movies are Oscar winning movies. See [here](http://blog.echen.me/2011/07/18/introduction-to-restricted-boltzmann-machines/) for more details."
   ]
  },
  {
   "cell_type": "code",
   "execution_count": 4,
   "metadata": {
    "ExecuteTime": {
     "end_time": "2018-05-24T23:00:03.500000Z",
     "start_time": "2018-05-24T23:00:03.452000Z"
    }
   },
   "outputs": [
    {
     "name": "stdout",
     "output_type": "stream",
     "text": [
      "(6, 7) X shape\n",
      "(7, 3) W shape\n",
      "6 n_visible\n",
      "2 n_hidden\n"
     ]
    }
   ],
   "source": [
    "X = get_data_matrix(np.array([\n",
    "    [1, 1, 1, 0, 0, 0],\n",
    "    [1, 0, 1, 0, 0, 0],\n",
    "    [1, 1, 1, 0, 0, 0],\n",
    "    [0, 0, 1, 1, 1, 0],\n",
    "    [0, 0, 1, 1, 0, 0],\n",
    "    [0, 0, 1, 1, 1, 0]]))\n",
    "\n",
    "n_visible = 6\n",
    "n_hidden = 2\n",
    "W = get_weight_matrix(n_visible, n_hidden)\n",
    "\n",
    "print('{} X shape'.format(X.shape))\n",
    "print('{} W shape'.format(W.shape))\n",
    "print('{} n_visible'.format(n_visible))\n",
    "print('{} n_hidden'.format(n_hidden))"
   ]
  },
  {
   "cell_type": "code",
   "execution_count": 5,
   "metadata": {
    "ExecuteTime": {
     "end_time": "2018-05-24T23:00:03.816000Z",
     "start_time": "2018-05-24T23:00:03.508000Z"
    }
   },
   "outputs": [
    {
     "name": "stderr",
     "output_type": "stream",
     "text": [
      "100%|██████████| 100/100 [00:00<00:00, 2943.19it/s]\n"
     ]
    },
    {
     "data": {
      "image/png": "[encoded data removed]",
      "text/plain": [
       "<Figure size 720x360 with 1 Axes>"
      ]
     },
     "metadata": {
      "needs_background": "light"
     },
     "output_type": "display_data"
    }
   ],
   "source": [
    "W, loss = train(X, W, batch_size=X.shape[0], shuffle=False)\n",
    "plot_loss(loss, 'Batch Learning')"
   ]
  },
  {
   "cell_type": "code",
   "execution_count": 6,
   "metadata": {
    "ExecuteTime": {
     "end_time": "2018-05-24T23:00:04.104000Z",
     "start_time": "2018-05-24T23:00:03.824000Z"
    }
   },
   "outputs": [
    {
     "name": "stderr",
     "output_type": "stream",
     "text": [
      "100%|██████████| 100/100 [00:00<00:00, 3943.50it/s]\n"
     ]
    },
    {
     "data": {
      "image/png": "[encoded data removed]",
      "text/plain": [
       "<Figure size 720x360 with 1 Axes>"
      ]
     },
     "metadata": {
      "needs_background": "light"
     },
     "output_type": "display_data"
    }
   ],
   "source": [
    "W, loss = train(X, W, batch_size=1, shuffle=True)\n",
    "plot_loss(loss, 'Stochastic Learning')"
   ]
  },
  {
   "cell_type": "code",
   "execution_count": 7,
   "metadata": {
    "ExecuteTime": {
     "end_time": "2018-05-24T23:00:04.443000Z",
     "start_time": "2018-05-24T23:00:04.112000Z"
    }
   },
   "outputs": [
    {
     "name": "stderr",
     "output_type": "stream",
     "text": [
      "100%|██████████| 100/100 [00:00<00:00, 7873.97it/s]\n"
     ]
    },
    {
     "data": {
      "image/png": "[encoded data removed]",
      "text/plain": [
       "<Figure size 720x360 with 1 Axes>"
      ]
     },
     "metadata": {
      "needs_background": "light"
     },
     "output_type": "display_data"
    }
   ],
   "source": [
    "W, loss = train(X, W, batch_size=2, shuffle=True)\n",
    "plot_loss(loss, 'Mini-batch Learning')"
   ]
  },
  {
   "cell_type": "markdown",
   "metadata": {},
   "source": [
    "Note that we can query which hidden nodes are activated by the visible nodes. It seems the last 3 visible nodes activate the first hidden node, so the first hidden node must represent Oscar movies. It seems that the first 3 visible nodes activate the second hidden node, so the second hidden node must represent science fiction movies."
   ]
  },
  {
   "cell_type": "code",
   "execution_count": 8,
   "metadata": {
    "ExecuteTime": {
     "end_time": "2018-05-24T23:00:04.464000Z",
     "start_time": "2018-05-24T23:00:04.452000Z"
    }
   },
   "outputs": [
    {
     "data": {
      "text/plain": [
       "array([[1., 0.]])"
      ]
     },
     "execution_count": 8,
     "metadata": {},
     "output_type": "execute_result"
    }
   ],
   "source": [
    "query_hidden(np.array([[0, 0, 0, 1, 1, 0]]), n_hidden, W)"
   ]
  },
  {
   "cell_type": "code",
   "execution_count": 9,
   "metadata": {
    "ExecuteTime": {
     "end_time": "2018-05-24T23:00:04.484000Z",
     "start_time": "2018-05-24T23:00:04.472000Z"
    }
   },
   "outputs": [
    {
     "data": {
      "text/plain": [
       "array([[0., 1.]])"
      ]
     },
     "execution_count": 9,
     "metadata": {},
     "output_type": "execute_result"
    }
   ],
   "source": [
    "query_hidden(np.array([[1, 1, 0, 0, 0, 0]]), n_hidden, W)"
   ]
  },
  {
   "cell_type": "code",
   "execution_count": 10,
   "metadata": {
    "ExecuteTime": {
     "end_time": "2018-05-24T23:00:04.512000Z",
     "start_time": "2018-05-24T23:00:04.496000Z"
    }
   },
   "outputs": [
    {
     "data": {
      "text/plain": [
       "array([[0., 0., 1., 0., 1., 0.]])"
      ]
     },
     "execution_count": 10,
     "metadata": {},
     "output_type": "execute_result"
    }
   ],
   "source": [
    "query_visible(np.array([[1, 0]]), n_visible, W)"
   ]
  },
  {
   "cell_type": "code",
   "execution_count": 11,
   "metadata": {
    "ExecuteTime": {
     "end_time": "2018-05-24T23:00:04.547000Z",
     "start_time": "2018-05-24T23:00:04.524000Z"
    }
   },
   "outputs": [
    {
     "data": {
      "text/plain": [
       "array([[1., 0., 1., 0., 1., 0.]])"
      ]
     },
     "execution_count": 11,
     "metadata": {},
     "output_type": "execute_result"
    }
   ],
   "source": [
    "query_visible(np.array([[0, 1]]), n_visible, W)"
   ]
  },
  {
   "cell_type": "code",
   "execution_count": 12,
   "metadata": {
    "ExecuteTime": {
     "end_time": "2018-05-24T23:00:04.760000Z",
     "start_time": "2018-05-24T23:00:04.560000Z"
    }
   },
   "outputs": [
    {
     "name": "stdout",
     "output_type": "stream",
     "text": [
      "[1. 1. 0. 1. 0. 0. 0.]\n",
      "[1. 1. 1. 1. 0. 0. 0.]\n",
      "[0. 0. 0. 1. 1. 1. 0.]\n",
      "[0. 0. 1. 1. 0. 0. 0.]\n",
      "[1. 1. 0. 1. 1. 0. 0.]\n",
      "[1. 1. 0. 1. 0. 0. 0.]\n",
      "[1. 0. 0. 1. 0. 0. 0.]\n",
      "[1. 1. 0. 1. 0. 0. 0.]\n",
      "[1. 0. 1. 1. 1. 1. 0.]\n",
      "[1. 0. 0. 1. 1. 0. 0.]\n"
     ]
    }
   ],
   "source": [
    "for i in range(10):\n",
    "    print(daydream(500, n_visible, n_hidden, W))"
   ]
  },
  {
   "cell_type": "markdown",
   "metadata": {},
   "source": [
    "## Names example\n",
    "\n",
    "Here, we search for popular English, Chinese, and Indian names, and see if we can use a RBM to model names into types of names. Thus, the visible layer represents letters of a name, and the hidden layer represents the types of name (English, Chinese, and Indian). The way we model the visible layer is interesting because we use one-hot encoding to represent letters (look at the code for more explanations). Each character is represented by a vector of size 27 (26 alphabets plus 1 padding character for spaces). Each name is represented by a 9 x 27 matrix (9 since 9 is the maximum length of a name in this sample, and 27 for the 27 possible characters). The number of nodes in the hidden layers is obviously 3 for the 3 categories of names. Now, we know a priori that there are 3 categories that is why we have 3 hidden nodes. Had we not known, we would have to guess and use other validation measures to determine the number of hidden nodes. Simply defining the number of hidden nodes without knowing anything is not trivial, and is a problem in general with latent variable analysis and architecting deep networks."
   ]
  },
  {
   "cell_type": "code",
   "execution_count": 13,
   "metadata": {
    "ExecuteTime": {
     "end_time": "2018-05-24T23:00:04.947000Z",
     "start_time": "2018-05-24T23:00:04.772000Z"
    }
   },
   "outputs": [],
   "source": [
    "import itertools\n",
    "import math\n",
    "\n",
    "def get_max_length(names):\n",
    "    \"\"\"\n",
    "    Utility method to get the maximum length of all the names.\n",
    "    \n",
    "    :param names: A dictionary of names. Keys are types and values are arrays of names.\n",
    "    :return: The maximum length of a name.\n",
    "    \"\"\"\n",
    "    max_length = 0\n",
    "    for k, v in names.items():\n",
    "        length = max([len(name) for name in v])\n",
    "        if length > max_length:\n",
    "            max_length = length\n",
    "    return max_length\n",
    "\n",
    "def get_encoding():\n",
    "    \"\"\"\n",
    "    Gets the encoding from letter to indices. Note that space is replaced by the hash symbol/character.\n",
    "    \n",
    "    :return: A dictionary where keys are letters and values are indices.\n",
    "    \"\"\"\n",
    "    letters = 'abcdefghijklmnopqrstuvwxyz#'\n",
    "    d = {}\n",
    "    for i in range(len(letters)):\n",
    "        d[letters[i]] = i\n",
    "    return d\n",
    "\n",
    "def get_reverse_encoding():\n",
    "    \"\"\"\n",
    "    Gets the encoding from indices to letters. \n",
    "    \n",
    "    :return: A dictionary where keys are indices and values are letters.\n",
    "    \"\"\"\n",
    "    letters = 'abcdefghijklmnopqrstuvwxyz#'\n",
    "    d = {}\n",
    "    for i in range(len(letters)):\n",
    "        d[i] = letters[i]\n",
    "    return d\n",
    "\n",
    "def encode_letter(letter, encoding=get_encoding()):\n",
    "    \"\"\"\n",
    "    One-hot encodes a letter to a vector. The vector is all zero except one in the index\n",
    "    corresponding to the letter.\n",
    "    \n",
    "    :param letter: Letter.\n",
    "    :param encoding: The letter-index encoding.\n",
    "    :return: One-hot encoded vector representing a letter.\n",
    "    \"\"\"\n",
    "    n = len(encoding)\n",
    "    ohe = np.zeros(n)\n",
    "    idx = encoding[letter]\n",
    "    ohe[idx] = 1\n",
    "    return ohe\n",
    "\n",
    "def encode_name(name, max_letters, encoding=get_encoding()):\n",
    "    \"\"\"\n",
    "    One-hot encodes a name into a matrix (or tensor). Note that no matter the name,\n",
    "    the dimension will always be max_letters x 27. The max_letters is the maximum\n",
    "    letters (length) that can be in a name. The 27 is due to 26 alphabets plus 1 for\n",
    "    padding. \n",
    "    \n",
    "    :param name: A name.\n",
    "    :param max_letters: Maximum letters.\n",
    "    :param encoding: The letter-index encoding.\n",
    "    :return: A tensor representing a one-hot encoding of a name.\n",
    "    \"\"\"\n",
    "    name_length = len(name)\n",
    "    name_ohe = [encode_letter(name[i], encoding) for i in range(name_length)]\n",
    "    padd_ohe = [encode_letter('#', encoding) for _ in range(name_length, max_letters)]\n",
    "    \n",
    "    ohe = []\n",
    "    ohe.extend(name_ohe)\n",
    "    ohe.extend(padd_ohe)\n",
    "    ohe = np.hstack(ohe)\n",
    "    \n",
    "    return ohe\n",
    "\n",
    "def encode_names(names, max_letters, encoding=get_encoding()):\n",
    "    \"\"\"\n",
    "    Encodes all names. The names parameter is a dictionary where keys are\n",
    "    types (e.g. English, Chinese, Indian) and values are list of names.\n",
    "    \n",
    "    :param names: A dictionary of types with names.\n",
    "    :param max_letters: The maximum letters in a name.\n",
    "    :param encoding: The letter-index encoding.\n",
    "    :return: A list of tensors, where each tensor represents one-hot encoding of names.\n",
    "    \"\"\"\n",
    "    data = []\n",
    "    for k, names in names.items():\n",
    "        for name in names:\n",
    "            ohe = encode_name(name, max_letters, encoding)\n",
    "            data.append(ohe)\n",
    "    return np.array(data)\n",
    "\n",
    "def flatten_names(names):\n",
    "    \"\"\"\n",
    "    Flatten out the names. The names parameter is a dictionary where keys are\n",
    "    types (e.g. English, Chinese, Indian) and values are list of names.\n",
    "    \n",
    "    :param names: A dictionary of types with names.\n",
    "    :return: A list of names.\n",
    "    \"\"\"\n",
    "    data = []\n",
    "    for k, names in names.items():\n",
    "        data.extend(names)\n",
    "    return data\n",
    "\n",
    "def decode_ohe(v, max_letters, encoding=get_reverse_encoding()):\n",
    "    \"\"\"\n",
    "    Decodes one-hot encoded vector.\n",
    "    \n",
    "    :param v: One-hot encoded vector.\n",
    "    :param max_letters: The maximum letters in a name.\n",
    "    :param encoding: The index-letter encoding.\n",
    "    :return: A list of letter sets. e.g. ['ab', 'c', 'defg']\n",
    "    \"\"\"\n",
    "    def encode(row, vector, encoding):\n",
    "        codes = [encoding[i] for i, c in enumerate(vector[row, :]) if c > 0 and i < 26]\n",
    "        out = ''.join(codes).strip()\n",
    "        if len(out) == 0:\n",
    "            return None\n",
    "        else:\n",
    "            return out\n",
    "    \n",
    "    vector = v[0,:]\n",
    "    cols = math.floor(v.shape[1] / max_letters)\n",
    "    rows = max_letters\n",
    "    vector = vector.reshape(rows, cols)\n",
    "    d = []\n",
    "    for i, row in enumerate(range(rows)):\n",
    "        v_activations = encode(row, vector, encoding)\n",
    "        if v_activations is not None and len(v_activations) > 0:\n",
    "            d.append(v_activations)\n",
    "    return d\n",
    "\n",
    "def get_permutation(decoding):\n",
    "    \"\"\"\n",
    "    Gets all permutations of a list of letter sets. For example, if the\n",
    "    decoding is ['c', 'a', 'trp'] then the result will be ['cat', 'car' 'cap'].\n",
    "    \n",
    "    :param decoding: A list of letter sets. e.g. ['c', 'a', 'trp'].\n",
    "    :return: All permutations between the letter sets.\n",
    "    \"\"\"\n",
    "    return [''.join(t) for t in list(itertools.product(*decoding))]\n",
    "    \n",
    "names = {\n",
    "    'english': [\n",
    "        'jack', 'thomas', 'joshua', 'william', 'daniel',\n",
    "        'matthew', 'james', 'joseph', 'harry', 'samuel'\n",
    "    ],\n",
    "    'chinese': [\n",
    "        'wei', 'qiang', 'lei', 'jun', 'yong',\n",
    "        'jie', 'jin', 'taio', 'de', 'tao'\n",
    "    ],\n",
    "    'indian': [\n",
    "        'mohammed', 'reyansh', 'aarav', 'atharv', 'vivaan',\n",
    "        'advik', 'ansh', 'ishann', 'dhruv', 'siddharth'\n",
    "    ]\n",
    "}\n",
    "\n",
    "max_letters = get_max_length(names)\n",
    "encoding = get_encoding()\n",
    "rencoding = get_reverse_encoding()\n",
    "raw = encode_names(names, max_letters, encoding)"
   ]
  },
  {
   "cell_type": "code",
   "execution_count": 14,
   "metadata": {
    "ExecuteTime": {
     "end_time": "2018-05-24T23:00:05.020000Z",
     "start_time": "2018-05-24T23:00:04.960000Z"
    }
   },
   "outputs": [
    {
     "name": "stdout",
     "output_type": "stream",
     "text": [
      "(30, 244) X shape\n",
      "(244, 4) W shape\n",
      "243 n_visible\n",
      "3 n_hidden\n"
     ]
    }
   ],
   "source": [
    "X = get_data_matrix(raw)\n",
    "\n",
    "n_visible = raw.shape[1]\n",
    "n_hidden = 3\n",
    "W = get_weight_matrix(n_visible, n_hidden)\n",
    "\n",
    "print('{} X shape'.format(X.shape))\n",
    "print('{} W shape'.format(W.shape))\n",
    "print('{} n_visible'.format(n_visible))\n",
    "print('{} n_hidden'.format(n_hidden))"
   ]
  },
  {
   "cell_type": "code",
   "execution_count": 15,
   "metadata": {
    "ExecuteTime": {
     "end_time": "2018-05-24T23:00:05.296000Z",
     "start_time": "2018-05-24T23:00:05.028000Z"
    }
   },
   "outputs": [
    {
     "name": "stderr",
     "output_type": "stream",
     "text": [
      "100%|██████████| 100/100 [00:00<00:00, 6159.94it/s]\n"
     ]
    },
    {
     "data": {
      "image/png": "[encoded data removed]",
      "text/plain": [
       "<Figure size 720x360 with 1 Axes>"
      ]
     },
     "metadata": {
      "needs_background": "light"
     },
     "output_type": "display_data"
    }
   ],
   "source": [
    "W, loss = train(X, W, batch_size=X.shape[0], shuffle=False)\n",
    "plot_loss(loss, 'Batch Learning')"
   ]
  },
  {
   "cell_type": "code",
   "execution_count": 16,
   "metadata": {
    "ExecuteTime": {
     "end_time": "2018-05-24T23:00:14.613000Z",
     "start_time": "2018-05-24T23:00:05.304000Z"
    }
   },
   "outputs": [
    {
     "name": "stderr",
     "output_type": "stream",
     "text": [
      "100%|██████████| 5000/5000 [00:07<00:00, 698.51it/s]\n"
     ]
    },
    {
     "data": {
      "image/png": "[encoded data removed]",
      "text/plain": [
       "<Figure size 720x360 with 1 Axes>"
      ]
     },
     "metadata": {
      "needs_background": "light"
     },
     "output_type": "display_data"
    }
   ],
   "source": [
    "W, loss = train(X, W, max_iters=5000, batch_size=1, shuffle=True)\n",
    "plot_loss(loss, 'Stochastic Learning')"
   ]
  },
  {
   "cell_type": "code",
   "execution_count": 17,
   "metadata": {
    "ExecuteTime": {
     "end_time": "2018-05-24T23:00:21.274000Z",
     "start_time": "2018-05-24T23:00:14.621000Z"
    }
   },
   "outputs": [
    {
     "name": "stderr",
     "output_type": "stream",
     "text": [
      "100%|██████████| 5000/5000 [00:03<00:00, 1308.33it/s]\n"
     ]
    },
    {
     "data": {
      "image/png": "[encoded data removed]",
      "text/plain": [
       "<Figure size 720x360 with 1 Axes>"
      ]
     },
     "metadata": {
      "needs_background": "light"
     },
     "output_type": "display_data"
    }
   ],
   "source": [
    "W, loss = train(X, W, max_iters=5000, batch_size=2, shuffle=True)\n",
    "plot_loss(loss, 'Mini-batch Learning')"
   ]
  },
  {
   "cell_type": "markdown",
   "metadata": {},
   "source": [
    "It seems that Indian and English names activate the same hidden nodes, while Chinese names activate the first two nodes."
   ]
  },
  {
   "cell_type": "code",
   "execution_count": 18,
   "metadata": {
    "ExecuteTime": {
     "end_time": "2018-05-24T23:00:21.535000Z",
     "start_time": "2018-05-24T23:00:21.282000Z"
    }
   },
   "outputs": [
    {
     "name": "stdout",
     "output_type": "stream",
     "text": [
      "0: [[1. 1. 0.]] jack\n",
      "1: [[1. 1. 1.]] thomas\n",
      "2: [[1. 1. 1.]] joshua\n",
      "3: [[0. 1. 1.]] william\n",
      "4: [[1. 1. 1.]] daniel\n",
      "5: [[1. 0. 1.]] matthew\n",
      "6: [[1. 1. 1.]] james\n",
      "7: [[1. 1. 1.]] joseph\n",
      "8: [[1. 1. 1.]] harry\n",
      "9: [[1. 1. 1.]] samuel\n",
      "10: [[1. 1. 0.]] wei\n",
      "11: [[1. 1. 1.]] qiang\n",
      "12: [[1. 1. 0.]] lei\n",
      "13: [[1. 1. 0.]] jun\n",
      "14: [[1. 1. 0.]] yong\n",
      "15: [[1. 1. 0.]] jie\n",
      "16: [[1. 1. 0.]] jin\n",
      "17: [[1. 1. 0.]] taio\n",
      "18: [[1. 1. 0.]] de\n",
      "19: [[1. 1. 0.]] tao\n",
      "20: [[1. 0. 1.]] mohammed\n",
      "21: [[1. 1. 1.]] reyansh\n",
      "22: [[1. 1. 1.]] aarav\n",
      "23: [[1. 1. 1.]] atharv\n",
      "24: [[1. 1. 1.]] vivaan\n",
      "25: [[1. 1. 1.]] advik\n",
      "26: [[1. 1. 1.]] ansh\n",
      "27: [[1. 1. 1.]] ishann\n",
      "28: [[1. 1. 1.]] dhruv\n",
      "29: [[0. 0. 0.]] siddharth\n"
     ]
    }
   ],
   "source": [
    "flattened_names = flatten_names(names)\n",
    "\n",
    "for r in range(len(raw)):\n",
    "    h = query_hidden(raw[r,:].reshape(1, n_visible), n_hidden, W)\n",
    "    n = flattened_names[r]\n",
    "    print('{}: {} {}'.format(r, h, n))"
   ]
  },
  {
   "cell_type": "markdown",
   "metadata": {},
   "source": [
    "Here we query which visible nodes are activated by the specified hidden nodes. After we find out the activated visible nodes, we take the product of the letters corresponding to the visible nodes and generate names. Note, this step is stochastic and so you will get different results on each run although the same hidden nodes are activated. It seems that turning on \n",
    "\n",
    "* the second and third hidden nodes generates English names, \n",
    "* the first and second hidden nodes generates Chinese names, and\n",
    "* the first and third hidden nodes generates Indian names."
   ]
  },
  {
   "cell_type": "code",
   "execution_count": 19,
   "metadata": {
    "ExecuteTime": {
     "end_time": "2018-05-24T23:00:21.561000Z",
     "start_time": "2018-05-24T23:00:21.543000Z"
    }
   },
   "outputs": [
    {
     "data": {
      "text/plain": [
       "'wileiam, wiluiam'"
      ]
     },
     "execution_count": 19,
     "metadata": {},
     "output_type": "execute_result"
    }
   ],
   "source": [
    "', '.join(get_permutation(\n",
    "    decode_ohe(\n",
    "        query_visible(np.array([[0, 1, 1]]), n_visible, W), max_letters, rencoding)))"
   ]
  },
  {
   "cell_type": "code",
   "execution_count": 20,
   "metadata": {
    "ExecuteTime": {
     "end_time": "2018-05-24T23:00:21.586000Z",
     "start_time": "2018-05-24T23:00:21.574000Z"
    }
   },
   "outputs": [
    {
     "data": {
      "text/plain": [
       "'un'"
      ]
     },
     "execution_count": 20,
     "metadata": {},
     "output_type": "execute_result"
    }
   ],
   "source": [
    "', '.join(get_permutation(\n",
    "    decode_ohe(\n",
    "        query_visible(np.array([[1, 1, 0]]), n_visible, W), max_letters, rencoding)))"
   ]
  },
  {
   "cell_type": "code",
   "execution_count": 21,
   "metadata": {
    "ExecuteTime": {
     "end_time": "2018-05-24T23:00:21.614000Z",
     "start_time": "2018-05-24T23:00:21.594000Z"
    }
   },
   "outputs": [
    {
     "data": {
      "text/plain": [
       "'lahhvh, lahnvh, lanhvh, lannvh, lhhhvh, lhhnvh, lhnhvh, lhnnvh, mahhvh, mahnvh, manhvh, mannvh, mhhhvh, mhhnvh, mhnhvh, mhnnvh'"
      ]
     },
     "execution_count": 21,
     "metadata": {},
     "output_type": "execute_result"
    }
   ],
   "source": [
    "', '.join(get_permutation(\n",
    "    decode_ohe(\n",
    "        query_visible(np.array([[1, 0, 1]]), n_visible, W), max_letters, rencoding)))"
   ]
  },
  {
   "cell_type": "markdown",
   "metadata": {},
   "source": [
    "Now, we let the RBM daydream about names. =)"
   ]
  },
  {
   "cell_type": "code",
   "execution_count": 22,
   "metadata": {
    "ExecuteTime": {
     "end_time": "2018-05-24T23:00:22.631000Z",
     "start_time": "2018-05-24T23:00:21.622000Z"
    }
   },
   "outputs": [
    {
     "name": "stdout",
     "output_type": "stream",
     "text": [
      "daydream iteration 1\n",
      "baddearqh, baddearth, baddeerqh, baddeerth, baddharqh, baddharth, baddherqh, baddherth, baddrarqh, baddrarth, baddrerqh, baddrerth, badeearqh, badeearth, badeeerqh, badeeerth, badeharqh, badeharth, badeherqh, badeherth, baderarqh, baderarth, badererqh, badererth, biddearqh, biddearth, biddeerqh, biddeerth, biddharqh, biddharth, biddherqh, biddherth, biddrarqh, biddrarth, biddrerqh, biddrerth, bideearqh, bideearth, bideeerqh, bideeerth, bideharqh, bideharth, bideherqh, bideherth, biderarqh, biderarth, bidererqh, bidererth, saddearqh, saddearth, saddeerqh, saddeerth, saddharqh, saddharth, saddherqh, saddherth, saddrarqh, saddrarth, saddrerqh, saddrerth, sadeearqh, sadeearth, sadeeerqh, sadeeerth, sadeharqh, sadeharth, sadeherqh, sadeherth, saderarqh, saderarth, sadererqh, sadererth, siddearqh, siddearth, siddeerqh, siddeerth, siddharqh, siddharth, siddherqh, siddherth, siddrarqh, siddrarth, siddrerqh, siddrerth, sideearqh, sideearth, sideeerqh, sideeerth, sideharqh, sideharth, sideherqh, sideherth, siderarqh, siderarth, sidererqh, sidererth, waddearqh, waddearth, waddeerqh, waddeerth, waddharqh, waddharth, waddherqh, waddherth, waddrarqh, waddrarth, waddrerqh, waddrerth, wadeearqh, wadeearth, wadeeerqh, wadeeerth, wadeharqh, wadeharth, wadeherqh, wadeherth, waderarqh, waderarth, wadererqh, wadererth, widdearqh, widdearth, widdeerqh, widdeerth, widdharqh, widdharth, widdherqh, widdherth, widdrarqh, widdrarth, widdrerqh, widdrerth, wideearqh, wideearth, wideeerqh, wideeerth, wideharqh, wideharth, wideherqh, wideherth, widerarqh, widerarth, widererqh, widererth\n",
      "\n",
      "daydream iteration 2\n",
      "sadhagtd, sadhagth, sadhartd, sadharth, sadhavtd, sadhavth, sadhmgtd, sadhmgth, sadhmrtd, sadhmrth, sadhmvtd, sadhmvth, sanhagtd, sanhagth, sanhartd, sanharth, sanhavtd, sanhavth, sanhmgtd, sanhmgth, sanhmrtd, sanhmrth, sanhmvtd, sanhmvth, sidhagtd, sidhagth, sidhartd, sidharth, sidhavtd, sidhavth, sidhmgtd, sidhmgth, sidhmrtd, sidhmrth, sidhmvtd, sidhmvth, sinhagtd, sinhagth, sinhartd, sinharth, sinhavtd, sinhavth, sinhmgtd, sinhmgth, sinhmrtd, sinhmrth, sinhmvtd, sinhmvth\n",
      "\n",
      "daydream iteration 3\n",
      "ahlleam, ahlliam, ahmleam, ahmliam, ailleam, ailliam, aimleam, aimliam, ihlleam, ihlliam, ihmleam, ihmliam, iilleam, iilliam, iimleam, iimliam, shlleam, shlliam, shmleam, shmliam, silleam, silliam, simleam, simliam, whlleam, whlliam, whmleam, whmliam, willeam, william, wimleam, wimliam\n",
      "\n",
      "daydream iteration 4\n",
      "dilliam, dillkam, dilniam, dilnkam, diloiam, dilokam, dslliam, dsllkam, dslniam, dslnkam, dsloiam, dslokam, rilliam, rillkam, rilniam, rilnkam, riloiam, rilokam, rslliam, rsllkam, rslniam, rslnkam, rsloiam, rslokam, silliam, sillkam, silniam, silnkam, siloiam, silokam, sslliam, ssllkam, sslniam, sslnkam, ssloiam, sslokam, william, willkam, wilniam, wilnkam, wiloiam, wilokam, wslliam, wsllkam, wslniam, wslnkam, wsloiam, wslokam\n",
      "\n",
      "daydream iteration 5\n",
      "dalleam, dalliam, dallkam, dallpam, dilleam, dilliam, dillkam, dillpam, jalleam, jalliam, jallkam, jallpam, jilleam, jilliam, jillkam, jillpam, walleam, walliam, wallkam, wallpam, willeam, william, willkam, willpam\n",
      "\n"
     ]
    }
   ],
   "source": [
    "for i in range(5):\n",
    "    dd = daydream(5000, n_visible, n_hidden, W)\n",
    "    dd = dd.reshape(1, dd.shape[0])\n",
    "    dd = dd[:,1:]\n",
    "    dd = get_permutation(decode_ohe(dd, max_letters, rencoding))\n",
    "    dd = ', '.join(dd)\n",
    "    print('daydream iteration {}'.format(i + 1))\n",
    "    print(dd)\n",
    "    print('')"
   ]
  }
 ],
 "metadata": {
  "kernelspec": {
   "display_name": "Python 3",
   "language": "python",
   "name": "python3"
  },
  "language_info": {
   "codemirror_mode": {
    "name": "ipython",
    "version": 3
   },
   "file_extension": ".py",
   "mimetype": "text/x-python",
   "name": "python",
   "nbconvert_exporter": "python",
   "pygments_lexer": "ipython3",
   "version": "3.7.4"
  }
 },
 "nbformat": 4,
 "nbformat_minor": 4
}
