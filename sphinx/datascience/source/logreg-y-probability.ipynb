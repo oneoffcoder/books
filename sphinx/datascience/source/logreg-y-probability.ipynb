{
 "cells": [
  {
   "cell_type": "markdown",
   "metadata": {},
   "source": [
    "# Logistic Regression on Probabilities\n",
    "\n",
    "Typical uses of logistic regression have the dependent variable's values encoded as 1 or 0. However, sometimes, the dependent variable may come as probabilities. Scikit-Learn will not work when the dependent variable is not encoded as binary values. \n",
    "\n",
    "What can we do? We may choose an arbitrary threshold (e.g. 0.5) and set all values greater than or equal to such threshold as 1 and the others as 0. But the threshold is arbitrary. Of course, we can do other types of analyses to see which threshold is the best one, but nevertheless, our learned model (the learned coefficients) will change.\n",
    "\n",
    "You can actually perform logistic regression on a continuous dependent variable, however, you will have to code up the algorithm to learn the coefficients yourself. You may be wondering, when would I want to perform logistic regression on a continuous output? Take the [Bradley-Terry Model](https://en.wikipedia.org/wiki/Bradley%E2%80%93Terry_model), which estimates paired ranking preferences. In these models, the design matrix `X` is regressed against continuous values to estimate rankings. "
   ]
  },
  {
   "cell_type": "markdown",
   "metadata": {},
   "source": [
    "## Data\n",
    "\n",
    "This data comes from the [A. Agresti](https://www.amazon.com/Introduction-Categorical-Analysis-Probability-Statistics/dp/1119405262/) book `Introduction to Categorical Analysis`. The data is composed of head-to-head matches between 5 professional men's tennis players. For each row, $n_{ij}$ is the number of wins and $n_{ji}$ is the number of losses for the player marked by 1 against the player marked by -1. The $y$ value is derived as $y = \\dfrac{n_{ij}}{n_{ij} + n_{ji}}$. The design matrix `X` is just the data without $n_{ij}$, $n_{ji}$ and $y$. The dependent variable $y$ is continuous and each value is a probability. If we perform logistic regression $y \\sim X$, the coefficients give us the rankings of each player."
   ]
  },
  {
   "cell_type": "code",
   "execution_count": 1,
   "metadata": {
    "execution": {
     "iopub.execute_input": "2021-12-01T16:31:46.118975Z",
     "iopub.status.busy": "2021-12-01T16:31:46.118818Z",
     "iopub.status.idle": "2021-12-01T16:31:46.291938Z",
     "shell.execute_reply": "2021-12-01T16:31:46.291356Z",
     "shell.execute_reply.started": "2021-12-01T16:31:46.118936Z"
    }
   },
   "outputs": [
    {
     "data": {
      "text/html": [
       "<div>\n",
       "<style scoped>\n",
       "    .dataframe tbody tr th:only-of-type {\n",
       "        vertical-align: middle;\n",
       "    }\n",
       "\n",
       "    .dataframe tbody tr th {\n",
       "        vertical-align: top;\n",
       "    }\n",
       "\n",
       "    .dataframe thead th {\n",
       "        text-align: right;\n",
       "    }\n",
       "</style>\n",
       "<table border=\"1\" class=\"dataframe\">\n",
       "  <thead>\n",
       "    <tr style=\"text-align: right;\">\n",
       "      <th></th>\n",
       "      <th>Djokovic</th>\n",
       "      <th>Federer</th>\n",
       "      <th>Murray</th>\n",
       "      <th>Nadal</th>\n",
       "      <th>Wawrinka</th>\n",
       "      <th>n_ij</th>\n",
       "      <th>n_ji</th>\n",
       "      <th>y</th>\n",
       "    </tr>\n",
       "  </thead>\n",
       "  <tbody>\n",
       "    <tr>\n",
       "      <th>0</th>\n",
       "      <td>1</td>\n",
       "      <td>-1</td>\n",
       "      <td>0</td>\n",
       "      <td>0</td>\n",
       "      <td>0</td>\n",
       "      <td>9</td>\n",
       "      <td>6</td>\n",
       "      <td>0.600000</td>\n",
       "    </tr>\n",
       "    <tr>\n",
       "      <th>1</th>\n",
       "      <td>1</td>\n",
       "      <td>0</td>\n",
       "      <td>-1</td>\n",
       "      <td>0</td>\n",
       "      <td>0</td>\n",
       "      <td>14</td>\n",
       "      <td>3</td>\n",
       "      <td>0.823529</td>\n",
       "    </tr>\n",
       "    <tr>\n",
       "      <th>2</th>\n",
       "      <td>1</td>\n",
       "      <td>0</td>\n",
       "      <td>0</td>\n",
       "      <td>-1</td>\n",
       "      <td>0</td>\n",
       "      <td>9</td>\n",
       "      <td>2</td>\n",
       "      <td>0.818182</td>\n",
       "    </tr>\n",
       "    <tr>\n",
       "      <th>3</th>\n",
       "      <td>1</td>\n",
       "      <td>0</td>\n",
       "      <td>0</td>\n",
       "      <td>0</td>\n",
       "      <td>-1</td>\n",
       "      <td>4</td>\n",
       "      <td>3</td>\n",
       "      <td>0.571429</td>\n",
       "    </tr>\n",
       "    <tr>\n",
       "      <th>4</th>\n",
       "      <td>0</td>\n",
       "      <td>1</td>\n",
       "      <td>-1</td>\n",
       "      <td>0</td>\n",
       "      <td>0</td>\n",
       "      <td>5</td>\n",
       "      <td>0</td>\n",
       "      <td>1.000000</td>\n",
       "    </tr>\n",
       "    <tr>\n",
       "      <th>5</th>\n",
       "      <td>0</td>\n",
       "      <td>1</td>\n",
       "      <td>0</td>\n",
       "      <td>-1</td>\n",
       "      <td>0</td>\n",
       "      <td>5</td>\n",
       "      <td>1</td>\n",
       "      <td>0.833333</td>\n",
       "    </tr>\n",
       "    <tr>\n",
       "      <th>6</th>\n",
       "      <td>0</td>\n",
       "      <td>1</td>\n",
       "      <td>0</td>\n",
       "      <td>0</td>\n",
       "      <td>-1</td>\n",
       "      <td>7</td>\n",
       "      <td>2</td>\n",
       "      <td>0.777778</td>\n",
       "    </tr>\n",
       "    <tr>\n",
       "      <th>7</th>\n",
       "      <td>0</td>\n",
       "      <td>0</td>\n",
       "      <td>1</td>\n",
       "      <td>-1</td>\n",
       "      <td>0</td>\n",
       "      <td>2</td>\n",
       "      <td>4</td>\n",
       "      <td>0.333333</td>\n",
       "    </tr>\n",
       "    <tr>\n",
       "      <th>8</th>\n",
       "      <td>0</td>\n",
       "      <td>0</td>\n",
       "      <td>1</td>\n",
       "      <td>0</td>\n",
       "      <td>-1</td>\n",
       "      <td>2</td>\n",
       "      <td>2</td>\n",
       "      <td>0.500000</td>\n",
       "    </tr>\n",
       "    <tr>\n",
       "      <th>9</th>\n",
       "      <td>0</td>\n",
       "      <td>0</td>\n",
       "      <td>0</td>\n",
       "      <td>1</td>\n",
       "      <td>-1</td>\n",
       "      <td>4</td>\n",
       "      <td>3</td>\n",
       "      <td>0.571429</td>\n",
       "    </tr>\n",
       "  </tbody>\n",
       "</table>\n",
       "</div>"
      ],
      "text/plain": [
       "   Djokovic  Federer  Murray  Nadal  Wawrinka  n_ij  n_ji         y\n",
       "0         1       -1       0      0         0     9     6  0.600000\n",
       "1         1        0      -1      0         0    14     3  0.823529\n",
       "2         1        0       0     -1         0     9     2  0.818182\n",
       "3         1        0       0      0        -1     4     3  0.571429\n",
       "4         0        1      -1      0         0     5     0  1.000000\n",
       "5         0        1       0     -1         0     5     1  0.833333\n",
       "6         0        1       0      0        -1     7     2  0.777778\n",
       "7         0        0       1     -1         0     2     4  0.333333\n",
       "8         0        0       1      0        -1     2     2  0.500000\n",
       "9         0        0       0      1        -1     4     3  0.571429"
      ]
     },
     "execution_count": 1,
     "metadata": {},
     "output_type": "execute_result"
    }
   ],
   "source": [
    "import autograd.numpy as np\n",
    "import pandas as pd\n",
    "from autograd import grad\n",
    "\n",
    "df = pd.DataFrame([\n",
    "    [1, -1, 0, 0, 0, 9, 6],\n",
    "    [1, 0, -1, 0, 0, 14, 3],\n",
    "    [1, 0, 0, -1, 0, 9, 2],\n",
    "    [1, 0, 0, 0, -1, 4, 3],\n",
    "    [0, 1, -1, 0, 0, 5, 0],\n",
    "    [0, 1, 0, -1, 0, 5, 1],\n",
    "    [0, 1, 0, 0, -1, 7, 2],\n",
    "    [0, 0, 1, -1, 0, 2, 4],\n",
    "    [0, 0, 1, 0, -1, 2, 2],\n",
    "    [0, 0, 0, 1, -1, 4, 3]\n",
    "], columns=['Djokovic', 'Federer', 'Murray', 'Nadal', 'Wawrinka', 'n_ij', 'n_ji'])\n",
    "df['y'] = df.n_ij / (df.n_ij + df.n_ji)\n",
    "\n",
    "df"
   ]
  },
  {
   "cell_type": "code",
   "execution_count": 2,
   "metadata": {
    "execution": {
     "iopub.execute_input": "2021-12-01T16:31:46.873594Z",
     "iopub.status.busy": "2021-12-01T16:31:46.873445Z",
     "iopub.status.idle": "2021-12-01T16:31:46.876693Z",
     "shell.execute_reply": "2021-12-01T16:31:46.876222Z",
     "shell.execute_reply.started": "2021-12-01T16:31:46.873578Z"
    }
   },
   "outputs": [],
   "source": [
    "X = df[[c for c in df.columns if c not in ['n_ij', 'n_ji', 'y']]].values\n",
    "y = df.y.values"
   ]
  },
  {
   "cell_type": "markdown",
   "metadata": {},
   "source": [
    "## Scikit failure\n",
    "\n",
    "We can see that Scikit-Learn cannot perform logistic regression when $y$ is continuous."
   ]
  },
  {
   "cell_type": "code",
   "execution_count": 3,
   "metadata": {
    "execution": {
     "iopub.execute_input": "2021-12-01T16:31:47.700606Z",
     "iopub.status.busy": "2021-12-01T16:31:47.700452Z",
     "iopub.status.idle": "2021-12-01T16:31:48.057612Z",
     "shell.execute_reply": "2021-12-01T16:31:48.056987Z",
     "shell.execute_reply.started": "2021-12-01T16:31:47.700580Z"
    }
   },
   "outputs": [
    {
     "ename": "ValueError",
     "evalue": "Unknown label type: 'continuous'",
     "output_type": "error",
     "traceback": [
      "\u001b[0;31m---------------------------------------------------------------------------\u001b[0m",
      "\u001b[0;31mValueError\u001b[0m                                Traceback (most recent call last)",
      "\u001b[0;32m<ipython-input-3-f98d958045d5>\u001b[0m in \u001b[0;36m<module>\u001b[0;34m\u001b[0m\n\u001b[1;32m      2\u001b[0m \u001b[0;34m\u001b[0m\u001b[0m\n\u001b[1;32m      3\u001b[0m \u001b[0mm\u001b[0m \u001b[0;34m=\u001b[0m \u001b[0mLogisticRegression\u001b[0m\u001b[0;34m(\u001b[0m\u001b[0;34m)\u001b[0m\u001b[0;34m\u001b[0m\u001b[0;34m\u001b[0m\u001b[0m\n\u001b[0;32m----> 4\u001b[0;31m \u001b[0mm\u001b[0m\u001b[0;34m.\u001b[0m\u001b[0mfit\u001b[0m\u001b[0;34m(\u001b[0m\u001b[0mX\u001b[0m\u001b[0;34m,\u001b[0m \u001b[0my\u001b[0m\u001b[0;34m)\u001b[0m\u001b[0;34m\u001b[0m\u001b[0;34m\u001b[0m\u001b[0m\n\u001b[0m",
      "\u001b[0;32m~/anaconda3/lib/python3.8/site-packages/sklearn/linear_model/_logistic.py\u001b[0m in \u001b[0;36mfit\u001b[0;34m(self, X, y, sample_weight)\u001b[0m\n\u001b[1;32m   1345\u001b[0m                                    \u001b[0morder\u001b[0m\u001b[0;34m=\u001b[0m\u001b[0;34m\"C\"\u001b[0m\u001b[0;34m,\u001b[0m\u001b[0;34m\u001b[0m\u001b[0;34m\u001b[0m\u001b[0m\n\u001b[1;32m   1346\u001b[0m                                    accept_large_sparse=solver != 'liblinear')\n\u001b[0;32m-> 1347\u001b[0;31m         \u001b[0mcheck_classification_targets\u001b[0m\u001b[0;34m(\u001b[0m\u001b[0my\u001b[0m\u001b[0;34m)\u001b[0m\u001b[0;34m\u001b[0m\u001b[0;34m\u001b[0m\u001b[0m\n\u001b[0m\u001b[1;32m   1348\u001b[0m         \u001b[0mself\u001b[0m\u001b[0;34m.\u001b[0m\u001b[0mclasses_\u001b[0m \u001b[0;34m=\u001b[0m \u001b[0mnp\u001b[0m\u001b[0;34m.\u001b[0m\u001b[0munique\u001b[0m\u001b[0;34m(\u001b[0m\u001b[0my\u001b[0m\u001b[0;34m)\u001b[0m\u001b[0;34m\u001b[0m\u001b[0;34m\u001b[0m\u001b[0m\n\u001b[1;32m   1349\u001b[0m \u001b[0;34m\u001b[0m\u001b[0m\n",
      "\u001b[0;32m~/anaconda3/lib/python3.8/site-packages/sklearn/utils/multiclass.py\u001b[0m in \u001b[0;36mcheck_classification_targets\u001b[0;34m(y)\u001b[0m\n\u001b[1;32m    181\u001b[0m     if y_type not in ['binary', 'multiclass', 'multiclass-multioutput',\n\u001b[1;32m    182\u001b[0m                       'multilabel-indicator', 'multilabel-sequences']:\n\u001b[0;32m--> 183\u001b[0;31m         \u001b[0;32mraise\u001b[0m \u001b[0mValueError\u001b[0m\u001b[0;34m(\u001b[0m\u001b[0;34m\"Unknown label type: %r\"\u001b[0m \u001b[0;34m%\u001b[0m \u001b[0my_type\u001b[0m\u001b[0;34m)\u001b[0m\u001b[0;34m\u001b[0m\u001b[0;34m\u001b[0m\u001b[0m\n\u001b[0m\u001b[1;32m    184\u001b[0m \u001b[0;34m\u001b[0m\u001b[0m\n\u001b[1;32m    185\u001b[0m \u001b[0;34m\u001b[0m\u001b[0m\n",
      "\u001b[0;31mValueError\u001b[0m: Unknown label type: 'continuous'"
     ]
    }
   ],
   "source": [
    "from sklearn.linear_model import LogisticRegression\n",
    "\n",
    "m = LogisticRegression()\n",
    "m.fit(X, y)"
   ]
  },
  {
   "cell_type": "markdown",
   "metadata": {},
   "source": [
    "## Log loss\n",
    "\n",
    "We can use gradient descent to learn the model (estimate the coefficients) on our own. The loss function we are trying to optimize is given as follows.\n",
    "\n",
    "- $\\hat{y} = Xw$\n",
    "- $\\dfrac{\\sum -y \\hat{y} + \\log(1 + \\exp(\\hat{y}))}{n}$"
   ]
  },
  {
   "cell_type": "code",
   "execution_count": 4,
   "metadata": {
    "execution": {
     "iopub.execute_input": "2021-12-01T16:31:48.714580Z",
     "iopub.status.busy": "2021-12-01T16:31:48.713995Z",
     "iopub.status.idle": "2021-12-01T16:31:50.840440Z",
     "shell.execute_reply": "2021-12-01T16:31:50.839957Z",
     "shell.execute_reply.started": "2021-12-01T16:31:48.714515Z"
    }
   },
   "outputs": [],
   "source": [
    "from autograd.numpy import exp, log, sqrt\n",
    "\n",
    "def loss(w, X, y):\n",
    "    n = float(len(X))\n",
    "    y_pred = np.dot(X, w)\n",
    "    return np.sum(-(y_pred * y) + log(1.0 + exp(y_pred))) / n\n",
    "\n",
    "loss_grad = grad(loss)\n",
    "w = np.array([0.0 for _ in range(X.shape[1])])\n",
    "alpha=0.05\n",
    "\n",
    "for i in range(10_000):\n",
    "    loss = loss_grad(w, X, y)\n",
    "    w = w - (loss * alpha)"
   ]
  },
  {
   "cell_type": "markdown",
   "metadata": {},
   "source": [
    "Here are the weights/coefficients learned. Notice there is no intercept estimation in the Bradley-Terry model. If we needed an intercept, we would add a column vector of 1 to `X`. These weights corresponding to rankings of each player (sort them descendingly to see who is the top; it should be Federer, Djokovic, Nadal, Wawrinka and then Murray)."
   ]
  },
  {
   "cell_type": "code",
   "execution_count": 5,
   "metadata": {
    "execution": {
     "iopub.execute_input": "2021-12-01T16:31:50.841334Z",
     "iopub.status.busy": "2021-12-01T16:31:50.841170Z",
     "iopub.status.idle": "2021-12-01T16:31:50.844307Z",
     "shell.execute_reply": "2021-12-01T16:31:50.844016Z",
     "shell.execute_reply.started": "2021-12-01T16:31:50.841318Z"
    }
   },
   "outputs": [
    {
     "data": {
      "text/plain": [
       "array([ 0.75898769,  0.96401452, -0.94732759, -0.38448982, -0.39118479])"
      ]
     },
     "execution_count": 5,
     "metadata": {},
     "output_type": "execute_result"
    }
   ],
   "source": [
    "w"
   ]
  },
  {
   "cell_type": "markdown",
   "metadata": {
    "execution": {
     "iopub.execute_input": "2021-12-01T16:22:26.203064Z",
     "iopub.status.busy": "2021-12-01T16:22:26.202798Z",
     "iopub.status.idle": "2021-12-01T16:22:26.206841Z",
     "shell.execute_reply": "2021-12-01T16:22:26.206396Z",
     "shell.execute_reply.started": "2021-12-01T16:22:26.203000Z"
    }
   },
   "source": [
    "Do the following to calculate the probability of Federer beating Djokovic."
   ]
  },
  {
   "cell_type": "code",
   "execution_count": 6,
   "metadata": {
    "execution": {
     "iopub.execute_input": "2021-12-01T16:31:51.349399Z",
     "iopub.status.busy": "2021-12-01T16:31:51.349215Z",
     "iopub.status.idle": "2021-12-01T16:31:51.353403Z",
     "shell.execute_reply": "2021-12-01T16:31:51.352824Z",
     "shell.execute_reply.started": "2021-12-01T16:31:51.349379Z"
    }
   },
   "outputs": [
    {
     "data": {
      "text/plain": [
       "0.5510779076999136"
      ]
     },
     "execution_count": 6,
     "metadata": {},
     "output_type": "execute_result"
    }
   ],
   "source": [
    "np.exp(w[1] - w[0]) / (1 + np.exp(w[1] - w[0]))"
   ]
  },
  {
   "cell_type": "markdown",
   "metadata": {},
   "source": [
    "Do the following the calculate the probability of Djokovic beating Federer."
   ]
  },
  {
   "cell_type": "code",
   "execution_count": 7,
   "metadata": {
    "execution": {
     "iopub.execute_input": "2021-12-01T16:31:52.001751Z",
     "iopub.status.busy": "2021-12-01T16:31:52.001190Z",
     "iopub.status.idle": "2021-12-01T16:31:52.007611Z",
     "shell.execute_reply": "2021-12-01T16:31:52.007160Z",
     "shell.execute_reply.started": "2021-12-01T16:31:52.001686Z"
    }
   },
   "outputs": [
    {
     "data": {
      "text/plain": [
       "0.4489220923000864"
      ]
     },
     "execution_count": 7,
     "metadata": {},
     "output_type": "execute_result"
    }
   ],
   "source": [
    "np.exp(w[0] - w[1]) / (1 + np.exp(w[0] - w[1]))"
   ]
  },
  {
   "cell_type": "markdown",
   "metadata": {},
   "source": [
    "Comparing the true $y$ values to the predicted ones $\\hat{y}$. Notice that Federer has beaten Murray 5-0 or 100%,  but the model estimates 87% chance of win for Federer. "
   ]
  },
  {
   "cell_type": "code",
   "execution_count": 8,
   "metadata": {
    "execution": {
     "iopub.execute_input": "2021-12-01T16:31:52.755560Z",
     "iopub.status.busy": "2021-12-01T16:31:52.755411Z",
     "iopub.status.idle": "2021-12-01T16:31:52.761515Z",
     "shell.execute_reply": "2021-12-01T16:31:52.760889Z",
     "shell.execute_reply.started": "2021-12-01T16:31:52.755546Z"
    }
   },
   "outputs": [
    {
     "data": {
      "text/html": [
       "<div>\n",
       "<style scoped>\n",
       "    .dataframe tbody tr th:only-of-type {\n",
       "        vertical-align: middle;\n",
       "    }\n",
       "\n",
       "    .dataframe tbody tr th {\n",
       "        vertical-align: top;\n",
       "    }\n",
       "\n",
       "    .dataframe thead th {\n",
       "        text-align: right;\n",
       "    }\n",
       "</style>\n",
       "<table border=\"1\" class=\"dataframe\">\n",
       "  <thead>\n",
       "    <tr style=\"text-align: right;\">\n",
       "      <th></th>\n",
       "      <th>y_true</th>\n",
       "      <th>y_pred</th>\n",
       "    </tr>\n",
       "  </thead>\n",
       "  <tbody>\n",
       "    <tr>\n",
       "      <th>0</th>\n",
       "      <td>0.600000</td>\n",
       "      <td>0.448922</td>\n",
       "    </tr>\n",
       "    <tr>\n",
       "      <th>1</th>\n",
       "      <td>0.823529</td>\n",
       "      <td>0.846358</td>\n",
       "    </tr>\n",
       "    <tr>\n",
       "      <th>2</th>\n",
       "      <td>0.818182</td>\n",
       "      <td>0.758318</td>\n",
       "    </tr>\n",
       "    <tr>\n",
       "      <th>3</th>\n",
       "      <td>0.571429</td>\n",
       "      <td>0.759542</td>\n",
       "    </tr>\n",
       "    <tr>\n",
       "      <th>4</th>\n",
       "      <td>1.000000</td>\n",
       "      <td>0.871170</td>\n",
       "    </tr>\n",
       "    <tr>\n",
       "      <th>5</th>\n",
       "      <td>0.833333</td>\n",
       "      <td>0.793885</td>\n",
       "    </tr>\n",
       "    <tr>\n",
       "      <th>6</th>\n",
       "      <td>0.777778</td>\n",
       "      <td>0.794978</td>\n",
       "    </tr>\n",
       "    <tr>\n",
       "      <th>7</th>\n",
       "      <td>0.333333</td>\n",
       "      <td>0.362891</td>\n",
       "    </tr>\n",
       "    <tr>\n",
       "      <th>8</th>\n",
       "      <td>0.500000</td>\n",
       "      <td>0.364440</td>\n",
       "    </tr>\n",
       "    <tr>\n",
       "      <th>9</th>\n",
       "      <td>0.571429</td>\n",
       "      <td>0.501674</td>\n",
       "    </tr>\n",
       "  </tbody>\n",
       "</table>\n",
       "</div>"
      ],
      "text/plain": [
       "     y_true    y_pred\n",
       "0  0.600000  0.448922\n",
       "1  0.823529  0.846358\n",
       "2  0.818182  0.758318\n",
       "3  0.571429  0.759542\n",
       "4  1.000000  0.871170\n",
       "5  0.833333  0.793885\n",
       "6  0.777778  0.794978\n",
       "7  0.333333  0.362891\n",
       "8  0.500000  0.364440\n",
       "9  0.571429  0.501674"
      ]
     },
     "execution_count": 8,
     "metadata": {},
     "output_type": "execute_result"
    }
   ],
   "source": [
    "import pandas as pd\n",
    "\n",
    "pd.DataFrame({\n",
    "    'y_true': y,\n",
    "    'y_pred': 1 / (1 + np.exp(-X.dot(w)))\n",
    "})"
   ]
  },
  {
   "cell_type": "markdown",
   "metadata": {},
   "source": [
    "## MSE loss\n",
    "\n",
    "Here's another interesting thing to do. Let's define the loss function using Mean Squared Error (MSE) and learn the model using this loss function.\n",
    "\n",
    "- $\\hat{y} = \\dfrac{1}{1 + \\exp(Xw)}$\n",
    "- $\\dfrac{\\sum (\\hat{y} - y)^2}{n}$"
   ]
  },
  {
   "cell_type": "code",
   "execution_count": 9,
   "metadata": {
    "execution": {
     "iopub.execute_input": "2021-12-01T16:31:53.736561Z",
     "iopub.status.busy": "2021-12-01T16:31:53.736405Z",
     "iopub.status.idle": "2021-12-01T16:31:57.830451Z",
     "shell.execute_reply": "2021-12-01T16:31:57.830024Z",
     "shell.execute_reply.started": "2021-12-01T16:31:53.736535Z"
    }
   },
   "outputs": [],
   "source": [
    "def loss(w, X, y):\n",
    "    n = float(len(X))\n",
    "    y_pred = np.dot(X, w)\n",
    "    y_pred = 1 / (1 + np.exp(-y_pred))\n",
    "    \n",
    "    loss = ((y_pred - y) ** 2.0)\n",
    "    return loss.mean(axis=None)\n",
    "\n",
    "loss_grad = grad(loss)\n",
    "w = np.array([0.0 for _ in range(X.shape[1])])\n",
    "alpha=0.05\n",
    "\n",
    "for i in range(20_000):\n",
    "    loss = loss_grad(w, X, y)\n",
    "    w = w - (loss * alpha)"
   ]
  },
  {
   "cell_type": "markdown",
   "metadata": {},
   "source": [
    "Here are the weights."
   ]
  },
  {
   "cell_type": "code",
   "execution_count": 10,
   "metadata": {
    "execution": {
     "iopub.execute_input": "2021-12-01T16:31:57.831215Z",
     "iopub.status.busy": "2021-12-01T16:31:57.831081Z",
     "iopub.status.idle": "2021-12-01T16:31:57.834239Z",
     "shell.execute_reply": "2021-12-01T16:31:57.833815Z",
     "shell.execute_reply.started": "2021-12-01T16:31:57.831202Z"
    }
   },
   "outputs": [
    {
     "data": {
      "text/plain": [
       "array([ 0.8115388 ,  0.86375836, -0.87645027, -0.35292713, -0.44591976])"
      ]
     },
     "execution_count": 10,
     "metadata": {},
     "output_type": "execute_result"
    }
   ],
   "source": [
    "w"
   ]
  },
  {
   "cell_type": "markdown",
   "metadata": {},
   "source": [
    "What's the chance of Federer beating Djokovic?"
   ]
  },
  {
   "cell_type": "code",
   "execution_count": 11,
   "metadata": {
    "execution": {
     "iopub.execute_input": "2021-12-01T16:31:57.835441Z",
     "iopub.status.busy": "2021-12-01T16:31:57.835266Z",
     "iopub.status.idle": "2021-12-01T16:31:57.849231Z",
     "shell.execute_reply": "2021-12-01T16:31:57.848785Z",
     "shell.execute_reply.started": "2021-12-01T16:31:57.835423Z"
    }
   },
   "outputs": [
    {
     "data": {
      "text/plain": [
       "0.5130519259636259"
      ]
     },
     "execution_count": 11,
     "metadata": {},
     "output_type": "execute_result"
    }
   ],
   "source": [
    "np.exp(w[1] - w[0]) / (1 + np.exp(w[1] - w[0]))"
   ]
  },
  {
   "cell_type": "markdown",
   "metadata": {},
   "source": [
    "What's the chance of Djokovic beating Federer?"
   ]
  },
  {
   "cell_type": "code",
   "execution_count": 12,
   "metadata": {
    "execution": {
     "iopub.execute_input": "2021-12-01T16:31:57.850047Z",
     "iopub.status.busy": "2021-12-01T16:31:57.849901Z",
     "iopub.status.idle": "2021-12-01T16:31:57.853905Z",
     "shell.execute_reply": "2021-12-01T16:31:57.853448Z",
     "shell.execute_reply.started": "2021-12-01T16:31:57.850029Z"
    }
   },
   "outputs": [
    {
     "data": {
      "text/plain": [
       "0.486948074036374"
      ]
     },
     "execution_count": 12,
     "metadata": {},
     "output_type": "execute_result"
    }
   ],
   "source": [
    "np.exp(w[0] - w[1]) / (1 + np.exp(w[0] - w[1]))"
   ]
  },
  {
   "cell_type": "markdown",
   "metadata": {},
   "source": [
    "Compare the $y$ against $\\hat{y}$."
   ]
  },
  {
   "cell_type": "code",
   "execution_count": 13,
   "metadata": {
    "execution": {
     "iopub.execute_input": "2021-12-01T16:31:57.854689Z",
     "iopub.status.busy": "2021-12-01T16:31:57.854508Z",
     "iopub.status.idle": "2021-12-01T16:31:57.861769Z",
     "shell.execute_reply": "2021-12-01T16:31:57.861362Z",
     "shell.execute_reply.started": "2021-12-01T16:31:57.854654Z"
    }
   },
   "outputs": [
    {
     "data": {
      "text/html": [
       "<div>\n",
       "<style scoped>\n",
       "    .dataframe tbody tr th:only-of-type {\n",
       "        vertical-align: middle;\n",
       "    }\n",
       "\n",
       "    .dataframe tbody tr th {\n",
       "        vertical-align: top;\n",
       "    }\n",
       "\n",
       "    .dataframe thead th {\n",
       "        text-align: right;\n",
       "    }\n",
       "</style>\n",
       "<table border=\"1\" class=\"dataframe\">\n",
       "  <thead>\n",
       "    <tr style=\"text-align: right;\">\n",
       "      <th></th>\n",
       "      <th>y_true</th>\n",
       "      <th>y_pred</th>\n",
       "    </tr>\n",
       "  </thead>\n",
       "  <tbody>\n",
       "    <tr>\n",
       "      <th>0</th>\n",
       "      <td>0.600000</td>\n",
       "      <td>0.486948</td>\n",
       "    </tr>\n",
       "    <tr>\n",
       "      <th>1</th>\n",
       "      <td>0.823529</td>\n",
       "      <td>0.843960</td>\n",
       "    </tr>\n",
       "    <tr>\n",
       "      <th>2</th>\n",
       "      <td>0.818182</td>\n",
       "      <td>0.762143</td>\n",
       "    </tr>\n",
       "    <tr>\n",
       "      <th>3</th>\n",
       "      <td>0.571429</td>\n",
       "      <td>0.778588</td>\n",
       "    </tr>\n",
       "    <tr>\n",
       "      <th>4</th>\n",
       "      <td>1.000000</td>\n",
       "      <td>0.850714</td>\n",
       "    </tr>\n",
       "    <tr>\n",
       "      <th>5</th>\n",
       "      <td>0.833333</td>\n",
       "      <td>0.771480</td>\n",
       "    </tr>\n",
       "    <tr>\n",
       "      <th>6</th>\n",
       "      <td>0.777778</td>\n",
       "      <td>0.787459</td>\n",
       "    </tr>\n",
       "    <tr>\n",
       "      <th>7</th>\n",
       "      <td>0.333333</td>\n",
       "      <td>0.372029</td>\n",
       "    </tr>\n",
       "    <tr>\n",
       "      <th>8</th>\n",
       "      <td>0.500000</td>\n",
       "      <td>0.394000</td>\n",
       "    </tr>\n",
       "    <tr>\n",
       "      <th>9</th>\n",
       "      <td>0.571429</td>\n",
       "      <td>0.523231</td>\n",
       "    </tr>\n",
       "  </tbody>\n",
       "</table>\n",
       "</div>"
      ],
      "text/plain": [
       "     y_true    y_pred\n",
       "0  0.600000  0.486948\n",
       "1  0.823529  0.843960\n",
       "2  0.818182  0.762143\n",
       "3  0.571429  0.778588\n",
       "4  1.000000  0.850714\n",
       "5  0.833333  0.771480\n",
       "6  0.777778  0.787459\n",
       "7  0.333333  0.372029\n",
       "8  0.500000  0.394000\n",
       "9  0.571429  0.523231"
      ]
     },
     "execution_count": 13,
     "metadata": {},
     "output_type": "execute_result"
    }
   ],
   "source": [
    "pd.DataFrame({\n",
    "    'y_true': y,\n",
    "    'y_pred': 1 / (1 + np.exp(-X.dot(w)))\n",
    "})"
   ]
  }
 ],
 "metadata": {
  "kernelspec": {
   "display_name": "Python 3",
   "language": "python",
   "name": "python3"
  },
  "language_info": {
   "codemirror_mode": {
    "name": "ipython",
    "version": 3
   },
   "file_extension": ".py",
   "mimetype": "text/x-python",
   "name": "python",
   "nbconvert_exporter": "python",
   "pygments_lexer": "ipython3",
   "version": "3.8.5"
  },
  "widgets": {
   "application/vnd.jupyter.widget-state+json": {
    "state": {},
    "version_major": 2,
    "version_minor": 0
   }
  }
 },
 "nbformat": 4,
 "nbformat_minor": 4
}
