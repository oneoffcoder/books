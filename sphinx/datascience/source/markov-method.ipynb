{
 "cells": [
  {
   "cell_type": "markdown",
   "metadata": {},
   "source": [
    "# Markov Method"
   ]
  },
  {
   "cell_type": "code",
   "execution_count": 1,
   "metadata": {},
   "outputs": [
    {
     "data": {
      "text/html": [
       "<div>\n",
       "<style scoped>\n",
       "    .dataframe tbody tr th:only-of-type {\n",
       "        vertical-align: middle;\n",
       "    }\n",
       "\n",
       "    .dataframe tbody tr th {\n",
       "        vertical-align: top;\n",
       "    }\n",
       "\n",
       "    .dataframe thead th {\n",
       "        text-align: right;\n",
       "    }\n",
       "</style>\n",
       "<table border=\"1\" class=\"dataframe\">\n",
       "  <thead>\n",
       "    <tr style=\"text-align: right;\">\n",
       "      <th></th>\n",
       "      <th>Duke</th>\n",
       "      <th>Miami</th>\n",
       "      <th>UNC</th>\n",
       "      <th>UVA</th>\n",
       "      <th>VT</th>\n",
       "    </tr>\n",
       "  </thead>\n",
       "  <tbody>\n",
       "    <tr>\n",
       "      <th>Duke</th>\n",
       "      <td>NaN</td>\n",
       "      <td>(7, 52)</td>\n",
       "      <td>(21, 24)</td>\n",
       "      <td>(7, 38)</td>\n",
       "      <td>(0, 45)</td>\n",
       "    </tr>\n",
       "    <tr>\n",
       "      <th>Miami</th>\n",
       "      <td>(52, 7)</td>\n",
       "      <td>NaN</td>\n",
       "      <td>(34, 16)</td>\n",
       "      <td>(25, 17)</td>\n",
       "      <td>(27, 7)</td>\n",
       "    </tr>\n",
       "    <tr>\n",
       "      <th>UNC</th>\n",
       "      <td>(24, 21)</td>\n",
       "      <td>(16, 34)</td>\n",
       "      <td>NaN</td>\n",
       "      <td>(7, 5)</td>\n",
       "      <td>(3, 30)</td>\n",
       "    </tr>\n",
       "    <tr>\n",
       "      <th>UVA</th>\n",
       "      <td>(38, 7)</td>\n",
       "      <td>(17, 25)</td>\n",
       "      <td>(5, 7)</td>\n",
       "      <td>NaN</td>\n",
       "      <td>(14, 52)</td>\n",
       "    </tr>\n",
       "    <tr>\n",
       "      <th>VT</th>\n",
       "      <td>(45, 0)</td>\n",
       "      <td>(7, 27)</td>\n",
       "      <td>(30, 3)</td>\n",
       "      <td>(52, 14)</td>\n",
       "      <td>NaN</td>\n",
       "    </tr>\n",
       "  </tbody>\n",
       "</table>\n",
       "</div>"
      ],
      "text/plain": [
       "           Duke     Miami       UNC       UVA        VT\n",
       "Duke        NaN   (7, 52)  (21, 24)   (7, 38)   (0, 45)\n",
       "Miami   (52, 7)       NaN  (34, 16)  (25, 17)   (27, 7)\n",
       "UNC    (24, 21)  (16, 34)       NaN    (7, 5)   (3, 30)\n",
       "UVA     (38, 7)  (17, 25)    (5, 7)       NaN  (14, 52)\n",
       "VT      (45, 0)   (7, 27)   (30, 3)  (52, 14)       NaN"
      ]
     },
     "execution_count": 1,
     "metadata": {},
     "output_type": "execute_result"
    }
   ],
   "source": [
    "import pandas as pd\n",
    "import numpy as np\n",
    "\n",
    "def get_teams(df):\n",
    "    return sorted(list(set(df.t1) | set(df.t2)))\n",
    "\n",
    "def get_stats(df, f1='s1', f2='s2'):\n",
    "    def get_scores(t1, t2):\n",
    "        x = df[(df.t1 == t1) & (df.t2 == t2)]\n",
    "        if x.shape[0] > 0:\n",
    "            return x.iloc[0][f1], x.iloc[0][f2]\n",
    "\n",
    "        x = df[(df.t1 == t2) & (df.t2 == t1)]\n",
    "        if x.shape[0] > 0:\n",
    "            return x.iloc[0][f2], x.iloc[0][f1]\n",
    "\n",
    "        return np.nan\n",
    "\n",
    "    teams = get_teams(df)\n",
    "    return pd.DataFrame([[get_scores(t1, t2) for t2 in teams] for t1 in teams], index=teams, columns=teams)\n",
    "\n",
    "fpath = './ranking/acc-2005-ncaaf.csv'\n",
    "df = get_stats(pd.read_csv(fpath))\n",
    "df"
   ]
  },
  {
   "cell_type": "code",
   "execution_count": 2,
   "metadata": {},
   "outputs": [],
   "source": [
    "def adjust(df):\n",
    "    for r, s in enumerate(df.sum(axis=1)):\n",
    "        if s == 0:\n",
    "            df.iloc[r,:] = 1\n",
    "    return df\n",
    "\n",
    "def normalize(df):\n",
    "    return pd.DataFrame([df.iloc[r,:] * s \n",
    "                         for r, s in enumerate(1 / df.sum(axis=1))], \n",
    "                        index=df.index, columns=df.columns)\n",
    "\n",
    "def vote_by_loss(df):\n",
    "    def get_vote(v):\n",
    "        if pd.isna(v):\n",
    "            return 0\n",
    "        s1, s2 = v\n",
    "        return 1 if s1 < s2 else 0\n",
    "    \n",
    "    return pd.DataFrame([[get_vote(r[c]) for c in df.columns] \n",
    "                         for _, r in df.iterrows()], \n",
    "                        index=df.index, columns=df.columns)\n",
    "\n",
    "def vote_by_point_differential(df):\n",
    "    def get_point(v):\n",
    "        if pd.isna(v):\n",
    "            return 0\n",
    "        s1, s2 = v\n",
    "        diff = s2 - s1\n",
    "        return 0 if diff < 0 else diff\n",
    "    \n",
    "    return pd.DataFrame([[get_point(r[c]) for c in df.columns] \n",
    "                         for _, r in df.iterrows()], \n",
    "                        index=df.index, columns=df.columns)\n",
    "\n",
    "def vote_by_opponent_stats(df):\n",
    "    def get_stats(v):\n",
    "        if pd.isna(v):\n",
    "            return 0\n",
    "        _, s2 = v\n",
    "        return s2\n",
    "    \n",
    "    return pd.DataFrame([[get_stats(r[c]) for c in df.columns] \n",
    "                         for _, r in df.iterrows()], \n",
    "                        index=df.index, columns=df.columns)\n",
    "\n",
    "def vote_by_team_stats(df):\n",
    "    def get_stats(v):\n",
    "        if pd.isna(v):\n",
    "            return 0\n",
    "        s1, _ = v\n",
    "        return s1\n",
    "    \n",
    "    return pd.DataFrame([[get_stats(r[c]) for c in df.columns] \n",
    "                         for _, r in df.iterrows()], \n",
    "                        index=df.index, columns=df.columns)\n",
    "\n",
    "def get_stationary_p(X):\n",
    "    S, U = np.linalg.eig(X.T)\n",
    "    r = (U[:,np.isclose(S, 1)][:,0] / U[:,np.isclose(S, 1)][:,0].sum()).real\n",
    "    return pd.Series(r, index=X.index)"
   ]
  },
  {
   "cell_type": "code",
   "execution_count": 3,
   "metadata": {},
   "outputs": [
    {
     "data": {
      "text/plain": [
       "Duke     0.087591\n",
       "Miami    0.437956\n",
       "UNC      0.145985\n",
       "UVA      0.109489\n",
       "VT       0.218978\n",
       "dtype: float64"
      ]
     },
     "execution_count": 3,
     "metadata": {},
     "output_type": "execute_result"
    }
   ],
   "source": [
    "get_stationary_p(normalize(adjust(vote_by_loss(df))))"
   ]
  },
  {
   "cell_type": "code",
   "execution_count": 4,
   "metadata": {},
   "outputs": [
    {
     "data": {
      "text/plain": [
       "Duke     0.088304\n",
       "Miami    0.441519\n",
       "UNC      0.095039\n",
       "UVA      0.110380\n",
       "VT       0.264757\n",
       "dtype: float64"
      ]
     },
     "execution_count": 4,
     "metadata": {},
     "output_type": "execute_result"
    }
   ],
   "source": [
    "get_stationary_p(normalize(adjust(vote_by_point_differential(df))))"
   ]
  },
  {
   "cell_type": "code",
   "execution_count": 5,
   "metadata": {},
   "outputs": [],
   "source": [
    "S_p = normalize(adjust(vote_by_opponent_stats(df)))\n",
    "\n",
    "S_y = normalize(\n",
    "        adjust(\n",
    "            vote_by_opponent_stats(\n",
    "                get_stats(pd.read_csv(fpath), f1='y1', f2='y2'))))\n",
    "\n",
    "S_t = normalize(\n",
    "        adjust(\n",
    "            vote_by_team_stats(\n",
    "                get_stats(pd.read_csv(fpath), f1='to1', f2='to2'))))\n",
    "\n",
    "S_poss = normalize(\n",
    "        adjust(\n",
    "            vote_by_team_stats(\n",
    "                get_stats(pd.read_csv(fpath), f1='p1', f2='p2'))))"
   ]
  },
  {
   "cell_type": "code",
   "execution_count": 6,
   "metadata": {},
   "outputs": [
    {
     "data": {
      "text/plain": [
       "Duke     0.095384\n",
       "Miami    0.296301\n",
       "UNC      0.148504\n",
       "UVA      0.215845\n",
       "VT       0.243967\n",
       "dtype: float64"
      ]
     },
     "execution_count": 6,
     "metadata": {},
     "output_type": "execute_result"
    }
   ],
   "source": [
    "get_stationary_p(S_p)"
   ]
  },
  {
   "cell_type": "code",
   "execution_count": 7,
   "metadata": {},
   "outputs": [
    {
     "data": {
      "text/plain": [
       "Duke     0.104596\n",
       "Miami    0.248631\n",
       "UNC      0.169855\n",
       "UVA      0.259757\n",
       "VT       0.217161\n",
       "dtype: float64"
      ]
     },
     "execution_count": 7,
     "metadata": {},
     "output_type": "execute_result"
    }
   ],
   "source": [
    "get_stationary_p(S_y)"
   ]
  },
  {
   "cell_type": "code",
   "execution_count": 8,
   "metadata": {},
   "outputs": [
    {
     "data": {
      "text/plain": [
       "Duke     0.189286\n",
       "Miami    0.241413\n",
       "UNC      0.212132\n",
       "UVA      0.124894\n",
       "VT       0.232275\n",
       "dtype: float64"
      ]
     },
     "execution_count": 8,
     "metadata": {},
     "output_type": "execute_result"
    }
   ],
   "source": [
    "get_stationary_p(S_t)"
   ]
  },
  {
   "cell_type": "code",
   "execution_count": 9,
   "metadata": {},
   "outputs": [
    {
     "data": {
      "text/plain": [
       "Duke     0.201862\n",
       "Miami    0.197136\n",
       "UNC      0.208133\n",
       "UVA      0.187274\n",
       "VT       0.205595\n",
       "dtype: float64"
      ]
     },
     "execution_count": 9,
     "metadata": {},
     "output_type": "execute_result"
    }
   ],
   "source": [
    "get_stationary_p(S_poss)"
   ]
  },
  {
   "cell_type": "code",
   "execution_count": 10,
   "metadata": {},
   "outputs": [
    {
     "data": {
      "text/html": [
       "<div>\n",
       "<style scoped>\n",
       "    .dataframe tbody tr th:only-of-type {\n",
       "        vertical-align: middle;\n",
       "    }\n",
       "\n",
       "    .dataframe tbody tr th {\n",
       "        vertical-align: top;\n",
       "    }\n",
       "\n",
       "    .dataframe thead th {\n",
       "        text-align: right;\n",
       "    }\n",
       "</style>\n",
       "<table border=\"1\" class=\"dataframe\">\n",
       "  <thead>\n",
       "    <tr style=\"text-align: right;\">\n",
       "      <th></th>\n",
       "      <th>Duke</th>\n",
       "      <th>Miami</th>\n",
       "      <th>UNC</th>\n",
       "      <th>UVA</th>\n",
       "      <th>VT</th>\n",
       "    </tr>\n",
       "  </thead>\n",
       "  <tbody>\n",
       "    <tr>\n",
       "      <th>Duke</th>\n",
       "      <td>0.000000</td>\n",
       "      <td>0.246596</td>\n",
       "      <td>0.202874</td>\n",
       "      <td>0.227091</td>\n",
       "      <td>0.323439</td>\n",
       "    </tr>\n",
       "    <tr>\n",
       "      <th>Miami</th>\n",
       "      <td>0.209417</td>\n",
       "      <td>0.000000</td>\n",
       "      <td>0.321459</td>\n",
       "      <td>0.305492</td>\n",
       "      <td>0.163632</td>\n",
       "    </tr>\n",
       "    <tr>\n",
       "      <th>UNC</th>\n",
       "      <td>0.243919</td>\n",
       "      <td>0.329890</td>\n",
       "      <td>0.000000</td>\n",
       "      <td>0.157833</td>\n",
       "      <td>0.268358</td>\n",
       "    </tr>\n",
       "    <tr>\n",
       "      <th>UVA</th>\n",
       "      <td>0.163728</td>\n",
       "      <td>0.205400</td>\n",
       "      <td>0.174977</td>\n",
       "      <td>0.000000</td>\n",
       "      <td>0.455895</td>\n",
       "    </tr>\n",
       "    <tr>\n",
       "      <th>VT</th>\n",
       "      <td>0.100524</td>\n",
       "      <td>0.465297</td>\n",
       "      <td>0.186260</td>\n",
       "      <td>0.247918</td>\n",
       "      <td>0.000000</td>\n",
       "    </tr>\n",
       "  </tbody>\n",
       "</table>\n",
       "</div>"
      ],
      "text/plain": [
       "           Duke     Miami       UNC       UVA        VT\n",
       "Duke   0.000000  0.246596  0.202874  0.227091  0.323439\n",
       "Miami  0.209417  0.000000  0.321459  0.305492  0.163632\n",
       "UNC    0.243919  0.329890  0.000000  0.157833  0.268358\n",
       "UVA    0.163728  0.205400  0.174977  0.000000  0.455895\n",
       "VT     0.100524  0.465297  0.186260  0.247918  0.000000"
      ]
     },
     "execution_count": 10,
     "metadata": {},
     "output_type": "execute_result"
    }
   ],
   "source": [
    "a = 1 / 4\n",
    "S = (a * S_p) + (a * S_y) + (a * S_t) + (a * S_poss)\n",
    "S"
   ]
  },
  {
   "cell_type": "code",
   "execution_count": 11,
   "metadata": {},
   "outputs": [
    {
     "data": {
      "text/plain": [
       "Duke     0.150692\n",
       "Miami    0.243539\n",
       "UNC      0.185036\n",
       "UVA      0.194029\n",
       "VT       0.226703\n",
       "dtype: float64"
      ]
     },
     "execution_count": 11,
     "metadata": {},
     "output_type": "execute_result"
    }
   ],
   "source": [
    "get_stationary_p(S)"
   ]
  },
  {
   "cell_type": "code",
   "execution_count": null,
   "metadata": {},
   "outputs": [],
   "source": []
  }
 ],
 "metadata": {
  "kernelspec": {
   "display_name": "Python 3",
   "language": "python",
   "name": "python3"
  },
  "language_info": {
   "codemirror_mode": {
    "name": "ipython",
    "version": 3
   },
   "file_extension": ".py",
   "mimetype": "text/x-python",
   "name": "python",
   "nbconvert_exporter": "python",
   "pygments_lexer": "ipython3",
   "version": "3.8.3"
  },
  "widgets": {
   "application/vnd.jupyter.widget-state+json": {
    "state": {},
    "version_major": 2,
    "version_minor": 0
   }
  }
 },
 "nbformat": 4,
 "nbformat_minor": 4
}
