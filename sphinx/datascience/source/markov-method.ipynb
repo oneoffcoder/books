{
 "cells": [
  {
   "cell_type": "markdown",
   "metadata": {},
   "source": [
    "# Markov Method\n",
    "\n",
    "The Markov Method is a way of producing a ranking through Markov chains. The main idea starts with the `probability matrix` or `transition matrix`, which is square ($n$ x $n$), where $n$ is the number of players/teams that we are trying to rank. The elements of this matrix starts off as `votes`, where each vote $v_{ij}$ is the i-th team voting in favor of the j-th team. For example, $v_{ij}$ can be \n",
    "\n",
    "- the number of times the i-th team has lost to the j-th team,\n",
    "- the number of points the i-th team allowed the j-th team to score,\n",
    "- the number of yards the i-th team allowed the j-th team,\n",
    "- the number of turnovers the i-th team commited when playing the j-th team, and\n",
    "- the total possession time the i-th team allowed the j-th team.\n",
    "\n",
    "As you can see, $v_{ij}$ is a negative statistics against the i-th team when playing the j-th team. After this voting matrix is created, then it needs to be normalized into probabilities such that each row sums to 1. Where a row sums to 0, then each element in that row should be filled with equal probabilities. Denote this square matrix of probabilities as $S$.\n",
    "\n",
    "There must be a vector $r$ such that $Sr = r$, and such vector is the vector of ratings, also called the `stationary probability`. To find $r$, we can \n",
    "\n",
    "- conduct sampling on $S$,\n",
    "- apply the Power Method on $S$, or\n",
    "- decompose $S$ to find the eigenvalues and eigenvectors.\n",
    "\n",
    "If we apply the Power Method (e.g. $S^q$), then the diagonal of the resulting matrix is $r$. Additionally, if we find the eigenvalues and eigenvectors, then the eigenvector whose eigenvalue is closest to 1 is $r$. Let's see how the Markov Method can be used to induce a ratings and rankings. We will find the ratings and rankings based on finding the eigenvalues and eigenvectors."
   ]
  },
  {
   "cell_type": "markdown",
   "metadata": {},
   "source": [
    "## NCAAF ACC 2005\n",
    "\n",
    "The data comes from the ACC (NCAAF) during the 2005 season. We can transform the data into a $n$ x $n$ matrix easily, where each element can be points, yards, turnovers or possessions."
   ]
  },
  {
   "cell_type": "code",
   "execution_count": 1,
   "metadata": {},
   "outputs": [
    {
     "data": {
      "text/html": [
       "<div>\n",
       "<style scoped>\n",
       "    .dataframe tbody tr th:only-of-type {\n",
       "        vertical-align: middle;\n",
       "    }\n",
       "\n",
       "    .dataframe tbody tr th {\n",
       "        vertical-align: top;\n",
       "    }\n",
       "\n",
       "    .dataframe thead th {\n",
       "        text-align: right;\n",
       "    }\n",
       "</style>\n",
       "<table border=\"1\" class=\"dataframe\">\n",
       "  <thead>\n",
       "    <tr style=\"text-align: right;\">\n",
       "      <th></th>\n",
       "      <th>Duke</th>\n",
       "      <th>Miami</th>\n",
       "      <th>UNC</th>\n",
       "      <th>UVA</th>\n",
       "      <th>VT</th>\n",
       "    </tr>\n",
       "  </thead>\n",
       "  <tbody>\n",
       "    <tr>\n",
       "      <th>Duke</th>\n",
       "      <td>NaN</td>\n",
       "      <td>(7, 52)</td>\n",
       "      <td>(21, 24)</td>\n",
       "      <td>(7, 38)</td>\n",
       "      <td>(0, 45)</td>\n",
       "    </tr>\n",
       "    <tr>\n",
       "      <th>Miami</th>\n",
       "      <td>(52, 7)</td>\n",
       "      <td>NaN</td>\n",
       "      <td>(34, 16)</td>\n",
       "      <td>(25, 17)</td>\n",
       "      <td>(27, 7)</td>\n",
       "    </tr>\n",
       "    <tr>\n",
       "      <th>UNC</th>\n",
       "      <td>(24, 21)</td>\n",
       "      <td>(16, 34)</td>\n",
       "      <td>NaN</td>\n",
       "      <td>(7, 5)</td>\n",
       "      <td>(3, 30)</td>\n",
       "    </tr>\n",
       "    <tr>\n",
       "      <th>UVA</th>\n",
       "      <td>(38, 7)</td>\n",
       "      <td>(17, 25)</td>\n",
       "      <td>(5, 7)</td>\n",
       "      <td>NaN</td>\n",
       "      <td>(14, 52)</td>\n",
       "    </tr>\n",
       "    <tr>\n",
       "      <th>VT</th>\n",
       "      <td>(45, 0)</td>\n",
       "      <td>(7, 27)</td>\n",
       "      <td>(30, 3)</td>\n",
       "      <td>(52, 14)</td>\n",
       "      <td>NaN</td>\n",
       "    </tr>\n",
       "  </tbody>\n",
       "</table>\n",
       "</div>"
      ],
      "text/plain": [
       "           Duke     Miami       UNC       UVA        VT\n",
       "Duke        NaN   (7, 52)  (21, 24)   (7, 38)   (0, 45)\n",
       "Miami   (52, 7)       NaN  (34, 16)  (25, 17)   (27, 7)\n",
       "UNC    (24, 21)  (16, 34)       NaN    (7, 5)   (3, 30)\n",
       "UVA     (38, 7)  (17, 25)    (5, 7)       NaN  (14, 52)\n",
       "VT      (45, 0)   (7, 27)   (30, 3)  (52, 14)       NaN"
      ]
     },
     "execution_count": 1,
     "metadata": {},
     "output_type": "execute_result"
    }
   ],
   "source": [
    "import pandas as pd\n",
    "import numpy as np\n",
    "\n",
    "def get_teams(df):\n",
    "    return sorted(list(set(df.t1) | set(df.t2)))\n",
    "\n",
    "def get_stats(df, f1='s1', f2='s2'):\n",
    "    def get_scores(t1, t2):\n",
    "        x = df[(df.t1 == t1) & (df.t2 == t2)]\n",
    "        if x.shape[0] > 0:\n",
    "            return x.iloc[0][f1], x.iloc[0][f2]\n",
    "\n",
    "        x = df[(df.t1 == t2) & (df.t2 == t1)]\n",
    "        if x.shape[0] > 0:\n",
    "            return x.iloc[0][f2], x.iloc[0][f1]\n",
    "\n",
    "        return np.nan\n",
    "\n",
    "    teams = get_teams(df)\n",
    "    return pd.DataFrame([[get_scores(t1, t2) for t2 in teams] for t1 in teams], index=teams, columns=teams)\n",
    "\n",
    "fpath = './ranking/acc-2005-ncaaf.csv'\n",
    "df = get_stats(pd.read_csv(fpath))\n",
    "df"
   ]
  },
  {
   "cell_type": "code",
   "execution_count": 2,
   "metadata": {},
   "outputs": [],
   "source": [
    "def adjust(df):\n",
    "    for r, s in enumerate(df.sum(axis=1)):\n",
    "        if s == 0:\n",
    "            df.iloc[r,:] = 1\n",
    "    return df\n",
    "\n",
    "def normalize(df):\n",
    "    return pd.DataFrame([df.iloc[r,:] * s \n",
    "                         for r, s in enumerate(1 / df.sum(axis=1))], \n",
    "                        index=df.index, columns=df.columns)\n",
    "\n",
    "def vote_by_loss(df):\n",
    "    def get_vote(v):\n",
    "        if pd.isna(v):\n",
    "            return 0\n",
    "        s1, s2 = v\n",
    "        return 1 if s1 < s2 else 0\n",
    "    \n",
    "    return pd.DataFrame([[get_vote(r[c]) for c in df.columns] \n",
    "                         for _, r in df.iterrows()], \n",
    "                        index=df.index, columns=df.columns)\n",
    "\n",
    "def vote_by_point_differential(df):\n",
    "    def get_point(v):\n",
    "        if pd.isna(v):\n",
    "            return 0\n",
    "        s1, s2 = v\n",
    "        diff = s2 - s1\n",
    "        return 0 if diff < 0 else diff\n",
    "    \n",
    "    return pd.DataFrame([[get_point(r[c]) for c in df.columns] \n",
    "                         for _, r in df.iterrows()], \n",
    "                        index=df.index, columns=df.columns)\n",
    "\n",
    "def vote_by_opponent_stats(df):\n",
    "    def get_stats(v):\n",
    "        if pd.isna(v):\n",
    "            return 0\n",
    "        _, s2 = v\n",
    "        return s2\n",
    "    \n",
    "    return pd.DataFrame([[get_stats(r[c]) for c in df.columns] \n",
    "                         for _, r in df.iterrows()], \n",
    "                        index=df.index, columns=df.columns)\n",
    "\n",
    "def vote_by_team_stats(df):\n",
    "    def get_stats(v):\n",
    "        if pd.isna(v):\n",
    "            return 0\n",
    "        s1, _ = v\n",
    "        return s1\n",
    "    \n",
    "    return pd.DataFrame([[get_stats(r[c]) for c in df.columns] \n",
    "                         for _, r in df.iterrows()], \n",
    "                        index=df.index, columns=df.columns)\n",
    "\n",
    "def get_stationary_p(X):\n",
    "    S, U = np.linalg.eig(X.T)\n",
    "    r = (U[:,np.isclose(S, 1)][:,0] / U[:,np.isclose(S, 1)][:,0].sum()).real\n",
    "    return pd.Series(r, index=X.index)"
   ]
  },
  {
   "cell_type": "markdown",
   "metadata": {},
   "source": [
    "Here is the ranking based on losses."
   ]
  },
  {
   "cell_type": "code",
   "execution_count": 3,
   "metadata": {},
   "outputs": [
    {
     "data": {
      "text/plain": [
       "Miami    0.437956\n",
       "VT       0.218978\n",
       "UNC      0.145985\n",
       "UVA      0.109489\n",
       "Duke     0.087591\n",
       "dtype: float64"
      ]
     },
     "execution_count": 3,
     "metadata": {},
     "output_type": "execute_result"
    }
   ],
   "source": [
    "get_stationary_p(normalize(adjust(vote_by_loss(df)))).sort_values(ascending=False)"
   ]
  },
  {
   "cell_type": "markdown",
   "metadata": {},
   "source": [
    "Here is the ranking based on point differential."
   ]
  },
  {
   "cell_type": "code",
   "execution_count": 4,
   "metadata": {},
   "outputs": [
    {
     "data": {
      "text/plain": [
       "Miami    0.441519\n",
       "VT       0.264757\n",
       "UVA      0.110380\n",
       "UNC      0.095039\n",
       "Duke     0.088304\n",
       "dtype: float64"
      ]
     },
     "execution_count": 4,
     "metadata": {},
     "output_type": "execute_result"
    }
   ],
   "source": [
    "get_stationary_p(normalize(adjust(vote_by_point_differential(df)))).sort_values(ascending=False)"
   ]
  },
  {
   "cell_type": "code",
   "execution_count": 5,
   "metadata": {},
   "outputs": [],
   "source": [
    "S_p = normalize(adjust(vote_by_opponent_stats(df)))\n",
    "\n",
    "S_y = normalize(\n",
    "        adjust(\n",
    "            vote_by_opponent_stats(\n",
    "                get_stats(pd.read_csv(fpath), f1='y1', f2='y2'))))\n",
    "\n",
    "S_t = normalize(\n",
    "        adjust(\n",
    "            vote_by_team_stats(\n",
    "                get_stats(pd.read_csv(fpath), f1='to1', f2='to2'))))\n",
    "\n",
    "S_poss = normalize(\n",
    "        adjust(\n",
    "            vote_by_opponent_stats(\n",
    "                get_stats(pd.read_csv(fpath), f1='p1', f2='p2'))))"
   ]
  },
  {
   "cell_type": "markdown",
   "metadata": {},
   "source": [
    "Here is the ranking based on points given up."
   ]
  },
  {
   "cell_type": "code",
   "execution_count": 6,
   "metadata": {},
   "outputs": [
    {
     "data": {
      "text/plain": [
       "Miami    0.296301\n",
       "VT       0.243967\n",
       "UVA      0.215845\n",
       "UNC      0.148504\n",
       "Duke     0.095384\n",
       "dtype: float64"
      ]
     },
     "execution_count": 6,
     "metadata": {},
     "output_type": "execute_result"
    }
   ],
   "source": [
    "get_stationary_p(S_p).sort_values(ascending=False)"
   ]
  },
  {
   "cell_type": "markdown",
   "metadata": {},
   "source": [
    "Here is the ranking by yards given up."
   ]
  },
  {
   "cell_type": "code",
   "execution_count": 7,
   "metadata": {},
   "outputs": [
    {
     "data": {
      "text/plain": [
       "UVA      0.259757\n",
       "Miami    0.248631\n",
       "VT       0.217161\n",
       "UNC      0.169855\n",
       "Duke     0.104596\n",
       "dtype: float64"
      ]
     },
     "execution_count": 7,
     "metadata": {},
     "output_type": "execute_result"
    }
   ],
   "source": [
    "get_stationary_p(S_y).sort_values(ascending=False)"
   ]
  },
  {
   "cell_type": "markdown",
   "metadata": {},
   "source": [
    "Here is the ranking by turnovers."
   ]
  },
  {
   "cell_type": "code",
   "execution_count": 8,
   "metadata": {},
   "outputs": [
    {
     "data": {
      "text/plain": [
       "Miami    0.241413\n",
       "VT       0.232275\n",
       "UNC      0.212132\n",
       "Duke     0.189286\n",
       "UVA      0.124894\n",
       "dtype: float64"
      ]
     },
     "execution_count": 8,
     "metadata": {},
     "output_type": "execute_result"
    }
   ],
   "source": [
    "get_stationary_p(S_t).sort_values(ascending=False)"
   ]
  },
  {
   "cell_type": "markdown",
   "metadata": {},
   "source": [
    "Here is the ranking by possesion time of the opponent."
   ]
  },
  {
   "cell_type": "code",
   "execution_count": 9,
   "metadata": {},
   "outputs": [
    {
     "data": {
      "text/plain": [
       "UVA      0.211133\n",
       "Miami    0.204502\n",
       "Duke     0.199181\n",
       "VT       0.193825\n",
       "UNC      0.191358\n",
       "dtype: float64"
      ]
     },
     "execution_count": 9,
     "metadata": {},
     "output_type": "execute_result"
    }
   ],
   "source": [
    "get_stationary_p(S_poss).sort_values(ascending=False)"
   ]
  },
  {
   "cell_type": "markdown",
   "metadata": {},
   "source": [
    "## Advanced modeling\n",
    "\n",
    "We can combine all the stochastic matrices above and then induce ratings and a ranking on the combined matrix. In this case, the final stochastic matrix $S$ is defined as follows,\n",
    "\n",
    "$S = \\alpha_1 S_p + \\alpha_2 S_y + \\alpha_3 S_t + \\alpha_4 S_{\\mathrm{poss}}$,\n",
    "\n",
    "where\n",
    "\n",
    "- $\\sum \\alpha_i = 1$,\n",
    "- $S_p$ is the matrix based on points given up,\n",
    "- $S_y$ is the matrix based on yards given up,\n",
    "- $S_t$ is the matrix on turnovers commited, and\n",
    "- $S_{\\mathrm{poss}}$ is the matrix on possession time allowed by the opponent.\n",
    "\n",
    "Each $a_i$ must be given some thoughts, but in this case, we set each $a_i = \\dfrac{1}{4}$ (equal weight is given to all matrices)."
   ]
  },
  {
   "cell_type": "code",
   "execution_count": 10,
   "metadata": {},
   "outputs": [
    {
     "data": {
      "text/html": [
       "<div>\n",
       "<style scoped>\n",
       "    .dataframe tbody tr th:only-of-type {\n",
       "        vertical-align: middle;\n",
       "    }\n",
       "\n",
       "    .dataframe tbody tr th {\n",
       "        vertical-align: top;\n",
       "    }\n",
       "\n",
       "    .dataframe thead th {\n",
       "        text-align: right;\n",
       "    }\n",
       "</style>\n",
       "<table border=\"1\" class=\"dataframe\">\n",
       "  <thead>\n",
       "    <tr style=\"text-align: right;\">\n",
       "      <th></th>\n",
       "      <th>Duke</th>\n",
       "      <th>Miami</th>\n",
       "      <th>UNC</th>\n",
       "      <th>UVA</th>\n",
       "      <th>VT</th>\n",
       "    </tr>\n",
       "  </thead>\n",
       "  <tbody>\n",
       "    <tr>\n",
       "      <th>Duke</th>\n",
       "      <td>0.000000</td>\n",
       "      <td>0.246439</td>\n",
       "      <td>0.197926</td>\n",
       "      <td>0.234021</td>\n",
       "      <td>0.321614</td>\n",
       "    </tr>\n",
       "    <tr>\n",
       "      <th>Miami</th>\n",
       "      <td>0.211919</td>\n",
       "      <td>0.000000</td>\n",
       "      <td>0.298939</td>\n",
       "      <td>0.305075</td>\n",
       "      <td>0.184067</td>\n",
       "    </tr>\n",
       "    <tr>\n",
       "      <th>UNC</th>\n",
       "      <td>0.238747</td>\n",
       "      <td>0.347531</td>\n",
       "      <td>0.000000</td>\n",
       "      <td>0.159557</td>\n",
       "      <td>0.254165</td>\n",
       "    </tr>\n",
       "    <tr>\n",
       "      <th>UVA</th>\n",
       "      <td>0.167831</td>\n",
       "      <td>0.222127</td>\n",
       "      <td>0.176976</td>\n",
       "      <td>0.000000</td>\n",
       "      <td>0.433066</td>\n",
       "    </tr>\n",
       "    <tr>\n",
       "      <th>VT</th>\n",
       "      <td>0.094886</td>\n",
       "      <td>0.442535</td>\n",
       "      <td>0.185634</td>\n",
       "      <td>0.276945</td>\n",
       "      <td>0.000000</td>\n",
       "    </tr>\n",
       "  </tbody>\n",
       "</table>\n",
       "</div>"
      ],
      "text/plain": [
       "           Duke     Miami       UNC       UVA        VT\n",
       "Duke   0.000000  0.246439  0.197926  0.234021  0.321614\n",
       "Miami  0.211919  0.000000  0.298939  0.305075  0.184067\n",
       "UNC    0.238747  0.347531  0.000000  0.159557  0.254165\n",
       "UVA    0.167831  0.222127  0.176976  0.000000  0.433066\n",
       "VT     0.094886  0.442535  0.185634  0.276945  0.000000"
      ]
     },
     "execution_count": 10,
     "metadata": {},
     "output_type": "execute_result"
    }
   ],
   "source": [
    "a = 1 / 4\n",
    "S = (a * S_p) + (a * S_y) + (a * S_t) + (a * S_poss)\n",
    "S"
   ]
  },
  {
   "cell_type": "code",
   "execution_count": 11,
   "metadata": {},
   "outputs": [
    {
     "data": {
      "text/plain": [
       "Miami    0.243905\n",
       "VT       0.225703\n",
       "UVA      0.200676\n",
       "UNC      0.179965\n",
       "Duke     0.149750\n",
       "dtype: float64"
      ]
     },
     "execution_count": 11,
     "metadata": {},
     "output_type": "execute_result"
    }
   ],
   "source": [
    "get_stationary_p(S).sort_values(ascending=False)"
   ]
  }
 ],
 "metadata": {
  "kernelspec": {
   "display_name": "Python 3",
   "language": "python",
   "name": "python3"
  },
  "language_info": {
   "codemirror_mode": {
    "name": "ipython",
    "version": 3
   },
   "file_extension": ".py",
   "mimetype": "text/x-python",
   "name": "python",
   "nbconvert_exporter": "python",
   "pygments_lexer": "ipython3",
   "version": "3.8.3"
  },
  "widgets": {
   "application/vnd.jupyter.widget-state+json": {
    "state": {},
    "version_major": 2,
    "version_minor": 0
   }
  }
 },
 "nbformat": 4,
 "nbformat_minor": 4
}
