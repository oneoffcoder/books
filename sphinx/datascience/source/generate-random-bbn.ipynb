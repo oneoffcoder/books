{
 "cells": [
  {
   "cell_type": "markdown",
   "metadata": {},
   "source": [
    "# Generating Random Bayesian Network\n",
    "\n",
    "This notebook shows how to generate singly- and multi-connected Bayesian Belief Networks (BBNs). The algorithms are taken directly from [here](https://pdfs.semanticscholar.org/5273/2fb57129443592024b0e7e46c2a1ec36639c.pdf). When generating a BBN, you have to generate\n",
    "\n",
    "* the structure, which is a directed acyclic graph (DAG), and\n",
    "* the parameters, which are local probability models.\n",
    "\n",
    "In this notebook, the parameters are assumed to take on the [Dirichlet-Multinomial](https://en.wikipedia.org/wiki/Dirichlet-multinomial_distribution) distribution. If you are wondering, a singly-connected BBN is one when, ignoring the directions of the edges in the DAG, there is at most one path between any two nodes. A multi-connected BBN is one that is not singly-connected (it is defined by the negation of a singly-connected BBN). The BBNs generated using this approach gaurantees the distribution of the BBNs are uniformly distributed (look at the paper for proofs, details, and benefits of having this property). "
   ]
  },
  {
   "cell_type": "markdown",
   "metadata": {},
   "source": [
    "## Generate the structure\n",
    "\n",
    "Here, we generate the DAGs of a singly- and multi-connected BBNs. Note that when we visualize the DAGs, we do so by converting it to an undirected graph only because the layout algorithm is more aesthetically pleasing."
   ]
  },
  {
   "cell_type": "code",
   "execution_count": 1,
   "metadata": {
    "ExecuteTime": {
     "end_time": "2018-04-21T20:04:16.522000Z",
     "start_time": "2018-04-21T20:04:14.630000Z"
    }
   },
   "outputs": [],
   "source": [
    "import warnings\n",
    "import networkx as nx\n",
    "import numpy as np\n",
    "import json\n",
    "import matplotlib.pyplot as plt\n",
    "from networkx.algorithms.dag import is_directed_acyclic_graph\n",
    "from networkx.algorithms.shortest_paths.generic import shortest_path\n",
    "\n",
    "np.random.seed(37)\n",
    "\n",
    "def get_simple_ordered_tree(n):\n",
    "    \"\"\"\n",
    "    Generates a simple-ordered tree. The tree is just a \n",
    "    directed acyclic graph of n nodes with the structure\n",
    "    0 --> 1 --> .... --> n.\n",
    "    \"\"\"\n",
    "    g = nx.DiGraph()\n",
    "    \n",
    "    for i in range(n):\n",
    "        g.add_node(i)\n",
    "    \n",
    "    for i in range(n - 1):\n",
    "        g.add_edges_from([(i, i+1, {})])\n",
    "    return g\n",
    "\n",
    "def convert_to_undirected_graph(g):\n",
    "    \"\"\"\n",
    "    Converts a directed acyclic graph (DAG) to an undirected graph.\n",
    "    We need to convert a DAG to an undirected one to use\n",
    "    some API calls to operate over the undirected graph. For example,\n",
    "    in checking for connectedness of a graph, the API has a method\n",
    "    to check for connectedness of an undirected graph, but not a \n",
    "    DAG.\n",
    "    \"\"\"\n",
    "    u = nx.Graph()\n",
    "    for n in g.nodes:\n",
    "        u.add_node(n)\n",
    "    for e in g.edges:\n",
    "        u.add_edges_from([(e[0], e[1], {})])\n",
    "    return u\n",
    "\n",
    "def is_connected(g):\n",
    "    \"\"\"\n",
    "    Checks if a the directed acyclic graph is connected.\n",
    "    \"\"\"\n",
    "    u = convert_to_undirected_graph(g)\n",
    "    return nx.is_connected(u)\n",
    "\n",
    "def get_random_node_pair(n):\n",
    "    \"\"\"\n",
    "    Randomly generates a pair of nodes.\n",
    "    \"\"\"\n",
    "    i = np.random.randint(0, n)\n",
    "    j = i\n",
    "    while j == i:\n",
    "        j = np.random.randint(0, n)\n",
    "    return i, j\n",
    "\n",
    "def edge_exists(i, j, g):\n",
    "    \"\"\"\n",
    "    Checks if the edge i --> j exists in the graph, g.\n",
    "    \"\"\"\n",
    "    return j in list(g.successors(i))\n",
    "\n",
    "def del_edge(i, j, g):\n",
    "    \"\"\"\n",
    "    Deletes the edge i --> j in the graph, g. The edge is only\n",
    "    deleted if this removal does NOT cause the graph to be\n",
    "    disconnected.\n",
    "    \"\"\"\n",
    "    if g.has_edge(i, j) is True:\n",
    "        g.remove_edge(i, j)\n",
    "\n",
    "        if is_connected(g) is False:\n",
    "            g.add_edges_from([(i, j, {})])\n",
    "        \n",
    "def add_edge(i, j, g):\n",
    "    \"\"\"\n",
    "    Adds an edge i --> j to the graph, g. The edge is only\n",
    "    added if this addition does NOT cause the graph to have\n",
    "    cycles.\n",
    "    \"\"\"\n",
    "    g.add_edges_from([(i, j, {})])\n",
    "    if is_directed_acyclic_graph(g) is False:\n",
    "        g.remove_edge(i, j)\n",
    "        \n",
    "def find_predecessor(i, j, g):\n",
    "    \"\"\"\n",
    "    Finds a predecessor, k, in the path between two nodes, i and j,\n",
    "    in the graph, g. We assume g is connected, and there is a \n",
    "    path between i and j (ignoring the direction of the edges).\n",
    "    We want to find a k, that is a parent of j, that is in\n",
    "    the path between i and j. In some cases, we may not find\n",
    "    such a k.\n",
    "    \"\"\"\n",
    "    parents = list(g.predecessors(j))\n",
    "    u = convert_to_undirected_graph(g)\n",
    "    for pa in parents:\n",
    "        try:\n",
    "            path = shortest_path(u, pa, i)\n",
    "            return pa\n",
    "        except:\n",
    "            pass\n",
    "    return None\n",
    "        \n",
    "def generate_multi_connected_structure(n, max_iter=10):\n",
    "    \"\"\"\n",
    "    Generates a multi-connected directed acyclic graph.\n",
    "    \"\"\"\n",
    "    g = get_simple_ordered_tree(n)\n",
    "    for it in range(max_iter):\n",
    "        i, j = get_random_node_pair(n)\n",
    "        if g.has_edge(i, j) is True:\n",
    "            del_edge(i, j, g)\n",
    "        else:\n",
    "            add_edge(i, j, g)\n",
    "    return g\n",
    "    \n",
    "def generate_singly_structure(n, max_iter=10):\n",
    "    \"\"\"\n",
    "    Generates a singly-connected directed acyclic graph.\n",
    "    \"\"\"\n",
    "    g = get_simple_ordered_tree(n)\n",
    "    \n",
    "    counter = 0\n",
    "    for it in range(max_iter):\n",
    "        i, j = get_random_node_pair(n)\n",
    "        if g.has_edge(i, j) is True or g.has_edge(j, i) is True:\n",
    "            pass\n",
    "        else:\n",
    "            p = np.random.random()\n",
    "            k = find_predecessor(i, j, g)\n",
    "            if k is not None:\n",
    "                g.remove_edge(k, j)\n",
    "                if p < 0.5:\n",
    "                    g.add_edges_from([(j, i, {})])\n",
    "                else:\n",
    "                    g.add_edges_from([(i, j, {})])\n",
    "                \n",
    "                if is_connected(g) is False:\n",
    "                    g.add_edges_from([(k, j, {})])\n",
    "                \n",
    "                    if p < 0.5:\n",
    "                        g.remove_edge(j, i)\n",
    "                    else:\n",
    "                        g.remove_edge(i, j)\n",
    "    return g"
   ]
  },
  {
   "cell_type": "markdown",
   "metadata": {},
   "source": [
    "### Generate DAG for singly-connected BBN"
   ]
  },
  {
   "cell_type": "code",
   "execution_count": 2,
   "metadata": {
    "ExecuteTime": {
     "end_time": "2018-04-21T20:04:16.805000Z",
     "start_time": "2018-04-21T20:04:16.529000Z"
    }
   },
   "outputs": [
    {
     "data": {
      "image/png": "[encoded data removed]",
      "text/plain": [
       "<Figure size 720x360 with 1 Axes>"
      ]
     },
     "metadata": {},
     "output_type": "display_data"
    }
   ],
   "source": [
    "with warnings.catch_warnings(record=True):\n",
    "    s = generate_singly_structure(5, 1000)\n",
    "    plt.figure(figsize=(10, 5))\n",
    "    plt.subplot(111)\n",
    "    nx.draw(convert_to_undirected_graph(s), with_labels=True, font_weight='bold')"
   ]
  },
  {
   "cell_type": "markdown",
   "metadata": {},
   "source": [
    "### Generate DAG for multi-connected BBN"
   ]
  },
  {
   "cell_type": "code",
   "execution_count": 3,
   "metadata": {
    "ExecuteTime": {
     "end_time": "2018-04-21T20:04:16.966000Z",
     "start_time": "2018-04-21T20:04:16.811000Z"
    }
   },
   "outputs": [
    {
     "data": {
      "image/png": "[encoded data removed]",
      "text/plain": [
       "<Figure size 720x360 with 1 Axes>"
      ]
     },
     "metadata": {},
     "output_type": "display_data"
    }
   ],
   "source": [
    "with warnings.catch_warnings(record=True):\n",
    "    m = generate_multi_connected_structure(5, 10)\n",
    "    plt.figure(figsize=(10, 5))\n",
    "    plt.subplot(111)\n",
    "    nx.draw(convert_to_undirected_graph(m), with_labels=True, font_weight='bold')"
   ]
  },
  {
   "cell_type": "markdown",
   "metadata": {},
   "source": [
    "## Generate the parameters\n",
    "\n",
    "Here, we generate parameters for the BBNs. "
   ]
  },
  {
   "cell_type": "code",
   "execution_count": 4,
   "metadata": {
    "ExecuteTime": {
     "end_time": "2018-04-21T20:04:17.255000Z",
     "start_time": "2018-04-21T20:04:16.973000Z"
    }
   },
   "outputs": [],
   "source": [
    "from scipy.stats import dirichlet, multinomial\n",
    "\n",
    "def generate_num_values(n, max_values=2):\n",
    "    \"\"\"\n",
    "    For each node, i, in the nodes, n, determine the number of values\n",
    "    the node (or equivalently, variable) has. Every node/variable in a\n",
    "    Bayesian Network should have 2 or more values. This generates\n",
    "    the number of values each variable will have. Each number will be\n",
    "    sampled uniformly.\n",
    "    \"\"\"\n",
    "    return np.array([max(np.random.randint(0, max_values) + 1, 2) for _ in range(n)])\n",
    "\n",
    "def generate_alphas(n, max_alpha=10):\n",
    "    \"\"\"\n",
    "    Generate random number for the alpha's (the hyperparameters).\n",
    "    Each number will be in the range [1, max_alpha]. Each number will\n",
    "    be sampled uniformly.\n",
    "    \"\"\"\n",
    "    return [np.random.randint(1, max_alpha + 1) for i in range(n)]\n",
    "\n",
    "def sample_dirichlet(n, max_alpha=10):\n",
    "    \"\"\"\n",
    "    Samples from the Dirichlet distribution to a produce\n",
    "    a probability vector of length n. The sum of each probability\n",
    "    in the probability vector should sum to 1.\n",
    "    \"\"\"\n",
    "    return np.array(dirichlet.rvs(generate_alphas(n, max_alpha))[0])\n",
    "\n",
    "def get_num_parent_instantiations(parents, num_values):\n",
    "    num_pa_instantiations = 1\n",
    "    for pa in parents:\n",
    "        num_pa_values = num_values[pa]\n",
    "        num_pa_instantiations *= num_pa_values\n",
    "    return num_pa_instantiations\n",
    "\n",
    "def generate_dirichlet_parameters(i, parents, num_values, max_alpha=10):\n",
    "    \"\"\"\n",
    "    Randomly and uniformly generate parameters for a node i. A matrix\n",
    "    of parameters will be returned. The matrix will represent the \n",
    "    condtional probability table of the node i. The matrix will have\n",
    "    the dimensions m (rows) by n (columns), m x n, where m is the\n",
    "    product of the domain sizes of the parents, and n is the domain\n",
    "    size of the node. The domain size is just the number of values\n",
    "    that a node (variable) has, which should always be greater than\n",
    "    or equal to 2.\n",
    "    \"\"\"\n",
    "    num_pa_instantiations = get_num_parent_instantiations(parents, num_values)\n",
    "    \n",
    "    n = num_values[i]\n",
    "    cpt = []\n",
    "    for pa_instantiation in range(num_pa_instantiations):\n",
    "        probs = sample_dirichlet(n, max_alpha)\n",
    "        cpt.append(probs)\n",
    "    return np.array(cpt)\n",
    "\n",
    "def generate_parameters(g, max_values=2, max_alpha=10):\n",
    "    \"\"\"\n",
    "    Generates parameters for each node in the graph, g.\n",
    "    A dictionary indexed by the node's id will give its\n",
    "    (sampled) parameters and its parents. \n",
    "    \"\"\"\n",
    "    num_nodes = len(list(g.nodes))\n",
    "    num_values = generate_num_values(num_nodes, max_values)\n",
    "    g_params = {}\n",
    "    for i in g.nodes:\n",
    "        parents = list(g.predecessors(i))\n",
    "        params = generate_dirichlet_parameters(i, parents, num_values, max_alpha)\n",
    "        g_params[i] = {\n",
    "            'parents': parents,\n",
    "            'params': params,\n",
    "            'shape': [get_num_parent_instantiations(parents, num_values), num_values[i]]\n",
    "        }\n",
    "    return g_params"
   ]
  },
  {
   "cell_type": "markdown",
   "metadata": {},
   "source": [
    "### Generate parameters for singly-connected BBN"
   ]
  },
  {
   "cell_type": "code",
   "execution_count": 5,
   "metadata": {
    "ExecuteTime": {
     "end_time": "2018-04-21T20:04:17.276000Z",
     "start_time": "2018-04-21T20:04:17.260000Z"
    }
   },
   "outputs": [
    {
     "name": "stdout",
     "output_type": "stream",
     "text": [
      "{0: {'parents': [], 'params': array([[0.74174228, 0.25825772]]), 'shape': [1, 2]}, 1: {'parents': [2, 3, 0, 4], 'params': array([[0.50086958, 0.49913042],\n",
      "       [0.02647713, 0.97352287],\n",
      "       [0.42054028, 0.57945972],\n",
      "       [0.85369846, 0.14630154],\n",
      "       [0.22294388, 0.77705612],\n",
      "       [0.36867171, 0.63132829],\n",
      "       [0.86317661, 0.13682339],\n",
      "       [0.12457256, 0.87542744],\n",
      "       [0.50873009, 0.49126991],\n",
      "       [0.82929381, 0.17070619],\n",
      "       [0.67980646, 0.32019354],\n",
      "       [0.86189091, 0.13810909],\n",
      "       [0.8995967 , 0.1004033 ],\n",
      "       [0.53483643, 0.46516357],\n",
      "       [0.52939964, 0.47060036],\n",
      "       [0.83144941, 0.16855059]]), 'shape': [16, 2]}, 2: {'parents': [], 'params': array([[0.42051707, 0.57948293]]), 'shape': [1, 2]}, 3: {'parents': [], 'params': array([[0.80468897, 0.19531103]]), 'shape': [1, 2]}, 4: {'parents': [], 'params': array([[0.67431296, 0.32568704]]), 'shape': [1, 2]}}\n"
     ]
    }
   ],
   "source": [
    "s_params = generate_parameters(s)\n",
    "print(s_params)"
   ]
  },
  {
   "cell_type": "markdown",
   "metadata": {},
   "source": [
    "### Generate parameters for muti-connected BBN"
   ]
  },
  {
   "cell_type": "code",
   "execution_count": 6,
   "metadata": {
    "ExecuteTime": {
     "end_time": "2018-04-21T20:04:17.294000Z",
     "start_time": "2018-04-21T20:04:17.282000Z"
    }
   },
   "outputs": [
    {
     "name": "stdout",
     "output_type": "stream",
     "text": [
      "{0: {'parents': [], 'params': array([[0.27733808, 0.72266192]]), 'shape': [1, 2]}, 1: {'parents': [0], 'params': array([[0.50940174, 0.49059826],\n",
      "       [0.99785858, 0.00214142]]), 'shape': [2, 2]}, 2: {'parents': [1, 3], 'params': array([[0.33727417, 0.66272583],\n",
      "       [0.79651078, 0.20348922],\n",
      "       [0.40652547, 0.59347453],\n",
      "       [0.88763038, 0.11236962]]), 'shape': [4, 2]}, 3: {'parents': [], 'params': array([[0.85069727, 0.14930273]]), 'shape': [1, 2]}, 4: {'parents': [3, 0], 'params': array([[0.68777784, 0.31222216],\n",
      "       [0.4609832 , 0.5390168 ],\n",
      "       [0.46319254, 0.53680746],\n",
      "       [0.10677866, 0.89322134]]), 'shape': [4, 2]}}\n"
     ]
    }
   ],
   "source": [
    "m_params = generate_parameters(m)\n",
    "print(m_params)"
   ]
  },
  {
   "cell_type": "markdown",
   "metadata": {},
   "source": [
    "## Persist (save) the Bayesian Belief Network\n",
    "\n",
    "Here, we show how to save the BBN (the DAG and parameters). Note that we save it to a JSON file format. There are simply too many formats for BBNs, but the JSON format here has all the information you need to convert it to any other format."
   ]
  },
  {
   "cell_type": "code",
   "execution_count": 7,
   "metadata": {
    "ExecuteTime": {
     "end_time": "2018-04-21T20:04:17.314000Z",
     "start_time": "2018-04-21T20:04:17.302000Z"
    }
   },
   "outputs": [],
   "source": [
    "def to_json(g, params, pretty=True):\n",
    "    to_int_arr = lambda arr: [int(item) for item in arr]\n",
    "    j = {}\n",
    "    \n",
    "    j['nodes'] = list(g.nodes)\n",
    "    j['edges'] = [{'pa': e[0], 'ch': e[1]} for e in g.edges]\n",
    "    j['parameters'] = [{'node': k, \n",
    "                        'params': list(v['params'].flatten()), \n",
    "                        'shape': to_int_arr(v['shape'])} \n",
    "                       for k, v in params.items()]\n",
    "    if pretty:\n",
    "        return json.dumps(j, indent=2, sort_keys=False)\n",
    "    return json.dumps(j)"
   ]
  },
  {
   "cell_type": "markdown",
   "metadata": {},
   "source": [
    "### Persist singly-connected BBN"
   ]
  },
  {
   "cell_type": "code",
   "execution_count": 8,
   "metadata": {
    "ExecuteTime": {
     "end_time": "2018-04-21T20:04:17.336000Z",
     "start_time": "2018-04-21T20:04:17.319000Z"
    }
   },
   "outputs": [
    {
     "name": "stdout",
     "output_type": "stream",
     "text": [
      "{\n",
      "  \"nodes\": [\n",
      "    0,\n",
      "    1,\n",
      "    2,\n",
      "    3,\n",
      "    4\n",
      "  ],\n",
      "  \"edges\": [\n",
      "    {\n",
      "      \"pa\": 0,\n",
      "      \"ch\": 1\n",
      "    },\n",
      "    {\n",
      "      \"pa\": 2,\n",
      "      \"ch\": 1\n",
      "    },\n",
      "    {\n",
      "      \"pa\": 3,\n",
      "      \"ch\": 1\n",
      "    },\n",
      "    {\n",
      "      \"pa\": 4,\n",
      "      \"ch\": 1\n",
      "    }\n",
      "  ],\n",
      "  \"parameters\": [\n",
      "    {\n",
      "      \"node\": 0,\n",
      "      \"params\": [\n",
      "        0.7417422803682197,\n",
      "        0.25825771963178046\n",
      "      ],\n",
      "      \"shape\": [\n",
      "        1,\n",
      "        2\n",
      "      ]\n",
      "    },\n",
      "    {\n",
      "      \"node\": 1,\n",
      "      \"params\": [\n",
      "        0.5008695756264835,\n",
      "        0.4991304243735164,\n",
      "        0.026477131905188734,\n",
      "        0.9735228680948113,\n",
      "        0.42054028327937387,\n",
      "        0.579459716720626,\n",
      "        0.8536984622587769,\n",
      "        0.14630153774122318,\n",
      "        0.22294387680535926,\n",
      "        0.7770561231946408,\n",
      "        0.3686717093409431,\n",
      "        0.6313282906590567,\n",
      "        0.8631766076552874,\n",
      "        0.13682339234471266,\n",
      "        0.1245725606108167,\n",
      "        0.8754274393891833,\n",
      "        0.5087300903407761,\n",
      "        0.49126990965922374,\n",
      "        0.8292938143560679,\n",
      "        0.1707061856439322,\n",
      "        0.6798064596245497,\n",
      "        0.32019354037545045,\n",
      "        0.8618909056718044,\n",
      "        0.13810909432819546,\n",
      "        0.8995966961793681,\n",
      "        0.10040330382063184,\n",
      "        0.5348364275608116,\n",
      "        0.4651635724391883,\n",
      "        0.5293996424146508,\n",
      "        0.47060035758534935,\n",
      "        0.8314494130139252,\n",
      "        0.16855058698607464\n",
      "      ],\n",
      "      \"shape\": [\n",
      "        16,\n",
      "        2\n",
      "      ]\n",
      "    },\n",
      "    {\n",
      "      \"node\": 2,\n",
      "      \"params\": [\n",
      "        0.42051706936960864,\n",
      "        0.5794829306303914\n",
      "      ],\n",
      "      \"shape\": [\n",
      "        1,\n",
      "        2\n",
      "      ]\n",
      "    },\n",
      "    {\n",
      "      \"node\": 3,\n",
      "      \"params\": [\n",
      "        0.8046889692800407,\n",
      "        0.19531103071995928\n",
      "      ],\n",
      "      \"shape\": [\n",
      "        1,\n",
      "        2\n",
      "      ]\n",
      "    },\n",
      "    {\n",
      "      \"node\": 4,\n",
      "      \"params\": [\n",
      "        0.6743129580736985,\n",
      "        0.3256870419263015\n",
      "      ],\n",
      "      \"shape\": [\n",
      "        1,\n",
      "        2\n",
      "      ]\n",
      "    }\n",
      "  ]\n",
      "}\n"
     ]
    }
   ],
   "source": [
    "s_json = to_json(s, s_params)\n",
    "print(s_json)\n",
    "with open('./output/singly-connected.json', 'w') as fhandle:\n",
    "    fhandle.write(to_json(s, s_params, pretty=True))"
   ]
  },
  {
   "cell_type": "markdown",
   "metadata": {},
   "source": [
    "### Persist multi-connected BBN"
   ]
  },
  {
   "cell_type": "code",
   "execution_count": 9,
   "metadata": {
    "ExecuteTime": {
     "end_time": "2018-04-21T20:04:17.356000Z",
     "start_time": "2018-04-21T20:04:17.342000Z"
    }
   },
   "outputs": [
    {
     "name": "stdout",
     "output_type": "stream",
     "text": [
      "{\n",
      "  \"nodes\": [\n",
      "    0,\n",
      "    1,\n",
      "    2,\n",
      "    3,\n",
      "    4\n",
      "  ],\n",
      "  \"edges\": [\n",
      "    {\n",
      "      \"pa\": 0,\n",
      "      \"ch\": 1\n",
      "    },\n",
      "    {\n",
      "      \"pa\": 0,\n",
      "      \"ch\": 4\n",
      "    },\n",
      "    {\n",
      "      \"pa\": 1,\n",
      "      \"ch\": 2\n",
      "    },\n",
      "    {\n",
      "      \"pa\": 3,\n",
      "      \"ch\": 4\n",
      "    },\n",
      "    {\n",
      "      \"pa\": 3,\n",
      "      \"ch\": 2\n",
      "    }\n",
      "  ],\n",
      "  \"parameters\": [\n",
      "    {\n",
      "      \"node\": 0,\n",
      "      \"params\": [\n",
      "        0.2773380778096063,\n",
      "        0.7226619221903937\n",
      "      ],\n",
      "      \"shape\": [\n",
      "        1,\n",
      "        2\n",
      "      ]\n",
      "    },\n",
      "    {\n",
      "      \"node\": 1,\n",
      "      \"params\": [\n",
      "        0.5094017382812316,\n",
      "        0.4905982617187683,\n",
      "        0.9978585783502765,\n",
      "        0.002141421649723624\n",
      "      ],\n",
      "      \"shape\": [\n",
      "        2,\n",
      "        2\n",
      "      ]\n",
      "    },\n",
      "    {\n",
      "      \"node\": 2,\n",
      "      \"params\": [\n",
      "        0.3372741656699353,\n",
      "        0.6627258343300647,\n",
      "        0.7965107759562755,\n",
      "        0.20348922404372444,\n",
      "        0.40652547264228284,\n",
      "        0.5934745273577172,\n",
      "        0.8876303836604758,\n",
      "        0.11236961633952422\n",
      "      ],\n",
      "      \"shape\": [\n",
      "        4,\n",
      "        2\n",
      "      ]\n",
      "    },\n",
      "    {\n",
      "      \"node\": 3,\n",
      "      \"params\": [\n",
      "        0.8506972724905534,\n",
      "        0.14930272750944656\n",
      "      ],\n",
      "      \"shape\": [\n",
      "        1,\n",
      "        2\n",
      "      ]\n",
      "    },\n",
      "    {\n",
      "      \"node\": 4,\n",
      "      \"params\": [\n",
      "        0.6877778356657721,\n",
      "        0.31222216433422784,\n",
      "        0.4609831964438165,\n",
      "        0.5390168035561835,\n",
      "        0.4631925375186775,\n",
      "        0.5368074624813227,\n",
      "        0.10677865814938657,\n",
      "        0.8932213418506135\n",
      "      ],\n",
      "      \"shape\": [\n",
      "        4,\n",
      "        2\n",
      "      ]\n",
      "    }\n",
      "  ]\n",
      "}\n"
     ]
    }
   ],
   "source": [
    "m_json = to_json(m, m_params)\n",
    "print(m_json)\n",
    "with open('./output/multi-connected.json', 'w') as fhandle:\n",
    "    fhandle.write(to_json(m, m_params, pretty=True))"
   ]
  },
  {
   "cell_type": "markdown",
   "metadata": {},
   "source": [
    "## All-in-one (AIO) example\n",
    "\n",
    "Here's a simple AIO example of generating a singly-connected BBN and its corresponding JSON."
   ]
  },
  {
   "cell_type": "code",
   "execution_count": 10,
   "metadata": {
    "ExecuteTime": {
     "end_time": "2018-04-21T20:04:17.447000Z",
     "start_time": "2018-04-21T20:04:17.361000Z"
    }
   },
   "outputs": [],
   "source": [
    "g = generate_singly_structure(5, 1000)\n",
    "p = generate_parameters(g)\n",
    "j = to_json(g, p)"
   ]
  }
 ],
 "metadata": {
  "kernelspec": {
   "display_name": "Python 3",
   "language": "python",
   "name": "python3"
  },
  "language_info": {
   "codemirror_mode": {
    "name": "ipython",
    "version": 3
   },
   "file_extension": ".py",
   "mimetype": "text/x-python",
   "name": "python",
   "nbconvert_exporter": "python",
   "pygments_lexer": "ipython3",
   "version": "3.7.3"
  },
  "toc": {
   "base_numbering": 1,
   "nav_menu": {},
   "number_sections": true,
   "sideBar": true,
   "skip_h1_title": false,
   "title_cell": "Table of Contents",
   "title_sidebar": "Contents",
   "toc_cell": false,
   "toc_position": {},
   "toc_section_display": true,
   "toc_window_display": false
  }
 },
 "nbformat": 4,
 "nbformat_minor": 4
}
