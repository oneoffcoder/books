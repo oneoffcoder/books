{
 "cells": [
  {
   "cell_type": "markdown",
   "metadata": {},
   "source": [
    "# Gaussian Mixture Models\n",
    "\n",
    "This is a notebook showing how to use Scikit's [Gaussian Mixture Model (GMM)](https://scikit-learn.org/stable/modules/generated/sklearn.mixture.GaussianMixture.html#sklearn.mixture.GaussianMixture).\n",
    "\n",
    "## Motivation, A Simple Example\n",
    "\n",
    "Oftentimes, you see observations and you want to understand the distributions from which they came. Let's make it simple and say you observe the lengths of left arms. Now, these lengths may come from a child (age < 18) or an adult (age >= 18); however, you do not know that there are indeed two populations (children and adults). If you perform a density plot the lengths, you will most likely observe a multi-modal distribution (one for the children and the other for the adults). If you simply assume a single gaussian distribution, you would be wrong. GMMs assume that the distribution you are seeing actually comes from multiple underlying guassian distributions that are \"mixing\" to produce what you see. \n",
    "\n",
    "## The Data, Arm Lengths\n",
    "\n",
    "Let's start out by looking at the data. First, these are real data from children and adults at [One-Off Coder](https://www.oneoffcoder.com). Second, although we know that the data comes from two different population, we are going to pretend as if we only observe the arm lengths."
   ]
  },
  {
   "cell_type": "code",
   "execution_count": 1,
   "metadata": {
    "ExecuteTime": {
     "end_time": "2019-07-29T16:20:56.113270Z",
     "start_time": "2019-07-29T16:20:55.829041Z"
    }
   },
   "outputs": [],
   "source": [
    "import numpy as np\n",
    "import pandas as pd\n",
    "\n",
    "# these are the arm lengths\n",
    "# a is for adult\n",
    "# c is child\n",
    "a_lengths = np.array([24, 23.5, 25.5, 22.0, 25.5, 25.5, 24.0, 28.0, 24.5])\n",
    "c_lengths = np.array([24.0, 23.0, 21.0, 15.5, 17.5, 17.5, 19.0, 17.0, 17.0, 27.0])\n",
    "\n",
    "# these are the corresponding labels\n",
    "# children are marked as 0\n",
    "# adults are marked as 1\n",
    "a_labels = np.ones(a_lengths.shape[0], dtype=int)\n",
    "c_labels = np.zeros(c_lengths.shape[0], dtype=int)\n",
    "\n",
    "# these are the natural corresponding labels\n",
    "a_nlabels = ['adult' for _ in range(a_lengths.shape[0])]\n",
    "c_nlabels = ['child' for _ in range(c_lengths.shape[0])]\n",
    "\n",
    "# we build a pandas dataframe from the data\n",
    "lengths = np.concatenate([c_lengths, a_lengths])\n",
    "labels = np.concatenate([c_labels, a_labels])\n",
    "nlabels = np.concatenate([c_nlabels, a_nlabels])\n",
    "df = pd.DataFrame({ 'length': lengths, 'label': labels, 'nlabel': nlabels})"
   ]
  },
  {
   "cell_type": "code",
   "execution_count": 2,
   "metadata": {
    "ExecuteTime": {
     "end_time": "2019-07-29T16:20:56.133774Z",
     "start_time": "2019-07-29T16:20:56.114830Z"
    }
   },
   "outputs": [
    {
     "data": {
      "text/html": [
       "<div>\n",
       "<style scoped>\n",
       "    .dataframe tbody tr th:only-of-type {\n",
       "        vertical-align: middle;\n",
       "    }\n",
       "\n",
       "    .dataframe tbody tr th {\n",
       "        vertical-align: top;\n",
       "    }\n",
       "\n",
       "    .dataframe thead th {\n",
       "        text-align: right;\n",
       "    }\n",
       "</style>\n",
       "<table border=\"1\" class=\"dataframe\">\n",
       "  <thead>\n",
       "    <tr style=\"text-align: right;\">\n",
       "      <th></th>\n",
       "      <th>length</th>\n",
       "      <th>label</th>\n",
       "      <th>nlabel</th>\n",
       "    </tr>\n",
       "  </thead>\n",
       "  <tbody>\n",
       "    <tr>\n",
       "      <th>0</th>\n",
       "      <td>24.0</td>\n",
       "      <td>0</td>\n",
       "      <td>child</td>\n",
       "    </tr>\n",
       "    <tr>\n",
       "      <th>1</th>\n",
       "      <td>23.0</td>\n",
       "      <td>0</td>\n",
       "      <td>child</td>\n",
       "    </tr>\n",
       "    <tr>\n",
       "      <th>2</th>\n",
       "      <td>21.0</td>\n",
       "      <td>0</td>\n",
       "      <td>child</td>\n",
       "    </tr>\n",
       "    <tr>\n",
       "      <th>3</th>\n",
       "      <td>15.5</td>\n",
       "      <td>0</td>\n",
       "      <td>child</td>\n",
       "    </tr>\n",
       "    <tr>\n",
       "      <th>4</th>\n",
       "      <td>17.5</td>\n",
       "      <td>0</td>\n",
       "      <td>child</td>\n",
       "    </tr>\n",
       "    <tr>\n",
       "      <th>5</th>\n",
       "      <td>17.5</td>\n",
       "      <td>0</td>\n",
       "      <td>child</td>\n",
       "    </tr>\n",
       "    <tr>\n",
       "      <th>6</th>\n",
       "      <td>19.0</td>\n",
       "      <td>0</td>\n",
       "      <td>child</td>\n",
       "    </tr>\n",
       "    <tr>\n",
       "      <th>7</th>\n",
       "      <td>17.0</td>\n",
       "      <td>0</td>\n",
       "      <td>child</td>\n",
       "    </tr>\n",
       "    <tr>\n",
       "      <th>8</th>\n",
       "      <td>17.0</td>\n",
       "      <td>0</td>\n",
       "      <td>child</td>\n",
       "    </tr>\n",
       "    <tr>\n",
       "      <th>9</th>\n",
       "      <td>27.0</td>\n",
       "      <td>0</td>\n",
       "      <td>child</td>\n",
       "    </tr>\n",
       "    <tr>\n",
       "      <th>10</th>\n",
       "      <td>24.0</td>\n",
       "      <td>1</td>\n",
       "      <td>adult</td>\n",
       "    </tr>\n",
       "    <tr>\n",
       "      <th>11</th>\n",
       "      <td>23.5</td>\n",
       "      <td>1</td>\n",
       "      <td>adult</td>\n",
       "    </tr>\n",
       "    <tr>\n",
       "      <th>12</th>\n",
       "      <td>25.5</td>\n",
       "      <td>1</td>\n",
       "      <td>adult</td>\n",
       "    </tr>\n",
       "    <tr>\n",
       "      <th>13</th>\n",
       "      <td>22.0</td>\n",
       "      <td>1</td>\n",
       "      <td>adult</td>\n",
       "    </tr>\n",
       "    <tr>\n",
       "      <th>14</th>\n",
       "      <td>25.5</td>\n",
       "      <td>1</td>\n",
       "      <td>adult</td>\n",
       "    </tr>\n",
       "    <tr>\n",
       "      <th>15</th>\n",
       "      <td>25.5</td>\n",
       "      <td>1</td>\n",
       "      <td>adult</td>\n",
       "    </tr>\n",
       "    <tr>\n",
       "      <th>16</th>\n",
       "      <td>24.0</td>\n",
       "      <td>1</td>\n",
       "      <td>adult</td>\n",
       "    </tr>\n",
       "    <tr>\n",
       "      <th>17</th>\n",
       "      <td>28.0</td>\n",
       "      <td>1</td>\n",
       "      <td>adult</td>\n",
       "    </tr>\n",
       "    <tr>\n",
       "      <th>18</th>\n",
       "      <td>24.5</td>\n",
       "      <td>1</td>\n",
       "      <td>adult</td>\n",
       "    </tr>\n",
       "  </tbody>\n",
       "</table>\n",
       "</div>"
      ],
      "text/plain": [
       "    length  label nlabel\n",
       "0     24.0      0  child\n",
       "1     23.0      0  child\n",
       "2     21.0      0  child\n",
       "3     15.5      0  child\n",
       "4     17.5      0  child\n",
       "5     17.5      0  child\n",
       "6     19.0      0  child\n",
       "7     17.0      0  child\n",
       "8     17.0      0  child\n",
       "9     27.0      0  child\n",
       "10    24.0      1  adult\n",
       "11    23.5      1  adult\n",
       "12    25.5      1  adult\n",
       "13    22.0      1  adult\n",
       "14    25.5      1  adult\n",
       "15    25.5      1  adult\n",
       "16    24.0      1  adult\n",
       "17    28.0      1  adult\n",
       "18    24.5      1  adult"
      ]
     },
     "execution_count": 2,
     "metadata": {},
     "output_type": "execute_result"
    }
   ],
   "source": [
    "df"
   ]
  },
  {
   "cell_type": "markdown",
   "metadata": {},
   "source": [
    "## Visualize the Data\n",
    "\n",
    "Now, we plot the distributions. There is a one for children and adults, and another one for all of the children and adults together. As you can see, when all the data is plotted together, there are two \"humps\". This data (with all the children and adult arm lengths lumped together) is what we pretend we are seeing.\n",
    "\n",
    "### Distribution Plots"
   ]
  },
  {
   "cell_type": "code",
   "execution_count": 3,
   "metadata": {
    "ExecuteTime": {
     "end_time": "2019-07-29T16:20:57.062486Z",
     "start_time": "2019-07-29T16:20:56.135418Z"
    }
   },
   "outputs": [
    {
     "data": {
      "image/png": "[encoded data removed]",
      "text/plain": [
       "<Figure size 1080x360 with 2 Axes>"
      ]
     },
     "metadata": {},
     "output_type": "display_data"
    }
   ],
   "source": [
    "%matplotlib inline\n",
    "import seaborn as sns\n",
    "import matplotlib.pyplot as plt\n",
    "\n",
    "plt.style.use('ggplot')\n",
    "\n",
    "fig, (ax1, ax2) = plt.subplots(1, 2, figsize=(15, 5))\n",
    "\n",
    "sns.distplot(df[df['label'] == 0]['length'], label='children', hist=False, ax=ax1)\n",
    "sns.distplot(df[df['label'] == 1]['length'], label='adults', hist=False, ax=ax1)\n",
    "sns.distplot(df['length'], label='all', hist=False, ax=ax2)\n",
    "ax1.set_title('Density Plots of Children and Adults\\' Arm Lengths')\n",
    "ax2.set_title('Density Plot of All Arm Lengths')\n",
    "\n",
    "plt.tight_layout()"
   ]
  },
  {
   "cell_type": "markdown",
   "metadata": {},
   "source": [
    "### Box and Swarm Plots\n",
    "\n",
    "Here are some box and swarm plots to see if we can visually detect outliers. As you can see, there is tremendous variance in the children population while the adults are very tight. "
   ]
  },
  {
   "cell_type": "code",
   "execution_count": 4,
   "metadata": {
    "ExecuteTime": {
     "end_time": "2019-07-29T16:20:57.283471Z",
     "start_time": "2019-07-29T16:20:57.064270Z"
    }
   },
   "outputs": [
    {
     "data": {
      "image/png": "[encoded data removed]",
      "text/plain": [
       "<Figure size 1080x360 with 2 Axes>"
      ]
     },
     "metadata": {},
     "output_type": "display_data"
    }
   ],
   "source": [
    "fig, ax = plt.subplots(1, 2, figsize=(15, 5))\n",
    "sns.boxplot(x='nlabel', y='length', data=df, ax=ax[0])\n",
    "sns.swarmplot(x='nlabel', y='length', data=df, ax=ax[1])\n",
    "ax[0].set_title('Box Plot')\n",
    "ax[1].set_title('Swarm Plot')\n",
    "plt.tight_layout()"
   ]
  },
  {
   "cell_type": "markdown",
   "metadata": {},
   "source": [
    "## Data Science\n",
    "\n",
    "In GMMs, we want to understand and recover the underlying, \"mixing\" or \"hidden\" distributions. Since we do not directly observe these distributions and only hypothesize that they exists, these distributions are often referred to as \"hidden\" or \"latent\". Again, we do not even know how many hidden gaussian distributions there are! When we apply GMMs to a dataset to understand and recover its underlying distributions, we typically have to \"guess\" the number of such distributions before hand. Typically, we would guess that there are 2, 3, 4, and so on, underlying distributions. At each step, we might apply a \"goodness of fit\" test to see how well the models (with 2, 3, 4, ... assumed hidden gaussians) fit the data and pick the best fitting one. \n",
    "\n",
    "### k-means clustering\n",
    "\n",
    "In this notebook, we avoid completely \"guessing\" the number of hidden gaussians by using [k-means clustering](https://en.wikipedia.org/wiki/K-means_clustering) to identify how many hidden gaussians might actually be in the data. We start out by assuming 2, 3, ..., 10 clusters in the data; in the example, this assumption means that the lengths we are seeing comes from 2, 3, ..., 10 different groups. We use the [silhouette score](https://en.wikipedia.org/wiki/Silhouette_%28clustering%29) to determine which k is the best and use that k to create and learn a GMM.\n",
    "\n",
    "Let's use k-means to see how many clusters are in the population. Remember, pretend like you do not know how many clusters (or populations) are in the cluster. We will set k to 2, 3, ..., 10 and see which number of clusters (according to the silhouette score) is the best. As you can see below, k=2 is the best. Additionally, we plot the score of the GMM model corresponding to each k. A higher silhouette score indicates a better fit and a lower GMM score indicates a better fit."
   ]
  },
  {
   "cell_type": "code",
   "execution_count": 5,
   "metadata": {
    "ExecuteTime": {
     "end_time": "2019-07-29T16:20:57.580724Z",
     "start_time": "2019-07-29T16:20:57.285811Z"
    }
   },
   "outputs": [],
   "source": [
    "from sklearn.cluster import KMeans\n",
    "from sklearn.metrics import silhouette_score\n",
    "from sklearn.mixture import GaussianMixture\n",
    "\n",
    "def get_silhouette_score(X, k):\n",
    "    model = KMeans(k, random_state=37)\n",
    "    model.fit(X)\n",
    "    labels = model.predict(X)\n",
    "    score = silhouette_score(X, labels)\n",
    "    return score\n",
    "\n",
    "def get_gmm_score(X, k):\n",
    "    gmm = GaussianMixture(n_components=k, max_iter=50)\n",
    "    gmm.fit(X)\n",
    "    gmm_scores = gmm.score_samples(X)\n",
    "    score = np.exp(gmm_scores).sum()\n",
    "    return score\n",
    "\n",
    "def get_scores(X, k):\n",
    "    return k, get_silhouette_score(X, k), get_gmm_score(X, k)\n",
    "\n",
    "X = df['length'].values.reshape(-1, 1)\n",
    "\n",
    "score_df = pd.DataFrame([get_scores(X, k) for k in range(2, 11, 1)], columns=['k', 'sil', 'gmm'])"
   ]
  },
  {
   "cell_type": "code",
   "execution_count": 6,
   "metadata": {
    "ExecuteTime": {
     "end_time": "2019-07-29T16:20:57.810016Z",
     "start_time": "2019-07-29T16:20:57.582435Z"
    }
   },
   "outputs": [
    {
     "data": {
      "image/png": "[encoded data removed]",
      "text/plain": [
       "<Figure size 720x360 with 2 Axes>"
      ]
     },
     "metadata": {},
     "output_type": "display_data"
    }
   ],
   "source": [
    "fig, ax1 = plt.subplots(figsize=(10, 5))\n",
    "\n",
    "k_min = np.min(score_df['k'])\n",
    "k_max = np.max(score_df['k'])\n",
    "\n",
    "line1 = ax1.plot(score_df['k'], score_df['sil'], color='tab:blue', label='Silhouette')\n",
    "ax2 = ax1.twinx()\n",
    "line2 = ax2.plot(score_df['k'], score_df['gmm'], color='tab:red', label='GMM')\n",
    "\n",
    "lines = line1 + line2\n",
    "labels = [l.get_label() for l in lines]\n",
    "\n",
    "ax1.set_title('Silhouette Score and GMM Score vs Number of Clusters, k')\n",
    "ax1.legend(lines, labels, loc=9)\n",
    "ax1.set_xlabel('k')\n",
    "ax1.set_ylabel('Silhouette Score')\n",
    "ax1.set_xlim([k_min, k_max])\n",
    "ax2.set_ylabel('GMM Score')\n",
    "\n",
    "fig.tight_layout()"
   ]
  },
  {
   "cell_type": "markdown",
   "metadata": {},
   "source": [
    "### GMM\n",
    "\n",
    "So we have determined that k=2 produces the best clustering of the data. Thus, we will assume that there are 2 mixing guassian distributions. Below, we use k=2 to learn a GMM model. \n",
    "\n",
    "Note that when a GMM learns the parameters for the hidden distributions, it will randomly assign 0, 1, 2, ... as a label to each one, and these labels will have nothing to do with how you labeled the data (in our case, 0 = child, 1 = adult). In this experiment, GMM assigned 0 for the distribution that we already know is representative of adults and 1 for the distribution we already know is representative of children (that is why we reverse them). In the real world, you will have to deal with the random labelling of these hidden distributions and use your domain knowledge to interpret what these labels represent."
   ]
  },
  {
   "cell_type": "code",
   "execution_count": 7,
   "metadata": {
    "ExecuteTime": {
     "end_time": "2019-07-29T16:20:57.850922Z",
     "start_time": "2019-07-29T16:20:57.811936Z"
    }
   },
   "outputs": [
    {
     "name": "stdout",
     "output_type": "stream",
     "text": [
      "best k = 2\n"
     ]
    }
   ],
   "source": [
    "def get_kmeans_labels(X, k):\n",
    "    model = KMeans(k, random_state=37)\n",
    "    model.fit(X)\n",
    "    labels = model.predict(X)\n",
    "    labels = np.array([0 if label == 1 else 1 for label in labels])\n",
    "    return labels, model\n",
    "\n",
    "def get_gmm_labels(X, k):\n",
    "    gmm = GaussianMixture(n_components=k, max_iter=50, random_state=37)\n",
    "    gmm.fit(X)\n",
    "    labels = gmm.predict(X)\n",
    "    labels = np.array([0 if label == 1 else 1 for label in labels])\n",
    "    return labels, gmm\n",
    "\n",
    "prediction_df = df.copy()\n",
    "\n",
    "best_k = int(score_df.sort_values(['sil'], ascending=False).iloc[0]['k'])\n",
    "prediction_df['kms_label'], kms = get_kmeans_labels(X, best_k)\n",
    "prediction_df['gmm_label'], gmm = get_gmm_labels(X, best_k)\n",
    "print('best k = {}'.format(best_k))"
   ]
  },
  {
   "cell_type": "code",
   "execution_count": 8,
   "metadata": {
    "ExecuteTime": {
     "end_time": "2019-07-29T16:20:57.912488Z",
     "start_time": "2019-07-29T16:20:57.852552Z"
    }
   },
   "outputs": [
    {
     "data": {
      "text/html": [
       "<div>\n",
       "<style scoped>\n",
       "    .dataframe tbody tr th:only-of-type {\n",
       "        vertical-align: middle;\n",
       "    }\n",
       "\n",
       "    .dataframe tbody tr th {\n",
       "        vertical-align: top;\n",
       "    }\n",
       "\n",
       "    .dataframe thead th {\n",
       "        text-align: right;\n",
       "    }\n",
       "</style>\n",
       "<table border=\"1\" class=\"dataframe\">\n",
       "  <thead>\n",
       "    <tr style=\"text-align: right;\">\n",
       "      <th></th>\n",
       "      <th>length</th>\n",
       "      <th>label</th>\n",
       "      <th>nlabel</th>\n",
       "      <th>kms_label</th>\n",
       "      <th>gmm_label</th>\n",
       "    </tr>\n",
       "  </thead>\n",
       "  <tbody>\n",
       "    <tr>\n",
       "      <th>0</th>\n",
       "      <td>24.0</td>\n",
       "      <td>0</td>\n",
       "      <td>child</td>\n",
       "      <td>0</td>\n",
       "      <td>0</td>\n",
       "    </tr>\n",
       "    <tr>\n",
       "      <th>1</th>\n",
       "      <td>23.0</td>\n",
       "      <td>0</td>\n",
       "      <td>child</td>\n",
       "      <td>0</td>\n",
       "      <td>0</td>\n",
       "    </tr>\n",
       "    <tr>\n",
       "      <th>2</th>\n",
       "      <td>21.0</td>\n",
       "      <td>0</td>\n",
       "      <td>child</td>\n",
       "      <td>1</td>\n",
       "      <td>0</td>\n",
       "    </tr>\n",
       "    <tr>\n",
       "      <th>3</th>\n",
       "      <td>15.5</td>\n",
       "      <td>0</td>\n",
       "      <td>child</td>\n",
       "      <td>1</td>\n",
       "      <td>1</td>\n",
       "    </tr>\n",
       "    <tr>\n",
       "      <th>4</th>\n",
       "      <td>17.5</td>\n",
       "      <td>0</td>\n",
       "      <td>child</td>\n",
       "      <td>1</td>\n",
       "      <td>1</td>\n",
       "    </tr>\n",
       "    <tr>\n",
       "      <th>5</th>\n",
       "      <td>17.5</td>\n",
       "      <td>0</td>\n",
       "      <td>child</td>\n",
       "      <td>1</td>\n",
       "      <td>1</td>\n",
       "    </tr>\n",
       "    <tr>\n",
       "      <th>6</th>\n",
       "      <td>19.0</td>\n",
       "      <td>0</td>\n",
       "      <td>child</td>\n",
       "      <td>1</td>\n",
       "      <td>1</td>\n",
       "    </tr>\n",
       "    <tr>\n",
       "      <th>7</th>\n",
       "      <td>17.0</td>\n",
       "      <td>0</td>\n",
       "      <td>child</td>\n",
       "      <td>1</td>\n",
       "      <td>1</td>\n",
       "    </tr>\n",
       "    <tr>\n",
       "      <th>8</th>\n",
       "      <td>17.0</td>\n",
       "      <td>0</td>\n",
       "      <td>child</td>\n",
       "      <td>1</td>\n",
       "      <td>1</td>\n",
       "    </tr>\n",
       "    <tr>\n",
       "      <th>9</th>\n",
       "      <td>27.0</td>\n",
       "      <td>0</td>\n",
       "      <td>child</td>\n",
       "      <td>0</td>\n",
       "      <td>0</td>\n",
       "    </tr>\n",
       "    <tr>\n",
       "      <th>10</th>\n",
       "      <td>24.0</td>\n",
       "      <td>1</td>\n",
       "      <td>adult</td>\n",
       "      <td>0</td>\n",
       "      <td>0</td>\n",
       "    </tr>\n",
       "    <tr>\n",
       "      <th>11</th>\n",
       "      <td>23.5</td>\n",
       "      <td>1</td>\n",
       "      <td>adult</td>\n",
       "      <td>0</td>\n",
       "      <td>0</td>\n",
       "    </tr>\n",
       "    <tr>\n",
       "      <th>12</th>\n",
       "      <td>25.5</td>\n",
       "      <td>1</td>\n",
       "      <td>adult</td>\n",
       "      <td>0</td>\n",
       "      <td>0</td>\n",
       "    </tr>\n",
       "    <tr>\n",
       "      <th>13</th>\n",
       "      <td>22.0</td>\n",
       "      <td>1</td>\n",
       "      <td>adult</td>\n",
       "      <td>0</td>\n",
       "      <td>0</td>\n",
       "    </tr>\n",
       "    <tr>\n",
       "      <th>14</th>\n",
       "      <td>25.5</td>\n",
       "      <td>1</td>\n",
       "      <td>adult</td>\n",
       "      <td>0</td>\n",
       "      <td>0</td>\n",
       "    </tr>\n",
       "    <tr>\n",
       "      <th>15</th>\n",
       "      <td>25.5</td>\n",
       "      <td>1</td>\n",
       "      <td>adult</td>\n",
       "      <td>0</td>\n",
       "      <td>0</td>\n",
       "    </tr>\n",
       "    <tr>\n",
       "      <th>16</th>\n",
       "      <td>24.0</td>\n",
       "      <td>1</td>\n",
       "      <td>adult</td>\n",
       "      <td>0</td>\n",
       "      <td>0</td>\n",
       "    </tr>\n",
       "    <tr>\n",
       "      <th>17</th>\n",
       "      <td>28.0</td>\n",
       "      <td>1</td>\n",
       "      <td>adult</td>\n",
       "      <td>0</td>\n",
       "      <td>0</td>\n",
       "    </tr>\n",
       "    <tr>\n",
       "      <th>18</th>\n",
       "      <td>24.5</td>\n",
       "      <td>1</td>\n",
       "      <td>adult</td>\n",
       "      <td>0</td>\n",
       "      <td>0</td>\n",
       "    </tr>\n",
       "  </tbody>\n",
       "</table>\n",
       "</div>"
      ],
      "text/plain": [
       "    length  label nlabel  kms_label  gmm_label\n",
       "0     24.0      0  child          0          0\n",
       "1     23.0      0  child          0          0\n",
       "2     21.0      0  child          1          0\n",
       "3     15.5      0  child          1          1\n",
       "4     17.5      0  child          1          1\n",
       "5     17.5      0  child          1          1\n",
       "6     19.0      0  child          1          1\n",
       "7     17.0      0  child          1          1\n",
       "8     17.0      0  child          1          1\n",
       "9     27.0      0  child          0          0\n",
       "10    24.0      1  adult          0          0\n",
       "11    23.5      1  adult          0          0\n",
       "12    25.5      1  adult          0          0\n",
       "13    22.0      1  adult          0          0\n",
       "14    25.5      1  adult          0          0\n",
       "15    25.5      1  adult          0          0\n",
       "16    24.0      1  adult          0          0\n",
       "17    28.0      1  adult          0          0\n",
       "18    24.5      1  adult          0          0"
      ]
     },
     "execution_count": 8,
     "metadata": {},
     "output_type": "execute_result"
    }
   ],
   "source": [
    "prediction_df"
   ]
  },
  {
   "cell_type": "markdown",
   "metadata": {},
   "source": [
    "### GMM Results Visualized\n",
    "\n",
    "Here is the result of clustering and GMM model's prediction visualized."
   ]
  },
  {
   "cell_type": "code",
   "execution_count": 9,
   "metadata": {
    "ExecuteTime": {
     "end_time": "2019-07-29T16:20:58.205964Z",
     "start_time": "2019-07-29T16:20:57.914599Z"
    }
   },
   "outputs": [
    {
     "name": "stdout",
     "output_type": "stream",
     "text": [
      "cluster=0, color=(0.0, 0.0, 1.0, 1.0)\n",
      "cluster=1, color=(1.0, 0.0, 0.0, 1.0)\n"
     ]
    },
    {
     "data": {
      "text/plain": [
       "<matplotlib.legend.Legend at 0x7f6cc7a1d910>"
      ]
     },
     "execution_count": 9,
     "metadata": {},
     "output_type": "execute_result"
    },
    {
     "data": {
      "image/png": "[encoded data removed]",
      "text/plain": [
       "<Figure size 720x720 with 1 Axes>"
      ]
     },
     "metadata": {},
     "output_type": "display_data"
    }
   ],
   "source": [
    "import matplotlib.colors as colors\n",
    "from matplotlib.patches import Ellipse\n",
    "\n",
    "fig, ax = plt.subplots(figsize=(10, 10))\n",
    "colorset = ['blue', 'red']\n",
    "\n",
    "pcs = []\n",
    "for cluster, label in zip(range(best_k), ['children', 'adults']):\n",
    "    cluster_df = prediction_df[prediction_df['gmm_label'] == cluster]\n",
    "    mu = cluster_df.mean().loc['length']\n",
    "    cov = cluster_df.var().loc['length']\n",
    "    cov = np.array([[cov]])\n",
    "    \n",
    "    eva, eve = np.linalg.eigh(cov)\n",
    "    order = eva.argsort()[::-1]\n",
    "    eva, eve = eva[order], eve[:, order]\n",
    "    vx, vy = eve[:,0][0], eve[:,0][0]\n",
    "    theta = np.arctan2(vy, vx)\n",
    "    color = colors.to_rgba(colorset[cluster])\n",
    "    print('cluster={}, color={}'.format(cluster, color))\n",
    "    \n",
    "    for cov_factor in range(1, 4):\n",
    "        size = np.sqrt(eva[0]) * cov_factor * 2\n",
    "        angle = np.degrees(theta)\n",
    "        ell = Ellipse(\n",
    "            xy=(mu, mu), \n",
    "            width=size, \n",
    "            height=size, \n",
    "            angle=angle, \n",
    "            linewidth=2)\n",
    "        ell.set_facecolor((color[0], color[1], color[2], 1.0 / (cov_factor * 4.5)))\n",
    "        ax.add_artist(ell)\n",
    "    \n",
    "    c = [colorset[v] for v in cluster_df['label'].values]\n",
    "    pc = ax.scatter(mu, mu, marker='+', s=100, c=colorset[cluster])\n",
    "    ax.scatter(mu, mu, marker='+', s=1000, c=colorset[cluster])\n",
    "    ax.scatter(cluster_df['length'], cluster_df['length'], label=label, c=c, marker='o')\n",
    "    pcs.append(pc)\n",
    "    \n",
    "ax.set_title('Clustering and GMM Results')\n",
    "ax.set_xlabel('length')\n",
    "ax.set_ylabel('length')\n",
    "ax.legend(pcs, ['children', 'adult'])"
   ]
  },
  {
   "cell_type": "markdown",
   "metadata": {},
   "source": [
    "### GMM Performances\n",
    "\n",
    "So how well did the GMM model do? "
   ]
  },
  {
   "cell_type": "code",
   "execution_count": 10,
   "metadata": {
    "ExecuteTime": {
     "end_time": "2019-07-29T16:20:58.223105Z",
     "start_time": "2019-07-29T16:20:58.207448Z"
    }
   },
   "outputs": [
    {
     "data": {
      "text/html": [
       "<div>\n",
       "<style scoped>\n",
       "    .dataframe tbody tr th:only-of-type {\n",
       "        vertical-align: middle;\n",
       "    }\n",
       "\n",
       "    .dataframe tbody tr th {\n",
       "        vertical-align: top;\n",
       "    }\n",
       "\n",
       "    .dataframe thead th {\n",
       "        text-align: right;\n",
       "    }\n",
       "</style>\n",
       "<table border=\"1\" class=\"dataframe\">\n",
       "  <thead>\n",
       "    <tr style=\"text-align: right;\">\n",
       "      <th></th>\n",
       "      <th>length</th>\n",
       "      <th>label</th>\n",
       "      <th>nlabel</th>\n",
       "      <th>kms_label</th>\n",
       "      <th>gmm_label</th>\n",
       "      <th>gmm_1</th>\n",
       "      <th>gmm_0</th>\n",
       "    </tr>\n",
       "  </thead>\n",
       "  <tbody>\n",
       "    <tr>\n",
       "      <th>0</th>\n",
       "      <td>24.0</td>\n",
       "      <td>0</td>\n",
       "      <td>child</td>\n",
       "      <td>0</td>\n",
       "      <td>0</td>\n",
       "      <td>2.706874e-10</td>\n",
       "      <td>1.000000</td>\n",
       "    </tr>\n",
       "    <tr>\n",
       "      <th>1</th>\n",
       "      <td>23.0</td>\n",
       "      <td>0</td>\n",
       "      <td>child</td>\n",
       "      <td>0</td>\n",
       "      <td>0</td>\n",
       "      <td>1.380768e-07</td>\n",
       "      <td>1.000000</td>\n",
       "    </tr>\n",
       "    <tr>\n",
       "      <th>2</th>\n",
       "      <td>21.0</td>\n",
       "      <td>0</td>\n",
       "      <td>child</td>\n",
       "      <td>1</td>\n",
       "      <td>0</td>\n",
       "      <td>4.759825e-03</td>\n",
       "      <td>0.995240</td>\n",
       "    </tr>\n",
       "    <tr>\n",
       "      <th>3</th>\n",
       "      <td>15.5</td>\n",
       "      <td>0</td>\n",
       "      <td>child</td>\n",
       "      <td>1</td>\n",
       "      <td>1</td>\n",
       "      <td>9.999280e-01</td>\n",
       "      <td>0.000072</td>\n",
       "    </tr>\n",
       "    <tr>\n",
       "      <th>4</th>\n",
       "      <td>17.5</td>\n",
       "      <td>0</td>\n",
       "      <td>child</td>\n",
       "      <td>1</td>\n",
       "      <td>1</td>\n",
       "      <td>9.984682e-01</td>\n",
       "      <td>0.001532</td>\n",
       "    </tr>\n",
       "    <tr>\n",
       "      <th>5</th>\n",
       "      <td>17.5</td>\n",
       "      <td>0</td>\n",
       "      <td>child</td>\n",
       "      <td>1</td>\n",
       "      <td>1</td>\n",
       "      <td>9.984682e-01</td>\n",
       "      <td>0.001532</td>\n",
       "    </tr>\n",
       "    <tr>\n",
       "      <th>6</th>\n",
       "      <td>19.0</td>\n",
       "      <td>0</td>\n",
       "      <td>child</td>\n",
       "      <td>1</td>\n",
       "      <td>1</td>\n",
       "      <td>9.184310e-01</td>\n",
       "      <td>0.081569</td>\n",
       "    </tr>\n",
       "    <tr>\n",
       "      <th>7</th>\n",
       "      <td>17.0</td>\n",
       "      <td>0</td>\n",
       "      <td>child</td>\n",
       "      <td>1</td>\n",
       "      <td>1</td>\n",
       "      <td>9.994453e-01</td>\n",
       "      <td>0.000555</td>\n",
       "    </tr>\n",
       "    <tr>\n",
       "      <th>8</th>\n",
       "      <td>17.0</td>\n",
       "      <td>0</td>\n",
       "      <td>child</td>\n",
       "      <td>1</td>\n",
       "      <td>1</td>\n",
       "      <td>9.994453e-01</td>\n",
       "      <td>0.000555</td>\n",
       "    </tr>\n",
       "    <tr>\n",
       "      <th>9</th>\n",
       "      <td>27.0</td>\n",
       "      <td>0</td>\n",
       "      <td>child</td>\n",
       "      <td>0</td>\n",
       "      <td>0</td>\n",
       "      <td>3.613962e-20</td>\n",
       "      <td>1.000000</td>\n",
       "    </tr>\n",
       "    <tr>\n",
       "      <th>10</th>\n",
       "      <td>24.0</td>\n",
       "      <td>1</td>\n",
       "      <td>adult</td>\n",
       "      <td>0</td>\n",
       "      <td>0</td>\n",
       "      <td>2.706874e-10</td>\n",
       "      <td>1.000000</td>\n",
       "    </tr>\n",
       "    <tr>\n",
       "      <th>11</th>\n",
       "      <td>23.5</td>\n",
       "      <td>1</td>\n",
       "      <td>adult</td>\n",
       "      <td>0</td>\n",
       "      <td>0</td>\n",
       "      <td>6.649432e-09</td>\n",
       "      <td>1.000000</td>\n",
       "    </tr>\n",
       "    <tr>\n",
       "      <th>12</th>\n",
       "      <td>25.5</td>\n",
       "      <td>1</td>\n",
       "      <td>adult</td>\n",
       "      <td>0</td>\n",
       "      <td>0</td>\n",
       "      <td>6.662496e-15</td>\n",
       "      <td>1.000000</td>\n",
       "    </tr>\n",
       "    <tr>\n",
       "      <th>13</th>\n",
       "      <td>22.0</td>\n",
       "      <td>1</td>\n",
       "      <td>adult</td>\n",
       "      <td>0</td>\n",
       "      <td>0</td>\n",
       "      <td>3.596142e-05</td>\n",
       "      <td>0.999964</td>\n",
       "    </tr>\n",
       "    <tr>\n",
       "      <th>14</th>\n",
       "      <td>25.5</td>\n",
       "      <td>1</td>\n",
       "      <td>adult</td>\n",
       "      <td>0</td>\n",
       "      <td>0</td>\n",
       "      <td>6.662496e-15</td>\n",
       "      <td>1.000000</td>\n",
       "    </tr>\n",
       "    <tr>\n",
       "      <th>15</th>\n",
       "      <td>25.5</td>\n",
       "      <td>1</td>\n",
       "      <td>adult</td>\n",
       "      <td>0</td>\n",
       "      <td>0</td>\n",
       "      <td>6.662496e-15</td>\n",
       "      <td>1.000000</td>\n",
       "    </tr>\n",
       "    <tr>\n",
       "      <th>16</th>\n",
       "      <td>24.0</td>\n",
       "      <td>1</td>\n",
       "      <td>adult</td>\n",
       "      <td>0</td>\n",
       "      <td>0</td>\n",
       "      <td>2.706874e-10</td>\n",
       "      <td>1.000000</td>\n",
       "    </tr>\n",
       "    <tr>\n",
       "      <th>17</th>\n",
       "      <td>28.0</td>\n",
       "      <td>1</td>\n",
       "      <td>adult</td>\n",
       "      <td>0</td>\n",
       "      <td>0</td>\n",
       "      <td>4.815558e-24</td>\n",
       "      <td>1.000000</td>\n",
       "    </tr>\n",
       "    <tr>\n",
       "      <th>18</th>\n",
       "      <td>24.5</td>\n",
       "      <td>1</td>\n",
       "      <td>adult</td>\n",
       "      <td>0</td>\n",
       "      <td>0</td>\n",
       "      <td>9.314752e-12</td>\n",
       "      <td>1.000000</td>\n",
       "    </tr>\n",
       "  </tbody>\n",
       "</table>\n",
       "</div>"
      ],
      "text/plain": [
       "    length  label nlabel  kms_label  gmm_label         gmm_1     gmm_0\n",
       "0     24.0      0  child          0          0  2.706874e-10  1.000000\n",
       "1     23.0      0  child          0          0  1.380768e-07  1.000000\n",
       "2     21.0      0  child          1          0  4.759825e-03  0.995240\n",
       "3     15.5      0  child          1          1  9.999280e-01  0.000072\n",
       "4     17.5      0  child          1          1  9.984682e-01  0.001532\n",
       "5     17.5      0  child          1          1  9.984682e-01  0.001532\n",
       "6     19.0      0  child          1          1  9.184310e-01  0.081569\n",
       "7     17.0      0  child          1          1  9.994453e-01  0.000555\n",
       "8     17.0      0  child          1          1  9.994453e-01  0.000555\n",
       "9     27.0      0  child          0          0  3.613962e-20  1.000000\n",
       "10    24.0      1  adult          0          0  2.706874e-10  1.000000\n",
       "11    23.5      1  adult          0          0  6.649432e-09  1.000000\n",
       "12    25.5      1  adult          0          0  6.662496e-15  1.000000\n",
       "13    22.0      1  adult          0          0  3.596142e-05  0.999964\n",
       "14    25.5      1  adult          0          0  6.662496e-15  1.000000\n",
       "15    25.5      1  adult          0          0  6.662496e-15  1.000000\n",
       "16    24.0      1  adult          0          0  2.706874e-10  1.000000\n",
       "17    28.0      1  adult          0          0  4.815558e-24  1.000000\n",
       "18    24.5      1  adult          0          0  9.314752e-12  1.000000"
      ]
     },
     "execution_count": 10,
     "metadata": {},
     "output_type": "execute_result"
    }
   ],
   "source": [
    "prediction_df = pd.concat([prediction_df, pd.DataFrame(gmm.predict_proba(X), columns=['gmm_1', 'gmm_0'])], axis=1)\n",
    "prediction_df"
   ]
  },
  {
   "cell_type": "markdown",
   "metadata": {},
   "source": [
    "This the precision, recall and f1-score for the GMM model."
   ]
  },
  {
   "cell_type": "code",
   "execution_count": 11,
   "metadata": {
    "ExecuteTime": {
     "end_time": "2019-07-29T16:20:58.231772Z",
     "start_time": "2019-07-29T16:20:58.225040Z"
    }
   },
   "outputs": [
    {
     "name": "stdout",
     "output_type": "stream",
     "text": [
      "              precision    recall  f1-score   support\n",
      "\n",
      "           0       0.31      0.40      0.35        10\n",
      "           1       0.00      0.00      0.00         9\n",
      "\n",
      "    accuracy                           0.21        19\n",
      "   macro avg       0.15      0.20      0.17        19\n",
      "weighted avg       0.16      0.21      0.18        19\n",
      "\n"
     ]
    }
   ],
   "source": [
    "from sklearn.metrics import classification_report, roc_auc_score\n",
    "\n",
    "print(classification_report(prediction_df['label'], prediction_df['gmm_label']))"
   ]
  },
  {
   "cell_type": "markdown",
   "metadata": {},
   "source": [
    "This is the precision, recall, and f1-score for the kmeans model."
   ]
  },
  {
   "cell_type": "code",
   "execution_count": 12,
   "metadata": {
    "ExecuteTime": {
     "end_time": "2019-07-29T16:20:58.238270Z",
     "start_time": "2019-07-29T16:20:58.233556Z"
    }
   },
   "outputs": [
    {
     "name": "stdout",
     "output_type": "stream",
     "text": [
      "              precision    recall  f1-score   support\n",
      "\n",
      "           0       0.25      0.30      0.27        10\n",
      "           1       0.00      0.00      0.00         9\n",
      "\n",
      "    accuracy                           0.16        19\n",
      "   macro avg       0.12      0.15      0.14        19\n",
      "weighted avg       0.13      0.16      0.14        19\n",
      "\n"
     ]
    }
   ],
   "source": [
    "print(classification_report(prediction_df['label'], prediction_df['kms_label']))"
   ]
  },
  {
   "cell_type": "markdown",
   "metadata": {},
   "source": [
    "This is the ROC AUC score for the GMM model."
   ]
  },
  {
   "cell_type": "code",
   "execution_count": 13,
   "metadata": {
    "ExecuteTime": {
     "end_time": "2019-07-29T16:20:58.245621Z",
     "start_time": "2019-07-29T16:20:58.239870Z"
    }
   },
   "outputs": [
    {
     "data": {
      "text/plain": [
       "0.1333333333333333"
      ]
     },
     "execution_count": 13,
     "metadata": {},
     "output_type": "execute_result"
    }
   ],
   "source": [
    "roc_auc_score(prediction_df['label'], prediction_df['gmm_1'])"
   ]
  },
  {
   "cell_type": "code",
   "execution_count": 14,
   "metadata": {
    "ExecuteTime": {
     "end_time": "2019-07-29T16:20:58.253111Z",
     "start_time": "2019-07-29T16:20:58.247260Z"
    }
   },
   "outputs": [
    {
     "name": "stdout",
     "output_type": "stream",
     "text": [
      "[[17.23018165]\n",
      " [24.38989552]]\n",
      "19.85\n",
      "24.72222222222222\n"
     ]
    }
   ],
   "source": [
    "# the means learned from GMM\n",
    "print(gmm.means_)\n",
    "\n",
    "# the empirical means from the data\n",
    "print(df[df['label'] == 0]['length'].mean())\n",
    "print(df[df['label'] == 1]['length'].mean())"
   ]
  },
  {
   "cell_type": "markdown",
   "metadata": {},
   "source": [
    "### Cross validation\n",
    "\n",
    "Note that these results are not validated with a holdout set but rather with the training data itself. Let's do a simple [leave-one-out](https://en.wikipedia.org/wiki/Cross-validation_%28statistics%29%23Leave-one-out_cross-validation) (LOO) validation. LOO validation is where we keep 1 example out, learn a model from the rest, and then use that learned model to make a prediction on the 1 example we left out; this procedure is repeated N times for N data points and we average out the performances over N."
   ]
  },
  {
   "cell_type": "code",
   "execution_count": 15,
   "metadata": {
    "ExecuteTime": {
     "end_time": "2019-07-29T16:21:00.857966Z",
     "start_time": "2019-07-29T16:20:58.254605Z"
    }
   },
   "outputs": [
    {
     "name": "stdout",
     "output_type": "stream",
     "text": [
      "LOO accuracy is 0.21053\n"
     ]
    }
   ],
   "source": [
    "from sklearn.model_selection import LeaveOneOut\n",
    "\n",
    "X = df['length'].values.reshape(-1, 1)\n",
    "y = df['label'].values\n",
    "\n",
    "loo = LeaveOneOut()\n",
    "N = loo.get_n_splits(X)\n",
    "t = 0\n",
    "\n",
    "for train_index, test_index in loo.split(X):\n",
    "    X_train, X_test = X[train_index], X[test_index]\n",
    "    y_train, y_test = y[train_index], y[test_index]\n",
    "    \n",
    "    score_df = pd.DataFrame([(k, get_silhouette_score(X, k)) for k in range(2, 11, 1)], columns=['k', 'sil'])\n",
    "    best_k = int(score_df.sort_values(['sil'], ascending=False).iloc[0]['k'])\n",
    "    \n",
    "    gmm = GaussianMixture(n_components=best_k, max_iter=50, random_state=37)\n",
    "    gmm.fit(X_train, y_train)\n",
    "    \n",
    "    y_true = y_test[0]\n",
    "    y_pred = [0 if p == 1 else 1 for p in gmm.predict(X_test)][0]\n",
    "    t = t + (1 if y_true == y_pred else 0)\n",
    "    \n",
    "accuracy = t / N\n",
    "print('LOO accuracy is {:.5f}'.format(accuracy))"
   ]
  },
  {
   "cell_type": "markdown",
   "metadata": {},
   "source": [
    "Note that the LOO accuracy (simply the number of matches of prediction to true labels) is not that bad. It's at 79% percent. "
   ]
  }
 ],
 "metadata": {
  "kernelspec": {
   "display_name": "Python 3",
   "language": "python",
   "name": "python3"
  },
  "language_info": {
   "codemirror_mode": {
    "name": "ipython",
    "version": 3
   },
   "file_extension": ".py",
   "mimetype": "text/x-python",
   "name": "python",
   "nbconvert_exporter": "python",
   "pygments_lexer": "ipython3",
   "version": "3.7.6"
  },
  "toc": {
   "nav_menu": {},
   "number_sections": true,
   "sideBar": true,
   "skip_h1_title": false,
   "title_cell": "Table of Contents",
   "title_sidebar": "Contents",
   "toc_cell": false,
   "toc_position": {},
   "toc_section_display": true,
   "toc_window_display": false
  },
  "varInspector": {
   "cols": {
    "lenName": 16,
    "lenType": 16,
    "lenVar": 40
   },
   "kernels_config": {
    "python": {
     "delete_cmd_postfix": "",
     "delete_cmd_prefix": "del ",
     "library": "var_list.py",
     "varRefreshCmd": "print(var_dic_list())"
    },
    "r": {
     "delete_cmd_postfix": ") ",
     "delete_cmd_prefix": "rm(",
     "library": "var_list.r",
     "varRefreshCmd": "cat(var_dic_list()) "
    }
   },
   "types_to_exclude": [
    "module",
    "function",
    "builtin_function_or_method",
    "instance",
    "_Feature"
   ],
   "window_display": false
  }
 },
 "nbformat": 4,
 "nbformat_minor": 4
}
