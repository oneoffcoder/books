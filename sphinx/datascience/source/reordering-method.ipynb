{
 "cells": [
  {
   "cell_type": "markdown",
   "id": "5cfe7705-22a9-4644-a111-420ff1b1b727",
   "metadata": {},
   "source": [
    "# Reordering Method\n",
    "\n",
    "Denote the following.\n",
    "\n",
    "- $V$ is a $n$ x $n$ `weakness` matrix where $v_{ij}$ represents some dominance over the i-th team by the j-th team.\n",
    "- $D$ is $V^T$ and referred to as the `strength` matrix where $d_{ij}$ represents dominance of the i-th team over the j-th team.\n",
    "- $R$ is the `rank-differential` matrix that is $n$ x $n$ and an upper triangle matrix of the following form.\n",
    "\n",
    "$R=\\left[\\begin{matrix}0 & 1 & 2 & \\dots & n - 1 \\\\  &  & 1 & \\dots & n - 2 \\\\ & & \\ddots & \\ddots & \\vdots \\\\ & & & \\ddots & 1 \\\\ & & & & 0 \\end{matrix}\\right]$\n",
    "\n",
    "The idea of the Reordering Method is to find some $Q$ to reorder/transform $D$ to be as close as possible to $R$. $Q$ is referred to as the `permutation matrix`. The minimization problem is formulated as follows.\n",
    "\n",
    "$\\underset{Q}{\\min}||Q^TDQ - R||$\n",
    "\n",
    "$Q$ is a $n$ x $n$ sparse matrix with $q_{ij} \\in {0, 1}$. Also, $Q$ is specified by a candidate ranking vector $r$. Each index and value of $r$ determines $Q$. For example, $r = [4, 1, 3, 2, 0]$ will create a $Q$ such that\n",
    "\n",
    "- $r_0 = 4$: column 0, row 4 will be 1,\n",
    "- $r_1 = 1$: column 1, row 1 will be 1,\n",
    "- $r_2 = 3$: column 2, row 3 will be 1,\n",
    "- $r_3 = 2$: column 3, row 2 will be 1, and\n",
    "- $r_4 = 0$: column 4, row 0 will be 1.\n",
    "\n",
    "$Q(r=[4, 1, 3, 2, 0]) = \\left[\\begin{matrix}0 & 0 & 0 & 0 & 1 \\\\ 0 & 1 & 0 & 0 & 0 \\\\ 0 & 0 & 0 & 1 & 0 \\\\ 0 & 0 & 1 & 0 & 0 \\\\ 1 & 0 & 0 & 0 & 0 \\end{matrix}\\right]$\n",
    "\n",
    "For a matrix of size $n$, there will be $n!$ permutations of $r$ possible. Note \n",
    "\n",
    "- $5! = 120$ and\n",
    "- $10! = 3,628,800$.\n",
    "\n",
    "It is not computationally tractable to exhaustively try all permutations of $r$ to find the solution for the minimization problem. Instead, exploration and exploitation theoretical frameworks like genetic algorithms are advised to find the (near-) optimal solution."
   ]
  },
  {
   "cell_type": "markdown",
   "id": "e4f896d1-07c1-471d-856b-253779b20faf",
   "metadata": {},
   "source": [
    "## NCAAF ACC 2005\n",
    "\n",
    "This data $V$ comes from the NCAAF ACC 2005 result, and is the point differential. The order of the columns and rows are Duke, Miami, UNC, UVA and VT. $D$ is $V^T$ and $R$ is given as follows. What we want to do is to find a near-optimal $Q$ to permute $D$ into $R$ as closely as possible. "
   ]
  },
  {
   "cell_type": "code",
   "execution_count": 1,
   "id": "1ac374b2-a016-4a4e-b4d2-0a78d643a6c9",
   "metadata": {
    "execution": {
     "iopub.execute_input": "2021-12-11T16:25:26.965879Z",
     "iopub.status.busy": "2021-12-11T16:25:26.965879Z",
     "iopub.status.idle": "2021-12-11T16:25:27.065873Z",
     "shell.execute_reply": "2021-12-11T16:25:27.065873Z",
     "shell.execute_reply.started": "2021-12-11T16:25:26.965879Z"
    },
    "tags": []
   },
   "outputs": [],
   "source": [
    "import numpy as np\n",
    "\n",
    "V = np.array([\n",
    "    [0, 45, 3, 31, 45],\n",
    "    [0, 0, 0, 0, 0],\n",
    "    [0, 18, 0, 0, 27],\n",
    "    [0, 8, 2, 0, 38],\n",
    "    [0, 20, 0, 0, 0]\n",
    "])\n",
    "\n",
    "D = V.T\n",
    "\n",
    "R = np.array([\n",
    "    [0, 1, 2, 3, 4],\n",
    "    [0, 0, 1, 2, 3],\n",
    "    [0, 0, 0, 1, 2],\n",
    "    [0, 0, 0, 0, 1],\n",
    "    [0, 0, 0, 0, 0]\n",
    "])"
   ]
  },
  {
   "cell_type": "markdown",
   "id": "a405177b-1871-44ae-90b0-bcb31dca3b89",
   "metadata": {},
   "source": [
    "Let's normalize $D$ and $R$ over the sum of all elements."
   ]
  },
  {
   "cell_type": "code",
   "execution_count": 2,
   "id": "e4e9f1ee-0c4c-4d36-b0b0-0bce24b5d91d",
   "metadata": {
    "execution": {
     "iopub.execute_input": "2021-12-11T16:25:27.066875Z",
     "iopub.status.busy": "2021-12-11T16:25:27.066875Z",
     "iopub.status.idle": "2021-12-11T16:25:27.081877Z",
     "shell.execute_reply": "2021-12-11T16:25:27.081877Z",
     "shell.execute_reply.started": "2021-12-11T16:25:27.066875Z"
    },
    "tags": []
   },
   "outputs": [
    {
     "data": {
      "text/plain": [
       "array([[0.        , 0.        , 0.        , 0.        , 0.        ],\n",
       "       [0.18987342, 0.        , 0.07594937, 0.03375527, 0.08438819],\n",
       "       [0.01265823, 0.        , 0.        , 0.00843882, 0.        ],\n",
       "       [0.13080169, 0.        , 0.        , 0.        , 0.        ],\n",
       "       [0.18987342, 0.        , 0.11392405, 0.16033755, 0.        ]])"
      ]
     },
     "execution_count": 2,
     "metadata": {},
     "output_type": "execute_result"
    }
   ],
   "source": [
    "D = D / D.sum()\n",
    "D"
   ]
  },
  {
   "cell_type": "code",
   "execution_count": 3,
   "id": "3e807f7f-026f-42d0-9972-ecd8e59c88fe",
   "metadata": {
    "execution": {
     "iopub.execute_input": "2021-12-11T16:25:27.082878Z",
     "iopub.status.busy": "2021-12-11T16:25:27.082878Z",
     "iopub.status.idle": "2021-12-11T16:25:27.097877Z",
     "shell.execute_reply": "2021-12-11T16:25:27.097877Z",
     "shell.execute_reply.started": "2021-12-11T16:25:27.082878Z"
    }
   },
   "outputs": [
    {
     "data": {
      "text/plain": [
       "array([[0.  , 0.05, 0.1 , 0.15, 0.2 ],\n",
       "       [0.  , 0.  , 0.05, 0.1 , 0.15],\n",
       "       [0.  , 0.  , 0.  , 0.05, 0.1 ],\n",
       "       [0.  , 0.  , 0.  , 0.  , 0.05],\n",
       "       [0.  , 0.  , 0.  , 0.  , 0.  ]])"
      ]
     },
     "execution_count": 3,
     "metadata": {},
     "output_type": "execute_result"
    }
   ],
   "source": [
    "R = R / R.sum()\n",
    "R"
   ]
  },
  {
   "cell_type": "markdown",
   "id": "1eacfb1d-a4e1-4f08-a3fc-192c7db3e301",
   "metadata": {},
   "source": [
    "Here's a nifty function to produce $Q$ from $r$."
   ]
  },
  {
   "cell_type": "code",
   "execution_count": 4,
   "id": "31c2c6e6-13bf-4d76-b6c1-16cc6581add8",
   "metadata": {
    "execution": {
     "iopub.execute_input": "2021-12-11T16:25:27.098877Z",
     "iopub.status.busy": "2021-12-11T16:25:27.098877Z",
     "iopub.status.idle": "2021-12-11T16:25:27.113874Z",
     "shell.execute_reply": "2021-12-11T16:25:27.113874Z",
     "shell.execute_reply.started": "2021-12-11T16:25:27.098877Z"
    },
    "tags": []
   },
   "outputs": [],
   "source": [
    "def get_Q(r):\n",
    "    if 0 not in r:\n",
    "        r = [i - 1 for i in r]\n",
    "        \n",
    "    n = len(r)\n",
    "    Q = np.zeros((n, n))\n",
    "    for col, row in enumerate(r):\n",
    "        Q[row][col] = 1\n",
    "    return Q"
   ]
  },
  {
   "cell_type": "markdown",
   "id": "9405ddb9-91c7-4ce9-a841-5f31e2744342",
   "metadata": {},
   "source": [
    "For $r=[5, 1, 4, 3, 2]$, let's see what $Q^TDQ$ looks like. Note that $r$ as specified here states that \n",
    "- Duke is 4, \n",
    "- Miami is 1, \n",
    "- UNC is 4, \n",
    "- UVA is 3, and \n",
    "- VT is 2."
   ]
  },
  {
   "cell_type": "code",
   "execution_count": 5,
   "id": "42ebf14b-d27b-4c58-a3c6-ff614cb7b1f8",
   "metadata": {
    "execution": {
     "iopub.execute_input": "2021-12-11T16:25:27.114876Z",
     "iopub.status.busy": "2021-12-11T16:25:27.114876Z",
     "iopub.status.idle": "2021-12-11T16:25:27.129876Z",
     "shell.execute_reply": "2021-12-11T16:25:27.129876Z",
     "shell.execute_reply.started": "2021-12-11T16:25:27.114876Z"
    },
    "tags": []
   },
   "outputs": [
    {
     "data": {
      "text/plain": [
       "array([[0.        , 0.18987342, 0.16033755, 0.11392405, 0.        ],\n",
       "       [0.        , 0.        , 0.        , 0.        , 0.        ],\n",
       "       [0.        , 0.13080169, 0.        , 0.        , 0.        ],\n",
       "       [0.        , 0.01265823, 0.00843882, 0.        , 0.        ],\n",
       "       [0.08438819, 0.18987342, 0.03375527, 0.07594937, 0.        ]])"
      ]
     },
     "execution_count": 5,
     "metadata": {},
     "output_type": "execute_result"
    }
   ],
   "source": [
    "Q = get_Q([5, 1, 4, 3, 2])\n",
    "Q.T.dot(D).dot(Q)"
   ]
  },
  {
   "cell_type": "markdown",
   "id": "538a58aa-c729-4d88-b0bf-0904928c8a7f",
   "metadata": {},
   "source": [
    "This result is what $Q^TDQ - R$ looks like."
   ]
  },
  {
   "cell_type": "code",
   "execution_count": 6,
   "id": "9e4f96d4-673c-4c96-a3d1-cf5592ced288",
   "metadata": {
    "execution": {
     "iopub.execute_input": "2021-12-11T16:25:27.130876Z",
     "iopub.status.busy": "2021-12-11T16:25:27.130876Z",
     "iopub.status.idle": "2021-12-11T16:25:27.145889Z",
     "shell.execute_reply": "2021-12-11T16:25:27.145889Z",
     "shell.execute_reply.started": "2021-12-11T16:25:27.130876Z"
    },
    "tags": []
   },
   "outputs": [
    {
     "data": {
      "text/plain": [
       "array([[ 0.        ,  0.13987342,  0.06033755, -0.03607595, -0.2       ],\n",
       "       [ 0.        ,  0.        , -0.05      , -0.1       , -0.15      ],\n",
       "       [ 0.        ,  0.13080169,  0.        , -0.05      , -0.1       ],\n",
       "       [ 0.        ,  0.01265823,  0.00843882,  0.        , -0.05      ],\n",
       "       [ 0.08438819,  0.18987342,  0.03375527,  0.07594937,  0.        ]])"
      ]
     },
     "execution_count": 6,
     "metadata": {},
     "output_type": "execute_result"
    }
   ],
   "source": [
    "Q.T.dot(D).dot(Q) - R"
   ]
  },
  {
   "cell_type": "markdown",
   "id": "91ebc9d9-b253-4719-ac18-c82d024ed634",
   "metadata": {},
   "source": [
    "This result is what $||Q^TDQ - R||$ looks like."
   ]
  },
  {
   "cell_type": "code",
   "execution_count": 7,
   "id": "53105bfd-c2b0-4ea8-8b11-c227ae98887d",
   "metadata": {
    "execution": {
     "iopub.execute_input": "2021-12-11T16:25:27.147890Z",
     "iopub.status.busy": "2021-12-11T16:25:27.146889Z",
     "iopub.status.idle": "2021-12-11T16:25:27.161907Z",
     "shell.execute_reply": "2021-12-11T16:25:27.161094Z",
     "shell.execute_reply.started": "2021-12-11T16:25:27.147890Z"
    },
    "tags": []
   },
   "outputs": [
    {
     "data": {
      "text/plain": [
       "0.4265304195816933"
      ]
     },
     "execution_count": 7,
     "metadata": {},
     "output_type": "execute_result"
    }
   ],
   "source": [
    "np.linalg.norm(Q.T.dot(D).dot(Q) - R)"
   ]
  },
  {
   "cell_type": "markdown",
   "id": "3c73ee0c-86f9-488f-bcab-cf073c0b17c8",
   "metadata": {},
   "source": [
    "Interestingly, when VT is specified as 1 and Miami is specified as 2, then the best $Q$ is found!"
   ]
  },
  {
   "cell_type": "code",
   "execution_count": 8,
   "id": "0259a016-a644-437b-b64c-9a8b06457f94",
   "metadata": {
    "execution": {
     "iopub.execute_input": "2021-12-11T16:25:27.162919Z",
     "iopub.status.busy": "2021-12-11T16:25:27.162919Z",
     "iopub.status.idle": "2021-12-11T16:25:27.175916Z",
     "shell.execute_reply": "2021-12-11T16:25:27.175916Z",
     "shell.execute_reply.started": "2021-12-11T16:25:27.162919Z"
    },
    "tags": []
   },
   "outputs": [
    {
     "data": {
      "text/plain": [
       "0.14836639449076508"
      ]
     },
     "execution_count": 8,
     "metadata": {},
     "output_type": "execute_result"
    }
   ],
   "source": [
    "Q = get_Q([5, 2, 4, 3, 1])\n",
    "np.linalg.norm(Q.T.dot(D).dot(Q) - R)"
   ]
  },
  {
   "cell_type": "markdown",
   "id": "c2048f12-9f8a-4f22-99d7-7286c9835bb8",
   "metadata": {},
   "source": [
    "Here's an exhuastive search over all the permutations of $r$. It's disturbing that the second best solution is when Duke is second and Miami is last!"
   ]
  },
  {
   "cell_type": "code",
   "execution_count": 9,
   "id": "cfe1a2da-6172-4711-84e4-058a31e265e0",
   "metadata": {
    "execution": {
     "iopub.execute_input": "2021-12-11T16:25:27.176920Z",
     "iopub.status.busy": "2021-12-11T16:25:27.176920Z",
     "iopub.status.idle": "2021-12-11T16:25:27.394921Z",
     "shell.execute_reply": "2021-12-11T16:25:27.394921Z",
     "shell.execute_reply.started": "2021-12-11T16:25:27.176920Z"
    },
    "tags": []
   },
   "outputs": [
    {
     "data": {
      "text/html": [
       "<div>\n",
       "<style scoped>\n",
       "    .dataframe tbody tr th:only-of-type {\n",
       "        vertical-align: middle;\n",
       "    }\n",
       "\n",
       "    .dataframe tbody tr th {\n",
       "        vertical-align: top;\n",
       "    }\n",
       "\n",
       "    .dataframe thead th {\n",
       "        text-align: right;\n",
       "    }\n",
       "</style>\n",
       "<table border=\"1\" class=\"dataframe\">\n",
       "  <thead>\n",
       "    <tr style=\"text-align: right;\">\n",
       "      <th></th>\n",
       "      <th>r0</th>\n",
       "      <th>r1</th>\n",
       "      <th>r2</th>\n",
       "      <th>r3</th>\n",
       "      <th>r4</th>\n",
       "      <th>distance</th>\n",
       "    </tr>\n",
       "  </thead>\n",
       "  <tbody>\n",
       "    <tr>\n",
       "      <th>0</th>\n",
       "      <td>4</td>\n",
       "      <td>1</td>\n",
       "      <td>3</td>\n",
       "      <td>2</td>\n",
       "      <td>0</td>\n",
       "      <td>0.148366</td>\n",
       "    </tr>\n",
       "    <tr>\n",
       "      <th>1</th>\n",
       "      <td>1</td>\n",
       "      <td>4</td>\n",
       "      <td>3</td>\n",
       "      <td>2</td>\n",
       "      <td>0</td>\n",
       "      <td>0.173290</td>\n",
       "    </tr>\n",
       "    <tr>\n",
       "      <th>2</th>\n",
       "      <td>4</td>\n",
       "      <td>1</td>\n",
       "      <td>2</td>\n",
       "      <td>3</td>\n",
       "      <td>0</td>\n",
       "      <td>0.180447</td>\n",
       "    </tr>\n",
       "    <tr>\n",
       "      <th>3</th>\n",
       "      <td>1</td>\n",
       "      <td>4</td>\n",
       "      <td>2</td>\n",
       "      <td>3</td>\n",
       "      <td>0</td>\n",
       "      <td>0.201440</td>\n",
       "    </tr>\n",
       "    <tr>\n",
       "      <th>4</th>\n",
       "      <td>4</td>\n",
       "      <td>3</td>\n",
       "      <td>1</td>\n",
       "      <td>2</td>\n",
       "      <td>0</td>\n",
       "      <td>0.234359</td>\n",
       "    </tr>\n",
       "    <tr>\n",
       "      <th>5</th>\n",
       "      <td>4</td>\n",
       "      <td>1</td>\n",
       "      <td>3</td>\n",
       "      <td>0</td>\n",
       "      <td>2</td>\n",
       "      <td>0.235257</td>\n",
       "    </tr>\n",
       "    <tr>\n",
       "      <th>6</th>\n",
       "      <td>1</td>\n",
       "      <td>3</td>\n",
       "      <td>4</td>\n",
       "      <td>2</td>\n",
       "      <td>0</td>\n",
       "      <td>0.241453</td>\n",
       "    </tr>\n",
       "    <tr>\n",
       "      <th>7</th>\n",
       "      <td>1</td>\n",
       "      <td>4</td>\n",
       "      <td>3</td>\n",
       "      <td>0</td>\n",
       "      <td>2</td>\n",
       "      <td>0.251720</td>\n",
       "    </tr>\n",
       "    <tr>\n",
       "      <th>8</th>\n",
       "      <td>4</td>\n",
       "      <td>1</td>\n",
       "      <td>2</td>\n",
       "      <td>0</td>\n",
       "      <td>3</td>\n",
       "      <td>0.254222</td>\n",
       "    </tr>\n",
       "    <tr>\n",
       "      <th>9</th>\n",
       "      <td>4</td>\n",
       "      <td>2</td>\n",
       "      <td>1</td>\n",
       "      <td>3</td>\n",
       "      <td>0</td>\n",
       "      <td>0.267958</td>\n",
       "    </tr>\n",
       "  </tbody>\n",
       "</table>\n",
       "</div>"
      ],
      "text/plain": [
       "   r0  r1  r2  r3  r4  distance\n",
       "0   4   1   3   2   0  0.148366\n",
       "1   1   4   3   2   0  0.173290\n",
       "2   4   1   2   3   0  0.180447\n",
       "3   1   4   2   3   0  0.201440\n",
       "4   4   3   1   2   0  0.234359\n",
       "5   4   1   3   0   2  0.235257\n",
       "6   1   3   4   2   0  0.241453\n",
       "7   1   4   3   0   2  0.251720\n",
       "8   4   1   2   0   3  0.254222\n",
       "9   4   2   1   3   0  0.267958"
      ]
     },
     "execution_count": 9,
     "metadata": {},
     "output_type": "execute_result"
    }
   ],
   "source": [
    "from itertools import permutations, chain\n",
    "import pandas as pd\n",
    "\n",
    "candidates = permutations(range(D.shape[0]), D.shape[0])\n",
    "candidates = map(lambda p: (p, get_Q(p)), candidates)\n",
    "candidates = map(lambda tup: (tup[0], [np.linalg.norm(tup[1].T.dot(D).dot(tup[1]) - R)]), candidates)\n",
    "candidates = map(lambda tup: list(chain(*tup)), candidates)\n",
    "\n",
    "dist_df = pd.DataFrame(candidates, columns=['r0', 'r1', 'r2', 'r3', 'r4', 'distance'])\\\n",
    "    .sort_values(['distance'])\\\n",
    "    .reset_index(drop=True)\n",
    "\n",
    "dist_df.head(10)"
   ]
  },
  {
   "cell_type": "markdown",
   "id": "a3595ac1-95dd-4ac2-9864-dd55b89ece15",
   "metadata": {},
   "source": [
    "Just out of curiosity, we can also look at the distribution of the top 10 candidates."
   ]
  },
  {
   "cell_type": "code",
   "execution_count": 10,
   "id": "9ad4c22f-0ecb-40c0-ba6c-791a050d30d6",
   "metadata": {
    "execution": {
     "iopub.execute_input": "2021-12-11T16:25:27.395920Z",
     "iopub.status.busy": "2021-12-11T16:25:27.395920Z",
     "iopub.status.idle": "2021-12-11T16:25:27.409916Z",
     "shell.execute_reply": "2021-12-11T16:25:27.409916Z",
     "shell.execute_reply.started": "2021-12-11T16:25:27.395920Z"
    }
   },
   "outputs": [
    {
     "data": {
      "text/plain": [
       "4    6\n",
       "1    4\n",
       "Name: r0, dtype: int64"
      ]
     },
     "execution_count": 10,
     "metadata": {},
     "output_type": "execute_result"
    }
   ],
   "source": [
    "dist_df.head(10).r0.value_counts()"
   ]
  },
  {
   "cell_type": "code",
   "execution_count": 11,
   "id": "abead7d6-4c94-4119-9c64-21e54c66dc3b",
   "metadata": {
    "execution": {
     "iopub.execute_input": "2021-12-11T16:25:27.410919Z",
     "iopub.status.busy": "2021-12-11T16:25:27.410919Z",
     "iopub.status.idle": "2021-12-11T16:25:27.425916Z",
     "shell.execute_reply": "2021-12-11T16:25:27.425916Z",
     "shell.execute_reply.started": "2021-12-11T16:25:27.410919Z"
    }
   },
   "outputs": [
    {
     "data": {
      "text/plain": [
       "1    4\n",
       "4    3\n",
       "3    2\n",
       "2    1\n",
       "Name: r1, dtype: int64"
      ]
     },
     "execution_count": 11,
     "metadata": {},
     "output_type": "execute_result"
    }
   ],
   "source": [
    "dist_df.head(10).r1.value_counts()"
   ]
  },
  {
   "cell_type": "code",
   "execution_count": 12,
   "id": "e86661db-fa74-45bc-9d31-8fb86317c019",
   "metadata": {
    "execution": {
     "iopub.execute_input": "2021-12-11T16:25:27.426920Z",
     "iopub.status.busy": "2021-12-11T16:25:27.426920Z",
     "iopub.status.idle": "2021-12-11T16:25:27.441916Z",
     "shell.execute_reply": "2021-12-11T16:25:27.441916Z",
     "shell.execute_reply.started": "2021-12-11T16:25:27.426920Z"
    }
   },
   "outputs": [
    {
     "data": {
      "text/plain": [
       "3    4\n",
       "2    3\n",
       "1    2\n",
       "4    1\n",
       "Name: r2, dtype: int64"
      ]
     },
     "execution_count": 12,
     "metadata": {},
     "output_type": "execute_result"
    }
   ],
   "source": [
    "dist_df.head(10).r2.value_counts()"
   ]
  },
  {
   "cell_type": "code",
   "execution_count": 13,
   "id": "6c0edc43-8b9d-416a-96fe-28f29556db81",
   "metadata": {
    "execution": {
     "iopub.execute_input": "2021-12-11T16:25:27.442918Z",
     "iopub.status.busy": "2021-12-11T16:25:27.442918Z",
     "iopub.status.idle": "2021-12-11T16:25:27.457937Z",
     "shell.execute_reply": "2021-12-11T16:25:27.457937Z",
     "shell.execute_reply.started": "2021-12-11T16:25:27.442918Z"
    }
   },
   "outputs": [
    {
     "data": {
      "text/plain": [
       "2    4\n",
       "0    3\n",
       "3    3\n",
       "Name: r3, dtype: int64"
      ]
     },
     "execution_count": 13,
     "metadata": {},
     "output_type": "execute_result"
    }
   ],
   "source": [
    "dist_df.head(10).r3.value_counts()"
   ]
  },
  {
   "cell_type": "code",
   "execution_count": 14,
   "id": "4eaee674-7855-4bf7-ad5c-3d24b1eab563",
   "metadata": {
    "execution": {
     "iopub.execute_input": "2021-12-11T16:25:27.458940Z",
     "iopub.status.busy": "2021-12-11T16:25:27.458940Z",
     "iopub.status.idle": "2021-12-11T16:25:27.473947Z",
     "shell.execute_reply": "2021-12-11T16:25:27.473947Z",
     "shell.execute_reply.started": "2021-12-11T16:25:27.458940Z"
    }
   },
   "outputs": [
    {
     "data": {
      "text/plain": [
       "0    7\n",
       "2    2\n",
       "3    1\n",
       "Name: r4, dtype: int64"
      ]
     },
     "execution_count": 14,
     "metadata": {},
     "output_type": "execute_result"
    }
   ],
   "source": [
    "dist_df.head(10).r4.value_counts()"
   ]
  }
 ],
 "metadata": {
  "kernelspec": {
   "display_name": "Python 3",
   "language": "python",
   "name": "python3"
  },
  "language_info": {
   "codemirror_mode": {
    "name": "ipython",
    "version": 3
   },
   "file_extension": ".py",
   "mimetype": "text/x-python",
   "name": "python",
   "nbconvert_exporter": "python",
   "pygments_lexer": "ipython3",
   "version": "3.8.5"
  },
  "widgets": {
   "application/vnd.jupyter.widget-state+json": {
    "state": {},
    "version_major": 2,
    "version_minor": 0
   }
  }
 },
 "nbformat": 4,
 "nbformat_minor": 5
}
