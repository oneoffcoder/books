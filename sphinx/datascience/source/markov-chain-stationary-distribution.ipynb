{
 "cells": [
  {
   "cell_type": "markdown",
   "id": "threatened-hypothetical",
   "metadata": {},
   "source": [
    "# Markov Chain, Stationary Distribution\n",
    "\n",
    "When we have a matrix that represents transition probabilities or a Markov chain, it is often of interest to find the marginal probabilities of the states. Such probabilities are called the `stationary distribution` which represents the probabilities of the states in the long run. There are many ways to compute the stationary distribution: \n",
    "\n",
    "- sampling, \n",
    "- Power Method or \n",
    "- matrix decomposition. \n",
    "\n",
    "The following matrix represents 5 states. We will normalize them so that the matrix represents probabilities and each row sums to 1."
   ]
  },
  {
   "cell_type": "code",
   "execution_count": 1,
   "id": "heard-programmer",
   "metadata": {
    "execution": {
     "iopub.execute_input": "2021-12-11T00:16:06.114031Z",
     "iopub.status.busy": "2021-12-11T00:16:06.114031Z",
     "iopub.status.idle": "2021-12-11T00:16:06.216031Z",
     "shell.execute_reply": "2021-12-11T00:16:06.216031Z",
     "shell.execute_reply.started": "2021-12-11T00:16:06.114031Z"
    }
   },
   "outputs": [
    {
     "data": {
      "text/plain": [
       "array([[0, 1, 1, 1, 1],\n",
       "       [0, 0, 0, 0, 0],\n",
       "       [0, 1, 0, 0, 1],\n",
       "       [0, 1, 1, 0, 1],\n",
       "       [0, 1, 0, 0, 0]])"
      ]
     },
     "execution_count": 1,
     "metadata": {},
     "output_type": "execute_result"
    }
   ],
   "source": [
    "import numpy as np\n",
    "\n",
    "M = np.array([\n",
    "    [0, 1, 1, 1, 1],\n",
    "    [0, 0, 0, 0, 0],\n",
    "    [0, 1, 0, 0, 1],\n",
    "    [0, 1, 1, 0, 1],\n",
    "    [0, 1, 0, 0, 0]\n",
    "])\n",
    "M"
   ]
  },
  {
   "cell_type": "markdown",
   "id": "2aff9be2-1d2b-4292-80be-15770c6cd4b0",
   "metadata": {},
   "source": [
    "Here we detect any row with all zeroes and set all the elements to 1."
   ]
  },
  {
   "cell_type": "code",
   "execution_count": 2,
   "id": "comparative-offering",
   "metadata": {
    "execution": {
     "iopub.execute_input": "2021-12-11T00:16:06.217026Z",
     "iopub.status.busy": "2021-12-11T00:16:06.217026Z",
     "iopub.status.idle": "2021-12-11T00:16:06.231908Z",
     "shell.execute_reply": "2021-12-11T00:16:06.231908Z",
     "shell.execute_reply.started": "2021-12-11T00:16:06.217026Z"
    }
   },
   "outputs": [],
   "source": [
    "for r, s in enumerate(M.sum(axis=1)):\n",
    "    if s == 0:\n",
    "        M[r, :] = 1"
   ]
  },
  {
   "cell_type": "code",
   "execution_count": 3,
   "id": "electrical-fever",
   "metadata": {
    "execution": {
     "iopub.execute_input": "2021-12-11T00:16:06.232908Z",
     "iopub.status.busy": "2021-12-11T00:16:06.232908Z",
     "iopub.status.idle": "2021-12-11T00:16:06.247449Z",
     "shell.execute_reply": "2021-12-11T00:16:06.247449Z",
     "shell.execute_reply.started": "2021-12-11T00:16:06.232908Z"
    }
   },
   "outputs": [
    {
     "data": {
      "text/plain": [
       "array([[0, 1, 1, 1, 1],\n",
       "       [1, 1, 1, 1, 1],\n",
       "       [0, 1, 0, 0, 1],\n",
       "       [0, 1, 1, 0, 1],\n",
       "       [0, 1, 0, 0, 0]])"
      ]
     },
     "execution_count": 3,
     "metadata": {},
     "output_type": "execute_result"
    }
   ],
   "source": [
    "M"
   ]
  },
  {
   "cell_type": "markdown",
   "id": "9d28c971-bfe8-4140-a97f-b4f1fd4eeceb",
   "metadata": {},
   "source": [
    "Finally, we normalize the rows to probabilities in such a way that they sum to 1."
   ]
  },
  {
   "cell_type": "code",
   "execution_count": 4,
   "id": "unauthorized-lewis",
   "metadata": {
    "execution": {
     "iopub.execute_input": "2021-12-11T00:16:06.248449Z",
     "iopub.status.busy": "2021-12-11T00:16:06.248449Z",
     "iopub.status.idle": "2021-12-11T00:16:06.263116Z",
     "shell.execute_reply": "2021-12-11T00:16:06.263116Z",
     "shell.execute_reply.started": "2021-12-11T00:16:06.248449Z"
    }
   },
   "outputs": [],
   "source": [
    "M = np.array([M[r,:] * s for r, s in enumerate(1 / M.sum(axis=1))])"
   ]
  },
  {
   "cell_type": "code",
   "execution_count": 5,
   "id": "statutory-trainer",
   "metadata": {
    "execution": {
     "iopub.execute_input": "2021-12-11T00:16:06.264118Z",
     "iopub.status.busy": "2021-12-11T00:16:06.264118Z",
     "iopub.status.idle": "2021-12-11T00:16:06.278139Z",
     "shell.execute_reply": "2021-12-11T00:16:06.278139Z",
     "shell.execute_reply.started": "2021-12-11T00:16:06.264118Z"
    }
   },
   "outputs": [
    {
     "data": {
      "text/plain": [
       "array([[0.        , 0.25      , 0.25      , 0.25      , 0.25      ],\n",
       "       [0.2       , 0.2       , 0.2       , 0.2       , 0.2       ],\n",
       "       [0.        , 0.5       , 0.        , 0.        , 0.5       ],\n",
       "       [0.        , 0.33333333, 0.33333333, 0.        , 0.33333333],\n",
       "       [0.        , 1.        , 0.        , 0.        , 0.        ]])"
      ]
     },
     "execution_count": 5,
     "metadata": {},
     "output_type": "execute_result"
    }
   ],
   "source": [
    "M"
   ]
  },
  {
   "cell_type": "markdown",
   "id": "ba89c3bb-331f-4ce4-976c-c984e8234f65",
   "metadata": {},
   "source": [
    "## Sampling\n",
    "\n",
    "Sampling is easy.\n",
    "\n",
    "- Start with a random state.\n",
    "- Loop\n",
    "    - Increment the state (signal that we have seen the state)\n",
    "    - Sample uniformly $p$ from $[0, 1)$ and pick the next state"
   ]
  },
  {
   "cell_type": "code",
   "execution_count": 6,
   "id": "4b11d8b7-452a-46db-add3-e661c3eccc06",
   "metadata": {
    "execution": {
     "iopub.execute_input": "2021-12-11T00:16:06.279220Z",
     "iopub.status.busy": "2021-12-11T00:16:06.279220Z",
     "iopub.status.idle": "2021-12-11T00:16:06.310190Z",
     "shell.execute_reply": "2021-12-11T00:16:06.310190Z",
     "shell.execute_reply.started": "2021-12-11T00:16:06.279220Z"
    },
    "tags": []
   },
   "outputs": [
    {
     "name": "stdout",
     "output_type": "stream",
     "text": [
      "num of iterations: 1151\n"
     ]
    },
    {
     "data": {
      "text/plain": [
       "array([0.09548611, 0.42534722, 0.14670139, 0.11024306, 0.22222222])"
      ]
     },
     "execution_count": 6,
     "metadata": {},
     "output_type": "execute_result"
    }
   ],
   "source": [
    "from random import choice\n",
    "import bisect\n",
    "\n",
    "np.random.seed(37)\n",
    "\n",
    "indexes = {r: [c for c in range(M.shape[1]) if M[r][c] > 0] for r in range(M.shape[0])}\n",
    "cumsum = {r: M[r][c].cumsum() for r, c in indexes.items()}\n",
    "\n",
    "c = np.zeros(M.shape[0]) + 1e-100\n",
    "r = choice(range(M.shape[0]))\n",
    "\n",
    "for it in range(30_000):\n",
    "    prev = c / c.sum()\n",
    "    c[r] += 1\n",
    "    curr = c / c.sum()\n",
    "    d = np.linalg.norm(prev - curr, 1)\n",
    "    \n",
    "    if d < 0.001:\n",
    "        print(f'num of iterations: {it}')\n",
    "        break\n",
    "    \n",
    "    p = np.random.random()\n",
    "    i = bisect.bisect_left(cumsum[r], p)\n",
    "    r = indexes[r][i]\n",
    "\n",
    "c = c / c.sum()\n",
    "c"
   ]
  },
  {
   "cell_type": "markdown",
   "id": "damaged-invitation",
   "metadata": {},
   "source": [
    "## Power Method\n",
    "\n",
    "Using [power iteration](https://en.wikipedia.org/wiki/Power_iteration), we can also find the stationary distribution."
   ]
  },
  {
   "cell_type": "code",
   "execution_count": 7,
   "id": "elegant-opposition",
   "metadata": {
    "execution": {
     "iopub.execute_input": "2021-12-11T00:16:06.312387Z",
     "iopub.status.busy": "2021-12-11T00:16:06.312192Z",
     "iopub.status.idle": "2021-12-11T00:16:06.325910Z",
     "shell.execute_reply": "2021-12-11T00:16:06.325910Z",
     "shell.execute_reply.started": "2021-12-11T00:16:06.312387Z"
    },
    "tags": []
   },
   "outputs": [
    {
     "name": "stdout",
     "output_type": "stream",
     "text": [
      "num of iterations: 3\n"
     ]
    },
    {
     "data": {
      "text/plain": [
       "array([0.08759149, 0.43795601, 0.1459856 , 0.10948932, 0.2189781 ])"
      ]
     },
     "execution_count": 7,
     "metadata": {},
     "output_type": "execute_result"
    }
   ],
   "source": [
    "X = M.dot(M)\n",
    "for it in range(10):\n",
    "    Y = X.dot(X)\n",
    "    \n",
    "    x = np.diag(X)\n",
    "    y = np.diag(Y)\n",
    "    d = np.linalg.norm(x - y, 1)\n",
    "    \n",
    "    if d < 0.001:\n",
    "        print(f'num of iterations: {it}')\n",
    "        break\n",
    "    \n",
    "    X = Y\n",
    "    \n",
    "np.diag(X)"
   ]
  },
  {
   "cell_type": "markdown",
   "id": "reserved-dietary",
   "metadata": {},
   "source": [
    "## Numpy, eig\n",
    "\n",
    "We can also use eigen decomposition from Numpy. The stationary probability will be the normalized eigenvector associated with the eigenvalue closest to 1. Note that we have to transpose $M$."
   ]
  },
  {
   "cell_type": "code",
   "execution_count": 8,
   "id": "operational-ballet",
   "metadata": {
    "execution": {
     "iopub.execute_input": "2021-12-11T00:16:06.326913Z",
     "iopub.status.busy": "2021-12-11T00:16:06.326913Z",
     "iopub.status.idle": "2021-12-11T00:16:06.341931Z",
     "shell.execute_reply": "2021-12-11T00:16:06.341931Z",
     "shell.execute_reply.started": "2021-12-11T00:16:06.326913Z"
    },
    "tags": []
   },
   "outputs": [],
   "source": [
    "S, U = np.linalg.eig(M.T)"
   ]
  },
  {
   "cell_type": "code",
   "execution_count": 9,
   "id": "measured-infection",
   "metadata": {
    "execution": {
     "iopub.execute_input": "2021-12-11T00:16:06.342936Z",
     "iopub.status.busy": "2021-12-11T00:16:06.342936Z",
     "iopub.status.idle": "2021-12-11T00:16:06.357947Z",
     "shell.execute_reply": "2021-12-11T00:16:06.357947Z",
     "shell.execute_reply.started": "2021-12-11T00:16:06.342936Z"
    },
    "tags": []
   },
   "outputs": [
    {
     "data": {
      "text/plain": [
       "array([ 1.        , -0.19142147, -0.19142147, -0.20857853, -0.20857853])"
      ]
     },
     "execution_count": 9,
     "metadata": {},
     "output_type": "execute_result"
    }
   ],
   "source": [
    "S.real"
   ]
  },
  {
   "cell_type": "code",
   "execution_count": 10,
   "id": "digital-delaware",
   "metadata": {
    "execution": {
     "iopub.execute_input": "2021-12-11T00:16:06.358953Z",
     "iopub.status.busy": "2021-12-11T00:16:06.358953Z",
     "iopub.status.idle": "2021-12-11T00:16:06.373451Z",
     "shell.execute_reply": "2021-12-11T00:16:06.373451Z",
     "shell.execute_reply.started": "2021-12-11T00:16:06.358953Z"
    },
    "tags": []
   },
   "outputs": [
    {
     "data": {
      "text/plain": [
       "array([[-0.16531686, -0.16178269, -0.16178269, -0.6152745 , -0.6152745 ],\n",
       "       [-0.8265843 ,  0.7453579 ,  0.7453579 ,  0.6968425 ,  0.6968425 ],\n",
       "       [-0.2755281 , -0.2841635 , -0.2841635 ,  0.09145666,  0.09145666],\n",
       "       [-0.20664607, -0.28528506, -0.28528506,  0.0053999 ,  0.0053999 ],\n",
       "       [-0.41329215, -0.01412664, -0.01412664, -0.17842455, -0.17842455]])"
      ]
     },
     "execution_count": 10,
     "metadata": {},
     "output_type": "execute_result"
    }
   ],
   "source": [
    "U.real"
   ]
  },
  {
   "cell_type": "code",
   "execution_count": 11,
   "id": "44d5a13a-821d-4033-8fc2-6e480b3f625d",
   "metadata": {
    "execution": {
     "iopub.execute_input": "2021-12-11T00:16:06.374458Z",
     "iopub.status.busy": "2021-12-11T00:16:06.374458Z",
     "iopub.status.idle": "2021-12-11T00:16:06.388468Z",
     "shell.execute_reply": "2021-12-11T00:16:06.388468Z",
     "shell.execute_reply.started": "2021-12-11T00:16:06.374458Z"
    },
    "tags": []
   },
   "outputs": [
    {
     "data": {
      "text/plain": [
       "array([0.08759124, 0.4379562 , 0.1459854 , 0.10948905, 0.2189781 ])"
      ]
     },
     "execution_count": 11,
     "metadata": {},
     "output_type": "execute_result"
    }
   ],
   "source": [
    "(U[:,np.isclose(S, 1)][:,0] / U[:,np.isclose(S, 1)][:,0].sum()).real"
   ]
  },
  {
   "cell_type": "markdown",
   "id": "3de8106d-daed-473b-9298-5653fc11c122",
   "metadata": {},
   "source": [
    "## Scipy, eig\n",
    "\n",
    "Eigen decomposition from Scipy works the same way as Numpy."
   ]
  },
  {
   "cell_type": "code",
   "execution_count": 12,
   "id": "76853640-0d71-467f-a85a-0f7df79b28ec",
   "metadata": {
    "execution": {
     "iopub.execute_input": "2021-12-11T00:16:06.389475Z",
     "iopub.status.busy": "2021-12-11T00:16:06.389475Z",
     "iopub.status.idle": "2021-12-11T00:16:06.467286Z",
     "shell.execute_reply": "2021-12-11T00:16:06.467286Z",
     "shell.execute_reply.started": "2021-12-11T00:16:06.389475Z"
    },
    "tags": []
   },
   "outputs": [],
   "source": [
    "from scipy.linalg import eig\n",
    "\n",
    "S, U = eig(M.T)"
   ]
  },
  {
   "cell_type": "code",
   "execution_count": 13,
   "id": "f8f9bffb-a5a8-4d8a-8fda-8e20ebde9e45",
   "metadata": {
    "execution": {
     "iopub.execute_input": "2021-12-11T00:16:06.468287Z",
     "iopub.status.busy": "2021-12-11T00:16:06.468287Z",
     "iopub.status.idle": "2021-12-11T00:16:06.483304Z",
     "shell.execute_reply": "2021-12-11T00:16:06.483304Z",
     "shell.execute_reply.started": "2021-12-11T00:16:06.468287Z"
    },
    "tags": []
   },
   "outputs": [
    {
     "data": {
      "text/plain": [
       "array([ 1.        , -0.19142147, -0.19142147, -0.20857853, -0.20857853])"
      ]
     },
     "execution_count": 13,
     "metadata": {},
     "output_type": "execute_result"
    }
   ],
   "source": [
    "S.real"
   ]
  },
  {
   "cell_type": "code",
   "execution_count": 14,
   "id": "463c718f-58fa-4cc2-b8e2-698a5977504b",
   "metadata": {
    "execution": {
     "iopub.execute_input": "2021-12-11T00:16:06.484302Z",
     "iopub.status.busy": "2021-12-11T00:16:06.484302Z",
     "iopub.status.idle": "2021-12-11T00:16:06.499302Z",
     "shell.execute_reply": "2021-12-11T00:16:06.499302Z",
     "shell.execute_reply.started": "2021-12-11T00:16:06.484302Z"
    },
    "tags": []
   },
   "outputs": [
    {
     "data": {
      "text/plain": [
       "array([[-0.16531686, -0.16178269, -0.16178269, -0.6152745 , -0.6152745 ],\n",
       "       [-0.8265843 ,  0.7453579 ,  0.7453579 ,  0.6968425 ,  0.6968425 ],\n",
       "       [-0.2755281 , -0.2841635 , -0.2841635 ,  0.09145666,  0.09145666],\n",
       "       [-0.20664607, -0.28528506, -0.28528506,  0.0053999 ,  0.0053999 ],\n",
       "       [-0.41329215, -0.01412664, -0.01412664, -0.17842455, -0.17842455]])"
      ]
     },
     "execution_count": 14,
     "metadata": {},
     "output_type": "execute_result"
    }
   ],
   "source": [
    "U.real"
   ]
  },
  {
   "cell_type": "code",
   "execution_count": 15,
   "id": "664080d9-1680-414b-a5a1-35a349ce35aa",
   "metadata": {
    "execution": {
     "iopub.execute_input": "2021-12-11T00:16:06.500303Z",
     "iopub.status.busy": "2021-12-11T00:16:06.500303Z",
     "iopub.status.idle": "2021-12-11T00:16:06.515121Z",
     "shell.execute_reply": "2021-12-11T00:16:06.515121Z",
     "shell.execute_reply.started": "2021-12-11T00:16:06.500303Z"
    },
    "tags": []
   },
   "outputs": [
    {
     "data": {
      "text/plain": [
       "array([0.08759124, 0.4379562 , 0.1459854 , 0.10948905, 0.2189781 ])"
      ]
     },
     "execution_count": 15,
     "metadata": {},
     "output_type": "execute_result"
    }
   ],
   "source": [
    "(U[:,np.isclose(S, 1)][:,0] / U[:,np.isclose(S, 1)][:,0].sum()).real"
   ]
  }
 ],
 "metadata": {
  "kernelspec": {
   "display_name": "Python 3",
   "language": "python",
   "name": "python3"
  },
  "language_info": {
   "codemirror_mode": {
    "name": "ipython",
    "version": 3
   },
   "file_extension": ".py",
   "mimetype": "text/x-python",
   "name": "python",
   "nbconvert_exporter": "python",
   "pygments_lexer": "ipython3",
   "version": "3.8.5"
  },
  "widgets": {
   "application/vnd.jupyter.widget-state+json": {
    "state": {},
    "version_major": 2,
    "version_minor": 0
   }
  }
 },
 "nbformat": 4,
 "nbformat_minor": 5
}
