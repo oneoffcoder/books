{
 "cells": [
  {
   "cell_type": "code",
   "execution_count": 1,
   "id": "d276864b-285e-42f7-9d72-611d73cd9034",
   "metadata": {},
   "outputs": [
    {
     "data": {
      "text/plain": [
       "((150, 4), (150,), (150, 5))"
      ]
     },
     "execution_count": 1,
     "metadata": {},
     "output_type": "execute_result"
    }
   ],
   "source": [
    "from sklearn.datasets import load_iris\n",
    "\n",
    "X, y = load_iris(return_X_y=True, as_frame=True)\n",
    "Xy = X.assign(y=y)\n",
    "\n",
    "X.shape, y.shape, Xy.shape"
   ]
  },
  {
   "cell_type": "code",
   "execution_count": 2,
   "id": "c0d1a859-2927-4b32-9e2b-fe5765b9b48f",
   "metadata": {},
   "outputs": [
    {
     "name": "stdout",
     "output_type": "stream",
     "text": [
      "CPU times: user 2.01 s, sys: 9.69 ms, total: 2.02 s\n",
      "Wall time: 22min 2s\n"
     ]
    },
    {
     "data": {
      "text/plain": [
       "(150, 7)"
      ]
     },
     "execution_count": 2,
     "metadata": {},
     "output_type": "execute_result"
    }
   ],
   "source": [
    "%%time\n",
    "\n",
    "from openai import OpenAI\n",
    "import pandas as pd\n",
    "\n",
    "def get_dimensions(r):\n",
    "    return r['sepal length (cm)'], r['sepal width (cm)'], r['petal length (cm)'], r['petal width (cm)'], r['y']\n",
    "    \n",
    "def get_messages(sepal_length, sepal_width, petal_length, petal_width):\n",
    "    messages = [\n",
    "        {\n",
    "            'role': 'system',\n",
    "            'content': f'''You are a helpful assistant that will generate a description of an iris flowers based on its sepal length and width as well as its petal length and width. All dimensions of length and width are in centimeters. The dimensions of the flower will be given in triple backticks.\n",
    "\n",
    "Iris flower dimensions\n",
    "```\n",
    "sepal length: {sepal_length}\n",
    "sepal width: {sepal_width}\n",
    "petal length: {petal_length}\n",
    "petal width: {petal_width}\n",
    "```\n",
    "\n",
    "Your response:'''\n",
    "        }\n",
    "    ]\n",
    "    return messages\n",
    "\n",
    "def get_description(sepal_length, sepal_width, petal_length, petal_width, y, completion_model='gpt-4', embedding_model='text-embedding-ada-002'):\n",
    "    client = OpenAI()\n",
    "    response = client.chat.completions.create(\n",
    "        model=completion_model,\n",
    "        messages=get_messages(sepal_length, sepal_width, petal_length, petal_width),\n",
    "        temperature=0\n",
    "    )\n",
    "    \n",
    "    content = response.choices[0].message.content\n",
    "\n",
    "    response = client.embeddings.create(input=[content], model=embedding_model)\n",
    "    embedding = response.data[0].embedding\n",
    "\n",
    "    return {\n",
    "        'sepal_length': sepal_length,\n",
    "        'sepal_width': sepal_width,\n",
    "        'petal_length': petal_length,\n",
    "        'petal_width': petal_width,\n",
    "        'y': y,\n",
    "        'content': content,\n",
    "        'embedding': embedding\n",
    "    }\n",
    "\n",
    "df = pd.DataFrame((get_description(*get_dimensions(r)) for _, r in Xy.iterrows()))\n",
    "df.shape"
   ]
  },
  {
   "cell_type": "code",
   "execution_count": 4,
   "id": "88cdcbd3-dbf9-4134-8b2f-3644b7d3db29",
   "metadata": {},
   "outputs": [],
   "source": [
    "df.to_pickle('./data/iris-gpt.pickle')"
   ]
  },
  {
   "cell_type": "code",
   "execution_count": 5,
   "id": "5702506c-7903-4124-b90c-eed76afb29a8",
   "metadata": {},
   "outputs": [
    {
     "data": {
      "text/html": [
       "<div>\n",
       "<style scoped>\n",
       "    .dataframe tbody tr th:only-of-type {\n",
       "        vertical-align: middle;\n",
       "    }\n",
       "\n",
       "    .dataframe tbody tr th {\n",
       "        vertical-align: top;\n",
       "    }\n",
       "\n",
       "    .dataframe thead th {\n",
       "        text-align: right;\n",
       "    }\n",
       "</style>\n",
       "<table border=\"1\" class=\"dataframe\">\n",
       "  <thead>\n",
       "    <tr style=\"text-align: right;\">\n",
       "      <th></th>\n",
       "      <th>sepal_length</th>\n",
       "      <th>sepal_width</th>\n",
       "      <th>petal_length</th>\n",
       "      <th>petal_width</th>\n",
       "      <th>y</th>\n",
       "      <th>content</th>\n",
       "      <th>embedding</th>\n",
       "    </tr>\n",
       "  </thead>\n",
       "  <tbody>\n",
       "    <tr>\n",
       "      <th>0</th>\n",
       "      <td>5.1</td>\n",
       "      <td>3.5</td>\n",
       "      <td>1.4</td>\n",
       "      <td>0.2</td>\n",
       "      <td>0.0</td>\n",
       "      <td>This iris flower has a sepal that measures 5.1...</td>\n",
       "      <td>[-0.00509683508425951, 0.022241873666644096, -...</td>\n",
       "    </tr>\n",
       "    <tr>\n",
       "      <th>1</th>\n",
       "      <td>4.9</td>\n",
       "      <td>3.0</td>\n",
       "      <td>1.4</td>\n",
       "      <td>0.2</td>\n",
       "      <td>0.0</td>\n",
       "      <td>This iris flower has a sepal length of 4.9 cen...</td>\n",
       "      <td>[-0.0008553705411031842, 0.02272571250796318, ...</td>\n",
       "    </tr>\n",
       "    <tr>\n",
       "      <th>2</th>\n",
       "      <td>4.7</td>\n",
       "      <td>3.2</td>\n",
       "      <td>1.3</td>\n",
       "      <td>0.2</td>\n",
       "      <td>0.0</td>\n",
       "      <td>This iris flower has a sepal that measures 4.7...</td>\n",
       "      <td>[-0.005902666598558426, 0.022460468113422394, ...</td>\n",
       "    </tr>\n",
       "    <tr>\n",
       "      <th>3</th>\n",
       "      <td>4.6</td>\n",
       "      <td>3.1</td>\n",
       "      <td>1.5</td>\n",
       "      <td>0.2</td>\n",
       "      <td>0.0</td>\n",
       "      <td>This iris flower has a sepal length of 4.6 cen...</td>\n",
       "      <td>[-0.0018561771139502525, 0.023472873494029045,...</td>\n",
       "    </tr>\n",
       "    <tr>\n",
       "      <th>4</th>\n",
       "      <td>5.0</td>\n",
       "      <td>3.6</td>\n",
       "      <td>1.4</td>\n",
       "      <td>0.2</td>\n",
       "      <td>0.0</td>\n",
       "      <td>This iris flower has a sepal that measures 5.0...</td>\n",
       "      <td>[-0.0070672184228897095, 0.02132122591137886, ...</td>\n",
       "    </tr>\n",
       "  </tbody>\n",
       "</table>\n",
       "</div>"
      ],
      "text/plain": [
       "   sepal_length  sepal_width  petal_length  petal_width    y  \\\n",
       "0           5.1          3.5           1.4          0.2  0.0   \n",
       "1           4.9          3.0           1.4          0.2  0.0   \n",
       "2           4.7          3.2           1.3          0.2  0.0   \n",
       "3           4.6          3.1           1.5          0.2  0.0   \n",
       "4           5.0          3.6           1.4          0.2  0.0   \n",
       "\n",
       "                                             content  \\\n",
       "0  This iris flower has a sepal that measures 5.1...   \n",
       "1  This iris flower has a sepal length of 4.9 cen...   \n",
       "2  This iris flower has a sepal that measures 4.7...   \n",
       "3  This iris flower has a sepal length of 4.6 cen...   \n",
       "4  This iris flower has a sepal that measures 5.0...   \n",
       "\n",
       "                                           embedding  \n",
       "0  [-0.00509683508425951, 0.022241873666644096, -...  \n",
       "1  [-0.0008553705411031842, 0.02272571250796318, ...  \n",
       "2  [-0.005902666598558426, 0.022460468113422394, ...  \n",
       "3  [-0.0018561771139502525, 0.023472873494029045,...  \n",
       "4  [-0.0070672184228897095, 0.02132122591137886, ...  "
      ]
     },
     "execution_count": 5,
     "metadata": {},
     "output_type": "execute_result"
    }
   ],
   "source": [
    "df.head()"
   ]
  },
  {
   "cell_type": "code",
   "execution_count": 38,
   "id": "e2457f49-5b07-49ca-a06a-a52f02c83c1c",
   "metadata": {},
   "outputs": [
    {
     "data": {
      "text/plain": [
       "0.9516"
      ]
     },
     "execution_count": 38,
     "metadata": {},
     "output_type": "execute_result"
    }
   ],
   "source": [
    "from sklearn.model_selection import StratifiedShuffleSplit\n",
    "from sklearn.ensemble import RandomForestClassifier\n",
    "from sklearn.metrics import roc_auc_score\n",
    "\n",
    "columns = [f'x{i}' for i in range(len(df.iloc[0]['embedding']))]\n",
    "_X = pd.DataFrame(df['embedding'].tolist(), columns=columns)\n",
    "_y = df['y']\n",
    "\n",
    "_tr, _te = next(StratifiedShuffleSplit(n_splits=10, test_size=0.5, random_state=37).split(_X, _y))\n",
    "\n",
    "_X_tr, _y_tr = _X.iloc[_tr], _y.iloc[_tr]\n",
    "_X_te, _y_te = _X.iloc[_te], _y.iloc[_te]\n",
    "\n",
    "m = RandomForestClassifier(n_jobs=-1, random_state=37, class_weight='balanced')\n",
    "m.fit(_X_tr, _y_tr)\n",
    "\n",
    "roc_auc_score(_y_te, m.predict_proba(_X_te), multi_class='ovo')"
   ]
  },
  {
   "cell_type": "code",
   "execution_count": 41,
   "id": "1e45dc81-2e05-4ad1-9543-733326af8053",
   "metadata": {},
   "outputs": [
    {
     "data": {
      "text/plain": [
       "0.9989333333333333"
      ]
     },
     "execution_count": 41,
     "metadata": {},
     "output_type": "execute_result"
    }
   ],
   "source": [
    "_X = df.drop(columns=['y', 'content', 'embedding'])\n",
    "_y = df['y']\n",
    "\n",
    "_tr, _te = next(StratifiedShuffleSplit(n_splits=10, test_size=0.5, random_state=37).split(_X, _y))\n",
    "\n",
    "_X_tr, _y_tr = _X.iloc[_tr], _y.iloc[_tr]\n",
    "_X_te, _y_te = _X.iloc[_te], _y.iloc[_te]\n",
    "\n",
    "m = RandomForestClassifier(n_jobs=-1, random_state=37, class_weight='balanced')\n",
    "m.fit(_X_tr, _y_tr)\n",
    "\n",
    "roc_auc_score(_y_te, m.predict_proba(_X_te), multi_class='ovo')"
   ]
  },
  {
   "cell_type": "code",
   "execution_count": null,
   "id": "7195a45c-d926-44af-b980-47e936807ca0",
   "metadata": {},
   "outputs": [],
   "source": []
  }
 ],
 "metadata": {
  "kernelspec": {
   "display_name": "Python 3 (ipykernel)",
   "language": "python",
   "name": "python3"
  },
  "language_info": {
   "codemirror_mode": {
    "name": "ipython",
    "version": 3
   },
   "file_extension": ".py",
   "mimetype": "text/x-python",
   "name": "python",
   "nbconvert_exporter": "python",
   "pygments_lexer": "ipython3",
   "version": "3.11.5"
  }
 },
 "nbformat": 4,
 "nbformat_minor": 5
}
