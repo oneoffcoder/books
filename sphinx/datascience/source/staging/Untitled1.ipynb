{
 "cells": [
  {
   "cell_type": "code",
   "execution_count": 1,
   "id": "useful-spell",
   "metadata": {
    "execution": {
     "iopub.status.idle": "2021-12-25T21:16:31.277560Z",
     "shell.execute_reply": "2021-12-25T21:16:31.277145Z",
     "shell.execute_reply.started": "2021-12-25T21:16:30.849781Z"
    }
   },
   "outputs": [],
   "source": [
    "import numpy as np\n",
    "import pandas as pd\n",
    "import random\n",
    "import bisect\n",
    "from scipy.stats import norm\n",
    "import matplotlib.pyplot as plt\n",
    "\n",
    "plt.style.use('ggplot')\n",
    "np.random.seed(37)\n",
    "random.seed(37)\n",
    "\n",
    "class CdfCurve:\n",
    "    def __init__(self, c, n_samples=10_000):\n",
    "        self.__c = CdfCurve.to_cdf(CdfCurve.generate_samples(c, n_samples))\n",
    "        \n",
    "    def get_sample(self, n_samples=10_000):\n",
    "        return CdfCurve.generate_samples(self.__c, n_samples)\n",
    "    \n",
    "    def sample_in(self, n_samples=10_000, lhs=0.0, rhs=1.0):\n",
    "        c = list(self.__c.values)\n",
    "        v = list(self.__c.index)\n",
    "        \n",
    "        samples = []\n",
    "        \n",
    "        while len(samples) < n_samples:\n",
    "            while True:\n",
    "                p = np.random.random(size=1)\n",
    "                if lhs < p <= rhs:\n",
    "                    index = bisect.bisect_left(c, p)\n",
    "                    samples.append(v[index])\n",
    "                    break\n",
    "                    \n",
    "        return pd.Series(samples)\n",
    "    \n",
    "    def get_cdf(self):\n",
    "        return self.__c\n",
    "    \n",
    "    def get_ppf(self, p):\n",
    "        return CdfCurve.ppf(self.__c.values, self.__c.index, p)\n",
    "    \n",
    "    @staticmethod\n",
    "    def ppf(c, v, p):\n",
    "        index = bisect.bisect_left(c, p)\n",
    "        if index >= len(v):\n",
    "            index -= 1\n",
    "            \n",
    "        return v[index]\n",
    "    \n",
    "    @staticmethod\n",
    "    def generate_samples(c, n_samples=10_000):\n",
    "        c, v = c.values, c.index\n",
    "        s = pd.Series([CdfCurve.ppf(c, v, p) for p in np.random.random(n_samples)])\n",
    "        return s\n",
    "    \n",
    "    @staticmethod\n",
    "    def to_cdf(s):\n",
    "        return (s.value_counts().sort_index() / len(s)).cumsum()\n",
    "        \n",
    "class GaussianMM:\n",
    "    def __init__(self, gaussians, n_samples=10_000):\n",
    "        self.__gaussians = gaussians\n",
    "        \n",
    "        self.__samples = {i: pd.Series(g.rvs(size=n_samples)) for i, g in enumerate(gaussians)}\n",
    "        self.__samples['all'] = pd.concat([s for s in self.__samples.values()]).reset_index(drop=True)\n",
    "        \n",
    "        self.__cdfs = {i: CdfCurve.to_cdf(s) for i, s in self.__samples.items()}\n",
    "        \n",
    "    def get_sample(self, i='all'):\n",
    "        return self.__samples[i]\n",
    "    \n",
    "    def get_cdf(self, i='all'):\n",
    "        return self.__cdfs[i]\n",
    "    \n",
    "    def plot_kde(self, ax):\n",
    "        for k, s in self.__samples.items():\n",
    "            _ = s.plot(kind='kde', ax=ax, label=f'{k}')\n",
    "            \n",
    "    def plot_cdf(self, ax):\n",
    "        for k, c in self.__cdfs.items():\n",
    "            _ = c.plot(kind='line', ax=ax, label=f'{k}')\n",
    "\n",
    "def plot_gmm_kde_cdf(gmm):\n",
    "    fig, ax = plt.subplots(1, 2, figsize=(15, 4))\n",
    "\n",
    "    gmm.plot_kde(ax[0])\n",
    "    gmm.plot_cdf(ax[1])\n",
    "\n",
    "    _ = ax[0].legend()\n",
    "    _ = ax[1].legend()\n",
    "\n",
    "    plt.tight_layout()\n",
    "\n",
    "def plot_gmm_cdf(gmm, cdf):\n",
    "    fig, ax = plt.subplots(1, 2, figsize=(15, 4))\n",
    "\n",
    "    _ = gmm.get_sample().plot(kind='kde', ax=ax[0], label='from_gmm')\n",
    "    _ = cdf.get_sample().plot(kind='kde', ax=ax[0], label='from_cdf')\n",
    "\n",
    "    _ = gmm.get_cdf().plot(kind='line', ax=ax[1], label='from_gmm')\n",
    "    _ = cdf.get_cdf().plot(kind='line', ax=ax[1], label='from_cdf')\n",
    "\n",
    "    _ = ax[0].legend()\n",
    "    _ = ax[1].legend()\n",
    "\n",
    "    plt.tight_layout()"
   ]
  },
  {
   "cell_type": "code",
   "execution_count": 2,
   "id": "peripheral-newton",
   "metadata": {
    "execution": {
     "iopub.execute_input": "2021-12-25T21:16:31.278398Z",
     "iopub.status.busy": "2021-12-25T21:16:31.278264Z",
     "iopub.status.idle": "2021-12-25T21:16:31.438828Z",
     "shell.execute_reply": "2021-12-25T21:16:31.438350Z",
     "shell.execute_reply.started": "2021-12-25T21:16:31.278384Z"
    }
   },
   "outputs": [],
   "source": [
    "gmm1 = GaussianMM([norm(loc=10, scale=1), norm(loc=3.7, scale=2)])\n",
    "gmm2 = GaussianMM([norm(loc=10, scale=1), norm(loc=14, scale=2), norm(loc=3.5, scale=1.5)])\n",
    "gmm3 = GaussianMM([norm(loc=9, scale=1), norm(loc=16, scale=2), norm(loc=3.4, scale=1.5)])\n",
    "\n",
    "cdf1 = CdfCurve(gmm1.get_cdf('all'))\n",
    "cdf2 = CdfCurve(gmm2.get_cdf('all'))\n",
    "cdf3 = CdfCurve(gmm3.get_cdf('all'))"
   ]
  },
  {
   "cell_type": "code",
   "execution_count": 3,
   "id": "optical-malaysia",
   "metadata": {
    "execution": {
     "iopub.execute_input": "2021-12-25T21:16:31.439844Z",
     "iopub.status.busy": "2021-12-25T21:16:31.439712Z",
     "iopub.status.idle": "2021-12-25T21:16:31.665921Z",
     "shell.execute_reply": "2021-12-25T21:16:31.665547Z",
     "shell.execute_reply.started": "2021-12-25T21:16:31.439830Z"
    }
   },
   "outputs": [
    {
     "data": {
      "text/plain": [
       "<AxesSubplot:>"
      ]
     },
     "execution_count": 3,
     "metadata": {},
     "output_type": "execute_result"
    },
    {
     "data": {
      "image/png": "[encoded data removed]",
      "text/plain": [
       "<Figure size 1080x288 with 1 Axes>"
      ]
     },
     "metadata": {},
     "output_type": "display_data"
    }
   ],
   "source": [
    "CdfCurve(CdfCurve.to_cdf(cdf3.sample_in(n_samples=10_000, lhs=0.0, rhs=1.0))).get_cdf().plot(figsize=(15, 4))"
   ]
  },
  {
   "cell_type": "code",
   "execution_count": 4,
   "id": "existing-dispatch",
   "metadata": {
    "execution": {
     "iopub.execute_input": "2021-12-25T21:16:31.666557Z",
     "iopub.status.busy": "2021-12-25T21:16:31.666439Z",
     "iopub.status.idle": "2021-12-25T21:16:32.069497Z",
     "shell.execute_reply": "2021-12-25T21:16:32.069087Z",
     "shell.execute_reply.started": "2021-12-25T21:16:31.666543Z"
    }
   },
   "outputs": [],
   "source": [
    "s1 = cdf1.sample_in(n_samples=10_000, lhs=0.2, rhs=1.0)\n",
    "s2 = cdf2.sample_in(n_samples=10_000, lhs=0.2, rhs=1.0)\n",
    "s3 = cdf3.sample_in(n_samples=10_000, lhs=0.0, rhs=0.2)\n",
    "\n",
    "s = pd.concat([s2, s3])\n",
    "c = (s.value_counts().sort_index() / s.value_counts().sum()).cumsum()"
   ]
  },
  {
   "cell_type": "code",
   "execution_count": 5,
   "id": "offshore-deputy",
   "metadata": {
    "execution": {
     "iopub.execute_input": "2021-12-25T21:16:32.070296Z",
     "iopub.status.busy": "2021-12-25T21:16:32.070110Z",
     "iopub.status.idle": "2021-12-25T21:16:32.168897Z",
     "shell.execute_reply": "2021-12-25T21:16:32.168497Z",
     "shell.execute_reply.started": "2021-12-25T21:16:32.070273Z"
    }
   },
   "outputs": [
    {
     "data": {
      "text/plain": [
       "<AxesSubplot:>"
      ]
     },
     "execution_count": 5,
     "metadata": {},
     "output_type": "execute_result"
    },
    {
     "data": {
      "image/png": "[encoded data removed]",
      "text/plain": [
       "<Figure size 1080x288 with 1 Axes>"
      ]
     },
     "metadata": {},
     "output_type": "display_data"
    }
   ],
   "source": [
    "c.plot(kind='line', figsize=(15, 4))"
   ]
  },
  {
   "cell_type": "code",
   "execution_count": 6,
   "id": "figured-istanbul",
   "metadata": {
    "execution": {
     "iopub.execute_input": "2021-12-25T21:16:32.169549Z",
     "iopub.status.busy": "2021-12-25T21:16:32.169431Z",
     "iopub.status.idle": "2021-12-25T21:16:32.573671Z",
     "shell.execute_reply": "2021-12-25T21:16:32.573284Z",
     "shell.execute_reply.started": "2021-12-25T21:16:32.169535Z"
    }
   },
   "outputs": [
    {
     "data": {
      "text/plain": [
       "<AxesSubplot:ylabel='Density'>"
      ]
     },
     "execution_count": 6,
     "metadata": {},
     "output_type": "execute_result"
    },
    {
     "data": {
      "image/png": "[encoded data removed]",
      "text/plain": [
       "<Figure size 1080x288 with 1 Axes>"
      ]
     },
     "metadata": {},
     "output_type": "display_data"
    }
   ],
   "source": [
    "s.plot(kind='kde', figsize=(15, 4))"
   ]
  },
  {
   "cell_type": "code",
   "execution_count": null,
   "id": "early-swing",
   "metadata": {},
   "outputs": [],
   "source": []
  },
  {
   "cell_type": "code",
   "execution_count": null,
   "id": "domestic-glossary",
   "metadata": {},
   "outputs": [],
   "source": []
  }
 ],
 "metadata": {
  "kernelspec": {
   "display_name": "Python 3",
   "language": "python",
   "name": "python3"
  },
  "language_info": {
   "codemirror_mode": {
    "name": "ipython",
    "version": 3
   },
   "file_extension": ".py",
   "mimetype": "text/x-python",
   "name": "python",
   "nbconvert_exporter": "python",
   "pygments_lexer": "ipython3",
   "version": "3.8.5"
  },
  "widgets": {
   "application/vnd.jupyter.widget-state+json": {
    "state": {},
    "version_major": 2,
    "version_minor": 0
   }
  }
 },
 "nbformat": 4,
 "nbformat_minor": 5
}
