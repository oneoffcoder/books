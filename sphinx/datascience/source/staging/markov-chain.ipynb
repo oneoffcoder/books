{
 "cells": [
  {
   "cell_type": "markdown",
   "id": "threatened-hypothetical",
   "metadata": {},
   "source": [
    "# Markov Chain, Stationary Distribution"
   ]
  },
  {
   "cell_type": "code",
   "execution_count": 1,
   "id": "heard-programmer",
   "metadata": {
    "execution": {
     "iopub.execute_input": "2021-12-10T19:00:34.563370Z",
     "iopub.status.busy": "2021-12-10T19:00:34.563370Z",
     "iopub.status.idle": "2021-12-10T19:00:34.667523Z",
     "shell.execute_reply": "2021-12-10T19:00:34.667523Z",
     "shell.execute_reply.started": "2021-12-10T19:00:34.563370Z"
    }
   },
   "outputs": [
    {
     "data": {
      "text/plain": [
       "array([[0, 1, 1, 1, 1],\n",
       "       [0, 0, 0, 0, 0],\n",
       "       [0, 1, 0, 0, 1],\n",
       "       [0, 1, 1, 0, 1],\n",
       "       [0, 1, 0, 0, 0]])"
      ]
     },
     "execution_count": 1,
     "metadata": {},
     "output_type": "execute_result"
    }
   ],
   "source": [
    "import numpy as np\n",
    "\n",
    "M = np.array([\n",
    "    [0, 1, 1, 1, 1],\n",
    "    [0, 0, 0, 0, 0],\n",
    "    [0, 1, 0, 0, 1],\n",
    "    [0, 1, 1, 0, 1],\n",
    "    [0, 1, 0, 0, 0]\n",
    "])\n",
    "M"
   ]
  },
  {
   "cell_type": "code",
   "execution_count": 2,
   "id": "comparative-offering",
   "metadata": {
    "execution": {
     "iopub.execute_input": "2021-12-10T19:00:34.668524Z",
     "iopub.status.busy": "2021-12-10T19:00:34.668524Z",
     "iopub.status.idle": "2021-12-10T19:00:34.682522Z",
     "shell.execute_reply": "2021-12-10T19:00:34.682522Z",
     "shell.execute_reply.started": "2021-12-10T19:00:34.668524Z"
    }
   },
   "outputs": [],
   "source": [
    "for r, s in enumerate(M.sum(axis=1)):\n",
    "    if s == 0:\n",
    "        M[r, :] = 1"
   ]
  },
  {
   "cell_type": "code",
   "execution_count": 3,
   "id": "electrical-fever",
   "metadata": {
    "execution": {
     "iopub.execute_input": "2021-12-10T19:00:34.683524Z",
     "iopub.status.busy": "2021-12-10T19:00:34.683524Z",
     "iopub.status.idle": "2021-12-10T19:00:34.698522Z",
     "shell.execute_reply": "2021-12-10T19:00:34.698522Z",
     "shell.execute_reply.started": "2021-12-10T19:00:34.683524Z"
    }
   },
   "outputs": [
    {
     "data": {
      "text/plain": [
       "array([[0, 1, 1, 1, 1],\n",
       "       [1, 1, 1, 1, 1],\n",
       "       [0, 1, 0, 0, 1],\n",
       "       [0, 1, 1, 0, 1],\n",
       "       [0, 1, 0, 0, 0]])"
      ]
     },
     "execution_count": 3,
     "metadata": {},
     "output_type": "execute_result"
    }
   ],
   "source": [
    "M"
   ]
  },
  {
   "cell_type": "code",
   "execution_count": 4,
   "id": "unauthorized-lewis",
   "metadata": {
    "execution": {
     "iopub.execute_input": "2021-12-10T19:00:34.699524Z",
     "iopub.status.busy": "2021-12-10T19:00:34.699524Z",
     "iopub.status.idle": "2021-12-10T19:00:34.713522Z",
     "shell.execute_reply": "2021-12-10T19:00:34.713522Z",
     "shell.execute_reply.started": "2021-12-10T19:00:34.699524Z"
    }
   },
   "outputs": [],
   "source": [
    "M = np.array([M[r,:] * s for r, s in enumerate(1 / M.sum(axis=1))])"
   ]
  },
  {
   "cell_type": "code",
   "execution_count": 5,
   "id": "statutory-trainer",
   "metadata": {
    "execution": {
     "iopub.execute_input": "2021-12-10T19:00:34.714524Z",
     "iopub.status.busy": "2021-12-10T19:00:34.714524Z",
     "iopub.status.idle": "2021-12-10T19:00:34.729036Z",
     "shell.execute_reply": "2021-12-10T19:00:34.729036Z",
     "shell.execute_reply.started": "2021-12-10T19:00:34.714524Z"
    }
   },
   "outputs": [
    {
     "data": {
      "text/plain": [
       "array([[0.        , 0.25      , 0.25      , 0.25      , 0.25      ],\n",
       "       [0.2       , 0.2       , 0.2       , 0.2       , 0.2       ],\n",
       "       [0.        , 0.5       , 0.        , 0.        , 0.5       ],\n",
       "       [0.        , 0.33333333, 0.33333333, 0.        , 0.33333333],\n",
       "       [0.        , 1.        , 0.        , 0.        , 0.        ]])"
      ]
     },
     "execution_count": 5,
     "metadata": {},
     "output_type": "execute_result"
    }
   ],
   "source": [
    "M"
   ]
  },
  {
   "cell_type": "markdown",
   "id": "damaged-invitation",
   "metadata": {},
   "source": [
    "## Power Method\n",
    "\n",
    "Uses [power iteration](https://en.wikipedia.org/wiki/Power_iteration)."
   ]
  },
  {
   "cell_type": "code",
   "execution_count": 6,
   "id": "elegant-opposition",
   "metadata": {
    "execution": {
     "iopub.execute_input": "2021-12-10T19:00:34.730037Z",
     "iopub.status.busy": "2021-12-10T19:00:34.730037Z",
     "iopub.status.idle": "2021-12-10T19:00:34.745043Z",
     "shell.execute_reply": "2021-12-10T19:00:34.745043Z",
     "shell.execute_reply.started": "2021-12-10T19:00:34.730037Z"
    }
   },
   "outputs": [
    {
     "data": {
      "text/plain": [
       "array([0.08759149, 0.43795601, 0.1459856 , 0.10948932, 0.2189781 ])"
      ]
     },
     "execution_count": 6,
     "metadata": {},
     "output_type": "execute_result"
    }
   ],
   "source": [
    "X = M.dot(M)\n",
    "for _ in range(10):\n",
    "    Y = X.dot(X)\n",
    "    \n",
    "    x = np.diag(X)\n",
    "    y = np.diag(Y)\n",
    "    d = np.linalg.norm(x - y, 1)\n",
    "    \n",
    "    if d < 0.001:\n",
    "        break\n",
    "    \n",
    "    X = Y\n",
    "    \n",
    "np.diag(X)"
   ]
  },
  {
   "cell_type": "markdown",
   "id": "reserved-dietary",
   "metadata": {},
   "source": [
    "## Numpy, eig"
   ]
  },
  {
   "cell_type": "code",
   "execution_count": 26,
   "id": "operational-ballet",
   "metadata": {
    "execution": {
     "iopub.execute_input": "2021-12-10T19:13:21.556408Z",
     "iopub.status.busy": "2021-12-10T19:13:21.556408Z",
     "iopub.status.idle": "2021-12-10T19:13:21.567408Z",
     "shell.execute_reply": "2021-12-10T19:13:21.567408Z",
     "shell.execute_reply.started": "2021-12-10T19:13:21.556408Z"
    },
    "tags": []
   },
   "outputs": [],
   "source": [
    "S, U = np.linalg.eig(M.T)"
   ]
  },
  {
   "cell_type": "code",
   "execution_count": 29,
   "id": "measured-infection",
   "metadata": {
    "execution": {
     "iopub.execute_input": "2021-12-10T19:13:34.220086Z",
     "iopub.status.busy": "2021-12-10T19:13:34.220086Z",
     "iopub.status.idle": "2021-12-10T19:13:34.235087Z",
     "shell.execute_reply": "2021-12-10T19:13:34.235087Z",
     "shell.execute_reply.started": "2021-12-10T19:13:34.220086Z"
    },
    "tags": []
   },
   "outputs": [
    {
     "data": {
      "text/plain": [
       "array([ 1.        , -0.19142147, -0.19142147, -0.20857853, -0.20857853])"
      ]
     },
     "execution_count": 29,
     "metadata": {},
     "output_type": "execute_result"
    }
   ],
   "source": [
    "S.real"
   ]
  },
  {
   "cell_type": "code",
   "execution_count": 30,
   "id": "digital-delaware",
   "metadata": {
    "execution": {
     "iopub.execute_input": "2021-12-10T19:13:37.547536Z",
     "iopub.status.busy": "2021-12-10T19:13:37.547536Z",
     "iopub.status.idle": "2021-12-10T19:13:37.560533Z",
     "shell.execute_reply": "2021-12-10T19:13:37.560533Z",
     "shell.execute_reply.started": "2021-12-10T19:13:37.547536Z"
    },
    "tags": []
   },
   "outputs": [
    {
     "data": {
      "text/plain": [
       "array([[-0.16531686, -0.16178269, -0.16178269, -0.6152745 , -0.6152745 ],\n",
       "       [-0.8265843 ,  0.7453579 ,  0.7453579 ,  0.6968425 ,  0.6968425 ],\n",
       "       [-0.2755281 , -0.2841635 , -0.2841635 ,  0.09145666,  0.09145666],\n",
       "       [-0.20664607, -0.28528506, -0.28528506,  0.0053999 ,  0.0053999 ],\n",
       "       [-0.41329215, -0.01412664, -0.01412664, -0.17842455, -0.17842455]])"
      ]
     },
     "execution_count": 30,
     "metadata": {},
     "output_type": "execute_result"
    }
   ],
   "source": [
    "U.real"
   ]
  },
  {
   "cell_type": "code",
   "execution_count": 31,
   "id": "44d5a13a-821d-4033-8fc2-6e480b3f625d",
   "metadata": {
    "execution": {
     "iopub.execute_input": "2021-12-10T19:13:50.537067Z",
     "iopub.status.busy": "2021-12-10T19:13:50.537067Z",
     "iopub.status.idle": "2021-12-10T19:13:50.545066Z",
     "shell.execute_reply": "2021-12-10T19:13:50.545066Z",
     "shell.execute_reply.started": "2021-12-10T19:13:50.537067Z"
    },
    "tags": []
   },
   "outputs": [
    {
     "data": {
      "text/plain": [
       "array([0.08759124, 0.4379562 , 0.1459854 , 0.10948905, 0.2189781 ])"
      ]
     },
     "execution_count": 31,
     "metadata": {},
     "output_type": "execute_result"
    }
   ],
   "source": [
    "(U[:,np.isclose(S, 1)][:,0] / U[:,np.isclose(S, 1)][:,0].sum()).real"
   ]
  },
  {
   "cell_type": "markdown",
   "id": "3de8106d-daed-473b-9298-5653fc11c122",
   "metadata": {},
   "source": [
    "## Scipy, eig"
   ]
  },
  {
   "cell_type": "code",
   "execution_count": 32,
   "id": "76853640-0d71-467f-a85a-0f7df79b28ec",
   "metadata": {
    "execution": {
     "iopub.execute_input": "2021-12-10T19:13:53.940027Z",
     "iopub.status.busy": "2021-12-10T19:13:53.940027Z",
     "iopub.status.idle": "2021-12-10T19:13:53.944027Z",
     "shell.execute_reply": "2021-12-10T19:13:53.944027Z",
     "shell.execute_reply.started": "2021-12-10T19:13:53.940027Z"
    },
    "tags": []
   },
   "outputs": [],
   "source": [
    "from scipy.linalg import eig\n",
    "\n",
    "S, U = eig(M.T)"
   ]
  },
  {
   "cell_type": "code",
   "execution_count": 33,
   "id": "f8f9bffb-a5a8-4d8a-8fda-8e20ebde9e45",
   "metadata": {
    "execution": {
     "iopub.execute_input": "2021-12-10T19:13:56.643994Z",
     "iopub.status.busy": "2021-12-10T19:13:56.643994Z",
     "iopub.status.idle": "2021-12-10T19:13:56.659995Z",
     "shell.execute_reply": "2021-12-10T19:13:56.659995Z",
     "shell.execute_reply.started": "2021-12-10T19:13:56.643994Z"
    },
    "tags": []
   },
   "outputs": [
    {
     "data": {
      "text/plain": [
       "array([ 1.        , -0.19142147, -0.19142147, -0.20857853, -0.20857853])"
      ]
     },
     "execution_count": 33,
     "metadata": {},
     "output_type": "execute_result"
    }
   ],
   "source": [
    "S.real"
   ]
  },
  {
   "cell_type": "code",
   "execution_count": 34,
   "id": "463c718f-58fa-4cc2-b8e2-698a5977504b",
   "metadata": {
    "execution": {
     "iopub.execute_input": "2021-12-10T19:14:01.116077Z",
     "iopub.status.busy": "2021-12-10T19:14:01.116077Z",
     "iopub.status.idle": "2021-12-10T19:14:01.131077Z",
     "shell.execute_reply": "2021-12-10T19:14:01.131077Z",
     "shell.execute_reply.started": "2021-12-10T19:14:01.116077Z"
    },
    "tags": []
   },
   "outputs": [
    {
     "data": {
      "text/plain": [
       "array([[-0.16531686, -0.16178269, -0.16178269, -0.6152745 , -0.6152745 ],\n",
       "       [-0.8265843 ,  0.7453579 ,  0.7453579 ,  0.6968425 ,  0.6968425 ],\n",
       "       [-0.2755281 , -0.2841635 , -0.2841635 ,  0.09145666,  0.09145666],\n",
       "       [-0.20664607, -0.28528506, -0.28528506,  0.0053999 ,  0.0053999 ],\n",
       "       [-0.41329215, -0.01412664, -0.01412664, -0.17842455, -0.17842455]])"
      ]
     },
     "execution_count": 34,
     "metadata": {},
     "output_type": "execute_result"
    }
   ],
   "source": [
    "U.real"
   ]
  },
  {
   "cell_type": "code",
   "execution_count": 14,
   "id": "664080d9-1680-414b-a5a1-35a349ce35aa",
   "metadata": {
    "execution": {
     "iopub.execute_input": "2021-12-10T19:00:34.921672Z",
     "iopub.status.busy": "2021-12-10T19:00:34.921672Z",
     "iopub.status.idle": "2021-12-10T19:00:34.936671Z",
     "shell.execute_reply": "2021-12-10T19:00:34.936671Z",
     "shell.execute_reply.started": "2021-12-10T19:00:34.921672Z"
    },
    "tags": []
   },
   "outputs": [
    {
     "data": {
      "text/plain": [
       "array([0.08759124, 0.4379562 , 0.1459854 , 0.10948905, 0.2189781 ])"
      ]
     },
     "execution_count": 14,
     "metadata": {},
     "output_type": "execute_result"
    }
   ],
   "source": [
    "(U[:,np.isclose(S, 1)][:,0] / U[:,np.isclose(S, 1)][:,0].sum()).real"
   ]
  },
  {
   "cell_type": "code",
   "execution_count": null,
   "id": "9a144909-a5dc-44bf-b2a7-708e19ece398",
   "metadata": {},
   "outputs": [],
   "source": []
  },
  {
   "cell_type": "code",
   "execution_count": 62,
   "id": "957bdd8e-833e-4106-b489-41e879a9c2e1",
   "metadata": {
    "execution": {
     "iopub.execute_input": "2021-12-10T20:34:17.031303Z",
     "iopub.status.busy": "2021-12-10T20:34:17.031303Z",
     "iopub.status.idle": "2021-12-10T20:34:17.036299Z",
     "shell.execute_reply": "2021-12-10T20:34:17.036299Z",
     "shell.execute_reply.started": "2021-12-10T20:34:17.031303Z"
    },
    "tags": []
   },
   "outputs": [],
   "source": [
    "U, S, V = np.linalg.svd(M)"
   ]
  },
  {
   "cell_type": "code",
   "execution_count": 63,
   "id": "196e5db3-4994-48cc-b8f5-2f3c0a87a447",
   "metadata": {
    "execution": {
     "iopub.execute_input": "2021-12-10T20:34:17.438276Z",
     "iopub.status.busy": "2021-12-10T20:34:17.438276Z",
     "iopub.status.idle": "2021-12-10T20:34:17.448276Z",
     "shell.execute_reply": "2021-12-10T20:34:17.448276Z",
     "shell.execute_reply.started": "2021-12-10T20:34:17.438276Z"
    },
    "tags": []
   },
   "outputs": [
    {
     "data": {
      "text/plain": [
       "array([[-0.29801601,  0.42513093, -0.37178244, -0.08009176, -0.7653844 ],\n",
       "       [-0.24410988,  0.37941413, -0.44963453, -0.51052396,  0.57762389],\n",
       "       [-0.48776976,  0.20162381,  0.7756217 , -0.343992  , -0.0388457 ],\n",
       "       [-0.37336969,  0.40956329,  0.02016766,  0.78321156,  0.28111547],\n",
       "       [-0.68867449, -0.68331132, -0.24002262,  0.03463756,  0.00156949]])"
      ]
     },
     "execution_count": 63,
     "metadata": {},
     "output_type": "execute_result"
    }
   ],
   "source": [
    "U"
   ]
  },
  {
   "cell_type": "code",
   "execution_count": 64,
   "id": "76c874fe-4acc-4b33-b97a-5986ac95f549",
   "metadata": {
    "execution": {
     "iopub.execute_input": "2021-12-10T20:34:18.220428Z",
     "iopub.status.busy": "2021-12-10T20:34:18.220428Z",
     "iopub.status.idle": "2021-12-10T20:34:18.229428Z",
     "shell.execute_reply": "2021-12-10T20:34:18.229428Z",
     "shell.execute_reply.started": "2021-12-10T20:34:18.220428Z"
    },
    "tags": []
   },
   "outputs": [
    {
     "data": {
      "text/plain": [
       "array([1.30917263, 0.62135328, 0.34374807, 0.21387074, 0.13934507])"
      ]
     },
     "execution_count": 64,
     "metadata": {},
     "output_type": "execute_result"
    }
   ],
   "source": [
    "S"
   ]
  },
  {
   "cell_type": "code",
   "execution_count": 65,
   "id": "cf9d8135-7f60-44ba-a8cd-c0cf8401caab",
   "metadata": {
    "execution": {
     "iopub.execute_input": "2021-12-10T20:34:18.820632Z",
     "iopub.status.busy": "2021-12-10T20:34:18.820632Z",
     "iopub.status.idle": "2021-12-10T20:34:18.825632Z",
     "shell.execute_reply": "2021-12-10T20:34:18.825632Z",
     "shell.execute_reply.started": "2021-12-10T20:34:18.820632Z"
    },
    "tags": []
   },
   "outputs": [
    {
     "data": {
      "text/plain": [
       "array([1.71393296, 0.38607989, 0.11816273, 0.04574069, 0.01941705])"
      ]
     },
     "execution_count": 65,
     "metadata": {},
     "output_type": "execute_result"
    }
   ],
   "source": [
    "np.square(S)"
   ]
  },
  {
   "cell_type": "code",
   "execution_count": 66,
   "id": "1a29f6c7-8a2d-4353-bf9f-7f15d40b1fe8",
   "metadata": {
    "execution": {
     "iopub.execute_input": "2021-12-10T20:34:21.518205Z",
     "iopub.status.busy": "2021-12-10T20:34:21.518205Z",
     "iopub.status.idle": "2021-12-10T20:34:21.532195Z",
     "shell.execute_reply": "2021-12-10T20:34:21.532195Z",
     "shell.execute_reply.started": "2021-12-10T20:34:21.518205Z"
    },
    "tags": []
   },
   "outputs": [
    {
     "data": {
      "text/plain": [
       "array([[-3.72922368e-02, -9.01593795e-01, -1.89266517e-01,\n",
       "        -9.42014643e-02, -3.75555838e-01],\n",
       "       [ 1.22125093e-01, -4.24577728e-01,  5.12891245e-01,\n",
       "         2.93175502e-01,  6.75136957e-01],\n",
       "       [-2.61607014e-01, -8.25073102e-02, -5.12439134e-01,\n",
       "        -5.31995764e-01,  6.15744228e-01],\n",
       "       [-4.77413559e-01,  7.40796013e-03,  6.49657758e-01,\n",
       "        -5.71035244e-01, -1.54547608e-01],\n",
       "       [ 8.29055375e-01,  2.18700290e-04,  1.28342076e-01,\n",
       "        -5.44126333e-01, -1.10446126e-02]])"
      ]
     },
     "execution_count": 66,
     "metadata": {},
     "output_type": "execute_result"
    }
   ],
   "source": [
    "V"
   ]
  },
  {
   "cell_type": "code",
   "execution_count": 67,
   "id": "ef63a541-bfb8-4afa-bbb5-8147c14c12e9",
   "metadata": {
    "execution": {
     "iopub.execute_input": "2021-12-10T20:34:22.284120Z",
     "iopub.status.busy": "2021-12-10T20:34:22.284120Z",
     "iopub.status.idle": "2021-12-10T20:34:22.298120Z",
     "shell.execute_reply": "2021-12-10T20:34:22.298120Z",
     "shell.execute_reply.started": "2021-12-10T20:34:22.284120Z"
    },
    "tags": []
   },
   "outputs": [
    {
     "data": {
      "text/plain": [
       "array([0.14245917, 0.11669068, 0.23316625, 0.17848013, 0.32920378])"
      ]
     },
     "execution_count": 67,
     "metadata": {},
     "output_type": "execute_result"
    }
   ],
   "source": [
    "U[:,0] / U[:,0].sum()"
   ]
  },
  {
   "cell_type": "code",
   "execution_count": 68,
   "id": "421f5c3b-e91c-497f-9c33-43075bdb2bd0",
   "metadata": {
    "execution": {
     "iopub.execute_input": "2021-12-10T20:34:22.932195Z",
     "iopub.status.busy": "2021-12-10T20:34:22.932195Z",
     "iopub.status.idle": "2021-12-10T20:34:22.940195Z",
     "shell.execute_reply": "2021-12-10T20:34:22.940195Z",
     "shell.execute_reply.started": "2021-12-10T20:34:22.932195Z"
    },
    "tags": []
   },
   "outputs": [
    {
     "data": {
      "text/plain": [
       "array([ 0.27337315, -0.38997697,  0.34103985,  0.07346899,  0.70209497])"
      ]
     },
     "execution_count": 68,
     "metadata": {},
     "output_type": "execute_result"
    }
   ],
   "source": [
    "U[0,:] / U[0,:].sum()"
   ]
  },
  {
   "cell_type": "code",
   "execution_count": null,
   "id": "3255c8b3-1d12-467f-b942-1632d949932b",
   "metadata": {},
   "outputs": [],
   "source": []
  },
  {
   "cell_type": "code",
   "execution_count": null,
   "id": "0d815a88-1917-46d6-b1f2-afd5611cd48f",
   "metadata": {},
   "outputs": [],
   "source": []
  },
  {
   "cell_type": "code",
   "execution_count": null,
   "id": "6b986333-9db3-4f72-93fa-736e6333aa9a",
   "metadata": {},
   "outputs": [],
   "source": []
  },
  {
   "cell_type": "code",
   "execution_count": null,
   "id": "32c15bbc-c5db-4b6a-b835-1364c7f29c10",
   "metadata": {},
   "outputs": [],
   "source": []
  },
  {
   "cell_type": "code",
   "execution_count": null,
   "id": "78906682-110a-40f4-bfa0-2382d8d88504",
   "metadata": {},
   "outputs": [],
   "source": []
  },
  {
   "cell_type": "code",
   "execution_count": 53,
   "id": "de61deaf-a72c-43c1-9743-129af0fbe64c",
   "metadata": {
    "execution": {
     "iopub.execute_input": "2021-12-10T20:19:47.566203Z",
     "iopub.status.busy": "2021-12-10T20:19:47.566203Z",
     "iopub.status.idle": "2021-12-10T20:19:47.573201Z",
     "shell.execute_reply": "2021-12-10T20:19:47.573201Z",
     "shell.execute_reply.started": "2021-12-10T20:19:47.566203Z"
    },
    "tags": []
   },
   "outputs": [],
   "source": [
    "eigen_vals, eigen_vecs = np.linalg.eig(M)\n",
    "U, Sigma, Vh = np.linalg.svd(X, full_matrices=False, compute_uv=True)"
   ]
  },
  {
   "cell_type": "code",
   "execution_count": 55,
   "id": "0f7628d4-fe74-4b07-8ce8-6a0b87a3fd0b",
   "metadata": {
    "execution": {
     "iopub.execute_input": "2021-12-10T20:20:20.654686Z",
     "iopub.status.busy": "2021-12-10T20:20:20.654686Z",
     "iopub.status.idle": "2021-12-10T20:20:20.664686Z",
     "shell.execute_reply": "2021-12-10T20:20:20.664686Z",
     "shell.execute_reply.started": "2021-12-10T20:20:20.654686Z"
    },
    "tags": []
   },
   "outputs": [
    {
     "data": {
      "text/plain": [
       "array([ 1.        , -0.19142147, -0.19142147, -0.20857853, -0.20857853])"
      ]
     },
     "execution_count": 55,
     "metadata": {},
     "output_type": "execute_result"
    }
   ],
   "source": [
    "eigen_vals.real"
   ]
  },
  {
   "cell_type": "code",
   "execution_count": 60,
   "id": "ee4e5112-3b1b-4733-83a2-4d851bf0f007",
   "metadata": {
    "execution": {
     "iopub.execute_input": "2021-12-10T20:21:08.968331Z",
     "iopub.status.busy": "2021-12-10T20:21:08.968331Z",
     "iopub.status.idle": "2021-12-10T20:21:08.987332Z",
     "shell.execute_reply": "2021-12-10T20:21:08.987332Z",
     "shell.execute_reply.started": "2021-12-10T20:21:08.968331Z"
    },
    "tags": []
   },
   "outputs": [
    {
     "data": {
      "text/plain": [
       "array([3.50911009e-01, 5.36169199e-13, 1.73525640e-13, 6.94761130e-22,\n",
       "       1.25951744e-23])"
      ]
     },
     "execution_count": 60,
     "metadata": {},
     "output_type": "execute_result"
    }
   ],
   "source": [
    "np.square(Sigma.real) / (M.shape[0] - 1)"
   ]
  },
  {
   "cell_type": "code",
   "execution_count": null,
   "id": "34c6c177-de5f-4925-b4a1-33514e442c26",
   "metadata": {},
   "outputs": [],
   "source": []
  }
 ],
 "metadata": {
  "kernelspec": {
   "display_name": "Python 3",
   "language": "python",
   "name": "python3"
  },
  "language_info": {
   "codemirror_mode": {
    "name": "ipython",
    "version": 3
   },
   "file_extension": ".py",
   "mimetype": "text/x-python",
   "name": "python",
   "nbconvert_exporter": "python",
   "pygments_lexer": "ipython3",
   "version": "3.8.5"
  },
  "widgets": {
   "application/vnd.jupyter.widget-state+json": {
    "state": {},
    "version_major": 2,
    "version_minor": 0
   }
  }
 },
 "nbformat": 4,
 "nbformat_minor": 5
}
