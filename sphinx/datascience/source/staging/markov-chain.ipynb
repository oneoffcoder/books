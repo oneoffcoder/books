{
 "cells": [
  {
   "cell_type": "markdown",
   "id": "threatened-hypothetical",
   "metadata": {},
   "source": [
    "# Markov Chain, Stationary Distribution"
   ]
  },
  {
   "cell_type": "code",
   "execution_count": 1,
   "id": "heard-programmer",
   "metadata": {
    "execution": {
     "iopub.execute_input": "2021-12-10T16:27:18.792360Z",
     "iopub.status.busy": "2021-12-10T16:27:18.792191Z",
     "iopub.status.idle": "2021-12-10T16:27:18.844594Z",
     "shell.execute_reply": "2021-12-10T16:27:18.844230Z",
     "shell.execute_reply.started": "2021-12-10T16:27:18.792331Z"
    }
   },
   "outputs": [
    {
     "data": {
      "text/plain": [
       "array([[0, 1, 1, 1, 1],\n",
       "       [0, 0, 0, 0, 0],\n",
       "       [0, 1, 0, 0, 1],\n",
       "       [0, 1, 1, 0, 1],\n",
       "       [0, 1, 0, 0, 0]])"
      ]
     },
     "execution_count": 1,
     "metadata": {},
     "output_type": "execute_result"
    }
   ],
   "source": [
    "import numpy as np\n",
    "\n",
    "M = np.array([\n",
    "    [0, 1, 1, 1, 1],\n",
    "    [0, 0, 0, 0, 0],\n",
    "    [0, 1, 0, 0, 1],\n",
    "    [0, 1, 1, 0, 1],\n",
    "    [0, 1, 0, 0, 0]\n",
    "])\n",
    "M"
   ]
  },
  {
   "cell_type": "code",
   "execution_count": 2,
   "id": "comparative-offering",
   "metadata": {
    "execution": {
     "iopub.execute_input": "2021-12-10T16:27:18.845258Z",
     "iopub.status.busy": "2021-12-10T16:27:18.845152Z",
     "iopub.status.idle": "2021-12-10T16:27:18.847408Z",
     "shell.execute_reply": "2021-12-10T16:27:18.847030Z",
     "shell.execute_reply.started": "2021-12-10T16:27:18.845245Z"
    }
   },
   "outputs": [],
   "source": [
    "for r, s in enumerate(M.sum(axis=1)):\n",
    "    if s == 0:\n",
    "        M[r, :] = 1"
   ]
  },
  {
   "cell_type": "code",
   "execution_count": 3,
   "id": "electrical-fever",
   "metadata": {
    "execution": {
     "iopub.execute_input": "2021-12-10T16:27:18.848408Z",
     "iopub.status.busy": "2021-12-10T16:27:18.848282Z",
     "iopub.status.idle": "2021-12-10T16:27:18.851657Z",
     "shell.execute_reply": "2021-12-10T16:27:18.851257Z",
     "shell.execute_reply.started": "2021-12-10T16:27:18.848394Z"
    }
   },
   "outputs": [
    {
     "data": {
      "text/plain": [
       "array([[0, 1, 1, 1, 1],\n",
       "       [1, 1, 1, 1, 1],\n",
       "       [0, 1, 0, 0, 1],\n",
       "       [0, 1, 1, 0, 1],\n",
       "       [0, 1, 0, 0, 0]])"
      ]
     },
     "execution_count": 3,
     "metadata": {},
     "output_type": "execute_result"
    }
   ],
   "source": [
    "M"
   ]
  },
  {
   "cell_type": "code",
   "execution_count": 4,
   "id": "unauthorized-lewis",
   "metadata": {
    "execution": {
     "iopub.execute_input": "2021-12-10T16:27:18.853337Z",
     "iopub.status.busy": "2021-12-10T16:27:18.852999Z",
     "iopub.status.idle": "2021-12-10T16:27:18.856005Z",
     "shell.execute_reply": "2021-12-10T16:27:18.855508Z",
     "shell.execute_reply.started": "2021-12-10T16:27:18.853266Z"
    }
   },
   "outputs": [],
   "source": [
    "M = np.array([M[r,:] * s for r, s in enumerate(1 / M.sum(axis=1))])"
   ]
  },
  {
   "cell_type": "code",
   "execution_count": 5,
   "id": "statutory-trainer",
   "metadata": {
    "execution": {
     "iopub.execute_input": "2021-12-10T16:27:18.856810Z",
     "iopub.status.busy": "2021-12-10T16:27:18.856651Z",
     "iopub.status.idle": "2021-12-10T16:27:18.859850Z",
     "shell.execute_reply": "2021-12-10T16:27:18.859526Z",
     "shell.execute_reply.started": "2021-12-10T16:27:18.856796Z"
    }
   },
   "outputs": [
    {
     "data": {
      "text/plain": [
       "array([[0.        , 0.25      , 0.25      , 0.25      , 0.25      ],\n",
       "       [0.2       , 0.2       , 0.2       , 0.2       , 0.2       ],\n",
       "       [0.        , 0.5       , 0.        , 0.        , 0.5       ],\n",
       "       [0.        , 0.33333333, 0.33333333, 0.        , 0.33333333],\n",
       "       [0.        , 1.        , 0.        , 0.        , 0.        ]])"
      ]
     },
     "execution_count": 5,
     "metadata": {},
     "output_type": "execute_result"
    }
   ],
   "source": [
    "M"
   ]
  },
  {
   "cell_type": "markdown",
   "id": "damaged-invitation",
   "metadata": {},
   "source": [
    "## Power Method\n",
    "\n",
    "Uses [power iteration](https://en.wikipedia.org/wiki/Power_iteration)."
   ]
  },
  {
   "cell_type": "code",
   "execution_count": 6,
   "id": "elegant-opposition",
   "metadata": {
    "execution": {
     "iopub.execute_input": "2021-12-10T16:27:18.860465Z",
     "iopub.status.busy": "2021-12-10T16:27:18.860361Z",
     "iopub.status.idle": "2021-12-10T16:27:18.885336Z",
     "shell.execute_reply": "2021-12-10T16:27:18.884937Z",
     "shell.execute_reply.started": "2021-12-10T16:27:18.860451Z"
    }
   },
   "outputs": [
    {
     "data": {
      "text/plain": [
       "array([0.08759149, 0.43795601, 0.1459856 , 0.10948932, 0.2189781 ])"
      ]
     },
     "execution_count": 6,
     "metadata": {},
     "output_type": "execute_result"
    }
   ],
   "source": [
    "X = M.dot(M)\n",
    "for _ in range(10):\n",
    "    Y = X.dot(X)\n",
    "    \n",
    "    x = np.diag(X)\n",
    "    y = np.diag(Y)\n",
    "    d = np.linalg.norm(x - y, 1)\n",
    "    \n",
    "    if d < 0.001:\n",
    "        break\n",
    "    \n",
    "    X = Y\n",
    "    \n",
    "np.diag(X)"
   ]
  },
  {
   "cell_type": "markdown",
   "id": "empirical-primary",
   "metadata": {},
   "source": [
    "## Scikit-Learn"
   ]
  },
  {
   "cell_type": "code",
   "execution_count": 46,
   "id": "opening-oakland",
   "metadata": {
    "execution": {
     "iopub.execute_input": "2021-12-10T16:48:22.096836Z",
     "iopub.status.busy": "2021-12-10T16:48:22.096205Z",
     "iopub.status.idle": "2021-12-10T16:48:22.107023Z",
     "shell.execute_reply": "2021-12-10T16:48:22.106660Z",
     "shell.execute_reply.started": "2021-12-10T16:48:22.096761Z"
    }
   },
   "outputs": [
    {
     "data": {
      "text/plain": [
       "TruncatedSVD(n_components=1, n_iter=100, random_state=37)"
      ]
     },
     "execution_count": 46,
     "metadata": {},
     "output_type": "execute_result"
    }
   ],
   "source": [
    "from sklearn.decomposition import TruncatedSVD\n",
    "\n",
    "svd = TruncatedSVD(n_components=1, n_iter=100, random_state=37)\n",
    "svd.fit(M)"
   ]
  },
  {
   "cell_type": "code",
   "execution_count": 47,
   "id": "according-dealing",
   "metadata": {
    "execution": {
     "iopub.execute_input": "2021-12-10T16:48:22.899176Z",
     "iopub.status.busy": "2021-12-10T16:48:22.898496Z",
     "iopub.status.idle": "2021-12-10T16:48:22.904331Z",
     "shell.execute_reply": "2021-12-10T16:48:22.903908Z",
     "shell.execute_reply.started": "2021-12-10T16:48:22.899100Z"
    }
   },
   "outputs": [
    {
     "data": {
      "text/plain": [
       "array([1.30917263])"
      ]
     },
     "execution_count": 47,
     "metadata": {},
     "output_type": "execute_result"
    }
   ],
   "source": [
    "svd.singular_values_"
   ]
  },
  {
   "cell_type": "code",
   "execution_count": 48,
   "id": "proud-palestine",
   "metadata": {
    "execution": {
     "iopub.execute_input": "2021-12-10T16:48:23.288905Z",
     "iopub.status.busy": "2021-12-10T16:48:23.288683Z",
     "iopub.status.idle": "2021-12-10T16:48:23.292760Z",
     "shell.execute_reply": "2021-12-10T16:48:23.292104Z",
     "shell.execute_reply.started": "2021-12-10T16:48:23.288881Z"
    }
   },
   "outputs": [
    {
     "data": {
      "text/plain": [
       "array([0.04276521])"
      ]
     },
     "execution_count": 48,
     "metadata": {},
     "output_type": "execute_result"
    }
   ],
   "source": [
    "svd.explained_variance_"
   ]
  },
  {
   "cell_type": "code",
   "execution_count": 49,
   "id": "twelve-crisis",
   "metadata": {
    "execution": {
     "iopub.execute_input": "2021-12-10T16:48:23.993007Z",
     "iopub.status.busy": "2021-12-10T16:48:23.992861Z",
     "iopub.status.idle": "2021-12-10T16:48:23.995697Z",
     "shell.execute_reply": "2021-12-10T16:48:23.995286Z",
     "shell.execute_reply.started": "2021-12-10T16:48:23.992992Z"
    }
   },
   "outputs": [
    {
     "data": {
      "text/plain": [
       "array([0.28895415])"
      ]
     },
     "execution_count": 49,
     "metadata": {},
     "output_type": "execute_result"
    }
   ],
   "source": [
    "svd.explained_variance_ratio_"
   ]
  },
  {
   "cell_type": "code",
   "execution_count": 50,
   "id": "realistic-tokyo",
   "metadata": {
    "execution": {
     "iopub.execute_input": "2021-12-10T16:48:24.626248Z",
     "iopub.status.busy": "2021-12-10T16:48:24.626088Z",
     "iopub.status.idle": "2021-12-10T16:48:24.629139Z",
     "shell.execute_reply": "2021-12-10T16:48:24.628825Z",
     "shell.execute_reply.started": "2021-12-10T16:48:24.626234Z"
    }
   },
   "outputs": [
    {
     "data": {
      "text/plain": [
       "array([[0.03729224, 0.90159379, 0.18926652, 0.09420146, 0.37555584]])"
      ]
     },
     "execution_count": 50,
     "metadata": {},
     "output_type": "execute_result"
    }
   ],
   "source": [
    "svd.components_"
   ]
  },
  {
   "cell_type": "code",
   "execution_count": 51,
   "id": "fallen-pantyhose",
   "metadata": {
    "execution": {
     "iopub.execute_input": "2021-12-10T16:48:24.906315Z",
     "iopub.status.busy": "2021-12-10T16:48:24.906093Z",
     "iopub.status.idle": "2021-12-10T16:48:24.910074Z",
     "shell.execute_reply": "2021-12-10T16:48:24.909622Z",
     "shell.execute_reply.started": "2021-12-10T16:48:24.906295Z"
    }
   },
   "outputs": [
    {
     "data": {
      "text/plain": [
       "array([[0.14288678, 0.33912004, 0.16633883, 0.15125419, 0.20040016]])"
      ]
     },
     "execution_count": 51,
     "metadata": {},
     "output_type": "execute_result"
    }
   ],
   "source": [
    "from scipy.special import softmax\n",
    "\n",
    "softmax(svd.components_)"
   ]
  },
  {
   "cell_type": "markdown",
   "id": "reserved-dietary",
   "metadata": {},
   "source": [
    "## Numpy"
   ]
  },
  {
   "cell_type": "code",
   "execution_count": 7,
   "id": "operational-ballet",
   "metadata": {
    "execution": {
     "iopub.execute_input": "2021-12-10T16:27:18.886048Z",
     "iopub.status.busy": "2021-12-10T16:27:18.885890Z",
     "iopub.status.idle": "2021-12-10T16:27:18.888642Z",
     "shell.execute_reply": "2021-12-10T16:27:18.888179Z",
     "shell.execute_reply.started": "2021-12-10T16:27:18.886030Z"
    }
   },
   "outputs": [],
   "source": [
    "w, v = np.linalg.eig(M)"
   ]
  },
  {
   "cell_type": "code",
   "execution_count": 8,
   "id": "measured-infection",
   "metadata": {
    "execution": {
     "iopub.execute_input": "2021-12-10T16:27:18.889429Z",
     "iopub.status.busy": "2021-12-10T16:27:18.889263Z",
     "iopub.status.idle": "2021-12-10T16:27:18.892445Z",
     "shell.execute_reply": "2021-12-10T16:27:18.892130Z",
     "shell.execute_reply.started": "2021-12-10T16:27:18.889409Z"
    }
   },
   "outputs": [
    {
     "data": {
      "text/plain": [
       "array([ 1.        +0.j        , -0.19142147+0.37381746j,\n",
       "       -0.19142147-0.37381746j, -0.20857853+0.06116392j,\n",
       "       -0.20857853-0.06116392j])"
      ]
     },
     "execution_count": 8,
     "metadata": {},
     "output_type": "execute_result"
    }
   ],
   "source": [
    "w"
   ]
  },
  {
   "cell_type": "code",
   "execution_count": 9,
   "id": "digital-delaware",
   "metadata": {
    "execution": {
     "iopub.execute_input": "2021-12-10T16:27:18.893791Z",
     "iopub.status.busy": "2021-12-10T16:27:18.893598Z",
     "iopub.status.idle": "2021-12-10T16:27:18.896544Z",
     "shell.execute_reply": "2021-12-10T16:27:18.896179Z",
     "shell.execute_reply.started": "2021-12-10T16:27:18.893771Z"
    }
   },
   "outputs": [
    {
     "data": {
      "text/plain": [
       "array([[-0.4472136 +0.j        , -0.13318281-0.29145268j,\n",
       "        -0.13318281+0.29145268j,  0.09480498+0.27007682j,\n",
       "         0.09480498-0.27007682j],\n",
       "       [-0.4472136 +0.j        , -0.20117745-0.11344862j,\n",
       "        -0.20117745+0.11344862j,  0.06206367-0.04694846j,\n",
       "         0.06206367+0.04694846j],\n",
       "       [-0.4472136 +0.j        ,  0.58322907+0.j        ,\n",
       "         0.58322907-0.j        ,  0.65373336+0.j        ,\n",
       "         0.65373336-0.j        ],\n",
       "       [-0.4472136 +0.j        ,  0.17783267-0.41202544j,\n",
       "         0.17783267+0.41202544j, -0.52619684-0.28210412j,\n",
       "        -0.52619684+0.28210412j],\n",
       "       [-0.4472136 +0.j        , -0.02210768+0.54949103j,\n",
       "        -0.02210768-0.54949103j, -0.33477316+0.12691826j,\n",
       "        -0.33477316-0.12691826j]])"
      ]
     },
     "execution_count": 9,
     "metadata": {},
     "output_type": "execute_result"
    }
   ],
   "source": [
    "v"
   ]
  },
  {
   "cell_type": "markdown",
   "id": "rolled-thriller",
   "metadata": {},
   "source": [
    "## Scipy"
   ]
  },
  {
   "cell_type": "code",
   "execution_count": 13,
   "id": "removed-discharge",
   "metadata": {
    "execution": {
     "iopub.execute_input": "2021-12-10T16:35:48.600559Z",
     "iopub.status.busy": "2021-12-10T16:35:48.600380Z",
     "iopub.status.idle": "2021-12-10T16:35:48.603386Z",
     "shell.execute_reply": "2021-12-10T16:35:48.602837Z",
     "shell.execute_reply.started": "2021-12-10T16:35:48.600529Z"
    }
   },
   "outputs": [],
   "source": [
    "from scipy.linalg import eigh\n",
    "\n",
    "w, v = eigh(M)"
   ]
  },
  {
   "cell_type": "code",
   "execution_count": 14,
   "id": "announced-amateur",
   "metadata": {
    "execution": {
     "iopub.execute_input": "2021-12-10T16:35:49.360437Z",
     "iopub.status.busy": "2021-12-10T16:35:49.359816Z",
     "iopub.status.idle": "2021-12-10T16:35:49.366326Z",
     "shell.execute_reply": "2021-12-10T16:35:49.365813Z",
     "shell.execute_reply.started": "2021-12-10T16:35:49.360365Z"
    }
   },
   "outputs": [
    {
     "data": {
      "text/plain": [
       "array([-1.05505960e+00, -3.28934060e-01,  2.22044605e-16,  2.49512669e-01,\n",
       "        1.33448099e+00])"
      ]
     },
     "execution_count": 14,
     "metadata": {},
     "output_type": "execute_result"
    }
   ],
   "source": [
    "w"
   ]
  },
  {
   "cell_type": "code",
   "execution_count": 15,
   "id": "capable-turkish",
   "metadata": {
    "execution": {
     "iopub.execute_input": "2021-12-10T16:35:51.938360Z",
     "iopub.status.busy": "2021-12-10T16:35:51.937727Z",
     "iopub.status.idle": "2021-12-10T16:35:51.944002Z",
     "shell.execute_reply": "2021-12-10T16:35:51.943617Z",
     "shell.execute_reply.started": "2021-12-10T16:35:51.938288Z"
    }
   },
   "outputs": [
    {
     "data": {
      "text/plain": [
       "array([[-1.29549822e-01,  2.25187815e-02,  9.80580676e-01,\n",
       "         9.78051832e-02,  1.07728514e-01],\n",
       "       [ 6.83413913e-01, -3.70359711e-02,  3.51927057e-16,\n",
       "         1.22018162e-01,  7.18808270e-01],\n",
       "       [-2.84007052e-01, -6.78253442e-01, -5.42983743e-16,\n",
       "        -5.89098017e-01,  3.35075796e-01],\n",
       "       [-1.26187773e-01,  7.24855932e-01, -5.63414323e-16,\n",
       "        -6.23989498e-01,  2.63244431e-01],\n",
       "       [-6.47749109e-01,  1.12593907e-01, -1.96116135e-01,\n",
       "         4.89025916e-01,  5.38642571e-01]])"
      ]
     },
     "execution_count": 15,
     "metadata": {},
     "output_type": "execute_result"
    }
   ],
   "source": [
    "v"
   ]
  },
  {
   "cell_type": "code",
   "execution_count": null,
   "id": "boxed-actor",
   "metadata": {},
   "outputs": [],
   "source": []
  }
 ],
 "metadata": {
  "kernelspec": {
   "display_name": "Python 3",
   "language": "python",
   "name": "python3"
  },
  "language_info": {
   "codemirror_mode": {
    "name": "ipython",
    "version": 3
   },
   "file_extension": ".py",
   "mimetype": "text/x-python",
   "name": "python",
   "nbconvert_exporter": "python",
   "pygments_lexer": "ipython3",
   "version": "3.8.5"
  },
  "widgets": {
   "application/vnd.jupyter.widget-state+json": {
    "state": {},
    "version_major": 2,
    "version_minor": 0
   }
  }
 },
 "nbformat": 4,
 "nbformat_minor": 5
}
