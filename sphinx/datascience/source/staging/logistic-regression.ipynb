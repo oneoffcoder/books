{
 "cells": [
  {
   "cell_type": "markdown",
   "id": "center-shame",
   "metadata": {},
   "source": [
    "# Logistic Regression, Different Loss Functions"
   ]
  },
  {
   "cell_type": "markdown",
   "id": "recognized-template",
   "metadata": {},
   "source": [
    "## Data"
   ]
  },
  {
   "cell_type": "code",
   "execution_count": 1,
   "id": "satellite-exchange",
   "metadata": {
    "execution": {
     "iopub.execute_input": "2021-11-30T16:31:20.396430Z",
     "iopub.status.busy": "2021-11-30T16:31:20.395618Z",
     "iopub.status.idle": "2021-11-30T16:31:20.647042Z",
     "shell.execute_reply": "2021-11-30T16:31:20.646545Z",
     "shell.execute_reply.started": "2021-11-30T16:31:20.396295Z"
    }
   },
   "outputs": [],
   "source": [
    "import numpy as np\n",
    "from numpy.random import binomial, normal\n",
    "from scipy.stats import bernoulli, binom\n",
    "\n",
    "np.random.seed(37)\n",
    "\n",
    "n = 10_000\n",
    "X = np.hstack([\n",
    "    np.array([1 for _ in range(n)]).reshape(n, 1),\n",
    "    normal(0.0, 1.0, n).reshape(n, 1),\n",
    "    normal(0.0, 1.0, n).reshape(n, 1)\n",
    "])\n",
    "z = np.dot(X, np.array([1.0, 2.0, 3.0])) + normal(0.0, 1.0, n)\n",
    "p = 1.0 / (1.0 + np.exp(-z))\n",
    "y = binom.rvs(1, p)"
   ]
  },
  {
   "cell_type": "code",
   "execution_count": 2,
   "id": "requested-progress",
   "metadata": {
    "execution": {
     "iopub.execute_input": "2021-11-30T16:31:20.647907Z",
     "iopub.status.busy": "2021-11-30T16:31:20.647772Z",
     "iopub.status.idle": "2021-11-30T16:31:20.656144Z",
     "shell.execute_reply": "2021-11-30T16:31:20.655787Z",
     "shell.execute_reply.started": "2021-11-30T16:31:20.647883Z"
    }
   },
   "outputs": [
    {
     "data": {
      "text/plain": [
       "array([[ 1.        , -0.05446361,  0.13388209],\n",
       "       [ 1.        ,  0.67430807, -0.96145276],\n",
       "       [ 1.        ,  0.34664703, -0.103717  ],\n",
       "       ...,\n",
       "       [ 1.        , -0.72555704, -0.91534393],\n",
       "       [ 1.        ,  0.33369825, -1.25826271],\n",
       "       [ 1.        ,  0.77013718,  0.38102387]])"
      ]
     },
     "execution_count": 2,
     "metadata": {},
     "output_type": "execute_result"
    }
   ],
   "source": [
    "X"
   ]
  },
  {
   "cell_type": "code",
   "execution_count": 3,
   "id": "superior-night",
   "metadata": {
    "execution": {
     "iopub.execute_input": "2021-11-30T16:31:20.658660Z",
     "iopub.status.busy": "2021-11-30T16:31:20.658478Z",
     "iopub.status.idle": "2021-11-30T16:31:20.670845Z",
     "shell.execute_reply": "2021-11-30T16:31:20.670337Z",
     "shell.execute_reply.started": "2021-11-30T16:31:20.658637Z"
    }
   },
   "outputs": [
    {
     "data": {
      "text/plain": [
       "array([0, 1, 1, ..., 0, 0, 1])"
      ]
     },
     "execution_count": 3,
     "metadata": {},
     "output_type": "execute_result"
    }
   ],
   "source": [
    "y"
   ]
  },
  {
   "cell_type": "code",
   "execution_count": 4,
   "id": "appropriate-scale",
   "metadata": {
    "execution": {
     "iopub.execute_input": "2021-11-30T16:31:20.671647Z",
     "iopub.status.busy": "2021-11-30T16:31:20.671465Z",
     "iopub.status.idle": "2021-11-30T16:31:20.674612Z",
     "shell.execute_reply": "2021-11-30T16:31:20.674217Z",
     "shell.execute_reply.started": "2021-11-30T16:31:20.671630Z"
    }
   },
   "outputs": [
    {
     "data": {
      "text/plain": [
       "array([0.81982517, 0.56877323, 0.87879833, ..., 0.00978107, 0.03430839,\n",
       "       0.98321842])"
      ]
     },
     "execution_count": 4,
     "metadata": {},
     "output_type": "execute_result"
    }
   ],
   "source": [
    "p"
   ]
  },
  {
   "cell_type": "markdown",
   "id": "adverse-concert",
   "metadata": {},
   "source": [
    "## Learn weights with Scikit-Learn"
   ]
  },
  {
   "cell_type": "code",
   "execution_count": 5,
   "id": "monetary-hopkins",
   "metadata": {
    "execution": {
     "iopub.execute_input": "2021-11-30T16:31:20.675424Z",
     "iopub.status.busy": "2021-11-30T16:31:20.675235Z",
     "iopub.status.idle": "2021-11-30T16:31:20.891689Z",
     "shell.execute_reply": "2021-11-30T16:31:20.891246Z",
     "shell.execute_reply.started": "2021-11-30T16:31:20.675406Z"
    }
   },
   "outputs": [
    {
     "name": "stdout",
     "output_type": "stream",
     "text": [
      "[0.89312519 1.71445566 2.59091944]\n"
     ]
    }
   ],
   "source": [
    "from sklearn.linear_model import LogisticRegression\n",
    "\n",
    "lr = LogisticRegression(fit_intercept=False, solver='lbfgs')\n",
    "lr.fit(X, y)\n",
    "\n",
    "print(lr.coef_[0])"
   ]
  },
  {
   "cell_type": "markdown",
   "id": "realistic-credits",
   "metadata": {},
   "source": [
    "## Loss functions\n",
    "\n",
    "- $-\\hat{y} y + \\log{(1 + \\exp \\hat{y})}$"
   ]
  },
  {
   "cell_type": "code",
   "execution_count": 6,
   "id": "neutral-patient",
   "metadata": {
    "execution": {
     "iopub.execute_input": "2021-11-30T16:31:20.892660Z",
     "iopub.status.busy": "2021-11-30T16:31:20.892472Z",
     "iopub.status.idle": "2021-11-30T16:31:20.904606Z",
     "shell.execute_reply": "2021-11-30T16:31:20.904217Z",
     "shell.execute_reply.started": "2021-11-30T16:31:20.892636Z"
    }
   },
   "outputs": [],
   "source": [
    "import autograd.numpy as np\n",
    "from autograd import grad\n",
    "from autograd.numpy import exp, log, sqrt\n",
    "\n",
    "def loss1(w, X, y):\n",
    "    y_pred = np.dot(X, w)\n",
    "    return np.mean(-(y_pred * y) + log(1.0 + exp(y_pred)), axis=None)\n",
    "\n",
    "def loss2(w, X, y):\n",
    "    y_pred = 1 / (1 + exp(-np.dot(X, w)))\n",
    "    return np.mean((y - y_pred) ** 2.0, axis=None)\n",
    "\n",
    "loss1_grad = grad(loss1)\n",
    "loss2_grad = grad(loss2)"
   ]
  },
  {
   "cell_type": "markdown",
   "id": "fiscal-studio",
   "metadata": {},
   "source": [
    "## Learn weights with autograd"
   ]
  },
  {
   "cell_type": "code",
   "execution_count": 7,
   "id": "exempt-liberia",
   "metadata": {
    "execution": {
     "iopub.execute_input": "2021-11-30T16:31:20.905255Z",
     "iopub.status.busy": "2021-11-30T16:31:20.905144Z",
     "iopub.status.idle": "2021-11-30T16:31:20.913617Z",
     "shell.execute_reply": "2021-11-30T16:31:20.913220Z",
     "shell.execute_reply.started": "2021-11-30T16:31:20.905241Z"
    }
   },
   "outputs": [],
   "source": [
    "def learn_weights(X, y, loss_grad, alpha=0.05, max_iter=10_000):\n",
    "    w = np.array([0.01 for _ in range(X.shape[1])])\n",
    "\n",
    "    for i in range(max_iter):\n",
    "        loss = loss_grad(w, X, y)\n",
    "        w = w - (loss * alpha)\n",
    "\n",
    "    return w"
   ]
  },
  {
   "cell_type": "markdown",
   "id": "flying-alias",
   "metadata": {},
   "source": [
    "### Binary y"
   ]
  },
  {
   "cell_type": "code",
   "execution_count": 8,
   "id": "prime-harvard",
   "metadata": {
    "execution": {
     "iopub.execute_input": "2021-11-30T16:31:20.914824Z",
     "iopub.status.busy": "2021-11-30T16:31:20.914682Z",
     "iopub.status.idle": "2021-11-30T16:31:25.485679Z",
     "shell.execute_reply": "2021-11-30T16:31:25.485280Z",
     "shell.execute_reply.started": "2021-11-30T16:31:20.914807Z"
    }
   },
   "outputs": [
    {
     "data": {
      "text/plain": [
       "array([0.89701086, 1.7217453 , 2.60190376])"
      ]
     },
     "execution_count": 8,
     "metadata": {},
     "output_type": "execute_result"
    }
   ],
   "source": [
    "learn_weights(X, y, loss1_grad)"
   ]
  },
  {
   "cell_type": "code",
   "execution_count": 9,
   "id": "egyptian-interpretation",
   "metadata": {
    "execution": {
     "iopub.execute_input": "2021-11-30T16:31:25.486460Z",
     "iopub.status.busy": "2021-11-30T16:31:25.486328Z",
     "iopub.status.idle": "2021-11-30T16:31:31.348021Z",
     "shell.execute_reply": "2021-11-30T16:31:31.347608Z",
     "shell.execute_reply.started": "2021-11-30T16:31:25.486443Z"
    }
   },
   "outputs": [
    {
     "data": {
      "text/plain": [
       "array([0.84558344, 1.6619042 , 2.51455477])"
      ]
     },
     "execution_count": 9,
     "metadata": {},
     "output_type": "execute_result"
    }
   ],
   "source": [
    "learn_weights(X, y, loss2_grad)"
   ]
  },
  {
   "cell_type": "markdown",
   "id": "prospective-target",
   "metadata": {},
   "source": [
    "### Probabilistic p"
   ]
  },
  {
   "cell_type": "code",
   "execution_count": 10,
   "id": "union-helena",
   "metadata": {
    "execution": {
     "iopub.execute_input": "2021-11-30T16:31:31.348645Z",
     "iopub.status.busy": "2021-11-30T16:31:31.348503Z",
     "iopub.status.idle": "2021-11-30T16:31:35.809276Z",
     "shell.execute_reply": "2021-11-30T16:31:35.808798Z",
     "shell.execute_reply.started": "2021-11-30T16:31:31.348630Z"
    }
   },
   "outputs": [
    {
     "data": {
      "text/plain": [
       "array([0.86917161, 1.74138012, 2.60448694])"
      ]
     },
     "execution_count": 10,
     "metadata": {},
     "output_type": "execute_result"
    }
   ],
   "source": [
    "learn_weights(X, p, loss1_grad)"
   ]
  },
  {
   "cell_type": "code",
   "execution_count": 11,
   "id": "differential-curve",
   "metadata": {
    "execution": {
     "iopub.execute_input": "2021-11-30T16:31:35.810085Z",
     "iopub.status.busy": "2021-11-30T16:31:35.809914Z",
     "iopub.status.idle": "2021-11-30T16:31:41.570684Z",
     "shell.execute_reply": "2021-11-30T16:31:41.570258Z",
     "shell.execute_reply.started": "2021-11-30T16:31:35.810064Z"
    }
   },
   "outputs": [
    {
     "data": {
      "text/plain": [
       "array([0.82699915, 1.66435487, 2.49538807])"
      ]
     },
     "execution_count": 11,
     "metadata": {},
     "output_type": "execute_result"
    }
   ],
   "source": [
    "learn_weights(X, p, loss2_grad)"
   ]
  },
  {
   "cell_type": "markdown",
   "id": "characteristic-encoding",
   "metadata": {},
   "source": [
    "## Links\n",
    "\n",
    "- [How to understand logistic regression cost function formula?](https://stats.stackexchange.com/questions/473426/how-to-understand-logistic-regression-cost-function-formula)\n",
    "- [Loss function for Logistic Regression](https://stats.stackexchange.com/questions/268430/loss-function-for-logistic-regression)\n",
    "- [Can logistic regression take continuous probability as label?](https://stats.stackexchange.com/questions/549910/can-logistic-regression-take-continuous-probability-as-label)"
   ]
  },
  {
   "cell_type": "code",
   "execution_count": null,
   "id": "compact-castle",
   "metadata": {},
   "outputs": [],
   "source": []
  }
 ],
 "metadata": {
  "kernelspec": {
   "display_name": "Python 3",
   "language": "python",
   "name": "python3"
  },
  "language_info": {
   "codemirror_mode": {
    "name": "ipython",
    "version": 3
   },
   "file_extension": ".py",
   "mimetype": "text/x-python",
   "name": "python",
   "nbconvert_exporter": "python",
   "pygments_lexer": "ipython3",
   "version": "3.8.5"
  },
  "widgets": {
   "application/vnd.jupyter.widget-state+json": {
    "state": {},
    "version_major": 2,
    "version_minor": 0
   }
  }
 },
 "nbformat": 4,
 "nbformat_minor": 5
}
