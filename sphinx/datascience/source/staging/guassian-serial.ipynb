{
 "cells": [
  {
   "cell_type": "markdown",
   "id": "1bbf2f6a-6511-460d-ac21-e20de70c39a4",
   "metadata": {},
   "source": [
    "# Guassian DAGs"
   ]
  },
  {
   "cell_type": "markdown",
   "id": "134f2523-5065-4f8f-9eea-3acd40ad064b",
   "metadata": {},
   "source": [
    "## Serial"
   ]
  },
  {
   "cell_type": "code",
   "execution_count": 1,
   "id": "cf5b702f-a783-4792-aebe-8f016f4ea89a",
   "metadata": {},
   "outputs": [
    {
     "data": {
      "text/html": [
       "<div>\n",
       "<style scoped>\n",
       "    .dataframe tbody tr th:only-of-type {\n",
       "        vertical-align: middle;\n",
       "    }\n",
       "\n",
       "    .dataframe tbody tr th {\n",
       "        vertical-align: top;\n",
       "    }\n",
       "\n",
       "    .dataframe thead th {\n",
       "        text-align: right;\n",
       "    }\n",
       "</style>\n",
       "<table border=\"1\" class=\"dataframe\">\n",
       "  <thead>\n",
       "    <tr style=\"text-align: right;\">\n",
       "      <th></th>\n",
       "      <th>x1</th>\n",
       "      <th>x2</th>\n",
       "      <th>x3</th>\n",
       "    </tr>\n",
       "  </thead>\n",
       "  <tbody>\n",
       "    <tr>\n",
       "      <th>0</th>\n",
       "      <td>0.945536</td>\n",
       "      <td>5.825077</td>\n",
       "      <td>-16.469780</td>\n",
       "    </tr>\n",
       "    <tr>\n",
       "      <th>1</th>\n",
       "      <td>1.674308</td>\n",
       "      <td>7.341377</td>\n",
       "      <td>-21.136027</td>\n",
       "    </tr>\n",
       "    <tr>\n",
       "      <th>2</th>\n",
       "      <td>1.346647</td>\n",
       "      <td>6.594466</td>\n",
       "      <td>-18.805228</td>\n",
       "    </tr>\n",
       "    <tr>\n",
       "      <th>3</th>\n",
       "      <td>-0.300346</td>\n",
       "      <td>3.450351</td>\n",
       "      <td>-9.545815</td>\n",
       "    </tr>\n",
       "    <tr>\n",
       "      <th>4</th>\n",
       "      <td>2.518512</td>\n",
       "      <td>9.081274</td>\n",
       "      <td>-26.187220</td>\n",
       "    </tr>\n",
       "    <tr>\n",
       "      <th>...</th>\n",
       "      <td>...</td>\n",
       "      <td>...</td>\n",
       "      <td>...</td>\n",
       "    </tr>\n",
       "    <tr>\n",
       "      <th>995</th>\n",
       "      <td>0.401151</td>\n",
       "      <td>4.779951</td>\n",
       "      <td>-13.307402</td>\n",
       "    </tr>\n",
       "    <tr>\n",
       "      <th>996</th>\n",
       "      <td>0.748119</td>\n",
       "      <td>5.396740</td>\n",
       "      <td>-15.316848</td>\n",
       "    </tr>\n",
       "    <tr>\n",
       "      <th>997</th>\n",
       "      <td>1.371860</td>\n",
       "      <td>6.777024</td>\n",
       "      <td>-19.377241</td>\n",
       "    </tr>\n",
       "    <tr>\n",
       "      <th>998</th>\n",
       "      <td>2.022343</td>\n",
       "      <td>7.942227</td>\n",
       "      <td>-22.863868</td>\n",
       "    </tr>\n",
       "    <tr>\n",
       "      <th>999</th>\n",
       "      <td>1.429555</td>\n",
       "      <td>6.883643</td>\n",
       "      <td>-19.677446</td>\n",
       "    </tr>\n",
       "  </tbody>\n",
       "</table>\n",
       "<p>1000 rows × 3 columns</p>\n",
       "</div>"
      ],
      "text/plain": [
       "           x1        x2         x3\n",
       "0    0.945536  5.825077 -16.469780\n",
       "1    1.674308  7.341377 -21.136027\n",
       "2    1.346647  6.594466 -18.805228\n",
       "3   -0.300346  3.450351  -9.545815\n",
       "4    2.518512  9.081274 -26.187220\n",
       "..        ...       ...        ...\n",
       "995  0.401151  4.779951 -13.307402\n",
       "996  0.748119  5.396740 -15.316848\n",
       "997  1.371860  6.777024 -19.377241\n",
       "998  2.022343  7.942227 -22.863868\n",
       "999  1.429555  6.883643 -19.677446\n",
       "\n",
       "[1000 rows x 3 columns]"
      ]
     },
     "execution_count": 1,
     "metadata": {},
     "output_type": "execute_result"
    }
   ],
   "source": [
    "import numpy as np\n",
    "import pandas as pd\n",
    "from scipy.stats import zscore\n",
    "\n",
    "\n",
    "np.random.seed(37)\n",
    "\n",
    "n = 1_000\n",
    "x1 = np.random.normal(1, 1, n)\n",
    "x2 = 4 + 2 * x1 + np.random.normal(0, 0.1, n)\n",
    "x3 = 1 - 3 * x2 + np.random.normal(0, 0.1, n)\n",
    "\n",
    "X = pd.DataFrame({\n",
    "    'x1': x1,\n",
    "    'x2': x2,\n",
    "    'x3': x3\n",
    "})\n",
    "\n",
    "# X = X.apply(zscore)\n",
    "\n",
    "X"
   ]
  },
  {
   "cell_type": "code",
   "execution_count": 2,
   "id": "4a2e804c-6cc7-4c74-b4cf-28aa15bc9c0c",
   "metadata": {},
   "outputs": [],
   "source": [
    "M, S = X.mean().values, X.cov().values"
   ]
  },
  {
   "cell_type": "code",
   "execution_count": 3,
   "id": "3b26391a-1dc7-4ef9-b65e-425bd6dd3696",
   "metadata": {},
   "outputs": [
    {
     "data": {
      "text/plain": [
       "array([  1.01277839,   6.0239483 , -17.07285473])"
      ]
     },
     "execution_count": 3,
     "metadata": {},
     "output_type": "execute_result"
    }
   ],
   "source": [
    "M"
   ]
  },
  {
   "cell_type": "code",
   "execution_count": 4,
   "id": "ca49cd0d-f562-4f8d-b3a9-e6221a53f184",
   "metadata": {},
   "outputs": [
    {
     "data": {
      "text/plain": [
       "array([[  0.9634615 ,   1.92655164,  -5.78078338],\n",
       "       [  1.92655164,   3.86214714, -11.58922942],\n",
       "       [ -5.78078338, -11.58922942,  34.7857574 ]])"
      ]
     },
     "execution_count": 4,
     "metadata": {},
     "output_type": "execute_result"
    }
   ],
   "source": [
    "S"
   ]
  },
  {
   "cell_type": "code",
   "execution_count": 5,
   "id": "be956898-ffc7-4378-a1bf-8f012e074f20",
   "metadata": {},
   "outputs": [],
   "source": [
    "def conditional(M, S, obs):\n",
    "    a = np.array([v for _, v in obs.items()])\n",
    "    \n",
    "    i_1 = [i for i in range(M.shape[0]) if i not in obs]\n",
    "    i_2 = [i for i in range(M.shape[0]) if i in obs]\n",
    "    \n",
    "    m_1, m_2 = M[i_1], M[i_2]\n",
    "    \n",
    "    S_11 = S[i_1][:,i_1]\n",
    "    S_12 = S[i_1][:,i_2]\n",
    "    S_21 = S[i_2][:,i_1]\n",
    "    S_22 = np.linalg.inv(S[i_2][:,i_2])\n",
    "     \n",
    "    _r = S_12.dot(S_22)\n",
    "    _m = m_1 + _r.dot(a - m_2)\n",
    "    _s = S_11 - _r.dot(S_21)\n",
    "    \n",
    "    return _m, _s"
   ]
  },
  {
   "cell_type": "code",
   "execution_count": 21,
   "id": "7bc85e8f-ac9b-4fcd-8c2e-4c8f8edf805e",
   "metadata": {},
   "outputs": [
    {
     "data": {
      "text/plain": [
       "((2,), (2, 2))"
      ]
     },
     "execution_count": 21,
     "metadata": {},
     "output_type": "execute_result"
    }
   ],
   "source": [
    "_m, _s = conditional(M, S, {2: 0})\n",
    "_m.shape, _s.shape"
   ]
  },
  {
   "cell_type": "code",
   "execution_count": 22,
   "id": "85097f5c-0682-4dd1-9b16-5b642ac3770b",
   "metadata": {},
   "outputs": [
    {
     "data": {
      "text/plain": [
       "array([-1.82443093,  0.33595283])"
      ]
     },
     "execution_count": 22,
     "metadata": {},
     "output_type": "execute_result"
    }
   ],
   "source": [
    "_m"
   ]
  },
  {
   "cell_type": "code",
   "execution_count": 23,
   "id": "ed5162ed-95d7-481c-a68f-b1fa262a7407",
   "metadata": {},
   "outputs": [
    {
     "data": {
      "text/plain": [
       "array([[0.00279659, 0.00062477],\n",
       "       [0.00062477, 0.0010773 ]])"
      ]
     },
     "execution_count": 23,
     "metadata": {},
     "output_type": "execute_result"
    }
   ],
   "source": [
    "_s"
   ]
  },
  {
   "cell_type": "code",
   "execution_count": null,
   "id": "90f6d92e-562e-42da-9e81-05db11b6cd72",
   "metadata": {},
   "outputs": [],
   "source": []
  }
 ],
 "metadata": {
  "kernelspec": {
   "display_name": "Python 3 (ipykernel)",
   "language": "python",
   "name": "python3"
  },
  "language_info": {
   "codemirror_mode": {
    "name": "ipython",
    "version": 3
   },
   "file_extension": ".py",
   "mimetype": "text/x-python",
   "name": "python",
   "nbconvert_exporter": "python",
   "pygments_lexer": "ipython3",
   "version": "3.9.16"
  }
 },
 "nbformat": 4,
 "nbformat_minor": 5
}
