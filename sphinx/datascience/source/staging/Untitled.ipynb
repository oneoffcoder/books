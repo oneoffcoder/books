{
 "cells": [
  {
   "cell_type": "code",
   "execution_count": 5,
   "id": "a914ca5a-83a3-4623-b66a-e0debe5252aa",
   "metadata": {},
   "outputs": [
    {
     "name": "stdout",
     "output_type": "stream",
     "text": [
      "X shape = (1000, 5), y shape (1000,)\n"
     ]
    }
   ],
   "source": [
    "from sklearn.datasets import make_regression\n",
    "import numpy as np\n",
    "\n",
    "N = 1_000\n",
    "\n",
    "X, y = make_regression(**{\n",
    "    'n_samples': N,\n",
    "    'n_features': 5,\n",
    "    'n_informative': 4,\n",
    "    'n_targets': 1,\n",
    "    'bias': 5.3,\n",
    "    'random_state': 37\n",
    "})\n",
    "# X = np.hstack([np.ones(N).reshape(N, 1), X])\n",
    "\n",
    "print(f'X shape = {X.shape}, y shape {y.shape}')"
   ]
  },
  {
   "cell_type": "code",
   "execution_count": 6,
   "id": "2ee6c0de-e31c-439b-adf1-777bcd6824e0",
   "metadata": {},
   "outputs": [
    {
     "name": "stdout",
     "output_type": "stream",
     "text": [
      "[0.22608604 0.21610973 0.20626333 0.17866947 0.17287143]\n",
      "[33.34054508 32.59665128 31.84540984 29.63882619 29.15395261]\n"
     ]
    }
   ],
   "source": [
    "from sklearn.decomposition import PCA\n",
    "\n",
    "pca = PCA(n_components=5)\n",
    "pca.fit(X)\n",
    "print(pca.explained_variance_ratio_)\n",
    "print(pca.singular_values_)"
   ]
  },
  {
   "cell_type": "code",
   "execution_count": null,
   "id": "1c312cfc-6f0e-4999-86b1-8952c80ca286",
   "metadata": {},
   "outputs": [],
   "source": []
  }
 ],
 "metadata": {
  "kernelspec": {
   "display_name": "Python 3",
   "language": "python",
   "name": "python3"
  },
  "language_info": {
   "codemirror_mode": {
    "name": "ipython",
    "version": 3
   },
   "file_extension": ".py",
   "mimetype": "text/x-python",
   "name": "python",
   "nbconvert_exporter": "python",
   "pygments_lexer": "ipython3",
   "version": "3.8.8"
  }
 },
 "nbformat": 4,
 "nbformat_minor": 5
}
