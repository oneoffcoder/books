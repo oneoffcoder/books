{
 "cells": [
  {
   "cell_type": "markdown",
   "id": "1bbf2f6a-6511-460d-ac21-e20de70c39a4",
   "metadata": {},
   "source": [
    "# Guassian DAGs"
   ]
  },
  {
   "cell_type": "markdown",
   "id": "134f2523-5065-4f8f-9eea-3acd40ad064b",
   "metadata": {},
   "source": [
    "## Diverging"
   ]
  },
  {
   "cell_type": "code",
   "execution_count": 1,
   "id": "cf5b702f-a783-4792-aebe-8f016f4ea89a",
   "metadata": {},
   "outputs": [
    {
     "data": {
      "text/html": [
       "<div>\n",
       "<style scoped>\n",
       "    .dataframe tbody tr th:only-of-type {\n",
       "        vertical-align: middle;\n",
       "    }\n",
       "\n",
       "    .dataframe tbody tr th {\n",
       "        vertical-align: top;\n",
       "    }\n",
       "\n",
       "    .dataframe thead th {\n",
       "        text-align: right;\n",
       "    }\n",
       "</style>\n",
       "<table border=\"1\" class=\"dataframe\">\n",
       "  <thead>\n",
       "    <tr style=\"text-align: right;\">\n",
       "      <th></th>\n",
       "      <th>x1</th>\n",
       "      <th>x2</th>\n",
       "      <th>x3</th>\n",
       "    </tr>\n",
       "  </thead>\n",
       "  <tbody>\n",
       "    <tr>\n",
       "      <th>0</th>\n",
       "      <td>5.764534</td>\n",
       "      <td>0.879541</td>\n",
       "      <td>-1.754962</td>\n",
       "    </tr>\n",
       "    <tr>\n",
       "      <th>1</th>\n",
       "      <td>7.222243</td>\n",
       "      <td>1.667069</td>\n",
       "      <td>-4.009537</td>\n",
       "    </tr>\n",
       "    <tr>\n",
       "      <th>2</th>\n",
       "      <td>6.473810</td>\n",
       "      <td>1.247819</td>\n",
       "      <td>-2.837089</td>\n",
       "    </tr>\n",
       "    <tr>\n",
       "      <th>3</th>\n",
       "      <td>3.306634</td>\n",
       "      <td>-0.249303</td>\n",
       "      <td>1.897069</td>\n",
       "    </tr>\n",
       "    <tr>\n",
       "      <th>4</th>\n",
       "      <td>9.182125</td>\n",
       "      <td>2.562762</td>\n",
       "      <td>-6.792578</td>\n",
       "    </tr>\n",
       "    <tr>\n",
       "      <th>...</th>\n",
       "      <td>...</td>\n",
       "      <td>...</td>\n",
       "      <td>...</td>\n",
       "    </tr>\n",
       "    <tr>\n",
       "      <th>995</th>\n",
       "      <td>4.790049</td>\n",
       "      <td>0.378799</td>\n",
       "      <td>-0.056629</td>\n",
       "    </tr>\n",
       "    <tr>\n",
       "      <th>996</th>\n",
       "      <td>5.170615</td>\n",
       "      <td>0.648621</td>\n",
       "      <td>-0.878558</td>\n",
       "    </tr>\n",
       "    <tr>\n",
       "      <th>997</th>\n",
       "      <td>6.764159</td>\n",
       "      <td>1.405164</td>\n",
       "      <td>-3.264707</td>\n",
       "    </tr>\n",
       "    <tr>\n",
       "      <th>998</th>\n",
       "      <td>7.802582</td>\n",
       "      <td>1.919884</td>\n",
       "      <td>-4.784809</td>\n",
       "    </tr>\n",
       "    <tr>\n",
       "      <th>999</th>\n",
       "      <td>6.881657</td>\n",
       "      <td>1.454088</td>\n",
       "      <td>-3.335406</td>\n",
       "    </tr>\n",
       "  </tbody>\n",
       "</table>\n",
       "<p>1000 rows × 3 columns</p>\n",
       "</div>"
      ],
      "text/plain": [
       "           x1        x2        x3\n",
       "0    5.764534  0.879541 -1.754962\n",
       "1    7.222243  1.667069 -4.009537\n",
       "2    6.473810  1.247819 -2.837089\n",
       "3    3.306634 -0.249303  1.897069\n",
       "4    9.182125  2.562762 -6.792578\n",
       "..        ...       ...       ...\n",
       "995  4.790049  0.378799 -0.056629\n",
       "996  5.170615  0.648621 -0.878558\n",
       "997  6.764159  1.405164 -3.264707\n",
       "998  7.802582  1.919884 -4.784809\n",
       "999  6.881657  1.454088 -3.335406\n",
       "\n",
       "[1000 rows x 3 columns]"
      ]
     },
     "execution_count": 1,
     "metadata": {},
     "output_type": "execute_result"
    }
   ],
   "source": [
    "import numpy as np\n",
    "import pandas as pd\n",
    "from scipy.stats import zscore\n",
    "\n",
    "\n",
    "np.random.seed(37)\n",
    "\n",
    "n = 1_000\n",
    "x2 = np.random.normal(1, 1, n) + np.random.normal(0, 0.1, n)\n",
    "x1 = 4 + 2 * x2 + np.random.normal(0, 0.1, n)\n",
    "x3 = 1 - 3 * x2 + np.random.normal(0, 0.1, n)\n",
    "\n",
    "X = pd.DataFrame({\n",
    "    'x1': x1,\n",
    "    'x2': x2,\n",
    "    'x3': x3\n",
    "})\n",
    "\n",
    "# X = X.apply(zscore)\n",
    "\n",
    "X"
   ]
  },
  {
   "cell_type": "code",
   "execution_count": 2,
   "id": "4a2e804c-6cc7-4c74-b4cf-28aa15bc9c0c",
   "metadata": {},
   "outputs": [],
   "source": [
    "M, S = X.mean().values, X.cov().values"
   ]
  },
  {
   "cell_type": "code",
   "execution_count": 3,
   "id": "3b26391a-1dc7-4ef9-b65e-425bd6dd3696",
   "metadata": {},
   "outputs": [
    {
     "data": {
      "text/plain": [
       "array([ 6.02133   ,  1.01116992, -2.03342587])"
      ]
     },
     "execution_count": 3,
     "metadata": {},
     "output_type": "execute_result"
    }
   ],
   "source": [
    "M"
   ]
  },
  {
   "cell_type": "code",
   "execution_count": 4,
   "id": "ca49cd0d-f562-4f8d-b3a9-e6221a53f184",
   "metadata": {},
   "outputs": [
    {
     "data": {
      "text/plain": [
       "array([[ 3.89308828,  1.94335116, -5.84709602],\n",
       "       [ 1.94335116,  0.97250535, -2.92585223],\n",
       "       [-5.84709602, -2.92585223,  8.81260585]])"
      ]
     },
     "execution_count": 4,
     "metadata": {},
     "output_type": "execute_result"
    }
   ],
   "source": [
    "S"
   ]
  },
  {
   "cell_type": "code",
   "execution_count": 5,
   "id": "be956898-ffc7-4378-a1bf-8f012e074f20",
   "metadata": {},
   "outputs": [],
   "source": [
    "def conditional(M, S, obs):\n",
    "    a = np.array([v for _, v in obs.items()])\n",
    "    \n",
    "    i_1 = [i for i in range(M.shape[0]) if i not in obs]\n",
    "    i_2 = [i for i in range(M.shape[0]) if i in obs]\n",
    "    \n",
    "    m_1, m_2 = M[i_1], M[i_2]\n",
    "    \n",
    "    S_11 = S[i_1][:,i_1]\n",
    "    S_12 = S[i_1][:,i_2]\n",
    "    S_21 = S[i_2][:,i_1]\n",
    "    S_22 = np.linalg.inv(S[i_2][:,i_2])\n",
    "     \n",
    "    _r = S_12.dot(S_22)\n",
    "    _m = m_1 + _r.dot(a - m_2)\n",
    "    _s = S_11 - _r.dot(S_21)\n",
    "    \n",
    "    return _m, _s"
   ]
  },
  {
   "cell_type": "code",
   "execution_count": 6,
   "id": "7bc85e8f-ac9b-4fcd-8c2e-4c8f8edf805e",
   "metadata": {},
   "outputs": [
    {
     "data": {
      "text/plain": [
       "array([-2.15835515])"
      ]
     },
     "execution_count": 6,
     "metadata": {},
     "output_type": "execute_result"
    }
   ],
   "source": [
    "_m, _s = conditional(M, S, {0: 10, 1: 1})\n",
    "\n",
    "_m"
   ]
  },
  {
   "cell_type": "code",
   "execution_count": 7,
   "id": "ed5162ed-95d7-481c-a68f-b1fa262a7407",
   "metadata": {},
   "outputs": [
    {
     "data": {
      "text/plain": [
       "array([[0.00995397]])"
      ]
     },
     "execution_count": 7,
     "metadata": {},
     "output_type": "execute_result"
    }
   ],
   "source": [
    "_s"
   ]
  },
  {
   "cell_type": "code",
   "execution_count": null,
   "id": "90f6d92e-562e-42da-9e81-05db11b6cd72",
   "metadata": {},
   "outputs": [],
   "source": []
  }
 ],
 "metadata": {
  "kernelspec": {
   "display_name": "Python 3 (ipykernel)",
   "language": "python",
   "name": "python3"
  },
  "language_info": {
   "codemirror_mode": {
    "name": "ipython",
    "version": 3
   },
   "file_extension": ".py",
   "mimetype": "text/x-python",
   "name": "python",
   "nbconvert_exporter": "python",
   "pygments_lexer": "ipython3",
   "version": "3.9.16"
  }
 },
 "nbformat": 4,
 "nbformat_minor": 5
}
