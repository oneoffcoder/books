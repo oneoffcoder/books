{
 "cells": [
  {
   "cell_type": "markdown",
   "id": "5c2057e4-a354-4534-b6ae-0e533bf98cfd",
   "metadata": {},
   "source": [
    "# One-Way ANOVA\n",
    "\n",
    "One-way Analysis of Variance (ANOVA) is a multiple comparison technique testing whether the means of 3 or more groups are different. The hypotheses are as follows.\n",
    "\n",
    "- $H_0$ (null): There is no difference between the means; $\\mu_1 = \\mu_2 = \\ldots = \\mu_n$\n",
    "- $H_a$ (alternative): There is at least one group mean that differs from the overall mean.\n",
    "\n",
    "ANOVA uses the [F-test](https://en.wikipedia.org/wiki/F-test) for testing statistical significance, which measures the ratio of the variance between groups to the variance within groups. \n",
    "\n",
    "When there are only 2 groups, a [t-test](https://en.wikipedia.org/wiki/Student%27s_t-test) may be used instead. However, with comparing 3 or more groups, ANOVA should be used since it corrects for the [family-wise error rate](https://en.wikipedia.org/wiki/Family-wise_error_rate) FWER holding the probability of a Type I error steady no matter the number of comparisons. \n",
    "\n",
    "In this notebook, let's see how a 1-way ANOVA relates to regression problems."
   ]
  },
  {
   "cell_type": "markdown",
   "id": "e5f8ba5d-db47-4fde-b5a9-4d8e0ba9eb37",
   "metadata": {},
   "source": [
    "## Data\n",
    "\n",
    "Let's generate 50 samples from 3 different normal distributions. These normal distributions are defined as follows.\n",
    "\n",
    "- $A \\sim \\mathcal{N} (0, 1)$\n",
    "- $B \\sim \\mathcal{N} (1, 1)$\n",
    "- $C \\sim \\mathcal{N} (1.5, 1)$\n",
    "\n",
    "These groups are often called `treatments`."
   ]
  },
  {
   "cell_type": "code",
   "execution_count": 1,
   "id": "1984bead-8c67-4829-9f30-38169f932e23",
   "metadata": {},
   "outputs": [],
   "source": [
    "import numpy as np\n",
    "import pandas as pd\n",
    "\n",
    "np.random.seed(37)\n",
    "\n",
    "n = 50\n",
    "\n",
    "df = pd.concat([\n",
    "    pd.DataFrame({'group': 'A', 'y': pd.Series(np.random.normal(0, 1, n))}),\n",
    "    pd.DataFrame({'group': 'B', 'y': pd.Series(np.random.normal(1, 1, n))}),\n",
    "    pd.DataFrame({'group': 'C', 'y': pd.Series(np.random.normal(1.5, 1, n))})\n",
    "])"
   ]
  },
  {
   "cell_type": "code",
   "execution_count": 2,
   "id": "722d88ef-45c8-4d7f-8c38-b0770c936df4",
   "metadata": {},
   "outputs": [
    {
     "data": {
      "text/html": [
       "<div>\n",
       "<style scoped>\n",
       "    .dataframe tbody tr th:only-of-type {\n",
       "        vertical-align: middle;\n",
       "    }\n",
       "\n",
       "    .dataframe tbody tr th {\n",
       "        vertical-align: top;\n",
       "    }\n",
       "\n",
       "    .dataframe thead th {\n",
       "        text-align: right;\n",
       "    }\n",
       "</style>\n",
       "<table border=\"1\" class=\"dataframe\">\n",
       "  <thead>\n",
       "    <tr style=\"text-align: right;\">\n",
       "      <th></th>\n",
       "      <th>group</th>\n",
       "      <th>y</th>\n",
       "    </tr>\n",
       "  </thead>\n",
       "  <tbody>\n",
       "    <tr>\n",
       "      <th>0</th>\n",
       "      <td>A</td>\n",
       "      <td>-0.054464</td>\n",
       "    </tr>\n",
       "    <tr>\n",
       "      <th>1</th>\n",
       "      <td>A</td>\n",
       "      <td>0.674308</td>\n",
       "    </tr>\n",
       "    <tr>\n",
       "      <th>2</th>\n",
       "      <td>A</td>\n",
       "      <td>0.346647</td>\n",
       "    </tr>\n",
       "    <tr>\n",
       "      <th>3</th>\n",
       "      <td>A</td>\n",
       "      <td>-1.300346</td>\n",
       "    </tr>\n",
       "    <tr>\n",
       "      <th>4</th>\n",
       "      <td>A</td>\n",
       "      <td>1.518512</td>\n",
       "    </tr>\n",
       "  </tbody>\n",
       "</table>\n",
       "</div>"
      ],
      "text/plain": [
       "  group         y\n",
       "0     A -0.054464\n",
       "1     A  0.674308\n",
       "2     A  0.346647\n",
       "3     A -1.300346\n",
       "4     A  1.518512"
      ]
     },
     "execution_count": 2,
     "metadata": {},
     "output_type": "execute_result"
    }
   ],
   "source": [
    "df.head()"
   ]
  },
  {
   "cell_type": "markdown",
   "id": "421d938e-ce25-4d4e-836b-c746587f79ad",
   "metadata": {},
   "source": [
    "## Means\n",
    "\n",
    "You can see that the empirical means and standard deviations are close to the real ones, but not exactly."
   ]
  },
  {
   "cell_type": "code",
   "execution_count": 3,
   "id": "ce0c7923-5b22-478f-8102-841ebac114af",
   "metadata": {},
   "outputs": [
    {
     "data": {
      "text/html": [
       "<div>\n",
       "<style scoped>\n",
       "    .dataframe tbody tr th:only-of-type {\n",
       "        vertical-align: middle;\n",
       "    }\n",
       "\n",
       "    .dataframe tbody tr th {\n",
       "        vertical-align: top;\n",
       "    }\n",
       "\n",
       "    .dataframe thead tr th {\n",
       "        text-align: left;\n",
       "    }\n",
       "\n",
       "    .dataframe thead tr:last-of-type th {\n",
       "        text-align: right;\n",
       "    }\n",
       "</style>\n",
       "<table border=\"1\" class=\"dataframe\">\n",
       "  <thead>\n",
       "    <tr>\n",
       "      <th></th>\n",
       "      <th colspan=\"2\" halign=\"left\">y</th>\n",
       "    </tr>\n",
       "    <tr>\n",
       "      <th></th>\n",
       "      <th>mean</th>\n",
       "      <th>std</th>\n",
       "    </tr>\n",
       "    <tr>\n",
       "      <th>group</th>\n",
       "      <th></th>\n",
       "      <th></th>\n",
       "    </tr>\n",
       "  </thead>\n",
       "  <tbody>\n",
       "    <tr>\n",
       "      <th>A</th>\n",
       "      <td>0.139065</td>\n",
       "      <td>0.998983</td>\n",
       "    </tr>\n",
       "    <tr>\n",
       "      <th>B</th>\n",
       "      <td>0.982454</td>\n",
       "      <td>1.057929</td>\n",
       "    </tr>\n",
       "    <tr>\n",
       "      <th>C</th>\n",
       "      <td>1.552792</td>\n",
       "      <td>1.052197</td>\n",
       "    </tr>\n",
       "  </tbody>\n",
       "</table>\n",
       "</div>"
      ],
      "text/plain": [
       "              y          \n",
       "           mean       std\n",
       "group                    \n",
       "A      0.139065  0.998983\n",
       "B      0.982454  1.057929\n",
       "C      1.552792  1.052197"
      ]
     },
     "execution_count": 3,
     "metadata": {},
     "output_type": "execute_result"
    }
   ],
   "source": [
    "df.groupby(['group']).agg(['mean', 'std'])"
   ]
  },
  {
   "cell_type": "code",
   "execution_count": 4,
   "id": "8cd2cf83-60e0-4704-bfd3-43b34e24796d",
   "metadata": {},
   "outputs": [
    {
     "data": {
      "image/png": "[encoded data removed]",
      "text/plain": [
       "<Figure size 700x300 with 2 Axes>"
      ]
     },
     "metadata": {},
     "output_type": "display_data"
    }
   ],
   "source": [
    "import matplotlib.pyplot as plt\n",
    "import seaborn as sns\n",
    "\n",
    "fig, ax = plt.subplots(1, 2, figsize=(7, 3))\n",
    "\n",
    "sns.boxplot(df, x='group', y='y', ax=ax[0])\n",
    "sns.kdeplot(df, hue='group', x='y', ax=ax[1])\n",
    "\n",
    "fig.tight_layout()"
   ]
  },
  {
   "cell_type": "markdown",
   "id": "678b1d0d-6001-4688-b7a9-afebb20936f2",
   "metadata": {},
   "source": [
    "## t-test\n",
    "\n",
    "Let's see what happens when we conduct all pairwise t-tests. You can see that group A is very different from B and C, but groups B and C are comparatively close."
   ]
  },
  {
   "cell_type": "code",
   "execution_count": 5,
   "id": "0b3a4968-db73-4c72-a0e6-28938d6608c8",
   "metadata": {},
   "outputs": [
    {
     "data": {
      "text/html": [
       "<div>\n",
       "<style scoped>\n",
       "    .dataframe tbody tr th:only-of-type {\n",
       "        vertical-align: middle;\n",
       "    }\n",
       "\n",
       "    .dataframe tbody tr th {\n",
       "        vertical-align: top;\n",
       "    }\n",
       "\n",
       "    .dataframe thead th {\n",
       "        text-align: right;\n",
       "    }\n",
       "</style>\n",
       "<table border=\"1\" class=\"dataframe\">\n",
       "  <thead>\n",
       "    <tr style=\"text-align: right;\">\n",
       "      <th></th>\n",
       "      <th>x</th>\n",
       "      <th>y</th>\n",
       "      <th>statistic</th>\n",
       "      <th>pvalue</th>\n",
       "    </tr>\n",
       "  </thead>\n",
       "  <tbody>\n",
       "    <tr>\n",
       "      <th>0</th>\n",
       "      <td>A</td>\n",
       "      <td>B</td>\n",
       "      <td>-4.098587</td>\n",
       "      <td>8.576614e-05</td>\n",
       "    </tr>\n",
       "    <tr>\n",
       "      <th>1</th>\n",
       "      <td>A</td>\n",
       "      <td>C</td>\n",
       "      <td>-6.889943</td>\n",
       "      <td>5.417835e-10</td>\n",
       "    </tr>\n",
       "    <tr>\n",
       "      <th>2</th>\n",
       "      <td>B</td>\n",
       "      <td>C</td>\n",
       "      <td>-2.702849</td>\n",
       "      <td>8.104302e-03</td>\n",
       "    </tr>\n",
       "  </tbody>\n",
       "</table>\n",
       "</div>"
      ],
      "text/plain": [
       "   x  y  statistic        pvalue\n",
       "0  A  B  -4.098587  8.576614e-05\n",
       "1  A  C  -6.889943  5.417835e-10\n",
       "2  B  C  -2.702849  8.104302e-03"
      ]
     },
     "execution_count": 5,
     "metadata": {},
     "output_type": "execute_result"
    }
   ],
   "source": [
    "from scipy import stats\n",
    "import itertools\n",
    "\n",
    "def do_test(pair):\n",
    "    x, y = pair\n",
    "    \n",
    "    x = df[df['group']==x]['y']\n",
    "    y = df[df['group']==y]['y']\n",
    "    \n",
    "    t = stats.ttest_ind(x, y)\n",
    "    \n",
    "    return {\n",
    "        'x': pair[0],\n",
    "        'y': pair[1],\n",
    "        'statistic': t.statistic,\n",
    "        'pvalue': t.pvalue\n",
    "    }\n",
    "\n",
    "t_test = itertools.combinations(df['group'].unique(), 2)\n",
    "t_test = map(lambda tup: do_test(tup), t_test)\n",
    "t_test = pd.DataFrame(t_test)\n",
    "t_test"
   ]
  },
  {
   "cell_type": "markdown",
   "id": "8194c5f9-d46b-42c8-9671-f7fb352eea7a",
   "metadata": {},
   "source": [
    "## 1-way ANOVA\n",
    "\n",
    "Now we will apply a [1-way ANOVA](https://docs.scipy.org/doc/scipy/reference/generated/scipy.stats.f_oneway.html). The report F statistic and p-value are shown. The test would lead us to reject the null hypothesis."
   ]
  },
  {
   "cell_type": "code",
   "execution_count": 6,
   "id": "4a65c90b-a840-4642-8cb9-569f7d66f432",
   "metadata": {},
   "outputs": [],
   "source": [
    "F, p = stats.f_oneway(*[df[df['group']==g]['y'] for g in ['A', 'B', 'C']])"
   ]
  },
  {
   "cell_type": "code",
   "execution_count": 7,
   "id": "efd97188-1afe-407c-8f3d-6b0b563e6939",
   "metadata": {},
   "outputs": [
    {
     "data": {
      "text/plain": [
       "23.533902104682596"
      ]
     },
     "execution_count": 7,
     "metadata": {},
     "output_type": "execute_result"
    }
   ],
   "source": [
    "F"
   ]
  },
  {
   "cell_type": "code",
   "execution_count": 8,
   "id": "6d530d6e-c012-4fda-bb9b-8844678d4fa1",
   "metadata": {},
   "outputs": [
    {
     "data": {
      "text/plain": [
       "1.3590719185638985e-09"
      ]
     },
     "execution_count": 8,
     "metadata": {},
     "output_type": "execute_result"
    }
   ],
   "source": [
    "p"
   ]
  },
  {
   "cell_type": "markdown",
   "id": "e4fed154-8275-4e94-953c-82ef226d8b06",
   "metadata": {},
   "source": [
    "## Tukey's HSD\n",
    "\n",
    "Here is a post-hoc test using [Tukey's Honestly Significant Difference test](https://docs.scipy.org/doc/scipy/reference/generated/scipy.stats.tukey_hsd.html). This test will see which two pair of groups are different."
   ]
  },
  {
   "cell_type": "code",
   "execution_count": 9,
   "id": "ab721eee-368a-44c5-a298-cdd33f7af25e",
   "metadata": {},
   "outputs": [],
   "source": [
    "hsd = stats.tukey_hsd(*[df[df['group']==g]['y'] for g in ['A', 'B', 'C']])"
   ]
  },
  {
   "cell_type": "code",
   "execution_count": 10,
   "id": "08783b43-8782-46c5-9b4b-3af47e4021c0",
   "metadata": {},
   "outputs": [
    {
     "data": {
      "text/plain": [
       "array([[ 0.        , -0.84338966, -1.41372695],\n",
       "       [ 0.84338966,  0.        , -0.57033729],\n",
       "       [ 1.41372695,  0.57033729,  0.        ]])"
      ]
     },
     "execution_count": 10,
     "metadata": {},
     "output_type": "execute_result"
    }
   ],
   "source": [
    "hsd.statistic"
   ]
  },
  {
   "cell_type": "code",
   "execution_count": 11,
   "id": "9f651caf-94c7-418b-bd3f-b2e12c440f51",
   "metadata": {},
   "outputs": [
    {
     "data": {
      "text/plain": [
       "array([[1.00000000e+00, 2.26787268e-04, 6.66437017e-10],\n",
       "       [2.26787268e-04, 1.00000000e+00, 1.82679298e-02],\n",
       "       [6.66437017e-10, 1.82679298e-02, 1.00000000e+00]])"
      ]
     },
     "execution_count": 11,
     "metadata": {},
     "output_type": "execute_result"
    }
   ],
   "source": [
    "hsd.pvalue"
   ]
  },
  {
   "cell_type": "code",
   "execution_count": 12,
   "id": "5b0952ce-4694-486c-b516-5e73b6f372b4",
   "metadata": {},
   "outputs": [
    {
     "data": {
      "text/plain": [
       "3"
      ]
     },
     "execution_count": 12,
     "metadata": {},
     "output_type": "execute_result"
    }
   ],
   "source": [
    "hsd._nobs"
   ]
  },
  {
   "cell_type": "code",
   "execution_count": 13,
   "id": "76548971-1af3-4208-bbdc-026b619a5f77",
   "metadata": {},
   "outputs": [
    {
     "data": {
      "text/plain": [
       "150"
      ]
     },
     "execution_count": 13,
     "metadata": {},
     "output_type": "execute_result"
    }
   ],
   "source": [
    "hsd._ntreatments"
   ]
  },
  {
   "cell_type": "code",
   "execution_count": 14,
   "id": "0eeb3f4b-36a4-424b-9ac3-476df0b02473",
   "metadata": {},
   "outputs": [
    {
     "data": {
      "text/plain": [
       "0.14661287403767"
      ]
     },
     "execution_count": 14,
     "metadata": {},
     "output_type": "execute_result"
    }
   ],
   "source": [
    "hsd._stand_err"
   ]
  },
  {
   "cell_type": "markdown",
   "id": "f485b25c-f692-44a1-bd54-c588cc3d7585",
   "metadata": {},
   "source": [
    "## Xy, means\n",
    "\n",
    "Before we move onto regression, keep in mind the group means and overall mean."
   ]
  },
  {
   "cell_type": "code",
   "execution_count": 15,
   "id": "a4dd27ae-2091-44df-9bf7-9b0153568c68",
   "metadata": {},
   "outputs": [
    {
     "data": {
      "text/html": [
       "<div>\n",
       "<style scoped>\n",
       "    .dataframe tbody tr th:only-of-type {\n",
       "        vertical-align: middle;\n",
       "    }\n",
       "\n",
       "    .dataframe tbody tr th {\n",
       "        vertical-align: top;\n",
       "    }\n",
       "\n",
       "    .dataframe thead tr th {\n",
       "        text-align: left;\n",
       "    }\n",
       "\n",
       "    .dataframe thead tr:last-of-type th {\n",
       "        text-align: right;\n",
       "    }\n",
       "</style>\n",
       "<table border=\"1\" class=\"dataframe\">\n",
       "  <thead>\n",
       "    <tr>\n",
       "      <th></th>\n",
       "      <th colspan=\"2\" halign=\"left\">y</th>\n",
       "    </tr>\n",
       "    <tr>\n",
       "      <th></th>\n",
       "      <th>mean</th>\n",
       "      <th>std</th>\n",
       "    </tr>\n",
       "    <tr>\n",
       "      <th>group</th>\n",
       "      <th></th>\n",
       "      <th></th>\n",
       "    </tr>\n",
       "  </thead>\n",
       "  <tbody>\n",
       "    <tr>\n",
       "      <th>A</th>\n",
       "      <td>0.139065</td>\n",
       "      <td>0.998983</td>\n",
       "    </tr>\n",
       "    <tr>\n",
       "      <th>B</th>\n",
       "      <td>0.982454</td>\n",
       "      <td>1.057929</td>\n",
       "    </tr>\n",
       "    <tr>\n",
       "      <th>C</th>\n",
       "      <td>1.552792</td>\n",
       "      <td>1.052197</td>\n",
       "    </tr>\n",
       "  </tbody>\n",
       "</table>\n",
       "</div>"
      ],
      "text/plain": [
       "              y          \n",
       "           mean       std\n",
       "group                    \n",
       "A      0.139065  0.998983\n",
       "B      0.982454  1.057929\n",
       "C      1.552792  1.052197"
      ]
     },
     "execution_count": 15,
     "metadata": {},
     "output_type": "execute_result"
    }
   ],
   "source": [
    "df.groupby(['group']).agg(['mean', 'std'])"
   ]
  },
  {
   "cell_type": "code",
   "execution_count": 16,
   "id": "d2ff7c8f-b527-4353-8a0f-662a15e99a82",
   "metadata": {},
   "outputs": [
    {
     "data": {
      "text/plain": [
       "0.8914368828670105"
      ]
     },
     "execution_count": 16,
     "metadata": {},
     "output_type": "execute_result"
    }
   ],
   "source": [
    "df['y'].mean()"
   ]
  },
  {
   "cell_type": "markdown",
   "id": "4a434abe-f419-4bc3-86d1-16432633b9cd",
   "metadata": {},
   "source": [
    "## Regression\n",
    "\n",
    "Here, we regress `y ~ g` but with g `dummy-encoded` (one-hot encoded). "
   ]
  },
  {
   "cell_type": "code",
   "execution_count": 17,
   "id": "dc7b792d-74c7-453f-b941-5616de00a1bc",
   "metadata": {},
   "outputs": [],
   "source": [
    "X = df.drop(columns=['y'])\n",
    "y = df['y']"
   ]
  },
  {
   "cell_type": "code",
   "execution_count": 18,
   "id": "323088c3-fcb5-407b-ad8a-2399c43c4435",
   "metadata": {},
   "outputs": [
    {
     "data": {
      "text/html": [
       "<style>#sk-container-id-1 {color: black;background-color: white;}#sk-container-id-1 pre{padding: 0;}#sk-container-id-1 div.sk-toggleable {background-color: white;}#sk-container-id-1 label.sk-toggleable__label {cursor: pointer;display: block;width: 100%;margin-bottom: 0;padding: 0.3em;box-sizing: border-box;text-align: center;}#sk-container-id-1 label.sk-toggleable__label-arrow:before {content: \"▸\";float: left;margin-right: 0.25em;color: #696969;}#sk-container-id-1 label.sk-toggleable__label-arrow:hover:before {color: black;}#sk-container-id-1 div.sk-estimator:hover label.sk-toggleable__label-arrow:before {color: black;}#sk-container-id-1 div.sk-toggleable__content {max-height: 0;max-width: 0;overflow: hidden;text-align: left;background-color: #f0f8ff;}#sk-container-id-1 div.sk-toggleable__content pre {margin: 0.2em;color: black;border-radius: 0.25em;background-color: #f0f8ff;}#sk-container-id-1 input.sk-toggleable__control:checked~div.sk-toggleable__content {max-height: 200px;max-width: 100%;overflow: auto;}#sk-container-id-1 input.sk-toggleable__control:checked~label.sk-toggleable__label-arrow:before {content: \"▾\";}#sk-container-id-1 div.sk-estimator input.sk-toggleable__control:checked~label.sk-toggleable__label {background-color: #d4ebff;}#sk-container-id-1 div.sk-label input.sk-toggleable__control:checked~label.sk-toggleable__label {background-color: #d4ebff;}#sk-container-id-1 input.sk-hidden--visually {border: 0;clip: rect(1px 1px 1px 1px);clip: rect(1px, 1px, 1px, 1px);height: 1px;margin: -1px;overflow: hidden;padding: 0;position: absolute;width: 1px;}#sk-container-id-1 div.sk-estimator {font-family: monospace;background-color: #f0f8ff;border: 1px dotted black;border-radius: 0.25em;box-sizing: border-box;margin-bottom: 0.5em;}#sk-container-id-1 div.sk-estimator:hover {background-color: #d4ebff;}#sk-container-id-1 div.sk-parallel-item::after {content: \"\";width: 100%;border-bottom: 1px solid gray;flex-grow: 1;}#sk-container-id-1 div.sk-label:hover label.sk-toggleable__label {background-color: #d4ebff;}#sk-container-id-1 div.sk-serial::before {content: \"\";position: absolute;border-left: 1px solid gray;box-sizing: border-box;top: 0;bottom: 0;left: 50%;z-index: 0;}#sk-container-id-1 div.sk-serial {display: flex;flex-direction: column;align-items: center;background-color: white;padding-right: 0.2em;padding-left: 0.2em;position: relative;}#sk-container-id-1 div.sk-item {position: relative;z-index: 1;}#sk-container-id-1 div.sk-parallel {display: flex;align-items: stretch;justify-content: center;background-color: white;position: relative;}#sk-container-id-1 div.sk-item::before, #sk-container-id-1 div.sk-parallel-item::before {content: \"\";position: absolute;border-left: 1px solid gray;box-sizing: border-box;top: 0;bottom: 0;left: 50%;z-index: -1;}#sk-container-id-1 div.sk-parallel-item {display: flex;flex-direction: column;z-index: 1;position: relative;background-color: white;}#sk-container-id-1 div.sk-parallel-item:first-child::after {align-self: flex-end;width: 50%;}#sk-container-id-1 div.sk-parallel-item:last-child::after {align-self: flex-start;width: 50%;}#sk-container-id-1 div.sk-parallel-item:only-child::after {width: 0;}#sk-container-id-1 div.sk-dashed-wrapped {border: 1px dashed gray;margin: 0 0.4em 0.5em 0.4em;box-sizing: border-box;padding-bottom: 0.4em;background-color: white;}#sk-container-id-1 div.sk-label label {font-family: monospace;font-weight: bold;display: inline-block;line-height: 1.2em;}#sk-container-id-1 div.sk-label-container {text-align: center;}#sk-container-id-1 div.sk-container {/* jupyter's `normalize.less` sets `[hidden] { display: none; }` but bootstrap.min.css set `[hidden] { display: none !important; }` so we also need the `!important` here to be able to override the default hidden behavior on the sphinx rendered scikit-learn.org. See: https://github.com/scikit-learn/scikit-learn/issues/21755 */display: inline-block !important;position: relative;}#sk-container-id-1 div.sk-text-repr-fallback {display: none;}</style><div id=\"sk-container-id-1\" class=\"sk-top-container\"><div class=\"sk-text-repr-fallback\"><pre>OneHotEncoder()</pre><b>In a Jupyter environment, please rerun this cell to show the HTML representation or trust the notebook. <br />On GitHub, the HTML representation is unable to render, please try loading this page with nbviewer.org.</b></div><div class=\"sk-container\" hidden><div class=\"sk-item\"><div class=\"sk-estimator sk-toggleable\"><input class=\"sk-toggleable__control sk-hidden--visually\" id=\"sk-estimator-id-1\" type=\"checkbox\" checked><label for=\"sk-estimator-id-1\" class=\"sk-toggleable__label sk-toggleable__label-arrow\">OneHotEncoder</label><div class=\"sk-toggleable__content\"><pre>OneHotEncoder()</pre></div></div></div></div></div>"
      ],
      "text/plain": [
       "OneHotEncoder()"
      ]
     },
     "execution_count": 18,
     "metadata": {},
     "output_type": "execute_result"
    }
   ],
   "source": [
    "from sklearn.preprocessing import OneHotEncoder\n",
    "\n",
    "ohe = OneHotEncoder()\n",
    "ohe.fit(X)"
   ]
  },
  {
   "cell_type": "code",
   "execution_count": 19,
   "id": "77df3eba-2ab0-4d42-a882-010930fe27c4",
   "metadata": {},
   "outputs": [
    {
     "data": {
      "text/html": [
       "<div>\n",
       "<style scoped>\n",
       "    .dataframe tbody tr th:only-of-type {\n",
       "        vertical-align: middle;\n",
       "    }\n",
       "\n",
       "    .dataframe tbody tr th {\n",
       "        vertical-align: top;\n",
       "    }\n",
       "\n",
       "    .dataframe thead th {\n",
       "        text-align: right;\n",
       "    }\n",
       "</style>\n",
       "<table border=\"1\" class=\"dataframe\">\n",
       "  <thead>\n",
       "    <tr style=\"text-align: right;\">\n",
       "      <th></th>\n",
       "      <th>group_A</th>\n",
       "      <th>group_B</th>\n",
       "      <th>group_C</th>\n",
       "    </tr>\n",
       "  </thead>\n",
       "  <tbody>\n",
       "    <tr>\n",
       "      <th>0</th>\n",
       "      <td>1.0</td>\n",
       "      <td>0.0</td>\n",
       "      <td>0.0</td>\n",
       "    </tr>\n",
       "    <tr>\n",
       "      <th>1</th>\n",
       "      <td>1.0</td>\n",
       "      <td>0.0</td>\n",
       "      <td>0.0</td>\n",
       "    </tr>\n",
       "    <tr>\n",
       "      <th>2</th>\n",
       "      <td>1.0</td>\n",
       "      <td>0.0</td>\n",
       "      <td>0.0</td>\n",
       "    </tr>\n",
       "    <tr>\n",
       "      <th>3</th>\n",
       "      <td>1.0</td>\n",
       "      <td>0.0</td>\n",
       "      <td>0.0</td>\n",
       "    </tr>\n",
       "    <tr>\n",
       "      <th>4</th>\n",
       "      <td>1.0</td>\n",
       "      <td>0.0</td>\n",
       "      <td>0.0</td>\n",
       "    </tr>\n",
       "    <tr>\n",
       "      <th>...</th>\n",
       "      <td>...</td>\n",
       "      <td>...</td>\n",
       "      <td>...</td>\n",
       "    </tr>\n",
       "    <tr>\n",
       "      <th>145</th>\n",
       "      <td>0.0</td>\n",
       "      <td>0.0</td>\n",
       "      <td>1.0</td>\n",
       "    </tr>\n",
       "    <tr>\n",
       "      <th>146</th>\n",
       "      <td>0.0</td>\n",
       "      <td>0.0</td>\n",
       "      <td>1.0</td>\n",
       "    </tr>\n",
       "    <tr>\n",
       "      <th>147</th>\n",
       "      <td>0.0</td>\n",
       "      <td>0.0</td>\n",
       "      <td>1.0</td>\n",
       "    </tr>\n",
       "    <tr>\n",
       "      <th>148</th>\n",
       "      <td>0.0</td>\n",
       "      <td>0.0</td>\n",
       "      <td>1.0</td>\n",
       "    </tr>\n",
       "    <tr>\n",
       "      <th>149</th>\n",
       "      <td>0.0</td>\n",
       "      <td>0.0</td>\n",
       "      <td>1.0</td>\n",
       "    </tr>\n",
       "  </tbody>\n",
       "</table>\n",
       "<p>150 rows × 3 columns</p>\n",
       "</div>"
      ],
      "text/plain": [
       "     group_A  group_B  group_C\n",
       "0        1.0      0.0      0.0\n",
       "1        1.0      0.0      0.0\n",
       "2        1.0      0.0      0.0\n",
       "3        1.0      0.0      0.0\n",
       "4        1.0      0.0      0.0\n",
       "..       ...      ...      ...\n",
       "145      0.0      0.0      1.0\n",
       "146      0.0      0.0      1.0\n",
       "147      0.0      0.0      1.0\n",
       "148      0.0      0.0      1.0\n",
       "149      0.0      0.0      1.0\n",
       "\n",
       "[150 rows x 3 columns]"
      ]
     },
     "execution_count": 19,
     "metadata": {},
     "output_type": "execute_result"
    }
   ],
   "source": [
    "X = pd.DataFrame(\n",
    "    ohe.transform(X).todense(), \n",
    "    columns=ohe.get_feature_names_out()\n",
    ")\n",
    "X"
   ]
  },
  {
   "cell_type": "code",
   "execution_count": 20,
   "id": "77359e05-9816-4413-830f-2b3c72286651",
   "metadata": {},
   "outputs": [
    {
     "data": {
      "text/html": [
       "<style>#sk-container-id-2 {color: black;background-color: white;}#sk-container-id-2 pre{padding: 0;}#sk-container-id-2 div.sk-toggleable {background-color: white;}#sk-container-id-2 label.sk-toggleable__label {cursor: pointer;display: block;width: 100%;margin-bottom: 0;padding: 0.3em;box-sizing: border-box;text-align: center;}#sk-container-id-2 label.sk-toggleable__label-arrow:before {content: \"▸\";float: left;margin-right: 0.25em;color: #696969;}#sk-container-id-2 label.sk-toggleable__label-arrow:hover:before {color: black;}#sk-container-id-2 div.sk-estimator:hover label.sk-toggleable__label-arrow:before {color: black;}#sk-container-id-2 div.sk-toggleable__content {max-height: 0;max-width: 0;overflow: hidden;text-align: left;background-color: #f0f8ff;}#sk-container-id-2 div.sk-toggleable__content pre {margin: 0.2em;color: black;border-radius: 0.25em;background-color: #f0f8ff;}#sk-container-id-2 input.sk-toggleable__control:checked~div.sk-toggleable__content {max-height: 200px;max-width: 100%;overflow: auto;}#sk-container-id-2 input.sk-toggleable__control:checked~label.sk-toggleable__label-arrow:before {content: \"▾\";}#sk-container-id-2 div.sk-estimator input.sk-toggleable__control:checked~label.sk-toggleable__label {background-color: #d4ebff;}#sk-container-id-2 div.sk-label input.sk-toggleable__control:checked~label.sk-toggleable__label {background-color: #d4ebff;}#sk-container-id-2 input.sk-hidden--visually {border: 0;clip: rect(1px 1px 1px 1px);clip: rect(1px, 1px, 1px, 1px);height: 1px;margin: -1px;overflow: hidden;padding: 0;position: absolute;width: 1px;}#sk-container-id-2 div.sk-estimator {font-family: monospace;background-color: #f0f8ff;border: 1px dotted black;border-radius: 0.25em;box-sizing: border-box;margin-bottom: 0.5em;}#sk-container-id-2 div.sk-estimator:hover {background-color: #d4ebff;}#sk-container-id-2 div.sk-parallel-item::after {content: \"\";width: 100%;border-bottom: 1px solid gray;flex-grow: 1;}#sk-container-id-2 div.sk-label:hover label.sk-toggleable__label {background-color: #d4ebff;}#sk-container-id-2 div.sk-serial::before {content: \"\";position: absolute;border-left: 1px solid gray;box-sizing: border-box;top: 0;bottom: 0;left: 50%;z-index: 0;}#sk-container-id-2 div.sk-serial {display: flex;flex-direction: column;align-items: center;background-color: white;padding-right: 0.2em;padding-left: 0.2em;position: relative;}#sk-container-id-2 div.sk-item {position: relative;z-index: 1;}#sk-container-id-2 div.sk-parallel {display: flex;align-items: stretch;justify-content: center;background-color: white;position: relative;}#sk-container-id-2 div.sk-item::before, #sk-container-id-2 div.sk-parallel-item::before {content: \"\";position: absolute;border-left: 1px solid gray;box-sizing: border-box;top: 0;bottom: 0;left: 50%;z-index: -1;}#sk-container-id-2 div.sk-parallel-item {display: flex;flex-direction: column;z-index: 1;position: relative;background-color: white;}#sk-container-id-2 div.sk-parallel-item:first-child::after {align-self: flex-end;width: 50%;}#sk-container-id-2 div.sk-parallel-item:last-child::after {align-self: flex-start;width: 50%;}#sk-container-id-2 div.sk-parallel-item:only-child::after {width: 0;}#sk-container-id-2 div.sk-dashed-wrapped {border: 1px dashed gray;margin: 0 0.4em 0.5em 0.4em;box-sizing: border-box;padding-bottom: 0.4em;background-color: white;}#sk-container-id-2 div.sk-label label {font-family: monospace;font-weight: bold;display: inline-block;line-height: 1.2em;}#sk-container-id-2 div.sk-label-container {text-align: center;}#sk-container-id-2 div.sk-container {/* jupyter's `normalize.less` sets `[hidden] { display: none; }` but bootstrap.min.css set `[hidden] { display: none !important; }` so we also need the `!important` here to be able to override the default hidden behavior on the sphinx rendered scikit-learn.org. See: https://github.com/scikit-learn/scikit-learn/issues/21755 */display: inline-block !important;position: relative;}#sk-container-id-2 div.sk-text-repr-fallback {display: none;}</style><div id=\"sk-container-id-2\" class=\"sk-top-container\"><div class=\"sk-text-repr-fallback\"><pre>LinearRegression()</pre><b>In a Jupyter environment, please rerun this cell to show the HTML representation or trust the notebook. <br />On GitHub, the HTML representation is unable to render, please try loading this page with nbviewer.org.</b></div><div class=\"sk-container\" hidden><div class=\"sk-item\"><div class=\"sk-estimator sk-toggleable\"><input class=\"sk-toggleable__control sk-hidden--visually\" id=\"sk-estimator-id-2\" type=\"checkbox\" checked><label for=\"sk-estimator-id-2\" class=\"sk-toggleable__label sk-toggleable__label-arrow\">LinearRegression</label><div class=\"sk-toggleable__content\"><pre>LinearRegression()</pre></div></div></div></div></div>"
      ],
      "text/plain": [
       "LinearRegression()"
      ]
     },
     "execution_count": 20,
     "metadata": {},
     "output_type": "execute_result"
    }
   ],
   "source": [
    "from sklearn.linear_model import LinearRegression\n",
    "\n",
    "m = LinearRegression()\n",
    "m.fit(X.drop(columns=['group_A']), y)"
   ]
  },
  {
   "cell_type": "code",
   "execution_count": 21,
   "id": "7824d663-fad1-4c2c-9701-8bb3b93f4fe9",
   "metadata": {},
   "outputs": [
    {
     "data": {
      "text/plain": [
       "(0.13906468043625642, array([0.84338966, 1.41372695]))"
      ]
     },
     "execution_count": 21,
     "metadata": {},
     "output_type": "execute_result"
    }
   ],
   "source": [
    "m.intercept_, m.coef_"
   ]
  },
  {
   "cell_type": "code",
   "execution_count": 22,
   "id": "f7f3b2ce-cbb6-457b-8bd1-9a2c2c07c7da",
   "metadata": {},
   "outputs": [
    {
     "data": {
      "text/plain": [
       "array([0.84338966, 1.41372695])"
      ]
     },
     "execution_count": 22,
     "metadata": {},
     "output_type": "execute_result"
    }
   ],
   "source": [
    "m.coef_"
   ]
  },
  {
   "cell_type": "markdown",
   "id": "aa2f8b0a-b817-412c-a92c-d205ee6eaf88",
   "metadata": {},
   "source": [
    "## Means vs coefficients\n",
    "\n",
    "If you notice, the intercept of the regression model is the mean of A. If you add the coefficients to the intercept, you recover the means of B and C!"
   ]
  },
  {
   "cell_type": "code",
   "execution_count": 23,
   "id": "6505b348-e147-4ab9-a060-64feef7de92d",
   "metadata": {},
   "outputs": [
    {
     "data": {
      "text/html": [
       "<div>\n",
       "<style scoped>\n",
       "    .dataframe tbody tr th:only-of-type {\n",
       "        vertical-align: middle;\n",
       "    }\n",
       "\n",
       "    .dataframe tbody tr th {\n",
       "        vertical-align: top;\n",
       "    }\n",
       "\n",
       "    .dataframe thead th {\n",
       "        text-align: right;\n",
       "    }\n",
       "</style>\n",
       "<table border=\"1\" class=\"dataframe\">\n",
       "  <thead>\n",
       "    <tr style=\"text-align: right;\">\n",
       "      <th></th>\n",
       "      <th>y</th>\n",
       "    </tr>\n",
       "    <tr>\n",
       "      <th>group</th>\n",
       "      <th></th>\n",
       "    </tr>\n",
       "  </thead>\n",
       "  <tbody>\n",
       "    <tr>\n",
       "      <th>A</th>\n",
       "      <td>0.139065</td>\n",
       "    </tr>\n",
       "    <tr>\n",
       "      <th>B</th>\n",
       "      <td>0.982454</td>\n",
       "    </tr>\n",
       "    <tr>\n",
       "      <th>C</th>\n",
       "      <td>1.552792</td>\n",
       "    </tr>\n",
       "  </tbody>\n",
       "</table>\n",
       "</div>"
      ],
      "text/plain": [
       "              y\n",
       "group          \n",
       "A      0.139065\n",
       "B      0.982454\n",
       "C      1.552792"
      ]
     },
     "execution_count": 23,
     "metadata": {},
     "output_type": "execute_result"
    }
   ],
   "source": [
    "df.groupby(['group']).mean()"
   ]
  },
  {
   "cell_type": "code",
   "execution_count": 24,
   "id": "9451ab65-96a5-446e-b65a-daa64deede10",
   "metadata": {},
   "outputs": [
    {
     "data": {
      "text/plain": [
       "(0.13906468043625642, array([0.98245434, 1.55279163]))"
      ]
     },
     "execution_count": 24,
     "metadata": {},
     "output_type": "execute_result"
    }
   ],
   "source": [
    "m.intercept_, m.coef_ + m.intercept_"
   ]
  },
  {
   "cell_type": "markdown",
   "id": "8adb14f2-39ea-4344-80c8-15a4109f4d46",
   "metadata": {},
   "source": [
    "## Test statistics vs coefficients\n",
    "\n",
    "The coefficients are the test statistics Tukey's HSD!"
   ]
  },
  {
   "cell_type": "code",
   "execution_count": 25,
   "id": "b43dfdbb-c8d4-466e-8cbf-1892a6925911",
   "metadata": {},
   "outputs": [
    {
     "data": {
      "text/plain": [
       "array([[ 0.        , -0.84338966, -1.41372695],\n",
       "       [ 0.84338966,  0.        , -0.57033729],\n",
       "       [ 1.41372695,  0.57033729,  0.        ]])"
      ]
     },
     "execution_count": 25,
     "metadata": {},
     "output_type": "execute_result"
    }
   ],
   "source": [
    "hsd.statistic"
   ]
  },
  {
   "cell_type": "code",
   "execution_count": 26,
   "id": "0641e527-fe22-4867-853f-672b0e5546f9",
   "metadata": {},
   "outputs": [
    {
     "data": {
      "text/plain": [
       "array([0.84338966, 1.41372695])"
      ]
     },
     "execution_count": 26,
     "metadata": {},
     "output_type": "execute_result"
    }
   ],
   "source": [
    "m.coef_ "
   ]
  },
  {
   "cell_type": "markdown",
   "id": "e8fbfe8f-5f2b-434e-b24e-dd848b8c4ce3",
   "metadata": {},
   "source": [
    "When using Tukey's HSD, the p-values are given."
   ]
  },
  {
   "cell_type": "code",
   "execution_count": 27,
   "id": "cf231cb9-b11c-4ed8-81b5-8e1e9e8a643a",
   "metadata": {},
   "outputs": [
    {
     "data": {
      "text/plain": [
       "array([[1.00000000e+00, 2.26787268e-04, 6.66437017e-10],\n",
       "       [2.26787268e-04, 1.00000000e+00, 1.82679298e-02],\n",
       "       [6.66437017e-10, 1.82679298e-02, 1.00000000e+00]])"
      ]
     },
     "execution_count": 27,
     "metadata": {},
     "output_type": "execute_result"
    }
   ],
   "source": [
    "hsd.pvalue"
   ]
  },
  {
   "cell_type": "markdown",
   "id": "175e6b61-4302-4f31-977c-7496778856be",
   "metadata": {},
   "source": [
    "We can also compute the p-values as below."
   ]
  },
  {
   "cell_type": "code",
   "execution_count": 28,
   "id": "2d2f0e9d-d8e4-49f0-97d2-8d9e39558a5d",
   "metadata": {},
   "outputs": [],
   "source": [
    "def get_se(df):\n",
    "    '''\n",
    "    Computes standard error. \n",
    "    Adapted from https://github.com/scipy/scipy/blob/v1.10.1/scipy/stats/_hypotests.py.\n",
    "    When groups are unequal, this code should be adjusted too.\n",
    "    '''\n",
    "    _v = np.array([np.var(df[df['group']==g]['y'], ddof=1) for g in df['group'].unique()])\n",
    "    _s = np.array([df[df['group']==g].shape[0] - 1 for g in df['group'].unique()])\n",
    "    _n = df.shape[0] - df['group'].unique().shape[0]\n",
    "    _mse = np.sum(_v * _s) / _n\n",
    "    _norm = 2 / df[df['group']=='A'].shape[0]\n",
    "    _se = np.sqrt(_norm * _mse / 2)\n",
    "    \n",
    "    return _se\n",
    "\n",
    "def get_pvalue(m_0, m_1, se, k, dof):\n",
    "    diff = np.abs(m_0 - m_1)\n",
    "    t = diff / se\n",
    "    print(f'{t=}, {k=}, {dof=}')\n",
    "    return stats.distributions.studentized_range.sf(t, k, dof)"
   ]
  },
  {
   "cell_type": "code",
   "execution_count": 29,
   "id": "7b9e620e-3bd2-42dc-a6d3-4acb3b539013",
   "metadata": {},
   "outputs": [],
   "source": [
    "_mean = df.groupby(['group']).mean()['y'].to_numpy()\n",
    "_se = get_se(df)\n",
    "_k = df['group'].unique().shape[0]\n",
    "_dof = df.shape[0] - _k"
   ]
  },
  {
   "cell_type": "code",
   "execution_count": 30,
   "id": "3a1a229b-5604-4986-a8c9-e9d2c19f4b72",
   "metadata": {},
   "outputs": [
    {
     "data": {
      "text/plain": [
       "array([0.13906468, 0.98245434, 1.55279163])"
      ]
     },
     "execution_count": 30,
     "metadata": {},
     "output_type": "execute_result"
    }
   ],
   "source": [
    "_mean"
   ]
  },
  {
   "cell_type": "code",
   "execution_count": 31,
   "id": "d1eabb80-d4c0-4920-a3a2-daa0fbc35728",
   "metadata": {},
   "outputs": [
    {
     "data": {
      "text/plain": [
       "0.14661287403767"
      ]
     },
     "execution_count": 31,
     "metadata": {},
     "output_type": "execute_result"
    }
   ],
   "source": [
    "_se"
   ]
  },
  {
   "cell_type": "code",
   "execution_count": 32,
   "id": "5f70d605-eb43-4f08-9ab6-4b278c69ce0a",
   "metadata": {},
   "outputs": [
    {
     "data": {
      "text/plain": [
       "3"
      ]
     },
     "execution_count": 32,
     "metadata": {},
     "output_type": "execute_result"
    }
   ],
   "source": [
    "_k"
   ]
  },
  {
   "cell_type": "code",
   "execution_count": 33,
   "id": "038f6178-f4ac-4800-b8f0-9aa38a86a4bf",
   "metadata": {},
   "outputs": [
    {
     "data": {
      "text/plain": [
       "147"
      ]
     },
     "execution_count": 33,
     "metadata": {},
     "output_type": "execute_result"
    }
   ],
   "source": [
    "_dof"
   ]
  },
  {
   "cell_type": "code",
   "execution_count": 34,
   "id": "459bd305-b457-48ce-99ef-1652152f21db",
   "metadata": {},
   "outputs": [
    {
     "name": "stdout",
     "output_type": "stream",
     "text": [
      "t=5.752493850354061, k=3, dof=147\n"
     ]
    },
    {
     "data": {
      "text/plain": [
       "0.00022678726812552785"
      ]
     },
     "execution_count": 34,
     "metadata": {},
     "output_type": "execute_result"
    }
   ],
   "source": [
    "get_pvalue(_mean[0], _mean[1], _se, _k, _dof)"
   ]
  },
  {
   "cell_type": "code",
   "execution_count": 35,
   "id": "3adcea9e-56c5-4661-951e-704bdbc1bb03",
   "metadata": {},
   "outputs": [
    {
     "name": "stdout",
     "output_type": "stream",
     "text": [
      "t=9.64258398375435, k=3, dof=147\n"
     ]
    },
    {
     "data": {
      "text/plain": [
       "6.664370166831191e-10"
      ]
     },
     "execution_count": 35,
     "metadata": {},
     "output_type": "execute_result"
    }
   ],
   "source": [
    "get_pvalue(_mean[0], _mean[2], _se, _k, _dof)"
   ]
  },
  {
   "cell_type": "code",
   "execution_count": 36,
   "id": "69b07092-77ee-4eec-9ea6-f3a4190ed83b",
   "metadata": {},
   "outputs": [
    {
     "name": "stdout",
     "output_type": "stream",
     "text": [
      "t=3.8900901334002893, k=3, dof=147\n"
     ]
    },
    {
     "data": {
      "text/plain": [
       "0.01826792981617653"
      ]
     },
     "execution_count": 36,
     "metadata": {},
     "output_type": "execute_result"
    }
   ],
   "source": [
    "get_pvalue(_mean[1], _mean[2], _se, _k, _dof)"
   ]
  },
  {
   "cell_type": "markdown",
   "id": "7f84f924-8795-4e3c-985c-cc46899de20e",
   "metadata": {},
   "source": [
    "Here's yet another way to compute the p-values."
   ]
  },
  {
   "cell_type": "code",
   "execution_count": 37,
   "id": "3aba71ee-0963-4f00-9383-e77d6403de3e",
   "metadata": {},
   "outputs": [
    {
     "data": {
      "text/plain": [
       "0.00022678726812552785"
      ]
     },
     "execution_count": 37,
     "metadata": {},
     "output_type": "execute_result"
    }
   ],
   "source": [
    "1 - stats.studentized_range.cdf(np.abs(_mean[0] - _mean[1]) / _se, _k, _dof)"
   ]
  },
  {
   "cell_type": "code",
   "execution_count": 38,
   "id": "50c81054-af4f-4c72-bc31-4af2f438395b",
   "metadata": {},
   "outputs": [
    {
     "data": {
      "text/plain": [
       "6.664370166831191e-10"
      ]
     },
     "execution_count": 38,
     "metadata": {},
     "output_type": "execute_result"
    }
   ],
   "source": [
    "1 - stats.studentized_range.cdf(np.abs(_mean[0] - _mean[2]) / _se, _k, _dof)"
   ]
  },
  {
   "cell_type": "code",
   "execution_count": 39,
   "id": "4b6e8f53-cb75-41ed-928f-09ff70aae5e8",
   "metadata": {},
   "outputs": [
    {
     "data": {
      "text/plain": [
       "0.01826792981617653"
      ]
     },
     "execution_count": 39,
     "metadata": {},
     "output_type": "execute_result"
    }
   ],
   "source": [
    "1 - stats.studentized_range.cdf(np.abs(_mean[1] - _mean[2]) / _se, _k, _dof)"
   ]
  },
  {
   "cell_type": "markdown",
   "id": "796b4097-587a-446a-abbf-4af460a05d1f",
   "metadata": {},
   "source": [
    "## Contrast coding"
   ]
  },
  {
   "cell_type": "code",
   "execution_count": 40,
   "id": "6d4907f4-dcfd-4fbd-bbf0-39486e903064",
   "metadata": {},
   "outputs": [
    {
     "data": {
      "text/plain": [
       "(0.8914368828670105, array([0.18203491, 1.3227095 ]))"
      ]
     },
     "execution_count": 40,
     "metadata": {},
     "output_type": "execute_result"
    }
   ],
   "source": [
    "X = df.assign(\n",
    "    AB=lambda d: np.select([d['group']=='A', d['group']=='B'], [-0.5, 0.5], default=0.0),\n",
    "    AC=lambda d: np.select([d['group']=='A', d['group']=='C'], [-0.5, 0.5], default=0.0)\n",
    ")[['AB', 'AC']]\n",
    "\n",
    "y = df['y']\n",
    "\n",
    "m = LinearRegression()\n",
    "m.fit(X, y)\n",
    "\n",
    "m.intercept_, m.coef_"
   ]
  },
  {
   "cell_type": "code",
   "execution_count": 41,
   "id": "67e342e6-3f9d-4df7-883d-872e836aa247",
   "metadata": {},
   "outputs": [
    {
     "data": {
      "text/plain": [
       "(1.0567755700112798, array([0.84338966, 0.99203212]))"
      ]
     },
     "execution_count": 41,
     "metadata": {},
     "output_type": "execute_result"
    }
   ],
   "source": [
    "X = df.assign(\n",
    "    AvB=lambda d: np.select([d['group']=='A', d['group']=='B'], [-0.5, 0.5], default=0.0),\n",
    "    ABvC=lambda d: np.select([d['group']=='C'], [0.5], default=-0.5)\n",
    ")[['AvB', 'ABvC']]\n",
    "\n",
    "y = df['y']\n",
    "\n",
    "m = LinearRegression()\n",
    "m.fit(X, y)\n",
    "\n",
    "m.intercept_, m.coef_"
   ]
  },
  {
   "cell_type": "code",
   "execution_count": 42,
   "id": "ff8ca803-793e-46d7-a7f6-1b253743f692",
   "metadata": {},
   "outputs": [
    {
     "data": {
      "text/plain": [
       "(0.8914368828670105, array([0.84338966, 1.3227095 ]))"
      ]
     },
     "execution_count": 42,
     "metadata": {},
     "output_type": "execute_result"
    }
   ],
   "source": [
    "X = df.assign(\n",
    "    AvB=lambda d: np.select([d['group']=='A', d['group']=='B'], [-0.5, 0.5], default=0.0),\n",
    "    ABvC=lambda d: np.select([d['group']=='C'], [0.5], default=-0.25)\n",
    ")[['AvB', 'ABvC']]\n",
    "\n",
    "y = df['y']\n",
    "\n",
    "m = LinearRegression()\n",
    "m.fit(X, y)\n",
    "\n",
    "m.intercept_, m.coef_"
   ]
  },
  {
   "cell_type": "code",
   "execution_count": null,
   "id": "1b160e43-fde4-4057-bfca-5a0e195cdcbc",
   "metadata": {},
   "outputs": [],
   "source": []
  }
 ],
 "metadata": {
  "kernelspec": {
   "display_name": "Python 3 (ipykernel)",
   "language": "python",
   "name": "python3"
  },
  "language_info": {
   "codemirror_mode": {
    "name": "ipython",
    "version": 3
   },
   "file_extension": ".py",
   "mimetype": "text/x-python",
   "name": "python",
   "nbconvert_exporter": "python",
   "pygments_lexer": "ipython3",
   "version": "3.9.16"
  },
  "widgets": {
   "application/vnd.jupyter.widget-state+json": {
    "state": {},
    "version_major": 2,
    "version_minor": 0
   }
  }
 },
 "nbformat": 4,
 "nbformat_minor": 5
}
