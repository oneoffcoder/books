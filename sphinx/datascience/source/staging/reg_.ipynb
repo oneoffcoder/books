{
 "cells": [
  {
   "cell_type": "code",
   "execution_count": 1,
   "id": "cbdf23c3-7286-487f-80c9-3ca75b61e979",
   "metadata": {},
   "outputs": [
    {
     "name": "stdout",
     "output_type": "stream",
     "text": [
      "X shape = (1000, 4), y shape (1000,)\n"
     ]
    }
   ],
   "source": [
    "from sklearn.datasets import make_regression\n",
    "import numpy as np\n",
    "\n",
    "N = 1_000\n",
    "\n",
    "X, y = make_regression(**{\n",
    "    'n_samples': N,\n",
    "    'n_features': 3,\n",
    "    'n_informative': 2,\n",
    "    'n_targets': 1,\n",
    "    'bias': 5.3,\n",
    "    'random_state': 37\n",
    "})\n",
    "X = np.hstack([np.ones(N).reshape(N, 1), X])\n",
    "\n",
    "print(f'X shape = {X.shape}, y shape {y.shape}')"
   ]
  },
  {
   "cell_type": "code",
   "execution_count": 10,
   "id": "fd6b4de4-de44-49b6-af01-2bf14f0de8b8",
   "metadata": {},
   "outputs": [],
   "source": [
    "w = np.zeros(X.shape[1])\n",
    "alpha = 1.0\n",
    "r = 0.01\n",
    "\n",
    "for _ in range(1000):\n",
    "    d = (1 / (2 * N)) * np.sqrt(np.sum(np.power(X.dot(w) - y, 2.0))) + alpha * np.linalg.norm(w, 1)\n",
    "    w = w - (r * d)"
   ]
  },
  {
   "cell_type": "code",
   "execution_count": 11,
   "id": "b9e0d85a-29ab-493c-a3ca-31ee0f5bab04",
   "metadata": {},
   "outputs": [
    {
     "data": {
      "text/plain": [
       "array([-2.77352397e+16, -2.77352397e+16, -2.77352397e+16, -2.77352397e+16])"
      ]
     },
     "execution_count": 11,
     "metadata": {},
     "output_type": "execute_result"
    }
   ],
   "source": [
    "w"
   ]
  },
  {
   "cell_type": "code",
   "execution_count": null,
   "id": "ae1c55df-a211-4c6b-8f9c-33a428031516",
   "metadata": {},
   "outputs": [],
   "source": []
  }
 ],
 "metadata": {
  "kernelspec": {
   "display_name": "Python 3",
   "language": "python",
   "name": "python3"
  },
  "language_info": {
   "codemirror_mode": {
    "name": "ipython",
    "version": 3
   },
   "file_extension": ".py",
   "mimetype": "text/x-python",
   "name": "python",
   "nbconvert_exporter": "python",
   "pygments_lexer": "ipython3",
   "version": "3.8.8"
  }
 },
 "nbformat": 4,
 "nbformat_minor": 5
}
