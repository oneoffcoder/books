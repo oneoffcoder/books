{
 "cells": [
  {
   "cell_type": "markdown",
   "id": "5cc1db56",
   "metadata": {},
   "source": [
    "$\\dfrac{\\sum_N (y - \\hat{y})^2}{N}$\n",
    "\n",
    "$\\dfrac{\\sum_N (y - \\hat{y})^2}{N} + \\alpha \\sum_M |w|$\n",
    "\n",
    "$\\dfrac{\\sum_N (y - \\hat{y})^2}{N} + \\alpha \\sum_M w^2$\n",
    "\n"
   ]
  },
  {
   "cell_type": "code",
   "execution_count": 59,
   "id": "6596f514",
   "metadata": {
    "tags": []
   },
   "outputs": [
    {
     "name": "stdout",
     "output_type": "stream",
     "text": [
      "X shape = (1000, 3), y shape (1000,)\n"
     ]
    }
   ],
   "source": [
    "from sklearn.datasets import make_regression\n",
    "\n",
    "N = 1_000\n",
    "\n",
    "X, y = make_regression(**{\n",
    "    'n_samples': N,\n",
    "    'n_features': 3,\n",
    "    'n_informative': 2,\n",
    "    'n_targets': 1,\n",
    "    'bias': 5.3,\n",
    "    'random_state': 37\n",
    "})\n",
    "\n",
    "print(f'X shape = {X.shape}, y shape {y.shape}')"
   ]
  },
  {
   "cell_type": "code",
   "execution_count": 60,
   "id": "78ac408e",
   "metadata": {
    "tags": []
   },
   "outputs": [
    {
     "data": {
      "text/html": [
       "<div>\n",
       "<style scoped>\n",
       "    .dataframe tbody tr th:only-of-type {\n",
       "        vertical-align: middle;\n",
       "    }\n",
       "\n",
       "    .dataframe tbody tr th {\n",
       "        vertical-align: top;\n",
       "    }\n",
       "\n",
       "    .dataframe thead th {\n",
       "        text-align: right;\n",
       "    }\n",
       "</style>\n",
       "<table border=\"1\" class=\"dataframe\">\n",
       "  <thead>\n",
       "    <tr style=\"text-align: right;\">\n",
       "      <th></th>\n",
       "      <th>linear</th>\n",
       "      <th>lasso</th>\n",
       "      <th>ridge</th>\n",
       "    </tr>\n",
       "  </thead>\n",
       "  <tbody>\n",
       "    <tr>\n",
       "      <th>0</th>\n",
       "      <td>5.300000e+00</td>\n",
       "      <td>5.272388</td>\n",
       "      <td>5.299127</td>\n",
       "    </tr>\n",
       "    <tr>\n",
       "      <th>1</th>\n",
       "      <td>1.076976e-14</td>\n",
       "      <td>-0.000000</td>\n",
       "      <td>-0.003796</td>\n",
       "    </tr>\n",
       "    <tr>\n",
       "      <th>2</th>\n",
       "      <td>1.450597e+01</td>\n",
       "      <td>13.508805</td>\n",
       "      <td>14.493159</td>\n",
       "    </tr>\n",
       "    <tr>\n",
       "      <th>3</th>\n",
       "      <td>4.745879e+01</td>\n",
       "      <td>46.448957</td>\n",
       "      <td>47.409024</td>\n",
       "    </tr>\n",
       "  </tbody>\n",
       "</table>\n",
       "</div>"
      ],
      "text/plain": [
       "         linear      lasso      ridge\n",
       "0  5.300000e+00   5.272388   5.299127\n",
       "1  1.076976e-14  -0.000000  -0.003796\n",
       "2  1.450597e+01  13.508805  14.493159\n",
       "3  4.745879e+01  46.448957  47.409024"
      ]
     },
     "execution_count": 60,
     "metadata": {},
     "output_type": "execute_result"
    }
   ],
   "source": [
    "import pandas as pd\n",
    "from sklearn.linear_model import LinearRegression, Lasso, Ridge\n",
    "\n",
    "linear = LinearRegression()\n",
    "lasso = Lasso(alpha=1.0, max_iter=5_000, random_state=37)\n",
    "ridge = Ridge(alpha=1.0, max_iter=5_000, random_state=37)\n",
    "\n",
    "linear.fit(X, y)\n",
    "lasso.fit(X, y)\n",
    "ridge.fit(X, y)\n",
    "\n",
    "pd.DataFrame({\n",
    "    'linear': [linear.intercept_] + list(linear.coef_),\n",
    "    'lasso': [lasso.intercept_] + list(lasso.coef_),\n",
    "    'ridge': [ridge.intercept_] + list(ridge.coef_),\n",
    "})"
   ]
  },
  {
   "cell_type": "code",
   "execution_count": 61,
   "id": "089f68ea",
   "metadata": {
    "tags": []
   },
   "outputs": [],
   "source": [
    "import autograd.numpy as np\n",
    "\n",
    "X = np.hstack([np.ones(N).reshape(N, 1), X])"
   ]
  },
  {
   "cell_type": "code",
   "execution_count": 62,
   "id": "93103dcb",
   "metadata": {
    "tags": []
   },
   "outputs": [],
   "source": [
    "from autograd import grad\n",
    "\n",
    "def get_norm(w, norm=1):\n",
    "    x = [np.power(np.abs(v), norm) for v in w]\n",
    "    x = np.sum(x)\n",
    "    x = np.power(x, 1 / norm)\n",
    "    return x\n",
    "    \n",
    "def cost(w, X, y):\n",
    "    y_pred = np.dot(X, w)\n",
    "    loss = ((y_pred - y) ** 2.0)\n",
    "    return loss.mean()\n",
    "\n",
    "loss = grad(cost)"
   ]
  },
  {
   "cell_type": "code",
   "execution_count": 65,
   "id": "d2ad161c",
   "metadata": {
    "tags": []
   },
   "outputs": [
    {
     "name": "stdout",
     "output_type": "stream",
     "text": [
      "[ -8.77870161   7.07695875 -31.81814282 -91.06360547]\n",
      "[ -8.77870161   7.07695875 -31.81814282 -91.06360547]\n",
      "[-0.87787016  0.70769587 -3.18181428 -9.10636055]\n",
      "[ 0.87787016 -0.70769587  3.18181428  9.10636055]\n",
      "---------------\n",
      "[-7.60189361e+40 -7.44868567e+40 -7.68733318e+40 -7.22599973e+40]\n",
      "[8.02665553e+40 8.17986347e+40 7.94121596e+40 8.40254941e+40]\n",
      "[8.02665553e+39 8.17986347e+39 7.94121596e+39 8.40254941e+39]\n",
      "[-4.65654833e+40 -4.74542971e+40 -4.60698180e+40 -4.87461774e+40]\n",
      "---------------\n",
      "[-9.19875097e+81 -9.01336010e+81 -9.30213802e+81 -8.74389665e+81]\n",
      "[9.71273858e+81 9.89812946e+81 9.60935153e+81 1.01675929e+82]\n",
      "[9.71273858e+80 9.89812946e+80 9.60935153e+80 1.01675929e+81]\n",
      "[-5.63470507e+81 -5.74225691e+81 -5.57472657e+81 -5.89858225e+81]\n",
      "---------------\n",
      "[-1.11310450e+123 -1.09067108e+123 -1.12561495e+123 -1.05806437e+123]\n",
      "[1.17530010e+123 1.19773352e+123 1.16278965e+123 1.23034023e+123]\n",
      "[1.17530010e+122 1.19773352e+122 1.16278965e+122 1.23034023e+122]\n",
      "[-6.81833389e+122 -6.94847812e+122 -6.74575627e+122 -7.13764122e+122]\n",
      "---------------\n",
      "[-1.34692375e+164 -1.31977796e+164 -1.36206216e+164 -1.28032187e+164]\n",
      "[1.42218420e+164 1.44932999e+164 1.40704579e+164 1.48878608e+164]\n",
      "[1.42218420e+163 1.44932999e+163 1.40704579e+163 1.48878608e+163]\n",
      "[-8.25059632e+163 -8.40807871e+163 -8.16277302e+163 -8.63697751e+163]\n",
      "---------------\n"
     ]
    },
    {
     "name": "stderr",
     "output_type": "stream",
     "text": [
      "/opt/anaconda3/lib/python3.8/site-packages/numpy/core/_methods.py:160: RuntimeWarning: overflow encountered in reduce\n",
      "  ret = umr_sum(arr, axis, dtype, out, keepdims)\n",
      "/opt/anaconda3/lib/python3.8/site-packages/autograd/tracer.py:48: RuntimeWarning: overflow encountered in power\n",
      "  return f_raw(*args, **kwargs)\n"
     ]
    },
    {
     "name": "stdout",
     "output_type": "stream",
     "text": [
      "[-1.62985919e+205 -1.59701114e+205 -1.64817758e+205 -1.54926689e+205]\n",
      "[1.72092888e+205 1.75377693e+205 1.70261049e+205 1.80152119e+205]\n",
      "[1.72092888e+204 1.75377693e+204 1.70261049e+204 1.80152119e+204]\n",
      "[-9.98372049e+204 -1.01742837e+205 -9.87744898e+204 -1.04512651e+205]\n",
      "---------------\n",
      "[-1.97222818e+246 -1.93248006e+246 -1.99439455e+246 -1.87470663e+246]\n",
      "[2.08242802e+246 2.12217614e+246 2.06026166e+246 2.17994958e+246]\n",
      "[2.08242802e+245 2.12217614e+245 2.06026166e+245 2.17994958e+245]\n",
      "[-1.20809055e+246 -1.23114985e+246 -1.19523106e+246 -1.26466628e+246]\n",
      "---------------\n",
      "[-2.38651537e+287 -2.33841773e+287 -2.41333801e+287 -2.26850839e+287]\n",
      "[2.51986383e+287 2.56796147e+287 2.49304119e+287 2.63787082e+287]\n",
      "[2.51986383e+286 2.56796147e+286 2.49304119e+286 2.63787082e+286]\n",
      "[-1.46186263e+287 -1.48976577e+287 -1.44630186e+287 -1.53032267e+287]\n",
      "---------------\n",
      "[nan nan nan nan]\n",
      "[nan nan nan nan]\n",
      "[nan nan nan nan]\n",
      "[nan nan nan nan]\n",
      "---------------\n",
      "[nan nan nan nan]\n",
      "[nan nan nan nan]\n",
      "[nan nan nan nan]\n",
      "[nan nan nan nan]\n",
      "---------------\n"
     ]
    },
    {
     "data": {
      "text/plain": [
       "array([nan, nan, nan, nan])"
      ]
     },
     "execution_count": 65,
     "metadata": {},
     "output_type": "execute_result"
    }
   ],
   "source": [
    "def do_learn(X, y, loss_f, r=0.1, alpha=1.0, n_iters=5_000, penalty=None):\n",
    "    w = np.zeros(X.shape[1])\n",
    "    \n",
    "    for it in range(n_iters):\n",
    "        if penalty == 'l2':\n",
    "            p = get_norm(w, 2)\n",
    "        elif penalty == 'l1':\n",
    "            p = get_norm(w, 1)\n",
    "        else:\n",
    "            p = 0.0\n",
    "        \n",
    "        loss1 = loss_f(w, X, y)\n",
    "        loss2 = loss1 + (alpha * p)\n",
    "        loss3 = r * loss2\n",
    "        \n",
    "        w = w - loss3\n",
    "        \n",
    "        if it % 500 == 0:\n",
    "            print(loss1)\n",
    "            print(loss2)\n",
    "            print(loss3)\n",
    "            print(w)\n",
    "            print('-' * 15)\n",
    "            \n",
    "    return w\n",
    "\n",
    "# do_learn(X, y, loss)\n",
    "do_learn(X, y, loss, penalty='l1')"
   ]
  },
  {
   "cell_type": "code",
   "execution_count": null,
   "id": "d9ef28d1",
   "metadata": {},
   "outputs": [],
   "source": []
  },
  {
   "cell_type": "code",
   "execution_count": null,
   "id": "d9ff1230",
   "metadata": {},
   "outputs": [],
   "source": []
  }
 ],
 "metadata": {
  "kernelspec": {
   "display_name": "Python 3",
   "language": "python",
   "name": "python3"
  },
  "language_info": {
   "codemirror_mode": {
    "name": "ipython",
    "version": 3
   },
   "file_extension": ".py",
   "mimetype": "text/x-python",
   "name": "python",
   "nbconvert_exporter": "python",
   "pygments_lexer": "ipython3",
   "version": "3.8.8"
  },
  "widgets": {
   "application/vnd.jupyter.widget-state+json": {
    "state": {},
    "version_major": 2,
    "version_minor": 0
   }
  }
 },
 "nbformat": 4,
 "nbformat_minor": 5
}
