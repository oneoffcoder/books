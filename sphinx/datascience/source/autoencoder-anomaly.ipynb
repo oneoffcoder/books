{
 "cells": [
  {
   "cell_type": "markdown",
   "id": "cosmetic-executive",
   "metadata": {},
   "source": [
    "# Outlier Detection with Autoencoders\n",
    "\n",
    "Autoencoders are a type of deep-learning architectures that are used to learn how to compress and decompress data faithfully. The compression layers are referred to as the encoding layers, and the decompression layers are referred to as the decoding layers. Conceptually, when we are encoding data, we are squeezing the n-dimensional data vector to successively smaller dimensionsional space representation. If a vector is 256 in length (or has 256 dimensions), we might have successive layers to encode this vector into 128, 64, 36, 18 and 9 dimensions. These smaller dimensional space are said to be `latent` space, or higher-order (although they are lower dimensions) space. The second part of the autoencoder architecture is the decoding layers, which is essentially a reversal of the encoding layers. In the example here, we will have layers that builds the 9-dimensional vector to 18, 36, 64, 128 and 256 dimensions. A lot of the information is lost during encoding, but this information that is lost may be looked at as noise or non-essential. Once we are done with encoding, what remains is the essential information to reconstruct the input vector, and the decoding layers attempts to reconstruct the output to be like the input based on the essential information (or latent representation). \n",
    "\n",
    "Autoencoders may be useful for a variety of things, including, anomaly or outlier/inlier detection. We may train an autoencoder on inliers and compute the expected error for inliers. When a new observation comes through, we feed this observation into the autoencoder and compute its reconstruction error; if it is different above a threshold from the expected error for inliers, then such observation may be considered an outlier. Let's see how autoencoders may be used to detect outliers and inliers."
   ]
  },
  {
   "cell_type": "markdown",
   "id": "interracial-gnome",
   "metadata": {},
   "source": [
    "## Data\n",
    "\n",
    "The data is sampled from $X \\sim \\mathcal{N}(0, 1)$."
   ]
  },
  {
   "cell_type": "code",
   "execution_count": 1,
   "id": "reliable-construction",
   "metadata": {
    "execution": {
     "iopub.status.idle": "2022-01-02T13:14:01.764274Z",
     "shell.execute_reply": "2022-01-02T13:14:01.763835Z",
     "shell.execute_reply.started": "2022-01-02T13:14:01.580844Z"
    }
   },
   "outputs": [
    {
     "name": "stdout",
     "output_type": "stream",
     "text": [
      "X shape = (1000, 1)\n"
     ]
    }
   ],
   "source": [
    "import numpy as np\n",
    "import pandas as pd\n",
    "import random as rand\n",
    "\n",
    "np.random.seed(37)\n",
    "rand.seed(37)\n",
    "\n",
    "X = np.random.normal(loc=0, scale=1, size=1_000).reshape(-1, 1)\n",
    "\n",
    "print(f'X shape = {X.shape}')"
   ]
  },
  {
   "cell_type": "markdown",
   "id": "living-england",
   "metadata": {},
   "source": [
    "## Dataset and Data Loader\n",
    "\n",
    "We will use PyTorch to build an autoencoder, and as such, will construct a dataset and data loader from the sampled data."
   ]
  },
  {
   "cell_type": "code",
   "execution_count": 2,
   "id": "analyzed-violence",
   "metadata": {
    "execution": {
     "iopub.execute_input": "2022-01-02T13:14:01.765100Z",
     "iopub.status.busy": "2022-01-02T13:14:01.764931Z",
     "iopub.status.idle": "2022-01-02T13:14:02.330027Z",
     "shell.execute_reply": "2022-01-02T13:14:02.329662Z",
     "shell.execute_reply.started": "2022-01-02T13:14:01.765086Z"
    }
   },
   "outputs": [
    {
     "name": "stdout",
     "output_type": "stream",
     "text": [
      "cuda\n"
     ]
    }
   ],
   "source": [
    "import torch\n",
    "from torch.utils.data import Dataset, DataLoader\n",
    "from torchvision.transforms import *\n",
    "\n",
    "class GaussianDataset(Dataset):\n",
    "    def __init__(self, X, device, clazz=0):\n",
    "        self.__device = device\n",
    "        self.__clazz = clazz\n",
    "        self.__X = X\n",
    "\n",
    "    def __len__(self):\n",
    "        return self.__X.shape[0]\n",
    "\n",
    "    def __getitem__(self, idx):\n",
    "        item = self.__X[idx,:]\n",
    "        \n",
    "        return item, self.__clazz\n",
    "\n",
    "device = torch.device('cuda') if torch.cuda.is_available() else torch.device('cpu')\n",
    "print(device)\n",
    "\n",
    "dataset = GaussianDataset(X=X, device=device)\n",
    "data_loader = DataLoader(dataset, batch_size=64, shuffle=True, num_workers=1)"
   ]
  },
  {
   "cell_type": "markdown",
   "id": "lasting-norwegian",
   "metadata": {},
   "source": [
    "## Autoencoder architecture\n",
    "\n",
    "Look at the architecture in this autoencoder; it has 5 encoding layers and 5 decoding layers. All activation layers between these layers are ReLU."
   ]
  },
  {
   "cell_type": "code",
   "execution_count": 3,
   "id": "tough-increase",
   "metadata": {
    "execution": {
     "iopub.execute_input": "2022-01-02T13:14:02.332405Z",
     "iopub.status.busy": "2022-01-02T13:14:02.332296Z",
     "iopub.status.idle": "2022-01-02T13:14:02.336995Z",
     "shell.execute_reply": "2022-01-02T13:14:02.336521Z",
     "shell.execute_reply.started": "2022-01-02T13:14:02.332391Z"
    }
   },
   "outputs": [],
   "source": [
    "from torchvision import datasets\n",
    "from torchvision import transforms\n",
    "\n",
    "class AE(torch.nn.Module):\n",
    "    def __init__(self, input_size):\n",
    "        super().__init__()\n",
    "          \n",
    "        self.encoder = torch.nn.Sequential(\n",
    "            torch.nn.Linear(input_size, 128),\n",
    "            torch.nn.ReLU(),\n",
    "            torch.nn.Linear(128, 64),\n",
    "            torch.nn.ReLU(),\n",
    "            torch.nn.Linear(64, 36),\n",
    "            torch.nn.ReLU(),\n",
    "            torch.nn.Linear(36, 18),\n",
    "            torch.nn.ReLU(),\n",
    "            torch.nn.Linear(18, 9)\n",
    "        )\n",
    "          \n",
    "        self.decoder = torch.nn.Sequential(\n",
    "            torch.nn.Linear(9, 18),\n",
    "            torch.nn.ReLU(),\n",
    "            torch.nn.Linear(18, 36),\n",
    "            torch.nn.ReLU(),\n",
    "            torch.nn.Linear(36, 64),\n",
    "            torch.nn.ReLU(),\n",
    "            torch.nn.Linear(64, 128),\n",
    "            torch.nn.ReLU(),\n",
    "            torch.nn.Linear(128, input_size)\n",
    "        )\n",
    "  \n",
    "    def forward(self, x):\n",
    "        encoded = self.encoder(x)\n",
    "        decoded = self.decoder(encoded)\n",
    "        return decoded"
   ]
  },
  {
   "cell_type": "markdown",
   "id": "boolean-diameter",
   "metadata": {},
   "source": [
    "## Learning\n",
    "\n",
    "We will define our loss function to be mean-squared error (MSE) and use the Adam optimizer."
   ]
  },
  {
   "cell_type": "code",
   "execution_count": 4,
   "id": "electrical-movie",
   "metadata": {
    "execution": {
     "iopub.execute_input": "2022-01-02T13:14:02.337692Z",
     "iopub.status.busy": "2022-01-02T13:14:02.337567Z",
     "iopub.status.idle": "2022-01-02T13:14:04.089098Z",
     "shell.execute_reply": "2022-01-02T13:14:04.088705Z",
     "shell.execute_reply.started": "2022-01-02T13:14:02.337678Z"
    }
   },
   "outputs": [],
   "source": [
    "model = AE(input_size=X.shape[1]).double().to(device)\n",
    "loss_function = torch.nn.MSELoss()\n",
    "optimizer = torch.optim.Adam(model.parameters(), lr=1e-3, weight_decay=1e-8)"
   ]
  },
  {
   "cell_type": "code",
   "execution_count": 5,
   "id": "suited-functionality",
   "metadata": {
    "execution": {
     "iopub.execute_input": "2022-01-02T13:14:04.089707Z",
     "iopub.status.busy": "2022-01-02T13:14:04.089608Z",
     "iopub.status.idle": "2022-01-02T13:14:06.781998Z",
     "shell.execute_reply": "2022-01-02T13:14:06.781502Z",
     "shell.execute_reply.started": "2022-01-02T13:14:04.089694Z"
    }
   },
   "outputs": [],
   "source": [
    "epochs = 20\n",
    "loss_df = []\n",
    "\n",
    "for epoch in range(epochs):\n",
    "    losses = []\n",
    "    \n",
    "    for (items, _) in data_loader:  \n",
    "        items = items.to(device)\n",
    "        optimizer.zero_grad()\n",
    "        \n",
    "        reconstructed = model(items)\n",
    "        loss = loss_function(reconstructed, items)\n",
    "        \n",
    "        loss.backward()\n",
    "        \n",
    "        optimizer.step()\n",
    "        \n",
    "        losses.append(loss.detach().cpu().numpy().item())\n",
    "    \n",
    "    losses = np.array(losses)\n",
    "    \n",
    "    loss_df.append({\n",
    "        'epoch': epoch + 1,\n",
    "        'loss': losses.mean()\n",
    "    })\n",
    "    \n",
    "loss_df = pd.DataFrame(loss_df)\n",
    "loss_df.index = loss_df['epoch']\n",
    "loss_df = loss_df.drop(columns=['epoch'])"
   ]
  },
  {
   "cell_type": "markdown",
   "id": "grave-efficiency",
   "metadata": {},
   "source": [
    "The average loss over each epoch will differ base on the batch size (set to 64 earlier)."
   ]
  },
  {
   "cell_type": "code",
   "execution_count": 6,
   "id": "harmful-cyprus",
   "metadata": {
    "execution": {
     "iopub.execute_input": "2022-01-02T13:14:06.782732Z",
     "iopub.status.busy": "2022-01-02T13:14:06.782621Z",
     "iopub.status.idle": "2022-01-02T13:14:07.057208Z",
     "shell.execute_reply": "2022-01-02T13:14:07.056801Z",
     "shell.execute_reply.started": "2022-01-02T13:14:06.782718Z"
    }
   },
   "outputs": [
    {
     "data": {
      "image/png": "[encoded data removed]",
      "text/plain": [
       "<Figure size 1080x288 with 1 Axes>"
      ]
     },
     "metadata": {},
     "output_type": "display_data"
    }
   ],
   "source": [
    "import matplotlib.pyplot as plt\n",
    "\n",
    "plt.style.use('fivethirtyeight')\n",
    "\n",
    "ax = loss_df['loss'].plot(kind='line', figsize=(15, 4), title='MSE Loss', ylabel='MSE')\n",
    "_ = ax.set_xticks(list(range(1, 21, 1)))"
   ]
  },
  {
   "cell_type": "markdown",
   "id": "pretty-workshop",
   "metadata": {},
   "source": [
    "Once we learn the parameters for the autoencoder, we can predict one observation at a time from the dataset."
   ]
  },
  {
   "cell_type": "code",
   "execution_count": 7,
   "id": "sapphire-terrace",
   "metadata": {
    "execution": {
     "iopub.execute_input": "2022-01-02T13:14:07.057772Z",
     "iopub.status.busy": "2022-01-02T13:14:07.057640Z",
     "iopub.status.idle": "2022-01-02T13:14:07.071032Z",
     "shell.execute_reply": "2022-01-02T13:14:07.070580Z",
     "shell.execute_reply.started": "2022-01-02T13:14:07.057752Z"
    }
   },
   "outputs": [
    {
     "data": {
      "text/html": [
       "<div>\n",
       "<style scoped>\n",
       "    .dataframe tbody tr th:only-of-type {\n",
       "        vertical-align: middle;\n",
       "    }\n",
       "\n",
       "    .dataframe tbody tr th {\n",
       "        vertical-align: top;\n",
       "    }\n",
       "\n",
       "    .dataframe thead th {\n",
       "        text-align: right;\n",
       "    }\n",
       "</style>\n",
       "<table border=\"1\" class=\"dataframe\">\n",
       "  <thead>\n",
       "    <tr style=\"text-align: right;\">\n",
       "      <th></th>\n",
       "      <th>y_true</th>\n",
       "      <th>y_pred</th>\n",
       "    </tr>\n",
       "  </thead>\n",
       "  <tbody>\n",
       "    <tr>\n",
       "      <th>0</th>\n",
       "      <td>-0.054464</td>\n",
       "      <td>-0.053576</td>\n",
       "    </tr>\n",
       "    <tr>\n",
       "      <th>1</th>\n",
       "      <td>0.674308</td>\n",
       "      <td>0.672243</td>\n",
       "    </tr>\n",
       "    <tr>\n",
       "      <th>2</th>\n",
       "      <td>0.346647</td>\n",
       "      <td>0.347807</td>\n",
       "    </tr>\n",
       "    <tr>\n",
       "      <th>3</th>\n",
       "      <td>-1.300346</td>\n",
       "      <td>-1.301217</td>\n",
       "    </tr>\n",
       "    <tr>\n",
       "      <th>4</th>\n",
       "      <td>1.518512</td>\n",
       "      <td>1.517482</td>\n",
       "    </tr>\n",
       "    <tr>\n",
       "      <th>5</th>\n",
       "      <td>0.989824</td>\n",
       "      <td>0.993620</td>\n",
       "    </tr>\n",
       "    <tr>\n",
       "      <th>6</th>\n",
       "      <td>0.277681</td>\n",
       "      <td>0.275364</td>\n",
       "    </tr>\n",
       "    <tr>\n",
       "      <th>7</th>\n",
       "      <td>-0.448589</td>\n",
       "      <td>-0.445697</td>\n",
       "    </tr>\n",
       "    <tr>\n",
       "      <th>8</th>\n",
       "      <td>0.961966</td>\n",
       "      <td>0.965153</td>\n",
       "    </tr>\n",
       "    <tr>\n",
       "      <th>9</th>\n",
       "      <td>-0.827579</td>\n",
       "      <td>-0.826105</td>\n",
       "    </tr>\n",
       "  </tbody>\n",
       "</table>\n",
       "</div>"
      ],
      "text/plain": [
       "     y_true    y_pred\n",
       "0 -0.054464 -0.053576\n",
       "1  0.674308  0.672243\n",
       "2  0.346647  0.347807\n",
       "3 -1.300346 -1.301217\n",
       "4  1.518512  1.517482\n",
       "5  0.989824  0.993620\n",
       "6  0.277681  0.275364\n",
       "7 -0.448589 -0.445697\n",
       "8  0.961966  0.965153\n",
       "9 -0.827579 -0.826105"
      ]
     },
     "execution_count": 7,
     "metadata": {},
     "output_type": "execute_result"
    }
   ],
   "source": [
    "pd.DataFrame([{'y_true': dataset[r][0][0], 'y_pred': model(torch.from_numpy(dataset[r][0]).to(device)).detach().cpu().item()} \n",
    "              for r in range(10)])"
   ]
  },
  {
   "cell_type": "markdown",
   "id": "nutritional-establishment",
   "metadata": {},
   "source": [
    "Batch prediction from the data loader is also possible."
   ]
  },
  {
   "cell_type": "code",
   "execution_count": 8,
   "id": "supreme-martin",
   "metadata": {
    "execution": {
     "iopub.execute_input": "2022-01-02T13:14:07.072479Z",
     "iopub.status.busy": "2022-01-02T13:14:07.072348Z",
     "iopub.status.idle": "2022-01-02T13:14:07.195881Z",
     "shell.execute_reply": "2022-01-02T13:14:07.195422Z",
     "shell.execute_reply.started": "2022-01-02T13:14:07.072463Z"
    }
   },
   "outputs": [
    {
     "data": {
      "text/html": [
       "<div>\n",
       "<style scoped>\n",
       "    .dataframe tbody tr th:only-of-type {\n",
       "        vertical-align: middle;\n",
       "    }\n",
       "\n",
       "    .dataframe tbody tr th {\n",
       "        vertical-align: top;\n",
       "    }\n",
       "\n",
       "    .dataframe thead th {\n",
       "        text-align: right;\n",
       "    }\n",
       "</style>\n",
       "<table border=\"1\" class=\"dataframe\">\n",
       "  <thead>\n",
       "    <tr style=\"text-align: right;\">\n",
       "      <th></th>\n",
       "      <th>y_true</th>\n",
       "      <th>y_pred</th>\n",
       "    </tr>\n",
       "  </thead>\n",
       "  <tbody>\n",
       "    <tr>\n",
       "      <th>0</th>\n",
       "      <td>-0.508864</td>\n",
       "      <td>-0.507587</td>\n",
       "    </tr>\n",
       "    <tr>\n",
       "      <th>1</th>\n",
       "      <td>2.295016</td>\n",
       "      <td>2.298257</td>\n",
       "    </tr>\n",
       "    <tr>\n",
       "      <th>2</th>\n",
       "      <td>0.952336</td>\n",
       "      <td>0.955154</td>\n",
       "    </tr>\n",
       "    <tr>\n",
       "      <th>3</th>\n",
       "      <td>0.357611</td>\n",
       "      <td>0.359933</td>\n",
       "    </tr>\n",
       "    <tr>\n",
       "      <th>4</th>\n",
       "      <td>-0.800504</td>\n",
       "      <td>-0.800884</td>\n",
       "    </tr>\n",
       "    <tr>\n",
       "      <th>...</th>\n",
       "      <td>...</td>\n",
       "      <td>...</td>\n",
       "    </tr>\n",
       "    <tr>\n",
       "      <th>635</th>\n",
       "      <td>0.526008</td>\n",
       "      <td>0.524745</td>\n",
       "    </tr>\n",
       "    <tr>\n",
       "      <th>636</th>\n",
       "      <td>0.677452</td>\n",
       "      <td>0.675304</td>\n",
       "    </tr>\n",
       "    <tr>\n",
       "      <th>637</th>\n",
       "      <td>0.321861</td>\n",
       "      <td>0.320346</td>\n",
       "    </tr>\n",
       "    <tr>\n",
       "      <th>638</th>\n",
       "      <td>-1.066025</td>\n",
       "      <td>-1.066037</td>\n",
       "    </tr>\n",
       "    <tr>\n",
       "      <th>639</th>\n",
       "      <td>-0.301855</td>\n",
       "      <td>-0.301612</td>\n",
       "    </tr>\n",
       "  </tbody>\n",
       "</table>\n",
       "<p>640 rows × 2 columns</p>\n",
       "</div>"
      ],
      "text/plain": [
       "       y_true    y_pred\n",
       "0   -0.508864 -0.507587\n",
       "1    2.295016  2.298257\n",
       "2    0.952336  0.955154\n",
       "3    0.357611  0.359933\n",
       "4   -0.800504 -0.800884\n",
       "..        ...       ...\n",
       "635  0.526008  0.524745\n",
       "636  0.677452  0.675304\n",
       "637  0.321861  0.320346\n",
       "638 -1.066025 -1.066037\n",
       "639 -0.301855 -0.301612\n",
       "\n",
       "[640 rows x 2 columns]"
      ]
     },
     "execution_count": 8,
     "metadata": {},
     "output_type": "execute_result"
    }
   ],
   "source": [
    "import itertools\n",
    "\n",
    "res = ((np.ravel(items.numpy()), np.ravel(model(items.to(device)).detach().cpu().numpy())) \n",
    "       for i, (items, _) in enumerate(data_loader) if i < 10)\n",
    "res = map(lambda tup: [{'y_true': t, 'y_pred': p} for t, p in zip(tup[0], tup[1])], res)\n",
    "res = itertools.chain(*res)\n",
    "res = pd.DataFrame(res)\n",
    "res"
   ]
  },
  {
   "cell_type": "markdown",
   "id": "occupational-mistake",
   "metadata": {},
   "source": [
    "## Detecting outliers\n",
    "\n",
    "Now, let's see if we can detect outliers with the autoencoder. We will sample 4 data sets as follows.\n",
    "\n",
    "- $A \\sim \\mathcal{N}(\\mu_X, \\sigma_X)$\n",
    "- $B \\sim \\mathcal{N}(\\mu_X + 1, \\sigma_X)$\n",
    "- $C \\sim \\mathcal{N}(\\mu_X + 1, \\sigma_X + 2)$\n",
    "- $D \\sim \\mathcal{N}(\\mu_X + 10, \\sigma_X)$"
   ]
  },
  {
   "cell_type": "code",
   "execution_count": 9,
   "id": "brazilian-affiliation",
   "metadata": {
    "execution": {
     "iopub.execute_input": "2022-01-02T13:14:07.196672Z",
     "iopub.status.busy": "2022-01-02T13:14:07.196556Z",
     "iopub.status.idle": "2022-01-02T13:14:07.199838Z",
     "shell.execute_reply": "2022-01-02T13:14:07.199359Z",
     "shell.execute_reply.started": "2022-01-02T13:14:07.196656Z"
    }
   },
   "outputs": [],
   "source": [
    "A = np.random.normal(loc=0, scale=1, size=1_000).reshape(-1, 1)\n",
    "B = np.random.normal(loc=1, scale=1, size=1_000).reshape(-1, 1)\n",
    "C = np.random.normal(loc=1, scale=2, size=1_000).reshape(-1, 1)\n",
    "D = np.random.normal(loc=10, scale=1, size=1_000).reshape(-1, 1)"
   ]
  },
  {
   "cell_type": "markdown",
   "id": "blond-crisis",
   "metadata": {},
   "source": [
    "The mean average error from the training data $X$ may be computed and used as a threshold to consider if a new observation is an outlier or inlier. "
   ]
  },
  {
   "cell_type": "code",
   "execution_count": 10,
   "id": "joint-poker",
   "metadata": {
    "execution": {
     "iopub.execute_input": "2022-01-02T13:14:07.200539Z",
     "iopub.status.busy": "2022-01-02T13:14:07.200431Z",
     "iopub.status.idle": "2022-01-02T13:14:07.668623Z",
     "shell.execute_reply": "2022-01-02T13:14:07.668191Z",
     "shell.execute_reply.started": "2022-01-02T13:14:07.200526Z"
    }
   },
   "outputs": [
    {
     "name": "stdout",
     "output_type": "stream",
     "text": [
      "MAE = 0.00175\n"
     ]
    }
   ],
   "source": [
    "def predict(m, y_true, device):\n",
    "    y_pred = m(torch.from_numpy(y_true).to(device)).detach().cpu().item()\n",
    "    return {'y_true': y_true[0], 'y_pred': y_pred}\n",
    "\n",
    "pred_df = pd.DataFrame([predict(model, X[r,:], device) for r in range(X.shape[0])])\n",
    "mae = np.abs(pred_df.y_true - pred_df.y_pred).mean()\n",
    "print(f'MAE = {mae:.5f}')"
   ]
  },
  {
   "cell_type": "markdown",
   "id": "framed-interface",
   "metadata": {},
   "source": [
    "Detecting outliers from A. Note that 0 indicates inlier and 1 indicates outlier."
   ]
  },
  {
   "cell_type": "code",
   "execution_count": 11,
   "id": "hindu-exposure",
   "metadata": {
    "execution": {
     "iopub.execute_input": "2022-01-02T13:14:07.669306Z",
     "iopub.status.busy": "2022-01-02T13:14:07.669136Z",
     "iopub.status.idle": "2022-01-02T13:14:08.168233Z",
     "shell.execute_reply": "2022-01-02T13:14:08.167775Z",
     "shell.execute_reply.started": "2022-01-02T13:14:07.669261Z"
    }
   },
   "outputs": [
    {
     "data": {
      "text/html": [
       "<style  type=\"text/css\" >\n",
       "#T_95dea_row0_col3,#T_95dea_row4_col3,#T_95dea_row7_col3,#T_95dea_row9_col3{\n",
       "            background:  rgba(255, 0, 0, 0.5);\n",
       "        }</style><table id=\"T_95dea_\" ><thead>    <tr>        <th class=\"blank level0\" ></th>        <th class=\"col_heading level0 col0\" >y_true</th>        <th class=\"col_heading level0 col1\" >y_pred</th>        <th class=\"col_heading level0 col2\" >error</th>        <th class=\"col_heading level0 col3\" >outlier</th>    </tr></thead><tbody>\n",
       "                <tr>\n",
       "                        <th id=\"T_95dea_level0_row0\" class=\"row_heading level0 row0\" >0</th>\n",
       "                        <td id=\"T_95dea_row0_col0\" class=\"data row0 col0\" >-0.659954</td>\n",
       "                        <td id=\"T_95dea_row0_col1\" class=\"data row0 col1\" >-0.663455</td>\n",
       "                        <td id=\"T_95dea_row0_col2\" class=\"data row0 col2\" >0.003501</td>\n",
       "                        <td id=\"T_95dea_row0_col3\" class=\"data row0 col3\" >1</td>\n",
       "            </tr>\n",
       "            <tr>\n",
       "                        <th id=\"T_95dea_level0_row1\" class=\"row_heading level0 row1\" >1</th>\n",
       "                        <td id=\"T_95dea_row1_col0\" class=\"data row1 col0\" >-0.072388</td>\n",
       "                        <td id=\"T_95dea_row1_col1\" class=\"data row1 col1\" >-0.073349</td>\n",
       "                        <td id=\"T_95dea_row1_col2\" class=\"data row1 col2\" >0.000961</td>\n",
       "                        <td id=\"T_95dea_row1_col3\" class=\"data row1 col3\" >0</td>\n",
       "            </tr>\n",
       "            <tr>\n",
       "                        <th id=\"T_95dea_level0_row2\" class=\"row_heading level0 row2\" >2</th>\n",
       "                        <td id=\"T_95dea_row2_col0\" class=\"data row2 col0\" >-0.988276</td>\n",
       "                        <td id=\"T_95dea_row2_col1\" class=\"data row2 col1\" >-0.988742</td>\n",
       "                        <td id=\"T_95dea_row2_col2\" class=\"data row2 col2\" >0.000466</td>\n",
       "                        <td id=\"T_95dea_row2_col3\" class=\"data row2 col3\" >0</td>\n",
       "            </tr>\n",
       "            <tr>\n",
       "                        <th id=\"T_95dea_level0_row3\" class=\"row_heading level0 row3\" >3</th>\n",
       "                        <td id=\"T_95dea_row3_col0\" class=\"data row3 col0\" >0.510436</td>\n",
       "                        <td id=\"T_95dea_row3_col1\" class=\"data row3 col1\" >0.509313</td>\n",
       "                        <td id=\"T_95dea_row3_col2\" class=\"data row3 col2\" >0.001123</td>\n",
       "                        <td id=\"T_95dea_row3_col3\" class=\"data row3 col3\" >0</td>\n",
       "            </tr>\n",
       "            <tr>\n",
       "                        <th id=\"T_95dea_level0_row4\" class=\"row_heading level0 row4\" >4</th>\n",
       "                        <td id=\"T_95dea_row4_col0\" class=\"data row4 col0\" >0.442500</td>\n",
       "                        <td id=\"T_95dea_row4_col1\" class=\"data row4 col1\" >0.444572</td>\n",
       "                        <td id=\"T_95dea_row4_col2\" class=\"data row4 col2\" >0.002073</td>\n",
       "                        <td id=\"T_95dea_row4_col3\" class=\"data row4 col3\" >1</td>\n",
       "            </tr>\n",
       "            <tr>\n",
       "                        <th id=\"T_95dea_level0_row5\" class=\"row_heading level0 row5\" >5</th>\n",
       "                        <td id=\"T_95dea_row5_col0\" class=\"data row5 col0\" >-0.238447</td>\n",
       "                        <td id=\"T_95dea_row5_col1\" class=\"data row5 col1\" >-0.239949</td>\n",
       "                        <td id=\"T_95dea_row5_col2\" class=\"data row5 col2\" >0.001502</td>\n",
       "                        <td id=\"T_95dea_row5_col3\" class=\"data row5 col3\" >0</td>\n",
       "            </tr>\n",
       "            <tr>\n",
       "                        <th id=\"T_95dea_level0_row6\" class=\"row_heading level0 row6\" >6</th>\n",
       "                        <td id=\"T_95dea_row6_col0\" class=\"data row6 col0\" >-1.113931</td>\n",
       "                        <td id=\"T_95dea_row6_col1\" class=\"data row6 col1\" >-1.113480</td>\n",
       "                        <td id=\"T_95dea_row6_col2\" class=\"data row6 col2\" >0.000451</td>\n",
       "                        <td id=\"T_95dea_row6_col3\" class=\"data row6 col3\" >0</td>\n",
       "            </tr>\n",
       "            <tr>\n",
       "                        <th id=\"T_95dea_level0_row7\" class=\"row_heading level0 row7\" >7</th>\n",
       "                        <td id=\"T_95dea_row7_col0\" class=\"data row7 col0\" >-0.500849</td>\n",
       "                        <td id=\"T_95dea_row7_col1\" class=\"data row7 col1\" >-0.498968</td>\n",
       "                        <td id=\"T_95dea_row7_col2\" class=\"data row7 col2\" >0.001881</td>\n",
       "                        <td id=\"T_95dea_row7_col3\" class=\"data row7 col3\" >1</td>\n",
       "            </tr>\n",
       "            <tr>\n",
       "                        <th id=\"T_95dea_level0_row8\" class=\"row_heading level0 row8\" >8</th>\n",
       "                        <td id=\"T_95dea_row8_col0\" class=\"data row8 col0\" >0.486258</td>\n",
       "                        <td id=\"T_95dea_row8_col1\" class=\"data row8 col1\" >0.485348</td>\n",
       "                        <td id=\"T_95dea_row8_col2\" class=\"data row8 col2\" >0.000910</td>\n",
       "                        <td id=\"T_95dea_row8_col3\" class=\"data row8 col3\" >0</td>\n",
       "            </tr>\n",
       "            <tr>\n",
       "                        <th id=\"T_95dea_level0_row9\" class=\"row_heading level0 row9\" >9</th>\n",
       "                        <td id=\"T_95dea_row9_col0\" class=\"data row9 col0\" >-0.754691</td>\n",
       "                        <td id=\"T_95dea_row9_col1\" class=\"data row9 col1\" >-0.758206</td>\n",
       "                        <td id=\"T_95dea_row9_col2\" class=\"data row9 col2\" >0.003515</td>\n",
       "                        <td id=\"T_95dea_row9_col3\" class=\"data row9 col3\" >1</td>\n",
       "            </tr>\n",
       "    </tbody></table>"
      ],
      "text/plain": [
       "<pandas.io.formats.style.Styler at 0x7fec4c668970>"
      ]
     },
     "execution_count": 11,
     "metadata": {},
     "output_type": "execute_result"
    }
   ],
   "source": [
    "def detect_outlier(m, X, device, mae):\n",
    "    df = pd.DataFrame([predict(model, X[r,:], device) for r in range(X.shape[0])])\n",
    "    df['error'] = np.abs(df.y_true - df.y_pred)\n",
    "    df['outlier'] = df['error'].apply(lambda e: 1 if e > mae else 0)\n",
    "    return df\n",
    "\n",
    "detect_outlier(model, A, device, mae).head(n=10).style\\\n",
    "    .applymap(lambda s: 'background: rgba(255, 0, 0, 0.5)' if s == 1 else None)"
   ]
  },
  {
   "cell_type": "code",
   "execution_count": 12,
   "id": "established-edward",
   "metadata": {
    "execution": {
     "iopub.execute_input": "2022-01-02T13:14:08.168880Z",
     "iopub.status.busy": "2022-01-02T13:14:08.168748Z",
     "iopub.status.idle": "2022-01-02T13:14:08.835465Z",
     "shell.execute_reply": "2022-01-02T13:14:08.834967Z",
     "shell.execute_reply.started": "2022-01-02T13:14:08.168854Z"
    }
   },
   "outputs": [
    {
     "data": {
      "image/png": "[encoded data removed]",
      "text/plain": [
       "<Figure size 432x288 with 1 Axes>"
      ]
     },
     "metadata": {},
     "output_type": "display_data"
    }
   ],
   "source": [
    "_ = detect_outlier(model, A, device, mae)['outlier']\\\n",
    "    .value_counts()\\\n",
    "    .sort_index()\\\n",
    "    .plot(kind='bar', title=r'$A \\sim \\mathcal{N}(\\mu_X, \\sigma_X)$ outliers')"
   ]
  },
  {
   "cell_type": "markdown",
   "id": "opposed-aspect",
   "metadata": {},
   "source": [
    "Detecting outliers from B."
   ]
  },
  {
   "cell_type": "code",
   "execution_count": 13,
   "id": "scenic-bicycle",
   "metadata": {
    "execution": {
     "iopub.execute_input": "2022-01-02T13:14:08.836524Z",
     "iopub.status.busy": "2022-01-02T13:14:08.836304Z",
     "iopub.status.idle": "2022-01-02T13:14:09.333782Z",
     "shell.execute_reply": "2022-01-02T13:14:09.333401Z",
     "shell.execute_reply.started": "2022-01-02T13:14:08.836503Z"
    }
   },
   "outputs": [
    {
     "data": {
      "text/html": [
       "<style  type=\"text/css\" >\n",
       "#T_b17c0_row0_col3,#T_b17c0_row1_col3,#T_b17c0_row9_col3{\n",
       "            background:  rgba(255, 0, 0, 0.5);\n",
       "        }</style><table id=\"T_b17c0_\" ><thead>    <tr>        <th class=\"blank level0\" ></th>        <th class=\"col_heading level0 col0\" >y_true</th>        <th class=\"col_heading level0 col1\" >y_pred</th>        <th class=\"col_heading level0 col2\" >error</th>        <th class=\"col_heading level0 col3\" >outlier</th>    </tr></thead><tbody>\n",
       "                <tr>\n",
       "                        <th id=\"T_b17c0_level0_row0\" class=\"row_heading level0 row0\" >0</th>\n",
       "                        <td id=\"T_b17c0_row0_col0\" class=\"data row0 col0\" >1.054522</td>\n",
       "                        <td id=\"T_b17c0_row0_col1\" class=\"data row0 col1\" >1.052046</td>\n",
       "                        <td id=\"T_b17c0_row0_col2\" class=\"data row0 col2\" >0.002475</td>\n",
       "                        <td id=\"T_b17c0_row0_col3\" class=\"data row0 col3\" >1</td>\n",
       "            </tr>\n",
       "            <tr>\n",
       "                        <th id=\"T_b17c0_level0_row1\" class=\"row_heading level0 row1\" >1</th>\n",
       "                        <td id=\"T_b17c0_row1_col0\" class=\"data row1 col0\" >-0.118952</td>\n",
       "                        <td id=\"T_b17c0_row1_col1\" class=\"data row1 col1\" >-0.120751</td>\n",
       "                        <td id=\"T_b17c0_row1_col2\" class=\"data row1 col2\" >0.001799</td>\n",
       "                        <td id=\"T_b17c0_row1_col3\" class=\"data row1 col3\" >1</td>\n",
       "            </tr>\n",
       "            <tr>\n",
       "                        <th id=\"T_b17c0_level0_row2\" class=\"row_heading level0 row2\" >2</th>\n",
       "                        <td id=\"T_b17c0_row2_col0\" class=\"data row2 col0\" >0.781712</td>\n",
       "                        <td id=\"T_b17c0_row2_col1\" class=\"data row2 col1\" >0.781686</td>\n",
       "                        <td id=\"T_b17c0_row2_col2\" class=\"data row2 col2\" >0.000025</td>\n",
       "                        <td id=\"T_b17c0_row2_col3\" class=\"data row2 col3\" >0</td>\n",
       "            </tr>\n",
       "            <tr>\n",
       "                        <th id=\"T_b17c0_level0_row3\" class=\"row_heading level0 row3\" >3</th>\n",
       "                        <td id=\"T_b17c0_row3_col0\" class=\"data row3 col0\" >-0.947611</td>\n",
       "                        <td id=\"T_b17c0_row3_col1\" class=\"data row3 col1\" >-0.947822</td>\n",
       "                        <td id=\"T_b17c0_row3_col2\" class=\"data row3 col2\" >0.000211</td>\n",
       "                        <td id=\"T_b17c0_row3_col3\" class=\"data row3 col3\" >0</td>\n",
       "            </tr>\n",
       "            <tr>\n",
       "                        <th id=\"T_b17c0_level0_row4\" class=\"row_heading level0 row4\" >4</th>\n",
       "                        <td id=\"T_b17c0_row4_col0\" class=\"data row4 col0\" >1.566011</td>\n",
       "                        <td id=\"T_b17c0_row4_col1\" class=\"data row4 col1\" >1.565508</td>\n",
       "                        <td id=\"T_b17c0_row4_col2\" class=\"data row4 col2\" >0.000504</td>\n",
       "                        <td id=\"T_b17c0_row4_col3\" class=\"data row4 col3\" >0</td>\n",
       "            </tr>\n",
       "            <tr>\n",
       "                        <th id=\"T_b17c0_level0_row5\" class=\"row_heading level0 row5\" >5</th>\n",
       "                        <td id=\"T_b17c0_row5_col0\" class=\"data row5 col0\" >1.937544</td>\n",
       "                        <td id=\"T_b17c0_row5_col1\" class=\"data row5 col1\" >1.936715</td>\n",
       "                        <td id=\"T_b17c0_row5_col2\" class=\"data row5 col2\" >0.000829</td>\n",
       "                        <td id=\"T_b17c0_row5_col3\" class=\"data row5 col3\" >0</td>\n",
       "            </tr>\n",
       "            <tr>\n",
       "                        <th id=\"T_b17c0_level0_row6\" class=\"row_heading level0 row6\" >6</th>\n",
       "                        <td id=\"T_b17c0_row6_col0\" class=\"data row6 col0\" >-1.634584</td>\n",
       "                        <td id=\"T_b17c0_row6_col1\" class=\"data row6 col1\" >-1.636273</td>\n",
       "                        <td id=\"T_b17c0_row6_col2\" class=\"data row6 col2\" >0.001689</td>\n",
       "                        <td id=\"T_b17c0_row6_col3\" class=\"data row6 col3\" >0</td>\n",
       "            </tr>\n",
       "            <tr>\n",
       "                        <th id=\"T_b17c0_level0_row7\" class=\"row_heading level0 row7\" >7</th>\n",
       "                        <td id=\"T_b17c0_row7_col0\" class=\"data row7 col0\" >1.241298</td>\n",
       "                        <td id=\"T_b17c0_row7_col1\" class=\"data row7 col1\" >1.240053</td>\n",
       "                        <td id=\"T_b17c0_row7_col2\" class=\"data row7 col2\" >0.001245</td>\n",
       "                        <td id=\"T_b17c0_row7_col3\" class=\"data row7 col3\" >0</td>\n",
       "            </tr>\n",
       "            <tr>\n",
       "                        <th id=\"T_b17c0_level0_row8\" class=\"row_heading level0 row8\" >8</th>\n",
       "                        <td id=\"T_b17c0_row8_col0\" class=\"data row8 col0\" >1.521333</td>\n",
       "                        <td id=\"T_b17c0_row8_col1\" class=\"data row8 col1\" >1.520347</td>\n",
       "                        <td id=\"T_b17c0_row8_col2\" class=\"data row8 col2\" >0.000986</td>\n",
       "                        <td id=\"T_b17c0_row8_col3\" class=\"data row8 col3\" >0</td>\n",
       "            </tr>\n",
       "            <tr>\n",
       "                        <th id=\"T_b17c0_level0_row9\" class=\"row_heading level0 row9\" >9</th>\n",
       "                        <td id=\"T_b17c0_row9_col0\" class=\"data row9 col0\" >3.097915</td>\n",
       "                        <td id=\"T_b17c0_row9_col1\" class=\"data row9 col1\" >3.075820</td>\n",
       "                        <td id=\"T_b17c0_row9_col2\" class=\"data row9 col2\" >0.022095</td>\n",
       "                        <td id=\"T_b17c0_row9_col3\" class=\"data row9 col3\" >1</td>\n",
       "            </tr>\n",
       "    </tbody></table>"
      ],
      "text/plain": [
       "<pandas.io.formats.style.Styler at 0x7feb300c6a60>"
      ]
     },
     "execution_count": 13,
     "metadata": {},
     "output_type": "execute_result"
    }
   ],
   "source": [
    "detect_outlier(model, B, device, mae).head(n=10).style\\\n",
    "    .applymap(lambda s: 'background: rgba(255, 0, 0, 0.5)' if s == 1 else None)"
   ]
  },
  {
   "cell_type": "code",
   "execution_count": 14,
   "id": "loved-consultancy",
   "metadata": {
    "execution": {
     "iopub.execute_input": "2022-01-02T13:14:09.334372Z",
     "iopub.status.busy": "2022-01-02T13:14:09.334270Z",
     "iopub.status.idle": "2022-01-02T13:14:09.873405Z",
     "shell.execute_reply": "2022-01-02T13:14:09.873036Z",
     "shell.execute_reply.started": "2022-01-02T13:14:09.334359Z"
    }
   },
   "outputs": [
    {
     "data": {
      "image/png": "[encoded data removed]",
      "text/plain": [
       "<Figure size 432x288 with 1 Axes>"
      ]
     },
     "metadata": {},
     "output_type": "display_data"
    }
   ],
   "source": [
    "_ = detect_outlier(model, B, device, mae)['outlier']\\\n",
    "    .value_counts()\\\n",
    "    .sort_index()\\\n",
    "    .plot(kind='bar', title=r'$B \\sim \\mathcal{N}(\\mu_X + 1, \\sigma_X)$ outliers')"
   ]
  },
  {
   "cell_type": "markdown",
   "id": "considerable-terrorism",
   "metadata": {},
   "source": [
    "Detecting outliers from C."
   ]
  },
  {
   "cell_type": "code",
   "execution_count": 15,
   "id": "sensitive-indianapolis",
   "metadata": {
    "execution": {
     "iopub.execute_input": "2022-01-02T13:14:09.874363Z",
     "iopub.status.busy": "2022-01-02T13:14:09.874192Z",
     "iopub.status.idle": "2022-01-02T13:14:10.381326Z",
     "shell.execute_reply": "2022-01-02T13:14:10.380932Z",
     "shell.execute_reply.started": "2022-01-02T13:14:09.874341Z"
    }
   },
   "outputs": [
    {
     "data": {
      "text/html": [
       "<style  type=\"text/css\" >\n",
       "#T_15ef9_row3_col3,#T_15ef9_row5_col3,#T_15ef9_row6_col3,#T_15ef9_row8_col3,#T_15ef9_row9_col3{\n",
       "            background:  rgba(255, 0, 0, 0.5);\n",
       "        }</style><table id=\"T_15ef9_\" ><thead>    <tr>        <th class=\"blank level0\" ></th>        <th class=\"col_heading level0 col0\" >y_true</th>        <th class=\"col_heading level0 col1\" >y_pred</th>        <th class=\"col_heading level0 col2\" >error</th>        <th class=\"col_heading level0 col3\" >outlier</th>    </tr></thead><tbody>\n",
       "                <tr>\n",
       "                        <th id=\"T_15ef9_level0_row0\" class=\"row_heading level0 row0\" >0</th>\n",
       "                        <td id=\"T_15ef9_row0_col0\" class=\"data row0 col0\" >-1.326775</td>\n",
       "                        <td id=\"T_15ef9_row0_col1\" class=\"data row0 col1\" >-1.327718</td>\n",
       "                        <td id=\"T_15ef9_row0_col2\" class=\"data row0 col2\" >0.000943</td>\n",
       "                        <td id=\"T_15ef9_row0_col3\" class=\"data row0 col3\" >0</td>\n",
       "            </tr>\n",
       "            <tr>\n",
       "                        <th id=\"T_15ef9_level0_row1\" class=\"row_heading level0 row1\" >1</th>\n",
       "                        <td id=\"T_15ef9_row1_col0\" class=\"data row1 col0\" >0.833414</td>\n",
       "                        <td id=\"T_15ef9_row1_col1\" class=\"data row1 col1\" >0.833913</td>\n",
       "                        <td id=\"T_15ef9_row1_col2\" class=\"data row1 col2\" >0.000500</td>\n",
       "                        <td id=\"T_15ef9_row1_col3\" class=\"data row1 col3\" >0</td>\n",
       "            </tr>\n",
       "            <tr>\n",
       "                        <th id=\"T_15ef9_level0_row2\" class=\"row_heading level0 row2\" >2</th>\n",
       "                        <td id=\"T_15ef9_row2_col0\" class=\"data row2 col0\" >-0.872608</td>\n",
       "                        <td id=\"T_15ef9_row2_col1\" class=\"data row2 col1\" >-0.871269</td>\n",
       "                        <td id=\"T_15ef9_row2_col2\" class=\"data row2 col2\" >0.001340</td>\n",
       "                        <td id=\"T_15ef9_row2_col3\" class=\"data row2 col3\" >0</td>\n",
       "            </tr>\n",
       "            <tr>\n",
       "                        <th id=\"T_15ef9_level0_row3\" class=\"row_heading level0 row3\" >3</th>\n",
       "                        <td id=\"T_15ef9_row3_col0\" class=\"data row3 col0\" >3.983235</td>\n",
       "                        <td id=\"T_15ef9_row3_col1\" class=\"data row3 col1\" >3.870642</td>\n",
       "                        <td id=\"T_15ef9_row3_col2\" class=\"data row3 col2\" >0.112593</td>\n",
       "                        <td id=\"T_15ef9_row3_col3\" class=\"data row3 col3\" >1</td>\n",
       "            </tr>\n",
       "            <tr>\n",
       "                        <th id=\"T_15ef9_level0_row4\" class=\"row_heading level0 row4\" >4</th>\n",
       "                        <td id=\"T_15ef9_row4_col0\" class=\"data row4 col0\" >-1.085848</td>\n",
       "                        <td id=\"T_15ef9_row4_col1\" class=\"data row4 col1\" >-1.085467</td>\n",
       "                        <td id=\"T_15ef9_row4_col2\" class=\"data row4 col2\" >0.000382</td>\n",
       "                        <td id=\"T_15ef9_row4_col3\" class=\"data row4 col3\" >0</td>\n",
       "            </tr>\n",
       "            <tr>\n",
       "                        <th id=\"T_15ef9_level0_row5\" class=\"row_heading level0 row5\" >5</th>\n",
       "                        <td id=\"T_15ef9_row5_col0\" class=\"data row5 col0\" >0.385625</td>\n",
       "                        <td id=\"T_15ef9_row5_col1\" class=\"data row5 col1\" >0.389884</td>\n",
       "                        <td id=\"T_15ef9_row5_col2\" class=\"data row5 col2\" >0.004259</td>\n",
       "                        <td id=\"T_15ef9_row5_col3\" class=\"data row5 col3\" >1</td>\n",
       "            </tr>\n",
       "            <tr>\n",
       "                        <th id=\"T_15ef9_level0_row6\" class=\"row_heading level0 row6\" >6</th>\n",
       "                        <td id=\"T_15ef9_row6_col0\" class=\"data row6 col0\" >2.213190</td>\n",
       "                        <td id=\"T_15ef9_row6_col1\" class=\"data row6 col1\" >2.214973</td>\n",
       "                        <td id=\"T_15ef9_row6_col2\" class=\"data row6 col2\" >0.001783</td>\n",
       "                        <td id=\"T_15ef9_row6_col3\" class=\"data row6 col3\" >1</td>\n",
       "            </tr>\n",
       "            <tr>\n",
       "                        <th id=\"T_15ef9_level0_row7\" class=\"row_heading level0 row7\" >7</th>\n",
       "                        <td id=\"T_15ef9_row7_col0\" class=\"data row7 col0\" >0.457719</td>\n",
       "                        <td id=\"T_15ef9_row7_col1\" class=\"data row7 col1\" >0.458371</td>\n",
       "                        <td id=\"T_15ef9_row7_col2\" class=\"data row7 col2\" >0.000652</td>\n",
       "                        <td id=\"T_15ef9_row7_col3\" class=\"data row7 col3\" >0</td>\n",
       "            </tr>\n",
       "            <tr>\n",
       "                        <th id=\"T_15ef9_level0_row8\" class=\"row_heading level0 row8\" >8</th>\n",
       "                        <td id=\"T_15ef9_row8_col0\" class=\"data row8 col0\" >2.334519</td>\n",
       "                        <td id=\"T_15ef9_row8_col1\" class=\"data row8 col1\" >2.337720</td>\n",
       "                        <td id=\"T_15ef9_row8_col2\" class=\"data row8 col2\" >0.003201</td>\n",
       "                        <td id=\"T_15ef9_row8_col3\" class=\"data row8 col3\" >1</td>\n",
       "            </tr>\n",
       "            <tr>\n",
       "                        <th id=\"T_15ef9_level0_row9\" class=\"row_heading level0 row9\" >9</th>\n",
       "                        <td id=\"T_15ef9_row9_col0\" class=\"data row9 col0\" >-0.450000</td>\n",
       "                        <td id=\"T_15ef9_row9_col1\" class=\"data row9 col1\" >-0.447052</td>\n",
       "                        <td id=\"T_15ef9_row9_col2\" class=\"data row9 col2\" >0.002949</td>\n",
       "                        <td id=\"T_15ef9_row9_col3\" class=\"data row9 col3\" >1</td>\n",
       "            </tr>\n",
       "    </tbody></table>"
      ],
      "text/plain": [
       "<pandas.io.formats.style.Styler at 0x7feb301d0250>"
      ]
     },
     "execution_count": 15,
     "metadata": {},
     "output_type": "execute_result"
    }
   ],
   "source": [
    "detect_outlier(model, C, device, mae).head(n=10).style\\\n",
    "    .applymap(lambda s: 'background: rgba(255, 0, 0, 0.5)' if s == 1 else None)"
   ]
  },
  {
   "cell_type": "code",
   "execution_count": 16,
   "id": "recent-abortion",
   "metadata": {
    "execution": {
     "iopub.execute_input": "2022-01-02T13:14:10.381993Z",
     "iopub.status.busy": "2022-01-02T13:14:10.381863Z",
     "iopub.status.idle": "2022-01-02T13:14:10.940467Z",
     "shell.execute_reply": "2022-01-02T13:14:10.939978Z",
     "shell.execute_reply.started": "2022-01-02T13:14:10.381980Z"
    }
   },
   "outputs": [
    {
     "data": {
      "image/png": "[encoded data removed]",
      "text/plain": [
       "<Figure size 432x288 with 1 Axes>"
      ]
     },
     "metadata": {},
     "output_type": "display_data"
    }
   ],
   "source": [
    "_ = detect_outlier(model, C, device, mae)['outlier']\\\n",
    "    .value_counts()\\\n",
    "    .sort_index()\\\n",
    "    .plot(kind='bar', title=r'$C \\sim \\mathcal{N}(\\mu_X + 1, \\sigma_X + 2)$ outliers')"
   ]
  },
  {
   "cell_type": "markdown",
   "id": "criminal-mirror",
   "metadata": {},
   "source": [
    "Detecting outliers from D."
   ]
  },
  {
   "cell_type": "code",
   "execution_count": 17,
   "id": "universal-professional",
   "metadata": {
    "execution": {
     "iopub.execute_input": "2022-01-02T13:14:10.941117Z",
     "iopub.status.busy": "2022-01-02T13:14:10.941002Z",
     "iopub.status.idle": "2022-01-02T13:14:11.431174Z",
     "shell.execute_reply": "2022-01-02T13:14:11.430817Z",
     "shell.execute_reply.started": "2022-01-02T13:14:10.941102Z"
    }
   },
   "outputs": [
    {
     "data": {
      "text/html": [
       "<style  type=\"text/css\" >\n",
       "#T_64b8c_row0_col3,#T_64b8c_row1_col3,#T_64b8c_row2_col3,#T_64b8c_row3_col3,#T_64b8c_row4_col3,#T_64b8c_row5_col3,#T_64b8c_row6_col3,#T_64b8c_row7_col3,#T_64b8c_row8_col3,#T_64b8c_row9_col3{\n",
       "            background:  rgba(255, 0, 0, 0.5);\n",
       "        }</style><table id=\"T_64b8c_\" ><thead>    <tr>        <th class=\"blank level0\" ></th>        <th class=\"col_heading level0 col0\" >y_true</th>        <th class=\"col_heading level0 col1\" >y_pred</th>        <th class=\"col_heading level0 col2\" >error</th>        <th class=\"col_heading level0 col3\" >outlier</th>    </tr></thead><tbody>\n",
       "                <tr>\n",
       "                        <th id=\"T_64b8c_level0_row0\" class=\"row_heading level0 row0\" >0</th>\n",
       "                        <td id=\"T_64b8c_row0_col0\" class=\"data row0 col0\" >11.090525</td>\n",
       "                        <td id=\"T_64b8c_row0_col1\" class=\"data row0 col1\" >10.215066</td>\n",
       "                        <td id=\"T_64b8c_row0_col2\" class=\"data row0 col2\" >0.875459</td>\n",
       "                        <td id=\"T_64b8c_row0_col3\" class=\"data row0 col3\" >1</td>\n",
       "            </tr>\n",
       "            <tr>\n",
       "                        <th id=\"T_64b8c_level0_row1\" class=\"row_heading level0 row1\" >1</th>\n",
       "                        <td id=\"T_64b8c_row1_col0\" class=\"data row1 col0\" >9.474894</td>\n",
       "                        <td id=\"T_64b8c_row1_col1\" class=\"data row1 col1\" >8.776244</td>\n",
       "                        <td id=\"T_64b8c_row1_col2\" class=\"data row1 col2\" >0.698650</td>\n",
       "                        <td id=\"T_64b8c_row1_col3\" class=\"data row1 col3\" >1</td>\n",
       "            </tr>\n",
       "            <tr>\n",
       "                        <th id=\"T_64b8c_level0_row2\" class=\"row_heading level0 row2\" >2</th>\n",
       "                        <td id=\"T_64b8c_row2_col0\" class=\"data row2 col0\" >9.906585</td>\n",
       "                        <td id=\"T_64b8c_row2_col1\" class=\"data row2 col1\" >9.160721</td>\n",
       "                        <td id=\"T_64b8c_row2_col2\" class=\"data row2 col2\" >0.745864</td>\n",
       "                        <td id=\"T_64b8c_row2_col3\" class=\"data row2 col3\" >1</td>\n",
       "            </tr>\n",
       "            <tr>\n",
       "                        <th id=\"T_64b8c_level0_row3\" class=\"row_heading level0 row3\" >3</th>\n",
       "                        <td id=\"T_64b8c_row3_col0\" class=\"data row3 col0\" >10.568700</td>\n",
       "                        <td id=\"T_64b8c_row3_col1\" class=\"data row3 col1\" >9.750421</td>\n",
       "                        <td id=\"T_64b8c_row3_col2\" class=\"data row3 col2\" >0.818279</td>\n",
       "                        <td id=\"T_64b8c_row3_col3\" class=\"data row3 col3\" >1</td>\n",
       "            </tr>\n",
       "            <tr>\n",
       "                        <th id=\"T_64b8c_level0_row4\" class=\"row_heading level0 row4\" >4</th>\n",
       "                        <td id=\"T_64b8c_row4_col0\" class=\"data row4 col0\" >8.904352</td>\n",
       "                        <td id=\"T_64b8c_row4_col1\" class=\"data row4 col1\" >8.268102</td>\n",
       "                        <td id=\"T_64b8c_row4_col2\" class=\"data row4 col2\" >0.636249</td>\n",
       "                        <td id=\"T_64b8c_row4_col3\" class=\"data row4 col3\" >1</td>\n",
       "            </tr>\n",
       "            <tr>\n",
       "                        <th id=\"T_64b8c_level0_row5\" class=\"row_heading level0 row5\" >5</th>\n",
       "                        <td id=\"T_64b8c_row5_col0\" class=\"data row5 col0\" >10.612258</td>\n",
       "                        <td id=\"T_64b8c_row5_col1\" class=\"data row5 col1\" >9.789214</td>\n",
       "                        <td id=\"T_64b8c_row5_col2\" class=\"data row5 col2\" >0.823043</td>\n",
       "                        <td id=\"T_64b8c_row5_col3\" class=\"data row5 col3\" >1</td>\n",
       "            </tr>\n",
       "            <tr>\n",
       "                        <th id=\"T_64b8c_level0_row6\" class=\"row_heading level0 row6\" >6</th>\n",
       "                        <td id=\"T_64b8c_row6_col0\" class=\"data row6 col0\" >7.439080</td>\n",
       "                        <td id=\"T_64b8c_row6_col1\" class=\"data row6 col1\" >6.959486</td>\n",
       "                        <td id=\"T_64b8c_row6_col2\" class=\"data row6 col2\" >0.479594</td>\n",
       "                        <td id=\"T_64b8c_row6_col3\" class=\"data row6 col3\" >1</td>\n",
       "            </tr>\n",
       "            <tr>\n",
       "                        <th id=\"T_64b8c_level0_row7\" class=\"row_heading level0 row7\" >7</th>\n",
       "                        <td id=\"T_64b8c_row7_col0\" class=\"data row7 col0\" >10.321630</td>\n",
       "                        <td id=\"T_64b8c_row7_col1\" class=\"data row7 col1\" >9.530373</td>\n",
       "                        <td id=\"T_64b8c_row7_col2\" class=\"data row7 col2\" >0.791257</td>\n",
       "                        <td id=\"T_64b8c_row7_col3\" class=\"data row7 col3\" >1</td>\n",
       "            </tr>\n",
       "            <tr>\n",
       "                        <th id=\"T_64b8c_level0_row8\" class=\"row_heading level0 row8\" >8</th>\n",
       "                        <td id=\"T_64b8c_row8_col0\" class=\"data row8 col0\" >10.054895</td>\n",
       "                        <td id=\"T_64b8c_row8_col1\" class=\"data row8 col1\" >9.292811</td>\n",
       "                        <td id=\"T_64b8c_row8_col2\" class=\"data row8 col2\" >0.762084</td>\n",
       "                        <td id=\"T_64b8c_row8_col3\" class=\"data row8 col3\" >1</td>\n",
       "            </tr>\n",
       "            <tr>\n",
       "                        <th id=\"T_64b8c_level0_row9\" class=\"row_heading level0 row9\" >9</th>\n",
       "                        <td id=\"T_64b8c_row9_col0\" class=\"data row9 col0\" >9.925478</td>\n",
       "                        <td id=\"T_64b8c_row9_col1\" class=\"data row9 col1\" >9.177548</td>\n",
       "                        <td id=\"T_64b8c_row9_col2\" class=\"data row9 col2\" >0.747930</td>\n",
       "                        <td id=\"T_64b8c_row9_col3\" class=\"data row9 col3\" >1</td>\n",
       "            </tr>\n",
       "    </tbody></table>"
      ],
      "text/plain": [
       "<pandas.io.formats.style.Styler at 0x7fead0709130>"
      ]
     },
     "execution_count": 17,
     "metadata": {},
     "output_type": "execute_result"
    }
   ],
   "source": [
    "detect_outlier(model, D, device, mae).head(n=10).style\\\n",
    "    .applymap(lambda s: 'background: rgba(255, 0, 0, 0.5)' if s == 1 else None)"
   ]
  },
  {
   "cell_type": "code",
   "execution_count": 18,
   "id": "eastern-lancaster",
   "metadata": {
    "execution": {
     "iopub.execute_input": "2022-01-02T13:14:11.431790Z",
     "iopub.status.busy": "2022-01-02T13:14:11.431685Z",
     "iopub.status.idle": "2022-01-02T13:14:11.980823Z",
     "shell.execute_reply": "2022-01-02T13:14:11.980423Z",
     "shell.execute_reply.started": "2022-01-02T13:14:11.431776Z"
    }
   },
   "outputs": [
    {
     "data": {
      "image/png": "[encoded data removed]",
      "text/plain": [
       "<Figure size 432x288 with 1 Axes>"
      ]
     },
     "metadata": {},
     "output_type": "display_data"
    }
   ],
   "source": [
    "_ = detect_outlier(model, D, device, mae)['outlier']\\\n",
    "    .value_counts()\\\n",
    "    .sort_index()\\\n",
    "    .plot(kind='bar', title=r'$D \\sim \\mathcal{N}(\\mu_X + 10, \\sigma_X)$ outliers')"
   ]
  },
  {
   "cell_type": "markdown",
   "id": "earlier-reception",
   "metadata": {},
   "source": [
    "As we get get farther from $X$, going from $A$ to $D$, more and more of the samples are considered as outliers."
   ]
  }
 ],
 "metadata": {
  "kernelspec": {
   "display_name": "Python 3",
   "language": "python",
   "name": "python3"
  },
  "language_info": {
   "codemirror_mode": {
    "name": "ipython",
    "version": 3
   },
   "file_extension": ".py",
   "mimetype": "text/x-python",
   "name": "python",
   "nbconvert_exporter": "python",
   "pygments_lexer": "ipython3",
   "version": "3.8.5"
  },
  "widgets": {
   "application/vnd.jupyter.widget-state+json": {
    "state": {},
    "version_major": 2,
    "version_minor": 0
   }
  }
 },
 "nbformat": 4,
 "nbformat_minor": 5
}
