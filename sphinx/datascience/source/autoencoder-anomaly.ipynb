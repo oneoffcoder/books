{
 "cells": [
  {
   "cell_type": "markdown",
   "id": "wound-greek",
   "metadata": {},
   "source": [
    "# Outlier Detection with Autoencoders\n",
    "\n",
    "Autoencoders are a type of deep-learning architectures that are used to learn how to compress and decompress data faithfully. The compression layers are referred to as the encoding layers, and the decompression layers are referred to as the decoding layers. Conceptually, when we are encoding data, we are squeezing the n-dimensional data vector to successively smaller dimensionsional space representation. If a vector is 256 in length (or has 256 dimensions), we might have successive layers to encode this vector into 128, 64, 36, 18 and 9 dimensions. These smaller dimensional space are said to be `latent` space, or higher-order (although they are lower dimensions) space. The second part of the autoencoder architecture are the decoding layers, which is essentially a reversal of the encoding layers. In the example here, we will have layers that builds the 9-dimensional vector to 18, 36, 64, 128 and 256 dimensions. A lot of the information is lost during encoding, but this information may be looked at as noise or non-essential. Once we are done with encoding, what remains is the essential information to reconstruct the input vector, and the decoding layers attempts to reconstruct the output to be like the input based on the essential information. \n",
    "\n",
    "Autoencoders may be useful for a variety of things, including, anomaly or outlier/inlier detection. We may train an autoencoder on inliers and compute the expected error for inliers. When a new observation comes through, we feed this observation into the autoencoder and compute its reconstruction error; if it is different above a threshold from the expected error for inliers, then such observation may be considered an outlier. Let's see how autoencoders may be used to detect outliers and inliers."
   ]
  },
  {
   "cell_type": "markdown",
   "id": "possible-coast",
   "metadata": {},
   "source": [
    "## Data\n",
    "\n",
    "The data is sampled from $X \\sim \\mathcal{N}(0, 1)$."
   ]
  },
  {
   "cell_type": "code",
   "execution_count": 1,
   "id": "excited-aquatic",
   "metadata": {
    "execution": {
     "iopub.execute_input": "2022-01-02T07:36:16.596971Z",
     "iopub.status.busy": "2022-01-02T07:36:16.596254Z",
     "iopub.status.idle": "2022-01-02T07:36:16.753151Z",
     "shell.execute_reply": "2022-01-02T07:36:16.752642Z",
     "shell.execute_reply.started": "2022-01-02T07:36:16.596783Z"
    }
   },
   "outputs": [
    {
     "name": "stdout",
     "output_type": "stream",
     "text": [
      "X shape = (1000, 1)\n"
     ]
    }
   ],
   "source": [
    "import numpy as np\n",
    "import pandas as pd\n",
    "import random as rand\n",
    "\n",
    "np.random.seed(37)\n",
    "rand.seed(37)\n",
    "\n",
    "X = np.random.normal(loc=0, scale=1, size=1_000).reshape(-1, 1)\n",
    "\n",
    "print(f'X shape = {X.shape}')"
   ]
  },
  {
   "cell_type": "markdown",
   "id": "worldwide-narrow",
   "metadata": {},
   "source": [
    "## Dataset and Data Loader\n",
    "\n",
    "We will use PyTorch to build an autoencoder, and as such, will construct a dataset and data loader from the sampled data."
   ]
  },
  {
   "cell_type": "code",
   "execution_count": 2,
   "id": "seeing-stations",
   "metadata": {
    "execution": {
     "iopub.execute_input": "2022-01-02T07:36:16.754288Z",
     "iopub.status.busy": "2022-01-02T07:36:16.754170Z",
     "iopub.status.idle": "2022-01-02T07:36:17.293351Z",
     "shell.execute_reply": "2022-01-02T07:36:17.292871Z",
     "shell.execute_reply.started": "2022-01-02T07:36:16.754273Z"
    }
   },
   "outputs": [
    {
     "name": "stdout",
     "output_type": "stream",
     "text": [
      "cuda\n"
     ]
    }
   ],
   "source": [
    "import torch\n",
    "from torch.utils.data import Dataset, DataLoader\n",
    "from torchvision.transforms import *\n",
    "\n",
    "class GaussianDataset(Dataset):\n",
    "    def __init__(self, X, device, clazz=0):\n",
    "        self.__device = device\n",
    "        self.__clazz = clazz\n",
    "        self.__X = X\n",
    "\n",
    "    def __len__(self):\n",
    "        return self.__X.shape[0]\n",
    "\n",
    "    def __getitem__(self, idx):\n",
    "        item = self.__X[idx,:]\n",
    "        \n",
    "        return item, self.__clazz\n",
    "\n",
    "device = torch.device('cuda') if torch.cuda.is_available() else torch.device('cpu')\n",
    "print(device)\n",
    "\n",
    "dataset = GaussianDataset(X=X, device=device)\n",
    "data_loader = DataLoader(dataset, batch_size=64, shuffle=True, num_workers=1)"
   ]
  },
  {
   "cell_type": "markdown",
   "id": "oriental-diploma",
   "metadata": {},
   "source": [
    "## Autoencoder architecture\n",
    "\n",
    "Look at the architecture in this autoencoder; it has 5 encoding layers and 5 decoding layers. All activation layers between these layers are ReLU."
   ]
  },
  {
   "cell_type": "code",
   "execution_count": 3,
   "id": "velvet-plate",
   "metadata": {
    "execution": {
     "iopub.execute_input": "2022-01-02T07:36:17.294245Z",
     "iopub.status.busy": "2022-01-02T07:36:17.294130Z",
     "iopub.status.idle": "2022-01-02T07:36:17.299350Z",
     "shell.execute_reply": "2022-01-02T07:36:17.298846Z",
     "shell.execute_reply.started": "2022-01-02T07:36:17.294230Z"
    }
   },
   "outputs": [],
   "source": [
    "from torchvision import datasets\n",
    "from torchvision import transforms\n",
    "\n",
    "class AE(torch.nn.Module):\n",
    "    def __init__(self, input_size):\n",
    "        super().__init__()\n",
    "          \n",
    "        self.encoder = torch.nn.Sequential(\n",
    "            torch.nn.Linear(input_size, 128),\n",
    "            torch.nn.ReLU(),\n",
    "            torch.nn.Linear(128, 64),\n",
    "            torch.nn.ReLU(),\n",
    "            torch.nn.Linear(64, 36),\n",
    "            torch.nn.ReLU(),\n",
    "            torch.nn.Linear(36, 18),\n",
    "            torch.nn.ReLU(),\n",
    "            torch.nn.Linear(18, 9)\n",
    "        )\n",
    "          \n",
    "        self.decoder = torch.nn.Sequential(\n",
    "            torch.nn.Linear(9, 18),\n",
    "            torch.nn.ReLU(),\n",
    "            torch.nn.Linear(18, 36),\n",
    "            torch.nn.ReLU(),\n",
    "            torch.nn.Linear(36, 64),\n",
    "            torch.nn.ReLU(),\n",
    "            torch.nn.Linear(64, 128),\n",
    "            torch.nn.ReLU(),\n",
    "            torch.nn.Linear(128, input_size)\n",
    "        )\n",
    "  \n",
    "    def forward(self, x):\n",
    "        encoded = self.encoder(x)\n",
    "        decoded = self.decoder(encoded)\n",
    "        return decoded"
   ]
  },
  {
   "cell_type": "markdown",
   "id": "enabling-prefix",
   "metadata": {},
   "source": [
    "## Learning\n",
    "\n",
    "We will define our loss function to be mean-squared error (MSE) and use the Adam optimizer."
   ]
  },
  {
   "cell_type": "code",
   "execution_count": 4,
   "id": "antique-currency",
   "metadata": {
    "execution": {
     "iopub.execute_input": "2022-01-02T07:36:17.300017Z",
     "iopub.status.busy": "2022-01-02T07:36:17.299875Z",
     "iopub.status.idle": "2022-01-02T07:36:19.118418Z",
     "shell.execute_reply": "2022-01-02T07:36:19.118040Z",
     "shell.execute_reply.started": "2022-01-02T07:36:17.299988Z"
    }
   },
   "outputs": [],
   "source": [
    "model = AE(input_size=X.shape[1]).double().to(device)\n",
    "loss_function = torch.nn.MSELoss()\n",
    "optimizer = torch.optim.Adam(model.parameters(), lr=1e-3, weight_decay=1e-8)"
   ]
  },
  {
   "cell_type": "code",
   "execution_count": 5,
   "id": "generic-mileage",
   "metadata": {
    "execution": {
     "iopub.execute_input": "2022-01-02T07:36:19.119014Z",
     "iopub.status.busy": "2022-01-02T07:36:19.118901Z",
     "iopub.status.idle": "2022-01-02T07:36:21.836109Z",
     "shell.execute_reply": "2022-01-02T07:36:21.835513Z",
     "shell.execute_reply.started": "2022-01-02T07:36:19.119000Z"
    }
   },
   "outputs": [],
   "source": [
    "epochs = 20\n",
    "loss_df = []\n",
    "\n",
    "for epoch in range(epochs):\n",
    "    losses = []\n",
    "    \n",
    "    for (items, _) in data_loader:  \n",
    "        items = items.to(device)\n",
    "        optimizer.zero_grad()\n",
    "        \n",
    "        reconstructed = model(items)\n",
    "        loss = loss_function(reconstructed, items)\n",
    "        \n",
    "        loss.backward()\n",
    "        \n",
    "        optimizer.step()\n",
    "        \n",
    "        losses.append(loss.detach().cpu().numpy().item())\n",
    "    \n",
    "    losses = np.array(losses)\n",
    "    \n",
    "    loss_df.append({\n",
    "        'epoch': epoch + 1,\n",
    "        'loss': losses.mean()\n",
    "    })\n",
    "    \n",
    "loss_df = pd.DataFrame(loss_df)\n",
    "loss_df.index = loss_df['epoch']\n",
    "loss_df = loss_df.drop(columns=['epoch'])"
   ]
  },
  {
   "cell_type": "markdown",
   "id": "consolidated-empire",
   "metadata": {},
   "source": [
    "The average loss over each epoch will differ base on the batch size (set to 64 earlier)."
   ]
  },
  {
   "cell_type": "code",
   "execution_count": 6,
   "id": "located-portable",
   "metadata": {
    "execution": {
     "iopub.execute_input": "2022-01-02T07:36:21.836851Z",
     "iopub.status.busy": "2022-01-02T07:36:21.836729Z",
     "iopub.status.idle": "2022-01-02T07:36:22.105637Z",
     "shell.execute_reply": "2022-01-02T07:36:22.105179Z",
     "shell.execute_reply.started": "2022-01-02T07:36:21.836834Z"
    }
   },
   "outputs": [
    {
     "data": {
      "image/png": "[encoded data removed]",
      "text/plain": [
       "<Figure size 1080x288 with 1 Axes>"
      ]
     },
     "metadata": {},
     "output_type": "display_data"
    }
   ],
   "source": [
    "import matplotlib.pyplot as plt\n",
    "\n",
    "plt.style.use('fivethirtyeight')\n",
    "\n",
    "ax = loss_df['loss'].plot(kind='line', figsize=(15, 4), title='MSE Loss', ylabel='MSE')\n",
    "_ = ax.set_xticks(list(range(1, 21, 1)))"
   ]
  },
  {
   "cell_type": "markdown",
   "id": "compressed-sharp",
   "metadata": {},
   "source": [
    "Once we learn the parameters for the autoencoder, we can predict one observation at a time from the dataset."
   ]
  },
  {
   "cell_type": "code",
   "execution_count": 7,
   "id": "enabling-newark",
   "metadata": {
    "execution": {
     "iopub.execute_input": "2022-01-02T07:36:22.106419Z",
     "iopub.status.busy": "2022-01-02T07:36:22.106302Z",
     "iopub.status.idle": "2022-01-02T07:36:22.119102Z",
     "shell.execute_reply": "2022-01-02T07:36:22.118560Z",
     "shell.execute_reply.started": "2022-01-02T07:36:22.106404Z"
    }
   },
   "outputs": [
    {
     "data": {
      "text/html": [
       "<div>\n",
       "<style scoped>\n",
       "    .dataframe tbody tr th:only-of-type {\n",
       "        vertical-align: middle;\n",
       "    }\n",
       "\n",
       "    .dataframe tbody tr th {\n",
       "        vertical-align: top;\n",
       "    }\n",
       "\n",
       "    .dataframe thead th {\n",
       "        text-align: right;\n",
       "    }\n",
       "</style>\n",
       "<table border=\"1\" class=\"dataframe\">\n",
       "  <thead>\n",
       "    <tr style=\"text-align: right;\">\n",
       "      <th></th>\n",
       "      <th>y_true</th>\n",
       "      <th>y_pred</th>\n",
       "    </tr>\n",
       "  </thead>\n",
       "  <tbody>\n",
       "    <tr>\n",
       "      <th>0</th>\n",
       "      <td>-0.054464</td>\n",
       "      <td>-0.053710</td>\n",
       "    </tr>\n",
       "    <tr>\n",
       "      <th>1</th>\n",
       "      <td>0.674308</td>\n",
       "      <td>0.671159</td>\n",
       "    </tr>\n",
       "    <tr>\n",
       "      <th>2</th>\n",
       "      <td>0.346647</td>\n",
       "      <td>0.346930</td>\n",
       "    </tr>\n",
       "    <tr>\n",
       "      <th>3</th>\n",
       "      <td>-1.300346</td>\n",
       "      <td>-1.300607</td>\n",
       "    </tr>\n",
       "    <tr>\n",
       "      <th>4</th>\n",
       "      <td>1.518512</td>\n",
       "      <td>1.517112</td>\n",
       "    </tr>\n",
       "    <tr>\n",
       "      <th>5</th>\n",
       "      <td>0.989824</td>\n",
       "      <td>0.989446</td>\n",
       "    </tr>\n",
       "    <tr>\n",
       "      <th>6</th>\n",
       "      <td>0.277681</td>\n",
       "      <td>0.277272</td>\n",
       "    </tr>\n",
       "    <tr>\n",
       "      <th>7</th>\n",
       "      <td>-0.448589</td>\n",
       "      <td>-0.445989</td>\n",
       "    </tr>\n",
       "    <tr>\n",
       "      <th>8</th>\n",
       "      <td>0.961966</td>\n",
       "      <td>0.961623</td>\n",
       "    </tr>\n",
       "    <tr>\n",
       "      <th>9</th>\n",
       "      <td>-0.827579</td>\n",
       "      <td>-0.827679</td>\n",
       "    </tr>\n",
       "  </tbody>\n",
       "</table>\n",
       "</div>"
      ],
      "text/plain": [
       "     y_true    y_pred\n",
       "0 -0.054464 -0.053710\n",
       "1  0.674308  0.671159\n",
       "2  0.346647  0.346930\n",
       "3 -1.300346 -1.300607\n",
       "4  1.518512  1.517112\n",
       "5  0.989824  0.989446\n",
       "6  0.277681  0.277272\n",
       "7 -0.448589 -0.445989\n",
       "8  0.961966  0.961623\n",
       "9 -0.827579 -0.827679"
      ]
     },
     "execution_count": 7,
     "metadata": {},
     "output_type": "execute_result"
    }
   ],
   "source": [
    "pd.DataFrame([{'y_true': dataset[r][0][0], 'y_pred': model(torch.from_numpy(dataset[r][0]).to(device)).detach().cpu().item()} \n",
    "              for r in range(10)])"
   ]
  },
  {
   "cell_type": "markdown",
   "id": "hearing-samuel",
   "metadata": {},
   "source": [
    "Batch prediction from the data loader is also possible."
   ]
  },
  {
   "cell_type": "code",
   "execution_count": 8,
   "id": "racial-qualification",
   "metadata": {
    "execution": {
     "iopub.execute_input": "2022-01-02T07:36:22.120350Z",
     "iopub.status.busy": "2022-01-02T07:36:22.120226Z",
     "iopub.status.idle": "2022-01-02T07:36:22.213743Z",
     "shell.execute_reply": "2022-01-02T07:36:22.213348Z",
     "shell.execute_reply.started": "2022-01-02T07:36:22.120335Z"
    }
   },
   "outputs": [
    {
     "data": {
      "text/html": [
       "<div>\n",
       "<style scoped>\n",
       "    .dataframe tbody tr th:only-of-type {\n",
       "        vertical-align: middle;\n",
       "    }\n",
       "\n",
       "    .dataframe tbody tr th {\n",
       "        vertical-align: top;\n",
       "    }\n",
       "\n",
       "    .dataframe thead th {\n",
       "        text-align: right;\n",
       "    }\n",
       "</style>\n",
       "<table border=\"1\" class=\"dataframe\">\n",
       "  <thead>\n",
       "    <tr style=\"text-align: right;\">\n",
       "      <th></th>\n",
       "      <th>y_true</th>\n",
       "      <th>y_pred</th>\n",
       "    </tr>\n",
       "  </thead>\n",
       "  <tbody>\n",
       "    <tr>\n",
       "      <th>0</th>\n",
       "      <td>0.737685</td>\n",
       "      <td>0.734922</td>\n",
       "    </tr>\n",
       "    <tr>\n",
       "      <th>1</th>\n",
       "      <td>1.603115</td>\n",
       "      <td>1.601040</td>\n",
       "    </tr>\n",
       "    <tr>\n",
       "      <th>2</th>\n",
       "      <td>-1.010090</td>\n",
       "      <td>-1.010437</td>\n",
       "    </tr>\n",
       "    <tr>\n",
       "      <th>3</th>\n",
       "      <td>0.606812</td>\n",
       "      <td>0.606252</td>\n",
       "    </tr>\n",
       "    <tr>\n",
       "      <th>4</th>\n",
       "      <td>-0.059037</td>\n",
       "      <td>-0.058368</td>\n",
       "    </tr>\n",
       "    <tr>\n",
       "      <th>...</th>\n",
       "      <td>...</td>\n",
       "      <td>...</td>\n",
       "    </tr>\n",
       "    <tr>\n",
       "      <th>635</th>\n",
       "      <td>-0.902755</td>\n",
       "      <td>-0.901273</td>\n",
       "    </tr>\n",
       "    <tr>\n",
       "      <th>636</th>\n",
       "      <td>-1.248267</td>\n",
       "      <td>-1.249291</td>\n",
       "    </tr>\n",
       "    <tr>\n",
       "      <th>637</th>\n",
       "      <td>2.005822</td>\n",
       "      <td>2.002879</td>\n",
       "    </tr>\n",
       "    <tr>\n",
       "      <th>638</th>\n",
       "      <td>0.590822</td>\n",
       "      <td>0.590642</td>\n",
       "    </tr>\n",
       "    <tr>\n",
       "      <th>639</th>\n",
       "      <td>0.555903</td>\n",
       "      <td>0.556482</td>\n",
       "    </tr>\n",
       "  </tbody>\n",
       "</table>\n",
       "<p>640 rows × 2 columns</p>\n",
       "</div>"
      ],
      "text/plain": [
       "       y_true    y_pred\n",
       "0    0.737685  0.734922\n",
       "1    1.603115  1.601040\n",
       "2   -1.010090 -1.010437\n",
       "3    0.606812  0.606252\n",
       "4   -0.059037 -0.058368\n",
       "..        ...       ...\n",
       "635 -0.902755 -0.901273\n",
       "636 -1.248267 -1.249291\n",
       "637  2.005822  2.002879\n",
       "638  0.590822  0.590642\n",
       "639  0.555903  0.556482\n",
       "\n",
       "[640 rows x 2 columns]"
      ]
     },
     "execution_count": 8,
     "metadata": {},
     "output_type": "execute_result"
    }
   ],
   "source": [
    "import itertools\n",
    "\n",
    "res = ((np.ravel(items.numpy()), np.ravel(model(items.to(device)).detach().cpu().numpy())) \n",
    "       for i, (items, _) in enumerate(data_loader) if i < 10)\n",
    "res = map(lambda tup: [{'y_true': t, 'y_pred': p} for t, p in zip(tup[0], tup[1])], res)\n",
    "res = itertools.chain(*res)\n",
    "res = pd.DataFrame(res)\n",
    "res"
   ]
  },
  {
   "cell_type": "markdown",
   "id": "disciplinary-search",
   "metadata": {},
   "source": [
    "## Detecting outliers\n",
    "\n",
    "Now, let's see if we can detect outliers with the autoencoder. We will sample 4 data sets as follows.\n",
    "\n",
    "- $A \\sim \\mathcal{N}(\\mu_X, \\sigma_X)$\n",
    "- $B \\sim \\mathcal{N}(\\mu_X + 1, \\sigma_X)$\n",
    "- $C \\sim \\mathcal{N}(\\mu_X + 1, \\sigma_X + 2)$\n",
    "- $D \\sim \\mathcal{N}(\\mu_X + 10, \\sigma_X)$"
   ]
  },
  {
   "cell_type": "code",
   "execution_count": 9,
   "id": "advanced-vocabulary",
   "metadata": {
    "execution": {
     "iopub.execute_input": "2022-01-02T07:36:22.214665Z",
     "iopub.status.busy": "2022-01-02T07:36:22.214545Z",
     "iopub.status.idle": "2022-01-02T07:36:22.217956Z",
     "shell.execute_reply": "2022-01-02T07:36:22.217587Z",
     "shell.execute_reply.started": "2022-01-02T07:36:22.214649Z"
    }
   },
   "outputs": [],
   "source": [
    "A = np.random.normal(loc=0, scale=1, size=1_000).reshape(-1, 1)\n",
    "B = np.random.normal(loc=1, scale=1, size=1_000).reshape(-1, 1)\n",
    "C = np.random.normal(loc=1, scale=2, size=1_000).reshape(-1, 1)\n",
    "D = np.random.normal(loc=10, scale=1, size=1_000).reshape(-1, 1)"
   ]
  },
  {
   "cell_type": "markdown",
   "id": "southwest-breathing",
   "metadata": {},
   "source": [
    "The mean average error from the training data $X$ may be computed and used as a threshold to consider if a new observation is an outlier or inlier. "
   ]
  },
  {
   "cell_type": "code",
   "execution_count": 10,
   "id": "processed-scientist",
   "metadata": {
    "execution": {
     "iopub.execute_input": "2022-01-02T07:36:22.218586Z",
     "iopub.status.busy": "2022-01-02T07:36:22.218440Z",
     "iopub.status.idle": "2022-01-02T07:36:22.690426Z",
     "shell.execute_reply": "2022-01-02T07:36:22.689861Z",
     "shell.execute_reply.started": "2022-01-02T07:36:22.218571Z"
    }
   },
   "outputs": [
    {
     "name": "stdout",
     "output_type": "stream",
     "text": [
      "MAE = 0.00136\n"
     ]
    }
   ],
   "source": [
    "def predict(m, y_true, device):\n",
    "    y_pred = m(torch.from_numpy(y_true).to(device)).detach().cpu().item()\n",
    "    return {'y_true': y_true[0], 'y_pred': y_pred}\n",
    "\n",
    "pred_df = pd.DataFrame([predict(model, X[r,:], device) for r in range(X.shape[0])])\n",
    "mae = np.abs(pred_df.y_true - pred_df.y_pred).mean()\n",
    "print(f'MAE = {mae:.5f}')"
   ]
  },
  {
   "cell_type": "markdown",
   "id": "coupled-territory",
   "metadata": {},
   "source": [
    "Detecting outliers from A."
   ]
  },
  {
   "cell_type": "code",
   "execution_count": 11,
   "id": "received-mother",
   "metadata": {
    "execution": {
     "iopub.execute_input": "2022-01-02T07:36:22.691061Z",
     "iopub.status.busy": "2022-01-02T07:36:22.690938Z",
     "iopub.status.idle": "2022-01-02T07:36:23.183333Z",
     "shell.execute_reply": "2022-01-02T07:36:23.182888Z",
     "shell.execute_reply.started": "2022-01-02T07:36:22.691047Z"
    }
   },
   "outputs": [
    {
     "data": {
      "text/html": [
       "<div>\n",
       "<style scoped>\n",
       "    .dataframe tbody tr th:only-of-type {\n",
       "        vertical-align: middle;\n",
       "    }\n",
       "\n",
       "    .dataframe tbody tr th {\n",
       "        vertical-align: top;\n",
       "    }\n",
       "\n",
       "    .dataframe thead th {\n",
       "        text-align: right;\n",
       "    }\n",
       "</style>\n",
       "<table border=\"1\" class=\"dataframe\">\n",
       "  <thead>\n",
       "    <tr style=\"text-align: right;\">\n",
       "      <th></th>\n",
       "      <th>y_true</th>\n",
       "      <th>y_pred</th>\n",
       "      <th>error</th>\n",
       "      <th>outlier</th>\n",
       "    </tr>\n",
       "  </thead>\n",
       "  <tbody>\n",
       "    <tr>\n",
       "      <th>0</th>\n",
       "      <td>-0.659954</td>\n",
       "      <td>-0.656442</td>\n",
       "      <td>0.003512</td>\n",
       "      <td>1</td>\n",
       "    </tr>\n",
       "    <tr>\n",
       "      <th>1</th>\n",
       "      <td>-0.072388</td>\n",
       "      <td>-0.072277</td>\n",
       "      <td>0.000111</td>\n",
       "      <td>0</td>\n",
       "    </tr>\n",
       "    <tr>\n",
       "      <th>2</th>\n",
       "      <td>-0.988276</td>\n",
       "      <td>-0.988780</td>\n",
       "      <td>0.000505</td>\n",
       "      <td>0</td>\n",
       "    </tr>\n",
       "    <tr>\n",
       "      <th>3</th>\n",
       "      <td>0.510436</td>\n",
       "      <td>0.510648</td>\n",
       "      <td>0.000212</td>\n",
       "      <td>0</td>\n",
       "    </tr>\n",
       "    <tr>\n",
       "      <th>4</th>\n",
       "      <td>0.442500</td>\n",
       "      <td>0.443603</td>\n",
       "      <td>0.001103</td>\n",
       "      <td>0</td>\n",
       "    </tr>\n",
       "    <tr>\n",
       "      <th>5</th>\n",
       "      <td>-0.238447</td>\n",
       "      <td>-0.237134</td>\n",
       "      <td>0.001313</td>\n",
       "      <td>0</td>\n",
       "    </tr>\n",
       "    <tr>\n",
       "      <th>6</th>\n",
       "      <td>-1.113931</td>\n",
       "      <td>-1.111392</td>\n",
       "      <td>0.002538</td>\n",
       "      <td>1</td>\n",
       "    </tr>\n",
       "    <tr>\n",
       "      <th>7</th>\n",
       "      <td>-0.500849</td>\n",
       "      <td>-0.505284</td>\n",
       "      <td>0.004435</td>\n",
       "      <td>1</td>\n",
       "    </tr>\n",
       "    <tr>\n",
       "      <th>8</th>\n",
       "      <td>0.486258</td>\n",
       "      <td>0.486939</td>\n",
       "      <td>0.000680</td>\n",
       "      <td>0</td>\n",
       "    </tr>\n",
       "    <tr>\n",
       "      <th>9</th>\n",
       "      <td>-0.754691</td>\n",
       "      <td>-0.755790</td>\n",
       "      <td>0.001099</td>\n",
       "      <td>0</td>\n",
       "    </tr>\n",
       "  </tbody>\n",
       "</table>\n",
       "</div>"
      ],
      "text/plain": [
       "     y_true    y_pred     error  outlier\n",
       "0 -0.659954 -0.656442  0.003512        1\n",
       "1 -0.072388 -0.072277  0.000111        0\n",
       "2 -0.988276 -0.988780  0.000505        0\n",
       "3  0.510436  0.510648  0.000212        0\n",
       "4  0.442500  0.443603  0.001103        0\n",
       "5 -0.238447 -0.237134  0.001313        0\n",
       "6 -1.113931 -1.111392  0.002538        1\n",
       "7 -0.500849 -0.505284  0.004435        1\n",
       "8  0.486258  0.486939  0.000680        0\n",
       "9 -0.754691 -0.755790  0.001099        0"
      ]
     },
     "execution_count": 11,
     "metadata": {},
     "output_type": "execute_result"
    }
   ],
   "source": [
    "def detect_outlier(m, X, device, mae):\n",
    "    df = pd.DataFrame([predict(model, X[r,:], device) for r in range(X.shape[0])])\n",
    "    df['error'] = np.abs(df.y_true - df.y_pred)\n",
    "    df['outlier'] = df['error'].apply(lambda e: 1 if e > mae else 0)\n",
    "    return df\n",
    "\n",
    "detect_outlier(model, A, device, mae).head(n=10)"
   ]
  },
  {
   "cell_type": "code",
   "execution_count": 12,
   "id": "active-championship",
   "metadata": {
    "execution": {
     "iopub.execute_input": "2022-01-02T07:36:23.184015Z",
     "iopub.status.busy": "2022-01-02T07:36:23.183886Z",
     "iopub.status.idle": "2022-01-02T07:36:23.843105Z",
     "shell.execute_reply": "2022-01-02T07:36:23.842554Z",
     "shell.execute_reply.started": "2022-01-02T07:36:23.184001Z"
    }
   },
   "outputs": [
    {
     "data": {
      "image/png": "[encoded data removed]",
      "text/plain": [
       "<Figure size 432x288 with 1 Axes>"
      ]
     },
     "metadata": {},
     "output_type": "display_data"
    }
   ],
   "source": [
    "_ = detect_outlier(model, A, device, mae)['outlier']\\\n",
    "    .value_counts()\\\n",
    "    .sort_index()\\\n",
    "    .plot(kind='bar', title=r'$A \\sim \\mathcal{N}(\\mu_X, \\sigma_X)$ outliers')"
   ]
  },
  {
   "cell_type": "markdown",
   "id": "clean-hartford",
   "metadata": {},
   "source": [
    "Detecting outliers from B."
   ]
  },
  {
   "cell_type": "code",
   "execution_count": 13,
   "id": "decimal-teaching",
   "metadata": {
    "execution": {
     "iopub.execute_input": "2022-01-02T07:36:23.844105Z",
     "iopub.status.busy": "2022-01-02T07:36:23.843931Z",
     "iopub.status.idle": "2022-01-02T07:36:24.362308Z",
     "shell.execute_reply": "2022-01-02T07:36:24.361824Z",
     "shell.execute_reply.started": "2022-01-02T07:36:23.844083Z"
    }
   },
   "outputs": [
    {
     "data": {
      "text/html": [
       "<div>\n",
       "<style scoped>\n",
       "    .dataframe tbody tr th:only-of-type {\n",
       "        vertical-align: middle;\n",
       "    }\n",
       "\n",
       "    .dataframe tbody tr th {\n",
       "        vertical-align: top;\n",
       "    }\n",
       "\n",
       "    .dataframe thead th {\n",
       "        text-align: right;\n",
       "    }\n",
       "</style>\n",
       "<table border=\"1\" class=\"dataframe\">\n",
       "  <thead>\n",
       "    <tr style=\"text-align: right;\">\n",
       "      <th></th>\n",
       "      <th>y_true</th>\n",
       "      <th>y_pred</th>\n",
       "      <th>error</th>\n",
       "      <th>outlier</th>\n",
       "    </tr>\n",
       "  </thead>\n",
       "  <tbody>\n",
       "    <tr>\n",
       "      <th>0</th>\n",
       "      <td>1.054522</td>\n",
       "      <td>1.052940</td>\n",
       "      <td>0.001582</td>\n",
       "      <td>1</td>\n",
       "    </tr>\n",
       "    <tr>\n",
       "      <th>1</th>\n",
       "      <td>-0.118952</td>\n",
       "      <td>-0.120050</td>\n",
       "      <td>0.001099</td>\n",
       "      <td>0</td>\n",
       "    </tr>\n",
       "    <tr>\n",
       "      <th>2</th>\n",
       "      <td>0.781712</td>\n",
       "      <td>0.780419</td>\n",
       "      <td>0.001293</td>\n",
       "      <td>0</td>\n",
       "    </tr>\n",
       "    <tr>\n",
       "      <th>3</th>\n",
       "      <td>-0.947611</td>\n",
       "      <td>-0.946486</td>\n",
       "      <td>0.001125</td>\n",
       "      <td>0</td>\n",
       "    </tr>\n",
       "    <tr>\n",
       "      <th>4</th>\n",
       "      <td>1.566011</td>\n",
       "      <td>1.564284</td>\n",
       "      <td>0.001727</td>\n",
       "      <td>1</td>\n",
       "    </tr>\n",
       "    <tr>\n",
       "      <th>5</th>\n",
       "      <td>1.937544</td>\n",
       "      <td>1.934747</td>\n",
       "      <td>0.002797</td>\n",
       "      <td>1</td>\n",
       "    </tr>\n",
       "    <tr>\n",
       "      <th>6</th>\n",
       "      <td>-1.634584</td>\n",
       "      <td>-1.633686</td>\n",
       "      <td>0.000898</td>\n",
       "      <td>0</td>\n",
       "    </tr>\n",
       "    <tr>\n",
       "      <th>7</th>\n",
       "      <td>1.241298</td>\n",
       "      <td>1.239089</td>\n",
       "      <td>0.002209</td>\n",
       "      <td>1</td>\n",
       "    </tr>\n",
       "    <tr>\n",
       "      <th>8</th>\n",
       "      <td>1.521333</td>\n",
       "      <td>1.519925</td>\n",
       "      <td>0.001407</td>\n",
       "      <td>1</td>\n",
       "    </tr>\n",
       "    <tr>\n",
       "      <th>9</th>\n",
       "      <td>3.097915</td>\n",
       "      <td>3.086046</td>\n",
       "      <td>0.011870</td>\n",
       "      <td>1</td>\n",
       "    </tr>\n",
       "  </tbody>\n",
       "</table>\n",
       "</div>"
      ],
      "text/plain": [
       "     y_true    y_pred     error  outlier\n",
       "0  1.054522  1.052940  0.001582        1\n",
       "1 -0.118952 -0.120050  0.001099        0\n",
       "2  0.781712  0.780419  0.001293        0\n",
       "3 -0.947611 -0.946486  0.001125        0\n",
       "4  1.566011  1.564284  0.001727        1\n",
       "5  1.937544  1.934747  0.002797        1\n",
       "6 -1.634584 -1.633686  0.000898        0\n",
       "7  1.241298  1.239089  0.002209        1\n",
       "8  1.521333  1.519925  0.001407        1\n",
       "9  3.097915  3.086046  0.011870        1"
      ]
     },
     "execution_count": 13,
     "metadata": {},
     "output_type": "execute_result"
    }
   ],
   "source": [
    "detect_outlier(model, B, device, mae).head(n=10)"
   ]
  },
  {
   "cell_type": "code",
   "execution_count": 14,
   "id": "forward-isaac",
   "metadata": {
    "execution": {
     "iopub.execute_input": "2022-01-02T07:36:24.363159Z",
     "iopub.status.busy": "2022-01-02T07:36:24.362993Z",
     "iopub.status.idle": "2022-01-02T07:36:24.913663Z",
     "shell.execute_reply": "2022-01-02T07:36:24.913135Z",
     "shell.execute_reply.started": "2022-01-02T07:36:24.363138Z"
    }
   },
   "outputs": [
    {
     "data": {
      "image/png": "[encoded data removed]",
      "text/plain": [
       "<Figure size 432x288 with 1 Axes>"
      ]
     },
     "metadata": {},
     "output_type": "display_data"
    }
   ],
   "source": [
    "_ = detect_outlier(model, B, device, mae)['outlier']\\\n",
    "    .value_counts()\\\n",
    "    .sort_index()\\\n",
    "    .plot(kind='bar', title=r'$B \\sim \\mathcal{N}(\\mu_X + 1, \\sigma_X)$ outliers')"
   ]
  },
  {
   "cell_type": "markdown",
   "id": "lesbian-vintage",
   "metadata": {},
   "source": [
    "Detecting outliers from C."
   ]
  },
  {
   "cell_type": "code",
   "execution_count": 15,
   "id": "systematic-berry",
   "metadata": {
    "execution": {
     "iopub.execute_input": "2022-01-02T07:36:24.914679Z",
     "iopub.status.busy": "2022-01-02T07:36:24.914476Z",
     "iopub.status.idle": "2022-01-02T07:36:25.447546Z",
     "shell.execute_reply": "2022-01-02T07:36:25.447154Z",
     "shell.execute_reply.started": "2022-01-02T07:36:24.914657Z"
    }
   },
   "outputs": [
    {
     "data": {
      "text/html": [
       "<div>\n",
       "<style scoped>\n",
       "    .dataframe tbody tr th:only-of-type {\n",
       "        vertical-align: middle;\n",
       "    }\n",
       "\n",
       "    .dataframe tbody tr th {\n",
       "        vertical-align: top;\n",
       "    }\n",
       "\n",
       "    .dataframe thead th {\n",
       "        text-align: right;\n",
       "    }\n",
       "</style>\n",
       "<table border=\"1\" class=\"dataframe\">\n",
       "  <thead>\n",
       "    <tr style=\"text-align: right;\">\n",
       "      <th></th>\n",
       "      <th>y_true</th>\n",
       "      <th>y_pred</th>\n",
       "      <th>error</th>\n",
       "      <th>outlier</th>\n",
       "    </tr>\n",
       "  </thead>\n",
       "  <tbody>\n",
       "    <tr>\n",
       "      <th>0</th>\n",
       "      <td>-1.326775</td>\n",
       "      <td>-1.326583</td>\n",
       "      <td>0.000192</td>\n",
       "      <td>0</td>\n",
       "    </tr>\n",
       "    <tr>\n",
       "      <th>1</th>\n",
       "      <td>0.833414</td>\n",
       "      <td>0.832504</td>\n",
       "      <td>0.000909</td>\n",
       "      <td>0</td>\n",
       "    </tr>\n",
       "    <tr>\n",
       "      <th>2</th>\n",
       "      <td>-0.872608</td>\n",
       "      <td>-0.871917</td>\n",
       "      <td>0.000692</td>\n",
       "      <td>0</td>\n",
       "    </tr>\n",
       "    <tr>\n",
       "      <th>3</th>\n",
       "      <td>3.983235</td>\n",
       "      <td>3.925525</td>\n",
       "      <td>0.057710</td>\n",
       "      <td>1</td>\n",
       "    </tr>\n",
       "    <tr>\n",
       "      <th>4</th>\n",
       "      <td>-1.085848</td>\n",
       "      <td>-1.083765</td>\n",
       "      <td>0.002084</td>\n",
       "      <td>1</td>\n",
       "    </tr>\n",
       "    <tr>\n",
       "      <th>5</th>\n",
       "      <td>0.385625</td>\n",
       "      <td>0.386337</td>\n",
       "      <td>0.000712</td>\n",
       "      <td>0</td>\n",
       "    </tr>\n",
       "    <tr>\n",
       "      <th>6</th>\n",
       "      <td>2.213190</td>\n",
       "      <td>2.209871</td>\n",
       "      <td>0.003319</td>\n",
       "      <td>1</td>\n",
       "    </tr>\n",
       "    <tr>\n",
       "      <th>7</th>\n",
       "      <td>0.457719</td>\n",
       "      <td>0.458954</td>\n",
       "      <td>0.001236</td>\n",
       "      <td>0</td>\n",
       "    </tr>\n",
       "    <tr>\n",
       "      <th>8</th>\n",
       "      <td>2.334519</td>\n",
       "      <td>2.330911</td>\n",
       "      <td>0.003608</td>\n",
       "      <td>1</td>\n",
       "    </tr>\n",
       "    <tr>\n",
       "      <th>9</th>\n",
       "      <td>-0.450000</td>\n",
       "      <td>-0.447540</td>\n",
       "      <td>0.002460</td>\n",
       "      <td>1</td>\n",
       "    </tr>\n",
       "  </tbody>\n",
       "</table>\n",
       "</div>"
      ],
      "text/plain": [
       "     y_true    y_pred     error  outlier\n",
       "0 -1.326775 -1.326583  0.000192        0\n",
       "1  0.833414  0.832504  0.000909        0\n",
       "2 -0.872608 -0.871917  0.000692        0\n",
       "3  3.983235  3.925525  0.057710        1\n",
       "4 -1.085848 -1.083765  0.002084        1\n",
       "5  0.385625  0.386337  0.000712        0\n",
       "6  2.213190  2.209871  0.003319        1\n",
       "7  0.457719  0.458954  0.001236        0\n",
       "8  2.334519  2.330911  0.003608        1\n",
       "9 -0.450000 -0.447540  0.002460        1"
      ]
     },
     "execution_count": 15,
     "metadata": {},
     "output_type": "execute_result"
    }
   ],
   "source": [
    "detect_outlier(model, C, device, mae).head(n=10)"
   ]
  },
  {
   "cell_type": "code",
   "execution_count": 16,
   "id": "absent-intelligence",
   "metadata": {
    "execution": {
     "iopub.execute_input": "2022-01-02T07:36:25.448104Z",
     "iopub.status.busy": "2022-01-02T07:36:25.447999Z",
     "iopub.status.idle": "2022-01-02T07:36:26.029664Z",
     "shell.execute_reply": "2022-01-02T07:36:26.029266Z",
     "shell.execute_reply.started": "2022-01-02T07:36:25.448090Z"
    }
   },
   "outputs": [
    {
     "data": {
      "image/png": "[encoded data removed]",
      "text/plain": [
       "<Figure size 432x288 with 1 Axes>"
      ]
     },
     "metadata": {},
     "output_type": "display_data"
    }
   ],
   "source": [
    "_ = detect_outlier(model, C, device, mae)['outlier']\\\n",
    "    .value_counts()\\\n",
    "    .sort_index()\\\n",
    "    .plot(kind='bar', title=r'$C \\sim \\mathcal{N}(\\mu_X + 1, \\sigma_X + 2)$ outliers')"
   ]
  },
  {
   "cell_type": "code",
   "execution_count": 17,
   "id": "behavioral-workshop",
   "metadata": {
    "execution": {
     "iopub.execute_input": "2022-01-02T07:36:26.030316Z",
     "iopub.status.busy": "2022-01-02T07:36:26.030180Z",
     "iopub.status.idle": "2022-01-02T07:36:26.522829Z",
     "shell.execute_reply": "2022-01-02T07:36:26.522407Z",
     "shell.execute_reply.started": "2022-01-02T07:36:26.030302Z"
    }
   },
   "outputs": [
    {
     "data": {
      "text/html": [
       "<div>\n",
       "<style scoped>\n",
       "    .dataframe tbody tr th:only-of-type {\n",
       "        vertical-align: middle;\n",
       "    }\n",
       "\n",
       "    .dataframe tbody tr th {\n",
       "        vertical-align: top;\n",
       "    }\n",
       "\n",
       "    .dataframe thead th {\n",
       "        text-align: right;\n",
       "    }\n",
       "</style>\n",
       "<table border=\"1\" class=\"dataframe\">\n",
       "  <thead>\n",
       "    <tr style=\"text-align: right;\">\n",
       "      <th></th>\n",
       "      <th>y_true</th>\n",
       "      <th>y_pred</th>\n",
       "      <th>error</th>\n",
       "      <th>outlier</th>\n",
       "    </tr>\n",
       "  </thead>\n",
       "  <tbody>\n",
       "    <tr>\n",
       "      <th>0</th>\n",
       "      <td>11.090525</td>\n",
       "      <td>10.648561</td>\n",
       "      <td>0.441965</td>\n",
       "      <td>1</td>\n",
       "    </tr>\n",
       "    <tr>\n",
       "      <th>1</th>\n",
       "      <td>9.474894</td>\n",
       "      <td>9.123159</td>\n",
       "      <td>0.351735</td>\n",
       "      <td>1</td>\n",
       "    </tr>\n",
       "    <tr>\n",
       "      <th>2</th>\n",
       "      <td>9.906585</td>\n",
       "      <td>9.530741</td>\n",
       "      <td>0.375844</td>\n",
       "      <td>1</td>\n",
       "    </tr>\n",
       "    <tr>\n",
       "      <th>3</th>\n",
       "      <td>10.568700</td>\n",
       "      <td>10.155879</td>\n",
       "      <td>0.412822</td>\n",
       "      <td>1</td>\n",
       "    </tr>\n",
       "    <tr>\n",
       "      <th>4</th>\n",
       "      <td>8.904352</td>\n",
       "      <td>8.583365</td>\n",
       "      <td>0.320986</td>\n",
       "      <td>1</td>\n",
       "    </tr>\n",
       "    <tr>\n",
       "      <th>5</th>\n",
       "      <td>10.612258</td>\n",
       "      <td>10.197003</td>\n",
       "      <td>0.415254</td>\n",
       "      <td>1</td>\n",
       "    </tr>\n",
       "    <tr>\n",
       "      <th>6</th>\n",
       "      <td>7.439080</td>\n",
       "      <td>7.199599</td>\n",
       "      <td>0.239482</td>\n",
       "      <td>1</td>\n",
       "    </tr>\n",
       "    <tr>\n",
       "      <th>7</th>\n",
       "      <td>10.321630</td>\n",
       "      <td>9.922607</td>\n",
       "      <td>0.399023</td>\n",
       "      <td>1</td>\n",
       "    </tr>\n",
       "    <tr>\n",
       "      <th>8</th>\n",
       "      <td>10.054895</td>\n",
       "      <td>9.670769</td>\n",
       "      <td>0.384127</td>\n",
       "      <td>1</td>\n",
       "    </tr>\n",
       "    <tr>\n",
       "      <th>9</th>\n",
       "      <td>9.925478</td>\n",
       "      <td>9.548579</td>\n",
       "      <td>0.376899</td>\n",
       "      <td>1</td>\n",
       "    </tr>\n",
       "  </tbody>\n",
       "</table>\n",
       "</div>"
      ],
      "text/plain": [
       "      y_true     y_pred     error  outlier\n",
       "0  11.090525  10.648561  0.441965        1\n",
       "1   9.474894   9.123159  0.351735        1\n",
       "2   9.906585   9.530741  0.375844        1\n",
       "3  10.568700  10.155879  0.412822        1\n",
       "4   8.904352   8.583365  0.320986        1\n",
       "5  10.612258  10.197003  0.415254        1\n",
       "6   7.439080   7.199599  0.239482        1\n",
       "7  10.321630   9.922607  0.399023        1\n",
       "8  10.054895   9.670769  0.384127        1\n",
       "9   9.925478   9.548579  0.376899        1"
      ]
     },
     "execution_count": 17,
     "metadata": {},
     "output_type": "execute_result"
    }
   ],
   "source": [
    "detect_outlier(model, D, device, mae).head(n=10)"
   ]
  },
  {
   "cell_type": "code",
   "execution_count": 18,
   "id": "ecological-miniature",
   "metadata": {
    "execution": {
     "iopub.execute_input": "2022-01-02T07:36:26.523459Z",
     "iopub.status.busy": "2022-01-02T07:36:26.523349Z",
     "iopub.status.idle": "2022-01-02T07:36:27.102910Z",
     "shell.execute_reply": "2022-01-02T07:36:27.102495Z",
     "shell.execute_reply.started": "2022-01-02T07:36:26.523444Z"
    }
   },
   "outputs": [
    {
     "data": {
      "image/png": "[encoded data removed]",
      "text/plain": [
       "<Figure size 432x288 with 1 Axes>"
      ]
     },
     "metadata": {},
     "output_type": "display_data"
    }
   ],
   "source": [
    "_ = detect_outlier(model, D, device, mae)['outlier']\\\n",
    "    .value_counts()\\\n",
    "    .sort_index()\\\n",
    "    .plot(kind='bar', title=r'$D \\sim \\mathcal{N}(\\mu_X + 10, \\sigma_X)$ outliers')"
   ]
  }
 ],
 "metadata": {
  "kernelspec": {
   "display_name": "Python 3",
   "language": "python",
   "name": "python3"
  },
  "language_info": {
   "codemirror_mode": {
    "name": "ipython",
    "version": 3
   },
   "file_extension": ".py",
   "mimetype": "text/x-python",
   "name": "python",
   "nbconvert_exporter": "python",
   "pygments_lexer": "ipython3",
   "version": "3.8.5"
  },
  "widgets": {
   "application/vnd.jupyter.widget-state+json": {
    "state": {},
    "version_major": 2,
    "version_minor": 0
   }
  }
 },
 "nbformat": 4,
 "nbformat_minor": 5
}
