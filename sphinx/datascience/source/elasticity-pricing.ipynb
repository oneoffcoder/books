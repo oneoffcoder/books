{
 "cells": [
  {
   "cell_type": "markdown",
   "id": "216f5e3c-434e-4642-a529-d68f25465dee",
   "metadata": {},
   "source": [
    "# Pricing Elasticity"
   ]
  },
  {
   "cell_type": "markdown",
   "id": "46304b99-2b41-419b-bf86-7a317be5a9d0",
   "metadata": {},
   "source": [
    "## Load data\n",
    "\n",
    "Data is taken from [Kaggle](https://www.kaggle.com/datasets/suddharshan/retail-price-optimization?datasetId=1865343)."
   ]
  },
  {
   "cell_type": "code",
   "execution_count": 1,
   "id": "70cb53b7-3426-4f9c-b203-210a71d1fe82",
   "metadata": {},
   "outputs": [
    {
     "data": {
      "text/plain": [
       "(676, 31)"
      ]
     },
     "execution_count": 1,
     "metadata": {},
     "output_type": "execute_result"
    }
   ],
   "source": [
    "import pandas as pd\n",
    "import numpy as np\n",
    "\n",
    "def get_text(r):\n",
    "    product_category_name = r['product_category_name']\n",
    "    \n",
    "\n",
    "df = pd.read_csv('./data/retail_price.csv') \\\n",
    "    .assign(\n",
    "        month_year=lambda d: pd.to_datetime(d['month_year']),\n",
    "        year=lambda d: d['month_year'].dt.year,\n",
    "        month=lambda d: d['month_year'].dt.month,\n",
    "        weekend=lambda d: d['weekday'].apply(lambda x: 1 if x >= 5 else 0),\n",
    "        text=lambda d: d['product_category_name'].apply(lambda s: ' '.join(s.split('_')))\n",
    "    )\n",
    "df.shape"
   ]
  },
  {
   "cell_type": "code",
   "execution_count": 2,
   "id": "de7d251a-e2a5-4223-9b18-4e01ee347195",
   "metadata": {},
   "outputs": [
    {
     "name": "stdout",
     "output_type": "stream",
     "text": [
      "<class 'pandas.core.frame.DataFrame'>\n",
      "RangeIndex: 676 entries, 0 to 675\n",
      "Data columns (total 31 columns):\n",
      " #   Column                      Non-Null Count  Dtype         \n",
      "---  ------                      --------------  -----         \n",
      " 0   product_id                  676 non-null    object        \n",
      " 1   product_category_name       676 non-null    object        \n",
      " 2   month_year                  676 non-null    datetime64[ns]\n",
      " 3   qty                         676 non-null    int64         \n",
      " 4   total_price                 676 non-null    float64       \n",
      " 5   freight_price               676 non-null    float64       \n",
      " 6   unit_price                  676 non-null    float64       \n",
      " 7   product_name_lenght         676 non-null    int64         \n",
      " 8   product_description_lenght  676 non-null    int64         \n",
      " 9   product_photos_qty          676 non-null    int64         \n",
      " 10  product_weight_g            676 non-null    int64         \n",
      " 11  product_score               676 non-null    float64       \n",
      " 12  customers                   676 non-null    int64         \n",
      " 13  weekday                     676 non-null    int64         \n",
      " 14  weekend                     676 non-null    int64         \n",
      " 15  holiday                     676 non-null    int64         \n",
      " 16  month                       676 non-null    int64         \n",
      " 17  year                        676 non-null    int64         \n",
      " 18  s                           676 non-null    float64       \n",
      " 19  volume                      676 non-null    int64         \n",
      " 20  comp_1                      676 non-null    float64       \n",
      " 21  ps1                         676 non-null    float64       \n",
      " 22  fp1                         676 non-null    float64       \n",
      " 23  comp_2                      676 non-null    float64       \n",
      " 24  ps2                         676 non-null    float64       \n",
      " 25  fp2                         676 non-null    float64       \n",
      " 26  comp_3                      676 non-null    float64       \n",
      " 27  ps3                         676 non-null    float64       \n",
      " 28  fp3                         676 non-null    float64       \n",
      " 29  lag_price                   676 non-null    float64       \n",
      " 30  text                        676 non-null    object        \n",
      "dtypes: datetime64[ns](1), float64(15), int64(12), object(3)\n",
      "memory usage: 163.8+ KB\n"
     ]
    }
   ],
   "source": [
    "df.info()"
   ]
  },
  {
   "cell_type": "markdown",
   "id": "967a4f83-2557-4111-a2ee-642a1f9edd4e",
   "metadata": {},
   "source": [
    "## Visualize pricing elasticity of demand"
   ]
  },
  {
   "cell_type": "code",
   "execution_count": 3,
   "id": "15aa7e2e-1234-424d-809e-6d1743fc631e",
   "metadata": {},
   "outputs": [
    {
     "name": "stderr",
     "output_type": "stream",
     "text": [
      "/opt/anaconda3/lib/python3.9/site-packages/pandas/plotting/_matplotlib/core.py:1114: UserWarning: No data for colormapping provided via 'c'. Parameters 'cmap' will be ignored\n",
      "  scatter = ax.scatter(\n"
     ]
    },
    {
     "data": {
      "text/plain": [
       "<Axes: xlabel='qty', ylabel='unit_price'>"
      ]
     },
     "execution_count": 3,
     "metadata": {},
     "output_type": "execute_result"
    },
    {
     "data": {
      "image/png": "[encoded data removed]",
      "text/plain": [
       "<Figure size 640x480 with 1 Axes>"
      ]
     },
     "metadata": {},
     "output_type": "display_data"
    }
   ],
   "source": [
    "df[['unit_price', 'qty']] \\\n",
    "    .groupby(['unit_price']) \\\n",
    "    .sum() \\\n",
    "    .reset_index() \\\n",
    "    .assign(\n",
    "        unit_price=lambda d: np.log(d['unit_price']),\n",
    "        qty=lambda d: np.log(d['qty'])\n",
    "    ) \\\n",
    "    .plot(kind='scatter', x='qty', y='unit_price')"
   ]
  },
  {
   "cell_type": "markdown",
   "id": "25d2a49a-2a3f-46a4-8795-9e3ef0c717ea",
   "metadata": {},
   "source": [
    "## Split into training/testing"
   ]
  },
  {
   "cell_type": "code",
   "execution_count": 4,
   "id": "22c99f3d-8726-45b0-b564-0333215b008c",
   "metadata": {},
   "outputs": [
    {
     "data": {
      "text/plain": [
       "2017-01-01     2\n",
       "2017-01-02     9\n",
       "2017-01-03    13\n",
       "2017-01-04    15\n",
       "2017-01-05    20\n",
       "2017-01-06    25\n",
       "2017-01-07    33\n",
       "2017-01-08    37\n",
       "2017-01-09    36\n",
       "2017-01-10    43\n",
       "2017-01-11    44\n",
       "2017-01-12    44\n",
       "2018-01-01    48\n",
       "2018-01-02    49\n",
       "2018-01-03    50\n",
       "2018-01-04    48\n",
       "2018-01-05    40\n",
       "2018-01-06    42\n",
       "2018-01-07    40\n",
       "2018-01-08    38\n",
       "Name: month_year, dtype: int64"
      ]
     },
     "execution_count": 4,
     "metadata": {},
     "output_type": "execute_result"
    }
   ],
   "source": [
    "df['month_year'].value_counts().sort_index()"
   ]
  },
  {
   "cell_type": "code",
   "execution_count": 5,
   "id": "6bb3b3b0-1f16-48b1-a4c9-3e01db14be86",
   "metadata": {},
   "outputs": [
    {
     "data": {
      "text/plain": [
       "((321, 31), (355, 31))"
      ]
     },
     "execution_count": 5,
     "metadata": {},
     "output_type": "execute_result"
    }
   ],
   "source": [
    "df_tr = df[df['month_year'] <= '2017-12-31']\n",
    "df_te = df[df['month_year'] >= '2018-01-01']\n",
    "\n",
    "df_tr.shape, df_te.shape"
   ]
  },
  {
   "cell_type": "markdown",
   "id": "9f89da58-1f47-4e43-8615-ec188bf9fa09",
   "metadata": {},
   "source": [
    "## Simple log-log model\n",
    "\n",
    "$\\log{Q} \\sim \\log{P}$"
   ]
  },
  {
   "cell_type": "code",
   "execution_count": 6,
   "id": "bbb97575-ee3a-4c4e-aa9b-7c0005aa31ee",
   "metadata": {},
   "outputs": [
    {
     "data": {
      "text/plain": [
       "((128, 1), (181, 1), (128,), (181,))"
      ]
     },
     "execution_count": 6,
     "metadata": {},
     "output_type": "execute_result"
    }
   ],
   "source": [
    "Xy_tr = df_tr.groupby(['unit_price']) \\\n",
    "    .agg(qty_sum=pd.NamedAgg(column='qty', aggfunc='sum')) \\\n",
    "    .assign(qty_sum=lambda d: np.log(d['qty_sum'])) \\\n",
    "    .reset_index()\n",
    "\n",
    "Xy_te = df_te.groupby(['unit_price']) \\\n",
    "    .agg(qty_sum=pd.NamedAgg(column='qty', aggfunc='sum')) \\\n",
    "    .assign(qty_sum=lambda d: np.log(d['qty_sum'])) \\\n",
    "    .reset_index()\n",
    "\n",
    "X_tr = Xy_tr[['unit_price']]\n",
    "X_te = Xy_te[['unit_price']]\n",
    "y_tr = Xy_tr['qty_sum']\n",
    "y_te = Xy_te['qty_sum']\n",
    "\n",
    "X_tr.shape, X_te.shape, y_tr.shape, y_te.shape"
   ]
  },
  {
   "cell_type": "code",
   "execution_count": 7,
   "id": "d591f281-b0ce-4f00-aa41-44cf1dc72ff8",
   "metadata": {},
   "outputs": [
    {
     "data": {
      "text/html": [
       "<div>\n",
       "<style scoped>\n",
       "    .dataframe tbody tr th:only-of-type {\n",
       "        vertical-align: middle;\n",
       "    }\n",
       "\n",
       "    .dataframe tbody tr th {\n",
       "        vertical-align: top;\n",
       "    }\n",
       "\n",
       "    .dataframe thead th {\n",
       "        text-align: right;\n",
       "    }\n",
       "</style>\n",
       "<table border=\"1\" class=\"dataframe\">\n",
       "  <thead>\n",
       "    <tr style=\"text-align: right;\">\n",
       "      <th></th>\n",
       "      <th>mae_tr</th>\n",
       "      <th>mae_te</th>\n",
       "      <th>range_mae_tr</th>\n",
       "      <th>range_mae_te</th>\n",
       "      <th>std_mae_tr</th>\n",
       "      <th>std_mae_te</th>\n",
       "      <th>mean_mae_tr</th>\n",
       "      <th>mean_mae_te</th>\n",
       "    </tr>\n",
       "  </thead>\n",
       "  <tbody>\n",
       "    <tr>\n",
       "      <th>OLS</th>\n",
       "      <td>25.331459</td>\n",
       "      <td>21.891280</td>\n",
       "      <td>0.047349</td>\n",
       "      <td>0.077354</td>\n",
       "      <td>0.398523</td>\n",
       "      <td>0.511830</td>\n",
       "      <td>0.745728</td>\n",
       "      <td>0.726898</td>\n",
       "    </tr>\n",
       "    <tr>\n",
       "      <th>RF</th>\n",
       "      <td>12.107809</td>\n",
       "      <td>31.941221</td>\n",
       "      <td>0.022631</td>\n",
       "      <td>0.112867</td>\n",
       "      <td>0.190484</td>\n",
       "      <td>0.746803</td>\n",
       "      <td>0.356440</td>\n",
       "      <td>1.060606</td>\n",
       "    </tr>\n",
       "    <tr>\n",
       "      <th>GBT</th>\n",
       "      <td>24.513070</td>\n",
       "      <td>22.900274</td>\n",
       "      <td>0.045819</td>\n",
       "      <td>0.080920</td>\n",
       "      <td>0.385648</td>\n",
       "      <td>0.535421</td>\n",
       "      <td>0.721636</td>\n",
       "      <td>0.760402</td>\n",
       "    </tr>\n",
       "  </tbody>\n",
       "</table>\n",
       "</div>"
      ],
      "text/plain": [
       "        mae_tr     mae_te  range_mae_tr  range_mae_te  std_mae_tr  std_mae_te  \\\n",
       "OLS  25.331459  21.891280      0.047349      0.077354    0.398523    0.511830   \n",
       "RF   12.107809  31.941221      0.022631      0.112867    0.190484    0.746803   \n",
       "GBT  24.513070  22.900274      0.045819      0.080920    0.385648    0.535421   \n",
       "\n",
       "     mean_mae_tr  mean_mae_te  \n",
       "OLS     0.745728     0.726898  \n",
       "RF      0.356440     1.060606  \n",
       "GBT     0.721636     0.760402  "
      ]
     },
     "execution_count": 7,
     "metadata": {},
     "output_type": "execute_result"
    }
   ],
   "source": [
    "from sklearn.linear_model import LinearRegression\n",
    "from sklearn.ensemble import RandomForestRegressor\n",
    "from lightgbm import LGBMRegressor\n",
    "from sklearn.metrics import mean_absolute_error\n",
    "\n",
    "def get_performance(y_tr, z_tr, y_te, z_te):\n",
    "    y_tr = np.exp(y_tr)\n",
    "    z_tr = np.exp(z_tr)\n",
    "    \n",
    "    y_te = np.exp(y_te)\n",
    "    z_te = np.exp(z_te)\n",
    "    \n",
    "    mae_tr = mean_absolute_error(y_tr, z_tr)\n",
    "    mae_te = mean_absolute_error(y_te, z_te)\n",
    "    \n",
    "    s = pd.Series([\n",
    "        mae_tr,\n",
    "        mae_te,\n",
    "        mae_tr / (y_tr.max() - y_tr.min()), \n",
    "        mae_te / (y_te.max() - y_te.min()),\n",
    "        mae_tr / y_tr.std(), \n",
    "        mae_te / y_te.std(),\n",
    "        mae_tr / y_tr.mean(), \n",
    "        mae_te / y_te.mean()\n",
    "    ], index=['mae_tr', 'mae_te', 'range_mae_tr', 'range_mae_te', 'std_mae_tr', 'std_mae_te', 'mean_mae_tr', 'mean_mae_te'])\n",
    "    \n",
    "    return s\n",
    "\n",
    "models = [\n",
    "    LinearRegression(),\n",
    "    RandomForestRegressor(n_jobs=-1, random_state=37, n_estimators=25),\n",
    "    LGBMRegressor(n_jobs=-1, random_state=37, num_leaves=10, n_estimators=50, max_depth=2)\n",
    "]\n",
    "\n",
    "for m in models:\n",
    "    m.fit(X_tr, y_tr)\n",
    "    \n",
    "pd.DataFrame([get_performance(y_tr, m.predict(X_tr), y_te, m.predict(X_te)) \n",
    "              for m in models], index=['OLS', 'RF', 'GBT'])"
   ]
  },
  {
   "cell_type": "markdown",
   "id": "ef32b497-9cab-4242-872c-fd07a2e8a4d1",
   "metadata": {},
   "source": [
    "## Log-log model with features\n",
    "\n",
    "$\\log{Q} \\sim \\log{P} + X_1 + X_2 + \\ldots + X_n$"
   ]
  },
  {
   "cell_type": "code",
   "execution_count": 8,
   "id": "cfff5c7d-bf45-40ca-b726-b7ed099ea5f1",
   "metadata": {},
   "outputs": [
    {
     "data": {
      "text/plain": [
       "((133, 26), (188, 26), (133,), (188,))"
      ]
     },
     "execution_count": 8,
     "metadata": {},
     "output_type": "execute_result"
    }
   ],
   "source": [
    "def get_Xy(df):\n",
    "    a = df.groupby(['product_category_name', 'unit_price']) \\\n",
    "        .agg(qty_sum=pd.NamedAgg(column='qty', aggfunc='sum')) \\\n",
    "        .assign(qty_sum=lambda d: np.log(d['qty_sum'])) \\\n",
    "        .rename(columns={'qty_sum': 'quantity'})\n",
    "    \n",
    "    b = df.groupby(['product_category_name', 'unit_price']) \\\n",
    "        .agg(\n",
    "            freight_price=pd.NamedAgg(column='freight_price', aggfunc='mean'),\n",
    "            product_score=pd.NamedAgg(column='product_score', aggfunc='mean'),\n",
    "            weekday=pd.NamedAgg(column='weekday', aggfunc='mean'),\n",
    "            holiday=pd.NamedAgg(column='holiday', aggfunc='mean'),\n",
    "            customers=pd.NamedAgg(column='customers', aggfunc='mean'),\n",
    "            volume=pd.NamedAgg(column='volume', aggfunc='mean'),\n",
    "            s=pd.NamedAgg(column='s', aggfunc='mean'),\n",
    "            comp_1=pd.NamedAgg(column='comp_1', aggfunc='mean'),\n",
    "            ps1=pd.NamedAgg(column='ps1', aggfunc='mean'),\n",
    "            fp1=pd.NamedAgg(column='fp1', aggfunc='mean'),\n",
    "            comp_2=pd.NamedAgg(column='comp_2', aggfunc='mean'),\n",
    "            ps2=pd.NamedAgg(column='ps2', aggfunc='mean'),\n",
    "            fp2=pd.NamedAgg(column='fp2', aggfunc='mean'),\n",
    "            comp_3=pd.NamedAgg(column='comp_3', aggfunc='mean'),\n",
    "            ps3=pd.NamedAgg(column='ps3', aggfunc='mean'),\n",
    "            fp3=pd.NamedAgg(column='fp3', aggfunc='mean'),\n",
    "            lag_price=pd.NamedAgg(column='lag_price', aggfunc='mean')\n",
    "        )\n",
    "    \n",
    "    Xy = a \\\n",
    "        .join(b, how='left') \\\n",
    "        .reset_index() \\\n",
    "        .assign(unit_price=lambda d: np.log(d['unit_price']))\n",
    "    \n",
    "    c = pd.get_dummies(Xy[['product_category_name']]).iloc[:,1:]\n",
    "    \n",
    "    Xy = Xy.join(c, how='left').drop(columns=['product_category_name'])\n",
    "    \n",
    "    X = Xy[Xy.columns.drop(['quantity'])]\n",
    "    y = Xy['quantity']\n",
    "    \n",
    "    return X, y\n",
    "\n",
    "X_tr, y_tr = get_Xy(df_tr)\n",
    "X_te, y_te = get_Xy(df_te)\n",
    "\n",
    "X_tr.shape, X_te.shape, y_tr.shape, y_te.shape"
   ]
  },
  {
   "cell_type": "code",
   "execution_count": 9,
   "id": "18ab8748-28c6-4d00-ba9e-57d7704d0881",
   "metadata": {},
   "outputs": [
    {
     "data": {
      "text/html": [
       "<div>\n",
       "<style scoped>\n",
       "    .dataframe tbody tr th:only-of-type {\n",
       "        vertical-align: middle;\n",
       "    }\n",
       "\n",
       "    .dataframe tbody tr th {\n",
       "        vertical-align: top;\n",
       "    }\n",
       "\n",
       "    .dataframe thead th {\n",
       "        text-align: right;\n",
       "    }\n",
       "</style>\n",
       "<table border=\"1\" class=\"dataframe\">\n",
       "  <thead>\n",
       "    <tr style=\"text-align: right;\">\n",
       "      <th></th>\n",
       "      <th>mae_tr</th>\n",
       "      <th>mae_te</th>\n",
       "      <th>range_mae_tr</th>\n",
       "      <th>range_mae_te</th>\n",
       "      <th>std_mae_tr</th>\n",
       "      <th>std_mae_te</th>\n",
       "      <th>mean_mae_tr</th>\n",
       "      <th>mean_mae_te</th>\n",
       "    </tr>\n",
       "  </thead>\n",
       "  <tbody>\n",
       "    <tr>\n",
       "      <th>OLS</th>\n",
       "      <td>21.592945</td>\n",
       "      <td>28.363898</td>\n",
       "      <td>0.040361</td>\n",
       "      <td>0.100226</td>\n",
       "      <td>0.357261</td>\n",
       "      <td>0.677601</td>\n",
       "      <td>0.660502</td>\n",
       "      <td>0.978245</td>\n",
       "    </tr>\n",
       "    <tr>\n",
       "      <th>RF</th>\n",
       "      <td>10.259959</td>\n",
       "      <td>20.777510</td>\n",
       "      <td>0.019177</td>\n",
       "      <td>0.073419</td>\n",
       "      <td>0.169754</td>\n",
       "      <td>0.496366</td>\n",
       "      <td>0.313840</td>\n",
       "      <td>0.716597</td>\n",
       "    </tr>\n",
       "    <tr>\n",
       "      <th>GBT</th>\n",
       "      <td>15.886894</td>\n",
       "      <td>19.211437</td>\n",
       "      <td>0.029695</td>\n",
       "      <td>0.067885</td>\n",
       "      <td>0.262853</td>\n",
       "      <td>0.458953</td>\n",
       "      <td>0.485961</td>\n",
       "      <td>0.662585</td>\n",
       "    </tr>\n",
       "  </tbody>\n",
       "</table>\n",
       "</div>"
      ],
      "text/plain": [
       "        mae_tr     mae_te  range_mae_tr  range_mae_te  std_mae_tr  std_mae_te  \\\n",
       "OLS  21.592945  28.363898      0.040361      0.100226    0.357261    0.677601   \n",
       "RF   10.259959  20.777510      0.019177      0.073419    0.169754    0.496366   \n",
       "GBT  15.886894  19.211437      0.029695      0.067885    0.262853    0.458953   \n",
       "\n",
       "     mean_mae_tr  mean_mae_te  \n",
       "OLS     0.660502     0.978245  \n",
       "RF      0.313840     0.716597  \n",
       "GBT     0.485961     0.662585  "
      ]
     },
     "execution_count": 9,
     "metadata": {},
     "output_type": "execute_result"
    }
   ],
   "source": [
    "models = [\n",
    "    LinearRegression(),\n",
    "    RandomForestRegressor(n_jobs=-1, random_state=37, n_estimators=25),\n",
    "    LGBMRegressor(n_jobs=-1, random_state=37, num_leaves=10, n_estimators=50, max_depth=2)\n",
    "]\n",
    "\n",
    "for m in models:\n",
    "    m.fit(X_tr, y_tr)\n",
    "    \n",
    "pd.DataFrame([get_performance(y_tr, m.predict(X_tr), y_te, m.predict(X_te)) \n",
    "              for m in models], index=['OLS', 'RF', 'GBT'])"
   ]
  },
  {
   "cell_type": "markdown",
   "id": "ae648410-009c-493d-b0cc-b89057d30302",
   "metadata": {},
   "source": [
    "## MERF model\n",
    "\n",
    "$y_i = f(X_i) + Z_i u_i + e_i$"
   ]
  },
  {
   "cell_type": "code",
   "execution_count": 24,
   "id": "8de62b40-0897-4d56-b1c7-b09400ce4bb1",
   "metadata": {},
   "outputs": [
    {
     "data": {
      "text/plain": [
       "{'bed_bath_table': 0,\n",
       " 'garden_tools': 1,\n",
       " 'consoles_games': 2,\n",
       " 'health_beauty': 3,\n",
       " 'cool_stuff': 4,\n",
       " 'perfumery': 5,\n",
       " 'computers_accessories': 6,\n",
       " 'watches_gifts': 7,\n",
       " 'furniture_decor': 8}"
      ]
     },
     "execution_count": 24,
     "metadata": {},
     "output_type": "execute_result"
    }
   ],
   "source": [
    "p2i = {c: i for i, c in enumerate(list(df['product_category_name'].unique()))}\n",
    "i2p = {v: k for k, v in p2i.items()}\n",
    "\n",
    "p2i"
   ]
  },
  {
   "cell_type": "code",
   "execution_count": 184,
   "id": "bbb36f8f-7a47-4328-a8c1-ba28f54d6676",
   "metadata": {},
   "outputs": [],
   "source": [
    "def get_Xy(df):\n",
    "    a = df.groupby(['product_id', 'product_category_name', 'unit_price']) \\\n",
    "        .agg(\n",
    "            qty_sum=pd.NamedAgg(column='qty', aggfunc='sum'),\n",
    "            freight_price=pd.NamedAgg(column='freight_price', aggfunc='mean'),\n",
    "            product_score=pd.NamedAgg(column='product_score', aggfunc='mean'),\n",
    "            comp_1=pd.NamedAgg(column='comp_1', aggfunc='mean'),\n",
    "            ps1=pd.NamedAgg(column='ps1', aggfunc='mean'),\n",
    "            fp1=pd.NamedAgg(column='fp1', aggfunc='mean'),\n",
    "            comp_2=pd.NamedAgg(column='comp_2', aggfunc='mean'),\n",
    "            ps2=pd.NamedAgg(column='ps2', aggfunc='mean'),\n",
    "            fp2=pd.NamedAgg(column='fp2', aggfunc='mean'),\n",
    "            comp_3=pd.NamedAgg(column='comp_3', aggfunc='mean'),\n",
    "            ps3=pd.NamedAgg(column='ps3', aggfunc='mean'),\n",
    "            fp3=pd.NamedAgg(column='fp3', aggfunc='mean'),\n",
    "            lag_price=pd.NamedAgg(column='lag_price', aggfunc='mean')\n",
    "        ) \\\n",
    "        .assign(\n",
    "            qty_sum=lambda d: np.log(d['qty_sum'])\n",
    "        ) \\\n",
    "        .rename(columns={'qty_sum': 'quantity'}) \\\n",
    "        .reset_index() \\\n",
    "        .drop(columns=['product_id']) \\\n",
    "        .set_index(['product_category_name', 'unit_price'])\n",
    "    \n",
    "    b = df.groupby(['product_category_name', 'unit_price']) \\\n",
    "        .agg(\n",
    "            weekday=pd.NamedAgg(column='weekday', aggfunc='mean'),\n",
    "            holiday=pd.NamedAgg(column='holiday', aggfunc='mean'),\n",
    "            customers=pd.NamedAgg(column='customers', aggfunc='mean'),\n",
    "            volume=pd.NamedAgg(column='volume', aggfunc='mean'),\n",
    "            s=pd.NamedAgg(column='s', aggfunc='mean')\n",
    "        )\n",
    "    \n",
    "    Xy = a \\\n",
    "        .join(b, how='inner') \\\n",
    "        .reset_index() \\\n",
    "        .assign(unit_price=lambda d: np.log(d['unit_price']))\n",
    "    \n",
    "    Xy = Xy.assign(product_category_name=lambda d: d['product_category_name'].map(p2i))\n",
    "    \n",
    "    X = Xy[Xy.columns.drop(['quantity', 'product_category_name', 'weekday', 'holiday', 'customers', 'volume', 's'])]\n",
    "    Z = Xy[['weekday', 'holiday', 'customers', 's', 'lag_price']]\n",
    "    C = Xy['product_category_name']\n",
    "    y = Xy['quantity']\n",
    "    \n",
    "    return X, Z, C, y\n",
    "\n",
    "X_tr, Z_tr, C_tr, y_tr = get_Xy(df_tr)\n",
    "X_te, Z_te, C_te, y_te = get_Xy(df_te)"
   ]
  },
  {
   "cell_type": "code",
   "execution_count": 185,
   "id": "45a4128b-68f3-41e4-a689-3a14dd22486b",
   "metadata": {},
   "outputs": [
    {
     "data": {
      "text/plain": [
       "((148, 13), (148, 5), (148,), (148,))"
      ]
     },
     "execution_count": 185,
     "metadata": {},
     "output_type": "execute_result"
    }
   ],
   "source": [
    "X_tr.shape, Z_tr.shape, C_tr.shape, y_tr.shape"
   ]
  },
  {
   "cell_type": "code",
   "execution_count": 186,
   "id": "49d0b308-d950-45cb-9ab3-28d792c7a8b9",
   "metadata": {},
   "outputs": [
    {
     "data": {
      "text/plain": [
       "((208, 13), (208, 5), (208,), (208,))"
      ]
     },
     "execution_count": 186,
     "metadata": {},
     "output_type": "execute_result"
    }
   ],
   "source": [
    "X_te.shape, Z_te.shape, C_te.shape, y_te.shape"
   ]
  },
  {
   "cell_type": "code",
   "execution_count": 187,
   "id": "46b74487-4977-4a88-8648-12c012afe935",
   "metadata": {},
   "outputs": [
    {
     "name": "stderr",
     "output_type": "stream",
     "text": [
      "INFO     [merf.py:307] Training GLL is -101.1968163353814 at iteration 1.\n",
      "INFO     [merf.py:307] Training GLL is -171.1640578010463 at iteration 2.\n",
      "INFO     [merf.py:307] Training GLL is -212.75117154771698 at iteration 3.\n",
      "INFO     [merf.py:307] Training GLL is -237.39499667414066 at iteration 4.\n",
      "INFO     [merf.py:307] Training GLL is -251.62779481759006 at iteration 5.\n",
      "INFO     [merf.py:307] Training GLL is -261.7722548740787 at iteration 6.\n",
      "INFO     [merf.py:307] Training GLL is -270.9140854853618 at iteration 7.\n",
      "INFO     [merf.py:307] Training GLL is -277.83585751275916 at iteration 8.\n",
      "INFO     [merf.py:307] Training GLL is -284.21616758351246 at iteration 9.\n",
      "INFO     [merf.py:307] Training GLL is -291.04387362987586 at iteration 10.\n",
      "INFO     [merf.py:307] Training GLL is -296.8627723342258 at iteration 11.\n",
      "INFO     [merf.py:307] Training GLL is -301.2918249231089 at iteration 12.\n",
      "INFO     [merf.py:307] Training GLL is -309.26393558352703 at iteration 13.\n",
      "INFO     [merf.py:307] Training GLL is -313.2097808046962 at iteration 14.\n",
      "INFO     [merf.py:307] Training GLL is -317.2383961714736 at iteration 15.\n",
      "INFO     [merf.py:307] Training GLL is -321.7435059128996 at iteration 16.\n",
      "INFO     [merf.py:307] Training GLL is -325.2538612236828 at iteration 17.\n",
      "INFO     [merf.py:307] Training GLL is -328.3921568508639 at iteration 18.\n",
      "INFO     [merf.py:307] Training GLL is -331.50957038651956 at iteration 19.\n",
      "INFO     [merf.py:307] Training GLL is -335.3589905781771 at iteration 20.\n",
      "INFO     [merf.py:307] Training GLL is -338.95481032416114 at iteration 21.\n",
      "INFO     [merf.py:307] Training GLL is -342.3731168291061 at iteration 22.\n",
      "INFO     [merf.py:307] Training GLL is -345.44424779142946 at iteration 23.\n",
      "INFO     [merf.py:307] Training GLL is -348.75818816379353 at iteration 24.\n",
      "INFO     [merf.py:307] Training GLL is -352.55104484977323 at iteration 25.\n",
      "INFO     [merf.py:307] Training GLL is -355.1022519189787 at iteration 26.\n",
      "INFO     [merf.py:307] Training GLL is -357.6226061096613 at iteration 27.\n",
      "INFO     [merf.py:307] Training GLL is -358.64542456182846 at iteration 28.\n",
      "INFO     [merf.py:307] Training GLL is -361.59954337110486 at iteration 29.\n",
      "INFO     [merf.py:307] Training GLL is -362.0709194909007 at iteration 30.\n"
     ]
    },
    {
     "data": {
      "text/plain": [
       "mae_tr          15.590045\n",
       "mae_te          18.394509\n",
       "range_mae_tr     0.045853\n",
       "range_mae_te     0.064998\n",
       "std_mae_tr       0.388801\n",
       "std_mae_te       0.529736\n",
       "mean_mae_tr      0.530664\n",
       "mean_mae_te      0.701900\n",
       "dtype: float64"
      ]
     },
     "execution_count": 187,
     "metadata": {},
     "output_type": "execute_result"
    }
   ],
   "source": [
    "from merf import MERF\n",
    "\n",
    "m = MERF(\n",
    "    fixed_effects_model=LGBMRegressor(n_jobs=-1, random_state=37, num_leaves=10, n_estimators=25, max_depth=2),\n",
    "    max_iterations=30\n",
    ")\n",
    "m.fit(X_tr, Z_tr, C_tr, y_tr)\n",
    "get_performance(y_tr, m.predict(X_tr, Z_tr, C_tr), y_te, m.predict(X_te, Z_te, C_te))"
   ]
  },
  {
   "cell_type": "code",
   "execution_count": 188,
   "id": "ffd505b9-1370-40ef-91e9-96a5efca96c0",
   "metadata": {},
   "outputs": [
    {
     "data": {
      "text/plain": [
       "unit_price       25\n",
       "freight_price    11\n",
       "fp1               9\n",
       "fp2               7\n",
       "comp_3            7\n",
       "ps3               4\n",
       "ps2               3\n",
       "fp3               2\n",
       "lag_price         2\n",
       "product_score     0\n",
       "comp_1            0\n",
       "ps1               0\n",
       "comp_2            0\n",
       "dtype: int32"
      ]
     },
     "execution_count": 188,
     "metadata": {},
     "output_type": "execute_result"
    }
   ],
   "source": [
    "pd.Series(m.fe_model.feature_importances_, X_tr.columns) \\\n",
    "    .sort_values(ascending=False)"
   ]
  },
  {
   "cell_type": "code",
   "execution_count": 189,
   "id": "86130ac4-9d5d-430b-a4b7-250ba1cd54a4",
   "metadata": {},
   "outputs": [
    {
     "data": {
      "text/html": [
       "<div>\n",
       "<style scoped>\n",
       "    .dataframe tbody tr th:only-of-type {\n",
       "        vertical-align: middle;\n",
       "    }\n",
       "\n",
       "    .dataframe tbody tr th {\n",
       "        vertical-align: top;\n",
       "    }\n",
       "\n",
       "    .dataframe thead th {\n",
       "        text-align: right;\n",
       "    }\n",
       "</style>\n",
       "<table border=\"1\" class=\"dataframe\">\n",
       "  <thead>\n",
       "    <tr style=\"text-align: right;\">\n",
       "      <th></th>\n",
       "      <th>weekday</th>\n",
       "      <th>holiday</th>\n",
       "      <th>customers</th>\n",
       "      <th>volume</th>\n",
       "      <th>s</th>\n",
       "    </tr>\n",
       "  </thead>\n",
       "  <tbody>\n",
       "    <tr>\n",
       "      <th>bed_bath_table</th>\n",
       "      <td>-0.007945</td>\n",
       "      <td>-0.186044</td>\n",
       "      <td>0.000864</td>\n",
       "      <td>0.035106</td>\n",
       "      <td>-0.002121</td>\n",
       "    </tr>\n",
       "    <tr>\n",
       "      <th>garden_tools</th>\n",
       "      <td>-0.030065</td>\n",
       "      <td>-0.062398</td>\n",
       "      <td>0.001513</td>\n",
       "      <td>0.052798</td>\n",
       "      <td>-0.004259</td>\n",
       "    </tr>\n",
       "    <tr>\n",
       "      <th>consoles_games</th>\n",
       "      <td>-0.004937</td>\n",
       "      <td>-0.007303</td>\n",
       "      <td>0.000203</td>\n",
       "      <td>0.009453</td>\n",
       "      <td>-0.000838</td>\n",
       "    </tr>\n",
       "    <tr>\n",
       "      <th>health_beauty</th>\n",
       "      <td>0.016584</td>\n",
       "      <td>-0.038887</td>\n",
       "      <td>-0.000543</td>\n",
       "      <td>-0.018656</td>\n",
       "      <td>0.001668</td>\n",
       "    </tr>\n",
       "    <tr>\n",
       "      <th>cool_stuff</th>\n",
       "      <td>0.003853</td>\n",
       "      <td>0.133319</td>\n",
       "      <td>0.000107</td>\n",
       "      <td>-0.026230</td>\n",
       "      <td>0.001764</td>\n",
       "    </tr>\n",
       "    <tr>\n",
       "      <th>perfumery</th>\n",
       "      <td>-0.003835</td>\n",
       "      <td>-0.027635</td>\n",
       "      <td>0.000262</td>\n",
       "      <td>0.009871</td>\n",
       "      <td>-0.000816</td>\n",
       "    </tr>\n",
       "    <tr>\n",
       "      <th>computers_accessories</th>\n",
       "      <td>-0.028299</td>\n",
       "      <td>0.319809</td>\n",
       "      <td>0.001429</td>\n",
       "      <td>-0.003708</td>\n",
       "      <td>-0.001072</td>\n",
       "    </tr>\n",
       "    <tr>\n",
       "      <th>watches_gifts</th>\n",
       "      <td>-0.030244</td>\n",
       "      <td>0.035122</td>\n",
       "      <td>0.002325</td>\n",
       "      <td>0.034548</td>\n",
       "      <td>-0.002885</td>\n",
       "    </tr>\n",
       "    <tr>\n",
       "      <th>furniture_decor</th>\n",
       "      <td>0.007239</td>\n",
       "      <td>0.042501</td>\n",
       "      <td>-0.000677</td>\n",
       "      <td>-0.013164</td>\n",
       "      <td>0.000763</td>\n",
       "    </tr>\n",
       "  </tbody>\n",
       "</table>\n",
       "</div>"
      ],
      "text/plain": [
       "                        weekday   holiday  customers    volume         s\n",
       "bed_bath_table        -0.007945 -0.186044   0.000864  0.035106 -0.002121\n",
       "garden_tools          -0.030065 -0.062398   0.001513  0.052798 -0.004259\n",
       "consoles_games        -0.004937 -0.007303   0.000203  0.009453 -0.000838\n",
       "health_beauty          0.016584 -0.038887  -0.000543 -0.018656  0.001668\n",
       "cool_stuff             0.003853  0.133319   0.000107 -0.026230  0.001764\n",
       "perfumery             -0.003835 -0.027635   0.000262  0.009871 -0.000816\n",
       "computers_accessories -0.028299  0.319809   0.001429 -0.003708 -0.001072\n",
       "watches_gifts         -0.030244  0.035122   0.002325  0.034548 -0.002885\n",
       "furniture_decor        0.007239  0.042501  -0.000677 -0.013164  0.000763"
      ]
     },
     "execution_count": 189,
     "metadata": {},
     "output_type": "execute_result"
    }
   ],
   "source": [
    "m.trained_b.sort_index() \\\n",
    "    .rename(columns={0: 'weekday', 1: 'holiday', 2: 'customers', 3: 'volume', 4: 's', 5: 'lag_price'}) \\\n",
    "    .T \\\n",
    "    .rename(columns=i2p).T"
   ]
  },
  {
   "cell_type": "code",
   "execution_count": 190,
   "id": "1acd4fcc-5647-4c9a-90be-bd5a78c33615",
   "metadata": {},
   "outputs": [
    {
     "name": "stderr",
     "output_type": "stream",
     "text": [
      "/opt/anaconda3/lib/python3.9/site-packages/pandas/plotting/_matplotlib/core.py:1114: UserWarning: No data for colormapping provided via 'c'. Parameters 'cmap' will be ignored\n",
      "  scatter = ax.scatter(\n"
     ]
    },
    {
     "data": {
      "text/plain": [
       "<Axes: xlabel='unit_price', ylabel='qty'>"
      ]
     },
     "execution_count": 190,
     "metadata": {},
     "output_type": "execute_result"
    },
    {
     "data": {
      "image/png": "[encoded data removed]",
      "text/plain": [
       "<Figure size 640x480 with 1 Axes>"
      ]
     },
     "metadata": {},
     "output_type": "display_data"
    }
   ],
   "source": [
    "def get_demand_curve(X, Z, C, idx, min_price=2.00, max_price=20.01, step=0.01):\n",
    "    x = X.iloc[idx].to_dict()\n",
    "    z = Z.iloc[idx].to_dict()\n",
    "    c = C.iloc[idx]\n",
    "    \n",
    "    XX = pd.DataFrame([{**x, **{'unit_price': np.log(p)}} for p in np.arange(min_price, max_price, step)])\n",
    "    ZZ = pd.DataFrame([z for p in np.arange(min_price, max_price, step)])\n",
    "    c = pd.Series([c for _ in np.arange(min_price, max_price, step)])\n",
    "    return XX, ZZ, c\n",
    "\n",
    "x, z, c = get_demand_curve(X_tr, Z_tr, C_tr, 0)\n",
    "x = x \\\n",
    "    .assign(qty=m.predict(x, z, c)) \\\n",
    "    .assign(qty=lambda d: np.exp(d['qty'])) \\\n",
    "    .assign(unit_price=lambda d: np.exp(d['unit_price']))\n",
    "\n",
    "x.plot(kind='scatter', x='unit_price', y='qty', s=1)"
   ]
  },
  {
   "cell_type": "code",
   "execution_count": 191,
   "id": "73fd1c18-2858-4e06-91f3-b3bdb62c9efb",
   "metadata": {},
   "outputs": [
    {
     "data": {
      "text/plain": [
       "(39.989999999999995, 6.0)"
      ]
     },
     "execution_count": 191,
     "metadata": {},
     "output_type": "execute_result"
    }
   ],
   "source": [
    "np.exp(X_tr.iloc[0].unit_price), np.exp(y_tr.iloc[0])"
   ]
  },
  {
   "cell_type": "code",
   "execution_count": 192,
   "id": "31d8dd41-c884-4996-9fb1-46b60436a5bc",
   "metadata": {},
   "outputs": [
    {
     "data": {
      "text/html": [
       "<div>\n",
       "<style scoped>\n",
       "    .dataframe tbody tr th:only-of-type {\n",
       "        vertical-align: middle;\n",
       "    }\n",
       "\n",
       "    .dataframe tbody tr th {\n",
       "        vertical-align: top;\n",
       "    }\n",
       "\n",
       "    .dataframe thead th {\n",
       "        text-align: right;\n",
       "    }\n",
       "</style>\n",
       "<table border=\"1\" class=\"dataframe\">\n",
       "  <thead>\n",
       "    <tr style=\"text-align: right;\">\n",
       "      <th></th>\n",
       "      <th>unit_price</th>\n",
       "      <th>freight_price</th>\n",
       "      <th>product_score</th>\n",
       "      <th>comp_1</th>\n",
       "      <th>ps1</th>\n",
       "      <th>fp1</th>\n",
       "      <th>comp_2</th>\n",
       "      <th>ps2</th>\n",
       "      <th>fp2</th>\n",
       "      <th>comp_3</th>\n",
       "      <th>ps3</th>\n",
       "      <th>fp3</th>\n",
       "      <th>lag_price</th>\n",
       "      <th>qty</th>\n",
       "    </tr>\n",
       "  </thead>\n",
       "  <tbody>\n",
       "    <tr>\n",
       "      <th>0</th>\n",
       "      <td>2.00</td>\n",
       "      <td>15.23</td>\n",
       "      <td>4.0</td>\n",
       "      <td>88.488235</td>\n",
       "      <td>3.9</td>\n",
       "      <td>18.898333</td>\n",
       "      <td>39.99</td>\n",
       "      <td>4.0</td>\n",
       "      <td>15.23</td>\n",
       "      <td>39.99</td>\n",
       "      <td>4.0</td>\n",
       "      <td>15.23</td>\n",
       "      <td>40.531818</td>\n",
       "      <td>20.358933</td>\n",
       "    </tr>\n",
       "    <tr>\n",
       "      <th>1</th>\n",
       "      <td>2.01</td>\n",
       "      <td>15.23</td>\n",
       "      <td>4.0</td>\n",
       "      <td>88.488235</td>\n",
       "      <td>3.9</td>\n",
       "      <td>18.898333</td>\n",
       "      <td>39.99</td>\n",
       "      <td>4.0</td>\n",
       "      <td>15.23</td>\n",
       "      <td>39.99</td>\n",
       "      <td>4.0</td>\n",
       "      <td>15.23</td>\n",
       "      <td>40.531818</td>\n",
       "      <td>20.358933</td>\n",
       "    </tr>\n",
       "    <tr>\n",
       "      <th>2</th>\n",
       "      <td>2.02</td>\n",
       "      <td>15.23</td>\n",
       "      <td>4.0</td>\n",
       "      <td>88.488235</td>\n",
       "      <td>3.9</td>\n",
       "      <td>18.898333</td>\n",
       "      <td>39.99</td>\n",
       "      <td>4.0</td>\n",
       "      <td>15.23</td>\n",
       "      <td>39.99</td>\n",
       "      <td>4.0</td>\n",
       "      <td>15.23</td>\n",
       "      <td>40.531818</td>\n",
       "      <td>20.358933</td>\n",
       "    </tr>\n",
       "    <tr>\n",
       "      <th>3</th>\n",
       "      <td>2.03</td>\n",
       "      <td>15.23</td>\n",
       "      <td>4.0</td>\n",
       "      <td>88.488235</td>\n",
       "      <td>3.9</td>\n",
       "      <td>18.898333</td>\n",
       "      <td>39.99</td>\n",
       "      <td>4.0</td>\n",
       "      <td>15.23</td>\n",
       "      <td>39.99</td>\n",
       "      <td>4.0</td>\n",
       "      <td>15.23</td>\n",
       "      <td>40.531818</td>\n",
       "      <td>20.358933</td>\n",
       "    </tr>\n",
       "    <tr>\n",
       "      <th>4</th>\n",
       "      <td>2.04</td>\n",
       "      <td>15.23</td>\n",
       "      <td>4.0</td>\n",
       "      <td>88.488235</td>\n",
       "      <td>3.9</td>\n",
       "      <td>18.898333</td>\n",
       "      <td>39.99</td>\n",
       "      <td>4.0</td>\n",
       "      <td>15.23</td>\n",
       "      <td>39.99</td>\n",
       "      <td>4.0</td>\n",
       "      <td>15.23</td>\n",
       "      <td>40.531818</td>\n",
       "      <td>20.358933</td>\n",
       "    </tr>\n",
       "    <tr>\n",
       "      <th>...</th>\n",
       "      <td>...</td>\n",
       "      <td>...</td>\n",
       "      <td>...</td>\n",
       "      <td>...</td>\n",
       "      <td>...</td>\n",
       "      <td>...</td>\n",
       "      <td>...</td>\n",
       "      <td>...</td>\n",
       "      <td>...</td>\n",
       "      <td>...</td>\n",
       "      <td>...</td>\n",
       "      <td>...</td>\n",
       "      <td>...</td>\n",
       "      <td>...</td>\n",
       "    </tr>\n",
       "    <tr>\n",
       "      <th>1797</th>\n",
       "      <td>19.97</td>\n",
       "      <td>15.23</td>\n",
       "      <td>4.0</td>\n",
       "      <td>88.488235</td>\n",
       "      <td>3.9</td>\n",
       "      <td>18.898333</td>\n",
       "      <td>39.99</td>\n",
       "      <td>4.0</td>\n",
       "      <td>15.23</td>\n",
       "      <td>39.99</td>\n",
       "      <td>4.0</td>\n",
       "      <td>15.23</td>\n",
       "      <td>40.531818</td>\n",
       "      <td>20.358933</td>\n",
       "    </tr>\n",
       "    <tr>\n",
       "      <th>1798</th>\n",
       "      <td>19.98</td>\n",
       "      <td>15.23</td>\n",
       "      <td>4.0</td>\n",
       "      <td>88.488235</td>\n",
       "      <td>3.9</td>\n",
       "      <td>18.898333</td>\n",
       "      <td>39.99</td>\n",
       "      <td>4.0</td>\n",
       "      <td>15.23</td>\n",
       "      <td>39.99</td>\n",
       "      <td>4.0</td>\n",
       "      <td>15.23</td>\n",
       "      <td>40.531818</td>\n",
       "      <td>20.358933</td>\n",
       "    </tr>\n",
       "    <tr>\n",
       "      <th>1799</th>\n",
       "      <td>19.99</td>\n",
       "      <td>15.23</td>\n",
       "      <td>4.0</td>\n",
       "      <td>88.488235</td>\n",
       "      <td>3.9</td>\n",
       "      <td>18.898333</td>\n",
       "      <td>39.99</td>\n",
       "      <td>4.0</td>\n",
       "      <td>15.23</td>\n",
       "      <td>39.99</td>\n",
       "      <td>4.0</td>\n",
       "      <td>15.23</td>\n",
       "      <td>40.531818</td>\n",
       "      <td>20.358933</td>\n",
       "    </tr>\n",
       "    <tr>\n",
       "      <th>1800</th>\n",
       "      <td>20.00</td>\n",
       "      <td>15.23</td>\n",
       "      <td>4.0</td>\n",
       "      <td>88.488235</td>\n",
       "      <td>3.9</td>\n",
       "      <td>18.898333</td>\n",
       "      <td>39.99</td>\n",
       "      <td>4.0</td>\n",
       "      <td>15.23</td>\n",
       "      <td>39.99</td>\n",
       "      <td>4.0</td>\n",
       "      <td>15.23</td>\n",
       "      <td>40.531818</td>\n",
       "      <td>20.358933</td>\n",
       "    </tr>\n",
       "    <tr>\n",
       "      <th>1801</th>\n",
       "      <td>20.01</td>\n",
       "      <td>15.23</td>\n",
       "      <td>4.0</td>\n",
       "      <td>88.488235</td>\n",
       "      <td>3.9</td>\n",
       "      <td>18.898333</td>\n",
       "      <td>39.99</td>\n",
       "      <td>4.0</td>\n",
       "      <td>15.23</td>\n",
       "      <td>39.99</td>\n",
       "      <td>4.0</td>\n",
       "      <td>15.23</td>\n",
       "      <td>40.531818</td>\n",
       "      <td>20.358933</td>\n",
       "    </tr>\n",
       "  </tbody>\n",
       "</table>\n",
       "<p>1802 rows × 14 columns</p>\n",
       "</div>"
      ],
      "text/plain": [
       "      unit_price  freight_price  product_score     comp_1  ps1        fp1  \\\n",
       "0           2.00          15.23            4.0  88.488235  3.9  18.898333   \n",
       "1           2.01          15.23            4.0  88.488235  3.9  18.898333   \n",
       "2           2.02          15.23            4.0  88.488235  3.9  18.898333   \n",
       "3           2.03          15.23            4.0  88.488235  3.9  18.898333   \n",
       "4           2.04          15.23            4.0  88.488235  3.9  18.898333   \n",
       "...          ...            ...            ...        ...  ...        ...   \n",
       "1797       19.97          15.23            4.0  88.488235  3.9  18.898333   \n",
       "1798       19.98          15.23            4.0  88.488235  3.9  18.898333   \n",
       "1799       19.99          15.23            4.0  88.488235  3.9  18.898333   \n",
       "1800       20.00          15.23            4.0  88.488235  3.9  18.898333   \n",
       "1801       20.01          15.23            4.0  88.488235  3.9  18.898333   \n",
       "\n",
       "      comp_2  ps2    fp2  comp_3  ps3    fp3  lag_price        qty  \n",
       "0      39.99  4.0  15.23   39.99  4.0  15.23  40.531818  20.358933  \n",
       "1      39.99  4.0  15.23   39.99  4.0  15.23  40.531818  20.358933  \n",
       "2      39.99  4.0  15.23   39.99  4.0  15.23  40.531818  20.358933  \n",
       "3      39.99  4.0  15.23   39.99  4.0  15.23  40.531818  20.358933  \n",
       "4      39.99  4.0  15.23   39.99  4.0  15.23  40.531818  20.358933  \n",
       "...      ...  ...    ...     ...  ...    ...        ...        ...  \n",
       "1797   39.99  4.0  15.23   39.99  4.0  15.23  40.531818  20.358933  \n",
       "1798   39.99  4.0  15.23   39.99  4.0  15.23  40.531818  20.358933  \n",
       "1799   39.99  4.0  15.23   39.99  4.0  15.23  40.531818  20.358933  \n",
       "1800   39.99  4.0  15.23   39.99  4.0  15.23  40.531818  20.358933  \n",
       "1801   39.99  4.0  15.23   39.99  4.0  15.23  40.531818  20.358933  \n",
       "\n",
       "[1802 rows x 14 columns]"
      ]
     },
     "execution_count": 192,
     "metadata": {},
     "output_type": "execute_result"
    }
   ],
   "source": [
    "x"
   ]
  },
  {
   "cell_type": "code",
   "execution_count": null,
   "id": "c5f04be8-436e-4817-b7ec-cbc58663ccb6",
   "metadata": {},
   "outputs": [],
   "source": []
  }
 ],
 "metadata": {
  "kernelspec": {
   "display_name": "Python 3 (ipykernel)",
   "language": "python",
   "name": "python3"
  },
  "language_info": {
   "codemirror_mode": {
    "name": "ipython",
    "version": 3
   },
   "file_extension": ".py",
   "mimetype": "text/x-python",
   "name": "python",
   "nbconvert_exporter": "python",
   "pygments_lexer": "ipython3",
   "version": "3.9.16"
  },
  "widgets": {
   "application/vnd.jupyter.widget-state+json": {
    "state": {},
    "version_major": 2,
    "version_minor": 0
   }
  }
 },
 "nbformat": 4,
 "nbformat_minor": 5
}
