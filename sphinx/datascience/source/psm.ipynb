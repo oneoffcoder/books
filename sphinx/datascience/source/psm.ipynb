{
 "cells": [
  {
   "cell_type": "markdown",
   "id": "a3bb1fd0-5b86-4328-8e39-9c0b50fa00d9",
   "metadata": {},
   "source": [
    "# Propensity Score Matching\n",
    "\n",
    "Propensity Score Matching `PSM` is an approach for causal inference. In particular, PSM is used to estimate the Average Treatment Effect `ATE` one variable, termed the treatment variable `T`, on another, termed the outcome variable `O`. In general, `T` and `O` are pairs that are assumed to be in a causal relationship, where manipulating `T` changes `O`. However, how `T` impacts `O` in magnitude and direction is usually confounded by many variables $X = {X_1, X_2, \\ldots, X_n}$. For example, if `T` represents the application of a novel surgical procedure used for a certain disease, then `T=1` denotes the use of such procedure and `T=0` denotes the non-use of such procedure. The outcome `O` could be that the patient has been cured `O=1` or not `O=0`. What we want to do is to estimate how `T` impacts `O`, and one way to do so is to simply taken the differences of the expected values of the outcomes when treatment is applied or not.\n",
    "\n",
    "- $\\mathrm{ATE} = E[O|T=1] - E[O|T=0]$\n",
    "\n",
    "The problem is with confounding variables; it could be that healthier patients are biasedly selected into treatment `T=1` and less healthy patients are selected into non-treatment `T=0`. If we were to estimate `ATE`, then the result would be biased. \n",
    "\n",
    "Before we compute `ATE`, we should remove confounding variables, and PSM is one way to do so by introducing a propensity score which balances the data/covariates (balancing means removing confounding variables). The propensity score of an item (e.g. a patient) is simply its probability of being assigned to treatment `T=1`. Commonly, the propensity score of an item is produced through logistic regression, where `T` is the dependent variable and $X$ are the independent variables. Once every item has a propensity score, then paired samples from the population where `T=0` and `T=1` can be created based on their propensity scores (you want to create a pair of samples such that their propensity scores are nearly, if not entirely, identical). This approach makes sense since we are essentially pairing up items that are identical in every way except for whether or not they were treated; that the items in a pair are identical in every way is the removal of confounding variables/factors. This approach addresses the [Fundamental Problem of Causal Inference](https://en.wikipedia.org/wiki/Rubin_causal_model#The_fundamental_problem_of_causal_inference) `FPCI`. Without going into depth, after we have a pairing of individuals (one treated with one that is not treated), then we can compute the `ATE`. \n",
    "\n",
    "There are many ways to conduct PSM, but in this notebook, use double regression to estimate ATE. Denote the following.\n",
    "\n",
    "- T is the treatment variable\n",
    "- O is the outcome variable\n",
    "- X is the set of covariates (possibly confounding variables)\n",
    "\n",
    "Then the procedure is as follows.\n",
    "\n",
    "- Use logistic regression `T ~ X` to assign a propensity score $\\pi_i$ on each item\n",
    "- Calculate the Inverse Probability Treatment Weight `IPTW` from the propensity score and T\n",
    "  - $w_i = \\dfrac{T_i}{\\pi_i} + \\dfrac{1 - T_i}{1 - \\pi_i}$\n",
    "- Conduct weighted regression `O ~ T + X` using $w$\n",
    "\n",
    "The coefficient associated with `T` will be the ATE."
   ]
  },
  {
   "cell_type": "markdown",
   "id": "291b67cf-462f-4c0a-b72c-e8f0c602e131",
   "metadata": {},
   "source": [
    "## Data\n",
    "\n",
    "The data is taken from [Causal Analysis and Comparative Effectiveness Course](http://openonlinecourses.com/causalanalysis/Propensity%20Scoring.asp). There are 6,657 patients 9 covariates indicating the presence (1) or absence (0) of a disease.\n",
    "\n",
    "- hypertension\n",
    "- anemia\n",
    "- diabetes\n",
    "- hiv\n",
    "- stomach cancer\n",
    "- lung cancer\n",
    "- myocardial infarction\n",
    "- heart failure\n",
    "- metastatic cancer\n",
    "\n",
    "The treatment variable `T` denotes whether a patient was treated by Dr. Smith.\n",
    "\n",
    "- 1 indicates a patient was treated by Dr. Smith\n",
    "- 0 indicates a patient was `not` treated by Dr. Smith\n",
    "\n",
    "The outcome variable `O` denotes the length of stay (LOS) of each patient. \n",
    "\n",
    "We want to estimate the [average treatment effect (ATE)](https://en.wikipedia.org/wiki/Average_treatment_effect) of Dr. Smith on the LOS. "
   ]
  },
  {
   "cell_type": "code",
   "execution_count": 1,
   "id": "82b4ff4f-d033-4137-80ef-4423ffc60039",
   "metadata": {
    "execution": {
     "iopub.execute_input": "2022-03-01T20:14:35.818814Z",
     "iopub.status.busy": "2022-03-01T20:14:35.818814Z",
     "iopub.status.idle": "2022-03-01T20:14:36.127828Z",
     "shell.execute_reply": "2022-03-01T20:14:36.127828Z",
     "shell.execute_reply.started": "2022-03-01T20:14:35.818814Z"
    },
    "tags": []
   },
   "outputs": [
    {
     "data": {
      "text/plain": [
       "(6657, 11)"
      ]
     },
     "execution_count": 1,
     "metadata": {},
     "output_type": "execute_result"
    }
   ],
   "source": [
    "import pandas as pd\n",
    "\n",
    "df = pd.read_csv('./psm-data.csv')\n",
    "df.shape"
   ]
  },
  {
   "cell_type": "code",
   "execution_count": 2,
   "id": "b71ca4c2-a545-4ccc-b95b-29d5de01d899",
   "metadata": {
    "execution": {
     "iopub.execute_input": "2022-03-01T20:14:36.128827Z",
     "iopub.status.busy": "2022-03-01T20:14:36.128827Z",
     "iopub.status.idle": "2022-03-01T20:14:36.142831Z",
     "shell.execute_reply": "2022-03-01T20:14:36.142831Z",
     "shell.execute_reply.started": "2022-03-01T20:14:36.128827Z"
    },
    "tags": []
   },
   "outputs": [
    {
     "data": {
      "text/html": [
       "<div>\n",
       "<style scoped>\n",
       "    .dataframe tbody tr th:only-of-type {\n",
       "        vertical-align: middle;\n",
       "    }\n",
       "\n",
       "    .dataframe tbody tr th {\n",
       "        vertical-align: top;\n",
       "    }\n",
       "\n",
       "    .dataframe thead th {\n",
       "        text-align: right;\n",
       "    }\n",
       "</style>\n",
       "<table border=\"1\" class=\"dataframe\">\n",
       "  <thead>\n",
       "    <tr style=\"text-align: right;\">\n",
       "      <th></th>\n",
       "      <th>hypertension</th>\n",
       "      <th>anemia</th>\n",
       "      <th>diabetes</th>\n",
       "      <th>hiv</th>\n",
       "      <th>stomach_cancer</th>\n",
       "      <th>lung_cancer</th>\n",
       "      <th>myocardial_infarction</th>\n",
       "      <th>heart_failure</th>\n",
       "      <th>metastetic_cancer</th>\n",
       "      <th>T</th>\n",
       "      <th>O</th>\n",
       "    </tr>\n",
       "  </thead>\n",
       "  <tbody>\n",
       "    <tr>\n",
       "      <th>0</th>\n",
       "      <td>0</td>\n",
       "      <td>0</td>\n",
       "      <td>0</td>\n",
       "      <td>0</td>\n",
       "      <td>0</td>\n",
       "      <td>0</td>\n",
       "      <td>0</td>\n",
       "      <td>0</td>\n",
       "      <td>0</td>\n",
       "      <td>0</td>\n",
       "      <td>3</td>\n",
       "    </tr>\n",
       "    <tr>\n",
       "      <th>1</th>\n",
       "      <td>1</td>\n",
       "      <td>0</td>\n",
       "      <td>0</td>\n",
       "      <td>0</td>\n",
       "      <td>0</td>\n",
       "      <td>0</td>\n",
       "      <td>0</td>\n",
       "      <td>0</td>\n",
       "      <td>0</td>\n",
       "      <td>0</td>\n",
       "      <td>4</td>\n",
       "    </tr>\n",
       "    <tr>\n",
       "      <th>2</th>\n",
       "      <td>0</td>\n",
       "      <td>0</td>\n",
       "      <td>0</td>\n",
       "      <td>0</td>\n",
       "      <td>0</td>\n",
       "      <td>0</td>\n",
       "      <td>0</td>\n",
       "      <td>0</td>\n",
       "      <td>0</td>\n",
       "      <td>1</td>\n",
       "      <td>6</td>\n",
       "    </tr>\n",
       "    <tr>\n",
       "      <th>3</th>\n",
       "      <td>1</td>\n",
       "      <td>0</td>\n",
       "      <td>0</td>\n",
       "      <td>0</td>\n",
       "      <td>0</td>\n",
       "      <td>0</td>\n",
       "      <td>0</td>\n",
       "      <td>0</td>\n",
       "      <td>0</td>\n",
       "      <td>1</td>\n",
       "      <td>6</td>\n",
       "    </tr>\n",
       "    <tr>\n",
       "      <th>4</th>\n",
       "      <td>0</td>\n",
       "      <td>1</td>\n",
       "      <td>0</td>\n",
       "      <td>0</td>\n",
       "      <td>0</td>\n",
       "      <td>0</td>\n",
       "      <td>0</td>\n",
       "      <td>0</td>\n",
       "      <td>0</td>\n",
       "      <td>0</td>\n",
       "      <td>3</td>\n",
       "    </tr>\n",
       "  </tbody>\n",
       "</table>\n",
       "</div>"
      ],
      "text/plain": [
       "   hypertension  anemia  diabetes  hiv  stomach_cancer  lung_cancer  \\\n",
       "0             0       0         0    0               0            0   \n",
       "1             1       0         0    0               0            0   \n",
       "2             0       0         0    0               0            0   \n",
       "3             1       0         0    0               0            0   \n",
       "4             0       1         0    0               0            0   \n",
       "\n",
       "   myocardial_infarction  heart_failure  metastetic_cancer  T  O  \n",
       "0                      0              0                  0  0  3  \n",
       "1                      0              0                  0  0  4  \n",
       "2                      0              0                  0  1  6  \n",
       "3                      0              0                  0  1  6  \n",
       "4                      0              0                  0  0  3  "
      ]
     },
     "execution_count": 2,
     "metadata": {},
     "output_type": "execute_result"
    }
   ],
   "source": [
    "df.head()"
   ]
  },
  {
   "cell_type": "markdown",
   "id": "89f592ca-9c32-402c-89a9-cc723e122d78",
   "metadata": {},
   "source": [
    "## Visualization"
   ]
  },
  {
   "cell_type": "markdown",
   "id": "458a2bb6-ec71-4320-a5ec-f8356f5184a3",
   "metadata": {},
   "source": [
    "### Overall disease proportions"
   ]
  },
  {
   "cell_type": "code",
   "execution_count": 3,
   "id": "5ba97253-656c-4e26-9a09-a70220cb3f4d",
   "metadata": {
    "execution": {
     "iopub.execute_input": "2022-03-01T20:14:36.143831Z",
     "iopub.status.busy": "2022-03-01T20:14:36.143831Z",
     "iopub.status.idle": "2022-03-01T20:14:36.482825Z",
     "shell.execute_reply": "2022-03-01T20:14:36.482825Z",
     "shell.execute_reply.started": "2022-03-01T20:14:36.143831Z"
    },
    "tags": []
   },
   "outputs": [
    {
     "data": {
      "image/png": "[encoded data removed]",
      "text/plain": [
       "<Figure size 432x288 with 1 Axes>"
      ]
     },
     "metadata": {},
     "output_type": "display_data"
    }
   ],
   "source": [
    "import matplotlib.pyplot as plt\n",
    "\n",
    "plt.style.use('ggplot')\n",
    "\n",
    "X_cols = [c for c in df.columns if c not in {'T', 'O'}]\n",
    "\n",
    "s = df[X_cols].sum() / df.shape[0] * 100.0\n",
    "_ = s.plot(kind='bar', title='Proportion of Patients with Each Disease', ylabel='percentage')"
   ]
  },
  {
   "cell_type": "markdown",
   "id": "8aaf1f72-3c56-489f-a9c4-d0d5d1f4e6da",
   "metadata": {},
   "source": [
    "### Treatment percentage"
   ]
  },
  {
   "cell_type": "code",
   "execution_count": 4,
   "id": "7f20742b-46fe-4b75-a25c-5fa7410a0d72",
   "metadata": {
    "execution": {
     "iopub.execute_input": "2022-03-01T20:14:36.483827Z",
     "iopub.status.busy": "2022-03-01T20:14:36.483827Z",
     "iopub.status.idle": "2022-03-01T20:14:36.546824Z",
     "shell.execute_reply": "2022-03-01T20:14:36.546824Z",
     "shell.execute_reply.started": "2022-03-01T20:14:36.483827Z"
    },
    "tags": []
   },
   "outputs": [
    {
     "data": {
      "image/png": "[encoded data removed]",
      "text/plain": [
       "<Figure size 432x288 with 1 Axes>"
      ]
     },
     "metadata": {},
     "output_type": "display_data"
    }
   ],
   "source": [
    "s = df['T'].value_counts().sort_index() / df['T'].value_counts().sum() * 100.0\n",
    "s.index = [f'T={i} ({v:.1f}%)' for i, v in zip(s.index, s.values)]\n",
    "_ = s.plot(kind='pie', title='Percentage of Patients Treated by Dr. Smith', ylabel='')"
   ]
  },
  {
   "cell_type": "code",
   "execution_count": 5,
   "id": "a33401ea-64c9-4b68-9274-e21955c74d33",
   "metadata": {
    "execution": {
     "iopub.execute_input": "2022-03-01T20:14:36.547828Z",
     "iopub.status.busy": "2022-03-01T20:14:36.547828Z",
     "iopub.status.idle": "2022-03-01T20:14:36.640963Z",
     "shell.execute_reply": "2022-03-01T20:14:36.640963Z",
     "shell.execute_reply.started": "2022-03-01T20:14:36.547828Z"
    },
    "tags": []
   },
   "outputs": [
    {
     "data": {
      "image/png": "[encoded data removed]",
      "text/plain": [
       "<Figure size 432x288 with 1 Axes>"
      ]
     },
     "metadata": {},
     "output_type": "display_data"
    }
   ],
   "source": [
    "_ = df['O'].value_counts().sort_index().plot(kind='bar', title='Distribution of LOS')"
   ]
  },
  {
   "cell_type": "code",
   "execution_count": 6,
   "id": "9c99c6c8-7fcd-440e-a0ce-bb6944b02fc9",
   "metadata": {
    "execution": {
     "iopub.execute_input": "2022-03-01T20:14:36.641964Z",
     "iopub.status.busy": "2022-03-01T20:14:36.640963Z",
     "iopub.status.idle": "2022-03-01T20:14:37.168115Z",
     "shell.execute_reply": "2022-03-01T20:14:37.168115Z",
     "shell.execute_reply.started": "2022-03-01T20:14:36.641964Z"
    },
    "tags": []
   },
   "outputs": [
    {
     "data": {
      "image/png": "[encoded data removed]",
      "text/plain": [
       "<Figure size 432x288 with 1 Axes>"
      ]
     },
     "metadata": {},
     "output_type": "display_data"
    }
   ],
   "source": [
    "import seaborn as sns\n",
    "\n",
    "s = df[['T', 'O', 'hiv']].groupby(['T', 'O']).agg('count').reset_index().rename(columns={'hiv': 'n'})\n",
    "\n",
    "ax = sns.barplot(x='O', y='n', hue='T', data=s)\n",
    "_ = ax.set_title('Distribution of LOS by Treatment')"
   ]
  },
  {
   "cell_type": "markdown",
   "id": "9dc84cba-2e6a-4548-9211-4a0e3bc87050",
   "metadata": {},
   "source": [
    "### Proportions by disease and treatment"
   ]
  },
  {
   "cell_type": "code",
   "execution_count": 7,
   "id": "23b2b749-ee59-461f-b088-2900fb9ee248",
   "metadata": {
    "execution": {
     "iopub.execute_input": "2022-03-01T20:14:37.170021Z",
     "iopub.status.busy": "2022-03-01T20:14:37.170021Z",
     "iopub.status.idle": "2022-03-01T20:14:37.295023Z",
     "shell.execute_reply": "2022-03-01T20:14:37.295023Z",
     "shell.execute_reply.started": "2022-03-01T20:14:37.170021Z"
    },
    "tags": []
   },
   "outputs": [
    {
     "data": {
      "image/png": "[encoded data removed]",
      "text/plain": [
       "<Figure size 432x288 with 1 Axes>"
      ]
     },
     "metadata": {},
     "output_type": "display_data"
    }
   ],
   "source": [
    "s0 = df[df['T'] == 0][X_cols].sum() / df[df['T'] == 0][X_cols].shape[0] * 100.0\n",
    "s1 = df[df['T'] == 1][X_cols].sum() / df[df['T'] == 1][X_cols].shape[0] * 100.0\n",
    "\n",
    "ax = pd.DataFrame({'T=0': s0, 'T=1': s1}).plot(kind='bar', title='Proportions of Diseases by Treatment', ylabel='percentage')\n",
    "_ = ax.legend(bbox_to_anchor=(1.0, 1.05))"
   ]
  },
  {
   "cell_type": "markdown",
   "id": "de58555b-4b60-4054-9274-16b602c49fc4",
   "metadata": {},
   "source": [
    "### Two-proportion z-test\n",
    "\n",
    "We perform a [two-proportion z-test](https://en.wikipedia.org/wiki/Test_statistic) to see if there is any difference in the proportions by treatment."
   ]
  },
  {
   "cell_type": "code",
   "execution_count": 8,
   "id": "acd1fbe7-c086-4bc3-b5c0-f850c72bc8b9",
   "metadata": {
    "execution": {
     "iopub.execute_input": "2022-03-01T20:14:37.296020Z",
     "iopub.status.busy": "2022-03-01T20:14:37.296020Z",
     "iopub.status.idle": "2022-03-01T20:14:37.327021Z",
     "shell.execute_reply": "2022-03-01T20:14:37.327021Z",
     "shell.execute_reply.started": "2022-03-01T20:14:37.296020Z"
    },
    "tags": []
   },
   "outputs": [
    {
     "data": {
      "text/html": [
       "<div>\n",
       "<style scoped>\n",
       "    .dataframe tbody tr th:only-of-type {\n",
       "        vertical-align: middle;\n",
       "    }\n",
       "\n",
       "    .dataframe tbody tr th {\n",
       "        vertical-align: top;\n",
       "    }\n",
       "\n",
       "    .dataframe thead th {\n",
       "        text-align: right;\n",
       "    }\n",
       "</style>\n",
       "<table border=\"1\" class=\"dataframe\">\n",
       "  <thead>\n",
       "    <tr style=\"text-align: right;\">\n",
       "      <th></th>\n",
       "      <th>variable</th>\n",
       "      <th>stats</th>\n",
       "      <th>p_value</th>\n",
       "      <th>p &lt; 0.01</th>\n",
       "    </tr>\n",
       "  </thead>\n",
       "  <tbody>\n",
       "    <tr>\n",
       "      <th>0</th>\n",
       "      <td>hypertension</td>\n",
       "      <td>-0.109640</td>\n",
       "      <td>9.126952e-01</td>\n",
       "      <td>False</td>\n",
       "    </tr>\n",
       "    <tr>\n",
       "      <th>1</th>\n",
       "      <td>anemia</td>\n",
       "      <td>0.238975</td>\n",
       "      <td>8.111251e-01</td>\n",
       "      <td>False</td>\n",
       "    </tr>\n",
       "    <tr>\n",
       "      <th>2</th>\n",
       "      <td>diabetes</td>\n",
       "      <td>0.019694</td>\n",
       "      <td>9.842877e-01</td>\n",
       "      <td>False</td>\n",
       "    </tr>\n",
       "    <tr>\n",
       "      <th>3</th>\n",
       "      <td>hiv</td>\n",
       "      <td>0.158755</td>\n",
       "      <td>8.738619e-01</td>\n",
       "      <td>False</td>\n",
       "    </tr>\n",
       "    <tr>\n",
       "      <th>4</th>\n",
       "      <td>stomach_cancer</td>\n",
       "      <td>0.158755</td>\n",
       "      <td>8.738619e-01</td>\n",
       "      <td>False</td>\n",
       "    </tr>\n",
       "    <tr>\n",
       "      <th>5</th>\n",
       "      <td>lung_cancer</td>\n",
       "      <td>0.794437</td>\n",
       "      <td>4.269413e-01</td>\n",
       "      <td>False</td>\n",
       "    </tr>\n",
       "    <tr>\n",
       "      <th>6</th>\n",
       "      <td>myocardial_infarction</td>\n",
       "      <td>2.890758</td>\n",
       "      <td>3.843136e-03</td>\n",
       "      <td>True</td>\n",
       "    </tr>\n",
       "    <tr>\n",
       "      <th>7</th>\n",
       "      <td>heart_failure</td>\n",
       "      <td>12.233395</td>\n",
       "      <td>2.061393e-34</td>\n",
       "      <td>True</td>\n",
       "    </tr>\n",
       "    <tr>\n",
       "      <th>8</th>\n",
       "      <td>metastetic_cancer</td>\n",
       "      <td>12.233395</td>\n",
       "      <td>2.061393e-34</td>\n",
       "      <td>True</td>\n",
       "    </tr>\n",
       "  </tbody>\n",
       "</table>\n",
       "</div>"
      ],
      "text/plain": [
       "                variable      stats       p_value  p < 0.01\n",
       "0           hypertension  -0.109640  9.126952e-01     False\n",
       "1                 anemia   0.238975  8.111251e-01     False\n",
       "2               diabetes   0.019694  9.842877e-01     False\n",
       "3                    hiv   0.158755  8.738619e-01     False\n",
       "4         stomach_cancer   0.158755  8.738619e-01     False\n",
       "5            lung_cancer   0.794437  4.269413e-01     False\n",
       "6  myocardial_infarction   2.890758  3.843136e-03      True\n",
       "7          heart_failure  12.233395  2.061393e-34      True\n",
       "8      metastetic_cancer  12.233395  2.061393e-34      True"
      ]
     },
     "execution_count": 8,
     "metadata": {},
     "output_type": "execute_result"
    }
   ],
   "source": [
    "from statsmodels.stats.proportion import proportions_ztest\n",
    "\n",
    "count_df = pd.DataFrame({'T=0': df[df['T'] == 0][X_cols].sum(), 'T=1': df[df['T'] == 1][X_cols].sum()})\n",
    "n = {\n",
    "    0: df[df['T'] == 0][X_cols].shape[0],\n",
    "    1: df[df['T'] == 1][X_cols].shape[0]\n",
    "}\n",
    "\n",
    "ztest_df = pd.DataFrame([(i,) + proportions_ztest(count=[r['T=0'], r['T=1']], nobs=[n[0], n[1]], alternative='two-sided') \n",
    "                         for i, r in count_df.iterrows()], columns=['variable', 'stats', 'p_value'])\n",
    "ztest_df['p < 0.01'] = ztest_df['p_value'].apply(lambda p: p < 0.01)\n",
    "ztest_df"
   ]
  },
  {
   "cell_type": "markdown",
   "id": "cfa2377a-2a3a-4f87-bfd0-a8182aea232d",
   "metadata": {},
   "source": [
    "## Propensity Score"
   ]
  },
  {
   "cell_type": "code",
   "execution_count": 9,
   "id": "d4917ce9-df68-4401-8aac-c914f8ba0508",
   "metadata": {
    "execution": {
     "iopub.execute_input": "2022-03-01T20:14:37.328020Z",
     "iopub.status.busy": "2022-03-01T20:14:37.328020Z",
     "iopub.status.idle": "2022-03-01T20:14:37.453886Z",
     "shell.execute_reply": "2022-03-01T20:14:37.453886Z",
     "shell.execute_reply.started": "2022-03-01T20:14:37.328020Z"
    },
    "tags": []
   },
   "outputs": [
    {
     "data": {
      "text/plain": [
       "LogisticRegression(random_state=37)"
      ]
     },
     "execution_count": 9,
     "metadata": {},
     "output_type": "execute_result"
    }
   ],
   "source": [
    "from sklearn.linear_model import LogisticRegression\n",
    "\n",
    "X = df[df.columns.drop(['O', 'T'])]\n",
    "y = df['T']\n",
    "\n",
    "model = LogisticRegression(random_state=37)\n",
    "model.fit(X, y)"
   ]
  },
  {
   "cell_type": "code",
   "execution_count": 10,
   "id": "ae38ca4d-20fd-486a-b2c8-85b48f7d429b",
   "metadata": {
    "execution": {
     "iopub.execute_input": "2022-03-01T20:14:37.454887Z",
     "iopub.status.busy": "2022-03-01T20:14:37.454887Z",
     "iopub.status.idle": "2022-03-01T20:14:37.531749Z",
     "shell.execute_reply": "2022-03-01T20:14:37.531749Z",
     "shell.execute_reply.started": "2022-03-01T20:14:37.454887Z"
    },
    "tags": []
   },
   "outputs": [],
   "source": [
    "psm_df = pd.DataFrame({\n",
    "    'T': y,\n",
    "    'propensity_score': model.predict_proba(X)[:,1]\n",
    "})\n",
    "psm_df['inverse_weight'] = psm_df.apply(lambda r: 1 / r['propensity_score'] if r['T'] == 1 else 1 / (1 - r['propensity_score']), axis=1)\n",
    "psm_df['sampling_weight'] = psm_df['inverse_weight'] / psm_df['inverse_weight'].sum()"
   ]
  },
  {
   "cell_type": "code",
   "execution_count": 11,
   "id": "a146f6ef-5ee6-4c31-9002-eccab483705f",
   "metadata": {
    "execution": {
     "iopub.execute_input": "2022-03-01T20:14:37.532754Z",
     "iopub.status.busy": "2022-03-01T20:14:37.532754Z",
     "iopub.status.idle": "2022-03-01T20:14:37.546758Z",
     "shell.execute_reply": "2022-03-01T20:14:37.546758Z",
     "shell.execute_reply.started": "2022-03-01T20:14:37.532754Z"
    },
    "tags": []
   },
   "outputs": [
    {
     "data": {
      "text/html": [
       "<div>\n",
       "<style scoped>\n",
       "    .dataframe tbody tr th:only-of-type {\n",
       "        vertical-align: middle;\n",
       "    }\n",
       "\n",
       "    .dataframe tbody tr th {\n",
       "        vertical-align: top;\n",
       "    }\n",
       "\n",
       "    .dataframe thead th {\n",
       "        text-align: right;\n",
       "    }\n",
       "</style>\n",
       "<table border=\"1\" class=\"dataframe\">\n",
       "  <thead>\n",
       "    <tr style=\"text-align: right;\">\n",
       "      <th></th>\n",
       "      <th>T</th>\n",
       "      <th>propensity_score</th>\n",
       "      <th>inverse_weight</th>\n",
       "      <th>sampling_weight</th>\n",
       "    </tr>\n",
       "  </thead>\n",
       "  <tbody>\n",
       "    <tr>\n",
       "      <th>0</th>\n",
       "      <td>0</td>\n",
       "      <td>0.706267</td>\n",
       "      <td>3.404448</td>\n",
       "      <td>0.000256</td>\n",
       "    </tr>\n",
       "    <tr>\n",
       "      <th>1</th>\n",
       "      <td>0</td>\n",
       "      <td>0.707120</td>\n",
       "      <td>3.414373</td>\n",
       "      <td>0.000257</td>\n",
       "    </tr>\n",
       "    <tr>\n",
       "      <th>2</th>\n",
       "      <td>1</td>\n",
       "      <td>0.706267</td>\n",
       "      <td>1.415896</td>\n",
       "      <td>0.000107</td>\n",
       "    </tr>\n",
       "    <tr>\n",
       "      <th>3</th>\n",
       "      <td>1</td>\n",
       "      <td>0.707120</td>\n",
       "      <td>1.414186</td>\n",
       "      <td>0.000106</td>\n",
       "    </tr>\n",
       "    <tr>\n",
       "      <th>4</th>\n",
       "      <td>0</td>\n",
       "      <td>0.704355</td>\n",
       "      <td>3.382430</td>\n",
       "      <td>0.000254</td>\n",
       "    </tr>\n",
       "  </tbody>\n",
       "</table>\n",
       "</div>"
      ],
      "text/plain": [
       "   T  propensity_score  inverse_weight  sampling_weight\n",
       "0  0          0.706267        3.404448         0.000256\n",
       "1  0          0.707120        3.414373         0.000257\n",
       "2  1          0.706267        1.415896         0.000107\n",
       "3  1          0.707120        1.414186         0.000106\n",
       "4  0          0.704355        3.382430         0.000254"
      ]
     },
     "execution_count": 11,
     "metadata": {},
     "output_type": "execute_result"
    }
   ],
   "source": [
    "psm_df.head()"
   ]
  },
  {
   "cell_type": "markdown",
   "id": "62d33a4d-bbb5-4c5e-bc5f-8a8f1d7f6b35",
   "metadata": {},
   "source": [
    "Check that the weights can reconstruct the original population."
   ]
  },
  {
   "cell_type": "code",
   "execution_count": 12,
   "id": "84f45df4-7ba0-488a-bc48-1cfddb92e153",
   "metadata": {
    "execution": {
     "iopub.execute_input": "2022-03-01T20:14:37.547757Z",
     "iopub.status.busy": "2022-03-01T20:14:37.547757Z",
     "iopub.status.idle": "2022-03-01T20:14:37.562757Z",
     "shell.execute_reply": "2022-03-01T20:14:37.562757Z",
     "shell.execute_reply.started": "2022-03-01T20:14:37.547757Z"
    },
    "tags": []
   },
   "outputs": [
    {
     "data": {
      "text/plain": [
       "(6657, 6614.186072184293, 6678.808997206876)"
      ]
     },
     "execution_count": 12,
     "metadata": {},
     "output_type": "execute_result"
    }
   ],
   "source": [
    "psm_df.shape[0], psm_df[psm_df['T'] == 0].inverse_weight.sum(), psm_df[psm_df['T'] == 1].inverse_weight.sum()"
   ]
  },
  {
   "cell_type": "markdown",
   "id": "7f7741c2-b373-4355-9621-11571e016db6",
   "metadata": {},
   "source": [
    "Check for evidence of confounding. "
   ]
  },
  {
   "cell_type": "code",
   "execution_count": 13,
   "id": "41f63c91-6524-401f-99d5-b3ad5363d390",
   "metadata": {
    "execution": {
     "iopub.execute_input": "2022-03-01T20:14:37.563757Z",
     "iopub.status.busy": "2022-03-01T20:14:37.563757Z",
     "iopub.status.idle": "2022-03-01T20:14:37.638757Z",
     "shell.execute_reply": "2022-03-01T20:14:37.638757Z",
     "shell.execute_reply.started": "2022-03-01T20:14:37.563757Z"
    },
    "tags": []
   },
   "outputs": [
    {
     "data": {
      "image/png": "[encoded data removed]",
      "text/plain": [
       "<Figure size 432x288 with 1 Axes>"
      ]
     },
     "metadata": {},
     "output_type": "display_data"
    }
   ],
   "source": [
    "ax = sns.boxplot(x='T', y='inverse_weight', data=psm_df)\n",
    "_ = ax.set_title('Confounding Evidence')"
   ]
  },
  {
   "cell_type": "markdown",
   "id": "f0ce861b-72ea-421b-a3b4-a4fcc73edba6",
   "metadata": {},
   "source": [
    "The positivity check ensures that there is overlap between the treatment and non-treatment groups."
   ]
  },
  {
   "cell_type": "code",
   "execution_count": 14,
   "id": "954cea5b-be3c-48bc-a963-e914205d6ff5",
   "metadata": {
    "execution": {
     "iopub.execute_input": "2022-03-01T20:14:37.639761Z",
     "iopub.status.busy": "2022-03-01T20:14:37.639761Z",
     "iopub.status.idle": "2022-03-01T20:14:37.875281Z",
     "shell.execute_reply": "2022-03-01T20:14:37.875281Z",
     "shell.execute_reply.started": "2022-03-01T20:14:37.639761Z"
    },
    "tags": []
   },
   "outputs": [
    {
     "data": {
      "image/png": "[encoded data removed]",
      "text/plain": [
       "<Figure size 432x288 with 1 Axes>"
      ]
     },
     "metadata": {},
     "output_type": "display_data"
    }
   ],
   "source": [
    "ax = sns.histplot(data=psm_df, x='inverse_weight', hue='T', kde=True)\n",
    "_ = ax.set_title('Positivity Check')"
   ]
  },
  {
   "cell_type": "markdown",
   "id": "a2807bd2-39d2-4801-aa44-aa8991468dca",
   "metadata": {
    "execution": {
     "iopub.execute_input": "2022-03-01T19:39:48.428565Z",
     "iopub.status.busy": "2022-03-01T19:39:48.428565Z",
     "iopub.status.idle": "2022-03-01T19:39:48.434568Z",
     "shell.execute_reply": "2022-03-01T19:39:48.433564Z",
     "shell.execute_reply.started": "2022-03-01T19:39:48.428565Z"
    }
   },
   "source": [
    "We can check to see if the covariates are balanced by conducting two-sample z-test over each variable."
   ]
  },
  {
   "cell_type": "code",
   "execution_count": 15,
   "id": "2ae099e9-0edc-4f28-83af-672dcc0b0234",
   "metadata": {
    "execution": {
     "iopub.execute_input": "2022-03-01T20:14:37.876280Z",
     "iopub.status.busy": "2022-03-01T20:14:37.876280Z",
     "iopub.status.idle": "2022-03-01T20:14:37.891280Z",
     "shell.execute_reply": "2022-03-01T20:14:37.891280Z",
     "shell.execute_reply.started": "2022-03-01T20:14:37.876280Z"
    },
    "tags": []
   },
   "outputs": [
    {
     "data": {
      "text/plain": [
       "(6657, 10)"
      ]
     },
     "execution_count": 15,
     "metadata": {},
     "output_type": "execute_result"
    }
   ],
   "source": [
    "weighted_df = df.sample(frac=1, weights=psm_df.inverse_weight, replace=True).drop(columns=['O'])\n",
    "weighted_df.shape"
   ]
  },
  {
   "cell_type": "code",
   "execution_count": 16,
   "id": "270fafdd-83a6-49ce-bbed-fc60ddee2d62",
   "metadata": {
    "execution": {
     "iopub.execute_input": "2022-03-01T20:14:37.892280Z",
     "iopub.status.busy": "2022-03-01T20:14:37.892280Z",
     "iopub.status.idle": "2022-03-01T20:14:37.923372Z",
     "shell.execute_reply": "2022-03-01T20:14:37.923282Z",
     "shell.execute_reply.started": "2022-03-01T20:14:37.892280Z"
    },
    "tags": []
   },
   "outputs": [
    {
     "data": {
      "text/html": [
       "<div>\n",
       "<style scoped>\n",
       "    .dataframe tbody tr th:only-of-type {\n",
       "        vertical-align: middle;\n",
       "    }\n",
       "\n",
       "    .dataframe tbody tr th {\n",
       "        vertical-align: top;\n",
       "    }\n",
       "\n",
       "    .dataframe thead th {\n",
       "        text-align: right;\n",
       "    }\n",
       "</style>\n",
       "<table border=\"1\" class=\"dataframe\">\n",
       "  <thead>\n",
       "    <tr style=\"text-align: right;\">\n",
       "      <th></th>\n",
       "      <th>variable</th>\n",
       "      <th>stats</th>\n",
       "      <th>p_value</th>\n",
       "      <th>p &lt; 0.01</th>\n",
       "    </tr>\n",
       "  </thead>\n",
       "  <tbody>\n",
       "    <tr>\n",
       "      <th>0</th>\n",
       "      <td>hypertension</td>\n",
       "      <td>1.130927</td>\n",
       "      <td>0.258086</td>\n",
       "      <td>False</td>\n",
       "    </tr>\n",
       "    <tr>\n",
       "      <th>1</th>\n",
       "      <td>anemia</td>\n",
       "      <td>0.900596</td>\n",
       "      <td>0.367803</td>\n",
       "      <td>False</td>\n",
       "    </tr>\n",
       "    <tr>\n",
       "      <th>2</th>\n",
       "      <td>diabetes</td>\n",
       "      <td>-1.017216</td>\n",
       "      <td>0.309051</td>\n",
       "      <td>False</td>\n",
       "    </tr>\n",
       "    <tr>\n",
       "      <th>3</th>\n",
       "      <td>hiv</td>\n",
       "      <td>0.263115</td>\n",
       "      <td>0.792462</td>\n",
       "      <td>False</td>\n",
       "    </tr>\n",
       "    <tr>\n",
       "      <th>4</th>\n",
       "      <td>stomach_cancer</td>\n",
       "      <td>1.495739</td>\n",
       "      <td>0.134722</td>\n",
       "      <td>False</td>\n",
       "    </tr>\n",
       "    <tr>\n",
       "      <th>5</th>\n",
       "      <td>lung_cancer</td>\n",
       "      <td>0.156585</td>\n",
       "      <td>0.875572</td>\n",
       "      <td>False</td>\n",
       "    </tr>\n",
       "    <tr>\n",
       "      <th>6</th>\n",
       "      <td>myocardial_infarction</td>\n",
       "      <td>-0.548840</td>\n",
       "      <td>0.583115</td>\n",
       "      <td>False</td>\n",
       "    </tr>\n",
       "    <tr>\n",
       "      <th>7</th>\n",
       "      <td>heart_failure</td>\n",
       "      <td>0.473499</td>\n",
       "      <td>0.635857</td>\n",
       "      <td>False</td>\n",
       "    </tr>\n",
       "    <tr>\n",
       "      <th>8</th>\n",
       "      <td>metastetic_cancer</td>\n",
       "      <td>0.027691</td>\n",
       "      <td>0.977908</td>\n",
       "      <td>False</td>\n",
       "    </tr>\n",
       "  </tbody>\n",
       "</table>\n",
       "</div>"
      ],
      "text/plain": [
       "                variable     stats   p_value  p < 0.01\n",
       "0           hypertension  1.130927  0.258086     False\n",
       "1                 anemia  0.900596  0.367803     False\n",
       "2               diabetes -1.017216  0.309051     False\n",
       "3                    hiv  0.263115  0.792462     False\n",
       "4         stomach_cancer  1.495739  0.134722     False\n",
       "5            lung_cancer  0.156585  0.875572     False\n",
       "6  myocardial_infarction -0.548840  0.583115     False\n",
       "7          heart_failure  0.473499  0.635857     False\n",
       "8      metastetic_cancer  0.027691  0.977908     False"
      ]
     },
     "execution_count": 16,
     "metadata": {},
     "output_type": "execute_result"
    }
   ],
   "source": [
    "cols = weighted_df.columns.drop(['T'])\n",
    "count_df = pd.DataFrame({'T=0': weighted_df[weighted_df['T'] == 0][cols].sum(), 'T=1': weighted_df[weighted_df['T'] == 1][cols].sum()})\n",
    "n = {\n",
    "    0: weighted_df[weighted_df['T'] == 0][cols].shape[0],\n",
    "    1: weighted_df[weighted_df['T'] == 1][cols].shape[0]\n",
    "}\n",
    "\n",
    "ztest_df = pd.DataFrame([(i,) + proportions_ztest(count=[r['T=0'], r['T=1']], nobs=[n[0], n[1]], alternative='two-sided') \n",
    "                         for i, r in count_df.iterrows()], columns=['variable', 'stats', 'p_value'])\n",
    "ztest_df['p < 0.01'] = ztest_df['p_value'].apply(lambda p: p < 0.01)\n",
    "ztest_df"
   ]
  },
  {
   "cell_type": "markdown",
   "id": "434f349a-a0b2-4e56-b45e-3d3460b9ab9d",
   "metadata": {},
   "source": [
    "## Average Treatment Effect\n",
    "\n",
    "The ATE of Dr. Smith on LOS is a reduction of 0.06 days."
   ]
  },
  {
   "cell_type": "code",
   "execution_count": 17,
   "id": "acf1d85b-feaf-4c68-8678-b427065efa99",
   "metadata": {
    "execution": {
     "iopub.execute_input": "2022-03-01T20:14:37.924290Z",
     "iopub.status.busy": "2022-03-01T20:14:37.924290Z",
     "iopub.status.idle": "2022-03-01T20:14:37.939352Z",
     "shell.execute_reply": "2022-03-01T20:14:37.939352Z",
     "shell.execute_reply.started": "2022-03-01T20:14:37.924290Z"
    },
    "tags": []
   },
   "outputs": [
    {
     "data": {
      "text/plain": [
       "intercept                3.838081\n",
       "hypertension             0.082137\n",
       "anemia                  -0.066576\n",
       "diabetes                 0.122406\n",
       "hiv                     -0.003851\n",
       "stomach_cancer           0.018383\n",
       "lung_cancer             -0.029819\n",
       "myocardial_infarction    0.033302\n",
       "heart_failure            0.015607\n",
       "metastetic_cancer        0.109735\n",
       "T                       -0.062517\n",
       "dtype: float64"
      ]
     },
     "execution_count": 17,
     "metadata": {},
     "output_type": "execute_result"
    }
   ],
   "source": [
    "from sklearn.linear_model import LinearRegression\n",
    "\n",
    "X = df[df.columns.drop(['O'])]\n",
    "y = df['O']\n",
    "w = psm_df['inverse_weight']\n",
    "\n",
    "model = LinearRegression()\n",
    "model.fit(X, y, w)\n",
    "\n",
    "pd.concat([\n",
    "    pd.Series(model.intercept_, ['intercept']), \n",
    "    pd.Series(model.coef_, df.columns.drop(['O']))\n",
    "])"
   ]
  },
  {
   "cell_type": "markdown",
   "id": "576d96e6-a281-4d40-8882-dee6d4a3e4d5",
   "metadata": {},
   "source": [
    "## ATE with confidence intervals\n",
    "\n",
    "If we want to place a confidence interval around the ATE, we can do bootstrap sampling. The procedure is conducted over and over many times, each time selecting random items from the population (with replacement). "
   ]
  },
  {
   "cell_type": "code",
   "execution_count": 18,
   "id": "245d8c19-c611-4357-8009-4090de14ecf3",
   "metadata": {
    "execution": {
     "iopub.execute_input": "2022-03-01T20:14:37.940355Z",
     "iopub.status.busy": "2022-03-01T20:14:37.940355Z",
     "iopub.status.idle": "2022-03-01T20:15:46.648449Z",
     "shell.execute_reply": "2022-03-01T20:15:46.648449Z",
     "shell.execute_reply.started": "2022-03-01T20:14:37.940355Z"
    },
    "tags": []
   },
   "outputs": [],
   "source": [
    "def estimate_ate(df):\n",
    "    sample_df = df.sample(frac=1, replace=True)\n",
    "    \n",
    "    X = sample_df[sample_df.columns.drop(['O', 'T'])]\n",
    "    y = sample_df['T']\n",
    "\n",
    "    model = LogisticRegression(random_state=37)\n",
    "    model.fit(X, y)\n",
    "    \n",
    "    psm_df = pd.DataFrame({\n",
    "        'T': y,\n",
    "        'propensity_score': model.predict_proba(X)[:,1]\n",
    "    })\n",
    "    psm_df['inverse_weight'] = psm_df.apply(lambda r: 1 / r['propensity_score'] if r['T'] == 1 else 1 / (1 - r['propensity_score']), axis=1)\n",
    "    psm_df['sampling_weight'] = psm_df['inverse_weight'] / psm_df['inverse_weight'].sum()\n",
    "    \n",
    "    X = sample_df[sample_df.columns.drop(['O'])]\n",
    "    y = sample_df['O']\n",
    "    w = psm_df['inverse_weight']\n",
    "\n",
    "    model = LinearRegression()\n",
    "    model.fit(X, y, w)\n",
    "\n",
    "    s = pd.concat([\n",
    "        pd.Series(model.intercept_, ['intercept']), \n",
    "        pd.Series(model.coef_, df.columns.drop(['O']))\n",
    "    ])\n",
    "    \n",
    "    return s\n",
    "\n",
    "bootstrap_df = pd.DataFrame([estimate_ate(df) for _ in range(1_000)])"
   ]
  },
  {
   "cell_type": "code",
   "execution_count": 20,
   "id": "09ea7e99-2f4a-4d63-9064-055f33ad2342",
   "metadata": {
    "execution": {
     "iopub.execute_input": "2022-03-01T20:15:46.665452Z",
     "iopub.status.busy": "2022-03-01T20:15:46.665452Z",
     "iopub.status.idle": "2022-03-01T20:15:46.680449Z",
     "shell.execute_reply": "2022-03-01T20:15:46.680449Z",
     "shell.execute_reply.started": "2022-03-01T20:15:46.665452Z"
    },
    "tags": []
   },
   "outputs": [
    {
     "data": {
      "text/plain": [
       "(-0.1513225823433984, 0.027079589368043645)"
      ]
     },
     "execution_count": 20,
     "metadata": {},
     "output_type": "execute_result"
    }
   ],
   "source": [
    "import numpy as np\n",
    "\n",
    "ate_mean = bootstrap_df['T'].mean()\n",
    "lower_ci, upper_ci = np.percentile(bootstrap_df['T'], 2.5), np.percentile(bootstrap_df['T'], 97.5)\n",
    "lower_ci, upper_ci"
   ]
  },
  {
   "cell_type": "code",
   "execution_count": 21,
   "id": "948576a2-9a9d-4a09-bee9-cb3e16515181",
   "metadata": {
    "execution": {
     "iopub.execute_input": "2022-03-01T20:15:46.681451Z",
     "iopub.status.busy": "2022-03-01T20:15:46.681451Z",
     "iopub.status.idle": "2022-03-01T20:15:46.999456Z",
     "shell.execute_reply": "2022-03-01T20:15:46.999456Z",
     "shell.execute_reply.started": "2022-03-01T20:15:46.681451Z"
    },
    "tags": []
   },
   "outputs": [
    {
     "data": {
      "image/png": "[encoded data removed]",
      "text/plain": [
       "<Figure size 360x360 with 1 Axes>"
      ]
     },
     "metadata": {},
     "output_type": "display_data"
    }
   ],
   "source": [
    "fg = sns.displot(bootstrap_df['T'], kde=False)\n",
    "_ = fg.ax.vlines(lower_ci, 0, 30, linestyles='dotted', color='blue')\n",
    "_ = fg.ax.vlines(upper_ci, 0, 30, linestyles='dotted', color='blue')\n",
    "_ = fg.ax.set_title(rf'ATE 95% CI $[{lower_ci:.2f}, {upper_ci:.2f}]$, $\\mu={ate_mean:.2f}$')"
   ]
  },
  {
   "cell_type": "code",
   "execution_count": null,
   "id": "40698de3-b2de-43b4-afc8-b3aa2782ed95",
   "metadata": {},
   "outputs": [],
   "source": []
  }
 ],
 "metadata": {
  "kernelspec": {
   "display_name": "Python 3",
   "language": "python",
   "name": "python3"
  },
  "language_info": {
   "codemirror_mode": {
    "name": "ipython",
    "version": 3
   },
   "file_extension": ".py",
   "mimetype": "text/x-python",
   "name": "python",
   "nbconvert_exporter": "python",
   "pygments_lexer": "ipython3",
   "version": "3.8.8"
  },
  "widgets": {
   "application/vnd.jupyter.widget-state+json": {
    "state": {},
    "version_major": 2,
    "version_minor": 0
   }
  }
 },
 "nbformat": 4,
 "nbformat_minor": 5
}
