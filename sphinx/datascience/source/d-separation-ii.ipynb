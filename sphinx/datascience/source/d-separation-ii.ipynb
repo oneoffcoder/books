{
 "cells": [
  {
   "cell_type": "markdown",
   "id": "1c4a90b2-ad68-49c3-bcd6-9ed70f1d3e10",
   "metadata": {},
   "source": [
    "# d-separation, Graph Transformation\n",
    "\n",
    "In a different place, we talked about direction-dependent separation, or [d-separation](http://bayes.cs.ucla.edu/BOOK-2K/d-sep.html). In this notebook, we will explore a different way to compute d-separation based on [graph transformation](https://web.mit.edu/jmn/www/6.034/d-separation.pdf)."
   ]
  },
  {
   "cell_type": "markdown",
   "id": "3bedb488-76eb-4d16-a386-a48e908fcbad",
   "metadata": {},
   "source": [
    "## Graph example\n",
    "\n",
    "Here is a graph taken from this most excellent [video tutorial on d-separation exercises](https://www.youtube.com/watch?v=yDs_q6jKHb0). We will be using this graph to show some d-separation queries."
   ]
  },
  {
   "cell_type": "code",
   "execution_count": 1,
   "id": "e4d4759d-9639-4c39-a6bf-367741cb4749",
   "metadata": {},
   "outputs": [],
   "source": [
    "import networkx as nx\n",
    "from collections import namedtuple\n",
    "\n",
    "Graph = namedtuple('Graph', 'u, d')\n",
    "\n",
    "def get_edges(s):\n",
    "    edges = s.split('\\n')\n",
    "    edges = map(lambda line: line.split('->'), edges)\n",
    "    edges = map(lambda tokens: tuple([t.strip() for t in tokens]), edges)\n",
    "    edges = list(edges)\n",
    "    \n",
    "    return edges\n",
    "\n",
    "def get_directed_graph(edges):\n",
    "    g = nx.DiGraph()\n",
    "    g.add_edges_from(edges)\n",
    "    \n",
    "    return g\n",
    "\n",
    "def get_undirected_graph(edges):\n",
    "    g = nx.Graph()\n",
    "    g.add_edges_from(edges)\n",
    "    \n",
    "    return g\n",
    "\n",
    "def get_graph(s):\n",
    "    e = get_edges(s)\n",
    "    \n",
    "    d = get_directed_graph(e)\n",
    "    u = get_undirected_graph(e)\n",
    "    g = Graph(u, d)\n",
    "    \n",
    "    return g"
   ]
  },
  {
   "cell_type": "code",
   "execution_count": 2,
   "id": "78f32a5c-53e2-4e0e-a9f3-7363ef2426c7",
   "metadata": {},
   "outputs": [],
   "source": [
    "s = '''\n",
    "U -> W\n",
    "V -> W\n",
    "V -> X\n",
    "V -> T\n",
    "W -> Y\n",
    "X -> Y\n",
    "T -> Z\n",
    "'''.strip()\n",
    "\n",
    "g = get_graph(s)"
   ]
  },
  {
   "cell_type": "code",
   "execution_count": 3,
   "id": "765cc388-b987-4bfb-a3e2-895a8b040286",
   "metadata": {},
   "outputs": [
    {
     "data": {
      "image/png": "[encoded data removed]",
      "text/plain": [
       "<Figure size 500x500 with 1 Axes>"
      ]
     },
     "metadata": {},
     "output_type": "display_data"
    }
   ],
   "source": [
    "import matplotlib.pyplot as plt\n",
    "\n",
    "pos = nx.nx_agraph.graphviz_layout(g.d, prog='dot')\n",
    "\n",
    "fig, ax = plt.subplots(figsize=(5, 5))\n",
    "\n",
    "nx.draw_networkx_nodes(\n",
    "    G=g.d,\n",
    "    pos=pos,\n",
    "    ax=ax,\n",
    "    node_size=100, \n",
    "    alpha=0.5,\n",
    "    node_color='red'\n",
    ")\n",
    "\n",
    "nx.draw_networkx_labels(\n",
    "    G=g.d, \n",
    "    pos=pos, \n",
    "    ax=ax,\n",
    "    font_size=15,\n",
    "    font_color='black',\n",
    "    alpha=1.0\n",
    ")\n",
    "\n",
    "nx.draw_networkx_edges(\n",
    "    G=g.d,\n",
    "    pos=pos,\n",
    "    alpha=0.25,\n",
    "    arrowsize=30,\n",
    "    ax=ax\n",
    ")\n",
    "\n",
    "fig.tight_layout()"
   ]
  },
  {
   "cell_type": "markdown",
   "id": "e7f31a91-89b7-437e-a12b-9c4c9421f830",
   "metadata": {},
   "source": [
    "## Algorithm\n",
    "\n",
    "Here's the graph transformation algorithm to determine if $X$ and $Y$ are d-separated given $Z$.\n",
    "\n",
    "- Input:\n",
    "  - $G$: DAG\n",
    "  - $X$: start node\n",
    "  - $Y$: end node\n",
    "  - $Z$: evidence nodes\n",
    "- Output: True or False\n",
    "- Create the ancestral graph $A$ from $G$ (using the starting nodes in $X, Y, Z$)\n",
    "- Create the moralized graph $M$ from $A$\n",
    "- Create the dependency graph $D$ from $M$ by remove all nodes in $Z$ and their associated edges\n",
    "- If there is no path between $X$ and $Y$ in $D$, return true, else false"
   ]
  },
  {
   "cell_type": "code",
   "execution_count": 4,
   "id": "470c0beb-b96b-499f-8921-713b72d2e8c9",
   "metadata": {},
   "outputs": [],
   "source": [
    "import itertools\n",
    "\n",
    "def get_ancestral_graph(g, x, y, z):\n",
    "    seen = []\n",
    "    nodes = [x, y] + list(z)\n",
    "\n",
    "    while True:\n",
    "        seen = seen + [n for n in nodes if n not in seen]\n",
    "        \n",
    "        parents = [list(g.d.predecessors(n)) for n in nodes]\n",
    "        parents = itertools.chain(*parents)\n",
    "        parents = set(parents)\n",
    "        parents = parents - set(seen)\n",
    "        parents = list(parents)\n",
    "        \n",
    "        if len(parents) < 1:\n",
    "            break\n",
    "        else:\n",
    "            nodes = parents\n",
    "\n",
    "    a = g.u.copy()\n",
    "    for n in g.u.nodes():\n",
    "        if n not in seen:\n",
    "            a.remove_node(n)\n",
    "    return a\n",
    "\n",
    "def get_moralized_graph(g, a, x, y, z):\n",
    "    m = a.copy()\n",
    "    \n",
    "    for n in a.nodes():\n",
    "        pa_links = itertools.combinations(list(g.d.predecessors(n)), 2)\n",
    "        for pa_1, pa_2 in pa_links:\n",
    "            if pa_1 in m.nodes() and pa_2 in m.nodes() and not m.has_edge(pa_1, pa_2):\n",
    "                m.add_edge(pa_1, pa_2)\n",
    "\n",
    "    return m\n",
    "\n",
    "def get_dependency_graph(m, evidence=set()):\n",
    "    d = m.copy()\n",
    "        \n",
    "    for n in evidence:\n",
    "        d.remove_node(n)\n",
    "\n",
    "    return d\n",
    "                \n",
    "def is_d_separated(g, x, y, evidence=set()):\n",
    "    a = get_ancestral_graph(g, x, y, evidence)\n",
    "    m = get_moralized_graph(g, a, x, y, evidence)\n",
    "    d = get_dependency_graph(m, evidence)\n",
    "\n",
    "    if x not in d.nodes() or y not in d.nodes() or not nx.has_path(d, x, y):\n",
    "        return True\n",
    "    return False"
   ]
  },
  {
   "cell_type": "markdown",
   "id": "1144eff4-3236-4c32-a9fc-068354a4f9e3",
   "metadata": {},
   "source": [
    "## Examples\n",
    "\n",
    "Below are some exercise examples to query for d-separation based on the algorithm and code above."
   ]
  },
  {
   "cell_type": "markdown",
   "id": "cd45087e-688a-46df-bfc3-54d060ef47cd",
   "metadata": {},
   "source": [
    "### Example 1"
   ]
  },
  {
   "cell_type": "code",
   "execution_count": 5,
   "id": "5bb65882-33db-4c34-874e-80b4a42c0517",
   "metadata": {},
   "outputs": [
    {
     "data": {
      "text/plain": [
       "True"
      ]
     },
     "execution_count": 5,
     "metadata": {},
     "output_type": "execute_result"
    }
   ],
   "source": [
    "False == is_d_separated(g, 'V', 'Z')"
   ]
  },
  {
   "cell_type": "markdown",
   "id": "cb6c26fc-9852-4764-aba7-b8ea90ffab2c",
   "metadata": {},
   "source": [
    "### Example 2"
   ]
  },
  {
   "cell_type": "code",
   "execution_count": 6,
   "id": "8712080d-b42f-4142-9574-c84d71034789",
   "metadata": {},
   "outputs": [
    {
     "data": {
      "text/plain": [
       "True"
      ]
     },
     "execution_count": 6,
     "metadata": {},
     "output_type": "execute_result"
    }
   ],
   "source": [
    "True == is_d_separated(g, 'V', 'Z', {'T'})"
   ]
  },
  {
   "cell_type": "markdown",
   "id": "8753125e-6f00-44b0-ac0f-6e51ddaf80ad",
   "metadata": {},
   "source": [
    "### Example 3"
   ]
  },
  {
   "cell_type": "code",
   "execution_count": 7,
   "id": "ee5c2b5f-9482-4948-873c-e05dbfa95412",
   "metadata": {},
   "outputs": [
    {
     "data": {
      "text/plain": [
       "True"
      ]
     },
     "execution_count": 7,
     "metadata": {},
     "output_type": "execute_result"
    }
   ],
   "source": [
    "True == is_d_separated(g, 'U', 'V')"
   ]
  },
  {
   "cell_type": "markdown",
   "id": "0d4f50f4-f3b7-4fb7-a991-eb95c84fa905",
   "metadata": {},
   "source": [
    "### Example 4"
   ]
  },
  {
   "cell_type": "code",
   "execution_count": 8,
   "id": "f051afbb-e519-493a-ad0e-48ef6f8c1423",
   "metadata": {},
   "outputs": [
    {
     "data": {
      "text/plain": [
       "True"
      ]
     },
     "execution_count": 8,
     "metadata": {},
     "output_type": "execute_result"
    }
   ],
   "source": [
    "False == is_d_separated(g, 'U', 'V', {'W'})"
   ]
  },
  {
   "cell_type": "markdown",
   "id": "68db02b3-893c-40f0-b5d2-770fef952efa",
   "metadata": {},
   "source": [
    "### Example 5"
   ]
  },
  {
   "cell_type": "code",
   "execution_count": 9,
   "id": "be1e6dd4-b5a6-48b5-a77f-02732c92c53f",
   "metadata": {},
   "outputs": [
    {
     "data": {
      "text/plain": [
       "True"
      ]
     },
     "execution_count": 9,
     "metadata": {},
     "output_type": "execute_result"
    }
   ],
   "source": [
    "True == is_d_separated(g, 'U', 'V', {'X'})"
   ]
  },
  {
   "cell_type": "markdown",
   "id": "3b98a525-8d09-41b3-9d4e-27bc9c57b7e5",
   "metadata": {},
   "source": [
    "### Example 6"
   ]
  },
  {
   "cell_type": "code",
   "execution_count": 10,
   "id": "29fa5243-0907-49f7-9d1a-a80064423664",
   "metadata": {},
   "outputs": [
    {
     "data": {
      "text/plain": [
       "True"
      ]
     },
     "execution_count": 10,
     "metadata": {},
     "output_type": "execute_result"
    }
   ],
   "source": [
    "False == is_d_separated(g, 'U', 'V', {'Y'})"
   ]
  },
  {
   "cell_type": "markdown",
   "id": "69e32ccd-ce0f-4517-b0de-0b2566428483",
   "metadata": {},
   "source": [
    "### Example 7"
   ]
  },
  {
   "cell_type": "code",
   "execution_count": 11,
   "id": "a55697b4-f74e-4aa2-8a32-56bd45f4e6e0",
   "metadata": {},
   "outputs": [
    {
     "data": {
      "text/plain": [
       "True"
      ]
     },
     "execution_count": 11,
     "metadata": {},
     "output_type": "execute_result"
    }
   ],
   "source": [
    "True == is_d_separated(g, 'U', 'V', {'Z'})"
   ]
  },
  {
   "cell_type": "markdown",
   "id": "620b881c-febc-49aa-8207-614b37dba12e",
   "metadata": {},
   "source": [
    "### Example 8"
   ]
  },
  {
   "cell_type": "code",
   "execution_count": 12,
   "id": "f467d58b-71d2-4d2f-84b3-9001b2123284",
   "metadata": {},
   "outputs": [
    {
     "data": {
      "text/plain": [
       "True"
      ]
     },
     "execution_count": 12,
     "metadata": {},
     "output_type": "execute_result"
    }
   ],
   "source": [
    "False == is_d_separated(g, 'W', 'X')"
   ]
  },
  {
   "cell_type": "markdown",
   "id": "1d6ab404-0901-4977-ba31-dd56b400a5f1",
   "metadata": {},
   "source": [
    "### Example 9"
   ]
  },
  {
   "cell_type": "code",
   "execution_count": 13,
   "id": "146e9e53-f90d-4466-b1af-d92dda4218e5",
   "metadata": {},
   "outputs": [
    {
     "data": {
      "text/plain": [
       "True"
      ]
     },
     "execution_count": 13,
     "metadata": {},
     "output_type": "execute_result"
    }
   ],
   "source": [
    "True == is_d_separated(g, 'X', 'T', {'V'})"
   ]
  },
  {
   "cell_type": "markdown",
   "id": "9394e1db-d741-4782-8821-080eadd6316a",
   "metadata": {},
   "source": [
    "### Example 10"
   ]
  },
  {
   "cell_type": "code",
   "execution_count": 14,
   "id": "444130b1-41d9-4968-ad47-3fc6cd4dc736",
   "metadata": {},
   "outputs": [
    {
     "data": {
      "text/plain": [
       "True"
      ]
     },
     "execution_count": 14,
     "metadata": {},
     "output_type": "execute_result"
    }
   ],
   "source": [
    "False == is_d_separated(g, 'X', 'W', {'U'})"
   ]
  },
  {
   "cell_type": "markdown",
   "id": "59776760-ce07-4549-ada6-5dff9702c589",
   "metadata": {},
   "source": [
    "### Example 11"
   ]
  },
  {
   "cell_type": "code",
   "execution_count": 15,
   "id": "07a7d09d-7dc3-424c-af23-7ca2090b83b1",
   "metadata": {},
   "outputs": [
    {
     "data": {
      "text/plain": [
       "True"
      ]
     },
     "execution_count": 15,
     "metadata": {},
     "output_type": "execute_result"
    }
   ],
   "source": [
    "False == is_d_separated(g, 'Y', 'Z')"
   ]
  },
  {
   "cell_type": "markdown",
   "id": "3611eeb7-b09f-4b1e-85c7-381c4f8a9876",
   "metadata": {},
   "source": [
    "### Example 12"
   ]
  },
  {
   "cell_type": "code",
   "execution_count": 16,
   "id": "a0255f2c-9238-4178-90c4-366beaa7d98e",
   "metadata": {},
   "outputs": [
    {
     "data": {
      "text/plain": [
       "True"
      ]
     },
     "execution_count": 16,
     "metadata": {},
     "output_type": "execute_result"
    }
   ],
   "source": [
    "True == is_d_separated(g, 'Y', 'Z', 'T')"
   ]
  },
  {
   "cell_type": "markdown",
   "id": "5ba3c9cc-e5ae-483c-91e6-375604858e77",
   "metadata": {},
   "source": [
    "### Example 13 **"
   ]
  },
  {
   "cell_type": "code",
   "execution_count": 17,
   "id": "7b4b8f1a-99ad-49f7-be8a-5be84209e881",
   "metadata": {},
   "outputs": [
    {
     "data": {
      "text/plain": [
       "True"
      ]
     },
     "execution_count": 17,
     "metadata": {},
     "output_type": "execute_result"
    }
   ],
   "source": [
    "False == is_d_separated(g, 'Y', 'Z', {'X'})"
   ]
  },
  {
   "cell_type": "markdown",
   "id": "3b90ba0a-8c34-4f9c-820f-c6dd43aa79c7",
   "metadata": {},
   "source": [
    "### Example 14"
   ]
  },
  {
   "cell_type": "code",
   "execution_count": 18,
   "id": "811d2162-086a-4eea-a9a6-fdb1fb667a2e",
   "metadata": {},
   "outputs": [
    {
     "data": {
      "text/plain": [
       "True"
      ]
     },
     "execution_count": 18,
     "metadata": {},
     "output_type": "execute_result"
    }
   ],
   "source": [
    "True == is_d_separated(g, 'Y', 'Z', {'V'})"
   ]
  },
  {
   "cell_type": "markdown",
   "id": "9b674bc1-3786-4e0c-8cfa-31aa76b4b2ff",
   "metadata": {},
   "source": [
    "### Example 15"
   ]
  },
  {
   "cell_type": "code",
   "execution_count": 19,
   "id": "43d6d28b-e101-4d32-a9bb-eac21109a912",
   "metadata": {},
   "outputs": [
    {
     "data": {
      "text/plain": [
       "True"
      ]
     },
     "execution_count": 19,
     "metadata": {},
     "output_type": "execute_result"
    }
   ],
   "source": [
    "True == is_d_separated(g, 'W', 'Z', {'V'})"
   ]
  },
  {
   "cell_type": "markdown",
   "id": "c618ab40-26fe-433c-99e7-fd998c00b440",
   "metadata": {},
   "source": [
    "### Example 16"
   ]
  },
  {
   "cell_type": "code",
   "execution_count": 20,
   "id": "055b32bc-a4de-459e-b7e3-4cfb3906f76f",
   "metadata": {},
   "outputs": [
    {
     "data": {
      "text/plain": [
       "True"
      ]
     },
     "execution_count": 20,
     "metadata": {},
     "output_type": "execute_result"
    }
   ],
   "source": [
    "True == is_d_separated(g, 'U', 'Z')"
   ]
  },
  {
   "cell_type": "markdown",
   "id": "40d3bd8c-2b9c-4881-95bd-d3ded04db623",
   "metadata": {},
   "source": [
    "### Example 17"
   ]
  },
  {
   "cell_type": "code",
   "execution_count": 21,
   "id": "469aafd3-0fd8-4e25-9da0-10efa7e807d2",
   "metadata": {},
   "outputs": [
    {
     "data": {
      "text/plain": [
       "True"
      ]
     },
     "execution_count": 21,
     "metadata": {},
     "output_type": "execute_result"
    }
   ],
   "source": [
    "False == is_d_separated(g, 'U', 'Z', {'Y'})"
   ]
  },
  {
   "cell_type": "markdown",
   "id": "621e5749-b4f6-4b94-817a-536391d97fc1",
   "metadata": {},
   "source": [
    "### Additional examples"
   ]
  },
  {
   "cell_type": "code",
   "execution_count": 22,
   "id": "c1be869d-3c1e-4f28-b44a-53ce23a17102",
   "metadata": {},
   "outputs": [
    {
     "data": {
      "text/plain": [
       "True"
      ]
     },
     "execution_count": 22,
     "metadata": {},
     "output_type": "execute_result"
    }
   ],
   "source": [
    "False == is_d_separated(g, 'U', 'W')"
   ]
  },
  {
   "cell_type": "code",
   "execution_count": 23,
   "id": "de66c3d3-3dbc-4116-b52f-730c94fbe715",
   "metadata": {},
   "outputs": [
    {
     "data": {
      "text/plain": [
       "True"
      ]
     },
     "execution_count": 23,
     "metadata": {},
     "output_type": "execute_result"
    }
   ],
   "source": [
    "True == is_d_separated(g, 'U', 'W', {'U'})"
   ]
  },
  {
   "cell_type": "code",
   "execution_count": 24,
   "id": "80e26316-9f7c-4a1f-a0e7-038e15f69a05",
   "metadata": {},
   "outputs": [
    {
     "data": {
      "text/plain": [
       "True"
      ]
     },
     "execution_count": 24,
     "metadata": {},
     "output_type": "execute_result"
    }
   ],
   "source": [
    "True == is_d_separated(g, 'U', 'W', {'W'})"
   ]
  },
  {
   "cell_type": "code",
   "execution_count": null,
   "id": "5b15507b-6d6b-4605-a214-6571276e701c",
   "metadata": {},
   "outputs": [],
   "source": []
  }
 ],
 "metadata": {
  "kernelspec": {
   "display_name": "Python 3 (ipykernel)",
   "language": "python",
   "name": "python3"
  },
  "language_info": {
   "codemirror_mode": {
    "name": "ipython",
    "version": 3
   },
   "file_extension": ".py",
   "mimetype": "text/x-python",
   "name": "python",
   "nbconvert_exporter": "python",
   "pygments_lexer": "ipython3",
   "version": "3.11.5"
  }
 },
 "nbformat": 4,
 "nbformat_minor": 5
}
