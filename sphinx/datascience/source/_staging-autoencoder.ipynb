{
 "cells": [
  {
   "cell_type": "markdown",
   "id": "conscious-avatar",
   "metadata": {},
   "source": [
    "# Autoencoders, Detecting Malicious URLs"
   ]
  },
  {
   "cell_type": "markdown",
   "id": "chemical-dressing",
   "metadata": {},
   "source": [
    "## Malicious URLs"
   ]
  },
  {
   "cell_type": "code",
   "execution_count": 1,
   "id": "moderate-flight",
   "metadata": {
    "execution": {
     "iopub.execute_input": "2022-01-09T07:30:00.207627Z",
     "iopub.status.busy": "2022-01-09T07:30:00.207320Z",
     "iopub.status.idle": "2022-01-09T07:30:01.068241Z",
     "shell.execute_reply": "2022-01-09T07:30:01.067755Z",
     "shell.execute_reply.started": "2022-01-09T07:30:00.207569Z"
    },
    "tags": []
   },
   "outputs": [
    {
     "data": {
      "text/plain": [
       "(294903, 8)"
      ]
     },
     "execution_count": 1,
     "metadata": {},
     "output_type": "execute_result"
    }
   ],
   "source": [
    "import pandas as pd\n",
    "\n",
    "mdf = pd.read_csv('./cybersecurity/csv.txt', index_col=0)\n",
    "mdf.shape"
   ]
  },
  {
   "cell_type": "code",
   "execution_count": 2,
   "id": "imperial-crystal",
   "metadata": {
    "execution": {
     "iopub.execute_input": "2022-01-09T07:30:01.984448Z",
     "iopub.status.busy": "2022-01-09T07:30:01.984221Z",
     "iopub.status.idle": "2022-01-09T07:30:01.999396Z",
     "shell.execute_reply": "2022-01-09T07:30:01.998858Z",
     "shell.execute_reply.started": "2022-01-09T07:30:01.984420Z"
    },
    "tags": []
   },
   "outputs": [
    {
     "data": {
      "text/html": [
       "<div>\n",
       "<style scoped>\n",
       "    .dataframe tbody tr th:only-of-type {\n",
       "        vertical-align: middle;\n",
       "    }\n",
       "\n",
       "    .dataframe tbody tr th {\n",
       "        vertical-align: top;\n",
       "    }\n",
       "\n",
       "    .dataframe thead th {\n",
       "        text-align: right;\n",
       "    }\n",
       "</style>\n",
       "<table border=\"1\" class=\"dataframe\">\n",
       "  <thead>\n",
       "    <tr style=\"text-align: right;\">\n",
       "      <th></th>\n",
       "      <th>dateadded</th>\n",
       "      <th>url</th>\n",
       "      <th>url_status</th>\n",
       "      <th>last_online</th>\n",
       "      <th>threat</th>\n",
       "      <th>tags</th>\n",
       "      <th>urlhaus_link</th>\n",
       "      <th>reporter</th>\n",
       "    </tr>\n",
       "    <tr>\n",
       "      <th>id</th>\n",
       "      <th></th>\n",
       "      <th></th>\n",
       "      <th></th>\n",
       "      <th></th>\n",
       "      <th></th>\n",
       "      <th></th>\n",
       "      <th></th>\n",
       "      <th></th>\n",
       "    </tr>\n",
       "  </thead>\n",
       "  <tbody>\n",
       "    <tr>\n",
       "      <th>1959127</th>\n",
       "      <td>2022-01-09 04:09:07</td>\n",
       "      <td>http://113.178.137.103:43063/bin.sh</td>\n",
       "      <td>online</td>\n",
       "      <td>None</td>\n",
       "      <td>malware_download</td>\n",
       "      <td>32-bit,elf,mips,Mozi</td>\n",
       "      <td>https://urlhaus.abuse.ch/url/1959127/</td>\n",
       "      <td>geenensp</td>\n",
       "    </tr>\n",
       "    <tr>\n",
       "      <th>1959126</th>\n",
       "      <td>2022-01-09 04:09:06</td>\n",
       "      <td>http://117.195.92.136:52193/bin.sh</td>\n",
       "      <td>online</td>\n",
       "      <td>None</td>\n",
       "      <td>malware_download</td>\n",
       "      <td>32-bit,elf,mips,Mozi</td>\n",
       "      <td>https://urlhaus.abuse.ch/url/1959126/</td>\n",
       "      <td>geenensp</td>\n",
       "    </tr>\n",
       "    <tr>\n",
       "      <th>1959125</th>\n",
       "      <td>2022-01-09 04:08:05</td>\n",
       "      <td>http://42.230.86.76:39194/i</td>\n",
       "      <td>online</td>\n",
       "      <td>None</td>\n",
       "      <td>malware_download</td>\n",
       "      <td>32-bit,elf,mips,Mozi</td>\n",
       "      <td>https://urlhaus.abuse.ch/url/1959125/</td>\n",
       "      <td>geenensp</td>\n",
       "    </tr>\n",
       "    <tr>\n",
       "      <th>1959124</th>\n",
       "      <td>2022-01-09 04:07:06</td>\n",
       "      <td>http://45.206.219.185:39528/Mozi.m</td>\n",
       "      <td>online</td>\n",
       "      <td>None</td>\n",
       "      <td>malware_download</td>\n",
       "      <td>elf,Mozi</td>\n",
       "      <td>https://urlhaus.abuse.ch/url/1959124/</td>\n",
       "      <td>lrz_urlhaus</td>\n",
       "    </tr>\n",
       "    <tr>\n",
       "      <th>1959123</th>\n",
       "      <td>2022-01-09 04:07:05</td>\n",
       "      <td>http://182.117.30.44:43217/bin.sh</td>\n",
       "      <td>online</td>\n",
       "      <td>None</td>\n",
       "      <td>malware_download</td>\n",
       "      <td>32-bit,elf,mips,Mozi</td>\n",
       "      <td>https://urlhaus.abuse.ch/url/1959123/</td>\n",
       "      <td>geenensp</td>\n",
       "    </tr>\n",
       "  </tbody>\n",
       "</table>\n",
       "</div>"
      ],
      "text/plain": [
       "                   dateadded                                  url url_status  \\\n",
       "id                                                                             \n",
       "1959127  2022-01-09 04:09:07  http://113.178.137.103:43063/bin.sh     online   \n",
       "1959126  2022-01-09 04:09:06   http://117.195.92.136:52193/bin.sh     online   \n",
       "1959125  2022-01-09 04:08:05          http://42.230.86.76:39194/i     online   \n",
       "1959124  2022-01-09 04:07:06   http://45.206.219.185:39528/Mozi.m     online   \n",
       "1959123  2022-01-09 04:07:05    http://182.117.30.44:43217/bin.sh     online   \n",
       "\n",
       "        last_online            threat                  tags  \\\n",
       "id                                                            \n",
       "1959127        None  malware_download  32-bit,elf,mips,Mozi   \n",
       "1959126        None  malware_download  32-bit,elf,mips,Mozi   \n",
       "1959125        None  malware_download  32-bit,elf,mips,Mozi   \n",
       "1959124        None  malware_download              elf,Mozi   \n",
       "1959123        None  malware_download  32-bit,elf,mips,Mozi   \n",
       "\n",
       "                                  urlhaus_link     reporter  \n",
       "id                                                           \n",
       "1959127  https://urlhaus.abuse.ch/url/1959127/     geenensp  \n",
       "1959126  https://urlhaus.abuse.ch/url/1959126/     geenensp  \n",
       "1959125  https://urlhaus.abuse.ch/url/1959125/     geenensp  \n",
       "1959124  https://urlhaus.abuse.ch/url/1959124/  lrz_urlhaus  \n",
       "1959123  https://urlhaus.abuse.ch/url/1959123/     geenensp  "
      ]
     },
     "execution_count": 2,
     "metadata": {},
     "output_type": "execute_result"
    }
   ],
   "source": [
    "mdf.head()"
   ]
  },
  {
   "cell_type": "markdown",
   "id": "material-charlotte",
   "metadata": {},
   "source": [
    "## Fake URLs"
   ]
  },
  {
   "cell_type": "code",
   "execution_count": 3,
   "id": "prerequisite-cycling",
   "metadata": {
    "execution": {
     "iopub.execute_input": "2022-01-09T07:30:03.111139Z",
     "iopub.status.busy": "2022-01-09T07:30:03.110961Z",
     "iopub.status.idle": "2022-01-09T07:30:46.752217Z",
     "shell.execute_reply": "2022-01-09T07:30:46.751723Z",
     "shell.execute_reply.started": "2022-01-09T07:30:03.111114Z"
    }
   },
   "outputs": [
    {
     "data": {
      "text/plain": [
       "(294903, 1)"
      ]
     },
     "execution_count": 3,
     "metadata": {},
     "output_type": "execute_result"
    }
   ],
   "source": [
    "from faker import Faker\n",
    "import numpy as np\n",
    "import random\n",
    "\n",
    "np.random.seed(37)\n",
    "random.seed(37)\n",
    "Faker.seed(37)\n",
    "\n",
    "def get_fake_url(f):\n",
    "    def get_slash_index(u):\n",
    "        indices = [i for i, c in enumerate(u) if c == '/']\n",
    "        return indices[2]\n",
    "    \n",
    "    url = f.uri()\n",
    "    \n",
    "    if np.random.random() > 0.3:\n",
    "        slash_index = get_slash_index(url)\n",
    "        first = url[:slash_index]\n",
    "        second = url[slash_index:]\n",
    "        port = f.port_number()    \n",
    "        url = f'{first}:{port}{second}'\n",
    "            \n",
    "    return url\n",
    "\n",
    "fake = Faker()\n",
    "\n",
    "fdf = pd.DataFrame({'url': [get_fake_url(fake) for _ in range(mdf.shape[0])]})\n",
    "fdf.shape"
   ]
  },
  {
   "cell_type": "code",
   "execution_count": 4,
   "id": "valued-reproduction",
   "metadata": {
    "execution": {
     "iopub.execute_input": "2022-01-09T07:30:46.753169Z",
     "iopub.status.busy": "2022-01-09T07:30:46.753008Z",
     "iopub.status.idle": "2022-01-09T07:30:46.758165Z",
     "shell.execute_reply": "2022-01-09T07:30:46.757720Z",
     "shell.execute_reply.started": "2022-01-09T07:30:46.753147Z"
    }
   },
   "outputs": [
    {
     "data": {
      "text/html": [
       "<div>\n",
       "<style scoped>\n",
       "    .dataframe tbody tr th:only-of-type {\n",
       "        vertical-align: middle;\n",
       "    }\n",
       "\n",
       "    .dataframe tbody tr th {\n",
       "        vertical-align: top;\n",
       "    }\n",
       "\n",
       "    .dataframe thead th {\n",
       "        text-align: right;\n",
       "    }\n",
       "</style>\n",
       "<table border=\"1\" class=\"dataframe\">\n",
       "  <thead>\n",
       "    <tr style=\"text-align: right;\">\n",
       "      <th></th>\n",
       "      <th>url</th>\n",
       "    </tr>\n",
       "  </thead>\n",
       "  <tbody>\n",
       "    <tr>\n",
       "      <th>0</th>\n",
       "      <td>http://www.terrell.info:18926/posts/explore/ex...</td>\n",
       "    </tr>\n",
       "    <tr>\n",
       "      <th>1</th>\n",
       "      <td>http://stephens.biz:47993/</td>\n",
       "    </tr>\n",
       "    <tr>\n",
       "      <th>2</th>\n",
       "      <td>http://www.butler.com/explore/faq.htm</td>\n",
       "    </tr>\n",
       "    <tr>\n",
       "      <th>3</th>\n",
       "      <td>https://moore.com:40837/</td>\n",
       "    </tr>\n",
       "    <tr>\n",
       "      <th>4</th>\n",
       "      <td>https://www.nelson-harris.com:34916/main/</td>\n",
       "    </tr>\n",
       "  </tbody>\n",
       "</table>\n",
       "</div>"
      ],
      "text/plain": [
       "                                                 url\n",
       "0  http://www.terrell.info:18926/posts/explore/ex...\n",
       "1                         http://stephens.biz:47993/\n",
       "2              http://www.butler.com/explore/faq.htm\n",
       "3                           https://moore.com:40837/\n",
       "4          https://www.nelson-harris.com:34916/main/"
      ]
     },
     "execution_count": 4,
     "metadata": {},
     "output_type": "execute_result"
    }
   ],
   "source": [
    "fdf.head()"
   ]
  },
  {
   "cell_type": "markdown",
   "id": "written-madness",
   "metadata": {},
   "source": [
    "## Visualize URL length and character distributions"
   ]
  },
  {
   "cell_type": "code",
   "execution_count": 5,
   "id": "cleared-sperm",
   "metadata": {
    "execution": {
     "iopub.execute_input": "2022-01-09T07:31:26.963576Z",
     "iopub.status.busy": "2022-01-09T07:31:26.963420Z",
     "iopub.status.idle": "2022-01-09T07:31:27.896888Z",
     "shell.execute_reply": "2022-01-09T07:31:27.896504Z",
     "shell.execute_reply.started": "2022-01-09T07:31:26.963560Z"
    }
   },
   "outputs": [
    {
     "data": {
      "image/png": "[encoded data removed]",
      "text/plain": [
       "<Figure size 1800x288 with 1 Axes>"
      ]
     },
     "metadata": {},
     "output_type": "display_data"
    }
   ],
   "source": [
    "import matplotlib.pyplot as plt\n",
    "import matplotlib.ticker as ticker\n",
    "\n",
    "plt.style.use('fivethirtyeight')\n",
    "\n",
    "ax = mdf.url.apply(len).value_counts().sort_index()\\\n",
    "    .plot(kind='bar', figsize=(25, 4), title=f'Distribution of Malicious URL Lengths, min={mdf.url.apply(len).min()}, max={mdf.url.apply(len).max()}')\n",
    "_ = ax.xaxis.set_major_locator(ticker.MultipleLocator(10))"
   ]
  },
  {
   "cell_type": "code",
   "execution_count": 6,
   "id": "right-messaging",
   "metadata": {
    "execution": {
     "iopub.execute_input": "2022-01-09T07:31:39.060472Z",
     "iopub.status.busy": "2022-01-09T07:31:39.060327Z",
     "iopub.status.idle": "2022-01-09T07:31:39.447530Z",
     "shell.execute_reply": "2022-01-09T07:31:39.447136Z",
     "shell.execute_reply.started": "2022-01-09T07:31:39.060456Z"
    }
   },
   "outputs": [
    {
     "data": {
      "image/png": "[encoded data removed]",
      "text/plain": [
       "<Figure size 1800x288 with 1 Axes>"
      ]
     },
     "metadata": {},
     "output_type": "display_data"
    }
   ],
   "source": [
    "ax = fdf.url.apply(len).value_counts().sort_index()\\\n",
    "    .plot(kind='bar', figsize=(25, 4), title=f'Distribution of Fake URL Lengths, min={fdf.url.apply(len).min()}, max={fdf.url.apply(len).max()}')\n",
    "_ = ax.xaxis.set_major_locator(ticker.MultipleLocator(10))"
   ]
  },
  {
   "cell_type": "code",
   "execution_count": 7,
   "id": "improving-dollar",
   "metadata": {
    "execution": {
     "iopub.execute_input": "2022-01-09T07:31:45.822832Z",
     "iopub.status.busy": "2022-01-09T07:31:45.822678Z",
     "iopub.status.idle": "2022-01-09T07:31:47.660119Z",
     "shell.execute_reply": "2022-01-09T07:31:47.659668Z",
     "shell.execute_reply.started": "2022-01-09T07:31:45.822814Z"
    }
   },
   "outputs": [
    {
     "data": {
      "image/png": "[encoded data removed]",
      "text/plain": [
       "<Figure size 1800x288 with 1 Axes>"
      ]
     },
     "metadata": {},
     "output_type": "display_data"
    }
   ],
   "source": [
    "import itertools\n",
    "from collections import Counter\n",
    "\n",
    "def get_character_distribution(df):\n",
    "    s = sorted([(k, v) for k, v in Counter(itertools.chain(*df.url.apply(lambda u: [c for c in u]))).items()])\n",
    "    s = pd.Series([v for _, v in s], index=[k for k, _ in s])\n",
    "    return s\n",
    "\n",
    "ax = get_character_distribution(mdf).plot(kind='bar', figsize=(25, 4), title='Distribution of Malicious Letters')"
   ]
  },
  {
   "cell_type": "code",
   "execution_count": 8,
   "id": "seeing-collaboration",
   "metadata": {
    "execution": {
     "iopub.execute_input": "2022-01-09T07:31:47.723824Z",
     "iopub.status.busy": "2022-01-09T07:31:47.723597Z",
     "iopub.status.idle": "2022-01-09T07:31:48.995405Z",
     "shell.execute_reply": "2022-01-09T07:31:48.994964Z",
     "shell.execute_reply.started": "2022-01-09T07:31:47.723796Z"
    }
   },
   "outputs": [
    {
     "data": {
      "image/png": "[encoded data removed]",
      "text/plain": [
       "<Figure size 1080x288 with 1 Axes>"
      ]
     },
     "metadata": {},
     "output_type": "display_data"
    }
   ],
   "source": [
    "ax = get_character_distribution(fdf).plot(kind='bar', figsize=(15, 4), title='Distribution of Fake Letters')"
   ]
  },
  {
   "cell_type": "code",
   "execution_count": 9,
   "id": "ethical-tribute",
   "metadata": {
    "execution": {
     "iopub.execute_input": "2022-01-09T07:31:48.996241Z",
     "iopub.status.busy": "2022-01-09T07:31:48.996099Z",
     "iopub.status.idle": "2022-01-09T07:31:51.047194Z",
     "shell.execute_reply": "2022-01-09T07:31:51.046798Z",
     "shell.execute_reply.started": "2022-01-09T07:31:48.996218Z"
    }
   },
   "outputs": [
    {
     "data": {
      "image/png": "[encoded data removed]",
      "text/plain": [
       "<Figure size 1800x288 with 1 Axes>"
      ]
     },
     "metadata": {},
     "output_type": "display_data"
    }
   ],
   "source": [
    "def get_ord_distribution(df):\n",
    "    s = sorted([(k, v) for k, v in Counter(itertools.chain(*df.url.apply(lambda u: [ord(c) for c in u]))).items()])\n",
    "    s = pd.Series([v for _, v in s], index=[k for k, _ in s])\n",
    "    return s\n",
    "\n",
    "ax = get_ord_distribution(mdf).plot(kind='bar', figsize=(25, 4), title='Distribution of Malicious Letters (Integer)')"
   ]
  },
  {
   "cell_type": "code",
   "execution_count": 10,
   "id": "brown-tactics",
   "metadata": {
    "execution": {
     "iopub.execute_input": "2022-01-09T07:31:51.047976Z",
     "iopub.status.busy": "2022-01-09T07:31:51.047856Z",
     "iopub.status.idle": "2022-01-09T07:31:52.586029Z",
     "shell.execute_reply": "2022-01-09T07:31:52.585529Z",
     "shell.execute_reply.started": "2022-01-09T07:31:51.047961Z"
    }
   },
   "outputs": [
    {
     "data": {
      "image/png": "[encoded data removed]",
      "text/plain": [
       "<Figure size 1080x288 with 1 Axes>"
      ]
     },
     "metadata": {},
     "output_type": "display_data"
    }
   ],
   "source": [
    "ax = get_ord_distribution(fdf).plot(kind='bar', figsize=(15, 4), title='Distribution of Fake Letters (Integer)')"
   ]
  },
  {
   "cell_type": "markdown",
   "id": "fallen-shadow",
   "metadata": {},
   "source": [
    "## Vectorize URLs"
   ]
  },
  {
   "cell_type": "code",
   "execution_count": 11,
   "id": "rising-virtue",
   "metadata": {
    "execution": {
     "iopub.execute_input": "2022-01-09T07:32:05.780312Z",
     "iopub.status.busy": "2022-01-09T07:32:05.780130Z",
     "iopub.status.idle": "2022-01-09T07:32:32.092817Z",
     "shell.execute_reply": "2022-01-09T07:32:32.092443Z",
     "shell.execute_reply.started": "2022-01-09T07:32:05.780291Z"
    }
   },
   "outputs": [
    {
     "name": "stdout",
     "output_type": "stream",
     "text": [
      "450\n"
     ]
    },
    {
     "data": {
      "text/plain": [
       "((294903, 450), (294903, 450))"
      ]
     },
     "execution_count": 11,
     "metadata": {},
     "output_type": "execute_result"
    }
   ],
   "source": [
    "import numpy as np\n",
    "\n",
    "def vectorize(df, max_length):\n",
    "    X = np.array(list(df.url.apply(lambda u: [ord(c) for c in u] + [0 for _ in range(len(u), max_length)])), dtype=np.double)\n",
    "    return X\n",
    "\n",
    "max_length = max(max(mdf.url.apply(len).max(), fdf.url.apply(len).max()), 450)\n",
    "print(max_length)\n",
    "\n",
    "M = vectorize(mdf, max_length)\n",
    "F = vectorize(fdf, max_length)\n",
    "\n",
    "M.shape, F.shape"
   ]
  },
  {
   "cell_type": "markdown",
   "id": "confused-chick",
   "metadata": {},
   "source": [
    "## Autoencoding"
   ]
  },
  {
   "cell_type": "markdown",
   "id": "owned-bandwidth",
   "metadata": {},
   "source": [
    "### Datasets and data loaders"
   ]
  },
  {
   "cell_type": "code",
   "execution_count": 12,
   "id": "forward-statistics",
   "metadata": {
    "execution": {
     "iopub.execute_input": "2022-01-09T07:32:35.289454Z",
     "iopub.status.busy": "2022-01-09T07:32:35.289246Z",
     "iopub.status.idle": "2022-01-09T07:32:35.885616Z",
     "shell.execute_reply": "2022-01-09T07:32:35.885038Z",
     "shell.execute_reply.started": "2022-01-09T07:32:35.289431Z"
    }
   },
   "outputs": [
    {
     "name": "stdout",
     "output_type": "stream",
     "text": [
      "cuda\n"
     ]
    }
   ],
   "source": [
    "import torch\n",
    "from torch.utils.data import Dataset, DataLoader\n",
    "from torchvision.transforms import *\n",
    "\n",
    "class UrlDataset(Dataset):\n",
    "    def __init__(self, X, device):\n",
    "        self.__device = device\n",
    "        self.__X = X\n",
    "\n",
    "    def __len__(self):\n",
    "        return self.__X.shape[0]\n",
    "\n",
    "    def __getitem__(self, idx):\n",
    "        item = self.__X[idx,:]\n",
    "\n",
    "        return item\n",
    "\n",
    "device = torch.device('cuda') if torch.cuda.is_available() else torch.device('cpu')\n",
    "print(device)\n",
    "\n",
    "m_dataset = UrlDataset(X=M, device=device)\n",
    "f_dataset = UrlDataset(X=F, device=device)\n",
    "\n",
    "m_dataloader = DataLoader(m_dataset, batch_size=64, shuffle=True, num_workers=1) \n",
    "f_dataloader = DataLoader(f_dataset, batch_size=64, shuffle=True, num_workers=1)"
   ]
  },
  {
   "cell_type": "markdown",
   "id": "complex-alberta",
   "metadata": {},
   "source": [
    "### AE model"
   ]
  },
  {
   "cell_type": "code",
   "execution_count": 13,
   "id": "major-transcript",
   "metadata": {
    "execution": {
     "iopub.execute_input": "2022-01-09T07:32:39.541896Z",
     "iopub.status.busy": "2022-01-09T07:32:39.541750Z",
     "iopub.status.idle": "2022-01-09T07:32:39.546942Z",
     "shell.execute_reply": "2022-01-09T07:32:39.546582Z",
     "shell.execute_reply.started": "2022-01-09T07:32:39.541879Z"
    }
   },
   "outputs": [],
   "source": [
    "from torchvision import datasets\n",
    "from torchvision import transforms\n",
    "\n",
    "class AE(torch.nn.Module):\n",
    "    def __init__(self, input_size):\n",
    "        super().__init__()\n",
    "\n",
    "        self.encoder = torch.nn.Sequential(\n",
    "            torch.nn.Linear(input_size, 128),\n",
    "            torch.nn.ReLU(),\n",
    "            torch.nn.Linear(128, 64),\n",
    "            torch.nn.ReLU(),\n",
    "            torch.nn.Linear(64, 36),\n",
    "            torch.nn.ReLU(),\n",
    "            torch.nn.Linear(36, 18),\n",
    "            torch.nn.ReLU(),\n",
    "            torch.nn.Linear(18, 9)\n",
    "        )\n",
    "\n",
    "        self.decoder = torch.nn.Sequential(\n",
    "            torch.nn.Linear(9, 18),\n",
    "            torch.nn.ReLU(),\n",
    "            torch.nn.Linear(18, 36),\n",
    "            torch.nn.ReLU(),\n",
    "            torch.nn.Linear(36, 64),\n",
    "            torch.nn.ReLU(),\n",
    "            torch.nn.Linear(64, 128),\n",
    "            torch.nn.ReLU(),\n",
    "            torch.nn.Linear(128, input_size)\n",
    "        )\n",
    "\n",
    "    def forward(self, x):\n",
    "        encoded = self.encoder(x)\n",
    "        decoded = self.decoder(encoded)\n",
    "        return decoded"
   ]
  },
  {
   "cell_type": "markdown",
   "id": "first-cisco",
   "metadata": {},
   "source": [
    "### Learning"
   ]
  },
  {
   "cell_type": "code",
   "execution_count": 14,
   "id": "upset-advertiser",
   "metadata": {
    "execution": {
     "iopub.execute_input": "2022-01-09T07:32:40.717992Z",
     "iopub.status.busy": "2022-01-09T07:32:40.717702Z",
     "iopub.status.idle": "2022-01-09T07:32:40.727017Z",
     "shell.execute_reply": "2022-01-09T07:32:40.726244Z",
     "shell.execute_reply.started": "2022-01-09T07:32:40.717958Z"
    }
   },
   "outputs": [],
   "source": [
    "def learn(data_loader, input_size, device, epochs=20):\n",
    "    model = AE(input_size=input_size).double().to(device)\n",
    "    model.train()\n",
    "    \n",
    "    loss_function = torch.nn.MSELoss()\n",
    "    optimizer = torch.optim.Adam(model.parameters(), lr=1e-3, weight_decay=1e-8)\n",
    "    \n",
    "    loss_df = []\n",
    "\n",
    "    for epoch in range(epochs):\n",
    "        losses = []\n",
    "\n",
    "        for items in data_loader:\n",
    "            items = items.to(device)\n",
    "            optimizer.zero_grad()\n",
    "\n",
    "            reconstructed = model(items)\n",
    "            loss = loss_function(reconstructed, items)\n",
    "\n",
    "            loss.backward()\n",
    "\n",
    "            optimizer.step()\n",
    "\n",
    "            losses.append(loss.detach().cpu().numpy().item())\n",
    "\n",
    "        losses = np.array(losses)\n",
    "\n",
    "        loss_df.append({\n",
    "            'epoch': epoch + 1,\n",
    "            'loss': losses.mean()\n",
    "        })\n",
    "        \n",
    "        print(f'{epoch + 1:03}, {losses.mean():.5f}')\n",
    "\n",
    "    loss_df = pd.DataFrame(loss_df)\n",
    "    loss_df.index = loss_df['epoch']\n",
    "    loss_df = loss_df.drop(columns=['epoch'])\n",
    "    \n",
    "    return model, loss_df"
   ]
  },
  {
   "cell_type": "code",
   "execution_count": 15,
   "id": "improving-tract",
   "metadata": {
    "execution": {
     "iopub.execute_input": "2022-01-09T07:32:45.272582Z",
     "iopub.status.busy": "2022-01-09T07:32:45.272433Z",
     "iopub.status.idle": "2022-01-09T07:37:36.638875Z",
     "shell.execute_reply": "2022-01-09T07:37:36.638381Z",
     "shell.execute_reply.started": "2022-01-09T07:32:45.272566Z"
    }
   },
   "outputs": [
    {
     "name": "stdout",
     "output_type": "stream",
     "text": [
      "001, 40.69729\n",
      "002, 23.34037\n",
      "003, 21.57728\n",
      "004, 20.66604\n",
      "005, 19.53925\n",
      "006, 18.43908\n",
      "007, 17.31271\n",
      "008, 16.88268\n",
      "009, 16.67882\n",
      "010, 16.04619\n",
      "011, 15.73320\n",
      "012, 15.36572\n",
      "013, 15.19503\n",
      "014, 14.95645\n",
      "015, 14.73917\n",
      "016, 14.61808\n",
      "017, 14.53333\n",
      "018, 14.43027\n",
      "019, 14.37942\n",
      "020, 14.32605\n"
     ]
    }
   ],
   "source": [
    "m_model, m_loss = learn(m_dataloader, M.shape[1], device)"
   ]
  },
  {
   "cell_type": "code",
   "execution_count": 16,
   "id": "following-training",
   "metadata": {
    "execution": {
     "iopub.execute_input": "2022-01-09T07:37:36.639768Z",
     "iopub.status.busy": "2022-01-09T07:37:36.639648Z",
     "iopub.status.idle": "2022-01-09T07:42:17.503668Z",
     "shell.execute_reply": "2022-01-09T07:42:17.503234Z",
     "shell.execute_reply.started": "2022-01-09T07:37:36.639752Z"
    }
   },
   "outputs": [
    {
     "name": "stdout",
     "output_type": "stream",
     "text": [
      "001, 68.04555\n",
      "002, 48.74619\n",
      "003, 43.61743\n",
      "004, 37.87440\n",
      "005, 31.67343\n",
      "006, 28.65478\n",
      "007, 27.01096\n",
      "008, 25.89886\n",
      "009, 24.50368\n",
      "010, 23.09080\n",
      "011, 22.30850\n",
      "012, 21.22333\n",
      "013, 20.54085\n",
      "014, 20.09835\n",
      "015, 19.71120\n",
      "016, 19.35925\n",
      "017, 18.92354\n",
      "018, 18.19207\n",
      "019, 17.65860\n",
      "020, 17.37112\n"
     ]
    }
   ],
   "source": [
    "f_model, f_loss = learn(f_dataloader, F.shape[1], device)"
   ]
  },
  {
   "cell_type": "code",
   "execution_count": 17,
   "id": "falling-amount",
   "metadata": {
    "execution": {
     "iopub.execute_input": "2022-01-09T07:42:17.504636Z",
     "iopub.status.busy": "2022-01-09T07:42:17.504520Z",
     "iopub.status.idle": "2022-01-09T07:42:17.627094Z",
     "shell.execute_reply": "2022-01-09T07:42:17.626711Z",
     "shell.execute_reply.started": "2022-01-09T07:42:17.504619Z"
    }
   },
   "outputs": [
    {
     "data": {
      "image/png": "[encoded data removed]",
      "text/plain": [
       "<Figure size 1080x288 with 1 Axes>"
      ]
     },
     "metadata": {},
     "output_type": "display_data"
    }
   ],
   "source": [
    "ax = m_loss['loss'].plot(kind='line', figsize=(15, 4), title='Malicious MSE Loss', ylabel='MSE')\n",
    "_ = ax.xaxis.set_major_locator(ticker.MultipleLocator(1))"
   ]
  },
  {
   "cell_type": "code",
   "execution_count": 18,
   "id": "accepted-mauritius",
   "metadata": {
    "execution": {
     "iopub.execute_input": "2022-01-09T07:42:17.627831Z",
     "iopub.status.busy": "2022-01-09T07:42:17.627682Z",
     "iopub.status.idle": "2022-01-09T07:42:17.748001Z",
     "shell.execute_reply": "2022-01-09T07:42:17.747640Z",
     "shell.execute_reply.started": "2022-01-09T07:42:17.627816Z"
    }
   },
   "outputs": [
    {
     "data": {
      "image/png": "[encoded data removed]",
      "text/plain": [
       "<Figure size 1080x288 with 1 Axes>"
      ]
     },
     "metadata": {},
     "output_type": "display_data"
    }
   ],
   "source": [
    "ax = m_loss['loss'].plot(kind='line', figsize=(15, 4), title='Fake MSE Loss', ylabel='MSE')\n",
    "_ = ax.xaxis.set_major_locator(ticker.MultipleLocator(1))"
   ]
  },
  {
   "cell_type": "markdown",
   "id": "alpine-internet",
   "metadata": {},
   "source": [
    "### Evaluation"
   ]
  },
  {
   "cell_type": "code",
   "execution_count": 28,
   "id": "acting-stream",
   "metadata": {
    "execution": {
     "iopub.execute_input": "2022-01-09T07:56:30.522184Z",
     "iopub.status.busy": "2022-01-09T07:56:30.522020Z",
     "iopub.status.idle": "2022-01-09T07:56:30.524716Z",
     "shell.execute_reply": "2022-01-09T07:56:30.524234Z",
     "shell.execute_reply.started": "2022-01-09T07:56:30.522165Z"
    }
   },
   "outputs": [],
   "source": [
    "_ = m_model.eval()\n",
    "_ = f_model.eval()"
   ]
  },
  {
   "cell_type": "code",
   "execution_count": 62,
   "id": "considered-latex",
   "metadata": {
    "execution": {
     "iopub.execute_input": "2022-01-09T08:17:49.151158Z",
     "iopub.status.busy": "2022-01-09T08:17:49.150961Z",
     "iopub.status.idle": "2022-01-09T08:17:53.274005Z",
     "shell.execute_reply": "2022-01-09T08:17:53.273614Z",
     "shell.execute_reply.started": "2022-01-09T08:17:49.151135Z"
    }
   },
   "outputs": [
    {
     "data": {
      "text/plain": [
       "((294903, 3), (294903, 3))"
      ]
     },
     "execution_count": 62,
     "metadata": {},
     "output_type": "execute_result"
    }
   ],
   "source": [
    "def evaluate(m, f, X, device, urls):\n",
    "    T = torch.from_numpy(X).to(device)\n",
    "    \n",
    "    m_preds = m_model(T).detach().cpu().numpy()\n",
    "    f_preds = f_model(T).detach().cpu().numpy()\n",
    "    \n",
    "    m_dist = np.linalg.norm(X - m_preds, 2, axis=1)\n",
    "    f_dist = np.linalg.norm(X - f_preds, 2, axis=1)\n",
    "    \n",
    "    return pd.DataFrame({\n",
    "        'urls': list(urls),\n",
    "        'm_dist': m_dist,\n",
    "        'f_dist': f_dist\n",
    "    })\n",
    "\n",
    "m_result = evaluate(m_model, f_model, M, device, mdf.url)\n",
    "f_result = evaluate(m_model, f_model, F, device, fdf.url)\n",
    "\n",
    "m_result.shape, f_result.shape"
   ]
  },
  {
   "cell_type": "code",
   "execution_count": 65,
   "id": "protecting-milan",
   "metadata": {
    "execution": {
     "iopub.execute_input": "2022-01-09T08:20:08.928386Z",
     "iopub.status.busy": "2022-01-09T08:20:08.927320Z",
     "iopub.status.idle": "2022-01-09T08:20:08.947196Z",
     "shell.execute_reply": "2022-01-09T08:20:08.946231Z",
     "shell.execute_reply.started": "2022-01-09T08:20:08.928247Z"
    }
   },
   "outputs": [
    {
     "data": {
      "text/html": [
       "<div>\n",
       "<style scoped>\n",
       "    .dataframe tbody tr th:only-of-type {\n",
       "        vertical-align: middle;\n",
       "    }\n",
       "\n",
       "    .dataframe tbody tr th {\n",
       "        vertical-align: top;\n",
       "    }\n",
       "\n",
       "    .dataframe thead th {\n",
       "        text-align: right;\n",
       "    }\n",
       "</style>\n",
       "<table border=\"1\" class=\"dataframe\">\n",
       "  <thead>\n",
       "    <tr style=\"text-align: right;\">\n",
       "      <th></th>\n",
       "      <th>urls</th>\n",
       "      <th>m_dist</th>\n",
       "      <th>f_dist</th>\n",
       "    </tr>\n",
       "  </thead>\n",
       "  <tbody>\n",
       "    <tr>\n",
       "      <th>0</th>\n",
       "      <td>http://113.178.137.103:43063/bin.sh</td>\n",
       "      <td>12.796917</td>\n",
       "      <td>147.769682</td>\n",
       "    </tr>\n",
       "    <tr>\n",
       "      <th>1</th>\n",
       "      <td>http://117.195.92.136:52193/bin.sh</td>\n",
       "      <td>14.110015</td>\n",
       "      <td>157.243083</td>\n",
       "    </tr>\n",
       "    <tr>\n",
       "      <th>2</th>\n",
       "      <td>http://42.230.86.76:39194/i</td>\n",
       "      <td>13.937121</td>\n",
       "      <td>129.116049</td>\n",
       "    </tr>\n",
       "    <tr>\n",
       "      <th>3</th>\n",
       "      <td>http://45.206.219.185:39528/Mozi.m</td>\n",
       "      <td>13.059710</td>\n",
       "      <td>163.499153</td>\n",
       "    </tr>\n",
       "    <tr>\n",
       "      <th>4</th>\n",
       "      <td>http://182.117.30.44:43217/bin.sh</td>\n",
       "      <td>12.304893</td>\n",
       "      <td>145.153160</td>\n",
       "    </tr>\n",
       "  </tbody>\n",
       "</table>\n",
       "</div>"
      ],
      "text/plain": [
       "                                  urls     m_dist      f_dist\n",
       "0  http://113.178.137.103:43063/bin.sh  12.796917  147.769682\n",
       "1   http://117.195.92.136:52193/bin.sh  14.110015  157.243083\n",
       "2          http://42.230.86.76:39194/i  13.937121  129.116049\n",
       "3   http://45.206.219.185:39528/Mozi.m  13.059710  163.499153\n",
       "4    http://182.117.30.44:43217/bin.sh  12.304893  145.153160"
      ]
     },
     "execution_count": 65,
     "metadata": {},
     "output_type": "execute_result"
    }
   ],
   "source": [
    "m_result.head()"
   ]
  },
  {
   "cell_type": "code",
   "execution_count": 68,
   "id": "automatic-inspector",
   "metadata": {
    "execution": {
     "iopub.execute_input": "2022-01-09T08:20:59.744726Z",
     "iopub.status.busy": "2022-01-09T08:20:59.744111Z",
     "iopub.status.idle": "2022-01-09T08:20:59.762542Z",
     "shell.execute_reply": "2022-01-09T08:20:59.761465Z",
     "shell.execute_reply.started": "2022-01-09T08:20:59.744651Z"
    }
   },
   "outputs": [
    {
     "data": {
      "text/html": [
       "<div>\n",
       "<style scoped>\n",
       "    .dataframe tbody tr th:only-of-type {\n",
       "        vertical-align: middle;\n",
       "    }\n",
       "\n",
       "    .dataframe tbody tr th {\n",
       "        vertical-align: top;\n",
       "    }\n",
       "\n",
       "    .dataframe thead th {\n",
       "        text-align: right;\n",
       "    }\n",
       "</style>\n",
       "<table border=\"1\" class=\"dataframe\">\n",
       "  <thead>\n",
       "    <tr style=\"text-align: right;\">\n",
       "      <th></th>\n",
       "      <th>urls</th>\n",
       "      <th>m_dist</th>\n",
       "      <th>f_dist</th>\n",
       "    </tr>\n",
       "  </thead>\n",
       "  <tbody>\n",
       "    <tr>\n",
       "      <th>0</th>\n",
       "      <td>http://www.terrell.info:18926/posts/explore/ex...</td>\n",
       "      <td>215.396759</td>\n",
       "      <td>121.751853</td>\n",
       "    </tr>\n",
       "    <tr>\n",
       "      <th>1</th>\n",
       "      <td>http://stephens.biz:47993/</td>\n",
       "      <td>94.481302</td>\n",
       "      <td>51.613355</td>\n",
       "    </tr>\n",
       "    <tr>\n",
       "      <th>2</th>\n",
       "      <td>http://www.butler.com/explore/faq.htm</td>\n",
       "      <td>141.791605</td>\n",
       "      <td>102.246879</td>\n",
       "    </tr>\n",
       "    <tr>\n",
       "      <th>3</th>\n",
       "      <td>https://moore.com:40837/</td>\n",
       "      <td>119.615730</td>\n",
       "      <td>26.017324</td>\n",
       "    </tr>\n",
       "    <tr>\n",
       "      <th>4</th>\n",
       "      <td>https://www.nelson-harris.com:34916/main/</td>\n",
       "      <td>151.358979</td>\n",
       "      <td>53.734932</td>\n",
       "    </tr>\n",
       "  </tbody>\n",
       "</table>\n",
       "</div>"
      ],
      "text/plain": [
       "                                                urls      m_dist      f_dist\n",
       "0  http://www.terrell.info:18926/posts/explore/ex...  215.396759  121.751853\n",
       "1                         http://stephens.biz:47993/   94.481302   51.613355\n",
       "2              http://www.butler.com/explore/faq.htm  141.791605  102.246879\n",
       "3                           https://moore.com:40837/  119.615730   26.017324\n",
       "4          https://www.nelson-harris.com:34916/main/  151.358979   53.734932"
      ]
     },
     "execution_count": 68,
     "metadata": {},
     "output_type": "execute_result"
    }
   ],
   "source": [
    "f_result.head()"
   ]
  },
  {
   "cell_type": "code",
   "execution_count": 66,
   "id": "purple-enhancement",
   "metadata": {
    "execution": {
     "iopub.execute_input": "2022-01-09T08:20:28.136737Z",
     "iopub.status.busy": "2022-01-09T08:20:28.136118Z",
     "iopub.status.idle": "2022-01-09T08:20:28.160153Z",
     "shell.execute_reply": "2022-01-09T08:20:28.158053Z",
     "shell.execute_reply.started": "2022-01-09T08:20:28.136659Z"
    }
   },
   "outputs": [
    {
     "data": {
      "text/plain": [
       "m_dist     42.201429\n",
       "f_dist    202.676389\n",
       "dtype: float64"
      ]
     },
     "execution_count": 66,
     "metadata": {},
     "output_type": "execute_result"
    }
   ],
   "source": [
    "m_result[['m_dist', 'f_dist']].mean()"
   ]
  },
  {
   "cell_type": "code",
   "execution_count": 67,
   "id": "nutritional-security",
   "metadata": {
    "execution": {
     "iopub.execute_input": "2022-01-09T08:20:36.588284Z",
     "iopub.status.busy": "2022-01-09T08:20:36.588150Z",
     "iopub.status.idle": "2022-01-09T08:20:36.594265Z",
     "shell.execute_reply": "2022-01-09T08:20:36.593837Z",
     "shell.execute_reply.started": "2022-01-09T08:20:36.588269Z"
    }
   },
   "outputs": [
    {
     "data": {
      "text/plain": [
       "m_dist    150.676333\n",
       "f_dist     82.323130\n",
       "dtype: float64"
      ]
     },
     "execution_count": 67,
     "metadata": {},
     "output_type": "execute_result"
    }
   ],
   "source": [
    "f_result[['m_dist', 'f_dist']].mean()"
   ]
  },
  {
   "cell_type": "code",
   "execution_count": 72,
   "id": "electoral-progressive",
   "metadata": {
    "execution": {
     "iopub.execute_input": "2022-01-09T08:25:34.311206Z",
     "iopub.status.busy": "2022-01-09T08:25:34.310748Z",
     "iopub.status.idle": "2022-01-09T08:25:34.323305Z",
     "shell.execute_reply": "2022-01-09T08:25:34.322496Z",
     "shell.execute_reply.started": "2022-01-09T08:25:34.311148Z"
    }
   },
   "outputs": [
    {
     "data": {
      "text/plain": [
       "(42.2014289456109, 67.19424483605282, 82.3231299935951, 31.48630596249839)"
      ]
     },
     "execution_count": 72,
     "metadata": {},
     "output_type": "execute_result"
    }
   ],
   "source": [
    "m_mean = m_result.m_dist.mean()\n",
    "f_mean = f_result.f_dist.mean()\n",
    "\n",
    "m_std = m_result.m_dist.std()\n",
    "f_std = f_result.f_dist.std()\n",
    "\n",
    "m_mean, m_std, f_mean, f_std"
   ]
  },
  {
   "cell_type": "code",
   "execution_count": 85,
   "id": "hazardous-packaging",
   "metadata": {
    "execution": {
     "iopub.execute_input": "2022-01-09T08:36:37.310447Z",
     "iopub.status.busy": "2022-01-09T08:36:37.310165Z",
     "iopub.status.idle": "2022-01-09T08:36:37.461929Z",
     "shell.execute_reply": "2022-01-09T08:36:37.461547Z",
     "shell.execute_reply.started": "2022-01-09T08:36:37.310403Z"
    }
   },
   "outputs": [
    {
     "data": {
      "text/html": [
       "<div>\n",
       "<style scoped>\n",
       "    .dataframe tbody tr th:only-of-type {\n",
       "        vertical-align: middle;\n",
       "    }\n",
       "\n",
       "    .dataframe tbody tr th {\n",
       "        vertical-align: top;\n",
       "    }\n",
       "\n",
       "    .dataframe thead th {\n",
       "        text-align: right;\n",
       "    }\n",
       "</style>\n",
       "<table border=\"1\" class=\"dataframe\">\n",
       "  <thead>\n",
       "    <tr style=\"text-align: right;\">\n",
       "      <th></th>\n",
       "      <th>p_true</th>\n",
       "      <th>p_false</th>\n",
       "    </tr>\n",
       "  </thead>\n",
       "  <tbody>\n",
       "    <tr>\n",
       "      <th>y_true</th>\n",
       "      <td>0.859639</td>\n",
       "      <td>0.140361</td>\n",
       "    </tr>\n",
       "    <tr>\n",
       "      <th>y_false</th>\n",
       "      <td>0.041505</td>\n",
       "      <td>0.958495</td>\n",
       "    </tr>\n",
       "  </tbody>\n",
       "</table>\n",
       "</div>"
      ],
      "text/plain": [
       "           p_true   p_false\n",
       "y_true   0.859639  0.140361\n",
       "y_false  0.041505  0.958495"
      ]
     },
     "execution_count": 85,
     "metadata": {},
     "output_type": "execute_result"
    }
   ],
   "source": [
    "s = m_result.m_dist.apply(lambda v: 1 if v <= m_mean + m_std else 0).value_counts().sort_index()\n",
    "s = s / s.sum()\n",
    "\n",
    "fn, tp = s.iloc[0], s.iloc[1]\n",
    "\n",
    "s = f_result.m_dist.apply(lambda v: 1 if v <= m_mean + m_std else 0).value_counts().sort_index()\n",
    "s = s / s.sum()\n",
    "\n",
    "tn, fp = s.iloc[0], s.iloc[1]\n",
    "\n",
    "pd.DataFrame([[tp, fn], [fp, tn]], columns=['p_true', 'p_false'], index=['y_true', 'y_false'])"
   ]
  },
  {
   "cell_type": "code",
   "execution_count": 86,
   "id": "mexican-applicant",
   "metadata": {
    "execution": {
     "iopub.execute_input": "2022-01-09T08:37:02.884267Z",
     "iopub.status.busy": "2022-01-09T08:37:02.883813Z",
     "iopub.status.idle": "2022-01-09T08:37:03.085972Z",
     "shell.execute_reply": "2022-01-09T08:37:03.085624Z",
     "shell.execute_reply.started": "2022-01-09T08:37:02.884210Z"
    }
   },
   "outputs": [
    {
     "data": {
      "text/html": [
       "<div>\n",
       "<style scoped>\n",
       "    .dataframe tbody tr th:only-of-type {\n",
       "        vertical-align: middle;\n",
       "    }\n",
       "\n",
       "    .dataframe tbody tr th {\n",
       "        vertical-align: top;\n",
       "    }\n",
       "\n",
       "    .dataframe thead th {\n",
       "        text-align: right;\n",
       "    }\n",
       "</style>\n",
       "<table border=\"1\" class=\"dataframe\">\n",
       "  <thead>\n",
       "    <tr style=\"text-align: right;\">\n",
       "      <th></th>\n",
       "      <th>p_true</th>\n",
       "      <th>p_false</th>\n",
       "    </tr>\n",
       "  </thead>\n",
       "  <tbody>\n",
       "    <tr>\n",
       "      <th>y_true</th>\n",
       "      <td>0.822365</td>\n",
       "      <td>0.177635</td>\n",
       "    </tr>\n",
       "    <tr>\n",
       "      <th>y_false</th>\n",
       "      <td>0.018426</td>\n",
       "      <td>0.981574</td>\n",
       "    </tr>\n",
       "  </tbody>\n",
       "</table>\n",
       "</div>"
      ],
      "text/plain": [
       "           p_true   p_false\n",
       "y_true   0.822365  0.177635\n",
       "y_false  0.018426  0.981574"
      ]
     },
     "execution_count": 86,
     "metadata": {},
     "output_type": "execute_result"
    }
   ],
   "source": [
    "s = f_result.f_dist.apply(lambda v: 1 if v <= f_mean + f_std else 0).value_counts().sort_index()\n",
    "s = s / s.sum()\n",
    "\n",
    "fn, tp = s.iloc[0], s.iloc[1]\n",
    "\n",
    "s = m_result.f_dist.apply(lambda v: 1 if v <= f_mean + f_std else 0).value_counts().sort_index()\n",
    "s = s / s.sum()\n",
    "\n",
    "tn, fp = s.iloc[0], s.iloc[1]\n",
    "\n",
    "pd.DataFrame([[tp, fn], [fp, tn]], columns=['p_true', 'p_false'], index=['y_true', 'y_false'])"
   ]
  },
  {
   "cell_type": "code",
   "execution_count": 104,
   "id": "mature-transsexual",
   "metadata": {
    "execution": {
     "iopub.execute_input": "2022-01-09T08:49:10.746704Z",
     "iopub.status.busy": "2022-01-09T08:49:10.746050Z",
     "iopub.status.idle": "2022-01-09T08:49:11.209846Z",
     "shell.execute_reply": "2022-01-09T08:49:11.209358Z",
     "shell.execute_reply.started": "2022-01-09T08:49:10.746624Z"
    }
   },
   "outputs": [
    {
     "data": {
      "text/plain": [
       "array([[282663,  12240],\n",
       "       [ 41393, 253510]])"
      ]
     },
     "execution_count": 104,
     "metadata": {},
     "output_type": "execute_result"
    }
   ],
   "source": [
    "from sklearn.metrics import confusion_matrix, roc_auc_score, average_precision_score, f1_score\n",
    "\n",
    "p_1 = m_result.m_dist.apply(lambda v: 1 if v <= m_mean + m_std else 0)\n",
    "y_1 = np.ones(len(p_1))\n",
    "\n",
    "p_0 = f_result.m_dist.apply(lambda v: 1 if v <= m_mean + m_std else 0)\n",
    "y_0 = np.zeros(len(p_0))\n",
    "\n",
    "y_pred = pd.concat([p_1, p_0]).values\n",
    "y_true = np.concatenate([y_1, y_0])\n",
    "\n",
    "confusion_matrix(y_true, y_pred)"
   ]
  },
  {
   "cell_type": "code",
   "execution_count": 105,
   "id": "english-story",
   "metadata": {
    "execution": {
     "iopub.execute_input": "2022-01-09T08:49:19.538403Z",
     "iopub.status.busy": "2022-01-09T08:49:19.538169Z",
     "iopub.status.idle": "2022-01-09T08:49:19.814005Z",
     "shell.execute_reply": "2022-01-09T08:49:19.813600Z",
     "shell.execute_reply.started": "2022-01-09T08:49:19.538376Z"
    }
   },
   "outputs": [
    {
     "data": {
      "text/plain": [
       "(0.9090667100707691, 0.8902257823896167, 0.9043383340497598)"
      ]
     },
     "execution_count": 105,
     "metadata": {},
     "output_type": "execute_result"
    }
   ],
   "source": [
    "roc_auc_score(y_true, y_pred), average_precision_score(y_true, y_pred), f1_score(y_true, y_pred)"
   ]
  },
  {
   "cell_type": "code",
   "execution_count": 106,
   "id": "possible-pasta",
   "metadata": {
    "execution": {
     "iopub.execute_input": "2022-01-09T08:49:24.475002Z",
     "iopub.status.busy": "2022-01-09T08:49:24.474864Z",
     "iopub.status.idle": "2022-01-09T08:49:24.916578Z",
     "shell.execute_reply": "2022-01-09T08:49:24.916159Z",
     "shell.execute_reply.started": "2022-01-09T08:49:24.474987Z"
    }
   },
   "outputs": [
    {
     "data": {
      "text/plain": [
       "array([[289469,   5434],\n",
       "       [ 52385, 242518]])"
      ]
     },
     "execution_count": 106,
     "metadata": {},
     "output_type": "execute_result"
    }
   ],
   "source": [
    "p_1 = f_result.f_dist.apply(lambda v: 1 if v <= f_mean + f_std else 0)\n",
    "y_1 = np.ones(len(p_1))\n",
    "\n",
    "p_0 = m_result.f_dist.apply(lambda v: 1 if v <= f_mean + f_std else 0)\n",
    "y_0 = np.zeros(len(p_0))\n",
    "\n",
    "y_pred = pd.concat([p_1, p_0]).values\n",
    "y_true = np.concatenate([y_1, y_0])\n",
    "\n",
    "confusion_matrix(y_true, y_pred)"
   ]
  },
  {
   "cell_type": "code",
   "execution_count": 107,
   "id": "based-trauma",
   "metadata": {
    "execution": {
     "iopub.execute_input": "2022-01-09T08:49:32.829540Z",
     "iopub.status.busy": "2022-01-09T08:49:32.829307Z",
     "iopub.status.idle": "2022-01-09T08:49:33.117368Z",
     "shell.execute_reply": "2022-01-09T08:49:33.117006Z",
     "shell.execute_reply.started": "2022-01-09T08:49:32.829512Z"
    }
   },
   "outputs": [
    {
     "data": {
      "text/plain": [
       "(0.901969461144851, 0.8931600865406488, 0.8934908953587973)"
      ]
     },
     "execution_count": 107,
     "metadata": {},
     "output_type": "execute_result"
    }
   ],
   "source": [
    "roc_auc_score(y_true, y_pred), average_precision_score(y_true, y_pred), f1_score(y_true, y_pred)"
   ]
  },
  {
   "cell_type": "code",
   "execution_count": null,
   "id": "color-shark",
   "metadata": {},
   "outputs": [],
   "source": []
  }
 ],
 "metadata": {
  "kernelspec": {
   "display_name": "Python 3",
   "language": "python",
   "name": "python3"
  },
  "language_info": {
   "codemirror_mode": {
    "name": "ipython",
    "version": 3
   },
   "file_extension": ".py",
   "mimetype": "text/x-python",
   "name": "python",
   "nbconvert_exporter": "python",
   "pygments_lexer": "ipython3",
   "version": "3.8.5"
  },
  "widgets": {
   "application/vnd.jupyter.widget-state+json": {
    "state": {},
    "version_major": 2,
    "version_minor": 0
   }
  }
 },
 "nbformat": 4,
 "nbformat_minor": 5
}
