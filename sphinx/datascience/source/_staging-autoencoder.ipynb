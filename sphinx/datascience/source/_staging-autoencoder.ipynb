{
 "cells": [
  {
   "cell_type": "code",
   "execution_count": 3,
   "id": "acfa213b-2e07-433f-8a1f-0487959c73f5",
   "metadata": {
    "execution": {
     "iopub.execute_input": "2022-01-08T15:54:52.566039Z",
     "iopub.status.busy": "2022-01-08T15:54:52.566039Z",
     "iopub.status.idle": "2022-01-08T15:54:53.236543Z",
     "shell.execute_reply": "2022-01-08T15:54:53.236543Z",
     "shell.execute_reply.started": "2022-01-08T15:54:52.566039Z"
    },
    "tags": []
   },
   "outputs": [
    {
     "data": {
      "text/plain": [
       "(295198, 8)"
      ]
     },
     "execution_count": 3,
     "metadata": {},
     "output_type": "execute_result"
    }
   ],
   "source": [
    "import pandas as pd\n",
    "\n",
    "df = pd.read_csv('./cybersecurity/csv.txt', index_col=0)\n",
    "df.shape"
   ]
  },
  {
   "cell_type": "code",
   "execution_count": 4,
   "id": "7e1048e5-ee95-4a7f-9a10-62ff257d7a4c",
   "metadata": {
    "execution": {
     "iopub.execute_input": "2022-01-08T15:54:53.775067Z",
     "iopub.status.busy": "2022-01-08T15:54:53.775067Z",
     "iopub.status.idle": "2022-01-08T15:54:53.798805Z",
     "shell.execute_reply": "2022-01-08T15:54:53.798085Z",
     "shell.execute_reply.started": "2022-01-08T15:54:53.775067Z"
    },
    "tags": []
   },
   "outputs": [
    {
     "data": {
      "text/html": [
       "<div>\n",
       "<style scoped>\n",
       "    .dataframe tbody tr th:only-of-type {\n",
       "        vertical-align: middle;\n",
       "    }\n",
       "\n",
       "    .dataframe tbody tr th {\n",
       "        vertical-align: top;\n",
       "    }\n",
       "\n",
       "    .dataframe thead th {\n",
       "        text-align: right;\n",
       "    }\n",
       "</style>\n",
       "<table border=\"1\" class=\"dataframe\">\n",
       "  <thead>\n",
       "    <tr style=\"text-align: right;\">\n",
       "      <th></th>\n",
       "      <th>dateadded</th>\n",
       "      <th>url</th>\n",
       "      <th>url_status</th>\n",
       "      <th>last_online</th>\n",
       "      <th>threat</th>\n",
       "      <th>tags</th>\n",
       "      <th>urlhaus_link</th>\n",
       "      <th>reporter</th>\n",
       "    </tr>\n",
       "    <tr>\n",
       "      <th>id</th>\n",
       "      <th></th>\n",
       "      <th></th>\n",
       "      <th></th>\n",
       "      <th></th>\n",
       "      <th></th>\n",
       "      <th></th>\n",
       "      <th></th>\n",
       "      <th></th>\n",
       "    </tr>\n",
       "  </thead>\n",
       "  <tbody>\n",
       "    <tr>\n",
       "      <th>1957893</th>\n",
       "      <td>2022-01-08 15:29:06</td>\n",
       "      <td>http://182.124.44.227:44927/mozi.m</td>\n",
       "      <td>online</td>\n",
       "      <td>None</td>\n",
       "      <td>malware_download</td>\n",
       "      <td>None</td>\n",
       "      <td>https://urlhaus.abuse.ch/url/1957893/</td>\n",
       "      <td>tammeto</td>\n",
       "    </tr>\n",
       "    <tr>\n",
       "      <th>1957892</th>\n",
       "      <td>2022-01-08 15:24:09</td>\n",
       "      <td>http://125.168.147.202:39399/bin.sh</td>\n",
       "      <td>online</td>\n",
       "      <td>None</td>\n",
       "      <td>malware_download</td>\n",
       "      <td>32-bit,elf,mips,Mozi</td>\n",
       "      <td>https://urlhaus.abuse.ch/url/1957892/</td>\n",
       "      <td>geenensp</td>\n",
       "    </tr>\n",
       "    <tr>\n",
       "      <th>1957891</th>\n",
       "      <td>2022-01-08 15:22:07</td>\n",
       "      <td>http://59.96.44.142:36311/Mozi.m</td>\n",
       "      <td>online</td>\n",
       "      <td>None</td>\n",
       "      <td>malware_download</td>\n",
       "      <td>elf,Mozi</td>\n",
       "      <td>https://urlhaus.abuse.ch/url/1957891/</td>\n",
       "      <td>lrz_urlhaus</td>\n",
       "    </tr>\n",
       "    <tr>\n",
       "      <th>1957889</th>\n",
       "      <td>2022-01-08 15:22:06</td>\n",
       "      <td>http://61.52.7.155:49605/Mozi.m</td>\n",
       "      <td>online</td>\n",
       "      <td>None</td>\n",
       "      <td>malware_download</td>\n",
       "      <td>elf,Mozi</td>\n",
       "      <td>https://urlhaus.abuse.ch/url/1957889/</td>\n",
       "      <td>lrz_urlhaus</td>\n",
       "    </tr>\n",
       "    <tr>\n",
       "      <th>1957890</th>\n",
       "      <td>2022-01-08 15:22:06</td>\n",
       "      <td>http://221.15.6.40:58808/Mozi.m</td>\n",
       "      <td>online</td>\n",
       "      <td>None</td>\n",
       "      <td>malware_download</td>\n",
       "      <td>elf,Mozi</td>\n",
       "      <td>https://urlhaus.abuse.ch/url/1957890/</td>\n",
       "      <td>lrz_urlhaus</td>\n",
       "    </tr>\n",
       "  </tbody>\n",
       "</table>\n",
       "</div>"
      ],
      "text/plain": [
       "                   dateadded                                  url url_status  \\\n",
       "id                                                                             \n",
       "1957893  2022-01-08 15:29:06   http://182.124.44.227:44927/mozi.m     online   \n",
       "1957892  2022-01-08 15:24:09  http://125.168.147.202:39399/bin.sh     online   \n",
       "1957891  2022-01-08 15:22:07     http://59.96.44.142:36311/Mozi.m     online   \n",
       "1957889  2022-01-08 15:22:06      http://61.52.7.155:49605/Mozi.m     online   \n",
       "1957890  2022-01-08 15:22:06      http://221.15.6.40:58808/Mozi.m     online   \n",
       "\n",
       "        last_online            threat                  tags  \\\n",
       "id                                                            \n",
       "1957893        None  malware_download                  None   \n",
       "1957892        None  malware_download  32-bit,elf,mips,Mozi   \n",
       "1957891        None  malware_download              elf,Mozi   \n",
       "1957889        None  malware_download              elf,Mozi   \n",
       "1957890        None  malware_download              elf,Mozi   \n",
       "\n",
       "                                  urlhaus_link     reporter  \n",
       "id                                                           \n",
       "1957893  https://urlhaus.abuse.ch/url/1957893/      tammeto  \n",
       "1957892  https://urlhaus.abuse.ch/url/1957892/     geenensp  \n",
       "1957891  https://urlhaus.abuse.ch/url/1957891/  lrz_urlhaus  \n",
       "1957889  https://urlhaus.abuse.ch/url/1957889/  lrz_urlhaus  \n",
       "1957890  https://urlhaus.abuse.ch/url/1957890/  lrz_urlhaus  "
      ]
     },
     "execution_count": 4,
     "metadata": {},
     "output_type": "execute_result"
    }
   ],
   "source": [
    "df.head()"
   ]
  },
  {
   "cell_type": "code",
   "execution_count": null,
   "id": "4681d86b-0f72-459b-8d73-d469b15b0044",
   "metadata": {},
   "outputs": [],
   "source": []
  }
 ],
 "metadata": {
  "kernelspec": {
   "display_name": "Python 3",
   "language": "python",
   "name": "python3"
  },
  "language_info": {
   "codemirror_mode": {
    "name": "ipython",
    "version": 3
   },
   "file_extension": ".py",
   "mimetype": "text/x-python",
   "name": "python",
   "nbconvert_exporter": "python",
   "pygments_lexer": "ipython3",
   "version": "3.8.5"
  },
  "widgets": {
   "application/vnd.jupyter.widget-state+json": {
    "state": {},
    "version_major": 2,
    "version_minor": 0
   }
  }
 },
 "nbformat": 4,
 "nbformat_minor": 5
}
