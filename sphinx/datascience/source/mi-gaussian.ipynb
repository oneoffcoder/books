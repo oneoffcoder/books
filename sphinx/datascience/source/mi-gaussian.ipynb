{
 "cells": [
  {
   "cell_type": "markdown",
   "metadata": {},
   "source": [
    "# Mutual Information for Gaussian Variables\n",
    "\n",
    "The mutual information for two continuous variables is defined as follows.\n",
    "\n",
    "$I(X;Y) = \\int_y \\int_x p(x, y) \\log \\cfrac{p(x, y)}{p(x)p(y)}$\n",
    "\n",
    "Computing the mutual information is prohibitive since the number of possible values of $X$ and $Y$ could be very large, and the product of the numbers of possible values is even larger. Here, we will use an approximation to computing the mutual information. First, we will assume that the $X$ and $Y$ are gaussian distributed. Second, we will not exhaustively enumerate all possible combinations of $x \\in X$ and $y \\in Y$. Instead, we will only take equally spaced and an equal number of $x \\in X$ and $y \\in Y$."
   ]
  },
  {
   "cell_type": "markdown",
   "metadata": {},
   "source": [
    "## Simulation\n",
    "\n",
    "Let's simulate data from the following distributions.\n",
    "\n",
    "* $X_1 \\sim \\mathcal{N}(1, 1)$\n",
    "* $X_2 \\sim \\mathcal{N}(1 + 3.5 \\times X_1, 1)$\n",
    "* $X_3 \\sim \\mathcal{N}(8, 3)$\n",
    "\n",
    "Clearly, $I(X_1, X_2)$ should have a higher mutual information than $I(X_1, X_3)$ and $I(X_2, X_3)$."
   ]
  },
  {
   "cell_type": "code",
   "execution_count": 1,
   "metadata": {},
   "outputs": [
    {
     "name": "stdout",
     "output_type": "stream",
     "text": [
      "means\n",
      "[1.01277839 4.52863965 7.96970517]\n",
      "\n",
      "covariance matrix\n",
      "[[ 0.9634615   3.3684017  -0.03385396]\n",
      " [ 3.3684017  12.75506509 -0.27781503]\n",
      " [-0.03385396 -0.27781503  8.73456465]]\n"
     ]
    }
   ],
   "source": [
    "import numpy as np\n",
    "\n",
    "np.random.seed(37)\n",
    "\n",
    "N = 1000\n",
    "\n",
    "x1 = np.random.normal(1, 1, N)\n",
    "x2 = np.random.normal(1 + 3.5 * x1, 1, N)\n",
    "x3 = np.random.normal(8, 3, N)\n",
    "\n",
    "data = np.vstack([x1, x2, x3]).T\n",
    "means = data.mean(axis=0)\n",
    "cov = np.cov(data.T)\n",
    "\n",
    "print('means')\n",
    "print(means)\n",
    "print('')\n",
    "print('covariance matrix')\n",
    "print(cov)"
   ]
  },
  {
   "cell_type": "markdown",
   "metadata": {},
   "source": [
    "Here's the density plots for the 3 variables."
   ]
  },
  {
   "cell_type": "code",
   "execution_count": 2,
   "metadata": {},
   "outputs": [
    {
     "data": {
      "image/png": "[encoded data removed]",
      "text/plain": [
       "<Figure size 720x288 with 1 Axes>"
      ]
     },
     "metadata": {},
     "output_type": "display_data"
    }
   ],
   "source": [
    "%matplotlib inline\n",
    "import matplotlib.pyplot as plt\n",
    "import pandas as pd\n",
    "\n",
    "plt.style.use('ggplot')\n",
    "\n",
    "fig, ax = plt.subplots(figsize=(10, 4))\n",
    "\n",
    "df = pd.DataFrame(data, columns=['x1', 'x2', 'x3'])\n",
    "df.plot.kde(ax=ax)\n",
    "\n",
    "_ = ax.legend()"
   ]
  },
  {
   "cell_type": "markdown",
   "metadata": {},
   "source": [
    "## Probability density functions\n",
    "\n",
    "In order to estimate $I(X_1, X_2)$, $I(X_1, X_3)$ and $I(X_2, X_3)$, we need the following combinations of probability density functions `PDFs`.\n",
    "\n",
    "* $I(X_1, X_2)$ : $p(x_1, x_2)$, $p(x_1)$ and $p(x_2)$\n",
    "* $I(X_1, X_3)$ : $p(x_1, x_3)$, $p(x_1)$ and $p(x_3)$\n",
    "* $I(X_2, X_3)$ : $p(x_2, x_3)$, $p(x_2)$ and $p(x_3)$\n",
    "\n",
    "Note that we model each PDF with a multivariate gaussian distribution. We use `multivariate_normal` from `scipy.stats`, and evaluate each data point simply with the `pdf` function."
   ]
  },
  {
   "cell_type": "code",
   "execution_count": 3,
   "metadata": {},
   "outputs": [],
   "source": [
    "from scipy.stats import multivariate_normal\n",
    "\n",
    "# marginal PDFs\n",
    "d1 = multivariate_normal(means[0], cov[0, 0])\n",
    "d2 = multivariate_normal(means[1], cov[1, 1])\n",
    "d3 = multivariate_normal(means[2], cov[2, 2])\n",
    "\n",
    "# joint PDFs\n",
    "jd12 = multivariate_normal(means[[0, 1]], cov[[0, 1]][:, [0, 1]])\n",
    "jd13 = multivariate_normal(means[[0, 2]], cov[[0, 2]][:, [0, 2]])\n",
    "jd23 = multivariate_normal(means[[1, 2]], cov[[1, 2]][:, [1, 2]])"
   ]
  },
  {
   "cell_type": "markdown",
   "metadata": {},
   "source": [
    "Since there are `infinitely finite` values of $X_1$, $X_2$ and $X_3$, we pick arbitrarily 100 equally spaced points from each of these variable's domains. Thus, when computing the mutual information, we will have $100 \\times 100 = 1000$ pairs of values to evaluate. "
   ]
  },
  {
   "cell_type": "code",
   "execution_count": 4,
   "metadata": {},
   "outputs": [
    {
     "name": "stdout",
     "output_type": "stream",
     "text": [
      "100 100 100\n"
     ]
    }
   ],
   "source": [
    "x1_vals = np.linspace(x1.min(), x1.max(), num=100, endpoint=True)\n",
    "x2_vals = np.linspace(x2.min(), x2.max(), num=100, endpoint=True)\n",
    "x3_vals = np.linspace(x3.min(), x3.max(), num=100, endpoint=True)\n",
    "\n",
    "print(len(x1_vals), len(x2_vals), len(x3_vals))"
   ]
  },
  {
   "cell_type": "markdown",
   "metadata": {},
   "source": [
    "## Estimate mutual information\n",
    "\n",
    "Now that we have a range of values per variable and also the marginal and joint distributions to give us the probabilities, we can compute the mutual information.\n",
    "\n",
    "Here's $I(X_1, X_2)$."
   ]
  },
  {
   "cell_type": "code",
   "execution_count": 5,
   "metadata": {},
   "outputs": [
    {
     "data": {
      "text/plain": [
       "77.21136767734559"
      ]
     },
     "execution_count": 5,
     "metadata": {},
     "output_type": "execute_result"
    }
   ],
   "source": [
    "import itertools\n",
    "\n",
    "triplets = ((jd12.pdf(tup), d1.pdf(tup[0]), d2.pdf(tup[1])) for tup in itertools.product(*[x1_vals, x2_vals]))\n",
    "np.sum([p_xy * (np.log(p_xy) - np.log(p_x) - np.log(p_y)) for p_xy, p_x, p_y in triplets])"
   ]
  },
  {
   "cell_type": "markdown",
   "metadata": {},
   "source": [
    "Here's $I(X_1, X_3)$."
   ]
  },
  {
   "cell_type": "code",
   "execution_count": 6,
   "metadata": {},
   "outputs": [
    {
     "data": {
      "text/plain": [
       "0.005160087840838103"
      ]
     },
     "execution_count": 6,
     "metadata": {},
     "output_type": "execute_result"
    }
   ],
   "source": [
    "triplets = ((jd13.pdf(tup), d1.pdf(tup[0]), d3.pdf(tup[1])) for tup in itertools.product(*[x1_vals, x3_vals]))\n",
    "np.sum([p_xy * (np.log(p_xy) - np.log(p_x) - np.log(p_y)) for p_xy, p_x, p_y in triplets])"
   ]
  },
  {
   "cell_type": "markdown",
   "metadata": {},
   "source": [
    "Here's $I(X_2, X_3)$."
   ]
  },
  {
   "cell_type": "code",
   "execution_count": 7,
   "metadata": {},
   "outputs": [
    {
     "data": {
      "text/plain": [
       "0.006439296428914668"
      ]
     },
     "execution_count": 7,
     "metadata": {},
     "output_type": "execute_result"
    }
   ],
   "source": [
    "triplets = ((jd23.pdf(tup), d2.pdf(tup[0]), d3.pdf(tup[1])) for tup in itertools.product(*[x2_vals, x3_vals]))\n",
    "np.sum([p_xy * (np.log(p_xy) - np.log(p_x) - np.log(p_y)) for p_xy, p_x, p_y in triplets])"
   ]
  },
  {
   "cell_type": "markdown",
   "metadata": {},
   "source": [
    "As expected, $I(X_1, X_2) > I(X_1, X_3)$ and $I(X_1, X_2) > I(X_2, X_3)$."
   ]
  }
 ],
 "metadata": {
  "kernelspec": {
   "display_name": "Python 3",
   "language": "python",
   "name": "python3"
  },
  "language_info": {
   "codemirror_mode": {
    "name": "ipython",
    "version": 3
   },
   "file_extension": ".py",
   "mimetype": "text/x-python",
   "name": "python",
   "nbconvert_exporter": "python",
   "pygments_lexer": "ipython3",
   "version": "3.7.6"
  }
 },
 "nbformat": 4,
 "nbformat_minor": 4
}
