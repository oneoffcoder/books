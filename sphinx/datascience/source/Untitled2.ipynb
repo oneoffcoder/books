{
 "cells": [
  {
   "cell_type": "code",
   "execution_count": 1,
   "id": "6eb04312-7064-454f-b524-0ceec0aa1433",
   "metadata": {},
   "outputs": [
    {
     "data": {
      "text/plain": [
       "(10000, 4)"
      ]
     },
     "execution_count": 1,
     "metadata": {},
     "output_type": "execute_result"
    }
   ],
   "source": [
    "import numpy as np\n",
    "import pandas as pd\n",
    "\n",
    "np.random.seed(37)\n",
    "\n",
    "N = 10_000\n",
    "\n",
    "Xy = pd.DataFrame({'x1': np.random.normal(1, 1, N)}) \\\n",
    "    .assign(x2=lambda d: np.random.normal(1 + 3.5 * d['x1'], 1)) \\\n",
    "    .assign(x3=np.random.normal(2, 1, N)) \\\n",
    "    .assign(x4=lambda d: np.random.normal(3.8 - 2.5 * d['x3'], 1))\n",
    "\n",
    "Xy.shape"
   ]
  },
  {
   "cell_type": "code",
   "execution_count": 2,
   "id": "bbb9a144-c51d-4046-a74c-fa58420a4185",
   "metadata": {},
   "outputs": [],
   "source": [
    "from sklearn.linear_model import Lasso\n",
    "import itertools\n",
    "\n",
    "def coefs2df(coefs):\n",
    "    index = [i for i in coefs.keys()]\n",
    "    data = [coefs[i] for i in index]\n",
    "    return pd.DataFrame(data, index=index)[index]\n",
    "\n",
    "def edges2df(edges):\n",
    "    return pd.DataFrame(edges, columns=['pa', 'ch', 'weight'])\n",
    "\n",
    "def get_coef(X_cols, y_col, Xy):\n",
    "    if X_cols is None or len(X_cols) == 0:\n",
    "        X_cols = Xy.columns.drop([y_col]).tolist()\n",
    "    X = Xy[X_cols]\n",
    "    y = Xy[y_col]\n",
    "    m = Lasso().fit(X, y)\n",
    "    return {x: c for x, c in zip(X_cols, np.abs(m.coef_))}\n",
    "\n",
    "def get_parents(y, coef, delta=1e-3):\n",
    "    def is_parent(k, v):\n",
    "        if v < delta or coef[y][k] < coef[k][y]:\n",
    "            return False\n",
    "        return True\n",
    "    c = coef[y]\n",
    "    return {k: v for k, v in coef[y].items() if is_parent(k, v)}\n",
    "\n",
    "def get_edges(parents):\n",
    "    edges = [[(pa, ch, w) for pa, w in d.items()] for ch, d in parents.items()]\n",
    "    edges = itertools.chain(*edges)\n",
    "    return sorted(list(edges), key=lambda tup: tup[2], reverse=True)\n",
    "\n",
    "def get_cov(L, E):\n",
    "    def get_value(r, c):\n",
    "        if r == c:\n",
    "            return E.iloc[r, c]\n",
    "        if L.iloc[r, c] == 0:\n",
    "            return 0\n",
    "        return E.iloc[r, c]\n",
    "\n",
    "    rows, cols = L.shape\n",
    "    return pd.DataFrame([[get_value(r, c) for c in range(cols)] for r in range(rows)], columns=L.columns, index=L.index)\n",
    "\n",
    "def get_model_params(Xy):\n",
    "    coefs = {c: get_coef([], c, Xy) for c in Xy.columns}\n",
    "    parents = {c: get_parents(c, coefs) for c in Xy.columns}\n",
    "    edges = edges2df(get_edges(parents))\n",
    "\n",
    "    H = Xy.columns.tolist()\n",
    "    M = Xy.mean()\n",
    "    E = get_cov(coefs2df(coefs), Xy.cov())\n",
    "\n",
    "    return H, M, E"
   ]
  },
  {
   "cell_type": "code",
   "execution_count": 3,
   "id": "c215bd77-fbde-4f20-b207-9304a19de9b9",
   "metadata": {},
   "outputs": [],
   "source": [
    "H, M, E = get_model_params(Xy)"
   ]
  },
  {
   "cell_type": "code",
   "execution_count": 4,
   "id": "8247ad43-6385-4dc2-8137-5ff1812ac3f7",
   "metadata": {},
   "outputs": [
    {
     "data": {
      "text/plain": [
       "['x1', 'x2', 'x3', 'x4']"
      ]
     },
     "execution_count": 4,
     "metadata": {},
     "output_type": "execute_result"
    }
   ],
   "source": [
    "H"
   ]
  },
  {
   "cell_type": "code",
   "execution_count": 5,
   "id": "ef3ec917-0afa-416b-8e43-ce8bc642a774",
   "metadata": {},
   "outputs": [
    {
     "data": {
      "text/plain": [
       "x1    1.001723\n",
       "x2    4.496861\n",
       "x3    2.004989\n",
       "x4   -1.223565\n",
       "dtype: float64"
      ]
     },
     "execution_count": 5,
     "metadata": {},
     "output_type": "execute_result"
    }
   ],
   "source": [
    "M"
   ]
  },
  {
   "cell_type": "code",
   "execution_count": 6,
   "id": "22a8421e-3992-46b8-8e17-729daa737b48",
   "metadata": {},
   "outputs": [
    {
     "data": {
      "text/html": [
       "<div>\n",
       "<style scoped>\n",
       "    .dataframe tbody tr th:only-of-type {\n",
       "        vertical-align: middle;\n",
       "    }\n",
       "\n",
       "    .dataframe tbody tr th {\n",
       "        vertical-align: top;\n",
       "    }\n",
       "\n",
       "    .dataframe thead th {\n",
       "        text-align: right;\n",
       "    }\n",
       "</style>\n",
       "<table border=\"1\" class=\"dataframe\">\n",
       "  <thead>\n",
       "    <tr style=\"text-align: right;\">\n",
       "      <th></th>\n",
       "      <th>x1</th>\n",
       "      <th>x2</th>\n",
       "      <th>x3</th>\n",
       "      <th>x4</th>\n",
       "    </tr>\n",
       "  </thead>\n",
       "  <tbody>\n",
       "    <tr>\n",
       "      <th>x1</th>\n",
       "      <td>0.990700</td>\n",
       "      <td>3.475295</td>\n",
       "      <td>0.000000</td>\n",
       "      <td>0.000000</td>\n",
       "    </tr>\n",
       "    <tr>\n",
       "      <th>x2</th>\n",
       "      <td>3.475295</td>\n",
       "      <td>13.201002</td>\n",
       "      <td>0.000000</td>\n",
       "      <td>0.000000</td>\n",
       "    </tr>\n",
       "    <tr>\n",
       "      <th>x3</th>\n",
       "      <td>0.000000</td>\n",
       "      <td>0.000000</td>\n",
       "      <td>0.984534</td>\n",
       "      <td>-2.446672</td>\n",
       "    </tr>\n",
       "    <tr>\n",
       "      <th>x4</th>\n",
       "      <td>0.000000</td>\n",
       "      <td>0.000000</td>\n",
       "      <td>-2.446672</td>\n",
       "      <td>7.094515</td>\n",
       "    </tr>\n",
       "  </tbody>\n",
       "</table>\n",
       "</div>"
      ],
      "text/plain": [
       "          x1         x2        x3        x4\n",
       "x1  0.990700   3.475295  0.000000  0.000000\n",
       "x2  3.475295  13.201002  0.000000  0.000000\n",
       "x3  0.000000   0.000000  0.984534 -2.446672\n",
       "x4  0.000000   0.000000 -2.446672  7.094515"
      ]
     },
     "execution_count": 6,
     "metadata": {},
     "output_type": "execute_result"
    }
   ],
   "source": [
    "E"
   ]
  },
  {
   "cell_type": "code",
   "execution_count": 7,
   "id": "05bd2522-f060-48ee-b6aa-e911bf215f85",
   "metadata": {},
   "outputs": [
    {
     "data": {
      "text/plain": [
       "0.9907002440358973"
      ]
     },
     "execution_count": 7,
     "metadata": {},
     "output_type": "execute_result"
    }
   ],
   "source": [
    "E.values[0,0]"
   ]
  },
  {
   "cell_type": "code",
   "execution_count": 9,
   "id": "2f514626-f827-4e2b-897b-19312c320bc9",
   "metadata": {},
   "outputs": [],
   "source": [
    "m = GaussianInference(H, M, E.values)"
   ]
  },
  {
   "cell_type": "code",
   "execution_count": 10,
   "id": "11b13cf5-7ffb-44eb-aa6e-f92854a3c5b6",
   "metadata": {},
   "outputs": [
    {
     "data": {
      "text/plain": [
       "x1    1.060392\n",
       "x2    4.502321\n",
       "x3    1.989818\n",
       "x4   -1.093466\n",
       "dtype: float64"
      ]
     },
     "execution_count": 10,
     "metadata": {},
     "output_type": "execute_result"
    }
   ],
   "source": [
    "m.sample_marginals().mean()"
   ]
  },
  {
   "cell_type": "code",
   "execution_count": 11,
   "id": "f877ebbd-0581-4ef3-983b-2fef2c7f5e55",
   "metadata": {},
   "outputs": [
    {
     "data": {
      "text/plain": [
       "{'x2': (1, 0),\n",
       " 'x1': (1.9223066923201397, 0.07579451969769568),\n",
       " 'x3': (2.004988556873993, 0.9845336964643419),\n",
       " 'x4': (-1.2235648652888027, 7.094514989457332)}"
      ]
     },
     "execution_count": 11,
     "metadata": {},
     "output_type": "execute_result"
    }
   ],
   "source": [
    "m.do_inference('x2', 1).P"
   ]
  },
  {
   "cell_type": "code",
   "execution_count": 12,
   "id": "d216184b-dfa2-45a6-87f5-35992c93e4f5",
   "metadata": {},
   "outputs": [
    {
     "data": {
      "text/plain": [
       "{'x1': (2, 0),\n",
       " 'x2': (0.9949891657678243, 1.0099559400241862),\n",
       " 'x3': (2.004988556873993, 0.9845336964643419),\n",
       " 'x4': (-1.2235648652888027, 7.094514989457332)}"
      ]
     },
     "execution_count": 12,
     "metadata": {},
     "output_type": "execute_result"
    }
   ],
   "source": [
    "m.do_inference('x1', 2).P"
   ]
  },
  {
   "cell_type": "code",
   "execution_count": 13,
   "id": "ddd1fb9b-ee59-4dc3-b877-3bc2c2387995",
   "metadata": {},
   "outputs": [
    {
     "data": {
      "text/plain": [
       "{'x1': (1, 0),\n",
       " 'x2': (4.502906486242751, 1.0099559400241862),\n",
       " 'x3': (2.004988556873993, 0.9845336964643419),\n",
       " 'x4': (-1.2235648652888027, 7.094514989457332)}"
      ]
     },
     "execution_count": 13,
     "metadata": {},
     "output_type": "execute_result"
    }
   ],
   "source": [
    "m.do_inference('x1', 1).P"
   ]
  },
  {
   "cell_type": "code",
   "execution_count": 14,
   "id": "22951673-fcbf-472c-8dd5-f3e266148f3f",
   "metadata": {},
   "outputs": [
    {
     "data": {
      "text/plain": [
       "{'x1': (1, 0),\n",
       " 'x3': (1, 0),\n",
       " 'x2': (4.502906486242751, 1.0099559400241862),\n",
       " 'x4': (-3.7210697421092043, 1.0142705232317635)}"
      ]
     },
     "execution_count": 14,
     "metadata": {},
     "output_type": "execute_result"
    }
   ],
   "source": [
    "m.do_inferences([('x1', 1), ('x3', 1)]).P"
   ]
  },
  {
   "cell_type": "code",
   "execution_count": null,
   "id": "9191b688-f71d-4126-8883-79617ed22456",
   "metadata": {},
   "outputs": [],
   "source": []
  },
  {
   "cell_type": "code",
   "execution_count": 8,
   "id": "60de4fae-d12f-45a8-9f0e-49c6039733d6",
   "metadata": {},
   "outputs": [],
   "source": [
    "class GaussianInference(object):\n",
    "    \"\"\"\n",
    "    Gaussian inference.\n",
    "    \"\"\"\n",
    "\n",
    "    def __init__(self, H, M, E, meta={}):\n",
    "        \"\"\"\n",
    "        ctor.\n",
    "\n",
    "        :param H: Headers.\n",
    "        :param M: Means.\n",
    "        :param E: Covariance matrix.\n",
    "        :param meta: Dictionary storing observations.\n",
    "        \"\"\"\n",
    "        self.H = H\n",
    "        self.M = M\n",
    "        self.E = E\n",
    "        self.I = {h: i for i, h in enumerate(H)}\n",
    "        self.meta = meta\n",
    "\n",
    "    @property\n",
    "    def marginals(self):\n",
    "        \"\"\"\n",
    "        Gets the marginals.\n",
    "\n",
    "        :return: List of dictionary. Each element has name, mean and variance.\n",
    "        \"\"\"\n",
    "        return [{'name': name, 'mean': mean, 'var': var}\n",
    "                for name, (mean, var) in self.P.items()]\n",
    "\n",
    "    @property\n",
    "    def P(self):\n",
    "        \"\"\"\n",
    "        Gets the univariate parameters of each variable.\n",
    "\n",
    "        :return: Dictionary. Keys are variable names. Values are tuples of (mean, variance).\n",
    "        \"\"\"\n",
    "        params = {k: (v, 0) for k, v in self.meta.items()}\n",
    "        for i, (k, v) in enumerate(zip(self.H, self.M)):\n",
    "            params[k] = (v, self.E[i][i])\n",
    "        return params\n",
    "\n",
    "    def sample_marginals(self, size=1000):\n",
    "        \"\"\"\n",
    "        Samples data from the marginals.\n",
    "\n",
    "        :param size: Number of samples.\n",
    "        :return: Dictionary with keys as names and values as pandas series (sampled data).\n",
    "        \"\"\"\n",
    "\n",
    "        def get_samples(m, v):\n",
    "            if v == 0.0:\n",
    "                s = 0.01\n",
    "            else:\n",
    "                s = np.sqrt(v)\n",
    "            return pd.Series(np.random.normal(m, s, size=size))\n",
    "\n",
    "        return pd.DataFrame({m['name']: get_samples(m['mean'], m['var']) for m in self.marginals})\n",
    "\n",
    "    def do_inference(self, name, observation):\n",
    "        \"\"\"\n",
    "        Performs inference. Simply calls the `do_inferences` method.\n",
    "\n",
    "        :param name: Name of variable.\n",
    "        :param observation: Observation value.\n",
    "        :return: GaussianInference.\n",
    "        \"\"\"\n",
    "        return self.do_inferences([(name, observation)])\n",
    "\n",
    "    def do_inferences(self, observations):\n",
    "        \"\"\"\n",
    "        Performs inference.\n",
    "\n",
    "        Denote the following.\n",
    "\n",
    "        - :math:`z` as the variable observed\n",
    "        - :math:`y` as the set of other variables\n",
    "        - :math:`\\\\mu` as the vector of means\n",
    "            - :math:`\\\\mu_z` as the partitioned :math:`\\\\mu`` of length :math:`|z|`\n",
    "            - :math:`\\\\mu_y` as the partitioned :math:`\\\\mu`` of length :math:`|y|`\n",
    "        - :math:`\\\\Sigma` as the covariance matrix\n",
    "            - :math:`\\\\Sigma_{yz}` as the partitioned :math:`\\\\Sigma` of :math:`|y|` rows and :math:`|z|` columns\n",
    "            - :math:`\\\\Sigma_{zz}` as the partitioned :math:`\\\\Sigma` of :math:`|z|` rows and :math:`|z|` columns\n",
    "            - :math:`\\\\Sigma_{yy}` as the partitioned :math:`\\\\Sigma` of :math:`|y|` rows and :math:`|y|` columns\n",
    "\n",
    "        If we observe evidence :math:`z_e`, then the new means :math:`\\\\mu_y^{*}` and\n",
    "        covariance matrix :math:`\\\\Sigma_y^{*}` corresponding to :math:`y`\n",
    "        are computed as follows.\n",
    "\n",
    "        - :math:`\\\\mu_y^{*} = \\\\mu_y - \\\\Sigma_{yz} \\\\Sigma_{zz} (z_e - \\\\mu_z)`\n",
    "        - :math:`\\\\Sigma_y^{*} = \\\\Sigma_{yy} \\\\Sigma_{zz} \\\\Sigma_{yz}^{T}`\n",
    "\n",
    "        :param observations: List of observation. Each observation is tuple (name, value).\n",
    "        :return: GaussianInference.\n",
    "        \"\"\"\n",
    "        z_index = [self.I[name] for name, _ in observations]\n",
    "        y_index = [i for i in range(self.E.shape[1]) if i not in z_index]\n",
    "\n",
    "        m_Z = np.array([m for i, m in enumerate(self.M) if i in z_index])\n",
    "        m_Y = np.array([m for i, m in enumerate(self.M) if i in y_index])\n",
    "\n",
    "        z = np.array([o for _, o in observations])\n",
    "\n",
    "        S_YZ = self.E[y_index][:, z_index]\n",
    "        S_ZZ = np.linalg.inv(self.E[z_index][:, z_index])\n",
    "        S_YY = self.E[y_index][:, y_index]\n",
    "\n",
    "        H = [name for i, name in enumerate(self.H) if i in y_index]\n",
    "        M = m_Y - S_YZ.dot(S_ZZ).dot(z - m_Z)\n",
    "        E = S_YY - S_YZ.dot(S_ZZ).dot(S_YZ.T)\n",
    "        meta = {**self.meta, **{n: o for n, o in observations}}\n",
    "\n",
    "        return GaussianInference(H, M, E, meta)"
   ]
  },
  {
   "cell_type": "code",
   "execution_count": null,
   "id": "639efb71-283a-41ca-9f2d-e0a11f214ba2",
   "metadata": {},
   "outputs": [],
   "source": []
  }
 ],
 "metadata": {
  "kernelspec": {
   "display_name": "Python 3 (ipykernel)",
   "language": "python",
   "name": "python3"
  },
  "language_info": {
   "codemirror_mode": {
    "name": "ipython",
    "version": 3
   },
   "file_extension": ".py",
   "mimetype": "text/x-python",
   "name": "python",
   "nbconvert_exporter": "python",
   "pygments_lexer": "ipython3",
   "version": "3.11.7"
  },
  "widgets": {
   "application/vnd.jupyter.widget-state+json": {
    "state": {},
    "version_major": 2,
    "version_minor": 0
   }
  }
 },
 "nbformat": 4,
 "nbformat_minor": 5
}
