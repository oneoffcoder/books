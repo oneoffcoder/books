{
 "cells": [
  {
   "cell_type": "markdown",
   "metadata": {},
   "source": [
    "# Partial Correlation\n",
    "\n",
    "The purpose of this notebook is to understand how to compute the [partial correlation](https://en.wikipedia.org/wiki/Partial_correlation) between two variables, $X$ and $Y$, given a third $Z$. In particular, these variables are assumed to be guassians (or, in general, multivariate gaussians). \n",
    "\n",
    "Why is it important to estimate partial correlations? The primary reason for estimating a partial correlation is to use it to detect for [confounding](https://en.wikipedia.org/wiki/Confounding_variable) variables during causal analysis. \n",
    "\n",
    "## Simulation\n",
    "\n",
    "Let's start out by simulating 3 data sets. Graphically, these data sets comes from graphs represented by the following.\n",
    "\n",
    "* serial: X -> Z -> Y\n",
    "* diverging: X <- Z -> Y\n",
    "* converging: X -> Z <- Y\n",
    "\n",
    "In the serial graph, X causes Z and Z causes Y. In the diverging graph, Z causes both X and Y. In the converging graph, X and Y cause Z. Below, the serial, diverging, and converging data sets are named S, D, and C, correspondingly.\n",
    "\n",
    "Note that in the serial graph, the data is sampled as follows.\n",
    "\n",
    "* $X \\sim \\mathcal{N}(0, 1)$\n",
    "* $Z \\sim 2 + 1.8 \\times X$\n",
    "* $Y \\sim 5 + 2.7 \\times Z$\n",
    "\n",
    "In the diverging graph, the data is sampled as follows.\n",
    "\n",
    "* $Z \\sim \\mathcal{N}(0, 1)$\n",
    "* $X \\sim 4.3 + 3.3 \\times Z$\n",
    "* $Y \\sim 5.0 + 2.7 \\times Z$\n",
    "\n",
    "Lastly, in the converging graph, the data is sampled as follows.\n",
    "\n",
    "* $X \\sim \\mathcal{N}(0, 1)$\n",
    "* $Y \\sim \\mathcal{N}(5.5, 1)$\n",
    "* $Z \\sim 2.0 + 0.8 \\times X + 1.2 \\times Y$\n",
    "\n",
    "Note the ordering of the sampling with the variables follows the structure of the corresponding graph."
   ]
  },
  {
   "cell_type": "code",
   "execution_count": 1,
   "metadata": {
    "ExecuteTime": {
     "end_time": "2019-07-29T19:58:12.926507Z",
     "start_time": "2019-07-29T19:58:12.829005Z"
    }
   },
   "outputs": [],
   "source": [
    "import numpy as np\n",
    "\n",
    "np.random.seed(37)\n",
    "\n",
    "def get_error(N=10000, mu=0.0, std=0.2):\n",
    "    return np.random.normal(mu, std, N)\n",
    "\n",
    "def to_matrix(X, Z, Y):\n",
    "    return np.concatenate([\n",
    "        X.reshape(-1, 1), \n",
    "        Z.reshape(-1, 1), \n",
    "        Y.reshape(-1, 1)], axis=1)\n",
    "\n",
    "def get_serial(N=10000, e_mu=0.0, e_std=0.2):\n",
    "    X = np.random.normal(0, 1, N) + get_error(N, e_mu, e_std)\n",
    "    Z = 2 + 1.8 * X + get_error(N, e_mu, e_std)\n",
    "    Y = 5 + 2.7 * Z + get_error(N, e_mu, e_std)\n",
    "\n",
    "    return to_matrix(X, Z, Y)\n",
    "\n",
    "def get_diverging(N=10000, e_mu=0.0, e_std=0.2):\n",
    "    Z = np.random.normal(0, 1, N) + get_error(N, e_mu, e_std)\n",
    "    X = 4.3 + 3.3 * Z + get_error(N, e_mu, e_std)\n",
    "    Y = 5 + 2.7 * Z + get_error(N, e_mu, e_std)\n",
    "\n",
    "    return to_matrix(X, Z, Y)\n",
    "\n",
    "def get_converging(N=10000, e_mu=0.0, e_std=0.2):\n",
    "    X = np.random.normal(0, 1, N) + get_error(N, e_mu, e_std)\n",
    "    Y = np.random.normal(5.5, 1, N) + get_error(N, e_mu, e_std)\n",
    "    Z = 2 + 0.8 * X + 1.2 * Y + get_error(N, e_mu, e_std)\n",
    "    \n",
    "    return to_matrix(X, Z, Y)"
   ]
  },
  {
   "cell_type": "code",
   "execution_count": 2,
   "metadata": {
    "ExecuteTime": {
     "end_time": "2019-07-29T19:58:12.938855Z",
     "start_time": "2019-07-29T19:58:12.929163Z"
    }
   },
   "outputs": [],
   "source": [
    "S = get_serial()\n",
    "D = get_diverging()\n",
    "C = get_converging()"
   ]
  },
  {
   "cell_type": "markdown",
   "metadata": {},
   "source": [
    "## Computation\n",
    "\n",
    "For the three datasets, S, D, and C, we want to compute the partial correlation between $X$ and $Y$ given $Z$. The way to do this is as follows.\n",
    "\n",
    "* Regress $X$ on $Z$ and also $Y$ on $Z$\n",
    "  * $X = b_X + w_X * Z$\n",
    "  * $Y = b_Y + w_Y * Z$\n",
    "* With the new weights $(b_X, w_X)$ and $(b_Y, w_Y)$, predict $X$ and $Y$.\n",
    "  * $\\hat{X} = b_X + w_X * Z$\n",
    "  * $\\hat{Y} = b_Y + w_Y * Z$\n",
    "* Now compute the residuals between the true and predicted values.\n",
    "  * $R_X = X - \\hat{X}$\n",
    "  * $R_Y = Y - \\hat{Y}$\n",
    "* Finally, compute the Pearson correlation between $R_X$ and $R_Y$.\n",
    "\n",
    "The correlation between the residuals is the partial correlation and runs from -1 to +1. More interesting is the test of significance. If $p > \\alpha$, where $\\alpha \\in [0.1, 0.05, 0.01]$, then assume independence. For example, assume $\\alpha = 0.01$ and $p = 0.002$, then $X$ is conditionally independent of $Y$ given $Z$."
   ]
  },
  {
   "cell_type": "code",
   "execution_count": 3,
   "metadata": {
    "ExecuteTime": {
     "end_time": "2019-07-29T19:58:13.291592Z",
     "start_time": "2019-07-29T19:58:12.940910Z"
    }
   },
   "outputs": [],
   "source": [
    "from sklearn.linear_model import LinearRegression\n",
    "from sklearn.metrics import r2_score\n",
    "from scipy.stats import pearsonr\n",
    "from scipy import stats\n",
    "\n",
    "def get_cond_indep_test(c_xy_z, N=10000, alpha=0.01):\n",
    "    point = stats.norm.ppf(1 - (alpha / 2.0))\n",
    "    z_transform = np.sqrt(N - 3) * np.abs(0.5 * np.log((1 + c_xy_z) / (1 - c_xy_z)))\n",
    "    return z_transform, point, z_transform > point\n",
    "\n",
    "def get_partial_corr(M):\n",
    "    X = M[:, 0]\n",
    "    Z = M[:, 1].reshape(-1, 1)\n",
    "    Y = M[:, 2]\n",
    "\n",
    "    mXZ = LinearRegression()\n",
    "    mXZ.fit(Z, X)\n",
    "    pXZ = mXZ.predict(Z)\n",
    "    rXZ = X - pXZ\n",
    "\n",
    "    mYZ = LinearRegression()\n",
    "    mYZ.fit(Z, Y)\n",
    "    pYZ = mYZ.predict(Z)\n",
    "    rYZ = Y - pYZ\n",
    "\n",
    "    c_xy, p_xy = pearsonr(X, Y)\n",
    "    c_xy_z, p_xy_z = pearsonr(rXZ, rYZ)\n",
    "\n",
    "    return c_xy, p_xy, c_xy_z, p_xy_z"
   ]
  },
  {
   "cell_type": "markdown",
   "metadata": {},
   "source": [
    "## Serial graph data\n",
    "\n",
    "For X -> Z -> Y, note that the marginal correlation is high (0.99) and the correlation is significant (p < 0.01). However, the correlation between X and Y vanishes given Z to -0.01 (p > 0.01). Note the conditional independence test fails to reject the null hypothesis."
   ]
  },
  {
   "cell_type": "code",
   "execution_count": 4,
   "metadata": {
    "ExecuteTime": {
     "end_time": "2019-07-29T19:58:13.441219Z",
     "start_time": "2019-07-29T19:58:13.293198Z"
    }
   },
   "outputs": [
    {
     "name": "stdout",
     "output_type": "stream",
     "text": [
      "corr_xy=0.99331, p_xy=0.00000, corr_xy_z=-0.01493, p_xy_z=0.13543\n",
      "(1.4930316470699307, 2.5758293035489004, False)\n"
     ]
    }
   ],
   "source": [
    "c_xy, p_xy, c_xy_z, p_xy_z = get_partial_corr(S)\n",
    "print('corr_xy={:.5f}, p_xy={:.5f}, corr_xy_z={:.5f}, p_xy_z={:.5f}'\n",
    "      .format(c_xy, p_xy, c_xy_z, p_xy_z))\n",
    "print(get_cond_indep_test(c_xy_z))"
   ]
  },
  {
   "cell_type": "markdown",
   "metadata": {},
   "source": [
    "## Diverging graph data\n",
    "\n",
    "For X <- Z -> Y, note that the marginal correlation is high (0.99) and the correlation is significant (p < 0.01). However, the correlation between X and Y vanishes given Z to 0.01 (p > 0.01). Note the conditional independence test fails to reject the null hypothesis."
   ]
  },
  {
   "cell_type": "code",
   "execution_count": 5,
   "metadata": {
    "ExecuteTime": {
     "end_time": "2019-07-29T19:58:13.449824Z",
     "start_time": "2019-07-29T19:58:13.443213Z"
    }
   },
   "outputs": [
    {
     "name": "stdout",
     "output_type": "stream",
     "text": [
      "corr_xy=0.99575, p_xy=0.00000, corr_xy_z=0.01155, p_xy_z=0.24815\n",
      "(1.1548311182263977, 2.5758293035489004, False)\n"
     ]
    }
   ],
   "source": [
    "c_xy, p_xy, c_xy_z, p_xy_z = get_partial_corr(D)\n",
    "print('corr_xy={:.5f}, p_xy={:.5f}, corr_xy_z={:.5f}, p_xy_z={:.5f}'\n",
    "      .format(c_xy, p_xy, c_xy_z, p_xy_z))\n",
    "print(get_cond_indep_test(c_xy_z))"
   ]
  },
  {
   "cell_type": "markdown",
   "metadata": {},
   "source": [
    "## Converging graph data\n",
    "\n",
    "For X -> Z <- Y, note that the correlation is low (-0.00) and the correlation is insignficiant (p > 0.01). However, the correlation between X and Y increases to -0.96  and becomes significant (p < 0.01)! Note the conditional independence test rejects the null hypothesis."
   ]
  },
  {
   "cell_type": "code",
   "execution_count": 6,
   "metadata": {
    "ExecuteTime": {
     "end_time": "2019-07-29T19:58:13.460570Z",
     "start_time": "2019-07-29T19:58:13.451827Z"
    }
   },
   "outputs": [
    {
     "name": "stdout",
     "output_type": "stream",
     "text": [
      "corr_xy=-0.00269, p_xy=0.78774, corr_xy_z=-0.95791, p_xy_z=0.00000\n",
      "(191.9601051372688, 2.5758293035489004, True)\n"
     ]
    }
   ],
   "source": [
    "c_xy, p_xy, c_xy_z, p_xy_z = get_partial_corr(C)\n",
    "print('corr_xy={:.5f}, p_xy={:.5f}, corr_xy_z={:.5f}, p_xy_z={:.5f}'\n",
    "      .format(c_xy, p_xy, c_xy_z, p_xy_z))\n",
    "print(get_cond_indep_test(c_xy_z))"
   ]
  }
 ],
 "metadata": {
  "kernelspec": {
   "display_name": "Python 3",
   "language": "python",
   "name": "python3"
  },
  "language_info": {
   "codemirror_mode": {
    "name": "ipython",
    "version": 3
   },
   "file_extension": ".py",
   "mimetype": "text/x-python",
   "name": "python",
   "nbconvert_exporter": "python",
   "pygments_lexer": "ipython3",
   "version": "3.7.3"
  },
  "toc": {
   "nav_menu": {},
   "number_sections": true,
   "sideBar": true,
   "skip_h1_title": false,
   "title_cell": "Table of Contents",
   "title_sidebar": "Contents",
   "toc_cell": false,
   "toc_position": {},
   "toc_section_display": true,
   "toc_window_display": false
  },
  "varInspector": {
   "cols": {
    "lenName": 16,
    "lenType": 16,
    "lenVar": 40
   },
   "kernels_config": {
    "python": {
     "delete_cmd_postfix": "",
     "delete_cmd_prefix": "del ",
     "library": "var_list.py",
     "varRefreshCmd": "print(var_dic_list())"
    },
    "r": {
     "delete_cmd_postfix": ") ",
     "delete_cmd_prefix": "rm(",
     "library": "var_list.r",
     "varRefreshCmd": "cat(var_dic_list()) "
    }
   },
   "types_to_exclude": [
    "module",
    "function",
    "builtin_function_or_method",
    "instance",
    "_Feature"
   ],
   "window_display": false
  }
 },
 "nbformat": 4,
 "nbformat_minor": 4
}
