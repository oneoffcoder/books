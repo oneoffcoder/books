{
 "cells": [
  {
   "cell_type": "markdown",
   "id": "9856627e-4799-433e-b3df-618e7cd1c9f7",
   "metadata": {},
   "source": [
    "# Linear Mixed-Effect Regression\n",
    "\n",
    "[Linear Mixed-Effect Regression](https://en.wikipedia.org/wiki/Mixed_model) (LMER) take on the following functional form,\n",
    "\n",
    "$y = X \\beta + Z u + \\epsilon$, \n",
    "\n",
    "where\n",
    "\n",
    "- $y$ is the dependent variable\n",
    "- $X$ is the design matrix for fixed effects (variables that have a constant effect on $y$ regardless of groups),\n",
    "- $Z$ is the design matrix for random effects (variables that have different effects on $y$ across groups),\n",
    "- $\\beta$ is a vector of the coefficients for the fixed effects corresponding to $X$,\n",
    "- $u$ is a vector of the coefficients for the random effects corresponding to $Z$, and\n",
    "- $\\epsilon$ is the random error.\n",
    "\n",
    "LMER models are typically used to model data that can be grouped. For example, if you have a dataset of elementary students, they can be grouped into classrooms. The data being able to be grouped implies that the units (eg students) are related. Since the units are related, normal regression, like ordinary least-squares (OLS), may be inappropriate when they assume that units are independently and identically distributed (IID). Let's take a look at LMER modeling."
   ]
  },
  {
   "cell_type": "markdown",
   "id": "85e1370c-978d-4899-9789-07c1b1d95b4c",
   "metadata": {},
   "source": [
    "## Load data\n",
    "\n",
    "The data and code below is taken from this [post](https://www.pythonfordatascience.org/mixed-effects-regression-python/) and [were part of a study]((https://search.r-project.org/CRAN/refmans/WWGbook/html/ratpup.html)) in which 30 female rats were randomly assigned to receive one of three doses (High, Low, or Control) of an experimental compound and the weights of their pups were measured as the effect of the chemical compound. The lowest unit of analysis is at the pup level, and these pups are further grouped into litters. We have the following variables.\n",
    "\n",
    "- $y$ = weight\n",
    "- $X$ = {sex, litsize, treatment}\n",
    "- $Z$ = litter"
   ]
  },
  {
   "cell_type": "code",
   "execution_count": 1,
   "id": "f14779e1-3ccf-4c05-8925-6e0278771e4b",
   "metadata": {
    "tags": []
   },
   "outputs": [
    {
     "data": {
      "text/plain": [
       "(322, 5)"
      ]
     },
     "execution_count": 1,
     "metadata": {},
     "output_type": "execute_result"
    }
   ],
   "source": [
    "import pandas as pd\n",
    "\n",
    "df = pd.read_csv('http://www-personal.umich.edu/~bwest/rat_pup.dat', sep='\\t') \\\n",
    "    .set_index(['pup_id'])\n",
    "df.shape"
   ]
  },
  {
   "cell_type": "code",
   "execution_count": 2,
   "id": "b53c34c5-7cf9-4b0f-8afa-0d47e9b1efff",
   "metadata": {
    "tags": []
   },
   "outputs": [
    {
     "data": {
      "text/plain": [
       "weight       float64\n",
       "sex           object\n",
       "litter         int64\n",
       "litsize        int64\n",
       "treatment     object\n",
       "dtype: object"
      ]
     },
     "execution_count": 2,
     "metadata": {},
     "output_type": "execute_result"
    }
   ],
   "source": [
    "df.dtypes"
   ]
  },
  {
   "cell_type": "code",
   "execution_count": 3,
   "id": "41ad19c3-79aa-4661-82c6-84ef9af15a69",
   "metadata": {
    "tags": []
   },
   "outputs": [
    {
     "name": "stdout",
     "output_type": "stream",
     "text": [
      "<class 'pandas.core.frame.DataFrame'>\n",
      "Int64Index: 322 entries, 1 to 322\n",
      "Data columns (total 5 columns):\n",
      " #   Column     Non-Null Count  Dtype  \n",
      "---  ------     --------------  -----  \n",
      " 0   weight     322 non-null    float64\n",
      " 1   sex        322 non-null    object \n",
      " 2   litter     322 non-null    int64  \n",
      " 3   litsize    322 non-null    int64  \n",
      " 4   treatment  322 non-null    object \n",
      "dtypes: float64(1), int64(2), object(2)\n",
      "memory usage: 15.1+ KB\n"
     ]
    }
   ],
   "source": [
    "df.info()"
   ]
  },
  {
   "cell_type": "code",
   "execution_count": 4,
   "id": "dfecb892-6b5a-4424-858b-037e9f644efd",
   "metadata": {
    "tags": []
   },
   "outputs": [
    {
     "data": {
      "text/plain": [
       "weight       0\n",
       "sex          0\n",
       "litter       0\n",
       "litsize      0\n",
       "treatment    0\n",
       "dtype: int64"
      ]
     },
     "execution_count": 4,
     "metadata": {},
     "output_type": "execute_result"
    }
   ],
   "source": [
    "df.isna().sum()"
   ]
  },
  {
   "cell_type": "code",
   "execution_count": 5,
   "id": "a7f7015d-e65a-47a4-990d-d4c8863334f4",
   "metadata": {
    "tags": []
   },
   "outputs": [
    {
     "data": {
      "text/html": [
       "<div>\n",
       "<style scoped>\n",
       "    .dataframe tbody tr th:only-of-type {\n",
       "        vertical-align: middle;\n",
       "    }\n",
       "\n",
       "    .dataframe tbody tr th {\n",
       "        vertical-align: top;\n",
       "    }\n",
       "\n",
       "    .dataframe thead th {\n",
       "        text-align: right;\n",
       "    }\n",
       "</style>\n",
       "<table border=\"1\" class=\"dataframe\">\n",
       "  <thead>\n",
       "    <tr style=\"text-align: right;\">\n",
       "      <th></th>\n",
       "      <th>weight</th>\n",
       "      <th>sex</th>\n",
       "      <th>litter</th>\n",
       "      <th>litsize</th>\n",
       "      <th>treatment</th>\n",
       "    </tr>\n",
       "    <tr>\n",
       "      <th>pup_id</th>\n",
       "      <th></th>\n",
       "      <th></th>\n",
       "      <th></th>\n",
       "      <th></th>\n",
       "      <th></th>\n",
       "    </tr>\n",
       "  </thead>\n",
       "  <tbody>\n",
       "    <tr>\n",
       "      <th>1</th>\n",
       "      <td>6.60</td>\n",
       "      <td>Male</td>\n",
       "      <td>1</td>\n",
       "      <td>12</td>\n",
       "      <td>Control</td>\n",
       "    </tr>\n",
       "    <tr>\n",
       "      <th>2</th>\n",
       "      <td>7.40</td>\n",
       "      <td>Male</td>\n",
       "      <td>1</td>\n",
       "      <td>12</td>\n",
       "      <td>Control</td>\n",
       "    </tr>\n",
       "    <tr>\n",
       "      <th>3</th>\n",
       "      <td>7.15</td>\n",
       "      <td>Male</td>\n",
       "      <td>1</td>\n",
       "      <td>12</td>\n",
       "      <td>Control</td>\n",
       "    </tr>\n",
       "    <tr>\n",
       "      <th>4</th>\n",
       "      <td>7.24</td>\n",
       "      <td>Male</td>\n",
       "      <td>1</td>\n",
       "      <td>12</td>\n",
       "      <td>Control</td>\n",
       "    </tr>\n",
       "    <tr>\n",
       "      <th>5</th>\n",
       "      <td>7.10</td>\n",
       "      <td>Male</td>\n",
       "      <td>1</td>\n",
       "      <td>12</td>\n",
       "      <td>Control</td>\n",
       "    </tr>\n",
       "  </tbody>\n",
       "</table>\n",
       "</div>"
      ],
      "text/plain": [
       "        weight   sex  litter  litsize treatment\n",
       "pup_id                                         \n",
       "1         6.60  Male       1       12   Control\n",
       "2         7.40  Male       1       12   Control\n",
       "3         7.15  Male       1       12   Control\n",
       "4         7.24  Male       1       12   Control\n",
       "5         7.10  Male       1       12   Control"
      ]
     },
     "execution_count": 5,
     "metadata": {},
     "output_type": "execute_result"
    }
   ],
   "source": [
    "df.head()"
   ]
  },
  {
   "cell_type": "markdown",
   "id": "fb82f5d2-3fd3-476c-b3da-3766510edcbb",
   "metadata": {},
   "source": [
    "## Visualize features\n",
    "\n",
    "Now let's pick some visualization to summarize each variable.\n",
    "\n",
    "- The median weight is 6.\n",
    "- There are more males (53%) than females (47%).\n",
    "- There is imbalance across the litters.\n",
    "- About 41% of the rat pups came from mothers that were not treated, followed by 39% whose mothers were treated with a low dose and 20% whose mothers were treated with a high dose."
   ]
  },
  {
   "cell_type": "code",
   "execution_count": 6,
   "id": "47f8fd52-aee3-42da-a481-218392edadb5",
   "metadata": {
    "tags": []
   },
   "outputs": [
    {
     "data": {
      "image/png": "[encoded data removed]",
      "text/plain": [
       "<Figure size 800x500 with 4 Axes>"
      ]
     },
     "metadata": {},
     "output_type": "display_data"
    }
   ],
   "source": [
    "import matplotlib.pyplot as plt\n",
    "import numpy as np\n",
    "\n",
    "fig, ax = plt.subplots(2, 2, figsize=(8, 5))\n",
    "ax = np.ravel(ax)\n",
    "\n",
    "df['weight'].plot(kind='box', ax=ax[0])\n",
    "df['sex'].value_counts().sort_index().plot(kind='pie', autopct='%1.1f%%', ax=ax[1])\n",
    "df['litter'].value_counts().sort_index().plot(kind='bar', ax=ax[2])\n",
    "df['treatment'].value_counts().sort_index().plot(kind='pie', autopct='%1.1f%%', ax=ax[3])\n",
    "\n",
    "ax[0].set_title('weight')\n",
    "ax[1].set_title('sex')\n",
    "ax[2].set_title('litter')\n",
    "ax[3].set_title('treatment')\n",
    "ax[1].set_ylabel('')\n",
    "ax[3].set_ylabel('')\n",
    "\n",
    "fig.tight_layout()"
   ]
  },
  {
   "cell_type": "markdown",
   "id": "98763a1f-3372-476e-8844-c1ade9beea8a",
   "metadata": {},
   "source": [
    "## Visualize weights by treatment and sex\n",
    "\n",
    "We can see that the median weight for both males and females trend from high to low as we move from the control to low to high-treatment groups."
   ]
  },
  {
   "cell_type": "code",
   "execution_count": 7,
   "id": "a639e6df-8c3c-45f1-8951-b42312b143fa",
   "metadata": {
    "tags": []
   },
   "outputs": [
    {
     "data": {
      "image/png": "[encoded data removed]",
      "text/plain": [
       "<Figure size 600x350 with 1 Axes>"
      ]
     },
     "metadata": {},
     "output_type": "display_data"
    }
   ],
   "source": [
    "import seaborn as sns\n",
    "\n",
    "fig, ax = plt.subplots(figsize=(6, 3.5))\n",
    "\n",
    "sns.boxplot(data=df, x='treatment', y='weight', hue='sex', ax=ax)\n",
    "\n",
    "ax.set_title('Distribution of weight by treatment and sex')\n",
    "ax.legend(loc='center left', bbox_to_anchor=(1, 0.5))\n",
    "\n",
    "fig.tight_layout()"
   ]
  },
  {
   "cell_type": "markdown",
   "id": "adf00e7c-2714-44f3-8e02-3223e8257560",
   "metadata": {},
   "source": [
    "## Linear model\n",
    "\n",
    "Let's use a simple linear model for the data.\n",
    "\n",
    "$y = X \\beta + \\epsilon$"
   ]
  },
  {
   "cell_type": "code",
   "execution_count": 8,
   "id": "597baa28-2205-4e2b-9891-17f4f911bc8a",
   "metadata": {
    "tags": []
   },
   "outputs": [
    {
     "data": {
      "text/html": [
       "<table class=\"simpletable\">\n",
       "<caption>OLS Regression Results</caption>\n",
       "<tr>\n",
       "  <th>Dep. Variable:</th>         <td>weight</td>      <th>  R-squared:         </th> <td>   0.409</td>\n",
       "</tr>\n",
       "<tr>\n",
       "  <th>Model:</th>                   <td>OLS</td>       <th>  Adj. R-squared:    </th> <td>   0.401</td>\n",
       "</tr>\n",
       "<tr>\n",
       "  <th>Method:</th>             <td>Least Squares</td>  <th>  F-statistic:       </th> <td>   54.76</td>\n",
       "</tr>\n",
       "<tr>\n",
       "  <th>Date:</th>             <td>Fri, 18 Aug 2023</td> <th>  Prob (F-statistic):</th> <td>4.56e-35</td>\n",
       "</tr>\n",
       "<tr>\n",
       "  <th>Time:</th>                 <td>09:45:07</td>     <th>  Log-Likelihood:    </th> <td> -231.84</td>\n",
       "</tr>\n",
       "<tr>\n",
       "  <th>No. Observations:</th>      <td>   322</td>      <th>  AIC:               </th> <td>   473.7</td>\n",
       "</tr>\n",
       "<tr>\n",
       "  <th>Df Residuals:</th>          <td>   317</td>      <th>  BIC:               </th> <td>   492.5</td>\n",
       "</tr>\n",
       "<tr>\n",
       "  <th>Df Model:</th>              <td>     4</td>      <th>                     </th>     <td> </td>   \n",
       "</tr>\n",
       "<tr>\n",
       "  <th>Covariance Type:</th>      <td>nonrobust</td>    <th>                     </th>     <td> </td>   \n",
       "</tr>\n",
       "</table>\n",
       "<table class=\"simpletable\">\n",
       "<tr>\n",
       "                   <td></td>                      <th>coef</th>     <th>std err</th>      <th>t</th>      <th>P>|t|</th>  <th>[0.025</th>    <th>0.975]</th>  \n",
       "</tr>\n",
       "<tr>\n",
       "  <th>Intercept</th>                           <td>    8.2240</td> <td>    0.156</td> <td>   52.864</td> <td> 0.000</td> <td>    7.918</td> <td>    8.530</td>\n",
       "</tr>\n",
       "<tr>\n",
       "  <th>C(treatment)[T.High]</th>                <td>   -0.9062</td> <td>    0.086</td> <td>  -10.554</td> <td> 0.000</td> <td>   -1.075</td> <td>   -0.737</td>\n",
       "</tr>\n",
       "<tr>\n",
       "  <th>C(treatment)[T.Low]</th>                 <td>   -0.4250</td> <td>    0.063</td> <td>   -6.754</td> <td> 0.000</td> <td>   -0.549</td> <td>   -0.301</td>\n",
       "</tr>\n",
       "<tr>\n",
       "  <th>C(sex, Treatment(\"Male\"))[T.Female]</th> <td>   -0.2739</td> <td>    0.056</td> <td>   -4.863</td> <td> 0.000</td> <td>   -0.385</td> <td>   -0.163</td>\n",
       "</tr>\n",
       "<tr>\n",
       "  <th>litsize</th>                             <td>   -0.1249</td> <td>    0.010</td> <td>  -12.236</td> <td> 0.000</td> <td>   -0.145</td> <td>   -0.105</td>\n",
       "</tr>\n",
       "</table>\n",
       "<table class=\"simpletable\">\n",
       "<tr>\n",
       "  <th>Omnibus:</th>       <td>61.833</td> <th>  Durbin-Watson:     </th> <td>   1.415</td>\n",
       "</tr>\n",
       "<tr>\n",
       "  <th>Prob(Omnibus):</th> <td> 0.000</td> <th>  Jarque-Bera (JB):  </th> <td> 292.290</td>\n",
       "</tr>\n",
       "<tr>\n",
       "  <th>Skew:</th>          <td>-0.693</td> <th>  Prob(JB):          </th> <td>3.39e-64</td>\n",
       "</tr>\n",
       "<tr>\n",
       "  <th>Kurtosis:</th>      <td> 7.457</td> <th>  Cond. No.          </th> <td>    82.0</td>\n",
       "</tr>\n",
       "</table><br/><br/>Notes:<br/>[1] Standard Errors assume that the covariance matrix of the errors is correctly specified."
      ],
      "text/plain": [
       "<class 'statsmodels.iolib.summary.Summary'>\n",
       "\"\"\"\n",
       "                            OLS Regression Results                            \n",
       "==============================================================================\n",
       "Dep. Variable:                 weight   R-squared:                       0.409\n",
       "Model:                            OLS   Adj. R-squared:                  0.401\n",
       "Method:                 Least Squares   F-statistic:                     54.76\n",
       "Date:                Fri, 18 Aug 2023   Prob (F-statistic):           4.56e-35\n",
       "Time:                        09:45:07   Log-Likelihood:                -231.84\n",
       "No. Observations:                 322   AIC:                             473.7\n",
       "Df Residuals:                     317   BIC:                             492.5\n",
       "Df Model:                           4                                         \n",
       "Covariance Type:            nonrobust                                         \n",
       "=======================================================================================================\n",
       "                                          coef    std err          t      P>|t|      [0.025      0.975]\n",
       "-------------------------------------------------------------------------------------------------------\n",
       "Intercept                               8.2240      0.156     52.864      0.000       7.918       8.530\n",
       "C(treatment)[T.High]                   -0.9062      0.086    -10.554      0.000      -1.075      -0.737\n",
       "C(treatment)[T.Low]                    -0.4250      0.063     -6.754      0.000      -0.549      -0.301\n",
       "C(sex, Treatment(\"Male\"))[T.Female]    -0.2739      0.056     -4.863      0.000      -0.385      -0.163\n",
       "litsize                                -0.1249      0.010    -12.236      0.000      -0.145      -0.105\n",
       "==============================================================================\n",
       "Omnibus:                       61.833   Durbin-Watson:                   1.415\n",
       "Prob(Omnibus):                  0.000   Jarque-Bera (JB):              292.290\n",
       "Skew:                          -0.693   Prob(JB):                     3.39e-64\n",
       "Kurtosis:                       7.457   Cond. No.                         82.0\n",
       "==============================================================================\n",
       "\n",
       "Notes:\n",
       "[1] Standard Errors assume that the covariance matrix of the errors is correctly specified.\n",
       "\"\"\""
      ]
     },
     "execution_count": 8,
     "metadata": {},
     "output_type": "execute_result"
    }
   ],
   "source": [
    "import statsmodels.formula.api as smf\n",
    "\n",
    "ols_model = smf.ols(\n",
    "        formula='''weight ~ litsize + C(treatment) + C(sex, Treatment(\"Male\"))''', \n",
    "        data=df) \\\n",
    "    .fit()\n",
    "\n",
    "ols_model.summary()"
   ]
  },
  {
   "cell_type": "markdown",
   "id": "49e9ccf3-aa43-4034-8855-fe06091cddb6",
   "metadata": {},
   "source": [
    "## LMER, random intercept model\n",
    "\n",
    "Now, we will use a LMER model allowing for the intercept to change. What do we mean by \"allowing for the intercept to change?\" We mean that there will be a different expected mean for each group (in the running example, each group is a litter of rat pups). Note the use of the `groups` parameter which is set to `litter`."
   ]
  },
  {
   "cell_type": "code",
   "execution_count": 9,
   "id": "0dd8e025-e04a-4e7d-ab35-db8e4b329128",
   "metadata": {
    "tags": []
   },
   "outputs": [
    {
     "data": {
      "text/html": [
       "<table class=\"simpletable\">\n",
       "<tr>\n",
       "       <td>Model:</td>       <td>MixedLM</td> <td>Dependent Variable:</td>  <td>weight</td>  \n",
       "</tr>\n",
       "<tr>\n",
       "  <td>No. Observations:</td>   <td>322</td>         <td>Method:</td>         <td>REML</td>   \n",
       "</tr>\n",
       "<tr>\n",
       "     <td>No. Groups:</td>      <td>27</td>          <td>Scale:</td>         <td>0.1628</td>  \n",
       "</tr>\n",
       "<tr>\n",
       "  <td>Min. group size:</td>     <td>2</td>      <td>Log-Likelihood:</td>   <td>-198.4997</td>\n",
       "</tr>\n",
       "<tr>\n",
       "  <td>Max. group size:</td>    <td>18</td>        <td>Converged:</td>         <td>Yes</td>   \n",
       "</tr>\n",
       "<tr>\n",
       "  <td>Mean group size:</td>   <td>11.9</td>            <td></td>               <td></td>     \n",
       "</tr>\n",
       "</table>\n",
       "<table class=\"simpletable\">\n",
       "<tr>\n",
       "                   <td></td>                    <th>Coef.</th> <th>Std.Err.</th>    <th>z</th>   <th>P>|z|</th> <th>[0.025</th> <th>0.975]</th>\n",
       "</tr>\n",
       "<tr>\n",
       "  <th>Intercept</th>                            <td>8.310</td>   <td>0.274</td>  <td>30.355</td> <td>0.000</td>  <td>7.773</td>  <td>8.846</td>\n",
       "</tr>\n",
       "<tr>\n",
       "  <th>C(treatment)[T.High]</th>                <td>-0.859</td>   <td>0.182</td>  <td>-4.722</td> <td>0.000</td> <td>-1.215</td> <td>-0.502</td>\n",
       "</tr>\n",
       "<tr>\n",
       "  <th>C(treatment)[T.Low]</th>                 <td>-0.429</td>   <td>0.150</td>  <td>-2.849</td> <td>0.004</td> <td>-0.723</td> <td>-0.134</td>\n",
       "</tr>\n",
       "<tr>\n",
       "  <th>C(sex, Treatment('Male'))[T.Female]</th> <td>-0.359</td>   <td>0.048</td>  <td>-7.540</td> <td>0.000</td> <td>-0.452</td> <td>-0.266</td>\n",
       "</tr>\n",
       "<tr>\n",
       "  <th>litsize</th>                             <td>-0.129</td>   <td>0.019</td>  <td>-6.863</td> <td>0.000</td> <td>-0.166</td> <td>-0.092</td>\n",
       "</tr>\n",
       "<tr>\n",
       "  <th>litter Var</th>                           <td>0.097</td>   <td>0.085</td>     <td></td>      <td></td>       <td></td>       <td></td>   \n",
       "</tr>\n",
       "</table>"
      ],
      "text/plain": [
       "<class 'statsmodels.iolib.summary2.Summary'>\n",
       "\"\"\"\n",
       "                    Mixed Linear Model Regression Results\n",
       "==============================================================================\n",
       "Model:                     MixedLM        Dependent Variable:        weight   \n",
       "No. Observations:          322            Method:                    REML     \n",
       "No. Groups:                27             Scale:                     0.1628   \n",
       "Min. group size:           2              Log-Likelihood:            -198.4997\n",
       "Max. group size:           18             Converged:                 Yes      \n",
       "Mean group size:           11.9                                               \n",
       "------------------------------------------------------------------------------\n",
       "                                    Coef.  Std.Err.   z    P>|z| [0.025 0.975]\n",
       "------------------------------------------------------------------------------\n",
       "Intercept                            8.310    0.274 30.355 0.000  7.773  8.846\n",
       "C(treatment)[T.High]                -0.859    0.182 -4.722 0.000 -1.215 -0.502\n",
       "C(treatment)[T.Low]                 -0.429    0.150 -2.849 0.004 -0.723 -0.134\n",
       "C(sex, Treatment('Male'))[T.Female] -0.359    0.048 -7.540 0.000 -0.452 -0.266\n",
       "litsize                             -0.129    0.019 -6.863 0.000 -0.166 -0.092\n",
       "litter Var                           0.097    0.085                           \n",
       "==============================================================================\n",
       "\n",
       "\"\"\""
      ]
     },
     "execution_count": 9,
     "metadata": {},
     "output_type": "execute_result"
    }
   ],
   "source": [
    "rim_model = smf.mixedlm(\n",
    "        formula='''weight ~ litsize + C(treatment) + C(sex, Treatment('Male'))''',\n",
    "        data=df, \n",
    "        groups='litter') \\\n",
    "    .fit()\n",
    "\n",
    "rim_model.summary()"
   ]
  },
  {
   "cell_type": "markdown",
   "id": "a10a5ce5-879c-4f90-975c-41e29de669f6",
   "metadata": {},
   "source": [
    "## LMER, random slope model, intercept and slopes independent\n",
    "\n",
    "In this LMER model, we allow for the slope to change. In the LMER model where we allow for the intercept to change, the slopes are all the same and it is just the intercept that changes. Here, the slopes and intercepts changes per group, but the model does not assume interactions between the slopes and intercepts. Note the use of `vc_formula` parameter with the dictionary."
   ]
  },
  {
   "cell_type": "code",
   "execution_count": 10,
   "id": "03a69fea-1e02-4d39-9289-41637078e242",
   "metadata": {
    "tags": []
   },
   "outputs": [
    {
     "data": {
      "text/html": [
       "<table class=\"simpletable\">\n",
       "<tr>\n",
       "       <td>Model:</td>       <td>MixedLM</td> <td>Dependent Variable:</td>  <td>weight</td>  \n",
       "</tr>\n",
       "<tr>\n",
       "  <td>No. Observations:</td>   <td>322</td>         <td>Method:</td>         <td>REML</td>   \n",
       "</tr>\n",
       "<tr>\n",
       "     <td>No. Groups:</td>      <td>27</td>          <td>Scale:</td>         <td>0.1565</td>  \n",
       "</tr>\n",
       "<tr>\n",
       "  <td>Min. group size:</td>     <td>2</td>      <td>Log-Likelihood:</td>   <td>-205.7020</td>\n",
       "</tr>\n",
       "<tr>\n",
       "  <td>Max. group size:</td>    <td>18</td>        <td>Converged:</td>         <td>Yes</td>   \n",
       "</tr>\n",
       "<tr>\n",
       "  <td>Mean group size:</td>   <td>11.9</td>            <td></td>               <td></td>     \n",
       "</tr>\n",
       "</table>\n",
       "<table class=\"simpletable\">\n",
       "<tr>\n",
       "                   <td></td>                    <th>Coef.</th> <th>Std.Err.</th>    <th>z</th>   <th>P>|z|</th> <th>[0.025</th> <th>0.975]</th>\n",
       "</tr>\n",
       "<tr>\n",
       "  <th>Intercept</th>                            <td>8.231</td>   <td>0.234</td>  <td>35.185</td> <td>0.000</td>  <td>7.772</td>  <td>8.689</td>\n",
       "</tr>\n",
       "<tr>\n",
       "  <th>C(treatment)[T.High]</th>                <td>-0.839</td>   <td>0.144</td>  <td>-5.827</td> <td>0.000</td> <td>-1.121</td> <td>-0.557</td>\n",
       "</tr>\n",
       "<tr>\n",
       "  <th>C(treatment)[T.Low]</th>                 <td>-0.411</td>   <td>0.116</td>  <td>-3.526</td> <td>0.000</td> <td>-0.639</td> <td>-0.182</td>\n",
       "</tr>\n",
       "<tr>\n",
       "  <th>C(sex, Treatment('Male'))[T.Female]</th> <td>-0.356</td>   <td>0.102</td>  <td>-3.508</td> <td>0.000</td> <td>-0.555</td> <td>-0.157</td>\n",
       "</tr>\n",
       "<tr>\n",
       "  <th>litsize</th>                             <td>-0.124</td>   <td>0.016</td>  <td>-7.915</td> <td>0.000</td> <td>-0.155</td> <td>-0.093</td>\n",
       "</tr>\n",
       "<tr>\n",
       "  <th>sex Var</th>                              <td>0.104</td>   <td>0.076</td>     <td></td>      <td></td>       <td></td>       <td></td>   \n",
       "</tr>\n",
       "</table>"
      ],
      "text/plain": [
       "<class 'statsmodels.iolib.summary2.Summary'>\n",
       "\"\"\"\n",
       "                    Mixed Linear Model Regression Results\n",
       "==============================================================================\n",
       "Model:                     MixedLM        Dependent Variable:        weight   \n",
       "No. Observations:          322            Method:                    REML     \n",
       "No. Groups:                27             Scale:                     0.1565   \n",
       "Min. group size:           2              Log-Likelihood:            -205.7020\n",
       "Max. group size:           18             Converged:                 Yes      \n",
       "Mean group size:           11.9                                               \n",
       "------------------------------------------------------------------------------\n",
       "                                    Coef.  Std.Err.   z    P>|z| [0.025 0.975]\n",
       "------------------------------------------------------------------------------\n",
       "Intercept                            8.231    0.234 35.185 0.000  7.772  8.689\n",
       "C(treatment)[T.High]                -0.839    0.144 -5.827 0.000 -1.121 -0.557\n",
       "C(treatment)[T.Low]                 -0.411    0.116 -3.526 0.000 -0.639 -0.182\n",
       "C(sex, Treatment('Male'))[T.Female] -0.356    0.102 -3.508 0.000 -0.555 -0.157\n",
       "litsize                             -0.124    0.016 -7.915 0.000 -0.155 -0.093\n",
       "sex Var                              0.104    0.076                           \n",
       "==============================================================================\n",
       "\n",
       "\"\"\""
      ]
     },
     "execution_count": 10,
     "metadata": {},
     "output_type": "execute_result"
    }
   ],
   "source": [
    "rsm_model = smf.mixedlm(\n",
    "        formula='''weight ~ litsize + C(treatment) + C(sex, Treatment('Male'))''',\n",
    "        data=df, \n",
    "        groups='litter',\n",
    "        vc_formula = {'sex' : '0 + C(sex)'}) \\\n",
    "    .fit()\n",
    "\n",
    "rsm_model.summary()"
   ]
  },
  {
   "cell_type": "markdown",
   "id": "11e8510a-ece4-4ee3-a2ab-a8231aa97e5f",
   "metadata": {},
   "source": [
    "## LMER, random slope model, intercept and slopes dependent\n",
    "\n",
    "In this LMER model, we allow for the slopes and intercepts to change and assume an interaction between the two. Note the use of `re_formula` and string literal formula."
   ]
  },
  {
   "cell_type": "code",
   "execution_count": 11,
   "id": "84ca160c-0722-4511-9b7d-5391f3819fba",
   "metadata": {
    "tags": []
   },
   "outputs": [
    {
     "data": {
      "text/html": [
       "<table class=\"simpletable\">\n",
       "<tr>\n",
       "       <td>Model:</td>       <td>MixedLM</td> <td>Dependent Variable:</td>  <td>weight</td>  \n",
       "</tr>\n",
       "<tr>\n",
       "  <td>No. Observations:</td>   <td>322</td>         <td>Method:</td>         <td>REML</td>   \n",
       "</tr>\n",
       "<tr>\n",
       "     <td>No. Groups:</td>      <td>27</td>          <td>Scale:</td>         <td>0.1601</td>  \n",
       "</tr>\n",
       "<tr>\n",
       "  <td>Min. group size:</td>     <td>2</td>      <td>Log-Likelihood:</td>   <td>-196.3946</td>\n",
       "</tr>\n",
       "<tr>\n",
       "  <td>Max. group size:</td>    <td>18</td>        <td>Converged:</td>         <td>Yes</td>   \n",
       "</tr>\n",
       "<tr>\n",
       "  <td>Mean group size:</td>   <td>11.9</td>            <td></td>               <td></td>     \n",
       "</tr>\n",
       "</table>\n",
       "<table class=\"simpletable\">\n",
       "<tr>\n",
       "                   <td></td>                    <th>Coef.</th> <th>Std.Err.</th>    <th>z</th>   <th>P>|z|</th> <th>[0.025</th> <th>0.975]</th>\n",
       "</tr>\n",
       "<tr>\n",
       "  <th>Intercept</th>                            <td>8.166</td>   <td>0.265</td>  <td>30.765</td> <td>0.000</td>  <td>7.645</td>  <td>8.686</td>\n",
       "</tr>\n",
       "<tr>\n",
       "  <th>C(treatment)[T.High]</th>                <td>-0.778</td>   <td>0.172</td>  <td>-4.523</td> <td>0.000</td> <td>-1.116</td> <td>-0.441</td>\n",
       "</tr>\n",
       "<tr>\n",
       "  <th>C(treatment)[T.Low]</th>                 <td>-0.387</td>   <td>0.137</td>  <td>-2.821</td> <td>0.005</td> <td>-0.656</td> <td>-0.118</td>\n",
       "</tr>\n",
       "<tr>\n",
       "  <th>C(sex, Treatment('Male'))[T.Female]</th> <td>-0.359</td>   <td>0.053</td>  <td>-6.783</td> <td>0.000</td> <td>-0.463</td> <td>-0.255</td>\n",
       "</tr>\n",
       "<tr>\n",
       "  <th>litsize</th>                             <td>-0.120</td>   <td>0.018</td>  <td>-6.637</td> <td>0.000</td> <td>-0.155</td> <td>-0.084</td>\n",
       "</tr>\n",
       "<tr>\n",
       "  <th>litter Var</th>                           <td>0.063</td>   <td>0.074</td>     <td></td>      <td></td>       <td></td>       <td></td>   \n",
       "</tr>\n",
       "<tr>\n",
       "  <th>litter x C(sex)[T.Male] Cov</th>          <td>0.028</td>   <td>0.044</td>     <td></td>      <td></td>       <td></td>       <td></td>   \n",
       "</tr>\n",
       "<tr>\n",
       "  <th>C(sex)[T.Male] Var</th>                   <td>0.013</td>   <td>0.062</td>     <td></td>      <td></td>       <td></td>       <td></td>   \n",
       "</tr>\n",
       "</table>"
      ],
      "text/plain": [
       "<class 'statsmodels.iolib.summary2.Summary'>\n",
       "\"\"\"\n",
       "                    Mixed Linear Model Regression Results\n",
       "==============================================================================\n",
       "Model:                     MixedLM        Dependent Variable:        weight   \n",
       "No. Observations:          322            Method:                    REML     \n",
       "No. Groups:                27             Scale:                     0.1601   \n",
       "Min. group size:           2              Log-Likelihood:            -196.3946\n",
       "Max. group size:           18             Converged:                 Yes      \n",
       "Mean group size:           11.9                                               \n",
       "------------------------------------------------------------------------------\n",
       "                                    Coef.  Std.Err.   z    P>|z| [0.025 0.975]\n",
       "------------------------------------------------------------------------------\n",
       "Intercept                            8.166    0.265 30.765 0.000  7.645  8.686\n",
       "C(treatment)[T.High]                -0.778    0.172 -4.523 0.000 -1.116 -0.441\n",
       "C(treatment)[T.Low]                 -0.387    0.137 -2.821 0.005 -0.656 -0.118\n",
       "C(sex, Treatment('Male'))[T.Female] -0.359    0.053 -6.783 0.000 -0.463 -0.255\n",
       "litsize                             -0.120    0.018 -6.637 0.000 -0.155 -0.084\n",
       "litter Var                           0.063    0.074                           \n",
       "litter x C(sex)[T.Male] Cov          0.028    0.044                           \n",
       "C(sex)[T.Male] Var                   0.013    0.062                           \n",
       "==============================================================================\n",
       "\n",
       "\"\"\""
      ]
     },
     "execution_count": 11,
     "metadata": {},
     "output_type": "execute_result"
    }
   ],
   "source": [
    "ris_model = smf.mixedlm(\n",
    "        formula='''weight ~ litsize + C(treatment) + C(sex, Treatment('Male'))''',\n",
    "        data=df, \n",
    "        groups='litter',\n",
    "        re_formula = '1 + C(sex)') \\\n",
    "    .fit()\n",
    "\n",
    "ris_model.summary()"
   ]
  },
  {
   "cell_type": "markdown",
   "id": "e597768a-685c-4b6e-9dea-ccd4b976a344",
   "metadata": {},
   "source": [
    "Below is the estimated correlation coefficient between the random intercepts and random slopes. This correlation indicates that the litters with higher weight tend to have males that are of higher weight."
   ]
  },
  {
   "cell_type": "code",
   "execution_count": 12,
   "id": "f367e975-bf34-4098-beda-6622264ea7b7",
   "metadata": {
    "tags": []
   },
   "outputs": [
    {
     "data": {
      "text/plain": [
       "0.9878805022022777"
      ]
     },
     "execution_count": 12,
     "metadata": {},
     "output_type": "execute_result"
    }
   ],
   "source": [
    "ris_model.params['litter x C(sex)[T.Male] Cov'] / np.sqrt(ris_model.params['litter Var'] * ris_model.params['C(sex)[T.Male] Var'])"
   ]
  },
  {
   "cell_type": "markdown",
   "id": "e7527e39-3dfb-42b9-b5e6-223da8b4014e",
   "metadata": {},
   "source": [
    "## Performance\n",
    "\n",
    "Let's look at the non-validated performance measures. The MAE, RMSE, MAPE and $R^2$ are all comparable between these models, but the log-likelihood is better for the random intercept, random slope model.\n",
    "\n",
    "- RIS: random intercept, random slope\n",
    "- RIM: random intercept\n",
    "- RSM: random slope\n",
    "- OLS: ordinary least square"
   ]
  },
  {
   "cell_type": "code",
   "execution_count": 13,
   "id": "c12e27c9-3b9d-49e3-a1e5-da1921e0c4bc",
   "metadata": {},
   "outputs": [
    {
     "data": {
      "text/html": [
       "<div>\n",
       "<style scoped>\n",
       "    .dataframe tbody tr th:only-of-type {\n",
       "        vertical-align: middle;\n",
       "    }\n",
       "\n",
       "    .dataframe tbody tr th {\n",
       "        vertical-align: top;\n",
       "    }\n",
       "\n",
       "    .dataframe thead th {\n",
       "        text-align: right;\n",
       "    }\n",
       "</style>\n",
       "<table border=\"1\" class=\"dataframe\">\n",
       "  <thead>\n",
       "    <tr style=\"text-align: right;\">\n",
       "      <th></th>\n",
       "      <th>mae</th>\n",
       "      <th>rmse</th>\n",
       "      <th>mape</th>\n",
       "      <th>r-sq</th>\n",
       "      <th>log-likelihood</th>\n",
       "    </tr>\n",
       "  </thead>\n",
       "  <tbody>\n",
       "    <tr>\n",
       "      <th>RIS</th>\n",
       "      <td>0.383076</td>\n",
       "      <td>0.500760</td>\n",
       "      <td>0.064635</td>\n",
       "      <td>0.399894</td>\n",
       "      <td>-196.394596</td>\n",
       "    </tr>\n",
       "    <tr>\n",
       "      <th>RIM</th>\n",
       "      <td>0.382219</td>\n",
       "      <td>0.499605</td>\n",
       "      <td>0.064361</td>\n",
       "      <td>0.402659</td>\n",
       "      <td>-198.499691</td>\n",
       "    </tr>\n",
       "    <tr>\n",
       "      <th>RSM</th>\n",
       "      <td>0.381596</td>\n",
       "      <td>0.499295</td>\n",
       "      <td>0.064256</td>\n",
       "      <td>0.403400</td>\n",
       "      <td>-205.702007</td>\n",
       "    </tr>\n",
       "    <tr>\n",
       "      <th>OLS</th>\n",
       "      <td>0.376124</td>\n",
       "      <td>0.497108</td>\n",
       "      <td>0.063282</td>\n",
       "      <td>0.408616</td>\n",
       "      <td>-231.836723</td>\n",
       "    </tr>\n",
       "  </tbody>\n",
       "</table>\n",
       "</div>"
      ],
      "text/plain": [
       "          mae      rmse      mape      r-sq  log-likelihood\n",
       "RIS  0.383076  0.500760  0.064635  0.399894     -196.394596\n",
       "RIM  0.382219  0.499605  0.064361  0.402659     -198.499691\n",
       "RSM  0.381596  0.499295  0.064256  0.403400     -205.702007\n",
       "OLS  0.376124  0.497108  0.063282  0.408616     -231.836723"
      ]
     },
     "execution_count": 13,
     "metadata": {},
     "output_type": "execute_result"
    }
   ],
   "source": [
    "from sklearn.metrics import mean_absolute_error, mean_squared_error, mean_absolute_percentage_error, r2_score\n",
    "\n",
    "def get_performance(m, X, y_true, Z=None, clusters=None):\n",
    "    if Z is not None and clusters is not None:\n",
    "        y_pred = m.predict(X, Z, clusters)\n",
    "    else:\n",
    "        y_pred  = m.predict(X)\n",
    "    \n",
    "    mae = mean_absolute_error(y_true, y_pred)\n",
    "    rmse = mean_squared_error(y_true, y_pred, squared=False)\n",
    "    mape = mean_absolute_percentage_error(y_true, y_pred)\n",
    "    rsq = r2_score(y_true, y_pred)\n",
    "    \n",
    "    try:\n",
    "        ll = m.llf\n",
    "    except:\n",
    "        ll = np.nan\n",
    "    \n",
    "    y_pred = pd.Series([mae, rmse, mape, rsq, ll], index=['mae', 'rmse', 'mape', 'r-sq', 'log-likelihood'])\n",
    "    return y_pred\n",
    "\n",
    "lmer_df = pd.DataFrame([get_performance(m, df[['litsize', 'treatment', 'sex', 'litter']], df['weight']) \n",
    "              for m in [ols_model, rim_model, rsm_model, ris_model]], \n",
    "             index=['OLS', 'RIM', 'RSM', 'RIS']) \\\n",
    "    .sort_values(['log-likelihood'], ascending=False)\n",
    "lmer_df"
   ]
  },
  {
   "cell_type": "markdown",
   "id": "0ff12ebf-b34d-4765-9216-11b8f6449b19",
   "metadata": {},
   "source": [
    "## Mixed-Effects Random Forest\n",
    "\n",
    "[Mixed-Effects Random Forest](https://www.tandfonline.com/doi/abs/10.1080/00949655.2012.741599) (MERF) is another approach to mixed-effect modeling. The [functional form of the model](https://imsarchives.nus.edu.sg/oldwww/Programs/014swclass/files/denis.pdf) is as follows,\n",
    "\n",
    "- $y_i = f(X_i) + Z_i u_i + e_i$\n",
    "- $u_i \\sim \\mathcal{N}(0, D)$\n",
    "- $e_i \\sim \\mathcal{N}(0, \\sigma_i)$\n",
    "\n",
    "where,\n",
    "\n",
    "- $y_i$ is the vector of responses for the i-th cluster,\n",
    "- $X_i$ is the fixed effects covariates associated with $y_i$,\n",
    "- $Z_i$ is the random effects covariates associated with the $y_i$, and\n",
    "- $e_i \\sim \\mathcal{N}(0, \\sigma_i)$ is the vector of error for the i-th cluster.\n",
    "\n",
    "The learned parameters in MERF are\n",
    "\n",
    "- $f()$: a random forest that models the (potentially nonlinear) mapping from the fixed effect covariates to the response (common across all clusters),\n",
    "- $D$: the covariance of the normal distribution from which each $u_i$ is drawn, and\n",
    "- $\\sigma_i$: the variance of $e_i$.\n",
    "\n",
    "The random effects, $Z_i u_i$, is still assumed to be linear.\n",
    "\n",
    "To use MERF, install the following package.\n",
    "\n",
    "```bash\n",
    "pip install git+https://github.com/manifoldai/merf.git\n",
    "```\n",
    "\n",
    "Now let's shape the data for input into MERF."
   ]
  },
  {
   "cell_type": "code",
   "execution_count": 14,
   "id": "707b2679-0713-4e41-84a1-3fb25ff4b820",
   "metadata": {},
   "outputs": [
    {
     "data": {
      "text/plain": [
       "((322, 3), (322, 1), (322,), (322,))"
      ]
     },
     "execution_count": 14,
     "metadata": {},
     "output_type": "execute_result"
    }
   ],
   "source": [
    "sex_map = {'Male': 1, 'Female': 0}\n",
    "treatment_map = {'Control': 0, 'Low': 1, 'High': 2}\n",
    "\n",
    "X = df[['litsize', 'treatment', 'sex']] \\\n",
    "        .assign(\n",
    "            sex=lambda d: d['sex'].map(sex_map),\n",
    "            treatment=lambda d: d['treatment'].map(treatment_map)\n",
    "        )\n",
    "# Z = pd.DataFrame({'Z': np.ones(X.shape[0])}, index=X.index)\n",
    "Z = df[['sex']].assign(sex=lambda d: d['sex'].map(sex_map))\n",
    "clusters = df['litter']\n",
    "y = df['weight']\n",
    "\n",
    "X.shape, Z.shape, y.shape, clusters.shape"
   ]
  },
  {
   "cell_type": "markdown",
   "id": "c9401504-2911-432b-a8e3-a2f00f0b55b0",
   "metadata": {},
   "source": [
    "By default, MERF uses a random forest to model the fixed effects. You will see that the way the parameters are learned is through an iteration procedure. In particular, the parameters are learned using the [Expectation-Maximization Algorithm](https://en.wikipedia.org/wiki/Expectation%E2%80%93maximization_algorithm)."
   ]
  },
  {
   "cell_type": "code",
   "execution_count": 15,
   "id": "c0c71d6f-8741-4e35-910e-314ac55d2590",
   "metadata": {},
   "outputs": [
    {
     "name": "stderr",
     "output_type": "stream",
     "text": [
      "INFO     [merf.py:307] Training GLL is -333.71605873307544 at iteration 1.\n",
      "INFO     [merf.py:307] Training GLL is -377.01192150920764 at iteration 2.\n",
      "INFO     [merf.py:307] Training GLL is -385.0144049452151 at iteration 3.\n",
      "INFO     [merf.py:307] Training GLL is -388.49413213816604 at iteration 4.\n",
      "INFO     [merf.py:307] Training GLL is -390.786958923229 at iteration 5.\n",
      "INFO     [merf.py:307] Training GLL is -392.6172680813943 at iteration 6.\n",
      "INFO     [merf.py:307] Training GLL is -394.1013482379355 at iteration 7.\n",
      "INFO     [merf.py:307] Training GLL is -395.3064926013952 at iteration 8.\n",
      "INFO     [merf.py:307] Training GLL is -396.2790567471805 at iteration 9.\n",
      "INFO     [merf.py:307] Training GLL is -397.0650753333675 at iteration 10.\n",
      "INFO     [merf.py:307] Training GLL is -397.70311641522136 at iteration 11.\n",
      "INFO     [merf.py:307] Training GLL is -398.2237484173181 at iteration 12.\n",
      "INFO     [merf.py:307] Training GLL is -398.65074861675413 at iteration 13.\n",
      "INFO     [merf.py:307] Training GLL is -399.00256401978334 at iteration 14.\n",
      "INFO     [merf.py:307] Training GLL is -399.29357896736184 at iteration 15.\n",
      "INFO     [merf.py:307] Training GLL is -399.5351033681913 at iteration 16.\n",
      "INFO     [merf.py:307] Training GLL is -399.7361114952454 at iteration 17.\n",
      "INFO     [merf.py:307] Training GLL is -399.90378716325665 at iteration 18.\n",
      "INFO     [merf.py:307] Training GLL is -400.0439266668877 at iteration 19.\n",
      "INFO     [merf.py:307] Training GLL is -400.16123920919347 at iteration 20.\n"
     ]
    },
    {
     "data": {
      "text/plain": [
       "<merf.merf.MERF at 0x7f8f9830d850>"
      ]
     },
     "execution_count": 15,
     "metadata": {},
     "output_type": "execute_result"
    }
   ],
   "source": [
    "from merf import MERF\n",
    "from sklearn.ensemble import RandomForestRegressor\n",
    "\n",
    "merf = MERF(\n",
    "    fixed_effects_model=RandomForestRegressor(n_estimators=30, n_jobs=-1, random_state=37),\n",
    "    max_iterations=20\n",
    ")\n",
    "merf.fit(X, Z, clusters, y)"
   ]
  },
  {
   "cell_type": "markdown",
   "id": "571698c0-1e32-49b6-9489-53b5a77dc690",
   "metadata": {},
   "source": [
    "You can see from the merged results of LMER and MERF that MERF performs better (non-validated)."
   ]
  },
  {
   "cell_type": "code",
   "execution_count": 16,
   "id": "2c2f8f17-1e5a-4931-883e-fccfca74450e",
   "metadata": {},
   "outputs": [
    {
     "data": {
      "text/html": [
       "<div>\n",
       "<style scoped>\n",
       "    .dataframe tbody tr th:only-of-type {\n",
       "        vertical-align: middle;\n",
       "    }\n",
       "\n",
       "    .dataframe tbody tr th {\n",
       "        vertical-align: top;\n",
       "    }\n",
       "\n",
       "    .dataframe thead th {\n",
       "        text-align: right;\n",
       "    }\n",
       "</style>\n",
       "<table border=\"1\" class=\"dataframe\">\n",
       "  <thead>\n",
       "    <tr style=\"text-align: right;\">\n",
       "      <th></th>\n",
       "      <th>mae</th>\n",
       "      <th>rmse</th>\n",
       "      <th>mape</th>\n",
       "      <th>r-sq</th>\n",
       "      <th>log-likelihood</th>\n",
       "    </tr>\n",
       "  </thead>\n",
       "  <tbody>\n",
       "    <tr>\n",
       "      <th>RIS</th>\n",
       "      <td>0.383076</td>\n",
       "      <td>0.500760</td>\n",
       "      <td>0.064635</td>\n",
       "      <td>0.399894</td>\n",
       "      <td>-196.394596</td>\n",
       "    </tr>\n",
       "    <tr>\n",
       "      <th>RIM</th>\n",
       "      <td>0.382219</td>\n",
       "      <td>0.499605</td>\n",
       "      <td>0.064361</td>\n",
       "      <td>0.402659</td>\n",
       "      <td>-198.499691</td>\n",
       "    </tr>\n",
       "    <tr>\n",
       "      <th>RSM</th>\n",
       "      <td>0.381596</td>\n",
       "      <td>0.499295</td>\n",
       "      <td>0.064256</td>\n",
       "      <td>0.403400</td>\n",
       "      <td>-205.702007</td>\n",
       "    </tr>\n",
       "    <tr>\n",
       "      <th>OLS</th>\n",
       "      <td>0.376124</td>\n",
       "      <td>0.497108</td>\n",
       "      <td>0.063282</td>\n",
       "      <td>0.408616</td>\n",
       "      <td>-231.836723</td>\n",
       "    </tr>\n",
       "    <tr>\n",
       "      <th>MERF</th>\n",
       "      <td>0.278688</td>\n",
       "      <td>0.376164</td>\n",
       "      <td>0.046600</td>\n",
       "      <td>0.661372</td>\n",
       "      <td>NaN</td>\n",
       "    </tr>\n",
       "  </tbody>\n",
       "</table>\n",
       "</div>"
      ],
      "text/plain": [
       "           mae      rmse      mape      r-sq  log-likelihood\n",
       "RIS   0.383076  0.500760  0.064635  0.399894     -196.394596\n",
       "RIM   0.382219  0.499605  0.064361  0.402659     -198.499691\n",
       "RSM   0.381596  0.499295  0.064256  0.403400     -205.702007\n",
       "OLS   0.376124  0.497108  0.063282  0.408616     -231.836723\n",
       "MERF  0.278688  0.376164  0.046600  0.661372             NaN"
      ]
     },
     "execution_count": 16,
     "metadata": {},
     "output_type": "execute_result"
    }
   ],
   "source": [
    "merf_df = pd.DataFrame([get_performance(merf, X, y, Z, clusters)], index=['MERF'])\n",
    "\n",
    "pd.concat([lmer_df, merf_df])"
   ]
  },
  {
   "cell_type": "markdown",
   "id": "92dcf1f8-9979-4ea1-a7ea-6a33f7eda6e7",
   "metadata": {},
   "source": [
    "MERF is flexible enough to allow any linear or non-linear regressor to model the fixed effects. We are using a linear model here to model the fixed effects. This linear model for the fixed effects using the MERF API should reduce back to LMER."
   ]
  },
  {
   "cell_type": "code",
   "execution_count": 17,
   "id": "6ce7f8b2-8227-471c-aa2e-ba0d992825fe",
   "metadata": {},
   "outputs": [
    {
     "name": "stderr",
     "output_type": "stream",
     "text": [
      "INFO     [merf.py:307] Training GLL is -250.32226566191966 at iteration 1.\n",
      "INFO     [merf.py:307] Training GLL is -275.4248038416475 at iteration 2.\n",
      "INFO     [merf.py:307] Training GLL is -278.405863266045 at iteration 3.\n",
      "INFO     [merf.py:307] Training GLL is -279.14089177633406 at iteration 4.\n",
      "INFO     [merf.py:307] Training GLL is -279.39470078845005 at iteration 5.\n",
      "INFO     [merf.py:307] Training GLL is -279.50761907216946 at iteration 6.\n",
      "INFO     [merf.py:307] Training GLL is -279.56454572394097 at iteration 7.\n",
      "INFO     [merf.py:307] Training GLL is -279.59504914913975 at iteration 8.\n",
      "INFO     [merf.py:307] Training GLL is -279.6118859892217 at iteration 9.\n",
      "INFO     [merf.py:307] Training GLL is -279.62124285234916 at iteration 10.\n",
      "INFO     [merf.py:307] Training GLL is -279.6263549945002 at iteration 11.\n",
      "INFO     [merf.py:307] Training GLL is -279.62900945894233 at iteration 12.\n",
      "INFO     [merf.py:307] Training GLL is -279.6302331119333 at iteration 13.\n",
      "INFO     [merf.py:307] Training GLL is -279.63063176871344 at iteration 14.\n",
      "INFO     [merf.py:307] Training GLL is -279.6305682053091 at iteration 15.\n",
      "INFO     [merf.py:307] Training GLL is -279.63026066897373 at iteration 16.\n",
      "INFO     [merf.py:307] Training GLL is -279.62983973763113 at iteration 17.\n",
      "INFO     [merf.py:307] Training GLL is -279.62938219900144 at iteration 18.\n",
      "INFO     [merf.py:307] Training GLL is -279.62893170266136 at iteration 19.\n",
      "INFO     [merf.py:307] Training GLL is -279.6285115436138 at iteration 20.\n"
     ]
    },
    {
     "data": {
      "text/plain": [
       "<merf.merf.MERF at 0x7f8fbc55deb0>"
      ]
     },
     "execution_count": 17,
     "metadata": {},
     "output_type": "execute_result"
    }
   ],
   "source": [
    "from sklearn.linear_model import LinearRegression\n",
    "\n",
    "merf_linear = MERF(\n",
    "    fixed_effects_model=LinearRegression(), \n",
    "    max_iterations=20\n",
    ")\n",
    "merf_linear.fit(X, Z, clusters, y)"
   ]
  },
  {
   "cell_type": "markdown",
   "id": "c0ab4ecd-39e9-4976-baca-f1df72e32b7a",
   "metadata": {},
   "source": [
    "In this MERF example, we use something fancier, gradient boosting, to model the fixed effects."
   ]
  },
  {
   "cell_type": "code",
   "execution_count": 18,
   "id": "a7db26b5-0312-4f25-b128-70dad36c5582",
   "metadata": {},
   "outputs": [
    {
     "name": "stderr",
     "output_type": "stream",
     "text": [
      "INFO     [merf.py:307] Training GLL is -280.8403423506038 at iteration 1.\n",
      "INFO     [merf.py:307] Training GLL is -312.5902759696268 at iteration 2.\n",
      "INFO     [merf.py:307] Training GLL is -319.42122808679375 at iteration 3.\n",
      "INFO     [merf.py:307] Training GLL is -323.30449745760814 at iteration 4.\n",
      "INFO     [merf.py:307] Training GLL is -325.39602517001947 at iteration 5.\n",
      "INFO     [merf.py:307] Training GLL is -325.97589056606364 at iteration 6.\n",
      "INFO     [merf.py:307] Training GLL is -326.50014975589113 at iteration 7.\n",
      "INFO     [merf.py:307] Training GLL is -326.6869382890954 at iteration 8.\n",
      "INFO     [merf.py:307] Training GLL is -326.67740437411493 at iteration 9.\n",
      "INFO     [merf.py:307] Training GLL is -326.7714395331036 at iteration 10.\n",
      "INFO     [merf.py:307] Training GLL is -327.54464523883496 at iteration 11.\n",
      "INFO     [merf.py:307] Training GLL is -327.09840142944836 at iteration 12.\n",
      "INFO     [merf.py:307] Training GLL is -327.4145901178239 at iteration 13.\n",
      "INFO     [merf.py:307] Training GLL is -327.5149945679775 at iteration 14.\n",
      "INFO     [merf.py:307] Training GLL is -327.76484590606526 at iteration 15.\n",
      "INFO     [merf.py:307] Training GLL is -326.04470343017886 at iteration 16.\n",
      "INFO     [merf.py:307] Training GLL is -327.4639939165594 at iteration 17.\n",
      "INFO     [merf.py:307] Training GLL is -327.7250271749926 at iteration 18.\n",
      "INFO     [merf.py:307] Training GLL is -326.68773048443546 at iteration 19.\n",
      "INFO     [merf.py:307] Training GLL is -326.8288576814248 at iteration 20.\n"
     ]
    },
    {
     "data": {
      "text/plain": [
       "<merf.merf.MERF at 0x7f8fbc54d370>"
      ]
     },
     "execution_count": 18,
     "metadata": {},
     "output_type": "execute_result"
    }
   ],
   "source": [
    "from lightgbm import LGBMRegressor\n",
    "\n",
    "merf_lbgm = MERF(\n",
    "    fixed_effects_model=LGBMRegressor(), \n",
    "    max_iterations=20\n",
    ")\n",
    "merf_lbgm.fit(X, Z, clusters, y)"
   ]
  },
  {
   "cell_type": "markdown",
   "id": "55b30a73-d137-47c9-9d6b-e7d0e0efde1e",
   "metadata": {},
   "source": [
    "The table below compares the LMER and MERF models. In general, MERF models using a non-linear model for the fixed effects does better than LMER models across all (non-validated) performance measures. The problem with random forest and gradient boosting is they have a higher chance to overfit as they have higher variance, as opposed to the LMER models, which have higher bias (see [bias-variance tradeoff](https://en.wikipedia.org/wiki/Bias%E2%80%93variance_tradeoff)). "
   ]
  },
  {
   "cell_type": "code",
   "execution_count": 19,
   "id": "81dae125-48a5-462e-90cb-5dacecf19f22",
   "metadata": {},
   "outputs": [
    {
     "data": {
      "text/html": [
       "<div>\n",
       "<style scoped>\n",
       "    .dataframe tbody tr th:only-of-type {\n",
       "        vertical-align: middle;\n",
       "    }\n",
       "\n",
       "    .dataframe tbody tr th {\n",
       "        vertical-align: top;\n",
       "    }\n",
       "\n",
       "    .dataframe thead th {\n",
       "        text-align: right;\n",
       "    }\n",
       "</style>\n",
       "<table border=\"1\" class=\"dataframe\">\n",
       "  <thead>\n",
       "    <tr style=\"text-align: right;\">\n",
       "      <th></th>\n",
       "      <th>mae</th>\n",
       "      <th>rmse</th>\n",
       "      <th>mape</th>\n",
       "      <th>r-sq</th>\n",
       "      <th>log-likelihood</th>\n",
       "    </tr>\n",
       "  </thead>\n",
       "  <tbody>\n",
       "    <tr>\n",
       "      <th>RIS</th>\n",
       "      <td>0.383076</td>\n",
       "      <td>0.500760</td>\n",
       "      <td>0.064635</td>\n",
       "      <td>0.399894</td>\n",
       "      <td>-196.394596</td>\n",
       "    </tr>\n",
       "    <tr>\n",
       "      <th>RIM</th>\n",
       "      <td>0.382219</td>\n",
       "      <td>0.499605</td>\n",
       "      <td>0.064361</td>\n",
       "      <td>0.402659</td>\n",
       "      <td>-198.499691</td>\n",
       "    </tr>\n",
       "    <tr>\n",
       "      <th>RSM</th>\n",
       "      <td>0.381596</td>\n",
       "      <td>0.499295</td>\n",
       "      <td>0.064256</td>\n",
       "      <td>0.403400</td>\n",
       "      <td>-205.702007</td>\n",
       "    </tr>\n",
       "    <tr>\n",
       "      <th>OLS</th>\n",
       "      <td>0.376124</td>\n",
       "      <td>0.497108</td>\n",
       "      <td>0.063282</td>\n",
       "      <td>0.408616</td>\n",
       "      <td>-231.836723</td>\n",
       "    </tr>\n",
       "    <tr>\n",
       "      <th>MERF</th>\n",
       "      <td>0.278688</td>\n",
       "      <td>0.376164</td>\n",
       "      <td>0.046600</td>\n",
       "      <td>0.661372</td>\n",
       "      <td>NaN</td>\n",
       "    </tr>\n",
       "    <tr>\n",
       "      <th>MERF_LINEAR</th>\n",
       "      <td>0.303176</td>\n",
       "      <td>0.415935</td>\n",
       "      <td>0.051168</td>\n",
       "      <td>0.585982</td>\n",
       "      <td>NaN</td>\n",
       "    </tr>\n",
       "    <tr>\n",
       "      <th>MERF_LGBM</th>\n",
       "      <td>0.286231</td>\n",
       "      <td>0.405772</td>\n",
       "      <td>0.047979</td>\n",
       "      <td>0.605967</td>\n",
       "      <td>NaN</td>\n",
       "    </tr>\n",
       "  </tbody>\n",
       "</table>\n",
       "</div>"
      ],
      "text/plain": [
       "                  mae      rmse      mape      r-sq  log-likelihood\n",
       "RIS          0.383076  0.500760  0.064635  0.399894     -196.394596\n",
       "RIM          0.382219  0.499605  0.064361  0.402659     -198.499691\n",
       "RSM          0.381596  0.499295  0.064256  0.403400     -205.702007\n",
       "OLS          0.376124  0.497108  0.063282  0.408616     -231.836723\n",
       "MERF         0.278688  0.376164  0.046600  0.661372             NaN\n",
       "MERF_LINEAR  0.303176  0.415935  0.051168  0.585982             NaN\n",
       "MERF_LGBM    0.286231  0.405772  0.047979  0.605967             NaN"
      ]
     },
     "execution_count": 19,
     "metadata": {},
     "output_type": "execute_result"
    }
   ],
   "source": [
    "linear_df = pd.DataFrame([get_performance(merf_linear, X, y, Z, clusters)], index=['MERF_LINEAR'])\n",
    "lgbm_df = pd.DataFrame([get_performance(merf_lbgm, X, y, Z, clusters)], index=['MERF_LGBM'])\n",
    "\n",
    "pd.concat([lmer_df, merf_df, linear_df, lgbm_df])"
   ]
  },
  {
   "cell_type": "markdown",
   "id": "658d3012-5b5e-48ca-8ff5-6ef9a83bdbab",
   "metadata": {},
   "source": [
    "## Learned parameters"
   ]
  },
  {
   "cell_type": "markdown",
   "id": "c763b158-5ae1-49e2-b463-5b639b99b139",
   "metadata": {},
   "source": [
    "Since model interpretability is important, you should look at the learned parameters. These are the parameters for the LMER model with random slopes and intercepts (slopes and intercepts are dependent)."
   ]
  },
  {
   "cell_type": "code",
   "execution_count": 20,
   "id": "d23900ee-e1bc-4a90-b41f-f5a51f9dc296",
   "metadata": {},
   "outputs": [
    {
     "data": {
      "text/plain": [
       "Intercept                              8.165656\n",
       "C(treatment)[T.High]                  -0.778370\n",
       "C(treatment)[T.Low]                   -0.387161\n",
       "C(sex, Treatment('Male'))[T.Female]   -0.359242\n",
       "litsize                               -0.119568\n",
       "litter Var                             0.395468\n",
       "litter x C(sex)[T.Male] Cov            0.175758\n",
       "C(sex)[T.Male] Var                     0.080040\n",
       "dtype: float64"
      ]
     },
     "execution_count": 20,
     "metadata": {},
     "output_type": "execute_result"
    }
   ],
   "source": [
    "ris_model.params"
   ]
  },
  {
   "cell_type": "markdown",
   "id": "65861e9a-e546-4cd2-b13d-0e6d223151dd",
   "metadata": {},
   "source": [
    "For the MERF model using random forest to model the fixed effects, these are the feature importances of the fixed effects. You simply reference the random forest model and the `feature_importances_` attribute. Litter size is apparently the most important feature for the fixed effects."
   ]
  },
  {
   "cell_type": "code",
   "execution_count": 21,
   "id": "92a2864b-7b63-4f49-adbe-9b9c30f2c523",
   "metadata": {},
   "outputs": [
    {
     "data": {
      "text/plain": [
       "litsize      0.558371\n",
       "treatment    0.331581\n",
       "sex          0.110048\n",
       "dtype: float64"
      ]
     },
     "execution_count": 21,
     "metadata": {},
     "output_type": "execute_result"
    }
   ],
   "source": [
    "pd.Series(merf.fe_model.feature_importances_, X.columns)"
   ]
  },
  {
   "cell_type": "markdown",
   "id": "44a1fda9-aa62-47db-b111-215b4bdb1636",
   "metadata": {},
   "source": [
    "To look at the influence at the group level (litter), print out the `trained_b`. The nomenclature for MERF is to use $b$ for the random effect coefficients (as opposed to LMER, which uses $u$ for the random effect coefficients and $b$ for the fixed effect coefficients). Do not let this cognitive friction confuse you. "
   ]
  },
  {
   "cell_type": "code",
   "execution_count": 22,
   "id": "15f77b0c-0e7d-4f80-bda8-3702c81632be",
   "metadata": {},
   "outputs": [
    {
     "data": {
      "text/html": [
       "<div>\n",
       "<style scoped>\n",
       "    .dataframe tbody tr th:only-of-type {\n",
       "        vertical-align: middle;\n",
       "    }\n",
       "\n",
       "    .dataframe tbody tr th {\n",
       "        vertical-align: top;\n",
       "    }\n",
       "\n",
       "    .dataframe thead th {\n",
       "        text-align: right;\n",
       "    }\n",
       "</style>\n",
       "<table border=\"1\" class=\"dataframe\">\n",
       "  <thead>\n",
       "    <tr style=\"text-align: right;\">\n",
       "      <th></th>\n",
       "      <th>0</th>\n",
       "    </tr>\n",
       "  </thead>\n",
       "  <tbody>\n",
       "    <tr>\n",
       "      <th>1</th>\n",
       "      <td>-0.013010</td>\n",
       "    </tr>\n",
       "    <tr>\n",
       "      <th>2</th>\n",
       "      <td>-0.003138</td>\n",
       "    </tr>\n",
       "    <tr>\n",
       "      <th>3</th>\n",
       "      <td>0.000726</td>\n",
       "    </tr>\n",
       "    <tr>\n",
       "      <th>4</th>\n",
       "      <td>0.002064</td>\n",
       "    </tr>\n",
       "    <tr>\n",
       "      <th>5</th>\n",
       "      <td>0.077942</td>\n",
       "    </tr>\n",
       "    <tr>\n",
       "      <th>6</th>\n",
       "      <td>-0.002509</td>\n",
       "    </tr>\n",
       "    <tr>\n",
       "      <th>7</th>\n",
       "      <td>-0.039926</td>\n",
       "    </tr>\n",
       "    <tr>\n",
       "      <th>8</th>\n",
       "      <td>0.211264</td>\n",
       "    </tr>\n",
       "    <tr>\n",
       "      <th>9</th>\n",
       "      <td>-0.186452</td>\n",
       "    </tr>\n",
       "    <tr>\n",
       "      <th>10</th>\n",
       "      <td>-0.147620</td>\n",
       "    </tr>\n",
       "    <tr>\n",
       "      <th>11</th>\n",
       "      <td>-0.112385</td>\n",
       "    </tr>\n",
       "    <tr>\n",
       "      <th>12</th>\n",
       "      <td>0.000000</td>\n",
       "    </tr>\n",
       "    <tr>\n",
       "      <th>13</th>\n",
       "      <td>-0.025229</td>\n",
       "    </tr>\n",
       "    <tr>\n",
       "      <th>14</th>\n",
       "      <td>-0.234172</td>\n",
       "    </tr>\n",
       "    <tr>\n",
       "      <th>15</th>\n",
       "      <td>0.006974</td>\n",
       "    </tr>\n",
       "    <tr>\n",
       "      <th>16</th>\n",
       "      <td>-0.011536</td>\n",
       "    </tr>\n",
       "    <tr>\n",
       "      <th>17</th>\n",
       "      <td>-0.010374</td>\n",
       "    </tr>\n",
       "    <tr>\n",
       "      <th>18</th>\n",
       "      <td>0.171552</td>\n",
       "    </tr>\n",
       "    <tr>\n",
       "      <th>19</th>\n",
       "      <td>0.023750</td>\n",
       "    </tr>\n",
       "    <tr>\n",
       "      <th>20</th>\n",
       "      <td>0.109437</td>\n",
       "    </tr>\n",
       "    <tr>\n",
       "      <th>21</th>\n",
       "      <td>0.029966</td>\n",
       "    </tr>\n",
       "    <tr>\n",
       "      <th>22</th>\n",
       "      <td>0.045427</td>\n",
       "    </tr>\n",
       "    <tr>\n",
       "      <th>23</th>\n",
       "      <td>0.045619</td>\n",
       "    </tr>\n",
       "    <tr>\n",
       "      <th>24</th>\n",
       "      <td>0.008777</td>\n",
       "    </tr>\n",
       "    <tr>\n",
       "      <th>25</th>\n",
       "      <td>0.077531</td>\n",
       "    </tr>\n",
       "    <tr>\n",
       "      <th>26</th>\n",
       "      <td>0.053139</td>\n",
       "    </tr>\n",
       "    <tr>\n",
       "      <th>27</th>\n",
       "      <td>-0.108956</td>\n",
       "    </tr>\n",
       "  </tbody>\n",
       "</table>\n",
       "</div>"
      ],
      "text/plain": [
       "           0\n",
       "1  -0.013010\n",
       "2  -0.003138\n",
       "3   0.000726\n",
       "4   0.002064\n",
       "5   0.077942\n",
       "6  -0.002509\n",
       "7  -0.039926\n",
       "8   0.211264\n",
       "9  -0.186452\n",
       "10 -0.147620\n",
       "11 -0.112385\n",
       "12  0.000000\n",
       "13 -0.025229\n",
       "14 -0.234172\n",
       "15  0.006974\n",
       "16 -0.011536\n",
       "17 -0.010374\n",
       "18  0.171552\n",
       "19  0.023750\n",
       "20  0.109437\n",
       "21  0.029966\n",
       "22  0.045427\n",
       "23  0.045619\n",
       "24  0.008777\n",
       "25  0.077531\n",
       "26  0.053139\n",
       "27 -0.108956"
      ]
     },
     "execution_count": 22,
     "metadata": {},
     "output_type": "execute_result"
    }
   ],
   "source": [
    "merf.trained_b.sort_index()"
   ]
  },
  {
   "cell_type": "markdown",
   "id": "475d46b9-eb78-4b61-8b2f-ed4cbde6ab0a",
   "metadata": {},
   "source": [
    "## Validation\n",
    "\n",
    "Let's split the data 70% (training) and 30% (testing) stratified by the litter identifier."
   ]
  },
  {
   "cell_type": "code",
   "execution_count": 60,
   "id": "28f88e90-fcca-4b63-8a99-3798f619357e",
   "metadata": {},
   "outputs": [],
   "source": [
    "from sklearn.model_selection import train_test_split\n",
    "\n",
    "X_tr, X_te, y_tr, y_te = train_test_split(\n",
    "    df[['litsize', 'treatment', 'sex', 'litter']] \\\n",
    "        .assign(\n",
    "            sex=lambda d: d['sex'].map(sex_map),\n",
    "            treatment=lambda d: d['treatment'].map(treatment_map)), \n",
    "    df['weight'], \n",
    "    test_size=0.30, \n",
    "    random_state=37, \n",
    "    shuffle=True,\n",
    "    stratify=df['litter']\n",
    ")\n",
    "\n",
    "Z_tr = X_tr[['sex']]\n",
    "Z_te = X_te[['sex']]\n",
    "\n",
    "C_tr = X_tr['litter']\n",
    "C_te = X_te['litter']\n",
    "\n",
    "X_tr = X_tr.drop(columns=['litter'])\n",
    "X_te = X_te.drop(columns=['litter'])"
   ]
  },
  {
   "cell_type": "code",
   "execution_count": 61,
   "id": "0b6e875c-7b17-4bc7-9089-c4c2b8f664fe",
   "metadata": {},
   "outputs": [
    {
     "data": {
      "text/plain": [
       "((225, 3), (225, 1), (225,), (225,))"
      ]
     },
     "execution_count": 61,
     "metadata": {},
     "output_type": "execute_result"
    }
   ],
   "source": [
    "X_tr.shape, Z_tr.shape, C_tr.shape, y_tr.shape"
   ]
  },
  {
   "cell_type": "code",
   "execution_count": 62,
   "id": "6ec9610d-8803-427e-8783-5a822d7fc66f",
   "metadata": {},
   "outputs": [
    {
     "data": {
      "text/plain": [
       "((97, 3), (97, 1), (97,), (97,))"
      ]
     },
     "execution_count": 62,
     "metadata": {},
     "output_type": "execute_result"
    }
   ],
   "source": [
    "X_te.shape, Z_te.shape, C_te.shape, y_te.shape"
   ]
  },
  {
   "cell_type": "markdown",
   "id": "7ef2c9dd-d913-49df-84ad-b5214ed5a61d",
   "metadata": {},
   "source": [
    "Let's make sure the proportions of litters in the training and testing folds are preserved."
   ]
  },
  {
   "cell_type": "code",
   "execution_count": 69,
   "id": "45d810d5-ce2f-46dc-91f9-d83be238233f",
   "metadata": {},
   "outputs": [
    {
     "data": {
      "text/html": [
       "<div>\n",
       "<style scoped>\n",
       "    .dataframe tbody tr th:only-of-type {\n",
       "        vertical-align: middle;\n",
       "    }\n",
       "\n",
       "    .dataframe tbody tr th {\n",
       "        vertical-align: top;\n",
       "    }\n",
       "\n",
       "    .dataframe thead th {\n",
       "        text-align: right;\n",
       "    }\n",
       "</style>\n",
       "<table border=\"1\" class=\"dataframe\">\n",
       "  <thead>\n",
       "    <tr style=\"text-align: right;\">\n",
       "      <th></th>\n",
       "      <th>X</th>\n",
       "      <th>X_tr</th>\n",
       "      <th>X_te</th>\n",
       "    </tr>\n",
       "  </thead>\n",
       "  <tbody>\n",
       "    <tr>\n",
       "      <th>1</th>\n",
       "      <td>0.037267</td>\n",
       "      <td>0.035556</td>\n",
       "      <td>0.041237</td>\n",
       "    </tr>\n",
       "    <tr>\n",
       "      <th>2</th>\n",
       "      <td>0.043478</td>\n",
       "      <td>0.044444</td>\n",
       "      <td>0.041237</td>\n",
       "    </tr>\n",
       "    <tr>\n",
       "      <th>3</th>\n",
       "      <td>0.012422</td>\n",
       "      <td>0.013333</td>\n",
       "      <td>0.010309</td>\n",
       "    </tr>\n",
       "    <tr>\n",
       "      <th>4</th>\n",
       "      <td>0.043478</td>\n",
       "      <td>0.044444</td>\n",
       "      <td>0.041237</td>\n",
       "    </tr>\n",
       "    <tr>\n",
       "      <th>5</th>\n",
       "      <td>0.040373</td>\n",
       "      <td>0.040000</td>\n",
       "      <td>0.041237</td>\n",
       "    </tr>\n",
       "    <tr>\n",
       "      <th>6</th>\n",
       "      <td>0.027950</td>\n",
       "      <td>0.026667</td>\n",
       "      <td>0.030928</td>\n",
       "    </tr>\n",
       "    <tr>\n",
       "      <th>7</th>\n",
       "      <td>0.055901</td>\n",
       "      <td>0.057778</td>\n",
       "      <td>0.051546</td>\n",
       "    </tr>\n",
       "    <tr>\n",
       "      <th>8</th>\n",
       "      <td>0.052795</td>\n",
       "      <td>0.053333</td>\n",
       "      <td>0.051546</td>\n",
       "    </tr>\n",
       "    <tr>\n",
       "      <th>9</th>\n",
       "      <td>0.052795</td>\n",
       "      <td>0.053333</td>\n",
       "      <td>0.051546</td>\n",
       "    </tr>\n",
       "    <tr>\n",
       "      <th>10</th>\n",
       "      <td>0.040373</td>\n",
       "      <td>0.040000</td>\n",
       "      <td>0.041237</td>\n",
       "    </tr>\n",
       "    <tr>\n",
       "      <th>11</th>\n",
       "      <td>0.049689</td>\n",
       "      <td>0.048889</td>\n",
       "      <td>0.051546</td>\n",
       "    </tr>\n",
       "    <tr>\n",
       "      <th>12</th>\n",
       "      <td>0.006211</td>\n",
       "      <td>0.004444</td>\n",
       "      <td>0.010309</td>\n",
       "    </tr>\n",
       "    <tr>\n",
       "      <th>13</th>\n",
       "      <td>0.037267</td>\n",
       "      <td>0.035556</td>\n",
       "      <td>0.041237</td>\n",
       "    </tr>\n",
       "    <tr>\n",
       "      <th>14</th>\n",
       "      <td>0.046584</td>\n",
       "      <td>0.048889</td>\n",
       "      <td>0.041237</td>\n",
       "    </tr>\n",
       "    <tr>\n",
       "      <th>15</th>\n",
       "      <td>0.040373</td>\n",
       "      <td>0.040000</td>\n",
       "      <td>0.041237</td>\n",
       "    </tr>\n",
       "    <tr>\n",
       "      <th>16</th>\n",
       "      <td>0.040373</td>\n",
       "      <td>0.040000</td>\n",
       "      <td>0.041237</td>\n",
       "    </tr>\n",
       "    <tr>\n",
       "      <th>17</th>\n",
       "      <td>0.043478</td>\n",
       "      <td>0.044444</td>\n",
       "      <td>0.041237</td>\n",
       "    </tr>\n",
       "    <tr>\n",
       "      <th>18</th>\n",
       "      <td>0.046584</td>\n",
       "      <td>0.048889</td>\n",
       "      <td>0.041237</td>\n",
       "    </tr>\n",
       "    <tr>\n",
       "      <th>19</th>\n",
       "      <td>0.031056</td>\n",
       "      <td>0.031111</td>\n",
       "      <td>0.030928</td>\n",
       "    </tr>\n",
       "    <tr>\n",
       "      <th>20</th>\n",
       "      <td>0.049689</td>\n",
       "      <td>0.048889</td>\n",
       "      <td>0.051546</td>\n",
       "    </tr>\n",
       "    <tr>\n",
       "      <th>21</th>\n",
       "      <td>0.043478</td>\n",
       "      <td>0.044444</td>\n",
       "      <td>0.041237</td>\n",
       "    </tr>\n",
       "    <tr>\n",
       "      <th>22</th>\n",
       "      <td>0.031056</td>\n",
       "      <td>0.031111</td>\n",
       "      <td>0.030928</td>\n",
       "    </tr>\n",
       "    <tr>\n",
       "      <th>23</th>\n",
       "      <td>0.009317</td>\n",
       "      <td>0.008889</td>\n",
       "      <td>0.010309</td>\n",
       "    </tr>\n",
       "    <tr>\n",
       "      <th>24</th>\n",
       "      <td>0.037267</td>\n",
       "      <td>0.035556</td>\n",
       "      <td>0.041237</td>\n",
       "    </tr>\n",
       "    <tr>\n",
       "      <th>25</th>\n",
       "      <td>0.024845</td>\n",
       "      <td>0.026667</td>\n",
       "      <td>0.020619</td>\n",
       "    </tr>\n",
       "    <tr>\n",
       "      <th>26</th>\n",
       "      <td>0.027950</td>\n",
       "      <td>0.026667</td>\n",
       "      <td>0.030928</td>\n",
       "    </tr>\n",
       "    <tr>\n",
       "      <th>27</th>\n",
       "      <td>0.027950</td>\n",
       "      <td>0.026667</td>\n",
       "      <td>0.030928</td>\n",
       "    </tr>\n",
       "  </tbody>\n",
       "</table>\n",
       "</div>"
      ],
      "text/plain": [
       "           X      X_tr      X_te\n",
       "1   0.037267  0.035556  0.041237\n",
       "2   0.043478  0.044444  0.041237\n",
       "3   0.012422  0.013333  0.010309\n",
       "4   0.043478  0.044444  0.041237\n",
       "5   0.040373  0.040000  0.041237\n",
       "6   0.027950  0.026667  0.030928\n",
       "7   0.055901  0.057778  0.051546\n",
       "8   0.052795  0.053333  0.051546\n",
       "9   0.052795  0.053333  0.051546\n",
       "10  0.040373  0.040000  0.041237\n",
       "11  0.049689  0.048889  0.051546\n",
       "12  0.006211  0.004444  0.010309\n",
       "13  0.037267  0.035556  0.041237\n",
       "14  0.046584  0.048889  0.041237\n",
       "15  0.040373  0.040000  0.041237\n",
       "16  0.040373  0.040000  0.041237\n",
       "17  0.043478  0.044444  0.041237\n",
       "18  0.046584  0.048889  0.041237\n",
       "19  0.031056  0.031111  0.030928\n",
       "20  0.049689  0.048889  0.051546\n",
       "21  0.043478  0.044444  0.041237\n",
       "22  0.031056  0.031111  0.030928\n",
       "23  0.009317  0.008889  0.010309\n",
       "24  0.037267  0.035556  0.041237\n",
       "25  0.024845  0.026667  0.020619\n",
       "26  0.027950  0.026667  0.030928\n",
       "27  0.027950  0.026667  0.030928"
      ]
     },
     "execution_count": 69,
     "metadata": {},
     "output_type": "execute_result"
    }
   ],
   "source": [
    "s1 = df['litter'].value_counts().sort_index()\n",
    "s2 = C_tr.value_counts().sort_index()\n",
    "s3 = C_te.value_counts().sort_index()\n",
    "\n",
    "p1 = s1 / s1.sum()\n",
    "p2 = s2 / s2.sum()\n",
    "p3 = s3 / s3.sum()\n",
    "\n",
    "pd.DataFrame([p1, p2, p3], index=['X', 'X_tr', 'X_te']).T"
   ]
  },
  {
   "cell_type": "markdown",
   "id": "b6d5ebf5-7cb9-454f-8b98-c3016138227c",
   "metadata": {},
   "source": [
    "Now let's validate."
   ]
  },
  {
   "cell_type": "code",
   "execution_count": 72,
   "id": "4fde6121-48ef-47e4-9a16-8dd0d2752fe0",
   "metadata": {},
   "outputs": [
    {
     "name": "stderr",
     "output_type": "stream",
     "text": [
      "INFO     [merf.py:307] Training GLL is -241.69649293327376 at iteration 1.\n",
      "INFO     [merf.py:307] Training GLL is -286.11740133632026 at iteration 2.\n",
      "INFO     [merf.py:307] Training GLL is -295.49781890130924 at iteration 3.\n",
      "INFO     [merf.py:307] Training GLL is -300.5394268800354 at iteration 4.\n",
      "INFO     [merf.py:307] Training GLL is -303.881513426677 at iteration 5.\n",
      "INFO     [merf.py:307] Training GLL is -306.11984582945183 at iteration 6.\n",
      "INFO     [merf.py:307] Training GLL is -307.9731073008684 at iteration 7.\n",
      "INFO     [merf.py:307] Training GLL is -309.2839553256728 at iteration 8.\n",
      "INFO     [merf.py:307] Training GLL is -310.34791724450554 at iteration 9.\n",
      "INFO     [merf.py:307] Training GLL is -311.1151258488934 at iteration 10.\n",
      "INFO     [merf.py:307] Training GLL is -311.7811932910758 at iteration 11.\n",
      "INFO     [merf.py:307] Training GLL is -312.2844557199853 at iteration 12.\n",
      "INFO     [merf.py:307] Training GLL is -312.67471304477255 at iteration 13.\n",
      "INFO     [merf.py:307] Training GLL is -312.93907731918256 at iteration 14.\n",
      "INFO     [merf.py:307] Training GLL is -313.26082011051926 at iteration 15.\n",
      "INFO     [merf.py:307] Training GLL is -313.4822415902106 at iteration 16.\n",
      "INFO     [merf.py:307] Training GLL is -313.66794283765677 at iteration 17.\n",
      "INFO     [merf.py:307] Training GLL is -313.8245804708934 at iteration 18.\n",
      "INFO     [merf.py:307] Training GLL is -313.95708548909306 at iteration 19.\n",
      "INFO     [merf.py:307] Training GLL is -314.11774594780064 at iteration 20.\n"
     ]
    },
    {
     "data": {
      "text/html": [
       "<div>\n",
       "<style scoped>\n",
       "    .dataframe tbody tr th:only-of-type {\n",
       "        vertical-align: middle;\n",
       "    }\n",
       "\n",
       "    .dataframe tbody tr th {\n",
       "        vertical-align: top;\n",
       "    }\n",
       "\n",
       "    .dataframe thead th {\n",
       "        text-align: right;\n",
       "    }\n",
       "</style>\n",
       "<table border=\"1\" class=\"dataframe\">\n",
       "  <thead>\n",
       "    <tr style=\"text-align: right;\">\n",
       "      <th></th>\n",
       "      <th>tr</th>\n",
       "      <th>te</th>\n",
       "    </tr>\n",
       "  </thead>\n",
       "  <tbody>\n",
       "    <tr>\n",
       "      <th>mae</th>\n",
       "      <td>0.265837</td>\n",
       "      <td>0.328698</td>\n",
       "    </tr>\n",
       "    <tr>\n",
       "      <th>rmse</th>\n",
       "      <td>0.366546</td>\n",
       "      <td>0.426194</td>\n",
       "    </tr>\n",
       "    <tr>\n",
       "      <th>mape</th>\n",
       "      <td>0.044403</td>\n",
       "      <td>0.054894</td>\n",
       "    </tr>\n",
       "    <tr>\n",
       "      <th>r-sq</th>\n",
       "      <td>0.681957</td>\n",
       "      <td>0.553932</td>\n",
       "    </tr>\n",
       "  </tbody>\n",
       "</table>\n",
       "</div>"
      ],
      "text/plain": [
       "            tr        te\n",
       "mae   0.265837  0.328698\n",
       "rmse  0.366546  0.426194\n",
       "mape  0.044403  0.054894\n",
       "r-sq  0.681957  0.553932"
      ]
     },
     "execution_count": 72,
     "metadata": {},
     "output_type": "execute_result"
    }
   ],
   "source": [
    "def get_model():\n",
    "    model = MERF(\n",
    "        fixed_effects_model=RandomForestRegressor(n_estimators=30, n_jobs=-1, random_state=37),\n",
    "        max_iterations=20\n",
    "    )\n",
    "    return model\n",
    "\n",
    "def learn(X_tr, Z_tr, C_tr, y_tr):\n",
    "    model = get_model()\n",
    "    model.fit(X_tr, Z_tr, C_tr, y_tr)\n",
    "    \n",
    "    return model\n",
    "\n",
    "def get_results(X_tr, Z_tr, C_tr, y_tr, X_te, Z_te, C_te, y_te):\n",
    "    model = learn(X_tr, Z_tr, C_tr, y_tr)\n",
    "    \n",
    "    perf_tr = get_performance(model, X_tr, y_tr, Z_tr, C_tr)\n",
    "    perf_te = get_performance(model, X_te, y_te, Z_te, C_te)\n",
    "    \n",
    "    return pd.DataFrame([perf_tr, perf_te], index=['tr', 'te']).drop(columns=['log-likelihood']).T\n",
    "\n",
    "get_results(X_tr, Z_tr, C_tr, y_tr, X_te, Z_te, C_te, y_te)"
   ]
  },
  {
   "cell_type": "markdown",
   "id": "03eb50aa-6168-4ba5-8037-a9c33244b222",
   "metadata": {},
   "source": [
    "The validated MERF performance is still pretty good."
   ]
  }
 ],
 "metadata": {
  "kernelspec": {
   "display_name": "Python 3 (ipykernel)",
   "language": "python",
   "name": "python3"
  },
  "language_info": {
   "codemirror_mode": {
    "name": "ipython",
    "version": 3
   },
   "file_extension": ".py",
   "mimetype": "text/x-python",
   "name": "python",
   "nbconvert_exporter": "python",
   "pygments_lexer": "ipython3",
   "version": "3.9.16"
  },
  "widgets": {
   "application/vnd.jupyter.widget-state+json": {
    "state": {},
    "version_major": 2,
    "version_minor": 0
   }
  }
 },
 "nbformat": 4,
 "nbformat_minor": 5
}
