{
 "cells": [
  {
   "cell_type": "markdown",
   "id": "forbidden-questionnaire",
   "metadata": {},
   "source": [
    "# Massey's Method\n",
    "\n",
    "Massey's Method refers to Kenneth Massey's method for ranking sport teams. Denote the following.\n",
    "\n",
    "- $n$ is the number of teams\n",
    "- $m$ is the number games played (only 2 teams can play in a game)\n",
    "- $X$ is a $n$ x $m$ matrix where columns corresponding to teams and rows correspond to games\n",
    "  - Each row of $X$ is sparse (mostly zeros)\n",
    "  - For each row, 1 is placed in the column corresponding to the winning team\n",
    "  - For each row, -1 is placed in the column corresponding to the losing team\n",
    "- $r$ is a $n$ x 1 vector corresponding to the `rating` of each team\n",
    "  - $r$ is what will be estimated \n",
    "- $y$ is a $n$ x 1 vector corresponding to the margins of victory\n",
    "\n",
    "Then, we are trying to solve\n",
    "\n",
    "$Xr = y$\n",
    "\n",
    "Futhermore, denote coefficient matrix $M$ as $M = X^TX$. Thus, $M$ will be $n$ x $n$ and \n",
    "\n",
    "- the diagonal elements $M_{ii}$ of $M$ will be the number of games played by the i-th team,\n",
    "- the off-diagonal elements $M_{ij}$ will be the negation of the number of times the i-th team played the j-th team.\n",
    "\n",
    "Instead of solving $Xr = y$, then we can solve the following,\n",
    "\n",
    "$Mr = p$,\n",
    "\n",
    "where $p = X^Ty$."
   ]
  },
  {
   "cell_type": "markdown",
   "id": "handled-backing",
   "metadata": {},
   "source": [
    "## Data\n",
    "\n",
    "Let's illustrate Massey's Method using data from the NCAAF ACC conference for the year 2005. Below, `t1` and `t2` are the 2 teams playing and `s1` and `s2` are the scores corresponding to `t1` and `t2`. There is no information on who was at home or away."
   ]
  },
  {
   "cell_type": "code",
   "execution_count": 1,
   "id": "medium-gospel",
   "metadata": {
    "execution": {
     "iopub.status.idle": "2021-12-09T14:11:51.525536Z",
     "shell.execute_reply": "2021-12-09T14:11:51.525136Z",
     "shell.execute_reply.started": "2021-12-09T14:11:51.372466Z"
    }
   },
   "outputs": [
    {
     "data": {
      "text/html": [
       "<div>\n",
       "<style scoped>\n",
       "    .dataframe tbody tr th:only-of-type {\n",
       "        vertical-align: middle;\n",
       "    }\n",
       "\n",
       "    .dataframe tbody tr th {\n",
       "        vertical-align: top;\n",
       "    }\n",
       "\n",
       "    .dataframe thead th {\n",
       "        text-align: right;\n",
       "    }\n",
       "</style>\n",
       "<table border=\"1\" class=\"dataframe\">\n",
       "  <thead>\n",
       "    <tr style=\"text-align: right;\">\n",
       "      <th></th>\n",
       "      <th>t1</th>\n",
       "      <th>t2</th>\n",
       "      <th>s1</th>\n",
       "      <th>s2</th>\n",
       "    </tr>\n",
       "  </thead>\n",
       "  <tbody>\n",
       "    <tr>\n",
       "      <th>0</th>\n",
       "      <td>Duke</td>\n",
       "      <td>Miami</td>\n",
       "      <td>7</td>\n",
       "      <td>52</td>\n",
       "    </tr>\n",
       "    <tr>\n",
       "      <th>1</th>\n",
       "      <td>Duke</td>\n",
       "      <td>UNC</td>\n",
       "      <td>21</td>\n",
       "      <td>24</td>\n",
       "    </tr>\n",
       "    <tr>\n",
       "      <th>2</th>\n",
       "      <td>Duke</td>\n",
       "      <td>UVA</td>\n",
       "      <td>7</td>\n",
       "      <td>38</td>\n",
       "    </tr>\n",
       "    <tr>\n",
       "      <th>3</th>\n",
       "      <td>Duke</td>\n",
       "      <td>VT</td>\n",
       "      <td>0</td>\n",
       "      <td>45</td>\n",
       "    </tr>\n",
       "    <tr>\n",
       "      <th>4</th>\n",
       "      <td>Miami</td>\n",
       "      <td>UNC</td>\n",
       "      <td>34</td>\n",
       "      <td>16</td>\n",
       "    </tr>\n",
       "    <tr>\n",
       "      <th>5</th>\n",
       "      <td>Miami</td>\n",
       "      <td>UVA</td>\n",
       "      <td>25</td>\n",
       "      <td>17</td>\n",
       "    </tr>\n",
       "    <tr>\n",
       "      <th>6</th>\n",
       "      <td>Miami</td>\n",
       "      <td>VT</td>\n",
       "      <td>27</td>\n",
       "      <td>7</td>\n",
       "    </tr>\n",
       "    <tr>\n",
       "      <th>7</th>\n",
       "      <td>UNC</td>\n",
       "      <td>UVA</td>\n",
       "      <td>7</td>\n",
       "      <td>5</td>\n",
       "    </tr>\n",
       "    <tr>\n",
       "      <th>8</th>\n",
       "      <td>UNC</td>\n",
       "      <td>VT</td>\n",
       "      <td>3</td>\n",
       "      <td>30</td>\n",
       "    </tr>\n",
       "    <tr>\n",
       "      <th>9</th>\n",
       "      <td>UVA</td>\n",
       "      <td>VT</td>\n",
       "      <td>14</td>\n",
       "      <td>52</td>\n",
       "    </tr>\n",
       "  </tbody>\n",
       "</table>\n",
       "</div>"
      ],
      "text/plain": [
       "      t1     t2  s1  s2\n",
       "0   Duke  Miami   7  52\n",
       "1   Duke    UNC  21  24\n",
       "2   Duke    UVA   7  38\n",
       "3   Duke     VT   0  45\n",
       "4  Miami    UNC  34  16\n",
       "5  Miami    UVA  25  17\n",
       "6  Miami     VT  27   7\n",
       "7    UNC    UVA   7   5\n",
       "8    UNC     VT   3  30\n",
       "9    UVA     VT  14  52"
      ]
     },
     "execution_count": 1,
     "metadata": {},
     "output_type": "execute_result"
    }
   ],
   "source": [
    "import pandas as pd\n",
    "\n",
    "f_df = pd.read_csv('./ranking/acc-2005-ncaaf.csv')\n",
    "f_df"
   ]
  },
  {
   "cell_type": "markdown",
   "id": "mature-villa",
   "metadata": {},
   "source": [
    "We can swap the teams and scores and get a view like the following."
   ]
  },
  {
   "cell_type": "code",
   "execution_count": 2,
   "id": "identical-metallic",
   "metadata": {
    "execution": {
     "iopub.execute_input": "2021-12-09T14:11:51.526277Z",
     "iopub.status.busy": "2021-12-09T14:11:51.526174Z",
     "iopub.status.idle": "2021-12-09T14:11:51.541523Z",
     "shell.execute_reply": "2021-12-09T14:11:51.541112Z",
     "shell.execute_reply.started": "2021-12-09T14:11:51.526264Z"
    }
   },
   "outputs": [
    {
     "data": {
      "text/html": [
       "<div>\n",
       "<style scoped>\n",
       "    .dataframe tbody tr th:only-of-type {\n",
       "        vertical-align: middle;\n",
       "    }\n",
       "\n",
       "    .dataframe tbody tr th {\n",
       "        vertical-align: top;\n",
       "    }\n",
       "\n",
       "    .dataframe thead th {\n",
       "        text-align: right;\n",
       "    }\n",
       "</style>\n",
       "<table border=\"1\" class=\"dataframe\">\n",
       "  <thead>\n",
       "    <tr style=\"text-align: right;\">\n",
       "      <th></th>\n",
       "      <th>t1</th>\n",
       "      <th>t2</th>\n",
       "      <th>s1</th>\n",
       "      <th>s2</th>\n",
       "      <th>differential</th>\n",
       "    </tr>\n",
       "  </thead>\n",
       "  <tbody>\n",
       "    <tr>\n",
       "      <th>0</th>\n",
       "      <td>Duke</td>\n",
       "      <td>Miami</td>\n",
       "      <td>7</td>\n",
       "      <td>52</td>\n",
       "      <td>-45</td>\n",
       "    </tr>\n",
       "    <tr>\n",
       "      <th>1</th>\n",
       "      <td>Duke</td>\n",
       "      <td>UNC</td>\n",
       "      <td>21</td>\n",
       "      <td>24</td>\n",
       "      <td>-3</td>\n",
       "    </tr>\n",
       "    <tr>\n",
       "      <th>2</th>\n",
       "      <td>Duke</td>\n",
       "      <td>UVA</td>\n",
       "      <td>7</td>\n",
       "      <td>38</td>\n",
       "      <td>-31</td>\n",
       "    </tr>\n",
       "    <tr>\n",
       "      <th>3</th>\n",
       "      <td>Duke</td>\n",
       "      <td>VT</td>\n",
       "      <td>0</td>\n",
       "      <td>45</td>\n",
       "      <td>-45</td>\n",
       "    </tr>\n",
       "    <tr>\n",
       "      <th>10</th>\n",
       "      <td>Miami</td>\n",
       "      <td>Duke</td>\n",
       "      <td>52</td>\n",
       "      <td>7</td>\n",
       "      <td>45</td>\n",
       "    </tr>\n",
       "    <tr>\n",
       "      <th>4</th>\n",
       "      <td>Miami</td>\n",
       "      <td>UNC</td>\n",
       "      <td>34</td>\n",
       "      <td>16</td>\n",
       "      <td>18</td>\n",
       "    </tr>\n",
       "    <tr>\n",
       "      <th>5</th>\n",
       "      <td>Miami</td>\n",
       "      <td>UVA</td>\n",
       "      <td>25</td>\n",
       "      <td>17</td>\n",
       "      <td>8</td>\n",
       "    </tr>\n",
       "    <tr>\n",
       "      <th>6</th>\n",
       "      <td>Miami</td>\n",
       "      <td>VT</td>\n",
       "      <td>27</td>\n",
       "      <td>7</td>\n",
       "      <td>20</td>\n",
       "    </tr>\n",
       "    <tr>\n",
       "      <th>11</th>\n",
       "      <td>UNC</td>\n",
       "      <td>Duke</td>\n",
       "      <td>24</td>\n",
       "      <td>21</td>\n",
       "      <td>3</td>\n",
       "    </tr>\n",
       "    <tr>\n",
       "      <th>14</th>\n",
       "      <td>UNC</td>\n",
       "      <td>Miami</td>\n",
       "      <td>16</td>\n",
       "      <td>34</td>\n",
       "      <td>-18</td>\n",
       "    </tr>\n",
       "    <tr>\n",
       "      <th>7</th>\n",
       "      <td>UNC</td>\n",
       "      <td>UVA</td>\n",
       "      <td>7</td>\n",
       "      <td>5</td>\n",
       "      <td>2</td>\n",
       "    </tr>\n",
       "    <tr>\n",
       "      <th>8</th>\n",
       "      <td>UNC</td>\n",
       "      <td>VT</td>\n",
       "      <td>3</td>\n",
       "      <td>30</td>\n",
       "      <td>-27</td>\n",
       "    </tr>\n",
       "    <tr>\n",
       "      <th>12</th>\n",
       "      <td>UVA</td>\n",
       "      <td>Duke</td>\n",
       "      <td>38</td>\n",
       "      <td>7</td>\n",
       "      <td>31</td>\n",
       "    </tr>\n",
       "    <tr>\n",
       "      <th>15</th>\n",
       "      <td>UVA</td>\n",
       "      <td>Miami</td>\n",
       "      <td>17</td>\n",
       "      <td>25</td>\n",
       "      <td>-8</td>\n",
       "    </tr>\n",
       "    <tr>\n",
       "      <th>17</th>\n",
       "      <td>UVA</td>\n",
       "      <td>UNC</td>\n",
       "      <td>5</td>\n",
       "      <td>7</td>\n",
       "      <td>-2</td>\n",
       "    </tr>\n",
       "    <tr>\n",
       "      <th>9</th>\n",
       "      <td>UVA</td>\n",
       "      <td>VT</td>\n",
       "      <td>14</td>\n",
       "      <td>52</td>\n",
       "      <td>-38</td>\n",
       "    </tr>\n",
       "    <tr>\n",
       "      <th>13</th>\n",
       "      <td>VT</td>\n",
       "      <td>Duke</td>\n",
       "      <td>45</td>\n",
       "      <td>0</td>\n",
       "      <td>45</td>\n",
       "    </tr>\n",
       "    <tr>\n",
       "      <th>16</th>\n",
       "      <td>VT</td>\n",
       "      <td>Miami</td>\n",
       "      <td>7</td>\n",
       "      <td>27</td>\n",
       "      <td>-20</td>\n",
       "    </tr>\n",
       "    <tr>\n",
       "      <th>18</th>\n",
       "      <td>VT</td>\n",
       "      <td>UNC</td>\n",
       "      <td>30</td>\n",
       "      <td>3</td>\n",
       "      <td>27</td>\n",
       "    </tr>\n",
       "    <tr>\n",
       "      <th>19</th>\n",
       "      <td>VT</td>\n",
       "      <td>UVA</td>\n",
       "      <td>52</td>\n",
       "      <td>14</td>\n",
       "      <td>38</td>\n",
       "    </tr>\n",
       "  </tbody>\n",
       "</table>\n",
       "</div>"
      ],
      "text/plain": [
       "       t1     t2  s1  s2  differential\n",
       "0    Duke  Miami   7  52           -45\n",
       "1    Duke    UNC  21  24            -3\n",
       "2    Duke    UVA   7  38           -31\n",
       "3    Duke     VT   0  45           -45\n",
       "10  Miami   Duke  52   7            45\n",
       "4   Miami    UNC  34  16            18\n",
       "5   Miami    UVA  25  17             8\n",
       "6   Miami     VT  27   7            20\n",
       "11    UNC   Duke  24  21             3\n",
       "14    UNC  Miami  16  34           -18\n",
       "7     UNC    UVA   7   5             2\n",
       "8     UNC     VT   3  30           -27\n",
       "12    UVA   Duke  38   7            31\n",
       "15    UVA  Miami  17  25            -8\n",
       "17    UVA    UNC   5   7            -2\n",
       "9     UVA     VT  14  52           -38\n",
       "13     VT   Duke  45   0            45\n",
       "16     VT  Miami   7  27           -20\n",
       "18     VT    UNC  30   3            27\n",
       "19     VT    UVA  52  14            38"
      ]
     },
     "execution_count": 2,
     "metadata": {},
     "output_type": "execute_result"
    }
   ],
   "source": [
    "r_df = pd.DataFrame([{'t1': r.t2, 't2': r.t1, 's1': r.s2, 's2': r.s1} for _, r in f_df.iterrows()])\n",
    "\n",
    "game_df = pd.concat([f_df, r_df]).reset_index(drop=True)\n",
    "game_df['differential'] = game_df.s1 - game_df.s2\n",
    "game_df.sort_values(['t1', 't2'])"
   ]
  },
  {
   "cell_type": "code",
   "execution_count": 3,
   "id": "center-allocation",
   "metadata": {
    "execution": {
     "iopub.execute_input": "2021-12-09T14:11:51.544006Z",
     "iopub.status.busy": "2021-12-09T14:11:51.543901Z",
     "iopub.status.idle": "2021-12-09T14:11:51.988748Z",
     "shell.execute_reply": "2021-12-09T14:11:51.988254Z",
     "shell.execute_reply.started": "2021-12-09T14:11:51.543992Z"
    }
   },
   "outputs": [
    {
     "data": {
      "image/png": "[encoded data removed]",
      "text/plain": [
       "<Figure size 720x288 with 1 Axes>"
      ]
     },
     "metadata": {},
     "output_type": "display_data"
    }
   ],
   "source": [
    "import matplotlib.pyplot as plt\n",
    "import seaborn as sns\n",
    "\n",
    "plt.style.use('ggplot')\n",
    "\n",
    "fig, ax = plt.subplots(figsize=(10, 4))\n",
    "\n",
    "_ = sns.boxplot(x='t1', y='differential', data=game_df, ax=ax)\n",
    "_ = ax.set_title('Box plots of differentials by team')\n",
    "_ = ax.set_xlabel('Team')\n",
    "_ = ax.set_ylabel('Differential')\n",
    "\n",
    "plt.tight_layout()"
   ]
  },
  {
   "cell_type": "markdown",
   "id": "satisfied-aggregate",
   "metadata": {},
   "source": [
    "## Ranking from ratings\n",
    "\n",
    "A $n$ x $n$ matrix of point differential for each team can be created as follows. In the matrix below, UNC \n",
    "\n",
    "- won Duke by 3 points,\n",
    "- lost to Miami by 18 points,\n",
    "- win UVA by 2 points, and\n",
    "- lost to VT by 27 points.\n",
    "\n",
    "When a team wins, the number in this matrix is positive, and when a team loses, the number in this matrix is negative."
   ]
  },
  {
   "cell_type": "code",
   "execution_count": 4,
   "id": "later-journey",
   "metadata": {
    "execution": {
     "iopub.execute_input": "2021-12-09T14:11:51.989707Z",
     "iopub.status.busy": "2021-12-09T14:11:51.989505Z",
     "iopub.status.idle": "2021-12-09T14:11:52.015594Z",
     "shell.execute_reply": "2021-12-09T14:11:52.015141Z",
     "shell.execute_reply.started": "2021-12-09T14:11:51.989684Z"
    }
   },
   "outputs": [
    {
     "data": {
      "text/html": [
       "<div>\n",
       "<style scoped>\n",
       "    .dataframe tbody tr th:only-of-type {\n",
       "        vertical-align: middle;\n",
       "    }\n",
       "\n",
       "    .dataframe tbody tr th {\n",
       "        vertical-align: top;\n",
       "    }\n",
       "\n",
       "    .dataframe thead th {\n",
       "        text-align: right;\n",
       "    }\n",
       "</style>\n",
       "<table border=\"1\" class=\"dataframe\">\n",
       "  <thead>\n",
       "    <tr style=\"text-align: right;\">\n",
       "      <th></th>\n",
       "      <th>Duke</th>\n",
       "      <th>Miami</th>\n",
       "      <th>UNC</th>\n",
       "      <th>UVA</th>\n",
       "      <th>VT</th>\n",
       "    </tr>\n",
       "  </thead>\n",
       "  <tbody>\n",
       "    <tr>\n",
       "      <th>Duke</th>\n",
       "      <td>NaN</td>\n",
       "      <td>-45.0</td>\n",
       "      <td>-3.0</td>\n",
       "      <td>-31.0</td>\n",
       "      <td>-45.0</td>\n",
       "    </tr>\n",
       "    <tr>\n",
       "      <th>Miami</th>\n",
       "      <td>45.0</td>\n",
       "      <td>NaN</td>\n",
       "      <td>18.0</td>\n",
       "      <td>8.0</td>\n",
       "      <td>20.0</td>\n",
       "    </tr>\n",
       "    <tr>\n",
       "      <th>UNC</th>\n",
       "      <td>3.0</td>\n",
       "      <td>-18.0</td>\n",
       "      <td>NaN</td>\n",
       "      <td>2.0</td>\n",
       "      <td>-27.0</td>\n",
       "    </tr>\n",
       "    <tr>\n",
       "      <th>UVA</th>\n",
       "      <td>31.0</td>\n",
       "      <td>-8.0</td>\n",
       "      <td>-2.0</td>\n",
       "      <td>NaN</td>\n",
       "      <td>-38.0</td>\n",
       "    </tr>\n",
       "    <tr>\n",
       "      <th>VT</th>\n",
       "      <td>45.0</td>\n",
       "      <td>-20.0</td>\n",
       "      <td>27.0</td>\n",
       "      <td>38.0</td>\n",
       "      <td>NaN</td>\n",
       "    </tr>\n",
       "  </tbody>\n",
       "</table>\n",
       "</div>"
      ],
      "text/plain": [
       "       Duke  Miami   UNC   UVA    VT\n",
       "Duke    NaN  -45.0  -3.0 -31.0 -45.0\n",
       "Miami  45.0    NaN  18.0   8.0  20.0\n",
       "UNC     3.0  -18.0   NaN   2.0 -27.0\n",
       "UVA    31.0   -8.0  -2.0   NaN -38.0\n",
       "VT     45.0  -20.0  27.0  38.0   NaN"
      ]
     },
     "execution_count": 4,
     "metadata": {},
     "output_type": "execute_result"
    }
   ],
   "source": [
    "import numpy as np\n",
    "\n",
    "def get_differential(t1, t2):\n",
    "    if t1 == t2:\n",
    "        return np.nan\n",
    "    s = game_df[(game_df.t1 == t1) & (game_df.t2 == t2)].iloc[0]\n",
    "    return s.s1 - s.s2\n",
    "\n",
    "teams = sorted(list(set(game_df.t1) | set(game_df.t2)))\n",
    "differentials = [[get_differential(t1, t2) for t2 in teams] for t1 in teams]\n",
    "\n",
    "diff_df = pd.DataFrame(differentials, index=teams, columns=teams)\n",
    "diff_df"
   ]
  },
  {
   "cell_type": "markdown",
   "id": "ethical-lemon",
   "metadata": {},
   "source": [
    "From this point differential matrix, we can then compute the total point differential (sum across the columns) and the number of wins (positive scores) and losses (negative scores)."
   ]
  },
  {
   "cell_type": "code",
   "execution_count": 5,
   "id": "accurate-internship",
   "metadata": {
    "execution": {
     "iopub.execute_input": "2021-12-09T14:11:52.016317Z",
     "iopub.status.busy": "2021-12-09T14:11:52.016139Z",
     "iopub.status.idle": "2021-12-09T14:11:52.036429Z",
     "shell.execute_reply": "2021-12-09T14:11:52.036059Z",
     "shell.execute_reply.started": "2021-12-09T14:11:52.016303Z"
    }
   },
   "outputs": [
    {
     "data": {
      "text/html": [
       "<div>\n",
       "<style scoped>\n",
       "    .dataframe tbody tr th:only-of-type {\n",
       "        vertical-align: middle;\n",
       "    }\n",
       "\n",
       "    .dataframe tbody tr th {\n",
       "        vertical-align: top;\n",
       "    }\n",
       "\n",
       "    .dataframe thead th {\n",
       "        text-align: right;\n",
       "    }\n",
       "</style>\n",
       "<table border=\"1\" class=\"dataframe\">\n",
       "  <thead>\n",
       "    <tr style=\"text-align: right;\">\n",
       "      <th></th>\n",
       "      <th>differential</th>\n",
       "      <th>wins</th>\n",
       "      <th>losses</th>\n",
       "    </tr>\n",
       "  </thead>\n",
       "  <tbody>\n",
       "    <tr>\n",
       "      <th>Duke</th>\n",
       "      <td>-124.0</td>\n",
       "      <td>0</td>\n",
       "      <td>4</td>\n",
       "    </tr>\n",
       "    <tr>\n",
       "      <th>Miami</th>\n",
       "      <td>91.0</td>\n",
       "      <td>4</td>\n",
       "      <td>0</td>\n",
       "    </tr>\n",
       "    <tr>\n",
       "      <th>UNC</th>\n",
       "      <td>-40.0</td>\n",
       "      <td>2</td>\n",
       "      <td>2</td>\n",
       "    </tr>\n",
       "    <tr>\n",
       "      <th>UVA</th>\n",
       "      <td>-17.0</td>\n",
       "      <td>1</td>\n",
       "      <td>3</td>\n",
       "    </tr>\n",
       "    <tr>\n",
       "      <th>VT</th>\n",
       "      <td>90.0</td>\n",
       "      <td>3</td>\n",
       "      <td>1</td>\n",
       "    </tr>\n",
       "  </tbody>\n",
       "</table>\n",
       "</div>"
      ],
      "text/plain": [
       "       differential  wins  losses\n",
       "Duke         -124.0     0       4\n",
       "Miami          91.0     4       0\n",
       "UNC           -40.0     2       2\n",
       "UVA           -17.0     1       3\n",
       "VT             90.0     3       1"
      ]
     },
     "execution_count": 5,
     "metadata": {},
     "output_type": "execute_result"
    }
   ],
   "source": [
    "stat_df = pd.DataFrame({\n",
    "    'differential': diff_df.sum(axis=1),\n",
    "    'wins': diff_df.apply(lambda r: len(r[r > 0]), axis=1),\n",
    "    'losses': diff_df.apply(lambda r: len(r[r < 0]), axis=1)\n",
    "})\n",
    "\n",
    "stat_df"
   ]
  },
  {
   "cell_type": "markdown",
   "id": "present-technology",
   "metadata": {},
   "source": [
    "If we let the sum of the point differentials be the ratings, then the ranking produced is as follows where Miami is first and Duke is last."
   ]
  },
  {
   "cell_type": "code",
   "execution_count": 6,
   "id": "coated-navigation",
   "metadata": {
    "execution": {
     "iopub.execute_input": "2021-12-09T14:11:52.037118Z",
     "iopub.status.busy": "2021-12-09T14:11:52.037009Z",
     "iopub.status.idle": "2021-12-09T14:11:52.040964Z",
     "shell.execute_reply": "2021-12-09T14:11:52.040606Z",
     "shell.execute_reply.started": "2021-12-09T14:11:52.037105Z"
    }
   },
   "outputs": [
    {
     "data": {
      "text/plain": [
       "Miami     91.0\n",
       "VT        90.0\n",
       "UVA      -17.0\n",
       "UNC      -40.0\n",
       "Duke    -124.0\n",
       "Name: differential, dtype: float64"
      ]
     },
     "execution_count": 6,
     "metadata": {},
     "output_type": "execute_result"
    }
   ],
   "source": [
    "stat_df.differential.sort_values(ascending=False)"
   ]
  },
  {
   "cell_type": "markdown",
   "id": "entertaining-success",
   "metadata": {},
   "source": [
    "We can also let the number of wins be the ratings, and Miami is still first and Duke is last."
   ]
  },
  {
   "cell_type": "code",
   "execution_count": 7,
   "id": "annoying-seattle",
   "metadata": {
    "execution": {
     "iopub.execute_input": "2021-12-09T14:11:52.041600Z",
     "iopub.status.busy": "2021-12-09T14:11:52.041496Z",
     "iopub.status.idle": "2021-12-09T14:11:52.044739Z",
     "shell.execute_reply": "2021-12-09T14:11:52.044390Z",
     "shell.execute_reply.started": "2021-12-09T14:11:52.041587Z"
    }
   },
   "outputs": [
    {
     "data": {
      "text/plain": [
       "Miami    4\n",
       "VT       3\n",
       "UNC      2\n",
       "UVA      1\n",
       "Duke     0\n",
       "Name: wins, dtype: int64"
      ]
     },
     "execution_count": 7,
     "metadata": {},
     "output_type": "execute_result"
    }
   ],
   "source": [
    "stat_df.wins.sort_values(ascending=False)"
   ]
  },
  {
   "cell_type": "markdown",
   "id": "balanced-flower",
   "metadata": {},
   "source": [
    "Let's compare the ranking by point differential and wins. Notice that the rankings are nearly identical, except that UVA and UNC switch places?"
   ]
  },
  {
   "cell_type": "code",
   "execution_count": 8,
   "id": "adjusted-herald",
   "metadata": {
    "execution": {
     "iopub.execute_input": "2021-12-09T14:11:52.045905Z",
     "iopub.status.busy": "2021-12-09T14:11:52.045802Z",
     "iopub.status.idle": "2021-12-09T14:11:52.051475Z",
     "shell.execute_reply": "2021-12-09T14:11:52.051173Z",
     "shell.execute_reply.started": "2021-12-09T14:11:52.045892Z"
    }
   },
   "outputs": [
    {
     "data": {
      "text/html": [
       "<div>\n",
       "<style scoped>\n",
       "    .dataframe tbody tr th:only-of-type {\n",
       "        vertical-align: middle;\n",
       "    }\n",
       "\n",
       "    .dataframe tbody tr th {\n",
       "        vertical-align: top;\n",
       "    }\n",
       "\n",
       "    .dataframe thead th {\n",
       "        text-align: right;\n",
       "    }\n",
       "</style>\n",
       "<table border=\"1\" class=\"dataframe\">\n",
       "  <thead>\n",
       "    <tr style=\"text-align: right;\">\n",
       "      <th></th>\n",
       "      <th>by_differential</th>\n",
       "      <th>by_wins</th>\n",
       "    </tr>\n",
       "  </thead>\n",
       "  <tbody>\n",
       "    <tr>\n",
       "      <th>0</th>\n",
       "      <td>Miami</td>\n",
       "      <td>Miami</td>\n",
       "    </tr>\n",
       "    <tr>\n",
       "      <th>1</th>\n",
       "      <td>VT</td>\n",
       "      <td>VT</td>\n",
       "    </tr>\n",
       "    <tr>\n",
       "      <th>2</th>\n",
       "      <td>UVA</td>\n",
       "      <td>UNC</td>\n",
       "    </tr>\n",
       "    <tr>\n",
       "      <th>3</th>\n",
       "      <td>UNC</td>\n",
       "      <td>UVA</td>\n",
       "    </tr>\n",
       "    <tr>\n",
       "      <th>4</th>\n",
       "      <td>Duke</td>\n",
       "      <td>Duke</td>\n",
       "    </tr>\n",
       "  </tbody>\n",
       "</table>\n",
       "</div>"
      ],
      "text/plain": [
       "  by_differential by_wins\n",
       "0           Miami   Miami\n",
       "1              VT      VT\n",
       "2             UVA     UNC\n",
       "3             UNC     UVA\n",
       "4            Duke    Duke"
      ]
     },
     "execution_count": 8,
     "metadata": {},
     "output_type": "execute_result"
    }
   ],
   "source": [
    "pd.DataFrame({\n",
    "    'by_differential': stat_df.differential.sort_values(ascending=False).index,\n",
    "    'by_wins': stat_df.wins.sort_values(ascending=False).index\n",
    "})"
   ]
  },
  {
   "cell_type": "markdown",
   "id": "leading-works",
   "metadata": {},
   "source": [
    "## Xr = y\n",
    "\n",
    "Let's build or $X$ matrix."
   ]
  },
  {
   "cell_type": "code",
   "execution_count": 9,
   "id": "smaller-sculpture",
   "metadata": {
    "execution": {
     "iopub.execute_input": "2021-12-09T14:11:52.052249Z",
     "iopub.status.busy": "2021-12-09T14:11:52.052146Z",
     "iopub.status.idle": "2021-12-09T14:11:52.060266Z",
     "shell.execute_reply": "2021-12-09T14:11:52.059906Z",
     "shell.execute_reply.started": "2021-12-09T14:11:52.052236Z"
    }
   },
   "outputs": [
    {
     "data": {
      "text/html": [
       "<div>\n",
       "<style scoped>\n",
       "    .dataframe tbody tr th:only-of-type {\n",
       "        vertical-align: middle;\n",
       "    }\n",
       "\n",
       "    .dataframe tbody tr th {\n",
       "        vertical-align: top;\n",
       "    }\n",
       "\n",
       "    .dataframe thead th {\n",
       "        text-align: right;\n",
       "    }\n",
       "</style>\n",
       "<table border=\"1\" class=\"dataframe\">\n",
       "  <thead>\n",
       "    <tr style=\"text-align: right;\">\n",
       "      <th></th>\n",
       "      <th>Duke</th>\n",
       "      <th>Miami</th>\n",
       "      <th>UNC</th>\n",
       "      <th>UVA</th>\n",
       "      <th>VT</th>\n",
       "    </tr>\n",
       "  </thead>\n",
       "  <tbody>\n",
       "    <tr>\n",
       "      <th>0</th>\n",
       "      <td>-1</td>\n",
       "      <td>1</td>\n",
       "      <td>0</td>\n",
       "      <td>0</td>\n",
       "      <td>0</td>\n",
       "    </tr>\n",
       "    <tr>\n",
       "      <th>1</th>\n",
       "      <td>-1</td>\n",
       "      <td>0</td>\n",
       "      <td>1</td>\n",
       "      <td>0</td>\n",
       "      <td>0</td>\n",
       "    </tr>\n",
       "    <tr>\n",
       "      <th>2</th>\n",
       "      <td>-1</td>\n",
       "      <td>0</td>\n",
       "      <td>0</td>\n",
       "      <td>1</td>\n",
       "      <td>0</td>\n",
       "    </tr>\n",
       "    <tr>\n",
       "      <th>3</th>\n",
       "      <td>-1</td>\n",
       "      <td>0</td>\n",
       "      <td>0</td>\n",
       "      <td>0</td>\n",
       "      <td>1</td>\n",
       "    </tr>\n",
       "    <tr>\n",
       "      <th>4</th>\n",
       "      <td>0</td>\n",
       "      <td>1</td>\n",
       "      <td>-1</td>\n",
       "      <td>0</td>\n",
       "      <td>0</td>\n",
       "    </tr>\n",
       "    <tr>\n",
       "      <th>5</th>\n",
       "      <td>0</td>\n",
       "      <td>1</td>\n",
       "      <td>0</td>\n",
       "      <td>-1</td>\n",
       "      <td>0</td>\n",
       "    </tr>\n",
       "    <tr>\n",
       "      <th>6</th>\n",
       "      <td>0</td>\n",
       "      <td>1</td>\n",
       "      <td>0</td>\n",
       "      <td>0</td>\n",
       "      <td>-1</td>\n",
       "    </tr>\n",
       "    <tr>\n",
       "      <th>7</th>\n",
       "      <td>0</td>\n",
       "      <td>0</td>\n",
       "      <td>1</td>\n",
       "      <td>-1</td>\n",
       "      <td>0</td>\n",
       "    </tr>\n",
       "    <tr>\n",
       "      <th>8</th>\n",
       "      <td>0</td>\n",
       "      <td>0</td>\n",
       "      <td>-1</td>\n",
       "      <td>0</td>\n",
       "      <td>1</td>\n",
       "    </tr>\n",
       "    <tr>\n",
       "      <th>9</th>\n",
       "      <td>0</td>\n",
       "      <td>0</td>\n",
       "      <td>0</td>\n",
       "      <td>-1</td>\n",
       "      <td>1</td>\n",
       "    </tr>\n",
       "  </tbody>\n",
       "</table>\n",
       "</div>"
      ],
      "text/plain": [
       "   Duke  Miami  UNC  UVA  VT\n",
       "0    -1      1    0    0   0\n",
       "1    -1      0    1    0   0\n",
       "2    -1      0    0    1   0\n",
       "3    -1      0    0    0   1\n",
       "4     0      1   -1    0   0\n",
       "5     0      1    0   -1   0\n",
       "6     0      1    0    0  -1\n",
       "7     0      0    1   -1   0\n",
       "8     0      0   -1    0   1\n",
       "9     0      0    0   -1   1"
      ]
     },
     "execution_count": 9,
     "metadata": {},
     "output_type": "execute_result"
    }
   ],
   "source": [
    "def get_vector(r):\n",
    "    v = [0 for i in range(len(teams))]\n",
    "    \n",
    "    if r.s1 > r.s2:\n",
    "        v[t2i[r.t1]] = 1\n",
    "        v[t2i[r.t2]] = -1\n",
    "    else:\n",
    "        v[t2i[r.t1]] = -1\n",
    "        v[t2i[r.t2]] = 1\n",
    "    return v\n",
    "        \n",
    "t2i = {t: i for i, t in enumerate(teams)}\n",
    "\n",
    "X = pd.DataFrame([get_vector(r) for _, r in f_df.iterrows()], columns=teams)\n",
    "X"
   ]
  },
  {
   "cell_type": "markdown",
   "id": "mathematical-tension",
   "metadata": {},
   "source": [
    "Notice that $X^TX = M$. "
   ]
  },
  {
   "cell_type": "code",
   "execution_count": 10,
   "id": "instructional-contrary",
   "metadata": {
    "execution": {
     "iopub.execute_input": "2021-12-09T14:11:52.061060Z",
     "iopub.status.busy": "2021-12-09T14:11:52.060902Z",
     "iopub.status.idle": "2021-12-09T14:11:52.067853Z",
     "shell.execute_reply": "2021-12-09T14:11:52.067412Z",
     "shell.execute_reply.started": "2021-12-09T14:11:52.061039Z"
    }
   },
   "outputs": [
    {
     "data": {
      "text/html": [
       "<div>\n",
       "<style scoped>\n",
       "    .dataframe tbody tr th:only-of-type {\n",
       "        vertical-align: middle;\n",
       "    }\n",
       "\n",
       "    .dataframe tbody tr th {\n",
       "        vertical-align: top;\n",
       "    }\n",
       "\n",
       "    .dataframe thead th {\n",
       "        text-align: right;\n",
       "    }\n",
       "</style>\n",
       "<table border=\"1\" class=\"dataframe\">\n",
       "  <thead>\n",
       "    <tr style=\"text-align: right;\">\n",
       "      <th></th>\n",
       "      <th>Duke</th>\n",
       "      <th>Miami</th>\n",
       "      <th>UNC</th>\n",
       "      <th>UVA</th>\n",
       "      <th>VT</th>\n",
       "    </tr>\n",
       "  </thead>\n",
       "  <tbody>\n",
       "    <tr>\n",
       "      <th>Duke</th>\n",
       "      <td>4</td>\n",
       "      <td>-1</td>\n",
       "      <td>-1</td>\n",
       "      <td>-1</td>\n",
       "      <td>-1</td>\n",
       "    </tr>\n",
       "    <tr>\n",
       "      <th>Miami</th>\n",
       "      <td>-1</td>\n",
       "      <td>4</td>\n",
       "      <td>-1</td>\n",
       "      <td>-1</td>\n",
       "      <td>-1</td>\n",
       "    </tr>\n",
       "    <tr>\n",
       "      <th>UNC</th>\n",
       "      <td>-1</td>\n",
       "      <td>-1</td>\n",
       "      <td>4</td>\n",
       "      <td>-1</td>\n",
       "      <td>-1</td>\n",
       "    </tr>\n",
       "    <tr>\n",
       "      <th>UVA</th>\n",
       "      <td>-1</td>\n",
       "      <td>-1</td>\n",
       "      <td>-1</td>\n",
       "      <td>4</td>\n",
       "      <td>-1</td>\n",
       "    </tr>\n",
       "    <tr>\n",
       "      <th>VT</th>\n",
       "      <td>-1</td>\n",
       "      <td>-1</td>\n",
       "      <td>-1</td>\n",
       "      <td>-1</td>\n",
       "      <td>4</td>\n",
       "    </tr>\n",
       "  </tbody>\n",
       "</table>\n",
       "</div>"
      ],
      "text/plain": [
       "       Duke  Miami  UNC  UVA  VT\n",
       "Duke      4     -1   -1   -1  -1\n",
       "Miami    -1      4   -1   -1  -1\n",
       "UNC      -1     -1    4   -1  -1\n",
       "UVA      -1     -1   -1    4  -1\n",
       "VT       -1     -1   -1   -1   4"
      ]
     },
     "execution_count": 10,
     "metadata": {},
     "output_type": "execute_result"
    }
   ],
   "source": [
    "X.T.dot(X)"
   ]
  },
  {
   "cell_type": "markdown",
   "id": "stopped-little",
   "metadata": {},
   "source": [
    "Our $y$ will be the point differential."
   ]
  },
  {
   "cell_type": "code",
   "execution_count": 11,
   "id": "honest-visiting",
   "metadata": {
    "execution": {
     "iopub.execute_input": "2021-12-09T14:11:52.068559Z",
     "iopub.status.busy": "2021-12-09T14:11:52.068452Z",
     "iopub.status.idle": "2021-12-09T14:11:52.072892Z",
     "shell.execute_reply": "2021-12-09T14:11:52.072479Z",
     "shell.execute_reply.started": "2021-12-09T14:11:52.068546Z"
    }
   },
   "outputs": [
    {
     "data": {
      "text/plain": [
       "0   -45\n",
       "1    -3\n",
       "2   -31\n",
       "3   -45\n",
       "4    18\n",
       "5     8\n",
       "6    20\n",
       "7     2\n",
       "8   -27\n",
       "9   -38\n",
       "dtype: int64"
      ]
     },
     "execution_count": 11,
     "metadata": {},
     "output_type": "execute_result"
    }
   ],
   "source": [
    "y = f_df.s1 - f_df.s2\n",
    "y"
   ]
  },
  {
   "cell_type": "markdown",
   "id": "collect-composite",
   "metadata": {},
   "source": [
    "We will not attempt to learn the ratings using linear regression. "
   ]
  },
  {
   "cell_type": "code",
   "execution_count": 12,
   "id": "equal-prime",
   "metadata": {
    "execution": {
     "iopub.execute_input": "2021-12-09T14:11:52.073815Z",
     "iopub.status.busy": "2021-12-09T14:11:52.073615Z",
     "iopub.status.idle": "2021-12-09T14:11:52.249145Z",
     "shell.execute_reply": "2021-12-09T14:11:52.248767Z",
     "shell.execute_reply.started": "2021-12-09T14:11:52.073798Z"
    }
   },
   "outputs": [
    {
     "data": {
      "text/plain": [
       "(4.100000000000035, array([ 28.08,  -3.08,   1.6 ,   1.04, -27.64]))"
      ]
     },
     "execution_count": 12,
     "metadata": {},
     "output_type": "execute_result"
    }
   ],
   "source": [
    "from sklearn.linear_model import LinearRegression\n",
    "\n",
    "model = LinearRegression()\n",
    "model.fit(X, y)\n",
    "model.intercept_, model.coef_"
   ]
  },
  {
   "cell_type": "markdown",
   "id": "indian-investor",
   "metadata": {},
   "source": [
    "The ratings are the coefficients (see below where we negate them). However, because $m >> n$, the linear system is highly overdetermined and inconsistent."
   ]
  },
  {
   "cell_type": "code",
   "execution_count": 13,
   "id": "operational-forth",
   "metadata": {
    "execution": {
     "iopub.execute_input": "2021-12-09T14:11:52.249664Z",
     "iopub.status.busy": "2021-12-09T14:11:52.249560Z",
     "iopub.status.idle": "2021-12-09T14:11:52.252750Z",
     "shell.execute_reply": "2021-12-09T14:11:52.252390Z",
     "shell.execute_reply.started": "2021-12-09T14:11:52.249650Z"
    }
   },
   "outputs": [
    {
     "data": {
      "text/plain": [
       "[('VT', 27.640000000000022),\n",
       " ('Miami', 3.080000000000026),\n",
       " ('UVA', -1.0400000000000234),\n",
       " ('UNC', -1.5999999999999974),\n",
       " ('Duke', -28.08000000000003)]"
      ]
     },
     "execution_count": 13,
     "metadata": {},
     "output_type": "execute_result"
    }
   ],
   "source": [
    "sorted(list(zip(teams, -model.coef_)), key=lambda tup: tup[1], reverse=True)"
   ]
  },
  {
   "cell_type": "markdown",
   "id": "intended-butler",
   "metadata": {},
   "source": [
    "Note how Miami is undefeated, but still in second place? It is likely VT came in first place since their point differentials average higher. In most sports ranking system, point differentials are take out of consideration because teams with a high lead may stop scoring points as a matter of sportsmanship."
   ]
  },
  {
   "cell_type": "markdown",
   "id": "formed-spray",
   "metadata": {},
   "source": [
    "## Mr = p\n",
    "\n",
    "Here, we will estimating the ratings and thus the ranking using the coefficient matrix $M$. "
   ]
  },
  {
   "cell_type": "code",
   "execution_count": 14,
   "id": "indonesian-brazilian",
   "metadata": {
    "execution": {
     "iopub.execute_input": "2021-12-09T14:11:52.253290Z",
     "iopub.status.busy": "2021-12-09T14:11:52.253189Z",
     "iopub.status.idle": "2021-12-09T14:11:52.273514Z",
     "shell.execute_reply": "2021-12-09T14:11:52.273137Z",
     "shell.execute_reply.started": "2021-12-09T14:11:52.253277Z"
    }
   },
   "outputs": [
    {
     "data": {
      "text/plain": [
       "[[4, -1, -1, -1, -1],\n",
       " [-1, 4, -1, -1, -1],\n",
       " [-1, -1, 4, -1, -1],\n",
       " [-1, -1, -1, 4, -1],\n",
       " [-1, -1, -1, -1, 4]]"
      ]
     },
     "execution_count": 14,
     "metadata": {},
     "output_type": "execute_result"
    }
   ],
   "source": [
    "def get_games_played(t1, t2):\n",
    "    if t1 == t2:\n",
    "        return f_df[(f_df.t1 == t1) | (f_df.t2 == t2)].shape[0]\n",
    "    else:\n",
    "        q1 = (f_df.t1 == t1) & (f_df.t2 == t2)\n",
    "        q2 = (f_df.t1 == t2) & (f_df.t2 == t1)\n",
    "        q = q1 | q2\n",
    "        return -f_df[q].shape[0]\n",
    "\n",
    "mat = [[get_games_played(t1, t2) for t2 in teams] for t1 in teams]\n",
    "mat"
   ]
  },
  {
   "cell_type": "markdown",
   "id": "aquatic-singles",
   "metadata": {},
   "source": [
    "To ensure that $M$ has full rank, we will convert the last row to all 1's."
   ]
  },
  {
   "cell_type": "code",
   "execution_count": 15,
   "id": "individual-dollar",
   "metadata": {
    "execution": {
     "iopub.execute_input": "2021-12-09T14:11:52.274114Z",
     "iopub.status.busy": "2021-12-09T14:11:52.274007Z",
     "iopub.status.idle": "2021-12-09T14:11:52.277299Z",
     "shell.execute_reply": "2021-12-09T14:11:52.277023Z",
     "shell.execute_reply.started": "2021-12-09T14:11:52.274101Z"
    }
   },
   "outputs": [
    {
     "data": {
      "text/plain": [
       "[[4, -1, -1, -1, -1],\n",
       " [-1, 4, -1, -1, -1],\n",
       " [-1, -1, 4, -1, -1],\n",
       " [-1, -1, -1, 4, -1],\n",
       " [1, 1, 1, 1, 1]]"
      ]
     },
     "execution_count": 15,
     "metadata": {},
     "output_type": "execute_result"
    }
   ],
   "source": [
    "mat[-1] = [1 for _ in range(len(mat[-1]))]\n",
    "mat"
   ]
  },
  {
   "cell_type": "markdown",
   "id": "bibliographic-receiver",
   "metadata": {},
   "source": [
    "Our final $M$ looks like the following."
   ]
  },
  {
   "cell_type": "code",
   "execution_count": 16,
   "id": "optimum-award",
   "metadata": {
    "execution": {
     "iopub.execute_input": "2021-12-09T14:11:52.277813Z",
     "iopub.status.busy": "2021-12-09T14:11:52.277715Z",
     "iopub.status.idle": "2021-12-09T14:11:52.284153Z",
     "shell.execute_reply": "2021-12-09T14:11:52.283776Z",
     "shell.execute_reply.started": "2021-12-09T14:11:52.277801Z"
    }
   },
   "outputs": [
    {
     "data": {
      "text/html": [
       "<div>\n",
       "<style scoped>\n",
       "    .dataframe tbody tr th:only-of-type {\n",
       "        vertical-align: middle;\n",
       "    }\n",
       "\n",
       "    .dataframe tbody tr th {\n",
       "        vertical-align: top;\n",
       "    }\n",
       "\n",
       "    .dataframe thead th {\n",
       "        text-align: right;\n",
       "    }\n",
       "</style>\n",
       "<table border=\"1\" class=\"dataframe\">\n",
       "  <thead>\n",
       "    <tr style=\"text-align: right;\">\n",
       "      <th></th>\n",
       "      <th>Duke</th>\n",
       "      <th>Miami</th>\n",
       "      <th>UNC</th>\n",
       "      <th>UVA</th>\n",
       "      <th>VT</th>\n",
       "    </tr>\n",
       "  </thead>\n",
       "  <tbody>\n",
       "    <tr>\n",
       "      <th>Duke</th>\n",
       "      <td>4</td>\n",
       "      <td>-1</td>\n",
       "      <td>-1</td>\n",
       "      <td>-1</td>\n",
       "      <td>-1</td>\n",
       "    </tr>\n",
       "    <tr>\n",
       "      <th>Miami</th>\n",
       "      <td>-1</td>\n",
       "      <td>4</td>\n",
       "      <td>-1</td>\n",
       "      <td>-1</td>\n",
       "      <td>-1</td>\n",
       "    </tr>\n",
       "    <tr>\n",
       "      <th>UNC</th>\n",
       "      <td>-1</td>\n",
       "      <td>-1</td>\n",
       "      <td>4</td>\n",
       "      <td>-1</td>\n",
       "      <td>-1</td>\n",
       "    </tr>\n",
       "    <tr>\n",
       "      <th>UVA</th>\n",
       "      <td>-1</td>\n",
       "      <td>-1</td>\n",
       "      <td>-1</td>\n",
       "      <td>4</td>\n",
       "      <td>-1</td>\n",
       "    </tr>\n",
       "    <tr>\n",
       "      <th>VT</th>\n",
       "      <td>1</td>\n",
       "      <td>1</td>\n",
       "      <td>1</td>\n",
       "      <td>1</td>\n",
       "      <td>1</td>\n",
       "    </tr>\n",
       "  </tbody>\n",
       "</table>\n",
       "</div>"
      ],
      "text/plain": [
       "       Duke  Miami  UNC  UVA  VT\n",
       "Duke      4     -1   -1   -1  -1\n",
       "Miami    -1      4   -1   -1  -1\n",
       "UNC      -1     -1    4   -1  -1\n",
       "UVA      -1     -1   -1    4  -1\n",
       "VT        1      1    1    1   1"
      ]
     },
     "execution_count": 16,
     "metadata": {},
     "output_type": "execute_result"
    }
   ],
   "source": [
    "M = pd.DataFrame(mat, index=teams, columns=teams)\n",
    "M"
   ]
  },
  {
   "cell_type": "markdown",
   "id": "genuine-beast",
   "metadata": {},
   "source": [
    "Our $p$ looks like the following."
   ]
  },
  {
   "cell_type": "code",
   "execution_count": 17,
   "id": "korean-british",
   "metadata": {
    "execution": {
     "iopub.execute_input": "2021-12-09T14:11:52.284716Z",
     "iopub.status.busy": "2021-12-09T14:11:52.284613Z",
     "iopub.status.idle": "2021-12-09T14:11:52.288255Z",
     "shell.execute_reply": "2021-12-09T14:11:52.287980Z",
     "shell.execute_reply.started": "2021-12-09T14:11:52.284703Z"
    }
   },
   "outputs": [
    {
     "data": {
      "text/plain": [
       "Duke    -124.0\n",
       "Miami     91.0\n",
       "UNC      -40.0\n",
       "UVA      -17.0\n",
       "VT        90.0\n",
       "Name: differential, dtype: float64"
      ]
     },
     "execution_count": 17,
     "metadata": {},
     "output_type": "execute_result"
    }
   ],
   "source": [
    "p = stat_df.differential\n",
    "p"
   ]
  },
  {
   "cell_type": "markdown",
   "id": "sufficient-classic",
   "metadata": {},
   "source": [
    "Applying linear regression and sorting the ratings (coefficients), we get the final ranking below."
   ]
  },
  {
   "cell_type": "code",
   "execution_count": 18,
   "id": "experienced-session",
   "metadata": {
    "execution": {
     "iopub.execute_input": "2021-12-09T14:11:52.288761Z",
     "iopub.status.busy": "2021-12-09T14:11:52.288660Z",
     "iopub.status.idle": "2021-12-09T14:11:52.293272Z",
     "shell.execute_reply": "2021-12-09T14:11:52.292976Z",
     "shell.execute_reply.started": "2021-12-09T14:11:52.288748Z"
    }
   },
   "outputs": [
    {
     "data": {
      "text/plain": [
       "(8.881784197001252e-15, array([-6.8, 36.2, 10. , 14.6, 36. ]))"
      ]
     },
     "execution_count": 18,
     "metadata": {},
     "output_type": "execute_result"
    }
   ],
   "source": [
    "model = LinearRegression()\n",
    "model.fit(M, p)\n",
    "model.intercept_, model.coef_"
   ]
  },
  {
   "cell_type": "code",
   "execution_count": 19,
   "id": "sharing-judgment",
   "metadata": {
    "execution": {
     "iopub.execute_input": "2021-12-09T14:11:52.293780Z",
     "iopub.status.busy": "2021-12-09T14:11:52.293678Z",
     "iopub.status.idle": "2021-12-09T14:11:52.297397Z",
     "shell.execute_reply": "2021-12-09T14:11:52.296980Z",
     "shell.execute_reply.started": "2021-12-09T14:11:52.293768Z"
    }
   },
   "outputs": [
    {
     "data": {
      "text/plain": [
       "[('Miami', 36.2),\n",
       " ('VT', 36.00000000000002),\n",
       " ('UVA', 14.599999999999998),\n",
       " ('UNC', 9.999999999999998),\n",
       " ('Duke', -6.799999999999999)]"
      ]
     },
     "execution_count": 19,
     "metadata": {},
     "output_type": "execute_result"
    }
   ],
   "source": [
    "sorted(list(zip(teams, model.coef_)), key=lambda tup: tup[1], reverse=True)"
   ]
  },
  {
   "cell_type": "markdown",
   "id": "challenging-chest",
   "metadata": {},
   "source": [
    "## NBA 2021\n",
    "\n",
    "Let's apply Massey's Method to the NBA for the 2021 season and games up to Thanksgiving."
   ]
  },
  {
   "cell_type": "code",
   "execution_count": 20,
   "id": "jewish-phoenix",
   "metadata": {
    "execution": {
     "iopub.execute_input": "2021-12-09T14:11:52.298363Z",
     "iopub.status.busy": "2021-12-09T14:11:52.298186Z",
     "iopub.status.idle": "2021-12-09T14:11:52.306589Z",
     "shell.execute_reply": "2021-12-09T14:11:52.306175Z",
     "shell.execute_reply.started": "2021-12-09T14:11:52.298340Z"
    }
   },
   "outputs": [],
   "source": [
    "def get_nba():\n",
    "    x = pd.read_csv('./nba/2021.csv')\\\n",
    "        .rename(columns={\n",
    "            'a_team': 't1', \n",
    "            'h_team': 't2', \n",
    "            'a_score': 's1', \n",
    "            'h_score': 's2'})\n",
    "    x = x[x.preseason == False]\\\n",
    "        .drop(columns=['preseason'])\\\n",
    "        .reset_index(drop=True)\n",
    "    return x\n",
    "    \n",
    "def get_nfl():\n",
    "    x = pd.read_csv('./nfl/2021.csv')\\\n",
    "        .rename(columns={\n",
    "            'team1': 't1', \n",
    "            'team2': 't2', \n",
    "            'score1': 's1', \n",
    "            'score2': 's2'})\\\n",
    "        .drop(columns=['week'])\n",
    "    x['t1'] = x['t1'].apply(lambda s: s.strip())\n",
    "    x['t2'] = x['t2'].apply(lambda s: s.strip())\n",
    "    \n",
    "    return x\n",
    "\n",
    "def get_X(df):\n",
    "    def get_vector(r):\n",
    "        v = [0 for i in range(len(teams))]\n",
    "\n",
    "        if r.s1 > r.s2:\n",
    "            v[t2i[r.t1]] = 1\n",
    "            v[t2i[r.t2]] = -1\n",
    "        else:\n",
    "            v[t2i[r.t1]] = -1\n",
    "            v[t2i[r.t2]] = 1\n",
    "        return v\n",
    "\n",
    "    teams = sorted(list(set(df.t1) | set(df.t2)))\n",
    "    t2i = {t: i for i, t in enumerate(teams)}\n",
    "\n",
    "    X = pd.DataFrame([get_vector(r) for _, r in df.iterrows()], columns=teams)\n",
    "    X = X.T.dot(X)\n",
    "    X.iloc[-1,:] = 1\n",
    "    \n",
    "    return X\n",
    "\n",
    "def get_y(df):\n",
    "    def get_diff(t):\n",
    "        a = df[df.t1 == t]\n",
    "        b = df[df.t2 == t]\n",
    "        \n",
    "        c = a.s1 - a.s2\n",
    "        d = b.s2 - b.s1\n",
    "        \n",
    "        return c.sum() + d.sum()\n",
    "    \n",
    "    teams = sorted(list(set(df.t1) | set(df.t2)))\n",
    "    diffs = [get_diff(t) for t in teams]\n",
    "    \n",
    "    return pd.Series(diffs, index=teams)\n",
    "\n",
    "def get_Xy(df):\n",
    "    return get_X(df), get_y(df)"
   ]
  },
  {
   "cell_type": "code",
   "execution_count": 21,
   "id": "happy-heather",
   "metadata": {
    "execution": {
     "iopub.execute_input": "2021-12-09T14:11:52.307110Z",
     "iopub.status.busy": "2021-12-09T14:11:52.307004Z",
     "iopub.status.idle": "2021-12-09T14:11:52.379799Z",
     "shell.execute_reply": "2021-12-09T14:11:52.379498Z",
     "shell.execute_reply.started": "2021-12-09T14:11:52.307096Z"
    }
   },
   "outputs": [
    {
     "data": {
      "text/html": [
       "<div>\n",
       "<style scoped>\n",
       "    .dataframe tbody tr th:only-of-type {\n",
       "        vertical-align: middle;\n",
       "    }\n",
       "\n",
       "    .dataframe tbody tr th {\n",
       "        vertical-align: top;\n",
       "    }\n",
       "\n",
       "    .dataframe thead th {\n",
       "        text-align: right;\n",
       "    }\n",
       "</style>\n",
       "<table border=\"1\" class=\"dataframe\">\n",
       "  <thead>\n",
       "    <tr style=\"text-align: right;\">\n",
       "      <th></th>\n",
       "      <th>Team</th>\n",
       "      <th>Rating</th>\n",
       "    </tr>\n",
       "  </thead>\n",
       "  <tbody>\n",
       "    <tr>\n",
       "      <th>28</th>\n",
       "      <td>Warriors</td>\n",
       "      <td>12.899850</td>\n",
       "    </tr>\n",
       "    <tr>\n",
       "      <th>10</th>\n",
       "      <td>Jazz</td>\n",
       "      <td>8.549796</td>\n",
       "    </tr>\n",
       "    <tr>\n",
       "      <th>24</th>\n",
       "      <td>Suns</td>\n",
       "      <td>6.744632</td>\n",
       "    </tr>\n",
       "    <tr>\n",
       "      <th>8</th>\n",
       "      <td>Heat</td>\n",
       "      <td>6.488263</td>\n",
       "    </tr>\n",
       "    <tr>\n",
       "      <th>16</th>\n",
       "      <td>Nets</td>\n",
       "      <td>4.254646</td>\n",
       "    </tr>\n",
       "    <tr>\n",
       "      <th>2</th>\n",
       "      <td>Bulls</td>\n",
       "      <td>4.235154</td>\n",
       "    </tr>\n",
       "    <tr>\n",
       "      <th>5</th>\n",
       "      <td>Clippers</td>\n",
       "      <td>3.792290</td>\n",
       "    </tr>\n",
       "    <tr>\n",
       "      <th>7</th>\n",
       "      <td>Hawks</td>\n",
       "      <td>3.338752</td>\n",
       "    </tr>\n",
       "    <tr>\n",
       "      <th>18</th>\n",
       "      <td>Pacers</td>\n",
       "      <td>3.138730</td>\n",
       "    </tr>\n",
       "    <tr>\n",
       "      <th>27</th>\n",
       "      <td>Trail Blazers</td>\n",
       "      <td>2.456361</td>\n",
       "    </tr>\n",
       "    <tr>\n",
       "      <th>0</th>\n",
       "      <td>76ers</td>\n",
       "      <td>2.100543</td>\n",
       "    </tr>\n",
       "    <tr>\n",
       "      <th>1</th>\n",
       "      <td>Bucks</td>\n",
       "      <td>1.999356</td>\n",
       "    </tr>\n",
       "    <tr>\n",
       "      <th>3</th>\n",
       "      <td>Cavaliers</td>\n",
       "      <td>1.429301</td>\n",
       "    </tr>\n",
       "    <tr>\n",
       "      <th>26</th>\n",
       "      <td>Timberwolves</td>\n",
       "      <td>1.276979</td>\n",
       "    </tr>\n",
       "    <tr>\n",
       "      <th>9</th>\n",
       "      <td>Hornets</td>\n",
       "      <td>1.227789</td>\n",
       "    </tr>\n",
       "    <tr>\n",
       "      <th>29</th>\n",
       "      <td>Wizards</td>\n",
       "      <td>1.180180</td>\n",
       "    </tr>\n",
       "    <tr>\n",
       "      <th>21</th>\n",
       "      <td>Raptors</td>\n",
       "      <td>1.055674</td>\n",
       "    </tr>\n",
       "    <tr>\n",
       "      <th>17</th>\n",
       "      <td>Nuggets</td>\n",
       "      <td>0.755934</td>\n",
       "    </tr>\n",
       "    <tr>\n",
       "      <th>4</th>\n",
       "      <td>Celtics</td>\n",
       "      <td>0.579776</td>\n",
       "    </tr>\n",
       "    <tr>\n",
       "      <th>11</th>\n",
       "      <td>Kings</td>\n",
       "      <td>0.089514</td>\n",
       "    </tr>\n",
       "    <tr>\n",
       "      <th>12</th>\n",
       "      <td>Knicks</td>\n",
       "      <td>-0.306992</td>\n",
       "    </tr>\n",
       "    <tr>\n",
       "      <th>15</th>\n",
       "      <td>Mavericks</td>\n",
       "      <td>-0.688728</td>\n",
       "    </tr>\n",
       "    <tr>\n",
       "      <th>13</th>\n",
       "      <td>Lakers</td>\n",
       "      <td>-3.357641</td>\n",
       "    </tr>\n",
       "    <tr>\n",
       "      <th>23</th>\n",
       "      <td>Spurs</td>\n",
       "      <td>-3.433295</td>\n",
       "    </tr>\n",
       "    <tr>\n",
       "      <th>6</th>\n",
       "      <td>Grizzlies</td>\n",
       "      <td>-4.525625</td>\n",
       "    </tr>\n",
       "    <tr>\n",
       "      <th>19</th>\n",
       "      <td>Pelicans</td>\n",
       "      <td>-4.916126</td>\n",
       "    </tr>\n",
       "    <tr>\n",
       "      <th>25</th>\n",
       "      <td>Thunder</td>\n",
       "      <td>-5.150785</td>\n",
       "    </tr>\n",
       "    <tr>\n",
       "      <th>20</th>\n",
       "      <td>Pistons</td>\n",
       "      <td>-7.552551</td>\n",
       "    </tr>\n",
       "    <tr>\n",
       "      <th>22</th>\n",
       "      <td>Rockets</td>\n",
       "      <td>-8.788710</td>\n",
       "    </tr>\n",
       "    <tr>\n",
       "      <th>14</th>\n",
       "      <td>Magic</td>\n",
       "      <td>-9.818479</td>\n",
       "    </tr>\n",
       "  </tbody>\n",
       "</table>\n",
       "</div>"
      ],
      "text/plain": [
       "             Team     Rating\n",
       "28       Warriors  12.899850\n",
       "10           Jazz   8.549796\n",
       "24           Suns   6.744632\n",
       "8            Heat   6.488263\n",
       "16           Nets   4.254646\n",
       "2           Bulls   4.235154\n",
       "5        Clippers   3.792290\n",
       "7           Hawks   3.338752\n",
       "18         Pacers   3.138730\n",
       "27  Trail Blazers   2.456361\n",
       "0           76ers   2.100543\n",
       "1           Bucks   1.999356\n",
       "3       Cavaliers   1.429301\n",
       "26   Timberwolves   1.276979\n",
       "9         Hornets   1.227789\n",
       "29        Wizards   1.180180\n",
       "21        Raptors   1.055674\n",
       "17        Nuggets   0.755934\n",
       "4         Celtics   0.579776\n",
       "11          Kings   0.089514\n",
       "12         Knicks  -0.306992\n",
       "15      Mavericks  -0.688728\n",
       "13         Lakers  -3.357641\n",
       "23          Spurs  -3.433295\n",
       "6       Grizzlies  -4.525625\n",
       "19       Pelicans  -4.916126\n",
       "25        Thunder  -5.150785\n",
       "20        Pistons  -7.552551\n",
       "22        Rockets  -8.788710\n",
       "14          Magic  -9.818479"
      ]
     },
     "execution_count": 21,
     "metadata": {},
     "output_type": "execute_result"
    }
   ],
   "source": [
    "X, y = get_Xy(get_nba())\n",
    "\n",
    "model = LinearRegression()\n",
    "model.fit(X, y)\n",
    "\n",
    "pd.DataFrame(zip(X.index, model.coef_), columns=['Team', 'Rating'])\\\n",
    "    .sort_values('Rating', ascending=False)"
   ]
  },
  {
   "cell_type": "markdown",
   "id": "hearing-hebrew",
   "metadata": {},
   "source": [
    "## NFL\n",
    "\n",
    "Let's apply Massey's Method to the NFL for the 2021 season and games up to Thanksgiving."
   ]
  },
  {
   "cell_type": "code",
   "execution_count": 22,
   "id": "waiting-indianapolis",
   "metadata": {
    "execution": {
     "iopub.execute_input": "2021-12-09T14:11:52.380491Z",
     "iopub.status.busy": "2021-12-09T14:11:52.380335Z",
     "iopub.status.idle": "2021-12-09T14:11:52.437296Z",
     "shell.execute_reply": "2021-12-09T14:11:52.436922Z",
     "shell.execute_reply.started": "2021-12-09T14:11:52.380463Z"
    }
   },
   "outputs": [
    {
     "data": {
      "text/html": [
       "<div>\n",
       "<style scoped>\n",
       "    .dataframe tbody tr th:only-of-type {\n",
       "        vertical-align: middle;\n",
       "    }\n",
       "\n",
       "    .dataframe tbody tr th {\n",
       "        vertical-align: top;\n",
       "    }\n",
       "\n",
       "    .dataframe thead th {\n",
       "        text-align: right;\n",
       "    }\n",
       "</style>\n",
       "<table border=\"1\" class=\"dataframe\">\n",
       "  <thead>\n",
       "    <tr style=\"text-align: right;\">\n",
       "      <th></th>\n",
       "      <th>Team</th>\n",
       "      <th>Rating</th>\n",
       "    </tr>\n",
       "  </thead>\n",
       "  <tbody>\n",
       "    <tr>\n",
       "      <th>3</th>\n",
       "      <td>Bills</td>\n",
       "      <td>8.425259</td>\n",
       "    </tr>\n",
       "    <tr>\n",
       "      <th>7</th>\n",
       "      <td>Cardinals</td>\n",
       "      <td>8.235687</td>\n",
       "    </tr>\n",
       "    <tr>\n",
       "      <th>21</th>\n",
       "      <td>Patriots</td>\n",
       "      <td>6.349719</td>\n",
       "    </tr>\n",
       "    <tr>\n",
       "      <th>6</th>\n",
       "      <td>Buccaneers</td>\n",
       "      <td>6.321022</td>\n",
       "    </tr>\n",
       "    <tr>\n",
       "      <th>11</th>\n",
       "      <td>Cowboys</td>\n",
       "      <td>5.819441</td>\n",
       "    </tr>\n",
       "    <tr>\n",
       "      <th>10</th>\n",
       "      <td>Colts</td>\n",
       "      <td>3.115332</td>\n",
       "    </tr>\n",
       "    <tr>\n",
       "      <th>9</th>\n",
       "      <td>Chiefs</td>\n",
       "      <td>2.706593</td>\n",
       "    </tr>\n",
       "    <tr>\n",
       "      <th>29</th>\n",
       "      <td>Titans</td>\n",
       "      <td>2.584503</td>\n",
       "    </tr>\n",
       "    <tr>\n",
       "      <th>23</th>\n",
       "      <td>Rams</td>\n",
       "      <td>2.472228</td>\n",
       "    </tr>\n",
       "    <tr>\n",
       "      <th>13</th>\n",
       "      <td>Eagles</td>\n",
       "      <td>1.696797</td>\n",
       "    </tr>\n",
       "    <tr>\n",
       "      <th>0</th>\n",
       "      <td>49ers</td>\n",
       "      <td>1.565063</td>\n",
       "    </tr>\n",
       "    <tr>\n",
       "      <th>19</th>\n",
       "      <td>Packers</td>\n",
       "      <td>1.443518</td>\n",
       "    </tr>\n",
       "    <tr>\n",
       "      <th>25</th>\n",
       "      <td>Saints</td>\n",
       "      <td>0.808172</td>\n",
       "    </tr>\n",
       "    <tr>\n",
       "      <th>30</th>\n",
       "      <td>Vikings</td>\n",
       "      <td>0.737758</td>\n",
       "    </tr>\n",
       "    <tr>\n",
       "      <th>8</th>\n",
       "      <td>Chargers</td>\n",
       "      <td>-0.551756</td>\n",
       "    </tr>\n",
       "    <tr>\n",
       "      <th>2</th>\n",
       "      <td>Bengals</td>\n",
       "      <td>-0.607977</td>\n",
       "    </tr>\n",
       "    <tr>\n",
       "      <th>26</th>\n",
       "      <td>Seahawks</td>\n",
       "      <td>-0.880815</td>\n",
       "    </tr>\n",
       "    <tr>\n",
       "      <th>24</th>\n",
       "      <td>Ravens</td>\n",
       "      <td>-1.608072</td>\n",
       "    </tr>\n",
       "    <tr>\n",
       "      <th>20</th>\n",
       "      <td>Panthers</td>\n",
       "      <td>-1.742287</td>\n",
       "    </tr>\n",
       "    <tr>\n",
       "      <th>4</th>\n",
       "      <td>Broncos</td>\n",
       "      <td>-2.431469</td>\n",
       "    </tr>\n",
       "    <tr>\n",
       "      <th>5</th>\n",
       "      <td>Browns</td>\n",
       "      <td>-2.723871</td>\n",
       "    </tr>\n",
       "    <tr>\n",
       "      <th>31</th>\n",
       "      <td>Washington</td>\n",
       "      <td>-3.649900</td>\n",
       "    </tr>\n",
       "    <tr>\n",
       "      <th>27</th>\n",
       "      <td>Steelers</td>\n",
       "      <td>-3.707054</td>\n",
       "    </tr>\n",
       "    <tr>\n",
       "      <th>22</th>\n",
       "      <td>Raiders</td>\n",
       "      <td>-5.414601</td>\n",
       "    </tr>\n",
       "    <tr>\n",
       "      <th>15</th>\n",
       "      <td>Giants</td>\n",
       "      <td>-6.524430</td>\n",
       "    </tr>\n",
       "    <tr>\n",
       "      <th>12</th>\n",
       "      <td>Dolphins</td>\n",
       "      <td>-8.305769</td>\n",
       "    </tr>\n",
       "    <tr>\n",
       "      <th>1</th>\n",
       "      <td>Bears</td>\n",
       "      <td>-9.322540</td>\n",
       "    </tr>\n",
       "    <tr>\n",
       "      <th>16</th>\n",
       "      <td>Jaguars</td>\n",
       "      <td>-10.338981</td>\n",
       "    </tr>\n",
       "    <tr>\n",
       "      <th>28</th>\n",
       "      <td>Texans</td>\n",
       "      <td>-11.365255</td>\n",
       "    </tr>\n",
       "    <tr>\n",
       "      <th>18</th>\n",
       "      <td>Lions</td>\n",
       "      <td>-12.281915</td>\n",
       "    </tr>\n",
       "    <tr>\n",
       "      <th>14</th>\n",
       "      <td>Falcons</td>\n",
       "      <td>-12.409125</td>\n",
       "    </tr>\n",
       "    <tr>\n",
       "      <th>17</th>\n",
       "      <td>Jets</td>\n",
       "      <td>-14.139647</td>\n",
       "    </tr>\n",
       "  </tbody>\n",
       "</table>\n",
       "</div>"
      ],
      "text/plain": [
       "          Team     Rating\n",
       "3        Bills   8.425259\n",
       "7    Cardinals   8.235687\n",
       "21    Patriots   6.349719\n",
       "6   Buccaneers   6.321022\n",
       "11     Cowboys   5.819441\n",
       "10       Colts   3.115332\n",
       "9       Chiefs   2.706593\n",
       "29      Titans   2.584503\n",
       "23        Rams   2.472228\n",
       "13      Eagles   1.696797\n",
       "0        49ers   1.565063\n",
       "19     Packers   1.443518\n",
       "25      Saints   0.808172\n",
       "30     Vikings   0.737758\n",
       "8     Chargers  -0.551756\n",
       "2      Bengals  -0.607977\n",
       "26    Seahawks  -0.880815\n",
       "24      Ravens  -1.608072\n",
       "20    Panthers  -1.742287\n",
       "4      Broncos  -2.431469\n",
       "5       Browns  -2.723871\n",
       "31  Washington  -3.649900\n",
       "27    Steelers  -3.707054\n",
       "22     Raiders  -5.414601\n",
       "15      Giants  -6.524430\n",
       "12    Dolphins  -8.305769\n",
       "1        Bears  -9.322540\n",
       "16     Jaguars -10.338981\n",
       "28      Texans -11.365255\n",
       "18       Lions -12.281915\n",
       "14     Falcons -12.409125\n",
       "17        Jets -14.139647"
      ]
     },
     "execution_count": 22,
     "metadata": {},
     "output_type": "execute_result"
    }
   ],
   "source": [
    "X, y = get_Xy(get_nfl())\n",
    "\n",
    "model = LinearRegression()\n",
    "model.fit(X, y)\n",
    "\n",
    "pd.DataFrame(zip(X.index, model.coef_), columns=['Team', 'Rating'])\\\n",
    "    .sort_values('Rating', ascending=False)"
   ]
  }
 ],
 "metadata": {
  "kernelspec": {
   "display_name": "Python 3",
   "language": "python",
   "name": "python3"
  },
  "language_info": {
   "codemirror_mode": {
    "name": "ipython",
    "version": 3
   },
   "file_extension": ".py",
   "mimetype": "text/x-python",
   "name": "python",
   "nbconvert_exporter": "python",
   "pygments_lexer": "ipython3",
   "version": "3.8.5"
  },
  "widgets": {
   "application/vnd.jupyter.widget-state+json": {
    "state": {},
    "version_major": 2,
    "version_minor": 0
   }
  }
 },
 "nbformat": 4,
 "nbformat_minor": 5
}
