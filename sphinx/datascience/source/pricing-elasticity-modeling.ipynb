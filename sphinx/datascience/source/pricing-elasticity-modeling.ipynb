{
 "cells": [
  {
   "cell_type": "markdown",
   "id": "216f5e3c-434e-4642-a529-d68f25465dee",
   "metadata": {},
   "source": [
    "# Pricing Elasticity of Demand Modeling\n",
    "\n",
    "Pricing Elasticity of Demand (PED) is a measure of how responsive demand (or quantity sold) is to price change. When demand (y-axis) is plotted against price (x-axis), a demand curve is drawn. From the demand curve, we can compute the PED using pairs of points or at a particular point. Typically, elasticity changes along every point (or between every pair of points) on the demand curve. When we assume that elasticity remains constant along the demand curve, we can use regression techniques to estimate the constant elasticity. Let's take a look to see how regression is used to estimate the constant elasticity."
   ]
  },
  {
   "cell_type": "markdown",
   "id": "46304b99-2b41-419b-bf86-7a317be5a9d0",
   "metadata": {},
   "source": [
    "## Load data\n",
    "\n",
    "This data is taken from [Kaggle](https://www.kaggle.com/datasets/suddharshan/retail-price-optimization?datasetId=1865343)."
   ]
  },
  {
   "cell_type": "code",
   "execution_count": 1,
   "id": "70cb53b7-3426-4f9c-b203-210a71d1fe82",
   "metadata": {},
   "outputs": [
    {
     "data": {
      "text/plain": [
       "(676, 31)"
      ]
     },
     "execution_count": 1,
     "metadata": {},
     "output_type": "execute_result"
    }
   ],
   "source": [
    "import pandas as pd\n",
    "import numpy as np\n",
    "\n",
    "def get_text(r):\n",
    "    product_category_name = r['product_category_name']\n",
    "    \n",
    "\n",
    "df = pd.read_csv('./data/retail_price.csv') \\\n",
    "    .assign(\n",
    "        month_year=lambda d: pd.to_datetime(d['month_year']),\n",
    "        year=lambda d: d['month_year'].dt.year,\n",
    "        month=lambda d: d['month_year'].dt.month,\n",
    "        weekend=lambda d: d['weekday'].apply(lambda x: 1 if x >= 5 else 0),\n",
    "        text=lambda d: d['product_category_name'].apply(lambda s: ' '.join(s.split('_')))\n",
    "    )\n",
    "df.shape"
   ]
  },
  {
   "cell_type": "code",
   "execution_count": 2,
   "id": "de7d251a-e2a5-4223-9b18-4e01ee347195",
   "metadata": {},
   "outputs": [
    {
     "name": "stdout",
     "output_type": "stream",
     "text": [
      "<class 'pandas.core.frame.DataFrame'>\n",
      "RangeIndex: 676 entries, 0 to 675\n",
      "Data columns (total 31 columns):\n",
      " #   Column                      Non-Null Count  Dtype         \n",
      "---  ------                      --------------  -----         \n",
      " 0   product_id                  676 non-null    object        \n",
      " 1   product_category_name       676 non-null    object        \n",
      " 2   month_year                  676 non-null    datetime64[ns]\n",
      " 3   qty                         676 non-null    int64         \n",
      " 4   total_price                 676 non-null    float64       \n",
      " 5   freight_price               676 non-null    float64       \n",
      " 6   unit_price                  676 non-null    float64       \n",
      " 7   product_name_lenght         676 non-null    int64         \n",
      " 8   product_description_lenght  676 non-null    int64         \n",
      " 9   product_photos_qty          676 non-null    int64         \n",
      " 10  product_weight_g            676 non-null    int64         \n",
      " 11  product_score               676 non-null    float64       \n",
      " 12  customers                   676 non-null    int64         \n",
      " 13  weekday                     676 non-null    int64         \n",
      " 14  weekend                     676 non-null    int64         \n",
      " 15  holiday                     676 non-null    int64         \n",
      " 16  month                       676 non-null    int32         \n",
      " 17  year                        676 non-null    int32         \n",
      " 18  s                           676 non-null    float64       \n",
      " 19  volume                      676 non-null    int64         \n",
      " 20  comp_1                      676 non-null    float64       \n",
      " 21  ps1                         676 non-null    float64       \n",
      " 22  fp1                         676 non-null    float64       \n",
      " 23  comp_2                      676 non-null    float64       \n",
      " 24  ps2                         676 non-null    float64       \n",
      " 25  fp2                         676 non-null    float64       \n",
      " 26  comp_3                      676 non-null    float64       \n",
      " 27  ps3                         676 non-null    float64       \n",
      " 28  fp3                         676 non-null    float64       \n",
      " 29  lag_price                   676 non-null    float64       \n",
      " 30  text                        676 non-null    object        \n",
      "dtypes: datetime64[ns](1), float64(15), int32(2), int64(10), object(3)\n",
      "memory usage: 158.6+ KB\n"
     ]
    }
   ],
   "source": [
    "df.info()"
   ]
  },
  {
   "cell_type": "markdown",
   "id": "967a4f83-2557-4111-a2ee-642a1f9edd4e",
   "metadata": {},
   "source": [
    "## Visualize pricing elasticity of demand\n",
    "\n",
    "There's already a lot of exploratory data analysis (EDA) and visualization on the data on Kaggle, and so we will not plot too much. Below, we are demand (quantity) versus price over all products. You can see that there tends to be a downward slope. Also note, we take the log of the demand and price."
   ]
  },
  {
   "cell_type": "code",
   "execution_count": 3,
   "id": "15aa7e2e-1234-424d-809e-6d1743fc631e",
   "metadata": {},
   "outputs": [
    {
     "data": {
      "text/plain": [
       "<Axes: xlabel='unit_price', ylabel='qty'>"
      ]
     },
     "execution_count": 3,
     "metadata": {},
     "output_type": "execute_result"
    },
    {
     "data": {
      "image/png": "[encoded data removed]",
      "text/plain": [
       "<Figure size 640x480 with 1 Axes>"
      ]
     },
     "metadata": {},
     "output_type": "display_data"
    }
   ],
   "source": [
    "df[['unit_price', 'qty']] \\\n",
    "    .groupby(['unit_price']) \\\n",
    "    .sum() \\\n",
    "    .reset_index() \\\n",
    "    .assign(\n",
    "        unit_price=lambda d: np.log(d['unit_price']),\n",
    "        qty=lambda d: np.log(d['qty'])\n",
    "    ) \\\n",
    "    .plot(kind='scatter', x='unit_price', y='qty')"
   ]
  },
  {
   "cell_type": "markdown",
   "id": "25d2a49a-2a3f-46a4-8795-9e3ef0c717ea",
   "metadata": {},
   "source": [
    "## Split into training/testing\n",
    "\n",
    "It seems that there is data in 2017 for January and also in 2018 for January. Let's use the 2017 data for training and the 2018 data for testing/validation."
   ]
  },
  {
   "cell_type": "code",
   "execution_count": 4,
   "id": "22c99f3d-8726-45b0-b564-0333215b008c",
   "metadata": {},
   "outputs": [
    {
     "data": {
      "text/plain": [
       "month_year\n",
       "2017-01-01     2\n",
       "2017-01-02     9\n",
       "2017-01-03    13\n",
       "2017-01-04    15\n",
       "2017-01-05    20\n",
       "2017-01-06    25\n",
       "2017-01-07    33\n",
       "2017-01-08    37\n",
       "2017-01-09    36\n",
       "2017-01-10    43\n",
       "2017-01-11    44\n",
       "2017-01-12    44\n",
       "2018-01-01    48\n",
       "2018-01-02    49\n",
       "2018-01-03    50\n",
       "2018-01-04    48\n",
       "2018-01-05    40\n",
       "2018-01-06    42\n",
       "2018-01-07    40\n",
       "2018-01-08    38\n",
       "Name: count, dtype: int64"
      ]
     },
     "execution_count": 4,
     "metadata": {},
     "output_type": "execute_result"
    }
   ],
   "source": [
    "df['month_year'].value_counts().sort_index()"
   ]
  },
  {
   "cell_type": "code",
   "execution_count": 5,
   "id": "6bb3b3b0-1f16-48b1-a4c9-3e01db14be86",
   "metadata": {},
   "outputs": [
    {
     "data": {
      "text/plain": [
       "((321, 31), (355, 31))"
      ]
     },
     "execution_count": 5,
     "metadata": {},
     "output_type": "execute_result"
    }
   ],
   "source": [
    "df_tr = df[df['month_year'] <= '2017-12-31']\n",
    "df_te = df[df['month_year'] >= '2018-01-01']\n",
    "\n",
    "df_tr.shape, df_te.shape"
   ]
  },
  {
   "cell_type": "markdown",
   "id": "9f89da58-1f47-4e43-8615-ec188bf9fa09",
   "metadata": {},
   "source": [
    "## Simple log-log model\n",
    "\n",
    "An easy way to model the relationship between price and quantity is using log-log regression. Note that the coefficient associated with price is the estimated constant elasticity. \n",
    "\n",
    "$\\log{Q} \\sim \\log{P}$"
   ]
  },
  {
   "cell_type": "code",
   "execution_count": 6,
   "id": "bbb97575-ee3a-4c4e-aa9b-7c0005aa31ee",
   "metadata": {},
   "outputs": [
    {
     "data": {
      "text/plain": [
       "((128, 1), (181, 1), (128,), (181,))"
      ]
     },
     "execution_count": 6,
     "metadata": {},
     "output_type": "execute_result"
    }
   ],
   "source": [
    "Xy_tr = df_tr.groupby(['unit_price']) \\\n",
    "    .agg(qty_sum=pd.NamedAgg(column='qty', aggfunc='sum')) \\\n",
    "    .assign(qty_sum=lambda d: np.log(d['qty_sum'])) \\\n",
    "    .reset_index() \\\n",
    "    .assign(unit_price=lambda d: np.log(d['unit_price']))\n",
    "\n",
    "Xy_te = df_te.groupby(['unit_price']) \\\n",
    "    .agg(qty_sum=pd.NamedAgg(column='qty', aggfunc='sum')) \\\n",
    "    .assign(qty_sum=lambda d: np.log(d['qty_sum'])) \\\n",
    "    .reset_index() \\\n",
    "    .assign(unit_price=lambda d: np.log(d['unit_price']))\n",
    "\n",
    "X_tr = Xy_tr[['unit_price']]\n",
    "X_te = Xy_te[['unit_price']]\n",
    "\n",
    "y_tr = Xy_tr['qty_sum']\n",
    "y_te = Xy_te['qty_sum']\n",
    "\n",
    "X_tr.shape, X_te.shape, y_tr.shape, y_te.shape"
   ]
  },
  {
   "cell_type": "markdown",
   "id": "c4247e23-440f-4edd-9604-3182368dec62",
   "metadata": {},
   "source": [
    "Since we want to have fun and suspect that quantity and price may have linear or non-linear relationships, we will try out a few regression models. "
   ]
  },
  {
   "cell_type": "code",
   "execution_count": 7,
   "id": "d591f281-b0ce-4f00-aa41-44cf1dc72ff8",
   "metadata": {},
   "outputs": [
    {
     "ename": "AttributeError",
     "evalue": "module 'pandas.core.strings' has no attribute 'StringMethods'",
     "output_type": "error",
     "traceback": [
      "\u001b[0;31m---------------------------------------------------------------------------\u001b[0m",
      "\u001b[0;31mAttributeError\u001b[0m                            Traceback (most recent call last)",
      "Cell \u001b[0;32mIn[7], line 3\u001b[0m\n\u001b[1;32m      1\u001b[0m \u001b[38;5;28;01mfrom\u001b[39;00m \u001b[38;5;21;01msklearn\u001b[39;00m\u001b[38;5;21;01m.\u001b[39;00m\u001b[38;5;21;01mlinear_model\u001b[39;00m \u001b[38;5;28;01mimport\u001b[39;00m LinearRegression\n\u001b[1;32m      2\u001b[0m \u001b[38;5;28;01mfrom\u001b[39;00m \u001b[38;5;21;01msklearn\u001b[39;00m\u001b[38;5;21;01m.\u001b[39;00m\u001b[38;5;21;01mensemble\u001b[39;00m \u001b[38;5;28;01mimport\u001b[39;00m RandomForestRegressor\n\u001b[0;32m----> 3\u001b[0m \u001b[38;5;28;01mfrom\u001b[39;00m \u001b[38;5;21;01mlightgbm\u001b[39;00m \u001b[38;5;28;01mimport\u001b[39;00m LGBMRegressor\n\u001b[1;32m      4\u001b[0m \u001b[38;5;28;01mfrom\u001b[39;00m \u001b[38;5;21;01msklearn\u001b[39;00m\u001b[38;5;21;01m.\u001b[39;00m\u001b[38;5;21;01mmetrics\u001b[39;00m \u001b[38;5;28;01mimport\u001b[39;00m mean_absolute_error\n\u001b[1;32m      6\u001b[0m \u001b[38;5;28;01mdef\u001b[39;00m \u001b[38;5;21mget_performance\u001b[39m(y_tr, z_tr, y_te, z_te):\n",
      "File \u001b[0;32m~/opt/anaconda3/lib/python3.9/site-packages/lightgbm/__init__.py:8\u001b[0m\n\u001b[1;32m      2\u001b[0m \u001b[38;5;124;03m\"\"\"LightGBM, Light Gradient Boosting Machine.\u001b[39;00m\n\u001b[1;32m      3\u001b[0m \n\u001b[1;32m      4\u001b[0m \u001b[38;5;124;03mContributors: https://github.com/microsoft/LightGBM/graphs/contributors.\u001b[39;00m\n\u001b[1;32m      5\u001b[0m \u001b[38;5;124;03m\"\"\"\u001b[39;00m\n\u001b[1;32m      6\u001b[0m \u001b[38;5;28;01mfrom\u001b[39;00m \u001b[38;5;21;01mpathlib\u001b[39;00m \u001b[38;5;28;01mimport\u001b[39;00m Path\n\u001b[0;32m----> 8\u001b[0m \u001b[38;5;28;01mfrom\u001b[39;00m \u001b[38;5;21;01m.\u001b[39;00m\u001b[38;5;21;01mbasic\u001b[39;00m \u001b[38;5;28;01mimport\u001b[39;00m Booster, Dataset, Sequence, register_logger\n\u001b[1;32m      9\u001b[0m \u001b[38;5;28;01mfrom\u001b[39;00m \u001b[38;5;21;01m.\u001b[39;00m\u001b[38;5;21;01mcallback\u001b[39;00m \u001b[38;5;28;01mimport\u001b[39;00m early_stopping, log_evaluation, record_evaluation, reset_parameter\n\u001b[1;32m     10\u001b[0m \u001b[38;5;28;01mfrom\u001b[39;00m \u001b[38;5;21;01m.\u001b[39;00m\u001b[38;5;21;01mengine\u001b[39;00m \u001b[38;5;28;01mimport\u001b[39;00m CVBooster, cv, train\n",
      "File \u001b[0;32m~/opt/anaconda3/lib/python3.9/site-packages/lightgbm/basic.py:21\u001b[0m\n\u001b[1;32m     18\u001b[0m \u001b[38;5;28;01mimport\u001b[39;00m \u001b[38;5;21;01mnumpy\u001b[39;00m \u001b[38;5;28;01mas\u001b[39;00m \u001b[38;5;21;01mnp\u001b[39;00m\n\u001b[1;32m     19\u001b[0m \u001b[38;5;28;01mimport\u001b[39;00m \u001b[38;5;21;01mscipy\u001b[39;00m\u001b[38;5;21;01m.\u001b[39;00m\u001b[38;5;21;01msparse\u001b[39;00m\n\u001b[0;32m---> 21\u001b[0m \u001b[38;5;28;01mfrom\u001b[39;00m \u001b[38;5;21;01m.\u001b[39;00m\u001b[38;5;21;01mcompat\u001b[39;00m \u001b[38;5;28;01mimport\u001b[39;00m PANDAS_INSTALLED, concat, dt_DataTable, pd_CategoricalDtype, pd_DataFrame, pd_Series\n\u001b[1;32m     22\u001b[0m \u001b[38;5;28;01mfrom\u001b[39;00m \u001b[38;5;21;01m.\u001b[39;00m\u001b[38;5;21;01mlibpath\u001b[39;00m \u001b[38;5;28;01mimport\u001b[39;00m find_lib_path\n\u001b[1;32m     24\u001b[0m \u001b[38;5;28;01mif\u001b[39;00m TYPE_CHECKING:\n",
      "File \u001b[0;32m~/opt/anaconda3/lib/python3.9/site-packages/lightgbm/compat.py:145\u001b[0m\n\u001b[1;32m    143\u001b[0m \u001b[38;5;28;01mfrom\u001b[39;00m \u001b[38;5;21;01mdask\u001b[39;00m\u001b[38;5;21;01m.\u001b[39;00m\u001b[38;5;21;01marray\u001b[39;00m \u001b[38;5;28;01mimport\u001b[39;00m from_delayed \u001b[38;5;28;01mas\u001b[39;00m dask_array_from_delayed\n\u001b[1;32m    144\u001b[0m \u001b[38;5;28;01mfrom\u001b[39;00m \u001b[38;5;21;01mdask\u001b[39;00m\u001b[38;5;21;01m.\u001b[39;00m\u001b[38;5;21;01mbag\u001b[39;00m \u001b[38;5;28;01mimport\u001b[39;00m from_delayed \u001b[38;5;28;01mas\u001b[39;00m dask_bag_from_delayed\n\u001b[0;32m--> 145\u001b[0m \u001b[38;5;28;01mfrom\u001b[39;00m \u001b[38;5;21;01mdask\u001b[39;00m\u001b[38;5;21;01m.\u001b[39;00m\u001b[38;5;21;01mdataframe\u001b[39;00m \u001b[38;5;28;01mimport\u001b[39;00m DataFrame \u001b[38;5;28;01mas\u001b[39;00m dask_DataFrame\n\u001b[1;32m    146\u001b[0m \u001b[38;5;28;01mfrom\u001b[39;00m \u001b[38;5;21;01mdask\u001b[39;00m\u001b[38;5;21;01m.\u001b[39;00m\u001b[38;5;21;01mdataframe\u001b[39;00m \u001b[38;5;28;01mimport\u001b[39;00m Series \u001b[38;5;28;01mas\u001b[39;00m dask_Series\n\u001b[1;32m    147\u001b[0m \u001b[38;5;28;01mfrom\u001b[39;00m \u001b[38;5;21;01mdask\u001b[39;00m\u001b[38;5;21;01m.\u001b[39;00m\u001b[38;5;21;01mdistributed\u001b[39;00m \u001b[38;5;28;01mimport\u001b[39;00m Client, Future, default_client, wait\n",
      "File \u001b[0;32m~/opt/anaconda3/lib/python3.9/site-packages/dask/dataframe/__init__.py:4\u001b[0m\n\u001b[1;32m      2\u001b[0m \u001b[38;5;28;01mimport\u001b[39;00m \u001b[38;5;21;01mdask\u001b[39;00m\u001b[38;5;21;01m.\u001b[39;00m\u001b[38;5;21;01mdataframe\u001b[39;00m\u001b[38;5;21;01m.\u001b[39;00m\u001b[38;5;21;01m_pyarrow_compat\u001b[39;00m\n\u001b[1;32m      3\u001b[0m \u001b[38;5;28;01mfrom\u001b[39;00m \u001b[38;5;21;01mdask\u001b[39;00m\u001b[38;5;21;01m.\u001b[39;00m\u001b[38;5;21;01mbase\u001b[39;00m \u001b[38;5;28;01mimport\u001b[39;00m compute\n\u001b[0;32m----> 4\u001b[0m \u001b[38;5;28;01mfrom\u001b[39;00m \u001b[38;5;21;01mdask\u001b[39;00m\u001b[38;5;21;01m.\u001b[39;00m\u001b[38;5;21;01mdataframe\u001b[39;00m \u001b[38;5;28;01mimport\u001b[39;00m backends, dispatch, rolling\n\u001b[1;32m      5\u001b[0m \u001b[38;5;28;01mfrom\u001b[39;00m \u001b[38;5;21;01mdask\u001b[39;00m\u001b[38;5;21;01m.\u001b[39;00m\u001b[38;5;21;01mdataframe\u001b[39;00m\u001b[38;5;21;01m.\u001b[39;00m\u001b[38;5;21;01mcore\u001b[39;00m \u001b[38;5;28;01mimport\u001b[39;00m (\n\u001b[1;32m      6\u001b[0m     DataFrame,\n\u001b[1;32m      7\u001b[0m     Index,\n\u001b[0;32m   (...)\u001b[0m\n\u001b[1;32m     13\u001b[0m     to_timedelta,\n\u001b[1;32m     14\u001b[0m )\n\u001b[1;32m     15\u001b[0m \u001b[38;5;28;01mfrom\u001b[39;00m \u001b[38;5;21;01mdask\u001b[39;00m\u001b[38;5;21;01m.\u001b[39;00m\u001b[38;5;21;01mdataframe\u001b[39;00m\u001b[38;5;21;01m.\u001b[39;00m\u001b[38;5;21;01mgroupby\u001b[39;00m \u001b[38;5;28;01mimport\u001b[39;00m Aggregation\n",
      "File \u001b[0;32m~/opt/anaconda3/lib/python3.9/site-packages/dask/dataframe/backends.py:20\u001b[0m\n\u001b[1;32m     18\u001b[0m \u001b[38;5;28;01mfrom\u001b[39;00m \u001b[38;5;21;01mdask\u001b[39;00m\u001b[38;5;21;01m.\u001b[39;00m\u001b[38;5;21;01marray\u001b[39;00m\u001b[38;5;21;01m.\u001b[39;00m\u001b[38;5;21;01mdispatch\u001b[39;00m \u001b[38;5;28;01mimport\u001b[39;00m percentile_lookup\n\u001b[1;32m     19\u001b[0m \u001b[38;5;28;01mfrom\u001b[39;00m \u001b[38;5;21;01mdask\u001b[39;00m\u001b[38;5;21;01m.\u001b[39;00m\u001b[38;5;21;01marray\u001b[39;00m\u001b[38;5;21;01m.\u001b[39;00m\u001b[38;5;21;01mpercentile\u001b[39;00m \u001b[38;5;28;01mimport\u001b[39;00m _percentile\n\u001b[0;32m---> 20\u001b[0m \u001b[38;5;28;01mfrom\u001b[39;00m \u001b[38;5;21;01mdask\u001b[39;00m\u001b[38;5;21;01m.\u001b[39;00m\u001b[38;5;21;01mdataframe\u001b[39;00m\u001b[38;5;21;01m.\u001b[39;00m\u001b[38;5;21;01mcore\u001b[39;00m \u001b[38;5;28;01mimport\u001b[39;00m DataFrame, Index, Scalar, Series, _Frame\n\u001b[1;32m     21\u001b[0m \u001b[38;5;28;01mfrom\u001b[39;00m \u001b[38;5;21;01mdask\u001b[39;00m\u001b[38;5;21;01m.\u001b[39;00m\u001b[38;5;21;01mdataframe\u001b[39;00m\u001b[38;5;21;01m.\u001b[39;00m\u001b[38;5;21;01mdispatch\u001b[39;00m \u001b[38;5;28;01mimport\u001b[39;00m (\n\u001b[1;32m     22\u001b[0m     categorical_dtype_dispatch,\n\u001b[1;32m     23\u001b[0m     concat,\n\u001b[0;32m   (...)\u001b[0m\n\u001b[1;32m     35\u001b[0m     union_categoricals_dispatch,\n\u001b[1;32m     36\u001b[0m )\n\u001b[1;32m     37\u001b[0m \u001b[38;5;28;01mfrom\u001b[39;00m \u001b[38;5;21;01mdask\u001b[39;00m\u001b[38;5;21;01m.\u001b[39;00m\u001b[38;5;21;01mdataframe\u001b[39;00m\u001b[38;5;21;01m.\u001b[39;00m\u001b[38;5;21;01mextensions\u001b[39;00m \u001b[38;5;28;01mimport\u001b[39;00m make_array_nonempty, make_scalar\n",
      "File \u001b[0;32m~/opt/anaconda3/lib/python3.9/site-packages/dask/dataframe/core.py:35\u001b[0m\n\u001b[1;32m     33\u001b[0m \u001b[38;5;28;01mfrom\u001b[39;00m \u001b[38;5;21;01mdask\u001b[39;00m\u001b[38;5;21;01m.\u001b[39;00m\u001b[38;5;21;01mblockwise\u001b[39;00m \u001b[38;5;28;01mimport\u001b[39;00m Blockwise, BlockwiseDep, BlockwiseDepDict, blockwise\n\u001b[1;32m     34\u001b[0m \u001b[38;5;28;01mfrom\u001b[39;00m \u001b[38;5;21;01mdask\u001b[39;00m\u001b[38;5;21;01m.\u001b[39;00m\u001b[38;5;21;01mcontext\u001b[39;00m \u001b[38;5;28;01mimport\u001b[39;00m globalmethod\n\u001b[0;32m---> 35\u001b[0m \u001b[38;5;28;01mfrom\u001b[39;00m \u001b[38;5;21;01mdask\u001b[39;00m\u001b[38;5;21;01m.\u001b[39;00m\u001b[38;5;21;01mdataframe\u001b[39;00m \u001b[38;5;28;01mimport\u001b[39;00m methods\n\u001b[1;32m     36\u001b[0m \u001b[38;5;28;01mfrom\u001b[39;00m \u001b[38;5;21;01mdask\u001b[39;00m\u001b[38;5;21;01m.\u001b[39;00m\u001b[38;5;21;01mdataframe\u001b[39;00m\u001b[38;5;21;01m.\u001b[39;00m\u001b[38;5;21;01m_compat\u001b[39;00m \u001b[38;5;28;01mimport\u001b[39;00m PANDAS_GT_140, PANDAS_GT_150\n\u001b[1;32m     37\u001b[0m \u001b[38;5;28;01mfrom\u001b[39;00m \u001b[38;5;21;01mdask\u001b[39;00m\u001b[38;5;21;01m.\u001b[39;00m\u001b[38;5;21;01mdataframe\u001b[39;00m\u001b[38;5;21;01m.\u001b[39;00m\u001b[38;5;21;01maccessor\u001b[39;00m \u001b[38;5;28;01mimport\u001b[39;00m CachedAccessor, DatetimeAccessor, StringAccessor\n",
      "File \u001b[0;32m~/opt/anaconda3/lib/python3.9/site-packages/dask/dataframe/methods.py:22\u001b[0m\n\u001b[1;32m     10\u001b[0m \u001b[38;5;66;03m#  preserve compatibility while moving dispatch objects\u001b[39;00m\n\u001b[1;32m     11\u001b[0m \u001b[38;5;28;01mfrom\u001b[39;00m \u001b[38;5;21;01mdask\u001b[39;00m\u001b[38;5;21;01m.\u001b[39;00m\u001b[38;5;21;01mdataframe\u001b[39;00m\u001b[38;5;21;01m.\u001b[39;00m\u001b[38;5;21;01mdispatch\u001b[39;00m \u001b[38;5;28;01mimport\u001b[39;00m (  \u001b[38;5;66;03m# noqa: F401\u001b[39;00m\n\u001b[1;32m     12\u001b[0m     concat,\n\u001b[1;32m     13\u001b[0m     concat_dispatch,\n\u001b[0;32m   (...)\u001b[0m\n\u001b[1;32m     20\u001b[0m     union_categoricals,\n\u001b[1;32m     21\u001b[0m )\n\u001b[0;32m---> 22\u001b[0m \u001b[38;5;28;01mfrom\u001b[39;00m \u001b[38;5;21;01mdask\u001b[39;00m\u001b[38;5;21;01m.\u001b[39;00m\u001b[38;5;21;01mdataframe\u001b[39;00m\u001b[38;5;21;01m.\u001b[39;00m\u001b[38;5;21;01mutils\u001b[39;00m \u001b[38;5;28;01mimport\u001b[39;00m is_dataframe_like, is_index_like, is_series_like\n\u001b[1;32m     24\u001b[0m \u001b[38;5;66;03m# cuDF may try to import old dispatch functions\u001b[39;00m\n\u001b[1;32m     25\u001b[0m hash_df \u001b[38;5;241m=\u001b[39m hash_object_dispatch\n",
      "File \u001b[0;32m~/opt/anaconda3/lib/python3.9/site-packages/dask/dataframe/utils.py:18\u001b[0m\n\u001b[1;32m     16\u001b[0m \u001b[38;5;28;01mfrom\u001b[39;00m \u001b[38;5;21;01mdask\u001b[39;00m\u001b[38;5;21;01m.\u001b[39;00m\u001b[38;5;21;01mbase\u001b[39;00m \u001b[38;5;28;01mimport\u001b[39;00m get_scheduler, is_dask_collection\n\u001b[1;32m     17\u001b[0m \u001b[38;5;28;01mfrom\u001b[39;00m \u001b[38;5;21;01mdask\u001b[39;00m\u001b[38;5;21;01m.\u001b[39;00m\u001b[38;5;21;01mcore\u001b[39;00m \u001b[38;5;28;01mimport\u001b[39;00m get_deps\n\u001b[0;32m---> 18\u001b[0m \u001b[38;5;28;01mfrom\u001b[39;00m \u001b[38;5;21;01mdask\u001b[39;00m\u001b[38;5;21;01m.\u001b[39;00m\u001b[38;5;21;01mdataframe\u001b[39;00m \u001b[38;5;28;01mimport\u001b[39;00m (  \u001b[38;5;66;03m# noqa: F401 register pandas extension types\u001b[39;00m\n\u001b[1;32m     19\u001b[0m     _dtypes,\n\u001b[1;32m     20\u001b[0m     methods,\n\u001b[1;32m     21\u001b[0m )\n\u001b[1;32m     22\u001b[0m \u001b[38;5;28;01mfrom\u001b[39;00m \u001b[38;5;21;01mdask\u001b[39;00m\u001b[38;5;21;01m.\u001b[39;00m\u001b[38;5;21;01mdataframe\u001b[39;00m\u001b[38;5;21;01m.\u001b[39;00m\u001b[38;5;21;01m_compat\u001b[39;00m \u001b[38;5;28;01mimport\u001b[39;00m PANDAS_GT_110, PANDAS_GT_120, tm  \u001b[38;5;66;03m# noqa: F401\u001b[39;00m\n\u001b[1;32m     23\u001b[0m \u001b[38;5;28;01mfrom\u001b[39;00m \u001b[38;5;21;01mdask\u001b[39;00m\u001b[38;5;21;01m.\u001b[39;00m\u001b[38;5;21;01mdataframe\u001b[39;00m\u001b[38;5;21;01m.\u001b[39;00m\u001b[38;5;21;01mdispatch\u001b[39;00m \u001b[38;5;28;01mimport\u001b[39;00m (  \u001b[38;5;66;03m# noqa : F401\u001b[39;00m\n\u001b[1;32m     24\u001b[0m     make_meta,\n\u001b[1;32m     25\u001b[0m     make_meta_obj,\n\u001b[1;32m     26\u001b[0m     meta_nonempty,\n\u001b[1;32m     27\u001b[0m )\n",
      "File \u001b[0;32m~/opt/anaconda3/lib/python3.9/site-packages/dask/dataframe/_dtypes.py:3\u001b[0m\n\u001b[1;32m      1\u001b[0m \u001b[38;5;28;01mimport\u001b[39;00m \u001b[38;5;21;01mpandas\u001b[39;00m \u001b[38;5;28;01mas\u001b[39;00m \u001b[38;5;21;01mpd\u001b[39;00m\n\u001b[0;32m----> 3\u001b[0m \u001b[38;5;28;01mfrom\u001b[39;00m \u001b[38;5;21;01mdask\u001b[39;00m\u001b[38;5;21;01m.\u001b[39;00m\u001b[38;5;21;01mdataframe\u001b[39;00m\u001b[38;5;21;01m.\u001b[39;00m\u001b[38;5;21;01mextensions\u001b[39;00m \u001b[38;5;28;01mimport\u001b[39;00m make_array_nonempty, make_scalar\n\u001b[1;32m      6\u001b[0m \u001b[38;5;129m@make_array_nonempty\u001b[39m\u001b[38;5;241m.\u001b[39mregister(pd\u001b[38;5;241m.\u001b[39mDatetimeTZDtype)\n\u001b[1;32m      7\u001b[0m \u001b[38;5;28;01mdef\u001b[39;00m \u001b[38;5;21m_\u001b[39m(dtype):\n\u001b[1;32m      8\u001b[0m     \u001b[38;5;28;01mreturn\u001b[39;00m pd\u001b[38;5;241m.\u001b[39marray([pd\u001b[38;5;241m.\u001b[39mTimestamp(\u001b[38;5;241m1\u001b[39m), pd\u001b[38;5;241m.\u001b[39mNaT], dtype\u001b[38;5;241m=\u001b[39mdtype)\n",
      "File \u001b[0;32m~/opt/anaconda3/lib/python3.9/site-packages/dask/dataframe/extensions.py:6\u001b[0m\n\u001b[1;32m      1\u001b[0m \u001b[38;5;124;03m\"\"\"\u001b[39;00m\n\u001b[1;32m      2\u001b[0m \u001b[38;5;124;03mSupport for pandas ExtensionArray in dask.dataframe.\u001b[39;00m\n\u001b[1;32m      3\u001b[0m \n\u001b[1;32m      4\u001b[0m \u001b[38;5;124;03mSee :ref:`extensionarrays` for more.\u001b[39;00m\n\u001b[1;32m      5\u001b[0m \u001b[38;5;124;03m\"\"\"\u001b[39;00m\n\u001b[0;32m----> 6\u001b[0m \u001b[38;5;28;01mfrom\u001b[39;00m \u001b[38;5;21;01mdask\u001b[39;00m\u001b[38;5;21;01m.\u001b[39;00m\u001b[38;5;21;01mdataframe\u001b[39;00m\u001b[38;5;21;01m.\u001b[39;00m\u001b[38;5;21;01maccessor\u001b[39;00m \u001b[38;5;28;01mimport\u001b[39;00m (\n\u001b[1;32m      7\u001b[0m     register_dataframe_accessor,\n\u001b[1;32m      8\u001b[0m     register_index_accessor,\n\u001b[1;32m      9\u001b[0m     register_series_accessor,\n\u001b[1;32m     10\u001b[0m )\n\u001b[1;32m     11\u001b[0m \u001b[38;5;28;01mfrom\u001b[39;00m \u001b[38;5;21;01mdask\u001b[39;00m\u001b[38;5;21;01m.\u001b[39;00m\u001b[38;5;21;01mutils\u001b[39;00m \u001b[38;5;28;01mimport\u001b[39;00m Dispatch\n\u001b[1;32m     13\u001b[0m make_array_nonempty \u001b[38;5;241m=\u001b[39m Dispatch(\u001b[38;5;124m\"\u001b[39m\u001b[38;5;124mmake_array_nonempty\u001b[39m\u001b[38;5;124m\"\u001b[39m)\n",
      "File \u001b[0;32m~/opt/anaconda3/lib/python3.9/site-packages/dask/dataframe/accessor.py:190\u001b[0m\n\u001b[1;32m    129\u001b[0m     _accessor_methods \u001b[38;5;241m=\u001b[39m (\n\u001b[1;32m    130\u001b[0m         \u001b[38;5;124m\"\u001b[39m\u001b[38;5;124masfreq\u001b[39m\u001b[38;5;124m\"\u001b[39m,\n\u001b[1;32m    131\u001b[0m         \u001b[38;5;124m\"\u001b[39m\u001b[38;5;124mceil\u001b[39m\u001b[38;5;124m\"\u001b[39m,\n\u001b[0;32m   (...)\u001b[0m\n\u001b[1;32m    145\u001b[0m         \u001b[38;5;124m\"\u001b[39m\u001b[38;5;124mtz_localize\u001b[39m\u001b[38;5;124m\"\u001b[39m,\n\u001b[1;32m    146\u001b[0m     )\n\u001b[1;32m    148\u001b[0m     _accessor_properties \u001b[38;5;241m=\u001b[39m (\n\u001b[1;32m    149\u001b[0m         \u001b[38;5;124m\"\u001b[39m\u001b[38;5;124mcomponents\u001b[39m\u001b[38;5;124m\"\u001b[39m,\n\u001b[1;32m    150\u001b[0m         \u001b[38;5;124m\"\u001b[39m\u001b[38;5;124mdate\u001b[39m\u001b[38;5;124m\"\u001b[39m,\n\u001b[0;32m   (...)\u001b[0m\n\u001b[1;32m    186\u001b[0m         \u001b[38;5;124m\"\u001b[39m\u001b[38;5;124myear\u001b[39m\u001b[38;5;124m\"\u001b[39m,\n\u001b[1;32m    187\u001b[0m     )\n\u001b[0;32m--> 190\u001b[0m \u001b[38;5;28;01mclass\u001b[39;00m \u001b[38;5;21;01mStringAccessor\u001b[39;00m(Accessor):\n\u001b[1;32m    191\u001b[0m \u001b[38;5;250m    \u001b[39m\u001b[38;5;124;03m\"\"\"Accessor object for string properties of the Series values.\u001b[39;00m\n\u001b[1;32m    192\u001b[0m \n\u001b[1;32m    193\u001b[0m \u001b[38;5;124;03m    Examples\u001b[39;00m\n\u001b[0;32m   (...)\u001b[0m\n\u001b[1;32m    196\u001b[0m \u001b[38;5;124;03m    >>> s.str.lower()  # doctest: +SKIP\u001b[39;00m\n\u001b[1;32m    197\u001b[0m \u001b[38;5;124;03m    \"\"\"\u001b[39;00m\n\u001b[1;32m    199\u001b[0m     _accessor_name \u001b[38;5;241m=\u001b[39m \u001b[38;5;124m\"\u001b[39m\u001b[38;5;124mstr\u001b[39m\u001b[38;5;124m\"\u001b[39m\n",
      "File \u001b[0;32m~/opt/anaconda3/lib/python3.9/site-packages/dask/dataframe/accessor.py:276\u001b[0m, in \u001b[0;36mStringAccessor\u001b[0;34m()\u001b[0m\n\u001b[1;32m    272\u001b[0m         meta \u001b[38;5;241m=\u001b[39m (\u001b[38;5;28mself\u001b[39m\u001b[38;5;241m.\u001b[39m_series\u001b[38;5;241m.\u001b[39mname, \u001b[38;5;28mobject\u001b[39m)\n\u001b[1;32m    273\u001b[0m     \u001b[38;5;28;01mreturn\u001b[39;00m \u001b[38;5;28mself\u001b[39m\u001b[38;5;241m.\u001b[39m_function_map(method, pat\u001b[38;5;241m=\u001b[39mpat, n\u001b[38;5;241m=\u001b[39mn, expand\u001b[38;5;241m=\u001b[39mexpand, meta\u001b[38;5;241m=\u001b[39mmeta)\n\u001b[1;32m    275\u001b[0m \u001b[38;5;129m@derived_from\u001b[39m(\n\u001b[0;32m--> 276\u001b[0m     \u001b[43mpd\u001b[49m\u001b[38;5;241;43m.\u001b[39;49m\u001b[43mcore\u001b[49m\u001b[38;5;241;43m.\u001b[39;49m\u001b[43mstrings\u001b[49m\u001b[38;5;241;43m.\u001b[39;49m\u001b[43mStringMethods\u001b[49m,\n\u001b[1;32m    277\u001b[0m     inconsistencies\u001b[38;5;241m=\u001b[39m\u001b[38;5;124m\"\u001b[39m\u001b[38;5;124m``expand=True`` with unknown ``n`` will raise a ``NotImplementedError``\u001b[39m\u001b[38;5;124m\"\u001b[39m,\n\u001b[1;32m    278\u001b[0m )\n\u001b[1;32m    279\u001b[0m \u001b[38;5;28;01mdef\u001b[39;00m \u001b[38;5;21msplit\u001b[39m(\u001b[38;5;28mself\u001b[39m, pat\u001b[38;5;241m=\u001b[39m\u001b[38;5;28;01mNone\u001b[39;00m, n\u001b[38;5;241m=\u001b[39m\u001b[38;5;241m-\u001b[39m\u001b[38;5;241m1\u001b[39m, expand\u001b[38;5;241m=\u001b[39m\u001b[38;5;28;01mFalse\u001b[39;00m):\n\u001b[1;32m    280\u001b[0m \u001b[38;5;250m    \u001b[39m\u001b[38;5;124;03m\"\"\"Known inconsistencies: ``expand=True`` with unknown ``n`` will raise a ``NotImplementedError``.\"\"\"\u001b[39;00m\n\u001b[1;32m    281\u001b[0m     \u001b[38;5;28;01mreturn\u001b[39;00m \u001b[38;5;28mself\u001b[39m\u001b[38;5;241m.\u001b[39m_split(\u001b[38;5;124m\"\u001b[39m\u001b[38;5;124msplit\u001b[39m\u001b[38;5;124m\"\u001b[39m, pat\u001b[38;5;241m=\u001b[39mpat, n\u001b[38;5;241m=\u001b[39mn, expand\u001b[38;5;241m=\u001b[39mexpand)\n",
      "\u001b[0;31mAttributeError\u001b[0m: module 'pandas.core.strings' has no attribute 'StringMethods'"
     ]
    }
   ],
   "source": [
    "from sklearn.linear_model import LinearRegression\n",
    "from sklearn.ensemble import RandomForestRegressor\n",
    "from lightgbm import LGBMRegressor\n",
    "from sklearn.metrics import mean_absolute_error\n",
    "\n",
    "def get_performance(y_tr, z_tr, y_te, z_te):\n",
    "    y_tr = np.exp(y_tr)\n",
    "    z_tr = np.exp(z_tr)\n",
    "    \n",
    "    y_te = np.exp(y_te)\n",
    "    z_te = np.exp(z_te)\n",
    "    \n",
    "    mae_tr = mean_absolute_error(y_tr, z_tr)\n",
    "    mae_te = mean_absolute_error(y_te, z_te)\n",
    "    \n",
    "    mape_tr = np.mean(np.abs(y_tr - z_tr) / y_tr)\n",
    "    mape_te = np.mean(np.abs(y_te - z_te) / y_te)\n",
    "    \n",
    "    wmape_tr = np.abs(y_tr - z_tr).sum() / y_tr.sum()\n",
    "    wmape_te = np.abs(y_te - z_te).sum() / y_te.sum()\n",
    "    \n",
    "    s = pd.Series([\n",
    "        mae_tr,\n",
    "        mae_te,\n",
    "        mape_tr,\n",
    "        mape_te,\n",
    "        wmape_tr,\n",
    "        wmape_te,\n",
    "        mae_tr / (y_tr.max() - y_tr.min()), \n",
    "        mae_te / (y_te.max() - y_te.min()),\n",
    "        mae_tr / y_tr.std(), \n",
    "        mae_te / y_te.std(),\n",
    "        mae_tr / y_tr.mean(), \n",
    "        mae_te / y_te.mean()\n",
    "    ], index=['mae_tr', 'mae_te', \n",
    "              'mape_tr', 'mape_te', \n",
    "              'wmape_tr', 'wmape_te', \n",
    "              'range_mae_tr', 'range_mae_te', \n",
    "              'std_mae_tr', 'std_mae_te', \n",
    "              'mean_mae_tr', 'mean_mae_te'])\n",
    "    \n",
    "    return s\n",
    "\n",
    "models = [\n",
    "    LinearRegression(),\n",
    "    RandomForestRegressor(n_jobs=-1, random_state=37, n_estimators=25),\n",
    "    LGBMRegressor(n_jobs=-1, random_state=37, num_leaves=10, n_estimators=50, max_depth=2)\n",
    "]\n",
    "\n",
    "for m in models:\n",
    "    m.fit(X_tr, y_tr)\n",
    "    \n",
    "pd.DataFrame([get_performance(y_tr, m.predict(X_tr), y_te, m.predict(X_te)) \n",
    "              for m in models], index=['OLS', 'RF', 'GBT'])"
   ]
  },
  {
   "cell_type": "markdown",
   "id": "2d079ba8-f2e2-4748-b8ab-8055832983a7",
   "metadata": {},
   "source": [
    "GBT seems to have the lowest validated MAE at 22.9."
   ]
  },
  {
   "cell_type": "code",
   "execution_count": null,
   "id": "6d72b16c-3789-401c-bfe8-ca488db54006",
   "metadata": {},
   "outputs": [],
   "source": [
    "simple_loglog_lr, simple_loglog_rf, simple_loglog_gb = models"
   ]
  },
  {
   "cell_type": "code",
   "execution_count": null,
   "id": "64ef91b5-e045-42df-b408-a296859ceb68",
   "metadata": {},
   "outputs": [],
   "source": [
    "import matplotlib.pyplot as plt\n",
    "\n",
    "fig, ax = plt.subplots(1, 4, figsize=(15, 3.5))\n",
    "\n",
    "_df1 = pd.DataFrame({\n",
    "    'p': X_tr['unit_price'].values,\n",
    "    'q_true': y_tr.values,\n",
    "    'q_lr': simple_loglog_lr.predict(X_tr),\n",
    "    'q_rf': simple_loglog_rf.predict(X_tr),\n",
    "    'q_gb': simple_loglog_gb.predict(X_tr)\n",
    "})\n",
    "\n",
    "_df1.plot(kind='scatter', x='q_true', y='p', ax=ax[0])\n",
    "_df1.plot(kind='scatter', x='q_lr', y='p', ax=ax[1])\n",
    "_df1.plot(kind='scatter', x='q_rf', y='p', ax=ax[2])\n",
    "_df1.plot(kind='scatter', x='q_gb', y='p', ax=ax[3])\n",
    "\n",
    "fig.tight_layout()"
   ]
  },
  {
   "cell_type": "code",
   "execution_count": null,
   "id": "41b3f3eb-240d-4459-b919-4892ec9cb6a5",
   "metadata": {},
   "outputs": [],
   "source": [
    "fig, ax = plt.subplots(1, 4, figsize=(15, 3.5))\n",
    "\n",
    "_df2 = pd.DataFrame({\n",
    "    'p': X_te['unit_price'].values,\n",
    "    'q_true': y_te.values,\n",
    "    'q_lr': simple_loglog_lr.predict(X_te),\n",
    "    'q_rf': simple_loglog_rf.predict(X_te),\n",
    "    'q_gb': simple_loglog_gb.predict(X_te)\n",
    "})\n",
    "\n",
    "_df2.plot(kind='scatter', x='q_true', y='p', ax=ax[0])\n",
    "_df2.plot(kind='scatter', x='q_lr', y='p', ax=ax[1])\n",
    "_df2.plot(kind='scatter', x='q_rf', y='p', ax=ax[2])\n",
    "_df2.plot(kind='scatter', x='q_gb', y='p', ax=ax[3])\n",
    "\n",
    "fig.tight_layout()"
   ]
  },
  {
   "cell_type": "code",
   "execution_count": null,
   "id": "9d29e72f-703e-4dfa-ab57-181beeae9cc0",
   "metadata": {},
   "outputs": [],
   "source": [
    "fig, ax = plt.subplots(1, 4, figsize=(15, 3.5))\n",
    "\n",
    "_df1.plot(kind='scatter', x='q_true', y='p', ax=ax[0], color='r')\n",
    "_df2.plot(kind='scatter', x='q_true', y='p', ax=ax[0], color='b')\n",
    "\n",
    "_df1.plot(kind='scatter', x='q_lr', y='p', ax=ax[1], color='r')\n",
    "_df2.plot(kind='scatter', x='q_lr', y='p', ax=ax[1], color='b')\n",
    "\n",
    "_df1.plot(kind='scatter', x='q_rf', y='p', ax=ax[2], color='r')\n",
    "_df2.plot(kind='scatter', x='q_rf', y='p', ax=ax[2], color='b')\n",
    "\n",
    "_df1.plot(kind='scatter', x='q_gb', y='p', ax=ax[3], color='r')\n",
    "_df2.plot(kind='scatter', x='q_gb', y='p', ax=ax[3], color='b')\n",
    "\n",
    "fig.tight_layout()"
   ]
  },
  {
   "cell_type": "markdown",
   "id": "ef32b497-9cab-4242-872c-fd07a2e8a4d1",
   "metadata": {},
   "source": [
    "## Log-log model with features\n",
    "\n",
    "$\\log{Q} \\sim \\log{P} + X_1 + X_2 + \\ldots + X_n$"
   ]
  },
  {
   "cell_type": "code",
   "execution_count": null,
   "id": "cfff5c7d-bf45-40ca-b726-b7ed099ea5f1",
   "metadata": {},
   "outputs": [],
   "source": [
    "def get_Xy(df):\n",
    "    a = df.groupby(['product_category_name', 'unit_price']) \\\n",
    "        .agg(qty_sum=pd.NamedAgg(column='qty', aggfunc='sum')) \\\n",
    "        .assign(qty_sum=lambda d: np.log(d['qty_sum'])) \\\n",
    "        .rename(columns={'qty_sum': 'quantity'})\n",
    "    \n",
    "    b = df.groupby(['product_category_name', 'unit_price']) \\\n",
    "        .agg(\n",
    "            freight_price=pd.NamedAgg(column='freight_price', aggfunc='mean'),\n",
    "            product_score=pd.NamedAgg(column='product_score', aggfunc='mean'),\n",
    "            weekday=pd.NamedAgg(column='weekday', aggfunc='mean'),\n",
    "            holiday=pd.NamedAgg(column='holiday', aggfunc='mean'),\n",
    "            customers=pd.NamedAgg(column='customers', aggfunc='mean'),\n",
    "            volume=pd.NamedAgg(column='volume', aggfunc='mean'),\n",
    "            s=pd.NamedAgg(column='s', aggfunc='mean'),\n",
    "            comp_1=pd.NamedAgg(column='comp_1', aggfunc='mean'),\n",
    "            ps1=pd.NamedAgg(column='ps1', aggfunc='mean'),\n",
    "            fp1=pd.NamedAgg(column='fp1', aggfunc='mean'),\n",
    "            comp_2=pd.NamedAgg(column='comp_2', aggfunc='mean'),\n",
    "            ps2=pd.NamedAgg(column='ps2', aggfunc='mean'),\n",
    "            fp2=pd.NamedAgg(column='fp2', aggfunc='mean'),\n",
    "            comp_3=pd.NamedAgg(column='comp_3', aggfunc='mean'),\n",
    "            ps3=pd.NamedAgg(column='ps3', aggfunc='mean'),\n",
    "            fp3=pd.NamedAgg(column='fp3', aggfunc='mean'),\n",
    "            lag_price=pd.NamedAgg(column='lag_price', aggfunc='mean')\n",
    "        )\n",
    "    \n",
    "    Xy = a \\\n",
    "        .join(b, how='left') \\\n",
    "        .reset_index() \\\n",
    "        .assign(unit_price=lambda d: np.log(d['unit_price']))\n",
    "    \n",
    "    c = pd.get_dummies(Xy[['product_category_name']]).iloc[:,1:]\n",
    "    \n",
    "    Xy = Xy.join(c, how='left').drop(columns=['product_category_name'])\n",
    "    \n",
    "    X = Xy[Xy.columns.drop(['quantity'])]\n",
    "    y = Xy['quantity']\n",
    "    \n",
    "    return X, y\n",
    "\n",
    "X_tr, y_tr = get_Xy(df_tr)\n",
    "X_te, y_te = get_Xy(df_te)\n",
    "\n",
    "X_tr.shape, X_te.shape, y_tr.shape, y_te.shape"
   ]
  },
  {
   "cell_type": "code",
   "execution_count": null,
   "id": "18ab8748-28c6-4d00-ba9e-57d7704d0881",
   "metadata": {},
   "outputs": [],
   "source": [
    "models = [\n",
    "    LinearRegression(),\n",
    "    RandomForestRegressor(n_jobs=-1, random_state=37, n_estimators=25),\n",
    "    LGBMRegressor(n_jobs=-1, random_state=37, num_leaves=10, n_estimators=50, max_depth=2)\n",
    "]\n",
    "\n",
    "for m in models:\n",
    "    m.fit(X_tr, y_tr)\n",
    "    \n",
    "pd.DataFrame([get_performance(y_tr, m.predict(X_tr), y_te, m.predict(X_te)) \n",
    "              for m in models], index=['OLS', 'RF', 'GBT'])"
   ]
  },
  {
   "cell_type": "code",
   "execution_count": null,
   "id": "b914f521-8876-4a63-bc50-0582c01cfb75",
   "metadata": {},
   "outputs": [],
   "source": [
    "features_loglog_lr, features_loglog_rf, features_loglog_gb = models"
   ]
  },
  {
   "cell_type": "code",
   "execution_count": null,
   "id": "72c1273d-3291-4410-8664-072344c027cf",
   "metadata": {},
   "outputs": [],
   "source": [
    "fig, ax = plt.subplots(1, 4, figsize=(15, 3.5))\n",
    "\n",
    "_df1 = pd.DataFrame({\n",
    "    'p': X_tr['unit_price'].values,\n",
    "    'q_true': y_tr.values,\n",
    "    'q_lr': features_loglog_lr.predict(X_tr),\n",
    "    'q_rf': features_loglog_rf.predict(X_tr),\n",
    "    'q_gb': features_loglog_gb.predict(X_tr)\n",
    "})\n",
    "\n",
    "_df1.plot(kind='scatter', x='q_true', y='p', ax=ax[0])\n",
    "_df1.plot(kind='scatter', x='q_lr', y='p', ax=ax[1])\n",
    "_df1.plot(kind='scatter', x='q_rf', y='p', ax=ax[2])\n",
    "_df1.plot(kind='scatter', x='q_gb', y='p', ax=ax[3])\n",
    "\n",
    "fig.tight_layout()"
   ]
  },
  {
   "cell_type": "code",
   "execution_count": null,
   "id": "c6ef5d78-5cb3-4fef-8c93-f7d2a93fa9de",
   "metadata": {},
   "outputs": [],
   "source": [
    "fig, ax = plt.subplots(1, 4, figsize=(15, 3.5))\n",
    "\n",
    "_df2 = pd.DataFrame({\n",
    "    'p': X_te['unit_price'].values,\n",
    "    'q_true': y_te.values,\n",
    "    'q_lr': features_loglog_lr.predict(X_te),\n",
    "    'q_rf': features_loglog_rf.predict(X_te),\n",
    "    'q_gb': features_loglog_gb.predict(X_te)\n",
    "})\n",
    "\n",
    "_df2.plot(kind='scatter', x='q_true', y='p', ax=ax[0])\n",
    "_df2.plot(kind='scatter', x='q_lr', y='p', ax=ax[1])\n",
    "_df2.plot(kind='scatter', x='q_rf', y='p', ax=ax[2])\n",
    "_df2.plot(kind='scatter', x='q_gb', y='p', ax=ax[3])\n",
    "\n",
    "fig.tight_layout()"
   ]
  },
  {
   "cell_type": "code",
   "execution_count": null,
   "id": "81d4d2ba-c0a6-4e82-bcaa-e8b69e54242f",
   "metadata": {},
   "outputs": [],
   "source": [
    "fig, ax = plt.subplots(1, 4, figsize=(15, 3.5))\n",
    "\n",
    "_df1.plot(kind='scatter', x='q_true', y='p', ax=ax[0], color='r')\n",
    "_df2.plot(kind='scatter', x='q_true', y='p', ax=ax[0], color='b')\n",
    "\n",
    "_df1.plot(kind='scatter', x='q_lr', y='p', ax=ax[1], color='r')\n",
    "_df2.plot(kind='scatter', x='q_lr', y='p', ax=ax[1], color='b')\n",
    "\n",
    "_df1.plot(kind='scatter', x='q_rf', y='p', ax=ax[2], color='r')\n",
    "_df2.plot(kind='scatter', x='q_rf', y='p', ax=ax[2], color='b')\n",
    "\n",
    "_df1.plot(kind='scatter', x='q_gb', y='p', ax=ax[3], color='r')\n",
    "_df2.plot(kind='scatter', x='q_gb', y='p', ax=ax[3], color='b')\n",
    "\n",
    "fig.tight_layout()"
   ]
  },
  {
   "cell_type": "markdown",
   "id": "ae648410-009c-493d-b0cc-b89057d30302",
   "metadata": {},
   "source": [
    "## MERF model\n",
    "\n",
    "$y_i = f(X_i) + Z_i u_i + e_i$"
   ]
  },
  {
   "cell_type": "code",
   "execution_count": null,
   "id": "8de62b40-0897-4d56-b1c7-b09400ce4bb1",
   "metadata": {},
   "outputs": [],
   "source": [
    "p2i = {c: i for i, c in enumerate(list(df['product_category_name'].unique()))}\n",
    "i2p = {v: k for k, v in p2i.items()}\n",
    "\n",
    "p2i"
   ]
  },
  {
   "cell_type": "code",
   "execution_count": null,
   "id": "bbb36f8f-7a47-4328-a8c1-ba28f54d6676",
   "metadata": {},
   "outputs": [],
   "source": [
    "def get_Xy(df):\n",
    "    a = df.groupby(['product_id', 'product_category_name', 'unit_price']) \\\n",
    "        .agg(\n",
    "            qty_sum=pd.NamedAgg(column='qty', aggfunc='sum'),\n",
    "            freight_price=pd.NamedAgg(column='freight_price', aggfunc='mean'),\n",
    "            product_score=pd.NamedAgg(column='product_score', aggfunc='mean'),\n",
    "            comp_1=pd.NamedAgg(column='comp_1', aggfunc='mean'),\n",
    "            ps1=pd.NamedAgg(column='ps1', aggfunc='mean'),\n",
    "            fp1=pd.NamedAgg(column='fp1', aggfunc='mean'),\n",
    "            comp_2=pd.NamedAgg(column='comp_2', aggfunc='mean'),\n",
    "            ps2=pd.NamedAgg(column='ps2', aggfunc='mean'),\n",
    "            fp2=pd.NamedAgg(column='fp2', aggfunc='mean'),\n",
    "            comp_3=pd.NamedAgg(column='comp_3', aggfunc='mean'),\n",
    "            ps3=pd.NamedAgg(column='ps3', aggfunc='mean'),\n",
    "            fp3=pd.NamedAgg(column='fp3', aggfunc='mean'),\n",
    "            lag_price=pd.NamedAgg(column='lag_price', aggfunc='mean')\n",
    "        ) \\\n",
    "        .assign(\n",
    "            qty_sum=lambda d: np.log(d['qty_sum'])\n",
    "        ) \\\n",
    "        .rename(columns={'qty_sum': 'quantity'}) \\\n",
    "        .reset_index() \\\n",
    "        .drop(columns=['product_id']) \\\n",
    "        .set_index(['product_category_name', 'unit_price'])\n",
    "    \n",
    "    b = df.groupby(['product_category_name', 'unit_price']) \\\n",
    "        .agg(\n",
    "            weekday=pd.NamedAgg(column='weekday', aggfunc='mean'),\n",
    "            holiday=pd.NamedAgg(column='holiday', aggfunc='mean'),\n",
    "            customers=pd.NamedAgg(column='customers', aggfunc='mean'),\n",
    "            volume=pd.NamedAgg(column='volume', aggfunc='mean'),\n",
    "            s=pd.NamedAgg(column='s', aggfunc='mean')\n",
    "        )\n",
    "    \n",
    "    Xy = a \\\n",
    "        .join(b, how='inner') \\\n",
    "        .reset_index() \\\n",
    "        .assign(unit_price=lambda d: np.log(d['unit_price']))\n",
    "    \n",
    "    Xy = Xy.assign(product_category_name=lambda d: d['product_category_name'].map(p2i))\n",
    "    \n",
    "    X = Xy[Xy.columns.drop(['quantity', 'product_category_name', 'weekday', 'holiday', 'customers', 'volume', 's'])]\n",
    "    Z = Xy[['weekday', 'holiday', 'customers', 's', 'lag_price']]\n",
    "    C = Xy['product_category_name']\n",
    "    y = Xy['quantity']\n",
    "    \n",
    "    return X, Z, C, y\n",
    "\n",
    "X_tr, Z_tr, C_tr, y_tr = get_Xy(df_tr)\n",
    "X_te, Z_te, C_te, y_te = get_Xy(df_te)"
   ]
  },
  {
   "cell_type": "code",
   "execution_count": null,
   "id": "45a4128b-68f3-41e4-a689-3a14dd22486b",
   "metadata": {},
   "outputs": [],
   "source": [
    "X_tr.shape, Z_tr.shape, C_tr.shape, y_tr.shape"
   ]
  },
  {
   "cell_type": "code",
   "execution_count": null,
   "id": "49d0b308-d950-45cb-9ab3-28d792c7a8b9",
   "metadata": {},
   "outputs": [],
   "source": [
    "X_te.shape, Z_te.shape, C_te.shape, y_te.shape"
   ]
  },
  {
   "cell_type": "code",
   "execution_count": null,
   "id": "46b74487-4977-4a88-8648-12c012afe935",
   "metadata": {},
   "outputs": [],
   "source": [
    "from merf import MERF\n",
    "\n",
    "merf = MERF(\n",
    "    fixed_effects_model=LGBMRegressor(n_jobs=-1, random_state=37, num_leaves=10, n_estimators=25, max_depth=2),\n",
    "    max_iterations=30\n",
    ")\n",
    "merf.fit(X_tr, Z_tr, C_tr, y_tr)\n",
    "get_performance(y_tr, merf.predict(X_tr, Z_tr, C_tr), y_te, merf.predict(X_te, Z_te, C_te))"
   ]
  },
  {
   "cell_type": "code",
   "execution_count": null,
   "id": "ffd505b9-1370-40ef-91e9-96a5efca96c0",
   "metadata": {},
   "outputs": [],
   "source": [
    "pd.Series(merf.fe_model.feature_importances_, X_tr.columns) \\\n",
    "    .sort_values(ascending=False)"
   ]
  },
  {
   "cell_type": "code",
   "execution_count": null,
   "id": "86130ac4-9d5d-430b-a4b7-250ba1cd54a4",
   "metadata": {},
   "outputs": [],
   "source": [
    "merf.trained_b.sort_index() \\\n",
    "    .rename(columns={0: 'weekday', 1: 'holiday', 2: 'customers', 3: 'volume', 4: 's', 5: 'lag_price'}) \\\n",
    "    .T \\\n",
    "    .rename(columns=i2p).T"
   ]
  },
  {
   "cell_type": "code",
   "execution_count": null,
   "id": "88503a38-4f5c-4852-8d25-c69051801fd7",
   "metadata": {},
   "outputs": [],
   "source": [
    "fig, ax = plt.subplots(figsize=(15, 3.5))\n",
    "\n",
    "_df1 = pd.DataFrame({\n",
    "    'p': X_tr['unit_price'].values,\n",
    "    'q_true': y_tr.values,\n",
    "    'q_pred': merf.predict(X_tr, Z_tr, C_tr)\n",
    "})\n",
    "\n",
    "_df1.plot(kind='scatter', x='q_true', y='p', ax=ax, color='r')\n",
    "_df1.plot(kind='scatter', x='q_pred', y='p', ax=ax, color='b')\n",
    "\n",
    "fig.tight_layout()"
   ]
  },
  {
   "cell_type": "code",
   "execution_count": null,
   "id": "1acd4fcc-5647-4c9a-90be-bd5a78c33615",
   "metadata": {},
   "outputs": [],
   "source": [
    "fig, ax = plt.subplots(figsize=(15, 3.5))\n",
    "\n",
    "_df2 = pd.DataFrame({\n",
    "    'p': X_te['unit_price'].values,\n",
    "    'q_true': y_te.values,\n",
    "    'q_pred': merf.predict(X_te, Z_te, C_te)\n",
    "})\n",
    "\n",
    "_df2.plot(kind='scatter', x='q_true', y='p', ax=ax, color='r')\n",
    "_df2.plot(kind='scatter', x='q_pred', y='p', ax=ax, color='b')\n",
    "\n",
    "fig.tight_layout()"
   ]
  },
  {
   "cell_type": "code",
   "execution_count": null,
   "id": "c5f04be8-436e-4817-b7ec-cbc58663ccb6",
   "metadata": {},
   "outputs": [],
   "source": []
  },
  {
   "cell_type": "code",
   "execution_count": null,
   "id": "5c151f88-54f5-4e89-867c-704a9fc2518a",
   "metadata": {},
   "outputs": [],
   "source": []
  },
  {
   "cell_type": "code",
   "execution_count": null,
   "id": "888ee093-04e7-44f0-b6ab-856ebcf14387",
   "metadata": {},
   "outputs": [],
   "source": [
    "p2i = {c: i for i, c in enumerate(list(df['product_id'].unique()))}\n",
    "i2p = {v: k for k, v in p2i.items()}\n",
    "\n",
    "p2i"
   ]
  },
  {
   "cell_type": "code",
   "execution_count": null,
   "id": "9d47fdd6-2def-43ba-a2fe-0699929ffd07",
   "metadata": {},
   "outputs": [],
   "source": [
    "c2i = {c: i for i, c in enumerate(list(df['product_category_name'].unique()))}\n",
    "i2c = {v: k for k, v in p2i.items()}\n",
    "\n",
    "c2i"
   ]
  },
  {
   "cell_type": "code",
   "execution_count": null,
   "id": "d83e9494-8181-4f54-aae3-46ddd059afd2",
   "metadata": {},
   "outputs": [],
   "source": [
    "c2i.keys()"
   ]
  },
  {
   "cell_type": "code",
   "execution_count": null,
   "id": "b498c57d-98e0-452c-9eec-ee47a0f994af",
   "metadata": {},
   "outputs": [],
   "source": [
    "def get_Xy(df):\n",
    "    a = df.groupby(['product_id', 'product_category_name', 'unit_price']) \\\n",
    "        .agg(\n",
    "            qty_sum=pd.NamedAgg(column='qty', aggfunc='sum'),\n",
    "            freight_price=pd.NamedAgg(column='freight_price', aggfunc='mean'),\n",
    "            product_score=pd.NamedAgg(column='product_score', aggfunc='mean'),\n",
    "            comp_1=pd.NamedAgg(column='comp_1', aggfunc='mean'),\n",
    "            ps1=pd.NamedAgg(column='ps1', aggfunc='mean'),\n",
    "            fp1=pd.NamedAgg(column='fp1', aggfunc='mean'),\n",
    "            comp_2=pd.NamedAgg(column='comp_2', aggfunc='mean'),\n",
    "            ps2=pd.NamedAgg(column='ps2', aggfunc='mean'),\n",
    "            fp2=pd.NamedAgg(column='fp2', aggfunc='mean'),\n",
    "            comp_3=pd.NamedAgg(column='comp_3', aggfunc='mean'),\n",
    "            ps3=pd.NamedAgg(column='ps3', aggfunc='mean'),\n",
    "            fp3=pd.NamedAgg(column='fp3', aggfunc='mean'),\n",
    "            lag_price=pd.NamedAgg(column='lag_price', aggfunc='mean')\n",
    "        ) \\\n",
    "        .assign(\n",
    "            qty_sum=lambda d: np.log(d['qty_sum'])\n",
    "        ) \\\n",
    "        .rename(columns={'qty_sum': 'quantity'}) \\\n",
    "        .reset_index() \\\n",
    "        .assign(\n",
    "            bed1=lambda d: np.where(d['product_id']=='bed1', 1, 0),\n",
    "            garden5=lambda d: np.where(d['product_id']=='garden5', 1, 0),\n",
    "            consoles1=lambda d: np.where(d['product_id']=='consoles1', 1, 0),\n",
    "            garden7=lambda d: np.where(d['product_id']=='garden7', 1, 0),\n",
    "            health9=lambda d: np.where(d['product_id']=='health9', 1, 0),\n",
    "            cool4=lambda d: np.where(d['product_id']=='cool4', 1, 0),\n",
    "            health3=lambda d: np.where(d['product_id']=='health3', 1, 0),\n",
    "            perfumery1=lambda d: np.where(d['product_id']=='perfumery1', 1, 0),\n",
    "            cool5=lambda d: np.where(d['product_id']=='cool5', 1, 0),\n",
    "            health8=lambda d: np.where(d['product_id']=='health8', 1, 0),\n",
    "            garden4=lambda d: np.where(d['product_id']=='garden4', 1, 0),\n",
    "            computers5=lambda d: np.where(d['product_id']=='computers5', 1, 0),\n",
    "            garden10=lambda d: np.where(d['product_id']=='garden10', 1, 0),\n",
    "            computers6=lambda d: np.where(d['product_id']=='computers6', 1, 0),\n",
    "            health6=lambda d: np.where(d['product_id']=='health6', 1, 0),\n",
    "            garden6=lambda d: np.where(d['product_id']=='garden6', 1, 0),\n",
    "            health10=lambda d: np.where(d['product_id']=='health10', 1, 0),\n",
    "            watches2=lambda d: np.where(d['product_id']=='watches2', 1, 0),\n",
    "            health1=lambda d: np.where(d['product_id']=='health1', 1, 0),\n",
    "            garden8=lambda d: np.where(d['product_id']=='garden8', 1, 0),\n",
    "            garden9=lambda d: np.where(d['product_id']=='garden9', 1, 0),\n",
    "            watches6=lambda d: np.where(d['product_id']=='watches6', 1, 0),\n",
    "            cool3=lambda d: np.where(d['product_id']=='cool3', 1, 0),\n",
    "            perfumery2=lambda d: np.where(d['product_id']=='perfumery2', 1, 0),\n",
    "            cool2=lambda d: np.where(d['product_id']=='cool2', 1, 0),\n",
    "            computers1=lambda d: np.where(d['product_id']=='computers1', 1, 0),\n",
    "            consoles2=lambda d: np.where(d['product_id']=='consoles2', 1, 0),\n",
    "            health5=lambda d: np.where(d['product_id']=='health5', 1, 0),\n",
    "            watches8=lambda d: np.where(d['product_id']=='watches8', 1, 0),\n",
    "            furniture4=lambda d: np.where(d['product_id']=='furniture4', 1, 0),\n",
    "            watches5=lambda d: np.where(d['product_id']=='watches5', 1, 0),\n",
    "            health7=lambda d: np.where(d['product_id']=='health7', 1, 0),\n",
    "            bed3=lambda d: np.where(d['product_id']=='bed3', 1, 0),\n",
    "            garden3=lambda d: np.where(d['product_id']=='garden3', 1, 0),\n",
    "            bed2=lambda d: np.where(d['product_id']=='bed2', 1, 0),\n",
    "            furniture3=lambda d: np.where(d['product_id']=='furniture3', 1, 0),\n",
    "            watches4=lambda d: np.where(d['product_id']=='watches4', 1, 0),\n",
    "            watches3=lambda d: np.where(d['product_id']=='watches3', 1, 0),\n",
    "            furniture2=lambda d: np.where(d['product_id']=='furniture2', 1, 0),\n",
    "            garden2=lambda d: np.where(d['product_id']=='garden2', 1, 0),\n",
    "            furniture1=lambda d: np.where(d['product_id']=='furniture1', 1, 0),\n",
    "            health2=lambda d: np.where(d['product_id']=='health2', 1, 0),\n",
    "            garden1=lambda d: np.where(d['product_id']=='garden1', 1, 0),\n",
    "            cool1=lambda d: np.where(d['product_id']=='cool1', 1, 0),\n",
    "            computers4=lambda d: np.where(d['product_id']=='computers4', 1, 0),\n",
    "            watches7=lambda d: np.where(d['product_id']=='watches7', 1, 0),\n",
    "            computers3=lambda d: np.where(d['product_id']=='computers3', 1, 0),\n",
    "            health4=lambda d: np.where(d['product_id']=='health4', 1, 0),\n",
    "            watches1=lambda d: np.where(d['product_id']=='watches1', 1, 0),\n",
    "            computers2=lambda d: np.where(d['product_id']=='computers2', 1, 0),\n",
    "            bed4=lambda d: np.where(d['product_id']=='bed4', 1, 0),\n",
    "            bed5=lambda d: np.where(d['product_id']=='bed5', 1, 0)\n",
    "        ) \\\n",
    "        .drop(columns=['product_id']) \\\n",
    "        .set_index(['product_category_name', 'unit_price'])\n",
    "    \n",
    "    b = df.groupby(['product_category_name', 'unit_price']) \\\n",
    "        .agg(\n",
    "            weekday=pd.NamedAgg(column='weekday', aggfunc='mean'),\n",
    "            holiday=pd.NamedAgg(column='holiday', aggfunc='mean'),\n",
    "            customers=pd.NamedAgg(column='customers', aggfunc='mean'),\n",
    "            volume=pd.NamedAgg(column='volume', aggfunc='mean'),\n",
    "            s=pd.NamedAgg(column='s', aggfunc='mean')\n",
    "        ) \\\n",
    "        .reset_index() \\\n",
    "        .assign(\n",
    "            bed_bath_table=lambda d: np.where(d['product_category_name']=='bed_bath_table', 1, 0),\n",
    "            garden_tools=lambda d: np.where(d['product_category_name']=='garden_tools', 1, 0),\n",
    "            consoles_games=lambda d: np.where(d['product_category_name']=='consoles_games', 1, 0),\n",
    "            health_beauty=lambda d: np.where(d['product_category_name']=='health_beauty', 1, 0),\n",
    "            cool_stuff=lambda d: np.where(d['product_category_name']=='cool_stuff', 1, 0),\n",
    "            perfumery=lambda d: np.where(d['product_category_name']=='perfumery', 1, 0),\n",
    "            computers_accessories=lambda d: np.where(d['product_category_name']=='computers_accessories', 1, 0),\n",
    "            watches_gifts=lambda d: np.where(d['product_category_name']=='watches_gifts', 1, 0),\n",
    "            furniture_decor=lambda d: np.where(d['product_category_name']=='furniture_decor', 1, 0)\n",
    "        ) \\\n",
    "        .set_index(['product_category_name', 'unit_price'])\n",
    "    \n",
    "    Xy = a \\\n",
    "        .join(b, how='inner') \\\n",
    "        .reset_index() \\\n",
    "        .assign(unit_price=lambda d: np.log(d['unit_price']))\n",
    "    \n",
    "    Xy = Xy.assign(product_category_name=lambda d: d['product_category_name'].map(c2i)) \\\n",
    "        .query('unit_price < 5.7') \\\n",
    "        .query('quantity < 4.3')\n",
    "    \n",
    "    X = Xy[Xy.columns.drop(['quantity', 'product_category_name', 'bed_bath_table', 'garden_tools', 'consoles_games', 'health_beauty', 'cool_stuff', 'perfumery', 'computers_accessories', 'watches_gifts', 'furniture_decor', 'weekday', 'holiday', 'customers', 'volume', 's'])]\n",
    "    Z = Xy[['bed_bath_table', 'garden_tools', 'consoles_games', 'health_beauty', 'cool_stuff', 'perfumery', 'computers_accessories', 'watches_gifts', 'furniture_decor', 'weekday', 'holiday', 'customers', 's']]\n",
    "    C = Xy['product_category_name']\n",
    "    y = Xy['quantity']\n",
    "    \n",
    "    return X, Z, C, y\n",
    "\n",
    "X_tr, Z_tr, C_tr, y_tr = get_Xy(df_tr)\n",
    "X_te, Z_te, C_te, y_te = get_Xy(df_te)"
   ]
  },
  {
   "cell_type": "code",
   "execution_count": null,
   "id": "bf954f56-d8a2-4c68-ab39-e186768b85a1",
   "metadata": {},
   "outputs": [],
   "source": [
    "X_tr.shape, Z_tr.shape, C_tr.shape, y_tr.shape"
   ]
  },
  {
   "cell_type": "code",
   "execution_count": null,
   "id": "8c5ec512-50ff-4dbc-bdcf-1c63a8419cda",
   "metadata": {},
   "outputs": [],
   "source": [
    "X_te.shape, Z_te.shape, C_te.shape, y_te.shape"
   ]
  },
  {
   "cell_type": "code",
   "execution_count": null,
   "id": "d376e6a9-de5d-45aa-b46e-984c675792c6",
   "metadata": {},
   "outputs": [],
   "source": [
    "merf = MERF(\n",
    "    fixed_effects_model=LGBMRegressor(n_jobs=-1, random_state=37, num_leaves=500, n_estimators=5, max_depth=100),\n",
    "    max_iterations=30\n",
    ")\n",
    "merf.fit(X_tr, Z_tr, C_tr, y_tr)\n",
    "get_performance(y_tr, merf.predict(X_tr, Z_tr, C_tr), y_te, merf.predict(X_te, Z_te, C_te))"
   ]
  },
  {
   "cell_type": "code",
   "execution_count": null,
   "id": "cb8918ca-2e88-4b1b-8a09-a523548be09f",
   "metadata": {},
   "outputs": [],
   "source": [
    "gbm = LGBMRegressor(n_jobs=-1, random_state=37, num_leaves=10, n_estimators=50, max_depth=100)\n",
    "gbm.fit(X_tr.join(Z_tr), y_tr)"
   ]
  },
  {
   "cell_type": "code",
   "execution_count": null,
   "id": "f863d6a0-2f80-437f-88eb-072ff2ff023a",
   "metadata": {},
   "outputs": [],
   "source": [
    "get_performance(y_tr, gbm.predict(X_tr.join(Z_tr)), y_te, gbm.predict(X_te.join(Z_te)))"
   ]
  },
  {
   "cell_type": "code",
   "execution_count": null,
   "id": "713d286c-708c-4af2-a0f8-a9bb04143c06",
   "metadata": {},
   "outputs": [],
   "source": [
    "rf = RandomForestRegressor(n_jobs=-1, random_state=37, n_estimators=500, criterion='absolute_error', bootstrap=True, warm_start=True, min_samples_split=5)\n",
    "rf.fit(X_tr.join(Z_tr), y_tr)\n",
    "get_performance(y_tr, rf.predict(X_tr.join(Z_tr)), y_te, rf.predict(X_te.join(Z_te)))"
   ]
  },
  {
   "cell_type": "code",
   "execution_count": null,
   "id": "f8221773-e148-4c0d-93df-5d8f62edea83",
   "metadata": {},
   "outputs": [],
   "source": [
    "fig, ax = plt.subplots(figsize=(15, 3.5))\n",
    "\n",
    "_df1 = pd.DataFrame({\n",
    "    'p': np.exp(X_tr['unit_price'].values),\n",
    "    'q_true': np.exp(y_tr.values),\n",
    "    'q_pred': np.exp(rf.predict(X_tr.join(Z_tr)))\n",
    "})\n",
    "\n",
    "_df1.plot(kind='scatter', x='q_true', y='p', ax=ax, color='r')\n",
    "_df1.plot(kind='scatter', x='q_pred', y='p', ax=ax, color='b')\n",
    "\n",
    "ax.set_xlabel('q')\n",
    "\n",
    "fig.tight_layout()"
   ]
  },
  {
   "cell_type": "code",
   "execution_count": null,
   "id": "17071f79-1666-4aac-8dcd-e28ca475cf90",
   "metadata": {},
   "outputs": [],
   "source": [
    "fig, ax = plt.subplots(figsize=(15, 3.5))\n",
    "\n",
    "_df2 = pd.DataFrame({\n",
    "    'p': np.exp(X_te['unit_price'].values),\n",
    "    'q_true': np.exp(y_te.values),\n",
    "    'q_pred': np.exp(rf.predict(X_te.join(Z_te)))\n",
    "})\n",
    "\n",
    "_df2.plot(kind='scatter', x='q_true', y='p', ax=ax, color='r')\n",
    "_df2.plot(kind='scatter', x='q_pred', y='p', ax=ax, color='b')\n",
    "\n",
    "ax.set_xlabel('q')\n",
    "\n",
    "fig.tight_layout()"
   ]
  },
  {
   "cell_type": "code",
   "execution_count": null,
   "id": "97ad14d1-b212-478c-aa49-7c9a8d060fcc",
   "metadata": {},
   "outputs": [],
   "source": [
    "_proto = X_tr.join(Z_tr).iloc[40].to_dict()\n",
    "_df = pd.DataFrame([{**_proto, **{'unit_price': np.log(p)}} for p in np.arange(20, 61, 1)])\n",
    "_q = rf.predict(_df)\n",
    "_p = _df['unit_price'].values\n",
    "\n",
    "pd.DataFrame({'p': np.exp(_p), 'q': np.exp(_q)}).plot(kind='scatter', x='q', y='p')"
   ]
  },
  {
   "cell_type": "code",
   "execution_count": null,
   "id": "5b73c814-8572-4d46-9f53-2a1ae3bea26f",
   "metadata": {},
   "outputs": [],
   "source": []
  }
 ],
 "metadata": {
  "kernelspec": {
   "display_name": "Python 3 (ipykernel)",
   "language": "python",
   "name": "python3"
  },
  "language_info": {
   "codemirror_mode": {
    "name": "ipython",
    "version": 3
   },
   "file_extension": ".py",
   "mimetype": "text/x-python",
   "name": "python",
   "nbconvert_exporter": "python",
   "pygments_lexer": "ipython3",
   "version": "3.9.16"
  },
  "widgets": {
   "application/vnd.jupyter.widget-state+json": {
    "state": {},
    "version_major": 2,
    "version_minor": 0
   }
  }
 },
 "nbformat": 4,
 "nbformat_minor": 5
}
