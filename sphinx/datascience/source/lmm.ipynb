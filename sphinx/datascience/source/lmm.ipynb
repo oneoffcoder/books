{
 "cells": [
  {
   "cell_type": "markdown",
   "id": "matched-extent",
   "metadata": {},
   "source": [
    "# Linear Mixed Model\n",
    "\n",
    "When we have data that is grouped or somehow correlated and want to use regression to model the data, one may attempt the following:\n",
    "\n",
    "- run one regression model (eg what we would do anyways); this approach breaks the IID assumption and underestimates the standard error variance\n",
    "- run multiple regression models (eg run a regression for each cluster of grouped/non-IID data); this approach increases the chances of Type I error (multiple comparison) and uses a reduced data set for each regression\n",
    "\n",
    "Linear mixed modeling `LMM` is a type of regression modeling approach that accounts for the violation of non-IID (independently and identically distributed) data and is a balance between the two approaches above. The problem of non-IID data is that using ordinary regression may underestimate the variance (standard error) of the parameter estimations and lead to incorrect hypothesis testing as well as a model that is no longer the Best Linear Unbiased Estimator `BLUE`. Additionally, LMM are useful for understanding within and between group differences.\n",
    "\n",
    "There are many ways to combat non-IID:\n",
    "\n",
    "- get a better model (eg use multilevel or linear mixed models)\n",
    "- get a better variance estimator (eg Huber sandwich estimator)\n",
    "- sample the data (eg Iteratively Reweighting Least Square)\n",
    "\n",
    "In this notebook, we will focus on LMM and two ways to estimate the standard errors using maximum likelihood `ML` and restricted maximum likelihood `REML`. It should be noted that multilevel models are a type of LMM, but not all LMMs are multilevel. A LMM is denoted as follows, \n",
    "\n",
    "- $Y = X \\beta + Z u + e$,\n",
    "\n",
    "where\n",
    "\n",
    "- $\\beta$ are the coefficients (intercept and slope),\n",
    "- $X$ is the design matrix (independent variables) of dimension $N$ x $M$ ($N$ rows and $M$ columns),\n",
    "- $Z$ is a sparse indicator matrix of the group (of each observation in $X$) of dimension $N$ x $J$ ($N$ rows and $J$ columns),\n",
    "- $u$ and $e$ are the error terms corresponding to $X$ and $Z$, respectively, and\n",
    "- $Y$ is the dependent variable.\n",
    "\n",
    "Note that $u$ and $e$ are column vectors assumed to be normally distributed with zero means and covariance $G$ and $R$ as follows,\n",
    "\n",
    "$\\begin{pmatrix} u \\\\ e \\end{pmatrix} \\sim \\mathcal{N} \\begin{pmatrix} \\begin{pmatrix} 0 \\\\ 0 \\end{pmatrix}, \\begin{pmatrix} G & 0 \\\\ 0 & R \\end{pmatrix} \\end{pmatrix}$\n",
    "\n",
    "where\n",
    "\n",
    "- $G_{JxJ} = I \\sigma^2_{\\mathrm{group}}$, and\n",
    "- $R_{NxN} = I \\sigma^2_{\\mathrm{residual}}$.\n",
    "\n",
    "For clarity, \n",
    "\n",
    "- $u \\sim \\mathcal{N}(0, G)$, and\n",
    "- $e \\sim \\mathcal{N}(0, R)$.\n",
    "\n",
    "The variables in $X$ are said to be `fixed effects` and the grouping variables in $Z$ are said to be the `random effects`. Grouping variables are categorical and can be quite complex in their relationship to one another. Grouping variables can be \n",
    "\n",
    "- nested (when the groups exists within other groups eg patients are observed only within a single hospital),\n",
    "- partially crossed (when some groups are seen with others eg some patients are observed across some hospitals), or\n",
    "- crossed (when all groups are seen with all other groups eg all patients are observed across all hospitals).\n",
    "\n",
    "In mature LMM packages (e.g. [lme4](https://cran.r-project.org/web/packages/lme4/index.html)), these types of grouping relationships are easily expressed. The mixture of fixed and random effects is the `mixed` in linear mixed models `LMM`. \n",
    "\n",
    "In probability form, a LMM can be written as follows.\n",
    "\n",
    "- $P(Y|\\beta; u) \\sim \\mathcal{N}(X \\beta + Z u, R)$\n",
    "\n",
    "In a multilevel model, when we allow for the intercept to vary, a LMM can be written as follows.\n",
    "\n",
    "- L1: $Y_{ij} = \\beta_{0j} + \\beta_{1j} X_{ij} + \\ldots + \\beta_{mj} X_{mj} + e_{ij}$,\n",
    "- L2: $\\beta_{0j} = \\gamma_{00} + u_{0j}$,\n",
    "- L2: $\\beta_{1j} = \\gamma_{10}$,\n",
    "- $\\dots$,\n",
    "- L2: $\\beta_{mj} = \\gamma_{mj}$,\n",
    "\n",
    "where\n",
    "\n",
    "- L1 is the Level 1 model (micro-model) of the individual units (e.g. student, patient),\n",
    "- L2 is a Level 2 model (macro-model) of the grouped/clustered units (e.g. teacher, hospital),\n",
    "- $Y_{ij}$ is the value of the dependent variable for i-th individual and the j-th group,\n",
    "- $\\beta_{0j}$ is the intercept for the j-th group,\n",
    "- $\\beta_{1j}, \\ldots, \\beta_{mj}$ are the coefficients for the j-th group, and\n",
    "- $e_{ij}$ is the error for the i-th individual for the j-th group.\n",
    "\n",
    "Notice how the intercept $\\beta_{0j}$ is the only parameter we allow to vary at `L2` (it is the only parameter at `L2` that has an error term). If we allow the other parameters to vary at `L2` (have error terms), then the multilevel model is said to be a random-intercept, random-slope multilevel model."
   ]
  },
  {
   "cell_type": "markdown",
   "id": "laden-harassment",
   "metadata": {},
   "source": [
    "## Data\n",
    "\n",
    "This data is take from a [Littell 2006](https://www.amazon.com/Mixed-Models-Second-Ramon-Littell/dp/1590475003). In this data, we have 7 ingots, 3 metal types  and 1 dependent variable. "
   ]
  },
  {
   "cell_type": "code",
   "execution_count": 1,
   "id": "greenhouse-adams",
   "metadata": {
    "tags": []
   },
   "outputs": [
    {
     "data": {
      "text/html": [
       "<div>\n",
       "<style scoped>\n",
       "    .dataframe tbody tr th:only-of-type {\n",
       "        vertical-align: middle;\n",
       "    }\n",
       "\n",
       "    .dataframe tbody tr th {\n",
       "        vertical-align: top;\n",
       "    }\n",
       "\n",
       "    .dataframe thead th {\n",
       "        text-align: right;\n",
       "    }\n",
       "</style>\n",
       "<table border=\"1\" class=\"dataframe\">\n",
       "  <thead>\n",
       "    <tr style=\"text-align: right;\">\n",
       "      <th></th>\n",
       "      <th>ingot</th>\n",
       "      <th>metal</th>\n",
       "      <th>pres</th>\n",
       "      <th>ingot_1</th>\n",
       "      <th>ingot_2</th>\n",
       "      <th>ingot_3</th>\n",
       "      <th>ingot_4</th>\n",
       "      <th>ingot_5</th>\n",
       "      <th>ingot_6</th>\n",
       "      <th>ingot_7</th>\n",
       "    </tr>\n",
       "  </thead>\n",
       "  <tbody>\n",
       "    <tr>\n",
       "      <th>0</th>\n",
       "      <td>1</td>\n",
       "      <td>n</td>\n",
       "      <td>67.0</td>\n",
       "      <td>1</td>\n",
       "      <td>0</td>\n",
       "      <td>0</td>\n",
       "      <td>0</td>\n",
       "      <td>0</td>\n",
       "      <td>0</td>\n",
       "      <td>0</td>\n",
       "    </tr>\n",
       "    <tr>\n",
       "      <th>1</th>\n",
       "      <td>1</td>\n",
       "      <td>i</td>\n",
       "      <td>71.9</td>\n",
       "      <td>1</td>\n",
       "      <td>0</td>\n",
       "      <td>0</td>\n",
       "      <td>0</td>\n",
       "      <td>0</td>\n",
       "      <td>0</td>\n",
       "      <td>0</td>\n",
       "    </tr>\n",
       "    <tr>\n",
       "      <th>2</th>\n",
       "      <td>1</td>\n",
       "      <td>c</td>\n",
       "      <td>72.2</td>\n",
       "      <td>1</td>\n",
       "      <td>0</td>\n",
       "      <td>0</td>\n",
       "      <td>0</td>\n",
       "      <td>0</td>\n",
       "      <td>0</td>\n",
       "      <td>0</td>\n",
       "    </tr>\n",
       "    <tr>\n",
       "      <th>3</th>\n",
       "      <td>2</td>\n",
       "      <td>n</td>\n",
       "      <td>67.5</td>\n",
       "      <td>0</td>\n",
       "      <td>1</td>\n",
       "      <td>0</td>\n",
       "      <td>0</td>\n",
       "      <td>0</td>\n",
       "      <td>0</td>\n",
       "      <td>0</td>\n",
       "    </tr>\n",
       "    <tr>\n",
       "      <th>4</th>\n",
       "      <td>2</td>\n",
       "      <td>i</td>\n",
       "      <td>68.8</td>\n",
       "      <td>0</td>\n",
       "      <td>1</td>\n",
       "      <td>0</td>\n",
       "      <td>0</td>\n",
       "      <td>0</td>\n",
       "      <td>0</td>\n",
       "      <td>0</td>\n",
       "    </tr>\n",
       "    <tr>\n",
       "      <th>5</th>\n",
       "      <td>2</td>\n",
       "      <td>c</td>\n",
       "      <td>66.4</td>\n",
       "      <td>0</td>\n",
       "      <td>1</td>\n",
       "      <td>0</td>\n",
       "      <td>0</td>\n",
       "      <td>0</td>\n",
       "      <td>0</td>\n",
       "      <td>0</td>\n",
       "    </tr>\n",
       "    <tr>\n",
       "      <th>6</th>\n",
       "      <td>3</td>\n",
       "      <td>n</td>\n",
       "      <td>76.0</td>\n",
       "      <td>0</td>\n",
       "      <td>0</td>\n",
       "      <td>1</td>\n",
       "      <td>0</td>\n",
       "      <td>0</td>\n",
       "      <td>0</td>\n",
       "      <td>0</td>\n",
       "    </tr>\n",
       "    <tr>\n",
       "      <th>7</th>\n",
       "      <td>3</td>\n",
       "      <td>i</td>\n",
       "      <td>82.6</td>\n",
       "      <td>0</td>\n",
       "      <td>0</td>\n",
       "      <td>1</td>\n",
       "      <td>0</td>\n",
       "      <td>0</td>\n",
       "      <td>0</td>\n",
       "      <td>0</td>\n",
       "    </tr>\n",
       "    <tr>\n",
       "      <th>8</th>\n",
       "      <td>3</td>\n",
       "      <td>c</td>\n",
       "      <td>74.5</td>\n",
       "      <td>0</td>\n",
       "      <td>0</td>\n",
       "      <td>1</td>\n",
       "      <td>0</td>\n",
       "      <td>0</td>\n",
       "      <td>0</td>\n",
       "      <td>0</td>\n",
       "    </tr>\n",
       "    <tr>\n",
       "      <th>9</th>\n",
       "      <td>4</td>\n",
       "      <td>n</td>\n",
       "      <td>72.7</td>\n",
       "      <td>0</td>\n",
       "      <td>0</td>\n",
       "      <td>0</td>\n",
       "      <td>1</td>\n",
       "      <td>0</td>\n",
       "      <td>0</td>\n",
       "      <td>0</td>\n",
       "    </tr>\n",
       "    <tr>\n",
       "      <th>10</th>\n",
       "      <td>4</td>\n",
       "      <td>i</td>\n",
       "      <td>78.1</td>\n",
       "      <td>0</td>\n",
       "      <td>0</td>\n",
       "      <td>0</td>\n",
       "      <td>1</td>\n",
       "      <td>0</td>\n",
       "      <td>0</td>\n",
       "      <td>0</td>\n",
       "    </tr>\n",
       "    <tr>\n",
       "      <th>11</th>\n",
       "      <td>4</td>\n",
       "      <td>c</td>\n",
       "      <td>67.3</td>\n",
       "      <td>0</td>\n",
       "      <td>0</td>\n",
       "      <td>0</td>\n",
       "      <td>1</td>\n",
       "      <td>0</td>\n",
       "      <td>0</td>\n",
       "      <td>0</td>\n",
       "    </tr>\n",
       "    <tr>\n",
       "      <th>12</th>\n",
       "      <td>5</td>\n",
       "      <td>n</td>\n",
       "      <td>73.1</td>\n",
       "      <td>0</td>\n",
       "      <td>0</td>\n",
       "      <td>0</td>\n",
       "      <td>0</td>\n",
       "      <td>1</td>\n",
       "      <td>0</td>\n",
       "      <td>0</td>\n",
       "    </tr>\n",
       "    <tr>\n",
       "      <th>13</th>\n",
       "      <td>5</td>\n",
       "      <td>i</td>\n",
       "      <td>74.2</td>\n",
       "      <td>0</td>\n",
       "      <td>0</td>\n",
       "      <td>0</td>\n",
       "      <td>0</td>\n",
       "      <td>1</td>\n",
       "      <td>0</td>\n",
       "      <td>0</td>\n",
       "    </tr>\n",
       "    <tr>\n",
       "      <th>14</th>\n",
       "      <td>5</td>\n",
       "      <td>c</td>\n",
       "      <td>73.2</td>\n",
       "      <td>0</td>\n",
       "      <td>0</td>\n",
       "      <td>0</td>\n",
       "      <td>0</td>\n",
       "      <td>1</td>\n",
       "      <td>0</td>\n",
       "      <td>0</td>\n",
       "    </tr>\n",
       "    <tr>\n",
       "      <th>15</th>\n",
       "      <td>6</td>\n",
       "      <td>n</td>\n",
       "      <td>65.8</td>\n",
       "      <td>0</td>\n",
       "      <td>0</td>\n",
       "      <td>0</td>\n",
       "      <td>0</td>\n",
       "      <td>0</td>\n",
       "      <td>1</td>\n",
       "      <td>0</td>\n",
       "    </tr>\n",
       "    <tr>\n",
       "      <th>16</th>\n",
       "      <td>6</td>\n",
       "      <td>i</td>\n",
       "      <td>70.8</td>\n",
       "      <td>0</td>\n",
       "      <td>0</td>\n",
       "      <td>0</td>\n",
       "      <td>0</td>\n",
       "      <td>0</td>\n",
       "      <td>1</td>\n",
       "      <td>0</td>\n",
       "    </tr>\n",
       "    <tr>\n",
       "      <th>17</th>\n",
       "      <td>6</td>\n",
       "      <td>c</td>\n",
       "      <td>68.7</td>\n",
       "      <td>0</td>\n",
       "      <td>0</td>\n",
       "      <td>0</td>\n",
       "      <td>0</td>\n",
       "      <td>0</td>\n",
       "      <td>1</td>\n",
       "      <td>0</td>\n",
       "    </tr>\n",
       "    <tr>\n",
       "      <th>18</th>\n",
       "      <td>7</td>\n",
       "      <td>n</td>\n",
       "      <td>75.6</td>\n",
       "      <td>0</td>\n",
       "      <td>0</td>\n",
       "      <td>0</td>\n",
       "      <td>0</td>\n",
       "      <td>0</td>\n",
       "      <td>0</td>\n",
       "      <td>1</td>\n",
       "    </tr>\n",
       "    <tr>\n",
       "      <th>19</th>\n",
       "      <td>7</td>\n",
       "      <td>i</td>\n",
       "      <td>84.9</td>\n",
       "      <td>0</td>\n",
       "      <td>0</td>\n",
       "      <td>0</td>\n",
       "      <td>0</td>\n",
       "      <td>0</td>\n",
       "      <td>0</td>\n",
       "      <td>1</td>\n",
       "    </tr>\n",
       "    <tr>\n",
       "      <th>20</th>\n",
       "      <td>7</td>\n",
       "      <td>c</td>\n",
       "      <td>69.0</td>\n",
       "      <td>0</td>\n",
       "      <td>0</td>\n",
       "      <td>0</td>\n",
       "      <td>0</td>\n",
       "      <td>0</td>\n",
       "      <td>0</td>\n",
       "      <td>1</td>\n",
       "    </tr>\n",
       "  </tbody>\n",
       "</table>\n",
       "</div>"
      ],
      "text/plain": [
       "    ingot metal  pres  ingot_1  ingot_2  ingot_3  ingot_4  ingot_5  ingot_6  \\\n",
       "0       1     n  67.0        1        0        0        0        0        0   \n",
       "1       1     i  71.9        1        0        0        0        0        0   \n",
       "2       1     c  72.2        1        0        0        0        0        0   \n",
       "3       2     n  67.5        0        1        0        0        0        0   \n",
       "4       2     i  68.8        0        1        0        0        0        0   \n",
       "5       2     c  66.4        0        1        0        0        0        0   \n",
       "6       3     n  76.0        0        0        1        0        0        0   \n",
       "7       3     i  82.6        0        0        1        0        0        0   \n",
       "8       3     c  74.5        0        0        1        0        0        0   \n",
       "9       4     n  72.7        0        0        0        1        0        0   \n",
       "10      4     i  78.1        0        0        0        1        0        0   \n",
       "11      4     c  67.3        0        0        0        1        0        0   \n",
       "12      5     n  73.1        0        0        0        0        1        0   \n",
       "13      5     i  74.2        0        0        0        0        1        0   \n",
       "14      5     c  73.2        0        0        0        0        1        0   \n",
       "15      6     n  65.8        0        0        0        0        0        1   \n",
       "16      6     i  70.8        0        0        0        0        0        1   \n",
       "17      6     c  68.7        0        0        0        0        0        1   \n",
       "18      7     n  75.6        0        0        0        0        0        0   \n",
       "19      7     i  84.9        0        0        0        0        0        0   \n",
       "20      7     c  69.0        0        0        0        0        0        0   \n",
       "\n",
       "    ingot_7  \n",
       "0         0  \n",
       "1         0  \n",
       "2         0  \n",
       "3         0  \n",
       "4         0  \n",
       "5         0  \n",
       "6         0  \n",
       "7         0  \n",
       "8         0  \n",
       "9         0  \n",
       "10        0  \n",
       "11        0  \n",
       "12        0  \n",
       "13        0  \n",
       "14        0  \n",
       "15        0  \n",
       "16        0  \n",
       "17        0  \n",
       "18        1  \n",
       "19        1  \n",
       "20        1  "
      ]
     },
     "execution_count": 1,
     "metadata": {},
     "output_type": "execute_result"
    }
   ],
   "source": [
    "import pandas as pd\n",
    "import itertools\n",
    "\n",
    "df = pd.DataFrame({\n",
    "    'ingot': itertools.chain(*[[i + 1 for _ in range(3)] for i in range(7)]),\n",
    "    'metal': ['n', 'i', 'c'] * 7,\n",
    "    'pres': [67,71.9,72.2,67.5,68.8,66.4,76,82.6,74.5,72.7,78.1,67.3,73.1,74.2,73.2,65.8,70.8,68.7,75.6,84.9,69]\n",
    "}).assign(\n",
    "    ingot_1=lambda d: d['ingot'].apply(lambda i: 1 if i == 1 else 0),\n",
    "    ingot_2=lambda d: d['ingot'].apply(lambda i: 1 if i == 2 else 0),\n",
    "    ingot_3=lambda d: d['ingot'].apply(lambda i: 1 if i == 3 else 0),\n",
    "    ingot_4=lambda d: d['ingot'].apply(lambda i: 1 if i == 4 else 0),\n",
    "    ingot_5=lambda d: d['ingot'].apply(lambda i: 1 if i == 5 else 0),\n",
    "    ingot_6=lambda d: d['ingot'].apply(lambda i: 1 if i == 6 else 0),\n",
    "    ingot_7=lambda d: d['ingot'].apply(lambda i: 1 if i == 7 else 0)\n",
    ")\n",
    "\n",
    "df"
   ]
  },
  {
   "cell_type": "markdown",
   "id": "explicit-colombia",
   "metadata": {},
   "source": [
    "## Linear regression"
   ]
  },
  {
   "cell_type": "code",
   "execution_count": 2,
   "id": "weighted-evans",
   "metadata": {
    "tags": []
   },
   "outputs": [
    {
     "data": {
      "text/plain": [
       "(70.1857142857143, array([5.71428571, 0.91428571]))"
      ]
     },
     "execution_count": 2,
     "metadata": {},
     "output_type": "execute_result"
    }
   ],
   "source": [
    "from patsy import dmatrices, dmatrix\n",
    "import numpy as np\n",
    "from sklearn.linear_model import LinearRegression\n",
    "\n",
    "f = 'pres ~ metal'\n",
    "y, X = dmatrices(f, df, return_type='dataframe')\n",
    "X = X.iloc[:,1:]\n",
    "y = np.ravel(y)\n",
    "\n",
    "X.shape, y.shape\n",
    "\n",
    "model = LinearRegression().fit(X, y)\n",
    "model.intercept_, model.coef_"
   ]
  },
  {
   "cell_type": "code",
   "execution_count": 3,
   "id": "preliminary-planning",
   "metadata": {
    "tags": []
   },
   "outputs": [
    {
     "data": {
      "image/png": "[encoded data removed]",
      "text/plain": [
       "<Figure size 432x288 with 1 Axes>"
      ]
     },
     "metadata": {},
     "output_type": "display_data"
    }
   ],
   "source": [
    "import matplotlib.pyplot as plt\n",
    "\n",
    "plt.style.use('ggplot')\n",
    "\n",
    "_ = pd.DataFrame({\n",
    "    'y': y,\n",
    "    'y_pred': model.predict(X)\n",
    "}).assign(residual=lambda d: np.abs(d['y'] - d['y_pred'])) \\\n",
    ".plot(kind='scatter', x='y_pred', y='residual', title='Residual vs Fitted')"
   ]
  },
  {
   "cell_type": "code",
   "execution_count": 4,
   "id": "assigned-identifier",
   "metadata": {
    "tags": []
   },
   "outputs": [
    {
     "data": {
      "image/png": "[encoded data removed]",
      "text/plain": [
       "<Figure size 432x288 with 1 Axes>"
      ]
     },
     "metadata": {},
     "output_type": "display_data"
    }
   ],
   "source": [
    "import seaborn as sns\n",
    "\n",
    "_ = sns.boxplot(x='ingot', y='pres', data=df)"
   ]
  },
  {
   "cell_type": "markdown",
   "id": "c1623372-79ce-4cf7-9d4d-e2f22582652c",
   "metadata": {},
   "source": [
    "Just for fun, let's use a multilevel model using the `intercept method`. In the intercept method, we regress the dependent variable on the independent ones as well the dummy encoded grouping variable (we have 7 dummy variables and we drop the first and use it as the reference) at L1. We then use the coefficients associated with the dummy variables as the dependent variables to be regressed on at L2.\n",
    "\n",
    "The L1 model is given as follows. Look at the intercept and first 2 coefficients, they are nearly identical to the OLS model above.\n",
    "\n",
    "- L1: $Y_{ij} = \\beta_{0j} + \\beta_{1j} \\mathrm{metal}_{1j} + \\beta_{2j} \\mathrm{ingot}_{i2} + \\beta_{3j} \\mathrm{ingot}_{i3} + \\beta_{4j} \\mathrm{ingot}_{i4} + \\beta_{5j} \\mathrm{ingot}_{i5} + \\beta_{6j} \\mathrm{ingot}_{i6} + \\beta_{7j} \\mathrm{ingot}_{i7} + e_{ij}$"
   ]
  },
  {
   "cell_type": "code",
   "execution_count": 5,
   "id": "selected-nursery",
   "metadata": {
    "tags": []
   },
   "outputs": [
    {
     "data": {
      "text/plain": [
       "(68.15714285714286,\n",
       " array([ 5.71428571,  0.91428571, -2.8       ,  7.33333333,  2.33333333,\n",
       "         3.13333333, -1.93333333,  6.13333333]))"
      ]
     },
     "execution_count": 5,
     "metadata": {},
     "output_type": "execute_result"
    }
   ],
   "source": [
    "f = 'pres ~ metal + C(ingot)'\n",
    "y, X = dmatrices(f, df, return_type='dataframe')\n",
    "X = X.iloc[:,1:]\n",
    "y = np.ravel(y)\n",
    "\n",
    "model = LinearRegression().fit(X, y)\n",
    "model.intercept_, model.coef_"
   ]
  },
  {
   "cell_type": "markdown",
   "id": "809da73d-bff6-4af1-8080-963cf71a0405",
   "metadata": {},
   "source": [
    "The L2 model is given as follows.\n",
    "\n",
    "- L2: $\\beta_{0j} = \\gamma_{00} + u_{0j}$,\n",
    "- L2: $\\beta_{2j} = \\gamma_{20} + u_{2j}$,\n",
    "- $\\ldots$\n",
    "- L2: $\\beta_{7j} = \\gamma_{70} + u_{7j}$,"
   ]
  },
  {
   "cell_type": "code",
   "execution_count": 6,
   "id": "regular-arabic",
   "metadata": {
    "tags": []
   },
   "outputs": [
    {
     "data": {
      "text/plain": [
       "(0.0,\n",
       " array([70.95714286, 60.82380952, 65.82380952, 65.02380952, 70.09047619,\n",
       "        62.02380952]))"
      ]
     },
     "execution_count": 6,
     "metadata": {},
     "output_type": "execute_result"
    }
   ],
   "source": [
    "y = np.ravel(model.coef_[2:])\n",
    "y = np.array([0] + list(model.intercept_ - y))\n",
    "\n",
    "X = dmatrix('+'.join([f'ingot_{i}' for i in range(2, 8)]), df, return_type='dataframe')\n",
    "X = X.iloc[:,1:].drop_duplicates().values\n",
    "\n",
    "X, y, X.shape, y.shape\n",
    "\n",
    "model = LinearRegression().fit(X, y)\n",
    "model.intercept_, model.coef_"
   ]
  },
  {
   "cell_type": "markdown",
   "id": "confused-apple",
   "metadata": {},
   "source": [
    "## LMM via ML\n",
    "\n",
    "Let's estimate the standard error using the ML approach. Denote the following.\n",
    "\n",
    "- $V = Z G Z^T + R$\n",
    "- $B = (X^T V^{-1} X)^{-1} X^T V^{-1} Y$\n",
    "\n",
    "Then, the likelihood function to be optimized is written as follows.\n",
    "\n",
    "- $-2 L_{\\mathrm{ML}}(\\theta; Y) = \\log |V| + (Y - X B_{\\theta})^T V^{-1} (Y - X B_{\\theta})$"
   ]
  },
  {
   "cell_type": "code",
   "execution_count": 7,
   "id": "automotive-lunch",
   "metadata": {},
   "outputs": [],
   "source": [
    "from patsy import dmatrices, dmatrix\n",
    "\n",
    "f = 'pres ~ metal'\n",
    "y, X = dmatrices(f, df, return_type='dataframe')\n",
    "\n",
    "f = ' + '.join([f'ingot_{i+1}' for i in range(7)]) + ' - 1'\n",
    "Z = dmatrix(f, df, return_type='dataframe')\n",
    "\n",
    "y = y.values\n",
    "X = X.values\n",
    "Z = Z.values"
   ]
  },
  {
   "cell_type": "markdown",
   "id": "c78a97e2-92cf-46a9-a51d-9112beb2e006",
   "metadata": {},
   "source": [
    "The standard error and residual are estimated as follows."
   ]
  },
  {
   "cell_type": "code",
   "execution_count": 8,
   "id": "organizational-aurora",
   "metadata": {},
   "outputs": [
    {
     "data": {
      "text/plain": [
       " final_simplex: (array([[9.81238077, 8.88993185],\n",
       "       [9.81238077, 8.88993185],\n",
       "       [9.81238077, 8.88993185]]), array([77.11196749, 77.11196749, 77.11196749]))\n",
       "           fun: 77.11196749090402\n",
       "       message: 'Optimization terminated successfully.'\n",
       "          nfev: 253\n",
       "           nit: 109\n",
       "        status: 0\n",
       "       success: True\n",
       "             x: array([9.81238077, 8.88993185])"
      ]
     },
     "execution_count": 8,
     "metadata": {},
     "output_type": "execute_result"
    }
   ],
   "source": [
    "from scipy.optimize import minimize\n",
    "import numpy as np\n",
    "\n",
    "def log_ml(x):\n",
    "    G = x[0] * np.diag(np.ones(7))\n",
    "    R = x[1] * np.diag(np.ones(21))\n",
    "    V = Z.dot(G).dot(Z.T) + R\n",
    "    V_inv = np.linalg.inv(V)\n",
    "    X_T = X.T\n",
    "    B = np.linalg.inv(X_T.dot(V_inv).dot(X)).dot(X_T).dot(V_inv).dot(y)\n",
    "    LL = np.log(np.linalg.det(V)) + (y - (X.dot(B))).T.dot(V_inv).dot(y - (X.dot(B)))\n",
    "    \n",
    "    return np.ravel(LL)[0]\n",
    "\n",
    "r = minimize(fun=log_ml, x0=np.array([1, 1]), method='Nelder-Mead', tol=0.0000000000001, options={'maxiter': 500})\n",
    "r"
   ]
  },
  {
   "cell_type": "markdown",
   "id": "163dbf86-f901-462c-9f49-baad85bec7f1",
   "metadata": {},
   "source": [
    "The coefficients are estimated as follows."
   ]
  },
  {
   "cell_type": "code",
   "execution_count": 9,
   "id": "tough-affiliate",
   "metadata": {},
   "outputs": [
    {
     "data": {
      "text/plain": [
       "array([70.18571429,  5.71428571,  0.91428571])"
      ]
     },
     "execution_count": 9,
     "metadata": {},
     "output_type": "execute_result"
    }
   ],
   "source": [
    "def hat_beta(x):\n",
    "    G = x[0] * np.diag(np.ones(7))\n",
    "    R = x[1] * np.diag(np.ones(21))\n",
    "    V = Z.dot(G).dot(Z.T) + R\n",
    "    V_inv = np.linalg.inv(V)\n",
    "    X_T = X.T\n",
    "    B = np.linalg.inv(X_T.dot(V_inv).dot(X)).dot(X_T).dot(V_inv).dot(y)\n",
    "    \n",
    "    return np.ravel(B)\n",
    "\n",
    "hat_beta(r.x)"
   ]
  },
  {
   "cell_type": "markdown",
   "id": "relative-discount",
   "metadata": {},
   "source": [
    "## LMM via REML\n",
    "\n",
    "The likelihood function to be optimized with REML is as follows.\n",
    "\n",
    "- $-2 L_{\\mathrm{REML}}(\\theta; Y) = \\log |V| + \\log |X^T V^{-1} X| + (Y - X B_{\\theta})^T V^{-1} (Y - X B_{\\theta})$\n",
    "\n",
    "Note that the standard error and residual is larger than with the ML approach."
   ]
  },
  {
   "cell_type": "code",
   "execution_count": 10,
   "id": "alike-mississippi",
   "metadata": {},
   "outputs": [
    {
     "data": {
      "text/plain": [
       " final_simplex: (array([[11.44777794, 10.37158691],\n",
       "       [11.44777794, 10.37158691],\n",
       "       [11.44777794, 10.37158691]]), array([74.70841482, 74.70841482, 74.70841482]))\n",
       "           fun: 74.7084148191172\n",
       "       message: 'Optimization terminated successfully.'\n",
       "          nfev: 244\n",
       "           nit: 107\n",
       "        status: 0\n",
       "       success: True\n",
       "             x: array([11.44777794, 10.37158691])"
      ]
     },
     "execution_count": 10,
     "metadata": {},
     "output_type": "execute_result"
    }
   ],
   "source": [
    "def log_reml(x):\n",
    "    G = x[0] * np.diag(np.ones(7))\n",
    "    R = x[1] * np.diag(np.ones(21))\n",
    "    V = Z.dot(G).dot(Z.T) + R\n",
    "    V_inv = np.linalg.inv(V)\n",
    "    X_T = X.T\n",
    "    B = np.linalg.inv(X_T.dot(V_inv).dot(X)).dot(X_T).dot(V_inv).dot(y)\n",
    "    LL = np.log(np.linalg.det(V)) + np.log(np.linalg.det(X.T.dot(V_inv).dot(X))) + (y - (X.dot(B))).T.dot(V_inv).dot(y - (X.dot(B)))\n",
    "    \n",
    "    return np.ravel(LL)[0]\n",
    "\n",
    "r = minimize(fun=log_reml, x0=np.array([1, 1]), method='Nelder-Mead', tol=0.0000000000001, options={'maxiter': 500})\n",
    "r"
   ]
  },
  {
   "cell_type": "code",
   "execution_count": 11,
   "id": "competitive-cutting",
   "metadata": {
    "tags": []
   },
   "outputs": [
    {
     "data": {
      "text/plain": [
       "array([70.18571429,  5.71428571,  0.91428571])"
      ]
     },
     "execution_count": 11,
     "metadata": {},
     "output_type": "execute_result"
    }
   ],
   "source": [
    "hat_beta(r.x)"
   ]
  },
  {
   "cell_type": "markdown",
   "id": "8ffd2b22-2bd0-422f-b858-83d12d373570",
   "metadata": {},
   "source": [
    "## LMM via statsmodels\n",
    "\n",
    "We can verify the REML approach with `statsmodels`."
   ]
  },
  {
   "cell_type": "code",
   "execution_count": 12,
   "id": "34e04770-04c4-4ef8-93a0-12d98956d5e5",
   "metadata": {},
   "outputs": [
    {
     "name": "stdout",
     "output_type": "stream",
     "text": [
      "        Mixed Linear Model Regression Results\n",
      "======================================================\n",
      "Model:            MixedLM Dependent Variable: pres    \n",
      "No. Observations: 21      Method:             REML    \n",
      "No. Groups:       7       Scale:              10.3716 \n",
      "Min. group size:  3       Log-Likelihood:     -53.8951\n",
      "Max. group size:  3       Converged:          Yes     \n",
      "Mean group size:  3.0                                 \n",
      "------------------------------------------------------\n",
      "            Coef.  Std.Err.   z    P>|z| [0.025 0.975]\n",
      "------------------------------------------------------\n",
      "Intercept   70.186    1.766 39.754 0.000 66.725 73.646\n",
      "metal[T.i]   5.714    1.721  3.320 0.001  2.340  9.088\n",
      "metal[T.n]   0.914    1.721  0.531 0.595 -2.460  4.288\n",
      "Group Var   11.448    3.273                           \n",
      "======================================================\n",
      "\n"
     ]
    }
   ],
   "source": [
    "import statsmodels.formula.api as smf\n",
    "\n",
    "m = smf.mixedlm('pres ~ metal', df, groups=df['ingot'])\n",
    "m = m.fit(method=['lbfgs'])\n",
    "\n",
    "print(m.summary())"
   ]
  },
  {
   "cell_type": "markdown",
   "id": "8ae2d2ea-b8b5-4bb7-8e94-a47417ec32ec",
   "metadata": {},
   "source": [
    "## LMM via pymer4\n",
    "\n",
    "You will have to have `R` installed with the following packages, [lme4](https://cran.r-project.org/web/packages/lme4/index.html) and [lmerTest](https://cran.r-project.org/web/packages/lmerTest/index.html), as [pymer4](https://github.com/ejolly/pymer4) uses [rpy2](https://rpy2.github.io/) to use `R` to do the estimations."
   ]
  },
  {
   "cell_type": "code",
   "execution_count": 13,
   "id": "2181fb8f-abdf-4a60-8bba-6043c14689d6",
   "metadata": {},
   "outputs": [],
   "source": [
    "from pymer4.models import Lmer\n",
    "\n",
    "m = Lmer('pres ~ metal + (1 | ingot)', data=df)"
   ]
  },
  {
   "cell_type": "code",
   "execution_count": 14,
   "id": "dbb89443-b3dd-4b24-ab3a-661128663dba",
   "metadata": {},
   "outputs": [
    {
     "name": "stdout",
     "output_type": "stream",
     "text": [
      "Formula: pres~metal+(1|ingot)\n",
      "\n",
      "Family: gaussian\t Inference: parametric\n",
      "\n",
      "Number of observations: 21\t Groups: {'ingot': 7.0}\n",
      "\n",
      "Log-likelihood: -53.895 \t AIC: 107.790\n",
      "\n",
      "Random effects:\n",
      "\n",
      "                 Name     Var    Std\n",
      "ingot     (Intercept)  11.448  3.383\n",
      "Residual               10.372  3.220\n",
      "\n",
      "No random effect correlations specified\n",
      "\n",
      "Fixed effects:\n",
      "\n"
     ]
    },
    {
     "data": {
      "text/html": [
       "<div>\n",
       "<style scoped>\n",
       "    .dataframe tbody tr th:only-of-type {\n",
       "        vertical-align: middle;\n",
       "    }\n",
       "\n",
       "    .dataframe tbody tr th {\n",
       "        vertical-align: top;\n",
       "    }\n",
       "\n",
       "    .dataframe thead th {\n",
       "        text-align: right;\n",
       "    }\n",
       "</style>\n",
       "<table border=\"1\" class=\"dataframe\">\n",
       "  <thead>\n",
       "    <tr style=\"text-align: right;\">\n",
       "      <th></th>\n",
       "      <th>Estimate</th>\n",
       "      <th>2.5_ci</th>\n",
       "      <th>97.5_ci</th>\n",
       "      <th>SE</th>\n",
       "      <th>DF</th>\n",
       "      <th>T-stat</th>\n",
       "      <th>P-val</th>\n",
       "      <th>Sig</th>\n",
       "    </tr>\n",
       "  </thead>\n",
       "  <tbody>\n",
       "    <tr>\n",
       "      <th>(Intercept)</th>\n",
       "      <td>70.186</td>\n",
       "      <td>66.725</td>\n",
       "      <td>73.646</td>\n",
       "      <td>1.766</td>\n",
       "      <td>11.609</td>\n",
       "      <td>39.754</td>\n",
       "      <td>0.000</td>\n",
       "      <td>***</td>\n",
       "    </tr>\n",
       "    <tr>\n",
       "      <th>metali</th>\n",
       "      <td>5.714</td>\n",
       "      <td>2.340</td>\n",
       "      <td>9.088</td>\n",
       "      <td>1.721</td>\n",
       "      <td>12.000</td>\n",
       "      <td>3.320</td>\n",
       "      <td>0.006</td>\n",
       "      <td>**</td>\n",
       "    </tr>\n",
       "    <tr>\n",
       "      <th>metaln</th>\n",
       "      <td>0.914</td>\n",
       "      <td>-2.460</td>\n",
       "      <td>4.288</td>\n",
       "      <td>1.721</td>\n",
       "      <td>12.000</td>\n",
       "      <td>0.531</td>\n",
       "      <td>0.605</td>\n",
       "      <td></td>\n",
       "    </tr>\n",
       "  </tbody>\n",
       "</table>\n",
       "</div>"
      ],
      "text/plain": [
       "             Estimate  2.5_ci  97.5_ci     SE      DF  T-stat  P-val  Sig\n",
       "(Intercept)    70.186  66.725   73.646  1.766  11.609  39.754  0.000  ***\n",
       "metali          5.714   2.340    9.088  1.721  12.000   3.320  0.006   **\n",
       "metaln          0.914  -2.460    4.288  1.721  12.000   0.531  0.605     "
      ]
     },
     "execution_count": 14,
     "metadata": {},
     "output_type": "execute_result"
    }
   ],
   "source": [
    "m.fit()"
   ]
  },
  {
   "cell_type": "code",
   "execution_count": 15,
   "id": "cc38ab88-3939-4b77-b13b-72fcf2545fbd",
   "metadata": {},
   "outputs": [
    {
     "data": {
      "image/png": "[encoded data removed]",
      "text/plain": [
       "<Figure size 864x432 with 1 Axes>"
      ]
     },
     "metadata": {},
     "output_type": "display_data"
    }
   ],
   "source": [
    "_ = m.plot_summary()"
   ]
  }
 ],
 "metadata": {
  "kernelspec": {
   "display_name": "Python 3",
   "language": "python",
   "name": "python3"
  },
  "language_info": {
   "codemirror_mode": {
    "name": "ipython",
    "version": 3
   },
   "file_extension": ".py",
   "mimetype": "text/x-python",
   "name": "python",
   "nbconvert_exporter": "python",
   "pygments_lexer": "ipython3",
   "version": "3.8.8"
  },
  "widgets": {
   "application/vnd.jupyter.widget-state+json": {
    "state": {},
    "version_major": 2,
    "version_minor": 0
   }
  }
 },
 "nbformat": 4,
 "nbformat_minor": 5
}
