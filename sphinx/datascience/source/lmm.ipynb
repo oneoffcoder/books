{
 "cells": [
  {
   "cell_type": "markdown",
   "id": "junior-spokesman",
   "metadata": {},
   "source": [
    "# Linear Mixed Model\n",
    "\n",
    "Linear mixed modeling `LMM` is a type of regression modeling approach that accounts for the violation of non-IID (independently and identically distributed) data. The problem of non-IID data is that using ordinary regression may underestimate the variance (standard error) of the parameter estimations and lead to incorrect hypothesis testing as well as a model that is no longer the Best Linear Unbiased Estimator `BLUE`. Additionally, LMM are useful for understand with and between group differences. \n",
    "\n",
    "There are many ways to combat non-IID:\n",
    "\n",
    "- get a better model (eg use multilevel or linear mixed models)\n",
    "- get a better variance estimator (eg Huber sandwich estimator)\n",
    "- sample the data (eg Iteratively Reweighting Least Square)\n",
    "\n",
    "In this notebook, we will focus on LMM and two ways to estimate the standard errors (maximum likelihood `ML` and restricted maximum likelihood `REML`). It should be noted that multilevel models are a type of LMM, but not all LMMs are multilevel. A LMM is denoted as follows, \n",
    "\n",
    "- $Y = X \\beta + Z u + e$,\n",
    "\n",
    "where\n",
    "\n",
    "- $\\beta$ are the coefficients (intercept and slope),\n",
    "- $X$ is the design matrix (independent variables) of dimension $N$ x $M$ ($N$ rows and $M$ columns),\n",
    "- $Z$ is a sparse indicator matrix of the group (of each observation in $X$) of dimension $N$ x $J$ ($N$ rows and $J$ columns),\n",
    "- $u$ and $e$ are the error terms corresponding to $X$ and $Z$, respectively, and\n",
    "- $Y$ is the dependent variable.\n",
    "\n",
    "Note that $u$ and $e$ are column vectors assumed to be normally distributed with zero means as follows,\n",
    "\n",
    "$\\begin{pmatrix} u \\\\ e \\end{pmatrix} \\sim \\mathcal{N} \\begin{pmatrix} \\begin{pmatrix} 0 \\\\ 0 \\end{pmatrix}, \\begin{pmatrix} G & 0 \\\\ 0 & R \\end{pmatrix} \\end{pmatrix}$\n",
    "\n",
    "where\n",
    "\n",
    "- $G_{JxJ} = I \\sigma^2_{\\mathrm{group}}$, and\n",
    "- $R_{NxN} = I \\sigma^2_{\\mathrm{residual}}$.\n",
    "\n",
    "For clarity, \n",
    "\n",
    "- $u \\sim \\mathcal{N}(0, G)$, and\n",
    "- $e \\sim \\mathcal{N}(0, R)$.\n",
    "\n",
    "The variables in $X$ are said to be `fixed effects` and the grouping variables in $Z$ are said to be the `random effects`. Grouping variables are categorical and can be quite complex in their relationship to one another. Grouping variables can be \n",
    "\n",
    "- nested (when the groups exists within other groups eg patients are observed only within a single hospital),\n",
    "- partially crossed (when some groups are seen with others eg some patients are observed across some hospitals), or\n",
    "- crossed (when all groups are seen with all other groups eg all patients are observed across all hospitals).\n",
    "\n",
    "In mature LMM packages (e.g. [lme4](https://cran.r-project.org/web/packages/lme4/index.html)), these types of grouping relationships are easily expressed. \n",
    "\n",
    "The mixture of fixed and random effects is the `mixed` in linear mixed models `LMM`. \n",
    "\n",
    "- $V = Z G Z^T + R$\n",
    "- $B = (X^T V^{-1} X)^{-1} X^T V^{-1} Y$\n",
    "- $-2 L_{\\mathrm{ML}}(\\theta; Y) = \\log |V| + (Y - X B_{\\theta})^T V^{-1} (Y - X B_{\\theta})$\n",
    "- $-2 L_{\\mathrm{REML}}(\\theta; Y) = \\log |V| + \\log |X^T V^{-1} X| + (Y - X B_{\\theta})^T V^{-1} (Y - X B_{\\theta})$"
   ]
  },
  {
   "cell_type": "markdown",
   "id": "basic-accessory",
   "metadata": {},
   "source": [
    "## Data\n",
    "\n",
    "This data is take from a [Littell 2006](https://www.amazon.com/Mixed-Models-Second-Ramon-Littell/dp/1590475003). In this data, we have 7 ingots, 3 metal types  and 1 dependent variable. "
   ]
  },
  {
   "cell_type": "code",
   "execution_count": 1,
   "id": "median-outline",
   "metadata": {
    "execution": {
     "iopub.status.idle": "2022-03-14T05:14:26.469985Z",
     "shell.execute_reply": "2022-03-14T05:14:26.469636Z",
     "shell.execute_reply.started": "2022-03-14T05:14:26.266482Z"
    }
   },
   "outputs": [
    {
     "data": {
      "text/html": [
       "<div>\n",
       "<style scoped>\n",
       "    .dataframe tbody tr th:only-of-type {\n",
       "        vertical-align: middle;\n",
       "    }\n",
       "\n",
       "    .dataframe tbody tr th {\n",
       "        vertical-align: top;\n",
       "    }\n",
       "\n",
       "    .dataframe thead th {\n",
       "        text-align: right;\n",
       "    }\n",
       "</style>\n",
       "<table border=\"1\" class=\"dataframe\">\n",
       "  <thead>\n",
       "    <tr style=\"text-align: right;\">\n",
       "      <th></th>\n",
       "      <th>ingot</th>\n",
       "      <th>metal</th>\n",
       "      <th>pres</th>\n",
       "      <th>ingot_1</th>\n",
       "      <th>ingot_2</th>\n",
       "      <th>ingot_3</th>\n",
       "      <th>ingot_4</th>\n",
       "      <th>ingot_5</th>\n",
       "      <th>ingot_6</th>\n",
       "      <th>ingot_7</th>\n",
       "    </tr>\n",
       "  </thead>\n",
       "  <tbody>\n",
       "    <tr>\n",
       "      <th>0</th>\n",
       "      <td>1</td>\n",
       "      <td>n</td>\n",
       "      <td>67.0</td>\n",
       "      <td>1</td>\n",
       "      <td>0</td>\n",
       "      <td>0</td>\n",
       "      <td>0</td>\n",
       "      <td>0</td>\n",
       "      <td>0</td>\n",
       "      <td>0</td>\n",
       "    </tr>\n",
       "    <tr>\n",
       "      <th>1</th>\n",
       "      <td>1</td>\n",
       "      <td>i</td>\n",
       "      <td>71.9</td>\n",
       "      <td>1</td>\n",
       "      <td>0</td>\n",
       "      <td>0</td>\n",
       "      <td>0</td>\n",
       "      <td>0</td>\n",
       "      <td>0</td>\n",
       "      <td>0</td>\n",
       "    </tr>\n",
       "    <tr>\n",
       "      <th>2</th>\n",
       "      <td>1</td>\n",
       "      <td>c</td>\n",
       "      <td>72.2</td>\n",
       "      <td>1</td>\n",
       "      <td>0</td>\n",
       "      <td>0</td>\n",
       "      <td>0</td>\n",
       "      <td>0</td>\n",
       "      <td>0</td>\n",
       "      <td>0</td>\n",
       "    </tr>\n",
       "    <tr>\n",
       "      <th>3</th>\n",
       "      <td>2</td>\n",
       "      <td>n</td>\n",
       "      <td>67.5</td>\n",
       "      <td>0</td>\n",
       "      <td>1</td>\n",
       "      <td>0</td>\n",
       "      <td>0</td>\n",
       "      <td>0</td>\n",
       "      <td>0</td>\n",
       "      <td>0</td>\n",
       "    </tr>\n",
       "    <tr>\n",
       "      <th>4</th>\n",
       "      <td>2</td>\n",
       "      <td>i</td>\n",
       "      <td>68.8</td>\n",
       "      <td>0</td>\n",
       "      <td>1</td>\n",
       "      <td>0</td>\n",
       "      <td>0</td>\n",
       "      <td>0</td>\n",
       "      <td>0</td>\n",
       "      <td>0</td>\n",
       "    </tr>\n",
       "    <tr>\n",
       "      <th>5</th>\n",
       "      <td>2</td>\n",
       "      <td>c</td>\n",
       "      <td>66.4</td>\n",
       "      <td>0</td>\n",
       "      <td>1</td>\n",
       "      <td>0</td>\n",
       "      <td>0</td>\n",
       "      <td>0</td>\n",
       "      <td>0</td>\n",
       "      <td>0</td>\n",
       "    </tr>\n",
       "    <tr>\n",
       "      <th>6</th>\n",
       "      <td>3</td>\n",
       "      <td>n</td>\n",
       "      <td>76.0</td>\n",
       "      <td>0</td>\n",
       "      <td>0</td>\n",
       "      <td>1</td>\n",
       "      <td>0</td>\n",
       "      <td>0</td>\n",
       "      <td>0</td>\n",
       "      <td>0</td>\n",
       "    </tr>\n",
       "    <tr>\n",
       "      <th>7</th>\n",
       "      <td>3</td>\n",
       "      <td>i</td>\n",
       "      <td>82.6</td>\n",
       "      <td>0</td>\n",
       "      <td>0</td>\n",
       "      <td>1</td>\n",
       "      <td>0</td>\n",
       "      <td>0</td>\n",
       "      <td>0</td>\n",
       "      <td>0</td>\n",
       "    </tr>\n",
       "    <tr>\n",
       "      <th>8</th>\n",
       "      <td>3</td>\n",
       "      <td>c</td>\n",
       "      <td>74.5</td>\n",
       "      <td>0</td>\n",
       "      <td>0</td>\n",
       "      <td>1</td>\n",
       "      <td>0</td>\n",
       "      <td>0</td>\n",
       "      <td>0</td>\n",
       "      <td>0</td>\n",
       "    </tr>\n",
       "    <tr>\n",
       "      <th>9</th>\n",
       "      <td>4</td>\n",
       "      <td>n</td>\n",
       "      <td>72.7</td>\n",
       "      <td>0</td>\n",
       "      <td>0</td>\n",
       "      <td>0</td>\n",
       "      <td>1</td>\n",
       "      <td>0</td>\n",
       "      <td>0</td>\n",
       "      <td>0</td>\n",
       "    </tr>\n",
       "    <tr>\n",
       "      <th>10</th>\n",
       "      <td>4</td>\n",
       "      <td>i</td>\n",
       "      <td>78.1</td>\n",
       "      <td>0</td>\n",
       "      <td>0</td>\n",
       "      <td>0</td>\n",
       "      <td>1</td>\n",
       "      <td>0</td>\n",
       "      <td>0</td>\n",
       "      <td>0</td>\n",
       "    </tr>\n",
       "    <tr>\n",
       "      <th>11</th>\n",
       "      <td>4</td>\n",
       "      <td>c</td>\n",
       "      <td>67.3</td>\n",
       "      <td>0</td>\n",
       "      <td>0</td>\n",
       "      <td>0</td>\n",
       "      <td>1</td>\n",
       "      <td>0</td>\n",
       "      <td>0</td>\n",
       "      <td>0</td>\n",
       "    </tr>\n",
       "    <tr>\n",
       "      <th>12</th>\n",
       "      <td>5</td>\n",
       "      <td>n</td>\n",
       "      <td>73.1</td>\n",
       "      <td>0</td>\n",
       "      <td>0</td>\n",
       "      <td>0</td>\n",
       "      <td>0</td>\n",
       "      <td>1</td>\n",
       "      <td>0</td>\n",
       "      <td>0</td>\n",
       "    </tr>\n",
       "    <tr>\n",
       "      <th>13</th>\n",
       "      <td>5</td>\n",
       "      <td>i</td>\n",
       "      <td>74.2</td>\n",
       "      <td>0</td>\n",
       "      <td>0</td>\n",
       "      <td>0</td>\n",
       "      <td>0</td>\n",
       "      <td>1</td>\n",
       "      <td>0</td>\n",
       "      <td>0</td>\n",
       "    </tr>\n",
       "    <tr>\n",
       "      <th>14</th>\n",
       "      <td>5</td>\n",
       "      <td>c</td>\n",
       "      <td>73.2</td>\n",
       "      <td>0</td>\n",
       "      <td>0</td>\n",
       "      <td>0</td>\n",
       "      <td>0</td>\n",
       "      <td>1</td>\n",
       "      <td>0</td>\n",
       "      <td>0</td>\n",
       "    </tr>\n",
       "    <tr>\n",
       "      <th>15</th>\n",
       "      <td>6</td>\n",
       "      <td>n</td>\n",
       "      <td>65.8</td>\n",
       "      <td>0</td>\n",
       "      <td>0</td>\n",
       "      <td>0</td>\n",
       "      <td>0</td>\n",
       "      <td>0</td>\n",
       "      <td>1</td>\n",
       "      <td>0</td>\n",
       "    </tr>\n",
       "    <tr>\n",
       "      <th>16</th>\n",
       "      <td>6</td>\n",
       "      <td>i</td>\n",
       "      <td>70.8</td>\n",
       "      <td>0</td>\n",
       "      <td>0</td>\n",
       "      <td>0</td>\n",
       "      <td>0</td>\n",
       "      <td>0</td>\n",
       "      <td>1</td>\n",
       "      <td>0</td>\n",
       "    </tr>\n",
       "    <tr>\n",
       "      <th>17</th>\n",
       "      <td>6</td>\n",
       "      <td>c</td>\n",
       "      <td>68.7</td>\n",
       "      <td>0</td>\n",
       "      <td>0</td>\n",
       "      <td>0</td>\n",
       "      <td>0</td>\n",
       "      <td>0</td>\n",
       "      <td>1</td>\n",
       "      <td>0</td>\n",
       "    </tr>\n",
       "    <tr>\n",
       "      <th>18</th>\n",
       "      <td>7</td>\n",
       "      <td>n</td>\n",
       "      <td>75.6</td>\n",
       "      <td>0</td>\n",
       "      <td>0</td>\n",
       "      <td>0</td>\n",
       "      <td>0</td>\n",
       "      <td>0</td>\n",
       "      <td>0</td>\n",
       "      <td>1</td>\n",
       "    </tr>\n",
       "    <tr>\n",
       "      <th>19</th>\n",
       "      <td>7</td>\n",
       "      <td>i</td>\n",
       "      <td>84.9</td>\n",
       "      <td>0</td>\n",
       "      <td>0</td>\n",
       "      <td>0</td>\n",
       "      <td>0</td>\n",
       "      <td>0</td>\n",
       "      <td>0</td>\n",
       "      <td>1</td>\n",
       "    </tr>\n",
       "    <tr>\n",
       "      <th>20</th>\n",
       "      <td>7</td>\n",
       "      <td>c</td>\n",
       "      <td>69.0</td>\n",
       "      <td>0</td>\n",
       "      <td>0</td>\n",
       "      <td>0</td>\n",
       "      <td>0</td>\n",
       "      <td>0</td>\n",
       "      <td>0</td>\n",
       "      <td>1</td>\n",
       "    </tr>\n",
       "  </tbody>\n",
       "</table>\n",
       "</div>"
      ],
      "text/plain": [
       "    ingot metal  pres  ingot_1  ingot_2  ingot_3  ingot_4  ingot_5  ingot_6  \\\n",
       "0       1     n  67.0        1        0        0        0        0        0   \n",
       "1       1     i  71.9        1        0        0        0        0        0   \n",
       "2       1     c  72.2        1        0        0        0        0        0   \n",
       "3       2     n  67.5        0        1        0        0        0        0   \n",
       "4       2     i  68.8        0        1        0        0        0        0   \n",
       "5       2     c  66.4        0        1        0        0        0        0   \n",
       "6       3     n  76.0        0        0        1        0        0        0   \n",
       "7       3     i  82.6        0        0        1        0        0        0   \n",
       "8       3     c  74.5        0        0        1        0        0        0   \n",
       "9       4     n  72.7        0        0        0        1        0        0   \n",
       "10      4     i  78.1        0        0        0        1        0        0   \n",
       "11      4     c  67.3        0        0        0        1        0        0   \n",
       "12      5     n  73.1        0        0        0        0        1        0   \n",
       "13      5     i  74.2        0        0        0        0        1        0   \n",
       "14      5     c  73.2        0        0        0        0        1        0   \n",
       "15      6     n  65.8        0        0        0        0        0        1   \n",
       "16      6     i  70.8        0        0        0        0        0        1   \n",
       "17      6     c  68.7        0        0        0        0        0        1   \n",
       "18      7     n  75.6        0        0        0        0        0        0   \n",
       "19      7     i  84.9        0        0        0        0        0        0   \n",
       "20      7     c  69.0        0        0        0        0        0        0   \n",
       "\n",
       "    ingot_7  \n",
       "0         0  \n",
       "1         0  \n",
       "2         0  \n",
       "3         0  \n",
       "4         0  \n",
       "5         0  \n",
       "6         0  \n",
       "7         0  \n",
       "8         0  \n",
       "9         0  \n",
       "10        0  \n",
       "11        0  \n",
       "12        0  \n",
       "13        0  \n",
       "14        0  \n",
       "15        0  \n",
       "16        0  \n",
       "17        0  \n",
       "18        1  \n",
       "19        1  \n",
       "20        1  "
      ]
     },
     "execution_count": 1,
     "metadata": {},
     "output_type": "execute_result"
    }
   ],
   "source": [
    "import pandas as pd\n",
    "import itertools\n",
    "\n",
    "df = pd.DataFrame({\n",
    "    'ingot': itertools.chain(*[[i + 1 for _ in range(3)] for i in range(7)]),\n",
    "    'metal': ['n', 'i', 'c'] * 7,\n",
    "    'pres': [67,71.9,72.2,67.5,68.8,66.4,76,82.6,74.5,72.7,78.1,67.3,73.1,74.2,73.2,65.8,70.8,68.7,75.6,84.9,69]\n",
    "}).assign(\n",
    "    ingot_1=lambda d: d['ingot'].apply(lambda i: 1 if i == 1 else 0),\n",
    "    ingot_2=lambda d: d['ingot'].apply(lambda i: 1 if i == 2 else 0),\n",
    "    ingot_3=lambda d: d['ingot'].apply(lambda i: 1 if i == 3 else 0),\n",
    "    ingot_4=lambda d: d['ingot'].apply(lambda i: 1 if i == 4 else 0),\n",
    "    ingot_5=lambda d: d['ingot'].apply(lambda i: 1 if i == 5 else 0),\n",
    "    ingot_6=lambda d: d['ingot'].apply(lambda i: 1 if i == 6 else 0),\n",
    "    ingot_7=lambda d: d['ingot'].apply(lambda i: 1 if i == 7 else 0)\n",
    ")\n",
    "\n",
    "df"
   ]
  },
  {
   "cell_type": "markdown",
   "id": "fancy-threshold",
   "metadata": {},
   "source": [
    "## Linear regression"
   ]
  },
  {
   "cell_type": "code",
   "execution_count": 23,
   "id": "third-somerset",
   "metadata": {
    "execution": {
     "iopub.execute_input": "2022-03-14T07:30:33.393319Z",
     "iopub.status.busy": "2022-03-14T07:30:33.393046Z",
     "iopub.status.idle": "2022-03-14T07:30:33.407620Z",
     "shell.execute_reply": "2022-03-14T07:30:33.407099Z",
     "shell.execute_reply.started": "2022-03-14T07:30:33.393287Z"
    }
   },
   "outputs": [
    {
     "data": {
      "text/plain": [
       "(70.1857142857143, array([5.71428571, 0.91428571]))"
      ]
     },
     "execution_count": 23,
     "metadata": {},
     "output_type": "execute_result"
    }
   ],
   "source": [
    "from patsy import dmatrices, dmatrix\n",
    "import numpy as np\n",
    "from sklearn.linear_model import LinearRegression\n",
    "\n",
    "f = 'pres ~ metal'\n",
    "y, X = dmatrices(f, df, return_type='dataframe')\n",
    "X = X.iloc[:,1:]\n",
    "y = np.ravel(y)\n",
    "\n",
    "X.shape, y.shape\n",
    "\n",
    "model = LinearRegression().fit(X, y)\n",
    "model.intercept_, model.coef_"
   ]
  },
  {
   "cell_type": "code",
   "execution_count": 24,
   "id": "crucial-single",
   "metadata": {
    "execution": {
     "iopub.execute_input": "2022-03-14T07:30:33.618670Z",
     "iopub.status.busy": "2022-03-14T07:30:33.618528Z",
     "iopub.status.idle": "2022-03-14T07:30:33.738945Z",
     "shell.execute_reply": "2022-03-14T07:30:33.738580Z",
     "shell.execute_reply.started": "2022-03-14T07:30:33.618654Z"
    }
   },
   "outputs": [
    {
     "data": {
      "image/png": "[encoded data removed]",
      "text/plain": [
       "<Figure size 432x288 with 1 Axes>"
      ]
     },
     "metadata": {},
     "output_type": "display_data"
    }
   ],
   "source": [
    "import matplotlib.pyplot as plt\n",
    "\n",
    "plt.style.use('ggplot')\n",
    "\n",
    "_ = pd.DataFrame({\n",
    "    'y': y,\n",
    "    'y_pred': model.predict(X)\n",
    "}).assign(residual=lambda d: np.abs(d['y'] - d['y_pred'])) \\\n",
    ".plot(kind='scatter', x='y_pred', y='residual', title='Residual vs Fitted')"
   ]
  },
  {
   "cell_type": "code",
   "execution_count": 25,
   "id": "pharmaceutical-ghana",
   "metadata": {
    "execution": {
     "iopub.execute_input": "2022-03-14T07:30:34.014601Z",
     "iopub.status.busy": "2022-03-14T07:30:34.013889Z",
     "iopub.status.idle": "2022-03-14T07:30:34.164118Z",
     "shell.execute_reply": "2022-03-14T07:30:34.163736Z",
     "shell.execute_reply.started": "2022-03-14T07:30:34.014523Z"
    }
   },
   "outputs": [
    {
     "data": {
      "image/png": "[encoded data removed]",
      "text/plain": [
       "<Figure size 432x288 with 1 Axes>"
      ]
     },
     "metadata": {},
     "output_type": "display_data"
    }
   ],
   "source": [
    "import seaborn as sns\n",
    "\n",
    "_ = sns.boxplot(x='ingot', y='pres', data=df)"
   ]
  },
  {
   "cell_type": "code",
   "execution_count": 45,
   "id": "electric-membrane",
   "metadata": {
    "execution": {
     "iopub.execute_input": "2022-03-14T07:39:19.229729Z",
     "iopub.status.busy": "2022-03-14T07:39:19.229543Z",
     "iopub.status.idle": "2022-03-14T07:39:19.240039Z",
     "shell.execute_reply": "2022-03-14T07:39:19.239655Z",
     "shell.execute_reply.started": "2022-03-14T07:39:19.229709Z"
    }
   },
   "outputs": [
    {
     "data": {
      "text/plain": [
       "(68.15714285714286,\n",
       " array([ 5.71428571,  0.91428571, -2.8       ,  7.33333333,  2.33333333,\n",
       "         3.13333333, -1.93333333,  6.13333333]))"
      ]
     },
     "execution_count": 45,
     "metadata": {},
     "output_type": "execute_result"
    }
   ],
   "source": [
    "f = 'pres ~ metal + C(ingot)'\n",
    "y, X = dmatrices(f, df, return_type='dataframe')\n",
    "X = X.iloc[:,1:]\n",
    "y = np.ravel(y)\n",
    "\n",
    "model = LinearRegression().fit(X, y)\n",
    "model.intercept_, model.coef_"
   ]
  },
  {
   "cell_type": "code",
   "execution_count": 48,
   "id": "covered-coating",
   "metadata": {
    "execution": {
     "iopub.execute_input": "2022-03-14T07:40:29.339686Z",
     "iopub.status.busy": "2022-03-14T07:40:29.339467Z",
     "iopub.status.idle": "2022-03-14T07:40:29.351210Z",
     "shell.execute_reply": "2022-03-14T07:40:29.350663Z",
     "shell.execute_reply.started": "2022-03-14T07:40:29.339661Z"
    }
   },
   "outputs": [
    {
     "data": {
      "text/plain": [
       "(0.0,\n",
       " array([70.95714286, 60.82380952, 65.82380952, 65.02380952, 70.09047619,\n",
       "        62.02380952]))"
      ]
     },
     "execution_count": 48,
     "metadata": {},
     "output_type": "execute_result"
    }
   ],
   "source": [
    "y = np.ravel(model.coef_[2:])\n",
    "y = np.array([0] + list(model.intercept_ - y))\n",
    "\n",
    "X = dmatrix('C(ingot)', df, return_type='dataframe')\n",
    "X = X.iloc[:,1:].drop_duplicates().values\n",
    "\n",
    "model = LinearRegression().fit(X, y)\n",
    "model.intercept_, model.coef_"
   ]
  },
  {
   "cell_type": "code",
   "execution_count": 61,
   "id": "toxic-decade",
   "metadata": {
    "execution": {
     "iopub.execute_input": "2022-03-14T07:47:52.390939Z",
     "iopub.status.busy": "2022-03-14T07:47:52.390797Z",
     "iopub.status.idle": "2022-03-14T07:47:52.396219Z",
     "shell.execute_reply": "2022-03-14T07:47:52.395870Z",
     "shell.execute_reply.started": "2022-03-14T07:47:52.390924Z"
    }
   },
   "outputs": [
    {
     "data": {
      "text/plain": [
       "y         72.395238\n",
       "y_pred    56.391837\n",
       "diff      16.003401\n",
       "dtype: float64"
      ]
     },
     "execution_count": 61,
     "metadata": {},
     "output_type": "execute_result"
    }
   ],
   "source": [
    "X = df[[c for c in df.columns if c.startswith('ingot_') and c != 'ingot_1']].values\n",
    "y = np.ravel(df['pres'])\n",
    "y_pred = model.predict(X)\n",
    "pd.DataFrame({\n",
    "    'y': y,\n",
    "    'y_pred': y_pred,\n",
    "    'diff': y - y_pred\n",
    "}).mean()"
   ]
  },
  {
   "cell_type": "markdown",
   "id": "geological-europe",
   "metadata": {},
   "source": [
    "## LMM via ML"
   ]
  },
  {
   "cell_type": "code",
   "execution_count": 2,
   "id": "hydraulic-tuesday",
   "metadata": {
    "execution": {
     "iopub.execute_input": "2022-03-14T05:14:26.471169Z",
     "iopub.status.busy": "2022-03-14T05:14:26.470947Z",
     "iopub.status.idle": "2022-03-14T05:14:26.502941Z",
     "shell.execute_reply": "2022-03-14T05:14:26.502454Z",
     "shell.execute_reply.started": "2022-03-14T05:14:26.471131Z"
    }
   },
   "outputs": [
    {
     "data": {
      "text/plain": [
       "((21, 3), (21, 1), (21, 7))"
      ]
     },
     "execution_count": 2,
     "metadata": {},
     "output_type": "execute_result"
    }
   ],
   "source": [
    "from patsy import dmatrices, dmatrix\n",
    "\n",
    "f = 'pres ~ metal'\n",
    "y, X = dmatrices(f, df, return_type='dataframe')\n",
    "\n",
    "f = ' + '.join([f'ingot_{i+1}' for i in range(7)]) + ' - 1'\n",
    "Z = dmatrix(f, df, return_type='dataframe')\n",
    "\n",
    "y = y.values\n",
    "X = X.values\n",
    "Z = Z.values\n",
    "\n",
    "X.shape, y.shape, Z.shape"
   ]
  },
  {
   "cell_type": "code",
   "execution_count": 3,
   "id": "careful-affair",
   "metadata": {
    "execution": {
     "iopub.execute_input": "2022-03-14T05:14:26.504064Z",
     "iopub.status.busy": "2022-03-14T05:14:26.503916Z",
     "iopub.status.idle": "2022-03-14T05:14:26.536615Z",
     "shell.execute_reply": "2022-03-14T05:14:26.536204Z",
     "shell.execute_reply.started": "2022-03-14T05:14:26.504049Z"
    }
   },
   "outputs": [],
   "source": [
    "import numpy as np\n",
    "\n",
    "x = np.array([1, 1])\n",
    "G = x[0] * np.diag(np.ones(7))\n",
    "R = x[1] * np.diag(np.ones(21))\n",
    "V = Z.dot(G).dot(Z.T) + R\n",
    "V_inv = np.linalg.inv(V)\n",
    "X_T = X.T\n",
    "B = np.linalg.inv(X_T.dot(V_inv).dot(X)).dot(X_T).dot(V_inv).dot(y)\n",
    "LL = np.log(np.linalg.det(V)) + (y - (X.dot(B))).T.dot(V_inv).dot(y - (X.dot(B)))"
   ]
  },
  {
   "cell_type": "code",
   "execution_count": 4,
   "id": "potential-meter",
   "metadata": {
    "execution": {
     "iopub.execute_input": "2022-03-14T05:14:26.537750Z",
     "iopub.status.busy": "2022-03-14T05:14:26.537550Z",
     "iopub.status.idle": "2022-03-14T05:14:26.643220Z",
     "shell.execute_reply": "2022-03-14T05:14:26.642826Z",
     "shell.execute_reply.started": "2022-03-14T05:14:26.537735Z"
    }
   },
   "outputs": [
    {
     "data": {
      "text/plain": [
       " final_simplex: (array([[9.81238077, 8.88993185],\n",
       "       [9.81238077, 8.88993185],\n",
       "       [9.81238077, 8.88993185]]), array([77.11196749, 77.11196749, 77.11196749]))\n",
       "           fun: 77.11196749090402\n",
       "       message: 'Optimization terminated successfully.'\n",
       "          nfev: 253\n",
       "           nit: 109\n",
       "        status: 0\n",
       "       success: True\n",
       "             x: array([9.81238077, 8.88993185])"
      ]
     },
     "execution_count": 4,
     "metadata": {},
     "output_type": "execute_result"
    }
   ],
   "source": [
    "from scipy.optimize import minimize\n",
    "\n",
    "def log_ml(x):\n",
    "    G = x[0] * np.diag(np.ones(7))\n",
    "    R = x[1] * np.diag(np.ones(21))\n",
    "    V = Z.dot(G).dot(Z.T) + R\n",
    "    V_inv = np.linalg.inv(V)\n",
    "    X_T = X.T\n",
    "    B = np.linalg.inv(X_T.dot(V_inv).dot(X)).dot(X_T).dot(V_inv).dot(y)\n",
    "    LL = np.log(np.linalg.det(V)) + (y - (X.dot(B))).T.dot(V_inv).dot(y - (X.dot(B)))\n",
    "    \n",
    "    return np.ravel(LL)[0]\n",
    "\n",
    "r = minimize(fun=log_ml, x0=np.array([1, 1]), method='Nelder-Mead', tol=0.0000000000001, options={'maxiter': 500})\n",
    "r"
   ]
  },
  {
   "cell_type": "code",
   "execution_count": 5,
   "id": "interracial-blocking",
   "metadata": {
    "execution": {
     "iopub.execute_input": "2022-03-14T05:14:26.644254Z",
     "iopub.status.busy": "2022-03-14T05:14:26.644006Z",
     "iopub.status.idle": "2022-03-14T05:14:26.651214Z",
     "shell.execute_reply": "2022-03-14T05:14:26.650755Z",
     "shell.execute_reply.started": "2022-03-14T05:14:26.644229Z"
    }
   },
   "outputs": [
    {
     "data": {
      "text/plain": [
       "array([70.18571429,  5.71428571,  0.91428571])"
      ]
     },
     "execution_count": 5,
     "metadata": {},
     "output_type": "execute_result"
    }
   ],
   "source": [
    "def hat_beta(x):\n",
    "    G = x[0] * np.diag(np.ones(7))\n",
    "    R = x[1] * np.diag(np.ones(21))\n",
    "    V = Z.dot(G).dot(Z.T) + R\n",
    "    V_inv = np.linalg.inv(V)\n",
    "    X_T = X.T\n",
    "    B = np.linalg.inv(X_T.dot(V_inv).dot(X)).dot(X_T).dot(V_inv).dot(y)\n",
    "    \n",
    "    return np.ravel(B)\n",
    "\n",
    "hat_beta(r.x)"
   ]
  },
  {
   "cell_type": "markdown",
   "id": "exclusive-bubble",
   "metadata": {},
   "source": [
    "## LMM via REML"
   ]
  },
  {
   "cell_type": "code",
   "execution_count": 6,
   "id": "understood-instrumentation",
   "metadata": {
    "execution": {
     "iopub.execute_input": "2022-03-14T05:14:26.652067Z",
     "iopub.status.busy": "2022-03-14T05:14:26.651945Z",
     "iopub.status.idle": "2022-03-14T05:14:26.688276Z",
     "shell.execute_reply": "2022-03-14T05:14:26.687912Z",
     "shell.execute_reply.started": "2022-03-14T05:14:26.652052Z"
    }
   },
   "outputs": [
    {
     "data": {
      "text/plain": [
       " final_simplex: (array([[11.44777794, 10.37158691],\n",
       "       [11.44777794, 10.37158691],\n",
       "       [11.44777794, 10.37158691]]), array([74.70841482, 74.70841482, 74.70841482]))\n",
       "           fun: 74.7084148191172\n",
       "       message: 'Optimization terminated successfully.'\n",
       "          nfev: 244\n",
       "           nit: 107\n",
       "        status: 0\n",
       "       success: True\n",
       "             x: array([11.44777794, 10.37158691])"
      ]
     },
     "execution_count": 6,
     "metadata": {},
     "output_type": "execute_result"
    }
   ],
   "source": [
    "def log_reml(x):\n",
    "    G = x[0] * np.diag(np.ones(7))\n",
    "    R = x[1] * np.diag(np.ones(21))\n",
    "    V = Z.dot(G).dot(Z.T) + R\n",
    "    V_inv = np.linalg.inv(V)\n",
    "    X_T = X.T\n",
    "    B = np.linalg.inv(X_T.dot(V_inv).dot(X)).dot(X_T).dot(V_inv).dot(y)\n",
    "    LL = np.log(np.linalg.det(V)) + np.log(np.linalg.det(X.T.dot(V_inv).dot(X))) + (y - (X.dot(B))).T.dot(V_inv).dot(y - (X.dot(B)))\n",
    "    \n",
    "    return np.ravel(LL)[0]\n",
    "\n",
    "r = minimize(fun=log_reml, x0=np.array([1, 1]), method='Nelder-Mead', tol=0.0000000000001, options={'maxiter': 500})\n",
    "r"
   ]
  },
  {
   "cell_type": "code",
   "execution_count": 7,
   "id": "arranged-hours",
   "metadata": {
    "execution": {
     "iopub.execute_input": "2022-03-14T05:14:26.688845Z",
     "iopub.status.busy": "2022-03-14T05:14:26.688739Z",
     "iopub.status.idle": "2022-03-14T05:14:26.691784Z",
     "shell.execute_reply": "2022-03-14T05:14:26.691434Z",
     "shell.execute_reply.started": "2022-03-14T05:14:26.688832Z"
    }
   },
   "outputs": [
    {
     "data": {
      "text/plain": [
       "array([70.18571429,  5.71428571,  0.91428571])"
      ]
     },
     "execution_count": 7,
     "metadata": {},
     "output_type": "execute_result"
    }
   ],
   "source": [
    "hat_beta(r.x)"
   ]
  }
 ],
 "metadata": {
  "kernelspec": {
   "display_name": "Python 3",
   "language": "python",
   "name": "python3"
  },
  "language_info": {
   "codemirror_mode": {
    "name": "ipython",
    "version": 3
   },
   "file_extension": ".py",
   "mimetype": "text/x-python",
   "name": "python",
   "nbconvert_exporter": "python",
   "pygments_lexer": "ipython3",
   "version": "3.8.5"
  },
  "widgets": {
   "application/vnd.jupyter.widget-state+json": {
    "state": {},
    "version_major": 2,
    "version_minor": 0
   }
  }
 },
 "nbformat": 4,
 "nbformat_minor": 5
}
