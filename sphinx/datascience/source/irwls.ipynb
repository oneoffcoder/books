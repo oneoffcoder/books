{
 "cells": [
  {
   "cell_type": "markdown",
   "id": "30f226dd-37ac-4571-b17f-1bd5b1961385",
   "metadata": {},
   "source": [
    "# Iteratively Reweighted Least Squares Regression\n",
    "\n",
    "Ordinary Least Squares `OLS` regression has an assumption that observations are [independently and identically distributed](https://en.wikipedia.org/wiki/Independent_and_identically_distributed_random_variables) `IID`. However, quite often, we find that our data violates this assumption. Two common sources of this violation arise from the following.\n",
    "\n",
    "- serial autocorrelation: observations from longitudinal data (e.g. time-series data) are more similar the closer they are together in time and their residuals are correlated.\n",
    "- repeated observations: observations are related to one another (e.g. students can be clustered by teachers) and so residuals are clustered.\n",
    "\n",
    "When the IID assumption is violated, the variance of the residuals will not be constant but changing based on something in your model. This non-constant variance of the residual is called `heteroscedasticity`. A diagnostic plot of the residuals $r$ against the predicted values $\\hat{y}$ might show that as values of $\\hat{y}$ increases, the variance of $r$ increases as well.\n",
    "\n",
    "Interestingly, violation of the IID assumption does not bias the estimation of the weights (intercept and coefficients). Rather, violation of the IID assumption will bias the `standard error` estimation of the weights. Additionally, with the difficulty in estimating the standard error as a result of correlation in the residuals, the model is no longer considered the [Best Linear Unbiased Estimator](https://en.wikipedia.org/wiki/Gauss%E2%80%93Markov_theorem) `BLUE`. To deal with the bias estimation of the standard errors, there's a few things to do.\n",
    "\n",
    "- [multilevel modeling](https://en.wikipedia.org/wiki/Multilevel_model): change the model; get a better model\n",
    "- [robust standard error](https://en.wikipedia.org/wiki/Heteroscedasticity-consistent_standard_errors): change the standard error estimator; get a better estimator\n",
    "- [Iteratively Reweighted Least Squares Regression](https://en.wikipedia.org/wiki/Iteratively_reweighted_least_squares) `IRWLS`; weight the data and keep regression until convergence of the weights (coefficients)\n",
    "\n",
    "In this notebook, we will go over how to multilevel modeling and how to implement IRWLS."
   ]
  },
  {
   "cell_type": "markdown",
   "id": "56ac3caa-0ca6-4432-bf31-f2059d423c5d",
   "metadata": {},
   "source": [
    "## Data\n",
    "\n",
    "This data is a taken from the [GMU Comparative Effectiveness](http://openonlinecourses.com/causalanalysis/Multi%20Level%20Regression.asp) course. This data is composed of patient-level data across 6 hospitals (A, B, C, D, E, F) concerning their probability of survival. Certainly, this data has observations that are related to one another as patients may be grouped under hospitals (e.g. like students being grouped by teachers). The observations are not IID and there is risk for heteroscedasticity. "
   ]
  },
  {
   "cell_type": "code",
   "execution_count": 1,
   "id": "theoretical-protocol",
   "metadata": {
    "tags": []
   },
   "outputs": [
    {
     "data": {
      "text/plain": [
       "(50, 6)"
      ]
     },
     "execution_count": 1,
     "metadata": {},
     "output_type": "execute_result"
    }
   ],
   "source": [
    "import pandas as pd\n",
    "\n",
    "df = pd.read_excel('./data/TraumaData.xlsx').drop(columns=['Unnamed: 0'])\n",
    "df = df.rename(columns={c: c.lower().replace(' ', '_') for c in df.columns})\n",
    "df = df.rename(columns={'65+_years': 'is_senior'})\n",
    "df.shape"
   ]
  },
  {
   "cell_type": "code",
   "execution_count": 2,
   "id": "arabic-bathroom",
   "metadata": {
    "tags": []
   },
   "outputs": [
    {
     "data": {
      "text/html": [
       "<div>\n",
       "<style scoped>\n",
       "    .dataframe tbody tr th:only-of-type {\n",
       "        vertical-align: middle;\n",
       "    }\n",
       "\n",
       "    .dataframe tbody tr th {\n",
       "        vertical-align: top;\n",
       "    }\n",
       "\n",
       "    .dataframe thead th {\n",
       "        text-align: right;\n",
       "    }\n",
       "</style>\n",
       "<table border=\"1\" class=\"dataframe\">\n",
       "  <thead>\n",
       "    <tr style=\"text-align: right;\">\n",
       "      <th></th>\n",
       "      <th>prob_survival</th>\n",
       "      <th>severe_burn</th>\n",
       "      <th>head_injury</th>\n",
       "      <th>is_senior</th>\n",
       "      <th>male</th>\n",
       "      <th>hosp</th>\n",
       "    </tr>\n",
       "  </thead>\n",
       "  <tbody>\n",
       "    <tr>\n",
       "      <th>0</th>\n",
       "      <td>0.694551</td>\n",
       "      <td>1</td>\n",
       "      <td>1</td>\n",
       "      <td>1</td>\n",
       "      <td>1</td>\n",
       "      <td>A</td>\n",
       "    </tr>\n",
       "    <tr>\n",
       "      <th>1</th>\n",
       "      <td>0.733619</td>\n",
       "      <td>1</td>\n",
       "      <td>1</td>\n",
       "      <td>1</td>\n",
       "      <td>0</td>\n",
       "      <td>A</td>\n",
       "    </tr>\n",
       "    <tr>\n",
       "      <th>2</th>\n",
       "      <td>0.785537</td>\n",
       "      <td>1</td>\n",
       "      <td>1</td>\n",
       "      <td>0</td>\n",
       "      <td>1</td>\n",
       "      <td>A</td>\n",
       "    </tr>\n",
       "    <tr>\n",
       "      <th>3</th>\n",
       "      <td>0.818770</td>\n",
       "      <td>1</td>\n",
       "      <td>0</td>\n",
       "      <td>1</td>\n",
       "      <td>1</td>\n",
       "      <td>A</td>\n",
       "    </tr>\n",
       "    <tr>\n",
       "      <th>4</th>\n",
       "      <td>0.868275</td>\n",
       "      <td>1</td>\n",
       "      <td>0</td>\n",
       "      <td>0</td>\n",
       "      <td>1</td>\n",
       "      <td>A</td>\n",
       "    </tr>\n",
       "  </tbody>\n",
       "</table>\n",
       "</div>"
      ],
      "text/plain": [
       "   prob_survival  severe_burn  head_injury  is_senior  male hosp\n",
       "0       0.694551            1            1          1     1    A\n",
       "1       0.733619            1            1          1     0    A\n",
       "2       0.785537            1            1          0     1    A\n",
       "3       0.818770            1            0          1     1    A\n",
       "4       0.868275            1            0          0     1    A"
      ]
     },
     "execution_count": 2,
     "metadata": {},
     "output_type": "execute_result"
    }
   ],
   "source": [
    "df.head()"
   ]
  },
  {
   "cell_type": "markdown",
   "id": "d3866266-0349-4ca6-a98c-41bc021f18ad",
   "metadata": {},
   "source": [
    "## Multilevel modeling, Intercept method\n",
    "\n",
    "One way to do multilevel modeling is to build two regression models, one called the `micro-level model` (e.g. patients, students), and another afterwards, called the `macro-level model` (e.g. hospitals, teachers). "
   ]
  },
  {
   "cell_type": "code",
   "execution_count": 3,
   "id": "seasonal-capture",
   "metadata": {
    "tags": []
   },
   "outputs": [
    {
     "data": {
      "text/plain": [
       "((50, 8), (50,))"
      ]
     },
     "execution_count": 3,
     "metadata": {},
     "output_type": "execute_result"
    }
   ],
   "source": [
    "from patsy import dmatrices\n",
    "import statsmodels.api as sm\n",
    "import numpy as np\n",
    "\n",
    "np.random.seed(37)\n",
    "\n",
    "y, X = dmatrices('prob_survival ~ severe_burn + head_injury + is_senior + male + hosp', df, return_type='dataframe')\n",
    "y = np.ravel(y)\n",
    "X = X.iloc[:,1:]\n",
    "\n",
    "X.shape, y.shape"
   ]
  },
  {
   "cell_type": "markdown",
   "id": "30c212a2-d0c0-4d80-9d25-3d442368fc0b",
   "metadata": {},
   "source": [
    "### Micro-level (patients)\n",
    "\n",
    "In the micro-level model, all variables are regressed against the dependent variable (probability of survival, in this case). The grouping variable denoting hospital is one-hot encoded (with Hospital A being dropped as the reference) to produce dummy variables. The coefficients associated dummy variables are then used as the dependent variable in the macro-level model."
   ]
  },
  {
   "cell_type": "code",
   "execution_count": 4,
   "id": "contrary-speech",
   "metadata": {
    "tags": []
   },
   "outputs": [
    {
     "data": {
      "text/plain": [
       "intercept      1.162184\n",
       "hosp[T.B]     -0.117932\n",
       "hosp[T.C]     -0.226131\n",
       "hosp[T.D]     -0.276450\n",
       "hosp[T.E]     -0.341136\n",
       "severe_burn   -0.245425\n",
       "head_injury   -0.181782\n",
       "is_senior     -0.109293\n",
       "male          -0.026703\n",
       "dtype: float64"
      ]
     },
     "execution_count": 4,
     "metadata": {},
     "output_type": "execute_result"
    }
   ],
   "source": [
    "from sklearn.linear_model import LinearRegression\n",
    "\n",
    "def get_coef(m, X=None):\n",
    "    if X is None:\n",
    "        return np.array([m.intercept_] + list(m.coef_))\n",
    "    return pd.concat([\n",
    "                pd.Series(m.intercept_, ['intercept']), \n",
    "                pd.Series(m.coef_, X.columns)\n",
    "            ])\n",
    "\n",
    "m1 = LinearRegression()\n",
    "m1.fit(X, y)\n",
    "\n",
    "c1 = get_coef(m1, X)\n",
    "c1"
   ]
  },
  {
   "cell_type": "code",
   "execution_count": 5,
   "id": "d898fb68-2abf-4351-9e71-60d838b09b86",
   "metadata": {},
   "outputs": [
    {
     "data": {
      "image/png": "[encoded data removed]",
      "text/plain": [
       "<Figure size 432x288 with 1 Axes>"
      ]
     },
     "metadata": {},
     "output_type": "display_data"
    }
   ],
   "source": [
    "import matplotlib.pyplot as plt\n",
    "\n",
    "plt.style.use('ggplot')\n",
    "\n",
    "ax = pd.DataFrame({'y': m1.predict(X), 'r': y - m1.predict(X)}).plot(kind='scatter', x='y', y='r', xlabel=r'$\\hat{y}$')\n",
    "_ = ax.set_title('Micro-level model residuals')"
   ]
  },
  {
   "cell_type": "markdown",
   "id": "42e4e70a-450c-4891-8c19-97ec8e625338",
   "metadata": {},
   "source": [
    "### Macro-level (hospitals)\n",
    "\n",
    "Before we can use the coefficients of the dummy variables (from the grouping variable), we need to adjust them using the intercept (remember, we dropped one of the dummy variables and considered it the reference). The adjustment is simply the intercept minus the coefficient, which becomes the dependent variable at the macro-level model. We can use the macro-level model to understand macro-level variables and how they influence the probability of survival. "
   ]
  },
  {
   "cell_type": "code",
   "execution_count": 6,
   "id": "induced-remove",
   "metadata": {
    "tags": []
   },
   "outputs": [
    {
     "data": {
      "text/html": [
       "<div>\n",
       "<style scoped>\n",
       "    .dataframe tbody tr th:only-of-type {\n",
       "        vertical-align: middle;\n",
       "    }\n",
       "\n",
       "    .dataframe tbody tr th {\n",
       "        vertical-align: top;\n",
       "    }\n",
       "\n",
       "    .dataframe thead th {\n",
       "        text-align: right;\n",
       "    }\n",
       "</style>\n",
       "<table border=\"1\" class=\"dataframe\">\n",
       "  <thead>\n",
       "    <tr style=\"text-align: right;\">\n",
       "      <th></th>\n",
       "      <th>tertiary_center</th>\n",
       "      <th>burn_center</th>\n",
       "      <th>y</th>\n",
       "    </tr>\n",
       "  </thead>\n",
       "  <tbody>\n",
       "    <tr>\n",
       "      <th>A</th>\n",
       "      <td>1</td>\n",
       "      <td>0</td>\n",
       "      <td>0.000000</td>\n",
       "    </tr>\n",
       "    <tr>\n",
       "      <th>B</th>\n",
       "      <td>1</td>\n",
       "      <td>1</td>\n",
       "      <td>1.280116</td>\n",
       "    </tr>\n",
       "    <tr>\n",
       "      <th>C</th>\n",
       "      <td>0</td>\n",
       "      <td>0</td>\n",
       "      <td>1.388314</td>\n",
       "    </tr>\n",
       "    <tr>\n",
       "      <th>D</th>\n",
       "      <td>0</td>\n",
       "      <td>0</td>\n",
       "      <td>1.438634</td>\n",
       "    </tr>\n",
       "    <tr>\n",
       "      <th>E</th>\n",
       "      <td>0</td>\n",
       "      <td>0</td>\n",
       "      <td>1.503320</td>\n",
       "    </tr>\n",
       "  </tbody>\n",
       "</table>\n",
       "</div>"
      ],
      "text/plain": [
       "   tertiary_center  burn_center         y\n",
       "A                1            0  0.000000\n",
       "B                1            1  1.280116\n",
       "C                0            0  1.388314\n",
       "D                0            0  1.438634\n",
       "E                0            0  1.503320"
      ]
     },
     "execution_count": 6,
     "metadata": {},
     "output_type": "execute_result"
    }
   ],
   "source": [
    "hosp_df = pd.DataFrame({\n",
    "    'tertiary_center': [1, 1, 0, 0, 0],\n",
    "    'burn_center': [0, 1, 0, 0, 0],\n",
    "    'y': [0] + list(m1.intercept_ - c1[1:5])\n",
    "}, index=['A', 'B', 'C', 'D', 'E'])\n",
    "\n",
    "hosp_df"
   ]
  },
  {
   "cell_type": "code",
   "execution_count": 7,
   "id": "pacific-saint",
   "metadata": {
    "tags": []
   },
   "outputs": [
    {
     "data": {
      "text/plain": [
       "((5, 2), (5,))"
      ]
     },
     "execution_count": 7,
     "metadata": {},
     "output_type": "execute_result"
    }
   ],
   "source": [
    "y, X = dmatrices('y ~ tertiary_center + burn_center', hosp_df, return_type='dataframe')\n",
    "y = np.ravel(y)\n",
    "X = X.iloc[:,1:]\n",
    "\n",
    "X.shape, y.shape"
   ]
  },
  {
   "cell_type": "code",
   "execution_count": 8,
   "id": "global-record",
   "metadata": {
    "tags": []
   },
   "outputs": [
    {
     "data": {
      "text/plain": [
       "intercept          1.443422\n",
       "tertiary_center   -1.443422\n",
       "burn_center        1.280116\n",
       "dtype: float64"
      ]
     },
     "execution_count": 8,
     "metadata": {},
     "output_type": "execute_result"
    }
   ],
   "source": [
    "m2 = LinearRegression()\n",
    "m2.fit(X, y)\n",
    "\n",
    "c2 = get_coef(m2, X)\n",
    "c2"
   ]
  },
  {
   "cell_type": "code",
   "execution_count": 9,
   "id": "a7a6c3a3-ac0a-40c0-b3a2-809f9d14740a",
   "metadata": {},
   "outputs": [
    {
     "data": {
      "image/png": "[encoded data removed]",
      "text/plain": [
       "<Figure size 432x288 with 1 Axes>"
      ]
     },
     "metadata": {},
     "output_type": "display_data"
    }
   ],
   "source": [
    "ax = pd.DataFrame({'y': m2.predict(X), 'r': y - m2.predict(X)}).plot(kind='scatter', x='y', y='r', xlabel=r'$\\hat{y}$')\n",
    "_ = ax.set_title('Macro-level model residuals')"
   ]
  },
  {
   "cell_type": "markdown",
   "id": "86363b44-e89a-4de8-bbde-9c50776b730f",
   "metadata": {},
   "source": [
    "## Regression, y ~ X\n",
    "\n",
    "We can also apply `OLS` directly on the data."
   ]
  },
  {
   "cell_type": "code",
   "execution_count": 10,
   "id": "accepting-finder",
   "metadata": {
    "tags": []
   },
   "outputs": [
    {
     "data": {
      "text/html": [
       "<div>\n",
       "<style scoped>\n",
       "    .dataframe tbody tr th:only-of-type {\n",
       "        vertical-align: middle;\n",
       "    }\n",
       "\n",
       "    .dataframe tbody tr th {\n",
       "        vertical-align: top;\n",
       "    }\n",
       "\n",
       "    .dataframe thead th {\n",
       "        text-align: right;\n",
       "    }\n",
       "</style>\n",
       "<table border=\"1\" class=\"dataframe\">\n",
       "  <thead>\n",
       "    <tr style=\"text-align: right;\">\n",
       "      <th></th>\n",
       "      <th>prob_survival</th>\n",
       "      <th>severe_burn</th>\n",
       "      <th>head_injury</th>\n",
       "      <th>is_senior</th>\n",
       "      <th>male</th>\n",
       "      <th>hosp</th>\n",
       "      <th>tertiary_center</th>\n",
       "      <th>burn_center</th>\n",
       "    </tr>\n",
       "  </thead>\n",
       "  <tbody>\n",
       "    <tr>\n",
       "      <th>0</th>\n",
       "      <td>0.694551</td>\n",
       "      <td>1</td>\n",
       "      <td>1</td>\n",
       "      <td>1</td>\n",
       "      <td>1</td>\n",
       "      <td>A</td>\n",
       "      <td>1</td>\n",
       "      <td>0</td>\n",
       "    </tr>\n",
       "    <tr>\n",
       "      <th>1</th>\n",
       "      <td>0.733619</td>\n",
       "      <td>1</td>\n",
       "      <td>1</td>\n",
       "      <td>1</td>\n",
       "      <td>0</td>\n",
       "      <td>A</td>\n",
       "      <td>1</td>\n",
       "      <td>0</td>\n",
       "    </tr>\n",
       "    <tr>\n",
       "      <th>2</th>\n",
       "      <td>0.785537</td>\n",
       "      <td>1</td>\n",
       "      <td>1</td>\n",
       "      <td>0</td>\n",
       "      <td>1</td>\n",
       "      <td>A</td>\n",
       "      <td>1</td>\n",
       "      <td>0</td>\n",
       "    </tr>\n",
       "    <tr>\n",
       "      <th>3</th>\n",
       "      <td>0.818770</td>\n",
       "      <td>1</td>\n",
       "      <td>0</td>\n",
       "      <td>1</td>\n",
       "      <td>1</td>\n",
       "      <td>A</td>\n",
       "      <td>1</td>\n",
       "      <td>0</td>\n",
       "    </tr>\n",
       "    <tr>\n",
       "      <th>4</th>\n",
       "      <td>0.868275</td>\n",
       "      <td>1</td>\n",
       "      <td>0</td>\n",
       "      <td>0</td>\n",
       "      <td>1</td>\n",
       "      <td>A</td>\n",
       "      <td>1</td>\n",
       "      <td>0</td>\n",
       "    </tr>\n",
       "  </tbody>\n",
       "</table>\n",
       "</div>"
      ],
      "text/plain": [
       "   prob_survival  severe_burn  head_injury  is_senior  male hosp  \\\n",
       "0       0.694551            1            1          1     1    A   \n",
       "1       0.733619            1            1          1     0    A   \n",
       "2       0.785537            1            1          0     1    A   \n",
       "3       0.818770            1            0          1     1    A   \n",
       "4       0.868275            1            0          0     1    A   \n",
       "\n",
       "   tertiary_center  burn_center  \n",
       "0                1            0  \n",
       "1                1            0  \n",
       "2                1            0  \n",
       "3                1            0  \n",
       "4                1            0  "
      ]
     },
     "execution_count": 10,
     "metadata": {},
     "output_type": "execute_result"
    }
   ],
   "source": [
    "df['tertiary_center'] = df['hosp'].apply(lambda h: 1 if h in {'A', 'B'} else 0)\n",
    "df['burn_center'] = df['hosp'].apply(lambda h: 1 if h in {'B'} else 0)\n",
    "\n",
    "df.head()"
   ]
  },
  {
   "cell_type": "code",
   "execution_count": 11,
   "id": "forbidden-supplier",
   "metadata": {
    "tags": []
   },
   "outputs": [
    {
     "data": {
      "text/plain": [
       "((50, 10), (50,))"
      ]
     },
     "execution_count": 11,
     "metadata": {},
     "output_type": "execute_result"
    }
   ],
   "source": [
    "y, X = dmatrices('prob_survival ~ severe_burn + head_injury + is_senior + male + hosp + tertiary_center + burn_center', df, return_type='dataframe')\n",
    "y = np.ravel(y)\n",
    "X = X.iloc[:,1:]\n",
    "\n",
    "X.shape, y.shape"
   ]
  },
  {
   "cell_type": "code",
   "execution_count": 12,
   "id": "alive-crown",
   "metadata": {
    "tags": []
   },
   "outputs": [
    {
     "data": {
      "text/plain": [
       "intercept          0.951254\n",
       "hosp[T.B]         -0.058966\n",
       "hosp[T.C]         -0.015202\n",
       "hosp[T.D]         -0.065521\n",
       "hosp[T.E]         -0.130207\n",
       "severe_burn       -0.245425\n",
       "head_injury       -0.181782\n",
       "is_senior         -0.109293\n",
       "male              -0.026703\n",
       "tertiary_center    0.210929\n",
       "burn_center       -0.058966\n",
       "dtype: float64"
      ]
     },
     "execution_count": 12,
     "metadata": {},
     "output_type": "execute_result"
    }
   ],
   "source": [
    "m3 = LinearRegression()\n",
    "m3.fit(X, y)\n",
    "\n",
    "c3 = get_coef(m3, X)\n",
    "c3"
   ]
  },
  {
   "cell_type": "code",
   "execution_count": 13,
   "id": "abstract-terrorism",
   "metadata": {
    "tags": []
   },
   "outputs": [
    {
     "data": {
      "image/png": "[encoded data removed]",
      "text/plain": [
       "<Figure size 432x288 with 1 Axes>"
      ]
     },
     "metadata": {},
     "output_type": "display_data"
    }
   ],
   "source": [
    "ax = pd.DataFrame({'y': m3.predict(X), 'r': y - m3.predict(X)}).plot(kind='scatter', x='y', y='r', xlabel=r'$\\hat{y}$')\n",
    "_ = ax.set_title('OLS: y ~ X residuals')"
   ]
  },
  {
   "cell_type": "markdown",
   "id": "4f219599-6ae7-4ff0-8c00-867afe3df3e8",
   "metadata": {},
   "source": [
    "## Regression, log(y) ~ X\n",
    "\n",
    "We can try to control the residual heteroscedasticity by taking the log of the dependent variable."
   ]
  },
  {
   "cell_type": "code",
   "execution_count": 14,
   "id": "suspected-anchor",
   "metadata": {
    "tags": []
   },
   "outputs": [
    {
     "data": {
      "text/plain": [
       "intercept         -0.015569\n",
       "hosp[T.B]         -0.092775\n",
       "hosp[T.C]         -0.018212\n",
       "hosp[T.D]         -0.084913\n",
       "hosp[T.E]         -0.240481\n",
       "severe_burn       -0.404063\n",
       "head_injury       -0.269846\n",
       "is_senior         -0.153650\n",
       "male              -0.055098\n",
       "tertiary_center    0.343607\n",
       "burn_center       -0.092775\n",
       "dtype: float64"
      ]
     },
     "execution_count": 14,
     "metadata": {},
     "output_type": "execute_result"
    }
   ],
   "source": [
    "m4 = LinearRegression()\n",
    "m4.fit(X, np.log(y))\n",
    "\n",
    "c4 = get_coef(m4, X)\n",
    "c4"
   ]
  },
  {
   "cell_type": "code",
   "execution_count": 15,
   "id": "eda384da-a7a0-43c2-8965-05688073a165",
   "metadata": {},
   "outputs": [
    {
     "data": {
      "image/png": "[encoded data removed]",
      "text/plain": [
       "<Figure size 432x288 with 1 Axes>"
      ]
     },
     "metadata": {},
     "output_type": "display_data"
    }
   ],
   "source": [
    "ax = pd.DataFrame({'y': m4.predict(X), 'r': np.log(y) - m4.predict(X)}).plot(kind='scatter', x='y', y='r', xlabel=r'$\\hat{y}$')\n",
    "_ = ax.set_title('OLS: log(y) ~ X residuals')"
   ]
  },
  {
   "cell_type": "markdown",
   "id": "054a2bd6-bccb-4ddd-9645-1221cbec91e3",
   "metadata": {},
   "source": [
    "## IRWLS, y ~ X\n",
    "\n",
    "IRWLS can be applied where we inversely weight each observation by their residual and apply weighted least squares repeatedly until the weights/coefficients converge."
   ]
  },
  {
   "cell_type": "code",
   "execution_count": 16,
   "id": "present-trout",
   "metadata": {
    "tags": []
   },
   "outputs": [
    {
     "data": {
      "text/plain": [
       "intercept          0.941122\n",
       "hosp[T.B]         -0.056463\n",
       "hosp[T.C]         -0.012746\n",
       "hosp[T.D]         -0.070542\n",
       "hosp[T.E]         -0.128975\n",
       "severe_burn       -0.251367\n",
       "head_injury       -0.175856\n",
       "is_senior         -0.096670\n",
       "male              -0.028194\n",
       "tertiary_center    0.212263\n",
       "burn_center       -0.056463\n",
       "dtype: float64"
      ]
     },
     "execution_count": 16,
     "metadata": {},
     "output_type": "execute_result"
    }
   ],
   "source": [
    "def do_irwls(X, y, max_iter=100, delta=0.001, tol=0.001):\n",
    "    w = np.ones(y.shape[0])\n",
    "\n",
    "    m = LinearRegression()\n",
    "    m.fit(X, y, w)\n",
    "\n",
    "    trace = []\n",
    "\n",
    "    for i in range(max_iter):\n",
    "        _B = get_coef(m)\n",
    "        _w = 1 / np.maximum(delta, np.abs(y - m.predict(X)))\n",
    "\n",
    "        m = LinearRegression()\n",
    "        m.fit(X, y, _w)\n",
    "\n",
    "        B = get_coef(m)\n",
    "        w = 1 / np.maximum(delta, np.abs(y - m.predict(X)))\n",
    "\n",
    "        B_dist = np.linalg.norm(B - _B)\n",
    "        w_dist = np.linalg.norm(w - _w)\n",
    "\n",
    "        B_delta = np.sum(np.abs(B - _B))\n",
    "        w_delta = np.sum(np.abs(w - _w))\n",
    "\n",
    "        trace.append({'i': i, 'w_dist': w_dist, 'w_delta': w_delta, 'B_dist': B_dist, 'B_delta': B_delta})\n",
    "\n",
    "        if B_delta < tol:\n",
    "            break\n",
    "\n",
    "    return m, pd.DataFrame(trace)\n",
    "\n",
    "m5, trace_df = do_irwls(X, y, delta=0.0001, tol=0.0001)\n",
    "\n",
    "c5 = get_coef(m5, X)\n",
    "c5"
   ]
  },
  {
   "cell_type": "markdown",
   "id": "dbbafac5-db6a-44ae-b381-fd764ecd30c1",
   "metadata": {},
   "source": [
    "Here is the trace of how the weights of the observations (w_dist, w_delta) and coefficients (B_dist, B_delta) change over the iterations."
   ]
  },
  {
   "cell_type": "code",
   "execution_count": 17,
   "id": "f1154203-7d2f-4daa-a291-f25abfbfeae3",
   "metadata": {},
   "outputs": [
    {
     "data": {
      "text/html": [
       "<div>\n",
       "<style scoped>\n",
       "    .dataframe tbody tr th:only-of-type {\n",
       "        vertical-align: middle;\n",
       "    }\n",
       "\n",
       "    .dataframe tbody tr th {\n",
       "        vertical-align: top;\n",
       "    }\n",
       "\n",
       "    .dataframe thead th {\n",
       "        text-align: right;\n",
       "    }\n",
       "</style>\n",
       "<table border=\"1\" class=\"dataframe\">\n",
       "  <thead>\n",
       "    <tr style=\"text-align: right;\">\n",
       "      <th></th>\n",
       "      <th>i</th>\n",
       "      <th>w_dist</th>\n",
       "      <th>w_delta</th>\n",
       "      <th>B_dist</th>\n",
       "      <th>B_delta</th>\n",
       "    </tr>\n",
       "  </thead>\n",
       "  <tbody>\n",
       "    <tr>\n",
       "      <th>0</th>\n",
       "      <td>0</td>\n",
       "      <td>2920.326019</td>\n",
       "      <td>5159.839926</td>\n",
       "      <td>0.010612</td>\n",
       "      <td>0.028483</td>\n",
       "    </tr>\n",
       "    <tr>\n",
       "      <th>1</th>\n",
       "      <td>1</td>\n",
       "      <td>6115.516835</td>\n",
       "      <td>8481.150242</td>\n",
       "      <td>0.003541</td>\n",
       "      <td>0.009355</td>\n",
       "    </tr>\n",
       "    <tr>\n",
       "      <th>2</th>\n",
       "      <td>2</td>\n",
       "      <td>762.006315</td>\n",
       "      <td>2037.056610</td>\n",
       "      <td>0.003275</td>\n",
       "      <td>0.008592</td>\n",
       "    </tr>\n",
       "    <tr>\n",
       "      <th>3</th>\n",
       "      <td>3</td>\n",
       "      <td>1598.830939</td>\n",
       "      <td>3631.665480</td>\n",
       "      <td>0.002668</td>\n",
       "      <td>0.007217</td>\n",
       "    </tr>\n",
       "    <tr>\n",
       "      <th>4</th>\n",
       "      <td>4</td>\n",
       "      <td>3480.849759</td>\n",
       "      <td>6502.227517</td>\n",
       "      <td>0.001484</td>\n",
       "      <td>0.004030</td>\n",
       "    </tr>\n",
       "    <tr>\n",
       "      <th>5</th>\n",
       "      <td>5</td>\n",
       "      <td>4448.407014</td>\n",
       "      <td>7498.270822</td>\n",
       "      <td>0.000537</td>\n",
       "      <td>0.001357</td>\n",
       "    </tr>\n",
       "    <tr>\n",
       "      <th>6</th>\n",
       "      <td>6</td>\n",
       "      <td>6805.783694</td>\n",
       "      <td>10404.790335</td>\n",
       "      <td>0.000318</td>\n",
       "      <td>0.000765</td>\n",
       "    </tr>\n",
       "    <tr>\n",
       "      <th>7</th>\n",
       "      <td>7</td>\n",
       "      <td>1256.220294</td>\n",
       "      <td>1794.883870</td>\n",
       "      <td>0.000108</td>\n",
       "      <td>0.000260</td>\n",
       "    </tr>\n",
       "    <tr>\n",
       "      <th>8</th>\n",
       "      <td>8</td>\n",
       "      <td>47.144100</td>\n",
       "      <td>100.626159</td>\n",
       "      <td>0.000017</td>\n",
       "      <td>0.000040</td>\n",
       "    </tr>\n",
       "  </tbody>\n",
       "</table>\n",
       "</div>"
      ],
      "text/plain": [
       "   i       w_dist       w_delta    B_dist   B_delta\n",
       "0  0  2920.326019   5159.839926  0.010612  0.028483\n",
       "1  1  6115.516835   8481.150242  0.003541  0.009355\n",
       "2  2   762.006315   2037.056610  0.003275  0.008592\n",
       "3  3  1598.830939   3631.665480  0.002668  0.007217\n",
       "4  4  3480.849759   6502.227517  0.001484  0.004030\n",
       "5  5  4448.407014   7498.270822  0.000537  0.001357\n",
       "6  6  6805.783694  10404.790335  0.000318  0.000765\n",
       "7  7  1256.220294   1794.883870  0.000108  0.000260\n",
       "8  8    47.144100    100.626159  0.000017  0.000040"
      ]
     },
     "execution_count": 17,
     "metadata": {},
     "output_type": "execute_result"
    }
   ],
   "source": [
    "trace_df"
   ]
  },
  {
   "cell_type": "code",
   "execution_count": 18,
   "id": "stopped-display",
   "metadata": {},
   "outputs": [
    {
     "data": {
      "image/png": "[encoded data removed]",
      "text/plain": [
       "<Figure size 720x288 with 2 Axes>"
      ]
     },
     "metadata": {},
     "output_type": "display_data"
    }
   ],
   "source": [
    "fig, ax = plt.subplots(1, 2, figsize=(10, 4))\n",
    "\n",
    "_ = trace_df[['B_dist', 'B_delta']].plot(kind='line', ax=ax[0], xlabel='iteration')\n",
    "_ = trace_df[['w_dist', 'w_delta']].plot(kind='line', ax=ax[1], xlabel='iteration')\n",
    "\n",
    "_ = ax[0].set_title('Trace of coefficients')\n",
    "_ = ax[1].set_title('Trace of weights')\n",
    "\n",
    "plt.tight_layout()"
   ]
  },
  {
   "cell_type": "markdown",
   "id": "b2a540d5-892e-48d3-9142-d6fb686146b4",
   "metadata": {},
   "source": [
    "## Comparing coefficients\n",
    "\n",
    "Let's compare the coefficients of the models.\n",
    "\n",
    "- `ML-1`: is multilevel model, micro-model\n",
    "- `OLS`: is OLS with y ~ X\n",
    "- `LOG_OLS`: is OLS with log(y) ~ X\n",
    "- `IRWLS`: is simply IRWLS with y ~ X"
   ]
  },
  {
   "cell_type": "code",
   "execution_count": 19,
   "id": "230250c8-bb87-4c48-ae85-0f4f397b001c",
   "metadata": {},
   "outputs": [
    {
     "data": {
      "text/html": [
       "<div>\n",
       "<style scoped>\n",
       "    .dataframe tbody tr th:only-of-type {\n",
       "        vertical-align: middle;\n",
       "    }\n",
       "\n",
       "    .dataframe tbody tr th {\n",
       "        vertical-align: top;\n",
       "    }\n",
       "\n",
       "    .dataframe thead th {\n",
       "        text-align: right;\n",
       "    }\n",
       "</style>\n",
       "<table border=\"1\" class=\"dataframe\">\n",
       "  <thead>\n",
       "    <tr style=\"text-align: right;\">\n",
       "      <th></th>\n",
       "      <th>ML-1</th>\n",
       "      <th>OLS</th>\n",
       "      <th>LOG_OLS</th>\n",
       "      <th>IRWLS</th>\n",
       "    </tr>\n",
       "  </thead>\n",
       "  <tbody>\n",
       "    <tr>\n",
       "      <th>intercept</th>\n",
       "      <td>1.162184</td>\n",
       "      <td>0.951254</td>\n",
       "      <td>-0.015569</td>\n",
       "      <td>0.941122</td>\n",
       "    </tr>\n",
       "    <tr>\n",
       "      <th>hosp[T.B]</th>\n",
       "      <td>-0.117932</td>\n",
       "      <td>-0.058966</td>\n",
       "      <td>-0.092775</td>\n",
       "      <td>-0.056463</td>\n",
       "    </tr>\n",
       "    <tr>\n",
       "      <th>hosp[T.C]</th>\n",
       "      <td>-0.226131</td>\n",
       "      <td>-0.015202</td>\n",
       "      <td>-0.018212</td>\n",
       "      <td>-0.012746</td>\n",
       "    </tr>\n",
       "    <tr>\n",
       "      <th>hosp[T.D]</th>\n",
       "      <td>-0.276450</td>\n",
       "      <td>-0.065521</td>\n",
       "      <td>-0.084913</td>\n",
       "      <td>-0.070542</td>\n",
       "    </tr>\n",
       "    <tr>\n",
       "      <th>hosp[T.E]</th>\n",
       "      <td>-0.341136</td>\n",
       "      <td>-0.130207</td>\n",
       "      <td>-0.240481</td>\n",
       "      <td>-0.128975</td>\n",
       "    </tr>\n",
       "    <tr>\n",
       "      <th>severe_burn</th>\n",
       "      <td>-0.245425</td>\n",
       "      <td>-0.245425</td>\n",
       "      <td>-0.404063</td>\n",
       "      <td>-0.251367</td>\n",
       "    </tr>\n",
       "    <tr>\n",
       "      <th>head_injury</th>\n",
       "      <td>-0.181782</td>\n",
       "      <td>-0.181782</td>\n",
       "      <td>-0.269846</td>\n",
       "      <td>-0.175856</td>\n",
       "    </tr>\n",
       "    <tr>\n",
       "      <th>is_senior</th>\n",
       "      <td>-0.109293</td>\n",
       "      <td>-0.109293</td>\n",
       "      <td>-0.153650</td>\n",
       "      <td>-0.096670</td>\n",
       "    </tr>\n",
       "    <tr>\n",
       "      <th>male</th>\n",
       "      <td>-0.026703</td>\n",
       "      <td>-0.026703</td>\n",
       "      <td>-0.055098</td>\n",
       "      <td>-0.028194</td>\n",
       "    </tr>\n",
       "    <tr>\n",
       "      <th>tertiary_center</th>\n",
       "      <td>NaN</td>\n",
       "      <td>0.210929</td>\n",
       "      <td>0.343607</td>\n",
       "      <td>0.212263</td>\n",
       "    </tr>\n",
       "    <tr>\n",
       "      <th>burn_center</th>\n",
       "      <td>NaN</td>\n",
       "      <td>-0.058966</td>\n",
       "      <td>-0.092775</td>\n",
       "      <td>-0.056463</td>\n",
       "    </tr>\n",
       "  </tbody>\n",
       "</table>\n",
       "</div>"
      ],
      "text/plain": [
       "                     ML-1       OLS   LOG_OLS     IRWLS\n",
       "intercept        1.162184  0.951254 -0.015569  0.941122\n",
       "hosp[T.B]       -0.117932 -0.058966 -0.092775 -0.056463\n",
       "hosp[T.C]       -0.226131 -0.015202 -0.018212 -0.012746\n",
       "hosp[T.D]       -0.276450 -0.065521 -0.084913 -0.070542\n",
       "hosp[T.E]       -0.341136 -0.130207 -0.240481 -0.128975\n",
       "severe_burn     -0.245425 -0.245425 -0.404063 -0.251367\n",
       "head_injury     -0.181782 -0.181782 -0.269846 -0.175856\n",
       "is_senior       -0.109293 -0.109293 -0.153650 -0.096670\n",
       "male            -0.026703 -0.026703 -0.055098 -0.028194\n",
       "tertiary_center       NaN  0.210929  0.343607  0.212263\n",
       "burn_center           NaN -0.058966 -0.092775 -0.056463"
      ]
     },
     "execution_count": 19,
     "metadata": {},
     "output_type": "execute_result"
    }
   ],
   "source": [
    "pd.DataFrame([c1, c3, c4, c5], index=['ML-1', 'OLS', 'LOG_OLS', 'IRWLS']).T"
   ]
  },
  {
   "cell_type": "markdown",
   "id": "f9e29571-0059-4c36-9b02-89274597f979",
   "metadata": {},
   "source": [
    "## Comparing the residuals visually"
   ]
  },
  {
   "cell_type": "code",
   "execution_count": 20,
   "id": "57d7ed9c-593d-4d3b-b8f3-9a2d5036835b",
   "metadata": {},
   "outputs": [
    {
     "data": {
      "image/png": "[encoded data removed]",
      "text/plain": [
       "<Figure size 1440x288 with 4 Axes>"
      ]
     },
     "metadata": {},
     "output_type": "display_data"
    }
   ],
   "source": [
    "fig, ax = plt.subplots(1, 4, figsize=(20, 4))\n",
    "\n",
    "_ = pd.DataFrame({'y': m1.predict(X.iloc[:,:8]), 'r': y - m1.predict(X.iloc[:,:8])}).plot(kind='scatter', x='y', y='r', ax=ax[0], color='red', xlabel=r'$\\hat{y}$')\n",
    "_ = pd.DataFrame({'y': m3.predict(X), 'r': y - m3.predict(X)}).plot(kind='scatter', x='y', y='r', ax=ax[1], color='red', xlabel=r'$\\hat{y}$')\n",
    "_ = pd.DataFrame({'y': m4.predict(X), 'r': np.log(y) - m3.predict(X)}).plot(kind='scatter', x='y', y='r', ax=ax[2], xlabel=r'$\\hat{y}$')\n",
    "_ = pd.DataFrame({'y': m3.predict(X), 'r': y - m3.predict(X)}).plot(kind='scatter', x='y', y='r', ax=ax[3], color='red', label='OLS', xlabel=r'$\\hat{y}$')\n",
    "_ = pd.DataFrame({'y': m5.predict(X), 'r': y - m5.predict(X)}).plot(kind='scatter', x='y', y='r', ax=ax[3], color='green', label='IRWLS', xlabel=r'$\\hat{y}$')\n",
    "\n",
    "_ = ax[0].set_title('ML-1')\n",
    "_ = ax[1].set_title('OLS')\n",
    "_ = ax[2].set_title('LOG_OLS')\n",
    "_ = ax[3].set_title('OLS vs IRWLS')\n",
    "\n",
    "plt.tight_layout()"
   ]
  },
  {
   "cell_type": "markdown",
   "id": "10e885e9-107b-4bd4-95ef-9c3cfc28ee7f",
   "metadata": {},
   "source": [
    "## Comparing standard errors\n",
    "\n",
    "Now we can compare the standard error estimation using bootstrap sampling. We will compare OLS with IRWLS."
   ]
  },
  {
   "cell_type": "code",
   "execution_count": 21,
   "id": "53259de7-d2f4-4f64-90a4-b29285df4036",
   "metadata": {},
   "outputs": [],
   "source": [
    "import scipy.stats\n",
    "\n",
    "\n",
    "def get_sample(df):\n",
    "    sample = df.sample(df.shape[0], replace=True)\n",
    "    y, X = dmatrices('prob_survival ~ severe_burn + head_injury + is_senior + male + hosp + tertiary_center + burn_center', sample, return_type='dataframe')\n",
    "    y = np.ravel(y)\n",
    "    X = X.iloc[:,1:]\n",
    "    \n",
    "    return X, y\n",
    "\n",
    "def do_reg(df, is_ols=True):\n",
    "    X, y = get_sample(df)\n",
    "\n",
    "    if is_ols:\n",
    "        model = LinearRegression()\n",
    "        model.fit(X, y)\n",
    "    else:\n",
    "        model, _ = do_irwls(X, y, delta=0.0001, tol=0.0001)\n",
    "\n",
    "    params = get_coef(model, X)\n",
    "\n",
    "    return params\n",
    "\n",
    "def get_se(df, is_ols=True):\n",
    "    y, X = dmatrices('prob_survival ~ severe_burn + head_injury + is_senior + male + hosp + tertiary_center + burn_center', df, return_type='dataframe')\n",
    "    y = np.ravel(y)\n",
    "    X = X.iloc[:,1:]\n",
    "    \n",
    "    if is_ols:\n",
    "        model = LinearRegression()\n",
    "        model.fit(X, y)\n",
    "    else:\n",
    "        model, _ = do_irwls(X, y, delta=0.0001, tol=0.0001)\n",
    "    \n",
    "    w = get_coef(model, X)\n",
    "    \n",
    "    r_df = pd.DataFrame([do_reg(df, is_ols) for _ in range(100)])\n",
    "    se = r_df.std()\n",
    "    \n",
    "    dof = X.shape[0] - X.shape[1] - 1\n",
    "    \n",
    "    summary = pd.DataFrame({\n",
    "        'w': w,\n",
    "        'se': se,\n",
    "        'z': w / se,\n",
    "        '.025': w - se,\n",
    "        '.975': w + se,\n",
    "        'df': [dof for _ in range(len(w))]\n",
    "    })\n",
    "\n",
    "    summary['P>|z|'] = scipy.stats.t.sf(abs(summary.z), df=summary.df)\n",
    "\n",
    "    return summary"
   ]
  },
  {
   "cell_type": "code",
   "execution_count": 22,
   "id": "1e51e240-289a-4d84-b4c8-a1cbf348bac3",
   "metadata": {},
   "outputs": [
    {
     "data": {
      "text/html": [
       "<style  type=\"text/css\" >\n",
       "#T_432e7_row0_col6,#T_432e7_row1_col6,#T_432e7_row3_col6,#T_432e7_row4_col6,#T_432e7_row5_col6,#T_432e7_row6_col6,#T_432e7_row7_col6,#T_432e7_row9_col6,#T_432e7_row10_col6{\n",
       "            background-color:  rgb(255, 0, 0, 0.18);\n",
       "        }</style><table id=\"T_432e7_\" ><thead>    <tr>        <th class=\"blank level0\" ></th>        <th class=\"col_heading level0 col0\" >w</th>        <th class=\"col_heading level0 col1\" >se</th>        <th class=\"col_heading level0 col2\" >z</th>        <th class=\"col_heading level0 col3\" >.025</th>        <th class=\"col_heading level0 col4\" >.975</th>        <th class=\"col_heading level0 col5\" >df</th>        <th class=\"col_heading level0 col6\" >P>|z|</th>    </tr></thead><tbody>\n",
       "                <tr>\n",
       "                        <th id=\"T_432e7_level0_row0\" class=\"row_heading level0 row0\" >intercept</th>\n",
       "                        <td id=\"T_432e7_row0_col0\" class=\"data row0 col0\" >0.951254</td>\n",
       "                        <td id=\"T_432e7_row0_col1\" class=\"data row0 col1\" >0.027222</td>\n",
       "                        <td id=\"T_432e7_row0_col2\" class=\"data row0 col2\" >34.944054</td>\n",
       "                        <td id=\"T_432e7_row0_col3\" class=\"data row0 col3\" >0.924032</td>\n",
       "                        <td id=\"T_432e7_row0_col4\" class=\"data row0 col4\" >0.978477</td>\n",
       "                        <td id=\"T_432e7_row0_col5\" class=\"data row0 col5\" >39</td>\n",
       "                        <td id=\"T_432e7_row0_col6\" class=\"data row0 col6\" >0.000000</td>\n",
       "            </tr>\n",
       "            <tr>\n",
       "                        <th id=\"T_432e7_level0_row1\" class=\"row_heading level0 row1\" >hosp[T.B]</th>\n",
       "                        <td id=\"T_432e7_row1_col0\" class=\"data row1 col0\" >-0.058966</td>\n",
       "                        <td id=\"T_432e7_row1_col1\" class=\"data row1 col1\" >0.016798</td>\n",
       "                        <td id=\"T_432e7_row1_col2\" class=\"data row1 col2\" >-3.510404</td>\n",
       "                        <td id=\"T_432e7_row1_col3\" class=\"data row1 col3\" >-0.075764</td>\n",
       "                        <td id=\"T_432e7_row1_col4\" class=\"data row1 col4\" >-0.042169</td>\n",
       "                        <td id=\"T_432e7_row1_col5\" class=\"data row1 col5\" >39</td>\n",
       "                        <td id=\"T_432e7_row1_col6\" class=\"data row1 col6\" >0.000573</td>\n",
       "            </tr>\n",
       "            <tr>\n",
       "                        <th id=\"T_432e7_level0_row2\" class=\"row_heading level0 row2\" >hosp[T.C]</th>\n",
       "                        <td id=\"T_432e7_row2_col0\" class=\"data row2 col0\" >-0.015202</td>\n",
       "                        <td id=\"T_432e7_row2_col1\" class=\"data row2 col1\" >0.014735</td>\n",
       "                        <td id=\"T_432e7_row2_col2\" class=\"data row2 col2\" >-1.031645</td>\n",
       "                        <td id=\"T_432e7_row2_col3\" class=\"data row2 col3\" >-0.029937</td>\n",
       "                        <td id=\"T_432e7_row2_col4\" class=\"data row2 col4\" >-0.000466</td>\n",
       "                        <td id=\"T_432e7_row2_col5\" class=\"data row2 col5\" >39</td>\n",
       "                        <td id=\"T_432e7_row2_col6\" class=\"data row2 col6\" >0.154297</td>\n",
       "            </tr>\n",
       "            <tr>\n",
       "                        <th id=\"T_432e7_level0_row3\" class=\"row_heading level0 row3\" >hosp[T.D]</th>\n",
       "                        <td id=\"T_432e7_row3_col0\" class=\"data row3 col0\" >-0.065521</td>\n",
       "                        <td id=\"T_432e7_row3_col1\" class=\"data row3 col1\" >0.018918</td>\n",
       "                        <td id=\"T_432e7_row3_col2\" class=\"data row3 col2\" >-3.463351</td>\n",
       "                        <td id=\"T_432e7_row3_col3\" class=\"data row3 col3\" >-0.084439</td>\n",
       "                        <td id=\"T_432e7_row3_col4\" class=\"data row3 col4\" >-0.046603</td>\n",
       "                        <td id=\"T_432e7_row3_col5\" class=\"data row3 col5\" >39</td>\n",
       "                        <td id=\"T_432e7_row3_col6\" class=\"data row3 col6\" >0.000655</td>\n",
       "            </tr>\n",
       "            <tr>\n",
       "                        <th id=\"T_432e7_level0_row4\" class=\"row_heading level0 row4\" >hosp[T.E]</th>\n",
       "                        <td id=\"T_432e7_row4_col0\" class=\"data row4 col0\" >-0.130207</td>\n",
       "                        <td id=\"T_432e7_row4_col1\" class=\"data row4 col1\" >0.020051</td>\n",
       "                        <td id=\"T_432e7_row4_col2\" class=\"data row4 col2\" >-6.493915</td>\n",
       "                        <td id=\"T_432e7_row4_col3\" class=\"data row4 col3\" >-0.150257</td>\n",
       "                        <td id=\"T_432e7_row4_col4\" class=\"data row4 col4\" >-0.110156</td>\n",
       "                        <td id=\"T_432e7_row4_col5\" class=\"data row4 col5\" >39</td>\n",
       "                        <td id=\"T_432e7_row4_col6\" class=\"data row4 col6\" >0.000000</td>\n",
       "            </tr>\n",
       "            <tr>\n",
       "                        <th id=\"T_432e7_level0_row5\" class=\"row_heading level0 row5\" >severe_burn</th>\n",
       "                        <td id=\"T_432e7_row5_col0\" class=\"data row5 col0\" >-0.245425</td>\n",
       "                        <td id=\"T_432e7_row5_col1\" class=\"data row5 col1\" >0.018974</td>\n",
       "                        <td id=\"T_432e7_row5_col2\" class=\"data row5 col2\" >-12.935064</td>\n",
       "                        <td id=\"T_432e7_row5_col3\" class=\"data row5 col3\" >-0.264398</td>\n",
       "                        <td id=\"T_432e7_row5_col4\" class=\"data row5 col4\" >-0.226451</td>\n",
       "                        <td id=\"T_432e7_row5_col5\" class=\"data row5 col5\" >39</td>\n",
       "                        <td id=\"T_432e7_row5_col6\" class=\"data row5 col6\" >0.000000</td>\n",
       "            </tr>\n",
       "            <tr>\n",
       "                        <th id=\"T_432e7_level0_row6\" class=\"row_heading level0 row6\" >head_injury</th>\n",
       "                        <td id=\"T_432e7_row6_col0\" class=\"data row6 col0\" >-0.181782</td>\n",
       "                        <td id=\"T_432e7_row6_col1\" class=\"data row6 col1\" >0.020039</td>\n",
       "                        <td id=\"T_432e7_row6_col2\" class=\"data row6 col2\" >-9.071220</td>\n",
       "                        <td id=\"T_432e7_row6_col3\" class=\"data row6 col3\" >-0.201821</td>\n",
       "                        <td id=\"T_432e7_row6_col4\" class=\"data row6 col4\" >-0.161742</td>\n",
       "                        <td id=\"T_432e7_row6_col5\" class=\"data row6 col5\" >39</td>\n",
       "                        <td id=\"T_432e7_row6_col6\" class=\"data row6 col6\" >0.000000</td>\n",
       "            </tr>\n",
       "            <tr>\n",
       "                        <th id=\"T_432e7_level0_row7\" class=\"row_heading level0 row7\" >is_senior</th>\n",
       "                        <td id=\"T_432e7_row7_col0\" class=\"data row7 col0\" >-0.109293</td>\n",
       "                        <td id=\"T_432e7_row7_col1\" class=\"data row7 col1\" >0.018184</td>\n",
       "                        <td id=\"T_432e7_row7_col2\" class=\"data row7 col2\" >-6.010370</td>\n",
       "                        <td id=\"T_432e7_row7_col3\" class=\"data row7 col3\" >-0.127477</td>\n",
       "                        <td id=\"T_432e7_row7_col4\" class=\"data row7 col4\" >-0.091109</td>\n",
       "                        <td id=\"T_432e7_row7_col5\" class=\"data row7 col5\" >39</td>\n",
       "                        <td id=\"T_432e7_row7_col6\" class=\"data row7 col6\" >0.000000</td>\n",
       "            </tr>\n",
       "            <tr>\n",
       "                        <th id=\"T_432e7_level0_row8\" class=\"row_heading level0 row8\" >male</th>\n",
       "                        <td id=\"T_432e7_row8_col0\" class=\"data row8 col0\" >-0.026703</td>\n",
       "                        <td id=\"T_432e7_row8_col1\" class=\"data row8 col1\" >0.020152</td>\n",
       "                        <td id=\"T_432e7_row8_col2\" class=\"data row8 col2\" >-1.325102</td>\n",
       "                        <td id=\"T_432e7_row8_col3\" class=\"data row8 col3\" >-0.046855</td>\n",
       "                        <td id=\"T_432e7_row8_col4\" class=\"data row8 col4\" >-0.006551</td>\n",
       "                        <td id=\"T_432e7_row8_col5\" class=\"data row8 col5\" >39</td>\n",
       "                        <td id=\"T_432e7_row8_col6\" class=\"data row8 col6\" >0.096424</td>\n",
       "            </tr>\n",
       "            <tr>\n",
       "                        <th id=\"T_432e7_level0_row9\" class=\"row_heading level0 row9\" >tertiary_center</th>\n",
       "                        <td id=\"T_432e7_row9_col0\" class=\"data row9 col0\" >0.210929</td>\n",
       "                        <td id=\"T_432e7_row9_col1\" class=\"data row9 col1\" >0.024780</td>\n",
       "                        <td id=\"T_432e7_row9_col2\" class=\"data row9 col2\" >8.512106</td>\n",
       "                        <td id=\"T_432e7_row9_col3\" class=\"data row9 col3\" >0.186149</td>\n",
       "                        <td id=\"T_432e7_row9_col4\" class=\"data row9 col4\" >0.235709</td>\n",
       "                        <td id=\"T_432e7_row9_col5\" class=\"data row9 col5\" >39</td>\n",
       "                        <td id=\"T_432e7_row9_col6\" class=\"data row9 col6\" >0.000000</td>\n",
       "            </tr>\n",
       "            <tr>\n",
       "                        <th id=\"T_432e7_level0_row10\" class=\"row_heading level0 row10\" >burn_center</th>\n",
       "                        <td id=\"T_432e7_row10_col0\" class=\"data row10 col0\" >-0.058966</td>\n",
       "                        <td id=\"T_432e7_row10_col1\" class=\"data row10 col1\" >0.016798</td>\n",
       "                        <td id=\"T_432e7_row10_col2\" class=\"data row10 col2\" >-3.510404</td>\n",
       "                        <td id=\"T_432e7_row10_col3\" class=\"data row10 col3\" >-0.075764</td>\n",
       "                        <td id=\"T_432e7_row10_col4\" class=\"data row10 col4\" >-0.042169</td>\n",
       "                        <td id=\"T_432e7_row10_col5\" class=\"data row10 col5\" >39</td>\n",
       "                        <td id=\"T_432e7_row10_col6\" class=\"data row10 col6\" >0.000573</td>\n",
       "            </tr>\n",
       "    </tbody></table>"
      ],
      "text/plain": [
       "<pandas.io.formats.style.Styler at 0x7fa797395e50>"
      ]
     },
     "execution_count": 22,
     "metadata": {},
     "output_type": "execute_result"
    }
   ],
   "source": [
    "ols_df = get_se(df, is_ols=True) \n",
    "ols_df \\\n",
    "    .style \\\n",
    "    .applymap(lambda v: 'background-color: rgb(255, 0, 0, 0.18)' if v < 0.05 else '', subset=['P>|z|'])"
   ]
  },
  {
   "cell_type": "code",
   "execution_count": 23,
   "id": "c640f9a0-fc55-414a-9cd1-637c43768be2",
   "metadata": {},
   "outputs": [
    {
     "data": {
      "text/html": [
       "<style  type=\"text/css\" >\n",
       "#T_3f2d3_row0_col6,#T_3f2d3_row1_col6,#T_3f2d3_row3_col6,#T_3f2d3_row4_col6,#T_3f2d3_row5_col6,#T_3f2d3_row6_col6,#T_3f2d3_row7_col6,#T_3f2d3_row9_col6,#T_3f2d3_row10_col6{\n",
       "            background-color:  rgb(255, 0, 0, 0.18);\n",
       "        }</style><table id=\"T_3f2d3_\" ><thead>    <tr>        <th class=\"blank level0\" ></th>        <th class=\"col_heading level0 col0\" >w</th>        <th class=\"col_heading level0 col1\" >se</th>        <th class=\"col_heading level0 col2\" >z</th>        <th class=\"col_heading level0 col3\" >.025</th>        <th class=\"col_heading level0 col4\" >.975</th>        <th class=\"col_heading level0 col5\" >df</th>        <th class=\"col_heading level0 col6\" >P>|z|</th>    </tr></thead><tbody>\n",
       "                <tr>\n",
       "                        <th id=\"T_3f2d3_level0_row0\" class=\"row_heading level0 row0\" >intercept</th>\n",
       "                        <td id=\"T_3f2d3_row0_col0\" class=\"data row0 col0\" >0.941122</td>\n",
       "                        <td id=\"T_3f2d3_row0_col1\" class=\"data row0 col1\" >0.035170</td>\n",
       "                        <td id=\"T_3f2d3_row0_col2\" class=\"data row0 col2\" >26.759178</td>\n",
       "                        <td id=\"T_3f2d3_row0_col3\" class=\"data row0 col3\" >0.905952</td>\n",
       "                        <td id=\"T_3f2d3_row0_col4\" class=\"data row0 col4\" >0.976293</td>\n",
       "                        <td id=\"T_3f2d3_row0_col5\" class=\"data row0 col5\" >39</td>\n",
       "                        <td id=\"T_3f2d3_row0_col6\" class=\"data row0 col6\" >0.000000</td>\n",
       "            </tr>\n",
       "            <tr>\n",
       "                        <th id=\"T_3f2d3_level0_row1\" class=\"row_heading level0 row1\" >hosp[T.B]</th>\n",
       "                        <td id=\"T_3f2d3_row1_col0\" class=\"data row1 col0\" >-0.056463</td>\n",
       "                        <td id=\"T_3f2d3_row1_col1\" class=\"data row1 col1\" >0.023825</td>\n",
       "                        <td id=\"T_3f2d3_row1_col2\" class=\"data row1 col2\" >-2.369904</td>\n",
       "                        <td id=\"T_3f2d3_row1_col3\" class=\"data row1 col3\" >-0.080288</td>\n",
       "                        <td id=\"T_3f2d3_row1_col4\" class=\"data row1 col4\" >-0.032638</td>\n",
       "                        <td id=\"T_3f2d3_row1_col5\" class=\"data row1 col5\" >39</td>\n",
       "                        <td id=\"T_3f2d3_row1_col6\" class=\"data row1 col6\" >0.011418</td>\n",
       "            </tr>\n",
       "            <tr>\n",
       "                        <th id=\"T_3f2d3_level0_row2\" class=\"row_heading level0 row2\" >hosp[T.C]</th>\n",
       "                        <td id=\"T_3f2d3_row2_col0\" class=\"data row2 col0\" >-0.012746</td>\n",
       "                        <td id=\"T_3f2d3_row2_col1\" class=\"data row2 col1\" >0.019916</td>\n",
       "                        <td id=\"T_3f2d3_row2_col2\" class=\"data row2 col2\" >-0.640003</td>\n",
       "                        <td id=\"T_3f2d3_row2_col3\" class=\"data row2 col3\" >-0.032662</td>\n",
       "                        <td id=\"T_3f2d3_row2_col4\" class=\"data row2 col4\" >0.007170</td>\n",
       "                        <td id=\"T_3f2d3_row2_col5\" class=\"data row2 col5\" >39</td>\n",
       "                        <td id=\"T_3f2d3_row2_col6\" class=\"data row2 col6\" >0.262957</td>\n",
       "            </tr>\n",
       "            <tr>\n",
       "                        <th id=\"T_3f2d3_level0_row3\" class=\"row_heading level0 row3\" >hosp[T.D]</th>\n",
       "                        <td id=\"T_3f2d3_row3_col0\" class=\"data row3 col0\" >-0.070542</td>\n",
       "                        <td id=\"T_3f2d3_row3_col1\" class=\"data row3 col1\" >0.020053</td>\n",
       "                        <td id=\"T_3f2d3_row3_col2\" class=\"data row3 col2\" >-3.517723</td>\n",
       "                        <td id=\"T_3f2d3_row3_col3\" class=\"data row3 col3\" >-0.090596</td>\n",
       "                        <td id=\"T_3f2d3_row3_col4\" class=\"data row3 col4\" >-0.050489</td>\n",
       "                        <td id=\"T_3f2d3_row3_col5\" class=\"data row3 col5\" >39</td>\n",
       "                        <td id=\"T_3f2d3_row3_col6\" class=\"data row3 col6\" >0.000561</td>\n",
       "            </tr>\n",
       "            <tr>\n",
       "                        <th id=\"T_3f2d3_level0_row4\" class=\"row_heading level0 row4\" >hosp[T.E]</th>\n",
       "                        <td id=\"T_3f2d3_row4_col0\" class=\"data row4 col0\" >-0.128975</td>\n",
       "                        <td id=\"T_3f2d3_row4_col1\" class=\"data row4 col1\" >0.022705</td>\n",
       "                        <td id=\"T_3f2d3_row4_col2\" class=\"data row4 col2\" >-5.680358</td>\n",
       "                        <td id=\"T_3f2d3_row4_col3\" class=\"data row4 col3\" >-0.151680</td>\n",
       "                        <td id=\"T_3f2d3_row4_col4\" class=\"data row4 col4\" >-0.106269</td>\n",
       "                        <td id=\"T_3f2d3_row4_col5\" class=\"data row4 col5\" >39</td>\n",
       "                        <td id=\"T_3f2d3_row4_col6\" class=\"data row4 col6\" >0.000001</td>\n",
       "            </tr>\n",
       "            <tr>\n",
       "                        <th id=\"T_3f2d3_level0_row5\" class=\"row_heading level0 row5\" >severe_burn</th>\n",
       "                        <td id=\"T_3f2d3_row5_col0\" class=\"data row5 col0\" >-0.251367</td>\n",
       "                        <td id=\"T_3f2d3_row5_col1\" class=\"data row5 col1\" >0.023692</td>\n",
       "                        <td id=\"T_3f2d3_row5_col2\" class=\"data row5 col2\" >-10.609974</td>\n",
       "                        <td id=\"T_3f2d3_row5_col3\" class=\"data row5 col3\" >-0.275058</td>\n",
       "                        <td id=\"T_3f2d3_row5_col4\" class=\"data row5 col4\" >-0.227675</td>\n",
       "                        <td id=\"T_3f2d3_row5_col5\" class=\"data row5 col5\" >39</td>\n",
       "                        <td id=\"T_3f2d3_row5_col6\" class=\"data row5 col6\" >0.000000</td>\n",
       "            </tr>\n",
       "            <tr>\n",
       "                        <th id=\"T_3f2d3_level0_row6\" class=\"row_heading level0 row6\" >head_injury</th>\n",
       "                        <td id=\"T_3f2d3_row6_col0\" class=\"data row6 col0\" >-0.175856</td>\n",
       "                        <td id=\"T_3f2d3_row6_col1\" class=\"data row6 col1\" >0.030017</td>\n",
       "                        <td id=\"T_3f2d3_row6_col2\" class=\"data row6 col2\" >-5.858583</td>\n",
       "                        <td id=\"T_3f2d3_row6_col3\" class=\"data row6 col3\" >-0.205873</td>\n",
       "                        <td id=\"T_3f2d3_row6_col4\" class=\"data row6 col4\" >-0.145840</td>\n",
       "                        <td id=\"T_3f2d3_row6_col5\" class=\"data row6 col5\" >39</td>\n",
       "                        <td id=\"T_3f2d3_row6_col6\" class=\"data row6 col6\" >0.000000</td>\n",
       "            </tr>\n",
       "            <tr>\n",
       "                        <th id=\"T_3f2d3_level0_row7\" class=\"row_heading level0 row7\" >is_senior</th>\n",
       "                        <td id=\"T_3f2d3_row7_col0\" class=\"data row7 col0\" >-0.096670</td>\n",
       "                        <td id=\"T_3f2d3_row7_col1\" class=\"data row7 col1\" >0.025729</td>\n",
       "                        <td id=\"T_3f2d3_row7_col2\" class=\"data row7 col2\" >-3.757309</td>\n",
       "                        <td id=\"T_3f2d3_row7_col3\" class=\"data row7 col3\" >-0.122399</td>\n",
       "                        <td id=\"T_3f2d3_row7_col4\" class=\"data row7 col4\" >-0.070942</td>\n",
       "                        <td id=\"T_3f2d3_row7_col5\" class=\"data row7 col5\" >39</td>\n",
       "                        <td id=\"T_3f2d3_row7_col6\" class=\"data row7 col6\" >0.000281</td>\n",
       "            </tr>\n",
       "            <tr>\n",
       "                        <th id=\"T_3f2d3_level0_row8\" class=\"row_heading level0 row8\" >male</th>\n",
       "                        <td id=\"T_3f2d3_row8_col0\" class=\"data row8 col0\" >-0.028194</td>\n",
       "                        <td id=\"T_3f2d3_row8_col1\" class=\"data row8 col1\" >0.021105</td>\n",
       "                        <td id=\"T_3f2d3_row8_col2\" class=\"data row8 col2\" >-1.335924</td>\n",
       "                        <td id=\"T_3f2d3_row8_col3\" class=\"data row8 col3\" >-0.049299</td>\n",
       "                        <td id=\"T_3f2d3_row8_col4\" class=\"data row8 col4\" >-0.007090</td>\n",
       "                        <td id=\"T_3f2d3_row8_col5\" class=\"data row8 col5\" >39</td>\n",
       "                        <td id=\"T_3f2d3_row8_col6\" class=\"data row8 col6\" >0.094659</td>\n",
       "            </tr>\n",
       "            <tr>\n",
       "                        <th id=\"T_3f2d3_level0_row9\" class=\"row_heading level0 row9\" >tertiary_center</th>\n",
       "                        <td id=\"T_3f2d3_row9_col0\" class=\"data row9 col0\" >0.212263</td>\n",
       "                        <td id=\"T_3f2d3_row9_col1\" class=\"data row9 col1\" >0.035038</td>\n",
       "                        <td id=\"T_3f2d3_row9_col2\" class=\"data row9 col2\" >6.058030</td>\n",
       "                        <td id=\"T_3f2d3_row9_col3\" class=\"data row9 col3\" >0.177225</td>\n",
       "                        <td id=\"T_3f2d3_row9_col4\" class=\"data row9 col4\" >0.247301</td>\n",
       "                        <td id=\"T_3f2d3_row9_col5\" class=\"data row9 col5\" >39</td>\n",
       "                        <td id=\"T_3f2d3_row9_col6\" class=\"data row9 col6\" >0.000000</td>\n",
       "            </tr>\n",
       "            <tr>\n",
       "                        <th id=\"T_3f2d3_level0_row10\" class=\"row_heading level0 row10\" >burn_center</th>\n",
       "                        <td id=\"T_3f2d3_row10_col0\" class=\"data row10 col0\" >-0.056463</td>\n",
       "                        <td id=\"T_3f2d3_row10_col1\" class=\"data row10 col1\" >0.023825</td>\n",
       "                        <td id=\"T_3f2d3_row10_col2\" class=\"data row10 col2\" >-2.369904</td>\n",
       "                        <td id=\"T_3f2d3_row10_col3\" class=\"data row10 col3\" >-0.080288</td>\n",
       "                        <td id=\"T_3f2d3_row10_col4\" class=\"data row10 col4\" >-0.032638</td>\n",
       "                        <td id=\"T_3f2d3_row10_col5\" class=\"data row10 col5\" >39</td>\n",
       "                        <td id=\"T_3f2d3_row10_col6\" class=\"data row10 col6\" >0.011418</td>\n",
       "            </tr>\n",
       "    </tbody></table>"
      ],
      "text/plain": [
       "<pandas.io.formats.style.Styler at 0x7fa7978e2340>"
      ]
     },
     "execution_count": 23,
     "metadata": {},
     "output_type": "execute_result"
    }
   ],
   "source": [
    "irwls_df = get_se(df, is_ols=False) \n",
    "irwls_df \\\n",
    "    .style \\\n",
    "    .applymap(lambda v: 'background-color: rgb(255, 0, 0, 0.18)' if v < 0.05 else '', subset=['P>|z|'])"
   ]
  },
  {
   "cell_type": "markdown",
   "id": "c53034b3-4098-418c-bde6-7d18d79fb0d6",
   "metadata": {},
   "source": [
    "In this data, OLS tends to result in standard errors that are smaller than IRWLS."
   ]
  },
  {
   "cell_type": "code",
   "execution_count": 24,
   "id": "0765f374-7154-422b-b227-61e73374130a",
   "metadata": {},
   "outputs": [
    {
     "data": {
      "image/png": "[encoded data removed]",
      "text/plain": [
       "<Figure size 432x288 with 1 Axes>"
      ]
     },
     "metadata": {},
     "output_type": "display_data"
    }
   ],
   "source": [
    "ax = ols_df['se'].plot(kind='kde', label='OLS')\n",
    "_ = irwls_df['se'].plot(kind='kde', label='IRWLS', ax=ax)\n",
    "_ = ax.set_title('Distribution of standard errors')\n",
    "_ = ax.legend()"
   ]
  },
  {
   "cell_type": "code",
   "execution_count": null,
   "id": "861626fa-ba63-4f5f-a7a2-3a803ac377e8",
   "metadata": {},
   "outputs": [],
   "source": []
  }
 ],
 "metadata": {
  "kernelspec": {
   "display_name": "Python 3",
   "language": "python",
   "name": "python3"
  },
  "language_info": {
   "codemirror_mode": {
    "name": "ipython",
    "version": 3
   },
   "file_extension": ".py",
   "mimetype": "text/x-python",
   "name": "python",
   "nbconvert_exporter": "python",
   "pygments_lexer": "ipython3",
   "version": "3.8.8"
  },
  "widgets": {
   "application/vnd.jupyter.widget-state+json": {
    "state": {},
    "version_major": 2,
    "version_minor": 0
   }
  }
 },
 "nbformat": 4,
 "nbformat_minor": 5
}
