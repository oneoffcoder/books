{
 "cells": [
  {
   "cell_type": "code",
   "execution_count": 1,
   "id": "theoretical-protocol",
   "metadata": {
    "execution": {
     "iopub.status.idle": "2022-03-10T07:33:57.011888Z",
     "shell.execute_reply": "2022-03-10T07:33:57.011505Z",
     "shell.execute_reply.started": "2022-03-10T07:33:56.738659Z"
    }
   },
   "outputs": [
    {
     "data": {
      "text/plain": [
       "(50, 6)"
      ]
     },
     "execution_count": 1,
     "metadata": {},
     "output_type": "execute_result"
    }
   ],
   "source": [
    "import pandas as pd\n",
    "\n",
    "df = pd.read_excel('./data/TraumaData.xlsx').drop(columns=['Unnamed: 0'])\n",
    "df = df.rename(columns={c: c.lower().replace(' ', '_') for c in df.columns})\n",
    "df = df.rename(columns={'65+_years': 'is_senior'})\n",
    "df.shape"
   ]
  },
  {
   "cell_type": "code",
   "execution_count": 2,
   "id": "arabic-bathroom",
   "metadata": {
    "execution": {
     "iopub.execute_input": "2022-03-10T07:33:57.012538Z",
     "iopub.status.busy": "2022-03-10T07:33:57.012426Z",
     "iopub.status.idle": "2022-03-10T07:33:57.019538Z",
     "shell.execute_reply": "2022-03-10T07:33:57.019090Z",
     "shell.execute_reply.started": "2022-03-10T07:33:57.012523Z"
    }
   },
   "outputs": [
    {
     "data": {
      "text/html": [
       "<div>\n",
       "<style scoped>\n",
       "    .dataframe tbody tr th:only-of-type {\n",
       "        vertical-align: middle;\n",
       "    }\n",
       "\n",
       "    .dataframe tbody tr th {\n",
       "        vertical-align: top;\n",
       "    }\n",
       "\n",
       "    .dataframe thead th {\n",
       "        text-align: right;\n",
       "    }\n",
       "</style>\n",
       "<table border=\"1\" class=\"dataframe\">\n",
       "  <thead>\n",
       "    <tr style=\"text-align: right;\">\n",
       "      <th></th>\n",
       "      <th>prob_survival</th>\n",
       "      <th>severe_burn</th>\n",
       "      <th>head_injury</th>\n",
       "      <th>is_senior</th>\n",
       "      <th>male</th>\n",
       "      <th>hosp</th>\n",
       "    </tr>\n",
       "  </thead>\n",
       "  <tbody>\n",
       "    <tr>\n",
       "      <th>0</th>\n",
       "      <td>0.694551</td>\n",
       "      <td>1</td>\n",
       "      <td>1</td>\n",
       "      <td>1</td>\n",
       "      <td>1</td>\n",
       "      <td>A</td>\n",
       "    </tr>\n",
       "    <tr>\n",
       "      <th>1</th>\n",
       "      <td>0.733619</td>\n",
       "      <td>1</td>\n",
       "      <td>1</td>\n",
       "      <td>1</td>\n",
       "      <td>0</td>\n",
       "      <td>A</td>\n",
       "    </tr>\n",
       "    <tr>\n",
       "      <th>2</th>\n",
       "      <td>0.785537</td>\n",
       "      <td>1</td>\n",
       "      <td>1</td>\n",
       "      <td>0</td>\n",
       "      <td>1</td>\n",
       "      <td>A</td>\n",
       "    </tr>\n",
       "    <tr>\n",
       "      <th>3</th>\n",
       "      <td>0.818770</td>\n",
       "      <td>1</td>\n",
       "      <td>0</td>\n",
       "      <td>1</td>\n",
       "      <td>1</td>\n",
       "      <td>A</td>\n",
       "    </tr>\n",
       "    <tr>\n",
       "      <th>4</th>\n",
       "      <td>0.868275</td>\n",
       "      <td>1</td>\n",
       "      <td>0</td>\n",
       "      <td>0</td>\n",
       "      <td>1</td>\n",
       "      <td>A</td>\n",
       "    </tr>\n",
       "  </tbody>\n",
       "</table>\n",
       "</div>"
      ],
      "text/plain": [
       "   prob_survival  severe_burn  head_injury  is_senior  male hosp\n",
       "0       0.694551            1            1          1     1    A\n",
       "1       0.733619            1            1          1     0    A\n",
       "2       0.785537            1            1          0     1    A\n",
       "3       0.818770            1            0          1     1    A\n",
       "4       0.868275            1            0          0     1    A"
      ]
     },
     "execution_count": 2,
     "metadata": {},
     "output_type": "execute_result"
    }
   ],
   "source": [
    "df.head()"
   ]
  },
  {
   "cell_type": "code",
   "execution_count": 3,
   "id": "seasonal-capture",
   "metadata": {
    "execution": {
     "iopub.execute_input": "2022-03-10T07:33:57.022161Z",
     "iopub.status.busy": "2022-03-10T07:33:57.022030Z",
     "iopub.status.idle": "2022-03-10T07:33:57.309407Z",
     "shell.execute_reply": "2022-03-10T07:33:57.309014Z",
     "shell.execute_reply.started": "2022-03-10T07:33:57.022146Z"
    }
   },
   "outputs": [
    {
     "data": {
      "text/plain": [
       "((50, 8), (50,))"
      ]
     },
     "execution_count": 3,
     "metadata": {},
     "output_type": "execute_result"
    }
   ],
   "source": [
    "from patsy import dmatrices\n",
    "import statsmodels.api as sm\n",
    "import numpy as np\n",
    "\n",
    "y, X = dmatrices('prob_survival ~ severe_burn + head_injury + is_senior + male + hosp', df, return_type='dataframe')\n",
    "y = np.ravel(y)\n",
    "X = X.iloc[:,1:]\n",
    "\n",
    "X.shape, y.shape"
   ]
  },
  {
   "cell_type": "code",
   "execution_count": 4,
   "id": "contrary-speech",
   "metadata": {
    "execution": {
     "iopub.execute_input": "2022-03-10T07:33:57.310167Z",
     "iopub.status.busy": "2022-03-10T07:33:57.309995Z",
     "iopub.status.idle": "2022-03-10T07:33:57.490332Z",
     "shell.execute_reply": "2022-03-10T07:33:57.489920Z",
     "shell.execute_reply.started": "2022-03-10T07:33:57.310146Z"
    }
   },
   "outputs": [
    {
     "data": {
      "text/plain": [
       "intercept      1.162184\n",
       "hosp[T.B]     -0.117932\n",
       "hosp[T.C]     -0.226131\n",
       "hosp[T.D]     -0.276450\n",
       "hosp[T.E]     -0.341136\n",
       "severe_burn   -0.245425\n",
       "head_injury   -0.181782\n",
       "is_senior     -0.109293\n",
       "male          -0.026703\n",
       "dtype: float64"
      ]
     },
     "execution_count": 4,
     "metadata": {},
     "output_type": "execute_result"
    }
   ],
   "source": [
    "from sklearn.linear_model import LinearRegression\n",
    "\n",
    "m1 = LinearRegression()\n",
    "m1.fit(X, y)\n",
    "\n",
    "c1 = pd.concat([\n",
    "    pd.Series(m1.intercept_, ['intercept']), \n",
    "    pd.Series(m1.coef_, X.columns)\n",
    "])\n",
    "\n",
    "coefficients = pd.Series(m1.coef_, X.columns)\n",
    "\n",
    "c1"
   ]
  },
  {
   "cell_type": "code",
   "execution_count": 5,
   "id": "induced-remove",
   "metadata": {
    "execution": {
     "iopub.execute_input": "2022-03-10T07:33:57.491088Z",
     "iopub.status.busy": "2022-03-10T07:33:57.490962Z",
     "iopub.status.idle": "2022-03-10T07:33:57.497556Z",
     "shell.execute_reply": "2022-03-10T07:33:57.497191Z",
     "shell.execute_reply.started": "2022-03-10T07:33:57.491064Z"
    }
   },
   "outputs": [
    {
     "data": {
      "text/html": [
       "<div>\n",
       "<style scoped>\n",
       "    .dataframe tbody tr th:only-of-type {\n",
       "        vertical-align: middle;\n",
       "    }\n",
       "\n",
       "    .dataframe tbody tr th {\n",
       "        vertical-align: top;\n",
       "    }\n",
       "\n",
       "    .dataframe thead th {\n",
       "        text-align: right;\n",
       "    }\n",
       "</style>\n",
       "<table border=\"1\" class=\"dataframe\">\n",
       "  <thead>\n",
       "    <tr style=\"text-align: right;\">\n",
       "      <th></th>\n",
       "      <th>tertiary_center</th>\n",
       "      <th>burn_center</th>\n",
       "      <th>y</th>\n",
       "    </tr>\n",
       "  </thead>\n",
       "  <tbody>\n",
       "    <tr>\n",
       "      <th>A</th>\n",
       "      <td>1</td>\n",
       "      <td>0</td>\n",
       "      <td>0.000000</td>\n",
       "    </tr>\n",
       "    <tr>\n",
       "      <th>B</th>\n",
       "      <td>1</td>\n",
       "      <td>1</td>\n",
       "      <td>1.280116</td>\n",
       "    </tr>\n",
       "    <tr>\n",
       "      <th>C</th>\n",
       "      <td>0</td>\n",
       "      <td>0</td>\n",
       "      <td>1.388314</td>\n",
       "    </tr>\n",
       "    <tr>\n",
       "      <th>D</th>\n",
       "      <td>0</td>\n",
       "      <td>0</td>\n",
       "      <td>1.438634</td>\n",
       "    </tr>\n",
       "    <tr>\n",
       "      <th>E</th>\n",
       "      <td>0</td>\n",
       "      <td>0</td>\n",
       "      <td>1.503320</td>\n",
       "    </tr>\n",
       "  </tbody>\n",
       "</table>\n",
       "</div>"
      ],
      "text/plain": [
       "   tertiary_center  burn_center         y\n",
       "A                1            0  0.000000\n",
       "B                1            1  1.280116\n",
       "C                0            0  1.388314\n",
       "D                0            0  1.438634\n",
       "E                0            0  1.503320"
      ]
     },
     "execution_count": 5,
     "metadata": {},
     "output_type": "execute_result"
    }
   ],
   "source": [
    "hosp_df = pd.DataFrame({\n",
    "    'tertiary_center': [1, 1, 0, 0, 0],\n",
    "    'burn_center': [0, 1, 0, 0, 0],\n",
    "    'y': [0] + list(m1.intercept_ - coefficients[:4])\n",
    "}, index=['A', 'B', 'C', 'D', 'E'])\n",
    "\n",
    "hosp_df"
   ]
  },
  {
   "cell_type": "code",
   "execution_count": 6,
   "id": "pacific-saint",
   "metadata": {
    "execution": {
     "iopub.execute_input": "2022-03-10T07:33:57.498224Z",
     "iopub.status.busy": "2022-03-10T07:33:57.498106Z",
     "iopub.status.idle": "2022-03-10T07:33:57.507583Z",
     "shell.execute_reply": "2022-03-10T07:33:57.507121Z",
     "shell.execute_reply.started": "2022-03-10T07:33:57.498209Z"
    }
   },
   "outputs": [
    {
     "data": {
      "text/plain": [
       "((5, 2), (5,))"
      ]
     },
     "execution_count": 6,
     "metadata": {},
     "output_type": "execute_result"
    }
   ],
   "source": [
    "y, X = dmatrices('y ~ tertiary_center + burn_center', hosp_df, return_type='dataframe')\n",
    "y = np.ravel(y)\n",
    "X = X.iloc[:,1:]\n",
    "\n",
    "X.shape, y.shape"
   ]
  },
  {
   "cell_type": "code",
   "execution_count": 7,
   "id": "global-record",
   "metadata": {
    "execution": {
     "iopub.execute_input": "2022-03-10T07:33:57.508295Z",
     "iopub.status.busy": "2022-03-10T07:33:57.508159Z",
     "iopub.status.idle": "2022-03-10T07:33:57.514794Z",
     "shell.execute_reply": "2022-03-10T07:33:57.514492Z",
     "shell.execute_reply.started": "2022-03-10T07:33:57.508281Z"
    }
   },
   "outputs": [
    {
     "data": {
      "text/plain": [
       "intercept          1.443422\n",
       "tertiary_center   -1.443422\n",
       "burn_center        1.280116\n",
       "dtype: float64"
      ]
     },
     "execution_count": 7,
     "metadata": {},
     "output_type": "execute_result"
    }
   ],
   "source": [
    "m2 = LinearRegression()\n",
    "m2.fit(X, y)\n",
    "\n",
    "c2 = pd.concat([\n",
    "    pd.Series(m2.intercept_, ['intercept']), \n",
    "    pd.Series(m2.coef_, X.columns)\n",
    "])\n",
    "\n",
    "c2"
   ]
  },
  {
   "cell_type": "code",
   "execution_count": 10,
   "id": "accepting-finder",
   "metadata": {
    "execution": {
     "iopub.execute_input": "2022-03-10T07:40:04.905048Z",
     "iopub.status.busy": "2022-03-10T07:40:04.904910Z",
     "iopub.status.idle": "2022-03-10T07:40:04.912634Z",
     "shell.execute_reply": "2022-03-10T07:40:04.912296Z",
     "shell.execute_reply.started": "2022-03-10T07:40:04.905034Z"
    }
   },
   "outputs": [
    {
     "data": {
      "text/html": [
       "<div>\n",
       "<style scoped>\n",
       "    .dataframe tbody tr th:only-of-type {\n",
       "        vertical-align: middle;\n",
       "    }\n",
       "\n",
       "    .dataframe tbody tr th {\n",
       "        vertical-align: top;\n",
       "    }\n",
       "\n",
       "    .dataframe thead th {\n",
       "        text-align: right;\n",
       "    }\n",
       "</style>\n",
       "<table border=\"1\" class=\"dataframe\">\n",
       "  <thead>\n",
       "    <tr style=\"text-align: right;\">\n",
       "      <th></th>\n",
       "      <th>prob_survival</th>\n",
       "      <th>severe_burn</th>\n",
       "      <th>head_injury</th>\n",
       "      <th>is_senior</th>\n",
       "      <th>male</th>\n",
       "      <th>hosp</th>\n",
       "      <th>tertiary_center</th>\n",
       "      <th>burn_center</th>\n",
       "    </tr>\n",
       "  </thead>\n",
       "  <tbody>\n",
       "    <tr>\n",
       "      <th>0</th>\n",
       "      <td>0.694551</td>\n",
       "      <td>1</td>\n",
       "      <td>1</td>\n",
       "      <td>1</td>\n",
       "      <td>1</td>\n",
       "      <td>A</td>\n",
       "      <td>1</td>\n",
       "      <td>0</td>\n",
       "    </tr>\n",
       "    <tr>\n",
       "      <th>1</th>\n",
       "      <td>0.733619</td>\n",
       "      <td>1</td>\n",
       "      <td>1</td>\n",
       "      <td>1</td>\n",
       "      <td>0</td>\n",
       "      <td>A</td>\n",
       "      <td>1</td>\n",
       "      <td>0</td>\n",
       "    </tr>\n",
       "    <tr>\n",
       "      <th>2</th>\n",
       "      <td>0.785537</td>\n",
       "      <td>1</td>\n",
       "      <td>1</td>\n",
       "      <td>0</td>\n",
       "      <td>1</td>\n",
       "      <td>A</td>\n",
       "      <td>1</td>\n",
       "      <td>0</td>\n",
       "    </tr>\n",
       "    <tr>\n",
       "      <th>3</th>\n",
       "      <td>0.818770</td>\n",
       "      <td>1</td>\n",
       "      <td>0</td>\n",
       "      <td>1</td>\n",
       "      <td>1</td>\n",
       "      <td>A</td>\n",
       "      <td>1</td>\n",
       "      <td>0</td>\n",
       "    </tr>\n",
       "    <tr>\n",
       "      <th>4</th>\n",
       "      <td>0.868275</td>\n",
       "      <td>1</td>\n",
       "      <td>0</td>\n",
       "      <td>0</td>\n",
       "      <td>1</td>\n",
       "      <td>A</td>\n",
       "      <td>1</td>\n",
       "      <td>0</td>\n",
       "    </tr>\n",
       "  </tbody>\n",
       "</table>\n",
       "</div>"
      ],
      "text/plain": [
       "   prob_survival  severe_burn  head_injury  is_senior  male hosp  \\\n",
       "0       0.694551            1            1          1     1    A   \n",
       "1       0.733619            1            1          1     0    A   \n",
       "2       0.785537            1            1          0     1    A   \n",
       "3       0.818770            1            0          1     1    A   \n",
       "4       0.868275            1            0          0     1    A   \n",
       "\n",
       "   tertiary_center  burn_center  \n",
       "0                1            0  \n",
       "1                1            0  \n",
       "2                1            0  \n",
       "3                1            0  \n",
       "4                1            0  "
      ]
     },
     "execution_count": 10,
     "metadata": {},
     "output_type": "execute_result"
    }
   ],
   "source": [
    "df['tertiary_center'] = df['hosp'].apply(lambda h: 1 if h in {'A', 'B'} else 0)\n",
    "df['burn_center'] = df['hosp'].apply(lambda h: 1 if h in {'B'} else 0)\n",
    "\n",
    "df.head()"
   ]
  },
  {
   "cell_type": "code",
   "execution_count": 50,
   "id": "forbidden-supplier",
   "metadata": {
    "execution": {
     "iopub.execute_input": "2022-03-10T08:01:04.077104Z",
     "iopub.status.busy": "2022-03-10T08:01:04.076764Z",
     "iopub.status.idle": "2022-03-10T08:01:04.097314Z",
     "shell.execute_reply": "2022-03-10T08:01:04.096925Z",
     "shell.execute_reply.started": "2022-03-10T08:01:04.077064Z"
    }
   },
   "outputs": [
    {
     "data": {
      "text/plain": [
       "((50, 10), (50,), (50,))"
      ]
     },
     "execution_count": 50,
     "metadata": {},
     "output_type": "execute_result"
    }
   ],
   "source": [
    "y, X = dmatrices('prob_survival ~ severe_burn + head_injury + is_senior + male + hosp + tertiary_center + burn_center', df, return_type='dataframe')\n",
    "y = np.ravel(y)\n",
    "X = X.iloc[:,1:]\n",
    "\n",
    "X.shape, y.shape, w.shape"
   ]
  },
  {
   "cell_type": "code",
   "execution_count": 51,
   "id": "alive-crown",
   "metadata": {
    "execution": {
     "iopub.execute_input": "2022-03-10T08:01:05.734063Z",
     "iopub.status.busy": "2022-03-10T08:01:05.733923Z",
     "iopub.status.idle": "2022-03-10T08:01:05.739808Z",
     "shell.execute_reply": "2022-03-10T08:01:05.739427Z",
     "shell.execute_reply.started": "2022-03-10T08:01:05.734047Z"
    }
   },
   "outputs": [
    {
     "data": {
      "text/plain": [
       "intercept          0.951254\n",
       "hosp[T.B]         -0.058966\n",
       "hosp[T.C]         -0.015202\n",
       "hosp[T.D]         -0.065521\n",
       "hosp[T.E]         -0.130207\n",
       "severe_burn       -0.245425\n",
       "head_injury       -0.181782\n",
       "is_senior         -0.109293\n",
       "male              -0.026703\n",
       "tertiary_center    0.210929\n",
       "burn_center       -0.058966\n",
       "dtype: float64"
      ]
     },
     "execution_count": 51,
     "metadata": {},
     "output_type": "execute_result"
    }
   ],
   "source": [
    "m3 = LinearRegression()\n",
    "m3.fit(X, y)\n",
    "\n",
    "c3 = pd.concat([\n",
    "    pd.Series(m3.intercept_, ['intercept']), \n",
    "    pd.Series(m3.coef_, X.columns)\n",
    "])\n",
    "\n",
    "c3"
   ]
  },
  {
   "cell_type": "code",
   "execution_count": 59,
   "id": "abstract-terrorism",
   "metadata": {
    "execution": {
     "iopub.execute_input": "2022-03-10T08:03:54.403211Z",
     "iopub.status.busy": "2022-03-10T08:03:54.403066Z",
     "iopub.status.idle": "2022-03-10T08:03:54.490716Z",
     "shell.execute_reply": "2022-03-10T08:03:54.490250Z",
     "shell.execute_reply.started": "2022-03-10T08:03:54.403195Z"
    }
   },
   "outputs": [
    {
     "data": {
      "image/png": "[encoded data removed]",
      "text/plain": [
       "<Figure size 432x288 with 1 Axes>"
      ]
     },
     "metadata": {},
     "output_type": "display_data"
    }
   ],
   "source": [
    "import matplotlib.pyplot as plt\n",
    "\n",
    "plt.style.use('ggplot')\n",
    "\n",
    "_ = pd.DataFrame({'y': m3.predict(X), 'r': y - m3.predict(X)}).plot(kind='scatter', x='y', y='r')"
   ]
  },
  {
   "cell_type": "code",
   "execution_count": 60,
   "id": "suspected-anchor",
   "metadata": {
    "execution": {
     "iopub.execute_input": "2022-03-10T08:07:03.236286Z",
     "iopub.status.busy": "2022-03-10T08:07:03.236030Z",
     "iopub.status.idle": "2022-03-10T08:07:03.349069Z",
     "shell.execute_reply": "2022-03-10T08:07:03.348706Z",
     "shell.execute_reply.started": "2022-03-10T08:07:03.236261Z"
    }
   },
   "outputs": [
    {
     "data": {
      "image/png": "[encoded data removed]",
      "text/plain": [
       "<Figure size 432x288 with 1 Axes>"
      ]
     },
     "metadata": {},
     "output_type": "display_data"
    }
   ],
   "source": [
    "m4 = LinearRegression()\n",
    "m4.fit(X, np.log(y))\n",
    "\n",
    "_ = pd.DataFrame({'y': m4.predict(X), 'r': np.log(y) - m3.predict(X)}).plot(kind='scatter', x='y', y='r')"
   ]
  },
  {
   "cell_type": "code",
   "execution_count": 49,
   "id": "present-trout",
   "metadata": {
    "execution": {
     "iopub.execute_input": "2022-03-10T07:59:07.122664Z",
     "iopub.status.busy": "2022-03-10T07:59:07.122427Z",
     "iopub.status.idle": "2022-03-10T07:59:09.249323Z",
     "shell.execute_reply": "2022-03-10T07:59:09.248934Z",
     "shell.execute_reply.started": "2022-03-10T07:59:07.122637Z"
    }
   },
   "outputs": [
    {
     "data": {
      "text/plain": [
       "intercept          0.949171\n",
       "hosp[T.B]         -0.058580\n",
       "hosp[T.C]         -0.015018\n",
       "hosp[T.D]         -0.067297\n",
       "hosp[T.E]         -0.129439\n",
       "severe_burn       -0.246746\n",
       "head_injury       -0.181401\n",
       "is_senior         -0.106917\n",
       "male              -0.025848\n",
       "tertiary_center    0.211753\n",
       "burn_center       -0.058580\n",
       "dtype: float64"
      ]
     },
     "execution_count": 49,
     "metadata": {},
     "output_type": "execute_result"
    }
   ],
   "source": [
    "w = np.ones(y.shape[0])\n",
    "\n",
    "for _ in range(1_000):\n",
    "    m4 = LinearRegression()\n",
    "    m4.fit(X, y, w)\n",
    "    w = 1 / np.abs(y - m4.predict(X))\n",
    "    w = w / w.sum()\n",
    "    w = w + 0.0001\n",
    "    \n",
    "c4 = pd.concat([\n",
    "    pd.Series(m4.intercept_, ['intercept']), \n",
    "    pd.Series(m4.coef_, X.columns)\n",
    "])\n",
    "\n",
    "c4"
   ]
  },
  {
   "cell_type": "code",
   "execution_count": null,
   "id": "cloudy-vehicle",
   "metadata": {},
   "outputs": [],
   "source": []
  },
  {
   "cell_type": "code",
   "execution_count": null,
   "id": "stopped-display",
   "metadata": {},
   "outputs": [],
   "source": []
  }
 ],
 "metadata": {
  "kernelspec": {
   "display_name": "Python 3",
   "language": "python",
   "name": "python3"
  },
  "language_info": {
   "codemirror_mode": {
    "name": "ipython",
    "version": 3
   },
   "file_extension": ".py",
   "mimetype": "text/x-python",
   "name": "python",
   "nbconvert_exporter": "python",
   "pygments_lexer": "ipython3",
   "version": "3.8.5"
  },
  "widgets": {
   "application/vnd.jupyter.widget-state+json": {
    "state": {},
    "version_major": 2,
    "version_minor": 0
   }
  }
 },
 "nbformat": 4,
 "nbformat_minor": 5
}
