{
 "cells": [
  {
   "cell_type": "markdown",
   "id": "4555195c-993e-4e4b-aed5-b838882d47f4",
   "metadata": {},
   "source": [
    "# DoubleML, Estimating Causal Effects"
   ]
  },
  {
   "cell_type": "markdown",
   "id": "9d231a12-1c1f-40d3-b798-e7c72607b2be",
   "metadata": {},
   "source": [
    "## Bonus data"
   ]
  },
  {
   "cell_type": "code",
   "execution_count": 1,
   "id": "dfa83974-59d4-4190-ad87-c5889de5b814",
   "metadata": {
    "tags": []
   },
   "outputs": [
    {
     "data": {
      "text/html": [
       "<div>\n",
       "<style scoped>\n",
       "    .dataframe tbody tr th:only-of-type {\n",
       "        vertical-align: middle;\n",
       "    }\n",
       "\n",
       "    .dataframe tbody tr th {\n",
       "        vertical-align: top;\n",
       "    }\n",
       "\n",
       "    .dataframe thead th {\n",
       "        text-align: right;\n",
       "    }\n",
       "</style>\n",
       "<table border=\"1\" class=\"dataframe\">\n",
       "  <thead>\n",
       "    <tr style=\"text-align: right;\">\n",
       "      <th></th>\n",
       "      <th>coef</th>\n",
       "      <th>std err</th>\n",
       "      <th>t</th>\n",
       "      <th>P&gt;|t|</th>\n",
       "      <th>2.5 %</th>\n",
       "      <th>97.5 %</th>\n",
       "    </tr>\n",
       "  </thead>\n",
       "  <tbody>\n",
       "    <tr>\n",
       "      <th>tg</th>\n",
       "      <td>-0.076684</td>\n",
       "      <td>0.035411</td>\n",
       "      <td>-2.165549</td>\n",
       "      <td>0.030346</td>\n",
       "      <td>-0.146087</td>\n",
       "      <td>-0.00728</td>\n",
       "    </tr>\n",
       "  </tbody>\n",
       "</table>\n",
       "</div>"
      ],
      "text/plain": [
       "        coef   std err         t     P>|t|     2.5 %   97.5 %\n",
       "tg -0.076684  0.035411 -2.165549  0.030346 -0.146087 -0.00728"
      ]
     },
     "execution_count": 1,
     "metadata": {},
     "output_type": "execute_result"
    }
   ],
   "source": [
    "import pandas as pd\n",
    "import numpy as np\n",
    "from doubleml.datasets import fetch_bonus\n",
    "from doubleml import DoubleMLData\n",
    "from sklearn.base import clone\n",
    "from sklearn.ensemble import RandomForestRegressor\n",
    "from sklearn.linear_model import LassoCV\n",
    "from doubleml import DoubleMLPLR\n",
    "\n",
    "np.random.seed(3141)\n",
    "\n",
    "Xy = fetch_bonus(return_type='DataFrame')\n",
    "\n",
    "y_col = 'inuidur1'\n",
    "d_cols = 'tg'\n",
    "x_cols = [\n",
    "    'female', 'black', 'othrace', 'dep1', 'dep2',\n",
    "    'q2', 'q3', 'q4', 'q5', 'q6', 'agelt35', 'agegt54',\n",
    "    'durable', 'lusd', 'husd'\n",
    "]\n",
    "\n",
    "dml_data = DoubleMLData(\n",
    "    Xy,\n",
    "    y_col=y_col,\n",
    "    d_cols=d_cols,\n",
    "    x_cols=x_cols\n",
    ")\n",
    "\n",
    "learner = RandomForestRegressor(n_estimators=500, max_features='sqrt', max_depth=5)\n",
    "ml_l = clone(learner)\n",
    "ml_m = clone(learner)\n",
    "\n",
    "dml_model = DoubleMLPLR(dml_data, ml_l, ml_m)\n",
    "dml_model.fit(store_models=True)\n",
    "dml_model.summary"
   ]
  },
  {
   "cell_type": "markdown",
   "id": "5daa1048-c684-4a9f-8fb6-e4398d948268",
   "metadata": {},
   "source": [
    "## Net financial assets data"
   ]
  },
  {
   "cell_type": "code",
   "execution_count": 2,
   "id": "5bec96d4-7d65-42b3-862b-d4cc38f2d0fe",
   "metadata": {
    "tags": []
   },
   "outputs": [
    {
     "data": {
      "text/html": [
       "<div>\n",
       "<style scoped>\n",
       "    .dataframe tbody tr th:only-of-type {\n",
       "        vertical-align: middle;\n",
       "    }\n",
       "\n",
       "    .dataframe tbody tr th {\n",
       "        vertical-align: top;\n",
       "    }\n",
       "\n",
       "    .dataframe thead th {\n",
       "        text-align: right;\n",
       "    }\n",
       "</style>\n",
       "<table border=\"1\" class=\"dataframe\">\n",
       "  <thead>\n",
       "    <tr style=\"text-align: right;\">\n",
       "      <th></th>\n",
       "      <th>coef</th>\n",
       "      <th>std err</th>\n",
       "      <th>t</th>\n",
       "      <th>P&gt;|t|</th>\n",
       "      <th>2.5 %</th>\n",
       "      <th>97.5 %</th>\n",
       "    </tr>\n",
       "  </thead>\n",
       "  <tbody>\n",
       "    <tr>\n",
       "      <th>e401</th>\n",
       "      <td>9059.917779</td>\n",
       "      <td>1306.284784</td>\n",
       "      <td>6.935638</td>\n",
       "      <td>4.043932e-12</td>\n",
       "      <td>6499.646648</td>\n",
       "      <td>11620.188909</td>\n",
       "    </tr>\n",
       "  </tbody>\n",
       "</table>\n",
       "</div>"
      ],
      "text/plain": [
       "             coef      std err         t         P>|t|        2.5 %  \\\n",
       "e401  9059.917779  1306.284784  6.935638  4.043932e-12  6499.646648   \n",
       "\n",
       "            97.5 %  \n",
       "e401  11620.188909  "
      ]
     },
     "execution_count": 2,
     "metadata": {},
     "output_type": "execute_result"
    }
   ],
   "source": [
    "from doubleml.datasets import fetch_401K\n",
    "from sklearn.ensemble import RandomForestClassifier\n",
    "\n",
    "np.random.seed(3141)\n",
    "\n",
    "Xy = fetch_401K(return_type='DataFrame')\n",
    "\n",
    "y_col = 'net_tfa'\n",
    "d_cols = 'e401'\n",
    "x_cols = [\n",
    "    'age', 'inc', 'educ', \n",
    "    'fsize', 'marr', 'twoearn', \n",
    "    'db', 'pira', 'hown'\n",
    "]\n",
    "\n",
    "dml_data = DoubleMLData(\n",
    "    Xy,\n",
    "    y_col=y_col,\n",
    "    d_cols=d_cols,\n",
    "    x_cols=x_cols\n",
    ")\n",
    "\n",
    "ml_l = RandomForestRegressor(n_estimators=500, max_depth=7, max_features=3, min_samples_leaf=3)\n",
    "ml_m = RandomForestClassifier(n_estimators=500, max_depth=5, max_features=4, min_samples_leaf=7)\n",
    "\n",
    "dml_model = DoubleMLPLR(dml_data, ml_l, ml_m)\n",
    "dml_model.fit(store_models=True)\n",
    "dml_model.summary"
   ]
  },
  {
   "cell_type": "markdown",
   "id": "0c523f89-638b-4a64-bb16-cb7c21119beb",
   "metadata": {
    "tags": []
   },
   "source": [
    "## Simulated data"
   ]
  },
  {
   "cell_type": "code",
   "execution_count": 3,
   "id": "5ab64bbd-0cc9-43c0-b965-34eb9d96d5bb",
   "metadata": {
    "tags": []
   },
   "outputs": [
    {
     "data": {
      "text/html": [
       "<div>\n",
       "<style scoped>\n",
       "    .dataframe tbody tr th:only-of-type {\n",
       "        vertical-align: middle;\n",
       "    }\n",
       "\n",
       "    .dataframe tbody tr th {\n",
       "        vertical-align: top;\n",
       "    }\n",
       "\n",
       "    .dataframe thead th {\n",
       "        text-align: right;\n",
       "    }\n",
       "</style>\n",
       "<table border=\"1\" class=\"dataframe\">\n",
       "  <thead>\n",
       "    <tr style=\"text-align: right;\">\n",
       "      <th></th>\n",
       "      <th>coef</th>\n",
       "      <th>std err</th>\n",
       "      <th>t</th>\n",
       "      <th>P&gt;|t|</th>\n",
       "      <th>2.5 %</th>\n",
       "      <th>97.5 %</th>\n",
       "    </tr>\n",
       "  </thead>\n",
       "  <tbody>\n",
       "    <tr>\n",
       "      <th>d</th>\n",
       "      <td>3.051458</td>\n",
       "      <td>0.045425</td>\n",
       "      <td>67.175124</td>\n",
       "      <td>0.0</td>\n",
       "      <td>2.962426</td>\n",
       "      <td>3.14049</td>\n",
       "    </tr>\n",
       "  </tbody>\n",
       "</table>\n",
       "</div>"
      ],
      "text/plain": [
       "       coef   std err          t  P>|t|     2.5 %   97.5 %\n",
       "d  3.051458  0.045425  67.175124    0.0  2.962426  3.14049"
      ]
     },
     "execution_count": 3,
     "metadata": {},
     "output_type": "execute_result"
    }
   ],
   "source": [
    "np.random.seed(3141)\n",
    "n_obs = 500\n",
    "n_vars = 100\n",
    "theta = 3\n",
    "\n",
    "X = np.random.normal(size=(n_obs, n_vars))\n",
    "d = np.dot(X[:, :3], np.array([5, 5, 5])) + np.random.standard_normal(size=(n_obs,))\n",
    "y = theta * d + np.dot(X[:, :3], np.array([5, 5, 5])) + np.random.standard_normal(size=(n_obs,))\n",
    "\n",
    "dml_data = DoubleMLData.from_arrays(X, y, d)\n",
    "\n",
    "learner = LassoCV()\n",
    "ml_l = clone(learner)\n",
    "ml_m = clone(learner)\n",
    "\n",
    "dml_model = DoubleMLPLR(dml_data, ml_l, ml_m)\n",
    "dml_model.fit(store_models=True)\n",
    "dml_model.summary"
   ]
  },
  {
   "cell_type": "markdown",
   "id": "f252b68c-cd85-44ca-9832-2bb76d09ce53",
   "metadata": {},
   "source": [
    "## Admissions data"
   ]
  },
  {
   "cell_type": "code",
   "execution_count": 4,
   "id": "64d17c82-88c9-4720-946c-b467c1cfaa0e",
   "metadata": {
    "tags": []
   },
   "outputs": [],
   "source": [
    "url = 'https://raw.githubusercontent.com/selva86/datasets/master/Admission.csv'\n",
    "Xy = pd.read_csv(url) \\\n",
    "    .drop(columns=['Chance of Admit ', 'Serial No.'])"
   ]
  },
  {
   "cell_type": "code",
   "execution_count": 5,
   "id": "dc2a879f-b7b8-4d18-b9da-286ad33a2aa1",
   "metadata": {
    "tags": []
   },
   "outputs": [],
   "source": [
    "from sklearn.base import BaseEstimator\n",
    "\n",
    "class MyEstimator(BaseEstimator):\n",
    "    def __init__(self):\n",
    "        self.m = RandomForestClassifier(n_estimators=50, random_state=37, n_jobs=-1)\n",
    "        self._estimator_type = 'regressor'\n",
    "\n",
    "    def fit(self, X, y):\n",
    "        self.m.fit(X, y)\n",
    "\n",
    "    def predict(self, X):\n",
    "        return self.m.predict_proba(X)[:,1]\n",
    "\n",
    "    def score(self, X, y):\n",
    "        return self.m.score(X, y)\n",
    "    \n",
    "    @property\n",
    "    def feature_importances_(self):\n",
    "        return self.m.feature_importances_\n",
    "    \n",
    "def get_model(d_col):\n",
    "    np.random.seed(3141)\n",
    "    dml_data = DoubleMLData(\n",
    "        Xy,\n",
    "        y_col='Research',\n",
    "        d_cols=d_col,\n",
    "        x_cols=list(Xy.drop(columns=['Research', d_col]).columns)\n",
    "    )\n",
    "\n",
    "    ml_l = MyEstimator()\n",
    "    ml_m = RandomForestRegressor(n_estimators=50, random_state=37, n_jobs=-1)\n",
    "\n",
    "    dml_model = DoubleMLPLR(dml_data, ml_l, ml_m)\n",
    "    dml_model.fit(store_models=True)\n",
    "    \n",
    "    return dml_model\n",
    "\n",
    "def get_summary(d_col):\n",
    "    dml_model = get_model(d_col)\n",
    "    return dml_model.summary"
   ]
  },
  {
   "cell_type": "code",
   "execution_count": 6,
   "id": "681849c9-7284-469f-a0df-ce7293308a03",
   "metadata": {
    "tags": []
   },
   "outputs": [
    {
     "data": {
      "text/html": [
       "<div>\n",
       "<style scoped>\n",
       "    .dataframe tbody tr th:only-of-type {\n",
       "        vertical-align: middle;\n",
       "    }\n",
       "\n",
       "    .dataframe tbody tr th {\n",
       "        vertical-align: top;\n",
       "    }\n",
       "\n",
       "    .dataframe thead th {\n",
       "        text-align: right;\n",
       "    }\n",
       "</style>\n",
       "<table border=\"1\" class=\"dataframe\">\n",
       "  <thead>\n",
       "    <tr style=\"text-align: right;\">\n",
       "      <th></th>\n",
       "      <th>coef</th>\n",
       "      <th>std err</th>\n",
       "      <th>t</th>\n",
       "      <th>P&gt;|t|</th>\n",
       "      <th>2.5 %</th>\n",
       "      <th>97.5 %</th>\n",
       "    </tr>\n",
       "  </thead>\n",
       "  <tbody>\n",
       "    <tr>\n",
       "      <th>GRE Score</th>\n",
       "      <td>0.019100</td>\n",
       "      <td>0.003413</td>\n",
       "      <td>5.596341</td>\n",
       "      <td>2.189232e-08</td>\n",
       "      <td>0.012411</td>\n",
       "      <td>0.025789</td>\n",
       "    </tr>\n",
       "    <tr>\n",
       "      <th>TOEFL Score</th>\n",
       "      <td>-0.005940</td>\n",
       "      <td>0.007867</td>\n",
       "      <td>-0.755013</td>\n",
       "      <td>4.502409e-01</td>\n",
       "      <td>-0.021358</td>\n",
       "      <td>0.009479</td>\n",
       "    </tr>\n",
       "    <tr>\n",
       "      <th>University Rating</th>\n",
       "      <td>-0.006588</td>\n",
       "      <td>0.026446</td>\n",
       "      <td>-0.249110</td>\n",
       "      <td>8.032754e-01</td>\n",
       "      <td>-0.058421</td>\n",
       "      <td>0.045245</td>\n",
       "    </tr>\n",
       "    <tr>\n",
       "      <th>SOP</th>\n",
       "      <td>-0.005823</td>\n",
       "      <td>0.034981</td>\n",
       "      <td>-0.166450</td>\n",
       "      <td>8.678026e-01</td>\n",
       "      <td>-0.074383</td>\n",
       "      <td>0.062738</td>\n",
       "    </tr>\n",
       "    <tr>\n",
       "      <th>LOR</th>\n",
       "      <td>0.032732</td>\n",
       "      <td>0.032516</td>\n",
       "      <td>1.006638</td>\n",
       "      <td>3.141090e-01</td>\n",
       "      <td>-0.030998</td>\n",
       "      <td>0.096462</td>\n",
       "    </tr>\n",
       "    <tr>\n",
       "      <th>CGPA</th>\n",
       "      <td>0.086724</td>\n",
       "      <td>0.082471</td>\n",
       "      <td>1.051576</td>\n",
       "      <td>2.929943e-01</td>\n",
       "      <td>-0.074916</td>\n",
       "      <td>0.248364</td>\n",
       "    </tr>\n",
       "  </tbody>\n",
       "</table>\n",
       "</div>"
      ],
      "text/plain": [
       "                       coef   std err         t         P>|t|     2.5 %  \\\n",
       "GRE Score          0.019100  0.003413  5.596341  2.189232e-08  0.012411   \n",
       "TOEFL Score       -0.005940  0.007867 -0.755013  4.502409e-01 -0.021358   \n",
       "University Rating -0.006588  0.026446 -0.249110  8.032754e-01 -0.058421   \n",
       "SOP               -0.005823  0.034981 -0.166450  8.678026e-01 -0.074383   \n",
       "LOR                0.032732  0.032516  1.006638  3.141090e-01 -0.030998   \n",
       "CGPA               0.086724  0.082471  1.051576  2.929943e-01 -0.074916   \n",
       "\n",
       "                     97.5 %  \n",
       "GRE Score          0.025789  \n",
       "TOEFL Score        0.009479  \n",
       "University Rating  0.045245  \n",
       "SOP                0.062738  \n",
       "LOR                0.096462  \n",
       "CGPA               0.248364  "
      ]
     },
     "execution_count": 6,
     "metadata": {},
     "output_type": "execute_result"
    }
   ],
   "source": [
    "pd.concat([get_summary(c) for c in Xy.drop(columns=['Research']).columns])"
   ]
  },
  {
   "cell_type": "code",
   "execution_count": null,
   "id": "1728ab0e-8635-4578-ae0a-a209f13d90dc",
   "metadata": {},
   "outputs": [],
   "source": []
  }
 ],
 "metadata": {
  "kernelspec": {
   "display_name": "Python 3 (ipykernel)",
   "language": "python",
   "name": "python3"
  },
  "language_info": {
   "codemirror_mode": {
    "name": "ipython",
    "version": 3
   },
   "file_extension": ".py",
   "mimetype": "text/x-python",
   "name": "python",
   "nbconvert_exporter": "python",
   "pygments_lexer": "ipython3",
   "version": "3.11.5"
  }
 },
 "nbformat": 4,
 "nbformat_minor": 5
}
