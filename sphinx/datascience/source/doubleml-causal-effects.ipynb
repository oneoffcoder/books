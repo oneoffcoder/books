{
 "cells": [
  {
   "cell_type": "markdown",
   "id": "4555195c-993e-4e4b-aed5-b838882d47f4",
   "metadata": {},
   "source": [
    "# DoubleML, Estimating Causal Effects"
   ]
  },
  {
   "cell_type": "markdown",
   "id": "9d231a12-1c1f-40d3-b798-e7c72607b2be",
   "metadata": {},
   "source": [
    "## Bonus data"
   ]
  },
  {
   "cell_type": "code",
   "execution_count": 1,
   "id": "dfa83974-59d4-4190-ad87-c5889de5b814",
   "metadata": {
    "tags": []
   },
   "outputs": [
    {
     "data": {
      "text/html": [
       "<div>\n",
       "<style scoped>\n",
       "    .dataframe tbody tr th:only-of-type {\n",
       "        vertical-align: middle;\n",
       "    }\n",
       "\n",
       "    .dataframe tbody tr th {\n",
       "        vertical-align: top;\n",
       "    }\n",
       "\n",
       "    .dataframe thead th {\n",
       "        text-align: right;\n",
       "    }\n",
       "</style>\n",
       "<table border=\"1\" class=\"dataframe\">\n",
       "  <thead>\n",
       "    <tr style=\"text-align: right;\">\n",
       "      <th></th>\n",
       "      <th>coef</th>\n",
       "      <th>std err</th>\n",
       "      <th>t</th>\n",
       "      <th>P&gt;|t|</th>\n",
       "      <th>2.5 %</th>\n",
       "      <th>97.5 %</th>\n",
       "    </tr>\n",
       "  </thead>\n",
       "  <tbody>\n",
       "    <tr>\n",
       "      <th>tg</th>\n",
       "      <td>-0.076684</td>\n",
       "      <td>0.035411</td>\n",
       "      <td>-2.165549</td>\n",
       "      <td>0.030346</td>\n",
       "      <td>-0.146087</td>\n",
       "      <td>-0.00728</td>\n",
       "    </tr>\n",
       "  </tbody>\n",
       "</table>\n",
       "</div>"
      ],
      "text/plain": [
       "        coef   std err         t     P>|t|     2.5 %   97.5 %\n",
       "tg -0.076684  0.035411 -2.165549  0.030346 -0.146087 -0.00728"
      ]
     },
     "execution_count": 1,
     "metadata": {},
     "output_type": "execute_result"
    }
   ],
   "source": [
    "import pandas as pd\n",
    "import numpy as np\n",
    "from doubleml.datasets import fetch_bonus\n",
    "from doubleml import DoubleMLData\n",
    "from sklearn.base import clone\n",
    "from sklearn.ensemble import RandomForestRegressor\n",
    "from sklearn.linear_model import LassoCV\n",
    "from doubleml import DoubleMLPLR\n",
    "\n",
    "np.random.seed(3141)\n",
    "\n",
    "Xy = fetch_bonus(return_type='DataFrame')\n",
    "\n",
    "dml_data = DoubleMLData(\n",
    "    Xy,\n",
    "    y_col='inuidur1',\n",
    "    d_cols='tg',\n",
    "    x_cols=[\n",
    "        'female', 'black', 'othrace', 'dep1', 'dep2',\n",
    "        'q2', 'q3', 'q4', 'q5', 'q6', 'agelt35', 'agegt54',\n",
    "        'durable', 'lusd', 'husd']\n",
    ")\n",
    "\n",
    "learner = RandomForestRegressor(n_estimators = 500, max_features = 'sqrt', max_depth= 5)\n",
    "ml_l = clone(learner)\n",
    "ml_m = clone(learner)\n",
    "\n",
    "dml_model = DoubleMLPLR(dml_data, ml_l, ml_m)\n",
    "dml_model.fit(store_models=True)\n",
    "dml_model.summary"
   ]
  },
  {
   "cell_type": "markdown",
   "id": "5daa1048-c684-4a9f-8fb6-e4398d948268",
   "metadata": {},
   "source": [
    "## Net financial assets data"
   ]
  },
  {
   "cell_type": "code",
   "execution_count": 2,
   "id": "5bec96d4-7d65-42b3-862b-d4cc38f2d0fe",
   "metadata": {
    "tags": []
   },
   "outputs": [
    {
     "data": {
      "text/html": [
       "<div>\n",
       "<style scoped>\n",
       "    .dataframe tbody tr th:only-of-type {\n",
       "        vertical-align: middle;\n",
       "    }\n",
       "\n",
       "    .dataframe tbody tr th {\n",
       "        vertical-align: top;\n",
       "    }\n",
       "\n",
       "    .dataframe thead th {\n",
       "        text-align: right;\n",
       "    }\n",
       "</style>\n",
       "<table border=\"1\" class=\"dataframe\">\n",
       "  <thead>\n",
       "    <tr style=\"text-align: right;\">\n",
       "      <th></th>\n",
       "      <th>coef</th>\n",
       "      <th>std err</th>\n",
       "      <th>t</th>\n",
       "      <th>P&gt;|t|</th>\n",
       "      <th>2.5 %</th>\n",
       "      <th>97.5 %</th>\n",
       "    </tr>\n",
       "  </thead>\n",
       "  <tbody>\n",
       "    <tr>\n",
       "      <th>e401</th>\n",
       "      <td>9059.917779</td>\n",
       "      <td>1306.284784</td>\n",
       "      <td>6.935638</td>\n",
       "      <td>4.043932e-12</td>\n",
       "      <td>6499.646648</td>\n",
       "      <td>11620.188909</td>\n",
       "    </tr>\n",
       "  </tbody>\n",
       "</table>\n",
       "</div>"
      ],
      "text/plain": [
       "             coef      std err         t         P>|t|        2.5 %  \\\n",
       "e401  9059.917779  1306.284784  6.935638  4.043932e-12  6499.646648   \n",
       "\n",
       "            97.5 %  \n",
       "e401  11620.188909  "
      ]
     },
     "execution_count": 2,
     "metadata": {},
     "output_type": "execute_result"
    }
   ],
   "source": [
    "from doubleml.datasets import fetch_401K\n",
    "from sklearn.ensemble import RandomForestClassifier\n",
    "\n",
    "np.random.seed(3141)\n",
    "\n",
    "Xy = fetch_401K(return_type='DataFrame')\n",
    "\n",
    "dml_data = DoubleMLData(\n",
    "    Xy, \n",
    "    y_col='net_tfa', \n",
    "    d_cols='e401', \n",
    "    x_cols=['age', 'inc', 'educ', 'fsize', 'marr', 'twoearn', 'db', 'pira', 'hown']\n",
    ")\n",
    "\n",
    "ml_l = RandomForestRegressor(n_estimators=500, max_depth=7, max_features=3, min_samples_leaf=3)\n",
    "ml_m = RandomForestClassifier(n_estimators=500, max_depth=5, max_features=4, min_samples_leaf=7)\n",
    "\n",
    "dml_model = DoubleMLPLR(dml_data, ml_l, ml_m)\n",
    "dml_model.fit(store_models=True)\n",
    "dml_model.summary"
   ]
  },
  {
   "cell_type": "markdown",
   "id": "0c523f89-638b-4a64-bb16-cb7c21119beb",
   "metadata": {
    "tags": []
   },
   "source": [
    "## Simulated data"
   ]
  },
  {
   "cell_type": "code",
   "execution_count": 3,
   "id": "5ab64bbd-0cc9-43c0-b965-34eb9d96d5bb",
   "metadata": {
    "tags": []
   },
   "outputs": [
    {
     "data": {
      "text/html": [
       "<div>\n",
       "<style scoped>\n",
       "    .dataframe tbody tr th:only-of-type {\n",
       "        vertical-align: middle;\n",
       "    }\n",
       "\n",
       "    .dataframe tbody tr th {\n",
       "        vertical-align: top;\n",
       "    }\n",
       "\n",
       "    .dataframe thead th {\n",
       "        text-align: right;\n",
       "    }\n",
       "</style>\n",
       "<table border=\"1\" class=\"dataframe\">\n",
       "  <thead>\n",
       "    <tr style=\"text-align: right;\">\n",
       "      <th></th>\n",
       "      <th>coef</th>\n",
       "      <th>std err</th>\n",
       "      <th>t</th>\n",
       "      <th>P&gt;|t|</th>\n",
       "      <th>2.5 %</th>\n",
       "      <th>97.5 %</th>\n",
       "    </tr>\n",
       "  </thead>\n",
       "  <tbody>\n",
       "    <tr>\n",
       "      <th>d</th>\n",
       "      <td>3.051458</td>\n",
       "      <td>0.045425</td>\n",
       "      <td>67.175124</td>\n",
       "      <td>0.0</td>\n",
       "      <td>2.962426</td>\n",
       "      <td>3.14049</td>\n",
       "    </tr>\n",
       "  </tbody>\n",
       "</table>\n",
       "</div>"
      ],
      "text/plain": [
       "       coef   std err          t  P>|t|     2.5 %   97.5 %\n",
       "d  3.051458  0.045425  67.175124    0.0  2.962426  3.14049"
      ]
     },
     "execution_count": 3,
     "metadata": {},
     "output_type": "execute_result"
    }
   ],
   "source": [
    "np.random.seed(3141)\n",
    "n_obs = 500\n",
    "n_vars = 100\n",
    "theta = 3\n",
    "\n",
    "X = np.random.normal(size=(n_obs, n_vars))\n",
    "d = np.dot(X[:, :3], np.array([5, 5, 5])) + np.random.standard_normal(size=(n_obs,))\n",
    "y = theta * d + np.dot(X[:, :3], np.array([5, 5, 5])) + np.random.standard_normal(size=(n_obs,))\n",
    "\n",
    "dml_data = DoubleMLData.from_arrays(X, y, d)\n",
    "\n",
    "learner = LassoCV()\n",
    "ml_l = clone(learner)\n",
    "ml_m = clone(learner)\n",
    "\n",
    "dml_model = DoubleMLPLR(dml_data, ml_l, ml_m)\n",
    "dml_model.fit(store_models=True)\n",
    "dml_model.summary"
   ]
  },
  {
   "cell_type": "markdown",
   "id": "f252b68c-cd85-44ca-9832-2bb76d09ce53",
   "metadata": {},
   "source": [
    "## Admissions data"
   ]
  },
  {
   "cell_type": "code",
   "execution_count": 4,
   "id": "64d17c82-88c9-4720-946c-b467c1cfaa0e",
   "metadata": {
    "tags": []
   },
   "outputs": [],
   "source": [
    "url = 'https://raw.githubusercontent.com/selva86/datasets/master/Admission.csv'\n",
    "Xy = pd.read_csv(url) \\\n",
    "    .drop(columns=['Chance of Admit ', 'Serial No.'])"
   ]
  },
  {
   "cell_type": "code",
   "execution_count": 5,
   "id": "dc2a879f-b7b8-4d18-b9da-286ad33a2aa1",
   "metadata": {
    "tags": []
   },
   "outputs": [],
   "source": [
    "from sklearn.base import BaseEstimator\n",
    "\n",
    "class MyEstimator(BaseEstimator):\n",
    "    def __init__(self):\n",
    "        self.m = RandomForestClassifier(n_estimators=50, random_state=37, n_jobs=-1)\n",
    "        self._estimator_type = 'regressor'\n",
    "\n",
    "    def fit(self, X, y):\n",
    "        self.m.fit(X, y)\n",
    "\n",
    "    def predict(self, X):\n",
    "        return self.m.predict_proba(X)[:,1]\n",
    "\n",
    "    def score(self, X, y):\n",
    "        return self.m.score(X, y)\n",
    "    \n",
    "    @property\n",
    "    def feature_importances_(self):\n",
    "        return self.m.feature_importances_"
   ]
  },
  {
   "cell_type": "code",
   "execution_count": 6,
   "id": "579f01ce-352f-4c46-8ae0-97e3e42e8242",
   "metadata": {
    "tags": []
   },
   "outputs": [],
   "source": [
    "def get_model(d_col):\n",
    "    np.random.seed(3141)\n",
    "    dml_data = DoubleMLData(\n",
    "        Xy,\n",
    "        y_col='Research',\n",
    "        d_cols=d_col,\n",
    "        x_cols=list(Xy.drop(columns=['Research', d_col]).columns)\n",
    "    )\n",
    "\n",
    "    ml_l = MyEstimator()\n",
    "    ml_m = RandomForestRegressor(n_estimators=50, random_state=37, n_jobs=-1)\n",
    "\n",
    "    dml_model = DoubleMLPLR(dml_data, ml_l, ml_m)\n",
    "    dml_model.fit(store_models=True)\n",
    "    \n",
    "    return dml_model\n",
    "\n",
    "def get_summary(d_col):\n",
    "    dml_model = get_model(d_col)\n",
    "    return dml_model.summary"
   ]
  },
  {
   "cell_type": "markdown",
   "id": "bd884dbb-0c3b-477b-a853-a6dab187c76d",
   "metadata": {},
   "source": [
    "### Admissions, ATE"
   ]
  },
  {
   "cell_type": "code",
   "execution_count": 7,
   "id": "9eccc1ec-086f-4b6f-b1f6-cfc809fba511",
   "metadata": {
    "tags": []
   },
   "outputs": [
    {
     "data": {
      "text/html": [
       "<div>\n",
       "<style scoped>\n",
       "    .dataframe tbody tr th:only-of-type {\n",
       "        vertical-align: middle;\n",
       "    }\n",
       "\n",
       "    .dataframe tbody tr th {\n",
       "        vertical-align: top;\n",
       "    }\n",
       "\n",
       "    .dataframe thead th {\n",
       "        text-align: right;\n",
       "    }\n",
       "</style>\n",
       "<table border=\"1\" class=\"dataframe\">\n",
       "  <thead>\n",
       "    <tr style=\"text-align: right;\">\n",
       "      <th></th>\n",
       "      <th>coef</th>\n",
       "      <th>std err</th>\n",
       "      <th>t</th>\n",
       "      <th>P&gt;|t|</th>\n",
       "      <th>2.5 %</th>\n",
       "      <th>97.5 %</th>\n",
       "    </tr>\n",
       "  </thead>\n",
       "  <tbody>\n",
       "    <tr>\n",
       "      <th>GRE Score</th>\n",
       "      <td>0.0191</td>\n",
       "      <td>0.003413</td>\n",
       "      <td>5.596341</td>\n",
       "      <td>2.189232e-08</td>\n",
       "      <td>0.012411</td>\n",
       "      <td>0.025789</td>\n",
       "    </tr>\n",
       "  </tbody>\n",
       "</table>\n",
       "</div>"
      ],
      "text/plain": [
       "             coef   std err         t         P>|t|     2.5 %    97.5 %\n",
       "GRE Score  0.0191  0.003413  5.596341  2.189232e-08  0.012411  0.025789"
      ]
     },
     "execution_count": 7,
     "metadata": {},
     "output_type": "execute_result"
    }
   ],
   "source": [
    "get_summary('GRE Score')"
   ]
  },
  {
   "cell_type": "code",
   "execution_count": 8,
   "id": "4e75a90b-426f-433c-97cb-5b20fbfd5fb7",
   "metadata": {
    "tags": []
   },
   "outputs": [
    {
     "data": {
      "text/html": [
       "<div>\n",
       "<style scoped>\n",
       "    .dataframe tbody tr th:only-of-type {\n",
       "        vertical-align: middle;\n",
       "    }\n",
       "\n",
       "    .dataframe tbody tr th {\n",
       "        vertical-align: top;\n",
       "    }\n",
       "\n",
       "    .dataframe thead th {\n",
       "        text-align: right;\n",
       "    }\n",
       "</style>\n",
       "<table border=\"1\" class=\"dataframe\">\n",
       "  <thead>\n",
       "    <tr style=\"text-align: right;\">\n",
       "      <th></th>\n",
       "      <th>coef</th>\n",
       "      <th>std err</th>\n",
       "      <th>t</th>\n",
       "      <th>P&gt;|t|</th>\n",
       "      <th>2.5 %</th>\n",
       "      <th>97.5 %</th>\n",
       "    </tr>\n",
       "  </thead>\n",
       "  <tbody>\n",
       "    <tr>\n",
       "      <th>TOEFL Score</th>\n",
       "      <td>-0.00594</td>\n",
       "      <td>0.007867</td>\n",
       "      <td>-0.755013</td>\n",
       "      <td>0.450241</td>\n",
       "      <td>-0.021358</td>\n",
       "      <td>0.009479</td>\n",
       "    </tr>\n",
       "  </tbody>\n",
       "</table>\n",
       "</div>"
      ],
      "text/plain": [
       "                coef   std err         t     P>|t|     2.5 %    97.5 %\n",
       "TOEFL Score -0.00594  0.007867 -0.755013  0.450241 -0.021358  0.009479"
      ]
     },
     "execution_count": 8,
     "metadata": {},
     "output_type": "execute_result"
    }
   ],
   "source": [
    "get_summary('TOEFL Score')"
   ]
  },
  {
   "cell_type": "code",
   "execution_count": 9,
   "id": "1c81b7ca-1741-4629-ab4b-719c4b417d25",
   "metadata": {
    "tags": []
   },
   "outputs": [
    {
     "data": {
      "text/html": [
       "<div>\n",
       "<style scoped>\n",
       "    .dataframe tbody tr th:only-of-type {\n",
       "        vertical-align: middle;\n",
       "    }\n",
       "\n",
       "    .dataframe tbody tr th {\n",
       "        vertical-align: top;\n",
       "    }\n",
       "\n",
       "    .dataframe thead th {\n",
       "        text-align: right;\n",
       "    }\n",
       "</style>\n",
       "<table border=\"1\" class=\"dataframe\">\n",
       "  <thead>\n",
       "    <tr style=\"text-align: right;\">\n",
       "      <th></th>\n",
       "      <th>coef</th>\n",
       "      <th>std err</th>\n",
       "      <th>t</th>\n",
       "      <th>P&gt;|t|</th>\n",
       "      <th>2.5 %</th>\n",
       "      <th>97.5 %</th>\n",
       "    </tr>\n",
       "  </thead>\n",
       "  <tbody>\n",
       "    <tr>\n",
       "      <th>University Rating</th>\n",
       "      <td>-0.006588</td>\n",
       "      <td>0.026446</td>\n",
       "      <td>-0.24911</td>\n",
       "      <td>0.803275</td>\n",
       "      <td>-0.058421</td>\n",
       "      <td>0.045245</td>\n",
       "    </tr>\n",
       "  </tbody>\n",
       "</table>\n",
       "</div>"
      ],
      "text/plain": [
       "                       coef   std err        t     P>|t|     2.5 %    97.5 %\n",
       "University Rating -0.006588  0.026446 -0.24911  0.803275 -0.058421  0.045245"
      ]
     },
     "execution_count": 9,
     "metadata": {},
     "output_type": "execute_result"
    }
   ],
   "source": [
    "get_summary('University Rating')"
   ]
  },
  {
   "cell_type": "code",
   "execution_count": 10,
   "id": "722f88bd-2b7b-4a47-857a-fe60e1adc81b",
   "metadata": {
    "tags": []
   },
   "outputs": [
    {
     "data": {
      "text/html": [
       "<div>\n",
       "<style scoped>\n",
       "    .dataframe tbody tr th:only-of-type {\n",
       "        vertical-align: middle;\n",
       "    }\n",
       "\n",
       "    .dataframe tbody tr th {\n",
       "        vertical-align: top;\n",
       "    }\n",
       "\n",
       "    .dataframe thead th {\n",
       "        text-align: right;\n",
       "    }\n",
       "</style>\n",
       "<table border=\"1\" class=\"dataframe\">\n",
       "  <thead>\n",
       "    <tr style=\"text-align: right;\">\n",
       "      <th></th>\n",
       "      <th>coef</th>\n",
       "      <th>std err</th>\n",
       "      <th>t</th>\n",
       "      <th>P&gt;|t|</th>\n",
       "      <th>2.5 %</th>\n",
       "      <th>97.5 %</th>\n",
       "    </tr>\n",
       "  </thead>\n",
       "  <tbody>\n",
       "    <tr>\n",
       "      <th>SOP</th>\n",
       "      <td>-0.005823</td>\n",
       "      <td>0.034981</td>\n",
       "      <td>-0.16645</td>\n",
       "      <td>0.867803</td>\n",
       "      <td>-0.074383</td>\n",
       "      <td>0.062738</td>\n",
       "    </tr>\n",
       "  </tbody>\n",
       "</table>\n",
       "</div>"
      ],
      "text/plain": [
       "         coef   std err        t     P>|t|     2.5 %    97.5 %\n",
       "SOP -0.005823  0.034981 -0.16645  0.867803 -0.074383  0.062738"
      ]
     },
     "execution_count": 10,
     "metadata": {},
     "output_type": "execute_result"
    }
   ],
   "source": [
    "get_summary('SOP')"
   ]
  },
  {
   "cell_type": "code",
   "execution_count": 11,
   "id": "f9a351f9-140d-4fe6-ae31-ee0371c17427",
   "metadata": {
    "tags": []
   },
   "outputs": [
    {
     "data": {
      "text/html": [
       "<div>\n",
       "<style scoped>\n",
       "    .dataframe tbody tr th:only-of-type {\n",
       "        vertical-align: middle;\n",
       "    }\n",
       "\n",
       "    .dataframe tbody tr th {\n",
       "        vertical-align: top;\n",
       "    }\n",
       "\n",
       "    .dataframe thead th {\n",
       "        text-align: right;\n",
       "    }\n",
       "</style>\n",
       "<table border=\"1\" class=\"dataframe\">\n",
       "  <thead>\n",
       "    <tr style=\"text-align: right;\">\n",
       "      <th></th>\n",
       "      <th>coef</th>\n",
       "      <th>std err</th>\n",
       "      <th>t</th>\n",
       "      <th>P&gt;|t|</th>\n",
       "      <th>2.5 %</th>\n",
       "      <th>97.5 %</th>\n",
       "    </tr>\n",
       "  </thead>\n",
       "  <tbody>\n",
       "    <tr>\n",
       "      <th>CGPA</th>\n",
       "      <td>0.086724</td>\n",
       "      <td>0.082471</td>\n",
       "      <td>1.051576</td>\n",
       "      <td>0.292994</td>\n",
       "      <td>-0.074916</td>\n",
       "      <td>0.248364</td>\n",
       "    </tr>\n",
       "  </tbody>\n",
       "</table>\n",
       "</div>"
      ],
      "text/plain": [
       "          coef   std err         t     P>|t|     2.5 %    97.5 %\n",
       "CGPA  0.086724  0.082471  1.051576  0.292994 -0.074916  0.248364"
      ]
     },
     "execution_count": 11,
     "metadata": {},
     "output_type": "execute_result"
    }
   ],
   "source": [
    "get_summary('CGPA')"
   ]
  },
  {
   "cell_type": "markdown",
   "id": "4173b36d-abfa-49ca-aee0-af3e6991185c",
   "metadata": {},
   "source": [
    "### Admissions, feature importances"
   ]
  },
  {
   "cell_type": "code",
   "execution_count": 12,
   "id": "8cb97471-683e-4d31-afe8-149eb7caa918",
   "metadata": {
    "tags": []
   },
   "outputs": [],
   "source": [
    "def get_feature_importances(m, d_col):\n",
    "    return pd.Series(\n",
    "        m.feature_importances_,\n",
    "        list(Xy.drop(columns=['Research', d_col]).columns)\n",
    "    )\n",
    "\n",
    "def get_all_feature_importances(m, d_col, k):\n",
    "    n = len(m.models[k][d_col][0])\n",
    "    return pd.DataFrame({f'{i}': get_feature_importances(m.models[k][d_col][0][i], d_col) for i in range(n)}).T\n",
    "\n",
    "def get_avg_feature_importances(d_col):\n",
    "    m = get_model(d_col)\n",
    "    return pd.DataFrame({\n",
    "        'ml_m': get_all_feature_importances(m, d_col, 'ml_m').mean(),\n",
    "        'ml_l': get_all_feature_importances(m, d_col, 'ml_l').mean()\n",
    "    })"
   ]
  },
  {
   "cell_type": "code",
   "execution_count": 13,
   "id": "7b9aa515-067d-4f82-a1df-ae68d1cae2bb",
   "metadata": {
    "tags": []
   },
   "outputs": [
    {
     "data": {
      "text/html": [
       "<div>\n",
       "<style scoped>\n",
       "    .dataframe tbody tr th:only-of-type {\n",
       "        vertical-align: middle;\n",
       "    }\n",
       "\n",
       "    .dataframe tbody tr th {\n",
       "        vertical-align: top;\n",
       "    }\n",
       "\n",
       "    .dataframe thead th {\n",
       "        text-align: right;\n",
       "    }\n",
       "</style>\n",
       "<table border=\"1\" class=\"dataframe\">\n",
       "  <thead>\n",
       "    <tr style=\"text-align: right;\">\n",
       "      <th></th>\n",
       "      <th>ml_m</th>\n",
       "      <th>ml_l</th>\n",
       "    </tr>\n",
       "  </thead>\n",
       "  <tbody>\n",
       "    <tr>\n",
       "      <th>TOEFL Score</th>\n",
       "      <td>0.416697</td>\n",
       "      <td>0.295821</td>\n",
       "    </tr>\n",
       "    <tr>\n",
       "      <th>University Rating</th>\n",
       "      <td>0.028318</td>\n",
       "      <td>0.086886</td>\n",
       "    </tr>\n",
       "    <tr>\n",
       "      <th>SOP</th>\n",
       "      <td>0.033369</td>\n",
       "      <td>0.117475</td>\n",
       "    </tr>\n",
       "    <tr>\n",
       "      <th>LOR</th>\n",
       "      <td>0.032381</td>\n",
       "      <td>0.122812</td>\n",
       "    </tr>\n",
       "    <tr>\n",
       "      <th>CGPA</th>\n",
       "      <td>0.489235</td>\n",
       "      <td>0.377006</td>\n",
       "    </tr>\n",
       "  </tbody>\n",
       "</table>\n",
       "</div>"
      ],
      "text/plain": [
       "                       ml_m      ml_l\n",
       "TOEFL Score        0.416697  0.295821\n",
       "University Rating  0.028318  0.086886\n",
       "SOP                0.033369  0.117475\n",
       "LOR                0.032381  0.122812\n",
       "CGPA               0.489235  0.377006"
      ]
     },
     "execution_count": 13,
     "metadata": {},
     "output_type": "execute_result"
    }
   ],
   "source": [
    "get_avg_feature_importances('GRE Score')"
   ]
  },
  {
   "cell_type": "code",
   "execution_count": 14,
   "id": "41384dd4-1b68-4730-a61a-5ce4134e2bf6",
   "metadata": {
    "tags": []
   },
   "outputs": [
    {
     "data": {
      "text/html": [
       "<div>\n",
       "<style scoped>\n",
       "    .dataframe tbody tr th:only-of-type {\n",
       "        vertical-align: middle;\n",
       "    }\n",
       "\n",
       "    .dataframe tbody tr th {\n",
       "        vertical-align: top;\n",
       "    }\n",
       "\n",
       "    .dataframe thead th {\n",
       "        text-align: right;\n",
       "    }\n",
       "</style>\n",
       "<table border=\"1\" class=\"dataframe\">\n",
       "  <thead>\n",
       "    <tr style=\"text-align: right;\">\n",
       "      <th></th>\n",
       "      <th>ml_m</th>\n",
       "      <th>ml_l</th>\n",
       "    </tr>\n",
       "  </thead>\n",
       "  <tbody>\n",
       "    <tr>\n",
       "      <th>GRE Score</th>\n",
       "      <td>0.615354</td>\n",
       "      <td>0.412481</td>\n",
       "    </tr>\n",
       "    <tr>\n",
       "      <th>University Rating</th>\n",
       "      <td>0.026497</td>\n",
       "      <td>0.068826</td>\n",
       "    </tr>\n",
       "    <tr>\n",
       "      <th>SOP</th>\n",
       "      <td>0.040517</td>\n",
       "      <td>0.103956</td>\n",
       "    </tr>\n",
       "    <tr>\n",
       "      <th>LOR</th>\n",
       "      <td>0.033903</td>\n",
       "      <td>0.101162</td>\n",
       "    </tr>\n",
       "    <tr>\n",
       "      <th>CGPA</th>\n",
       "      <td>0.283730</td>\n",
       "      <td>0.313575</td>\n",
       "    </tr>\n",
       "  </tbody>\n",
       "</table>\n",
       "</div>"
      ],
      "text/plain": [
       "                       ml_m      ml_l\n",
       "GRE Score          0.615354  0.412481\n",
       "University Rating  0.026497  0.068826\n",
       "SOP                0.040517  0.103956\n",
       "LOR                0.033903  0.101162\n",
       "CGPA               0.283730  0.313575"
      ]
     },
     "execution_count": 14,
     "metadata": {},
     "output_type": "execute_result"
    }
   ],
   "source": [
    "get_avg_feature_importances('TOEFL Score')"
   ]
  },
  {
   "cell_type": "code",
   "execution_count": 15,
   "id": "fd42d599-1f7e-4ab8-87f7-1138aa2bbb9f",
   "metadata": {
    "tags": []
   },
   "outputs": [
    {
     "data": {
      "text/html": [
       "<div>\n",
       "<style scoped>\n",
       "    .dataframe tbody tr th:only-of-type {\n",
       "        vertical-align: middle;\n",
       "    }\n",
       "\n",
       "    .dataframe tbody tr th {\n",
       "        vertical-align: top;\n",
       "    }\n",
       "\n",
       "    .dataframe thead th {\n",
       "        text-align: right;\n",
       "    }\n",
       "</style>\n",
       "<table border=\"1\" class=\"dataframe\">\n",
       "  <thead>\n",
       "    <tr style=\"text-align: right;\">\n",
       "      <th></th>\n",
       "      <th>ml_m</th>\n",
       "      <th>ml_l</th>\n",
       "    </tr>\n",
       "  </thead>\n",
       "  <tbody>\n",
       "    <tr>\n",
       "      <th>GRE Score</th>\n",
       "      <td>0.178181</td>\n",
       "      <td>0.386554</td>\n",
       "    </tr>\n",
       "    <tr>\n",
       "      <th>TOEFL Score</th>\n",
       "      <td>0.095144</td>\n",
       "      <td>0.162070</td>\n",
       "    </tr>\n",
       "    <tr>\n",
       "      <th>SOP</th>\n",
       "      <td>0.216887</td>\n",
       "      <td>0.097775</td>\n",
       "    </tr>\n",
       "    <tr>\n",
       "      <th>LOR</th>\n",
       "      <td>0.067901</td>\n",
       "      <td>0.091976</td>\n",
       "    </tr>\n",
       "    <tr>\n",
       "      <th>CGPA</th>\n",
       "      <td>0.441887</td>\n",
       "      <td>0.261624</td>\n",
       "    </tr>\n",
       "  </tbody>\n",
       "</table>\n",
       "</div>"
      ],
      "text/plain": [
       "                 ml_m      ml_l\n",
       "GRE Score    0.178181  0.386554\n",
       "TOEFL Score  0.095144  0.162070\n",
       "SOP          0.216887  0.097775\n",
       "LOR          0.067901  0.091976\n",
       "CGPA         0.441887  0.261624"
      ]
     },
     "execution_count": 15,
     "metadata": {},
     "output_type": "execute_result"
    }
   ],
   "source": [
    "get_avg_feature_importances('University Rating')"
   ]
  },
  {
   "cell_type": "code",
   "execution_count": 16,
   "id": "531a93dd-e9d9-4cbb-8536-4fae440aec6d",
   "metadata": {
    "tags": []
   },
   "outputs": [
    {
     "data": {
      "text/html": [
       "<div>\n",
       "<style scoped>\n",
       "    .dataframe tbody tr th:only-of-type {\n",
       "        vertical-align: middle;\n",
       "    }\n",
       "\n",
       "    .dataframe tbody tr th {\n",
       "        vertical-align: top;\n",
       "    }\n",
       "\n",
       "    .dataframe thead th {\n",
       "        text-align: right;\n",
       "    }\n",
       "</style>\n",
       "<table border=\"1\" class=\"dataframe\">\n",
       "  <thead>\n",
       "    <tr style=\"text-align: right;\">\n",
       "      <th></th>\n",
       "      <th>ml_m</th>\n",
       "      <th>ml_l</th>\n",
       "    </tr>\n",
       "  </thead>\n",
       "  <tbody>\n",
       "    <tr>\n",
       "      <th>GRE Score</th>\n",
       "      <td>0.084909</td>\n",
       "      <td>0.393891</td>\n",
       "    </tr>\n",
       "    <tr>\n",
       "      <th>TOEFL Score</th>\n",
       "      <td>0.107692</td>\n",
       "      <td>0.166184</td>\n",
       "    </tr>\n",
       "    <tr>\n",
       "      <th>University Rating</th>\n",
       "      <td>0.243269</td>\n",
       "      <td>0.068985</td>\n",
       "    </tr>\n",
       "    <tr>\n",
       "      <th>LOR</th>\n",
       "      <td>0.239526</td>\n",
       "      <td>0.093901</td>\n",
       "    </tr>\n",
       "    <tr>\n",
       "      <th>CGPA</th>\n",
       "      <td>0.324604</td>\n",
       "      <td>0.277039</td>\n",
       "    </tr>\n",
       "  </tbody>\n",
       "</table>\n",
       "</div>"
      ],
      "text/plain": [
       "                       ml_m      ml_l\n",
       "GRE Score          0.084909  0.393891\n",
       "TOEFL Score        0.107692  0.166184\n",
       "University Rating  0.243269  0.068985\n",
       "LOR                0.239526  0.093901\n",
       "CGPA               0.324604  0.277039"
      ]
     },
     "execution_count": 16,
     "metadata": {},
     "output_type": "execute_result"
    }
   ],
   "source": [
    "get_avg_feature_importances('SOP')"
   ]
  },
  {
   "cell_type": "code",
   "execution_count": 17,
   "id": "4fa241c1-9cb5-48cf-b437-20fa6588d659",
   "metadata": {
    "tags": []
   },
   "outputs": [
    {
     "data": {
      "text/html": [
       "<div>\n",
       "<style scoped>\n",
       "    .dataframe tbody tr th:only-of-type {\n",
       "        vertical-align: middle;\n",
       "    }\n",
       "\n",
       "    .dataframe tbody tr th {\n",
       "        vertical-align: top;\n",
       "    }\n",
       "\n",
       "    .dataframe thead th {\n",
       "        text-align: right;\n",
       "    }\n",
       "</style>\n",
       "<table border=\"1\" class=\"dataframe\">\n",
       "  <thead>\n",
       "    <tr style=\"text-align: right;\">\n",
       "      <th></th>\n",
       "      <th>ml_m</th>\n",
       "      <th>ml_l</th>\n",
       "    </tr>\n",
       "  </thead>\n",
       "  <tbody>\n",
       "    <tr>\n",
       "      <th>GRE Score</th>\n",
       "      <td>0.445866</td>\n",
       "      <td>0.450488</td>\n",
       "    </tr>\n",
       "    <tr>\n",
       "      <th>TOEFL Score</th>\n",
       "      <td>0.386038</td>\n",
       "      <td>0.216720</td>\n",
       "    </tr>\n",
       "    <tr>\n",
       "      <th>University Rating</th>\n",
       "      <td>0.045223</td>\n",
       "      <td>0.092789</td>\n",
       "    </tr>\n",
       "    <tr>\n",
       "      <th>SOP</th>\n",
       "      <td>0.057816</td>\n",
       "      <td>0.118835</td>\n",
       "    </tr>\n",
       "    <tr>\n",
       "      <th>LOR</th>\n",
       "      <td>0.065057</td>\n",
       "      <td>0.121167</td>\n",
       "    </tr>\n",
       "  </tbody>\n",
       "</table>\n",
       "</div>"
      ],
      "text/plain": [
       "                       ml_m      ml_l\n",
       "GRE Score          0.445866  0.450488\n",
       "TOEFL Score        0.386038  0.216720\n",
       "University Rating  0.045223  0.092789\n",
       "SOP                0.057816  0.118835\n",
       "LOR                0.065057  0.121167"
      ]
     },
     "execution_count": 17,
     "metadata": {},
     "output_type": "execute_result"
    }
   ],
   "source": [
    "get_avg_feature_importances('CGPA')"
   ]
  },
  {
   "cell_type": "code",
   "execution_count": null,
   "id": "1728ab0e-8635-4578-ae0a-a209f13d90dc",
   "metadata": {},
   "outputs": [],
   "source": []
  }
 ],
 "metadata": {
  "kernelspec": {
   "display_name": "Python 3 (ipykernel)",
   "language": "python",
   "name": "python3"
  },
  "language_info": {
   "codemirror_mode": {
    "name": "ipython",
    "version": 3
   },
   "file_extension": ".py",
   "mimetype": "text/x-python",
   "name": "python",
   "nbconvert_exporter": "python",
   "pygments_lexer": "ipython3",
   "version": "3.11.5"
  }
 },
 "nbformat": 4,
 "nbformat_minor": 5
}
