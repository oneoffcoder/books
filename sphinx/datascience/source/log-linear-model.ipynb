{
 "cells": [
  {
   "cell_type": "markdown",
   "id": "a36943b0-6bcc-49b3-887a-8ece5980a113",
   "metadata": {},
   "source": [
    "# Log-linear Models for Three-way Tables\n",
    "\n",
    "Log-linear modeling is a type of analysis to understand the association between categorical variables. This approach uses regression to achieve its objective. However, the use of log-linear modeling is often multi-step, requires the production and comparison of many models and necessitates reflection on the tradeoff between goodness-of-fit `GoF` and model parsimony, degrees-of-freedom `DoF`. Log-linear modeling differs from logistic or multinomial regression in that the latter will typically pick one of the categorical variables to be the dependent variable (conditional distribution of the dependent variable given the independent variables); in log-linear models, the dependent variable comes from the counts of the contingency table induced by the variables (joint distribution). As such, a very good way to understand log-linear modeling is to understand contingency tables. \n",
    "\n",
    "In a three-way contingency table, we have 3 categorical variables, denoted as `A`, `B` and `C` and whose levels (values) are indexed as `i`, `j` and `k`, correspondingly. The log of expected count $\\mu_{ijk}$ is in a linear relationship to A, B and C in a finite number of ways, one of which is `optimal` and what we are trying to find using log-linear modeling. Here are some ways that $\\mu_{ijk}$ may be related to A, B and C. (Remember that $\\mu_{ijk}$ is the product of the corresponding marginals divided by the total).\n",
    "\n",
    "- independence: A, B and C are all independent, denoted as `(A, B, C)`\n",
    "  - $\\log{\\mu_{ijk}} = \\lambda + \\lambda_i^A + \\lambda_j^B + \\lambda_k^C$\n",
    "- joint independence: AB are jointly independent of C `(AB, C)`; AC are jointly independent of B `(AC, B)`; BC are jointly independent of A `(BC, A)`\n",
    "  - $\\log{\\mu_{ijk}} = \\lambda + \\lambda_i^A + \\lambda_j^B + \\lambda_k^C + \\lambda_{jk}^{AB}$\n",
    "  - $\\log{\\mu_{ijk}} = \\lambda + \\lambda_i^A + \\lambda_j^B + \\lambda_k^C + \\lambda_{jk}^{AC}$\n",
    "  - $\\log{\\mu_{ijk}} = \\lambda + \\lambda_i^A + \\lambda_j^B + \\lambda_k^C + \\lambda_{jk}^{BC}$\n",
    "- conditional independence: A and B are independent given C `(AC, BC)`; A and C are independent given B `(AB, BC)`; B and C are independent give A `(AB, AC)`\n",
    "  - $\\log{\\mu_{ijk}} = \\lambda + \\lambda_i^A + \\lambda_j^B + \\lambda_k^C + \\lambda_{ik}^{AC} + \\lambda_{jk}^{BC}$\n",
    "  - $\\log{\\mu_{ijk}} = \\lambda + \\lambda_i^A + \\lambda_j^B + \\lambda_k^C + \\lambda_{ij}^{AB} + \\lambda_{jk}^{BC}$\n",
    "  - $\\log{\\mu_{ijk}} = \\lambda + \\lambda_i^A + \\lambda_j^B + \\lambda_k^C + \\lambda_{ij}^{AB} + \\lambda_{ik}^{AC}$\n",
    "- homogeneous association: there is no three way interaction `(AB, AC, BC)`\n",
    "  - $\\log{\\mu_{ijk}} = \\lambda + \\lambda_i^A + \\lambda_j^B + \\lambda_k^C + \\lambda_{ij}^{AB} + \\lambda_{ik}^{AC} + \\lambda_{jk}^{BC}$\n",
    "- saturated: there are main, pairwise and three-way effects `(ABC)`\n",
    "  - $\\log{\\mu_{ijk}} = \\lambda + \\lambda_i^A + \\lambda_j^B + \\lambda_k^C + \\lambda_{ij}^{AB} + \\lambda_{ik}^{AC} + \\lambda_{jk}^{BC} + \\lambda_{ijk}^{ABC}$\n",
    "  \n",
    "Each of these models will have a `DoF` and `GoF` associated with them. The `GoF` can be the log-likelihood of the model (higher is better) or the deviance $G^2$ (lower is better). If we wanted to know the association between A, B and C, we can start from the independence model and move forward towards the saturated model (adding terms), or, we can start from the saturated model and move backward towards the independence model (remove terms). What is removed or added depends on how the `GoF` and `DoF` changes; we must strike a balance between `GoF` and model parsimony. We typically compare models using a likelihood ratio test based on $G^2$.\n",
    "\n",
    "Lastly, the log-linear models above have graphical representation. Each log-linear model above asserts associations between the three variables."
   ]
  },
  {
   "cell_type": "markdown",
   "id": "c34c9613-f39c-452f-ba83-29a32a3da6bc",
   "metadata": {},
   "source": [
    "## Load data\n",
    "\n",
    "This data is about Berkely admissions. There are 3 categorical variables.\n",
    "\n",
    "- `A`: admission\n",
    "- `B`: sex\n",
    "- `C`: department"
   ]
  },
  {
   "cell_type": "code",
   "execution_count": 1,
   "id": "0667c083-d7f4-4e87-951d-a0157d61f37b",
   "metadata": {
    "tags": []
   },
   "outputs": [
    {
     "data": {
      "text/plain": [
       "(24, 4)"
      ]
     },
     "execution_count": 1,
     "metadata": {},
     "output_type": "execute_result"
    }
   ],
   "source": [
    "import pandas as pd\n",
    "\n",
    "df = pd.read_csv('./data/berkeley-admission.csv')\n",
    "df.shape"
   ]
  },
  {
   "cell_type": "markdown",
   "id": "96855951-534e-4772-ad58-f23e10f7d6c5",
   "metadata": {},
   "source": [
    "The three-way contingency table looks like the following."
   ]
  },
  {
   "cell_type": "code",
   "execution_count": 2,
   "id": "f8949f09-bfb6-4e2b-b0af-dea977333368",
   "metadata": {
    "tags": []
   },
   "outputs": [
    {
     "data": {
      "text/html": [
       "<div>\n",
       "<style scoped>\n",
       "    .dataframe tbody tr th:only-of-type {\n",
       "        vertical-align: middle;\n",
       "    }\n",
       "\n",
       "    .dataframe tbody tr th {\n",
       "        vertical-align: top;\n",
       "    }\n",
       "\n",
       "    .dataframe thead tr th {\n",
       "        text-align: left;\n",
       "    }\n",
       "\n",
       "    .dataframe thead tr:last-of-type th {\n",
       "        text-align: right;\n",
       "    }\n",
       "</style>\n",
       "<table border=\"1\" class=\"dataframe\">\n",
       "  <thead>\n",
       "    <tr>\n",
       "      <th>sex</th>\n",
       "      <th colspan=\"2\" halign=\"left\">Female</th>\n",
       "      <th colspan=\"2\" halign=\"left\">Male</th>\n",
       "    </tr>\n",
       "    <tr>\n",
       "      <th>admission</th>\n",
       "      <th>Admitted</th>\n",
       "      <th>Rejected</th>\n",
       "      <th>Admitted</th>\n",
       "      <th>Rejected</th>\n",
       "    </tr>\n",
       "    <tr>\n",
       "      <th>department</th>\n",
       "      <th></th>\n",
       "      <th></th>\n",
       "      <th></th>\n",
       "      <th></th>\n",
       "    </tr>\n",
       "  </thead>\n",
       "  <tbody>\n",
       "    <tr>\n",
       "      <th>A</th>\n",
       "      <td>89</td>\n",
       "      <td>19</td>\n",
       "      <td>512</td>\n",
       "      <td>313</td>\n",
       "    </tr>\n",
       "    <tr>\n",
       "      <th>B</th>\n",
       "      <td>17</td>\n",
       "      <td>8</td>\n",
       "      <td>353</td>\n",
       "      <td>207</td>\n",
       "    </tr>\n",
       "    <tr>\n",
       "      <th>C</th>\n",
       "      <td>202</td>\n",
       "      <td>391</td>\n",
       "      <td>120</td>\n",
       "      <td>205</td>\n",
       "    </tr>\n",
       "    <tr>\n",
       "      <th>D</th>\n",
       "      <td>131</td>\n",
       "      <td>244</td>\n",
       "      <td>139</td>\n",
       "      <td>279</td>\n",
       "    </tr>\n",
       "    <tr>\n",
       "      <th>E</th>\n",
       "      <td>94</td>\n",
       "      <td>299</td>\n",
       "      <td>53</td>\n",
       "      <td>138</td>\n",
       "    </tr>\n",
       "    <tr>\n",
       "      <th>F</th>\n",
       "      <td>24</td>\n",
       "      <td>317</td>\n",
       "      <td>22</td>\n",
       "      <td>351</td>\n",
       "    </tr>\n",
       "  </tbody>\n",
       "</table>\n",
       "</div>"
      ],
      "text/plain": [
       "sex          Female              Male         \n",
       "admission  Admitted Rejected Admitted Rejected\n",
       "department                                    \n",
       "A                89       19      512      313\n",
       "B                17        8      353      207\n",
       "C               202      391      120      205\n",
       "D               131      244      139      279\n",
       "E                94      299       53      138\n",
       "F                24      317       22      351"
      ]
     },
     "execution_count": 2,
     "metadata": {},
     "output_type": "execute_result"
    }
   ],
   "source": [
    "pd.crosstab(df['department'], [df['sex'], df['admission']], values=df['n'], aggfunc=lambda x: x)"
   ]
  },
  {
   "cell_type": "markdown",
   "id": "dac49e3b-3cd3-47c6-9321-e8938cd98e8d",
   "metadata": {},
   "source": [
    "We will use log-linear models to understand the relationship between these three variables."
   ]
  },
  {
   "cell_type": "markdown",
   "id": "90d35562-a9d7-47c3-b40b-815d03800e6a",
   "metadata": {},
   "source": [
    "## Complete independence model (A, B, C)\n",
    "\n",
    "$\\log{\\mu_{ijk}} = \\lambda + \\lambda_i^A + \\lambda_j^B + \\lambda_k^C$"
   ]
  },
  {
   "cell_type": "code",
   "execution_count": 3,
   "id": "28c03996-51c6-440a-8d88-7c0864f60e96",
   "metadata": {},
   "outputs": [
    {
     "data": {
      "image/png": "[encoded data removed]",
      "text/plain": [
       "<Figure size 360x360 with 1 Axes>"
      ]
     },
     "metadata": {},
     "output_type": "display_data"
    }
   ],
   "source": [
    "import networkx as nx\n",
    "import matplotlib.pyplot as plt\n",
    "\n",
    "plt.style.use('ggplot')\n",
    "\n",
    "def draw_graph(g):\n",
    "    fig, ax = plt.subplots(figsize=(5, 5))\n",
    "    \n",
    "    pos = {\n",
    "        'A': (200, 250),\n",
    "        'B': (150, 230),\n",
    "        'C': (250, 230)\n",
    "    }\n",
    "    \n",
    "    params = {\n",
    "        'node_color': 'r',\n",
    "        'node_size': 350,\n",
    "        'node_shape': 's',\n",
    "        'alpha': 0.5,\n",
    "        'pos': pos,\n",
    "        'ax': ax\n",
    "    }\n",
    "    _ = nx.drawing.nx_pylab.draw_networkx_nodes(g, **params)\n",
    "    \n",
    "    params = {\n",
    "        'font_size': 15,\n",
    "        'font_color': 'k',\n",
    "        'font_family': 'monospace',\n",
    "        'pos': pos,\n",
    "        'ax': ax\n",
    "    }\n",
    "    _ = nx.drawing.nx_pylab.draw_networkx_labels(g, **params)\n",
    "    \n",
    "    params = {\n",
    "        'width': 1.5,\n",
    "        'alpha': 0.5,\n",
    "        'edge_color': 'b',\n",
    "        'arrowsize': 20,\n",
    "        'pos': pos,\n",
    "        'ax': ax\n",
    "    }\n",
    "    _ = nx.drawing.nx_pylab.draw_networkx_edges(g, **params)\n",
    "    \n",
    "    \n",
    "g = nx.Graph()\n",
    "g.add_node('A')\n",
    "g.add_node('B')\n",
    "g.add_node('C')\n",
    "\n",
    "draw_graph(g)"
   ]
  },
  {
   "cell_type": "code",
   "execution_count": 4,
   "id": "31d53802-05ea-4cfd-9544-d6a0ad6663db",
   "metadata": {},
   "outputs": [
    {
     "data": {
      "text/html": [
       "<table class=\"simpletable\">\n",
       "<caption>Generalized Linear Model Regression Results</caption>\n",
       "<tr>\n",
       "  <th>Dep. Variable:</th>           <td>n</td>        <th>  No. Observations:  </th>  <td>    24</td> \n",
       "</tr>\n",
       "<tr>\n",
       "  <th>Model:</th>                  <td>GLM</td>       <th>  Df Residuals:      </th>  <td>    16</td> \n",
       "</tr>\n",
       "<tr>\n",
       "  <th>Model Family:</th>         <td>Poisson</td>     <th>  Df Model:          </th>  <td>     7</td> \n",
       "</tr>\n",
       "<tr>\n",
       "  <th>Link Function:</th>          <td>log</td>       <th>  Scale:             </th> <td>  1.0000</td>\n",
       "</tr>\n",
       "<tr>\n",
       "  <th>Method:</th>                <td>IRLS</td>       <th>  Log-Likelihood:    </th> <td> -1128.1</td>\n",
       "</tr>\n",
       "<tr>\n",
       "  <th>Date:</th>            <td>Tue, 08 Mar 2022</td> <th>  Deviance:          </th> <td>  2097.1</td>\n",
       "</tr>\n",
       "<tr>\n",
       "  <th>Time:</th>                <td>19:07:02</td>     <th>  Pearson chi2:      </th> <td>2.00e+03</td>\n",
       "</tr>\n",
       "<tr>\n",
       "  <th>No. Iterations:</th>          <td>5</td>        <th>                     </th>     <td> </td>   \n",
       "</tr>\n",
       "<tr>\n",
       "  <th>Covariance Type:</th>     <td>nonrobust</td>    <th>                     </th>     <td> </td>   \n",
       "</tr>\n",
       "</table>\n",
       "<table class=\"simpletable\">\n",
       "<tr>\n",
       "                     <td></td>                       <th>coef</th>     <th>std err</th>      <th>z</th>      <th>P>|z|</th>  <th>[0.025</th>    <th>0.975]</th>  \n",
       "</tr>\n",
       "<tr>\n",
       "  <th>Intercept</th>                              <td>    4.7208</td> <td>    0.046</td> <td>  103.681</td> <td> 0.000</td> <td>    4.632</td> <td>    4.810</td>\n",
       "</tr>\n",
       "<tr>\n",
       "  <th>admission[T.Rejected]</th>                  <td>    0.4562</td> <td>    0.031</td> <td>   14.956</td> <td> 0.000</td> <td>    0.396</td> <td>    0.516</td>\n",
       "</tr>\n",
       "<tr>\n",
       "  <th>sex[T.Male]</th>                            <td>    0.3832</td> <td>    0.030</td> <td>   12.660</td> <td> 0.000</td> <td>    0.324</td> <td>    0.443</td>\n",
       "</tr>\n",
       "<tr>\n",
       "  <th>C(department, levels=dept_levels)[T.A]</th> <td>    0.2675</td> <td>    0.050</td> <td>    5.380</td> <td> 0.000</td> <td>    0.170</td> <td>    0.365</td>\n",
       "</tr>\n",
       "<tr>\n",
       "  <th>C(department, levels=dept_levels)[T.B]</th> <td>   -0.1993</td> <td>    0.056</td> <td>   -3.573</td> <td> 0.000</td> <td>   -0.309</td> <td>   -0.090</td>\n",
       "</tr>\n",
       "<tr>\n",
       "  <th>C(department, levels=dept_levels)[T.C]</th> <td>    0.2513</td> <td>    0.050</td> <td>    5.036</td> <td> 0.000</td> <td>    0.154</td> <td>    0.349</td>\n",
       "</tr>\n",
       "<tr>\n",
       "  <th>C(department, levels=dept_levels)[T.D]</th> <td>    0.1049</td> <td>    0.052</td> <td>    2.034</td> <td> 0.042</td> <td>    0.004</td> <td>    0.206</td>\n",
       "</tr>\n",
       "<tr>\n",
       "  <th>C(department, levels=dept_levels)[T.E]</th> <td>   -0.2010</td> <td>    0.056</td> <td>   -3.602</td> <td> 0.000</td> <td>   -0.310</td> <td>   -0.092</td>\n",
       "</tr>\n",
       "</table>"
      ],
      "text/plain": [
       "<class 'statsmodels.iolib.summary.Summary'>\n",
       "\"\"\"\n",
       "                 Generalized Linear Model Regression Results                  \n",
       "==============================================================================\n",
       "Dep. Variable:                      n   No. Observations:                   24\n",
       "Model:                            GLM   Df Residuals:                       16\n",
       "Model Family:                 Poisson   Df Model:                            7\n",
       "Link Function:                    log   Scale:                          1.0000\n",
       "Method:                          IRLS   Log-Likelihood:                -1128.1\n",
       "Date:                Tue, 08 Mar 2022   Deviance:                       2097.1\n",
       "Time:                        19:07:02   Pearson chi2:                 2.00e+03\n",
       "No. Iterations:                     5                                         \n",
       "Covariance Type:            nonrobust                                         \n",
       "==========================================================================================================\n",
       "                                             coef    std err          z      P>|z|      [0.025      0.975]\n",
       "----------------------------------------------------------------------------------------------------------\n",
       "Intercept                                  4.7208      0.046    103.681      0.000       4.632       4.810\n",
       "admission[T.Rejected]                      0.4562      0.031     14.956      0.000       0.396       0.516\n",
       "sex[T.Male]                                0.3832      0.030     12.660      0.000       0.324       0.443\n",
       "C(department, levels=dept_levels)[T.A]     0.2675      0.050      5.380      0.000       0.170       0.365\n",
       "C(department, levels=dept_levels)[T.B]    -0.1993      0.056     -3.573      0.000      -0.309      -0.090\n",
       "C(department, levels=dept_levels)[T.C]     0.2513      0.050      5.036      0.000       0.154       0.349\n",
       "C(department, levels=dept_levels)[T.D]     0.1049      0.052      2.034      0.042       0.004       0.206\n",
       "C(department, levels=dept_levels)[T.E]    -0.2010      0.056     -3.602      0.000      -0.310      -0.092\n",
       "==========================================================================================================\n",
       "\"\"\""
      ]
     },
     "execution_count": 4,
     "metadata": {},
     "output_type": "execute_result"
    }
   ],
   "source": [
    "from patsy import dmatrices\n",
    "import statsmodels.api as sm\n",
    "\n",
    "dept_levels = ['F', 'A', 'B', 'C', 'D', 'E']\n",
    "\n",
    "y, X = dmatrices('n ~ admission + sex + C(department, levels=dept_levels)', df, return_type='dataframe')\n",
    "sm.GLM(y, X, family=sm.families.Poisson()).fit().summary()"
   ]
  },
  {
   "cell_type": "markdown",
   "id": "a5df4fa2-ca5e-4a32-84a3-3721c3e1d79a",
   "metadata": {},
   "source": [
    "## Joint independence"
   ]
  },
  {
   "cell_type": "markdown",
   "id": "e64215af-bf50-4292-8a68-d4594d86bddc",
   "metadata": {
    "execution": {
     "iopub.execute_input": "2022-03-08T17:54:37.184403Z",
     "iopub.status.busy": "2022-03-08T17:54:37.184403Z",
     "iopub.status.idle": "2022-03-08T17:54:37.188407Z",
     "shell.execute_reply": "2022-03-08T17:54:37.188407Z",
     "shell.execute_reply.started": "2022-03-08T17:54:37.184403Z"
    }
   },
   "source": [
    "### (A, BC)\n",
    "$\\log{\\mu_{ijk}} = \\lambda + \\lambda_i^A + \\lambda_j^B + \\lambda_k^C + \\lambda_{jk}^{BC}$"
   ]
  },
  {
   "cell_type": "code",
   "execution_count": 5,
   "id": "967659b8-27ec-47a8-8f7a-523bccb08a34",
   "metadata": {},
   "outputs": [
    {
     "data": {
      "image/png": "[encoded data removed]",
      "text/plain": [
       "<Figure size 360x360 with 1 Axes>"
      ]
     },
     "metadata": {},
     "output_type": "display_data"
    }
   ],
   "source": [
    "g = nx.Graph()\n",
    "g.add_node('A')\n",
    "g.add_node('B')\n",
    "g.add_node('C')\n",
    "g.add_edge('B', 'C')\n",
    "\n",
    "draw_graph(g)"
   ]
  },
  {
   "cell_type": "code",
   "execution_count": 6,
   "id": "abe66101-86d2-4ae5-94e0-a1383713218e",
   "metadata": {},
   "outputs": [
    {
     "data": {
      "text/html": [
       "<table class=\"simpletable\">\n",
       "<caption>Generalized Linear Model Regression Results</caption>\n",
       "<tr>\n",
       "  <th>Dep. Variable:</th>           <td>n</td>        <th>  No. Observations:  </th>  <td>    24</td> \n",
       "</tr>\n",
       "<tr>\n",
       "  <th>Model:</th>                  <td>GLM</td>       <th>  Df Residuals:      </th>  <td>    11</td> \n",
       "</tr>\n",
       "<tr>\n",
       "  <th>Model Family:</th>         <td>Poisson</td>     <th>  Df Model:          </th>  <td>    12</td> \n",
       "</tr>\n",
       "<tr>\n",
       "  <th>Link Function:</th>          <td>log</td>       <th>  Scale:             </th> <td>  1.0000</td>\n",
       "</tr>\n",
       "<tr>\n",
       "  <th>Method:</th>                <td>IRLS</td>       <th>  Log-Likelihood:    </th> <td> -517.91</td>\n",
       "</tr>\n",
       "<tr>\n",
       "  <th>Date:</th>            <td>Tue, 08 Mar 2022</td> <th>  Deviance:          </th> <td>  876.74</td>\n",
       "</tr>\n",
       "<tr>\n",
       "  <th>Time:</th>                <td>19:07:02</td>     <th>  Pearson chi2:      </th>  <td>  797.</td> \n",
       "</tr>\n",
       "<tr>\n",
       "  <th>No. Iterations:</th>          <td>7</td>        <th>                     </th>     <td> </td>   \n",
       "</tr>\n",
       "<tr>\n",
       "  <th>Covariance Type:</th>     <td>nonrobust</td>    <th>                     </th>     <td> </td>   \n",
       "</tr>\n",
       "</table>\n",
       "<table class=\"simpletable\">\n",
       "<tr>\n",
       "                           <td></td>                             <th>coef</th>     <th>std err</th>      <th>z</th>      <th>P>|z|</th>  <th>[0.025</th>    <th>0.975]</th>  \n",
       "</tr>\n",
       "<tr>\n",
       "  <th>Intercept</th>                                          <td>    4.8849</td> <td>    0.057</td> <td>   85.279</td> <td> 0.000</td> <td>    4.773</td> <td>    4.997</td>\n",
       "</tr>\n",
       "<tr>\n",
       "  <th>admission[T.Rejected]</th>                              <td>    0.4562</td> <td>    0.031</td> <td>   14.956</td> <td> 0.000</td> <td>    0.396</td> <td>    0.516</td>\n",
       "</tr>\n",
       "<tr>\n",
       "  <th>sex[T.Male]</th>                                        <td>    0.0897</td> <td>    0.075</td> <td>    1.197</td> <td> 0.231</td> <td>   -0.057</td> <td>    0.237</td>\n",
       "</tr>\n",
       "<tr>\n",
       "  <th>C(department, levels=dept_levels)[T.A]</th>             <td>   -1.1498</td> <td>    0.110</td> <td>  -10.413</td> <td> 0.000</td> <td>   -1.366</td> <td>   -0.933</td>\n",
       "</tr>\n",
       "<tr>\n",
       "  <th>C(department, levels=dept_levels)[T.B]</th>             <td>   -2.6130</td> <td>    0.207</td> <td>  -12.611</td> <td> 0.000</td> <td>   -3.019</td> <td>   -2.207</td>\n",
       "</tr>\n",
       "<tr>\n",
       "  <th>C(department, levels=dept_levels)[T.C]</th>             <td>    0.5533</td> <td>    0.068</td> <td>    8.141</td> <td> 0.000</td> <td>    0.420</td> <td>    0.687</td>\n",
       "</tr>\n",
       "<tr>\n",
       "  <th>C(department, levels=dept_levels)[T.D]</th>             <td>    0.0950</td> <td>    0.075</td> <td>    1.270</td> <td> 0.204</td> <td>   -0.052</td> <td>    0.242</td>\n",
       "</tr>\n",
       "<tr>\n",
       "  <th>C(department, levels=dept_levels)[T.E]</th>             <td>    0.1419</td> <td>    0.074</td> <td>    1.918</td> <td> 0.055</td> <td>   -0.003</td> <td>    0.287</td>\n",
       "</tr>\n",
       "<tr>\n",
       "  <th>sex[T.Male]:C(department, levels=dept_levels)[T.A]</th> <td>    1.9436</td> <td>    0.127</td> <td>   15.325</td> <td> 0.000</td> <td>    1.695</td> <td>    2.192</td>\n",
       "</tr>\n",
       "<tr>\n",
       "  <th>sex[T.Male]:C(department, levels=dept_levels)[T.B]</th> <td>    3.0194</td> <td>    0.218</td> <td>   13.869</td> <td> 0.000</td> <td>    2.593</td> <td>    3.446</td>\n",
       "</tr>\n",
       "<tr>\n",
       "  <th>sex[T.Male]:C(department, levels=dept_levels)[T.C]</th> <td>   -0.6911</td> <td>    0.102</td> <td>   -6.784</td> <td> 0.000</td> <td>   -0.891</td> <td>   -0.491</td>\n",
       "</tr>\n",
       "<tr>\n",
       "  <th>sex[T.Male]:C(department, levels=dept_levels)[T.D]</th> <td>    0.0189</td> <td>    0.103</td> <td>    0.183</td> <td> 0.855</td> <td>   -0.184</td> <td>    0.221</td>\n",
       "</tr>\n",
       "<tr>\n",
       "  <th>sex[T.Male]:C(department, levels=dept_levels)[T.E]</th> <td>   -0.8112</td> <td>    0.116</td> <td>   -7.010</td> <td> 0.000</td> <td>   -1.038</td> <td>   -0.584</td>\n",
       "</tr>\n",
       "</table>"
      ],
      "text/plain": [
       "<class 'statsmodels.iolib.summary.Summary'>\n",
       "\"\"\"\n",
       "                 Generalized Linear Model Regression Results                  \n",
       "==============================================================================\n",
       "Dep. Variable:                      n   No. Observations:                   24\n",
       "Model:                            GLM   Df Residuals:                       11\n",
       "Model Family:                 Poisson   Df Model:                           12\n",
       "Link Function:                    log   Scale:                          1.0000\n",
       "Method:                          IRLS   Log-Likelihood:                -517.91\n",
       "Date:                Tue, 08 Mar 2022   Deviance:                       876.74\n",
       "Time:                        19:07:02   Pearson chi2:                     797.\n",
       "No. Iterations:                     7                                         \n",
       "Covariance Type:            nonrobust                                         \n",
       "======================================================================================================================\n",
       "                                                         coef    std err          z      P>|z|      [0.025      0.975]\n",
       "----------------------------------------------------------------------------------------------------------------------\n",
       "Intercept                                              4.8849      0.057     85.279      0.000       4.773       4.997\n",
       "admission[T.Rejected]                                  0.4562      0.031     14.956      0.000       0.396       0.516\n",
       "sex[T.Male]                                            0.0897      0.075      1.197      0.231      -0.057       0.237\n",
       "C(department, levels=dept_levels)[T.A]                -1.1498      0.110    -10.413      0.000      -1.366      -0.933\n",
       "C(department, levels=dept_levels)[T.B]                -2.6130      0.207    -12.611      0.000      -3.019      -2.207\n",
       "C(department, levels=dept_levels)[T.C]                 0.5533      0.068      8.141      0.000       0.420       0.687\n",
       "C(department, levels=dept_levels)[T.D]                 0.0950      0.075      1.270      0.204      -0.052       0.242\n",
       "C(department, levels=dept_levels)[T.E]                 0.1419      0.074      1.918      0.055      -0.003       0.287\n",
       "sex[T.Male]:C(department, levels=dept_levels)[T.A]     1.9436      0.127     15.325      0.000       1.695       2.192\n",
       "sex[T.Male]:C(department, levels=dept_levels)[T.B]     3.0194      0.218     13.869      0.000       2.593       3.446\n",
       "sex[T.Male]:C(department, levels=dept_levels)[T.C]    -0.6911      0.102     -6.784      0.000      -0.891      -0.491\n",
       "sex[T.Male]:C(department, levels=dept_levels)[T.D]     0.0189      0.103      0.183      0.855      -0.184       0.221\n",
       "sex[T.Male]:C(department, levels=dept_levels)[T.E]    -0.8112      0.116     -7.010      0.000      -1.038      -0.584\n",
       "======================================================================================================================\n",
       "\"\"\""
      ]
     },
     "execution_count": 6,
     "metadata": {},
     "output_type": "execute_result"
    }
   ],
   "source": [
    "y, X = dmatrices('n ~ admission + sex + C(department, levels=dept_levels) + sex * C(department, levels=dept_levels)', df, return_type='dataframe')\n",
    "sm.GLM(y, X, family=sm.families.Poisson()).fit().summary()"
   ]
  },
  {
   "cell_type": "markdown",
   "id": "c82aed8f-0674-412c-b8d5-86ec6c687dfb",
   "metadata": {},
   "source": [
    "### (B, AC)\n",
    "\n",
    "$\\log{\\mu_{ijk}} = \\lambda + \\lambda_i^A + \\lambda_j^B + \\lambda_k^C + \\lambda_{ik}^{AC}$"
   ]
  },
  {
   "cell_type": "code",
   "execution_count": 7,
   "id": "b2d414e9-9fd6-4bef-9431-1831041cc91d",
   "metadata": {},
   "outputs": [
    {
     "data": {
      "image/png": "[encoded data removed]",
      "text/plain": [
       "<Figure size 360x360 with 1 Axes>"
      ]
     },
     "metadata": {},
     "output_type": "display_data"
    }
   ],
   "source": [
    "g = nx.Graph()\n",
    "g.add_node('A')\n",
    "g.add_node('B')\n",
    "g.add_node('C')\n",
    "g.add_edge('A', 'C')\n",
    "\n",
    "draw_graph(g)"
   ]
  },
  {
   "cell_type": "code",
   "execution_count": 8,
   "id": "47f436f3-dc64-41e6-a80e-f34e52f5d863",
   "metadata": {},
   "outputs": [
    {
     "data": {
      "text/html": [
       "<table class=\"simpletable\">\n",
       "<caption>Generalized Linear Model Regression Results</caption>\n",
       "<tr>\n",
       "  <th>Dep. Variable:</th>           <td>n</td>        <th>  No. Observations:  </th>  <td>    24</td> \n",
       "</tr>\n",
       "<tr>\n",
       "  <th>Model:</th>                  <td>GLM</td>       <th>  Df Residuals:      </th>  <td>    11</td> \n",
       "</tr>\n",
       "<tr>\n",
       "  <th>Model Family:</th>         <td>Poisson</td>     <th>  Df Model:          </th>  <td>    12</td> \n",
       "</tr>\n",
       "<tr>\n",
       "  <th>Link Function:</th>          <td>log</td>       <th>  Scale:             </th> <td>  1.0000</td>\n",
       "</tr>\n",
       "<tr>\n",
       "  <th>Method:</th>                <td>IRLS</td>       <th>  Log-Likelihood:    </th> <td> -700.56</td>\n",
       "</tr>\n",
       "<tr>\n",
       "  <th>Date:</th>            <td>Tue, 08 Mar 2022</td> <th>  Deviance:          </th> <td>  1242.1</td>\n",
       "</tr>\n",
       "<tr>\n",
       "  <th>Time:</th>                <td>19:07:02</td>     <th>  Pearson chi2:      </th> <td>1.08e+03</td>\n",
       "</tr>\n",
       "<tr>\n",
       "  <th>No. Iterations:</th>          <td>6</td>        <th>                     </th>     <td> </td>   \n",
       "</tr>\n",
       "<tr>\n",
       "  <th>Covariance Type:</th>     <td>nonrobust</td>    <th>                     </th>     <td> </td>   \n",
       "</tr>\n",
       "</table>\n",
       "<table class=\"simpletable\">\n",
       "<tr>\n",
       "                                <td></td>                                  <th>coef</th>     <th>std err</th>      <th>z</th>      <th>P>|z|</th>  <th>[0.025</th>    <th>0.975]</th>  \n",
       "</tr>\n",
       "<tr>\n",
       "  <th>Intercept</th>                                                    <td>    2.9256</td> <td>    0.149</td> <td>   19.696</td> <td> 0.000</td> <td>    2.634</td> <td>    3.217</td>\n",
       "</tr>\n",
       "<tr>\n",
       "  <th>admission[T.Rejected]</th>                                        <td>    2.6756</td> <td>    0.152</td> <td>   17.553</td> <td> 0.000</td> <td>    2.377</td> <td>    2.974</td>\n",
       "</tr>\n",
       "<tr>\n",
       "  <th>sex[T.Male]</th>                                                  <td>    0.3832</td> <td>    0.030</td> <td>   12.660</td> <td> 0.000</td> <td>    0.324</td> <td>    0.443</td>\n",
       "</tr>\n",
       "<tr>\n",
       "  <th>C(department, levels=dept_levels)[T.A]</th>                       <td>    2.5700</td> <td>    0.153</td> <td>   16.799</td> <td> 0.000</td> <td>    2.270</td> <td>    2.870</td>\n",
       "</tr>\n",
       "<tr>\n",
       "  <th>C(department, levels=dept_levels)[T.B]</th>                       <td>    2.0849</td> <td>    0.156</td> <td>   13.336</td> <td> 0.000</td> <td>    1.778</td> <td>    2.391</td>\n",
       "</tr>\n",
       "<tr>\n",
       "  <th>C(department, levels=dept_levels)[T.C]</th>                       <td>    1.9459</td> <td>    0.158</td> <td>   12.345</td> <td> 0.000</td> <td>    1.637</td> <td>    2.255</td>\n",
       "</tr>\n",
       "<tr>\n",
       "  <th>C(department, levels=dept_levels)[T.D]</th>                       <td>    1.7698</td> <td>    0.160</td> <td>   11.095</td> <td> 0.000</td> <td>    1.457</td> <td>    2.082</td>\n",
       "</tr>\n",
       "<tr>\n",
       "  <th>C(department, levels=dept_levels)[T.E]</th>                       <td>    1.1618</td> <td>    0.169</td> <td>    6.877</td> <td> 0.000</td> <td>    0.831</td> <td>    1.493</td>\n",
       "</tr>\n",
       "<tr>\n",
       "  <th>admission[T.Rejected]:C(department, levels=dept_levels)[T.A]</th> <td>   -3.2691</td> <td>    0.167</td> <td>  -19.567</td> <td> 0.000</td> <td>   -3.597</td> <td>   -2.942</td>\n",
       "</tr>\n",
       "<tr>\n",
       "  <th>admission[T.Rejected]:C(department, levels=dept_levels)[T.B]</th> <td>   -3.2185</td> <td>    0.175</td> <td>  -18.402</td> <td> 0.000</td> <td>   -3.561</td> <td>   -2.876</td>\n",
       "</tr>\n",
       "<tr>\n",
       "  <th>admission[T.Rejected]:C(department, levels=dept_levels)[T.C]</th> <td>   -2.0600</td> <td>    0.167</td> <td>  -12.306</td> <td> 0.000</td> <td>   -2.388</td> <td>   -1.732</td>\n",
       "</tr>\n",
       "<tr>\n",
       "  <th>admission[T.Rejected]:C(department, levels=dept_levels)[T.D]</th> <td>   -2.0145</td> <td>    0.170</td> <td>  -11.860</td> <td> 0.000</td> <td>   -2.347</td> <td>   -1.682</td>\n",
       "</tr>\n",
       "<tr>\n",
       "  <th>admission[T.Rejected]:C(department, levels=dept_levels)[T.E]</th> <td>   -1.5861</td> <td>    0.180</td> <td>   -8.822</td> <td> 0.000</td> <td>   -1.939</td> <td>   -1.234</td>\n",
       "</tr>\n",
       "</table>"
      ],
      "text/plain": [
       "<class 'statsmodels.iolib.summary.Summary'>\n",
       "\"\"\"\n",
       "                 Generalized Linear Model Regression Results                  \n",
       "==============================================================================\n",
       "Dep. Variable:                      n   No. Observations:                   24\n",
       "Model:                            GLM   Df Residuals:                       11\n",
       "Model Family:                 Poisson   Df Model:                           12\n",
       "Link Function:                    log   Scale:                          1.0000\n",
       "Method:                          IRLS   Log-Likelihood:                -700.56\n",
       "Date:                Tue, 08 Mar 2022   Deviance:                       1242.1\n",
       "Time:                        19:07:02   Pearson chi2:                 1.08e+03\n",
       "No. Iterations:                     6                                         \n",
       "Covariance Type:            nonrobust                                         \n",
       "================================================================================================================================\n",
       "                                                                   coef    std err          z      P>|z|      [0.025      0.975]\n",
       "--------------------------------------------------------------------------------------------------------------------------------\n",
       "Intercept                                                        2.9256      0.149     19.696      0.000       2.634       3.217\n",
       "admission[T.Rejected]                                            2.6756      0.152     17.553      0.000       2.377       2.974\n",
       "sex[T.Male]                                                      0.3832      0.030     12.660      0.000       0.324       0.443\n",
       "C(department, levels=dept_levels)[T.A]                           2.5700      0.153     16.799      0.000       2.270       2.870\n",
       "C(department, levels=dept_levels)[T.B]                           2.0849      0.156     13.336      0.000       1.778       2.391\n",
       "C(department, levels=dept_levels)[T.C]                           1.9459      0.158     12.345      0.000       1.637       2.255\n",
       "C(department, levels=dept_levels)[T.D]                           1.7698      0.160     11.095      0.000       1.457       2.082\n",
       "C(department, levels=dept_levels)[T.E]                           1.1618      0.169      6.877      0.000       0.831       1.493\n",
       "admission[T.Rejected]:C(department, levels=dept_levels)[T.A]    -3.2691      0.167    -19.567      0.000      -3.597      -2.942\n",
       "admission[T.Rejected]:C(department, levels=dept_levels)[T.B]    -3.2185      0.175    -18.402      0.000      -3.561      -2.876\n",
       "admission[T.Rejected]:C(department, levels=dept_levels)[T.C]    -2.0600      0.167    -12.306      0.000      -2.388      -1.732\n",
       "admission[T.Rejected]:C(department, levels=dept_levels)[T.D]    -2.0145      0.170    -11.860      0.000      -2.347      -1.682\n",
       "admission[T.Rejected]:C(department, levels=dept_levels)[T.E]    -1.5861      0.180     -8.822      0.000      -1.939      -1.234\n",
       "================================================================================================================================\n",
       "\"\"\""
      ]
     },
     "execution_count": 8,
     "metadata": {},
     "output_type": "execute_result"
    }
   ],
   "source": [
    "y, X = dmatrices('n ~ admission + sex + C(department, levels=dept_levels) + admission * C(department, levels=dept_levels)', df, return_type='dataframe')\n",
    "sm.GLM(y, X, family=sm.families.Poisson()).fit().summary()"
   ]
  },
  {
   "cell_type": "markdown",
   "id": "8c2e87f7-1025-4db9-a0fc-ad0c686f1e88",
   "metadata": {},
   "source": [
    "### (C, AB)\n",
    "\n",
    "$\\log{\\mu_{ijk}} = \\lambda + \\lambda_i^A + \\lambda_j^B + \\lambda_k^C + \\lambda_{ij}^{AB}$"
   ]
  },
  {
   "cell_type": "code",
   "execution_count": 9,
   "id": "eefedcc0-bfa3-409d-b7f9-f8da339b5059",
   "metadata": {},
   "outputs": [
    {
     "data": {
      "image/png": "[encoded data removed]",
      "text/plain": [
       "<Figure size 360x360 with 1 Axes>"
      ]
     },
     "metadata": {},
     "output_type": "display_data"
    }
   ],
   "source": [
    "g = nx.Graph()\n",
    "g.add_node('A')\n",
    "g.add_node('B')\n",
    "g.add_node('C')\n",
    "g.add_edge('A', 'B')\n",
    "\n",
    "draw_graph(g)"
   ]
  },
  {
   "cell_type": "code",
   "execution_count": 10,
   "id": "019314d1-a768-43f7-89bb-b8271217d934",
   "metadata": {},
   "outputs": [
    {
     "data": {
      "text/html": [
       "<table class=\"simpletable\">\n",
       "<caption>Generalized Linear Model Regression Results</caption>\n",
       "<tr>\n",
       "  <th>Dep. Variable:</th>           <td>n</td>        <th>  No. Observations:  </th>  <td>    24</td> \n",
       "</tr>\n",
       "<tr>\n",
       "  <th>Model:</th>                  <td>GLM</td>       <th>  Df Residuals:      </th>  <td>    15</td> \n",
       "</tr>\n",
       "<tr>\n",
       "  <th>Model Family:</th>         <td>Poisson</td>     <th>  Df Model:          </th>  <td>     8</td> \n",
       "</tr>\n",
       "<tr>\n",
       "  <th>Link Function:</th>          <td>log</td>       <th>  Scale:             </th> <td>  1.0000</td>\n",
       "</tr>\n",
       "<tr>\n",
       "  <th>Method:</th>                <td>IRLS</td>       <th>  Log-Likelihood:    </th> <td> -1081.2</td>\n",
       "</tr>\n",
       "<tr>\n",
       "  <th>Date:</th>            <td>Tue, 08 Mar 2022</td> <th>  Deviance:          </th> <td>  2003.4</td>\n",
       "</tr>\n",
       "<tr>\n",
       "  <th>Time:</th>                <td>19:07:02</td>     <th>  Pearson chi2:      </th> <td>1.75e+03</td>\n",
       "</tr>\n",
       "<tr>\n",
       "  <th>No. Iterations:</th>          <td>5</td>        <th>                     </th>     <td> </td>   \n",
       "</tr>\n",
       "<tr>\n",
       "  <th>Covariance Type:</th>     <td>nonrobust</td>    <th>                     </th>     <td> </td>   \n",
       "</tr>\n",
       "</table>\n",
       "<table class=\"simpletable\">\n",
       "<tr>\n",
       "                     <td></td>                       <th>coef</th>     <th>std err</th>      <th>z</th>      <th>P>|z|</th>  <th>[0.025</th>    <th>0.975]</th>  \n",
       "</tr>\n",
       "<tr>\n",
       "  <th>Intercept</th>                              <td>    4.4756</td> <td>    0.055</td> <td>   82.056</td> <td> 0.000</td> <td>    4.369</td> <td>    4.583</td>\n",
       "</tr>\n",
       "<tr>\n",
       "  <th>admission[T.Rejected]</th>                  <td>    0.8305</td> <td>    0.051</td> <td>   16.357</td> <td> 0.000</td> <td>    0.731</td> <td>    0.930</td>\n",
       "</tr>\n",
       "<tr>\n",
       "  <th>sex[T.Male]</th>                            <td>    0.7667</td> <td>    0.051</td> <td>   14.952</td> <td> 0.000</td> <td>    0.666</td> <td>    0.867</td>\n",
       "</tr>\n",
       "<tr>\n",
       "  <th>C(department, levels=dept_levels)[T.A]</th> <td>    0.2675</td> <td>    0.050</td> <td>    5.380</td> <td> 0.000</td> <td>    0.170</td> <td>    0.365</td>\n",
       "</tr>\n",
       "<tr>\n",
       "  <th>C(department, levels=dept_levels)[T.B]</th> <td>   -0.1993</td> <td>    0.056</td> <td>   -3.573</td> <td> 0.000</td> <td>   -0.309</td> <td>   -0.090</td>\n",
       "</tr>\n",
       "<tr>\n",
       "  <th>C(department, levels=dept_levels)[T.C]</th> <td>    0.2513</td> <td>    0.050</td> <td>    5.036</td> <td> 0.000</td> <td>    0.154</td> <td>    0.349</td>\n",
       "</tr>\n",
       "<tr>\n",
       "  <th>C(department, levels=dept_levels)[T.D]</th> <td>    0.1049</td> <td>    0.052</td> <td>    2.034</td> <td> 0.042</td> <td>    0.004</td> <td>    0.206</td>\n",
       "</tr>\n",
       "<tr>\n",
       "  <th>C(department, levels=dept_levels)[T.E]</th> <td>   -0.2010</td> <td>    0.056</td> <td>   -3.602</td> <td> 0.000</td> <td>   -0.310</td> <td>   -0.092</td>\n",
       "</tr>\n",
       "<tr>\n",
       "  <th>admission[T.Rejected]:sex[T.Male]</th>      <td>   -0.6112</td> <td>    0.064</td> <td>   -9.567</td> <td> 0.000</td> <td>   -0.736</td> <td>   -0.486</td>\n",
       "</tr>\n",
       "</table>"
      ],
      "text/plain": [
       "<class 'statsmodels.iolib.summary.Summary'>\n",
       "\"\"\"\n",
       "                 Generalized Linear Model Regression Results                  \n",
       "==============================================================================\n",
       "Dep. Variable:                      n   No. Observations:                   24\n",
       "Model:                            GLM   Df Residuals:                       15\n",
       "Model Family:                 Poisson   Df Model:                            8\n",
       "Link Function:                    log   Scale:                          1.0000\n",
       "Method:                          IRLS   Log-Likelihood:                -1081.2\n",
       "Date:                Tue, 08 Mar 2022   Deviance:                       2003.4\n",
       "Time:                        19:07:02   Pearson chi2:                 1.75e+03\n",
       "No. Iterations:                     5                                         \n",
       "Covariance Type:            nonrobust                                         \n",
       "==========================================================================================================\n",
       "                                             coef    std err          z      P>|z|      [0.025      0.975]\n",
       "----------------------------------------------------------------------------------------------------------\n",
       "Intercept                                  4.4756      0.055     82.056      0.000       4.369       4.583\n",
       "admission[T.Rejected]                      0.8305      0.051     16.357      0.000       0.731       0.930\n",
       "sex[T.Male]                                0.7667      0.051     14.952      0.000       0.666       0.867\n",
       "C(department, levels=dept_levels)[T.A]     0.2675      0.050      5.380      0.000       0.170       0.365\n",
       "C(department, levels=dept_levels)[T.B]    -0.1993      0.056     -3.573      0.000      -0.309      -0.090\n",
       "C(department, levels=dept_levels)[T.C]     0.2513      0.050      5.036      0.000       0.154       0.349\n",
       "C(department, levels=dept_levels)[T.D]     0.1049      0.052      2.034      0.042       0.004       0.206\n",
       "C(department, levels=dept_levels)[T.E]    -0.2010      0.056     -3.602      0.000      -0.310      -0.092\n",
       "admission[T.Rejected]:sex[T.Male]         -0.6112      0.064     -9.567      0.000      -0.736      -0.486\n",
       "==========================================================================================================\n",
       "\"\"\""
      ]
     },
     "execution_count": 10,
     "metadata": {},
     "output_type": "execute_result"
    }
   ],
   "source": [
    "y, X = dmatrices('n ~ admission + sex + C(department, levels=dept_levels) + admission * sex', df, return_type='dataframe')\n",
    "sm.GLM(y, X, family=sm.families.Poisson()).fit().summary()"
   ]
  },
  {
   "cell_type": "markdown",
   "id": "157e23b7-f58c-43fc-93a2-596c51dd59be",
   "metadata": {},
   "source": [
    "## Conditional independence"
   ]
  },
  {
   "cell_type": "markdown",
   "id": "2e5a5501-6824-4219-8349-103086203178",
   "metadata": {},
   "source": [
    "### (AC, BC)\n",
    "\n",
    "$\\log{\\mu_{ijk}} = \\lambda + \\lambda_i^A + \\lambda_j^B + \\lambda_k^C + \\lambda_{ik}^{AC} + \\lambda_{jk}^{BC}$"
   ]
  },
  {
   "cell_type": "code",
   "execution_count": 11,
   "id": "7b975033-0812-4fa4-9bb2-dd39ca203058",
   "metadata": {},
   "outputs": [
    {
     "data": {
      "image/png": "[encoded data removed]",
      "text/plain": [
       "<Figure size 360x360 with 1 Axes>"
      ]
     },
     "metadata": {},
     "output_type": "display_data"
    }
   ],
   "source": [
    "g = nx.Graph()\n",
    "g.add_node('A')\n",
    "g.add_node('B')\n",
    "g.add_node('C')\n",
    "g.add_edge('A', 'C')\n",
    "g.add_edge('B', 'C')\n",
    "\n",
    "draw_graph(g)"
   ]
  },
  {
   "cell_type": "code",
   "execution_count": 12,
   "id": "a559ded4-16d9-4589-bd3a-70001212a082",
   "metadata": {
    "tags": []
   },
   "outputs": [
    {
     "data": {
      "text/html": [
       "<table class=\"simpletable\">\n",
       "<caption>Generalized Linear Model Regression Results</caption>\n",
       "<tr>\n",
       "  <th>Dep. Variable:</th>           <td>n</td>        <th>  No. Observations:  </th>  <td>    24</td> \n",
       "</tr>\n",
       "<tr>\n",
       "  <th>Model:</th>                  <td>GLM</td>       <th>  Df Residuals:      </th>  <td>     6</td> \n",
       "</tr>\n",
       "<tr>\n",
       "  <th>Model Family:</th>         <td>Poisson</td>     <th>  Df Model:          </th>  <td>    17</td> \n",
       "</tr>\n",
       "<tr>\n",
       "  <th>Link Function:</th>          <td>log</td>       <th>  Scale:             </th> <td>  1.0000</td>\n",
       "</tr>\n",
       "<tr>\n",
       "  <th>Method:</th>                <td>IRLS</td>       <th>  Log-Likelihood:    </th> <td> -90.376</td>\n",
       "</tr>\n",
       "<tr>\n",
       "  <th>Date:</th>            <td>Tue, 08 Mar 2022</td> <th>  Deviance:          </th> <td>  21.686</td>\n",
       "</tr>\n",
       "<tr>\n",
       "  <th>Time:</th>                <td>19:07:02</td>     <th>  Pearson chi2:      </th>  <td>  19.9</td> \n",
       "</tr>\n",
       "<tr>\n",
       "  <th>No. Iterations:</th>          <td>7</td>        <th>                     </th>     <td> </td>   \n",
       "</tr>\n",
       "<tr>\n",
       "  <th>Covariance Type:</th>     <td>nonrobust</td>    <th>                     </th>     <td> </td>   \n",
       "</tr>\n",
       "</table>\n",
       "<table class=\"simpletable\">\n",
       "<tr>\n",
       "                                <td></td>                                  <th>coef</th>     <th>std err</th>      <th>z</th>      <th>P>|z|</th>  <th>[0.025</th>    <th>0.975]</th>  \n",
       "</tr>\n",
       "<tr>\n",
       "  <th>Intercept</th>                                                    <td>    3.0896</td> <td>    0.153</td> <td>   20.253</td> <td> 0.000</td> <td>    2.791</td> <td>    3.389</td>\n",
       "</tr>\n",
       "<tr>\n",
       "  <th>admission[T.Rejected]</th>                                        <td>    2.6756</td> <td>    0.152</td> <td>   17.553</td> <td> 0.000</td> <td>    2.377</td> <td>    2.974</td>\n",
       "</tr>\n",
       "<tr>\n",
       "  <th>sex[T.Male]</th>                                                  <td>    0.0897</td> <td>    0.075</td> <td>    1.197</td> <td> 0.231</td> <td>   -0.057</td> <td>    0.237</td>\n",
       "</tr>\n",
       "<tr>\n",
       "  <th>C(department, levels=dept_levels)[T.A]</th>                       <td>    1.1527</td> <td>    0.182</td> <td>    6.334</td> <td> 0.000</td> <td>    0.796</td> <td>    1.509</td>\n",
       "</tr>\n",
       "<tr>\n",
       "  <th>C(department, levels=dept_levels)[T.B]</th>                       <td>   -0.3289</td> <td>    0.254</td> <td>   -1.297</td> <td> 0.195</td> <td>   -0.826</td> <td>    0.168</td>\n",
       "</tr>\n",
       "<tr>\n",
       "  <th>C(department, levels=dept_levels)[T.C]</th>                       <td>    2.2479</td> <td>    0.164</td> <td>   13.687</td> <td> 0.000</td> <td>    1.926</td> <td>    2.570</td>\n",
       "</tr>\n",
       "<tr>\n",
       "  <th>C(department, levels=dept_levels)[T.D]</th>                       <td>    1.7599</td> <td>    0.168</td> <td>   10.447</td> <td> 0.000</td> <td>    1.430</td> <td>    2.090</td>\n",
       "</tr>\n",
       "<tr>\n",
       "  <th>C(department, levels=dept_levels)[T.E]</th>                       <td>    1.5047</td> <td>    0.176</td> <td>    8.559</td> <td> 0.000</td> <td>    1.160</td> <td>    1.849</td>\n",
       "</tr>\n",
       "<tr>\n",
       "  <th>admission[T.Rejected]:C(department, levels=dept_levels)[T.A]</th> <td>   -3.2691</td> <td>    0.167</td> <td>  -19.567</td> <td> 0.000</td> <td>   -3.597</td> <td>   -2.942</td>\n",
       "</tr>\n",
       "<tr>\n",
       "  <th>admission[T.Rejected]:C(department, levels=dept_levels)[T.B]</th> <td>   -3.2185</td> <td>    0.175</td> <td>  -18.402</td> <td> 0.000</td> <td>   -3.561</td> <td>   -2.876</td>\n",
       "</tr>\n",
       "<tr>\n",
       "  <th>admission[T.Rejected]:C(department, levels=dept_levels)[T.C]</th> <td>   -2.0600</td> <td>    0.167</td> <td>  -12.306</td> <td> 0.000</td> <td>   -2.388</td> <td>   -1.732</td>\n",
       "</tr>\n",
       "<tr>\n",
       "  <th>admission[T.Rejected]:C(department, levels=dept_levels)[T.D]</th> <td>   -2.0145</td> <td>    0.170</td> <td>  -11.860</td> <td> 0.000</td> <td>   -2.347</td> <td>   -1.682</td>\n",
       "</tr>\n",
       "<tr>\n",
       "  <th>admission[T.Rejected]:C(department, levels=dept_levels)[T.E]</th> <td>   -1.5861</td> <td>    0.180</td> <td>   -8.822</td> <td> 0.000</td> <td>   -1.939</td> <td>   -1.234</td>\n",
       "</tr>\n",
       "<tr>\n",
       "  <th>sex[T.Male]:C(department, levels=dept_levels)[T.A]</th>           <td>    1.9436</td> <td>    0.127</td> <td>   15.325</td> <td> 0.000</td> <td>    1.695</td> <td>    2.192</td>\n",
       "</tr>\n",
       "<tr>\n",
       "  <th>sex[T.Male]:C(department, levels=dept_levels)[T.B]</th>           <td>    3.0194</td> <td>    0.218</td> <td>   13.869</td> <td> 0.000</td> <td>    2.593</td> <td>    3.446</td>\n",
       "</tr>\n",
       "<tr>\n",
       "  <th>sex[T.Male]:C(department, levels=dept_levels)[T.C]</th>           <td>   -0.6911</td> <td>    0.102</td> <td>   -6.784</td> <td> 0.000</td> <td>   -0.891</td> <td>   -0.491</td>\n",
       "</tr>\n",
       "<tr>\n",
       "  <th>sex[T.Male]:C(department, levels=dept_levels)[T.D]</th>           <td>    0.0189</td> <td>    0.103</td> <td>    0.183</td> <td> 0.855</td> <td>   -0.184</td> <td>    0.221</td>\n",
       "</tr>\n",
       "<tr>\n",
       "  <th>sex[T.Male]:C(department, levels=dept_levels)[T.E]</th>           <td>   -0.8112</td> <td>    0.116</td> <td>   -7.010</td> <td> 0.000</td> <td>   -1.038</td> <td>   -0.584</td>\n",
       "</tr>\n",
       "</table>"
      ],
      "text/plain": [
       "<class 'statsmodels.iolib.summary.Summary'>\n",
       "\"\"\"\n",
       "                 Generalized Linear Model Regression Results                  \n",
       "==============================================================================\n",
       "Dep. Variable:                      n   No. Observations:                   24\n",
       "Model:                            GLM   Df Residuals:                        6\n",
       "Model Family:                 Poisson   Df Model:                           17\n",
       "Link Function:                    log   Scale:                          1.0000\n",
       "Method:                          IRLS   Log-Likelihood:                -90.376\n",
       "Date:                Tue, 08 Mar 2022   Deviance:                       21.686\n",
       "Time:                        19:07:02   Pearson chi2:                     19.9\n",
       "No. Iterations:                     7                                         \n",
       "Covariance Type:            nonrobust                                         \n",
       "================================================================================================================================\n",
       "                                                                   coef    std err          z      P>|z|      [0.025      0.975]\n",
       "--------------------------------------------------------------------------------------------------------------------------------\n",
       "Intercept                                                        3.0896      0.153     20.253      0.000       2.791       3.389\n",
       "admission[T.Rejected]                                            2.6756      0.152     17.553      0.000       2.377       2.974\n",
       "sex[T.Male]                                                      0.0897      0.075      1.197      0.231      -0.057       0.237\n",
       "C(department, levels=dept_levels)[T.A]                           1.1527      0.182      6.334      0.000       0.796       1.509\n",
       "C(department, levels=dept_levels)[T.B]                          -0.3289      0.254     -1.297      0.195      -0.826       0.168\n",
       "C(department, levels=dept_levels)[T.C]                           2.2479      0.164     13.687      0.000       1.926       2.570\n",
       "C(department, levels=dept_levels)[T.D]                           1.7599      0.168     10.447      0.000       1.430       2.090\n",
       "C(department, levels=dept_levels)[T.E]                           1.5047      0.176      8.559      0.000       1.160       1.849\n",
       "admission[T.Rejected]:C(department, levels=dept_levels)[T.A]    -3.2691      0.167    -19.567      0.000      -3.597      -2.942\n",
       "admission[T.Rejected]:C(department, levels=dept_levels)[T.B]    -3.2185      0.175    -18.402      0.000      -3.561      -2.876\n",
       "admission[T.Rejected]:C(department, levels=dept_levels)[T.C]    -2.0600      0.167    -12.306      0.000      -2.388      -1.732\n",
       "admission[T.Rejected]:C(department, levels=dept_levels)[T.D]    -2.0145      0.170    -11.860      0.000      -2.347      -1.682\n",
       "admission[T.Rejected]:C(department, levels=dept_levels)[T.E]    -1.5861      0.180     -8.822      0.000      -1.939      -1.234\n",
       "sex[T.Male]:C(department, levels=dept_levels)[T.A]               1.9436      0.127     15.325      0.000       1.695       2.192\n",
       "sex[T.Male]:C(department, levels=dept_levels)[T.B]               3.0194      0.218     13.869      0.000       2.593       3.446\n",
       "sex[T.Male]:C(department, levels=dept_levels)[T.C]              -0.6911      0.102     -6.784      0.000      -0.891      -0.491\n",
       "sex[T.Male]:C(department, levels=dept_levels)[T.D]               0.0189      0.103      0.183      0.855      -0.184       0.221\n",
       "sex[T.Male]:C(department, levels=dept_levels)[T.E]              -0.8112      0.116     -7.010      0.000      -1.038      -0.584\n",
       "================================================================================================================================\n",
       "\"\"\""
      ]
     },
     "execution_count": 12,
     "metadata": {},
     "output_type": "execute_result"
    }
   ],
   "source": [
    "y, X = dmatrices('n ~ admission + sex + C(department, levels=dept_levels) + admission * C(department, levels=dept_levels) + sex * C(department, levels=dept_levels)', df, return_type='dataframe')\n",
    "sm.GLM(y, X, family=sm.families.Poisson()).fit().summary()"
   ]
  },
  {
   "cell_type": "markdown",
   "id": "6f2df4f4-49cf-4b1f-9020-aa0d0ed03d7c",
   "metadata": {},
   "source": [
    "### (AB, BC)\n",
    "\n",
    "$\\log{\\mu_{ijk}} = \\lambda + \\lambda_i^A + \\lambda_j^B + \\lambda_k^C + \\lambda_{ij}^{AB} + \\lambda_{jk}^{BC}$"
   ]
  },
  {
   "cell_type": "code",
   "execution_count": 13,
   "id": "d580a07c-5d7e-4564-8cdc-5dd0c73ab814",
   "metadata": {},
   "outputs": [
    {
     "data": {
      "image/png": "[encoded data removed]",
      "text/plain": [
       "<Figure size 360x360 with 1 Axes>"
      ]
     },
     "metadata": {},
     "output_type": "display_data"
    }
   ],
   "source": [
    "g = nx.Graph()\n",
    "g.add_node('A')\n",
    "g.add_node('B')\n",
    "g.add_node('C')\n",
    "g.add_edge('A', 'B')\n",
    "g.add_edge('B', 'C')\n",
    "\n",
    "draw_graph(g)"
   ]
  },
  {
   "cell_type": "code",
   "execution_count": 14,
   "id": "af10e50d-98a6-4218-8918-3c8817f35b98",
   "metadata": {},
   "outputs": [
    {
     "data": {
      "text/html": [
       "<table class=\"simpletable\">\n",
       "<caption>Generalized Linear Model Regression Results</caption>\n",
       "<tr>\n",
       "  <th>Dep. Variable:</th>           <td>n</td>        <th>  No. Observations:  </th>  <td>    24</td> \n",
       "</tr>\n",
       "<tr>\n",
       "  <th>Model:</th>                  <td>GLM</td>       <th>  Df Residuals:      </th>  <td>    10</td> \n",
       "</tr>\n",
       "<tr>\n",
       "  <th>Model Family:</th>         <td>Poisson</td>     <th>  Df Model:          </th>  <td>    13</td> \n",
       "</tr>\n",
       "<tr>\n",
       "  <th>Link Function:</th>          <td>log</td>       <th>  Scale:             </th> <td>  1.0000</td>\n",
       "</tr>\n",
       "<tr>\n",
       "  <th>Method:</th>                <td>IRLS</td>       <th>  Log-Likelihood:    </th> <td> -471.04</td>\n",
       "</tr>\n",
       "<tr>\n",
       "  <th>Date:</th>            <td>Tue, 08 Mar 2022</td> <th>  Deviance:          </th> <td>  783.02</td>\n",
       "</tr>\n",
       "<tr>\n",
       "  <th>Time:</th>                <td>19:07:02</td>     <th>  Pearson chi2:      </th>  <td>  715.</td> \n",
       "</tr>\n",
       "<tr>\n",
       "  <th>No. Iterations:</th>          <td>7</td>        <th>                     </th>     <td> </td>   \n",
       "</tr>\n",
       "<tr>\n",
       "  <th>Covariance Type:</th>     <td>nonrobust</td>    <th>                     </th>     <td> </td>   \n",
       "</tr>\n",
       "</table>\n",
       "<table class=\"simpletable\">\n",
       "<tr>\n",
       "                           <td></td>                             <th>coef</th>     <th>std err</th>      <th>z</th>      <th>P>|z|</th>  <th>[0.025</th>    <th>0.975]</th>  \n",
       "</tr>\n",
       "<tr>\n",
       "  <th>Intercept</th>                                          <td>    4.6396</td> <td>    0.065</td> <td>   71.737</td> <td> 0.000</td> <td>    4.513</td> <td>    4.766</td>\n",
       "</tr>\n",
       "<tr>\n",
       "  <th>admission[T.Rejected]</th>                              <td>    0.8305</td> <td>    0.051</td> <td>   16.357</td> <td> 0.000</td> <td>    0.731</td> <td>    0.930</td>\n",
       "</tr>\n",
       "<tr>\n",
       "  <th>sex[T.Male]</th>                                        <td>    0.4731</td> <td>    0.086</td> <td>    5.528</td> <td> 0.000</td> <td>    0.305</td> <td>    0.641</td>\n",
       "</tr>\n",
       "<tr>\n",
       "  <th>C(department, levels=dept_levels)[T.A]</th>             <td>   -1.1498</td> <td>    0.110</td> <td>  -10.413</td> <td> 0.000</td> <td>   -1.366</td> <td>   -0.933</td>\n",
       "</tr>\n",
       "<tr>\n",
       "  <th>C(department, levels=dept_levels)[T.B]</th>             <td>   -2.6130</td> <td>    0.207</td> <td>  -12.611</td> <td> 0.000</td> <td>   -3.019</td> <td>   -2.207</td>\n",
       "</tr>\n",
       "<tr>\n",
       "  <th>C(department, levels=dept_levels)[T.C]</th>             <td>    0.5533</td> <td>    0.068</td> <td>    8.141</td> <td> 0.000</td> <td>    0.420</td> <td>    0.687</td>\n",
       "</tr>\n",
       "<tr>\n",
       "  <th>C(department, levels=dept_levels)[T.D]</th>             <td>    0.0950</td> <td>    0.075</td> <td>    1.270</td> <td> 0.204</td> <td>   -0.052</td> <td>    0.242</td>\n",
       "</tr>\n",
       "<tr>\n",
       "  <th>C(department, levels=dept_levels)[T.E]</th>             <td>    0.1419</td> <td>    0.074</td> <td>    1.918</td> <td> 0.055</td> <td>   -0.003</td> <td>    0.287</td>\n",
       "</tr>\n",
       "<tr>\n",
       "  <th>admission[T.Rejected]:sex[T.Male]</th>                  <td>   -0.6112</td> <td>    0.064</td> <td>   -9.567</td> <td> 0.000</td> <td>   -0.736</td> <td>   -0.486</td>\n",
       "</tr>\n",
       "<tr>\n",
       "  <th>sex[T.Male]:C(department, levels=dept_levels)[T.A]</th> <td>    1.9436</td> <td>    0.127</td> <td>   15.325</td> <td> 0.000</td> <td>    1.695</td> <td>    2.192</td>\n",
       "</tr>\n",
       "<tr>\n",
       "  <th>sex[T.Male]:C(department, levels=dept_levels)[T.B]</th> <td>    3.0194</td> <td>    0.218</td> <td>   13.869</td> <td> 0.000</td> <td>    2.593</td> <td>    3.446</td>\n",
       "</tr>\n",
       "<tr>\n",
       "  <th>sex[T.Male]:C(department, levels=dept_levels)[T.C]</th> <td>   -0.6911</td> <td>    0.102</td> <td>   -6.784</td> <td> 0.000</td> <td>   -0.891</td> <td>   -0.491</td>\n",
       "</tr>\n",
       "<tr>\n",
       "  <th>sex[T.Male]:C(department, levels=dept_levels)[T.D]</th> <td>    0.0189</td> <td>    0.103</td> <td>    0.183</td> <td> 0.855</td> <td>   -0.184</td> <td>    0.221</td>\n",
       "</tr>\n",
       "<tr>\n",
       "  <th>sex[T.Male]:C(department, levels=dept_levels)[T.E]</th> <td>   -0.8112</td> <td>    0.116</td> <td>   -7.010</td> <td> 0.000</td> <td>   -1.038</td> <td>   -0.584</td>\n",
       "</tr>\n",
       "</table>"
      ],
      "text/plain": [
       "<class 'statsmodels.iolib.summary.Summary'>\n",
       "\"\"\"\n",
       "                 Generalized Linear Model Regression Results                  \n",
       "==============================================================================\n",
       "Dep. Variable:                      n   No. Observations:                   24\n",
       "Model:                            GLM   Df Residuals:                       10\n",
       "Model Family:                 Poisson   Df Model:                           13\n",
       "Link Function:                    log   Scale:                          1.0000\n",
       "Method:                          IRLS   Log-Likelihood:                -471.04\n",
       "Date:                Tue, 08 Mar 2022   Deviance:                       783.02\n",
       "Time:                        19:07:02   Pearson chi2:                     715.\n",
       "No. Iterations:                     7                                         \n",
       "Covariance Type:            nonrobust                                         \n",
       "======================================================================================================================\n",
       "                                                         coef    std err          z      P>|z|      [0.025      0.975]\n",
       "----------------------------------------------------------------------------------------------------------------------\n",
       "Intercept                                              4.6396      0.065     71.737      0.000       4.513       4.766\n",
       "admission[T.Rejected]                                  0.8305      0.051     16.357      0.000       0.731       0.930\n",
       "sex[T.Male]                                            0.4731      0.086      5.528      0.000       0.305       0.641\n",
       "C(department, levels=dept_levels)[T.A]                -1.1498      0.110    -10.413      0.000      -1.366      -0.933\n",
       "C(department, levels=dept_levels)[T.B]                -2.6130      0.207    -12.611      0.000      -3.019      -2.207\n",
       "C(department, levels=dept_levels)[T.C]                 0.5533      0.068      8.141      0.000       0.420       0.687\n",
       "C(department, levels=dept_levels)[T.D]                 0.0950      0.075      1.270      0.204      -0.052       0.242\n",
       "C(department, levels=dept_levels)[T.E]                 0.1419      0.074      1.918      0.055      -0.003       0.287\n",
       "admission[T.Rejected]:sex[T.Male]                     -0.6112      0.064     -9.567      0.000      -0.736      -0.486\n",
       "sex[T.Male]:C(department, levels=dept_levels)[T.A]     1.9436      0.127     15.325      0.000       1.695       2.192\n",
       "sex[T.Male]:C(department, levels=dept_levels)[T.B]     3.0194      0.218     13.869      0.000       2.593       3.446\n",
       "sex[T.Male]:C(department, levels=dept_levels)[T.C]    -0.6911      0.102     -6.784      0.000      -0.891      -0.491\n",
       "sex[T.Male]:C(department, levels=dept_levels)[T.D]     0.0189      0.103      0.183      0.855      -0.184       0.221\n",
       "sex[T.Male]:C(department, levels=dept_levels)[T.E]    -0.8112      0.116     -7.010      0.000      -1.038      -0.584\n",
       "======================================================================================================================\n",
       "\"\"\""
      ]
     },
     "execution_count": 14,
     "metadata": {},
     "output_type": "execute_result"
    }
   ],
   "source": [
    "y, X = dmatrices('n ~ admission + sex + C(department, levels=dept_levels) + admission * sex + sex * C(department, levels=dept_levels)', df, return_type='dataframe')\n",
    "sm.GLM(y, X, family=sm.families.Poisson()).fit().summary()"
   ]
  },
  {
   "cell_type": "markdown",
   "id": "b9eb6c56-23c0-4c9a-b5c1-a97cc9fca037",
   "metadata": {},
   "source": [
    "### (AB, AC)\n",
    "\n",
    "$\\log{\\mu_{ijk}} = \\lambda + \\lambda_i^A + \\lambda_j^B + \\lambda_k^C + \\lambda_{ij}^{AB} + \\lambda_{ik}^{AC}$"
   ]
  },
  {
   "cell_type": "code",
   "execution_count": 15,
   "id": "94d6f5cc-9518-416d-8667-bedd04c06c9e",
   "metadata": {},
   "outputs": [
    {
     "data": {
      "image/png": "[encoded data removed]",
      "text/plain": [
       "<Figure size 360x360 with 1 Axes>"
      ]
     },
     "metadata": {},
     "output_type": "display_data"
    }
   ],
   "source": [
    "g = nx.Graph()\n",
    "g.add_node('A')\n",
    "g.add_node('B')\n",
    "g.add_node('C')\n",
    "g.add_edge('A', 'B')\n",
    "g.add_edge('A', 'C')\n",
    "\n",
    "draw_graph(g)"
   ]
  },
  {
   "cell_type": "code",
   "execution_count": 16,
   "id": "de978779-95c0-4b9a-88ed-32a51c31e04b",
   "metadata": {},
   "outputs": [
    {
     "data": {
      "text/html": [
       "<table class=\"simpletable\">\n",
       "<caption>Generalized Linear Model Regression Results</caption>\n",
       "<tr>\n",
       "  <th>Dep. Variable:</th>           <td>n</td>        <th>  No. Observations:  </th>  <td>    24</td> \n",
       "</tr>\n",
       "<tr>\n",
       "  <th>Model:</th>                  <td>GLM</td>       <th>  Df Residuals:      </th>  <td>    10</td> \n",
       "</tr>\n",
       "<tr>\n",
       "  <th>Model Family:</th>         <td>Poisson</td>     <th>  Df Model:          </th>  <td>    13</td> \n",
       "</tr>\n",
       "<tr>\n",
       "  <th>Link Function:</th>          <td>log</td>       <th>  Scale:             </th> <td>  1.0000</td>\n",
       "</tr>\n",
       "<tr>\n",
       "  <th>Method:</th>                <td>IRLS</td>       <th>  Log-Likelihood:    </th> <td> -653.70</td>\n",
       "</tr>\n",
       "<tr>\n",
       "  <th>Date:</th>            <td>Tue, 08 Mar 2022</td> <th>  Deviance:          </th> <td>  1148.3</td>\n",
       "</tr>\n",
       "<tr>\n",
       "  <th>Time:</th>                <td>19:07:02</td>     <th>  Pearson chi2:      </th> <td>1.02e+03</td>\n",
       "</tr>\n",
       "<tr>\n",
       "  <th>No. Iterations:</th>          <td>6</td>        <th>                     </th>     <td> </td>   \n",
       "</tr>\n",
       "<tr>\n",
       "  <th>Covariance Type:</th>     <td>nonrobust</td>    <th>                     </th>     <td> </td>   \n",
       "</tr>\n",
       "</table>\n",
       "<table class=\"simpletable\">\n",
       "<tr>\n",
       "                                <td></td>                                  <th>coef</th>     <th>std err</th>      <th>z</th>      <th>P>|z|</th>  <th>[0.025</th>    <th>0.975]</th>  \n",
       "</tr>\n",
       "<tr>\n",
       "  <th>Intercept</th>                                                    <td>    2.6804</td> <td>    0.152</td> <td>   17.688</td> <td> 0.000</td> <td>    2.383</td> <td>    2.977</td>\n",
       "</tr>\n",
       "<tr>\n",
       "  <th>admission[T.Rejected]</th>                                        <td>    3.0500</td> <td>    0.158</td> <td>   19.335</td> <td> 0.000</td> <td>    2.741</td> <td>    3.359</td>\n",
       "</tr>\n",
       "<tr>\n",
       "  <th>sex[T.Male]</th>                                                  <td>    0.7667</td> <td>    0.051</td> <td>   14.952</td> <td> 0.000</td> <td>    0.666</td> <td>    0.867</td>\n",
       "</tr>\n",
       "<tr>\n",
       "  <th>C(department, levels=dept_levels)[T.A]</th>                       <td>    2.5700</td> <td>    0.153</td> <td>   16.799</td> <td> 0.000</td> <td>    2.270</td> <td>    2.870</td>\n",
       "</tr>\n",
       "<tr>\n",
       "  <th>C(department, levels=dept_levels)[T.B]</th>                       <td>    2.0849</td> <td>    0.156</td> <td>   13.336</td> <td> 0.000</td> <td>    1.778</td> <td>    2.391</td>\n",
       "</tr>\n",
       "<tr>\n",
       "  <th>C(department, levels=dept_levels)[T.C]</th>                       <td>    1.9459</td> <td>    0.158</td> <td>   12.345</td> <td> 0.000</td> <td>    1.637</td> <td>    2.255</td>\n",
       "</tr>\n",
       "<tr>\n",
       "  <th>C(department, levels=dept_levels)[T.D]</th>                       <td>    1.7698</td> <td>    0.160</td> <td>   11.095</td> <td> 0.000</td> <td>    1.457</td> <td>    2.082</td>\n",
       "</tr>\n",
       "<tr>\n",
       "  <th>C(department, levels=dept_levels)[T.E]</th>                       <td>    1.1618</td> <td>    0.169</td> <td>    6.877</td> <td> 0.000</td> <td>    0.831</td> <td>    1.493</td>\n",
       "</tr>\n",
       "<tr>\n",
       "  <th>admission[T.Rejected]:sex[T.Male]</th>                            <td>   -0.6112</td> <td>    0.064</td> <td>   -9.567</td> <td> 0.000</td> <td>   -0.736</td> <td>   -0.486</td>\n",
       "</tr>\n",
       "<tr>\n",
       "  <th>admission[T.Rejected]:C(department, levels=dept_levels)[T.A]</th> <td>   -3.2691</td> <td>    0.167</td> <td>  -19.567</td> <td> 0.000</td> <td>   -3.597</td> <td>   -2.942</td>\n",
       "</tr>\n",
       "<tr>\n",
       "  <th>admission[T.Rejected]:C(department, levels=dept_levels)[T.B]</th> <td>   -3.2185</td> <td>    0.175</td> <td>  -18.402</td> <td> 0.000</td> <td>   -3.561</td> <td>   -2.876</td>\n",
       "</tr>\n",
       "<tr>\n",
       "  <th>admission[T.Rejected]:C(department, levels=dept_levels)[T.C]</th> <td>   -2.0600</td> <td>    0.167</td> <td>  -12.306</td> <td> 0.000</td> <td>   -2.388</td> <td>   -1.732</td>\n",
       "</tr>\n",
       "<tr>\n",
       "  <th>admission[T.Rejected]:C(department, levels=dept_levels)[T.D]</th> <td>   -2.0145</td> <td>    0.170</td> <td>  -11.860</td> <td> 0.000</td> <td>   -2.347</td> <td>   -1.682</td>\n",
       "</tr>\n",
       "<tr>\n",
       "  <th>admission[T.Rejected]:C(department, levels=dept_levels)[T.E]</th> <td>   -1.5861</td> <td>    0.180</td> <td>   -8.822</td> <td> 0.000</td> <td>   -1.939</td> <td>   -1.234</td>\n",
       "</tr>\n",
       "</table>"
      ],
      "text/plain": [
       "<class 'statsmodels.iolib.summary.Summary'>\n",
       "\"\"\"\n",
       "                 Generalized Linear Model Regression Results                  \n",
       "==============================================================================\n",
       "Dep. Variable:                      n   No. Observations:                   24\n",
       "Model:                            GLM   Df Residuals:                       10\n",
       "Model Family:                 Poisson   Df Model:                           13\n",
       "Link Function:                    log   Scale:                          1.0000\n",
       "Method:                          IRLS   Log-Likelihood:                -653.70\n",
       "Date:                Tue, 08 Mar 2022   Deviance:                       1148.3\n",
       "Time:                        19:07:02   Pearson chi2:                 1.02e+03\n",
       "No. Iterations:                     6                                         \n",
       "Covariance Type:            nonrobust                                         \n",
       "================================================================================================================================\n",
       "                                                                   coef    std err          z      P>|z|      [0.025      0.975]\n",
       "--------------------------------------------------------------------------------------------------------------------------------\n",
       "Intercept                                                        2.6804      0.152     17.688      0.000       2.383       2.977\n",
       "admission[T.Rejected]                                            3.0500      0.158     19.335      0.000       2.741       3.359\n",
       "sex[T.Male]                                                      0.7667      0.051     14.952      0.000       0.666       0.867\n",
       "C(department, levels=dept_levels)[T.A]                           2.5700      0.153     16.799      0.000       2.270       2.870\n",
       "C(department, levels=dept_levels)[T.B]                           2.0849      0.156     13.336      0.000       1.778       2.391\n",
       "C(department, levels=dept_levels)[T.C]                           1.9459      0.158     12.345      0.000       1.637       2.255\n",
       "C(department, levels=dept_levels)[T.D]                           1.7698      0.160     11.095      0.000       1.457       2.082\n",
       "C(department, levels=dept_levels)[T.E]                           1.1618      0.169      6.877      0.000       0.831       1.493\n",
       "admission[T.Rejected]:sex[T.Male]                               -0.6112      0.064     -9.567      0.000      -0.736      -0.486\n",
       "admission[T.Rejected]:C(department, levels=dept_levels)[T.A]    -3.2691      0.167    -19.567      0.000      -3.597      -2.942\n",
       "admission[T.Rejected]:C(department, levels=dept_levels)[T.B]    -3.2185      0.175    -18.402      0.000      -3.561      -2.876\n",
       "admission[T.Rejected]:C(department, levels=dept_levels)[T.C]    -2.0600      0.167    -12.306      0.000      -2.388      -1.732\n",
       "admission[T.Rejected]:C(department, levels=dept_levels)[T.D]    -2.0145      0.170    -11.860      0.000      -2.347      -1.682\n",
       "admission[T.Rejected]:C(department, levels=dept_levels)[T.E]    -1.5861      0.180     -8.822      0.000      -1.939      -1.234\n",
       "================================================================================================================================\n",
       "\"\"\""
      ]
     },
     "execution_count": 16,
     "metadata": {},
     "output_type": "execute_result"
    }
   ],
   "source": [
    "y, X = dmatrices('n ~ admission + sex + C(department, levels=dept_levels) + admission * sex + admission * C(department, levels=dept_levels)', df, return_type='dataframe')\n",
    "sm.GLM(y, X, family=sm.families.Poisson()).fit().summary()"
   ]
  },
  {
   "cell_type": "markdown",
   "id": "aef3f71d-ef23-42b5-a5c7-6c6ff6bfea64",
   "metadata": {},
   "source": [
    "## Homogeneous model\n",
    "\n",
    "$\\log{\\mu_{ijk}} = \\lambda + \\lambda_i^A + \\lambda_j^B + \\lambda_k^C + \\lambda_{ij}^{AB} + \\lambda_{ik}^{AC} + \\lambda_{jk}^{BC}$"
   ]
  },
  {
   "cell_type": "code",
   "execution_count": 17,
   "id": "995c4327-333e-418f-9b00-9fb555b97451",
   "metadata": {},
   "outputs": [
    {
     "data": {
      "image/png": "[encoded data removed]",
      "text/plain": [
       "<Figure size 360x360 with 1 Axes>"
      ]
     },
     "metadata": {},
     "output_type": "display_data"
    }
   ],
   "source": [
    "g = nx.Graph()\n",
    "g.add_node('A')\n",
    "g.add_node('B')\n",
    "g.add_node('C')\n",
    "g.add_edge('A', 'B')\n",
    "g.add_edge('A', 'C')\n",
    "g.add_edge('B', 'C')\n",
    "\n",
    "draw_graph(g)"
   ]
  },
  {
   "cell_type": "code",
   "execution_count": 18,
   "id": "4bf4e07d-64ec-4027-8d48-7adc7da33343",
   "metadata": {},
   "outputs": [
    {
     "data": {
      "text/html": [
       "<table class=\"simpletable\">\n",
       "<caption>Generalized Linear Model Regression Results</caption>\n",
       "<tr>\n",
       "  <th>Dep. Variable:</th>           <td>n</td>        <th>  No. Observations:  </th>  <td>    24</td> \n",
       "</tr>\n",
       "<tr>\n",
       "  <th>Model:</th>                  <td>GLM</td>       <th>  Df Residuals:      </th>  <td>     5</td> \n",
       "</tr>\n",
       "<tr>\n",
       "  <th>Model Family:</th>         <td>Poisson</td>     <th>  Df Model:          </th>  <td>    18</td> \n",
       "</tr>\n",
       "<tr>\n",
       "  <th>Link Function:</th>          <td>log</td>       <th>  Scale:             </th> <td>  1.0000</td>\n",
       "</tr>\n",
       "<tr>\n",
       "  <th>Method:</th>                <td>IRLS</td>       <th>  Log-Likelihood:    </th> <td> -89.642</td>\n",
       "</tr>\n",
       "<tr>\n",
       "  <th>Date:</th>            <td>Tue, 08 Mar 2022</td> <th>  Deviance:          </th> <td>  20.217</td>\n",
       "</tr>\n",
       "<tr>\n",
       "  <th>Time:</th>                <td>19:07:02</td>     <th>  Pearson chi2:      </th>  <td>  18.8</td> \n",
       "</tr>\n",
       "<tr>\n",
       "  <th>No. Iterations:</th>          <td>7</td>        <th>                     </th>     <td> </td>   \n",
       "</tr>\n",
       "<tr>\n",
       "  <th>Covariance Type:</th>     <td>nonrobust</td>    <th>                     </th>     <td> </td>   \n",
       "</tr>\n",
       "</table>\n",
       "<table class=\"simpletable\">\n",
       "<tr>\n",
       "                                <td></td>                                  <th>coef</th>     <th>std err</th>      <th>z</th>      <th>P>|z|</th>  <th>[0.025</th>    <th>0.975]</th>  \n",
       "</tr>\n",
       "<tr>\n",
       "  <th>Intercept</th>                                                    <td>    3.1364</td> <td>    0.157</td> <td>   20.011</td> <td> 0.000</td> <td>    2.829</td> <td>    3.444</td>\n",
       "</tr>\n",
       "<tr>\n",
       "  <th>admission[T.Rejected]</th>                                        <td>    2.6256</td> <td>    0.158</td> <td>   16.646</td> <td> 0.000</td> <td>    2.316</td> <td>    2.935</td>\n",
       "</tr>\n",
       "<tr>\n",
       "  <th>sex[T.Male]</th>                                                  <td>   -0.0018</td> <td>    0.106</td> <td>   -0.017</td> <td> 0.987</td> <td>   -0.210</td> <td>    0.207</td>\n",
       "</tr>\n",
       "<tr>\n",
       "  <th>C(department, levels=dept_levels)[T.A]</th>                       <td>    1.1359</td> <td>    0.182</td> <td>    6.242</td> <td> 0.000</td> <td>    0.779</td> <td>    1.493</td>\n",
       "</tr>\n",
       "<tr>\n",
       "  <th>C(department, levels=dept_levels)[T.B]</th>                       <td>   -0.3422</td> <td>    0.253</td> <td>   -1.351</td> <td> 0.177</td> <td>   -0.839</td> <td>    0.154</td>\n",
       "</tr>\n",
       "<tr>\n",
       "  <th>C(department, levels=dept_levels)[T.C]</th>                       <td>    2.2233</td> <td>    0.165</td> <td>   13.484</td> <td> 0.000</td> <td>    1.900</td> <td>    2.546</td>\n",
       "</tr>\n",
       "<tr>\n",
       "  <th>C(department, levels=dept_levels)[T.D]</th>                       <td>    1.7466</td> <td>    0.168</td> <td>   10.387</td> <td> 0.000</td> <td>    1.417</td> <td>    2.076</td>\n",
       "</tr>\n",
       "<tr>\n",
       "  <th>C(department, levels=dept_levels)[T.E]</th>                       <td>    1.4814</td> <td>    0.176</td> <td>    8.407</td> <td> 0.000</td> <td>    1.136</td> <td>    1.827</td>\n",
       "</tr>\n",
       "<tr>\n",
       "  <th>admission[T.Rejected]:sex[T.Male]</th>                            <td>    0.0978</td> <td>    0.081</td> <td>    1.210</td> <td> 0.226</td> <td>   -0.061</td> <td>    0.256</td>\n",
       "</tr>\n",
       "<tr>\n",
       "  <th>admission[T.Rejected]:C(department, levels=dept_levels)[T.A]</th> <td>   -3.3057</td> <td>    0.170</td> <td>  -19.448</td> <td> 0.000</td> <td>   -3.639</td> <td>   -2.973</td>\n",
       "</tr>\n",
       "<tr>\n",
       "  <th>admission[T.Rejected]:C(department, levels=dept_levels)[T.B]</th> <td>   -3.2621</td> <td>    0.179</td> <td>  -18.247</td> <td> 0.000</td> <td>   -3.613</td> <td>   -2.912</td>\n",
       "</tr>\n",
       "<tr>\n",
       "  <th>admission[T.Rejected]:C(department, levels=dept_levels)[T.C]</th> <td>   -2.0442</td> <td>    0.168</td> <td>  -12.177</td> <td> 0.000</td> <td>   -2.373</td> <td>   -1.715</td>\n",
       "</tr>\n",
       "<tr>\n",
       "  <th>admission[T.Rejected]:C(department, levels=dept_levels)[T.D]</th> <td>   -2.0156</td> <td>    0.170</td> <td>  -11.865</td> <td> 0.000</td> <td>   -2.349</td> <td>   -1.683</td>\n",
       "</tr>\n",
       "<tr>\n",
       "  <th>admission[T.Rejected]:C(department, levels=dept_levels)[T.E]</th> <td>   -1.5676</td> <td>    0.180</td> <td>   -8.688</td> <td> 0.000</td> <td>   -1.921</td> <td>   -1.214</td>\n",
       "</tr>\n",
       "<tr>\n",
       "  <th>sex[T.Male]:C(department, levels=dept_levels)[T.A]</th>           <td>    2.0011</td> <td>    0.136</td> <td>   14.747</td> <td> 0.000</td> <td>    1.735</td> <td>    2.267</td>\n",
       "</tr>\n",
       "<tr>\n",
       "  <th>sex[T.Male]:C(department, levels=dept_levels)[T.B]</th>           <td>    3.0759</td> <td>    0.223</td> <td>   13.802</td> <td> 0.000</td> <td>    2.639</td> <td>    3.513</td>\n",
       "</tr>\n",
       "<tr>\n",
       "  <th>sex[T.Male]:C(department, levels=dept_levels)[T.C]</th>           <td>   -0.6634</td> <td>    0.104</td> <td>   -6.357</td> <td> 0.000</td> <td>   -0.868</td> <td>   -0.459</td>\n",
       "</tr>\n",
       "<tr>\n",
       "  <th>sex[T.Male]:C(department, levels=dept_levels)[T.D]</th>           <td>    0.0459</td> <td>    0.106</td> <td>    0.434</td> <td> 0.664</td> <td>   -0.161</td> <td>    0.253</td>\n",
       "</tr>\n",
       "<tr>\n",
       "  <th>sex[T.Male]:C(department, levels=dept_levels)[T.E]</th>           <td>   -0.7932</td> <td>    0.117</td> <td>   -6.799</td> <td> 0.000</td> <td>   -1.022</td> <td>   -0.565</td>\n",
       "</tr>\n",
       "</table>"
      ],
      "text/plain": [
       "<class 'statsmodels.iolib.summary.Summary'>\n",
       "\"\"\"\n",
       "                 Generalized Linear Model Regression Results                  \n",
       "==============================================================================\n",
       "Dep. Variable:                      n   No. Observations:                   24\n",
       "Model:                            GLM   Df Residuals:                        5\n",
       "Model Family:                 Poisson   Df Model:                           18\n",
       "Link Function:                    log   Scale:                          1.0000\n",
       "Method:                          IRLS   Log-Likelihood:                -89.642\n",
       "Date:                Tue, 08 Mar 2022   Deviance:                       20.217\n",
       "Time:                        19:07:02   Pearson chi2:                     18.8\n",
       "No. Iterations:                     7                                         \n",
       "Covariance Type:            nonrobust                                         \n",
       "================================================================================================================================\n",
       "                                                                   coef    std err          z      P>|z|      [0.025      0.975]\n",
       "--------------------------------------------------------------------------------------------------------------------------------\n",
       "Intercept                                                        3.1364      0.157     20.011      0.000       2.829       3.444\n",
       "admission[T.Rejected]                                            2.6256      0.158     16.646      0.000       2.316       2.935\n",
       "sex[T.Male]                                                     -0.0018      0.106     -0.017      0.987      -0.210       0.207\n",
       "C(department, levels=dept_levels)[T.A]                           1.1359      0.182      6.242      0.000       0.779       1.493\n",
       "C(department, levels=dept_levels)[T.B]                          -0.3422      0.253     -1.351      0.177      -0.839       0.154\n",
       "C(department, levels=dept_levels)[T.C]                           2.2233      0.165     13.484      0.000       1.900       2.546\n",
       "C(department, levels=dept_levels)[T.D]                           1.7466      0.168     10.387      0.000       1.417       2.076\n",
       "C(department, levels=dept_levels)[T.E]                           1.4814      0.176      8.407      0.000       1.136       1.827\n",
       "admission[T.Rejected]:sex[T.Male]                                0.0978      0.081      1.210      0.226      -0.061       0.256\n",
       "admission[T.Rejected]:C(department, levels=dept_levels)[T.A]    -3.3057      0.170    -19.448      0.000      -3.639      -2.973\n",
       "admission[T.Rejected]:C(department, levels=dept_levels)[T.B]    -3.2621      0.179    -18.247      0.000      -3.613      -2.912\n",
       "admission[T.Rejected]:C(department, levels=dept_levels)[T.C]    -2.0442      0.168    -12.177      0.000      -2.373      -1.715\n",
       "admission[T.Rejected]:C(department, levels=dept_levels)[T.D]    -2.0156      0.170    -11.865      0.000      -2.349      -1.683\n",
       "admission[T.Rejected]:C(department, levels=dept_levels)[T.E]    -1.5676      0.180     -8.688      0.000      -1.921      -1.214\n",
       "sex[T.Male]:C(department, levels=dept_levels)[T.A]               2.0011      0.136     14.747      0.000       1.735       2.267\n",
       "sex[T.Male]:C(department, levels=dept_levels)[T.B]               3.0759      0.223     13.802      0.000       2.639       3.513\n",
       "sex[T.Male]:C(department, levels=dept_levels)[T.C]              -0.6634      0.104     -6.357      0.000      -0.868      -0.459\n",
       "sex[T.Male]:C(department, levels=dept_levels)[T.D]               0.0459      0.106      0.434      0.664      -0.161       0.253\n",
       "sex[T.Male]:C(department, levels=dept_levels)[T.E]              -0.7932      0.117     -6.799      0.000      -1.022      -0.565\n",
       "================================================================================================================================\n",
       "\"\"\""
      ]
     },
     "execution_count": 18,
     "metadata": {},
     "output_type": "execute_result"
    }
   ],
   "source": [
    "y, X = dmatrices('n ~ (admission + sex + C(department, levels=dept_levels))**2', df, return_type='dataframe')\n",
    "sm.GLM(y, X, family=sm.families.Poisson()).fit().summary()"
   ]
  },
  {
   "cell_type": "markdown",
   "id": "d8cff702-4e89-4ecd-a82a-e0e34942c911",
   "metadata": {},
   "source": [
    "## Saturated model\n",
    "\n",
    "The saturated model is not estimated due to [perfect separation](https://stackoverflow.com/questions/53041669/error-perfectseparationerror-perfect-separation-detected-results-not-availab).\n",
    "\n",
    "$\\log{\\mu_{ijk}} = \\lambda + \\lambda_i^A + \\lambda_j^B + \\lambda_k^C + \\lambda_{ij}^{AB} + \\lambda_{ik}^{AC} + \\lambda_{jk}^{BC} + \\lambda_{ijk}^{ABC}$"
   ]
  },
  {
   "cell_type": "markdown",
   "id": "f9f31279-54fb-4bdb-a38b-1e803dfcbdc3",
   "metadata": {},
   "source": [
    "## Model Selection\n",
    "\n",
    "With model selection, we can perform a likelihood ratio test between any two models. "
   ]
  },
  {
   "cell_type": "code",
   "execution_count": 19,
   "id": "7aad511a-a5bc-40ad-92e7-19a537cc1588",
   "metadata": {
    "tags": []
   },
   "outputs": [
    {
     "data": {
      "text/html": [
       "<div>\n",
       "<style scoped>\n",
       "    .dataframe tbody tr th:only-of-type {\n",
       "        vertical-align: middle;\n",
       "    }\n",
       "\n",
       "    .dataframe tbody tr th {\n",
       "        vertical-align: top;\n",
       "    }\n",
       "\n",
       "    .dataframe thead th {\n",
       "        text-align: right;\n",
       "    }\n",
       "</style>\n",
       "<table border=\"1\" class=\"dataframe\">\n",
       "  <thead>\n",
       "    <tr style=\"text-align: right;\">\n",
       "      <th></th>\n",
       "      <th>df</th>\n",
       "      <th>deviance</th>\n",
       "    </tr>\n",
       "    <tr>\n",
       "      <th>model</th>\n",
       "      <th></th>\n",
       "      <th></th>\n",
       "    </tr>\n",
       "  </thead>\n",
       "  <tbody>\n",
       "    <tr>\n",
       "      <th>(A, B, C)</th>\n",
       "      <td>16</td>\n",
       "      <td>2097.116655</td>\n",
       "    </tr>\n",
       "    <tr>\n",
       "      <th>(A, BC)</th>\n",
       "      <td>11</td>\n",
       "      <td>876.743972</td>\n",
       "    </tr>\n",
       "    <tr>\n",
       "      <th>(B, AC)</th>\n",
       "      <td>11</td>\n",
       "      <td>1242.058607</td>\n",
       "    </tr>\n",
       "    <tr>\n",
       "      <th>(C, AB)</th>\n",
       "      <td>15</td>\n",
       "      <td>2003.390913</td>\n",
       "    </tr>\n",
       "    <tr>\n",
       "      <th>(AC, BC)</th>\n",
       "      <td>6</td>\n",
       "      <td>21.685924</td>\n",
       "    </tr>\n",
       "    <tr>\n",
       "      <th>(AB, BC)</th>\n",
       "      <td>10</td>\n",
       "      <td>783.018230</td>\n",
       "    </tr>\n",
       "    <tr>\n",
       "      <th>(AB, AC)</th>\n",
       "      <td>10</td>\n",
       "      <td>1148.332865</td>\n",
       "    </tr>\n",
       "    <tr>\n",
       "      <th>(AB, AC, BC)</th>\n",
       "      <td>5</td>\n",
       "      <td>20.217417</td>\n",
       "    </tr>\n",
       "  </tbody>\n",
       "</table>\n",
       "</div>"
      ],
      "text/plain": [
       "              df     deviance\n",
       "model                        \n",
       "(A, B, C)     16  2097.116655\n",
       "(A, BC)       11   876.743972\n",
       "(B, AC)       11  1242.058607\n",
       "(C, AB)       15  2003.390913\n",
       "(AC, BC)       6    21.685924\n",
       "(AB, BC)      10   783.018230\n",
       "(AB, AC)      10  1148.332865\n",
       "(AB, AC, BC)   5    20.217417"
      ]
     },
     "execution_count": 19,
     "metadata": {},
     "output_type": "execute_result"
    }
   ],
   "source": [
    "def get_deviance(m, f):\n",
    "    y, X = dmatrices(f, df, return_type='dataframe')\n",
    "    r = sm.GLM(y, X, family=sm.families.Poisson()).fit()\n",
    "    \n",
    "    return {'model': m, 'df': r.df_resid, 'deviance': r.deviance}\n",
    "\n",
    "formulas = {\n",
    "    '(A, B, C)': 'n ~ admission + sex + C(department, levels=dept_levels)',\n",
    "    '(A, BC)': 'n ~ admission + sex + C(department, levels=dept_levels) + sex * C(department, levels=dept_levels)',\n",
    "    '(B, AC)': 'n ~ admission + sex + C(department, levels=dept_levels) + admission * C(department, levels=dept_levels)',\n",
    "    '(C, AB)': 'n ~ admission + sex + C(department, levels=dept_levels) + admission * sex',\n",
    "    '(AC, BC)': 'n ~ admission + sex + C(department, levels=dept_levels) + admission * C(department, levels=dept_levels) + sex * C(department, levels=dept_levels)',\n",
    "    '(AB, BC)': 'n ~ admission + sex + C(department, levels=dept_levels) + admission * sex + sex * C(department, levels=dept_levels)',\n",
    "    '(AB, AC)': 'n ~ admission + sex + C(department, levels=dept_levels) + admission * sex + admission * C(department, levels=dept_levels)',\n",
    "    '(AB, AC, BC)': 'n ~ (admission + sex + C(department, levels=dept_levels))**2'\n",
    "}\n",
    "\n",
    "result_df = pd.DataFrame([get_deviance(m, f) for m, f in formulas.items()]).set_index('model')\n",
    "result_df"
   ]
  },
  {
   "cell_type": "markdown",
   "id": "1d564ae7-4913-476a-a91e-2d55e5a72f07",
   "metadata": {},
   "source": [
    "Here are are comparing `(AB, BC)` $H_0$ vs `(AB, AC, BC)` $H_{\\alpha}$. Since p < 0.01, we reject $H_0$."
   ]
  },
  {
   "cell_type": "code",
   "execution_count": 20,
   "id": "66d7fc56-6c16-47b6-9199-ddf323899cbc",
   "metadata": {
    "tags": []
   },
   "outputs": [
    {
     "data": {
      "text/plain": [
       "0.0"
      ]
     },
     "execution_count": 20,
     "metadata": {},
     "output_type": "execute_result"
    }
   ],
   "source": [
    "from scipy.stats import chi2\n",
    "\n",
    "chi_sq = result_df.loc['(AB, BC)'].deviance - result_df.loc['(AB, AC, BC)'].deviance\n",
    "dof = result_df.loc['(AB, BC)'].df - result_df.loc['(AB, AC, BC)'].df\n",
    "\n",
    "1 - chi2.cdf(chi_sq, dof)"
   ]
  },
  {
   "cell_type": "markdown",
   "id": "97c1906c-db6e-47f6-866d-b444362d7ff3",
   "metadata": {},
   "source": [
    "Here are are comparing `(AC, BC)` $H_0$ vs `(AB, AC, BC)` $H_{\\alpha}$. Since p = 0.23, we fail to reject $H_0$."
   ]
  },
  {
   "cell_type": "code",
   "execution_count": 21,
   "id": "5e5219bd-04fb-40de-a807-f638bc6189d5",
   "metadata": {},
   "outputs": [
    {
     "data": {
      "text/plain": [
       "0.22558143086494165"
      ]
     },
     "execution_count": 21,
     "metadata": {},
     "output_type": "execute_result"
    }
   ],
   "source": [
    "chi_sq = result_df.loc['(AC, BC)'].deviance - result_df.loc['(AB, AC, BC)'].deviance\n",
    "dof = result_df.loc['(AC, BC)'].df - result_df.loc['(AB, AC, BC)'].df\n",
    "\n",
    "1 - chi2.cdf(chi_sq, dof)"
   ]
  },
  {
   "cell_type": "markdown",
   "id": "754a8255-6b2c-4ab4-ac4d-63e5289ab957",
   "metadata": {},
   "source": [
    "What is the model (AC, BC) telling us? Remember, A is admission, B is sex and C is department. So, that we favor (AC, BC) as the `best` model, admission and sex are independent given department; meaning, there is no relationship between admission and sex given that we know which department they applied to, and the marginal association is spurious. "
   ]
  }
 ],
 "metadata": {
  "kernelspec": {
   "display_name": "Python 3",
   "language": "python",
   "name": "python3"
  },
  "language_info": {
   "codemirror_mode": {
    "name": "ipython",
    "version": 3
   },
   "file_extension": ".py",
   "mimetype": "text/x-python",
   "name": "python",
   "nbconvert_exporter": "python",
   "pygments_lexer": "ipython3",
   "version": "3.8.8"
  },
  "widgets": {
   "application/vnd.jupyter.widget-state+json": {
    "state": {},
    "version_major": 2,
    "version_minor": 0
   }
  }
 },
 "nbformat": 4,
 "nbformat_minor": 5
}
