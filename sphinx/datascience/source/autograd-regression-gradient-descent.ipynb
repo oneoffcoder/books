{
 "cells": [
  {
   "cell_type": "markdown",
   "metadata": {},
   "source": [
    "# Regression, Gradient Descent\n",
    "\n",
    "This notebook shows how to solve regression problems with gradient descent through [Autograd](https://github.com/HIPS/autograd). In some machine learning algorithms, a [loss function](https://en.wikipedia.org/wiki/Loss_function) must be defined to gauge at how much learning the algorithm has accomplished. After the loss function is defined, you will then need to express the gradient of such loss function. The shape of the gradient of the loss function is typically concave, and you may use [gradient descent](https://en.wikipedia.org/wiki/Gradient_descent) to optimize it (e.g. find the minimum of the gradient of the loss function). However, expressing the gradient of the loss function is usually non-trivial to express in code form. With Autograd, you simply define the loss function and this package will give you the gradient (first derivative). \n",
    "\n",
    "For linear regression, $y = b + w'x$, the loss function is defined as follows.\n",
    "\n",
    "$L(\\hat{Y}, Y) = \\frac{1}{N} \\sum{(y - \\hat{y})^2} = \\frac{1}{N} \\sum{(y - (b + w'x))^2}$\n",
    "\n",
    "where\n",
    "\n",
    "* $\\hat{Y}$ is the predicted value,\n",
    "* $Y$ is the real value,\n",
    "* $b$ is the y-intercept,\n",
    "* $w$ is the vector of weights (coefficients), and\n",
    "* $x$ is the vector of observations.\n",
    "\n",
    "The gradients of the loss function, $\\nabla L(\\hat{Y}, Y)$, is simply the partial derivatives with respect to the variables $b$ and $w$.\n",
    "\n",
    "* $\\nabla_b = \\frac{\\partial L}{\\partial b} = \\frac{2}{N} \\sum{-(y - (b + wx))}$\n",
    "* $\\nabla_{w_{1}} = \\frac{\\partial L}{\\partial w_1} = \\frac{2}{N} \\sum{-x_1 (y - (b + w'x))}$\n",
    "* $\\ldots$\n",
    "* $\\nabla_{w_{n}} = \\frac{\\partial L}{\\partial w_n} = \\frac{2}{N} \\sum{-x_n (y - (b + w'x))}$\n",
    "\n",
    "With Autograd, you do not have to write out all these gradients, you only write out the loss function. It's really amazing to see how your code becomes more concise and easy to understand."
   ]
  },
  {
   "cell_type": "markdown",
   "metadata": {},
   "source": [
    "## Examples\n",
    "\n",
    "### Imports\n",
    "\n",
    "Notice that you don't import `numpy` but instead `autograd.numpy`?"
   ]
  },
  {
   "cell_type": "code",
   "execution_count": 1,
   "metadata": {
    "ExecuteTime": {
     "end_time": "2018-04-25T00:56:56.870000Z",
     "start_time": "2018-04-25T00:56:54.383000Z"
    }
   },
   "outputs": [],
   "source": [
    "import autograd.numpy as np\n",
    "from autograd.numpy.random import normal\n",
    "import pandas as pd\n",
    "import matplotlib.pyplot as plt\n",
    "from autograd import grad\n",
    "\n",
    "np.random.seed(37)"
   ]
  },
  {
   "cell_type": "markdown",
   "metadata": {},
   "source": [
    "### Define the loss function and its gradient using Autograd"
   ]
  },
  {
   "cell_type": "code",
   "execution_count": 2,
   "metadata": {
    "ExecuteTime": {
     "end_time": "2018-04-25T00:56:56.929000Z",
     "start_time": "2018-04-25T00:56:56.882000Z"
    }
   },
   "outputs": [],
   "source": [
    "def loss(w, X, y_true):\n",
    "    \"\"\"\n",
    "    The loss function is 1/n * (y_predicted - y_true)^2\n",
    "    \"\"\"\n",
    "    y_pred = np.dot(X, w)\n",
    "    loss = ((y_pred - y_true) ** 2.0)\n",
    "    return loss.mean(axis=None)\n",
    "\n",
    "#the magic line that gives you the gradient of the loss function\n",
    "loss_grad = grad(loss) \n",
    "\n",
    "# here we simulate 5,000 samples for 2 examples\n",
    "n = 5000"
   ]
  },
  {
   "cell_type": "markdown",
   "metadata": {},
   "source": [
    "### Example 1\n",
    "\n",
    "Here, we specify a simple linear model $y = 5 + 2.0x_0$.\n",
    "\n",
    "* $X_0 \\sim \\mathcal{N}(2, 1)$\n",
    "* $Y \\sim \\mathcal{N}(5 + 2.0x_0, 1)$"
   ]
  },
  {
   "cell_type": "code",
   "execution_count": 3,
   "metadata": {
    "ExecuteTime": {
     "end_time": "2018-04-25T00:56:59.355000Z",
     "start_time": "2018-04-25T00:56:56.962000Z"
    }
   },
   "outputs": [
    {
     "name": "stdout",
     "output_type": "stream",
     "text": [
      "intercept + weights: [4.92702295 2.027472  ]\n"
     ]
    }
   ],
   "source": [
    "X = np.hstack([\n",
    "        np.ones(n).reshape(n, 1), \n",
    "        normal(2.0, 1.0, n).reshape(n, 1)\n",
    "    ])\n",
    "y = normal(5.0 + 2.0 * X[:, 1], 1, n)\n",
    "w = np.array([np.random.randn() for _ in range(X.shape[1])])\n",
    "\n",
    "for i in range(1000):\n",
    "    w = w - loss_grad(w, X, y) * 0.01\n",
    "    \n",
    "print('intercept + weights: {}'.format(w))"
   ]
  },
  {
   "cell_type": "markdown",
   "metadata": {},
   "source": [
    "### Example 2\n",
    "\n",
    "Here, we specify a more complicated linear model with $y = 5 + 2x_0 + 1x_1 + 3x_2 + 0.5x_3 + 1.5x_4$. \n",
    "\n",
    "Note, we can reuse the same gradient loss function as before for both simple and multiple linear regression problems.\n",
    "\n",
    "* $X_0 \\sim \\mathcal{N}(2, 1)$\n",
    "* $X_1 \\sim \\mathcal{N}(1, 1)$\n",
    "* $X_2 \\sim \\mathcal{N}(-1, 1)$\n",
    "* $X_3 \\sim \\mathcal{N}(-2, 1)$\n",
    "* $X_4 \\sim \\mathcal{N}(0.5, 1)$\n",
    "* $Y \\sim \\mathcal{N}(5 + 2x_0 + 1x_1 + 3x_2 + 0.5x_3 + 1.5x_4, 1)$"
   ]
  },
  {
   "cell_type": "code",
   "execution_count": 4,
   "metadata": {
    "ExecuteTime": {
     "end_time": "2018-04-25T00:57:01.569000Z",
     "start_time": "2018-04-25T00:56:59.367000Z"
    }
   },
   "outputs": [
    {
     "name": "stdout",
     "output_type": "stream",
     "text": [
      "intercept + weights: [4.36847588 2.10524944 1.03287861 2.92075188 0.39290605 1.5431474 ]\n"
     ]
    }
   ],
   "source": [
    "X = np.hstack([\n",
    "        np.ones(n).reshape(n, 1), \n",
    "        normal(2.0, 1.0, n).reshape(n, 1),\n",
    "        normal(1.0, 1.0, n).reshape(n, 1),\n",
    "        normal(-1.0, 1.0, n).reshape(n, 1),\n",
    "        normal(-2.0, 1.0, n).reshape(n, 1),\n",
    "        normal(0.5, 1.0, n).reshape(n, 1)\n",
    "    ])\n",
    "y = normal(5.0 + 2.0 * X[:,1] + 1.0 * X[:,2] + 3.0 * X[:,3] + 0.5 * X[:,4] + 1.5 * X[:, 5], 1.0, n)\n",
    "w = np.array([np.random.randn() for _ in range(X.shape[1])])\n",
    "\n",
    "for i in range(1000):\n",
    "    w = w - loss_grad(w, X, y) * 0.01\n",
    "    \n",
    "print('intercept + weights: {}'.format(w))"
   ]
  }
 ],
 "metadata": {
  "kernelspec": {
   "display_name": "Python 3",
   "language": "python",
   "name": "python3"
  },
  "language_info": {
   "codemirror_mode": {
    "name": "ipython",
    "version": 3
   },
   "file_extension": ".py",
   "mimetype": "text/x-python",
   "name": "python",
   "nbconvert_exporter": "python",
   "pygments_lexer": "ipython3",
   "version": "3.7.3"
  },
  "toc": {
   "base_numbering": 1,
   "nav_menu": {},
   "number_sections": true,
   "sideBar": true,
   "skip_h1_title": false,
   "title_cell": "Table of Contents",
   "title_sidebar": "Contents",
   "toc_cell": false,
   "toc_position": {},
   "toc_section_display": true,
   "toc_window_display": false
  }
 },
 "nbformat": 4,
 "nbformat_minor": 4
}
