{
 "cells": [
  {
   "cell_type": "markdown",
   "id": "3a173231-f99a-4399-9bf6-f00e900fa2f1",
   "metadata": {},
   "source": [
    "# Entropy and Mutual Information\n",
    "\n",
    "Let's talk about `entropy` and `mutual information`. Entropy is understood in a couple of different ways. From a lay perspective, entropy is the magnitude of surprise; when something has a high level of surprise, then it has high entropy. But what is surprise? Surprise can be defined as the level of uncertainty; if knowing something is highly uncertain, then there is a lot of surprise to be expected.\n",
    "\n",
    "Take for example knowing the weather. Let's say the weather can be in any number of states: sunny, cloudy, rainy. If it is always sunny and never cloudy or rainy, then the weather is said to be not surprising or having very little uncertainty. However, when the weather can be equally sunny, cloudy or rainy, then it is very difficult to know and/or guess what the weather will be; for all states are equally probable. There is high uncertainty or a high level of surprise when the states of the weather are equally probable.\n",
    "\n",
    "As you can see, weather is a categorical variable having 3 states; sunny, cloudy or rainy. Each state takes on a probability such that adding all these probabilities must sum to 1. The distribution of the states/values of weather is called the `probability mass function`. When the state probabilities are all equal, then there is maximal entropy; when one state is only possible, then there is minimal entropy. \n",
    "\n",
    "Before we compute an example for each of this situations, let's see how entropy is defined.\n",
    "\n",
    "- $H(X) = -\\sum_i p(x_i) \\log p(x_i)$,\n",
    "\n",
    "where\n",
    "\n",
    "- $X$ is a variable \n",
    "- $p(x_i)$ is the probability of the i-th value of $X$\n",
    "- $H(X)$ is the entropy\n",
    "\n",
    "If you recall, $\\log x$, where the domain is $x \\in [0, 1]$, has the range $[-\\infty, 0]$. Thus, $\\log x$ is always negative, that is why when we sum over negatives, we add a negative at the front to convert $H(X)$ to positive. When $p(x_i) = 1$ then $\\log p(x_i) = \\log 1 = 0$. As $p(x_i)$ tends to zero, then $\\log p(x_i)$ tends to $-\\infty$. In fact, in practice, if $p(x_i) = 0$, then in many applications $\\log p(x_i) = \\log 0$ is simply discarded. This makes sense, since if there is no chance of observing a value/state, then it is like the value/state does not even exist. \n",
    "\n",
    "Let's visualize the natural log $\\log_e$ and log base 2 $\\log_2$ for the probabilities in the range [0, 1]."
   ]
  },
  {
   "cell_type": "code",
   "execution_count": 9,
   "id": "4006e191-2bb4-485c-99df-188eb64fda87",
   "metadata": {},
   "outputs": [
    {
     "data": {
      "text/html": [
       "<div>\n",
       "<style scoped>\n",
       "    .dataframe tbody tr th:only-of-type {\n",
       "        vertical-align: middle;\n",
       "    }\n",
       "\n",
       "    .dataframe tbody tr th {\n",
       "        vertical-align: top;\n",
       "    }\n",
       "\n",
       "    .dataframe thead th {\n",
       "        text-align: right;\n",
       "    }\n",
       "</style>\n",
       "<table border=\"1\" class=\"dataframe\">\n",
       "  <thead>\n",
       "    <tr style=\"text-align: right;\">\n",
       "      <th></th>\n",
       "      <th>log_p</th>\n",
       "      <th>log2_p</th>\n",
       "    </tr>\n",
       "  </thead>\n",
       "  <tbody>\n",
       "    <tr>\n",
       "      <th>0.01</th>\n",
       "      <td>-4.605170</td>\n",
       "      <td>-6.643856</td>\n",
       "    </tr>\n",
       "    <tr>\n",
       "      <th>0.02</th>\n",
       "      <td>-3.912023</td>\n",
       "      <td>-5.643856</td>\n",
       "    </tr>\n",
       "    <tr>\n",
       "      <th>0.03</th>\n",
       "      <td>-3.506558</td>\n",
       "      <td>-5.058894</td>\n",
       "    </tr>\n",
       "    <tr>\n",
       "      <th>0.04</th>\n",
       "      <td>-3.218876</td>\n",
       "      <td>-4.643856</td>\n",
       "    </tr>\n",
       "    <tr>\n",
       "      <th>0.05</th>\n",
       "      <td>-2.995732</td>\n",
       "      <td>-4.321928</td>\n",
       "    </tr>\n",
       "  </tbody>\n",
       "</table>\n",
       "</div>"
      ],
      "text/plain": [
       "         log_p    log2_p\n",
       "0.01 -4.605170 -6.643856\n",
       "0.02 -3.912023 -5.643856\n",
       "0.03 -3.506558 -5.058894\n",
       "0.04 -3.218876 -4.643856\n",
       "0.05 -2.995732 -4.321928"
      ]
     },
     "execution_count": 9,
     "metadata": {},
     "output_type": "execute_result"
    }
   ],
   "source": [
    "import numpy as np\n",
    "import pandas as pd\n",
    "\n",
    "p = np.arange(0.01, 1.01, 0.01)\n",
    "log_p = np.log(p)\n",
    "log2_p = np.log2(p)\n",
    "\n",
    "df = pd.DataFrame({\n",
    "    'log_p': log_p,\n",
    "    'log2_p': log2_p\n",
    "}, index=p)\n",
    "\n",
    "df.head()"
   ]
  },
  {
   "cell_type": "code",
   "execution_count": 19,
   "id": "acdebece-6d18-41a4-9b5e-6b1ad9955cca",
   "metadata": {},
   "outputs": [
    {
     "data": {
      "image/png": "[encoded data removed]",
      "text/plain": [
       "<Figure size 432x288 with 1 Axes>"
      ]
     },
     "metadata": {},
     "output_type": "display_data"
    }
   ],
   "source": [
    "import matplotlib.pyplot as plt\n",
    "\n",
    "plt.style.use('ggplot')\n",
    "\n",
    "fig, ax = plt.subplots()\n",
    "\n",
    "_ = df.log_p.plot(kind='line', ax=ax, label=r'$\\log_e p$')\n",
    "_ = df.log2_p.plot(kind='line', ax=ax, label=r'$\\log_2 p$')\n",
    "\n",
    "_ = ax.set_xlabel('p')\n",
    "_ = ax.legend()"
   ]
  },
  {
   "cell_type": "markdown",
   "id": "8dff65f7-9cf9-45af-9070-d7d28e280740",
   "metadata": {},
   "source": [
    "Now, let's go back to the weather example and assume the following states and probabilities.\n",
    "\n",
    "- sunny: 0.98\n",
    "- cloudy: 0.01\n",
    "- rainy: 0.01\n",
    "\n",
    "Let's compute the entropy."
   ]
  },
  {
   "cell_type": "code",
   "execution_count": 20,
   "id": "e11383af-b550-47ed-8b59-758d72cffedd",
   "metadata": {},
   "outputs": [
    {
     "data": {
      "text/plain": [
       "0.11190205689093088"
      ]
     },
     "execution_count": 20,
     "metadata": {},
     "output_type": "execute_result"
    }
   ],
   "source": [
    "probs = [0.98, 0.01, 0.01]\n",
    "H = -sum([p * np.log(p) for p in probs])\n",
    "H"
   ]
  },
  {
   "cell_type": "markdown",
   "id": "ba949726-6803-49e2-a39b-e7e98979f1a8",
   "metadata": {},
   "source": [
    "Now, let's say the states are nearly equally probable.\n",
    "\n",
    "- sunny: 0.33\n",
    "- cloudy: 0.33\n",
    "- rainy: 0.33\n",
    "\n",
    "What's the entropy?"
   ]
  },
  {
   "cell_type": "code",
   "execution_count": 22,
   "id": "82107670-610e-4fc6-a5ff-b2824f2fa79d",
   "metadata": {},
   "outputs": [
    {
     "data": {
      "text/plain": [
       "1.097575998276395"
      ]
     },
     "execution_count": 22,
     "metadata": {},
     "output_type": "execute_result"
    }
   ],
   "source": [
    "probs = [0.33, 0.33, 0.33]\n",
    "H = -sum([p * np.log(p) for p in probs])\n",
    "H"
   ]
  },
  {
   "cell_type": "markdown",
   "id": "49bdd833-6302-43aa-939c-98a5b58e2a21",
   "metadata": {},
   "source": [
    "Again, this simple example is to highlight that high entropy means more uncertainty (more surprise), and low entropy means less uncertainty (less surprise)."
   ]
  },
  {
   "cell_type": "code",
   "execution_count": null,
   "id": "1618534c-66b8-4b1d-aff3-30bca0d584c4",
   "metadata": {},
   "outputs": [],
   "source": []
  }
 ],
 "metadata": {
  "kernelspec": {
   "display_name": "Python 3",
   "language": "python",
   "name": "python3"
  },
  "language_info": {
   "codemirror_mode": {
    "name": "ipython",
    "version": 3
   },
   "file_extension": ".py",
   "mimetype": "text/x-python",
   "name": "python",
   "nbconvert_exporter": "python",
   "pygments_lexer": "ipython3",
   "version": "3.8.8"
  }
 },
 "nbformat": 4,
 "nbformat_minor": 5
}
