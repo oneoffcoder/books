{
 "cells": [
  {
   "cell_type": "markdown",
   "id": "weird-lithuania",
   "metadata": {},
   "source": [
    "# Entropy and Mutual Information\n",
    "\n",
    "Let's talk about `entropy` and `mutual information`. Entropy is understood in a couple of different ways. From a lay perspective, entropy is the magnitude of surprise; when something has a high level of surprise, then it has high entropy. But what is surprise? Surprise can be defined as the level of uncertainty; if knowing something is highly uncertain, then there is a lot of surprise to be expected.\n",
    "\n",
    "Take for example knowing the weather. Let's say the weather can be in any number of states: sunny, cloudy, rainy. If it is always sunny and never cloudy or rainy, then the weather is said to be not surprising or having very little uncertainty. However, when the weather can be equally sunny, cloudy or rainy, then it is very difficult to know and/or guess what the weather will be; for all states are equally probable. There is high uncertainty or a high level of surprise when the states of the weather are equally probable.\n",
    "\n",
    "As you can see, weather is a categorical variable having 3 states; sunny, cloudy or rainy. Each state takes on a probability such that adding all these probabilities must sum to 1. The distribution of the states/values of weather is called the `probability mass function`. When the state probabilities are all equal, then there is maximal entropy; when one state is only possible, then there is minimal entropy. \n",
    "\n",
    "Before we compute an example for each of this situations, let's see how entropy is defined.\n",
    "\n",
    "- $H(X) = -\\sum_i p(x_i) \\log p(x_i)$,\n",
    "\n",
    "where\n",
    "\n",
    "- $X$ is a variable \n",
    "- $p(x_i)$ is the probability of the i-th value of $X$\n",
    "- $H(X)$ is the entropy\n",
    "\n",
    "If you recall, $\\log x$, where the domain is $x \\in [0, 1]$, has the range $[-\\infty, 0]$. Thus, $\\log x$ is always negative, that is why after we sum over negatives, we add a negative at the front to convert $H(X)$ to positive. When $p(x_i) = 1$ then $\\log p(x_i) = \\log 1 = 0$. As $p(x_i)$ tends to zero, then $\\log p(x_i)$ tends to $-\\infty$. In fact, in practice, if $p(x_i) = 0$, then in many applications $\\log p(x_i) = \\log 0$ is simply discarded. This makes sense, since if there is no chance of observing a value/state, then it is like the value/state does not even exist. \n",
    "\n",
    "Let's visualize the natural log, $\\log_e$, log base 2, $\\log_2$ and log base 10, $\\log_{10}$, for the probabilities in the range [0, 1]."
   ]
  },
  {
   "cell_type": "code",
   "execution_count": 1,
   "id": "interior-sight",
   "metadata": {
    "execution": {
     "iopub.status.idle": "2021-09-30T04:31:17.327506Z",
     "shell.execute_reply": "2021-09-30T04:31:17.327079Z",
     "shell.execute_reply.started": "2021-09-30T04:31:17.173855Z"
    },
    "tags": []
   },
   "outputs": [
    {
     "data": {
      "text/html": [
       "<div>\n",
       "<style scoped>\n",
       "    .dataframe tbody tr th:only-of-type {\n",
       "        vertical-align: middle;\n",
       "    }\n",
       "\n",
       "    .dataframe tbody tr th {\n",
       "        vertical-align: top;\n",
       "    }\n",
       "\n",
       "    .dataframe thead th {\n",
       "        text-align: right;\n",
       "    }\n",
       "</style>\n",
       "<table border=\"1\" class=\"dataframe\">\n",
       "  <thead>\n",
       "    <tr style=\"text-align: right;\">\n",
       "      <th></th>\n",
       "      <th>log_p</th>\n",
       "      <th>log2_p</th>\n",
       "      <th>log10_p</th>\n",
       "    </tr>\n",
       "  </thead>\n",
       "  <tbody>\n",
       "    <tr>\n",
       "      <th>0.01</th>\n",
       "      <td>-4.605170</td>\n",
       "      <td>-6.643856</td>\n",
       "      <td>-2.000000</td>\n",
       "    </tr>\n",
       "    <tr>\n",
       "      <th>0.02</th>\n",
       "      <td>-3.912023</td>\n",
       "      <td>-5.643856</td>\n",
       "      <td>-1.698970</td>\n",
       "    </tr>\n",
       "    <tr>\n",
       "      <th>0.03</th>\n",
       "      <td>-3.506558</td>\n",
       "      <td>-5.058894</td>\n",
       "      <td>-1.522879</td>\n",
       "    </tr>\n",
       "    <tr>\n",
       "      <th>0.04</th>\n",
       "      <td>-3.218876</td>\n",
       "      <td>-4.643856</td>\n",
       "      <td>-1.397940</td>\n",
       "    </tr>\n",
       "    <tr>\n",
       "      <th>0.05</th>\n",
       "      <td>-2.995732</td>\n",
       "      <td>-4.321928</td>\n",
       "      <td>-1.301030</td>\n",
       "    </tr>\n",
       "  </tbody>\n",
       "</table>\n",
       "</div>"
      ],
      "text/plain": [
       "         log_p    log2_p   log10_p\n",
       "0.01 -4.605170 -6.643856 -2.000000\n",
       "0.02 -3.912023 -5.643856 -1.698970\n",
       "0.03 -3.506558 -5.058894 -1.522879\n",
       "0.04 -3.218876 -4.643856 -1.397940\n",
       "0.05 -2.995732 -4.321928 -1.301030"
      ]
     },
     "execution_count": 1,
     "metadata": {},
     "output_type": "execute_result"
    }
   ],
   "source": [
    "import numpy as np\n",
    "import pandas as pd\n",
    "import random\n",
    "\n",
    "np.random.seed(37)\n",
    "random.seed(37)\n",
    "\n",
    "p = np.arange(0.01, 1.01, 0.01)\n",
    "log_p = np.log(p)\n",
    "log2_p = np.log2(p)\n",
    "log10_p = np.log10(p)\n",
    "\n",
    "df = pd.DataFrame({\n",
    "    'log_p': log_p,\n",
    "    'log2_p': log2_p,\n",
    "    'log10_p': log10_p\n",
    "}, index=p)\n",
    "\n",
    "df.head()"
   ]
  },
  {
   "cell_type": "markdown",
   "id": "irish-utilization",
   "metadata": {},
   "source": [
    "As you can see below, $\\log_{10}$ tends to $-\\infty$ slowest, followed by $\\log_e$ and then $\\log_2$. The entropy is said to be \n",
    "\n",
    "- in `bit` unit when the base is `2`, \n",
    "- in `natural` unit when the base is `e`, and \n",
    "- in `dat` units when the base is `10`."
   ]
  },
  {
   "cell_type": "code",
   "execution_count": 2,
   "id": "prime-watson",
   "metadata": {
    "execution": {
     "iopub.execute_input": "2021-09-30T04:31:17.328179Z",
     "iopub.status.busy": "2021-09-30T04:31:17.328063Z",
     "iopub.status.idle": "2021-09-30T04:31:17.703283Z",
     "shell.execute_reply": "2021-09-30T04:31:17.702776Z",
     "shell.execute_reply.started": "2021-09-30T04:31:17.328165Z"
    },
    "tags": []
   },
   "outputs": [
    {
     "data": {
      "image/png": "[encoded data removed]",
      "text/plain": [
       "<Figure size 432x288 with 1 Axes>"
      ]
     },
     "metadata": {},
     "output_type": "display_data"
    }
   ],
   "source": [
    "import matplotlib.pyplot as plt\n",
    "\n",
    "plt.style.use('ggplot')\n",
    "\n",
    "fig, ax = plt.subplots()\n",
    "\n",
    "_ = df.log_p.plot(kind='line', ax=ax, label=r'$\\log_e p$')\n",
    "_ = df.log2_p.plot(kind='line', ax=ax, label=r'$\\log_2 p$')\n",
    "_ = df.log10_p.plot(kind='line', ax=ax, label=r'$\\log_{10} p$')\n",
    "\n",
    "_ = ax.set_xlabel('p')\n",
    "_ = ax.legend()"
   ]
  },
  {
   "cell_type": "markdown",
   "id": "hollow-blackjack",
   "metadata": {},
   "source": [
    "Now, let's go back to the weather example and assume the following states and probabilities.\n",
    "\n",
    "- sunny: 0.98\n",
    "- cloudy: 0.01\n",
    "- rainy: 0.01\n",
    "\n",
    "Let's compute the entropy."
   ]
  },
  {
   "cell_type": "code",
   "execution_count": 3,
   "id": "asian-decline",
   "metadata": {
    "execution": {
     "iopub.execute_input": "2021-09-30T04:31:17.706493Z",
     "iopub.status.busy": "2021-09-30T04:31:17.706286Z",
     "iopub.status.idle": "2021-09-30T04:31:17.710100Z",
     "shell.execute_reply": "2021-09-30T04:31:17.709683Z",
     "shell.execute_reply.started": "2021-09-30T04:31:17.706457Z"
    }
   },
   "outputs": [
    {
     "data": {
      "text/plain": [
       "0.11190205689093088"
      ]
     },
     "execution_count": 3,
     "metadata": {},
     "output_type": "execute_result"
    }
   ],
   "source": [
    "probs = [0.98, 0.01, 0.01]\n",
    "H = -sum([p * np.log(p) for p in probs])\n",
    "H"
   ]
  },
  {
   "cell_type": "markdown",
   "id": "productive-switch",
   "metadata": {},
   "source": [
    "Now, let's say the states are nearly equally probable.\n",
    "\n",
    "- sunny: 0.33\n",
    "- cloudy: 0.33\n",
    "- rainy: 0.33\n",
    "\n",
    "What's the entropy?"
   ]
  },
  {
   "cell_type": "code",
   "execution_count": 4,
   "id": "human-rental",
   "metadata": {
    "execution": {
     "iopub.execute_input": "2021-09-30T04:31:17.710936Z",
     "iopub.status.busy": "2021-09-30T04:31:17.710778Z",
     "iopub.status.idle": "2021-09-30T04:31:17.725146Z",
     "shell.execute_reply": "2021-09-30T04:31:17.724657Z",
     "shell.execute_reply.started": "2021-09-30T04:31:17.710915Z"
    }
   },
   "outputs": [
    {
     "data": {
      "text/plain": [
       "1.097575998276395"
      ]
     },
     "execution_count": 4,
     "metadata": {},
     "output_type": "execute_result"
    }
   ],
   "source": [
    "probs = [0.33, 0.33, 0.33]\n",
    "H = -sum([p * np.log(p) for p in probs])\n",
    "H"
   ]
  },
  {
   "cell_type": "markdown",
   "id": "lyric-cutting",
   "metadata": {},
   "source": [
    "Again, this simple example is to highlight that high entropy means more uncertainty (more surprise), and low entropy means less uncertainty (less surprise).\n",
    "\n",
    "Here's an easy example showing a variable with only 2 states. We can visualize what happens to the entropy as the probabilty of one of those states changes from nearly zero to nearly 1."
   ]
  },
  {
   "cell_type": "code",
   "execution_count": 5,
   "id": "thorough-rwanda",
   "metadata": {
    "execution": {
     "iopub.execute_input": "2021-09-30T04:31:17.726042Z",
     "iopub.status.busy": "2021-09-30T04:31:17.725871Z",
     "iopub.status.idle": "2021-09-30T04:31:17.733030Z",
     "shell.execute_reply": "2021-09-30T04:31:17.732621Z",
     "shell.execute_reply.started": "2021-09-30T04:31:17.726021Z"
    },
    "tags": []
   },
   "outputs": [
    {
     "data": {
      "text/html": [
       "<div>\n",
       "<style scoped>\n",
       "    .dataframe tbody tr th:only-of-type {\n",
       "        vertical-align: middle;\n",
       "    }\n",
       "\n",
       "    .dataframe tbody tr th {\n",
       "        vertical-align: top;\n",
       "    }\n",
       "\n",
       "    .dataframe thead th {\n",
       "        text-align: right;\n",
       "    }\n",
       "</style>\n",
       "<table border=\"1\" class=\"dataframe\">\n",
       "  <thead>\n",
       "    <tr style=\"text-align: right;\">\n",
       "      <th></th>\n",
       "      <th>p</th>\n",
       "      <th>H</th>\n",
       "    </tr>\n",
       "  </thead>\n",
       "  <tbody>\n",
       "    <tr>\n",
       "      <th>0</th>\n",
       "      <td>0.01</td>\n",
       "      <td>0.056002</td>\n",
       "    </tr>\n",
       "    <tr>\n",
       "      <th>1</th>\n",
       "      <td>0.02</td>\n",
       "      <td>0.098039</td>\n",
       "    </tr>\n",
       "    <tr>\n",
       "      <th>2</th>\n",
       "      <td>0.03</td>\n",
       "      <td>0.134742</td>\n",
       "    </tr>\n",
       "    <tr>\n",
       "      <th>3</th>\n",
       "      <td>0.04</td>\n",
       "      <td>0.167944</td>\n",
       "    </tr>\n",
       "    <tr>\n",
       "      <th>4</th>\n",
       "      <td>0.05</td>\n",
       "      <td>0.198515</td>\n",
       "    </tr>\n",
       "  </tbody>\n",
       "</table>\n",
       "</div>"
      ],
      "text/plain": [
       "      p         H\n",
       "0  0.01  0.056002\n",
       "1  0.02  0.098039\n",
       "2  0.03  0.134742\n",
       "3  0.04  0.167944\n",
       "4  0.05  0.198515"
      ]
     },
     "execution_count": 5,
     "metadata": {},
     "output_type": "execute_result"
    }
   ],
   "source": [
    "compute_entropy = lambda probs: -sum([p * np.log(p) for p in probs])\n",
    "\n",
    "df = pd.DataFrame([{'p': p, 'H': compute_entropy([p, 1.0 - p])} \n",
    "                   for p in np.arange(0.01, 1.0, 0.01)])\n",
    "df.head()"
   ]
  },
  {
   "cell_type": "markdown",
   "id": "subjective-judges",
   "metadata": {},
   "source": [
    "As you can see, entropy is maximal when the probability of one of those states is at `0.5` (when both states have equal probabilities)."
   ]
  },
  {
   "cell_type": "code",
   "execution_count": 6,
   "id": "naked-france",
   "metadata": {
    "execution": {
     "iopub.execute_input": "2021-09-30T04:31:17.733835Z",
     "iopub.status.busy": "2021-09-30T04:31:17.733678Z",
     "iopub.status.idle": "2021-09-30T04:31:18.442978Z",
     "shell.execute_reply": "2021-09-30T04:31:18.442360Z",
     "shell.execute_reply.started": "2021-09-30T04:31:17.733814Z"
    },
    "tags": []
   },
   "outputs": [
    {
     "data": {
      "image/png": "[encoded data removed]",
      "text/plain": [
       "<Figure size 1440x288 with 1 Axes>"
      ]
     },
     "metadata": {},
     "output_type": "display_data"
    }
   ],
   "source": [
    "ax = df.plot(kind='line', x='p', y='H', figsize=(20, 4))\n",
    "ax.set_ylabel('H')\n",
    "ax.get_legend().remove()\n",
    "_ = ax.set_xticks(df.p)\n",
    "_ = ax.set_xticklabels([f'{p:.2f}' for p in df.p], rotation=90)"
   ]
  },
  {
   "cell_type": "markdown",
   "id": "difficult-xerox",
   "metadata": {},
   "source": [
    "The entropy value is unbounded and in the range $[0, \\infty]$. However, we can `normalize` entropy, $\\eta(X)$, with dividing by $\\log n$ where $n$ is the total number of observations. \n",
    "\n",
    "- $\\eta(X) = \\frac{H(X)}{H_{\\mathrm{max}}} = \\frac{H(X)}{\\log n}$\n",
    "\n",
    "A normalized entropy brings the value back into unit $[0, 1]$ which may be more convenient to work with. If you think about it, $\\log n$ is the entropy when we have $n$ observations and also $n$ unique values; it is the maximum entropy possible when we have uniform distribution over all values.\n",
    "\n",
    "- $p(x) \\log p(x) \\leq H_{\\mathrm{max}}$\n",
    "- $\\eta(X) \\in [0, 1]$\n",
    "\n",
    "Here's a plot of normalized entropy for a variable with 2 values while varying the probability of one of those values from [0, 1]."
   ]
  },
  {
   "cell_type": "code",
   "execution_count": 7,
   "id": "infectious-north",
   "metadata": {
    "execution": {
     "iopub.execute_input": "2021-09-30T04:31:18.444010Z",
     "iopub.status.busy": "2021-09-30T04:31:18.443814Z",
     "iopub.status.idle": "2021-09-30T04:31:19.131458Z",
     "shell.execute_reply": "2021-09-30T04:31:19.130981Z",
     "shell.execute_reply.started": "2021-09-30T04:31:18.443988Z"
    },
    "tags": []
   },
   "outputs": [
    {
     "data": {
      "image/png": "[encoded data removed]",
      "text/plain": [
       "<Figure size 1440x288 with 1 Axes>"
      ]
     },
     "metadata": {},
     "output_type": "display_data"
    }
   ],
   "source": [
    "compute_entropy = lambda probs, n: -sum([p * np.log(p) for p in probs]) / np.log(n)\n",
    "\n",
    "df = pd.DataFrame([{'p': p, 'H': compute_entropy([p, 1.0 - p], 1000)} \n",
    "                   for p in np.arange(0.01, 1.0, 0.01)])\n",
    "\n",
    "ax = df.plot(kind='line', x='p', y='H', figsize=(20, 4))\n",
    "ax.set_ylabel('H')\n",
    "ax.get_legend().remove()\n",
    "_ = ax.set_xticks(df.p)\n",
    "_ = ax.set_xticklabels([f'{p:.2f}' for p in df.p], rotation=90)"
   ]
  },
  {
   "cell_type": "markdown",
   "id": "banner-hundred",
   "metadata": {},
   "source": [
    "Entropy is also called self-information. When interested in the information between two variables, we use mutual information. Mutual information bewteen two variables $X$ and $Y$ is denoted $I(X;Y)$ and defined as follows.\n",
    "\n",
    "- $I(X;Y) = \\sum_X \\sum_Y p(x, y) \\log \\frac{p(x, y)}{p(x) p(y)}$\n",
    "\n",
    "Note that $p(x, y)$ is the `joint distribution` and $\\log \\frac{p(x, y)}{p(x) p(y)}$ is called the `pointwise mutual information`.\n",
    "\n",
    "Mutual information is also unbounded like entropy $[0, \\infty]$. There are also normalized forms of $I(X;Y)$ as well, normalized mutual information `NMI`, which is in the range $[0, 1]$.\n",
    "\n",
    "The following NMI are asymmetric and called `coefficient of constraint`, `uncertainty coefficient` or `proficiency`.\n",
    "\n",
    "- $C(X;Y) = \\frac{I(X;Y)}{H(Y)}$\n",
    "- $C(Y;X) = \\frac{I(X;Y)}{H(X)}$\n",
    "\n",
    "Below, $R(X;Y)$ is called the `redundancy` measure and $U(X;Y)$ is called `symmetric uncertainty`.\n",
    "\n",
    "- $R(X;Y) = \\frac{I(X;Y)}{H(X) + H(Y)}$\n",
    "- $U(X;Y) = 2R$\n",
    "\n",
    "`Dual total correlation` or `Information Quality Ratio` IQR is given as follows.\n",
    "\n",
    "- $\\mathrm{IQR}=\\frac{I^*(X;Y)}{H(X, Y)}$, where \n",
    "  - $I^*(X;Y)=\\sum_X \\sum_Y p(x,y) \\log p_x p_y$\n",
    "  - $H(X, Y)=\\sum_X \\sum_Y p(x,y) \\log p(x,y)$\n",
    "  \n",
    "A NMI that can be computed similar to Pearson correlation coefficient is given as follows.\n",
    "\n",
    "- $P(X;Y) = \\frac{I(X;Y)}{\\sqrt{H(X)H(Y)}}$\n",
    "\n",
    "The interpretation of mutual information is a value closer to zero indicates less association between two variables; a value farther away from zero indicates more association between two variables. In terms of certainty; a value closer to zero indicates knowing about one variable does not reduce uncertainty about another; a value farther from zero indicates knowing about one variable does reduce uncertainty about another. \n",
    "\n",
    "Compare the interpretation of entropy with mutual information. For entropy, a higher value indicates more uncertainty or more surprise for that individual variable. For mutual information, a higher value indicates less uncertainty or less surprise for those two variables. \n",
    "\n",
    "Let's simulate some data about a scenario about the weather, umbrella usage and food. Let's define these variables as binary and as follows.\n",
    "\n",
    "- rain: is it rainy or not? 0 is no rain; 1 is rain.\n",
    "- umbrella: do we bring an umbrella with us or not? 0 is no umbrella; 1 is bringing an umbrella.\n",
    "- food: do we eat pizza or not? 0 is no pizza; 1 is eating pizza.\n",
    "\n",
    "Let's say these are the probabilities and dependencies between the three variables.\n",
    "\n",
    "- rain: it rains 45% of the time and 55% it does not rain\n",
    "- umbrella\n",
    "  - when it rains, we bring an umbrella 90% of the time and we do not bring one 10% of the time\n",
    "  - when it does not rain, we bring an umbrella 10% of the time and we do not bring one 90% of the time\n",
    "- pizza: we eat pizza 50% of the time\n",
    "\n",
    "Then we can simulate events (records) as follows."
   ]
  },
  {
   "cell_type": "code",
   "execution_count": 8,
   "id": "bright-scenario",
   "metadata": {
    "execution": {
     "iopub.execute_input": "2021-09-30T04:31:19.132654Z",
     "iopub.status.busy": "2021-09-30T04:31:19.132544Z",
     "iopub.status.idle": "2021-09-30T04:31:19.140977Z",
     "shell.execute_reply": "2021-09-30T04:31:19.140562Z",
     "shell.execute_reply.started": "2021-09-30T04:31:19.132640Z"
    },
    "tags": []
   },
   "outputs": [
    {
     "data": {
      "text/html": [
       "<div>\n",
       "<style scoped>\n",
       "    .dataframe tbody tr th:only-of-type {\n",
       "        vertical-align: middle;\n",
       "    }\n",
       "\n",
       "    .dataframe tbody tr th {\n",
       "        vertical-align: top;\n",
       "    }\n",
       "\n",
       "    .dataframe thead th {\n",
       "        text-align: right;\n",
       "    }\n",
       "</style>\n",
       "<table border=\"1\" class=\"dataframe\">\n",
       "  <thead>\n",
       "    <tr style=\"text-align: right;\">\n",
       "      <th></th>\n",
       "      <th>rain</th>\n",
       "      <th>umbrella</th>\n",
       "      <th>pizza</th>\n",
       "    </tr>\n",
       "  </thead>\n",
       "  <tbody>\n",
       "    <tr>\n",
       "      <th>0</th>\n",
       "      <td>0</td>\n",
       "      <td>0</td>\n",
       "      <td>1</td>\n",
       "    </tr>\n",
       "    <tr>\n",
       "      <th>1</th>\n",
       "      <td>0</td>\n",
       "      <td>0</td>\n",
       "      <td>0</td>\n",
       "    </tr>\n",
       "    <tr>\n",
       "      <th>2</th>\n",
       "      <td>1</td>\n",
       "      <td>1</td>\n",
       "      <td>1</td>\n",
       "    </tr>\n",
       "    <tr>\n",
       "      <th>3</th>\n",
       "      <td>0</td>\n",
       "      <td>0</td>\n",
       "      <td>0</td>\n",
       "    </tr>\n",
       "    <tr>\n",
       "      <th>4</th>\n",
       "      <td>1</td>\n",
       "      <td>0</td>\n",
       "      <td>0</td>\n",
       "    </tr>\n",
       "  </tbody>\n",
       "</table>\n",
       "</div>"
      ],
      "text/plain": [
       "   rain  umbrella  pizza\n",
       "0     0         0      1\n",
       "1     0         0      0\n",
       "2     1         1      1\n",
       "3     0         0      0\n",
       "4     1         0      0"
      ]
     },
     "execution_count": 8,
     "metadata": {},
     "output_type": "execute_result"
    }
   ],
   "source": [
    "def get_data(n=100):\n",
    "    def get_rain():\n",
    "        p = np.random.random()\n",
    "        if p < 0.45:\n",
    "            return 1\n",
    "        return 0\n",
    "    \n",
    "    def get_umbrella(rain):\n",
    "        p = np.random.random()\n",
    "        if rain == 0:\n",
    "            if p < 0.1:\n",
    "                return 1\n",
    "            else:\n",
    "                return 0\n",
    "        else:\n",
    "            if p < 0.9:\n",
    "                return 1\n",
    "            else:\n",
    "                return 0\n",
    "    \n",
    "    def get_pizza():\n",
    "        p = np.random.random()\n",
    "        if p < 0.5:\n",
    "            return 1\n",
    "        return 0\n",
    "    \n",
    "    def get_event():\n",
    "        rain = get_rain()\n",
    "        umbrella = get_umbrella(rain)\n",
    "        pizza = get_pizza()\n",
    "        \n",
    "        return {'rain': rain, 'umbrella': umbrella, 'pizza': pizza}\n",
    "    \n",
    "    return pd.DataFrame([get_event() for _ in range(n)])\n",
    "\n",
    "df = get_data()\n",
    "df.head()"
   ]
  },
  {
   "cell_type": "markdown",
   "id": "vanilla-leadership",
   "metadata": {},
   "source": [
    "Now let's compute the mutual information and normalized mutual information. Check these results with `sklearn` and `scipy`.\n",
    "\n",
    "- [SciPy Entropy](https://docs.scipy.org/doc/scipy/reference/generated/scipy.stats.entropy.html)\n",
    "- [sklearn mutual information](https://scikit-learn.org/stable/modules/generated/sklearn.metrics.mutual_info_score.html)\n",
    "- [sklearn normalized mutual information](https://scikit-learn.org/stable/modules/generated/sklearn.metrics.normalized_mutual_info_score.html)"
   ]
  },
  {
   "cell_type": "code",
   "execution_count": 9,
   "id": "optimum-instruction",
   "metadata": {
    "execution": {
     "iopub.execute_input": "2021-09-30T04:31:19.141807Z",
     "iopub.status.busy": "2021-09-30T04:31:19.141648Z",
     "iopub.status.idle": "2021-09-30T04:31:19.180162Z",
     "shell.execute_reply": "2021-09-30T04:31:19.179822Z",
     "shell.execute_reply.started": "2021-09-30T04:31:19.141793Z"
    },
    "tags": []
   },
   "outputs": [
    {
     "data": {
      "text/html": [
       "<div>\n",
       "<style scoped>\n",
       "    .dataframe tbody tr th:only-of-type {\n",
       "        vertical-align: middle;\n",
       "    }\n",
       "\n",
       "    .dataframe tbody tr th {\n",
       "        vertical-align: top;\n",
       "    }\n",
       "\n",
       "    .dataframe thead th {\n",
       "        text-align: right;\n",
       "    }\n",
       "</style>\n",
       "<table border=\"1\" class=\"dataframe\">\n",
       "  <thead>\n",
       "    <tr style=\"text-align: right;\">\n",
       "      <th></th>\n",
       "      <th>X</th>\n",
       "      <th>Y</th>\n",
       "      <th>H(X)</th>\n",
       "      <th>H(Y)</th>\n",
       "      <th>H(X,Y)</th>\n",
       "      <th>I(X;Y)</th>\n",
       "      <th>R(X;Y)</th>\n",
       "      <th>U(X;Y)</th>\n",
       "      <th>C(X;Y)</th>\n",
       "      <th>C(Y;X)</th>\n",
       "      <th>IQR(X,Y)</th>\n",
       "      <th>P(X;Y)</th>\n",
       "    </tr>\n",
       "  </thead>\n",
       "  <tbody>\n",
       "    <tr>\n",
       "      <th>0</th>\n",
       "      <td>rain</td>\n",
       "      <td>umbrella</td>\n",
       "      <td>0.692947</td>\n",
       "      <td>0.689944</td>\n",
       "      <td>-1.069149</td>\n",
       "      <td>0.313742</td>\n",
       "      <td>0.226874</td>\n",
       "      <td>0.453748</td>\n",
       "      <td>0.454736</td>\n",
       "      <td>0.452765</td>\n",
       "      <td>0.293450</td>\n",
       "      <td>0.453749</td>\n",
       "    </tr>\n",
       "    <tr>\n",
       "      <th>1</th>\n",
       "      <td>rain</td>\n",
       "      <td>pizza</td>\n",
       "      <td>0.692947</td>\n",
       "      <td>0.689944</td>\n",
       "      <td>-1.381173</td>\n",
       "      <td>0.001718</td>\n",
       "      <td>0.001242</td>\n",
       "      <td>0.002484</td>\n",
       "      <td>0.002490</td>\n",
       "      <td>0.002479</td>\n",
       "      <td>0.001244</td>\n",
       "      <td>0.002484</td>\n",
       "    </tr>\n",
       "    <tr>\n",
       "      <th>2</th>\n",
       "      <td>umbrella</td>\n",
       "      <td>pizza</td>\n",
       "      <td>0.689944</td>\n",
       "      <td>0.689944</td>\n",
       "      <td>-1.379316</td>\n",
       "      <td>0.000572</td>\n",
       "      <td>0.000414</td>\n",
       "      <td>0.000829</td>\n",
       "      <td>0.000829</td>\n",
       "      <td>0.000829</td>\n",
       "      <td>0.000414</td>\n",
       "      <td>0.000829</td>\n",
       "    </tr>\n",
       "  </tbody>\n",
       "</table>\n",
       "</div>"
      ],
      "text/plain": [
       "          X         Y      H(X)      H(Y)    H(X,Y)    I(X;Y)    R(X;Y)  \\\n",
       "0      rain  umbrella  0.692947  0.689944 -1.069149  0.313742  0.226874   \n",
       "1      rain     pizza  0.692947  0.689944 -1.381173  0.001718  0.001242   \n",
       "2  umbrella     pizza  0.689944  0.689944 -1.379316  0.000572  0.000414   \n",
       "\n",
       "     U(X;Y)    C(X;Y)    C(Y;X)  IQR(X,Y)    P(X;Y)  \n",
       "0  0.453748  0.454736  0.452765  0.293450  0.453749  \n",
       "1  0.002484  0.002490  0.002479  0.001244  0.002484  \n",
       "2  0.000829  0.000829  0.000829  0.000414  0.000829  "
      ]
     },
     "execution_count": 9,
     "metadata": {},
     "output_type": "execute_result"
    }
   ],
   "source": [
    "from itertools import combinations\n",
    "\n",
    "def compute_entropy(field):\n",
    "    values = df[field].value_counts()\n",
    "    n = values.sum()\n",
    "    probs = [v / n for v in values]\n",
    "    H = -sum([p * np.log(p) for p in probs if p > 0.0])\n",
    "    return H\n",
    "\n",
    "def compute_mi(x, y):\n",
    "    def compute_pmi(xy_c, x_c, y_c, xy_n, x_n, y_n):\n",
    "        a = xy_c / xy_n\n",
    "        b = x_c / x_n\n",
    "        c = y_c / y_n\n",
    "        d = a / (b * c)\n",
    "        \n",
    "        if b == 0 or c == 0 or d == 0:\n",
    "            return 0\n",
    "        \n",
    "        return a * np.log(d)\n",
    "    \n",
    "    def compute_joint_entropy(probs):\n",
    "        return sum([p * np.log(p) for p in probs])\n",
    "        \n",
    "    xy_00 = df[(df[x]==0) & (df[y]==0)].shape[0]\n",
    "    xy_01 = df[(df[x]==0) & (df[y]==1)].shape[0]\n",
    "    xy_10 = df[(df[x]==1) & (df[y]==0)].shape[0]\n",
    "    xy_11 = df[(df[x]==1) & (df[y]==1)].shape[0]\n",
    "    xy_n = xy_00 + xy_01 + xy_10 + xy_11\n",
    "    \n",
    "    x_0 = df[df[x]==0].shape[0]\n",
    "    x_1 = df[df[x]==1].shape[0]\n",
    "    x_n = x_0 + x_1\n",
    "    \n",
    "    y_0 = df[df[y]==0].shape[0]\n",
    "    y_1 = df[df[y]==1].shape[0]\n",
    "    y_n = y_0 + y_1\n",
    "    \n",
    "    values = [\n",
    "        compute_pmi(xy_00, x_0, y_0, xy_n, x_n, y_n),\n",
    "        compute_pmi(xy_01, x_0, y_1, xy_n, x_n, y_n),\n",
    "        compute_pmi(xy_10, x_1, y_0, xy_n, x_n, y_n),\n",
    "        compute_pmi(xy_11, x_1, y_1, xy_n, x_n, y_n)\n",
    "    ]\n",
    "    \n",
    "    MI = sum(values)\n",
    "    H_X = compute_entropy(x)\n",
    "    H_Y = compute_entropy(y)\n",
    "    \n",
    "    values = [\n",
    "        (xy_00/xy_n, x_0/x_n, y_0/y_n),\n",
    "        (xy_01/xy_n, x_0/x_n, y_1/y_n),\n",
    "        (xy_10/xy_n, x_1/x_n, y_0/y_n),\n",
    "        (xy_11/xy_n, x_1/x_n, y_1/y_n)\n",
    "    ]\n",
    "    \n",
    "    I_XY = sum([p_xy * np.log(p_x * p_y) for p_xy, p_x, p_y in values])\n",
    "    H_XY = compute_joint_entropy([xy_00/xy_n, xy_01/xy_n, xy_10/xy_n, xy_11/xy_n])\n",
    "    \n",
    "    C_XY = MI / H_Y\n",
    "    C_YX = MI / H_X\n",
    "    R = MI / (H_X + H_Y)\n",
    "    U = 2 * R\n",
    "    IQR = (I_XY / H_XY) - 1\n",
    "    P = MI / np.sqrt(H_X * H_Y)\n",
    "    \n",
    "    return {\n",
    "        'X': x,\n",
    "        'Y': y,\n",
    "        'H(X)': H_X,\n",
    "        'H(Y)': H_Y,\n",
    "        'H(X,Y)': H_XY,\n",
    "        'I(X;Y)': MI,\n",
    "        'R(X;Y)': R,\n",
    "        'U(X;Y)': U,\n",
    "        'C(X;Y)': C_XY,\n",
    "        'C(Y;X)': C_YX,\n",
    "        'IQR(X,Y)': IQR,\n",
    "        'P(X;Y)': P\n",
    "        \n",
    "    }\n",
    "\n",
    "pd.DataFrame([compute_mi(x, y) for x, y in combinations(df.columns, 2)])"
   ]
  }
 ],
 "metadata": {
  "kernelspec": {
   "display_name": "Python 3",
   "language": "python",
   "name": "python3"
  },
  "language_info": {
   "codemirror_mode": {
    "name": "ipython",
    "version": 3
   },
   "file_extension": ".py",
   "mimetype": "text/x-python",
   "name": "python",
   "nbconvert_exporter": "python",
   "pygments_lexer": "ipython3",
   "version": "3.8.5"
  },
  "widgets": {
   "application/vnd.jupyter.widget-state+json": {
    "state": {},
    "version_major": 2,
    "version_minor": 0
   }
  }
 },
 "nbformat": 4,
 "nbformat_minor": 5
}
