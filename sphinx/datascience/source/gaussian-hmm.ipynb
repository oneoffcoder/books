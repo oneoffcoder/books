{
 "cells": [
  {
   "cell_type": "markdown",
   "metadata": {},
   "source": [
    "# Gaussian Hidden Markov Models"
   ]
  },
  {
   "cell_type": "markdown",
   "metadata": {},
   "source": [
    "Gaussian Hidden Markov Models, `GHHMs`, are a type of HMMs where you have $Z$ states generating a sequence $X$ of values that are Gaussian distributed. $Z$ is said to be `hidden` since you never observe the state (at any particular time), and $X$ is said to be observed since you can see the sequence. The hidden states have a transition matrix $A$ that specifies the conditional probability of moving from the `i-th` state to the `j-th` state, denoted typically as, $a_{ij}$. The probability of an observation is Gaussian distributed with $\\theta$ parameters. Typically, you may have prior knowledge of the initial state of the system, and this is represented by a probability vector $\\pi$. A GHMM model, $\\lambda$, is defined as follows.\n",
    "\n",
    "$\\lambda = (A, \\theta, \\pi)$\n",
    "\n",
    "We are usually interested in solving three fundamental problems with a HMM (including GHHM). \n",
    "\n",
    "- `evaluation`: Given $X$ and $\\lambda = (A, \\theta, \\pi)$, what is $P(X|\\lambda)$?\n",
    "- `recognition`: Given $X$ and $\\lambda = (A, \\theta, \\pi)$, what is the best hidden state sequence $Z$ that best explains $X$?\n",
    "- `training`: Given $X$, how do we learn the model parameters $\\lambda = (A, \\theta, \\pi)$ to maximize $P(X|\\lambda)$?\n",
    "\n",
    "These problems are well understood and there are canonical algorithms to solve each.\n",
    "\n",
    "- `evaluation`: Evaluation is solved by the [Foward-Backward algorithm](https://en.wikipedia.org/wiki/Forward%E2%80%93backward_algorithm).\n",
    "- `recognition`: Recognition is solved by dynamic programming algorithms known as [Viterbi algorithm](https://en.wikipedia.org/wiki/Viterbi_algorithm).\n",
    "- `training`: Training is solved by by the [Baum-Welch algorithm](https://en.wikipedia.org/wiki/Baum%E2%80%93Welch_algorithm), a special instance of the [Expectation-Maximization (EM) algorithm](https://en.wikipedia.org/wiki/Expectation%E2%80%93maximization_algorithm)."
   ]
  },
  {
   "cell_type": "markdown",
   "metadata": {},
   "source": [
    "## Data\n",
    "\n",
    "Let's sample data from a fictitious GHHM. \n",
    "\n",
    "- $A = \\left[\\begin{matrix}0.7 & 0.3 \\\\ 0.4 & 0.6\\end{matrix}\\right]$\n",
    "- $\\theta = [\\mathcal N(1, 1), \\mathcal N(5, 1)]$\n",
    "- $\\pi = [0.6, 0.4]$\n",
    "\n",
    "We will trace the hidden states in $O_z$ and the observed values in $O_x$."
   ]
  },
  {
   "cell_type": "code",
   "execution_count": 1,
   "metadata": {},
   "outputs": [],
   "source": [
    "import numpy as np\n",
    "from scipy.stats import norm\n",
    "from random import choice\n",
    "import bisect\n",
    "import pandas as pd\n",
    "\n",
    "np.random.seed(37)\n",
    "\n",
    "p = np.array([0.6, 0.4])\n",
    "Z = np.array([[0.7, 0.3], [0.4, 0.6]])\n",
    "A = Z.cumsum(axis=1)\n",
    "T = [norm(1, 1), norm(5, 1)]\n",
    "\n",
    "O_z = []\n",
    "O_x = []\n",
    "\n",
    "n_iters = 100_000\n",
    "\n",
    "z = bisect.bisect_left(p.cumsum(), np.random.random())\n",
    "x = T[z].rvs()\n",
    "\n",
    "for it in range(n_iters):\n",
    "    O_z.append(z)\n",
    "    O_x.append(x)\n",
    "\n",
    "    z = bisect.bisect_left(A[z], np.random.random())\n",
    "    x = T[z].rvs()\n",
    "\n",
    "O_z = np.array(O_z)\n",
    "O_x = np.array(O_x)"
   ]
  },
  {
   "cell_type": "markdown",
   "metadata": {},
   "source": [
    "By tracing the sequence of hidden states in $O_z$, we can compute the marginal probabilties (also called the unconditional probabilities) of the states in $Z$."
   ]
  },
  {
   "cell_type": "code",
   "execution_count": 2,
   "metadata": {},
   "outputs": [
    {
     "data": {
      "text/plain": [
       "0    0.57421\n",
       "1    0.42579\n",
       "dtype: float64"
      ]
     },
     "execution_count": 2,
     "metadata": {},
     "output_type": "execute_result"
    }
   ],
   "source": [
    "s = pd.Series(O_z).value_counts().sort_index()\n",
    "s / s.sum()"
   ]
  },
  {
   "cell_type": "markdown",
   "metadata": {},
   "source": [
    "Here's a snippet of the sequence of $Z$ in $O_z$."
   ]
  },
  {
   "cell_type": "code",
   "execution_count": 3,
   "metadata": {},
   "outputs": [
    {
     "data": {
      "text/plain": [
       "array([1, 1, 1, ..., 0, 1, 1])"
      ]
     },
     "execution_count": 3,
     "metadata": {},
     "output_type": "execute_result"
    }
   ],
   "source": [
    "O_z"
   ]
  },
  {
   "cell_type": "markdown",
   "metadata": {},
   "source": [
    "Here's a snippet of the sequence of $X$ in $O_x$."
   ]
  },
  {
   "cell_type": "code",
   "execution_count": 4,
   "metadata": {},
   "outputs": [
    {
     "data": {
      "text/plain": [
       "array([ 3.62328106,  4.83910832,  4.3358552 , ..., -0.55832225,\n",
       "        3.61938788,  4.89798618])"
      ]
     },
     "execution_count": 4,
     "metadata": {},
     "output_type": "execute_result"
    }
   ],
   "source": [
    "O_x"
   ]
  },
  {
   "cell_type": "markdown",
   "metadata": {},
   "source": [
    "We can visualize the distribution of $O_x$. Clearly, the resulting density estimation of $X$ is a Gaussian mixture."
   ]
  },
  {
   "cell_type": "code",
   "execution_count": 5,
   "metadata": {},
   "outputs": [
    {
     "data": {
      "image/png": "[encoded data removed]",
      "text/plain": [
       "<Figure size 432x288 with 1 Axes>"
      ]
     },
     "metadata": {},
     "output_type": "display_data"
    }
   ],
   "source": [
    "import pandas as pd\n",
    "import matplotlib.pyplot as plt\n",
    "\n",
    "plt.style.use('ggplot')\n",
    "\n",
    "_ = pd.Series(O_x).plot(kind='kde', title='Density Estimation of X')"
   ]
  },
  {
   "cell_type": "markdown",
   "metadata": {},
   "source": [
    "## Training\n",
    "\n",
    "We will use [hmmlearn](https://hmmlearn.readthedocs.io/en/latest/index.html) to illustrate how to solve the three fundamental problems above. First, we will learn the model using the `fit()` function. The model is specified with `n_components=2` to represent the number of hidden states, but, typically, we do not how many hidden states there actually are. In this running example, we know the number of hidden states because we created the GHMM. "
   ]
  },
  {
   "cell_type": "code",
   "execution_count": 6,
   "metadata": {},
   "outputs": [],
   "source": [
    "from hmmlearn import hmm\n",
    "\n",
    "Q = O_x.reshape(O_x.shape[0], 1)\n",
    "\n",
    "model = hmm.GaussianHMM(n_components=2, n_iter=2_000).fit(Q)\n",
    "\n",
    "mus = np.ravel(model.means_)\n",
    "sigmas = np.ravel(np.sqrt([np.diag(c) for c in model.covars_]))\n",
    "P = model.transmat_"
   ]
  },
  {
   "cell_type": "markdown",
   "metadata": {},
   "source": [
    "This result shows the estimated $\\theta$."
   ]
  },
  {
   "cell_type": "code",
   "execution_count": 7,
   "metadata": {},
   "outputs": [
    {
     "data": {
      "text/plain": [
       "(array([1.00006561, 4.98655358]), array([1.00133963, 1.00569075]))"
      ]
     },
     "execution_count": 7,
     "metadata": {},
     "output_type": "execute_result"
    }
   ],
   "source": [
    "mus, sigmas"
   ]
  },
  {
   "cell_type": "markdown",
   "metadata": {},
   "source": [
    "Here is the estimated $A$."
   ]
  },
  {
   "cell_type": "code",
   "execution_count": 8,
   "metadata": {},
   "outputs": [
    {
     "data": {
      "text/plain": [
       "array([[0.70078564, 0.29921436],\n",
       "       [0.40153297, 0.59846703]])"
      ]
     },
     "execution_count": 8,
     "metadata": {},
     "output_type": "execute_result"
    }
   ],
   "source": [
    "P"
   ]
  },
  {
   "cell_type": "markdown",
   "metadata": {},
   "source": [
    "In general, the order of the elements in the estimated $\\theta$ and $A$ will not correspond to the original ones. We simply got `lucky` here that the states/elements corresponded!"
   ]
  },
  {
   "cell_type": "markdown",
   "metadata": {},
   "source": [
    "## Recognition\n",
    "\n",
    "Recognition is solved using the `predict()` method, which predicts the sequence of hidden state in $Z$ from the sequence of observations in $X$."
   ]
  },
  {
   "cell_type": "code",
   "execution_count": 9,
   "metadata": {},
   "outputs": [
    {
     "data": {
      "text/plain": [
       "0    0.57365\n",
       "1    0.42635\n",
       "dtype: float64"
      ]
     },
     "execution_count": 9,
     "metadata": {},
     "output_type": "execute_result"
    }
   ],
   "source": [
    "hidden_states = model.predict(Q)\n",
    "\n",
    "s = pd.Series(hidden_states).value_counts().sort_index()\n",
    "s / s.sum()"
   ]
  },
  {
   "cell_type": "markdown",
   "metadata": {},
   "source": [
    "You can also use the `decode()` method too, which will return `(score, hidden state sequence)`."
   ]
  },
  {
   "cell_type": "code",
   "execution_count": 10,
   "metadata": {},
   "outputs": [
    {
     "data": {
      "text/plain": [
       "0    0.57365\n",
       "1    0.42635\n",
       "dtype: float64"
      ]
     },
     "execution_count": 10,
     "metadata": {},
     "output_type": "execute_result"
    }
   ],
   "source": [
    "_, hidden_states = model.decode(Q)\n",
    "\n",
    "s = pd.Series(hidden_states).value_counts().sort_index()\n",
    "s / s.sum()"
   ]
  },
  {
   "cell_type": "markdown",
   "metadata": {},
   "source": [
    "## Evaluation\n",
    "\n",
    "The `score()` method will return the log probability of the observed sequence."
   ]
  },
  {
   "cell_type": "code",
   "execution_count": 11,
   "metadata": {},
   "outputs": [
    {
     "data": {
      "text/plain": [
       "-200384.94195070988"
      ]
     },
     "execution_count": 11,
     "metadata": {},
     "output_type": "execute_result"
    }
   ],
   "source": [
    "model.score(Q)"
   ]
  }
 ],
 "metadata": {
  "kernelspec": {
   "display_name": "Python 3",
   "language": "python",
   "name": "python3"
  },
  "language_info": {
   "codemirror_mode": {
    "name": "ipython",
    "version": 3
   },
   "file_extension": ".py",
   "mimetype": "text/x-python",
   "name": "python",
   "nbconvert_exporter": "python",
   "pygments_lexer": "ipython3",
   "version": "3.8.3"
  },
  "widgets": {
   "application/vnd.jupyter.widget-state+json": {
    "state": {},
    "version_major": 2,
    "version_minor": 0
   }
  }
 },
 "nbformat": 4,
 "nbformat_minor": 4
}
