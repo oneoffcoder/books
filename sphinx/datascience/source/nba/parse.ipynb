{
 "cells": [
  {
   "cell_type": "code",
   "execution_count": 5,
   "id": "1e3ef6d2-6869-499e-afe1-3851d206d0c1",
   "metadata": {
    "execution": {
     "iopub.execute_input": "2021-11-28T16:35:30.538008Z",
     "iopub.status.busy": "2021-11-28T16:35:30.537011Z",
     "iopub.status.idle": "2021-11-28T16:35:33.618008Z",
     "shell.execute_reply": "2021-11-28T16:35:33.618008Z",
     "shell.execute_reply.started": "2021-11-28T16:35:30.538008Z"
    },
    "tags": []
   },
   "outputs": [],
   "source": [
    "from bs4 import BeautifulSoup\n",
    "\n",
    "with open('./nba-standing-20211128.htm', 'r', encoding='utf-8') as f:\n",
    "    html = f.read()\n",
    "\n",
    "soup = BeautifulSoup(html, 'html.parser')"
   ]
  },
  {
   "cell_type": "code",
   "execution_count": 7,
   "id": "c963941d-e749-4a90-9ec3-b38f036129a6",
   "metadata": {
    "execution": {
     "iopub.execute_input": "2021-11-28T16:39:00.765032Z",
     "iopub.status.busy": "2021-11-28T16:39:00.764028Z",
     "iopub.status.idle": "2021-11-28T16:39:00.944028Z",
     "shell.execute_reply": "2021-11-28T16:39:00.943023Z",
     "shell.execute_reply.started": "2021-11-28T16:39:00.765032Z"
    },
    "tags": []
   },
   "outputs": [
    {
     "data": {
      "text/plain": [
       "421"
      ]
     },
     "execution_count": 7,
     "metadata": {},
     "output_type": "execute_result"
    }
   ],
   "source": [
    "td_list = soup.find_all('td', 'liveresults-sports-immersive__match-tile')\n",
    "len(td_list)"
   ]
  },
  {
   "cell_type": "code",
   "execution_count": 8,
   "id": "ccdf4f00-e23a-4865-9be1-5bfb395fc611",
   "metadata": {
    "execution": {
     "iopub.execute_input": "2021-11-28T16:40:51.176030Z",
     "iopub.status.busy": "2021-11-28T16:40:51.176030Z",
     "iopub.status.idle": "2021-11-28T16:40:51.262026Z",
     "shell.execute_reply": "2021-11-28T16:40:51.261029Z",
     "shell.execute_reply.started": "2021-11-28T16:40:51.176030Z"
    }
   },
   "outputs": [
    {
     "data": {
      "text/plain": [
       "421"
      ]
     },
     "execution_count": 8,
     "metadata": {},
     "output_type": "execute_result"
    }
   ],
   "source": [
    "table_list = soup.find_all('table', 'KAIX8d')\n",
    "len(table_list)"
   ]
  },
  {
   "cell_type": "code",
   "execution_count": 9,
   "id": "4e22fac2-f099-45ad-bdff-eed0fba39d3f",
   "metadata": {
    "execution": {
     "iopub.execute_input": "2021-11-28T16:43:45.868043Z",
     "iopub.status.busy": "2021-11-28T16:43:45.867043Z",
     "iopub.status.idle": "2021-11-28T16:43:45.877043Z",
     "shell.execute_reply": "2021-11-28T16:43:45.877043Z",
     "shell.execute_reply.started": "2021-11-28T16:43:45.868043Z"
    }
   },
   "outputs": [
    {
     "data": {
      "text/plain": [
       "2"
      ]
     },
     "execution_count": 9,
     "metadata": {},
     "output_type": "execute_result"
    }
   ],
   "source": [
    "table = table_list[0]\n",
    "tr_list = table.find_all('tr', 'L5Kkcd')\n",
    "len(tr_list)"
   ]
  },
  {
   "cell_type": "code",
   "execution_count": 10,
   "id": "98704b5a-9cfa-4c63-aed5-b6f1a969cfc6",
   "metadata": {
    "execution": {
     "iopub.execute_input": "2021-11-28T16:45:23.215041Z",
     "iopub.status.busy": "2021-11-28T16:45:23.214043Z",
     "iopub.status.idle": "2021-11-28T16:45:23.237043Z",
     "shell.execute_reply": "2021-11-28T16:45:23.236038Z",
     "shell.execute_reply.started": "2021-11-28T16:45:23.215041Z"
    }
   },
   "outputs": [
    {
     "data": {
      "text/plain": [
       "1"
      ]
     },
     "execution_count": 10,
     "metadata": {},
     "output_type": "execute_result"
    }
   ],
   "source": [
    "tr = tr_list[0]\n",
    "td_list = tr.find_all('td', 'tns-c')\n",
    "\n",
    "len(td_list)"
   ]
  },
  {
   "cell_type": "code",
   "execution_count": 11,
   "id": "694f9c86-e91d-4879-ada1-aa8e0a644629",
   "metadata": {
    "execution": {
     "iopub.execute_input": "2021-11-28T16:45:31.592048Z",
     "iopub.status.busy": "2021-11-28T16:45:31.592048Z",
     "iopub.status.idle": "2021-11-28T16:45:31.610043Z",
     "shell.execute_reply": "2021-11-28T16:45:31.609042Z",
     "shell.execute_reply.started": "2021-11-28T16:45:31.592048Z"
    }
   },
   "outputs": [
    {
     "data": {
      "text/plain": [
       "<td class=\"tns-c imspo_mt__tt-w imspo_mt__dt-t\"><div class=\"imspo_mt__t-sc\"><div class=\"imspo_mt__tt-w\">123</div></div><div class=\"ellipsisize\" data-df-team-mid=\"/m/0jm3b\"><span>Nets</span></div></td>"
      ]
     },
     "execution_count": 11,
     "metadata": {},
     "output_type": "execute_result"
    }
   ],
   "source": [
    "td = td_list[0]\n",
    "td"
   ]
  },
  {
   "cell_type": "code",
   "execution_count": 17,
   "id": "25a22c9b-12c5-4038-a98a-b65fd2a30725",
   "metadata": {
    "execution": {
     "iopub.execute_input": "2021-11-28T16:49:22.984039Z",
     "iopub.status.busy": "2021-11-28T16:49:22.984039Z",
     "iopub.status.idle": "2021-11-28T16:49:23.003038Z",
     "shell.execute_reply": "2021-11-28T16:49:23.002048Z",
     "shell.execute_reply.started": "2021-11-28T16:49:22.984039Z"
    },
    "tags": []
   },
   "outputs": [
    {
     "data": {
      "text/plain": [
       "'123'"
      ]
     },
     "execution_count": 17,
     "metadata": {},
     "output_type": "execute_result"
    }
   ],
   "source": [
    "td.find_all('div', 'imspo_mt__tt-w')[0].get_text()"
   ]
  },
  {
   "cell_type": "code",
   "execution_count": 18,
   "id": "2c79d38b-3270-4820-98eb-05b51a3f5a3f",
   "metadata": {
    "execution": {
     "iopub.execute_input": "2021-11-28T16:50:02.371588Z",
     "iopub.status.busy": "2021-11-28T16:50:02.371588Z",
     "iopub.status.idle": "2021-11-28T16:50:02.381588Z",
     "shell.execute_reply": "2021-11-28T16:50:02.380587Z",
     "shell.execute_reply.started": "2021-11-28T16:50:02.371588Z"
    }
   },
   "outputs": [
    {
     "data": {
      "text/plain": [
       "'Nets'"
      ]
     },
     "execution_count": 18,
     "metadata": {},
     "output_type": "execute_result"
    }
   ],
   "source": [
    "td.find_all('div', 'ellipsisize')[0].get_text()"
   ]
  },
  {
   "cell_type": "code",
   "execution_count": 22,
   "id": "419f2cfb-828e-40c8-815e-bf9d509df9f6",
   "metadata": {
    "execution": {
     "iopub.execute_input": "2021-11-28T16:51:53.768590Z",
     "iopub.status.busy": "2021-11-28T16:51:53.768590Z",
     "iopub.status.idle": "2021-11-28T16:51:53.783584Z",
     "shell.execute_reply": "2021-11-28T16:51:53.782585Z",
     "shell.execute_reply.started": "2021-11-28T16:51:53.768590Z"
    },
    "tags": []
   },
   "outputs": [
    {
     "data": {
      "text/plain": [
       "'Lakers'"
      ]
     },
     "execution_count": 22,
     "metadata": {},
     "output_type": "execute_result"
    }
   ],
   "source": [
    "tr = tr_list[1]\n",
    "\n",
    "td_list = tr.find_all('td', 'tns-c')\n",
    "td = td_list[0]\n",
    "\n",
    "td.find_all('div', 'imspo_mt__tt-w')[0].get_text()\n",
    "td.find_all('div', 'ellipsisize')[0].get_text()"
   ]
  },
  {
   "cell_type": "code",
   "execution_count": 44,
   "id": "dde53af5-c070-4a9b-9809-4fbb5485edd4",
   "metadata": {
    "execution": {
     "iopub.execute_input": "2021-11-28T17:17:21.777844Z",
     "iopub.status.busy": "2021-11-28T17:17:21.776845Z",
     "iopub.status.idle": "2021-11-28T17:17:21.802843Z",
     "shell.execute_reply": "2021-11-28T17:17:21.801846Z",
     "shell.execute_reply.started": "2021-11-28T17:17:21.777844Z"
    },
    "tags": []
   },
   "outputs": [
    {
     "data": {
      "text/plain": [
       "{'a_team': 'Nets',\n",
       " 'h_team': 'Lakers',\n",
       " 'a_score': 123,\n",
       " 'h_score': 97,\n",
       " 'preseason': True}"
      ]
     },
     "execution_count": 44,
     "metadata": {},
     "output_type": "execute_result"
    }
   ],
   "source": [
    "def get_scores(table):\n",
    "    def get_score(tr):\n",
    "        td_list = tr.find_all('td', 'tns-c')\n",
    "        if len(td_list) < 1:\n",
    "            raise ValueError(f'There is no <td> element.')\n",
    "            \n",
    "        td = td_list[0]\n",
    "        \n",
    "        div_list = td.find_all('div', 'imspo_mt__tt-w')\n",
    "        if len(div_list) < 1:\n",
    "            raise ValueError(f'There is no scoring <div> element.')\n",
    "            \n",
    "        score = div_list[0].get_text()\n",
    "        \n",
    "        div_list = td.find_all('div', 'ellipsisize')\n",
    "        if len(div_list) < 1:\n",
    "            raise ValueError(f'There is no team <div> element.')\n",
    "        \n",
    "        team = div_list[0].get_text()\n",
    "        \n",
    "        return team, int(score)\n",
    "    \n",
    "    def is_preseason():\n",
    "        div_list = table.find_all('div', 'imspo_mt__lg-st-co')\n",
    "        if len(div_list) > 0:\n",
    "            return True\n",
    "        return False\n",
    "    \n",
    "    try:\n",
    "        tr_list = table.find_all('tr', 'L5Kkcd')\n",
    "        if len(tr_list) != 2:\n",
    "            raise ValueError(f'Table does not have 2 rows; table has {len(tr_list)} rows.')\n",
    "\n",
    "        a_team, a_score = get_score(tr_list[0])\n",
    "        h_team, h_score = get_score(tr_list[1])\n",
    "        \n",
    "        return {\n",
    "            'a_team': a_team,\n",
    "            'h_team': h_team,\n",
    "            'a_score': a_score,\n",
    "            'h_score': h_score,\n",
    "            'preseason': is_preseason()\n",
    "        }\n",
    "    except:\n",
    "        return None\n",
    "\n",
    "get_scores(table_list[0])"
   ]
  },
  {
   "cell_type": "code",
   "execution_count": 50,
   "id": "a6fc7144-7d29-407f-a989-3cf1fda183d9",
   "metadata": {
    "execution": {
     "iopub.execute_input": "2021-11-28T17:19:19.885858Z",
     "iopub.status.busy": "2021-11-28T17:19:19.884857Z",
     "iopub.status.idle": "2021-11-28T17:19:20.201863Z",
     "shell.execute_reply": "2021-11-28T17:19:20.200859Z",
     "shell.execute_reply.started": "2021-11-28T17:19:19.885858Z"
    },
    "tags": []
   },
   "outputs": [
    {
     "data": {
      "text/plain": [
       "(365, 5)"
      ]
     },
     "execution_count": 50,
     "metadata": {},
     "output_type": "execute_result"
    }
   ],
   "source": [
    "import pandas as pd\n",
    "\n",
    "scores = (get_scores(t) for t in table_list)\n",
    "scores = filter(lambda s: s is not None, scores)\n",
    "\n",
    "df = pd.DataFrame(scores)\n",
    "df.shape"
   ]
  },
  {
   "cell_type": "code",
   "execution_count": 51,
   "id": "d3f67703-432e-41cf-8769-2fe3b1e487bb",
   "metadata": {
    "execution": {
     "iopub.execute_input": "2021-11-28T17:19:21.363859Z",
     "iopub.status.busy": "2021-11-28T17:19:21.363859Z",
     "iopub.status.idle": "2021-11-28T17:19:21.379864Z",
     "shell.execute_reply": "2021-11-28T17:19:21.378858Z",
     "shell.execute_reply.started": "2021-11-28T17:19:21.363859Z"
    },
    "tags": []
   },
   "outputs": [
    {
     "data": {
      "text/html": [
       "<div>\n",
       "<style scoped>\n",
       "    .dataframe tbody tr th:only-of-type {\n",
       "        vertical-align: middle;\n",
       "    }\n",
       "\n",
       "    .dataframe tbody tr th {\n",
       "        vertical-align: top;\n",
       "    }\n",
       "\n",
       "    .dataframe thead th {\n",
       "        text-align: right;\n",
       "    }\n",
       "</style>\n",
       "<table border=\"1\" class=\"dataframe\">\n",
       "  <thead>\n",
       "    <tr style=\"text-align: right;\">\n",
       "      <th></th>\n",
       "      <th>a_team</th>\n",
       "      <th>h_team</th>\n",
       "      <th>a_score</th>\n",
       "      <th>h_score</th>\n",
       "      <th>preseason</th>\n",
       "    </tr>\n",
       "  </thead>\n",
       "  <tbody>\n",
       "    <tr>\n",
       "      <th>0</th>\n",
       "      <td>Nets</td>\n",
       "      <td>Lakers</td>\n",
       "      <td>123</td>\n",
       "      <td>97</td>\n",
       "      <td>True</td>\n",
       "    </tr>\n",
       "    <tr>\n",
       "      <th>1</th>\n",
       "      <td>76ers</td>\n",
       "      <td>Raptors</td>\n",
       "      <td>107</td>\n",
       "      <td>123</td>\n",
       "      <td>True</td>\n",
       "    </tr>\n",
       "    <tr>\n",
       "      <th>2</th>\n",
       "      <td>Hawks</td>\n",
       "      <td>Heat</td>\n",
       "      <td>99</td>\n",
       "      <td>125</td>\n",
       "      <td>True</td>\n",
       "    </tr>\n",
       "    <tr>\n",
       "      <th>3</th>\n",
       "      <td>Magic</td>\n",
       "      <td>Celtics</td>\n",
       "      <td>97</td>\n",
       "      <td>98</td>\n",
       "      <td>True</td>\n",
       "    </tr>\n",
       "    <tr>\n",
       "      <th>4</th>\n",
       "      <td>Pelicans</td>\n",
       "      <td>Timberwolves</td>\n",
       "      <td>114</td>\n",
       "      <td>117</td>\n",
       "      <td>True</td>\n",
       "    </tr>\n",
       "  </tbody>\n",
       "</table>\n",
       "</div>"
      ],
      "text/plain": [
       "     a_team        h_team  a_score  h_score  preseason\n",
       "0      Nets        Lakers      123       97       True\n",
       "1     76ers       Raptors      107      123       True\n",
       "2     Hawks          Heat       99      125       True\n",
       "3     Magic       Celtics       97       98       True\n",
       "4  Pelicans  Timberwolves      114      117       True"
      ]
     },
     "execution_count": 51,
     "metadata": {},
     "output_type": "execute_result"
    }
   ],
   "source": [
    "df.head()"
   ]
  },
  {
   "cell_type": "code",
   "execution_count": 52,
   "id": "b0f58a8f-b8f4-4020-95b1-d39d9c880e3c",
   "metadata": {
    "execution": {
     "iopub.execute_input": "2021-11-28T17:19:22.177859Z",
     "iopub.status.busy": "2021-11-28T17:19:22.177859Z",
     "iopub.status.idle": "2021-11-28T17:19:22.190854Z",
     "shell.execute_reply": "2021-11-28T17:19:22.188858Z",
     "shell.execute_reply.started": "2021-11-28T17:19:22.177859Z"
    },
    "tags": []
   },
   "outputs": [
    {
     "data": {
      "text/html": [
       "<div>\n",
       "<style scoped>\n",
       "    .dataframe tbody tr th:only-of-type {\n",
       "        vertical-align: middle;\n",
       "    }\n",
       "\n",
       "    .dataframe tbody tr th {\n",
       "        vertical-align: top;\n",
       "    }\n",
       "\n",
       "    .dataframe thead th {\n",
       "        text-align: right;\n",
       "    }\n",
       "</style>\n",
       "<table border=\"1\" class=\"dataframe\">\n",
       "  <thead>\n",
       "    <tr style=\"text-align: right;\">\n",
       "      <th></th>\n",
       "      <th>a_team</th>\n",
       "      <th>h_team</th>\n",
       "      <th>a_score</th>\n",
       "      <th>h_score</th>\n",
       "      <th>preseason</th>\n",
       "    </tr>\n",
       "  </thead>\n",
       "  <tbody>\n",
       "    <tr>\n",
       "      <th>360</th>\n",
       "      <td>Magic</td>\n",
       "      <td>Cavaliers</td>\n",
       "      <td>92</td>\n",
       "      <td>105</td>\n",
       "      <td>False</td>\n",
       "    </tr>\n",
       "    <tr>\n",
       "      <th>361</th>\n",
       "      <td>Heat</td>\n",
       "      <td>Bulls</td>\n",
       "      <td>107</td>\n",
       "      <td>104</td>\n",
       "      <td>False</td>\n",
       "    </tr>\n",
       "    <tr>\n",
       "      <th>362</th>\n",
       "      <td>Hornets</td>\n",
       "      <td>Rockets</td>\n",
       "      <td>143</td>\n",
       "      <td>146</td>\n",
       "      <td>False</td>\n",
       "    </tr>\n",
       "    <tr>\n",
       "      <th>363</th>\n",
       "      <td>Wizards</td>\n",
       "      <td>Mavericks</td>\n",
       "      <td>120</td>\n",
       "      <td>114</td>\n",
       "      <td>False</td>\n",
       "    </tr>\n",
       "    <tr>\n",
       "      <th>364</th>\n",
       "      <td>Pelicans</td>\n",
       "      <td>Jazz</td>\n",
       "      <td>105</td>\n",
       "      <td>127</td>\n",
       "      <td>False</td>\n",
       "    </tr>\n",
       "  </tbody>\n",
       "</table>\n",
       "</div>"
      ],
      "text/plain": [
       "       a_team     h_team  a_score  h_score  preseason\n",
       "360     Magic  Cavaliers       92      105      False\n",
       "361      Heat      Bulls      107      104      False\n",
       "362   Hornets    Rockets      143      146      False\n",
       "363   Wizards  Mavericks      120      114      False\n",
       "364  Pelicans       Jazz      105      127      False"
      ]
     },
     "execution_count": 52,
     "metadata": {},
     "output_type": "execute_result"
    }
   ],
   "source": [
    "df.tail()"
   ]
  },
  {
   "cell_type": "code",
   "execution_count": 53,
   "id": "c55b1087-8436-44f3-b2f6-747129d6cc35",
   "metadata": {
    "execution": {
     "iopub.execute_input": "2021-11-28T17:19:52.322861Z",
     "iopub.status.busy": "2021-11-28T17:19:52.321865Z",
     "iopub.status.idle": "2021-11-28T17:19:52.336860Z",
     "shell.execute_reply": "2021-11-28T17:19:52.335862Z",
     "shell.execute_reply.started": "2021-11-28T17:19:52.322861Z"
    },
    "tags": []
   },
   "outputs": [],
   "source": [
    "df.to_csv('2021.csv', index=False)"
   ]
  },
  {
   "cell_type": "code",
   "execution_count": null,
   "id": "a7806ebb-e485-4aa5-a763-3f49e64322b1",
   "metadata": {},
   "outputs": [],
   "source": []
  }
 ],
 "metadata": {
  "kernelspec": {
   "display_name": "Python 3 (ipykernel)",
   "language": "python",
   "name": "python3"
  },
  "language_info": {
   "codemirror_mode": {
    "name": "ipython",
    "version": 3
   },
   "file_extension": ".py",
   "mimetype": "text/x-python",
   "name": "python",
   "nbconvert_exporter": "python",
   "pygments_lexer": "ipython3",
   "version": "3.9.7"
  },
  "widgets": {
   "application/vnd.jupyter.widget-state+json": {
    "state": {},
    "version_major": 2,
    "version_minor": 0
   }
  }
 },
 "nbformat": 4,
 "nbformat_minor": 5
}
