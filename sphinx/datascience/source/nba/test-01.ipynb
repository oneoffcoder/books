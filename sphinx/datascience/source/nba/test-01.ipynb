{
 "cells": [
  {
   "cell_type": "markdown",
   "id": "b9b4fde2-1651-46f4-ba21-62da5f5ee14a",
   "metadata": {},
   "source": [
    "https://squared2020.com/2017/11/09/bradley-terry-rankings-introduction-to-logistic-regression/"
   ]
  },
  {
   "cell_type": "code",
   "execution_count": 6,
   "id": "129166cc-482f-4a96-ab78-c7086c4c3fee",
   "metadata": {
    "execution": {
     "iopub.execute_input": "2021-11-29T22:38:35.144079Z",
     "iopub.status.busy": "2021-11-29T22:38:35.144079Z",
     "iopub.status.idle": "2021-11-29T22:38:35.169086Z",
     "shell.execute_reply": "2021-11-29T22:38:35.169086Z",
     "shell.execute_reply.started": "2021-11-29T22:38:35.144079Z"
    },
    "tags": []
   },
   "outputs": [
    {
     "data": {
      "text/html": [
       "<div>\n",
       "<style scoped>\n",
       "    .dataframe tbody tr th:only-of-type {\n",
       "        vertical-align: middle;\n",
       "    }\n",
       "\n",
       "    .dataframe tbody tr th {\n",
       "        vertical-align: top;\n",
       "    }\n",
       "\n",
       "    .dataframe thead th {\n",
       "        text-align: right;\n",
       "    }\n",
       "</style>\n",
       "<table border=\"1\" class=\"dataframe\">\n",
       "  <thead>\n",
       "    <tr style=\"text-align: right;\">\n",
       "      <th></th>\n",
       "      <th>Milwaukee</th>\n",
       "      <th>Detroit</th>\n",
       "      <th>Toronto</th>\n",
       "      <th>New York</th>\n",
       "      <th>Boston</th>\n",
       "      <th>Cleveland</th>\n",
       "      <th>Baltimore</th>\n",
       "    </tr>\n",
       "  </thead>\n",
       "  <tbody>\n",
       "    <tr>\n",
       "      <th>Milwaukee</th>\n",
       "      <td>NaN</td>\n",
       "      <td>7.0</td>\n",
       "      <td>9.0</td>\n",
       "      <td>7.0</td>\n",
       "      <td>7.0</td>\n",
       "      <td>9.0</td>\n",
       "      <td>11.0</td>\n",
       "    </tr>\n",
       "    <tr>\n",
       "      <th>Detroit</th>\n",
       "      <td>6.0</td>\n",
       "      <td>NaN</td>\n",
       "      <td>7.0</td>\n",
       "      <td>5.0</td>\n",
       "      <td>11.0</td>\n",
       "      <td>9.0</td>\n",
       "      <td>9.0</td>\n",
       "    </tr>\n",
       "    <tr>\n",
       "      <th>Toronto</th>\n",
       "      <td>4.0</td>\n",
       "      <td>6.0</td>\n",
       "      <td>NaN</td>\n",
       "      <td>7.0</td>\n",
       "      <td>7.0</td>\n",
       "      <td>8.0</td>\n",
       "      <td>12.0</td>\n",
       "    </tr>\n",
       "    <tr>\n",
       "      <th>New York</th>\n",
       "      <td>6.0</td>\n",
       "      <td>8.0</td>\n",
       "      <td>6.0</td>\n",
       "      <td>NaN</td>\n",
       "      <td>6.0</td>\n",
       "      <td>7.0</td>\n",
       "      <td>10.0</td>\n",
       "    </tr>\n",
       "    <tr>\n",
       "      <th>Boston</th>\n",
       "      <td>6.0</td>\n",
       "      <td>2.0</td>\n",
       "      <td>6.0</td>\n",
       "      <td>7.0</td>\n",
       "      <td>NaN</td>\n",
       "      <td>7.0</td>\n",
       "      <td>12.0</td>\n",
       "    </tr>\n",
       "    <tr>\n",
       "      <th>Cleveland</th>\n",
       "      <td>4.0</td>\n",
       "      <td>4.0</td>\n",
       "      <td>5.0</td>\n",
       "      <td>6.0</td>\n",
       "      <td>6.0</td>\n",
       "      <td>NaN</td>\n",
       "      <td>6.0</td>\n",
       "    </tr>\n",
       "    <tr>\n",
       "      <th>Baltimore</th>\n",
       "      <td>2.0</td>\n",
       "      <td>4.0</td>\n",
       "      <td>1.0</td>\n",
       "      <td>3.0</td>\n",
       "      <td>1.0</td>\n",
       "      <td>7.0</td>\n",
       "      <td>NaN</td>\n",
       "    </tr>\n",
       "  </tbody>\n",
       "</table>\n",
       "</div>"
      ],
      "text/plain": [
       "           Milwaukee  Detroit  Toronto  New York  Boston  Cleveland  Baltimore\n",
       "Milwaukee        NaN      7.0      9.0       7.0     7.0        9.0       11.0\n",
       "Detroit          6.0      NaN      7.0       5.0    11.0        9.0        9.0\n",
       "Toronto          4.0      6.0      NaN       7.0     7.0        8.0       12.0\n",
       "New York         6.0      8.0      6.0       NaN     6.0        7.0       10.0\n",
       "Boston           6.0      2.0      6.0       7.0     NaN        7.0       12.0\n",
       "Cleveland        4.0      4.0      5.0       6.0     6.0        NaN        6.0\n",
       "Baltimore        2.0      4.0      1.0       3.0     1.0        7.0        NaN"
      ]
     },
     "execution_count": 6,
     "metadata": {},
     "output_type": "execute_result"
    }
   ],
   "source": [
    "import pandas as pd\n",
    "import numpy as np\n",
    "\n",
    "mat = [\n",
    "    [np.nan, 7, 9, 7, 7, 9, 11],\n",
    "    [6, np.nan, 7, 5, 11, 9, 9],\n",
    "    [4, 6, np.nan, 7, 7, 8, 12],\n",
    "    [6, 8, 6, np.nan, 6, 7, 10],\n",
    "    [6, 2, 6, 7, np.nan, 7, 12],\n",
    "    [4, 4, 5, 6, 6, np.nan, 6],\n",
    "    [2, 4, 1, 3, 1, 7, np.nan]\n",
    "]\n",
    "\n",
    "teams = ['Milwaukee', 'Detroit', 'Toronto', 'New York', 'Boston', 'Cleveland', 'Baltimore']\n",
    "t2i = {t: i for i, t in enumerate(teams)}\n",
    "\n",
    "df = pd.DataFrame(mat, columns=teams, index=teams)\n",
    "df"
   ]
  },
  {
   "cell_type": "code",
   "execution_count": 9,
   "id": "0147cb4f-cdcb-4fd1-a7fe-db87ba2199b1",
   "metadata": {
    "execution": {
     "iopub.execute_input": "2021-11-29T22:42:32.314969Z",
     "iopub.status.busy": "2021-11-29T22:42:32.314969Z",
     "iopub.status.idle": "2021-11-29T22:42:32.319969Z",
     "shell.execute_reply": "2021-11-29T22:42:32.319969Z",
     "shell.execute_reply.started": "2021-11-29T22:42:32.314969Z"
    },
    "tags": []
   },
   "outputs": [
    {
     "data": {
      "text/plain": [
       "273.0"
      ]
     },
     "execution_count": 9,
     "metadata": {},
     "output_type": "execute_result"
    }
   ],
   "source": [
    "df.sum().sum()"
   ]
  },
  {
   "cell_type": "code",
   "execution_count": 17,
   "id": "7582cbe1-e485-4fe0-919d-36d521b9f00f",
   "metadata": {
    "execution": {
     "iopub.execute_input": "2021-11-29T22:45:49.966501Z",
     "iopub.status.busy": "2021-11-29T22:45:49.965500Z",
     "iopub.status.idle": "2021-11-29T22:45:49.984500Z",
     "shell.execute_reply": "2021-11-29T22:45:49.984500Z",
     "shell.execute_reply.started": "2021-11-29T22:45:49.966501Z"
    },
    "tags": []
   },
   "outputs": [],
   "source": [
    "n_teams = len(teams)\n",
    "n_games = int(df.sum().sum())\n",
    "\n",
    "X = np.zeros((n_games, n_teams))\n",
    "y = np.zeroes(n_games)\n",
    "\n",
    "g = 0\n",
    "\n",
    "for i, t1 in enumerate(df.index):\n",
    "    for j, t2 in enumerate(df.columns):\n",
    "        if i == j:\n",
    "            continue\n",
    "        n = int(df.loc[t1].loc[t2])\n",
    "        \n",
    "        for _ in range(n):\n",
    "            X[g, i] = 1\n",
    "            X[g, j] = -1\n",
    "            y[g] = \n",
    "            g += 1"
   ]
  },
  {
   "cell_type": "code",
   "execution_count": 21,
   "id": "efb149fd-b25f-4f4f-9728-cf1b7c28ecb2",
   "metadata": {
    "execution": {
     "iopub.execute_input": "2021-11-29T22:47:01.060693Z",
     "iopub.status.busy": "2021-11-29T22:47:01.060693Z",
     "iopub.status.idle": "2021-11-29T22:47:01.065696Z",
     "shell.execute_reply": "2021-11-29T22:47:01.065696Z",
     "shell.execute_reply.started": "2021-11-29T22:47:01.060693Z"
    },
    "tags": []
   },
   "outputs": [
    {
     "data": {
      "text/plain": [
       "array([0., 0., 0., 0., 0., 0., 0., 0., 0., 0.])"
      ]
     },
     "execution_count": 21,
     "metadata": {},
     "output_type": "execute_result"
    }
   ],
   "source": [
    "np.zeros(10)"
   ]
  },
  {
   "cell_type": "code",
   "execution_count": null,
   "id": "1a767a21-5a4a-4353-8679-bbfd856161d7",
   "metadata": {},
   "outputs": [],
   "source": []
  }
 ],
 "metadata": {
  "kernelspec": {
   "display_name": "Python 3",
   "language": "python",
   "name": "python3"
  },
  "language_info": {
   "codemirror_mode": {
    "name": "ipython",
    "version": 3
   },
   "file_extension": ".py",
   "mimetype": "text/x-python",
   "name": "python",
   "nbconvert_exporter": "python",
   "pygments_lexer": "ipython3",
   "version": "3.8.5"
  },
  "widgets": {
   "application/vnd.jupyter.widget-state+json": {
    "state": {},
    "version_major": 2,
    "version_minor": 0
   }
  }
 },
 "nbformat": 4,
 "nbformat_minor": 5
}
