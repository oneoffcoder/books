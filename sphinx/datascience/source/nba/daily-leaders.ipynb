{
 "cells": [
  {
   "cell_type": "code",
   "execution_count": 44,
   "id": "humanitarian-spyware",
   "metadata": {
    "execution": {
     "iopub.execute_input": "2021-11-28T20:24:42.911201Z",
     "iopub.status.busy": "2021-11-28T20:24:42.910790Z",
     "iopub.status.idle": "2021-11-28T20:24:43.018112Z",
     "shell.execute_reply": "2021-11-28T20:24:43.017722Z",
     "shell.execute_reply.started": "2021-11-28T20:24:42.911155Z"
    }
   },
   "outputs": [],
   "source": [
    "import io\n",
    "import pandas as pd\n",
    "\n",
    "def parse_data(fpath):\n",
    "    with open(fpath, 'r') as f:\n",
    "        data = {}\n",
    "        date = None\n",
    "\n",
    "        for line in f.readlines():\n",
    "            if line.startswith('#'):\n",
    "                date = line.replace('#', '').strip()\n",
    "                data[date] = []\n",
    "            else:\n",
    "                data[date].append(line)\n",
    "                \n",
    "    data = {k: ''.join(v) for k, v in data.items()}\n",
    "    data = {k: pd.read_csv(io.BytesIO(str.encode(v)), sep='\\t')\n",
    "            for k, v in data.items()}\n",
    "    for k, df in data.items():\n",
    "        df['date'] = k\n",
    "        \n",
    "    df = pd.concat(data.values()).reset_index(drop=True)\n",
    "    return df\n",
    "\n",
    "df = pd.concat([parse_data('daily-leaders-202110.txt'), \n",
    "                parse_data('daily-leaders-202111.txt')]).reset_index(drop=True)"
   ]
  },
  {
   "cell_type": "code",
   "execution_count": 45,
   "id": "instrumental-vegetable",
   "metadata": {
    "execution": {
     "iopub.execute_input": "2021-11-28T20:24:43.480417Z",
     "iopub.status.busy": "2021-11-28T20:24:43.480286Z",
     "iopub.status.idle": "2021-11-28T20:24:43.483629Z",
     "shell.execute_reply": "2021-11-28T20:24:43.482928Z",
     "shell.execute_reply.started": "2021-11-28T20:24:43.480403Z"
    }
   },
   "outputs": [
    {
     "data": {
      "text/plain": [
       "(1170, 17)"
      ]
     },
     "execution_count": 45,
     "metadata": {},
     "output_type": "execute_result"
    }
   ],
   "source": [
    "df.shape"
   ]
  },
  {
   "cell_type": "code",
   "execution_count": 46,
   "id": "double-static",
   "metadata": {
    "execution": {
     "iopub.execute_input": "2021-11-28T20:24:44.585061Z",
     "iopub.status.busy": "2021-11-28T20:24:44.584368Z",
     "iopub.status.idle": "2021-11-28T20:24:44.609985Z",
     "shell.execute_reply": "2021-11-28T20:24:44.609338Z",
     "shell.execute_reply.started": "2021-11-28T20:24:44.584992Z"
    }
   },
   "outputs": [
    {
     "data": {
      "text/html": [
       "<div>\n",
       "<style scoped>\n",
       "    .dataframe tbody tr th:only-of-type {\n",
       "        vertical-align: middle;\n",
       "    }\n",
       "\n",
       "    .dataframe tbody tr th {\n",
       "        vertical-align: top;\n",
       "    }\n",
       "\n",
       "    .dataframe thead th {\n",
       "        text-align: right;\n",
       "    }\n",
       "</style>\n",
       "<table border=\"1\" class=\"dataframe\">\n",
       "  <thead>\n",
       "    <tr style=\"text-align: right;\">\n",
       "      <th></th>\n",
       "      <th>RK</th>\n",
       "      <th>PLAYER</th>\n",
       "      <th>TEAM</th>\n",
       "      <th>OPP</th>\n",
       "      <th>SCORE</th>\n",
       "      <th>MIN</th>\n",
       "      <th>FGM-A</th>\n",
       "      <th>3PM-A</th>\n",
       "      <th>FTM-A</th>\n",
       "      <th>REB</th>\n",
       "      <th>AST</th>\n",
       "      <th>STL</th>\n",
       "      <th>BLK</th>\n",
       "      <th>TO</th>\n",
       "      <th>PTS</th>\n",
       "      <th>ESPN</th>\n",
       "      <th>date</th>\n",
       "    </tr>\n",
       "  </thead>\n",
       "  <tbody>\n",
       "    <tr>\n",
       "      <th>0</th>\n",
       "      <td>1.0</td>\n",
       "      <td>G. Antetokounmpo</td>\n",
       "      <td>Mil</td>\n",
       "      <td>BKN</td>\n",
       "      <td>104-127 W</td>\n",
       "      <td>31</td>\n",
       "      <td>12-25</td>\n",
       "      <td>1-4</td>\n",
       "      <td>7-9</td>\n",
       "      <td>14</td>\n",
       "      <td>7</td>\n",
       "      <td>1</td>\n",
       "      <td>2</td>\n",
       "      <td>4</td>\n",
       "      <td>32</td>\n",
       "      <td>59.1</td>\n",
       "      <td>20211019</td>\n",
       "    </tr>\n",
       "    <tr>\n",
       "      <th>1</th>\n",
       "      <td>2.0</td>\n",
       "      <td>L. James</td>\n",
       "      <td>LAL</td>\n",
       "      <td>GS</td>\n",
       "      <td>121-114 L</td>\n",
       "      <td>37</td>\n",
       "      <td>13-23</td>\n",
       "      <td>5-11</td>\n",
       "      <td>3-6</td>\n",
       "      <td>11</td>\n",
       "      <td>5</td>\n",
       "      <td>1</td>\n",
       "      <td>1</td>\n",
       "      <td>4</td>\n",
       "      <td>34</td>\n",
       "      <td>57.5</td>\n",
       "      <td>20211019</td>\n",
       "    </tr>\n",
       "    <tr>\n",
       "      <th>2</th>\n",
       "      <td>3.0</td>\n",
       "      <td>K. Durant</td>\n",
       "      <td>BKN</td>\n",
       "      <td>@Mil</td>\n",
       "      <td>104-127 L</td>\n",
       "      <td>30</td>\n",
       "      <td>13-25</td>\n",
       "      <td>3-7</td>\n",
       "      <td>3-6</td>\n",
       "      <td>11</td>\n",
       "      <td>4</td>\n",
       "      <td>0</td>\n",
       "      <td>2</td>\n",
       "      <td>1</td>\n",
       "      <td>32</td>\n",
       "      <td>54.0</td>\n",
       "      <td>20211019</td>\n",
       "    </tr>\n",
       "    <tr>\n",
       "      <th>3</th>\n",
       "      <td>4.0</td>\n",
       "      <td>A. Davis</td>\n",
       "      <td>LAL</td>\n",
       "      <td>GS</td>\n",
       "      <td>121-114 L</td>\n",
       "      <td>39</td>\n",
       "      <td>15-26</td>\n",
       "      <td>1-5</td>\n",
       "      <td>2-7</td>\n",
       "      <td>11</td>\n",
       "      <td>2</td>\n",
       "      <td>1</td>\n",
       "      <td>2</td>\n",
       "      <td>0</td>\n",
       "      <td>33</td>\n",
       "      <td>53.8</td>\n",
       "      <td>20211019</td>\n",
       "    </tr>\n",
       "    <tr>\n",
       "      <th>4</th>\n",
       "      <td>5.0</td>\n",
       "      <td>J. Harden</td>\n",
       "      <td>BKN</td>\n",
       "      <td>@Mil</td>\n",
       "      <td>104-127 L</td>\n",
       "      <td>31</td>\n",
       "      <td>6-16</td>\n",
       "      <td>4-8</td>\n",
       "      <td>4-4</td>\n",
       "      <td>8</td>\n",
       "      <td>8</td>\n",
       "      <td>1</td>\n",
       "      <td>2</td>\n",
       "      <td>4</td>\n",
       "      <td>20</td>\n",
       "      <td>41.2</td>\n",
       "      <td>20211019</td>\n",
       "    </tr>\n",
       "  </tbody>\n",
       "</table>\n",
       "</div>"
      ],
      "text/plain": [
       "    RK            PLAYER TEAM   OPP      SCORE  MIN  FGM-A 3PM-A FTM-A  REB  \\\n",
       "0  1.0  G. Antetokounmpo  Mil   BKN  104-127 W   31  12-25   1-4   7-9   14   \n",
       "1  2.0          L. James  LAL    GS  121-114 L   37  13-23  5-11   3-6   11   \n",
       "2  3.0         K. Durant  BKN  @Mil  104-127 L   30  13-25   3-7   3-6   11   \n",
       "3  4.0          A. Davis  LAL    GS  121-114 L   39  15-26   1-5   2-7   11   \n",
       "4  5.0         J. Harden  BKN  @Mil  104-127 L   31   6-16   4-8   4-4    8   \n",
       "\n",
       "   AST  STL  BLK  TO  PTS  ESPN      date  \n",
       "0    7    1    2   4   32  59.1  20211019  \n",
       "1    5    1    1   4   34  57.5  20211019  \n",
       "2    4    0    2   1   32  54.0  20211019  \n",
       "3    2    1    2   0   33  53.8  20211019  \n",
       "4    8    1    2   4   20  41.2  20211019  "
      ]
     },
     "execution_count": 46,
     "metadata": {},
     "output_type": "execute_result"
    }
   ],
   "source": [
    "df.head()"
   ]
  },
  {
   "cell_type": "code",
   "execution_count": 53,
   "id": "elegant-printing",
   "metadata": {
    "execution": {
     "iopub.execute_input": "2021-11-28T20:27:00.899124Z",
     "iopub.status.busy": "2021-11-28T20:27:00.898152Z",
     "iopub.status.idle": "2021-11-28T20:27:00.912428Z",
     "shell.execute_reply": "2021-11-28T20:27:00.911436Z",
     "shell.execute_reply.started": "2021-11-28T20:27:00.899005Z"
    }
   },
   "outputs": [
    {
     "data": {
      "text/plain": [
       "225"
      ]
     },
     "execution_count": 53,
     "metadata": {},
     "output_type": "execute_result"
    }
   ],
   "source": [
    "players = sorted(list(df['PLAYER'].unique()))\n",
    "p2i = {p: i for i, p in enumerate(players)}\n",
    "n_players = len(players)\n",
    "\n",
    "n_players"
   ]
  },
  {
   "cell_type": "code",
   "execution_count": 54,
   "id": "cardiac-chicago",
   "metadata": {
    "execution": {
     "iopub.execute_input": "2021-11-28T20:27:02.097386Z",
     "iopub.status.busy": "2021-11-28T20:27:02.097119Z",
     "iopub.status.idle": "2021-11-28T20:27:02.102470Z",
     "shell.execute_reply": "2021-11-28T20:27:02.101790Z",
     "shell.execute_reply.started": "2021-11-28T20:27:02.097355Z"
    }
   },
   "outputs": [
    {
     "data": {
      "text/plain": [
       "39"
      ]
     },
     "execution_count": 54,
     "metadata": {},
     "output_type": "execute_result"
    }
   ],
   "source": [
    "dates = sorted(list(df['date'].unique()))\n",
    "\n",
    "len(dates)"
   ]
  },
  {
   "cell_type": "code",
   "execution_count": 89,
   "id": "threatened-latter",
   "metadata": {
    "execution": {
     "iopub.execute_input": "2021-11-28T20:46:25.442542Z",
     "iopub.status.busy": "2021-11-28T20:46:25.442132Z",
     "iopub.status.idle": "2021-11-28T20:46:25.453172Z",
     "shell.execute_reply": "2021-11-28T20:46:25.452379Z",
     "shell.execute_reply.started": "2021-11-28T20:46:25.442494Z"
    }
   },
   "outputs": [],
   "source": [
    "from itertools import combinations, chain\n",
    "import numpy as np\n",
    "\n",
    "def get_indices(date, field, ascending):\n",
    "    p = df[df.date == date].sort_values([field], ascending=ascending)[['PLAYER', field]]\n",
    "    p['index'] = p['PLAYER'].apply(lambda n: p2i[n])\n",
    "    p = [(r['index'], r[field]) for _, r in p.iterrows()]\n",
    "    p = combinations(p, 2)\n",
    "    p = filter(lambda tup: tup[0][1] != tup[1][1], p)\n",
    "    p = map(lambda tup: (tup[0][0], tup[1][0]), p)\n",
    "\n",
    "    return p\n",
    "\n",
    "def get_mat(field, ascending):\n",
    "    indices = chain(*(get_indices(d, field, ascending) for d in dates))\n",
    "    mat = np.zeros([n_players, n_players])\n",
    "\n",
    "    for r, c in indices:\n",
    "        mat[r, c] += 1\n",
    "\n",
    "    mat = pd.DataFrame(mat, columns=players, index=players)\n",
    "    \n",
    "    return mat"
   ]
  },
  {
   "cell_type": "code",
   "execution_count": 90,
   "id": "sticky-extra",
   "metadata": {
    "execution": {
     "iopub.execute_input": "2021-11-28T20:46:26.413625Z",
     "iopub.status.busy": "2021-11-28T20:46:26.413041Z",
     "iopub.status.idle": "2021-11-28T20:46:26.708078Z",
     "shell.execute_reply": "2021-11-28T20:46:26.707647Z",
     "shell.execute_reply.started": "2021-11-28T20:46:26.413556Z"
    }
   },
   "outputs": [],
   "source": [
    "mat_espn = get_mat('ESPN', False)\n",
    "mat_pts = get_mat('PTS', False)"
   ]
  },
  {
   "cell_type": "code",
   "execution_count": 91,
   "id": "planned-fusion",
   "metadata": {
    "execution": {
     "iopub.execute_input": "2021-11-28T20:46:37.265034Z",
     "iopub.status.busy": "2021-11-28T20:46:37.264470Z",
     "iopub.status.idle": "2021-11-28T20:46:37.278087Z",
     "shell.execute_reply": "2021-11-28T20:46:37.277138Z",
     "shell.execute_reply.started": "2021-11-28T20:46:37.264967Z"
    }
   },
   "outputs": [],
   "source": [
    "def get_estimate(i, p, df):\n",
    "    get_prob = lambda i, j: np.nan if i == j else p.iloc[i] + p.iloc[j]\n",
    "    n = df.iloc[i].sum()\n",
    "    \n",
    "    d_n = df.iloc[i] + df.iloc[:, i]\n",
    "    d_d = pd.Series([get_prob(i, j) for j in range(len(p))], index=p.index)\n",
    "    d = (d_n / d_d).sum()\n",
    "    \n",
    "    return n / d\n",
    "\n",
    "def estimate_p(p, df):\n",
    "    return pd.Series([get_estimate(i, p, df) for i in range(df.shape[0])], index=p.index)\n",
    "\n",
    "\n",
    "def iterate(df, p=None, n=20, sorted=True):\n",
    "    if p is None:\n",
    "        p = pd.Series([1 for _ in range(df.shape[0])], index=list(df.columns))\n",
    "        \n",
    "    estimates = [p]\n",
    "    \n",
    "    for _ in range(n):\n",
    "        p = estimate_p(p, df)\n",
    "        p = p / p.sum()\n",
    "        estimates.append(p)\n",
    "    \n",
    "    p = p.sort_values(ascending=False) if sorted else p\n",
    "    return p, pd.DataFrame(estimates)"
   ]
  },
  {
   "cell_type": "code",
   "execution_count": 92,
   "id": "shaped-decade",
   "metadata": {
    "execution": {
     "iopub.execute_input": "2021-11-28T20:46:59.557565Z",
     "iopub.status.busy": "2021-11-28T20:46:59.557310Z",
     "iopub.status.idle": "2021-11-28T20:47:48.496573Z",
     "shell.execute_reply": "2021-11-28T20:47:48.496176Z",
     "shell.execute_reply.started": "2021-11-28T20:46:59.557534Z"
    }
   },
   "outputs": [],
   "source": [
    "p_espn, estimates_espn = iterate(mat_espn, n=100)"
   ]
  },
  {
   "cell_type": "code",
   "execution_count": 93,
   "id": "encouraging-trailer",
   "metadata": {
    "execution": {
     "iopub.execute_input": "2021-11-28T20:47:48.497593Z",
     "iopub.status.busy": "2021-11-28T20:47:48.497433Z",
     "iopub.status.idle": "2021-11-28T20:48:37.063924Z",
     "shell.execute_reply": "2021-11-28T20:48:37.063497Z",
     "shell.execute_reply.started": "2021-11-28T20:47:48.497575Z"
    }
   },
   "outputs": [],
   "source": [
    "p_pts, estimates_pts = iterate(mat_pts, n=100)"
   ]
  },
  {
   "cell_type": "code",
   "execution_count": 94,
   "id": "precise-organizer",
   "metadata": {
    "execution": {
     "iopub.execute_input": "2021-11-28T20:48:37.064809Z",
     "iopub.status.busy": "2021-11-28T20:48:37.064668Z",
     "iopub.status.idle": "2021-11-28T20:48:37.068078Z",
     "shell.execute_reply": "2021-11-28T20:48:37.067642Z",
     "shell.execute_reply.started": "2021-11-28T20:48:37.064777Z"
    }
   },
   "outputs": [
    {
     "data": {
      "text/plain": [
       "N. Alexander-Walker    0.044222\n",
       "T. Craig               0.041073\n",
       "N. Jokic               0.034626\n",
       "J. McGee               0.023787\n",
       "S. Dinwiddie           0.023776\n",
       "D. Murray              0.020776\n",
       "G. Antetokounmpo       0.020496\n",
       "J. Butler              0.015916\n",
       "P. Siakam              0.014495\n",
       "P. George              0.013914\n",
       "dtype: float64"
      ]
     },
     "execution_count": 94,
     "metadata": {},
     "output_type": "execute_result"
    }
   ],
   "source": [
    "p_espn.head(n=10)"
   ]
  },
  {
   "cell_type": "code",
   "execution_count": 95,
   "id": "graphic-enterprise",
   "metadata": {
    "execution": {
     "iopub.execute_input": "2021-11-28T20:48:37.068835Z",
     "iopub.status.busy": "2021-11-28T20:48:37.068717Z",
     "iopub.status.idle": "2021-11-28T20:48:37.083059Z",
     "shell.execute_reply": "2021-11-28T20:48:37.082730Z",
     "shell.execute_reply.started": "2021-11-28T20:48:37.068821Z"
    }
   },
   "outputs": [
    {
     "data": {
      "text/plain": [
       "T. Craig               0.047791\n",
       "N. Alexander-Walker    0.030448\n",
       "C. Sexton              0.029378\n",
       "F. Wagner              0.022652\n",
       "K. Middleton           0.020467\n",
       "M. Beasley             0.019197\n",
       "K. Oubre Jr.           0.019069\n",
       "D. McDermott           0.018819\n",
       "P. George              0.017132\n",
       "R. Rubio               0.016942\n",
       "dtype: float64"
      ]
     },
     "execution_count": 95,
     "metadata": {},
     "output_type": "execute_result"
    }
   ],
   "source": [
    "p_pts.head(n=10)"
   ]
  },
  {
   "cell_type": "code",
   "execution_count": 100,
   "id": "celtic-firmware",
   "metadata": {
    "execution": {
     "iopub.execute_input": "2021-11-28T20:50:40.412677Z",
     "iopub.status.busy": "2021-11-28T20:50:40.412542Z",
     "iopub.status.idle": "2021-11-28T20:50:40.423007Z",
     "shell.execute_reply": "2021-11-28T20:50:40.422579Z",
     "shell.execute_reply.started": "2021-11-28T20:50:40.412663Z"
    }
   },
   "outputs": [
    {
     "data": {
      "text/html": [
       "<div>\n",
       "<style scoped>\n",
       "    .dataframe tbody tr th:only-of-type {\n",
       "        vertical-align: middle;\n",
       "    }\n",
       "\n",
       "    .dataframe tbody tr th {\n",
       "        vertical-align: top;\n",
       "    }\n",
       "\n",
       "    .dataframe thead th {\n",
       "        text-align: right;\n",
       "    }\n",
       "</style>\n",
       "<table border=\"1\" class=\"dataframe\">\n",
       "  <thead>\n",
       "    <tr style=\"text-align: right;\">\n",
       "      <th></th>\n",
       "      <th>ESPN</th>\n",
       "      <th>PTS</th>\n",
       "    </tr>\n",
       "  </thead>\n",
       "  <tbody>\n",
       "    <tr>\n",
       "      <th>ESPN</th>\n",
       "      <td>1.000000</td>\n",
       "      <td>0.658554</td>\n",
       "    </tr>\n",
       "    <tr>\n",
       "      <th>PTS</th>\n",
       "      <td>0.658554</td>\n",
       "      <td>1.000000</td>\n",
       "    </tr>\n",
       "  </tbody>\n",
       "</table>\n",
       "</div>"
      ],
      "text/plain": [
       "          ESPN       PTS\n",
       "ESPN  1.000000  0.658554\n",
       "PTS   0.658554  1.000000"
      ]
     },
     "execution_count": 100,
     "metadata": {},
     "output_type": "execute_result"
    }
   ],
   "source": [
    "pd.DataFrame([p_espn.sort_index(), p_pts.sort_index()]).T.rename(columns={0: 'ESPN', 1: 'PTS'}).corr()"
   ]
  },
  {
   "cell_type": "code",
   "execution_count": 103,
   "id": "soviet-pavilion",
   "metadata": {
    "execution": {
     "iopub.execute_input": "2021-11-28T20:51:24.529768Z",
     "iopub.status.busy": "2021-11-28T20:51:24.529624Z",
     "iopub.status.idle": "2021-11-28T20:51:24.668146Z",
     "shell.execute_reply": "2021-11-28T20:51:24.667775Z",
     "shell.execute_reply.started": "2021-11-28T20:51:24.529752Z"
    }
   },
   "outputs": [
    {
     "data": {
      "text/plain": [
       "<AxesSubplot:xlabel='ESPN', ylabel='PTS'>"
      ]
     },
     "execution_count": 103,
     "metadata": {},
     "output_type": "execute_result"
    },
    {
     "data": {
      "image/png": "[encoded data removed]",
      "text/plain": [
       "<Figure size 432x288 with 1 Axes>"
      ]
     },
     "metadata": {
      "needs_background": "light"
     },
     "output_type": "display_data"
    }
   ],
   "source": [
    "pd.DataFrame([p_espn.sort_index(), p_pts.sort_index()]).T.rename(columns={0: 'ESPN', 1: 'PTS'}).plot(kind='scatter', x='ESPN', y='PTS')"
   ]
  },
  {
   "cell_type": "code",
   "execution_count": null,
   "id": "swiss-championship",
   "metadata": {},
   "outputs": [],
   "source": []
  }
 ],
 "metadata": {
  "kernelspec": {
   "display_name": "Python 3",
   "language": "python",
   "name": "python3"
  },
  "language_info": {
   "codemirror_mode": {
    "name": "ipython",
    "version": 3
   },
   "file_extension": ".py",
   "mimetype": "text/x-python",
   "name": "python",
   "nbconvert_exporter": "python",
   "pygments_lexer": "ipython3",
   "version": "3.8.5"
  },
  "widgets": {
   "application/vnd.jupyter.widget-state+json": {
    "state": {},
    "version_major": 2,
    "version_minor": 0
   }
  }
 },
 "nbformat": 4,
 "nbformat_minor": 5
}
