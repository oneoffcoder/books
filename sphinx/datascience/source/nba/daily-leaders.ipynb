{
 "cells": [
  {
   "cell_type": "code",
   "execution_count": 1,
   "id": "humanitarian-spyware",
   "metadata": {
    "execution": {
     "iopub.execute_input": "2021-11-29T20:04:34.077352Z",
     "iopub.status.busy": "2021-11-29T20:04:34.077352Z",
     "iopub.status.idle": "2021-11-29T20:04:34.957798Z",
     "shell.execute_reply": "2021-11-29T20:04:34.957798Z",
     "shell.execute_reply.started": "2021-11-29T20:04:34.077352Z"
    },
    "tags": []
   },
   "outputs": [],
   "source": [
    "import io\n",
    "import pandas as pd\n",
    "\n",
    "def parse_data(fpath):\n",
    "    with open(fpath, 'r') as f:\n",
    "        data = {}\n",
    "        date = None\n",
    "\n",
    "        for line in f.readlines():\n",
    "            if line.startswith('#'):\n",
    "                date = line.replace('#', '').strip()\n",
    "                data[date] = []\n",
    "            else:\n",
    "                data[date].append(line)\n",
    "                \n",
    "    data = {k: ''.join(v) for k, v in data.items()}\n",
    "    data = {k: pd.read_csv(io.BytesIO(str.encode(v)), sep='\\t')\n",
    "            for k, v in data.items()}\n",
    "    for k, df in data.items():\n",
    "        df['date'] = k\n",
    "        \n",
    "    df = pd.concat(data.values()).reset_index(drop=True)\n",
    "    return df\n",
    "\n",
    "df = pd.concat([parse_data('daily-leaders-202110.txt'), \n",
    "                parse_data('daily-leaders-202111.txt')]).reset_index(drop=True)"
   ]
  },
  {
   "cell_type": "code",
   "execution_count": 2,
   "id": "instrumental-vegetable",
   "metadata": {
    "execution": {
     "iopub.execute_input": "2021-11-29T20:04:35.810019Z",
     "iopub.status.busy": "2021-11-29T20:04:35.810019Z",
     "iopub.status.idle": "2021-11-29T20:04:35.830069Z",
     "shell.execute_reply": "2021-11-29T20:04:35.830069Z",
     "shell.execute_reply.started": "2021-11-29T20:04:35.810019Z"
    },
    "tags": []
   },
   "outputs": [
    {
     "data": {
      "text/plain": [
       "(1170, 17)"
      ]
     },
     "execution_count": 2,
     "metadata": {},
     "output_type": "execute_result"
    }
   ],
   "source": [
    "df.shape"
   ]
  },
  {
   "cell_type": "code",
   "execution_count": 3,
   "id": "double-static",
   "metadata": {
    "execution": {
     "iopub.execute_input": "2021-11-29T20:04:36.451039Z",
     "iopub.status.busy": "2021-11-29T20:04:36.451039Z",
     "iopub.status.idle": "2021-11-29T20:04:36.474122Z",
     "shell.execute_reply": "2021-11-29T20:04:36.474122Z",
     "shell.execute_reply.started": "2021-11-29T20:04:36.451039Z"
    },
    "tags": []
   },
   "outputs": [
    {
     "data": {
      "text/html": [
       "<div>\n",
       "<style scoped>\n",
       "    .dataframe tbody tr th:only-of-type {\n",
       "        vertical-align: middle;\n",
       "    }\n",
       "\n",
       "    .dataframe tbody tr th {\n",
       "        vertical-align: top;\n",
       "    }\n",
       "\n",
       "    .dataframe thead th {\n",
       "        text-align: right;\n",
       "    }\n",
       "</style>\n",
       "<table border=\"1\" class=\"dataframe\">\n",
       "  <thead>\n",
       "    <tr style=\"text-align: right;\">\n",
       "      <th></th>\n",
       "      <th>RK</th>\n",
       "      <th>PLAYER</th>\n",
       "      <th>TEAM</th>\n",
       "      <th>OPP</th>\n",
       "      <th>SCORE</th>\n",
       "      <th>MIN</th>\n",
       "      <th>FGM-A</th>\n",
       "      <th>3PM-A</th>\n",
       "      <th>FTM-A</th>\n",
       "      <th>REB</th>\n",
       "      <th>AST</th>\n",
       "      <th>STL</th>\n",
       "      <th>BLK</th>\n",
       "      <th>TO</th>\n",
       "      <th>PTS</th>\n",
       "      <th>ESPN</th>\n",
       "      <th>date</th>\n",
       "    </tr>\n",
       "  </thead>\n",
       "  <tbody>\n",
       "    <tr>\n",
       "      <th>0</th>\n",
       "      <td>1.0</td>\n",
       "      <td>G. Antetokounmpo</td>\n",
       "      <td>Mil</td>\n",
       "      <td>BKN</td>\n",
       "      <td>104-127 W</td>\n",
       "      <td>31</td>\n",
       "      <td>12-25</td>\n",
       "      <td>1-4</td>\n",
       "      <td>7-9</td>\n",
       "      <td>14</td>\n",
       "      <td>7</td>\n",
       "      <td>1</td>\n",
       "      <td>2</td>\n",
       "      <td>4</td>\n",
       "      <td>32</td>\n",
       "      <td>59.1</td>\n",
       "      <td>20211019</td>\n",
       "    </tr>\n",
       "    <tr>\n",
       "      <th>1</th>\n",
       "      <td>2.0</td>\n",
       "      <td>L. James</td>\n",
       "      <td>LAL</td>\n",
       "      <td>GS</td>\n",
       "      <td>121-114 L</td>\n",
       "      <td>37</td>\n",
       "      <td>13-23</td>\n",
       "      <td>5-11</td>\n",
       "      <td>3-6</td>\n",
       "      <td>11</td>\n",
       "      <td>5</td>\n",
       "      <td>1</td>\n",
       "      <td>1</td>\n",
       "      <td>4</td>\n",
       "      <td>34</td>\n",
       "      <td>57.5</td>\n",
       "      <td>20211019</td>\n",
       "    </tr>\n",
       "    <tr>\n",
       "      <th>2</th>\n",
       "      <td>3.0</td>\n",
       "      <td>K. Durant</td>\n",
       "      <td>BKN</td>\n",
       "      <td>@Mil</td>\n",
       "      <td>104-127 L</td>\n",
       "      <td>30</td>\n",
       "      <td>13-25</td>\n",
       "      <td>3-7</td>\n",
       "      <td>3-6</td>\n",
       "      <td>11</td>\n",
       "      <td>4</td>\n",
       "      <td>0</td>\n",
       "      <td>2</td>\n",
       "      <td>1</td>\n",
       "      <td>32</td>\n",
       "      <td>54.0</td>\n",
       "      <td>20211019</td>\n",
       "    </tr>\n",
       "    <tr>\n",
       "      <th>3</th>\n",
       "      <td>4.0</td>\n",
       "      <td>A. Davis</td>\n",
       "      <td>LAL</td>\n",
       "      <td>GS</td>\n",
       "      <td>121-114 L</td>\n",
       "      <td>39</td>\n",
       "      <td>15-26</td>\n",
       "      <td>1-5</td>\n",
       "      <td>2-7</td>\n",
       "      <td>11</td>\n",
       "      <td>2</td>\n",
       "      <td>1</td>\n",
       "      <td>2</td>\n",
       "      <td>0</td>\n",
       "      <td>33</td>\n",
       "      <td>53.8</td>\n",
       "      <td>20211019</td>\n",
       "    </tr>\n",
       "    <tr>\n",
       "      <th>4</th>\n",
       "      <td>5.0</td>\n",
       "      <td>J. Harden</td>\n",
       "      <td>BKN</td>\n",
       "      <td>@Mil</td>\n",
       "      <td>104-127 L</td>\n",
       "      <td>31</td>\n",
       "      <td>6-16</td>\n",
       "      <td>4-8</td>\n",
       "      <td>4-4</td>\n",
       "      <td>8</td>\n",
       "      <td>8</td>\n",
       "      <td>1</td>\n",
       "      <td>2</td>\n",
       "      <td>4</td>\n",
       "      <td>20</td>\n",
       "      <td>41.2</td>\n",
       "      <td>20211019</td>\n",
       "    </tr>\n",
       "  </tbody>\n",
       "</table>\n",
       "</div>"
      ],
      "text/plain": [
       "    RK            PLAYER TEAM   OPP      SCORE  MIN  FGM-A 3PM-A FTM-A  REB  \\\n",
       "0  1.0  G. Antetokounmpo  Mil   BKN  104-127 W   31  12-25   1-4   7-9   14   \n",
       "1  2.0          L. James  LAL    GS  121-114 L   37  13-23  5-11   3-6   11   \n",
       "2  3.0         K. Durant  BKN  @Mil  104-127 L   30  13-25   3-7   3-6   11   \n",
       "3  4.0          A. Davis  LAL    GS  121-114 L   39  15-26   1-5   2-7   11   \n",
       "4  5.0         J. Harden  BKN  @Mil  104-127 L   31   6-16   4-8   4-4    8   \n",
       "\n",
       "   AST  STL  BLK  TO  PTS  ESPN      date  \n",
       "0    7    1    2   4   32  59.1  20211019  \n",
       "1    5    1    1   4   34  57.5  20211019  \n",
       "2    4    0    2   1   32  54.0  20211019  \n",
       "3    2    1    2   0   33  53.8  20211019  \n",
       "4    8    1    2   4   20  41.2  20211019  "
      ]
     },
     "execution_count": 3,
     "metadata": {},
     "output_type": "execute_result"
    }
   ],
   "source": [
    "df.head()"
   ]
  },
  {
   "cell_type": "code",
   "execution_count": 40,
   "id": "19f533a2-5e1b-49c5-8e9f-c2b71ad5478f",
   "metadata": {
    "execution": {
     "iopub.execute_input": "2021-11-29T20:29:40.162525Z",
     "iopub.status.busy": "2021-11-29T20:29:40.162525Z",
     "iopub.status.idle": "2021-11-29T20:29:41.831052Z",
     "shell.execute_reply": "2021-11-29T20:29:41.831052Z",
     "shell.execute_reply.started": "2021-11-29T20:29:40.162525Z"
    },
    "tags": []
   },
   "outputs": [
    {
     "data": {
      "image/png": "[encoded data removed]",
      "text/plain": [
       "<Figure size 2160x360 with 1 Axes>"
      ]
     },
     "metadata": {},
     "output_type": "display_data"
    }
   ],
   "source": [
    "import matplotlib.pyplot as plt\n",
    "\n",
    "plt.style.use('ggplot')\n",
    "\n",
    "s = df.groupby(['PLAYER'])\\\n",
    "        .agg('count')[['RK']]\\\n",
    "        .rename(columns={'RK': 'n'})\\\n",
    "        .sort_values(['n'])['n']\n",
    "\n",
    "_ = s.plot(kind='bar', figsize=(30, 5))"
   ]
  },
  {
   "cell_type": "code",
   "execution_count": 73,
   "id": "05a4d497-365f-4890-830d-8429786ff27d",
   "metadata": {
    "execution": {
     "iopub.execute_input": "2021-11-29T20:35:43.798526Z",
     "iopub.status.busy": "2021-11-29T20:35:43.798526Z",
     "iopub.status.idle": "2021-11-29T20:35:43.803528Z",
     "shell.execute_reply": "2021-11-29T20:35:43.803528Z",
     "shell.execute_reply.started": "2021-11-29T20:35:43.798526Z"
    },
    "tags": []
   },
   "outputs": [
    {
     "name": "stdout",
     "output_type": "stream",
     "text": [
      "12\n"
     ]
    },
    {
     "data": {
      "text/plain": [
       "{'A. Davis',\n",
       " 'C. Anthony',\n",
       " 'D. Mitchell',\n",
       " 'G. Antetokounmpo',\n",
       " 'K. Durant',\n",
       " 'K. Towns',\n",
       " 'L. Ball',\n",
       " 'P. George',\n",
       " 'R. Gobert',\n",
       " 'R. Westbrook',\n",
       " 'S. Curry',\n",
       " 'T. Young'}"
      ]
     },
     "execution_count": 73,
     "metadata": {},
     "output_type": "execute_result"
    }
   ],
   "source": [
    "valid_players = set(s[s >= 15].index)\n",
    "print(len(valid_players))\n",
    "valid_players"
   ]
  },
  {
   "cell_type": "code",
   "execution_count": 74,
   "id": "elegant-printing",
   "metadata": {
    "execution": {
     "iopub.execute_input": "2021-11-29T20:35:46.395510Z",
     "iopub.status.busy": "2021-11-29T20:35:46.395510Z",
     "iopub.status.idle": "2021-11-29T20:35:46.406510Z",
     "shell.execute_reply": "2021-11-29T20:35:46.406510Z",
     "shell.execute_reply.started": "2021-11-29T20:35:46.395510Z"
    },
    "tags": []
   },
   "outputs": [
    {
     "data": {
      "text/plain": [
       "12"
      ]
     },
     "execution_count": 74,
     "metadata": {},
     "output_type": "execute_result"
    }
   ],
   "source": [
    "players = sorted(list(df['PLAYER'].unique()))\n",
    "players = [p for p in players if p in valid_players]\n",
    "p2i = {p: i for i, p in enumerate(players)}\n",
    "n_players = len(players)\n",
    "\n",
    "n_players"
   ]
  },
  {
   "cell_type": "code",
   "execution_count": 75,
   "id": "cardiac-chicago",
   "metadata": {
    "execution": {
     "iopub.execute_input": "2021-11-29T20:35:47.179530Z",
     "iopub.status.busy": "2021-11-29T20:35:47.179530Z",
     "iopub.status.idle": "2021-11-29T20:35:47.191528Z",
     "shell.execute_reply": "2021-11-29T20:35:47.191528Z",
     "shell.execute_reply.started": "2021-11-29T20:35:47.179530Z"
    },
    "tags": []
   },
   "outputs": [
    {
     "data": {
      "text/plain": [
       "39"
      ]
     },
     "execution_count": 75,
     "metadata": {},
     "output_type": "execute_result"
    }
   ],
   "source": [
    "dates = sorted(list(df['date'].unique()))\n",
    "\n",
    "len(dates)"
   ]
  },
  {
   "cell_type": "code",
   "execution_count": 76,
   "id": "threatened-latter",
   "metadata": {
    "execution": {
     "iopub.execute_input": "2021-11-29T20:35:47.722500Z",
     "iopub.status.busy": "2021-11-29T20:35:47.722500Z",
     "iopub.status.idle": "2021-11-29T20:35:47.735499Z",
     "shell.execute_reply": "2021-11-29T20:35:47.735499Z",
     "shell.execute_reply.started": "2021-11-29T20:35:47.722500Z"
    },
    "tags": []
   },
   "outputs": [],
   "source": [
    "from itertools import combinations, chain\n",
    "import numpy as np\n",
    "\n",
    "def get_indices(date, field, ascending):\n",
    "    p = df[df.date == date].sort_values([field], ascending=ascending)[['PLAYER', field]]\n",
    "    p['index'] = p['PLAYER'].apply(lambda n: p2i[n] if n in p2i else -1)\n",
    "    p = [(r['index'], r[field]) for _, r in p.iterrows() if r['index'] >= 0]\n",
    "    p = combinations(p, 2)\n",
    "    p = filter(lambda tup: tup[0][1] != tup[1][1], p)\n",
    "    p = map(lambda tup: (tup[0][0], tup[1][0]), p)\n",
    "\n",
    "    return p\n",
    "\n",
    "def get_mat(field, ascending):\n",
    "    indices = chain(*(get_indices(d, field, ascending) for d in dates))\n",
    "    mat = np.zeros([n_players, n_players])\n",
    "\n",
    "    for r, c in indices:\n",
    "        mat[r, c] += 1\n",
    "\n",
    "    mat = pd.DataFrame(mat, columns=players, index=players)\n",
    "    \n",
    "    return mat"
   ]
  },
  {
   "cell_type": "code",
   "execution_count": 77,
   "id": "sticky-extra",
   "metadata": {
    "execution": {
     "iopub.execute_input": "2021-11-29T20:35:48.267090Z",
     "iopub.status.busy": "2021-11-29T20:35:48.267090Z",
     "iopub.status.idle": "2021-11-29T20:35:48.506085Z",
     "shell.execute_reply": "2021-11-29T20:35:48.506085Z",
     "shell.execute_reply.started": "2021-11-29T20:35:48.267090Z"
    },
    "tags": []
   },
   "outputs": [
    {
     "name": "stdout",
     "output_type": "stream",
     "text": [
      "(12, 12) (12, 12)\n"
     ]
    }
   ],
   "source": [
    "mat_espn = get_mat('ESPN', False)\n",
    "mat_pts = get_mat('PTS', False)\n",
    "\n",
    "print(mat_espn.shape, mat_pts.shape)"
   ]
  },
  {
   "cell_type": "code",
   "execution_count": 78,
   "id": "planned-fusion",
   "metadata": {
    "execution": {
     "iopub.execute_input": "2021-11-29T20:35:49.050870Z",
     "iopub.status.busy": "2021-11-29T20:35:49.050870Z",
     "iopub.status.idle": "2021-11-29T20:35:49.056870Z",
     "shell.execute_reply": "2021-11-29T20:35:49.056870Z",
     "shell.execute_reply.started": "2021-11-29T20:35:49.050870Z"
    },
    "tags": []
   },
   "outputs": [],
   "source": [
    "def get_estimate(i, p, df):\n",
    "    get_prob = lambda i, j: np.nan if i == j else p.iloc[i] + p.iloc[j]\n",
    "    n = df.iloc[i].sum()\n",
    "    \n",
    "    d_n = df.iloc[i] + df.iloc[:, i]\n",
    "    d_d = pd.Series([get_prob(i, j) for j in range(len(p))], index=p.index)\n",
    "    d = (d_n / d_d).sum()\n",
    "    \n",
    "    return n / d\n",
    "\n",
    "def estimate_p(p, df):\n",
    "    return pd.Series([get_estimate(i, p, df) for i in range(df.shape[0])], index=p.index)\n",
    "\n",
    "\n",
    "def iterate(df, p=None, n=20, sorted=True):\n",
    "    if p is None:\n",
    "        p = pd.Series([1 for _ in range(df.shape[0])], index=list(df.columns))\n",
    "        \n",
    "    estimates = [p]\n",
    "    \n",
    "    for _ in range(n):\n",
    "        p = estimate_p(p, df)\n",
    "        p = p / p.sum()\n",
    "        estimates.append(p)\n",
    "    \n",
    "    p = p.sort_values(ascending=False) if sorted else p\n",
    "    return p, pd.DataFrame(estimates)"
   ]
  },
  {
   "cell_type": "code",
   "execution_count": 79,
   "id": "shaped-decade",
   "metadata": {
    "execution": {
     "iopub.execute_input": "2021-11-29T20:35:49.619151Z",
     "iopub.status.busy": "2021-11-29T20:35:49.618151Z",
     "iopub.status.idle": "2021-11-29T20:35:50.311450Z",
     "shell.execute_reply": "2021-11-29T20:35:50.311450Z",
     "shell.execute_reply.started": "2021-11-29T20:35:49.619151Z"
    },
    "tags": []
   },
   "outputs": [],
   "source": [
    "p_espn, estimates_espn = iterate(mat_espn, n=100)"
   ]
  },
  {
   "cell_type": "code",
   "execution_count": 80,
   "id": "encouraging-trailer",
   "metadata": {
    "execution": {
     "iopub.execute_input": "2021-11-29T20:35:50.313451Z",
     "iopub.status.busy": "2021-11-29T20:35:50.313451Z",
     "iopub.status.idle": "2021-11-29T20:35:50.990552Z",
     "shell.execute_reply": "2021-11-29T20:35:50.990552Z",
     "shell.execute_reply.started": "2021-11-29T20:35:50.313451Z"
    },
    "tags": []
   },
   "outputs": [],
   "source": [
    "p_pts, estimates_pts = iterate(mat_pts, n=100)"
   ]
  },
  {
   "cell_type": "code",
   "execution_count": 81,
   "id": "precise-organizer",
   "metadata": {
    "execution": {
     "iopub.execute_input": "2021-11-29T20:35:50.992553Z",
     "iopub.status.busy": "2021-11-29T20:35:50.991552Z",
     "iopub.status.idle": "2021-11-29T20:35:51.006552Z",
     "shell.execute_reply": "2021-11-29T20:35:51.006552Z",
     "shell.execute_reply.started": "2021-11-29T20:35:50.992553Z"
    },
    "tags": []
   },
   "outputs": [
    {
     "data": {
      "text/plain": [
       "G. Antetokounmpo    0.169129\n",
       "K. Durant           0.123947\n",
       "P. George           0.112621\n",
       "C. Anthony          0.097591\n",
       "L. Ball             0.081269\n",
       "S. Curry            0.070729\n",
       "A. Davis            0.068102\n",
       "T. Young            0.066863\n",
       "R. Westbrook        0.064058\n",
       "R. Gobert           0.054975\n",
       "D. Mitchell         0.049025\n",
       "K. Towns            0.041690\n",
       "dtype: float64"
      ]
     },
     "execution_count": 81,
     "metadata": {},
     "output_type": "execute_result"
    }
   ],
   "source": [
    "p_espn"
   ]
  },
  {
   "cell_type": "code",
   "execution_count": 82,
   "id": "graphic-enterprise",
   "metadata": {
    "execution": {
     "iopub.execute_input": "2021-11-29T20:35:51.007554Z",
     "iopub.status.busy": "2021-11-29T20:35:51.007554Z",
     "iopub.status.idle": "2021-11-29T20:35:51.022552Z",
     "shell.execute_reply": "2021-11-29T20:35:51.022552Z",
     "shell.execute_reply.started": "2021-11-29T20:35:51.007554Z"
    },
    "tags": []
   },
   "outputs": [
    {
     "data": {
      "text/plain": [
       "K. Durant           0.164622\n",
       "P. George           0.142649\n",
       "G. Antetokounmpo    0.123481\n",
       "C. Anthony          0.105930\n",
       "S. Curry            0.101202\n",
       "T. Young            0.073488\n",
       "K. Towns            0.071364\n",
       "A. Davis            0.068710\n",
       "D. Mitchell         0.066100\n",
       "L. Ball             0.040471\n",
       "R. Westbrook        0.027864\n",
       "R. Gobert           0.014119\n",
       "dtype: float64"
      ]
     },
     "execution_count": 82,
     "metadata": {},
     "output_type": "execute_result"
    }
   ],
   "source": [
    "p_pts"
   ]
  },
  {
   "cell_type": "code",
   "execution_count": 83,
   "id": "celtic-firmware",
   "metadata": {
    "execution": {
     "iopub.execute_input": "2021-11-29T20:35:51.535294Z",
     "iopub.status.busy": "2021-11-29T20:35:51.535294Z",
     "iopub.status.idle": "2021-11-29T20:35:51.551294Z",
     "shell.execute_reply": "2021-11-29T20:35:51.551294Z",
     "shell.execute_reply.started": "2021-11-29T20:35:51.535294Z"
    },
    "tags": []
   },
   "outputs": [
    {
     "data": {
      "text/html": [
       "<div>\n",
       "<style scoped>\n",
       "    .dataframe tbody tr th:only-of-type {\n",
       "        vertical-align: middle;\n",
       "    }\n",
       "\n",
       "    .dataframe tbody tr th {\n",
       "        vertical-align: top;\n",
       "    }\n",
       "\n",
       "    .dataframe thead th {\n",
       "        text-align: right;\n",
       "    }\n",
       "</style>\n",
       "<table border=\"1\" class=\"dataframe\">\n",
       "  <thead>\n",
       "    <tr style=\"text-align: right;\">\n",
       "      <th></th>\n",
       "      <th>ESPN</th>\n",
       "      <th>PTS</th>\n",
       "    </tr>\n",
       "  </thead>\n",
       "  <tbody>\n",
       "    <tr>\n",
       "      <th>ESPN</th>\n",
       "      <td>1.000000</td>\n",
       "      <td>0.713141</td>\n",
       "    </tr>\n",
       "    <tr>\n",
       "      <th>PTS</th>\n",
       "      <td>0.713141</td>\n",
       "      <td>1.000000</td>\n",
       "    </tr>\n",
       "  </tbody>\n",
       "</table>\n",
       "</div>"
      ],
      "text/plain": [
       "          ESPN       PTS\n",
       "ESPN  1.000000  0.713141\n",
       "PTS   0.713141  1.000000"
      ]
     },
     "execution_count": 83,
     "metadata": {},
     "output_type": "execute_result"
    }
   ],
   "source": [
    "pd.DataFrame([p_espn.sort_index(), p_pts.sort_index()]).T.rename(columns={0: 'ESPN', 1: 'PTS'}).corr()"
   ]
  },
  {
   "cell_type": "code",
   "execution_count": 84,
   "id": "soviet-pavilion",
   "metadata": {
    "execution": {
     "iopub.execute_input": "2021-11-29T20:35:52.291472Z",
     "iopub.status.busy": "2021-11-29T20:35:52.291472Z",
     "iopub.status.idle": "2021-11-29T20:35:52.393486Z",
     "shell.execute_reply": "2021-11-29T20:35:52.393486Z",
     "shell.execute_reply.started": "2021-11-29T20:35:52.291472Z"
    },
    "tags": []
   },
   "outputs": [
    {
     "data": {
      "text/plain": [
       "<AxesSubplot:xlabel='ESPN', ylabel='PTS'>"
      ]
     },
     "execution_count": 84,
     "metadata": {},
     "output_type": "execute_result"
    },
    {
     "data": {
      "image/png": "[encoded data removed]",
      "text/plain": [
       "<Figure size 432x288 with 1 Axes>"
      ]
     },
     "metadata": {},
     "output_type": "display_data"
    }
   ],
   "source": [
    "pd.DataFrame([p_espn.sort_index(), p_pts.sort_index()]).T.rename(columns={0: 'ESPN', 1: 'PTS'}).plot(kind='scatter', x='ESPN', y='PTS')"
   ]
  },
  {
   "cell_type": "code",
   "execution_count": 85,
   "id": "swiss-championship",
   "metadata": {
    "execution": {
     "iopub.execute_input": "2021-11-29T20:37:18.360238Z",
     "iopub.status.busy": "2021-11-29T20:37:18.360238Z",
     "iopub.status.idle": "2021-11-29T20:37:18.374238Z",
     "shell.execute_reply": "2021-11-29T20:37:18.374238Z",
     "shell.execute_reply.started": "2021-11-29T20:37:18.360238Z"
    },
    "tags": []
   },
   "outputs": [
    {
     "data": {
      "text/plain": [
       "K. Durant           65.0\n",
       "G. Antetokounmpo    62.0\n",
       "S. Curry            54.0\n",
       "L. Ball             48.0\n",
       "C. Anthony          45.0\n",
       "T. Young            45.0\n",
       "A. Davis            41.0\n",
       "P. George           39.0\n",
       "R. Westbrook        36.0\n",
       "R. Gobert           29.0\n",
       "D. Mitchell         26.0\n",
       "K. Towns            23.0\n",
       "dtype: float64"
      ]
     },
     "execution_count": 85,
     "metadata": {},
     "output_type": "execute_result"
    }
   ],
   "source": [
    "mat_espn.sum(axis=1).sort_values(ascending=False)"
   ]
  },
  {
   "cell_type": "code",
   "execution_count": 86,
   "id": "3aa7f26c-8cd1-4e1b-a1ca-4fbaacd070ba",
   "metadata": {
    "execution": {
     "iopub.execute_input": "2021-11-29T20:37:19.171778Z",
     "iopub.status.busy": "2021-11-29T20:37:19.170779Z",
     "iopub.status.idle": "2021-11-29T20:37:19.191775Z",
     "shell.execute_reply": "2021-11-29T20:37:19.191775Z",
     "shell.execute_reply.started": "2021-11-29T20:37:19.171778Z"
    },
    "tags": []
   },
   "outputs": [
    {
     "data": {
      "text/plain": [
       "K. Durant           5.416667\n",
       "G. Antetokounmpo    5.166667\n",
       "S. Curry            4.500000\n",
       "L. Ball             4.000000\n",
       "C. Anthony          3.750000\n",
       "T. Young            3.750000\n",
       "A. Davis            3.416667\n",
       "P. George           3.250000\n",
       "R. Westbrook        3.000000\n",
       "R. Gobert           2.416667\n",
       "D. Mitchell         2.166667\n",
       "K. Towns            1.916667\n",
       "dtype: float64"
      ]
     },
     "execution_count": 86,
     "metadata": {},
     "output_type": "execute_result"
    }
   ],
   "source": [
    "mat_espn.mean(axis=1).sort_values(ascending=False)"
   ]
  },
  {
   "cell_type": "code",
   "execution_count": null,
   "id": "3f21a955-b546-4d39-b369-3090b9f63851",
   "metadata": {},
   "outputs": [],
   "source": []
  }
 ],
 "metadata": {
  "kernelspec": {
   "display_name": "Python 3",
   "language": "python",
   "name": "python3"
  },
  "language_info": {
   "codemirror_mode": {
    "name": "ipython",
    "version": 3
   },
   "file_extension": ".py",
   "mimetype": "text/x-python",
   "name": "python",
   "nbconvert_exporter": "python",
   "pygments_lexer": "ipython3",
   "version": "3.8.5"
  },
  "widgets": {
   "application/vnd.jupyter.widget-state+json": {
    "state": {},
    "version_major": 2,
    "version_minor": 0
   }
  }
 },
 "nbformat": 4,
 "nbformat_minor": 5
}
