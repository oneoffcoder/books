{
 "cells": [
  {
   "cell_type": "markdown",
   "id": "4ae9fabd-fe57-4860-a279-a473d87fbec7",
   "metadata": {},
   "source": [
    "# Mediators and Confounders"
   ]
  },
  {
   "cell_type": "markdown",
   "id": "d7cacfe8-9da1-4a7f-a292-4baa98c353ef",
   "metadata": {},
   "source": [
    "In a directed acyclic graph (DAG) representing a causal model, we can use the `backdoor criterion` to identify confounders and the `frontdoor criterion` to identify mediators. A set of variables $C$ satisifies the backdoor criterion relative to $T$ and $Y$ if the following are true:\n",
    "\n",
    "- $C$ blocks all backdoor paths from $T$ to $Y$\n",
    "- $C$ does not contain any descendants of $T$\n",
    "\n",
    "A set of variables $M$ satistifes the frontdoor criterion relative to $T$ and $Y$ if the following are true:\n",
    "\n",
    "- All paths from $T$ to $Y$ go through $M$\n",
    "- There is no active backdoor path from $T$ to $M$\n",
    "- All backdoor paths from $M$ to $Y$ are blocked by $T$\n",
    "\n",
    "If $(T, C, Y)$ satisfy the backdoor criterion, then the backdoor adjustment formula may be used to estimate the causal effect of $T$ on $Y$.\n",
    "\n",
    "- $P(y|do(t)) = \\sum_c P(y|t,c) P(c)$\n",
    "\n",
    "If $(T, M, Y)$ satisfy the frontdoor criterion, then the frontdoor adjustment formula may be used to estimate the causal effect of $T$ on $Y$.\n",
    "\n",
    "- $P(y|do(t)) = \\sum_m \\big( P(m|t) \\sum_t P(y|m,t) P(t) \\big)$"
   ]
  },
  {
   "cell_type": "code",
   "execution_count": 1,
   "id": "02b06357-7fae-4b8d-a507-23600b4c301b",
   "metadata": {},
   "outputs": [],
   "source": [
    "from pybbn.graph.dag import Bbn\n",
    "from pybbn.graph.edge import Edge, EdgeType\n",
    "from pybbn.graph.jointree import EvidenceBuilder\n",
    "from pybbn.graph.node import BbnNode\n",
    "from pybbn.graph.variable import Variable\n",
    "from pybbn.pptc.inferencecontroller import InferenceController\n",
    "\n",
    "C = BbnNode(Variable(0, 'confounder', ['false', 'true']), [0.8, 0.2])\n",
    "T = BbnNode(Variable(1, 'treatment', ['false', 'true']), [0.8, 0.2, 0.2, 0.8])\n",
    "M = BbnNode(Variable(2, 'mediator', ['false', 'true']), [0.75, 0.25, 0.1, 0.9])\n",
    "Y = BbnNode(Variable(3, 'output', ['false', 'true']), [0.99, 0.01, 0.6, 0.4, 0.55, 0.45, 0.2, 0.8])\n",
    "\n",
    "bbn = Bbn() \\\n",
    "    .add_node(C) \\\n",
    "    .add_node(T) \\\n",
    "    .add_node(M) \\\n",
    "    .add_node(Y) \\\n",
    "    .add_edge(Edge(C, T, EdgeType.DIRECTED)) \\\n",
    "    .add_edge(Edge(T, M, EdgeType.DIRECTED)) \\\n",
    "    .add_edge(Edge(C, Y, EdgeType.DIRECTED)) \\\n",
    "    .add_edge(Edge(M, Y, EdgeType.DIRECTED))"
   ]
  },
  {
   "cell_type": "code",
   "execution_count": 2,
   "id": "d457dd2b-d1b5-4638-8c7c-2938865dcb33",
   "metadata": {},
   "outputs": [],
   "source": [
    "from pybbn.pptc.inferencecontroller import InferenceController\n",
    "\n",
    "join_tree = InferenceController.apply(bbn)"
   ]
  },
  {
   "cell_type": "code",
   "execution_count": 3,
   "id": "aa86f6e8-dcd2-4154-947f-7663324406d8",
   "metadata": {},
   "outputs": [],
   "source": [
    "import pandas as pd\n",
    "from pybbn.sampling.sampling import LogicSampler\n",
    "\n",
    "sampler = LogicSampler(bbn)\n",
    "samples = sampler.get_samples(n_samples=1_000, seed=37)\n",
    "\n",
    "df = pd.DataFrame(samples).rename(columns={0: 'C', 1: 'T', 2: 'M', 3: 'Y'})"
   ]
  },
  {
   "cell_type": "code",
   "execution_count": 4,
   "id": "6963204f-12f5-49aa-b43e-45ba3edae2cf",
   "metadata": {},
   "outputs": [
    {
     "data": {
      "text/html": [
       "<div>\n",
       "<style scoped>\n",
       "    .dataframe tbody tr th:only-of-type {\n",
       "        vertical-align: middle;\n",
       "    }\n",
       "\n",
       "    .dataframe tbody tr th {\n",
       "        vertical-align: top;\n",
       "    }\n",
       "\n",
       "    .dataframe thead th {\n",
       "        text-align: right;\n",
       "    }\n",
       "</style>\n",
       "<table border=\"1\" class=\"dataframe\">\n",
       "  <thead>\n",
       "    <tr style=\"text-align: right;\">\n",
       "      <th></th>\n",
       "      <th>C</th>\n",
       "      <th>T</th>\n",
       "      <th>M</th>\n",
       "      <th>Y</th>\n",
       "    </tr>\n",
       "  </thead>\n",
       "  <tbody>\n",
       "    <tr>\n",
       "      <th>0</th>\n",
       "      <td>true</td>\n",
       "      <td>true</td>\n",
       "      <td>true</td>\n",
       "      <td>true</td>\n",
       "    </tr>\n",
       "    <tr>\n",
       "      <th>1</th>\n",
       "      <td>false</td>\n",
       "      <td>false</td>\n",
       "      <td>false</td>\n",
       "      <td>false</td>\n",
       "    </tr>\n",
       "    <tr>\n",
       "      <th>2</th>\n",
       "      <td>false</td>\n",
       "      <td>false</td>\n",
       "      <td>true</td>\n",
       "      <td>true</td>\n",
       "    </tr>\n",
       "    <tr>\n",
       "      <th>3</th>\n",
       "      <td>false</td>\n",
       "      <td>true</td>\n",
       "      <td>true</td>\n",
       "      <td>false</td>\n",
       "    </tr>\n",
       "    <tr>\n",
       "      <th>4</th>\n",
       "      <td>false</td>\n",
       "      <td>false</td>\n",
       "      <td>false</td>\n",
       "      <td>false</td>\n",
       "    </tr>\n",
       "    <tr>\n",
       "      <th>...</th>\n",
       "      <td>...</td>\n",
       "      <td>...</td>\n",
       "      <td>...</td>\n",
       "      <td>...</td>\n",
       "    </tr>\n",
       "    <tr>\n",
       "      <th>995</th>\n",
       "      <td>false</td>\n",
       "      <td>false</td>\n",
       "      <td>false</td>\n",
       "      <td>false</td>\n",
       "    </tr>\n",
       "    <tr>\n",
       "      <th>996</th>\n",
       "      <td>false</td>\n",
       "      <td>false</td>\n",
       "      <td>false</td>\n",
       "      <td>false</td>\n",
       "    </tr>\n",
       "    <tr>\n",
       "      <th>997</th>\n",
       "      <td>false</td>\n",
       "      <td>false</td>\n",
       "      <td>true</td>\n",
       "      <td>true</td>\n",
       "    </tr>\n",
       "    <tr>\n",
       "      <th>998</th>\n",
       "      <td>false</td>\n",
       "      <td>false</td>\n",
       "      <td>false</td>\n",
       "      <td>false</td>\n",
       "    </tr>\n",
       "    <tr>\n",
       "      <th>999</th>\n",
       "      <td>false</td>\n",
       "      <td>true</td>\n",
       "      <td>true</td>\n",
       "      <td>false</td>\n",
       "    </tr>\n",
       "  </tbody>\n",
       "</table>\n",
       "<p>1000 rows × 4 columns</p>\n",
       "</div>"
      ],
      "text/plain": [
       "         C      T      M      Y\n",
       "0     true   true   true   true\n",
       "1    false  false  false  false\n",
       "2    false  false   true   true\n",
       "3    false   true   true  false\n",
       "4    false  false  false  false\n",
       "..     ...    ...    ...    ...\n",
       "995  false  false  false  false\n",
       "996  false  false  false  false\n",
       "997  false  false   true   true\n",
       "998  false  false  false  false\n",
       "999  false   true   true  false\n",
       "\n",
       "[1000 rows x 4 columns]"
      ]
     },
     "execution_count": 4,
     "metadata": {},
     "output_type": "execute_result"
    }
   ],
   "source": [
    "df "
   ]
  },
  {
   "cell_type": "code",
   "execution_count": 22,
   "id": "e7f7985c-30a6-4fe4-9cc3-fd9717f946c6",
   "metadata": {},
   "outputs": [
    {
     "data": {
      "text/plain": [
       "['M==\"false\"', 'M==\"true\"']"
      ]
     },
     "execution_count": 22,
     "metadata": {},
     "output_type": "execute_result"
    }
   ],
   "source": [
    "import itertools\n",
    "\n",
    "def safe_divide(num, den):\n",
    "    if den == 0:\n",
    "        return 0\n",
    "    return num / den\n",
    "\n",
    "def get_filter(X, x):\n",
    "    f = [f'{_X}==\"{_x}\"' for _X, _x in zip(X, x)]\n",
    "    f = ' and '.join(f)\n",
    "    return f\n",
    "\n",
    "def get_domain_product_filters(df, X):\n",
    "    prod = [sorted(df[x].unique()) for x in X]\n",
    "    prod = itertools.product(*prod)\n",
    "    prod = [' and '.join([f'{_x}==\"{_v}\"' for _x, _v in zip(X, tup)]) for tup in prod]\n",
    "    return prod\n",
    "\n",
    "def get_marg_prob(df, X, x):\n",
    "    f = get_filter(X, x)\n",
    "    N = df.shape[0]\n",
    "    n = df.query(f).shape[0]\n",
    "    return safe_divide(n, N)\n",
    "\n",
    "def get_cond_prob(df, X, x, Y, y):\n",
    "    num_f = get_filter(X + Y, x + y)\n",
    "    den_f = get_filter(Y, y)\n",
    "\n",
    "    n = df.query(num_f).shape[0]\n",
    "    d = df.query(den_f).shape[0]\n",
    "    return safe_divide(n, d)\n",
    "\n",
    "def get_intv_prob(df, T, M, Y):\n",
    "    # for m in get_domain_product_filters(df, \n",
    "    \n",
    "get_marg_prob(df, ['T'], ['true'])\n",
    "get_cond_prob(df, ['Y'], ['true'], ['M', 'T'], ['true', 'true'])\n",
    "get_domain_product_filters(df, ['T'])\n",
    "get_domain_product_filters(df, ['T', 'M'])\n",
    "get_domain_product_filters(df, ['M'])"
   ]
  },
  {
   "cell_type": "code",
   "execution_count": 12,
   "id": "c6a5ad58-c7ad-45ed-b853-8dd65c7321aa",
   "metadata": {},
   "outputs": [
    {
     "data": {
      "text/plain": [
       "array(['true', 'false'], dtype=object)"
      ]
     },
     "execution_count": 12,
     "metadata": {},
     "output_type": "execute_result"
    }
   ],
   "source": [
    "df['T'].unique()"
   ]
  },
  {
   "cell_type": "code",
   "execution_count": null,
   "id": "de52f2fb-0232-4987-a4b4-6cf06afe2e1e",
   "metadata": {},
   "outputs": [],
   "source": []
  }
 ],
 "metadata": {
  "kernelspec": {
   "display_name": "Python 3 (ipykernel)",
   "language": "python",
   "name": "python3"
  },
  "language_info": {
   "codemirror_mode": {
    "name": "ipython",
    "version": 3
   },
   "file_extension": ".py",
   "mimetype": "text/x-python",
   "name": "python",
   "nbconvert_exporter": "python",
   "pygments_lexer": "ipython3",
   "version": "3.11.5"
  }
 },
 "nbformat": 4,
 "nbformat_minor": 5
}
