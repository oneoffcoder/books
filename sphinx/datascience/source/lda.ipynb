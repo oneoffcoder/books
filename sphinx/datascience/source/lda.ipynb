{
 "cells": [
  {
   "cell_type": "markdown",
   "metadata": {},
   "source": [
    "# Latent Dirichlet Allocation\n",
    "\n",
    "The purpose of this notebook is to demonstrate how to simulate data appropriate for use with [Latent Dirichlet Allocation](https://en.wikipedia.org/wiki/Latent_Dirichlet_allocation) (LDA) to learn topics. There are a lot of moving parts involved with LDA, and it makes very strong assumptions about how word, topics and documents are distributed. In a nutshell, the distributions are all based on the [Dirichlet-Multinomial distribution](https://en.wikipedia.org/wiki/Dirichlet-multinomial_distribution), and so if you understand that compound distribution, you will have an easier time understanding how to sample the topics (from the document) and the words (from the topic). At any rate, the Wikipedia site does a good enough job to enumerate the moving parts; here they are for completeness.\n",
    "\n",
    "* $K$ is the number of topics\n",
    "* $N$ is the number of words in a document; sometimes also denoted as $V$; when the number of words vary from document to document, then $N_d$ is the number of words for the $d$ document; here we assume $N$, $V$ and $N_d$ are all the same\n",
    "* $M$ is the number of documents\n",
    "* $\\alpha$ is a vector of length $K$ on the priors of the $K$ topics; these alpha are `sparse` (less than 1)\n",
    "* $\\beta$ is a vector of length $N$ on the priors of the $N$ words; typically these are `symmetric` (all set to the same value e.g. 0.001)\n",
    "* $\\theta$ is the $M$ by $K$ matrix of document-topic (documents to topics) where each element is $P(K=k|D=d)$\n",
    "* $\\varphi$ is the $K$ by $V$ matrix of topic-word (topics to words) where each element is $P(W=w|K=k)$\n",
    "\n",
    "The Wikipedia article states the sampling as follows.\n",
    "\n",
    "$\\begin{align}\n",
    "\\boldsymbol\\varphi_{k=1 \\dots K} &\\sim \\operatorname{Dirichlet}_V(\\boldsymbol\\beta) \\\\\n",
    "\\boldsymbol\\theta_{d=1 \\dots M} &\\sim \\operatorname{Dirichlet}_K(\\boldsymbol\\alpha) \\\\\n",
    "z_{d=1 \\dots M,w=1 \\dots N_d} &\\sim \\operatorname{Categorical}_K(\\boldsymbol\\theta_d) \\\\\n",
    "w_{d=1 \\dots M,w=1 \\dots N_d} &\\sim \\operatorname{Categorical}_V(\\boldsymbol\\varphi_{z_{dw}})\n",
    "\\end{align}$\n",
    "\n",
    "Note the following.\n",
    "\n",
    "* $z_{dw} \\in [1 \\ldots K]$ ($z_{dw}$ is an integer between 1 and $K$) and serves as a pointer back to $\\varphi_k$ (the k-th row in $\\varphi$ that you will use as priors to sample the words)\n",
    "* $w_{dw} \\in [1 \\ldots N]$ ($w_{dw}$ is an integer between 1 and $N$) which is the n-th word\n",
    "* $z_{dw}$ is actually sampled from $\\operatorname{Multinomial}(\\boldsymbol\\theta_d)$ taking the arg max, e.g. $z_{dw} \\sim \\underset{\\theta_d}{\\operatorname{arg\\,max}}\\ \\operatorname{Multinomial}(\\boldsymbol\\theta_d)$\n",
    "* $w_{dw}$ is actually sampled from $\\operatorname{Multinomial}(\\boldsymbol\\varphi_{z_{dw}})$ taking the arg max, e.g. $z_{dw} \\sim \\underset{\\boldsymbol\\varphi_{w_{dw}}}{\\operatorname{arg\\,max}}\\ \\operatorname{Multinomial}(\\boldsymbol\\varphi_{z_{dw}})$\n",
    "\n",
    "The code below should make it clear as there are a lot of sub-scripts and moving parts.\n",
    "\n",
    "## Simulate the data\n",
    "\n",
    "Let's get ready to sample. Note the following.\n",
    "\n",
    "* $K = 10$ (ten topics)\n",
    "* $N = 100$ (one hundred words)\n",
    "* $M = 1000$ (one thousand documents)\n",
    "* $\\alpha = [0.1, 0.2, 0.3, 0.4, 0.025, 0.015, 0.37, 0.88, 0.03, 0.08]$ (10 sparse priors on topics)\n",
    "* $\\beta = [0.001 \\ldots 0.001]$ (100 symetric priors on words)\n",
    "\n",
    "Below, we store the sampled documents and associated words in\n",
    "\n",
    "* `texts` as string literal (e.g. w1 w1 w83 ....)\n",
    "* `docs` as a dictionary of counts (e.g. { 1: 2, 83: 1, ...})\n",
    "\n",
    "The matrices\n",
    "\n",
    "* `C` stores the counts\n",
    "* `X` stores the [tf-idf](https://en.wikipedia.org/wiki/Tf%E2%80%93idf) values"
   ]
  },
  {
   "cell_type": "code",
   "execution_count": 1,
   "metadata": {},
   "outputs": [],
   "source": [
    "%matplotlib inline\n",
    "import seaborn as sns\n",
    "import matplotlib.pyplot as plt\n",
    "import numpy as np\n",
    "from scipy.stats import dirichlet, multinomial\n",
    "from scipy.sparse import lil_matrix\n",
    "import pandas as pd\n",
    "from sklearn.feature_extraction.text import TfidfTransformer\n",
    "\n",
    "np.random.seed(37)\n",
    "\n",
    "# number of topics\n",
    "K = 10\n",
    "# number of words\n",
    "N = 100\n",
    "# number of documents\n",
    "M = 1000\n",
    "\n",
    "# priors on K topics\n",
    "a = np.array([0.1, 0.2, 0.3, 0.4, 0.025, 0.015, 0.37, 0.88, 0.03, 0.08])\n",
    "# priors on N words\n",
    "b = np.full((1, N), 0.001, dtype=float)[0]\n",
    "\n",
    "# distribution of words in topic k\n",
    "phi = np.array([dirichlet.rvs(b)[0] for _ in range(K)])\n",
    "\n",
    "# distribution of topics in document d\n",
    "theta = np.array([dirichlet.rvs(a)[0] for _ in range(M)])\n",
    "\n",
    "# simulate the documents\n",
    "texts = []\n",
    "docs = []\n",
    "\n",
    "# for each document\n",
    "for i in range(M):\n",
    "    d = {}\n",
    "    t = []\n",
    "    \n",
    "    # for each word\n",
    "    for j in range(N):\n",
    "        # sample the possible topics\n",
    "        z_ij = multinomial.rvs(1, theta[i])\n",
    "        # get the identity of the topic; the one with the highest probability\n",
    "        topic = np.argmax(z_ij)\n",
    "        \n",
    "        # sample the possible words from the topic\n",
    "        w_ij = multinomial.rvs(1, phi[topic])\n",
    "        # get the identity of the word; the one with the highest probability\n",
    "        word = np.argmax(w_ij)\n",
    "        \n",
    "        if word not in d:\n",
    "            d[word] = 0\n",
    "        d[word] = d[word] + 1\n",
    "        t.append('w{}'.format(word))\n",
    "    docs.append(d)\n",
    "    texts.append(' '.join(t))\n",
    "\n",
    "# make a nice matrix\n",
    "# C is a matrix of word counts (rows are documents, columns are words, elements are count values)\n",
    "C = lil_matrix((M, N), dtype=np.int16)\n",
    "for i, d in enumerate(docs):\n",
    "    counts = sorted(list(d.items()), key=lambda tup: tup[0])\n",
    "    for tup in counts:\n",
    "        C[i, tup[0]] = tup[1]\n",
    "\n",
    "# X is a matrix of tf-idf (rows are documents, columns are words, elements are tf-idf values)\n",
    "X = TfidfTransformer().fit_transform(C)"
   ]
  },
  {
   "cell_type": "markdown",
   "metadata": {},
   "source": [
    "## Gaussian mixture models (GMMs)\n",
    "\n",
    "Let's see if GMMs can help us recover the number of topics using the [AIC](https://en.wikipedia.org/wiki/Akaike_information_criterion) score to guide us."
   ]
  },
  {
   "cell_type": "code",
   "execution_count": 2,
   "metadata": {},
   "outputs": [
    {
     "name": "stdout",
     "output_type": "stream",
     "text": [
      "2: aic=-91377.4925931899\n",
      "3: aic=-115401.48064693023\n",
      "4: aic=-140093.33933540556\n",
      "5: aic=-140323.78987370015\n",
      "6: aic=-141875.7608870883\n",
      "7: aic=-148775.55233751616\n",
      "8: aic=-144864.34044251204\n",
      "9: aic=-145063.4922621106\n",
      "10: aic=-150715.19037699007\n",
      "11: aic=-152996.5234889565\n",
      "12: aic=-155759.24880410862\n",
      "13: aic=-154738.52657589084\n",
      "14: aic=-155298.3570419242\n",
      "15: aic=-155273.86266190943\n",
      "16: aic=-158229.54424744606\n",
      "17: aic=-158801.92826365907\n",
      "18: aic=-158146.93107164893\n",
      "19: aic=-157399.88209837917\n",
      "20: aic=-158964.20247723104\n",
      "21: aic=-156443.29839085325\n",
      "22: aic=-156545.28924475564\n",
      "23: aic=-156265.51016605442\n",
      "24: aic=-155860.4914350854\n",
      "25: aic=-157396.56289736537\n"
     ]
    }
   ],
   "source": [
    "from scipy.sparse.linalg import svds\n",
    "from sklearn.mixture import GaussianMixture\n",
    "\n",
    "def get_gmm_labels(X, k):\n",
    "    gmm = GaussianMixture(n_components=k, max_iter=200, random_state=37)\n",
    "    gmm.fit(X)\n",
    "    aic = gmm.aic(X)\n",
    "    print('{}: aic={}'.format(k, aic))\n",
    "    return k, aic\n",
    "\n",
    "U, S, V = svds(X, k=20)\n",
    "gmm_scores = [get_gmm_labels(U, k) for k in range(2, 26)]"
   ]
  },
  {
   "cell_type": "markdown",
   "metadata": {},
   "source": [
    "## k-means clustering (KMC)\n",
    "\n",
    "Let's see if KMC can help us to recover the number of topics using the [Silhouette score](https://en.wikipedia.org/wiki/Silhouette_%28clustering%29) to guide us."
   ]
  },
  {
   "cell_type": "code",
   "execution_count": 3,
   "metadata": {},
   "outputs": [
    {
     "name": "stdout",
     "output_type": "stream",
     "text": [
      "2: score=0.22136552497539078\n",
      "3: score=0.2606191325546754\n",
      "4: score=0.2985364557161296\n",
      "5: score=0.32764563696557253\n",
      "6: score=0.34711980577628615\n",
      "7: score=0.36212754809252495\n",
      "8: score=0.3693035922796191\n",
      "9: score=0.3118628444238988\n",
      "10: score=0.32070416934016466\n",
      "11: score=0.3056882384904699\n",
      "12: score=0.28297903762485543\n",
      "13: score=0.28462816984240946\n",
      "14: score=0.2747613933318139\n",
      "15: score=0.2787478862359055\n",
      "16: score=0.27452088253304896\n",
      "17: score=0.2548015324435892\n",
      "18: score=0.25961952207924777\n",
      "19: score=0.25650479556223627\n",
      "20: score=0.251690199350559\n",
      "21: score=0.2566617758778615\n",
      "22: score=0.25866268014756943\n",
      "23: score=0.24607465357359543\n",
      "24: score=0.24936289940720038\n",
      "25: score=0.2579644562276278\n"
     ]
    }
   ],
   "source": [
    "from sklearn.cluster import KMeans\n",
    "from sklearn.metrics import silhouette_score\n",
    "\n",
    "def get_kmc(X, k):\n",
    "    model = KMeans(k, random_state=37)\n",
    "    model.fit(X)\n",
    "    labels = model.predict(X)\n",
    "    score = silhouette_score(X, labels)\n",
    "    print('{}: score={}'.format(k, score))\n",
    "    return k, score\n",
    "\n",
    "kmc_scores = [get_kmc(X, k) for k in range(2, 26)]"
   ]
  },
  {
   "cell_type": "markdown",
   "metadata": {},
   "source": [
    "## LDA modeling\n",
    "\n",
    "Here, we will use LDA topic modeling technique and the [coherence score](https://radimrehurek.com/gensim/models/coherencemodel.html) to guide us recovering the number of topics."
   ]
  },
  {
   "cell_type": "code",
   "execution_count": 4,
   "metadata": {},
   "outputs": [
    {
     "name": "stdout",
     "output_type": "stream",
     "text": [
      "2: -7.112621491925517\n",
      "3: -6.770771537876562\n",
      "4: -6.654850158110881\n",
      "5: -6.495525290205532\n",
      "6: -6.592127872424598\n",
      "7: -6.4394384370150854\n",
      "8: -6.431505215171467\n",
      "9: -6.376827700591723\n",
      "10: -6.207008469326988\n",
      "11: -6.235774265382583\n",
      "12: -6.289107652710713\n",
      "13: -6.254881861190534\n",
      "14: -6.550148968159432\n",
      "15: -6.6008249817300415\n",
      "16: -6.560176401338963\n",
      "17: -6.607477085524114\n",
      "18: -6.707151535098344\n",
      "19: -6.712047152650457\n",
      "20: -6.723101440691804\n",
      "21: -6.906780797634873\n",
      "22: -6.6622351856878375\n",
      "23: -6.773847370134338\n",
      "24: -6.735329093161339\n",
      "25: -6.676802294304821\n"
     ]
    }
   ],
   "source": [
    "from gensim import corpora\n",
    "from gensim.models import LdaModel\n",
    "from gensim.models.coherencemodel import CoherenceModel\n",
    "\n",
    "def learn_lda_model(corpus, dictionary, k):\n",
    "    lda = LdaModel(corpus, \n",
    "               id2word=dictionary, \n",
    "               num_topics=k, \n",
    "               random_state=37, \n",
    "               iterations=100,\n",
    "               passes=5,\n",
    "               per_word_topics=False)\n",
    "    cm = CoherenceModel(model=lda, corpus=corpus, coherence='u_mass')\n",
    "    coherence = cm.get_coherence()\n",
    "    print('{}: {}'.format(k, coherence))\n",
    "    return k, coherence\n",
    "\n",
    "T = [t.split(' ') for t in texts]\n",
    "\n",
    "dictionary = corpora.Dictionary(T)\n",
    "corpus = [dictionary.doc2bow(text) for text in T]\n",
    "\n",
    "lda_scores = [learn_lda_model(corpus, dictionary, k) for k in range(2, 26)]"
   ]
  },
  {
   "cell_type": "markdown",
   "metadata": {},
   "source": [
    "## Visualize the techniques and scores versus the number of topics\n",
    "\n",
    "Here, we visualize the scores (GMM AIC, KMC Silhouette and LDA Coherence) versus the number of topics (k). For AIC, the lower the score, the better; for silhouette, the higher the better; for coherence, the higher the better. It seems that KCM's silhouette does not really agree with AIC or coherence; and AIC and coherence (although negative correlated) seem to hint at the same number of topics.\n",
    "\n",
    "When relying on LDA and coherence, k=10 is the highest, as we'd expect since we simulated the data from 10 latent/hidden topics."
   ]
  },
  {
   "cell_type": "code",
   "execution_count": 5,
   "metadata": {},
   "outputs": [
    {
     "data": {
      "image/png": "[encoded data removed]",
      "text/plain": [
       "<Figure size 1080x360 with 3 Axes>"
      ]
     },
     "metadata": {
      "needs_background": "light"
     },
     "output_type": "display_data"
    }
   ],
   "source": [
    "def plot_scores(scores, ax, ylabel):\n",
    "    _x = [s[0] for s in scores]\n",
    "    _y = [s[1] for s in scores]\n",
    "\n",
    "    ax.plot(_x, _y, color='tab:blue')\n",
    "    ax.set_xlabel('k')\n",
    "    ax.set_ylabel(ylabel)\n",
    "    ax.set_title('{} vs k'.format(ylabel))\n",
    "    \n",
    "fig, ax = plt.subplots(1, 3, figsize=(15, 5))\n",
    "plot_scores(gmm_scores, ax[0], 'GMM AIC')\n",
    "plot_scores(kmc_scores, ax[1], 'KMC Sillhouette')\n",
    "plot_scores(lda_scores, ax[2], 'LDA Coherence')\n",
    "\n",
    "plt.tight_layout()"
   ]
  },
  {
   "cell_type": "markdown",
   "metadata": {},
   "source": [
    "## Visualize the topics\n",
    "\n",
    "This visualization tool allows us to `interrogate` the topics. As we hover over each topic, the words most strongly associated with them are show."
   ]
  },
  {
   "cell_type": "code",
   "execution_count": null,
   "metadata": {},
   "outputs": [],
   "source": [
    "import pyLDAvis.gensim\n",
    "import warnings\n",
    "\n",
    "warnings.filterwarnings('ignore')\n",
    "\n",
    "lda = LdaModel(corpus, \n",
    "               id2word=dictionary, \n",
    "               num_topics=10, \n",
    "               random_state=37, \n",
    "               iterations=100,\n",
    "               passes=5,\n",
    "               per_word_topics=False)\n",
    "\n",
    "lda_display = pyLDAvis.gensim.prepare(lda, corpus, dictionary, sort_topics=False)\n",
    "pyLDAvis.display(lda_display)"
   ]
  },
  {
   "cell_type": "markdown",
   "metadata": {},
   "source": [
    "## Close to real-world example\n",
    "\n",
    "Here's a list of 10 book titles when searching on `programming` and `economics` from Amazon (5 each). Again, when the number of topics is k=2, that model has the highest coherence score."
   ]
  },
  {
   "cell_type": "code",
   "execution_count": 7,
   "metadata": {},
   "outputs": [
    {
     "name": "stdout",
     "output_type": "stream",
     "text": [
      "2: -26.8263021597115\n",
      "3: -26.863492751597203\n",
      "4: -26.88208804754005\n",
      "5: -26.848616514842924\n",
      "6: -26.9006833434829\n",
      "7: -26.874118634993117\n",
      "8: -26.88208804754005\n",
      "9: -26.863492751597203\n"
     ]
    }
   ],
   "source": [
    "import nltk\n",
    "from nltk.corpus import wordnet as wn\n",
    "from nltk.stem import PorterStemmer\n",
    "\n",
    "def clean(text):\n",
    "    t = text.lower().strip()\n",
    "    t = t.split()\n",
    "    t = remove_stop_words(t)\n",
    "    t = [get_lemma(w) for w in t]\n",
    "    t = [get_stem(w) for w in t]\n",
    "    return t\n",
    "\n",
    "def get_stem(w):\n",
    "    return PorterStemmer().stem(w)\n",
    "    \n",
    "def get_lemma(w):\n",
    "    lemma = wn.morphy(w)\n",
    "    return w if lemma is None else lemma\n",
    "    \n",
    "def remove_stop_words(tokens):\n",
    "    stop_words = nltk.corpus.stopwords.words('english')\n",
    "    return [token for token in tokens if token not in stop_words]\n",
    "\n",
    "\n",
    "texts = [\n",
    "    'The Art of Computer Programming',\n",
    "    'Computer Programming Learn Any Programming Language In 2 Hours',\n",
    "    'The Self-Taught Programmer The Definitive Guide to Programming Professionally',\n",
    "    'The Complete Software Developers Career Guide How to Learn Your Next Programming Language',\n",
    "    'Cracking the Coding Interview 189 Programming Questions and Solutions',\n",
    "    'The Economics Book Big Ideas Simply Explained',\n",
    "    'Economics in One Lesson The Shortest and Surest Way to Understand Basic Economics',\n",
    "    'Basic Economics',\n",
    "    'Aftermath Seven Secrets of Wealth Preservation in the Coming Chaos',\n",
    "    'Economics 101 From Consumer Behavior to Competitive Markets Everything You Need to Know About Economics'\n",
    "]\n",
    "\n",
    "texts = [clean(t) for t in texts]\n",
    "\n",
    "dictionary = corpora.Dictionary(texts)\n",
    "dictionary.filter_extremes(no_below=3)\n",
    "corpus = [dictionary.doc2bow(text) for text in texts]\n",
    "\n",
    "lda_scores = [learn_lda_model(corpus, dictionary, k) for k in range(2, 10)]"
   ]
  },
  {
   "cell_type": "markdown",
   "metadata": {},
   "source": [
    "Learn the model with 2 topics."
   ]
  },
  {
   "cell_type": "code",
   "execution_count": 8,
   "metadata": {},
   "outputs": [],
   "source": [
    "lda = LdaModel(corpus, \n",
    "               id2word=dictionary, \n",
    "               num_topics=2, \n",
    "               random_state=37, \n",
    "               iterations=100,\n",
    "               passes=20,\n",
    "               per_word_topics=False)"
   ]
  },
  {
   "cell_type": "markdown",
   "metadata": {},
   "source": [
    "Print what the model predicts for each book title. Note the 9-th book title is a tie (50/50)? Otherwise, all the predictions (based on highest probabilities) are correct."
   ]
  },
  {
   "cell_type": "code",
   "execution_count": 9,
   "metadata": {},
   "outputs": [
    {
     "name": "stdout",
     "output_type": "stream",
     "text": [
      "[(0, 0.25178078), (1, 0.7482192)]\n",
      "[(0, 0.16788824), (1, 0.8321117)]\n",
      "[(0, 0.25178385), (1, 0.74821615)]\n",
      "[(0, 0.25177962), (1, 0.7482204)]\n",
      "[(0, 0.2517812), (1, 0.7482188)]\n",
      "[(0, 0.7482479), (1, 0.25175208)]\n",
      "[(0, 0.83213073), (1, 0.16786925)]\n",
      "[(0, 0.74824756), (1, 0.2517524)]\n",
      "[(0, 0.5), (1, 0.5)]\n",
      "[(0, 0.8321298), (1, 0.16787016)]\n"
     ]
    }
   ],
   "source": [
    "corpus_lda = lda[corpus]\n",
    "\n",
    "for d in corpus_lda:\n",
    "    print(d)"
   ]
  },
  {
   "cell_type": "markdown",
   "metadata": {},
   "source": [
    "The first topic is about `econom` (economics) and the second about `programming`, as we'd expect. Observe how each topic has a little of the other's words? This observation is the result of the assumption from LDA that documents are a mixture of topics and topics have distributions over words."
   ]
  },
  {
   "cell_type": "code",
   "execution_count": 10,
   "metadata": {},
   "outputs": [
    {
     "data": {
      "text/plain": [
       "[(0, '0.926*\"econom\" + 0.074*\"program\"'),\n",
       " (1, '0.926*\"program\" + 0.074*\"econom\"')]"
      ]
     },
     "execution_count": 10,
     "metadata": {},
     "output_type": "execute_result"
    }
   ],
   "source": [
    "lda.print_topics()"
   ]
  },
  {
   "cell_type": "markdown",
   "metadata": {},
   "source": [
    "This book title is a `holdout` title from the economics search result. It is correctly placed in the 0-th topic (economics)."
   ]
  },
  {
   "cell_type": "code",
   "execution_count": 11,
   "metadata": {},
   "outputs": [
    {
     "data": {
      "text/plain": [
       "[(0, 0.74824804), (1, 0.25175193)]"
      ]
     },
     "execution_count": 11,
     "metadata": {},
     "output_type": "execute_result"
    }
   ],
   "source": [
    "lda[dictionary.doc2bow(clean('Naked Economics Undressing the Dismal Science'))]"
   ]
  },
  {
   "cell_type": "markdown",
   "metadata": {},
   "source": [
    "This book title is a `holdout` title from the programming search result. It is correctly placed in the 1-st topic (programming)."
   ]
  },
  {
   "cell_type": "code",
   "execution_count": 12,
   "metadata": {},
   "outputs": [
    {
     "data": {
      "text/plain": [
       "[(0, 0.25178164), (1, 0.74821836)]"
      ]
     },
     "execution_count": 12,
     "metadata": {},
     "output_type": "execute_result"
    }
   ],
   "source": [
    "lda[dictionary.doc2bow(clean('Elements of Programming Interviews in Python The Insiders Guide'))]"
   ]
  },
  {
   "cell_type": "markdown",
   "metadata": {},
   "source": [
    "Since this example is trivial, the visualization is not very interesting, but displayed below anyways."
   ]
  },
  {
   "cell_type": "code",
   "execution_count": null,
   "metadata": {},
   "outputs": [],
   "source": [
    "lda_display = pyLDAvis.gensim.prepare(lda, corpus, dictionary, sort_topics=False)\n",
    "pyLDAvis.display(lda_display)"
   ]
  }
 ],
 "metadata": {
  "kernelspec": {
   "display_name": "Python 3",
   "language": "python",
   "name": "python3"
  },
  "language_info": {
   "codemirror_mode": {
    "name": "ipython",
    "version": 3
   },
   "file_extension": ".py",
   "mimetype": "text/x-python",
   "name": "python",
   "nbconvert_exporter": "python",
   "pygments_lexer": "ipython3",
   "version": "3.7.3"
  }
 },
 "nbformat": 4,
 "nbformat_minor": 4
}
