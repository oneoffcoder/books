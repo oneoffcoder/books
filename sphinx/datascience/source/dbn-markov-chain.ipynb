{
 "cells": [
  {
   "cell_type": "markdown",
   "metadata": {},
   "source": [
    "# Dynamic Bayesian Network, Markov Chain\n",
    "\n",
    "Let's see how we can represent a [Markov Chain](https://en.wikipedia.org/wiki/Examples_of_Markov_chains) (MC) as a Dynamic Bayesian Network (DBN). We will verify our results with the stationary distribution or steady state."
   ]
  },
  {
   "cell_type": "markdown",
   "metadata": {},
   "source": [
    "## Model\n",
    "\n",
    "The model, $P$, has two states, sunny and rainy. Our initial state, $s$, will be sunny."
   ]
  },
  {
   "cell_type": "code",
   "execution_count": 1,
   "metadata": {
    "execution": {
     "iopub.execute_input": "2021-12-13T17:04:39.018548Z",
     "iopub.status.busy": "2021-12-13T17:04:39.018548Z",
     "iopub.status.idle": "2021-12-13T17:04:39.121546Z",
     "shell.execute_reply": "2021-12-13T17:04:39.121546Z",
     "shell.execute_reply.started": "2021-12-13T17:04:39.018548Z"
    }
   },
   "outputs": [],
   "source": [
    "import numpy as np\n",
    "\n",
    "P = np.array([[0.9, 0.1], [0.5, 0.5]])\n",
    "s = np.array([1.0, 0.0])"
   ]
  },
  {
   "cell_type": "markdown",
   "metadata": {},
   "source": [
    "## Power Method\n",
    "\n",
    "We can use the [Power Method](https://en.wikipedia.org/wiki/Power_iteration) to find the steady state.\n",
    "\n",
    "$s^n = s^0P^n$\n",
    "\n",
    "We will continue to compute $s^n$ until $||P^n - P^{n-1}|| \\lt \\delta$."
   ]
  },
  {
   "cell_type": "code",
   "execution_count": 2,
   "metadata": {
    "execution": {
     "iopub.execute_input": "2021-12-13T17:04:39.122546Z",
     "iopub.status.busy": "2021-12-13T17:04:39.122546Z",
     "iopub.status.idle": "2021-12-13T17:04:39.136547Z",
     "shell.execute_reply": "2021-12-13T17:04:39.136547Z",
     "shell.execute_reply.started": "2021-12-13T17:04:39.122546Z"
    }
   },
   "outputs": [
    {
     "data": {
      "text/plain": [
       "array([0.9, 0.1])"
      ]
     },
     "execution_count": 2,
     "metadata": {},
     "output_type": "execute_result"
    }
   ],
   "source": [
    "s.dot(P)"
   ]
  },
  {
   "cell_type": "code",
   "execution_count": 3,
   "metadata": {
    "execution": {
     "iopub.execute_input": "2021-12-13T17:04:39.137548Z",
     "iopub.status.busy": "2021-12-13T17:04:39.137548Z",
     "iopub.status.idle": "2021-12-13T17:04:39.152556Z",
     "shell.execute_reply": "2021-12-13T17:04:39.152556Z",
     "shell.execute_reply.started": "2021-12-13T17:04:39.137548Z"
    }
   },
   "outputs": [
    {
     "data": {
      "text/plain": [
       "array([0.86, 0.14])"
      ]
     },
     "execution_count": 3,
     "metadata": {},
     "output_type": "execute_result"
    }
   ],
   "source": [
    "s.dot(P).dot(P)"
   ]
  },
  {
   "cell_type": "code",
   "execution_count": 4,
   "metadata": {
    "execution": {
     "iopub.execute_input": "2021-12-13T17:04:39.153558Z",
     "iopub.status.busy": "2021-12-13T17:04:39.153558Z",
     "iopub.status.idle": "2021-12-13T17:04:39.371553Z",
     "shell.execute_reply": "2021-12-13T17:04:39.371553Z",
     "shell.execute_reply.started": "2021-12-13T17:04:39.153558Z"
    },
    "tags": []
   },
   "outputs": [
    {
     "data": {
      "text/plain": [
       "array([0.83335081, 0.16664919])"
      ]
     },
     "execution_count": 4,
     "metadata": {},
     "output_type": "execute_result"
    }
   ],
   "source": [
    "import pandas as pd\n",
    "\n",
    "P_curr = s.dot(P)\n",
    "trace_df = [list(P_curr) + [np.nan]]\n",
    "\n",
    "for it in range(100):\n",
    "    P_next = P_curr.dot(P)\n",
    "    d = np.linalg.norm(P_next - P_curr, 1)\n",
    "    \n",
    "    if d < 0.0001:\n",
    "        break\n",
    "    \n",
    "    trace_df.append(list(P_next) + [d])\n",
    "    P_curr = P_next\n",
    "    \n",
    "trace_df = pd.DataFrame(trace_df, columns=['sunny', 'rainy', 'delta'])\n",
    "P_next"
   ]
  },
  {
   "cell_type": "markdown",
   "metadata": {},
   "source": [
    "Here is the trace of $s^n$ until convergence."
   ]
  },
  {
   "cell_type": "code",
   "execution_count": 5,
   "metadata": {
    "execution": {
     "iopub.execute_input": "2021-12-13T17:04:39.372555Z",
     "iopub.status.busy": "2021-12-13T17:04:39.372555Z",
     "iopub.status.idle": "2021-12-13T17:04:39.387554Z",
     "shell.execute_reply": "2021-12-13T17:04:39.387554Z",
     "shell.execute_reply.started": "2021-12-13T17:04:39.372555Z"
    },
    "tags": []
   },
   "outputs": [
    {
     "data": {
      "text/html": [
       "<div>\n",
       "<style scoped>\n",
       "    .dataframe tbody tr th:only-of-type {\n",
       "        vertical-align: middle;\n",
       "    }\n",
       "\n",
       "    .dataframe tbody tr th {\n",
       "        vertical-align: top;\n",
       "    }\n",
       "\n",
       "    .dataframe thead th {\n",
       "        text-align: right;\n",
       "    }\n",
       "</style>\n",
       "<table border=\"1\" class=\"dataframe\">\n",
       "  <thead>\n",
       "    <tr style=\"text-align: right;\">\n",
       "      <th></th>\n",
       "      <th>sunny</th>\n",
       "      <th>rainy</th>\n",
       "      <th>delta</th>\n",
       "    </tr>\n",
       "  </thead>\n",
       "  <tbody>\n",
       "    <tr>\n",
       "      <th>0</th>\n",
       "      <td>0.900000</td>\n",
       "      <td>0.100000</td>\n",
       "      <td>NaN</td>\n",
       "    </tr>\n",
       "    <tr>\n",
       "      <th>1</th>\n",
       "      <td>0.860000</td>\n",
       "      <td>0.140000</td>\n",
       "      <td>0.080000</td>\n",
       "    </tr>\n",
       "    <tr>\n",
       "      <th>2</th>\n",
       "      <td>0.844000</td>\n",
       "      <td>0.156000</td>\n",
       "      <td>0.032000</td>\n",
       "    </tr>\n",
       "    <tr>\n",
       "      <th>3</th>\n",
       "      <td>0.837600</td>\n",
       "      <td>0.162400</td>\n",
       "      <td>0.012800</td>\n",
       "    </tr>\n",
       "    <tr>\n",
       "      <th>4</th>\n",
       "      <td>0.835040</td>\n",
       "      <td>0.164960</td>\n",
       "      <td>0.005120</td>\n",
       "    </tr>\n",
       "    <tr>\n",
       "      <th>5</th>\n",
       "      <td>0.834016</td>\n",
       "      <td>0.165984</td>\n",
       "      <td>0.002048</td>\n",
       "    </tr>\n",
       "    <tr>\n",
       "      <th>6</th>\n",
       "      <td>0.833606</td>\n",
       "      <td>0.166394</td>\n",
       "      <td>0.000819</td>\n",
       "    </tr>\n",
       "    <tr>\n",
       "      <th>7</th>\n",
       "      <td>0.833443</td>\n",
       "      <td>0.166557</td>\n",
       "      <td>0.000328</td>\n",
       "    </tr>\n",
       "    <tr>\n",
       "      <th>8</th>\n",
       "      <td>0.833377</td>\n",
       "      <td>0.166623</td>\n",
       "      <td>0.000131</td>\n",
       "    </tr>\n",
       "  </tbody>\n",
       "</table>\n",
       "</div>"
      ],
      "text/plain": [
       "      sunny     rainy     delta\n",
       "0  0.900000  0.100000       NaN\n",
       "1  0.860000  0.140000  0.080000\n",
       "2  0.844000  0.156000  0.032000\n",
       "3  0.837600  0.162400  0.012800\n",
       "4  0.835040  0.164960  0.005120\n",
       "5  0.834016  0.165984  0.002048\n",
       "6  0.833606  0.166394  0.000819\n",
       "7  0.833443  0.166557  0.000328\n",
       "8  0.833377  0.166623  0.000131"
      ]
     },
     "execution_count": 5,
     "metadata": {},
     "output_type": "execute_result"
    }
   ],
   "source": [
    "trace_df"
   ]
  },
  {
   "cell_type": "markdown",
   "metadata": {},
   "source": [
    "## Eigen decomposition\n",
    "\n",
    "We can also find the steady state directly through eigen decomposition. The steady state is the eigenvector associated with the eigenvalue closest to 1."
   ]
  },
  {
   "cell_type": "code",
   "execution_count": 6,
   "metadata": {
    "execution": {
     "iopub.execute_input": "2021-12-13T17:04:39.388556Z",
     "iopub.status.busy": "2021-12-13T17:04:39.388556Z",
     "iopub.status.idle": "2021-12-13T17:04:39.403553Z",
     "shell.execute_reply": "2021-12-13T17:04:39.403553Z",
     "shell.execute_reply.started": "2021-12-13T17:04:39.388556Z"
    }
   },
   "outputs": [
    {
     "data": {
      "text/plain": [
       "array([0.83333333, 0.16666667])"
      ]
     },
     "execution_count": 6,
     "metadata": {},
     "output_type": "execute_result"
    }
   ],
   "source": [
    "def get_stationary_p(X):\n",
    "    S, U = np.linalg.eig(X.T)\n",
    "    r = (U[:,np.isclose(S, 1)][:,0] / U[:,np.isclose(S, 1)][:,0].sum()).real\n",
    "    return r\n",
    "\n",
    "get_stationary_p(P)"
   ]
  },
  {
   "cell_type": "markdown",
   "metadata": {},
   "source": [
    "## Dynamic Bayesian Network\n",
    "\n",
    "Another way to represent a MC is with a DBN. In general, the DBN structure consists of an endless number of nodes corresponding to time slices. However, in a DBN, we can `unroll` the DBN structure to just 2 consecutive time slices. It is assumed that the intra- (within a time slice) and inter-relationships (between two consecutive time slices) do not change over time."
   ]
  },
  {
   "cell_type": "code",
   "execution_count": 7,
   "metadata": {
    "execution": {
     "iopub.execute_input": "2021-12-13T17:04:39.404555Z",
     "iopub.status.busy": "2021-12-13T17:04:39.404555Z",
     "iopub.status.idle": "2021-12-13T17:04:39.559551Z",
     "shell.execute_reply": "2021-12-13T17:04:39.559551Z",
     "shell.execute_reply.started": "2021-12-13T17:04:39.404555Z"
    }
   },
   "outputs": [
    {
     "name": "stdout",
     "output_type": "stream",
     "text": [
      "0|weather|rainy,sunny\n",
      "0=rainy|1.00000\n",
      "0=sunny|0.00000\n",
      "---------------\n",
      "2|weather_next|rainy,sunny\n",
      "2=rainy|0.90000\n",
      "2=sunny|0.10000\n",
      "---------------\n"
     ]
    }
   ],
   "source": [
    "from pybbn.graph.dag import Bbn\n",
    "from pybbn.graph.edge import Edge, EdgeType\n",
    "from pybbn.graph.jointree import EvidenceBuilder\n",
    "from pybbn.graph.node import BbnNode\n",
    "from pybbn.graph.variable import Variable\n",
    "from pybbn.pptc.inferencecontroller import InferenceController\n",
    "\n",
    "# create the nodes\n",
    "w_curr = BbnNode(Variable(0, 'weather', ['rainy', 'sunny']), [1.0, 0.0])\n",
    "w_next = BbnNode(Variable(2, 'weather_next', ['rainy', 'sunny']), [0.9, 0.1, 0.5, 0.5])\n",
    "\n",
    "# create the network structure\n",
    "bbn = Bbn() \\\n",
    "    .add_node(w_curr) \\\n",
    "    .add_node(w_next) \\\n",
    "    .add_edge(Edge(w_curr, w_next, EdgeType.DIRECTED))\n",
    "\n",
    "# convert the BBN to a join tree\n",
    "join_tree = InferenceController.apply(bbn)\n",
    "\n",
    "for node in [w_curr, w_next]:\n",
    "    potential = join_tree.get_bbn_potential(node)\n",
    "    print(node)\n",
    "    print(potential)\n",
    "    print('-' * 15)"
   ]
  },
  {
   "cell_type": "markdown",
   "metadata": {},
   "source": [
    "We can perform inference on the DBN and use the probability vector of the next state as input to the following time slice."
   ]
  },
  {
   "cell_type": "code",
   "execution_count": 8,
   "metadata": {
    "execution": {
     "iopub.execute_input": "2021-12-13T17:04:39.560552Z",
     "iopub.status.busy": "2021-12-13T17:04:39.560552Z",
     "iopub.status.idle": "2021-12-13T17:04:39.575551Z",
     "shell.execute_reply": "2021-12-13T17:04:39.575551Z",
     "shell.execute_reply.started": "2021-12-13T17:04:39.560552Z"
    },
    "tags": []
   },
   "outputs": [
    {
     "data": {
      "text/plain": [
       "array([0.83335081, 0.16664919])"
      ]
     },
     "execution_count": 8,
     "metadata": {},
     "output_type": "execute_result"
    }
   ],
   "source": [
    "import pandas as pd\n",
    "\n",
    "def get_probs(jt, node):\n",
    "    entries = jt.get_bbn_potential(node).entries\n",
    "    return np.array([e.value for e in entries])\n",
    "\n",
    "P_curr = get_probs(join_tree, w_curr)\n",
    "jt = InferenceController.reapply(join_tree, {w_curr.id: list(P_curr)})\n",
    "\n",
    "trace_df = [list(P_curr) + [np.nan]]\n",
    "\n",
    "for _ in range(20):\n",
    "    P_next = get_probs(jt, w_next)\n",
    "    d = np.linalg.norm(P_next - P_curr, 1)\n",
    "    \n",
    "    if d < 0.0001:\n",
    "        break\n",
    "    \n",
    "    trace_df.append(list(P_next) + [d])\n",
    "    P_curr = P_next\n",
    "            \n",
    "    jt = InferenceController.reapply(jt, {w_curr.id: list(P_curr)})\n",
    "    \n",
    "trace_df = pd.DataFrame(trace_df, columns=['sunny', 'rainy', 'delta'])\n",
    "P_next"
   ]
  },
  {
   "cell_type": "code",
   "execution_count": 9,
   "metadata": {
    "execution": {
     "iopub.execute_input": "2021-12-13T17:04:39.576553Z",
     "iopub.status.busy": "2021-12-13T17:04:39.576553Z",
     "iopub.status.idle": "2021-12-13T17:04:39.591551Z",
     "shell.execute_reply": "2021-12-13T17:04:39.591551Z",
     "shell.execute_reply.started": "2021-12-13T17:04:39.576553Z"
    },
    "tags": []
   },
   "outputs": [
    {
     "data": {
      "text/html": [
       "<div>\n",
       "<style scoped>\n",
       "    .dataframe tbody tr th:only-of-type {\n",
       "        vertical-align: middle;\n",
       "    }\n",
       "\n",
       "    .dataframe tbody tr th {\n",
       "        vertical-align: top;\n",
       "    }\n",
       "\n",
       "    .dataframe thead th {\n",
       "        text-align: right;\n",
       "    }\n",
       "</style>\n",
       "<table border=\"1\" class=\"dataframe\">\n",
       "  <thead>\n",
       "    <tr style=\"text-align: right;\">\n",
       "      <th></th>\n",
       "      <th>sunny</th>\n",
       "      <th>rainy</th>\n",
       "      <th>delta</th>\n",
       "    </tr>\n",
       "  </thead>\n",
       "  <tbody>\n",
       "    <tr>\n",
       "      <th>0</th>\n",
       "      <td>1.000000</td>\n",
       "      <td>0.000000</td>\n",
       "      <td>NaN</td>\n",
       "    </tr>\n",
       "    <tr>\n",
       "      <th>1</th>\n",
       "      <td>0.900000</td>\n",
       "      <td>0.100000</td>\n",
       "      <td>0.200000</td>\n",
       "    </tr>\n",
       "    <tr>\n",
       "      <th>2</th>\n",
       "      <td>0.860000</td>\n",
       "      <td>0.140000</td>\n",
       "      <td>0.080000</td>\n",
       "    </tr>\n",
       "    <tr>\n",
       "      <th>3</th>\n",
       "      <td>0.844000</td>\n",
       "      <td>0.156000</td>\n",
       "      <td>0.032000</td>\n",
       "    </tr>\n",
       "    <tr>\n",
       "      <th>4</th>\n",
       "      <td>0.837600</td>\n",
       "      <td>0.162400</td>\n",
       "      <td>0.012800</td>\n",
       "    </tr>\n",
       "    <tr>\n",
       "      <th>5</th>\n",
       "      <td>0.835040</td>\n",
       "      <td>0.164960</td>\n",
       "      <td>0.005120</td>\n",
       "    </tr>\n",
       "    <tr>\n",
       "      <th>6</th>\n",
       "      <td>0.834016</td>\n",
       "      <td>0.165984</td>\n",
       "      <td>0.002048</td>\n",
       "    </tr>\n",
       "    <tr>\n",
       "      <th>7</th>\n",
       "      <td>0.833606</td>\n",
       "      <td>0.166394</td>\n",
       "      <td>0.000819</td>\n",
       "    </tr>\n",
       "    <tr>\n",
       "      <th>8</th>\n",
       "      <td>0.833443</td>\n",
       "      <td>0.166557</td>\n",
       "      <td>0.000328</td>\n",
       "    </tr>\n",
       "    <tr>\n",
       "      <th>9</th>\n",
       "      <td>0.833377</td>\n",
       "      <td>0.166623</td>\n",
       "      <td>0.000131</td>\n",
       "    </tr>\n",
       "  </tbody>\n",
       "</table>\n",
       "</div>"
      ],
      "text/plain": [
       "      sunny     rainy     delta\n",
       "0  1.000000  0.000000       NaN\n",
       "1  0.900000  0.100000  0.200000\n",
       "2  0.860000  0.140000  0.080000\n",
       "3  0.844000  0.156000  0.032000\n",
       "4  0.837600  0.162400  0.012800\n",
       "5  0.835040  0.164960  0.005120\n",
       "6  0.834016  0.165984  0.002048\n",
       "7  0.833606  0.166394  0.000819\n",
       "8  0.833443  0.166557  0.000328\n",
       "9  0.833377  0.166623  0.000131"
      ]
     },
     "execution_count": 9,
     "metadata": {},
     "output_type": "execute_result"
    }
   ],
   "source": [
    "trace_df"
   ]
  }
 ],
 "metadata": {
  "kernelspec": {
   "display_name": "Python 3",
   "language": "python",
   "name": "python3"
  },
  "language_info": {
   "codemirror_mode": {
    "name": "ipython",
    "version": 3
   },
   "file_extension": ".py",
   "mimetype": "text/x-python",
   "name": "python",
   "nbconvert_exporter": "python",
   "pygments_lexer": "ipython3",
   "version": "3.8.5"
  },
  "widgets": {
   "application/vnd.jupyter.widget-state+json": {
    "state": {},
    "version_major": 2,
    "version_minor": 0
   }
  }
 },
 "nbformat": 4,
 "nbformat_minor": 4
}
