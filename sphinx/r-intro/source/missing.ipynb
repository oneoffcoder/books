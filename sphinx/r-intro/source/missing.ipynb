{
 "cells": [
  {
   "cell_type": "markdown",
   "metadata": {},
   "source": [
    "# Missing Data"
   ]
  },
  {
   "cell_type": "code",
   "execution_count": null,
   "metadata": {},
   "outputs": [
    {
     "name": "stderr",
     "output_type": "stream",
     "text": [
      "Installing packages into ‘/usr/local/lib/R/site-library’\n",
      "(as ‘lib’ is unspecified)\n",
      "also installing the dependencies ‘ucminf’, ‘zip’, ‘ordinal’, ‘SparseM’, ‘MatrixModels’, ‘openxlsx’, ‘minqa’, ‘nloptr’, ‘pan’, ‘jomo’, ‘carData’, ‘abind’, ‘pbkrtest’, ‘quantreg’, ‘maptools’, ‘rio’, ‘lme4’, ‘lmtest’, ‘mitml’, ‘car’, ‘vcd’, ‘laeken’, ‘ranger’\n",
      "\n"
     ]
    }
   ],
   "source": [
    "pkgs=c('mice', 'VIM', 'Amelia', 'missForest', 'Hmisc', 'mi')\n",
    "\n",
    "install.packages(c)"
   ]
  },
  {
   "cell_type": "code",
   "execution_count": null,
   "metadata": {},
   "outputs": [],
   "source": []
  }
 ],
 "metadata": {
  "kernelspec": {
   "display_name": "R 3.6",
   "language": "R",
   "name": "ir36"
  },
  "language_info": {
   "codemirror_mode": "r",
   "file_extension": ".r",
   "mimetype": "text/x-r-source",
   "name": "R",
   "pygments_lexer": "r",
   "version": "3.6.1"
  }
 },
 "nbformat": 4,
 "nbformat_minor": 4
}
