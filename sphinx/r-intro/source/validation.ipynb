{
 "cells": [
  {
   "cell_type": "code",
   "execution_count": 41,
   "metadata": {},
   "outputs": [],
   "source": [
    "library('caret')"
   ]
  },
  {
   "cell_type": "code",
   "execution_count": 42,
   "metadata": {},
   "outputs": [],
   "source": [
    "set.seed(37)\n",
    "\n",
    "getData <- function(N=1000) {\n",
    "    x1 <- rnorm(N, mean=0, sd=1)\n",
    "    x2 <- rnorm(N, mean=0, sd=1)\n",
    "    y <- 1 + 2.0 * x1 + 3.0 * x2 + rnorm(N, mean=0, sd=1)\n",
    "    y <- 1.0 / (1.0 + exp(-y))\n",
    "    y <- rbinom(n=N, size=1, prob=y)\n",
    "\n",
    "    df <- data.frame(x1=x1, x2=x2, y=y)\n",
    "    return(df)\n",
    "}\n",
    "\n",
    "D <- getData()"
   ]
  },
  {
   "cell_type": "code",
   "execution_count": 44,
   "metadata": {},
   "outputs": [],
   "source": [
    "suppressMessages({\n",
    "    library('missForest')\n",
    "})\n",
    "\n",
    "D.M <- prodNA(D, noNA=0.1)"
   ]
  },
  {
   "cell_type": "code",
   "execution_count": 45,
   "metadata": {},
   "outputs": [],
   "source": [
    "trIndices <- createDataPartition(D$y, times=1, p=0.8, list=FALSE)"
   ]
  },
  {
   "cell_type": "code",
   "execution_count": 58,
   "metadata": {},
   "outputs": [],
   "source": [
    "D.T <- D.M[trIndices, ]\n",
    "D.V <- D.M[-trIndices, ]"
   ]
  },
  {
   "cell_type": "code",
   "execution_count": 59,
   "metadata": {},
   "outputs": [
    {
     "data": {
      "text/html": [
       "<ol class=list-inline>\n",
       "\t<li>800</li>\n",
       "\t<li>3</li>\n",
       "</ol>\n"
      ],
      "text/latex": [
       "\\begin{enumerate*}\n",
       "\\item 800\n",
       "\\item 3\n",
       "\\end{enumerate*}\n"
      ],
      "text/markdown": [
       "1. 800\n",
       "2. 3\n",
       "\n",
       "\n"
      ],
      "text/plain": [
       "[1] 800   3"
      ]
     },
     "metadata": {},
     "output_type": "display_data"
    }
   ],
   "source": [
    "dim(D.T)"
   ]
  },
  {
   "cell_type": "code",
   "execution_count": 60,
   "metadata": {},
   "outputs": [
    {
     "data": {
      "text/html": [
       "<ol class=list-inline>\n",
       "\t<li>200</li>\n",
       "\t<li>3</li>\n",
       "</ol>\n"
      ],
      "text/latex": [
       "\\begin{enumerate*}\n",
       "\\item 200\n",
       "\\item 3\n",
       "\\end{enumerate*}\n"
      ],
      "text/markdown": [
       "1. 200\n",
       "2. 3\n",
       "\n",
       "\n"
      ],
      "text/plain": [
       "[1] 200   3"
      ]
     },
     "metadata": {},
     "output_type": "display_data"
    }
   ],
   "source": [
    "dim(D.V)"
   ]
  },
  {
   "cell_type": "code",
   "execution_count": 61,
   "metadata": {},
   "outputs": [],
   "source": [
    "library('skimr')"
   ]
  },
  {
   "cell_type": "code",
   "execution_count": 62,
   "metadata": {},
   "outputs": [],
   "source": [
    "skimmed <- skim(D.T)"
   ]
  },
  {
   "cell_type": "code",
   "execution_count": 63,
   "metadata": {},
   "outputs": [
    {
     "name": "stdout",
     "output_type": "stream",
     "text": [
      "── Data Summary ────────────────────────\n",
      "                           Values\n",
      "Name                       D.T   \n",
      "Number of rows             800   \n",
      "Number of columns          3     \n",
      "_______________________          \n",
      "Column type frequency:           \n",
      "  numeric                  3     \n",
      "________________________         \n",
      "Group variables            None  \n",
      "\n",
      "── Variable type: numeric ──────────────────────────────────────────────────────\n",
      "  skim_variable n_missing complete_rate    mean    sd    p0    p25     p50   p75\n",
      "\u001b[38;5;250m1\u001b[39m x1                   82         0.898 -\u001b[31m0\u001b[39m\u001b[31m.\u001b[39m\u001b[31m0\u001b[39m\u001b[31m36\u001b[4m2\u001b[24m\u001b[39m 1.03  -\u001b[31m2\u001b[39m\u001b[31m.\u001b[39m\u001b[31m86\u001b[39m -\u001b[31m0\u001b[39m\u001b[31m.\u001b[39m\u001b[31m739\u001b[39m -\u001b[31m0\u001b[39m\u001b[31m.\u001b[39m\u001b[31m0\u001b[39m\u001b[31m52\u001b[4m8\u001b[24m\u001b[39m 0.656\n",
      "\u001b[38;5;250m2\u001b[39m x2                   79         0.901  0.031\u001b[4m2\u001b[24m 1.02  -\u001b[31m3\u001b[39m\u001b[31m.\u001b[39m\u001b[31m29\u001b[39m -\u001b[31m0\u001b[39m\u001b[31m.\u001b[39m\u001b[31m602\u001b[39m  0.059\u001b[4m4\u001b[24m 0.718\n",
      "\u001b[38;5;250m3\u001b[39m y                    75         0.906  0.597  0.491  0     0      1      1    \n",
      "   p100 hist \n",
      "\u001b[38;5;250m1\u001b[39m  3.81 ▂▇▇▂▁\n",
      "\u001b[38;5;250m2\u001b[39m  3.18 ▁▃▇▅▁\n",
      "\u001b[38;5;250m3\u001b[39m  1    ▆▁▁▁▇\n"
     ]
    }
   ],
   "source": [
    "skimmed"
   ]
  },
  {
   "cell_type": "code",
   "execution_count": 64,
   "metadata": {},
   "outputs": [],
   "source": [
    "skimmed <- skim(D.V)"
   ]
  },
  {
   "cell_type": "code",
   "execution_count": 65,
   "metadata": {},
   "outputs": [
    {
     "name": "stdout",
     "output_type": "stream",
     "text": [
      "── Data Summary ────────────────────────\n",
      "                           Values\n",
      "Name                       D.V   \n",
      "Number of rows             200   \n",
      "Number of columns          3     \n",
      "_______________________          \n",
      "Column type frequency:           \n",
      "  numeric                  3     \n",
      "________________________         \n",
      "Group variables            None  \n",
      "\n",
      "── Variable type: numeric ──────────────────────────────────────────────────────\n",
      "  skim_variable n_missing complete_rate    mean    sd    p0    p25    p50   p75\n",
      "\u001b[38;5;250m1\u001b[39m x1                   22          0.89  0.124  0.959 -\u001b[31m2\u001b[39m\u001b[31m.\u001b[39m\u001b[31m81\u001b[39m -\u001b[31m0\u001b[39m\u001b[31m.\u001b[39m\u001b[31m438\u001b[39m 0.127  0.800\n",
      "\u001b[38;5;250m2\u001b[39m x2                   24          0.88 -\u001b[31m0\u001b[39m\u001b[31m.\u001b[39m\u001b[31m0\u001b[39m\u001b[31m32\u001b[4m2\u001b[24m\u001b[39m 1.05  -\u001b[31m3\u001b[39m\u001b[31m.\u001b[39m\u001b[31m0\u001b[39m\u001b[31m6\u001b[39m -\u001b[31m0\u001b[39m\u001b[31m.\u001b[39m\u001b[31m720\u001b[39m 0.039\u001b[4m5\u001b[24m 0.661\n",
      "\u001b[38;5;250m3\u001b[39m y                    18          0.91  0.615  0.488  0     0     1      1    \n",
      "   p100 hist \n",
      "\u001b[38;5;250m1\u001b[39m  2.61 ▁▃▇▆▁\n",
      "\u001b[38;5;250m2\u001b[39m  3.15 ▁▃▇▃▁\n",
      "\u001b[38;5;250m3\u001b[39m  1    ▅▁▁▁▇\n"
     ]
    }
   ],
   "source": [
    "skimmed"
   ]
  },
  {
   "cell_type": "code",
   "execution_count": 66,
   "metadata": {},
   "outputs": [
    {
     "data": {
      "image/png": "[encoded data removed]",
      "text/plain": [
       "plot without title"
      ]
     },
     "metadata": {},
     "output_type": "display_data"
    }
   ],
   "source": [
    "suppressMessages({\n",
    "    library('mice')\n",
    "})\n",
    "\n",
    "options(repr.plot.width=5, repr.plot.height=5)\n",
    "\n",
    "p <- md.pattern(D.M)"
   ]
  },
  {
   "cell_type": "code",
   "execution_count": 67,
   "metadata": {},
   "outputs": [
    {
     "data": {
      "image/png": "[encoded data removed]",
      "text/plain": [
       "plot without title"
      ]
     },
     "metadata": {},
     "output_type": "display_data"
    }
   ],
   "source": [
    "p <- md.pattern(D.T)"
   ]
  },
  {
   "cell_type": "code",
   "execution_count": 68,
   "metadata": {},
   "outputs": [
    {
     "data": {
      "image/png": "[encoded data removed]",
      "text/plain": [
       "plot without title"
      ]
     },
     "metadata": {},
     "output_type": "display_data"
    }
   ],
   "source": [
    "p <- md.pattern(D.V)"
   ]
  },
  {
   "cell_type": "code",
   "execution_count": 69,
   "metadata": {},
   "outputs": [],
   "source": [
    "ppmdT <- preProcess(D.T, method='knnImpute')"
   ]
  },
  {
   "cell_type": "code",
   "execution_count": 71,
   "metadata": {},
   "outputs": [
    {
     "data": {
      "text/plain": [
       "Created from 590 samples and 3 variables\n",
       "\n",
       "Pre-processing:\n",
       "  - centered (3)\n",
       "  - ignored (0)\n",
       "  - 5 nearest neighbor imputation (3)\n",
       "  - scaled (3)\n"
      ]
     },
     "metadata": {},
     "output_type": "display_data"
    }
   ],
   "source": [
    "ppmdT"
   ]
  },
  {
   "cell_type": "code",
   "execution_count": 73,
   "metadata": {},
   "outputs": [
    {
     "ename": "ERROR",
     "evalue": "Error in FUN(newX[, i], ...): cannot impute when all predictors are missing in the new data point\n",
     "output_type": "error",
     "traceback": [
      "Error in FUN(newX[, i], ...): cannot impute when all predictors are missing in the new data point\nTraceback:\n",
      "1. predict(ppmdT, newdata = D.T)",
      "2. predict.preProcess(ppmdT, newdata = D.T)",
      "3. apply(hasMiss, 1, nnimp, old = object$data[, object$method$knnImpute, \n .     drop = FALSE], k = object$k, foo = object$knnSummary)",
      "4. FUN(newX[, i], ...)",
      "5. stop(\"cannot impute when all predictors are missing in the new data point\")"
     ]
    }
   ],
   "source": [
    "library('RANN')\n",
    "\n",
    "T.D <- predict(ppmdT, newdata=D.T)\n",
    "\n",
    "anyNA(T.D)"
   ]
  },
  {
   "cell_type": "code",
   "execution_count": null,
   "metadata": {},
   "outputs": [],
   "source": []
  }
 ],
 "metadata": {
  "kernelspec": {
   "display_name": "R 3.6",
   "language": "R",
   "name": "ir36"
  },
  "language_info": {
   "codemirror_mode": "r",
   "file_extension": ".r",
   "mimetype": "text/x-r-source",
   "name": "R",
   "pygments_lexer": "r",
   "version": "3.6.1"
  }
 },
 "nbformat": 4,
 "nbformat_minor": 4
}
