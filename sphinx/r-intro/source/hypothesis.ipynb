{
 "cells": [
  {
   "cell_type": "markdown",
   "metadata": {},
   "source": [
    "# Hypothesis Testing"
   ]
  },
  {
   "cell_type": "code",
   "execution_count": 1,
   "metadata": {},
   "outputs": [],
   "source": [
    "set.seed(37)"
   ]
  },
  {
   "cell_type": "markdown",
   "metadata": {},
   "source": [
    "## Student's t-test\n",
    "\n",
    "The `Student's t-test` compares the means of two samples to see if they are different. Here is a `two-sided` Student's t-test."
   ]
  },
  {
   "cell_type": "code",
   "execution_count": 2,
   "metadata": {},
   "outputs": [
    {
     "name": "stdout",
     "output_type": "stream",
     "text": [
      "\n",
      "\tWelch Two Sample t-test\n",
      "\n",
      "data:  x and y\n",
      "t = -23.159, df = 1998, p-value < 2.2e-16\n",
      "alternative hypothesis: true difference in means is not equal to 0\n",
      "95 percent confidence interval:\n",
      " -1.1425178 -0.9641235\n",
      "sample estimates:\n",
      "  mean of x   mean of y \n",
      "-0.01839959  1.03492108 \n",
      "\n"
     ]
    }
   ],
   "source": [
    "x <- rnorm(1000, mean=0, sd=1)\n",
    "y <- rnorm(1000, mean=1, sd=1)\n",
    "\n",
    "r <- t.test(x, y, alternative='two.sided')\n",
    "print(r)"
   ]
  },
  {
   "cell_type": "markdown",
   "metadata": {},
   "source": [
    "Here is a directional Student's t-test to see if the mean of `x` is greater than the mean of `y`."
   ]
  },
  {
   "cell_type": "code",
   "execution_count": 3,
   "metadata": {},
   "outputs": [
    {
     "name": "stdout",
     "output_type": "stream",
     "text": [
      "\n",
      "\tWelch Two Sample t-test\n",
      "\n",
      "data:  x and y\n",
      "t = -22.576, df = 1991.2, p-value = 1\n",
      "alternative hypothesis: true difference in means is greater than 0\n",
      "95 percent confidence interval:\n",
      " -1.118479       Inf\n",
      "sample estimates:\n",
      " mean of x  mean of y \n",
      "0.01325957 1.05574987 \n",
      "\n"
     ]
    }
   ],
   "source": [
    "x <- rnorm(1000, mean=0, sd=1)\n",
    "y <- rnorm(1000, mean=1, sd=1)\n",
    "\n",
    "r <- t.test(x, y, alternative='greater')\n",
    "print(r)"
   ]
  },
  {
   "cell_type": "markdown",
   "metadata": {},
   "source": [
    "Here is a directional Student's t-test to see if the mean of `x` is less than the mean of `y`."
   ]
  },
  {
   "cell_type": "code",
   "execution_count": 4,
   "metadata": {},
   "outputs": [
    {
     "name": "stdout",
     "output_type": "stream",
     "text": [
      "\n",
      "\tWelch Two Sample t-test\n",
      "\n",
      "data:  x and y\n",
      "t = -22.097, df = 1996.7, p-value < 2.2e-16\n",
      "alternative hypothesis: true difference in means is less than 0\n",
      "95 percent confidence interval:\n",
      "       -Inf -0.9224035\n",
      "sample estimates:\n",
      " mean of x  mean of y \n",
      "0.01069279 1.00731729 \n",
      "\n"
     ]
    }
   ],
   "source": [
    "x <- rnorm(1000, mean=0, sd=1)\n",
    "y <- rnorm(1000, mean=1, sd=1)\n",
    "\n",
    "r <- t.test(x, y, alternative='less')\n",
    "print(r)"
   ]
  },
  {
   "cell_type": "markdown",
   "metadata": {},
   "source": [
    "We may also perform a `one-sample` Student's t-test."
   ]
  },
  {
   "cell_type": "code",
   "execution_count": 5,
   "metadata": {},
   "outputs": [
    {
     "name": "stdout",
     "output_type": "stream",
     "text": [
      "\n",
      "\tOne Sample t-test\n",
      "\n",
      "data:  x\n",
      "t = -159.87, df = 999, p-value < 2.2e-16\n",
      "alternative hypothesis: true mean is not equal to 5\n",
      "95 percent confidence interval:\n",
      " -0.13452024 -0.01000024\n",
      "sample estimates:\n",
      "  mean of x \n",
      "-0.07226024 \n",
      "\n"
     ]
    }
   ],
   "source": [
    "x <- rnorm(1000, mean=0, sd=1)\n",
    "\n",
    "r <- t.test(x, mu=5)\n",
    "print(r)"
   ]
  },
  {
   "cell_type": "markdown",
   "metadata": {},
   "source": [
    "If your data is in long format, you may use a formula to perform a Student's t-test."
   ]
  },
  {
   "cell_type": "code",
   "execution_count": 6,
   "metadata": {},
   "outputs": [
    {
     "name": "stdout",
     "output_type": "stream",
     "text": [
      "\n",
      "\tWelch Two Sample t-test\n",
      "\n",
      "data:  score by gender\n",
      "t = -2.6069, df = 6.0971, p-value = 0.0397\n",
      "alternative hypothesis: true difference in means is not equal to 0\n",
      "95 percent confidence interval:\n",
      " -31.15404  -1.04596\n",
      "sample estimates:\n",
      " mean in group boy mean in group girl \n",
      "              73.5               89.6 \n",
      "\n"
     ]
    }
   ],
   "source": [
    "data <- data.frame(\n",
    "    score = c(90, 89, 70, 99, 100, 77, 80, 67, 70),\n",
    "    gender = c(rep('girl', 5), rep('boy', 4))\n",
    ")\n",
    "\n",
    "r <- t.test(score ~ gender, data=data)\n",
    "print(r)"
   ]
  },
  {
   "cell_type": "markdown",
   "metadata": {},
   "source": [
    "## Wilcoxon U-Test\n",
    "\n",
    "The `Wilcoxon U-Test` is non-parametric test used to compare two samples. The function `wilcox.text` behaves the same way as the `t.test` function."
   ]
  },
  {
   "cell_type": "code",
   "execution_count": 7,
   "metadata": {},
   "outputs": [
    {
     "name": "stdout",
     "output_type": "stream",
     "text": [
      "\n",
      "\tWilcoxon rank sum test with continuity correction\n",
      "\n",
      "data:  x and y\n",
      "W = 339274, p-value < 2.2e-16\n",
      "alternative hypothesis: true location shift is not equal to 0\n",
      "\n"
     ]
    }
   ],
   "source": [
    "x <- rnorm(1000, mean=0, sd=1)\n",
    "y <- rnorm(1000, mean=0.5, sd=1)\n",
    "\n",
    "r <- wilcox.test(x, y)\n",
    "print(r)"
   ]
  },
  {
   "cell_type": "markdown",
   "metadata": {},
   "source": [
    "## Correlation\n",
    "\n",
    "May also compute correlation and test the it as well."
   ]
  },
  {
   "cell_type": "code",
   "execution_count": 8,
   "metadata": {},
   "outputs": [
    {
     "name": "stdout",
     "output_type": "stream",
     "text": [
      "[1] 0.9999633\n"
     ]
    }
   ],
   "source": [
    "x <- seq(1, 1000)\n",
    "y <- x * 2 + rnorm(1000, mean=5, sd=5)\n",
    "\n",
    "c <- cor(x, y)\n",
    "print(c)"
   ]
  },
  {
   "cell_type": "markdown",
   "metadata": {},
   "source": [
    "We compute the covariance with the `cov` function.`"
   ]
  },
  {
   "cell_type": "code",
   "execution_count": 9,
   "metadata": {},
   "outputs": [
    {
     "name": "stdout",
     "output_type": "stream",
     "text": [
      "[1] 166818.4\n"
     ]
    }
   ],
   "source": [
    "x <- seq(1, 1000)\n",
    "y <- x * 2 + rnorm(1000, mean=5, sd=5)\n",
    "\n",
    "c <- cov(x, y)\n",
    "print(c)"
   ]
  },
  {
   "cell_type": "markdown",
   "metadata": {},
   "source": [
    "We compute the significance with `cor.test`."
   ]
  },
  {
   "cell_type": "code",
   "execution_count": 10,
   "metadata": {},
   "outputs": [
    {
     "name": "stdout",
     "output_type": "stream",
     "text": [
      "\n",
      "\tPearson's product-moment correlation\n",
      "\n",
      "data:  x and y\n",
      "t = 3806.6, df = 998, p-value < 2.2e-16\n",
      "alternative hypothesis: true correlation is not equal to 0\n",
      "95 percent confidence interval:\n",
      " 0.9999610 0.9999696\n",
      "sample estimates:\n",
      "      cor \n",
      "0.9999656 \n",
      "\n"
     ]
    }
   ],
   "source": [
    "x <- seq(1, 1000)\n",
    "y <- x * 2 + rnorm(1000, mean=5, sd=5)\n",
    "\n",
    "r <- cor.test(x, y)\n",
    "print(r)"
   ]
  },
  {
   "cell_type": "markdown",
   "metadata": {},
   "source": [
    "## Chi-squared test\n",
    "\n",
    "A `Chi-squared` test is used to test for association with contigency tables."
   ]
  },
  {
   "cell_type": "code",
   "execution_count": 11,
   "metadata": {},
   "outputs": [
    {
     "name": "stdout",
     "output_type": "stream",
     "text": [
      "\n",
      "\tPearson's Chi-squared test\n",
      "\n",
      "data:  df\n",
      "X-squared = 0.0090902, df = 2, p-value = 0.9955\n",
      "\n"
     ]
    }
   ],
   "source": [
    "df <- data.frame(\n",
    "    rural = c(10, 15, 12),\n",
    "    urban = c(20, 30, 25),\n",
    "    row.names=c('DC', 'MD', 'VA')\n",
    ")\n",
    "\n",
    "r <- chisq.test(df)\n",
    "print(r)"
   ]
  },
  {
   "cell_type": "markdown",
   "metadata": {},
   "source": [
    "A `goodness of fit` test using the `Chi-squared test` is performed as follows."
   ]
  },
  {
   "cell_type": "code",
   "execution_count": 12,
   "metadata": {},
   "outputs": [
    {
     "name": "stdout",
     "output_type": "stream",
     "text": [
      "\n",
      "\tChi-squared test for given probabilities\n",
      "\n",
      "data:  df$rural\n",
      "X-squared = 0.013514, df = 2, p-value = 0.9933\n",
      "\n"
     ]
    }
   ],
   "source": [
    "df <- data.frame(\n",
    "    rural = c(10, 15, 12),\n",
    "    urban = c(20, 30, 25),\n",
    "    row.names=c('DC', 'MD', 'VA')\n",
    ")\n",
    "\n",
    "r <- chisq.test(df$rural, p=df$urban, rescale.p=TRUE)\n",
    "print(r)"
   ]
  },
  {
   "cell_type": "markdown",
   "metadata": {},
   "source": [
    "## Analysis of variance\n",
    "\n",
    "### One-way analysis of variance\n",
    "A one-way `analysis of variance` (`AOV`) may be conducted as follows."
   ]
  },
  {
   "cell_type": "code",
   "execution_count": 13,
   "metadata": {},
   "outputs": [
    {
     "name": "stdout",
     "output_type": "stream",
     "text": [
      "Call:\n",
      "   aov(formula = expense ~ location, data = df)\n",
      "\n",
      "Terms:\n",
      "                location Residuals\n",
      "Sum of Squares  250.5333   49.2000\n",
      "Deg. of Freedom        2        12\n",
      "\n",
      "Residual standard error: 2.024846\n",
      "Estimated effects may be unbalanced\n",
      "[1] \"-- summary below --\"\n",
      "            Df Sum Sq Mean Sq F value   Pr(>F)    \n",
      "location     2  250.5   125.3   30.55 1.96e-05 ***\n",
      "Residuals   12   49.2     4.1                     \n",
      "---\n",
      "Signif. codes:  0 ‘***’ 0.001 ‘**’ 0.01 ‘*’ 0.05 ‘.’ 0.1 ‘ ’ 1\n"
     ]
    }
   ],
   "source": [
    "library(tidyr)\n",
    "\n",
    "df <- data.frame(\n",
    "    city = c('A', 'B', 'C', 'D', 'E'),\n",
    "    urban = c(20, 25, 22, 24, 21),\n",
    "    rural = c(10, 15, 12, 14, 11),\n",
    "    suburb = c(15, 18, 19, 20, 17)\n",
    ")\n",
    "\n",
    "df <- df %>% pivot_longer(-city, names_to='location', values_to='expense')\n",
    "r <- aov(expense ~ location, data=df)\n",
    "print(r)\n",
    "print('-- summary below --')\n",
    "print(summary(r))"
   ]
  },
  {
   "cell_type": "markdown",
   "metadata": {},
   "source": [
    "#### Post-hoc test\n",
    "\n",
    "We apply `Tukey's Honestly Significant Difference` (`HSD`) test to see which pairs differ."
   ]
  },
  {
   "cell_type": "code",
   "execution_count": 14,
   "metadata": {},
   "outputs": [
    {
     "name": "stdout",
     "output_type": "stream",
     "text": [
      "  Tukey multiple comparisons of means\n",
      "    95% family-wise confidence level\n",
      "\n",
      "Fit: aov(formula = expense ~ location, data = df)\n",
      "\n",
      "$location\n",
      "             diff      lwr       upr     p adj\n",
      "suburb-rural  5.4 1.983468  8.816532 0.0031673\n",
      "urban-rural  10.0 6.583468 13.416532 0.0000133\n",
      "urban-suburb  4.6 1.183468  8.016532 0.0095794\n",
      "\n"
     ]
    }
   ],
   "source": [
    "t <- TukeyHSD(r)\n",
    "print(t)"
   ]
  },
  {
   "cell_type": "markdown",
   "metadata": {},
   "source": [
    "#### Obtaining the effects"
   ]
  },
  {
   "cell_type": "code",
   "execution_count": 15,
   "metadata": {},
   "outputs": [
    {
     "name": "stdout",
     "output_type": "stream",
     "text": [
      "Tables of effects\n",
      "\n",
      " location \n",
      "location\n",
      " rural suburb  urban \n",
      "-5.133  0.267  4.867 \n"
     ]
    }
   ],
   "source": [
    "e <- model.tables(r, type='effects')\n",
    "print(e)"
   ]
  },
  {
   "cell_type": "markdown",
   "metadata": {},
   "source": [
    "#### Obtaining the means"
   ]
  },
  {
   "cell_type": "code",
   "execution_count": 16,
   "metadata": {},
   "outputs": [
    {
     "name": "stdout",
     "output_type": "stream",
     "text": [
      "Tables of means\n",
      "Grand mean\n",
      "         \n",
      "17.53333 \n",
      "\n",
      " location \n",
      "location\n",
      " rural suburb  urban \n",
      "  12.4   17.8   22.4 \n"
     ]
    }
   ],
   "source": [
    "m <- model.tables(r, type='means')\n",
    "print(m)"
   ]
  },
  {
   "cell_type": "markdown",
   "metadata": {},
   "source": [
    "#### Visualizing the means"
   ]
  },
  {
   "cell_type": "code",
   "execution_count": 17,
   "metadata": {},
   "outputs": [
    {
     "data": {
      "image/png": "[encoded data removed]",
      "text/plain": [
       "plot without title"
      ]
     },
     "metadata": {},
     "output_type": "display_data"
    }
   ],
   "source": [
    "options(repr.plot.width=4, repr.plot.height=4)\n",
    "\n",
    "boxplot(expense ~ location, data=df)"
   ]
  },
  {
   "cell_type": "markdown",
   "metadata": {},
   "source": [
    "#### Visualizing the differences"
   ]
  },
  {
   "cell_type": "code",
   "execution_count": 18,
   "metadata": {},
   "outputs": [
    {
     "data": {
      "image/png": "[encoded data removed]",
      "text/plain": [
       "Plot with title “95% family-wise confidence level\n",
       "”"
      ]
     },
     "metadata": {},
     "output_type": "display_data"
    }
   ],
   "source": [
    "options(repr.plot.width=5, repr.plot.height=3)\n",
    "\n",
    "op = par(mar = c(5, 8, 4, 2))\n",
    "plot(t, cex=0.2, las=1)\n",
    "par(op)"
   ]
  },
  {
   "cell_type": "markdown",
   "metadata": {},
   "source": [
    "### Two-way ANOVA"
   ]
  },
  {
   "cell_type": "code",
   "execution_count": 19,
   "metadata": {},
   "outputs": [],
   "source": [
    "suppressMessages({\n",
    "    library('dplyr')\n",
    "})\n",
    "\n",
    "N = 5\n",
    "a <- 5 + 20 * rnorm(N, mean=20, sd=1) + 4 * rnorm(N, mean=4, sd=1) # urban-high\n",
    "b <- 5 + 18 * rnorm(N, mean=18, sd=1) + 2 * rnorm(N, mean=2, sd=1) # urban-low\n",
    "c <- 5 + 10 * rnorm(N, mean=10, sd=1) + 4 * rnorm(N, mean=4, sd=1) # suburban-high\n",
    "d <- 5 + 8 * rnorm(N, mean=8, sd=1) + 2 * rnorm(N, mean=2, sd=1) # suburban-low\n",
    "e <- 5 + 5 * rnorm(N, mean=5, sd=1) + 4 * rnorm(N, mean=4, sd=1) # rural-high\n",
    "f <- 5 + 3 * rnorm(N, mean=3, sd=1) + 2 * rnorm(N, mean=2, sd=1) # rural-low\n",
    "\n",
    "df <- data.frame(\n",
    "    expense=c(a, b, c, d, e, f), \n",
    "    location=c(rep('urban', 2*N), rep('suburban', 2*N), rep('rural', 2*N)), \n",
    "    income=c(rep('high', N), rep('low', N), rep('high', N), rep('low', N), rep('high', N), rep('low', N)),\n",
    "    stringsAsFactors=TRUE\n",
    ")"
   ]
  },
  {
   "cell_type": "code",
   "execution_count": 20,
   "metadata": {},
   "outputs": [
    {
     "name": "stdout",
     "output_type": "stream",
     "text": [
      "Call:\n",
      "   aov(formula = expense ~ location * income, data = df)\n",
      "\n",
      "Terms:\n",
      "                location   income location:income Residuals\n",
      "Sum of Squares  687822.6  24346.4          4833.1    7098.1\n",
      "Deg. of Freedom        2        1               2        24\n",
      "\n",
      "Residual standard error: 17.19753\n",
      "Estimated effects may be unbalanced\n",
      "[1] \"-- summary below --\"\n",
      "                Df Sum Sq Mean Sq  F value   Pr(>F)    \n",
      "location         2 687823  343911 1162.825  < 2e-16 ***\n",
      "income           1  24346   24346   82.319 3.17e-09 ***\n",
      "location:income  2   4833    2417    8.171  0.00197 ** \n",
      "Residuals       24   7098     296                      \n",
      "---\n",
      "Signif. codes:  0 ‘***’ 0.001 ‘**’ 0.01 ‘*’ 0.05 ‘.’ 0.1 ‘ ’ 1\n"
     ]
    }
   ],
   "source": [
    "r <- aov(expense ~ location * income, data=df)\n",
    "\n",
    "print(r)\n",
    "print('-- summary below --')\n",
    "print(summary(r))"
   ]
  },
  {
   "cell_type": "markdown",
   "metadata": {},
   "source": [
    "#### Two-Way ANOVA post-hoc"
   ]
  },
  {
   "cell_type": "code",
   "execution_count": 21,
   "metadata": {},
   "outputs": [
    {
     "name": "stdout",
     "output_type": "stream",
     "text": [
      "  Tukey multiple comparisons of means\n",
      "    95% family-wise confidence level\n",
      "\n",
      "Fit: aov(formula = expense ~ location * income, data = df)\n",
      "\n",
      "$location\n",
      "                    diff       lwr       upr p adj\n",
      "suburban-rural  60.83863  41.63207  80.04519 1e-07\n",
      "urban-rural    347.27478 328.06822 366.48134 0e+00\n",
      "urban-suburban 286.43615 267.22959 305.64271 0e+00\n",
      "\n",
      "$income\n",
      "              diff       lwr       upr p adj\n",
      "low-high -56.97529 -69.93585 -44.01473     0\n",
      "\n",
      "$`location:income`\n",
      "                                 diff        lwr         upr     p adj\n",
      "suburban:high-rural:high     69.64827   36.01835  103.278196 0.0000173\n",
      "urban:high-rural:high       377.50133  343.87140  411.131254 0.0000000\n",
      "rural:low-rural:high        -30.95116  -64.58109    2.678762 0.0837968\n",
      "suburban:low-rural:high      21.07783  -12.55210   54.707751 0.4049037\n",
      "urban:low-rural:high        286.09707  252.46714  319.726994 0.0000000\n",
      "urban:high-suburban:high    307.85306  274.22313  341.482983 0.0000000\n",
      "rural:low-suburban:high    -100.59943 -134.22936  -66.969509 0.0000000\n",
      "suburban:low-suburban:high  -48.57045  -82.20037  -14.940521 0.0019940\n",
      "urban:low-suburban:high     216.44880  182.81887  250.078723 0.0000000\n",
      "rural:low-urban:high       -408.45249 -442.08242 -374.822567 0.0000000\n",
      "suburban:low-urban:high    -356.42350 -390.05343 -322.793579 0.0000000\n",
      "urban:low-urban:high        -91.40426 -125.03418  -57.774335 0.0000002\n",
      "suburban:low-rural:low       52.02899   18.39906   85.658913 0.0009103\n",
      "urban:low-rural:low         317.04823  283.41831  350.678157 0.0000000\n",
      "urban:low-suburban:low      265.01924  231.38932  298.649168 0.0000000\n",
      "\n"
     ]
    }
   ],
   "source": [
    "t <- TukeyHSD(r)\n",
    "print(t)"
   ]
  },
  {
   "cell_type": "markdown",
   "metadata": {},
   "source": [
    "#### Two-Way ANOVA effects"
   ]
  },
  {
   "cell_type": "code",
   "execution_count": 22,
   "metadata": {},
   "outputs": [
    {
     "name": "stdout",
     "output_type": "stream",
     "text": [
      "Tables of effects\n",
      "\n",
      " location \n",
      "location\n",
      "   rural suburban    urban \n",
      " -136.04   -75.20   211.24 \n",
      "\n",
      " income \n",
      "income\n",
      "   high     low \n",
      " 28.488 -28.488 \n",
      "\n",
      " location:income \n",
      "          income\n",
      "location   high    low    \n",
      "  rural    -13.012  13.012\n",
      "  suburban  -4.202   4.202\n",
      "  urban     17.214 -17.214\n"
     ]
    }
   ],
   "source": [
    "e <- model.tables(r, type='effects')\n",
    "print(e)"
   ]
  },
  {
   "cell_type": "markdown",
   "metadata": {},
   "source": [
    "#### Two-Way ANOVA means"
   ]
  },
  {
   "cell_type": "code",
   "execution_count": 23,
   "metadata": {},
   "outputs": [
    {
     "name": "stdout",
     "output_type": "stream",
     "text": [
      "Tables of means\n",
      "Grand mean\n",
      "         \n",
      "168.0042 \n",
      "\n",
      " location \n",
      "location\n",
      "   rural suburban    urban \n",
      "    32.0     92.8    379.2 \n",
      "\n",
      " income \n",
      "income\n",
      "  high    low \n",
      "196.49 139.52 \n",
      "\n",
      " location:income \n",
      "          income\n",
      "location   high  low  \n",
      "  rural     47.4  16.5\n",
      "  suburban 117.1  68.5\n",
      "  urban    424.9 333.5\n"
     ]
    }
   ],
   "source": [
    "m <- model.tables(r, type='means')\n",
    "print(m)"
   ]
  },
  {
   "cell_type": "markdown",
   "metadata": {},
   "source": [
    "#### Two-Way ANOVA means visualization"
   ]
  },
  {
   "cell_type": "code",
   "execution_count": 24,
   "metadata": {},
   "outputs": [
    {
     "data": {
      "image/png": "[encoded data removed]",
      "text/plain": [
       "plot without title"
      ]
     },
     "metadata": {},
     "output_type": "display_data"
    }
   ],
   "source": [
    "options(repr.plot.width=5, repr.plot.height=5)\n",
    "\n",
    "op = par(mar = c(8, 4, 4, 2))\n",
    "boxplot(expense ~ location * income, data = df, cex.axis = 0.9, las=2, xlab='')\n",
    "par(op)"
   ]
  },
  {
   "cell_type": "markdown",
   "metadata": {},
   "source": [
    "#### Two-Way ANOVA differences visualization"
   ]
  },
  {
   "cell_type": "code",
   "execution_count": 25,
   "metadata": {},
   "outputs": [
    {
     "data": {
      "image/png": "[encoded data removed]",
      "text/plain": [
       "Plot with title “95% family-wise confidence level\n",
       "”"
      ]
     },
     "metadata": {},
     "output_type": "display_data"
    },
    {
     "data": {
      "image/png": "[encoded data removed]",
      "text/plain": [
       "Plot with title “95% family-wise confidence level\n",
       "”"
      ]
     },
     "metadata": {},
     "output_type": "display_data"
    },
    {
     "data": {
      "image/png": "[encoded data removed]",
      "text/plain": [
       "Plot with title “95% family-wise confidence level\n",
       "”"
      ]
     },
     "metadata": {},
     "output_type": "display_data"
    }
   ],
   "source": [
    "options(repr.plot.width=5, repr.plot.height=3)\n",
    "\n",
    "op = par(mar = c(5, 14, 4, 2))\n",
    "plot(t, cex=0.2, las=1)\n",
    "par(op)"
   ]
  },
  {
   "cell_type": "markdown",
   "metadata": {},
   "source": [
    "#### Two-Way ANOVA interaction plot"
   ]
  },
  {
   "cell_type": "code",
   "execution_count": 26,
   "metadata": {},
   "outputs": [
    {
     "data": {
      "image/png": "[encoded data removed]",
      "text/plain": [
       "plot without title"
      ]
     },
     "metadata": {},
     "output_type": "display_data"
    }
   ],
   "source": [
    "options(repr.plot.width=5, repr.plot.height=5)\n",
    "\n",
    "attach(df)\n",
    "interaction.plot(location, income, expense)\n",
    "detach(df)"
   ]
  }
 ],
 "metadata": {
  "kernelspec": {
   "display_name": "R 3.6",
   "language": "R",
   "name": "ir36"
  },
  "language_info": {
   "codemirror_mode": "r",
   "file_extension": ".r",
   "mimetype": "text/x-r-source",
   "name": "R",
   "pygments_lexer": "r",
   "version": "3.6.1"
  }
 },
 "nbformat": 4,
 "nbformat_minor": 4
}
