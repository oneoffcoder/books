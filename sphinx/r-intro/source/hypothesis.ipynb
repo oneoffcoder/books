{
 "cells": [
  {
   "cell_type": "markdown",
   "metadata": {},
   "source": [
    "# Hypothesis Testing"
   ]
  },
  {
   "cell_type": "code",
   "execution_count": 1,
   "metadata": {},
   "outputs": [],
   "source": [
    "set.seed(37)"
   ]
  },
  {
   "cell_type": "markdown",
   "metadata": {},
   "source": [
    "## Student's t-test\n",
    "\n",
    "The `Student's t-test` compares the means of two samples to see if they are different. Here is a `two-sided` Student's t-test."
   ]
  },
  {
   "cell_type": "code",
   "execution_count": 2,
   "metadata": {},
   "outputs": [
    {
     "name": "stdout",
     "output_type": "stream",
     "text": [
      "\n",
      "\tWelch Two Sample t-test\n",
      "\n",
      "data:  x and y\n",
      "t = -23.159, df = 1998, p-value < 2.2e-16\n",
      "alternative hypothesis: true difference in means is not equal to 0\n",
      "95 percent confidence interval:\n",
      " -1.1425178 -0.9641235\n",
      "sample estimates:\n",
      "  mean of x   mean of y \n",
      "-0.01839959  1.03492108 \n",
      "\n"
     ]
    }
   ],
   "source": [
    "x <- rnorm(1000, mean=0, sd=1)\n",
    "y <- rnorm(1000, mean=1, sd=1)\n",
    "\n",
    "r <- t.test(x, y, alternative='two.sided')\n",
    "print(r)"
   ]
  },
  {
   "cell_type": "markdown",
   "metadata": {},
   "source": [
    "Here is a directional Student's t-test to see if the mean of `x` is greater than the mean of `y`."
   ]
  },
  {
   "cell_type": "code",
   "execution_count": 3,
   "metadata": {},
   "outputs": [
    {
     "name": "stdout",
     "output_type": "stream",
     "text": [
      "\n",
      "\tWelch Two Sample t-test\n",
      "\n",
      "data:  x and y\n",
      "t = -22.576, df = 1991.2, p-value = 1\n",
      "alternative hypothesis: true difference in means is greater than 0\n",
      "95 percent confidence interval:\n",
      " -1.118479       Inf\n",
      "sample estimates:\n",
      " mean of x  mean of y \n",
      "0.01325957 1.05574987 \n",
      "\n"
     ]
    }
   ],
   "source": [
    "x <- rnorm(1000, mean=0, sd=1)\n",
    "y <- rnorm(1000, mean=1, sd=1)\n",
    "\n",
    "r <- t.test(x, y, alternative='greater')\n",
    "print(r)"
   ]
  },
  {
   "cell_type": "markdown",
   "metadata": {},
   "source": [
    "Here is a directional Student's t-test to see if the mean of `x` is less than the mean of `y`."
   ]
  },
  {
   "cell_type": "code",
   "execution_count": 4,
   "metadata": {},
   "outputs": [
    {
     "name": "stdout",
     "output_type": "stream",
     "text": [
      "\n",
      "\tWelch Two Sample t-test\n",
      "\n",
      "data:  x and y\n",
      "t = -22.097, df = 1996.7, p-value < 2.2e-16\n",
      "alternative hypothesis: true difference in means is less than 0\n",
      "95 percent confidence interval:\n",
      "       -Inf -0.9224035\n",
      "sample estimates:\n",
      " mean of x  mean of y \n",
      "0.01069279 1.00731729 \n",
      "\n"
     ]
    }
   ],
   "source": [
    "x <- rnorm(1000, mean=0, sd=1)\n",
    "y <- rnorm(1000, mean=1, sd=1)\n",
    "\n",
    "r <- t.test(x, y, alternative='less')\n",
    "print(r)"
   ]
  },
  {
   "cell_type": "markdown",
   "metadata": {},
   "source": [
    "We may also perform a `one-sample` Student's t-test."
   ]
  },
  {
   "cell_type": "code",
   "execution_count": 5,
   "metadata": {},
   "outputs": [
    {
     "name": "stdout",
     "output_type": "stream",
     "text": [
      "\n",
      "\tOne Sample t-test\n",
      "\n",
      "data:  x\n",
      "t = -159.87, df = 999, p-value < 2.2e-16\n",
      "alternative hypothesis: true mean is not equal to 5\n",
      "95 percent confidence interval:\n",
      " -0.13452024 -0.01000024\n",
      "sample estimates:\n",
      "  mean of x \n",
      "-0.07226024 \n",
      "\n"
     ]
    }
   ],
   "source": [
    "x <- rnorm(1000, mean=0, sd=1)\n",
    "\n",
    "r <- t.test(x, mu=5)\n",
    "print(r)"
   ]
  },
  {
   "cell_type": "markdown",
   "metadata": {},
   "source": [
    "If your data is in long format, you may use a formula to perform a Student's t-test."
   ]
  },
  {
   "cell_type": "code",
   "execution_count": 6,
   "metadata": {},
   "outputs": [
    {
     "name": "stdout",
     "output_type": "stream",
     "text": [
      "\n",
      "\tWelch Two Sample t-test\n",
      "\n",
      "data:  score by gender\n",
      "t = -2.6069, df = 6.0971, p-value = 0.0397\n",
      "alternative hypothesis: true difference in means is not equal to 0\n",
      "95 percent confidence interval:\n",
      " -31.15404  -1.04596\n",
      "sample estimates:\n",
      " mean in group boy mean in group girl \n",
      "              73.5               89.6 \n",
      "\n"
     ]
    }
   ],
   "source": [
    "data <- data.frame(\n",
    "    score = c(90, 89, 70, 99, 100, 77, 80, 67, 70),\n",
    "    gender = c(rep('girl', 5), rep('boy', 4))\n",
    ")\n",
    "\n",
    "r <- t.test(score ~ gender, data=data)\n",
    "print(r)"
   ]
  },
  {
   "cell_type": "markdown",
   "metadata": {},
   "source": [
    "## Wilcoxon U-Test\n",
    "\n",
    "The `Wilcoxon U-Test` is non-parametric test used to compare two samples. The function `wilcox.text` behaves the same way as the `t.test` function."
   ]
  },
  {
   "cell_type": "code",
   "execution_count": 7,
   "metadata": {},
   "outputs": [
    {
     "name": "stdout",
     "output_type": "stream",
     "text": [
      "\n",
      "\tWilcoxon rank sum test with continuity correction\n",
      "\n",
      "data:  x and y\n",
      "W = 339274, p-value < 2.2e-16\n",
      "alternative hypothesis: true location shift is not equal to 0\n",
      "\n"
     ]
    }
   ],
   "source": [
    "x <- rnorm(1000, mean=0, sd=1)\n",
    "y <- rnorm(1000, mean=0.5, sd=1)\n",
    "\n",
    "r <- wilcox.test(x, y)\n",
    "print(r)"
   ]
  },
  {
   "cell_type": "markdown",
   "metadata": {},
   "source": [
    "## Correlation\n",
    "\n",
    "May also compute correlation and test the it as well."
   ]
  },
  {
   "cell_type": "code",
   "execution_count": 8,
   "metadata": {},
   "outputs": [
    {
     "name": "stdout",
     "output_type": "stream",
     "text": [
      "[1] 0.9999633\n"
     ]
    }
   ],
   "source": [
    "x <- seq(1, 1000)\n",
    "y <- x * 2 + rnorm(1000, mean=5, sd=5)\n",
    "\n",
    "c <- cor(x, y)\n",
    "print(c)"
   ]
  },
  {
   "cell_type": "markdown",
   "metadata": {},
   "source": [
    "We compute the covariance with the `cov` function.`"
   ]
  },
  {
   "cell_type": "code",
   "execution_count": 9,
   "metadata": {},
   "outputs": [
    {
     "name": "stdout",
     "output_type": "stream",
     "text": [
      "[1] 166818.4\n"
     ]
    }
   ],
   "source": [
    "x <- seq(1, 1000)\n",
    "y <- x * 2 + rnorm(1000, mean=5, sd=5)\n",
    "\n",
    "c <- cov(x, y)\n",
    "print(c)"
   ]
  },
  {
   "cell_type": "markdown",
   "metadata": {},
   "source": [
    "We compute the significance with `cor.test`."
   ]
  },
  {
   "cell_type": "code",
   "execution_count": 10,
   "metadata": {},
   "outputs": [
    {
     "name": "stdout",
     "output_type": "stream",
     "text": [
      "\n",
      "\tPearson's product-moment correlation\n",
      "\n",
      "data:  x and y\n",
      "t = 3806.6, df = 998, p-value < 2.2e-16\n",
      "alternative hypothesis: true correlation is not equal to 0\n",
      "95 percent confidence interval:\n",
      " 0.9999610 0.9999696\n",
      "sample estimates:\n",
      "      cor \n",
      "0.9999656 \n",
      "\n"
     ]
    }
   ],
   "source": [
    "x <- seq(1, 1000)\n",
    "y <- x * 2 + rnorm(1000, mean=5, sd=5)\n",
    "\n",
    "r <- cor.test(x, y)\n",
    "print(r)"
   ]
  },
  {
   "cell_type": "markdown",
   "metadata": {},
   "source": [
    "## Chi-squared test\n",
    "\n",
    "A `Chi-squared` test is used to test for association with contigency tables."
   ]
  },
  {
   "cell_type": "code",
   "execution_count": 11,
   "metadata": {},
   "outputs": [
    {
     "name": "stdout",
     "output_type": "stream",
     "text": [
      "\n",
      "\tPearson's Chi-squared test\n",
      "\n",
      "data:  df\n",
      "X-squared = 0.0090902, df = 2, p-value = 0.9955\n",
      "\n"
     ]
    }
   ],
   "source": [
    "df <- data.frame(\n",
    "    rural = c(10, 15, 12),\n",
    "    urban = c(20, 30, 25),\n",
    "    row.names=c('DC', 'MD', 'VA')\n",
    ")\n",
    "\n",
    "r <- chisq.test(df)\n",
    "print(r)"
   ]
  },
  {
   "cell_type": "markdown",
   "metadata": {},
   "source": [
    "A `goodness of fit` test using the `Chi-squared test` is performed as follows."
   ]
  },
  {
   "cell_type": "code",
   "execution_count": 12,
   "metadata": {},
   "outputs": [
    {
     "name": "stdout",
     "output_type": "stream",
     "text": [
      "\n",
      "\tChi-squared test for given probabilities\n",
      "\n",
      "data:  df$rural\n",
      "X-squared = 0.013514, df = 2, p-value = 0.9933\n",
      "\n"
     ]
    }
   ],
   "source": [
    "df <- data.frame(\n",
    "    rural = c(10, 15, 12),\n",
    "    urban = c(20, 30, 25),\n",
    "    row.names=c('DC', 'MD', 'VA')\n",
    ")\n",
    "\n",
    "r <- chisq.test(df$rural, p=df$urban, rescale.p=TRUE)\n",
    "print(r)"
   ]
  }
 ],
 "metadata": {
  "kernelspec": {
   "display_name": "R 3.6",
   "language": "R",
   "name": "ir36"
  },
  "language_info": {
   "codemirror_mode": "r",
   "file_extension": ".r",
   "mimetype": "text/x-r-source",
   "name": "R",
   "pygments_lexer": "r",
   "version": "3.6.1"
  }
 },
 "nbformat": 4,
 "nbformat_minor": 4
}
