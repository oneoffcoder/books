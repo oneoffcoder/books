{
 "cells": [
  {
   "cell_type": "markdown",
   "metadata": {},
   "source": [
    "# Classification"
   ]
  },
  {
   "cell_type": "markdown",
   "metadata": {},
   "source": [
    "## Simulate data"
   ]
  },
  {
   "cell_type": "code",
   "execution_count": 1,
   "metadata": {},
   "outputs": [
    {
     "name": "stdout",
     "output_type": "stream",
     "text": [
      "       x1                x2             y      \n",
      " Min.   :-2.8613   Min.   :-3.28763   neg:394  \n",
      " 1st Qu.:-0.6961   1st Qu.:-0.59550   pos:606  \n",
      " Median :-0.0339   Median : 0.06348            \n",
      " Mean   :-0.0184   Mean   : 0.03492            \n",
      " 3rd Qu.: 0.6836   3rd Qu.: 0.69935            \n",
      " Max.   : 3.8147   Max.   : 3.17901            \n"
     ]
    }
   ],
   "source": [
    "suppressMessages({\n",
    "    library('dplyr')\n",
    "})\n",
    "\n",
    "set.seed(37)\n",
    "\n",
    "getData <- function(N=1000) {\n",
    "    x1 <- rnorm(N, mean=0, sd=1)\n",
    "    x2 <- rnorm(N, mean=0, sd=1)\n",
    "    y <- 1 + 2.0 * x1 + 3.0 * x2 + rnorm(N, mean=0, sd=1)\n",
    "    y <- 1.0 / (1.0 + exp(-y))\n",
    "    y <- rbinom(n=N, size=1, prob=y)\n",
    "    \n",
    "    df <- data.frame(x1=x1, x2=x2, y=y)\n",
    "    df <- df %>% \n",
    "            mutate(y=ifelse(y == 0, 'neg', 'pos')) %>%\n",
    "            mutate_if(is.character, as.factor)\n",
    "    return(df)\n",
    "}\n",
    "\n",
    "T <- getData()\n",
    "\n",
    "print(summary(T))"
   ]
  },
  {
   "cell_type": "markdown",
   "metadata": {},
   "source": [
    "## Classification methods\n",
    "\n",
    "There are many classifcation models available in `R`. Here, we use the `caret` package to apply some classification models. Other classification models are [listed](http://topepo.github.io/caret/train-models-by-tag.html) by tag."
   ]
  },
  {
   "cell_type": "markdown",
   "metadata": {},
   "source": [
    "### Random forest"
   ]
  },
  {
   "cell_type": "code",
   "execution_count": 2,
   "metadata": {},
   "outputs": [
    {
     "name": "stderr",
     "output_type": "stream",
     "text": [
      "Loading required package: lattice\n",
      "Loading required package: ggplot2\n"
     ]
    },
    {
     "name": "stdout",
     "output_type": "stream",
     "text": [
      "note: only 1 unique complexity parameters in default grid. Truncating the grid to 1 .\n",
      "\n"
     ]
    }
   ],
   "source": [
    "library('caret')\n",
    "\n",
    "ctrl <- trainControl(\n",
    "    method='LGOCV', \n",
    "    p=0.8,\n",
    "    classProbs=TRUE,\n",
    "    summaryFunction=twoClassSummary\n",
    ")\n",
    "m <- train(y ~ ., data=T, method='rf', metric='ROC', trControl=ctrl)"
   ]
  },
  {
   "cell_type": "code",
   "execution_count": 3,
   "metadata": {},
   "outputs": [
    {
     "name": "stdout",
     "output_type": "stream",
     "text": [
      "Random Forest \n",
      "\n",
      "1000 samples\n",
      "   2 predictor\n",
      "   2 classes: 'neg', 'pos' \n",
      "\n",
      "No pre-processing\n",
      "Resampling: Repeated Train/Test Splits Estimated (25 reps, 80%) \n",
      "Summary of sample sizes: 801, 801, 801, 801, 801, 801, ... \n",
      "Resampling results:\n",
      "\n",
      "  ROC        Sens       Spec     \n",
      "  0.8836576  0.7533333  0.8363636\n",
      "\n",
      "Tuning parameter 'mtry' was held constant at a value of 2\n"
     ]
    }
   ],
   "source": [
    "print(m)"
   ]
  },
  {
   "cell_type": "markdown",
   "metadata": {},
   "source": [
    "### Logistic regression"
   ]
  },
  {
   "cell_type": "code",
   "execution_count": 4,
   "metadata": {},
   "outputs": [],
   "source": [
    "ctrl <- trainControl(\n",
    "    method='LGOCV', \n",
    "    p=0.8,\n",
    "    classProbs=TRUE,\n",
    "    summaryFunction=twoClassSummary\n",
    ")\n",
    "\n",
    "m <- train(y ~ ., data=T, method='glm', family='binomial', metric='ROC', trControl=ctrl)"
   ]
  },
  {
   "cell_type": "code",
   "execution_count": 5,
   "metadata": {},
   "outputs": [
    {
     "name": "stdout",
     "output_type": "stream",
     "text": [
      "Generalized Linear Model \n",
      "\n",
      "1000 samples\n",
      "   2 predictor\n",
      "   2 classes: 'neg', 'pos' \n",
      "\n",
      "No pre-processing\n",
      "Resampling: Repeated Train/Test Splits Estimated (25 reps, 80%) \n",
      "Summary of sample sizes: 801, 801, 801, 801, 801, 801, ... \n",
      "Resampling results:\n",
      "\n",
      "  ROC        Sens  Spec\n",
      "  0.9101166  0.78  0.88\n",
      "\n"
     ]
    }
   ],
   "source": [
    "print(m)"
   ]
  },
  {
   "cell_type": "markdown",
   "metadata": {},
   "source": [
    "### AdaBoost"
   ]
  },
  {
   "cell_type": "code",
   "execution_count": 6,
   "metadata": {},
   "outputs": [],
   "source": [
    "ctrl <- trainControl(\n",
    "    method='LGOCV', \n",
    "    p=0.8,\n",
    "    classProbs=TRUE,\n",
    "    summaryFunction=twoClassSummary\n",
    ")\n",
    "\n",
    "m <- train(y ~ ., data=T, method='adaboost', metric='ROC', trControl=ctrl)"
   ]
  },
  {
   "cell_type": "code",
   "execution_count": 7,
   "metadata": {},
   "outputs": [
    {
     "name": "stdout",
     "output_type": "stream",
     "text": [
      "AdaBoost Classification Trees \n",
      "\n",
      "1000 samples\n",
      "   2 predictor\n",
      "   2 classes: 'neg', 'pos' \n",
      "\n",
      "No pre-processing\n",
      "Resampling: Repeated Train/Test Splits Estimated (25 reps, 80%) \n",
      "Summary of sample sizes: 801, 801, 801, 801, 801, 801, ... \n",
      "Resampling results across tuning parameters:\n",
      "\n",
      "  nIter  method         ROC        Sens       Spec     \n",
      "   50    Adaboost.M1    0.8723056  0.7184615  0.8357025\n",
      "   50    Real adaboost  0.7197754  0.7374359  0.8578512\n",
      "  100    Adaboost.M1    0.8701865  0.7261538  0.8323967\n",
      "  100    Real adaboost  0.6905022  0.7384615  0.8515702\n",
      "  150    Adaboost.M1    0.8673172  0.7205128  0.8277686\n",
      "  150    Real adaboost  0.6787137  0.7400000  0.8489256\n",
      "\n",
      "ROC was used to select the optimal model using the largest value.\n",
      "The final values used for the model were nIter = 50 and method = Adaboost.M1.\n"
     ]
    }
   ],
   "source": [
    "print(m)"
   ]
  }
 ],
 "metadata": {
  "kernelspec": {
   "display_name": "R 3.6",
   "language": "R",
   "name": "ir36"
  },
  "language_info": {
   "codemirror_mode": "r",
   "file_extension": ".r",
   "mimetype": "text/x-r-source",
   "name": "R",
   "pygments_lexer": "r",
   "version": "3.6.1"
  }
 },
 "nbformat": 4,
 "nbformat_minor": 4
}
