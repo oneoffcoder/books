{
 "cells": [
  {
   "cell_type": "markdown",
   "metadata": {},
   "source": [
    "# Classification"
   ]
  },
  {
   "cell_type": "code",
   "execution_count": 3,
   "metadata": {},
   "outputs": [],
   "source": [
    "set.seed(37)"
   ]
  },
  {
   "cell_type": "code",
   "execution_count": 26,
   "metadata": {},
   "outputs": [],
   "source": [
    "suppressMessages({\n",
    "    library('dplyr')\n",
    "})\n",
    "\n",
    "getData <- function(N=1000) {\n",
    "    x1 <- rnorm(N, mean=0, sd=1)\n",
    "    x2 <- rnorm(N, mean=0, sd=1)\n",
    "    y <- 1 + 2.0 * x1 + 3.0 * x2 + rnorm(N, mean=0, sd=1)\n",
    "    y <- 1.0 / (1.0 + exp(-y))\n",
    "    y <- rbinom(n=N, size=1, prob=y)\n",
    "    \n",
    "    df <- data.frame(x1=x1, x2=x2, y=y)\n",
    "    df <- df %>% \n",
    "            mutate(y=ifelse(y == 0, 'neg', 'pos')) %>%\n",
    "            mutate_if(is.character, as.factor)\n",
    "    return(df)\n",
    "}\n",
    "\n",
    "T <- getData()"
   ]
  },
  {
   "cell_type": "code",
   "execution_count": 27,
   "metadata": {},
   "outputs": [
    {
     "data": {
      "text/plain": [
       "       x1                 x2              y      \n",
       " Min.   :-3.61605   Min.   :-3.158035   neg:399  \n",
       " 1st Qu.:-0.66954   1st Qu.:-0.709333   pos:601  \n",
       " Median : 0.01997   Median :-0.008304            \n",
       " Mean   : 0.01737   Mean   : 0.008245            \n",
       " 3rd Qu.: 0.66307   3rd Qu.: 0.740304            \n",
       " Max.   : 2.93000   Max.   : 2.839198            "
      ]
     },
     "metadata": {},
     "output_type": "display_data"
    }
   ],
   "source": [
    "summary(T)"
   ]
  },
  {
   "cell_type": "code",
   "execution_count": 28,
   "metadata": {},
   "outputs": [],
   "source": [
    "library('caret')"
   ]
  },
  {
   "cell_type": "code",
   "execution_count": 29,
   "metadata": {},
   "outputs": [
    {
     "name": "stdout",
     "output_type": "stream",
     "text": [
      "note: only 1 unique complexity parameters in default grid. Truncating the grid to 1 .\n",
      "\n"
     ]
    },
    {
     "ename": "ERROR",
     "evalue": "Error: package e1071 is required\n",
     "output_type": "error",
     "traceback": [
      "Error: package e1071 is required\nTraceback:\n",
      "1. train(y ~ ., method = \"rf\", data = T)",
      "2. train.formula(y ~ ., method = \"rf\", data = T)",
      "3. train(x, y, weights = w, ...)",
      "4. train.default(x, y, weights = w, ...)",
      "5. evalSummaryFunction(y, wts = weights, ctrl = trControl, lev = classLevels, \n .     metric = metric, method = method)",
      "6. ctrl$summaryFunction(testOutput, lev, method)",
      "7. postResample(data[, \"pred\"], data[, \"obs\"])",
      "8. requireNamespaceQuietStop(\"e1071\")",
      "9. stop(paste(\"package\", package, \"is required\"), call. = FALSE)"
     ]
    }
   ],
   "source": [
    "m <- train(y ~ ., method='rf', data=T)"
   ]
  },
  {
   "cell_type": "code",
   "execution_count": null,
   "metadata": {},
   "outputs": [],
   "source": [
    "e1071 "
   ]
  }
 ],
 "metadata": {
  "kernelspec": {
   "display_name": "R 3.6",
   "language": "R",
   "name": "ir36"
  },
  "language_info": {
   "codemirror_mode": "r",
   "file_extension": ".r",
   "mimetype": "text/x-r-source",
   "name": "R",
   "pygments_lexer": "r",
   "version": "3.6.1"
  }
 },
 "nbformat": 4,
 "nbformat_minor": 4
}
