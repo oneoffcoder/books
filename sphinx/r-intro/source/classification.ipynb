{
 "cells": [
  {
   "cell_type": "markdown",
   "metadata": {},
   "source": [
    "# Classification"
   ]
  },
  {
   "cell_type": "markdown",
   "metadata": {},
   "source": [
    "## Simulate data\n",
    "\n",
    "Below, we simulate data.\n",
    "\n",
    "* $X_1 \\sim \\mathcal{N}(0, 1)$\n",
    "* $X_2 \\sim \\mathcal{N}(0, 1)$\n",
    "* $Y_0 = 1 + 2X_1 + 3X_2 + \\sigma$\n",
    "* $Y_1 = \\frac{1}{1 + \\exp(-Y_0)}$\n",
    "* $y \\sim \\mathcal{Binom}(Y_1)$"
   ]
  },
  {
   "cell_type": "code",
   "execution_count": 1,
   "metadata": {},
   "outputs": [
    {
     "name": "stdout",
     "output_type": "stream",
     "text": [
      "       x1                x2             y      \n",
      " Min.   :-2.8613   Min.   :-3.28763   neg:394  \n",
      " 1st Qu.:-0.6961   1st Qu.:-0.59550   pos:606  \n",
      " Median :-0.0339   Median : 0.06348            \n",
      " Mean   :-0.0184   Mean   : 0.03492            \n",
      " 3rd Qu.: 0.6836   3rd Qu.: 0.69935            \n",
      " Max.   : 3.8147   Max.   : 3.17901            \n"
     ]
    }
   ],
   "source": [
    "suppressMessages({\n",
    "    library('dplyr')\n",
    "})\n",
    "\n",
    "set.seed(37)\n",
    "\n",
    "getData <- function(N=1000) {\n",
    "    x1 <- rnorm(N, mean=0, sd=1)\n",
    "    x2 <- rnorm(N, mean=0, sd=1)\n",
    "    y <- 1 + 2.0 * x1 + 3.0 * x2 + rnorm(N, mean=0, sd=1)\n",
    "    y <- 1.0 / (1.0 + exp(-y))\n",
    "    y <- rbinom(n=N, size=1, prob=y)\n",
    "    \n",
    "    df <- data.frame(x1=x1, x2=x2, y=y)\n",
    "    df <- df %>% \n",
    "            mutate(y=ifelse(y == 0, 'neg', 'pos')) %>%\n",
    "            mutate_if(is.character, as.factor)\n",
    "    return(df)\n",
    "}\n",
    "\n",
    "T <- getData()\n",
    "V <- getData()\n",
    "\n",
    "print(summary(T))"
   ]
  },
  {
   "cell_type": "markdown",
   "metadata": {},
   "source": [
    "## Classification methods\n",
    "\n",
    "There are many classifcation models available in `R`. We only show a few here and use the [pROC](https://cran.r-project.org/web/packages/pROC/pROC.pdf) package to visualize the performance."
   ]
  },
  {
   "cell_type": "markdown",
   "metadata": {},
   "source": [
    "### Random forest\n",
    "\n",
    "Using [random forest](https://cran.r-project.org/web/packages/randomForest/randomForest.pdf)."
   ]
  },
  {
   "cell_type": "code",
   "execution_count": 2,
   "metadata": {},
   "outputs": [],
   "source": [
    "suppressMessages({\n",
    "    library('pROC')\n",
    "    library('randomForest')\n",
    "})\n",
    "\n",
    "m <- randomForest(y ~ ., data=T, mtry=2, ntree=1000)"
   ]
  },
  {
   "cell_type": "code",
   "execution_count": 3,
   "metadata": {},
   "outputs": [
    {
     "name": "stdout",
     "output_type": "stream",
     "text": [
      "\n",
      "Call:\n",
      " randomForest(formula = y ~ ., data = T, mtry = 2, ntree = 1000) \n",
      "               Type of random forest: classification\n",
      "                     Number of trees: 1000\n",
      "No. of variables tried at each split: 2\n",
      "\n",
      "        OOB estimate of  error rate: 20.6%\n",
      "Confusion matrix:\n",
      "    neg pos class.error\n",
      "neg 287 107   0.2715736\n",
      "pos  99 507   0.1633663\n"
     ]
    }
   ],
   "source": [
    "print(m)"
   ]
  },
  {
   "cell_type": "code",
   "execution_count": 4,
   "metadata": {},
   "outputs": [
    {
     "name": "stdout",
     "output_type": "stream",
     "text": [
      "\n",
      "Call:\n",
      "roc.default(response = V$y, predictor = y_pred, levels = c(\"neg\",     \"pos\"), direction = \"<\")\n",
      "\n",
      "Data: y_pred in 402 controls (V$y neg) < 598 cases (V$y pos).\n",
      "Area under the curve: 0.9062\n"
     ]
    }
   ],
   "source": [
    "p <- predict(m, newdata=V, type='prob')\n",
    "y_pred = p[,2]\n",
    "\n",
    "r <- roc(V$y, y_pred, levels=c('neg', 'pos'), direction='<')\n",
    "print(r)"
   ]
  },
  {
   "cell_type": "code",
   "execution_count": 5,
   "metadata": {},
   "outputs": [
    {
     "data": {
      "image/png": "[encoded data removed]",
      "text/plain": [
       "plot without title"
      ]
     },
     "metadata": {},
     "output_type": "display_data"
    }
   ],
   "source": [
    "options(repr.plot.width=4, repr.plot.height=4)\n",
    "\n",
    "plot(r, print.auc=TRUE)"
   ]
  },
  {
   "cell_type": "markdown",
   "metadata": {},
   "source": [
    "### Logistic regression\n",
    "\n",
    "Using [logistic regression](https://www.rdocumentation.org/packages/stats/versions/3.6.1/topics/glm)."
   ]
  },
  {
   "cell_type": "code",
   "execution_count": 6,
   "metadata": {},
   "outputs": [],
   "source": [
    "m <- glm(y ~ ., family='binomial', data=T)"
   ]
  },
  {
   "cell_type": "code",
   "execution_count": 7,
   "metadata": {},
   "outputs": [
    {
     "name": "stdout",
     "output_type": "stream",
     "text": [
      "\n",
      "Call:  glm(formula = y ~ ., family = \"binomial\", data = T)\n",
      "\n",
      "Coefficients:\n",
      "(Intercept)           x1           x2  \n",
      "     0.7692       1.6568       2.3364  \n",
      "\n",
      "Degrees of Freedom: 999 Total (i.e. Null);  997 Residual\n",
      "Null Deviance:\t    1341 \n",
      "Residual Deviance: 724.4 \tAIC: 730.4\n"
     ]
    }
   ],
   "source": [
    "print(m)"
   ]
  },
  {
   "cell_type": "code",
   "execution_count": 8,
   "metadata": {},
   "outputs": [
    {
     "name": "stdout",
     "output_type": "stream",
     "text": [
      "\n",
      "Call:\n",
      "roc.default(response = V$y, predictor = y_pred, levels = c(\"neg\",     \"pos\"), direction = \"<\")\n",
      "\n",
      "Data: y_pred in 402 controls (V$y neg) < 598 cases (V$y pos).\n",
      "Area under the curve: 0.933\n"
     ]
    }
   ],
   "source": [
    "y_pred <- predict(m, newdata=V, type='response')\n",
    "\n",
    "r <- roc(V$y, y_pred, levels=c('neg', 'pos'), direction='<')\n",
    "print(r)"
   ]
  },
  {
   "cell_type": "code",
   "execution_count": 9,
   "metadata": {},
   "outputs": [
    {
     "data": {
      "image/png": "[encoded data removed]",
      "text/plain": [
       "plot without title"
      ]
     },
     "metadata": {},
     "output_type": "display_data"
    }
   ],
   "source": [
    "options(repr.plot.width=4, repr.plot.height=4)\n",
    "\n",
    "plot(r, print.auc=TRUE)"
   ]
  },
  {
   "cell_type": "markdown",
   "metadata": {},
   "source": [
    "### AdaBoost\n",
    "\n",
    "Using [AdaBoost](https://cran.r-project.org/web/packages/fastAdaboost/fastAdaboost.pdf)."
   ]
  },
  {
   "cell_type": "code",
   "execution_count": 10,
   "metadata": {},
   "outputs": [],
   "source": [
    "library('fastAdaboost')\n",
    "\n",
    "m <- adaboost(y ~ ., nIter=50, data=T)"
   ]
  },
  {
   "cell_type": "code",
   "execution_count": 11,
   "metadata": {},
   "outputs": [
    {
     "name": "stdout",
     "output_type": "stream",
     "text": [
      "adaboost(formula = y ~ ., data = T, nIter = 50)\n",
      "y ~ .\n",
      "Dependent Variable: y\n",
      "No of trees:50\n",
      "The weights of the trees are:0.96387420.80235240.71526760.63439580.63139020.58530950.62330850.58756820.53374960.5300160.50916270.55428910.54749730.60577360.55118370.54656730.49836120.53329020.48512470.46704230.51634080.52241440.53706090.55988470.55272350.56468040.54326980.53403390.5140650.51328940.54461680.49396760.4945920.45737710.47303330.63182430.52913920.57678280.54805410.53541630.56575640.53455380.53633590.51994930.53944080.56411030.51954350.54601860.48144430.5298128\n"
     ]
    }
   ],
   "source": [
    "print(m)"
   ]
  },
  {
   "cell_type": "code",
   "execution_count": 12,
   "metadata": {},
   "outputs": [
    {
     "name": "stdout",
     "output_type": "stream",
     "text": [
      "\n",
      "Call:\n",
      "roc.default(response = V$y, predictor = y_pred, levels = c(\"neg\",     \"pos\"), direction = \"<\")\n",
      "\n",
      "Data: y_pred in 402 controls (V$y neg) < 598 cases (V$y pos).\n",
      "Area under the curve: 0.8936\n"
     ]
    }
   ],
   "source": [
    "p <- predict(m, newdata=V)\n",
    "y_pred <- p$prob[,2]\n",
    "\n",
    "r <- roc(V$y, y_pred, levels=c('neg', 'pos'), direction='<')\n",
    "print(r)"
   ]
  },
  {
   "cell_type": "code",
   "execution_count": 13,
   "metadata": {},
   "outputs": [
    {
     "data": {
      "image/png": "[encoded data removed]",
      "text/plain": [
       "plot without title"
      ]
     },
     "metadata": {},
     "output_type": "display_data"
    }
   ],
   "source": [
    "options(repr.plot.width=4, repr.plot.height=4)\n",
    "\n",
    "plot(r, print.auc=TRUE)"
   ]
  },
  {
   "cell_type": "markdown",
   "metadata": {},
   "source": [
    "### Support vector machine\n",
    "\n",
    "Using [support vector machine](https://cran.r-project.org/web/packages/e1071/e1071.pdf) `SVM`."
   ]
  },
  {
   "cell_type": "code",
   "execution_count": 14,
   "metadata": {},
   "outputs": [],
   "source": [
    "library('e1071')\n",
    "\n",
    "m <- svm(y ~ ., probability=TRUE, data=T)"
   ]
  },
  {
   "cell_type": "code",
   "execution_count": 15,
   "metadata": {},
   "outputs": [
    {
     "name": "stdout",
     "output_type": "stream",
     "text": [
      "\n",
      "Call:\n",
      "svm(formula = y ~ ., data = T, probability = TRUE)\n",
      "\n",
      "\n",
      "Parameters:\n",
      "   SVM-Type:  C-classification \n",
      " SVM-Kernel:  radial \n",
      "       cost:  1 \n",
      "\n",
      "Number of Support Vectors:  405\n",
      "\n"
     ]
    }
   ],
   "source": [
    "print(m)"
   ]
  },
  {
   "cell_type": "code",
   "execution_count": 16,
   "metadata": {},
   "outputs": [
    {
     "name": "stdout",
     "output_type": "stream",
     "text": [
      "\n",
      "Call:\n",
      "roc.default(response = V$y, predictor = y_pred, levels = c(\"neg\",     \"pos\"), direction = \"<\")\n",
      "\n",
      "Data: y_pred in 402 controls (V$y neg) < 598 cases (V$y pos).\n",
      "Area under the curve: 0.9166\n"
     ]
    }
   ],
   "source": [
    "p <- predict(m, newdata=V, probability=TRUE)\n",
    "y_pred <- attr(p, 'probabilities')[,1]\n",
    "\n",
    "r <- roc(V$y, y_pred, levels=c('neg', 'pos'), direction='<')\n",
    "print(r)"
   ]
  },
  {
   "cell_type": "code",
   "execution_count": 17,
   "metadata": {},
   "outputs": [
    {
     "data": {
      "image/png": "[encoded data removed]",
      "text/plain": [
       "plot without title"
      ]
     },
     "metadata": {},
     "output_type": "display_data"
    }
   ],
   "source": [
    "options(repr.plot.width=4, repr.plot.height=4)\n",
    "\n",
    "plot(r, print.auc=TRUE)"
   ]
  }
 ],
 "metadata": {
  "kernelspec": {
   "display_name": "R 3.6",
   "language": "R",
   "name": "ir36"
  },
  "language_info": {
   "codemirror_mode": "r",
   "file_extension": ".r",
   "mimetype": "text/x-r-source",
   "name": "R",
   "pygments_lexer": "r",
   "version": "3.6.1"
  }
 },
 "nbformat": 4,
 "nbformat_minor": 4
}
