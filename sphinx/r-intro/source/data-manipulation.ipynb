{
 "cells": [
  {
   "cell_type": "markdown",
   "metadata": {},
   "source": [
    "# Data Manipulation\n",
    "\n",
    "We may manipulate data in `R` using the `tidyverse` packages.\n",
    "\n",
    "* `dplyr` for data frame manipulating and filtering\n",
    "* `tidyr` for data frame restructuring\n",
    "* `purr` for functional programming\n",
    "* `readr` for persisting and depersisting data\n",
    "\n",
    "Visit the official [tidyverse](https://www.tidyverse.org/) website for more information."
   ]
  },
  {
   "cell_type": "markdown",
   "metadata": {},
   "source": [
    "## dplyr\n",
    "\n",
    "Let's use the `dplyr` package to manipulate data frames. This package uses the following `verbs` to manipulate data frames.\n",
    "\n",
    "* `select` extracts columns of interests\n",
    "* `filter` removes columns\n",
    "* `mutate` changes values\n",
    "* `arrange` reorders rows\n",
    "* `summarize` applies aggregate computations to data\n",
    "* `join` merges data into a single data frame"
   ]
  },
  {
   "cell_type": "code",
   "execution_count": 1,
   "metadata": {},
   "outputs": [
    {
     "name": "stdout",
     "output_type": "stream",
     "text": [
      "  age grade  name  male\n",
      "1  18     A  Jane FALSE\n",
      "2  16     B Joyce FALSE\n",
      "3  15     C   Joe  TRUE\n",
      "4  19     B  John  TRUE\n"
     ]
    }
   ],
   "source": [
    "suppressMessages({\n",
    "    library('dplyr')\n",
    "})\n",
    "\n",
    "\n",
    "df <- data.frame(\n",
    "    age = c(18, 16, 15, 19),\n",
    "    grade = c('A', 'B', 'C', 'B'),\n",
    "    name = c('Jane', 'Joyce', 'Joe', 'John'),\n",
    "    male = c(FALSE, FALSE, TRUE, TRUE),\n",
    "    stringsAsFactors=FALSE\n",
    ")\n",
    "\n",
    "print(df)"
   ]
  },
  {
   "cell_type": "markdown",
   "metadata": {},
   "source": [
    "### select\n",
    "\n",
    "Example of select."
   ]
  },
  {
   "cell_type": "code",
   "execution_count": 2,
   "metadata": {},
   "outputs": [
    {
     "name": "stdout",
     "output_type": "stream",
     "text": [
      "  grade\n",
      "1     A\n",
      "2     B\n",
      "3     C\n",
      "4     B\n"
     ]
    }
   ],
   "source": [
    "g <- select(df, grade)\n",
    "print(g)"
   ]
  },
  {
   "cell_type": "markdown",
   "metadata": {},
   "source": [
    "### filter\n",
    "\n",
    "Example of filter."
   ]
  },
  {
   "cell_type": "code",
   "execution_count": 3,
   "metadata": {},
   "outputs": [
    {
     "name": "stdout",
     "output_type": "stream",
     "text": [
      "  age grade name male\n",
      "1  15     C  Joe TRUE\n",
      "2  19     B John TRUE\n"
     ]
    }
   ],
   "source": [
    "m <- filter(df, male == TRUE)\n",
    "print(m)"
   ]
  },
  {
   "cell_type": "markdown",
   "metadata": {},
   "source": [
    "### mutate\n",
    "\n",
    "Example of mutate."
   ]
  },
  {
   "cell_type": "code",
   "execution_count": 4,
   "metadata": {},
   "outputs": [
    {
     "name": "stdout",
     "output_type": "stream",
     "text": [
      "  age grade  name  male status\n",
      "1  18     A  Jane FALSE  adult\n",
      "2  16     B Joyce FALSE  minor\n",
      "3  15     C   Joe  TRUE  minor\n",
      "4  19     B  John  TRUE  adult\n"
     ]
    }
   ],
   "source": [
    "n <- mutate(df, status=ifelse(age < 18, 'minor', 'adult'))\n",
    "print(n)"
   ]
  },
  {
   "cell_type": "markdown",
   "metadata": {},
   "source": [
    "### arrange\n",
    "\n",
    "Example of arrange."
   ]
  },
  {
   "cell_type": "code",
   "execution_count": 5,
   "metadata": {},
   "outputs": [
    {
     "name": "stdout",
     "output_type": "stream",
     "text": [
      "  age grade  name  male\n",
      "1  15     C   Joe  TRUE\n",
      "2  16     B Joyce FALSE\n",
      "3  18     A  Jane FALSE\n",
      "4  19     B  John  TRUE\n"
     ]
    }
   ],
   "source": [
    "n <- arrange(df, age)\n",
    "print(n)"
   ]
  },
  {
   "cell_type": "markdown",
   "metadata": {},
   "source": [
    "### summarize\n",
    "\n",
    "Example of summarize."
   ]
  },
  {
   "cell_type": "code",
   "execution_count": 6,
   "metadata": {},
   "outputs": [
    {
     "name": "stdout",
     "output_type": "stream",
     "text": [
      "  avg_age\n",
      "1      17\n"
     ]
    }
   ],
   "source": [
    "n <- summarize(df, avg_age=mean(age))\n",
    "print(n)"
   ]
  },
  {
   "cell_type": "markdown",
   "metadata": {},
   "source": [
    "### pipe\n",
    "\n",
    "You may chain multiple `verbs` by using the `pipe` operator `%>%`. In the example below, we filter the data frame `df` for students whose ages are less than 18 and male, and then compute the average age. "
   ]
  },
  {
   "cell_type": "code",
   "execution_count": 7,
   "metadata": {},
   "outputs": [
    {
     "name": "stdout",
     "output_type": "stream",
     "text": [
      "  avg_age\n",
      "1      15\n"
     ]
    }
   ],
   "source": [
    "n <- df %>%\n",
    "    filter(age < 18) %>%\n",
    "    filter(male == TRUE) %>%\n",
    "    summarize(avg_age=mean(age))\n",
    "print(n)"
   ]
  },
  {
   "cell_type": "markdown",
   "metadata": {},
   "source": [
    "### group_by\n",
    "\n",
    "Here's an example of using the `group_by` function. The `group_by` function will return a `tibble` object that looks like a data frame, but keeps track of the groups. "
   ]
  },
  {
   "cell_type": "code",
   "execution_count": 8,
   "metadata": {},
   "outputs": [
    {
     "name": "stdout",
     "output_type": "stream",
     "text": [
      "\u001b[38;5;246m# A tibble: 4 x 4\u001b[39m\n",
      "\u001b[38;5;246m# Groups:   male [2]\u001b[39m\n",
      "    age grade name  male \n",
      "  \u001b[3m\u001b[38;5;246m<dbl>\u001b[39m\u001b[23m \u001b[3m\u001b[38;5;246m<chr>\u001b[39m\u001b[23m \u001b[3m\u001b[38;5;246m<chr>\u001b[39m\u001b[23m \u001b[3m\u001b[38;5;246m<lgl>\u001b[39m\u001b[23m\n",
      "\u001b[38;5;250m1\u001b[39m    18 A     Jane  FALSE\n",
      "\u001b[38;5;250m2\u001b[39m    16 B     Joyce FALSE\n",
      "\u001b[38;5;250m3\u001b[39m    15 C     Joe   TRUE \n",
      "\u001b[38;5;250m4\u001b[39m    19 B     John  TRUE \n"
     ]
    }
   ],
   "source": [
    "n <- group_by(df, male)\n",
    "print(n)"
   ]
  },
  {
   "cell_type": "markdown",
   "metadata": {},
   "source": [
    "You may also apply `verbs` to the tibble above. Below, we compute the average age, but notice how they are separated into male and female (as a result of the `group_by` function)?"
   ]
  },
  {
   "cell_type": "code",
   "execution_count": 9,
   "metadata": {},
   "outputs": [
    {
     "name": "stdout",
     "output_type": "stream",
     "text": [
      "\u001b[38;5;246m# A tibble: 2 x 2\u001b[39m\n",
      "  male  avg_age\n",
      "  \u001b[3m\u001b[38;5;246m<lgl>\u001b[39m\u001b[23m   \u001b[3m\u001b[38;5;246m<dbl>\u001b[39m\u001b[23m\n",
      "\u001b[38;5;250m1\u001b[39m FALSE      17\n",
      "\u001b[38;5;250m2\u001b[39m TRUE       17\n"
     ]
    }
   ],
   "source": [
    "r <- n %>% summarize(avg_age=mean(age))\n",
    "print(r)"
   ]
  },
  {
   "cell_type": "markdown",
   "metadata": {},
   "source": [
    "### join\n",
    "\n",
    "You may join data frames using `SQL` like joins.\n",
    "\n",
    "* `left_join` joins two data frames return all records from the left data frame\n",
    "* `inner_join` joins two data frames returning all records that only exist in both data frames\n",
    "* `right_join` joins two data frames returning all records from the right data frame\n",
    "* `full_join` joins two data frames all records from both data frames"
   ]
  },
  {
   "cell_type": "code",
   "execution_count": 10,
   "metadata": {},
   "outputs": [],
   "source": [
    "subjects <- data.frame(\n",
    "    name = c('Jane', 'Joyce', 'Joe', 'Jeremy'),\n",
    "    course = c('Statistics', 'Calculus', 'Statistics', 'Calculus'),\n",
    "    stringsAsFactors=FALSE\n",
    ")"
   ]
  },
  {
   "cell_type": "markdown",
   "metadata": {},
   "source": [
    "Left join."
   ]
  },
  {
   "cell_type": "code",
   "execution_count": 11,
   "metadata": {},
   "outputs": [
    {
     "name": "stdout",
     "output_type": "stream",
     "text": [
      "  age grade  name  male     course\n",
      "1  18     A  Jane FALSE Statistics\n",
      "2  16     B Joyce FALSE   Calculus\n",
      "3  15     C   Joe  TRUE Statistics\n",
      "4  19     B  John  TRUE       <NA>\n"
     ]
    }
   ],
   "source": [
    "n <- left_join(df, subjects, by='name')\n",
    "print(n)"
   ]
  },
  {
   "cell_type": "markdown",
   "metadata": {},
   "source": [
    "Inner join."
   ]
  },
  {
   "cell_type": "code",
   "execution_count": 12,
   "metadata": {},
   "outputs": [
    {
     "name": "stdout",
     "output_type": "stream",
     "text": [
      "  age grade  name  male     course\n",
      "1  18     A  Jane FALSE Statistics\n",
      "2  16     B Joyce FALSE   Calculus\n",
      "3  15     C   Joe  TRUE Statistics\n"
     ]
    }
   ],
   "source": [
    "n <- inner_join(df, subjects, by='name')\n",
    "print(n)"
   ]
  },
  {
   "cell_type": "markdown",
   "metadata": {},
   "source": [
    "Right join."
   ]
  },
  {
   "cell_type": "code",
   "execution_count": 13,
   "metadata": {},
   "outputs": [
    {
     "name": "stdout",
     "output_type": "stream",
     "text": [
      "  age grade   name  male     course\n",
      "1  18     A   Jane FALSE Statistics\n",
      "2  16     B  Joyce FALSE   Calculus\n",
      "3  15     C    Joe  TRUE Statistics\n",
      "4  NA  <NA> Jeremy    NA   Calculus\n"
     ]
    }
   ],
   "source": [
    "n <- right_join(df, subjects, by='name')\n",
    "print(n)"
   ]
  },
  {
   "cell_type": "markdown",
   "metadata": {},
   "source": [
    "Full join."
   ]
  },
  {
   "cell_type": "code",
   "execution_count": 14,
   "metadata": {},
   "outputs": [
    {
     "name": "stdout",
     "output_type": "stream",
     "text": [
      "  age grade   name  male     course\n",
      "1  18     A   Jane FALSE Statistics\n",
      "2  16     B  Joyce FALSE   Calculus\n",
      "3  15     C    Joe  TRUE Statistics\n",
      "4  19     B   John  TRUE       <NA>\n",
      "5  NA  <NA> Jeremy    NA   Calculus\n"
     ]
    }
   ],
   "source": [
    "n <- full_join(df, subjects, by='name')\n",
    "print(n)"
   ]
  },
  {
   "cell_type": "markdown",
   "metadata": {},
   "source": [
    "## tidyr\n",
    "\n",
    "The package `tidyr` is used to restructure data. Its semantic concepts are as follows.\n",
    "\n",
    "* `variables` are columns\n",
    "* `observations` are rows\n",
    "* `values` are elements\n",
    "\n",
    "A nice [cheat sheat](https://github.com/rstudio/cheatsheets/blob/master/data-import.pdf) is available."
   ]
  },
  {
   "cell_type": "code",
   "execution_count": 15,
   "metadata": {},
   "outputs": [
    {
     "name": "stdout",
     "output_type": "stream",
     "text": [
      "   name quizz1 quizz2 quizz3\n",
      "1  Jane     90     95     92\n",
      "2 Joyce     89     91     82\n",
      "3   Joe     75     85     80\n",
      "4  John     91     89     93\n"
     ]
    }
   ],
   "source": [
    "library('tidyr')\n",
    "\n",
    "df <- data.frame(\n",
    "    name = c('Jane', 'Joyce', 'Joe', 'John'),\n",
    "    quizz1 = c(90, 89, 75, 91),\n",
    "    quizz2 = c(95, 91, 85, 89),\n",
    "    quizz3 = c(92, 82, 80, 93),\n",
    "    stringsAsFactors=FALSE\n",
    ")\n",
    "\n",
    "print(df)"
   ]
  },
  {
   "cell_type": "markdown",
   "metadata": {},
   "source": [
    "### gather\n",
    "\n",
    "The `gather` function changes the `wide` format (column-oriented) of `df` to a `long` format (row-oriented)."
   ]
  },
  {
   "cell_type": "code",
   "execution_count": 16,
   "metadata": {},
   "outputs": [
    {
     "name": "stdout",
     "output_type": "stream",
     "text": [
      "    name  quizz score\n",
      "1   Jane quizz1    90\n",
      "2  Joyce quizz1    89\n",
      "3    Joe quizz1    75\n",
      "4   John quizz1    91\n",
      "5   Jane quizz2    95\n",
      "6  Joyce quizz2    91\n",
      "7    Joe quizz2    85\n",
      "8   John quizz2    89\n",
      "9   Jane quizz3    92\n",
      "10 Joyce quizz3    82\n",
      "11   Joe quizz3    80\n",
      "12  John quizz3    93\n"
     ]
    }
   ],
   "source": [
    "n <- gather(df, key=quizz, value=score, -name)\n",
    "print(n)"
   ]
  },
  {
   "cell_type": "markdown",
   "metadata": {},
   "source": [
    "The newer API has `pivot_longer`."
   ]
  },
  {
   "cell_type": "code",
   "execution_count": 17,
   "metadata": {},
   "outputs": [
    {
     "name": "stdout",
     "output_type": "stream",
     "text": [
      "\u001b[38;5;246m# A tibble: 12 x 3\u001b[39m\n",
      "   name  quizz  score\n",
      "   \u001b[3m\u001b[38;5;246m<chr>\u001b[39m\u001b[23m \u001b[3m\u001b[38;5;246m<chr>\u001b[39m\u001b[23m  \u001b[3m\u001b[38;5;246m<dbl>\u001b[39m\u001b[23m\n",
      "\u001b[38;5;250m 1\u001b[39m Jane  quizz1    90\n",
      "\u001b[38;5;250m 2\u001b[39m Jane  quizz2    95\n",
      "\u001b[38;5;250m 3\u001b[39m Jane  quizz3    92\n",
      "\u001b[38;5;250m 4\u001b[39m Joyce quizz1    89\n",
      "\u001b[38;5;250m 5\u001b[39m Joyce quizz2    91\n",
      "\u001b[38;5;250m 6\u001b[39m Joyce quizz3    82\n",
      "\u001b[38;5;250m 7\u001b[39m Joe   quizz1    75\n",
      "\u001b[38;5;250m 8\u001b[39m Joe   quizz2    85\n",
      "\u001b[38;5;250m 9\u001b[39m Joe   quizz3    80\n",
      "\u001b[38;5;250m10\u001b[39m John  quizz1    91\n",
      "\u001b[38;5;250m11\u001b[39m John  quizz2    89\n",
      "\u001b[38;5;250m12\u001b[39m John  quizz3    93\n"
     ]
    }
   ],
   "source": [
    "n <- df %>% pivot_longer(-name, names_to='quizz', values_to='score')\n",
    "print(n)"
   ]
  },
  {
   "cell_type": "code",
   "execution_count": 18,
   "metadata": {},
   "outputs": [
    {
     "name": "stdout",
     "output_type": "stream",
     "text": [
      "\u001b[38;5;246m# A tibble: 1 x 1\u001b[39m\n",
      "  avg_score\n",
      "      \u001b[3m\u001b[38;5;246m<dbl>\u001b[39m\u001b[23m\n",
      "\u001b[38;5;250m1\u001b[39m      87.7\n"
     ]
    }
   ],
   "source": [
    "r <- n %>%\n",
    "    summarize(avg_score=mean(score))\n",
    "print(r)"
   ]
  },
  {
   "cell_type": "code",
   "execution_count": 19,
   "metadata": {},
   "outputs": [
    {
     "name": "stdout",
     "output_type": "stream",
     "text": [
      "\u001b[38;5;246m# A tibble: 4 x 2\u001b[39m\n",
      "  name  avg_score\n",
      "  \u001b[3m\u001b[38;5;246m<chr>\u001b[39m\u001b[23m     \u001b[3m\u001b[38;5;246m<dbl>\u001b[39m\u001b[23m\n",
      "\u001b[38;5;250m1\u001b[39m Jane       92.3\n",
      "\u001b[38;5;250m2\u001b[39m Joe        80  \n",
      "\u001b[38;5;250m3\u001b[39m John       91  \n",
      "\u001b[38;5;250m4\u001b[39m Joyce      87.3\n"
     ]
    }
   ],
   "source": [
    "r <- n %>%\n",
    "    group_by(name) %>%\n",
    "    summarize(avg_score=mean(score))\n",
    "print(r)"
   ]
  },
  {
   "cell_type": "markdown",
   "metadata": {},
   "source": [
    "### spread\n",
    "\n",
    "The `spread` function converts the data frame from long (row-oriented) to wide (column-oriented) form."
   ]
  },
  {
   "cell_type": "code",
   "execution_count": 20,
   "metadata": {},
   "outputs": [
    {
     "name": "stdout",
     "output_type": "stream",
     "text": [
      "\u001b[38;5;246m# A tibble: 4 x 4\u001b[39m\n",
      "  name  quizz1 quizz2 quizz3\n",
      "  \u001b[3m\u001b[38;5;246m<chr>\u001b[39m\u001b[23m  \u001b[3m\u001b[38;5;246m<dbl>\u001b[39m\u001b[23m  \u001b[3m\u001b[38;5;246m<dbl>\u001b[39m\u001b[23m  \u001b[3m\u001b[38;5;246m<dbl>\u001b[39m\u001b[23m\n",
      "\u001b[38;5;250m1\u001b[39m Jane      90     95     92\n",
      "\u001b[38;5;250m2\u001b[39m Joe       75     85     80\n",
      "\u001b[38;5;250m3\u001b[39m John      91     89     93\n",
      "\u001b[38;5;250m4\u001b[39m Joyce     89     91     82\n"
     ]
    }
   ],
   "source": [
    "r <- spread(n, key=quizz, value=score)\n",
    "print(r)"
   ]
  },
  {
   "cell_type": "markdown",
   "metadata": {},
   "source": [
    "The newer API has `pivot_wider`."
   ]
  },
  {
   "cell_type": "code",
   "execution_count": 21,
   "metadata": {},
   "outputs": [
    {
     "name": "stdout",
     "output_type": "stream",
     "text": [
      "\u001b[38;5;246m# A tibble: 4 x 4\u001b[39m\n",
      "  name  quizz1 quizz2 quizz3\n",
      "  \u001b[3m\u001b[38;5;246m<chr>\u001b[39m\u001b[23m  \u001b[3m\u001b[38;5;246m<dbl>\u001b[39m\u001b[23m  \u001b[3m\u001b[38;5;246m<dbl>\u001b[39m\u001b[23m  \u001b[3m\u001b[38;5;246m<dbl>\u001b[39m\u001b[23m\n",
      "\u001b[38;5;250m1\u001b[39m Jane      90     95     92\n",
      "\u001b[38;5;250m2\u001b[39m Joyce     89     91     82\n",
      "\u001b[38;5;250m3\u001b[39m Joe       75     85     80\n",
      "\u001b[38;5;250m4\u001b[39m John      91     89     93\n"
     ]
    }
   ],
   "source": [
    "r <- n %>% pivot_wider(names_from='quizz', values_from='score')\n",
    "print(r)"
   ]
  },
  {
   "cell_type": "markdown",
   "metadata": {},
   "source": [
    "### unite\n",
    "\n",
    "The `unite` function merges several columns."
   ]
  },
  {
   "cell_type": "code",
   "execution_count": 22,
   "metadata": {},
   "outputs": [
    {
     "name": "stdout",
     "output_type": "stream",
     "text": [
      "   name dobMonth dobDay dobYear\n",
      "1  Jane        1      5      89\n",
      "2 Joyce        2     10      88\n",
      "3   Joe        3     15      87\n",
      "4  John        4     20      91\n"
     ]
    }
   ],
   "source": [
    "df <- data.frame(\n",
    "    name = c('Jane', 'Joyce', 'Joe', 'John'),\n",
    "    dobMonth = c(1, 2, 3, 4),\n",
    "    dobDay = c(5, 10, 15, 20),\n",
    "    dobYear = c(89, 88, 87, 91),\n",
    "    stringsAsFactors=FALSE\n",
    ")\n",
    "\n",
    "print(df)"
   ]
  },
  {
   "cell_type": "code",
   "execution_count": 23,
   "metadata": {},
   "outputs": [
    {
     "name": "stdout",
     "output_type": "stream",
     "text": [
      "   name     dob\n",
      "1  Jane  1-5-89\n",
      "2 Joyce 2-10-88\n",
      "3   Joe 3-15-87\n",
      "4  John 4-20-91\n"
     ]
    }
   ],
   "source": [
    "n <- df %>% unite(dobMonth, dobDay, dobYear, col='dob', sep='-')\n",
    "print(n)"
   ]
  },
  {
   "cell_type": "markdown",
   "metadata": {},
   "source": [
    "### separate\n",
    "\n",
    "The `separate` function breaks apart a column."
   ]
  },
  {
   "cell_type": "code",
   "execution_count": 24,
   "metadata": {},
   "outputs": [
    {
     "name": "stdout",
     "output_type": "stream",
     "text": [
      "   name     dob\n",
      "1  Jane  1-5-89\n",
      "2 Joyce 2-10-88\n",
      "3   Joe 3-15-87\n",
      "4  John 4-20-91\n"
     ]
    }
   ],
   "source": [
    "df <- data.frame(\n",
    "    name = c('Jane', 'Joyce', 'Joe', 'John'),\n",
    "    dob = c('1-5-89', '2-10-88', '3-15-87', '4-20-91'),\n",
    "    stringsAsFactors=FALSE\n",
    ")\n",
    "\n",
    "print(df)"
   ]
  },
  {
   "cell_type": "code",
   "execution_count": 25,
   "metadata": {},
   "outputs": [
    {
     "name": "stdout",
     "output_type": "stream",
     "text": [
      "   name dobMonth dobDay dobYear\n",
      "1  Jane        1      5      89\n",
      "2 Joyce        2     10      88\n",
      "3   Joe        3     15      87\n",
      "4  John        4     20      91\n"
     ]
    }
   ],
   "source": [
    "n <- df %>% separate(dob, sep='-', into=c('dobMonth', 'dobDay', 'dobYear'))\n",
    "print(n)"
   ]
  },
  {
   "cell_type": "markdown",
   "metadata": {},
   "source": [
    "## purr\n",
    "\n",
    "The `purr` library enables functional programming over data frames. A [purr cheat sheat](https://github.com/rstudio/cheatsheets/blob/master/purrr.pdf) is available."
   ]
  },
  {
   "cell_type": "code",
   "execution_count": 26,
   "metadata": {},
   "outputs": [
    {
     "name": "stdout",
     "output_type": "stream",
     "text": [
      "   name quizz1 quizz2 quizz3\n",
      "1  Jane     90     95     92\n",
      "2 Joyce     89     91     82\n",
      "3   Joe     75     85     80\n",
      "4  John     91     89     93\n"
     ]
    }
   ],
   "source": [
    "library('purrr')\n",
    "\n",
    "df <- data.frame(\n",
    "    name = c('Jane', 'Joyce', 'Joe', 'John'),\n",
    "    quizz1 = c(90, 89, 75, 91),\n",
    "    quizz2 = c(95, 91, 85, 89),\n",
    "    quizz3 = c(92, 82, 80, 93),\n",
    "    stringsAsFactors=FALSE\n",
    ")\n",
    "\n",
    "print(df)"
   ]
  },
  {
   "cell_type": "markdown",
   "metadata": {},
   "source": [
    "### modify_if\n",
    "\n",
    "The `modify_if` function modifies a variable (column) if the specified condition is satisified. Below, we use the `comprehenr` package to mimic a vector comprehension (or, in `Python`, a `list comprehension`)."
   ]
  },
  {
   "cell_type": "code",
   "execution_count": 27,
   "metadata": {},
   "outputs": [
    {
     "name": "stdout",
     "output_type": "stream",
     "text": [
      "   name quizz1 quizz2 quizz3\n",
      "1  Jane      A      A      A\n",
      "2 Joyce      B      A      B\n",
      "3   Joe      C      B      B\n",
      "4  John      A      B      A\n"
     ]
    }
   ],
   "source": [
    "library('comprehenr')\n",
    "\n",
    "letterGrade = function(score) {\n",
    "    if (score >= 90) {\n",
    "        return('A')\n",
    "    } else if (score >= 80) {\n",
    "        return('B')\n",
    "    } else if (score >= 70) {\n",
    "        return('C')\n",
    "    } else if (score >= 60) {\n",
    "        return('D')\n",
    "    } else {\n",
    "        return('F')\n",
    "    }\n",
    "}\n",
    "\n",
    "letterGrades = function(scores) {\n",
    "    to_vec(for(s in scores) letterGrade(s))\n",
    "}\n",
    "\n",
    "n <- df %>%\n",
    "        modify_if(is.numeric, .f=letterGrades)\n",
    "print(n)"
   ]
  },
  {
   "cell_type": "markdown",
   "metadata": {},
   "source": [
    "### modify_at\n",
    "\n",
    "The `modify_at` function modifies the specified columns."
   ]
  },
  {
   "cell_type": "code",
   "execution_count": 28,
   "metadata": {},
   "outputs": [
    {
     "name": "stdout",
     "output_type": "stream",
     "text": [
      "   name quizz1 quizz2 quizz3\n",
      "1  Jane      A      A      A\n",
      "2 Joyce      B      A      B\n",
      "3   Joe      C      B      B\n",
      "4  John      A      B      A\n"
     ]
    }
   ],
   "source": [
    "n <- df %>%\n",
    "        modify_at(.at=c('quizz1', 'quizz2', 'quizz3'), .f=letterGrades)\n",
    "print(n)"
   ]
  },
  {
   "cell_type": "markdown",
   "metadata": {},
   "source": [
    "## readr\n",
    "\n",
    "The `readr` package is used to write and read data. A variety of formats is supported.\n",
    "\n",
    "* `csv` comma separated\n",
    "* `tsv` tab separated\n",
    "* `delim` delimited\n",
    "* `fwf` fixed width files\n",
    "* `table` tablular file with columns separated by space\n",
    "* `log` web log files"
   ]
  },
  {
   "cell_type": "code",
   "execution_count": 29,
   "metadata": {},
   "outputs": [],
   "source": [
    "library('readr')\n",
    "\n",
    "df <- data.frame(\n",
    "    name = c('Jane', 'Joyce', 'Joe', 'John'),\n",
    "    dob = c('1-5-89', '2-10-88', '3-15-87', '4-20-91'),\n",
    "    stringsAsFactors=FALSE\n",
    ")"
   ]
  },
  {
   "cell_type": "markdown",
   "metadata": {},
   "source": [
    "### write_csv\n",
    "\n",
    "Use `write_csv` to write data to a CSV file. "
   ]
  },
  {
   "cell_type": "code",
   "execution_count": 30,
   "metadata": {},
   "outputs": [],
   "source": [
    "df %>% write_csv(path='students.csv')"
   ]
  },
  {
   "cell_type": "markdown",
   "metadata": {},
   "source": [
    "### read_csv\n",
    "\n",
    "Use `read_csv` to read CSV data. Note that the object returned will be a `tibble`."
   ]
  },
  {
   "cell_type": "code",
   "execution_count": 31,
   "metadata": {},
   "outputs": [
    {
     "name": "stderr",
     "output_type": "stream",
     "text": [
      "Parsed with column specification:\n",
      "cols(\n",
      "  name = \u001b[31mcol_character()\u001b[39m,\n",
      "  dob = \u001b[31mcol_character()\u001b[39m\n",
      ")\n"
     ]
    },
    {
     "name": "stdout",
     "output_type": "stream",
     "text": [
      "\u001b[38;5;246m# A tibble: 4 x 2\u001b[39m\n",
      "  name  dob    \n",
      "  \u001b[3m\u001b[38;5;246m<chr>\u001b[39m\u001b[23m \u001b[3m\u001b[38;5;246m<chr>\u001b[39m\u001b[23m  \n",
      "\u001b[38;5;250m1\u001b[39m Jane  1-5-89 \n",
      "\u001b[38;5;250m2\u001b[39m Joyce 2-10-88\n",
      "\u001b[38;5;250m3\u001b[39m Joe   3-15-87\n",
      "\u001b[38;5;250m4\u001b[39m John  4-20-91\n"
     ]
    }
   ],
   "source": [
    "df <- read_csv(file='students.csv')\n",
    "print(df)"
   ]
  },
  {
   "cell_type": "markdown",
   "metadata": {},
   "source": [
    "Note that you may specify the schema as well."
   ]
  },
  {
   "cell_type": "code",
   "execution_count": 32,
   "metadata": {},
   "outputs": [
    {
     "name": "stdout",
     "output_type": "stream",
     "text": [
      "\u001b[38;5;246m# A tibble: 4 x 2\u001b[39m\n",
      "  name  dob    \n",
      "  \u001b[3m\u001b[38;5;246m<chr>\u001b[39m\u001b[23m \u001b[3m\u001b[38;5;246m<chr>\u001b[39m\u001b[23m  \n",
      "\u001b[38;5;250m1\u001b[39m Jane  1-5-89 \n",
      "\u001b[38;5;250m2\u001b[39m Joyce 2-10-88\n",
      "\u001b[38;5;250m3\u001b[39m Joe   3-15-87\n",
      "\u001b[38;5;250m4\u001b[39m John  4-20-91\n"
     ]
    }
   ],
   "source": [
    "df <- read_csv(file='students.csv', col_types=cols(\n",
    "    name = col_character(),\n",
    "    dob = col_character()\n",
    "))\n",
    "\n",
    "print(df)"
   ]
  }
 ],
 "metadata": {
  "kernelspec": {
   "display_name": "R 3.6",
   "language": "R",
   "name": "ir36"
  },
  "language_info": {
   "codemirror_mode": "r",
   "file_extension": ".r",
   "mimetype": "text/x-r-source",
   "name": "R",
   "pygments_lexer": "r",
   "version": "3.6.1"
  }
 },
 "nbformat": 4,
 "nbformat_minor": 4
}
