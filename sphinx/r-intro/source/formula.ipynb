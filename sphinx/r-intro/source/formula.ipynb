{
 "cells": [
  {
   "cell_type": "markdown",
   "metadata": {},
   "source": [
    "# Formulas\n",
    "\n",
    "Formulas are R's way of expressing models against the data we have. Formulas are used nearly everywhere in R, from defining models to transforming data. The general form of a formula is \n",
    "\n",
    "$y \\sim x_1 + x_2 + \\dots$, \n",
    "\n",
    "where \n",
    "\n",
    "- $y$ is the output (dependent variable), \n",
    "- $\\sim$ separates the left and right hand sides of the formula, and \n",
    "- $x_1 + x_2 + \\ldots$ is the input (independent variable). \n",
    "\n",
    "The power of formulas comes with the operators on the right hand side. \n",
    "\n",
    "- `+` means to use a variable (or a set)\n",
    "- `:` indicates interactions excluding lower level ones\n",
    "- `*` indicates interactions including lower level ones\n",
    "- `-` indicates to remove variables\n",
    "- `**` or `^` indicates expanding interactions between sets of variables\n",
    "\n",
    "Let's look how some of these operators work. First, let's simulate some data."
   ]
  },
  {
   "cell_type": "code",
   "execution_count": 1,
   "metadata": {},
   "outputs": [],
   "source": [
    "set.seed(37)"
   ]
  },
  {
   "cell_type": "code",
   "execution_count": 2,
   "metadata": {},
   "outputs": [],
   "source": [
    "N <- 5\n",
    "x1 <- rnorm(N, mean=5.1, sd=1)\n",
    "x2 <- rnorm(N, mean=3.2, sd=1)\n",
    "y <- 5 + 3.2 * x1 * x2 + rnorm(N, mean=0, sd=1)\n",
    "df <- data.frame(x1=x1, x2=x2, y=y)"
   ]
  },
  {
   "cell_type": "code",
   "execution_count": 3,
   "metadata": {},
   "outputs": [
    {
     "data": {
      "text/html": [
       "<table>\n",
       "<caption>A data.frame: 5 x 3</caption>\n",
       "<thead>\n",
       "\t<tr><th scope=col>x1</th><th scope=col>x2</th><th scope=col>y</th></tr>\n",
       "\t<tr><th scope=col>&lt;dbl&gt;</th><th scope=col>&lt;dbl&gt;</th><th scope=col>&lt;dbl&gt;</th></tr>\n",
       "</thead>\n",
       "<tbody>\n",
       "\t<tr><td>5.224754</td><td>2.867286</td><td>52.56107</td></tr>\n",
       "\t<tr><td>5.482075</td><td>3.007840</td><td>57.80415</td></tr>\n",
       "\t<tr><td>5.679243</td><td>4.562983</td><td>89.35053</td></tr>\n",
       "\t<tr><td>4.806252</td><td>4.055954</td><td>68.36291</td></tr>\n",
       "\t<tr><td>4.271651</td><td>3.415995</td><td>52.00467</td></tr>\n",
       "</tbody>\n",
       "</table>\n"
      ],
      "text/latex": [
       "A data.frame: 5 x 3\n",
       "\\begin{tabular}{lll}\n",
       " x1 & x2 & y\\\\\n",
       " <dbl> & <dbl> & <dbl>\\\\\n",
       "\\hline\n",
       "\t 5.224754 & 2.867286 & 52.56107\\\\\n",
       "\t 5.482075 & 3.007840 & 57.80415\\\\\n",
       "\t 5.679243 & 4.562983 & 89.35053\\\\\n",
       "\t 4.806252 & 4.055954 & 68.36291\\\\\n",
       "\t 4.271651 & 3.415995 & 52.00467\\\\\n",
       "\\end{tabular}\n"
      ],
      "text/markdown": [
       "\n",
       "A data.frame: 5 x 3\n",
       "\n",
       "| x1 &lt;dbl&gt; | x2 &lt;dbl&gt; | y &lt;dbl&gt; |\n",
       "|---|---|---|\n",
       "| 5.224754 | 2.867286 | 52.56107 |\n",
       "| 5.482075 | 3.007840 | 57.80415 |\n",
       "| 5.679243 | 4.562983 | 89.35053 |\n",
       "| 4.806252 | 4.055954 | 68.36291 |\n",
       "| 4.271651 | 3.415995 | 52.00467 |\n",
       "\n"
      ],
      "text/plain": [
       "  x1       x2       y       \n",
       "1 5.224754 2.867286 52.56107\n",
       "2 5.482075 3.007840 57.80415\n",
       "3 5.679243 4.562983 89.35053\n",
       "4 4.806252 4.055954 68.36291\n",
       "5 4.271651 3.415995 52.00467"
      ]
     },
     "metadata": {},
     "output_type": "display_data"
    }
   ],
   "source": [
    "df"
   ]
  },
  {
   "cell_type": "markdown",
   "metadata": {},
   "source": [
    "With the data stored in a dataframe `df`, let's build some models using formulas. Observe how we can apply R functions on the variables too (e.g. with `log` or `exp`).\n",
    "\n",
    "- `y ~ x1 + x2` will create a model of $y$ against $x_1$ and $x_2$\n",
    "- `y ~ (x1 + x2) ** 2` will create a model of $y$ against $x_1$, $x_2$ and $x_1 x_2$\n",
    "- `y ~ (x1 + x2)^2` will create a model of $y$ against $x_1$, $x_2$ and $x_1 x_2$ (same as above)\n",
    "- `y ~ log(x1) + exp(x2)` will create a model of $y$ against $\\log(x_1)$ and $e^{x_2}$"
   ]
  },
  {
   "cell_type": "code",
   "execution_count": 4,
   "metadata": {},
   "outputs": [],
   "source": [
    "m1 = lm(y ~ x1 + x2, data=df)\n",
    "m2 = lm(y ~ (x1 + x2) ** 2, data=df)\n",
    "m3 = lm(y ~ (x1 + x2)^2, data=df)\n",
    "m4 = lm(y ~ log(x1) + exp(x2), data=df)"
   ]
  },
  {
   "cell_type": "code",
   "execution_count": 5,
   "metadata": {},
   "outputs": [
    {
     "name": "stdout",
     "output_type": "stream",
     "text": [
      "\n",
      "Call:\n",
      "lm(formula = y ~ x1 + x2, data = df)\n",
      "\n",
      "Residuals:\n",
      "       1        2        3        4        5 \n",
      " 0.09791 -0.23830  0.51508 -0.99120  0.61651 \n",
      "\n",
      "Coefficients:\n",
      "            Estimate Std. Error t value Pr(>|t|)   \n",
      "(Intercept) -61.0669     4.4971  -13.58  0.00538 **\n",
      "x1           11.6752     0.8276   14.11  0.00499 **\n",
      "x2           18.3205     0.6504   28.17  0.00126 **\n",
      "---\n",
      "Signif. codes:  0 ‘***’ 0.001 ‘**’ 0.01 ‘*’ 0.05 ‘.’ 0.1 ‘ ’ 1\n",
      "\n",
      "Residual standard error: 0.9204 on 2 degrees of freedom\n",
      "Multiple R-squared:  0.9983,\tAdjusted R-squared:  0.9965 \n",
      "F-statistic: 574.4 on 2 and 2 DF,  p-value: 0.001738\n",
      "\n"
     ]
    }
   ],
   "source": [
    "print(summary(m1))"
   ]
  },
  {
   "cell_type": "code",
   "execution_count": 6,
   "metadata": {},
   "outputs": [
    {
     "name": "stdout",
     "output_type": "stream",
     "text": [
      "\n",
      "Call:\n",
      "lm(formula = y ~ (x1 + x2)^2, data = df)\n",
      "\n",
      "Residuals:\n",
      "       1        2        3        4        5 \n",
      "-0.12166  0.10999  0.00240 -0.03846  0.04773 \n",
      "\n",
      "Coefficients:\n",
      "            Estimate Std. Error t value Pr(>|t|)  \n",
      "(Intercept)  -2.5418     7.9916  -0.318   0.8040  \n",
      "x1            0.8218     1.4819   0.555   0.6777  \n",
      "x2            2.2141     2.1902   1.011   0.4965  \n",
      "x1:x2         2.9760     0.4040   7.366   0.0859 .\n",
      "---\n",
      "Signif. codes:  0 ‘***’ 0.001 ‘**’ 0.01 ‘*’ 0.05 ‘.’ 0.1 ‘ ’ 1\n",
      "\n",
      "Residual standard error: 0.1751 on 1 degrees of freedom\n",
      "Multiple R-squared:      1,\tAdjusted R-squared:  0.9999 \n",
      "F-statistic: 1.06e+04 on 3 and 1 DF,  p-value: 0.007141\n",
      "\n"
     ]
    }
   ],
   "source": [
    "print(summary(m2))"
   ]
  },
  {
   "cell_type": "code",
   "execution_count": 7,
   "metadata": {},
   "outputs": [
    {
     "name": "stdout",
     "output_type": "stream",
     "text": [
      "\n",
      "Call:\n",
      "lm(formula = y ~ (x1 + x2)^2, data = df)\n",
      "\n",
      "Residuals:\n",
      "       1        2        3        4        5 \n",
      "-0.12166  0.10999  0.00240 -0.03846  0.04773 \n",
      "\n",
      "Coefficients:\n",
      "            Estimate Std. Error t value Pr(>|t|)  \n",
      "(Intercept)  -2.5418     7.9916  -0.318   0.8040  \n",
      "x1            0.8218     1.4819   0.555   0.6777  \n",
      "x2            2.2141     2.1902   1.011   0.4965  \n",
      "x1:x2         2.9760     0.4040   7.366   0.0859 .\n",
      "---\n",
      "Signif. codes:  0 ‘***’ 0.001 ‘**’ 0.01 ‘*’ 0.05 ‘.’ 0.1 ‘ ’ 1\n",
      "\n",
      "Residual standard error: 0.1751 on 1 degrees of freedom\n",
      "Multiple R-squared:      1,\tAdjusted R-squared:  0.9999 \n",
      "F-statistic: 1.06e+04 on 3 and 1 DF,  p-value: 0.007141\n",
      "\n"
     ]
    }
   ],
   "source": [
    "print(summary(m3))"
   ]
  },
  {
   "cell_type": "code",
   "execution_count": 8,
   "metadata": {},
   "outputs": [
    {
     "name": "stdout",
     "output_type": "stream",
     "text": [
      "\n",
      "Call:\n",
      "lm(formula = y ~ log(x1) + exp(x2), data = df)\n",
      "\n",
      "Residuals:\n",
      "      1       2       3       4       5 \n",
      "-1.2924  1.1336 -0.3295  0.6047 -0.1165 \n",
      "\n",
      "Coefficients:\n",
      "             Estimate Std. Error t value Pr(>|t|)   \n",
      "(Intercept) -12.08037    9.60952  -1.257  0.33562   \n",
      "log(x1)      35.41011    6.07079   5.833  0.02816 * \n",
      "exp(x2)       0.41994    0.02107  19.929  0.00251 **\n",
      "---\n",
      "Signif. codes:  0 ‘***’ 0.001 ‘**’ 0.01 ‘*’ 0.05 ‘.’ 0.1 ‘ ’ 1\n",
      "\n",
      "Residual standard error: 1.312 on 2 degrees of freedom\n",
      "Multiple R-squared:  0.9965,\tAdjusted R-squared:  0.9929 \n",
      "F-statistic: 282.1 on 2 and 2 DF,  p-value: 0.003532\n",
      "\n"
     ]
    }
   ],
   "source": [
    "print(summary(m4))"
   ]
  },
  {
   "cell_type": "markdown",
   "metadata": {},
   "source": [
    "What about factors or categorical variables? How do formulas work against those types of variables? Let's generate a dataset with some categorical variables. \n",
    "\n",
    "- `x1` is a continuous variable\n",
    "- `x2` is a continuous variable\n",
    "- `x3` is a categorical variable\n",
    "- `x4` is a categorical variable\n",
    "- `y` is the result of $5 + 3.2 x_1 x_2 + 6.6 x_3 x_4 + e$, where $e = \\mathcal{N}(0, 1)$"
   ]
  },
  {
   "cell_type": "code",
   "execution_count": 9,
   "metadata": {},
   "outputs": [],
   "source": [
    "N <- 2000\n",
    "x1 <- rnorm(N, mean=5.1, sd=1)\n",
    "x2 <- rnorm(N, mean=3.2, sd=1)\n",
    "x3 <- factor(sample(0:1, N, replace=TRUE), labels=c('private', 'public'))\n",
    "x4 <- factor(sample(0:2, N, replace=TRUE), labels=c('low', 'med', 'high'))\n",
    "y <- 5 + 3.2 * x1 * x2 + 6.6 * as.numeric(x3) * as.numeric(x4) + rnorm(N, mean=0, sd=1)\n",
    "df <- data.frame(x1=x1, x2=x2, x3=x3, x4=x4, y=y)"
   ]
  },
  {
   "cell_type": "code",
   "execution_count": 10,
   "metadata": {},
   "outputs": [
    {
     "data": {
      "text/html": [
       "<table>\n",
       "<caption>A data.frame: 6 x 5</caption>\n",
       "<thead>\n",
       "\t<tr><th></th><th scope=col>x1</th><th scope=col>x2</th><th scope=col>x3</th><th scope=col>x4</th><th scope=col>y</th></tr>\n",
       "\t<tr><th></th><th scope=col>&lt;dbl&gt;</th><th scope=col>&lt;dbl&gt;</th><th scope=col>&lt;fct&gt;</th><th scope=col>&lt;fct&gt;</th><th scope=col>&lt;dbl&gt;</th></tr>\n",
       "</thead>\n",
       "<tbody>\n",
       "\t<tr><th scope=row>1</th><td>3.432472</td><td>2.672058</td><td>public </td><td>low </td><td> 45.63740</td></tr>\n",
       "\t<tr><th scope=row>2</th><td>2.395150</td><td>3.734765</td><td>public </td><td>med </td><td> 59.05097</td></tr>\n",
       "\t<tr><th scope=row>3</th><td>3.363076</td><td>1.725066</td><td>private</td><td>high</td><td> 43.52035</td></tr>\n",
       "\t<tr><th scope=row>4</th><td>5.503075</td><td>5.002680</td><td>public </td><td>high</td><td>132.36280</td></tr>\n",
       "\t<tr><th scope=row>5</th><td>4.367927</td><td>2.429795</td><td>private</td><td>med </td><td> 53.37352</td></tr>\n",
       "\t<tr><th scope=row>6</th><td>4.821639</td><td>2.318772</td><td>public </td><td>med </td><td> 66.96244</td></tr>\n",
       "</tbody>\n",
       "</table>\n"
      ],
      "text/latex": [
       "A data.frame: 6 x 5\n",
       "\\begin{tabular}{r|lllll}\n",
       "  & x1 & x2 & x3 & x4 & y\\\\\n",
       "  & <dbl> & <dbl> & <fct> & <fct> & <dbl>\\\\\n",
       "\\hline\n",
       "\t1 & 3.432472 & 2.672058 & public  & low  &  45.63740\\\\\n",
       "\t2 & 2.395150 & 3.734765 & public  & med  &  59.05097\\\\\n",
       "\t3 & 3.363076 & 1.725066 & private & high &  43.52035\\\\\n",
       "\t4 & 5.503075 & 5.002680 & public  & high & 132.36280\\\\\n",
       "\t5 & 4.367927 & 2.429795 & private & med  &  53.37352\\\\\n",
       "\t6 & 4.821639 & 2.318772 & public  & med  &  66.96244\\\\\n",
       "\\end{tabular}\n"
      ],
      "text/markdown": [
       "\n",
       "A data.frame: 6 x 5\n",
       "\n",
       "| <!--/--> | x1 &lt;dbl&gt; | x2 &lt;dbl&gt; | x3 &lt;fct&gt; | x4 &lt;fct&gt; | y &lt;dbl&gt; |\n",
       "|---|---|---|---|---|---|\n",
       "| 1 | 3.432472 | 2.672058 | public  | low  |  45.63740 |\n",
       "| 2 | 2.395150 | 3.734765 | public  | med  |  59.05097 |\n",
       "| 3 | 3.363076 | 1.725066 | private | high |  43.52035 |\n",
       "| 4 | 5.503075 | 5.002680 | public  | high | 132.36280 |\n",
       "| 5 | 4.367927 | 2.429795 | private | med  |  53.37352 |\n",
       "| 6 | 4.821639 | 2.318772 | public  | med  |  66.96244 |\n",
       "\n"
      ],
      "text/plain": [
       "  x1       x2       x3      x4   y        \n",
       "1 3.432472 2.672058 public  low   45.63740\n",
       "2 2.395150 3.734765 public  med   59.05097\n",
       "3 3.363076 1.725066 private high  43.52035\n",
       "4 5.503075 5.002680 public  high 132.36280\n",
       "5 4.367927 2.429795 private med   53.37352\n",
       "6 4.821639 2.318772 public  med   66.96244"
      ]
     },
     "metadata": {},
     "output_type": "display_data"
    }
   ],
   "source": [
    "head(df)"
   ]
  },
  {
   "cell_type": "markdown",
   "metadata": {},
   "source": [
    "Here some example models that we can define against the categorical variables and a mixture of all the variables."
   ]
  },
  {
   "cell_type": "code",
   "execution_count": 11,
   "metadata": {},
   "outputs": [],
   "source": [
    "m1 = lm(y ~ x3)\n",
    "m2 = lm(y ~ x4)\n",
    "m3 = lm(y ~ x1 + x2 + x3 + x4, data=df)\n",
    "m4 = lm(y ~ (x1 + x2 + x3 + x4)^2, data=df)\n",
    "m5 = lm(y ~ x1*x2 + x3*x4, data=df)\n",
    "m6 = lm(y ~ x1:x2 + x3:x4, data=df)"
   ]
  },
  {
   "cell_type": "markdown",
   "metadata": {},
   "source": [
    "Notice how there are 2 values for `x3`, which are \n",
    "\n",
    "- public \n",
    "- private\n",
    "\n",
    "If we one-hot encode `x3`, we would expect to see new variables, one to indicate when `x3 = public` and one when `x3 = private`. \n",
    "\n",
    "- `x3public`\n",
    "- `x3private`\n",
    "\n",
    "However, using a formula, the correct thing to do, which is to drop one of these new variables, is taken care of (we only see `x3public` as the coefficient)."
   ]
  },
  {
   "cell_type": "code",
   "execution_count": 12,
   "metadata": {},
   "outputs": [
    {
     "data": {
      "text/plain": [
       "\n",
       "Call:\n",
       "lm(formula = y ~ x3)\n",
       "\n",
       "Residuals:\n",
       "    Min      1Q  Median      3Q     Max \n",
       "-60.824 -14.969  -1.775  14.612  82.802 \n",
       "\n",
       "Coefficients:\n",
       "            Estimate Std. Error t value Pr(>|t|)    \n",
       "(Intercept)  70.7760     0.6955  101.76   <2e-16 ***\n",
       "x3public     13.3969     0.9831   13.63   <2e-16 ***\n",
       "---\n",
       "Signif. codes:  0 ‘***’ 0.001 ‘**’ 0.01 ‘*’ 0.05 ‘.’ 0.1 ‘ ’ 1\n",
       "\n",
       "Residual standard error: 21.98 on 1998 degrees of freedom\n",
       "Multiple R-squared:  0.08503,\tAdjusted R-squared:  0.08457 \n",
       "F-statistic: 185.7 on 1 and 1998 DF,  p-value: < 2.2e-16\n"
      ]
     },
     "metadata": {},
     "output_type": "display_data"
    }
   ],
   "source": [
    "summary(m1)"
   ]
  },
  {
   "cell_type": "markdown",
   "metadata": {},
   "source": [
    "Likewise, there are 3 values for `x4`, which are\n",
    "\n",
    "- low\n",
    "- medium\n",
    "- high\n",
    "\n",
    "Again, the formula drops one of the new one-hot encoded variable (in this case, `x4low`) from the model."
   ]
  },
  {
   "cell_type": "code",
   "execution_count": 13,
   "metadata": {},
   "outputs": [
    {
     "data": {
      "text/plain": [
       "\n",
       "Call:\n",
       "lm(formula = y ~ x4)\n",
       "\n",
       "Residuals:\n",
       "    Min      1Q  Median      3Q     Max \n",
       "-58.143 -14.989  -1.665  13.338  85.816 \n",
       "\n",
       "Coefficients:\n",
       "            Estimate Std. Error t value Pr(>|t|)    \n",
       "(Intercept)  67.9659     0.8322  81.671  < 2e-16 ***\n",
       "x4med         9.0121     1.1646   7.739 1.59e-14 ***\n",
       "x4high       20.0773     1.1921  16.842  < 2e-16 ***\n",
       "---\n",
       "Signif. codes:  0 ‘***’ 0.001 ‘**’ 0.01 ‘*’ 0.05 ‘.’ 0.1 ‘ ’ 1\n",
       "\n",
       "Residual standard error: 21.51 on 1997 degrees of freedom\n",
       "Multiple R-squared:  0.1246,\tAdjusted R-squared:  0.1237 \n",
       "F-statistic: 142.1 on 2 and 1997 DF,  p-value: < 2.2e-16\n"
      ]
     },
     "metadata": {},
     "output_type": "display_data"
    }
   ],
   "source": [
    "summary(m2)"
   ]
  },
  {
   "cell_type": "markdown",
   "metadata": {},
   "source": [
    "A simple model against all the continuous and categorical variables just works. Observe the coefficients:\n",
    "\n",
    "- x1\n",
    "- x2\n",
    "- x3public\n",
    "- x4med\n",
    "- x4high"
   ]
  },
  {
   "cell_type": "code",
   "execution_count": 14,
   "metadata": {},
   "outputs": [
    {
     "data": {
      "text/plain": [
       "\n",
       "Call:\n",
       "lm(formula = y ~ x1 + x2 + x3 + x4, data = df)\n",
       "\n",
       "Residuals:\n",
       "    Min      1Q  Median      3Q     Max \n",
       "-25.284  -2.929  -0.063   2.923  24.662 \n",
       "\n",
       "Coefficients:\n",
       "             Estimate Std. Error t value Pr(>|t|)    \n",
       "(Intercept) -43.13332    0.61813  -69.78   <2e-16 ***\n",
       "x1           10.13366    0.09791  103.50   <2e-16 ***\n",
       "x2           16.30242    0.09683  168.36   <2e-16 ***\n",
       "x3public     12.99560    0.19968   65.08   <2e-16 ***\n",
       "x4med         9.73536    0.24155   40.30   <2e-16 ***\n",
       "x4high       19.57656    0.24730   79.16   <2e-16 ***\n",
       "---\n",
       "Signif. codes:  0 ‘***’ 0.001 ‘**’ 0.01 ‘*’ 0.05 ‘.’ 0.1 ‘ ’ 1\n",
       "\n",
       "Residual standard error: 4.46 on 1994 degrees of freedom\n",
       "Multiple R-squared:  0.9624,\tAdjusted R-squared:  0.9623 \n",
       "F-statistic: 1.021e+04 on 5 and 1994 DF,  p-value: < 2.2e-16\n"
      ]
     },
     "metadata": {},
     "output_type": "display_data"
    }
   ],
   "source": [
    "summary(m3)"
   ]
  },
  {
   "cell_type": "markdown",
   "metadata": {},
   "source": [
    "If we wanted all variables and up to the 2-way interactions, a mixture of continuous and categorical variables expressed with a formula knows what to do."
   ]
  },
  {
   "cell_type": "code",
   "execution_count": 15,
   "metadata": {},
   "outputs": [
    {
     "data": {
      "text/plain": [
       "\n",
       "Call:\n",
       "lm(formula = y ~ (x1 + x2 + x3 + x4)^2, data = df)\n",
       "\n",
       "Residuals:\n",
       "    Min      1Q  Median      3Q     Max \n",
       "-3.8136 -0.6552  0.0010  0.6548  3.1319 \n",
       "\n",
       "Coefficients:\n",
       "                 Estimate Std. Error t value Pr(>|t|)    \n",
       "(Intercept)     11.827014   0.422299  28.006   <2e-16 ***\n",
       "x1              -0.051900   0.078882  -0.658    0.511    \n",
       "x2              -0.135147   0.115097  -1.174    0.240    \n",
       "x3public         6.423600   0.275072  23.352   <2e-16 ***\n",
       "x4med            6.987297   0.322002  21.700   <2e-16 ***\n",
       "x4high          13.358834   0.335365  39.834   <2e-16 ***\n",
       "x1:x2            3.225207   0.021014 153.477   <2e-16 ***\n",
       "x1:x3public      0.008138   0.043964   0.185    0.853    \n",
       "x1:x4med        -0.042248   0.052587  -0.803    0.422    \n",
       "x1:x4high       -0.031927   0.054832  -0.582    0.560    \n",
       "x2:x3public      0.031676   0.043548   0.727    0.467    \n",
       "x2:x4med        -0.034890   0.052861  -0.660    0.509    \n",
       "x2:x4high        0.028974   0.053573   0.541    0.589    \n",
       "x3public:x4med   6.569441   0.108319  60.649   <2e-16 ***\n",
       "x3public:x4high 13.180202   0.110819 118.935   <2e-16 ***\n",
       "---\n",
       "Signif. codes:  0 ‘***’ 0.001 ‘**’ 0.01 ‘*’ 0.05 ‘.’ 0.1 ‘ ’ 1\n",
       "\n",
       "Residual standard error: 0.9979 on 1985 degrees of freedom\n",
       "Multiple R-squared:  0.9981,\tAdjusted R-squared:  0.9981 \n",
       "F-statistic: 7.556e+04 on 14 and 1985 DF,  p-value: < 2.2e-16\n"
      ]
     },
     "metadata": {},
     "output_type": "display_data"
    }
   ],
   "source": [
    "summary(m4)"
   ]
  },
  {
   "cell_type": "markdown",
   "metadata": {},
   "source": [
    "Below, we only wanted interaction between `x1` and `x2`, and only between `x3` and `x4`. Since we use `*`, lower order terms are included."
   ]
  },
  {
   "cell_type": "code",
   "execution_count": 16,
   "metadata": {},
   "outputs": [
    {
     "data": {
      "text/plain": [
       "\n",
       "Call:\n",
       "lm(formula = y ~ x1 * x2 + x3 * x4, data = df)\n",
       "\n",
       "Residuals:\n",
       "    Min      1Q  Median      3Q     Max \n",
       "-3.8313 -0.6466 -0.0017  0.6646  3.2065 \n",
       "\n",
       "Coefficients:\n",
       "                Estimate Std. Error t value Pr(>|t|)    \n",
       "(Intercept)     11.90330    0.36588  32.533   <2e-16 ***\n",
       "x1              -0.07572    0.06986  -1.084    0.279    \n",
       "x2              -0.12615    0.10910  -1.156    0.248    \n",
       "x3public         6.56763    0.07720  85.077   <2e-16 ***\n",
       "x4med            6.66300    0.07740  86.088   <2e-16 ***\n",
       "x4high          13.28896    0.07737 171.749   <2e-16 ***\n",
       "x1:x2            3.22624    0.02091 154.259   <2e-16 ***\n",
       "x3public:x4med   6.56425    0.10806  60.749   <2e-16 ***\n",
       "x3public:x4high 13.18146    0.11064 119.138   <2e-16 ***\n",
       "---\n",
       "Signif. codes:  0 ‘***’ 0.001 ‘**’ 0.01 ‘*’ 0.05 ‘.’ 0.1 ‘ ’ 1\n",
       "\n",
       "Residual standard error: 0.997 on 1991 degrees of freedom\n",
       "Multiple R-squared:  0.9981,\tAdjusted R-squared:  0.9981 \n",
       "F-statistic: 1.325e+05 on 8 and 1991 DF,  p-value: < 2.2e-16\n"
      ]
     },
     "metadata": {},
     "output_type": "display_data"
    }
   ],
   "source": [
    "summary(m5)"
   ]
  },
  {
   "cell_type": "markdown",
   "metadata": {},
   "source": [
    "Below, we only wanted interaction between `x1` and `x2`, and only between `x3` and `x4`. Since we use `:`, lower order terms are excluded."
   ]
  },
  {
   "cell_type": "code",
   "execution_count": 17,
   "metadata": {},
   "outputs": [
    {
     "data": {
      "text/plain": [
       "\n",
       "Call:\n",
       "lm(formula = y ~ x1:x2 + x3:x4, data = df)\n",
       "\n",
       "Residuals:\n",
       "    Min      1Q  Median      3Q     Max \n",
       "-3.8383 -0.6496 -0.0037  0.6631  3.2602 \n",
       "\n",
       "Coefficients: (1 not defined because of singularities)\n",
       "                   Estimate Std. Error t value Pr(>|t|)    \n",
       "(Intercept)       44.538203   0.082103   542.5   <2e-16 ***\n",
       "x1:x2              3.202488   0.003532   906.7   <2e-16 ***\n",
       "x3private:x4low  -33.034951   0.079399  -416.1   <2e-16 ***\n",
       "x3public:x4low   -26.469080   0.079061  -334.8   <2e-16 ***\n",
       "x3private:x4med  -26.375155   0.079266  -332.7   <2e-16 ***\n",
       "x3public:x4med   -13.241870   0.077710  -170.4   <2e-16 ***\n",
       "x3private:x4high -19.747553   0.079238  -249.2   <2e-16 ***\n",
       "x3public:x4high          NA         NA      NA       NA    \n",
       "---\n",
       "Signif. codes:  0 ‘***’ 0.001 ‘**’ 0.01 ‘*’ 0.05 ‘.’ 0.1 ‘ ’ 1\n",
       "\n",
       "Residual standard error: 0.9968 on 1993 degrees of freedom\n",
       "Multiple R-squared:  0.9981,\tAdjusted R-squared:  0.9981 \n",
       "F-statistic: 1.767e+05 on 6 and 1993 DF,  p-value: < 2.2e-16\n"
      ]
     },
     "metadata": {},
     "output_type": "display_data"
    }
   ],
   "source": [
    "summary(m6)"
   ]
  },
  {
   "cell_type": "markdown",
   "metadata": {},
   "source": [
    "If we want the resulting matrix from the formula, we can use the `model.matrix()` function. Observe that the `(Intercept)` is returned. To exclude the intercept, add `- 1` to the model."
   ]
  },
  {
   "cell_type": "code",
   "execution_count": 18,
   "metadata": {},
   "outputs": [],
   "source": [
    "d1 = model.matrix(y ~ x1 + x2 + x3 + x4, data=df)\n",
    "d2 = model.matrix(y ~ (x1 + x2 + x3 + x4)^2, data=df)\n",
    "d3 = model.matrix(y ~ x1*x2 + x3*x4, data=df)\n",
    "d4 = model.matrix(y ~ x1:x2 + x3:x4, data=df)\n",
    "d5 = model.matrix(y ~ x1 + x2 + x3 + x4 - 1, data=df)"
   ]
  },
  {
   "cell_type": "code",
   "execution_count": 19,
   "metadata": {},
   "outputs": [
    {
     "data": {
      "text/html": [
       "<table>\n",
       "<caption>A matrix: 6 x 6 of type dbl</caption>\n",
       "<thead>\n",
       "\t<tr><th></th><th scope=col>(Intercept)</th><th scope=col>x1</th><th scope=col>x2</th><th scope=col>x3public</th><th scope=col>x4med</th><th scope=col>x4high</th></tr>\n",
       "</thead>\n",
       "<tbody>\n",
       "\t<tr><th scope=row>1</th><td>1</td><td>3.432472</td><td>2.672058</td><td>1</td><td>0</td><td>0</td></tr>\n",
       "\t<tr><th scope=row>2</th><td>1</td><td>2.395150</td><td>3.734765</td><td>1</td><td>1</td><td>0</td></tr>\n",
       "\t<tr><th scope=row>3</th><td>1</td><td>3.363076</td><td>1.725066</td><td>0</td><td>0</td><td>1</td></tr>\n",
       "\t<tr><th scope=row>4</th><td>1</td><td>5.503075</td><td>5.002680</td><td>1</td><td>0</td><td>1</td></tr>\n",
       "\t<tr><th scope=row>5</th><td>1</td><td>4.367927</td><td>2.429795</td><td>0</td><td>1</td><td>0</td></tr>\n",
       "\t<tr><th scope=row>6</th><td>1</td><td>4.821639</td><td>2.318772</td><td>1</td><td>1</td><td>0</td></tr>\n",
       "</tbody>\n",
       "</table>\n"
      ],
      "text/latex": [
       "A matrix: 6 x 6 of type dbl\n",
       "\\begin{tabular}{r|llllll}\n",
       "  & (Intercept) & x1 & x2 & x3public & x4med & x4high\\\\\n",
       "\\hline\n",
       "\t1 & 1 & 3.432472 & 2.672058 & 1 & 0 & 0\\\\\n",
       "\t2 & 1 & 2.395150 & 3.734765 & 1 & 1 & 0\\\\\n",
       "\t3 & 1 & 3.363076 & 1.725066 & 0 & 0 & 1\\\\\n",
       "\t4 & 1 & 5.503075 & 5.002680 & 1 & 0 & 1\\\\\n",
       "\t5 & 1 & 4.367927 & 2.429795 & 0 & 1 & 0\\\\\n",
       "\t6 & 1 & 4.821639 & 2.318772 & 1 & 1 & 0\\\\\n",
       "\\end{tabular}\n"
      ],
      "text/markdown": [
       "\n",
       "A matrix: 6 x 6 of type dbl\n",
       "\n",
       "| <!--/--> | (Intercept) | x1 | x2 | x3public | x4med | x4high |\n",
       "|---|---|---|---|---|---|---|\n",
       "| 1 | 1 | 3.432472 | 2.672058 | 1 | 0 | 0 |\n",
       "| 2 | 1 | 2.395150 | 3.734765 | 1 | 1 | 0 |\n",
       "| 3 | 1 | 3.363076 | 1.725066 | 0 | 0 | 1 |\n",
       "| 4 | 1 | 5.503075 | 5.002680 | 1 | 0 | 1 |\n",
       "| 5 | 1 | 4.367927 | 2.429795 | 0 | 1 | 0 |\n",
       "| 6 | 1 | 4.821639 | 2.318772 | 1 | 1 | 0 |\n",
       "\n"
      ],
      "text/plain": [
       "  (Intercept) x1       x2       x3public x4med x4high\n",
       "1 1           3.432472 2.672058 1        0     0     \n",
       "2 1           2.395150 3.734765 1        1     0     \n",
       "3 1           3.363076 1.725066 0        0     1     \n",
       "4 1           5.503075 5.002680 1        0     1     \n",
       "5 1           4.367927 2.429795 0        1     0     \n",
       "6 1           4.821639 2.318772 1        1     0     "
      ]
     },
     "metadata": {},
     "output_type": "display_data"
    }
   ],
   "source": [
    "head(d1)"
   ]
  },
  {
   "cell_type": "code",
   "execution_count": 20,
   "metadata": {},
   "outputs": [
    {
     "data": {
      "text/html": [
       "<table>\n",
       "<caption>A matrix: 6 x 15 of type dbl</caption>\n",
       "<thead>\n",
       "\t<tr><th></th><th scope=col>(Intercept)</th><th scope=col>x1</th><th scope=col>x2</th><th scope=col>x3public</th><th scope=col>x4med</th><th scope=col>x4high</th><th scope=col>x1:x2</th><th scope=col>x1:x3public</th><th scope=col>x1:x4med</th><th scope=col>x1:x4high</th><th scope=col>x2:x3public</th><th scope=col>x2:x4med</th><th scope=col>x2:x4high</th><th scope=col>x3public:x4med</th><th scope=col>x3public:x4high</th></tr>\n",
       "</thead>\n",
       "<tbody>\n",
       "\t<tr><th scope=row>1</th><td>1</td><td>3.432472</td><td>2.672058</td><td>1</td><td>0</td><td>0</td><td> 9.171762</td><td>3.432472</td><td>0.000000</td><td>0.000000</td><td>2.672058</td><td>0.000000</td><td>0.000000</td><td>0</td><td>0</td></tr>\n",
       "\t<tr><th scope=row>2</th><td>1</td><td>2.395150</td><td>3.734765</td><td>1</td><td>1</td><td>0</td><td> 8.945324</td><td>2.395150</td><td>2.395150</td><td>0.000000</td><td>3.734765</td><td>3.734765</td><td>0.000000</td><td>1</td><td>0</td></tr>\n",
       "\t<tr><th scope=row>3</th><td>1</td><td>3.363076</td><td>1.725066</td><td>0</td><td>0</td><td>1</td><td> 5.801526</td><td>0.000000</td><td>0.000000</td><td>3.363076</td><td>0.000000</td><td>0.000000</td><td>1.725066</td><td>0</td><td>0</td></tr>\n",
       "\t<tr><th scope=row>4</th><td>1</td><td>5.503075</td><td>5.002680</td><td>1</td><td>0</td><td>1</td><td>27.530126</td><td>5.503075</td><td>0.000000</td><td>5.503075</td><td>5.002680</td><td>0.000000</td><td>5.002680</td><td>0</td><td>1</td></tr>\n",
       "\t<tr><th scope=row>5</th><td>1</td><td>4.367927</td><td>2.429795</td><td>0</td><td>1</td><td>0</td><td>10.613166</td><td>0.000000</td><td>4.367927</td><td>0.000000</td><td>0.000000</td><td>2.429795</td><td>0.000000</td><td>0</td><td>0</td></tr>\n",
       "\t<tr><th scope=row>6</th><td>1</td><td>4.821639</td><td>2.318772</td><td>1</td><td>1</td><td>0</td><td>11.180282</td><td>4.821639</td><td>4.821639</td><td>0.000000</td><td>2.318772</td><td>2.318772</td><td>0.000000</td><td>1</td><td>0</td></tr>\n",
       "</tbody>\n",
       "</table>\n"
      ],
      "text/latex": [
       "A matrix: 6 x 15 of type dbl\n",
       "\\begin{tabular}{r|lllllllllllllll}\n",
       "  & (Intercept) & x1 & x2 & x3public & x4med & x4high & x1:x2 & x1:x3public & x1:x4med & x1:x4high & x2:x3public & x2:x4med & x2:x4high & x3public:x4med & x3public:x4high\\\\\n",
       "\\hline\n",
       "\t1 & 1 & 3.432472 & 2.672058 & 1 & 0 & 0 &  9.171762 & 3.432472 & 0.000000 & 0.000000 & 2.672058 & 0.000000 & 0.000000 & 0 & 0\\\\\n",
       "\t2 & 1 & 2.395150 & 3.734765 & 1 & 1 & 0 &  8.945324 & 2.395150 & 2.395150 & 0.000000 & 3.734765 & 3.734765 & 0.000000 & 1 & 0\\\\\n",
       "\t3 & 1 & 3.363076 & 1.725066 & 0 & 0 & 1 &  5.801526 & 0.000000 & 0.000000 & 3.363076 & 0.000000 & 0.000000 & 1.725066 & 0 & 0\\\\\n",
       "\t4 & 1 & 5.503075 & 5.002680 & 1 & 0 & 1 & 27.530126 & 5.503075 & 0.000000 & 5.503075 & 5.002680 & 0.000000 & 5.002680 & 0 & 1\\\\\n",
       "\t5 & 1 & 4.367927 & 2.429795 & 0 & 1 & 0 & 10.613166 & 0.000000 & 4.367927 & 0.000000 & 0.000000 & 2.429795 & 0.000000 & 0 & 0\\\\\n",
       "\t6 & 1 & 4.821639 & 2.318772 & 1 & 1 & 0 & 11.180282 & 4.821639 & 4.821639 & 0.000000 & 2.318772 & 2.318772 & 0.000000 & 1 & 0\\\\\n",
       "\\end{tabular}\n"
      ],
      "text/markdown": [
       "\n",
       "A matrix: 6 x 15 of type dbl\n",
       "\n",
       "| <!--/--> | (Intercept) | x1 | x2 | x3public | x4med | x4high | x1:x2 | x1:x3public | x1:x4med | x1:x4high | x2:x3public | x2:x4med | x2:x4high | x3public:x4med | x3public:x4high |\n",
       "|---|---|---|---|---|---|---|---|---|---|---|---|---|---|---|---|\n",
       "| 1 | 1 | 3.432472 | 2.672058 | 1 | 0 | 0 |  9.171762 | 3.432472 | 0.000000 | 0.000000 | 2.672058 | 0.000000 | 0.000000 | 0 | 0 |\n",
       "| 2 | 1 | 2.395150 | 3.734765 | 1 | 1 | 0 |  8.945324 | 2.395150 | 2.395150 | 0.000000 | 3.734765 | 3.734765 | 0.000000 | 1 | 0 |\n",
       "| 3 | 1 | 3.363076 | 1.725066 | 0 | 0 | 1 |  5.801526 | 0.000000 | 0.000000 | 3.363076 | 0.000000 | 0.000000 | 1.725066 | 0 | 0 |\n",
       "| 4 | 1 | 5.503075 | 5.002680 | 1 | 0 | 1 | 27.530126 | 5.503075 | 0.000000 | 5.503075 | 5.002680 | 0.000000 | 5.002680 | 0 | 1 |\n",
       "| 5 | 1 | 4.367927 | 2.429795 | 0 | 1 | 0 | 10.613166 | 0.000000 | 4.367927 | 0.000000 | 0.000000 | 2.429795 | 0.000000 | 0 | 0 |\n",
       "| 6 | 1 | 4.821639 | 2.318772 | 1 | 1 | 0 | 11.180282 | 4.821639 | 4.821639 | 0.000000 | 2.318772 | 2.318772 | 0.000000 | 1 | 0 |\n",
       "\n"
      ],
      "text/plain": [
       "  (Intercept) x1       x2       x3public x4med x4high x1:x2     x1:x3public\n",
       "1 1           3.432472 2.672058 1        0     0       9.171762 3.432472   \n",
       "2 1           2.395150 3.734765 1        1     0       8.945324 2.395150   \n",
       "3 1           3.363076 1.725066 0        0     1       5.801526 0.000000   \n",
       "4 1           5.503075 5.002680 1        0     1      27.530126 5.503075   \n",
       "5 1           4.367927 2.429795 0        1     0      10.613166 0.000000   \n",
       "6 1           4.821639 2.318772 1        1     0      11.180282 4.821639   \n",
       "  x1:x4med x1:x4high x2:x3public x2:x4med x2:x4high x3public:x4med\n",
       "1 0.000000 0.000000  2.672058    0.000000 0.000000  0             \n",
       "2 2.395150 0.000000  3.734765    3.734765 0.000000  1             \n",
       "3 0.000000 3.363076  0.000000    0.000000 1.725066  0             \n",
       "4 0.000000 5.503075  5.002680    0.000000 5.002680  0             \n",
       "5 4.367927 0.000000  0.000000    2.429795 0.000000  0             \n",
       "6 4.821639 0.000000  2.318772    2.318772 0.000000  1             \n",
       "  x3public:x4high\n",
       "1 0              \n",
       "2 0              \n",
       "3 0              \n",
       "4 1              \n",
       "5 0              \n",
       "6 0              "
      ]
     },
     "metadata": {},
     "output_type": "display_data"
    }
   ],
   "source": [
    "head(d2)"
   ]
  },
  {
   "cell_type": "code",
   "execution_count": 21,
   "metadata": {},
   "outputs": [
    {
     "data": {
      "text/html": [
       "<table>\n",
       "<caption>A matrix: 6 x 9 of type dbl</caption>\n",
       "<thead>\n",
       "\t<tr><th></th><th scope=col>(Intercept)</th><th scope=col>x1</th><th scope=col>x2</th><th scope=col>x3public</th><th scope=col>x4med</th><th scope=col>x4high</th><th scope=col>x1:x2</th><th scope=col>x3public:x4med</th><th scope=col>x3public:x4high</th></tr>\n",
       "</thead>\n",
       "<tbody>\n",
       "\t<tr><th scope=row>1</th><td>1</td><td>3.432472</td><td>2.672058</td><td>1</td><td>0</td><td>0</td><td> 9.171762</td><td>0</td><td>0</td></tr>\n",
       "\t<tr><th scope=row>2</th><td>1</td><td>2.395150</td><td>3.734765</td><td>1</td><td>1</td><td>0</td><td> 8.945324</td><td>1</td><td>0</td></tr>\n",
       "\t<tr><th scope=row>3</th><td>1</td><td>3.363076</td><td>1.725066</td><td>0</td><td>0</td><td>1</td><td> 5.801526</td><td>0</td><td>0</td></tr>\n",
       "\t<tr><th scope=row>4</th><td>1</td><td>5.503075</td><td>5.002680</td><td>1</td><td>0</td><td>1</td><td>27.530126</td><td>0</td><td>1</td></tr>\n",
       "\t<tr><th scope=row>5</th><td>1</td><td>4.367927</td><td>2.429795</td><td>0</td><td>1</td><td>0</td><td>10.613166</td><td>0</td><td>0</td></tr>\n",
       "\t<tr><th scope=row>6</th><td>1</td><td>4.821639</td><td>2.318772</td><td>1</td><td>1</td><td>0</td><td>11.180282</td><td>1</td><td>0</td></tr>\n",
       "</tbody>\n",
       "</table>\n"
      ],
      "text/latex": [
       "A matrix: 6 x 9 of type dbl\n",
       "\\begin{tabular}{r|lllllllll}\n",
       "  & (Intercept) & x1 & x2 & x3public & x4med & x4high & x1:x2 & x3public:x4med & x3public:x4high\\\\\n",
       "\\hline\n",
       "\t1 & 1 & 3.432472 & 2.672058 & 1 & 0 & 0 &  9.171762 & 0 & 0\\\\\n",
       "\t2 & 1 & 2.395150 & 3.734765 & 1 & 1 & 0 &  8.945324 & 1 & 0\\\\\n",
       "\t3 & 1 & 3.363076 & 1.725066 & 0 & 0 & 1 &  5.801526 & 0 & 0\\\\\n",
       "\t4 & 1 & 5.503075 & 5.002680 & 1 & 0 & 1 & 27.530126 & 0 & 1\\\\\n",
       "\t5 & 1 & 4.367927 & 2.429795 & 0 & 1 & 0 & 10.613166 & 0 & 0\\\\\n",
       "\t6 & 1 & 4.821639 & 2.318772 & 1 & 1 & 0 & 11.180282 & 1 & 0\\\\\n",
       "\\end{tabular}\n"
      ],
      "text/markdown": [
       "\n",
       "A matrix: 6 x 9 of type dbl\n",
       "\n",
       "| <!--/--> | (Intercept) | x1 | x2 | x3public | x4med | x4high | x1:x2 | x3public:x4med | x3public:x4high |\n",
       "|---|---|---|---|---|---|---|---|---|---|\n",
       "| 1 | 1 | 3.432472 | 2.672058 | 1 | 0 | 0 |  9.171762 | 0 | 0 |\n",
       "| 2 | 1 | 2.395150 | 3.734765 | 1 | 1 | 0 |  8.945324 | 1 | 0 |\n",
       "| 3 | 1 | 3.363076 | 1.725066 | 0 | 0 | 1 |  5.801526 | 0 | 0 |\n",
       "| 4 | 1 | 5.503075 | 5.002680 | 1 | 0 | 1 | 27.530126 | 0 | 1 |\n",
       "| 5 | 1 | 4.367927 | 2.429795 | 0 | 1 | 0 | 10.613166 | 0 | 0 |\n",
       "| 6 | 1 | 4.821639 | 2.318772 | 1 | 1 | 0 | 11.180282 | 1 | 0 |\n",
       "\n"
      ],
      "text/plain": [
       "  (Intercept) x1       x2       x3public x4med x4high x1:x2     x3public:x4med\n",
       "1 1           3.432472 2.672058 1        0     0       9.171762 0             \n",
       "2 1           2.395150 3.734765 1        1     0       8.945324 1             \n",
       "3 1           3.363076 1.725066 0        0     1       5.801526 0             \n",
       "4 1           5.503075 5.002680 1        0     1      27.530126 0             \n",
       "5 1           4.367927 2.429795 0        1     0      10.613166 0             \n",
       "6 1           4.821639 2.318772 1        1     0      11.180282 1             \n",
       "  x3public:x4high\n",
       "1 0              \n",
       "2 0              \n",
       "3 0              \n",
       "4 1              \n",
       "5 0              \n",
       "6 0              "
      ]
     },
     "metadata": {},
     "output_type": "display_data"
    }
   ],
   "source": [
    "head(d3)"
   ]
  },
  {
   "cell_type": "code",
   "execution_count": 22,
   "metadata": {},
   "outputs": [
    {
     "data": {
      "text/html": [
       "<table>\n",
       "<caption>A matrix: 6 x 8 of type dbl</caption>\n",
       "<thead>\n",
       "\t<tr><th></th><th scope=col>(Intercept)</th><th scope=col>x1:x2</th><th scope=col>x3private:x4low</th><th scope=col>x3public:x4low</th><th scope=col>x3private:x4med</th><th scope=col>x3public:x4med</th><th scope=col>x3private:x4high</th><th scope=col>x3public:x4high</th></tr>\n",
       "</thead>\n",
       "<tbody>\n",
       "\t<tr><th scope=row>1</th><td>1</td><td> 9.171762</td><td>0</td><td>1</td><td>0</td><td>0</td><td>0</td><td>0</td></tr>\n",
       "\t<tr><th scope=row>2</th><td>1</td><td> 8.945324</td><td>0</td><td>0</td><td>0</td><td>1</td><td>0</td><td>0</td></tr>\n",
       "\t<tr><th scope=row>3</th><td>1</td><td> 5.801526</td><td>0</td><td>0</td><td>0</td><td>0</td><td>1</td><td>0</td></tr>\n",
       "\t<tr><th scope=row>4</th><td>1</td><td>27.530126</td><td>0</td><td>0</td><td>0</td><td>0</td><td>0</td><td>1</td></tr>\n",
       "\t<tr><th scope=row>5</th><td>1</td><td>10.613166</td><td>0</td><td>0</td><td>1</td><td>0</td><td>0</td><td>0</td></tr>\n",
       "\t<tr><th scope=row>6</th><td>1</td><td>11.180282</td><td>0</td><td>0</td><td>0</td><td>1</td><td>0</td><td>0</td></tr>\n",
       "</tbody>\n",
       "</table>\n"
      ],
      "text/latex": [
       "A matrix: 6 x 8 of type dbl\n",
       "\\begin{tabular}{r|llllllll}\n",
       "  & (Intercept) & x1:x2 & x3private:x4low & x3public:x4low & x3private:x4med & x3public:x4med & x3private:x4high & x3public:x4high\\\\\n",
       "\\hline\n",
       "\t1 & 1 &  9.171762 & 0 & 1 & 0 & 0 & 0 & 0\\\\\n",
       "\t2 & 1 &  8.945324 & 0 & 0 & 0 & 1 & 0 & 0\\\\\n",
       "\t3 & 1 &  5.801526 & 0 & 0 & 0 & 0 & 1 & 0\\\\\n",
       "\t4 & 1 & 27.530126 & 0 & 0 & 0 & 0 & 0 & 1\\\\\n",
       "\t5 & 1 & 10.613166 & 0 & 0 & 1 & 0 & 0 & 0\\\\\n",
       "\t6 & 1 & 11.180282 & 0 & 0 & 0 & 1 & 0 & 0\\\\\n",
       "\\end{tabular}\n"
      ],
      "text/markdown": [
       "\n",
       "A matrix: 6 x 8 of type dbl\n",
       "\n",
       "| <!--/--> | (Intercept) | x1:x2 | x3private:x4low | x3public:x4low | x3private:x4med | x3public:x4med | x3private:x4high | x3public:x4high |\n",
       "|---|---|---|---|---|---|---|---|---|\n",
       "| 1 | 1 |  9.171762 | 0 | 1 | 0 | 0 | 0 | 0 |\n",
       "| 2 | 1 |  8.945324 | 0 | 0 | 0 | 1 | 0 | 0 |\n",
       "| 3 | 1 |  5.801526 | 0 | 0 | 0 | 0 | 1 | 0 |\n",
       "| 4 | 1 | 27.530126 | 0 | 0 | 0 | 0 | 0 | 1 |\n",
       "| 5 | 1 | 10.613166 | 0 | 0 | 1 | 0 | 0 | 0 |\n",
       "| 6 | 1 | 11.180282 | 0 | 0 | 0 | 1 | 0 | 0 |\n",
       "\n"
      ],
      "text/plain": [
       "  (Intercept) x1:x2     x3private:x4low x3public:x4low x3private:x4med\n",
       "1 1            9.171762 0               1              0              \n",
       "2 1            8.945324 0               0              0              \n",
       "3 1            5.801526 0               0              0              \n",
       "4 1           27.530126 0               0              0              \n",
       "5 1           10.613166 0               0              1              \n",
       "6 1           11.180282 0               0              0              \n",
       "  x3public:x4med x3private:x4high x3public:x4high\n",
       "1 0              0                0              \n",
       "2 1              0                0              \n",
       "3 0              1                0              \n",
       "4 0              0                1              \n",
       "5 0              0                0              \n",
       "6 1              0                0              "
      ]
     },
     "metadata": {},
     "output_type": "display_data"
    }
   ],
   "source": [
    "head(d4)"
   ]
  },
  {
   "cell_type": "code",
   "execution_count": 23,
   "metadata": {},
   "outputs": [
    {
     "data": {
      "text/html": [
       "<table>\n",
       "<caption>A matrix: 6 x 8 of type dbl</caption>\n",
       "<thead>\n",
       "\t<tr><th></th><th scope=col>(Intercept)</th><th scope=col>x1:x2</th><th scope=col>x3private:x4low</th><th scope=col>x3public:x4low</th><th scope=col>x3private:x4med</th><th scope=col>x3public:x4med</th><th scope=col>x3private:x4high</th><th scope=col>x3public:x4high</th></tr>\n",
       "</thead>\n",
       "<tbody>\n",
       "\t<tr><th scope=row>1</th><td>1</td><td> 9.171762</td><td>0</td><td>1</td><td>0</td><td>0</td><td>0</td><td>0</td></tr>\n",
       "\t<tr><th scope=row>2</th><td>1</td><td> 8.945324</td><td>0</td><td>0</td><td>0</td><td>1</td><td>0</td><td>0</td></tr>\n",
       "\t<tr><th scope=row>3</th><td>1</td><td> 5.801526</td><td>0</td><td>0</td><td>0</td><td>0</td><td>1</td><td>0</td></tr>\n",
       "\t<tr><th scope=row>4</th><td>1</td><td>27.530126</td><td>0</td><td>0</td><td>0</td><td>0</td><td>0</td><td>1</td></tr>\n",
       "\t<tr><th scope=row>5</th><td>1</td><td>10.613166</td><td>0</td><td>0</td><td>1</td><td>0</td><td>0</td><td>0</td></tr>\n",
       "\t<tr><th scope=row>6</th><td>1</td><td>11.180282</td><td>0</td><td>0</td><td>0</td><td>1</td><td>0</td><td>0</td></tr>\n",
       "</tbody>\n",
       "</table>\n"
      ],
      "text/latex": [
       "A matrix: 6 x 8 of type dbl\n",
       "\\begin{tabular}{r|llllllll}\n",
       "  & (Intercept) & x1:x2 & x3private:x4low & x3public:x4low & x3private:x4med & x3public:x4med & x3private:x4high & x3public:x4high\\\\\n",
       "\\hline\n",
       "\t1 & 1 &  9.171762 & 0 & 1 & 0 & 0 & 0 & 0\\\\\n",
       "\t2 & 1 &  8.945324 & 0 & 0 & 0 & 1 & 0 & 0\\\\\n",
       "\t3 & 1 &  5.801526 & 0 & 0 & 0 & 0 & 1 & 0\\\\\n",
       "\t4 & 1 & 27.530126 & 0 & 0 & 0 & 0 & 0 & 1\\\\\n",
       "\t5 & 1 & 10.613166 & 0 & 0 & 1 & 0 & 0 & 0\\\\\n",
       "\t6 & 1 & 11.180282 & 0 & 0 & 0 & 1 & 0 & 0\\\\\n",
       "\\end{tabular}\n"
      ],
      "text/markdown": [
       "\n",
       "A matrix: 6 x 8 of type dbl\n",
       "\n",
       "| <!--/--> | (Intercept) | x1:x2 | x3private:x4low | x3public:x4low | x3private:x4med | x3public:x4med | x3private:x4high | x3public:x4high |\n",
       "|---|---|---|---|---|---|---|---|---|\n",
       "| 1 | 1 |  9.171762 | 0 | 1 | 0 | 0 | 0 | 0 |\n",
       "| 2 | 1 |  8.945324 | 0 | 0 | 0 | 1 | 0 | 0 |\n",
       "| 3 | 1 |  5.801526 | 0 | 0 | 0 | 0 | 1 | 0 |\n",
       "| 4 | 1 | 27.530126 | 0 | 0 | 0 | 0 | 0 | 1 |\n",
       "| 5 | 1 | 10.613166 | 0 | 0 | 1 | 0 | 0 | 0 |\n",
       "| 6 | 1 | 11.180282 | 0 | 0 | 0 | 1 | 0 | 0 |\n",
       "\n"
      ],
      "text/plain": [
       "  (Intercept) x1:x2     x3private:x4low x3public:x4low x3private:x4med\n",
       "1 1            9.171762 0               1              0              \n",
       "2 1            8.945324 0               0              0              \n",
       "3 1            5.801526 0               0              0              \n",
       "4 1           27.530126 0               0              0              \n",
       "5 1           10.613166 0               0              1              \n",
       "6 1           11.180282 0               0              0              \n",
       "  x3public:x4med x3private:x4high x3public:x4high\n",
       "1 0              0                0              \n",
       "2 1              0                0              \n",
       "3 0              1                0              \n",
       "4 0              0                1              \n",
       "5 0              0                0              \n",
       "6 1              0                0              "
      ]
     },
     "metadata": {},
     "output_type": "display_data"
    }
   ],
   "source": [
    "head(model.matrix(y ~ x1:x2 + x3:x4, data=df))"
   ]
  },
  {
   "cell_type": "code",
   "execution_count": 24,
   "metadata": {},
   "outputs": [
    {
     "data": {
      "text/html": [
       "<table>\n",
       "<caption>A matrix: 6 x 6 of type dbl</caption>\n",
       "<thead>\n",
       "\t<tr><th></th><th scope=col>x1</th><th scope=col>x2</th><th scope=col>x3private</th><th scope=col>x3public</th><th scope=col>x4med</th><th scope=col>x4high</th></tr>\n",
       "</thead>\n",
       "<tbody>\n",
       "\t<tr><th scope=row>1</th><td>3.432472</td><td>2.672058</td><td>0</td><td>1</td><td>0</td><td>0</td></tr>\n",
       "\t<tr><th scope=row>2</th><td>2.395150</td><td>3.734765</td><td>0</td><td>1</td><td>1</td><td>0</td></tr>\n",
       "\t<tr><th scope=row>3</th><td>3.363076</td><td>1.725066</td><td>1</td><td>0</td><td>0</td><td>1</td></tr>\n",
       "\t<tr><th scope=row>4</th><td>5.503075</td><td>5.002680</td><td>0</td><td>1</td><td>0</td><td>1</td></tr>\n",
       "\t<tr><th scope=row>5</th><td>4.367927</td><td>2.429795</td><td>1</td><td>0</td><td>1</td><td>0</td></tr>\n",
       "\t<tr><th scope=row>6</th><td>4.821639</td><td>2.318772</td><td>0</td><td>1</td><td>1</td><td>0</td></tr>\n",
       "</tbody>\n",
       "</table>\n"
      ],
      "text/latex": [
       "A matrix: 6 x 6 of type dbl\n",
       "\\begin{tabular}{r|llllll}\n",
       "  & x1 & x2 & x3private & x3public & x4med & x4high\\\\\n",
       "\\hline\n",
       "\t1 & 3.432472 & 2.672058 & 0 & 1 & 0 & 0\\\\\n",
       "\t2 & 2.395150 & 3.734765 & 0 & 1 & 1 & 0\\\\\n",
       "\t3 & 3.363076 & 1.725066 & 1 & 0 & 0 & 1\\\\\n",
       "\t4 & 5.503075 & 5.002680 & 0 & 1 & 0 & 1\\\\\n",
       "\t5 & 4.367927 & 2.429795 & 1 & 0 & 1 & 0\\\\\n",
       "\t6 & 4.821639 & 2.318772 & 0 & 1 & 1 & 0\\\\\n",
       "\\end{tabular}\n"
      ],
      "text/markdown": [
       "\n",
       "A matrix: 6 x 6 of type dbl\n",
       "\n",
       "| <!--/--> | x1 | x2 | x3private | x3public | x4med | x4high |\n",
       "|---|---|---|---|---|---|---|\n",
       "| 1 | 3.432472 | 2.672058 | 0 | 1 | 0 | 0 |\n",
       "| 2 | 2.395150 | 3.734765 | 0 | 1 | 1 | 0 |\n",
       "| 3 | 3.363076 | 1.725066 | 1 | 0 | 0 | 1 |\n",
       "| 4 | 5.503075 | 5.002680 | 0 | 1 | 0 | 1 |\n",
       "| 5 | 4.367927 | 2.429795 | 1 | 0 | 1 | 0 |\n",
       "| 6 | 4.821639 | 2.318772 | 0 | 1 | 1 | 0 |\n",
       "\n"
      ],
      "text/plain": [
       "  x1       x2       x3private x3public x4med x4high\n",
       "1 3.432472 2.672058 0         1        0     0     \n",
       "2 2.395150 3.734765 0         1        1     0     \n",
       "3 3.363076 1.725066 1         0        0     1     \n",
       "4 5.503075 5.002680 0         1        0     1     \n",
       "5 4.367927 2.429795 1         0        1     0     \n",
       "6 4.821639 2.318772 0         1        1     0     "
      ]
     },
     "metadata": {},
     "output_type": "display_data"
    }
   ],
   "source": [
    "head(d5)"
   ]
  }
 ],
 "metadata": {
  "kernelspec": {
   "display_name": "R 3.6",
   "language": "R",
   "name": "ir36"
  },
  "language_info": {
   "codemirror_mode": "r",
   "file_extension": ".r",
   "mimetype": "text/x-r-source",
   "name": "R",
   "pygments_lexer": "r",
   "version": "3.6.3"
  }
 },
 "nbformat": 4,
 "nbformat_minor": 4
}
