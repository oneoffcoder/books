{
 "cells": [
  {
   "cell_type": "markdown",
   "metadata": {},
   "source": [
    "# Descriptive Statistics\n",
    "\n",
    "`R` has plenty of functions to describe data quantitatively and visually. Before we continue, let's set the seed since we are sampling."
   ]
  },
  {
   "cell_type": "code",
   "execution_count": 1,
   "metadata": {},
   "outputs": [],
   "source": [
    "set.seed(37)"
   ]
  },
  {
   "cell_type": "markdown",
   "metadata": {},
   "source": [
    "## Summarization"
   ]
  },
  {
   "cell_type": "markdown",
   "metadata": {},
   "source": [
    "### Summarization for data structures\n",
    "\n",
    "The `summary` function may be used for `vectors`, `factors`, `matrices` and `data frames`."
   ]
  },
  {
   "cell_type": "code",
   "execution_count": 2,
   "metadata": {},
   "outputs": [
    {
     "name": "stdout",
     "output_type": "stream",
     "text": [
      "   Min. 1st Qu.  Median    Mean 3rd Qu.    Max. \n",
      "  4.277   8.608   9.932   9.963  11.367  17.629 \n"
     ]
    }
   ],
   "source": [
    "x <- rnorm(1000, mean=10, sd=2)\n",
    "\n",
    "print(summary(x))"
   ]
  },
  {
   "cell_type": "code",
   "execution_count": 3,
   "metadata": {},
   "outputs": [
    {
     "name": "stdout",
     "output_type": "stream",
     "text": [
      "coffee   soda    tea  water \n",
      "   265    263    209    263 \n"
     ]
    }
   ],
   "source": [
    "x <- factor(sample(c('water', 'soda', 'tea', 'coffee'), 1000, replace=TRUE))\n",
    "\n",
    "print(summary(x))"
   ]
  },
  {
   "cell_type": "code",
   "execution_count": 4,
   "metadata": {},
   "outputs": [
    {
     "name": "stdout",
     "output_type": "stream",
     "text": [
      "       V1                 V2           \n",
      " Min.   :-3.05765   Min.   :-2.675246  \n",
      " 1st Qu.:-0.54951   1st Qu.:-0.635021  \n",
      " Median : 0.10746   Median : 0.032135  \n",
      " Mean   : 0.07597   Mean   : 0.004424  \n",
      " 3rd Qu.: 0.71042   3rd Qu.: 0.702054  \n",
      " Max.   : 3.15093   Max.   : 2.731165  \n"
     ]
    }
   ],
   "source": [
    "A <- matrix(rnorm(1000), ncol=2)\n",
    "\n",
    "print(summary(A))"
   ]
  },
  {
   "cell_type": "code",
   "execution_count": 5,
   "metadata": {},
   "outputs": [
    {
     "name": "stdout",
     "output_type": "stream",
     "text": [
      " V1....rnorm.500.  V2....rnorm.500.  \n",
      " Min.   :-2.7513   Min.   :-2.80647  \n",
      " 1st Qu.:-0.6653   1st Qu.:-0.64585  \n",
      " Median : 0.1058   Median : 0.03351  \n",
      " Mean   : 0.0221   Mean   : 0.09724  \n",
      " 3rd Qu.: 0.6595   3rd Qu.: 0.83527  \n",
      " Max.   : 3.4937   Max.   : 3.32944  \n"
     ]
    }
   ],
   "source": [
    "df <- data.frame(\n",
    "    V1 <- rnorm(500),\n",
    "    V2 <- rnorm(500)\n",
    ")\n",
    "\n",
    "print(summary(df))"
   ]
  },
  {
   "cell_type": "markdown",
   "metadata": {},
   "source": [
    "### Scalar value summarization\n",
    "\n",
    "The following functions may be used to produce a scalar value summarization for `vectors`.\n",
    "\n",
    "* `min` returns the smallest number\n",
    "* `max` returns the largest number\n",
    "* `length` returns the length of the vector (number of elements)\n",
    "* `mean` returns the average of the elements in the vector\n",
    "* `sd` returns the standard deviation of the elements in the vector\n",
    "* `var` returns the variance of the elements in the vector\n",
    "* `mad` returns the mean absolute deviation of the elements in the vector"
   ]
  },
  {
   "cell_type": "code",
   "execution_count": 6,
   "metadata": {},
   "outputs": [
    {
     "name": "stdout",
     "output_type": "stream",
     "text": [
      "[1] \"min 3.72279465941585\"\n",
      "[1] \"max 16.3291609049194\"\n",
      "[1] \"length 1000\"\n",
      "[1] \"sum 10013.9733547688\"\n",
      "[1] \"mean 10.0139733547688\"\n",
      "[1] \"median 9.93479341285127\"\n",
      "[1] \"standard deviation 2.06130538657392\"\n",
      "[1] \"variance 4.24897989671867\"\n",
      "[1] \"mean absolute deviation 16.3291609049194\"\n"
     ]
    }
   ],
   "source": [
    "library(purrr)\n",
    "\n",
    "x <- rnorm(1000, mean=10, sd=2)\n",
    "\n",
    "xMin <- min(x)\n",
    "xMax <- max(x)\n",
    "xLen <- length(x)\n",
    "xSum <- sum(x)\n",
    "xMean <- mean(x)\n",
    "xMed <- median(x)\n",
    "xSd <- sd(x)\n",
    "xVar <- var(x)\n",
    "xMad <- mad(x)\n",
    "\n",
    "v1 <- c('min', 'max', 'length', 'sum', 'mean', 'median', 'standard deviation', 'variance', 'mean absolute deviation')\n",
    "v2 <- c(xMin, xMax, xLen, xSum, xMean, xMed, xSd, xVar, xMax)\n",
    "\n",
    "for (item in map2(v1, v2, function(x, y) paste(x, y))) {\n",
    "    print(item)\n",
    "}"
   ]
  },
  {
   "cell_type": "markdown",
   "metadata": {},
   "source": [
    "Some of these functions may also be applied to data frames."
   ]
  },
  {
   "cell_type": "code",
   "execution_count": 7,
   "metadata": {},
   "outputs": [
    {
     "name": "stdout",
     "output_type": "stream",
     "text": [
      "[1] \"min -2.85010220013358\"\n",
      "[1] \"max 3.83156099100195\"\n",
      "[1] \"length 2\"\n",
      "[1] \"sum 56.1376545619577\"\n"
     ]
    }
   ],
   "source": [
    "df <- data.frame(\n",
    "    V1 <- rnorm(500),\n",
    "    V2 <- rnorm(500)\n",
    ")\n",
    "\n",
    "xMin <- min(df)\n",
    "xMax <- max(df)\n",
    "xLen <- length(df)\n",
    "xSum <- sum(df)\n",
    "\n",
    "v1 <- c('min', 'max', 'length', 'sum')\n",
    "v2 <- c(xMin, xMax, xLen, xSum)\n",
    "\n",
    "for (item in map2(v1, v2, function(x, y) paste(x, y))) {\n",
    "    print(item)\n",
    "}"
   ]
  },
  {
   "cell_type": "markdown",
   "metadata": {},
   "source": [
    "### Summarization with multiple results\n",
    "\n",
    "The `quantile` and `fivenum` functions will return summary with multiple results."
   ]
  },
  {
   "cell_type": "code",
   "execution_count": 8,
   "metadata": {},
   "outputs": [
    {
     "name": "stdout",
     "output_type": "stream",
     "text": [
      "      0%      25%      50%      75%     100% \n",
      " 6.51585 12.83763 14.39959 16.64436 26.07596 \n"
     ]
    }
   ],
   "source": [
    "x <- rnorm(100, mean=15, sd=3)\n",
    "\n",
    "xQuant <- quantile(x)\n",
    "print(xQuant)"
   ]
  },
  {
   "cell_type": "code",
   "execution_count": 9,
   "metadata": {},
   "outputs": [
    {
     "name": "stdout",
     "output_type": "stream",
     "text": [
      "[1]  6.51585 12.82177 14.39959 16.67352 26.07596\n"
     ]
    }
   ],
   "source": [
    "xFive <- fivenum(x)\n",
    "print(xFive)"
   ]
  },
  {
   "cell_type": "markdown",
   "metadata": {},
   "source": [
    "### Row and column summarization \n",
    "\n",
    "There are row and column summarization functions for matrices and data frames."
   ]
  },
  {
   "cell_type": "code",
   "execution_count": 10,
   "metadata": {},
   "outputs": [
    {
     "name": "stdout",
     "output_type": "stream",
     "text": [
      "[1] 3.5 4.5 5.5 6.5 7.5\n",
      "[1]  7  9 11 13 15\n",
      " V1....c.1..2..3..4..5. V2....c.6..7..8..9..10. \n",
      "                      3                       8 \n",
      " V1....c.1..2..3..4..5. V2....c.6..7..8..9..10. \n",
      "                     15                      40 \n"
     ]
    }
   ],
   "source": [
    "df <- data.frame(\n",
    "    V1 <- c(1, 2, 3, 4, 5),\n",
    "    V2 <- c(6, 7, 8, 9, 10)\n",
    ")\n",
    "\n",
    "print(rowMeans(df))\n",
    "print(rowSums(df))\n",
    "print(colMeans(df))\n",
    "print(colSums(df))"
   ]
  },
  {
   "cell_type": "markdown",
   "metadata": {},
   "source": [
    "You may also use the `apply` method to produce summaries. The second parameter is either `1` or `2` for rows or columns, respectively."
   ]
  },
  {
   "cell_type": "code",
   "execution_count": 11,
   "metadata": {},
   "outputs": [
    {
     "name": "stdout",
     "output_type": "stream",
     "text": [
      "[1] 3.535534 3.535534 3.535534 3.535534 3.535534\n",
      " V1....c.1..2..3..4..5. V2....c.6..7..8..9..10. \n",
      "               1.581139                1.581139 \n"
     ]
    }
   ],
   "source": [
    "print(apply(df, 1, sd))\n",
    "print(apply(df, 2, sd))"
   ]
  },
  {
   "cell_type": "markdown",
   "metadata": {},
   "source": [
    "## Cummulative\n",
    "\n",
    "You may apply the following functions to find the cummulative value\n",
    "\n",
    "* `cumsum` computes the cummulative sum\n",
    "* `cummax` computes the cummulative max\n",
    "* `cummin` computes the commulative minimum\n",
    "* `cummax` computes the commulative maximum"
   ]
  },
  {
   "cell_type": "code",
   "execution_count": 12,
   "metadata": {},
   "outputs": [
    {
     "name": "stdout",
     "output_type": "stream",
     "text": [
      "[1]  1  3  6 10 15\n"
     ]
    }
   ],
   "source": [
    "x <- seq(1, 5)\n",
    "\n",
    "print(cumsum(x))"
   ]
  },
  {
   "cell_type": "code",
   "execution_count": 13,
   "metadata": {},
   "outputs": [
    {
     "name": "stdout",
     "output_type": "stream",
     "text": [
      "[1] 1 2 3 4 5\n"
     ]
    }
   ],
   "source": [
    "x <- seq(1, 5)\n",
    "\n",
    "print(cummax(x))"
   ]
  },
  {
   "cell_type": "code",
   "execution_count": 14,
   "metadata": {},
   "outputs": [
    {
     "name": "stdout",
     "output_type": "stream",
     "text": [
      "[1] 1 1 1 1 1\n"
     ]
    }
   ],
   "source": [
    "x <- seq(1, 5)\n",
    "\n",
    "print(cummin(x))"
   ]
  },
  {
   "cell_type": "code",
   "execution_count": 15,
   "metadata": {},
   "outputs": [
    {
     "name": "stdout",
     "output_type": "stream",
     "text": [
      "[1]   1   2   6  24 120\n"
     ]
    }
   ],
   "source": [
    "x <- seq(1, 5)\n",
    "\n",
    "print(cumprod(x))"
   ]
  },
  {
   "cell_type": "markdown",
   "metadata": {},
   "source": [
    "## Tables\n",
    "\n",
    "The `table` command builds a contingency table. When `table` is used on a vector of numbers, a sort frequency distribution appears."
   ]
  },
  {
   "cell_type": "code",
   "execution_count": 16,
   "metadata": {},
   "outputs": [
    {
     "name": "stdout",
     "output_type": "stream",
     "text": [
      "x\n",
      "1 2 3 4 5 \n",
      "5 4 3 2 1 \n"
     ]
    }
   ],
   "source": [
    "x <- c(5, 4, 4, 3, 3, 3, 2, 2, 2, 2, 1, 1, 1, 1, 1)\n",
    "y <- table(x)\n",
    "print(y)"
   ]
  },
  {
   "cell_type": "markdown",
   "metadata": {},
   "source": [
    "The `table` function may also be used on a vector of characters."
   ]
  },
  {
   "cell_type": "code",
   "execution_count": 17,
   "metadata": {},
   "outputs": [
    {
     "name": "stdout",
     "output_type": "stream",
     "text": [
      "x\n",
      "bye  hi \n",
      "  2   3 \n"
     ]
    }
   ],
   "source": [
    "x <- c('hi', 'hi', 'hi', 'bye', 'bye')\n",
    "y <- table(x)\n",
    "print(y)"
   ]
  },
  {
   "cell_type": "markdown",
   "metadata": {},
   "source": [
    "Here's the `table` command used on a matrix."
   ]
  },
  {
   "cell_type": "code",
   "execution_count": 18,
   "metadata": {},
   "outputs": [
    {
     "name": "stdout",
     "output_type": "stream",
     "text": [
      "      [,1] [,2] [,3] [,4] [,5]\n",
      " [1,]    9    6    2    9    2\n",
      " [2,]    6    1    7    8    3\n",
      " [3,]    3   10    7    4    3\n",
      " [4,]   10    1    6   10   10\n",
      " [5,]    1   10    3    2    9\n",
      " [6,]    6    5    8    2    6\n",
      " [7,]   10    7    9    2    8\n",
      " [8,]    6   10    7    9    1\n",
      " [9,]   10    8   10    1    4\n",
      "[10,]    9    2    2   10    3\n",
      "[11,]    9    3    5    7    5\n",
      "[12,]    6    1    4   10    8\n",
      "[13,]    5    9    7    2    2\n",
      "[14,]    3    1    4    5    9\n",
      "[15,]    5    6    6    2    6\n",
      "[16,]    9    7   10    6    7\n",
      "[17,]    7    3    4    2   10\n",
      "[18,]    9    3    5    4    6\n",
      "[19,]    8    5    1    1    9\n",
      "[20,]    9    1    8    7   10\n"
     ]
    }
   ],
   "source": [
    "s <- sample(seq(1:10), 100, replace=TRUE)\n",
    "m <- matrix(s, ncol=5)\n",
    "print(m)"
   ]
  },
  {
   "cell_type": "code",
   "execution_count": 19,
   "metadata": {},
   "outputs": [
    {
     "name": "stdout",
     "output_type": "stream",
     "text": [
      "m\n",
      " 1  2  3  4  5  6  7  8  9 10 \n",
      "10 11  9  6  8 12 10  7 13 14 \n"
     ]
    }
   ],
   "source": [
    "y <- table(m)\n",
    "print(y)"
   ]
  },
  {
   "cell_type": "markdown",
   "metadata": {},
   "source": [
    "You may subset a matrix and then apply `table`."
   ]
  },
  {
   "cell_type": "code",
   "execution_count": 20,
   "metadata": {},
   "outputs": [
    {
     "name": "stdout",
     "output_type": "stream",
     "text": [
      "    V2\n",
      "V1   1 2 3 5 6 7 8 9 10\n",
      "  1  0 0 0 0 0 0 0 0  1\n",
      "  3  1 0 0 0 0 0 0 0  1\n",
      "  5  0 0 0 0 1 0 0 1  0\n",
      "  6  2 0 0 1 0 0 0 0  1\n",
      "  7  0 0 1 0 0 0 0 0  0\n",
      "  8  0 0 0 1 0 0 0 0  0\n",
      "  9  1 1 2 0 1 1 0 0  0\n",
      "  10 1 0 0 0 0 1 1 0  0\n"
     ]
    }
   ],
   "source": [
    "y <- table(m[,1], m[,2], dnn=c('V1', 'V2'))\n",
    "print(y)"
   ]
  },
  {
   "cell_type": "markdown",
   "metadata": {},
   "source": [
    "The following shows using `table` on a table with numeric and character data."
   ]
  },
  {
   "cell_type": "code",
   "execution_count": 21,
   "metadata": {},
   "outputs": [
    {
     "name": "stdout",
     "output_type": "stream",
     "text": [
      "   y\n",
      "x   l w\n",
      "  7 2 3\n",
      "  8 3 1\n"
     ]
    }
   ],
   "source": [
    "df <- data.frame(\n",
    "    x <- c(7, 7, 7, 7, 7, 8, 8, 8, 8),\n",
    "    y <- c('w', 'w', 'w', 'l', 'l', 'l', 'l', 'l', 'w')\n",
    ")\n",
    "\n",
    "y <- table(df, dnn=c('x', 'y'))\n",
    "print(y)"
   ]
  },
  {
   "cell_type": "markdown",
   "metadata": {},
   "source": [
    "The following shows using `table` on a table with numeric data."
   ]
  },
  {
   "cell_type": "code",
   "execution_count": 22,
   "metadata": {},
   "outputs": [
    {
     "name": "stdout",
     "output_type": "stream",
     "text": [
      "   y\n",
      "x   1 2 3 4\n",
      "  7 2 1 1 0\n",
      "  8 1 1 1 1\n"
     ]
    }
   ],
   "source": [
    "df <- data.frame(\n",
    "    x <- c(7, 7, 7, 7, 8, 8, 8, 8),\n",
    "    y <- c(1, 1, 2, 3, 1, 2, 3, 4)\n",
    ")\n",
    "\n",
    "y <- table(df, dnn=c('x', 'y'))\n",
    "print(y)"
   ]
  },
  {
   "cell_type": "markdown",
   "metadata": {},
   "source": [
    "Use the `with` command to avoid using `dnn` with the `table` function."
   ]
  },
  {
   "cell_type": "code",
   "execution_count": 23,
   "metadata": {},
   "outputs": [
    {
     "data": {
      "text/plain": [
       "   y\n",
       "x   0 1 2\n",
       "  7 0 3 1\n",
       "  8 1 3 0"
      ]
     },
     "metadata": {},
     "output_type": "display_data"
    }
   ],
   "source": [
    "with(df, table(x, y))"
   ]
  },
  {
   "cell_type": "markdown",
   "metadata": {},
   "source": [
    "## Stem"
   ]
  },
  {
   "cell_type": "code",
   "execution_count": 24,
   "metadata": {},
   "outputs": [
    {
     "name": "stdout",
     "output_type": "stream",
     "text": [
      "\n",
      "  The decimal point is at the |\n",
      "\n",
      "   1 | 0000\n",
      "   2 | 00000000000000\n",
      "   3 | 0000\n",
      "   4 | 00000000000\n",
      "   5 | 000000000000\n",
      "   6 | 00000000000\n",
      "   7 | 0000000000000\n",
      "   8 | 0000000000000\n",
      "   9 | 000000000\n",
      "  10 | 000000000\n",
      "\n",
      "NULL\n"
     ]
    }
   ],
   "source": [
    "x <- sample(seq(1:10), 100, replace=TRUE)\n",
    "s <- stem(x)\n",
    "print(s)"
   ]
  },
  {
   "cell_type": "markdown",
   "metadata": {},
   "source": [
    "Compare the `stem` to the `table` function."
   ]
  },
  {
   "cell_type": "code",
   "execution_count": 25,
   "metadata": {},
   "outputs": [
    {
     "name": "stdout",
     "output_type": "stream",
     "text": [
      "x\n",
      " 1  2  3  4  5  6  7  8  9 10 \n",
      " 4 14  4 11 12 11 13 13  9  9 \n"
     ]
    }
   ],
   "source": [
    "t <- table(x)\n",
    "print(t)"
   ]
  },
  {
   "cell_type": "markdown",
   "metadata": {},
   "source": [
    "You may control the `scaling` of the `stem` function."
   ]
  },
  {
   "cell_type": "markdown",
   "metadata": {},
   "source": [
    "## Histogram"
   ]
  },
  {
   "cell_type": "code",
   "execution_count": 26,
   "metadata": {},
   "outputs": [
    {
     "data": {
      "image/png": "[encoded data removed]",
      "text/plain": [
       "Plot with title “Histogram of x”"
      ]
     },
     "metadata": {},
     "output_type": "display_data"
    }
   ],
   "source": [
    "x <- sample(seq(1:10), 100, replace=TRUE)\n",
    "\n",
    "options(repr.plot.width=4, repr.plot.height=4)\n",
    "\n",
    "hist(x, col='gray75')"
   ]
  },
  {
   "cell_type": "markdown",
   "metadata": {},
   "source": [
    "## Density"
   ]
  },
  {
   "cell_type": "code",
   "execution_count": 27,
   "metadata": {},
   "outputs": [
    {
     "name": "stdout",
     "output_type": "stream",
     "text": [
      "\n",
      "Call:\n",
      "\tdensity.default(x = x, bw = \"nrd0\", kernel = \"gaussian\", na.rm = FALSE)\n",
      "\n",
      "Data: x (100 obs.);\tBandwidth 'bw' = 1.027\n",
      "\n",
      "       x               y            \n",
      " Min.   :-2.08   Min.   :0.0003611  \n",
      " 1st Qu.: 1.71   1st Qu.:0.0233831  \n",
      " Median : 5.50   Median :0.0840966  \n",
      " Mean   : 5.50   Mean   :0.0658853  \n",
      " 3rd Qu.: 9.29   3rd Qu.:0.1011554  \n",
      " Max.   :13.08   Max.   :0.1115583  \n"
     ]
    }
   ],
   "source": [
    "x <- sample(seq(1:10), 100, replace=TRUE)\n",
    "d <- density(x, bw='nrd0', kernel='gaussian', na.rm=FALSE)\n",
    "print(d)"
   ]
  },
  {
   "cell_type": "code",
   "execution_count": 28,
   "metadata": {},
   "outputs": [
    {
     "data": {
      "image/png": "[encoded data removed]",
      "text/plain": [
       "Plot with title “Density”"
      ]
     },
     "metadata": {},
     "output_type": "display_data"
    }
   ],
   "source": [
    "options(repr.plot.width=4, repr.plot.height=4)\n",
    "\n",
    "plot(d, main='Density')"
   ]
  },
  {
   "cell_type": "code",
   "execution_count": 29,
   "metadata": {},
   "outputs": [
    {
     "data": {
      "image/png": "[encoded data removed]",
      "text/plain": [
       "Plot with title “Histogram of x”"
      ]
     },
     "metadata": {},
     "output_type": "display_data"
    }
   ],
   "source": [
    "options(repr.plot.width=4, repr.plot.height=4)\n",
    "\n",
    "hist(x, freq=F, col='gray85')\n",
    "lines(density(x), lty=2)\n",
    "lines(density(x, k='rectangular'))"
   ]
  }
 ],
 "metadata": {
  "kernelspec": {
   "display_name": "R 3.6",
   "language": "R",
   "name": "ir36"
  },
  "language_info": {
   "codemirror_mode": "r",
   "file_extension": ".r",
   "mimetype": "text/x-r-source",
   "name": "R",
   "pygments_lexer": "r",
   "version": "3.6.1"
  }
 },
 "nbformat": 4,
 "nbformat_minor": 4
}
