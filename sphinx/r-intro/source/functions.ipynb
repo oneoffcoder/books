{
 "cells": [
  {
   "cell_type": "markdown",
   "metadata": {},
   "source": [
    "# Functions\n",
    "\n",
    "`Functions` are used to create cohesive, reusable units of code. The best way to learn how to create functions is by looking at a few simple ones and then start creating your own. Note that functions are created by using the `function` keyword and they also have `parameters` or `arguments`. Parameters or arguments are simply inputs to the function. You may pass inputs to a function by `position` or by `name`. Futhermore, a function may `return` a value or not.\n",
    "\n",
    "Here is a function that accepts a single argument and returns nothing. Its sole job is to print the input given."
   ]
  },
  {
   "cell_type": "code",
   "execution_count": 1,
   "metadata": {},
   "outputs": [
    {
     "name": "stdout",
     "output_type": "stream",
     "text": [
      "[1] 3\n",
      "[1] \"hello, world!\"\n"
     ]
    }
   ],
   "source": [
    "printIt <- function(x) {\n",
    "    print(x)\n",
    "}\n",
    "\n",
    "printIt(3)\n",
    "printIt('hello, world!')"
   ]
  },
  {
   "cell_type": "markdown",
   "metadata": {},
   "source": [
    "Here is a function that accepts 2 inputs `x` and `y`, adds them, and returns the result."
   ]
  },
  {
   "cell_type": "code",
   "execution_count": 2,
   "metadata": {},
   "outputs": [],
   "source": [
    "add <- function(x, y) {\n",
    "    result <- x + y\n",
    "    return(result)\n",
    "}\n",
    "\n",
    "a <- 3\n",
    "b <- 4\n",
    "c <- add(a, b)\n",
    "d <- add(x=10, y=11)"
   ]
  },
  {
   "cell_type": "code",
   "execution_count": 3,
   "metadata": {},
   "outputs": [
    {
     "name": "stdout",
     "output_type": "stream",
     "text": [
      "[1] 7\n"
     ]
    }
   ],
   "source": [
    "print(c)"
   ]
  },
  {
   "cell_type": "code",
   "execution_count": 4,
   "metadata": {},
   "outputs": [
    {
     "name": "stdout",
     "output_type": "stream",
     "text": [
      "[1] 21\n"
     ]
    }
   ],
   "source": [
    "print(d)"
   ]
  },
  {
   "cell_type": "markdown",
   "metadata": {},
   "source": [
    "Note that if your function is very simple (fits on one line concisely), you may define a function as follows."
   ]
  },
  {
   "cell_type": "code",
   "execution_count": 5,
   "metadata": {},
   "outputs": [
    {
     "name": "stdout",
     "output_type": "stream",
     "text": [
      "[1] 21\n"
     ]
    }
   ],
   "source": [
    "add <- function(x, y) x + y\n",
    "\n",
    "a <- add(10, 11)\n",
    "print(a)"
   ]
  },
  {
   "cell_type": "markdown",
   "metadata": {},
   "source": [
    "## Optional arguments\n",
    "\n",
    "You may provide default values for arguments; if you do so, those arguments are `optional` (a user does not have to pass them in)."
   ]
  },
  {
   "cell_type": "code",
   "execution_count": 6,
   "metadata": {},
   "outputs": [
    {
     "name": "stdout",
     "output_type": "stream",
     "text": [
      "[1] 23\n"
     ]
    }
   ],
   "source": [
    "add <- function(x, y=13) x + y\n",
    "\n",
    "a <- add(10)\n",
    "print(a)"
   ]
  },
  {
   "cell_type": "markdown",
   "metadata": {},
   "source": [
    "## Functions as arguments\n",
    "\n",
    "You may even pass functions as arguments! `R` is a functional programming language where functions are no different than data or variables. Below, we have four functions.\n",
    "\n",
    "* `add` which adds two numbers `x` and `y` and returns the numbers added\n",
    "* `subtract` which adds two numbers `x` and `y` and returns the numbers subtracted\n",
    "* `multiply` which adds two numbers `x` and `y` and returns the numbers multiplied\n",
    "* `divide` which adds two numbers `x` and `y` and returns the numbers divided\n",
    "\n",
    "We also have a function `doIt` which takes a function `f` and two parameters `x` and `y`. Whatever `f` is, we pass in `x` and `y` as arguments to it."
   ]
  },
  {
   "cell_type": "code",
   "execution_count": 7,
   "metadata": {},
   "outputs": [],
   "source": [
    "add <- function(x, y) x + y\n",
    "subtract <- function(x, y) x - y\n",
    "multiply <- function(x, y) x * y\n",
    "divide <- function(x, y) x / y\n",
    "doIt <- function(f, x, y) f(x, y)\n",
    "\n",
    "a <- doIt(add, 10, 8)\n",
    "b <- doIt(subtract, 10, 8)\n",
    "c <- doIt(multiply, 10, 8)\n",
    "d <- doIt(divide, 10, 8)"
   ]
  },
  {
   "cell_type": "code",
   "execution_count": 8,
   "metadata": {},
   "outputs": [
    {
     "name": "stdout",
     "output_type": "stream",
     "text": [
      "[1] 18\n"
     ]
    }
   ],
   "source": [
    "print(a)"
   ]
  },
  {
   "cell_type": "code",
   "execution_count": 9,
   "metadata": {},
   "outputs": [
    {
     "name": "stdout",
     "output_type": "stream",
     "text": [
      "[1] 2\n"
     ]
    }
   ],
   "source": [
    "print(b)"
   ]
  },
  {
   "cell_type": "code",
   "execution_count": 10,
   "metadata": {},
   "outputs": [
    {
     "name": "stdout",
     "output_type": "stream",
     "text": [
      "[1] 80\n"
     ]
    }
   ],
   "source": [
    "print(c)"
   ]
  },
  {
   "cell_type": "code",
   "execution_count": 11,
   "metadata": {},
   "outputs": [
    {
     "name": "stdout",
     "output_type": "stream",
     "text": [
      "[1] 1.25\n"
     ]
    }
   ],
   "source": [
    "print(d)"
   ]
  }
 ],
 "metadata": {
  "kernelspec": {
   "display_name": "R 3.6",
   "language": "R",
   "name": "ir36"
  },
  "language_info": {
   "codemirror_mode": "r",
   "file_extension": ".r",
   "mimetype": "text/x-r-source",
   "name": "R",
   "pygments_lexer": "r",
   "version": "3.6.1"
  }
 },
 "nbformat": 4,
 "nbformat_minor": 4
}
