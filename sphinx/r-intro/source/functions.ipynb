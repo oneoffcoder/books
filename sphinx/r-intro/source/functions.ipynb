{
 "cells": [
  {
   "cell_type": "markdown",
   "metadata": {},
   "source": [
    "# Functions\n",
    "\n",
    "`Functions` are used to create cohesive, reusable units of code. The best way to learn how to create functions is by looking at a few simple ones and then start creating your own. Note that functions are created by using the `function` keyword and they also have `parameters` or `arguments`. Parameters or arguments are simply inputs to the function. You may pass inputs to a function by `position` or by `name`. Futhermore, a function may `return` a value or not.\n",
    "\n",
    "Here is a function that accepts a single argument and returns nothing. Its sole job is to print the input given."
   ]
  },
  {
   "cell_type": "code",
   "execution_count": 1,
   "metadata": {},
   "outputs": [
    {
     "name": "stdout",
     "output_type": "stream",
     "text": [
      "[1] 3\n",
      "[1] \"hello, world!\"\n"
     ]
    }
   ],
   "source": [
    "printIt <- function(x) {\n",
    "    print(x)\n",
    "}\n",
    "\n",
    "printIt(3)\n",
    "printIt('hello, world!')"
   ]
  },
  {
   "cell_type": "markdown",
   "metadata": {},
   "source": [
    "Here is a function that accepts 2 inputs `x` and `y`, adds them, and returns the result."
   ]
  },
  {
   "cell_type": "code",
   "execution_count": 2,
   "metadata": {},
   "outputs": [],
   "source": [
    "add <- function(x, y) {\n",
    "    result <- x + y\n",
    "    return(result)\n",
    "}\n",
    "\n",
    "a <- 3\n",
    "b <- 4\n",
    "c <- add(a, b)\n",
    "d <- add(x=10, y=11)"
   ]
  },
  {
   "cell_type": "code",
   "execution_count": 3,
   "metadata": {},
   "outputs": [
    {
     "name": "stdout",
     "output_type": "stream",
     "text": [
      "[1] 7\n"
     ]
    }
   ],
   "source": [
    "print(c)"
   ]
  },
  {
   "cell_type": "code",
   "execution_count": 4,
   "metadata": {},
   "outputs": [
    {
     "name": "stdout",
     "output_type": "stream",
     "text": [
      "[1] 21\n"
     ]
    }
   ],
   "source": [
    "print(d)"
   ]
  },
  {
   "cell_type": "markdown",
   "metadata": {},
   "source": [
    "Note that if your function is very simple (fits on one line concisely), you may define a function as follows."
   ]
  },
  {
   "cell_type": "code",
   "execution_count": 5,
   "metadata": {},
   "outputs": [
    {
     "name": "stdout",
     "output_type": "stream",
     "text": [
      "[1] 21\n"
     ]
    }
   ],
   "source": [
    "add <- function(x, y) x + y\n",
    "\n",
    "a <- add(10, 11)\n",
    "print(a)"
   ]
  },
  {
   "cell_type": "markdown",
   "metadata": {},
   "source": [
    "## Optional arguments\n",
    "\n",
    "You may provide default values for arguments; if you do so, those arguments are `optional` (a user does not have to pass them in)."
   ]
  },
  {
   "cell_type": "code",
   "execution_count": 6,
   "metadata": {},
   "outputs": [
    {
     "name": "stdout",
     "output_type": "stream",
     "text": [
      "[1] 23\n"
     ]
    }
   ],
   "source": [
    "add <- function(x, y=13) x + y\n",
    "\n",
    "a <- add(10)\n",
    "print(a)"
   ]
  },
  {
   "cell_type": "markdown",
   "metadata": {},
   "source": [
    "## Functions as arguments\n",
    "\n",
    "You may even pass functions as arguments! `R` is a functional programming language where functions are no different than data or variables. Below, we have four functions.\n",
    "\n",
    "* `add` which adds two numbers `x` and `y` and returns the numbers added\n",
    "* `subtract` which adds two numbers `x` and `y` and returns the numbers subtracted\n",
    "* `multiply` which adds two numbers `x` and `y` and returns the numbers multiplied\n",
    "* `divide` which adds two numbers `x` and `y` and returns the numbers divided\n",
    "\n",
    "We also have a function `doIt` which takes a function `f` and two parameters `x` and `y`. Whatever `f` is, we pass in `x` and `y` as arguments to it."
   ]
  },
  {
   "cell_type": "code",
   "execution_count": 7,
   "metadata": {},
   "outputs": [],
   "source": [
    "add <- function(x, y) x + y\n",
    "subtract <- function(x, y) x - y\n",
    "multiply <- function(x, y) x * y\n",
    "divide <- function(x, y) x / y\n",
    "doIt <- function(f, x, y) f(x, y)\n",
    "\n",
    "a <- doIt(add, 10, 8)\n",
    "b <- doIt(subtract, 10, 8)\n",
    "c <- doIt(multiply, 10, 8)\n",
    "d <- doIt(divide, 10, 8)"
   ]
  },
  {
   "cell_type": "code",
   "execution_count": 8,
   "metadata": {},
   "outputs": [
    {
     "name": "stdout",
     "output_type": "stream",
     "text": [
      "[1] 18\n"
     ]
    }
   ],
   "source": [
    "print(a)"
   ]
  },
  {
   "cell_type": "code",
   "execution_count": 9,
   "metadata": {},
   "outputs": [
    {
     "name": "stdout",
     "output_type": "stream",
     "text": [
      "[1] 2\n"
     ]
    }
   ],
   "source": [
    "print(b)"
   ]
  },
  {
   "cell_type": "code",
   "execution_count": 10,
   "metadata": {},
   "outputs": [
    {
     "name": "stdout",
     "output_type": "stream",
     "text": [
      "[1] 80\n"
     ]
    }
   ],
   "source": [
    "print(c)"
   ]
  },
  {
   "cell_type": "code",
   "execution_count": 11,
   "metadata": {},
   "outputs": [
    {
     "name": "stdout",
     "output_type": "stream",
     "text": [
      "[1] 1.25\n"
     ]
    }
   ],
   "source": [
    "print(d)"
   ]
  },
  {
   "cell_type": "markdown",
   "metadata": {},
   "source": [
    "## Built-in functions\n",
    "\n",
    "`R` has a lot of [built-in functions that you may reuse](https://cran.r-project.org/doc/contrib/Short-refcard.pdf). Here, we sample of few of the ones that will be most important for your data analysis and science activities."
   ]
  },
  {
   "cell_type": "markdown",
   "metadata": {},
   "source": [
    "### sum\n",
    "\n",
    "The `sum` function adds a sequence of numbers."
   ]
  },
  {
   "cell_type": "code",
   "execution_count": 1,
   "metadata": {},
   "outputs": [
    {
     "name": "stdout",
     "output_type": "stream",
     "text": [
      "[1] 6\n"
     ]
    }
   ],
   "source": [
    "a <- sum(1, 2, 3)\n",
    "print(a)"
   ]
  },
  {
   "cell_type": "markdown",
   "metadata": {},
   "source": [
    "### round\n",
    "\n",
    "The `round` function rounds a number to the precision specified."
   ]
  },
  {
   "cell_type": "code",
   "execution_count": 2,
   "metadata": {},
   "outputs": [
    {
     "name": "stdout",
     "output_type": "stream",
     "text": [
      "[1] 3.142\n"
     ]
    }
   ],
   "source": [
    "a <- round(3.1415, 3)\n",
    "print(a)"
   ]
  },
  {
   "cell_type": "markdown",
   "metadata": {},
   "source": [
    "### toupper\n",
    "\n",
    "The `toupper` function upper-cases all letters."
   ]
  },
  {
   "cell_type": "code",
   "execution_count": 3,
   "metadata": {},
   "outputs": [
    {
     "name": "stdout",
     "output_type": "stream",
     "text": [
      "[1] \"HELLO, WORLD!\"\n"
     ]
    }
   ],
   "source": [
    "a <- toupper('hello, world!')\n",
    "print(a)"
   ]
  },
  {
   "cell_type": "markdown",
   "metadata": {},
   "source": [
    "### seq\n",
    "\n",
    "The `seq` function returns a list of numbers in the specified range (inclusive both ends)."
   ]
  },
  {
   "cell_type": "code",
   "execution_count": 4,
   "metadata": {},
   "outputs": [
    {
     "name": "stdout",
     "output_type": "stream",
     "text": [
      " [1]  1  2  3  4  5  6  7  8  9 10\n"
     ]
    }
   ],
   "source": [
    "a <- seq(1, 10)\n",
    "print(a)"
   ]
  },
  {
   "cell_type": "markdown",
   "metadata": {},
   "source": [
    "### runif\n",
    "\n",
    "The `runif` function (random uniform) samples number from the range [0, 1] uniformly. "
   ]
  },
  {
   "cell_type": "code",
   "execution_count": 5,
   "metadata": {},
   "outputs": [
    {
     "name": "stdout",
     "output_type": "stream",
     "text": [
      "[1] 0.04937352 0.85595136 0.59657527 0.70414494 0.46191774\n"
     ]
    }
   ],
   "source": [
    "a <- runif(5)\n",
    "print(a)"
   ]
  },
  {
   "cell_type": "markdown",
   "metadata": {},
   "source": [
    "### mean\n",
    "\n",
    "The `mean` function computes the average of a sequence of numbers."
   ]
  },
  {
   "cell_type": "code",
   "execution_count": 10,
   "metadata": {},
   "outputs": [
    {
     "name": "stdout",
     "output_type": "stream",
     "text": [
      "[1] 5\n"
     ]
    }
   ],
   "source": [
    "a <- mean(seq(1, 9))\n",
    "print(a)"
   ]
  },
  {
   "cell_type": "markdown",
   "metadata": {},
   "source": [
    "### sd\n",
    "\n",
    "The `sd` function computes the standard deviation of a sequence of numbers."
   ]
  },
  {
   "cell_type": "code",
   "execution_count": 11,
   "metadata": {},
   "outputs": [
    {
     "name": "stdout",
     "output_type": "stream",
     "text": [
      "[1] 2.738613\n"
     ]
    }
   ],
   "source": [
    "a <- sd(seq(1, 9))\n",
    "print(a)"
   ]
  },
  {
   "cell_type": "markdown",
   "metadata": {},
   "source": [
    "### which.max\n",
    "\n",
    "The `which.max` function returns the index of the largest element of a list of numbers."
   ]
  },
  {
   "cell_type": "code",
   "execution_count": 12,
   "metadata": {},
   "outputs": [
    {
     "name": "stdout",
     "output_type": "stream",
     "text": [
      "[1] 9\n"
     ]
    }
   ],
   "source": [
    "a <- which.max(seq(1, 9))\n",
    "print(a)"
   ]
  },
  {
   "cell_type": "markdown",
   "metadata": {},
   "source": [
    "### which.min\n",
    "\n",
    "The `which.min` function returns the index of the smallest element of a list of numbers."
   ]
  },
  {
   "cell_type": "code",
   "execution_count": 13,
   "metadata": {},
   "outputs": [
    {
     "name": "stdout",
     "output_type": "stream",
     "text": [
      "[1] 1\n"
     ]
    }
   ],
   "source": [
    "a <- which.min(seq(1, 9))\n",
    "print(a)"
   ]
  },
  {
   "cell_type": "markdown",
   "metadata": {},
   "source": [
    "### sort\n",
    "\n",
    "The `sort` function sorts the elements in a list."
   ]
  },
  {
   "cell_type": "code",
   "execution_count": 14,
   "metadata": {},
   "outputs": [
    {
     "name": "stdout",
     "output_type": "stream",
     "text": [
      "[1] 5 4 3 2 1\n",
      "[1] 1 2 3 4 5\n"
     ]
    }
   ],
   "source": [
    "a <- c(5, 4, 3, 2, 1)\n",
    "b <- sort(a)\n",
    "print(a)\n",
    "print(b)"
   ]
  },
  {
   "cell_type": "markdown",
   "metadata": {},
   "source": [
    "### cut\n",
    "\n",
    "The `cut` function creates factors with specified cutpoints. The `cut` function essentially `discretizes` the data and produces factors from numeric data."
   ]
  },
  {
   "cell_type": "code",
   "execution_count": 19,
   "metadata": {},
   "outputs": [
    {
     "name": "stdout",
     "output_type": "stream",
     "text": [
      " [1] (0,5]   (0,5]   (0,5]   (5,10]  (5,10]  (10,15] (10,15] (10,15] (15,20]\n",
      "[10] (15,20]\n",
      "Levels: (0,5] (5,10] (10,15] (15,20]\n"
     ]
    }
   ],
   "source": [
    "a <- seq(1, 20, 2)\n",
    "b <- cut(a, c(0, 5, 10, 15, 20))\n",
    "print(b)"
   ]
  },
  {
   "cell_type": "markdown",
   "metadata": {},
   "source": [
    "### choose\n",
    "\n",
    "The `choose` function computes the number of `k` combinations from `n` elements."
   ]
  },
  {
   "cell_type": "code",
   "execution_count": 20,
   "metadata": {},
   "outputs": [
    {
     "name": "stdout",
     "output_type": "stream",
     "text": [
      "[1] 45\n"
     ]
    }
   ],
   "source": [
    "a <- choose(10, 2)\n",
    "print(a)"
   ]
  },
  {
   "cell_type": "markdown",
   "metadata": {},
   "source": [
    "### unique\n",
    "\n",
    "The `unique` function returns a list of unique elements in another list."
   ]
  },
  {
   "cell_type": "code",
   "execution_count": 21,
   "metadata": {},
   "outputs": [
    {
     "name": "stdout",
     "output_type": "stream",
     "text": [
      "[1] 1 2 3 4 5\n"
     ]
    }
   ],
   "source": [
    "a <- unique(c(1, 2, 2, 3, 3, 3, 4, 4, 4, 4, 5, 5, 5, 5, 5))\n",
    "print(a)"
   ]
  },
  {
   "cell_type": "markdown",
   "metadata": {},
   "source": [
    "### subset\n",
    "\n",
    "The `subset` function returns a subset list of elements in another satisfying a comparison."
   ]
  },
  {
   "cell_type": "code",
   "execution_count": 24,
   "metadata": {},
   "outputs": [
    {
     "name": "stdout",
     "output_type": "stream",
     "text": [
      "[1] 1 2 3 4 5 6 7 8 9\n"
     ]
    }
   ],
   "source": [
    "a <- seq(1, 20)\n",
    "b <- subset(a, a < 10)\n",
    "print(b)"
   ]
  },
  {
   "cell_type": "markdown",
   "metadata": {},
   "source": [
    "### table\n",
    "\n",
    "The `table` function returns frequencies of elements in a list."
   ]
  },
  {
   "cell_type": "code",
   "execution_count": 28,
   "metadata": {},
   "outputs": [
    {
     "name": "stdout",
     "output_type": "stream",
     "text": [
      "\n",
      "1 2 3 4 5 \n",
      "5 4 3 2 1 \n"
     ]
    }
   ],
   "source": [
    "a <- table(c(1, 1, 1, 1, 1, 2, 2, 2, 2, 3, 3, 3, 4, 4, 5))\n",
    "print(a)"
   ]
  },
  {
   "cell_type": "markdown",
   "metadata": {},
   "source": [
    "### sample\n",
    "\n",
    "The `sample` function samples with or without replacement from a list of elements."
   ]
  },
  {
   "cell_type": "code",
   "execution_count": 31,
   "metadata": {},
   "outputs": [
    {
     "name": "stdout",
     "output_type": "stream",
     "text": [
      "[1] 10  6  6  7  2\n"
     ]
    }
   ],
   "source": [
    "a <- sample(seq(1, 10), 5, replace=TRUE)\n",
    "print(a)"
   ]
  },
  {
   "cell_type": "code",
   "execution_count": 32,
   "metadata": {},
   "outputs": [
    {
     "name": "stdout",
     "output_type": "stream",
     "text": [
      "[1]  6 10  2  9  4\n"
     ]
    }
   ],
   "source": [
    "a <- sample(seq(1, 10), 5, replace=FALSE)\n",
    "print(a)"
   ]
  }
 ],
 "metadata": {
  "kernelspec": {
   "display_name": "R 3.6",
   "language": "R",
   "name": "ir36"
  },
  "language_info": {
   "codemirror_mode": "r",
   "file_extension": ".r",
   "mimetype": "text/x-r-source",
   "name": "R",
   "pygments_lexer": "r",
   "version": "3.6.1"
  }
 },
 "nbformat": 4,
 "nbformat_minor": 4
}
