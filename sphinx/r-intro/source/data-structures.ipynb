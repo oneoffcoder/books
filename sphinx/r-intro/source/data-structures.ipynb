{
 "cells": [
  {
   "cell_type": "markdown",
   "metadata": {},
   "source": [
    "# Data Structures\n",
    "\n",
    "There are five main data structures in R.\n",
    "\n",
    "* vector\n",
    "* matrix\n",
    "* array\n",
    "* list\n",
    "* data frames\n",
    "\n",
    "Note that vector, matrix and array contain elements that are all the same time (`homogeneous`), and list and data frames may contain elements of mixed types (`heterogeneous`). A list is like a vector, but heterogeneous and a data frame is like a matrix, but heterogeneous."
   ]
  },
  {
   "cell_type": "markdown",
   "metadata": {},
   "source": [
    "## Vectors\n",
    "\n",
    "### Basic vectors\n",
    "\n",
    "A vector is created using the `c` function. Note that a mixture of data types may be stored in a vector."
   ]
  },
  {
   "cell_type": "code",
   "execution_count": 1,
   "metadata": {},
   "outputs": [
    {
     "name": "stdout",
     "output_type": "stream",
     "text": [
      " [1] \"TRUE\"  \"FALSE\" \"-10\"   \"10\"    \"X\"     \"Y\"     NA      \"NaN\"   \"Inf\"  \n",
      "[10] \"-Inf\" \n"
     ]
    }
   ],
   "source": [
    "a <- c(TRUE, FALSE, -10, 10, 'X', 'Y', NA, NULL, NaN, Inf, -Inf)\n",
    "print(a)"
   ]
  },
  {
   "cell_type": "markdown",
   "metadata": {},
   "source": [
    "Note that we shoved logicals, numerics and characters into the vector `a`, but when interrogating its type, all the elements are `coerced` to `character` type. The most complex type in a vector will be the type that all the elements will be coerced into."
   ]
  },
  {
   "cell_type": "code",
   "execution_count": 2,
   "metadata": {},
   "outputs": [
    {
     "data": {
      "text/html": [
       "'character'"
      ],
      "text/latex": [
       "'character'"
      ],
      "text/markdown": [
       "'character'"
      ],
      "text/plain": [
       "[1] \"character\""
      ]
     },
     "metadata": {},
     "output_type": "display_data"
    }
   ],
   "source": [
    "typeof(a)"
   ]
  },
  {
   "cell_type": "markdown",
   "metadata": {},
   "source": [
    "### Length of vector\n",
    "\n",
    "To get the length of a vector, use `length`."
   ]
  },
  {
   "cell_type": "code",
   "execution_count": 3,
   "metadata": {},
   "outputs": [
    {
     "data": {
      "text/html": [
       "3"
      ],
      "text/latex": [
       "3"
      ],
      "text/markdown": [
       "3"
      ],
      "text/plain": [
       "[1] 3"
      ]
     },
     "metadata": {},
     "output_type": "display_data"
    }
   ],
   "source": [
    "a <- c(1, 2, 3)\n",
    "length(a)"
   ]
  },
  {
   "cell_type": "markdown",
   "metadata": {},
   "source": [
    "### Vector elements\n",
    "\n",
    "It's crazy, but true, the elements of a `R` vector are indexed starting from `1` instead of `0`. To access each element, an operation called `subsetting`, in a vector in `R` by position, use the brackets `[]` starting with `1` as follows."
   ]
  },
  {
   "cell_type": "code",
   "execution_count": 4,
   "metadata": {},
   "outputs": [
    {
     "data": {
      "text/html": [
       "1"
      ],
      "text/latex": [
       "1"
      ],
      "text/markdown": [
       "1"
      ],
      "text/plain": [
       "[1] 1"
      ]
     },
     "metadata": {},
     "output_type": "display_data"
    }
   ],
   "source": [
    "a[1]"
   ]
  },
  {
   "cell_type": "code",
   "execution_count": 5,
   "metadata": {},
   "outputs": [
    {
     "data": {
      "text/html": [
       "2"
      ],
      "text/latex": [
       "2"
      ],
      "text/markdown": [
       "2"
      ],
      "text/plain": [
       "[1] 2"
      ]
     },
     "metadata": {},
     "output_type": "display_data"
    }
   ],
   "source": [
    "a[2]"
   ]
  },
  {
   "cell_type": "markdown",
   "metadata": {},
   "source": [
    "### Named vector\n",
    "\n",
    "A `named vector` is when each element in a vector is given a name. When accessing elements in a named vector, you may access the element by name."
   ]
  },
  {
   "cell_type": "code",
   "execution_count": 6,
   "metadata": {},
   "outputs": [
    {
     "name": "stdout",
     "output_type": "stream",
     "text": [
      "      A       B       C       D       E       F \n",
      " \"TRUE\" \"FALSE\"   \"-10\"    \"10\"     \"X\"     \"Y\" \n"
     ]
    }
   ],
   "source": [
    "a <- c(A=TRUE, B=FALSE, C=-10, D=10, E='X', F='Y')\n",
    "print(a)"
   ]
  },
  {
   "cell_type": "markdown",
   "metadata": {},
   "source": [
    "Here, we may access the first element by `a['A']` or `a[1]`."
   ]
  },
  {
   "cell_type": "code",
   "execution_count": 7,
   "metadata": {},
   "outputs": [
    {
     "name": "stdout",
     "output_type": "stream",
     "text": [
      "     A \n",
      "\"TRUE\" \n"
     ]
    }
   ],
   "source": [
    "print(a['A'])"
   ]
  },
  {
   "cell_type": "code",
   "execution_count": 8,
   "metadata": {},
   "outputs": [
    {
     "name": "stdout",
     "output_type": "stream",
     "text": [
      "     A \n",
      "\"TRUE\" \n"
     ]
    }
   ],
   "source": [
    "print(a[1])"
   ]
  },
  {
   "cell_type": "markdown",
   "metadata": {},
   "source": [
    "Likewise, we may access the second element by `a['B']` or `a[2]`."
   ]
  },
  {
   "cell_type": "code",
   "execution_count": 9,
   "metadata": {},
   "outputs": [
    {
     "name": "stdout",
     "output_type": "stream",
     "text": [
      "      B \n",
      "\"FALSE\" \n"
     ]
    }
   ],
   "source": [
    "print(a['B'])"
   ]
  },
  {
   "cell_type": "code",
   "execution_count": 10,
   "metadata": {},
   "outputs": [
    {
     "name": "stdout",
     "output_type": "stream",
     "text": [
      "      B \n",
      "\"FALSE\" \n"
     ]
    }
   ],
   "source": [
    "print(a[2])"
   ]
  },
  {
   "cell_type": "markdown",
   "metadata": {},
   "source": [
    "### Subsetting vectors\n",
    "\n",
    "Here, we show different ways to subset a multiple elements of a vector. Note that subsetting is also called `slicing`. We may select multiple elements using a supplied vector of indices."
   ]
  },
  {
   "cell_type": "code",
   "execution_count": 11,
   "metadata": {},
   "outputs": [
    {
     "name": "stdout",
     "output_type": "stream",
     "text": [
      "[1] 2 4\n"
     ]
    }
   ],
   "source": [
    "a <- c(1, 2, 3, 4, 5)\n",
    "b <- a[c(2, 4)]\n",
    "print(b)"
   ]
  },
  {
   "cell_type": "markdown",
   "metadata": {},
   "source": [
    "We may also use the colon `:` operator to specify a range of elements."
   ]
  },
  {
   "cell_type": "code",
   "execution_count": 12,
   "metadata": {},
   "outputs": [
    {
     "name": "stdout",
     "output_type": "stream",
     "text": [
      "[1] 1 2\n"
     ]
    }
   ],
   "source": [
    "a <- c(1, 2, 3, 4, 5)\n",
    "b <- a[1:2]\n",
    "print(b)"
   ]
  },
  {
   "cell_type": "markdown",
   "metadata": {},
   "source": [
    "We may use a logical masking vector as well to select elements."
   ]
  },
  {
   "cell_type": "code",
   "execution_count": 13,
   "metadata": {},
   "outputs": [
    {
     "name": "stdout",
     "output_type": "stream",
     "text": [
      "[1] 1 3 5\n"
     ]
    }
   ],
   "source": [
    "a <- c(1, 2, 3, 4, 5)\n",
    "b <- a[c(TRUE, FALSE, TRUE, FALSE, TRUE)]\n",
    "print(b)"
   ]
  },
  {
   "cell_type": "markdown",
   "metadata": {},
   "source": [
    "When you use a negative sign `-` subsetting will `exclude` the matching elements."
   ]
  },
  {
   "cell_type": "code",
   "execution_count": 14,
   "metadata": {},
   "outputs": [
    {
     "name": "stdout",
     "output_type": "stream",
     "text": [
      "[1] 1 3 5\n"
     ]
    }
   ],
   "source": [
    "a <- c(1, 2, 3, 4, 5)\n",
    "b <- a[-c(2, 4)]\n",
    "print(b)"
   ]
  },
  {
   "cell_type": "markdown",
   "metadata": {},
   "source": [
    "### Math operations\n",
    "\n",
    "Math operations on vectors proceed as on numerics. Note the `%*%` operator, which is the `dot product` operator and returns a `matrix`. When you perform math operations on vectors, make sure they are of the same length or you might get unexpected results."
   ]
  },
  {
   "cell_type": "code",
   "execution_count": 15,
   "metadata": {},
   "outputs": [],
   "source": [
    "a <- c(1, 2, 3)\n",
    "b <- c(4, 5, 6)\n",
    "c <- a + b\n",
    "d <- a - b\n",
    "e <- a * b\n",
    "f <- a / b\n",
    "g <- a %% b\n",
    "h <- a %*% b"
   ]
  },
  {
   "cell_type": "code",
   "execution_count": 16,
   "metadata": {},
   "outputs": [
    {
     "name": "stdout",
     "output_type": "stream",
     "text": [
      "[1] 5 7 9\n"
     ]
    }
   ],
   "source": [
    "print(c)"
   ]
  },
  {
   "cell_type": "code",
   "execution_count": 17,
   "metadata": {},
   "outputs": [
    {
     "name": "stdout",
     "output_type": "stream",
     "text": [
      "[1] -3 -3 -3\n"
     ]
    }
   ],
   "source": [
    "print(d)"
   ]
  },
  {
   "cell_type": "code",
   "execution_count": 18,
   "metadata": {},
   "outputs": [
    {
     "name": "stdout",
     "output_type": "stream",
     "text": [
      "[1]  4 10 18\n"
     ]
    }
   ],
   "source": [
    "print(e)"
   ]
  },
  {
   "cell_type": "code",
   "execution_count": 19,
   "metadata": {},
   "outputs": [
    {
     "name": "stdout",
     "output_type": "stream",
     "text": [
      "[1] 0.25 0.40 0.50\n"
     ]
    }
   ],
   "source": [
    "print(f)"
   ]
  },
  {
   "cell_type": "code",
   "execution_count": 20,
   "metadata": {},
   "outputs": [
    {
     "name": "stdout",
     "output_type": "stream",
     "text": [
      "[1] 1 2 3\n"
     ]
    }
   ],
   "source": [
    "print(g)"
   ]
  },
  {
   "cell_type": "code",
   "execution_count": 21,
   "metadata": {},
   "outputs": [
    {
     "name": "stdout",
     "output_type": "stream",
     "text": [
      "     [,1]\n",
      "[1,]   32\n"
     ]
    }
   ],
   "source": [
    "print(h)"
   ]
  },
  {
   "cell_type": "markdown",
   "metadata": {},
   "source": [
    "### Combining\n",
    "\n",
    "Use the `c` function to combine vectors."
   ]
  },
  {
   "cell_type": "code",
   "execution_count": 22,
   "metadata": {},
   "outputs": [
    {
     "name": "stdout",
     "output_type": "stream",
     "text": [
      "[1] 1 2 3 4 5 6\n"
     ]
    }
   ],
   "source": [
    "a <- c(1, 2, 3)\n",
    "b <- c(4, 5, 6)\n",
    "c <- c(a, b)\n",
    "print(c)"
   ]
  },
  {
   "cell_type": "markdown",
   "metadata": {},
   "source": [
    "### Sorting\n",
    "\n",
    "Use the `sort` function to sort elements of a vector."
   ]
  },
  {
   "cell_type": "code",
   "execution_count": 23,
   "metadata": {},
   "outputs": [
    {
     "name": "stdout",
     "output_type": "stream",
     "text": [
      "[1]  2  5  7  8 10\n"
     ]
    }
   ],
   "source": [
    "a <- c(10, 5, 2, 8, 7)\n",
    "b <- sort(a)\n",
    "print(b)"
   ]
  },
  {
   "cell_type": "markdown",
   "metadata": {},
   "source": [
    "### Factors\n",
    "\n",
    "Factors represent categorical values and you may create them from vectors using the `factor` function. Note that factors have `levels`, which is an ordering placed on the unique elements of the factor. If no explicit `levels` is specified, the ordering is alphabetical."
   ]
  },
  {
   "cell_type": "code",
   "execution_count": 24,
   "metadata": {},
   "outputs": [
    {
     "name": "stdout",
     "output_type": "stream",
     "text": [
      "[1] water  soda   tea    coffee\n",
      "Levels: coffee soda tea water\n"
     ]
    }
   ],
   "source": [
    "a <- factor(c('water', 'soda', 'tea', 'coffee'))\n",
    "print(a)"
   ]
  },
  {
   "cell_type": "markdown",
   "metadata": {},
   "source": [
    "Here is a specific `levels` placed on the factor (most caffeine to least)."
   ]
  },
  {
   "cell_type": "code",
   "execution_count": 25,
   "metadata": {},
   "outputs": [
    {
     "name": "stdout",
     "output_type": "stream",
     "text": [
      "[1] water  soda   tea    coffee\n",
      "Levels: tea coffee soda water\n"
     ]
    }
   ],
   "source": [
    "a <- factor(\n",
    "        c('water', 'soda', 'tea', 'coffee'), \n",
    "        levels=c('tea', 'coffee', 'soda', 'water'))\n",
    "print(a)"
   ]
  },
  {
   "cell_type": "markdown",
   "metadata": {},
   "source": [
    "## Matrix\n",
    "\n",
    "### Creation\n",
    "\n",
    "A matrix is created using the `matrix` function. Note that you may supply a vector and the number of rows and columns of the matrix during instantiation/creation. The matrix is created column-wise by default."
   ]
  },
  {
   "cell_type": "code",
   "execution_count": 26,
   "metadata": {},
   "outputs": [
    {
     "name": "stdout",
     "output_type": "stream",
     "text": [
      "     [,1] [,2]\n",
      "[1,]    1    3\n",
      "[2,]    2    4\n"
     ]
    }
   ],
   "source": [
    "A <- matrix(c(1, 2, 3, 4), nrow=2, ncol=2)\n",
    "print(A)"
   ]
  },
  {
   "cell_type": "markdown",
   "metadata": {},
   "source": [
    "To create a matrix with a vector of data by row, use `byrow=TRUE`."
   ]
  },
  {
   "cell_type": "code",
   "execution_count": 27,
   "metadata": {},
   "outputs": [
    {
     "name": "stdout",
     "output_type": "stream",
     "text": [
      "     [,1] [,2]\n",
      "[1,]    1    2\n",
      "[2,]    3    4\n"
     ]
    }
   ],
   "source": [
    "A <- matrix(c(1, 2, 3, 4), nrow=2, ncol=2, byrow=TRUE)\n",
    "print(A)"
   ]
  },
  {
   "cell_type": "markdown",
   "metadata": {},
   "source": [
    "### Subsetting matrices\n",
    "\n",
    "To access one or more elements in an array, use positional indices with the brackets `[]` and `:`. "
   ]
  },
  {
   "cell_type": "code",
   "execution_count": 28,
   "metadata": {},
   "outputs": [
    {
     "name": "stdout",
     "output_type": "stream",
     "text": [
      "     [,1] [,2] [,3]\n",
      "[1,]    0    1    2\n",
      "[2,]    3    4    5\n",
      "[3,]    6    7    9\n"
     ]
    }
   ],
   "source": [
    "A <- matrix(c(0, 1, 2, 3, 4, 5, 6, 7, 9), nrow=3, byrow=TRUE)\n",
    "print(A)"
   ]
  },
  {
   "cell_type": "markdown",
   "metadata": {},
   "source": [
    "Get one element."
   ]
  },
  {
   "cell_type": "code",
   "execution_count": 29,
   "metadata": {},
   "outputs": [
    {
     "name": "stdout",
     "output_type": "stream",
     "text": [
      "[1] 0\n"
     ]
    }
   ],
   "source": [
    "a <- A[1, 1]\n",
    "print(a)"
   ]
  },
  {
   "cell_type": "markdown",
   "metadata": {},
   "source": [
    "Get multiple elements (second and third rows, first column)."
   ]
  },
  {
   "cell_type": "code",
   "execution_count": 30,
   "metadata": {},
   "outputs": [
    {
     "name": "stdout",
     "output_type": "stream",
     "text": [
      "[1] 3 6\n"
     ]
    }
   ],
   "source": [
    "a <- A[2:3, 1]\n",
    "print(a)"
   ]
  },
  {
   "cell_type": "markdown",
   "metadata": {},
   "source": [
    "Get multiple elements (first column, second and third rows)."
   ]
  },
  {
   "cell_type": "code",
   "execution_count": 31,
   "metadata": {},
   "outputs": [
    {
     "name": "stdout",
     "output_type": "stream",
     "text": [
      "[1] 1 2\n"
     ]
    }
   ],
   "source": [
    "a <- A[1, 2:3]\n",
    "print(a)"
   ]
  },
  {
   "cell_type": "markdown",
   "metadata": {},
   "source": [
    "Get multiple elements (second and third rows, second and third columns)."
   ]
  },
  {
   "cell_type": "code",
   "execution_count": 32,
   "metadata": {},
   "outputs": [
    {
     "name": "stdout",
     "output_type": "stream",
     "text": [
      "     [,1] [,2]\n",
      "[1,]    4    5\n",
      "[2,]    7    9\n"
     ]
    }
   ],
   "source": [
    "a <- A[2:3, 2:3]\n",
    "print(a)"
   ]
  },
  {
   "cell_type": "markdown",
   "metadata": {},
   "source": [
    "### Transposing\n",
    "\n",
    "Use the `t` function to transpose a matrix."
   ]
  },
  {
   "cell_type": "code",
   "execution_count": 33,
   "metadata": {},
   "outputs": [
    {
     "name": "stdout",
     "output_type": "stream",
     "text": [
      "     [,1] [,2] [,3]\n",
      "[1,]    0    1    2\n",
      "[2,]    3    4    5\n",
      "[3,]    6    7    9\n"
     ]
    }
   ],
   "source": [
    "A <- matrix(c(0, 1, 2, 3, 4, 5, 6, 7, 9), nrow=3, byrow=TRUE)\n",
    "print(A)"
   ]
  },
  {
   "cell_type": "code",
   "execution_count": 34,
   "metadata": {},
   "outputs": [
    {
     "name": "stdout",
     "output_type": "stream",
     "text": [
      "     [,1] [,2] [,3]\n",
      "[1,]    0    3    6\n",
      "[2,]    1    4    7\n",
      "[3,]    2    5    9\n"
     ]
    }
   ],
   "source": [
    "a <- t(A)\n",
    "print(a)"
   ]
  },
  {
   "cell_type": "markdown",
   "metadata": {},
   "source": [
    "### Getting matrix dimensions"
   ]
  },
  {
   "cell_type": "code",
   "execution_count": 35,
   "metadata": {},
   "outputs": [
    {
     "name": "stdout",
     "output_type": "stream",
     "text": [
      "[1] 3\n",
      "[1] 3\n"
     ]
    }
   ],
   "source": [
    "A <- matrix(c(0, 1, 2, 3, 4, 5, 6, 7, 9), nrow=3, byrow=TRUE)\n",
    "rows <- nrow(A)\n",
    "cols <- ncol(A)\n",
    "\n",
    "print(rows)\n",
    "print(cols)"
   ]
  },
  {
   "cell_type": "markdown",
   "metadata": {},
   "source": [
    "### Matrix math"
   ]
  },
  {
   "cell_type": "code",
   "execution_count": 36,
   "metadata": {},
   "outputs": [
    {
     "name": "stdout",
     "output_type": "stream",
     "text": [
      "     [,1] [,2] [,3]\n",
      "[1,]    1    2    3\n",
      "[2,]    4    5    6\n",
      "[3,]    7    8    9\n",
      "     [,1] [,2] [,3]\n",
      "[1,]    2    3    4\n",
      "[2,]    5    6    7\n",
      "[3,]    8    9    1\n",
      "[1] 1 2 3\n"
     ]
    }
   ],
   "source": [
    "A <- matrix(c(1, 2, 3, 4, 5, 6, 7, 8, 9), nrow=3, byrow=TRUE)\n",
    "B <- matrix(c(2, 3, 4, 5, 6, 7, 8, 9, 1), nrow=3, byrow=TRUE)\n",
    "x <- c(1, 2, 3)\n",
    "\n",
    "print(A)\n",
    "print(B)\n",
    "print(x)"
   ]
  },
  {
   "cell_type": "markdown",
   "metadata": {},
   "source": [
    "Add two matrices."
   ]
  },
  {
   "cell_type": "code",
   "execution_count": 37,
   "metadata": {},
   "outputs": [
    {
     "name": "stdout",
     "output_type": "stream",
     "text": [
      "     [,1] [,2] [,3]\n",
      "[1,]    3    5    7\n",
      "[2,]    9   11   13\n",
      "[3,]   15   17   10\n"
     ]
    }
   ],
   "source": [
    "r <- A + B\n",
    "print(r)"
   ]
  },
  {
   "cell_type": "markdown",
   "metadata": {},
   "source": [
    "Subtract two matrices."
   ]
  },
  {
   "cell_type": "code",
   "execution_count": 38,
   "metadata": {},
   "outputs": [
    {
     "name": "stdout",
     "output_type": "stream",
     "text": [
      "     [,1] [,2] [,3]\n",
      "[1,]   -1   -1   -1\n",
      "[2,]   -1   -1   -1\n",
      "[3,]   -1   -1    8\n"
     ]
    }
   ],
   "source": [
    "r <- A - B\n",
    "print(r)"
   ]
  },
  {
   "cell_type": "markdown",
   "metadata": {},
   "source": [
    "Multiply two matrices."
   ]
  },
  {
   "cell_type": "code",
   "execution_count": 39,
   "metadata": {},
   "outputs": [
    {
     "name": "stdout",
     "output_type": "stream",
     "text": [
      "     [,1] [,2] [,3]\n",
      "[1,]    2    6   12\n",
      "[2,]   20   30   42\n",
      "[3,]   56   72    9\n"
     ]
    }
   ],
   "source": [
    "r <- A * B\n",
    "print(r)"
   ]
  },
  {
   "cell_type": "markdown",
   "metadata": {},
   "source": [
    "Dot product of two matrices."
   ]
  },
  {
   "cell_type": "code",
   "execution_count": 40,
   "metadata": {},
   "outputs": [
    {
     "name": "stdout",
     "output_type": "stream",
     "text": [
      "     [,1] [,2] [,3]\n",
      "[1,]   36   42   21\n",
      "[2,]   81   96   57\n",
      "[3,]  126  150   93\n"
     ]
    }
   ],
   "source": [
    "r <- A %*% B\n",
    "print(r)"
   ]
  },
  {
   "cell_type": "markdown",
   "metadata": {},
   "source": [
    "Divide two matrices."
   ]
  },
  {
   "cell_type": "code",
   "execution_count": 41,
   "metadata": {},
   "outputs": [
    {
     "name": "stdout",
     "output_type": "stream",
     "text": [
      "      [,1]      [,2]      [,3]\n",
      "[1,] 0.500 0.6666667 0.7500000\n",
      "[2,] 0.800 0.8333333 0.8571429\n",
      "[3,] 0.875 0.8888889 9.0000000\n"
     ]
    }
   ],
   "source": [
    "r <- A / B\n",
    "print(r)"
   ]
  },
  {
   "cell_type": "markdown",
   "metadata": {},
   "source": [
    "Multiply vector with matrix."
   ]
  },
  {
   "cell_type": "code",
   "execution_count": 42,
   "metadata": {},
   "outputs": [
    {
     "name": "stdout",
     "output_type": "stream",
     "text": [
      "     [,1] [,2] [,3]\n",
      "[1,]    1    2    3\n",
      "[2,]    8   10   12\n",
      "[3,]   21   24   27\n"
     ]
    }
   ],
   "source": [
    "r <- x * A\n",
    "print(r)"
   ]
  },
  {
   "cell_type": "markdown",
   "metadata": {},
   "source": [
    "Dot product of vector and matrix."
   ]
  },
  {
   "cell_type": "code",
   "execution_count": 43,
   "metadata": {},
   "outputs": [
    {
     "name": "stdout",
     "output_type": "stream",
     "text": [
      "     [,1] [,2] [,3]\n",
      "[1,]   30   36   42\n"
     ]
    }
   ],
   "source": [
    "r <- x %*% A\n",
    "print(r)"
   ]
  },
  {
   "cell_type": "markdown",
   "metadata": {},
   "source": [
    "Determinant of matrix."
   ]
  },
  {
   "cell_type": "code",
   "execution_count": 44,
   "metadata": {},
   "outputs": [
    {
     "name": "stdout",
     "output_type": "stream",
     "text": [
      "[1] 6.661338e-16\n"
     ]
    }
   ],
   "source": [
    "r <- det(A)\n",
    "print(r)"
   ]
  },
  {
   "cell_type": "markdown",
   "metadata": {},
   "source": [
    "Diagonal of matrix."
   ]
  },
  {
   "cell_type": "code",
   "execution_count": 45,
   "metadata": {},
   "outputs": [
    {
     "name": "stdout",
     "output_type": "stream",
     "text": [
      "[1] 1 5 9\n"
     ]
    }
   ],
   "source": [
    "r <- diag(A)\n",
    "print(r)"
   ]
  },
  {
   "cell_type": "markdown",
   "metadata": {},
   "source": [
    "## Lists\n",
    "\n",
    "`Lists` are somewhat of a misnomer in `R` as they have more capabilities than a mere list in other programming languages. A list in `R` actually behaves like a dictionary, map or associative array. We create a list using the `list` function."
   ]
  },
  {
   "cell_type": "code",
   "execution_count": 46,
   "metadata": {},
   "outputs": [],
   "source": [
    "a <- list(TRUE, FALSE, -10, 10, 'X', 'Y', NA, NULL, NaN, Inf, -Inf)"
   ]
  },
  {
   "cell_type": "code",
   "execution_count": 47,
   "metadata": {},
   "outputs": [
    {
     "data": {
      "text/html": [
       "'list'"
      ],
      "text/latex": [
       "'list'"
      ],
      "text/markdown": [
       "'list'"
      ],
      "text/plain": [
       "[1] \"list\""
      ]
     },
     "metadata": {},
     "output_type": "display_data"
    }
   ],
   "source": [
    "typeof(a)"
   ]
  },
  {
   "cell_type": "code",
   "execution_count": 48,
   "metadata": {},
   "outputs": [
    {
     "name": "stdout",
     "output_type": "stream",
     "text": [
      "[1] \"TRUE,FALSE,-10,10,X,Y,NA,NULL,NaN,Inf,-Inf\"\n"
     ]
    }
   ],
   "source": [
    "print(paste(a, collapse=','))"
   ]
  },
  {
   "cell_type": "markdown",
   "metadata": {},
   "source": [
    "### Subsetting lists\n",
    "\n",
    "We may use brackets `[]` and `:` to access elements of a list."
   ]
  },
  {
   "cell_type": "code",
   "execution_count": 49,
   "metadata": {},
   "outputs": [
    {
     "name": "stdout",
     "output_type": "stream",
     "text": [
      "[[1]]\n",
      "[1] TRUE\n",
      "\n"
     ]
    }
   ],
   "source": [
    "b <- a[1]\n",
    "print(b)"
   ]
  },
  {
   "cell_type": "code",
   "execution_count": 50,
   "metadata": {},
   "outputs": [
    {
     "name": "stdout",
     "output_type": "stream",
     "text": [
      "[[1]]\n",
      "[1] FALSE\n",
      "\n",
      "[[2]]\n",
      "[1] -10\n",
      "\n",
      "[[3]]\n",
      "[1] 10\n",
      "\n",
      "[[4]]\n",
      "[1] \"X\"\n",
      "\n"
     ]
    }
   ],
   "source": [
    "b <- a[2:5]\n",
    "print(b)"
   ]
  },
  {
   "cell_type": "markdown",
   "metadata": {},
   "source": [
    "### Named lists\n",
    "\n",
    "As with named vectors, we also have `named lists`."
   ]
  },
  {
   "cell_type": "code",
   "execution_count": 51,
   "metadata": {},
   "outputs": [
    {
     "name": "stdout",
     "output_type": "stream",
     "text": [
      "$A\n",
      "[1] TRUE\n",
      "\n",
      "$B\n",
      "[1] FALSE\n",
      "\n",
      "$C\n",
      "[1] -10\n",
      "\n",
      "$D\n",
      "[1] 10\n",
      "\n"
     ]
    }
   ],
   "source": [
    "a <- list(A=TRUE, B=FALSE, C=-10, D=10)\n",
    "print(a)"
   ]
  },
  {
   "cell_type": "markdown",
   "metadata": {},
   "source": [
    "We may access the first element of the list `a` with `a['A']` or `a[1]`."
   ]
  },
  {
   "cell_type": "code",
   "execution_count": 52,
   "metadata": {},
   "outputs": [
    {
     "name": "stdout",
     "output_type": "stream",
     "text": [
      "$A\n",
      "[1] TRUE\n",
      "\n"
     ]
    }
   ],
   "source": [
    "b <- a['A']\n",
    "print(b)"
   ]
  },
  {
   "cell_type": "code",
   "execution_count": 53,
   "metadata": {},
   "outputs": [
    {
     "name": "stdout",
     "output_type": "stream",
     "text": [
      "$A\n",
      "[1] TRUE\n",
      "\n"
     ]
    }
   ],
   "source": [
    "b <- a[1]\n",
    "print(b)"
   ]
  },
  {
   "cell_type": "markdown",
   "metadata": {},
   "source": [
    "### List apply\n",
    "\n",
    "The `lapply` function can be used to apply a function to each element of a list. Here, we get the class of each element in the list."
   ]
  },
  {
   "cell_type": "code",
   "execution_count": 54,
   "metadata": {},
   "outputs": [
    {
     "name": "stdout",
     "output_type": "stream",
     "text": [
      "$A\n",
      "[1] \"logical\"\n",
      "\n",
      "$B\n",
      "[1] \"logical\"\n",
      "\n",
      "$C\n",
      "[1] \"numeric\"\n",
      "\n",
      "$D\n",
      "[1] \"numeric\"\n",
      "\n"
     ]
    }
   ],
   "source": [
    "a <- list(A=TRUE, B=FALSE, C=-10, D=10)\n",
    "b <- lapply(a, class)\n",
    "print(b)"
   ]
  },
  {
   "cell_type": "markdown",
   "metadata": {},
   "source": [
    "## Data Frames\n",
    "\n",
    "A `data frame` is perhaps the most powerful data structure in `R`. There are `me-too` data frame data structures in `Python` with `Pandas` and `Spark` (Spark has `DataFrame` and `DataSet`). To create a data frame in `R`, use the `data.frame` function."
   ]
  },
  {
   "cell_type": "code",
   "execution_count": 55,
   "metadata": {},
   "outputs": [
    {
     "name": "stdout",
     "output_type": "stream",
     "text": [
      "  age grade name  male\n",
      "1  18     A Jane FALSE\n",
      "2  16     B Jack  TRUE\n",
      "3  15     C  Joe  TRUE\n"
     ]
    }
   ],
   "source": [
    "s <- data.frame(\n",
    "    age = c(18, 16, 15),\n",
    "    grade = c('A', 'B', 'C'),\n",
    "    name = c('Jane', 'Jack', 'Joe'),\n",
    "    male = c(FALSE, TRUE, TRUE)\n",
    ")\n",
    "\n",
    "print(s)"
   ]
  },
  {
   "cell_type": "markdown",
   "metadata": {},
   "source": [
    "### Subsetting data frames\n",
    "\n",
    "To access the first row."
   ]
  },
  {
   "cell_type": "code",
   "execution_count": 56,
   "metadata": {},
   "outputs": [
    {
     "name": "stdout",
     "output_type": "stream",
     "text": [
      "  age grade name  male\n",
      "1  18     A Jane FALSE\n"
     ]
    }
   ],
   "source": [
    "a <- s[1, ]\n",
    "print(a)"
   ]
  },
  {
   "cell_type": "markdown",
   "metadata": {},
   "source": [
    "To access the first column."
   ]
  },
  {
   "cell_type": "code",
   "execution_count": 57,
   "metadata": {},
   "outputs": [
    {
     "name": "stdout",
     "output_type": "stream",
     "text": [
      "[1] 18 16 15\n"
     ]
    }
   ],
   "source": [
    "a <- s[, 1]\n",
    "print(a)"
   ]
  },
  {
   "cell_type": "markdown",
   "metadata": {},
   "source": [
    "To access columns by name."
   ]
  },
  {
   "cell_type": "code",
   "execution_count": 58,
   "metadata": {},
   "outputs": [
    {
     "name": "stdout",
     "output_type": "stream",
     "text": [
      "[1] 18 16 15\n"
     ]
    }
   ],
   "source": [
    "a <- s$age\n",
    "print(a)"
   ]
  },
  {
   "cell_type": "code",
   "execution_count": 59,
   "metadata": {},
   "outputs": [
    {
     "name": "stdout",
     "output_type": "stream",
     "text": [
      "[1] A B C\n",
      "Levels: A B C\n"
     ]
    }
   ],
   "source": [
    "a <- s$grade\n",
    "print(a)"
   ]
  },
  {
   "cell_type": "code",
   "execution_count": 60,
   "metadata": {},
   "outputs": [
    {
     "name": "stdout",
     "output_type": "stream",
     "text": [
      "[1] Jane Jack Joe \n",
      "Levels: Jack Jane Joe\n"
     ]
    }
   ],
   "source": [
    "a <- s$name\n",
    "print(a)"
   ]
  },
  {
   "cell_type": "code",
   "execution_count": 61,
   "metadata": {},
   "outputs": [
    {
     "name": "stdout",
     "output_type": "stream",
     "text": [
      "[1] FALSE  TRUE  TRUE\n"
     ]
    }
   ],
   "source": [
    "a <- s$male\n",
    "print(a)"
   ]
  },
  {
   "cell_type": "markdown",
   "metadata": {},
   "source": [
    "To access elements by filtering with positional indices."
   ]
  },
  {
   "cell_type": "code",
   "execution_count": 62,
   "metadata": {},
   "outputs": [
    {
     "name": "stdout",
     "output_type": "stream",
     "text": [
      "  age grade\n",
      "1  18     A\n",
      "2  16     B\n"
     ]
    }
   ],
   "source": [
    "a <- s[1:2, 1:2]\n",
    "print(a)"
   ]
  },
  {
   "cell_type": "markdown",
   "metadata": {},
   "source": [
    "If there is missing data `NA` in your data frame, use the `complete.cases` function to create a logical vector mask to filter for rows (or `cases`) with only complete data."
   ]
  },
  {
   "cell_type": "code",
   "execution_count": 63,
   "metadata": {},
   "outputs": [
    {
     "name": "stdout",
     "output_type": "stream",
     "text": [
      "  age grade  name  male\n",
      "1  18     A  Jane FALSE\n",
      "2  16     B  Jack  TRUE\n",
      "3  15     C   Joe  TRUE\n",
      "4  19  <NA> Jerry  TRUE\n"
     ]
    }
   ],
   "source": [
    "s <- data.frame(\n",
    "    age = c(18, 16, 15, 19),\n",
    "    grade = c('A', 'B', 'C', NA),\n",
    "    name = c('Jane', 'Jack', 'Joe', 'Jerry'),\n",
    "    male = c(FALSE, TRUE, TRUE, TRUE)\n",
    ")\n",
    "\n",
    "print(s)"
   ]
  },
  {
   "cell_type": "code",
   "execution_count": 64,
   "metadata": {},
   "outputs": [
    {
     "name": "stdout",
     "output_type": "stream",
     "text": [
      "[1]  TRUE  TRUE  TRUE FALSE\n"
     ]
    }
   ],
   "source": [
    "a <- complete.cases(s)\n",
    "print(a)"
   ]
  },
  {
   "cell_type": "code",
   "execution_count": 65,
   "metadata": {},
   "outputs": [
    {
     "name": "stdout",
     "output_type": "stream",
     "text": [
      "  age grade name  male\n",
      "1  18     A Jane FALSE\n",
      "2  16     B Jack  TRUE\n",
      "3  15     C  Joe  TRUE\n"
     ]
    }
   ],
   "source": [
    "a <- s[complete.cases(s), ]\n",
    "print(a)"
   ]
  },
  {
   "cell_type": "markdown",
   "metadata": {},
   "source": [
    "### Data frame functions\n",
    "\n",
    "Let's take a look at some functions that we may apply to data frames."
   ]
  },
  {
   "cell_type": "code",
   "execution_count": 66,
   "metadata": {},
   "outputs": [
    {
     "name": "stdout",
     "output_type": "stream",
     "text": [
      "      v w x y  z\n",
      "1 large 1 4 7 10\n",
      "2 small 2 5 8 11\n",
      "3 small 3 6 9 12\n"
     ]
    }
   ],
   "source": [
    "s <- data.frame(\n",
    "    v=c('large', 'small', 'small'),\n",
    "    w=c(1, 2, 3),\n",
    "    x=c(4, 5, 6), \n",
    "    y=c(7, 8, 9), \n",
    "    z=c(10, 11, 12)\n",
    ")\n",
    "\n",
    "print(s)"
   ]
  },
  {
   "cell_type": "markdown",
   "metadata": {},
   "source": [
    "To get the number of rows and columns, use `nrow` and `ncol`."
   ]
  },
  {
   "cell_type": "code",
   "execution_count": 67,
   "metadata": {},
   "outputs": [
    {
     "name": "stdout",
     "output_type": "stream",
     "text": [
      "[1] \"3 5\"\n"
     ]
    }
   ],
   "source": [
    "rows <- nrow(s)\n",
    "cols <- ncol(s)\n",
    "\n",
    "print(paste(rows, cols))"
   ]
  },
  {
   "cell_type": "markdown",
   "metadata": {},
   "source": [
    "To get the dimension, use `dim`."
   ]
  },
  {
   "cell_type": "code",
   "execution_count": 68,
   "metadata": {},
   "outputs": [
    {
     "name": "stdout",
     "output_type": "stream",
     "text": [
      "[1] 3 5\n"
     ]
    }
   ],
   "source": [
    "d <- dim(s)\n",
    "print(d)"
   ]
  },
  {
   "cell_type": "markdown",
   "metadata": {},
   "source": [
    "To get the column names, use `colnames`."
   ]
  },
  {
   "cell_type": "code",
   "execution_count": 69,
   "metadata": {},
   "outputs": [
    {
     "name": "stdout",
     "output_type": "stream",
     "text": [
      "[1] \"v\" \"w\" \"x\" \"y\" \"z\"\n"
     ]
    }
   ],
   "source": [
    "n <- colnames(s)\n",
    "print(n)"
   ]
  },
  {
   "cell_type": "markdown",
   "metadata": {},
   "source": [
    "To get the row names, use `rownames`."
   ]
  },
  {
   "cell_type": "code",
   "execution_count": 70,
   "metadata": {},
   "outputs": [
    {
     "name": "stdout",
     "output_type": "stream",
     "text": [
      "[1] \"1\" \"2\" \"3\"\n"
     ]
    }
   ],
   "source": [
    "n <- rownames(s)\n",
    "print(n)"
   ]
  },
  {
   "cell_type": "markdown",
   "metadata": {},
   "source": [
    "To peek at the top or bottom rows of the data frame, use `head` and `tail`, respectively."
   ]
  },
  {
   "cell_type": "code",
   "execution_count": 71,
   "metadata": {},
   "outputs": [
    {
     "name": "stdout",
     "output_type": "stream",
     "text": [
      "      v w x y  z\n",
      "1 large 1 4 7 10\n",
      "2 small 2 5 8 11\n"
     ]
    }
   ],
   "source": [
    "h <- head(s, 2)\n",
    "print(h)"
   ]
  },
  {
   "cell_type": "code",
   "execution_count": 72,
   "metadata": {},
   "outputs": [
    {
     "name": "stdout",
     "output_type": "stream",
     "text": [
      "      v w x y  z\n",
      "2 small 2 5 8 11\n",
      "3 small 3 6 9 12\n"
     ]
    }
   ],
   "source": [
    "t <- tail(s, 2)\n",
    "print(t)"
   ]
  }
 ],
 "metadata": {
  "kernelspec": {
   "display_name": "R 3.6",
   "language": "R",
   "name": "ir36"
  },
  "language_info": {
   "codemirror_mode": "r",
   "file_extension": ".r",
   "mimetype": "text/x-r-source",
   "name": "R",
   "pygments_lexer": "r",
   "version": "3.6.1"
  }
 },
 "nbformat": 4,
 "nbformat_minor": 4
}
