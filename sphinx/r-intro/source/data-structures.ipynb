{
 "cells": [
  {
   "cell_type": "markdown",
   "metadata": {},
   "source": [
    "# Data Structures\n",
    "\n",
    "There are five main data structures in R.\n",
    "\n",
    "* vector\n",
    "* matrix\n",
    "* array\n",
    "* list\n",
    "* data frames\n",
    "\n",
    "Note that vector, matrix and array contain elements that are all the same time (`homogeneous`), and list and data frames may contain elements of mixed types (`heterogeneous`). A list is like a vector, but heterogeneous and a data frame is like a matrix, but heterogeneous."
   ]
  },
  {
   "cell_type": "markdown",
   "metadata": {},
   "source": [
    "## Vectors\n",
    "\n",
    "### Basic vectors\n",
    "\n",
    "A vector is created using the `c` function. Note that a mixture of data types may be stored in a vector."
   ]
  },
  {
   "cell_type": "code",
   "execution_count": 1,
   "metadata": {},
   "outputs": [
    {
     "name": "stdout",
     "output_type": "stream",
     "text": [
      " [1] \"TRUE\"  \"FALSE\" \"-10\"   \"10\"    \"X\"     \"Y\"     NA      \"NaN\"   \"Inf\"  \n",
      "[10] \"-Inf\" \n"
     ]
    }
   ],
   "source": [
    "a <- c(TRUE, FALSE, -10, 10, 'X', 'Y', NA, NULL, NaN, Inf, -Inf)\n",
    "print(a)"
   ]
  },
  {
   "cell_type": "markdown",
   "metadata": {},
   "source": [
    "Note that we shoved logicals, numerics and characters into the vector `a`, but when interrogating its type, all the elements are `coerced` to `character` type. The most complex type in a vector will be the type that all the elements will be coerced into."
   ]
  },
  {
   "cell_type": "code",
   "execution_count": 2,
   "metadata": {},
   "outputs": [
    {
     "data": {
      "text/html": [
       "'character'"
      ],
      "text/latex": [
       "'character'"
      ],
      "text/markdown": [
       "'character'"
      ],
      "text/plain": [
       "[1] \"character\""
      ]
     },
     "metadata": {},
     "output_type": "display_data"
    }
   ],
   "source": [
    "typeof(a)"
   ]
  },
  {
   "cell_type": "markdown",
   "metadata": {},
   "source": [
    "### Length of vector\n",
    "\n",
    "To get the length of a vector, use `length`."
   ]
  },
  {
   "cell_type": "code",
   "execution_count": 3,
   "metadata": {},
   "outputs": [
    {
     "data": {
      "text/html": [
       "3"
      ],
      "text/latex": [
       "3"
      ],
      "text/markdown": [
       "3"
      ],
      "text/plain": [
       "[1] 3"
      ]
     },
     "metadata": {},
     "output_type": "display_data"
    }
   ],
   "source": [
    "a <- c(1, 2, 3)\n",
    "length(a)"
   ]
  },
  {
   "cell_type": "markdown",
   "metadata": {},
   "source": [
    "### Accessing individual elements\n",
    "\n",
    "It's crazy, but true, a `R` vector is indexed starting from `1` instead of `0`. To access each element in a vector in `R` by position, use the brackets starting with `1` as follows."
   ]
  },
  {
   "cell_type": "code",
   "execution_count": 4,
   "metadata": {},
   "outputs": [
    {
     "data": {
      "text/html": [
       "1"
      ],
      "text/latex": [
       "1"
      ],
      "text/markdown": [
       "1"
      ],
      "text/plain": [
       "[1] 1"
      ]
     },
     "metadata": {},
     "output_type": "display_data"
    }
   ],
   "source": [
    "a[1]"
   ]
  },
  {
   "cell_type": "code",
   "execution_count": 5,
   "metadata": {},
   "outputs": [
    {
     "data": {
      "text/html": [
       "2"
      ],
      "text/latex": [
       "2"
      ],
      "text/markdown": [
       "2"
      ],
      "text/plain": [
       "[1] 2"
      ]
     },
     "metadata": {},
     "output_type": "display_data"
    }
   ],
   "source": [
    "a[2]"
   ]
  },
  {
   "cell_type": "markdown",
   "metadata": {},
   "source": [
    "### Named vector\n",
    "\n",
    "A `named vector` is when each element in a vector is given a name. When accessing elements in a named vector, you may access the element by name."
   ]
  },
  {
   "cell_type": "code",
   "execution_count": 6,
   "metadata": {},
   "outputs": [
    {
     "name": "stdout",
     "output_type": "stream",
     "text": [
      "      A       B       C       D       E       F \n",
      " \"TRUE\" \"FALSE\"   \"-10\"    \"10\"     \"X\"     \"Y\" \n"
     ]
    }
   ],
   "source": [
    "a <- c(A=TRUE, B=FALSE, C=-10, D=10, E='X', F='Y')\n",
    "print(a)"
   ]
  },
  {
   "cell_type": "markdown",
   "metadata": {},
   "source": [
    "Here, we may access the first element by `a['A']` or `a[1]`."
   ]
  },
  {
   "cell_type": "code",
   "execution_count": 7,
   "metadata": {},
   "outputs": [
    {
     "name": "stdout",
     "output_type": "stream",
     "text": [
      "     A \n",
      "\"TRUE\" \n"
     ]
    }
   ],
   "source": [
    "print(a['A'])"
   ]
  },
  {
   "cell_type": "code",
   "execution_count": 8,
   "metadata": {},
   "outputs": [
    {
     "name": "stdout",
     "output_type": "stream",
     "text": [
      "     A \n",
      "\"TRUE\" \n"
     ]
    }
   ],
   "source": [
    "print(a[1])"
   ]
  },
  {
   "cell_type": "markdown",
   "metadata": {},
   "source": [
    "Likewise, we may access the second element by `a['B']` or `a[2]`."
   ]
  },
  {
   "cell_type": "code",
   "execution_count": 9,
   "metadata": {},
   "outputs": [
    {
     "name": "stdout",
     "output_type": "stream",
     "text": [
      "      B \n",
      "\"FALSE\" \n"
     ]
    }
   ],
   "source": [
    "print(a['B'])"
   ]
  },
  {
   "cell_type": "code",
   "execution_count": 10,
   "metadata": {},
   "outputs": [
    {
     "name": "stdout",
     "output_type": "stream",
     "text": [
      "      B \n",
      "\"FALSE\" \n"
     ]
    }
   ],
   "source": [
    "print(a[2])"
   ]
  },
  {
   "cell_type": "markdown",
   "metadata": {},
   "source": [
    "### Selecting elements\n",
    "\n",
    "We may select multiple elements using a supplied vector of indices."
   ]
  },
  {
   "cell_type": "code",
   "execution_count": 11,
   "metadata": {},
   "outputs": [
    {
     "name": "stdout",
     "output_type": "stream",
     "text": [
      "[1] 2 4\n"
     ]
    }
   ],
   "source": [
    "a <- c(1, 2, 3, 4, 5)\n",
    "b <- a[c(2, 4)]\n",
    "print(b)"
   ]
  },
  {
   "cell_type": "markdown",
   "metadata": {},
   "source": [
    "We may also use the colon `:` operator to specify a range of elements."
   ]
  },
  {
   "cell_type": "code",
   "execution_count": 12,
   "metadata": {},
   "outputs": [
    {
     "name": "stdout",
     "output_type": "stream",
     "text": [
      "[1] 1 2\n"
     ]
    }
   ],
   "source": [
    "a <- c(1, 2, 3, 4, 5)\n",
    "b <- a[1:2]\n",
    "print(b)"
   ]
  },
  {
   "cell_type": "markdown",
   "metadata": {},
   "source": [
    "We may use a logical masking vector as well to select elements."
   ]
  },
  {
   "cell_type": "code",
   "execution_count": 13,
   "metadata": {},
   "outputs": [
    {
     "name": "stdout",
     "output_type": "stream",
     "text": [
      "[1] 1 3 5\n"
     ]
    }
   ],
   "source": [
    "a <- c(1, 2, 3, 4, 5)\n",
    "b <- a[c(TRUE, FALSE, TRUE, FALSE, TRUE)]\n",
    "print(b)"
   ]
  },
  {
   "cell_type": "markdown",
   "metadata": {},
   "source": [
    "### Math operations\n",
    "\n",
    "Math operations on vectors proceed as on numerics. Note the `%*%` operator, which is the `dot product` operator and returns a `matrix`. When you perform math operations on vectors, make sure they are of the same length or you might get unexpected results."
   ]
  },
  {
   "cell_type": "code",
   "execution_count": 14,
   "metadata": {},
   "outputs": [],
   "source": [
    "a <- c(1, 2, 3)\n",
    "b <- c(4, 5, 6)\n",
    "c <- a + b\n",
    "d <- a - b\n",
    "e <- a * b\n",
    "f <- a / b\n",
    "g <- a %% b\n",
    "h <- a %*% b"
   ]
  },
  {
   "cell_type": "code",
   "execution_count": 15,
   "metadata": {},
   "outputs": [
    {
     "name": "stdout",
     "output_type": "stream",
     "text": [
      "[1] 5 7 9\n"
     ]
    }
   ],
   "source": [
    "print(c)"
   ]
  },
  {
   "cell_type": "code",
   "execution_count": 16,
   "metadata": {},
   "outputs": [
    {
     "name": "stdout",
     "output_type": "stream",
     "text": [
      "[1] -3 -3 -3\n"
     ]
    }
   ],
   "source": [
    "print(d)"
   ]
  },
  {
   "cell_type": "code",
   "execution_count": 17,
   "metadata": {},
   "outputs": [
    {
     "name": "stdout",
     "output_type": "stream",
     "text": [
      "[1]  4 10 18\n"
     ]
    }
   ],
   "source": [
    "print(e)"
   ]
  },
  {
   "cell_type": "code",
   "execution_count": 18,
   "metadata": {},
   "outputs": [
    {
     "name": "stdout",
     "output_type": "stream",
     "text": [
      "[1] 0.25 0.40 0.50\n"
     ]
    }
   ],
   "source": [
    "print(f)"
   ]
  },
  {
   "cell_type": "code",
   "execution_count": 19,
   "metadata": {},
   "outputs": [
    {
     "name": "stdout",
     "output_type": "stream",
     "text": [
      "[1] 1 2 3\n"
     ]
    }
   ],
   "source": [
    "print(g)"
   ]
  },
  {
   "cell_type": "code",
   "execution_count": 20,
   "metadata": {},
   "outputs": [
    {
     "name": "stdout",
     "output_type": "stream",
     "text": [
      "     [,1]\n",
      "[1,]   32\n"
     ]
    }
   ],
   "source": [
    "print(h)"
   ]
  },
  {
   "cell_type": "markdown",
   "metadata": {},
   "source": [
    "### Combining\n",
    "\n",
    "Use the `c` function to combine vectors."
   ]
  },
  {
   "cell_type": "code",
   "execution_count": 21,
   "metadata": {},
   "outputs": [
    {
     "name": "stdout",
     "output_type": "stream",
     "text": [
      "[1] 1 2 3 4 5 6\n"
     ]
    }
   ],
   "source": [
    "a <- c(1, 2, 3)\n",
    "b <- c(4, 5, 6)\n",
    "c <- c(a, b)\n",
    "print(c)"
   ]
  },
  {
   "cell_type": "markdown",
   "metadata": {},
   "source": [
    "### Sorting\n",
    "\n",
    "Use the `sort` function to sort elements of a vector."
   ]
  },
  {
   "cell_type": "code",
   "execution_count": 22,
   "metadata": {},
   "outputs": [
    {
     "name": "stdout",
     "output_type": "stream",
     "text": [
      "[1]  2  5  7  8 10\n"
     ]
    }
   ],
   "source": [
    "a <- c(10, 5, 2, 8, 7)\n",
    "b <- sort(a)\n",
    "print(b)"
   ]
  },
  {
   "cell_type": "markdown",
   "metadata": {},
   "source": [
    "### Factors\n",
    "\n",
    "Factors represent categorical values and you may create them from vectors using the `factor` function. Note that factors have `levels`, which is an ordering placed on the unique elements of the factor. If no explicit `levels` is specified, the ordering is alphabetical."
   ]
  },
  {
   "cell_type": "code",
   "execution_count": 23,
   "metadata": {},
   "outputs": [
    {
     "name": "stdout",
     "output_type": "stream",
     "text": [
      "[1] water  soda   tea    coffee\n",
      "Levels: coffee soda tea water\n"
     ]
    }
   ],
   "source": [
    "a <- factor(c('water', 'soda', 'tea', 'coffee'))\n",
    "print(a)"
   ]
  },
  {
   "cell_type": "markdown",
   "metadata": {},
   "source": [
    "Here is a specific `levels` placed on the factor (most caffeine to least)."
   ]
  },
  {
   "cell_type": "code",
   "execution_count": 24,
   "metadata": {},
   "outputs": [
    {
     "name": "stdout",
     "output_type": "stream",
     "text": [
      "[1] water  soda   tea    coffee\n",
      "Levels: tea coffee soda water\n"
     ]
    }
   ],
   "source": [
    "a <- factor(\n",
    "        c('water', 'soda', 'tea', 'coffee'), \n",
    "        levels=c('tea', 'coffee', 'soda', 'water'))\n",
    "print(a)"
   ]
  },
  {
   "cell_type": "markdown",
   "metadata": {},
   "source": [
    "## Matrix\n",
    "\n",
    "### Creation\n",
    "\n",
    "A matrix is created using the `matrix` function. Note that you may supply a vector and the number of rows and columns of the matrix during instantiation/creation. The matrix is created column-wise by default."
   ]
  },
  {
   "cell_type": "code",
   "execution_count": 25,
   "metadata": {},
   "outputs": [
    {
     "name": "stdout",
     "output_type": "stream",
     "text": [
      "     [,1] [,2]\n",
      "[1,]    1    3\n",
      "[2,]    2    4\n"
     ]
    }
   ],
   "source": [
    "A <- matrix(c(1, 2, 3, 4), nrow=2, ncol=2)\n",
    "print(A)"
   ]
  },
  {
   "cell_type": "markdown",
   "metadata": {},
   "source": [
    "To create a matrix with a vector of data by row, use `byrow=TRUE`."
   ]
  },
  {
   "cell_type": "code",
   "execution_count": 26,
   "metadata": {},
   "outputs": [
    {
     "name": "stdout",
     "output_type": "stream",
     "text": [
      "     [,1] [,2]\n",
      "[1,]    1    2\n",
      "[2,]    3    4\n"
     ]
    }
   ],
   "source": [
    "A <- matrix(c(1, 2, 3, 4), nrow=2, ncol=2, byrow=TRUE)\n",
    "print(A)"
   ]
  },
  {
   "cell_type": "markdown",
   "metadata": {},
   "source": [
    "### Accessing elements\n",
    "\n",
    "To access one or more elements in an array, use positional indices with the brackets `[]` and `:`. "
   ]
  },
  {
   "cell_type": "code",
   "execution_count": 27,
   "metadata": {},
   "outputs": [
    {
     "name": "stdout",
     "output_type": "stream",
     "text": [
      "     [,1] [,2] [,3]\n",
      "[1,]    0    1    2\n",
      "[2,]    3    4    5\n",
      "[3,]    6    7    9\n"
     ]
    }
   ],
   "source": [
    "A <- matrix(c(0, 1, 2, 3, 4, 5, 6, 7, 9), nrow=3, byrow=TRUE)\n",
    "print(A)"
   ]
  },
  {
   "cell_type": "markdown",
   "metadata": {},
   "source": [
    "Get one element."
   ]
  },
  {
   "cell_type": "code",
   "execution_count": 28,
   "metadata": {},
   "outputs": [
    {
     "name": "stdout",
     "output_type": "stream",
     "text": [
      "[1] 0\n"
     ]
    }
   ],
   "source": [
    "a <- A[1, 1]\n",
    "print(a)"
   ]
  },
  {
   "cell_type": "markdown",
   "metadata": {},
   "source": [
    "Get multiple elements (second and third rows, first column)."
   ]
  },
  {
   "cell_type": "code",
   "execution_count": 29,
   "metadata": {},
   "outputs": [
    {
     "name": "stdout",
     "output_type": "stream",
     "text": [
      "[1] 3 6\n"
     ]
    }
   ],
   "source": [
    "a <- A[2:3, 1]\n",
    "print(a)"
   ]
  },
  {
   "cell_type": "markdown",
   "metadata": {},
   "source": [
    "Get multiple elements (first column, second and third rows)."
   ]
  },
  {
   "cell_type": "code",
   "execution_count": 30,
   "metadata": {},
   "outputs": [
    {
     "name": "stdout",
     "output_type": "stream",
     "text": [
      "[1] 1 2\n"
     ]
    }
   ],
   "source": [
    "a <- A[1, 2:3]\n",
    "print(a)"
   ]
  },
  {
   "cell_type": "markdown",
   "metadata": {},
   "source": [
    "Get multiple elements (second and third rows, second and third columns)."
   ]
  },
  {
   "cell_type": "code",
   "execution_count": 31,
   "metadata": {},
   "outputs": [
    {
     "name": "stdout",
     "output_type": "stream",
     "text": [
      "     [,1] [,2]\n",
      "[1,]    4    5\n",
      "[2,]    7    9\n"
     ]
    }
   ],
   "source": [
    "a <- A[2:3, 2:3]\n",
    "print(a)"
   ]
  },
  {
   "cell_type": "markdown",
   "metadata": {},
   "source": [
    "### Transposing\n",
    "\n",
    "Use the `t` function to transpose a matrix."
   ]
  },
  {
   "cell_type": "code",
   "execution_count": 32,
   "metadata": {},
   "outputs": [
    {
     "name": "stdout",
     "output_type": "stream",
     "text": [
      "     [,1] [,2] [,3]\n",
      "[1,]    0    1    2\n",
      "[2,]    3    4    5\n",
      "[3,]    6    7    9\n"
     ]
    }
   ],
   "source": [
    "A <- matrix(c(0, 1, 2, 3, 4, 5, 6, 7, 9), nrow=3, byrow=TRUE)\n",
    "print(A)"
   ]
  },
  {
   "cell_type": "code",
   "execution_count": 33,
   "metadata": {},
   "outputs": [
    {
     "name": "stdout",
     "output_type": "stream",
     "text": [
      "     [,1] [,2] [,3]\n",
      "[1,]    0    3    6\n",
      "[2,]    1    4    7\n",
      "[3,]    2    5    9\n"
     ]
    }
   ],
   "source": [
    "a <- t(A)\n",
    "print(a)"
   ]
  },
  {
   "cell_type": "markdown",
   "metadata": {},
   "source": [
    "## Lists\n",
    "\n",
    "`Lists` are somewhat of a misnomer in `R` as they have more capabilities than a mere list in other programming languages. A list in `R` actually behaves like a dictionary, map or associative array. We create a list using the `list` function."
   ]
  },
  {
   "cell_type": "code",
   "execution_count": 34,
   "metadata": {},
   "outputs": [],
   "source": [
    "a <- list(TRUE, FALSE, -10, 10, 'X', 'Y', NA, NULL, NaN, Inf, -Inf)"
   ]
  },
  {
   "cell_type": "code",
   "execution_count": 35,
   "metadata": {},
   "outputs": [
    {
     "data": {
      "text/html": [
       "'list'"
      ],
      "text/latex": [
       "'list'"
      ],
      "text/markdown": [
       "'list'"
      ],
      "text/plain": [
       "[1] \"list\""
      ]
     },
     "metadata": {},
     "output_type": "display_data"
    }
   ],
   "source": [
    "typeof(a)"
   ]
  },
  {
   "cell_type": "code",
   "execution_count": 36,
   "metadata": {},
   "outputs": [
    {
     "name": "stdout",
     "output_type": "stream",
     "text": [
      "[[1]]\n",
      "[1] TRUE\n",
      "\n",
      "[[2]]\n",
      "[1] FALSE\n",
      "\n",
      "[[3]]\n",
      "[1] -10\n",
      "\n",
      "[[4]]\n",
      "[1] 10\n",
      "\n",
      "[[5]]\n",
      "[1] \"X\"\n",
      "\n",
      "[[6]]\n",
      "[1] \"Y\"\n",
      "\n",
      "[[7]]\n",
      "[1] NA\n",
      "\n",
      "[[8]]\n",
      "NULL\n",
      "\n",
      "[[9]]\n",
      "[1] NaN\n",
      "\n",
      "[[10]]\n",
      "[1] Inf\n",
      "\n",
      "[[11]]\n",
      "[1] -Inf\n",
      "\n"
     ]
    }
   ],
   "source": [
    "print(a)"
   ]
  },
  {
   "cell_type": "markdown",
   "metadata": {},
   "source": [
    "### Accessing elements\n",
    "\n",
    "We may use brackets `[]` and `:` to access elements of a list."
   ]
  },
  {
   "cell_type": "code",
   "execution_count": 37,
   "metadata": {},
   "outputs": [
    {
     "name": "stdout",
     "output_type": "stream",
     "text": [
      "[[1]]\n",
      "[1] TRUE\n",
      "\n"
     ]
    }
   ],
   "source": [
    "b <- a[1]\n",
    "print(b)"
   ]
  },
  {
   "cell_type": "code",
   "execution_count": 38,
   "metadata": {},
   "outputs": [
    {
     "name": "stdout",
     "output_type": "stream",
     "text": [
      "[[1]]\n",
      "[1] FALSE\n",
      "\n",
      "[[2]]\n",
      "[1] -10\n",
      "\n",
      "[[3]]\n",
      "[1] 10\n",
      "\n",
      "[[4]]\n",
      "[1] \"X\"\n",
      "\n"
     ]
    }
   ],
   "source": [
    "b <- a[2:5]\n",
    "print(b)"
   ]
  },
  {
   "cell_type": "markdown",
   "metadata": {},
   "source": [
    "### Named lists\n",
    "\n",
    "As with named vectors, we also have `named lists`."
   ]
  },
  {
   "cell_type": "code",
   "execution_count": 39,
   "metadata": {},
   "outputs": [
    {
     "name": "stdout",
     "output_type": "stream",
     "text": [
      "$A\n",
      "[1] TRUE\n",
      "\n",
      "$B\n",
      "[1] FALSE\n",
      "\n",
      "$C\n",
      "[1] -10\n",
      "\n",
      "$D\n",
      "[1] 10\n",
      "\n"
     ]
    }
   ],
   "source": [
    "a <- list(A=TRUE, B=FALSE, C=-10, D=10)\n",
    "print(a)"
   ]
  },
  {
   "cell_type": "markdown",
   "metadata": {},
   "source": [
    "We may access the first element of the list `a` with `a['A']` or `a[1]`."
   ]
  },
  {
   "cell_type": "code",
   "execution_count": 40,
   "metadata": {},
   "outputs": [
    {
     "name": "stdout",
     "output_type": "stream",
     "text": [
      "$A\n",
      "[1] TRUE\n",
      "\n"
     ]
    }
   ],
   "source": [
    "b <- a['A']\n",
    "print(b)"
   ]
  },
  {
   "cell_type": "code",
   "execution_count": 41,
   "metadata": {},
   "outputs": [
    {
     "name": "stdout",
     "output_type": "stream",
     "text": [
      "$A\n",
      "[1] TRUE\n",
      "\n"
     ]
    }
   ],
   "source": [
    "b <- a[1]\n",
    "print(b)"
   ]
  },
  {
   "cell_type": "markdown",
   "metadata": {},
   "source": [
    "### List apply\n",
    "\n",
    "The `lapply` function can be used to apply a function to each element of a list. Here, we get the class of each element in the list."
   ]
  },
  {
   "cell_type": "code",
   "execution_count": 42,
   "metadata": {},
   "outputs": [
    {
     "name": "stdout",
     "output_type": "stream",
     "text": [
      "$A\n",
      "[1] \"logical\"\n",
      "\n",
      "$B\n",
      "[1] \"logical\"\n",
      "\n",
      "$C\n",
      "[1] \"numeric\"\n",
      "\n",
      "$D\n",
      "[1] \"numeric\"\n",
      "\n"
     ]
    }
   ],
   "source": [
    "a <- list(A=TRUE, B=FALSE, C=-10, D=10)\n",
    "b <- lapply(a, class)\n",
    "print(b)"
   ]
  },
  {
   "cell_type": "markdown",
   "metadata": {},
   "source": [
    "## Data Frames\n",
    "\n",
    "A `data frame` is perhaps the most powerful data structure in `R`. There are `me-too` data frame data structures in `Python` with `Pandas` and `Spark`. To create a data frame in `R`, use the `data.frame` function."
   ]
  },
  {
   "cell_type": "code",
   "execution_count": 43,
   "metadata": {},
   "outputs": [
    {
     "name": "stdout",
     "output_type": "stream",
     "text": [
      "  age grade name  male\n",
      "1  18     A Jane FALSE\n",
      "2  16     B Jack  TRUE\n",
      "3  15     C  Joe  TRUE\n"
     ]
    }
   ],
   "source": [
    "s <- data.frame(\n",
    "    age = c(18, 16, 15),\n",
    "    grade = c('A', 'B', 'C'),\n",
    "    name = c('Jane', 'Jack', 'Joe'),\n",
    "    male = c(FALSE, TRUE, TRUE)\n",
    ")\n",
    "\n",
    "print(s)"
   ]
  },
  {
   "cell_type": "markdown",
   "metadata": {},
   "source": [
    "### Accessing elements\n",
    "\n",
    "To access the first row."
   ]
  },
  {
   "cell_type": "code",
   "execution_count": 44,
   "metadata": {},
   "outputs": [
    {
     "name": "stdout",
     "output_type": "stream",
     "text": [
      "  age grade name  male\n",
      "1  18     A Jane FALSE\n"
     ]
    }
   ],
   "source": [
    "a <- s[1, ]\n",
    "print(a)"
   ]
  },
  {
   "cell_type": "markdown",
   "metadata": {},
   "source": [
    "To access the first column."
   ]
  },
  {
   "cell_type": "code",
   "execution_count": 45,
   "metadata": {},
   "outputs": [
    {
     "name": "stdout",
     "output_type": "stream",
     "text": [
      "[1] 18 16 15\n"
     ]
    }
   ],
   "source": [
    "a <- s[, 1]\n",
    "print(a)"
   ]
  },
  {
   "cell_type": "markdown",
   "metadata": {},
   "source": [
    "To access columns by name."
   ]
  },
  {
   "cell_type": "code",
   "execution_count": 46,
   "metadata": {},
   "outputs": [
    {
     "name": "stdout",
     "output_type": "stream",
     "text": [
      "[1] 18 16 15\n"
     ]
    }
   ],
   "source": [
    "a <- s$age\n",
    "print(a)"
   ]
  },
  {
   "cell_type": "code",
   "execution_count": 47,
   "metadata": {},
   "outputs": [
    {
     "name": "stdout",
     "output_type": "stream",
     "text": [
      "[1] A B C\n",
      "Levels: A B C\n"
     ]
    }
   ],
   "source": [
    "a <- s$grade\n",
    "print(a)"
   ]
  },
  {
   "cell_type": "code",
   "execution_count": 48,
   "metadata": {},
   "outputs": [
    {
     "name": "stdout",
     "output_type": "stream",
     "text": [
      "[1] Jane Jack Joe \n",
      "Levels: Jack Jane Joe\n"
     ]
    }
   ],
   "source": [
    "a <- s$name\n",
    "print(a)"
   ]
  },
  {
   "cell_type": "code",
   "execution_count": 49,
   "metadata": {},
   "outputs": [
    {
     "name": "stdout",
     "output_type": "stream",
     "text": [
      "[1] FALSE  TRUE  TRUE\n"
     ]
    }
   ],
   "source": [
    "a <- s$male\n",
    "print(a)"
   ]
  },
  {
   "cell_type": "markdown",
   "metadata": {},
   "source": [
    "To access elements by filtering with positional indices."
   ]
  },
  {
   "cell_type": "code",
   "execution_count": 50,
   "metadata": {},
   "outputs": [
    {
     "name": "stdout",
     "output_type": "stream",
     "text": [
      "  age grade\n",
      "1  18     A\n",
      "2  16     B\n"
     ]
    }
   ],
   "source": [
    "a <- s[1:2, 1:2]\n",
    "print(a)"
   ]
  },
  {
   "cell_type": "markdown",
   "metadata": {},
   "source": [
    "If there is missing data `NA` in your data frame, use the `complete.cases` function to create a logical vector mask to filter for rows (or `cases`) with only complete data."
   ]
  },
  {
   "cell_type": "code",
   "execution_count": 51,
   "metadata": {},
   "outputs": [
    {
     "name": "stdout",
     "output_type": "stream",
     "text": [
      "  age grade  name  male\n",
      "1  18     A  Jane FALSE\n",
      "2  16     B  Jack  TRUE\n",
      "3  15     C   Joe  TRUE\n",
      "4  19  <NA> Jerry  TRUE\n"
     ]
    }
   ],
   "source": [
    "s <- data.frame(\n",
    "    age = c(18, 16, 15, 19),\n",
    "    grade = c('A', 'B', 'C', NA),\n",
    "    name = c('Jane', 'Jack', 'Joe', 'Jerry'),\n",
    "    male = c(FALSE, TRUE, TRUE, TRUE)\n",
    ")\n",
    "\n",
    "print(s)"
   ]
  },
  {
   "cell_type": "code",
   "execution_count": 52,
   "metadata": {},
   "outputs": [
    {
     "name": "stdout",
     "output_type": "stream",
     "text": [
      "[1]  TRUE  TRUE  TRUE FALSE\n"
     ]
    }
   ],
   "source": [
    "a <- complete.cases(s)\n",
    "print(a)"
   ]
  },
  {
   "cell_type": "code",
   "execution_count": 53,
   "metadata": {},
   "outputs": [
    {
     "name": "stdout",
     "output_type": "stream",
     "text": [
      "  age grade name  male\n",
      "1  18     A Jane FALSE\n",
      "2  16     B Jack  TRUE\n",
      "3  15     C  Joe  TRUE\n"
     ]
    }
   ],
   "source": [
    "a <- s[complete.cases(s), ]\n",
    "print(a)"
   ]
  }
 ],
 "metadata": {
  "kernelspec": {
   "display_name": "R 3.6",
   "language": "R",
   "name": "ir36"
  },
  "language_info": {
   "codemirror_mode": "r",
   "file_extension": ".r",
   "mimetype": "text/x-r-source",
   "name": "R",
   "pygments_lexer": "r",
   "version": "3.6.1"
  }
 },
 "nbformat": 4,
 "nbformat_minor": 4
}
