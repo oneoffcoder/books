{
 "cells": [
  {
   "cell_type": "markdown",
   "metadata": {},
   "source": [
    "# Data Distributions"
   ]
  },
  {
   "cell_type": "code",
   "execution_count": 1,
   "metadata": {},
   "outputs": [],
   "source": [
    "set.seed(37)"
   ]
  },
  {
   "cell_type": "markdown",
   "metadata": {},
   "source": [
    "## Normal distribution\n",
    "\n",
    "The following are functions dealing with the `normal` distribution.\n",
    "\n",
    "* `rnorm` samples from the normal distribution\n",
    "* `pnorm` returns the probability of a sample (`quantile`)\n",
    "* `qnorm` returns the quantile for a given probability\n",
    "* `dnorm` returns the density function for an array of values"
   ]
  },
  {
   "cell_type": "markdown",
   "metadata": {},
   "source": [
    "The `rnorm` function simply samples data points."
   ]
  },
  {
   "cell_type": "code",
   "execution_count": 2,
   "metadata": {},
   "outputs": [
    {
     "name": "stdout",
     "output_type": "stream",
     "text": [
      " [1]  0.1247540  0.3820746  0.5792428 -0.2937481 -0.8283492 -0.3327136\n",
      " [7] -0.1921595  1.3629827  0.8559544  0.2159955\n"
     ]
    }
   ],
   "source": [
    "s <- rnorm(10, mean=0, sd=1)\n",
    "print(s)"
   ]
  },
  {
   "cell_type": "markdown",
   "metadata": {},
   "source": [
    "The `pnorm` function gives you the cummulative probability up to the specified quantile."
   ]
  },
  {
   "cell_type": "code",
   "execution_count": 3,
   "metadata": {},
   "outputs": [
    {
     "name": "stdout",
     "output_type": "stream",
     "text": [
      " [1] 0.1586553 0.3445783 0.3820886 0.4207403 0.4601722 0.5000000 0.5398278\n",
      " [8] 0.5792597 0.6179114 0.6554217 0.8413447\n"
     ]
    }
   ],
   "source": [
    "p <- pnorm(c(-1.0, -0.4, -0.3, -0.2, -0.1, 0.0, 0.1, 0.2, 0.3, 0.4, 1.0), mean=0, sd=1)\n",
    "print(p)"
   ]
  },
  {
   "cell_type": "markdown",
   "metadata": {},
   "source": [
    "The `qnorm` function maps the quantile probability back to the quantile."
   ]
  },
  {
   "cell_type": "code",
   "execution_count": 4,
   "metadata": {},
   "outputs": [
    {
     "name": "stdout",
     "output_type": "stream",
     "text": [
      " [1] -1.0 -0.4 -0.3 -0.2 -0.1  0.0  0.1  0.2  0.3  0.4  1.0\n"
     ]
    }
   ],
   "source": [
    "q <- qnorm(p, mean=0, sd=1)\n",
    "print(q)"
   ]
  },
  {
   "cell_type": "markdown",
   "metadata": {},
   "source": [
    "The `dnorm` function gives the probability of the data point."
   ]
  },
  {
   "cell_type": "code",
   "execution_count": 5,
   "metadata": {},
   "outputs": [
    {
     "name": "stdout",
     "output_type": "stream",
     "text": [
      " [1] 0.3958498 0.3708606 0.3373280 0.3820963 0.2830817 0.3774611 0.3916443\n",
      " [8] 0.1575835 0.2765766 0.3897438\n"
     ]
    }
   ],
   "source": [
    "d <- dnorm(s, mean=0, sd=1)\n",
    "print(d)"
   ]
  },
  {
   "cell_type": "markdown",
   "metadata": {},
   "source": [
    "## Other distributions\n",
    "\n",
    "There are other distributions besides the normal distribution. They have the corresponding functions as with the normal distribution.\n",
    "\n",
    "* `r`\n",
    "* `p`\n",
    "* `q`\n",
    "* `d`\n",
    "\n",
    "| command | distribution |\n",
    "| --- | --- |\n",
    "| dbeta | beta |\n",
    "| dbinom | binomial |\n",
    "| dcauchy | Cauchy |\n",
    "| dchisq | chi-squared |\n",
    "| dexp | exponential |\n",
    "| df | F distribution |\n",
    "| dgamma | gamma |\n",
    "| dgeom | geometric |\n",
    "| dhyper | hypergeometric |\n",
    "| dlnorm | log-normal |\n",
    "| dmultinom | multinomial |\n",
    "| dnbinom | negative binomial |\n",
    "| dnorm | normal |\n",
    "| dpois | Poisson |\n",
    "| dt | Student’s t |\n",
    "| dunif | uniform distribution |\n",
    "| dweibull | Weibull |\n",
    "| dwilcox | Wilcoxon rank sum |\n",
    "| ptukey | Studentized range |\n",
    "| dsignrank | Wilcoxon signed rank |"
   ]
  },
  {
   "cell_type": "markdown",
   "metadata": {},
   "source": [
    "## Normality test\n",
    "\n",
    "You may use the `Shapiro-Wilk Test` to test for normality. Below, we sample from a normal distribution and test for normality. Note that the `p-value` is greater than (let's say) 0.05, and so we fail to reject the null hypothesis (there is no difference between the normal distribution and the one observed)."
   ]
  },
  {
   "cell_type": "code",
   "execution_count": 6,
   "metadata": {},
   "outputs": [
    {
     "name": "stdout",
     "output_type": "stream",
     "text": [
      "\n",
      "\tShapiro-Wilk normality test\n",
      "\n",
      "data:  x\n",
      "W = 0.99869, p-value = 0.6793\n",
      "\n"
     ]
    }
   ],
   "source": [
    "x <- rnorm(1000, m=0, sd=1)\n",
    "r <- shapiro.test(x)\n",
    "print(r)"
   ]
  },
  {
   "cell_type": "markdown",
   "metadata": {},
   "source": [
    "Now, we sample from a `Poisson` distribution and apply the normality test. The `p-value` is less than 0.05 and so we reject the null hypothesis in favor the the alternative one (there is a difference between the normal distribution and the one observed)."
   ]
  },
  {
   "cell_type": "code",
   "execution_count": 7,
   "metadata": {},
   "outputs": [
    {
     "name": "stdout",
     "output_type": "stream",
     "text": [
      "\n",
      "\tShapiro-Wilk normality test\n",
      "\n",
      "data:  x\n",
      "W = 0.94566, p-value < 2.2e-16\n",
      "\n"
     ]
    }
   ],
   "source": [
    "x <- rpois(1000, lambda=3)\n",
    "r <- shapiro.test(x)\n",
    "print(r)"
   ]
  },
  {
   "cell_type": "markdown",
   "metadata": {},
   "source": [
    "## Comparing two distributions\n",
    "\n",
    "We may use the `Kolmogorov-Smirnov Test` (or `KS Test`) to test if two distributions are the same."
   ]
  },
  {
   "cell_type": "code",
   "execution_count": 8,
   "metadata": {},
   "outputs": [
    {
     "name": "stdout",
     "output_type": "stream",
     "text": [
      "\n",
      "\tTwo-sample Kolmogorov-Smirnov test\n",
      "\n",
      "data:  x and y\n",
      "D = 0.032, p-value = 0.6852\n",
      "alternative hypothesis: two-sided\n",
      "\n"
     ]
    }
   ],
   "source": [
    "x <- rnorm(1000, m=0, sd=1)\n",
    "y <- rnorm(1000, m=0, sd=1)\n",
    "r <- ks.test(x, y)\n",
    "print(r)"
   ]
  },
  {
   "cell_type": "markdown",
   "metadata": {},
   "source": [
    "The `KS Test` may also be called with a probability function. Below, we use `pnorm` to test if the distribution of `x` follows a normal distribution with mean 0 and standard deviation 1."
   ]
  },
  {
   "cell_type": "code",
   "execution_count": 9,
   "metadata": {},
   "outputs": [
    {
     "name": "stdout",
     "output_type": "stream",
     "text": [
      "\n",
      "\tOne-sample Kolmogorov-Smirnov test\n",
      "\n",
      "data:  x\n",
      "D = 0.02782, p-value = 0.4213\n",
      "alternative hypothesis: two-sided\n",
      "\n"
     ]
    }
   ],
   "source": [
    "x <- rnorm(1000, m=0, sd=1)\n",
    "r <- ks.test(x, 'pnorm', mean=0, sd=1)\n",
    "print(r)"
   ]
  },
  {
   "cell_type": "markdown",
   "metadata": {},
   "source": [
    "Now we compare with a normal distribution with mean 5 and standard deviation 1."
   ]
  },
  {
   "cell_type": "code",
   "execution_count": 10,
   "metadata": {},
   "outputs": [
    {
     "name": "stdout",
     "output_type": "stream",
     "text": [
      "\n",
      "\tOne-sample Kolmogorov-Smirnov test\n",
      "\n",
      "data:  x\n",
      "D = 0.98743, p-value < 2.2e-16\n",
      "alternative hypothesis: two-sided\n",
      "\n"
     ]
    }
   ],
   "source": [
    "x <- rnorm(1000, m=5, sd=1)\n",
    "r <- ks.test(x, 'pnorm', mean=0, sd=1)\n",
    "print(r)"
   ]
  },
  {
   "cell_type": "markdown",
   "metadata": {},
   "source": [
    "Here, we use `ppois` to test if the distribution of `x` follows a Poisson distribution with lambda 5."
   ]
  },
  {
   "cell_type": "code",
   "execution_count": 11,
   "metadata": {},
   "outputs": [
    {
     "name": "stdout",
     "output_type": "stream",
     "text": [
      "\n",
      "\tOne-sample Kolmogorov-Smirnov test\n",
      "\n",
      "data:  x\n",
      "D = 0.93457, p-value < 2.2e-16\n",
      "alternative hypothesis: two-sided\n",
      "\n"
     ]
    }
   ],
   "source": [
    "x <- rnorm(1000, m=0, sd=1)\n",
    "r <- ks.test(x, 'ppois', 5)\n",
    "print(r)"
   ]
  },
  {
   "cell_type": "markdown",
   "metadata": {},
   "source": [
    "## Quantile-Quantile Plot\n",
    "\n",
    "The `Quantile-Quantile Plot` (`QQ Plot`) is a visual way to also test for normality. To idea is to see if the data points fall on the straight line."
   ]
  },
  {
   "cell_type": "markdown",
   "metadata": {},
   "source": [
    "### qqnorm\n",
    "\n",
    "The `qqnorm` function provides a way to visually tests if a distribution is normal. Note the use of `qqline` to draw the straight line."
   ]
  },
  {
   "cell_type": "code",
   "execution_count": 12,
   "metadata": {},
   "outputs": [
    {
     "data": {
      "image/png": "[encoded data removed]",
      "text/plain": [
       "Plot with title “Normal Q-Q Plot”"
      ]
     },
     "metadata": {},
     "output_type": "display_data"
    }
   ],
   "source": [
    "x <- c(1, 2, 2, 3, 3, 3, 3, 3, 4, 4, 5)\n",
    "\n",
    "options(repr.plot.width=4, repr.plot.height=4)\n",
    "\n",
    "qqnorm(x)\n",
    "qqline(x, lwd=2, lty=2)"
   ]
  },
  {
   "cell_type": "markdown",
   "metadata": {},
   "source": [
    "Here, we sample from a normal distribution and form a `QQ Plot`. Note that the data falls nearly on the straight line."
   ]
  },
  {
   "cell_type": "code",
   "execution_count": 13,
   "metadata": {},
   "outputs": [
    {
     "data": {
      "image/png": "[encoded data removed]",
      "text/plain": [
       "Plot with title “Normal Q-Q Plot”"
      ]
     },
     "metadata": {},
     "output_type": "display_data"
    }
   ],
   "source": [
    "x <- rnorm(100, m=0, sd=1)\n",
    "\n",
    "options(repr.plot.width=4, repr.plot.height=4)\n",
    "\n",
    "qqnorm(x)\n",
    "qqline(x, lwd=2, lty=2)"
   ]
  },
  {
   "cell_type": "markdown",
   "metadata": {},
   "source": [
    "### qqplot\n",
    "\n",
    "The `qqplot` function may be used to compare two distributions. Below, we compare the distribution of data coming from a Poisson distribution to that coming from a normal distribution."
   ]
  },
  {
   "cell_type": "code",
   "execution_count": 14,
   "metadata": {},
   "outputs": [
    {
     "data": {
      "image/png": "[encoded data removed]",
      "text/plain": [
       "plot without title"
      ]
     },
     "metadata": {},
     "output_type": "display_data"
    }
   ],
   "source": [
    "options(repr.plot.width=4, repr.plot.height=4)\n",
    "\n",
    "p <- qqplot(rpois(100, lambda=3), rnorm(100, mean=5, sd=1))\n",
    "abline(lm(p$y ~ p$x))"
   ]
  },
  {
   "cell_type": "markdown",
   "metadata": {},
   "source": [
    "Here, we compare two normal distributions parameterized differently."
   ]
  },
  {
   "cell_type": "code",
   "execution_count": 15,
   "metadata": {},
   "outputs": [
    {
     "data": {
      "image/png": "[encoded data removed]",
      "text/plain": [
       "plot without title"
      ]
     },
     "metadata": {},
     "output_type": "display_data"
    }
   ],
   "source": [
    "options(repr.plot.width=4, repr.plot.height=4)\n",
    "\n",
    "p <- qqplot(rnorm(100, mean=2, sd=1), rnorm(100, mean=5, sd=1))\n",
    "abline(lm(p$y ~ p$x))"
   ]
  },
  {
   "cell_type": "markdown",
   "metadata": {},
   "source": [
    "Here, we compare two normal distributions parameterized the same."
   ]
  },
  {
   "cell_type": "code",
   "execution_count": 16,
   "metadata": {},
   "outputs": [
    {
     "data": {
      "image/png": "[encoded data removed]",
      "text/plain": [
       "plot without title"
      ]
     },
     "metadata": {},
     "output_type": "display_data"
    }
   ],
   "source": [
    "options(repr.plot.width=4, repr.plot.height=4)\n",
    "\n",
    "p <- qqplot(rnorm(100, mean=5, sd=1), rnorm(100, mean=5, sd=1))\n",
    "abline(lm(p$y ~ p$x))"
   ]
  }
 ],
 "metadata": {
  "kernelspec": {
   "display_name": "R 3.6",
   "language": "R",
   "name": "ir36"
  },
  "language_info": {
   "codemirror_mode": "r",
   "file_extension": ".r",
   "mimetype": "text/x-r-source",
   "name": "R",
   "pygments_lexer": "r",
   "version": "3.6.1"
  }
 },
 "nbformat": 4,
 "nbformat_minor": 4
}
