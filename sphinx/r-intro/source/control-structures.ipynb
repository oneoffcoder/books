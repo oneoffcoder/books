{
 "cells": [
  {
   "cell_type": "markdown",
   "metadata": {},
   "source": [
    "# Control Structures\n",
    "\n",
    "Control structures are used to control the flow of your code or program. Basically, control structures are used to decide what to do; as basic as they are, control structures are the basis of `intelligence` in computer programs. "
   ]
  },
  {
   "cell_type": "markdown",
   "metadata": {},
   "source": [
    "## if-else\n",
    "\n",
    "In the `if-else` statement, you must evaluate an expression that will return a boolean (`TRUE` or `FALSE`) value. Typically, expressions are evaluated using mathematical comparison operators.\n",
    "\n",
    "* `<` less than\n",
    "* `>` greater than\n",
    "* `<=` less than or equal\n",
    "* `>=` greater than or equal\n",
    "* `==` equals to\n",
    "* `!=` not equals\n",
    "\n",
    "Here are some example using simple `if-else` statements to evaluate a variable `x` satisfies some comparisons."
   ]
  },
  {
   "cell_type": "code",
   "execution_count": 1,
   "metadata": {},
   "outputs": [
    {
     "name": "stdout",
     "output_type": "stream",
     "text": [
      "[1] \"x >= 10\"\n"
     ]
    }
   ],
   "source": [
    "x <- 10\n",
    "\n",
    "if (x < 10) {\n",
    "    print('x < 10')\n",
    "} else {\n",
    "    print('x >= 10')\n",
    "}"
   ]
  },
  {
   "cell_type": "code",
   "execution_count": 2,
   "metadata": {},
   "outputs": [
    {
     "name": "stdout",
     "output_type": "stream",
     "text": [
      "[1] \"x <= 10\"\n"
     ]
    }
   ],
   "source": [
    "x <- 10\n",
    "\n",
    "if (x <= 10) {\n",
    "    print('x <= 10')\n",
    "} else {\n",
    "    print('x > 10')\n",
    "}"
   ]
  },
  {
   "cell_type": "code",
   "execution_count": 3,
   "metadata": {},
   "outputs": [
    {
     "name": "stdout",
     "output_type": "stream",
     "text": [
      "[1] \"x == 10\"\n"
     ]
    }
   ],
   "source": [
    "x <- 10\n",
    "\n",
    "if (x != 10) {\n",
    "    print('x != 10')\n",
    "} else {\n",
    "    print('x == 10')\n",
    "}"
   ]
  },
  {
   "cell_type": "markdown",
   "metadata": {},
   "source": [
    "### if-elseif-else\n",
    "\n",
    "The complete if-else statement can have multiple `else if` blocks."
   ]
  },
  {
   "cell_type": "code",
   "execution_count": 4,
   "metadata": {},
   "outputs": [
    {
     "name": "stdout",
     "output_type": "stream",
     "text": [
      "[1] \"x == 10\"\n"
     ]
    }
   ],
   "source": [
    "x <- 10\n",
    "\n",
    "if (x < 10) {\n",
    "    print('x < 10')\n",
    "} else if (x == 10) {\n",
    "    print('x == 10')\n",
    "} else {\n",
    "    print('x > 10')\n",
    "}"
   ]
  },
  {
   "cell_type": "code",
   "execution_count": 5,
   "metadata": {},
   "outputs": [
    {
     "name": "stdout",
     "output_type": "stream",
     "text": [
      "[1] \"x >= 12\"\n"
     ]
    }
   ],
   "source": [
    "x <- 12\n",
    "\n",
    "if (x < 10) {\n",
    "    print('x < 10')\n",
    "} else if (x == 10) {\n",
    "    print('x == 10')\n",
    "} else if (x < 12) {\n",
    "    print('x < 12')\n",
    "} else {\n",
    "    print('x >= 12')\n",
    "}"
   ]
  },
  {
   "cell_type": "markdown",
   "metadata": {},
   "source": [
    "### ifelse\n",
    "\n",
    "The `ifelse` function provides (what is known in other programming languages as) a `ternary` operator."
   ]
  },
  {
   "cell_type": "code",
   "execution_count": 6,
   "metadata": {},
   "outputs": [
    {
     "data": {
      "text/html": [
       "'even'"
      ],
      "text/latex": [
       "'even'"
      ],
      "text/markdown": [
       "'even'"
      ],
      "text/plain": [
       "[1] \"even\""
      ]
     },
     "metadata": {},
     "output_type": "display_data"
    }
   ],
   "source": [
    "x <- 2\n",
    "y <- ifelse(x %% 2 == 0, 'even', 'odd')\n",
    "y"
   ]
  },
  {
   "cell_type": "markdown",
   "metadata": {},
   "source": [
    "### Logical operators\n",
    "\n",
    "You may chain comparison operators through logical operators.\n",
    "\n",
    "* `!` logical not\n",
    "* `&&` logical and\n",
    "* `||` logical or\n",
    "* `xor` logical xor\n",
    "\n",
    "Below are some examples using these logical operators."
   ]
  },
  {
   "cell_type": "code",
   "execution_count": 7,
   "metadata": {},
   "outputs": [
    {
     "name": "stdout",
     "output_type": "stream",
     "text": [
      "[1] \"not male\"\n"
     ]
    }
   ],
   "source": [
    "isMale = FALSE\n",
    "\n",
    "if (!isMale) {\n",
    "    print('not male')\n",
    "} else {\n",
    "    print('male')\n",
    "}"
   ]
  },
  {
   "cell_type": "code",
   "execution_count": 8,
   "metadata": {},
   "outputs": [
    {
     "name": "stdout",
     "output_type": "stream",
     "text": [
      "[1] \"female adult\"\n"
     ]
    }
   ],
   "source": [
    "isMale = FALSE\n",
    "isAdult = TRUE\n",
    "\n",
    "if (isMale && isAdult) {\n",
    "    print('male adult')\n",
    "} else if (isMale && !isAdult) {\n",
    "    print('male minor')\n",
    "} else if (!isMale && isAdult) {\n",
    "    print('female adult')\n",
    "} else {\n",
    "    print('female minor')\n",
    "}"
   ]
  },
  {
   "cell_type": "code",
   "execution_count": 9,
   "metadata": {},
   "outputs": [
    {
     "name": "stdout",
     "output_type": "stream",
     "text": [
      "[1] \"time for some grub\"\n"
     ]
    }
   ],
   "source": [
    "isHungry = TRUE\n",
    "isThirsty = FALSE\n",
    "\n",
    "if (isHungry || isThirsty) {\n",
    "    print('time for some grub')\n",
    "} else {\n",
    "    print('keep working')\n",
    "}"
   ]
  },
  {
   "cell_type": "code",
   "execution_count": 10,
   "metadata": {},
   "outputs": [
    {
     "name": "stdout",
     "output_type": "stream",
     "text": [
      "[1] \"you waited too long to eat\"\n"
     ]
    }
   ],
   "source": [
    "isHungry = TRUE\n",
    "isThirsty = TRUE\n",
    "\n",
    "if (xor(isHungry, isThirsty)) {\n",
    "    print('time for some grub')\n",
    "} else {\n",
    "    print('you waited too long to eat')\n",
    "}"
   ]
  },
  {
   "cell_type": "markdown",
   "metadata": {},
   "source": [
    "## For loops"
   ]
  },
  {
   "cell_type": "markdown",
   "metadata": {},
   "source": [
    "### Looping over a vector"
   ]
  },
  {
   "cell_type": "code",
   "execution_count": 11,
   "metadata": {},
   "outputs": [
    {
     "name": "stdout",
     "output_type": "stream",
     "text": [
      "[1] \"John\"\n",
      "[1] \"Jane\"\n",
      "[1] \"Jack\"\n",
      "[1] \"Joyce\"\n"
     ]
    }
   ],
   "source": [
    "names <- c('John', 'Jane', 'Jack', 'Joyce')\n",
    "for (name in names) {\n",
    "    print(name)\n",
    "}"
   ]
  },
  {
   "cell_type": "markdown",
   "metadata": {},
   "source": [
    "### Looping over a range of numbers"
   ]
  },
  {
   "cell_type": "code",
   "execution_count": 12,
   "metadata": {},
   "outputs": [
    {
     "name": "stdout",
     "output_type": "stream",
     "text": [
      "[1] 1\n",
      "[1] 2\n",
      "[1] 3\n",
      "[1] 4\n",
      "[1] 5\n",
      "[1] 6\n",
      "[1] 7\n",
      "[1] 8\n",
      "[1] 9\n",
      "[1] 10\n"
     ]
    }
   ],
   "source": [
    "for (i in 1:10) {\n",
    "    print(i)\n",
    "}"
   ]
  },
  {
   "cell_type": "markdown",
   "metadata": {},
   "source": [
    "### sapply and lapply\n",
    "\n",
    "You may also `loop` over elements in a vector using the `sapply` and `lapply` functions. The `sapply` function returns a vector and the `lapply` returns a list.\n",
    "\n",
    "Typically, you should favor `sapply` and `lapply` over a `for` loop as these functions are `vectorized`. When you perform vectorized operations, they are faster since they are done in parallel, but the context will determine which is appropriate for your use."
   ]
  },
  {
   "cell_type": "code",
   "execution_count": 13,
   "metadata": {},
   "outputs": [
    {
     "name": "stdout",
     "output_type": "stream",
     "text": [
      "[1] \"John\"\n",
      "[1] \"Jane\"\n",
      "[1] \"Jack\"\n",
      "[1] \"Joyce\"\n",
      "[[1]]\n",
      "[1] \"John\"\n",
      "\n",
      "[[2]]\n",
      "[1] \"Jane\"\n",
      "\n",
      "[[3]]\n",
      "[1] \"Jack\"\n",
      "\n",
      "[[4]]\n",
      "[1] \"Joyce\"\n",
      "\n"
     ]
    }
   ],
   "source": [
    "names <- c('John', 'Jane', 'Jack', 'Joyce')\n",
    "a <- lapply(names, print)\n",
    "print(a)"
   ]
  },
  {
   "cell_type": "code",
   "execution_count": 14,
   "metadata": {},
   "outputs": [
    {
     "name": "stdout",
     "output_type": "stream",
     "text": [
      "[1] \"John\"\n",
      "[1] \"Jane\"\n",
      "[1] \"Jack\"\n",
      "[1] \"Joyce\"\n",
      "   John    Jane    Jack   Joyce \n",
      " \"John\"  \"Jane\"  \"Jack\" \"Joyce\" \n"
     ]
    }
   ],
   "source": [
    "names <- c('John', 'Jane', 'Jack', 'Joyce')\n",
    "a <- sapply(names, print)\n",
    "print(a)"
   ]
  },
  {
   "cell_type": "markdown",
   "metadata": {},
   "source": [
    "Here, we use `lapply` to apply the `sin` function to a list of numbers [1:5]."
   ]
  },
  {
   "cell_type": "code",
   "execution_count": 15,
   "metadata": {},
   "outputs": [
    {
     "name": "stdout",
     "output_type": "stream",
     "text": [
      "[[1]]\n",
      "[1] 0.841471\n",
      "\n",
      "[[2]]\n",
      "[1] 0.9092974\n",
      "\n",
      "[[3]]\n",
      "[1] 0.14112\n",
      "\n",
      "[[4]]\n",
      "[1] -0.7568025\n",
      "\n",
      "[[5]]\n",
      "[1] -0.9589243\n",
      "\n"
     ]
    }
   ],
   "source": [
    "a <- lapply(1:5, sin)\n",
    "print(a)"
   ]
  },
  {
   "cell_type": "markdown",
   "metadata": {},
   "source": [
    "## While loops\n",
    "\n",
    "The `while` loop is another loop structure like the `for` loop, however, it has a `termination` condition that must be satisified for the loop to end. In the example below, we loop until `x` is greater than 5. Note that we increment `x` at the end of every iteration `x <- x + 1`."
   ]
  },
  {
   "cell_type": "code",
   "execution_count": 16,
   "metadata": {},
   "outputs": [
    {
     "name": "stdout",
     "output_type": "stream",
     "text": [
      "[1] 1\n",
      "[1] 2\n",
      "[1] 3\n",
      "[1] 4\n",
      "[1] 5\n"
     ]
    }
   ],
   "source": [
    "x <- 1\n",
    "\n",
    "while (x <= 5) {\n",
    "    print(x)\n",
    "    x <- x + 1\n",
    "}"
   ]
  },
  {
   "cell_type": "markdown",
   "metadata": {},
   "source": [
    "## Conditions\n",
    "\n",
    "`Conditions` may also interrupt the flow of your program. There are three types of conditions.\n",
    "\n",
    "* `error`\n",
    "* `warning`\n",
    "* `message`"
   ]
  },
  {
   "cell_type": "markdown",
   "metadata": {},
   "source": [
    "### Error\n",
    "\n",
    "Use `stop` to signal an error."
   ]
  },
  {
   "cell_type": "code",
   "execution_count": 17,
   "metadata": {},
   "outputs": [
    {
     "ename": "ERROR",
     "evalue": "Error in eval(expr, envir, enclos): divide by zero detected\n",
     "output_type": "error",
     "traceback": [
      "Error in eval(expr, envir, enclos): divide by zero detected\nTraceback:\n",
      "1. stop(\"divide by zero detected\")   # at line 5 of file <text>"
     ]
    }
   ],
   "source": [
    "a <- 10\n",
    "b <- 0\n",
    "\n",
    "if (b == 0) {\n",
    "    stop('divide by zero detected')\n",
    "} else {\n",
    "    print(a / b)\n",
    "}"
   ]
  },
  {
   "cell_type": "markdown",
   "metadata": {},
   "source": [
    "### Warning"
   ]
  },
  {
   "cell_type": "code",
   "execution_count": 18,
   "metadata": {},
   "outputs": [
    {
     "name": "stderr",
     "output_type": "stream",
     "text": [
      "Warning message in eval(expr, envir, enclos):\n",
      "“divide by zero detected, will divide by a small number instead”"
     ]
    },
    {
     "name": "stdout",
     "output_type": "stream",
     "text": [
      "[1] 1e+06\n"
     ]
    }
   ],
   "source": [
    "a <- 10\n",
    "b <- 0\n",
    "\n",
    "if (b == 0) {\n",
    "    warning('divide by zero detected, will divide by a small number instead')\n",
    "    print(a / 0.00001)\n",
    "} else {\n",
    "    print(a / b)\n",
    "}"
   ]
  },
  {
   "cell_type": "markdown",
   "metadata": {},
   "source": [
    "You may suppress warnings with `supressWarnings`."
   ]
  },
  {
   "cell_type": "code",
   "execution_count": 19,
   "metadata": {},
   "outputs": [
    {
     "name": "stdout",
     "output_type": "stream",
     "text": [
      "[1] 1e+06\n"
     ]
    }
   ],
   "source": [
    "a <- 10\n",
    "b <- 0\n",
    "\n",
    "suppressWarnings({\n",
    "    if (b == 0) {\n",
    "        warning('divide by zero detected, will divide by a small number instead')\n",
    "        print(a / 0.00001)\n",
    "    } else {\n",
    "        print(a / b)\n",
    "    }  \n",
    "})"
   ]
  },
  {
   "cell_type": "markdown",
   "metadata": {},
   "source": [
    "### Message"
   ]
  },
  {
   "cell_type": "code",
   "execution_count": 20,
   "metadata": {},
   "outputs": [
    {
     "name": "stderr",
     "output_type": "stream",
     "text": [
      "parameters are good\n"
     ]
    },
    {
     "name": "stdout",
     "output_type": "stream",
     "text": [
      "[1] \"final results: 3.33333333333333\"\n"
     ]
    }
   ],
   "source": [
    "a <- 10\n",
    "b <- 3\n",
    "\n",
    "if (b == 0) {\n",
    "    stop('divide by zero detected')\n",
    "} else {\n",
    "    message('parameters are good')\n",
    "    print(paste('final results:', a / b))\n",
    "}"
   ]
  },
  {
   "cell_type": "code",
   "execution_count": 21,
   "metadata": {},
   "outputs": [
    {
     "name": "stdout",
     "output_type": "stream",
     "text": [
      "[1] \"final results: 3.33333333333333\"\n"
     ]
    }
   ],
   "source": [
    "a <- 10\n",
    "b <- 3\n",
    "\n",
    "suppressMessages({\n",
    "    if (b == 0) {\n",
    "        stop('divide by zero detected')\n",
    "    } else {\n",
    "        message('parameters are good')\n",
    "        print(paste('final results:', a / b))\n",
    "    }    \n",
    "})"
   ]
  },
  {
   "cell_type": "markdown",
   "metadata": {},
   "source": [
    "### Handling condtions with try-catch"
   ]
  },
  {
   "cell_type": "code",
   "execution_count": 22,
   "metadata": {},
   "outputs": [
    {
     "name": "stdout",
     "output_type": "stream",
     "text": [
      "[1] 1e+06\n",
      "[1] \"i am done computing a / b\"\n"
     ]
    }
   ],
   "source": [
    "a <- 10\n",
    "b <- 0\n",
    "\n",
    "result <- tryCatch({\n",
    "    if (b == 0) {\n",
    "        stop('divide by zero')\n",
    "    } else {\n",
    "        print(a / b)\n",
    "    }\n",
    "}, warning = function(w) { \n",
    "    print(a / 0.00001)\n",
    "}, error = function(e) {\n",
    "    print(a / 0.00001)\n",
    "}, finally = {\n",
    "    print('i am done computing a / b')\n",
    "})"
   ]
  }
 ],
 "metadata": {
  "kernelspec": {
   "display_name": "R 3.6",
   "language": "R",
   "name": "ir36"
  },
  "language_info": {
   "codemirror_mode": "r",
   "file_extension": ".r",
   "mimetype": "text/x-r-source",
   "name": "R",
   "pygments_lexer": "r",
   "version": "3.6.1"
  }
 },
 "nbformat": 4,
 "nbformat_minor": 4
}
