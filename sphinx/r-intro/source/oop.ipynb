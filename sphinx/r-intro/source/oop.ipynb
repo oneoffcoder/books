{
 "cells": [
  {
   "cell_type": "markdown",
   "metadata": {},
   "source": [
    "# Object-Oriented Programming\n",
    "\n",
    "There are multiple ways to do object-oriented programming `OOP` in `R`. You will need to pick an object model from the following to start OOP.\n",
    "\n",
    "* `S3` is the object model for release 3\n",
    "* `S4` is the object model for release 4\n",
    "* `R6` is the current object model"
   ]
  },
  {
   "cell_type": "markdown",
   "metadata": {},
   "source": [
    "## S3"
   ]
  },
  {
   "cell_type": "markdown",
   "metadata": {},
   "source": [
    "### Class definition\n",
    "\n",
    "Defining an S3 class is basically through using a function. Here, we have a class called `S3Student` which has the properties\n",
    "\n",
    "* name: characters\n",
    "* age: numeric\n",
    "* grades: vector\n",
    "* male: logical\n",
    "\n",
    "Note the convention is to prefix `S3` to the class name."
   ]
  },
  {
   "cell_type": "code",
   "execution_count": 1,
   "metadata": {},
   "outputs": [],
   "source": [
    "S3Student <- function(name, age, grades, male) {\n",
    "    student <- list(name=name, age=age, grades=grades, male=male)\n",
    "    class(student) <- 'S3Student'\n",
    "    return(student)\n",
    "}"
   ]
  },
  {
   "cell_type": "markdown",
   "metadata": {},
   "source": [
    "Now we may instantiate a `S3Student` as follows."
   ]
  },
  {
   "cell_type": "code",
   "execution_count": 2,
   "metadata": {},
   "outputs": [],
   "source": [
    "s <- S3Student('John', 18, c(99, 100, 80, 70, 90), TRUE)"
   ]
  },
  {
   "cell_type": "code",
   "execution_count": 3,
   "metadata": {},
   "outputs": [
    {
     "name": "stdout",
     "output_type": "stream",
     "text": [
      "[1] \"S3Student\"\n"
     ]
    }
   ],
   "source": [
    "print(class(s))"
   ]
  },
  {
   "cell_type": "code",
   "execution_count": 4,
   "metadata": {},
   "outputs": [
    {
     "name": "stdout",
     "output_type": "stream",
     "text": [
      "List of 4\n",
      " $ name  : chr \"John\"\n",
      " $ age   : num 18\n",
      " $ grades: num [1:5] 99 100 80 70 90\n",
      " $ male  : logi TRUE\n",
      " - attr(*, \"class\")= chr \"S3Student\"\n",
      "NULL\n"
     ]
    }
   ],
   "source": [
    "print(str(s))"
   ]
  },
  {
   "cell_type": "markdown",
   "metadata": {},
   "source": [
    "We may access the properties of the student using `$` notation (since these properties are just stored in a `named list`)."
   ]
  },
  {
   "cell_type": "code",
   "execution_count": 5,
   "metadata": {},
   "outputs": [
    {
     "name": "stdout",
     "output_type": "stream",
     "text": [
      "[1] \"John\"\n"
     ]
    }
   ],
   "source": [
    "print(s$name)"
   ]
  },
  {
   "cell_type": "code",
   "execution_count": 6,
   "metadata": {},
   "outputs": [
    {
     "name": "stdout",
     "output_type": "stream",
     "text": [
      "[1] 18\n"
     ]
    }
   ],
   "source": [
    "print(s$age)"
   ]
  },
  {
   "cell_type": "code",
   "execution_count": 7,
   "metadata": {},
   "outputs": [
    {
     "name": "stdout",
     "output_type": "stream",
     "text": [
      "[1]  99 100  80  70  90\n"
     ]
    }
   ],
   "source": [
    "print(s$grades)"
   ]
  },
  {
   "cell_type": "code",
   "execution_count": 8,
   "metadata": {},
   "outputs": [
    {
     "name": "stdout",
     "output_type": "stream",
     "text": [
      "[1] TRUE\n"
     ]
    }
   ],
   "source": [
    "print(s$male)"
   ]
  },
  {
   "cell_type": "markdown",
   "metadata": {},
   "source": [
    "### Methods\n",
    "\n",
    "Methods in `S3` objects are not a part of the objects. Instead, we define them and then register the name with `R` to be able to use them properly.\n",
    "\n",
    "* `generic functions`: functions that are defined to be used over different types\n",
    "* `parametric polymorphism`: defining generic functions over types such that behavior will change depending on the type; methods belong to functions not classes\n",
    "\n",
    "Below, we define a method `S3grade` that will compute the letter grade of a `S3Student`. We also register the method with `R`."
   ]
  },
  {
   "cell_type": "code",
   "execution_count": 9,
   "metadata": {},
   "outputs": [],
   "source": [
    "# define S3grade function\n",
    "S3grade.S3Student <- function(student) {\n",
    "    avg <- mean(student$grades)\n",
    "    if (avg >= 90.0) {\n",
    "        return('A')\n",
    "    } else if (avg >= 80.0) {\n",
    "        return('B')\n",
    "    } else if (avg >= 70.0) {\n",
    "        return('C')\n",
    "    } else if (avg >= 60.0) {\n",
    "        return('D')\n",
    "    } else {\n",
    "        return('F')\n",
    "    }\n",
    "}\n",
    "\n",
    "# register S3grade with R\n",
    "S3grade <- function(object) UseMethod('S3grade')"
   ]
  },
  {
   "cell_type": "markdown",
   "metadata": {},
   "source": [
    "Now we may use the `S3grade` function on a `S3Student`."
   ]
  },
  {
   "cell_type": "code",
   "execution_count": 10,
   "metadata": {},
   "outputs": [
    {
     "name": "stdout",
     "output_type": "stream",
     "text": [
      "[1] \"B\"\n"
     ]
    }
   ],
   "source": [
    "grade <- S3grade(s)\n",
    "print(grade)"
   ]
  },
  {
   "cell_type": "markdown",
   "metadata": {},
   "source": [
    "We can also `overload` the `print` function too."
   ]
  },
  {
   "cell_type": "code",
   "execution_count": 11,
   "metadata": {},
   "outputs": [],
   "source": [
    "print.S3Student <- function(student) {\n",
    "    print(paste(\n",
    "        student$name, student$age, ifelse(student$male, 'male', 'female'), S3grade(student)\n",
    "    ))\n",
    "}"
   ]
  },
  {
   "cell_type": "code",
   "execution_count": 12,
   "metadata": {},
   "outputs": [
    {
     "name": "stdout",
     "output_type": "stream",
     "text": [
      "[1] \"John 18 male B\"\n"
     ]
    }
   ],
   "source": [
    "print(s)"
   ]
  },
  {
   "cell_type": "markdown",
   "metadata": {},
   "source": [
    "### Inheritance"
   ]
  },
  {
   "cell_type": "code",
   "execution_count": 13,
   "metadata": {},
   "outputs": [],
   "source": [
    "S3Animal <- function(name, type='animal') {\n",
    "    animal <- list(name=name)\n",
    "    class(animal) <- 'S3Animal'\n",
    "    return(animal)\n",
    "}\n",
    "\n",
    "S3Dog <- function(name) {\n",
    "    dog <- S3Animal(name, 'dog')\n",
    "    class(dog) <- c('S3Dog', class(dog))\n",
    "    return(dog)\n",
    "}\n",
    "\n",
    "S3Cat <- function(name) {\n",
    "    cat <- S3Animal(name, 'cat')\n",
    "    class(cat) <- c('S3Cat', class(cat))\n",
    "    return(cat)\n",
    "}\n",
    "\n",
    "dog <- S3Dog('Clifford')\n",
    "cat <- S3Cat('Heathcliff')"
   ]
  },
  {
   "cell_type": "code",
   "execution_count": 14,
   "metadata": {},
   "outputs": [
    {
     "name": "stdout",
     "output_type": "stream",
     "text": [
      "[1] \"S3Dog\"    \"S3Animal\"\n"
     ]
    }
   ],
   "source": [
    "print(class(dog))"
   ]
  },
  {
   "cell_type": "code",
   "execution_count": 15,
   "metadata": {},
   "outputs": [
    {
     "name": "stdout",
     "output_type": "stream",
     "text": [
      "[1] \"S3Cat\"    \"S3Animal\"\n"
     ]
    }
   ],
   "source": [
    "print(class(cat))"
   ]
  },
  {
   "cell_type": "code",
   "execution_count": 16,
   "metadata": {},
   "outputs": [],
   "source": [
    "S3sound.S3Animal <- function(object) return('argghhh!')\n",
    "S3sound.S3Dog <- function(object) return('woof!')\n",
    "S3sound.S3Cat <- function(object) return('meoww!')\n",
    "\n",
    "S3sound <- function(object) UseMethod('S3sound')"
   ]
  },
  {
   "cell_type": "code",
   "execution_count": 17,
   "metadata": {},
   "outputs": [
    {
     "name": "stdout",
     "output_type": "stream",
     "text": [
      "[1] \"woof!\"\n"
     ]
    }
   ],
   "source": [
    "print(S3sound(dog))"
   ]
  },
  {
   "cell_type": "code",
   "execution_count": 18,
   "metadata": {},
   "outputs": [
    {
     "name": "stdout",
     "output_type": "stream",
     "text": [
      "[1] \"meoww!\"\n"
     ]
    }
   ],
   "source": [
    "print(S3sound(cat))"
   ]
  },
  {
   "cell_type": "markdown",
   "metadata": {},
   "source": [
    "## S4"
   ]
  },
  {
   "cell_type": "markdown",
   "metadata": {},
   "source": [
    "### Class definition"
   ]
  },
  {
   "cell_type": "code",
   "execution_count": 19,
   "metadata": {},
   "outputs": [],
   "source": [
    "setClass(\n",
    "    Class = 'S4Student',\n",
    "    representation = representation(\n",
    "        name = 'character',\n",
    "        age = 'numeric',\n",
    "        grades = 'numeric',\n",
    "        male = 'logical'\n",
    "    )\n",
    ")"
   ]
  },
  {
   "cell_type": "code",
   "execution_count": 20,
   "metadata": {},
   "outputs": [],
   "source": [
    "s <- new('S4Student', name='John', age=18, grades=c(99, 100, 80, 70, 90), male=TRUE)"
   ]
  },
  {
   "cell_type": "code",
   "execution_count": 21,
   "metadata": {},
   "outputs": [
    {
     "name": "stdout",
     "output_type": "stream",
     "text": [
      "[1] \"S4Student\"\n",
      "attr(,\"package\")\n",
      "[1] \".GlobalEnv\"\n"
     ]
    }
   ],
   "source": [
    "print(class(s))"
   ]
  },
  {
   "cell_type": "code",
   "execution_count": 22,
   "metadata": {},
   "outputs": [
    {
     "name": "stdout",
     "output_type": "stream",
     "text": [
      "Formal class 'S4Student' [package \".GlobalEnv\"] with 4 slots\n",
      "  ..@ name  : chr \"John\"\n",
      "  ..@ age   : num 18\n",
      "  ..@ grades: num [1:5] 99 100 80 70 90\n",
      "  ..@ male  : logi TRUE\n",
      "NULL\n"
     ]
    }
   ],
   "source": [
    "print(str(s))"
   ]
  },
  {
   "cell_type": "code",
   "execution_count": 23,
   "metadata": {},
   "outputs": [
    {
     "name": "stdout",
     "output_type": "stream",
     "text": [
      "[1] \"John\"\n"
     ]
    }
   ],
   "source": [
    "print(s@name)"
   ]
  },
  {
   "cell_type": "code",
   "execution_count": 24,
   "metadata": {},
   "outputs": [
    {
     "name": "stdout",
     "output_type": "stream",
     "text": [
      "[1] 18\n"
     ]
    }
   ],
   "source": [
    "print(s@age)"
   ]
  },
  {
   "cell_type": "code",
   "execution_count": 25,
   "metadata": {},
   "outputs": [
    {
     "name": "stdout",
     "output_type": "stream",
     "text": [
      "[1]  99 100  80  70  90\n"
     ]
    }
   ],
   "source": [
    "print(s@grades)"
   ]
  },
  {
   "cell_type": "code",
   "execution_count": 26,
   "metadata": {},
   "outputs": [
    {
     "name": "stdout",
     "output_type": "stream",
     "text": [
      "[1] TRUE\n"
     ]
    }
   ],
   "source": [
    "print(s@male)"
   ]
  },
  {
   "cell_type": "markdown",
   "metadata": {},
   "source": [
    "### Methods"
   ]
  },
  {
   "cell_type": "code",
   "execution_count": 27,
   "metadata": {},
   "outputs": [
    {
     "data": {
      "text/html": [
       "'S4grade'"
      ],
      "text/latex": [
       "'S4grade'"
      ],
      "text/markdown": [
       "'S4grade'"
      ],
      "text/plain": [
       "[1] \"S4grade\""
      ]
     },
     "metadata": {},
     "output_type": "display_data"
    }
   ],
   "source": [
    "setGeneric('S4grade', function(self) {\n",
    "    standardGeneric('S4grade')\n",
    "})\n",
    "           \n",
    "setMethod('S4grade', 'S4Student', function(self) {\n",
    "    avg <- mean(self@grades)\n",
    "    if (avg >= 90.0) {\n",
    "        return('A')\n",
    "    } else if (avg >= 80.0) {\n",
    "        return('B')\n",
    "    } else if (avg >= 70.0) {\n",
    "        return('C')\n",
    "    } else if (avg >= 60.0) {\n",
    "        return('D')\n",
    "    } else {\n",
    "        return('F')\n",
    "    }\n",
    "})"
   ]
  },
  {
   "cell_type": "code",
   "execution_count": 28,
   "metadata": {},
   "outputs": [
    {
     "name": "stdout",
     "output_type": "stream",
     "text": [
      "[1] \"B\"\n"
     ]
    }
   ],
   "source": [
    "grade <- S4grade(s)\n",
    "print(grade)"
   ]
  },
  {
   "cell_type": "markdown",
   "metadata": {},
   "source": [
    "We do not overload `print` but provide a a method implementation for `show` so that we can use `print`."
   ]
  },
  {
   "cell_type": "code",
   "execution_count": 29,
   "metadata": {},
   "outputs": [],
   "source": [
    "setMethod('show', 'S4Student', function(object) {\n",
    "    print(paste(\n",
    "        object@name, object@age, ifelse(object@male, 'male', 'female'), S4grade(object)\n",
    "    ))\n",
    "})"
   ]
  },
  {
   "cell_type": "code",
   "execution_count": 30,
   "metadata": {},
   "outputs": [
    {
     "name": "stdout",
     "output_type": "stream",
     "text": [
      "[1] \"John 18 male B\"\n"
     ]
    }
   ],
   "source": [
    "print(s)"
   ]
  },
  {
   "cell_type": "markdown",
   "metadata": {},
   "source": [
    "### Inheritance"
   ]
  },
  {
   "cell_type": "code",
   "execution_count": 31,
   "metadata": {},
   "outputs": [],
   "source": [
    "setClass(\n",
    "    Class = 'S4Animal',\n",
    "    representation = representation(\n",
    "        name = 'character',\n",
    "        type = 'character'\n",
    "    )\n",
    ")\n",
    "\n",
    "setClass(Class='S4Dog', contains='S4Animal')\n",
    "setClass(Class='S4Cat', contains='S4Animal')\n",
    "\n",
    "dog = new('S4Dog', name='Clifford', type='dog')\n",
    "cat = new('S4Cat', name='Heathcliff', type='cat')"
   ]
  },
  {
   "cell_type": "code",
   "execution_count": 32,
   "metadata": {},
   "outputs": [
    {
     "name": "stdout",
     "output_type": "stream",
     "text": [
      "[1] \"S4Dog\"\n",
      "attr(,\"package\")\n",
      "[1] \".GlobalEnv\"\n"
     ]
    }
   ],
   "source": [
    "print(class(dog))"
   ]
  },
  {
   "cell_type": "code",
   "execution_count": 33,
   "metadata": {},
   "outputs": [
    {
     "name": "stdout",
     "output_type": "stream",
     "text": [
      "[1] \"S4Cat\"\n",
      "attr(,\"package\")\n",
      "[1] \".GlobalEnv\"\n"
     ]
    }
   ],
   "source": [
    "print(class(cat))"
   ]
  },
  {
   "cell_type": "code",
   "execution_count": 34,
   "metadata": {},
   "outputs": [
    {
     "data": {
      "text/html": [
       "'S4sound'"
      ],
      "text/latex": [
       "'S4sound'"
      ],
      "text/markdown": [
       "'S4sound'"
      ],
      "text/plain": [
       "[1] \"S4sound\""
      ]
     },
     "metadata": {},
     "output_type": "display_data"
    }
   ],
   "source": [
    "setGeneric('S4sound', function(self) {\n",
    "    standardGeneric('S4sound')\n",
    "})\n",
    "\n",
    "setMethod('S4sound', 'S4Animal', function(self) return('argghhh!'))\n",
    "setMethod('S4sound', 'S4Dog', function(self) return('woof!'))\n",
    "setMethod('S4sound', 'S4Cat', function(self) return('meoww!'))"
   ]
  },
  {
   "cell_type": "code",
   "execution_count": 35,
   "metadata": {},
   "outputs": [
    {
     "name": "stdout",
     "output_type": "stream",
     "text": [
      "[1] \"woof!\"\n"
     ]
    }
   ],
   "source": [
    "print(S4sound(dog))"
   ]
  },
  {
   "cell_type": "code",
   "execution_count": 36,
   "metadata": {},
   "outputs": [
    {
     "name": "stdout",
     "output_type": "stream",
     "text": [
      "[1] \"meoww!\"\n"
     ]
    }
   ],
   "source": [
    "print(S4sound(cat))"
   ]
  },
  {
   "cell_type": "markdown",
   "metadata": {},
   "source": [
    "## R6"
   ]
  },
  {
   "cell_type": "markdown",
   "metadata": {},
   "source": [
    "### Class definition\n",
    "\n",
    "To define `R6` classes, you will need to load the `R6` library."
   ]
  },
  {
   "cell_type": "code",
   "execution_count": 37,
   "metadata": {},
   "outputs": [],
   "source": [
    "library(R6)"
   ]
  },
  {
   "cell_type": "code",
   "execution_count": 38,
   "metadata": {},
   "outputs": [],
   "source": [
    "R6Student <- R6Class(\n",
    "    'R6Student',\n",
    "    public = list(\n",
    "        initialize = function(name, age, grades, male) {\n",
    "            private$name <- name\n",
    "            private$age <- age\n",
    "            private$grades <- grades\n",
    "            private$male <- male\n",
    "        },\n",
    "        grade = function() {\n",
    "            avg = mean(private$grades)\n",
    "            if (avg >= 90.0) {\n",
    "                return('A')\n",
    "            } else if (avg >= 80.0) {\n",
    "                return('B')\n",
    "            } else if (avg >= 70.0) {\n",
    "                return('C')\n",
    "            } else if (avg >= 60.0) {\n",
    "                return('D')\n",
    "            } else {\n",
    "                return('F')\n",
    "            }\n",
    "        },\n",
    "        print = function() {\n",
    "            print(paste(\n",
    "                private$name, private$age, ifelse(private$male, 'male', 'female'), self$grade()\n",
    "            ))\n",
    "            invisible(self)\n",
    "        }\n",
    "    ),\n",
    "    private = list(name=NULL, age=NULL, grades=NULL, male=NULL)\n",
    ")"
   ]
  },
  {
   "cell_type": "code",
   "execution_count": 39,
   "metadata": {},
   "outputs": [],
   "source": [
    "s <- R6Student$new('John', 18, c(99, 100, 80, 70, 90), TRUE)"
   ]
  },
  {
   "cell_type": "code",
   "execution_count": 40,
   "metadata": {},
   "outputs": [
    {
     "name": "stdout",
     "output_type": "stream",
     "text": [
      "[1] \"R6Student\" \"R6\"       \n"
     ]
    }
   ],
   "source": [
    "print(class(s))"
   ]
  },
  {
   "cell_type": "code",
   "execution_count": 41,
   "metadata": {},
   "outputs": [
    {
     "name": "stdout",
     "output_type": "stream",
     "text": [
      "Classes 'R6Student', 'R6' <R6Student>\n",
      "  Public:\n",
      "    clone: function (deep = FALSE) \n",
      "    grade: function () \n",
      "    initialize: function (name, age, grades, male) \n",
      "    print: function () \n",
      "  Private:\n",
      "    age: 18\n",
      "    grades: 99 100 80 70 90\n",
      "    male: TRUE\n",
      "    name: John \n",
      "NULL\n"
     ]
    }
   ],
   "source": [
    "print(str(s))"
   ]
  },
  {
   "cell_type": "code",
   "execution_count": 42,
   "metadata": {},
   "outputs": [
    {
     "name": "stdout",
     "output_type": "stream",
     "text": [
      "[1] \"John 18 male B\"\n"
     ]
    }
   ],
   "source": [
    "print(s)"
   ]
  },
  {
   "cell_type": "markdown",
   "metadata": {},
   "source": [
    "### Inheritance"
   ]
  },
  {
   "cell_type": "code",
   "execution_count": 43,
   "metadata": {},
   "outputs": [],
   "source": [
    "R6Animal <- R6Class(\n",
    "    'R6Animal',\n",
    "    public = list(\n",
    "        initialize = function(name, type='animal') {\n",
    "            private$name <- name\n",
    "            private$type <- type\n",
    "        },\n",
    "        sound = function() {\n",
    "            print('argghhh!')\n",
    "            invisible(self)\n",
    "        }\n",
    "    ),\n",
    "    private = list(name=NULL, type=NULL)\n",
    ")\n",
    "\n",
    "R6Dog <- R6Class(\n",
    "    'R6Dog',\n",
    "    inherit=R6Animal,\n",
    "    public = list(\n",
    "        initialize = function(name) {\n",
    "            super$initialize(name, type='dog')\n",
    "        },\n",
    "        sound = function() {\n",
    "            print('woof!')\n",
    "            invisible(self)\n",
    "        }\n",
    "    )\n",
    ")\n",
    "\n",
    "R6Cat <- R6Class(\n",
    "    'R6Cat',\n",
    "    inherit=R6Animal,\n",
    "    public = list(\n",
    "        initialize = function(name) {\n",
    "            super$initialize(name, type='cat')\n",
    "        },\n",
    "        sound = function() {\n",
    "            print('meoww!')\n",
    "            invisible(self)\n",
    "        }\n",
    "    )\n",
    ")\n",
    "\n",
    "dog <- R6Dog$new('Clifford')\n",
    "cat <- R6Cat$new('Heathcliff')"
   ]
  },
  {
   "cell_type": "code",
   "execution_count": 44,
   "metadata": {},
   "outputs": [
    {
     "name": "stdout",
     "output_type": "stream",
     "text": [
      "[1] \"R6Dog\"    \"R6Animal\" \"R6\"      \n"
     ]
    }
   ],
   "source": [
    "print(class(dog))"
   ]
  },
  {
   "cell_type": "code",
   "execution_count": 45,
   "metadata": {},
   "outputs": [
    {
     "name": "stdout",
     "output_type": "stream",
     "text": [
      "[1] \"R6Cat\"    \"R6Animal\" \"R6\"      \n"
     ]
    }
   ],
   "source": [
    "print(class(cat))"
   ]
  },
  {
   "cell_type": "code",
   "execution_count": 46,
   "metadata": {},
   "outputs": [
    {
     "name": "stdout",
     "output_type": "stream",
     "text": [
      "[1] \"woof!\"\n"
     ]
    }
   ],
   "source": [
    "dog$sound()"
   ]
  },
  {
   "cell_type": "code",
   "execution_count": 47,
   "metadata": {},
   "outputs": [
    {
     "name": "stdout",
     "output_type": "stream",
     "text": [
      "[1] \"meoww!\"\n"
     ]
    }
   ],
   "source": [
    "cat$sound()"
   ]
  },
  {
   "cell_type": "markdown",
   "metadata": {},
   "source": [
    "### Introspection\n",
    "\n",
    "To list all methods and fields, use `names`."
   ]
  },
  {
   "cell_type": "code",
   "execution_count": 48,
   "metadata": {},
   "outputs": [
    {
     "name": "stdout",
     "output_type": "stream",
     "text": [
      "[1] \".__enclos_env__\" \"clone\"           \"sound\"           \"initialize\"     \n"
     ]
    }
   ],
   "source": [
    "print(names(dog))"
   ]
  }
 ],
 "metadata": {
  "kernelspec": {
   "display_name": "R 3.6",
   "language": "R",
   "name": "ir36"
  },
  "language_info": {
   "codemirror_mode": "r",
   "file_extension": ".r",
   "mimetype": "text/x-r-source",
   "name": "R",
   "pygments_lexer": "r",
   "version": "3.6.1"
  }
 },
 "nbformat": 4,
 "nbformat_minor": 4
}
