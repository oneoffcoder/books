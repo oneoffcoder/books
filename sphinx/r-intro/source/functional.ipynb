{
 "cells": [
  {
   "cell_type": "markdown",
   "metadata": {},
   "source": [
    "# Functional Programming\n",
    "\n",
    "`Functional programming` is a style of programming that \n",
    "\n",
    "* treats computation as the evaluation of mathematical functions, and \n",
    "* avoids changing-state and mutable data.\n",
    "\n",
    "`R` has a lot of built in functions such as `sapply`, `lapply`, and `tapply` that encourages the functional style of programming. Additionally, there are helper libraries in `R` that makes functional programming easier, such as `purrr`. Take a look at the [purrr documentation](https://purrr.tidyverse.org/reference/index.html) for the full application programming interface `API`.\n",
    "\n",
    "Here, we cover the two most famous functions in functional programming:\n",
    "\n",
    "* map\n",
    "* reduce"
   ]
  },
  {
   "cell_type": "markdown",
   "metadata": {},
   "source": [
    "## Mapping\n",
    "\n",
    "Mapping is used to transform a value into another one.\n",
    "\n",
    "### map\n",
    "You may use the `map` function from the library `purrr`."
   ]
  },
  {
   "cell_type": "code",
   "execution_count": 1,
   "metadata": {},
   "outputs": [
    {
     "name": "stdout",
     "output_type": "stream",
     "text": [
      "[1] \"2,4,6,8,10,12\"\n"
     ]
    }
   ],
   "source": [
    "library(purrr)\n",
    "\n",
    "doubleIt <- function(x) 2 * x\n",
    "\n",
    "a <- map(1:6, doubleIt)\n",
    "print(paste(a, collapse=','))"
   ]
  },
  {
   "cell_type": "markdown",
   "metadata": {},
   "source": [
    "You may use the base `lapply` function."
   ]
  },
  {
   "cell_type": "code",
   "execution_count": 2,
   "metadata": {},
   "outputs": [
    {
     "name": "stdout",
     "output_type": "stream",
     "text": [
      "[1] \"2,4,6,8,10,12\"\n"
     ]
    }
   ],
   "source": [
    "a <- lapply(1:6, doubleIt)\n",
    "print(paste(a, collapse=','))"
   ]
  },
  {
   "cell_type": "markdown",
   "metadata": {},
   "source": [
    "`Anonymous functions` may also be supplied to `lapply` or `map`."
   ]
  },
  {
   "cell_type": "code",
   "execution_count": 3,
   "metadata": {},
   "outputs": [
    {
     "name": "stdout",
     "output_type": "stream",
     "text": [
      "[1] \"3,6,9,12,15,18\"\n"
     ]
    }
   ],
   "source": [
    "a <- map(1:6, function(x) 3 * x)\n",
    "print(paste(a, collapse=','))"
   ]
  },
  {
   "cell_type": "markdown",
   "metadata": {},
   "source": [
    "### map2\n",
    "\n",
    "The `map2` function allows you to map over 2 lists."
   ]
  },
  {
   "cell_type": "code",
   "execution_count": 4,
   "metadata": {},
   "outputs": [
    {
     "name": "stdout",
     "output_type": "stream",
     "text": [
      "[1] \"1,4,9,16,25,36\"\n"
     ]
    }
   ],
   "source": [
    "a <- map2(1:6, 1:6, function(x, y) x * y)\n",
    "print(paste(a, collapse=','))"
   ]
  },
  {
   "cell_type": "markdown",
   "metadata": {},
   "source": [
    "### pmap\n",
    "\n",
    "The `pmap` function allows you to map over p lists."
   ]
  },
  {
   "cell_type": "code",
   "execution_count": 5,
   "metadata": {},
   "outputs": [
    {
     "name": "stdout",
     "output_type": "stream",
     "text": [
      "[1] \"9,18,27\"\n"
     ]
    }
   ],
   "source": [
    "a <- pmap(list(c(2, 4, 6), c(3, 6, 9), c(4, 8, 12)), function(x, y, z) x + y + z)\n",
    "print(paste(a, collapse=','))"
   ]
  },
  {
   "cell_type": "markdown",
   "metadata": {},
   "source": [
    "### imap\n",
    "\n",
    "The `imap` gives you a hook to the index of the element."
   ]
  },
  {
   "cell_type": "code",
   "execution_count": 6,
   "metadata": {},
   "outputs": [
    {
     "name": "stdout",
     "output_type": "stream",
     "text": [
      "[1] \"10 : 1 | 11 : 2 | 12 : 3 | 13 : 4 | 14 : 5 | 15 : 6\"\n"
     ]
    }
   ],
   "source": [
    "a <- imap(10:15, function(i, x) paste(i, ':', x))\n",
    "print(paste(a, collapse=' | '))"
   ]
  },
  {
   "cell_type": "markdown",
   "metadata": {},
   "source": [
    "### modify\n",
    "\n",
    "The function `modify` will modify elements in a matrix or data frame and return the same type."
   ]
  },
  {
   "cell_type": "code",
   "execution_count": 7,
   "metadata": {},
   "outputs": [
    {
     "name": "stdout",
     "output_type": "stream",
     "text": [
      "  x  y\n",
      "1 1  6\n",
      "2 2  7\n",
      "3 3  8\n",
      "4 4  9\n",
      "5 5 10\n"
     ]
    }
   ],
   "source": [
    "df <- data.frame(x=1:5, y=6:10)\n",
    "print(df)"
   ]
  },
  {
   "cell_type": "markdown",
   "metadata": {},
   "source": [
    "Here, we use an anonymous function to transform the elements."
   ]
  },
  {
   "cell_type": "code",
   "execution_count": 8,
   "metadata": {},
   "outputs": [
    {
     "name": "stdout",
     "output_type": "stream",
     "text": [
      "   x   y\n",
      "1  1  36\n",
      "2  4  49\n",
      "3  9  64\n",
      "4 16  81\n",
      "5 25 100\n"
     ]
    }
   ],
   "source": [
    "df2 = modify(df, function(x) x * x)\n",
    "print(df2)"
   ]
  },
  {
   "cell_type": "markdown",
   "metadata": {},
   "source": [
    "Here, we use a short-hand syntax to transform the elements."
   ]
  },
  {
   "cell_type": "code",
   "execution_count": 9,
   "metadata": {},
   "outputs": [
    {
     "name": "stdout",
     "output_type": "stream",
     "text": [
      "   x   y\n",
      "1  1  36\n",
      "2  4  49\n",
      "3  9  64\n",
      "4 16  81\n",
      "5 25 100\n"
     ]
    }
   ],
   "source": [
    "df2 = modify(df, ~ .x * .x)\n",
    "print(df2)"
   ]
  },
  {
   "cell_type": "markdown",
   "metadata": {},
   "source": [
    "## Reducing\n",
    "\n",
    "`Reducing` collapses an array of elements into a scalar value."
   ]
  },
  {
   "cell_type": "markdown",
   "metadata": {},
   "source": [
    "### reduce"
   ]
  },
  {
   "cell_type": "code",
   "execution_count": 10,
   "metadata": {},
   "outputs": [
    {
     "name": "stdout",
     "output_type": "stream",
     "text": [
      "[1] 15\n"
     ]
    }
   ],
   "source": [
    "a <- reduce(1:5, function(a, b) a + b)\n",
    "print(a)"
   ]
  },
  {
   "cell_type": "markdown",
   "metadata": {},
   "source": [
    "You may also supply an initial value to `reduce`."
   ]
  },
  {
   "cell_type": "code",
   "execution_count": 11,
   "metadata": {},
   "outputs": [
    {
     "name": "stdout",
     "output_type": "stream",
     "text": [
      "[1] 25\n"
     ]
    }
   ],
   "source": [
    "a <- reduce(1:5, function(a, b) a + b, .init=10)\n",
    "print(a)"
   ]
  },
  {
   "cell_type": "markdown",
   "metadata": {},
   "source": [
    "### accumulate\n",
    "\n",
    "`Accmulate` is like reduce but returns the intermediate results as well."
   ]
  },
  {
   "cell_type": "code",
   "execution_count": 12,
   "metadata": {},
   "outputs": [
    {
     "name": "stdout",
     "output_type": "stream",
     "text": [
      "[1]  1  3  6 10 15\n"
     ]
    }
   ],
   "source": [
    "a <- accumulate(1:5, function(a, b) a + b)\n",
    "print(a)"
   ]
  }
 ],
 "metadata": {
  "kernelspec": {
   "display_name": "R 3.6",
   "language": "R",
   "name": "ir36"
  },
  "language_info": {
   "codemirror_mode": "r",
   "file_extension": ".r",
   "mimetype": "text/x-r-source",
   "name": "R",
   "pygments_lexer": "r",
   "version": "3.6.1"
  }
 },
 "nbformat": 4,
 "nbformat_minor": 4
}
