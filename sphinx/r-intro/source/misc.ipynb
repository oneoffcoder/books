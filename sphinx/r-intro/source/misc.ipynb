{
 "cells": [
  {
   "cell_type": "markdown",
   "metadata": {},
   "source": [
    "# Miscellaneous"
   ]
  },
  {
   "cell_type": "markdown",
   "metadata": {},
   "source": [
    "## Listing installed packages"
   ]
  },
  {
   "cell_type": "code",
   "execution_count": 1,
   "metadata": {},
   "outputs": [
    {
     "name": "stdout",
     "output_type": "stream",
     "text": [
      "    Package Version\n",
      "  IRdisplay   0.7.0\n",
      "   IRkernel   1.0.2\n",
      "       Rcpp   1.0.3\n",
      " assertthat   0.2.1\n",
      "  backports   1.1.5\n",
      "  base64enc   0.1-3\n",
      "        cli   1.1.0\n",
      "     crayon   1.3.4\n",
      "     digest  0.6.22\n",
      "   ellipsis   0.3.0\n",
      "   evaluate    0.14\n",
      "      fansi   0.4.0\n",
      "       glue   1.3.1\n",
      "  htmltools   0.4.0\n",
      "   jsonlite     1.6\n",
      "     pbdZMQ   0.3-3\n",
      "     pillar   1.4.2\n",
      "       repr   1.0.1\n",
      "      rlang   0.4.1\n",
      "       utf8   1.1.4\n",
      "       uuid   0.1-2\n",
      "      vctrs   0.2.0\n",
      "    zeallot   0.1.0\n"
     ]
    }
   ],
   "source": [
    "ip <- as.data.frame(installed.packages()[,c(1,3:4)])\n",
    "rownames(ip) <- NULL\n",
    "ip <- ip[is.na(ip$Priority),1:2,drop=FALSE]\n",
    "print(ip, row.names=FALSE)"
   ]
  }
 ],
 "metadata": {
  "kernelspec": {
   "display_name": "R 3.6",
   "language": "R",
   "name": "ir36"
  },
  "language_info": {
   "codemirror_mode": "r",
   "file_extension": ".r",
   "mimetype": "text/x-r-source",
   "name": "R",
   "pygments_lexer": "r",
   "version": "3.6.1"
  }
 },
 "nbformat": 4,
 "nbformat_minor": 4
}
