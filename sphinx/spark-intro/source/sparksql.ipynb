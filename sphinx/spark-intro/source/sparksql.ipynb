{
 "cells": [
  {
   "cell_type": "markdown",
   "metadata": {},
   "source": [
    "# SparkSQL"
   ]
  },
  {
   "cell_type": "markdown",
   "metadata": {},
   "source": [
    "## Data"
   ]
  },
  {
   "cell_type": "markdown",
   "metadata": {},
   "source": [
    "### Copy data to HDFS"
   ]
  },
  {
   "cell_type": "code",
   "execution_count": 1,
   "metadata": {},
   "outputs": [
    {
     "name": "stderr",
     "output_type": "stream",
     "text": [
      "2019-10-31 02:58:32,655 INFO sasl.SaslDataTransferClient: SASL encryption trust check: localHostTrusted = false, remoteHostTrusted = false\n",
      "2019-10-31 02:58:34,064 INFO sasl.SaslDataTransferClient: SASL encryption trust check: localHostTrusted = false, remoteHostTrusted = false\n"
     ]
    }
   ],
   "source": [
    "%%sh\n",
    "hdfs dfs -copyFromLocal -f /root/ipynb/people.json /people.json\n",
    "hdfs dfs -copyFromLocal -f /root/ipynb/television.json /television.json"
   ]
  },
  {
   "cell_type": "markdown",
   "metadata": {},
   "source": [
    "### Read data and create temporary tables"
   ]
  },
  {
   "cell_type": "code",
   "execution_count": 2,
   "metadata": {},
   "outputs": [],
   "source": [
    "people_df = sqlContext.read.json('hdfs://localhost/people.json')\n",
    "people_df.registerTempTable('people')\n",
    "\n",
    "tv_df = sqlContext.read.json('hdfs://localhost/television.json')\n",
    "tv_df.registerTempTable('tv')"
   ]
  },
  {
   "cell_type": "markdown",
   "metadata": {},
   "source": [
    "### Show schemas"
   ]
  },
  {
   "cell_type": "code",
   "execution_count": 3,
   "metadata": {},
   "outputs": [
    {
     "name": "stdout",
     "output_type": "stream",
     "text": [
      "root\n",
      " |-- address: struct (nullable = true)\n",
      " |    |-- city: string (nullable = true)\n",
      " |    |-- state: string (nullable = true)\n",
      " |    |-- street: string (nullable = true)\n",
      " |    |-- zip: long (nullable = true)\n",
      " |-- age: long (nullable = true)\n",
      " |-- first_name: string (nullable = true)\n",
      " |-- height: double (nullable = true)\n",
      " |-- id: long (nullable = true)\n",
      " |-- last_name: string (nullable = true)\n",
      " |-- male: boolean (nullable = true)\n",
      " |-- sports: array (nullable = true)\n",
      " |    |-- element: string (containsNull = true)\n",
      " |-- weight: double (nullable = true)\n",
      "\n"
     ]
    }
   ],
   "source": [
    "people_df.printSchema()"
   ]
  },
  {
   "cell_type": "code",
   "execution_count": 4,
   "metadata": {},
   "outputs": [
    {
     "name": "stdout",
     "output_type": "stream",
     "text": [
      "root\n",
      " |-- id: long (nullable = true)\n",
      " |-- name: string (nullable = true)\n",
      " |-- person_id: long (nullable = true)\n",
      "\n"
     ]
    }
   ],
   "source": [
    "tv_df.printSchema()"
   ]
  },
  {
   "cell_type": "markdown",
   "metadata": {},
   "source": [
    "## Select"
   ]
  },
  {
   "cell_type": "code",
   "execution_count": 5,
   "metadata": {},
   "outputs": [
    {
     "name": "stdout",
     "output_type": "stream",
     "text": [
      "+--------------------+---+----------+------+---+---------+-----+--------------------+------+\n",
      "|             address|age|first_name|height| id|last_name| male|              sports|weight|\n",
      "+--------------------+---+----------+------+---+---------+-----+--------------------+------+\n",
      "|[Washington, DC, ...| 27|      John|   6.5|  1|      Doe| true|    [hockey, tennis]| 155.5|\n",
      "|[Washington, DC, ...| 22|      Jane|   5.7|  2|    Smith|false|[basketball, tennis]| 135.5|\n",
      "|[Los Angeles, CA,...| 25|      Jack|   6.6|  3|    Smith| true|  [baseball, soccer]| 175.5|\n",
      "|[Los Angeles, CA,...| 18|     Janet|   5.5|  4|      Doe|false|    [judo, baseball]| 125.5|\n",
      "+--------------------+---+----------+------+---+---------+-----+--------------------+------+\n",
      "\n"
     ]
    }
   ],
   "source": [
    "sql = \"\"\"\n",
    "select *\n",
    "from people\n",
    "\"\"\"\n",
    "\n",
    "sqlContext.sql(sql).show()"
   ]
  },
  {
   "cell_type": "markdown",
   "metadata": {},
   "source": [
    "## Count"
   ]
  },
  {
   "cell_type": "code",
   "execution_count": 6,
   "metadata": {},
   "outputs": [
    {
     "name": "stdout",
     "output_type": "stream",
     "text": [
      "+-----+-----+\n",
      "| male|total|\n",
      "+-----+-----+\n",
      "| true|    2|\n",
      "|false|    2|\n",
      "+-----+-----+\n",
      "\n"
     ]
    }
   ],
   "source": [
    "sql = \"\"\"\n",
    "select male, count(*) as total\n",
    "from people\n",
    "group by male\n",
    "\"\"\"\n",
    "\n",
    "sqlContext.sql(sql).show()"
   ]
  },
  {
   "cell_type": "markdown",
   "metadata": {},
   "source": [
    "## Nested query"
   ]
  },
  {
   "cell_type": "code",
   "execution_count": 7,
   "metadata": {},
   "outputs": [
    {
     "name": "stdout",
     "output_type": "stream",
     "text": [
      "+----------+---------+\n",
      "|first_name|last_name|\n",
      "+----------+---------+\n",
      "|      John|      Doe|\n",
      "|      Jane|    Smith|\n",
      "|      Jack|    Smith|\n",
      "|     Janet|      Doe|\n",
      "+----------+---------+\n",
      "\n"
     ]
    }
   ],
   "source": [
    "sql = \"\"\"\n",
    "select first_name, last_name\n",
    "from (\n",
    "    select *\n",
    "    from people\n",
    ")\n",
    "\"\"\"\n",
    "\n",
    "sqlContext.sql(sql).show()"
   ]
  },
  {
   "cell_type": "markdown",
   "metadata": {},
   "source": [
    "## Nested fields"
   ]
  },
  {
   "cell_type": "code",
   "execution_count": 8,
   "metadata": {},
   "outputs": [
    {
     "name": "stdout",
     "output_type": "stream",
     "text": [
      "+----------+---------+-----------+-----+\n",
      "|first_name|last_name|       city|state|\n",
      "+----------+---------+-----------+-----+\n",
      "|      John|      Doe| Washington|   DC|\n",
      "|      Jane|    Smith| Washington|   DC|\n",
      "|      Jack|    Smith|Los Angeles|   CA|\n",
      "|     Janet|      Doe|Los Angeles|   CA|\n",
      "+----------+---------+-----------+-----+\n",
      "\n"
     ]
    }
   ],
   "source": [
    "sql = \"\"\"\n",
    "select first_name, last_name, address.city, address.state\n",
    "from people\n",
    "\"\"\"\n",
    "\n",
    "sqlContext.sql(sql).show()"
   ]
  },
  {
   "cell_type": "markdown",
   "metadata": {},
   "source": [
    "## Left join"
   ]
  },
  {
   "cell_type": "code",
   "execution_count": 9,
   "metadata": {},
   "outputs": [
    {
     "name": "stdout",
     "output_type": "stream",
     "text": [
      "+---+----------+---------+-----------------+\n",
      "| id|first_name|last_name|             name|\n",
      "+---+----------+---------+-----------------+\n",
      "|  1|      John|      Doe|  Who's the Boss?|\n",
      "|  1|      John|      Doe|        House, MD|\n",
      "|  2|      Jane|    Smith|       Full House|\n",
      "|  2|      Jane|    Smith|    Facts of Life|\n",
      "|  2|      Jane|    Smith|Charles in Charge|\n",
      "|  3|      Jack|    Smith|      Family Ties|\n",
      "|  3|      Jack|    Smith|      Night Court|\n",
      "|  3|      Jack|    Smith|           Cheers|\n",
      "|  3|      Jack|    Smith|       Happy Days|\n",
      "|  4|     Janet|      Doe|             null|\n",
      "+---+----------+---------+-----------------+\n",
      "\n"
     ]
    }
   ],
   "source": [
    "sql = \"\"\"\n",
    "select p.id id, first_name, last_name, name\n",
    "from people p\n",
    "    left join tv t on (p.id = t.person_id)\n",
    "\"\"\"\n",
    "\n",
    "sqlContext.sql(sql).show()"
   ]
  },
  {
   "cell_type": "markdown",
   "metadata": {},
   "source": [
    "## Right join"
   ]
  },
  {
   "cell_type": "code",
   "execution_count": 10,
   "metadata": {},
   "outputs": [
    {
     "name": "stdout",
     "output_type": "stream",
     "text": [
      "+----+----------+---------+-----------------+\n",
      "|  id|first_name|last_name|             name|\n",
      "+----+----------+---------+-----------------+\n",
      "|   1|      John|      Doe|        House, MD|\n",
      "|   1|      John|      Doe|  Who's the Boss?|\n",
      "|   2|      Jane|    Smith|Charles in Charge|\n",
      "|   2|      Jane|    Smith|    Facts of Life|\n",
      "|   2|      Jane|    Smith|       Full House|\n",
      "|   3|      Jack|    Smith|       Happy Days|\n",
      "|   3|      Jack|    Smith|           Cheers|\n",
      "|   3|      Jack|    Smith|      Night Court|\n",
      "|   3|      Jack|    Smith|      Family Ties|\n",
      "|null|      null|     null|              ALF|\n",
      "|null|      null|     null|    Growing Pains|\n",
      "|null|      null|     null|  Three's Company|\n",
      "+----+----------+---------+-----------------+\n",
      "\n"
     ]
    }
   ],
   "source": [
    "sql = \"\"\"\n",
    "select p.id id, first_name, last_name, name\n",
    "from people p\n",
    "    right join tv t on (p.id = t.person_id)\n",
    "\"\"\"\n",
    "\n",
    "sqlContext.sql(sql).show()"
   ]
  },
  {
   "cell_type": "markdown",
   "metadata": {},
   "source": [
    "## Inner join"
   ]
  },
  {
   "cell_type": "code",
   "execution_count": 11,
   "metadata": {},
   "outputs": [
    {
     "name": "stdout",
     "output_type": "stream",
     "text": [
      "+---+----------+---------+-----------------+\n",
      "| id|first_name|last_name|             name|\n",
      "+---+----------+---------+-----------------+\n",
      "|  1|      John|      Doe|        House, MD|\n",
      "|  1|      John|      Doe|  Who's the Boss?|\n",
      "|  2|      Jane|    Smith|Charles in Charge|\n",
      "|  2|      Jane|    Smith|    Facts of Life|\n",
      "|  2|      Jane|    Smith|       Full House|\n",
      "|  3|      Jack|    Smith|       Happy Days|\n",
      "|  3|      Jack|    Smith|           Cheers|\n",
      "|  3|      Jack|    Smith|      Night Court|\n",
      "|  3|      Jack|    Smith|      Family Ties|\n",
      "+---+----------+---------+-----------------+\n",
      "\n"
     ]
    }
   ],
   "source": [
    "sql = \"\"\"\n",
    "select p.id id, first_name, last_name, name\n",
    "from people p\n",
    "    inner join tv t on (p.id = t.person_id)\n",
    "\"\"\"\n",
    "\n",
    "sqlContext.sql(sql).show()"
   ]
  },
  {
   "cell_type": "markdown",
   "metadata": {},
   "source": [
    "## User defined function"
   ]
  },
  {
   "cell_type": "code",
   "execution_count": 12,
   "metadata": {},
   "outputs": [
    {
     "name": "stdout",
     "output_type": "stream",
     "text": [
      "+----------+---------+--------+\n",
      "|first_name|last_name|age_days|\n",
      "+----------+---------+--------+\n",
      "|      John|      Doe| 9861.75|\n",
      "|      Jane|    Smith|  8035.5|\n",
      "|      Jack|    Smith| 9131.25|\n",
      "|     Janet|      Doe|  6574.5|\n",
      "+----------+---------+--------+\n",
      "\n"
     ]
    }
   ],
   "source": [
    "from pyspark.sql.types import *\n",
    "\n",
    "def to_days(years):\n",
    "    return 365.25 * years\n",
    "\n",
    "spark.udf.register('toDays', to_days, FloatType())\n",
    "\n",
    "sql = \"\"\"\n",
    "select first_name, last_name, toDays(age) age_days\n",
    "from people\n",
    "\"\"\"\n",
    "\n",
    "sqlContext.sql(sql).show()"
   ]
  }
 ],
 "metadata": {
  "kernelspec": {
   "display_name": "Python 3",
   "language": "python",
   "name": "python3"
  },
  "language_info": {
   "codemirror_mode": {
    "name": "ipython",
    "version": 3
   },
   "file_extension": ".py",
   "mimetype": "text/x-python",
   "name": "python",
   "nbconvert_exporter": "python",
   "pygments_lexer": "ipython3",
   "version": "3.7.4"
  }
 },
 "nbformat": 4,
 "nbformat_minor": 4
}
