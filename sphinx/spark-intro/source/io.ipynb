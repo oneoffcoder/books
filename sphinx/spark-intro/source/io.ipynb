{
 "cells": [
  {
   "cell_type": "markdown",
   "metadata": {},
   "source": [
    "# Input/Output"
   ]
  },
  {
   "cell_type": "markdown",
   "metadata": {},
   "source": [
    "## Data"
   ]
  },
  {
   "cell_type": "code",
   "execution_count": 1,
   "metadata": {},
   "outputs": [],
   "source": [
    "import pandas as pd\n",
    "from random import randint, choice\n",
    "\n",
    "def get_record(idx, n_cols):\n",
    "    gender = choice(['male', 'female'])\n",
    "    data = [idx, gender] + [randint(1, 100) for _ in range(n_cols)]\n",
    "    return tuple(data)\n",
    "\n",
    "n_cols = 10\n",
    "n_rows = 10\n",
    "\n",
    "data = [get_record(i, n_cols) for i, r in enumerate(range(n_rows))]\n",
    "columns = ['id', 'gender'] + [f'x{i}' for i in range(n_cols)]\n",
    "\n",
    "df = sqlContext.createDataFrame(pd.DataFrame(data, columns=columns))"
   ]
  },
  {
   "cell_type": "code",
   "execution_count": 2,
   "metadata": {},
   "outputs": [
    {
     "name": "stdout",
     "output_type": "stream",
     "text": [
      "+---+------+---+---+---+---+---+---+---+---+---+---+\n",
      "| id|gender| x0| x1| x2| x3| x4| x5| x6| x7| x8| x9|\n",
      "+---+------+---+---+---+---+---+---+---+---+---+---+\n",
      "|  0|female| 65| 16| 65| 64| 81| 15| 90| 52| 54| 26|\n",
      "|  1|  male| 61| 50| 83|100| 49| 62| 70|  5| 47| 44|\n",
      "|  2|  male| 28| 54| 84|  9| 64| 82| 60| 86| 81| 41|\n",
      "|  3|female| 74| 82| 77| 16| 90| 18| 20| 95| 31| 15|\n",
      "|  4|female| 26| 64| 68| 96| 35| 36| 33| 59|  3|  1|\n",
      "|  5|female|  8| 74| 60| 85| 64| 74| 68| 76| 70| 54|\n",
      "|  6|  male| 36| 12| 12| 48| 58| 71| 17| 15| 41| 88|\n",
      "|  7|female| 19| 31| 35| 57| 54| 65| 78| 49| 32| 21|\n",
      "|  8|  male| 17| 90| 47| 86| 57| 59|  7| 24| 51| 43|\n",
      "|  9|  male| 51| 26| 38| 39| 39| 95| 13| 27| 27| 63|\n",
      "+---+------+---+---+---+---+---+---+---+---+---+---+\n",
      "\n"
     ]
    }
   ],
   "source": [
    "df.show()"
   ]
  },
  {
   "cell_type": "code",
   "execution_count": 3,
   "metadata": {},
   "outputs": [
    {
     "name": "stdout",
     "output_type": "stream",
     "text": [
      "root\n",
      " |-- id: long (nullable = true)\n",
      " |-- gender: string (nullable = true)\n",
      " |-- x0: long (nullable = true)\n",
      " |-- x1: long (nullable = true)\n",
      " |-- x2: long (nullable = true)\n",
      " |-- x3: long (nullable = true)\n",
      " |-- x4: long (nullable = true)\n",
      " |-- x5: long (nullable = true)\n",
      " |-- x6: long (nullable = true)\n",
      " |-- x7: long (nullable = true)\n",
      " |-- x8: long (nullable = true)\n",
      " |-- x9: long (nullable = true)\n",
      "\n"
     ]
    }
   ],
   "source": [
    "df.printSchema()"
   ]
  },
  {
   "cell_type": "markdown",
   "metadata": {},
   "source": [
    "## Writing data"
   ]
  },
  {
   "cell_type": "markdown",
   "metadata": {},
   "source": [
    "### CSV"
   ]
  },
  {
   "cell_type": "code",
   "execution_count": 4,
   "metadata": {},
   "outputs": [],
   "source": [
    "df.write\\\n",
    "    .format('com.databricks.spark.csv')\\\n",
    "    .mode('overwrite')\\\n",
    "    .option('header', 'true')\\\n",
    "    .save('/user/root/data.csv')"
   ]
  },
  {
   "cell_type": "code",
   "execution_count": 5,
   "metadata": {},
   "outputs": [
    {
     "name": "stdout",
     "output_type": "stream",
     "text": [
      "\n",
      "/user/root/data.csv/_SUCCESS\n",
      "/user/root/data.csv/part-00000-88b1edd1-a941-495c-bdc2-2252437d637b-c000.csv\n",
      "/user/root/data.csv/part-00001-88b1edd1-a941-495c-bdc2-2252437d637b-c000.csv\n"
     ]
    }
   ],
   "source": [
    "%%sh\n",
    "hdfs dfs -ls /user/root/data.csv | awk '{print $8}'"
   ]
  },
  {
   "cell_type": "markdown",
   "metadata": {},
   "source": [
    "### As one CSV file"
   ]
  },
  {
   "cell_type": "code",
   "execution_count": 6,
   "metadata": {},
   "outputs": [],
   "source": [
    "df.repartition(1).write\\\n",
    "    .format('com.databricks.spark.csv')\\\n",
    "    .mode('overwrite')\\\n",
    "    .option('header', 'true')\\\n",
    "    .save('/user/root/data.csv')"
   ]
  },
  {
   "cell_type": "code",
   "execution_count": 7,
   "metadata": {},
   "outputs": [
    {
     "name": "stdout",
     "output_type": "stream",
     "text": [
      "\n",
      "/user/root/data.csv/_SUCCESS\n",
      "/user/root/data.csv/part-00000-c024ed77-4edd-4606-93f2-69dc259460f9-c000.csv\n"
     ]
    }
   ],
   "source": [
    "%%sh\n",
    "hdfs dfs -ls /user/root/data.csv | awk '{print $8}'"
   ]
  },
  {
   "cell_type": "markdown",
   "metadata": {},
   "source": [
    "### JSON"
   ]
  },
  {
   "cell_type": "code",
   "execution_count": 8,
   "metadata": {},
   "outputs": [],
   "source": [
    "df.write\\\n",
    "    .format('json')\\\n",
    "    .mode('overwrite')\\\n",
    "    .save('/user/root/data.json')"
   ]
  },
  {
   "cell_type": "code",
   "execution_count": 9,
   "metadata": {},
   "outputs": [
    {
     "name": "stdout",
     "output_type": "stream",
     "text": [
      "\n",
      "/user/root/data.json/_SUCCESS\n",
      "/user/root/data.json/part-00000-1e8a9501-865f-4dd9-afd3-0818d3b1c3ab-c000.json\n",
      "/user/root/data.json/part-00001-1e8a9501-865f-4dd9-afd3-0818d3b1c3ab-c000.json\n"
     ]
    }
   ],
   "source": [
    "%%sh\n",
    "hdfs dfs -ls /user/root/data.json | awk '{print $8}'"
   ]
  },
  {
   "cell_type": "markdown",
   "metadata": {},
   "source": [
    "### Parquet"
   ]
  },
  {
   "cell_type": "code",
   "execution_count": 10,
   "metadata": {},
   "outputs": [],
   "source": [
    "df.write\\\n",
    "    .format('parquet')\\\n",
    "    .mode('overwrite')\\\n",
    "    .save('/user/root/data.parquet')"
   ]
  },
  {
   "cell_type": "code",
   "execution_count": 11,
   "metadata": {},
   "outputs": [
    {
     "name": "stdout",
     "output_type": "stream",
     "text": [
      "\n",
      "/user/root/data.parquet/_SUCCESS\n",
      "/user/root/data.parquet/part-00000-b9959723-1f8a-46f5-b1f7-f9c8c13b82e9-c000.snappy.parquet\n",
      "/user/root/data.parquet/part-00001-b9959723-1f8a-46f5-b1f7-f9c8c13b82e9-c000.snappy.parquet\n"
     ]
    }
   ],
   "source": [
    "%%sh\n",
    "hdfs dfs -ls /user/root/data.parquet | awk '{print $8}'"
   ]
  },
  {
   "cell_type": "markdown",
   "metadata": {},
   "source": [
    "### Parquet with partitions"
   ]
  },
  {
   "cell_type": "code",
   "execution_count": 12,
   "metadata": {},
   "outputs": [],
   "source": [
    "df.write\\\n",
    "    .format('parquet')\\\n",
    "    .mode('overwrite')\\\n",
    "    .partitionBy('gender')\\\n",
    "    .save('/user/root/data.parquet')"
   ]
  },
  {
   "cell_type": "code",
   "execution_count": 13,
   "metadata": {},
   "outputs": [
    {
     "name": "stdout",
     "output_type": "stream",
     "text": [
      "\n",
      "/user/root/data.parquet/_SUCCESS\n",
      "/user/root/data.parquet/gender=female\n",
      "/user/root/data.parquet/gender=male\n"
     ]
    }
   ],
   "source": [
    "%%sh\n",
    "hdfs dfs -ls /user/root/data.parquet | awk '{print $8}'"
   ]
  },
  {
   "cell_type": "code",
   "execution_count": 14,
   "metadata": {},
   "outputs": [
    {
     "name": "stdout",
     "output_type": "stream",
     "text": [
      "\n",
      "/user/root/data.parquet/gender=female/part-00000-cc86f798-414c-47d5-a890-e8c04e2462dd.c000.snappy.parquet\n",
      "/user/root/data.parquet/gender=female/part-00001-cc86f798-414c-47d5-a890-e8c04e2462dd.c000.snappy.parquet\n"
     ]
    }
   ],
   "source": [
    "%%sh\n",
    "hdfs dfs -ls /user/root/data.parquet/gender=female | awk '{print $8}'"
   ]
  },
  {
   "cell_type": "code",
   "execution_count": 15,
   "metadata": {},
   "outputs": [
    {
     "name": "stdout",
     "output_type": "stream",
     "text": [
      "\n",
      "/user/root/data.parquet/gender=male/part-00000-cc86f798-414c-47d5-a890-e8c04e2462dd.c000.snappy.parquet\n",
      "/user/root/data.parquet/gender=male/part-00001-cc86f798-414c-47d5-a890-e8c04e2462dd.c000.snappy.parquet\n"
     ]
    }
   ],
   "source": [
    "%%sh\n",
    "hdfs dfs -ls /user/root/data.parquet/gender=male | awk '{print $8}'"
   ]
  },
  {
   "cell_type": "markdown",
   "metadata": {},
   "source": [
    "### ORC"
   ]
  },
  {
   "cell_type": "code",
   "execution_count": 16,
   "metadata": {},
   "outputs": [],
   "source": [
    "df.write\\\n",
    "    .format('orc')\\\n",
    "    .mode('overwrite')\\\n",
    "    .save('/user/root/data.orc')"
   ]
  },
  {
   "cell_type": "code",
   "execution_count": 17,
   "metadata": {},
   "outputs": [
    {
     "name": "stdout",
     "output_type": "stream",
     "text": [
      "\n",
      "/user/root/data.orc/_SUCCESS\n",
      "/user/root/data.orc/part-00000-4fc3d3d7-061c-404c-99d4-0c6d6ee063d0-c000.snappy.orc\n",
      "/user/root/data.orc/part-00001-4fc3d3d7-061c-404c-99d4-0c6d6ee063d0-c000.snappy.orc\n"
     ]
    }
   ],
   "source": [
    "%%sh\n",
    "hdfs dfs -ls /user/root/data.orc | awk '{print $8}'"
   ]
  },
  {
   "cell_type": "markdown",
   "metadata": {},
   "source": [
    "## Reading"
   ]
  },
  {
   "cell_type": "markdown",
   "metadata": {},
   "source": [
    "### Whole text file"
   ]
  },
  {
   "cell_type": "code",
   "execution_count": 18,
   "metadata": {},
   "outputs": [
    {
     "name": "stdout",
     "output_type": "stream",
     "text": [
      "hdfs://localhost/data.csv\n",
      "x0,x1,x2,x3,x4,x5,x6,x7,x8,x9\n",
      "14,22,25,63,47,52,13,14,23,27\n",
      "35,80,38,28,73,69,21,16,76,53\n",
      "\n"
     ]
    }
   ],
   "source": [
    "pair_rdd = sc.wholeTextFiles('hdfs://localhost/*.csv')\n",
    "\n",
    "item = pair_rdd.collect()[0]\n",
    "\n",
    "print(item[0])\n",
    "print(item[1][0:90])"
   ]
  },
  {
   "cell_type": "markdown",
   "metadata": {},
   "source": [
    "### Text file by lines"
   ]
  },
  {
   "cell_type": "code",
   "execution_count": 19,
   "metadata": {},
   "outputs": [
    {
     "data": {
      "text/plain": [
       "['x0,x1,x2,x3,x4,x5,x6,x7,x8,x9',\n",
       " '14,22,25,63,47,52,13,14,23,27',\n",
       " '35,80,38,28,73,69,21,16,76,53',\n",
       " '46,37,46,55,78,68,61,62,81,82',\n",
       " '19,12,45,50,71,63,94,7,10,77']"
      ]
     },
     "execution_count": 19,
     "metadata": {},
     "output_type": "execute_result"
    }
   ],
   "source": [
    "rdd = sc.textFile('hdfs://localhost/data.csv')\n",
    "rdd.take(5)"
   ]
  },
  {
   "cell_type": "markdown",
   "metadata": {},
   "source": [
    "### CSV"
   ]
  },
  {
   "cell_type": "code",
   "execution_count": 20,
   "metadata": {},
   "outputs": [
    {
     "name": "stdout",
     "output_type": "stream",
     "text": [
      "+---+------+---+---+---+---+---+---+---+---+---+---+\n",
      "| id|gender| x0| x1| x2| x3| x4| x5| x6| x7| x8| x9|\n",
      "+---+------+---+---+---+---+---+---+---+---+---+---+\n",
      "|  0|female| 65| 16| 65| 64| 81| 15| 90| 52| 54| 26|\n",
      "|  1|  male| 61| 50| 83|100| 49| 62| 70|  5| 47| 44|\n",
      "|  2|  male| 28| 54| 84|  9| 64| 82| 60| 86| 81| 41|\n",
      "|  3|female| 74| 82| 77| 16| 90| 18| 20| 95| 31| 15|\n",
      "|  4|female| 26| 64| 68| 96| 35| 36| 33| 59|  3|  1|\n",
      "|  5|female|  8| 74| 60| 85| 64| 74| 68| 76| 70| 54|\n",
      "|  6|  male| 36| 12| 12| 48| 58| 71| 17| 15| 41| 88|\n",
      "|  7|female| 19| 31| 35| 57| 54| 65| 78| 49| 32| 21|\n",
      "|  8|  male| 17| 90| 47| 86| 57| 59|  7| 24| 51| 43|\n",
      "|  9|  male| 51| 26| 38| 39| 39| 95| 13| 27| 27| 63|\n",
      "+---+------+---+---+---+---+---+---+---+---+---+---+\n",
      "\n"
     ]
    }
   ],
   "source": [
    "spark.read.format('csv')\\\n",
    "    .option('header', 'true')\\\n",
    "    .option('inferSchema', 'true')\\\n",
    "    .load('/user/root/data.csv')\\\n",
    "    .show()"
   ]
  },
  {
   "cell_type": "markdown",
   "metadata": {},
   "source": [
    "### JSON"
   ]
  },
  {
   "cell_type": "code",
   "execution_count": 21,
   "metadata": {},
   "outputs": [
    {
     "name": "stdout",
     "output_type": "stream",
     "text": [
      "+------+---+---+---+---+---+---+---+---+---+---+---+\n",
      "|gender| id| x0| x1| x2| x3| x4| x5| x6| x7| x8| x9|\n",
      "+------+---+---+---+---+---+---+---+---+---+---+---+\n",
      "|female|  0| 65| 16| 65| 64| 81| 15| 90| 52| 54| 26|\n",
      "|  male|  1| 61| 50| 83|100| 49| 62| 70|  5| 47| 44|\n",
      "|  male|  2| 28| 54| 84|  9| 64| 82| 60| 86| 81| 41|\n",
      "|female|  3| 74| 82| 77| 16| 90| 18| 20| 95| 31| 15|\n",
      "|female|  4| 26| 64| 68| 96| 35| 36| 33| 59|  3|  1|\n",
      "|female|  5|  8| 74| 60| 85| 64| 74| 68| 76| 70| 54|\n",
      "|  male|  6| 36| 12| 12| 48| 58| 71| 17| 15| 41| 88|\n",
      "|female|  7| 19| 31| 35| 57| 54| 65| 78| 49| 32| 21|\n",
      "|  male|  8| 17| 90| 47| 86| 57| 59|  7| 24| 51| 43|\n",
      "|  male|  9| 51| 26| 38| 39| 39| 95| 13| 27| 27| 63|\n",
      "+------+---+---+---+---+---+---+---+---+---+---+---+\n",
      "\n"
     ]
    }
   ],
   "source": [
    "spark.read.format('json')\\\n",
    "    .option('inferSchema', 'true')\\\n",
    "    .load('/user/root/data.json')\\\n",
    "    .show()"
   ]
  },
  {
   "cell_type": "markdown",
   "metadata": {},
   "source": [
    "### Parquet"
   ]
  },
  {
   "cell_type": "code",
   "execution_count": 22,
   "metadata": {},
   "outputs": [
    {
     "name": "stdout",
     "output_type": "stream",
     "text": [
      "+---+---+---+---+---+---+---+---+---+---+---+------+\n",
      "| id| x0| x1| x2| x3| x4| x5| x6| x7| x8| x9|gender|\n",
      "+---+---+---+---+---+---+---+---+---+---+---+------+\n",
      "|  6| 36| 12| 12| 48| 58| 71| 17| 15| 41| 88|  male|\n",
      "|  8| 17| 90| 47| 86| 57| 59|  7| 24| 51| 43|  male|\n",
      "|  9| 51| 26| 38| 39| 39| 95| 13| 27| 27| 63|  male|\n",
      "|  0| 65| 16| 65| 64| 81| 15| 90| 52| 54| 26|female|\n",
      "|  3| 74| 82| 77| 16| 90| 18| 20| 95| 31| 15|female|\n",
      "|  4| 26| 64| 68| 96| 35| 36| 33| 59|  3|  1|female|\n",
      "|  5|  8| 74| 60| 85| 64| 74| 68| 76| 70| 54|female|\n",
      "|  7| 19| 31| 35| 57| 54| 65| 78| 49| 32| 21|female|\n",
      "|  1| 61| 50| 83|100| 49| 62| 70|  5| 47| 44|  male|\n",
      "|  2| 28| 54| 84|  9| 64| 82| 60| 86| 81| 41|  male|\n",
      "+---+---+---+---+---+---+---+---+---+---+---+------+\n",
      "\n"
     ]
    }
   ],
   "source": [
    "spark.read.parquet('/user/root/data.parquet').show()"
   ]
  },
  {
   "cell_type": "markdown",
   "metadata": {},
   "source": [
    "### ORC"
   ]
  },
  {
   "cell_type": "code",
   "execution_count": 23,
   "metadata": {},
   "outputs": [
    {
     "name": "stdout",
     "output_type": "stream",
     "text": [
      "+---+------+---+---+---+---+---+---+---+---+---+---+\n",
      "| id|gender| x0| x1| x2| x3| x4| x5| x6| x7| x8| x9|\n",
      "+---+------+---+---+---+---+---+---+---+---+---+---+\n",
      "|  0|female| 65| 16| 65| 64| 81| 15| 90| 52| 54| 26|\n",
      "|  1|  male| 61| 50| 83|100| 49| 62| 70|  5| 47| 44|\n",
      "|  2|  male| 28| 54| 84|  9| 64| 82| 60| 86| 81| 41|\n",
      "|  3|female| 74| 82| 77| 16| 90| 18| 20| 95| 31| 15|\n",
      "|  4|female| 26| 64| 68| 96| 35| 36| 33| 59|  3|  1|\n",
      "|  5|female|  8| 74| 60| 85| 64| 74| 68| 76| 70| 54|\n",
      "|  6|  male| 36| 12| 12| 48| 58| 71| 17| 15| 41| 88|\n",
      "|  7|female| 19| 31| 35| 57| 54| 65| 78| 49| 32| 21|\n",
      "|  8|  male| 17| 90| 47| 86| 57| 59|  7| 24| 51| 43|\n",
      "|  9|  male| 51| 26| 38| 39| 39| 95| 13| 27| 27| 63|\n",
      "+---+------+---+---+---+---+---+---+---+---+---+---+\n",
      "\n"
     ]
    }
   ],
   "source": [
    "spark.read.orc('/user/root/data.orc').show()"
   ]
  }
 ],
 "metadata": {
  "kernelspec": {
   "display_name": "Python 3",
   "language": "python",
   "name": "python3"
  },
  "language_info": {
   "codemirror_mode": {
    "name": "ipython",
    "version": 3
   },
   "file_extension": ".py",
   "mimetype": "text/x-python",
   "name": "python",
   "nbconvert_exporter": "python",
   "pygments_lexer": "ipython3",
   "version": "3.7.4"
  }
 },
 "nbformat": 4,
 "nbformat_minor": 4
}
