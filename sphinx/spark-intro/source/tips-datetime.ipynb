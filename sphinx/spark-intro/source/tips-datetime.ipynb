{
 "cells": [
  {
   "cell_type": "markdown",
   "id": "bc28b2bd-cdef-4c2c-94d2-50edcc4fe2c0",
   "metadata": {},
   "source": [
    "## Date and Time\n",
    "\n",
    "Working `date` or `datetime` types can be tricky. Spark has [two data types](https://spark.apache.org/docs/latest/sql-ref-datatypes.html) that can represent dates.\n",
    "\n",
    "- `TimestampType` represents values with date (year, month, day), time (hour, minute, second) and timezone offset.\n",
    "- `DateType` represents values with date information only."
   ]
  },
  {
   "cell_type": "markdown",
   "id": "39481958-496d-444d-ad5e-37f432d5e51d",
   "metadata": {},
   "source": [
    "### Pandas datetime\n",
    "\n",
    "Date and datetime information can be represented in Pandas dataframes in a variety of ways. Typically, one would use functions available from Pandas (e.g. `to_datetime()`) to convert values to datetime values. Be careful, however, as the type information is all over the place."
   ]
  },
  {
   "cell_type": "code",
   "execution_count": 1,
   "id": "4aa5db6d-e62e-4cd2-ba73-bab042823ca9",
   "metadata": {},
   "outputs": [
    {
     "data": {
      "text/html": [
       "<div>\n",
       "<style scoped>\n",
       "    .dataframe tbody tr th:only-of-type {\n",
       "        vertical-align: middle;\n",
       "    }\n",
       "\n",
       "    .dataframe tbody tr th {\n",
       "        vertical-align: top;\n",
       "    }\n",
       "\n",
       "    .dataframe thead th {\n",
       "        text-align: right;\n",
       "    }\n",
       "</style>\n",
       "<table border=\"1\" class=\"dataframe\">\n",
       "  <thead>\n",
       "    <tr style=\"text-align: right;\">\n",
       "      <th></th>\n",
       "      <th>x</th>\n",
       "      <th>y</th>\n",
       "    </tr>\n",
       "  </thead>\n",
       "  <tbody>\n",
       "    <tr>\n",
       "      <th>0</th>\n",
       "      <td>1</td>\n",
       "      <td>2021-12-01</td>\n",
       "    </tr>\n",
       "    <tr>\n",
       "      <th>1</th>\n",
       "      <td>2</td>\n",
       "      <td>2021-12-02</td>\n",
       "    </tr>\n",
       "    <tr>\n",
       "      <th>2</th>\n",
       "      <td>3</td>\n",
       "      <td>2021-12-03</td>\n",
       "    </tr>\n",
       "  </tbody>\n",
       "</table>\n",
       "</div>"
      ],
      "text/plain": [
       "   x          y\n",
       "0  1 2021-12-01\n",
       "1  2 2021-12-02\n",
       "2  3 2021-12-03"
      ]
     },
     "execution_count": 1,
     "metadata": {},
     "output_type": "execute_result"
    }
   ],
   "source": [
    "import pandas as pd\n",
    "import numpy as np\n",
    "\n",
    "pdf = pd.DataFrame({\n",
    "    'x': [1, 2, 3],\n",
    "    'y': pd.to_datetime(['2021-12-01', '2021-12-02', '2021-12-03'])\n",
    "})\n",
    "\n",
    "pdf"
   ]
  },
  {
   "cell_type": "markdown",
   "id": "c932546b-26de-45f5-b009-ed4f8f1f9895",
   "metadata": {},
   "source": [
    "You can see that `.dtypes` says that the type is `datetime64[ns]`. "
   ]
  },
  {
   "cell_type": "code",
   "execution_count": 2,
   "id": "e1fc86ac-bc18-4914-9656-870a00f129e3",
   "metadata": {},
   "outputs": [
    {
     "data": {
      "text/plain": [
       "x             int64\n",
       "y    datetime64[ns]\n",
       "dtype: object"
      ]
     },
     "execution_count": 2,
     "metadata": {},
     "output_type": "execute_result"
    }
   ],
   "source": [
    "pdf.dtypes"
   ]
  },
  {
   "cell_type": "markdown",
   "id": "147decb7-63bc-431b-a0c0-ea04f4378835",
   "metadata": {},
   "source": [
    "If you navigate to a specific value, then the type information changes!"
   ]
  },
  {
   "cell_type": "code",
   "execution_count": 3,
   "id": "ddaebc25-8f84-4b78-aaac-772ee91c42d7",
   "metadata": {},
   "outputs": [
    {
     "data": {
      "text/plain": [
       "pandas._libs.tslibs.timestamps.Timestamp"
      ]
     },
     "execution_count": 3,
     "metadata": {},
     "output_type": "execute_result"
    }
   ],
   "source": [
    "type(pdf.iloc[0].y)"
   ]
  },
  {
   "cell_type": "markdown",
   "id": "00ecc5cb-c412-45f1-9564-f657468eb8cc",
   "metadata": {},
   "source": [
    "Still, the awe and wonder of Spark and Pandas can successfully create a Spark dataframe from a Pandas one. Take note that the Spark data type is `timestamp`."
   ]
  },
  {
   "cell_type": "code",
   "execution_count": 4,
   "id": "95221075-73a2-43bd-92ab-fb96d32f2430",
   "metadata": {},
   "outputs": [
    {
     "name": "stdout",
     "output_type": "stream",
     "text": [
      "+---+-------------------+\n",
      "|  x|                  y|\n",
      "+---+-------------------+\n",
      "|  1|2021-12-01 00:00:00|\n",
      "|  2|2021-12-02 00:00:00|\n",
      "|  3|2021-12-03 00:00:00|\n",
      "+---+-------------------+\n",
      "\n"
     ]
    }
   ],
   "source": [
    "sdf = sqlContext.createDataFrame(pdf)\n",
    "sdf.show()"
   ]
  },
  {
   "cell_type": "code",
   "execution_count": 5,
   "id": "2b2be9df-badb-4bea-9a9d-ea98ff96cfb1",
   "metadata": {},
   "outputs": [
    {
     "name": "stdout",
     "output_type": "stream",
     "text": [
      "root\n",
      " |-- x: long (nullable = true)\n",
      " |-- y: timestamp (nullable = true)\n",
      "\n"
     ]
    }
   ],
   "source": [
    "sdf.printSchema()"
   ]
  },
  {
   "cell_type": "markdown",
   "id": "e7ae1927-4b74-4762-9e79-6ff5383014b6",
   "metadata": {},
   "source": [
    "### Python datetime\n",
    "\n",
    "If you are not converting data from Pandas, then you should just use Python's `datetime` module. Whatever `datetime.strptime()` returns will most likely be convertible to Spark's datetime types. By default, again, notice that the type is `timestamp`."
   ]
  },
  {
   "cell_type": "code",
   "execution_count": 6,
   "id": "091fbe0e-b288-4534-9ca1-325094dea242",
   "metadata": {},
   "outputs": [],
   "source": [
    "from datetime import datetime\n",
    "from pyspark.sql import Row\n",
    "from pyspark.sql.types import *\n",
    "\n",
    "rdd = sc.parallelize([(a, b) for a, b in zip([1, 2, 3], ['2021-12-01', '2021-12-02', '2021-12-03'])])\\\n",
    "    .map(lambda tup: Row(n=tup[0], d=datetime.strptime(tup[1], '%Y-%m-%d')))\n",
    "\n",
    "sdf = sqlContext.createDataFrame(rdd)"
   ]
  },
  {
   "cell_type": "code",
   "execution_count": 7,
   "id": "867cdf25-420b-4cc5-b913-929103f7561b",
   "metadata": {},
   "outputs": [
    {
     "name": "stdout",
     "output_type": "stream",
     "text": [
      "root\n",
      " |-- d: timestamp (nullable = true)\n",
      " |-- n: long (nullable = true)\n",
      "\n"
     ]
    }
   ],
   "source": [
    "sdf.printSchema()"
   ]
  },
  {
   "cell_type": "code",
   "execution_count": 8,
   "id": "4d44dea1-b39d-47ab-b49c-079158da7e19",
   "metadata": {},
   "outputs": [
    {
     "name": "stdout",
     "output_type": "stream",
     "text": [
      "+-------------------+---+\n",
      "|                  d|  n|\n",
      "+-------------------+---+\n",
      "|2021-12-01 00:00:00|  1|\n",
      "|2021-12-02 00:00:00|  2|\n",
      "|2021-12-03 00:00:00|  3|\n",
      "+-------------------+---+\n",
      "\n"
     ]
    }
   ],
   "source": [
    "sdf.show()"
   ]
  },
  {
   "cell_type": "markdown",
   "id": "19644342-2b4f-43bd-8266-b27f8fb9e3e5",
   "metadata": {},
   "source": [
    "If we do not use `Row` and just tuples, then we have to specify a schema. We set the datetime type to `TimestampType`."
   ]
  },
  {
   "cell_type": "code",
   "execution_count": 14,
   "id": "72b47b4e-96ee-4f9a-add0-c60bb99aa587",
   "metadata": {},
   "outputs": [],
   "source": [
    "rdd = sc.parallelize([(a, b) for a, b in zip([1, 2, 3], ['2021-12-01', '2021-12-02', '2021-12-03'])])\\\n",
    "    .map(lambda tup: (tup[0], datetime.strptime(tup[1], '%Y-%m-%d')))\n",
    "\n",
    "schema = StructType([\n",
    "    StructField('n', IntegerType(), True),\n",
    "    StructField('d', TimestampType(), True)\n",
    "])\n",
    "\n",
    "sdf = spark.createDataFrame(rdd, schema)"
   ]
  },
  {
   "cell_type": "code",
   "execution_count": 15,
   "id": "3eb44842-94c6-4243-a485-663fbed4619c",
   "metadata": {},
   "outputs": [
    {
     "name": "stdout",
     "output_type": "stream",
     "text": [
      "root\n",
      " |-- n: integer (nullable = true)\n",
      " |-- d: timestamp (nullable = true)\n",
      "\n"
     ]
    }
   ],
   "source": [
    "sdf.printSchema()"
   ]
  },
  {
   "cell_type": "code",
   "execution_count": 16,
   "id": "7ebed1e0-65a4-4361-8152-37cd22825762",
   "metadata": {},
   "outputs": [
    {
     "name": "stdout",
     "output_type": "stream",
     "text": [
      "+---+-------------------+\n",
      "|  n|                  d|\n",
      "+---+-------------------+\n",
      "|  1|2021-12-01 00:00:00|\n",
      "|  2|2021-12-02 00:00:00|\n",
      "|  3|2021-12-03 00:00:00|\n",
      "+---+-------------------+\n",
      "\n"
     ]
    }
   ],
   "source": [
    "sdf.show()"
   ]
  },
  {
   "cell_type": "markdown",
   "id": "14e31307-e19b-483f-8c6d-698f99ee272e",
   "metadata": {},
   "source": [
    "But we can also specify `DateType`."
   ]
  },
  {
   "cell_type": "code",
   "execution_count": 17,
   "id": "4ec00392-c1eb-4407-b191-f182e1e903f2",
   "metadata": {},
   "outputs": [],
   "source": [
    "rdd = sc.parallelize([(a, b) for a, b in zip([1, 2, 3], ['2021-12-01', '2021-12-02', '2021-12-03'])])\\\n",
    "    .map(lambda tup: (tup[0], datetime.strptime(tup[1], '%Y-%m-%d')))\n",
    "\n",
    "schema = StructType([\n",
    "    StructField('n', IntegerType(), True),\n",
    "    StructField('d', DateType(), True)\n",
    "])\n",
    "\n",
    "sdf = spark.createDataFrame(rdd, schema)"
   ]
  },
  {
   "cell_type": "code",
   "execution_count": 18,
   "id": "4fd485e1-94d7-41c6-8c4c-f20446096730",
   "metadata": {},
   "outputs": [
    {
     "name": "stdout",
     "output_type": "stream",
     "text": [
      "root\n",
      " |-- n: integer (nullable = true)\n",
      " |-- d: date (nullable = true)\n",
      "\n"
     ]
    }
   ],
   "source": [
    "sdf.printSchema()"
   ]
  },
  {
   "cell_type": "code",
   "execution_count": 19,
   "id": "4d55461d-680f-4fc2-9593-edbe82af1fdf",
   "metadata": {},
   "outputs": [
    {
     "name": "stdout",
     "output_type": "stream",
     "text": [
      "+---+----------+\n",
      "|  n|         d|\n",
      "+---+----------+\n",
      "|  1|2021-12-01|\n",
      "|  2|2021-12-02|\n",
      "|  3|2021-12-03|\n",
      "+---+----------+\n",
      "\n"
     ]
    }
   ],
   "source": [
    "sdf.show()"
   ]
  }
 ],
 "metadata": {
  "kernelspec": {
   "display_name": "Python 3",
   "language": "python",
   "name": "python3"
  },
  "language_info": {
   "codemirror_mode": {
    "name": "ipython",
    "version": 3
   },
   "file_extension": ".py",
   "mimetype": "text/x-python",
   "name": "python",
   "nbconvert_exporter": "python",
   "pygments_lexer": "ipython3",
   "version": "3.7.11"
  }
 },
 "nbformat": 4,
 "nbformat_minor": 5
}
