{
 "cells": [
  {
   "cell_type": "markdown",
   "metadata": {},
   "source": [
    "# Graphs"
   ]
  },
  {
   "cell_type": "markdown",
   "metadata": {},
   "source": [
    "## Data"
   ]
  },
  {
   "cell_type": "code",
   "execution_count": 1,
   "metadata": {},
   "outputs": [],
   "source": [
    "from pyspark.sql.functions import lit\n",
    "from graphframes import GraphFrame\n",
    "\n",
    "v = sqlContext.createDataFrame([\n",
    "  (\"a\", \"Alice\", 34),\n",
    "  (\"b\", \"Bob\", 36),\n",
    "  (\"c\", \"Charlie\", 30),\n",
    "  (\"d\", \"David\", 29),\n",
    "  (\"e\", \"Esther\", 32),\n",
    "  (\"f\", \"Fanny\", 36),\n",
    "  (\"g\", \"Gabby\", 60)\n",
    "], [\"id\", \"name\", \"age\"]) \\\n",
    ".withColumn(\"entity\", lit(\"person\"))\n",
    "\n",
    "e = sqlContext.createDataFrame([\n",
    "  (\"a\", \"b\", \"friend\"),\n",
    "  (\"b\", \"c\", \"follow\"),\n",
    "  (\"c\", \"b\", \"follow\"),\n",
    "  (\"f\", \"c\", \"follow\"),\n",
    "  (\"e\", \"f\", \"follow\"),\n",
    "  (\"e\", \"d\", \"friend\"),\n",
    "  (\"d\", \"a\", \"friend\"),\n",
    "  (\"a\", \"e\", \"friend\")\n",
    "], [\"src\", \"dst\", \"relationship\"])\n",
    "\n",
    "g = GraphFrame(v, e)"
   ]
  },
  {
   "cell_type": "code",
   "execution_count": 2,
   "metadata": {},
   "outputs": [
    {
     "name": "stdout",
     "output_type": "stream",
     "text": [
      "+---+-------+---+------+\n",
      "| id|   name|age|entity|\n",
      "+---+-------+---+------+\n",
      "|  a|  Alice| 34|person|\n",
      "|  b|    Bob| 36|person|\n",
      "|  c|Charlie| 30|person|\n",
      "|  d|  David| 29|person|\n",
      "|  e| Esther| 32|person|\n",
      "|  f|  Fanny| 36|person|\n",
      "|  g|  Gabby| 60|person|\n",
      "+---+-------+---+------+\n",
      "\n"
     ]
    }
   ],
   "source": [
    "g.vertices.show()"
   ]
  },
  {
   "cell_type": "code",
   "execution_count": 3,
   "metadata": {},
   "outputs": [
    {
     "name": "stdout",
     "output_type": "stream",
     "text": [
      "+---+---+------------+\n",
      "|src|dst|relationship|\n",
      "+---+---+------------+\n",
      "|  a|  b|      friend|\n",
      "|  b|  c|      follow|\n",
      "|  c|  b|      follow|\n",
      "|  f|  c|      follow|\n",
      "|  e|  f|      follow|\n",
      "|  e|  d|      friend|\n",
      "|  d|  a|      friend|\n",
      "|  a|  e|      friend|\n",
      "+---+---+------------+\n",
      "\n"
     ]
    }
   ],
   "source": [
    "g.edges.show()"
   ]
  },
  {
   "cell_type": "markdown",
   "metadata": {},
   "source": [
    "## In-degrees"
   ]
  },
  {
   "cell_type": "code",
   "execution_count": 4,
   "metadata": {},
   "outputs": [
    {
     "name": "stdout",
     "output_type": "stream",
     "text": [
      "+---+--------+\n",
      "| id|inDegree|\n",
      "+---+--------+\n",
      "|  f|       1|\n",
      "|  e|       1|\n",
      "|  d|       1|\n",
      "|  c|       2|\n",
      "|  b|       2|\n",
      "|  a|       1|\n",
      "+---+--------+\n",
      "\n"
     ]
    }
   ],
   "source": [
    "g.inDegrees.show()"
   ]
  },
  {
   "cell_type": "markdown",
   "metadata": {},
   "source": [
    "## Group by, vertices"
   ]
  },
  {
   "cell_type": "code",
   "execution_count": 5,
   "metadata": {},
   "outputs": [
    {
     "name": "stdout",
     "output_type": "stream",
     "text": [
      "+--------+\n",
      "|min(age)|\n",
      "+--------+\n",
      "|      29|\n",
      "+--------+\n",
      "\n"
     ]
    }
   ],
   "source": [
    "g.vertices.groupBy().min('age').show()"
   ]
  },
  {
   "cell_type": "markdown",
   "metadata": {},
   "source": [
    "## Filter, vertices"
   ]
  },
  {
   "cell_type": "code",
   "execution_count": 6,
   "metadata": {},
   "outputs": [
    {
     "name": "stdout",
     "output_type": "stream",
     "text": [
      "+---+------+---+------+\n",
      "| id|  name|age|entity|\n",
      "+---+------+---+------+\n",
      "|  a| Alice| 34|person|\n",
      "|  b|   Bob| 36|person|\n",
      "|  e|Esther| 32|person|\n",
      "|  f| Fanny| 36|person|\n",
      "|  g| Gabby| 60|person|\n",
      "+---+------+---+------+\n",
      "\n"
     ]
    }
   ],
   "source": [
    "g.vertices.filter('age > 30').show()"
   ]
  },
  {
   "cell_type": "markdown",
   "metadata": {},
   "source": [
    "## Filter, edges"
   ]
  },
  {
   "cell_type": "code",
   "execution_count": 7,
   "metadata": {},
   "outputs": [
    {
     "name": "stdout",
     "output_type": "stream",
     "text": [
      "+---+---+------------+\n",
      "|src|dst|relationship|\n",
      "+---+---+------------+\n",
      "|  b|  c|      follow|\n",
      "|  c|  b|      follow|\n",
      "|  f|  c|      follow|\n",
      "|  e|  f|      follow|\n",
      "+---+---+------------+\n",
      "\n"
     ]
    }
   ],
   "source": [
    "g.edges.filter(\"relationship = 'follow'\").show()"
   ]
  },
  {
   "cell_type": "code",
   "execution_count": 8,
   "metadata": {},
   "outputs": [
    {
     "name": "stdout",
     "output_type": "stream",
     "text": [
      "+---+---+------------+\n",
      "|src|dst|relationship|\n",
      "+---+---+------------+\n",
      "|  a|  b|      friend|\n",
      "|  e|  d|      friend|\n",
      "|  d|  a|      friend|\n",
      "|  a|  e|      friend|\n",
      "+---+---+------------+\n",
      "\n"
     ]
    }
   ],
   "source": [
    "g.edges.filter(\"relationship = 'friend'\").show()"
   ]
  },
  {
   "cell_type": "markdown",
   "metadata": {},
   "source": [
    "## Motif finding"
   ]
  },
  {
   "cell_type": "code",
   "execution_count": 9,
   "metadata": {},
   "outputs": [
    {
     "name": "stdout",
     "output_type": "stream",
     "text": [
      "+--------------------+--------------+--------------------+--------------+\n",
      "|                   a|            e1|                   b|            e2|\n",
      "+--------------------+--------------+--------------------+--------------+\n",
      "|[c, Charlie, 30, ...|[c, b, follow]|[b, Bob, 36, person]|[b, c, follow]|\n",
      "|[b, Bob, 36, person]|[b, c, follow]|[c, Charlie, 30, ...|[c, b, follow]|\n",
      "+--------------------+--------------+--------------------+--------------+\n",
      "\n"
     ]
    }
   ],
   "source": [
    "g.find('(a)-[e1]->(b); (b)-[e2]->(a)').show()"
   ]
  },
  {
   "cell_type": "code",
   "execution_count": 10,
   "metadata": {},
   "outputs": [
    {
     "name": "stdout",
     "output_type": "stream",
     "text": [
      "+--------------------+--------------+--------------------+--------------+\n",
      "|                   a|            e1|                   b|            e2|\n",
      "+--------------------+--------------+--------------------+--------------+\n",
      "|[c, Charlie, 30, ...|[c, b, follow]|[b, Bob, 36, person]|[b, c, follow]|\n",
      "+--------------------+--------------+--------------------+--------------+\n",
      "\n"
     ]
    }
   ],
   "source": [
    "g.find('(a)-[e1]->(b); (b)-[e2]->(a)').filter('b.age > 30').filter('a.age >= 30').show()"
   ]
  },
  {
   "cell_type": "markdown",
   "metadata": {},
   "source": [
    "## Subgraph"
   ]
  },
  {
   "cell_type": "code",
   "execution_count": 11,
   "metadata": {},
   "outputs": [],
   "source": [
    "s = GraphFrame(g.vertices, g.find(\"(a)-[e]->(b)\")\\\n",
    "    .filter(\"e.relationship = 'follow'\")\\\n",
    "    .filter(\"a.age < b.age\")\\\n",
    "    .select('e.src', 'e.dst', 'e.relationship'))"
   ]
  },
  {
   "cell_type": "code",
   "execution_count": 12,
   "metadata": {},
   "outputs": [
    {
     "name": "stdout",
     "output_type": "stream",
     "text": [
      "+---+-------+---+------+\n",
      "| id|   name|age|entity|\n",
      "+---+-------+---+------+\n",
      "|  a|  Alice| 34|person|\n",
      "|  b|    Bob| 36|person|\n",
      "|  c|Charlie| 30|person|\n",
      "|  d|  David| 29|person|\n",
      "|  e| Esther| 32|person|\n",
      "|  f|  Fanny| 36|person|\n",
      "|  g|  Gabby| 60|person|\n",
      "+---+-------+---+------+\n",
      "\n"
     ]
    }
   ],
   "source": [
    "s.vertices.show()"
   ]
  },
  {
   "cell_type": "code",
   "execution_count": 13,
   "metadata": {},
   "outputs": [
    {
     "name": "stdout",
     "output_type": "stream",
     "text": [
      "+---+---+------------+\n",
      "|src|dst|relationship|\n",
      "+---+---+------------+\n",
      "|  e|  f|      follow|\n",
      "|  c|  b|      follow|\n",
      "+---+---+------------+\n",
      "\n"
     ]
    }
   ],
   "source": [
    "s.edges.show()"
   ]
  },
  {
   "cell_type": "markdown",
   "metadata": {},
   "source": [
    "## Algorithms"
   ]
  },
  {
   "cell_type": "markdown",
   "metadata": {},
   "source": [
    "### Breadth-first search"
   ]
  },
  {
   "cell_type": "code",
   "execution_count": 14,
   "metadata": {},
   "outputs": [
    {
     "name": "stdout",
     "output_type": "stream",
     "text": [
      "+--------------------+--------------+--------------------+\n",
      "|                from|            e0|                  to|\n",
      "+--------------------+--------------+--------------------+\n",
      "|[e, Esther, 32, p...|[e, d, friend]|[d, David, 29, pe...|\n",
      "+--------------------+--------------+--------------------+\n",
      "\n"
     ]
    }
   ],
   "source": [
    "g.bfs(\"name = 'Esther'\", \"age < 32\").show()"
   ]
  },
  {
   "cell_type": "code",
   "execution_count": 15,
   "metadata": {},
   "outputs": [
    {
     "name": "stdout",
     "output_type": "stream",
     "text": [
      "+--------------------+--------------+--------------------+--------------+--------------------+\n",
      "|                from|            e0|                  v1|            e1|                  to|\n",
      "+--------------------+--------------+--------------------+--------------+--------------------+\n",
      "|[e, Esther, 32, p...|[e, f, follow]|[f, Fanny, 36, pe...|[f, c, follow]|[c, Charlie, 30, ...|\n",
      "+--------------------+--------------+--------------------+--------------+--------------------+\n",
      "\n"
     ]
    }
   ],
   "source": [
    "g.bfs(\"name = 'Esther'\", \"age < 32\", edgeFilter=\"relationship != 'friend'\", maxPathLength=3).show()"
   ]
  },
  {
   "cell_type": "markdown",
   "metadata": {},
   "source": [
    "### Connected components"
   ]
  },
  {
   "cell_type": "code",
   "execution_count": 16,
   "metadata": {},
   "outputs": [
    {
     "name": "stdout",
     "output_type": "stream",
     "text": [
      "+---+------------+\n",
      "| id|   component|\n",
      "+---+------------+\n",
      "|  g|146028888064|\n",
      "|  a|412316860416|\n",
      "|  b|412316860416|\n",
      "|  c|412316860416|\n",
      "|  d|412316860416|\n",
      "|  f|412316860416|\n",
      "|  e|412316860416|\n",
      "+---+------------+\n",
      "\n"
     ]
    }
   ],
   "source": [
    "sc.setCheckpointDir('/tmp')\n",
    "g.connectedComponents().select(\"id\", \"component\").orderBy(\"component\").show()"
   ]
  },
  {
   "cell_type": "markdown",
   "metadata": {},
   "source": [
    "### Strongly connected components"
   ]
  },
  {
   "cell_type": "code",
   "execution_count": 17,
   "metadata": {},
   "outputs": [
    {
     "name": "stdout",
     "output_type": "stream",
     "text": [
      "+---+-------------+\n",
      "| id|    component|\n",
      "+---+-------------+\n",
      "|  g| 146028888064|\n",
      "|  f| 412316860416|\n",
      "|  d| 670014898176|\n",
      "|  a| 670014898176|\n",
      "|  e| 670014898176|\n",
      "|  b|1047972020224|\n",
      "|  c|1047972020224|\n",
      "+---+-------------+\n",
      "\n"
     ]
    }
   ],
   "source": [
    "g.stronglyConnectedComponents(maxIter=10).select(\"id\", \"component\").orderBy(\"component\").show()"
   ]
  },
  {
   "cell_type": "markdown",
   "metadata": {},
   "source": [
    "### Label propagation algorithm "
   ]
  },
  {
   "cell_type": "code",
   "execution_count": 18,
   "metadata": {},
   "outputs": [
    {
     "name": "stdout",
     "output_type": "stream",
     "text": [
      "+---+-------------+\n",
      "| id|        label|\n",
      "+---+-------------+\n",
      "|  g| 146028888064|\n",
      "|  e| 412316860416|\n",
      "|  a| 670014898176|\n",
      "|  d| 670014898176|\n",
      "|  f| 670014898176|\n",
      "|  b|1047972020224|\n",
      "|  c|1382979469312|\n",
      "+---+-------------+\n",
      "\n"
     ]
    }
   ],
   "source": [
    "g.labelPropagation(maxIter=5).select(\"id\", \"label\").orderBy(\"label\").show()"
   ]
  },
  {
   "cell_type": "markdown",
   "metadata": {},
   "source": [
    "### PageRank"
   ]
  },
  {
   "cell_type": "code",
   "execution_count": 19,
   "metadata": {},
   "outputs": [],
   "source": [
    "r = g.pageRank(resetProbability=0.15, tol=0.01)"
   ]
  },
  {
   "cell_type": "code",
   "execution_count": 20,
   "metadata": {},
   "outputs": [
    {
     "name": "stdout",
     "output_type": "stream",
     "text": [
      "+---+-------+---+------+-------------------+\n",
      "| id|   name|age|entity|           pagerank|\n",
      "+---+-------+---+------+-------------------+\n",
      "|  g|  Gabby| 60|person| 0.1799821386239711|\n",
      "|  b|    Bob| 36|person|  2.655507832863289|\n",
      "|  e| Esther| 32|person|0.37085233187676075|\n",
      "|  a|  Alice| 34|person|0.44910633706538744|\n",
      "|  f|  Fanny| 36|person| 0.3283606792049851|\n",
      "|  d|  David| 29|person| 0.3283606792049851|\n",
      "|  c|Charlie| 30|person| 2.6878300011606218|\n",
      "+---+-------+---+------+-------------------+\n",
      "\n"
     ]
    }
   ],
   "source": [
    "r.vertices.show()"
   ]
  },
  {
   "cell_type": "code",
   "execution_count": 21,
   "metadata": {},
   "outputs": [
    {
     "name": "stdout",
     "output_type": "stream",
     "text": [
      "+---+---+------------+------+\n",
      "|src|dst|relationship|weight|\n",
      "+---+---+------------+------+\n",
      "|  a|  b|      friend|   0.5|\n",
      "|  b|  c|      follow|   1.0|\n",
      "|  e|  f|      follow|   0.5|\n",
      "|  e|  d|      friend|   0.5|\n",
      "|  c|  b|      follow|   1.0|\n",
      "|  a|  e|      friend|   0.5|\n",
      "|  f|  c|      follow|   1.0|\n",
      "|  d|  a|      friend|   1.0|\n",
      "+---+---+------------+------+\n",
      "\n"
     ]
    }
   ],
   "source": [
    "r.edges.show()"
   ]
  },
  {
   "cell_type": "markdown",
   "metadata": {},
   "source": [
    "### Shortest path"
   ]
  },
  {
   "cell_type": "code",
   "execution_count": 22,
   "metadata": {},
   "outputs": [
    {
     "name": "stdout",
     "output_type": "stream",
     "text": [
      "+---+-------+---+------+----------------+\n",
      "| id|   name|age|entity|       distances|\n",
      "+---+-------+---+------+----------------+\n",
      "|  g|  Gabby| 60|person|              []|\n",
      "|  b|    Bob| 36|person|              []|\n",
      "|  e| Esther| 32|person|[d -> 1, a -> 2]|\n",
      "|  a|  Alice| 34|person|[a -> 0, d -> 2]|\n",
      "|  f|  Fanny| 36|person|              []|\n",
      "|  d|  David| 29|person|[d -> 0, a -> 1]|\n",
      "|  c|Charlie| 30|person|              []|\n",
      "+---+-------+---+------+----------------+\n",
      "\n"
     ]
    }
   ],
   "source": [
    "g.shortestPaths(landmarks=[\"a\", \"d\"]).show()"
   ]
  },
  {
   "cell_type": "markdown",
   "metadata": {},
   "source": [
    "### Triangle count"
   ]
  },
  {
   "cell_type": "code",
   "execution_count": 23,
   "metadata": {},
   "outputs": [
    {
     "name": "stdout",
     "output_type": "stream",
     "text": [
      "+-----+---+-------+---+------+\n",
      "|count| id|   name|age|entity|\n",
      "+-----+---+-------+---+------+\n",
      "|    0|  g|  Gabby| 60|person|\n",
      "|    0|  f|  Fanny| 36|person|\n",
      "|    1|  e| Esther| 32|person|\n",
      "|    1|  d|  David| 29|person|\n",
      "|    0|  c|Charlie| 30|person|\n",
      "|    0|  b|    Bob| 36|person|\n",
      "|    1|  a|  Alice| 34|person|\n",
      "+-----+---+-------+---+------+\n",
      "\n"
     ]
    }
   ],
   "source": [
    "g.triangleCount().show()"
   ]
  },
  {
   "cell_type": "markdown",
   "metadata": {},
   "source": [
    "## Input/Output (IO)"
   ]
  },
  {
   "cell_type": "markdown",
   "metadata": {},
   "source": [
    "### Writing"
   ]
  },
  {
   "cell_type": "code",
   "execution_count": 24,
   "metadata": {},
   "outputs": [],
   "source": [
    "g.vertices.write\\\n",
    "    .format('parquet')\\\n",
    "    .mode('overwrite')\\\n",
    "    .save('/user/root/graph.vertices')\n",
    "\n",
    "g.edges.write\\\n",
    "    .format('parquet')\\\n",
    "    .mode('overwrite')\\\n",
    "    .save('/user/root/graph.edges')"
   ]
  },
  {
   "cell_type": "markdown",
   "metadata": {},
   "source": [
    "### Reading"
   ]
  },
  {
   "cell_type": "code",
   "execution_count": 25,
   "metadata": {},
   "outputs": [],
   "source": [
    "gg = GraphFrame(\n",
    "    spark.read.parquet('/user/root/graph.vertices'),\n",
    "    spark.read.parquet('/user/root/graph.edges'))"
   ]
  },
  {
   "cell_type": "code",
   "execution_count": 26,
   "metadata": {},
   "outputs": [
    {
     "name": "stdout",
     "output_type": "stream",
     "text": [
      "+---+-------+---+------+\n",
      "| id|   name|age|entity|\n",
      "+---+-------+---+------+\n",
      "|  d|  David| 29|person|\n",
      "|  e| Esther| 32|person|\n",
      "|  f|  Fanny| 36|person|\n",
      "|  g|  Gabby| 60|person|\n",
      "|  a|  Alice| 34|person|\n",
      "|  b|    Bob| 36|person|\n",
      "|  c|Charlie| 30|person|\n",
      "+---+-------+---+------+\n",
      "\n"
     ]
    }
   ],
   "source": [
    "gg.vertices.show()"
   ]
  },
  {
   "cell_type": "code",
   "execution_count": 27,
   "metadata": {},
   "outputs": [
    {
     "name": "stdout",
     "output_type": "stream",
     "text": [
      "+---+---+------------+\n",
      "|src|dst|relationship|\n",
      "+---+---+------------+\n",
      "|  a|  b|      friend|\n",
      "|  b|  c|      follow|\n",
      "|  c|  b|      follow|\n",
      "|  f|  c|      follow|\n",
      "|  e|  f|      follow|\n",
      "|  e|  d|      friend|\n",
      "|  d|  a|      friend|\n",
      "|  a|  e|      friend|\n",
      "+---+---+------------+\n",
      "\n"
     ]
    }
   ],
   "source": [
    "gg.edges.show()"
   ]
  },
  {
   "cell_type": "markdown",
   "metadata": {},
   "source": [
    "## Message passing"
   ]
  },
  {
   "cell_type": "code",
   "execution_count": 28,
   "metadata": {},
   "outputs": [
    {
     "name": "stdout",
     "output_type": "stream",
     "text": [
      "+---+----------+\n",
      "| id|summedAges|\n",
      "+---+----------+\n",
      "|  f|        62|\n",
      "|  e|        99|\n",
      "|  d|        66|\n",
      "|  c|       108|\n",
      "|  b|        94|\n",
      "|  a|        97|\n",
      "+---+----------+\n",
      "\n"
     ]
    }
   ],
   "source": [
    "from pyspark.sql.functions import sum as sqlsum\n",
    "from graphframes.lib import AggregateMessages as AM\n",
    "\n",
    "msgToSrc = AM.dst[\"age\"]\n",
    "msgToDst = AM.src[\"age\"]\n",
    "agg = g.aggregateMessages(\n",
    "    sqlsum(AM.msg).alias(\"summedAges\"),\n",
    "    sendToSrc=msgToSrc,\n",
    "    sendToDst=msgToDst)\n",
    "agg.show()"
   ]
  }
 ],
 "metadata": {
  "kernelspec": {
   "display_name": "Python 3",
   "language": "python",
   "name": "python3"
  },
  "language_info": {
   "codemirror_mode": {
    "name": "ipython",
    "version": 3
   },
   "file_extension": ".py",
   "mimetype": "text/x-python",
   "name": "python",
   "nbconvert_exporter": "python",
   "pygments_lexer": "ipython3",
   "version": "3.7.4"
  }
 },
 "nbformat": 4,
 "nbformat_minor": 4
}
