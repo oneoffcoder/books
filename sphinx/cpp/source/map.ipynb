{
 "cells": [
  {
   "cell_type": "markdown",
   "metadata": {},
   "source": [
    "# Map\n",
    "\n",
    "Maps are data structures that associates keys with values. In general, a lot of data today is stored inside map-like structures (e.g. `JSON`)."
   ]
  },
  {
   "cell_type": "markdown",
   "metadata": {},
   "source": [
    "## Creating a map, easy way\n",
    "\n",
    "Use `std::make_pair` to insert `key-value` pairs."
   ]
  },
  {
   "cell_type": "code",
   "execution_count": 1,
   "metadata": {},
   "outputs": [],
   "source": [
    "#include <map>\n",
    "#include <utility>\n",
    "#include <string>\n",
    "\n",
    "std::map<std::string, double> m;\n",
    "m.insert(std::make_pair(\"a\", 1.0));\n",
    "m.insert(std::make_pair(\"b\", 2.0));\n",
    "m.insert(std::make_pair(\"c\", 3.0));\n",
    "m.insert(std::make_pair(\"d\", 4.0));"
   ]
  },
  {
   "cell_type": "markdown",
   "metadata": {},
   "source": [
    "## Creating a map, hard way\n",
    "\n",
    "The `verbose` (hard) way of inserting elements uses `std::pair`. "
   ]
  },
  {
   "cell_type": "code",
   "execution_count": 2,
   "metadata": {},
   "outputs": [],
   "source": [
    "std::map<std::string, double> n;\n",
    "n.insert(std::pair<std::string, double>(\"a\", 1.0));\n",
    "n.insert(std::pair<std::string, double>(\"b\", 2.0));\n",
    "n.insert(std::pair<std::string, double>(\"c\", 3.0));\n",
    "n.insert(std::pair<std::string, double>(\"d\", 4.0));"
   ]
  },
  {
   "cell_type": "markdown",
   "metadata": {},
   "source": [
    "## Inline create a map"
   ]
  },
  {
   "cell_type": "code",
   "execution_count": 3,
   "metadata": {},
   "outputs": [],
   "source": [
    "std::map<std::string, double> o = {\n",
    "    {\"a\", 1.0},\n",
    "    {\"b\", 2.0},\n",
    "    {\"c\", 3.0},\n",
    "    {\"d\", 4.0}\n",
    "};"
   ]
  },
  {
   "cell_type": "markdown",
   "metadata": {},
   "source": [
    "## Accessing a value\n",
    "\n",
    "Access a `value` by `key` using the `at` function."
   ]
  },
  {
   "cell_type": "code",
   "execution_count": 4,
   "metadata": {},
   "outputs": [
    {
     "name": "stdout",
     "output_type": "stream",
     "text": [
      "a = 1\n",
      "b = 2\n",
      "c = 3\n",
      "d = 4\n"
     ]
    }
   ],
   "source": [
    "#include <iostream>\n",
    "\n",
    "std::cout << \"a = \" << m.at(\"a\") << std::endl;\n",
    "std::cout << \"b = \" << m.at(\"b\") << std::endl;\n",
    "std::cout << \"c = \" << m.at(\"c\") << std::endl;\n",
    "std::cout << \"d = \" << m.at(\"d\") << std::endl;"
   ]
  },
  {
   "cell_type": "markdown",
   "metadata": {},
   "source": [
    "You may also use bracket `[]` notation to access values by keys."
   ]
  },
  {
   "cell_type": "code",
   "execution_count": 5,
   "metadata": {},
   "outputs": [
    {
     "name": "stdout",
     "output_type": "stream",
     "text": [
      "a = 1\n",
      "b = 2\n",
      "c = 3\n",
      "d = 4\n"
     ]
    }
   ],
   "source": [
    "std::cout << \"a = \" << m[\"a\"] << std::endl;\n",
    "std::cout << \"b = \" << m[\"b\"] << std::endl;\n",
    "std::cout << \"c = \" << m[\"c\"] << std::endl;\n",
    "std::cout << \"d = \" << m[\"d\"] << std::endl;"
   ]
  },
  {
   "cell_type": "markdown",
   "metadata": {},
   "source": [
    "## Iteration"
   ]
  },
  {
   "cell_type": "markdown",
   "metadata": {},
   "source": [
    "### Using for range-based loop"
   ]
  },
  {
   "cell_type": "code",
   "execution_count": 6,
   "metadata": {},
   "outputs": [
    {
     "name": "stdout",
     "output_type": "stream",
     "text": [
      "a = 1\n",
      "b = 2\n",
      "c = 3\n",
      "d = 4\n"
     ]
    }
   ],
   "source": [
    "for (auto &p : m) {\n",
    "    std::cout << p.first << \" = \" << p.second << std::endl;\n",
    "}"
   ]
  },
  {
   "cell_type": "markdown",
   "metadata": {},
   "source": [
    "### Using for range-based loop with pair unpacking"
   ]
  },
  {
   "cell_type": "code",
   "execution_count": 7,
   "metadata": {},
   "outputs": [
    {
     "name": "stdout",
     "output_type": "stream",
     "text": [
      "a = 1\n",
      "b = 2\n",
      "c = 3\n",
      "d = 4\n"
     ]
    }
   ],
   "source": [
    "for (auto const&[key, val] : m) {\n",
    "    std::cout << key << \" = \" << val << std::endl;\n",
    "}"
   ]
  },
  {
   "cell_type": "markdown",
   "metadata": {},
   "source": [
    "### Using std::for_each and lambda function"
   ]
  },
  {
   "cell_type": "code",
   "execution_count": 8,
   "metadata": {},
   "outputs": [
    {
     "name": "stdout",
     "output_type": "stream",
     "text": [
      "a = 1\n",
      "b = 2\n",
      "c = 3\n",
      "d = 4\n"
     ]
    }
   ],
   "source": [
    "std::for_each(m.begin(), m.end(),\n",
    "             [](auto p) {\n",
    "                 std::cout << p.first << \" = \" << p.second << std::endl;\n",
    "             });"
   ]
  },
  {
   "cell_type": "markdown",
   "metadata": {},
   "source": [
    "## Check if a key exists\n",
    "\n",
    "Use the `count` method."
   ]
  },
  {
   "cell_type": "code",
   "execution_count": 9,
   "metadata": {},
   "outputs": [
    {
     "name": "stdout",
     "output_type": "stream",
     "text": [
      "a exists? 1\n",
      "e exists? 0\n"
     ]
    }
   ],
   "source": [
    "std::cout << \"a exists? \" << m.count(\"a\") << std::endl;\n",
    "std::cout << \"e exists? \" << m.count(\"e\") << std::endl;"
   ]
  },
  {
   "cell_type": "markdown",
   "metadata": {},
   "source": [
    "## Erase a key-value pair\n",
    "\n",
    "Use the `erase` function to remove a key-value pair."
   ]
  },
  {
   "cell_type": "code",
   "execution_count": 10,
   "metadata": {},
   "outputs": [
    {
     "name": "stdout",
     "output_type": "stream",
     "text": [
      "b = 2\n",
      "c = 3\n",
      "d = 4\n"
     ]
    }
   ],
   "source": [
    "m.erase(\"a\");\n",
    "\n",
    "for (auto &p : m) {\n",
    "    std::cout << p.first << \" = \" << p.second << std::endl;\n",
    "}"
   ]
  },
  {
   "cell_type": "code",
   "execution_count": null,
   "metadata": {},
   "outputs": [],
   "source": []
  }
 ],
 "metadata": {
  "kernelspec": {
   "display_name": "C++17",
   "language": "C++17",
   "name": "xcpp17"
  },
  "language_info": {
   "codemirror_mode": "text/x-c++src",
   "file_extension": ".cpp",
   "mimetype": "text/x-c++src",
   "name": "c++",
   "version": "17"
  }
 },
 "nbformat": 4,
 "nbformat_minor": 4
}
