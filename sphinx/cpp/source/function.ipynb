{
 "cells": [
  {
   "cell_type": "markdown",
   "metadata": {},
   "source": [
    "# Function"
   ]
  },
  {
   "cell_type": "markdown",
   "metadata": {},
   "source": [
    "## Basic"
   ]
  },
  {
   "cell_type": "code",
   "execution_count": 1,
   "metadata": {},
   "outputs": [],
   "source": [
    "template<class T, class U>\n",
    "auto add(T t, U u) { return t + u; }"
   ]
  },
  {
   "cell_type": "code",
   "execution_count": 2,
   "metadata": {},
   "outputs": [
    {
     "name": "stdout",
     "output_type": "stream",
     "text": [
      "x1 = 2.2\n"
     ]
    }
   ],
   "source": [
    "#include <iostream>\n",
    "\n",
    "auto x1 = add(1, 1.2);\n",
    "\n",
    "std::cout << \"x1 = \" << x1 << std::endl;"
   ]
  },
  {
   "cell_type": "markdown",
   "metadata": {},
   "source": [
    "## Cross-product\n",
    "\n",
    "Taken from [Rosetta Code](https://rosettacode.org/wiki/Cartesian_product_of_two_or_more_lists#C.2B.2B)."
   ]
  },
  {
   "cell_type": "code",
   "execution_count": 3,
   "metadata": {},
   "outputs": [],
   "source": [
    "void print(const std::vector<std::vector<int>>& v) {\n",
    "    for (const auto &p : v) {\n",
    "        int counter = 0;\n",
    "        int n = p.size();\n",
    "        std::cout << \"(\";\n",
    "        for (const auto &e : p) {\n",
    "            std::cout << e;\n",
    "            if (counter < n - 1) {\n",
    "                std::cout << \", \";\n",
    "            }\n",
    "            counter++;\n",
    "        }\n",
    "        std::cout << \")\" << std::endl;\n",
    "    }\n",
    "}"
   ]
  },
  {
   "cell_type": "code",
   "execution_count": 4,
   "metadata": {},
   "outputs": [],
   "source": [
    "auto product(const std::vector<std::vector<int>>& lists) {\n",
    "    std::vector<std::vector<int>> result;\n",
    "    \n",
    "    auto it = std::find_if(std::begin(lists), std::end(lists), [](auto e) { \n",
    "        return e.size() == 0; \n",
    "    });\n",
    "    if (it != std::end(lists)) {\n",
    "        return result;\n",
    "    }\n",
    "    \n",
    "    for (auto &e : lists[0]) {\n",
    "        result.push_back({e});\n",
    "    }\n",
    "    \n",
    "    for (size_t i = 1; i < lists.size(); ++i) {\n",
    "        std::vector<std::vector<int>> temp;\n",
    "        for (auto &e : result) {\n",
    "            for (auto f : lists[i]) {\n",
    "                auto e_tmp = e;\n",
    "                e_tmp.push_back(f);\n",
    "                temp.push_back(e_tmp);\n",
    "            }\n",
    "        }\n",
    "        result = temp;\n",
    "    }\n",
    "    return result;\n",
    "}"
   ]
  },
  {
   "cell_type": "code",
   "execution_count": 5,
   "metadata": {},
   "outputs": [],
   "source": [
    "std::vector<std::vector<int>> x2 = { \n",
    "    { 0, 1 }, \n",
    "    { 0, 1 }, \n",
    "    { 0, 1, 2 }\n",
    "};"
   ]
  },
  {
   "cell_type": "code",
   "execution_count": 6,
   "metadata": {},
   "outputs": [
    {
     "name": "stdout",
     "output_type": "stream",
     "text": [
      "(0, 0, 0)\n",
      "(0, 0, 1)\n",
      "(0, 0, 2)\n",
      "(0, 1, 0)\n",
      "(0, 1, 1)\n",
      "(0, 1, 2)\n",
      "(1, 0, 0)\n",
      "(1, 0, 1)\n",
      "(1, 0, 2)\n",
      "(1, 1, 0)\n",
      "(1, 1, 1)\n",
      "(1, 1, 2)\n"
     ]
    }
   ],
   "source": [
    "auto x3 = product(x2);\n",
    "print(x3);"
   ]
  },
  {
   "cell_type": "markdown",
   "metadata": {},
   "source": [
    "## Cross-product, generic"
   ]
  },
  {
   "cell_type": "code",
   "execution_count": 7,
   "metadata": {},
   "outputs": [],
   "source": [
    "template<class T>\n",
    "void gprint(const std::vector<std::vector<T>>& v) {\n",
    "    for (const auto &p : v) {\n",
    "        int counter = 0;\n",
    "        int n = p.size();\n",
    "        std::cout << \"(\";\n",
    "        for (const auto &e : p) {\n",
    "            std::cout << e;\n",
    "            if (counter < n - 1) {\n",
    "                std::cout << \", \";\n",
    "            }\n",
    "            counter++;\n",
    "        }\n",
    "        std::cout << \")\" << std::endl;\n",
    "    }\n",
    "}"
   ]
  },
  {
   "cell_type": "code",
   "execution_count": 8,
   "metadata": {},
   "outputs": [],
   "source": [
    "template<class T>\n",
    "auto gproduct(const std::vector<std::vector<T>>& lists) {\n",
    "    std::vector<std::vector<T>> result;\n",
    "    \n",
    "    auto it = std::find_if(std::begin(lists), std::end(lists), [](auto e) { \n",
    "        return e.size() == 0; \n",
    "    });\n",
    "    if (it != std::end(lists)) {\n",
    "        return result;\n",
    "    }\n",
    "    \n",
    "    for (auto &e : lists[0]) {\n",
    "        result.push_back({e});\n",
    "    }\n",
    "    \n",
    "    for (size_t i = 1; i < lists.size(); ++i) {\n",
    "        std::vector<std::vector<T>> temp;\n",
    "        for (auto &e : result) {\n",
    "            for (auto f : lists[i]) {\n",
    "                auto e_tmp = e;\n",
    "                e_tmp.push_back(f);\n",
    "                temp.push_back(e_tmp);\n",
    "            }\n",
    "        }\n",
    "        result = temp;\n",
    "    }\n",
    "    return result;\n",
    "}"
   ]
  },
  {
   "cell_type": "code",
   "execution_count": 9,
   "metadata": {},
   "outputs": [
    {
     "name": "stdout",
     "output_type": "stream",
     "text": [
      "(0, 0, 0)\n",
      "(0, 0, 1)\n",
      "(0, 0, 2)\n",
      "(0, 1, 0)\n",
      "(0, 1, 1)\n",
      "(0, 1, 2)\n",
      "(1, 0, 0)\n",
      "(1, 0, 1)\n",
      "(1, 0, 2)\n",
      "(1, 1, 0)\n",
      "(1, 1, 1)\n",
      "(1, 1, 2)\n"
     ]
    }
   ],
   "source": [
    "auto x4 = gproduct(x2);\n",
    "gprint(x4);"
   ]
  },
  {
   "cell_type": "code",
   "execution_count": 10,
   "metadata": {},
   "outputs": [
    {
     "name": "stdout",
     "output_type": "stream",
     "text": [
      "(false, false, low)\n",
      "(false, false, medium)\n",
      "(false, false, high)\n",
      "(false, true, low)\n",
      "(false, true, medium)\n",
      "(false, true, high)\n",
      "(true, false, low)\n",
      "(true, false, medium)\n",
      "(true, false, high)\n",
      "(true, true, low)\n",
      "(true, true, medium)\n",
      "(true, true, high)\n"
     ]
    }
   ],
   "source": [
    "#include <string>\n",
    "\n",
    "std::vector<std::vector<std::string>> x5 = { \n",
    "    { \"false\", \"true\" }, \n",
    "    { \"false\", \"true\" }, \n",
    "    { \"low\", \"medium\", \"high\" }\n",
    "};\n",
    "\n",
    "auto x6 = gproduct(x5);\n",
    "gprint(x6);"
   ]
  },
  {
   "cell_type": "code",
   "execution_count": 11,
   "metadata": {},
   "outputs": [
    {
     "name": "stdout",
     "output_type": "stream",
     "text": [
      "(false, false)\n",
      "(false, true)\n",
      "(true, false)\n",
      "(true, true)\n"
     ]
    }
   ],
   "source": [
    "std::vector<std::vector<std::string>> x7 = { \n",
    "    { \"false\", \"true\" }, \n",
    "    { \"false\", \"true\" }\n",
    "};\n",
    "\n",
    "auto x8 = gproduct(x7);\n",
    "gprint(x8);"
   ]
  },
  {
   "cell_type": "code",
   "execution_count": 12,
   "metadata": {},
   "outputs": [
    {
     "name": "stdout",
     "output_type": "stream",
     "text": [
      "(false)\n",
      "(true)\n"
     ]
    }
   ],
   "source": [
    "std::vector<std::vector<std::string>> x9 = { \n",
    "    { \"false\", \"true\" }\n",
    "};\n",
    "\n",
    "auto x10 = gproduct(x9);\n",
    "gprint(x10);"
   ]
  },
  {
   "cell_type": "markdown",
   "metadata": {},
   "source": [
    "## Group elements in a list into sub-lists"
   ]
  },
  {
   "cell_type": "code",
   "execution_count": 13,
   "metadata": {},
   "outputs": [],
   "source": [
    "template<class T>\n",
    "auto groupList(const int n, const std::vector<T> &list) {\n",
    "    int nLists = list.size() % n == 0 ? list.size() / n : list.size() / n + 1;\n",
    "    \n",
    "    std::vector<std::vector<T>> subLists;\n",
    "    subLists.reserve(nLists);\n",
    "    \n",
    "    std::vector<T> subList;\n",
    "    subList.reserve(n);\n",
    "    \n",
    "    const int listSize = list.size();\n",
    "    for (int i = 0; i < listSize; i++) {\n",
    "        if (i != 0 && i % n == 0) {\n",
    "            std::vector<T> temp(subList);\n",
    "            subLists.push_back(temp);\n",
    "            subList.clear();\n",
    "        }\n",
    "        subList.push_back(list.at(i));\n",
    "    }\n",
    "\n",
    "    subLists.push_back(subList);\n",
    "    \n",
    "    return subLists;\n",
    "}"
   ]
  },
  {
   "cell_type": "markdown",
   "metadata": {},
   "source": [
    "Group vector of 6 elements into groups of 2."
   ]
  },
  {
   "cell_type": "code",
   "execution_count": 14,
   "metadata": {},
   "outputs": [
    {
     "name": "stdout",
     "output_type": "stream",
     "text": [
      "(1, 2)\n",
      "(3, 4)\n",
      "(5, 6)\n"
     ]
    }
   ],
   "source": [
    "std::vector<int> numList1 = {1, 2, 3, 4, 5, 6};\n",
    "gprint(groupList(2, numList1));"
   ]
  },
  {
   "cell_type": "markdown",
   "metadata": {},
   "source": [
    "Group vector of 6 elements into groups of 3."
   ]
  },
  {
   "cell_type": "code",
   "execution_count": 15,
   "metadata": {},
   "outputs": [
    {
     "name": "stdout",
     "output_type": "stream",
     "text": [
      "(1, 2, 3)\n",
      "(4, 5, 6)\n"
     ]
    }
   ],
   "source": [
    "gprint(groupList(3, numList1));"
   ]
  },
  {
   "cell_type": "markdown",
   "metadata": {},
   "source": [
    "Group vector of 7 elements into groups of 2."
   ]
  },
  {
   "cell_type": "code",
   "execution_count": 16,
   "metadata": {},
   "outputs": [
    {
     "name": "stdout",
     "output_type": "stream",
     "text": [
      "(1, 2)\n",
      "(3, 4)\n",
      "(5, 6)\n",
      "(7)\n"
     ]
    }
   ],
   "source": [
    "std::vector<int> numList2 = {1, 2, 3, 4, 5, 6, 7};\n",
    "gprint(groupList(2, numList2));"
   ]
  },
  {
   "cell_type": "markdown",
   "metadata": {},
   "source": [
    "Group vector of 7 elements into groups of 3."
   ]
  },
  {
   "cell_type": "code",
   "execution_count": 17,
   "metadata": {},
   "outputs": [
    {
     "name": "stdout",
     "output_type": "stream",
     "text": [
      "(1, 2, 3)\n",
      "(4, 5, 6)\n",
      "(7)\n"
     ]
    }
   ],
   "source": [
    "gprint(groupList(3, numList2));"
   ]
  },
  {
   "cell_type": "code",
   "execution_count": 18,
   "metadata": {},
   "outputs": [
    {
     "name": "stdout",
     "output_type": "stream",
     "text": [
      "(John, Jack)\n",
      "(Joe, Jerry)\n",
      "(James, Jeff)\n",
      "(Jacobi)\n"
     ]
    }
   ],
   "source": [
    "std::vector<std::string> sList1 = {\"John\", \"Jack\", \"Joe\", \"Jerry\", \"James\", \"Jeff\", \"Jacobi\"};\n",
    "gprint(groupList(2, sList1));"
   ]
  },
  {
   "cell_type": "code",
   "execution_count": 19,
   "metadata": {},
   "outputs": [
    {
     "name": "stdout",
     "output_type": "stream",
     "text": [
      "(John, Jack, Joe)\n",
      "(Jerry, James, Jeff)\n",
      "(Jacobi)\n"
     ]
    }
   ],
   "source": [
    "gprint(groupList(3, sList1));"
   ]
  },
  {
   "cell_type": "code",
   "execution_count": null,
   "metadata": {},
   "outputs": [],
   "source": []
  }
 ],
 "metadata": {
  "kernelspec": {
   "display_name": "C++17",
   "language": "C++17",
   "name": "xcpp17"
  },
  "language_info": {
   "codemirror_mode": "text/x-c++src",
   "file_extension": ".cpp",
   "mimetype": "text/x-c++src",
   "name": "c++",
   "version": "17"
  }
 },
 "nbformat": 4,
 "nbformat_minor": 4
}
