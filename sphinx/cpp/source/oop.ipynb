{
 "cells": [
  {
   "cell_type": "markdown",
   "metadata": {},
   "source": [
    "# Object-Oriented Programming"
   ]
  },
  {
   "cell_type": "markdown",
   "metadata": {},
   "source": [
    "## Header and class definitions\n",
    "\n",
    "If we had to model a `person` with a `last name` and `first name` using object-oriented programming `OOP`, we would typically create a `header` file (`Person.h`) file as follows."
   ]
  },
  {
   "cell_type": "code",
   "execution_count": 1,
   "metadata": {},
   "outputs": [],
   "source": [
    "#include <string>\n",
    "\n",
    "class Person {\n",
    "    private:\n",
    "        std::string firstName;\n",
    "        std::string lastName;\n",
    "    public:\n",
    "        Person(std::string firstName, std::string lastName);\n",
    "        ~Person(void);\n",
    "}"
   ]
  },
  {
   "cell_type": "markdown",
   "metadata": {},
   "source": [
    "We would have a corresponding `implementation` file, `Person.cpp`, to implement the methods."
   ]
  },
  {
   "cell_type": "code",
   "execution_count": 2,
   "metadata": {},
   "outputs": [],
   "source": [
    "#include <iostream>\n",
    "\n",
    "Person::Person(std::string firstName, std::string lastName) : firstName(firstName), lastName(lastName) {\n",
    "    std::cout << firstName + \" \" + lastName + \" is being created\" << std::endl;\n",
    "}"
   ]
  },
  {
   "cell_type": "code",
   "execution_count": 3,
   "metadata": {},
   "outputs": [],
   "source": [
    "Person::~Person(void) { \n",
    "    std::cout << firstName + \" \" + lastName + \" is being destroyed\" << std::endl;\n",
    "}"
   ]
  },
  {
   "cell_type": "markdown",
   "metadata": {},
   "source": [
    "Then we may instantiate the object as follows."
   ]
  },
  {
   "cell_type": "code",
   "execution_count": 4,
   "metadata": {},
   "outputs": [
    {
     "name": "stdout",
     "output_type": "stream",
     "text": [
      "John Doe is being created\n",
      "John Doe is being destroyed\n"
     ]
    }
   ],
   "source": [
    "{\n",
    "    Person p{\"John\", \"Doe\"};\n",
    "}"
   ]
  }
 ],
 "metadata": {
  "kernelspec": {
   "display_name": "C++17",
   "language": "C++17",
   "name": "xcpp17"
  },
  "language_info": {
   "codemirror_mode": "text/x-c++src",
   "file_extension": ".cpp",
   "mimetype": "text/x-c++src",
   "name": "c++",
   "version": "17"
  }
 },
 "nbformat": 4,
 "nbformat_minor": 4
}
