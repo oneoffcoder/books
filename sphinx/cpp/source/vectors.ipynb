{
 "cells": [
  {
   "cell_type": "markdown",
   "metadata": {},
   "source": [
    "# Vectors"
   ]
  },
  {
   "cell_type": "markdown",
   "metadata": {},
   "source": [
    "## Inline declaration\n",
    "\n",
    "You may declare and instantiate a vector with its elements as follows."
   ]
  },
  {
   "cell_type": "code",
   "execution_count": 1,
   "metadata": {},
   "outputs": [],
   "source": [
    "std::vector<int> counts = {5, 10, 8}"
   ]
  },
  {
   "cell_type": "markdown",
   "metadata": {},
   "source": [
    "## Add items to a vector\n",
    "\n",
    "Use the ``reserve`` method on the vector to set the number of elements. While reserving space is not necessary, if you do know how many elements will be stored, you should reserve the space for efficiency. The `push_back` method will add elements to the vector."
   ]
  },
  {
   "cell_type": "code",
   "execution_count": 2,
   "metadata": {},
   "outputs": [
    {
     "name": "stdout",
     "output_type": "stream",
     "text": [
      "0\n",
      "1\n",
      "2\n",
      "3\n",
      "4\n"
     ]
    }
   ],
   "source": [
    "#include <iostream>\n",
    "\n",
    "const int n = 5;\n",
    "std::vector<int> ids{};\n",
    "ids.reserve(n);\n",
    "\n",
    "for (int i=0; i < n; i++) {\n",
    "    ids.push_back(i);\n",
    "}\n",
    "\n",
    "for (auto id : ids) {\n",
    "    std::cout << id << std::endl;\n",
    "}"
   ]
  },
  {
   "cell_type": "markdown",
   "metadata": {},
   "source": [
    "## Sorting\n",
    "\n",
    "Use the `sort` method from `algorithm`."
   ]
  },
  {
   "cell_type": "code",
   "execution_count": 3,
   "metadata": {},
   "outputs": [
    {
     "name": "stdout",
     "output_type": "stream",
     "text": [
      "unsorted\n",
      "5 4 3 2 1 0 \n",
      "\n",
      "sorted\n",
      "0 1 2 3 4 5 \n"
     ]
    }
   ],
   "source": [
    "#include <algorithm>\n",
    "\n",
    "std::vector<int> numbers{5, 4, 3, 2, 1, 0};\n",
    "\n",
    "std::cout << \"unsorted\" << std::endl;\n",
    "for (auto num : numbers) {\n",
    "    std::cout << num << \" \";\n",
    "}\n",
    "std::cout << std::endl << std::endl;\n",
    "\n",
    "\n",
    "std::sort(numbers.begin(), numbers.end());\n",
    "\n",
    "std::cout << \"sorted\" << std::endl;\n",
    "for (auto num : numbers) {\n",
    "    std::cout << num << \" \";\n",
    "}\n",
    "std::cout << std::endl;"
   ]
  },
  {
   "cell_type": "code",
   "execution_count": null,
   "metadata": {},
   "outputs": [],
   "source": []
  }
 ],
 "metadata": {
  "kernelspec": {
   "display_name": "C++17",
   "language": "C++17",
   "name": "xcpp17"
  },
  "language_info": {
   "codemirror_mode": "text/x-c++src",
   "file_extension": ".cpp",
   "mimetype": "text/x-c++src",
   "name": "c++",
   "version": "17"
  }
 },
 "nbformat": 4,
 "nbformat_minor": 4
}
