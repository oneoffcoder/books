{
 "cells": [
  {
   "cell_type": "markdown",
   "metadata": {},
   "source": [
    "# Miscellaneous"
   ]
  },
  {
   "cell_type": "markdown",
   "metadata": {},
   "source": [
    "## Bisection\n",
    "\n",
    "You might find yourself want to know the index of an element that nearly matches a query point. Below, we have a cumulative distribution of a discrete random variable. We want to know the index of the element that match closest to a query point. Let's say the random variable is shoe color and the corresponding indexes are as follows.\n",
    "\n",
    "* 0 : red\n",
    "* 1 : blue\n",
    "* 2 : white\n",
    "* 3 : black\n",
    "* 4 : green"
   ]
  },
  {
   "cell_type": "code",
   "execution_count": 1,
   "metadata": {},
   "outputs": [
    {
     "name": "stdout",
     "output_type": "stream",
     "text": [
      "d = 0, index = 0, color = red\n",
      "d = 0.1, index = 1, color = blue\n",
      "d = 0.2, index = 1, color = blue\n",
      "d = 0.3, index = 2, color = white\n",
      "d = 0.4, index = 2, color = white\n",
      "d = 0.5, index = 3, color = black\n",
      "d = 0.6, index = 3, color = black\n",
      "d = 0.7, index = 3, color = black\n",
      "d = 0.8, index = 3, color = black\n",
      "d = 0.9, index = 4, color = green\n",
      "d = 1, index = 4, color = green\n"
     ]
    }
   ],
   "source": [
    "#include <algorithm>\n",
    "#include <iostream>\n",
    "#include <vector>\n",
    "\n",
    "std::vector<std::string> c = {\"red\", \"blue\", \"white\", \"black\", \"green\"};\n",
    "std::vector<double> p = {0.1, 0.3, 0.5, 0.8, 1.0};\n",
    "\n",
    "for (double d = 0.0; d <= 1.0; d += 0.1) {\n",
    "    auto index = std::upper_bound(p.begin(), p.end(), d) - p.begin();\n",
    "    auto color = c[index];\n",
    "    std::cout << \"d = \" << d << \", index = \" << index << \", color = \" << color << std::endl;\n",
    "}\n"
   ]
  },
  {
   "cell_type": "markdown",
   "metadata": {},
   "source": [
    "## Cumulative sum\n",
    "\n",
    "If you have an array of numbers, you might want to find the cumulative sum. Here's how to do so. Note the `deep copy` of `q` into `s`."
   ]
  },
  {
   "cell_type": "code",
   "execution_count": 2,
   "metadata": {},
   "outputs": [
    {
     "name": "stdout",
     "output_type": "stream",
     "text": [
      "0.1\n",
      "0.3\n",
      "0.7\n",
      "0.9\n",
      "1\n"
     ]
    }
   ],
   "source": [
    "#include <numeric>\n",
    "\n",
    "std::vector<double> q = {0.1, 0.2, 0.4, 0.2, 0.1};\n",
    "std::vector<double> s(q);\n",
    "    \n",
    "std::partial_sum(s.begin(), s.end(), s.begin(), std::plus<double>());\n",
    "\n",
    "for (auto &c : s) {\n",
    "    std::cout << c << std::endl;\n",
    "}"
   ]
  },
  {
   "cell_type": "markdown",
   "metadata": {},
   "source": [
    "## Sorting"
   ]
  },
  {
   "cell_type": "markdown",
   "metadata": {},
   "source": [
    "### Sorting numbers\n",
    "\n",
    "Sort a vector of numbers using the `std::sort` method."
   ]
  },
  {
   "cell_type": "code",
   "execution_count": 3,
   "metadata": {},
   "outputs": [
    {
     "name": "stdout",
     "output_type": "stream",
     "text": [
      "0\n",
      "1\n",
      "2\n",
      "3\n",
      "4\n",
      "5\n"
     ]
    }
   ],
   "source": [
    "std::vector<int> numbers = {5, 4, 3, 1, 2, 0};\n",
    "std::sort(numbers.begin(), numbers.end());\n",
    "\n",
    "for (auto &n : numbers) {\n",
    "    std::cout << n << std::endl;\n",
    "}"
   ]
  },
  {
   "cell_type": "markdown",
   "metadata": {},
   "source": [
    "### Sorting objects\n",
    "\n",
    "Sort arbitrary objects supplying a `comparator`. Here, we use a lambda for the comparator."
   ]
  },
  {
   "cell_type": "code",
   "execution_count": 4,
   "metadata": {},
   "outputs": [
    {
     "name": "stdout",
     "output_type": "stream",
     "text": [
      "before sorting\n",
      "9 a\n",
      "7 b\n",
      "5 c\n",
      "3 d\n",
      "\n",
      "after sorting\n",
      "3 d\n",
      "5 c\n",
      "7 b\n",
      "9 a\n"
     ]
    }
   ],
   "source": [
    "class Node {\n",
    "    public:\n",
    "        int id;\n",
    "        std::string name;\n",
    "        Node(int id, std::string name) : id(id), name(name) { }\n",
    "};\n",
    "\n",
    "std::vector<Node> nodes = {\n",
    "    {9, \"a\"},\n",
    "    {7, \"b\"},\n",
    "    {5, \"c\"},\n",
    "    {3, \"d\"}\n",
    "};\n",
    "\n",
    "std::cout << \"before sorting\" << std::endl;\n",
    "for (auto &node : nodes) {\n",
    "    std::cout << node.id << \" \" << node.name << std::endl;\n",
    "}\n",
    "\n",
    "\n",
    "std::sort(nodes.begin(), nodes.end(), [](auto &lhs, auto &rhs) { \n",
    "    return lhs.id < rhs.id; \n",
    "});\n",
    "\n",
    "std::cout << std::endl;\n",
    "std::cout << \"after sorting\" << std::endl;\n",
    "for (auto &node : nodes) {\n",
    "    std::cout << node.id << \" \" << node.name << std::endl;\n",
    "}"
   ]
  },
  {
   "cell_type": "markdown",
   "metadata": {},
   "source": [
    "## Mapping values\n",
    "\n",
    "Use `std::transform` to map (transform) values to new ones."
   ]
  },
  {
   "cell_type": "code",
   "execution_count": 5,
   "metadata": {},
   "outputs": [
    {
     "name": "stdout",
     "output_type": "stream",
     "text": [
      "9\n",
      "7\n",
      "5\n",
      "3\n"
     ]
    }
   ],
   "source": [
    "std::vector<Node> N = {\n",
    "    {9, \"a\"},\n",
    "    {7, \"b\"},\n",
    "    {5, \"c\"},\n",
    "    {3, \"d\"}\n",
    "};\n",
    "std::vector<int> ids;\n",
    "ids.reserve(N.size());\n",
    "\n",
    "std::transform(N.begin(), N.end(), std::back_inserter(ids), [](auto &node) {\n",
    "    return node.id;\n",
    "});\n",
    "\n",
    "for (auto &id : ids) {\n",
    "    std::cout << id << std::endl;\n",
    "}"
   ]
  },
  {
   "cell_type": "markdown",
   "metadata": {},
   "source": [
    "## Uniform random number generator"
   ]
  },
  {
   "cell_type": "code",
   "execution_count": 6,
   "metadata": {},
   "outputs": [
    {
     "name": "stdout",
     "output_type": "stream",
     "text": [
      "0.976152\n",
      "0.319617\n",
      "0.718928\n",
      "0.91684\n",
      "0.360252\n",
      "0.00266639\n",
      "0.309701\n",
      "0.342533\n",
      "0.101299\n",
      "0.274188\n"
     ]
    }
   ],
   "source": [
    "#include <random>\n",
    "\n",
    "std::mt19937_64 rng;\n",
    "rng.seed(37);\n",
    "\n",
    "std::uniform_real_distribution<double> unif(0, 1);\n",
    "\n",
    "const int nSimulations = 10;\n",
    "for (int i = 0; i < nSimulations; i++) {\n",
    "    double n = unif(rng);\n",
    "    std::cout << n << std::endl;\n",
    "}"
   ]
  },
  {
   "cell_type": "code",
   "execution_count": null,
   "metadata": {},
   "outputs": [],
   "source": []
  }
 ],
 "metadata": {
  "kernelspec": {
   "display_name": "C++17",
   "language": "C++17",
   "name": "xcpp17"
  },
  "language_info": {
   "codemirror_mode": "text/x-c++src",
   "file_extension": ".cpp",
   "mimetype": "text/x-c++src",
   "name": "c++",
   "version": "17"
  }
 },
 "nbformat": 4,
 "nbformat_minor": 4
}
