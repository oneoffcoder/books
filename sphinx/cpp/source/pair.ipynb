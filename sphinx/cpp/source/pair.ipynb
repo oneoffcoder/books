{
 "cells": [
  {
   "cell_type": "markdown",
   "metadata": {},
   "source": [
    "# Pair\n",
    "\n",
    "Pairs are useful when you need a quick and dirty way to return a `2-tuple` or create a map."
   ]
  },
  {
   "cell_type": "code",
   "execution_count": 1,
   "metadata": {},
   "outputs": [
    {
     "name": "stdout",
     "output_type": "stream",
     "text": [
      "a, 1\n"
     ]
    }
   ],
   "source": [
    "#include <utility>\n",
    "#include <iostream>\n",
    "\n",
    "auto p = std::make_pair(\"a\", 1.0);\n",
    "\n",
    "std::cout << p.first << \", \" << p.second << std::endl;"
   ]
  },
  {
   "cell_type": "markdown",
   "metadata": {},
   "source": [
    "## Pairs and map"
   ]
  },
  {
   "cell_type": "code",
   "execution_count": 2,
   "metadata": {},
   "outputs": [
    {
     "name": "stdout",
     "output_type": "stream",
     "text": [
      "a : 1\n",
      "b : 2\n"
     ]
    }
   ],
   "source": [
    "#include <map>\n",
    "#include <string>\n",
    "\n",
    "std::map<std::string, double> m;\n",
    "m.insert(std::make_pair(\"a\", 1.0));\n",
    "m.insert(std::make_pair(\"b\", 2.0));\n",
    "\n",
    "std::cout << \"a : \" << m.at(\"a\") << std::endl;\n",
    "std::cout << \"b : \" << m.at(\"b\") << std::endl;"
   ]
  },
  {
   "cell_type": "code",
   "execution_count": null,
   "metadata": {},
   "outputs": [],
   "source": []
  }
 ],
 "metadata": {
  "kernelspec": {
   "display_name": "C++17",
   "language": "C++17",
   "name": "xcpp17"
  },
  "language_info": {
   "codemirror_mode": "text/x-c++src",
   "file_extension": ".cpp",
   "mimetype": "text/x-c++src",
   "name": "c++",
   "version": "17"
  }
 },
 "nbformat": 4,
 "nbformat_minor": 4
}
