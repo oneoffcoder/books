{
 "cells": [
  {
   "cell_type": "markdown",
   "metadata": {},
   "source": [
    "# Numbers"
   ]
  },
  {
   "cell_type": "markdown",
   "metadata": {},
   "source": [
    "## Integers"
   ]
  },
  {
   "cell_type": "code",
   "execution_count": 1,
   "metadata": {},
   "outputs": [
    {
     "name": "stdout",
     "output_type": "stream",
     "text": [
      "15 + 2 = 17\n",
      "15 - 2 = 13\n",
      "15 * 2 = 30\n",
      "15 / 2 = 7\n",
      "15 % 2 = 1\n"
     ]
    }
   ],
   "source": [
    "#include <string>\n",
    "#include <iostream>\n",
    "\n",
    "using namespace std;\n",
    "\n",
    "int a = 15;\n",
    "int b = 2;\n",
    "\n",
    "int c = a + b;\n",
    "int d = a - b;\n",
    "int e = a * b;\n",
    "int f = a / b;\n",
    "int g = a % b;\n",
    "\n",
    "cout << to_string(a) << \" + \" << to_string(b) << \" = \" << to_string(c) << endl;\n",
    "cout << to_string(a) << \" - \" << to_string(b) << \" = \" << to_string(d) << endl;\n",
    "cout << to_string(a) << \" * \" << to_string(b) << \" = \" << to_string(e) << endl;\n",
    "cout << to_string(a) << \" / \" << to_string(b) << \" = \" << to_string(f) << endl;\n",
    "cout << to_string(a) << \" % \" << to_string(b) << \" = \" << to_string(g) << endl;"
   ]
  },
  {
   "cell_type": "markdown",
   "metadata": {},
   "source": [
    "## Floats"
   ]
  },
  {
   "cell_type": "code",
   "execution_count": 2,
   "metadata": {},
   "outputs": [
    {
     "name": "stdout",
     "output_type": "stream",
     "text": [
      "15.000000 + 2.000000 = 17.000000\n",
      "15.000000 - 2.000000 = 13.000000\n",
      "15.000000 * 2.000000 = 30.000000\n",
      "15.000000 / 2.000000 = 7.500000\n"
     ]
    }
   ],
   "source": [
    "float h = 15;\n",
    "float i = 2;\n",
    "\n",
    "float j = h + i;\n",
    "float k = h - i;\n",
    "float l = h * i;\n",
    "float m = h / i;\n",
    "\n",
    "cout << to_string(h) << \" + \" << to_string(i) << \" = \" << to_string(j) << endl;\n",
    "cout << to_string(h) << \" - \" << to_string(i) << \" = \" << to_string(k) << endl;\n",
    "cout << to_string(h) << \" * \" << to_string(i) << \" = \" << to_string(l) << endl;\n",
    "cout << to_string(h) << \" / \" << to_string(i) << \" = \" << to_string(m) << endl;"
   ]
  },
  {
   "cell_type": "markdown",
   "metadata": {},
   "source": [
    "## Doubles"
   ]
  },
  {
   "cell_type": "code",
   "execution_count": 3,
   "metadata": {},
   "outputs": [
    {
     "name": "stdout",
     "output_type": "stream",
     "text": [
      "15.000000 + 2.000000 = 17.000000\n",
      "15.000000 - 2.000000 = 13.000000\n",
      "15.000000 * 2.000000 = 30.000000\n",
      "15.000000 / 2.000000 = 7.500000\n"
     ]
    }
   ],
   "source": [
    "double n = 15;\n",
    "double o = 2;\n",
    "\n",
    "double p = n + o;\n",
    "double q = n - o;\n",
    "double r = n * o;\n",
    "double s = n / o;\n",
    "\n",
    "cout << to_string(n) << \" + \" << to_string(o) << \" = \" << to_string(p) << endl;\n",
    "cout << to_string(n) << \" - \" << to_string(o) << \" = \" << to_string(q) << endl;\n",
    "cout << to_string(n) << \" * \" << to_string(o) << \" = \" << to_string(r) << endl;\n",
    "cout << to_string(n) << \" / \" << to_string(o) << \" = \" << to_string(s) << endl;"
   ]
  },
  {
   "cell_type": "code",
   "execution_count": null,
   "metadata": {},
   "outputs": [],
   "source": []
  }
 ],
 "metadata": {
  "kernelspec": {
   "display_name": "C++17",
   "language": "C++17",
   "name": "xcpp17"
  },
  "language_info": {
   "codemirror_mode": "text/x-c++src",
   "file_extension": ".cpp",
   "mimetype": "text/x-c++src",
   "name": "c++",
   "version": "17"
  }
 },
 "nbformat": 4,
 "nbformat_minor": 4
}
