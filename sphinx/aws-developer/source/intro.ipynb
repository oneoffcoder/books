{
 "cells": [
  {
   "cell_type": "markdown",
   "metadata": {},
   "source": [
    "# Intro\n",
    "\n",
    "The two tools that you will need to follow along in this book is `aws-cli` and `boto3`. The `aws-cli` (AWS command line interface) is a command line tool that you may use to issue commands against AWS. It is essentially a higher-level wrapper around `boto3`, which is a Python SDK (software development kit). Sometimes, you will find it easier to use `aws-cli` over `boto3`, or vice-versa, depending on the context. The documentation for [aws-cli](https://docs.aws.amazon.com/cli/index.html) and [boto3](https://boto3.amazonaws.com/v1/documentation/api/latest/index.html) are available."
   ]
  },
  {
   "cell_type": "markdown",
   "metadata": {},
   "source": [
    "## Check versions\n",
    "\n",
    "To check your version of `aws-cli`."
   ]
  },
  {
   "cell_type": "code",
   "execution_count": 1,
   "metadata": {},
   "outputs": [
    {
     "name": "stdout",
     "output_type": "stream",
     "text": [
      "aws-cli/1.16.292 Python/3.7.4 Linux/5.3.0-23-generic botocore/1.13.28\n"
     ]
    }
   ],
   "source": [
    "%%sh\n",
    "aws --version"
   ]
  },
  {
   "cell_type": "markdown",
   "metadata": {},
   "source": [
    "To check your version of `boto3`."
   ]
  },
  {
   "cell_type": "code",
   "execution_count": 2,
   "metadata": {},
   "outputs": [
    {
     "name": "stdout",
     "output_type": "stream",
     "text": [
      "boto3                     1.10.28                    py_0    conda-forge\n"
     ]
    }
   ],
   "source": [
    "%%sh\n",
    "conda list | grep boto3"
   ]
  },
  {
   "cell_type": "markdown",
   "metadata": {},
   "source": [
    "## Usage examples\n",
    "\n",
    "### Listing bucket contents\n",
    "\n",
    "Here's an example of running using the ``aws-cli`` to list the contents of a `S3` bucket."
   ]
  },
  {
   "cell_type": "code",
   "execution_count": 3,
   "metadata": {},
   "outputs": [
    {
     "name": "stdout",
     "output_type": "stream",
     "text": [
      "2019-12-01 23:20:00         14 hello-world.txt\n"
     ]
    }
   ],
   "source": [
    "%%sh\n",
    "aws s3 ls s3://aws-certified-developer.oneoffcoder.com"
   ]
  },
  {
   "cell_type": "markdown",
   "metadata": {},
   "source": [
    "Here's an example using `boto3` to list the contents of the same `S3` bucket."
   ]
  },
  {
   "cell_type": "code",
   "execution_count": 4,
   "metadata": {},
   "outputs": [
    {
     "name": "stdout",
     "output_type": "stream",
     "text": [
      "s3.Bucket.objectsCollection(s3.Bucket(name='aws-certified-developer.oneoffcoder.com'), s3.ObjectSummary)\n",
      "s3.ObjectSummary(bucket_name='aws-certified-developer.oneoffcoder.com', key='hello-world.txt')\n"
     ]
    }
   ],
   "source": [
    "import boto3\n",
    "\n",
    "s3 = boto3.resource('s3')\n",
    "bucket = s3.Bucket(name='aws-certified-developer.oneoffcoder.com')\n",
    "\n",
    "response = bucket.objects.all()\n",
    "print(response)\n",
    "\n",
    "for r in response:\n",
    "    print(r)"
   ]
  },
  {
   "cell_type": "markdown",
   "metadata": {},
   "source": [
    "### Using Polly service\n",
    "\n",
    "Here's an `aws-cli` example to use the `Polly` service to synthesize speech."
   ]
  },
  {
   "cell_type": "code",
   "execution_count": 5,
   "metadata": {},
   "outputs": [
    {
     "name": "stdout",
     "output_type": "stream",
     "text": [
      "{\n",
      "    \"ContentType\": \"audio/mpeg\",\n",
      "    \"RequestCharacters\": \"36\"\n",
      "}\n"
     ]
    }
   ],
   "source": [
    "%%sh\n",
    "aws polly synthesize-speech \\\n",
    "    --output-format mp3 \\\n",
    "    --voice-id Joanna \\\n",
    "    --text 'Hello world! One Off Coder is great!' \\\n",
    "    _static/artifacts/intro/output/hello-cli.mp3"
   ]
  },
  {
   "cell_type": "markdown",
   "metadata": {},
   "source": [
    "Listen to the downloaded `mp3` file below.\n",
    "\n",
    "<audio src=\"_static/artifacts/intro/output/hello-cli.mp3\" controls>hello, world</audio>"
   ]
  },
  {
   "cell_type": "markdown",
   "metadata": {},
   "source": [
    "Here's a `boto3` example to use `Polly` to synthesize speech. Note we specify a different voice here using `Aditi` instead of `Joanna`."
   ]
  },
  {
   "cell_type": "code",
   "execution_count": 6,
   "metadata": {},
   "outputs": [],
   "source": [
    "import boto3\n",
    "\n",
    "polly = boto3.client('polly')\n",
    "result = polly.synthesize_speech(\n",
    "    Text='Hello world! One Off Coder is great!', \n",
    "    OutputFormat='mp3', \n",
    "    VoiceId='Aditi')\n",
    "audio = result['AudioStream'].read()\n",
    "with open('_static/artifacts/intro/output/hello-boto3.mp3', 'wb') as f:\n",
    "    f.write(audio)"
   ]
  },
  {
   "cell_type": "markdown",
   "metadata": {},
   "source": [
    "Listen to the downloaded `mp3` file below.\n",
    "\n",
    "<audio src=\"_static/artifacts/intro/output/hello-boto3.mp3\" controls>hello, world</audio>"
   ]
  },
  {
   "cell_type": "markdown",
   "metadata": {},
   "source": [
    "## Services\n",
    "\n",
    "As of December 2019, AWS offers 146 services across 23 major categories.\n",
    "\n",
    "| Category | Number of Services |\n",
    "|----------|--------------------|\n",
    "| Compute | 9 |\n",
    "| Storage | 6 |\n",
    "| Database | 7 |\n",
    "| Migration & Transfer | 7 |\n",
    "| Network & Content Delivery | 8 |\n",
    "| Developer Tools | 6 |\n",
    "| Customer Enablement | 3 |\n",
    "| Robotics | 1 |\n",
    "| Satellite | 1 |\n",
    "| Management & Governance | 15 |\n",
    "| Media Services | 9 |\n",
    "| Machine Learning | 13 |\n",
    "| Analytics | 11 |\n",
    "| Security, Identity, & Compliance | 15 |\n",
    "| AWS Cost Management | 3 |\n",
    "| Mobile | 4 |\n",
    "| AR & VR | 1 |\n",
    "| Application Integration | 6 |\n",
    "| Customer Engagement | 3 |\n",
    "| Business Applications | 3 |\n",
    "| End User Computing | 4 |\n",
    "| Internet of Things | 10 |\n",
    "| Game Development | 1 |"
   ]
  },
  {
   "cell_type": "markdown",
   "metadata": {},
   "source": [
    "## Regions\n",
    "\n",
    "AWS services and resources are hosted in separate, distinct locations around the world called `AWS Regions`. Each `AWS Region` itself is composed of multiple, separate `Availability Zones`, which are stated to be essentially different data centers. AWS resources such as `S3` buckets are duplicated across multiple (at least 3 for `S3`) `Availability Zones` for `high availability`. However, resources are **not** duplicated automatically between `AWS Regions`, and users are expected to duplicate resources manually. Any API call through `aws-cli` or `boto3` must specify the `AWS Region`, and such calls will only impact services and resources within that region. Some services like `IAM` (Identity Access Management), however, do cover and apply across all `AWS Regions`. Here are `AWS Regions` with example API endpoints for `RDS` (Relational Database Service).\n",
    "\n",
    "| Region Name | Region | Endpoint| Protocol |\n",
    "|-------------|--------|---------|----------|\n",
    "| US East (Ohio) | us-east-2 | rds.us-east-2.amazonaws.com | HTTPS |\n",
    "| US East (N. Virginia) | us-east-1 | rds.us-east-1.amazonaws.com | HTTPS |\n",
    "| US West (N. California) | us-west-1 | rds.us-west-1.amazonaws.com | HTTPS |\n",
    "| US West (Oregon) | us-west-2 | rds.us-west-2.amazonaws.com | HTTPS |\n",
    "| Asia Pacific (Hong Kong) | ap-east-1 | rds.ap-east-1.amazonaws.com | HTTPS |\n",
    "| Asia Pacific (Mumbai) | ap-south-1 | rds.ap-south-1.amazonaws.com | HTTPS |\n",
    "| Asia Pacific (Osaka-Local) | ap-northeast-3 | rds.ap-northeast-3.amazonaws.com | HTTPS |\n",
    "| Asia Pacific (Seoul) | ap-northeast-2 | rds.ap-northeast-2.amazonaws.com | HTTPS |\n",
    "| Asia Pacific (Singapore) | ap-southeast-1 | rds.ap-southeast-1.amazonaws.com | HTTPS |\n",
    "| Asia Pacific (Sydney) | ap-southeast-2 | rds.ap-southeast-2.amazonaws.com | HTTPS |\n",
    "| Asia Pacific (Tokyo) | ap-northeast-1 | rds.ap-northeast-1.amazonaws.com | HTTPS |\n",
    "| Canada (Central) | ca-central-1 | rds.ca-central-1.amazonaws.com | HTTPS |\n",
    "| China (Beijing) | cn-north-1 | rds.cn-north-1.amazonaws.com.cn | HTTPS |\n",
    "| China (Ningxia) | cn-northwest-1 | rds.cn-northwest-1.amazonaws.com.cn | HTTPS |\n",
    "| EU (Frankfurt) | eu-central-1 | rds.eu-central-1.amazonaws.com | HTTPS |\n",
    "| EU (Ireland) | eu-west-1 | rds.eu-west-1.amazonaws.com | HTTPS |\n",
    "| EU (London) | eu-west-2 | rds.eu-west-2.amazonaws.com | HTTPS |\n",
    "| EU (Paris) | eu-west-3 | rds.eu-west-3.amazonaws.com | HTTPS |\n",
    "| EU (Stockholm) | eu-north-1 | rds.eu-north-1.amazonaws.com | HTTPS |\n",
    "| Middle East (Bahrain) | me-south-1 | rds.me-south-1.amazonaws.com | HTTPS |\n",
    "| South America (Sao Paulo) | sa-east-1 | rds.sa-east-1.amazonaws.com | HTTPS |\n",
    "| AWS GovCloud (US-East) | us-gov-east-1 | rds.us-gov-east-1.amazonaws.com | HTTPS |\n",
    "| AWS GovCloud (US-West) | us-gov-west-1 | rds.us-gov-west-1.amazonaws.com | HTTPS |\n",
    "\n",
    "Note the pattern in the API endpoint: `<service>.<region>.amazonaws.com`. All `AWS Regions` are not created equal, as some may lack certain services and features. Here's a criteria for selecting a particular `AWS Region`.\n",
    "\n",
    "* `Service availability`: does the region have all the services you need?\n",
    "* `Proximity and latency`: how close is the region to the users?\n",
    "* `Data residency`: is the region compliant with regulations or contract agreements? \n",
    "* `Business continuity`: which regions are best for disaster recovery?\n",
    "* `Price`: is operating within the region cheaper or more expensive?"
   ]
  },
  {
   "cell_type": "markdown",
   "metadata": {},
   "source": [
    "## API credentials\n",
    "\n",
    "API access through `aws-cli` or `boto3` is controlled through `IAM`. In `IAM`, there are three types of objects.\n",
    "\n",
    "* `Users` represent a user or application with `long-term` security credentials\n",
    "* `Groups` represent a collection of users\n",
    "* `Roles` represents a user or application with `short-term` security credentials\n",
    "\n",
    "Users may be granted access to the `Management Console` or programmatic access. When accessing the Management Console, an IAM User authenticates with a user name and password; when making programmatic calls, an IAM user authenticates through an `Access Key ID` and `Secret Access Key` pair. An IAM Role must define trusted `principals` that may assume the role. In addition to an `Access Key ID` and `Secret Access Key` pair, an IAM Role also has a `session token` generated by the `AWS Security Token Service`. \n",
    "\n",
    "Both IAM Users and Roles are allowed or denied access to API actions based on `IAM Policies`. IAM Policies may be managed (preset) or customized. Whe creating custom IAM Policies, the `Effect`, `Action` and `Resources` must be defined. An example of a customized IAM Policy is as follows.\n",
    "\n",
    "```json\n",
    "{\n",
    "    \"Version\": \"2012-10-17\",\n",
    "    \"Statement\": [\n",
    "        {\n",
    "            \"Sid\": \"PublicReadGetObject\",\n",
    "            \"Effect\": \"Allow\",\n",
    "            \"Principal\": \"*\",\n",
    "            \"Action\": \"s3:GetObject\",\n",
    "            \"Resource\": \"arn:aws:s3:::www.oneoffcoder.com/*\"\n",
    "        }\n",
    "    ]\n",
    "}\n",
    "```\n",
    "\n",
    "Note the `Resource` uses an `Amazon Resource Name` or `ARN`. An `ARN` follows the convention\n",
    "\n",
    "* `arn:<partition>:<service>:<region>:<account_id>:<resource>`\n",
    "    \n",
    "A resource may not require all parts of an ARN (as in the case of S3 above). IAM Policies are tricky and difficult to write and test. However, there are tools to help you write and test your IAM Policies.\n",
    "\n",
    "* [Visual Policy Editor](https://aws.amazon.com/blogs/security/use-the-new-visual-editor-to-create-and-modify-your-aws-iam-policies/)\n",
    "* [IAM Policy Simulator](https://policysim.aws.amazon.com)"
   ]
  }
 ],
 "metadata": {
  "kernelspec": {
   "display_name": "Python 3",
   "language": "python",
   "name": "python3"
  },
  "language_info": {
   "codemirror_mode": {
    "name": "ipython",
    "version": 3
   },
   "file_extension": ".py",
   "mimetype": "text/x-python",
   "name": "python",
   "nbconvert_exporter": "python",
   "pygments_lexer": "ipython3",
   "version": "3.7.4"
  }
 },
 "nbformat": 4,
 "nbformat_minor": 4
}
