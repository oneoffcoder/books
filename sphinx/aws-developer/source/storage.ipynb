{
 "cells": [
  {
   "cell_type": "markdown",
   "metadata": {},
   "source": [
    "# Storage"
   ]
  },
  {
   "cell_type": "markdown",
   "metadata": {},
   "source": [
    "There are 3 main storage types in AWS.\n",
    "\n",
    "* `block`: `EBS` (persistent) and instance store (ephemeral)\n",
    "* `file`: Amazon `EFS` (Elastic File System)\n",
    "* `object`: Amazon `S3` and `Glacier`\n",
    "\n",
    "Deciding on which type of storage to use depends on your `data dimensions`.\n",
    "\n",
    "* Volume, Variety, Velocity\n",
    "  * volume is how big is the data in size\n",
    "  * variety is the heterogeneity of the data types (text, videos, pictures, etc.)\n",
    "  * velocity is how fast data is flowing through\n",
    "* Temperature\n",
    "  * `hot` data is actively used\n",
    "  * `warm` data is actively used but less than hot data\n",
    "  * `cold` data is occasionally used data\n",
    "  * `frozen` data is non-actively used data\n",
    "* Value\n",
    "  * `transient` data has a short lifespan\n",
    "  * `reproducible` data is derived data\n",
    "  * `authoritative` data is ground truth data\n",
    "  * `critical` data is data that must be kept "
   ]
  },
  {
   "cell_type": "markdown",
   "metadata": {},
   "source": [
    "## CIA model\n",
    "\n",
    "The `CIA` (Confidentiality, Integrity, Availability) model of information security is used by AWS. Confidentiality is accomplished through permissions and encryption to assure data privacy. Integrity centers on the accuracy of data. Availability refers to service availability to store data."
   ]
  },
  {
   "cell_type": "markdown",
   "metadata": {},
   "source": [
    "## Block storage\n",
    "\n",
    "### EBS\n",
    "\n",
    "Here are some things to consider about EBS.\n",
    "\n",
    "* Network-attachment: EBS volume are not physically attached to an EC2 instance; instead, they are network-attached\n",
    "* Resizing: EBS volumes may be resized and are referred to as `elastic volumes`\n",
    "* SSD vs HDD: SSD are optimized for IOPS (input/output operations) while HDD are optimized for throughput\n",
    "* Snapshots: Snapshots of EBS volumes are possible and efficient as they are incremental\n",
    "* EBS-optimized instances: Instances that are EBS-optimized separate data to and from EBS volumes apart from other network traffic\n",
    "* Encryption: Data stored on EBS volumes are encrypted using [AES-256](https://en.wikipedia.org/wiki/Advanced_Encryption_Standard) and the AWS `KMS` (Key Management Service)\n",
    "\n",
    "<div class=\"alert alert-info\">\n",
    "    \n",
    "**Note:** When EBS volumes are restored from snapshots, the blocks must be pulled down from S3 and written to the volume, a process know as `initialization`, which may take significant time.\n",
    "    \n",
    "</div>\n",
    "\n",
    "### Instance storage\n",
    "\n",
    "Here are some things to consider about instance store volumes.\n",
    "\n",
    "* Direct-attachment: instance store volumes are directl attached to an EC2 instance\n",
    "* Availability: not all EC2 instance types have instance store available"
   ]
  },
  {
   "cell_type": "markdown",
   "metadata": {},
   "source": [
    "## Object storage\n",
    "\n",
    "### S3\n",
    "\n",
    "The fundamental concept of S3 is the `bucket`. A bucket does not behave like a folder, although it may appear to be so. There is a limitation of 100 buckets per account, and buckets cannot be nested (no buckets within buckets). Bucket names are also important as they are global, and it is encouraged to use DNS naming convention when naming buckets. \n",
    "\n",
    "`Objects` refer to the items (files) placed in a bucket. When a bucket is created, one may choose to `version` all items in a bucket (this option cannot be changed later). Objects are limited to 5 TB in size, and anything larger must be chunked. "
   ]
  },
  {
   "cell_type": "code",
   "execution_count": null,
   "metadata": {},
   "outputs": [],
   "source": []
  },
  {
   "cell_type": "markdown",
   "metadata": {},
   "source": [
    "## Definitions\n",
    "\n",
    "* `KMS` (Key management Service): AWS service to manage encryption keys\n",
    "* `data in transit`: data that is moving (on the network or between two locations)\n",
    "* `data at rest`: data that is stored\n",
    "* `SSE` (Server-Side Encryption): encryption that happens on the server\n",
    "* `envelop encryption`: a process of encrypting data with a key, and also encrypting the with another key, called the `key-encrypting key`\n",
    "* `CSE` (Client-Side Encryption): encryption that happens on the client"
   ]
  },
  {
   "cell_type": "code",
   "execution_count": null,
   "metadata": {},
   "outputs": [],
   "source": []
  }
 ],
 "metadata": {
  "kernelspec": {
   "display_name": "Python 3",
   "language": "python",
   "name": "python3"
  },
  "language_info": {
   "codemirror_mode": {
    "name": "ipython",
    "version": 3
   },
   "file_extension": ".py",
   "mimetype": "text/x-python",
   "name": "python",
   "nbconvert_exporter": "python",
   "pygments_lexer": "ipython3",
   "version": "3.7.4"
  }
 },
 "nbformat": 4,
 "nbformat_minor": 4
}
