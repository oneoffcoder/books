{
 "cells": [
  {
   "cell_type": "markdown",
   "metadata": {},
   "source": [
    "# Elastic Cloud Compute\n",
    "\n",
    "AWS Elastic Cloud Compute `EC2` and Virtual Private Cloud `VPC` are two services that go hand-in-hand. The `EC2` service enables you to provision virtual machines or `instances` while `VPC` enables you to define the network between those instances. EC2 instances are preconfigured into the following [families](https://docs.aws.amazon.com/AWSEC2/latest/UserGuide/instance-types.html) with a sort of tradeoff between computing resources such as CPU, RAM, GPU, disk and network.\n",
    "\n",
    "| Family | Key Differentiator |\n",
    "|--------|--------------------|\n",
    "| General purpose | A fairly balanced instance between CPU, RAM, disk and network |\n",
    "| Compute optimized | A high amount of CPU |\n",
    "| Memory optimized | A high amount of RAM |\n",
    "| Storage optimized | A high amount of storage and IO throughput |\n",
    "| Accelerated computing | Dedicated GPU or Field Programmable Gate Array `FPGA` |\n",
    "\n",
    "Here are some things to consider when creating an EC2 instance.\n",
    "\n",
    "* Storage: Data may be stored on an EC2 instance in a Elastic Block Store `EBS` or `instance store`. EBS are persistent, meaning, the data remains after the EC2 instance is terminated, while instance store are ephemeral, the data is wiped out when an an EC2 instance is terminated.\n",
    "* Amazon Machine Image `AMI`: When an EC2 instance is defined, an AMI must be associated with the instance. The AMI defines the operating system that the EC2 instance will have.\n",
    "* Elastic network interface: An EC2 instance has at least one software-defined network interface provided by the VPC. There is both a private and public IP address associated with the network interface.\n",
    "* Access: An EC2 instance may be accessed via `SSH` if the AMI is a Linux-based OS, or through `RDP` if the AMI is a Windows-based OS. The default user for EC2 AMIs is `ec2-user`, for Ubuntu AMIs is `ubuntu` and for Windows AMIs is `Administrator`. When an EC2 instance is created, an `EC2 key pair` may be associated; AWS keeps the public key and the user keeps the private key. An EC2 key pair is required to be associated with an EC2 instance for remote access.\n",
    "* Credentials: An EC2 instance may be associated with an IAM Role. The AWS SDK or CLI running on the EC2 instance, thus, do not have to define credentials (e.g. access and secret access keys). Furthermore, an EC2 instance may query metadata about itself through HTTP to `169.254.169.254`, which is a service provided by Instance Metdata Service `IMDS`.\n",
    "* Monitoring: EC2 instances are checked every minute for hardware and software status. The results are placed in `CloudWatch`. \n",
    "\n",
    "<div class=\"alert alert-info\">\n",
    "\n",
    "**Note:** When you create an EC2 instance, you may specify which `Availability Zone` the instance is placed in.\n",
    "\n",
    "</div>"
   ]
  },
  {
   "cell_type": "markdown",
   "metadata": {},
   "source": [
    "## EC2 lifecycle\n",
    "\n",
    "The lifecycle states of EC2 instances is as follows. Note that cost incurs only when the EC2 is in the `running` state. If an EC2 instance is `stopped`, it may be restarted, but if an instance is `terminated`, it may no longer be restarted.\n",
    "\n",
    "| State | Description |\n",
    "|-------|-------------|\n",
    "| pending | The EC2 instance is starting |\n",
    "| running | The EC2 instance is running |\n",
    "| stopping | The EC2 instance is stopping |\n",
    "| stopped | The EC2 instance is stopped |\n",
    "| shutting-down | The EC2 instance is shutting down |\n",
    "| terminated | The EC2 instance is terminated |"
   ]
  },
  {
   "cell_type": "markdown",
   "metadata": {},
   "source": [
    "## Virtual Private Cloud\n",
    "\n",
    "Amazon Virtual Private Cloud `VPC` are software-defined isolated networks with each AWS account. The [Classless Inter-Domain Routing](https://en.wikipedia.org/wiki/Classless_Inter-Domain_Routing) `CIDR` notation is used to define a VPC. There are different connection types that one may set up to allow a VPC to communicate with other networks.\n",
    "\n",
    "| Type | Explanation |\n",
    "|------|-------------|\n",
    "| Internet Gateway | Enables outbound/inbound requests to the internet from the VPC |\n",
    "| Egress Only Internet Gateway | Enables outbound (and associated responses) requests to the internet from the VPC, but blocks inbound connections |\n",
    "| Virtual Private Gateway | Enables connection to corporate network via VPN |\n",
    "| Amazon VPC Endpoints | Enables traffic from a VPC to an AWS service without going through the internet |\n",
    "| Amazon VPC Peering | Enables VPCs to communicate directly |\n",
    "| AWS Transit Gateway | Enables VPCs to communicate with on-premise resources through a single gateway |"
   ]
  },
  {
   "cell_type": "markdown",
   "metadata": {},
   "source": [
    "### IP address types\n",
    "\n",
    "There are 4 IP address types associated with an EC2 instance.\n",
    "\n",
    "* Private: IPv4 addresses that are not accessible from the internet\n",
    "* Public: IPv4 addresses managed by AWS that are accessible from the internet\n",
    "* Elastic: IPv4 addresses managed by users that are accessible from the internet\n",
    "* IPv6: IPv6 addresses\n",
    "\n",
    "<div class=\"alert alert-info\">\n",
    "\n",
    "**Note:** Public IP addresses that are managed by AWS are released when an EC2 instance is stopped or terminated. If an instance stopped and started again, most likely, a new public IP address will be assigned.\n",
    "\n",
    "</div>\n",
    "\n",
    "### Subnets\n",
    "\n",
    "There are 2 types of subnets.\n",
    "\n",
    "* Public: subnets that are accessible from the internet\n",
    "* Private: subnets that are not accessible from the internet\n",
    "\n",
    "`Route tables` may be defined to route traffic outside the VPC. `Security groups` are sateful rules specifying the source/destination, protocol and ports that are allowed to pass in (inbound rules) or out (outbound rules) of an EC2 instance. A network access control list `ACL` is a set of stateless rules that allow and deny traffic to a subnet. An EC2 instance may be created for network address translation `NAT` to forward requests from public and private subnets to the internet.\n",
    "\n",
    "<div class=\"alert alert-info\">\n",
    "\n",
    "**Note:** N-tier architecture applications typically use both public and private subnets. For example, a web server instance will reside on a public subnet and a database server will reside on a private subnet.\n",
    "\n",
    "</div>"
   ]
  },
  {
   "cell_type": "markdown",
   "metadata": {},
   "source": [
    "## Definitions\n",
    "\n",
    "* `EC2` (Elastic Cloud Compute): AWS service to provision virtual machines or instances\n",
    "* `VPC` (Virutal Private Cloud): AWS service to define network for EC2 instances\n",
    "* `EBS` (Elastic Block Storage): persistent storage for EC2 instance\n",
    "* `instance store`: ephemeral storage for EC2 instance\n",
    "* `AMI` (Amazon Machine Image): operating system image for an EC2 instance\n",
    "* `EC2 key pair`: a public-private key pair used to enable remote access via SSH or RDP to an EC2 instance\n",
    "* `IMDS` (Instance Metadata Service): A service accessible from inside an EC2 instance via HTTP `169.254.169.254` to query for metadata about the EC2 instance\n",
    "* `CloudWatch`: AWS service to monitor services and resources\n",
    "* `VPC Flow Log`: A VPC feature that captures inbound and outbound traffic and its associated metadata"
   ]
  }
 ],
 "metadata": {
  "kernelspec": {
   "display_name": "Python 3",
   "language": "python",
   "name": "python3"
  },
  "language_info": {
   "codemirror_mode": {
    "name": "ipython",
    "version": 3
   },
   "file_extension": ".py",
   "mimetype": "text/x-python",
   "name": "python",
   "nbconvert_exporter": "python",
   "pygments_lexer": "ipython3",
   "version": "3.7.4"
  }
 },
 "nbformat": 4,
 "nbformat_minor": 4
}
