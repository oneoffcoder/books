{
 "cells": [
  {
   "cell_type": "markdown",
   "metadata": {},
   "source": [
    "# Database"
   ]
  },
  {
   "cell_type": "markdown",
   "metadata": {},
   "source": [
    "## Relational Database Service\n",
    "\n",
    "Relational Database Service ``RDS`` is a managed service for traditional relational database management systems ``RDBMS``. RDS may be used to spin up MySQL, PostgreSQL, Oracle, SQL Server or MariaDB instances. Some key concepts related to RDBMS technologies are as follows.\n",
    "\n",
    "* `SQL` (Structured Query Language): a language used to define and query data in the database\n",
    "* `Data Integrity`: data completeness, accuracy and consistency is enforced through defined constraints\n",
    "* `ACID`\n",
    "  * `Atomic`: logical units of SQL statements happen in an `all-or-none` event (transactional)\n",
    "  * `Consistent`: transactions must obey constraints, cascades and triggers\n",
    "  * `Isolation`: transactions must be independent\n",
    "  * `Durability`: all changes are permanent\n",
    "  \n",
    "By using RDS instead of creating your own RDBMS instances on EC2, there are a lot of benefits to be gained.\n",
    "\n",
    "* automatic software patching: AWS will patch the OS and database engine\n",
    "* vertical scaling: you can easily scale the hardware\n",
    "* horizontal scaling: you can increase the read replicas (database replication)\n",
    "* backup: you may setup automatic backups or create manual backups\n",
    "* Multi-AZ: you may setup a primary and standby RDBMS instance\n",
    "* AWS integration: you may use other AWS service to integrate with RDS (IAM for authentication, KMS for encryption, CloudWatch for monitoring, etc.)"
   ]
  },
  {
   "cell_type": "markdown",
   "metadata": {},
   "source": [
    "## Aurora\n",
    "\n",
    "Aurora is a drop-in replacement for MySQL and PostgreSQL. Some key features of Aurora over RDS.\n",
    "\n",
    "* replication spans three AZ\n",
    "* data is distributed in a `cluster volume` across AZ\n",
    "* multiregional deployment is possible `global database`"
   ]
  },
  {
   "cell_type": "markdown",
   "metadata": {},
   "source": [
    "## DynamoDB\n",
    "\n",
    "DynamoDB is a managed ``NoSQL``  database. "
   ]
  },
  {
   "cell_type": "markdown",
   "metadata": {},
   "source": [
    "## Redshift\n",
    "\n",
    "Redshift is a managed ``data warehouse`` solution. You may use SQL or business intelligence (BI) tools to analyze the data in Redshift."
   ]
  },
  {
   "cell_type": "markdown",
   "metadata": {},
   "source": [
    "## ElastiCache\n",
    "\n",
    "ElastiCache is a managed caching service that is backed by Redis and Memcached."
   ]
  },
  {
   "cell_type": "markdown",
   "metadata": {},
   "source": [
    "## Neptune\n",
    "\n",
    "Neptune is a managed graph database."
   ]
  },
  {
   "cell_type": "markdown",
   "metadata": {},
   "source": [
    "## DocumentDB\n",
    "\n",
    "DocumentDB is a managed document database that is MongoDB-compliant."
   ]
  },
  {
   "cell_type": "markdown",
   "metadata": {},
   "source": [
    "## Timestream\n",
    "\n",
    "A managed timeseries database. This type of database is useful for data sources such as clickstream or `IoT` data."
   ]
  },
  {
   "cell_type": "markdown",
   "metadata": {},
   "source": [
    "## Quantum Ledger Database\n",
    "\n",
    "Quantum Ledger Database ``QLDB`` is a ledger database. Its primary use is to keep an immutable history/record of data changes, not unlike what you would expect from `blockchain` technology."
   ]
  },
  {
   "cell_type": "markdown",
   "metadata": {},
   "source": [
    "## Database Migration Service\n",
    "\n",
    "Database Migration Service `DMS` is a service to help move on-premise databases to AWS."
   ]
  }
 ],
 "metadata": {
  "kernelspec": {
   "display_name": "Python 3",
   "language": "python",
   "name": "python3"
  },
  "language_info": {
   "codemirror_mode": {
    "name": "ipython",
    "version": 3
   },
   "file_extension": ".py",
   "mimetype": "text/x-python",
   "name": "python",
   "nbconvert_exporter": "python",
   "pygments_lexer": "ipython3",
   "version": "3.7.4"
  }
 },
 "nbformat": 4,
 "nbformat_minor": 4
}
