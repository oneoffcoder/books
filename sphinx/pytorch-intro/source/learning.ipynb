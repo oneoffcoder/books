{
 "cells": [
  {
   "cell_type": "markdown",
   "metadata": {},
   "source": [
    "# Learning"
   ]
  },
  {
   "cell_type": "markdown",
   "metadata": {},
   "source": [
    "## Training and testing"
   ]
  },
  {
   "cell_type": "code",
   "execution_count": 1,
   "metadata": {},
   "outputs": [
    {
     "name": "stdout",
     "output_type": "stream",
     "text": [
      "epoch 01/05 | TRAIN: 1.1829, 0.6667, 0m 1s | TEST: 2.1690, 0.4000, 0m 0s\n",
      "epoch 02/05 | TRAIN: 0.8402, 0.8000, 0m 1s | TEST: 0.0073, 1.0000, 0m 0s\n",
      "epoch 03/05 | TRAIN: 0.7039, 0.8667, 0m 1s | TEST: 0.0217, 1.0000, 0m 0s\n",
      "epoch 04/05 | TRAIN: 0.2520, 0.8667, 0m 1s | TEST: 0.0139, 1.0000, 0m 0s\n",
      "epoch 05/05 | TRAIN: 0.4865, 0.8667, 0m 1s | TEST: 0.0039, 1.0000, 0m 0s\n",
      "completed learning in 0m 5s, best accuracy 1.0000\n"
     ]
    }
   ],
   "source": [
    "from torchvision import datasets, models, transforms\n",
    "import torch.optim as optim\n",
    "import torch.nn as nn\n",
    "from torchvision.transforms import *\n",
    "from torch.utils.data import DataLoader\n",
    "import torch\n",
    "import numpy as np\n",
    "from collections import defaultdict\n",
    "import time\n",
    "import copy\n",
    "\n",
    "def train(dataloaders, model, criterion, optimizer, scheduler, device, num_epochs=20):\n",
    "    def format_start_stop(start, stop):\n",
    "        elapsed = stop - start\n",
    "        return f'{elapsed//60:.0f}m {elapsed%50:.0f}s'\n",
    "    \n",
    "    best_model_weights = copy.deepcopy(model.state_dict())\n",
    "    best_acc = -1.0\n",
    "    \n",
    "    loop_start = time.time()\n",
    "    \n",
    "    for epoch in range(num_epochs):\n",
    "        train_loss, train_acc = 0.0, 0.0\n",
    "        test_loss, test_acc = 0.0, 0.0\n",
    "        train_start, test_start = 0.0, 0.0\n",
    "        train_stop, test_stop = 0.0, 0.0\n",
    "        \n",
    "        for phase in ['train', 'test']:\n",
    "            if phase == 'train':\n",
    "                optimizer.step()\n",
    "                scheduler.step()\n",
    "                model.train()\n",
    "                train_start = time.time()\n",
    "            else:\n",
    "                model.eval()\n",
    "                test_start = time.time()\n",
    "\n",
    "            running_loss = 0.0\n",
    "            running_corrects = 0\n",
    "\n",
    "            n = 0\n",
    "            dataloader = dataloaders[phase]\n",
    "            for inputs, labels in dataloader:\n",
    "                inputs = inputs.to(device)\n",
    "                labels = labels.to(device)\n",
    "\n",
    "                optimizer.zero_grad()\n",
    "\n",
    "                with torch.set_grad_enabled(phase == 'train'):\n",
    "                    outputs = model(inputs)\n",
    "                    loss = criterion(outputs, labels)\n",
    "                    _, preds = torch.max(outputs, 1)\n",
    "                    \n",
    "                    if phase == 'train':\n",
    "                        loss.backward()\n",
    "                        optimizer.step()\n",
    "                running_loss += loss.mean() * inputs.size(0)\n",
    "                running_corrects += torch.sum(preds == labels.data)\n",
    "                n += len(labels)\n",
    "\n",
    "            epoch_loss = running_loss / float(n)\n",
    "            epoch_acc = running_corrects.double() / float(n)\n",
    "            \n",
    "            if phase == 'train':\n",
    "                train_stop = time.time()\n",
    "                train_loss, train_acc = epoch_loss, epoch_acc\n",
    "            else:\n",
    "                test_stop = time.time()\n",
    "                test_loss, test_acc = epoch_loss, epoch_acc\n",
    "                \n",
    "                if epoch_acc > best_acc:\n",
    "                    best_model_weights = copy.deepcopy(model.state_dict())\n",
    "                    best_acc = epoch_acc                \n",
    "        \n",
    "        train_time = format_start_stop(train_start, train_stop)\n",
    "        test_time = format_start_stop(test_start, test_stop)\n",
    "        \n",
    "        train_metrics = f'TRAIN: {train_loss:.4f}, {train_acc:.4f}, {train_time}'\n",
    "        test_metrics = f'TEST: {test_loss:.4f}, {test_acc:.4f}, {test_time}'\n",
    "        print(f'epoch {str(epoch + 1).zfill(2)}/{str(num_epochs).zfill(2)} | {train_metrics} | {test_metrics}')\n",
    "    \n",
    "    loop_stop = time.time()\n",
    "    loop_time = format_start_stop(loop_start, loop_stop)\n",
    "    print(f'completed learning in {loop_time}, best accuracy {best_acc:.4f}')\n",
    "    \n",
    "    model.load_state_dict(best_model_weights)\n",
    "    return model\n",
    "\n",
    "def get_dataloaders():\n",
    "    def clean_up(path):\n",
    "        import os\n",
    "        from shutil import rmtree\n",
    "        \n",
    "        ipynb_checkpoints = f'{path}/.ipynb_checkpoints'\n",
    "        if os.path.exists(ipynb_checkpoints):\n",
    "            rmtree(ipynb_checkpoints)\n",
    "            \n",
    "    def get_dataloader(phase):\n",
    "        path = f'./shapes/{phase}'\n",
    "        clean_up(path)\n",
    "        \n",
    "        if phase in ['valid']:\n",
    "            transform = transforms.Compose([\n",
    "                Resize(224), \n",
    "                RandomAffine(degrees=(30, 50), shear=5),\n",
    "                ToTensor()])\n",
    "        else:\n",
    "            transform = transforms.Compose([Resize(224), ToTensor()])\n",
    "            \n",
    "        image_folder = datasets.ImageFolder(path, transform=transform)\n",
    "        # print(path, image_folder.classes)\n",
    "        return DataLoader(image_folder, batch_size=4, shuffle=True, num_workers=4)\n",
    "    \n",
    "    return {phase: get_dataloader(phase) for phase in ['train', 'test', 'valid']}\n",
    "\n",
    "np.random.seed(37)\n",
    "torch.manual_seed(37)\n",
    "torch.backends.cudnn.deterministic = True\n",
    "torch.backends.cudnn.benchmark = False\n",
    "\n",
    "device = torch.device('cuda') if torch.cuda.is_available() else torch.device('cpu')\n",
    "pretrained=True\n",
    "num_classes = 3\n",
    "num_epochs = 5\n",
    "\n",
    "dataloaders = get_dataloaders()\n",
    "\n",
    "model = models.resnet18(pretrained=pretrained)\n",
    "model.fc = nn.Linear(model.fc.in_features, num_classes)\n",
    "model = model.to(device)\n",
    "\n",
    "criterion = nn.CrossEntropyLoss()\n",
    "optimizer = optim.Rprop(model.parameters(), lr=0.01)\n",
    "scheduler = optim.lr_scheduler.StepLR(optimizer, step_size=1)\n",
    "\n",
    "model = train(dataloaders, model, criterion, optimizer, scheduler, device, num_epochs=num_epochs)"
   ]
  },
  {
   "cell_type": "markdown",
   "metadata": {},
   "source": [
    "## Validation"
   ]
  },
  {
   "cell_type": "code",
   "execution_count": 2,
   "metadata": {},
   "outputs": [],
   "source": [
    "import torch.nn.functional as F\n",
    "\n",
    "def validate(model, dataloader):\n",
    "    results = []\n",
    "    truths = []\n",
    "    for inputs, labels in dataloader:\n",
    "        inputs = inputs.to(device)\n",
    "        labels = labels.to(device)\n",
    "\n",
    "        optimizer.zero_grad()\n",
    "\n",
    "        with torch.set_grad_enabled(False):\n",
    "            outputs = model(inputs)\n",
    "            _, preds = torch.max(outputs, 1)\n",
    "            probs = F.softmax(outputs, dim=1).cpu().detach().numpy()\n",
    "            \n",
    "            truths.append(labels.cpu().detach().numpy())\n",
    "            results.append(probs)\n",
    "    return np.vstack(results), np.hstack(truths)\n",
    "            \n",
    "P, y = validate(model, dataloaders['valid'])"
   ]
  },
  {
   "cell_type": "code",
   "execution_count": 3,
   "metadata": {},
   "outputs": [
    {
     "data": {
      "text/plain": [
       "array([[9.95427489e-01, 2.80042086e-03, 1.77205447e-03],\n",
       "       [6.46940432e-03, 8.39662790e-01, 1.53867841e-01],\n",
       "       [9.99933600e-01, 2.45798819e-05, 4.17898591e-05],\n",
       "       [2.04666634e-03, 8.82946327e-02, 9.09658611e-01],\n",
       "       [1.46062784e-02, 4.00329620e-01, 5.85064113e-01],\n",
       "       [2.62125279e-03, 8.85390818e-01, 1.11987874e-01],\n",
       "       [1.83438155e-04, 9.87575114e-01, 1.22414390e-02],\n",
       "       [7.73558335e-04, 9.70833898e-01, 2.83925403e-02],\n",
       "       [2.05767472e-04, 9.97470260e-01, 2.32404866e-03],\n",
       "       [2.29723431e-04, 9.80308533e-01, 1.94617137e-02],\n",
       "       [9.99838233e-01, 1.89518832e-05, 1.42766774e-04],\n",
       "       [9.99995351e-01, 2.79459982e-06, 1.92009225e-06],\n",
       "       [2.27058716e-02, 4.07602906e-01, 5.69691241e-01],\n",
       "       [9.99999523e-01, 2.69666401e-07, 2.13377433e-07],\n",
       "       [1.83530094e-03, 9.62150037e-01, 3.60147059e-02]], dtype=float32)"
      ]
     },
     "execution_count": 3,
     "metadata": {},
     "output_type": "execute_result"
    }
   ],
   "source": [
    "P"
   ]
  },
  {
   "cell_type": "code",
   "execution_count": 4,
   "metadata": {},
   "outputs": [
    {
     "data": {
      "text/plain": [
       "array([0, 1, 0, 2, 1, 2, 1, 2, 2, 2, 0, 0, 1, 0, 1])"
      ]
     },
     "execution_count": 4,
     "metadata": {},
     "output_type": "execute_result"
    }
   ],
   "source": [
    "y"
   ]
  },
  {
   "cell_type": "markdown",
   "metadata": {},
   "source": [
    "### Micro-averaging"
   ]
  },
  {
   "cell_type": "code",
   "execution_count": 5,
   "metadata": {},
   "outputs": [],
   "source": [
    "from sklearn.metrics import roc_curve, auc\n",
    "\n",
    "fpr = dict()\n",
    "tpr = dict()\n",
    "roc_auc = dict()\n",
    "\n",
    "for i in range(num_classes):\n",
    "    fpr[i], tpr[i], _ = roc_curve([1 if label == i else 0 for label in y], P[:, i])\n",
    "    roc_auc[i] = auc(fpr[i], tpr[i])\n",
    "    \n",
    "y_test = np.array([[1 if label == i else 0 for label in y] for i in range(num_classes)]).ravel()\n",
    "y_preds = P.T.ravel()\n",
    "fpr['micro'], tpr['micro'], _ = roc_curve(y_test, y_preds)\n",
    "roc_auc['micro'] = auc(fpr['micro'], tpr['micro'])"
   ]
  },
  {
   "cell_type": "markdown",
   "metadata": {},
   "source": [
    "### Macro-averaging"
   ]
  },
  {
   "cell_type": "code",
   "execution_count": 6,
   "metadata": {},
   "outputs": [],
   "source": [
    "from scipy import interp\n",
    "\n",
    "all_fpr = np.unique(np.concatenate([fpr[i] for i in range(num_classes)]))\n",
    "\n",
    "mean_tpr = np.zeros_like(all_fpr)\n",
    "for i in range(num_classes):\n",
    "    mean_tpr += interp(all_fpr, fpr[i], tpr[i])\n",
    "mean_tpr /= num_classes\n",
    "\n",
    "fpr['macro'], tpr['macro'] = all_fpr, mean_tpr\n",
    "roc_auc['macro'] = auc(fpr['macro'], tpr['macro'])"
   ]
  },
  {
   "cell_type": "markdown",
   "metadata": {},
   "source": [
    "### Visualize"
   ]
  },
  {
   "cell_type": "code",
   "execution_count": 7,
   "metadata": {},
   "outputs": [
    {
     "data": {
      "text/plain": [
       "<matplotlib.legend.Legend at 0x7f39acc7be10>"
      ]
     },
     "execution_count": 7,
     "metadata": {},
     "output_type": "execute_result"
    },
    {
     "data": {
      "image/png": "[encoded data removed]",
      "text/plain": [
       "<Figure size 720x360 with 1 Axes>"
      ]
     },
     "metadata": {
      "needs_background": "light"
     },
     "output_type": "display_data"
    }
   ],
   "source": [
    "%matplotlib inline\n",
    "import matplotlib.pyplot as plt\n",
    "\n",
    "fig, ax = plt.subplots(figsize=(10, 5))\n",
    "ax.plot(fpr['micro'], tpr['micro'], label=f'{roc_auc[\"micro\"]:.2} micro')\n",
    "ax.plot(fpr['macro'], tpr['macro'], label=f'{roc_auc[\"macro\"]:.2} macro')\n",
    "ax.plot([0, 1], [0, 1], 'k--')\n",
    "ax.set_xlim([0, 1.0])\n",
    "ax.set_ylim([0.0, 1.05])\n",
    "ax.legend()"
   ]
  }
 ],
 "metadata": {
  "kernelspec": {
   "display_name": "Python 3",
   "language": "python",
   "name": "python3"
  },
  "language_info": {
   "codemirror_mode": {
    "name": "ipython",
    "version": 3
   },
   "file_extension": ".py",
   "mimetype": "text/x-python",
   "name": "python",
   "nbconvert_exporter": "python",
   "pygments_lexer": "ipython3",
   "version": "3.7.3"
  }
 },
 "nbformat": 4,
 "nbformat_minor": 4
}
