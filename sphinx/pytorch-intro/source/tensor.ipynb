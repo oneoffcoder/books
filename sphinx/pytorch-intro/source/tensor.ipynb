{
 "cells": [
  {
   "cell_type": "markdown",
   "metadata": {},
   "source": [
    "# Tensor"
   ]
  },
  {
   "cell_type": "markdown",
   "metadata": {},
   "source": [
    "## Creation"
   ]
  },
  {
   "cell_type": "code",
   "execution_count": 45,
   "metadata": {},
   "outputs": [
    {
     "name": "stdout",
     "output_type": "stream",
     "text": [
      "a:  tensor([1])\n",
      "b:  tensor([1, 2])\n",
      "c:  tensor([1., 2.])\n",
      "d:  tensor([[1., 2.],\n",
      "        [3., 4.]])\n",
      "e:  tensor([1., 2., 3.])\n",
      "f:  tensor([1., 2.], dtype=torch.float64)\n",
      "g:  tensor([0.])\n",
      "h:  tensor([[0., 0.]])\n",
      "i:  tensor([[0., 0.],\n",
      "        [0., 0.]])\n",
      "j:  tensor([[-4.3562e-38,  4.5768e-41],\n",
      "        [ 2.8082e+17,  3.0908e-41]])\n",
      "k:  tensor([[1., 1.],\n",
      "        [1., 1.]])\n",
      "l:  tensor([0, 1, 2, 3, 4])\n",
      "m:  tensor([0.0000, 0.2500, 0.5000, 0.7500, 1.0000])\n",
      "o:  tensor([ 1.0000,  1.7783,  3.1623,  5.6234, 10.0000])\n",
      "p:  tensor([[1., 0., 0.],\n",
      "        [0., 1., 0.],\n",
      "        [0., 0., 1.]])\n",
      "q:  tensor([[7., 7., 7.],\n",
      "        [7., 7., 7.],\n",
      "        [7., 7., 7.]])\n",
      "r:  tensor([-0.0482, -0.1413])\n",
      "s:  tensor([[ 0.1003,  0.3367],\n",
      "        [-0.1006, -0.2017]])\n",
      "t:  tensor([0.1767, 0.4287])\n",
      "u:  tensor([[0.1576, 0.3804],\n",
      "        [0.6288, 0.3828]])\n"
     ]
    }
   ],
   "source": [
    "import torch\n",
    "import numpy as np\n",
    "\n",
    "# one element\n",
    "a = torch.tensor([1])\n",
    "\n",
    "# two element\n",
    "b = torch.tensor([1, 2])\n",
    "\n",
    "# two float elements\n",
    "c = torch.tensor([1., 2.])\n",
    "\n",
    "# matrix \n",
    "d = torch.tensor([[1., 2.], [3., 4.]])\n",
    "\n",
    "# from python array\n",
    "e = torch.as_tensor([1., 2., 3.], dtype=torch.float32)\n",
    "\n",
    "# from numpy array\n",
    "f = torch.from_numpy(np.array([1.0, 2.0]))\n",
    "\n",
    "# make tensor of zeros\n",
    "g = torch.zeros(1)\n",
    "h = torch.zeros(1, 2)\n",
    "i = torch.zeros(2, 2)\n",
    "\n",
    "# empty tensor\n",
    "j = torch.empty(2, 2)\n",
    "\n",
    "# make tensor ones\n",
    "k = torch.ones(2, 2)\n",
    "\n",
    "# make tensor from range\n",
    "l = torch.arange(start=0, end=5, step=1)\n",
    "\n",
    "# make tensor from line space\n",
    "m = torch.linspace(start=0, end=1, steps=5)\n",
    "\n",
    "# make tensor from log space\n",
    "o = torch.logspace(start=0, end=1, steps=5)\n",
    "\n",
    "# make identity matrix\n",
    "p = torch.eye(n=3, m=3)\n",
    "\n",
    "# matrix whose elements are all same values\n",
    "q = torch.full(size=(3, 3), fill_value=7)\n",
    "\n",
    "# generates 2 random numbers, normal(0, 1)\n",
    "r = torch.randn(2)\n",
    "\n",
    "# generates 2x2 matrix of random numbers, normal(0, 1)\n",
    "s = torch.randn(2, 2)\n",
    "\n",
    "# generates 2 random numbers, uniform [0, 1]\n",
    "t = torch.rand(2)\n",
    "\n",
    "# generates 2x2 random numbers, uniform [0, 1]\n",
    "u = torch.rand(2, 2)\n",
    "\n",
    "print('a: ', a)\n",
    "print('b: ', b)\n",
    "print('c: ', c)\n",
    "print('d: ', d)\n",
    "print('e: ', e)\n",
    "print('f: ', f)\n",
    "print('g: ', g)\n",
    "print('h: ', h)\n",
    "print('i: ', i)\n",
    "print('j: ', j)\n",
    "print('k: ', k)\n",
    "print('l: ', l)\n",
    "print('m: ', m)\n",
    "print('o: ', o)\n",
    "print('p: ', p)\n",
    "print('q: ', q)\n",
    "print('r: ', r)\n",
    "print('s: ', s)\n",
    "print('t: ', t)\n",
    "print('u: ', u)"
   ]
  },
  {
   "cell_type": "markdown",
   "metadata": {},
   "source": [
    "## Indexing, slicing, joining and mutating"
   ]
  },
  {
   "cell_type": "markdown",
   "metadata": {},
   "source": [
    "### Concatenating"
   ]
  },
  {
   "cell_type": "code",
   "execution_count": 50,
   "metadata": {},
   "outputs": [
    {
     "data": {
      "text/plain": [
       "tensor([1., 2., 2., 3.])"
      ]
     },
     "execution_count": 50,
     "metadata": {},
     "output_type": "execute_result"
    }
   ],
   "source": [
    "a = torch.tensor([1., 2.])\n",
    "b = torch.tensor([2., 3.])\n",
    "torch.cat((a, b))"
   ]
  },
  {
   "cell_type": "markdown",
   "metadata": {},
   "source": [
    "### Index selecting"
   ]
  },
  {
   "cell_type": "code",
   "execution_count": 55,
   "metadata": {},
   "outputs": [
    {
     "data": {
      "text/plain": [
       "tensor([[2],\n",
       "        [4]])"
      ]
     },
     "execution_count": 55,
     "metadata": {},
     "output_type": "execute_result"
    }
   ],
   "source": [
    "a = torch.tensor([[1, 2], [3, 4]])\n",
    "i = torch.tensor([1])\n",
    "torch.index_select(a, dim=1, index=i)"
   ]
  },
  {
   "cell_type": "markdown",
   "metadata": {},
   "source": [
    "### Reshaping\n",
    "\n",
    "Some data come as a single array, but you may reshape it into a tensor with different dimensions. "
   ]
  },
  {
   "cell_type": "code",
   "execution_count": 56,
   "metadata": {},
   "outputs": [
    {
     "name": "stdout",
     "output_type": "stream",
     "text": [
      "torch.Size([784])\n",
      "torch.Size([1, 28, 28])\n",
      "torch.Size([1, 28, 28])\n"
     ]
    }
   ],
   "source": [
    "a = torch.rand(784)\n",
    "b = a.view(1, 28, 28)\n",
    "c = a.reshape(1, 28, 28)\n",
    "\n",
    "print(a.shape)\n",
    "print(b.shape)\n",
    "print(c.shape)"
   ]
  },
  {
   "cell_type": "markdown",
   "metadata": {},
   "source": [
    "### Permuting\n",
    "\n",
    "Some data come in `HWC` (height, width, channel) format, but PyTorch needs `CHW` format. Here's how to `permute` the data."
   ]
  },
  {
   "cell_type": "code",
   "execution_count": 57,
   "metadata": {},
   "outputs": [
    {
     "name": "stdout",
     "output_type": "stream",
     "text": [
      "torch.Size([640, 480, 3])\n",
      "torch.Size([3, 640, 480])\n"
     ]
    }
   ],
   "source": [
    "hwc = torch.rand(640, 480, 3)\n",
    "chw = hwc.permute(2, 0, 1)\n",
    "\n",
    "print(hwc.shape)\n",
    "print(chw.shape)"
   ]
  },
  {
   "cell_type": "markdown",
   "metadata": {},
   "source": [
    "### Squeezing\n",
    "\n",
    "Get rid of all the dimensions with `size 1`."
   ]
  },
  {
   "cell_type": "code",
   "execution_count": 60,
   "metadata": {},
   "outputs": [
    {
     "name": "stdout",
     "output_type": "stream",
     "text": [
      "a:  torch.Size([2, 1, 2, 1, 2])\n",
      "b:  torch.Size([2, 2, 2])\n"
     ]
    }
   ],
   "source": [
    "# a 2x1x2x1x2 tensor\n",
    "a = torch.zeros(2, 1, 2, 1, 2)\n",
    "b = torch.squeeze(a)\n",
    "\n",
    "print('a: ', a.shape)\n",
    "print('b: ', b.shape)"
   ]
  },
  {
   "cell_type": "markdown",
   "metadata": {},
   "source": [
    "### Stacking"
   ]
  },
  {
   "cell_type": "code",
   "execution_count": 66,
   "metadata": {},
   "outputs": [
    {
     "name": "stdout",
     "output_type": "stream",
     "text": [
      "c:  torch.Size([2, 1, 2]) :  tensor([[[0., 0.]],\n",
      "\n",
      "        [[0., 0.]]])\n",
      "d:  torch.Size([1, 2, 2]) :  tensor([[[0., 0.],\n",
      "         [0., 0.]]])\n"
     ]
    }
   ],
   "source": [
    "a = torch.zeros(1, 2)\n",
    "b = torch.zeros(1, 2)\n",
    "c = torch.stack([a, b], dim=0)\n",
    "d = torch.stack([a, b], dim=1)\n",
    "\n",
    "print('c: ', c.shape, ': ', c)\n",
    "print('d: ', d.shape, ': ', d)"
   ]
  },
  {
   "cell_type": "code",
   "execution_count": 68,
   "metadata": {},
   "outputs": [
    {
     "name": "stdout",
     "output_type": "stream",
     "text": [
      "a:  torch.Size([2, 3])\n",
      "b:  torch.Size([3, 2])\n"
     ]
    }
   ],
   "source": [
    "a = torch.zeros(2, 3)\n",
    "b = torch.t(a)\n",
    "\n",
    "print('a: ', a.shape)\n",
    "print('b: ', b.shape)"
   ]
  },
  {
   "cell_type": "markdown",
   "metadata": {},
   "source": [
    "### Type conversion"
   ]
  },
  {
   "cell_type": "code",
   "execution_count": 58,
   "metadata": {},
   "outputs": [
    {
     "data": {
      "text/plain": [
       "'torch.FloatTensor'"
      ]
     },
     "execution_count": 58,
     "metadata": {},
     "output_type": "execute_result"
    }
   ],
   "source": [
    "# torch.LongTensor\n",
    "a = torch.tensor([[0, 1], [2, 3]])\n",
    "\n",
    "# torch.FloatTensor\n",
    "b = a.to(dtype=torch.float32)\n",
    "b.type()"
   ]
  },
  {
   "cell_type": "markdown",
   "metadata": {},
   "source": [
    "### Unbinding"
   ]
  },
  {
   "cell_type": "code",
   "execution_count": 69,
   "metadata": {},
   "outputs": [
    {
     "data": {
      "text/plain": [
       "(tensor([0.5438, 0.4313, 0.5042]),\n",
       " tensor([0.8776, 0.5433, 0.4637]),\n",
       " tensor([0.2229, 0.4790, 0.8437]))"
      ]
     },
     "execution_count": 69,
     "metadata": {},
     "output_type": "execute_result"
    }
   ],
   "source": [
    "a = torch.rand(3, 3)\n",
    "b = torch.unbind(a)\n",
    "b"
   ]
  },
  {
   "cell_type": "markdown",
   "metadata": {},
   "source": [
    "### Unsqueeze"
   ]
  },
  {
   "cell_type": "code",
   "execution_count": 73,
   "metadata": {},
   "outputs": [
    {
     "name": "stdout",
     "output_type": "stream",
     "text": [
      "a:  torch.Size([3])\n",
      "b:  torch.Size([1, 3])\n",
      "c:  torch.Size([3, 1])\n"
     ]
    }
   ],
   "source": [
    "a = torch.tensor([1, 2, 3])\n",
    "b = torch.unsqueeze(a, 0)\n",
    "c = torch.unsqueeze(a, 1)\n",
    "\n",
    "print('a: ', a.shape)\n",
    "print('b: ', b.shape)\n",
    "print('c: ', c.shape)"
   ]
  },
  {
   "cell_type": "markdown",
   "metadata": {},
   "source": [
    "### Where"
   ]
  },
  {
   "cell_type": "code",
   "execution_count": 75,
   "metadata": {},
   "outputs": [
    {
     "data": {
      "text/plain": [
       "tensor([[0.4666, 1.0000, 0.8935],\n",
       "        [1.0000, 1.0000, 1.0000],\n",
       "        [1.0000, 1.0000, 1.0000]])"
      ]
     },
     "execution_count": 75,
     "metadata": {},
     "output_type": "execute_result"
    }
   ],
   "source": [
    "a = torch.randn(3, 3)\n",
    "b = torch.ones(3, 3)\n",
    "torch.where(a > 0, a, b)"
   ]
  },
  {
   "cell_type": "markdown",
   "metadata": {},
   "source": [
    "## Random sampling"
   ]
  },
  {
   "cell_type": "code",
   "execution_count": null,
   "metadata": {},
   "outputs": [],
   "source": []
  },
  {
   "cell_type": "markdown",
   "metadata": {},
   "source": [
    "## Math operations"
   ]
  },
  {
   "cell_type": "code",
   "execution_count": 1,
   "metadata": {},
   "outputs": [
    {
     "name": "stdout",
     "output_type": "stream",
     "text": [
      "tensor([3., 5.])\n",
      "tensor([-1., -1.])\n",
      "tensor([2., 6.])\n",
      "tensor([0.5000, 0.6667])\n",
      "tensor(8.)\n"
     ]
    }
   ],
   "source": [
    "a = torch.tensor([1., 2.])\n",
    "b = torch.tensor([2., 3.])\n",
    "\n",
    "c = a + b\n",
    "d = a - b\n",
    "e = a * b\n",
    "f = a / b\n",
    "g = a.dot(b)\n",
    "\n",
    "print(c)\n",
    "print(d)\n",
    "print(e)\n",
    "print(f)\n",
    "print(g)"
   ]
  },
  {
   "cell_type": "code",
   "execution_count": 2,
   "metadata": {},
   "outputs": [
    {
     "name": "stdout",
     "output_type": "stream",
     "text": [
      "tensor([[2, 4],\n",
      "        [6, 8]])\n",
      "tensor([[0, 0],\n",
      "        [0, 0]])\n",
      "tensor([[ 1,  4],\n",
      "        [ 9, 16]])\n",
      "tensor([[1, 1],\n",
      "        [1, 1]])\n",
      "tensor(8.)\n"
     ]
    }
   ],
   "source": [
    "a = torch.tensor([[1, 2], [3, 4]])\n",
    "b = torch.tensor([[1, 2], [3, 4]])\n",
    "\n",
    "c = a + b\n",
    "d = a - b\n",
    "e = a * b\n",
    "f = a / b\n",
    "\n",
    "print(c)\n",
    "print(d)\n",
    "print(e)\n",
    "print(f)\n",
    "print(g)"
   ]
  },
  {
   "cell_type": "markdown",
   "metadata": {},
   "source": [
    "## Getting min and max values"
   ]
  },
  {
   "cell_type": "code",
   "execution_count": 7,
   "metadata": {},
   "outputs": [
    {
     "data": {
      "text/plain": [
       "0.1018722653388977"
      ]
     },
     "execution_count": 7,
     "metadata": {},
     "output_type": "execute_result"
    }
   ],
   "source": [
    "a = torch.rand(10)\n",
    "a.min().item()"
   ]
  },
  {
   "cell_type": "code",
   "execution_count": 8,
   "metadata": {},
   "outputs": [
    {
     "data": {
      "text/plain": [
       "0.984703004360199"
      ]
     },
     "execution_count": 8,
     "metadata": {},
     "output_type": "execute_result"
    }
   ],
   "source": [
    "a = torch.rand(10)\n",
    "a.max().item()"
   ]
  },
  {
   "cell_type": "markdown",
   "metadata": {},
   "source": [
    "## Device-agnostic code"
   ]
  },
  {
   "cell_type": "code",
   "execution_count": 12,
   "metadata": {},
   "outputs": [
    {
     "name": "stdout",
     "output_type": "stream",
     "text": [
      "device = cuda\n",
      "tensor(10, device='cuda:0')\n",
      "tensor([0.8639, 0.6796], device='cuda:0')\n"
     ]
    }
   ],
   "source": [
    "device = torch.device('cuda') if torch.cuda.is_available() else torch.device('cpu')\n",
    "print(f'device = {device}')\n",
    "\n",
    "a = torch.tensor(10, device=device)\n",
    "b = torch.rand(2, device=device)\n",
    "\n",
    "print(a)\n",
    "print(b)"
   ]
  }
 ],
 "metadata": {
  "kernelspec": {
   "display_name": "Python 3",
   "language": "python",
   "name": "python3"
  },
  "language_info": {
   "codemirror_mode": {
    "name": "ipython",
    "version": 3
   },
   "file_extension": ".py",
   "mimetype": "text/x-python",
   "name": "python",
   "nbconvert_exporter": "python",
   "pygments_lexer": "ipython3",
   "version": "3.7.3"
  }
 },
 "nbformat": 4,
 "nbformat_minor": 4
}
