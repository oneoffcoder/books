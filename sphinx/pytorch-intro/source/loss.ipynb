{
 "cells": [
  {
   "cell_type": "markdown",
   "metadata": {},
   "source": [
    "# Loss function"
   ]
  },
  {
   "cell_type": "markdown",
   "metadata": {},
   "source": [
    "## L1\n",
    "\n",
    "Computes the mean absolute error."
   ]
  },
  {
   "cell_type": "code",
   "execution_count": 1,
   "metadata": {},
   "outputs": [
    {
     "name": "stdout",
     "output_type": "stream",
     "text": [
      "outputs:  tensor([[0.9000, 0.8000, 0.7000]], requires_grad=True)\n",
      "labels:  tensor([[1.0000, 0.9000, 0.8000]])\n",
      "loss:  tensor(0.1000, grad_fn=<L1LossBackward>)\n"
     ]
    }
   ],
   "source": [
    "import torch\n",
    "import torch.nn as nn\n",
    "\n",
    "criterion = nn.L1Loss()\n",
    "\n",
    "outputs = torch.tensor([[0.9, 0.8, 0.7]], requires_grad=True)\n",
    "labels = torch.tensor([[1.0, 0.9, 0.8]], dtype=torch.float)\n",
    "loss = criterion(outputs, labels)\n",
    "\n",
    "print('outputs: ', outputs)\n",
    "print('labels: ', labels)\n",
    "print('loss: ', loss)"
   ]
  },
  {
   "cell_type": "markdown",
   "metadata": {},
   "source": [
    "## Smooth L1"
   ]
  },
  {
   "cell_type": "code",
   "execution_count": 2,
   "metadata": {},
   "outputs": [
    {
     "name": "stdout",
     "output_type": "stream",
     "text": [
      "outputs:  tensor([[0.9000, 0.8000, 0.7000]], requires_grad=True)\n",
      "labels:  tensor([[1.0000, 0.9000, 0.8000]])\n",
      "loss:  tensor(0.0050, grad_fn=<SmoothL1LossBackward>)\n"
     ]
    }
   ],
   "source": [
    "import torch\n",
    "import torch.nn as nn\n",
    "\n",
    "criterion = nn.SmoothL1Loss()\n",
    "\n",
    "outputs = torch.tensor([[0.9, 0.8, 0.7]], requires_grad=True)\n",
    "labels = torch.tensor([[1.0, 0.9, 0.8]], dtype=torch.float)\n",
    "loss = criterion(outputs, labels)\n",
    "\n",
    "print('outputs: ', outputs)\n",
    "print('labels: ', labels)\n",
    "print('loss: ', loss)"
   ]
  },
  {
   "cell_type": "markdown",
   "metadata": {},
   "source": [
    "## Mean-Squared Error"
   ]
  },
  {
   "cell_type": "code",
   "execution_count": 3,
   "metadata": {},
   "outputs": [
    {
     "name": "stdout",
     "output_type": "stream",
     "text": [
      "outputs:  tensor([[0.9000, 0.8000, 0.7000]], requires_grad=True)\n",
      "labels:  tensor([[1.0000, 0.9000, 0.8000]])\n",
      "loss:  tensor(0.0100, grad_fn=<MseLossBackward>)\n"
     ]
    }
   ],
   "source": [
    "criterion = nn.MSELoss()\n",
    "\n",
    "outputs = torch.tensor([[0.9, 0.8, 0.7]], requires_grad=True)\n",
    "labels = torch.tensor([[1.0, 0.9, 0.8]], dtype=torch.float)\n",
    "loss = criterion(outputs, labels)\n",
    "\n",
    "print('outputs: ', outputs)\n",
    "print('labels: ', labels)\n",
    "print('loss: ', loss)"
   ]
  },
  {
   "cell_type": "markdown",
   "metadata": {},
   "source": [
    "## Cross-Entropy"
   ]
  },
  {
   "cell_type": "code",
   "execution_count": 4,
   "metadata": {},
   "outputs": [
    {
     "name": "stdout",
     "output_type": "stream",
     "text": [
      "outputs:  tensor([[-0.1054, -0.2231, -0.3567]], requires_grad=True)\n",
      "labels:  tensor([0])\n",
      "loss:  tensor(0.9808, grad_fn=<NllLossBackward>)\n"
     ]
    }
   ],
   "source": [
    "import math\n",
    "\n",
    "criterion = nn.CrossEntropyLoss()\n",
    "\n",
    "probs = [math.log(p) for p in [0.9, 0.8, 0.7]]\n",
    "outputs = torch.tensor([probs], requires_grad=True)\n",
    "labels = torch.tensor([0], dtype=torch.long)\n",
    "loss = criterion(outputs, labels)\n",
    "\n",
    "print('outputs: ', outputs)\n",
    "print('labels: ', labels)\n",
    "print('loss: ', loss)"
   ]
  },
  {
   "cell_type": "markdown",
   "metadata": {},
   "source": [
    "## Negative Log-Likelihood"
   ]
  },
  {
   "cell_type": "code",
   "execution_count": 5,
   "metadata": {},
   "outputs": [
    {
     "name": "stdout",
     "output_type": "stream",
     "text": [
      "outputs:  tensor([[-0.1054, -0.2231, -0.3567]], requires_grad=True)\n",
      "labels:  tensor([0])\n",
      "loss:  tensor(0.1054, grad_fn=<NllLossBackward>)\n"
     ]
    }
   ],
   "source": [
    "criterion = nn.NLLLoss()\n",
    "\n",
    "probs = [math.log(p) for p in [0.9, 0.8, 0.7]]\n",
    "outputs = torch.tensor([probs], requires_grad=True)\n",
    "labels = torch.tensor([0], dtype=torch.long)\n",
    "loss = criterion(outputs, labels)\n",
    "\n",
    "print('outputs: ', outputs)\n",
    "print('labels: ', labels)\n",
    "print('loss: ', loss)"
   ]
  },
  {
   "cell_type": "markdown",
   "metadata": {},
   "source": [
    "## Poisson Negative Log-Likelihood"
   ]
  },
  {
   "cell_type": "code",
   "execution_count": 6,
   "metadata": {},
   "outputs": [
    {
     "name": "stdout",
     "output_type": "stream",
     "text": [
      "outputs:  tensor([[-0.1054, -0.2231, -0.3567]], requires_grad=True)\n",
      "labels:  tensor([0])\n",
      "loss:  tensor(0.8000, grad_fn=<MeanBackward0>)\n"
     ]
    }
   ],
   "source": [
    "criterion = nn.PoissonNLLLoss()\n",
    "\n",
    "probs = [math.log(p) for p in [0.9, 0.8, 0.7]]\n",
    "outputs = torch.tensor([probs], requires_grad=True)\n",
    "labels = torch.tensor([0], dtype=torch.long)\n",
    "loss = criterion(outputs, labels)\n",
    "\n",
    "print('outputs: ', outputs)\n",
    "print('labels: ', labels)\n",
    "print('loss: ', loss)"
   ]
  },
  {
   "cell_type": "markdown",
   "metadata": {},
   "source": [
    "## Kullback-Leibler Divergence"
   ]
  },
  {
   "cell_type": "code",
   "execution_count": 7,
   "metadata": {},
   "outputs": [
    {
     "name": "stdout",
     "output_type": "stream",
     "text": [
      "outputs:  tensor([[-0.1054, -0.2231, -0.3567]], requires_grad=True)\n",
      "labels:  tensor([0.])\n",
      "loss:  tensor(0., grad_fn=<DivBackward0>)\n"
     ]
    }
   ],
   "source": [
    "criterion = nn.KLDivLoss(reduction='batchmean')\n",
    "\n",
    "probs = [math.log(p) for p in [0.9, 0.8, 0.7]]\n",
    "outputs = torch.tensor([probs], requires_grad=True)\n",
    "labels = torch.tensor([0], dtype=torch.float)\n",
    "loss = criterion(outputs, labels)\n",
    "\n",
    "print('outputs: ', outputs)\n",
    "print('labels: ', labels)\n",
    "print('loss: ', loss)"
   ]
  },
  {
   "cell_type": "markdown",
   "metadata": {},
   "source": [
    "## Binary Cross-Entropy"
   ]
  },
  {
   "cell_type": "code",
   "execution_count": 8,
   "metadata": {},
   "outputs": [
    {
     "name": "stdout",
     "output_type": "stream",
     "text": [
      "outputs:  tensor([[-0.1054, -0.2231, -0.3567]], requires_grad=True)\n",
      "labels:  tensor([[0.9000, 0.8000, 0.7000]])\n",
      "loss:  tensor(0.7611, grad_fn=<BinaryCrossEntropyBackward>)\n"
     ]
    }
   ],
   "source": [
    "sigmoid = nn.Sigmoid()\n",
    "criterion = nn.BCELoss()\n",
    "\n",
    "probs = [math.log(p) for p in [0.9, 0.8, 0.7]]\n",
    "outputs = torch.tensor([probs], requires_grad=True)\n",
    "labels = torch.tensor([[0.9, 0.8, 0.7]], dtype=torch.float)\n",
    "loss = criterion(sigmoid(outputs), labels)\n",
    "\n",
    "print('outputs: ', outputs)\n",
    "print('labels: ', labels)\n",
    "print('loss: ', loss)"
   ]
  },
  {
   "cell_type": "markdown",
   "metadata": {},
   "source": [
    "## Binary Cross-Entropy with Logits"
   ]
  },
  {
   "cell_type": "code",
   "execution_count": 9,
   "metadata": {},
   "outputs": [
    {
     "name": "stdout",
     "output_type": "stream",
     "text": [
      "outputs:  tensor([[-0.1054, -0.2231, -0.3567]], requires_grad=True)\n",
      "labels:  tensor([[0.9000, 0.8000, 0.7000]])\n",
      "loss:  tensor(0.7611, grad_fn=<BinaryCrossEntropyWithLogitsBackward>)\n"
     ]
    }
   ],
   "source": [
    "criterion = nn.BCEWithLogitsLoss()\n",
    "\n",
    "probs = [math.log(p) for p in [0.9, 0.8, 0.7]]\n",
    "outputs = torch.tensor([probs], requires_grad=True)\n",
    "labels = torch.tensor([[0.9, 0.8, 0.7]], dtype=torch.float)\n",
    "loss = criterion(outputs, labels)\n",
    "\n",
    "print('outputs: ', outputs)\n",
    "print('labels: ', labels)\n",
    "print('loss: ', loss)"
   ]
  },
  {
   "cell_type": "markdown",
   "metadata": {},
   "source": [
    "## Margin Ranking"
   ]
  },
  {
   "cell_type": "code",
   "execution_count": 10,
   "metadata": {},
   "outputs": [
    {
     "data": {
      "text/plain": [
       "tensor(0.0333)"
      ]
     },
     "execution_count": 10,
     "metadata": {},
     "output_type": "execute_result"
    }
   ],
   "source": [
    "criterion = nn.MarginRankingLoss()\n",
    "\n",
    "x1 = torch.tensor([[0.5, 0.5, 0.5]])\n",
    "x2 = torch.tensor([[0.4, 0.6, 0.3]])\n",
    "y = torch.tensor([[1]])\n",
    "\n",
    "criterion(x1, x2, y)"
   ]
  },
  {
   "cell_type": "code",
   "execution_count": 11,
   "metadata": {},
   "outputs": [
    {
     "data": {
      "text/plain": [
       "tensor(0.1000)"
      ]
     },
     "execution_count": 11,
     "metadata": {},
     "output_type": "execute_result"
    }
   ],
   "source": [
    "criterion = nn.MarginRankingLoss()\n",
    "\n",
    "x1 = torch.tensor([[0.5, 0.5, 0.5]])\n",
    "x2 = torch.tensor([[0.4, 0.6, 0.3]])\n",
    "y = torch.tensor([[-1]])\n",
    "\n",
    "criterion(x1, x2, y)"
   ]
  },
  {
   "cell_type": "markdown",
   "metadata": {},
   "source": [
    "## Soft Margin"
   ]
  },
  {
   "cell_type": "code",
   "execution_count": 12,
   "metadata": {},
   "outputs": [
    {
     "data": {
      "text/plain": [
       "tensor(0.5912)"
      ]
     },
     "execution_count": 12,
     "metadata": {},
     "output_type": "execute_result"
    }
   ],
   "source": [
    "criterion = nn.SoftMarginLoss()\n",
    "\n",
    "x1 = torch.tensor([[0.5, 0.5, 0.5]])\n",
    "x2 = torch.tensor([[0.4, 0.6, 0.3]])\n",
    "\n",
    "criterion(x1, x2)"
   ]
  }
 ],
 "metadata": {
  "kernelspec": {
   "display_name": "Python 3",
   "language": "python",
   "name": "python3"
  },
  "language_info": {
   "codemirror_mode": {
    "name": "ipython",
    "version": 3
   },
   "file_extension": ".py",
   "mimetype": "text/x-python",
   "name": "python",
   "nbconvert_exporter": "python",
   "pygments_lexer": "ipython3",
   "version": "3.7.3"
  }
 },
 "nbformat": 4,
 "nbformat_minor": 4
}
