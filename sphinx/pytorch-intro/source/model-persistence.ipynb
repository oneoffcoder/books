{
 "cells": [
  {
   "cell_type": "markdown",
   "metadata": {},
   "source": [
    "# Saving and Loading Models"
   ]
  },
  {
   "cell_type": "code",
   "execution_count": 1,
   "metadata": {},
   "outputs": [
    {
     "name": "stdout",
     "output_type": "stream",
     "text": [
<<<<<<< HEAD
      "epoch 0/20 : 1.18291, 0.66667\n",
      "epoch 1/20 : 1.89373, 0.56667\n",
      "epoch 2/20 : 0.41106, 0.80000\n",
      "epoch 3/20 : 0.09141, 0.96667\n",
      "epoch 4/20 : 0.09910, 0.96667\n",
      "epoch 5/20 : 0.08258, 0.96667\n",
      "epoch 6/20 : 0.06175, 0.96667\n",
      "epoch 7/20 : 0.34240, 0.86667\n",
      "epoch 8/20 : 0.03592, 1.00000\n",
      "epoch 9/20 : 0.15507, 0.93333\n",
      "epoch 10/20 : 0.40221, 0.96667\n",
      "epoch 11/20 : 0.07072, 0.96667\n",
      "epoch 12/20 : 0.44840, 0.93333\n",
      "epoch 13/20 : 0.01021, 1.00000\n",
      "epoch 14/20 : 0.00262, 1.00000\n",
      "epoch 15/20 : 0.00727, 1.00000\n",
      "epoch 16/20 : 0.00639, 1.00000\n",
      "epoch 17/20 : 0.05421, 0.96667\n",
      "epoch 18/20 : 0.03431, 1.00000\n",
      "epoch 19/20 : 0.00771, 1.00000\n"
=======
      "epoch 0/1 : 1.33991, 0.56667\n"
>>>>>>> ceec1fc0430cbd567b9e4df12c0da6e0a79bb78e
     ]
    }
   ],
   "source": [
    "from torchvision import datasets, models, transforms\n",
    "import torch.optim as optim\n",
    "import torch.nn as nn\n",
    "from torchvision.transforms import *\n",
    "from torch.utils.data import DataLoader\n",
    "import torch\n",
    "import numpy as np\n",
    "\n",
    "def train(dataloader, model, criterion, optimizer, scheduler, num_epochs=20):\n",
    "    for epoch in range(num_epochs):\n",
    "        optimizer.step()\n",
    "        scheduler.step()\n",
    "        model.train()\n",
    "\n",
    "        running_loss = 0.0\n",
    "        running_corrects = 0\n",
    "\n",
    "        n = 0\n",
    "        for inputs, labels in dataloader:\n",
    "            inputs = inputs.to(device)\n",
    "            labels = labels.to(device)\n",
    "\n",
    "            optimizer.zero_grad()\n",
    "\n",
    "            with torch.set_grad_enabled(True):\n",
    "                outputs = model(inputs)\n",
    "                loss = criterion(outputs, labels)\n",
    "                _, preds = torch.max(outputs, 1)\n",
    "\n",
    "                loss.backward()\n",
    "                optimizer.step()\n",
    "\n",
    "            running_loss += loss.item() * inputs.size(0)\n",
    "            running_corrects += torch.sum(preds == labels.data)\n",
    "            n += len(labels)\n",
    "\n",
    "        epoch_loss = running_loss / float(n)\n",
    "        epoch_acc = running_corrects.double() / float(n)\n",
    "\n",
    "        print(f'epoch {epoch}/{num_epochs} : {epoch_loss:.5f}, {epoch_acc:.5f}')\n",
    "\n",
    "np.random.seed(37)\n",
    "torch.manual_seed(37)\n",
    "torch.backends.cudnn.deterministic = True\n",
    "torch.backends.cudnn.benchmark = False\n",
    "\n",
    "device = torch.device('cuda') if torch.cuda.is_available() else torch.device('cpu')\n",
    "pretrained=True\n",
    "num_classes = 3\n",
<<<<<<< HEAD
    "num_epochs = 20\n",
=======
    "num_epochs = 1\n",
>>>>>>> ceec1fc0430cbd567b9e4df12c0da6e0a79bb78e
    "\n",
    "transform = transforms.Compose([Resize(224), ToTensor()])\n",
    "image_folder = datasets.ImageFolder('./shapes/train', transform=transform)\n",
    "dataloader = DataLoader(image_folder, batch_size=4, shuffle=True, num_workers=4)\n",
    "\n",
    "model = models.resnet18(pretrained=pretrained)\n",
    "model.fc = nn.Linear(model.fc.in_features, num_classes)\n",
    "model = model.to(device)\n",
    "\n",
    "criterion = nn.CrossEntropyLoss()\n",
    "optimizer = optim.Rprop(model.parameters(), lr=0.01)\n",
    "scheduler = optim.lr_scheduler.StepLR(optimizer, step_size=1)\n",
    "\n",
    "train(dataloader, model, criterion, optimizer, scheduler, num_epochs=num_epochs)"
   ]
  },
  {
   "cell_type": "markdown",
   "metadata": {},
   "source": [
    "## Saving"
   ]
  },
  {
   "cell_type": "markdown",
   "metadata": {},
   "source": [
    "### Saving just the model"
   ]
  },
  {
   "cell_type": "code",
   "execution_count": 2,
   "metadata": {},
   "outputs": [],
   "source": [
    "torch.save(model.state_dict(), './output/resnet18-model.pt')"
   ]
  },
  {
   "cell_type": "markdown",
   "metadata": {},
   "source": [
    "### Saving for later training "
   ]
  },
  {
   "cell_type": "code",
   "execution_count": 3,
   "metadata": {},
   "outputs": [],
   "source": [
    "torch.save({\n",
    "    'model_state_dict': model.state_dict(),\n",
    "    'criterion_state_dict': criterion.state_dict(),\n",
    "    'optimizer_state_dict': optimizer.state_dict(),\n",
    "    'scheduler_state_dict': scheduler.state_dict()\n",
    "}, './output/resnet18-checkpoint.pt')"
   ]
  },
  {
   "cell_type": "markdown",
   "metadata": {},
   "source": [
    "## Loading"
   ]
  },
  {
   "cell_type": "markdown",
   "metadata": {},
   "source": [
    "### Loading just the model"
   ]
  },
  {
   "cell_type": "code",
   "execution_count": 4,
   "metadata": {},
   "outputs": [
    {
     "data": {
      "text/plain": [
       "<All keys matched successfully>"
      ]
     },
     "execution_count": 4,
     "metadata": {},
     "output_type": "execute_result"
    }
   ],
   "source": [
    "model = models.resnet18(pretrained=pretrained)\n",
    "model.fc = nn.Linear(model.fc.in_features, num_classes)\n",
    "model = model.to(device)\n",
    "\n",
    "model.load_state_dict(torch.load('./output/resnet18-model.pt', map_location=device))"
   ]
  },
  {
   "cell_type": "markdown",
   "metadata": {},
   "source": [
    "### Loading for training continuation"
   ]
  },
  {
   "cell_type": "code",
   "execution_count": 5,
   "metadata": {},
   "outputs": [
    {
     "name": "stdout",
     "output_type": "stream",
     "text": [
<<<<<<< HEAD
      "epoch 0/20 : 0.14301, 0.96667\n",
      "epoch 1/20 : 0.00260, 1.00000\n",
      "epoch 2/20 : 2.75971, 0.76667\n",
      "epoch 3/20 : 0.19595, 0.96667\n",
      "epoch 4/20 : 0.11255, 0.96667\n",
      "epoch 5/20 : 0.24430, 0.96667\n",
      "epoch 6/20 : 0.49671, 0.93333\n",
      "epoch 7/20 : 0.49788, 0.90000\n",
      "epoch 8/20 : 0.44765, 0.86667\n",
      "epoch 9/20 : 0.03913, 0.96667\n",
      "epoch 10/20 : 0.01076, 1.00000\n",
      "epoch 11/20 : 10.49290, 0.83333\n",
      "epoch 12/20 : 0.03003, 0.96667\n",
      "epoch 13/20 : 0.22657, 0.96667\n",
      "epoch 14/20 : 0.00002, 1.00000\n",
      "epoch 15/20 : 0.00087, 1.00000\n",
      "epoch 16/20 : 0.20941, 0.96667\n",
      "epoch 17/20 : 0.00000, 1.00000\n",
      "epoch 18/20 : 12.09500, 0.76667\n",
      "epoch 19/20 : 0.02187, 1.00000\n"
=======
      "epoch 0/1 : 1.15593, 0.53333\n"
>>>>>>> ceec1fc0430cbd567b9e4df12c0da6e0a79bb78e
     ]
    }
   ],
   "source": [
    "checkpoint = torch.load('./output/resnet18-checkpoint.pt', map_location=device)\n",
    "\n",
    "model = models.resnet18(pretrained=pretrained)\n",
    "model.fc = nn.Linear(model.fc.in_features, num_classes)\n",
    "model = model.to(device)\n",
    "\n",
    "criterion = nn.CrossEntropyLoss()\n",
    "optimizer = optim.Rprop(model.parameters(), lr=0.01)\n",
    "scheduler = optim.lr_scheduler.StepLR(optimizer, step_size=1)\n",
    "\n",
    "model.load_state_dict(checkpoint['model_state_dict'])\n",
    "criterion.load_state_dict(checkpoint['criterion_state_dict'])\n",
    "optimizer.load_state_dict(checkpoint['optimizer_state_dict'])\n",
    "scheduler.load_state_dict(checkpoint['scheduler_state_dict'])\n",
    "\n",
    "train(dataloader, model, criterion, optimizer, scheduler, num_epochs=num_epochs)"
   ]
  }
 ],
 "metadata": {
  "kernelspec": {
   "display_name": "Python 3",
   "language": "python",
   "name": "python3"
  },
  "language_info": {
   "codemirror_mode": {
    "name": "ipython",
    "version": 3
   },
   "file_extension": ".py",
   "mimetype": "text/x-python",
   "name": "python",
   "nbconvert_exporter": "python",
   "pygments_lexer": "ipython3",
   "version": "3.7.3"
  }
 },
 "nbformat": 4,
 "nbformat_minor": 4
}
