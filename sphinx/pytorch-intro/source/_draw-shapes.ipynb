{
 "cells": [
  {
   "cell_type": "code",
   "execution_count": 2,
   "metadata": {},
   "outputs": [],
   "source": [
    "import numpy as np\n",
    "import matplotlib.pyplot as plt\n",
    "from matplotlib.patches import *\n",
    "import pathlib\n",
    "import os\n",
    "\n",
    "np.random.seed(37)\n",
    "\n",
    "def get_xy(max_h=1.0, max_w=1.0):\n",
    "    x = np.random.uniform(low=0.2, high=0.8)\n",
    "    y = np.random.uniform(low=0.2, high=0.8)\n",
    "    return x, y\n",
    "\n",
    "def get_radius(r_max=0.1):\n",
    "    return np.random.uniform(low=0.05, high=r_max)\n",
    "\n",
    "def get_height(h_max=0.4):\n",
    "    return np.random.uniform(low=0.1, high=h_max)\n",
    "\n",
    "def get_width(h_max=0.4):\n",
    "    return np.random.uniform(low=0.1, high=h_max)\n",
    "\n",
    "def get_color():\n",
    "    return np.random.choice(['b', 'g', 'r', 'c', 'm', 'y', 'k'])\n",
    "\n",
    "def get_circle():\n",
    "    return Circle(**{\n",
    "        'xy': get_xy(), \n",
    "        'radius': get_radius(),\n",
    "        'fc': get_color()\n",
    "    })\n",
    "\n",
    "def get_rect():\n",
    "    return Rectangle(**{\n",
    "        'xy': get_xy(), \n",
    "        'width': get_width(), \n",
    "        'height': get_height(), \n",
    "        'fc': get_color()\n",
    "    })\n",
    "\n",
    "def get_poly():\n",
    "    return RegularPolygon(**{\n",
    "        'xy': get_xy(), \n",
    "        'numVertices': 3, \n",
    "        'radius': get_radius(),\n",
    "        'fc': get_color()\n",
    "    })\n",
    "\n",
    "def get_plot(width=2, height=2):\n",
    "    fig = plt.figure()\n",
    "    fig.set_size_inches(width, height)\n",
    "    \n",
    "    ax = plt.Axes(fig, [0., 0., 1., 1.])\n",
    "    ax.set_axis_off()\n",
    "    fig.add_axes(ax)\n",
    "    \n",
    "    return fig, ax\n",
    "\n",
    "def do_plot(func, shape, f=0, d='./shapes', s='train'):\n",
    "    fig, ax = get_plot()\n",
    "    ax.add_artist(func())\n",
    "    \n",
    "    file = str(f).zfill(4)\n",
    "    path = f'{d}/{s}/{shape}/{file}.jpg'\n",
    "    fig.savefig(path, quality=100, optimize=True)\n",
    "    \n",
    "    plt.clf()\n",
    "    ax.clear()\n",
    "    plt.close()"
   ]
  },
  {
   "cell_type": "code",
   "execution_count": 3,
   "metadata": {},
   "outputs": [],
   "source": [
    "jpg_files = pathlib.Path('./shapes').glob('**/*.jpg')\n",
    "for f in jpg_files:\n",
    "    os.remove(f)"
   ]
  },
  {
   "cell_type": "code",
   "execution_count": 4,
   "metadata": {},
   "outputs": [],
   "source": [
    "counter = 0\n",
    "for s, m in zip(['train', 'test', 'valid'], [10, 5, 5]):\n",
    "    for shape, func in zip(['circle', 'poly', 'rect'], [get_circle, get_poly, get_rect]):\n",
    "        for _ in range(m):\n",
    "            do_plot(func=func, shape=shape, f=counter, s=s)\n",
    "            counter += 1"
   ]
  },
  {
   "cell_type": "code",
   "execution_count": 7,
   "metadata": {},
   "outputs": [],
   "source": [
    "jpg_files = list(pathlib.Path('./shapes').glob('**/*.jpg'))\n",
    "for f in jpg_files:\n",
    "    if '.ipynb_checkpoints' in f.parts:\n",
    "        print(f)\n",
    "        os.remove(f)"
   ]
  },
  {
   "cell_type": "code",
   "execution_count": null,
   "metadata": {},
   "outputs": [],
   "source": []
  }
 ],
 "metadata": {
  "kernelspec": {
   "display_name": "Python 3",
   "language": "python",
   "name": "python3"
  },
  "language_info": {
   "codemirror_mode": {
    "name": "ipython",
    "version": 3
   },
   "file_extension": ".py",
   "mimetype": "text/x-python",
   "name": "python",
   "nbconvert_exporter": "python",
   "pygments_lexer": "ipython3",
   "version": "3.7.3"
  }
 },
 "nbformat": 4,
 "nbformat_minor": 4
}
