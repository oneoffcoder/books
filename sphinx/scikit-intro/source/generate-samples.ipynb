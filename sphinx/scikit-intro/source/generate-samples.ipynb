{
 "cells": [
  {
   "cell_type": "markdown",
   "metadata": {},
   "source": [
    "# Generating samples"
   ]
  },
  {
   "cell_type": "markdown",
   "metadata": {},
   "source": [
    "## Generating data for regression"
   ]
  },
  {
   "cell_type": "code",
   "execution_count": 1,
   "metadata": {},
   "outputs": [
    {
     "name": "stdout",
     "output_type": "stream",
     "text": [
      "X shape = (1000, 50), y shape (1000,)\n"
     ]
    }
   ],
   "source": [
    "from sklearn.datasets import make_regression\n",
    "\n",
    "X, y = make_regression(**{\n",
    "    'n_samples': 1000, \n",
    "    'n_features': 50, \n",
    "    'n_informative': 10, \n",
    "    'n_targets': 1, \n",
    "    'bias': 5.3, \n",
    "    'random_state': 37\n",
    "})\n",
    "\n",
    "print(f'X shape = {X.shape}, y shape {y.shape}')"
   ]
  },
  {
   "cell_type": "code",
   "execution_count": 2,
   "metadata": {},
   "outputs": [
    {
     "data": {
      "text/plain": [
       "0.9997115301602587"
      ]
     },
     "execution_count": 2,
     "metadata": {},
     "output_type": "execute_result"
    }
   ],
   "source": [
    "from sklearn.linear_model import Lasso\n",
    "from sklearn.metrics import explained_variance_score\n",
    "\n",
    "lasso = Lasso()\n",
    "lasso.fit(X, y)\n",
    "\n",
    "explained_variance_score(y, lasso.predict(X))"
   ]
  },
  {
   "cell_type": "markdown",
   "metadata": {},
   "source": [
    "## Generating data for classification"
   ]
  },
  {
   "cell_type": "code",
   "execution_count": 3,
   "metadata": {},
   "outputs": [
    {
     "name": "stdout",
     "output_type": "stream",
     "text": [
      "X shape = (2000, 20), y shape (2000,)\n"
     ]
    }
   ],
   "source": [
    "from sklearn.datasets import make_classification\n",
    "\n",
    "X, y = make_classification(**{\n",
    "    'n_samples': 2000, \n",
    "    'n_features': 20, \n",
    "    'n_informative': 2, \n",
    "    'n_redundant': 2, \n",
    "    'n_repeated': 0, \n",
    "    'n_classes': 2, \n",
    "    'n_clusters_per_class': 2, \n",
    "    'random_state': 37\n",
    "})\n",
    "\n",
    "print(f'X shape = {X.shape}, y shape {y.shape}')"
   ]
  },
  {
   "cell_type": "code",
   "execution_count": 4,
   "metadata": {},
   "outputs": [
    {
     "data": {
      "text/plain": [
       "0.9585334585334585"
      ]
     },
     "execution_count": 4,
     "metadata": {},
     "output_type": "execute_result"
    }
   ],
   "source": [
    "from sklearn.ensemble import RandomForestClassifier\n",
    "from sklearn.metrics import roc_auc_score\n",
    "\n",
    "rf = RandomForestClassifier(n_estimators=2)\n",
    "rf.fit(X, y)\n",
    "\n",
    "roc_auc_score(y, rf.predict(X))"
   ]
  },
  {
   "cell_type": "markdown",
   "metadata": {},
   "source": [
    "## Generating data for multilabel classification"
   ]
  },
  {
   "cell_type": "code",
   "execution_count": 5,
   "metadata": {},
   "outputs": [
    {
     "name": "stdout",
     "output_type": "stream",
     "text": [
      "X shape = (2000, 20), Y shape (2000, 5)\n"
     ]
    }
   ],
   "source": [
    "from sklearn.datasets import make_multilabel_classification\n",
    "\n",
    "X, Y = make_multilabel_classification(**{\n",
    "    'n_samples': 2000, \n",
    "    'n_features': 20, \n",
    "    'n_classes': 5, \n",
    "    'n_labels': 2, \n",
    "    'length': 50, \n",
    "    'allow_unlabeled': False, \n",
    "    'sparse': False, \n",
    "    'return_indicator': 'dense', \n",
    "    'return_distributions': False, \n",
    "    'random_state': 37\n",
    "})\n",
    "\n",
    "print(f'X shape = {X.shape}, Y shape {Y.shape}')"
   ]
  },
  {
   "cell_type": "code",
   "execution_count": 6,
   "metadata": {},
   "outputs": [
    {
     "data": {
      "text/plain": [
       "0.8600929093307099"
      ]
     },
     "execution_count": 6,
     "metadata": {},
     "output_type": "execute_result"
    }
   ],
   "source": [
    "from sklearn.ensemble import RandomForestClassifier\n",
    "from sklearn.metrics import roc_auc_score\n",
    "\n",
    "rf = RandomForestClassifier(n_estimators=2)\n",
    "rf.fit(X, Y)\n",
    "\n",
    "roc_auc_score(Y, rf.predict(X))"
   ]
  },
  {
   "cell_type": "code",
   "execution_count": 7,
   "metadata": {},
   "outputs": [
    {
     "name": "stdout",
     "output_type": "stream",
     "text": [
      "2.57650 : coverage_error\n",
      "0.93474 : label_ranking_average_precision_score\n",
      "0.09792 : label_ranking_loss\n"
     ]
    }
   ],
   "source": [
    "import numpy as np\n",
    "from sklearn.metrics import coverage_error, \\\n",
    "    label_ranking_average_precision_score, \\\n",
    "    label_ranking_loss\n",
    "\n",
    "probs = rf.predict_proba(X)\n",
    "n_cols = len(probs)\n",
    "n_rows = probs[0].shape[0]\n",
    "\n",
    "Y_preds = np.array([[probs[c][r][1] for c in range(n_cols)] for r in range(n_rows)])\n",
    "\n",
    "for metric in [coverage_error, label_ranking_average_precision_score, label_ranking_loss]:\n",
    "    print(f'{metric(Y, Y_preds):.5f} : {metric.__name__}')"
   ]
  },
  {
   "cell_type": "markdown",
   "metadata": {},
   "source": [
    "## Generating data for clustering"
   ]
  },
  {
   "cell_type": "code",
   "execution_count": 8,
   "metadata": {},
   "outputs": [
    {
     "name": "stdout",
     "output_type": "stream",
     "text": [
      "X shape = (3000, 15), y shape (3000,)\n"
     ]
    }
   ],
   "source": [
    "from sklearn.datasets import make_blobs\n",
    "\n",
    "X, y = make_blobs(**{\n",
    "    'n_samples': 3000, \n",
    "    'n_features': 15, \n",
    "    'centers': 3, \n",
    "    'cluster_std': 1.0,\n",
    "    'center_box': (-10.0, 10.0),\n",
    "    'random_state': 37\n",
    "})\n",
    "\n",
    "print(f'X shape = {X.shape}, y shape {y.shape}')"
   ]
  },
  {
   "cell_type": "code",
   "execution_count": 9,
   "metadata": {},
   "outputs": [
    {
     "data": {
      "text/plain": [
       "0.8286949308825501"
      ]
     },
     "execution_count": 9,
     "metadata": {},
     "output_type": "execute_result"
    }
   ],
   "source": [
    "from sklearn.cluster import KMeans\n",
    "from sklearn.metrics import silhouette_score\n",
    "\n",
    "km = KMeans(n_clusters=3, random_state=37)\n",
    "km.fit(X)\n",
    "\n",
    "silhouette_score(X, km.predict(X))"
   ]
  }
 ],
 "metadata": {
  "kernelspec": {
   "display_name": "Python 3",
   "language": "python",
   "name": "python3"
  },
  "language_info": {
   "codemirror_mode": {
    "name": "ipython",
    "version": 3
   },
   "file_extension": ".py",
   "mimetype": "text/x-python",
   "name": "python",
   "nbconvert_exporter": "python",
   "pygments_lexer": "ipython3",
   "version": "3.7.3"
  }
 },
 "nbformat": 4,
 "nbformat_minor": 4
}
