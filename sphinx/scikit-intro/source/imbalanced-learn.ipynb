{
 "cells": [
  {
   "cell_type": "markdown",
   "metadata": {},
   "source": [
    "# imbalanced-learn\n",
    "\n",
    "[imbalanced-learn](https://imbalanced-learn.org) is a package to deal with imbalance in data. The data imbalance typically manifest when you have data with class labels, and one or more of these classes suffers from having too few examples to learn from. "
   ]
  },
  {
   "cell_type": "markdown",
   "metadata": {},
   "source": [
    "## Data generation"
   ]
  },
  {
   "cell_type": "code",
   "execution_count": 1,
   "metadata": {},
   "outputs": [
    {
     "name": "stdout",
     "output_type": "stream",
     "text": [
      "(5000, 6)\n"
     ]
    }
   ],
   "source": [
    "import matplotlib.pyplot as plt\n",
    "from sklearn.datasets import make_classification\n",
    "import numpy as np\n",
    "import pandas as pd\n",
    "\n",
    "plt.style.use('ggplot')\n",
    "np.random.seed(37)\n",
    "\n",
    "X, y = make_classification(**{\n",
    "    'n_samples': 5000,\n",
    "    'n_features': 5,\n",
    "    'n_classes': 2,\n",
    "    'random_state': 37\n",
    "})\n",
    "\n",
    "columns = [f'x{i}' for i in range(X.shape[1])] + ['y']\n",
    "df = pd.DataFrame(np.hstack([X, y.reshape(-1, 1)]), columns=columns)\n",
    "\n",
    "print(df.shape)"
   ]
  },
  {
   "cell_type": "code",
   "execution_count": 2,
   "metadata": {},
   "outputs": [
    {
     "data": {
      "text/html": [
       "<div>\n",
       "<style scoped>\n",
       "    .dataframe tbody tr th:only-of-type {\n",
       "        vertical-align: middle;\n",
       "    }\n",
       "\n",
       "    .dataframe tbody tr th {\n",
       "        vertical-align: top;\n",
       "    }\n",
       "\n",
       "    .dataframe thead th {\n",
       "        text-align: right;\n",
       "    }\n",
       "</style>\n",
       "<table border=\"1\" class=\"dataframe\">\n",
       "  <thead>\n",
       "    <tr style=\"text-align: right;\">\n",
       "      <th></th>\n",
       "      <th>x0</th>\n",
       "      <th>x1</th>\n",
       "      <th>x2</th>\n",
       "      <th>x3</th>\n",
       "      <th>x4</th>\n",
       "      <th>y</th>\n",
       "    </tr>\n",
       "  </thead>\n",
       "  <tbody>\n",
       "    <tr>\n",
       "      <th>0</th>\n",
       "      <td>-0.729402</td>\n",
       "      <td>0.390517</td>\n",
       "      <td>-0.603771</td>\n",
       "      <td>0.286312</td>\n",
       "      <td>-0.266412</td>\n",
       "      <td>0.0</td>\n",
       "    </tr>\n",
       "    <tr>\n",
       "      <th>1</th>\n",
       "      <td>0.030495</td>\n",
       "      <td>-0.970299</td>\n",
       "      <td>1.223902</td>\n",
       "      <td>-0.343972</td>\n",
       "      <td>-0.479884</td>\n",
       "      <td>0.0</td>\n",
       "    </tr>\n",
       "    <tr>\n",
       "      <th>2</th>\n",
       "      <td>-0.657696</td>\n",
       "      <td>-0.811643</td>\n",
       "      <td>-1.075159</td>\n",
       "      <td>0.405169</td>\n",
       "      <td>-0.022806</td>\n",
       "      <td>0.0</td>\n",
       "    </tr>\n",
       "    <tr>\n",
       "      <th>3</th>\n",
       "      <td>0.138540</td>\n",
       "      <td>2.012018</td>\n",
       "      <td>-1.825350</td>\n",
       "      <td>0.482964</td>\n",
       "      <td>0.845321</td>\n",
       "      <td>1.0</td>\n",
       "    </tr>\n",
       "    <tr>\n",
       "      <th>4</th>\n",
       "      <td>2.231350</td>\n",
       "      <td>-0.705512</td>\n",
       "      <td>-0.453736</td>\n",
       "      <td>-0.238611</td>\n",
       "      <td>1.757486</td>\n",
       "      <td>1.0</td>\n",
       "    </tr>\n",
       "  </tbody>\n",
       "</table>\n",
       "</div>"
      ],
      "text/plain": [
       "         x0        x1        x2        x3        x4    y\n",
       "0 -0.729402  0.390517 -0.603771  0.286312 -0.266412  0.0\n",
       "1  0.030495 -0.970299  1.223902 -0.343972 -0.479884  0.0\n",
       "2 -0.657696 -0.811643 -1.075159  0.405169 -0.022806  0.0\n",
       "3  0.138540  2.012018 -1.825350  0.482964  0.845321  1.0\n",
       "4  2.231350 -0.705512 -0.453736 -0.238611  1.757486  1.0"
      ]
     },
     "execution_count": 2,
     "metadata": {},
     "output_type": "execute_result"
    }
   ],
   "source": [
    "df.head()"
   ]
  },
  {
   "cell_type": "code",
   "execution_count": 3,
   "metadata": {},
   "outputs": [
    {
     "data": {
      "image/png": "[encoded data removed]",
      "text/plain": [
       "<Figure size 432x288 with 1 Axes>"
      ]
     },
     "metadata": {},
     "output_type": "display_data"
    }
   ],
   "source": [
    "ax = df.y.value_counts().plot(kind='bar')\n",
    "_ = ax.set_title('Frequency of Classes, Balanced')"
   ]
  },
  {
   "cell_type": "markdown",
   "metadata": {},
   "source": [
    "## Class imbalance"
   ]
  },
  {
   "cell_type": "code",
   "execution_count": 4,
   "metadata": {},
   "outputs": [],
   "source": [
    "df0 = df[df.y == 0].copy(deep=True).reset_index(drop=True)\n",
    "df1 = df[df.y == 1].sample(frac=0.01).copy(deep=True).reset_index(drop=True)\n",
    "\n",
    "df = pd.concat([df0, df1])"
   ]
  },
  {
   "cell_type": "code",
   "execution_count": 5,
   "metadata": {},
   "outputs": [
    {
     "data": {
      "text/plain": [
       "(2508, 6)"
      ]
     },
     "execution_count": 5,
     "metadata": {},
     "output_type": "execute_result"
    }
   ],
   "source": [
    "df.shape"
   ]
  },
  {
   "cell_type": "code",
   "execution_count": 6,
   "metadata": {},
   "outputs": [
    {
     "data": {
      "image/png": "[encoded data removed]",
      "text/plain": [
       "<Figure size 432x288 with 1 Axes>"
      ]
     },
     "metadata": {},
     "output_type": "display_data"
    }
   ],
   "source": [
    "ax = df.y.value_counts().plot(kind='bar')\n",
    "_ = ax.set_title('Frequency of Classes, Imbalanced')"
   ]
  },
  {
   "cell_type": "markdown",
   "metadata": {},
   "source": [
    "## Learning with class imbalance"
   ]
  },
  {
   "cell_type": "code",
   "execution_count": 7,
   "metadata": {},
   "outputs": [
    {
     "name": "stdout",
     "output_type": "stream",
     "text": [
      "(2508, 5) (2508,)\n"
     ]
    }
   ],
   "source": [
    "X = df[[c for c in df.columns if c != 'y']]\n",
    "y = df.y\n",
    "\n",
    "print(X.shape, y.shape)"
   ]
  },
  {
   "cell_type": "code",
   "execution_count": 17,
   "metadata": {},
   "outputs": [],
   "source": [
    "from sklearn.model_selection import StratifiedKFold\n",
    "from sklearn.linear_model import LogisticRegression\n",
    "from sklearn.ensemble import RandomForestClassifier\n",
    "from sklearn.metrics import roc_auc_score, average_precision_score\n",
    "\n",
    "skf = StratifiedKFold(n_splits=10, shuffle=True, random_state=37)\n",
    "\n",
    "rdf = []\n",
    "for fold, (tr, te) in enumerate(skf.split(X, y)):\n",
    "    X_tr, X_te = X.iloc[tr], X.iloc[te]\n",
    "    y_tr, y_te = y.iloc[tr], y.iloc[te]\n",
    "    \n",
    "    model = LogisticRegression(penalty='l2', solver='liblinear', random_state=37)\n",
    "    model = RandomForestClassifier(n_jobs=-1, random_state=37)\n",
    "    model.fit(X_tr, y_tr)\n",
    "    y_pr = model.predict_proba(X_te)[:,1]\n",
    "    \n",
    "    auc = roc_auc_score(y_te, y_pr)\n",
    "    aps = average_precision_score(y_te, y_pr)\n",
    "    \n",
    "    rdf.append({'auc': auc, 'aps': aps})\n",
    "    \n",
    "rdf = pd.DataFrame(rdf)"
   ]
  },
  {
   "cell_type": "code",
   "execution_count": 18,
   "metadata": {},
   "outputs": [
    {
     "data": {
      "text/html": [
       "<div>\n",
       "<style scoped>\n",
       "    .dataframe tbody tr th:only-of-type {\n",
       "        vertical-align: middle;\n",
       "    }\n",
       "\n",
       "    .dataframe tbody tr th {\n",
       "        vertical-align: top;\n",
       "    }\n",
       "\n",
       "    .dataframe thead th {\n",
       "        text-align: right;\n",
       "    }\n",
       "</style>\n",
       "<table border=\"1\" class=\"dataframe\">\n",
       "  <thead>\n",
       "    <tr style=\"text-align: right;\">\n",
       "      <th></th>\n",
       "      <th>auc</th>\n",
       "      <th>aps</th>\n",
       "    </tr>\n",
       "  </thead>\n",
       "  <tbody>\n",
       "    <tr>\n",
       "      <th>mean</th>\n",
       "      <td>0.972218</td>\n",
       "      <td>0.750400</td>\n",
       "    </tr>\n",
       "    <tr>\n",
       "      <th>std</th>\n",
       "      <td>0.080609</td>\n",
       "      <td>0.305972</td>\n",
       "    </tr>\n",
       "  </tbody>\n",
       "</table>\n",
       "</div>"
      ],
      "text/plain": [
       "           auc       aps\n",
       "mean  0.972218  0.750400\n",
       "std   0.080609  0.305972"
      ]
     },
     "execution_count": 18,
     "metadata": {},
     "output_type": "execute_result"
    }
   ],
   "source": [
    "rdf[['auc', 'aps']].agg(['mean', 'std'])"
   ]
  },
  {
   "cell_type": "markdown",
   "metadata": {},
   "source": [
    "## Oversampling"
   ]
  },
  {
   "cell_type": "code",
   "execution_count": 61,
   "metadata": {},
   "outputs": [],
   "source": [
    "from imblearn.over_sampling import RandomOverSampler, SMOTE, ADASYN, BorderlineSMOTE, SVMSMOTE, KMeansSMOTE\n",
    "from sklearn.cluster import KMeans\n",
    "from collections import Counter\n",
    "from itertools import chain\n",
    "\n",
    "def get_oversampler(sampler):\n",
    "    if 'adasyn' == sampler:\n",
    "        p = {\n",
    "            'random_state': 37,\n",
    "            'n_neighbors': 5\n",
    "        }\n",
    "        return ADASYN(**p)\n",
    "    elif 'borderlinesmote' == sampler:\n",
    "        p = {\n",
    "            'random_state': 37,\n",
    "            'n_jobs': -1,\n",
    "            'k_neighbors': 5,\n",
    "            'm_neighbors': 10\n",
    "        }\n",
    "        return BorderlineSMOTE(**p)\n",
    "    elif 'svmsmote' == sampler:\n",
    "        p = {\n",
    "            'random_state': 37,\n",
    "            'n_jobs': -1,\n",
    "            'k_neighbors': 5,\n",
    "            'm_neighbors': 10\n",
    "        }\n",
    "        return SVMSMOTE(**p)\n",
    "    elif 'kmeanssmote' == sampler:\n",
    "        kmeans = KMeans(n_clusters=5, random_state=37)\n",
    "        p = {\n",
    "            'random_state': 37,\n",
    "            'n_jobs': -1,\n",
    "            'k_neighbors': 5,\n",
    "            'kmeans_estimator': kmeans\n",
    "        }\n",
    "        return KMeansSMOTE(**p)\n",
    "    elif 'random' == sampler:\n",
    "        p = {\n",
    "            'random_state': 37\n",
    "        }\n",
    "        return RandomOverSampler(**p)\n",
    "    else:\n",
    "        p = {\n",
    "            'random_state': 37,\n",
    "            'k_neighbors': 5\n",
    "        }\n",
    "        return SMOTE(**p)\n",
    "\n",
    "def get_results(sampler, f):\n",
    "    skf = StratifiedKFold(n_splits=10, shuffle=True, random_state=37)\n",
    "\n",
    "    results = []\n",
    "    for fold, (tr, te) in enumerate(skf.split(X, y)):\n",
    "        X_tr, X_te = X.iloc[tr], X.iloc[te]\n",
    "        y_tr, y_te = y.iloc[tr], y.iloc[te]\n",
    "\n",
    "        counts = sorted(Counter(y_tr).items())\n",
    "        n_0, n_1 = counts[0][1], counts[1][1]\n",
    "\n",
    "        if sampler != 'none':\n",
    "            sampling_approach = f(sampler)\n",
    "            X_tr, y_tr = sampling_approach.fit_resample(X_tr, y_tr)\n",
    "\n",
    "        # model = LogisticRegression(penalty='l2', solver='liblinear', random_state=37)\n",
    "        model = RandomForestClassifier(n_jobs=-1, random_state=37)\n",
    "        model.fit(X_tr, y_tr)\n",
    "        y_pr = model.predict_proba(X_te)[:,1]\n",
    "\n",
    "        auc = roc_auc_score(y_te, y_pr)\n",
    "        aps = average_precision_score(y_te, y_pr)\n",
    "\n",
    "        counts = sorted(Counter(y_tr).items())\n",
    "        r_0, r_1 = counts[0][1], counts[1][1]\n",
    "\n",
    "        results.append({\n",
    "            'sampler': sampler,\n",
    "            'auc': auc, \n",
    "            'aps': aps, \n",
    "            'n_maj': n_0, \n",
    "            'r_maj': r_0, \n",
    "            'n_min': n_1, \n",
    "            'r_min': r_1\n",
    "        })\n",
    "        \n",
    "    return results"
   ]
  },
  {
   "cell_type": "code",
   "execution_count": 62,
   "metadata": {},
   "outputs": [
    {
     "name": "stdout",
     "output_type": "stream",
     "text": [
      "CPU times: user 41.5 s, sys: 28.8 s, total: 1min 10s\n",
      "Wall time: 40.8 s\n"
     ]
    }
   ],
   "source": [
    "%%time\n",
    "\n",
    "samplers = ['none', 'random', 'smote', 'adasyn', 'borderlinesmote', 'svmsmote']\n",
    "rdf = pd.DataFrame(list(chain(*[get_results(s, get_oversampler) for s in samplers])))"
   ]
  },
  {
   "cell_type": "code",
   "execution_count": 63,
   "metadata": {},
   "outputs": [
    {
     "data": {
      "text/html": [
       "<div>\n",
       "<style scoped>\n",
       "    .dataframe tbody tr th:only-of-type {\n",
       "        vertical-align: middle;\n",
       "    }\n",
       "\n",
       "    .dataframe tbody tr th {\n",
       "        vertical-align: top;\n",
       "    }\n",
       "\n",
       "    .dataframe thead tr th {\n",
       "        text-align: left;\n",
       "    }\n",
       "\n",
       "    .dataframe thead tr:last-of-type th {\n",
       "        text-align: right;\n",
       "    }\n",
       "</style>\n",
       "<table border=\"1\" class=\"dataframe\">\n",
       "  <thead>\n",
       "    <tr>\n",
       "      <th></th>\n",
       "      <th colspan=\"2\" halign=\"left\">auc</th>\n",
       "      <th colspan=\"2\" halign=\"left\">aps</th>\n",
       "    </tr>\n",
       "    <tr>\n",
       "      <th></th>\n",
       "      <th>mean</th>\n",
       "      <th>std</th>\n",
       "      <th>mean</th>\n",
       "      <th>std</th>\n",
       "    </tr>\n",
       "    <tr>\n",
       "      <th>sampler</th>\n",
       "      <th></th>\n",
       "      <th></th>\n",
       "      <th></th>\n",
       "      <th></th>\n",
       "    </tr>\n",
       "  </thead>\n",
       "  <tbody>\n",
       "    <tr>\n",
       "      <th>adasyn</th>\n",
       "      <td>0.971713</td>\n",
       "      <td>0.080083</td>\n",
       "      <td>0.748178</td>\n",
       "      <td>0.222613</td>\n",
       "    </tr>\n",
       "    <tr>\n",
       "      <th>borderlinesmote</th>\n",
       "      <td>0.971511</td>\n",
       "      <td>0.080007</td>\n",
       "      <td>0.734289</td>\n",
       "      <td>0.206186</td>\n",
       "    </tr>\n",
       "    <tr>\n",
       "      <th>none</th>\n",
       "      <td>0.972218</td>\n",
       "      <td>0.080609</td>\n",
       "      <td>0.750400</td>\n",
       "      <td>0.305972</td>\n",
       "    </tr>\n",
       "    <tr>\n",
       "      <th>random</th>\n",
       "      <td>0.972351</td>\n",
       "      <td>0.079962</td>\n",
       "      <td>0.778178</td>\n",
       "      <td>0.242363</td>\n",
       "    </tr>\n",
       "    <tr>\n",
       "      <th>smote</th>\n",
       "      <td>0.972014</td>\n",
       "      <td>0.079815</td>\n",
       "      <td>0.759844</td>\n",
       "      <td>0.204722</td>\n",
       "    </tr>\n",
       "    <tr>\n",
       "      <th>svmsmote</th>\n",
       "      <td>0.971881</td>\n",
       "      <td>0.080504</td>\n",
       "      <td>0.739844</td>\n",
       "      <td>0.278877</td>\n",
       "    </tr>\n",
       "  </tbody>\n",
       "</table>\n",
       "</div>"
      ],
      "text/plain": [
       "                      auc                 aps          \n",
       "                     mean       std      mean       std\n",
       "sampler                                                \n",
       "adasyn           0.971713  0.080083  0.748178  0.222613\n",
       "borderlinesmote  0.971511  0.080007  0.734289  0.206186\n",
       "none             0.972218  0.080609  0.750400  0.305972\n",
       "random           0.972351  0.079962  0.778178  0.242363\n",
       "smote            0.972014  0.079815  0.759844  0.204722\n",
       "svmsmote         0.971881  0.080504  0.739844  0.278877"
      ]
     },
     "execution_count": 63,
     "metadata": {},
     "output_type": "execute_result"
    }
   ],
   "source": [
    "rdf[['sampler', 'auc', 'aps']].groupby('sampler').agg(['mean', 'std'])"
   ]
  },
  {
   "cell_type": "markdown",
   "metadata": {},
   "source": [
    "## Undersampling"
   ]
  },
  {
   "cell_type": "code",
   "execution_count": null,
   "metadata": {},
   "outputs": [],
   "source": [
    "from imblearn.under_sampling import RandomUnderSampler"
   ]
  }
 ],
 "metadata": {
  "kernelspec": {
   "display_name": "Python 3",
   "language": "python",
   "name": "python3"
  },
  "language_info": {
   "codemirror_mode": {
    "name": "ipython",
    "version": 3
   },
   "file_extension": ".py",
   "mimetype": "text/x-python",
   "name": "python",
   "nbconvert_exporter": "python",
   "pygments_lexer": "ipython3",
   "version": "3.8.5"
  }
 },
 "nbformat": 4,
 "nbformat_minor": 4
}
