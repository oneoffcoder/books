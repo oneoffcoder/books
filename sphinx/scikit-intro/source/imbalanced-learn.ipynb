{
 "cells": [
  {
   "cell_type": "markdown",
   "metadata": {},
   "source": [
    "# imbalanced-learn\n",
    "\n",
    "[imbalanced-learn](https://imbalanced-learn.org) is a package to deal with imbalance in data. The data imbalance typically manifest when you have data with class labels, and one or more of these classes suffers from having too few examples to learn from. `imbalanced-learn` has three broad categories of approaches to deal with class imbalance.\n",
    "\n",
    "- oversampling: oversample the minority class\n",
    "- understampling: undersample the majority class\n",
    "- combination: use a combination of oversampling and undersampling\n",
    "\n",
    "Let's investigate the use of each of these approaches in dealing with the class imbalance problem."
   ]
  },
  {
   "cell_type": "markdown",
   "metadata": {},
   "source": [
    "## Data generation\n",
    "\n",
    "Here, we will create a dataset using Scikit-Learn's `make_classification()` method. There will be only 2 classes, and as you will see, the samples per class that are about the same amount."
   ]
  },
  {
   "cell_type": "code",
   "execution_count": 1,
   "metadata": {},
   "outputs": [
    {
     "name": "stdout",
     "output_type": "stream",
     "text": [
      "(5000, 6)\n"
     ]
    }
   ],
   "source": [
    "import matplotlib.pyplot as plt\n",
    "from sklearn.datasets import make_classification\n",
    "import numpy as np\n",
    "import pandas as pd\n",
    "\n",
    "plt.style.use('ggplot')\n",
    "np.random.seed(37)\n",
    "\n",
    "X, y = make_classification(**{\n",
    "    'n_samples': 5000,\n",
    "    'n_features': 5,\n",
    "    'n_classes': 2,\n",
    "    'random_state': 37\n",
    "})\n",
    "\n",
    "columns = [f'x{i}' for i in range(X.shape[1])] + ['y']\n",
    "df = pd.DataFrame(np.hstack([X, y.reshape(-1, 1)]), columns=columns)\n",
    "\n",
    "print(df.shape)"
   ]
  },
  {
   "cell_type": "code",
   "execution_count": 2,
   "metadata": {},
   "outputs": [
    {
     "data": {
      "text/html": [
       "<div>\n",
       "<style scoped>\n",
       "    .dataframe tbody tr th:only-of-type {\n",
       "        vertical-align: middle;\n",
       "    }\n",
       "\n",
       "    .dataframe tbody tr th {\n",
       "        vertical-align: top;\n",
       "    }\n",
       "\n",
       "    .dataframe thead th {\n",
       "        text-align: right;\n",
       "    }\n",
       "</style>\n",
       "<table border=\"1\" class=\"dataframe\">\n",
       "  <thead>\n",
       "    <tr style=\"text-align: right;\">\n",
       "      <th></th>\n",
       "      <th>x0</th>\n",
       "      <th>x1</th>\n",
       "      <th>x2</th>\n",
       "      <th>x3</th>\n",
       "      <th>x4</th>\n",
       "      <th>y</th>\n",
       "    </tr>\n",
       "  </thead>\n",
       "  <tbody>\n",
       "    <tr>\n",
       "      <th>0</th>\n",
       "      <td>-0.729402</td>\n",
       "      <td>0.390517</td>\n",
       "      <td>-0.603771</td>\n",
       "      <td>0.286312</td>\n",
       "      <td>-0.266412</td>\n",
       "      <td>0.0</td>\n",
       "    </tr>\n",
       "    <tr>\n",
       "      <th>1</th>\n",
       "      <td>0.030495</td>\n",
       "      <td>-0.970299</td>\n",
       "      <td>1.223902</td>\n",
       "      <td>-0.343972</td>\n",
       "      <td>-0.479884</td>\n",
       "      <td>0.0</td>\n",
       "    </tr>\n",
       "    <tr>\n",
       "      <th>2</th>\n",
       "      <td>-0.657696</td>\n",
       "      <td>-0.811643</td>\n",
       "      <td>-1.075159</td>\n",
       "      <td>0.405169</td>\n",
       "      <td>-0.022806</td>\n",
       "      <td>0.0</td>\n",
       "    </tr>\n",
       "    <tr>\n",
       "      <th>3</th>\n",
       "      <td>0.138540</td>\n",
       "      <td>2.012018</td>\n",
       "      <td>-1.825350</td>\n",
       "      <td>0.482964</td>\n",
       "      <td>0.845321</td>\n",
       "      <td>1.0</td>\n",
       "    </tr>\n",
       "    <tr>\n",
       "      <th>4</th>\n",
       "      <td>2.231350</td>\n",
       "      <td>-0.705512</td>\n",
       "      <td>-0.453736</td>\n",
       "      <td>-0.238611</td>\n",
       "      <td>1.757486</td>\n",
       "      <td>1.0</td>\n",
       "    </tr>\n",
       "  </tbody>\n",
       "</table>\n",
       "</div>"
      ],
      "text/plain": [
       "         x0        x1        x2        x3        x4    y\n",
       "0 -0.729402  0.390517 -0.603771  0.286312 -0.266412  0.0\n",
       "1  0.030495 -0.970299  1.223902 -0.343972 -0.479884  0.0\n",
       "2 -0.657696 -0.811643 -1.075159  0.405169 -0.022806  0.0\n",
       "3  0.138540  2.012018 -1.825350  0.482964  0.845321  1.0\n",
       "4  2.231350 -0.705512 -0.453736 -0.238611  1.757486  1.0"
      ]
     },
     "execution_count": 2,
     "metadata": {},
     "output_type": "execute_result"
    }
   ],
   "source": [
    "df.head()"
   ]
  },
  {
   "cell_type": "code",
   "execution_count": 3,
   "metadata": {},
   "outputs": [
    {
     "data": {
      "image/png": "[encoded data removed]",
      "text/plain": [
       "<Figure size 432x288 with 1 Axes>"
      ]
     },
     "metadata": {},
     "output_type": "display_data"
    }
   ],
   "source": [
    "ax = df.y.value_counts().plot(kind='bar')\n",
    "_ = ax.set_title('Frequency of Classes, Balanced')"
   ]
  },
  {
   "cell_type": "markdown",
   "metadata": {},
   "source": [
    "## Class imbalance\n",
    "\n",
    "We will then transform the data so that class 0 is the majority class and class 1 is the minority class. Class 1 will have only 1% of what was originally generated."
   ]
  },
  {
   "cell_type": "code",
   "execution_count": 4,
   "metadata": {},
   "outputs": [],
   "source": [
    "df0 = df[df.y == 0].copy(deep=True).reset_index(drop=True)\n",
    "df1 = df[df.y == 1].sample(frac=0.01).copy(deep=True).reset_index(drop=True)\n",
    "\n",
    "df = pd.concat([df0, df1])"
   ]
  },
  {
   "cell_type": "code",
   "execution_count": 5,
   "metadata": {},
   "outputs": [
    {
     "data": {
      "text/plain": [
       "(2508, 6)"
      ]
     },
     "execution_count": 5,
     "metadata": {},
     "output_type": "execute_result"
    }
   ],
   "source": [
    "df.shape"
   ]
  },
  {
   "cell_type": "code",
   "execution_count": 6,
   "metadata": {},
   "outputs": [
    {
     "data": {
      "image/png": "[encoded data removed]",
      "text/plain": [
       "<Figure size 432x288 with 1 Axes>"
      ]
     },
     "metadata": {},
     "output_type": "display_data"
    }
   ],
   "source": [
    "ax = df.y.value_counts().plot(kind='bar')\n",
    "_ = ax.set_title('Frequency of Classes, Imbalanced')"
   ]
  },
  {
   "cell_type": "markdown",
   "metadata": {},
   "source": [
    "## Learning with class imbalance\n",
    "\n",
    "We will use a random forest classifier to learn from the imbalanced data. The learning will be validated using a stratified k=10 fold approach. We will also benchmark the performance of the random forest classifier using `Area Under the Curve` (auc) and `Average Precision Score` (aps)."
   ]
  },
  {
   "cell_type": "code",
   "execution_count": 7,
   "metadata": {},
   "outputs": [
    {
     "name": "stdout",
     "output_type": "stream",
     "text": [
      "(2508, 5) (2508,)\n"
     ]
    }
   ],
   "source": [
    "X = df[[c for c in df.columns if c != 'y']]\n",
    "y = df.y\n",
    "\n",
    "print(X.shape, y.shape)"
   ]
  },
  {
   "cell_type": "code",
   "execution_count": 8,
   "metadata": {},
   "outputs": [],
   "source": [
    "from sklearn.model_selection import StratifiedKFold\n",
    "from sklearn.linear_model import LogisticRegression\n",
    "from sklearn.ensemble import RandomForestClassifier\n",
    "from sklearn.metrics import roc_auc_score, average_precision_score\n",
    "\n",
    "skf = StratifiedKFold(n_splits=10, shuffle=True, random_state=37)\n",
    "\n",
    "rdf = []\n",
    "for fold, (tr, te) in enumerate(skf.split(X, y)):\n",
    "    X_tr, X_te = X.iloc[tr], X.iloc[te]\n",
    "    y_tr, y_te = y.iloc[tr], y.iloc[te]\n",
    "    \n",
    "    model = LogisticRegression(penalty='l2', solver='liblinear', random_state=37)\n",
    "    model = RandomForestClassifier(n_jobs=-1, random_state=37)\n",
    "    model.fit(X_tr, y_tr)\n",
    "    y_pr = model.predict_proba(X_te)[:,1]\n",
    "    \n",
    "    auc = roc_auc_score(y_te, y_pr)\n",
    "    aps = average_precision_score(y_te, y_pr)\n",
    "    \n",
    "    rdf.append({'auc': auc, 'aps': aps})\n",
    "    \n",
    "rdf = pd.DataFrame(rdf)"
   ]
  },
  {
   "cell_type": "code",
   "execution_count": 9,
   "metadata": {},
   "outputs": [
    {
     "data": {
      "text/html": [
       "<div>\n",
       "<style scoped>\n",
       "    .dataframe tbody tr th:only-of-type {\n",
       "        vertical-align: middle;\n",
       "    }\n",
       "\n",
       "    .dataframe tbody tr th {\n",
       "        vertical-align: top;\n",
       "    }\n",
       "\n",
       "    .dataframe thead th {\n",
       "        text-align: right;\n",
       "    }\n",
       "</style>\n",
       "<table border=\"1\" class=\"dataframe\">\n",
       "  <thead>\n",
       "    <tr style=\"text-align: right;\">\n",
       "      <th></th>\n",
       "      <th>auc</th>\n",
       "      <th>aps</th>\n",
       "    </tr>\n",
       "  </thead>\n",
       "  <tbody>\n",
       "    <tr>\n",
       "      <th>mean</th>\n",
       "      <td>0.972218</td>\n",
       "      <td>0.750400</td>\n",
       "    </tr>\n",
       "    <tr>\n",
       "      <th>std</th>\n",
       "      <td>0.080609</td>\n",
       "      <td>0.305972</td>\n",
       "    </tr>\n",
       "  </tbody>\n",
       "</table>\n",
       "</div>"
      ],
      "text/plain": [
       "           auc       aps\n",
       "mean  0.972218  0.750400\n",
       "std   0.080609  0.305972"
      ]
     },
     "execution_count": 9,
     "metadata": {},
     "output_type": "execute_result"
    }
   ],
   "source": [
    "rdf[['auc', 'aps']].agg(['mean', 'std'])"
   ]
  },
  {
   "cell_type": "markdown",
   "metadata": {},
   "source": [
    "## Oversampling\n",
    "\n",
    "Below are the results of applying multiple oversampling techniques with random forest classification validated by stratified, k-fold cross-validation."
   ]
  },
  {
   "cell_type": "code",
   "execution_count": 10,
   "metadata": {},
   "outputs": [],
   "source": [
    "from imblearn.over_sampling import RandomOverSampler, SMOTE, ADASYN, BorderlineSMOTE, SVMSMOTE, KMeansSMOTE\n",
    "from sklearn.cluster import KMeans\n",
    "from collections import Counter\n",
    "from itertools import chain\n",
    "\n",
    "def get_oversampler(sampler):\n",
    "    if 'adasyn' == sampler:\n",
    "        p = {\n",
    "            'random_state': 37,\n",
    "            'n_neighbors': 5\n",
    "        }\n",
    "        return ADASYN(**p)\n",
    "    elif 'borderlinesmote' == sampler:\n",
    "        p = {\n",
    "            'random_state': 37,\n",
    "            'n_jobs': -1,\n",
    "            'k_neighbors': 5,\n",
    "            'm_neighbors': 10\n",
    "        }\n",
    "        return BorderlineSMOTE(**p)\n",
    "    elif 'svmsmote' == sampler:\n",
    "        p = {\n",
    "            'random_state': 37,\n",
    "            'n_jobs': -1,\n",
    "            'k_neighbors': 5,\n",
    "            'm_neighbors': 10\n",
    "        }\n",
    "        return SVMSMOTE(**p)\n",
    "    elif 'kmeanssmote' == sampler:\n",
    "        kmeans = KMeans(n_clusters=5, random_state=37)\n",
    "        p = {\n",
    "            'random_state': 37,\n",
    "            'n_jobs': -1,\n",
    "            'k_neighbors': 5,\n",
    "            'kmeans_estimator': kmeans\n",
    "        }\n",
    "        return KMeansSMOTE(**p)\n",
    "    elif 'random' == sampler:\n",
    "        p = {\n",
    "            'random_state': 37\n",
    "        }\n",
    "        return RandomOverSampler(**p)\n",
    "    else:\n",
    "        p = {\n",
    "            'random_state': 37,\n",
    "            'k_neighbors': 5\n",
    "        }\n",
    "        return SMOTE(**p)\n",
    "\n",
    "def get_results(sampler, f):\n",
    "    skf = StratifiedKFold(n_splits=10, shuffle=True, random_state=37)\n",
    "\n",
    "    results = []\n",
    "    for fold, (tr, te) in enumerate(skf.split(X, y)):\n",
    "        X_tr, X_te = X.iloc[tr], X.iloc[te]\n",
    "        y_tr, y_te = y.iloc[tr], y.iloc[te]\n",
    "\n",
    "        counts = sorted(Counter(y_tr).items())\n",
    "        n_0, n_1 = counts[0][1], counts[1][1]\n",
    "\n",
    "        if sampler != 'none':\n",
    "            sampling_approach = f(sampler)\n",
    "            X_tr, y_tr = sampling_approach.fit_resample(X_tr, y_tr)\n",
    "\n",
    "        # model = LogisticRegression(penalty='l2', solver='liblinear', random_state=37)\n",
    "        model = RandomForestClassifier(n_jobs=-1, random_state=37)\n",
    "        model.fit(X_tr, y_tr)\n",
    "        y_pr = model.predict_proba(X_te)[:,1]\n",
    "\n",
    "        auc = roc_auc_score(y_te, y_pr)\n",
    "        aps = average_precision_score(y_te, y_pr)\n",
    "\n",
    "        counts = sorted(Counter(y_tr).items())\n",
    "        r_0, r_1 = counts[0][1], counts[1][1]\n",
    "\n",
    "        results.append({\n",
    "            'sampler': sampler,\n",
    "            'auc': auc, \n",
    "            'aps': aps, \n",
    "            'n_maj': n_0, \n",
    "            'r_maj': r_0, \n",
    "            'n_min': n_1, \n",
    "            'r_min': r_1\n",
    "        })\n",
    "        \n",
    "    return results"
   ]
  },
  {
   "cell_type": "code",
   "execution_count": 11,
   "metadata": {},
   "outputs": [
    {
     "name": "stdout",
     "output_type": "stream",
     "text": [
      "Wall time: 15 s\n"
     ]
    }
   ],
   "source": [
    "%%time\n",
    "\n",
    "samplers = ['none', 'random', 'smote', 'adasyn', 'borderlinesmote', 'svmsmote']\n",
    "odf = pd.DataFrame(list(chain(*[get_results(s, get_oversampler) for s in samplers])))"
   ]
  },
  {
   "cell_type": "code",
   "execution_count": 12,
   "metadata": {},
   "outputs": [
    {
     "data": {
      "text/html": [
       "<div>\n",
       "<style scoped>\n",
       "    .dataframe tbody tr th:only-of-type {\n",
       "        vertical-align: middle;\n",
       "    }\n",
       "\n",
       "    .dataframe tbody tr th {\n",
       "        vertical-align: top;\n",
       "    }\n",
       "\n",
       "    .dataframe thead tr th {\n",
       "        text-align: left;\n",
       "    }\n",
       "\n",
       "    .dataframe thead tr:last-of-type th {\n",
       "        text-align: right;\n",
       "    }\n",
       "</style>\n",
       "<table border=\"1\" class=\"dataframe\">\n",
       "  <thead>\n",
       "    <tr>\n",
       "      <th></th>\n",
       "      <th colspan=\"2\" halign=\"left\">auc</th>\n",
       "      <th colspan=\"2\" halign=\"left\">aps</th>\n",
       "    </tr>\n",
       "    <tr>\n",
       "      <th></th>\n",
       "      <th>mean</th>\n",
       "      <th>std</th>\n",
       "      <th>mean</th>\n",
       "      <th>std</th>\n",
       "    </tr>\n",
       "    <tr>\n",
       "      <th>sampler</th>\n",
       "      <th></th>\n",
       "      <th></th>\n",
       "      <th></th>\n",
       "      <th></th>\n",
       "    </tr>\n",
       "  </thead>\n",
       "  <tbody>\n",
       "    <tr>\n",
       "      <th>adasyn</th>\n",
       "      <td>0.971713</td>\n",
       "      <td>0.080083</td>\n",
       "      <td>0.748178</td>\n",
       "      <td>0.222613</td>\n",
       "    </tr>\n",
       "    <tr>\n",
       "      <th>borderlinesmote</th>\n",
       "      <td>0.971511</td>\n",
       "      <td>0.080007</td>\n",
       "      <td>0.734289</td>\n",
       "      <td>0.206186</td>\n",
       "    </tr>\n",
       "    <tr>\n",
       "      <th>none</th>\n",
       "      <td>0.972218</td>\n",
       "      <td>0.080609</td>\n",
       "      <td>0.750400</td>\n",
       "      <td>0.305972</td>\n",
       "    </tr>\n",
       "    <tr>\n",
       "      <th>random</th>\n",
       "      <td>0.972351</td>\n",
       "      <td>0.079962</td>\n",
       "      <td>0.778178</td>\n",
       "      <td>0.242363</td>\n",
       "    </tr>\n",
       "    <tr>\n",
       "      <th>smote</th>\n",
       "      <td>0.972014</td>\n",
       "      <td>0.079815</td>\n",
       "      <td>0.759844</td>\n",
       "      <td>0.204722</td>\n",
       "    </tr>\n",
       "    <tr>\n",
       "      <th>svmsmote</th>\n",
       "      <td>0.971881</td>\n",
       "      <td>0.080504</td>\n",
       "      <td>0.739844</td>\n",
       "      <td>0.278877</td>\n",
       "    </tr>\n",
       "  </tbody>\n",
       "</table>\n",
       "</div>"
      ],
      "text/plain": [
       "                      auc                 aps          \n",
       "                     mean       std      mean       std\n",
       "sampler                                                \n",
       "adasyn           0.971713  0.080083  0.748178  0.222613\n",
       "borderlinesmote  0.971511  0.080007  0.734289  0.206186\n",
       "none             0.972218  0.080609  0.750400  0.305972\n",
       "random           0.972351  0.079962  0.778178  0.242363\n",
       "smote            0.972014  0.079815  0.759844  0.204722\n",
       "svmsmote         0.971881  0.080504  0.739844  0.278877"
      ]
     },
     "execution_count": 12,
     "metadata": {},
     "output_type": "execute_result"
    }
   ],
   "source": [
    "odf[['sampler', 'auc', 'aps']].groupby('sampler').agg(['mean', 'std'])"
   ]
  },
  {
   "cell_type": "markdown",
   "metadata": {},
   "source": [
    "## Undersampling\n",
    "\n",
    "Below are the results of applying multiple undersampling techniques with random forest classification validated by stratified, k-fold cross-validation."
   ]
  },
  {
   "cell_type": "code",
   "execution_count": 13,
   "metadata": {},
   "outputs": [],
   "source": [
    "from imblearn.under_sampling import RandomUnderSampler, NearMiss, EditedNearestNeighbours, RepeatedEditedNearestNeighbours, CondensedNearestNeighbour, OneSidedSelection, NeighbourhoodCleaningRule, InstanceHardnessThreshold\n",
    "\n",
    "def get_undersampler(sampler):\n",
    "    if 'random' == sampler:\n",
    "        p = {\n",
    "            'random_state': 37\n",
    "        }\n",
    "        return RandomUnderSampler(**p)\n",
    "    elif 'nearmiss1' == sampler:\n",
    "        p = {\n",
    "            'version': 1,\n",
    "            'n_jobs': -1\n",
    "        }\n",
    "        return NearMiss(**p)\n",
    "    elif 'nearmiss2' == sampler:\n",
    "        p = {\n",
    "            'version': 2,\n",
    "            'n_jobs': -1\n",
    "        }\n",
    "        return NearMiss(**p)\n",
    "    elif 'nearmiss3' == sampler:\n",
    "        p = {\n",
    "            'version': 3,\n",
    "            'n_jobs': -1\n",
    "        }\n",
    "        return NearMiss(**p)\n",
    "    elif 'editednn' == sampler:\n",
    "        p = {\n",
    "            'n_jobs': -1\n",
    "        }\n",
    "        return EditedNearestNeighbours(**p)\n",
    "    elif 'reditednn' == sampler:\n",
    "        p = {\n",
    "            'n_jobs': -1\n",
    "        }\n",
    "        return RepeatedEditedNearestNeighbours(**p)\n",
    "    elif 'condensednn' == sampler:\n",
    "        p = {\n",
    "            'random_state': 37,\n",
    "            'n_jobs': -1\n",
    "        }\n",
    "        return CondensedNearestNeighbour(**p)\n",
    "    elif 'onesided' == sampler:\n",
    "        p = {\n",
    "            'random_state': 37,\n",
    "            'n_jobs': -1\n",
    "        }\n",
    "        return OneSidedSelection(**p)\n",
    "    elif 'neighcleanrule' == sampler:\n",
    "        p = {\n",
    "            'n_jobs': -1\n",
    "        }\n",
    "        return NeighbourhoodCleaningRule(**p)\n",
    "    elif 'instancehardthresh' == sampler:\n",
    "        estimator = LogisticRegression(solver='lbfgs', multi_class='auto')\n",
    "        p = {\n",
    "            'estimator': estimator,\n",
    "            'random_state': 37,\n",
    "            'n_jobs': -1\n",
    "        }\n",
    "        return InstanceHardnessThreshold(**p)"
   ]
  },
  {
   "cell_type": "code",
   "execution_count": 14,
   "metadata": {},
   "outputs": [
    {
     "name": "stdout",
     "output_type": "stream",
     "text": [
      "Wall time: 48.4 s\n"
     ]
    }
   ],
   "source": [
    "%%time\n",
    "\n",
    "samplers = ['random', 'nearmiss1', 'nearmiss2', \n",
    "            'nearmiss3', 'editednn', 'reditednn', 'condensednn',\n",
    "            'onesided', 'neighcleanrule']\n",
    "udf = pd.DataFrame(list(chain(*[get_results(s, get_undersampler) for s in samplers])))"
   ]
  },
  {
   "cell_type": "code",
   "execution_count": 15,
   "metadata": {},
   "outputs": [
    {
     "data": {
      "text/html": [
       "<div>\n",
       "<style scoped>\n",
       "    .dataframe tbody tr th:only-of-type {\n",
       "        vertical-align: middle;\n",
       "    }\n",
       "\n",
       "    .dataframe tbody tr th {\n",
       "        vertical-align: top;\n",
       "    }\n",
       "\n",
       "    .dataframe thead tr th {\n",
       "        text-align: left;\n",
       "    }\n",
       "\n",
       "    .dataframe thead tr:last-of-type th {\n",
       "        text-align: right;\n",
       "    }\n",
       "</style>\n",
       "<table border=\"1\" class=\"dataframe\">\n",
       "  <thead>\n",
       "    <tr>\n",
       "      <th></th>\n",
       "      <th colspan=\"2\" halign=\"left\">auc</th>\n",
       "      <th colspan=\"2\" halign=\"left\">aps</th>\n",
       "    </tr>\n",
       "    <tr>\n",
       "      <th></th>\n",
       "      <th>mean</th>\n",
       "      <th>std</th>\n",
       "      <th>mean</th>\n",
       "      <th>std</th>\n",
       "    </tr>\n",
       "    <tr>\n",
       "      <th>sampler</th>\n",
       "      <th></th>\n",
       "      <th></th>\n",
       "      <th></th>\n",
       "      <th></th>\n",
       "    </tr>\n",
       "  </thead>\n",
       "  <tbody>\n",
       "    <tr>\n",
       "      <th>condensednn</th>\n",
       "      <td>0.994261</td>\n",
       "      <td>0.010101</td>\n",
       "      <td>0.746438</td>\n",
       "      <td>0.278687</td>\n",
       "    </tr>\n",
       "    <tr>\n",
       "      <th>editednn</th>\n",
       "      <td>0.971847</td>\n",
       "      <td>0.081873</td>\n",
       "      <td>0.745956</td>\n",
       "      <td>0.281920</td>\n",
       "    </tr>\n",
       "    <tr>\n",
       "      <th>nearmiss1</th>\n",
       "      <td>0.991982</td>\n",
       "      <td>0.007731</td>\n",
       "      <td>0.661993</td>\n",
       "      <td>0.202126</td>\n",
       "    </tr>\n",
       "    <tr>\n",
       "      <th>nearmiss2</th>\n",
       "      <td>0.992929</td>\n",
       "      <td>0.009534</td>\n",
       "      <td>0.678327</td>\n",
       "      <td>0.251700</td>\n",
       "    </tr>\n",
       "    <tr>\n",
       "      <th>nearmiss3</th>\n",
       "      <td>0.991876</td>\n",
       "      <td>0.015964</td>\n",
       "      <td>0.727037</td>\n",
       "      <td>0.274334</td>\n",
       "    </tr>\n",
       "    <tr>\n",
       "      <th>neighcleanrule</th>\n",
       "      <td>0.972518</td>\n",
       "      <td>0.081746</td>\n",
       "      <td>0.808733</td>\n",
       "      <td>0.265511</td>\n",
       "    </tr>\n",
       "    <tr>\n",
       "      <th>onesided</th>\n",
       "      <td>0.971445</td>\n",
       "      <td>0.082091</td>\n",
       "      <td>0.714289</td>\n",
       "      <td>0.278155</td>\n",
       "    </tr>\n",
       "    <tr>\n",
       "      <th>random</th>\n",
       "      <td>0.996172</td>\n",
       "      <td>0.006600</td>\n",
       "      <td>0.792222</td>\n",
       "      <td>0.225959</td>\n",
       "    </tr>\n",
       "    <tr>\n",
       "      <th>reditednn</th>\n",
       "      <td>0.972047</td>\n",
       "      <td>0.081932</td>\n",
       "      <td>0.767622</td>\n",
       "      <td>0.258529</td>\n",
       "    </tr>\n",
       "  </tbody>\n",
       "</table>\n",
       "</div>"
      ],
      "text/plain": [
       "                     auc                 aps          \n",
       "                    mean       std      mean       std\n",
       "sampler                                               \n",
       "condensednn     0.994261  0.010101  0.746438  0.278687\n",
       "editednn        0.971847  0.081873  0.745956  0.281920\n",
       "nearmiss1       0.991982  0.007731  0.661993  0.202126\n",
       "nearmiss2       0.992929  0.009534  0.678327  0.251700\n",
       "nearmiss3       0.991876  0.015964  0.727037  0.274334\n",
       "neighcleanrule  0.972518  0.081746  0.808733  0.265511\n",
       "onesided        0.971445  0.082091  0.714289  0.278155\n",
       "random          0.996172  0.006600  0.792222  0.225959\n",
       "reditednn       0.972047  0.081932  0.767622  0.258529"
      ]
     },
     "execution_count": 15,
     "metadata": {},
     "output_type": "execute_result"
    }
   ],
   "source": [
    "udf[['sampler', 'auc', 'aps']].groupby('sampler').agg(['mean', 'std'])"
   ]
  },
  {
   "cell_type": "markdown",
   "metadata": {},
   "source": [
    "## Combination\n",
    "\n",
    "Below are the results of applying multiple combination techniques with random forest classification validated by stratified, k-fold cross-validation."
   ]
  },
  {
   "cell_type": "code",
   "execution_count": 16,
   "metadata": {},
   "outputs": [],
   "source": [
    "from imblearn.combine import SMOTEENN, SMOTETomek\n",
    "\n",
    "def get_combine(sampler):\n",
    "    if 'smoteenn' == sampler:\n",
    "        p = {\n",
    "            'random_state': 37,\n",
    "            'k_neighbors': 5\n",
    "        }\n",
    "        smote = SMOTE(**p)\n",
    "    \n",
    "        p = {\n",
    "            'n_jobs': -1\n",
    "        }\n",
    "        enn = EditedNearestNeighbours(**p)\n",
    "        \n",
    "        p = {\n",
    "            'smote': smote,\n",
    "            'enn': enn,\n",
    "            'n_jobs': -1,\n",
    "            'random_state': 37\n",
    "        }\n",
    "        return SMOTEENN(**p)\n",
    "    elif 'smotetomek' == sampler:\n",
    "        p = {\n",
    "            'random_state': 37,\n",
    "            'k_neighbors': 5\n",
    "        }\n",
    "        smote = SMOTE(**p)\n",
    "        \n",
    "        p = {\n",
    "            'smote': smote,\n",
    "            'random_state': 37,\n",
    "            'n_jobs': -1\n",
    "        }\n",
    "        return SMOTETomek(**p)"
   ]
  },
  {
   "cell_type": "code",
   "execution_count": 17,
   "metadata": {},
   "outputs": [
    {
     "name": "stdout",
     "output_type": "stream",
     "text": [
      "Wall time: 5.35 s\n"
     ]
    }
   ],
   "source": [
    "%%time\n",
    "\n",
    "samplers = ['smoteenn', 'smotetomek']\n",
    "cdf = pd.DataFrame(list(chain(*[get_results(s, get_combine) for s in samplers])))"
   ]
  },
  {
   "cell_type": "code",
   "execution_count": 18,
   "metadata": {},
   "outputs": [
    {
     "data": {
      "text/html": [
       "<div>\n",
       "<style scoped>\n",
       "    .dataframe tbody tr th:only-of-type {\n",
       "        vertical-align: middle;\n",
       "    }\n",
       "\n",
       "    .dataframe tbody tr th {\n",
       "        vertical-align: top;\n",
       "    }\n",
       "\n",
       "    .dataframe thead tr th {\n",
       "        text-align: left;\n",
       "    }\n",
       "\n",
       "    .dataframe thead tr:last-of-type th {\n",
       "        text-align: right;\n",
       "    }\n",
       "</style>\n",
       "<table border=\"1\" class=\"dataframe\">\n",
       "  <thead>\n",
       "    <tr>\n",
       "      <th></th>\n",
       "      <th colspan=\"2\" halign=\"left\">auc</th>\n",
       "      <th colspan=\"2\" halign=\"left\">aps</th>\n",
       "    </tr>\n",
       "    <tr>\n",
       "      <th></th>\n",
       "      <th>mean</th>\n",
       "      <th>std</th>\n",
       "      <th>mean</th>\n",
       "      <th>std</th>\n",
       "    </tr>\n",
       "    <tr>\n",
       "      <th>sampler</th>\n",
       "      <th></th>\n",
       "      <th></th>\n",
       "      <th></th>\n",
       "      <th></th>\n",
       "    </tr>\n",
       "  </thead>\n",
       "  <tbody>\n",
       "    <tr>\n",
       "      <th>smoteenn</th>\n",
       "      <td>0.971678</td>\n",
       "      <td>0.080401</td>\n",
       "      <td>0.726511</td>\n",
       "      <td>0.241162</td>\n",
       "    </tr>\n",
       "    <tr>\n",
       "      <th>smotetomek</th>\n",
       "      <td>0.972014</td>\n",
       "      <td>0.079815</td>\n",
       "      <td>0.759844</td>\n",
       "      <td>0.204722</td>\n",
       "    </tr>\n",
       "  </tbody>\n",
       "</table>\n",
       "</div>"
      ],
      "text/plain": [
       "                 auc                 aps          \n",
       "                mean       std      mean       std\n",
       "sampler                                           \n",
       "smoteenn    0.971678  0.080401  0.726511  0.241162\n",
       "smotetomek  0.972014  0.079815  0.759844  0.204722"
      ]
     },
     "execution_count": 18,
     "metadata": {},
     "output_type": "execute_result"
    }
   ],
   "source": [
    "cdf[['sampler', 'auc', 'aps']].groupby('sampler').agg(['mean', 'std'])"
   ]
  },
  {
   "cell_type": "markdown",
   "metadata": {},
   "source": [
    "## Comparisons\n",
    "\n",
    "Here, we will compare the results of all sampling approaches."
   ]
  },
  {
   "cell_type": "code",
   "execution_count": 19,
   "metadata": {},
   "outputs": [],
   "source": [
    "odf['type'] = odf.sampler.apply(lambda s: 'baseline' if s == 'none' else 'over')\n",
    "udf['type'] = 'under'\n",
    "cdf['type'] = 'combo'\n",
    "\n",
    "rdf = pd.concat([odf, udf, cdf]).reset_index(drop=True)"
   ]
  },
  {
   "cell_type": "markdown",
   "metadata": {},
   "source": [
    "As you can see below, \n",
    "\n",
    "- all sampling techniques do about the same in terms of `AUC`,\n",
    "- the differences is with the `APS` performance,\n",
    "- undersampling with neighborhood cleaning rule seems to do the best, and\n",
    "- surprisingly, no sampling is still competitive."
   ]
  },
  {
   "cell_type": "code",
   "execution_count": 20,
   "metadata": {},
   "outputs": [
    {
     "data": {
      "text/html": [
       "<div>\n",
       "<style scoped>\n",
       "    .dataframe tbody tr th:only-of-type {\n",
       "        vertical-align: middle;\n",
       "    }\n",
       "\n",
       "    .dataframe tbody tr th {\n",
       "        vertical-align: top;\n",
       "    }\n",
       "\n",
       "    .dataframe thead tr th {\n",
       "        text-align: left;\n",
       "    }\n",
       "\n",
       "    .dataframe thead tr:last-of-type th {\n",
       "        text-align: right;\n",
       "    }\n",
       "</style>\n",
       "<table border=\"1\" class=\"dataframe\">\n",
       "  <thead>\n",
       "    <tr>\n",
       "      <th></th>\n",
       "      <th></th>\n",
       "      <th colspan=\"2\" halign=\"left\">auc</th>\n",
       "      <th colspan=\"2\" halign=\"left\">aps</th>\n",
       "    </tr>\n",
       "    <tr>\n",
       "      <th></th>\n",
       "      <th></th>\n",
       "      <th>mean</th>\n",
       "      <th>std</th>\n",
       "      <th>mean</th>\n",
       "      <th>std</th>\n",
       "    </tr>\n",
       "    <tr>\n",
       "      <th>type</th>\n",
       "      <th>sampler</th>\n",
       "      <th></th>\n",
       "      <th></th>\n",
       "      <th></th>\n",
       "      <th></th>\n",
       "    </tr>\n",
       "  </thead>\n",
       "  <tbody>\n",
       "    <tr>\n",
       "      <th rowspan=\"2\" valign=\"top\">under</th>\n",
       "      <th>neighcleanrule</th>\n",
       "      <td>0.972518</td>\n",
       "      <td>0.081746</td>\n",
       "      <td>0.808733</td>\n",
       "      <td>0.265511</td>\n",
       "    </tr>\n",
       "    <tr>\n",
       "      <th>random</th>\n",
       "      <td>0.996172</td>\n",
       "      <td>0.006600</td>\n",
       "      <td>0.792222</td>\n",
       "      <td>0.225959</td>\n",
       "    </tr>\n",
       "    <tr>\n",
       "      <th>over</th>\n",
       "      <th>random</th>\n",
       "      <td>0.972351</td>\n",
       "      <td>0.079962</td>\n",
       "      <td>0.778178</td>\n",
       "      <td>0.242363</td>\n",
       "    </tr>\n",
       "    <tr>\n",
       "      <th>under</th>\n",
       "      <th>reditednn</th>\n",
       "      <td>0.972047</td>\n",
       "      <td>0.081932</td>\n",
       "      <td>0.767622</td>\n",
       "      <td>0.258529</td>\n",
       "    </tr>\n",
       "    <tr>\n",
       "      <th>combo</th>\n",
       "      <th>smotetomek</th>\n",
       "      <td>0.972014</td>\n",
       "      <td>0.079815</td>\n",
       "      <td>0.759844</td>\n",
       "      <td>0.204722</td>\n",
       "    </tr>\n",
       "    <tr>\n",
       "      <th>over</th>\n",
       "      <th>smote</th>\n",
       "      <td>0.972014</td>\n",
       "      <td>0.079815</td>\n",
       "      <td>0.759844</td>\n",
       "      <td>0.204722</td>\n",
       "    </tr>\n",
       "    <tr>\n",
       "      <th>baseline</th>\n",
       "      <th>none</th>\n",
       "      <td>0.972218</td>\n",
       "      <td>0.080609</td>\n",
       "      <td>0.750400</td>\n",
       "      <td>0.305972</td>\n",
       "    </tr>\n",
       "    <tr>\n",
       "      <th>over</th>\n",
       "      <th>adasyn</th>\n",
       "      <td>0.971713</td>\n",
       "      <td>0.080083</td>\n",
       "      <td>0.748178</td>\n",
       "      <td>0.222613</td>\n",
       "    </tr>\n",
       "    <tr>\n",
       "      <th rowspan=\"2\" valign=\"top\">under</th>\n",
       "      <th>condensednn</th>\n",
       "      <td>0.994261</td>\n",
       "      <td>0.010101</td>\n",
       "      <td>0.746438</td>\n",
       "      <td>0.278687</td>\n",
       "    </tr>\n",
       "    <tr>\n",
       "      <th>editednn</th>\n",
       "      <td>0.971847</td>\n",
       "      <td>0.081873</td>\n",
       "      <td>0.745956</td>\n",
       "      <td>0.281920</td>\n",
       "    </tr>\n",
       "    <tr>\n",
       "      <th rowspan=\"2\" valign=\"top\">over</th>\n",
       "      <th>svmsmote</th>\n",
       "      <td>0.971881</td>\n",
       "      <td>0.080504</td>\n",
       "      <td>0.739844</td>\n",
       "      <td>0.278877</td>\n",
       "    </tr>\n",
       "    <tr>\n",
       "      <th>borderlinesmote</th>\n",
       "      <td>0.971511</td>\n",
       "      <td>0.080007</td>\n",
       "      <td>0.734289</td>\n",
       "      <td>0.206186</td>\n",
       "    </tr>\n",
       "    <tr>\n",
       "      <th>under</th>\n",
       "      <th>nearmiss3</th>\n",
       "      <td>0.991876</td>\n",
       "      <td>0.015964</td>\n",
       "      <td>0.727037</td>\n",
       "      <td>0.274334</td>\n",
       "    </tr>\n",
       "    <tr>\n",
       "      <th>combo</th>\n",
       "      <th>smoteenn</th>\n",
       "      <td>0.971678</td>\n",
       "      <td>0.080401</td>\n",
       "      <td>0.726511</td>\n",
       "      <td>0.241162</td>\n",
       "    </tr>\n",
       "    <tr>\n",
       "      <th rowspan=\"3\" valign=\"top\">under</th>\n",
       "      <th>onesided</th>\n",
       "      <td>0.971445</td>\n",
       "      <td>0.082091</td>\n",
       "      <td>0.714289</td>\n",
       "      <td>0.278155</td>\n",
       "    </tr>\n",
       "    <tr>\n",
       "      <th>nearmiss2</th>\n",
       "      <td>0.992929</td>\n",
       "      <td>0.009534</td>\n",
       "      <td>0.678327</td>\n",
       "      <td>0.251700</td>\n",
       "    </tr>\n",
       "    <tr>\n",
       "      <th>nearmiss1</th>\n",
       "      <td>0.991982</td>\n",
       "      <td>0.007731</td>\n",
       "      <td>0.661993</td>\n",
       "      <td>0.202126</td>\n",
       "    </tr>\n",
       "  </tbody>\n",
       "</table>\n",
       "</div>"
      ],
      "text/plain": [
       "                               auc                 aps          \n",
       "                              mean       std      mean       std\n",
       "type     sampler                                                \n",
       "under    neighcleanrule   0.972518  0.081746  0.808733  0.265511\n",
       "         random           0.996172  0.006600  0.792222  0.225959\n",
       "over     random           0.972351  0.079962  0.778178  0.242363\n",
       "under    reditednn        0.972047  0.081932  0.767622  0.258529\n",
       "combo    smotetomek       0.972014  0.079815  0.759844  0.204722\n",
       "over     smote            0.972014  0.079815  0.759844  0.204722\n",
       "baseline none             0.972218  0.080609  0.750400  0.305972\n",
       "over     adasyn           0.971713  0.080083  0.748178  0.222613\n",
       "under    condensednn      0.994261  0.010101  0.746438  0.278687\n",
       "         editednn         0.971847  0.081873  0.745956  0.281920\n",
       "over     svmsmote         0.971881  0.080504  0.739844  0.278877\n",
       "         borderlinesmote  0.971511  0.080007  0.734289  0.206186\n",
       "under    nearmiss3        0.991876  0.015964  0.727037  0.274334\n",
       "combo    smoteenn         0.971678  0.080401  0.726511  0.241162\n",
       "under    onesided         0.971445  0.082091  0.714289  0.278155\n",
       "         nearmiss2        0.992929  0.009534  0.678327  0.251700\n",
       "         nearmiss1        0.991982  0.007731  0.661993  0.202126"
      ]
     },
     "execution_count": 20,
     "metadata": {},
     "output_type": "execute_result"
    }
   ],
   "source": [
    "sort = [('aps', 'mean'), ('aps', 'std'), ('auc', 'mean'), ('auc', 'std')]\n",
    "rdf[['sampler', 'type', 'auc', 'aps']]\\\n",
    "    .groupby(['type', 'sampler'])\\\n",
    "    .agg(['mean', 'std'])\\\n",
    "    .sort_values(sort, ascending=False)"
   ]
  },
  {
   "cell_type": "markdown",
   "metadata": {},
   "source": [
    "## Pipeline\n",
    "\n",
    "If you need to use one of the samplers in a pipeline, do not use `sklearn.pipeline.Pipeline`, instead, use `imblearn.pipeline`, which is a drop-in replacement. Here's an example of a learning pipeline with hyperparameter tuning."
   ]
  },
  {
   "cell_type": "code",
   "execution_count": 21,
   "metadata": {},
   "outputs": [],
   "source": [
    "from imblearn.pipeline import Pipeline\n",
    "from sklearn.ensemble import RandomForestClassifier\n",
    "from sklearn.metrics import roc_auc_score, average_precision_score, make_scorer\n",
    "from sklearn.model_selection import StratifiedKFold, GridSearchCV\n",
    "from sklearn.preprocessing import MinMaxScaler\n",
    "\n",
    "def get_model(n_splits=5):\n",
    "    cv = StratifiedKFold(**{\n",
    "        'n_splits': n_splits,\n",
    "        'shuffle': True,\n",
    "        'random_state': 37\n",
    "    })\n",
    "\n",
    "    auc_scorer = make_scorer(\n",
    "        roc_auc_score, \n",
    "        greater_is_better=True, \n",
    "        needs_proba=True, \n",
    "        multi_class='ovo')\n",
    "\n",
    "    scoring = {\n",
    "      'auc': auc_scorer\n",
    "    }\n",
    "\n",
    "    scaler = MinMaxScaler()\n",
    "    sampler = ADASYN(**{\n",
    "        'random_state': 37,\n",
    "        'n_jobs': -1\n",
    "    })\n",
    "    classifier = RandomForestClassifier(**{\n",
    "        'random_state': 37,\n",
    "        'n_jobs': -1,\n",
    "        'verbose': 0\n",
    "    })\n",
    "\n",
    "    pipeline = Pipeline([\n",
    "        ('scaler', scaler),\n",
    "        ('sampler', sampler),\n",
    "        ('classifier', classifier)\n",
    "    ])\n",
    "\n",
    "    param_grid = {\n",
    "      'sampler__sampling_strategy': ['all', 'auto'],\n",
    "      'sampler__n_neighbors': [3, 5],\n",
    "      'classifier__n_estimators': [50, 100]\n",
    "    }\n",
    "\n",
    "    model = GridSearchCV(**{\n",
    "        'estimator': pipeline,\n",
    "        'cv': cv,\n",
    "        'param_grid': param_grid,\n",
    "        'verbose': 1,\n",
    "        'scoring': scoring,\n",
    "        'refit': 'auc',\n",
    "        'error_score': np.NaN,\n",
    "        'n_jobs': -1\n",
    "    })\n",
    "    return model"
   ]
  },
  {
   "cell_type": "code",
   "execution_count": 22,
   "metadata": {},
   "outputs": [
    {
     "name": "stdout",
     "output_type": "stream",
     "text": [
      "Fitting 2 folds for each of 8 candidates, totalling 16 fits\n"
     ]
    },
    {
     "name": "stderr",
     "output_type": "stream",
     "text": [
      "[Parallel(n_jobs=-1)]: Using backend LokyBackend with 16 concurrent workers.\n",
      "[Parallel(n_jobs=-1)]: Done   2 out of  16 | elapsed:    3.8s remaining:   27.4s\n",
      "[Parallel(n_jobs=-1)]: Done  16 out of  16 | elapsed:    4.2s finished\n"
     ]
    },
    {
     "data": {
      "text/plain": [
       "GridSearchCV(cv=StratifiedKFold(n_splits=2, random_state=37, shuffle=True),\n",
       "             estimator=Pipeline(steps=[('scaler', MinMaxScaler()),\n",
       "                                       ('sampler',\n",
       "                                        ADASYN(n_jobs=-1, random_state=37)),\n",
       "                                       ('classifier',\n",
       "                                        RandomForestClassifier(n_jobs=-1,\n",
       "                                                               random_state=37))]),\n",
       "             n_jobs=-1,\n",
       "             param_grid={'classifier__n_estimators': [50, 100],\n",
       "                         'sampler__n_neighbors': [3, 5],\n",
       "                         'sampler__sampling_strategy': ['all', 'auto']},\n",
       "             refit='auc',\n",
       "             scoring={'auc': make_scorer(roc_auc_score, needs_proba=True, multi_class=ovo)},\n",
       "             verbose=1)"
      ]
     },
     "execution_count": 22,
     "metadata": {},
     "output_type": "execute_result"
    }
   ],
   "source": [
    "model = get_model(n_splits=2)\n",
    "model.fit(X, y)"
   ]
  },
  {
   "cell_type": "code",
   "execution_count": 23,
   "metadata": {},
   "outputs": [
    {
     "data": {
      "text/plain": [
       "{'classifier__n_estimators': 100,\n",
       " 'sampler__n_neighbors': 3,\n",
       " 'sampler__sampling_strategy': 'all'}"
      ]
     },
     "execution_count": 23,
     "metadata": {},
     "output_type": "execute_result"
    }
   ],
   "source": [
    "model.best_params_"
   ]
  },
  {
   "cell_type": "code",
   "execution_count": 24,
   "metadata": {},
   "outputs": [
    {
     "name": "stdout",
     "output_type": "stream",
     "text": [
      "auc = 1.00000, aps = 1.00000\n"
     ]
    }
   ],
   "source": [
    "y_pr = model.predict_proba(X)[:,1]\n",
    "\n",
    "auc = roc_auc_score(y, y_pr)\n",
    "aps = average_precision_score(y, y_pr)\n",
    "\n",
    "print(f'auc = {auc:.5f}, aps = {aps:.5f}')"
   ]
  }
 ],
 "metadata": {
  "kernelspec": {
   "display_name": "Python 3",
   "language": "python",
   "name": "python3"
  },
  "language_info": {
   "codemirror_mode": {
    "name": "ipython",
    "version": 3
   },
   "file_extension": ".py",
   "mimetype": "text/x-python",
   "name": "python",
   "nbconvert_exporter": "python",
   "pygments_lexer": "ipython3",
   "version": "3.8.5"
  }
 },
 "nbformat": 4,
 "nbformat_minor": 4
}
