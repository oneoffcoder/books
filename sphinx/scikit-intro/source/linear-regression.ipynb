{
 "cells": [
  {
   "cell_type": "markdown",
   "metadata": {},
   "source": [
    "# Linear Regression"
   ]
  },
  {
   "cell_type": "markdown",
   "metadata": {},
   "source": [
    "## Generate data\n",
    "\n",
    "$y = 5.3 + 3 X_0 - 2.9 X_1$"
   ]
  },
  {
   "cell_type": "code",
   "execution_count": 1,
   "metadata": {},
   "outputs": [],
   "source": [
    "import numpy as np\n",
    "from numpy.random import normal\n",
    "\n",
    "np.random.seed(37)\n",
    "\n",
    "N = 10000\n",
    "\n",
    "x0 = normal(0, 1, N)\n",
    "x1 = normal(3, 1, N)\n",
    "\n",
    "X = np.hstack([x0.reshape(-1, 1), x1.reshape(-1, 1)])\n",
    "y = 5.3 + (3.0 * x0) - (2.9 * x1) + normal(0, 1, N)"
   ]
  },
  {
   "cell_type": "markdown",
   "metadata": {},
   "source": [
    "## Apply linear model data"
   ]
  },
  {
   "cell_type": "code",
   "execution_count": 2,
   "metadata": {},
   "outputs": [
    {
     "name": "stdout",
     "output_type": "stream",
     "text": [
      "y = 5.28681 + 3.01028 * X_0 -2.89393 * X_1\n"
     ]
    }
   ],
   "source": [
    "from sklearn import linear_model\n",
    "\n",
    "model = linear_model.LinearRegression()\n",
    "model.fit(X, y)\n",
    "\n",
    "intercept = f'{model.intercept_:.5f}'\n",
    "coefs = ' '.join([f'{c:.5f} * X_{i}' for i, c in enumerate(model.coef_)])\n",
    "print(f'y = {intercept} + {coefs}')"
   ]
  },
  {
   "cell_type": "markdown",
   "metadata": {},
   "source": [
    "## Ridge regression"
   ]
  },
  {
   "cell_type": "code",
   "execution_count": 3,
   "metadata": {},
   "outputs": [
    {
     "name": "stdout",
     "output_type": "stream",
     "text": [
      "y = 5.28638 + 3.01013 * X_0 -2.89378 * X_1\n"
     ]
    }
   ],
   "source": [
    "model = linear_model.Ridge(alpha=.5)\n",
    "model.fit(X, y)\n",
    "\n",
    "intercept = f'{model.intercept_:.5f}'\n",
    "coefs = ' '.join([f'{c:.5f} * X_{i}' for i, c in enumerate(model.coef_)])\n",
    "print(f'y = {intercept} + {coefs}')"
   ]
  },
  {
   "cell_type": "markdown",
   "metadata": {},
   "source": [
    "## Lasso regression"
   ]
  },
  {
   "cell_type": "code",
   "execution_count": 4,
   "metadata": {},
   "outputs": [
    {
     "name": "stdout",
     "output_type": "stream",
     "text": [
      "y = 3.79514 + 2.50159 * X_0 -2.39489 * X_1\n"
     ]
    }
   ],
   "source": [
    "model = linear_model.Lasso(alpha=.5)\n",
    "model.fit(X, y)\n",
    "\n",
    "intercept = f'{model.intercept_:.5f}'\n",
    "coefs = ' '.join([f'{c:.5f} * X_{i}' for i, c in enumerate(model.coef_)])\n",
    "print(f'y = {intercept} + {coefs}')"
   ]
  },
  {
   "cell_type": "markdown",
   "metadata": {},
   "source": [
    "## ElasticNet regression"
   ]
  },
  {
   "cell_type": "code",
   "execution_count": 5,
   "metadata": {},
   "outputs": [
    {
     "name": "stdout",
     "output_type": "stream",
     "text": [
      "y = 2.96219 + 2.19723 * X_0 -2.11621 * X_1\n"
     ]
    }
   ],
   "source": [
    "model = linear_model.ElasticNet(alpha=.5)\n",
    "model.fit(X, y)\n",
    "\n",
    "intercept = f'{model.intercept_:.5f}'\n",
    "coefs = ' '.join([f'{c:.5f} * X_{i}' for i, c in enumerate(model.coef_)])\n",
    "print(f'y = {intercept} + {coefs}')"
   ]
  },
  {
   "cell_type": "markdown",
   "metadata": {},
   "source": [
    "## Bayesian ridge regression"
   ]
  },
  {
   "cell_type": "code",
   "execution_count": 6,
   "metadata": {},
   "outputs": [
    {
     "name": "stdout",
     "output_type": "stream",
     "text": [
      "y = 5.28671 + 3.01025 * X_0 -2.89389 * X_1\n"
     ]
    }
   ],
   "source": [
    "model = linear_model.BayesianRidge()\n",
    "model.fit(X, y)\n",
    "\n",
    "intercept = f'{model.intercept_:.5f}'\n",
    "coefs = ' '.join([f'{c:.5f} * X_{i}' for i, c in enumerate(model.coef_)])\n",
    "print(f'y = {intercept} + {coefs}')"
   ]
  }
 ],
 "metadata": {
  "kernelspec": {
   "display_name": "Python 3",
   "language": "python",
   "name": "python3"
  },
  "language_info": {
   "codemirror_mode": {
    "name": "ipython",
    "version": 3
   },
   "file_extension": ".py",
   "mimetype": "text/x-python",
   "name": "python",
   "nbconvert_exporter": "python",
   "pygments_lexer": "ipython3",
   "version": "3.7.3"
  }
 },
 "nbformat": 4,
 "nbformat_minor": 4
}
