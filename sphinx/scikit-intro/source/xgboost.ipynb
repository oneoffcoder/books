{
 "cells": [
  {
   "cell_type": "markdown",
   "metadata": {},
   "source": [
    "# XGBoost\n",
    "\n",
    "[XGBoost](https://xgboost.readthedocs.io/), or `eXtreme Gradient Boosting`, is gradient boosting library. Although `scikit-learn` has several [boosting algorithms available](https://scikit-learn.org/stable/modules/classes.html#module-sklearn.ensemble), XGBoost's implementations are parallelized and takes advantage of GPU computing. A few of the types of learners XGBoost has include gradient boosting for regression, classification and survival analysis (e.g. Accelerated Failure Time `AFT`). There are no shortages of boosting libraries; here's a few more.\n",
    "\n",
    "- [LightGBM](https://lightgbm.readthedocs.io)\n",
    "- [CatBoost](https://catboost.ai/)"
   ]
  },
  {
   "cell_type": "markdown",
   "metadata": {},
   "source": [
    "## Regression\n",
    "\n",
    "Let's see how XGBoost works on regression problems by first simulating data."
   ]
  },
  {
   "cell_type": "code",
   "execution_count": 1,
   "metadata": {},
   "outputs": [
    {
     "name": "stdout",
     "output_type": "stream",
     "text": [
      "X shape = (1000, 10), y shape (1000,)\n"
     ]
    }
   ],
   "source": [
    "import numpy as np\n",
    "import random \n",
    "from sklearn.datasets import make_regression\n",
    "\n",
    "random.seed(37)\n",
    "np.random.seed(37)\n",
    "\n",
    "X, y = make_regression(**{\n",
    "    'n_samples': 1000,\n",
    "    'n_features': 10,\n",
    "    'n_targets': 1,\n",
    "    'bias': 5.3,\n",
    "    'random_state': 37\n",
    "})\n",
    "\n",
    "print(f'X shape = {X.shape}, y shape {y.shape}')"
   ]
  },
  {
   "cell_type": "markdown",
   "metadata": {},
   "source": [
    "We will split the generated data into training and testing sets."
   ]
  },
  {
   "cell_type": "code",
   "execution_count": 2,
   "metadata": {},
   "outputs": [
    {
     "name": "stdout",
     "output_type": "stream",
     "text": [
      "(800, 10) (800,)\n",
      "(200, 10) (200,)\n"
     ]
    }
   ],
   "source": [
    "from sklearn.model_selection import train_test_split\n",
    "\n",
    "X_train, X_test, y_train, y_test = train_test_split(X, y, test_size=0.2, random_state=37) \n",
    "\n",
    "print(X_train.shape, y_train.shape)\n",
    "print(X_test.shape, y_test.shape)"
   ]
  },
  {
   "cell_type": "markdown",
   "metadata": {},
   "source": [
    "The `XGBRegressor` class is used to learn a boosted regression model. Note that the objective is specified to `reg:squarederror`. A list of objectives is [available](https://xgboost.readthedocs.io/en/latest/parameter.html#learning-task-parameters). Here, we specify only 10 estimators."
   ]
  },
  {
   "cell_type": "code",
   "execution_count": 3,
   "metadata": {},
   "outputs": [
    {
     "data": {
      "text/plain": [
       "XGBRegressor(base_score=0.5, booster='gbtree', colsample_bylevel=1,\n",
       "             colsample_bynode=1, colsample_bytree=1, gamma=0, gpu_id=-1,\n",
       "             importance_type='gain', interaction_constraints='',\n",
       "             learning_rate=0.300000012, max_delta_step=0, max_depth=6,\n",
       "             min_child_weight=1, missing=nan, monotone_constraints='()',\n",
       "             n_estimators=10, n_jobs=12, num_parallel_tree=1, random_state=37,\n",
       "             reg_alpha=0, reg_lambda=1, scale_pos_weight=1, seed=37,\n",
       "             subsample=1, tree_method='exact', validate_parameters=1,\n",
       "             verbosity=None)"
      ]
     },
     "execution_count": 3,
     "metadata": {},
     "output_type": "execute_result"
    }
   ],
   "source": [
    "import xgboost as xgb\n",
    "\n",
    "model = xgb.XGBRegressor(objective='reg:squarederror', n_estimators=10, seed=37) \n",
    "model.fit(X_train, y_train)"
   ]
  },
  {
   "cell_type": "markdown",
   "metadata": {},
   "source": [
    "We will measure the performance of the model using `mean absolute error` (MAE) and `root mean squared error` (RMSE)."
   ]
  },
  {
   "cell_type": "code",
   "execution_count": 4,
   "metadata": {},
   "outputs": [
    {
     "name": "stdout",
     "output_type": "stream",
     "text": [
      "35.00964208044854\n",
      "44.165107049077356\n"
     ]
    }
   ],
   "source": [
    "from sklearn.metrics import mean_squared_error, mean_absolute_error\n",
    "\n",
    "y_pred = model.predict(X_test)\n",
    "\n",
    "mae = mean_absolute_error(y_test, y_pred)\n",
    "rmse = np.sqrt(mean_squared_error(y_test, y_pred))\n",
    "\n",
    "print(mae)\n",
    "print(rmse)"
   ]
  },
  {
   "cell_type": "markdown",
   "metadata": {},
   "source": [
    "As you increase the number of estimators, the performance should increase, as measured by `MAE` and `RMSE`. There is a point of diminishing returns, however."
   ]
  },
  {
   "cell_type": "code",
   "execution_count": 5,
   "metadata": {},
   "outputs": [],
   "source": [
    "import pandas as pd\n",
    "\n",
    "def get_performance(n_estimators):\n",
    "    model = xgb.XGBRegressor(objective='reg:squarederror', n_estimators=n_estimators, seed=37) \n",
    "    model.fit(X_train, y_train)\n",
    "\n",
    "    y_pred = model.predict(X_test)\n",
    "\n",
    "    mae = mean_absolute_error(y_test, y_pred)\n",
    "    rmse = np.sqrt(mean_squared_error(y_test, y_pred))\n",
    "    return {'mae': mae, 'rmse': rmse}\n",
    "\n",
    "n_estimators = list(range(10, 101, 1))\n",
    "results = pd.DataFrame([get_performance(n) for n in n_estimators], index=n_estimators)"
   ]
  },
  {
   "cell_type": "code",
   "execution_count": 6,
   "metadata": {},
   "outputs": [
    {
     "data": {
      "image/png": "[encoded data removed]",
      "text/plain": [
       "<Figure size 1080x216 with 2 Axes>"
      ]
     },
     "metadata": {},
     "output_type": "display_data"
    }
   ],
   "source": [
    "import matplotlib.pyplot as plt\n",
    "\n",
    "plt.style.use('ggplot')\n",
    "\n",
    "fig, axes = plt.subplots(1, 2, figsize=(15, 3))\n",
    "\n",
    "_ = results.mae.plot(ax=axes[0])\n",
    "_ = results.rmse.plot(ax=axes[1])\n",
    "\n",
    "axes[0].set_title('XGBoost Regression Performance')\n",
    "axes[1].set_title('XGBoost Regression Performance')\n",
    "\n",
    "axes[0].set_ylabel('MAE')\n",
    "axes[1].set_ylabel('RMSE')\n",
    "\n",
    "plt.tight_layout()"
   ]
  },
  {
   "cell_type": "markdown",
   "metadata": {},
   "source": [
    "## Classification\n",
    "\n",
    "Let's turn our attention to using XGBoost for classification by generating data for a classification problem."
   ]
  },
  {
   "cell_type": "code",
   "execution_count": 7,
   "metadata": {},
   "outputs": [
    {
     "name": "stdout",
     "output_type": "stream",
     "text": [
      "X shape = (2000, 20), y shape (2000,)\n"
     ]
    }
   ],
   "source": [
    "from sklearn.datasets import make_classification\n",
    "\n",
    "X, y = make_classification(**{\n",
    "    'n_samples': 2000,\n",
    "    'n_features': 20,\n",
    "    'n_informative': 10,\n",
    "    'n_redundant': 0,\n",
    "    'n_repeated': 0,\n",
    "    'n_classes': 2,\n",
    "    'random_state': 37\n",
    "})\n",
    "\n",
    "print(f'X shape = {X.shape}, y shape {y.shape}')"
   ]
  },
  {
   "cell_type": "markdown",
   "metadata": {},
   "source": [
    "We will split the data into training and testing sets."
   ]
  },
  {
   "cell_type": "code",
   "execution_count": 8,
   "metadata": {},
   "outputs": [
    {
     "name": "stdout",
     "output_type": "stream",
     "text": [
      "(1600, 20) (1600,)\n",
      "(400, 20) (400,)\n"
     ]
    }
   ],
   "source": [
    "X_train, X_test, y_train, y_test = train_test_split(X, y, test_size=0.2, random_state=37) \n",
    "\n",
    "print(X_train.shape, y_train.shape)\n",
    "print(X_test.shape, y_test.shape)"
   ]
  },
  {
   "cell_type": "markdown",
   "metadata": {},
   "source": [
    "The input data must be transformed from numpy arrays into `DMatrix`. "
   ]
  },
  {
   "cell_type": "code",
   "execution_count": 9,
   "metadata": {},
   "outputs": [
    {
     "name": "stdout",
     "output_type": "stream",
     "text": [
      "1600 20\n",
      "400 20\n"
     ]
    }
   ],
   "source": [
    "dtrain = xgb.DMatrix(X_train, y_train)\n",
    "dtest = xgb.DMatrix(X_test, y_test)\n",
    "\n",
    "print(dtrain.num_row(), dtrain.num_col())\n",
    "print(dtest.num_row(), dtest.num_col())"
   ]
  },
  {
   "cell_type": "markdown",
   "metadata": {},
   "source": [
    "Now we are ready to learn a classification model with XGBoost."
   ]
  },
  {
   "cell_type": "code",
   "execution_count": 10,
   "metadata": {},
   "outputs": [],
   "source": [
    "param = {\n",
    "    'max_depth':2, \n",
    "    'eta':1, \n",
    "    'objective':'binary:logistic', \n",
    "    'eval_metric': 'logloss', \n",
    "    'seed': 37\n",
    "}\n",
    "num_round = 20\n",
    "\n",
    "model = xgb.train(param, dtrain, num_round)"
   ]
  },
  {
   "cell_type": "markdown",
   "metadata": {},
   "source": [
    "We will measure the performance of the model using `Area Under the Curve` (the Receiver Operating Characteristic curve) and the `Average Precision Score`. "
   ]
  },
  {
   "cell_type": "code",
   "execution_count": 11,
   "metadata": {},
   "outputs": [
    {
     "name": "stdout",
     "output_type": "stream",
     "text": [
      "0.951115116017121\n",
      "0.9450649144817633\n"
     ]
    }
   ],
   "source": [
    "from sklearn.metrics import roc_auc_score, average_precision_score\n",
    "\n",
    "y_pred = model.predict(dtest)\n",
    "\n",
    "auc = roc_auc_score(y_test, y_pred)\n",
    "aps = average_precision_score(y_test, y_pred)\n",
    "\n",
    "print(auc)\n",
    "print(aps)"
   ]
  },
  {
   "cell_type": "markdown",
   "metadata": {},
   "source": [
    "## Survival\n",
    "\n",
    "Let's see how survival regression works with XGBoost. Let's sample some data. "
   ]
  },
  {
   "cell_type": "code",
   "execution_count": 12,
   "metadata": {},
   "outputs": [
    {
     "name": "stdout",
     "output_type": "stream",
     "text": [
      "X shape = (1000, 4), y shape (1000,), coef shape = (4,)\n"
     ]
    }
   ],
   "source": [
    "X, y = make_regression(**{\n",
    "    'n_samples': 1000,\n",
    "    'n_features': 4,\n",
    "    'n_targets': 0,\n",
    "    'random_state': 37\n",
    "})\n",
    "\n",
    "coef = np.array([2.0, -1.0, 3.5, 4.4])\n",
    "baseline = np.e / np.power(1 + np.e, 2.0)\n",
    "y = np.exp(-X.dot(coef)) * baseline\n",
    "\n",
    "print(f'X shape = {X.shape}, y shape {y.shape}, coef shape = {coef.shape}')"
   ]
  },
  {
   "cell_type": "markdown",
   "metadata": {},
   "source": [
    "Here, we will split the data into training and testing sets."
   ]
  },
  {
   "cell_type": "code",
   "execution_count": 13,
   "metadata": {},
   "outputs": [
    {
     "name": "stdout",
     "output_type": "stream",
     "text": [
      "(800, 4) (800,)\n",
      "(200, 4) (200,)\n"
     ]
    }
   ],
   "source": [
    "X_train, X_test, y_train, y_test = train_test_split(X, y, test_size=0.2, random_state=37) \n",
    "\n",
    "print(X_train.shape, y_train.shape)\n",
    "print(X_test.shape, y_test.shape)"
   ]
  },
  {
   "cell_type": "markdown",
   "metadata": {},
   "source": [
    "Let's turn the inputs into the appropriate format. Note that we do not supply the duration into the `DMatrix` but set the lower and upper bound using the `set_float_info()` method."
   ]
  },
  {
   "cell_type": "code",
   "execution_count": 14,
   "metadata": {},
   "outputs": [
    {
     "name": "stdout",
     "output_type": "stream",
     "text": [
      "800 4\n",
      "200 4\n"
     ]
    }
   ],
   "source": [
    "dtrain = xgb.DMatrix(X_train)\n",
    "dtest = xgb.DMatrix(X_test)\n",
    "\n",
    "dtrain.set_float_info('label_lower_bound', y_train)\n",
    "dtest.set_float_info('label_lower_bound', y_test)\n",
    "\n",
    "dtrain.set_float_info('label_upper_bound', y_train)\n",
    "dtest.set_float_info('label_upper_bound', y_test)\n",
    "\n",
    "print(dtrain.num_row(), dtrain.num_col())\n",
    "print(dtest.num_row(), dtest.num_col())"
   ]
  },
  {
   "cell_type": "markdown",
   "metadata": {},
   "source": [
    "The following shows how to specify a survival model with AFT."
   ]
  },
  {
   "cell_type": "code",
   "execution_count": 15,
   "metadata": {},
   "outputs": [
    {
     "name": "stdout",
     "output_type": "stream",
     "text": [
      "[0]\ttrain-aft-nloglik:2.58474\n",
      "[1]\ttrain-aft-nloglik:2.13443\n",
      "[2]\ttrain-aft-nloglik:1.76805\n",
      "[3]\ttrain-aft-nloglik:1.51551\n",
      "[4]\ttrain-aft-nloglik:1.30791\n",
      "[5]\ttrain-aft-nloglik:1.15456\n",
      "[6]\ttrain-aft-nloglik:1.01593\n",
      "[7]\ttrain-aft-nloglik:0.90408\n",
      "[8]\ttrain-aft-nloglik:0.80288\n",
      "[9]\ttrain-aft-nloglik:0.71937\n",
      "[10]\ttrain-aft-nloglik:0.64163\n",
      "[11]\ttrain-aft-nloglik:0.57327\n",
      "[12]\ttrain-aft-nloglik:0.51536\n",
      "[13]\ttrain-aft-nloglik:0.46241\n",
      "[14]\ttrain-aft-nloglik:0.41428\n",
      "[15]\ttrain-aft-nloglik:0.37151\n",
      "[16]\ttrain-aft-nloglik:0.33085\n",
      "[17]\ttrain-aft-nloglik:0.29569\n",
      "[18]\ttrain-aft-nloglik:0.26403\n",
      "[19]\ttrain-aft-nloglik:0.23559\n",
      "[20]\ttrain-aft-nloglik:0.20816\n",
      "[21]\ttrain-aft-nloglik:0.18294\n",
      "[22]\ttrain-aft-nloglik:0.16056\n",
      "[23]\ttrain-aft-nloglik:0.13968\n",
      "[24]\ttrain-aft-nloglik:0.11968\n",
      "[25]\ttrain-aft-nloglik:0.10160\n",
      "[26]\ttrain-aft-nloglik:0.08428\n",
      "[27]\ttrain-aft-nloglik:0.06922\n",
      "[28]\ttrain-aft-nloglik:0.05431\n",
      "[29]\ttrain-aft-nloglik:0.04075\n",
      "[30]\ttrain-aft-nloglik:0.02782\n",
      "[31]\ttrain-aft-nloglik:0.01519\n",
      "[32]\ttrain-aft-nloglik:0.00409\n",
      "[33]\ttrain-aft-nloglik:-0.00611\n",
      "[34]\ttrain-aft-nloglik:-0.01670\n",
      "[35]\ttrain-aft-nloglik:-0.02580\n",
      "[36]\ttrain-aft-nloglik:-0.03482\n",
      "[37]\ttrain-aft-nloglik:-0.04267\n",
      "[38]\ttrain-aft-nloglik:-0.05033\n",
      "[39]\ttrain-aft-nloglik:-0.05770\n"
     ]
    }
   ],
   "source": [
    "params = {\n",
    "    'objective': 'survival:aft',\n",
    "    'eval_metric': 'aft-nloglik',\n",
    "    'aft_loss_distribution': 'logistic',\n",
    "    'aft_loss_distribution_scale': 1.0,\n",
    "    'tree_method': 'exact', \n",
    "    'learning_rate': 0.05, \n",
    "    'max_depth': 5\n",
    "}\n",
    "model = xgb.train(params, dtrain, num_boost_round=40, evals=[(dtrain, 'train')])"
   ]
  },
  {
   "cell_type": "markdown",
   "metadata": {},
   "source": [
    "Below, we evaluate the model using the [c-index](https://medium.com/analytics-vidhya/concordance-index-72298c11eac7)."
   ]
  },
  {
   "cell_type": "code",
   "execution_count": 16,
   "metadata": {},
   "outputs": [
    {
     "name": "stdout",
     "output_type": "stream",
     "text": [
      "0.9332160804020101\n"
     ]
    }
   ],
   "source": [
    "from itertools import combinations\n",
    "\n",
    "def get_status(p1, p2):\n",
    "    x1, y1 = p1[0], p1[1]\n",
    "    x2, y2 = p2[0], p2[1]\n",
    "    \n",
    "    r = (y2 - y1) * (x2 - x1)\n",
    "    \n",
    "    if r > 0:\n",
    "        return 1\n",
    "    elif r < 0:\n",
    "        return -1\n",
    "    else:\n",
    "        return 0\n",
    "    \n",
    "y_pred = model.predict(dtest)\n",
    "pairs = combinations([(y_t, y_p) for y_t, y_p in zip(y_test, y_pred)], 2)\n",
    "results = [get_status(p1, p2) for p1, p2 in pairs]\n",
    "c = sum([1 for r in results if r == 1])\n",
    "n = len(results)\n",
    "print(c / n)"
   ]
  },
  {
   "cell_type": "markdown",
   "metadata": {},
   "source": [
    "The c-index of the predictions from the training is as expected; it's higher than the testing set."
   ]
  },
  {
   "cell_type": "code",
   "execution_count": 17,
   "metadata": {},
   "outputs": [
    {
     "name": "stdout",
     "output_type": "stream",
     "text": [
      "0.9664893617021276\n"
     ]
    }
   ],
   "source": [
    "y_pred = model.predict(dtrain)\n",
    "\n",
    "pairs = combinations([(y_t, y_p) for y_t, y_p in zip(y_train, y_pred)], 2)\n",
    "results = [get_status(p1, p2) for p1, p2 in pairs]\n",
    "c = sum([1 for r in results if r == 1])\n",
    "n = len(results)\n",
    "print(c / n)"
   ]
  }
 ],
 "metadata": {
  "kernelspec": {
   "display_name": "Python 3",
   "language": "python",
   "name": "python3"
  },
  "language_info": {
   "codemirror_mode": {
    "name": "ipython",
    "version": 3
   },
   "file_extension": ".py",
   "mimetype": "text/x-python",
   "name": "python",
   "nbconvert_exporter": "python",
   "pygments_lexer": "ipython3",
   "version": "3.8.6"
  }
 },
 "nbformat": 4,
 "nbformat_minor": 4
}
