{
 "cells": [
  {
   "cell_type": "markdown",
   "metadata": {},
   "source": [
    "# Nearest Neighbors"
   ]
  },
  {
   "cell_type": "markdown",
   "metadata": {},
   "source": [
    "## Ball tree"
   ]
  },
  {
   "cell_type": "code",
   "execution_count": 1,
   "metadata": {},
   "outputs": [
    {
     "name": "stdout",
     "output_type": "stream",
     "text": [
      "distances\n",
      "[[0.         1.41421356]\n",
      " [0.70710678 0.70710678]]\n",
      "-\n",
      "indices\n",
      "[[2 1]\n",
      " [1 0]]\n"
     ]
    }
   ],
   "source": [
    "import numpy as np\n",
    "from sklearn.neighbors import BallTree\n",
    "\n",
    "X = np.array([\n",
    "    [-2, -2],\n",
    "    [-1, -1],\n",
    "    [0, 0],\n",
    "    [1, 1],\n",
    "    [2, 2]])\n",
    "\n",
    "q = np.array([\n",
    "    [0, 0],\n",
    "    [-1.5, -1.5]\n",
    "])\n",
    "\n",
    "tree = BallTree(X)\n",
    "distance, indices = tree.query(q, k=2)\n",
    "\n",
    "print('distances')\n",
    "print(distance)\n",
    "print('-')\n",
    "print('indices')\n",
    "print(indices)"
   ]
  },
  {
   "cell_type": "markdown",
   "metadata": {},
   "source": [
    "## KD tree"
   ]
  },
  {
   "cell_type": "code",
   "execution_count": 2,
   "metadata": {},
   "outputs": [
    {
     "name": "stdout",
     "output_type": "stream",
     "text": [
      "distances\n",
      "[[0.         1.41421356]\n",
      " [0.70710678 0.70710678]]\n",
      "-\n",
      "indices\n",
      "[[2 1]\n",
      " [1 0]]\n"
     ]
    }
   ],
   "source": [
    "from sklearn.neighbors import KDTree\n",
    "\n",
    "\n",
    "X = np.array([\n",
    "    [-2, -2],\n",
    "    [-1, -1],\n",
    "    [0, 0],\n",
    "    [1, 1],\n",
    "    [2, 2]])\n",
    "\n",
    "q = np.array([\n",
    "    [0, 0],\n",
    "    [-1.5, -1.5]\n",
    "])\n",
    "\n",
    "tree = KDTree(X)\n",
    "distance, indices = tree.query(q, k=2)\n",
    "\n",
    "print('distances')\n",
    "print(distance)\n",
    "print('-')\n",
    "print('indices')\n",
    "print(indices)"
   ]
  },
  {
   "cell_type": "markdown",
   "metadata": {},
   "source": [
    "## Nearest centroid"
   ]
  },
  {
   "cell_type": "code",
   "execution_count": 3,
   "metadata": {},
   "outputs": [
    {
     "data": {
      "text/plain": [
       "array([1, 0])"
      ]
     },
     "execution_count": 3,
     "metadata": {},
     "output_type": "execute_result"
    }
   ],
   "source": [
    "from sklearn.neighbors import NearestCentroid\n",
    "\n",
    "X = np.array([\n",
    "    [-2, -2],\n",
    "    [-1, -1],\n",
    "    [1, 1],\n",
    "    [2, 2]])\n",
    "\n",
    "y = np.array([0, 0, 1, 1])\n",
    "\n",
    "q = np.array([\n",
    "    [1.5, 1.5],\n",
    "    [-1.5, -1.5]\n",
    "])\n",
    "\n",
    "nc = NearestCentroid()\n",
    "nc.fit(X, y)\n",
    "\n",
    "nc.predict(q)"
   ]
  },
  {
   "cell_type": "markdown",
   "metadata": {},
   "source": [
    "## Nearest neighbor"
   ]
  },
  {
   "cell_type": "code",
   "execution_count": 4,
   "metadata": {},
   "outputs": [
    {
     "name": "stdout",
     "output_type": "stream",
     "text": [
      "distances\n",
      "[[0.         1.41421356]\n",
      " [0.70710678 0.70710678]]\n",
      "-\n",
      "indices\n",
      "[[2 1]\n",
      " [0 1]]\n"
     ]
    }
   ],
   "source": [
    "from sklearn.neighbors import NearestNeighbors\n",
    "\n",
    "X = np.array([\n",
    "    [-2, -2],\n",
    "    [-1, -1],\n",
    "    [0, 0],\n",
    "    [1, 1],\n",
    "    [2, 2]])\n",
    "\n",
    "q = np.array([\n",
    "    [0, 0],\n",
    "    [-1.5, -1.5]\n",
    "])\n",
    "\n",
    "nn = NearestNeighbors(n_neighbors=2)\n",
    "nn.fit(X)\n",
    "distance, indices = nn.kneighbors(q)\n",
    "\n",
    "print('distances')\n",
    "print(distance)\n",
    "print('-')\n",
    "print('indices')\n",
    "print(indices)"
   ]
  }
 ],
 "metadata": {
  "kernelspec": {
   "display_name": "Python 3",
   "language": "python",
   "name": "python3"
  },
  "language_info": {
   "codemirror_mode": {
    "name": "ipython",
    "version": 3
   },
   "file_extension": ".py",
   "mimetype": "text/x-python",
   "name": "python",
   "nbconvert_exporter": "python",
   "pygments_lexer": "ipython3",
   "version": "3.7.3"
  }
 },
 "nbformat": 4,
 "nbformat_minor": 4
}
