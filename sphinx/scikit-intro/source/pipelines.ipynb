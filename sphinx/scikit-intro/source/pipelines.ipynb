{
 "cells": [
  {
   "cell_type": "markdown",
   "metadata": {},
   "source": [
    "# Pipelines"
   ]
  },
  {
   "cell_type": "code",
   "execution_count": 11,
   "metadata": {},
   "outputs": [],
   "source": [
    "import numpy as np\n",
    "from random import randint\n",
    "from sklearn.datasets import make_classification\n",
    "\n",
    "def get_data(n_features=20, n_samples=2000, n_missing=100):\n",
    "    def generate_coordinates(m, n):\n",
    "        seen = set()\n",
    "\n",
    "        x, y = randint(0, m - 1), randint(0, n - 1)\n",
    "\n",
    "        while True:\n",
    "            seen.add((x, y))\n",
    "            yield (x, y)\n",
    "            x, y = randint(0, m - 1), randint(0, n - 1)\n",
    "            while (x, y) in seen:\n",
    "                x, y = randint(0, m - 1), randint(0, n - 1)\n",
    "                \n",
    "    def make_missing(X):\n",
    "        coords = generate_coordinates(n_samples, n_features)\n",
    "    \n",
    "        for _ in range(n_missing):\n",
    "            i, j = next(coords)\n",
    "            X[i][j] = np.nan\n",
    "    \n",
    "    X, y = make_classification(**{\n",
    "        'n_samples': n_samples, \n",
    "        'n_features': n_features, \n",
    "        'n_informative': 2, \n",
    "        'n_redundant': 2, \n",
    "        'n_repeated': 0, \n",
    "        'n_classes': 2, \n",
    "        'n_clusters_per_class': 2, \n",
    "        'random_state': 37\n",
    "    })\n",
    "    \n",
    "    return X, y\n",
    "\n",
    "# to verify missing data\n",
    "# np.count_nonzero(np.isnan(X))\n",
    "X, y = get_data()"
   ]
  },
  {
   "cell_type": "code",
   "execution_count": 14,
   "metadata": {},
   "outputs": [
    {
     "data": {
      "text/plain": [
       "Pipeline(memory=None,\n",
       "         steps=[('imputer',\n",
       "                 IterativeImputer(add_indicator=False, estimator=None,\n",
       "                                  imputation_order='ascending',\n",
       "                                  initial_strategy='mean', max_iter=10,\n",
       "                                  max_value=None, min_value=None,\n",
       "                                  missing_values=nan, n_nearest_features=None,\n",
       "                                  random_state=37, sample_posterior=False,\n",
       "                                  tol=0.001, verbose=0)),\n",
       "                ('scaler',\n",
       "                 StandardScaler(copy=True, with_mean=True, with_std=T...\n",
       "                 RandomForestClassifier(bootstrap=True, class_weight=None,\n",
       "                                        criterion='gini', max_depth=None,\n",
       "                                        max_features='auto',\n",
       "                                        max_leaf_nodes=None,\n",
       "                                        min_impurity_decrease=0.0,\n",
       "                                        min_impurity_split=None,\n",
       "                                        min_samples_leaf=1, min_samples_split=2,\n",
       "                                        min_weight_fraction_leaf=0.0,\n",
       "                                        n_estimators=100, n_jobs=None,\n",
       "                                        oob_score=False, random_state=None,\n",
       "                                        verbose=0, warm_start=False))],\n",
       "         verbose=False)"
      ]
     },
     "execution_count": 14,
     "metadata": {},
     "output_type": "execute_result"
    }
   ],
   "source": [
    "from sklearn.pipeline import Pipeline\n",
    "from sklearn.preprocessing import StandardScaler\n",
    "from sklearn.decomposition import PCA\n",
    "from sklearn.ensemble import RandomForestClassifier\n",
    "from sklearn.experimental import enable_iterative_imputer\n",
    "from sklearn.impute import IterativeImputer\n",
    "\n",
    "imputer = IterativeImputer(missing_values=np.nan, random_state=37)\n",
    "scaler = StandardScaler()\n",
    "pca = PCA(n_components=3, random_state=37)\n",
    "rf = RandomForestClassifier(n_estimators=100)\n",
    "\n",
    "pipeline = Pipeline([\n",
    "    ('imputer', imputer),\n",
    "    ('scaler', scaler), \n",
    "    ('pca', pca),\n",
    "    ('rf', rf)\n",
    "])\n",
    "\n",
    "pipeline.fit(X, y)"
   ]
  },
  {
   "cell_type": "code",
   "execution_count": null,
   "metadata": {},
   "outputs": [],
   "source": []
  }
 ],
 "metadata": {
  "kernelspec": {
   "display_name": "Python 3",
   "language": "python",
   "name": "python3"
  },
  "language_info": {
   "codemirror_mode": {
    "name": "ipython",
    "version": 3
   },
   "file_extension": ".py",
   "mimetype": "text/x-python",
   "name": "python",
   "nbconvert_exporter": "python",
   "pygments_lexer": "ipython3",
   "version": "3.7.3"
  }
 },
 "nbformat": 4,
 "nbformat_minor": 4
}
