{
 "cells": [
  {
   "cell_type": "markdown",
   "metadata": {},
   "source": [
    "# Logistic Regression"
   ]
  },
  {
   "cell_type": "markdown",
   "metadata": {},
   "source": [
    "## Generate data"
   ]
  },
  {
   "cell_type": "code",
   "execution_count": 1,
   "metadata": {},
   "outputs": [],
   "source": [
    "import numpy as np\n",
    "from numpy.random import binomial, normal\n",
    "from scipy.stats import bernoulli, binom\n",
    "from collections import namedtuple\n",
    "\n",
    "Data = namedtuple('Data', 'X y')\n",
    "\n",
    "np.random.seed(37)\n",
    "\n",
    "def get_data(N=10000):\n",
    "    X = np.hstack([\n",
    "        np.array([1 for _ in range(N)]).reshape(N, 1), \n",
    "        normal(0.0, 1.0, N).reshape(N, 1), \n",
    "        normal(0.0, 1.0, N).reshape(N, 1)\n",
    "    ])\n",
    "\n",
    "    z = np.dot(X, np.array([1.0, 2.0, 3.0])) + normal(0.0, 0.2, N)\n",
    "    p = 1.0 / (1.0 + np.exp(-z))\n",
    "    y = binom.rvs(1, p)\n",
    "    return Data(X, y)\n",
    "\n",
    "# training\n",
    "T = get_data()\n",
    "\n",
    "# validation\n",
    "V = get_data(N=1000)"
   ]
  },
  {
   "cell_type": "markdown",
   "metadata": {},
   "source": [
    "## Types of logistic regression"
   ]
  },
  {
   "cell_type": "markdown",
   "metadata": {},
   "source": [
    "### Logistic regression with L1 penalty"
   ]
  },
  {
   "cell_type": "code",
   "execution_count": 2,
   "metadata": {},
   "outputs": [
    {
     "data": {
      "text/plain": [
       "LogisticRegression(C=1.0, class_weight=None, dual=False, fit_intercept=False,\n",
       "                   intercept_scaling=1, l1_ratio=None, max_iter=100,\n",
       "                   multi_class='warn', n_jobs=None, penalty='l1',\n",
       "                   random_state=None, solver='liblinear', tol=0.0001, verbose=0,\n",
       "                   warm_start=False)"
      ]
     },
     "execution_count": 2,
     "metadata": {},
     "output_type": "execute_result"
    }
   ],
   "source": [
    "from sklearn.linear_model import LogisticRegression\n",
    "\n",
    "lr1 = LogisticRegression(penalty='l1', solver='liblinear', fit_intercept=False)\n",
    "lr1.fit(T.X, T.y)"
   ]
  },
  {
   "cell_type": "markdown",
   "metadata": {},
   "source": [
    "### Logistic regression with L2 penalty"
   ]
  },
  {
   "cell_type": "code",
   "execution_count": 3,
   "metadata": {},
   "outputs": [
    {
     "data": {
      "text/plain": [
       "LogisticRegression(C=1.0, class_weight=None, dual=False, fit_intercept=True,\n",
       "                   intercept_scaling=1, l1_ratio=None, max_iter=100,\n",
       "                   multi_class='warn', n_jobs=None, penalty='l2',\n",
       "                   random_state=None, solver='liblinear', tol=0.0001, verbose=0,\n",
       "                   warm_start=False)"
      ]
     },
     "execution_count": 3,
     "metadata": {},
     "output_type": "execute_result"
    }
   ],
   "source": [
    "lr2 = LogisticRegression(penalty='l2', solver='liblinear')\n",
    "lr2.fit(T.X, T.y)"
   ]
  },
  {
   "cell_type": "markdown",
   "metadata": {},
   "source": [
    "## Performance"
   ]
  },
  {
   "cell_type": "code",
   "execution_count": 4,
   "metadata": {},
   "outputs": [],
   "source": [
    "models = [lr1, lr2]\n",
    "weights = [np.array(model.coef_).transpose() for model in models]\n",
    "y_preds = [model.predict_proba(V.X)[:,1] for model in models]"
   ]
  },
  {
   "cell_type": "markdown",
   "metadata": {},
   "source": [
    "### Efron r-squared"
   ]
  },
  {
   "cell_type": "code",
   "execution_count": 5,
   "metadata": {},
   "outputs": [
    {
     "data": {
      "text/plain": [
       "[0.6031210532127538, 0.6030840398255952]"
      ]
     },
     "execution_count": 5,
     "metadata": {},
     "output_type": "execute_result"
    }
   ],
   "source": [
    "def efron_rsquare(y, y_pred):\n",
    "    n = float(len(y))\n",
    "    t1 = np.sum(np.power(y - y_pred, 2.0))\n",
    "    t2 = np.sum(np.power((y - (np.sum(y) / n)), 2.0))\n",
    "    \n",
    "    return 1.0 - (t1 / t2)\n",
    "\n",
    "[efron_rsquare(V.y, y_p) for model, y_p in zip(models, y_preds)]"
   ]
  },
  {
   "cell_type": "markdown",
   "metadata": {},
   "source": [
    "### McFadden r-squared"
   ]
  },
  {
   "cell_type": "code",
   "execution_count": 6,
   "metadata": {},
   "outputs": [
    {
     "data": {
      "text/plain": [
       "[0.5628195673845076, 0.5188920058998845]"
      ]
     },
     "execution_count": 6,
     "metadata": {},
     "output_type": "execute_result"
    }
   ],
   "source": [
    "def mcfadden_rsquare(w, X, y):\n",
    "    def full_log_likelihood(w, X, y):\n",
    "        score = np.dot(X, w).reshape(1, X.shape[0])\n",
    "        return np.sum(-np.log(1 + np.exp(score))) + np.sum(y * score)\n",
    "\n",
    "    def null_log_likelihood(w, X, y):\n",
    "        z = np.array([w if i == 0 else 0.0 for i, w in enumerate(w.reshape(1, X.shape[1])[0])]).reshape(X.shape[1], 1)\n",
    "        score = np.dot(X, z).reshape(1, X.shape[0])\n",
    "        return np.sum(-np.log(1 + np.exp(score))) + np.sum(y * score)\n",
    "\n",
    "    return 1.0 - (full_log_likelihood(w, X, y) / null_log_likelihood(w, X, y))\n",
    "\n",
    "[mcfadden_rsquare(w, T.X, T.y) for w in weights]"
   ]
  },
  {
   "cell_type": "markdown",
   "metadata": {},
   "source": [
    "### McFadden adjusted r-squared"
   ]
  },
  {
   "cell_type": "code",
   "execution_count": 7,
   "metadata": {},
   "outputs": [
    {
     "data": {
      "text/plain": [
       "[0.5624019131203336, 0.5184493056623285]"
      ]
     },
     "execution_count": 7,
     "metadata": {},
     "output_type": "execute_result"
    }
   ],
   "source": [
    "def mcfadden_adjusted_rsquare(w, X, y):\n",
    "    def full_log_likelihood(w, X, y):\n",
    "        score = np.dot(X, w).reshape(1, X.shape[0])\n",
    "        return np.sum(-np.log(1 + np.exp(score))) + np.sum(y * score)\n",
    "\n",
    "    def null_log_likelihood(w, X, y):\n",
    "        z = np.array([w if i == 0 else 0.0 for i, w in enumerate(w.reshape(1, X.shape[1])[0])]).reshape(X.shape[1], 1)\n",
    "        score = np.dot(X, z).reshape(1, X.shape[0])\n",
    "        return np.sum(-np.log(1 + np.exp(score))) + np.sum(y * score)\n",
    "    \n",
    "    k = float(X.shape[1])\n",
    "    \n",
    "    return 1.0 - ((full_log_likelihood(w, X, y) - k) / null_log_likelihood(w, X, y))\n",
    "\n",
    "[mcfadden_adjusted_rsquare(w, T.X, T.y) for w in weights]"
   ]
  },
  {
   "cell_type": "markdown",
   "metadata": {},
   "source": [
    "### McKelvey & Zavoina r-squared"
   ]
  },
  {
   "cell_type": "code",
   "execution_count": 8,
   "metadata": {},
   "outputs": [
    {
     "data": {
      "text/plain": [
       "[0.04114214468764824, 0.04107911565272002]"
      ]
     },
     "execution_count": 8,
     "metadata": {},
     "output_type": "execute_result"
    }
   ],
   "source": [
    "def mz_rsquare(y_pred):\n",
    "    return np.var(y_pred) / (np.var(y_pred) + (np.power(np.pi, 2.0) / 3.0) )\n",
    "\n",
    "[mz_rsquare(y_pred) for y_pred in y_preds]"
   ]
  },
  {
   "cell_type": "markdown",
   "metadata": {},
   "source": [
    "### Count r-squared"
   ]
  },
  {
   "cell_type": "code",
   "execution_count": 9,
   "metadata": {},
   "outputs": [
    {
     "data": {
      "text/plain": [
       "[0.865, 0.865]"
      ]
     },
     "execution_count": 9,
     "metadata": {},
     "output_type": "execute_result"
    }
   ],
   "source": [
    "def count_rsquare(y, y_pred, t=0.5):\n",
    "    def get_num_correct(y, y_pred, t=0.5):\n",
    "        y_correct = np.array([0.0 if p < t else 1.0 for p in y_pred])\n",
    "        return sum([1.0 for p, p_pred in zip(y, y_correct) if p == p_pred])\n",
    "\n",
    "    n = float(len(y))\n",
    "    num_correct = get_num_correct(y, y_pred, t)\n",
    "    \n",
    "    return num_correct / n\n",
    "\n",
    "[count_rsquare(V.y, y_pred) for y_pred in y_preds]"
   ]
  },
  {
   "cell_type": "markdown",
   "metadata": {},
   "source": [
    "### Adjust count r-squared"
   ]
  },
  {
   "cell_type": "code",
   "execution_count": 10,
   "metadata": {},
   "outputs": [
    {
     "data": {
      "text/plain": [
       "[0.6723300970873787, 0.6723300970873787]"
      ]
     },
     "execution_count": 10,
     "metadata": {},
     "output_type": "execute_result"
    }
   ],
   "source": [
    "def count_adjusted_rsquare(y, y_pred, t=0.5):\n",
    "    def get_num_correct(y, y_pred, t=0.5):\n",
    "        y_correct = np.array([0.0 if p < t else 1.0 for p in y_pred])\n",
    "        return sum([1.0 for p, p_pred in zip(y, y_correct) if p == p_pred])\n",
    "    \n",
    "    def get_count_most_freq_outcome(y):\n",
    "        num_0 = 0\n",
    "        num_1 = 0\n",
    "        for p in y:\n",
    "            if p == 1.0:\n",
    "                num_1 += 1\n",
    "            else:\n",
    "                num_0 += 1\n",
    "        return float(max(num_0, num_1))\n",
    "\n",
    "    correct = get_num_correct(y, y_pred, t)\n",
    "    total = float(len(y))\n",
    "    n = get_count_most_freq_outcome(y)\n",
    "    \n",
    "    return (correct - n) / (total - n)\n",
    "\n",
    "[count_adjusted_rsquare(V.y, y_pred) for y_pred in y_preds]"
   ]
  }
 ],
 "metadata": {
  "kernelspec": {
   "display_name": "Python 3",
   "language": "python",
   "name": "python3"
  },
  "language_info": {
   "codemirror_mode": {
    "name": "ipython",
    "version": 3
   },
   "file_extension": ".py",
   "mimetype": "text/x-python",
   "name": "python",
   "nbconvert_exporter": "python",
   "pygments_lexer": "ipython3",
   "version": "3.7.3"
  }
 },
 "nbformat": 4,
 "nbformat_minor": 4
}
