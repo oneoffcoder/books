{
 "cells": [
  {
   "cell_type": "markdown",
   "metadata": {},
   "source": [
    "# Logistic regression"
   ]
  },
  {
   "cell_type": "markdown",
   "metadata": {},
   "source": [
    "## Generate data"
   ]
  },
  {
   "cell_type": "code",
   "execution_count": 1,
   "metadata": {},
   "outputs": [],
   "source": [
    "import numpy as np\n",
    "from numpy.random import binomial, normal\n",
    "from scipy.stats import bernoulli, binom\n",
    "\n",
    "np.random.seed(37)\n",
    "\n",
    "n = 10000\n",
    "\n",
    "X = np.hstack([\n",
    "    np.array([1 for _ in range(n)]).reshape(n, 1), \n",
    "    normal(0.0, 1.0, n).reshape(n, 1), \n",
    "    normal(0.0, 1.0, n).reshape(n, 1)\n",
    "])\n",
    "\n",
    "z = np.dot(X, np.array([1.0, 2.0, 3.0])) + normal(0.0, 0.2, n)\n",
    "p = 1.0 / (1.0 + np.exp(-z))\n",
    "y = binom.rvs(1, p)"
   ]
  },
  {
   "cell_type": "markdown",
   "metadata": {},
   "source": [
    "## Types of logistic regression"
   ]
  },
  {
   "cell_type": "markdown",
   "metadata": {},
   "source": [
    "### Logistic regression with L1 penalty"
   ]
  },
  {
   "cell_type": "code",
   "execution_count": 2,
   "metadata": {},
   "outputs": [
    {
     "name": "stdout",
     "output_type": "stream",
     "text": [
      "y = 0.97987 + 1.90850 * X_0 + 2.91831 * X_1\n"
     ]
    }
   ],
   "source": [
    "from sklearn import linear_model\n",
    "\n",
    "model = linear_model.LogisticRegression(penalty='l1', solver='liblinear', fit_intercept=False)\n",
    "model.fit(X, y)\n",
    "\n",
    "coefs = ' + '.join([f'{c:.5f} * X_{i-1}' if i > 0 else f'{c:.5f}' for i, c in enumerate(model.coef_[0])])\n",
    "print(f'y = {coefs}')"
   ]
  },
  {
   "cell_type": "markdown",
   "metadata": {},
   "source": [
    "### Logistic regression with L2 penalty"
   ]
  },
  {
   "cell_type": "code",
   "execution_count": 3,
   "metadata": {},
   "outputs": [
    {
     "name": "stdout",
     "output_type": "stream",
     "text": [
      "y = 0.48904 + 1.90329 * X_0 + 2.90994 * X_1\n"
     ]
    }
   ],
   "source": [
    "model = linear_model.LogisticRegression(penalty='l2', solver='liblinear')\n",
    "model.fit(X, y)\n",
    "\n",
    "coefs = ' + '.join([f'{c:.5f} * X_{i-1}' if i > 0 else f'{c:.5f}' for i, c in enumerate(model.coef_[0])])\n",
    "print(f'y = {coefs}')"
   ]
  },
  {
   "cell_type": "markdown",
   "metadata": {},
   "source": [
    "## Performance"
   ]
  },
  {
   "cell_type": "code",
   "execution_count": null,
   "metadata": {},
   "outputs": [],
   "source": []
  }
 ],
 "metadata": {
  "kernelspec": {
   "display_name": "Python 3",
   "language": "python",
   "name": "python3"
  },
  "language_info": {
   "codemirror_mode": {
    "name": "ipython",
    "version": 3
   },
   "file_extension": ".py",
   "mimetype": "text/x-python",
   "name": "python",
   "nbconvert_exporter": "python",
   "pygments_lexer": "ipython3",
   "version": "3.7.3"
  }
 },
 "nbformat": 4,
 "nbformat_minor": 4
}
