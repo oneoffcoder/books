{
 "cells": [
  {
   "cell_type": "markdown",
   "metadata": {},
   "source": [
    "# Pandas\n",
    "\n",
    "`pandas` stands for [Python Data Analysis Library](https://pandas.pydata.org/). Two of the main data structures in pandas are `Series` and `DataFrame`. The `series` data structure is a glorified list with batteries included, and the `dataframe` is a glorified table with extra, extra batteries included. You get a lot of additional and handy features by using these data structures to store and represent your data as lists or tables. "
   ]
  },
  {
   "cell_type": "markdown",
   "metadata": {},
   "source": [
    "## Pandas Series\n",
    "\n",
    "The easiest way to understand a `Series` is to simply create one. At the data level, a series is simply just a list of data."
   ]
  },
  {
   "cell_type": "code",
   "execution_count": 1,
   "metadata": {},
   "outputs": [
    {
     "data": {
      "text/plain": [
       "0    1\n",
       "1    2\n",
       "2    3\n",
       "3    4\n",
       "dtype: int64"
      ]
     },
     "execution_count": 1,
     "metadata": {},
     "output_type": "execute_result"
    }
   ],
   "source": [
    "import pandas as pd\n",
    "\n",
    "s = pd.Series([1, 2, 3, 4])\n",
    "s"
   ]
  },
  {
   "cell_type": "markdown",
   "metadata": {},
   "source": [
    "With every element in the list is a corresponding index. The index may not seem important at first glance, but it is very important later when you need to filter or slice the series. If you do not specify the index for each element, a sequential and numeric one is created automatically (starting from zero). Here is how you can create a series with the index specified."
   ]
  },
  {
   "cell_type": "code",
   "execution_count": 2,
   "metadata": {},
   "outputs": [
    {
     "data": {
      "text/plain": [
       "10    1\n",
       "11    2\n",
       "12    3\n",
       "13    4\n",
       "dtype: int64"
      ]
     },
     "execution_count": 2,
     "metadata": {},
     "output_type": "execute_result"
    }
   ],
   "source": [
    "s = pd.Series([1, 2, 3, 4], index=[10, 11, 12, 13])\n",
    "s"
   ]
  },
  {
   "cell_type": "markdown",
   "metadata": {},
   "source": [
    "The index can also be string type."
   ]
  },
  {
   "cell_type": "code",
   "execution_count": 3,
   "metadata": {},
   "outputs": [
    {
     "data": {
      "text/plain": [
       "a    1\n",
       "b    2\n",
       "c    3\n",
       "d    4\n",
       "dtype: int64"
      ]
     },
     "execution_count": 3,
     "metadata": {},
     "output_type": "execute_result"
    }
   ],
   "source": [
    "s = pd.Series([1, 2, 3, 4], index=['a', 'b', 'c', 'd'])\n",
    "s"
   ]
  },
  {
   "cell_type": "markdown",
   "metadata": {},
   "source": [
    "You can access the `index` and `values` of a series individually."
   ]
  },
  {
   "cell_type": "code",
   "execution_count": 4,
   "metadata": {},
   "outputs": [
    {
     "data": {
      "text/plain": [
       "Index(['a', 'b', 'c', 'd'], dtype='object')"
      ]
     },
     "execution_count": 4,
     "metadata": {},
     "output_type": "execute_result"
    }
   ],
   "source": [
    "s.index"
   ]
  },
  {
   "cell_type": "code",
   "execution_count": 5,
   "metadata": {},
   "outputs": [
    {
     "data": {
      "text/plain": [
       "array([1, 2, 3, 4])"
      ]
     },
     "execution_count": 5,
     "metadata": {},
     "output_type": "execute_result"
    }
   ],
   "source": [
    "s.values"
   ]
  },
  {
   "cell_type": "markdown",
   "metadata": {},
   "source": [
    "Why would you ever want string values for an index? Let's say we have a count of left and right handedness in a room. We can represent this data as a series."
   ]
  },
  {
   "cell_type": "code",
   "execution_count": 6,
   "metadata": {},
   "outputs": [
    {
     "data": {
      "text/plain": [
       "left     10\n",
       "right    15\n",
       "dtype: int64"
      ]
     },
     "execution_count": 6,
     "metadata": {},
     "output_type": "execute_result"
    }
   ],
   "source": [
    "s = pd.Series([10, 15], index=['left', 'right'])\n",
    "s"
   ]
  },
  {
   "cell_type": "markdown",
   "metadata": {},
   "source": [
    "And then, we can magically plot the bar chart showing the counts of left and right handedness in the room."
   ]
  },
  {
   "cell_type": "code",
   "execution_count": 7,
   "metadata": {},
   "outputs": [
    {
     "data": {
      "image/png": "[encoded data removed]",
      "text/plain": [
       "<Figure size 360x216 with 1 Axes>"
      ]
     },
     "metadata": {},
     "output_type": "display_data"
    }
   ],
   "source": [
    "import matplotlib.pyplot as plt\n",
    "plt.style.use('ggplot')\n",
    "\n",
    "fig, ax = plt.subplots(figsize=(5, 3))\n",
    "_ = s.plot(kind='bar', ax=ax)"
   ]
  },
  {
   "cell_type": "markdown",
   "metadata": {},
   "source": [
    "### Functions\n",
    "\n",
    "There are just too many useful functions attached to a series. Here's a few that are interesting."
   ]
  },
  {
   "cell_type": "code",
   "execution_count": 8,
   "metadata": {},
   "outputs": [
    {
     "data": {
      "image/png": "[encoded data removed]",
      "text/plain": [
       "<Figure size 360x216 with 1 Axes>"
      ]
     },
     "metadata": {},
     "output_type": "display_data"
    }
   ],
   "source": [
    "s = pd.Series([1, 2, 3, 4, 5], index=['a', 'b', 'c', 'd', 'e'])\n",
    "_mean = s.mean()\n",
    "_min = s.min()\n",
    "_max = s.max()\n",
    "_std = s.std()\n",
    "\n",
    "fig, ax = plt.subplots(figsize=(5, 3))\n",
    "_ = s.cumsum().plot(kind='bar', ax=ax)\n",
    "_ = s.cumsum().plot(kind='line', ax=ax, color='blue')\n",
    "_ = ax.set_title(f'min={_min:.2f}, mean={_mean:.2f}, max={_max:.2f}, std={_std:.2f}')"
   ]
  },
  {
   "cell_type": "markdown",
   "metadata": {},
   "source": [
    "The `value_counts()` function can quickly give you the frequencies of unique values."
   ]
  },
  {
   "cell_type": "code",
   "execution_count": 9,
   "metadata": {},
   "outputs": [
    {
     "data": {
      "text/plain": [
       "4    4\n",
       "2    3\n",
       "3    2\n",
       "1    2\n",
       "dtype: int64"
      ]
     },
     "execution_count": 9,
     "metadata": {},
     "output_type": "execute_result"
    }
   ],
   "source": [
    "s = pd.Series([1, 1, 2, 2, 2, 3, 3, 4, 4, 4, 4])\n",
    "s.value_counts()"
   ]
  },
  {
   "cell_type": "markdown",
   "metadata": {},
   "source": [
    "### Filtering\n",
    "\n",
    "Filtering is important. Let's see how to filter based on values."
   ]
  },
  {
   "cell_type": "code",
   "execution_count": 10,
   "metadata": {},
   "outputs": [
    {
     "data": {
      "text/plain": [
       "2    3\n",
       "3    4\n",
       "dtype: int64"
      ]
     },
     "execution_count": 10,
     "metadata": {},
     "output_type": "execute_result"
    }
   ],
   "source": [
    "s = pd.Series([1, 2, 3, 4])\n",
    "s1 = s[s > 2]\n",
    "s1"
   ]
  },
  {
   "cell_type": "markdown",
   "metadata": {},
   "source": [
    "How do we filter based on index?"
   ]
  },
  {
   "cell_type": "code",
   "execution_count": 11,
   "metadata": {},
   "outputs": [
    {
     "data": {
      "text/plain": [
       "0    1\n",
       "1    2\n",
       "dtype: int64"
      ]
     },
     "execution_count": 11,
     "metadata": {},
     "output_type": "execute_result"
    }
   ],
   "source": [
    "s2 = s[s.index < 2]\n",
    "s2"
   ]
  },
  {
   "cell_type": "code",
   "execution_count": 12,
   "metadata": {},
   "outputs": [
    {
     "data": {
      "text/plain": [
       "0    1\n",
       "1    2\n",
       "dtype: int64"
      ]
     },
     "execution_count": 12,
     "metadata": {},
     "output_type": "execute_result"
    }
   ],
   "source": [
    "s2 = s[s.index.isin([0, 1])]\n",
    "s2"
   ]
  },
  {
   "cell_type": "markdown",
   "metadata": {},
   "source": [
    "### Iteration\n",
    "\n",
    "Iteration of the index and values of a series is accomplished with `zip`."
   ]
  },
  {
   "cell_type": "code",
   "execution_count": 13,
   "metadata": {},
   "outputs": [
    {
     "name": "stdout",
     "output_type": "stream",
     "text": [
      "a: 1\n",
      "b: 2\n",
      "c: 3\n",
      "d: 4\n",
      "e: 5\n"
     ]
    }
   ],
   "source": [
    "s = pd.Series([1, 2, 3, 4, 5], index=['a', 'b', 'c', 'd', 'e'])\n",
    "for i, v in zip(s.index, s.values):\n",
    "    print(f'{i}: {v}')"
   ]
  },
  {
   "cell_type": "markdown",
   "metadata": {},
   "source": [
    "### To dataframe\n",
    "\n",
    "We will talk about Pandas dataframes next, but for now, it's quite easy to convert a series to a dataframe using `.to_frame()`. Note that we have to supply the `name` so that the column name is meaningful."
   ]
  },
  {
   "cell_type": "code",
   "execution_count": 14,
   "metadata": {
    "tags": []
   },
   "outputs": [
    {
     "data": {
      "text/plain": [
       "a    1\n",
       "b    2\n",
       "c    3\n",
       "d    4\n",
       "e    5\n",
       "Name: number, dtype: int64"
      ]
     },
     "execution_count": 14,
     "metadata": {},
     "output_type": "execute_result"
    }
   ],
   "source": [
    "s = pd.Series([1, 2, 3, 4, 5], index=['a', 'b', 'c', 'd', 'e'], name='number')\n",
    "s"
   ]
  },
  {
   "cell_type": "code",
   "execution_count": 15,
   "metadata": {
    "tags": []
   },
   "outputs": [
    {
     "data": {
      "text/html": [
       "<div>\n",
       "<style scoped>\n",
       "    .dataframe tbody tr th:only-of-type {\n",
       "        vertical-align: middle;\n",
       "    }\n",
       "\n",
       "    .dataframe tbody tr th {\n",
       "        vertical-align: top;\n",
       "    }\n",
       "\n",
       "    .dataframe thead th {\n",
       "        text-align: right;\n",
       "    }\n",
       "</style>\n",
       "<table border=\"1\" class=\"dataframe\">\n",
       "  <thead>\n",
       "    <tr style=\"text-align: right;\">\n",
       "      <th></th>\n",
       "      <th>number</th>\n",
       "    </tr>\n",
       "  </thead>\n",
       "  <tbody>\n",
       "    <tr>\n",
       "      <th>a</th>\n",
       "      <td>1</td>\n",
       "    </tr>\n",
       "    <tr>\n",
       "      <th>b</th>\n",
       "      <td>2</td>\n",
       "    </tr>\n",
       "    <tr>\n",
       "      <th>c</th>\n",
       "      <td>3</td>\n",
       "    </tr>\n",
       "    <tr>\n",
       "      <th>d</th>\n",
       "      <td>4</td>\n",
       "    </tr>\n",
       "    <tr>\n",
       "      <th>e</th>\n",
       "      <td>5</td>\n",
       "    </tr>\n",
       "  </tbody>\n",
       "</table>\n",
       "</div>"
      ],
      "text/plain": [
       "   number\n",
       "a       1\n",
       "b       2\n",
       "c       3\n",
       "d       4\n",
       "e       5"
      ]
     },
     "execution_count": 15,
     "metadata": {},
     "output_type": "execute_result"
    }
   ],
   "source": [
    "s.to_frame()"
   ]
  },
  {
   "cell_type": "markdown",
   "metadata": {},
   "source": [
    "## Pandas Dataframes\n",
    "\n",
    "Dataframes are the most powerful data structure in pandas. As a start, it's helpful to simply think of a dataframe as a table. Below, we create a dataframe from a list of tuples, where each tuple is a pair of numbers. Notice how the columns are not specified and so they default to *0* and *1*, and the index is not specified so a numeric, sequential one is created."
   ]
  },
  {
   "cell_type": "code",
   "execution_count": 16,
   "metadata": {},
   "outputs": [
    {
     "data": {
      "text/html": [
       "<div>\n",
       "<style scoped>\n",
       "    .dataframe tbody tr th:only-of-type {\n",
       "        vertical-align: middle;\n",
       "    }\n",
       "\n",
       "    .dataframe tbody tr th {\n",
       "        vertical-align: top;\n",
       "    }\n",
       "\n",
       "    .dataframe thead th {\n",
       "        text-align: right;\n",
       "    }\n",
       "</style>\n",
       "<table border=\"1\" class=\"dataframe\">\n",
       "  <thead>\n",
       "    <tr style=\"text-align: right;\">\n",
       "      <th></th>\n",
       "      <th>0</th>\n",
       "      <th>1</th>\n",
       "    </tr>\n",
       "  </thead>\n",
       "  <tbody>\n",
       "    <tr>\n",
       "      <th>0</th>\n",
       "      <td>1</td>\n",
       "      <td>2</td>\n",
       "    </tr>\n",
       "    <tr>\n",
       "      <th>1</th>\n",
       "      <td>3</td>\n",
       "      <td>4</td>\n",
       "    </tr>\n",
       "    <tr>\n",
       "      <th>2</th>\n",
       "      <td>5</td>\n",
       "      <td>6</td>\n",
       "    </tr>\n",
       "  </tbody>\n",
       "</table>\n",
       "</div>"
      ],
      "text/plain": [
       "   0  1\n",
       "0  1  2\n",
       "1  3  4\n",
       "2  5  6"
      ]
     },
     "execution_count": 16,
     "metadata": {},
     "output_type": "execute_result"
    }
   ],
   "source": [
    "df = pd.DataFrame([(1, 2), (3, 4), (5, 6)])\n",
    "df"
   ]
  },
  {
   "cell_type": "markdown",
   "metadata": {},
   "source": [
    "If we wanted to specify the column names, supply a list of column names."
   ]
  },
  {
   "cell_type": "code",
   "execution_count": 17,
   "metadata": {},
   "outputs": [
    {
     "data": {
      "text/html": [
       "<div>\n",
       "<style scoped>\n",
       "    .dataframe tbody tr th:only-of-type {\n",
       "        vertical-align: middle;\n",
       "    }\n",
       "\n",
       "    .dataframe tbody tr th {\n",
       "        vertical-align: top;\n",
       "    }\n",
       "\n",
       "    .dataframe thead th {\n",
       "        text-align: right;\n",
       "    }\n",
       "</style>\n",
       "<table border=\"1\" class=\"dataframe\">\n",
       "  <thead>\n",
       "    <tr style=\"text-align: right;\">\n",
       "      <th></th>\n",
       "      <th>x</th>\n",
       "      <th>y</th>\n",
       "    </tr>\n",
       "  </thead>\n",
       "  <tbody>\n",
       "    <tr>\n",
       "      <th>0</th>\n",
       "      <td>1</td>\n",
       "      <td>2</td>\n",
       "    </tr>\n",
       "    <tr>\n",
       "      <th>1</th>\n",
       "      <td>3</td>\n",
       "      <td>4</td>\n",
       "    </tr>\n",
       "    <tr>\n",
       "      <th>2</th>\n",
       "      <td>5</td>\n",
       "      <td>6</td>\n",
       "    </tr>\n",
       "  </tbody>\n",
       "</table>\n",
       "</div>"
      ],
      "text/plain": [
       "   x  y\n",
       "0  1  2\n",
       "1  3  4\n",
       "2  5  6"
      ]
     },
     "execution_count": 17,
     "metadata": {},
     "output_type": "execute_result"
    }
   ],
   "source": [
    "df = pd.DataFrame([(1, 2), (3, 4), (5, 6)], columns=['x', 'y'])\n",
    "df"
   ]
  },
  {
   "cell_type": "markdown",
   "metadata": {},
   "source": [
    "If we need to specify the index, supply a list of index for each row."
   ]
  },
  {
   "cell_type": "code",
   "execution_count": 18,
   "metadata": {},
   "outputs": [
    {
     "data": {
      "text/html": [
       "<div>\n",
       "<style scoped>\n",
       "    .dataframe tbody tr th:only-of-type {\n",
       "        vertical-align: middle;\n",
       "    }\n",
       "\n",
       "    .dataframe tbody tr th {\n",
       "        vertical-align: top;\n",
       "    }\n",
       "\n",
       "    .dataframe thead th {\n",
       "        text-align: right;\n",
       "    }\n",
       "</style>\n",
       "<table border=\"1\" class=\"dataframe\">\n",
       "  <thead>\n",
       "    <tr style=\"text-align: right;\">\n",
       "      <th></th>\n",
       "      <th>x</th>\n",
       "      <th>y</th>\n",
       "    </tr>\n",
       "  </thead>\n",
       "  <tbody>\n",
       "    <tr>\n",
       "      <th>a</th>\n",
       "      <td>1</td>\n",
       "      <td>2</td>\n",
       "    </tr>\n",
       "    <tr>\n",
       "      <th>b</th>\n",
       "      <td>3</td>\n",
       "      <td>4</td>\n",
       "    </tr>\n",
       "    <tr>\n",
       "      <th>c</th>\n",
       "      <td>5</td>\n",
       "      <td>6</td>\n",
       "    </tr>\n",
       "  </tbody>\n",
       "</table>\n",
       "</div>"
      ],
      "text/plain": [
       "   x  y\n",
       "a  1  2\n",
       "b  3  4\n",
       "c  5  6"
      ]
     },
     "execution_count": 18,
     "metadata": {},
     "output_type": "execute_result"
    }
   ],
   "source": [
    "df = pd.DataFrame([(1, 2), (3, 4), (5, 6)], columns=['x', 'y'], index=['a', 'b', 'c'])\n",
    "df"
   ]
  },
  {
   "cell_type": "markdown",
   "metadata": {},
   "source": [
    "There's other ways to create a dataframe. Let's use a list of dictionaries. Notice how we do not need to supply a list of column names?"
   ]
  },
  {
   "cell_type": "code",
   "execution_count": 19,
   "metadata": {},
   "outputs": [
    {
     "data": {
      "text/html": [
       "<div>\n",
       "<style scoped>\n",
       "    .dataframe tbody tr th:only-of-type {\n",
       "        vertical-align: middle;\n",
       "    }\n",
       "\n",
       "    .dataframe tbody tr th {\n",
       "        vertical-align: top;\n",
       "    }\n",
       "\n",
       "    .dataframe thead th {\n",
       "        text-align: right;\n",
       "    }\n",
       "</style>\n",
       "<table border=\"1\" class=\"dataframe\">\n",
       "  <thead>\n",
       "    <tr style=\"text-align: right;\">\n",
       "      <th></th>\n",
       "      <th>x</th>\n",
       "      <th>y</th>\n",
       "    </tr>\n",
       "  </thead>\n",
       "  <tbody>\n",
       "    <tr>\n",
       "      <th>a</th>\n",
       "      <td>1</td>\n",
       "      <td>2</td>\n",
       "    </tr>\n",
       "    <tr>\n",
       "      <th>b</th>\n",
       "      <td>3</td>\n",
       "      <td>4</td>\n",
       "    </tr>\n",
       "    <tr>\n",
       "      <th>c</th>\n",
       "      <td>5</td>\n",
       "      <td>6</td>\n",
       "    </tr>\n",
       "  </tbody>\n",
       "</table>\n",
       "</div>"
      ],
      "text/plain": [
       "   x  y\n",
       "a  1  2\n",
       "b  3  4\n",
       "c  5  6"
      ]
     },
     "execution_count": 19,
     "metadata": {},
     "output_type": "execute_result"
    }
   ],
   "source": [
    "df = pd.DataFrame([\n",
    "    {'x': 1, 'y': 2},\n",
    "    {'x': 3, 'y': 4},\n",
    "    {'x': 5, 'y': 6}\n",
    "], index=['a', 'b', 'c'])\n",
    "df"
   ]
  },
  {
   "cell_type": "markdown",
   "metadata": {},
   "source": [
    "Above, we used a list of dictionaries, below, we use a dictionary of lists."
   ]
  },
  {
   "cell_type": "code",
   "execution_count": 20,
   "metadata": {},
   "outputs": [
    {
     "data": {
      "text/html": [
       "<div>\n",
       "<style scoped>\n",
       "    .dataframe tbody tr th:only-of-type {\n",
       "        vertical-align: middle;\n",
       "    }\n",
       "\n",
       "    .dataframe tbody tr th {\n",
       "        vertical-align: top;\n",
       "    }\n",
       "\n",
       "    .dataframe thead th {\n",
       "        text-align: right;\n",
       "    }\n",
       "</style>\n",
       "<table border=\"1\" class=\"dataframe\">\n",
       "  <thead>\n",
       "    <tr style=\"text-align: right;\">\n",
       "      <th></th>\n",
       "      <th>x</th>\n",
       "      <th>y</th>\n",
       "    </tr>\n",
       "  </thead>\n",
       "  <tbody>\n",
       "    <tr>\n",
       "      <th>a</th>\n",
       "      <td>1</td>\n",
       "      <td>2</td>\n",
       "    </tr>\n",
       "    <tr>\n",
       "      <th>b</th>\n",
       "      <td>3</td>\n",
       "      <td>4</td>\n",
       "    </tr>\n",
       "    <tr>\n",
       "      <th>c</th>\n",
       "      <td>4</td>\n",
       "      <td>5</td>\n",
       "    </tr>\n",
       "  </tbody>\n",
       "</table>\n",
       "</div>"
      ],
      "text/plain": [
       "   x  y\n",
       "a  1  2\n",
       "b  3  4\n",
       "c  4  5"
      ]
     },
     "execution_count": 20,
     "metadata": {},
     "output_type": "execute_result"
    }
   ],
   "source": [
    "df = pd.DataFrame({\n",
    "    'x': [1, 3, 4],\n",
    "    'y': [2, 4, 5]\n",
    "}, index=['a', 'b', 'c'])\n",
    "df"
   ]
  },
  {
   "cell_type": "markdown",
   "metadata": {},
   "source": [
    "### Properties\n",
    "There's a lot of neat and useful properties and functions attached to a dataframe. The `dtypes` property gives you the data types of your fields."
   ]
  },
  {
   "cell_type": "code",
   "execution_count": 21,
   "metadata": {},
   "outputs": [
    {
     "data": {
      "text/plain": [
       "x    int64\n",
       "y    int64\n",
       "dtype: object"
      ]
     },
     "execution_count": 21,
     "metadata": {},
     "output_type": "execute_result"
    }
   ],
   "source": [
    "df.dtypes"
   ]
  },
  {
   "cell_type": "markdown",
   "metadata": {},
   "source": [
    "You can set the type of your data when you create a data frame by supplying the `dtype` value."
   ]
  },
  {
   "cell_type": "code",
   "execution_count": 22,
   "metadata": {},
   "outputs": [
    {
     "data": {
      "text/plain": [
       "x    int32\n",
       "y    int32\n",
       "dtype: object"
      ]
     },
     "execution_count": 22,
     "metadata": {},
     "output_type": "execute_result"
    }
   ],
   "source": [
    "df = pd.DataFrame({\n",
    "    'x': [1, 3, 4],\n",
    "    'y': [2, 4, 5]\n",
    "}, index=['a', 'b', 'c'], dtype='int32')\n",
    "df.dtypes"
   ]
  },
  {
   "cell_type": "markdown",
   "metadata": {},
   "source": [
    "Look at what happens when you have missing values and do not specify the type. The `y` column is now of type `float64`."
   ]
  },
  {
   "cell_type": "code",
   "execution_count": 23,
   "metadata": {},
   "outputs": [
    {
     "data": {
      "text/plain": [
       "x      int64\n",
       "y    float64\n",
       "dtype: object"
      ]
     },
     "execution_count": 23,
     "metadata": {},
     "output_type": "execute_result"
    }
   ],
   "source": [
    "df = pd.DataFrame({\n",
    "    'x': [1, 3, 4],\n",
    "    'y': [2, 4, None]\n",
    "}, index=['a', 'b', 'c'])\n",
    "df.dtypes"
   ]
  },
  {
   "cell_type": "markdown",
   "metadata": {},
   "source": [
    "Look at what happens when you have missing values and attempt to specify the type. The `y` column is now of type `object`."
   ]
  },
  {
   "cell_type": "code",
   "execution_count": 24,
   "metadata": {},
   "outputs": [
    {
     "data": {
      "text/plain": [
       "x     int32\n",
       "y    object\n",
       "dtype: object"
      ]
     },
     "execution_count": 24,
     "metadata": {},
     "output_type": "execute_result"
    }
   ],
   "source": [
    "df = pd.DataFrame({\n",
    "    'x': [1, 3, 4],\n",
    "    'y': [2, 4, None]\n",
    "}, index=['a', 'b', 'c'], dtype='int32')\n",
    "df.dtypes"
   ]
  },
  {
   "cell_type": "markdown",
   "metadata": {},
   "source": [
    "If you need to know the dimensions of your dataframe, use the `shape` property."
   ]
  },
  {
   "cell_type": "code",
   "execution_count": 25,
   "metadata": {},
   "outputs": [
    {
     "data": {
      "text/plain": [
       "(3, 2)"
      ]
     },
     "execution_count": 25,
     "metadata": {},
     "output_type": "execute_result"
    }
   ],
   "source": [
    "df = pd.DataFrame({\n",
    "    'x': [1, 3, 4],\n",
    "    'y': [2, 4, 5]\n",
    "}, index=['a', 'b', 'c'])\n",
    "\n",
    "df.shape"
   ]
  },
  {
   "cell_type": "markdown",
   "metadata": {},
   "source": [
    "You can turn your dataframe into a `numpy` array using `values`."
   ]
  },
  {
   "cell_type": "code",
   "execution_count": 26,
   "metadata": {},
   "outputs": [
    {
     "data": {
      "text/plain": [
       "array([[1, 2],\n",
       "       [3, 4],\n",
       "       [4, 5]])"
      ]
     },
     "execution_count": 26,
     "metadata": {},
     "output_type": "execute_result"
    }
   ],
   "source": [
    "df.values"
   ]
  },
  {
   "cell_type": "markdown",
   "metadata": {},
   "source": [
    "### Columns or fields\n",
    "\n",
    "You can access each column by bracket `[]` or dot notation `.`. To access a column by name, specify the column name inside the brackets."
   ]
  },
  {
   "cell_type": "code",
   "execution_count": 27,
   "metadata": {},
   "outputs": [
    {
     "data": {
      "text/plain": [
       "a    1\n",
       "b    3\n",
       "c    4\n",
       "Name: x, dtype: int64"
      ]
     },
     "execution_count": 27,
     "metadata": {},
     "output_type": "execute_result"
    }
   ],
   "source": [
    "df['x']"
   ]
  },
  {
   "cell_type": "code",
   "execution_count": 28,
   "metadata": {},
   "outputs": [
    {
     "data": {
      "text/plain": [
       "a    2\n",
       "b    4\n",
       "c    5\n",
       "Name: y, dtype: int64"
      ]
     },
     "execution_count": 28,
     "metadata": {},
     "output_type": "execute_result"
    }
   ],
   "source": [
    "df['y']"
   ]
  },
  {
   "cell_type": "markdown",
   "metadata": {},
   "source": [
    "Multiple columns may be selecting by passing a list of column names."
   ]
  },
  {
   "cell_type": "code",
   "execution_count": 29,
   "metadata": {},
   "outputs": [
    {
     "data": {
      "text/html": [
       "<div>\n",
       "<style scoped>\n",
       "    .dataframe tbody tr th:only-of-type {\n",
       "        vertical-align: middle;\n",
       "    }\n",
       "\n",
       "    .dataframe tbody tr th {\n",
       "        vertical-align: top;\n",
       "    }\n",
       "\n",
       "    .dataframe thead th {\n",
       "        text-align: right;\n",
       "    }\n",
       "</style>\n",
       "<table border=\"1\" class=\"dataframe\">\n",
       "  <thead>\n",
       "    <tr style=\"text-align: right;\">\n",
       "      <th></th>\n",
       "      <th>x</th>\n",
       "      <th>y</th>\n",
       "    </tr>\n",
       "  </thead>\n",
       "  <tbody>\n",
       "    <tr>\n",
       "      <th>a</th>\n",
       "      <td>1</td>\n",
       "      <td>2</td>\n",
       "    </tr>\n",
       "    <tr>\n",
       "      <th>b</th>\n",
       "      <td>3</td>\n",
       "      <td>4</td>\n",
       "    </tr>\n",
       "    <tr>\n",
       "      <th>c</th>\n",
       "      <td>4</td>\n",
       "      <td>5</td>\n",
       "    </tr>\n",
       "  </tbody>\n",
       "</table>\n",
       "</div>"
      ],
      "text/plain": [
       "   x  y\n",
       "a  1  2\n",
       "b  3  4\n",
       "c  4  5"
      ]
     },
     "execution_count": 29,
     "metadata": {},
     "output_type": "execute_result"
    }
   ],
   "source": [
    "df[['x', 'y']]"
   ]
  },
  {
   "cell_type": "markdown",
   "metadata": {},
   "source": [
    "To access the columns by dot notation, do the following. Be careful when accessing columns/fields using dot notation; if you have a field that is named the same as a function attached to the dataframe (e.g. mean), the function has precedence over the field (e.g. `df['mean']` is preferred over `df.mean`)."
   ]
  },
  {
   "cell_type": "code",
   "execution_count": 30,
   "metadata": {},
   "outputs": [
    {
     "data": {
      "text/plain": [
       "a    1\n",
       "b    3\n",
       "c    4\n",
       "Name: x, dtype: int64"
      ]
     },
     "execution_count": 30,
     "metadata": {},
     "output_type": "execute_result"
    }
   ],
   "source": [
    "df.x"
   ]
  },
  {
   "cell_type": "code",
   "execution_count": 31,
   "metadata": {},
   "outputs": [
    {
     "data": {
      "text/plain": [
       "a    2\n",
       "b    4\n",
       "c    5\n",
       "Name: y, dtype: int64"
      ]
     },
     "execution_count": 31,
     "metadata": {},
     "output_type": "execute_result"
    }
   ],
   "source": [
    "df.y"
   ]
  },
  {
   "cell_type": "markdown",
   "metadata": {},
   "source": [
    "Note that accessing a column will return that column as a series, and the usual series properties and functions may be applied."
   ]
  },
  {
   "cell_type": "code",
   "execution_count": 32,
   "metadata": {},
   "outputs": [
    {
     "data": {
      "text/plain": [
       "8"
      ]
     },
     "execution_count": 32,
     "metadata": {},
     "output_type": "execute_result"
    }
   ],
   "source": [
    "df.x.sum()"
   ]
  },
  {
   "cell_type": "code",
   "execution_count": 33,
   "metadata": {},
   "outputs": [
    {
     "data": {
      "text/plain": [
       "2.6666666666666665"
      ]
     },
     "execution_count": 33,
     "metadata": {},
     "output_type": "execute_result"
    }
   ],
   "source": [
    "df.x.mean()"
   ]
  },
  {
   "cell_type": "code",
   "execution_count": 34,
   "metadata": {},
   "outputs": [
    {
     "data": {
      "text/plain": [
       "1.5275252316519465"
      ]
     },
     "execution_count": 34,
     "metadata": {},
     "output_type": "execute_result"
    }
   ],
   "source": [
    "df.x.std()"
   ]
  },
  {
   "cell_type": "code",
   "execution_count": 35,
   "metadata": {},
   "outputs": [
    {
     "data": {
      "text/plain": [
       "1"
      ]
     },
     "execution_count": 35,
     "metadata": {},
     "output_type": "execute_result"
    }
   ],
   "source": [
    "df.x.min()"
   ]
  },
  {
   "cell_type": "code",
   "execution_count": 36,
   "metadata": {},
   "outputs": [
    {
     "data": {
      "text/plain": [
       "4"
      ]
     },
     "execution_count": 36,
     "metadata": {},
     "output_type": "execute_result"
    }
   ],
   "source": [
    "df.x.max()"
   ]
  },
  {
   "cell_type": "markdown",
   "metadata": {},
   "source": [
    "### Rows or records\n",
    "\n",
    "To access the rows or records, use `iloc` and specify the numeric location value or `loc` and specify the index value. Below, `.iloc[0]` refers to the first record."
   ]
  },
  {
   "cell_type": "code",
   "execution_count": 37,
   "metadata": {},
   "outputs": [
    {
     "data": {
      "text/plain": [
       "x    1\n",
       "y    2\n",
       "Name: a, dtype: int64"
      ]
     },
     "execution_count": 37,
     "metadata": {},
     "output_type": "execute_result"
    }
   ],
   "source": [
    "df.iloc[0]"
   ]
  },
  {
   "cell_type": "markdown",
   "metadata": {},
   "source": [
    "Below, `.loc['a']` refers to the row corresponding to the `a` index value."
   ]
  },
  {
   "cell_type": "code",
   "execution_count": 38,
   "metadata": {},
   "outputs": [
    {
     "data": {
      "text/plain": [
       "x    1\n",
       "y    2\n",
       "Name: a, dtype: int64"
      ]
     },
     "execution_count": 38,
     "metadata": {},
     "output_type": "execute_result"
    }
   ],
   "source": [
    "df.loc['a']"
   ]
  },
  {
   "cell_type": "markdown",
   "metadata": {},
   "source": [
    "Multiple rows may be selected by numeric index through slicing."
   ]
  },
  {
   "cell_type": "code",
   "execution_count": 39,
   "metadata": {},
   "outputs": [
    {
     "data": {
      "text/html": [
       "<div>\n",
       "<style scoped>\n",
       "    .dataframe tbody tr th:only-of-type {\n",
       "        vertical-align: middle;\n",
       "    }\n",
       "\n",
       "    .dataframe tbody tr th {\n",
       "        vertical-align: top;\n",
       "    }\n",
       "\n",
       "    .dataframe thead th {\n",
       "        text-align: right;\n",
       "    }\n",
       "</style>\n",
       "<table border=\"1\" class=\"dataframe\">\n",
       "  <thead>\n",
       "    <tr style=\"text-align: right;\">\n",
       "      <th></th>\n",
       "      <th>x</th>\n",
       "      <th>y</th>\n",
       "    </tr>\n",
       "  </thead>\n",
       "  <tbody>\n",
       "    <tr>\n",
       "      <th>a</th>\n",
       "      <td>1</td>\n",
       "      <td>2</td>\n",
       "    </tr>\n",
       "    <tr>\n",
       "      <th>b</th>\n",
       "      <td>3</td>\n",
       "      <td>4</td>\n",
       "    </tr>\n",
       "  </tbody>\n",
       "</table>\n",
       "</div>"
      ],
      "text/plain": [
       "   x  y\n",
       "a  1  2\n",
       "b  3  4"
      ]
     },
     "execution_count": 39,
     "metadata": {},
     "output_type": "execute_result"
    }
   ],
   "source": [
    "df.iloc[0:2]"
   ]
  },
  {
   "cell_type": "code",
   "execution_count": 40,
   "metadata": {},
   "outputs": [
    {
     "data": {
      "text/html": [
       "<div>\n",
       "<style scoped>\n",
       "    .dataframe tbody tr th:only-of-type {\n",
       "        vertical-align: middle;\n",
       "    }\n",
       "\n",
       "    .dataframe tbody tr th {\n",
       "        vertical-align: top;\n",
       "    }\n",
       "\n",
       "    .dataframe thead th {\n",
       "        text-align: right;\n",
       "    }\n",
       "</style>\n",
       "<table border=\"1\" class=\"dataframe\">\n",
       "  <thead>\n",
       "    <tr style=\"text-align: right;\">\n",
       "      <th></th>\n",
       "      <th>x</th>\n",
       "      <th>y</th>\n",
       "    </tr>\n",
       "  </thead>\n",
       "  <tbody>\n",
       "    <tr>\n",
       "      <th>c</th>\n",
       "      <td>4</td>\n",
       "      <td>5</td>\n",
       "    </tr>\n",
       "  </tbody>\n",
       "</table>\n",
       "</div>"
      ],
      "text/plain": [
       "   x  y\n",
       "c  4  5"
      ]
     },
     "execution_count": 40,
     "metadata": {},
     "output_type": "execute_result"
    }
   ],
   "source": [
    "df.iloc[2:3]"
   ]
  },
  {
   "cell_type": "markdown",
   "metadata": {},
   "source": [
    "Accessing rows/records using `loc` or `iloc` typically returns another dataframe (as opposed to bracket and dot notations with columns, which returns a series)."
   ]
  },
  {
   "cell_type": "markdown",
   "metadata": {},
   "source": [
    "### Methods\n",
    "\n",
    "Use `describe()` to get summary statistics over your fields."
   ]
  },
  {
   "cell_type": "code",
   "execution_count": 41,
   "metadata": {},
   "outputs": [
    {
     "data": {
      "text/html": [
       "<div>\n",
       "<style scoped>\n",
       "    .dataframe tbody tr th:only-of-type {\n",
       "        vertical-align: middle;\n",
       "    }\n",
       "\n",
       "    .dataframe tbody tr th {\n",
       "        vertical-align: top;\n",
       "    }\n",
       "\n",
       "    .dataframe thead th {\n",
       "        text-align: right;\n",
       "    }\n",
       "</style>\n",
       "<table border=\"1\" class=\"dataframe\">\n",
       "  <thead>\n",
       "    <tr style=\"text-align: right;\">\n",
       "      <th></th>\n",
       "      <th>x</th>\n",
       "      <th>y</th>\n",
       "    </tr>\n",
       "  </thead>\n",
       "  <tbody>\n",
       "    <tr>\n",
       "      <th>count</th>\n",
       "      <td>3.000000</td>\n",
       "      <td>3.000000</td>\n",
       "    </tr>\n",
       "    <tr>\n",
       "      <th>mean</th>\n",
       "      <td>2.666667</td>\n",
       "      <td>3.666667</td>\n",
       "    </tr>\n",
       "    <tr>\n",
       "      <th>std</th>\n",
       "      <td>1.527525</td>\n",
       "      <td>1.527525</td>\n",
       "    </tr>\n",
       "    <tr>\n",
       "      <th>min</th>\n",
       "      <td>1.000000</td>\n",
       "      <td>2.000000</td>\n",
       "    </tr>\n",
       "    <tr>\n",
       "      <th>25%</th>\n",
       "      <td>2.000000</td>\n",
       "      <td>3.000000</td>\n",
       "    </tr>\n",
       "    <tr>\n",
       "      <th>50%</th>\n",
       "      <td>3.000000</td>\n",
       "      <td>4.000000</td>\n",
       "    </tr>\n",
       "    <tr>\n",
       "      <th>75%</th>\n",
       "      <td>3.500000</td>\n",
       "      <td>4.500000</td>\n",
       "    </tr>\n",
       "    <tr>\n",
       "      <th>max</th>\n",
       "      <td>4.000000</td>\n",
       "      <td>5.000000</td>\n",
       "    </tr>\n",
       "  </tbody>\n",
       "</table>\n",
       "</div>"
      ],
      "text/plain": [
       "              x         y\n",
       "count  3.000000  3.000000\n",
       "mean   2.666667  3.666667\n",
       "std    1.527525  1.527525\n",
       "min    1.000000  2.000000\n",
       "25%    2.000000  3.000000\n",
       "50%    3.000000  4.000000\n",
       "75%    3.500000  4.500000\n",
       "max    4.000000  5.000000"
      ]
     },
     "execution_count": 41,
     "metadata": {},
     "output_type": "execute_result"
    }
   ],
   "source": [
    "df.describe()"
   ]
  },
  {
   "cell_type": "markdown",
   "metadata": {},
   "source": [
    "The `info()` method gives other types of field profiling information."
   ]
  },
  {
   "cell_type": "code",
   "execution_count": 42,
   "metadata": {},
   "outputs": [
    {
     "name": "stdout",
     "output_type": "stream",
     "text": [
      "<class 'pandas.core.frame.DataFrame'>\n",
      "Index: 3 entries, a to c\n",
      "Data columns (total 2 columns):\n",
      " #   Column  Non-Null Count  Dtype\n",
      "---  ------  --------------  -----\n",
      " 0   x       3 non-null      int64\n",
      " 1   y       3 non-null      int64\n",
      "dtypes: int64(2)\n",
      "memory usage: 152.0+ bytes\n"
     ]
    }
   ],
   "source": [
    "df.info()"
   ]
  },
  {
   "cell_type": "markdown",
   "metadata": {},
   "source": [
    "The cummulative sum is retrieved by calling `cumsum()`."
   ]
  },
  {
   "cell_type": "code",
   "execution_count": 43,
   "metadata": {},
   "outputs": [
    {
     "data": {
      "text/html": [
       "<div>\n",
       "<style scoped>\n",
       "    .dataframe tbody tr th:only-of-type {\n",
       "        vertical-align: middle;\n",
       "    }\n",
       "\n",
       "    .dataframe tbody tr th {\n",
       "        vertical-align: top;\n",
       "    }\n",
       "\n",
       "    .dataframe thead th {\n",
       "        text-align: right;\n",
       "    }\n",
       "</style>\n",
       "<table border=\"1\" class=\"dataframe\">\n",
       "  <thead>\n",
       "    <tr style=\"text-align: right;\">\n",
       "      <th></th>\n",
       "      <th>x</th>\n",
       "      <th>y</th>\n",
       "    </tr>\n",
       "  </thead>\n",
       "  <tbody>\n",
       "    <tr>\n",
       "      <th>a</th>\n",
       "      <td>1</td>\n",
       "      <td>2</td>\n",
       "    </tr>\n",
       "    <tr>\n",
       "      <th>b</th>\n",
       "      <td>4</td>\n",
       "      <td>6</td>\n",
       "    </tr>\n",
       "    <tr>\n",
       "      <th>c</th>\n",
       "      <td>8</td>\n",
       "      <td>11</td>\n",
       "    </tr>\n",
       "  </tbody>\n",
       "</table>\n",
       "</div>"
      ],
      "text/plain": [
       "   x   y\n",
       "a  1   2\n",
       "b  4   6\n",
       "c  8  11"
      ]
     },
     "execution_count": 43,
     "metadata": {},
     "output_type": "execute_result"
    }
   ],
   "source": [
    "df.cumsum()"
   ]
  },
  {
   "cell_type": "markdown",
   "metadata": {},
   "source": [
    "You can mathematically operate on a dataframe. Below, we turn the integer values into percentages."
   ]
  },
  {
   "cell_type": "code",
   "execution_count": 44,
   "metadata": {},
   "outputs": [
    {
     "data": {
      "text/html": [
       "<div>\n",
       "<style scoped>\n",
       "    .dataframe tbody tr th:only-of-type {\n",
       "        vertical-align: middle;\n",
       "    }\n",
       "\n",
       "    .dataframe tbody tr th {\n",
       "        vertical-align: top;\n",
       "    }\n",
       "\n",
       "    .dataframe thead th {\n",
       "        text-align: right;\n",
       "    }\n",
       "</style>\n",
       "<table border=\"1\" class=\"dataframe\">\n",
       "  <thead>\n",
       "    <tr style=\"text-align: right;\">\n",
       "      <th></th>\n",
       "      <th>x</th>\n",
       "      <th>y</th>\n",
       "    </tr>\n",
       "  </thead>\n",
       "  <tbody>\n",
       "    <tr>\n",
       "      <th>a</th>\n",
       "      <td>0.125</td>\n",
       "      <td>0.181818</td>\n",
       "    </tr>\n",
       "    <tr>\n",
       "      <th>b</th>\n",
       "      <td>0.375</td>\n",
       "      <td>0.363636</td>\n",
       "    </tr>\n",
       "    <tr>\n",
       "      <th>c</th>\n",
       "      <td>0.500</td>\n",
       "      <td>0.454545</td>\n",
       "    </tr>\n",
       "  </tbody>\n",
       "</table>\n",
       "</div>"
      ],
      "text/plain": [
       "       x         y\n",
       "a  0.125  0.181818\n",
       "b  0.375  0.363636\n",
       "c  0.500  0.454545"
      ]
     },
     "execution_count": 44,
     "metadata": {},
     "output_type": "execute_result"
    }
   ],
   "source": [
    "df / df.sum() "
   ]
  },
  {
   "cell_type": "markdown",
   "metadata": {},
   "source": [
    "Transposing is easy."
   ]
  },
  {
   "cell_type": "code",
   "execution_count": 45,
   "metadata": {},
   "outputs": [
    {
     "data": {
      "text/html": [
       "<div>\n",
       "<style scoped>\n",
       "    .dataframe tbody tr th:only-of-type {\n",
       "        vertical-align: middle;\n",
       "    }\n",
       "\n",
       "    .dataframe tbody tr th {\n",
       "        vertical-align: top;\n",
       "    }\n",
       "\n",
       "    .dataframe thead th {\n",
       "        text-align: right;\n",
       "    }\n",
       "</style>\n",
       "<table border=\"1\" class=\"dataframe\">\n",
       "  <thead>\n",
       "    <tr style=\"text-align: right;\">\n",
       "      <th></th>\n",
       "      <th>a</th>\n",
       "      <th>b</th>\n",
       "      <th>c</th>\n",
       "    </tr>\n",
       "  </thead>\n",
       "  <tbody>\n",
       "    <tr>\n",
       "      <th>x</th>\n",
       "      <td>1</td>\n",
       "      <td>3</td>\n",
       "      <td>4</td>\n",
       "    </tr>\n",
       "    <tr>\n",
       "      <th>y</th>\n",
       "      <td>2</td>\n",
       "      <td>4</td>\n",
       "      <td>5</td>\n",
       "    </tr>\n",
       "  </tbody>\n",
       "</table>\n",
       "</div>"
      ],
      "text/plain": [
       "   a  b  c\n",
       "x  1  3  4\n",
       "y  2  4  5"
      ]
     },
     "execution_count": 45,
     "metadata": {},
     "output_type": "execute_result"
    }
   ],
   "source": [
    "df.transpose()"
   ]
  },
  {
   "cell_type": "markdown",
   "metadata": {},
   "source": [
    "You can also transpose a dataframe as follows."
   ]
  },
  {
   "cell_type": "code",
   "execution_count": 46,
   "metadata": {},
   "outputs": [
    {
     "data": {
      "text/html": [
       "<div>\n",
       "<style scoped>\n",
       "    .dataframe tbody tr th:only-of-type {\n",
       "        vertical-align: middle;\n",
       "    }\n",
       "\n",
       "    .dataframe tbody tr th {\n",
       "        vertical-align: top;\n",
       "    }\n",
       "\n",
       "    .dataframe thead th {\n",
       "        text-align: right;\n",
       "    }\n",
       "</style>\n",
       "<table border=\"1\" class=\"dataframe\">\n",
       "  <thead>\n",
       "    <tr style=\"text-align: right;\">\n",
       "      <th></th>\n",
       "      <th>a</th>\n",
       "      <th>b</th>\n",
       "      <th>c</th>\n",
       "    </tr>\n",
       "  </thead>\n",
       "  <tbody>\n",
       "    <tr>\n",
       "      <th>x</th>\n",
       "      <td>1</td>\n",
       "      <td>3</td>\n",
       "      <td>4</td>\n",
       "    </tr>\n",
       "    <tr>\n",
       "      <th>y</th>\n",
       "      <td>2</td>\n",
       "      <td>4</td>\n",
       "      <td>5</td>\n",
       "    </tr>\n",
       "  </tbody>\n",
       "</table>\n",
       "</div>"
      ],
      "text/plain": [
       "   a  b  c\n",
       "x  1  3  4\n",
       "y  2  4  5"
      ]
     },
     "execution_count": 46,
     "metadata": {},
     "output_type": "execute_result"
    }
   ],
   "source": [
    "df.T"
   ]
  },
  {
   "cell_type": "markdown",
   "metadata": {},
   "source": [
    "### Conversion\n",
    "\n",
    "There's quite a few different ways to convert fields."
   ]
  },
  {
   "cell_type": "code",
   "execution_count": 47,
   "metadata": {},
   "outputs": [
    {
     "data": {
      "text/html": [
       "<div>\n",
       "<style scoped>\n",
       "    .dataframe tbody tr th:only-of-type {\n",
       "        vertical-align: middle;\n",
       "    }\n",
       "\n",
       "    .dataframe tbody tr th {\n",
       "        vertical-align: top;\n",
       "    }\n",
       "\n",
       "    .dataframe thead th {\n",
       "        text-align: right;\n",
       "    }\n",
       "</style>\n",
       "<table border=\"1\" class=\"dataframe\">\n",
       "  <thead>\n",
       "    <tr style=\"text-align: right;\">\n",
       "      <th></th>\n",
       "      <th>x</th>\n",
       "      <th>y</th>\n",
       "      <th>z</th>\n",
       "    </tr>\n",
       "  </thead>\n",
       "  <tbody>\n",
       "    <tr>\n",
       "      <th>0</th>\n",
       "      <td>1.0</td>\n",
       "      <td>2021-12-01</td>\n",
       "      <td>10</td>\n",
       "    </tr>\n",
       "    <tr>\n",
       "      <th>1</th>\n",
       "      <td>2.0</td>\n",
       "      <td>2021-12-02</td>\n",
       "      <td>20</td>\n",
       "    </tr>\n",
       "    <tr>\n",
       "      <th>2</th>\n",
       "      <td>3.0</td>\n",
       "      <td>2021-12-03</td>\n",
       "      <td>30</td>\n",
       "    </tr>\n",
       "  </tbody>\n",
       "</table>\n",
       "</div>"
      ],
      "text/plain": [
       "     x           y   z\n",
       "0  1.0  2021-12-01  10\n",
       "1  2.0  2021-12-02  20\n",
       "2  3.0  2021-12-03  30"
      ]
     },
     "execution_count": 47,
     "metadata": {},
     "output_type": "execute_result"
    }
   ],
   "source": [
    "df = pd.DataFrame({\n",
    "    'x': [1.0, 2.0, 3.0],\n",
    "    'y': ['2021-12-01', '2021-12-02', '2021-12-03'],\n",
    "    'z': ['10', '20', '30']\n",
    "})\n",
    "\n",
    "df"
   ]
  },
  {
   "cell_type": "markdown",
   "metadata": {},
   "source": [
    "Use `pd.to_datetime()` to convert `str` to `datetime64[ns]`."
   ]
  },
  {
   "cell_type": "code",
   "execution_count": 48,
   "metadata": {},
   "outputs": [
    {
     "data": {
      "text/plain": [
       "0   2021-12-01\n",
       "1   2021-12-02\n",
       "2   2021-12-03\n",
       "Name: y, dtype: datetime64[ns]"
      ]
     },
     "execution_count": 48,
     "metadata": {},
     "output_type": "execute_result"
    }
   ],
   "source": [
    "pd.to_datetime(df.y)"
   ]
  },
  {
   "cell_type": "code",
   "execution_count": 49,
   "metadata": {},
   "outputs": [
    {
     "data": {
      "text/plain": [
       "0   2021-12-01\n",
       "1   2021-12-02\n",
       "2   2021-12-03\n",
       "Name: y, dtype: datetime64[ns]"
      ]
     },
     "execution_count": 49,
     "metadata": {},
     "output_type": "execute_result"
    }
   ],
   "source": [
    "pd.to_datetime(df.y, format='%Y-%m-%d')"
   ]
  },
  {
   "cell_type": "markdown",
   "metadata": {},
   "source": [
    "The `astype()` function can also be used to convert data types."
   ]
  },
  {
   "cell_type": "code",
   "execution_count": 50,
   "metadata": {},
   "outputs": [
    {
     "data": {
      "text/plain": [
       "0   2021-12-01\n",
       "1   2021-12-02\n",
       "2   2021-12-03\n",
       "Name: y, dtype: datetime64[ns]"
      ]
     },
     "execution_count": 50,
     "metadata": {},
     "output_type": "execute_result"
    }
   ],
   "source": [
    "df['y'].astype('datetime64[ns]')"
   ]
  },
  {
   "cell_type": "code",
   "execution_count": 51,
   "metadata": {},
   "outputs": [
    {
     "data": {
      "text/plain": [
       "0    1\n",
       "1    2\n",
       "2    3\n",
       "Name: x, dtype: int64"
      ]
     },
     "execution_count": 51,
     "metadata": {},
     "output_type": "execute_result"
    }
   ],
   "source": [
    "df['x'].astype('int')"
   ]
  },
  {
   "cell_type": "code",
   "execution_count": 52,
   "metadata": {},
   "outputs": [
    {
     "data": {
      "text/plain": [
       "0    10\n",
       "1    20\n",
       "2    30\n",
       "Name: z, dtype: int64"
      ]
     },
     "execution_count": 52,
     "metadata": {},
     "output_type": "execute_result"
    }
   ],
   "source": [
    "df['z'].astype('int')"
   ]
  },
  {
   "cell_type": "markdown",
   "metadata": {},
   "source": [
    "### Joining and concatenating\n",
    "\n",
    "Dataframes can be joined. The easiest way is to join two dataframes based on index values. This stacks up the dataframes horizontally or the wide way."
   ]
  },
  {
   "cell_type": "code",
   "execution_count": 53,
   "metadata": {},
   "outputs": [
    {
     "data": {
      "text/html": [
       "<div>\n",
       "<style scoped>\n",
       "    .dataframe tbody tr th:only-of-type {\n",
       "        vertical-align: middle;\n",
       "    }\n",
       "\n",
       "    .dataframe tbody tr th {\n",
       "        vertical-align: top;\n",
       "    }\n",
       "\n",
       "    .dataframe thead th {\n",
       "        text-align: right;\n",
       "    }\n",
       "</style>\n",
       "<table border=\"1\" class=\"dataframe\">\n",
       "  <thead>\n",
       "    <tr style=\"text-align: right;\">\n",
       "      <th></th>\n",
       "      <th>x</th>\n",
       "      <th>y</th>\n",
       "      <th>v</th>\n",
       "      <th>w</th>\n",
       "    </tr>\n",
       "  </thead>\n",
       "  <tbody>\n",
       "    <tr>\n",
       "      <th>a</th>\n",
       "      <td>1</td>\n",
       "      <td>2</td>\n",
       "      <td>6</td>\n",
       "      <td>9</td>\n",
       "    </tr>\n",
       "    <tr>\n",
       "      <th>b</th>\n",
       "      <td>3</td>\n",
       "      <td>4</td>\n",
       "      <td>7</td>\n",
       "      <td>10</td>\n",
       "    </tr>\n",
       "    <tr>\n",
       "      <th>c</th>\n",
       "      <td>4</td>\n",
       "      <td>5</td>\n",
       "      <td>8</td>\n",
       "      <td>11</td>\n",
       "    </tr>\n",
       "  </tbody>\n",
       "</table>\n",
       "</div>"
      ],
      "text/plain": [
       "   x  y  v   w\n",
       "a  1  2  6   9\n",
       "b  3  4  7  10\n",
       "c  4  5  8  11"
      ]
     },
     "execution_count": 53,
     "metadata": {},
     "output_type": "execute_result"
    }
   ],
   "source": [
    "df1 = pd.DataFrame({\n",
    "    'x': [1, 3, 4],\n",
    "    'y': [2, 4, 5]\n",
    "}, index=['a', 'b', 'c'])\n",
    "\n",
    "df2 = pd.DataFrame({\n",
    "    'v': [6, 7, 8],\n",
    "    'w': [9, 10, 11]\n",
    "}, index=['a', 'b', 'c'])\n",
    "\n",
    "df1.join(df2)"
   ]
  },
  {
   "cell_type": "markdown",
   "metadata": {},
   "source": [
    "If the field you want to join on is not in the index, you can set the index `set_index()` to the field you want to join on at join time."
   ]
  },
  {
   "cell_type": "code",
   "execution_count": 54,
   "metadata": {},
   "outputs": [
    {
     "data": {
      "text/html": [
       "<div>\n",
       "<style scoped>\n",
       "    .dataframe tbody tr th:only-of-type {\n",
       "        vertical-align: middle;\n",
       "    }\n",
       "\n",
       "    .dataframe tbody tr th {\n",
       "        vertical-align: top;\n",
       "    }\n",
       "\n",
       "    .dataframe thead th {\n",
       "        text-align: right;\n",
       "    }\n",
       "</style>\n",
       "<table border=\"1\" class=\"dataframe\">\n",
       "  <thead>\n",
       "    <tr style=\"text-align: right;\">\n",
       "      <th></th>\n",
       "      <th>x</th>\n",
       "      <th>y</th>\n",
       "      <th>v</th>\n",
       "      <th>w</th>\n",
       "    </tr>\n",
       "    <tr>\n",
       "      <th>id</th>\n",
       "      <th></th>\n",
       "      <th></th>\n",
       "      <th></th>\n",
       "      <th></th>\n",
       "    </tr>\n",
       "  </thead>\n",
       "  <tbody>\n",
       "    <tr>\n",
       "      <th>a</th>\n",
       "      <td>1</td>\n",
       "      <td>2</td>\n",
       "      <td>6</td>\n",
       "      <td>9</td>\n",
       "    </tr>\n",
       "    <tr>\n",
       "      <th>b</th>\n",
       "      <td>3</td>\n",
       "      <td>4</td>\n",
       "      <td>7</td>\n",
       "      <td>10</td>\n",
       "    </tr>\n",
       "    <tr>\n",
       "      <th>c</th>\n",
       "      <td>4</td>\n",
       "      <td>5</td>\n",
       "      <td>8</td>\n",
       "      <td>11</td>\n",
       "    </tr>\n",
       "  </tbody>\n",
       "</table>\n",
       "</div>"
      ],
      "text/plain": [
       "    x  y  v   w\n",
       "id             \n",
       "a   1  2  6   9\n",
       "b   3  4  7  10\n",
       "c   4  5  8  11"
      ]
     },
     "execution_count": 54,
     "metadata": {},
     "output_type": "execute_result"
    }
   ],
   "source": [
    "df1 = pd.DataFrame({\n",
    "    'id': ['a', 'b', 'c'],\n",
    "    'x': [1, 3, 4],\n",
    "    'y': [2, 4, 5]\n",
    "})\n",
    "\n",
    "df2 = pd.DataFrame({\n",
    "    'id': ['a', 'b', 'c'],\n",
    "    'v': [6, 7, 8],\n",
    "    'w': [9, 10, 11]\n",
    "})\n",
    "\n",
    "df1.set_index('id') \\\n",
    "    .join(df2.set_index('id'))"
   ]
  },
  {
   "cell_type": "markdown",
   "metadata": {},
   "source": [
    "If you want the `id` colum back into the dataframe, then call `reset_index()` after joining."
   ]
  },
  {
   "cell_type": "code",
   "execution_count": 55,
   "metadata": {},
   "outputs": [
    {
     "data": {
      "text/html": [
       "<div>\n",
       "<style scoped>\n",
       "    .dataframe tbody tr th:only-of-type {\n",
       "        vertical-align: middle;\n",
       "    }\n",
       "\n",
       "    .dataframe tbody tr th {\n",
       "        vertical-align: top;\n",
       "    }\n",
       "\n",
       "    .dataframe thead th {\n",
       "        text-align: right;\n",
       "    }\n",
       "</style>\n",
       "<table border=\"1\" class=\"dataframe\">\n",
       "  <thead>\n",
       "    <tr style=\"text-align: right;\">\n",
       "      <th></th>\n",
       "      <th>id</th>\n",
       "      <th>x</th>\n",
       "      <th>y</th>\n",
       "      <th>v</th>\n",
       "      <th>w</th>\n",
       "    </tr>\n",
       "  </thead>\n",
       "  <tbody>\n",
       "    <tr>\n",
       "      <th>0</th>\n",
       "      <td>a</td>\n",
       "      <td>1</td>\n",
       "      <td>2</td>\n",
       "      <td>6</td>\n",
       "      <td>9</td>\n",
       "    </tr>\n",
       "    <tr>\n",
       "      <th>1</th>\n",
       "      <td>b</td>\n",
       "      <td>3</td>\n",
       "      <td>4</td>\n",
       "      <td>7</td>\n",
       "      <td>10</td>\n",
       "    </tr>\n",
       "    <tr>\n",
       "      <th>2</th>\n",
       "      <td>c</td>\n",
       "      <td>4</td>\n",
       "      <td>5</td>\n",
       "      <td>8</td>\n",
       "      <td>11</td>\n",
       "    </tr>\n",
       "  </tbody>\n",
       "</table>\n",
       "</div>"
      ],
      "text/plain": [
       "  id  x  y  v   w\n",
       "0  a  1  2  6   9\n",
       "1  b  3  4  7  10\n",
       "2  c  4  5  8  11"
      ]
     },
     "execution_count": 55,
     "metadata": {},
     "output_type": "execute_result"
    }
   ],
   "source": [
    "df1.set_index('id') \\\n",
    "    .join(df2.set_index('id')) \\\n",
    "    .reset_index()"
   ]
  },
  {
   "cell_type": "markdown",
   "metadata": {},
   "source": [
    "Dataframes can also be `concatenated` vertically or the long way."
   ]
  },
  {
   "cell_type": "code",
   "execution_count": 56,
   "metadata": {},
   "outputs": [
    {
     "data": {
      "text/html": [
       "<div>\n",
       "<style scoped>\n",
       "    .dataframe tbody tr th:only-of-type {\n",
       "        vertical-align: middle;\n",
       "    }\n",
       "\n",
       "    .dataframe tbody tr th {\n",
       "        vertical-align: top;\n",
       "    }\n",
       "\n",
       "    .dataframe thead th {\n",
       "        text-align: right;\n",
       "    }\n",
       "</style>\n",
       "<table border=\"1\" class=\"dataframe\">\n",
       "  <thead>\n",
       "    <tr style=\"text-align: right;\">\n",
       "      <th></th>\n",
       "      <th>x</th>\n",
       "      <th>y</th>\n",
       "    </tr>\n",
       "  </thead>\n",
       "  <tbody>\n",
       "    <tr>\n",
       "      <th>a</th>\n",
       "      <td>1</td>\n",
       "      <td>2</td>\n",
       "    </tr>\n",
       "    <tr>\n",
       "      <th>b</th>\n",
       "      <td>3</td>\n",
       "      <td>4</td>\n",
       "    </tr>\n",
       "    <tr>\n",
       "      <th>c</th>\n",
       "      <td>4</td>\n",
       "      <td>5</td>\n",
       "    </tr>\n",
       "    <tr>\n",
       "      <th>d</th>\n",
       "      <td>6</td>\n",
       "      <td>9</td>\n",
       "    </tr>\n",
       "    <tr>\n",
       "      <th>e</th>\n",
       "      <td>7</td>\n",
       "      <td>10</td>\n",
       "    </tr>\n",
       "    <tr>\n",
       "      <th>f</th>\n",
       "      <td>8</td>\n",
       "      <td>11</td>\n",
       "    </tr>\n",
       "  </tbody>\n",
       "</table>\n",
       "</div>"
      ],
      "text/plain": [
       "   x   y\n",
       "a  1   2\n",
       "b  3   4\n",
       "c  4   5\n",
       "d  6   9\n",
       "e  7  10\n",
       "f  8  11"
      ]
     },
     "execution_count": 56,
     "metadata": {},
     "output_type": "execute_result"
    }
   ],
   "source": [
    "df1 = pd.DataFrame({\n",
    "    'x': [1, 3, 4],\n",
    "    'y': [2, 4, 5]\n",
    "}, index=['a', 'b', 'c'])\n",
    "\n",
    "df2 = pd.DataFrame({\n",
    "    'x': [6, 7, 8],\n",
    "    'y': [9, 10, 11]\n",
    "}, index=['d', 'e', 'f'])\n",
    "\n",
    "pd.concat([df1, df2])"
   ]
  },
  {
   "cell_type": "markdown",
   "metadata": {},
   "source": [
    "### Multiple indexes\n",
    "\n",
    "Indexes plays a very important role in organizing your data in a dataframe. For the most part, we have shown a single index on a dataframe. But a dataframe can have a multiple indices using `MultiIndex`. Below, we create a fictitious set of data of handedness and sports by gender. "
   ]
  },
  {
   "cell_type": "code",
   "execution_count": 57,
   "metadata": {},
   "outputs": [
    {
     "data": {
      "text/html": [
       "<div>\n",
       "<style scoped>\n",
       "    .dataframe tbody tr th:only-of-type {\n",
       "        vertical-align: middle;\n",
       "    }\n",
       "\n",
       "    .dataframe tbody tr th {\n",
       "        vertical-align: top;\n",
       "    }\n",
       "\n",
       "    .dataframe thead th {\n",
       "        text-align: right;\n",
       "    }\n",
       "</style>\n",
       "<table border=\"1\" class=\"dataframe\">\n",
       "  <thead>\n",
       "    <tr style=\"text-align: right;\">\n",
       "      <th></th>\n",
       "      <th></th>\n",
       "      <th>male</th>\n",
       "      <th>female</th>\n",
       "    </tr>\n",
       "  </thead>\n",
       "  <tbody>\n",
       "    <tr>\n",
       "      <th rowspan=\"2\" valign=\"top\">left</th>\n",
       "      <th>soccer</th>\n",
       "      <td>5</td>\n",
       "      <td>6</td>\n",
       "    </tr>\n",
       "    <tr>\n",
       "      <th>baseball</th>\n",
       "      <td>10</td>\n",
       "      <td>11</td>\n",
       "    </tr>\n",
       "    <tr>\n",
       "      <th rowspan=\"2\" valign=\"top\">right</th>\n",
       "      <th>soccer</th>\n",
       "      <td>15</td>\n",
       "      <td>20</td>\n",
       "    </tr>\n",
       "    <tr>\n",
       "      <th>baseball</th>\n",
       "      <td>20</td>\n",
       "      <td>25</td>\n",
       "    </tr>\n",
       "  </tbody>\n",
       "</table>\n",
       "</div>"
      ],
      "text/plain": [
       "                male  female\n",
       "left  soccer       5       6\n",
       "      baseball    10      11\n",
       "right soccer      15      20\n",
       "      baseball    20      25"
      ]
     },
     "execution_count": 57,
     "metadata": {},
     "output_type": "execute_result"
    }
   ],
   "source": [
    "row_index = pd.MultiIndex.from_tuples([\n",
    "    ('left', 'soccer'), \n",
    "    ('left', 'baseball'), \n",
    "    ('right', 'soccer'), \n",
    "    ('right', 'baseball')])\n",
    "data = {\n",
    "    'male': [5, 10, 15, 20], \n",
    "    'female': [6, 11, 20, 25]\n",
    "}\n",
    "pd.DataFrame(data, index=row_index)"
   ]
  },
  {
   "cell_type": "markdown",
   "metadata": {},
   "source": [
    "The column index can also have multiple indexes."
   ]
  },
  {
   "cell_type": "code",
   "execution_count": 58,
   "metadata": {},
   "outputs": [
    {
     "data": {
      "text/html": [
       "<div>\n",
       "<style scoped>\n",
       "    .dataframe tbody tr th:only-of-type {\n",
       "        vertical-align: middle;\n",
       "    }\n",
       "\n",
       "    .dataframe tbody tr th {\n",
       "        vertical-align: top;\n",
       "    }\n",
       "\n",
       "    .dataframe thead tr th {\n",
       "        text-align: left;\n",
       "    }\n",
       "</style>\n",
       "<table border=\"1\" class=\"dataframe\">\n",
       "  <thead>\n",
       "    <tr>\n",
       "      <th></th>\n",
       "      <th></th>\n",
       "      <th colspan=\"2\" halign=\"left\">amateur</th>\n",
       "      <th colspan=\"2\" halign=\"left\">pro</th>\n",
       "    </tr>\n",
       "    <tr>\n",
       "      <th></th>\n",
       "      <th></th>\n",
       "      <th>male</th>\n",
       "      <th>female</th>\n",
       "      <th>male</th>\n",
       "      <th>female</th>\n",
       "    </tr>\n",
       "  </thead>\n",
       "  <tbody>\n",
       "    <tr>\n",
       "      <th rowspan=\"2\" valign=\"top\">left</th>\n",
       "      <th>soccer</th>\n",
       "      <td>5</td>\n",
       "      <td>10</td>\n",
       "      <td>15</td>\n",
       "      <td>20</td>\n",
       "    </tr>\n",
       "    <tr>\n",
       "      <th>baseball</th>\n",
       "      <td>6</td>\n",
       "      <td>11</td>\n",
       "      <td>20</td>\n",
       "      <td>25</td>\n",
       "    </tr>\n",
       "    <tr>\n",
       "      <th rowspan=\"2\" valign=\"top\">right</th>\n",
       "      <th>soccer</th>\n",
       "      <td>10</td>\n",
       "      <td>11</td>\n",
       "      <td>25</td>\n",
       "      <td>30</td>\n",
       "    </tr>\n",
       "    <tr>\n",
       "      <th>baseball</th>\n",
       "      <td>15</td>\n",
       "      <td>17</td>\n",
       "      <td>30</td>\n",
       "      <td>35</td>\n",
       "    </tr>\n",
       "  </tbody>\n",
       "</table>\n",
       "</div>"
      ],
      "text/plain": [
       "               amateur         pro       \n",
       "                  male female male female\n",
       "left  soccer         5     10   15     20\n",
       "      baseball       6     11   20     25\n",
       "right soccer        10     11   25     30\n",
       "      baseball      15     17   30     35"
      ]
     },
     "execution_count": 58,
     "metadata": {},
     "output_type": "execute_result"
    }
   ],
   "source": [
    "row_index = pd.MultiIndex.from_tuples([\n",
    "    ('left', 'soccer'), \n",
    "    ('left', 'baseball'), \n",
    "    ('right', 'soccer'), \n",
    "    ('right', 'baseball')])\n",
    "\n",
    "col_index = pd.MultiIndex.from_tuples([\n",
    "    ('amateur', 'male'),\n",
    "    ('amateur', 'female'),\n",
    "    ('pro', 'male'),\n",
    "    ('pro', 'female')\n",
    "])\n",
    "\n",
    "data = [\n",
    "    [5, 10, 15, 20], \n",
    "    [6, 11, 20, 25],\n",
    "    [10, 11, 25, 30], \n",
    "    [15, 17, 30, 35]\n",
    "]\n",
    "\n",
    "df = pd.DataFrame(data, index=row_index, columns=col_index)\n",
    "df"
   ]
  },
  {
   "cell_type": "markdown",
   "metadata": {},
   "source": [
    "### Filtering rows\n",
    "\n",
    "Let's see how filtering for records in a dataframe works. One filtering approach is by index."
   ]
  },
  {
   "cell_type": "code",
   "execution_count": 59,
   "metadata": {},
   "outputs": [
    {
     "data": {
      "text/html": [
       "<div>\n",
       "<style scoped>\n",
       "    .dataframe tbody tr th:only-of-type {\n",
       "        vertical-align: middle;\n",
       "    }\n",
       "\n",
       "    .dataframe tbody tr th {\n",
       "        vertical-align: top;\n",
       "    }\n",
       "\n",
       "    .dataframe thead th {\n",
       "        text-align: right;\n",
       "    }\n",
       "</style>\n",
       "<table border=\"1\" class=\"dataframe\">\n",
       "  <thead>\n",
       "    <tr style=\"text-align: right;\">\n",
       "      <th></th>\n",
       "      <th>x</th>\n",
       "      <th>y</th>\n",
       "    </tr>\n",
       "  </thead>\n",
       "  <tbody>\n",
       "    <tr>\n",
       "      <th>b</th>\n",
       "      <td>3</td>\n",
       "      <td>4</td>\n",
       "    </tr>\n",
       "    <tr>\n",
       "      <th>c</th>\n",
       "      <td>4</td>\n",
       "      <td>5</td>\n",
       "    </tr>\n",
       "  </tbody>\n",
       "</table>\n",
       "</div>"
      ],
      "text/plain": [
       "   x  y\n",
       "b  3  4\n",
       "c  4  5"
      ]
     },
     "execution_count": 59,
     "metadata": {},
     "output_type": "execute_result"
    }
   ],
   "source": [
    "df = pd.DataFrame({\n",
    "    'x': [1, 3, 4],\n",
    "    'y': [2, 4, 5]\n",
    "}, index=['a', 'b', 'c'])\n",
    "\n",
    "\n",
    "df[df.x >= 3]"
   ]
  },
  {
   "cell_type": "markdown",
   "metadata": {},
   "source": [
    "We can filter by index using boolean logic with `and` (`&`) or `or` (`|`). Notice how we have to use parentheses around the comparisons?"
   ]
  },
  {
   "cell_type": "code",
   "execution_count": 60,
   "metadata": {},
   "outputs": [
    {
     "data": {
      "text/html": [
       "<div>\n",
       "<style scoped>\n",
       "    .dataframe tbody tr th:only-of-type {\n",
       "        vertical-align: middle;\n",
       "    }\n",
       "\n",
       "    .dataframe tbody tr th {\n",
       "        vertical-align: top;\n",
       "    }\n",
       "\n",
       "    .dataframe thead th {\n",
       "        text-align: right;\n",
       "    }\n",
       "</style>\n",
       "<table border=\"1\" class=\"dataframe\">\n",
       "  <thead>\n",
       "    <tr style=\"text-align: right;\">\n",
       "      <th></th>\n",
       "      <th>x</th>\n",
       "      <th>y</th>\n",
       "    </tr>\n",
       "  </thead>\n",
       "  <tbody>\n",
       "    <tr>\n",
       "      <th>c</th>\n",
       "      <td>4</td>\n",
       "      <td>5</td>\n",
       "    </tr>\n",
       "  </tbody>\n",
       "</table>\n",
       "</div>"
      ],
      "text/plain": [
       "   x  y\n",
       "c  4  5"
      ]
     },
     "execution_count": 60,
     "metadata": {},
     "output_type": "execute_result"
    }
   ],
   "source": [
    "df[(df.x >= 3) & (df.y > 4)]"
   ]
  },
  {
   "cell_type": "code",
   "execution_count": 61,
   "metadata": {},
   "outputs": [
    {
     "data": {
      "text/html": [
       "<div>\n",
       "<style scoped>\n",
       "    .dataframe tbody tr th:only-of-type {\n",
       "        vertical-align: middle;\n",
       "    }\n",
       "\n",
       "    .dataframe tbody tr th {\n",
       "        vertical-align: top;\n",
       "    }\n",
       "\n",
       "    .dataframe thead th {\n",
       "        text-align: right;\n",
       "    }\n",
       "</style>\n",
       "<table border=\"1\" class=\"dataframe\">\n",
       "  <thead>\n",
       "    <tr style=\"text-align: right;\">\n",
       "      <th></th>\n",
       "      <th>x</th>\n",
       "      <th>y</th>\n",
       "    </tr>\n",
       "  </thead>\n",
       "  <tbody>\n",
       "    <tr>\n",
       "      <th>b</th>\n",
       "      <td>3</td>\n",
       "      <td>4</td>\n",
       "    </tr>\n",
       "    <tr>\n",
       "      <th>c</th>\n",
       "      <td>4</td>\n",
       "      <td>5</td>\n",
       "    </tr>\n",
       "  </tbody>\n",
       "</table>\n",
       "</div>"
      ],
      "text/plain": [
       "   x  y\n",
       "b  3  4\n",
       "c  4  5"
      ]
     },
     "execution_count": 61,
     "metadata": {},
     "output_type": "execute_result"
    }
   ],
   "source": [
    "df[(df.x >= 3) | (df.y > 4)]"
   ]
  },
  {
   "cell_type": "markdown",
   "metadata": {},
   "source": [
    "If you are familiar with Structured Query Language `SQL`, you can filter using the `query()` method specifying the conditions as in a SQL `where` clause."
   ]
  },
  {
   "cell_type": "code",
   "execution_count": 62,
   "metadata": {},
   "outputs": [
    {
     "data": {
      "text/html": [
       "<div>\n",
       "<style scoped>\n",
       "    .dataframe tbody tr th:only-of-type {\n",
       "        vertical-align: middle;\n",
       "    }\n",
       "\n",
       "    .dataframe tbody tr th {\n",
       "        vertical-align: top;\n",
       "    }\n",
       "\n",
       "    .dataframe thead th {\n",
       "        text-align: right;\n",
       "    }\n",
       "</style>\n",
       "<table border=\"1\" class=\"dataframe\">\n",
       "  <thead>\n",
       "    <tr style=\"text-align: right;\">\n",
       "      <th></th>\n",
       "      <th>x</th>\n",
       "      <th>y</th>\n",
       "    </tr>\n",
       "  </thead>\n",
       "  <tbody>\n",
       "    <tr>\n",
       "      <th>c</th>\n",
       "      <td>4</td>\n",
       "      <td>5</td>\n",
       "    </tr>\n",
       "  </tbody>\n",
       "</table>\n",
       "</div>"
      ],
      "text/plain": [
       "   x  y\n",
       "c  4  5"
      ]
     },
     "execution_count": 62,
     "metadata": {},
     "output_type": "execute_result"
    }
   ],
   "source": [
    "df.query('x >= 3 and y > 4')"
   ]
  },
  {
   "cell_type": "code",
   "execution_count": 63,
   "metadata": {},
   "outputs": [
    {
     "data": {
      "text/html": [
       "<div>\n",
       "<style scoped>\n",
       "    .dataframe tbody tr th:only-of-type {\n",
       "        vertical-align: middle;\n",
       "    }\n",
       "\n",
       "    .dataframe tbody tr th {\n",
       "        vertical-align: top;\n",
       "    }\n",
       "\n",
       "    .dataframe thead th {\n",
       "        text-align: right;\n",
       "    }\n",
       "</style>\n",
       "<table border=\"1\" class=\"dataframe\">\n",
       "  <thead>\n",
       "    <tr style=\"text-align: right;\">\n",
       "      <th></th>\n",
       "      <th>x</th>\n",
       "      <th>y</th>\n",
       "    </tr>\n",
       "  </thead>\n",
       "  <tbody>\n",
       "    <tr>\n",
       "      <th>b</th>\n",
       "      <td>3</td>\n",
       "      <td>4</td>\n",
       "    </tr>\n",
       "    <tr>\n",
       "      <th>c</th>\n",
       "      <td>4</td>\n",
       "      <td>5</td>\n",
       "    </tr>\n",
       "  </tbody>\n",
       "</table>\n",
       "</div>"
      ],
      "text/plain": [
       "   x  y\n",
       "b  3  4\n",
       "c  4  5"
      ]
     },
     "execution_count": 63,
     "metadata": {},
     "output_type": "execute_result"
    }
   ],
   "source": [
    "df.query('x >= 3 or y > 4')"
   ]
  },
  {
   "cell_type": "markdown",
   "metadata": {},
   "source": [
    "You can also use `numpy` to filter rows."
   ]
  },
  {
   "cell_type": "code",
   "execution_count": 64,
   "metadata": {},
   "outputs": [
    {
     "data": {
      "text/html": [
       "<div>\n",
       "<style scoped>\n",
       "    .dataframe tbody tr th:only-of-type {\n",
       "        vertical-align: middle;\n",
       "    }\n",
       "\n",
       "    .dataframe tbody tr th {\n",
       "        vertical-align: top;\n",
       "    }\n",
       "\n",
       "    .dataframe thead th {\n",
       "        text-align: right;\n",
       "    }\n",
       "</style>\n",
       "<table border=\"1\" class=\"dataframe\">\n",
       "  <thead>\n",
       "    <tr style=\"text-align: right;\">\n",
       "      <th></th>\n",
       "      <th>x</th>\n",
       "      <th>y</th>\n",
       "    </tr>\n",
       "  </thead>\n",
       "  <tbody>\n",
       "    <tr>\n",
       "      <th>c</th>\n",
       "      <td>4</td>\n",
       "      <td>5</td>\n",
       "    </tr>\n",
       "  </tbody>\n",
       "</table>\n",
       "</div>"
      ],
      "text/plain": [
       "   x  y\n",
       "c  4  5"
      ]
     },
     "execution_count": 64,
     "metadata": {},
     "output_type": "execute_result"
    }
   ],
   "source": [
    "import numpy as np\n",
    "\n",
    "df[np.logical_and(df.x >= 3, df.y > 4)]"
   ]
  },
  {
   "cell_type": "code",
   "execution_count": 65,
   "metadata": {},
   "outputs": [
    {
     "data": {
      "text/html": [
       "<div>\n",
       "<style scoped>\n",
       "    .dataframe tbody tr th:only-of-type {\n",
       "        vertical-align: middle;\n",
       "    }\n",
       "\n",
       "    .dataframe tbody tr th {\n",
       "        vertical-align: top;\n",
       "    }\n",
       "\n",
       "    .dataframe thead th {\n",
       "        text-align: right;\n",
       "    }\n",
       "</style>\n",
       "<table border=\"1\" class=\"dataframe\">\n",
       "  <thead>\n",
       "    <tr style=\"text-align: right;\">\n",
       "      <th></th>\n",
       "      <th>x</th>\n",
       "      <th>y</th>\n",
       "    </tr>\n",
       "  </thead>\n",
       "  <tbody>\n",
       "    <tr>\n",
       "      <th>b</th>\n",
       "      <td>3</td>\n",
       "      <td>4</td>\n",
       "    </tr>\n",
       "    <tr>\n",
       "      <th>c</th>\n",
       "      <td>4</td>\n",
       "      <td>5</td>\n",
       "    </tr>\n",
       "  </tbody>\n",
       "</table>\n",
       "</div>"
      ],
      "text/plain": [
       "   x  y\n",
       "b  3  4\n",
       "c  4  5"
      ]
     },
     "execution_count": 65,
     "metadata": {},
     "output_type": "execute_result"
    }
   ],
   "source": [
    "df[np.logical_or(df.x >= 3, df.y > 4)]"
   ]
  },
  {
   "cell_type": "code",
   "execution_count": 66,
   "metadata": {},
   "outputs": [
    {
     "data": {
      "text/html": [
       "<div>\n",
       "<style scoped>\n",
       "    .dataframe tbody tr th:only-of-type {\n",
       "        vertical-align: middle;\n",
       "    }\n",
       "\n",
       "    .dataframe tbody tr th {\n",
       "        vertical-align: top;\n",
       "    }\n",
       "\n",
       "    .dataframe thead th {\n",
       "        text-align: right;\n",
       "    }\n",
       "</style>\n",
       "<table border=\"1\" class=\"dataframe\">\n",
       "  <thead>\n",
       "    <tr style=\"text-align: right;\">\n",
       "      <th></th>\n",
       "      <th>x</th>\n",
       "      <th>y</th>\n",
       "    </tr>\n",
       "  </thead>\n",
       "  <tbody>\n",
       "    <tr>\n",
       "      <th>a</th>\n",
       "      <td>1</td>\n",
       "      <td>2</td>\n",
       "    </tr>\n",
       "    <tr>\n",
       "      <th>c</th>\n",
       "      <td>4</td>\n",
       "      <td>5</td>\n",
       "    </tr>\n",
       "  </tbody>\n",
       "</table>\n",
       "</div>"
      ],
      "text/plain": [
       "   x  y\n",
       "a  1  2\n",
       "c  4  5"
      ]
     },
     "execution_count": 66,
     "metadata": {},
     "output_type": "execute_result"
    }
   ],
   "source": [
    "df[np.logical_not(df.x == 3)]"
   ]
  },
  {
   "cell_type": "markdown",
   "metadata": {},
   "source": [
    "What about filtering date fields? "
   ]
  },
  {
   "cell_type": "code",
   "execution_count": 67,
   "metadata": {},
   "outputs": [
    {
     "data": {
      "text/html": [
       "<div>\n",
       "<style scoped>\n",
       "    .dataframe tbody tr th:only-of-type {\n",
       "        vertical-align: middle;\n",
       "    }\n",
       "\n",
       "    .dataframe tbody tr th {\n",
       "        vertical-align: top;\n",
       "    }\n",
       "\n",
       "    .dataframe thead th {\n",
       "        text-align: right;\n",
       "    }\n",
       "</style>\n",
       "<table border=\"1\" class=\"dataframe\">\n",
       "  <thead>\n",
       "    <tr style=\"text-align: right;\">\n",
       "      <th></th>\n",
       "      <th>x</th>\n",
       "      <th>y</th>\n",
       "    </tr>\n",
       "  </thead>\n",
       "  <tbody>\n",
       "    <tr>\n",
       "      <th>0</th>\n",
       "      <td>1</td>\n",
       "      <td>2021-12-01</td>\n",
       "    </tr>\n",
       "    <tr>\n",
       "      <th>1</th>\n",
       "      <td>2</td>\n",
       "      <td>2021-12-02</td>\n",
       "    </tr>\n",
       "    <tr>\n",
       "      <th>2</th>\n",
       "      <td>3</td>\n",
       "      <td>2021-12-03</td>\n",
       "    </tr>\n",
       "    <tr>\n",
       "      <th>3</th>\n",
       "      <td>4</td>\n",
       "      <td>2021-12-04</td>\n",
       "    </tr>\n",
       "    <tr>\n",
       "      <th>4</th>\n",
       "      <td>5</td>\n",
       "      <td>2021-12-05</td>\n",
       "    </tr>\n",
       "  </tbody>\n",
       "</table>\n",
       "</div>"
      ],
      "text/plain": [
       "   x          y\n",
       "0  1 2021-12-01\n",
       "1  2 2021-12-02\n",
       "2  3 2021-12-03\n",
       "3  4 2021-12-04\n",
       "4  5 2021-12-05"
      ]
     },
     "execution_count": 67,
     "metadata": {},
     "output_type": "execute_result"
    }
   ],
   "source": [
    "df = pd.DataFrame({\n",
    "    'x': [i for i in range(1, 32)],\n",
    "    'y': pd.to_datetime([f'2021-12-{i:02}' for i in range(1, 32)])\n",
    "})\n",
    "\n",
    "df.head()"
   ]
  },
  {
   "cell_type": "code",
   "execution_count": 68,
   "metadata": {},
   "outputs": [
    {
     "data": {
      "text/html": [
       "<div>\n",
       "<style scoped>\n",
       "    .dataframe tbody tr th:only-of-type {\n",
       "        vertical-align: middle;\n",
       "    }\n",
       "\n",
       "    .dataframe tbody tr th {\n",
       "        vertical-align: top;\n",
       "    }\n",
       "\n",
       "    .dataframe thead th {\n",
       "        text-align: right;\n",
       "    }\n",
       "</style>\n",
       "<table border=\"1\" class=\"dataframe\">\n",
       "  <thead>\n",
       "    <tr style=\"text-align: right;\">\n",
       "      <th></th>\n",
       "      <th>x</th>\n",
       "      <th>y</th>\n",
       "    </tr>\n",
       "  </thead>\n",
       "  <tbody>\n",
       "    <tr>\n",
       "      <th>25</th>\n",
       "      <td>26</td>\n",
       "      <td>2021-12-26</td>\n",
       "    </tr>\n",
       "    <tr>\n",
       "      <th>26</th>\n",
       "      <td>27</td>\n",
       "      <td>2021-12-27</td>\n",
       "    </tr>\n",
       "    <tr>\n",
       "      <th>27</th>\n",
       "      <td>28</td>\n",
       "      <td>2021-12-28</td>\n",
       "    </tr>\n",
       "    <tr>\n",
       "      <th>28</th>\n",
       "      <td>29</td>\n",
       "      <td>2021-12-29</td>\n",
       "    </tr>\n",
       "    <tr>\n",
       "      <th>29</th>\n",
       "      <td>30</td>\n",
       "      <td>2021-12-30</td>\n",
       "    </tr>\n",
       "    <tr>\n",
       "      <th>30</th>\n",
       "      <td>31</td>\n",
       "      <td>2021-12-31</td>\n",
       "    </tr>\n",
       "  </tbody>\n",
       "</table>\n",
       "</div>"
      ],
      "text/plain": [
       "     x          y\n",
       "25  26 2021-12-26\n",
       "26  27 2021-12-27\n",
       "27  28 2021-12-28\n",
       "28  29 2021-12-29\n",
       "29  30 2021-12-30\n",
       "30  31 2021-12-31"
      ]
     },
     "execution_count": 68,
     "metadata": {},
     "output_type": "execute_result"
    }
   ],
   "source": [
    "df.query('y > \"2021-12-25\"')"
   ]
  },
  {
   "cell_type": "code",
   "execution_count": 69,
   "metadata": {},
   "outputs": [
    {
     "data": {
      "text/html": [
       "<div>\n",
       "<style scoped>\n",
       "    .dataframe tbody tr th:only-of-type {\n",
       "        vertical-align: middle;\n",
       "    }\n",
       "\n",
       "    .dataframe tbody tr th {\n",
       "        vertical-align: top;\n",
       "    }\n",
       "\n",
       "    .dataframe thead th {\n",
       "        text-align: right;\n",
       "    }\n",
       "</style>\n",
       "<table border=\"1\" class=\"dataframe\">\n",
       "  <thead>\n",
       "    <tr style=\"text-align: right;\">\n",
       "      <th></th>\n",
       "      <th>x</th>\n",
       "      <th>y</th>\n",
       "    </tr>\n",
       "  </thead>\n",
       "  <tbody>\n",
       "    <tr>\n",
       "      <th>25</th>\n",
       "      <td>26</td>\n",
       "      <td>2021-12-26</td>\n",
       "    </tr>\n",
       "    <tr>\n",
       "      <th>26</th>\n",
       "      <td>27</td>\n",
       "      <td>2021-12-27</td>\n",
       "    </tr>\n",
       "    <tr>\n",
       "      <th>27</th>\n",
       "      <td>28</td>\n",
       "      <td>2021-12-28</td>\n",
       "    </tr>\n",
       "    <tr>\n",
       "      <th>28</th>\n",
       "      <td>29</td>\n",
       "      <td>2021-12-29</td>\n",
       "    </tr>\n",
       "    <tr>\n",
       "      <th>29</th>\n",
       "      <td>30</td>\n",
       "      <td>2021-12-30</td>\n",
       "    </tr>\n",
       "    <tr>\n",
       "      <th>30</th>\n",
       "      <td>31</td>\n",
       "      <td>2021-12-31</td>\n",
       "    </tr>\n",
       "  </tbody>\n",
       "</table>\n",
       "</div>"
      ],
      "text/plain": [
       "     x          y\n",
       "25  26 2021-12-26\n",
       "26  27 2021-12-27\n",
       "27  28 2021-12-28\n",
       "28  29 2021-12-29\n",
       "29  30 2021-12-30\n",
       "30  31 2021-12-31"
      ]
     },
     "execution_count": 69,
     "metadata": {},
     "output_type": "execute_result"
    }
   ],
   "source": [
    "df[df.y > '2021-12-25']"
   ]
  },
  {
   "cell_type": "code",
   "execution_count": 70,
   "metadata": {},
   "outputs": [
    {
     "data": {
      "text/html": [
       "<div>\n",
       "<style scoped>\n",
       "    .dataframe tbody tr th:only-of-type {\n",
       "        vertical-align: middle;\n",
       "    }\n",
       "\n",
       "    .dataframe tbody tr th {\n",
       "        vertical-align: top;\n",
       "    }\n",
       "\n",
       "    .dataframe thead th {\n",
       "        text-align: right;\n",
       "    }\n",
       "</style>\n",
       "<table border=\"1\" class=\"dataframe\">\n",
       "  <thead>\n",
       "    <tr style=\"text-align: right;\">\n",
       "      <th></th>\n",
       "      <th>x</th>\n",
       "      <th>y</th>\n",
       "    </tr>\n",
       "  </thead>\n",
       "  <tbody>\n",
       "    <tr>\n",
       "      <th>20</th>\n",
       "      <td>21</td>\n",
       "      <td>2021-12-21</td>\n",
       "    </tr>\n",
       "    <tr>\n",
       "      <th>21</th>\n",
       "      <td>22</td>\n",
       "      <td>2021-12-22</td>\n",
       "    </tr>\n",
       "    <tr>\n",
       "      <th>22</th>\n",
       "      <td>23</td>\n",
       "      <td>2021-12-23</td>\n",
       "    </tr>\n",
       "    <tr>\n",
       "      <th>23</th>\n",
       "      <td>24</td>\n",
       "      <td>2021-12-24</td>\n",
       "    </tr>\n",
       "  </tbody>\n",
       "</table>\n",
       "</div>"
      ],
      "text/plain": [
       "     x          y\n",
       "20  21 2021-12-21\n",
       "21  22 2021-12-22\n",
       "22  23 2021-12-23\n",
       "23  24 2021-12-24"
      ]
     },
     "execution_count": 70,
     "metadata": {},
     "output_type": "execute_result"
    }
   ],
   "source": [
    "df.query('\"2021-12-20\" < y  < \"2021-12-25\"')"
   ]
  },
  {
   "cell_type": "code",
   "execution_count": 71,
   "metadata": {},
   "outputs": [
    {
     "data": {
      "text/html": [
       "<div>\n",
       "<style scoped>\n",
       "    .dataframe tbody tr th:only-of-type {\n",
       "        vertical-align: middle;\n",
       "    }\n",
       "\n",
       "    .dataframe tbody tr th {\n",
       "        vertical-align: top;\n",
       "    }\n",
       "\n",
       "    .dataframe thead th {\n",
       "        text-align: right;\n",
       "    }\n",
       "</style>\n",
       "<table border=\"1\" class=\"dataframe\">\n",
       "  <thead>\n",
       "    <tr style=\"text-align: right;\">\n",
       "      <th></th>\n",
       "      <th>x</th>\n",
       "      <th>y</th>\n",
       "    </tr>\n",
       "  </thead>\n",
       "  <tbody>\n",
       "    <tr>\n",
       "      <th>20</th>\n",
       "      <td>21</td>\n",
       "      <td>2021-12-21</td>\n",
       "    </tr>\n",
       "    <tr>\n",
       "      <th>21</th>\n",
       "      <td>22</td>\n",
       "      <td>2021-12-22</td>\n",
       "    </tr>\n",
       "    <tr>\n",
       "      <th>22</th>\n",
       "      <td>23</td>\n",
       "      <td>2021-12-23</td>\n",
       "    </tr>\n",
       "    <tr>\n",
       "      <th>23</th>\n",
       "      <td>24</td>\n",
       "      <td>2021-12-24</td>\n",
       "    </tr>\n",
       "  </tbody>\n",
       "</table>\n",
       "</div>"
      ],
      "text/plain": [
       "     x          y\n",
       "20  21 2021-12-21\n",
       "21  22 2021-12-22\n",
       "22  23 2021-12-23\n",
       "23  24 2021-12-24"
      ]
     },
     "execution_count": 71,
     "metadata": {},
     "output_type": "execute_result"
    }
   ],
   "source": [
    "df[('2021-12-20' < df.y) & (df.y < '2021-12-25')]"
   ]
  },
  {
   "cell_type": "markdown",
   "metadata": {},
   "source": [
    "What about filtering against a multi-index?"
   ]
  },
  {
   "cell_type": "code",
   "execution_count": 72,
   "metadata": {},
   "outputs": [
    {
     "data": {
      "text/html": [
       "<div>\n",
       "<style scoped>\n",
       "    .dataframe tbody tr th:only-of-type {\n",
       "        vertical-align: middle;\n",
       "    }\n",
       "\n",
       "    .dataframe tbody tr th {\n",
       "        vertical-align: top;\n",
       "    }\n",
       "\n",
       "    .dataframe thead tr th {\n",
       "        text-align: left;\n",
       "    }\n",
       "</style>\n",
       "<table border=\"1\" class=\"dataframe\">\n",
       "  <thead>\n",
       "    <tr>\n",
       "      <th></th>\n",
       "      <th></th>\n",
       "      <th colspan=\"2\" halign=\"left\">amateur</th>\n",
       "      <th colspan=\"2\" halign=\"left\">pro</th>\n",
       "    </tr>\n",
       "    <tr>\n",
       "      <th></th>\n",
       "      <th></th>\n",
       "      <th>male</th>\n",
       "      <th>female</th>\n",
       "      <th>male</th>\n",
       "      <th>female</th>\n",
       "    </tr>\n",
       "  </thead>\n",
       "  <tbody>\n",
       "    <tr>\n",
       "      <th rowspan=\"2\" valign=\"top\">left</th>\n",
       "      <th>soccer</th>\n",
       "      <td>5</td>\n",
       "      <td>10</td>\n",
       "      <td>15</td>\n",
       "      <td>20</td>\n",
       "    </tr>\n",
       "    <tr>\n",
       "      <th>baseball</th>\n",
       "      <td>6</td>\n",
       "      <td>11</td>\n",
       "      <td>20</td>\n",
       "      <td>25</td>\n",
       "    </tr>\n",
       "    <tr>\n",
       "      <th rowspan=\"2\" valign=\"top\">right</th>\n",
       "      <th>soccer</th>\n",
       "      <td>10</td>\n",
       "      <td>11</td>\n",
       "      <td>25</td>\n",
       "      <td>30</td>\n",
       "    </tr>\n",
       "    <tr>\n",
       "      <th>baseball</th>\n",
       "      <td>15</td>\n",
       "      <td>17</td>\n",
       "      <td>30</td>\n",
       "      <td>35</td>\n",
       "    </tr>\n",
       "  </tbody>\n",
       "</table>\n",
       "</div>"
      ],
      "text/plain": [
       "               amateur         pro       \n",
       "                  male female male female\n",
       "left  soccer         5     10   15     20\n",
       "      baseball       6     11   20     25\n",
       "right soccer        10     11   25     30\n",
       "      baseball      15     17   30     35"
      ]
     },
     "execution_count": 72,
     "metadata": {},
     "output_type": "execute_result"
    }
   ],
   "source": [
    "row_index = pd.MultiIndex.from_tuples([\n",
    "    ('left', 'soccer'), \n",
    "    ('left', 'baseball'), \n",
    "    ('right', 'soccer'), \n",
    "    ('right', 'baseball')])\n",
    "\n",
    "col_index = pd.MultiIndex.from_tuples([\n",
    "    ('amateur', 'male'),\n",
    "    ('amateur', 'female'),\n",
    "    ('pro', 'male'),\n",
    "    ('pro', 'female')\n",
    "])\n",
    "\n",
    "data = [\n",
    "    [5, 10, 15, 20], \n",
    "    [6, 11, 20, 25],\n",
    "    [10, 11, 25, 30], \n",
    "    [15, 17, 30, 35]\n",
    "]\n",
    "\n",
    "df = pd.DataFrame(data, index=row_index, columns=col_index)\n",
    "df"
   ]
  },
  {
   "cell_type": "code",
   "execution_count": 73,
   "metadata": {},
   "outputs": [
    {
     "data": {
      "text/html": [
       "<div>\n",
       "<style scoped>\n",
       "    .dataframe tbody tr th:only-of-type {\n",
       "        vertical-align: middle;\n",
       "    }\n",
       "\n",
       "    .dataframe tbody tr th {\n",
       "        vertical-align: top;\n",
       "    }\n",
       "\n",
       "    .dataframe thead tr th {\n",
       "        text-align: left;\n",
       "    }\n",
       "</style>\n",
       "<table border=\"1\" class=\"dataframe\">\n",
       "  <thead>\n",
       "    <tr>\n",
       "      <th></th>\n",
       "      <th></th>\n",
       "      <th colspan=\"2\" halign=\"left\">amateur</th>\n",
       "      <th colspan=\"2\" halign=\"left\">pro</th>\n",
       "    </tr>\n",
       "    <tr>\n",
       "      <th></th>\n",
       "      <th></th>\n",
       "      <th>male</th>\n",
       "      <th>female</th>\n",
       "      <th>male</th>\n",
       "      <th>female</th>\n",
       "    </tr>\n",
       "  </thead>\n",
       "  <tbody>\n",
       "    <tr>\n",
       "      <th rowspan=\"2\" valign=\"top\">left</th>\n",
       "      <th>soccer</th>\n",
       "      <td>5</td>\n",
       "      <td>10</td>\n",
       "      <td>15</td>\n",
       "      <td>20</td>\n",
       "    </tr>\n",
       "    <tr>\n",
       "      <th>baseball</th>\n",
       "      <td>6</td>\n",
       "      <td>11</td>\n",
       "      <td>20</td>\n",
       "      <td>25</td>\n",
       "    </tr>\n",
       "  </tbody>\n",
       "</table>\n",
       "</div>"
      ],
      "text/plain": [
       "              amateur         pro       \n",
       "                 male female male female\n",
       "left soccer         5     10   15     20\n",
       "     baseball       6     11   20     25"
      ]
     },
     "execution_count": 73,
     "metadata": {},
     "output_type": "execute_result"
    }
   ],
   "source": [
    "df[df.index.isin(['left'], level=0)]"
   ]
  },
  {
   "cell_type": "code",
   "execution_count": 74,
   "metadata": {},
   "outputs": [
    {
     "data": {
      "text/html": [
       "<div>\n",
       "<style scoped>\n",
       "    .dataframe tbody tr th:only-of-type {\n",
       "        vertical-align: middle;\n",
       "    }\n",
       "\n",
       "    .dataframe tbody tr th {\n",
       "        vertical-align: top;\n",
       "    }\n",
       "\n",
       "    .dataframe thead tr th {\n",
       "        text-align: left;\n",
       "    }\n",
       "</style>\n",
       "<table border=\"1\" class=\"dataframe\">\n",
       "  <thead>\n",
       "    <tr>\n",
       "      <th></th>\n",
       "      <th></th>\n",
       "      <th colspan=\"2\" halign=\"left\">amateur</th>\n",
       "      <th colspan=\"2\" halign=\"left\">pro</th>\n",
       "    </tr>\n",
       "    <tr>\n",
       "      <th></th>\n",
       "      <th></th>\n",
       "      <th>male</th>\n",
       "      <th>female</th>\n",
       "      <th>male</th>\n",
       "      <th>female</th>\n",
       "    </tr>\n",
       "  </thead>\n",
       "  <tbody>\n",
       "    <tr>\n",
       "      <th rowspan=\"2\" valign=\"top\">right</th>\n",
       "      <th>soccer</th>\n",
       "      <td>10</td>\n",
       "      <td>11</td>\n",
       "      <td>25</td>\n",
       "      <td>30</td>\n",
       "    </tr>\n",
       "    <tr>\n",
       "      <th>baseball</th>\n",
       "      <td>15</td>\n",
       "      <td>17</td>\n",
       "      <td>30</td>\n",
       "      <td>35</td>\n",
       "    </tr>\n",
       "  </tbody>\n",
       "</table>\n",
       "</div>"
      ],
      "text/plain": [
       "               amateur         pro       \n",
       "                  male female male female\n",
       "right soccer        10     11   25     30\n",
       "      baseball      15     17   30     35"
      ]
     },
     "execution_count": 74,
     "metadata": {},
     "output_type": "execute_result"
    }
   ],
   "source": [
    "df[df.index.isin(['right'], level=0)]"
   ]
  },
  {
   "cell_type": "code",
   "execution_count": 75,
   "metadata": {},
   "outputs": [
    {
     "data": {
      "text/html": [
       "<div>\n",
       "<style scoped>\n",
       "    .dataframe tbody tr th:only-of-type {\n",
       "        vertical-align: middle;\n",
       "    }\n",
       "\n",
       "    .dataframe tbody tr th {\n",
       "        vertical-align: top;\n",
       "    }\n",
       "\n",
       "    .dataframe thead tr th {\n",
       "        text-align: left;\n",
       "    }\n",
       "</style>\n",
       "<table border=\"1\" class=\"dataframe\">\n",
       "  <thead>\n",
       "    <tr>\n",
       "      <th></th>\n",
       "      <th></th>\n",
       "      <th colspan=\"2\" halign=\"left\">amateur</th>\n",
       "      <th colspan=\"2\" halign=\"left\">pro</th>\n",
       "    </tr>\n",
       "    <tr>\n",
       "      <th></th>\n",
       "      <th></th>\n",
       "      <th>male</th>\n",
       "      <th>female</th>\n",
       "      <th>male</th>\n",
       "      <th>female</th>\n",
       "    </tr>\n",
       "  </thead>\n",
       "  <tbody>\n",
       "    <tr>\n",
       "      <th>left</th>\n",
       "      <th>soccer</th>\n",
       "      <td>5</td>\n",
       "      <td>10</td>\n",
       "      <td>15</td>\n",
       "      <td>20</td>\n",
       "    </tr>\n",
       "    <tr>\n",
       "      <th>right</th>\n",
       "      <th>soccer</th>\n",
       "      <td>10</td>\n",
       "      <td>11</td>\n",
       "      <td>25</td>\n",
       "      <td>30</td>\n",
       "    </tr>\n",
       "  </tbody>\n",
       "</table>\n",
       "</div>"
      ],
      "text/plain": [
       "             amateur         pro       \n",
       "                male female male female\n",
       "left  soccer       5     10   15     20\n",
       "right soccer      10     11   25     30"
      ]
     },
     "execution_count": 75,
     "metadata": {},
     "output_type": "execute_result"
    }
   ],
   "source": [
    "df[df.index.isin(['soccer'], level=1)]"
   ]
  },
  {
   "cell_type": "code",
   "execution_count": 76,
   "metadata": {},
   "outputs": [
    {
     "data": {
      "text/html": [
       "<div>\n",
       "<style scoped>\n",
       "    .dataframe tbody tr th:only-of-type {\n",
       "        vertical-align: middle;\n",
       "    }\n",
       "\n",
       "    .dataframe tbody tr th {\n",
       "        vertical-align: top;\n",
       "    }\n",
       "\n",
       "    .dataframe thead tr th {\n",
       "        text-align: left;\n",
       "    }\n",
       "</style>\n",
       "<table border=\"1\" class=\"dataframe\">\n",
       "  <thead>\n",
       "    <tr>\n",
       "      <th></th>\n",
       "      <th></th>\n",
       "      <th colspan=\"2\" halign=\"left\">amateur</th>\n",
       "      <th colspan=\"2\" halign=\"left\">pro</th>\n",
       "    </tr>\n",
       "    <tr>\n",
       "      <th></th>\n",
       "      <th></th>\n",
       "      <th>male</th>\n",
       "      <th>female</th>\n",
       "      <th>male</th>\n",
       "      <th>female</th>\n",
       "    </tr>\n",
       "  </thead>\n",
       "  <tbody>\n",
       "    <tr>\n",
       "      <th>left</th>\n",
       "      <th>baseball</th>\n",
       "      <td>6</td>\n",
       "      <td>11</td>\n",
       "      <td>20</td>\n",
       "      <td>25</td>\n",
       "    </tr>\n",
       "    <tr>\n",
       "      <th>right</th>\n",
       "      <th>baseball</th>\n",
       "      <td>15</td>\n",
       "      <td>17</td>\n",
       "      <td>30</td>\n",
       "      <td>35</td>\n",
       "    </tr>\n",
       "  </tbody>\n",
       "</table>\n",
       "</div>"
      ],
      "text/plain": [
       "               amateur         pro       \n",
       "                  male female male female\n",
       "left  baseball       6     11   20     25\n",
       "right baseball      15     17   30     35"
      ]
     },
     "execution_count": 76,
     "metadata": {},
     "output_type": "execute_result"
    }
   ],
   "source": [
    "df[df.index.isin(['baseball'], level=1)]"
   ]
  },
  {
   "cell_type": "markdown",
   "metadata": {},
   "source": [
    "### Filtering columns\n",
    "\n",
    "What about subsetting or slicing multi-index columns? "
   ]
  },
  {
   "cell_type": "code",
   "execution_count": 77,
   "metadata": {},
   "outputs": [
    {
     "data": {
      "text/html": [
       "<div>\n",
       "<style scoped>\n",
       "    .dataframe tbody tr th:only-of-type {\n",
       "        vertical-align: middle;\n",
       "    }\n",
       "\n",
       "    .dataframe tbody tr th {\n",
       "        vertical-align: top;\n",
       "    }\n",
       "\n",
       "    .dataframe thead tr th {\n",
       "        text-align: left;\n",
       "    }\n",
       "</style>\n",
       "<table border=\"1\" class=\"dataframe\">\n",
       "  <thead>\n",
       "    <tr>\n",
       "      <th></th>\n",
       "      <th></th>\n",
       "      <th colspan=\"2\" halign=\"left\">amateur</th>\n",
       "    </tr>\n",
       "    <tr>\n",
       "      <th></th>\n",
       "      <th></th>\n",
       "      <th>male</th>\n",
       "      <th>female</th>\n",
       "    </tr>\n",
       "  </thead>\n",
       "  <tbody>\n",
       "    <tr>\n",
       "      <th rowspan=\"2\" valign=\"top\">left</th>\n",
       "      <th>soccer</th>\n",
       "      <td>5</td>\n",
       "      <td>10</td>\n",
       "    </tr>\n",
       "    <tr>\n",
       "      <th>baseball</th>\n",
       "      <td>6</td>\n",
       "      <td>11</td>\n",
       "    </tr>\n",
       "    <tr>\n",
       "      <th rowspan=\"2\" valign=\"top\">right</th>\n",
       "      <th>soccer</th>\n",
       "      <td>10</td>\n",
       "      <td>11</td>\n",
       "    </tr>\n",
       "    <tr>\n",
       "      <th>baseball</th>\n",
       "      <td>15</td>\n",
       "      <td>17</td>\n",
       "    </tr>\n",
       "  </tbody>\n",
       "</table>\n",
       "</div>"
      ],
      "text/plain": [
       "               amateur       \n",
       "                  male female\n",
       "left  soccer         5     10\n",
       "      baseball       6     11\n",
       "right soccer        10     11\n",
       "      baseball      15     17"
      ]
     },
     "execution_count": 77,
     "metadata": {},
     "output_type": "execute_result"
    }
   ],
   "source": [
    "df.loc[:, df.columns.get_level_values(0).isin(['amateur'])]"
   ]
  },
  {
   "cell_type": "code",
   "execution_count": 78,
   "metadata": {},
   "outputs": [
    {
     "data": {
      "text/html": [
       "<div>\n",
       "<style scoped>\n",
       "    .dataframe tbody tr th:only-of-type {\n",
       "        vertical-align: middle;\n",
       "    }\n",
       "\n",
       "    .dataframe tbody tr th {\n",
       "        vertical-align: top;\n",
       "    }\n",
       "\n",
       "    .dataframe thead tr th {\n",
       "        text-align: left;\n",
       "    }\n",
       "</style>\n",
       "<table border=\"1\" class=\"dataframe\">\n",
       "  <thead>\n",
       "    <tr>\n",
       "      <th></th>\n",
       "      <th></th>\n",
       "      <th colspan=\"2\" halign=\"left\">pro</th>\n",
       "    </tr>\n",
       "    <tr>\n",
       "      <th></th>\n",
       "      <th></th>\n",
       "      <th>male</th>\n",
       "      <th>female</th>\n",
       "    </tr>\n",
       "  </thead>\n",
       "  <tbody>\n",
       "    <tr>\n",
       "      <th rowspan=\"2\" valign=\"top\">left</th>\n",
       "      <th>soccer</th>\n",
       "      <td>15</td>\n",
       "      <td>20</td>\n",
       "    </tr>\n",
       "    <tr>\n",
       "      <th>baseball</th>\n",
       "      <td>20</td>\n",
       "      <td>25</td>\n",
       "    </tr>\n",
       "    <tr>\n",
       "      <th rowspan=\"2\" valign=\"top\">right</th>\n",
       "      <th>soccer</th>\n",
       "      <td>25</td>\n",
       "      <td>30</td>\n",
       "    </tr>\n",
       "    <tr>\n",
       "      <th>baseball</th>\n",
       "      <td>30</td>\n",
       "      <td>35</td>\n",
       "    </tr>\n",
       "  </tbody>\n",
       "</table>\n",
       "</div>"
      ],
      "text/plain": [
       "                pro       \n",
       "               male female\n",
       "left  soccer     15     20\n",
       "      baseball   20     25\n",
       "right soccer     25     30\n",
       "      baseball   30     35"
      ]
     },
     "execution_count": 78,
     "metadata": {},
     "output_type": "execute_result"
    }
   ],
   "source": [
    "df.loc[:, df.columns.get_level_values(0).isin(['pro'])]"
   ]
  },
  {
   "cell_type": "code",
   "execution_count": 79,
   "metadata": {},
   "outputs": [
    {
     "data": {
      "text/html": [
       "<div>\n",
       "<style scoped>\n",
       "    .dataframe tbody tr th:only-of-type {\n",
       "        vertical-align: middle;\n",
       "    }\n",
       "\n",
       "    .dataframe tbody tr th {\n",
       "        vertical-align: top;\n",
       "    }\n",
       "\n",
       "    .dataframe thead tr th {\n",
       "        text-align: left;\n",
       "    }\n",
       "</style>\n",
       "<table border=\"1\" class=\"dataframe\">\n",
       "  <thead>\n",
       "    <tr>\n",
       "      <th></th>\n",
       "      <th></th>\n",
       "      <th>amateur</th>\n",
       "      <th>pro</th>\n",
       "    </tr>\n",
       "    <tr>\n",
       "      <th></th>\n",
       "      <th></th>\n",
       "      <th>male</th>\n",
       "      <th>male</th>\n",
       "    </tr>\n",
       "  </thead>\n",
       "  <tbody>\n",
       "    <tr>\n",
       "      <th rowspan=\"2\" valign=\"top\">left</th>\n",
       "      <th>soccer</th>\n",
       "      <td>5</td>\n",
       "      <td>15</td>\n",
       "    </tr>\n",
       "    <tr>\n",
       "      <th>baseball</th>\n",
       "      <td>6</td>\n",
       "      <td>20</td>\n",
       "    </tr>\n",
       "    <tr>\n",
       "      <th rowspan=\"2\" valign=\"top\">right</th>\n",
       "      <th>soccer</th>\n",
       "      <td>10</td>\n",
       "      <td>25</td>\n",
       "    </tr>\n",
       "    <tr>\n",
       "      <th>baseball</th>\n",
       "      <td>15</td>\n",
       "      <td>30</td>\n",
       "    </tr>\n",
       "  </tbody>\n",
       "</table>\n",
       "</div>"
      ],
      "text/plain": [
       "               amateur  pro\n",
       "                  male male\n",
       "left  soccer         5   15\n",
       "      baseball       6   20\n",
       "right soccer        10   25\n",
       "      baseball      15   30"
      ]
     },
     "execution_count": 79,
     "metadata": {},
     "output_type": "execute_result"
    }
   ],
   "source": [
    "df.loc[:, df.columns.get_level_values(1).isin(['male'])]"
   ]
  },
  {
   "cell_type": "code",
   "execution_count": 80,
   "metadata": {},
   "outputs": [
    {
     "data": {
      "text/html": [
       "<div>\n",
       "<style scoped>\n",
       "    .dataframe tbody tr th:only-of-type {\n",
       "        vertical-align: middle;\n",
       "    }\n",
       "\n",
       "    .dataframe tbody tr th {\n",
       "        vertical-align: top;\n",
       "    }\n",
       "\n",
       "    .dataframe thead tr th {\n",
       "        text-align: left;\n",
       "    }\n",
       "</style>\n",
       "<table border=\"1\" class=\"dataframe\">\n",
       "  <thead>\n",
       "    <tr>\n",
       "      <th></th>\n",
       "      <th></th>\n",
       "      <th>amateur</th>\n",
       "      <th>pro</th>\n",
       "    </tr>\n",
       "    <tr>\n",
       "      <th></th>\n",
       "      <th></th>\n",
       "      <th>female</th>\n",
       "      <th>female</th>\n",
       "    </tr>\n",
       "  </thead>\n",
       "  <tbody>\n",
       "    <tr>\n",
       "      <th rowspan=\"2\" valign=\"top\">left</th>\n",
       "      <th>soccer</th>\n",
       "      <td>10</td>\n",
       "      <td>20</td>\n",
       "    </tr>\n",
       "    <tr>\n",
       "      <th>baseball</th>\n",
       "      <td>11</td>\n",
       "      <td>25</td>\n",
       "    </tr>\n",
       "    <tr>\n",
       "      <th rowspan=\"2\" valign=\"top\">right</th>\n",
       "      <th>soccer</th>\n",
       "      <td>11</td>\n",
       "      <td>30</td>\n",
       "    </tr>\n",
       "    <tr>\n",
       "      <th>baseball</th>\n",
       "      <td>17</td>\n",
       "      <td>35</td>\n",
       "    </tr>\n",
       "  </tbody>\n",
       "</table>\n",
       "</div>"
      ],
      "text/plain": [
       "               amateur    pro\n",
       "                female female\n",
       "left  soccer        10     20\n",
       "      baseball      11     25\n",
       "right soccer        11     30\n",
       "      baseball      17     35"
      ]
     },
     "execution_count": 80,
     "metadata": {},
     "output_type": "execute_result"
    }
   ],
   "source": [
    "df.loc[:, df.columns.get_level_values(1).isin(['female'])]"
   ]
  },
  {
   "cell_type": "markdown",
   "metadata": {},
   "source": [
    "### Iteration\n",
    "\n",
    "How do we iterate over a dataframe? Use the `iterrows()` function."
   ]
  },
  {
   "cell_type": "code",
   "execution_count": 81,
   "metadata": {},
   "outputs": [
    {
     "name": "stdout",
     "output_type": "stream",
     "text": [
      "a: {'x': 1, 'y': 2}\n",
      "b: {'x': 3, 'y': 4}\n",
      "c: {'x': 4, 'y': 5}\n"
     ]
    }
   ],
   "source": [
    "df = pd.DataFrame({\n",
    "    'x': [1, 3, 4],\n",
    "    'y': [2, 4, 5]\n",
    "}, index=['a', 'b', 'c'])\n",
    "\n",
    "for _index, row in df.iterrows():\n",
    "    s = {c: row[c] for c in df.columns}\n",
    "    print(f'{_index}: {s}')"
   ]
  },
  {
   "cell_type": "markdown",
   "metadata": {},
   "source": [
    "### Transformation by row\n",
    "\n",
    "What if we want to create a new column based on the whole row? Use the `apply` method on the dataframe and specify the axis to be *1* for column."
   ]
  },
  {
   "cell_type": "code",
   "execution_count": 82,
   "metadata": {},
   "outputs": [
    {
     "data": {
      "text/html": [
       "<div>\n",
       "<style scoped>\n",
       "    .dataframe tbody tr th:only-of-type {\n",
       "        vertical-align: middle;\n",
       "    }\n",
       "\n",
       "    .dataframe tbody tr th {\n",
       "        vertical-align: top;\n",
       "    }\n",
       "\n",
       "    .dataframe thead th {\n",
       "        text-align: right;\n",
       "    }\n",
       "</style>\n",
       "<table border=\"1\" class=\"dataframe\">\n",
       "  <thead>\n",
       "    <tr style=\"text-align: right;\">\n",
       "      <th></th>\n",
       "      <th>x</th>\n",
       "      <th>y</th>\n",
       "      <th>z</th>\n",
       "    </tr>\n",
       "  </thead>\n",
       "  <tbody>\n",
       "    <tr>\n",
       "      <th>a</th>\n",
       "      <td>1</td>\n",
       "      <td>2</td>\n",
       "      <td>3</td>\n",
       "    </tr>\n",
       "    <tr>\n",
       "      <th>b</th>\n",
       "      <td>3</td>\n",
       "      <td>4</td>\n",
       "      <td>7</td>\n",
       "    </tr>\n",
       "    <tr>\n",
       "      <th>c</th>\n",
       "      <td>4</td>\n",
       "      <td>5</td>\n",
       "      <td>9</td>\n",
       "    </tr>\n",
       "  </tbody>\n",
       "</table>\n",
       "</div>"
      ],
      "text/plain": [
       "   x  y  z\n",
       "a  1  2  3\n",
       "b  3  4  7\n",
       "c  4  5  9"
      ]
     },
     "execution_count": 82,
     "metadata": {},
     "output_type": "execute_result"
    }
   ],
   "source": [
    "df = pd.DataFrame({\n",
    "    'x': [1, 3, 4],\n",
    "    'y': [2, 4, 5]\n",
    "}, index=['a', 'b', 'c'])\n",
    "\n",
    "df['z'] = df.apply(lambda r: r.x + r.y, axis=1)\n",
    "df"
   ]
  },
  {
   "cell_type": "markdown",
   "metadata": {},
   "source": [
    "### Transformation by column\n",
    "\n",
    "What if we want to create a new column based on a column? Use the `apply` method on the column."
   ]
  },
  {
   "cell_type": "code",
   "execution_count": 83,
   "metadata": {},
   "outputs": [
    {
     "data": {
      "text/html": [
       "<div>\n",
       "<style scoped>\n",
       "    .dataframe tbody tr th:only-of-type {\n",
       "        vertical-align: middle;\n",
       "    }\n",
       "\n",
       "    .dataframe tbody tr th {\n",
       "        vertical-align: top;\n",
       "    }\n",
       "\n",
       "    .dataframe thead th {\n",
       "        text-align: right;\n",
       "    }\n",
       "</style>\n",
       "<table border=\"1\" class=\"dataframe\">\n",
       "  <thead>\n",
       "    <tr style=\"text-align: right;\">\n",
       "      <th></th>\n",
       "      <th>x</th>\n",
       "      <th>y</th>\n",
       "      <th>z</th>\n",
       "    </tr>\n",
       "  </thead>\n",
       "  <tbody>\n",
       "    <tr>\n",
       "      <th>a</th>\n",
       "      <td>1</td>\n",
       "      <td>2</td>\n",
       "      <td>1</td>\n",
       "    </tr>\n",
       "    <tr>\n",
       "      <th>b</th>\n",
       "      <td>3</td>\n",
       "      <td>4</td>\n",
       "      <td>9</td>\n",
       "    </tr>\n",
       "    <tr>\n",
       "      <th>c</th>\n",
       "      <td>4</td>\n",
       "      <td>5</td>\n",
       "      <td>16</td>\n",
       "    </tr>\n",
       "  </tbody>\n",
       "</table>\n",
       "</div>"
      ],
      "text/plain": [
       "   x  y   z\n",
       "a  1  2   1\n",
       "b  3  4   9\n",
       "c  4  5  16"
      ]
     },
     "execution_count": 83,
     "metadata": {},
     "output_type": "execute_result"
    }
   ],
   "source": [
    "df = pd.DataFrame({\n",
    "    'x': [1, 3, 4],\n",
    "    'y': [2, 4, 5]\n",
    "}, index=['a', 'b', 'c'])\n",
    "\n",
    "df['z'] = df.x.apply(lambda x: x**2)\n",
    "df"
   ]
  },
  {
   "cell_type": "markdown",
   "metadata": {},
   "source": [
    "### Transformation of a dataframe\n",
    "\n",
    "If you need to transform the dataframe as a whole, you should use the `pipe()` function which can be chained in a `fluent` way. Below, we have made up data on students; we have their handedness and overall numeric grade. We want to transform the encoding of handedness from 0 and 1 to left and right, respectively, and also numeric grade to letter grade. It will be fun to also transform the name to be properly cased and decomposed into its component parts (first name and last name)."
   ]
  },
  {
   "cell_type": "code",
   "execution_count": 84,
   "metadata": {},
   "outputs": [
    {
     "data": {
      "text/html": [
       "<div>\n",
       "<style scoped>\n",
       "    .dataframe tbody tr th:only-of-type {\n",
       "        vertical-align: middle;\n",
       "    }\n",
       "\n",
       "    .dataframe tbody tr th {\n",
       "        vertical-align: top;\n",
       "    }\n",
       "\n",
       "    .dataframe thead th {\n",
       "        text-align: right;\n",
       "    }\n",
       "</style>\n",
       "<table border=\"1\" class=\"dataframe\">\n",
       "  <thead>\n",
       "    <tr style=\"text-align: right;\">\n",
       "      <th></th>\n",
       "      <th>name</th>\n",
       "      <th>handedness</th>\n",
       "      <th>score</th>\n",
       "    </tr>\n",
       "  </thead>\n",
       "  <tbody>\n",
       "    <tr>\n",
       "      <th>0</th>\n",
       "      <td>john doe</td>\n",
       "      <td>0</td>\n",
       "      <td>0.95</td>\n",
       "    </tr>\n",
       "    <tr>\n",
       "      <th>1</th>\n",
       "      <td>jack smith</td>\n",
       "      <td>1</td>\n",
       "      <td>0.85</td>\n",
       "    </tr>\n",
       "    <tr>\n",
       "      <th>2</th>\n",
       "      <td>jason demming</td>\n",
       "      <td>0</td>\n",
       "      <td>0.75</td>\n",
       "    </tr>\n",
       "    <tr>\n",
       "      <th>3</th>\n",
       "      <td>joe turing</td>\n",
       "      <td>1</td>\n",
       "      <td>0.65</td>\n",
       "    </tr>\n",
       "  </tbody>\n",
       "</table>\n",
       "</div>"
      ],
      "text/plain": [
       "            name  handedness  score\n",
       "0       john doe           0   0.95\n",
       "1     jack smith           1   0.85\n",
       "2  jason demming           0   0.75\n",
       "3     joe turing           1   0.65"
      ]
     },
     "execution_count": 84,
     "metadata": {},
     "output_type": "execute_result"
    }
   ],
   "source": [
    "df = pd.DataFrame({\n",
    "    'name': ['john doe', 'jack smith', 'jason demming', 'joe turing'],\n",
    "    'handedness': [0, 1, 0, 1],\n",
    "    'score': [0.95, 0.85, 0.75, 0.65]\n",
    "})\n",
    "df"
   ]
  },
  {
   "cell_type": "markdown",
   "metadata": {},
   "source": [
    "Take notice that each of these transformations return the dataframe. Otherwise, you will have `None` returned and chaining will break."
   ]
  },
  {
   "cell_type": "code",
   "execution_count": 85,
   "metadata": {
    "tags": []
   },
   "outputs": [
    {
     "data": {
      "text/html": [
       "<div>\n",
       "<style scoped>\n",
       "    .dataframe tbody tr th:only-of-type {\n",
       "        vertical-align: middle;\n",
       "    }\n",
       "\n",
       "    .dataframe tbody tr th {\n",
       "        vertical-align: top;\n",
       "    }\n",
       "\n",
       "    .dataframe thead th {\n",
       "        text-align: right;\n",
       "    }\n",
       "</style>\n",
       "<table border=\"1\" class=\"dataframe\">\n",
       "  <thead>\n",
       "    <tr style=\"text-align: right;\">\n",
       "      <th></th>\n",
       "      <th>name</th>\n",
       "      <th>handedness</th>\n",
       "      <th>score</th>\n",
       "      <th>first_name</th>\n",
       "      <th>last_name</th>\n",
       "      <th>grade</th>\n",
       "    </tr>\n",
       "  </thead>\n",
       "  <tbody>\n",
       "    <tr>\n",
       "      <th>0</th>\n",
       "      <td>John Doe</td>\n",
       "      <td>left</td>\n",
       "      <td>0.95</td>\n",
       "      <td>John</td>\n",
       "      <td>Doe</td>\n",
       "      <td>A</td>\n",
       "    </tr>\n",
       "    <tr>\n",
       "      <th>1</th>\n",
       "      <td>Jack Smith</td>\n",
       "      <td>right</td>\n",
       "      <td>0.85</td>\n",
       "      <td>Jack</td>\n",
       "      <td>Smith</td>\n",
       "      <td>B</td>\n",
       "    </tr>\n",
       "    <tr>\n",
       "      <th>2</th>\n",
       "      <td>Jason Demming</td>\n",
       "      <td>left</td>\n",
       "      <td>0.75</td>\n",
       "      <td>Jason</td>\n",
       "      <td>Demming</td>\n",
       "      <td>C</td>\n",
       "    </tr>\n",
       "    <tr>\n",
       "      <th>3</th>\n",
       "      <td>Joe Turing</td>\n",
       "      <td>right</td>\n",
       "      <td>0.65</td>\n",
       "      <td>Joe</td>\n",
       "      <td>Turing</td>\n",
       "      <td>D</td>\n",
       "    </tr>\n",
       "  </tbody>\n",
       "</table>\n",
       "</div>"
      ],
      "text/plain": [
       "            name handedness  score first_name last_name grade\n",
       "0       John Doe       left   0.95       John       Doe     A\n",
       "1     Jack Smith      right   0.85       Jack     Smith     B\n",
       "2  Jason Demming       left   0.75      Jason   Demming     C\n",
       "3     Joe Turing      right   0.65        Joe    Turing     D"
      ]
     },
     "execution_count": 85,
     "metadata": {},
     "output_type": "execute_result"
    }
   ],
   "source": [
    "def properly_case(df):\n",
    "    df.name = df.name.apply(lambda n: n.title())\n",
    "    return df\n",
    "\n",
    "def decompose_name(df):\n",
    "    df['first_name'] = df.name.apply(lambda n: n.split(' ')[0].strip())\n",
    "    df['last_name'] = df.name.apply(lambda n: n.split(' ')[1].strip())\n",
    "    return df\n",
    "    \n",
    "def reencode_handedness(df):\n",
    "    df.handedness = df.handedness.apply(lambda h: 'left' if h == 0 else 'right')\n",
    "    return df\n",
    "    \n",
    "def convert_letter_grade(df):\n",
    "    def get_letter_grade(g):\n",
    "        if g >= 0.90:\n",
    "            return 'A'\n",
    "        elif g >= 0.80:\n",
    "            return 'B'\n",
    "        elif g >= 0.70:\n",
    "            return 'C'\n",
    "        elif g >= 0.60:\n",
    "            return 'D'\n",
    "        else:\n",
    "            return 'F'\n",
    "    df['grade'] = df.score.apply(lambda s: get_letter_grade(s))\n",
    "    return df\n",
    "\n",
    "df = pd.DataFrame({\n",
    "    'name': ['john doe', 'jack smith', 'jason demming', 'joe turing'],\n",
    "    'handedness': [0, 1, 0, 1],\n",
    "    'score': [0.95, 0.85, 0.75, 0.65]\n",
    "})\n",
    "\n",
    "df \\\n",
    "    .pipe(properly_case) \\\n",
    "    .pipe(decompose_name) \\\n",
    "    .pipe(reencode_handedness) \\\n",
    "    .pipe(convert_letter_grade)\n",
    "\n",
    "df"
   ]
  },
  {
   "cell_type": "markdown",
   "metadata": {},
   "source": [
    "If you are piping a lot transformations, use the line continuation character `\\`."
   ]
  },
  {
   "cell_type": "code",
   "execution_count": 86,
   "metadata": {},
   "outputs": [
    {
     "data": {
      "text/html": [
       "<div>\n",
       "<style scoped>\n",
       "    .dataframe tbody tr th:only-of-type {\n",
       "        vertical-align: middle;\n",
       "    }\n",
       "\n",
       "    .dataframe tbody tr th {\n",
       "        vertical-align: top;\n",
       "    }\n",
       "\n",
       "    .dataframe thead th {\n",
       "        text-align: right;\n",
       "    }\n",
       "</style>\n",
       "<table border=\"1\" class=\"dataframe\">\n",
       "  <thead>\n",
       "    <tr style=\"text-align: right;\">\n",
       "      <th></th>\n",
       "      <th>name</th>\n",
       "      <th>handedness</th>\n",
       "      <th>score</th>\n",
       "      <th>first_name</th>\n",
       "      <th>last_name</th>\n",
       "      <th>grade</th>\n",
       "    </tr>\n",
       "  </thead>\n",
       "  <tbody>\n",
       "    <tr>\n",
       "      <th>0</th>\n",
       "      <td>John Doe</td>\n",
       "      <td>left</td>\n",
       "      <td>0.95</td>\n",
       "      <td>John</td>\n",
       "      <td>Doe</td>\n",
       "      <td>A</td>\n",
       "    </tr>\n",
       "    <tr>\n",
       "      <th>1</th>\n",
       "      <td>Jack Smith</td>\n",
       "      <td>right</td>\n",
       "      <td>0.85</td>\n",
       "      <td>Jack</td>\n",
       "      <td>Smith</td>\n",
       "      <td>B</td>\n",
       "    </tr>\n",
       "    <tr>\n",
       "      <th>2</th>\n",
       "      <td>Jason Demming</td>\n",
       "      <td>left</td>\n",
       "      <td>0.75</td>\n",
       "      <td>Jason</td>\n",
       "      <td>Demming</td>\n",
       "      <td>C</td>\n",
       "    </tr>\n",
       "    <tr>\n",
       "      <th>3</th>\n",
       "      <td>Joe Turing</td>\n",
       "      <td>right</td>\n",
       "      <td>0.65</td>\n",
       "      <td>Joe</td>\n",
       "      <td>Turing</td>\n",
       "      <td>D</td>\n",
       "    </tr>\n",
       "  </tbody>\n",
       "</table>\n",
       "</div>"
      ],
      "text/plain": [
       "            name handedness  score first_name last_name grade\n",
       "0       John Doe       left   0.95       John       Doe     A\n",
       "1     Jack Smith      right   0.85       Jack     Smith     B\n",
       "2  Jason Demming       left   0.75      Jason   Demming     C\n",
       "3     Joe Turing      right   0.65        Joe    Turing     D"
      ]
     },
     "execution_count": 86,
     "metadata": {},
     "output_type": "execute_result"
    }
   ],
   "source": [
    "df = pd.DataFrame({\n",
    "    'name': ['john doe', 'jack smith', 'jason demming', 'joe turing'],\n",
    "    'handedness': [0, 1, 0, 1],\n",
    "    'score': [0.95, 0.85, 0.75, 0.65]\n",
    "})\n",
    "\n",
    "df = df.pipe(properly_case)\\\n",
    "        .pipe(decompose_name)\\\n",
    "        .pipe(reencode_handedness)\\\n",
    "        .pipe(convert_letter_grade)\n",
    "\n",
    "df"
   ]
  },
  {
   "cell_type": "markdown",
   "metadata": {},
   "source": [
    "The line continuation character can become a nuisance, so wrap your chaining inside parentheses."
   ]
  },
  {
   "cell_type": "code",
   "execution_count": 87,
   "metadata": {
    "tags": []
   },
   "outputs": [
    {
     "data": {
      "text/html": [
       "<div>\n",
       "<style scoped>\n",
       "    .dataframe tbody tr th:only-of-type {\n",
       "        vertical-align: middle;\n",
       "    }\n",
       "\n",
       "    .dataframe tbody tr th {\n",
       "        vertical-align: top;\n",
       "    }\n",
       "\n",
       "    .dataframe thead th {\n",
       "        text-align: right;\n",
       "    }\n",
       "</style>\n",
       "<table border=\"1\" class=\"dataframe\">\n",
       "  <thead>\n",
       "    <tr style=\"text-align: right;\">\n",
       "      <th></th>\n",
       "      <th>name</th>\n",
       "      <th>handedness</th>\n",
       "      <th>score</th>\n",
       "      <th>first_name</th>\n",
       "      <th>last_name</th>\n",
       "      <th>grade</th>\n",
       "    </tr>\n",
       "  </thead>\n",
       "  <tbody>\n",
       "    <tr>\n",
       "      <th>0</th>\n",
       "      <td>John Doe</td>\n",
       "      <td>left</td>\n",
       "      <td>0.95</td>\n",
       "      <td>John</td>\n",
       "      <td>Doe</td>\n",
       "      <td>A</td>\n",
       "    </tr>\n",
       "    <tr>\n",
       "      <th>1</th>\n",
       "      <td>Jack Smith</td>\n",
       "      <td>right</td>\n",
       "      <td>0.85</td>\n",
       "      <td>Jack</td>\n",
       "      <td>Smith</td>\n",
       "      <td>B</td>\n",
       "    </tr>\n",
       "    <tr>\n",
       "      <th>2</th>\n",
       "      <td>Jason Demming</td>\n",
       "      <td>left</td>\n",
       "      <td>0.75</td>\n",
       "      <td>Jason</td>\n",
       "      <td>Demming</td>\n",
       "      <td>C</td>\n",
       "    </tr>\n",
       "    <tr>\n",
       "      <th>3</th>\n",
       "      <td>Joe Turing</td>\n",
       "      <td>right</td>\n",
       "      <td>0.65</td>\n",
       "      <td>Joe</td>\n",
       "      <td>Turing</td>\n",
       "      <td>D</td>\n",
       "    </tr>\n",
       "  </tbody>\n",
       "</table>\n",
       "</div>"
      ],
      "text/plain": [
       "            name handedness  score first_name last_name grade\n",
       "0       John Doe       left   0.95       John       Doe     A\n",
       "1     Jack Smith      right   0.85       Jack     Smith     B\n",
       "2  Jason Demming       left   0.75      Jason   Demming     C\n",
       "3     Joe Turing      right   0.65        Joe    Turing     D"
      ]
     },
     "execution_count": 87,
     "metadata": {},
     "output_type": "execute_result"
    }
   ],
   "source": [
    "df = pd.DataFrame({\n",
    "    'name': ['john doe', 'jack smith', 'jason demming', 'joe turing'],\n",
    "    'handedness': [0, 1, 0, 1],\n",
    "    'score': [0.95, 0.85, 0.75, 0.65]\n",
    "})\n",
    "\n",
    "df = (df.pipe(properly_case)\n",
    "        .pipe(decompose_name)\n",
    "        .pipe(reencode_handedness)\n",
    "        .pipe(convert_letter_grade))\n",
    "\n",
    "df"
   ]
  },
  {
   "cell_type": "markdown",
   "metadata": {},
   "source": [
    "You can also use the `assign()` function to modify columns or create new ones. The difference between `pipe()` and `assign()` is that the former can create multiple columns per invocation and the latter is used to create one column per invocation."
   ]
  },
  {
   "cell_type": "code",
   "execution_count": 88,
   "metadata": {
    "tags": []
   },
   "outputs": [
    {
     "data": {
      "text/html": [
       "<div>\n",
       "<style scoped>\n",
       "    .dataframe tbody tr th:only-of-type {\n",
       "        vertical-align: middle;\n",
       "    }\n",
       "\n",
       "    .dataframe tbody tr th {\n",
       "        vertical-align: top;\n",
       "    }\n",
       "\n",
       "    .dataframe thead th {\n",
       "        text-align: right;\n",
       "    }\n",
       "</style>\n",
       "<table border=\"1\" class=\"dataframe\">\n",
       "  <thead>\n",
       "    <tr style=\"text-align: right;\">\n",
       "      <th></th>\n",
       "      <th>name</th>\n",
       "      <th>handedness</th>\n",
       "      <th>score</th>\n",
       "      <th>first_name</th>\n",
       "      <th>last_name</th>\n",
       "      <th>grade</th>\n",
       "    </tr>\n",
       "  </thead>\n",
       "  <tbody>\n",
       "    <tr>\n",
       "      <th>0</th>\n",
       "      <td>John Doe</td>\n",
       "      <td>left</td>\n",
       "      <td>0.95</td>\n",
       "      <td>John</td>\n",
       "      <td>Doe</td>\n",
       "      <td>A</td>\n",
       "    </tr>\n",
       "    <tr>\n",
       "      <th>1</th>\n",
       "      <td>Jack Smith</td>\n",
       "      <td>right</td>\n",
       "      <td>0.85</td>\n",
       "      <td>Jack</td>\n",
       "      <td>Smith</td>\n",
       "      <td>B</td>\n",
       "    </tr>\n",
       "    <tr>\n",
       "      <th>2</th>\n",
       "      <td>Jason Demming</td>\n",
       "      <td>left</td>\n",
       "      <td>0.75</td>\n",
       "      <td>Jason</td>\n",
       "      <td>Demming</td>\n",
       "      <td>C</td>\n",
       "    </tr>\n",
       "    <tr>\n",
       "      <th>3</th>\n",
       "      <td>Joe Turing</td>\n",
       "      <td>right</td>\n",
       "      <td>0.65</td>\n",
       "      <td>Joe</td>\n",
       "      <td>Turing</td>\n",
       "      <td>D</td>\n",
       "    </tr>\n",
       "  </tbody>\n",
       "</table>\n",
       "</div>"
      ],
      "text/plain": [
       "            name handedness  score first_name last_name grade\n",
       "0       John Doe       left   0.95       John       Doe     A\n",
       "1     Jack Smith      right   0.85       Jack     Smith     B\n",
       "2  Jason Demming       left   0.75      Jason   Demming     C\n",
       "3     Joe Turing      right   0.65        Joe    Turing     D"
      ]
     },
     "execution_count": 88,
     "metadata": {},
     "output_type": "execute_result"
    }
   ],
   "source": [
    "score2grade = lambda s: 'A' if s >= 0.9 else 'B' if s >= 0.8 else 'C' if s >= 0.7 else 'D' if s >= 0.6 else 'F'\n",
    "\n",
    "pd.DataFrame({\n",
    "    'name': ['john doe', 'jack smith', 'jason demming', 'joe turing'],\n",
    "    'handedness': [0, 1, 0, 1],\n",
    "    'score': [0.95, 0.85, 0.75, 0.65]\n",
    "}).assign(\n",
    "    name=lambda d: d['name'].apply(lambda n: n.title()),\n",
    "    handedness=lambda d: d['handedness'].apply(lambda h: 'left' if h == 0 else 'right'),\n",
    "    first_name=lambda d: d['name'].apply(lambda n: n.split(' ')[0]),\n",
    "    last_name=lambda d: d['name'].apply(lambda n: n.split(' ')[1]),\n",
    "    grade=lambda d: d['score'].apply(score2grade)\n",
    ")"
   ]
  },
  {
   "cell_type": "markdown",
   "metadata": {},
   "source": [
    "The `assign()` function also takes in a dictionary where keys are strings (field names) and values are callable."
   ]
  },
  {
   "cell_type": "code",
   "execution_count": 89,
   "metadata": {
    "tags": []
   },
   "outputs": [
    {
     "data": {
      "text/html": [
       "<div>\n",
       "<style scoped>\n",
       "    .dataframe tbody tr th:only-of-type {\n",
       "        vertical-align: middle;\n",
       "    }\n",
       "\n",
       "    .dataframe tbody tr th {\n",
       "        vertical-align: top;\n",
       "    }\n",
       "\n",
       "    .dataframe thead th {\n",
       "        text-align: right;\n",
       "    }\n",
       "</style>\n",
       "<table border=\"1\" class=\"dataframe\">\n",
       "  <thead>\n",
       "    <tr style=\"text-align: right;\">\n",
       "      <th></th>\n",
       "      <th>name</th>\n",
       "      <th>handedness</th>\n",
       "      <th>spelling</th>\n",
       "      <th>math</th>\n",
       "    </tr>\n",
       "  </thead>\n",
       "  <tbody>\n",
       "    <tr>\n",
       "      <th>0</th>\n",
       "      <td>john doe</td>\n",
       "      <td>0</td>\n",
       "      <td>A</td>\n",
       "      <td>D</td>\n",
       "    </tr>\n",
       "    <tr>\n",
       "      <th>1</th>\n",
       "      <td>jack smith</td>\n",
       "      <td>1</td>\n",
       "      <td>B</td>\n",
       "      <td>C</td>\n",
       "    </tr>\n",
       "    <tr>\n",
       "      <th>2</th>\n",
       "      <td>jason demming</td>\n",
       "      <td>0</td>\n",
       "      <td>C</td>\n",
       "      <td>B</td>\n",
       "    </tr>\n",
       "    <tr>\n",
       "      <th>3</th>\n",
       "      <td>joe turing</td>\n",
       "      <td>1</td>\n",
       "      <td>D</td>\n",
       "      <td>A</td>\n",
       "    </tr>\n",
       "  </tbody>\n",
       "</table>\n",
       "</div>"
      ],
      "text/plain": [
       "            name  handedness spelling math\n",
       "0       john doe           0        A    D\n",
       "1     jack smith           1        B    C\n",
       "2  jason demming           0        C    B\n",
       "3     joe turing           1        D    A"
      ]
     },
     "execution_count": 89,
     "metadata": {},
     "output_type": "execute_result"
    }
   ],
   "source": [
    "pd.DataFrame({\n",
    "    'name': ['john doe', 'jack smith', 'jason demming', 'joe turing'],\n",
    "    'handedness': [0, 1, 0, 1],\n",
    "    'spelling': [0.95, 0.85, 0.75, 0.65],\n",
    "    'math': [0.65, 0.75, 0.85, 0.95]\n",
    "}).assign(**{\n",
    "    'spelling': lambda d: d['spelling'].apply(score2grade),\n",
    "    'math': lambda d: d['math'].apply(score2grade)\n",
    "})"
   ]
  },
  {
   "cell_type": "markdown",
   "metadata": {},
   "source": [
    "If you want, you can use a dictionary comprehension with `assign()` as well."
   ]
  },
  {
   "cell_type": "code",
   "execution_count": 90,
   "metadata": {},
   "outputs": [
    {
     "data": {
      "text/html": [
       "<div>\n",
       "<style scoped>\n",
       "    .dataframe tbody tr th:only-of-type {\n",
       "        vertical-align: middle;\n",
       "    }\n",
       "\n",
       "    .dataframe tbody tr th {\n",
       "        vertical-align: top;\n",
       "    }\n",
       "\n",
       "    .dataframe thead th {\n",
       "        text-align: right;\n",
       "    }\n",
       "</style>\n",
       "<table border=\"1\" class=\"dataframe\">\n",
       "  <thead>\n",
       "    <tr style=\"text-align: right;\">\n",
       "      <th></th>\n",
       "      <th>d1</th>\n",
       "      <th>d2</th>\n",
       "    </tr>\n",
       "  </thead>\n",
       "  <tbody>\n",
       "    <tr>\n",
       "      <th>0</th>\n",
       "      <td>2022-02-01</td>\n",
       "      <td>2022-02-01</td>\n",
       "    </tr>\n",
       "    <tr>\n",
       "      <th>1</th>\n",
       "      <td>2022-02-02</td>\n",
       "      <td>2022-02-02</td>\n",
       "    </tr>\n",
       "  </tbody>\n",
       "</table>\n",
       "</div>"
      ],
      "text/plain": [
       "          d1         d2\n",
       "0 2022-02-01 2022-02-01\n",
       "1 2022-02-02 2022-02-02"
      ]
     },
     "execution_count": 90,
     "metadata": {},
     "output_type": "execute_result"
    }
   ],
   "source": [
    "pd.DataFrame({\n",
    "    'd1': ['2022-01-01', '2022-01-02'],\n",
    "    'd2': ['2022-02-01', '2022-02-02']\n",
    "}).assign(**{c: lambda d: pd.to_datetime(d[c]) for c in ['d1', 'd2']})"
   ]
  },
  {
   "cell_type": "markdown",
   "metadata": {},
   "source": [
    "### Aggregation\n",
    "\n",
    "Aggregations are typically accomplished by grouping and then performing a summary statistic operation. Below, we generate fake data. There will be some categorical variables (fields) such as sport, handedness, league and gender, and one continuous variable called stats. Stats is made up and means nothing;"
   ]
  },
  {
   "cell_type": "code",
   "execution_count": 91,
   "metadata": {},
   "outputs": [
    {
     "data": {
      "text/html": [
       "<div>\n",
       "<style scoped>\n",
       "    .dataframe tbody tr th:only-of-type {\n",
       "        vertical-align: middle;\n",
       "    }\n",
       "\n",
       "    .dataframe tbody tr th {\n",
       "        vertical-align: top;\n",
       "    }\n",
       "\n",
       "    .dataframe thead th {\n",
       "        text-align: right;\n",
       "    }\n",
       "</style>\n",
       "<table border=\"1\" class=\"dataframe\">\n",
       "  <thead>\n",
       "    <tr style=\"text-align: right;\">\n",
       "      <th></th>\n",
       "      <th>sport</th>\n",
       "      <th>handedness</th>\n",
       "      <th>league</th>\n",
       "      <th>gender</th>\n",
       "      <th>stats</th>\n",
       "    </tr>\n",
       "  </thead>\n",
       "  <tbody>\n",
       "    <tr>\n",
       "      <th>0</th>\n",
       "      <td>baseball</td>\n",
       "      <td>left</td>\n",
       "      <td>amateur</td>\n",
       "      <td>male</td>\n",
       "      <td>411.945536</td>\n",
       "    </tr>\n",
       "    <tr>\n",
       "      <th>1</th>\n",
       "      <td>baseball</td>\n",
       "      <td>left</td>\n",
       "      <td>amateur</td>\n",
       "      <td>male</td>\n",
       "      <td>412.674308</td>\n",
       "    </tr>\n",
       "    <tr>\n",
       "      <th>2</th>\n",
       "      <td>baseball</td>\n",
       "      <td>left</td>\n",
       "      <td>amateur</td>\n",
       "      <td>male</td>\n",
       "      <td>412.346647</td>\n",
       "    </tr>\n",
       "    <tr>\n",
       "      <th>3</th>\n",
       "      <td>baseball</td>\n",
       "      <td>left</td>\n",
       "      <td>amateur</td>\n",
       "      <td>male</td>\n",
       "      <td>410.699654</td>\n",
       "    </tr>\n",
       "    <tr>\n",
       "      <th>4</th>\n",
       "      <td>baseball</td>\n",
       "      <td>left</td>\n",
       "      <td>amateur</td>\n",
       "      <td>male</td>\n",
       "      <td>413.518512</td>\n",
       "    </tr>\n",
       "  </tbody>\n",
       "</table>\n",
       "</div>"
      ],
      "text/plain": [
       "      sport handedness   league gender       stats\n",
       "0  baseball       left  amateur   male  411.945536\n",
       "1  baseball       left  amateur   male  412.674308\n",
       "2  baseball       left  amateur   male  412.346647\n",
       "3  baseball       left  amateur   male  410.699654\n",
       "4  baseball       left  amateur   male  413.518512"
      ]
     },
     "execution_count": 91,
     "metadata": {},
     "output_type": "execute_result"
    }
   ],
   "source": [
    "from itertools import product, chain\n",
    "import numpy as np\n",
    "import random\n",
    "from random import randint\n",
    "\n",
    "np.random.seed(37)\n",
    "random.seed(37)\n",
    "\n",
    "sports = ['baseball', 'basketball']\n",
    "handedness = ['left', 'right']\n",
    "leagues = ['amateur', 'pro']\n",
    "genders = ['male', 'female']\n",
    "\n",
    "get_mean = lambda tup: ord(tup[0][0]) + ord(tup[1][0]) + ord(tup[2][0]) + ord(tup[3][0])\n",
    "get_samples = lambda m, n: np.random.normal(m, 1.0, n)\n",
    "\n",
    "data = product(*[sports, handedness, leagues, genders])\n",
    "data = map(lambda tup: (tup, get_mean(tup)), data)\n",
    "data = map(lambda tup: (tup[0], get_samples(tup[1], randint(5, 20))), data)\n",
    "data = map(lambda tup: [tup[0] + (m, ) for m in tup[1]], data)\n",
    "data = chain(*data)\n",
    "\n",
    "df = pd.DataFrame(data, columns=['sport', 'handedness', 'league', 'gender', 'stats'])\n",
    "df.head()"
   ]
  },
  {
   "cell_type": "markdown",
   "metadata": {},
   "source": [
    "What if we wanted the mean of the stats by sports? Notice how below, the resulting dataframe has a multi-index column?"
   ]
  },
  {
   "cell_type": "code",
   "execution_count": 92,
   "metadata": {},
   "outputs": [
    {
     "data": {
      "text/html": [
       "<div>\n",
       "<style scoped>\n",
       "    .dataframe tbody tr th:only-of-type {\n",
       "        vertical-align: middle;\n",
       "    }\n",
       "\n",
       "    .dataframe tbody tr th {\n",
       "        vertical-align: top;\n",
       "    }\n",
       "\n",
       "    .dataframe thead tr th {\n",
       "        text-align: left;\n",
       "    }\n",
       "\n",
       "    .dataframe thead tr:last-of-type th {\n",
       "        text-align: right;\n",
       "    }\n",
       "</style>\n",
       "<table border=\"1\" class=\"dataframe\">\n",
       "  <thead>\n",
       "    <tr>\n",
       "      <th></th>\n",
       "      <th>stats</th>\n",
       "    </tr>\n",
       "    <tr>\n",
       "      <th></th>\n",
       "      <th>mean</th>\n",
       "    </tr>\n",
       "    <tr>\n",
       "      <th>sport</th>\n",
       "      <th></th>\n",
       "    </tr>\n",
       "  </thead>\n",
       "  <tbody>\n",
       "    <tr>\n",
       "      <th>baseball</th>\n",
       "      <td>420.689231</td>\n",
       "    </tr>\n",
       "    <tr>\n",
       "      <th>basketball</th>\n",
       "      <td>416.167987</td>\n",
       "    </tr>\n",
       "  </tbody>\n",
       "</table>\n",
       "</div>"
      ],
      "text/plain": [
       "                 stats\n",
       "                  mean\n",
       "sport                 \n",
       "baseball    420.689231\n",
       "basketball  416.167987"
      ]
     },
     "execution_count": 92,
     "metadata": {},
     "output_type": "execute_result"
    }
   ],
   "source": [
    "df.groupby(['sport']).agg(['mean'])"
   ]
  },
  {
   "cell_type": "markdown",
   "metadata": {},
   "source": [
    "To get rid of the first level (or the mean level), use the `droplevel()` function."
   ]
  },
  {
   "cell_type": "code",
   "execution_count": 93,
   "metadata": {},
   "outputs": [
    {
     "data": {
      "text/html": [
       "<div>\n",
       "<style scoped>\n",
       "    .dataframe tbody tr th:only-of-type {\n",
       "        vertical-align: middle;\n",
       "    }\n",
       "\n",
       "    .dataframe tbody tr th {\n",
       "        vertical-align: top;\n",
       "    }\n",
       "\n",
       "    .dataframe thead th {\n",
       "        text-align: right;\n",
       "    }\n",
       "</style>\n",
       "<table border=\"1\" class=\"dataframe\">\n",
       "  <thead>\n",
       "    <tr style=\"text-align: right;\">\n",
       "      <th></th>\n",
       "      <th>stats</th>\n",
       "    </tr>\n",
       "    <tr>\n",
       "      <th>sport</th>\n",
       "      <th></th>\n",
       "    </tr>\n",
       "  </thead>\n",
       "  <tbody>\n",
       "    <tr>\n",
       "      <th>baseball</th>\n",
       "      <td>420.689231</td>\n",
       "    </tr>\n",
       "    <tr>\n",
       "      <th>basketball</th>\n",
       "      <td>416.167987</td>\n",
       "    </tr>\n",
       "  </tbody>\n",
       "</table>\n",
       "</div>"
      ],
      "text/plain": [
       "                 stats\n",
       "sport                 \n",
       "baseball    420.689231\n",
       "basketball  416.167987"
      ]
     },
     "execution_count": 93,
     "metadata": {},
     "output_type": "execute_result"
    }
   ],
   "source": [
    "df.groupby(['sport'])\\\n",
    "    .agg(['mean'])\\\n",
    "    .droplevel(1, axis=1)"
   ]
  },
  {
   "cell_type": "markdown",
   "metadata": {},
   "source": [
    "We can also get the means of the stats by handedness, league and gender alone."
   ]
  },
  {
   "cell_type": "code",
   "execution_count": 94,
   "metadata": {},
   "outputs": [
    {
     "data": {
      "text/html": [
       "<div>\n",
       "<style scoped>\n",
       "    .dataframe tbody tr th:only-of-type {\n",
       "        vertical-align: middle;\n",
       "    }\n",
       "\n",
       "    .dataframe tbody tr th {\n",
       "        vertical-align: top;\n",
       "    }\n",
       "\n",
       "    .dataframe thead th {\n",
       "        text-align: right;\n",
       "    }\n",
       "</style>\n",
       "<table border=\"1\" class=\"dataframe\">\n",
       "  <thead>\n",
       "    <tr style=\"text-align: right;\">\n",
       "      <th></th>\n",
       "      <th>stats</th>\n",
       "    </tr>\n",
       "    <tr>\n",
       "      <th>handedness</th>\n",
       "      <th></th>\n",
       "    </tr>\n",
       "  </thead>\n",
       "  <tbody>\n",
       "    <tr>\n",
       "      <th>left</th>\n",
       "      <td>416.043975</td>\n",
       "    </tr>\n",
       "    <tr>\n",
       "      <th>right</th>\n",
       "      <td>420.895420</td>\n",
       "    </tr>\n",
       "  </tbody>\n",
       "</table>\n",
       "</div>"
      ],
      "text/plain": [
       "                 stats\n",
       "handedness            \n",
       "left        416.043975\n",
       "right       420.895420"
      ]
     },
     "execution_count": 94,
     "metadata": {},
     "output_type": "execute_result"
    }
   ],
   "source": [
    "df.groupby(['handedness'])\\\n",
    "    .agg(['mean'])\\\n",
    "    .droplevel(1, axis=1)"
   ]
  },
  {
   "cell_type": "code",
   "execution_count": 95,
   "metadata": {},
   "outputs": [
    {
     "data": {
      "text/html": [
       "<div>\n",
       "<style scoped>\n",
       "    .dataframe tbody tr th:only-of-type {\n",
       "        vertical-align: middle;\n",
       "    }\n",
       "\n",
       "    .dataframe tbody tr th {\n",
       "        vertical-align: top;\n",
       "    }\n",
       "\n",
       "    .dataframe thead th {\n",
       "        text-align: right;\n",
       "    }\n",
       "</style>\n",
       "<table border=\"1\" class=\"dataframe\">\n",
       "  <thead>\n",
       "    <tr style=\"text-align: right;\">\n",
       "      <th></th>\n",
       "      <th>stats</th>\n",
       "    </tr>\n",
       "    <tr>\n",
       "      <th>league</th>\n",
       "      <th></th>\n",
       "    </tr>\n",
       "  </thead>\n",
       "  <tbody>\n",
       "    <tr>\n",
       "      <th>amateur</th>\n",
       "      <td>410.813160</td>\n",
       "    </tr>\n",
       "    <tr>\n",
       "      <th>pro</th>\n",
       "      <td>426.221361</td>\n",
       "    </tr>\n",
       "  </tbody>\n",
       "</table>\n",
       "</div>"
      ],
      "text/plain": [
       "              stats\n",
       "league             \n",
       "amateur  410.813160\n",
       "pro      426.221361"
      ]
     },
     "execution_count": 95,
     "metadata": {},
     "output_type": "execute_result"
    }
   ],
   "source": [
    "df.groupby(['league'])\\\n",
    "    .agg(['mean'])\\\n",
    "    .droplevel(1, axis=1)"
   ]
  },
  {
   "cell_type": "code",
   "execution_count": 96,
   "metadata": {},
   "outputs": [
    {
     "data": {
      "text/html": [
       "<div>\n",
       "<style scoped>\n",
       "    .dataframe tbody tr th:only-of-type {\n",
       "        vertical-align: middle;\n",
       "    }\n",
       "\n",
       "    .dataframe tbody tr th {\n",
       "        vertical-align: top;\n",
       "    }\n",
       "\n",
       "    .dataframe thead th {\n",
       "        text-align: right;\n",
       "    }\n",
       "</style>\n",
       "<table border=\"1\" class=\"dataframe\">\n",
       "  <thead>\n",
       "    <tr style=\"text-align: right;\">\n",
       "      <th></th>\n",
       "      <th>stats</th>\n",
       "    </tr>\n",
       "    <tr>\n",
       "      <th>gender</th>\n",
       "      <th></th>\n",
       "    </tr>\n",
       "  </thead>\n",
       "  <tbody>\n",
       "    <tr>\n",
       "      <th>female</th>\n",
       "      <td>415.605160</td>\n",
       "    </tr>\n",
       "    <tr>\n",
       "      <th>male</th>\n",
       "      <td>422.512933</td>\n",
       "    </tr>\n",
       "  </tbody>\n",
       "</table>\n",
       "</div>"
      ],
      "text/plain": [
       "             stats\n",
       "gender            \n",
       "female  415.605160\n",
       "male    422.512933"
      ]
     },
     "execution_count": 96,
     "metadata": {},
     "output_type": "execute_result"
    }
   ],
   "source": [
    "df.groupby(['gender'])\\\n",
    "    .agg(['mean'])\\\n",
    "    .droplevel(1, axis=1)"
   ]
  },
  {
   "cell_type": "markdown",
   "metadata": {},
   "source": [
    "If we wanted the means by more than one variable, just expand the list of column names as follows."
   ]
  },
  {
   "cell_type": "code",
   "execution_count": 97,
   "metadata": {},
   "outputs": [
    {
     "data": {
      "text/html": [
       "<div>\n",
       "<style scoped>\n",
       "    .dataframe tbody tr th:only-of-type {\n",
       "        vertical-align: middle;\n",
       "    }\n",
       "\n",
       "    .dataframe tbody tr th {\n",
       "        vertical-align: top;\n",
       "    }\n",
       "\n",
       "    .dataframe thead th {\n",
       "        text-align: right;\n",
       "    }\n",
       "</style>\n",
       "<table border=\"1\" class=\"dataframe\">\n",
       "  <thead>\n",
       "    <tr style=\"text-align: right;\">\n",
       "      <th></th>\n",
       "      <th></th>\n",
       "      <th>stats</th>\n",
       "    </tr>\n",
       "    <tr>\n",
       "      <th>sport</th>\n",
       "      <th>handedness</th>\n",
       "      <th></th>\n",
       "    </tr>\n",
       "  </thead>\n",
       "  <tbody>\n",
       "    <tr>\n",
       "      <th rowspan=\"2\" valign=\"top\">baseball</th>\n",
       "      <th>left</th>\n",
       "      <td>419.432848</td>\n",
       "    </tr>\n",
       "    <tr>\n",
       "      <th>right</th>\n",
       "      <td>421.728995</td>\n",
       "    </tr>\n",
       "    <tr>\n",
       "      <th rowspan=\"2\" valign=\"top\">basketball</th>\n",
       "      <th>left</th>\n",
       "      <td>412.915783</td>\n",
       "    </tr>\n",
       "    <tr>\n",
       "      <th>right</th>\n",
       "      <td>419.844391</td>\n",
       "    </tr>\n",
       "  </tbody>\n",
       "</table>\n",
       "</div>"
      ],
      "text/plain": [
       "                            stats\n",
       "sport      handedness            \n",
       "baseball   left        419.432848\n",
       "           right       421.728995\n",
       "basketball left        412.915783\n",
       "           right       419.844391"
      ]
     },
     "execution_count": 97,
     "metadata": {},
     "output_type": "execute_result"
    }
   ],
   "source": [
    "df.groupby(['sport', 'handedness'])\\\n",
    "    .agg(['mean'])\\\n",
    "    .droplevel(1, axis=1)"
   ]
  },
  {
   "cell_type": "code",
   "execution_count": 98,
   "metadata": {},
   "outputs": [
    {
     "data": {
      "text/html": [
       "<div>\n",
       "<style scoped>\n",
       "    .dataframe tbody tr th:only-of-type {\n",
       "        vertical-align: middle;\n",
       "    }\n",
       "\n",
       "    .dataframe tbody tr th {\n",
       "        vertical-align: top;\n",
       "    }\n",
       "\n",
       "    .dataframe thead th {\n",
       "        text-align: right;\n",
       "    }\n",
       "</style>\n",
       "<table border=\"1\" class=\"dataframe\">\n",
       "  <thead>\n",
       "    <tr style=\"text-align: right;\">\n",
       "      <th></th>\n",
       "      <th></th>\n",
       "      <th></th>\n",
       "      <th>stats</th>\n",
       "    </tr>\n",
       "    <tr>\n",
       "      <th>sport</th>\n",
       "      <th>handedness</th>\n",
       "      <th>league</th>\n",
       "      <th></th>\n",
       "    </tr>\n",
       "  </thead>\n",
       "  <tbody>\n",
       "    <tr>\n",
       "      <th rowspan=\"4\" valign=\"top\">baseball</th>\n",
       "      <th rowspan=\"2\" valign=\"top\">left</th>\n",
       "      <th>amateur</th>\n",
       "      <td>409.109277</td>\n",
       "    </tr>\n",
       "    <tr>\n",
       "      <th>pro</th>\n",
       "      <td>423.267318</td>\n",
       "    </tr>\n",
       "    <tr>\n",
       "      <th rowspan=\"2\" valign=\"top\">right</th>\n",
       "      <th>amateur</th>\n",
       "      <td>412.970497</td>\n",
       "    </tr>\n",
       "    <tr>\n",
       "      <th>pro</th>\n",
       "      <td>429.357364</td>\n",
       "    </tr>\n",
       "    <tr>\n",
       "      <th rowspan=\"4\" valign=\"top\">basketball</th>\n",
       "      <th rowspan=\"2\" valign=\"top\">left</th>\n",
       "      <th>amateur</th>\n",
       "      <td>408.508027</td>\n",
       "    </tr>\n",
       "    <tr>\n",
       "      <th>pro</th>\n",
       "      <td>423.788250</td>\n",
       "    </tr>\n",
       "    <tr>\n",
       "      <th rowspan=\"2\" valign=\"top\">right</th>\n",
       "      <th>amateur</th>\n",
       "      <td>412.780854</td>\n",
       "    </tr>\n",
       "    <tr>\n",
       "      <th>pro</th>\n",
       "      <td>428.253365</td>\n",
       "    </tr>\n",
       "  </tbody>\n",
       "</table>\n",
       "</div>"
      ],
      "text/plain": [
       "                                    stats\n",
       "sport      handedness league             \n",
       "baseball   left       amateur  409.109277\n",
       "                      pro      423.267318\n",
       "           right      amateur  412.970497\n",
       "                      pro      429.357364\n",
       "basketball left       amateur  408.508027\n",
       "                      pro      423.788250\n",
       "           right      amateur  412.780854\n",
       "                      pro      428.253365"
      ]
     },
     "execution_count": 98,
     "metadata": {},
     "output_type": "execute_result"
    }
   ],
   "source": [
    "df.groupby(['sport', 'handedness', 'league'])\\\n",
    "    .agg(['mean'])\\\n",
    "    .droplevel(1, axis=1)"
   ]
  },
  {
   "cell_type": "code",
   "execution_count": 99,
   "metadata": {},
   "outputs": [
    {
     "data": {
      "text/html": [
       "<div>\n",
       "<style scoped>\n",
       "    .dataframe tbody tr th:only-of-type {\n",
       "        vertical-align: middle;\n",
       "    }\n",
       "\n",
       "    .dataframe tbody tr th {\n",
       "        vertical-align: top;\n",
       "    }\n",
       "\n",
       "    .dataframe thead th {\n",
       "        text-align: right;\n",
       "    }\n",
       "</style>\n",
       "<table border=\"1\" class=\"dataframe\">\n",
       "  <thead>\n",
       "    <tr style=\"text-align: right;\">\n",
       "      <th></th>\n",
       "      <th></th>\n",
       "      <th></th>\n",
       "      <th></th>\n",
       "      <th>stats</th>\n",
       "    </tr>\n",
       "    <tr>\n",
       "      <th>sport</th>\n",
       "      <th>handedness</th>\n",
       "      <th>league</th>\n",
       "      <th>gender</th>\n",
       "      <th></th>\n",
       "    </tr>\n",
       "  </thead>\n",
       "  <tbody>\n",
       "    <tr>\n",
       "      <th rowspan=\"8\" valign=\"top\">baseball</th>\n",
       "      <th rowspan=\"4\" valign=\"top\">left</th>\n",
       "      <th rowspan=\"2\" valign=\"top\">amateur</th>\n",
       "      <th>female</th>\n",
       "      <td>405.328072</td>\n",
       "    </tr>\n",
       "    <tr>\n",
       "      <th>male</th>\n",
       "      <td>412.350309</td>\n",
       "    </tr>\n",
       "    <tr>\n",
       "      <th rowspan=\"2\" valign=\"top\">pro</th>\n",
       "      <th>female</th>\n",
       "      <td>420.155320</td>\n",
       "    </tr>\n",
       "    <tr>\n",
       "      <th>male</th>\n",
       "      <td>426.962816</td>\n",
       "    </tr>\n",
       "    <tr>\n",
       "      <th rowspan=\"4\" valign=\"top\">right</th>\n",
       "      <th rowspan=\"2\" valign=\"top\">amateur</th>\n",
       "      <th>female</th>\n",
       "      <td>410.961691</td>\n",
       "    </tr>\n",
       "    <tr>\n",
       "      <th>male</th>\n",
       "      <td>417.741414</td>\n",
       "    </tr>\n",
       "    <tr>\n",
       "      <th rowspan=\"2\" valign=\"top\">pro</th>\n",
       "      <th>female</th>\n",
       "      <td>426.160493</td>\n",
       "    </tr>\n",
       "    <tr>\n",
       "      <th>male</th>\n",
       "      <td>433.239279</td>\n",
       "    </tr>\n",
       "    <tr>\n",
       "      <th rowspan=\"8\" valign=\"top\">basketball</th>\n",
       "      <th rowspan=\"4\" valign=\"top\">left</th>\n",
       "      <th rowspan=\"2\" valign=\"top\">amateur</th>\n",
       "      <th>female</th>\n",
       "      <td>404.991257</td>\n",
       "    </tr>\n",
       "    <tr>\n",
       "      <th>male</th>\n",
       "      <td>412.220172</td>\n",
       "    </tr>\n",
       "    <tr>\n",
       "      <th rowspan=\"2\" valign=\"top\">pro</th>\n",
       "      <th>female</th>\n",
       "      <td>420.208283</td>\n",
       "    </tr>\n",
       "    <tr>\n",
       "      <th>male</th>\n",
       "      <td>426.174895</td>\n",
       "    </tr>\n",
       "    <tr>\n",
       "      <th rowspan=\"4\" valign=\"top\">right</th>\n",
       "      <th rowspan=\"2\" valign=\"top\">amateur</th>\n",
       "      <th>female</th>\n",
       "      <td>410.826709</td>\n",
       "    </tr>\n",
       "    <tr>\n",
       "      <th>male</th>\n",
       "      <td>417.805797</td>\n",
       "    </tr>\n",
       "    <tr>\n",
       "      <th rowspan=\"2\" valign=\"top\">pro</th>\n",
       "      <th>female</th>\n",
       "      <td>425.894610</td>\n",
       "    </tr>\n",
       "    <tr>\n",
       "      <th>male</th>\n",
       "      <td>432.970873</td>\n",
       "    </tr>\n",
       "  </tbody>\n",
       "</table>\n",
       "</div>"
      ],
      "text/plain": [
       "                                           stats\n",
       "sport      handedness league  gender            \n",
       "baseball   left       amateur female  405.328072\n",
       "                              male    412.350309\n",
       "                      pro     female  420.155320\n",
       "                              male    426.962816\n",
       "           right      amateur female  410.961691\n",
       "                              male    417.741414\n",
       "                      pro     female  426.160493\n",
       "                              male    433.239279\n",
       "basketball left       amateur female  404.991257\n",
       "                              male    412.220172\n",
       "                      pro     female  420.208283\n",
       "                              male    426.174895\n",
       "           right      amateur female  410.826709\n",
       "                              male    417.805797\n",
       "                      pro     female  425.894610\n",
       "                              male    432.970873"
      ]
     },
     "execution_count": 99,
     "metadata": {},
     "output_type": "execute_result"
    }
   ],
   "source": [
    "df.groupby(['sport', 'handedness', 'league', 'gender'])\\\n",
    "    .agg(['mean'])\\\n",
    "    .droplevel(1, axis=1)"
   ]
  },
  {
   "cell_type": "markdown",
   "metadata": {},
   "source": [
    "To request more aggregation summary statistics, expand the list of aggregations."
   ]
  },
  {
   "cell_type": "code",
   "execution_count": 100,
   "metadata": {},
   "outputs": [
    {
     "data": {
      "text/html": [
       "<div>\n",
       "<style scoped>\n",
       "    .dataframe tbody tr th:only-of-type {\n",
       "        vertical-align: middle;\n",
       "    }\n",
       "\n",
       "    .dataframe tbody tr th {\n",
       "        vertical-align: top;\n",
       "    }\n",
       "\n",
       "    .dataframe thead th {\n",
       "        text-align: right;\n",
       "    }\n",
       "</style>\n",
       "<table border=\"1\" class=\"dataframe\">\n",
       "  <thead>\n",
       "    <tr style=\"text-align: right;\">\n",
       "      <th></th>\n",
       "      <th></th>\n",
       "      <th></th>\n",
       "      <th></th>\n",
       "      <th>mean</th>\n",
       "      <th>min</th>\n",
       "      <th>max</th>\n",
       "      <th>sum</th>\n",
       "      <th>std</th>\n",
       "    </tr>\n",
       "    <tr>\n",
       "      <th>sport</th>\n",
       "      <th>handedness</th>\n",
       "      <th>league</th>\n",
       "      <th>gender</th>\n",
       "      <th></th>\n",
       "      <th></th>\n",
       "      <th></th>\n",
       "      <th></th>\n",
       "      <th></th>\n",
       "    </tr>\n",
       "  </thead>\n",
       "  <tbody>\n",
       "    <tr>\n",
       "      <th rowspan=\"8\" valign=\"top\">baseball</th>\n",
       "      <th rowspan=\"4\" valign=\"top\">left</th>\n",
       "      <th rowspan=\"2\" valign=\"top\">amateur</th>\n",
       "      <th>female</th>\n",
       "      <td>405.328072</td>\n",
       "      <td>404.172421</td>\n",
       "      <td>406.228386</td>\n",
       "      <td>2431.968434</td>\n",
       "      <td>0.803801</td>\n",
       "    </tr>\n",
       "    <tr>\n",
       "      <th>male</th>\n",
       "      <td>412.350309</td>\n",
       "      <td>410.699654</td>\n",
       "      <td>413.518512</td>\n",
       "      <td>2886.452162</td>\n",
       "      <td>0.891856</td>\n",
       "    </tr>\n",
       "    <tr>\n",
       "      <th rowspan=\"2\" valign=\"top\">pro</th>\n",
       "      <th>female</th>\n",
       "      <td>420.155320</td>\n",
       "      <td>417.947217</td>\n",
       "      <td>421.759028</td>\n",
       "      <td>7982.951080</td>\n",
       "      <td>1.069645</td>\n",
       "    </tr>\n",
       "    <tr>\n",
       "      <th>male</th>\n",
       "      <td>426.962816</td>\n",
       "      <td>424.930852</td>\n",
       "      <td>428.893506</td>\n",
       "      <td>6831.405049</td>\n",
       "      <td>1.049972</td>\n",
       "    </tr>\n",
       "    <tr>\n",
       "      <th rowspan=\"4\" valign=\"top\">right</th>\n",
       "      <th rowspan=\"2\" valign=\"top\">amateur</th>\n",
       "      <th>female</th>\n",
       "      <td>410.961691</td>\n",
       "      <td>409.547163</td>\n",
       "      <td>412.946440</td>\n",
       "      <td>7808.272122</td>\n",
       "      <td>0.921281</td>\n",
       "    </tr>\n",
       "    <tr>\n",
       "      <th>male</th>\n",
       "      <td>417.741414</td>\n",
       "      <td>416.262047</td>\n",
       "      <td>419.593947</td>\n",
       "      <td>3341.931309</td>\n",
       "      <td>1.193814</td>\n",
       "    </tr>\n",
       "    <tr>\n",
       "      <th rowspan=\"2\" valign=\"top\">pro</th>\n",
       "      <th>female</th>\n",
       "      <td>426.160493</td>\n",
       "      <td>424.113997</td>\n",
       "      <td>428.211154</td>\n",
       "      <td>7244.728380</td>\n",
       "      <td>1.090030</td>\n",
       "    </tr>\n",
       "    <tr>\n",
       "      <th>male</th>\n",
       "      <td>433.239279</td>\n",
       "      <td>431.260819</td>\n",
       "      <td>435.228304</td>\n",
       "      <td>6065.349899</td>\n",
       "      <td>1.216080</td>\n",
       "    </tr>\n",
       "    <tr>\n",
       "      <th rowspan=\"8\" valign=\"top\">basketball</th>\n",
       "      <th rowspan=\"4\" valign=\"top\">left</th>\n",
       "      <th rowspan=\"2\" valign=\"top\">amateur</th>\n",
       "      <th>female</th>\n",
       "      <td>404.991257</td>\n",
       "      <td>403.477167</td>\n",
       "      <td>406.783491</td>\n",
       "      <td>7694.833890</td>\n",
       "      <td>1.128673</td>\n",
       "    </tr>\n",
       "    <tr>\n",
       "      <th>male</th>\n",
       "      <td>412.220172</td>\n",
       "      <td>410.654588</td>\n",
       "      <td>413.798044</td>\n",
       "      <td>7419.963096</td>\n",
       "      <td>0.959847</td>\n",
       "    </tr>\n",
       "    <tr>\n",
       "      <th rowspan=\"2\" valign=\"top\">pro</th>\n",
       "      <th>female</th>\n",
       "      <td>420.208283</td>\n",
       "      <td>419.230094</td>\n",
       "      <td>421.625440</td>\n",
       "      <td>2521.249697</td>\n",
       "      <td>0.813595</td>\n",
       "    </tr>\n",
       "    <tr>\n",
       "      <th>male</th>\n",
       "      <td>426.174895</td>\n",
       "      <td>425.338888</td>\n",
       "      <td>427.405752</td>\n",
       "      <td>3835.574056</td>\n",
       "      <td>0.703688</td>\n",
       "    </tr>\n",
       "    <tr>\n",
       "      <th rowspan=\"4\" valign=\"top\">right</th>\n",
       "      <th rowspan=\"2\" valign=\"top\">amateur</th>\n",
       "      <th>female</th>\n",
       "      <td>410.826709</td>\n",
       "      <td>408.707288</td>\n",
       "      <td>412.402071</td>\n",
       "      <td>7394.880760</td>\n",
       "      <td>1.003581</td>\n",
       "    </tr>\n",
       "    <tr>\n",
       "      <th>male</th>\n",
       "      <td>417.805797</td>\n",
       "      <td>416.448519</td>\n",
       "      <td>419.818477</td>\n",
       "      <td>2924.640580</td>\n",
       "      <td>1.117527</td>\n",
       "    </tr>\n",
       "    <tr>\n",
       "      <th rowspan=\"2\" valign=\"top\">pro</th>\n",
       "      <th>female</th>\n",
       "      <td>425.894610</td>\n",
       "      <td>424.206988</td>\n",
       "      <td>427.819129</td>\n",
       "      <td>5962.524544</td>\n",
       "      <td>0.875827</td>\n",
       "    </tr>\n",
       "    <tr>\n",
       "      <th>male</th>\n",
       "      <td>432.970873</td>\n",
       "      <td>431.193658</td>\n",
       "      <td>433.845848</td>\n",
       "      <td>3030.796113</td>\n",
       "      <td>0.881753</td>\n",
       "    </tr>\n",
       "  </tbody>\n",
       "</table>\n",
       "</div>"
      ],
      "text/plain": [
       "                                            mean         min         max  \\\n",
       "sport      handedness league  gender                                       \n",
       "baseball   left       amateur female  405.328072  404.172421  406.228386   \n",
       "                              male    412.350309  410.699654  413.518512   \n",
       "                      pro     female  420.155320  417.947217  421.759028   \n",
       "                              male    426.962816  424.930852  428.893506   \n",
       "           right      amateur female  410.961691  409.547163  412.946440   \n",
       "                              male    417.741414  416.262047  419.593947   \n",
       "                      pro     female  426.160493  424.113997  428.211154   \n",
       "                              male    433.239279  431.260819  435.228304   \n",
       "basketball left       amateur female  404.991257  403.477167  406.783491   \n",
       "                              male    412.220172  410.654588  413.798044   \n",
       "                      pro     female  420.208283  419.230094  421.625440   \n",
       "                              male    426.174895  425.338888  427.405752   \n",
       "           right      amateur female  410.826709  408.707288  412.402071   \n",
       "                              male    417.805797  416.448519  419.818477   \n",
       "                      pro     female  425.894610  424.206988  427.819129   \n",
       "                              male    432.970873  431.193658  433.845848   \n",
       "\n",
       "                                              sum       std  \n",
       "sport      handedness league  gender                         \n",
       "baseball   left       amateur female  2431.968434  0.803801  \n",
       "                              male    2886.452162  0.891856  \n",
       "                      pro     female  7982.951080  1.069645  \n",
       "                              male    6831.405049  1.049972  \n",
       "           right      amateur female  7808.272122  0.921281  \n",
       "                              male    3341.931309  1.193814  \n",
       "                      pro     female  7244.728380  1.090030  \n",
       "                              male    6065.349899  1.216080  \n",
       "basketball left       amateur female  7694.833890  1.128673  \n",
       "                              male    7419.963096  0.959847  \n",
       "                      pro     female  2521.249697  0.813595  \n",
       "                              male    3835.574056  0.703688  \n",
       "           right      amateur female  7394.880760  1.003581  \n",
       "                              male    2924.640580  1.117527  \n",
       "                      pro     female  5962.524544  0.875827  \n",
       "                              male    3030.796113  0.881753  "
      ]
     },
     "execution_count": 100,
     "metadata": {},
     "output_type": "execute_result"
    }
   ],
   "source": [
    "df.groupby(['sport', 'handedness', 'league', 'gender'])\\\n",
    "    .agg(['mean', 'min', 'max', 'sum', 'std'])\\\n",
    "    .droplevel(0, axis=1)"
   ]
  },
  {
   "cell_type": "markdown",
   "metadata": {},
   "source": [
    "### Sorting\n",
    "\n",
    "The function `sort_values` can sort the records by index. Below, we sort by gender. If not specified, the sort will always be ascendingly."
   ]
  },
  {
   "cell_type": "code",
   "execution_count": 101,
   "metadata": {},
   "outputs": [
    {
     "data": {
      "text/html": [
       "<div>\n",
       "<style scoped>\n",
       "    .dataframe tbody tr th:only-of-type {\n",
       "        vertical-align: middle;\n",
       "    }\n",
       "\n",
       "    .dataframe tbody tr th {\n",
       "        vertical-align: top;\n",
       "    }\n",
       "\n",
       "    .dataframe thead th {\n",
       "        text-align: right;\n",
       "    }\n",
       "</style>\n",
       "<table border=\"1\" class=\"dataframe\">\n",
       "  <thead>\n",
       "    <tr style=\"text-align: right;\">\n",
       "      <th></th>\n",
       "      <th></th>\n",
       "      <th></th>\n",
       "      <th></th>\n",
       "      <th>mean</th>\n",
       "      <th>min</th>\n",
       "      <th>max</th>\n",
       "      <th>sum</th>\n",
       "      <th>std</th>\n",
       "    </tr>\n",
       "    <tr>\n",
       "      <th>sport</th>\n",
       "      <th>handedness</th>\n",
       "      <th>league</th>\n",
       "      <th>gender</th>\n",
       "      <th></th>\n",
       "      <th></th>\n",
       "      <th></th>\n",
       "      <th></th>\n",
       "      <th></th>\n",
       "    </tr>\n",
       "  </thead>\n",
       "  <tbody>\n",
       "    <tr>\n",
       "      <th rowspan=\"4\" valign=\"top\">baseball</th>\n",
       "      <th rowspan=\"2\" valign=\"top\">left</th>\n",
       "      <th>amateur</th>\n",
       "      <th>female</th>\n",
       "      <td>405.328072</td>\n",
       "      <td>404.172421</td>\n",
       "      <td>406.228386</td>\n",
       "      <td>2431.968434</td>\n",
       "      <td>0.803801</td>\n",
       "    </tr>\n",
       "    <tr>\n",
       "      <th>pro</th>\n",
       "      <th>female</th>\n",
       "      <td>420.155320</td>\n",
       "      <td>417.947217</td>\n",
       "      <td>421.759028</td>\n",
       "      <td>7982.951080</td>\n",
       "      <td>1.069645</td>\n",
       "    </tr>\n",
       "    <tr>\n",
       "      <th rowspan=\"2\" valign=\"top\">right</th>\n",
       "      <th>amateur</th>\n",
       "      <th>female</th>\n",
       "      <td>410.961691</td>\n",
       "      <td>409.547163</td>\n",
       "      <td>412.946440</td>\n",
       "      <td>7808.272122</td>\n",
       "      <td>0.921281</td>\n",
       "    </tr>\n",
       "    <tr>\n",
       "      <th>pro</th>\n",
       "      <th>female</th>\n",
       "      <td>426.160493</td>\n",
       "      <td>424.113997</td>\n",
       "      <td>428.211154</td>\n",
       "      <td>7244.728380</td>\n",
       "      <td>1.090030</td>\n",
       "    </tr>\n",
       "    <tr>\n",
       "      <th rowspan=\"4\" valign=\"top\">basketball</th>\n",
       "      <th rowspan=\"2\" valign=\"top\">left</th>\n",
       "      <th>amateur</th>\n",
       "      <th>female</th>\n",
       "      <td>404.991257</td>\n",
       "      <td>403.477167</td>\n",
       "      <td>406.783491</td>\n",
       "      <td>7694.833890</td>\n",
       "      <td>1.128673</td>\n",
       "    </tr>\n",
       "    <tr>\n",
       "      <th>pro</th>\n",
       "      <th>female</th>\n",
       "      <td>420.208283</td>\n",
       "      <td>419.230094</td>\n",
       "      <td>421.625440</td>\n",
       "      <td>2521.249697</td>\n",
       "      <td>0.813595</td>\n",
       "    </tr>\n",
       "    <tr>\n",
       "      <th rowspan=\"2\" valign=\"top\">right</th>\n",
       "      <th>amateur</th>\n",
       "      <th>female</th>\n",
       "      <td>410.826709</td>\n",
       "      <td>408.707288</td>\n",
       "      <td>412.402071</td>\n",
       "      <td>7394.880760</td>\n",
       "      <td>1.003581</td>\n",
       "    </tr>\n",
       "    <tr>\n",
       "      <th>pro</th>\n",
       "      <th>female</th>\n",
       "      <td>425.894610</td>\n",
       "      <td>424.206988</td>\n",
       "      <td>427.819129</td>\n",
       "      <td>5962.524544</td>\n",
       "      <td>0.875827</td>\n",
       "    </tr>\n",
       "    <tr>\n",
       "      <th rowspan=\"4\" valign=\"top\">baseball</th>\n",
       "      <th rowspan=\"2\" valign=\"top\">left</th>\n",
       "      <th>amateur</th>\n",
       "      <th>male</th>\n",
       "      <td>412.350309</td>\n",
       "      <td>410.699654</td>\n",
       "      <td>413.518512</td>\n",
       "      <td>2886.452162</td>\n",
       "      <td>0.891856</td>\n",
       "    </tr>\n",
       "    <tr>\n",
       "      <th>pro</th>\n",
       "      <th>male</th>\n",
       "      <td>426.962816</td>\n",
       "      <td>424.930852</td>\n",
       "      <td>428.893506</td>\n",
       "      <td>6831.405049</td>\n",
       "      <td>1.049972</td>\n",
       "    </tr>\n",
       "    <tr>\n",
       "      <th rowspan=\"2\" valign=\"top\">right</th>\n",
       "      <th>amateur</th>\n",
       "      <th>male</th>\n",
       "      <td>417.741414</td>\n",
       "      <td>416.262047</td>\n",
       "      <td>419.593947</td>\n",
       "      <td>3341.931309</td>\n",
       "      <td>1.193814</td>\n",
       "    </tr>\n",
       "    <tr>\n",
       "      <th>pro</th>\n",
       "      <th>male</th>\n",
       "      <td>433.239279</td>\n",
       "      <td>431.260819</td>\n",
       "      <td>435.228304</td>\n",
       "      <td>6065.349899</td>\n",
       "      <td>1.216080</td>\n",
       "    </tr>\n",
       "    <tr>\n",
       "      <th rowspan=\"4\" valign=\"top\">basketball</th>\n",
       "      <th rowspan=\"2\" valign=\"top\">left</th>\n",
       "      <th>amateur</th>\n",
       "      <th>male</th>\n",
       "      <td>412.220172</td>\n",
       "      <td>410.654588</td>\n",
       "      <td>413.798044</td>\n",
       "      <td>7419.963096</td>\n",
       "      <td>0.959847</td>\n",
       "    </tr>\n",
       "    <tr>\n",
       "      <th>pro</th>\n",
       "      <th>male</th>\n",
       "      <td>426.174895</td>\n",
       "      <td>425.338888</td>\n",
       "      <td>427.405752</td>\n",
       "      <td>3835.574056</td>\n",
       "      <td>0.703688</td>\n",
       "    </tr>\n",
       "    <tr>\n",
       "      <th rowspan=\"2\" valign=\"top\">right</th>\n",
       "      <th>amateur</th>\n",
       "      <th>male</th>\n",
       "      <td>417.805797</td>\n",
       "      <td>416.448519</td>\n",
       "      <td>419.818477</td>\n",
       "      <td>2924.640580</td>\n",
       "      <td>1.117527</td>\n",
       "    </tr>\n",
       "    <tr>\n",
       "      <th>pro</th>\n",
       "      <th>male</th>\n",
       "      <td>432.970873</td>\n",
       "      <td>431.193658</td>\n",
       "      <td>433.845848</td>\n",
       "      <td>3030.796113</td>\n",
       "      <td>0.881753</td>\n",
       "    </tr>\n",
       "  </tbody>\n",
       "</table>\n",
       "</div>"
      ],
      "text/plain": [
       "                                            mean         min         max  \\\n",
       "sport      handedness league  gender                                       \n",
       "baseball   left       amateur female  405.328072  404.172421  406.228386   \n",
       "                      pro     female  420.155320  417.947217  421.759028   \n",
       "           right      amateur female  410.961691  409.547163  412.946440   \n",
       "                      pro     female  426.160493  424.113997  428.211154   \n",
       "basketball left       amateur female  404.991257  403.477167  406.783491   \n",
       "                      pro     female  420.208283  419.230094  421.625440   \n",
       "           right      amateur female  410.826709  408.707288  412.402071   \n",
       "                      pro     female  425.894610  424.206988  427.819129   \n",
       "baseball   left       amateur male    412.350309  410.699654  413.518512   \n",
       "                      pro     male    426.962816  424.930852  428.893506   \n",
       "           right      amateur male    417.741414  416.262047  419.593947   \n",
       "                      pro     male    433.239279  431.260819  435.228304   \n",
       "basketball left       amateur male    412.220172  410.654588  413.798044   \n",
       "                      pro     male    426.174895  425.338888  427.405752   \n",
       "           right      amateur male    417.805797  416.448519  419.818477   \n",
       "                      pro     male    432.970873  431.193658  433.845848   \n",
       "\n",
       "                                              sum       std  \n",
       "sport      handedness league  gender                         \n",
       "baseball   left       amateur female  2431.968434  0.803801  \n",
       "                      pro     female  7982.951080  1.069645  \n",
       "           right      amateur female  7808.272122  0.921281  \n",
       "                      pro     female  7244.728380  1.090030  \n",
       "basketball left       amateur female  7694.833890  1.128673  \n",
       "                      pro     female  2521.249697  0.813595  \n",
       "           right      amateur female  7394.880760  1.003581  \n",
       "                      pro     female  5962.524544  0.875827  \n",
       "baseball   left       amateur male    2886.452162  0.891856  \n",
       "                      pro     male    6831.405049  1.049972  \n",
       "           right      amateur male    3341.931309  1.193814  \n",
       "                      pro     male    6065.349899  1.216080  \n",
       "basketball left       amateur male    7419.963096  0.959847  \n",
       "                      pro     male    3835.574056  0.703688  \n",
       "           right      amateur male    2924.640580  1.117527  \n",
       "                      pro     male    3030.796113  0.881753  "
      ]
     },
     "execution_count": 101,
     "metadata": {},
     "output_type": "execute_result"
    }
   ],
   "source": [
    "df.groupby(['sport', 'handedness', 'league', 'gender'])\\\n",
    "    .agg(['mean', 'min', 'max', 'sum', 'std'])\\\n",
    "    .droplevel(0, axis=1)\\\n",
    "    .sort_values(['gender'])"
   ]
  },
  {
   "cell_type": "markdown",
   "metadata": {},
   "source": [
    "Now we sort by gender and league."
   ]
  },
  {
   "cell_type": "code",
   "execution_count": 102,
   "metadata": {},
   "outputs": [
    {
     "data": {
      "text/html": [
       "<div>\n",
       "<style scoped>\n",
       "    .dataframe tbody tr th:only-of-type {\n",
       "        vertical-align: middle;\n",
       "    }\n",
       "\n",
       "    .dataframe tbody tr th {\n",
       "        vertical-align: top;\n",
       "    }\n",
       "\n",
       "    .dataframe thead th {\n",
       "        text-align: right;\n",
       "    }\n",
       "</style>\n",
       "<table border=\"1\" class=\"dataframe\">\n",
       "  <thead>\n",
       "    <tr style=\"text-align: right;\">\n",
       "      <th></th>\n",
       "      <th></th>\n",
       "      <th></th>\n",
       "      <th></th>\n",
       "      <th>mean</th>\n",
       "      <th>min</th>\n",
       "      <th>max</th>\n",
       "      <th>sum</th>\n",
       "      <th>std</th>\n",
       "    </tr>\n",
       "    <tr>\n",
       "      <th>sport</th>\n",
       "      <th>handedness</th>\n",
       "      <th>league</th>\n",
       "      <th>gender</th>\n",
       "      <th></th>\n",
       "      <th></th>\n",
       "      <th></th>\n",
       "      <th></th>\n",
       "      <th></th>\n",
       "    </tr>\n",
       "  </thead>\n",
       "  <tbody>\n",
       "    <tr>\n",
       "      <th rowspan=\"2\" valign=\"top\">baseball</th>\n",
       "      <th>left</th>\n",
       "      <th>amateur</th>\n",
       "      <th>female</th>\n",
       "      <td>405.328072</td>\n",
       "      <td>404.172421</td>\n",
       "      <td>406.228386</td>\n",
       "      <td>2431.968434</td>\n",
       "      <td>0.803801</td>\n",
       "    </tr>\n",
       "    <tr>\n",
       "      <th>right</th>\n",
       "      <th>amateur</th>\n",
       "      <th>female</th>\n",
       "      <td>410.961691</td>\n",
       "      <td>409.547163</td>\n",
       "      <td>412.946440</td>\n",
       "      <td>7808.272122</td>\n",
       "      <td>0.921281</td>\n",
       "    </tr>\n",
       "    <tr>\n",
       "      <th rowspan=\"2\" valign=\"top\">basketball</th>\n",
       "      <th>left</th>\n",
       "      <th>amateur</th>\n",
       "      <th>female</th>\n",
       "      <td>404.991257</td>\n",
       "      <td>403.477167</td>\n",
       "      <td>406.783491</td>\n",
       "      <td>7694.833890</td>\n",
       "      <td>1.128673</td>\n",
       "    </tr>\n",
       "    <tr>\n",
       "      <th>right</th>\n",
       "      <th>amateur</th>\n",
       "      <th>female</th>\n",
       "      <td>410.826709</td>\n",
       "      <td>408.707288</td>\n",
       "      <td>412.402071</td>\n",
       "      <td>7394.880760</td>\n",
       "      <td>1.003581</td>\n",
       "    </tr>\n",
       "    <tr>\n",
       "      <th rowspan=\"2\" valign=\"top\">baseball</th>\n",
       "      <th>left</th>\n",
       "      <th>pro</th>\n",
       "      <th>female</th>\n",
       "      <td>420.155320</td>\n",
       "      <td>417.947217</td>\n",
       "      <td>421.759028</td>\n",
       "      <td>7982.951080</td>\n",
       "      <td>1.069645</td>\n",
       "    </tr>\n",
       "    <tr>\n",
       "      <th>right</th>\n",
       "      <th>pro</th>\n",
       "      <th>female</th>\n",
       "      <td>426.160493</td>\n",
       "      <td>424.113997</td>\n",
       "      <td>428.211154</td>\n",
       "      <td>7244.728380</td>\n",
       "      <td>1.090030</td>\n",
       "    </tr>\n",
       "    <tr>\n",
       "      <th rowspan=\"2\" valign=\"top\">basketball</th>\n",
       "      <th>left</th>\n",
       "      <th>pro</th>\n",
       "      <th>female</th>\n",
       "      <td>420.208283</td>\n",
       "      <td>419.230094</td>\n",
       "      <td>421.625440</td>\n",
       "      <td>2521.249697</td>\n",
       "      <td>0.813595</td>\n",
       "    </tr>\n",
       "    <tr>\n",
       "      <th>right</th>\n",
       "      <th>pro</th>\n",
       "      <th>female</th>\n",
       "      <td>425.894610</td>\n",
       "      <td>424.206988</td>\n",
       "      <td>427.819129</td>\n",
       "      <td>5962.524544</td>\n",
       "      <td>0.875827</td>\n",
       "    </tr>\n",
       "    <tr>\n",
       "      <th rowspan=\"2\" valign=\"top\">baseball</th>\n",
       "      <th>left</th>\n",
       "      <th>amateur</th>\n",
       "      <th>male</th>\n",
       "      <td>412.350309</td>\n",
       "      <td>410.699654</td>\n",
       "      <td>413.518512</td>\n",
       "      <td>2886.452162</td>\n",
       "      <td>0.891856</td>\n",
       "    </tr>\n",
       "    <tr>\n",
       "      <th>right</th>\n",
       "      <th>amateur</th>\n",
       "      <th>male</th>\n",
       "      <td>417.741414</td>\n",
       "      <td>416.262047</td>\n",
       "      <td>419.593947</td>\n",
       "      <td>3341.931309</td>\n",
       "      <td>1.193814</td>\n",
       "    </tr>\n",
       "    <tr>\n",
       "      <th rowspan=\"2\" valign=\"top\">basketball</th>\n",
       "      <th>left</th>\n",
       "      <th>amateur</th>\n",
       "      <th>male</th>\n",
       "      <td>412.220172</td>\n",
       "      <td>410.654588</td>\n",
       "      <td>413.798044</td>\n",
       "      <td>7419.963096</td>\n",
       "      <td>0.959847</td>\n",
       "    </tr>\n",
       "    <tr>\n",
       "      <th>right</th>\n",
       "      <th>amateur</th>\n",
       "      <th>male</th>\n",
       "      <td>417.805797</td>\n",
       "      <td>416.448519</td>\n",
       "      <td>419.818477</td>\n",
       "      <td>2924.640580</td>\n",
       "      <td>1.117527</td>\n",
       "    </tr>\n",
       "    <tr>\n",
       "      <th rowspan=\"2\" valign=\"top\">baseball</th>\n",
       "      <th>left</th>\n",
       "      <th>pro</th>\n",
       "      <th>male</th>\n",
       "      <td>426.962816</td>\n",
       "      <td>424.930852</td>\n",
       "      <td>428.893506</td>\n",
       "      <td>6831.405049</td>\n",
       "      <td>1.049972</td>\n",
       "    </tr>\n",
       "    <tr>\n",
       "      <th>right</th>\n",
       "      <th>pro</th>\n",
       "      <th>male</th>\n",
       "      <td>433.239279</td>\n",
       "      <td>431.260819</td>\n",
       "      <td>435.228304</td>\n",
       "      <td>6065.349899</td>\n",
       "      <td>1.216080</td>\n",
       "    </tr>\n",
       "    <tr>\n",
       "      <th rowspan=\"2\" valign=\"top\">basketball</th>\n",
       "      <th>left</th>\n",
       "      <th>pro</th>\n",
       "      <th>male</th>\n",
       "      <td>426.174895</td>\n",
       "      <td>425.338888</td>\n",
       "      <td>427.405752</td>\n",
       "      <td>3835.574056</td>\n",
       "      <td>0.703688</td>\n",
       "    </tr>\n",
       "    <tr>\n",
       "      <th>right</th>\n",
       "      <th>pro</th>\n",
       "      <th>male</th>\n",
       "      <td>432.970873</td>\n",
       "      <td>431.193658</td>\n",
       "      <td>433.845848</td>\n",
       "      <td>3030.796113</td>\n",
       "      <td>0.881753</td>\n",
       "    </tr>\n",
       "  </tbody>\n",
       "</table>\n",
       "</div>"
      ],
      "text/plain": [
       "                                            mean         min         max  \\\n",
       "sport      handedness league  gender                                       \n",
       "baseball   left       amateur female  405.328072  404.172421  406.228386   \n",
       "           right      amateur female  410.961691  409.547163  412.946440   \n",
       "basketball left       amateur female  404.991257  403.477167  406.783491   \n",
       "           right      amateur female  410.826709  408.707288  412.402071   \n",
       "baseball   left       pro     female  420.155320  417.947217  421.759028   \n",
       "           right      pro     female  426.160493  424.113997  428.211154   \n",
       "basketball left       pro     female  420.208283  419.230094  421.625440   \n",
       "           right      pro     female  425.894610  424.206988  427.819129   \n",
       "baseball   left       amateur male    412.350309  410.699654  413.518512   \n",
       "           right      amateur male    417.741414  416.262047  419.593947   \n",
       "basketball left       amateur male    412.220172  410.654588  413.798044   \n",
       "           right      amateur male    417.805797  416.448519  419.818477   \n",
       "baseball   left       pro     male    426.962816  424.930852  428.893506   \n",
       "           right      pro     male    433.239279  431.260819  435.228304   \n",
       "basketball left       pro     male    426.174895  425.338888  427.405752   \n",
       "           right      pro     male    432.970873  431.193658  433.845848   \n",
       "\n",
       "                                              sum       std  \n",
       "sport      handedness league  gender                         \n",
       "baseball   left       amateur female  2431.968434  0.803801  \n",
       "           right      amateur female  7808.272122  0.921281  \n",
       "basketball left       amateur female  7694.833890  1.128673  \n",
       "           right      amateur female  7394.880760  1.003581  \n",
       "baseball   left       pro     female  7982.951080  1.069645  \n",
       "           right      pro     female  7244.728380  1.090030  \n",
       "basketball left       pro     female  2521.249697  0.813595  \n",
       "           right      pro     female  5962.524544  0.875827  \n",
       "baseball   left       amateur male    2886.452162  0.891856  \n",
       "           right      amateur male    3341.931309  1.193814  \n",
       "basketball left       amateur male    7419.963096  0.959847  \n",
       "           right      amateur male    2924.640580  1.117527  \n",
       "baseball   left       pro     male    6831.405049  1.049972  \n",
       "           right      pro     male    6065.349899  1.216080  \n",
       "basketball left       pro     male    3835.574056  0.703688  \n",
       "           right      pro     male    3030.796113  0.881753  "
      ]
     },
     "execution_count": 102,
     "metadata": {},
     "output_type": "execute_result"
    }
   ],
   "source": [
    "df.groupby(['sport', 'handedness', 'league', 'gender'])\\\n",
    "    .agg(['mean', 'min', 'max', 'sum', 'std'])\\\n",
    "    .droplevel(0, axis=1)\\\n",
    "    .sort_values(['gender', 'league'])"
   ]
  },
  {
   "cell_type": "markdown",
   "metadata": {},
   "source": [
    "Now we sort by gender, league and handedness."
   ]
  },
  {
   "cell_type": "code",
   "execution_count": 103,
   "metadata": {},
   "outputs": [
    {
     "data": {
      "text/html": [
       "<div>\n",
       "<style scoped>\n",
       "    .dataframe tbody tr th:only-of-type {\n",
       "        vertical-align: middle;\n",
       "    }\n",
       "\n",
       "    .dataframe tbody tr th {\n",
       "        vertical-align: top;\n",
       "    }\n",
       "\n",
       "    .dataframe thead th {\n",
       "        text-align: right;\n",
       "    }\n",
       "</style>\n",
       "<table border=\"1\" class=\"dataframe\">\n",
       "  <thead>\n",
       "    <tr style=\"text-align: right;\">\n",
       "      <th></th>\n",
       "      <th></th>\n",
       "      <th></th>\n",
       "      <th></th>\n",
       "      <th>mean</th>\n",
       "      <th>min</th>\n",
       "      <th>max</th>\n",
       "      <th>sum</th>\n",
       "      <th>std</th>\n",
       "    </tr>\n",
       "    <tr>\n",
       "      <th>sport</th>\n",
       "      <th>handedness</th>\n",
       "      <th>league</th>\n",
       "      <th>gender</th>\n",
       "      <th></th>\n",
       "      <th></th>\n",
       "      <th></th>\n",
       "      <th></th>\n",
       "      <th></th>\n",
       "    </tr>\n",
       "  </thead>\n",
       "  <tbody>\n",
       "    <tr>\n",
       "      <th>baseball</th>\n",
       "      <th>left</th>\n",
       "      <th>amateur</th>\n",
       "      <th>female</th>\n",
       "      <td>405.328072</td>\n",
       "      <td>404.172421</td>\n",
       "      <td>406.228386</td>\n",
       "      <td>2431.968434</td>\n",
       "      <td>0.803801</td>\n",
       "    </tr>\n",
       "    <tr>\n",
       "      <th>basketball</th>\n",
       "      <th>left</th>\n",
       "      <th>amateur</th>\n",
       "      <th>female</th>\n",
       "      <td>404.991257</td>\n",
       "      <td>403.477167</td>\n",
       "      <td>406.783491</td>\n",
       "      <td>7694.833890</td>\n",
       "      <td>1.128673</td>\n",
       "    </tr>\n",
       "    <tr>\n",
       "      <th>baseball</th>\n",
       "      <th>right</th>\n",
       "      <th>amateur</th>\n",
       "      <th>female</th>\n",
       "      <td>410.961691</td>\n",
       "      <td>409.547163</td>\n",
       "      <td>412.946440</td>\n",
       "      <td>7808.272122</td>\n",
       "      <td>0.921281</td>\n",
       "    </tr>\n",
       "    <tr>\n",
       "      <th>basketball</th>\n",
       "      <th>right</th>\n",
       "      <th>amateur</th>\n",
       "      <th>female</th>\n",
       "      <td>410.826709</td>\n",
       "      <td>408.707288</td>\n",
       "      <td>412.402071</td>\n",
       "      <td>7394.880760</td>\n",
       "      <td>1.003581</td>\n",
       "    </tr>\n",
       "    <tr>\n",
       "      <th>baseball</th>\n",
       "      <th>left</th>\n",
       "      <th>pro</th>\n",
       "      <th>female</th>\n",
       "      <td>420.155320</td>\n",
       "      <td>417.947217</td>\n",
       "      <td>421.759028</td>\n",
       "      <td>7982.951080</td>\n",
       "      <td>1.069645</td>\n",
       "    </tr>\n",
       "    <tr>\n",
       "      <th>basketball</th>\n",
       "      <th>left</th>\n",
       "      <th>pro</th>\n",
       "      <th>female</th>\n",
       "      <td>420.208283</td>\n",
       "      <td>419.230094</td>\n",
       "      <td>421.625440</td>\n",
       "      <td>2521.249697</td>\n",
       "      <td>0.813595</td>\n",
       "    </tr>\n",
       "    <tr>\n",
       "      <th>baseball</th>\n",
       "      <th>right</th>\n",
       "      <th>pro</th>\n",
       "      <th>female</th>\n",
       "      <td>426.160493</td>\n",
       "      <td>424.113997</td>\n",
       "      <td>428.211154</td>\n",
       "      <td>7244.728380</td>\n",
       "      <td>1.090030</td>\n",
       "    </tr>\n",
       "    <tr>\n",
       "      <th>basketball</th>\n",
       "      <th>right</th>\n",
       "      <th>pro</th>\n",
       "      <th>female</th>\n",
       "      <td>425.894610</td>\n",
       "      <td>424.206988</td>\n",
       "      <td>427.819129</td>\n",
       "      <td>5962.524544</td>\n",
       "      <td>0.875827</td>\n",
       "    </tr>\n",
       "    <tr>\n",
       "      <th>baseball</th>\n",
       "      <th>left</th>\n",
       "      <th>amateur</th>\n",
       "      <th>male</th>\n",
       "      <td>412.350309</td>\n",
       "      <td>410.699654</td>\n",
       "      <td>413.518512</td>\n",
       "      <td>2886.452162</td>\n",
       "      <td>0.891856</td>\n",
       "    </tr>\n",
       "    <tr>\n",
       "      <th>basketball</th>\n",
       "      <th>left</th>\n",
       "      <th>amateur</th>\n",
       "      <th>male</th>\n",
       "      <td>412.220172</td>\n",
       "      <td>410.654588</td>\n",
       "      <td>413.798044</td>\n",
       "      <td>7419.963096</td>\n",
       "      <td>0.959847</td>\n",
       "    </tr>\n",
       "    <tr>\n",
       "      <th>baseball</th>\n",
       "      <th>right</th>\n",
       "      <th>amateur</th>\n",
       "      <th>male</th>\n",
       "      <td>417.741414</td>\n",
       "      <td>416.262047</td>\n",
       "      <td>419.593947</td>\n",
       "      <td>3341.931309</td>\n",
       "      <td>1.193814</td>\n",
       "    </tr>\n",
       "    <tr>\n",
       "      <th>basketball</th>\n",
       "      <th>right</th>\n",
       "      <th>amateur</th>\n",
       "      <th>male</th>\n",
       "      <td>417.805797</td>\n",
       "      <td>416.448519</td>\n",
       "      <td>419.818477</td>\n",
       "      <td>2924.640580</td>\n",
       "      <td>1.117527</td>\n",
       "    </tr>\n",
       "    <tr>\n",
       "      <th>baseball</th>\n",
       "      <th>left</th>\n",
       "      <th>pro</th>\n",
       "      <th>male</th>\n",
       "      <td>426.962816</td>\n",
       "      <td>424.930852</td>\n",
       "      <td>428.893506</td>\n",
       "      <td>6831.405049</td>\n",
       "      <td>1.049972</td>\n",
       "    </tr>\n",
       "    <tr>\n",
       "      <th>basketball</th>\n",
       "      <th>left</th>\n",
       "      <th>pro</th>\n",
       "      <th>male</th>\n",
       "      <td>426.174895</td>\n",
       "      <td>425.338888</td>\n",
       "      <td>427.405752</td>\n",
       "      <td>3835.574056</td>\n",
       "      <td>0.703688</td>\n",
       "    </tr>\n",
       "    <tr>\n",
       "      <th>baseball</th>\n",
       "      <th>right</th>\n",
       "      <th>pro</th>\n",
       "      <th>male</th>\n",
       "      <td>433.239279</td>\n",
       "      <td>431.260819</td>\n",
       "      <td>435.228304</td>\n",
       "      <td>6065.349899</td>\n",
       "      <td>1.216080</td>\n",
       "    </tr>\n",
       "    <tr>\n",
       "      <th>basketball</th>\n",
       "      <th>right</th>\n",
       "      <th>pro</th>\n",
       "      <th>male</th>\n",
       "      <td>432.970873</td>\n",
       "      <td>431.193658</td>\n",
       "      <td>433.845848</td>\n",
       "      <td>3030.796113</td>\n",
       "      <td>0.881753</td>\n",
       "    </tr>\n",
       "  </tbody>\n",
       "</table>\n",
       "</div>"
      ],
      "text/plain": [
       "                                            mean         min         max  \\\n",
       "sport      handedness league  gender                                       \n",
       "baseball   left       amateur female  405.328072  404.172421  406.228386   \n",
       "basketball left       amateur female  404.991257  403.477167  406.783491   \n",
       "baseball   right      amateur female  410.961691  409.547163  412.946440   \n",
       "basketball right      amateur female  410.826709  408.707288  412.402071   \n",
       "baseball   left       pro     female  420.155320  417.947217  421.759028   \n",
       "basketball left       pro     female  420.208283  419.230094  421.625440   \n",
       "baseball   right      pro     female  426.160493  424.113997  428.211154   \n",
       "basketball right      pro     female  425.894610  424.206988  427.819129   \n",
       "baseball   left       amateur male    412.350309  410.699654  413.518512   \n",
       "basketball left       amateur male    412.220172  410.654588  413.798044   \n",
       "baseball   right      amateur male    417.741414  416.262047  419.593947   \n",
       "basketball right      amateur male    417.805797  416.448519  419.818477   \n",
       "baseball   left       pro     male    426.962816  424.930852  428.893506   \n",
       "basketball left       pro     male    426.174895  425.338888  427.405752   \n",
       "baseball   right      pro     male    433.239279  431.260819  435.228304   \n",
       "basketball right      pro     male    432.970873  431.193658  433.845848   \n",
       "\n",
       "                                              sum       std  \n",
       "sport      handedness league  gender                         \n",
       "baseball   left       amateur female  2431.968434  0.803801  \n",
       "basketball left       amateur female  7694.833890  1.128673  \n",
       "baseball   right      amateur female  7808.272122  0.921281  \n",
       "basketball right      amateur female  7394.880760  1.003581  \n",
       "baseball   left       pro     female  7982.951080  1.069645  \n",
       "basketball left       pro     female  2521.249697  0.813595  \n",
       "baseball   right      pro     female  7244.728380  1.090030  \n",
       "basketball right      pro     female  5962.524544  0.875827  \n",
       "baseball   left       amateur male    2886.452162  0.891856  \n",
       "basketball left       amateur male    7419.963096  0.959847  \n",
       "baseball   right      amateur male    3341.931309  1.193814  \n",
       "basketball right      amateur male    2924.640580  1.117527  \n",
       "baseball   left       pro     male    6831.405049  1.049972  \n",
       "basketball left       pro     male    3835.574056  0.703688  \n",
       "baseball   right      pro     male    6065.349899  1.216080  \n",
       "basketball right      pro     male    3030.796113  0.881753  "
      ]
     },
     "execution_count": 103,
     "metadata": {},
     "output_type": "execute_result"
    }
   ],
   "source": [
    "df.groupby(['sport', 'handedness', 'league', 'gender'])\\\n",
    "    .agg(['mean', 'min', 'max', 'sum', 'std'])\\\n",
    "    .droplevel(0, axis=1)\\\n",
    "    .sort_values(['gender', 'league', 'handedness'])"
   ]
  },
  {
   "cell_type": "markdown",
   "metadata": {},
   "source": [
    "Finally, we sort by gender, league, handedness and sport."
   ]
  },
  {
   "cell_type": "code",
   "execution_count": 104,
   "metadata": {},
   "outputs": [
    {
     "data": {
      "text/html": [
       "<div>\n",
       "<style scoped>\n",
       "    .dataframe tbody tr th:only-of-type {\n",
       "        vertical-align: middle;\n",
       "    }\n",
       "\n",
       "    .dataframe tbody tr th {\n",
       "        vertical-align: top;\n",
       "    }\n",
       "\n",
       "    .dataframe thead th {\n",
       "        text-align: right;\n",
       "    }\n",
       "</style>\n",
       "<table border=\"1\" class=\"dataframe\">\n",
       "  <thead>\n",
       "    <tr style=\"text-align: right;\">\n",
       "      <th></th>\n",
       "      <th></th>\n",
       "      <th></th>\n",
       "      <th></th>\n",
       "      <th>mean</th>\n",
       "      <th>min</th>\n",
       "      <th>max</th>\n",
       "      <th>sum</th>\n",
       "      <th>std</th>\n",
       "    </tr>\n",
       "    <tr>\n",
       "      <th>sport</th>\n",
       "      <th>handedness</th>\n",
       "      <th>league</th>\n",
       "      <th>gender</th>\n",
       "      <th></th>\n",
       "      <th></th>\n",
       "      <th></th>\n",
       "      <th></th>\n",
       "      <th></th>\n",
       "    </tr>\n",
       "  </thead>\n",
       "  <tbody>\n",
       "    <tr>\n",
       "      <th>baseball</th>\n",
       "      <th>left</th>\n",
       "      <th>amateur</th>\n",
       "      <th>female</th>\n",
       "      <td>405.328072</td>\n",
       "      <td>404.172421</td>\n",
       "      <td>406.228386</td>\n",
       "      <td>2431.968434</td>\n",
       "      <td>0.803801</td>\n",
       "    </tr>\n",
       "    <tr>\n",
       "      <th>basketball</th>\n",
       "      <th>left</th>\n",
       "      <th>amateur</th>\n",
       "      <th>female</th>\n",
       "      <td>404.991257</td>\n",
       "      <td>403.477167</td>\n",
       "      <td>406.783491</td>\n",
       "      <td>7694.833890</td>\n",
       "      <td>1.128673</td>\n",
       "    </tr>\n",
       "    <tr>\n",
       "      <th>baseball</th>\n",
       "      <th>right</th>\n",
       "      <th>amateur</th>\n",
       "      <th>female</th>\n",
       "      <td>410.961691</td>\n",
       "      <td>409.547163</td>\n",
       "      <td>412.946440</td>\n",
       "      <td>7808.272122</td>\n",
       "      <td>0.921281</td>\n",
       "    </tr>\n",
       "    <tr>\n",
       "      <th>basketball</th>\n",
       "      <th>right</th>\n",
       "      <th>amateur</th>\n",
       "      <th>female</th>\n",
       "      <td>410.826709</td>\n",
       "      <td>408.707288</td>\n",
       "      <td>412.402071</td>\n",
       "      <td>7394.880760</td>\n",
       "      <td>1.003581</td>\n",
       "    </tr>\n",
       "    <tr>\n",
       "      <th>baseball</th>\n",
       "      <th>left</th>\n",
       "      <th>pro</th>\n",
       "      <th>female</th>\n",
       "      <td>420.155320</td>\n",
       "      <td>417.947217</td>\n",
       "      <td>421.759028</td>\n",
       "      <td>7982.951080</td>\n",
       "      <td>1.069645</td>\n",
       "    </tr>\n",
       "    <tr>\n",
       "      <th>basketball</th>\n",
       "      <th>left</th>\n",
       "      <th>pro</th>\n",
       "      <th>female</th>\n",
       "      <td>420.208283</td>\n",
       "      <td>419.230094</td>\n",
       "      <td>421.625440</td>\n",
       "      <td>2521.249697</td>\n",
       "      <td>0.813595</td>\n",
       "    </tr>\n",
       "    <tr>\n",
       "      <th>baseball</th>\n",
       "      <th>right</th>\n",
       "      <th>pro</th>\n",
       "      <th>female</th>\n",
       "      <td>426.160493</td>\n",
       "      <td>424.113997</td>\n",
       "      <td>428.211154</td>\n",
       "      <td>7244.728380</td>\n",
       "      <td>1.090030</td>\n",
       "    </tr>\n",
       "    <tr>\n",
       "      <th>basketball</th>\n",
       "      <th>right</th>\n",
       "      <th>pro</th>\n",
       "      <th>female</th>\n",
       "      <td>425.894610</td>\n",
       "      <td>424.206988</td>\n",
       "      <td>427.819129</td>\n",
       "      <td>5962.524544</td>\n",
       "      <td>0.875827</td>\n",
       "    </tr>\n",
       "    <tr>\n",
       "      <th>baseball</th>\n",
       "      <th>left</th>\n",
       "      <th>amateur</th>\n",
       "      <th>male</th>\n",
       "      <td>412.350309</td>\n",
       "      <td>410.699654</td>\n",
       "      <td>413.518512</td>\n",
       "      <td>2886.452162</td>\n",
       "      <td>0.891856</td>\n",
       "    </tr>\n",
       "    <tr>\n",
       "      <th>basketball</th>\n",
       "      <th>left</th>\n",
       "      <th>amateur</th>\n",
       "      <th>male</th>\n",
       "      <td>412.220172</td>\n",
       "      <td>410.654588</td>\n",
       "      <td>413.798044</td>\n",
       "      <td>7419.963096</td>\n",
       "      <td>0.959847</td>\n",
       "    </tr>\n",
       "    <tr>\n",
       "      <th>baseball</th>\n",
       "      <th>right</th>\n",
       "      <th>amateur</th>\n",
       "      <th>male</th>\n",
       "      <td>417.741414</td>\n",
       "      <td>416.262047</td>\n",
       "      <td>419.593947</td>\n",
       "      <td>3341.931309</td>\n",
       "      <td>1.193814</td>\n",
       "    </tr>\n",
       "    <tr>\n",
       "      <th>basketball</th>\n",
       "      <th>right</th>\n",
       "      <th>amateur</th>\n",
       "      <th>male</th>\n",
       "      <td>417.805797</td>\n",
       "      <td>416.448519</td>\n",
       "      <td>419.818477</td>\n",
       "      <td>2924.640580</td>\n",
       "      <td>1.117527</td>\n",
       "    </tr>\n",
       "    <tr>\n",
       "      <th>baseball</th>\n",
       "      <th>left</th>\n",
       "      <th>pro</th>\n",
       "      <th>male</th>\n",
       "      <td>426.962816</td>\n",
       "      <td>424.930852</td>\n",
       "      <td>428.893506</td>\n",
       "      <td>6831.405049</td>\n",
       "      <td>1.049972</td>\n",
       "    </tr>\n",
       "    <tr>\n",
       "      <th>basketball</th>\n",
       "      <th>left</th>\n",
       "      <th>pro</th>\n",
       "      <th>male</th>\n",
       "      <td>426.174895</td>\n",
       "      <td>425.338888</td>\n",
       "      <td>427.405752</td>\n",
       "      <td>3835.574056</td>\n",
       "      <td>0.703688</td>\n",
       "    </tr>\n",
       "    <tr>\n",
       "      <th>baseball</th>\n",
       "      <th>right</th>\n",
       "      <th>pro</th>\n",
       "      <th>male</th>\n",
       "      <td>433.239279</td>\n",
       "      <td>431.260819</td>\n",
       "      <td>435.228304</td>\n",
       "      <td>6065.349899</td>\n",
       "      <td>1.216080</td>\n",
       "    </tr>\n",
       "    <tr>\n",
       "      <th>basketball</th>\n",
       "      <th>right</th>\n",
       "      <th>pro</th>\n",
       "      <th>male</th>\n",
       "      <td>432.970873</td>\n",
       "      <td>431.193658</td>\n",
       "      <td>433.845848</td>\n",
       "      <td>3030.796113</td>\n",
       "      <td>0.881753</td>\n",
       "    </tr>\n",
       "  </tbody>\n",
       "</table>\n",
       "</div>"
      ],
      "text/plain": [
       "                                            mean         min         max  \\\n",
       "sport      handedness league  gender                                       \n",
       "baseball   left       amateur female  405.328072  404.172421  406.228386   \n",
       "basketball left       amateur female  404.991257  403.477167  406.783491   \n",
       "baseball   right      amateur female  410.961691  409.547163  412.946440   \n",
       "basketball right      amateur female  410.826709  408.707288  412.402071   \n",
       "baseball   left       pro     female  420.155320  417.947217  421.759028   \n",
       "basketball left       pro     female  420.208283  419.230094  421.625440   \n",
       "baseball   right      pro     female  426.160493  424.113997  428.211154   \n",
       "basketball right      pro     female  425.894610  424.206988  427.819129   \n",
       "baseball   left       amateur male    412.350309  410.699654  413.518512   \n",
       "basketball left       amateur male    412.220172  410.654588  413.798044   \n",
       "baseball   right      amateur male    417.741414  416.262047  419.593947   \n",
       "basketball right      amateur male    417.805797  416.448519  419.818477   \n",
       "baseball   left       pro     male    426.962816  424.930852  428.893506   \n",
       "basketball left       pro     male    426.174895  425.338888  427.405752   \n",
       "baseball   right      pro     male    433.239279  431.260819  435.228304   \n",
       "basketball right      pro     male    432.970873  431.193658  433.845848   \n",
       "\n",
       "                                              sum       std  \n",
       "sport      handedness league  gender                         \n",
       "baseball   left       amateur female  2431.968434  0.803801  \n",
       "basketball left       amateur female  7694.833890  1.128673  \n",
       "baseball   right      amateur female  7808.272122  0.921281  \n",
       "basketball right      amateur female  7394.880760  1.003581  \n",
       "baseball   left       pro     female  7982.951080  1.069645  \n",
       "basketball left       pro     female  2521.249697  0.813595  \n",
       "baseball   right      pro     female  7244.728380  1.090030  \n",
       "basketball right      pro     female  5962.524544  0.875827  \n",
       "baseball   left       amateur male    2886.452162  0.891856  \n",
       "basketball left       amateur male    7419.963096  0.959847  \n",
       "baseball   right      amateur male    3341.931309  1.193814  \n",
       "basketball right      amateur male    2924.640580  1.117527  \n",
       "baseball   left       pro     male    6831.405049  1.049972  \n",
       "basketball left       pro     male    3835.574056  0.703688  \n",
       "baseball   right      pro     male    6065.349899  1.216080  \n",
       "basketball right      pro     male    3030.796113  0.881753  "
      ]
     },
     "execution_count": 104,
     "metadata": {},
     "output_type": "execute_result"
    }
   ],
   "source": [
    "df.groupby(['sport', 'handedness', 'league', 'gender'])\\\n",
    "    .agg(['mean', 'min', 'max', 'sum', 'std'])\\\n",
    "    .droplevel(0, axis=1)\\\n",
    "    .sort_values(['gender', 'league', 'handedness', 'sport'])"
   ]
  },
  {
   "cell_type": "markdown",
   "metadata": {},
   "source": [
    "We may specify how to sort each index. Below, we sort descendingly for all indices."
   ]
  },
  {
   "cell_type": "code",
   "execution_count": 105,
   "metadata": {},
   "outputs": [
    {
     "data": {
      "text/html": [
       "<div>\n",
       "<style scoped>\n",
       "    .dataframe tbody tr th:only-of-type {\n",
       "        vertical-align: middle;\n",
       "    }\n",
       "\n",
       "    .dataframe tbody tr th {\n",
       "        vertical-align: top;\n",
       "    }\n",
       "\n",
       "    .dataframe thead th {\n",
       "        text-align: right;\n",
       "    }\n",
       "</style>\n",
       "<table border=\"1\" class=\"dataframe\">\n",
       "  <thead>\n",
       "    <tr style=\"text-align: right;\">\n",
       "      <th></th>\n",
       "      <th></th>\n",
       "      <th></th>\n",
       "      <th></th>\n",
       "      <th>mean</th>\n",
       "      <th>min</th>\n",
       "      <th>max</th>\n",
       "      <th>sum</th>\n",
       "      <th>std</th>\n",
       "    </tr>\n",
       "    <tr>\n",
       "      <th>sport</th>\n",
       "      <th>handedness</th>\n",
       "      <th>league</th>\n",
       "      <th>gender</th>\n",
       "      <th></th>\n",
       "      <th></th>\n",
       "      <th></th>\n",
       "      <th></th>\n",
       "      <th></th>\n",
       "    </tr>\n",
       "  </thead>\n",
       "  <tbody>\n",
       "    <tr>\n",
       "      <th>basketball</th>\n",
       "      <th>right</th>\n",
       "      <th>pro</th>\n",
       "      <th>male</th>\n",
       "      <td>432.970873</td>\n",
       "      <td>431.193658</td>\n",
       "      <td>433.845848</td>\n",
       "      <td>3030.796113</td>\n",
       "      <td>0.881753</td>\n",
       "    </tr>\n",
       "    <tr>\n",
       "      <th>baseball</th>\n",
       "      <th>right</th>\n",
       "      <th>pro</th>\n",
       "      <th>male</th>\n",
       "      <td>433.239279</td>\n",
       "      <td>431.260819</td>\n",
       "      <td>435.228304</td>\n",
       "      <td>6065.349899</td>\n",
       "      <td>1.216080</td>\n",
       "    </tr>\n",
       "    <tr>\n",
       "      <th>basketball</th>\n",
       "      <th>left</th>\n",
       "      <th>pro</th>\n",
       "      <th>male</th>\n",
       "      <td>426.174895</td>\n",
       "      <td>425.338888</td>\n",
       "      <td>427.405752</td>\n",
       "      <td>3835.574056</td>\n",
       "      <td>0.703688</td>\n",
       "    </tr>\n",
       "    <tr>\n",
       "      <th>baseball</th>\n",
       "      <th>left</th>\n",
       "      <th>pro</th>\n",
       "      <th>male</th>\n",
       "      <td>426.962816</td>\n",
       "      <td>424.930852</td>\n",
       "      <td>428.893506</td>\n",
       "      <td>6831.405049</td>\n",
       "      <td>1.049972</td>\n",
       "    </tr>\n",
       "    <tr>\n",
       "      <th>basketball</th>\n",
       "      <th>right</th>\n",
       "      <th>amateur</th>\n",
       "      <th>male</th>\n",
       "      <td>417.805797</td>\n",
       "      <td>416.448519</td>\n",
       "      <td>419.818477</td>\n",
       "      <td>2924.640580</td>\n",
       "      <td>1.117527</td>\n",
       "    </tr>\n",
       "    <tr>\n",
       "      <th>baseball</th>\n",
       "      <th>right</th>\n",
       "      <th>amateur</th>\n",
       "      <th>male</th>\n",
       "      <td>417.741414</td>\n",
       "      <td>416.262047</td>\n",
       "      <td>419.593947</td>\n",
       "      <td>3341.931309</td>\n",
       "      <td>1.193814</td>\n",
       "    </tr>\n",
       "    <tr>\n",
       "      <th>basketball</th>\n",
       "      <th>left</th>\n",
       "      <th>amateur</th>\n",
       "      <th>male</th>\n",
       "      <td>412.220172</td>\n",
       "      <td>410.654588</td>\n",
       "      <td>413.798044</td>\n",
       "      <td>7419.963096</td>\n",
       "      <td>0.959847</td>\n",
       "    </tr>\n",
       "    <tr>\n",
       "      <th>baseball</th>\n",
       "      <th>left</th>\n",
       "      <th>amateur</th>\n",
       "      <th>male</th>\n",
       "      <td>412.350309</td>\n",
       "      <td>410.699654</td>\n",
       "      <td>413.518512</td>\n",
       "      <td>2886.452162</td>\n",
       "      <td>0.891856</td>\n",
       "    </tr>\n",
       "    <tr>\n",
       "      <th>basketball</th>\n",
       "      <th>right</th>\n",
       "      <th>pro</th>\n",
       "      <th>female</th>\n",
       "      <td>425.894610</td>\n",
       "      <td>424.206988</td>\n",
       "      <td>427.819129</td>\n",
       "      <td>5962.524544</td>\n",
       "      <td>0.875827</td>\n",
       "    </tr>\n",
       "    <tr>\n",
       "      <th>baseball</th>\n",
       "      <th>right</th>\n",
       "      <th>pro</th>\n",
       "      <th>female</th>\n",
       "      <td>426.160493</td>\n",
       "      <td>424.113997</td>\n",
       "      <td>428.211154</td>\n",
       "      <td>7244.728380</td>\n",
       "      <td>1.090030</td>\n",
       "    </tr>\n",
       "    <tr>\n",
       "      <th>basketball</th>\n",
       "      <th>left</th>\n",
       "      <th>pro</th>\n",
       "      <th>female</th>\n",
       "      <td>420.208283</td>\n",
       "      <td>419.230094</td>\n",
       "      <td>421.625440</td>\n",
       "      <td>2521.249697</td>\n",
       "      <td>0.813595</td>\n",
       "    </tr>\n",
       "    <tr>\n",
       "      <th>baseball</th>\n",
       "      <th>left</th>\n",
       "      <th>pro</th>\n",
       "      <th>female</th>\n",
       "      <td>420.155320</td>\n",
       "      <td>417.947217</td>\n",
       "      <td>421.759028</td>\n",
       "      <td>7982.951080</td>\n",
       "      <td>1.069645</td>\n",
       "    </tr>\n",
       "    <tr>\n",
       "      <th>basketball</th>\n",
       "      <th>right</th>\n",
       "      <th>amateur</th>\n",
       "      <th>female</th>\n",
       "      <td>410.826709</td>\n",
       "      <td>408.707288</td>\n",
       "      <td>412.402071</td>\n",
       "      <td>7394.880760</td>\n",
       "      <td>1.003581</td>\n",
       "    </tr>\n",
       "    <tr>\n",
       "      <th>baseball</th>\n",
       "      <th>right</th>\n",
       "      <th>amateur</th>\n",
       "      <th>female</th>\n",
       "      <td>410.961691</td>\n",
       "      <td>409.547163</td>\n",
       "      <td>412.946440</td>\n",
       "      <td>7808.272122</td>\n",
       "      <td>0.921281</td>\n",
       "    </tr>\n",
       "    <tr>\n",
       "      <th>basketball</th>\n",
       "      <th>left</th>\n",
       "      <th>amateur</th>\n",
       "      <th>female</th>\n",
       "      <td>404.991257</td>\n",
       "      <td>403.477167</td>\n",
       "      <td>406.783491</td>\n",
       "      <td>7694.833890</td>\n",
       "      <td>1.128673</td>\n",
       "    </tr>\n",
       "    <tr>\n",
       "      <th>baseball</th>\n",
       "      <th>left</th>\n",
       "      <th>amateur</th>\n",
       "      <th>female</th>\n",
       "      <td>405.328072</td>\n",
       "      <td>404.172421</td>\n",
       "      <td>406.228386</td>\n",
       "      <td>2431.968434</td>\n",
       "      <td>0.803801</td>\n",
       "    </tr>\n",
       "  </tbody>\n",
       "</table>\n",
       "</div>"
      ],
      "text/plain": [
       "                                            mean         min         max  \\\n",
       "sport      handedness league  gender                                       \n",
       "basketball right      pro     male    432.970873  431.193658  433.845848   \n",
       "baseball   right      pro     male    433.239279  431.260819  435.228304   \n",
       "basketball left       pro     male    426.174895  425.338888  427.405752   \n",
       "baseball   left       pro     male    426.962816  424.930852  428.893506   \n",
       "basketball right      amateur male    417.805797  416.448519  419.818477   \n",
       "baseball   right      amateur male    417.741414  416.262047  419.593947   \n",
       "basketball left       amateur male    412.220172  410.654588  413.798044   \n",
       "baseball   left       amateur male    412.350309  410.699654  413.518512   \n",
       "basketball right      pro     female  425.894610  424.206988  427.819129   \n",
       "baseball   right      pro     female  426.160493  424.113997  428.211154   \n",
       "basketball left       pro     female  420.208283  419.230094  421.625440   \n",
       "baseball   left       pro     female  420.155320  417.947217  421.759028   \n",
       "basketball right      amateur female  410.826709  408.707288  412.402071   \n",
       "baseball   right      amateur female  410.961691  409.547163  412.946440   \n",
       "basketball left       amateur female  404.991257  403.477167  406.783491   \n",
       "baseball   left       amateur female  405.328072  404.172421  406.228386   \n",
       "\n",
       "                                              sum       std  \n",
       "sport      handedness league  gender                         \n",
       "basketball right      pro     male    3030.796113  0.881753  \n",
       "baseball   right      pro     male    6065.349899  1.216080  \n",
       "basketball left       pro     male    3835.574056  0.703688  \n",
       "baseball   left       pro     male    6831.405049  1.049972  \n",
       "basketball right      amateur male    2924.640580  1.117527  \n",
       "baseball   right      amateur male    3341.931309  1.193814  \n",
       "basketball left       amateur male    7419.963096  0.959847  \n",
       "baseball   left       amateur male    2886.452162  0.891856  \n",
       "basketball right      pro     female  5962.524544  0.875827  \n",
       "baseball   right      pro     female  7244.728380  1.090030  \n",
       "basketball left       pro     female  2521.249697  0.813595  \n",
       "baseball   left       pro     female  7982.951080  1.069645  \n",
       "basketball right      amateur female  7394.880760  1.003581  \n",
       "baseball   right      amateur female  7808.272122  0.921281  \n",
       "basketball left       amateur female  7694.833890  1.128673  \n",
       "baseball   left       amateur female  2431.968434  0.803801  "
      ]
     },
     "execution_count": 105,
     "metadata": {},
     "output_type": "execute_result"
    }
   ],
   "source": [
    "df.groupby(['sport', 'handedness', 'league', 'gender'])\\\n",
    "    .agg(['mean', 'min', 'max', 'sum', 'std'])\\\n",
    "    .droplevel(0, axis=1)\\\n",
    "    .sort_values(['gender', 'league', 'handedness', 'sport'], ascending=[False, False, False, False])"
   ]
  },
  {
   "cell_type": "markdown",
   "metadata": {},
   "source": [
    "### Long and wide\n",
    "\n",
    "Data can be stored in a dataframe in long or wide format. In the long format, data points corresponding to a logical entity spans multiple records. In the wide format, data points corresponding to a logical entity are all in one record. \n",
    "\n",
    "Here's an example of a dataframe storing the grades of students (the student is the logical entity) in wide format for three exams. There is only 1 record per student."
   ]
  },
  {
   "cell_type": "code",
   "execution_count": 106,
   "metadata": {},
   "outputs": [
    {
     "data": {
      "text/html": [
       "<div>\n",
       "<style scoped>\n",
       "    .dataframe tbody tr th:only-of-type {\n",
       "        vertical-align: middle;\n",
       "    }\n",
       "\n",
       "    .dataframe tbody tr th {\n",
       "        vertical-align: top;\n",
       "    }\n",
       "\n",
       "    .dataframe thead th {\n",
       "        text-align: right;\n",
       "    }\n",
       "</style>\n",
       "<table border=\"1\" class=\"dataframe\">\n",
       "  <thead>\n",
       "    <tr style=\"text-align: right;\">\n",
       "      <th></th>\n",
       "      <th>name</th>\n",
       "      <th>exam1</th>\n",
       "      <th>exam2</th>\n",
       "      <th>exam3</th>\n",
       "    </tr>\n",
       "  </thead>\n",
       "  <tbody>\n",
       "    <tr>\n",
       "      <th>0</th>\n",
       "      <td>john</td>\n",
       "      <td>90</td>\n",
       "      <td>88</td>\n",
       "      <td>95</td>\n",
       "    </tr>\n",
       "    <tr>\n",
       "      <th>1</th>\n",
       "      <td>jack</td>\n",
       "      <td>88</td>\n",
       "      <td>85</td>\n",
       "      <td>89</td>\n",
       "    </tr>\n",
       "    <tr>\n",
       "      <th>2</th>\n",
       "      <td>mary</td>\n",
       "      <td>95</td>\n",
       "      <td>88</td>\n",
       "      <td>95</td>\n",
       "    </tr>\n",
       "  </tbody>\n",
       "</table>\n",
       "</div>"
      ],
      "text/plain": [
       "   name  exam1  exam2  exam3\n",
       "0  john     90     88     95\n",
       "1  jack     88     85     89\n",
       "2  mary     95     88     95"
      ]
     },
     "execution_count": 106,
     "metadata": {},
     "output_type": "execute_result"
    }
   ],
   "source": [
    "wdf = pd.DataFrame([\n",
    "    {'name': 'john', 'exam1': 90, 'exam2': 88, 'exam3': 95},\n",
    "    {'name': 'jack', 'exam1': 88, 'exam2': 85, 'exam3': 89},\n",
    "    {'name': 'mary', 'exam1': 95, 'exam2': 88, 'exam3': 95}\n",
    "])\n",
    "wdf"
   ]
  },
  {
   "cell_type": "markdown",
   "metadata": {},
   "source": [
    "Here is the same data in the wide format stored in a long format. There are multiple records per student."
   ]
  },
  {
   "cell_type": "code",
   "execution_count": 107,
   "metadata": {},
   "outputs": [
    {
     "data": {
      "text/html": [
       "<div>\n",
       "<style scoped>\n",
       "    .dataframe tbody tr th:only-of-type {\n",
       "        vertical-align: middle;\n",
       "    }\n",
       "\n",
       "    .dataframe tbody tr th {\n",
       "        vertical-align: top;\n",
       "    }\n",
       "\n",
       "    .dataframe thead th {\n",
       "        text-align: right;\n",
       "    }\n",
       "</style>\n",
       "<table border=\"1\" class=\"dataframe\">\n",
       "  <thead>\n",
       "    <tr style=\"text-align: right;\">\n",
       "      <th></th>\n",
       "      <th>name</th>\n",
       "      <th>exam</th>\n",
       "      <th>score</th>\n",
       "    </tr>\n",
       "  </thead>\n",
       "  <tbody>\n",
       "    <tr>\n",
       "      <th>0</th>\n",
       "      <td>john</td>\n",
       "      <td>1</td>\n",
       "      <td>90</td>\n",
       "    </tr>\n",
       "    <tr>\n",
       "      <th>1</th>\n",
       "      <td>john</td>\n",
       "      <td>2</td>\n",
       "      <td>88</td>\n",
       "    </tr>\n",
       "    <tr>\n",
       "      <th>2</th>\n",
       "      <td>john</td>\n",
       "      <td>3</td>\n",
       "      <td>95</td>\n",
       "    </tr>\n",
       "    <tr>\n",
       "      <th>3</th>\n",
       "      <td>jack</td>\n",
       "      <td>1</td>\n",
       "      <td>88</td>\n",
       "    </tr>\n",
       "    <tr>\n",
       "      <th>4</th>\n",
       "      <td>jack</td>\n",
       "      <td>2</td>\n",
       "      <td>85</td>\n",
       "    </tr>\n",
       "    <tr>\n",
       "      <th>5</th>\n",
       "      <td>jack</td>\n",
       "      <td>3</td>\n",
       "      <td>89</td>\n",
       "    </tr>\n",
       "    <tr>\n",
       "      <th>6</th>\n",
       "      <td>mary</td>\n",
       "      <td>1</td>\n",
       "      <td>95</td>\n",
       "    </tr>\n",
       "    <tr>\n",
       "      <th>7</th>\n",
       "      <td>mary</td>\n",
       "      <td>2</td>\n",
       "      <td>88</td>\n",
       "    </tr>\n",
       "    <tr>\n",
       "      <th>8</th>\n",
       "      <td>mary</td>\n",
       "      <td>3</td>\n",
       "      <td>95</td>\n",
       "    </tr>\n",
       "  </tbody>\n",
       "</table>\n",
       "</div>"
      ],
      "text/plain": [
       "   name  exam  score\n",
       "0  john     1     90\n",
       "1  john     2     88\n",
       "2  john     3     95\n",
       "3  jack     1     88\n",
       "4  jack     2     85\n",
       "5  jack     3     89\n",
       "6  mary     1     95\n",
       "7  mary     2     88\n",
       "8  mary     3     95"
      ]
     },
     "execution_count": 107,
     "metadata": {},
     "output_type": "execute_result"
    }
   ],
   "source": [
    "ldf = pd.DataFrame([\n",
    "    {'name': 'john', 'exam': 1, 'score': 90}, \n",
    "    {'name': 'john', 'exam': 2, 'score': 88}, \n",
    "    {'name': 'john', 'exam': 3, 'score': 95},\n",
    "    {'name': 'jack', 'exam': 1, 'score': 88}, \n",
    "    {'name': 'jack', 'exam': 2, 'score': 85}, \n",
    "    {'name': 'jack', 'exam': 3, 'score': 89},\n",
    "    {'name': 'mary', 'exam': 1, 'score': 95}, \n",
    "    {'name': 'mary', 'exam': 2, 'score': 88}, \n",
    "    {'name': 'mary', 'exam': 3, 'score': 95}\n",
    "])\n",
    "ldf"
   ]
  },
  {
   "cell_type": "markdown",
   "metadata": {},
   "source": [
    "Use the `melt()` function to convert from wide to long format."
   ]
  },
  {
   "cell_type": "code",
   "execution_count": 108,
   "metadata": {},
   "outputs": [
    {
     "data": {
      "text/html": [
       "<div>\n",
       "<style scoped>\n",
       "    .dataframe tbody tr th:only-of-type {\n",
       "        vertical-align: middle;\n",
       "    }\n",
       "\n",
       "    .dataframe tbody tr th {\n",
       "        vertical-align: top;\n",
       "    }\n",
       "\n",
       "    .dataframe thead th {\n",
       "        text-align: right;\n",
       "    }\n",
       "</style>\n",
       "<table border=\"1\" class=\"dataframe\">\n",
       "  <thead>\n",
       "    <tr style=\"text-align: right;\">\n",
       "      <th></th>\n",
       "      <th>name</th>\n",
       "      <th>exam</th>\n",
       "      <th>score</th>\n",
       "    </tr>\n",
       "  </thead>\n",
       "  <tbody>\n",
       "    <tr>\n",
       "      <th>0</th>\n",
       "      <td>john</td>\n",
       "      <td>exam1</td>\n",
       "      <td>90</td>\n",
       "    </tr>\n",
       "    <tr>\n",
       "      <th>1</th>\n",
       "      <td>jack</td>\n",
       "      <td>exam1</td>\n",
       "      <td>88</td>\n",
       "    </tr>\n",
       "    <tr>\n",
       "      <th>2</th>\n",
       "      <td>mary</td>\n",
       "      <td>exam1</td>\n",
       "      <td>95</td>\n",
       "    </tr>\n",
       "    <tr>\n",
       "      <th>3</th>\n",
       "      <td>john</td>\n",
       "      <td>exam2</td>\n",
       "      <td>88</td>\n",
       "    </tr>\n",
       "    <tr>\n",
       "      <th>4</th>\n",
       "      <td>jack</td>\n",
       "      <td>exam2</td>\n",
       "      <td>85</td>\n",
       "    </tr>\n",
       "    <tr>\n",
       "      <th>5</th>\n",
       "      <td>mary</td>\n",
       "      <td>exam2</td>\n",
       "      <td>88</td>\n",
       "    </tr>\n",
       "    <tr>\n",
       "      <th>6</th>\n",
       "      <td>john</td>\n",
       "      <td>exam3</td>\n",
       "      <td>95</td>\n",
       "    </tr>\n",
       "    <tr>\n",
       "      <th>7</th>\n",
       "      <td>jack</td>\n",
       "      <td>exam3</td>\n",
       "      <td>89</td>\n",
       "    </tr>\n",
       "    <tr>\n",
       "      <th>8</th>\n",
       "      <td>mary</td>\n",
       "      <td>exam3</td>\n",
       "      <td>95</td>\n",
       "    </tr>\n",
       "  </tbody>\n",
       "</table>\n",
       "</div>"
      ],
      "text/plain": [
       "   name   exam  score\n",
       "0  john  exam1     90\n",
       "1  jack  exam1     88\n",
       "2  mary  exam1     95\n",
       "3  john  exam2     88\n",
       "4  jack  exam2     85\n",
       "5  mary  exam2     88\n",
       "6  john  exam3     95\n",
       "7  jack  exam3     89\n",
       "8  mary  exam3     95"
      ]
     },
     "execution_count": 108,
     "metadata": {},
     "output_type": "execute_result"
    }
   ],
   "source": [
    "pd.melt(wdf, id_vars='name', var_name='exam', value_name='score')"
   ]
  },
  {
   "cell_type": "markdown",
   "metadata": {},
   "source": [
    "Use the `pivot()` function to convert from long to wide format."
   ]
  },
  {
   "cell_type": "code",
   "execution_count": 109,
   "metadata": {},
   "outputs": [
    {
     "data": {
      "text/html": [
       "<div>\n",
       "<style scoped>\n",
       "    .dataframe tbody tr th:only-of-type {\n",
       "        vertical-align: middle;\n",
       "    }\n",
       "\n",
       "    .dataframe tbody tr th {\n",
       "        vertical-align: top;\n",
       "    }\n",
       "\n",
       "    .dataframe thead th {\n",
       "        text-align: right;\n",
       "    }\n",
       "</style>\n",
       "<table border=\"1\" class=\"dataframe\">\n",
       "  <thead>\n",
       "    <tr style=\"text-align: right;\">\n",
       "      <th>exam</th>\n",
       "      <th>1</th>\n",
       "      <th>2</th>\n",
       "      <th>3</th>\n",
       "    </tr>\n",
       "    <tr>\n",
       "      <th>name</th>\n",
       "      <th></th>\n",
       "      <th></th>\n",
       "      <th></th>\n",
       "    </tr>\n",
       "  </thead>\n",
       "  <tbody>\n",
       "    <tr>\n",
       "      <th>jack</th>\n",
       "      <td>88</td>\n",
       "      <td>85</td>\n",
       "      <td>89</td>\n",
       "    </tr>\n",
       "    <tr>\n",
       "      <th>john</th>\n",
       "      <td>90</td>\n",
       "      <td>88</td>\n",
       "      <td>95</td>\n",
       "    </tr>\n",
       "    <tr>\n",
       "      <th>mary</th>\n",
       "      <td>95</td>\n",
       "      <td>88</td>\n",
       "      <td>95</td>\n",
       "    </tr>\n",
       "  </tbody>\n",
       "</table>\n",
       "</div>"
      ],
      "text/plain": [
       "exam   1   2   3\n",
       "name            \n",
       "jack  88  85  89\n",
       "john  90  88  95\n",
       "mary  95  88  95"
      ]
     },
     "execution_count": 109,
     "metadata": {},
     "output_type": "execute_result"
    }
   ],
   "source": [
    "ldf.pivot(index='name', columns='exam', values='score')"
   ]
  },
  {
   "cell_type": "markdown",
   "metadata": {},
   "source": [
    "After using `melt()` and `pivot()`, you will still have to do some post-processing clean up to name the values or columns, respectively, to your liking. "
   ]
  },
  {
   "cell_type": "markdown",
   "metadata": {},
   "source": [
    "### Styling\n",
    "\n",
    "Styling dataframes is fun. Access the `.style` field and you can chain `applymap()` to style the cells. The `subset` argument will apply the styling on to the specified list of columns."
   ]
  },
  {
   "cell_type": "code",
   "execution_count": 110,
   "metadata": {},
   "outputs": [
    {
     "data": {
      "text/html": [
       "<style  type=\"text/css\" >\n",
       "#T_a4d667e0_b09d_11ec_9c3e_f45c89a3ab6brow0_col1,#T_a4d667e0_b09d_11ec_9c3e_f45c89a3ab6brow0_col2,#T_a4d667e0_b09d_11ec_9c3e_f45c89a3ab6brow0_col3,#T_a4d667e0_b09d_11ec_9c3e_f45c89a3ab6brow1_col1,#T_a4d667e0_b09d_11ec_9c3e_f45c89a3ab6brow1_col2,#T_a4d667e0_b09d_11ec_9c3e_f45c89a3ab6brow1_col4,#T_a4d667e0_b09d_11ec_9c3e_f45c89a3ab6brow2_col1,#T_a4d667e0_b09d_11ec_9c3e_f45c89a3ab6brow2_col2,#T_a4d667e0_b09d_11ec_9c3e_f45c89a3ab6brow2_col3,#T_a4d667e0_b09d_11ec_9c3e_f45c89a3ab6brow3_col1,#T_a4d667e0_b09d_11ec_9c3e_f45c89a3ab6brow3_col2,#T_a4d667e0_b09d_11ec_9c3e_f45c89a3ab6brow3_col4,#T_a4d667e0_b09d_11ec_9c3e_f45c89a3ab6brow4_col1,#T_a4d667e0_b09d_11ec_9c3e_f45c89a3ab6brow4_col2,#T_a4d667e0_b09d_11ec_9c3e_f45c89a3ab6brow4_col3,#T_a4d667e0_b09d_11ec_9c3e_f45c89a3ab6brow4_col4,#T_a4d667e0_b09d_11ec_9c3e_f45c89a3ab6brow5_col4,#T_a4d667e0_b09d_11ec_9c3e_f45c89a3ab6brow8_col3,#T_a4d667e0_b09d_11ec_9c3e_f45c89a3ab6brow8_col4{\n",
       "            background-color:  rgb(255, 0, 0, 0.18);\n",
       "        }#T_a4d667e0_b09d_11ec_9c3e_f45c89a3ab6brow0_col4,#T_a4d667e0_b09d_11ec_9c3e_f45c89a3ab6brow1_col3,#T_a4d667e0_b09d_11ec_9c3e_f45c89a3ab6brow2_col4,#T_a4d667e0_b09d_11ec_9c3e_f45c89a3ab6brow3_col7,#T_a4d667e0_b09d_11ec_9c3e_f45c89a3ab6brow4_col7,#T_a4d667e0_b09d_11ec_9c3e_f45c89a3ab6brow5_col1,#T_a4d667e0_b09d_11ec_9c3e_f45c89a3ab6brow6_col7,#T_a4d667e0_b09d_11ec_9c3e_f45c89a3ab6brow8_col7,#T_a4d667e0_b09d_11ec_9c3e_f45c89a3ab6brow9_col4,#T_a4d667e0_b09d_11ec_9c3e_f45c89a3ab6brow16_col7,#T_a4d667e0_b09d_11ec_9c3e_f45c89a3ab6brow20_col2,#T_a4d667e0_b09d_11ec_9c3e_f45c89a3ab6brow21_col3,#T_a4d667e0_b09d_11ec_9c3e_f45c89a3ab6brow23_col7,#T_a4d667e0_b09d_11ec_9c3e_f45c89a3ab6brow25_col7,#T_a4d667e0_b09d_11ec_9c3e_f45c89a3ab6brow26_col4,#T_a4d667e0_b09d_11ec_9c3e_f45c89a3ab6brow26_col7,#T_a4d667e0_b09d_11ec_9c3e_f45c89a3ab6brow27_col7,#T_a4d667e0_b09d_11ec_9c3e_f45c89a3ab6brow28_col2,#T_a4d667e0_b09d_11ec_9c3e_f45c89a3ab6brow28_col3,#T_a4d667e0_b09d_11ec_9c3e_f45c89a3ab6brow29_col3,#T_a4d667e0_b09d_11ec_9c3e_f45c89a3ab6brow29_col7,#T_a4d667e0_b09d_11ec_9c3e_f45c89a3ab6brow30_col2,#T_a4d667e0_b09d_11ec_9c3e_f45c89a3ab6brow30_col3,#T_a4d667e0_b09d_11ec_9c3e_f45c89a3ab6brow31_col7,#T_a4d667e0_b09d_11ec_9c3e_f45c89a3ab6brow32_col1,#T_a4d667e0_b09d_11ec_9c3e_f45c89a3ab6brow32_col2,#T_a4d667e0_b09d_11ec_9c3e_f45c89a3ab6brow32_col3,#T_a4d667e0_b09d_11ec_9c3e_f45c89a3ab6brow32_col7,#T_a4d667e0_b09d_11ec_9c3e_f45c89a3ab6brow33_col1,#T_a4d667e0_b09d_11ec_9c3e_f45c89a3ab6brow33_col2,#T_a4d667e0_b09d_11ec_9c3e_f45c89a3ab6brow33_col3,#T_a4d667e0_b09d_11ec_9c3e_f45c89a3ab6brow34_col1,#T_a4d667e0_b09d_11ec_9c3e_f45c89a3ab6brow34_col2,#T_a4d667e0_b09d_11ec_9c3e_f45c89a3ab6brow34_col7{\n",
       "            background-color:  rgb(0, 255, 0, 0.18);\n",
       "        }#T_a4d667e0_b09d_11ec_9c3e_f45c89a3ab6brow0_col6{\n",
       "            background-color:  rgb(255, 0, 0, 0.9777777777777777);\n",
       "        }#T_a4d667e0_b09d_11ec_9c3e_f45c89a3ab6brow0_col7,#T_a4d667e0_b09d_11ec_9c3e_f45c89a3ab6brow1_col7,#T_a4d667e0_b09d_11ec_9c3e_f45c89a3ab6brow2_col7,#T_a4d667e0_b09d_11ec_9c3e_f45c89a3ab6brow5_col7,#T_a4d667e0_b09d_11ec_9c3e_f45c89a3ab6brow20_col7{\n",
       "            background-color:  rgb(0, 0, 255, 0.18);\n",
       "        }#T_a4d667e0_b09d_11ec_9c3e_f45c89a3ab6brow1_col6{\n",
       "            background-color:  rgb(255, 0, 0, 0.9503466666666667);\n",
       "        }#T_a4d667e0_b09d_11ec_9c3e_f45c89a3ab6brow2_col6{\n",
       "            background-color:  rgb(255, 0, 0, 1.0);\n",
       "        }#T_a4d667e0_b09d_11ec_9c3e_f45c89a3ab6brow3_col6{\n",
       "            background-color:  rgb(255, 0, 0, 0.7939403333333334);\n",
       "        }#T_a4d667e0_b09d_11ec_9c3e_f45c89a3ab6brow4_col6{\n",
       "            background-color:  rgb(255, 0, 0, 0.8177777777777778);\n",
       "        }#T_a4d667e0_b09d_11ec_9c3e_f45c89a3ab6brow5_col6{\n",
       "            background-color:  rgb(255, 0, 0, 0.7119128888888889);\n",
       "        }#T_a4d667e0_b09d_11ec_9c3e_f45c89a3ab6brow6_col6{\n",
       "            background-color:  rgb(255, 0, 0, 0.5358095555555555);\n",
       "        }#T_a4d667e0_b09d_11ec_9c3e_f45c89a3ab6brow7_col6{\n",
       "            background-color:  rgb(255, 0, 0, 0.5877244444444445);\n",
       "        }#T_a4d667e0_b09d_11ec_9c3e_f45c89a3ab6brow8_col6{\n",
       "            background-color:  rgb(255, 0, 0, 0.6816551111111111);\n",
       "        }#T_a4d667e0_b09d_11ec_9c3e_f45c89a3ab6brow9_col6{\n",
       "            background-color:  rgb(255, 0, 0, 0.5034055555555556);\n",
       "        }#T_a4d667e0_b09d_11ec_9c3e_f45c89a3ab6brow10_col6{\n",
       "            background-color:  rgb(255, 0, 0, 0.6153511111111111);\n",
       "        }#T_a4d667e0_b09d_11ec_9c3e_f45c89a3ab6brow11_col6{\n",
       "            background-color:  rgb(255, 0, 0, 0.5656888888888889);\n",
       "        }#T_a4d667e0_b09d_11ec_9c3e_f45c89a3ab6brow12_col6{\n",
       "            background-color:  rgb(255, 0, 0, 0.5926248888888889);\n",
       "        }#T_a4d667e0_b09d_11ec_9c3e_f45c89a3ab6brow13_col6{\n",
       "            background-color:  rgb(255, 0, 0, 0.5745031111111111);\n",
       "        }#T_a4d667e0_b09d_11ec_9c3e_f45c89a3ab6brow14_col6{\n",
       "            background-color:  rgb(255, 0, 0, 0.5783182222222222);\n",
       "        }#T_a4d667e0_b09d_11ec_9c3e_f45c89a3ab6brow15_col6{\n",
       "            background-color:  rgb(255, 0, 0, 0.49773);\n",
       "        }#T_a4d667e0_b09d_11ec_9c3e_f45c89a3ab6brow16_col6{\n",
       "            background-color:  rgb(255, 0, 0, 0.45600111111111113);\n",
       "        }#T_a4d667e0_b09d_11ec_9c3e_f45c89a3ab6brow17_col6{\n",
       "            background-color:  rgb(255, 0, 0, 0.5954204444444444);\n",
       "        }#T_a4d667e0_b09d_11ec_9c3e_f45c89a3ab6brow18_col6{\n",
       "            background-color:  rgb(255, 0, 0, 0.5911671111111111);\n",
       "        }#T_a4d667e0_b09d_11ec_9c3e_f45c89a3ab6brow19_col6{\n",
       "            background-color:  rgb(255, 0, 0, 0.6180315555555556);\n",
       "        }#T_a4d667e0_b09d_11ec_9c3e_f45c89a3ab6brow20_col6{\n",
       "            background-color:  rgb(255, 0, 0, 0.5686488888888889);\n",
       "        }#T_a4d667e0_b09d_11ec_9c3e_f45c89a3ab6brow21_col6{\n",
       "            background-color:  rgb(255, 0, 0, 0.41933333333333334);\n",
       "        }#T_a4d667e0_b09d_11ec_9c3e_f45c89a3ab6brow22_col6{\n",
       "            background-color:  rgb(255, 0, 0, 0.4627302222222222);\n",
       "        }#T_a4d667e0_b09d_11ec_9c3e_f45c89a3ab6brow23_col6{\n",
       "            background-color:  rgb(255, 0, 0, 0.46605555555555556);\n",
       "        }#T_a4d667e0_b09d_11ec_9c3e_f45c89a3ab6brow24_col6{\n",
       "            background-color:  rgb(255, 0, 0, 0.4888888888888889);\n",
       "        }#T_a4d667e0_b09d_11ec_9c3e_f45c89a3ab6brow25_col6{\n",
       "            background-color:  rgb(255, 0, 0, 0.5026244444444444);\n",
       "        }#T_a4d667e0_b09d_11ec_9c3e_f45c89a3ab6brow26_col6{\n",
       "            background-color:  rgb(255, 0, 0, 0.3811222222222222);\n",
       "        }#T_a4d667e0_b09d_11ec_9c3e_f45c89a3ab6brow27_col6{\n",
       "            background-color:  rgb(255, 0, 0, 0.4030163333333333);\n",
       "        }#T_a4d667e0_b09d_11ec_9c3e_f45c89a3ab6brow28_col6{\n",
       "            background-color:  rgb(255, 0, 0, 0.332264);\n",
       "        }#T_a4d667e0_b09d_11ec_9c3e_f45c89a3ab6brow29_col6{\n",
       "            background-color:  rgb(255, 0, 0, 0.3711111111111111);\n",
       "        }#T_a4d667e0_b09d_11ec_9c3e_f45c89a3ab6brow30_col6{\n",
       "            background-color:  rgb(255, 0, 0, 0.328943);\n",
       "        }#T_a4d667e0_b09d_11ec_9c3e_f45c89a3ab6brow31_col6{\n",
       "            background-color:  rgb(255, 0, 0, 0.34664133333333336);\n",
       "        }#T_a4d667e0_b09d_11ec_9c3e_f45c89a3ab6brow32_col6{\n",
       "            background-color:  rgb(255, 0, 0, 0.2684816666666667);\n",
       "        }#T_a4d667e0_b09d_11ec_9c3e_f45c89a3ab6brow33_col6{\n",
       "            background-color:  rgb(255, 0, 0, 0.29397);\n",
       "        }#T_a4d667e0_b09d_11ec_9c3e_f45c89a3ab6brow34_col6{\n",
       "            background-color:  rgb(255, 0, 0, 0.18163866666666667);\n",
       "        }#T_a4d667e0_b09d_11ec_9c3e_f45c89a3ab6brow35_col1,#T_a4d667e0_b09d_11ec_9c3e_f45c89a3ab6brow35_col2,#T_a4d667e0_b09d_11ec_9c3e_f45c89a3ab6brow35_col3,#T_a4d667e0_b09d_11ec_9c3e_f45c89a3ab6brow35_col5,#T_a4d667e0_b09d_11ec_9c3e_f45c89a3ab6brow35_col7{\n",
       "            background-color:  rgb(255, 255, 0, 0.18);\n",
       "        }#T_a4d667e0_b09d_11ec_9c3e_f45c89a3ab6brow35_col6{\n",
       "            background-color:  rgb(255, 0, 0, nan);\n",
       "            background-color:  rgb(255, 255, 0, 0.18);\n",
       "        }</style><table id=\"T_a4d667e0_b09d_11ec_9c3e_f45c89a3ab6b\" ><thead>    <tr>        <th class=\"blank level0\" ></th>        <th class=\"col_heading level0 col0\" >name</th>        <th class=\"col_heading level0 col1\" >P1</th>        <th class=\"col_heading level0 col2\" >P2</th>        <th class=\"col_heading level0 col3\" >P3</th>        <th class=\"col_heading level0 col4\" >P4</th>        <th class=\"col_heading level0 col5\" >P_TOTAL</th>        <th class=\"col_heading level0 col6\" >PLAYER_POWER</th>        <th class=\"col_heading level0 col7\" >RATIO</th>    </tr></thead><tbody>\n",
       "                <tr>\n",
       "                        <th id=\"T_a4d667e0_b09d_11ec_9c3e_f45c89a3ab6blevel0_row0\" class=\"row_heading level0 row0\" >0</th>\n",
       "                        <td id=\"T_a4d667e0_b09d_11ec_9c3e_f45c89a3ab6brow0_col0\" class=\"data row0 col0\" >Player13</td>\n",
       "                        <td id=\"T_a4d667e0_b09d_11ec_9c3e_f45c89a3ab6brow0_col1\" class=\"data row0 col1\" >2,564,000</td>\n",
       "                        <td id=\"T_a4d667e0_b09d_11ec_9c3e_f45c89a3ab6brow0_col2\" class=\"data row0 col2\" >2,230,000</td>\n",
       "                        <td id=\"T_a4d667e0_b09d_11ec_9c3e_f45c89a3ab6brow0_col3\" class=\"data row0 col3\" >1,866,864</td>\n",
       "                        <td id=\"T_a4d667e0_b09d_11ec_9c3e_f45c89a3ab6brow0_col4\" class=\"data row0 col4\" >41,662</td>\n",
       "                        <td id=\"T_a4d667e0_b09d_11ec_9c3e_f45c89a3ab6brow0_col5\" class=\"data row0 col5\" >6,702,526</td>\n",
       "                        <td id=\"T_a4d667e0_b09d_11ec_9c3e_f45c89a3ab6brow0_col6\" class=\"data row0 col6\" >8,800,000</td>\n",
       "                        <td id=\"T_a4d667e0_b09d_11ec_9c3e_f45c89a3ab6brow0_col7\" class=\"data row0 col7\" >0.762</td>\n",
       "            </tr>\n",
       "            <tr>\n",
       "                        <th id=\"T_a4d667e0_b09d_11ec_9c3e_f45c89a3ab6blevel0_row1\" class=\"row_heading level0 row1\" >1</th>\n",
       "                        <td id=\"T_a4d667e0_b09d_11ec_9c3e_f45c89a3ab6brow1_col0\" class=\"data row1 col0\" >Player09</td>\n",
       "                        <td id=\"T_a4d667e0_b09d_11ec_9c3e_f45c89a3ab6brow1_col1\" class=\"data row1 col1\" >2,600,000</td>\n",
       "                        <td id=\"T_a4d667e0_b09d_11ec_9c3e_f45c89a3ab6brow1_col2\" class=\"data row1 col2\" >2,521,000</td>\n",
       "                        <td id=\"T_a4d667e0_b09d_11ec_9c3e_f45c89a3ab6brow1_col3\" class=\"data row1 col3\" >417,339</td>\n",
       "                        <td id=\"T_a4d667e0_b09d_11ec_9c3e_f45c89a3ab6brow1_col4\" class=\"data row1 col4\" >1,374,624</td>\n",
       "                        <td id=\"T_a4d667e0_b09d_11ec_9c3e_f45c89a3ab6brow1_col5\" class=\"data row1 col5\" >6,912,963</td>\n",
       "                        <td id=\"T_a4d667e0_b09d_11ec_9c3e_f45c89a3ab6brow1_col6\" class=\"data row1 col6\" >8,553,120</td>\n",
       "                        <td id=\"T_a4d667e0_b09d_11ec_9c3e_f45c89a3ab6brow1_col7\" class=\"data row1 col7\" >0.808</td>\n",
       "            </tr>\n",
       "            <tr>\n",
       "                        <th id=\"T_a4d667e0_b09d_11ec_9c3e_f45c89a3ab6blevel0_row2\" class=\"row_heading level0 row2\" >2</th>\n",
       "                        <td id=\"T_a4d667e0_b09d_11ec_9c3e_f45c89a3ab6brow2_col0\" class=\"data row2 col0\" >Player06</td>\n",
       "                        <td id=\"T_a4d667e0_b09d_11ec_9c3e_f45c89a3ab6brow2_col1\" class=\"data row2 col1\" >2,564,268</td>\n",
       "                        <td id=\"T_a4d667e0_b09d_11ec_9c3e_f45c89a3ab6brow2_col2\" class=\"data row2 col2\" >2,112,148</td>\n",
       "                        <td id=\"T_a4d667e0_b09d_11ec_9c3e_f45c89a3ab6brow2_col3\" class=\"data row2 col3\" >2,100,000</td>\n",
       "                        <td id=\"T_a4d667e0_b09d_11ec_9c3e_f45c89a3ab6brow2_col4\" class=\"data row2 col4\" >67,800</td>\n",
       "                        <td id=\"T_a4d667e0_b09d_11ec_9c3e_f45c89a3ab6brow2_col5\" class=\"data row2 col5\" >6,844,216</td>\n",
       "                        <td id=\"T_a4d667e0_b09d_11ec_9c3e_f45c89a3ab6brow2_col6\" class=\"data row2 col6\" >9,000,000</td>\n",
       "                        <td id=\"T_a4d667e0_b09d_11ec_9c3e_f45c89a3ab6brow2_col7\" class=\"data row2 col7\" >0.760</td>\n",
       "            </tr>\n",
       "            <tr>\n",
       "                        <th id=\"T_a4d667e0_b09d_11ec_9c3e_f45c89a3ab6blevel0_row3\" class=\"row_heading level0 row3\" >3</th>\n",
       "                        <td id=\"T_a4d667e0_b09d_11ec_9c3e_f45c89a3ab6brow3_col0\" class=\"data row3 col0\" >Player12</td>\n",
       "                        <td id=\"T_a4d667e0_b09d_11ec_9c3e_f45c89a3ab6brow3_col1\" class=\"data row3 col1\" >2,400,000</td>\n",
       "                        <td id=\"T_a4d667e0_b09d_11ec_9c3e_f45c89a3ab6brow3_col2\" class=\"data row3 col2\" >2,200,000</td>\n",
       "                        <td id=\"T_a4d667e0_b09d_11ec_9c3e_f45c89a3ab6brow3_col3\" class=\"data row3 col3\" >1,534,464</td>\n",
       "                        <td id=\"T_a4d667e0_b09d_11ec_9c3e_f45c89a3ab6brow3_col4\" class=\"data row3 col4\" >1,641,024</td>\n",
       "                        <td id=\"T_a4d667e0_b09d_11ec_9c3e_f45c89a3ab6brow3_col5\" class=\"data row3 col5\" >7,775,488</td>\n",
       "                        <td id=\"T_a4d667e0_b09d_11ec_9c3e_f45c89a3ab6brow3_col6\" class=\"data row3 col6\" >7,145,463</td>\n",
       "                        <td id=\"T_a4d667e0_b09d_11ec_9c3e_f45c89a3ab6brow3_col7\" class=\"data row3 col7\" >1.088</td>\n",
       "            </tr>\n",
       "            <tr>\n",
       "                        <th id=\"T_a4d667e0_b09d_11ec_9c3e_f45c89a3ab6blevel0_row4\" class=\"row_heading level0 row4\" >4</th>\n",
       "                        <td id=\"T_a4d667e0_b09d_11ec_9c3e_f45c89a3ab6brow4_col0\" class=\"data row4 col0\" >Player10</td>\n",
       "                        <td id=\"T_a4d667e0_b09d_11ec_9c3e_f45c89a3ab6brow4_col1\" class=\"data row4 col1\" >2,521,548</td>\n",
       "                        <td id=\"T_a4d667e0_b09d_11ec_9c3e_f45c89a3ab6brow4_col2\" class=\"data row4 col2\" >2,480,964</td>\n",
       "                        <td id=\"T_a4d667e0_b09d_11ec_9c3e_f45c89a3ab6brow4_col3\" class=\"data row4 col3\" >2,262,000</td>\n",
       "                        <td id=\"T_a4d667e0_b09d_11ec_9c3e_f45c89a3ab6brow4_col4\" class=\"data row4 col4\" >1,231,360</td>\n",
       "                        <td id=\"T_a4d667e0_b09d_11ec_9c3e_f45c89a3ab6brow4_col5\" class=\"data row4 col5\" >8,495,872</td>\n",
       "                        <td id=\"T_a4d667e0_b09d_11ec_9c3e_f45c89a3ab6brow4_col6\" class=\"data row4 col6\" >7,360,000</td>\n",
       "                        <td id=\"T_a4d667e0_b09d_11ec_9c3e_f45c89a3ab6brow4_col7\" class=\"data row4 col7\" >1.154</td>\n",
       "            </tr>\n",
       "            <tr>\n",
       "                        <th id=\"T_a4d667e0_b09d_11ec_9c3e_f45c89a3ab6blevel0_row5\" class=\"row_heading level0 row5\" >5</th>\n",
       "                        <td id=\"T_a4d667e0_b09d_11ec_9c3e_f45c89a3ab6brow5_col0\" class=\"data row5 col0\" >Player39</td>\n",
       "                        <td id=\"T_a4d667e0_b09d_11ec_9c3e_f45c89a3ab6brow5_col1\" class=\"data row5 col1\" >155,370</td>\n",
       "                        <td id=\"T_a4d667e0_b09d_11ec_9c3e_f45c89a3ab6brow5_col2\" class=\"data row5 col2\" >1,605,504</td>\n",
       "                        <td id=\"T_a4d667e0_b09d_11ec_9c3e_f45c89a3ab6brow5_col3\" class=\"data row5 col3\" >1,481,184</td>\n",
       "                        <td id=\"T_a4d667e0_b09d_11ec_9c3e_f45c89a3ab6brow5_col4\" class=\"data row5 col4\" >1,900,000</td>\n",
       "                        <td id=\"T_a4d667e0_b09d_11ec_9c3e_f45c89a3ab6brow5_col5\" class=\"data row5 col5\" >5,142,058</td>\n",
       "                        <td id=\"T_a4d667e0_b09d_11ec_9c3e_f45c89a3ab6brow5_col6\" class=\"data row5 col6\" >6,407,216</td>\n",
       "                        <td id=\"T_a4d667e0_b09d_11ec_9c3e_f45c89a3ab6brow5_col7\" class=\"data row5 col7\" >0.803</td>\n",
       "            </tr>\n",
       "            <tr>\n",
       "                        <th id=\"T_a4d667e0_b09d_11ec_9c3e_f45c89a3ab6blevel0_row6\" class=\"row_heading level0 row6\" >6</th>\n",
       "                        <td id=\"T_a4d667e0_b09d_11ec_9c3e_f45c89a3ab6brow6_col0\" class=\"data row6 col0\" >Player23</td>\n",
       "                        <td id=\"T_a4d667e0_b09d_11ec_9c3e_f45c89a3ab6brow6_col1\" class=\"data row6 col1\" >1,861,544</td>\n",
       "                        <td id=\"T_a4d667e0_b09d_11ec_9c3e_f45c89a3ab6brow6_col2\" class=\"data row6 col2\" >1,509,304</td>\n",
       "                        <td id=\"T_a4d667e0_b09d_11ec_9c3e_f45c89a3ab6brow6_col3\" class=\"data row6 col3\" >1,484,736</td>\n",
       "                        <td id=\"T_a4d667e0_b09d_11ec_9c3e_f45c89a3ab6brow6_col4\" class=\"data row6 col4\" >308,976</td>\n",
       "                        <td id=\"T_a4d667e0_b09d_11ec_9c3e_f45c89a3ab6brow6_col5\" class=\"data row6 col5\" >5,164,560</td>\n",
       "                        <td id=\"T_a4d667e0_b09d_11ec_9c3e_f45c89a3ab6brow6_col6\" class=\"data row6 col6\" >4,822,286</td>\n",
       "                        <td id=\"T_a4d667e0_b09d_11ec_9c3e_f45c89a3ab6brow6_col7\" class=\"data row6 col7\" >1.071</td>\n",
       "            </tr>\n",
       "            <tr>\n",
       "                        <th id=\"T_a4d667e0_b09d_11ec_9c3e_f45c89a3ab6blevel0_row7\" class=\"row_heading level0 row7\" >7</th>\n",
       "                        <td id=\"T_a4d667e0_b09d_11ec_9c3e_f45c89a3ab6brow7_col0\" class=\"data row7 col0\" >Player07</td>\n",
       "                        <td id=\"T_a4d667e0_b09d_11ec_9c3e_f45c89a3ab6brow7_col1\" class=\"data row7 col1\" >1,763,272</td>\n",
       "                        <td id=\"T_a4d667e0_b09d_11ec_9c3e_f45c89a3ab6brow7_col2\" class=\"data row7 col2\" >1,493,764</td>\n",
       "                        <td id=\"T_a4d667e0_b09d_11ec_9c3e_f45c89a3ab6brow7_col3\" class=\"data row7 col3\" >1,230,000</td>\n",
       "                        <td id=\"T_a4d667e0_b09d_11ec_9c3e_f45c89a3ab6brow7_col4\" class=\"data row7 col4\" >902,504</td>\n",
       "                        <td id=\"T_a4d667e0_b09d_11ec_9c3e_f45c89a3ab6brow7_col5\" class=\"data row7 col5\" >5,389,540</td>\n",
       "                        <td id=\"T_a4d667e0_b09d_11ec_9c3e_f45c89a3ab6brow7_col6\" class=\"data row7 col6\" >5,289,520</td>\n",
       "                        <td id=\"T_a4d667e0_b09d_11ec_9c3e_f45c89a3ab6brow7_col7\" class=\"data row7 col7\" >1.019</td>\n",
       "            </tr>\n",
       "            <tr>\n",
       "                        <th id=\"T_a4d667e0_b09d_11ec_9c3e_f45c89a3ab6blevel0_row8\" class=\"row_heading level0 row8\" >8</th>\n",
       "                        <td id=\"T_a4d667e0_b09d_11ec_9c3e_f45c89a3ab6brow8_col0\" class=\"data row8 col0\" >Player35</td>\n",
       "                        <td id=\"T_a4d667e0_b09d_11ec_9c3e_f45c89a3ab6brow8_col1\" class=\"data row8 col1\" >1,763,262</td>\n",
       "                        <td id=\"T_a4d667e0_b09d_11ec_9c3e_f45c89a3ab6brow8_col2\" class=\"data row8 col2\" >1,636,584</td>\n",
       "                        <td id=\"T_a4d667e0_b09d_11ec_9c3e_f45c89a3ab6brow8_col3\" class=\"data row8 col3\" >1,630,000</td>\n",
       "                        <td id=\"T_a4d667e0_b09d_11ec_9c3e_f45c89a3ab6brow8_col4\" class=\"data row8 col4\" >1,653,000</td>\n",
       "                        <td id=\"T_a4d667e0_b09d_11ec_9c3e_f45c89a3ab6brow8_col5\" class=\"data row8 col5\" >6,682,846</td>\n",
       "                        <td id=\"T_a4d667e0_b09d_11ec_9c3e_f45c89a3ab6brow8_col6\" class=\"data row8 col6\" >6,134,896</td>\n",
       "                        <td id=\"T_a4d667e0_b09d_11ec_9c3e_f45c89a3ab6brow8_col7\" class=\"data row8 col7\" >1.089</td>\n",
       "            </tr>\n",
       "            <tr>\n",
       "                        <th id=\"T_a4d667e0_b09d_11ec_9c3e_f45c89a3ab6blevel0_row9\" class=\"row_heading level0 row9\" >9</th>\n",
       "                        <td id=\"T_a4d667e0_b09d_11ec_9c3e_f45c89a3ab6brow9_col0\" class=\"data row9 col0\" >Player28</td>\n",
       "                        <td id=\"T_a4d667e0_b09d_11ec_9c3e_f45c89a3ab6brow9_col1\" class=\"data row9 col1\" >1,753,208</td>\n",
       "                        <td id=\"T_a4d667e0_b09d_11ec_9c3e_f45c89a3ab6brow9_col2\" class=\"data row9 col2\" >1,572,056</td>\n",
       "                        <td id=\"T_a4d667e0_b09d_11ec_9c3e_f45c89a3ab6brow9_col3\" class=\"data row9 col3\" >1,251,636</td>\n",
       "                        <td id=\"T_a4d667e0_b09d_11ec_9c3e_f45c89a3ab6brow9_col4\" class=\"data row9 col4\" >74,446</td>\n",
       "                        <td id=\"T_a4d667e0_b09d_11ec_9c3e_f45c89a3ab6brow9_col5\" class=\"data row9 col5\" >4,651,346</td>\n",
       "                        <td id=\"T_a4d667e0_b09d_11ec_9c3e_f45c89a3ab6brow9_col6\" class=\"data row9 col6\" >4,530,650</td>\n",
       "                        <td id=\"T_a4d667e0_b09d_11ec_9c3e_f45c89a3ab6brow9_col7\" class=\"data row9 col7\" >1.027</td>\n",
       "            </tr>\n",
       "            <tr>\n",
       "                        <th id=\"T_a4d667e0_b09d_11ec_9c3e_f45c89a3ab6blevel0_row10\" class=\"row_heading level0 row10\" >10</th>\n",
       "                        <td id=\"T_a4d667e0_b09d_11ec_9c3e_f45c89a3ab6brow10_col0\" class=\"data row10 col0\" >Player36</td>\n",
       "                        <td id=\"T_a4d667e0_b09d_11ec_9c3e_f45c89a3ab6brow10_col1\" class=\"data row10 col1\" >1,697,264</td>\n",
       "                        <td id=\"T_a4d667e0_b09d_11ec_9c3e_f45c89a3ab6brow10_col2\" class=\"data row10 col2\" >1,526,620</td>\n",
       "                        <td id=\"T_a4d667e0_b09d_11ec_9c3e_f45c89a3ab6brow10_col3\" class=\"data row10 col3\" >1,346,498</td>\n",
       "                        <td id=\"T_a4d667e0_b09d_11ec_9c3e_f45c89a3ab6brow10_col4\" class=\"data row10 col4\" >1,120,103</td>\n",
       "                        <td id=\"T_a4d667e0_b09d_11ec_9c3e_f45c89a3ab6brow10_col5\" class=\"data row10 col5\" >5,690,485</td>\n",
       "                        <td id=\"T_a4d667e0_b09d_11ec_9c3e_f45c89a3ab6brow10_col6\" class=\"data row10 col6\" >5,538,160</td>\n",
       "                        <td id=\"T_a4d667e0_b09d_11ec_9c3e_f45c89a3ab6brow10_col7\" class=\"data row10 col7\" >1.028</td>\n",
       "            </tr>\n",
       "            <tr>\n",
       "                        <th id=\"T_a4d667e0_b09d_11ec_9c3e_f45c89a3ab6blevel0_row11\" class=\"row_heading level0 row11\" >11</th>\n",
       "                        <td id=\"T_a4d667e0_b09d_11ec_9c3e_f45c89a3ab6brow11_col0\" class=\"data row11 col0\" >Player05</td>\n",
       "                        <td id=\"T_a4d667e0_b09d_11ec_9c3e_f45c89a3ab6brow11_col1\" class=\"data row11 col1\" >1,679,208</td>\n",
       "                        <td id=\"T_a4d667e0_b09d_11ec_9c3e_f45c89a3ab6brow11_col2\" class=\"data row11 col2\" >1,493,468</td>\n",
       "                        <td id=\"T_a4d667e0_b09d_11ec_9c3e_f45c89a3ab6brow11_col3\" class=\"data row11 col3\" >1,200,000</td>\n",
       "                        <td id=\"T_a4d667e0_b09d_11ec_9c3e_f45c89a3ab6brow11_col4\" class=\"data row11 col4\" >858,252</td>\n",
       "                        <td id=\"T_a4d667e0_b09d_11ec_9c3e_f45c89a3ab6brow11_col5\" class=\"data row11 col5\" >5,230,928</td>\n",
       "                        <td id=\"T_a4d667e0_b09d_11ec_9c3e_f45c89a3ab6brow11_col6\" class=\"data row11 col6\" >5,091,200</td>\n",
       "                        <td id=\"T_a4d667e0_b09d_11ec_9c3e_f45c89a3ab6brow11_col7\" class=\"data row11 col7\" >1.027</td>\n",
       "            </tr>\n",
       "            <tr>\n",
       "                        <th id=\"T_a4d667e0_b09d_11ec_9c3e_f45c89a3ab6blevel0_row12\" class=\"row_heading level0 row12\" >12</th>\n",
       "                        <td id=\"T_a4d667e0_b09d_11ec_9c3e_f45c89a3ab6brow12_col0\" class=\"data row12 col0\" >Player24</td>\n",
       "                        <td id=\"T_a4d667e0_b09d_11ec_9c3e_f45c89a3ab6brow12_col1\" class=\"data row12 col1\" >1,661,448</td>\n",
       "                        <td id=\"T_a4d667e0_b09d_11ec_9c3e_f45c89a3ab6brow12_col2\" class=\"data row12 col2\" >1,536,536</td>\n",
       "                        <td id=\"T_a4d667e0_b09d_11ec_9c3e_f45c89a3ab6brow12_col3\" class=\"data row12 col3\" >1,269,692</td>\n",
       "                        <td id=\"T_a4d667e0_b09d_11ec_9c3e_f45c89a3ab6brow12_col4\" class=\"data row12 col4\" >980,648</td>\n",
       "                        <td id=\"T_a4d667e0_b09d_11ec_9c3e_f45c89a3ab6brow12_col5\" class=\"data row12 col5\" >5,448,324</td>\n",
       "                        <td id=\"T_a4d667e0_b09d_11ec_9c3e_f45c89a3ab6brow12_col6\" class=\"data row12 col6\" >5,333,624</td>\n",
       "                        <td id=\"T_a4d667e0_b09d_11ec_9c3e_f45c89a3ab6brow12_col7\" class=\"data row12 col7\" >1.022</td>\n",
       "            </tr>\n",
       "            <tr>\n",
       "                        <th id=\"T_a4d667e0_b09d_11ec_9c3e_f45c89a3ab6blevel0_row13\" class=\"row_heading level0 row13\" >13</th>\n",
       "                        <td id=\"T_a4d667e0_b09d_11ec_9c3e_f45c89a3ab6brow13_col0\" class=\"data row13 col0\" >Player34</td>\n",
       "                        <td id=\"T_a4d667e0_b09d_11ec_9c3e_f45c89a3ab6brow13_col1\" class=\"data row13 col1\" >1,652,864</td>\n",
       "                        <td id=\"T_a4d667e0_b09d_11ec_9c3e_f45c89a3ab6brow13_col2\" class=\"data row13 col2\" >1,503,384</td>\n",
       "                        <td id=\"T_a4d667e0_b09d_11ec_9c3e_f45c89a3ab6brow13_col3\" class=\"data row13 col3\" >1,177,784</td>\n",
       "                        <td id=\"T_a4d667e0_b09d_11ec_9c3e_f45c89a3ab6brow13_col4\" class=\"data row13 col4\" >893,624</td>\n",
       "                        <td id=\"T_a4d667e0_b09d_11ec_9c3e_f45c89a3ab6brow13_col5\" class=\"data row13 col5\" >5,227,656</td>\n",
       "                        <td id=\"T_a4d667e0_b09d_11ec_9c3e_f45c89a3ab6brow13_col6\" class=\"data row13 col6\" >5,170,528</td>\n",
       "                        <td id=\"T_a4d667e0_b09d_11ec_9c3e_f45c89a3ab6brow13_col7\" class=\"data row13 col7\" >1.011</td>\n",
       "            </tr>\n",
       "            <tr>\n",
       "                        <th id=\"T_a4d667e0_b09d_11ec_9c3e_f45c89a3ab6blevel0_row14\" class=\"row_heading level0 row14\" >14</th>\n",
       "                        <td id=\"T_a4d667e0_b09d_11ec_9c3e_f45c89a3ab6brow14_col0\" class=\"data row14 col0\" >Player15</td>\n",
       "                        <td id=\"T_a4d667e0_b09d_11ec_9c3e_f45c89a3ab6brow14_col1\" class=\"data row14 col1\" >1,643,688</td>\n",
       "                        <td id=\"T_a4d667e0_b09d_11ec_9c3e_f45c89a3ab6brow14_col2\" class=\"data row14 col2\" >1,386,464</td>\n",
       "                        <td id=\"T_a4d667e0_b09d_11ec_9c3e_f45c89a3ab6brow14_col3\" class=\"data row14 col3\" >1,296,184</td>\n",
       "                        <td id=\"T_a4d667e0_b09d_11ec_9c3e_f45c89a3ab6brow14_col4\" class=\"data row14 col4\" >944,092</td>\n",
       "                        <td id=\"T_a4d667e0_b09d_11ec_9c3e_f45c89a3ab6brow14_col5\" class=\"data row14 col5\" >5,270,428</td>\n",
       "                        <td id=\"T_a4d667e0_b09d_11ec_9c3e_f45c89a3ab6brow14_col6\" class=\"data row14 col6\" >5,204,864</td>\n",
       "                        <td id=\"T_a4d667e0_b09d_11ec_9c3e_f45c89a3ab6brow14_col7\" class=\"data row14 col7\" >1.013</td>\n",
       "            </tr>\n",
       "            <tr>\n",
       "                        <th id=\"T_a4d667e0_b09d_11ec_9c3e_f45c89a3ab6blevel0_row15\" class=\"row_heading level0 row15\" >15</th>\n",
       "                        <td id=\"T_a4d667e0_b09d_11ec_9c3e_f45c89a3ab6brow15_col0\" class=\"data row15 col0\" >Player27</td>\n",
       "                        <td id=\"T_a4d667e0_b09d_11ec_9c3e_f45c89a3ab6brow15_col1\" class=\"data row15 col1\" >1,643,688</td>\n",
       "                        <td id=\"T_a4d667e0_b09d_11ec_9c3e_f45c89a3ab6brow15_col2\" class=\"data row15 col2\" >1,538,016</td>\n",
       "                        <td id=\"T_a4d667e0_b09d_11ec_9c3e_f45c89a3ab6brow15_col3\" class=\"data row15 col3\" >919,300</td>\n",
       "                        <td id=\"T_a4d667e0_b09d_11ec_9c3e_f45c89a3ab6brow15_col4\" class=\"data row15 col4\" >560,000</td>\n",
       "                        <td id=\"T_a4d667e0_b09d_11ec_9c3e_f45c89a3ab6brow15_col5\" class=\"data row15 col5\" >4,661,004</td>\n",
       "                        <td id=\"T_a4d667e0_b09d_11ec_9c3e_f45c89a3ab6brow15_col6\" class=\"data row15 col6\" >4,479,570</td>\n",
       "                        <td id=\"T_a4d667e0_b09d_11ec_9c3e_f45c89a3ab6brow15_col7\" class=\"data row15 col7\" >1.041</td>\n",
       "            </tr>\n",
       "            <tr>\n",
       "                        <th id=\"T_a4d667e0_b09d_11ec_9c3e_f45c89a3ab6blevel0_row16\" class=\"row_heading level0 row16\" >16</th>\n",
       "                        <td id=\"T_a4d667e0_b09d_11ec_9c3e_f45c89a3ab6brow16_col0\" class=\"data row16 col0\" >Player19</td>\n",
       "                        <td id=\"T_a4d667e0_b09d_11ec_9c3e_f45c89a3ab6brow16_col1\" class=\"data row16 col1\" >1,643,688</td>\n",
       "                        <td id=\"T_a4d667e0_b09d_11ec_9c3e_f45c89a3ab6brow16_col2\" class=\"data row16 col2\" >1,182,000</td>\n",
       "                        <td id=\"T_a4d667e0_b09d_11ec_9c3e_f45c89a3ab6brow16_col3\" class=\"data row16 col3\" >998,408</td>\n",
       "                        <td id=\"T_a4d667e0_b09d_11ec_9c3e_f45c89a3ab6brow16_col4\" class=\"data row16 col4\" >508,974</td>\n",
       "                        <td id=\"T_a4d667e0_b09d_11ec_9c3e_f45c89a3ab6brow16_col5\" class=\"data row16 col5\" >4,333,070</td>\n",
       "                        <td id=\"T_a4d667e0_b09d_11ec_9c3e_f45c89a3ab6brow16_col6\" class=\"data row16 col6\" >4,104,010</td>\n",
       "                        <td id=\"T_a4d667e0_b09d_11ec_9c3e_f45c89a3ab6brow16_col7\" class=\"data row16 col7\" >1.056</td>\n",
       "            </tr>\n",
       "            <tr>\n",
       "                        <th id=\"T_a4d667e0_b09d_11ec_9c3e_f45c89a3ab6blevel0_row17\" class=\"row_heading level0 row17\" >17</th>\n",
       "                        <td id=\"T_a4d667e0_b09d_11ec_9c3e_f45c89a3ab6brow17_col0\" class=\"data row17 col0\" >Player02</td>\n",
       "                        <td id=\"T_a4d667e0_b09d_11ec_9c3e_f45c89a3ab6brow17_col1\" class=\"data row17 col1\" >1,643,688</td>\n",
       "                        <td id=\"T_a4d667e0_b09d_11ec_9c3e_f45c89a3ab6brow17_col2\" class=\"data row17 col2\" >1,552,224</td>\n",
       "                        <td id=\"T_a4d667e0_b09d_11ec_9c3e_f45c89a3ab6brow17_col3\" class=\"data row17 col3\" >1,272,504</td>\n",
       "                        <td id=\"T_a4d667e0_b09d_11ec_9c3e_f45c89a3ab6brow17_col4\" class=\"data row17 col4\" >986,420</td>\n",
       "                        <td id=\"T_a4d667e0_b09d_11ec_9c3e_f45c89a3ab6brow17_col5\" class=\"data row17 col5\" >5,454,836</td>\n",
       "                        <td id=\"T_a4d667e0_b09d_11ec_9c3e_f45c89a3ab6brow17_col6\" class=\"data row17 col6\" >5,358,784</td>\n",
       "                        <td id=\"T_a4d667e0_b09d_11ec_9c3e_f45c89a3ab6brow17_col7\" class=\"data row17 col7\" >1.018</td>\n",
       "            </tr>\n",
       "            <tr>\n",
       "                        <th id=\"T_a4d667e0_b09d_11ec_9c3e_f45c89a3ab6blevel0_row18\" class=\"row_heading level0 row18\" >18</th>\n",
       "                        <td id=\"T_a4d667e0_b09d_11ec_9c3e_f45c89a3ab6brow18_col0\" class=\"data row18 col0\" >Player20</td>\n",
       "                        <td id=\"T_a4d667e0_b09d_11ec_9c3e_f45c89a3ab6brow18_col1\" class=\"data row18 col1\" >1,606,984</td>\n",
       "                        <td id=\"T_a4d667e0_b09d_11ec_9c3e_f45c89a3ab6brow18_col2\" class=\"data row18 col2\" >1,485,624</td>\n",
       "                        <td id=\"T_a4d667e0_b09d_11ec_9c3e_f45c89a3ab6brow18_col3\" class=\"data row18 col3\" >1,391,664</td>\n",
       "                        <td id=\"T_a4d667e0_b09d_11ec_9c3e_f45c89a3ab6brow18_col4\" class=\"data row18 col4\" >996,632</td>\n",
       "                        <td id=\"T_a4d667e0_b09d_11ec_9c3e_f45c89a3ab6brow18_col5\" class=\"data row18 col5\" >5,480,904</td>\n",
       "                        <td id=\"T_a4d667e0_b09d_11ec_9c3e_f45c89a3ab6brow18_col6\" class=\"data row18 col6\" >5,320,504</td>\n",
       "                        <td id=\"T_a4d667e0_b09d_11ec_9c3e_f45c89a3ab6brow18_col7\" class=\"data row18 col7\" >1.030</td>\n",
       "            </tr>\n",
       "            <tr>\n",
       "                        <th id=\"T_a4d667e0_b09d_11ec_9c3e_f45c89a3ab6blevel0_row19\" class=\"row_heading level0 row19\" >19</th>\n",
       "                        <td id=\"T_a4d667e0_b09d_11ec_9c3e_f45c89a3ab6brow19_col0\" class=\"data row19 col0\" >Player16</td>\n",
       "                        <td id=\"T_a4d667e0_b09d_11ec_9c3e_f45c89a3ab6brow19_col1\" class=\"data row19 col1\" >1,606,894</td>\n",
       "                        <td id=\"T_a4d667e0_b09d_11ec_9c3e_f45c89a3ab6brow19_col2\" class=\"data row19 col2\" >1,485,624</td>\n",
       "                        <td id=\"T_a4d667e0_b09d_11ec_9c3e_f45c89a3ab6brow19_col3\" class=\"data row19 col3\" >1,544,824</td>\n",
       "                        <td id=\"T_a4d667e0_b09d_11ec_9c3e_f45c89a3ab6brow19_col4\" class=\"data row19 col4\" >1,053,464</td>\n",
       "                        <td id=\"T_a4d667e0_b09d_11ec_9c3e_f45c89a3ab6brow19_col5\" class=\"data row19 col5\" >5,690,806</td>\n",
       "                        <td id=\"T_a4d667e0_b09d_11ec_9c3e_f45c89a3ab6brow19_col6\" class=\"data row19 col6\" >5,562,284</td>\n",
       "                        <td id=\"T_a4d667e0_b09d_11ec_9c3e_f45c89a3ab6brow19_col7\" class=\"data row19 col7\" >1.023</td>\n",
       "            </tr>\n",
       "            <tr>\n",
       "                        <th id=\"T_a4d667e0_b09d_11ec_9c3e_f45c89a3ab6blevel0_row20\" class=\"row_heading level0 row20\" >20</th>\n",
       "                        <td id=\"T_a4d667e0_b09d_11ec_9c3e_f45c89a3ab6brow20_col0\" class=\"data row20 col0\" >Player04</td>\n",
       "                        <td id=\"T_a4d667e0_b09d_11ec_9c3e_f45c89a3ab6brow20_col1\" class=\"data row20 col1\" >1,605,504</td>\n",
       "                        <td id=\"T_a4d667e0_b09d_11ec_9c3e_f45c89a3ab6brow20_col2\" class=\"data row20 col2\" >110,378</td>\n",
       "                        <td id=\"T_a4d667e0_b09d_11ec_9c3e_f45c89a3ab6brow20_col3\" class=\"data row20 col3\" >1,312,760</td>\n",
       "                        <td id=\"T_a4d667e0_b09d_11ec_9c3e_f45c89a3ab6brow20_col4\" class=\"data row20 col4\" >766,344</td>\n",
       "                        <td id=\"T_a4d667e0_b09d_11ec_9c3e_f45c89a3ab6brow20_col5\" class=\"data row20 col5\" >3,794,986</td>\n",
       "                        <td id=\"T_a4d667e0_b09d_11ec_9c3e_f45c89a3ab6brow20_col6\" class=\"data row20 col6\" >5,117,840</td>\n",
       "                        <td id=\"T_a4d667e0_b09d_11ec_9c3e_f45c89a3ab6brow20_col7\" class=\"data row20 col7\" >0.742</td>\n",
       "            </tr>\n",
       "            <tr>\n",
       "                        <th id=\"T_a4d667e0_b09d_11ec_9c3e_f45c89a3ab6blevel0_row21\" class=\"row_heading level0 row21\" >21</th>\n",
       "                        <td id=\"T_a4d667e0_b09d_11ec_9c3e_f45c89a3ab6brow21_col0\" class=\"data row21 col0\" >Player21</td>\n",
       "                        <td id=\"T_a4d667e0_b09d_11ec_9c3e_f45c89a3ab6brow21_col1\" class=\"data row21 col1\" >1,605,504</td>\n",
       "                        <td id=\"T_a4d667e0_b09d_11ec_9c3e_f45c89a3ab6brow21_col2\" class=\"data row21 col2\" >1,286,268</td>\n",
       "                        <td id=\"T_a4d667e0_b09d_11ec_9c3e_f45c89a3ab6brow21_col3\" class=\"data row21 col3\" >725,331</td>\n",
       "                        <td id=\"T_a4d667e0_b09d_11ec_9c3e_f45c89a3ab6brow21_col4\" class=\"data row21 col4\" >344,892</td>\n",
       "                        <td id=\"T_a4d667e0_b09d_11ec_9c3e_f45c89a3ab6brow21_col5\" class=\"data row21 col5\" >3,961,995</td>\n",
       "                        <td id=\"T_a4d667e0_b09d_11ec_9c3e_f45c89a3ab6brow21_col6\" class=\"data row21 col6\" >3,774,000</td>\n",
       "                        <td id=\"T_a4d667e0_b09d_11ec_9c3e_f45c89a3ab6brow21_col7\" class=\"data row21 col7\" >1.050</td>\n",
       "            </tr>\n",
       "            <tr>\n",
       "                        <th id=\"T_a4d667e0_b09d_11ec_9c3e_f45c89a3ab6blevel0_row22\" class=\"row_heading level0 row22\" >22</th>\n",
       "                        <td id=\"T_a4d667e0_b09d_11ec_9c3e_f45c89a3ab6brow22_col0\" class=\"data row22 col0\" >Player22</td>\n",
       "                        <td id=\"T_a4d667e0_b09d_11ec_9c3e_f45c89a3ab6brow22_col1\" class=\"data row22 col1\" >1,572,000</td>\n",
       "                        <td id=\"T_a4d667e0_b09d_11ec_9c3e_f45c89a3ab6brow22_col2\" class=\"data row22 col2\" >1,354,792</td>\n",
       "                        <td id=\"T_a4d667e0_b09d_11ec_9c3e_f45c89a3ab6brow22_col3\" class=\"data row22 col3\" >840,196</td>\n",
       "                        <td id=\"T_a4d667e0_b09d_11ec_9c3e_f45c89a3ab6brow22_col4\" class=\"data row22 col4\" >430,354</td>\n",
       "                        <td id=\"T_a4d667e0_b09d_11ec_9c3e_f45c89a3ab6brow22_col5\" class=\"data row22 col5\" >4,197,342</td>\n",
       "                        <td id=\"T_a4d667e0_b09d_11ec_9c3e_f45c89a3ab6brow22_col6\" class=\"data row22 col6\" >4,164,572</td>\n",
       "                        <td id=\"T_a4d667e0_b09d_11ec_9c3e_f45c89a3ab6brow22_col7\" class=\"data row22 col7\" >1.008</td>\n",
       "            </tr>\n",
       "            <tr>\n",
       "                        <th id=\"T_a4d667e0_b09d_11ec_9c3e_f45c89a3ab6blevel0_row23\" class=\"row_heading level0 row23\" >23</th>\n",
       "                        <td id=\"T_a4d667e0_b09d_11ec_9c3e_f45c89a3ab6brow23_col0\" class=\"data row23 col0\" >Player14</td>\n",
       "                        <td id=\"T_a4d667e0_b09d_11ec_9c3e_f45c89a3ab6brow23_col1\" class=\"data row23 col1\" >1,571,464</td>\n",
       "                        <td id=\"T_a4d667e0_b09d_11ec_9c3e_f45c89a3ab6brow23_col2\" class=\"data row23 col2\" >1,300,000</td>\n",
       "                        <td id=\"T_a4d667e0_b09d_11ec_9c3e_f45c89a3ab6brow23_col3\" class=\"data row23 col3\" >1,239,500</td>\n",
       "                        <td id=\"T_a4d667e0_b09d_11ec_9c3e_f45c89a3ab6brow23_col4\" class=\"data row23 col4\" >327,303</td>\n",
       "                        <td id=\"T_a4d667e0_b09d_11ec_9c3e_f45c89a3ab6brow23_col5\" class=\"data row23 col5\" >4,438,267</td>\n",
       "                        <td id=\"T_a4d667e0_b09d_11ec_9c3e_f45c89a3ab6brow23_col6\" class=\"data row23 col6\" >4,194,500</td>\n",
       "                        <td id=\"T_a4d667e0_b09d_11ec_9c3e_f45c89a3ab6brow23_col7\" class=\"data row23 col7\" >1.058</td>\n",
       "            </tr>\n",
       "            <tr>\n",
       "                        <th id=\"T_a4d667e0_b09d_11ec_9c3e_f45c89a3ab6blevel0_row24\" class=\"row_heading level0 row24\" >24</th>\n",
       "                        <td id=\"T_a4d667e0_b09d_11ec_9c3e_f45c89a3ab6brow24_col0\" class=\"data row24 col0\" >Player33</td>\n",
       "                        <td id=\"T_a4d667e0_b09d_11ec_9c3e_f45c89a3ab6brow24_col1\" class=\"data row24 col1\" >1,570,000</td>\n",
       "                        <td id=\"T_a4d667e0_b09d_11ec_9c3e_f45c89a3ab6brow24_col2\" class=\"data row24 col2\" >1,347,984</td>\n",
       "                        <td id=\"T_a4d667e0_b09d_11ec_9c3e_f45c89a3ab6brow24_col3\" class=\"data row24 col3\" >1,219,076</td>\n",
       "                        <td id=\"T_a4d667e0_b09d_11ec_9c3e_f45c89a3ab6brow24_col4\" class=\"data row24 col4\" >422,628</td>\n",
       "                        <td id=\"T_a4d667e0_b09d_11ec_9c3e_f45c89a3ab6brow24_col5\" class=\"data row24 col5\" >4,559,688</td>\n",
       "                        <td id=\"T_a4d667e0_b09d_11ec_9c3e_f45c89a3ab6brow24_col6\" class=\"data row24 col6\" >4,400,000</td>\n",
       "                        <td id=\"T_a4d667e0_b09d_11ec_9c3e_f45c89a3ab6brow24_col7\" class=\"data row24 col7\" >1.036</td>\n",
       "            </tr>\n",
       "            <tr>\n",
       "                        <th id=\"T_a4d667e0_b09d_11ec_9c3e_f45c89a3ab6blevel0_row25\" class=\"row_heading level0 row25\" >25</th>\n",
       "                        <td id=\"T_a4d667e0_b09d_11ec_9c3e_f45c89a3ab6brow25_col0\" class=\"data row25 col0\" >Player03</td>\n",
       "                        <td id=\"T_a4d667e0_b09d_11ec_9c3e_f45c89a3ab6brow25_col1\" class=\"data row25 col1\" >1,500,000</td>\n",
       "                        <td id=\"T_a4d667e0_b09d_11ec_9c3e_f45c89a3ab6brow25_col2\" class=\"data row25 col2\" >1,280,000</td>\n",
       "                        <td id=\"T_a4d667e0_b09d_11ec_9c3e_f45c89a3ab6brow25_col3\" class=\"data row25 col3\" >1,174,824</td>\n",
       "                        <td id=\"T_a4d667e0_b09d_11ec_9c3e_f45c89a3ab6brow25_col4\" class=\"data row25 col4\" >813,714</td>\n",
       "                        <td id=\"T_a4d667e0_b09d_11ec_9c3e_f45c89a3ab6brow25_col5\" class=\"data row25 col5\" >4,768,538</td>\n",
       "                        <td id=\"T_a4d667e0_b09d_11ec_9c3e_f45c89a3ab6brow25_col6\" class=\"data row25 col6\" >4,523,620</td>\n",
       "                        <td id=\"T_a4d667e0_b09d_11ec_9c3e_f45c89a3ab6brow25_col7\" class=\"data row25 col7\" >1.054</td>\n",
       "            </tr>\n",
       "            <tr>\n",
       "                        <th id=\"T_a4d667e0_b09d_11ec_9c3e_f45c89a3ab6blevel0_row26\" class=\"row_heading level0 row26\" >26</th>\n",
       "                        <td id=\"T_a4d667e0_b09d_11ec_9c3e_f45c89a3ab6brow26_col0\" class=\"data row26 col0\" >Player32</td>\n",
       "                        <td id=\"T_a4d667e0_b09d_11ec_9c3e_f45c89a3ab6brow26_col1\" class=\"data row26 col1\" >1,475,560</td>\n",
       "                        <td id=\"T_a4d667e0_b09d_11ec_9c3e_f45c89a3ab6brow26_col2\" class=\"data row26 col2\" >1,272,000</td>\n",
       "                        <td id=\"T_a4d667e0_b09d_11ec_9c3e_f45c89a3ab6brow26_col3\" class=\"data row26 col3\" >926,184</td>\n",
       "                        <td id=\"T_a4d667e0_b09d_11ec_9c3e_f45c89a3ab6brow26_col4\" class=\"data row26 col4\" >114,500</td>\n",
       "                        <td id=\"T_a4d667e0_b09d_11ec_9c3e_f45c89a3ab6brow26_col5\" class=\"data row26 col5\" >3,788,244</td>\n",
       "                        <td id=\"T_a4d667e0_b09d_11ec_9c3e_f45c89a3ab6brow26_col6\" class=\"data row26 col6\" >3,430,100</td>\n",
       "                        <td id=\"T_a4d667e0_b09d_11ec_9c3e_f45c89a3ab6brow26_col7\" class=\"data row26 col7\" >1.104</td>\n",
       "            </tr>\n",
       "            <tr>\n",
       "                        <th id=\"T_a4d667e0_b09d_11ec_9c3e_f45c89a3ab6blevel0_row27\" class=\"row_heading level0 row27\" >27</th>\n",
       "                        <td id=\"T_a4d667e0_b09d_11ec_9c3e_f45c89a3ab6brow27_col0\" class=\"data row27 col0\" >Player01</td>\n",
       "                        <td id=\"T_a4d667e0_b09d_11ec_9c3e_f45c89a3ab6brow27_col1\" class=\"data row27 col1\" >1,261,000</td>\n",
       "                        <td id=\"T_a4d667e0_b09d_11ec_9c3e_f45c89a3ab6brow27_col2\" class=\"data row27 col2\" >1,103,784</td>\n",
       "                        <td id=\"T_a4d667e0_b09d_11ec_9c3e_f45c89a3ab6brow27_col3\" class=\"data row27 col3\" >825,100</td>\n",
       "                        <td id=\"T_a4d667e0_b09d_11ec_9c3e_f45c89a3ab6brow27_col4\" class=\"data row27 col4\" >763,384</td>\n",
       "                        <td id=\"T_a4d667e0_b09d_11ec_9c3e_f45c89a3ab6brow27_col5\" class=\"data row27 col5\" >3,953,268</td>\n",
       "                        <td id=\"T_a4d667e0_b09d_11ec_9c3e_f45c89a3ab6brow27_col6\" class=\"data row27 col6\" >3,627,147</td>\n",
       "                        <td id=\"T_a4d667e0_b09d_11ec_9c3e_f45c89a3ab6brow27_col7\" class=\"data row27 col7\" >1.090</td>\n",
       "            </tr>\n",
       "            <tr>\n",
       "                        <th id=\"T_a4d667e0_b09d_11ec_9c3e_f45c89a3ab6blevel0_row28\" class=\"row_heading level0 row28\" >28</th>\n",
       "                        <td id=\"T_a4d667e0_b09d_11ec_9c3e_f45c89a3ab6brow28_col0\" class=\"data row28 col0\" >Player30</td>\n",
       "                        <td id=\"T_a4d667e0_b09d_11ec_9c3e_f45c89a3ab6brow28_col1\" class=\"data row28 col1\" >1,218,438</td>\n",
       "                        <td id=\"T_a4d667e0_b09d_11ec_9c3e_f45c89a3ab6brow28_col2\" class=\"data row28 col2\" >710,694</td>\n",
       "                        <td id=\"T_a4d667e0_b09d_11ec_9c3e_f45c89a3ab6brow28_col3\" class=\"data row28 col3\" >737,000</td>\n",
       "                        <td id=\"T_a4d667e0_b09d_11ec_9c3e_f45c89a3ab6brow28_col4\" class=\"data row28 col4\" >445,972</td>\n",
       "                        <td id=\"T_a4d667e0_b09d_11ec_9c3e_f45c89a3ab6brow28_col5\" class=\"data row28 col5\" >3,112,104</td>\n",
       "                        <td id=\"T_a4d667e0_b09d_11ec_9c3e_f45c89a3ab6brow28_col6\" class=\"data row28 col6\" >2,990,376</td>\n",
       "                        <td id=\"T_a4d667e0_b09d_11ec_9c3e_f45c89a3ab6brow28_col7\" class=\"data row28 col7\" >1.041</td>\n",
       "            </tr>\n",
       "            <tr>\n",
       "                        <th id=\"T_a4d667e0_b09d_11ec_9c3e_f45c89a3ab6blevel0_row29\" class=\"row_heading level0 row29\" >29</th>\n",
       "                        <td id=\"T_a4d667e0_b09d_11ec_9c3e_f45c89a3ab6brow29_col0\" class=\"data row29 col0\" >Player38</td>\n",
       "                        <td id=\"T_a4d667e0_b09d_11ec_9c3e_f45c89a3ab6brow29_col1\" class=\"data row29 col1\" >1,193,223</td>\n",
       "                        <td id=\"T_a4d667e0_b09d_11ec_9c3e_f45c89a3ab6brow29_col2\" class=\"data row29 col2\" >945,747</td>\n",
       "                        <td id=\"T_a4d667e0_b09d_11ec_9c3e_f45c89a3ab6brow29_col3\" class=\"data row29 col3\" >754,482</td>\n",
       "                        <td id=\"T_a4d667e0_b09d_11ec_9c3e_f45c89a3ab6brow29_col4\" class=\"data row29 col4\" >667,776</td>\n",
       "                        <td id=\"T_a4d667e0_b09d_11ec_9c3e_f45c89a3ab6brow29_col5\" class=\"data row29 col5\" >3,561,228</td>\n",
       "                        <td id=\"T_a4d667e0_b09d_11ec_9c3e_f45c89a3ab6brow29_col6\" class=\"data row29 col6\" >3,340,000</td>\n",
       "                        <td id=\"T_a4d667e0_b09d_11ec_9c3e_f45c89a3ab6brow29_col7\" class=\"data row29 col7\" >1.066</td>\n",
       "            </tr>\n",
       "            <tr>\n",
       "                        <th id=\"T_a4d667e0_b09d_11ec_9c3e_f45c89a3ab6blevel0_row30\" class=\"row_heading level0 row30\" >30</th>\n",
       "                        <td id=\"T_a4d667e0_b09d_11ec_9c3e_f45c89a3ab6brow30_col0\" class=\"data row30 col0\" >Player31</td>\n",
       "                        <td id=\"T_a4d667e0_b09d_11ec_9c3e_f45c89a3ab6brow30_col1\" class=\"data row30 col1\" >1,160,000</td>\n",
       "                        <td id=\"T_a4d667e0_b09d_11ec_9c3e_f45c89a3ab6brow30_col2\" class=\"data row30 col2\" >747,348</td>\n",
       "                        <td id=\"T_a4d667e0_b09d_11ec_9c3e_f45c89a3ab6brow30_col3\" class=\"data row30 col3\" >761,493</td>\n",
       "                        <td id=\"T_a4d667e0_b09d_11ec_9c3e_f45c89a3ab6brow30_col4\" class=\"data row30 col4\" >420,024</td>\n",
       "                        <td id=\"T_a4d667e0_b09d_11ec_9c3e_f45c89a3ab6brow30_col5\" class=\"data row30 col5\" >3,088,865</td>\n",
       "                        <td id=\"T_a4d667e0_b09d_11ec_9c3e_f45c89a3ab6brow30_col6\" class=\"data row30 col6\" >2,960,487</td>\n",
       "                        <td id=\"T_a4d667e0_b09d_11ec_9c3e_f45c89a3ab6brow30_col7\" class=\"data row30 col7\" >1.043</td>\n",
       "            </tr>\n",
       "            <tr>\n",
       "                        <th id=\"T_a4d667e0_b09d_11ec_9c3e_f45c89a3ab6blevel0_row31\" class=\"row_heading level0 row31\" >31</th>\n",
       "                        <td id=\"T_a4d667e0_b09d_11ec_9c3e_f45c89a3ab6brow31_col0\" class=\"data row31 col0\" >Player00</td>\n",
       "                        <td id=\"T_a4d667e0_b09d_11ec_9c3e_f45c89a3ab6brow31_col1\" class=\"data row31 col1\" >1,150,419</td>\n",
       "                        <td id=\"T_a4d667e0_b09d_11ec_9c3e_f45c89a3ab6brow31_col2\" class=\"data row31 col2\" >883,000</td>\n",
       "                        <td id=\"T_a4d667e0_b09d_11ec_9c3e_f45c89a3ab6brow31_col3\" class=\"data row31 col3\" >821,148</td>\n",
       "                        <td id=\"T_a4d667e0_b09d_11ec_9c3e_f45c89a3ab6brow31_col4\" class=\"data row31 col4\" >528,804</td>\n",
       "                        <td id=\"T_a4d667e0_b09d_11ec_9c3e_f45c89a3ab6brow31_col5\" class=\"data row31 col5\" >3,383,371</td>\n",
       "                        <td id=\"T_a4d667e0_b09d_11ec_9c3e_f45c89a3ab6brow31_col6\" class=\"data row31 col6\" >3,119,772</td>\n",
       "                        <td id=\"T_a4d667e0_b09d_11ec_9c3e_f45c89a3ab6brow31_col7\" class=\"data row31 col7\" >1.084</td>\n",
       "            </tr>\n",
       "            <tr>\n",
       "                        <th id=\"T_a4d667e0_b09d_11ec_9c3e_f45c89a3ab6blevel0_row32\" class=\"row_heading level0 row32\" >32</th>\n",
       "                        <td id=\"T_a4d667e0_b09d_11ec_9c3e_f45c89a3ab6brow32_col0\" class=\"data row32 col0\" >Player37</td>\n",
       "                        <td id=\"T_a4d667e0_b09d_11ec_9c3e_f45c89a3ab6brow32_col1\" class=\"data row32 col1\" >1,060,260</td>\n",
       "                        <td id=\"T_a4d667e0_b09d_11ec_9c3e_f45c89a3ab6brow32_col2\" class=\"data row32 col2\" >712,293</td>\n",
       "                        <td id=\"T_a4d667e0_b09d_11ec_9c3e_f45c89a3ab6brow32_col3\" class=\"data row32 col3\" >618,000</td>\n",
       "                        <td id=\"T_a4d667e0_b09d_11ec_9c3e_f45c89a3ab6brow32_col4\" class=\"data row32 col4\" >400,000</td>\n",
       "                        <td id=\"T_a4d667e0_b09d_11ec_9c3e_f45c89a3ab6brow32_col5\" class=\"data row32 col5\" >2,790,553</td>\n",
       "                        <td id=\"T_a4d667e0_b09d_11ec_9c3e_f45c89a3ab6brow32_col6\" class=\"data row32 col6\" >2,416,335</td>\n",
       "                        <td id=\"T_a4d667e0_b09d_11ec_9c3e_f45c89a3ab6brow32_col7\" class=\"data row32 col7\" >1.155</td>\n",
       "            </tr>\n",
       "            <tr>\n",
       "                        <th id=\"T_a4d667e0_b09d_11ec_9c3e_f45c89a3ab6blevel0_row33\" class=\"row_heading level0 row33\" >33</th>\n",
       "                        <td id=\"T_a4d667e0_b09d_11ec_9c3e_f45c89a3ab6brow33_col0\" class=\"data row33 col0\" >Player25</td>\n",
       "                        <td id=\"T_a4d667e0_b09d_11ec_9c3e_f45c89a3ab6brow33_col1\" class=\"data row33 col1\" >924,345</td>\n",
       "                        <td id=\"T_a4d667e0_b09d_11ec_9c3e_f45c89a3ab6brow33_col2\" class=\"data row33 col2\" >789,045</td>\n",
       "                        <td id=\"T_a4d667e0_b09d_11ec_9c3e_f45c89a3ab6brow33_col3\" class=\"data row33 col3\" >732,834</td>\n",
       "                        <td id=\"T_a4d667e0_b09d_11ec_9c3e_f45c89a3ab6brow33_col4\" class=\"data row33 col4\" >312,000</td>\n",
       "                        <td id=\"T_a4d667e0_b09d_11ec_9c3e_f45c89a3ab6brow33_col5\" class=\"data row33 col5\" >2,758,224</td>\n",
       "                        <td id=\"T_a4d667e0_b09d_11ec_9c3e_f45c89a3ab6brow33_col6\" class=\"data row33 col6\" >2,645,730</td>\n",
       "                        <td id=\"T_a4d667e0_b09d_11ec_9c3e_f45c89a3ab6brow33_col7\" class=\"data row33 col7\" >1.043</td>\n",
       "            </tr>\n",
       "            <tr>\n",
       "                        <th id=\"T_a4d667e0_b09d_11ec_9c3e_f45c89a3ab6blevel0_row34\" class=\"row_heading level0 row34\" >34</th>\n",
       "                        <td id=\"T_a4d667e0_b09d_11ec_9c3e_f45c89a3ab6brow34_col0\" class=\"data row34 col0\" >Player18</td>\n",
       "                        <td id=\"T_a4d667e0_b09d_11ec_9c3e_f45c89a3ab6brow34_col1\" class=\"data row34 col1\" >899,130</td>\n",
       "                        <td id=\"T_a4d667e0_b09d_11ec_9c3e_f45c89a3ab6brow34_col2\" class=\"data row34 col2\" >641,691</td>\n",
       "                        <td id=\"T_a4d667e0_b09d_11ec_9c3e_f45c89a3ab6brow34_col3\" class=\"data row34 col3\" >853,374</td>\n",
       "                        <td id=\"T_a4d667e0_b09d_11ec_9c3e_f45c89a3ab6brow34_col4\" class=\"data row34 col4\" >641,814</td>\n",
       "                        <td id=\"T_a4d667e0_b09d_11ec_9c3e_f45c89a3ab6brow34_col5\" class=\"data row34 col5\" >3,036,009</td>\n",
       "                        <td id=\"T_a4d667e0_b09d_11ec_9c3e_f45c89a3ab6brow34_col6\" class=\"data row34 col6\" >1,634,748</td>\n",
       "                        <td id=\"T_a4d667e0_b09d_11ec_9c3e_f45c89a3ab6brow34_col7\" class=\"data row34 col7\" >1.857</td>\n",
       "            </tr>\n",
       "            <tr>\n",
       "                        <th id=\"T_a4d667e0_b09d_11ec_9c3e_f45c89a3ab6blevel0_row35\" class=\"row_heading level0 row35\" >35</th>\n",
       "                        <td id=\"T_a4d667e0_b09d_11ec_9c3e_f45c89a3ab6brow35_col0\" class=\"data row35 col0\" >Player11</td>\n",
       "                        <td id=\"T_a4d667e0_b09d_11ec_9c3e_f45c89a3ab6brow35_col1\" class=\"data row35 col1\" >nan</td>\n",
       "                        <td id=\"T_a4d667e0_b09d_11ec_9c3e_f45c89a3ab6brow35_col2\" class=\"data row35 col2\" >nan</td>\n",
       "                        <td id=\"T_a4d667e0_b09d_11ec_9c3e_f45c89a3ab6brow35_col3\" class=\"data row35 col3\" >nan</td>\n",
       "                        <td id=\"T_a4d667e0_b09d_11ec_9c3e_f45c89a3ab6brow35_col4\" class=\"data row35 col4\" >1,100,000</td>\n",
       "                        <td id=\"T_a4d667e0_b09d_11ec_9c3e_f45c89a3ab6brow35_col5\" class=\"data row35 col5\" >nan</td>\n",
       "                        <td id=\"T_a4d667e0_b09d_11ec_9c3e_f45c89a3ab6brow35_col6\" class=\"data row35 col6\" >nan</td>\n",
       "                        <td id=\"T_a4d667e0_b09d_11ec_9c3e_f45c89a3ab6brow35_col7\" class=\"data row35 col7\" >nan</td>\n",
       "            </tr>\n",
       "    </tbody></table>"
      ],
      "text/plain": [
       "<pandas.io.formats.style.Styler at 0x7ff2f2cb19a0>"
      ]
     },
     "execution_count": 110,
     "metadata": {},
     "output_type": "execute_result"
    }
   ],
   "source": [
    "def power_color(v, df, field):\n",
    "    m = df[field].mean()\n",
    "    s = df[field].std()\n",
    "\n",
    "    if v > m + s:\n",
    "        return 'background-color: rgb(255, 0, 0, 0.18)'\n",
    "    elif v < m - s:\n",
    "        return 'background-color: rgb(0, 255, 0, 0.18)'\n",
    "    else:\n",
    "        return None\n",
    "\n",
    "def ratio_color(v):\n",
    "    if v > 1.05:\n",
    "        return 'background-color: rgb(0, 255, 0, 0.18)'\n",
    "    elif v < 0.95:\n",
    "        return 'background-color: rgb(0, 0, 255, 0.18)'\n",
    "    else:\n",
    "        return None\n",
    "\n",
    "df = pd.read_csv('./data/to-formation-anonymous.csv')\n",
    "\n",
    "disp_df = df[['name', 'P1', 'P2', 'P3', 'P4', 'P_TOTAL', 'PLAYER_POWER', 'RATIO']]\\\n",
    "    .style\\\n",
    "    .applymap(lambda v: power_color(v, df, 'P1'), subset=['P1'])\\\n",
    "    .applymap(lambda v: power_color(v, df, 'P2'), subset=['P2'])\\\n",
    "    .applymap(lambda v: power_color(v, df, 'P3'), subset=['P3'])\\\n",
    "    .applymap(lambda v: power_color(v, df, 'P4'), subset=['P4'])\\\n",
    "    .applymap(lambda v: f'background-color: rgb(255, 0, 0, {v / df[\"PLAYER_POWER\"].max()})', subset=['PLAYER_POWER'])\\\n",
    "    .applymap(ratio_color, subset=['RATIO'])\\\n",
    "    .format({\n",
    "        'P1': '{:,.0f}',\n",
    "        'P2': '{:,.0f}',\n",
    "        'P3': '{:,.0f}',\n",
    "        'P4': '{:,.0f}',\n",
    "        'P_TOTAL': '{:,.0f}',\n",
    "        'PLAYER_POWER': '{:,.0f}',\n",
    "        'RATIO': '{:.3f}'\n",
    "    })\\\n",
    "    .highlight_null(null_color='rgb(255, 255, 0, 0.18)')\n",
    "\n",
    "disp_df"
   ]
  },
  {
   "cell_type": "markdown",
   "metadata": {},
   "source": [
    "### Serialization/Deserialization\n",
    "\n",
    "CSV is a popular way to store data from a Pandas DataFrame. If the data is large, it might be better to use compression to store the data in CSV format. Below, we simulate some fake data that is `large`. "
   ]
  },
  {
   "cell_type": "code",
   "execution_count": 111,
   "metadata": {},
   "outputs": [],
   "source": [
    "df = pd.DataFrame(((i for i in range(20)) for j in range(50_000)))"
   ]
  },
  {
   "cell_type": "code",
   "execution_count": 112,
   "metadata": {},
   "outputs": [
    {
     "data": {
      "text/plain": [
       "(50000, 20)"
      ]
     },
     "execution_count": 112,
     "metadata": {},
     "output_type": "execute_result"
    }
   ],
   "source": [
    "df.shape"
   ]
  },
  {
   "cell_type": "markdown",
   "metadata": {},
   "source": [
    "Let's see what the serialization times are for different compression methods.\n",
    "\n",
    "- no compression\n",
    "- zip compression\n",
    "- gzip compression\n",
    "- bzip2 compression\n",
    "- xz compression\n",
    "- [feather](https://arrow.apache.org/docs/python/feather.html) compression (available for download at [PyPi](https://pypi.org/project/feather-format/))\n",
    "\n",
    "DO NOT trust these results. A more complete comparison of different formats is analyzed [elsewhere](https://towardsdatascience.com/the-best-format-to-save-pandas-data-414dca023e0d)."
   ]
  },
  {
   "cell_type": "code",
   "execution_count": 113,
   "metadata": {},
   "outputs": [
    {
     "name": "stdout",
     "output_type": "stream",
     "text": [
      "CPU times: user 217 ms, sys: 6.25 ms, total: 223 ms\n",
      "Wall time: 222 ms\n"
     ]
    }
   ],
   "source": [
    "%%time\n",
    "\n",
    "df.to_csv('./_temp/df.csv')"
   ]
  },
  {
   "cell_type": "code",
   "execution_count": 114,
   "metadata": {},
   "outputs": [
    {
     "name": "stdout",
     "output_type": "stream",
     "text": [
      "CPU times: user 231 ms, sys: 5.17 ms, total: 236 ms\n",
      "Wall time: 235 ms\n"
     ]
    }
   ],
   "source": [
    "%%time\n",
    "\n",
    "df.to_csv('./_temp/df.csv.zip', compression='zip')"
   ]
  },
  {
   "cell_type": "code",
   "execution_count": 115,
   "metadata": {},
   "outputs": [
    {
     "name": "stdout",
     "output_type": "stream",
     "text": [
      "CPU times: user 275 ms, sys: 2.87 ms, total: 278 ms\n",
      "Wall time: 277 ms\n"
     ]
    }
   ],
   "source": [
    "%%time\n",
    "\n",
    "df.to_csv('./_temp/df.csv.gz', compression='gzip')"
   ]
  },
  {
   "cell_type": "code",
   "execution_count": 116,
   "metadata": {},
   "outputs": [
    {
     "name": "stdout",
     "output_type": "stream",
     "text": [
      "CPU times: user 521 ms, sys: 5.02 ms, total: 526 ms\n",
      "Wall time: 526 ms\n"
     ]
    }
   ],
   "source": [
    "%%time\n",
    "\n",
    "df.to_csv('./_temp/df.csv.bz2', compression='bz2')"
   ]
  },
  {
   "cell_type": "code",
   "execution_count": 117,
   "metadata": {},
   "outputs": [
    {
     "name": "stdout",
     "output_type": "stream",
     "text": [
      "CPU times: user 1.25 s, sys: 19.9 ms, total: 1.27 s\n",
      "Wall time: 1.27 s\n"
     ]
    }
   ],
   "source": [
    "%%time\n",
    "\n",
    "df.to_csv('./_temp/df.csv.xz', compression='xz')"
   ]
  },
  {
   "cell_type": "code",
   "execution_count": 118,
   "metadata": {},
   "outputs": [
    {
     "name": "stdout",
     "output_type": "stream",
     "text": [
      "CPU times: user 61.2 ms, sys: 9.06 ms, total: 70.3 ms\n",
      "Wall time: 66.8 ms\n"
     ]
    }
   ],
   "source": [
    "%%time\n",
    "import pyarrow.feather as feather\n",
    "\n",
    "feather.write_feather(df, './_temp/df.feather')"
   ]
  },
  {
   "cell_type": "markdown",
   "metadata": {},
   "source": [
    "Here are the deserialization times for each compression method."
   ]
  },
  {
   "cell_type": "code",
   "execution_count": 119,
   "metadata": {},
   "outputs": [
    {
     "name": "stdout",
     "output_type": "stream",
     "text": [
      "CPU times: user 54 ms, sys: 17.9 ms, total: 71.8 ms\n",
      "Wall time: 71.1 ms\n"
     ]
    }
   ],
   "source": [
    "%%time\n",
    "\n",
    "_ = pd.read_csv('./_temp/df.csv', index_col=0)"
   ]
  },
  {
   "cell_type": "code",
   "execution_count": 120,
   "metadata": {},
   "outputs": [
    {
     "name": "stdout",
     "output_type": "stream",
     "text": [
      "CPU times: user 58.6 ms, sys: 16.5 ms, total: 75.1 ms\n",
      "Wall time: 75.3 ms\n"
     ]
    }
   ],
   "source": [
    "%%time\n",
    "\n",
    "_ = pd.read_csv('./_temp/df.csv.zip', index_col=0, compression='zip')"
   ]
  },
  {
   "cell_type": "code",
   "execution_count": 121,
   "metadata": {},
   "outputs": [
    {
     "name": "stdout",
     "output_type": "stream",
     "text": [
      "CPU times: user 57.9 ms, sys: 16.4 ms, total: 74.4 ms\n",
      "Wall time: 74.2 ms\n"
     ]
    }
   ],
   "source": [
    "%%time\n",
    "\n",
    "_ = pd.read_csv('./_temp/df.csv.gz', index_col=0, compression='gzip')"
   ]
  },
  {
   "cell_type": "code",
   "execution_count": 122,
   "metadata": {},
   "outputs": [
    {
     "name": "stdout",
     "output_type": "stream",
     "text": [
      "CPU times: user 91.1 ms, sys: 20.1 ms, total: 111 ms\n",
      "Wall time: 111 ms\n"
     ]
    }
   ],
   "source": [
    "%%time\n",
    "\n",
    "_ = pd.read_csv('./_temp/df.csv.bz2', index_col=0, compression='bz2')"
   ]
  },
  {
   "cell_type": "code",
   "execution_count": 123,
   "metadata": {},
   "outputs": [
    {
     "name": "stdout",
     "output_type": "stream",
     "text": [
      "CPU times: user 61.5 ms, sys: 18.2 ms, total: 79.7 ms\n",
      "Wall time: 79.6 ms\n"
     ]
    }
   ],
   "source": [
    "%%time\n",
    "\n",
    "_ = pd.read_csv('./_temp/df.csv.xz', index_col=0, compression='xz')"
   ]
  },
  {
   "cell_type": "code",
   "execution_count": 124,
   "metadata": {
    "tags": []
   },
   "outputs": [
    {
     "name": "stdout",
     "output_type": "stream",
     "text": [
      "CPU times: user 8.42 ms, sys: 20.3 ms, total: 28.7 ms\n",
      "Wall time: 6.14 ms\n"
     ]
    }
   ],
   "source": [
    "%%time\n",
    "\n",
    "_ = feather.read_feather('./_temp/df.feather')"
   ]
  }
 ],
 "metadata": {
  "kernelspec": {
   "display_name": "Python 3",
   "language": "python",
   "name": "python3"
  },
  "language_info": {
   "codemirror_mode": {
    "name": "ipython",
    "version": 3
   },
   "file_extension": ".py",
   "mimetype": "text/x-python",
   "name": "python",
   "nbconvert_exporter": "python",
   "pygments_lexer": "ipython3",
   "version": "3.8.3"
  },
  "widgets": {
   "application/vnd.jupyter.widget-state+json": {
    "state": {},
    "version_major": 2,
    "version_minor": 0
   }
  }
 },
 "nbformat": 4,
 "nbformat_minor": 4
}
