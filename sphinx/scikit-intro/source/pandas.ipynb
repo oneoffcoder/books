{
 "cells": [
  {
   "cell_type": "markdown",
   "metadata": {},
   "source": [
    "# Pandas\n",
    "\n",
    "`pandas` stands for [Python Data Analysis Library](https://pandas.pydata.org/). Two of the main data structures in pandas are `Series` and `DataFrame`. The `series` data structure is a glorified list with batteries included, and the `dataframe` is a glorified table with extra, extra batteries included. You get a lot of additional and handy features by using these data structures to store and represent your data as lists or tables. "
   ]
  },
  {
   "cell_type": "markdown",
   "metadata": {},
   "source": [
    "## Pandas Series\n",
    "\n",
    "The easiest way to understand a `Series` is to simply create one. At the data level, a series is simply just a list of data."
   ]
  },
  {
   "cell_type": "code",
   "execution_count": 1,
   "metadata": {},
   "outputs": [
    {
     "data": {
      "text/plain": [
       "0    1\n",
       "1    2\n",
       "2    3\n",
       "3    4\n",
       "dtype: int64"
      ]
     },
     "execution_count": 1,
     "metadata": {},
     "output_type": "execute_result"
    }
   ],
   "source": [
    "import pandas as pd\n",
    "\n",
    "s = pd.Series([1, 2, 3, 4])\n",
    "s"
   ]
  },
  {
   "cell_type": "markdown",
   "metadata": {},
   "source": [
    "With every element in the list is a corresponding index. The index may not seem important at first glance, but it is very important later when you need to filter or slice the series. If you do not specify the index for each element, a sequential and numeric one is created automatically (starting from zero). Here is how you can create a series with the index specified."
   ]
  },
  {
   "cell_type": "code",
   "execution_count": 2,
   "metadata": {},
   "outputs": [
    {
     "data": {
      "text/plain": [
       "10    1\n",
       "11    2\n",
       "12    3\n",
       "13    4\n",
       "dtype: int64"
      ]
     },
     "execution_count": 2,
     "metadata": {},
     "output_type": "execute_result"
    }
   ],
   "source": [
    "s = pd.Series([1, 2, 3, 4], index=[10, 11, 12, 13])\n",
    "s"
   ]
  },
  {
   "cell_type": "markdown",
   "metadata": {},
   "source": [
    "The index can also be string type."
   ]
  },
  {
   "cell_type": "code",
   "execution_count": 3,
   "metadata": {},
   "outputs": [
    {
     "data": {
      "text/plain": [
       "a    1\n",
       "b    2\n",
       "c    3\n",
       "d    4\n",
       "dtype: int64"
      ]
     },
     "execution_count": 3,
     "metadata": {},
     "output_type": "execute_result"
    }
   ],
   "source": [
    "s = pd.Series([1, 2, 3, 4], index=['a', 'b', 'c', 'd'])\n",
    "s"
   ]
  },
  {
   "cell_type": "markdown",
   "metadata": {},
   "source": [
    "You can access the `index` and `values` of a series individually."
   ]
  },
  {
   "cell_type": "code",
   "execution_count": 4,
   "metadata": {},
   "outputs": [
    {
     "data": {
      "text/plain": [
       "Index(['a', 'b', 'c', 'd'], dtype='object')"
      ]
     },
     "execution_count": 4,
     "metadata": {},
     "output_type": "execute_result"
    }
   ],
   "source": [
    "s.index"
   ]
  },
  {
   "cell_type": "code",
   "execution_count": 5,
   "metadata": {},
   "outputs": [
    {
     "data": {
      "text/plain": [
       "array([1, 2, 3, 4])"
      ]
     },
     "execution_count": 5,
     "metadata": {},
     "output_type": "execute_result"
    }
   ],
   "source": [
    "s.values"
   ]
  },
  {
   "cell_type": "markdown",
   "metadata": {},
   "source": [
    "Why would you ever want string values for an index? Let's say we have a count of left and right handedness in a room. We can represent this data as a series."
   ]
  },
  {
   "cell_type": "code",
   "execution_count": 6,
   "metadata": {},
   "outputs": [
    {
     "data": {
      "text/plain": [
       "left     10\n",
       "right    15\n",
       "dtype: int64"
      ]
     },
     "execution_count": 6,
     "metadata": {},
     "output_type": "execute_result"
    }
   ],
   "source": [
    "s = pd.Series([10, 15], index=['left', 'right'])\n",
    "s"
   ]
  },
  {
   "cell_type": "markdown",
   "metadata": {},
   "source": [
    "And then, we can magically plot the bar chart showing the counts of left and right handedness in the room."
   ]
  },
  {
   "cell_type": "code",
   "execution_count": 7,
   "metadata": {},
   "outputs": [
    {
     "data": {
      "image/png": "[encoded data removed]",
      "text/plain": [
       "<Figure size 360x216 with 1 Axes>"
      ]
     },
     "metadata": {},
     "output_type": "display_data"
    }
   ],
   "source": [
    "import matplotlib.pyplot as plt\n",
    "plt.style.use('ggplot')\n",
    "\n",
    "fig, ax = plt.subplots(figsize=(5, 3))\n",
    "_ = s.plot(kind='bar', ax=ax)"
   ]
  },
  {
   "cell_type": "markdown",
   "metadata": {},
   "source": [
    "### Functions\n",
    "\n",
    "There are just too many useful functions attached to a series. Here's a few that are interesting."
   ]
  },
  {
   "cell_type": "code",
   "execution_count": 8,
   "metadata": {},
   "outputs": [
    {
     "data": {
      "image/png": "[encoded data removed]",
      "text/plain": [
       "<Figure size 360x216 with 1 Axes>"
      ]
     },
     "metadata": {},
     "output_type": "display_data"
    }
   ],
   "source": [
    "s = pd.Series([1, 2, 3, 4, 5], index=['a', 'b', 'c', 'd', 'e'])\n",
    "_mean = s.mean()\n",
    "_min = s.min()\n",
    "_max = s.max()\n",
    "_std = s.std()\n",
    "\n",
    "fig, ax = plt.subplots(figsize=(5, 3))\n",
    "_ = s.cumsum().plot(kind='bar', ax=ax)\n",
    "_ = s.cumsum().plot(kind='line', ax=ax, color='blue')\n",
    "_ = ax.set_title(f'min={_min:.2f}, mean={_mean:.2f}, max={_max:.2f}, std={_std:.2f}')"
   ]
  },
  {
   "cell_type": "markdown",
   "metadata": {},
   "source": [
    "The `value_counts()` function can quickly give you the frequencies of unique values."
   ]
  },
  {
   "cell_type": "code",
   "execution_count": 9,
   "metadata": {},
   "outputs": [
    {
     "data": {
      "text/plain": [
       "4    4\n",
       "2    3\n",
       "1    2\n",
       "3    2\n",
       "dtype: int64"
      ]
     },
     "execution_count": 9,
     "metadata": {},
     "output_type": "execute_result"
    }
   ],
   "source": [
    "s = pd.Series([1, 1, 2, 2, 2, 3, 3, 4, 4, 4, 4])\n",
    "s.value_counts()"
   ]
  },
  {
   "cell_type": "markdown",
   "metadata": {},
   "source": [
    "### Filtering\n",
    "\n",
    "Filtering is important. Let's see how to filter based on values."
   ]
  },
  {
   "cell_type": "code",
   "execution_count": 10,
   "metadata": {},
   "outputs": [
    {
     "data": {
      "text/plain": [
       "2    3\n",
       "3    4\n",
       "dtype: int64"
      ]
     },
     "execution_count": 10,
     "metadata": {},
     "output_type": "execute_result"
    }
   ],
   "source": [
    "s = pd.Series([1, 2, 3, 4])\n",
    "s1 = s[s > 2]\n",
    "s1"
   ]
  },
  {
   "cell_type": "markdown",
   "metadata": {},
   "source": [
    "How do we filter based on index?"
   ]
  },
  {
   "cell_type": "code",
   "execution_count": 11,
   "metadata": {},
   "outputs": [
    {
     "data": {
      "text/plain": [
       "0    1\n",
       "1    2\n",
       "dtype: int64"
      ]
     },
     "execution_count": 11,
     "metadata": {},
     "output_type": "execute_result"
    }
   ],
   "source": [
    "s2 = s[s.index < 2]\n",
    "s2"
   ]
  },
  {
   "cell_type": "code",
   "execution_count": 12,
   "metadata": {},
   "outputs": [
    {
     "data": {
      "text/plain": [
       "0    1\n",
       "1    2\n",
       "dtype: int64"
      ]
     },
     "execution_count": 12,
     "metadata": {},
     "output_type": "execute_result"
    }
   ],
   "source": [
    "s2 = s[s.index.isin([0, 1])]\n",
    "s2"
   ]
  },
  {
   "cell_type": "markdown",
   "metadata": {},
   "source": [
    "### Iteration\n",
    "\n",
    "Iteration of the index and values of a series is accomplished with `zip`."
   ]
  },
  {
   "cell_type": "code",
   "execution_count": 13,
   "metadata": {},
   "outputs": [
    {
     "name": "stdout",
     "output_type": "stream",
     "text": [
      "a: 1\n",
      "b: 2\n",
      "c: 3\n",
      "d: 4\n",
      "e: 5\n"
     ]
    }
   ],
   "source": [
    "s = pd.Series([1, 2, 3, 4, 5], index=['a', 'b', 'c', 'd', 'e'])\n",
    "for i, v in zip(s.index, s.values):\n",
    "    print(f'{i}: {v}')"
   ]
  },
  {
   "cell_type": "markdown",
   "metadata": {},
   "source": [
    "## Pandas Dataframes\n",
    "\n",
    "Dataframes are the most powerful data structure in pandas. As a start, it's helpful to simply think of a dataframe as a table. Below, we create a dataframe from a list of tuples, where each tuple is a pair of numbers. Notice how the columns are not specified and so they default to *0* and *1*, and the index is not specified so a numeric, sequential one is created."
   ]
  },
  {
   "cell_type": "code",
   "execution_count": 14,
   "metadata": {},
   "outputs": [
    {
     "data": {
      "text/html": [
       "<div>\n",
       "<style scoped>\n",
       "    .dataframe tbody tr th:only-of-type {\n",
       "        vertical-align: middle;\n",
       "    }\n",
       "\n",
       "    .dataframe tbody tr th {\n",
       "        vertical-align: top;\n",
       "    }\n",
       "\n",
       "    .dataframe thead th {\n",
       "        text-align: right;\n",
       "    }\n",
       "</style>\n",
       "<table border=\"1\" class=\"dataframe\">\n",
       "  <thead>\n",
       "    <tr style=\"text-align: right;\">\n",
       "      <th></th>\n",
       "      <th>0</th>\n",
       "      <th>1</th>\n",
       "    </tr>\n",
       "  </thead>\n",
       "  <tbody>\n",
       "    <tr>\n",
       "      <th>0</th>\n",
       "      <td>1</td>\n",
       "      <td>2</td>\n",
       "    </tr>\n",
       "    <tr>\n",
       "      <th>1</th>\n",
       "      <td>3</td>\n",
       "      <td>4</td>\n",
       "    </tr>\n",
       "    <tr>\n",
       "      <th>2</th>\n",
       "      <td>5</td>\n",
       "      <td>6</td>\n",
       "    </tr>\n",
       "  </tbody>\n",
       "</table>\n",
       "</div>"
      ],
      "text/plain": [
       "   0  1\n",
       "0  1  2\n",
       "1  3  4\n",
       "2  5  6"
      ]
     },
     "execution_count": 14,
     "metadata": {},
     "output_type": "execute_result"
    }
   ],
   "source": [
    "df = pd.DataFrame([(1, 2), (3, 4), (5, 6)])\n",
    "df"
   ]
  },
  {
   "cell_type": "markdown",
   "metadata": {},
   "source": [
    "If we wanted to specify the column names, supply a list of column names."
   ]
  },
  {
   "cell_type": "code",
   "execution_count": 15,
   "metadata": {},
   "outputs": [
    {
     "data": {
      "text/html": [
       "<div>\n",
       "<style scoped>\n",
       "    .dataframe tbody tr th:only-of-type {\n",
       "        vertical-align: middle;\n",
       "    }\n",
       "\n",
       "    .dataframe tbody tr th {\n",
       "        vertical-align: top;\n",
       "    }\n",
       "\n",
       "    .dataframe thead th {\n",
       "        text-align: right;\n",
       "    }\n",
       "</style>\n",
       "<table border=\"1\" class=\"dataframe\">\n",
       "  <thead>\n",
       "    <tr style=\"text-align: right;\">\n",
       "      <th></th>\n",
       "      <th>x</th>\n",
       "      <th>y</th>\n",
       "    </tr>\n",
       "  </thead>\n",
       "  <tbody>\n",
       "    <tr>\n",
       "      <th>0</th>\n",
       "      <td>1</td>\n",
       "      <td>2</td>\n",
       "    </tr>\n",
       "    <tr>\n",
       "      <th>1</th>\n",
       "      <td>3</td>\n",
       "      <td>4</td>\n",
       "    </tr>\n",
       "    <tr>\n",
       "      <th>2</th>\n",
       "      <td>5</td>\n",
       "      <td>6</td>\n",
       "    </tr>\n",
       "  </tbody>\n",
       "</table>\n",
       "</div>"
      ],
      "text/plain": [
       "   x  y\n",
       "0  1  2\n",
       "1  3  4\n",
       "2  5  6"
      ]
     },
     "execution_count": 15,
     "metadata": {},
     "output_type": "execute_result"
    }
   ],
   "source": [
    "df = pd.DataFrame([(1, 2), (3, 4), (5, 6)], columns=['x', 'y'])\n",
    "df"
   ]
  },
  {
   "cell_type": "markdown",
   "metadata": {},
   "source": [
    "If we need to specify the index, supply a list of index for each row."
   ]
  },
  {
   "cell_type": "code",
   "execution_count": 16,
   "metadata": {},
   "outputs": [
    {
     "data": {
      "text/html": [
       "<div>\n",
       "<style scoped>\n",
       "    .dataframe tbody tr th:only-of-type {\n",
       "        vertical-align: middle;\n",
       "    }\n",
       "\n",
       "    .dataframe tbody tr th {\n",
       "        vertical-align: top;\n",
       "    }\n",
       "\n",
       "    .dataframe thead th {\n",
       "        text-align: right;\n",
       "    }\n",
       "</style>\n",
       "<table border=\"1\" class=\"dataframe\">\n",
       "  <thead>\n",
       "    <tr style=\"text-align: right;\">\n",
       "      <th></th>\n",
       "      <th>x</th>\n",
       "      <th>y</th>\n",
       "    </tr>\n",
       "  </thead>\n",
       "  <tbody>\n",
       "    <tr>\n",
       "      <th>a</th>\n",
       "      <td>1</td>\n",
       "      <td>2</td>\n",
       "    </tr>\n",
       "    <tr>\n",
       "      <th>b</th>\n",
       "      <td>3</td>\n",
       "      <td>4</td>\n",
       "    </tr>\n",
       "    <tr>\n",
       "      <th>c</th>\n",
       "      <td>5</td>\n",
       "      <td>6</td>\n",
       "    </tr>\n",
       "  </tbody>\n",
       "</table>\n",
       "</div>"
      ],
      "text/plain": [
       "   x  y\n",
       "a  1  2\n",
       "b  3  4\n",
       "c  5  6"
      ]
     },
     "execution_count": 16,
     "metadata": {},
     "output_type": "execute_result"
    }
   ],
   "source": [
    "df = pd.DataFrame([(1, 2), (3, 4), (5, 6)], columns=['x', 'y'], index=['a', 'b', 'c'])\n",
    "df"
   ]
  },
  {
   "cell_type": "markdown",
   "metadata": {},
   "source": [
    "There's other ways to create a dataframe. Let's use a list of dictionaries. Notice how we do not need to supply a list of column names?"
   ]
  },
  {
   "cell_type": "code",
   "execution_count": 17,
   "metadata": {},
   "outputs": [
    {
     "data": {
      "text/html": [
       "<div>\n",
       "<style scoped>\n",
       "    .dataframe tbody tr th:only-of-type {\n",
       "        vertical-align: middle;\n",
       "    }\n",
       "\n",
       "    .dataframe tbody tr th {\n",
       "        vertical-align: top;\n",
       "    }\n",
       "\n",
       "    .dataframe thead th {\n",
       "        text-align: right;\n",
       "    }\n",
       "</style>\n",
       "<table border=\"1\" class=\"dataframe\">\n",
       "  <thead>\n",
       "    <tr style=\"text-align: right;\">\n",
       "      <th></th>\n",
       "      <th>x</th>\n",
       "      <th>y</th>\n",
       "    </tr>\n",
       "  </thead>\n",
       "  <tbody>\n",
       "    <tr>\n",
       "      <th>a</th>\n",
       "      <td>1</td>\n",
       "      <td>2</td>\n",
       "    </tr>\n",
       "    <tr>\n",
       "      <th>b</th>\n",
       "      <td>3</td>\n",
       "      <td>4</td>\n",
       "    </tr>\n",
       "    <tr>\n",
       "      <th>c</th>\n",
       "      <td>5</td>\n",
       "      <td>6</td>\n",
       "    </tr>\n",
       "  </tbody>\n",
       "</table>\n",
       "</div>"
      ],
      "text/plain": [
       "   x  y\n",
       "a  1  2\n",
       "b  3  4\n",
       "c  5  6"
      ]
     },
     "execution_count": 17,
     "metadata": {},
     "output_type": "execute_result"
    }
   ],
   "source": [
    "df = pd.DataFrame([\n",
    "    {'x': 1, 'y': 2},\n",
    "    {'x': 3, 'y': 4},\n",
    "    {'x': 5, 'y': 6}\n",
    "], index=['a', 'b', 'c'])\n",
    "df"
   ]
  },
  {
   "cell_type": "markdown",
   "metadata": {},
   "source": [
    "Above, we used a list of dictionaries, below, we use a dictionary of lists."
   ]
  },
  {
   "cell_type": "code",
   "execution_count": 18,
   "metadata": {},
   "outputs": [
    {
     "data": {
      "text/html": [
       "<div>\n",
       "<style scoped>\n",
       "    .dataframe tbody tr th:only-of-type {\n",
       "        vertical-align: middle;\n",
       "    }\n",
       "\n",
       "    .dataframe tbody tr th {\n",
       "        vertical-align: top;\n",
       "    }\n",
       "\n",
       "    .dataframe thead th {\n",
       "        text-align: right;\n",
       "    }\n",
       "</style>\n",
       "<table border=\"1\" class=\"dataframe\">\n",
       "  <thead>\n",
       "    <tr style=\"text-align: right;\">\n",
       "      <th></th>\n",
       "      <th>x</th>\n",
       "      <th>y</th>\n",
       "    </tr>\n",
       "  </thead>\n",
       "  <tbody>\n",
       "    <tr>\n",
       "      <th>a</th>\n",
       "      <td>1</td>\n",
       "      <td>2</td>\n",
       "    </tr>\n",
       "    <tr>\n",
       "      <th>b</th>\n",
       "      <td>3</td>\n",
       "      <td>4</td>\n",
       "    </tr>\n",
       "    <tr>\n",
       "      <th>c</th>\n",
       "      <td>4</td>\n",
       "      <td>5</td>\n",
       "    </tr>\n",
       "  </tbody>\n",
       "</table>\n",
       "</div>"
      ],
      "text/plain": [
       "   x  y\n",
       "a  1  2\n",
       "b  3  4\n",
       "c  4  5"
      ]
     },
     "execution_count": 18,
     "metadata": {},
     "output_type": "execute_result"
    }
   ],
   "source": [
    "df = pd.DataFrame({\n",
    "    'x': [1, 3, 4],\n",
    "    'y': [2, 4, 5]\n",
    "}, index=['a', 'b', 'c'])\n",
    "df"
   ]
  },
  {
   "cell_type": "markdown",
   "metadata": {},
   "source": [
    "### Properties\n",
    "There's a lot of neat and useful properties and functions attached to a dataframe. The `dtypes` property gives you the data types of your fields."
   ]
  },
  {
   "cell_type": "code",
   "execution_count": 19,
   "metadata": {},
   "outputs": [
    {
     "data": {
      "text/plain": [
       "x    int64\n",
       "y    int64\n",
       "dtype: object"
      ]
     },
     "execution_count": 19,
     "metadata": {},
     "output_type": "execute_result"
    }
   ],
   "source": [
    "df.dtypes"
   ]
  },
  {
   "cell_type": "markdown",
   "metadata": {},
   "source": [
    "You can set the type of your data when you create a data frame by supplying the `dtype` value."
   ]
  },
  {
   "cell_type": "code",
   "execution_count": 20,
   "metadata": {},
   "outputs": [
    {
     "data": {
      "text/plain": [
       "x    int32\n",
       "y    int32\n",
       "dtype: object"
      ]
     },
     "execution_count": 20,
     "metadata": {},
     "output_type": "execute_result"
    }
   ],
   "source": [
    "df = pd.DataFrame({\n",
    "    'x': [1, 3, 4],\n",
    "    'y': [2, 4, 5]\n",
    "}, index=['a', 'b', 'c'], dtype='int32')\n",
    "df.dtypes"
   ]
  },
  {
   "cell_type": "markdown",
   "metadata": {},
   "source": [
    "Look at what happens when you have missing values and do not specify the type. The `y` column is now of type `float64`."
   ]
  },
  {
   "cell_type": "code",
   "execution_count": 21,
   "metadata": {},
   "outputs": [
    {
     "data": {
      "text/plain": [
       "x      int64\n",
       "y    float64\n",
       "dtype: object"
      ]
     },
     "execution_count": 21,
     "metadata": {},
     "output_type": "execute_result"
    }
   ],
   "source": [
    "df = pd.DataFrame({\n",
    "    'x': [1, 3, 4],\n",
    "    'y': [2, 4, None]\n",
    "}, index=['a', 'b', 'c'])\n",
    "df.dtypes"
   ]
  },
  {
   "cell_type": "markdown",
   "metadata": {},
   "source": [
    "Look at what happens when you have missing values and attempt to specify the type. The `y` column is now of type `object`."
   ]
  },
  {
   "cell_type": "code",
   "execution_count": 22,
   "metadata": {},
   "outputs": [
    {
     "data": {
      "text/plain": [
       "x     int32\n",
       "y    object\n",
       "dtype: object"
      ]
     },
     "execution_count": 22,
     "metadata": {},
     "output_type": "execute_result"
    }
   ],
   "source": [
    "df = pd.DataFrame({\n",
    "    'x': [1, 3, 4],\n",
    "    'y': [2, 4, None]\n",
    "}, index=['a', 'b', 'c'], dtype='int32')\n",
    "df.dtypes"
   ]
  },
  {
   "cell_type": "markdown",
   "metadata": {},
   "source": [
    "If you need to know the dimensions of your dataframe, use the `shape` property."
   ]
  },
  {
   "cell_type": "code",
   "execution_count": 23,
   "metadata": {},
   "outputs": [
    {
     "data": {
      "text/plain": [
       "(3, 2)"
      ]
     },
     "execution_count": 23,
     "metadata": {},
     "output_type": "execute_result"
    }
   ],
   "source": [
    "df = pd.DataFrame({\n",
    "    'x': [1, 3, 4],\n",
    "    'y': [2, 4, 5]\n",
    "}, index=['a', 'b', 'c'])\n",
    "\n",
    "df.shape"
   ]
  },
  {
   "cell_type": "markdown",
   "metadata": {},
   "source": [
    "You can turn your dataframe into a `numpy` array using `values`."
   ]
  },
  {
   "cell_type": "code",
   "execution_count": 24,
   "metadata": {},
   "outputs": [
    {
     "data": {
      "text/plain": [
       "array([[1, 2],\n",
       "       [3, 4],\n",
       "       [4, 5]])"
      ]
     },
     "execution_count": 24,
     "metadata": {},
     "output_type": "execute_result"
    }
   ],
   "source": [
    "df.values"
   ]
  },
  {
   "cell_type": "markdown",
   "metadata": {},
   "source": [
    "### Columns or fields\n",
    "\n",
    "You can access each column by bracket `[]` or dot notation `.`. To access a column by name, specify the column name inside the brackets."
   ]
  },
  {
   "cell_type": "code",
   "execution_count": 25,
   "metadata": {},
   "outputs": [
    {
     "data": {
      "text/plain": [
       "a    1\n",
       "b    3\n",
       "c    4\n",
       "Name: x, dtype: int64"
      ]
     },
     "execution_count": 25,
     "metadata": {},
     "output_type": "execute_result"
    }
   ],
   "source": [
    "df['x']"
   ]
  },
  {
   "cell_type": "code",
   "execution_count": 26,
   "metadata": {},
   "outputs": [
    {
     "data": {
      "text/plain": [
       "a    2\n",
       "b    4\n",
       "c    5\n",
       "Name: y, dtype: int64"
      ]
     },
     "execution_count": 26,
     "metadata": {},
     "output_type": "execute_result"
    }
   ],
   "source": [
    "df['y']"
   ]
  },
  {
   "cell_type": "markdown",
   "metadata": {},
   "source": [
    "Multiple columns may be selecting by passing a list of column names."
   ]
  },
  {
   "cell_type": "code",
   "execution_count": 27,
   "metadata": {},
   "outputs": [
    {
     "data": {
      "text/html": [
       "<div>\n",
       "<style scoped>\n",
       "    .dataframe tbody tr th:only-of-type {\n",
       "        vertical-align: middle;\n",
       "    }\n",
       "\n",
       "    .dataframe tbody tr th {\n",
       "        vertical-align: top;\n",
       "    }\n",
       "\n",
       "    .dataframe thead th {\n",
       "        text-align: right;\n",
       "    }\n",
       "</style>\n",
       "<table border=\"1\" class=\"dataframe\">\n",
       "  <thead>\n",
       "    <tr style=\"text-align: right;\">\n",
       "      <th></th>\n",
       "      <th>x</th>\n",
       "      <th>y</th>\n",
       "    </tr>\n",
       "  </thead>\n",
       "  <tbody>\n",
       "    <tr>\n",
       "      <th>a</th>\n",
       "      <td>1</td>\n",
       "      <td>2</td>\n",
       "    </tr>\n",
       "    <tr>\n",
       "      <th>b</th>\n",
       "      <td>3</td>\n",
       "      <td>4</td>\n",
       "    </tr>\n",
       "    <tr>\n",
       "      <th>c</th>\n",
       "      <td>4</td>\n",
       "      <td>5</td>\n",
       "    </tr>\n",
       "  </tbody>\n",
       "</table>\n",
       "</div>"
      ],
      "text/plain": [
       "   x  y\n",
       "a  1  2\n",
       "b  3  4\n",
       "c  4  5"
      ]
     },
     "execution_count": 27,
     "metadata": {},
     "output_type": "execute_result"
    }
   ],
   "source": [
    "df[['x', 'y']]"
   ]
  },
  {
   "cell_type": "markdown",
   "metadata": {},
   "source": [
    "To access the columns by dot notation, do the following."
   ]
  },
  {
   "cell_type": "code",
   "execution_count": 28,
   "metadata": {},
   "outputs": [
    {
     "data": {
      "text/plain": [
       "a    1\n",
       "b    3\n",
       "c    4\n",
       "Name: x, dtype: int64"
      ]
     },
     "execution_count": 28,
     "metadata": {},
     "output_type": "execute_result"
    }
   ],
   "source": [
    "df.x"
   ]
  },
  {
   "cell_type": "code",
   "execution_count": 29,
   "metadata": {},
   "outputs": [
    {
     "data": {
      "text/plain": [
       "a    2\n",
       "b    4\n",
       "c    5\n",
       "Name: y, dtype: int64"
      ]
     },
     "execution_count": 29,
     "metadata": {},
     "output_type": "execute_result"
    }
   ],
   "source": [
    "df.y"
   ]
  },
  {
   "cell_type": "markdown",
   "metadata": {},
   "source": [
    "Note that accessing a column will return that column as a series, and the usual series properties and functions may be applied."
   ]
  },
  {
   "cell_type": "code",
   "execution_count": 30,
   "metadata": {},
   "outputs": [
    {
     "data": {
      "text/plain": [
       "8"
      ]
     },
     "execution_count": 30,
     "metadata": {},
     "output_type": "execute_result"
    }
   ],
   "source": [
    "df.x.sum()"
   ]
  },
  {
   "cell_type": "code",
   "execution_count": 31,
   "metadata": {},
   "outputs": [
    {
     "data": {
      "text/plain": [
       "2.6666666666666665"
      ]
     },
     "execution_count": 31,
     "metadata": {},
     "output_type": "execute_result"
    }
   ],
   "source": [
    "df.x.mean()"
   ]
  },
  {
   "cell_type": "code",
   "execution_count": 32,
   "metadata": {},
   "outputs": [
    {
     "data": {
      "text/plain": [
       "1.5275252316519465"
      ]
     },
     "execution_count": 32,
     "metadata": {},
     "output_type": "execute_result"
    }
   ],
   "source": [
    "df.x.std()"
   ]
  },
  {
   "cell_type": "code",
   "execution_count": 33,
   "metadata": {},
   "outputs": [
    {
     "data": {
      "text/plain": [
       "1"
      ]
     },
     "execution_count": 33,
     "metadata": {},
     "output_type": "execute_result"
    }
   ],
   "source": [
    "df.x.min()"
   ]
  },
  {
   "cell_type": "code",
   "execution_count": 34,
   "metadata": {},
   "outputs": [
    {
     "data": {
      "text/plain": [
       "4"
      ]
     },
     "execution_count": 34,
     "metadata": {},
     "output_type": "execute_result"
    }
   ],
   "source": [
    "df.x.max()"
   ]
  },
  {
   "cell_type": "markdown",
   "metadata": {},
   "source": [
    "### Rows or records\n",
    "\n",
    "To access the rows or records, use `iloc` and specify the numeric location value or `loc` and specify the index value. Below, `.iloc[0]` refers to the first record."
   ]
  },
  {
   "cell_type": "code",
   "execution_count": 35,
   "metadata": {},
   "outputs": [
    {
     "data": {
      "text/plain": [
       "x    1\n",
       "y    2\n",
       "Name: a, dtype: int64"
      ]
     },
     "execution_count": 35,
     "metadata": {},
     "output_type": "execute_result"
    }
   ],
   "source": [
    "df.iloc[0]"
   ]
  },
  {
   "cell_type": "markdown",
   "metadata": {},
   "source": [
    "Below, `.loc['a']` refers to the row corresponding to the `a` index value."
   ]
  },
  {
   "cell_type": "code",
   "execution_count": 36,
   "metadata": {},
   "outputs": [
    {
     "data": {
      "text/plain": [
       "x    1\n",
       "y    2\n",
       "Name: a, dtype: int64"
      ]
     },
     "execution_count": 36,
     "metadata": {},
     "output_type": "execute_result"
    }
   ],
   "source": [
    "df.loc['a']"
   ]
  },
  {
   "cell_type": "markdown",
   "metadata": {},
   "source": [
    "Multiple rows may be selected by numeric index through slicing."
   ]
  },
  {
   "cell_type": "code",
   "execution_count": 37,
   "metadata": {},
   "outputs": [
    {
     "data": {
      "text/html": [
       "<div>\n",
       "<style scoped>\n",
       "    .dataframe tbody tr th:only-of-type {\n",
       "        vertical-align: middle;\n",
       "    }\n",
       "\n",
       "    .dataframe tbody tr th {\n",
       "        vertical-align: top;\n",
       "    }\n",
       "\n",
       "    .dataframe thead th {\n",
       "        text-align: right;\n",
       "    }\n",
       "</style>\n",
       "<table border=\"1\" class=\"dataframe\">\n",
       "  <thead>\n",
       "    <tr style=\"text-align: right;\">\n",
       "      <th></th>\n",
       "      <th>x</th>\n",
       "      <th>y</th>\n",
       "    </tr>\n",
       "  </thead>\n",
       "  <tbody>\n",
       "    <tr>\n",
       "      <th>a</th>\n",
       "      <td>1</td>\n",
       "      <td>2</td>\n",
       "    </tr>\n",
       "    <tr>\n",
       "      <th>b</th>\n",
       "      <td>3</td>\n",
       "      <td>4</td>\n",
       "    </tr>\n",
       "  </tbody>\n",
       "</table>\n",
       "</div>"
      ],
      "text/plain": [
       "   x  y\n",
       "a  1  2\n",
       "b  3  4"
      ]
     },
     "execution_count": 37,
     "metadata": {},
     "output_type": "execute_result"
    }
   ],
   "source": [
    "df.iloc[0:2]"
   ]
  },
  {
   "cell_type": "code",
   "execution_count": 38,
   "metadata": {},
   "outputs": [
    {
     "data": {
      "text/html": [
       "<div>\n",
       "<style scoped>\n",
       "    .dataframe tbody tr th:only-of-type {\n",
       "        vertical-align: middle;\n",
       "    }\n",
       "\n",
       "    .dataframe tbody tr th {\n",
       "        vertical-align: top;\n",
       "    }\n",
       "\n",
       "    .dataframe thead th {\n",
       "        text-align: right;\n",
       "    }\n",
       "</style>\n",
       "<table border=\"1\" class=\"dataframe\">\n",
       "  <thead>\n",
       "    <tr style=\"text-align: right;\">\n",
       "      <th></th>\n",
       "      <th>x</th>\n",
       "      <th>y</th>\n",
       "    </tr>\n",
       "  </thead>\n",
       "  <tbody>\n",
       "    <tr>\n",
       "      <th>c</th>\n",
       "      <td>4</td>\n",
       "      <td>5</td>\n",
       "    </tr>\n",
       "  </tbody>\n",
       "</table>\n",
       "</div>"
      ],
      "text/plain": [
       "   x  y\n",
       "c  4  5"
      ]
     },
     "execution_count": 38,
     "metadata": {},
     "output_type": "execute_result"
    }
   ],
   "source": [
    "df.iloc[2:3]"
   ]
  },
  {
   "cell_type": "markdown",
   "metadata": {},
   "source": [
    "Accessing rows/records using `loc` or `iloc` typically returns another dataframe (as opposed to bracket and dot notations with columns, which returns a series)."
   ]
  },
  {
   "cell_type": "markdown",
   "metadata": {},
   "source": [
    "### Methods\n",
    "\n",
    "Use `describe()` to get summary statistics over your fields."
   ]
  },
  {
   "cell_type": "code",
   "execution_count": 39,
   "metadata": {},
   "outputs": [
    {
     "data": {
      "text/html": [
       "<div>\n",
       "<style scoped>\n",
       "    .dataframe tbody tr th:only-of-type {\n",
       "        vertical-align: middle;\n",
       "    }\n",
       "\n",
       "    .dataframe tbody tr th {\n",
       "        vertical-align: top;\n",
       "    }\n",
       "\n",
       "    .dataframe thead th {\n",
       "        text-align: right;\n",
       "    }\n",
       "</style>\n",
       "<table border=\"1\" class=\"dataframe\">\n",
       "  <thead>\n",
       "    <tr style=\"text-align: right;\">\n",
       "      <th></th>\n",
       "      <th>x</th>\n",
       "      <th>y</th>\n",
       "    </tr>\n",
       "  </thead>\n",
       "  <tbody>\n",
       "    <tr>\n",
       "      <th>count</th>\n",
       "      <td>3.000000</td>\n",
       "      <td>3.000000</td>\n",
       "    </tr>\n",
       "    <tr>\n",
       "      <th>mean</th>\n",
       "      <td>2.666667</td>\n",
       "      <td>3.666667</td>\n",
       "    </tr>\n",
       "    <tr>\n",
       "      <th>std</th>\n",
       "      <td>1.527525</td>\n",
       "      <td>1.527525</td>\n",
       "    </tr>\n",
       "    <tr>\n",
       "      <th>min</th>\n",
       "      <td>1.000000</td>\n",
       "      <td>2.000000</td>\n",
       "    </tr>\n",
       "    <tr>\n",
       "      <th>25%</th>\n",
       "      <td>2.000000</td>\n",
       "      <td>3.000000</td>\n",
       "    </tr>\n",
       "    <tr>\n",
       "      <th>50%</th>\n",
       "      <td>3.000000</td>\n",
       "      <td>4.000000</td>\n",
       "    </tr>\n",
       "    <tr>\n",
       "      <th>75%</th>\n",
       "      <td>3.500000</td>\n",
       "      <td>4.500000</td>\n",
       "    </tr>\n",
       "    <tr>\n",
       "      <th>max</th>\n",
       "      <td>4.000000</td>\n",
       "      <td>5.000000</td>\n",
       "    </tr>\n",
       "  </tbody>\n",
       "</table>\n",
       "</div>"
      ],
      "text/plain": [
       "              x         y\n",
       "count  3.000000  3.000000\n",
       "mean   2.666667  3.666667\n",
       "std    1.527525  1.527525\n",
       "min    1.000000  2.000000\n",
       "25%    2.000000  3.000000\n",
       "50%    3.000000  4.000000\n",
       "75%    3.500000  4.500000\n",
       "max    4.000000  5.000000"
      ]
     },
     "execution_count": 39,
     "metadata": {},
     "output_type": "execute_result"
    }
   ],
   "source": [
    "df.describe()"
   ]
  },
  {
   "cell_type": "markdown",
   "metadata": {},
   "source": [
    "The `info()` method gives other types of field profiling information."
   ]
  },
  {
   "cell_type": "code",
   "execution_count": 40,
   "metadata": {},
   "outputs": [
    {
     "name": "stdout",
     "output_type": "stream",
     "text": [
      "<class 'pandas.core.frame.DataFrame'>\n",
      "Index: 3 entries, a to c\n",
      "Data columns (total 2 columns):\n",
      " #   Column  Non-Null Count  Dtype\n",
      "---  ------  --------------  -----\n",
      " 0   x       3 non-null      int64\n",
      " 1   y       3 non-null      int64\n",
      "dtypes: int64(2)\n",
      "memory usage: 180.0+ bytes\n"
     ]
    }
   ],
   "source": [
    "df.info()"
   ]
  },
  {
   "cell_type": "markdown",
   "metadata": {},
   "source": [
    "The cummulative sum is retrieved by calling `cumsum()`."
   ]
  },
  {
   "cell_type": "code",
   "execution_count": 41,
   "metadata": {},
   "outputs": [
    {
     "data": {
      "text/html": [
       "<div>\n",
       "<style scoped>\n",
       "    .dataframe tbody tr th:only-of-type {\n",
       "        vertical-align: middle;\n",
       "    }\n",
       "\n",
       "    .dataframe tbody tr th {\n",
       "        vertical-align: top;\n",
       "    }\n",
       "\n",
       "    .dataframe thead th {\n",
       "        text-align: right;\n",
       "    }\n",
       "</style>\n",
       "<table border=\"1\" class=\"dataframe\">\n",
       "  <thead>\n",
       "    <tr style=\"text-align: right;\">\n",
       "      <th></th>\n",
       "      <th>x</th>\n",
       "      <th>y</th>\n",
       "    </tr>\n",
       "  </thead>\n",
       "  <tbody>\n",
       "    <tr>\n",
       "      <th>a</th>\n",
       "      <td>1</td>\n",
       "      <td>2</td>\n",
       "    </tr>\n",
       "    <tr>\n",
       "      <th>b</th>\n",
       "      <td>4</td>\n",
       "      <td>6</td>\n",
       "    </tr>\n",
       "    <tr>\n",
       "      <th>c</th>\n",
       "      <td>8</td>\n",
       "      <td>11</td>\n",
       "    </tr>\n",
       "  </tbody>\n",
       "</table>\n",
       "</div>"
      ],
      "text/plain": [
       "   x   y\n",
       "a  1   2\n",
       "b  4   6\n",
       "c  8  11"
      ]
     },
     "execution_count": 41,
     "metadata": {},
     "output_type": "execute_result"
    }
   ],
   "source": [
    "df.cumsum()"
   ]
  },
  {
   "cell_type": "markdown",
   "metadata": {},
   "source": [
    "You can mathematically operate on a dataframe. Below, we turn the integer values into percentages."
   ]
  },
  {
   "cell_type": "code",
   "execution_count": 42,
   "metadata": {},
   "outputs": [
    {
     "data": {
      "text/html": [
       "<div>\n",
       "<style scoped>\n",
       "    .dataframe tbody tr th:only-of-type {\n",
       "        vertical-align: middle;\n",
       "    }\n",
       "\n",
       "    .dataframe tbody tr th {\n",
       "        vertical-align: top;\n",
       "    }\n",
       "\n",
       "    .dataframe thead th {\n",
       "        text-align: right;\n",
       "    }\n",
       "</style>\n",
       "<table border=\"1\" class=\"dataframe\">\n",
       "  <thead>\n",
       "    <tr style=\"text-align: right;\">\n",
       "      <th></th>\n",
       "      <th>x</th>\n",
       "      <th>y</th>\n",
       "    </tr>\n",
       "  </thead>\n",
       "  <tbody>\n",
       "    <tr>\n",
       "      <th>a</th>\n",
       "      <td>0.125</td>\n",
       "      <td>0.181818</td>\n",
       "    </tr>\n",
       "    <tr>\n",
       "      <th>b</th>\n",
       "      <td>0.375</td>\n",
       "      <td>0.363636</td>\n",
       "    </tr>\n",
       "    <tr>\n",
       "      <th>c</th>\n",
       "      <td>0.500</td>\n",
       "      <td>0.454545</td>\n",
       "    </tr>\n",
       "  </tbody>\n",
       "</table>\n",
       "</div>"
      ],
      "text/plain": [
       "       x         y\n",
       "a  0.125  0.181818\n",
       "b  0.375  0.363636\n",
       "c  0.500  0.454545"
      ]
     },
     "execution_count": 42,
     "metadata": {},
     "output_type": "execute_result"
    }
   ],
   "source": [
    "df / df.sum() "
   ]
  },
  {
   "cell_type": "markdown",
   "metadata": {},
   "source": [
    "Transposing is easy."
   ]
  },
  {
   "cell_type": "code",
   "execution_count": 43,
   "metadata": {},
   "outputs": [
    {
     "data": {
      "text/html": [
       "<div>\n",
       "<style scoped>\n",
       "    .dataframe tbody tr th:only-of-type {\n",
       "        vertical-align: middle;\n",
       "    }\n",
       "\n",
       "    .dataframe tbody tr th {\n",
       "        vertical-align: top;\n",
       "    }\n",
       "\n",
       "    .dataframe thead th {\n",
       "        text-align: right;\n",
       "    }\n",
       "</style>\n",
       "<table border=\"1\" class=\"dataframe\">\n",
       "  <thead>\n",
       "    <tr style=\"text-align: right;\">\n",
       "      <th></th>\n",
       "      <th>a</th>\n",
       "      <th>b</th>\n",
       "      <th>c</th>\n",
       "    </tr>\n",
       "  </thead>\n",
       "  <tbody>\n",
       "    <tr>\n",
       "      <th>x</th>\n",
       "      <td>1</td>\n",
       "      <td>3</td>\n",
       "      <td>4</td>\n",
       "    </tr>\n",
       "    <tr>\n",
       "      <th>y</th>\n",
       "      <td>2</td>\n",
       "      <td>4</td>\n",
       "      <td>5</td>\n",
       "    </tr>\n",
       "  </tbody>\n",
       "</table>\n",
       "</div>"
      ],
      "text/plain": [
       "   a  b  c\n",
       "x  1  3  4\n",
       "y  2  4  5"
      ]
     },
     "execution_count": 43,
     "metadata": {},
     "output_type": "execute_result"
    }
   ],
   "source": [
    "df.transpose()"
   ]
  },
  {
   "cell_type": "markdown",
   "metadata": {},
   "source": [
    "You can also transpose a dataframe as follows."
   ]
  },
  {
   "cell_type": "code",
   "execution_count": 44,
   "metadata": {},
   "outputs": [
    {
     "data": {
      "text/html": [
       "<div>\n",
       "<style scoped>\n",
       "    .dataframe tbody tr th:only-of-type {\n",
       "        vertical-align: middle;\n",
       "    }\n",
       "\n",
       "    .dataframe tbody tr th {\n",
       "        vertical-align: top;\n",
       "    }\n",
       "\n",
       "    .dataframe thead th {\n",
       "        text-align: right;\n",
       "    }\n",
       "</style>\n",
       "<table border=\"1\" class=\"dataframe\">\n",
       "  <thead>\n",
       "    <tr style=\"text-align: right;\">\n",
       "      <th></th>\n",
       "      <th>a</th>\n",
       "      <th>b</th>\n",
       "      <th>c</th>\n",
       "    </tr>\n",
       "  </thead>\n",
       "  <tbody>\n",
       "    <tr>\n",
       "      <th>x</th>\n",
       "      <td>1</td>\n",
       "      <td>3</td>\n",
       "      <td>4</td>\n",
       "    </tr>\n",
       "    <tr>\n",
       "      <th>y</th>\n",
       "      <td>2</td>\n",
       "      <td>4</td>\n",
       "      <td>5</td>\n",
       "    </tr>\n",
       "  </tbody>\n",
       "</table>\n",
       "</div>"
      ],
      "text/plain": [
       "   a  b  c\n",
       "x  1  3  4\n",
       "y  2  4  5"
      ]
     },
     "execution_count": 44,
     "metadata": {},
     "output_type": "execute_result"
    }
   ],
   "source": [
    "df.T"
   ]
  },
  {
   "cell_type": "markdown",
   "metadata": {},
   "source": [
    "### Joining and concatenating\n",
    "\n",
    "Dataframes can be joined. The easiest way is to join two dataframes based on index values. This stacks up the dataframes horizontally or the wide way."
   ]
  },
  {
   "cell_type": "code",
   "execution_count": 45,
   "metadata": {},
   "outputs": [
    {
     "data": {
      "text/html": [
       "<div>\n",
       "<style scoped>\n",
       "    .dataframe tbody tr th:only-of-type {\n",
       "        vertical-align: middle;\n",
       "    }\n",
       "\n",
       "    .dataframe tbody tr th {\n",
       "        vertical-align: top;\n",
       "    }\n",
       "\n",
       "    .dataframe thead th {\n",
       "        text-align: right;\n",
       "    }\n",
       "</style>\n",
       "<table border=\"1\" class=\"dataframe\">\n",
       "  <thead>\n",
       "    <tr style=\"text-align: right;\">\n",
       "      <th></th>\n",
       "      <th>x</th>\n",
       "      <th>y</th>\n",
       "      <th>v</th>\n",
       "      <th>w</th>\n",
       "    </tr>\n",
       "  </thead>\n",
       "  <tbody>\n",
       "    <tr>\n",
       "      <th>a</th>\n",
       "      <td>1</td>\n",
       "      <td>2</td>\n",
       "      <td>6</td>\n",
       "      <td>9</td>\n",
       "    </tr>\n",
       "    <tr>\n",
       "      <th>b</th>\n",
       "      <td>3</td>\n",
       "      <td>4</td>\n",
       "      <td>7</td>\n",
       "      <td>10</td>\n",
       "    </tr>\n",
       "    <tr>\n",
       "      <th>c</th>\n",
       "      <td>4</td>\n",
       "      <td>5</td>\n",
       "      <td>8</td>\n",
       "      <td>11</td>\n",
       "    </tr>\n",
       "  </tbody>\n",
       "</table>\n",
       "</div>"
      ],
      "text/plain": [
       "   x  y  v   w\n",
       "a  1  2  6   9\n",
       "b  3  4  7  10\n",
       "c  4  5  8  11"
      ]
     },
     "execution_count": 45,
     "metadata": {},
     "output_type": "execute_result"
    }
   ],
   "source": [
    "df1 = pd.DataFrame({\n",
    "    'x': [1, 3, 4],\n",
    "    'y': [2, 4, 5]\n",
    "}, index=['a', 'b', 'c'])\n",
    "\n",
    "df2 = pd.DataFrame({\n",
    "    'v': [6, 7, 8],\n",
    "    'w': [9, 10, 11]\n",
    "}, index=['a', 'b', 'c'])\n",
    "\n",
    "df1.join(df2)"
   ]
  },
  {
   "cell_type": "markdown",
   "metadata": {},
   "source": [
    "Dataframes can also be `concatenated` vertically or the long way."
   ]
  },
  {
   "cell_type": "code",
   "execution_count": 46,
   "metadata": {},
   "outputs": [
    {
     "data": {
      "text/html": [
       "<div>\n",
       "<style scoped>\n",
       "    .dataframe tbody tr th:only-of-type {\n",
       "        vertical-align: middle;\n",
       "    }\n",
       "\n",
       "    .dataframe tbody tr th {\n",
       "        vertical-align: top;\n",
       "    }\n",
       "\n",
       "    .dataframe thead th {\n",
       "        text-align: right;\n",
       "    }\n",
       "</style>\n",
       "<table border=\"1\" class=\"dataframe\">\n",
       "  <thead>\n",
       "    <tr style=\"text-align: right;\">\n",
       "      <th></th>\n",
       "      <th>x</th>\n",
       "      <th>y</th>\n",
       "    </tr>\n",
       "  </thead>\n",
       "  <tbody>\n",
       "    <tr>\n",
       "      <th>a</th>\n",
       "      <td>1</td>\n",
       "      <td>2</td>\n",
       "    </tr>\n",
       "    <tr>\n",
       "      <th>b</th>\n",
       "      <td>3</td>\n",
       "      <td>4</td>\n",
       "    </tr>\n",
       "    <tr>\n",
       "      <th>c</th>\n",
       "      <td>4</td>\n",
       "      <td>5</td>\n",
       "    </tr>\n",
       "    <tr>\n",
       "      <th>d</th>\n",
       "      <td>6</td>\n",
       "      <td>9</td>\n",
       "    </tr>\n",
       "    <tr>\n",
       "      <th>e</th>\n",
       "      <td>7</td>\n",
       "      <td>10</td>\n",
       "    </tr>\n",
       "    <tr>\n",
       "      <th>f</th>\n",
       "      <td>8</td>\n",
       "      <td>11</td>\n",
       "    </tr>\n",
       "  </tbody>\n",
       "</table>\n",
       "</div>"
      ],
      "text/plain": [
       "   x   y\n",
       "a  1   2\n",
       "b  3   4\n",
       "c  4   5\n",
       "d  6   9\n",
       "e  7  10\n",
       "f  8  11"
      ]
     },
     "execution_count": 46,
     "metadata": {},
     "output_type": "execute_result"
    }
   ],
   "source": [
    "df1 = pd.DataFrame({\n",
    "    'x': [1, 3, 4],\n",
    "    'y': [2, 4, 5]\n",
    "}, index=['a', 'b', 'c'])\n",
    "\n",
    "df2 = pd.DataFrame({\n",
    "    'x': [6, 7, 8],\n",
    "    'y': [9, 10, 11]\n",
    "}, index=['d', 'e', 'f'])\n",
    "\n",
    "pd.concat([df1, df2])"
   ]
  },
  {
   "cell_type": "markdown",
   "metadata": {},
   "source": [
    "### Multiple indexes\n",
    "\n",
    "Indexes plays a very important role in organizing your data in a dataframe. For the most part, we have shown a single index on a dataframe. But a dataframe can have a multiple indices using `MultiIndex`. Below, we create a fictitious set of data of handedness and sports by gender. "
   ]
  },
  {
   "cell_type": "code",
   "execution_count": 47,
   "metadata": {},
   "outputs": [
    {
     "data": {
      "text/html": [
       "<div>\n",
       "<style scoped>\n",
       "    .dataframe tbody tr th:only-of-type {\n",
       "        vertical-align: middle;\n",
       "    }\n",
       "\n",
       "    .dataframe tbody tr th {\n",
       "        vertical-align: top;\n",
       "    }\n",
       "\n",
       "    .dataframe thead th {\n",
       "        text-align: right;\n",
       "    }\n",
       "</style>\n",
       "<table border=\"1\" class=\"dataframe\">\n",
       "  <thead>\n",
       "    <tr style=\"text-align: right;\">\n",
       "      <th></th>\n",
       "      <th></th>\n",
       "      <th>male</th>\n",
       "      <th>female</th>\n",
       "    </tr>\n",
       "  </thead>\n",
       "  <tbody>\n",
       "    <tr>\n",
       "      <th rowspan=\"2\" valign=\"top\">left</th>\n",
       "      <th>soccer</th>\n",
       "      <td>5</td>\n",
       "      <td>6</td>\n",
       "    </tr>\n",
       "    <tr>\n",
       "      <th>baseball</th>\n",
       "      <td>10</td>\n",
       "      <td>11</td>\n",
       "    </tr>\n",
       "    <tr>\n",
       "      <th rowspan=\"2\" valign=\"top\">right</th>\n",
       "      <th>soccer</th>\n",
       "      <td>15</td>\n",
       "      <td>20</td>\n",
       "    </tr>\n",
       "    <tr>\n",
       "      <th>baseball</th>\n",
       "      <td>20</td>\n",
       "      <td>25</td>\n",
       "    </tr>\n",
       "  </tbody>\n",
       "</table>\n",
       "</div>"
      ],
      "text/plain": [
       "                male  female\n",
       "left  soccer       5       6\n",
       "      baseball    10      11\n",
       "right soccer      15      20\n",
       "      baseball    20      25"
      ]
     },
     "execution_count": 47,
     "metadata": {},
     "output_type": "execute_result"
    }
   ],
   "source": [
    "row_index = pd.MultiIndex.from_tuples([\n",
    "    ('left', 'soccer'), \n",
    "    ('left', 'baseball'), \n",
    "    ('right', 'soccer'), \n",
    "    ('right', 'baseball')])\n",
    "data = {\n",
    "    'male': [5, 10, 15, 20], \n",
    "    'female': [6, 11, 20, 25]\n",
    "}\n",
    "pd.DataFrame(data, index=row_index)"
   ]
  },
  {
   "cell_type": "markdown",
   "metadata": {},
   "source": [
    "The column index can also have multiple indexes."
   ]
  },
  {
   "cell_type": "code",
   "execution_count": 48,
   "metadata": {},
   "outputs": [
    {
     "data": {
      "text/html": [
       "<div>\n",
       "<style scoped>\n",
       "    .dataframe tbody tr th:only-of-type {\n",
       "        vertical-align: middle;\n",
       "    }\n",
       "\n",
       "    .dataframe tbody tr th {\n",
       "        vertical-align: top;\n",
       "    }\n",
       "\n",
       "    .dataframe thead tr th {\n",
       "        text-align: left;\n",
       "    }\n",
       "</style>\n",
       "<table border=\"1\" class=\"dataframe\">\n",
       "  <thead>\n",
       "    <tr>\n",
       "      <th></th>\n",
       "      <th></th>\n",
       "      <th colspan=\"2\" halign=\"left\">amateur</th>\n",
       "      <th colspan=\"2\" halign=\"left\">pro</th>\n",
       "    </tr>\n",
       "    <tr>\n",
       "      <th></th>\n",
       "      <th></th>\n",
       "      <th>male</th>\n",
       "      <th>female</th>\n",
       "      <th>male</th>\n",
       "      <th>female</th>\n",
       "    </tr>\n",
       "  </thead>\n",
       "  <tbody>\n",
       "    <tr>\n",
       "      <th rowspan=\"2\" valign=\"top\">left</th>\n",
       "      <th>soccer</th>\n",
       "      <td>5</td>\n",
       "      <td>10</td>\n",
       "      <td>15</td>\n",
       "      <td>20</td>\n",
       "    </tr>\n",
       "    <tr>\n",
       "      <th>baseball</th>\n",
       "      <td>6</td>\n",
       "      <td>11</td>\n",
       "      <td>20</td>\n",
       "      <td>25</td>\n",
       "    </tr>\n",
       "    <tr>\n",
       "      <th rowspan=\"2\" valign=\"top\">right</th>\n",
       "      <th>soccer</th>\n",
       "      <td>10</td>\n",
       "      <td>11</td>\n",
       "      <td>25</td>\n",
       "      <td>30</td>\n",
       "    </tr>\n",
       "    <tr>\n",
       "      <th>baseball</th>\n",
       "      <td>15</td>\n",
       "      <td>17</td>\n",
       "      <td>30</td>\n",
       "      <td>35</td>\n",
       "    </tr>\n",
       "  </tbody>\n",
       "</table>\n",
       "</div>"
      ],
      "text/plain": [
       "               amateur         pro       \n",
       "                  male female male female\n",
       "left  soccer         5     10   15     20\n",
       "      baseball       6     11   20     25\n",
       "right soccer        10     11   25     30\n",
       "      baseball      15     17   30     35"
      ]
     },
     "execution_count": 48,
     "metadata": {},
     "output_type": "execute_result"
    }
   ],
   "source": [
    "row_index = pd.MultiIndex.from_tuples([\n",
    "    ('left', 'soccer'), \n",
    "    ('left', 'baseball'), \n",
    "    ('right', 'soccer'), \n",
    "    ('right', 'baseball')])\n",
    "\n",
    "col_index = pd.MultiIndex.from_tuples([\n",
    "    ('amateur', 'male'),\n",
    "    ('amateur', 'female'),\n",
    "    ('pro', 'male'),\n",
    "    ('pro', 'female')\n",
    "])\n",
    "\n",
    "data = [\n",
    "    [5, 10, 15, 20], \n",
    "    [6, 11, 20, 25],\n",
    "    [10, 11, 25, 30], \n",
    "    [15, 17, 30, 35]\n",
    "]\n",
    "\n",
    "df = pd.DataFrame(data, index=row_index, columns=col_index)\n",
    "df"
   ]
  },
  {
   "cell_type": "markdown",
   "metadata": {},
   "source": [
    "### Filtering rows\n",
    "\n",
    "Let's see how filtering for records in a dataframe works. One filtering approach is by index."
   ]
  },
  {
   "cell_type": "code",
   "execution_count": 49,
   "metadata": {},
   "outputs": [
    {
     "data": {
      "text/html": [
       "<div>\n",
       "<style scoped>\n",
       "    .dataframe tbody tr th:only-of-type {\n",
       "        vertical-align: middle;\n",
       "    }\n",
       "\n",
       "    .dataframe tbody tr th {\n",
       "        vertical-align: top;\n",
       "    }\n",
       "\n",
       "    .dataframe thead th {\n",
       "        text-align: right;\n",
       "    }\n",
       "</style>\n",
       "<table border=\"1\" class=\"dataframe\">\n",
       "  <thead>\n",
       "    <tr style=\"text-align: right;\">\n",
       "      <th></th>\n",
       "      <th>x</th>\n",
       "      <th>y</th>\n",
       "    </tr>\n",
       "  </thead>\n",
       "  <tbody>\n",
       "    <tr>\n",
       "      <th>b</th>\n",
       "      <td>3</td>\n",
       "      <td>4</td>\n",
       "    </tr>\n",
       "    <tr>\n",
       "      <th>c</th>\n",
       "      <td>4</td>\n",
       "      <td>5</td>\n",
       "    </tr>\n",
       "  </tbody>\n",
       "</table>\n",
       "</div>"
      ],
      "text/plain": [
       "   x  y\n",
       "b  3  4\n",
       "c  4  5"
      ]
     },
     "execution_count": 49,
     "metadata": {},
     "output_type": "execute_result"
    }
   ],
   "source": [
    "df = pd.DataFrame({\n",
    "    'x': [1, 3, 4],\n",
    "    'y': [2, 4, 5]\n",
    "}, index=['a', 'b', 'c'])\n",
    "\n",
    "\n",
    "df[df.x >= 3]"
   ]
  },
  {
   "cell_type": "markdown",
   "metadata": {},
   "source": [
    "We can filter by index using boolean logic with `and` (`&`) or `or` (`|`). Notice how we have to use parentheses around the comparisons?"
   ]
  },
  {
   "cell_type": "code",
   "execution_count": 50,
   "metadata": {},
   "outputs": [
    {
     "data": {
      "text/html": [
       "<div>\n",
       "<style scoped>\n",
       "    .dataframe tbody tr th:only-of-type {\n",
       "        vertical-align: middle;\n",
       "    }\n",
       "\n",
       "    .dataframe tbody tr th {\n",
       "        vertical-align: top;\n",
       "    }\n",
       "\n",
       "    .dataframe thead th {\n",
       "        text-align: right;\n",
       "    }\n",
       "</style>\n",
       "<table border=\"1\" class=\"dataframe\">\n",
       "  <thead>\n",
       "    <tr style=\"text-align: right;\">\n",
       "      <th></th>\n",
       "      <th>x</th>\n",
       "      <th>y</th>\n",
       "    </tr>\n",
       "  </thead>\n",
       "  <tbody>\n",
       "    <tr>\n",
       "      <th>c</th>\n",
       "      <td>4</td>\n",
       "      <td>5</td>\n",
       "    </tr>\n",
       "  </tbody>\n",
       "</table>\n",
       "</div>"
      ],
      "text/plain": [
       "   x  y\n",
       "c  4  5"
      ]
     },
     "execution_count": 50,
     "metadata": {},
     "output_type": "execute_result"
    }
   ],
   "source": [
    "df[(df.x >= 3) & (df.y > 4)]"
   ]
  },
  {
   "cell_type": "code",
   "execution_count": 51,
   "metadata": {},
   "outputs": [
    {
     "data": {
      "text/html": [
       "<div>\n",
       "<style scoped>\n",
       "    .dataframe tbody tr th:only-of-type {\n",
       "        vertical-align: middle;\n",
       "    }\n",
       "\n",
       "    .dataframe tbody tr th {\n",
       "        vertical-align: top;\n",
       "    }\n",
       "\n",
       "    .dataframe thead th {\n",
       "        text-align: right;\n",
       "    }\n",
       "</style>\n",
       "<table border=\"1\" class=\"dataframe\">\n",
       "  <thead>\n",
       "    <tr style=\"text-align: right;\">\n",
       "      <th></th>\n",
       "      <th>x</th>\n",
       "      <th>y</th>\n",
       "    </tr>\n",
       "  </thead>\n",
       "  <tbody>\n",
       "    <tr>\n",
       "      <th>b</th>\n",
       "      <td>3</td>\n",
       "      <td>4</td>\n",
       "    </tr>\n",
       "    <tr>\n",
       "      <th>c</th>\n",
       "      <td>4</td>\n",
       "      <td>5</td>\n",
       "    </tr>\n",
       "  </tbody>\n",
       "</table>\n",
       "</div>"
      ],
      "text/plain": [
       "   x  y\n",
       "b  3  4\n",
       "c  4  5"
      ]
     },
     "execution_count": 51,
     "metadata": {},
     "output_type": "execute_result"
    }
   ],
   "source": [
    "df[(df.x >= 3) | (df.y > 4)]"
   ]
  },
  {
   "cell_type": "markdown",
   "metadata": {},
   "source": [
    "If you are familiar with Structured Query Language `SQL`, you can filter using the `query()` method specifying the conditions as in a SQL `where` clause."
   ]
  },
  {
   "cell_type": "code",
   "execution_count": 52,
   "metadata": {},
   "outputs": [
    {
     "data": {
      "text/html": [
       "<div>\n",
       "<style scoped>\n",
       "    .dataframe tbody tr th:only-of-type {\n",
       "        vertical-align: middle;\n",
       "    }\n",
       "\n",
       "    .dataframe tbody tr th {\n",
       "        vertical-align: top;\n",
       "    }\n",
       "\n",
       "    .dataframe thead th {\n",
       "        text-align: right;\n",
       "    }\n",
       "</style>\n",
       "<table border=\"1\" class=\"dataframe\">\n",
       "  <thead>\n",
       "    <tr style=\"text-align: right;\">\n",
       "      <th></th>\n",
       "      <th>x</th>\n",
       "      <th>y</th>\n",
       "    </tr>\n",
       "  </thead>\n",
       "  <tbody>\n",
       "    <tr>\n",
       "      <th>c</th>\n",
       "      <td>4</td>\n",
       "      <td>5</td>\n",
       "    </tr>\n",
       "  </tbody>\n",
       "</table>\n",
       "</div>"
      ],
      "text/plain": [
       "   x  y\n",
       "c  4  5"
      ]
     },
     "execution_count": 52,
     "metadata": {},
     "output_type": "execute_result"
    }
   ],
   "source": [
    "df.query('x >= 3 and y > 4')"
   ]
  },
  {
   "cell_type": "code",
   "execution_count": 53,
   "metadata": {},
   "outputs": [
    {
     "data": {
      "text/html": [
       "<div>\n",
       "<style scoped>\n",
       "    .dataframe tbody tr th:only-of-type {\n",
       "        vertical-align: middle;\n",
       "    }\n",
       "\n",
       "    .dataframe tbody tr th {\n",
       "        vertical-align: top;\n",
       "    }\n",
       "\n",
       "    .dataframe thead th {\n",
       "        text-align: right;\n",
       "    }\n",
       "</style>\n",
       "<table border=\"1\" class=\"dataframe\">\n",
       "  <thead>\n",
       "    <tr style=\"text-align: right;\">\n",
       "      <th></th>\n",
       "      <th>x</th>\n",
       "      <th>y</th>\n",
       "    </tr>\n",
       "  </thead>\n",
       "  <tbody>\n",
       "    <tr>\n",
       "      <th>b</th>\n",
       "      <td>3</td>\n",
       "      <td>4</td>\n",
       "    </tr>\n",
       "    <tr>\n",
       "      <th>c</th>\n",
       "      <td>4</td>\n",
       "      <td>5</td>\n",
       "    </tr>\n",
       "  </tbody>\n",
       "</table>\n",
       "</div>"
      ],
      "text/plain": [
       "   x  y\n",
       "b  3  4\n",
       "c  4  5"
      ]
     },
     "execution_count": 53,
     "metadata": {},
     "output_type": "execute_result"
    }
   ],
   "source": [
    "df.query('x >= 3 or y > 4')"
   ]
  },
  {
   "cell_type": "markdown",
   "metadata": {},
   "source": [
    "You can also use `numpy` to filter rows."
   ]
  },
  {
   "cell_type": "code",
   "execution_count": 54,
   "metadata": {},
   "outputs": [
    {
     "data": {
      "text/html": [
       "<div>\n",
       "<style scoped>\n",
       "    .dataframe tbody tr th:only-of-type {\n",
       "        vertical-align: middle;\n",
       "    }\n",
       "\n",
       "    .dataframe tbody tr th {\n",
       "        vertical-align: top;\n",
       "    }\n",
       "\n",
       "    .dataframe thead th {\n",
       "        text-align: right;\n",
       "    }\n",
       "</style>\n",
       "<table border=\"1\" class=\"dataframe\">\n",
       "  <thead>\n",
       "    <tr style=\"text-align: right;\">\n",
       "      <th></th>\n",
       "      <th>x</th>\n",
       "      <th>y</th>\n",
       "    </tr>\n",
       "  </thead>\n",
       "  <tbody>\n",
       "    <tr>\n",
       "      <th>c</th>\n",
       "      <td>4</td>\n",
       "      <td>5</td>\n",
       "    </tr>\n",
       "  </tbody>\n",
       "</table>\n",
       "</div>"
      ],
      "text/plain": [
       "   x  y\n",
       "c  4  5"
      ]
     },
     "execution_count": 54,
     "metadata": {},
     "output_type": "execute_result"
    }
   ],
   "source": [
    "import numpy as np\n",
    "\n",
    "df[np.logical_and(df.x >= 3, df.y > 4)]"
   ]
  },
  {
   "cell_type": "code",
   "execution_count": 55,
   "metadata": {},
   "outputs": [
    {
     "data": {
      "text/html": [
       "<div>\n",
       "<style scoped>\n",
       "    .dataframe tbody tr th:only-of-type {\n",
       "        vertical-align: middle;\n",
       "    }\n",
       "\n",
       "    .dataframe tbody tr th {\n",
       "        vertical-align: top;\n",
       "    }\n",
       "\n",
       "    .dataframe thead th {\n",
       "        text-align: right;\n",
       "    }\n",
       "</style>\n",
       "<table border=\"1\" class=\"dataframe\">\n",
       "  <thead>\n",
       "    <tr style=\"text-align: right;\">\n",
       "      <th></th>\n",
       "      <th>x</th>\n",
       "      <th>y</th>\n",
       "    </tr>\n",
       "  </thead>\n",
       "  <tbody>\n",
       "    <tr>\n",
       "      <th>b</th>\n",
       "      <td>3</td>\n",
       "      <td>4</td>\n",
       "    </tr>\n",
       "    <tr>\n",
       "      <th>c</th>\n",
       "      <td>4</td>\n",
       "      <td>5</td>\n",
       "    </tr>\n",
       "  </tbody>\n",
       "</table>\n",
       "</div>"
      ],
      "text/plain": [
       "   x  y\n",
       "b  3  4\n",
       "c  4  5"
      ]
     },
     "execution_count": 55,
     "metadata": {},
     "output_type": "execute_result"
    }
   ],
   "source": [
    "df[np.logical_or(df.x >= 3, df.y > 4)]"
   ]
  },
  {
   "cell_type": "code",
   "execution_count": 56,
   "metadata": {},
   "outputs": [
    {
     "data": {
      "text/html": [
       "<div>\n",
       "<style scoped>\n",
       "    .dataframe tbody tr th:only-of-type {\n",
       "        vertical-align: middle;\n",
       "    }\n",
       "\n",
       "    .dataframe tbody tr th {\n",
       "        vertical-align: top;\n",
       "    }\n",
       "\n",
       "    .dataframe thead th {\n",
       "        text-align: right;\n",
       "    }\n",
       "</style>\n",
       "<table border=\"1\" class=\"dataframe\">\n",
       "  <thead>\n",
       "    <tr style=\"text-align: right;\">\n",
       "      <th></th>\n",
       "      <th>x</th>\n",
       "      <th>y</th>\n",
       "    </tr>\n",
       "  </thead>\n",
       "  <tbody>\n",
       "    <tr>\n",
       "      <th>a</th>\n",
       "      <td>1</td>\n",
       "      <td>2</td>\n",
       "    </tr>\n",
       "    <tr>\n",
       "      <th>c</th>\n",
       "      <td>4</td>\n",
       "      <td>5</td>\n",
       "    </tr>\n",
       "  </tbody>\n",
       "</table>\n",
       "</div>"
      ],
      "text/plain": [
       "   x  y\n",
       "a  1  2\n",
       "c  4  5"
      ]
     },
     "execution_count": 56,
     "metadata": {},
     "output_type": "execute_result"
    }
   ],
   "source": [
    "df[np.logical_not(df.x == 3)]"
   ]
  },
  {
   "cell_type": "markdown",
   "metadata": {},
   "source": [
    "What about filtering against a multi-index?"
   ]
  },
  {
   "cell_type": "code",
   "execution_count": 57,
   "metadata": {},
   "outputs": [
    {
     "data": {
      "text/html": [
       "<div>\n",
       "<style scoped>\n",
       "    .dataframe tbody tr th:only-of-type {\n",
       "        vertical-align: middle;\n",
       "    }\n",
       "\n",
       "    .dataframe tbody tr th {\n",
       "        vertical-align: top;\n",
       "    }\n",
       "\n",
       "    .dataframe thead tr th {\n",
       "        text-align: left;\n",
       "    }\n",
       "</style>\n",
       "<table border=\"1\" class=\"dataframe\">\n",
       "  <thead>\n",
       "    <tr>\n",
       "      <th></th>\n",
       "      <th></th>\n",
       "      <th colspan=\"2\" halign=\"left\">amateur</th>\n",
       "      <th colspan=\"2\" halign=\"left\">pro</th>\n",
       "    </tr>\n",
       "    <tr>\n",
       "      <th></th>\n",
       "      <th></th>\n",
       "      <th>male</th>\n",
       "      <th>female</th>\n",
       "      <th>male</th>\n",
       "      <th>female</th>\n",
       "    </tr>\n",
       "  </thead>\n",
       "  <tbody>\n",
       "    <tr>\n",
       "      <th rowspan=\"2\" valign=\"top\">left</th>\n",
       "      <th>soccer</th>\n",
       "      <td>5</td>\n",
       "      <td>10</td>\n",
       "      <td>15</td>\n",
       "      <td>20</td>\n",
       "    </tr>\n",
       "    <tr>\n",
       "      <th>baseball</th>\n",
       "      <td>6</td>\n",
       "      <td>11</td>\n",
       "      <td>20</td>\n",
       "      <td>25</td>\n",
       "    </tr>\n",
       "    <tr>\n",
       "      <th rowspan=\"2\" valign=\"top\">right</th>\n",
       "      <th>soccer</th>\n",
       "      <td>10</td>\n",
       "      <td>11</td>\n",
       "      <td>25</td>\n",
       "      <td>30</td>\n",
       "    </tr>\n",
       "    <tr>\n",
       "      <th>baseball</th>\n",
       "      <td>15</td>\n",
       "      <td>17</td>\n",
       "      <td>30</td>\n",
       "      <td>35</td>\n",
       "    </tr>\n",
       "  </tbody>\n",
       "</table>\n",
       "</div>"
      ],
      "text/plain": [
       "               amateur         pro       \n",
       "                  male female male female\n",
       "left  soccer         5     10   15     20\n",
       "      baseball       6     11   20     25\n",
       "right soccer        10     11   25     30\n",
       "      baseball      15     17   30     35"
      ]
     },
     "execution_count": 57,
     "metadata": {},
     "output_type": "execute_result"
    }
   ],
   "source": [
    "row_index = pd.MultiIndex.from_tuples([\n",
    "    ('left', 'soccer'), \n",
    "    ('left', 'baseball'), \n",
    "    ('right', 'soccer'), \n",
    "    ('right', 'baseball')])\n",
    "\n",
    "col_index = pd.MultiIndex.from_tuples([\n",
    "    ('amateur', 'male'),\n",
    "    ('amateur', 'female'),\n",
    "    ('pro', 'male'),\n",
    "    ('pro', 'female')\n",
    "])\n",
    "\n",
    "data = [\n",
    "    [5, 10, 15, 20], \n",
    "    [6, 11, 20, 25],\n",
    "    [10, 11, 25, 30], \n",
    "    [15, 17, 30, 35]\n",
    "]\n",
    "\n",
    "df = pd.DataFrame(data, index=row_index, columns=col_index)\n",
    "df"
   ]
  },
  {
   "cell_type": "code",
   "execution_count": 58,
   "metadata": {},
   "outputs": [
    {
     "data": {
      "text/html": [
       "<div>\n",
       "<style scoped>\n",
       "    .dataframe tbody tr th:only-of-type {\n",
       "        vertical-align: middle;\n",
       "    }\n",
       "\n",
       "    .dataframe tbody tr th {\n",
       "        vertical-align: top;\n",
       "    }\n",
       "\n",
       "    .dataframe thead tr th {\n",
       "        text-align: left;\n",
       "    }\n",
       "</style>\n",
       "<table border=\"1\" class=\"dataframe\">\n",
       "  <thead>\n",
       "    <tr>\n",
       "      <th></th>\n",
       "      <th></th>\n",
       "      <th colspan=\"2\" halign=\"left\">amateur</th>\n",
       "      <th colspan=\"2\" halign=\"left\">pro</th>\n",
       "    </tr>\n",
       "    <tr>\n",
       "      <th></th>\n",
       "      <th></th>\n",
       "      <th>male</th>\n",
       "      <th>female</th>\n",
       "      <th>male</th>\n",
       "      <th>female</th>\n",
       "    </tr>\n",
       "  </thead>\n",
       "  <tbody>\n",
       "    <tr>\n",
       "      <th rowspan=\"2\" valign=\"top\">left</th>\n",
       "      <th>soccer</th>\n",
       "      <td>5</td>\n",
       "      <td>10</td>\n",
       "      <td>15</td>\n",
       "      <td>20</td>\n",
       "    </tr>\n",
       "    <tr>\n",
       "      <th>baseball</th>\n",
       "      <td>6</td>\n",
       "      <td>11</td>\n",
       "      <td>20</td>\n",
       "      <td>25</td>\n",
       "    </tr>\n",
       "  </tbody>\n",
       "</table>\n",
       "</div>"
      ],
      "text/plain": [
       "              amateur         pro       \n",
       "                 male female male female\n",
       "left soccer         5     10   15     20\n",
       "     baseball       6     11   20     25"
      ]
     },
     "execution_count": 58,
     "metadata": {},
     "output_type": "execute_result"
    }
   ],
   "source": [
    "df[df.index.isin(['left'], level=0)]"
   ]
  },
  {
   "cell_type": "code",
   "execution_count": 59,
   "metadata": {},
   "outputs": [
    {
     "data": {
      "text/html": [
       "<div>\n",
       "<style scoped>\n",
       "    .dataframe tbody tr th:only-of-type {\n",
       "        vertical-align: middle;\n",
       "    }\n",
       "\n",
       "    .dataframe tbody tr th {\n",
       "        vertical-align: top;\n",
       "    }\n",
       "\n",
       "    .dataframe thead tr th {\n",
       "        text-align: left;\n",
       "    }\n",
       "</style>\n",
       "<table border=\"1\" class=\"dataframe\">\n",
       "  <thead>\n",
       "    <tr>\n",
       "      <th></th>\n",
       "      <th></th>\n",
       "      <th colspan=\"2\" halign=\"left\">amateur</th>\n",
       "      <th colspan=\"2\" halign=\"left\">pro</th>\n",
       "    </tr>\n",
       "    <tr>\n",
       "      <th></th>\n",
       "      <th></th>\n",
       "      <th>male</th>\n",
       "      <th>female</th>\n",
       "      <th>male</th>\n",
       "      <th>female</th>\n",
       "    </tr>\n",
       "  </thead>\n",
       "  <tbody>\n",
       "    <tr>\n",
       "      <th rowspan=\"2\" valign=\"top\">right</th>\n",
       "      <th>soccer</th>\n",
       "      <td>10</td>\n",
       "      <td>11</td>\n",
       "      <td>25</td>\n",
       "      <td>30</td>\n",
       "    </tr>\n",
       "    <tr>\n",
       "      <th>baseball</th>\n",
       "      <td>15</td>\n",
       "      <td>17</td>\n",
       "      <td>30</td>\n",
       "      <td>35</td>\n",
       "    </tr>\n",
       "  </tbody>\n",
       "</table>\n",
       "</div>"
      ],
      "text/plain": [
       "               amateur         pro       \n",
       "                  male female male female\n",
       "right soccer        10     11   25     30\n",
       "      baseball      15     17   30     35"
      ]
     },
     "execution_count": 59,
     "metadata": {},
     "output_type": "execute_result"
    }
   ],
   "source": [
    "df[df.index.isin(['right'], level=0)]"
   ]
  },
  {
   "cell_type": "code",
   "execution_count": 60,
   "metadata": {},
   "outputs": [
    {
     "data": {
      "text/html": [
       "<div>\n",
       "<style scoped>\n",
       "    .dataframe tbody tr th:only-of-type {\n",
       "        vertical-align: middle;\n",
       "    }\n",
       "\n",
       "    .dataframe tbody tr th {\n",
       "        vertical-align: top;\n",
       "    }\n",
       "\n",
       "    .dataframe thead tr th {\n",
       "        text-align: left;\n",
       "    }\n",
       "</style>\n",
       "<table border=\"1\" class=\"dataframe\">\n",
       "  <thead>\n",
       "    <tr>\n",
       "      <th></th>\n",
       "      <th></th>\n",
       "      <th colspan=\"2\" halign=\"left\">amateur</th>\n",
       "      <th colspan=\"2\" halign=\"left\">pro</th>\n",
       "    </tr>\n",
       "    <tr>\n",
       "      <th></th>\n",
       "      <th></th>\n",
       "      <th>male</th>\n",
       "      <th>female</th>\n",
       "      <th>male</th>\n",
       "      <th>female</th>\n",
       "    </tr>\n",
       "  </thead>\n",
       "  <tbody>\n",
       "    <tr>\n",
       "      <th>left</th>\n",
       "      <th>soccer</th>\n",
       "      <td>5</td>\n",
       "      <td>10</td>\n",
       "      <td>15</td>\n",
       "      <td>20</td>\n",
       "    </tr>\n",
       "    <tr>\n",
       "      <th>right</th>\n",
       "      <th>soccer</th>\n",
       "      <td>10</td>\n",
       "      <td>11</td>\n",
       "      <td>25</td>\n",
       "      <td>30</td>\n",
       "    </tr>\n",
       "  </tbody>\n",
       "</table>\n",
       "</div>"
      ],
      "text/plain": [
       "             amateur         pro       \n",
       "                male female male female\n",
       "left  soccer       5     10   15     20\n",
       "right soccer      10     11   25     30"
      ]
     },
     "execution_count": 60,
     "metadata": {},
     "output_type": "execute_result"
    }
   ],
   "source": [
    "df[df.index.isin(['soccer'], level=1)]"
   ]
  },
  {
   "cell_type": "code",
   "execution_count": 61,
   "metadata": {},
   "outputs": [
    {
     "data": {
      "text/html": [
       "<div>\n",
       "<style scoped>\n",
       "    .dataframe tbody tr th:only-of-type {\n",
       "        vertical-align: middle;\n",
       "    }\n",
       "\n",
       "    .dataframe tbody tr th {\n",
       "        vertical-align: top;\n",
       "    }\n",
       "\n",
       "    .dataframe thead tr th {\n",
       "        text-align: left;\n",
       "    }\n",
       "</style>\n",
       "<table border=\"1\" class=\"dataframe\">\n",
       "  <thead>\n",
       "    <tr>\n",
       "      <th></th>\n",
       "      <th></th>\n",
       "      <th colspan=\"2\" halign=\"left\">amateur</th>\n",
       "      <th colspan=\"2\" halign=\"left\">pro</th>\n",
       "    </tr>\n",
       "    <tr>\n",
       "      <th></th>\n",
       "      <th></th>\n",
       "      <th>male</th>\n",
       "      <th>female</th>\n",
       "      <th>male</th>\n",
       "      <th>female</th>\n",
       "    </tr>\n",
       "  </thead>\n",
       "  <tbody>\n",
       "    <tr>\n",
       "      <th>left</th>\n",
       "      <th>baseball</th>\n",
       "      <td>6</td>\n",
       "      <td>11</td>\n",
       "      <td>20</td>\n",
       "      <td>25</td>\n",
       "    </tr>\n",
       "    <tr>\n",
       "      <th>right</th>\n",
       "      <th>baseball</th>\n",
       "      <td>15</td>\n",
       "      <td>17</td>\n",
       "      <td>30</td>\n",
       "      <td>35</td>\n",
       "    </tr>\n",
       "  </tbody>\n",
       "</table>\n",
       "</div>"
      ],
      "text/plain": [
       "               amateur         pro       \n",
       "                  male female male female\n",
       "left  baseball       6     11   20     25\n",
       "right baseball      15     17   30     35"
      ]
     },
     "execution_count": 61,
     "metadata": {},
     "output_type": "execute_result"
    }
   ],
   "source": [
    "df[df.index.isin(['baseball'], level=1)]"
   ]
  },
  {
   "cell_type": "markdown",
   "metadata": {},
   "source": [
    "### Filtering columns\n",
    "\n",
    "What about subsetting or slicing multi-index columns? "
   ]
  },
  {
   "cell_type": "code",
   "execution_count": 62,
   "metadata": {},
   "outputs": [
    {
     "data": {
      "text/html": [
       "<div>\n",
       "<style scoped>\n",
       "    .dataframe tbody tr th:only-of-type {\n",
       "        vertical-align: middle;\n",
       "    }\n",
       "\n",
       "    .dataframe tbody tr th {\n",
       "        vertical-align: top;\n",
       "    }\n",
       "\n",
       "    .dataframe thead tr th {\n",
       "        text-align: left;\n",
       "    }\n",
       "</style>\n",
       "<table border=\"1\" class=\"dataframe\">\n",
       "  <thead>\n",
       "    <tr>\n",
       "      <th></th>\n",
       "      <th></th>\n",
       "      <th colspan=\"2\" halign=\"left\">amateur</th>\n",
       "    </tr>\n",
       "    <tr>\n",
       "      <th></th>\n",
       "      <th></th>\n",
       "      <th>male</th>\n",
       "      <th>female</th>\n",
       "    </tr>\n",
       "  </thead>\n",
       "  <tbody>\n",
       "    <tr>\n",
       "      <th rowspan=\"2\" valign=\"top\">left</th>\n",
       "      <th>soccer</th>\n",
       "      <td>5</td>\n",
       "      <td>10</td>\n",
       "    </tr>\n",
       "    <tr>\n",
       "      <th>baseball</th>\n",
       "      <td>6</td>\n",
       "      <td>11</td>\n",
       "    </tr>\n",
       "    <tr>\n",
       "      <th rowspan=\"2\" valign=\"top\">right</th>\n",
       "      <th>soccer</th>\n",
       "      <td>10</td>\n",
       "      <td>11</td>\n",
       "    </tr>\n",
       "    <tr>\n",
       "      <th>baseball</th>\n",
       "      <td>15</td>\n",
       "      <td>17</td>\n",
       "    </tr>\n",
       "  </tbody>\n",
       "</table>\n",
       "</div>"
      ],
      "text/plain": [
       "               amateur       \n",
       "                  male female\n",
       "left  soccer         5     10\n",
       "      baseball       6     11\n",
       "right soccer        10     11\n",
       "      baseball      15     17"
      ]
     },
     "execution_count": 62,
     "metadata": {},
     "output_type": "execute_result"
    }
   ],
   "source": [
    "df.loc[:, df.columns.get_level_values(0).isin(['amateur'])]"
   ]
  },
  {
   "cell_type": "code",
   "execution_count": 63,
   "metadata": {},
   "outputs": [
    {
     "data": {
      "text/html": [
       "<div>\n",
       "<style scoped>\n",
       "    .dataframe tbody tr th:only-of-type {\n",
       "        vertical-align: middle;\n",
       "    }\n",
       "\n",
       "    .dataframe tbody tr th {\n",
       "        vertical-align: top;\n",
       "    }\n",
       "\n",
       "    .dataframe thead tr th {\n",
       "        text-align: left;\n",
       "    }\n",
       "</style>\n",
       "<table border=\"1\" class=\"dataframe\">\n",
       "  <thead>\n",
       "    <tr>\n",
       "      <th></th>\n",
       "      <th></th>\n",
       "      <th colspan=\"2\" halign=\"left\">pro</th>\n",
       "    </tr>\n",
       "    <tr>\n",
       "      <th></th>\n",
       "      <th></th>\n",
       "      <th>male</th>\n",
       "      <th>female</th>\n",
       "    </tr>\n",
       "  </thead>\n",
       "  <tbody>\n",
       "    <tr>\n",
       "      <th rowspan=\"2\" valign=\"top\">left</th>\n",
       "      <th>soccer</th>\n",
       "      <td>15</td>\n",
       "      <td>20</td>\n",
       "    </tr>\n",
       "    <tr>\n",
       "      <th>baseball</th>\n",
       "      <td>20</td>\n",
       "      <td>25</td>\n",
       "    </tr>\n",
       "    <tr>\n",
       "      <th rowspan=\"2\" valign=\"top\">right</th>\n",
       "      <th>soccer</th>\n",
       "      <td>25</td>\n",
       "      <td>30</td>\n",
       "    </tr>\n",
       "    <tr>\n",
       "      <th>baseball</th>\n",
       "      <td>30</td>\n",
       "      <td>35</td>\n",
       "    </tr>\n",
       "  </tbody>\n",
       "</table>\n",
       "</div>"
      ],
      "text/plain": [
       "                pro       \n",
       "               male female\n",
       "left  soccer     15     20\n",
       "      baseball   20     25\n",
       "right soccer     25     30\n",
       "      baseball   30     35"
      ]
     },
     "execution_count": 63,
     "metadata": {},
     "output_type": "execute_result"
    }
   ],
   "source": [
    "df.loc[:, df.columns.get_level_values(0).isin(['pro'])]"
   ]
  },
  {
   "cell_type": "code",
   "execution_count": 64,
   "metadata": {},
   "outputs": [
    {
     "data": {
      "text/html": [
       "<div>\n",
       "<style scoped>\n",
       "    .dataframe tbody tr th:only-of-type {\n",
       "        vertical-align: middle;\n",
       "    }\n",
       "\n",
       "    .dataframe tbody tr th {\n",
       "        vertical-align: top;\n",
       "    }\n",
       "\n",
       "    .dataframe thead tr th {\n",
       "        text-align: left;\n",
       "    }\n",
       "</style>\n",
       "<table border=\"1\" class=\"dataframe\">\n",
       "  <thead>\n",
       "    <tr>\n",
       "      <th></th>\n",
       "      <th></th>\n",
       "      <th>amateur</th>\n",
       "      <th>pro</th>\n",
       "    </tr>\n",
       "    <tr>\n",
       "      <th></th>\n",
       "      <th></th>\n",
       "      <th>male</th>\n",
       "      <th>male</th>\n",
       "    </tr>\n",
       "  </thead>\n",
       "  <tbody>\n",
       "    <tr>\n",
       "      <th rowspan=\"2\" valign=\"top\">left</th>\n",
       "      <th>soccer</th>\n",
       "      <td>5</td>\n",
       "      <td>15</td>\n",
       "    </tr>\n",
       "    <tr>\n",
       "      <th>baseball</th>\n",
       "      <td>6</td>\n",
       "      <td>20</td>\n",
       "    </tr>\n",
       "    <tr>\n",
       "      <th rowspan=\"2\" valign=\"top\">right</th>\n",
       "      <th>soccer</th>\n",
       "      <td>10</td>\n",
       "      <td>25</td>\n",
       "    </tr>\n",
       "    <tr>\n",
       "      <th>baseball</th>\n",
       "      <td>15</td>\n",
       "      <td>30</td>\n",
       "    </tr>\n",
       "  </tbody>\n",
       "</table>\n",
       "</div>"
      ],
      "text/plain": [
       "               amateur  pro\n",
       "                  male male\n",
       "left  soccer         5   15\n",
       "      baseball       6   20\n",
       "right soccer        10   25\n",
       "      baseball      15   30"
      ]
     },
     "execution_count": 64,
     "metadata": {},
     "output_type": "execute_result"
    }
   ],
   "source": [
    "df.loc[:, df.columns.get_level_values(1).isin(['male'])]"
   ]
  },
  {
   "cell_type": "code",
   "execution_count": 65,
   "metadata": {},
   "outputs": [
    {
     "data": {
      "text/html": [
       "<div>\n",
       "<style scoped>\n",
       "    .dataframe tbody tr th:only-of-type {\n",
       "        vertical-align: middle;\n",
       "    }\n",
       "\n",
       "    .dataframe tbody tr th {\n",
       "        vertical-align: top;\n",
       "    }\n",
       "\n",
       "    .dataframe thead tr th {\n",
       "        text-align: left;\n",
       "    }\n",
       "</style>\n",
       "<table border=\"1\" class=\"dataframe\">\n",
       "  <thead>\n",
       "    <tr>\n",
       "      <th></th>\n",
       "      <th></th>\n",
       "      <th>amateur</th>\n",
       "      <th>pro</th>\n",
       "    </tr>\n",
       "    <tr>\n",
       "      <th></th>\n",
       "      <th></th>\n",
       "      <th>female</th>\n",
       "      <th>female</th>\n",
       "    </tr>\n",
       "  </thead>\n",
       "  <tbody>\n",
       "    <tr>\n",
       "      <th rowspan=\"2\" valign=\"top\">left</th>\n",
       "      <th>soccer</th>\n",
       "      <td>10</td>\n",
       "      <td>20</td>\n",
       "    </tr>\n",
       "    <tr>\n",
       "      <th>baseball</th>\n",
       "      <td>11</td>\n",
       "      <td>25</td>\n",
       "    </tr>\n",
       "    <tr>\n",
       "      <th rowspan=\"2\" valign=\"top\">right</th>\n",
       "      <th>soccer</th>\n",
       "      <td>11</td>\n",
       "      <td>30</td>\n",
       "    </tr>\n",
       "    <tr>\n",
       "      <th>baseball</th>\n",
       "      <td>17</td>\n",
       "      <td>35</td>\n",
       "    </tr>\n",
       "  </tbody>\n",
       "</table>\n",
       "</div>"
      ],
      "text/plain": [
       "               amateur    pro\n",
       "                female female\n",
       "left  soccer        10     20\n",
       "      baseball      11     25\n",
       "right soccer        11     30\n",
       "      baseball      17     35"
      ]
     },
     "execution_count": 65,
     "metadata": {},
     "output_type": "execute_result"
    }
   ],
   "source": [
    "df.loc[:, df.columns.get_level_values(1).isin(['female'])]"
   ]
  },
  {
   "cell_type": "markdown",
   "metadata": {},
   "source": [
    "### Iteration\n",
    "\n",
    "How do we iterate over a dataframe? Use the `iterrows()` function."
   ]
  },
  {
   "cell_type": "code",
   "execution_count": 66,
   "metadata": {},
   "outputs": [
    {
     "name": "stdout",
     "output_type": "stream",
     "text": [
      "a: {'x': 1, 'y': 2}\n",
      "b: {'x': 3, 'y': 4}\n",
      "c: {'x': 4, 'y': 5}\n"
     ]
    }
   ],
   "source": [
    "df = pd.DataFrame({\n",
    "    'x': [1, 3, 4],\n",
    "    'y': [2, 4, 5]\n",
    "}, index=['a', 'b', 'c'])\n",
    "\n",
    "for _index, row in df.iterrows():\n",
    "    s = {c: row[c] for c in df.columns}\n",
    "    print(f'{_index}: {s}')"
   ]
  },
  {
   "cell_type": "markdown",
   "metadata": {},
   "source": [
    "### Transformation by row\n",
    "\n",
    "What if we want to create a new column based on the whole row? Use the `apply` method on the dataframe and specify the axis to be *1* for column."
   ]
  },
  {
   "cell_type": "code",
   "execution_count": 67,
   "metadata": {},
   "outputs": [
    {
     "data": {
      "text/html": [
       "<div>\n",
       "<style scoped>\n",
       "    .dataframe tbody tr th:only-of-type {\n",
       "        vertical-align: middle;\n",
       "    }\n",
       "\n",
       "    .dataframe tbody tr th {\n",
       "        vertical-align: top;\n",
       "    }\n",
       "\n",
       "    .dataframe thead th {\n",
       "        text-align: right;\n",
       "    }\n",
       "</style>\n",
       "<table border=\"1\" class=\"dataframe\">\n",
       "  <thead>\n",
       "    <tr style=\"text-align: right;\">\n",
       "      <th></th>\n",
       "      <th>x</th>\n",
       "      <th>y</th>\n",
       "      <th>z</th>\n",
       "    </tr>\n",
       "  </thead>\n",
       "  <tbody>\n",
       "    <tr>\n",
       "      <th>a</th>\n",
       "      <td>1</td>\n",
       "      <td>2</td>\n",
       "      <td>3</td>\n",
       "    </tr>\n",
       "    <tr>\n",
       "      <th>b</th>\n",
       "      <td>3</td>\n",
       "      <td>4</td>\n",
       "      <td>7</td>\n",
       "    </tr>\n",
       "    <tr>\n",
       "      <th>c</th>\n",
       "      <td>4</td>\n",
       "      <td>5</td>\n",
       "      <td>9</td>\n",
       "    </tr>\n",
       "  </tbody>\n",
       "</table>\n",
       "</div>"
      ],
      "text/plain": [
       "   x  y  z\n",
       "a  1  2  3\n",
       "b  3  4  7\n",
       "c  4  5  9"
      ]
     },
     "execution_count": 67,
     "metadata": {},
     "output_type": "execute_result"
    }
   ],
   "source": [
    "df = pd.DataFrame({\n",
    "    'x': [1, 3, 4],\n",
    "    'y': [2, 4, 5]\n",
    "}, index=['a', 'b', 'c'])\n",
    "\n",
    "df['z'] = df.apply(lambda r: r.x + r.y, axis=1)\n",
    "df"
   ]
  },
  {
   "cell_type": "markdown",
   "metadata": {},
   "source": [
    "### Transformation by column\n",
    "\n",
    "What if we want to create a new column based on a column? Use the `apply` method on the column."
   ]
  },
  {
   "cell_type": "code",
   "execution_count": 68,
   "metadata": {},
   "outputs": [
    {
     "data": {
      "text/html": [
       "<div>\n",
       "<style scoped>\n",
       "    .dataframe tbody tr th:only-of-type {\n",
       "        vertical-align: middle;\n",
       "    }\n",
       "\n",
       "    .dataframe tbody tr th {\n",
       "        vertical-align: top;\n",
       "    }\n",
       "\n",
       "    .dataframe thead th {\n",
       "        text-align: right;\n",
       "    }\n",
       "</style>\n",
       "<table border=\"1\" class=\"dataframe\">\n",
       "  <thead>\n",
       "    <tr style=\"text-align: right;\">\n",
       "      <th></th>\n",
       "      <th>x</th>\n",
       "      <th>y</th>\n",
       "      <th>z</th>\n",
       "    </tr>\n",
       "  </thead>\n",
       "  <tbody>\n",
       "    <tr>\n",
       "      <th>a</th>\n",
       "      <td>1</td>\n",
       "      <td>2</td>\n",
       "      <td>1</td>\n",
       "    </tr>\n",
       "    <tr>\n",
       "      <th>b</th>\n",
       "      <td>3</td>\n",
       "      <td>4</td>\n",
       "      <td>9</td>\n",
       "    </tr>\n",
       "    <tr>\n",
       "      <th>c</th>\n",
       "      <td>4</td>\n",
       "      <td>5</td>\n",
       "      <td>16</td>\n",
       "    </tr>\n",
       "  </tbody>\n",
       "</table>\n",
       "</div>"
      ],
      "text/plain": [
       "   x  y   z\n",
       "a  1  2   1\n",
       "b  3  4   9\n",
       "c  4  5  16"
      ]
     },
     "execution_count": 68,
     "metadata": {},
     "output_type": "execute_result"
    }
   ],
   "source": [
    "df = pd.DataFrame({\n",
    "    'x': [1, 3, 4],\n",
    "    'y': [2, 4, 5]\n",
    "}, index=['a', 'b', 'c'])\n",
    "\n",
    "df['z'] = df.x.apply(lambda x: x**2)\n",
    "df"
   ]
  },
  {
   "cell_type": "markdown",
   "metadata": {},
   "source": [
    "### Transformation of a dataframe\n",
    "\n",
    "If you need to transform the dataframe as a whole, you should use the `pipe()` function which can be chained in a `fluent` way. Below, we have made up data on students; we have their handedness and overall numeric grade. We want to transform the encoding of handedness from 0 and 1 to left and right, respectively, and also numeric grade to letter grade. It will be fun to also transform the name to be properly cased and decomposed into its component parts (first name and last name)."
   ]
  },
  {
   "cell_type": "code",
   "execution_count": 69,
   "metadata": {},
   "outputs": [
    {
     "data": {
      "text/html": [
       "<div>\n",
       "<style scoped>\n",
       "    .dataframe tbody tr th:only-of-type {\n",
       "        vertical-align: middle;\n",
       "    }\n",
       "\n",
       "    .dataframe tbody tr th {\n",
       "        vertical-align: top;\n",
       "    }\n",
       "\n",
       "    .dataframe thead th {\n",
       "        text-align: right;\n",
       "    }\n",
       "</style>\n",
       "<table border=\"1\" class=\"dataframe\">\n",
       "  <thead>\n",
       "    <tr style=\"text-align: right;\">\n",
       "      <th></th>\n",
       "      <th>name</th>\n",
       "      <th>handedness</th>\n",
       "      <th>score</th>\n",
       "    </tr>\n",
       "  </thead>\n",
       "  <tbody>\n",
       "    <tr>\n",
       "      <th>0</th>\n",
       "      <td>john doe</td>\n",
       "      <td>0</td>\n",
       "      <td>0.95</td>\n",
       "    </tr>\n",
       "    <tr>\n",
       "      <th>1</th>\n",
       "      <td>jack smith</td>\n",
       "      <td>1</td>\n",
       "      <td>0.85</td>\n",
       "    </tr>\n",
       "    <tr>\n",
       "      <th>2</th>\n",
       "      <td>jason demming</td>\n",
       "      <td>0</td>\n",
       "      <td>0.75</td>\n",
       "    </tr>\n",
       "    <tr>\n",
       "      <th>3</th>\n",
       "      <td>joe turing</td>\n",
       "      <td>1</td>\n",
       "      <td>0.65</td>\n",
       "    </tr>\n",
       "  </tbody>\n",
       "</table>\n",
       "</div>"
      ],
      "text/plain": [
       "            name  handedness  score\n",
       "0       john doe           0   0.95\n",
       "1     jack smith           1   0.85\n",
       "2  jason demming           0   0.75\n",
       "3     joe turing           1   0.65"
      ]
     },
     "execution_count": 69,
     "metadata": {},
     "output_type": "execute_result"
    }
   ],
   "source": [
    "df = pd.DataFrame({\n",
    "    'name': ['john doe', 'jack smith', 'jason demming', 'joe turing'],\n",
    "    'handedness': [0, 1, 0, 1],\n",
    "    'score': [0.95, 0.85, 0.75, 0.65]\n",
    "})\n",
    "df"
   ]
  },
  {
   "cell_type": "markdown",
   "metadata": {},
   "source": [
    "Take notice that each of these transformations return the dataframe. Otherwise, you will have `None` returned and chaining will break."
   ]
  },
  {
   "cell_type": "code",
   "execution_count": 70,
   "metadata": {},
   "outputs": [
    {
     "data": {
      "text/html": [
       "<div>\n",
       "<style scoped>\n",
       "    .dataframe tbody tr th:only-of-type {\n",
       "        vertical-align: middle;\n",
       "    }\n",
       "\n",
       "    .dataframe tbody tr th {\n",
       "        vertical-align: top;\n",
       "    }\n",
       "\n",
       "    .dataframe thead th {\n",
       "        text-align: right;\n",
       "    }\n",
       "</style>\n",
       "<table border=\"1\" class=\"dataframe\">\n",
       "  <thead>\n",
       "    <tr style=\"text-align: right;\">\n",
       "      <th></th>\n",
       "      <th>name</th>\n",
       "      <th>handedness</th>\n",
       "      <th>score</th>\n",
       "      <th>first_name</th>\n",
       "      <th>last_name</th>\n",
       "      <th>grade</th>\n",
       "    </tr>\n",
       "  </thead>\n",
       "  <tbody>\n",
       "    <tr>\n",
       "      <th>0</th>\n",
       "      <td>John Doe</td>\n",
       "      <td>left</td>\n",
       "      <td>0.95</td>\n",
       "      <td>John</td>\n",
       "      <td>Doe</td>\n",
       "      <td>F</td>\n",
       "    </tr>\n",
       "    <tr>\n",
       "      <th>1</th>\n",
       "      <td>Jack Smith</td>\n",
       "      <td>right</td>\n",
       "      <td>0.85</td>\n",
       "      <td>Jack</td>\n",
       "      <td>Smith</td>\n",
       "      <td>F</td>\n",
       "    </tr>\n",
       "    <tr>\n",
       "      <th>2</th>\n",
       "      <td>Jason Demming</td>\n",
       "      <td>left</td>\n",
       "      <td>0.75</td>\n",
       "      <td>Jason</td>\n",
       "      <td>Demming</td>\n",
       "      <td>F</td>\n",
       "    </tr>\n",
       "    <tr>\n",
       "      <th>3</th>\n",
       "      <td>Joe Turing</td>\n",
       "      <td>right</td>\n",
       "      <td>0.65</td>\n",
       "      <td>Joe</td>\n",
       "      <td>Turing</td>\n",
       "      <td>F</td>\n",
       "    </tr>\n",
       "  </tbody>\n",
       "</table>\n",
       "</div>"
      ],
      "text/plain": [
       "            name handedness  score first_name last_name grade\n",
       "0       John Doe       left   0.95       John       Doe     F\n",
       "1     Jack Smith      right   0.85       Jack     Smith     F\n",
       "2  Jason Demming       left   0.75      Jason   Demming     F\n",
       "3     Joe Turing      right   0.65        Joe    Turing     F"
      ]
     },
     "execution_count": 70,
     "metadata": {},
     "output_type": "execute_result"
    }
   ],
   "source": [
    "def properly_case(df):\n",
    "    df.name = df.name.apply(lambda n: n.title())\n",
    "    return df\n",
    "\n",
    "def decompose_name(df):\n",
    "    df['first_name'] = df.name.apply(lambda n: n.split(' ')[0].strip())\n",
    "    df['last_name'] = df.name.apply(lambda n: n.split(' ')[1].strip())\n",
    "    return df\n",
    "    \n",
    "def reencode_handedness(df):\n",
    "    df.handedness = df.handedness.apply(lambda h: 'left' if h == 0 else 'right')\n",
    "    return df\n",
    "    \n",
    "def convert_letter_grade(df):\n",
    "    def get_letter_grade(g):\n",
    "        if g >= 90:\n",
    "            return 'A'\n",
    "        elif g >= 80:\n",
    "            return 'B'\n",
    "        elif g >= 70:\n",
    "            return 'C'\n",
    "        elif g >= 60:\n",
    "            return 'D'\n",
    "        else:\n",
    "            return 'F'\n",
    "    df['grade'] = df.score.apply(lambda s: get_letter_grade(s))\n",
    "    return df\n",
    "\n",
    "df = pd.DataFrame({\n",
    "    'name': ['john doe', 'jack smith', 'jason demming', 'joe turing'],\n",
    "    'handedness': [0, 1, 0, 1],\n",
    "    'score': [0.95, 0.85, 0.75, 0.65]\n",
    "})\n",
    "df.pipe(properly_case).pipe(decompose_name).pipe(reencode_handedness).pipe(convert_letter_grade)\n",
    "df"
   ]
  },
  {
   "cell_type": "markdown",
   "metadata": {},
   "source": [
    "If you are piping a lot transformations, use the line continuation character `\\`."
   ]
  },
  {
   "cell_type": "code",
   "execution_count": 71,
   "metadata": {},
   "outputs": [
    {
     "data": {
      "text/html": [
       "<div>\n",
       "<style scoped>\n",
       "    .dataframe tbody tr th:only-of-type {\n",
       "        vertical-align: middle;\n",
       "    }\n",
       "\n",
       "    .dataframe tbody tr th {\n",
       "        vertical-align: top;\n",
       "    }\n",
       "\n",
       "    .dataframe thead th {\n",
       "        text-align: right;\n",
       "    }\n",
       "</style>\n",
       "<table border=\"1\" class=\"dataframe\">\n",
       "  <thead>\n",
       "    <tr style=\"text-align: right;\">\n",
       "      <th></th>\n",
       "      <th>name</th>\n",
       "      <th>handedness</th>\n",
       "      <th>score</th>\n",
       "      <th>first_name</th>\n",
       "      <th>last_name</th>\n",
       "      <th>grade</th>\n",
       "    </tr>\n",
       "  </thead>\n",
       "  <tbody>\n",
       "    <tr>\n",
       "      <th>0</th>\n",
       "      <td>John Doe</td>\n",
       "      <td>left</td>\n",
       "      <td>0.95</td>\n",
       "      <td>John</td>\n",
       "      <td>Doe</td>\n",
       "      <td>F</td>\n",
       "    </tr>\n",
       "    <tr>\n",
       "      <th>1</th>\n",
       "      <td>Jack Smith</td>\n",
       "      <td>right</td>\n",
       "      <td>0.85</td>\n",
       "      <td>Jack</td>\n",
       "      <td>Smith</td>\n",
       "      <td>F</td>\n",
       "    </tr>\n",
       "    <tr>\n",
       "      <th>2</th>\n",
       "      <td>Jason Demming</td>\n",
       "      <td>left</td>\n",
       "      <td>0.75</td>\n",
       "      <td>Jason</td>\n",
       "      <td>Demming</td>\n",
       "      <td>F</td>\n",
       "    </tr>\n",
       "    <tr>\n",
       "      <th>3</th>\n",
       "      <td>Joe Turing</td>\n",
       "      <td>right</td>\n",
       "      <td>0.65</td>\n",
       "      <td>Joe</td>\n",
       "      <td>Turing</td>\n",
       "      <td>F</td>\n",
       "    </tr>\n",
       "  </tbody>\n",
       "</table>\n",
       "</div>"
      ],
      "text/plain": [
       "            name handedness  score first_name last_name grade\n",
       "0       John Doe       left   0.95       John       Doe     F\n",
       "1     Jack Smith      right   0.85       Jack     Smith     F\n",
       "2  Jason Demming       left   0.75      Jason   Demming     F\n",
       "3     Joe Turing      right   0.65        Joe    Turing     F"
      ]
     },
     "execution_count": 71,
     "metadata": {},
     "output_type": "execute_result"
    }
   ],
   "source": [
    "df = pd.DataFrame({\n",
    "    'name': ['john doe', 'jack smith', 'jason demming', 'joe turing'],\n",
    "    'handedness': [0, 1, 0, 1],\n",
    "    'score': [0.95, 0.85, 0.75, 0.65]\n",
    "})\n",
    "df = df.pipe(properly_case)\\\n",
    "        .pipe(decompose_name)\\\n",
    "        .pipe(reencode_handedness)\\\n",
    "        .pipe(convert_letter_grade)\n",
    "df"
   ]
  },
  {
   "cell_type": "markdown",
   "metadata": {},
   "source": [
    "The line continuation character can become a nuisance, so wrap your chaining inside parentheses."
   ]
  },
  {
   "cell_type": "code",
   "execution_count": 72,
   "metadata": {},
   "outputs": [
    {
     "data": {
      "text/html": [
       "<div>\n",
       "<style scoped>\n",
       "    .dataframe tbody tr th:only-of-type {\n",
       "        vertical-align: middle;\n",
       "    }\n",
       "\n",
       "    .dataframe tbody tr th {\n",
       "        vertical-align: top;\n",
       "    }\n",
       "\n",
       "    .dataframe thead th {\n",
       "        text-align: right;\n",
       "    }\n",
       "</style>\n",
       "<table border=\"1\" class=\"dataframe\">\n",
       "  <thead>\n",
       "    <tr style=\"text-align: right;\">\n",
       "      <th></th>\n",
       "      <th>name</th>\n",
       "      <th>handedness</th>\n",
       "      <th>score</th>\n",
       "      <th>first_name</th>\n",
       "      <th>last_name</th>\n",
       "      <th>grade</th>\n",
       "    </tr>\n",
       "  </thead>\n",
       "  <tbody>\n",
       "    <tr>\n",
       "      <th>0</th>\n",
       "      <td>John Doe</td>\n",
       "      <td>left</td>\n",
       "      <td>0.95</td>\n",
       "      <td>John</td>\n",
       "      <td>Doe</td>\n",
       "      <td>F</td>\n",
       "    </tr>\n",
       "    <tr>\n",
       "      <th>1</th>\n",
       "      <td>Jack Smith</td>\n",
       "      <td>right</td>\n",
       "      <td>0.85</td>\n",
       "      <td>Jack</td>\n",
       "      <td>Smith</td>\n",
       "      <td>F</td>\n",
       "    </tr>\n",
       "    <tr>\n",
       "      <th>2</th>\n",
       "      <td>Jason Demming</td>\n",
       "      <td>left</td>\n",
       "      <td>0.75</td>\n",
       "      <td>Jason</td>\n",
       "      <td>Demming</td>\n",
       "      <td>F</td>\n",
       "    </tr>\n",
       "    <tr>\n",
       "      <th>3</th>\n",
       "      <td>Joe Turing</td>\n",
       "      <td>right</td>\n",
       "      <td>0.65</td>\n",
       "      <td>Joe</td>\n",
       "      <td>Turing</td>\n",
       "      <td>F</td>\n",
       "    </tr>\n",
       "  </tbody>\n",
       "</table>\n",
       "</div>"
      ],
      "text/plain": [
       "            name handedness  score first_name last_name grade\n",
       "0       John Doe       left   0.95       John       Doe     F\n",
       "1     Jack Smith      right   0.85       Jack     Smith     F\n",
       "2  Jason Demming       left   0.75      Jason   Demming     F\n",
       "3     Joe Turing      right   0.65        Joe    Turing     F"
      ]
     },
     "execution_count": 72,
     "metadata": {},
     "output_type": "execute_result"
    }
   ],
   "source": [
    "df = pd.DataFrame({\n",
    "    'name': ['john doe', 'jack smith', 'jason demming', 'joe turing'],\n",
    "    'handedness': [0, 1, 0, 1],\n",
    "    'score': [0.95, 0.85, 0.75, 0.65]\n",
    "})\n",
    "df = (df.pipe(properly_case)\n",
    "        .pipe(decompose_name)\n",
    "        .pipe(reencode_handedness)\n",
    "        .pipe(convert_letter_grade))\n",
    "df"
   ]
  },
  {
   "cell_type": "markdown",
   "metadata": {},
   "source": [
    "### Aggregation\n",
    "\n",
    "Aggregations are typically accomplished by grouping and then performing a summary statistic operation. Below, we generate fake data. There will be some categorical variables (fields) such as sport, handedness, league and gender, and one continuous variable called stats. Stats is made up and means nothing;"
   ]
  },
  {
   "cell_type": "code",
   "execution_count": 73,
   "metadata": {},
   "outputs": [
    {
     "data": {
      "text/html": [
       "<div>\n",
       "<style scoped>\n",
       "    .dataframe tbody tr th:only-of-type {\n",
       "        vertical-align: middle;\n",
       "    }\n",
       "\n",
       "    .dataframe tbody tr th {\n",
       "        vertical-align: top;\n",
       "    }\n",
       "\n",
       "    .dataframe thead th {\n",
       "        text-align: right;\n",
       "    }\n",
       "</style>\n",
       "<table border=\"1\" class=\"dataframe\">\n",
       "  <thead>\n",
       "    <tr style=\"text-align: right;\">\n",
       "      <th></th>\n",
       "      <th>sport</th>\n",
       "      <th>handedness</th>\n",
       "      <th>league</th>\n",
       "      <th>gender</th>\n",
       "      <th>stats</th>\n",
       "    </tr>\n",
       "  </thead>\n",
       "  <tbody>\n",
       "    <tr>\n",
       "      <th>0</th>\n",
       "      <td>baseball</td>\n",
       "      <td>left</td>\n",
       "      <td>amateur</td>\n",
       "      <td>male</td>\n",
       "      <td>411.945536</td>\n",
       "    </tr>\n",
       "    <tr>\n",
       "      <th>1</th>\n",
       "      <td>baseball</td>\n",
       "      <td>left</td>\n",
       "      <td>amateur</td>\n",
       "      <td>male</td>\n",
       "      <td>412.674308</td>\n",
       "    </tr>\n",
       "    <tr>\n",
       "      <th>2</th>\n",
       "      <td>baseball</td>\n",
       "      <td>left</td>\n",
       "      <td>amateur</td>\n",
       "      <td>male</td>\n",
       "      <td>412.346647</td>\n",
       "    </tr>\n",
       "    <tr>\n",
       "      <th>3</th>\n",
       "      <td>baseball</td>\n",
       "      <td>left</td>\n",
       "      <td>amateur</td>\n",
       "      <td>male</td>\n",
       "      <td>410.699654</td>\n",
       "    </tr>\n",
       "    <tr>\n",
       "      <th>4</th>\n",
       "      <td>baseball</td>\n",
       "      <td>left</td>\n",
       "      <td>amateur</td>\n",
       "      <td>male</td>\n",
       "      <td>413.518512</td>\n",
       "    </tr>\n",
       "  </tbody>\n",
       "</table>\n",
       "</div>"
      ],
      "text/plain": [
       "      sport handedness   league gender       stats\n",
       "0  baseball       left  amateur   male  411.945536\n",
       "1  baseball       left  amateur   male  412.674308\n",
       "2  baseball       left  amateur   male  412.346647\n",
       "3  baseball       left  amateur   male  410.699654\n",
       "4  baseball       left  amateur   male  413.518512"
      ]
     },
     "execution_count": 73,
     "metadata": {},
     "output_type": "execute_result"
    }
   ],
   "source": [
    "from itertools import product, chain\n",
    "import numpy as np\n",
    "import random\n",
    "from random import randint\n",
    "\n",
    "np.random.seed(37)\n",
    "random.seed(37)\n",
    "\n",
    "sports = ['baseball', 'basketball']\n",
    "handedness = ['left', 'right']\n",
    "leagues = ['amateur', 'pro']\n",
    "genders = ['male', 'female']\n",
    "\n",
    "get_mean = lambda tup: ord(tup[0][0]) + ord(tup[1][0]) + ord(tup[2][0]) + ord(tup[3][0])\n",
    "get_samples = lambda m, n: np.random.normal(m, 1.0, n)\n",
    "\n",
    "data = product(*[sports, handedness, leagues, genders])\n",
    "data = map(lambda tup: (tup, get_mean(tup)), data)\n",
    "data = map(lambda tup: (tup[0], get_samples(tup[1], randint(5, 20))), data)\n",
    "data = map(lambda tup: [tup[0] + (m, ) for m in tup[1]], data)\n",
    "data = chain(*data)\n",
    "\n",
    "df = pd.DataFrame(data, columns=['sport', 'handedness', 'league', 'gender', 'stats'])\n",
    "df.head()"
   ]
  },
  {
   "cell_type": "markdown",
   "metadata": {},
   "source": [
    "What if we wanted the mean of the stats by sports? Notice how below, the resulting dataframe has a multi-index column?"
   ]
  },
  {
   "cell_type": "code",
   "execution_count": 74,
   "metadata": {},
   "outputs": [
    {
     "data": {
      "text/html": [
       "<div>\n",
       "<style scoped>\n",
       "    .dataframe tbody tr th:only-of-type {\n",
       "        vertical-align: middle;\n",
       "    }\n",
       "\n",
       "    .dataframe tbody tr th {\n",
       "        vertical-align: top;\n",
       "    }\n",
       "\n",
       "    .dataframe thead tr th {\n",
       "        text-align: left;\n",
       "    }\n",
       "\n",
       "    .dataframe thead tr:last-of-type th {\n",
       "        text-align: right;\n",
       "    }\n",
       "</style>\n",
       "<table border=\"1\" class=\"dataframe\">\n",
       "  <thead>\n",
       "    <tr>\n",
       "      <th></th>\n",
       "      <th>stats</th>\n",
       "    </tr>\n",
       "    <tr>\n",
       "      <th></th>\n",
       "      <th>mean</th>\n",
       "    </tr>\n",
       "    <tr>\n",
       "      <th>sport</th>\n",
       "      <th></th>\n",
       "    </tr>\n",
       "  </thead>\n",
       "  <tbody>\n",
       "    <tr>\n",
       "      <th>baseball</th>\n",
       "      <td>420.689231</td>\n",
       "    </tr>\n",
       "    <tr>\n",
       "      <th>basketball</th>\n",
       "      <td>416.167987</td>\n",
       "    </tr>\n",
       "  </tbody>\n",
       "</table>\n",
       "</div>"
      ],
      "text/plain": [
       "                 stats\n",
       "                  mean\n",
       "sport                 \n",
       "baseball    420.689231\n",
       "basketball  416.167987"
      ]
     },
     "execution_count": 74,
     "metadata": {},
     "output_type": "execute_result"
    }
   ],
   "source": [
    "df.groupby(['sport']).agg(['mean'])"
   ]
  },
  {
   "cell_type": "markdown",
   "metadata": {},
   "source": [
    "To get rid of the first level (or the mean level), use the `droplevel()` function."
   ]
  },
  {
   "cell_type": "code",
   "execution_count": 75,
   "metadata": {},
   "outputs": [
    {
     "data": {
      "text/html": [
       "<div>\n",
       "<style scoped>\n",
       "    .dataframe tbody tr th:only-of-type {\n",
       "        vertical-align: middle;\n",
       "    }\n",
       "\n",
       "    .dataframe tbody tr th {\n",
       "        vertical-align: top;\n",
       "    }\n",
       "\n",
       "    .dataframe thead th {\n",
       "        text-align: right;\n",
       "    }\n",
       "</style>\n",
       "<table border=\"1\" class=\"dataframe\">\n",
       "  <thead>\n",
       "    <tr style=\"text-align: right;\">\n",
       "      <th></th>\n",
       "      <th>stats</th>\n",
       "    </tr>\n",
       "    <tr>\n",
       "      <th>sport</th>\n",
       "      <th></th>\n",
       "    </tr>\n",
       "  </thead>\n",
       "  <tbody>\n",
       "    <tr>\n",
       "      <th>baseball</th>\n",
       "      <td>420.689231</td>\n",
       "    </tr>\n",
       "    <tr>\n",
       "      <th>basketball</th>\n",
       "      <td>416.167987</td>\n",
       "    </tr>\n",
       "  </tbody>\n",
       "</table>\n",
       "</div>"
      ],
      "text/plain": [
       "                 stats\n",
       "sport                 \n",
       "baseball    420.689231\n",
       "basketball  416.167987"
      ]
     },
     "execution_count": 75,
     "metadata": {},
     "output_type": "execute_result"
    }
   ],
   "source": [
    "df.groupby(['sport'])\\\n",
    "    .agg(['mean'])\\\n",
    "    .droplevel(1, axis=1)"
   ]
  },
  {
   "cell_type": "markdown",
   "metadata": {},
   "source": [
    "We can also get the means of the stats by handedness, league and gender alone."
   ]
  },
  {
   "cell_type": "code",
   "execution_count": 76,
   "metadata": {},
   "outputs": [
    {
     "data": {
      "text/html": [
       "<div>\n",
       "<style scoped>\n",
       "    .dataframe tbody tr th:only-of-type {\n",
       "        vertical-align: middle;\n",
       "    }\n",
       "\n",
       "    .dataframe tbody tr th {\n",
       "        vertical-align: top;\n",
       "    }\n",
       "\n",
       "    .dataframe thead th {\n",
       "        text-align: right;\n",
       "    }\n",
       "</style>\n",
       "<table border=\"1\" class=\"dataframe\">\n",
       "  <thead>\n",
       "    <tr style=\"text-align: right;\">\n",
       "      <th></th>\n",
       "      <th>stats</th>\n",
       "    </tr>\n",
       "    <tr>\n",
       "      <th>handedness</th>\n",
       "      <th></th>\n",
       "    </tr>\n",
       "  </thead>\n",
       "  <tbody>\n",
       "    <tr>\n",
       "      <th>left</th>\n",
       "      <td>416.043975</td>\n",
       "    </tr>\n",
       "    <tr>\n",
       "      <th>right</th>\n",
       "      <td>420.895420</td>\n",
       "    </tr>\n",
       "  </tbody>\n",
       "</table>\n",
       "</div>"
      ],
      "text/plain": [
       "                 stats\n",
       "handedness            \n",
       "left        416.043975\n",
       "right       420.895420"
      ]
     },
     "execution_count": 76,
     "metadata": {},
     "output_type": "execute_result"
    }
   ],
   "source": [
    "df.groupby(['handedness'])\\\n",
    "    .agg(['mean'])\\\n",
    "    .droplevel(1, axis=1)"
   ]
  },
  {
   "cell_type": "code",
   "execution_count": 77,
   "metadata": {},
   "outputs": [
    {
     "data": {
      "text/html": [
       "<div>\n",
       "<style scoped>\n",
       "    .dataframe tbody tr th:only-of-type {\n",
       "        vertical-align: middle;\n",
       "    }\n",
       "\n",
       "    .dataframe tbody tr th {\n",
       "        vertical-align: top;\n",
       "    }\n",
       "\n",
       "    .dataframe thead th {\n",
       "        text-align: right;\n",
       "    }\n",
       "</style>\n",
       "<table border=\"1\" class=\"dataframe\">\n",
       "  <thead>\n",
       "    <tr style=\"text-align: right;\">\n",
       "      <th></th>\n",
       "      <th>stats</th>\n",
       "    </tr>\n",
       "    <tr>\n",
       "      <th>league</th>\n",
       "      <th></th>\n",
       "    </tr>\n",
       "  </thead>\n",
       "  <tbody>\n",
       "    <tr>\n",
       "      <th>amateur</th>\n",
       "      <td>410.813160</td>\n",
       "    </tr>\n",
       "    <tr>\n",
       "      <th>pro</th>\n",
       "      <td>426.221361</td>\n",
       "    </tr>\n",
       "  </tbody>\n",
       "</table>\n",
       "</div>"
      ],
      "text/plain": [
       "              stats\n",
       "league             \n",
       "amateur  410.813160\n",
       "pro      426.221361"
      ]
     },
     "execution_count": 77,
     "metadata": {},
     "output_type": "execute_result"
    }
   ],
   "source": [
    "df.groupby(['league'])\\\n",
    "    .agg(['mean'])\\\n",
    "    .droplevel(1, axis=1)"
   ]
  },
  {
   "cell_type": "code",
   "execution_count": 78,
   "metadata": {},
   "outputs": [
    {
     "data": {
      "text/html": [
       "<div>\n",
       "<style scoped>\n",
       "    .dataframe tbody tr th:only-of-type {\n",
       "        vertical-align: middle;\n",
       "    }\n",
       "\n",
       "    .dataframe tbody tr th {\n",
       "        vertical-align: top;\n",
       "    }\n",
       "\n",
       "    .dataframe thead th {\n",
       "        text-align: right;\n",
       "    }\n",
       "</style>\n",
       "<table border=\"1\" class=\"dataframe\">\n",
       "  <thead>\n",
       "    <tr style=\"text-align: right;\">\n",
       "      <th></th>\n",
       "      <th>stats</th>\n",
       "    </tr>\n",
       "    <tr>\n",
       "      <th>gender</th>\n",
       "      <th></th>\n",
       "    </tr>\n",
       "  </thead>\n",
       "  <tbody>\n",
       "    <tr>\n",
       "      <th>female</th>\n",
       "      <td>415.605160</td>\n",
       "    </tr>\n",
       "    <tr>\n",
       "      <th>male</th>\n",
       "      <td>422.512933</td>\n",
       "    </tr>\n",
       "  </tbody>\n",
       "</table>\n",
       "</div>"
      ],
      "text/plain": [
       "             stats\n",
       "gender            \n",
       "female  415.605160\n",
       "male    422.512933"
      ]
     },
     "execution_count": 78,
     "metadata": {},
     "output_type": "execute_result"
    }
   ],
   "source": [
    "df.groupby(['gender'])\\\n",
    "    .agg(['mean'])\\\n",
    "    .droplevel(1, axis=1)"
   ]
  },
  {
   "cell_type": "markdown",
   "metadata": {},
   "source": [
    "If we wanted the means by more than one variable, just expand the list of column names as follows."
   ]
  },
  {
   "cell_type": "code",
   "execution_count": 79,
   "metadata": {},
   "outputs": [
    {
     "data": {
      "text/html": [
       "<div>\n",
       "<style scoped>\n",
       "    .dataframe tbody tr th:only-of-type {\n",
       "        vertical-align: middle;\n",
       "    }\n",
       "\n",
       "    .dataframe tbody tr th {\n",
       "        vertical-align: top;\n",
       "    }\n",
       "\n",
       "    .dataframe thead th {\n",
       "        text-align: right;\n",
       "    }\n",
       "</style>\n",
       "<table border=\"1\" class=\"dataframe\">\n",
       "  <thead>\n",
       "    <tr style=\"text-align: right;\">\n",
       "      <th></th>\n",
       "      <th></th>\n",
       "      <th>stats</th>\n",
       "    </tr>\n",
       "    <tr>\n",
       "      <th>sport</th>\n",
       "      <th>handedness</th>\n",
       "      <th></th>\n",
       "    </tr>\n",
       "  </thead>\n",
       "  <tbody>\n",
       "    <tr>\n",
       "      <th rowspan=\"2\" valign=\"top\">baseball</th>\n",
       "      <th>left</th>\n",
       "      <td>419.432848</td>\n",
       "    </tr>\n",
       "    <tr>\n",
       "      <th>right</th>\n",
       "      <td>421.728995</td>\n",
       "    </tr>\n",
       "    <tr>\n",
       "      <th rowspan=\"2\" valign=\"top\">basketball</th>\n",
       "      <th>left</th>\n",
       "      <td>412.915783</td>\n",
       "    </tr>\n",
       "    <tr>\n",
       "      <th>right</th>\n",
       "      <td>419.844391</td>\n",
       "    </tr>\n",
       "  </tbody>\n",
       "</table>\n",
       "</div>"
      ],
      "text/plain": [
       "                            stats\n",
       "sport      handedness            \n",
       "baseball   left        419.432848\n",
       "           right       421.728995\n",
       "basketball left        412.915783\n",
       "           right       419.844391"
      ]
     },
     "execution_count": 79,
     "metadata": {},
     "output_type": "execute_result"
    }
   ],
   "source": [
    "df.groupby(['sport', 'handedness'])\\\n",
    "    .agg(['mean'])\\\n",
    "    .droplevel(1, axis=1)"
   ]
  },
  {
   "cell_type": "code",
   "execution_count": 80,
   "metadata": {},
   "outputs": [
    {
     "data": {
      "text/html": [
       "<div>\n",
       "<style scoped>\n",
       "    .dataframe tbody tr th:only-of-type {\n",
       "        vertical-align: middle;\n",
       "    }\n",
       "\n",
       "    .dataframe tbody tr th {\n",
       "        vertical-align: top;\n",
       "    }\n",
       "\n",
       "    .dataframe thead th {\n",
       "        text-align: right;\n",
       "    }\n",
       "</style>\n",
       "<table border=\"1\" class=\"dataframe\">\n",
       "  <thead>\n",
       "    <tr style=\"text-align: right;\">\n",
       "      <th></th>\n",
       "      <th></th>\n",
       "      <th></th>\n",
       "      <th>stats</th>\n",
       "    </tr>\n",
       "    <tr>\n",
       "      <th>sport</th>\n",
       "      <th>handedness</th>\n",
       "      <th>league</th>\n",
       "      <th></th>\n",
       "    </tr>\n",
       "  </thead>\n",
       "  <tbody>\n",
       "    <tr>\n",
       "      <th rowspan=\"4\" valign=\"top\">baseball</th>\n",
       "      <th rowspan=\"2\" valign=\"top\">left</th>\n",
       "      <th>amateur</th>\n",
       "      <td>409.109277</td>\n",
       "    </tr>\n",
       "    <tr>\n",
       "      <th>pro</th>\n",
       "      <td>423.267318</td>\n",
       "    </tr>\n",
       "    <tr>\n",
       "      <th rowspan=\"2\" valign=\"top\">right</th>\n",
       "      <th>amateur</th>\n",
       "      <td>412.970497</td>\n",
       "    </tr>\n",
       "    <tr>\n",
       "      <th>pro</th>\n",
       "      <td>429.357364</td>\n",
       "    </tr>\n",
       "    <tr>\n",
       "      <th rowspan=\"4\" valign=\"top\">basketball</th>\n",
       "      <th rowspan=\"2\" valign=\"top\">left</th>\n",
       "      <th>amateur</th>\n",
       "      <td>408.508027</td>\n",
       "    </tr>\n",
       "    <tr>\n",
       "      <th>pro</th>\n",
       "      <td>423.788250</td>\n",
       "    </tr>\n",
       "    <tr>\n",
       "      <th rowspan=\"2\" valign=\"top\">right</th>\n",
       "      <th>amateur</th>\n",
       "      <td>412.780854</td>\n",
       "    </tr>\n",
       "    <tr>\n",
       "      <th>pro</th>\n",
       "      <td>428.253365</td>\n",
       "    </tr>\n",
       "  </tbody>\n",
       "</table>\n",
       "</div>"
      ],
      "text/plain": [
       "                                    stats\n",
       "sport      handedness league             \n",
       "baseball   left       amateur  409.109277\n",
       "                      pro      423.267318\n",
       "           right      amateur  412.970497\n",
       "                      pro      429.357364\n",
       "basketball left       amateur  408.508027\n",
       "                      pro      423.788250\n",
       "           right      amateur  412.780854\n",
       "                      pro      428.253365"
      ]
     },
     "execution_count": 80,
     "metadata": {},
     "output_type": "execute_result"
    }
   ],
   "source": [
    "df.groupby(['sport', 'handedness', 'league'])\\\n",
    "    .agg(['mean'])\\\n",
    "    .droplevel(1, axis=1)"
   ]
  },
  {
   "cell_type": "code",
   "execution_count": 81,
   "metadata": {},
   "outputs": [
    {
     "data": {
      "text/html": [
       "<div>\n",
       "<style scoped>\n",
       "    .dataframe tbody tr th:only-of-type {\n",
       "        vertical-align: middle;\n",
       "    }\n",
       "\n",
       "    .dataframe tbody tr th {\n",
       "        vertical-align: top;\n",
       "    }\n",
       "\n",
       "    .dataframe thead th {\n",
       "        text-align: right;\n",
       "    }\n",
       "</style>\n",
       "<table border=\"1\" class=\"dataframe\">\n",
       "  <thead>\n",
       "    <tr style=\"text-align: right;\">\n",
       "      <th></th>\n",
       "      <th></th>\n",
       "      <th></th>\n",
       "      <th></th>\n",
       "      <th>stats</th>\n",
       "    </tr>\n",
       "    <tr>\n",
       "      <th>sport</th>\n",
       "      <th>handedness</th>\n",
       "      <th>league</th>\n",
       "      <th>gender</th>\n",
       "      <th></th>\n",
       "    </tr>\n",
       "  </thead>\n",
       "  <tbody>\n",
       "    <tr>\n",
       "      <th rowspan=\"8\" valign=\"top\">baseball</th>\n",
       "      <th rowspan=\"4\" valign=\"top\">left</th>\n",
       "      <th rowspan=\"2\" valign=\"top\">amateur</th>\n",
       "      <th>female</th>\n",
       "      <td>405.328072</td>\n",
       "    </tr>\n",
       "    <tr>\n",
       "      <th>male</th>\n",
       "      <td>412.350309</td>\n",
       "    </tr>\n",
       "    <tr>\n",
       "      <th rowspan=\"2\" valign=\"top\">pro</th>\n",
       "      <th>female</th>\n",
       "      <td>420.155320</td>\n",
       "    </tr>\n",
       "    <tr>\n",
       "      <th>male</th>\n",
       "      <td>426.962816</td>\n",
       "    </tr>\n",
       "    <tr>\n",
       "      <th rowspan=\"4\" valign=\"top\">right</th>\n",
       "      <th rowspan=\"2\" valign=\"top\">amateur</th>\n",
       "      <th>female</th>\n",
       "      <td>410.961691</td>\n",
       "    </tr>\n",
       "    <tr>\n",
       "      <th>male</th>\n",
       "      <td>417.741414</td>\n",
       "    </tr>\n",
       "    <tr>\n",
       "      <th rowspan=\"2\" valign=\"top\">pro</th>\n",
       "      <th>female</th>\n",
       "      <td>426.160493</td>\n",
       "    </tr>\n",
       "    <tr>\n",
       "      <th>male</th>\n",
       "      <td>433.239279</td>\n",
       "    </tr>\n",
       "    <tr>\n",
       "      <th rowspan=\"8\" valign=\"top\">basketball</th>\n",
       "      <th rowspan=\"4\" valign=\"top\">left</th>\n",
       "      <th rowspan=\"2\" valign=\"top\">amateur</th>\n",
       "      <th>female</th>\n",
       "      <td>404.991257</td>\n",
       "    </tr>\n",
       "    <tr>\n",
       "      <th>male</th>\n",
       "      <td>412.220172</td>\n",
       "    </tr>\n",
       "    <tr>\n",
       "      <th rowspan=\"2\" valign=\"top\">pro</th>\n",
       "      <th>female</th>\n",
       "      <td>420.208283</td>\n",
       "    </tr>\n",
       "    <tr>\n",
       "      <th>male</th>\n",
       "      <td>426.174895</td>\n",
       "    </tr>\n",
       "    <tr>\n",
       "      <th rowspan=\"4\" valign=\"top\">right</th>\n",
       "      <th rowspan=\"2\" valign=\"top\">amateur</th>\n",
       "      <th>female</th>\n",
       "      <td>410.826709</td>\n",
       "    </tr>\n",
       "    <tr>\n",
       "      <th>male</th>\n",
       "      <td>417.805797</td>\n",
       "    </tr>\n",
       "    <tr>\n",
       "      <th rowspan=\"2\" valign=\"top\">pro</th>\n",
       "      <th>female</th>\n",
       "      <td>425.894610</td>\n",
       "    </tr>\n",
       "    <tr>\n",
       "      <th>male</th>\n",
       "      <td>432.970873</td>\n",
       "    </tr>\n",
       "  </tbody>\n",
       "</table>\n",
       "</div>"
      ],
      "text/plain": [
       "                                           stats\n",
       "sport      handedness league  gender            \n",
       "baseball   left       amateur female  405.328072\n",
       "                              male    412.350309\n",
       "                      pro     female  420.155320\n",
       "                              male    426.962816\n",
       "           right      amateur female  410.961691\n",
       "                              male    417.741414\n",
       "                      pro     female  426.160493\n",
       "                              male    433.239279\n",
       "basketball left       amateur female  404.991257\n",
       "                              male    412.220172\n",
       "                      pro     female  420.208283\n",
       "                              male    426.174895\n",
       "           right      amateur female  410.826709\n",
       "                              male    417.805797\n",
       "                      pro     female  425.894610\n",
       "                              male    432.970873"
      ]
     },
     "execution_count": 81,
     "metadata": {},
     "output_type": "execute_result"
    }
   ],
   "source": [
    "df.groupby(['sport', 'handedness', 'league', 'gender'])\\\n",
    "    .agg(['mean'])\\\n",
    "    .droplevel(1, axis=1)"
   ]
  },
  {
   "cell_type": "markdown",
   "metadata": {},
   "source": [
    "To request more aggregation summary statistics, expand the list of aggregations."
   ]
  },
  {
   "cell_type": "code",
   "execution_count": 82,
   "metadata": {},
   "outputs": [
    {
     "data": {
      "text/html": [
       "<div>\n",
       "<style scoped>\n",
       "    .dataframe tbody tr th:only-of-type {\n",
       "        vertical-align: middle;\n",
       "    }\n",
       "\n",
       "    .dataframe tbody tr th {\n",
       "        vertical-align: top;\n",
       "    }\n",
       "\n",
       "    .dataframe thead th {\n",
       "        text-align: right;\n",
       "    }\n",
       "</style>\n",
       "<table border=\"1\" class=\"dataframe\">\n",
       "  <thead>\n",
       "    <tr style=\"text-align: right;\">\n",
       "      <th></th>\n",
       "      <th></th>\n",
       "      <th></th>\n",
       "      <th></th>\n",
       "      <th>mean</th>\n",
       "      <th>min</th>\n",
       "      <th>max</th>\n",
       "      <th>sum</th>\n",
       "      <th>std</th>\n",
       "    </tr>\n",
       "    <tr>\n",
       "      <th>sport</th>\n",
       "      <th>handedness</th>\n",
       "      <th>league</th>\n",
       "      <th>gender</th>\n",
       "      <th></th>\n",
       "      <th></th>\n",
       "      <th></th>\n",
       "      <th></th>\n",
       "      <th></th>\n",
       "    </tr>\n",
       "  </thead>\n",
       "  <tbody>\n",
       "    <tr>\n",
       "      <th rowspan=\"8\" valign=\"top\">baseball</th>\n",
       "      <th rowspan=\"4\" valign=\"top\">left</th>\n",
       "      <th rowspan=\"2\" valign=\"top\">amateur</th>\n",
       "      <th>female</th>\n",
       "      <td>405.328072</td>\n",
       "      <td>404.172421</td>\n",
       "      <td>406.228386</td>\n",
       "      <td>2431.968434</td>\n",
       "      <td>0.803801</td>\n",
       "    </tr>\n",
       "    <tr>\n",
       "      <th>male</th>\n",
       "      <td>412.350309</td>\n",
       "      <td>410.699654</td>\n",
       "      <td>413.518512</td>\n",
       "      <td>2886.452162</td>\n",
       "      <td>0.891856</td>\n",
       "    </tr>\n",
       "    <tr>\n",
       "      <th rowspan=\"2\" valign=\"top\">pro</th>\n",
       "      <th>female</th>\n",
       "      <td>420.155320</td>\n",
       "      <td>417.947217</td>\n",
       "      <td>421.759028</td>\n",
       "      <td>7982.951080</td>\n",
       "      <td>1.069645</td>\n",
       "    </tr>\n",
       "    <tr>\n",
       "      <th>male</th>\n",
       "      <td>426.962816</td>\n",
       "      <td>424.930852</td>\n",
       "      <td>428.893506</td>\n",
       "      <td>6831.405049</td>\n",
       "      <td>1.049972</td>\n",
       "    </tr>\n",
       "    <tr>\n",
       "      <th rowspan=\"4\" valign=\"top\">right</th>\n",
       "      <th rowspan=\"2\" valign=\"top\">amateur</th>\n",
       "      <th>female</th>\n",
       "      <td>410.961691</td>\n",
       "      <td>409.547163</td>\n",
       "      <td>412.946440</td>\n",
       "      <td>7808.272122</td>\n",
       "      <td>0.921281</td>\n",
       "    </tr>\n",
       "    <tr>\n",
       "      <th>male</th>\n",
       "      <td>417.741414</td>\n",
       "      <td>416.262047</td>\n",
       "      <td>419.593947</td>\n",
       "      <td>3341.931309</td>\n",
       "      <td>1.193814</td>\n",
       "    </tr>\n",
       "    <tr>\n",
       "      <th rowspan=\"2\" valign=\"top\">pro</th>\n",
       "      <th>female</th>\n",
       "      <td>426.160493</td>\n",
       "      <td>424.113997</td>\n",
       "      <td>428.211154</td>\n",
       "      <td>7244.728380</td>\n",
       "      <td>1.090030</td>\n",
       "    </tr>\n",
       "    <tr>\n",
       "      <th>male</th>\n",
       "      <td>433.239279</td>\n",
       "      <td>431.260819</td>\n",
       "      <td>435.228304</td>\n",
       "      <td>6065.349899</td>\n",
       "      <td>1.216080</td>\n",
       "    </tr>\n",
       "    <tr>\n",
       "      <th rowspan=\"8\" valign=\"top\">basketball</th>\n",
       "      <th rowspan=\"4\" valign=\"top\">left</th>\n",
       "      <th rowspan=\"2\" valign=\"top\">amateur</th>\n",
       "      <th>female</th>\n",
       "      <td>404.991257</td>\n",
       "      <td>403.477167</td>\n",
       "      <td>406.783491</td>\n",
       "      <td>7694.833890</td>\n",
       "      <td>1.128673</td>\n",
       "    </tr>\n",
       "    <tr>\n",
       "      <th>male</th>\n",
       "      <td>412.220172</td>\n",
       "      <td>410.654588</td>\n",
       "      <td>413.798044</td>\n",
       "      <td>7419.963096</td>\n",
       "      <td>0.959847</td>\n",
       "    </tr>\n",
       "    <tr>\n",
       "      <th rowspan=\"2\" valign=\"top\">pro</th>\n",
       "      <th>female</th>\n",
       "      <td>420.208283</td>\n",
       "      <td>419.230094</td>\n",
       "      <td>421.625440</td>\n",
       "      <td>2521.249697</td>\n",
       "      <td>0.813595</td>\n",
       "    </tr>\n",
       "    <tr>\n",
       "      <th>male</th>\n",
       "      <td>426.174895</td>\n",
       "      <td>425.338888</td>\n",
       "      <td>427.405752</td>\n",
       "      <td>3835.574056</td>\n",
       "      <td>0.703688</td>\n",
       "    </tr>\n",
       "    <tr>\n",
       "      <th rowspan=\"4\" valign=\"top\">right</th>\n",
       "      <th rowspan=\"2\" valign=\"top\">amateur</th>\n",
       "      <th>female</th>\n",
       "      <td>410.826709</td>\n",
       "      <td>408.707288</td>\n",
       "      <td>412.402071</td>\n",
       "      <td>7394.880760</td>\n",
       "      <td>1.003581</td>\n",
       "    </tr>\n",
       "    <tr>\n",
       "      <th>male</th>\n",
       "      <td>417.805797</td>\n",
       "      <td>416.448519</td>\n",
       "      <td>419.818477</td>\n",
       "      <td>2924.640580</td>\n",
       "      <td>1.117527</td>\n",
       "    </tr>\n",
       "    <tr>\n",
       "      <th rowspan=\"2\" valign=\"top\">pro</th>\n",
       "      <th>female</th>\n",
       "      <td>425.894610</td>\n",
       "      <td>424.206988</td>\n",
       "      <td>427.819129</td>\n",
       "      <td>5962.524544</td>\n",
       "      <td>0.875827</td>\n",
       "    </tr>\n",
       "    <tr>\n",
       "      <th>male</th>\n",
       "      <td>432.970873</td>\n",
       "      <td>431.193658</td>\n",
       "      <td>433.845848</td>\n",
       "      <td>3030.796113</td>\n",
       "      <td>0.881753</td>\n",
       "    </tr>\n",
       "  </tbody>\n",
       "</table>\n",
       "</div>"
      ],
      "text/plain": [
       "                                            mean         min         max  \\\n",
       "sport      handedness league  gender                                       \n",
       "baseball   left       amateur female  405.328072  404.172421  406.228386   \n",
       "                              male    412.350309  410.699654  413.518512   \n",
       "                      pro     female  420.155320  417.947217  421.759028   \n",
       "                              male    426.962816  424.930852  428.893506   \n",
       "           right      amateur female  410.961691  409.547163  412.946440   \n",
       "                              male    417.741414  416.262047  419.593947   \n",
       "                      pro     female  426.160493  424.113997  428.211154   \n",
       "                              male    433.239279  431.260819  435.228304   \n",
       "basketball left       amateur female  404.991257  403.477167  406.783491   \n",
       "                              male    412.220172  410.654588  413.798044   \n",
       "                      pro     female  420.208283  419.230094  421.625440   \n",
       "                              male    426.174895  425.338888  427.405752   \n",
       "           right      amateur female  410.826709  408.707288  412.402071   \n",
       "                              male    417.805797  416.448519  419.818477   \n",
       "                      pro     female  425.894610  424.206988  427.819129   \n",
       "                              male    432.970873  431.193658  433.845848   \n",
       "\n",
       "                                              sum       std  \n",
       "sport      handedness league  gender                         \n",
       "baseball   left       amateur female  2431.968434  0.803801  \n",
       "                              male    2886.452162  0.891856  \n",
       "                      pro     female  7982.951080  1.069645  \n",
       "                              male    6831.405049  1.049972  \n",
       "           right      amateur female  7808.272122  0.921281  \n",
       "                              male    3341.931309  1.193814  \n",
       "                      pro     female  7244.728380  1.090030  \n",
       "                              male    6065.349899  1.216080  \n",
       "basketball left       amateur female  7694.833890  1.128673  \n",
       "                              male    7419.963096  0.959847  \n",
       "                      pro     female  2521.249697  0.813595  \n",
       "                              male    3835.574056  0.703688  \n",
       "           right      amateur female  7394.880760  1.003581  \n",
       "                              male    2924.640580  1.117527  \n",
       "                      pro     female  5962.524544  0.875827  \n",
       "                              male    3030.796113  0.881753  "
      ]
     },
     "execution_count": 82,
     "metadata": {},
     "output_type": "execute_result"
    }
   ],
   "source": [
    "df.groupby(['sport', 'handedness', 'league', 'gender'])\\\n",
    "    .agg(['mean', 'min', 'max', 'sum', 'std'])\\\n",
    "    .droplevel(0, axis=1)"
   ]
  },
  {
   "cell_type": "markdown",
   "metadata": {},
   "source": [
    "### Sorting\n",
    "\n",
    "The function `sort_values` can sort the records by index. Below, we sort by gender. If not specified, the sort will always be ascendingly."
   ]
  },
  {
   "cell_type": "code",
   "execution_count": 83,
   "metadata": {},
   "outputs": [
    {
     "data": {
      "text/html": [
       "<div>\n",
       "<style scoped>\n",
       "    .dataframe tbody tr th:only-of-type {\n",
       "        vertical-align: middle;\n",
       "    }\n",
       "\n",
       "    .dataframe tbody tr th {\n",
       "        vertical-align: top;\n",
       "    }\n",
       "\n",
       "    .dataframe thead th {\n",
       "        text-align: right;\n",
       "    }\n",
       "</style>\n",
       "<table border=\"1\" class=\"dataframe\">\n",
       "  <thead>\n",
       "    <tr style=\"text-align: right;\">\n",
       "      <th></th>\n",
       "      <th></th>\n",
       "      <th></th>\n",
       "      <th></th>\n",
       "      <th>mean</th>\n",
       "      <th>min</th>\n",
       "      <th>max</th>\n",
       "      <th>sum</th>\n",
       "      <th>std</th>\n",
       "    </tr>\n",
       "    <tr>\n",
       "      <th>sport</th>\n",
       "      <th>handedness</th>\n",
       "      <th>league</th>\n",
       "      <th>gender</th>\n",
       "      <th></th>\n",
       "      <th></th>\n",
       "      <th></th>\n",
       "      <th></th>\n",
       "      <th></th>\n",
       "    </tr>\n",
       "  </thead>\n",
       "  <tbody>\n",
       "    <tr>\n",
       "      <th rowspan=\"4\" valign=\"top\">baseball</th>\n",
       "      <th rowspan=\"2\" valign=\"top\">left</th>\n",
       "      <th>amateur</th>\n",
       "      <th>female</th>\n",
       "      <td>405.328072</td>\n",
       "      <td>404.172421</td>\n",
       "      <td>406.228386</td>\n",
       "      <td>2431.968434</td>\n",
       "      <td>0.803801</td>\n",
       "    </tr>\n",
       "    <tr>\n",
       "      <th>pro</th>\n",
       "      <th>female</th>\n",
       "      <td>420.155320</td>\n",
       "      <td>417.947217</td>\n",
       "      <td>421.759028</td>\n",
       "      <td>7982.951080</td>\n",
       "      <td>1.069645</td>\n",
       "    </tr>\n",
       "    <tr>\n",
       "      <th rowspan=\"2\" valign=\"top\">right</th>\n",
       "      <th>amateur</th>\n",
       "      <th>female</th>\n",
       "      <td>410.961691</td>\n",
       "      <td>409.547163</td>\n",
       "      <td>412.946440</td>\n",
       "      <td>7808.272122</td>\n",
       "      <td>0.921281</td>\n",
       "    </tr>\n",
       "    <tr>\n",
       "      <th>pro</th>\n",
       "      <th>female</th>\n",
       "      <td>426.160493</td>\n",
       "      <td>424.113997</td>\n",
       "      <td>428.211154</td>\n",
       "      <td>7244.728380</td>\n",
       "      <td>1.090030</td>\n",
       "    </tr>\n",
       "    <tr>\n",
       "      <th rowspan=\"4\" valign=\"top\">basketball</th>\n",
       "      <th rowspan=\"2\" valign=\"top\">left</th>\n",
       "      <th>amateur</th>\n",
       "      <th>female</th>\n",
       "      <td>404.991257</td>\n",
       "      <td>403.477167</td>\n",
       "      <td>406.783491</td>\n",
       "      <td>7694.833890</td>\n",
       "      <td>1.128673</td>\n",
       "    </tr>\n",
       "    <tr>\n",
       "      <th>pro</th>\n",
       "      <th>female</th>\n",
       "      <td>420.208283</td>\n",
       "      <td>419.230094</td>\n",
       "      <td>421.625440</td>\n",
       "      <td>2521.249697</td>\n",
       "      <td>0.813595</td>\n",
       "    </tr>\n",
       "    <tr>\n",
       "      <th rowspan=\"2\" valign=\"top\">right</th>\n",
       "      <th>amateur</th>\n",
       "      <th>female</th>\n",
       "      <td>410.826709</td>\n",
       "      <td>408.707288</td>\n",
       "      <td>412.402071</td>\n",
       "      <td>7394.880760</td>\n",
       "      <td>1.003581</td>\n",
       "    </tr>\n",
       "    <tr>\n",
       "      <th>pro</th>\n",
       "      <th>female</th>\n",
       "      <td>425.894610</td>\n",
       "      <td>424.206988</td>\n",
       "      <td>427.819129</td>\n",
       "      <td>5962.524544</td>\n",
       "      <td>0.875827</td>\n",
       "    </tr>\n",
       "    <tr>\n",
       "      <th rowspan=\"4\" valign=\"top\">baseball</th>\n",
       "      <th rowspan=\"2\" valign=\"top\">left</th>\n",
       "      <th>amateur</th>\n",
       "      <th>male</th>\n",
       "      <td>412.350309</td>\n",
       "      <td>410.699654</td>\n",
       "      <td>413.518512</td>\n",
       "      <td>2886.452162</td>\n",
       "      <td>0.891856</td>\n",
       "    </tr>\n",
       "    <tr>\n",
       "      <th>pro</th>\n",
       "      <th>male</th>\n",
       "      <td>426.962816</td>\n",
       "      <td>424.930852</td>\n",
       "      <td>428.893506</td>\n",
       "      <td>6831.405049</td>\n",
       "      <td>1.049972</td>\n",
       "    </tr>\n",
       "    <tr>\n",
       "      <th rowspan=\"2\" valign=\"top\">right</th>\n",
       "      <th>amateur</th>\n",
       "      <th>male</th>\n",
       "      <td>417.741414</td>\n",
       "      <td>416.262047</td>\n",
       "      <td>419.593947</td>\n",
       "      <td>3341.931309</td>\n",
       "      <td>1.193814</td>\n",
       "    </tr>\n",
       "    <tr>\n",
       "      <th>pro</th>\n",
       "      <th>male</th>\n",
       "      <td>433.239279</td>\n",
       "      <td>431.260819</td>\n",
       "      <td>435.228304</td>\n",
       "      <td>6065.349899</td>\n",
       "      <td>1.216080</td>\n",
       "    </tr>\n",
       "    <tr>\n",
       "      <th rowspan=\"4\" valign=\"top\">basketball</th>\n",
       "      <th rowspan=\"2\" valign=\"top\">left</th>\n",
       "      <th>amateur</th>\n",
       "      <th>male</th>\n",
       "      <td>412.220172</td>\n",
       "      <td>410.654588</td>\n",
       "      <td>413.798044</td>\n",
       "      <td>7419.963096</td>\n",
       "      <td>0.959847</td>\n",
       "    </tr>\n",
       "    <tr>\n",
       "      <th>pro</th>\n",
       "      <th>male</th>\n",
       "      <td>426.174895</td>\n",
       "      <td>425.338888</td>\n",
       "      <td>427.405752</td>\n",
       "      <td>3835.574056</td>\n",
       "      <td>0.703688</td>\n",
       "    </tr>\n",
       "    <tr>\n",
       "      <th rowspan=\"2\" valign=\"top\">right</th>\n",
       "      <th>amateur</th>\n",
       "      <th>male</th>\n",
       "      <td>417.805797</td>\n",
       "      <td>416.448519</td>\n",
       "      <td>419.818477</td>\n",
       "      <td>2924.640580</td>\n",
       "      <td>1.117527</td>\n",
       "    </tr>\n",
       "    <tr>\n",
       "      <th>pro</th>\n",
       "      <th>male</th>\n",
       "      <td>432.970873</td>\n",
       "      <td>431.193658</td>\n",
       "      <td>433.845848</td>\n",
       "      <td>3030.796113</td>\n",
       "      <td>0.881753</td>\n",
       "    </tr>\n",
       "  </tbody>\n",
       "</table>\n",
       "</div>"
      ],
      "text/plain": [
       "                                            mean         min         max  \\\n",
       "sport      handedness league  gender                                       \n",
       "baseball   left       amateur female  405.328072  404.172421  406.228386   \n",
       "                      pro     female  420.155320  417.947217  421.759028   \n",
       "           right      amateur female  410.961691  409.547163  412.946440   \n",
       "                      pro     female  426.160493  424.113997  428.211154   \n",
       "basketball left       amateur female  404.991257  403.477167  406.783491   \n",
       "                      pro     female  420.208283  419.230094  421.625440   \n",
       "           right      amateur female  410.826709  408.707288  412.402071   \n",
       "                      pro     female  425.894610  424.206988  427.819129   \n",
       "baseball   left       amateur male    412.350309  410.699654  413.518512   \n",
       "                      pro     male    426.962816  424.930852  428.893506   \n",
       "           right      amateur male    417.741414  416.262047  419.593947   \n",
       "                      pro     male    433.239279  431.260819  435.228304   \n",
       "basketball left       amateur male    412.220172  410.654588  413.798044   \n",
       "                      pro     male    426.174895  425.338888  427.405752   \n",
       "           right      amateur male    417.805797  416.448519  419.818477   \n",
       "                      pro     male    432.970873  431.193658  433.845848   \n",
       "\n",
       "                                              sum       std  \n",
       "sport      handedness league  gender                         \n",
       "baseball   left       amateur female  2431.968434  0.803801  \n",
       "                      pro     female  7982.951080  1.069645  \n",
       "           right      amateur female  7808.272122  0.921281  \n",
       "                      pro     female  7244.728380  1.090030  \n",
       "basketball left       amateur female  7694.833890  1.128673  \n",
       "                      pro     female  2521.249697  0.813595  \n",
       "           right      amateur female  7394.880760  1.003581  \n",
       "                      pro     female  5962.524544  0.875827  \n",
       "baseball   left       amateur male    2886.452162  0.891856  \n",
       "                      pro     male    6831.405049  1.049972  \n",
       "           right      amateur male    3341.931309  1.193814  \n",
       "                      pro     male    6065.349899  1.216080  \n",
       "basketball left       amateur male    7419.963096  0.959847  \n",
       "                      pro     male    3835.574056  0.703688  \n",
       "           right      amateur male    2924.640580  1.117527  \n",
       "                      pro     male    3030.796113  0.881753  "
      ]
     },
     "execution_count": 83,
     "metadata": {},
     "output_type": "execute_result"
    }
   ],
   "source": [
    "df.groupby(['sport', 'handedness', 'league', 'gender'])\\\n",
    "    .agg(['mean', 'min', 'max', 'sum', 'std'])\\\n",
    "    .droplevel(0, axis=1)\\\n",
    "    .sort_values(['gender'])"
   ]
  },
  {
   "cell_type": "markdown",
   "metadata": {},
   "source": [
    "Now we sort by gender and league."
   ]
  },
  {
   "cell_type": "code",
   "execution_count": 84,
   "metadata": {},
   "outputs": [
    {
     "data": {
      "text/html": [
       "<div>\n",
       "<style scoped>\n",
       "    .dataframe tbody tr th:only-of-type {\n",
       "        vertical-align: middle;\n",
       "    }\n",
       "\n",
       "    .dataframe tbody tr th {\n",
       "        vertical-align: top;\n",
       "    }\n",
       "\n",
       "    .dataframe thead th {\n",
       "        text-align: right;\n",
       "    }\n",
       "</style>\n",
       "<table border=\"1\" class=\"dataframe\">\n",
       "  <thead>\n",
       "    <tr style=\"text-align: right;\">\n",
       "      <th></th>\n",
       "      <th></th>\n",
       "      <th></th>\n",
       "      <th></th>\n",
       "      <th>mean</th>\n",
       "      <th>min</th>\n",
       "      <th>max</th>\n",
       "      <th>sum</th>\n",
       "      <th>std</th>\n",
       "    </tr>\n",
       "    <tr>\n",
       "      <th>sport</th>\n",
       "      <th>handedness</th>\n",
       "      <th>league</th>\n",
       "      <th>gender</th>\n",
       "      <th></th>\n",
       "      <th></th>\n",
       "      <th></th>\n",
       "      <th></th>\n",
       "      <th></th>\n",
       "    </tr>\n",
       "  </thead>\n",
       "  <tbody>\n",
       "    <tr>\n",
       "      <th rowspan=\"2\" valign=\"top\">baseball</th>\n",
       "      <th>left</th>\n",
       "      <th>amateur</th>\n",
       "      <th>female</th>\n",
       "      <td>405.328072</td>\n",
       "      <td>404.172421</td>\n",
       "      <td>406.228386</td>\n",
       "      <td>2431.968434</td>\n",
       "      <td>0.803801</td>\n",
       "    </tr>\n",
       "    <tr>\n",
       "      <th>right</th>\n",
       "      <th>amateur</th>\n",
       "      <th>female</th>\n",
       "      <td>410.961691</td>\n",
       "      <td>409.547163</td>\n",
       "      <td>412.946440</td>\n",
       "      <td>7808.272122</td>\n",
       "      <td>0.921281</td>\n",
       "    </tr>\n",
       "    <tr>\n",
       "      <th rowspan=\"2\" valign=\"top\">basketball</th>\n",
       "      <th>left</th>\n",
       "      <th>amateur</th>\n",
       "      <th>female</th>\n",
       "      <td>404.991257</td>\n",
       "      <td>403.477167</td>\n",
       "      <td>406.783491</td>\n",
       "      <td>7694.833890</td>\n",
       "      <td>1.128673</td>\n",
       "    </tr>\n",
       "    <tr>\n",
       "      <th>right</th>\n",
       "      <th>amateur</th>\n",
       "      <th>female</th>\n",
       "      <td>410.826709</td>\n",
       "      <td>408.707288</td>\n",
       "      <td>412.402071</td>\n",
       "      <td>7394.880760</td>\n",
       "      <td>1.003581</td>\n",
       "    </tr>\n",
       "    <tr>\n",
       "      <th rowspan=\"2\" valign=\"top\">baseball</th>\n",
       "      <th>left</th>\n",
       "      <th>pro</th>\n",
       "      <th>female</th>\n",
       "      <td>420.155320</td>\n",
       "      <td>417.947217</td>\n",
       "      <td>421.759028</td>\n",
       "      <td>7982.951080</td>\n",
       "      <td>1.069645</td>\n",
       "    </tr>\n",
       "    <tr>\n",
       "      <th>right</th>\n",
       "      <th>pro</th>\n",
       "      <th>female</th>\n",
       "      <td>426.160493</td>\n",
       "      <td>424.113997</td>\n",
       "      <td>428.211154</td>\n",
       "      <td>7244.728380</td>\n",
       "      <td>1.090030</td>\n",
       "    </tr>\n",
       "    <tr>\n",
       "      <th rowspan=\"2\" valign=\"top\">basketball</th>\n",
       "      <th>left</th>\n",
       "      <th>pro</th>\n",
       "      <th>female</th>\n",
       "      <td>420.208283</td>\n",
       "      <td>419.230094</td>\n",
       "      <td>421.625440</td>\n",
       "      <td>2521.249697</td>\n",
       "      <td>0.813595</td>\n",
       "    </tr>\n",
       "    <tr>\n",
       "      <th>right</th>\n",
       "      <th>pro</th>\n",
       "      <th>female</th>\n",
       "      <td>425.894610</td>\n",
       "      <td>424.206988</td>\n",
       "      <td>427.819129</td>\n",
       "      <td>5962.524544</td>\n",
       "      <td>0.875827</td>\n",
       "    </tr>\n",
       "    <tr>\n",
       "      <th rowspan=\"2\" valign=\"top\">baseball</th>\n",
       "      <th>left</th>\n",
       "      <th>amateur</th>\n",
       "      <th>male</th>\n",
       "      <td>412.350309</td>\n",
       "      <td>410.699654</td>\n",
       "      <td>413.518512</td>\n",
       "      <td>2886.452162</td>\n",
       "      <td>0.891856</td>\n",
       "    </tr>\n",
       "    <tr>\n",
       "      <th>right</th>\n",
       "      <th>amateur</th>\n",
       "      <th>male</th>\n",
       "      <td>417.741414</td>\n",
       "      <td>416.262047</td>\n",
       "      <td>419.593947</td>\n",
       "      <td>3341.931309</td>\n",
       "      <td>1.193814</td>\n",
       "    </tr>\n",
       "    <tr>\n",
       "      <th rowspan=\"2\" valign=\"top\">basketball</th>\n",
       "      <th>left</th>\n",
       "      <th>amateur</th>\n",
       "      <th>male</th>\n",
       "      <td>412.220172</td>\n",
       "      <td>410.654588</td>\n",
       "      <td>413.798044</td>\n",
       "      <td>7419.963096</td>\n",
       "      <td>0.959847</td>\n",
       "    </tr>\n",
       "    <tr>\n",
       "      <th>right</th>\n",
       "      <th>amateur</th>\n",
       "      <th>male</th>\n",
       "      <td>417.805797</td>\n",
       "      <td>416.448519</td>\n",
       "      <td>419.818477</td>\n",
       "      <td>2924.640580</td>\n",
       "      <td>1.117527</td>\n",
       "    </tr>\n",
       "    <tr>\n",
       "      <th rowspan=\"2\" valign=\"top\">baseball</th>\n",
       "      <th>left</th>\n",
       "      <th>pro</th>\n",
       "      <th>male</th>\n",
       "      <td>426.962816</td>\n",
       "      <td>424.930852</td>\n",
       "      <td>428.893506</td>\n",
       "      <td>6831.405049</td>\n",
       "      <td>1.049972</td>\n",
       "    </tr>\n",
       "    <tr>\n",
       "      <th>right</th>\n",
       "      <th>pro</th>\n",
       "      <th>male</th>\n",
       "      <td>433.239279</td>\n",
       "      <td>431.260819</td>\n",
       "      <td>435.228304</td>\n",
       "      <td>6065.349899</td>\n",
       "      <td>1.216080</td>\n",
       "    </tr>\n",
       "    <tr>\n",
       "      <th rowspan=\"2\" valign=\"top\">basketball</th>\n",
       "      <th>left</th>\n",
       "      <th>pro</th>\n",
       "      <th>male</th>\n",
       "      <td>426.174895</td>\n",
       "      <td>425.338888</td>\n",
       "      <td>427.405752</td>\n",
       "      <td>3835.574056</td>\n",
       "      <td>0.703688</td>\n",
       "    </tr>\n",
       "    <tr>\n",
       "      <th>right</th>\n",
       "      <th>pro</th>\n",
       "      <th>male</th>\n",
       "      <td>432.970873</td>\n",
       "      <td>431.193658</td>\n",
       "      <td>433.845848</td>\n",
       "      <td>3030.796113</td>\n",
       "      <td>0.881753</td>\n",
       "    </tr>\n",
       "  </tbody>\n",
       "</table>\n",
       "</div>"
      ],
      "text/plain": [
       "                                            mean         min         max  \\\n",
       "sport      handedness league  gender                                       \n",
       "baseball   left       amateur female  405.328072  404.172421  406.228386   \n",
       "           right      amateur female  410.961691  409.547163  412.946440   \n",
       "basketball left       amateur female  404.991257  403.477167  406.783491   \n",
       "           right      amateur female  410.826709  408.707288  412.402071   \n",
       "baseball   left       pro     female  420.155320  417.947217  421.759028   \n",
       "           right      pro     female  426.160493  424.113997  428.211154   \n",
       "basketball left       pro     female  420.208283  419.230094  421.625440   \n",
       "           right      pro     female  425.894610  424.206988  427.819129   \n",
       "baseball   left       amateur male    412.350309  410.699654  413.518512   \n",
       "           right      amateur male    417.741414  416.262047  419.593947   \n",
       "basketball left       amateur male    412.220172  410.654588  413.798044   \n",
       "           right      amateur male    417.805797  416.448519  419.818477   \n",
       "baseball   left       pro     male    426.962816  424.930852  428.893506   \n",
       "           right      pro     male    433.239279  431.260819  435.228304   \n",
       "basketball left       pro     male    426.174895  425.338888  427.405752   \n",
       "           right      pro     male    432.970873  431.193658  433.845848   \n",
       "\n",
       "                                              sum       std  \n",
       "sport      handedness league  gender                         \n",
       "baseball   left       amateur female  2431.968434  0.803801  \n",
       "           right      amateur female  7808.272122  0.921281  \n",
       "basketball left       amateur female  7694.833890  1.128673  \n",
       "           right      amateur female  7394.880760  1.003581  \n",
       "baseball   left       pro     female  7982.951080  1.069645  \n",
       "           right      pro     female  7244.728380  1.090030  \n",
       "basketball left       pro     female  2521.249697  0.813595  \n",
       "           right      pro     female  5962.524544  0.875827  \n",
       "baseball   left       amateur male    2886.452162  0.891856  \n",
       "           right      amateur male    3341.931309  1.193814  \n",
       "basketball left       amateur male    7419.963096  0.959847  \n",
       "           right      amateur male    2924.640580  1.117527  \n",
       "baseball   left       pro     male    6831.405049  1.049972  \n",
       "           right      pro     male    6065.349899  1.216080  \n",
       "basketball left       pro     male    3835.574056  0.703688  \n",
       "           right      pro     male    3030.796113  0.881753  "
      ]
     },
     "execution_count": 84,
     "metadata": {},
     "output_type": "execute_result"
    }
   ],
   "source": [
    "df.groupby(['sport', 'handedness', 'league', 'gender'])\\\n",
    "    .agg(['mean', 'min', 'max', 'sum', 'std'])\\\n",
    "    .droplevel(0, axis=1)\\\n",
    "    .sort_values(['gender', 'league'])"
   ]
  },
  {
   "cell_type": "markdown",
   "metadata": {},
   "source": [
    "Now we sort by gender, league and handedness."
   ]
  },
  {
   "cell_type": "code",
   "execution_count": 85,
   "metadata": {},
   "outputs": [
    {
     "data": {
      "text/html": [
       "<div>\n",
       "<style scoped>\n",
       "    .dataframe tbody tr th:only-of-type {\n",
       "        vertical-align: middle;\n",
       "    }\n",
       "\n",
       "    .dataframe tbody tr th {\n",
       "        vertical-align: top;\n",
       "    }\n",
       "\n",
       "    .dataframe thead th {\n",
       "        text-align: right;\n",
       "    }\n",
       "</style>\n",
       "<table border=\"1\" class=\"dataframe\">\n",
       "  <thead>\n",
       "    <tr style=\"text-align: right;\">\n",
       "      <th></th>\n",
       "      <th></th>\n",
       "      <th></th>\n",
       "      <th></th>\n",
       "      <th>mean</th>\n",
       "      <th>min</th>\n",
       "      <th>max</th>\n",
       "      <th>sum</th>\n",
       "      <th>std</th>\n",
       "    </tr>\n",
       "    <tr>\n",
       "      <th>sport</th>\n",
       "      <th>handedness</th>\n",
       "      <th>league</th>\n",
       "      <th>gender</th>\n",
       "      <th></th>\n",
       "      <th></th>\n",
       "      <th></th>\n",
       "      <th></th>\n",
       "      <th></th>\n",
       "    </tr>\n",
       "  </thead>\n",
       "  <tbody>\n",
       "    <tr>\n",
       "      <th>baseball</th>\n",
       "      <th>left</th>\n",
       "      <th>amateur</th>\n",
       "      <th>female</th>\n",
       "      <td>405.328072</td>\n",
       "      <td>404.172421</td>\n",
       "      <td>406.228386</td>\n",
       "      <td>2431.968434</td>\n",
       "      <td>0.803801</td>\n",
       "    </tr>\n",
       "    <tr>\n",
       "      <th>basketball</th>\n",
       "      <th>left</th>\n",
       "      <th>amateur</th>\n",
       "      <th>female</th>\n",
       "      <td>404.991257</td>\n",
       "      <td>403.477167</td>\n",
       "      <td>406.783491</td>\n",
       "      <td>7694.833890</td>\n",
       "      <td>1.128673</td>\n",
       "    </tr>\n",
       "    <tr>\n",
       "      <th>baseball</th>\n",
       "      <th>right</th>\n",
       "      <th>amateur</th>\n",
       "      <th>female</th>\n",
       "      <td>410.961691</td>\n",
       "      <td>409.547163</td>\n",
       "      <td>412.946440</td>\n",
       "      <td>7808.272122</td>\n",
       "      <td>0.921281</td>\n",
       "    </tr>\n",
       "    <tr>\n",
       "      <th>basketball</th>\n",
       "      <th>right</th>\n",
       "      <th>amateur</th>\n",
       "      <th>female</th>\n",
       "      <td>410.826709</td>\n",
       "      <td>408.707288</td>\n",
       "      <td>412.402071</td>\n",
       "      <td>7394.880760</td>\n",
       "      <td>1.003581</td>\n",
       "    </tr>\n",
       "    <tr>\n",
       "      <th>baseball</th>\n",
       "      <th>left</th>\n",
       "      <th>pro</th>\n",
       "      <th>female</th>\n",
       "      <td>420.155320</td>\n",
       "      <td>417.947217</td>\n",
       "      <td>421.759028</td>\n",
       "      <td>7982.951080</td>\n",
       "      <td>1.069645</td>\n",
       "    </tr>\n",
       "    <tr>\n",
       "      <th>basketball</th>\n",
       "      <th>left</th>\n",
       "      <th>pro</th>\n",
       "      <th>female</th>\n",
       "      <td>420.208283</td>\n",
       "      <td>419.230094</td>\n",
       "      <td>421.625440</td>\n",
       "      <td>2521.249697</td>\n",
       "      <td>0.813595</td>\n",
       "    </tr>\n",
       "    <tr>\n",
       "      <th>baseball</th>\n",
       "      <th>right</th>\n",
       "      <th>pro</th>\n",
       "      <th>female</th>\n",
       "      <td>426.160493</td>\n",
       "      <td>424.113997</td>\n",
       "      <td>428.211154</td>\n",
       "      <td>7244.728380</td>\n",
       "      <td>1.090030</td>\n",
       "    </tr>\n",
       "    <tr>\n",
       "      <th>basketball</th>\n",
       "      <th>right</th>\n",
       "      <th>pro</th>\n",
       "      <th>female</th>\n",
       "      <td>425.894610</td>\n",
       "      <td>424.206988</td>\n",
       "      <td>427.819129</td>\n",
       "      <td>5962.524544</td>\n",
       "      <td>0.875827</td>\n",
       "    </tr>\n",
       "    <tr>\n",
       "      <th>baseball</th>\n",
       "      <th>left</th>\n",
       "      <th>amateur</th>\n",
       "      <th>male</th>\n",
       "      <td>412.350309</td>\n",
       "      <td>410.699654</td>\n",
       "      <td>413.518512</td>\n",
       "      <td>2886.452162</td>\n",
       "      <td>0.891856</td>\n",
       "    </tr>\n",
       "    <tr>\n",
       "      <th>basketball</th>\n",
       "      <th>left</th>\n",
       "      <th>amateur</th>\n",
       "      <th>male</th>\n",
       "      <td>412.220172</td>\n",
       "      <td>410.654588</td>\n",
       "      <td>413.798044</td>\n",
       "      <td>7419.963096</td>\n",
       "      <td>0.959847</td>\n",
       "    </tr>\n",
       "    <tr>\n",
       "      <th>baseball</th>\n",
       "      <th>right</th>\n",
       "      <th>amateur</th>\n",
       "      <th>male</th>\n",
       "      <td>417.741414</td>\n",
       "      <td>416.262047</td>\n",
       "      <td>419.593947</td>\n",
       "      <td>3341.931309</td>\n",
       "      <td>1.193814</td>\n",
       "    </tr>\n",
       "    <tr>\n",
       "      <th>basketball</th>\n",
       "      <th>right</th>\n",
       "      <th>amateur</th>\n",
       "      <th>male</th>\n",
       "      <td>417.805797</td>\n",
       "      <td>416.448519</td>\n",
       "      <td>419.818477</td>\n",
       "      <td>2924.640580</td>\n",
       "      <td>1.117527</td>\n",
       "    </tr>\n",
       "    <tr>\n",
       "      <th>baseball</th>\n",
       "      <th>left</th>\n",
       "      <th>pro</th>\n",
       "      <th>male</th>\n",
       "      <td>426.962816</td>\n",
       "      <td>424.930852</td>\n",
       "      <td>428.893506</td>\n",
       "      <td>6831.405049</td>\n",
       "      <td>1.049972</td>\n",
       "    </tr>\n",
       "    <tr>\n",
       "      <th>basketball</th>\n",
       "      <th>left</th>\n",
       "      <th>pro</th>\n",
       "      <th>male</th>\n",
       "      <td>426.174895</td>\n",
       "      <td>425.338888</td>\n",
       "      <td>427.405752</td>\n",
       "      <td>3835.574056</td>\n",
       "      <td>0.703688</td>\n",
       "    </tr>\n",
       "    <tr>\n",
       "      <th>baseball</th>\n",
       "      <th>right</th>\n",
       "      <th>pro</th>\n",
       "      <th>male</th>\n",
       "      <td>433.239279</td>\n",
       "      <td>431.260819</td>\n",
       "      <td>435.228304</td>\n",
       "      <td>6065.349899</td>\n",
       "      <td>1.216080</td>\n",
       "    </tr>\n",
       "    <tr>\n",
       "      <th>basketball</th>\n",
       "      <th>right</th>\n",
       "      <th>pro</th>\n",
       "      <th>male</th>\n",
       "      <td>432.970873</td>\n",
       "      <td>431.193658</td>\n",
       "      <td>433.845848</td>\n",
       "      <td>3030.796113</td>\n",
       "      <td>0.881753</td>\n",
       "    </tr>\n",
       "  </tbody>\n",
       "</table>\n",
       "</div>"
      ],
      "text/plain": [
       "                                            mean         min         max  \\\n",
       "sport      handedness league  gender                                       \n",
       "baseball   left       amateur female  405.328072  404.172421  406.228386   \n",
       "basketball left       amateur female  404.991257  403.477167  406.783491   \n",
       "baseball   right      amateur female  410.961691  409.547163  412.946440   \n",
       "basketball right      amateur female  410.826709  408.707288  412.402071   \n",
       "baseball   left       pro     female  420.155320  417.947217  421.759028   \n",
       "basketball left       pro     female  420.208283  419.230094  421.625440   \n",
       "baseball   right      pro     female  426.160493  424.113997  428.211154   \n",
       "basketball right      pro     female  425.894610  424.206988  427.819129   \n",
       "baseball   left       amateur male    412.350309  410.699654  413.518512   \n",
       "basketball left       amateur male    412.220172  410.654588  413.798044   \n",
       "baseball   right      amateur male    417.741414  416.262047  419.593947   \n",
       "basketball right      amateur male    417.805797  416.448519  419.818477   \n",
       "baseball   left       pro     male    426.962816  424.930852  428.893506   \n",
       "basketball left       pro     male    426.174895  425.338888  427.405752   \n",
       "baseball   right      pro     male    433.239279  431.260819  435.228304   \n",
       "basketball right      pro     male    432.970873  431.193658  433.845848   \n",
       "\n",
       "                                              sum       std  \n",
       "sport      handedness league  gender                         \n",
       "baseball   left       amateur female  2431.968434  0.803801  \n",
       "basketball left       amateur female  7694.833890  1.128673  \n",
       "baseball   right      amateur female  7808.272122  0.921281  \n",
       "basketball right      amateur female  7394.880760  1.003581  \n",
       "baseball   left       pro     female  7982.951080  1.069645  \n",
       "basketball left       pro     female  2521.249697  0.813595  \n",
       "baseball   right      pro     female  7244.728380  1.090030  \n",
       "basketball right      pro     female  5962.524544  0.875827  \n",
       "baseball   left       amateur male    2886.452162  0.891856  \n",
       "basketball left       amateur male    7419.963096  0.959847  \n",
       "baseball   right      amateur male    3341.931309  1.193814  \n",
       "basketball right      amateur male    2924.640580  1.117527  \n",
       "baseball   left       pro     male    6831.405049  1.049972  \n",
       "basketball left       pro     male    3835.574056  0.703688  \n",
       "baseball   right      pro     male    6065.349899  1.216080  \n",
       "basketball right      pro     male    3030.796113  0.881753  "
      ]
     },
     "execution_count": 85,
     "metadata": {},
     "output_type": "execute_result"
    }
   ],
   "source": [
    "df.groupby(['sport', 'handedness', 'league', 'gender'])\\\n",
    "    .agg(['mean', 'min', 'max', 'sum', 'std'])\\\n",
    "    .droplevel(0, axis=1)\\\n",
    "    .sort_values(['gender', 'league', 'handedness'])"
   ]
  },
  {
   "cell_type": "markdown",
   "metadata": {},
   "source": [
    "Finally, we sort by gender, league, handedness and sport."
   ]
  },
  {
   "cell_type": "code",
   "execution_count": 86,
   "metadata": {},
   "outputs": [
    {
     "data": {
      "text/html": [
       "<div>\n",
       "<style scoped>\n",
       "    .dataframe tbody tr th:only-of-type {\n",
       "        vertical-align: middle;\n",
       "    }\n",
       "\n",
       "    .dataframe tbody tr th {\n",
       "        vertical-align: top;\n",
       "    }\n",
       "\n",
       "    .dataframe thead th {\n",
       "        text-align: right;\n",
       "    }\n",
       "</style>\n",
       "<table border=\"1\" class=\"dataframe\">\n",
       "  <thead>\n",
       "    <tr style=\"text-align: right;\">\n",
       "      <th></th>\n",
       "      <th></th>\n",
       "      <th></th>\n",
       "      <th></th>\n",
       "      <th>mean</th>\n",
       "      <th>min</th>\n",
       "      <th>max</th>\n",
       "      <th>sum</th>\n",
       "      <th>std</th>\n",
       "    </tr>\n",
       "    <tr>\n",
       "      <th>sport</th>\n",
       "      <th>handedness</th>\n",
       "      <th>league</th>\n",
       "      <th>gender</th>\n",
       "      <th></th>\n",
       "      <th></th>\n",
       "      <th></th>\n",
       "      <th></th>\n",
       "      <th></th>\n",
       "    </tr>\n",
       "  </thead>\n",
       "  <tbody>\n",
       "    <tr>\n",
       "      <th>baseball</th>\n",
       "      <th>left</th>\n",
       "      <th>amateur</th>\n",
       "      <th>female</th>\n",
       "      <td>405.328072</td>\n",
       "      <td>404.172421</td>\n",
       "      <td>406.228386</td>\n",
       "      <td>2431.968434</td>\n",
       "      <td>0.803801</td>\n",
       "    </tr>\n",
       "    <tr>\n",
       "      <th>basketball</th>\n",
       "      <th>left</th>\n",
       "      <th>amateur</th>\n",
       "      <th>female</th>\n",
       "      <td>404.991257</td>\n",
       "      <td>403.477167</td>\n",
       "      <td>406.783491</td>\n",
       "      <td>7694.833890</td>\n",
       "      <td>1.128673</td>\n",
       "    </tr>\n",
       "    <tr>\n",
       "      <th>baseball</th>\n",
       "      <th>right</th>\n",
       "      <th>amateur</th>\n",
       "      <th>female</th>\n",
       "      <td>410.961691</td>\n",
       "      <td>409.547163</td>\n",
       "      <td>412.946440</td>\n",
       "      <td>7808.272122</td>\n",
       "      <td>0.921281</td>\n",
       "    </tr>\n",
       "    <tr>\n",
       "      <th>basketball</th>\n",
       "      <th>right</th>\n",
       "      <th>amateur</th>\n",
       "      <th>female</th>\n",
       "      <td>410.826709</td>\n",
       "      <td>408.707288</td>\n",
       "      <td>412.402071</td>\n",
       "      <td>7394.880760</td>\n",
       "      <td>1.003581</td>\n",
       "    </tr>\n",
       "    <tr>\n",
       "      <th>baseball</th>\n",
       "      <th>left</th>\n",
       "      <th>pro</th>\n",
       "      <th>female</th>\n",
       "      <td>420.155320</td>\n",
       "      <td>417.947217</td>\n",
       "      <td>421.759028</td>\n",
       "      <td>7982.951080</td>\n",
       "      <td>1.069645</td>\n",
       "    </tr>\n",
       "    <tr>\n",
       "      <th>basketball</th>\n",
       "      <th>left</th>\n",
       "      <th>pro</th>\n",
       "      <th>female</th>\n",
       "      <td>420.208283</td>\n",
       "      <td>419.230094</td>\n",
       "      <td>421.625440</td>\n",
       "      <td>2521.249697</td>\n",
       "      <td>0.813595</td>\n",
       "    </tr>\n",
       "    <tr>\n",
       "      <th>baseball</th>\n",
       "      <th>right</th>\n",
       "      <th>pro</th>\n",
       "      <th>female</th>\n",
       "      <td>426.160493</td>\n",
       "      <td>424.113997</td>\n",
       "      <td>428.211154</td>\n",
       "      <td>7244.728380</td>\n",
       "      <td>1.090030</td>\n",
       "    </tr>\n",
       "    <tr>\n",
       "      <th>basketball</th>\n",
       "      <th>right</th>\n",
       "      <th>pro</th>\n",
       "      <th>female</th>\n",
       "      <td>425.894610</td>\n",
       "      <td>424.206988</td>\n",
       "      <td>427.819129</td>\n",
       "      <td>5962.524544</td>\n",
       "      <td>0.875827</td>\n",
       "    </tr>\n",
       "    <tr>\n",
       "      <th>baseball</th>\n",
       "      <th>left</th>\n",
       "      <th>amateur</th>\n",
       "      <th>male</th>\n",
       "      <td>412.350309</td>\n",
       "      <td>410.699654</td>\n",
       "      <td>413.518512</td>\n",
       "      <td>2886.452162</td>\n",
       "      <td>0.891856</td>\n",
       "    </tr>\n",
       "    <tr>\n",
       "      <th>basketball</th>\n",
       "      <th>left</th>\n",
       "      <th>amateur</th>\n",
       "      <th>male</th>\n",
       "      <td>412.220172</td>\n",
       "      <td>410.654588</td>\n",
       "      <td>413.798044</td>\n",
       "      <td>7419.963096</td>\n",
       "      <td>0.959847</td>\n",
       "    </tr>\n",
       "    <tr>\n",
       "      <th>baseball</th>\n",
       "      <th>right</th>\n",
       "      <th>amateur</th>\n",
       "      <th>male</th>\n",
       "      <td>417.741414</td>\n",
       "      <td>416.262047</td>\n",
       "      <td>419.593947</td>\n",
       "      <td>3341.931309</td>\n",
       "      <td>1.193814</td>\n",
       "    </tr>\n",
       "    <tr>\n",
       "      <th>basketball</th>\n",
       "      <th>right</th>\n",
       "      <th>amateur</th>\n",
       "      <th>male</th>\n",
       "      <td>417.805797</td>\n",
       "      <td>416.448519</td>\n",
       "      <td>419.818477</td>\n",
       "      <td>2924.640580</td>\n",
       "      <td>1.117527</td>\n",
       "    </tr>\n",
       "    <tr>\n",
       "      <th>baseball</th>\n",
       "      <th>left</th>\n",
       "      <th>pro</th>\n",
       "      <th>male</th>\n",
       "      <td>426.962816</td>\n",
       "      <td>424.930852</td>\n",
       "      <td>428.893506</td>\n",
       "      <td>6831.405049</td>\n",
       "      <td>1.049972</td>\n",
       "    </tr>\n",
       "    <tr>\n",
       "      <th>basketball</th>\n",
       "      <th>left</th>\n",
       "      <th>pro</th>\n",
       "      <th>male</th>\n",
       "      <td>426.174895</td>\n",
       "      <td>425.338888</td>\n",
       "      <td>427.405752</td>\n",
       "      <td>3835.574056</td>\n",
       "      <td>0.703688</td>\n",
       "    </tr>\n",
       "    <tr>\n",
       "      <th>baseball</th>\n",
       "      <th>right</th>\n",
       "      <th>pro</th>\n",
       "      <th>male</th>\n",
       "      <td>433.239279</td>\n",
       "      <td>431.260819</td>\n",
       "      <td>435.228304</td>\n",
       "      <td>6065.349899</td>\n",
       "      <td>1.216080</td>\n",
       "    </tr>\n",
       "    <tr>\n",
       "      <th>basketball</th>\n",
       "      <th>right</th>\n",
       "      <th>pro</th>\n",
       "      <th>male</th>\n",
       "      <td>432.970873</td>\n",
       "      <td>431.193658</td>\n",
       "      <td>433.845848</td>\n",
       "      <td>3030.796113</td>\n",
       "      <td>0.881753</td>\n",
       "    </tr>\n",
       "  </tbody>\n",
       "</table>\n",
       "</div>"
      ],
      "text/plain": [
       "                                            mean         min         max  \\\n",
       "sport      handedness league  gender                                       \n",
       "baseball   left       amateur female  405.328072  404.172421  406.228386   \n",
       "basketball left       amateur female  404.991257  403.477167  406.783491   \n",
       "baseball   right      amateur female  410.961691  409.547163  412.946440   \n",
       "basketball right      amateur female  410.826709  408.707288  412.402071   \n",
       "baseball   left       pro     female  420.155320  417.947217  421.759028   \n",
       "basketball left       pro     female  420.208283  419.230094  421.625440   \n",
       "baseball   right      pro     female  426.160493  424.113997  428.211154   \n",
       "basketball right      pro     female  425.894610  424.206988  427.819129   \n",
       "baseball   left       amateur male    412.350309  410.699654  413.518512   \n",
       "basketball left       amateur male    412.220172  410.654588  413.798044   \n",
       "baseball   right      amateur male    417.741414  416.262047  419.593947   \n",
       "basketball right      amateur male    417.805797  416.448519  419.818477   \n",
       "baseball   left       pro     male    426.962816  424.930852  428.893506   \n",
       "basketball left       pro     male    426.174895  425.338888  427.405752   \n",
       "baseball   right      pro     male    433.239279  431.260819  435.228304   \n",
       "basketball right      pro     male    432.970873  431.193658  433.845848   \n",
       "\n",
       "                                              sum       std  \n",
       "sport      handedness league  gender                         \n",
       "baseball   left       amateur female  2431.968434  0.803801  \n",
       "basketball left       amateur female  7694.833890  1.128673  \n",
       "baseball   right      amateur female  7808.272122  0.921281  \n",
       "basketball right      amateur female  7394.880760  1.003581  \n",
       "baseball   left       pro     female  7982.951080  1.069645  \n",
       "basketball left       pro     female  2521.249697  0.813595  \n",
       "baseball   right      pro     female  7244.728380  1.090030  \n",
       "basketball right      pro     female  5962.524544  0.875827  \n",
       "baseball   left       amateur male    2886.452162  0.891856  \n",
       "basketball left       amateur male    7419.963096  0.959847  \n",
       "baseball   right      amateur male    3341.931309  1.193814  \n",
       "basketball right      amateur male    2924.640580  1.117527  \n",
       "baseball   left       pro     male    6831.405049  1.049972  \n",
       "basketball left       pro     male    3835.574056  0.703688  \n",
       "baseball   right      pro     male    6065.349899  1.216080  \n",
       "basketball right      pro     male    3030.796113  0.881753  "
      ]
     },
     "execution_count": 86,
     "metadata": {},
     "output_type": "execute_result"
    }
   ],
   "source": [
    "df.groupby(['sport', 'handedness', 'league', 'gender'])\\\n",
    "    .agg(['mean', 'min', 'max', 'sum', 'std'])\\\n",
    "    .droplevel(0, axis=1)\\\n",
    "    .sort_values(['gender', 'league', 'handedness', 'sport'])"
   ]
  },
  {
   "cell_type": "markdown",
   "metadata": {},
   "source": [
    "We may specify how to sort each index. Below, we sort descendingly for all indices."
   ]
  },
  {
   "cell_type": "code",
   "execution_count": 87,
   "metadata": {},
   "outputs": [
    {
     "data": {
      "text/html": [
       "<div>\n",
       "<style scoped>\n",
       "    .dataframe tbody tr th:only-of-type {\n",
       "        vertical-align: middle;\n",
       "    }\n",
       "\n",
       "    .dataframe tbody tr th {\n",
       "        vertical-align: top;\n",
       "    }\n",
       "\n",
       "    .dataframe thead th {\n",
       "        text-align: right;\n",
       "    }\n",
       "</style>\n",
       "<table border=\"1\" class=\"dataframe\">\n",
       "  <thead>\n",
       "    <tr style=\"text-align: right;\">\n",
       "      <th></th>\n",
       "      <th></th>\n",
       "      <th></th>\n",
       "      <th></th>\n",
       "      <th>mean</th>\n",
       "      <th>min</th>\n",
       "      <th>max</th>\n",
       "      <th>sum</th>\n",
       "      <th>std</th>\n",
       "    </tr>\n",
       "    <tr>\n",
       "      <th>sport</th>\n",
       "      <th>handedness</th>\n",
       "      <th>league</th>\n",
       "      <th>gender</th>\n",
       "      <th></th>\n",
       "      <th></th>\n",
       "      <th></th>\n",
       "      <th></th>\n",
       "      <th></th>\n",
       "    </tr>\n",
       "  </thead>\n",
       "  <tbody>\n",
       "    <tr>\n",
       "      <th>basketball</th>\n",
       "      <th>right</th>\n",
       "      <th>pro</th>\n",
       "      <th>male</th>\n",
       "      <td>432.970873</td>\n",
       "      <td>431.193658</td>\n",
       "      <td>433.845848</td>\n",
       "      <td>3030.796113</td>\n",
       "      <td>0.881753</td>\n",
       "    </tr>\n",
       "    <tr>\n",
       "      <th>baseball</th>\n",
       "      <th>right</th>\n",
       "      <th>pro</th>\n",
       "      <th>male</th>\n",
       "      <td>433.239279</td>\n",
       "      <td>431.260819</td>\n",
       "      <td>435.228304</td>\n",
       "      <td>6065.349899</td>\n",
       "      <td>1.216080</td>\n",
       "    </tr>\n",
       "    <tr>\n",
       "      <th>basketball</th>\n",
       "      <th>left</th>\n",
       "      <th>pro</th>\n",
       "      <th>male</th>\n",
       "      <td>426.174895</td>\n",
       "      <td>425.338888</td>\n",
       "      <td>427.405752</td>\n",
       "      <td>3835.574056</td>\n",
       "      <td>0.703688</td>\n",
       "    </tr>\n",
       "    <tr>\n",
       "      <th>baseball</th>\n",
       "      <th>left</th>\n",
       "      <th>pro</th>\n",
       "      <th>male</th>\n",
       "      <td>426.962816</td>\n",
       "      <td>424.930852</td>\n",
       "      <td>428.893506</td>\n",
       "      <td>6831.405049</td>\n",
       "      <td>1.049972</td>\n",
       "    </tr>\n",
       "    <tr>\n",
       "      <th>basketball</th>\n",
       "      <th>right</th>\n",
       "      <th>amateur</th>\n",
       "      <th>male</th>\n",
       "      <td>417.805797</td>\n",
       "      <td>416.448519</td>\n",
       "      <td>419.818477</td>\n",
       "      <td>2924.640580</td>\n",
       "      <td>1.117527</td>\n",
       "    </tr>\n",
       "    <tr>\n",
       "      <th>baseball</th>\n",
       "      <th>right</th>\n",
       "      <th>amateur</th>\n",
       "      <th>male</th>\n",
       "      <td>417.741414</td>\n",
       "      <td>416.262047</td>\n",
       "      <td>419.593947</td>\n",
       "      <td>3341.931309</td>\n",
       "      <td>1.193814</td>\n",
       "    </tr>\n",
       "    <tr>\n",
       "      <th>basketball</th>\n",
       "      <th>left</th>\n",
       "      <th>amateur</th>\n",
       "      <th>male</th>\n",
       "      <td>412.220172</td>\n",
       "      <td>410.654588</td>\n",
       "      <td>413.798044</td>\n",
       "      <td>7419.963096</td>\n",
       "      <td>0.959847</td>\n",
       "    </tr>\n",
       "    <tr>\n",
       "      <th>baseball</th>\n",
       "      <th>left</th>\n",
       "      <th>amateur</th>\n",
       "      <th>male</th>\n",
       "      <td>412.350309</td>\n",
       "      <td>410.699654</td>\n",
       "      <td>413.518512</td>\n",
       "      <td>2886.452162</td>\n",
       "      <td>0.891856</td>\n",
       "    </tr>\n",
       "    <tr>\n",
       "      <th>basketball</th>\n",
       "      <th>right</th>\n",
       "      <th>pro</th>\n",
       "      <th>female</th>\n",
       "      <td>425.894610</td>\n",
       "      <td>424.206988</td>\n",
       "      <td>427.819129</td>\n",
       "      <td>5962.524544</td>\n",
       "      <td>0.875827</td>\n",
       "    </tr>\n",
       "    <tr>\n",
       "      <th>baseball</th>\n",
       "      <th>right</th>\n",
       "      <th>pro</th>\n",
       "      <th>female</th>\n",
       "      <td>426.160493</td>\n",
       "      <td>424.113997</td>\n",
       "      <td>428.211154</td>\n",
       "      <td>7244.728380</td>\n",
       "      <td>1.090030</td>\n",
       "    </tr>\n",
       "    <tr>\n",
       "      <th>basketball</th>\n",
       "      <th>left</th>\n",
       "      <th>pro</th>\n",
       "      <th>female</th>\n",
       "      <td>420.208283</td>\n",
       "      <td>419.230094</td>\n",
       "      <td>421.625440</td>\n",
       "      <td>2521.249697</td>\n",
       "      <td>0.813595</td>\n",
       "    </tr>\n",
       "    <tr>\n",
       "      <th>baseball</th>\n",
       "      <th>left</th>\n",
       "      <th>pro</th>\n",
       "      <th>female</th>\n",
       "      <td>420.155320</td>\n",
       "      <td>417.947217</td>\n",
       "      <td>421.759028</td>\n",
       "      <td>7982.951080</td>\n",
       "      <td>1.069645</td>\n",
       "    </tr>\n",
       "    <tr>\n",
       "      <th>basketball</th>\n",
       "      <th>right</th>\n",
       "      <th>amateur</th>\n",
       "      <th>female</th>\n",
       "      <td>410.826709</td>\n",
       "      <td>408.707288</td>\n",
       "      <td>412.402071</td>\n",
       "      <td>7394.880760</td>\n",
       "      <td>1.003581</td>\n",
       "    </tr>\n",
       "    <tr>\n",
       "      <th>baseball</th>\n",
       "      <th>right</th>\n",
       "      <th>amateur</th>\n",
       "      <th>female</th>\n",
       "      <td>410.961691</td>\n",
       "      <td>409.547163</td>\n",
       "      <td>412.946440</td>\n",
       "      <td>7808.272122</td>\n",
       "      <td>0.921281</td>\n",
       "    </tr>\n",
       "    <tr>\n",
       "      <th>basketball</th>\n",
       "      <th>left</th>\n",
       "      <th>amateur</th>\n",
       "      <th>female</th>\n",
       "      <td>404.991257</td>\n",
       "      <td>403.477167</td>\n",
       "      <td>406.783491</td>\n",
       "      <td>7694.833890</td>\n",
       "      <td>1.128673</td>\n",
       "    </tr>\n",
       "    <tr>\n",
       "      <th>baseball</th>\n",
       "      <th>left</th>\n",
       "      <th>amateur</th>\n",
       "      <th>female</th>\n",
       "      <td>405.328072</td>\n",
       "      <td>404.172421</td>\n",
       "      <td>406.228386</td>\n",
       "      <td>2431.968434</td>\n",
       "      <td>0.803801</td>\n",
       "    </tr>\n",
       "  </tbody>\n",
       "</table>\n",
       "</div>"
      ],
      "text/plain": [
       "                                            mean         min         max  \\\n",
       "sport      handedness league  gender                                       \n",
       "basketball right      pro     male    432.970873  431.193658  433.845848   \n",
       "baseball   right      pro     male    433.239279  431.260819  435.228304   \n",
       "basketball left       pro     male    426.174895  425.338888  427.405752   \n",
       "baseball   left       pro     male    426.962816  424.930852  428.893506   \n",
       "basketball right      amateur male    417.805797  416.448519  419.818477   \n",
       "baseball   right      amateur male    417.741414  416.262047  419.593947   \n",
       "basketball left       amateur male    412.220172  410.654588  413.798044   \n",
       "baseball   left       amateur male    412.350309  410.699654  413.518512   \n",
       "basketball right      pro     female  425.894610  424.206988  427.819129   \n",
       "baseball   right      pro     female  426.160493  424.113997  428.211154   \n",
       "basketball left       pro     female  420.208283  419.230094  421.625440   \n",
       "baseball   left       pro     female  420.155320  417.947217  421.759028   \n",
       "basketball right      amateur female  410.826709  408.707288  412.402071   \n",
       "baseball   right      amateur female  410.961691  409.547163  412.946440   \n",
       "basketball left       amateur female  404.991257  403.477167  406.783491   \n",
       "baseball   left       amateur female  405.328072  404.172421  406.228386   \n",
       "\n",
       "                                              sum       std  \n",
       "sport      handedness league  gender                         \n",
       "basketball right      pro     male    3030.796113  0.881753  \n",
       "baseball   right      pro     male    6065.349899  1.216080  \n",
       "basketball left       pro     male    3835.574056  0.703688  \n",
       "baseball   left       pro     male    6831.405049  1.049972  \n",
       "basketball right      amateur male    2924.640580  1.117527  \n",
       "baseball   right      amateur male    3341.931309  1.193814  \n",
       "basketball left       amateur male    7419.963096  0.959847  \n",
       "baseball   left       amateur male    2886.452162  0.891856  \n",
       "basketball right      pro     female  5962.524544  0.875827  \n",
       "baseball   right      pro     female  7244.728380  1.090030  \n",
       "basketball left       pro     female  2521.249697  0.813595  \n",
       "baseball   left       pro     female  7982.951080  1.069645  \n",
       "basketball right      amateur female  7394.880760  1.003581  \n",
       "baseball   right      amateur female  7808.272122  0.921281  \n",
       "basketball left       amateur female  7694.833890  1.128673  \n",
       "baseball   left       amateur female  2431.968434  0.803801  "
      ]
     },
     "execution_count": 87,
     "metadata": {},
     "output_type": "execute_result"
    }
   ],
   "source": [
    "df.groupby(['sport', 'handedness', 'league', 'gender'])\\\n",
    "    .agg(['mean', 'min', 'max', 'sum', 'std'])\\\n",
    "    .droplevel(0, axis=1)\\\n",
    "    .sort_values(['gender', 'league', 'handedness', 'sport'], ascending=[False, False, False, False])"
   ]
  },
  {
   "cell_type": "markdown",
   "metadata": {},
   "source": [
    "### Long and wide\n",
    "\n",
    "Data can be stored in a dataframe in long or wide format. In the long format, data points corresponding to a logical entity spans multiple records. In the wide format, data points corresponding to a logical entity are all in one record. \n",
    "\n",
    "Here's an example of a dataframe storing the grades of students (the student is the logical entity) in wide format for three exams. There is only 1 record per student."
   ]
  },
  {
   "cell_type": "code",
   "execution_count": 88,
   "metadata": {},
   "outputs": [
    {
     "data": {
      "text/html": [
       "<div>\n",
       "<style scoped>\n",
       "    .dataframe tbody tr th:only-of-type {\n",
       "        vertical-align: middle;\n",
       "    }\n",
       "\n",
       "    .dataframe tbody tr th {\n",
       "        vertical-align: top;\n",
       "    }\n",
       "\n",
       "    .dataframe thead th {\n",
       "        text-align: right;\n",
       "    }\n",
       "</style>\n",
       "<table border=\"1\" class=\"dataframe\">\n",
       "  <thead>\n",
       "    <tr style=\"text-align: right;\">\n",
       "      <th></th>\n",
       "      <th>name</th>\n",
       "      <th>exam1</th>\n",
       "      <th>exam2</th>\n",
       "      <th>exam3</th>\n",
       "    </tr>\n",
       "  </thead>\n",
       "  <tbody>\n",
       "    <tr>\n",
       "      <th>0</th>\n",
       "      <td>john</td>\n",
       "      <td>90</td>\n",
       "      <td>88</td>\n",
       "      <td>95</td>\n",
       "    </tr>\n",
       "    <tr>\n",
       "      <th>1</th>\n",
       "      <td>jack</td>\n",
       "      <td>88</td>\n",
       "      <td>85</td>\n",
       "      <td>89</td>\n",
       "    </tr>\n",
       "    <tr>\n",
       "      <th>2</th>\n",
       "      <td>mary</td>\n",
       "      <td>95</td>\n",
       "      <td>88</td>\n",
       "      <td>95</td>\n",
       "    </tr>\n",
       "  </tbody>\n",
       "</table>\n",
       "</div>"
      ],
      "text/plain": [
       "   name  exam1  exam2  exam3\n",
       "0  john     90     88     95\n",
       "1  jack     88     85     89\n",
       "2  mary     95     88     95"
      ]
     },
     "execution_count": 88,
     "metadata": {},
     "output_type": "execute_result"
    }
   ],
   "source": [
    "wdf = pd.DataFrame([\n",
    "    {'name': 'john', 'exam1': 90, 'exam2': 88, 'exam3': 95},\n",
    "    {'name': 'jack', 'exam1': 88, 'exam2': 85, 'exam3': 89},\n",
    "    {'name': 'mary', 'exam1': 95, 'exam2': 88, 'exam3': 95}\n",
    "])\n",
    "wdf"
   ]
  },
  {
   "cell_type": "markdown",
   "metadata": {},
   "source": [
    "Here is the same data in the wide format stored in a long format. There are multiple records per student."
   ]
  },
  {
   "cell_type": "code",
   "execution_count": 89,
   "metadata": {},
   "outputs": [
    {
     "data": {
      "text/html": [
       "<div>\n",
       "<style scoped>\n",
       "    .dataframe tbody tr th:only-of-type {\n",
       "        vertical-align: middle;\n",
       "    }\n",
       "\n",
       "    .dataframe tbody tr th {\n",
       "        vertical-align: top;\n",
       "    }\n",
       "\n",
       "    .dataframe thead th {\n",
       "        text-align: right;\n",
       "    }\n",
       "</style>\n",
       "<table border=\"1\" class=\"dataframe\">\n",
       "  <thead>\n",
       "    <tr style=\"text-align: right;\">\n",
       "      <th></th>\n",
       "      <th>name</th>\n",
       "      <th>exam</th>\n",
       "      <th>score</th>\n",
       "    </tr>\n",
       "  </thead>\n",
       "  <tbody>\n",
       "    <tr>\n",
       "      <th>0</th>\n",
       "      <td>john</td>\n",
       "      <td>1</td>\n",
       "      <td>90</td>\n",
       "    </tr>\n",
       "    <tr>\n",
       "      <th>1</th>\n",
       "      <td>john</td>\n",
       "      <td>2</td>\n",
       "      <td>88</td>\n",
       "    </tr>\n",
       "    <tr>\n",
       "      <th>2</th>\n",
       "      <td>john</td>\n",
       "      <td>3</td>\n",
       "      <td>95</td>\n",
       "    </tr>\n",
       "    <tr>\n",
       "      <th>3</th>\n",
       "      <td>jack</td>\n",
       "      <td>1</td>\n",
       "      <td>88</td>\n",
       "    </tr>\n",
       "    <tr>\n",
       "      <th>4</th>\n",
       "      <td>jack</td>\n",
       "      <td>2</td>\n",
       "      <td>85</td>\n",
       "    </tr>\n",
       "    <tr>\n",
       "      <th>5</th>\n",
       "      <td>jack</td>\n",
       "      <td>3</td>\n",
       "      <td>89</td>\n",
       "    </tr>\n",
       "    <tr>\n",
       "      <th>6</th>\n",
       "      <td>mary</td>\n",
       "      <td>1</td>\n",
       "      <td>95</td>\n",
       "    </tr>\n",
       "    <tr>\n",
       "      <th>7</th>\n",
       "      <td>mary</td>\n",
       "      <td>2</td>\n",
       "      <td>88</td>\n",
       "    </tr>\n",
       "    <tr>\n",
       "      <th>8</th>\n",
       "      <td>mary</td>\n",
       "      <td>3</td>\n",
       "      <td>95</td>\n",
       "    </tr>\n",
       "  </tbody>\n",
       "</table>\n",
       "</div>"
      ],
      "text/plain": [
       "   name  exam  score\n",
       "0  john     1     90\n",
       "1  john     2     88\n",
       "2  john     3     95\n",
       "3  jack     1     88\n",
       "4  jack     2     85\n",
       "5  jack     3     89\n",
       "6  mary     1     95\n",
       "7  mary     2     88\n",
       "8  mary     3     95"
      ]
     },
     "execution_count": 89,
     "metadata": {},
     "output_type": "execute_result"
    }
   ],
   "source": [
    "ldf = pd.DataFrame([\n",
    "    {'name': 'john', 'exam': 1, 'score': 90}, \n",
    "    {'name': 'john', 'exam': 2, 'score': 88}, \n",
    "    {'name': 'john', 'exam': 3, 'score': 95},\n",
    "    {'name': 'jack', 'exam': 1, 'score': 88}, \n",
    "    {'name': 'jack', 'exam': 2, 'score': 85}, \n",
    "    {'name': 'jack', 'exam': 3, 'score': 89},\n",
    "    {'name': 'mary', 'exam': 1, 'score': 95}, \n",
    "    {'name': 'mary', 'exam': 2, 'score': 88}, \n",
    "    {'name': 'mary', 'exam': 3, 'score': 95}\n",
    "])\n",
    "ldf"
   ]
  },
  {
   "cell_type": "markdown",
   "metadata": {},
   "source": [
    "Use the `melt()` function to convert from wide to long format."
   ]
  },
  {
   "cell_type": "code",
   "execution_count": 90,
   "metadata": {},
   "outputs": [
    {
     "data": {
      "text/html": [
       "<div>\n",
       "<style scoped>\n",
       "    .dataframe tbody tr th:only-of-type {\n",
       "        vertical-align: middle;\n",
       "    }\n",
       "\n",
       "    .dataframe tbody tr th {\n",
       "        vertical-align: top;\n",
       "    }\n",
       "\n",
       "    .dataframe thead th {\n",
       "        text-align: right;\n",
       "    }\n",
       "</style>\n",
       "<table border=\"1\" class=\"dataframe\">\n",
       "  <thead>\n",
       "    <tr style=\"text-align: right;\">\n",
       "      <th></th>\n",
       "      <th>name</th>\n",
       "      <th>exam</th>\n",
       "      <th>score</th>\n",
       "    </tr>\n",
       "  </thead>\n",
       "  <tbody>\n",
       "    <tr>\n",
       "      <th>0</th>\n",
       "      <td>john</td>\n",
       "      <td>exam1</td>\n",
       "      <td>90</td>\n",
       "    </tr>\n",
       "    <tr>\n",
       "      <th>1</th>\n",
       "      <td>jack</td>\n",
       "      <td>exam1</td>\n",
       "      <td>88</td>\n",
       "    </tr>\n",
       "    <tr>\n",
       "      <th>2</th>\n",
       "      <td>mary</td>\n",
       "      <td>exam1</td>\n",
       "      <td>95</td>\n",
       "    </tr>\n",
       "    <tr>\n",
       "      <th>3</th>\n",
       "      <td>john</td>\n",
       "      <td>exam2</td>\n",
       "      <td>88</td>\n",
       "    </tr>\n",
       "    <tr>\n",
       "      <th>4</th>\n",
       "      <td>jack</td>\n",
       "      <td>exam2</td>\n",
       "      <td>85</td>\n",
       "    </tr>\n",
       "    <tr>\n",
       "      <th>5</th>\n",
       "      <td>mary</td>\n",
       "      <td>exam2</td>\n",
       "      <td>88</td>\n",
       "    </tr>\n",
       "    <tr>\n",
       "      <th>6</th>\n",
       "      <td>john</td>\n",
       "      <td>exam3</td>\n",
       "      <td>95</td>\n",
       "    </tr>\n",
       "    <tr>\n",
       "      <th>7</th>\n",
       "      <td>jack</td>\n",
       "      <td>exam3</td>\n",
       "      <td>89</td>\n",
       "    </tr>\n",
       "    <tr>\n",
       "      <th>8</th>\n",
       "      <td>mary</td>\n",
       "      <td>exam3</td>\n",
       "      <td>95</td>\n",
       "    </tr>\n",
       "  </tbody>\n",
       "</table>\n",
       "</div>"
      ],
      "text/plain": [
       "   name   exam  score\n",
       "0  john  exam1     90\n",
       "1  jack  exam1     88\n",
       "2  mary  exam1     95\n",
       "3  john  exam2     88\n",
       "4  jack  exam2     85\n",
       "5  mary  exam2     88\n",
       "6  john  exam3     95\n",
       "7  jack  exam3     89\n",
       "8  mary  exam3     95"
      ]
     },
     "execution_count": 90,
     "metadata": {},
     "output_type": "execute_result"
    }
   ],
   "source": [
    "pd.melt(wdf, id_vars='name', var_name='exam', value_name='score')"
   ]
  },
  {
   "cell_type": "markdown",
   "metadata": {},
   "source": [
    "Use the `pivot()` function to convert from long to wide format."
   ]
  },
  {
   "cell_type": "code",
   "execution_count": 91,
   "metadata": {},
   "outputs": [
    {
     "data": {
      "text/html": [
       "<div>\n",
       "<style scoped>\n",
       "    .dataframe tbody tr th:only-of-type {\n",
       "        vertical-align: middle;\n",
       "    }\n",
       "\n",
       "    .dataframe tbody tr th {\n",
       "        vertical-align: top;\n",
       "    }\n",
       "\n",
       "    .dataframe thead th {\n",
       "        text-align: right;\n",
       "    }\n",
       "</style>\n",
       "<table border=\"1\" class=\"dataframe\">\n",
       "  <thead>\n",
       "    <tr style=\"text-align: right;\">\n",
       "      <th>exam</th>\n",
       "      <th>1</th>\n",
       "      <th>2</th>\n",
       "      <th>3</th>\n",
       "    </tr>\n",
       "    <tr>\n",
       "      <th>name</th>\n",
       "      <th></th>\n",
       "      <th></th>\n",
       "      <th></th>\n",
       "    </tr>\n",
       "  </thead>\n",
       "  <tbody>\n",
       "    <tr>\n",
       "      <th>jack</th>\n",
       "      <td>88</td>\n",
       "      <td>85</td>\n",
       "      <td>89</td>\n",
       "    </tr>\n",
       "    <tr>\n",
       "      <th>john</th>\n",
       "      <td>90</td>\n",
       "      <td>88</td>\n",
       "      <td>95</td>\n",
       "    </tr>\n",
       "    <tr>\n",
       "      <th>mary</th>\n",
       "      <td>95</td>\n",
       "      <td>88</td>\n",
       "      <td>95</td>\n",
       "    </tr>\n",
       "  </tbody>\n",
       "</table>\n",
       "</div>"
      ],
      "text/plain": [
       "exam   1   2   3\n",
       "name            \n",
       "jack  88  85  89\n",
       "john  90  88  95\n",
       "mary  95  88  95"
      ]
     },
     "execution_count": 91,
     "metadata": {},
     "output_type": "execute_result"
    }
   ],
   "source": [
    "ldf.pivot(index='name', columns='exam', values='score')"
   ]
  },
  {
   "cell_type": "markdown",
   "metadata": {},
   "source": [
    "After using `melt()` and `pivot()`, you will still have to do some post-processing clean up to name the values or columns, respectively, to your liking. "
   ]
  },
  {
   "cell_type": "markdown",
   "metadata": {},
   "source": [
    "### Serialization/Deserialization\n",
    "\n",
    "CSV is a popular way to store data from a Pandas DataFrame. If the data is large, it might be better to use compression to store the data in CSV format. Below, we simulate some fake data that is `large`. "
   ]
  },
  {
   "cell_type": "code",
   "execution_count": 92,
   "metadata": {},
   "outputs": [],
   "source": [
    "df = pd.DataFrame(((i for i in range(20)) for j in range(50_000)))"
   ]
  },
  {
   "cell_type": "code",
   "execution_count": 93,
   "metadata": {},
   "outputs": [
    {
     "data": {
      "text/plain": [
       "(50000, 20)"
      ]
     },
     "execution_count": 93,
     "metadata": {},
     "output_type": "execute_result"
    }
   ],
   "source": [
    "df.shape"
   ]
  },
  {
   "cell_type": "markdown",
   "metadata": {},
   "source": [
    "Let's see what the serialization times are for different compression methods.\n",
    "\n",
    "- no compression\n",
    "- zip compression\n",
    "- gzip compression\n",
    "- bzip2 compression\n",
    "- xz compression\n",
    "- [feather](https://arrow.apache.org/docs/python/feather.html) compression (available for download at [PyPi](https://pypi.org/project/feather-format/))\n",
    "\n",
    "DO NOT trust these results. A more complete comparison of different formats is analyzed [elsewhere](https://towardsdatascience.com/the-best-format-to-save-pandas-data-414dca023e0d)."
   ]
  },
  {
   "cell_type": "code",
   "execution_count": 94,
   "metadata": {},
   "outputs": [
    {
     "name": "stdout",
     "output_type": "stream",
     "text": [
      "CPU times: user 173 ms, sys: 7.37 ms, total: 180 ms\n",
      "Wall time: 186 ms\n"
     ]
    }
   ],
   "source": [
    "%%time\n",
    "\n",
    "df.to_csv('./_temp/df.csv')"
   ]
  },
  {
   "cell_type": "code",
   "execution_count": 95,
   "metadata": {},
   "outputs": [
    {
     "name": "stdout",
     "output_type": "stream",
     "text": [
      "CPU times: user 204 ms, sys: 3.21 ms, total: 207 ms\n",
      "Wall time: 206 ms\n"
     ]
    }
   ],
   "source": [
    "%%time\n",
    "\n",
    "df.to_csv('./_temp/df.csv.zip', compression='zip')"
   ]
  },
  {
   "cell_type": "code",
   "execution_count": 96,
   "metadata": {},
   "outputs": [
    {
     "name": "stdout",
     "output_type": "stream",
     "text": [
      "CPU times: user 221 ms, sys: 2.1 ms, total: 223 ms\n",
      "Wall time: 222 ms\n"
     ]
    }
   ],
   "source": [
    "%%time\n",
    "\n",
    "df.to_csv('./_temp/df.csv.gz', compression='gzip')"
   ]
  },
  {
   "cell_type": "code",
   "execution_count": 97,
   "metadata": {},
   "outputs": [
    {
     "name": "stdout",
     "output_type": "stream",
     "text": [
      "CPU times: user 429 ms, sys: 4.14 ms, total: 433 ms\n",
      "Wall time: 442 ms\n"
     ]
    }
   ],
   "source": [
    "%%time\n",
    "\n",
    "df.to_csv('./_temp/df.csv.bz2', compression='bz2')"
   ]
  },
  {
   "cell_type": "code",
   "execution_count": 98,
   "metadata": {},
   "outputs": [
    {
     "name": "stdout",
     "output_type": "stream",
     "text": [
      "CPU times: user 1.05 s, sys: 15.7 ms, total: 1.07 s\n",
      "Wall time: 1.08 s\n"
     ]
    }
   ],
   "source": [
    "%%time\n",
    "\n",
    "df.to_csv('./_temp/df.csv.xz', compression='xz')"
   ]
  },
  {
   "cell_type": "code",
   "execution_count": 99,
   "metadata": {},
   "outputs": [
    {
     "name": "stdout",
     "output_type": "stream",
     "text": [
      "CPU times: user 80.4 ms, sys: 11.3 ms, total: 91.7 ms\n",
      "Wall time: 924 ms\n"
     ]
    }
   ],
   "source": [
    "%%time\n",
    "import pyarrow.feather as feather\n",
    "\n",
    "feather.write_feather(df, './_temp/df.feather')"
   ]
  },
  {
   "cell_type": "markdown",
   "metadata": {},
   "source": [
    "Here are the deserialization times for each compression method."
   ]
  },
  {
   "cell_type": "code",
   "execution_count": 102,
   "metadata": {},
   "outputs": [
    {
     "name": "stdout",
     "output_type": "stream",
     "text": [
      "CPU times: user 57 ms, sys: 15.6 ms, total: 72.6 ms\n",
      "Wall time: 71.9 ms\n"
     ]
    }
   ],
   "source": [
    "%%time\n",
    "\n",
    "_ = pd.read_csv('./_temp/df.csv', index_col=0)"
   ]
  },
  {
   "cell_type": "code",
   "execution_count": 103,
   "metadata": {},
   "outputs": [
    {
     "name": "stdout",
     "output_type": "stream",
     "text": [
      "CPU times: user 62.8 ms, sys: 16.2 ms, total: 79 ms\n",
      "Wall time: 83.4 ms\n"
     ]
    }
   ],
   "source": [
    "%%time\n",
    "\n",
    "_ = pd.read_csv('./_temp/df.csv.zip', index_col=0, compression='zip')"
   ]
  },
  {
   "cell_type": "code",
   "execution_count": 104,
   "metadata": {},
   "outputs": [
    {
     "name": "stdout",
     "output_type": "stream",
     "text": [
      "CPU times: user 66.4 ms, sys: 17.2 ms, total: 83.6 ms\n",
      "Wall time: 82.9 ms\n"
     ]
    }
   ],
   "source": [
    "%%time\n",
    "\n",
    "_ = pd.read_csv('./_temp/df.csv.gz', index_col=0, compression='gzip')"
   ]
  },
  {
   "cell_type": "code",
   "execution_count": 105,
   "metadata": {},
   "outputs": [
    {
     "name": "stdout",
     "output_type": "stream",
     "text": [
      "CPU times: user 88.4 ms, sys: 18.5 ms, total: 107 ms\n",
      "Wall time: 111 ms\n"
     ]
    }
   ],
   "source": [
    "%%time\n",
    "\n",
    "_ = pd.read_csv('./_temp/df.csv.bz2', index_col=0, compression='bz2')"
   ]
  },
  {
   "cell_type": "code",
   "execution_count": 106,
   "metadata": {},
   "outputs": [
    {
     "name": "stdout",
     "output_type": "stream",
     "text": [
      "CPU times: user 66.9 ms, sys: 18.7 ms, total: 85.6 ms\n",
      "Wall time: 90.4 ms\n"
     ]
    }
   ],
   "source": [
    "%%time\n",
    "\n",
    "_ = pd.read_csv('./_temp/df.csv.xz', index_col=0, compression='xz')"
   ]
  },
  {
   "cell_type": "code",
   "execution_count": 108,
   "metadata": {},
   "outputs": [
    {
     "name": "stdout",
     "output_type": "stream",
     "text": [
      "CPU times: user 7.88 ms, sys: 6.68 ms, total: 14.6 ms\n",
      "Wall time: 5.96 ms\n"
     ]
    }
   ],
   "source": [
    "%%time\n",
    "\n",
    "_ = feather.read_feather('./_temp/df.feather')"
   ]
  }
 ],
 "metadata": {
  "kernelspec": {
   "display_name": "Python 3",
   "language": "python",
   "name": "python3"
  },
  "language_info": {
   "codemirror_mode": {
    "name": "ipython",
    "version": 3
   },
   "file_extension": ".py",
   "mimetype": "text/x-python",
   "name": "python",
   "nbconvert_exporter": "python",
   "pygments_lexer": "ipython3",
   "version": "3.8.8"
  }
 },
 "nbformat": 4,
 "nbformat_minor": 4
}
