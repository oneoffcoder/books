{
 "cells": [
  {
   "cell_type": "markdown",
   "id": "postal-cuisine",
   "metadata": {},
   "source": [
    "# NLTK\n",
    "\n",
    "Natural Language Toolkit or [NLTK](https://www.nltk.org/) is an API to process text data. A lot of Natural Language Processing `NLP` tasks may be accomplished with NLTK. "
   ]
  },
  {
   "cell_type": "code",
   "execution_count": 1,
   "id": "worse-polish",
   "metadata": {
    "execution": {
     "iopub.execute_input": "2021-02-22T09:31:02.501848Z",
     "iopub.status.busy": "2021-02-22T09:31:02.501674Z",
     "iopub.status.idle": "2021-02-22T09:31:02.507299Z",
     "shell.execute_reply": "2021-02-22T09:31:02.506644Z",
     "shell.execute_reply.started": "2021-02-22T09:31:02.501784Z"
    }
   },
   "outputs": [],
   "source": [
    "text = [\n",
    "    'Data Science from Scratch: First Principles with Python',\n",
    "    'Data Science for Business: What You Need to Know about Data Mining and Data-Analytic Thinking',\n",
    "    'Practical Statistics for Data Scientists',\n",
    "    'Build a Career in Data Science',\n",
    "    'Python Data Science Handbook',\n",
    "    'Storytelling with Data: A Data Visualization Guide for Business Professionals',\n",
    "    'R for Data Science: Import, Tidy, Transform, Visualize, and Model Data',\n",
    "    'Data-Driven Science and Engineering: Machine Learning, Dynamical Systems, and Control',\n",
    "    'A Hands-On Introduction to Data Science',\n",
    "    'Intro to Python for Computer Science and Data Science: Learning to Program with AI, Big Data and The Cloud',\n",
    "    'How Finance Works: The HBR Guide to Thinking Smart About the Numbers',\n",
    "    'The Intelligent Investor: The Definitive Book on Value Investing. A Book of Practical Counsel',\n",
    "    'Introduction to Finance: Markets, Investments, and Financial Management',\n",
    "    'Python for Finance: Mastering Data-Driven Finance',\n",
    "    'The Infographic Guide to Personal Finance: A Visual Reference for Everything You Need to Know',\n",
    "    'Personal Finance For Dummies',\n",
    "    'Corporate Finance For Dummies',\n",
    "    'Lords of Finance: The Bankers Who Broke the World',\n",
    "    'Real Estate Finance & Investments',\n",
    "    'Real Estate Finance and Investments Risks and Opportunities'\n",
    "]"
   ]
  },
  {
   "cell_type": "markdown",
   "id": "consecutive-wrist",
   "metadata": {},
   "source": [
    "## Stop words\n",
    "\n",
    "It is common to remove stop words from a corpus of documents. NLTK has some default and available stop words for different languages. Below, we show how to use the English stop words from NLTK with scikit's `CountVectorizer`."
   ]
  },
  {
   "cell_type": "code",
   "execution_count": 2,
   "id": "preceding-classic",
   "metadata": {
    "execution": {
     "iopub.execute_input": "2021-02-22T09:31:02.508405Z",
     "iopub.status.busy": "2021-02-22T09:31:02.508287Z",
     "iopub.status.idle": "2021-02-22T09:31:03.112958Z",
     "shell.execute_reply": "2021-02-22T09:31:03.112425Z",
     "shell.execute_reply.started": "2021-02-22T09:31:02.508390Z"
    },
    "tags": []
   },
   "outputs": [
    {
     "name": "stdout",
     "output_type": "stream",
     "text": [
      "(20, 74)\n"
     ]
    },
    {
     "data": {
      "text/plain": [
       "Index(['ai', 'analytic', 'bankers', 'big', 'book', 'broke', 'build',\n",
       "       'business', 'career', 'cloud', 'computer', 'control', 'corporate',\n",
       "       'counsel', 'data', 'definitive', 'driven', 'dummies', 'dynamical',\n",
       "       'engineering', 'estate', 'everything', 'finance', 'financial', 'first',\n",
       "       'guide', 'handbook', 'hands', 'hbr', 'import', 'infographic',\n",
       "       'intelligent', 'intro', 'introduction', 'investing', 'investments',\n",
       "       'investor', 'know', 'learning', 'lords', 'machine', 'management',\n",
       "       'markets', 'mastering', 'mining', 'model', 'need', 'numbers',\n",
       "       'opportunities', 'personal', 'practical', 'principles', 'professionals',\n",
       "       'program', 'python', 'real', 'reference', 'risks', 'science',\n",
       "       'scientists', 'scratch', 'smart', 'statistics', 'storytelling',\n",
       "       'systems', 'thinking', 'tidy', 'transform', 'value', 'visual',\n",
       "       'visualization', 'visualize', 'works', 'world'],\n",
       "      dtype='object')"
      ]
     },
     "execution_count": 2,
     "metadata": {},
     "output_type": "execute_result"
    }
   ],
   "source": [
    "from nltk.corpus import stopwords\n",
    "from sklearn.feature_extraction.text import CountVectorizer\n",
    "import pandas as pd\n",
    "\n",
    "stop_words = set(stopwords.words('english'))\n",
    "\n",
    "vectorizer = CountVectorizer(binary=True, stop_words=stop_words)\n",
    "X = vectorizer.fit_transform(text).todense()\n",
    "\n",
    "bool_df = pd.DataFrame(X, columns=vectorizer.get_feature_names())\n",
    "\n",
    "print(bool_df.shape)\n",
    "bool_df.columns"
   ]
  },
  {
   "cell_type": "markdown",
   "id": "saved-expression",
   "metadata": {},
   "source": [
    "## Tokenization\n",
    "\n",
    "NLTK can also tokenize words. Notice how characters such as `:` and `&` are separated into their own token?"
   ]
  },
  {
   "cell_type": "code",
   "execution_count": 3,
   "id": "white-structure",
   "metadata": {
    "execution": {
     "iopub.execute_input": "2021-02-22T09:31:03.114028Z",
     "iopub.status.busy": "2021-02-22T09:31:03.113829Z",
     "iopub.status.idle": "2021-02-22T09:31:03.129088Z",
     "shell.execute_reply": "2021-02-22T09:31:03.128539Z",
     "shell.execute_reply.started": "2021-02-22T09:31:03.114003Z"
    },
    "tags": []
   },
   "outputs": [
    {
     "name": "stdout",
     "output_type": "stream",
     "text": [
      "['Data', 'Science', 'from', 'Scratch', ':', 'First', 'Principles', 'with', 'Python']\n",
      "['Data', 'Science', 'for', 'Business', ':', 'What', 'You', 'Need', 'to', 'Know', 'about', 'Data', 'Mining', 'and', 'Data-Analytic', 'Thinking']\n",
      "['Practical', 'Statistics', 'for', 'Data', 'Scientists']\n",
      "['Build', 'a', 'Career', 'in', 'Data', 'Science']\n",
      "['Python', 'Data', 'Science', 'Handbook']\n",
      "['Storytelling', 'with', 'Data', ':', 'A', 'Data', 'Visualization', 'Guide', 'for', 'Business', 'Professionals']\n",
      "['R', 'for', 'Data', 'Science', ':', 'Import', ',', 'Tidy', ',', 'Transform', ',', 'Visualize', ',', 'and', 'Model', 'Data']\n",
      "['Data-Driven', 'Science', 'and', 'Engineering', ':', 'Machine', 'Learning', ',', 'Dynamical', 'Systems', ',', 'and', 'Control']\n",
      "['A', 'Hands-On', 'Introduction', 'to', 'Data', 'Science']\n",
      "['Intro', 'to', 'Python', 'for', 'Computer', 'Science', 'and', 'Data', 'Science', ':', 'Learning', 'to', 'Program', 'with', 'AI', ',', 'Big', 'Data', 'and', 'The', 'Cloud']\n",
      "['How', 'Finance', 'Works', ':', 'The', 'HBR', 'Guide', 'to', 'Thinking', 'Smart', 'About', 'the', 'Numbers']\n",
      "['The', 'Intelligent', 'Investor', ':', 'The', 'Definitive', 'Book', 'on', 'Value', 'Investing', '.', 'A', 'Book', 'of', 'Practical', 'Counsel']\n",
      "['Introduction', 'to', 'Finance', ':', 'Markets', ',', 'Investments', ',', 'and', 'Financial', 'Management']\n",
      "['Python', 'for', 'Finance', ':', 'Mastering', 'Data-Driven', 'Finance']\n",
      "['The', 'Infographic', 'Guide', 'to', 'Personal', 'Finance', ':', 'A', 'Visual', 'Reference', 'for', 'Everything', 'You', 'Need', 'to', 'Know']\n",
      "['Personal', 'Finance', 'For', 'Dummies']\n",
      "['Corporate', 'Finance', 'For', 'Dummies']\n",
      "['Lords', 'of', 'Finance', ':', 'The', 'Bankers', 'Who', 'Broke', 'the', 'World']\n",
      "['Real', 'Estate', 'Finance', '&', 'Investments']\n",
      "['Real', 'Estate', 'Finance', 'and', 'Investments', 'Risks', 'and', 'Opportunities']\n"
     ]
    }
   ],
   "source": [
    "import nltk\n",
    "\n",
    "for title in text:\n",
    "    print(nltk.word_tokenize(title))"
   ]
  },
  {
   "cell_type": "markdown",
   "id": "homeless-yield",
   "metadata": {},
   "source": [
    "## Stemming\n",
    "\n",
    "Stemming is reducing a word to its base form. We typically stem words after tokenization. Notice how the stemmer leads to a lower casing of the words?"
   ]
  },
  {
   "cell_type": "code",
   "execution_count": 4,
   "id": "convinced-pakistan",
   "metadata": {
    "execution": {
     "iopub.execute_input": "2021-02-22T09:31:03.130210Z",
     "iopub.status.busy": "2021-02-22T09:31:03.130018Z",
     "iopub.status.idle": "2021-02-22T09:31:03.147915Z",
     "shell.execute_reply": "2021-02-22T09:31:03.147220Z",
     "shell.execute_reply.started": "2021-02-22T09:31:03.130185Z"
    },
    "tags": []
   },
   "outputs": [
    {
     "name": "stdout",
     "output_type": "stream",
     "text": [
      "['data', 'scienc', 'from', 'scratch', ':', 'first', 'principl', 'with', 'python']\n",
      "['data', 'scienc', 'for', 'busi', ':', 'what', 'you', 'need', 'to', 'know', 'about', 'data', 'mine', 'and', 'data-analyt', 'think']\n",
      "['practic', 'statist', 'for', 'data', 'scientist']\n",
      "['build', 'a', 'career', 'in', 'data', 'scienc']\n",
      "['python', 'data', 'scienc', 'handbook']\n",
      "['storytel', 'with', 'data', ':', 'A', 'data', 'visual', 'guid', 'for', 'busi', 'profession']\n",
      "['R', 'for', 'data', 'scienc', ':', 'import', ',', 'tidi', ',', 'transform', ',', 'visual', ',', 'and', 'model', 'data']\n",
      "['data-driven', 'scienc', 'and', 'engin', ':', 'machin', 'learn', ',', 'dynam', 'system', ',', 'and', 'control']\n",
      "['A', 'hands-on', 'introduct', 'to', 'data', 'scienc']\n",
      "['intro', 'to', 'python', 'for', 'comput', 'scienc', 'and', 'data', 'scienc', ':', 'learn', 'to', 'program', 'with', 'AI', ',', 'big', 'data', 'and', 'the', 'cloud']\n",
      "['how', 'financ', 'work', ':', 'the', 'hbr', 'guid', 'to', 'think', 'smart', 'about', 'the', 'number']\n",
      "['the', 'intellig', 'investor', ':', 'the', 'definit', 'book', 'on', 'valu', 'invest', '.', 'A', 'book', 'of', 'practic', 'counsel']\n",
      "['introduct', 'to', 'financ', ':', 'market', ',', 'invest', ',', 'and', 'financi', 'manag']\n",
      "['python', 'for', 'financ', ':', 'master', 'data-driven', 'financ']\n",
      "['the', 'infograph', 'guid', 'to', 'person', 'financ', ':', 'A', 'visual', 'refer', 'for', 'everyth', 'you', 'need', 'to', 'know']\n",
      "['person', 'financ', 'for', 'dummi']\n",
      "['corpor', 'financ', 'for', 'dummi']\n",
      "['lord', 'of', 'financ', ':', 'the', 'banker', 'who', 'broke', 'the', 'world']\n",
      "['real', 'estat', 'financ', '&', 'invest']\n",
      "['real', 'estat', 'financ', 'and', 'invest', 'risk', 'and', 'opportun']\n"
     ]
    }
   ],
   "source": [
    "from nltk.stem.porter import PorterStemmer\n",
    "\n",
    "stemmer = PorterStemmer()\n",
    "\n",
    "for title in text:\n",
    "    print([stemmer.stem(token) for token in nltk.word_tokenize(title)])"
   ]
  },
  {
   "cell_type": "markdown",
   "id": "balanced-clark",
   "metadata": {},
   "source": [
    "Tokenization, stemming and removing stop words all go hand-in-hand, but [it's tricky](https://github.com/scikit-learn/scikit-learn/issues/12897) to use NLTK's out-of-the-box with scikit. Below is a demonstration of bringing together all three steps. Notice how we have 2 stop words?\n",
    "\n",
    "- `en_stop_words` is to remove stop words during tokenization and before stemming\n",
    "- `stop_words` is used to normalized the stop words themselves"
   ]
  },
  {
   "cell_type": "code",
   "execution_count": 5,
   "id": "productive-philip",
   "metadata": {
    "execution": {
     "iopub.execute_input": "2021-02-22T09:31:03.149151Z",
     "iopub.status.busy": "2021-02-22T09:31:03.148886Z",
     "iopub.status.idle": "2021-02-22T09:31:03.180467Z",
     "shell.execute_reply": "2021-02-22T09:31:03.179884Z",
     "shell.execute_reply.started": "2021-02-22T09:31:03.149111Z"
    },
    "tags": []
   },
   "outputs": [
    {
     "data": {
      "text/plain": [
       "<20x71 sparse matrix of type '<class 'numpy.int64'>'\n",
       "\twith 115 stored elements in Compressed Sparse Row format>"
      ]
     },
     "execution_count": 5,
     "metadata": {},
     "output_type": "execute_result"
    }
   ],
   "source": [
    "import string\n",
    "\n",
    "stemmer = PorterStemmer()\n",
    "en_stop_words = set(stopwords.words('english') + list(string.punctuation))\n",
    "stop_words = nltk.word_tokenize(' '.join(nltk.corpus.stopwords.words('english')))\n",
    "\n",
    "def tokenize(s):\n",
    "    return [stemmer.stem(t) for t in nltk.word_tokenize(s) if t not in en_stop_words]\n",
    "\n",
    "vectorizer = CountVectorizer(binary=True, tokenizer=tokenize, stop_words=stop_words)\n",
    "vectorizer.fit_transform(text)"
   ]
  },
  {
   "cell_type": "markdown",
   "id": "higher-douglas",
   "metadata": {},
   "source": [
    "## Lemmatization\n",
    "\n",
    "Lemmatization is also another way to bring a word into its base form. The [key difference between stemming and lemmatizing a word](https://stackoverflow.com/questions/1787110/what-is-the-difference-between-lemmatization-vs-stemming) is that the former might produce a something that is not an actual word, while the latter does. Lemmatization is often preferred over stemming because of its output."
   ]
  },
  {
   "cell_type": "code",
   "execution_count": 6,
   "id": "different-quick",
   "metadata": {
    "execution": {
     "iopub.execute_input": "2021-02-22T09:31:03.181233Z",
     "iopub.status.busy": "2021-02-22T09:31:03.181104Z",
     "iopub.status.idle": "2021-02-22T09:31:04.081972Z",
     "shell.execute_reply": "2021-02-22T09:31:04.081551Z",
     "shell.execute_reply.started": "2021-02-22T09:31:03.181215Z"
    }
   },
   "outputs": [
    {
     "name": "stdout",
     "output_type": "stream",
     "text": [
      "['Data', 'Science', 'from', 'Scratch', ':', 'First', 'Principles', 'with', 'Python']\n",
      "['Data', 'Science', 'for', 'Business', ':', 'What', 'You', 'Need', 'to', 'Know', 'about', 'Data', 'Mining', 'and', 'Data-Analytic', 'Thinking']\n",
      "['Practical', 'Statistics', 'for', 'Data', 'Scientists']\n",
      "['Build', 'a', 'Career', 'in', 'Data', 'Science']\n",
      "['Python', 'Data', 'Science', 'Handbook']\n",
      "['Storytelling', 'with', 'Data', ':', 'A', 'Data', 'Visualization', 'Guide', 'for', 'Business', 'Professionals']\n",
      "['R', 'for', 'Data', 'Science', ':', 'Import', ',', 'Tidy', ',', 'Transform', ',', 'Visualize', ',', 'and', 'Model', 'Data']\n",
      "['Data-Driven', 'Science', 'and', 'Engineering', ':', 'Machine', 'Learning', ',', 'Dynamical', 'Systems', ',', 'and', 'Control']\n",
      "['A', 'Hands-On', 'Introduction', 'to', 'Data', 'Science']\n",
      "['Intro', 'to', 'Python', 'for', 'Computer', 'Science', 'and', 'Data', 'Science', ':', 'Learning', 'to', 'Program', 'with', 'AI', ',', 'Big', 'Data', 'and', 'The', 'Cloud']\n",
      "['How', 'Finance', 'Works', ':', 'The', 'HBR', 'Guide', 'to', 'Thinking', 'Smart', 'About', 'the', 'Numbers']\n",
      "['The', 'Intelligent', 'Investor', ':', 'The', 'Definitive', 'Book', 'on', 'Value', 'Investing', '.', 'A', 'Book', 'of', 'Practical', 'Counsel']\n",
      "['Introduction', 'to', 'Finance', ':', 'Markets', ',', 'Investments', ',', 'and', 'Financial', 'Management']\n",
      "['Python', 'for', 'Finance', ':', 'Mastering', 'Data-Driven', 'Finance']\n",
      "['The', 'Infographic', 'Guide', 'to', 'Personal', 'Finance', ':', 'A', 'Visual', 'Reference', 'for', 'Everything', 'You', 'Need', 'to', 'Know']\n",
      "['Personal', 'Finance', 'For', 'Dummies']\n",
      "['Corporate', 'Finance', 'For', 'Dummies']\n",
      "['Lords', 'of', 'Finance', ':', 'The', 'Bankers', 'Who', 'Broke', 'the', 'World']\n",
      "['Real', 'Estate', 'Finance', '&', 'Investments']\n",
      "['Real', 'Estate', 'Finance', 'and', 'Investments', 'Risks', 'and', 'Opportunities']\n"
     ]
    }
   ],
   "source": [
    "from nltk.stem import WordNetLemmatizer \n",
    "  \n",
    "lemmatizer = WordNetLemmatizer() \n",
    "\n",
    "for title in text:\n",
    "    print([lemmatizer.lemmatize(token) for token in nltk.word_tokenize(title)])"
   ]
  },
  {
   "cell_type": "markdown",
   "id": "headed-interval",
   "metadata": {},
   "source": [
    "## Part-of-speech tagging\n",
    "\n",
    "NLTK can also be used for for part-of-speech `POS` tagging."
   ]
  },
  {
   "cell_type": "code",
   "execution_count": 7,
   "id": "employed-adolescent",
   "metadata": {
    "execution": {
     "iopub.execute_input": "2021-02-22T09:31:04.082559Z",
     "iopub.status.busy": "2021-02-22T09:31:04.082447Z",
     "iopub.status.idle": "2021-02-22T09:31:04.148816Z",
     "shell.execute_reply": "2021-02-22T09:31:04.148396Z",
     "shell.execute_reply.started": "2021-02-22T09:31:04.082545Z"
    },
    "tags": []
   },
   "outputs": [
    {
     "name": "stdout",
     "output_type": "stream",
     "text": [
      "[('Data', 'NNS'), ('Science', 'NN'), ('from', 'IN'), ('Scratch', 'NN'), (':', ':'), ('First', 'JJ'), ('Principles', 'NNS'), ('with', 'IN'), ('Python', 'NNP')]\n"
     ]
    }
   ],
   "source": [
    "tokens = nltk.word_tokenize(text[0])\n",
    "tags = nltk.pos_tag(tokens)\n",
    "print(tags)"
   ]
  },
  {
   "cell_type": "markdown",
   "id": "stable-bullet",
   "metadata": {},
   "source": [
    "If you are wondering what these tags mean, the following [borrowed code](https://stackoverflow.com/questions/15388831/what-are-all-possible-pos-tags-of-nltk) below can help decipher these tags. These tags are based off the [Penn Treebank tags](https://www.ling.upenn.edu/courses/Fall_2003/ling001/penn_treebank_pos.html)."
   ]
  },
  {
   "cell_type": "code",
   "execution_count": 8,
   "id": "incorporated-arctic",
   "metadata": {
    "execution": {
     "iopub.execute_input": "2021-02-22T09:31:04.149432Z",
     "iopub.status.busy": "2021-02-22T09:31:04.149284Z",
     "iopub.status.idle": "2021-02-22T09:31:04.154451Z",
     "shell.execute_reply": "2021-02-22T09:31:04.154107Z",
     "shell.execute_reply.started": "2021-02-22T09:31:04.149418Z"
    },
    "tags": []
   },
   "outputs": [
    {
     "name": "stdout",
     "output_type": "stream",
     "text": [
      "LS : list item marker\n",
      "TO : \"to\" as preposition or infinitive marker\n",
      "VBN : verb, past participle\n",
      "'' : closing quotation mark\n",
      "WP : WH-pronoun\n",
      "UH : interjection\n",
      "VBG : verb, present participle or gerund\n",
      "JJ : adjective or numeral, ordinal\n",
      "VBZ : verb, present tense, 3rd person singular\n",
      "-- : dash\n",
      "VBP : verb, present tense, not 3rd person singular\n",
      "NN : noun, common, singular or mass\n",
      "DT : determiner\n",
      "PRP : pronoun, personal\n",
      ": : colon or ellipsis\n",
      "WP$ : WH-pronoun, possessive\n",
      "NNPS : noun, proper, plural\n",
      "PRP$ : pronoun, possessive\n",
      "WDT : WH-determiner\n",
      "( : opening parenthesis\n",
      ") : closing parenthesis\n",
      ". : sentence terminator\n",
      ", : comma\n",
      "`` : opening quotation mark\n",
      "$ : dollar\n",
      "RB : adverb\n",
      "RBR : adverb, comparative\n",
      "RBS : adverb, superlative\n",
      "VBD : verb, past tense\n",
      "IN : preposition or conjunction, subordinating\n",
      "FW : foreign word\n",
      "RP : particle\n",
      "JJR : adjective, comparative\n",
      "JJS : adjective, superlative\n",
      "PDT : pre-determiner\n",
      "MD : modal auxiliary\n",
      "VB : verb, base form\n",
      "WRB : Wh-adverb\n",
      "NNP : noun, proper, singular\n",
      "EX : existential there\n",
      "NNS : noun, common, plural\n",
      "SYM : symbol\n",
      "CC : conjunction, coordinating\n",
      "CD : numeral, cardinal\n",
      "POS : genitive marker\n"
     ]
    }
   ],
   "source": [
    "from nltk.data import load as nltk_load\n",
    "\n",
    "tag_dict = nltk_load('help/tagsets/upenn_tagset.pickle')\n",
    "for k, v in tag_dict.items():\n",
    "    print(f'{k} : {v[0]}')"
   ]
  },
  {
   "cell_type": "markdown",
   "id": "brazilian-layer",
   "metadata": {},
   "source": [
    "## n-grams\n",
    "\n",
    "We can also find n-grams using NLTK. To find n-grams, we have to first merge all the text data together (or merge all the titles together as if they were one long title). "
   ]
  },
  {
   "cell_type": "code",
   "execution_count": 9,
   "id": "structural-newark",
   "metadata": {
    "execution": {
     "iopub.execute_input": "2021-02-22T09:31:04.155075Z",
     "iopub.status.busy": "2021-02-22T09:31:04.154962Z",
     "iopub.status.idle": "2021-02-22T09:31:04.160475Z",
     "shell.execute_reply": "2021-02-22T09:31:04.160009Z",
     "shell.execute_reply.started": "2021-02-22T09:31:04.155060Z"
    },
    "tags": []
   },
   "outputs": [],
   "source": [
    "from itertools import chain\n",
    "\n",
    "stop_words = set(stopwords.words('english') + list(string.punctuation))\n",
    "\n",
    "is_valid = lambda t: t not in stop_words\n",
    "tokenize = lambda t: nltk.word_tokenize(t.lower())\n",
    "lemmatize = lambda t: lemmatizer.lemmatize(t)\n",
    "\n",
    "tokens = list(chain(*[[lemmatize(t) for t in tokenize(t) if is_valid(t)] for t in text]))"
   ]
  },
  {
   "cell_type": "markdown",
   "id": "mounted-cannon",
   "metadata": {},
   "source": [
    "The `BigramCollocationFinder.from_words()` can then be used to find the co-located words, and any of the `BigramAssocMeasures` can then be used to judge the relative strength of the co-location. "
   ]
  },
  {
   "cell_type": "code",
   "execution_count": 10,
   "id": "intended-triangle",
   "metadata": {
    "execution": {
     "iopub.execute_input": "2021-02-22T09:31:04.161077Z",
     "iopub.status.busy": "2021-02-22T09:31:04.160939Z",
     "iopub.status.idle": "2021-02-22T09:31:04.189052Z",
     "shell.execute_reply": "2021-02-22T09:31:04.188431Z",
     "shell.execute_reply.started": "2021-02-22T09:31:04.161061Z"
    },
    "tags": []
   },
   "outputs": [],
   "source": [
    "from nltk.collocations import BigramCollocationFinder \n",
    "from nltk.metrics import BigramAssocMeasures\n",
    "import pandas as pd\n",
    "\n",
    "finder = BigramCollocationFinder.from_words(tokens)\n",
    "\n",
    "measures = [\n",
    "    BigramAssocMeasures.chi_sq,\n",
    "    BigramAssocMeasures.dice,\n",
    "    BigramAssocMeasures.fisher,\n",
    "    BigramAssocMeasures.jaccard,\n",
    "    BigramAssocMeasures.likelihood_ratio,\n",
    "    BigramAssocMeasures.mi_like,\n",
    "    BigramAssocMeasures.phi_sq,\n",
    "    BigramAssocMeasures.poisson_stirling,\n",
    "    BigramAssocMeasures.raw_freq,\n",
    "    BigramAssocMeasures.student_t\n",
    "]\n",
    "\n",
    "results = {}\n",
    "for measure in measures:\n",
    "    name = measure.__name__\n",
    "    result = [{'measure': name, 'w1': w1, 'w2': w2, 'score': score} \n",
    "               for (w1, w2), score in finder.score_ngrams(measure)]\n",
    "    result = pd.DataFrame(result).sort_values(['score'], ascending=[False]).reset_index(drop=True)\n",
    "    results[name] = result"
   ]
  },
  {
   "cell_type": "markdown",
   "id": "planned-passing",
   "metadata": {},
   "source": [
    "These are the top 2-gram words found by each association measure."
   ]
  },
  {
   "cell_type": "code",
   "execution_count": 11,
   "id": "legitimate-portland",
   "metadata": {
    "execution": {
     "iopub.execute_input": "2021-02-22T09:31:04.189920Z",
     "iopub.status.busy": "2021-02-22T09:31:04.189788Z",
     "iopub.status.idle": "2021-02-22T09:31:04.200408Z",
     "shell.execute_reply": "2021-02-22T09:31:04.199890Z",
     "shell.execute_reply.started": "2021-02-22T09:31:04.189905Z"
    },
    "tags": []
   },
   "outputs": [
    {
     "data": {
      "text/html": [
       "<div>\n",
       "<style scoped>\n",
       "    .dataframe tbody tr th:only-of-type {\n",
       "        vertical-align: middle;\n",
       "    }\n",
       "\n",
       "    .dataframe tbody tr th {\n",
       "        vertical-align: top;\n",
       "    }\n",
       "\n",
       "    .dataframe thead th {\n",
       "        text-align: right;\n",
       "    }\n",
       "</style>\n",
       "<table border=\"1\" class=\"dataframe\">\n",
       "  <thead>\n",
       "    <tr style=\"text-align: right;\">\n",
       "      <th></th>\n",
       "      <th>measure</th>\n",
       "      <th>w1</th>\n",
       "      <th>w2</th>\n",
       "      <th>score</th>\n",
       "    </tr>\n",
       "  </thead>\n",
       "  <tbody>\n",
       "    <tr>\n",
       "      <th>0</th>\n",
       "      <td>chi_sq</td>\n",
       "      <td>ai</td>\n",
       "      <td>big</td>\n",
       "      <td>124.000000</td>\n",
       "    </tr>\n",
       "    <tr>\n",
       "      <th>0</th>\n",
       "      <td>dice</td>\n",
       "      <td>ai</td>\n",
       "      <td>big</td>\n",
       "      <td>1.000000</td>\n",
       "    </tr>\n",
       "    <tr>\n",
       "      <th>0</th>\n",
       "      <td>fisher</td>\n",
       "      <td>ai</td>\n",
       "      <td>big</td>\n",
       "      <td>1.000000</td>\n",
       "    </tr>\n",
       "    <tr>\n",
       "      <th>0</th>\n",
       "      <td>jaccard</td>\n",
       "      <td>ai</td>\n",
       "      <td>big</td>\n",
       "      <td>1.000000</td>\n",
       "    </tr>\n",
       "    <tr>\n",
       "      <th>0</th>\n",
       "      <td>likelihood_ratio</td>\n",
       "      <td>data</td>\n",
       "      <td>science</td>\n",
       "      <td>26.571291</td>\n",
       "    </tr>\n",
       "    <tr>\n",
       "      <th>0</th>\n",
       "      <td>mi_like</td>\n",
       "      <td>data</td>\n",
       "      <td>science</td>\n",
       "      <td>2.931624</td>\n",
       "    </tr>\n",
       "    <tr>\n",
       "      <th>0</th>\n",
       "      <td>phi_sq</td>\n",
       "      <td>ai</td>\n",
       "      <td>big</td>\n",
       "      <td>1.000000</td>\n",
       "    </tr>\n",
       "    <tr>\n",
       "      <th>0</th>\n",
       "      <td>poisson_stirling</td>\n",
       "      <td>data</td>\n",
       "      <td>science</td>\n",
       "      <td>13.238306</td>\n",
       "    </tr>\n",
       "    <tr>\n",
       "      <th>0</th>\n",
       "      <td>raw_freq</td>\n",
       "      <td>data</td>\n",
       "      <td>science</td>\n",
       "      <td>0.056452</td>\n",
       "    </tr>\n",
       "    <tr>\n",
       "      <th>0</th>\n",
       "      <td>student_t</td>\n",
       "      <td>data</td>\n",
       "      <td>science</td>\n",
       "      <td>2.289124</td>\n",
       "    </tr>\n",
       "  </tbody>\n",
       "</table>\n",
       "</div>"
      ],
      "text/plain": [
       "            measure    w1       w2       score\n",
       "0            chi_sq    ai      big  124.000000\n",
       "0              dice    ai      big    1.000000\n",
       "0            fisher    ai      big    1.000000\n",
       "0           jaccard    ai      big    1.000000\n",
       "0  likelihood_ratio  data  science   26.571291\n",
       "0           mi_like  data  science    2.931624\n",
       "0            phi_sq    ai      big    1.000000\n",
       "0  poisson_stirling  data  science   13.238306\n",
       "0          raw_freq  data  science    0.056452\n",
       "0         student_t  data  science    2.289124"
      ]
     },
     "execution_count": 11,
     "metadata": {},
     "output_type": "execute_result"
    }
   ],
   "source": [
    "pd.DataFrame([df.iloc[0] for _, df in results.items()])"
   ]
  },
  {
   "cell_type": "markdown",
   "id": "studied-property",
   "metadata": {},
   "source": [
    "You can use the `nbest()` method to retrieve the best top ngrams."
   ]
  },
  {
   "cell_type": "code",
   "execution_count": 12,
   "id": "smart-partner",
   "metadata": {
    "execution": {
     "iopub.execute_input": "2021-02-22T09:31:04.201178Z",
     "iopub.status.busy": "2021-02-22T09:31:04.201055Z",
     "iopub.status.idle": "2021-02-22T09:31:04.218446Z",
     "shell.execute_reply": "2021-02-22T09:31:04.218068Z",
     "shell.execute_reply.started": "2021-02-22T09:31:04.201162Z"
    },
    "tags": []
   },
   "outputs": [
    {
     "data": {
      "text/plain": [
       "['ai big',\n",
       " 'ai big',\n",
       " 'ai big',\n",
       " 'ai big',\n",
       " 'data science',\n",
       " 'data science',\n",
       " 'ai big',\n",
       " 'data science',\n",
       " 'data science',\n",
       " 'data science']"
      ]
     },
     "execution_count": 12,
     "metadata": {},
     "output_type": "execute_result"
    }
   ],
   "source": [
    "max_ngrams = 1\n",
    "\n",
    "[f'{w1} {w2}' for w1, w2 in [finder.nbest(m, max_ngrams)[0] for m in measures]]"
   ]
  },
  {
   "cell_type": "markdown",
   "id": "spatial-occupation",
   "metadata": {},
   "source": [
    "## Frequency distribution\n",
    "\n",
    "You can use the `FreqDist()` class to count all the word frequencies."
   ]
  },
  {
   "cell_type": "code",
   "execution_count": 13,
   "id": "detailed-uniform",
   "metadata": {
    "execution": {
     "iopub.execute_input": "2021-02-22T09:31:04.219085Z",
     "iopub.status.busy": "2021-02-22T09:31:04.218977Z",
     "iopub.status.idle": "2021-02-22T09:31:05.054538Z",
     "shell.execute_reply": "2021-02-22T09:31:05.054127Z",
     "shell.execute_reply.started": "2021-02-22T09:31:04.219071Z"
    },
    "tags": []
   },
   "outputs": [
    {
     "data": {
      "image/png": "[encoded data removed]",
      "text/plain": [
       "<Figure size 1080x288 with 1 Axes>"
      ]
     },
     "metadata": {
      "needs_background": "light"
     },
     "output_type": "display_data"
    }
   ],
   "source": [
    "stop_words = set(stopwords.words('english') + list(string.punctuation))\n",
    "\n",
    "is_valid = lambda t: t not in stop_words\n",
    "tokenize = lambda t: nltk.word_tokenize(t.lower())\n",
    "lemmatize = lambda t: lemmatizer.lemmatize(t)\n",
    "\n",
    "tokens = list(chain(*[[lemmatize(t) for t in tokenize(t) if is_valid(t)] for t in text]))\n",
    "\n",
    "frequencies = nltk.FreqDist(tokens)\n",
    "s = pd.Series([v for _, v in frequencies.items()], frequencies.keys()).sort_values(ascending=False)\n",
    "_ = s.plot(kind='bar', figsize=(15, 4))"
   ]
  }
 ],
 "metadata": {
  "kernelspec": {
   "display_name": "Python 3",
   "language": "python",
   "name": "python3"
  },
  "language_info": {
   "codemirror_mode": {
    "name": "ipython",
    "version": 3
   },
   "file_extension": ".py",
   "mimetype": "text/x-python",
   "name": "python",
   "nbconvert_exporter": "python",
   "pygments_lexer": "ipython3",
   "version": "3.8.3"
  },
  "widgets": {
   "application/vnd.jupyter.widget-state+json": {
    "state": {},
    "version_major": 2,
    "version_minor": 0
   }
  }
 },
 "nbformat": 4,
 "nbformat_minor": 5
}
