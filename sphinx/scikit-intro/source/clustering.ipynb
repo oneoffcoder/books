{
 "cells": [
  {
   "cell_type": "markdown",
   "metadata": {},
   "source": [
    "# Clustering"
   ]
  },
  {
   "cell_type": "markdown",
   "metadata": {},
   "source": [
    "## Generate data"
   ]
  },
  {
   "cell_type": "code",
   "execution_count": 1,
   "metadata": {},
   "outputs": [],
   "source": [
    "import numpy as np\n",
    "from numpy.random import normal\n",
    "from collections import namedtuple\n",
    "\n",
    "Data = namedtuple('Data', 'X y')\n",
    "\n",
    "np.random.seed(37)\n",
    "\n",
    "def get_data(means, variances, labels, N=1000):\n",
    "    def get_X(sample_means, sample_variances, N):\n",
    "        return np.hstack([normal(m, v, N).reshape(-1, 1) for m, v in zip(sample_means, sample_variances)])\n",
    "    \n",
    "    def get_y(label, N):\n",
    "        return np.full(N, label, dtype=np.int)\n",
    "    \n",
    "    X = np.vstack([get_X(m, v, N) for m, v in zip(means, variances)])\n",
    "    y = np.hstack([get_y(label, N) for label in labels])\n",
    "    \n",
    "    return Data(X, y)\n",
    "\n",
    "# training\n",
    "T = get_data(means=[[5.0, 5.0], [6.0, 6.0]], variances=[[1.0, 1.0], [1.0, 1.0]], labels=[0, 1])\n",
    "\n",
    "# validation\n",
    "V = get_data(means=[[5.0, 5.0], [6.0, 6.0]], variances=[[1.0, 1.0], [1.0, 1.0]], labels=[0, 1])"
   ]
  },
  {
   "cell_type": "markdown",
   "metadata": {},
   "source": [
    "## Types of clustering"
   ]
  },
  {
   "cell_type": "markdown",
   "metadata": {},
   "source": [
    "### K-means"
   ]
  },
  {
   "cell_type": "code",
   "execution_count": 2,
   "metadata": {},
   "outputs": [
    {
     "data": {
      "text/plain": [
       "KMeans(algorithm='auto', copy_x=True, init='k-means++', max_iter=300,\n",
       "       n_clusters=2, n_init=10, n_jobs=None, precompute_distances='auto',\n",
       "       random_state=37, tol=0.0001, verbose=0)"
      ]
     },
     "execution_count": 2,
     "metadata": {},
     "output_type": "execute_result"
    }
   ],
   "source": [
    "from sklearn.cluster import KMeans\n",
    "\n",
    "km = KMeans(n_clusters=2, random_state=37)\n",
    "km.fit(T.X)"
   ]
  },
  {
   "cell_type": "markdown",
   "metadata": {},
   "source": [
    "### Affinity propagation"
   ]
  },
  {
   "cell_type": "code",
   "execution_count": 3,
   "metadata": {},
   "outputs": [
    {
     "data": {
      "text/plain": [
       "AffinityPropagation(affinity='euclidean', convergence_iter=15, copy=True,\n",
       "                    damping=0.5, max_iter=200, preference=None, verbose=False)"
      ]
     },
     "execution_count": 3,
     "metadata": {},
     "output_type": "execute_result"
    }
   ],
   "source": [
    "from sklearn.cluster import AffinityPropagation\n",
    "\n",
    "ap = AffinityPropagation()\n",
    "ap.fit(T.X)"
   ]
  },
  {
   "cell_type": "markdown",
   "metadata": {},
   "source": [
    "### Mean-shift"
   ]
  },
  {
   "cell_type": "code",
   "execution_count": 4,
   "metadata": {},
   "outputs": [
    {
     "data": {
      "text/plain": [
       "MeanShift(bandwidth=None, bin_seeding=False, cluster_all=True, min_bin_freq=1,\n",
       "          n_jobs=None, seeds=None)"
      ]
     },
     "execution_count": 4,
     "metadata": {},
     "output_type": "execute_result"
    }
   ],
   "source": [
    "from sklearn.cluster import MeanShift\n",
    "\n",
    "ms = MeanShift()\n",
    "ms.fit(T.X)"
   ]
  },
  {
   "cell_type": "markdown",
   "metadata": {},
   "source": [
    "### Spectral"
   ]
  },
  {
   "cell_type": "code",
   "execution_count": 5,
   "metadata": {},
   "outputs": [
    {
     "data": {
      "text/plain": [
       "SpectralClustering(affinity='rbf', assign_labels='kmeans', coef0=1, degree=3,\n",
       "                   eigen_solver=None, eigen_tol=0.0, gamma=1.0,\n",
       "                   kernel_params=None, n_clusters=2, n_init=10, n_jobs=None,\n",
       "                   n_neighbors=10, random_state=37)"
      ]
     },
     "execution_count": 5,
     "metadata": {},
     "output_type": "execute_result"
    }
   ],
   "source": [
    "from sklearn.cluster import SpectralClustering\n",
    "\n",
    "sc = SpectralClustering(n_clusters=2, random_state=37)\n",
    "sc.fit(T.X)"
   ]
  },
  {
   "cell_type": "markdown",
   "metadata": {},
   "source": [
    "### Agglomerative"
   ]
  },
  {
   "cell_type": "code",
   "execution_count": 6,
   "metadata": {},
   "outputs": [
    {
     "data": {
      "text/plain": [
       "AgglomerativeClustering(affinity='euclidean', compute_full_tree='auto',\n",
       "                        connectivity=None, distance_threshold=None,\n",
       "                        linkage='ward', memory=None, n_clusters=2,\n",
       "                        pooling_func='deprecated')"
      ]
     },
     "execution_count": 6,
     "metadata": {},
     "output_type": "execute_result"
    }
   ],
   "source": [
    "from sklearn.cluster import AgglomerativeClustering\n",
    "\n",
    "ac = AgglomerativeClustering(n_clusters=2)\n",
    "ac.fit(T.X)"
   ]
  },
  {
   "cell_type": "markdown",
   "metadata": {},
   "source": [
    "### DBSCAN"
   ]
  },
  {
   "cell_type": "code",
   "execution_count": 7,
   "metadata": {},
   "outputs": [
    {
     "data": {
      "text/plain": [
       "DBSCAN(algorithm='auto', eps=0.5, leaf_size=30, metric='euclidean',\n",
       "       metric_params=None, min_samples=5, n_jobs=None, p=None)"
      ]
     },
     "execution_count": 7,
     "metadata": {},
     "output_type": "execute_result"
    }
   ],
   "source": [
    "from sklearn.cluster import DBSCAN\n",
    "\n",
    "db = DBSCAN()\n",
    "db.fit(T.X)"
   ]
  },
  {
   "cell_type": "markdown",
   "metadata": {},
   "source": [
    "### OPTICS"
   ]
  },
  {
   "cell_type": "code",
   "execution_count": 8,
   "metadata": {},
   "outputs": [
    {
     "data": {
      "text/plain": [
       "OPTICS(algorithm='auto', cluster_method='xi', eps=None, leaf_size=30,\n",
       "       max_eps=inf, metric='minkowski', metric_params=None,\n",
       "       min_cluster_size=None, min_samples=5, n_jobs=None, p=2,\n",
       "       predecessor_correction=True, xi=0.05)"
      ]
     },
     "execution_count": 8,
     "metadata": {},
     "output_type": "execute_result"
    }
   ],
   "source": [
    "from sklearn.cluster import OPTICS\n",
    "\n",
    "op = OPTICS()\n",
    "op.fit(T.X)"
   ]
  },
  {
   "cell_type": "markdown",
   "metadata": {},
   "source": [
    "### Birch"
   ]
  },
  {
   "cell_type": "code",
   "execution_count": 9,
   "metadata": {},
   "outputs": [
    {
     "data": {
      "text/plain": [
       "Birch(branching_factor=50, compute_labels=True, copy=True, n_clusters=2,\n",
       "      threshold=0.5)"
      ]
     },
     "execution_count": 9,
     "metadata": {},
     "output_type": "execute_result"
    }
   ],
   "source": [
    "from sklearn.cluster import Birch\n",
    "\n",
    "birch = Birch(n_clusters=2)\n",
    "birch.fit(T.X)"
   ]
  },
  {
   "cell_type": "markdown",
   "metadata": {},
   "source": [
    "## Performance"
   ]
  },
  {
   "cell_type": "code",
   "execution_count": 10,
   "metadata": {},
   "outputs": [
    {
     "data": {
      "text/html": [
       "<div>\n",
       "<style scoped>\n",
       "    .dataframe tbody tr th:only-of-type {\n",
       "        vertical-align: middle;\n",
       "    }\n",
       "\n",
       "    .dataframe tbody tr th {\n",
       "        vertical-align: top;\n",
       "    }\n",
       "\n",
       "    .dataframe thead th {\n",
       "        text-align: right;\n",
       "    }\n",
       "</style>\n",
       "<table border=\"1\" class=\"dataframe\">\n",
       "  <thead>\n",
       "    <tr style=\"text-align: right;\">\n",
       "      <th></th>\n",
       "      <th>model</th>\n",
       "      <th>davies_bouldin_score</th>\n",
       "      <th>silhouette_score</th>\n",
       "      <th>calinski_harabasz_score</th>\n",
       "      <th>completeness_score</th>\n",
       "      <th>homogeneity_score</th>\n",
       "      <th>v_measure_score</th>\n",
       "    </tr>\n",
       "  </thead>\n",
       "  <tbody>\n",
       "    <tr>\n",
       "      <th>0</th>\n",
       "      <td>KMeans</td>\n",
       "      <td>1.107967</td>\n",
       "      <td>0.345717</td>\n",
       "      <td>659.943519</td>\n",
       "      <td>0.187573</td>\n",
       "      <td>0.187416</td>\n",
       "      <td>0.187494</td>\n",
       "    </tr>\n",
       "    <tr>\n",
       "      <th>1</th>\n",
       "      <td>SpectralClustering</td>\n",
       "      <td>1.108844</td>\n",
       "      <td>0.344831</td>\n",
       "      <td>664.091301</td>\n",
       "      <td>0.188626</td>\n",
       "      <td>0.188374</td>\n",
       "      <td>0.188500</td>\n",
       "    </tr>\n",
       "    <tr>\n",
       "      <th>2</th>\n",
       "      <td>AgglomerativeClustering</td>\n",
       "      <td>1.302874</td>\n",
       "      <td>0.286382</td>\n",
       "      <td>513.321469</td>\n",
       "      <td>0.152997</td>\n",
       "      <td>0.152944</td>\n",
       "      <td>0.152970</td>\n",
       "    </tr>\n",
       "    <tr>\n",
       "      <th>3</th>\n",
       "      <td>Birch</td>\n",
       "      <td>1.343323</td>\n",
       "      <td>0.290154</td>\n",
       "      <td>336.963632</td>\n",
       "      <td>0.117488</td>\n",
       "      <td>0.108257</td>\n",
       "      <td>0.112684</td>\n",
       "    </tr>\n",
       "  </tbody>\n",
       "</table>\n",
       "</div>"
      ],
      "text/plain": [
       "                     model  davies_bouldin_score  silhouette_score  \\\n",
       "0                   KMeans              1.107967          0.345717   \n",
       "1       SpectralClustering              1.108844          0.344831   \n",
       "2  AgglomerativeClustering              1.302874          0.286382   \n",
       "3                    Birch              1.343323          0.290154   \n",
       "\n",
       "   calinski_harabasz_score  completeness_score  homogeneity_score  \\\n",
       "0               659.943519            0.187573           0.187416   \n",
       "1               664.091301            0.188626           0.188374   \n",
       "2               513.321469            0.152997           0.152944   \n",
       "3               336.963632            0.117488           0.108257   \n",
       "\n",
       "   v_measure_score  \n",
       "0         0.187494  \n",
       "1         0.188500  \n",
       "2         0.152970  \n",
       "3         0.112684  "
      ]
     },
     "execution_count": 10,
     "metadata": {},
     "output_type": "execute_result"
    }
   ],
   "source": [
    "import pandas as pd\n",
    "from sklearn.metrics import calinski_harabasz_score, davies_bouldin_score, \\\n",
    "    completeness_score, homogeneity_score, silhouette_score, \\\n",
    "    v_measure_score\n",
    "\n",
    "def get_scoring_functions():\n",
    "    # grouping score functions\n",
    "    gfuncs = [davies_bouldin_score, silhouette_score]\n",
    "    # cluster assignment score functions\n",
    "    afuncs = [calinski_harabasz_score, completeness_score, homogeneity_score, v_measure_score]\n",
    "    return gfuncs, afuncs\n",
    "\n",
    "def get_tuple_cols():\n",
    "    gfuncs, afuncs = get_scoring_functions()\n",
    "    return ['model'] + [f.__name__ for f in gfuncs] + [f.__name__ for f in afuncs]\n",
    "    \n",
    "def get_scores(model_name, X, y_true, y_pred):\n",
    "    def do_scoring(f, y_true, y_pred):\n",
    "        try:\n",
    "            return f(y_true, y_pred)\n",
    "        except:\n",
    "            return f(y_true.reshape(-1, 1), y_pred)        \n",
    "        \n",
    "    gfuncs, afuncs = get_scoring_functions()\n",
    "    \n",
    "    gscores = {f.__name__: f(X, y_pred) for f in gfuncs}\n",
    "    ascores = {f.__name__: do_scoring(f, y_true, y_pred) for f in afuncs}\n",
    "    \n",
    "    d = {**gscores, **ascores}\n",
    "    d['model'] = model_name\n",
    "    \n",
    "    return tuple([d[c] for c in get_tuple_cols()])\n",
    "\n",
    "def get_predictions(model, X):\n",
    "    fit_predict_models = ['SpectralClustering', 'AgglomerativeClustering', 'DBSCAN', 'OPTICS']\n",
    "    if type(model).__name__ not in fit_predict_models:\n",
    "        return model.predict(X)\n",
    "    else:\n",
    "        return model.fit_predict(X)\n",
    "\n",
    "models = [km, sc, ac, birch]\n",
    "model_names = [type(m).__name__ for m in models]\n",
    "\n",
    "y_preds = {type(model).__name__: get_predictions(model, V.X) for model in models}\n",
    "\n",
    "scores = [get_scores(name, V.X, V.y, y_preds[name]) for name in model_names]\n",
    "df = pd.DataFrame(scores, columns=get_tuple_cols())\n",
    "df"
   ]
  }
 ],
 "metadata": {
  "kernelspec": {
   "display_name": "Python 3",
   "language": "python",
   "name": "python3"
  },
  "language_info": {
   "codemirror_mode": {
    "name": "ipython",
    "version": 3
   },
   "file_extension": ".py",
   "mimetype": "text/x-python",
   "name": "python",
   "nbconvert_exporter": "python",
   "pygments_lexer": "ipython3",
   "version": "3.7.3"
  }
 },
 "nbformat": 4,
 "nbformat_minor": 4
}
