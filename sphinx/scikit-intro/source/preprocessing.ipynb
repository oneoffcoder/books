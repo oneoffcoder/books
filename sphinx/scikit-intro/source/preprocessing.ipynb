{
 "cells": [
  {
   "cell_type": "markdown",
   "metadata": {},
   "source": [
    "# Data preprocessing"
   ]
  },
  {
   "cell_type": "code",
   "execution_count": 12,
   "metadata": {},
   "outputs": [
    {
     "data": {
      "text/plain": [
       "array([[1.],\n",
       "       [0.],\n",
       "       [1.],\n",
       "       [0.]])"
      ]
     },
     "execution_count": 12,
     "metadata": {},
     "output_type": "execute_result"
    }
   ],
   "source": [
    "from sklearn.preprocessing import Binarizer\n",
    "\n",
    "X = [[1.0],\n",
    "     [-1.0],\n",
    "     [1.0],\n",
    "     [-1.0]]\n",
    "\n",
    "t = Binarizer()\n",
    "t.fit(X)\n",
    "t.transform(X)"
   ]
  },
  {
   "cell_type": "code",
   "execution_count": 19,
   "metadata": {},
   "outputs": [
    {
     "data": {
      "text/plain": [
       "array([[0., 2.],\n",
       "       [0., 2.],\n",
       "       [1., 1.],\n",
       "       [2., 0.],\n",
       "       [2., 0.]])"
      ]
     },
     "execution_count": 19,
     "metadata": {},
     "output_type": "execute_result"
    }
   ],
   "source": [
    "from sklearn.preprocessing import KBinsDiscretizer\n",
    "\n",
    "X = [[-2.0, 2.0],\n",
    "     [-1.0, 1.0],\n",
    "     [0.0, 0.0],\n",
    "     [1.0, -1.0], \n",
    "     [2.0, -2.0]]\n",
    "\n",
    "t = KBinsDiscretizer(n_bins=3, encode='ordinal', strategy='uniform')\n",
    "t.fit(X)\n",
    "t.transform(X)"
   ]
  },
  {
   "cell_type": "code",
   "execution_count": 34,
   "metadata": {},
   "outputs": [
    {
     "name": "stdout",
     "output_type": "stream",
     "text": [
      "[[1 0 0]\n",
      " [1 0 0]\n",
      " [0 0 1]\n",
      " [0 0 1]\n",
      " [0 1 0]\n",
      " [0 1 0]]\n",
      "[0]\n",
      "[2]\n",
      "[1]\n"
     ]
    }
   ],
   "source": [
    "import numpy as np\n",
    "from sklearn.preprocessing import LabelBinarizer\n",
    "\n",
    "t = LabelBinarizer()\n",
    "t.fit([0, 1, 2])\n",
    "\n",
    "# transform labels\n",
    "print(t.transform([0, 0, 2, 2, 1, 1]))\n",
    "\n",
    "# inverse transform\n",
    "print(t.inverse_transform(np.array([[1, 0, 0]])))\n",
    "print(t.inverse_transform(np.array([[0, 0, 1]])))\n",
    "print(t.inverse_transform(np.array([[0, 1, 0]])))"
   ]
  },
  {
   "cell_type": "code",
   "execution_count": 39,
   "metadata": {},
   "outputs": [
    {
     "name": "stdout",
     "output_type": "stream",
     "text": [
      "[0 0 1 2 1 2]\n",
      "[ 99  99 200 200 100 100]\n"
     ]
    }
   ],
   "source": [
    "from sklearn.preprocessing import LabelEncoder\n",
    "\n",
    "t = LabelEncoder()\n",
    "t.fit([99, 100, 200])\n",
    "\n",
    "print(t.transform([99, 99, 100, 200, 100, 200]))\n",
    "\n",
    "print(t.inverse_transform([0, 0, 2, 2, 1, 1]))"
   ]
  },
  {
   "cell_type": "code",
   "execution_count": null,
   "metadata": {},
   "outputs": [],
   "source": []
  }
 ],
 "metadata": {
  "kernelspec": {
   "display_name": "Python 3",
   "language": "python",
   "name": "python3"
  },
  "language_info": {
   "codemirror_mode": {
    "name": "ipython",
    "version": 3
   },
   "file_extension": ".py",
   "mimetype": "text/x-python",
   "name": "python",
   "nbconvert_exporter": "python",
   "pygments_lexer": "ipython3",
   "version": "3.7.3"
  }
 },
 "nbformat": 4,
 "nbformat_minor": 4
}
