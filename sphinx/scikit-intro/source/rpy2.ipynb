{
 "cells": [
  {
   "cell_type": "markdown",
   "id": "d9fa4a55-615a-43e0-b45f-46e6c6fa8adb",
   "metadata": {},
   "source": [
    "# rpy2"
   ]
  },
  {
   "cell_type": "markdown",
   "id": "ccee1dbf-29cc-4ac4-8b3b-31074d4d362c",
   "metadata": {},
   "source": [
    "## Basic"
   ]
  },
  {
   "cell_type": "markdown",
   "id": "22fa4a6b-d30e-481e-9067-6d9658341c53",
   "metadata": {},
   "source": [
    "Import rpy2 and check its version."
   ]
  },
  {
   "cell_type": "code",
   "execution_count": 1,
   "id": "6026f3fc-08c6-4b2c-be0c-000b8419d6ff",
   "metadata": {},
   "outputs": [
    {
     "name": "stdout",
     "output_type": "stream",
     "text": [
      "3.4.5\n"
     ]
    }
   ],
   "source": [
    "import rpy2\n",
    "\n",
    "print(rpy2.__version__)"
   ]
  },
  {
   "cell_type": "markdown",
   "id": "eb3ca28b-23d2-44ba-9189-d12d7732db8d",
   "metadata": {},
   "source": [
    "Get the rpy2 environment."
   ]
  },
  {
   "cell_type": "code",
   "execution_count": 2,
   "id": "dfd1a4da-76b9-4294-b030-51db4331b012",
   "metadata": {},
   "outputs": [
    {
     "name": "stdout",
     "output_type": "stream",
     "text": [
      "\u001b[1mrpy2 version:\u001b[0m\n",
      "3.4.5\n",
      "\u001b[1mPython version:\u001b[0m\n",
      "3.8.8 (default, Apr 13 2021, 12:59:45) \n",
      "[Clang 10.0.0 ]\n",
      "\u001b[1mLooking for R's HOME:\u001b[0m\n",
      "    Environment variable R_HOME: None\n",
      "    Calling `R RHOME`: /Library/Frameworks/R.framework/Resources\n",
      "    Environment variable R_LIBS_USER: None\n",
      "\u001b[1mR's additions to LD_LIBRARY_PATH:\u001b[0m\n",
      "\n",
      "\u001b[1mR version:\u001b[0m\n",
      "    In the PATH: R version 4.1.1 (2021-08-10) -- \"Kick Things\"\n",
      "    Loading R library from rpy2: OK\n",
      "\u001b[1mAdditional directories to load R packages from:\u001b[0m\n",
      "None\n",
      "\u001b[1mC extension compilation:\u001b[0m\n",
      "  include:\n",
      "  ['/Library/Frameworks/R.framework/Resources/include']\n",
      "  libraries:\n",
      "  ['pcre2-8', 'lzma', 'bz2', 'z', 'icucore', 'dl', 'm', 'iconv']\n",
      "  library_dirs:\n",
      "  ['/usr/local/lib', '/usr/local/lib']\n",
      "  extra_compile_args:\n",
      "  []\n",
      "  extra_link_args:\n",
      "  ['-F/Library/Frameworks/R.framework/..', '-framework', 'R']\n"
     ]
    }
   ],
   "source": [
    "import rpy2.situation\n",
    "\n",
    "for row in rpy2.situation.iter_info():\n",
    "    print(row)"
   ]
  },
  {
   "cell_type": "markdown",
   "id": "efa55e7b-2411-4471-a738-96cd790818dd",
   "metadata": {},
   "source": [
    "Initializing an embedded R environment."
   ]
  },
  {
   "cell_type": "code",
   "execution_count": 3,
   "id": "cadde2cf-0c5d-4510-a2ff-adf02d602cb4",
   "metadata": {},
   "outputs": [],
   "source": [
    "import rpy2.robjects as robjects"
   ]
  },
  {
   "cell_type": "markdown",
   "id": "aec04093-aea8-4a6a-85ca-418baa8e0e0d",
   "metadata": {},
   "source": [
    "Importing packages."
   ]
  },
  {
   "cell_type": "code",
   "execution_count": 4,
   "id": "c58a5c12-65c4-4a2c-b059-434ee31e853b",
   "metadata": {},
   "outputs": [],
   "source": [
    "from rpy2.robjects.packages import importr\n",
    "\n",
    "base = importr('base')"
   ]
  },
  {
   "cell_type": "markdown",
   "id": "fe9c12c2-cc56-48ee-9dde-44fe789b399e",
   "metadata": {},
   "source": [
    "Install packages."
   ]
  },
  {
   "cell_type": "code",
   "execution_count": 5,
   "id": "db178c4b-6f4c-4e37-8976-dbe272d272e2",
   "metadata": {},
   "outputs": [],
   "source": [
    "import rpy2.robjects.packages as rpackages\n",
    "from rpy2.robjects.vectors import StrVector\n",
    "\n",
    "utils = rpackages.importr('utils')\n",
    "utils.chooseCRANmirror(ind=1)\n",
    "\n",
    "packages = [p for p in ('ggplot2', 'hexbin') if not rpackages.isinstalled(p)]\n",
    "\n",
    "if len(packages) > 0:\n",
    "    utils.install_packages(StrVector(packages))"
   ]
  },
  {
   "cell_type": "markdown",
   "id": "174fb521-6763-49d7-9b26-fb4854efc9fd",
   "metadata": {},
   "source": [
    "## r instance\n",
    "\n",
    "The `r` field on `rpy2.robjects` may be used to communicate with `R`. In this example, we retrieve `pi` from R. Note how the results is a vector."
   ]
  },
  {
   "cell_type": "code",
   "execution_count": 6,
   "id": "31d65f8b-97e8-4fe1-9e13-9451dbafd67b",
   "metadata": {},
   "outputs": [
    {
     "data": {
      "text/html": [
       "\n",
       "        <span>FloatVector with 1 elements.</span>\n",
       "        <table>\n",
       "        <tbody>\n",
       "          <tr>\n",
       "          \n",
       "            <td>\n",
       "            3.141593\n",
       "            </td>\n",
       "          \n",
       "          </tr>\n",
       "        </tbody>\n",
       "        </table>\n",
       "        "
      ],
      "text/plain": [
       "<rpy2.robjects.vectors.FloatVector object at 0x7faf51258880> [RTYPES.REALSXP]\n",
       "R classes: ('numeric',)\n",
       "[3.141593]"
      ]
     },
     "execution_count": 6,
     "metadata": {},
     "output_type": "execute_result"
    }
   ],
   "source": [
    "robjects.r['pi']"
   ]
  },
  {
   "cell_type": "markdown",
   "id": "4e401d71-3a65-4249-84bb-922cad114695",
   "metadata": {},
   "source": [
    "We can also treat `r` like a function passing in expressions."
   ]
  },
  {
   "cell_type": "code",
   "execution_count": 7,
   "id": "939102c2-5197-44dd-beed-597409c35faa",
   "metadata": {},
   "outputs": [
    {
     "data": {
      "text/html": [
       "\n",
       "        <span>FloatVector with 1 elements.</span>\n",
       "        <table>\n",
       "        <tbody>\n",
       "          <tr>\n",
       "          \n",
       "            <td>\n",
       "            3.141593\n",
       "            </td>\n",
       "          \n",
       "          </tr>\n",
       "        </tbody>\n",
       "        </table>\n",
       "        "
      ],
      "text/plain": [
       "<rpy2.robjects.vectors.FloatVector object at 0x7faf51292cc0> [RTYPES.REALSXP]\n",
       "R classes: ('numeric',)\n",
       "[3.141593]"
      ]
     },
     "execution_count": 7,
     "metadata": {},
     "output_type": "execute_result"
    }
   ],
   "source": [
    "robjects.r('pi')"
   ]
  },
  {
   "cell_type": "markdown",
   "id": "01fc0966-f342-4eab-bf03-99b8b5a08d37",
   "metadata": {},
   "source": [
    "Or how about a script?"
   ]
  },
  {
   "cell_type": "code",
   "execution_count": 8,
   "id": "f64d2ceb-4aad-468e-87e9-0fcbac949c84",
   "metadata": {},
   "outputs": [
    {
     "data": {
      "text/html": [
       "\n",
       "        <span>FloatVector with 1 elements.</span>\n",
       "        <table>\n",
       "        <tbody>\n",
       "          <tr>\n",
       "          \n",
       "            <td>\n",
       "            7.000000\n",
       "            </td>\n",
       "          \n",
       "          </tr>\n",
       "        </tbody>\n",
       "        </table>\n",
       "        "
      ],
      "text/plain": [
       "<rpy2.robjects.vectors.FloatVector object at 0x7faf4f9de180> [RTYPES.REALSXP]\n",
       "R classes: ('numeric',)\n",
       "[7.000000]"
      ]
     },
     "execution_count": 8,
     "metadata": {},
     "output_type": "execute_result"
    }
   ],
   "source": [
    "script = '''\n",
    "3 + 4\n",
    "'''\n",
    "\n",
    "robjects.r(script)"
   ]
  },
  {
   "cell_type": "markdown",
   "id": "aa9738d8-6afc-4d7e-aac9-02fa0a4fe31e",
   "metadata": {},
   "source": [
    "We can also create functions and then retrieve them."
   ]
  },
  {
   "cell_type": "code",
   "execution_count": 9,
   "id": "144c4ac0-48ca-4eaa-bd36-e8d4cb93d560",
   "metadata": {},
   "outputs": [],
   "source": [
    "script = '''\n",
    "addThem <- function(a, b) {\n",
    "    a + b\n",
    "}\n",
    "'''\n",
    "\n",
    "_ = robjects.r(script)"
   ]
  },
  {
   "cell_type": "markdown",
   "id": "3c6f14ff-4cee-4be7-a678-5819b14ea109",
   "metadata": {},
   "source": [
    "Retrieving the function is done through the `globalenv` field. Below, we use the function `r_repr()` to get the string representation of the function (which is exactly what we coded)."
   ]
  },
  {
   "cell_type": "code",
   "execution_count": 10,
   "id": "8118c987-ab43-460d-b866-5884b6bfc6fe",
   "metadata": {},
   "outputs": [
    {
     "data": {
      "text/plain": [
       "'function (a, b) \\n{\\n    a + b\\n}'"
      ]
     },
     "execution_count": 10,
     "metadata": {},
     "output_type": "execute_result"
    }
   ],
   "source": [
    "robjects.globalenv['addThem'].r_repr()"
   ]
  },
  {
   "cell_type": "markdown",
   "id": "9a3c291c-85e9-47a1-b25d-2d296aa52f7b",
   "metadata": {},
   "source": [
    "The R function can be retrieved and invoked."
   ]
  },
  {
   "cell_type": "code",
   "execution_count": 11,
   "id": "71d2aac0-f1f3-4cb8-ba4f-a36450f46793",
   "metadata": {},
   "outputs": [
    {
     "data": {
      "text/html": [
       "\n",
       "        <span>IntVector with 1 elements.</span>\n",
       "        <table>\n",
       "        <tbody>\n",
       "          <tr>\n",
       "          \n",
       "            <td>\n",
       "            3\n",
       "            </td>\n",
       "          \n",
       "          </tr>\n",
       "        </tbody>\n",
       "        </table>\n",
       "        "
      ],
      "text/plain": [
       "<rpy2.robjects.vectors.IntVector object at 0x7faf51238900> [RTYPES.INTSXP]\n",
       "R classes: ('integer',)\n",
       "[3]"
      ]
     },
     "execution_count": 11,
     "metadata": {},
     "output_type": "execute_result"
    }
   ],
   "source": [
    "add_them = robjects.globalenv['addThem']\n",
    "add_them(1, 2)"
   ]
  },
  {
   "cell_type": "code",
   "execution_count": 12,
   "id": "8aef9a1e-0f2e-43dd-803c-cd43dbe1ecd8",
   "metadata": {},
   "outputs": [
    {
     "data": {
      "text/html": [
       "\n",
       "        <span>IntVector with 1 elements.</span>\n",
       "        <table>\n",
       "        <tbody>\n",
       "          <tr>\n",
       "          \n",
       "            <td>\n",
       "            6\n",
       "            </td>\n",
       "          \n",
       "          </tr>\n",
       "        </tbody>\n",
       "        </table>\n",
       "        "
      ],
      "text/plain": [
       "<rpy2.robjects.vectors.IntVector object at 0x7faf51603d40> [RTYPES.INTSXP]\n",
       "R classes: ('integer',)\n",
       "[6]"
      ]
     },
     "execution_count": 12,
     "metadata": {},
     "output_type": "execute_result"
    }
   ],
   "source": [
    "robjects.r['sum'](robjects.IntVector([1,2,3]))"
   ]
  },
  {
   "cell_type": "code",
   "execution_count": 13,
   "id": "62f9257f-2f0f-4142-b77d-41cc6ae0b3c8",
   "metadata": {},
   "outputs": [
    {
     "data": {
      "text/html": [
       "\n",
       "        <span>FloatVector with 1 elements.</span>\n",
       "        <table>\n",
       "        <tbody>\n",
       "          <tr>\n",
       "          \n",
       "            <td>\n",
       "            6.000000\n",
       "            </td>\n",
       "          \n",
       "          </tr>\n",
       "        </tbody>\n",
       "        </table>\n",
       "        "
      ],
      "text/plain": [
       "<rpy2.robjects.vectors.FloatVector object at 0x7faf4f141540> [RTYPES.REALSXP]\n",
       "R classes: ('numeric',)\n",
       "[6.000000]"
      ]
     },
     "execution_count": 13,
     "metadata": {},
     "output_type": "execute_result"
    }
   ],
   "source": [
    "robjects.r['sum'](robjects.FloatVector([1,2,3]))"
   ]
  },
  {
   "cell_type": "code",
   "execution_count": 14,
   "id": "673dc920-e47e-4c09-adec-f020c868c916",
   "metadata": {},
   "outputs": [
    {
     "name": "stdout",
     "output_type": "stream",
     "text": [
      "     [,1] [,2] [,3]\n",
      "[1,]  1.1  3.3  5.5\n",
      "[2,]  2.2  4.4  6.6\n",
      "\n"
     ]
    }
   ],
   "source": [
    "m = robjects.r['matrix'](robjects.FloatVector([1.1, 2.2, 3.3, 4.4, 5.5, 6.6]), nrow = 2)\n",
    "print(m)"
   ]
  },
  {
   "cell_type": "markdown",
   "id": "1c086e9f-8da0-46b6-ba66-607b36ff304a",
   "metadata": {},
   "source": [
    "## Dataframes\n",
    "\n",
    "Let's create a Pandas dataframe."
   ]
  },
  {
   "cell_type": "code",
   "execution_count": 15,
   "id": "d69fe4c7-fc1e-4c28-9e2e-9e696418887d",
   "metadata": {},
   "outputs": [
    {
     "data": {
      "text/html": [
       "<div>\n",
       "<style scoped>\n",
       "    .dataframe tbody tr th:only-of-type {\n",
       "        vertical-align: middle;\n",
       "    }\n",
       "\n",
       "    .dataframe tbody tr th {\n",
       "        vertical-align: top;\n",
       "    }\n",
       "\n",
       "    .dataframe thead th {\n",
       "        text-align: right;\n",
       "    }\n",
       "</style>\n",
       "<table border=\"1\" class=\"dataframe\">\n",
       "  <thead>\n",
       "    <tr style=\"text-align: right;\">\n",
       "      <th></th>\n",
       "      <th>x1</th>\n",
       "      <th>x2</th>\n",
       "    </tr>\n",
       "  </thead>\n",
       "  <tbody>\n",
       "    <tr>\n",
       "      <th>0</th>\n",
       "      <td>8</td>\n",
       "      <td>9</td>\n",
       "    </tr>\n",
       "    <tr>\n",
       "      <th>1</th>\n",
       "      <td>8</td>\n",
       "      <td>8</td>\n",
       "    </tr>\n",
       "    <tr>\n",
       "      <th>2</th>\n",
       "      <td>2</td>\n",
       "      <td>1</td>\n",
       "    </tr>\n",
       "    <tr>\n",
       "      <th>3</th>\n",
       "      <td>3</td>\n",
       "      <td>1</td>\n",
       "    </tr>\n",
       "  </tbody>\n",
       "</table>\n",
       "</div>"
      ],
      "text/plain": [
       "   x1  x2\n",
       "0   8   9\n",
       "1   8   8\n",
       "2   2   1\n",
       "3   3   1"
      ]
     },
     "execution_count": 15,
     "metadata": {},
     "output_type": "execute_result"
    }
   ],
   "source": [
    "import pandas as pd\n",
    "\n",
    "pdf = pd.DataFrame({'x1': [8, 8, 2, 3], 'x2': [9, 8, 1, 1]})\n",
    "pdf"
   ]
  },
  {
   "cell_type": "markdown",
   "id": "1ed45033-111d-4ae7-a8c2-c840dcaf1dd7",
   "metadata": {},
   "source": [
    "`Pandas -> R`: We can convert the Pandas dataframe to a R dataframe."
   ]
  },
  {
   "cell_type": "code",
   "execution_count": 16,
   "id": "c36273c9-dacc-4e79-bc6c-5f33c5eae525",
   "metadata": {},
   "outputs": [
    {
     "data": {
      "text/plain": [
       "'structure(list(x1 = c(8L, 8L, 2L, 3L), x2 = c(9L, 8L, 1L, 1L)), class = \"data.frame\", row.names = c(\"0\", \\n\"1\", \"2\", \"3\"))'"
      ]
     },
     "execution_count": 16,
     "metadata": {},
     "output_type": "execute_result"
    }
   ],
   "source": [
    "from rpy2.robjects.conversion import localconverter\n",
    "from rpy2.robjects import pandas2ri\n",
    "import rpy2.robjects as ro\n",
    "\n",
    "with localconverter(ro.default_converter + pandas2ri.converter):\n",
    "    rdf = ro.conversion.py2rpy(pdf)\n",
    "\n",
    "rdf.r_repr()"
   ]
  },
  {
   "cell_type": "markdown",
   "id": "38f6b98b-290e-49d3-bcb4-4214f4d4c647",
   "metadata": {},
   "source": [
    "`R -> Pandas`: And we can also convert an R dataframe to a Pandas dataframe."
   ]
  },
  {
   "cell_type": "code",
   "execution_count": 17,
   "id": "40c670a3-8f0d-43fe-ad95-e225427a6352",
   "metadata": {},
   "outputs": [
    {
     "data": {
      "text/html": [
       "<div>\n",
       "<style scoped>\n",
       "    .dataframe tbody tr th:only-of-type {\n",
       "        vertical-align: middle;\n",
       "    }\n",
       "\n",
       "    .dataframe tbody tr th {\n",
       "        vertical-align: top;\n",
       "    }\n",
       "\n",
       "    .dataframe thead th {\n",
       "        text-align: right;\n",
       "    }\n",
       "</style>\n",
       "<table border=\"1\" class=\"dataframe\">\n",
       "  <thead>\n",
       "    <tr style=\"text-align: right;\">\n",
       "      <th></th>\n",
       "      <th>x1</th>\n",
       "      <th>x2</th>\n",
       "    </tr>\n",
       "  </thead>\n",
       "  <tbody>\n",
       "    <tr>\n",
       "      <th>0</th>\n",
       "      <td>8</td>\n",
       "      <td>9</td>\n",
       "    </tr>\n",
       "    <tr>\n",
       "      <th>1</th>\n",
       "      <td>8</td>\n",
       "      <td>8</td>\n",
       "    </tr>\n",
       "    <tr>\n",
       "      <th>2</th>\n",
       "      <td>2</td>\n",
       "      <td>1</td>\n",
       "    </tr>\n",
       "    <tr>\n",
       "      <th>3</th>\n",
       "      <td>3</td>\n",
       "      <td>1</td>\n",
       "    </tr>\n",
       "  </tbody>\n",
       "</table>\n",
       "</div>"
      ],
      "text/plain": [
       "   x1  x2\n",
       "0   8   9\n",
       "1   8   8\n",
       "2   2   1\n",
       "3   3   1"
      ]
     },
     "execution_count": 17,
     "metadata": {},
     "output_type": "execute_result"
    }
   ],
   "source": [
    "with localconverter(ro.default_converter + pandas2ri.converter):\n",
    "    temp_df = ro.conversion.rpy2py(rdf)\n",
    "\n",
    "temp_df"
   ]
  },
  {
   "cell_type": "markdown",
   "id": "2b6f810a-8de0-4927-9cee-6cfb2800fc0e",
   "metadata": {},
   "source": [
    "If we create a dataframe in R, we can also convert it to a Pandas one."
   ]
  },
  {
   "cell_type": "code",
   "execution_count": 18,
   "id": "18a8a95e-8f92-4e27-bd13-63830476574c",
   "metadata": {},
   "outputs": [
    {
     "data": {
      "text/html": [
       "<div>\n",
       "<style scoped>\n",
       "    .dataframe tbody tr th:only-of-type {\n",
       "        vertical-align: middle;\n",
       "    }\n",
       "\n",
       "    .dataframe tbody tr th {\n",
       "        vertical-align: top;\n",
       "    }\n",
       "\n",
       "    .dataframe thead th {\n",
       "        text-align: right;\n",
       "    }\n",
       "</style>\n",
       "<table border=\"1\" class=\"dataframe\">\n",
       "  <thead>\n",
       "    <tr style=\"text-align: right;\">\n",
       "      <th></th>\n",
       "      <th>age</th>\n",
       "      <th>grade</th>\n",
       "      <th>name</th>\n",
       "      <th>male</th>\n",
       "    </tr>\n",
       "  </thead>\n",
       "  <tbody>\n",
       "    <tr>\n",
       "      <th>1</th>\n",
       "      <td>18.0</td>\n",
       "      <td>A</td>\n",
       "      <td>Jane</td>\n",
       "      <td>0</td>\n",
       "    </tr>\n",
       "    <tr>\n",
       "      <th>2</th>\n",
       "      <td>16.0</td>\n",
       "      <td>B</td>\n",
       "      <td>Jack</td>\n",
       "      <td>1</td>\n",
       "    </tr>\n",
       "    <tr>\n",
       "      <th>3</th>\n",
       "      <td>15.0</td>\n",
       "      <td>C</td>\n",
       "      <td>Joe</td>\n",
       "      <td>1</td>\n",
       "    </tr>\n",
       "  </tbody>\n",
       "</table>\n",
       "</div>"
      ],
      "text/plain": [
       "    age grade  name  male\n",
       "1  18.0     A  Jane     0\n",
       "2  16.0     B  Jack     1\n",
       "3  15.0     C   Joe     1"
      ]
     },
     "execution_count": 18,
     "metadata": {},
     "output_type": "execute_result"
    }
   ],
   "source": [
    "script = '''\n",
    "df <- data.frame(\n",
    "    age = c(18, 16, 15),\n",
    "    grade = c('A', 'B', 'C'),\n",
    "    name = c('Jane', 'Jack', 'Joe'),\n",
    "    male = c(FALSE, TRUE, TRUE)\n",
    ")\n",
    "'''\n",
    "rdf = robjects.r(script)\n",
    "\n",
    "with localconverter(ro.default_converter + pandas2ri.converter):\n",
    "    temp_df = ro.conversion.rpy2py(rdf)\n",
    "    \n",
    "temp_df"
   ]
  },
  {
   "cell_type": "markdown",
   "id": "d9226a85-676b-41fe-94fb-62785d0a4b49",
   "metadata": {},
   "source": [
    "The context manager can also auto-convert Pandas dataframe to a R one when calling functions."
   ]
  },
  {
   "cell_type": "code",
   "execution_count": 19,
   "id": "3e48a33c-338d-405d-b7ba-3b27073d8489",
   "metadata": {},
   "outputs": [
    {
     "name": "stdout",
     "output_type": "stream",
     "text": [
      "       x1             x2      \n",
      " Min.   :2.00   Min.   :1.00  \n",
      " 1st Qu.:2.75   1st Qu.:1.00  \n",
      " Median :5.50   Median :4.50  \n",
      " Mean   :5.25   Mean   :4.75  \n",
      " 3rd Qu.:8.00   3rd Qu.:8.25  \n",
      " Max.   :8.00   Max.   :9.00  \n",
      "\n"
     ]
    }
   ],
   "source": [
    "with localconverter(ro.default_converter + pandas2ri.converter):\n",
    "    summary_df = base.summary(pdf)\n",
    "    \n",
    "print(summary_df)"
   ]
  },
  {
   "cell_type": "markdown",
   "id": "bee43d18-4227-4d07-b6df-8a10ae756c77",
   "metadata": {},
   "source": [
    "The summary result is stored as a `StrMatrix`, and we can kludge a solution to parse its elements into a Pandas dataframe."
   ]
  },
  {
   "cell_type": "code",
   "execution_count": 20,
   "id": "139efde5-7204-41e1-92ec-e2268a36bef1",
   "metadata": {},
   "outputs": [
    {
     "data": {
      "text/html": [
       "<div>\n",
       "<style scoped>\n",
       "    .dataframe tbody tr th:only-of-type {\n",
       "        vertical-align: middle;\n",
       "    }\n",
       "\n",
       "    .dataframe tbody tr th {\n",
       "        vertical-align: top;\n",
       "    }\n",
       "\n",
       "    .dataframe thead th {\n",
       "        text-align: right;\n",
       "    }\n",
       "</style>\n",
       "<table border=\"1\" class=\"dataframe\">\n",
       "  <thead>\n",
       "    <tr style=\"text-align: right;\">\n",
       "      <th></th>\n",
       "      <th>x1</th>\n",
       "      <th>x2</th>\n",
       "    </tr>\n",
       "  </thead>\n",
       "  <tbody>\n",
       "    <tr>\n",
       "      <th>0</th>\n",
       "      <td>2.00</td>\n",
       "      <td>2.75</td>\n",
       "    </tr>\n",
       "    <tr>\n",
       "      <th>1</th>\n",
       "      <td>5.50</td>\n",
       "      <td>5.25</td>\n",
       "    </tr>\n",
       "    <tr>\n",
       "      <th>2</th>\n",
       "      <td>8.00</td>\n",
       "      <td>8.00</td>\n",
       "    </tr>\n",
       "    <tr>\n",
       "      <th>3</th>\n",
       "      <td>1.00</td>\n",
       "      <td>1.00</td>\n",
       "    </tr>\n",
       "    <tr>\n",
       "      <th>4</th>\n",
       "      <td>4.50</td>\n",
       "      <td>4.75</td>\n",
       "    </tr>\n",
       "    <tr>\n",
       "      <th>5</th>\n",
       "      <td>8.25</td>\n",
       "      <td>9.00</td>\n",
       "    </tr>\n",
       "  </tbody>\n",
       "</table>\n",
       "</div>"
      ],
      "text/plain": [
       "     x1    x2\n",
       "0  2.00  2.75\n",
       "1  5.50  5.25\n",
       "2  8.00  8.00\n",
       "3  1.00  1.00\n",
       "4  4.50  4.75\n",
       "5  8.25  9.00"
      ]
     },
     "execution_count": 20,
     "metadata": {},
     "output_type": "execute_result"
    }
   ],
   "source": [
    "import numpy as np\n",
    "\n",
    "pd.DataFrame(\n",
    "    np.array([float(s[s.index(':')+1:].strip()) for s in summary_df]).reshape(summary_df.nrow, summary_df.ncol),\n",
    "    columns=[n.strip() for n in summary_df.colnames]\n",
    ")"
   ]
  },
  {
   "cell_type": "markdown",
   "id": "25da9f9a-a8b1-4244-bc58-89cb3ac27735",
   "metadata": {},
   "source": [
    "## Modeling\n",
    "\n",
    "Results from modeling in R can also be captured. This example is a toy dataset where we want to apply linear regression. We might choose R over Python, since the former provides more information on the model."
   ]
  },
  {
   "cell_type": "code",
   "execution_count": 21,
   "id": "795c1bc2-234d-4517-9e5d-0077116b20dd",
   "metadata": {},
   "outputs": [],
   "source": [
    "pdf = pd.DataFrame({\n",
    "    'x1': [1, 2, 3, 4, 5],\n",
    "    'x2': [5, 4, 3, 2, 1],\n",
    "    'y': [10, 20, 30, 40, 55]\n",
    "})\n",
    "\n",
    "with localconverter(ro.default_converter + pandas2ri.converter):\n",
    "    rdf = ro.conversion.py2rpy(pdf)"
   ]
  },
  {
   "cell_type": "code",
   "execution_count": 22,
   "id": "31455033-7d6a-49ec-a5ff-3198fa13b9b5",
   "metadata": {},
   "outputs": [],
   "source": [
    "stats = importr('stats')\n",
    "r = stats.lm('y ~ .', data=rdf)"
   ]
  },
  {
   "cell_type": "code",
   "execution_count": 23,
   "id": "8f9cecab-dcb7-4d9e-b56a-7088beba1b7b",
   "metadata": {},
   "outputs": [
    {
     "name": "stdout",
     "output_type": "stream",
     "text": [
      "\n",
      "Call:\n",
      "(function (formula, data, subset, weights, na.action, method = \"qr\", \n",
      "    model = TRUE, x = FALSE, y = FALSE, qr = TRUE, singular.ok = TRUE, \n",
      "    contrasts = NULL, offset, ...) \n",
      "{\n",
      "    ret.x <- x\n",
      "    ret.y <- y\n",
      "    cl <- match.call()\n",
      "    mf <- match.call(expand.dots = FALSE)\n",
      "    m <- match(c(\"formula\", \"data\", \"subset\", \"weights\", \"na.action\", \n",
      "        \"offset\"), names(mf), 0L)\n",
      "    mf <- mf[c(1L, m)]\n",
      "    mf$drop.unused.levels <- TRUE\n",
      "    mf[[1L]] <- quote(stats::model.frame)\n",
      "    mf <- eval(mf, parent.frame())\n",
      "    if (method == \"model.frame\") \n",
      "        return(mf)\n",
      "    else if (method != \"qr\") \n",
      "        warning(gettextf(\"method = '%s' is not supported. Using 'qr'\", \n",
      "            method), domain = NA)\n",
      "    mt <- attr(mf, \"terms\")\n",
      "    y <- model.response(mf, \"numeric\")\n",
      "    w <- as.vector(model.weights(mf))\n",
      "    if (!is.null(w) && !is.numeric(w)) \n",
      "        stop(\"'weights' must be a numeric vector\")\n",
      "    offset <- model.offset(mf)\n",
      "    mlm <- is.matrix(y)\n",
      "    ny <- if (mlm) \n",
      "        nrow(y)\n",
      "    else length(y)\n",
      "    if (!is.null(offset)) {\n",
      "        if (!mlm) \n",
      "            offset <- as.vector(offset)\n",
      "        if (NROW(offset) != ny) \n",
      "            stop(gettextf(\"number of offsets is %d, should equal %d (number of observations)\", \n",
      "                NROW(offset), ny), domain = NA)\n",
      "    }\n",
      "    if (is.empty.model(mt)) {\n",
      "        x <- NULL\n",
      "        z <- list(coefficients = if (mlm) matrix(NA_real_, 0, \n",
      "            ncol(y)) else numeric(), residuals = y, fitted.values = 0 * \n",
      "            y, weights = w, rank = 0L, df.residual = if (!is.null(w)) sum(w != \n",
      "            0) else ny)\n",
      "        if (!is.null(offset)) {\n",
      "            z$fitted.values <- offset\n",
      "            z$residuals <- y - offset\n",
      "        }\n",
      "    }\n",
      "    else {\n",
      "        x <- model.matrix(mt, mf, contrasts)\n",
      "        z <- if (is.null(w)) \n",
      "            lm.fit(x, y, offset = offset, singular.ok = singular.ok, \n",
      "                ...)\n",
      "        else lm.wfit(x, y, w, offset = offset, singular.ok = singular.ok, \n",
      "            ...)\n",
      "    }\n",
      "    class(z) <- c(if (mlm) \"mlm\", \"lm\")\n",
      "    z$na.action <- attr(mf, \"na.action\")\n",
      "    z$offset <- offset\n",
      "    z$contrasts <- attr(x, \"contrasts\")\n",
      "    z$xlevels <- .getXlevels(mt, mf)\n",
      "    z$call <- cl\n",
      "    z$terms <- mt\n",
      "    if (model) \n",
      "        z$model <- mf\n",
      "    if (ret.x) \n",
      "        z$x <- x\n",
      "    if (ret.y) \n",
      "        z$y <- y\n",
      "    if (!qr) \n",
      "        z$qr <- NULL\n",
      "    z\n",
      "})(formula = \"y ~ .\", data = structure(list(x1 = 1:5, x2 = 5:1, \n",
      "    y = c(10L, 20L, 30L, 40L, 55L)), class = \"data.frame\", row.names = c(\"0\", \n",
      "\"1\", \"2\", \"3\", \"4\")))\n",
      "\n",
      "Residuals:\n",
      "         0          1          2          3          4 \n",
      " 1.000e+00  2.276e-15 -1.000e+00 -2.000e+00  2.000e+00 \n",
      "\n",
      "Coefficients: (1 not defined because of singularities)\n",
      "            Estimate Std. Error t value Pr(>|t|)    \n",
      "(Intercept)  -2.0000     1.9149  -1.044 0.373021    \n",
      "x1           11.0000     0.5774  19.053 0.000316 ***\n",
      "x2                NA         NA      NA       NA    \n",
      "---\n",
      "Signif. codes:  0 ‘***’ 0.001 ‘**’ 0.01 ‘*’ 0.05 ‘.’ 0.1 ‘ ’ 1\n",
      "\n",
      "Residual standard error: 1.826 on 3 degrees of freedom\n",
      "Multiple R-squared:  0.9918,\tAdjusted R-squared:  0.9891 \n",
      "F-statistic:   363 on 1 and 3 DF,  p-value: 0.0003157\n",
      "\n",
      "\n"
     ]
    }
   ],
   "source": [
    "print(base.summary(r))"
   ]
  },
  {
   "cell_type": "code",
   "execution_count": 24,
   "id": "58dcfc33-a87e-4126-80f5-f356cee65f04",
   "metadata": {},
   "outputs": [
    {
     "name": "stdout",
     "output_type": "stream",
     "text": [
      "<rpy2.rinterface_lib.sexp.StrSexpVector object at 0x7faf56a54e40> [RTYPES.STRSXP]\n"
     ]
    }
   ],
   "source": [
    "print(r.rclass)"
   ]
  },
  {
   "cell_type": "code",
   "execution_count": 25,
   "id": "e5f76a0f-ba75-4966-b31e-4bb3dbed24f6",
   "metadata": {},
   "outputs": [
    {
     "name": "stdout",
     "output_type": "stream",
     "text": [
      " [1] \"coefficients\"  \"residuals\"     \"effects\"       \"rank\"         \n",
      " [5] \"fitted.values\" \"assign\"        \"qr\"            \"df.residual\"  \n",
      " [9] \"xlevels\"       \"call\"          \"terms\"         \"model\"        \n",
      "\n"
     ]
    }
   ],
   "source": [
    "print(r.names)"
   ]
  },
  {
   "cell_type": "code",
   "execution_count": 26,
   "id": "96281a95-83c4-43db-95fe-fb5590cd975c",
   "metadata": {},
   "outputs": [
    {
     "name": "stdout",
     "output_type": "stream",
     "text": [
      "(Intercept)          x1          x2 \n",
      "         -2          11          NA \n",
      "\n"
     ]
    }
   ],
   "source": [
    "print(r.rx2('coefficients'))"
   ]
  },
  {
   "cell_type": "code",
   "execution_count": 27,
   "id": "dbba30cb-9f92-47c7-b534-6d7abc0fae47",
   "metadata": {},
   "outputs": [
    {
     "data": {
      "text/plain": [
       "(Intercept)    -2.0\n",
       "x1             11.0\n",
       "x2              NaN\n",
       "dtype: float64"
      ]
     },
     "execution_count": 27,
     "metadata": {},
     "output_type": "execute_result"
    }
   ],
   "source": [
    "pd.Series([c for c in r.rx2('coefficients')], r.rx2('coefficients').names)"
   ]
  }
 ],
 "metadata": {
  "kernelspec": {
   "display_name": "Python 3",
   "language": "python",
   "name": "python3"
  },
  "language_info": {
   "codemirror_mode": {
    "name": "ipython",
    "version": 3
   },
   "file_extension": ".py",
   "mimetype": "text/x-python",
   "name": "python",
   "nbconvert_exporter": "python",
   "pygments_lexer": "ipython3",
   "version": "3.8.8"
  }
 },
 "nbformat": 4,
 "nbformat_minor": 5
}
