{
 "cells": [
  {
   "cell_type": "markdown",
   "metadata": {},
   "source": [
    "# Dimensionality reduction"
   ]
  },
  {
   "cell_type": "markdown",
   "metadata": {},
   "source": [
    "## Generate data"
   ]
  },
  {
   "cell_type": "code",
   "execution_count": 1,
   "metadata": {},
   "outputs": [],
   "source": [
    "import numpy as np\n",
    "from numpy.random import normal\n",
    "from collections import namedtuple\n",
    "\n",
    "Data = namedtuple('Data', 'X y')\n",
    "\n",
    "np.random.seed(37)\n",
    "\n",
    "def get_data(N=1000):\n",
    "    x0 = normal(1, 1, N)\n",
    "    x1 = normal(3 + 2 * x0, 1, N)\n",
    "    x2 = normal(2.5 + 0.8 * x1, N)\n",
    "    x3 = normal(5, 2, N)\n",
    "    x4 = normal(0.8 + 0.8 * x3, N)\n",
    "    x5 = normal(10, 5, N)\n",
    "\n",
    "    X0 = [x0, x1, x2, x3, x4, x5]\n",
    "    X0 = np.hstack([x.reshape(-1, 1) for x in X0])\n",
    "\n",
    "    x0 = normal(1.5, 1, N)\n",
    "    x1 = normal(7.3 + 2 * x0, 1, N)\n",
    "    x2 = normal(3.6 + 0.9 * x1, N)\n",
    "    x3 = normal(3.3, 2.5, N)\n",
    "    x4 = normal(0.9 - 0.4 * x3, N)\n",
    "    x5 = normal(10, 5, N)\n",
    "\n",
    "    X1 = [x0, x1, x2, x3, x4, x5]\n",
    "    X1 = np.hstack([x.reshape(-1, 1) for x in X1])\n",
    "\n",
    "    X = np.vstack([X0, X1])\n",
    "    y = np.hstack([np.full((1, X0.shape[0]), 0), np.full((1, X1.shape[0]), 1)])[0]\n",
    "    \n",
    "    return Data(X, y)\n",
    "\n",
    "# training data\n",
    "T = get_data()"
   ]
  },
  {
   "cell_type": "markdown",
   "metadata": {},
   "source": [
    "## Types of dimensionality reductions"
   ]
  },
  {
   "cell_type": "markdown",
   "metadata": {},
   "source": [
    "### Principal Component Analysis (PCA)"
   ]
  },
  {
   "cell_type": "code",
   "execution_count": 2,
   "metadata": {},
   "outputs": [
    {
     "data": {
      "text/plain": [
       "Pipeline(memory=None,\n",
       "         steps=[('scaler',\n",
       "                 StandardScaler(copy=True, with_mean=True, with_std=True)),\n",
       "                ('pca',\n",
       "                 PCA(copy=True, iterated_power='auto', n_components=3,\n",
       "                     random_state=37, svd_solver='auto', tol=0.0,\n",
       "                     whiten=False))],\n",
       "         verbose=False)"
      ]
     },
     "execution_count": 2,
     "metadata": {},
     "output_type": "execute_result"
    }
   ],
   "source": [
    "from sklearn.pipeline import Pipeline\n",
    "from sklearn.preprocessing import StandardScaler\n",
    "from sklearn.decomposition import PCA\n",
    "\n",
    "scaler = StandardScaler()\n",
    "pca = PCA(n_components=3, random_state=37)\n",
    "\n",
    "pipeline = Pipeline([('scaler', scaler), ('pca', pca)])\n",
    "pipeline.fit(T.X)"
   ]
  },
  {
   "cell_type": "markdown",
   "metadata": {},
   "source": [
    "### Kernel PCA"
   ]
  },
  {
   "cell_type": "code",
   "execution_count": 3,
   "metadata": {},
   "outputs": [
    {
     "data": {
      "text/plain": [
       "KernelPCA(alpha=1.0, coef0=1, copy_X=True, degree=3, eigen_solver='auto',\n",
       "          fit_inverse_transform=False, gamma=None, kernel='linear',\n",
       "          kernel_params=None, max_iter=None, n_components=3, n_jobs=None,\n",
       "          random_state=37, remove_zero_eig=False, tol=0)"
      ]
     },
     "execution_count": 3,
     "metadata": {},
     "output_type": "execute_result"
    }
   ],
   "source": [
    "from sklearn.decomposition import KernelPCA\n",
    "\n",
    "kpca = KernelPCA(n_components=3, random_state=37, kernel='linear')\n",
    "kpca.fit(T.X)"
   ]
  },
  {
   "cell_type": "markdown",
   "metadata": {},
   "source": [
    "### Singular Value Decomposition (SVD)"
   ]
  },
  {
   "cell_type": "code",
   "execution_count": 4,
   "metadata": {},
   "outputs": [
    {
     "data": {
      "text/plain": [
       "TruncatedSVD(algorithm='randomized', n_components=3, n_iter=5, random_state=37,\n",
       "             tol=0.0)"
      ]
     },
     "execution_count": 4,
     "metadata": {},
     "output_type": "execute_result"
    }
   ],
   "source": [
    "from sklearn.decomposition import TruncatedSVD\n",
    "\n",
    "svd = TruncatedSVD(n_components=3, random_state=37)\n",
    "svd.fit(T.X)"
   ]
  },
  {
   "cell_type": "markdown",
   "metadata": {},
   "source": [
    "### Factor analysis"
   ]
  },
  {
   "cell_type": "code",
   "execution_count": 5,
   "metadata": {},
   "outputs": [
    {
     "data": {
      "text/plain": [
       "FactorAnalysis(copy=True, iterated_power=3, max_iter=1000, n_components=3,\n",
       "               noise_variance_init=None, random_state=37,\n",
       "               svd_method='randomized', tol=0.01)"
      ]
     },
     "execution_count": 5,
     "metadata": {},
     "output_type": "execute_result"
    }
   ],
   "source": [
    "from sklearn.decomposition import FactorAnalysis\n",
    "\n",
    "fa = FactorAnalysis(n_components=3, random_state=37)\n",
    "fa.fit(T.X)"
   ]
  },
  {
   "cell_type": "markdown",
   "metadata": {},
   "source": [
    "### Non-Negative Matrix Factorization (NMF)"
   ]
  },
  {
   "cell_type": "code",
   "execution_count": 6,
   "metadata": {},
   "outputs": [
    {
     "data": {
      "text/plain": [
       "NMF(alpha=0.0, beta_loss='frobenius', init=None, l1_ratio=0.0, max_iter=200,\n",
       "    n_components=3, random_state=37, shuffle=False, solver='cd', tol=0.0001,\n",
       "    verbose=0)"
      ]
     },
     "execution_count": 6,
     "metadata": {},
     "output_type": "execute_result"
    }
   ],
   "source": [
    "from sklearn.decomposition import NMF\n",
    "\n",
    "nmf = NMF(n_components=3, random_state=37)\n",
    "nmf.fit(np.abs(T.X))"
   ]
  },
  {
   "cell_type": "code",
   "execution_count": null,
   "metadata": {},
   "outputs": [],
   "source": []
  }
 ],
 "metadata": {
  "kernelspec": {
   "display_name": "Python 3",
   "language": "python",
   "name": "python3"
  },
  "language_info": {
   "codemirror_mode": {
    "name": "ipython",
    "version": 3
   },
   "file_extension": ".py",
   "mimetype": "text/x-python",
   "name": "python",
   "nbconvert_exporter": "python",
   "pygments_lexer": "ipython3",
   "version": "3.7.3"
  }
 },
 "nbformat": 4,
 "nbformat_minor": 4
}
