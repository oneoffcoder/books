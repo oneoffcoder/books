{
 "cells": [
  {
   "cell_type": "markdown",
   "id": "convenient-intersection",
   "metadata": {},
   "source": [
    "# Customized Estimators\n",
    "\n",
    "You are able to [roll your own](https://scikit-learn.org/stable/developers/develop.html) `estimator`, `regressor`, `classifier` or `transformer`. Below are some templates adapted from [the GitHub repository](https://github.com/scikit-learn-contrib/project-template/blob/master/skltemplate/_template.py) and works with scikit-learn v0.24.1 (the GitHub repository for the [project-template](https://github.com/scikit-learn-contrib/project-template) is independent from and not synchronized with the [scikit-learn](https://github.com/scikit-learn/scikit-learn/tree/0.24.1) repository). There is also [official documentation](https://sklearn-template.readthedocs.io/en/latest/index.html) elsewhere.\n",
    "\n",
    "Note that you should (though not necessarily) inherit from `BaseEstimator` and use the appropriate `mixin`. After you write your estimator, apply the `check_estimator()` method to check (test) if your estimator is valid. "
   ]
  },
  {
   "cell_type": "markdown",
   "id": "inappropriate-insider",
   "metadata": {},
   "source": [
    "## Basic estimator\n",
    "\n",
    "Here is a barebones, dummy estimator. You need to implement two methods with the following signatures.\n",
    "\n",
    "- fit(self, X, y, **kwargs)\n",
    "- predict(self, X)\n",
    "\n",
    "When you run `fit()`, make sure the first thing you do is check if `y` is `None`. The `check_X_y()` method is also required, and the properties `is_fitted_` and `n_features_in_` are also required to be set inside `fit()`. At the end of `fit()`, `self` must always be returned.\n",
    "\n",
    "The `predict()` method must return a prediction for every row. Likewise, before making any predictions, `check_is_fitted()` and `check_array()` are required to be called."
   ]
  },
  {
   "cell_type": "code",
   "execution_count": 1,
   "id": "stunning-flower",
   "metadata": {},
   "outputs": [],
   "source": [
    "from sklearn.utils.estimator_checks import check_estimator\n",
    "from sklearn.base import BaseEstimator, RegressorMixin, ClassifierMixin, TransformerMixin\n",
    "from sklearn.utils.validation import check_X_y, check_array, check_is_fitted\n",
    "from sklearn.utils.multiclass import unique_labels\n",
    "from sklearn.metrics import euclidean_distances\n",
    "import numpy as np\n",
    "\n",
    "class SpecialEstimator(BaseEstimator):\n",
    "    def __init__(self):\n",
    "        pass\n",
    "    \n",
    "    def fit(self, X, y, **kwargs):\n",
    "        if y is None:\n",
    "            raise ValueError('requires y to be passed, but the target y is None')\n",
    "            \n",
    "        X, y = check_X_y(X, y)\n",
    "        self.is_fitted_ = True\n",
    "        self.n_features_in_ = X.shape[1]\n",
    "        \n",
    "        return self\n",
    "    \n",
    "    def predict(self, X):\n",
    "        check_is_fitted(self, 'is_fitted_')\n",
    "        X = check_array(X)\n",
    "        return np.ones(X.shape[0], dtype=np.int64)\n",
    "\n",
    "check_estimator(SpecialEstimator())"
   ]
  },
  {
   "cell_type": "markdown",
   "id": "gentle-wisdom",
   "metadata": {},
   "source": [
    "## Basic regressor\n",
    "\n",
    "If your estimator is indeed a regressor, use `RegressorMixin`. The `fit()` and `predict()` implementations follows the same as before. However, notice the `_more_tags()` method? This method is used to override or supply additional `tags`. As of v0.24.1, the documentation states that tags are experimental and subject to change. But [what are these tags](https://scikit-learn.org/stable/developers/develop.html#estimator-tags)? These tags are essentially hints about the capabilities of the estimator. The `poor_score` tag hints that the regressor either fails (`True`) or not fails (`False`, default) to provide a *reasonable* test-set score. By default, this tag is set to `False`, and here, we implement `_more_tags()` to override that value to `True` (otherwise, there is a warning generated)."
   ]
  },
  {
   "cell_type": "code",
   "execution_count": 2,
   "id": "surrounded-mention",
   "metadata": {},
   "outputs": [],
   "source": [
    "class SpecialRegressor(RegressorMixin, BaseEstimator):\n",
    "    def __init__(self):\n",
    "        pass\n",
    "    \n",
    "    def fit(self, X, y, **kwargs):\n",
    "        if y is None:\n",
    "            raise ValueError('requires y to be passed, but the target y is None')\n",
    "            \n",
    "        X, y = check_X_y(X, y)\n",
    "        self.is_fitted_ = True\n",
    "        self.n_features_in_ = X.shape[1]\n",
    "        \n",
    "        return self\n",
    "    \n",
    "    def predict(self, X):\n",
    "        check_is_fitted(self, 'is_fitted_')\n",
    "        X = check_array(X)\n",
    "        return np.ones(X.shape[0], dtype=np.int64)\n",
    "    \n",
    "    def _more_tags(self):\n",
    "        return {\n",
    "            'poor_score': True\n",
    "        }\n",
    "    \n",
    "check_estimator(SpecialRegressor())"
   ]
  },
  {
   "cell_type": "markdown",
   "id": "italian-biotechnology",
   "metadata": {},
   "source": [
    "## Basic classifier\n",
    "\n",
    "Classifiers should use `ClassifierMixin`, and also follow the `fit()` and `predict()` contracts. One caveate here is that in the `fit()` method, we must also store the state of the number of classes in `classes_`. Be careful with the `predict()` method, as it should return label values that are consistent with the class values seen during `fit()`."
   ]
  },
  {
   "cell_type": "code",
   "execution_count": 3,
   "id": "confident-projection",
   "metadata": {},
   "outputs": [],
   "source": [
    "from random import choice\n",
    "\n",
    "class SpecialClassifier(ClassifierMixin, BaseEstimator):\n",
    "    def __init__(self):\n",
    "        pass\n",
    "    \n",
    "    def fit(self, X, y, **kwargs):\n",
    "        if y is None:\n",
    "            raise ValueError('requires y to be passed, but the target y is None')\n",
    "        \n",
    "        X, y = check_X_y(X, y)\n",
    "        \n",
    "        self.n_features_in_ = X.shape[1]\n",
    "        self.classes_ = unique_labels(y)\n",
    "        self.is_fitted_ = True\n",
    "                \n",
    "        self.X_ = X\n",
    "        self.y_ = y\n",
    "        \n",
    "        return self\n",
    "    \n",
    "    def predict(self, X):\n",
    "        check_is_fitted(self, ['is_fitted_', 'X_', 'y_'])\n",
    "        X = check_array(X)\n",
    "        \n",
    "        closest = np.argmin(euclidean_distances(X, self.X_), axis=1)\n",
    "        return self.y_[closest]\n",
    "    \n",
    "check_estimator(SpecialClassifier())"
   ]
  },
  {
   "cell_type": "markdown",
   "id": "introductory-aspect",
   "metadata": {},
   "source": [
    "## Basic transformer\n",
    "\n",
    "Transformers should use `TransformerMixin` and implement two methods.\n",
    "\n",
    "- fit(self, X, y=None)\n",
    "- transform(self, X)\n",
    "\n",
    "The check and properties saved shown below inside `fit()` and `transform()` are all required to pass the checks. "
   ]
  },
  {
   "cell_type": "code",
   "execution_count": 4,
   "id": "bottom-weekend",
   "metadata": {},
   "outputs": [],
   "source": [
    "class SpecialTransformer(TransformerMixin, BaseEstimator):\n",
    "    def __init__(self):\n",
    "        pass\n",
    "    \n",
    "    def fit(self, X, y=None):\n",
    "        X = check_array(X, accept_sparse=False)\n",
    "        \n",
    "        self.n_features_in_ = X.shape[1]\n",
    "        self.n_features_ = X.shape[1]\n",
    "        self.is_fitted_ = True\n",
    "                \n",
    "        return self\n",
    "    \n",
    "    def transform(self, X):\n",
    "        check_is_fitted(self, ['is_fitted_'])\n",
    "        \n",
    "        X = check_array(X, accept_sparse=False)\n",
    "        \n",
    "        if X.shape[1] != self.n_features_:\n",
    "            raise ValueError('Shape of input is different from what was seen in `fit`')\n",
    "            \n",
    "        return np.sqrt(X)\n",
    "    \n",
    "check_estimator(SpecialTransformer())"
   ]
  }
 ],
 "metadata": {
  "kernelspec": {
   "display_name": "Python 3",
   "language": "python",
   "name": "python3"
  },
  "language_info": {
   "codemirror_mode": {
    "name": "ipython",
    "version": 3
   },
   "file_extension": ".py",
   "mimetype": "text/x-python",
   "name": "python",
   "nbconvert_exporter": "python",
   "pygments_lexer": "ipython3",
   "version": "3.8.5"
  }
 },
 "nbformat": 4,
 "nbformat_minor": 5
}
