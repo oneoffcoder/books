{
 "cells": [
  {
   "cell_type": "markdown",
   "metadata": {},
   "source": [
    "# combo\n",
    "\n",
    "[combo](https://pycombo.readthedocs.io/en/latest/index.html) is an API for combining machine learning (ML) models and scores. In particular, combo supports `stacking` models. Let's see how we can use combo as a part of our learning approach."
   ]
  },
  {
   "cell_type": "markdown",
   "metadata": {},
   "source": [
    "## Data\n",
    "\n",
    "First, let's synthesize the data using `make_classification()` from Scikit-Learn. The data itself is not interesting, as we just need toy data to illustrate combo and model stacking."
   ]
  },
  {
   "cell_type": "code",
   "execution_count": 1,
   "metadata": {},
   "outputs": [
    {
     "name": "stdout",
     "output_type": "stream",
     "text": [
      "X shape = (2000, 10), y shape (2000,)\n"
     ]
    }
   ],
   "source": [
    "import numpy as np\n",
    "import random\n",
    "from sklearn.datasets import make_classification\n",
    "\n",
    "np.random.seed(37)\n",
    "random.seed(37)\n",
    "\n",
    "X, y = make_classification(**{\n",
    "    'n_samples': 2000,\n",
    "    'n_features': 10,\n",
    "    'n_informative': 8,\n",
    "    'n_redundant': 0,\n",
    "    'n_repeated': 0,\n",
    "    'n_classes': 2,\n",
    "    'n_clusters_per_class': 1,\n",
    "    'random_state': 37\n",
    "})\n",
    "\n",
    "print(f'X shape = {X.shape}, y shape {y.shape}')"
   ]
  },
  {
   "cell_type": "markdown",
   "metadata": {},
   "source": [
    "## Stacking\n",
    "\n",
    "The class `Stacking` can be used to stack any number of models. The argument `base_estimators` to the `Stacking` constructor must have at least 2 models or an exception will be thrown. You can use `Stacking` as a drop-in replacement for any ordinary model. In this example, we have a very complicated approach for the modeling. Not only are we stacking, but also performing grid search (hyper-parameter tuning). Additionally, stacking is done as a part of a `pipeline`. This API fits very nicely with Scikit-Learn. \n",
    "\n",
    "One additional thing, if we wanted to perform grid search on one of the base estimators inside `Stacking`, we can do so; look at the `get_logistic_regression_model()` which, yet, also returns a grid search wrapping a pipeline for `LogisticRegression`. That is why this model is very sophisticated; you have grid search within grid search and within each grid search, their own pipelines!"
   ]
  },
  {
   "cell_type": "code",
   "execution_count": 10,
   "metadata": {},
   "outputs": [],
   "source": [
    "from sklearn.linear_model import LogisticRegression\n",
    "from sklearn.tree import DecisionTreeClassifier\n",
    "from sklearn.neighbors import KNeighborsClassifier\n",
    "from sklearn.ensemble import RandomForestClassifier, GradientBoostingClassifier\n",
    "from sklearn.pipeline import Pipeline\n",
    "from sklearn.preprocessing import MinMaxScaler\n",
    "from sklearn.model_selection import GridSearchCV, StratifiedKFold\n",
    "from combo.models.classifier_stacking import Stacking\n",
    "\n",
    "def get_logistic_regression_model():\n",
    "    pipeline = Pipeline(steps=[('classifier', LogisticRegression(random_state=37))])\n",
    "    \n",
    "    cv = StratifiedKFold(**{\n",
    "        'n_splits': 3,\n",
    "        'shuffle': True,\n",
    "        'random_state': 37\n",
    "    })\n",
    "    \n",
    "    param_grid = {\n",
    "        'classifier__penalty': ['l1', 'l2']\n",
    "    }\n",
    "    \n",
    "    model = GridSearchCV(**{\n",
    "        'estimator': pipeline,\n",
    "        'cv': cv,\n",
    "        'param_grid': param_grid,\n",
    "        'scoring': {\n",
    "            'auc': 'roc_auc',\n",
    "            'apr': 'average_precision'\n",
    "        },\n",
    "        'verbose': 5,\n",
    "        'refit': 'apr',\n",
    "        'error_score': 0.0,\n",
    "        'n_jobs': -1\n",
    "    })\n",
    "    \n",
    "    return model\n",
    "    \n",
    "def get_stacking_model():\n",
    "    scaler = MinMaxScaler()\n",
    "    classifier = Stacking(\n",
    "        base_estimators=[DecisionTreeClassifier(), LogisticRegression()], \n",
    "        random_state=37\n",
    "    )\n",
    "    pipeline = Pipeline(steps=[\n",
    "        ('scaler', scaler), \n",
    "        ('classifier', classifier)\n",
    "    ])\n",
    "\n",
    "    cv = StratifiedKFold(**{\n",
    "        'n_splits': 5,\n",
    "        'shuffle': True,\n",
    "        'random_state': 37\n",
    "    })\n",
    "\n",
    "    param_grid = {\n",
    "        'scaler__feature_range': [(0, 1), (0, 2)],\n",
    "        'classifier__base_estimators': [\n",
    "            [\n",
    "                DecisionTreeClassifier(), \n",
    "                get_logistic_regression_model(), \n",
    "                KNeighborsClassifier()\n",
    "            ],\n",
    "            [\n",
    "                RandomForestClassifier(), \n",
    "                GradientBoostingClassifier()],\n",
    "            [\n",
    "                DecisionTreeClassifier(), \n",
    "                get_logistic_regression_model(), \n",
    "                KNeighborsClassifier(),\n",
    "                RandomForestClassifier(), \n",
    "                GradientBoostingClassifier()\n",
    "            ]\n",
    "        ],\n",
    "        'classifier__n_folds': [2, 5],\n",
    "        'classifier__use_proba': [False, True]\n",
    "    }\n",
    "\n",
    "    model = GridSearchCV(**{\n",
    "        'estimator': pipeline,\n",
    "        'cv': cv,\n",
    "        'param_grid': param_grid,\n",
    "        'scoring': {\n",
    "            'auc': 'roc_auc',\n",
    "            'apr': 'average_precision'\n",
    "        },\n",
    "        'verbose': 5,\n",
    "        'refit': 'apr',\n",
    "        'error_score': 0.0,\n",
    "        'n_jobs': -1\n",
    "    })\n",
    "    \n",
    "    return model"
   ]
  },
  {
   "cell_type": "markdown",
   "metadata": {},
   "source": [
    "Let's the stacking model and fit it."
   ]
  },
  {
   "cell_type": "code",
   "execution_count": 11,
   "metadata": {},
   "outputs": [
    {
     "name": "stdout",
     "output_type": "stream",
     "text": [
      "Fitting 5 folds for each of 24 candidates, totalling 120 fits\n",
      "Fitting 3 folds for each of 2 candidates, totalling 6 fits\n",
      "Fitting 3 folds for each of 2 candidates, totalling 6 fits\n",
      "Fitting 3 folds for each of 2 candidates, totalling 6 fits\n"
     ]
    },
    {
     "data": {
      "text/plain": [
       "GridSearchCV(cv=StratifiedKFold(n_splits=5, random_state=37, shuffle=True),\n",
       "             error_score=0.0,\n",
       "             estimator=Pipeline(steps=[('scaler', MinMaxScaler()),\n",
       "                                       ('classifier',\n",
       "                                        Stacking(base_estimators=[DecisionTreeClassifier(), LogisticRegression()],\n",
       "     keep_original=True, meta_clf=LogisticRegression(), n_folds=2,\n",
       "     pre_fitted=None, random_state=37, shuffle_data=False, threshold=No...\n",
       "                                                                       param_grid={'classifier__penalty': ['l1',\n",
       "                                                                                                           'l2']},\n",
       "                                                                       refit='apr',\n",
       "                                                                       scoring={'apr': 'average_precision',\n",
       "                                                                                'auc': 'roc_auc'},\n",
       "                                                                       verbose=5),\n",
       "                                                          KNeighborsClassifier(),\n",
       "                                                          RandomForestClassifier(),\n",
       "                                                          GradientBoostingClassifier()]],\n",
       "                         'classifier__n_folds': [2, 5],\n",
       "                         'classifier__use_proba': [False, True],\n",
       "                         'scaler__feature_range': [(0, 1), (0, 2)]},\n",
       "             refit='apr',\n",
       "             scoring={'apr': 'average_precision', 'auc': 'roc_auc'}, verbose=5)"
      ]
     },
     "execution_count": 11,
     "metadata": {},
     "output_type": "execute_result"
    }
   ],
   "source": [
    "model = get_stacking_model()\n",
    "model.fit(X, y)"
   ]
  },
  {
   "cell_type": "markdown",
   "metadata": {},
   "source": [
    "Let's look at the training performances."
   ]
  },
  {
   "cell_type": "code",
   "execution_count": 12,
   "metadata": {},
   "outputs": [
    {
     "data": {
      "text/plain": [
       "(0.999124, 0.9991472599492524)"
      ]
     },
     "execution_count": 12,
     "metadata": {},
     "output_type": "execute_result"
    }
   ],
   "source": [
    "from sklearn.metrics import roc_auc_score, average_precision_score\n",
    "\n",
    "y_pred = model.predict_proba(X)[:,1]\n",
    "roc_auc_score(y, y_pred), average_precision_score(y, y_pred)"
   ]
  },
  {
   "cell_type": "markdown",
   "metadata": {},
   "source": [
    "Although there is much nesting and stacking of models, we can still navigate to the information we want. To look at the stacking model's best parameters is easy `model.best_params_`. Notice that the grid search says that stacked classifier with base estimators `DecisionTreeClassifier`, `GridSearchCV` and `KNeighborsClassifier` is the best one.\n",
    "\n",
    "So we have to dig into `GridSearchCV` and see what the best hyper-parameters and models are for this object."
   ]
  },
  {
   "cell_type": "code",
   "execution_count": 13,
   "metadata": {},
   "outputs": [
    {
     "data": {
      "text/plain": [
       "{'classifier__base_estimators': [DecisionTreeClassifier(),\n",
       "  GridSearchCV(cv=StratifiedKFold(n_splits=3, random_state=37, shuffle=True),\n",
       "               error_score=0.0,\n",
       "               estimator=Pipeline(steps=[('classifier',\n",
       "                                          LogisticRegression(random_state=37))]),\n",
       "               n_jobs=-1, param_grid={'classifier__penalty': ['l1', 'l2']},\n",
       "               refit='apr',\n",
       "               scoring={'apr': 'average_precision', 'auc': 'roc_auc'}, verbose=5),\n",
       "  KNeighborsClassifier()],\n",
       " 'classifier__n_folds': 2,\n",
       " 'classifier__use_proba': False,\n",
       " 'scaler__feature_range': (0, 1)}"
      ]
     },
     "execution_count": 13,
     "metadata": {},
     "output_type": "execute_result"
    }
   ],
   "source": [
    "model.best_params_"
   ]
  },
  {
   "cell_type": "markdown",
   "metadata": {},
   "source": [
    "The best estimator is retrieved from `model.best_estimator_`."
   ]
  },
  {
   "cell_type": "code",
   "execution_count": 14,
   "metadata": {},
   "outputs": [
    {
     "data": {
      "text/plain": [
       "Pipeline(steps=[('scaler', MinMaxScaler()),\n",
       "                ('classifier',\n",
       "                 Stacking(base_estimators=[DecisionTreeClassifier(), GridSearchCV(cv=StratifiedKFold(n_splits=3, random_state=37, shuffle=True),\n",
       "             error_score=0.0,\n",
       "             estimator=Pipeline(steps=[('classifier',\n",
       "                                        LogisticRegression(random_state=37))]),\n",
       "             n_jobs=-1, param_grid={'classifier__penalty': ['l1', 'l2']},\n",
       "             refit='apr',\n",
       "             scoring={'apr': 'average_precision', 'auc': 'roc_auc'}, verbose=5), KNeighborsClassifier()],\n",
       "     keep_original=True, meta_clf=LogisticRegression(), n_folds=2,\n",
       "     pre_fitted=None, random_state=37, shuffle_data=False, threshold=None,\n",
       "     use_proba=False))])"
      ]
     },
     "execution_count": 14,
     "metadata": {},
     "output_type": "execute_result"
    }
   ],
   "source": [
    "model.best_estimator_"
   ]
  },
  {
   "cell_type": "markdown",
   "metadata": {},
   "source": [
    "Now we can navigate to each of the base estimators. Since there are 3 of them, we can access each by index."
   ]
  },
  {
   "cell_type": "code",
   "execution_count": 20,
   "metadata": {},
   "outputs": [
    {
     "data": {
      "text/plain": [
       "DecisionTreeClassifier()"
      ]
     },
     "execution_count": 20,
     "metadata": {},
     "output_type": "execute_result"
    }
   ],
   "source": [
    "model.best_estimator_[1].base_estimators[0]"
   ]
  },
  {
   "cell_type": "code",
   "execution_count": 21,
   "metadata": {},
   "outputs": [
    {
     "data": {
      "text/plain": [
       "GridSearchCV(cv=StratifiedKFold(n_splits=3, random_state=37, shuffle=True),\n",
       "             error_score=0.0,\n",
       "             estimator=Pipeline(steps=[('classifier',\n",
       "                                        LogisticRegression(random_state=37))]),\n",
       "             n_jobs=-1, param_grid={'classifier__penalty': ['l1', 'l2']},\n",
       "             refit='apr',\n",
       "             scoring={'apr': 'average_precision', 'auc': 'roc_auc'}, verbose=5)"
      ]
     },
     "execution_count": 21,
     "metadata": {},
     "output_type": "execute_result"
    }
   ],
   "source": [
    "model.best_estimator_[1].base_estimators[1]"
   ]
  },
  {
   "cell_type": "code",
   "execution_count": 42,
   "metadata": {},
   "outputs": [
    {
     "data": {
      "text/plain": [
       "KNeighborsClassifier()"
      ]
     },
     "execution_count": 42,
     "metadata": {},
     "output_type": "execute_result"
    }
   ],
   "source": [
    "model.best_estimator_[1].base_estimators[2]"
   ]
  },
  {
   "cell_type": "markdown",
   "metadata": {},
   "source": [
    "The second base estimator is another `GridSearchCV` instance. Again, we can carefully navigate to retrieve the best parameters and estimator."
   ]
  },
  {
   "cell_type": "code",
   "execution_count": 26,
   "metadata": {},
   "outputs": [
    {
     "data": {
      "text/plain": [
       "{'classifier__penalty': 'l2'}"
      ]
     },
     "execution_count": 26,
     "metadata": {},
     "output_type": "execute_result"
    }
   ],
   "source": [
    "model.best_estimator_[1].base_estimators[1].best_params_"
   ]
  },
  {
   "cell_type": "code",
   "execution_count": 27,
   "metadata": {},
   "outputs": [
    {
     "data": {
      "text/plain": [
       "Pipeline(steps=[('classifier', LogisticRegression(random_state=37))])"
      ]
     },
     "execution_count": 27,
     "metadata": {},
     "output_type": "execute_result"
    }
   ],
   "source": [
    "model.best_estimator_[1].base_estimators[1].best_estimator_"
   ]
  },
  {
   "cell_type": "markdown",
   "metadata": {},
   "source": [
    "## Stacking with validation\n",
    "\n",
    "Stacking models with combo works perfectly with Scikit-Learn's validation framework. Here, we apply stratified k-fold cross-validation to a stacked model."
   ]
  },
  {
   "cell_type": "code",
   "execution_count": 40,
   "metadata": {},
   "outputs": [
    {
     "name": "stdout",
     "output_type": "stream",
     "text": [
      "(1600, 10) (1600,) (400, 10) (400,)\n",
      "Fitting 5 folds for each of 24 candidates, totalling 120 fits\n",
      "Fitting 3 folds for each of 2 candidates, totalling 6 fits\n",
      "Fitting 3 folds for each of 2 candidates, totalling 6 fits\n",
      "Fitting 3 folds for each of 2 candidates, totalling 6 fits\n",
      "(1600, 10) (1600,) (400, 10) (400,)\n",
      "Fitting 5 folds for each of 24 candidates, totalling 120 fits\n",
      "Fitting 3 folds for each of 2 candidates, totalling 6 fits\n",
      "Fitting 3 folds for each of 2 candidates, totalling 6 fits\n",
      "Fitting 3 folds for each of 2 candidates, totalling 6 fits\n",
      "(1600, 10) (1600,) (400, 10) (400,)\n",
      "Fitting 5 folds for each of 24 candidates, totalling 120 fits\n",
      "Fitting 3 folds for each of 2 candidates, totalling 6 fits\n",
      "Fitting 3 folds for each of 2 candidates, totalling 6 fits\n",
      "Fitting 3 folds for each of 2 candidates, totalling 6 fits\n",
      "(1600, 10) (1600,) (400, 10) (400,)\n",
      "Fitting 5 folds for each of 24 candidates, totalling 120 fits\n",
      "Fitting 3 folds for each of 2 candidates, totalling 6 fits\n",
      "Fitting 3 folds for each of 2 candidates, totalling 6 fits\n",
      "Fitting 3 folds for each of 2 candidates, totalling 6 fits\n",
      "(1600, 10) (1600,) (400, 10) (400,)\n",
      "Fitting 5 folds for each of 24 candidates, totalling 120 fits\n",
      "Fitting 3 folds for each of 2 candidates, totalling 6 fits\n",
      "Fitting 3 folds for each of 2 candidates, totalling 6 fits\n",
      "Fitting 3 folds for each of 2 candidates, totalling 6 fits\n"
     ]
    },
    {
     "data": {
      "text/html": [
       "<div>\n",
       "<style scoped>\n",
       "    .dataframe tbody tr th:only-of-type {\n",
       "        vertical-align: middle;\n",
       "    }\n",
       "\n",
       "    .dataframe tbody tr th {\n",
       "        vertical-align: top;\n",
       "    }\n",
       "\n",
       "    .dataframe thead th {\n",
       "        text-align: right;\n",
       "    }\n",
       "</style>\n",
       "<table border=\"1\" class=\"dataframe\">\n",
       "  <thead>\n",
       "    <tr style=\"text-align: right;\">\n",
       "      <th></th>\n",
       "      <th>roc</th>\n",
       "      <th>aps</th>\n",
       "    </tr>\n",
       "  </thead>\n",
       "  <tbody>\n",
       "    <tr>\n",
       "      <th>0</th>\n",
       "      <td>0.993850</td>\n",
       "      <td>0.992000</td>\n",
       "    </tr>\n",
       "    <tr>\n",
       "      <th>1</th>\n",
       "      <td>0.992425</td>\n",
       "      <td>0.991328</td>\n",
       "    </tr>\n",
       "    <tr>\n",
       "      <th>2</th>\n",
       "      <td>0.988525</td>\n",
       "      <td>0.990718</td>\n",
       "    </tr>\n",
       "    <tr>\n",
       "      <th>3</th>\n",
       "      <td>0.995275</td>\n",
       "      <td>0.994601</td>\n",
       "    </tr>\n",
       "    <tr>\n",
       "      <th>4</th>\n",
       "      <td>0.996900</td>\n",
       "      <td>0.996020</td>\n",
       "    </tr>\n",
       "  </tbody>\n",
       "</table>\n",
       "</div>"
      ],
      "text/plain": [
       "        roc       aps\n",
       "0  0.993850  0.992000\n",
       "1  0.992425  0.991328\n",
       "2  0.988525  0.990718\n",
       "3  0.995275  0.994601\n",
       "4  0.996900  0.996020"
      ]
     },
     "execution_count": 40,
     "metadata": {},
     "output_type": "execute_result"
    }
   ],
   "source": [
    "import pandas as pd\n",
    "\n",
    "r_df = []\n",
    "\n",
    "for tr_index, te_index in StratifiedKFold(n_splits=5, shuffle=True, random_state=37).split(X, y):\n",
    "    X_tr, y_tr = X[tr_index,:], y[tr_index]\n",
    "    X_te, y_te = X[te_index,:], y[te_index]\n",
    "    \n",
    "    print(X_tr.shape, y_tr.shape, X_te.shape, y_te.shape)\n",
    "    \n",
    "    model = get_stacking_model()\n",
    "    model.fit(X_tr, y_tr)\n",
    "    \n",
    "    y_pred = model.predict_proba(X_te)[:,1]\n",
    "    \n",
    "    roc = roc_auc_score(y_te, y_pred)\n",
    "    aps = average_precision_score(y_te, y_pred)\n",
    "    \n",
    "    r_df.append({'roc': roc, 'aps': aps})\n",
    "    \n",
    "r_df = pd.DataFrame(r_df)\n",
    "r_df"
   ]
  },
  {
   "cell_type": "markdown",
   "metadata": {},
   "source": [
    "Below are the performances of the stacking approach. "
   ]
  },
  {
   "cell_type": "code",
   "execution_count": 41,
   "metadata": {},
   "outputs": [
    {
     "data": {
      "text/plain": [
       "roc    0.993395\n",
       "aps    0.992933\n",
       "dtype: float64"
      ]
     },
     "execution_count": 41,
     "metadata": {},
     "output_type": "execute_result"
    }
   ],
   "source": [
    "r_df.mean()"
   ]
  }
 ],
 "metadata": {
  "kernelspec": {
   "display_name": "Python 3",
   "language": "python",
   "name": "python3"
  },
  "language_info": {
   "codemirror_mode": {
    "name": "ipython",
    "version": 3
   },
   "file_extension": ".py",
   "mimetype": "text/x-python",
   "name": "python",
   "nbconvert_exporter": "python",
   "pygments_lexer": "ipython3",
   "version": "3.8.3"
  },
  "widgets": {
   "application/vnd.jupyter.widget-state+json": {
    "state": {},
    "version_major": 2,
    "version_minor": 0
   }
  }
 },
 "nbformat": 4,
 "nbformat_minor": 4
}
