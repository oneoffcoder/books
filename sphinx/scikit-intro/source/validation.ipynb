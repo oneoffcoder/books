{
 "cells": [
  {
   "cell_type": "markdown",
   "metadata": {},
   "source": [
    "# Validation"
   ]
  },
  {
   "cell_type": "markdown",
   "metadata": {},
   "source": [
    "## Splitting data"
   ]
  },
  {
   "cell_type": "code",
   "execution_count": 1,
   "metadata": {
    "execution": {
     "iopub.execute_input": "2022-05-07T12:37:16.577771Z",
     "iopub.status.busy": "2022-05-07T12:37:16.577771Z",
     "iopub.status.idle": "2022-05-07T12:37:16.681886Z",
     "shell.execute_reply": "2022-05-07T12:37:16.681886Z",
     "shell.execute_reply.started": "2022-05-07T12:37:16.577771Z"
    }
   },
   "outputs": [],
   "source": [
    "import numpy as np\n",
    "\n",
    "X = np.array([\n",
    "    [1, 2],\n",
    "    [3, 4],\n",
    "    [5, 6],\n",
    "    [7, 8],\n",
    "    [9, 9],\n",
    "    [7, 7]\n",
    "])\n",
    "\n",
    "y = np.array([0, 0, 0, 1, 1, 1])\n",
    "\n",
    "groups = np.array([0, 1, 2, 2, 1, 0])"
   ]
  },
  {
   "cell_type": "markdown",
   "metadata": {},
   "source": [
    "### Group k-fold"
   ]
  },
  {
   "cell_type": "code",
   "execution_count": 2,
   "metadata": {
    "execution": {
     "iopub.execute_input": "2022-05-07T12:37:16.682890Z",
     "iopub.status.busy": "2022-05-07T12:37:16.682890Z",
     "iopub.status.idle": "2022-05-07T12:37:17.079888Z",
     "shell.execute_reply": "2022-05-07T12:37:17.079888Z",
     "shell.execute_reply.started": "2022-05-07T12:37:16.682890Z"
    }
   },
   "outputs": [
    {
     "name": "stdout",
     "output_type": "stream",
     "text": [
      "TRAIN: [0 1 4 5], TEST: [2 3]\n",
      "TRAIN: [0 2 3 5], TEST: [1 4]\n",
      "TRAIN: [1 2 3 4], TEST: [0 5]\n"
     ]
    }
   ],
   "source": [
    "from sklearn.model_selection import GroupKFold\n",
    "\n",
    "gkf = GroupKFold(n_splits=3)\n",
    "\n",
    "for train_index, test_index in gkf.split(X, y, groups):\n",
    "    print(f'TRAIN: {train_index}, TEST: {test_index}')"
   ]
  },
  {
   "cell_type": "markdown",
   "metadata": {},
   "source": [
    "### Group shuffle split"
   ]
  },
  {
   "cell_type": "code",
   "execution_count": 3,
   "metadata": {
    "execution": {
     "iopub.execute_input": "2022-05-07T12:37:17.080887Z",
     "iopub.status.busy": "2022-05-07T12:37:17.080887Z",
     "iopub.status.idle": "2022-05-07T12:37:17.095890Z",
     "shell.execute_reply": "2022-05-07T12:37:17.095890Z",
     "shell.execute_reply.started": "2022-05-07T12:37:17.080887Z"
    }
   },
   "outputs": [
    {
     "name": "stdout",
     "output_type": "stream",
     "text": [
      "TRAIN: [0 1 4 5], TEST: [2 3]\n",
      "TRAIN: [0 1 4 5], TEST: [2 3]\n",
      "TRAIN: [0 2 3 5], TEST: [1 4]\n"
     ]
    }
   ],
   "source": [
    "from sklearn.model_selection import GroupShuffleSplit\n",
    "\n",
    "gss = GroupShuffleSplit(n_splits=3, random_state=37)\n",
    "\n",
    "for train_index, test_index in gss.split(X, y, groups):\n",
    "    print(f'TRAIN: {train_index}, TEST: {test_index}')"
   ]
  },
  {
   "cell_type": "markdown",
   "metadata": {},
   "source": [
    "### Leave one group out"
   ]
  },
  {
   "cell_type": "code",
   "execution_count": 4,
   "metadata": {
    "execution": {
     "iopub.execute_input": "2022-05-07T12:37:17.096890Z",
     "iopub.status.busy": "2022-05-07T12:37:17.096890Z",
     "iopub.status.idle": "2022-05-07T12:37:17.111891Z",
     "shell.execute_reply": "2022-05-07T12:37:17.111891Z",
     "shell.execute_reply.started": "2022-05-07T12:37:17.096890Z"
    }
   },
   "outputs": [
    {
     "name": "stdout",
     "output_type": "stream",
     "text": [
      "TRAIN: [1 2 3 4], TEST: [0 5]\n",
      "TRAIN: [0 2 3 5], TEST: [1 4]\n",
      "TRAIN: [0 1 4 5], TEST: [2 3]\n"
     ]
    }
   ],
   "source": [
    "from sklearn.model_selection import LeaveOneGroupOut\n",
    "\n",
    "logo = LeaveOneGroupOut()\n",
    "\n",
    "for train_index, test_index in logo.split(X, y, groups):\n",
    "    print(f'TRAIN: {train_index}, TEST: {test_index}')"
   ]
  },
  {
   "cell_type": "markdown",
   "metadata": {},
   "source": [
    "### Leave p-groups out"
   ]
  },
  {
   "cell_type": "code",
   "execution_count": 5,
   "metadata": {
    "execution": {
     "iopub.execute_input": "2022-05-07T12:37:17.112890Z",
     "iopub.status.busy": "2022-05-07T12:37:17.112890Z",
     "iopub.status.idle": "2022-05-07T12:37:17.127885Z",
     "shell.execute_reply": "2022-05-07T12:37:17.127885Z",
     "shell.execute_reply.started": "2022-05-07T12:37:17.112890Z"
    }
   },
   "outputs": [
    {
     "name": "stdout",
     "output_type": "stream",
     "text": [
      "TRAIN: [2 3], TEST: [0 1 4 5]\n",
      "TRAIN: [1 4], TEST: [0 2 3 5]\n",
      "TRAIN: [0 5], TEST: [1 2 3 4]\n"
     ]
    }
   ],
   "source": [
    "from sklearn.model_selection import LeavePGroupsOut\n",
    "\n",
    "lpgo = LeavePGroupsOut(n_groups=2)\n",
    "\n",
    "for train_index, test_index in lpgo.split(X, y, groups):\n",
    "    print(f'TRAIN: {train_index}, TEST: {test_index}')"
   ]
  },
  {
   "cell_type": "markdown",
   "metadata": {},
   "source": [
    "### Leave one out"
   ]
  },
  {
   "cell_type": "code",
   "execution_count": 6,
   "metadata": {
    "execution": {
     "iopub.execute_input": "2022-05-07T12:37:17.128886Z",
     "iopub.status.busy": "2022-05-07T12:37:17.128886Z",
     "iopub.status.idle": "2022-05-07T12:37:17.143681Z",
     "shell.execute_reply": "2022-05-07T12:37:17.143681Z",
     "shell.execute_reply.started": "2022-05-07T12:37:17.128886Z"
    }
   },
   "outputs": [
    {
     "name": "stdout",
     "output_type": "stream",
     "text": [
      "TRAIN: [1 2 3 4 5], TEST: [0]\n",
      "TRAIN: [0 2 3 4 5], TEST: [1]\n",
      "TRAIN: [0 1 3 4 5], TEST: [2]\n",
      "TRAIN: [0 1 2 4 5], TEST: [3]\n",
      "TRAIN: [0 1 2 3 5], TEST: [4]\n",
      "TRAIN: [0 1 2 3 4], TEST: [5]\n"
     ]
    }
   ],
   "source": [
    "from sklearn.model_selection import LeaveOneOut\n",
    "\n",
    "loo = LeaveOneOut()\n",
    "\n",
    "for train_index, test_index in loo.split(X, y):\n",
    "    print(f'TRAIN: {train_index}, TEST: {test_index}')"
   ]
  },
  {
   "cell_type": "markdown",
   "metadata": {},
   "source": [
    "### Leave p-out"
   ]
  },
  {
   "cell_type": "code",
   "execution_count": 7,
   "metadata": {
    "execution": {
     "iopub.execute_input": "2022-05-07T12:37:17.145684Z",
     "iopub.status.busy": "2022-05-07T12:37:17.145684Z",
     "iopub.status.idle": "2022-05-07T12:37:17.159681Z",
     "shell.execute_reply": "2022-05-07T12:37:17.159681Z",
     "shell.execute_reply.started": "2022-05-07T12:37:17.145684Z"
    }
   },
   "outputs": [
    {
     "name": "stdout",
     "output_type": "stream",
     "text": [
      "TRAIN: [3 4 5], TEST: [0 1 2]\n",
      "TRAIN: [2 4 5], TEST: [0 1 3]\n",
      "TRAIN: [2 3 5], TEST: [0 1 4]\n",
      "TRAIN: [2 3 4], TEST: [0 1 5]\n",
      "TRAIN: [1 4 5], TEST: [0 2 3]\n",
      "TRAIN: [1 3 5], TEST: [0 2 4]\n",
      "TRAIN: [1 3 4], TEST: [0 2 5]\n",
      "TRAIN: [1 2 5], TEST: [0 3 4]\n",
      "TRAIN: [1 2 4], TEST: [0 3 5]\n",
      "TRAIN: [1 2 3], TEST: [0 4 5]\n",
      "TRAIN: [0 4 5], TEST: [1 2 3]\n",
      "TRAIN: [0 3 5], TEST: [1 2 4]\n",
      "TRAIN: [0 3 4], TEST: [1 2 5]\n",
      "TRAIN: [0 2 5], TEST: [1 3 4]\n",
      "TRAIN: [0 2 4], TEST: [1 3 5]\n",
      "TRAIN: [0 2 3], TEST: [1 4 5]\n",
      "TRAIN: [0 1 5], TEST: [2 3 4]\n",
      "TRAIN: [0 1 4], TEST: [2 3 5]\n",
      "TRAIN: [0 1 3], TEST: [2 4 5]\n",
      "TRAIN: [0 1 2], TEST: [3 4 5]\n"
     ]
    }
   ],
   "source": [
    "from sklearn.model_selection import LeavePOut\n",
    "\n",
    "lpo = LeavePOut(p=3)\n",
    "\n",
    "for train_index, test_index in lpo.split(X, y):\n",
    "    print(f'TRAIN: {train_index}, TEST: {test_index}')"
   ]
  },
  {
   "cell_type": "markdown",
   "metadata": {},
   "source": [
    "### K-fold"
   ]
  },
  {
   "cell_type": "code",
   "execution_count": 8,
   "metadata": {
    "execution": {
     "iopub.execute_input": "2022-05-07T12:37:17.160684Z",
     "iopub.status.busy": "2022-05-07T12:37:17.160684Z",
     "iopub.status.idle": "2022-05-07T12:37:17.175526Z",
     "shell.execute_reply": "2022-05-07T12:37:17.175526Z",
     "shell.execute_reply.started": "2022-05-07T12:37:17.160684Z"
    },
    "tags": []
   },
   "outputs": [
    {
     "name": "stdout",
     "output_type": "stream",
     "text": [
      "TRAIN: [3 4 5], TEST: [0 1 2]\n",
      "TRAIN: [0 1 2], TEST: [3 4 5]\n"
     ]
    }
   ],
   "source": [
    "from sklearn.model_selection import KFold\n",
    "\n",
    "kf = KFold(n_splits=2, shuffle=True, random_state=37)\n",
    "\n",
    "for train_index, test_index in kf.split(X, y):\n",
    "    print(f'TRAIN: {train_index}, TEST: {test_index}')"
   ]
  },
  {
   "cell_type": "markdown",
   "metadata": {},
   "source": [
    "### Stratified k-fold"
   ]
  },
  {
   "cell_type": "code",
   "execution_count": 9,
   "metadata": {
    "execution": {
     "iopub.execute_input": "2022-05-07T12:37:17.176564Z",
     "iopub.status.busy": "2022-05-07T12:37:17.176564Z",
     "iopub.status.idle": "2022-05-07T12:37:17.191526Z",
     "shell.execute_reply": "2022-05-07T12:37:17.191526Z",
     "shell.execute_reply.started": "2022-05-07T12:37:17.176564Z"
    },
    "tags": []
   },
   "outputs": [
    {
     "name": "stdout",
     "output_type": "stream",
     "text": [
      "TRAIN: [0 3 4], TEST: [1 2 5]\n",
      "TRAIN: [1 2 5], TEST: [0 3 4]\n"
     ]
    }
   ],
   "source": [
    "from sklearn.model_selection import StratifiedKFold\n",
    "\n",
    "skf = StratifiedKFold(n_splits=2, shuffle=True, random_state=37)\n",
    "\n",
    "for train_index, test_index in skf.split(X, y):\n",
    "    print(f'TRAIN: {train_index}, TEST: {test_index}')"
   ]
  },
  {
   "cell_type": "markdown",
   "metadata": {},
   "source": [
    "### Shuffle split"
   ]
  },
  {
   "cell_type": "code",
   "execution_count": 10,
   "metadata": {
    "execution": {
     "iopub.execute_input": "2022-05-07T12:37:17.192527Z",
     "iopub.status.busy": "2022-05-07T12:37:17.192527Z",
     "iopub.status.idle": "2022-05-07T12:37:17.207526Z",
     "shell.execute_reply": "2022-05-07T12:37:17.207526Z",
     "shell.execute_reply.started": "2022-05-07T12:37:17.192527Z"
    }
   },
   "outputs": [
    {
     "name": "stdout",
     "output_type": "stream",
     "text": [
      "TRAIN: [1 0 5 4 3], TEST: [2]\n",
      "TRAIN: [1 5 4 3 2], TEST: [0]\n"
     ]
    }
   ],
   "source": [
    "from sklearn.model_selection import ShuffleSplit\n",
    "\n",
    "ss = ShuffleSplit(n_splits=2, random_state=37)\n",
    "\n",
    "for train_index, test_index in ss.split(X, y):\n",
    "    print(f'TRAIN: {train_index}, TEST: {test_index}')"
   ]
  },
  {
   "cell_type": "markdown",
   "metadata": {},
   "source": [
    "### Stratified shuffle split"
   ]
  },
  {
   "cell_type": "code",
   "execution_count": 11,
   "metadata": {
    "execution": {
     "iopub.execute_input": "2022-05-07T12:37:17.209261Z",
     "iopub.status.busy": "2022-05-07T12:37:17.209233Z",
     "iopub.status.idle": "2022-05-07T12:37:17.223240Z",
     "shell.execute_reply": "2022-05-07T12:37:17.223240Z",
     "shell.execute_reply.started": "2022-05-07T12:37:17.209261Z"
    }
   },
   "outputs": [
    {
     "name": "stdout",
     "output_type": "stream",
     "text": [
      "TRAIN: [1 0 5 4 3], TEST: [2]\n",
      "TRAIN: [1 5 4 3 2], TEST: [0]\n"
     ]
    }
   ],
   "source": [
    "from sklearn.model_selection import StratifiedShuffleSplit\n",
    "\n",
    "sss = ShuffleSplit(n_splits=2, random_state=37)\n",
    "\n",
    "for train_index, test_index in sss.split(X, y):\n",
    "    print(f'TRAIN: {train_index}, TEST: {test_index}')"
   ]
  },
  {
   "cell_type": "markdown",
   "metadata": {},
   "source": [
    "### Predefined split"
   ]
  },
  {
   "cell_type": "code",
   "execution_count": 12,
   "metadata": {
    "execution": {
     "iopub.execute_input": "2022-05-07T12:37:17.224241Z",
     "iopub.status.busy": "2022-05-07T12:37:17.224241Z",
     "iopub.status.idle": "2022-05-07T12:37:17.239239Z",
     "shell.execute_reply": "2022-05-07T12:37:17.239239Z",
     "shell.execute_reply.started": "2022-05-07T12:37:17.224241Z"
    },
    "tags": []
   },
   "outputs": [
    {
     "name": "stdout",
     "output_type": "stream",
     "text": [
      "TRAIN: [0 1 3 4], TEST: [2 5]\n",
      "TRAIN: [2 5], TEST: [0 1 3 4]\n"
     ]
    }
   ],
   "source": [
    "from sklearn.model_selection import PredefinedSplit\n",
    "\n",
    "test_fold = np.array([1, 1, 0, 1, 1, 0])\n",
    "\n",
    "ps = PredefinedSplit(test_fold)\n",
    "\n",
    "for train_index, test_index in ps.split(X, y):\n",
    "    print(f'TRAIN: {train_index}, TEST: {test_index}')"
   ]
  },
  {
   "cell_type": "code",
   "execution_count": 13,
   "metadata": {
    "execution": {
     "iopub.execute_input": "2022-05-07T12:37:17.240240Z",
     "iopub.status.busy": "2022-05-07T12:37:17.240240Z",
     "iopub.status.idle": "2022-05-07T12:37:17.255239Z",
     "shell.execute_reply": "2022-05-07T12:37:17.255239Z",
     "shell.execute_reply.started": "2022-05-07T12:37:17.240240Z"
    }
   },
   "outputs": [
    {
     "name": "stdout",
     "output_type": "stream",
     "text": [
      "TRAIN: [1 2 4 5], TEST: [0 3]\n",
      "TRAIN: [0 2 3 5], TEST: [1 4]\n",
      "TRAIN: [0 1 3 4], TEST: [2 5]\n"
     ]
    }
   ],
   "source": [
    "test_fold = np.array([0, 1, 2, 0, 1, 2])\n",
    "\n",
    "ps = PredefinedSplit(test_fold)\n",
    "\n",
    "for train_index, test_index in ps.split(X, y):\n",
    "    print(f'TRAIN: {train_index}, TEST: {test_index}')"
   ]
  },
  {
   "cell_type": "markdown",
   "metadata": {},
   "source": [
    "### Customized splitter"
   ]
  },
  {
   "cell_type": "markdown",
   "metadata": {},
   "source": [
    "Here is a customized splitter that resembles the `PredefinedSplit` class. In the `PredefinedSplit` class, the function `get_n_splits()` will return 2. However, sometimes, you want only 1 split (e.g. for testing and validating where the validating fold is used for hyperparameter tuning)."
   ]
  },
  {
   "cell_type": "code",
   "execution_count": 14,
   "metadata": {
    "execution": {
     "iopub.execute_input": "2022-05-07T12:37:17.256240Z",
     "iopub.status.busy": "2022-05-07T12:37:17.256240Z",
     "iopub.status.idle": "2022-05-07T12:37:17.285243Z",
     "shell.execute_reply": "2022-05-07T12:37:17.285243Z",
     "shell.execute_reply.started": "2022-05-07T12:37:17.256240Z"
    }
   },
   "outputs": [],
   "source": [
    "class SimpleSplitter:\n",
    "    def __init__(self, test_fold):\n",
    "        self.test_fold = test_fold\n",
    "        \n",
    "    def get_n_splits(self, X=None, y=None, groups=None):\n",
    "        return 1\n",
    "    \n",
    "    def split(self, X=None, y=None, groups=None):\n",
    "        tr_index = np.array([i for i, v in enumerate(self.test_fold) if v == 0])\n",
    "        te_index = np.array([i for i, v in enumerate(self.test_fold) if v == 1])\n",
    "        \n",
    "        yield tr_index, te_index"
   ]
  },
  {
   "cell_type": "code",
   "execution_count": 15,
   "metadata": {
    "execution": {
     "iopub.execute_input": "2022-05-07T12:37:17.286240Z",
     "iopub.status.busy": "2022-05-07T12:37:17.286240Z",
     "iopub.status.idle": "2022-05-07T12:37:17.301240Z",
     "shell.execute_reply": "2022-05-07T12:37:17.301240Z",
     "shell.execute_reply.started": "2022-05-07T12:37:17.286240Z"
    }
   },
   "outputs": [
    {
     "name": "stdout",
     "output_type": "stream",
     "text": [
      "TRAIN: [0 1 3 4], TEST: [2 5]\n"
     ]
    }
   ],
   "source": [
    "simple_splitter = SimpleSplitter([0, 0, 1, 0, 0, 1])\n",
    "\n",
    "for train_index, test_index in simple_splitter.split(X, y):\n",
    "    print(f'TRAIN: {train_index}, TEST: {test_index}')"
   ]
  },
  {
   "cell_type": "markdown",
   "metadata": {},
   "source": [
    "Here is another splitter, where we have `one-versus-rest` folds. The training fold will stay constant but the testing ones will change. Note in this customized splitter, we provide the index (not 1 or 0 flags corresponding to indexes) to the splitter."
   ]
  },
  {
   "cell_type": "code",
   "execution_count": 16,
   "metadata": {
    "execution": {
     "iopub.execute_input": "2022-05-07T12:37:17.302239Z",
     "iopub.status.busy": "2022-05-07T12:37:17.302239Z",
     "iopub.status.idle": "2022-05-07T12:37:17.316769Z",
     "shell.execute_reply": "2022-05-07T12:37:17.316769Z",
     "shell.execute_reply.started": "2022-05-07T12:37:17.302239Z"
    }
   },
   "outputs": [],
   "source": [
    "class OvrSplitter:\n",
    "    def __init__(self, train_fold, test_folds):\n",
    "        self.train_fold = train_fold\n",
    "        self.test_folds = test_folds\n",
    "        \n",
    "    def get_n_splits(self, X=None, y=None, groups=None):\n",
    "        return len(test_folds)\n",
    "    \n",
    "    def split(self, X=None, y=None, groups=None):\n",
    "        for test_fold in self.test_folds:\n",
    "            yield self.train_fold, test_fold"
   ]
  },
  {
   "cell_type": "code",
   "execution_count": 17,
   "metadata": {
    "execution": {
     "iopub.execute_input": "2022-05-07T12:37:17.317770Z",
     "iopub.status.busy": "2022-05-07T12:37:17.317770Z",
     "iopub.status.idle": "2022-05-07T12:37:17.332769Z",
     "shell.execute_reply": "2022-05-07T12:37:17.332769Z",
     "shell.execute_reply.started": "2022-05-07T12:37:17.317770Z"
    },
    "tags": []
   },
   "outputs": [
    {
     "name": "stdout",
     "output_type": "stream",
     "text": [
      "TRAIN: [0, 1], TEST: [2, 3]\n",
      "TRAIN: [0, 1], TEST: [4, 5]\n"
     ]
    }
   ],
   "source": [
    "ovr_splitter = OvrSplitter([0, 1], [[2, 3], [4, 5]])\n",
    "\n",
    "for train_index, test_index in ovr_splitter.split(X, y):\n",
    "    print(f'TRAIN: {train_index}, TEST: {test_index}')"
   ]
  },
  {
   "cell_type": "markdown",
   "metadata": {},
   "source": [
    "## K-fold cross validation example"
   ]
  },
  {
   "cell_type": "markdown",
   "metadata": {},
   "source": [
    "### Data"
   ]
  },
  {
   "cell_type": "code",
   "execution_count": 18,
   "metadata": {
    "execution": {
     "iopub.execute_input": "2022-05-07T12:37:17.333770Z",
     "iopub.status.busy": "2022-05-07T12:37:17.333770Z",
     "iopub.status.idle": "2022-05-07T12:37:17.380306Z",
     "shell.execute_reply": "2022-05-07T12:37:17.380306Z",
     "shell.execute_reply.started": "2022-05-07T12:37:17.333770Z"
    }
   },
   "outputs": [],
   "source": [
    "import numpy as np\n",
    "from random import randint\n",
    "from sklearn.datasets import make_classification\n",
    "from sklearn.model_selection import StratifiedShuffleSplit\n",
    "from collections import namedtuple\n",
    "\n",
    "def get_data(n_features=20, n_samples=2000, n_missing=100):\n",
    "    def generate_coordinates(m, n):\n",
    "        seen = set()\n",
    "\n",
    "        x, y = randint(0, m - 1), randint(0, n - 1)\n",
    "\n",
    "        while True:\n",
    "            seen.add((x, y))\n",
    "            yield (x, y)\n",
    "            x, y = randint(0, m - 1), randint(0, n - 1)\n",
    "            while (x, y) in seen:\n",
    "                x, y = randint(0, m - 1), randint(0, n - 1)\n",
    "                \n",
    "    def make_missing(X):\n",
    "        coords = generate_coordinates(n_samples, n_features)\n",
    "    \n",
    "        for _ in range(n_missing):\n",
    "            i, j = next(coords)\n",
    "            X[i][j] = np.nan\n",
    "    \n",
    "    X, y = make_classification(**{\n",
    "        'n_samples': n_samples, \n",
    "        'n_features': n_features, \n",
    "        'n_informative': 2, \n",
    "        'n_redundant': 2, \n",
    "        'n_repeated': 0, \n",
    "        'n_classes': 2, \n",
    "        'n_clusters_per_class': 2, \n",
    "        'random_state': 37\n",
    "    })\n",
    "    \n",
    "    make_missing(X)\n",
    "    return X, y\n",
    "\n",
    "np.random.seed(37)\n",
    "\n",
    "X, y = get_data()"
   ]
  },
  {
   "cell_type": "markdown",
   "metadata": {},
   "source": [
    "### Pipeline"
   ]
  },
  {
   "cell_type": "code",
   "execution_count": 19,
   "metadata": {
    "execution": {
     "iopub.execute_input": "2022-05-07T12:37:17.381306Z",
     "iopub.status.busy": "2022-05-07T12:37:17.381306Z",
     "iopub.status.idle": "2022-05-07T12:37:17.476305Z",
     "shell.execute_reply": "2022-05-07T12:37:17.476305Z",
     "shell.execute_reply.started": "2022-05-07T12:37:17.381306Z"
    }
   },
   "outputs": [],
   "source": [
    "from sklearn.pipeline import Pipeline\n",
    "from sklearn.preprocessing import StandardScaler\n",
    "from sklearn.decomposition import PCA\n",
    "from sklearn.linear_model import LogisticRegression\n",
    "from sklearn.ensemble import RandomForestClassifier\n",
    "from sklearn.experimental import enable_iterative_imputer\n",
    "from sklearn.impute import IterativeImputer\n",
    "from sklearn.metrics import roc_auc_score, average_precision_score\n",
    "\n",
    "def get_rf_pipeline():\n",
    "    imputer = IterativeImputer(missing_values=np.nan, random_state=37)\n",
    "    scaler = StandardScaler()\n",
    "    pca = PCA(n_components=3, random_state=37)\n",
    "    rf = RandomForestClassifier(n_estimators=100)\n",
    "\n",
    "    pipeline = Pipeline([\n",
    "        ('imputer', imputer),\n",
    "        ('scaler', scaler), \n",
    "        ('pca', pca),\n",
    "        ('rf', rf)\n",
    "    ])\n",
    "    \n",
    "    return pipeline\n",
    "\n",
    "def get_lr_pipeline():\n",
    "    imputer = IterativeImputer(missing_values=np.nan, random_state=37)\n",
    "    scaler = StandardScaler()\n",
    "    lr = LogisticRegression(penalty='l1', solver='liblinear')\n",
    "\n",
    "    pipeline = Pipeline([\n",
    "        ('imputer', imputer),\n",
    "        ('scaler', scaler), \n",
    "        ('lr', lr)\n",
    "    ])\n",
    "    \n",
    "    return pipeline"
   ]
  },
  {
   "cell_type": "markdown",
   "metadata": {},
   "source": [
    "### Validation"
   ]
  },
  {
   "cell_type": "code",
   "execution_count": 20,
   "metadata": {
    "execution": {
     "iopub.execute_input": "2022-05-07T12:37:17.477305Z",
     "iopub.status.busy": "2022-05-07T12:37:17.477305Z",
     "iopub.status.idle": "2022-05-07T12:37:22.956172Z",
     "shell.execute_reply": "2022-05-07T12:37:22.956172Z",
     "shell.execute_reply.started": "2022-05-07T12:37:17.477305Z"
    }
   },
   "outputs": [
    {
     "data": {
      "text/html": [
       "<div>\n",
       "<style scoped>\n",
       "    .dataframe tbody tr th:only-of-type {\n",
       "        vertical-align: middle;\n",
       "    }\n",
       "\n",
       "    .dataframe tbody tr th {\n",
       "        vertical-align: top;\n",
       "    }\n",
       "\n",
       "    .dataframe thead th {\n",
       "        text-align: right;\n",
       "    }\n",
       "</style>\n",
       "<table border=\"1\" class=\"dataframe\">\n",
       "  <thead>\n",
       "    <tr style=\"text-align: right;\">\n",
       "      <th></th>\n",
       "      <th>rf_roc</th>\n",
       "      <th>lr_roc</th>\n",
       "      <th>rf_pr</th>\n",
       "      <th>lr_pr</th>\n",
       "    </tr>\n",
       "  </thead>\n",
       "  <tbody>\n",
       "    <tr>\n",
       "      <th>0</th>\n",
       "      <td>0.950821</td>\n",
       "      <td>0.947516</td>\n",
       "      <td>0.942587</td>\n",
       "      <td>0.908969</td>\n",
       "    </tr>\n",
       "    <tr>\n",
       "      <th>1</th>\n",
       "      <td>0.961735</td>\n",
       "      <td>0.963085</td>\n",
       "      <td>0.944504</td>\n",
       "      <td>0.939772</td>\n",
       "    </tr>\n",
       "    <tr>\n",
       "      <th>2</th>\n",
       "      <td>0.982785</td>\n",
       "      <td>0.976779</td>\n",
       "      <td>0.983521</td>\n",
       "      <td>0.976502</td>\n",
       "    </tr>\n",
       "    <tr>\n",
       "      <th>3</th>\n",
       "      <td>0.962316</td>\n",
       "      <td>0.971975</td>\n",
       "      <td>0.948128</td>\n",
       "      <td>0.966669</td>\n",
       "    </tr>\n",
       "    <tr>\n",
       "      <th>4</th>\n",
       "      <td>0.975946</td>\n",
       "      <td>0.956924</td>\n",
       "      <td>0.981051</td>\n",
       "      <td>0.950014</td>\n",
       "    </tr>\n",
       "    <tr>\n",
       "      <th>5</th>\n",
       "      <td>0.964668</td>\n",
       "      <td>0.971174</td>\n",
       "      <td>0.962890</td>\n",
       "      <td>0.976565</td>\n",
       "    </tr>\n",
       "    <tr>\n",
       "      <th>6</th>\n",
       "      <td>0.971955</td>\n",
       "      <td>0.969451</td>\n",
       "      <td>0.938301</td>\n",
       "      <td>0.944873</td>\n",
       "    </tr>\n",
       "    <tr>\n",
       "      <th>7</th>\n",
       "      <td>0.964643</td>\n",
       "      <td>0.955729</td>\n",
       "      <td>0.972513</td>\n",
       "      <td>0.944792</td>\n",
       "    </tr>\n",
       "    <tr>\n",
       "      <th>8</th>\n",
       "      <td>0.992299</td>\n",
       "      <td>0.990599</td>\n",
       "      <td>0.994892</td>\n",
       "      <td>0.990050</td>\n",
       "    </tr>\n",
       "    <tr>\n",
       "      <th>9</th>\n",
       "      <td>0.940694</td>\n",
       "      <td>0.940994</td>\n",
       "      <td>0.943322</td>\n",
       "      <td>0.927838</td>\n",
       "    </tr>\n",
       "  </tbody>\n",
       "</table>\n",
       "</div>"
      ],
      "text/plain": [
       "     rf_roc    lr_roc     rf_pr     lr_pr\n",
       "0  0.950821  0.947516  0.942587  0.908969\n",
       "1  0.961735  0.963085  0.944504  0.939772\n",
       "2  0.982785  0.976779  0.983521  0.976502\n",
       "3  0.962316  0.971975  0.948128  0.966669\n",
       "4  0.975946  0.956924  0.981051  0.950014\n",
       "5  0.964668  0.971174  0.962890  0.976565\n",
       "6  0.971955  0.969451  0.938301  0.944873\n",
       "7  0.964643  0.955729  0.972513  0.944792\n",
       "8  0.992299  0.990599  0.994892  0.990050\n",
       "9  0.940694  0.940994  0.943322  0.927838"
      ]
     },
     "execution_count": 20,
     "metadata": {},
     "output_type": "execute_result"
    }
   ],
   "source": [
    "import pandas as pd\n",
    "\n",
    "def do_validation(train_index, test_index, X, y):\n",
    "    X_train, X_test = X[train_index], X[test_index]\n",
    "    y_train, y_test = y[train_index], y[test_index]\n",
    "    \n",
    "    rf = get_rf_pipeline()\n",
    "    rf.fit(X_train, y_train)\n",
    "    \n",
    "    y_preds = rf.predict_proba(X_test)[:,1]\n",
    "    \n",
    "    rf_roc, rf_pr = roc_auc_score(y_test, y_preds), average_precision_score(y_test, y_preds)\n",
    "\n",
    "    lr = get_lr_pipeline()\n",
    "    lr.fit(X_train, y_train)\n",
    "    \n",
    "    y_preds = lr.predict_proba(X_test)[:,1]\n",
    "    \n",
    "    lr_roc, lr_pr = roc_auc_score(y_test, y_preds), average_precision_score(y_test, y_preds)\n",
    "    \n",
    "    return rf_roc, lr_roc, rf_pr, lr_pr\n",
    "\n",
    "kf = KFold(n_splits=10, shuffle=True, random_state=37)\n",
    "\n",
    "results = [do_validation(train_index, test_index, X, y) \n",
    "           for train_index, test_index in kf.split(X, y)]\n",
    "df = pd.DataFrame(results, columns=['rf_roc', 'lr_roc', 'rf_pr', 'lr_pr'])\n",
    "df"
   ]
  },
  {
   "cell_type": "code",
   "execution_count": 21,
   "metadata": {
    "execution": {
     "iopub.execute_input": "2022-05-07T12:37:22.957173Z",
     "iopub.status.busy": "2022-05-07T12:37:22.957173Z",
     "iopub.status.idle": "2022-05-07T12:37:22.972656Z",
     "shell.execute_reply": "2022-05-07T12:37:22.971810Z",
     "shell.execute_reply.started": "2022-05-07T12:37:22.957173Z"
    },
    "tags": []
   },
   "outputs": [
    {
     "data": {
      "text/plain": [
       "rf_roc    0.966786\n",
       "lr_roc    0.964423\n",
       "rf_pr     0.961171\n",
       "lr_pr     0.952604\n",
       "dtype: float64"
      ]
     },
     "execution_count": 21,
     "metadata": {},
     "output_type": "execute_result"
    }
   ],
   "source": [
    "df.mean()"
   ]
  }
 ],
 "metadata": {
  "kernelspec": {
   "display_name": "Python 3",
   "language": "python",
   "name": "python3"
  },
  "language_info": {
   "codemirror_mode": {
    "name": "ipython",
    "version": 3
   },
   "file_extension": ".py",
   "mimetype": "text/x-python",
   "name": "python",
   "nbconvert_exporter": "python",
   "pygments_lexer": "ipython3",
   "version": "3.8.5"
  },
  "widgets": {
   "application/vnd.jupyter.widget-state+json": {
    "state": {},
    "version_major": 2,
    "version_minor": 0
   }
  }
 },
 "nbformat": 4,
 "nbformat_minor": 4
}
