{
 "cells": [
  {
   "cell_type": "markdown",
   "metadata": {},
   "source": [
    "# Validation"
   ]
  },
  {
   "cell_type": "markdown",
   "metadata": {},
   "source": [
    "## Splitting data"
   ]
  },
  {
   "cell_type": "code",
   "execution_count": 1,
   "metadata": {},
   "outputs": [],
   "source": [
    "import numpy as np\n",
    "\n",
    "X = np.array([\n",
    "    [1, 2],\n",
    "    [3, 4],\n",
    "    [5, 6],\n",
    "    [7, 8],\n",
    "    [9, 9],\n",
    "    [7, 7]\n",
    "])\n",
    "\n",
    "y = np.array([0, 0, 0, 1, 1, 1])\n",
    "\n",
    "groups = np.array([0, 1, 2, 2, 1, 0])"
   ]
  },
  {
   "cell_type": "markdown",
   "metadata": {},
   "source": [
    "### Group k-fold"
   ]
  },
  {
   "cell_type": "code",
   "execution_count": 2,
   "metadata": {},
   "outputs": [
    {
     "name": "stdout",
     "output_type": "stream",
     "text": [
      "TRAIN: [0 1 4 5], TEST: [2 3]\n",
      "TRAIN: [0 2 3 5], TEST: [1 4]\n",
      "TRAIN: [1 2 3 4], TEST: [0 5]\n"
     ]
    }
   ],
   "source": [
    "from sklearn.model_selection import GroupKFold\n",
    "\n",
    "gkf = GroupKFold(n_splits=3)\n",
    "\n",
    "for train_index, test_index in gkf.split(X, y, groups):\n",
    "    print(f'TRAIN: {train_index}, TEST: {test_index}')"
   ]
  },
  {
   "cell_type": "markdown",
   "metadata": {},
   "source": [
    "### Group shuffle split"
   ]
  },
  {
   "cell_type": "code",
   "execution_count": 3,
   "metadata": {},
   "outputs": [
    {
     "name": "stdout",
     "output_type": "stream",
     "text": [
      "TRAIN: [0 1 4 5], TEST: [2 3]\n",
      "TRAIN: [0 1 4 5], TEST: [2 3]\n",
      "TRAIN: [0 2 3 5], TEST: [1 4]\n"
     ]
    }
   ],
   "source": [
    "from sklearn.model_selection import GroupShuffleSplit\n",
    "\n",
    "gss = GroupShuffleSplit(n_splits=3, random_state=37)\n",
    "\n",
    "for train_index, test_index in gss.split(X, y, groups):\n",
    "    print(f'TRAIN: {train_index}, TEST: {test_index}')"
   ]
  },
  {
   "cell_type": "markdown",
   "metadata": {},
   "source": [
    "### Leave one group out"
   ]
  },
  {
   "cell_type": "code",
   "execution_count": 4,
   "metadata": {},
   "outputs": [
    {
     "name": "stdout",
     "output_type": "stream",
     "text": [
      "TRAIN: [1 2 3 4], TEST: [0 5]\n",
      "TRAIN: [0 2 3 5], TEST: [1 4]\n",
      "TRAIN: [0 1 4 5], TEST: [2 3]\n"
     ]
    }
   ],
   "source": [
    "from sklearn.model_selection import LeaveOneGroupOut\n",
    "\n",
    "logo = LeaveOneGroupOut()\n",
    "\n",
    "for train_index, test_index in logo.split(X, y, groups):\n",
    "    print(f'TRAIN: {train_index}, TEST: {test_index}')"
   ]
  },
  {
   "cell_type": "markdown",
   "metadata": {},
   "source": [
    "### Leave p-groups out"
   ]
  },
  {
   "cell_type": "code",
   "execution_count": 5,
   "metadata": {},
   "outputs": [
    {
     "name": "stdout",
     "output_type": "stream",
     "text": [
      "TRAIN: [2 3], TEST: [0 1 4 5]\n",
      "TRAIN: [1 4], TEST: [0 2 3 5]\n",
      "TRAIN: [0 5], TEST: [1 2 3 4]\n"
     ]
    }
   ],
   "source": [
    "from sklearn.model_selection import LeavePGroupsOut\n",
    "\n",
    "lpgo = LeavePGroupsOut(n_groups=2)\n",
    "\n",
    "for train_index, test_index in lpgo.split(X, y, groups):\n",
    "    print(f'TRAIN: {train_index}, TEST: {test_index}')"
   ]
  },
  {
   "cell_type": "markdown",
   "metadata": {},
   "source": [
    "### Leave one out"
   ]
  },
  {
   "cell_type": "code",
   "execution_count": 6,
   "metadata": {},
   "outputs": [
    {
     "name": "stdout",
     "output_type": "stream",
     "text": [
      "TRAIN: [1 2 3 4 5], TEST: [0]\n",
      "TRAIN: [0 2 3 4 5], TEST: [1]\n",
      "TRAIN: [0 1 3 4 5], TEST: [2]\n",
      "TRAIN: [0 1 2 4 5], TEST: [3]\n",
      "TRAIN: [0 1 2 3 5], TEST: [4]\n",
      "TRAIN: [0 1 2 3 4], TEST: [5]\n"
     ]
    }
   ],
   "source": [
    "from sklearn.model_selection import LeaveOneOut\n",
    "\n",
    "loo = LeaveOneOut()\n",
    "\n",
    "for train_index, test_index in loo.split(X, y):\n",
    "    print(f'TRAIN: {train_index}, TEST: {test_index}')"
   ]
  },
  {
   "cell_type": "markdown",
   "metadata": {},
   "source": [
    "### Leave p-out"
   ]
  },
  {
   "cell_type": "code",
   "execution_count": 7,
   "metadata": {},
   "outputs": [
    {
     "name": "stdout",
     "output_type": "stream",
     "text": [
      "TRAIN: [3 4 5], TEST: [0 1 2]\n",
      "TRAIN: [2 4 5], TEST: [0 1 3]\n",
      "TRAIN: [2 3 5], TEST: [0 1 4]\n",
      "TRAIN: [2 3 4], TEST: [0 1 5]\n",
      "TRAIN: [1 4 5], TEST: [0 2 3]\n",
      "TRAIN: [1 3 5], TEST: [0 2 4]\n",
      "TRAIN: [1 3 4], TEST: [0 2 5]\n",
      "TRAIN: [1 2 5], TEST: [0 3 4]\n",
      "TRAIN: [1 2 4], TEST: [0 3 5]\n",
      "TRAIN: [1 2 3], TEST: [0 4 5]\n",
      "TRAIN: [0 4 5], TEST: [1 2 3]\n",
      "TRAIN: [0 3 5], TEST: [1 2 4]\n",
      "TRAIN: [0 3 4], TEST: [1 2 5]\n",
      "TRAIN: [0 2 5], TEST: [1 3 4]\n",
      "TRAIN: [0 2 4], TEST: [1 3 5]\n",
      "TRAIN: [0 2 3], TEST: [1 4 5]\n",
      "TRAIN: [0 1 5], TEST: [2 3 4]\n",
      "TRAIN: [0 1 4], TEST: [2 3 5]\n",
      "TRAIN: [0 1 3], TEST: [2 4 5]\n",
      "TRAIN: [0 1 2], TEST: [3 4 5]\n"
     ]
    }
   ],
   "source": [
    "from sklearn.model_selection import LeavePOut\n",
    "\n",
    "lpo = LeavePOut(p=3)\n",
    "\n",
    "for train_index, test_index in lpo.split(X, y):\n",
    "    print(f'TRAIN: {train_index}, TEST: {test_index}')"
   ]
  },
  {
   "cell_type": "markdown",
   "metadata": {},
   "source": [
    "### K-fold"
   ]
  },
  {
   "cell_type": "code",
   "execution_count": 8,
   "metadata": {},
   "outputs": [
    {
     "name": "stdout",
     "output_type": "stream",
     "text": [
      "TRAIN: [3 4 5], TEST: [0 1 2]\n",
      "TRAIN: [0 1 2], TEST: [3 4 5]\n"
     ]
    }
   ],
   "source": [
    "from sklearn.model_selection import KFold\n",
    "\n",
    "kf = KFold(n_splits=2, random_state=37)\n",
    "\n",
    "for train_index, test_index in kf.split(X, y):\n",
    "    print(f'TRAIN: {train_index}, TEST: {test_index}')"
   ]
  },
  {
   "cell_type": "markdown",
   "metadata": {},
   "source": [
    "### Stratified k-fold"
   ]
  },
  {
   "cell_type": "code",
   "execution_count": 9,
   "metadata": {},
   "outputs": [
    {
     "name": "stdout",
     "output_type": "stream",
     "text": [
      "TRAIN: [2 5], TEST: [0 1 3 4]\n",
      "TRAIN: [0 1 3 4], TEST: [2 5]\n"
     ]
    }
   ],
   "source": [
    "from sklearn.model_selection import StratifiedKFold\n",
    "\n",
    "skf = StratifiedKFold(n_splits=2, random_state=37)\n",
    "\n",
    "for train_index, test_index in skf.split(X, y):\n",
    "    print(f'TRAIN: {train_index}, TEST: {test_index}')"
   ]
  },
  {
   "cell_type": "markdown",
   "metadata": {},
   "source": [
    "### Shuffle split"
   ]
  },
  {
   "cell_type": "code",
   "execution_count": 10,
   "metadata": {},
   "outputs": [
    {
     "name": "stdout",
     "output_type": "stream",
     "text": [
      "TRAIN: [1 0 5 4 3], TEST: [2]\n",
      "TRAIN: [1 5 4 3 2], TEST: [0]\n"
     ]
    }
   ],
   "source": [
    "from sklearn.model_selection import ShuffleSplit\n",
    "\n",
    "ss = ShuffleSplit(n_splits=2, random_state=37)\n",
    "\n",
    "for train_index, test_index in ss.split(X, y):\n",
    "    print(f'TRAIN: {train_index}, TEST: {test_index}')"
   ]
  },
  {
   "cell_type": "markdown",
   "metadata": {},
   "source": [
    "### Stratified shuffle split"
   ]
  },
  {
   "cell_type": "code",
   "execution_count": 11,
   "metadata": {},
   "outputs": [
    {
     "name": "stdout",
     "output_type": "stream",
     "text": [
      "TRAIN: [1 0 5 4 3], TEST: [2]\n",
      "TRAIN: [1 5 4 3 2], TEST: [0]\n"
     ]
    }
   ],
   "source": [
    "from sklearn.model_selection import StratifiedShuffleSplit\n",
    "\n",
    "sss = ShuffleSplit(n_splits=2, random_state=37)\n",
    "\n",
    "for train_index, test_index in sss.split(X, y):\n",
    "    print(f'TRAIN: {train_index}, TEST: {test_index}')"
   ]
  },
  {
   "cell_type": "markdown",
   "metadata": {},
   "source": [
    "## K-fold cross validation example"
   ]
  },
  {
   "cell_type": "markdown",
   "metadata": {},
   "source": [
    "### Data"
   ]
  },
  {
   "cell_type": "code",
   "execution_count": 12,
   "metadata": {},
   "outputs": [],
   "source": [
    "import numpy as np\n",
    "from random import randint\n",
    "from sklearn.datasets import make_classification\n",
    "from sklearn.model_selection import StratifiedShuffleSplit\n",
    "from collections import namedtuple\n",
    "\n",
    "def get_data(n_features=20, n_samples=2000, n_missing=100):\n",
    "    def generate_coordinates(m, n):\n",
    "        seen = set()\n",
    "\n",
    "        x, y = randint(0, m - 1), randint(0, n - 1)\n",
    "\n",
    "        while True:\n",
    "            seen.add((x, y))\n",
    "            yield (x, y)\n",
    "            x, y = randint(0, m - 1), randint(0, n - 1)\n",
    "            while (x, y) in seen:\n",
    "                x, y = randint(0, m - 1), randint(0, n - 1)\n",
    "                \n",
    "    def make_missing(X):\n",
    "        coords = generate_coordinates(n_samples, n_features)\n",
    "    \n",
    "        for _ in range(n_missing):\n",
    "            i, j = next(coords)\n",
    "            X[i][j] = np.nan\n",
    "    \n",
    "    X, y = make_classification(**{\n",
    "        'n_samples': n_samples, \n",
    "        'n_features': n_features, \n",
    "        'n_informative': 2, \n",
    "        'n_redundant': 2, \n",
    "        'n_repeated': 0, \n",
    "        'n_classes': 2, \n",
    "        'n_clusters_per_class': 2, \n",
    "        'random_state': 37\n",
    "    })\n",
    "    \n",
    "    make_missing(X)\n",
    "    return X, y\n",
    "\n",
    "np.random.seed(37)\n",
    "\n",
    "X, y = get_data()"
   ]
  },
  {
   "cell_type": "markdown",
   "metadata": {},
   "source": [
    "### Pipeline"
   ]
  },
  {
   "cell_type": "code",
   "execution_count": 13,
   "metadata": {},
   "outputs": [],
   "source": [
    "from sklearn.pipeline import Pipeline\n",
    "from sklearn.preprocessing import StandardScaler\n",
    "from sklearn.decomposition import PCA\n",
    "from sklearn.linear_model import LogisticRegression\n",
    "from sklearn.ensemble import RandomForestClassifier\n",
    "from sklearn.experimental import enable_iterative_imputer\n",
    "from sklearn.impute import IterativeImputer\n",
    "from sklearn.metrics import roc_auc_score, average_precision_score\n",
    "\n",
    "def get_rf_pipeline():\n",
    "    imputer = IterativeImputer(missing_values=np.nan, random_state=37)\n",
    "    scaler = StandardScaler()\n",
    "    pca = PCA(n_components=3, random_state=37)\n",
    "    rf = RandomForestClassifier(n_estimators=100)\n",
    "\n",
    "    pipeline = Pipeline([\n",
    "        ('imputer', imputer),\n",
    "        ('scaler', scaler), \n",
    "        ('pca', pca),\n",
    "        ('rf', rf)\n",
    "    ])\n",
    "    \n",
    "    return pipeline\n",
    "\n",
    "def get_lr_pipeline():\n",
    "    imputer = IterativeImputer(missing_values=np.nan, random_state=37)\n",
    "    scaler = StandardScaler()\n",
    "    lr = LogisticRegression(penalty='l1', solver='liblinear')\n",
    "\n",
    "    pipeline = Pipeline([\n",
    "        ('imputer', imputer),\n",
    "        ('scaler', scaler), \n",
    "        ('lr', lr)\n",
    "    ])\n",
    "    \n",
    "    return pipeline"
   ]
  },
  {
   "cell_type": "markdown",
   "metadata": {},
   "source": [
    "### Validation"
   ]
  },
  {
   "cell_type": "code",
   "execution_count": 14,
   "metadata": {},
   "outputs": [
    {
     "data": {
      "text/html": [
       "<div>\n",
       "<style scoped>\n",
       "    .dataframe tbody tr th:only-of-type {\n",
       "        vertical-align: middle;\n",
       "    }\n",
       "\n",
       "    .dataframe tbody tr th {\n",
       "        vertical-align: top;\n",
       "    }\n",
       "\n",
       "    .dataframe thead th {\n",
       "        text-align: right;\n",
       "    }\n",
       "</style>\n",
       "<table border=\"1\" class=\"dataframe\">\n",
       "  <thead>\n",
       "    <tr style=\"text-align: right;\">\n",
       "      <th></th>\n",
       "      <th>rf_roc</th>\n",
       "      <th>lr_roc</th>\n",
       "      <th>rf_pr</th>\n",
       "      <th>lr_pr</th>\n",
       "    </tr>\n",
       "  </thead>\n",
       "  <tbody>\n",
       "    <tr>\n",
       "      <th>0</th>\n",
       "      <td>0.975653</td>\n",
       "      <td>0.968142</td>\n",
       "      <td>0.969775</td>\n",
       "      <td>0.956169</td>\n",
       "    </tr>\n",
       "    <tr>\n",
       "      <th>1</th>\n",
       "      <td>0.957096</td>\n",
       "      <td>0.956496</td>\n",
       "      <td>0.963597</td>\n",
       "      <td>0.951026</td>\n",
       "    </tr>\n",
       "    <tr>\n",
       "      <th>2</th>\n",
       "      <td>0.967997</td>\n",
       "      <td>0.975598</td>\n",
       "      <td>0.961156</td>\n",
       "      <td>0.973016</td>\n",
       "    </tr>\n",
       "    <tr>\n",
       "      <th>3</th>\n",
       "      <td>0.970638</td>\n",
       "      <td>0.965386</td>\n",
       "      <td>0.966068</td>\n",
       "      <td>0.953321</td>\n",
       "    </tr>\n",
       "    <tr>\n",
       "      <th>4</th>\n",
       "      <td>0.944754</td>\n",
       "      <td>0.940645</td>\n",
       "      <td>0.921256</td>\n",
       "      <td>0.916237</td>\n",
       "    </tr>\n",
       "    <tr>\n",
       "      <th>5</th>\n",
       "      <td>0.986750</td>\n",
       "      <td>0.988700</td>\n",
       "      <td>0.972489</td>\n",
       "      <td>0.986370</td>\n",
       "    </tr>\n",
       "    <tr>\n",
       "      <th>6</th>\n",
       "      <td>0.979677</td>\n",
       "      <td>0.976014</td>\n",
       "      <td>0.968161</td>\n",
       "      <td>0.965600</td>\n",
       "    </tr>\n",
       "    <tr>\n",
       "      <th>7</th>\n",
       "      <td>0.952607</td>\n",
       "      <td>0.948253</td>\n",
       "      <td>0.946277</td>\n",
       "      <td>0.924910</td>\n",
       "    </tr>\n",
       "    <tr>\n",
       "      <th>8</th>\n",
       "      <td>0.952278</td>\n",
       "      <td>0.971598</td>\n",
       "      <td>0.949991</td>\n",
       "      <td>0.967510</td>\n",
       "    </tr>\n",
       "    <tr>\n",
       "      <th>9</th>\n",
       "      <td>0.967120</td>\n",
       "      <td>0.954159</td>\n",
       "      <td>0.949000</td>\n",
       "      <td>0.923435</td>\n",
       "    </tr>\n",
       "  </tbody>\n",
       "</table>\n",
       "</div>"
      ],
      "text/plain": [
       "     rf_roc    lr_roc     rf_pr     lr_pr\n",
       "0  0.975653  0.968142  0.969775  0.956169\n",
       "1  0.957096  0.956496  0.963597  0.951026\n",
       "2  0.967997  0.975598  0.961156  0.973016\n",
       "3  0.970638  0.965386  0.966068  0.953321\n",
       "4  0.944754  0.940645  0.921256  0.916237\n",
       "5  0.986750  0.988700  0.972489  0.986370\n",
       "6  0.979677  0.976014  0.968161  0.965600\n",
       "7  0.952607  0.948253  0.946277  0.924910\n",
       "8  0.952278  0.971598  0.949991  0.967510\n",
       "9  0.967120  0.954159  0.949000  0.923435"
      ]
     },
     "execution_count": 14,
     "metadata": {},
     "output_type": "execute_result"
    }
   ],
   "source": [
    "import pandas as pd\n",
    "\n",
    "def do_validation(train_index, test_index, X, y):\n",
    "    X_train, X_test = X[train_index], X[test_index]\n",
    "    y_train, y_test = y[train_index], y[test_index]\n",
    "    \n",
    "    rf = get_rf_pipeline()\n",
    "    rf.fit(X_train, y_train)\n",
    "    \n",
    "    y_preds = rf.predict_proba(X_test)[:,1]\n",
    "    \n",
    "    rf_roc, rf_pr = roc_auc_score(y_test, y_preds), average_precision_score(y_test, y_preds)\n",
    "\n",
    "    lr = get_lr_pipeline()\n",
    "    lr.fit(X_train, y_train)\n",
    "    \n",
    "    y_preds = lr.predict_proba(X_test)[:,1]\n",
    "    \n",
    "    lr_roc, lr_pr = roc_auc_score(y_test, y_preds), average_precision_score(y_test, y_preds)\n",
    "    \n",
    "    return rf_roc, lr_roc, rf_pr, lr_pr\n",
    "\n",
    "kf = KFold(n_splits=10, random_state=37)\n",
    "\n",
    "results = [do_validation(train_index, test_index, X, y) \n",
    "           for train_index, test_index in kf.split(X, y)]\n",
    "df = pd.DataFrame(results, columns=['rf_roc', 'lr_roc', 'rf_pr', 'lr_pr'])\n",
    "df"
   ]
  },
  {
   "cell_type": "code",
   "execution_count": 15,
   "metadata": {},
   "outputs": [
    {
     "data": {
      "text/plain": [
       "rf_roc    0.965457\n",
       "lr_roc    0.964499\n",
       "rf_pr     0.956777\n",
       "lr_pr     0.951759\n",
       "dtype: float64"
      ]
     },
     "execution_count": 15,
     "metadata": {},
     "output_type": "execute_result"
    }
   ],
   "source": [
    "df.mean()"
   ]
  }
 ],
 "metadata": {
  "kernelspec": {
   "display_name": "Python 3",
   "language": "python",
   "name": "python3"
  },
  "language_info": {
   "codemirror_mode": {
    "name": "ipython",
    "version": 3
   },
   "file_extension": ".py",
   "mimetype": "text/x-python",
   "name": "python",
   "nbconvert_exporter": "python",
   "pygments_lexer": "ipython3",
   "version": "3.7.3"
  }
 },
 "nbformat": 4,
 "nbformat_minor": 4
}
