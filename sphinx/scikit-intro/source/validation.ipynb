{
 "cells": [
  {
   "cell_type": "markdown",
   "metadata": {},
   "source": [
    "# Validation"
   ]
  },
  {
   "cell_type": "markdown",
   "metadata": {},
   "source": [
    "## Splitting data"
   ]
  },
  {
   "cell_type": "code",
   "execution_count": 1,
   "metadata": {
    "execution": {
     "iopub.execute_input": "2022-05-05T19:44:06.800322Z",
     "iopub.status.busy": "2022-05-05T19:44:06.800322Z",
     "iopub.status.idle": "2022-05-05T19:44:06.895321Z",
     "shell.execute_reply": "2022-05-05T19:44:06.895321Z",
     "shell.execute_reply.started": "2022-05-05T19:44:06.800322Z"
    }
   },
   "outputs": [],
   "source": [
    "import numpy as np\n",
    "\n",
    "X = np.array([\n",
    "    [1, 2],\n",
    "    [3, 4],\n",
    "    [5, 6],\n",
    "    [7, 8],\n",
    "    [9, 9],\n",
    "    [7, 7]\n",
    "])\n",
    "\n",
    "y = np.array([0, 0, 0, 1, 1, 1])\n",
    "\n",
    "groups = np.array([0, 1, 2, 2, 1, 0])"
   ]
  },
  {
   "cell_type": "markdown",
   "metadata": {},
   "source": [
    "### Group k-fold"
   ]
  },
  {
   "cell_type": "code",
   "execution_count": 2,
   "metadata": {
    "execution": {
     "iopub.execute_input": "2022-05-05T19:44:06.896320Z",
     "iopub.status.busy": "2022-05-05T19:44:06.896320Z",
     "iopub.status.idle": "2022-05-05T19:44:07.292324Z",
     "shell.execute_reply": "2022-05-05T19:44:07.292324Z",
     "shell.execute_reply.started": "2022-05-05T19:44:06.896320Z"
    }
   },
   "outputs": [
    {
     "name": "stdout",
     "output_type": "stream",
     "text": [
      "TRAIN: [0 1 4 5], TEST: [2 3]\n",
      "TRAIN: [0 2 3 5], TEST: [1 4]\n",
      "TRAIN: [1 2 3 4], TEST: [0 5]\n"
     ]
    }
   ],
   "source": [
    "from sklearn.model_selection import GroupKFold\n",
    "\n",
    "gkf = GroupKFold(n_splits=3)\n",
    "\n",
    "for train_index, test_index in gkf.split(X, y, groups):\n",
    "    print(f'TRAIN: {train_index}, TEST: {test_index}')"
   ]
  },
  {
   "cell_type": "markdown",
   "metadata": {},
   "source": [
    "### Group shuffle split"
   ]
  },
  {
   "cell_type": "code",
   "execution_count": 3,
   "metadata": {
    "execution": {
     "iopub.execute_input": "2022-05-05T19:44:07.293324Z",
     "iopub.status.busy": "2022-05-05T19:44:07.293324Z",
     "iopub.status.idle": "2022-05-05T19:44:07.308321Z",
     "shell.execute_reply": "2022-05-05T19:44:07.308321Z",
     "shell.execute_reply.started": "2022-05-05T19:44:07.293324Z"
    }
   },
   "outputs": [
    {
     "name": "stdout",
     "output_type": "stream",
     "text": [
      "TRAIN: [0 1 4 5], TEST: [2 3]\n",
      "TRAIN: [0 1 4 5], TEST: [2 3]\n",
      "TRAIN: [0 2 3 5], TEST: [1 4]\n"
     ]
    }
   ],
   "source": [
    "from sklearn.model_selection import GroupShuffleSplit\n",
    "\n",
    "gss = GroupShuffleSplit(n_splits=3, random_state=37)\n",
    "\n",
    "for train_index, test_index in gss.split(X, y, groups):\n",
    "    print(f'TRAIN: {train_index}, TEST: {test_index}')"
   ]
  },
  {
   "cell_type": "markdown",
   "metadata": {},
   "source": [
    "### Leave one group out"
   ]
  },
  {
   "cell_type": "code",
   "execution_count": 4,
   "metadata": {
    "execution": {
     "iopub.execute_input": "2022-05-05T19:44:07.309321Z",
     "iopub.status.busy": "2022-05-05T19:44:07.309321Z",
     "iopub.status.idle": "2022-05-05T19:44:07.324322Z",
     "shell.execute_reply": "2022-05-05T19:44:07.324322Z",
     "shell.execute_reply.started": "2022-05-05T19:44:07.309321Z"
    }
   },
   "outputs": [
    {
     "name": "stdout",
     "output_type": "stream",
     "text": [
      "TRAIN: [1 2 3 4], TEST: [0 5]\n",
      "TRAIN: [0 2 3 5], TEST: [1 4]\n",
      "TRAIN: [0 1 4 5], TEST: [2 3]\n"
     ]
    }
   ],
   "source": [
    "from sklearn.model_selection import LeaveOneGroupOut\n",
    "\n",
    "logo = LeaveOneGroupOut()\n",
    "\n",
    "for train_index, test_index in logo.split(X, y, groups):\n",
    "    print(f'TRAIN: {train_index}, TEST: {test_index}')"
   ]
  },
  {
   "cell_type": "markdown",
   "metadata": {},
   "source": [
    "### Leave p-groups out"
   ]
  },
  {
   "cell_type": "code",
   "execution_count": 5,
   "metadata": {
    "execution": {
     "iopub.execute_input": "2022-05-05T19:44:07.325321Z",
     "iopub.status.busy": "2022-05-05T19:44:07.325321Z",
     "iopub.status.idle": "2022-05-05T19:44:07.340321Z",
     "shell.execute_reply": "2022-05-05T19:44:07.340321Z",
     "shell.execute_reply.started": "2022-05-05T19:44:07.325321Z"
    }
   },
   "outputs": [
    {
     "name": "stdout",
     "output_type": "stream",
     "text": [
      "TRAIN: [2 3], TEST: [0 1 4 5]\n",
      "TRAIN: [1 4], TEST: [0 2 3 5]\n",
      "TRAIN: [0 5], TEST: [1 2 3 4]\n"
     ]
    }
   ],
   "source": [
    "from sklearn.model_selection import LeavePGroupsOut\n",
    "\n",
    "lpgo = LeavePGroupsOut(n_groups=2)\n",
    "\n",
    "for train_index, test_index in lpgo.split(X, y, groups):\n",
    "    print(f'TRAIN: {train_index}, TEST: {test_index}')"
   ]
  },
  {
   "cell_type": "markdown",
   "metadata": {},
   "source": [
    "### Leave one out"
   ]
  },
  {
   "cell_type": "code",
   "execution_count": 6,
   "metadata": {
    "execution": {
     "iopub.execute_input": "2022-05-05T19:44:07.341321Z",
     "iopub.status.busy": "2022-05-05T19:44:07.341321Z",
     "iopub.status.idle": "2022-05-05T19:44:07.356321Z",
     "shell.execute_reply": "2022-05-05T19:44:07.356321Z",
     "shell.execute_reply.started": "2022-05-05T19:44:07.341321Z"
    }
   },
   "outputs": [
    {
     "name": "stdout",
     "output_type": "stream",
     "text": [
      "TRAIN: [1 2 3 4 5], TEST: [0]\n",
      "TRAIN: [0 2 3 4 5], TEST: [1]\n",
      "TRAIN: [0 1 3 4 5], TEST: [2]\n",
      "TRAIN: [0 1 2 4 5], TEST: [3]\n",
      "TRAIN: [0 1 2 3 5], TEST: [4]\n",
      "TRAIN: [0 1 2 3 4], TEST: [5]\n"
     ]
    }
   ],
   "source": [
    "from sklearn.model_selection import LeaveOneOut\n",
    "\n",
    "loo = LeaveOneOut()\n",
    "\n",
    "for train_index, test_index in loo.split(X, y):\n",
    "    print(f'TRAIN: {train_index}, TEST: {test_index}')"
   ]
  },
  {
   "cell_type": "markdown",
   "metadata": {},
   "source": [
    "### Leave p-out"
   ]
  },
  {
   "cell_type": "code",
   "execution_count": 7,
   "metadata": {
    "execution": {
     "iopub.execute_input": "2022-05-05T19:44:07.358323Z",
     "iopub.status.busy": "2022-05-05T19:44:07.358323Z",
     "iopub.status.idle": "2022-05-05T19:44:07.372322Z",
     "shell.execute_reply": "2022-05-05T19:44:07.372322Z",
     "shell.execute_reply.started": "2022-05-05T19:44:07.358323Z"
    }
   },
   "outputs": [
    {
     "name": "stdout",
     "output_type": "stream",
     "text": [
      "TRAIN: [3 4 5], TEST: [0 1 2]\n",
      "TRAIN: [2 4 5], TEST: [0 1 3]\n",
      "TRAIN: [2 3 5], TEST: [0 1 4]\n",
      "TRAIN: [2 3 4], TEST: [0 1 5]\n",
      "TRAIN: [1 4 5], TEST: [0 2 3]\n",
      "TRAIN: [1 3 5], TEST: [0 2 4]\n",
      "TRAIN: [1 3 4], TEST: [0 2 5]\n",
      "TRAIN: [1 2 5], TEST: [0 3 4]\n",
      "TRAIN: [1 2 4], TEST: [0 3 5]\n",
      "TRAIN: [1 2 3], TEST: [0 4 5]\n",
      "TRAIN: [0 4 5], TEST: [1 2 3]\n",
      "TRAIN: [0 3 5], TEST: [1 2 4]\n",
      "TRAIN: [0 3 4], TEST: [1 2 5]\n",
      "TRAIN: [0 2 5], TEST: [1 3 4]\n",
      "TRAIN: [0 2 4], TEST: [1 3 5]\n",
      "TRAIN: [0 2 3], TEST: [1 4 5]\n",
      "TRAIN: [0 1 5], TEST: [2 3 4]\n",
      "TRAIN: [0 1 4], TEST: [2 3 5]\n",
      "TRAIN: [0 1 3], TEST: [2 4 5]\n",
      "TRAIN: [0 1 2], TEST: [3 4 5]\n"
     ]
    }
   ],
   "source": [
    "from sklearn.model_selection import LeavePOut\n",
    "\n",
    "lpo = LeavePOut(p=3)\n",
    "\n",
    "for train_index, test_index in lpo.split(X, y):\n",
    "    print(f'TRAIN: {train_index}, TEST: {test_index}')"
   ]
  },
  {
   "cell_type": "markdown",
   "metadata": {},
   "source": [
    "### K-fold"
   ]
  },
  {
   "cell_type": "code",
   "execution_count": 8,
   "metadata": {
    "execution": {
     "iopub.execute_input": "2022-05-05T19:44:07.373321Z",
     "iopub.status.busy": "2022-05-05T19:44:07.373321Z",
     "iopub.status.idle": "2022-05-05T19:44:07.388321Z",
     "shell.execute_reply": "2022-05-05T19:44:07.388321Z",
     "shell.execute_reply.started": "2022-05-05T19:44:07.373321Z"
    },
    "tags": []
   },
   "outputs": [
    {
     "name": "stdout",
     "output_type": "stream",
     "text": [
      "TRAIN: [3 4 5], TEST: [0 1 2]\n",
      "TRAIN: [0 1 2], TEST: [3 4 5]\n"
     ]
    }
   ],
   "source": [
    "from sklearn.model_selection import KFold\n",
    "\n",
    "kf = KFold(n_splits=2, shuffle=True, random_state=37)\n",
    "\n",
    "for train_index, test_index in kf.split(X, y):\n",
    "    print(f'TRAIN: {train_index}, TEST: {test_index}')"
   ]
  },
  {
   "cell_type": "markdown",
   "metadata": {},
   "source": [
    "### Stratified k-fold"
   ]
  },
  {
   "cell_type": "code",
   "execution_count": 9,
   "metadata": {
    "execution": {
     "iopub.execute_input": "2022-05-05T19:44:07.389321Z",
     "iopub.status.busy": "2022-05-05T19:44:07.389321Z",
     "iopub.status.idle": "2022-05-05T19:44:07.404371Z",
     "shell.execute_reply": "2022-05-05T19:44:07.403370Z",
     "shell.execute_reply.started": "2022-05-05T19:44:07.389321Z"
    },
    "tags": []
   },
   "outputs": [
    {
     "name": "stdout",
     "output_type": "stream",
     "text": [
      "TRAIN: [0 3 4], TEST: [1 2 5]\n",
      "TRAIN: [1 2 5], TEST: [0 3 4]\n"
     ]
    }
   ],
   "source": [
    "from sklearn.model_selection import StratifiedKFold\n",
    "\n",
    "skf = StratifiedKFold(n_splits=2, shuffle=True, random_state=37)\n",
    "\n",
    "for train_index, test_index in skf.split(X, y):\n",
    "    print(f'TRAIN: {train_index}, TEST: {test_index}')"
   ]
  },
  {
   "cell_type": "markdown",
   "metadata": {},
   "source": [
    "### Shuffle split"
   ]
  },
  {
   "cell_type": "code",
   "execution_count": 10,
   "metadata": {
    "execution": {
     "iopub.execute_input": "2022-05-05T19:44:07.404371Z",
     "iopub.status.busy": "2022-05-05T19:44:07.404371Z",
     "iopub.status.idle": "2022-05-05T19:44:07.419371Z",
     "shell.execute_reply": "2022-05-05T19:44:07.419371Z",
     "shell.execute_reply.started": "2022-05-05T19:44:07.404371Z"
    }
   },
   "outputs": [
    {
     "name": "stdout",
     "output_type": "stream",
     "text": [
      "TRAIN: [1 0 5 4 3], TEST: [2]\n",
      "TRAIN: [1 5 4 3 2], TEST: [0]\n"
     ]
    }
   ],
   "source": [
    "from sklearn.model_selection import ShuffleSplit\n",
    "\n",
    "ss = ShuffleSplit(n_splits=2, random_state=37)\n",
    "\n",
    "for train_index, test_index in ss.split(X, y):\n",
    "    print(f'TRAIN: {train_index}, TEST: {test_index}')"
   ]
  },
  {
   "cell_type": "markdown",
   "metadata": {},
   "source": [
    "### Stratified shuffle split"
   ]
  },
  {
   "cell_type": "code",
   "execution_count": 11,
   "metadata": {
    "execution": {
     "iopub.execute_input": "2022-05-05T19:44:07.420371Z",
     "iopub.status.busy": "2022-05-05T19:44:07.420371Z",
     "iopub.status.idle": "2022-05-05T19:44:07.435371Z",
     "shell.execute_reply": "2022-05-05T19:44:07.435371Z",
     "shell.execute_reply.started": "2022-05-05T19:44:07.420371Z"
    }
   },
   "outputs": [
    {
     "name": "stdout",
     "output_type": "stream",
     "text": [
      "TRAIN: [1 0 5 4 3], TEST: [2]\n",
      "TRAIN: [1 5 4 3 2], TEST: [0]\n"
     ]
    }
   ],
   "source": [
    "from sklearn.model_selection import StratifiedShuffleSplit\n",
    "\n",
    "sss = ShuffleSplit(n_splits=2, random_state=37)\n",
    "\n",
    "for train_index, test_index in sss.split(X, y):\n",
    "    print(f'TRAIN: {train_index}, TEST: {test_index}')"
   ]
  },
  {
   "cell_type": "markdown",
   "metadata": {},
   "source": [
    "### Predefined split"
   ]
  },
  {
   "cell_type": "code",
   "execution_count": 12,
   "metadata": {
    "execution": {
     "iopub.execute_input": "2022-05-05T19:44:07.436371Z",
     "iopub.status.busy": "2022-05-05T19:44:07.436371Z",
     "iopub.status.idle": "2022-05-05T19:44:07.451370Z",
     "shell.execute_reply": "2022-05-05T19:44:07.451370Z",
     "shell.execute_reply.started": "2022-05-05T19:44:07.436371Z"
    },
    "tags": []
   },
   "outputs": [
    {
     "name": "stdout",
     "output_type": "stream",
     "text": [
      "TRAIN: [0 1 3 4], TEST: [2 5]\n",
      "TRAIN: [2 5], TEST: [0 1 3 4]\n"
     ]
    }
   ],
   "source": [
    "from sklearn.model_selection import PredefinedSplit\n",
    "\n",
    "test_fold = np.array([1, 1, 0, 1, 1, 0])\n",
    "\n",
    "ps = PredefinedSplit(test_fold)\n",
    "\n",
    "for train_index, test_index in ps.split(X, y):\n",
    "    print(f'TRAIN: {train_index}, TEST: {test_index}')"
   ]
  },
  {
   "cell_type": "code",
   "execution_count": 13,
   "metadata": {
    "execution": {
     "iopub.execute_input": "2022-05-05T19:44:07.452371Z",
     "iopub.status.busy": "2022-05-05T19:44:07.452371Z",
     "iopub.status.idle": "2022-05-05T19:44:07.466890Z",
     "shell.execute_reply": "2022-05-05T19:44:07.466890Z",
     "shell.execute_reply.started": "2022-05-05T19:44:07.452371Z"
    }
   },
   "outputs": [
    {
     "name": "stdout",
     "output_type": "stream",
     "text": [
      "TRAIN: [1 2 4 5], TEST: [0 3]\n",
      "TRAIN: [0 2 3 5], TEST: [1 4]\n",
      "TRAIN: [0 1 3 4], TEST: [2 5]\n"
     ]
    }
   ],
   "source": [
    "test_fold = np.array([0, 1, 2, 0, 1, 2])\n",
    "\n",
    "ps = PredefinedSplit(test_fold)\n",
    "\n",
    "for train_index, test_index in ps.split(X, y):\n",
    "    print(f'TRAIN: {train_index}, TEST: {test_index}')"
   ]
  },
  {
   "cell_type": "markdown",
   "metadata": {},
   "source": [
    "## K-fold cross validation example"
   ]
  },
  {
   "cell_type": "markdown",
   "metadata": {},
   "source": [
    "### Data"
   ]
  },
  {
   "cell_type": "code",
   "execution_count": 14,
   "metadata": {
    "execution": {
     "iopub.execute_input": "2022-05-05T19:44:07.467891Z",
     "iopub.status.busy": "2022-05-05T19:44:07.467891Z",
     "iopub.status.idle": "2022-05-05T19:44:07.546910Z",
     "shell.execute_reply": "2022-05-05T19:44:07.546910Z",
     "shell.execute_reply.started": "2022-05-05T19:44:07.467891Z"
    }
   },
   "outputs": [],
   "source": [
    "import numpy as np\n",
    "from random import randint\n",
    "from sklearn.datasets import make_classification\n",
    "from sklearn.model_selection import StratifiedShuffleSplit\n",
    "from collections import namedtuple\n",
    "\n",
    "def get_data(n_features=20, n_samples=2000, n_missing=100):\n",
    "    def generate_coordinates(m, n):\n",
    "        seen = set()\n",
    "\n",
    "        x, y = randint(0, m - 1), randint(0, n - 1)\n",
    "\n",
    "        while True:\n",
    "            seen.add((x, y))\n",
    "            yield (x, y)\n",
    "            x, y = randint(0, m - 1), randint(0, n - 1)\n",
    "            while (x, y) in seen:\n",
    "                x, y = randint(0, m - 1), randint(0, n - 1)\n",
    "                \n",
    "    def make_missing(X):\n",
    "        coords = generate_coordinates(n_samples, n_features)\n",
    "    \n",
    "        for _ in range(n_missing):\n",
    "            i, j = next(coords)\n",
    "            X[i][j] = np.nan\n",
    "    \n",
    "    X, y = make_classification(**{\n",
    "        'n_samples': n_samples, \n",
    "        'n_features': n_features, \n",
    "        'n_informative': 2, \n",
    "        'n_redundant': 2, \n",
    "        'n_repeated': 0, \n",
    "        'n_classes': 2, \n",
    "        'n_clusters_per_class': 2, \n",
    "        'random_state': 37\n",
    "    })\n",
    "    \n",
    "    make_missing(X)\n",
    "    return X, y\n",
    "\n",
    "np.random.seed(37)\n",
    "\n",
    "X, y = get_data()"
   ]
  },
  {
   "cell_type": "markdown",
   "metadata": {},
   "source": [
    "### Pipeline"
   ]
  },
  {
   "cell_type": "code",
   "execution_count": 15,
   "metadata": {
    "execution": {
     "iopub.execute_input": "2022-05-05T19:44:07.547912Z",
     "iopub.status.busy": "2022-05-05T19:44:07.547912Z",
     "iopub.status.idle": "2022-05-05T19:44:07.640911Z",
     "shell.execute_reply": "2022-05-05T19:44:07.640911Z",
     "shell.execute_reply.started": "2022-05-05T19:44:07.547912Z"
    }
   },
   "outputs": [],
   "source": [
    "from sklearn.pipeline import Pipeline\n",
    "from sklearn.preprocessing import StandardScaler\n",
    "from sklearn.decomposition import PCA\n",
    "from sklearn.linear_model import LogisticRegression\n",
    "from sklearn.ensemble import RandomForestClassifier\n",
    "from sklearn.experimental import enable_iterative_imputer\n",
    "from sklearn.impute import IterativeImputer\n",
    "from sklearn.metrics import roc_auc_score, average_precision_score\n",
    "\n",
    "def get_rf_pipeline():\n",
    "    imputer = IterativeImputer(missing_values=np.nan, random_state=37)\n",
    "    scaler = StandardScaler()\n",
    "    pca = PCA(n_components=3, random_state=37)\n",
    "    rf = RandomForestClassifier(n_estimators=100)\n",
    "\n",
    "    pipeline = Pipeline([\n",
    "        ('imputer', imputer),\n",
    "        ('scaler', scaler), \n",
    "        ('pca', pca),\n",
    "        ('rf', rf)\n",
    "    ])\n",
    "    \n",
    "    return pipeline\n",
    "\n",
    "def get_lr_pipeline():\n",
    "    imputer = IterativeImputer(missing_values=np.nan, random_state=37)\n",
    "    scaler = StandardScaler()\n",
    "    lr = LogisticRegression(penalty='l1', solver='liblinear')\n",
    "\n",
    "    pipeline = Pipeline([\n",
    "        ('imputer', imputer),\n",
    "        ('scaler', scaler), \n",
    "        ('lr', lr)\n",
    "    ])\n",
    "    \n",
    "    return pipeline"
   ]
  },
  {
   "cell_type": "markdown",
   "metadata": {},
   "source": [
    "### Validation"
   ]
  },
  {
   "cell_type": "code",
   "execution_count": 16,
   "metadata": {
    "execution": {
     "iopub.execute_input": "2022-05-05T19:44:07.641912Z",
     "iopub.status.busy": "2022-05-05T19:44:07.641912Z",
     "iopub.status.idle": "2022-05-05T19:44:13.461545Z",
     "shell.execute_reply": "2022-05-05T19:44:13.461545Z",
     "shell.execute_reply.started": "2022-05-05T19:44:07.641912Z"
    }
   },
   "outputs": [
    {
     "data": {
      "text/html": [
       "<div>\n",
       "<style scoped>\n",
       "    .dataframe tbody tr th:only-of-type {\n",
       "        vertical-align: middle;\n",
       "    }\n",
       "\n",
       "    .dataframe tbody tr th {\n",
       "        vertical-align: top;\n",
       "    }\n",
       "\n",
       "    .dataframe thead th {\n",
       "        text-align: right;\n",
       "    }\n",
       "</style>\n",
       "<table border=\"1\" class=\"dataframe\">\n",
       "  <thead>\n",
       "    <tr style=\"text-align: right;\">\n",
       "      <th></th>\n",
       "      <th>rf_roc</th>\n",
       "      <th>lr_roc</th>\n",
       "      <th>rf_pr</th>\n",
       "      <th>lr_pr</th>\n",
       "    </tr>\n",
       "  </thead>\n",
       "  <tbody>\n",
       "    <tr>\n",
       "      <th>0</th>\n",
       "      <td>0.943409</td>\n",
       "      <td>0.948017</td>\n",
       "      <td>0.915508</td>\n",
       "      <td>0.909468</td>\n",
       "    </tr>\n",
       "    <tr>\n",
       "      <th>1</th>\n",
       "      <td>0.965886</td>\n",
       "      <td>0.963285</td>\n",
       "      <td>0.950626</td>\n",
       "      <td>0.940054</td>\n",
       "    </tr>\n",
       "    <tr>\n",
       "      <th>2</th>\n",
       "      <td>0.973927</td>\n",
       "      <td>0.976379</td>\n",
       "      <td>0.976090</td>\n",
       "      <td>0.976078</td>\n",
       "    </tr>\n",
       "    <tr>\n",
       "      <th>3</th>\n",
       "      <td>0.957862</td>\n",
       "      <td>0.972275</td>\n",
       "      <td>0.949563</td>\n",
       "      <td>0.967354</td>\n",
       "    </tr>\n",
       "    <tr>\n",
       "      <th>4</th>\n",
       "      <td>0.974789</td>\n",
       "      <td>0.956824</td>\n",
       "      <td>0.980452</td>\n",
       "      <td>0.949806</td>\n",
       "    </tr>\n",
       "    <tr>\n",
       "      <th>5</th>\n",
       "      <td>0.967220</td>\n",
       "      <td>0.971374</td>\n",
       "      <td>0.971068</td>\n",
       "      <td>0.976793</td>\n",
       "    </tr>\n",
       "    <tr>\n",
       "      <th>6</th>\n",
       "      <td>0.977564</td>\n",
       "      <td>0.969651</td>\n",
       "      <td>0.955176</td>\n",
       "      <td>0.945222</td>\n",
       "    </tr>\n",
       "    <tr>\n",
       "      <th>7</th>\n",
       "      <td>0.970403</td>\n",
       "      <td>0.955929</td>\n",
       "      <td>0.974535</td>\n",
       "      <td>0.944960</td>\n",
       "    </tr>\n",
       "    <tr>\n",
       "      <th>8</th>\n",
       "      <td>0.992799</td>\n",
       "      <td>0.990399</td>\n",
       "      <td>0.994749</td>\n",
       "      <td>0.989860</td>\n",
       "    </tr>\n",
       "    <tr>\n",
       "      <th>9</th>\n",
       "      <td>0.939094</td>\n",
       "      <td>0.940994</td>\n",
       "      <td>0.924518</td>\n",
       "      <td>0.928002</td>\n",
       "    </tr>\n",
       "  </tbody>\n",
       "</table>\n",
       "</div>"
      ],
      "text/plain": [
       "     rf_roc    lr_roc     rf_pr     lr_pr\n",
       "0  0.943409  0.948017  0.915508  0.909468\n",
       "1  0.965886  0.963285  0.950626  0.940054\n",
       "2  0.973927  0.976379  0.976090  0.976078\n",
       "3  0.957862  0.972275  0.949563  0.967354\n",
       "4  0.974789  0.956824  0.980452  0.949806\n",
       "5  0.967220  0.971374  0.971068  0.976793\n",
       "6  0.977564  0.969651  0.955176  0.945222\n",
       "7  0.970403  0.955929  0.974535  0.944960\n",
       "8  0.992799  0.990399  0.994749  0.989860\n",
       "9  0.939094  0.940994  0.924518  0.928002"
      ]
     },
     "execution_count": 16,
     "metadata": {},
     "output_type": "execute_result"
    }
   ],
   "source": [
    "import pandas as pd\n",
    "\n",
    "def do_validation(train_index, test_index, X, y):\n",
    "    X_train, X_test = X[train_index], X[test_index]\n",
    "    y_train, y_test = y[train_index], y[test_index]\n",
    "    \n",
    "    rf = get_rf_pipeline()\n",
    "    rf.fit(X_train, y_train)\n",
    "    \n",
    "    y_preds = rf.predict_proba(X_test)[:,1]\n",
    "    \n",
    "    rf_roc, rf_pr = roc_auc_score(y_test, y_preds), average_precision_score(y_test, y_preds)\n",
    "\n",
    "    lr = get_lr_pipeline()\n",
    "    lr.fit(X_train, y_train)\n",
    "    \n",
    "    y_preds = lr.predict_proba(X_test)[:,1]\n",
    "    \n",
    "    lr_roc, lr_pr = roc_auc_score(y_test, y_preds), average_precision_score(y_test, y_preds)\n",
    "    \n",
    "    return rf_roc, lr_roc, rf_pr, lr_pr\n",
    "\n",
    "kf = KFold(n_splits=10, shuffle=True, random_state=37)\n",
    "\n",
    "results = [do_validation(train_index, test_index, X, y) \n",
    "           for train_index, test_index in kf.split(X, y)]\n",
    "df = pd.DataFrame(results, columns=['rf_roc', 'lr_roc', 'rf_pr', 'lr_pr'])\n",
    "df"
   ]
  },
  {
   "cell_type": "code",
   "execution_count": 17,
   "metadata": {
    "execution": {
     "iopub.execute_input": "2022-05-05T19:44:13.463547Z",
     "iopub.status.busy": "2022-05-05T19:44:13.462548Z",
     "iopub.status.idle": "2022-05-05T19:44:13.476547Z",
     "shell.execute_reply": "2022-05-05T19:44:13.476547Z",
     "shell.execute_reply.started": "2022-05-05T19:44:13.462548Z"
    },
    "tags": []
   },
   "outputs": [
    {
     "data": {
      "text/plain": [
       "rf_roc    0.966295\n",
       "lr_roc    0.964513\n",
       "rf_pr     0.959228\n",
       "lr_pr     0.952760\n",
       "dtype: float64"
      ]
     },
     "execution_count": 17,
     "metadata": {},
     "output_type": "execute_result"
    }
   ],
   "source": [
    "df.mean()"
   ]
  }
 ],
 "metadata": {
  "kernelspec": {
   "display_name": "Python 3",
   "language": "python",
   "name": "python3"
  },
  "language_info": {
   "codemirror_mode": {
    "name": "ipython",
    "version": 3
   },
   "file_extension": ".py",
   "mimetype": "text/x-python",
   "name": "python",
   "nbconvert_exporter": "python",
   "pygments_lexer": "ipython3",
   "version": "3.8.5"
  },
  "widgets": {
   "application/vnd.jupyter.widget-state+json": {
    "state": {},
    "version_major": 2,
    "version_minor": 0
   }
  }
 },
 "nbformat": 4,
 "nbformat_minor": 4
}
