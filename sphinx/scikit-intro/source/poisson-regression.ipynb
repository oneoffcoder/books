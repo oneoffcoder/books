{
 "cells": [
  {
   "cell_type": "markdown",
   "id": "ceb8431f-1855-4fae-b882-0154290ee30a",
   "metadata": {},
   "source": [
    "# Poisson Regression\n",
    "\n",
    "Poisson regression is a type of regression when the response (or dependent) variable takes on a [Poisson distribution](https://en.wikipedia.org/wiki/Poisson_distribution). A Poisson distribution is commonly used to model the probability of the count of an event within a fixed amount of time. For example, a Poisson distribution may be used to model the following.\n",
    "\n",
    "- The number of accidents during rush hour in the morning (from 6 to 9 AM).\n",
    "- The number of calls to a call center during business hours (from 9 AM to 5 PM).\n",
    "\n",
    "The values of a Poisson distribution are counts of an event (within a fixed amount of time), and these counts are non-negative. The values in a Poisson distribution appear to be continuous since they are numbers, however, the Poisson distribution is **not** a probability density function `PDF`, but, rather, a probability mass function `PMF`. The Poisson PMF is defined as follows,\n",
    "\n",
    "$\\!f(k; \\lambda)= \\Pr(X{=}k)= \\frac{\\lambda^k e^{-\\lambda}}{k!}$,\n",
    "\n",
    "where\n",
    "\n",
    "- $k$ is the number of times the event can occur (within a fixed amount of time), and\n",
    "- $\\lambda$ is the `rate` and $\\lambda > 0$.\n",
    "\n",
    "The Poisson distribution has a strong assumption that the mean is equal to the variance; $\\mu = \\sigma^2 = \\lambda$. When the mean and variance are not equal, an alternative distribution to use is the [negative binomial distribution](https://en.wikipedia.org/wiki/Negative_binomial_distribution).\n",
    "\n",
    "Poisson regression assumes that the logarithm of the expected value of the response variable can be modeled by a linear combination of covariates.\n",
    "\n",
    "$\\log (\\operatorname{E}(Y\\mid\\mathbf{x}))=\\alpha + \\mathbf{\\beta}' \\mathbf{x}$\n",
    "\n",
    "Exponentiating, we can rewrite the model as follows.\n",
    "\n",
    "$\\operatorname{E}(Y\\mid\\mathbf{x})=e^{\\boldsymbol{\\theta}' \\mathbf{x}}$"
   ]
  },
  {
   "cell_type": "markdown",
   "id": "b0266021-b963-47a9-8588-1f5add0d85b1",
   "metadata": {},
   "source": [
    "## Generate data\n",
    "\n",
    "We can generate data for Poisson regression as follows.\n",
    "\n",
    "- $X_1 \\sim \\mathcal{N}(1, 1)$\n",
    "- $X_2 \\sim \\mathcal{N}(2, 1)$\n",
    "- $e \\sim \\mathcal{N}(0, 1)$\n",
    "- $Y \\sim \\exp(1 + 1 X_1 + 0.1 X_2 + e)$"
   ]
  },
  {
   "cell_type": "code",
   "execution_count": 1,
   "id": "b839f226-5dae-408f-a760-a9b1ad6453f2",
   "metadata": {},
   "outputs": [
    {
     "data": {
      "text/html": [
       "<div>\n",
       "<style scoped>\n",
       "    .dataframe tbody tr th:only-of-type {\n",
       "        vertical-align: middle;\n",
       "    }\n",
       "\n",
       "    .dataframe tbody tr th {\n",
       "        vertical-align: top;\n",
       "    }\n",
       "\n",
       "    .dataframe thead th {\n",
       "        text-align: right;\n",
       "    }\n",
       "</style>\n",
       "<table border=\"1\" class=\"dataframe\">\n",
       "  <thead>\n",
       "    <tr style=\"text-align: right;\">\n",
       "      <th></th>\n",
       "      <th>x1</th>\n",
       "      <th>x2</th>\n",
       "      <th>y</th>\n",
       "    </tr>\n",
       "  </thead>\n",
       "  <tbody>\n",
       "    <tr>\n",
       "      <th>0</th>\n",
       "      <td>0.945536</td>\n",
       "      <td>2.133882</td>\n",
       "      <td>7</td>\n",
       "    </tr>\n",
       "    <tr>\n",
       "      <th>1</th>\n",
       "      <td>1.674308</td>\n",
       "      <td>1.038547</td>\n",
       "      <td>16</td>\n",
       "    </tr>\n",
       "    <tr>\n",
       "      <th>2</th>\n",
       "      <td>1.346647</td>\n",
       "      <td>1.896283</td>\n",
       "      <td>12</td>\n",
       "    </tr>\n",
       "    <tr>\n",
       "      <th>3</th>\n",
       "      <td>-0.300346</td>\n",
       "      <td>1.854324</td>\n",
       "      <td>1</td>\n",
       "    </tr>\n",
       "    <tr>\n",
       "      <th>4</th>\n",
       "      <td>2.518512</td>\n",
       "      <td>0.949312</td>\n",
       "      <td>7</td>\n",
       "    </tr>\n",
       "  </tbody>\n",
       "</table>\n",
       "</div>"
      ],
      "text/plain": [
       "         x1        x2   y\n",
       "0  0.945536  2.133882   7\n",
       "1  1.674308  1.038547  16\n",
       "2  1.346647  1.896283  12\n",
       "3 -0.300346  1.854324   1\n",
       "4  2.518512  0.949312   7"
      ]
     },
     "execution_count": 1,
     "metadata": {},
     "output_type": "execute_result"
    }
   ],
   "source": [
    "import numpy as np\n",
    "import pandas as pd\n",
    "\n",
    "np.random.seed(37)\n",
    "\n",
    "N = 10_000\n",
    "x1 = np.random.normal(1, 1, N)\n",
    "x2 = np.random.normal(2, 1, N)\n",
    "y = np.round(np.exp(1 + 0.5 * x1 + 0.1 * x2 + np.random.normal(0, 1, N))).astype(int)\n",
    "\n",
    "df = pd.DataFrame({'x1': x1, 'x2': x2, 'y': y})\n",
    "df.head()"
   ]
  },
  {
   "cell_type": "markdown",
   "id": "8c45ab66-3494-4279-9c47-a3c7f589b1f6",
   "metadata": {},
   "source": [
    "## Visualize y"
   ]
  },
  {
   "cell_type": "code",
   "execution_count": 2,
   "id": "bd7ddbfb-257d-4070-949c-064c55a25f63",
   "metadata": {},
   "outputs": [
    {
     "data": {
      "image/png": "[encoded data removed]",
      "text/plain": [
       "<Figure size 1080x252 with 1 Axes>"
      ]
     },
     "metadata": {},
     "output_type": "display_data"
    }
   ],
   "source": [
    "import matplotlib.pyplot as plt\n",
    "\n",
    "plt.style.use('ggplot')\n",
    "\n",
    "m = df['y'].mean()\n",
    "s = df['y'].value_counts().sort_index()\n",
    "ax = s.plot(kind='bar', figsize=(15, 3.5), title=rf'Distribution of $y$, $\\lambda={m:.1f}$')\n",
    "_ = ax.xaxis.set_major_locator(plt.MaxNLocator(50))"
   ]
  },
  {
   "cell_type": "markdown",
   "id": "bc446788-8063-496f-9376-982d004534a6",
   "metadata": {},
   "source": [
    "## Poisson regression"
   ]
  },
  {
   "cell_type": "code",
   "execution_count": 3,
   "id": "b1e82324-4e87-4469-be7f-f04343487d39",
   "metadata": {},
   "outputs": [
    {
     "data": {
      "text/plain": [
       "PoissonRegressor()"
      ]
     },
     "execution_count": 3,
     "metadata": {},
     "output_type": "execute_result"
    }
   ],
   "source": [
    "from sklearn.linear_model import PoissonRegressor\n",
    "\n",
    "X = df[df.columns.drop('y')]\n",
    "y = df['y']\n",
    "\n",
    "model = PoissonRegressor()\n",
    "model.fit(X, y)"
   ]
  },
  {
   "cell_type": "code",
   "execution_count": 4,
   "id": "3e4dcbe0-bc34-4042-bb0f-48544726a4a1",
   "metadata": {},
   "outputs": [
    {
     "data": {
      "text/plain": [
       "(1.5793380835427167, array([0.44838229, 0.09694901]))"
      ]
     },
     "execution_count": 4,
     "metadata": {},
     "output_type": "execute_result"
    }
   ],
   "source": [
    "model.intercept_, model.coef_"
   ]
  },
  {
   "cell_type": "code",
   "execution_count": 5,
   "id": "70491b83-001c-4912-84a8-269a49d9d725",
   "metadata": {},
   "outputs": [
    {
     "data": {
      "text/plain": [
       "0.20214296416305377"
      ]
     },
     "execution_count": 5,
     "metadata": {},
     "output_type": "execute_result"
    }
   ],
   "source": [
    "model.score(X, y)"
   ]
  },
  {
   "cell_type": "markdown",
   "id": "1c9fd31d-6eb1-44a0-b277-79393ab520d3",
   "metadata": {},
   "source": [
    "## Histogram gradient boosting regression\n",
    "\n",
    "We can use the experimental `HistGradientBoostingRegressor` algorithm. "
   ]
  },
  {
   "cell_type": "code",
   "execution_count": 6,
   "id": "20720044-e7a6-44cb-b06b-7a1309357a91",
   "metadata": {},
   "outputs": [
    {
     "data": {
      "text/plain": [
       "HistGradientBoostingRegressor(loss='poisson', max_leaf_nodes=64)"
      ]
     },
     "execution_count": 6,
     "metadata": {},
     "output_type": "execute_result"
    }
   ],
   "source": [
    "from sklearn.experimental import enable_hist_gradient_boosting\n",
    "from sklearn.ensemble import HistGradientBoostingRegressor\n",
    "\n",
    "model = HistGradientBoostingRegressor(loss='poisson', max_leaf_nodes=64)\n",
    "model.fit(X, y)"
   ]
  },
  {
   "cell_type": "code",
   "execution_count": 7,
   "id": "3d3a4b08-5533-4254-9ce6-e5e28859f8f2",
   "metadata": {},
   "outputs": [
    {
     "data": {
      "text/plain": [
       "0.41232578761756855"
      ]
     },
     "execution_count": 7,
     "metadata": {},
     "output_type": "execute_result"
    }
   ],
   "source": [
    "model.score(X, y)"
   ]
  }
 ],
 "metadata": {
  "kernelspec": {
   "display_name": "Python 3",
   "language": "python",
   "name": "python3"
  },
  "language_info": {
   "codemirror_mode": {
    "name": "ipython",
    "version": 3
   },
   "file_extension": ".py",
   "mimetype": "text/x-python",
   "name": "python",
   "nbconvert_exporter": "python",
   "pygments_lexer": "ipython3",
   "version": "3.8.8"
  }
 },
 "nbformat": 4,
 "nbformat_minor": 5
}
