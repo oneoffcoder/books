{
 "cells": [
  {
   "cell_type": "markdown",
   "id": "representative-foundation",
   "metadata": {},
   "source": [
    "# gensim\n",
    "\n",
    "[Gensim](https://radimrehurek.com/gensim/) is a topic modeling API. However, gensim also has the ability to create word and document embeddings. Below is a dataset of book titles dealing with two \"topics\", one for \"data science\" and the other for \"finance\". We will use this dataset to see how gensim can be used to learn and recover topics."
   ]
  },
  {
   "cell_type": "code",
   "execution_count": 1,
   "id": "ordinary-bones",
   "metadata": {
    "tags": []
   },
   "outputs": [
    {
     "data": {
      "text/plain": [
       "(20, 2)"
      ]
     },
     "execution_count": 1,
     "metadata": {},
     "output_type": "execute_result"
    }
   ],
   "source": [
    "import pandas as pd\n",
    "import numpy as np\n",
    "import random\n",
    "\n",
    "np.random.seed(37)\n",
    "random.seed(37)\n",
    "\n",
    "df = pd.DataFrame({\n",
    "    'text': [\n",
    "        'Data Science from Scratch: First Principles with Python',\n",
    "        'Data Science for Business: What You Need to Know about Data Mining and Data-Analytic Thinking',\n",
    "        'Practical Statistics for Data Scientists',\n",
    "        'Build a Career in Data Science',\n",
    "        'Python Data Science Handbook',\n",
    "        'Storytelling with Data: A Data Visualization Guide for Business Professionals',\n",
    "        'R for Data Science: Import, Tidy, Transform, Visualize, and Model Data',\n",
    "        'Data-Driven Science and Engineering: Machine Learning, Dynamical Systems, and Control',\n",
    "        'A Hands-On Introduction to Data Science',\n",
    "        'Intro to Python for Computer Science and Data Science: Learning to Program with AI, Big Data and The Cloud',\n",
    "        'How Finance Works: The HBR Guide to Thinking Smart About the Numbers',\n",
    "        'The Intelligent Investor: The Definitive Book on Value Investing. A Book of Practical Counsel',\n",
    "        'Introduction to Finance: Markets, Investments, and Financial Management',\n",
    "        'Python for Finance: Mastering Data-Driven Finance',\n",
    "        'The Infographic Guide to Personal Finance: A Visual Reference for Everything You Need to Know',\n",
    "        'Personal Finance For Dummies',\n",
    "        'Corporate Finance For Dummies',\n",
    "        'Lords of Finance: The Bankers Who Broke the World',\n",
    "        'Real Estate Finance & Investments',\n",
    "        'Real Estate Finance and Investments Risks and Opportunities'\n",
    "    ],\n",
    "    'clazz': [1 for _ in range(10)] + [0 for _ in range(10)]\n",
    "})\n",
    "\n",
    "df.shape"
   ]
  },
  {
   "cell_type": "markdown",
   "id": "angry-eugene",
   "metadata": {},
   "source": [
    "We have to tokenize, lemmatize and remove stop words from the original text."
   ]
  },
  {
   "cell_type": "code",
   "execution_count": 2,
   "id": "separate-comment",
   "metadata": {
    "tags": []
   },
   "outputs": [
    {
     "data": {
      "text/plain": [
       "(20, 3)"
      ]
     },
     "execution_count": 2,
     "metadata": {},
     "output_type": "execute_result"
    }
   ],
   "source": [
    "import string\n",
    "from nltk import word_tokenize\n",
    "from nltk.corpus import stopwords\n",
    "from nltk.stem import WordNetLemmatizer \n",
    "  \n",
    "lemmatizer = WordNetLemmatizer() \n",
    "stop_words = set(stopwords.words('english') + list(string.punctuation))\n",
    "\n",
    "is_valid = lambda t: t not in stop_words\n",
    "tokenize = lambda t: word_tokenize(t.lower())\n",
    "lemmatize = lambda t: lemmatizer.lemmatize(t)\n",
    "\n",
    "df['normalized'] = df.text.apply(lambda text: [lemmatize(t) for t in tokenize(text) if is_valid(t)])\n",
    "df.shape"
   ]
  },
  {
   "cell_type": "markdown",
   "id": "framed-vegetable",
   "metadata": {},
   "source": [
    "Words that appear only once are removed."
   ]
  },
  {
   "cell_type": "code",
   "execution_count": 3,
   "id": "toxic-answer",
   "metadata": {
    "tags": []
   },
   "outputs": [
    {
     "data": {
      "text/plain": [
       "(20, 4)"
      ]
     },
     "execution_count": 3,
     "metadata": {},
     "output_type": "execute_result"
    }
   ],
   "source": [
    "from itertools import chain\n",
    "import nltk\n",
    "\n",
    "dist = nltk.FreqDist(list(chain(*df.normalized)))\n",
    "dist = pd.Series([v for _, v in dist.items()], dist.keys()).sort_values(ascending=False)\n",
    "dist = dist[dist > 1]\n",
    "valid_tokens = set(list(dist.index))\n",
    "\n",
    "df['valid'] = df.normalized.apply(lambda tokens: [t for t in tokens if t in valid_tokens])\n",
    "df.shape"
   ]
  },
  {
   "cell_type": "markdown",
   "id": "wireless-hotel",
   "metadata": {},
   "source": [
    "## Topic modeling\n",
    "\n",
    "Now we will apply Latent Semantic Indexing `LSI` and Laten Dirchlet Allocation `LDA` for topic modeling. "
   ]
  },
  {
   "cell_type": "code",
   "execution_count": 4,
   "id": "official-allergy",
   "metadata": {
    "tags": []
   },
   "outputs": [],
   "source": [
    "from gensim import corpora\n",
    "\n",
    "dictionary = corpora.Dictionary(df.valid)\n",
    "corpus = [dictionary.doc2bow(text) for text in df.valid]"
   ]
  },
  {
   "cell_type": "code",
   "execution_count": 5,
   "id": "accompanied-polls",
   "metadata": {
    "tags": []
   },
   "outputs": [],
   "source": [
    "from gensim import models\n",
    "\n",
    "tfidf_model = models.TfidfModel(corpus)\n",
    "corpus_tfidf = tfidf_model[corpus]\n",
    "\n",
    "lsi_model = models.LsiModel(corpus_tfidf, id2word=dictionary, num_topics=2)\n",
    "corpus_lsi = lsi_model[corpus_tfidf]\n",
    "\n",
    "lda_model = models.LdaModel(corpus, id2word=dictionary, iterations=50, num_topics=2)\n",
    "corpus_lda = lda_model[corpus]"
   ]
  },
  {
   "cell_type": "markdown",
   "id": "uniform-power",
   "metadata": {},
   "source": [
    "### Visualize document vectors\n",
    "\n",
    "The LSI and LDA models can transform the documents into vector representation in principal component `PC` or probabilistic space, respectively. We try to visualize the documents in these spaces as a 2D visualization. "
   ]
  },
  {
   "cell_type": "code",
   "execution_count": 6,
   "id": "another-moral",
   "metadata": {
    "tags": []
   },
   "outputs": [],
   "source": [
    "import numpy as np\n",
    "\n",
    "lsi_data = np.array([[tup[1] for tup in arr] for arr in corpus_lsi])\n",
    "lda_data = np.array([[tup[1] for tup in arr] for arr in corpus_lda])"
   ]
  },
  {
   "cell_type": "code",
   "execution_count": 7,
   "id": "blank-soccer",
   "metadata": {
    "tags": []
   },
   "outputs": [
    {
     "data": {
      "image/png": "[encoded data removed]",
      "text/plain": [
       "<Figure size 360x360 with 1 Axes>"
      ]
     },
     "metadata": {
      "needs_background": "light"
     },
     "output_type": "display_data"
    }
   ],
   "source": [
    "import matplotlib.pyplot as plt\n",
    "\n",
    "x = lsi_data[:,0]\n",
    "y = lsi_data[:,1]\n",
    "c = ['r' if i == 0 else 'g' for i in df.clazz]\n",
    "\n",
    "fig, ax = plt.subplots(figsize=(5, 5))\n",
    "_ = ax.scatter(x, y, c=c)"
   ]
  },
  {
   "cell_type": "code",
   "execution_count": 8,
   "id": "fundamental-third",
   "metadata": {
    "tags": []
   },
   "outputs": [
    {
     "data": {
      "image/png": "[encoded data removed]",
      "text/plain": [
       "<Figure size 360x360 with 1 Axes>"
      ]
     },
     "metadata": {
      "needs_background": "light"
     },
     "output_type": "display_data"
    }
   ],
   "source": [
    "x = lda_data[:,0]\n",
    "y = lda_data[:,1]\n",
    "c = ['r' if i == 0 else 'g' for i in df.clazz]\n",
    "\n",
    "fig, ax = plt.subplots(figsize=(5, 5))\n",
    "_ = ax.scatter(x, y, c=c)"
   ]
  },
  {
   "cell_type": "markdown",
   "id": "novel-rebound",
   "metadata": {},
   "source": [
    "### Print word to topic relevance\n",
    "\n",
    "The word importances to each topic can also be retrieved."
   ]
  },
  {
   "cell_type": "code",
   "execution_count": 9,
   "id": "formal-abortion",
   "metadata": {
    "tags": []
   },
   "outputs": [
    {
     "data": {
      "text/plain": [
       "[(0,\n",
       "  '-0.641*\"data\" + -0.572*\"science\" + -0.412*\"python\" + -0.165*\"learning\" + -0.119*\"introduction\" + -0.109*\"business\" + -0.100*\"data-driven\" + -0.080*\"finance\" + -0.079*\"guide\" + -0.065*\"thinking\"'),\n",
       " (1,\n",
       "  '-0.638*\"finance\" + -0.380*\"investment\" + -0.312*\"real\" + -0.312*\"estate\" + -0.308*\"dummy\" + -0.200*\"personal\" + -0.176*\"introduction\" + -0.145*\"guide\" + -0.117*\"data-driven\" + 0.117*\"data\"')]"
      ]
     },
     "execution_count": 9,
     "metadata": {},
     "output_type": "execute_result"
    }
   ],
   "source": [
    "lsi_model.print_topics()"
   ]
  },
  {
   "cell_type": "code",
   "execution_count": 10,
   "id": "binding-jones",
   "metadata": {},
   "outputs": [
    {
     "data": {
      "text/plain": [
       "[(0,\n",
       "  '0.199*\"data\" + 0.170*\"science\" + 0.079*\"python\" + 0.067*\"finance\" + 0.047*\"practical\" + 0.047*\"data-driven\" + 0.043*\"book\" + 0.042*\"need\" + 0.041*\"learning\" + 0.041*\"know\"'),\n",
       " (1,\n",
       "  '0.194*\"finance\" + 0.117*\"data\" + 0.073*\"investment\" + 0.067*\"guide\" + 0.054*\"dummy\" + 0.053*\"estate\" + 0.052*\"real\" + 0.052*\"science\" + 0.044*\"personal\" + 0.043*\"introduction\"')]"
      ]
     },
     "execution_count": 10,
     "metadata": {},
     "output_type": "execute_result"
    }
   ],
   "source": [
    "lda_model.print_topics()"
   ]
  },
  {
   "cell_type": "markdown",
   "id": "burning-coral",
   "metadata": {},
   "source": [
    "### Check coherence\n",
    "\n",
    "The two coherence measures below are `u_mass` and `c_v`. At a high level, these scores try to capture how well the words in each topic fit (co-occur) together. Better information about these scores are available at the links following. \n",
    "\n",
    "- [How does topic coherence score in LDA intuitively makes sense?](https://stats.stackexchange.com/questions/375062/how-does-topic-coherence-score-in-lda-intuitively-makes-sense)\n",
    "- [What is the formula for c_v coherence?](https://stats.stackexchange.com/questions/406216/what-is-the-formula-for-c-v-coherence)"
   ]
  },
  {
   "cell_type": "code",
   "execution_count": 11,
   "id": "noted-penalty",
   "metadata": {
    "tags": []
   },
   "outputs": [
    {
     "name": "stdout",
     "output_type": "stream",
     "text": [
      "lsi -2.5045662415022893\n",
      "lda -4.4435852671814855\n"
     ]
    }
   ],
   "source": [
    "from gensim.models.coherencemodel import CoherenceModel\n",
    "\n",
    "lsi_cm = CoherenceModel(model=lsi_model, corpus=corpus_lsi, coherence='u_mass')\n",
    "lda_cm = CoherenceModel(model=lda_model, corpus=corpus_lda, coherence='u_mass')\n",
    "\n",
    "print('lsi', lsi_cm.get_coherence())\n",
    "print('lda', lda_cm.get_coherence())"
   ]
  },
  {
   "cell_type": "code",
   "execution_count": 12,
   "id": "average-context",
   "metadata": {
    "tags": []
   },
   "outputs": [
    {
     "name": "stdout",
     "output_type": "stream",
     "text": [
      "lsi 0.5731227064090376\n",
      "lda 0.5731227064090375\n"
     ]
    }
   ],
   "source": [
    "lsi_cm = CoherenceModel(model=lsi_model, texts=df.valid, coherence='c_v')\n",
    "lda_cm = CoherenceModel(model=lda_model, texts=df.valid, coherence='c_v')\n",
    "\n",
    "print('lsi', lsi_cm.get_coherence())\n",
    "print('lda', lda_cm.get_coherence())"
   ]
  },
  {
   "cell_type": "markdown",
   "id": "placed-canal",
   "metadata": {},
   "source": [
    "### Check clustering quality\n",
    "\n",
    "The silhouette score can evaluate the clustering quality without the truth labels, while the rand score will evaluate the clustering quality with the truth labels. For both these scores, a higher value is better."
   ]
  },
  {
   "cell_type": "code",
   "execution_count": 13,
   "id": "located-connecticut",
   "metadata": {
    "tags": []
   },
   "outputs": [
    {
     "name": "stdout",
     "output_type": "stream",
     "text": [
      "silhouette: 0.58734, rand: 1.0\n"
     ]
    }
   ],
   "source": [
    "from sklearn.cluster import KMeans\n",
    "from sklearn.metrics import silhouette_score, rand_score\n",
    "\n",
    "kmeans = KMeans(n_clusters=2, random_state=37).fit(lsi_data)\n",
    "sil_score = silhouette_score(lsi_data, kmeans.labels_)\n",
    "ran_score = rand_score(df.clazz, kmeans.labels_)\n",
    "\n",
    "print(f'silhouette: {sil_score:.5f}, rand: {ran_score}')"
   ]
  },
  {
   "cell_type": "code",
   "execution_count": 14,
   "id": "opposite-operation",
   "metadata": {
    "tags": []
   },
   "outputs": [
    {
     "name": "stdout",
     "output_type": "stream",
     "text": [
      "silhouette: 0.54072, rand: 0.8105263157894737\n"
     ]
    }
   ],
   "source": [
    "kmeans = KMeans(n_clusters=2, random_state=37).fit(lda_data)\n",
    "sil_score = silhouette_score(lsi_data, kmeans.labels_)\n",
    "ran_score = rand_score(df.clazz, kmeans.labels_)\n",
    "\n",
    "print(f'silhouette: {sil_score:.5f}, rand: {ran_score}')"
   ]
  },
  {
   "cell_type": "markdown",
   "id": "respective-counter",
   "metadata": {},
   "source": [
    "## word2vec\n",
    "\n",
    "Word2vec `w2v` is an approach to vectorize words such that in the vector space, words that have similar meaning will be closer algebraically. These vectors are often called `embeddings`. The field has matured to the point where embeddings may be created for all sorts of data (not only text but also images). For example, there are also sentence, paragraph and document embeddings techniques. \n",
    "\n",
    "Below, we learn word embeddings for the book titles. The number of iterations `iter` is set to a very high number to get some stability. "
   ]
  },
  {
   "cell_type": "code",
   "execution_count": 15,
   "id": "delayed-lodge",
   "metadata": {},
   "outputs": [],
   "source": [
    "from gensim.test.utils import datapath\n",
    "from gensim import utils\n",
    "\n",
    "class BookTitleCorpus:\n",
    "    def __iter__(self):\n",
    "        titles = list(df.valid)\n",
    "        for title in titles:\n",
    "            yield title"
   ]
  },
  {
   "cell_type": "code",
   "execution_count": 16,
   "id": "wooden-gates",
   "metadata": {},
   "outputs": [],
   "source": [
    "from gensim.models import Word2Vec\n",
    "\n",
    "w2v_model = Word2Vec(**{\n",
    "    'sentences': BookTitleCorpus(), \n",
    "    'size': 5, \n",
    "    'window': 1, \n",
    "    'min_count': 1, \n",
    "    'negative': 1,\n",
    "    'iter': 5000,\n",
    "    'compute_loss': True,\n",
    "    'hs': 0,\n",
    "    'sg': 1,\n",
    "    'seed': 37\n",
    "})"
   ]
  },
  {
   "cell_type": "markdown",
   "id": "associate-fleece",
   "metadata": {},
   "source": [
    "All the words that can be mapped to an embedding is access through the `wv.index2word` property."
   ]
  },
  {
   "cell_type": "code",
   "execution_count": 17,
   "id": "involved-child",
   "metadata": {},
   "outputs": [
    {
     "data": {
      "text/plain": [
       "['data',\n",
       " 'finance',\n",
       " 'science',\n",
       " 'python',\n",
       " 'guide',\n",
       " 'investment',\n",
       " 'business',\n",
       " 'need',\n",
       " 'know',\n",
       " 'thinking',\n",
       " 'practical',\n",
       " 'data-driven',\n",
       " 'learning',\n",
       " 'introduction',\n",
       " 'book',\n",
       " 'personal',\n",
       " 'dummy',\n",
       " 'real',\n",
       " 'estate']"
      ]
     },
     "execution_count": 17,
     "metadata": {},
     "output_type": "execute_result"
    }
   ],
   "source": [
    "w2v_model.wv.index2word"
   ]
  },
  {
   "cell_type": "markdown",
   "id": "pleasant-fundamental",
   "metadata": {},
   "source": [
    "You may retrieve the vector for each word as follows."
   ]
  },
  {
   "cell_type": "code",
   "execution_count": 18,
   "id": "optimum-opinion",
   "metadata": {},
   "outputs": [
    {
     "data": {
      "text/plain": [
       "array([ 0.593597  , -0.25675973, -0.25700533, -0.09834253,  1.0051605 ],\n",
       "      dtype=float32)"
      ]
     },
     "execution_count": 18,
     "metadata": {},
     "output_type": "execute_result"
    }
   ],
   "source": [
    "w2v_model.wv['data']"
   ]
  },
  {
   "cell_type": "code",
   "execution_count": 19,
   "id": "experimental-adelaide",
   "metadata": {},
   "outputs": [
    {
     "data": {
      "text/plain": [
       "array([-0.07897905,  0.13377394, -0.53072256, -0.42197725,  0.75260234],\n",
       "      dtype=float32)"
      ]
     },
     "execution_count": 19,
     "metadata": {},
     "output_type": "execute_result"
    }
   ],
   "source": [
    "w2v_model.wv['science']"
   ]
  },
  {
   "cell_type": "code",
   "execution_count": 20,
   "id": "thick-startup",
   "metadata": {},
   "outputs": [
    {
     "data": {
      "text/plain": [
       "array([-0.0450182 , -0.7350258 ,  0.03632208,  0.88822436, -0.7655971 ],\n",
       "      dtype=float32)"
      ]
     },
     "execution_count": 20,
     "metadata": {},
     "output_type": "execute_result"
    }
   ],
   "source": [
    "w2v_model.wv['finance']"
   ]
  },
  {
   "cell_type": "markdown",
   "id": "dense-worcester",
   "metadata": {},
   "source": [
    "You can also query for similary words."
   ]
  },
  {
   "cell_type": "code",
   "execution_count": 21,
   "id": "engaging-combine",
   "metadata": {},
   "outputs": [
    {
     "name": "stdout",
     "output_type": "stream",
     "text": [
      "[('business', 0.871295154094696), ('science', 0.6787357926368713), ('learning', 0.6179041266441345), ('thinking', 0.6133607625961304), ('need', 0.5080872178077698), ('know', 0.5036865472793579), ('guide', 0.37261903285980225), ('python', 0.3343797028064728), ('practical', 0.15768414735794067), ('book', 0.09061828255653381)]\n"
     ]
    }
   ],
   "source": [
    "print(w2v_model.wv.most_similar(positive=['data']))"
   ]
  },
  {
   "cell_type": "code",
   "execution_count": 22,
   "id": "central-spider",
   "metadata": {},
   "outputs": [
    {
     "name": "stdout",
     "output_type": "stream",
     "text": [
      "[('data', 0.6787357926368713), ('practical', 0.6711301207542419), ('book', 0.5050278902053833), ('business', 0.48344868421554565), ('know', 0.335382342338562), ('guide', 0.32071053981781006), ('learning', 0.28909873962402344), ('thinking', 0.27567052841186523), ('python', 0.24710051715373993), ('need', 0.22812509536743164)]\n"
     ]
    }
   ],
   "source": [
    "print(w2v_model.wv.most_similar(positive=['science']))"
   ]
  },
  {
   "cell_type": "code",
   "execution_count": 23,
   "id": "engaging-confirmation",
   "metadata": {},
   "outputs": [
    {
     "name": "stdout",
     "output_type": "stream",
     "text": [
      "[('personal', 0.8275710344314575), ('real', 0.739374041557312), ('estate', 0.7324811220169067), ('investment', 0.6838704347610474), ('dummy', 0.5812346339225769), ('need', 0.41558361053466797), ('guide', 0.3766511082649231), ('thinking', 0.3643118143081665), ('know', 0.3500431776046753), ('introduction', 0.04492002725601196)]\n"
     ]
    }
   ],
   "source": [
    "print(w2v_model.wv.most_similar(positive=['finance']))"
   ]
  },
  {
   "cell_type": "code",
   "execution_count": 25,
   "id": "registered-humor",
   "metadata": {},
   "outputs": [
    {
     "data": {
      "image/png": "[encoded data removed]",
      "text/plain": [
       "<Figure size 360x360 with 1 Axes>"
      ]
     },
     "metadata": {
      "needs_background": "light"
     },
     "output_type": "display_data"
    }
   ],
   "source": [
    "from sklearn.manifold import TSNE\n",
    "import numpy as np\n",
    "\n",
    "def reduce_dimensions(model):\n",
    "    num_dimensions = 2\n",
    "\n",
    "    vectors = np.asarray(model.wv.vectors)\n",
    "    labels = np.asarray(model.wv.index2word)\n",
    "\n",
    "    tsne = TSNE(n_components=num_dimensions, random_state=0)\n",
    "    vectors = tsne.fit_transform(vectors)\n",
    "\n",
    "    x_vals = [v[0] for v in vectors]\n",
    "    y_vals = [v[1] for v in vectors]\n",
    "    \n",
    "    return x_vals, y_vals, labels\n",
    "\n",
    "\n",
    "x_vals, y_vals, labels = reduce_dimensions(w2v_model)\n",
    "\n",
    "fig, ax = plt.subplots(figsize=(5, 5))\n",
    "_ = ax.scatter(x_vals, y_vals)\n",
    "\n",
    "indices = list(range(len(labels)))\n",
    "selected_indices = random.sample(indices, 5)\n",
    "for i in selected_indices:\n",
    "    ax.annotate(labels[i], (x_vals[i], y_vals[i]))"
   ]
  },
  {
   "cell_type": "markdown",
   "id": "parliamentary-nickel",
   "metadata": {},
   "source": [
    "## doc2vec\n",
    "\n",
    "Doc2vec `d2v` creates vectors over documents. Take note of the `epochs` required for training to get stability."
   ]
  },
  {
   "cell_type": "code",
   "execution_count": 26,
   "id": "located-velvet",
   "metadata": {},
   "outputs": [],
   "source": [
    "from gensim.models.doc2vec import TaggedDocument, Doc2Vec\n",
    "\n",
    "def read_corpus(tokens_only=False):\n",
    "    for i, tokens in enumerate(df.valid):\n",
    "        if tokens_only:\n",
    "            yield tokens\n",
    "        else:\n",
    "            yield TaggedDocument(tokens, [i])\n",
    "                \n",
    "tr_corpus = list(read_corpus())\n",
    "te_corpus = list(read_corpus(True))\n",
    "\n",
    "d2v_model = Doc2Vec(vector_size=5, min_count=1, epochs=8000)\n",
    "d2v_model.build_vocab(tr_corpus)\n",
    "d2v_model.train(tr_corpus, total_examples=d2v_model.corpus_count, epochs=d2v_model.epochs)"
   ]
  },
  {
   "cell_type": "markdown",
   "id": "underlying-pakistan",
   "metadata": {},
   "source": [
    "After the d2v model is trained, you can infer the vectors for any text."
   ]
  },
  {
   "cell_type": "code",
   "execution_count": 27,
   "id": "herbal-newspaper",
   "metadata": {},
   "outputs": [
    {
     "name": "stdout",
     "output_type": "stream",
     "text": [
      "[-1.9255836  -0.02223318  0.2743532   2.352567    0.43010306]\n"
     ]
    }
   ],
   "source": [
    "vector = d2v_model.infer_vector('data science is cool'.split(' '))\n",
    "print(vector)"
   ]
  },
  {
   "cell_type": "code",
   "execution_count": 28,
   "id": "funded-project",
   "metadata": {},
   "outputs": [
    {
     "name": "stdout",
     "output_type": "stream",
     "text": [
      "[-1.1838392 -0.654592   1.0636024  2.6199558  0.5647269]\n"
     ]
    }
   ],
   "source": [
    "vector = d2v_model.infer_vector('science is cool'.split(' '))\n",
    "print(vector)"
   ]
  },
  {
   "cell_type": "code",
   "execution_count": 29,
   "id": "compatible-olympus",
   "metadata": {},
   "outputs": [
    {
     "name": "stdout",
     "output_type": "stream",
     "text": [
      "[2.0806925  2.0674143  1.0229923  0.81294686 0.76004183]\n"
     ]
    }
   ],
   "source": [
    "vector = d2v_model.infer_vector('finance is cool'.split(' '))\n",
    "print(vector)"
   ]
  },
  {
   "cell_type": "markdown",
   "id": "visible-daily",
   "metadata": {},
   "source": [
    "Below is diagnostic code to see if a document is similar to itself. The results show that most times, a document is most similar to itself. This process is not deterministic and different runs will generate different results."
   ]
  },
  {
   "cell_type": "code",
   "execution_count": 30,
   "id": "three-alarm",
   "metadata": {},
   "outputs": [
    {
     "name": "stdout",
     "output_type": "stream",
     "text": [
      "Counter({0: 18, 1: 2})\n"
     ]
    }
   ],
   "source": [
    "from collections import Counter\n",
    "\n",
    "ranks = []\n",
    "\n",
    "for doc_id in range(len(tr_corpus)):\n",
    "    inferred_vector = d2v_model.infer_vector(tr_corpus[doc_id].words)\n",
    "    sims = d2v_model.docvecs.most_similar([inferred_vector], topn=len(d2v_model.docvecs))\n",
    "    rank = [docid for docid, sim in sims].index(doc_id)\n",
    "    ranks.append(rank)\n",
    "    \n",
    "print(Counter(ranks))"
   ]
  },
  {
   "cell_type": "markdown",
   "id": "opponent-calendar",
   "metadata": {},
   "source": [
    "## Word mover's distance"
   ]
  },
  {
   "cell_type": "code",
   "execution_count": 31,
   "id": "single-variance",
   "metadata": {},
   "outputs": [],
   "source": [
    "import gensim.downloader as api\n",
    "\n",
    "wm_model1 = api.load('word2vec-google-news-300')\n",
    "\n",
    "wm_model2 = api.load('word2vec-google-news-300')\n",
    "wm_model2.init_sims(replace=True)"
   ]
  },
  {
   "cell_type": "code",
   "execution_count": 32,
   "id": "cellular-history",
   "metadata": {},
   "outputs": [
    {
     "data": {
      "image/png": "[encoded data removed]",
      "text/plain": [
       "<Figure size 1080x576 with 4 Axes>"
      ]
     },
     "metadata": {
      "needs_background": "light"
     },
     "output_type": "display_data"
    }
   ],
   "source": [
    "import pandas as pd\n",
    "import seaborn as sns\n",
    "import matplotlib.pyplot as plt\n",
    "\n",
    "docs = list(df.valid)\n",
    "distances1 = []\n",
    "distances2 = []\n",
    "\n",
    "for i in range(len(docs)):\n",
    "    d1 = {f'd{j}': wm_model1.wmdistance(docs[i], docs[j]) for j in range(len(docs))}\n",
    "    d2 = {f'd{j}': wm_model2.wmdistance(docs[i], docs[j]) for j in range(len(docs))}\n",
    "    \n",
    "    distances1.append(d1)\n",
    "    distances2.append(d2)\n",
    "    \n",
    "dist_df1 = pd.DataFrame(distances1)\n",
    "dist_df2 = pd.DataFrame(distances1)\n",
    "\n",
    "dist_df1.index = [f'd{i}' for i in range(len(docs))]\n",
    "dist_df2.index = [f'd{i}' for i in range(len(docs))]\n",
    "\n",
    "fig, ax = plt.subplots(1, 2, figsize=(15, 8))\n",
    "\n",
    "_ = sns.heatmap(dist_df1, cmap=sns.color_palette('Greens'), ax=ax[0])\n",
    "_ = sns.heatmap(dist_df2, cmap=sns.color_palette('Greens'), ax=ax[1])\n",
    "\n",
    "_ = ax[0].set_title('Doc Similarities')\n",
    "_ = ax[1].set_title('Doc Similarities (normalized)')"
   ]
  }
 ],
 "metadata": {
  "kernelspec": {
   "display_name": "Python 3",
   "language": "python",
   "name": "python3"
  },
  "language_info": {
   "codemirror_mode": {
    "name": "ipython",
    "version": 3
   },
   "file_extension": ".py",
   "mimetype": "text/x-python",
   "name": "python",
   "nbconvert_exporter": "python",
   "pygments_lexer": "ipython3",
   "version": "3.8.5"
  },
  "widgets": {
   "application/vnd.jupyter.widget-state+json": {
    "state": {},
    "version_major": 2,
    "version_minor": 0
   }
  }
 },
 "nbformat": 4,
 "nbformat_minor": 5
}
