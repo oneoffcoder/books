{
 "cells": [
  {
   "cell_type": "markdown",
   "id": "touched-morgan",
   "metadata": {},
   "source": [
    "# gensim\n",
    "\n",
    "[Gensim](https://radimrehurek.com/gensim/) is a topic modeling API. However, gensim also has the ability to create word and document embeddings. Below is a dataset of book titles dealing with two \"topics\", one for \"data science\" and the other for \"finance\". We will use this dataset to see how gensim can be used to learn and recover topics."
   ]
  },
  {
   "cell_type": "code",
   "execution_count": 1,
   "id": "decimal-queensland",
   "metadata": {
    "execution": {
     "iopub.execute_input": "2021-02-22T16:50:23.929008Z",
     "iopub.status.busy": "2021-02-22T16:50:23.928627Z",
     "iopub.status.idle": "2021-02-22T16:50:24.100772Z",
     "shell.execute_reply": "2021-02-22T16:50:24.100404Z",
     "shell.execute_reply.started": "2021-02-22T16:50:23.928903Z"
    },
    "tags": []
   },
   "outputs": [
    {
     "data": {
      "text/plain": [
       "(20, 2)"
      ]
     },
     "execution_count": 1,
     "metadata": {},
     "output_type": "execute_result"
    }
   ],
   "source": [
    "import pandas as pd\n",
    "import numpy as np\n",
    "import random\n",
    "\n",
    "np.random.seed(37)\n",
    "random.seed(37)\n",
    "\n",
    "df = pd.DataFrame({\n",
    "    'text': [\n",
    "        'Data Science from Scratch: First Principles with Python',\n",
    "        'Data Science for Business: What You Need to Know about Data Mining and Data-Analytic Thinking',\n",
    "        'Practical Statistics for Data Scientists',\n",
    "        'Build a Career in Data Science',\n",
    "        'Python Data Science Handbook',\n",
    "        'Storytelling with Data: A Data Visualization Guide for Business Professionals',\n",
    "        'R for Data Science: Import, Tidy, Transform, Visualize, and Model Data',\n",
    "        'Data-Driven Science and Engineering: Machine Learning, Dynamical Systems, and Control',\n",
    "        'A Hands-On Introduction to Data Science',\n",
    "        'Intro to Python for Computer Science and Data Science: Learning to Program with AI, Big Data and The Cloud',\n",
    "        'How Finance Works: The HBR Guide to Thinking Smart About the Numbers',\n",
    "        'The Intelligent Investor: The Definitive Book on Value Investing. A Book of Practical Counsel',\n",
    "        'Introduction to Finance: Markets, Investments, and Financial Management',\n",
    "        'Python for Finance: Mastering Data-Driven Finance',\n",
    "        'The Infographic Guide to Personal Finance: A Visual Reference for Everything You Need to Know',\n",
    "        'Personal Finance For Dummies',\n",
    "        'Corporate Finance For Dummies',\n",
    "        'Lords of Finance: The Bankers Who Broke the World',\n",
    "        'Real Estate Finance & Investments',\n",
    "        'Real Estate Finance and Investments Risks and Opportunities'\n",
    "    ],\n",
    "    'clazz': [1 for _ in range(10)] + [0 for _ in range(10)]\n",
    "})\n",
    "\n",
    "df.shape"
   ]
  },
  {
   "cell_type": "markdown",
   "id": "varied-memphis",
   "metadata": {},
   "source": [
    "We have to tokenize, lemmatize and remove stop words from the original text."
   ]
  },
  {
   "cell_type": "code",
   "execution_count": 2,
   "id": "distributed-power",
   "metadata": {
    "execution": {
     "iopub.execute_input": "2021-02-22T16:50:24.101290Z",
     "iopub.status.busy": "2021-02-22T16:50:24.101169Z",
     "iopub.status.idle": "2021-02-22T16:50:25.379806Z",
     "shell.execute_reply": "2021-02-22T16:50:25.379316Z",
     "shell.execute_reply.started": "2021-02-22T16:50:24.101276Z"
    },
    "tags": []
   },
   "outputs": [
    {
     "data": {
      "text/plain": [
       "(20, 3)"
      ]
     },
     "execution_count": 2,
     "metadata": {},
     "output_type": "execute_result"
    }
   ],
   "source": [
    "import string\n",
    "from nltk import word_tokenize\n",
    "from nltk.corpus import stopwords\n",
    "from nltk.stem import WordNetLemmatizer \n",
    "  \n",
    "lemmatizer = WordNetLemmatizer() \n",
    "stop_words = set(stopwords.words('english') + list(string.punctuation))\n",
    "\n",
    "is_valid = lambda t: t not in stop_words\n",
    "tokenize = lambda t: word_tokenize(t.lower())\n",
    "lemmatize = lambda t: lemmatizer.lemmatize(t)\n",
    "\n",
    "df['normalized'] = df.text.apply(lambda text: [lemmatize(t) for t in tokenize(text) if is_valid(t)])\n",
    "df.shape"
   ]
  },
  {
   "cell_type": "markdown",
   "id": "japanese-racing",
   "metadata": {},
   "source": [
    "Words that appear only once are removed."
   ]
  },
  {
   "cell_type": "code",
   "execution_count": 3,
   "id": "wanted-fiber",
   "metadata": {
    "execution": {
     "iopub.execute_input": "2021-02-22T16:50:25.380487Z",
     "iopub.status.busy": "2021-02-22T16:50:25.380363Z",
     "iopub.status.idle": "2021-02-22T16:50:25.388848Z",
     "shell.execute_reply": "2021-02-22T16:50:25.388466Z",
     "shell.execute_reply.started": "2021-02-22T16:50:25.380472Z"
    },
    "tags": []
   },
   "outputs": [
    {
     "data": {
      "text/plain": [
       "(20, 4)"
      ]
     },
     "execution_count": 3,
     "metadata": {},
     "output_type": "execute_result"
    }
   ],
   "source": [
    "from itertools import chain\n",
    "import nltk\n",
    "\n",
    "dist = nltk.FreqDist(list(chain(*df.normalized)))\n",
    "dist = pd.Series([v for _, v in dist.items()], dist.keys()).sort_values(ascending=False)\n",
    "dist = dist[dist > 1]\n",
    "valid_tokens = set(list(dist.index))\n",
    "\n",
    "df['valid'] = df.normalized.apply(lambda tokens: [t for t in tokens if t in valid_tokens])\n",
    "df.shape"
   ]
  },
  {
   "cell_type": "markdown",
   "id": "confidential-forward",
   "metadata": {},
   "source": [
    "## Topic modeling\n",
    "\n",
    "Now we will apply Latent Semantic Indexing `LSI` and Laten Dirchlet Allocation `LDA` for topic modeling. "
   ]
  },
  {
   "cell_type": "code",
   "execution_count": 4,
   "id": "durable-hopkins",
   "metadata": {
    "execution": {
     "iopub.execute_input": "2021-02-22T16:50:25.389430Z",
     "iopub.status.busy": "2021-02-22T16:50:25.389319Z",
     "iopub.status.idle": "2021-02-22T16:50:25.542897Z",
     "shell.execute_reply": "2021-02-22T16:50:25.542408Z",
     "shell.execute_reply.started": "2021-02-22T16:50:25.389415Z"
    },
    "tags": []
   },
   "outputs": [],
   "source": [
    "from gensim import corpora\n",
    "\n",
    "dictionary = corpora.Dictionary(df.valid)\n",
    "corpus = [dictionary.doc2bow(text) for text in df.valid]"
   ]
  },
  {
   "cell_type": "code",
   "execution_count": 5,
   "id": "offshore-installation",
   "metadata": {
    "execution": {
     "iopub.execute_input": "2021-02-22T16:50:25.543408Z",
     "iopub.status.busy": "2021-02-22T16:50:25.543296Z",
     "iopub.status.idle": "2021-02-22T16:50:25.588556Z",
     "shell.execute_reply": "2021-02-22T16:50:25.588074Z",
     "shell.execute_reply.started": "2021-02-22T16:50:25.543393Z"
    },
    "tags": []
   },
   "outputs": [],
   "source": [
    "from gensim import models\n",
    "\n",
    "tfidf_model = models.TfidfModel(corpus)\n",
    "corpus_tfidf = tfidf_model[corpus]\n",
    "\n",
    "lsi_model = models.LsiModel(corpus_tfidf, id2word=dictionary, num_topics=2)\n",
    "corpus_lsi = lsi_model[corpus_tfidf]\n",
    "\n",
    "lda_model = models.LdaModel(corpus, id2word=dictionary, iterations=50, num_topics=2)\n",
    "corpus_lda = lda_model[corpus]"
   ]
  },
  {
   "cell_type": "markdown",
   "id": "satellite-bryan",
   "metadata": {},
   "source": [
    "### Visualize document vectors\n",
    "\n",
    "The LSI and LDA models can transform the documents into vector representation in principal component `PC` or probabilistic space, respectively. We try to visualize the documents in these spaces as a 2D visualization. "
   ]
  },
  {
   "cell_type": "code",
   "execution_count": 6,
   "id": "invisible-deputy",
   "metadata": {
    "execution": {
     "iopub.execute_input": "2021-02-22T16:50:25.589182Z",
     "iopub.status.busy": "2021-02-22T16:50:25.589068Z",
     "iopub.status.idle": "2021-02-22T16:50:25.597198Z",
     "shell.execute_reply": "2021-02-22T16:50:25.596741Z",
     "shell.execute_reply.started": "2021-02-22T16:50:25.589167Z"
    },
    "tags": []
   },
   "outputs": [],
   "source": [
    "import numpy as np\n",
    "\n",
    "lsi_data = np.array([[tup[1] for tup in arr] for arr in corpus_lsi])\n",
    "lda_data = np.array([[tup[1] for tup in arr] for arr in corpus_lda])"
   ]
  },
  {
   "cell_type": "code",
   "execution_count": 7,
   "id": "sustainable-expense",
   "metadata": {
    "execution": {
     "iopub.execute_input": "2021-02-22T16:50:25.597901Z",
     "iopub.status.busy": "2021-02-22T16:50:25.597717Z",
     "iopub.status.idle": "2021-02-22T16:50:25.838581Z",
     "shell.execute_reply": "2021-02-22T16:50:25.838120Z",
     "shell.execute_reply.started": "2021-02-22T16:50:25.597886Z"
    },
    "tags": []
   },
   "outputs": [
    {
     "data": {
      "image/png": "[encoded data removed]",
      "text/plain": [
       "<Figure size 360x360 with 1 Axes>"
      ]
     },
     "metadata": {
      "needs_background": "light"
     },
     "output_type": "display_data"
    }
   ],
   "source": [
    "import matplotlib.pyplot as plt\n",
    "\n",
    "x = lsi_data[:,0]\n",
    "y = lsi_data[:,1]\n",
    "c = ['r' if i == 0 else 'g' for i in df.clazz]\n",
    "\n",
    "fig, ax = plt.subplots(figsize=(5, 5))\n",
    "_ = ax.scatter(x, y, c=c)"
   ]
  },
  {
   "cell_type": "code",
   "execution_count": 8,
   "id": "spoken-teacher",
   "metadata": {
    "execution": {
     "iopub.execute_input": "2021-02-22T16:50:25.839112Z",
     "iopub.status.busy": "2021-02-22T16:50:25.838999Z",
     "iopub.status.idle": "2021-02-22T16:50:25.928289Z",
     "shell.execute_reply": "2021-02-22T16:50:25.927701Z",
     "shell.execute_reply.started": "2021-02-22T16:50:25.839098Z"
    },
    "tags": []
   },
   "outputs": [
    {
     "data": {
      "image/png": "[encoded data removed]",
      "text/plain": [
       "<Figure size 360x360 with 1 Axes>"
      ]
     },
     "metadata": {
      "needs_background": "light"
     },
     "output_type": "display_data"
    }
   ],
   "source": [
    "x = lda_data[:,0]\n",
    "y = lda_data[:,1]\n",
    "c = ['r' if i == 0 else 'g' for i in df.clazz]\n",
    "\n",
    "fig, ax = plt.subplots(figsize=(5, 5))\n",
    "_ = ax.scatter(x, y, c=c)"
   ]
  },
  {
   "cell_type": "markdown",
   "id": "peripheral-nelson",
   "metadata": {},
   "source": [
    "### Print word to topic relevance\n",
    "\n",
    "The word importances to each topic can also be retrieved."
   ]
  },
  {
   "cell_type": "code",
   "execution_count": 9,
   "id": "sustainable-climb",
   "metadata": {
    "execution": {
     "iopub.execute_input": "2021-02-22T16:50:25.928890Z",
     "iopub.status.busy": "2021-02-22T16:50:25.928767Z",
     "iopub.status.idle": "2021-02-22T16:50:25.931833Z",
     "shell.execute_reply": "2021-02-22T16:50:25.931541Z",
     "shell.execute_reply.started": "2021-02-22T16:50:25.928874Z"
    },
    "tags": []
   },
   "outputs": [
    {
     "data": {
      "text/plain": [
       "[(0,\n",
       "  '-0.641*\"data\" + -0.572*\"science\" + -0.412*\"python\" + -0.165*\"learning\" + -0.119*\"introduction\" + -0.109*\"business\" + -0.100*\"data-driven\" + -0.080*\"finance\" + -0.079*\"guide\" + -0.065*\"thinking\"'),\n",
       " (1,\n",
       "  '-0.638*\"finance\" + -0.380*\"investment\" + -0.312*\"real\" + -0.312*\"estate\" + -0.308*\"dummy\" + -0.200*\"personal\" + -0.176*\"introduction\" + -0.145*\"guide\" + -0.117*\"data-driven\" + 0.117*\"data\"')]"
      ]
     },
     "execution_count": 9,
     "metadata": {},
     "output_type": "execute_result"
    }
   ],
   "source": [
    "lsi_model.print_topics()"
   ]
  },
  {
   "cell_type": "code",
   "execution_count": 10,
   "id": "composed-blame",
   "metadata": {
    "execution": {
     "iopub.execute_input": "2021-02-22T16:50:25.932617Z",
     "iopub.status.busy": "2021-02-22T16:50:25.932459Z",
     "iopub.status.idle": "2021-02-22T16:50:25.935543Z",
     "shell.execute_reply": "2021-02-22T16:50:25.935158Z",
     "shell.execute_reply.started": "2021-02-22T16:50:25.932597Z"
    }
   },
   "outputs": [
    {
     "data": {
      "text/plain": [
       "[(0,\n",
       "  '0.199*\"data\" + 0.170*\"science\" + 0.079*\"python\" + 0.067*\"finance\" + 0.047*\"practical\" + 0.047*\"data-driven\" + 0.043*\"book\" + 0.042*\"need\" + 0.041*\"learning\" + 0.041*\"know\"'),\n",
       " (1,\n",
       "  '0.194*\"finance\" + 0.117*\"data\" + 0.073*\"investment\" + 0.067*\"guide\" + 0.054*\"dummy\" + 0.053*\"estate\" + 0.052*\"real\" + 0.052*\"science\" + 0.044*\"personal\" + 0.043*\"introduction\"')]"
      ]
     },
     "execution_count": 10,
     "metadata": {},
     "output_type": "execute_result"
    }
   ],
   "source": [
    "lda_model.print_topics()"
   ]
  },
  {
   "cell_type": "markdown",
   "id": "mexican-karma",
   "metadata": {},
   "source": [
    "### Check coherence\n",
    "\n",
    "The two coherence measures below are `u_mass` and `c_v`. At a high level, these scores trying to capture how well the words in each topic fit together. Better information about these scores are available at the links following. \n",
    "\n",
    "- [How does topic coherence score in LDA intuitively makes sense?](https://stats.stackexchange.com/questions/375062/how-does-topic-coherence-score-in-lda-intuitively-makes-sense)\n",
    "- [What is the formula for c_v coherence?](https://stats.stackexchange.com/questions/406216/what-is-the-formula-for-c-v-coherence)"
   ]
  },
  {
   "cell_type": "code",
   "execution_count": 11,
   "id": "amber-apparel",
   "metadata": {
    "execution": {
     "iopub.execute_input": "2021-02-22T16:50:25.936183Z",
     "iopub.status.busy": "2021-02-22T16:50:25.936076Z",
     "iopub.status.idle": "2021-02-22T16:50:25.946855Z",
     "shell.execute_reply": "2021-02-22T16:50:25.946490Z",
     "shell.execute_reply.started": "2021-02-22T16:50:25.936169Z"
    },
    "tags": []
   },
   "outputs": [
    {
     "name": "stdout",
     "output_type": "stream",
     "text": [
      "lsi -2.5045662415022893\n",
      "lda -4.4435852671814855\n"
     ]
    }
   ],
   "source": [
    "from gensim.models.coherencemodel import CoherenceModel\n",
    "\n",
    "lsi_cm = CoherenceModel(model=lsi_model, corpus=corpus_lsi, coherence='u_mass')\n",
    "lda_cm = CoherenceModel(model=lda_model, corpus=corpus_lda, coherence='u_mass')\n",
    "\n",
    "print('lsi', lsi_cm.get_coherence())\n",
    "print('lda', lda_cm.get_coherence())"
   ]
  },
  {
   "cell_type": "code",
   "execution_count": 12,
   "id": "christian-religion",
   "metadata": {
    "execution": {
     "iopub.execute_input": "2021-02-22T16:50:25.947719Z",
     "iopub.status.busy": "2021-02-22T16:50:25.947429Z",
     "iopub.status.idle": "2021-02-22T16:50:26.184147Z",
     "shell.execute_reply": "2021-02-22T16:50:26.183540Z",
     "shell.execute_reply.started": "2021-02-22T16:50:25.947687Z"
    },
    "tags": []
   },
   "outputs": [
    {
     "name": "stdout",
     "output_type": "stream",
     "text": [
      "lsi 0.5731227064090376\n",
      "lda 0.5731227064090375\n"
     ]
    }
   ],
   "source": [
    "lsi_cm = CoherenceModel(model=lsi_model, texts=df.valid, coherence='c_v')\n",
    "lda_cm = CoherenceModel(model=lda_model, texts=df.valid, coherence='c_v')\n",
    "\n",
    "print('lsi', lsi_cm.get_coherence())\n",
    "print('lda', lda_cm.get_coherence())"
   ]
  },
  {
   "cell_type": "markdown",
   "id": "victorian-small",
   "metadata": {},
   "source": [
    "### Check clustering quality"
   ]
  },
  {
   "cell_type": "code",
   "execution_count": 13,
   "id": "dying-doctrine",
   "metadata": {
    "execution": {
     "iopub.execute_input": "2021-02-22T16:50:26.185174Z",
     "iopub.status.busy": "2021-02-22T16:50:26.184988Z",
     "iopub.status.idle": "2021-02-22T16:50:26.222446Z",
     "shell.execute_reply": "2021-02-22T16:50:26.222024Z",
     "shell.execute_reply.started": "2021-02-22T16:50:26.185149Z"
    },
    "tags": []
   },
   "outputs": [
    {
     "data": {
      "text/plain": [
       "0.5873353135960044"
      ]
     },
     "execution_count": 13,
     "metadata": {},
     "output_type": "execute_result"
    }
   ],
   "source": [
    "from sklearn.cluster import KMeans\n",
    "from sklearn.metrics import silhouette_score\n",
    "\n",
    "kmeans = KMeans(n_clusters=2, random_state=37).fit(lsi_data)\n",
    "score = silhouette_score(lsi_data, kmeans.labels_)\n",
    "score"
   ]
  },
  {
   "cell_type": "code",
   "execution_count": 14,
   "id": "vocational-baseline",
   "metadata": {
    "execution": {
     "iopub.execute_input": "2021-02-22T16:50:26.223039Z",
     "iopub.status.busy": "2021-02-22T16:50:26.222929Z",
     "iopub.status.idle": "2021-02-22T16:50:26.226017Z",
     "shell.execute_reply": "2021-02-22T16:50:26.225595Z",
     "shell.execute_reply.started": "2021-02-22T16:50:26.223024Z"
    },
    "tags": []
   },
   "outputs": [
    {
     "data": {
      "text/plain": [
       "array([1, 1, 1, 1, 1, 1, 1, 1, 1, 1, 0, 0, 0, 0, 0, 0, 0, 0, 0, 0],\n",
       "      dtype=int32)"
      ]
     },
     "execution_count": 14,
     "metadata": {},
     "output_type": "execute_result"
    }
   ],
   "source": [
    "kmeans.labels_"
   ]
  },
  {
   "cell_type": "code",
   "execution_count": 15,
   "id": "revolutionary-yield",
   "metadata": {
    "execution": {
     "iopub.execute_input": "2021-02-22T16:50:26.227101Z",
     "iopub.status.busy": "2021-02-22T16:50:26.226839Z",
     "iopub.status.idle": "2021-02-22T16:50:26.242222Z",
     "shell.execute_reply": "2021-02-22T16:50:26.241800Z",
     "shell.execute_reply.started": "2021-02-22T16:50:26.227076Z"
    },
    "tags": []
   },
   "outputs": [
    {
     "data": {
      "text/plain": [
       "0.8070167"
      ]
     },
     "execution_count": 15,
     "metadata": {},
     "output_type": "execute_result"
    }
   ],
   "source": [
    "kmeans = KMeans(n_clusters=2, random_state=37).fit(lda_data)\n",
    "score = silhouette_score(lda_data, kmeans.labels_)\n",
    "score"
   ]
  },
  {
   "cell_type": "code",
   "execution_count": 16,
   "id": "unexpected-aberdeen",
   "metadata": {
    "execution": {
     "iopub.execute_input": "2021-02-22T16:50:26.242850Z",
     "iopub.status.busy": "2021-02-22T16:50:26.242738Z",
     "iopub.status.idle": "2021-02-22T16:50:26.245707Z",
     "shell.execute_reply": "2021-02-22T16:50:26.245349Z",
     "shell.execute_reply.started": "2021-02-22T16:50:26.242835Z"
    }
   },
   "outputs": [
    {
     "data": {
      "text/plain": [
       "array([1, 1, 1, 1, 1, 1, 1, 1, 1, 1, 0, 1, 0, 1, 0, 0, 0, 0, 0, 0],\n",
       "      dtype=int32)"
      ]
     },
     "execution_count": 16,
     "metadata": {},
     "output_type": "execute_result"
    }
   ],
   "source": [
    "kmeans.labels_"
   ]
  },
  {
   "cell_type": "code",
   "execution_count": null,
   "id": "cordless-engagement",
   "metadata": {},
   "outputs": [],
   "source": []
  }
 ],
 "metadata": {
  "kernelspec": {
   "display_name": "Python 3",
   "language": "python",
   "name": "python3"
  },
  "language_info": {
   "codemirror_mode": {
    "name": "ipython",
    "version": 3
   },
   "file_extension": ".py",
   "mimetype": "text/x-python",
   "name": "python",
   "nbconvert_exporter": "python",
   "pygments_lexer": "ipython3",
   "version": "3.8.3"
  },
  "widgets": {
   "application/vnd.jupyter.widget-state+json": {
    "state": {},
    "version_major": 2,
    "version_minor": 0
   }
  }
 },
 "nbformat": 4,
 "nbformat_minor": 5
}
