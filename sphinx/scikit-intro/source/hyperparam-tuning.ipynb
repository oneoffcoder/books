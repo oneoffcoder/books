{
 "cells": [
  {
   "cell_type": "markdown",
   "metadata": {},
   "source": [
    "# Hyperparameter Tuning\n",
    "\n",
    "Scikit has many approaches to optimizing or tuning the hyperparameters of models. Let's take a look at how we can use `GridSearchCV` to search over a space of possible hyperparamter combinations."
   ]
  },
  {
   "cell_type": "markdown",
   "metadata": {},
   "source": [
    "## Create data\n",
    "\n",
    "Let's create a dummy binary classification dataset."
   ]
  },
  {
   "cell_type": "code",
   "execution_count": null,
   "metadata": {},
   "outputs": [],
   "source": [
    "import numpy as np\n",
    "from sklearn.datasets import make_classification\n",
    "\n",
    "np.random.seed(37)\n",
    "\n",
    "X, y = make_classification(**{\n",
    "    'n_samples': 2000,\n",
    "    'n_features': 20,\n",
    "    'n_informative': 2,\n",
    "    'n_redundant': 2,\n",
    "    'n_repeated': 0,\n",
    "    'n_classes': 2,\n",
    "    'n_clusters_per_class': 2,\n",
    "    'random_state': 37\n",
    "})\n",
    "\n",
    "print(f'X shape = {X.shape}, y shape {y.shape}')"
   ]
  },
  {
   "cell_type": "markdown",
   "metadata": {},
   "source": [
    "## Tuning Logistic Regression\n",
    "\n",
    "Let's try to tune a logistic regression model. The logistic regression model will be referred to as the `estimator`; it is this estimator's possible hyperparamters that we want to optimize. When tuning hyperparameters, we also need a way to split the data, and here, we will use `StratifiedKFold`. Another important input to the grid search is the `param_grid` argument, which is a dictionary specifying the search space of each hyperparameter. Here, our search space is simple, it is over the `regularization strength`. Lastly, we need an optimization criteria, and we specify that through the [scoring argument](https://scikit-learn.org/stable/modules/model_evaluation.html#scoring-parameter)."
   ]
  },
  {
   "cell_type": "code",
   "execution_count": null,
   "metadata": {},
   "outputs": [],
   "source": [
    "from sklearn.linear_model import LogisticRegression\n",
    "from sklearn.model_selection import GridSearchCV, StratifiedKFold\n",
    "\n",
    "p = {\n",
    "    'solver': 'sag',\n",
    "    'penalty': 'l2',\n",
    "    'random_state': 37,\n",
    "    'max_iter': 100\n",
    "}\n",
    "estimator = LogisticRegression(**p)\n",
    "\n",
    "p = {\n",
    "    'n_splits': 5,\n",
    "    'shuffle': True,\n",
    "    'random_state': 37\n",
    "}\n",
    "cv = StratifiedKFold(**p)\n",
    "\n",
    "p = {\n",
    "    'estimator': estimator,\n",
    "    'cv': cv,\n",
    "    'param_grid': {\n",
    "        'C': [0.01, 0.1, 0.2, 0.3, 0.4, 0.5, 0.6, 0.7, 0.8, 0.9, 1.0]\n",
    "    },\n",
    "    'scoring': {\n",
    "        'auc': 'roc_auc',\n",
    "        'apr': 'average_precision'\n",
    "    },\n",
    "    'verbose': 5,\n",
    "    'refit': 'auc',\n",
    "    'error_score': np.NaN,\n",
    "    'n_jobs': -1\n",
    "}\n",
    "model = GridSearchCV(**p)\n",
    "\n",
    "model.fit(X, y)"
   ]
  },
  {
   "cell_type": "markdown",
   "metadata": {},
   "source": [
    "The `best_params_` property gives the best combination of hyperparameters."
   ]
  },
  {
   "cell_type": "code",
   "execution_count": null,
   "metadata": {},
   "outputs": [],
   "source": [
    "model.best_params_"
   ]
  },
  {
   "cell_type": "markdown",
   "metadata": {},
   "source": [
    "The `best_score_` property gives the best score."
   ]
  },
  {
   "cell_type": "code",
   "execution_count": null,
   "metadata": {},
   "outputs": [],
   "source": [
    "model.best_score_"
   ]
  },
  {
   "cell_type": "markdown",
   "metadata": {},
   "source": [
    "To retrieve the best estimator induced by the search and scoring criteria, access `best_estimator_`."
   ]
  },
  {
   "cell_type": "code",
   "execution_count": null,
   "metadata": {},
   "outputs": [],
   "source": [
    "model.best_estimator_"
   ]
  },
  {
   "cell_type": "markdown",
   "metadata": {},
   "source": [
    "## Tuning Random Forest\n",
    "\n",
    "Here, we tune a `RandomForestClassifier`."
   ]
  },
  {
   "cell_type": "code",
   "execution_count": null,
   "metadata": {},
   "outputs": [],
   "source": [
    "from sklearn.ensemble import RandomForestClassifier\n",
    "\n",
    "p = {\n",
    "    'random_state': 37\n",
    "}\n",
    "estimator = RandomForestClassifier(**p)\n",
    "\n",
    "p = {\n",
    "    'n_splits': 5,\n",
    "    'shuffle': True,\n",
    "    'random_state': 37\n",
    "}\n",
    "cv = StratifiedKFold(**p)\n",
    "\n",
    "p = {\n",
    "    'estimator': estimator,\n",
    "    'cv': cv,\n",
    "    'param_grid': {\n",
    "        'n_estimators': [10, 20, 30, 40, 50, 60, 70, 80, 90, 100],\n",
    "        'criterion': ['gini', 'entropy']\n",
    "    },\n",
    "    'scoring': {\n",
    "        'auc': 'roc_auc',\n",
    "        'apr': 'average_precision'\n",
    "    },\n",
    "    'verbose': 5,\n",
    "    'refit': 'auc',\n",
    "    'error_score': np.NaN,\n",
    "    'n_jobs': -1\n",
    "}\n",
    "model = GridSearchCV(**p)\n",
    "\n",
    "model.fit(X, y)"
   ]
  },
  {
   "cell_type": "code",
   "execution_count": null,
   "metadata": {},
   "outputs": [],
   "source": [
    "model.best_params_"
   ]
  },
  {
   "cell_type": "code",
   "execution_count": null,
   "metadata": {},
   "outputs": [],
   "source": [
    "model.best_score_"
   ]
  },
  {
   "cell_type": "code",
   "execution_count": null,
   "metadata": {},
   "outputs": [],
   "source": [
    "model.best_estimator_"
   ]
  },
  {
   "cell_type": "markdown",
   "metadata": {},
   "source": [
    "## Tuning with a pipeline\n",
    "\n",
    "Our estimator can also be a pipeline. For each processor in the pipeline, we can also specify the parameter grid."
   ]
  },
  {
   "cell_type": "code",
   "execution_count": null,
   "metadata": {},
   "outputs": [],
   "source": [
    "from sklearn.pipeline import Pipeline\n",
    "from sklearn.decomposition import PCA\n",
    "from sklearn.preprocessing import MinMaxScaler\n",
    "\n",
    "scaler = MinMaxScaler()\n",
    "pca = PCA()\n",
    "rf = RandomForestClassifier(**{\n",
    "    'random_state': 37\n",
    "})\n",
    "pipeline = Pipeline(steps=[('scaler', scaler), ('pca', pca), ('rf', rf)])\n",
    "\n",
    "cv = StratifiedKFold(**{\n",
    "    'n_splits': 5,\n",
    "    'shuffle': True,\n",
    "    'random_state': 37\n",
    "})\n",
    "\n",
    "model = GridSearchCV(**{\n",
    "    'estimator': pipeline,\n",
    "    'cv': cv,\n",
    "    'param_grid': {\n",
    "        'scaler__feature_range': [(0, 1), (0, 2)],\n",
    "        'pca__n_components': [2, 3, 4, 5, 10, 11, 12, 15],\n",
    "        'rf__n_estimators': [10, 20, 30, 40, 50, 60, 70, 80, 90, 100],\n",
    "        'rf__criterion': ['gini', 'entropy']\n",
    "    },\n",
    "    'scoring': {\n",
    "        'auc': 'roc_auc',\n",
    "        'apr': 'average_precision'\n",
    "    },\n",
    "    'verbose': 5,\n",
    "    'refit': 'auc',\n",
    "    'error_score': np.NaN,\n",
    "    'n_jobs': -1\n",
    "})\n",
    "\n",
    "model.fit(X, y)"
   ]
  },
  {
   "cell_type": "code",
   "execution_count": null,
   "metadata": {},
   "outputs": [],
   "source": [
    "model.best_params_"
   ]
  },
  {
   "cell_type": "code",
   "execution_count": null,
   "metadata": {},
   "outputs": [],
   "source": [
    "model.best_score_"
   ]
  },
  {
   "cell_type": "code",
   "execution_count": null,
   "metadata": {},
   "outputs": [],
   "source": [
    "model.best_estimator_"
   ]
  },
  {
   "cell_type": "markdown",
   "metadata": {},
   "source": [
    "## Validation with tuning\n",
    "\n",
    "In some cases, you might want to validate the hyperparameter tuning as a part of your learning process. In this example, we show an example of how to so. Here are some things to note in this example.\n",
    "\n",
    "- The data generated will be multiclass.\n",
    "- We will implement custom scorers. The average precision score does not natively handle the multi-class label, and we will have to transform the ground truth lables into a one-hot encoded vector.\n",
    "\n",
    "Now let's generate some data."
   ]
  },
  {
   "cell_type": "code",
   "execution_count": null,
   "metadata": {},
   "outputs": [],
   "source": [
    "X, y = make_classification(**{\n",
    "    'n_samples': 1000,\n",
    "    'n_features': 10,\n",
    "    'n_clusters_per_class': 1,\n",
    "    'n_classes': 3,\n",
    "    'random_state': 37\n",
    "})\n",
    "\n",
    "print(f'X shape = {X.shape}, y shape {y.shape}')"
   ]
  },
  {
   "cell_type": "markdown",
   "metadata": {},
   "source": [
    "Below, we create a `model` that is a grid search based on random forest. Note how we use the `make_scorer()` method to create custom scorers. "
   ]
  },
  {
   "cell_type": "code",
   "execution_count": null,
   "metadata": {},
   "outputs": [],
   "source": [
    "from sklearn.metrics import roc_auc_score, average_precision_score, make_scorer\n",
    "from sklearn.preprocessing import OneHotEncoder\n",
    "\n",
    "def apr_score(y_true, y_pred, average='micro'):\n",
    "    encoder = OneHotEncoder()\n",
    "    Y = encoder.fit_transform(y_true.reshape(-1, 1)).todense()\n",
    "    \n",
    "    return average_precision_score(Y, y_pred, average=average)\n",
    "\n",
    "def get_model():\n",
    "    scaler = MinMaxScaler()\n",
    "    pca = PCA()\n",
    "    rf = RandomForestClassifier(**{\n",
    "        'random_state': 37\n",
    "    })\n",
    "    pipeline = Pipeline(steps=[('scaler', scaler), ('pca', pca), ('rf', rf)])\n",
    "\n",
    "    cv = StratifiedKFold(**{\n",
    "        'n_splits': 5,\n",
    "        'shuffle': True,\n",
    "        'random_state': 37\n",
    "    })\n",
    "    \n",
    "    auc_scorer = make_scorer(\n",
    "        roc_auc_score, \n",
    "        greater_is_better=True, \n",
    "        needs_proba=True, \n",
    "        multi_class='ovo')\n",
    "    apr_scorer_macro = make_scorer(\n",
    "        apr_score, \n",
    "        greater_is_better=True, \n",
    "        needs_proba=True, \n",
    "        average='macro')\n",
    "    apr_scorer_micro = make_scorer(\n",
    "        apr_score, \n",
    "        greater_is_better=True, \n",
    "        needs_proba=True, \n",
    "        average='micro')\n",
    "    apr_scorer_weighted = make_scorer(\n",
    "        apr_score, \n",
    "        greater_is_better=True, \n",
    "        needs_proba=True, \n",
    "        average='weighted')\n",
    "\n",
    "    model = GridSearchCV(**{\n",
    "        'estimator': pipeline,\n",
    "        'cv': cv,\n",
    "        'param_grid': {\n",
    "            'scaler__feature_range': [(0, 1), (0, 2)],\n",
    "            'pca__n_components': [2, 3, 4, 5, 10, 11, 12, 15],\n",
    "            'rf__n_estimators': [2, 3, 4, 5, 6, 7, 8, 9, 10, 11, 12, 13, 14, 15],\n",
    "            'rf__criterion': ['gini', 'entropy']\n",
    "        },\n",
    "        'scoring': {\n",
    "            'auc': auc_scorer,\n",
    "            'apr_scorer_macro': apr_scorer_macro,\n",
    "            'apr_scorer_micro': apr_scorer_micro,\n",
    "            'apr_scorer_weighted': apr_scorer_weighted\n",
    "        },\n",
    "        'verbose': 5,\n",
    "        'refit': 'apr_scorer_micro',\n",
    "        'error_score': np.NaN,\n",
    "        'n_jobs': -1\n",
    "    })\n",
    "    return model"
   ]
  },
  {
   "cell_type": "markdown",
   "metadata": {},
   "source": [
    "Now we can perform stratified, k-fold cross-validation while incorporating hyperparameter tuning as a part of the validation process."
   ]
  },
  {
   "cell_type": "code",
   "execution_count": null,
   "metadata": {},
   "outputs": [],
   "source": [
    "import pandas as pd\n",
    "\n",
    "results = []\n",
    "\n",
    "for tr, te in StratifiedKFold(random_state=37, shuffle=True, n_splits=10).split(X, y):\n",
    "    X_tr, X_te = X[tr], X[te]\n",
    "    y_tr, y_te = y[tr], y[te]\n",
    "    \n",
    "    model = get_model()\n",
    "    model.fit(X_tr, y_tr)\n",
    "    \n",
    "    y_pred = model.predict_proba(X_te)\n",
    "    \n",
    "    auc_ovr = roc_auc_score(y_te, y_pred, multi_class='ovr')\n",
    "    auc_ovo = roc_auc_score(y_te, y_pred, multi_class='ovo')\n",
    "    apr_macro = apr_score(y_te, y_pred, average='macro')\n",
    "    apr_micro = apr_score(y_te, y_pred, average='micro')\n",
    "    apr_weighted = apr_score(y_te, y_pred, average='weighted')\n",
    "    \n",
    "    results.append({\n",
    "        'auc_ovr': auc_ovr,\n",
    "        'auc_ovo': auc_ovo,\n",
    "        'apr_macro': apr_macro,\n",
    "        'apr_micro': apr_micro,\n",
    "        'apr_weighted': apr_weighted\n",
    "    })\n",
    "    \n",
    "rdf = pd.DataFrame(results)"
   ]
  },
  {
   "cell_type": "code",
   "execution_count": null,
   "metadata": {},
   "outputs": [],
   "source": [
    "rdf.mean()"
   ]
  },
  {
   "cell_type": "code",
   "execution_count": null,
   "metadata": {},
   "outputs": [],
   "source": [
    "from tune_sklearn import TuneGridSearchCV\n",
    "\n",
    "def get_model():\n",
    "    scaler = MinMaxScaler()\n",
    "    pca = PCA()\n",
    "    rf = RandomForestClassifier(**{\n",
    "        'random_state': 37\n",
    "    })\n",
    "    pipeline = Pipeline(steps=[('scaler', scaler), ('pca', pca), ('rf', rf)])\n",
    "\n",
    "    cv = StratifiedKFold(**{\n",
    "        'n_splits': 5,\n",
    "        'shuffle': True,\n",
    "        'random_state': 37\n",
    "    })\n",
    "    \n",
    "    auc_scorer = make_scorer(\n",
    "        roc_auc_score, \n",
    "        greater_is_better=True, \n",
    "        needs_proba=True, \n",
    "        multi_class='ovo')\n",
    "    apr_scorer_macro = make_scorer(\n",
    "        apr_score, \n",
    "        greater_is_better=True, \n",
    "        needs_proba=True, \n",
    "        average='macro')\n",
    "    apr_scorer_micro = make_scorer(\n",
    "        apr_score, \n",
    "        greater_is_better=True, \n",
    "        needs_proba=True, \n",
    "        average='micro')\n",
    "    apr_scorer_weighted = make_scorer(\n",
    "        apr_score, \n",
    "        greater_is_better=True, \n",
    "        needs_proba=True, \n",
    "        average='weighted')\n",
    "\n",
    "    model = TuneGridSearchCV(**{\n",
    "        'estimator': pipeline,\n",
    "        'cv': cv,\n",
    "        'param_grid': {\n",
    "            'scaler__feature_range': [(0, 1), (0, 2)],\n",
    "            'pca__n_components': [2, 3, 4, 5, 6, 7, 8, 9, 10],\n",
    "            'rf__criterion': ['gini', 'entropy']\n",
    "        },\n",
    "        'scoring': {\n",
    "            'auc': auc_scorer,\n",
    "            'apr_scorer_macro': apr_scorer_macro,\n",
    "            'apr_scorer_micro': apr_scorer_micro,\n",
    "            'apr_scorer_weighted': apr_scorer_weighted\n",
    "        },\n",
    "        'verbose': 1,\n",
    "        'refit': 'apr_scorer_micro',\n",
    "        'error_score': np.NaN,\n",
    "        'n_jobs': -1,\n",
    "        'early_stopping': 'MedianStoppingRule',\n",
    "        'max_iters': 10\n",
    "    })\n",
    "    return model"
   ]
  },
  {
   "cell_type": "code",
   "execution_count": null,
   "metadata": {},
   "outputs": [],
   "source": [
    "results = []\n",
    "\n",
    "for tr, te in StratifiedKFold(random_state=37, shuffle=True, n_splits=5).split(X, y):\n",
    "    X_tr, X_te = X[tr], X[te]\n",
    "    y_tr, y_te = y[tr], y[te]\n",
    "    \n",
    "    model = get_model()\n",
    "    model.fit(X_tr, y_tr)\n",
    "    \n",
    "    y_pred = model.predict_proba(X_te)\n",
    "    \n",
    "    auc_ovr = roc_auc_score(y_te, y_pred, multi_class='ovr')\n",
    "    auc_ovo = roc_auc_score(y_te, y_pred, multi_class='ovo')\n",
    "    apr_macro = apr_score(y_te, y_pred, average='macro')\n",
    "    apr_micro = apr_score(y_te, y_pred, average='micro')\n",
    "    apr_weighted = apr_score(y_te, y_pred, average='weighted')\n",
    "    \n",
    "    results.append({\n",
    "        'auc_ovr': auc_ovr,\n",
    "        'auc_ovo': auc_ovo,\n",
    "        'apr_macro': apr_macro,\n",
    "        'apr_micro': apr_micro,\n",
    "        'apr_weighted': apr_weighted\n",
    "    })\n",
    "    \n",
    "rdf = pd.DataFrame(results)"
   ]
  },
  {
   "cell_type": "code",
   "execution_count": null,
   "metadata": {},
   "outputs": [],
   "source": [
    "rdf.mean()"
   ]
  },
  {
   "cell_type": "code",
   "execution_count": null,
   "metadata": {},
   "outputs": [],
   "source": []
  }
 ],
 "metadata": {
  "kernelspec": {
   "display_name": "Python 3",
   "language": "python",
   "name": "python3"
  },
  "language_info": {
   "codemirror_mode": {
    "name": "ipython",
    "version": 3
   },
   "file_extension": ".py",
   "mimetype": "text/x-python",
   "name": "python",
   "nbconvert_exporter": "python",
   "pygments_lexer": "ipython3",
   "version": "3.8.5"
  }
 },
 "nbformat": 4,
 "nbformat_minor": 4
}
