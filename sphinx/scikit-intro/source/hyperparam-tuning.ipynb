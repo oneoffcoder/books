{
 "cells": [
  {
   "cell_type": "markdown",
   "metadata": {},
   "source": [
    "# Hyperparameter Tuning\n",
    "\n",
    "Scikit has many approaches to optimizing or tuning the hyperparameters of models. Let's take a look at how we can use `GridSearchCV` to search over a space of possible hyperparamter combinations."
   ]
  },
  {
   "cell_type": "markdown",
   "metadata": {},
   "source": [
    "## Create data\n",
    "\n",
    "Let's create a dummy binary classification dataset."
   ]
  },
  {
   "cell_type": "code",
   "execution_count": 1,
   "metadata": {},
   "outputs": [
    {
     "name": "stdout",
     "output_type": "stream",
     "text": [
      "X shape = (2000, 20), y shape (2000,)\n"
     ]
    }
   ],
   "source": [
    "import numpy as np\n",
    "from sklearn.datasets import make_classification\n",
    "\n",
    "np.random.seed(37)\n",
    "\n",
    "X, y = make_classification(**{\n",
    "    'n_samples': 2000,\n",
    "    'n_features': 20,\n",
    "    'n_informative': 2,\n",
    "    'n_redundant': 2,\n",
    "    'n_repeated': 0,\n",
    "    'n_classes': 2,\n",
    "    'n_clusters_per_class': 2,\n",
    "    'random_state': 37\n",
    "})\n",
    "\n",
    "print(f'X shape = {X.shape}, y shape {y.shape}')"
   ]
  },
  {
   "cell_type": "markdown",
   "metadata": {},
   "source": [
    "## Tuning Logistic Regression\n",
    "\n",
    "Let's try to tune a logistic regression model. The logistic regression model will be referred to as the `estimator`; it is this estimator's possible hyperparamters that we want to optimize. When tuning hyperparameters, we also need a way to split the data, and here, we will use `StratifiedKFold`. Another important input to the grid search is the `param_grid` argument, which is a dictionary specifying the search space of each hyperparameter. Here, our search space is simple, it is over the `regularization strength`. Lastly, we need an optimization criteria, and we specify that through the [scoring argument](https://scikit-learn.org/stable/modules/model_evaluation.html#scoring-parameter)."
   ]
  },
  {
   "cell_type": "code",
   "execution_count": 2,
   "metadata": {},
   "outputs": [
    {
     "name": "stdout",
     "output_type": "stream",
     "text": [
      "Fitting 5 folds for each of 11 candidates, totalling 55 fits\n"
     ]
    },
    {
     "name": "stderr",
     "output_type": "stream",
     "text": [
      "[Parallel(n_jobs=-1)]: Using backend LokyBackend with 16 concurrent workers.\n",
      "[Parallel(n_jobs=-1)]: Done  36 out of  55 | elapsed:    2.9s remaining:    1.5s\n",
      "[Parallel(n_jobs=-1)]: Done  48 out of  55 | elapsed:    2.9s remaining:    0.3s\n",
      "[Parallel(n_jobs=-1)]: Done  55 out of  55 | elapsed:    2.9s finished\n"
     ]
    },
    {
     "data": {
      "text/plain": [
       "GridSearchCV(cv=StratifiedKFold(n_splits=5, random_state=37, shuffle=True),\n",
       "             estimator=LogisticRegression(random_state=37, solver='sag'),\n",
       "             n_jobs=-1,\n",
       "             param_grid={'C': [0.01, 0.1, 0.2, 0.3, 0.4, 0.5, 0.6, 0.7, 0.8,\n",
       "                               0.9, 1.0]},\n",
       "             refit='auc',\n",
       "             scoring={'apr': 'average_precision', 'auc': 'roc_auc'}, verbose=5)"
      ]
     },
     "execution_count": 2,
     "metadata": {},
     "output_type": "execute_result"
    }
   ],
   "source": [
    "from sklearn.linear_model import LogisticRegression\n",
    "from sklearn.model_selection import GridSearchCV, StratifiedKFold\n",
    "\n",
    "p = {\n",
    "    'solver': 'sag',\n",
    "    'penalty': 'l2',\n",
    "    'random_state': 37,\n",
    "    'max_iter': 100\n",
    "}\n",
    "estimator = LogisticRegression(**p)\n",
    "\n",
    "p = {\n",
    "    'n_splits': 5,\n",
    "    'shuffle': True,\n",
    "    'random_state': 37\n",
    "}\n",
    "cv = StratifiedKFold(**p)\n",
    "\n",
    "p = {\n",
    "    'estimator': estimator,\n",
    "    'cv': cv,\n",
    "    'param_grid': {\n",
    "        'C': [0.01, 0.1, 0.2, 0.3, 0.4, 0.5, 0.6, 0.7, 0.8, 0.9, 1.0]\n",
    "    },\n",
    "    'scoring': {\n",
    "        'auc': 'roc_auc',\n",
    "        'apr': 'average_precision'\n",
    "    },\n",
    "    'verbose': 5,\n",
    "    'refit': 'auc',\n",
    "    'error_score': np.NaN,\n",
    "    'n_jobs': -1\n",
    "}\n",
    "model = GridSearchCV(**p)\n",
    "\n",
    "model.fit(X, y)"
   ]
  },
  {
   "cell_type": "markdown",
   "metadata": {},
   "source": [
    "The `best_params_` property gives the best combination of hyperparameters."
   ]
  },
  {
   "cell_type": "code",
   "execution_count": 3,
   "metadata": {},
   "outputs": [
    {
     "data": {
      "text/plain": [
       "{'C': 0.4}"
      ]
     },
     "execution_count": 3,
     "metadata": {},
     "output_type": "execute_result"
    }
   ],
   "source": [
    "model.best_params_"
   ]
  },
  {
   "cell_type": "markdown",
   "metadata": {},
   "source": [
    "The `best_score_` property gives the best score."
   ]
  },
  {
   "cell_type": "code",
   "execution_count": 4,
   "metadata": {},
   "outputs": [
    {
     "data": {
      "text/plain": [
       "0.9644498503712592"
      ]
     },
     "execution_count": 4,
     "metadata": {},
     "output_type": "execute_result"
    }
   ],
   "source": [
    "model.best_score_"
   ]
  },
  {
   "cell_type": "markdown",
   "metadata": {},
   "source": [
    "To retrieve the best estimator induced by the search and scoring criteria, access `best_estimator_`."
   ]
  },
  {
   "cell_type": "code",
   "execution_count": 5,
   "metadata": {},
   "outputs": [
    {
     "data": {
      "text/plain": [
       "LogisticRegression(C=0.4, random_state=37, solver='sag')"
      ]
     },
     "execution_count": 5,
     "metadata": {},
     "output_type": "execute_result"
    }
   ],
   "source": [
    "model.best_estimator_"
   ]
  },
  {
   "cell_type": "markdown",
   "metadata": {},
   "source": [
    "## Tuning Random Forest\n",
    "\n",
    "Here, we tune a `RandomForestClassifier`."
   ]
  },
  {
   "cell_type": "code",
   "execution_count": 6,
   "metadata": {},
   "outputs": [
    {
     "name": "stdout",
     "output_type": "stream",
     "text": [
      "Fitting 5 folds for each of 20 candidates, totalling 100 fits\n"
     ]
    },
    {
     "name": "stderr",
     "output_type": "stream",
     "text": [
      "[Parallel(n_jobs=-1)]: Using backend LokyBackend with 16 concurrent workers.\n",
      "[Parallel(n_jobs=-1)]: Done  48 out of 100 | elapsed:    1.4s remaining:    1.6s\n",
      "[Parallel(n_jobs=-1)]: Done  90 out of 100 | elapsed:    3.0s remaining:    0.2s\n",
      "[Parallel(n_jobs=-1)]: Done 100 out of 100 | elapsed:    3.4s finished\n"
     ]
    },
    {
     "data": {
      "text/plain": [
       "GridSearchCV(cv=StratifiedKFold(n_splits=5, random_state=37, shuffle=True),\n",
       "             estimator=RandomForestClassifier(random_state=37), n_jobs=-1,\n",
       "             param_grid={'criterion': ['gini', 'entropy'],\n",
       "                         'n_estimators': [10, 20, 30, 40, 50, 60, 70, 80, 90,\n",
       "                                          100]},\n",
       "             refit='auc',\n",
       "             scoring={'apr': 'average_precision', 'auc': 'roc_auc'}, verbose=5)"
      ]
     },
     "execution_count": 6,
     "metadata": {},
     "output_type": "execute_result"
    }
   ],
   "source": [
    "from sklearn.ensemble import RandomForestClassifier\n",
    "\n",
    "p = {\n",
    "    'random_state': 37\n",
    "}\n",
    "estimator = RandomForestClassifier(**p)\n",
    "\n",
    "p = {\n",
    "    'n_splits': 5,\n",
    "    'shuffle': True,\n",
    "    'random_state': 37\n",
    "}\n",
    "cv = StratifiedKFold(**p)\n",
    "\n",
    "p = {\n",
    "    'estimator': estimator,\n",
    "    'cv': cv,\n",
    "    'param_grid': {\n",
    "        'n_estimators': [10, 20, 30, 40, 50, 60, 70, 80, 90, 100],\n",
    "        'criterion': ['gini', 'entropy']\n",
    "    },\n",
    "    'scoring': {\n",
    "        'auc': 'roc_auc',\n",
    "        'apr': 'average_precision'\n",
    "    },\n",
    "    'verbose': 5,\n",
    "    'refit': 'auc',\n",
    "    'error_score': np.NaN,\n",
    "    'n_jobs': -1\n",
    "}\n",
    "model = GridSearchCV(**p)\n",
    "\n",
    "model.fit(X, y)"
   ]
  },
  {
   "cell_type": "code",
   "execution_count": 7,
   "metadata": {},
   "outputs": [
    {
     "data": {
      "text/plain": [
       "{'criterion': 'entropy', 'n_estimators': 50}"
      ]
     },
     "execution_count": 7,
     "metadata": {},
     "output_type": "execute_result"
    }
   ],
   "source": [
    "model.best_params_"
   ]
  },
  {
   "cell_type": "code",
   "execution_count": 8,
   "metadata": {},
   "outputs": [
    {
     "data": {
      "text/plain": [
       "0.9763199132478311"
      ]
     },
     "execution_count": 8,
     "metadata": {},
     "output_type": "execute_result"
    }
   ],
   "source": [
    "model.best_score_"
   ]
  },
  {
   "cell_type": "code",
   "execution_count": 9,
   "metadata": {},
   "outputs": [
    {
     "data": {
      "text/plain": [
       "RandomForestClassifier(criterion='entropy', n_estimators=50, random_state=37)"
      ]
     },
     "execution_count": 9,
     "metadata": {},
     "output_type": "execute_result"
    }
   ],
   "source": [
    "model.best_estimator_"
   ]
  },
  {
   "cell_type": "markdown",
   "metadata": {},
   "source": [
    "## Validation with tuning\n",
    "\n",
    "In some cases, you might want to validate the hyperparameter tuning as a part of your learning process. In this example, we show an example of how to so. Here are some things to note in this example.\n",
    "\n",
    "- The data generated will be multiclass.\n",
    "- We will implement custom scorers. The average precision score does not natively handle the multi-class label, and we will have to transform the ground truth lables into a one-hot encoded vector.\n",
    "\n",
    "Now let's generate some data."
   ]
  },
  {
   "cell_type": "code",
   "execution_count": 10,
   "metadata": {},
   "outputs": [
    {
     "name": "stdout",
     "output_type": "stream",
     "text": [
      "X shape = (1000, 10), y shape (1000,)\n"
     ]
    }
   ],
   "source": [
    "X, y = make_classification(**{\n",
    "    'n_samples': 1000,\n",
    "    'n_features': 10,\n",
    "    'n_clusters_per_class': 1,\n",
    "    'n_classes': 3,\n",
    "    'random_state': 37\n",
    "})\n",
    "\n",
    "print(f'X shape = {X.shape}, y shape {y.shape}')"
   ]
  },
  {
   "cell_type": "markdown",
   "metadata": {},
   "source": [
    "Below, we create a `model` that is a grid search based on random forest. Note how we use the `make_scorer()` method to create custom scorers. "
   ]
  },
  {
   "cell_type": "code",
   "execution_count": 11,
   "metadata": {},
   "outputs": [],
   "source": [
    "from sklearn.metrics import roc_auc_score, average_precision_score, make_scorer\n",
    "from collections import Counter\n",
    "\n",
    "def apr_score(y_true, y_pred, average='micro'):\n",
    "    get_vector = lambda idx, n_clazzes: [1 if i == idx else 0 for i in range(n_clazzes)]\n",
    "    clazzes = sorted(Counter(y).keys())\n",
    "    n_clazzes = len(clazzes)\n",
    "    Y = np.array([get_vector(y_val, n_clazzes) for y_val in y_true])\n",
    "    \n",
    "    return average_precision_score(Y, y_pred, average=average)\n",
    "\n",
    "def get_model():\n",
    "    p = {\n",
    "    'random_state': 37\n",
    "    }\n",
    "    estimator = RandomForestClassifier(**p)\n",
    "\n",
    "    p = {\n",
    "        'n_splits': 5,\n",
    "        'shuffle': True,\n",
    "        'random_state': 37\n",
    "    }\n",
    "    cv = StratifiedKFold(**p)\n",
    "    \n",
    "    auc_scorer = make_scorer(roc_auc_score, greater_is_better=True, needs_proba=True, multi_class='ovo')\n",
    "    apr_scorer_macro = make_scorer(apr_score, greater_is_better=True, needs_proba=True, average='macro')\n",
    "    apr_scorer_micro = make_scorer(apr_score, greater_is_better=True, needs_proba=True, average='micro')\n",
    "    apr_scorer_weighted = make_scorer(apr_score, greater_is_better=True, needs_proba=True, average='weighted')\n",
    "\n",
    "    p = {\n",
    "        'estimator': estimator,\n",
    "        'cv': cv,\n",
    "        'param_grid': {\n",
    "            'n_estimators': [2, 3, 4, 5, 6, 7, 8, 9, 10, 11, 12, 13, 14, 15],\n",
    "            'criterion': ['gini', 'entropy']\n",
    "        },\n",
    "        'scoring': {\n",
    "            'auc': auc_scorer,\n",
    "            'apr_scorer_macro': apr_scorer_macro,\n",
    "            'apr_scorer_micro': apr_scorer_micro,\n",
    "            'apr_scorer_weighted': apr_scorer_weighted\n",
    "        },\n",
    "        'verbose': 0,\n",
    "        'refit': 'apr_scorer_micro',\n",
    "        'error_score': np.NaN,\n",
    "        'n_jobs': -1\n",
    "    }\n",
    "    model = GridSearchCV(**p)\n",
    "    return model"
   ]
  },
  {
   "cell_type": "markdown",
   "metadata": {},
   "source": [
    "Now we can perform stratified, k-fold cross-validation while incorporating hyperparameter tuning as a part of the validation process."
   ]
  },
  {
   "cell_type": "code",
   "execution_count": 13,
   "metadata": {},
   "outputs": [],
   "source": [
    "import pandas as pd\n",
    "\n",
    "results = []\n",
    "\n",
    "for tr, te in StratifiedKFold(random_state=37, shuffle=True, n_splits=10).split(X, y):\n",
    "    X_tr, X_te = X[tr], X[te]\n",
    "    y_tr, y_te = y[tr], y[te]\n",
    "    \n",
    "    model = get_model()\n",
    "    model.fit(X_tr, y_tr)\n",
    "    \n",
    "    y_pred = model.predict_proba(X_te)\n",
    "    \n",
    "    auc_ovr = roc_auc_score(y_te, y_pred, multi_class='ovr')\n",
    "    auc_ovo = roc_auc_score(y_te, y_pred, multi_class='ovo')\n",
    "    apr_macro = apr_score(y_te, y_pred, average='macro')\n",
    "    apr_micro = apr_score(y_te, y_pred, average='micro')\n",
    "    apr_weighted = apr_score(y_te, y_pred, average='weighted')\n",
    "    \n",
    "    results.append({\n",
    "        'auc_ovr': auc_ovr,\n",
    "        'auc_ovo': auc_ovo,\n",
    "        'apr_macro': apr_macro,\n",
    "        'apr_micro': apr_micro,\n",
    "        'apr_weighted': apr_weighted\n",
    "    })\n",
    "    \n",
    "rdf = pd.DataFrame(results)"
   ]
  },
  {
   "cell_type": "code",
   "execution_count": 14,
   "metadata": {},
   "outputs": [
    {
     "data": {
      "text/plain": [
       "auc_ovr         0.998297\n",
       "auc_ovo         0.998296\n",
       "apr_macro       0.996420\n",
       "apr_micro       0.996217\n",
       "apr_weighted    0.996436\n",
       "dtype: float64"
      ]
     },
     "execution_count": 14,
     "metadata": {},
     "output_type": "execute_result"
    }
   ],
   "source": [
    "rdf.mean()"
   ]
  }
 ],
 "metadata": {
  "kernelspec": {
   "display_name": "Python 3",
   "language": "python",
   "name": "python3"
  },
  "language_info": {
   "codemirror_mode": {
    "name": "ipython",
    "version": 3
   },
   "file_extension": ".py",
   "mimetype": "text/x-python",
   "name": "python",
   "nbconvert_exporter": "python",
   "pygments_lexer": "ipython3",
   "version": "3.8.5"
  }
 },
 "nbformat": 4,
 "nbformat_minor": 4
}
