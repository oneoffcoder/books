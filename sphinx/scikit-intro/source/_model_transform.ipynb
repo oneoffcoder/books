{
 "cells": [
  {
   "cell_type": "code",
   "execution_count": 1,
   "id": "dfdd34e9-6ec1-41ac-b5e7-1564dfc79713",
   "metadata": {
    "execution": {
     "iopub.execute_input": "2022-10-01T04:13:01.427372Z",
     "iopub.status.busy": "2022-10-01T04:13:01.427172Z",
     "iopub.status.idle": "2022-10-01T04:13:01.892219Z",
     "shell.execute_reply": "2022-10-01T04:13:01.891737Z",
     "shell.execute_reply.started": "2022-10-01T04:13:01.427284Z"
    },
    "tags": []
   },
   "outputs": [
    {
     "data": {
      "text/plain": [
       "((442, 10), (442,), (437, 10), (5, 10), (437,), (5,))"
      ]
     },
     "execution_count": 1,
     "metadata": {},
     "output_type": "execute_result"
    }
   ],
   "source": [
    "from sklearn.datasets import load_diabetes\n",
    "\n",
    "X, y = load_diabetes(return_X_y=True, as_frame=True)\n",
    "\n",
    "X.shape, y.shape"
   ]
  },
  {
   "cell_type": "code",
   "execution_count": 26,
   "id": "c255e606-c147-4663-832b-ee36ce15ee7a",
   "metadata": {
    "execution": {
     "iopub.execute_input": "2022-10-01T04:29:35.421004Z",
     "iopub.status.busy": "2022-10-01T04:29:35.420844Z",
     "iopub.status.idle": "2022-10-01T04:29:38.126070Z",
     "shell.execute_reply": "2022-10-01T04:29:38.125609Z",
     "shell.execute_reply.started": "2022-10-01T04:29:35.420990Z"
    }
   },
   "outputs": [
    {
     "data": {
      "text/plain": [
       "((20640, 8), (20640,))"
      ]
     },
     "execution_count": 26,
     "metadata": {},
     "output_type": "execute_result"
    }
   ],
   "source": [
    "from sklearn.datasets import fetch_california_housing\n",
    "\n",
    "X, y = fetch_california_housing(return_X_y=True, as_frame=True)\n",
    "\n",
    "X.shape, y.shape"
   ]
  },
  {
   "cell_type": "code",
   "execution_count": 33,
   "id": "f7c2afb5-ffd2-4551-b50b-b70e2939366c",
   "metadata": {
    "execution": {
     "iopub.execute_input": "2022-10-01T04:31:46.754254Z",
     "iopub.status.busy": "2022-10-01T04:31:46.753920Z",
     "iopub.status.idle": "2022-10-01T04:31:47.063164Z",
     "shell.execute_reply": "2022-10-01T04:31:47.062729Z",
     "shell.execute_reply.started": "2022-10-01T04:31:46.754235Z"
    },
    "tags": []
   },
   "outputs": [
    {
     "data": {
      "image/png": "[encoded data removed]",
      "text/plain": [
       "<Figure size 504x252 with 2 Axes>"
      ]
     },
     "metadata": {
      "needs_background": "light"
     },
     "output_type": "display_data"
    }
   ],
   "source": [
    "import matplotlib.pyplot as plt\n",
    "\n",
    "fig, ax = plt.subplots(1, 2, figsize=(7, 3.5))\n",
    "\n",
    "y.plot(kind='kde', ax=ax[0])\n",
    "y.plot(kind='box', ax=ax[1])\n",
    "\n",
    "plt.tight_layout()"
   ]
  },
  {
   "cell_type": "code",
   "execution_count": 44,
   "id": "05292f89-d09d-4b7e-b79f-3809d7acc9c8",
   "metadata": {
    "execution": {
     "iopub.execute_input": "2022-10-01T04:39:47.715540Z",
     "iopub.status.busy": "2022-10-01T04:39:47.715355Z",
     "iopub.status.idle": "2022-10-01T04:39:47.723279Z",
     "shell.execute_reply": "2022-10-01T04:39:47.722856Z",
     "shell.execute_reply.started": "2022-10-01T04:39:47.715526Z"
    },
    "tags": []
   },
   "outputs": [],
   "source": [
    "import pandas as pd\n",
    "import numpy as np\n",
    "from sklearn.pipeline import Pipeline\n",
    "from sklearn.impute import SimpleImputer\n",
    "from sklearn.ensemble import RandomForestRegressor\n",
    "from sklearn.linear_model import LinearRegression, Ridge, Lasso, BayesianRidge\n",
    "from sklearn.ensemble import GradientBoostingRegressor\n",
    "from sklearn.cluster import KMeans, SpectralClustering\n",
    "from sklearn.decomposition import PCA\n",
    "from sklearn.preprocessing import StandardScaler\n",
    "\n",
    "class ModelTransformer:\n",
    "    def __init__(self):\n",
    "        self.regressors = [\n",
    "            LinearRegression(),\n",
    "            Lasso(max_iter=1_000),\n",
    "            Ridge(max_iter=2_000),\n",
    "            GradientBoostingRegressor(),\n",
    "            BayesianRidge(n_iter=1_000)\n",
    "        ]\n",
    "        self.r_names = ['lr', 'lasso', 'ridge', 'gbr', 'br']\n",
    "\n",
    "    def fit(self, X, y=None):\n",
    "        for m in self.regressors:\n",
    "            m.fit(X, y)\n",
    "\n",
    "        return self\n",
    "\n",
    "    def transform(self, X):\n",
    "        preds = {f'y_{n}': m.predict(X) \n",
    "                 for n, m in zip(self.r_names, self.regressors)}\n",
    "        \n",
    "        if isinstance(X, pd.DataFrame):\n",
    "            for k, v in preds.items():\n",
    "                X[k] = v\n",
    "        elif isinstance(X, np.ndarray):\n",
    "            for k, v in preds.items():\n",
    "                X = np.hstack([X, v.reshape(-1, 1)])\n",
    "        \n",
    "        return X\n",
    "    \n",
    "    def __str__(self):\n",
    "        return 'ModelTransformer()'\n",
    "    \n",
    "    def __repr__(self):\n",
    "        return 'ModelTransformer()'\n",
    "\n",
    "def get_model():\n",
    "    model = Pipeline([\n",
    "        ('imputer', SimpleImputer()),\n",
    "        ('model_transformers', ModelTransformer()),\n",
    "        ('scaler', StandardScaler()),\n",
    "        # ('pca', PCA(n_components=4, random_state=37)),\n",
    "        ('regressor', RandomForestRegressor())\n",
    "    ])\n",
    "    \n",
    "    return model\n",
    "\n",
    "def get_baseline_model():\n",
    "    model = Pipeline([\n",
    "        ('imputer', SimpleImputer()),\n",
    "        ('scaler', StandardScaler()),\n",
    "        # ('pca', PCA(n_components=4, random_state=37)),\n",
    "        ('regressor', LinearRegression())\n",
    "    ])\n",
    "    \n",
    "    return model"
   ]
  },
  {
   "cell_type": "code",
   "execution_count": 45,
   "id": "ded2ccab-6421-47c7-941d-8e3f20b05dd6",
   "metadata": {
    "execution": {
     "iopub.execute_input": "2022-10-01T04:39:48.173982Z",
     "iopub.status.busy": "2022-10-01T04:39:48.173825Z",
     "iopub.status.idle": "2022-10-01T04:40:05.908775Z",
     "shell.execute_reply": "2022-10-01T04:40:05.908332Z",
     "shell.execute_reply.started": "2022-10-01T04:39:48.173967Z"
    },
    "tags": []
   },
   "outputs": [
    {
     "data": {
      "text/html": [
       "<div>\n",
       "<style scoped>\n",
       "    .dataframe tbody tr th:only-of-type {\n",
       "        vertical-align: middle;\n",
       "    }\n",
       "\n",
       "    .dataframe tbody tr th {\n",
       "        vertical-align: top;\n",
       "    }\n",
       "\n",
       "    .dataframe thead th {\n",
       "        text-align: right;\n",
       "    }\n",
       "</style>\n",
       "<table border=\"1\" class=\"dataframe\">\n",
       "  <thead>\n",
       "    <tr style=\"text-align: right;\">\n",
       "      <th></th>\n",
       "      <th>tr</th>\n",
       "      <th>te</th>\n",
       "    </tr>\n",
       "  </thead>\n",
       "  <tbody>\n",
       "    <tr>\n",
       "      <th>0</th>\n",
       "      <td>0.11455</td>\n",
       "      <td>0.280144</td>\n",
       "    </tr>\n",
       "  </tbody>\n",
       "</table>\n",
       "</div>"
      ],
      "text/plain": [
       "        tr        te\n",
       "0  0.11455  0.280144"
      ]
     },
     "execution_count": 45,
     "metadata": {},
     "output_type": "execute_result"
    }
   ],
   "source": [
    "from sklearn.model_selection import train_test_split\n",
    "from sklearn.metrics import mean_absolute_error\n",
    "\n",
    "X_tr, X_te, y_tr, y_te = train_test_split(X, y, train_size=0.99, random_state=37, shuffle=True)\n",
    "\n",
    "model = get_model()\n",
    "model.fit(X_tr, y_tr)\n",
    "\n",
    "mae_tr = mean_absolute_error(y_tr, model.predict(X_tr))\n",
    "mae_te = mean_absolute_error(y_te, model.predict(X_te))\n",
    "\n",
    "pd.DataFrame({\n",
    "    'tr': [mae_tr],\n",
    "    'te': [mae_te]\n",
    "})"
   ]
  },
  {
   "cell_type": "code",
   "execution_count": 46,
   "id": "6c847c2e-1ee4-46a1-aa37-d7ba56951ee3",
   "metadata": {
    "execution": {
     "iopub.execute_input": "2022-10-01T04:40:05.909978Z",
     "iopub.status.busy": "2022-10-01T04:40:05.909803Z",
     "iopub.status.idle": "2022-10-01T04:40:05.930746Z",
     "shell.execute_reply": "2022-10-01T04:40:05.930241Z",
     "shell.execute_reply.started": "2022-10-01T04:40:05.909964Z"
    },
    "tags": []
   },
   "outputs": [
    {
     "data": {
      "text/html": [
       "<div>\n",
       "<style scoped>\n",
       "    .dataframe tbody tr th:only-of-type {\n",
       "        vertical-align: middle;\n",
       "    }\n",
       "\n",
       "    .dataframe tbody tr th {\n",
       "        vertical-align: top;\n",
       "    }\n",
       "\n",
       "    .dataframe thead th {\n",
       "        text-align: right;\n",
       "    }\n",
       "</style>\n",
       "<table border=\"1\" class=\"dataframe\">\n",
       "  <thead>\n",
       "    <tr style=\"text-align: right;\">\n",
       "      <th></th>\n",
       "      <th>tr</th>\n",
       "      <th>te</th>\n",
       "    </tr>\n",
       "  </thead>\n",
       "  <tbody>\n",
       "    <tr>\n",
       "      <th>0</th>\n",
       "      <td>0.532514</td>\n",
       "      <td>0.415278</td>\n",
       "    </tr>\n",
       "  </tbody>\n",
       "</table>\n",
       "</div>"
      ],
      "text/plain": [
       "         tr        te\n",
       "0  0.532514  0.415278"
      ]
     },
     "execution_count": 46,
     "metadata": {},
     "output_type": "execute_result"
    }
   ],
   "source": [
    "model = get_baseline_model()\n",
    "model.fit(X_tr, y_tr)\n",
    "\n",
    "mae_tr = mean_absolute_error(y_tr, model.predict(X_tr))\n",
    "mae_te = mean_absolute_error(y_te, model.predict(X_te))\n",
    "\n",
    "pd.DataFrame({\n",
    "    'tr': [mae_tr],\n",
    "    'te': [mae_te]\n",
    "})"
   ]
  },
  {
   "cell_type": "code",
   "execution_count": 48,
   "id": "5ab2af50-e826-4c51-b3be-44d7162e209a",
   "metadata": {
    "execution": {
     "iopub.execute_input": "2022-10-01T04:43:20.772072Z",
     "iopub.status.busy": "2022-10-01T04:43:20.771846Z",
     "iopub.status.idle": "2022-10-01T04:43:46.420422Z",
     "shell.execute_reply": "2022-10-01T04:43:46.419917Z",
     "shell.execute_reply.started": "2022-10-01T04:43:20.772045Z"
    },
    "tags": []
   },
   "outputs": [
    {
     "data": {
      "text/html": [
       "<div>\n",
       "<style scoped>\n",
       "    .dataframe tbody tr th:only-of-type {\n",
       "        vertical-align: middle;\n",
       "    }\n",
       "\n",
       "    .dataframe tbody tr th {\n",
       "        vertical-align: top;\n",
       "    }\n",
       "\n",
       "    .dataframe thead th {\n",
       "        text-align: right;\n",
       "    }\n",
       "</style>\n",
       "<table border=\"1\" class=\"dataframe\">\n",
       "  <thead>\n",
       "    <tr style=\"text-align: right;\">\n",
       "      <th></th>\n",
       "      <th>tr</th>\n",
       "      <th>te</th>\n",
       "    </tr>\n",
       "  </thead>\n",
       "  <tbody>\n",
       "    <tr>\n",
       "      <th>0</th>\n",
       "      <td>0.115608</td>\n",
       "      <td>0.311392</td>\n",
       "    </tr>\n",
       "    <tr>\n",
       "      <th>1</th>\n",
       "      <td>0.115397</td>\n",
       "      <td>0.306993</td>\n",
       "    </tr>\n",
       "    <tr>\n",
       "      <th>2</th>\n",
       "      <td>0.115280</td>\n",
       "      <td>0.320036</td>\n",
       "    </tr>\n",
       "    <tr>\n",
       "      <th>3</th>\n",
       "      <td>0.115556</td>\n",
       "      <td>0.310409</td>\n",
       "    </tr>\n",
       "    <tr>\n",
       "      <th>4</th>\n",
       "      <td>0.114781</td>\n",
       "      <td>0.336587</td>\n",
       "    </tr>\n",
       "    <tr>\n",
       "      <th>5</th>\n",
       "      <td>0.115120</td>\n",
       "      <td>0.323142</td>\n",
       "    </tr>\n",
       "    <tr>\n",
       "      <th>6</th>\n",
       "      <td>0.115271</td>\n",
       "      <td>0.314635</td>\n",
       "    </tr>\n",
       "    <tr>\n",
       "      <th>7</th>\n",
       "      <td>0.114197</td>\n",
       "      <td>0.343040</td>\n",
       "    </tr>\n",
       "    <tr>\n",
       "      <th>8</th>\n",
       "      <td>0.115838</td>\n",
       "      <td>0.317661</td>\n",
       "    </tr>\n",
       "    <tr>\n",
       "      <th>9</th>\n",
       "      <td>0.115862</td>\n",
       "      <td>0.317536</td>\n",
       "    </tr>\n",
       "  </tbody>\n",
       "</table>\n",
       "</div>"
      ],
      "text/plain": [
       "         tr        te\n",
       "0  0.115608  0.311392\n",
       "1  0.115397  0.306993\n",
       "2  0.115280  0.320036\n",
       "3  0.115556  0.310409\n",
       "4  0.114781  0.336587\n",
       "5  0.115120  0.323142\n",
       "6  0.115271  0.314635\n",
       "7  0.114197  0.343040\n",
       "8  0.115838  0.317661\n",
       "9  0.115862  0.317536"
      ]
     },
     "execution_count": 48,
     "metadata": {},
     "output_type": "execute_result"
    }
   ],
   "source": [
    "from sklearn.model_selection import LeaveOneOut\n",
    "from sklearn.model_selection import KFold\n",
    "from joblib import Parallel, delayed\n",
    "\n",
    "def get_perf(tr_index, te_index):\n",
    "    X_tr = X.iloc[tr_index]\n",
    "    X_te = X.iloc[te_index]\n",
    "    \n",
    "    y_tr = y.iloc[tr_index]\n",
    "    y_te = y.iloc[te_index]\n",
    "    \n",
    "    model = get_model()\n",
    "    model.fit(X_tr, y_tr)\n",
    "    \n",
    "    mae_tr = mean_absolute_error(y_tr, model.predict(X_tr))\n",
    "    mae_te = mean_absolute_error(y_te, model.predict(X_te))\n",
    "    \n",
    "    return {'tr': mae_tr, 'te': mae_te}\n",
    "\n",
    "splitter = LeaveOneOut()\n",
    "splitter = KFold(n_splits=10, shuffle=True, random_state=37)\n",
    "\n",
    "\n",
    "r_df = Parallel(n_jobs=-1, prefer='processes')(delayed(get_perf)(tr, te) for tr, te in splitter.split(X, y))\n",
    "r_df = pd.DataFrame(r_df)\n",
    "r_df"
   ]
  },
  {
   "cell_type": "code",
   "execution_count": 49,
   "id": "72126c1e-27e6-4a00-b99f-3622c6b42afb",
   "metadata": {
    "execution": {
     "iopub.execute_input": "2022-10-01T04:43:46.421464Z",
     "iopub.status.busy": "2022-10-01T04:43:46.421312Z",
     "iopub.status.idle": "2022-10-01T04:43:46.425229Z",
     "shell.execute_reply": "2022-10-01T04:43:46.424857Z",
     "shell.execute_reply.started": "2022-10-01T04:43:46.421448Z"
    },
    "tags": []
   },
   "outputs": [
    {
     "data": {
      "text/plain": [
       "tr    0.115291\n",
       "te    0.320143\n",
       "dtype: float64"
      ]
     },
     "execution_count": 49,
     "metadata": {},
     "output_type": "execute_result"
    }
   ],
   "source": [
    "r_df.mean()"
   ]
  },
  {
   "cell_type": "code",
   "execution_count": null,
   "id": "b2efa95a-64f4-4ded-8c93-e862272c9435",
   "metadata": {},
   "outputs": [],
   "source": []
  }
 ],
 "metadata": {
  "kernelspec": {
   "display_name": "Python 3 (ipykernel)",
   "language": "python",
   "name": "python3"
  },
  "language_info": {
   "codemirror_mode": {
    "name": "ipython",
    "version": 3
   },
   "file_extension": ".py",
   "mimetype": "text/x-python",
   "name": "python",
   "nbconvert_exporter": "python",
   "pygments_lexer": "ipython3",
   "version": "3.8.5"
  },
  "widgets": {
   "application/vnd.jupyter.widget-state+json": {
    "state": {},
    "version_major": 2,
    "version_minor": 0
   }
  }
 },
 "nbformat": 4,
 "nbformat_minor": 5
}
