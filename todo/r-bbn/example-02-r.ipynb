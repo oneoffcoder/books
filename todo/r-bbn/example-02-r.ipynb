{
 "cells": [
  {
   "cell_type": "markdown",
   "id": "96929769-f51c-4a90-b27c-02ddaa95848a",
   "metadata": {},
   "source": [
    "## Example, Huang Graph"
   ]
  },
  {
   "cell_type": "code",
   "execution_count": 1,
   "id": "2989a0e4-b1f7-44ca-a906-a804e0b79acd",
   "metadata": {},
   "outputs": [
    {
     "ename": "ERROR",
     "evalue": "Error in library(bnlearn): there is no package called ‘bnlearn’\n",
     "output_type": "error",
     "traceback": [
      "Error in library(bnlearn): there is no package called ‘bnlearn’\nTraceback:\n",
      "1. source(\"./network/huang.R\")",
      "2. withVisible(eval(ei, envir))",
      "3. eval(ei, envir)",
      "4. eval(ei, envir)",
      "5. library(bnlearn)"
     ]
    }
   ],
   "source": [
    "source('./network/huang.R')"
   ]
  },
  {
   "cell_type": "code",
   "execution_count": null,
   "id": "7ef7305c-889d-484d-a34c-3750acd88c89",
   "metadata": {},
   "outputs": [],
   "source": [
    "graphviz.chart(b, grid=TRUE, main='BBN')"
   ]
  },
  {
   "cell_type": "code",
   "execution_count": null,
   "id": "5019ddc3-9564-4b3f-bdf5-bd27dccc15c1",
   "metadata": {},
   "outputs": [],
   "source": [
    "querygrain(t, nodes=nodes(g))"
   ]
  },
  {
   "cell_type": "code",
   "execution_count": null,
   "id": "95055c58-39f4-47f0-b2f3-4c593254ec2e",
   "metadata": {},
   "outputs": [],
   "source": [
    "querygrain(setEvidence(t, nodes='A', states='on'), nodes=nodes(g))"
   ]
  },
  {
   "cell_type": "code",
   "execution_count": null,
   "id": "46ad402b-5dcb-4a37-8cb8-d52475d91f20",
   "metadata": {},
   "outputs": [],
   "source": [
    "querygrain(setEvidence(t, nodes='H', states='on'), nodes=nodes(g))"
   ]
  },
  {
   "cell_type": "markdown",
   "id": "27894535-d5ce-48b7-a2f8-0639dbe868fe",
   "metadata": {},
   "source": [
    "## Save model"
   ]
  },
  {
   "cell_type": "code",
   "execution_count": null,
   "id": "647232a9-6c7a-443e-9a7d-72c5b464733c",
   "metadata": {},
   "outputs": [],
   "source": [
    "saveRDS(v, './rds/huang-v.rds')\n",
    "saveRDS(p, './rds/huang-p.rds')\n",
    "saveRDS(g, './rds/huang-g.rds')\n",
    "saveRDS(b, './rds/huang-b.rds')\n",
    "saveRDS(t, './rds/huang-t.rds')"
   ]
  },
  {
   "cell_type": "code",
   "execution_count": null,
   "id": "51f05bbe-6edf-4a0c-bb3e-fe6dd8356039",
   "metadata": {},
   "outputs": [],
   "source": [
    "v <- readRDS('./rds/huang-v.rds')\n",
    "p <- readRDS('./rds/huang-p.rds')\n",
    "g <- readRDS('./rds/huang-g.rds')\n",
    "b <- readRDS('./rds/huang-b.rds')\n",
    "t <- readRDS('./rds/huang-t.rds')"
   ]
  },
  {
   "cell_type": "code",
   "execution_count": null,
   "id": "fb468cf5-1c81-4959-9b4f-bc6bf3e580de",
   "metadata": {},
   "outputs": [],
   "source": [
    "querygrain(t, nodes=nodes(g))"
   ]
  },
  {
   "cell_type": "code",
   "execution_count": null,
   "id": "133aa21e-171a-424a-aba0-7e4bec4e4a3d",
   "metadata": {},
   "outputs": [],
   "source": []
  }
 ],
 "metadata": {
  "environment": {
   "kernel": "ir4",
   "name": "common-cpu.m111",
   "type": "gcloud",
   "uri": "gcr.io/deeplearning-platform-release/base-cpu:m111"
  },
  "kernelspec": {
   "display_name": "R",
   "language": "R",
   "name": "ir4"
  },
  "language_info": {
   "codemirror_mode": "r",
   "file_extension": ".r",
   "mimetype": "text/x-r-source",
   "name": "R",
   "pygments_lexer": "r",
   "version": "4.0.4"
  },
  "widgets": {
   "application/vnd.jupyter.widget-state+json": {
    "state": {},
    "version_major": 2,
    "version_minor": 0
   }
  }
 },
 "nbformat": 4,
 "nbformat_minor": 5
}
