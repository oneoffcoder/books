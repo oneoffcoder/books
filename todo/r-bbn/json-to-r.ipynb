{
 "cells": [
  {
   "cell_type": "markdown",
   "id": "507eac0b-2395-49a6-bd67-8a3e2865fa73",
   "metadata": {},
   "source": [
    "## Load data"
   ]
  },
  {
   "cell_type": "code",
   "execution_count": 2,
   "id": "e84f7423-ac4e-4765-9b57-ef2808006c9b",
   "metadata": {
    "tags": []
   },
   "outputs": [],
   "source": [
    "import json\n",
    "\n",
    "with open('./data/darkstar.json', 'r') as fp:\n",
    "    d = json.load(fp)"
   ]
  },
  {
   "cell_type": "code",
   "execution_count": 3,
   "id": "6964235b-6627-45f9-b118-80c90a8086aa",
   "metadata": {
    "tags": []
   },
   "outputs": [
    {
     "data": {
      "text/plain": [
       "dict_keys(['nodes', 'edges', 'parameters'])"
      ]
     },
     "execution_count": 3,
     "metadata": {},
     "output_type": "execute_result"
    }
   ],
   "source": [
    "d.keys()"
   ]
  },
  {
   "cell_type": "markdown",
   "id": "55162d93-916a-4c42-9858-2ec281e19e3b",
   "metadata": {},
   "source": [
    "## Util"
   ]
  },
  {
   "cell_type": "code",
   "execution_count": 60,
   "id": "050ea558-0ce8-4e1c-9b31-2f56070e89e6",
   "metadata": {
    "tags": []
   },
   "outputs": [],
   "source": [
    "def save(path, s):\n",
    "    with open(path, 'w') as fp:\n",
    "        fp.write(s)"
   ]
  },
  {
   "cell_type": "markdown",
   "id": "6b4a8198-1919-4819-8226-280f8d78bade",
   "metadata": {},
   "source": [
    "## Graph"
   ]
  },
  {
   "cell_type": "markdown",
   "id": "7043d973-c7d1-4033-bc03-231948984a37",
   "metadata": {},
   "source": [
    "### Nodes"
   ]
  },
  {
   "cell_type": "code",
   "execution_count": 61,
   "id": "dc046aeb-5958-4b55-b9ab-a9cee5951b90",
   "metadata": {
    "tags": []
   },
   "outputs": [],
   "source": [
    "_s = ','.join([f\"'{k}'\" for k in d['nodes'].keys()])\n",
    "_s = f'c({_s})'\n",
    "_s = f'g <- empty.graph(nodes={_s})'\n",
    "\n",
    "save('nodes.R', _s)"
   ]
  },
  {
   "cell_type": "markdown",
   "id": "614c00d9-5b4d-4971-b415-b2c875b4416a",
   "metadata": {},
   "source": [
    "### Edges"
   ]
  },
  {
   "cell_type": "code",
   "execution_count": 62,
   "id": "5668b16a-a814-4ce3-9b32-3c428d14e9d1",
   "metadata": {
    "tags": []
   },
   "outputs": [],
   "source": [
    "_s = [f'g <- set.arc(g, from=\"{d[\"parent\"]}\", to=\"{d[\"child\"]}\")' for d in d['edges']]\n",
    "_s = '\\n'.join(_s)\n",
    "\n",
    "save('edges.R', _s)"
   ]
  },
  {
   "cell_type": "markdown",
   "id": "0d3c8b90-2fa9-43ca-b3a3-7e7b907df14d",
   "metadata": {
    "tags": []
   },
   "source": [
    "## Parameters"
   ]
  },
  {
   "cell_type": "markdown",
   "id": "341b76da-1c6a-4c94-8f1e-abb511d51a06",
   "metadata": {},
   "source": [
    "### Values"
   ]
  },
  {
   "cell_type": "code",
   "execution_count": 63,
   "id": "9d6c478a-73d3-4d5f-9677-e7da92d7b633",
   "metadata": {
    "tags": []
   },
   "outputs": [],
   "source": [
    "def get_values(district):\n",
    "    values = [f'\"{v}\"' for v in d['nodes'][district]['values'].keys()]\n",
    "    values = ', '.join(values)\n",
    "    values = f'c({values})'\n",
    "    values = f'{district}.lv <- {values}'\n",
    "    return values\n",
    "\n",
    "_s = [get_values(k) for k in d['nodes'].keys()]\n",
    "_s = '\\n'.join(_s)\n",
    "\n",
    "save('values.R', _s)"
   ]
  },
  {
   "cell_type": "markdown",
   "id": "498a8446-9799-47b4-a710-db742ca429b1",
   "metadata": {},
   "source": [
    "### Probabilities"
   ]
  },
  {
   "cell_type": "code",
   "execution_count": 64,
   "id": "837b74a2-1796-44fe-a52e-390b6778519f",
   "metadata": {
    "tags": []
   },
   "outputs": [],
   "source": [
    "def get_dim(district):\n",
    "    cols = len(d['nodes'][district]['values'])\n",
    "    rows = len(d['parameters'][district])\n",
    "    \n",
    "    if rows == cols:\n",
    "        s = f'{cols}'\n",
    "    else:\n",
    "        rows = int(rows / 2)\n",
    "        s = f'c({rows}, {cols})'\n",
    "    \n",
    "    return s\n",
    "\n",
    "def get_dimnames(district):\n",
    "    r = d['parameters'][district][0]\n",
    "    r = [k for k in r if k != '__p__']\n",
    "    r = [f'{k}={k}.lv' for k in r]\n",
    "    r = ', '.join(r)\n",
    "    r = f'list({r})'\n",
    "    return r\n",
    "\n",
    "def get_p(district):\n",
    "    r = d['parameters'][district]\n",
    "    r = [_r['__p__'] for _r in r]\n",
    "    r = [f'{_r}' for _r in r]\n",
    "    r = ', '.join(r)\n",
    "    r = f'c({r})'\n",
    "    \n",
    "    return r\n",
    "\n",
    "def get_prob(district):\n",
    "    dim = get_dim(district)\n",
    "    dimnames = get_dimnames(district)\n",
    "    p = get_p(district)\n",
    "    \n",
    "    return f'{district}.prob <- array({p}, dim={dim}, dimnames={dimnames})'\n",
    "\n",
    "# get_dim('AZ_02'), get_dimnames('AZ_02'), get_p('AZ_02')\n",
    "# get_dim('CA_12'), get_dimnames('CA_12'), get_p('CA_12')\n",
    "\n",
    "_s = [get_prob(k) for k in d['nodes'].keys()]\n",
    "_s = '\\n'.join(_s)\n",
    "\n",
    "save('probabilities.R', _s)"
   ]
  },
  {
   "cell_type": "code",
   "execution_count": null,
   "id": "e51522fc-e483-43e8-81e8-1fd6a8d37037",
   "metadata": {},
   "outputs": [],
   "source": []
  }
 ],
 "metadata": {
  "kernelspec": {
   "display_name": "Python 3 (ipykernel)",
   "language": "python",
   "name": "python3"
  },
  "language_info": {
   "codemirror_mode": {
    "name": "ipython",
    "version": 3
   },
   "file_extension": ".py",
   "mimetype": "text/x-python",
   "name": "python",
   "nbconvert_exporter": "python",
   "pygments_lexer": "ipython3",
   "version": "3.11.4"
  }
 },
 "nbformat": 4,
 "nbformat_minor": 5
}
