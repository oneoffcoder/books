{
 "cells": [
  {
   "cell_type": "markdown",
   "id": "507eac0b-2395-49a6-bd67-8a3e2865fa73",
   "metadata": {},
   "source": [
    "## Load data"
   ]
  },
  {
   "cell_type": "code",
   "execution_count": 1,
   "id": "e84f7423-ac4e-4765-9b57-ef2808006c9b",
   "metadata": {
    "tags": []
   },
   "outputs": [],
   "source": [
    "import json\n",
    "\n",
    "input_path = './data/covid-bbn.json'\n",
    "output_path = './network/covid.R'\n",
    "\n",
    "with open(input_path, 'r') as fp:\n",
    "    d = json.load(fp)"
   ]
  },
  {
   "cell_type": "code",
   "execution_count": 2,
   "id": "6964235b-6627-45f9-b118-80c90a8086aa",
   "metadata": {
    "tags": []
   },
   "outputs": [
    {
     "data": {
      "text/plain": [
       "dict_keys(['nodes', 'edges', 'parameters'])"
      ]
     },
     "execution_count": 2,
     "metadata": {},
     "output_type": "execute_result"
    }
   ],
   "source": [
    "d.keys()"
   ]
  },
  {
   "cell_type": "markdown",
   "id": "55162d93-916a-4c42-9858-2ec281e19e3b",
   "metadata": {},
   "source": [
    "## Util"
   ]
  },
  {
   "cell_type": "code",
   "execution_count": 3,
   "id": "050ea558-0ce8-4e1c-9b31-2f56070e89e6",
   "metadata": {
    "tags": []
   },
   "outputs": [],
   "source": [
    "from pathlib import Path\n",
    "\n",
    "def delete_file(path):\n",
    "    p = Path(path)\n",
    "    if p.exists():\n",
    "        p.unlink()\n",
    "    \n",
    "def save(path, s):\n",
    "    with open(path, 'a') as fp:\n",
    "        fp.write(s)\n",
    "        fp.write('\\n\\n')"
   ]
  },
  {
   "cell_type": "code",
   "execution_count": 4,
   "id": "e5724475-a785-4472-befc-6895aad485b1",
   "metadata": {},
   "outputs": [],
   "source": [
    "delete_file(output_path)"
   ]
  },
  {
   "cell_type": "markdown",
   "id": "70800d25-e3f1-47cd-84be-c47af71cc3e5",
   "metadata": {},
   "source": [
    "## Libraries"
   ]
  },
  {
   "cell_type": "code",
   "execution_count": 5,
   "id": "d2a1b25a-d1a6-4d19-834e-a436bbe8e8eb",
   "metadata": {
    "tags": []
   },
   "outputs": [],
   "source": [
    "_s = [\n",
    "    'library(bnlearn)',\n",
    "    'library(gRain)'\n",
    "]\n",
    "_s = '\\n'.join(_s)\n",
    "\n",
    "save(output_path, _s)"
   ]
  },
  {
   "cell_type": "markdown",
   "id": "6b4a8198-1919-4819-8226-280f8d78bade",
   "metadata": {},
   "source": [
    "## Graph"
   ]
  },
  {
   "cell_type": "markdown",
   "id": "7043d973-c7d1-4033-bc03-231948984a37",
   "metadata": {},
   "source": [
    "### Nodes"
   ]
  },
  {
   "cell_type": "code",
   "execution_count": 6,
   "id": "dc046aeb-5958-4b55-b9ab-a9cee5951b90",
   "metadata": {
    "tags": []
   },
   "outputs": [],
   "source": [
    "_s = ','.join([f\"'{k}'\" for k in d['nodes'].keys()])\n",
    "_s = f'c({_s})'\n",
    "_s = f'g <- empty.graph(nodes={_s})'\n",
    "\n",
    "save(output_path, _s)"
   ]
  },
  {
   "cell_type": "markdown",
   "id": "614c00d9-5b4d-4971-b415-b2c875b4416a",
   "metadata": {},
   "source": [
    "### Edges"
   ]
  },
  {
   "cell_type": "code",
   "execution_count": 7,
   "id": "5668b16a-a814-4ce3-9b32-3c428d14e9d1",
   "metadata": {
    "tags": []
   },
   "outputs": [],
   "source": [
    "_s = [f'g <- set.arc(g, from=\"{d[\"parent\"]}\", to=\"{d[\"child\"]}\")' for d in d['edges']]\n",
    "_s = '\\n'.join(_s)\n",
    "\n",
    "save(output_path, _s)"
   ]
  },
  {
   "cell_type": "markdown",
   "id": "0d3c8b90-2fa9-43ca-b3a3-7e7b907df14d",
   "metadata": {
    "tags": []
   },
   "source": [
    "## Parameters"
   ]
  },
  {
   "cell_type": "markdown",
   "id": "341b76da-1c6a-4c94-8f1e-abb511d51a06",
   "metadata": {},
   "source": [
    "### Values"
   ]
  },
  {
   "cell_type": "code",
   "execution_count": 8,
   "id": "9d6c478a-73d3-4d5f-9677-e7da92d7b633",
   "metadata": {
    "tags": []
   },
   "outputs": [],
   "source": [
    "def get_values(node_key):\n",
    "    values = [f'\"{v}\"' for v in d['nodes'][node_key]['values'].keys()]\n",
    "    values = ', '.join(values)\n",
    "    values = f'c({values})'\n",
    "    values = f'{node_key}.lv <- {values}'\n",
    "    return values\n",
    "\n",
    "_s = [get_values(k) for k in d['nodes'].keys()]\n",
    "_s = '\\n'.join(_s)\n",
    "\n",
    "save(output_path, _s)"
   ]
  },
  {
   "cell_type": "markdown",
   "id": "498a8446-9799-47b4-a710-db742ca429b1",
   "metadata": {},
   "source": [
    "### Probabilities"
   ]
  },
  {
   "cell_type": "code",
   "execution_count": 9,
   "id": "837b74a2-1796-44fe-a52e-390b6778519f",
   "metadata": {
    "tags": []
   },
   "outputs": [],
   "source": [
    "def get_dim(node_key):\n",
    "    if len(d['nodes'][node_key]['values']) == len(d['parameters'][node_key]):\n",
    "        s = len(d['nodes'][node_key]['values'])\n",
    "    else:\n",
    "        s = [k for k in d['parameters'][node_key][0] if k != '__p__']\n",
    "        s = [len(d['nodes'][k]['values']) for k in s]\n",
    "        s = [f'{k}' for k in s]\n",
    "        s = ', '.join(s)\n",
    "        s = f'c({s})'\n",
    "    \n",
    "    return s\n",
    "\n",
    "def get_dimnames(node_key):\n",
    "    r = d['parameters'][node_key][0]\n",
    "    r = [k for k in r if k not in {'__p__', node_key}]\n",
    "    r = [f'{node_key}={node_key}.lv'] + [f'{k}={k}.lv' for k in r][::-1]\n",
    "    r = ', '.join(r)\n",
    "    r = f'list({r})'\n",
    "    return r\n",
    "\n",
    "def get_p(node_key):\n",
    "    r = d['parameters'][node_key]\n",
    "    r = [_r['__p__'] for _r in r]\n",
    "    r = [f'{_r}' for _r in r]\n",
    "    r = ', '.join(r)\n",
    "    r = f'c({r})'\n",
    "    \n",
    "    return r\n",
    "\n",
    "def get_prob(node_key):\n",
    "    dim = get_dim(node_key)\n",
    "    dimnames = get_dimnames(node_key)\n",
    "    p = get_p(node_key)\n",
    "    \n",
    "    return f'{node_key}.prob <- array({p}, dim={dim}, dimnames={dimnames})'\n",
    "\n",
    "_s = [get_prob(k) for k in d['nodes'].keys()]\n",
    "_s = '\\n'.join(_s)\n",
    "\n",
    "save(output_path, _s)"
   ]
  },
  {
   "cell_type": "code",
   "execution_count": 10,
   "id": "e51522fc-e483-43e8-81e8-1fd6a8d37037",
   "metadata": {},
   "outputs": [],
   "source": [
    "_s = [f'{k}={k}.prob' for k in d['nodes'].keys()]\n",
    "_s = ', '.join(_s)\n",
    "_s = f'p <- list({_s})'\n",
    "\n",
    "save(output_path, _s)"
   ]
  },
  {
   "cell_type": "markdown",
   "id": "852f7720-5903-4cb7-a473-61dc6a341eb9",
   "metadata": {},
   "source": [
    "## BBN + Tree"
   ]
  },
  {
   "cell_type": "code",
   "execution_count": 11,
   "id": "ea37bd65-32e2-4e22-a857-7a6236c3ef4f",
   "metadata": {
    "tags": []
   },
   "outputs": [],
   "source": [
    "_s = [\n",
    "    'b <- custom.fit(g, p)',\n",
    "    't <- compile(as.grain(b))'\n",
    "]\n",
    "_s = '\\n'.join(_s)\n",
    "\n",
    "save(output_path, _s)"
   ]
  },
  {
   "cell_type": "code",
   "execution_count": null,
   "id": "23730b76-c0ba-4a4c-8c2a-1aa79dc9c691",
   "metadata": {},
   "outputs": [],
   "source": []
  }
 ],
 "metadata": {
  "kernelspec": {
   "display_name": "Python 3 (ipykernel)",
   "language": "python",
   "name": "python3"
  },
  "language_info": {
   "codemirror_mode": {
    "name": "ipython",
    "version": 3
   },
   "file_extension": ".py",
   "mimetype": "text/x-python",
   "name": "python",
   "nbconvert_exporter": "python",
   "pygments_lexer": "ipython3",
   "version": "3.9.16"
  },
  "widgets": {
   "application/vnd.jupyter.widget-state+json": {
    "state": {},
    "version_major": 2,
    "version_minor": 0
   }
  }
 },
 "nbformat": 4,
 "nbformat_minor": 5
}
