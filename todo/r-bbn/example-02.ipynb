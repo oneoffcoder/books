{
 "cells": [
  {
   "cell_type": "markdown",
   "id": "96929769-f51c-4a90-b27c-02ddaa95848a",
   "metadata": {},
   "source": [
    "## Example, Huang Graph"
   ]
  },
  {
   "cell_type": "code",
   "execution_count": 100,
   "id": "2989a0e4-b1f7-44ca-a906-a804e0b79acd",
   "metadata": {},
   "outputs": [],
   "source": [
    "library(bnlearn)\n",
    "library(gRain)\n",
    "g <- empty.graph(nodes=c('A','B','C','D','E','F','G','H'))\n",
    "g <- set.arc(g, from=\"A\", to=\"B\")\n",
    "g <- set.arc(g, from=\"A\", to=\"C\")\n",
    "g <- set.arc(g, from=\"B\", to=\"D\")\n",
    "g <- set.arc(g, from=\"C\", to=\"E\")\n",
    "g <- set.arc(g, from=\"C\", to=\"G\")\n",
    "g <- set.arc(g, from=\"D\", to=\"F\")\n",
    "g <- set.arc(g, from=\"E\", to=\"F\")\n",
    "g <- set.arc(g, from=\"E\", to=\"H\")\n",
    "g <- set.arc(g, from=\"G\", to=\"H\")\n",
    "A.lv <- c(\"on\", \"off\")\n",
    "B.lv <- c(\"on\", \"off\")\n",
    "C.lv <- c(\"on\", \"off\")\n",
    "D.lv <- c(\"on\", \"off\")\n",
    "E.lv <- c(\"on\", \"off\")\n",
    "F.lv <- c(\"on\", \"off\")\n",
    "G.lv <- c(\"on\", \"off\")\n",
    "H.lv <- c(\"on\", \"off\")\n",
    "A.prob <- array(c(0.5, 0.5), dim=2, dimnames=list(A=A.lv))\n",
    "B.prob <- array(c(0.5, 0.5, 0.4, 0.6), dim=c(2, 2), dimnames=list(B=B.lv, A=A.lv))\n",
    "C.prob <- array(c(0.7, 0.3, 0.2, 0.8), dim=c(2, 2), dimnames=list(C=C.lv, A=A.lv))\n",
    "D.prob <- array(c(0.9, 0.1, 0.5, 0.5), dim=c(2, 2), dimnames=list(D=D.lv, B=B.lv))\n",
    "E.prob <- array(c(0.3, 0.7, 0.6, 0.4), dim=c(2, 2), dimnames=list(E=E.lv, C=C.lv))\n",
    "F.prob <- array(c(0.01, 0.99, 0.01, 0.99, 0.01, 0.99, 0.99, 0.01), dim=c(2, 2, 2), dimnames=list(F=F.lv, E=E.lv, D=D.lv))\n",
    "G.prob <- array(c(0.8, 0.2, 0.1, 0.9), dim=c(2, 2), dimnames=list(G=G.lv, C=C.lv))\n",
    "H.prob <- array(c(0.05, 0.95, 0.95, 0.05, 0.95, 0.05, 0.95, 0.05), dim=c(2, 2, 2), dimnames=list(H=H.lv, G=G.lv, E=E.lv))\n",
    "p <- list(A=A.prob, B=B.prob, C=C.prob, D=D.prob, E=E.prob, F=F.prob, G=G.prob, H=H.prob)"
   ]
  },
  {
   "cell_type": "code",
   "execution_count": 101,
   "id": "7ef7305c-889d-484d-a34c-3750acd88c89",
   "metadata": {},
   "outputs": [],
   "source": [
    "b <- custom.fit(g, p)"
   ]
  },
  {
   "cell_type": "code",
   "execution_count": 102,
   "id": "5019ddc3-9564-4b3f-bdf5-bd27dccc15c1",
   "metadata": {},
   "outputs": [
    {
     "name": "stderr",
     "output_type": "stream",
     "text": [
      "Warning message:\n",
      "“Any reference to graphNEL objects will be removed in future versions of gRbase\n",
      "Please use igraphs instead\n",
      "”\n",
      "Warning message:\n",
      "“Any reference to graphNEL objects will be removed in future versions of gRbase\n",
      "Please use igraphs instead\n",
      "”\n"
     ]
    }
   ],
   "source": [
    "t <- compile(as.grain(b))"
   ]
  },
  {
   "cell_type": "code",
   "execution_count": null,
   "id": "95055c58-39f4-47f0-b2f3-4c593254ec2e",
   "metadata": {},
   "outputs": [],
   "source": []
  }
 ],
 "metadata": {
  "kernelspec": {
   "display_name": "R",
   "language": "R",
   "name": "ir"
  },
  "language_info": {
   "codemirror_mode": "r",
   "file_extension": ".r",
   "mimetype": "text/x-r-source",
   "name": "R",
   "pygments_lexer": "r",
   "version": "4.2.1"
  },
  "widgets": {
   "application/vnd.jupyter.widget-state+json": {
    "state": {},
    "version_major": 2,
    "version_minor": 0
   }
  }
 },
 "nbformat": 4,
 "nbformat_minor": 5
}
