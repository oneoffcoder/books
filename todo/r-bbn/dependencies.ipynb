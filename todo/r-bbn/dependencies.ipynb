{
 "cells": [
  {
   "cell_type": "markdown",
   "id": "762eaa9f-320a-42af-b989-cafe79698963",
   "metadata": {},
   "source": [
    "# Dependencies"
   ]
  },
  {
   "cell_type": "markdown",
   "id": "b1ead26e-db04-4b50-9ca1-4d9733688d93",
   "metadata": {},
   "source": [
    "# Bioconductor\n",
    "\n",
    "[Installation instruction.](https://bioconductor.org/install/).\n",
    "\n",
    "- R v4.3 requires Bioconductor v3.17\n",
    "- R v4.2.1 requires Bioconductor v3.16\n",
    "- R v4.0 requires Bioconductor v3.12"
   ]
  },
  {
   "cell_type": "code",
   "execution_count": 2,
   "id": "ba6c39a5-b319-41ab-8edc-ae50d69a4f2b",
   "metadata": {},
   "outputs": [
    {
     "name": "stderr",
     "output_type": "stream",
     "text": [
      "Bioconductor version '3.12' is out-of-date; the current release version '3.17'\n",
      "  is available with R version '4.3'; see https://bioconductor.org/install\n",
      "\n",
      "'getOption(\"repos\")' replaces Bioconductor standard repositories, see\n",
      "'help(\"repositories\", package = \"BiocManager\")' for details.\n",
      "Replacement repositories:\n",
      "    CRAN: https://cloud.r-project.org\n",
      "\n",
      "Bioconductor version 3.12 (BiocManager 1.30.22), R 4.0.4 (2021-02-15)\n",
      "\n",
      "Installing package(s) 'BiocVersion'\n",
      "\n",
      "Installation paths not writeable, unable to update packages\n",
      "  path: /usr/lib/R/library\n",
      "  packages:\n",
      "    boot, class, cluster, codetools, foreign, KernSmooth, lattice, MASS,\n",
      "    Matrix, mgcv, nlme, nnet, rpart, spatial, survival\n",
      "\n"
     ]
    }
   ],
   "source": [
    "if (!require('BiocManager', quietly=TRUE))\n",
    "    install.packages('BiocManager')\n",
    "BiocManager::install(version='3.12')"
   ]
  },
  {
   "cell_type": "markdown",
   "id": "1a20cc38-78ec-4fa3-a215-3a2be6e11f0c",
   "metadata": {},
   "source": [
    "## Bioconductor: graph, Rgraphviz\n",
    "\n",
    "You can't get these from CRAN."
   ]
  },
  {
   "cell_type": "code",
   "execution_count": 3,
   "id": "d9f02c24-e64a-470a-b0a1-6596fe1e305b",
   "metadata": {},
   "outputs": [
    {
     "name": "stderr",
     "output_type": "stream",
     "text": [
      "'getOption(\"repos\")' replaces Bioconductor standard repositories, see\n",
      "'help(\"repositories\", package = \"BiocManager\")' for details.\n",
      "Replacement repositories:\n",
      "    CRAN: https://cloud.r-project.org\n",
      "\n",
      "Bioconductor version 3.12 (BiocManager 1.30.22), R 4.0.4 (2021-02-15)\n",
      "\n",
      "Installing package(s) 'graph', 'Rgraphviz'\n",
      "\n",
      "also installing the dependency ‘BiocGenerics’\n",
      "\n",
      "\n",
      "Installation paths not writeable, unable to update packages\n",
      "  path: /usr/lib/R/library\n",
      "  packages:\n",
      "    boot, class, cluster, codetools, foreign, KernSmooth, lattice, MASS,\n",
      "    Matrix, mgcv, nlme, nnet, rpart, spatial, survival\n",
      "\n"
     ]
    }
   ],
   "source": [
    "BiocManager::install(c('graph', 'Rgraphviz'))"
   ]
  },
  {
   "cell_type": "markdown",
   "id": "55add94f-5967-49b8-a230-7b20564636c0",
   "metadata": {},
   "source": [
    "## CRAN: bnlearn, gRain"
   ]
  },
  {
   "cell_type": "code",
   "execution_count": null,
   "id": "e1860b56-237d-4772-8ad0-43f19c5feafd",
   "metadata": {},
   "outputs": [
    {
     "name": "stderr",
     "output_type": "stream",
     "text": [
      "Installing packages into ‘/home/jupyter/R/x86_64-pc-linux-gnu-library/4.0’\n",
      "(as ‘lib’ is unspecified)\n",
      "\n",
      "Warning message:\n",
      "“package ‘bnlearn’ is not available for this version of R\n",
      "‘bnlearn’ version 4.9 is in the repositories but depends on R (>= 4.2.0)\n",
      "\n",
      "A version of this package for your version of R might be available elsewhere,\n",
      "see the ideas at\n",
      "https://cran.r-project.org/doc/manuals/r-patched/R-admin.html#Installing-packages”\n",
      "Warning message:\n",
      "“dependency ‘RBGL’ is not available”\n",
      "also installing the dependencies ‘tidyselect’, ‘stringi’, ‘rprojroot’, ‘fs’, ‘diffobj’, ‘rematch2’, ‘pkgconfig’, ‘cpp11’, ‘backports’, ‘dplyr’, ‘generics’, ‘purrr’, ‘stringr’, ‘tibble’, ‘tidyr’, ‘highr’, ‘xfun’, ‘yaml’, ‘brio’, ‘callr’, ‘desc’, ‘pkgload’, ‘praise’, ‘processx’, ‘ps’, ‘R6’, ‘waldo’, ‘withr’, ‘gRbase’, ‘igraph’, ‘broom’, ‘magrittr’, ‘Rcpp’, ‘RcppArmadillo’, ‘RcppEigen’, ‘microbenchmark’, ‘knitr’, ‘testthat’\n",
      "\n",
      "\n"
     ]
    }
   ],
   "source": [
    "install.packages(c('bnlearn', 'gRain'), dependencies=TRUE)"
   ]
  },
  {
   "cell_type": "markdown",
   "id": "b86da7d9-e674-45dd-b5a4-312bc56a7ea5",
   "metadata": {},
   "source": [
    "## rpy2\n",
    "\n",
    "[On Mac M1](https://stackoverflow.com/questions/52361732/installing-rpy2-on-macos).\n",
    "\n",
    "```\n",
    "env CC=/usr/bin/gcc pip install rpy2\n",
    "```\n",
    "\n",
    "Conda.\n",
    "\n",
    "```bash\n",
    "conda install -c conda-forge rpy2 -y\n",
    "```"
   ]
  },
  {
   "cell_type": "code",
   "execution_count": null,
   "id": "4b2ef9bc-0f77-4bbe-9f77-150299e1f806",
   "metadata": {},
   "outputs": [],
   "source": []
  }
 ],
 "metadata": {
  "environment": {
   "kernel": "ir4",
   "name": "common-cpu.m111",
   "type": "gcloud",
   "uri": "gcr.io/deeplearning-platform-release/base-cpu:m111"
  },
  "kernelspec": {
   "display_name": "R",
   "language": "R",
   "name": "ir4"
  },
  "language_info": {
   "codemirror_mode": "r",
   "file_extension": ".r",
   "mimetype": "text/x-r-source",
   "name": "R",
   "pygments_lexer": "r",
   "version": "4.0.4"
  },
  "widgets": {
   "application/vnd.jupyter.widget-state+json": {
    "state": {},
    "version_major": 2,
    "version_minor": 0
   }
  }
 },
 "nbformat": 4,
 "nbformat_minor": 5
}
