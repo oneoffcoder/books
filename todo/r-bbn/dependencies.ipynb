{
 "cells": [
  {
   "cell_type": "markdown",
   "id": "762eaa9f-320a-42af-b989-cafe79698963",
   "metadata": {},
   "source": [
    "# Dependencies"
   ]
  },
  {
   "cell_type": "markdown",
   "id": "b1ead26e-db04-4b50-9ca1-4d9733688d93",
   "metadata": {},
   "source": [
    "# Bioconductor\n",
    "\n",
    "[Installation instruction.](https://bioconductor.org/install/).\n",
    "\n",
    "- R v4.3 requires Bioconductor v3.17\n",
    "- R v4.2.1 requires Bioconductor v3.16"
   ]
  },
  {
   "cell_type": "code",
   "execution_count": 3,
   "id": "ba6c39a5-b319-41ab-8edc-ae50d69a4f2b",
   "metadata": {},
   "outputs": [
    {
     "name": "stderr",
     "output_type": "stream",
     "text": [
      "Bioconductor version '3.16' is out-of-date; the current release version '3.17'\n",
      "  is available with R version '4.3'; see https://bioconductor.org/install\n",
      "\n",
      "'getOption(\"repos\")' replaces Bioconductor standard repositories, see\n",
      "'help(\"repositories\", package = \"BiocManager\")' for details.\n",
      "Replacement repositories:\n",
      "    CRAN: https://cran.r-project.org\n",
      "\n",
      "Bioconductor version 3.16 (BiocManager 1.30.22), R 4.2.1 (2022-06-23)\n",
      "\n",
      "Installing package(s) 'BiocVersion'\n",
      "\n"
     ]
    },
    {
     "name": "stdout",
     "output_type": "stream",
     "text": [
      "\n",
      "The downloaded binary packages are in\n",
      "\t/var/folders/vt/g8zbc68n2nj8dkk85n8b19440000gn/T//RtmpYQIBQE/downloaded_packages\n"
     ]
    },
    {
     "name": "stderr",
     "output_type": "stream",
     "text": [
      "Old packages: 'askpass', 'BH', 'bit', 'boot', 'bslib', 'cachem', 'callr',\n",
      "  'class', 'cli', 'cluster', 'codetools', 'colorspace', 'commonmark', 'cpp11',\n",
      "  'credentials', 'curl', 'data.table', 'digest', 'downlit', 'dplyr',\n",
      "  'evaluate', 'fansi', 'fastmap', 'fontawesome', 'foreign', 'fs', 'gert',\n",
      "  'ggplot2', 'gh', 'gtable', 'highr', 'hms', 'htmltools', 'htmlwidgets',\n",
      "  'httpuv', 'httr', 'IRkernel', 'isoband', 'jsonlite', 'KernSmooth', 'knitr',\n",
      "  'labeling', 'later', 'lattice', 'MASS', 'Matrix', 'mgcv', 'nlme', 'nnet',\n",
      "  'openssl', 'pbdZMQ', 'pillar', 'pkgbuild', 'pkgdown', 'pkgload', 'processx',\n",
      "  'profvis', 'promises', 'ps', 'purrr', 'ragg', 'Rcpp', 'readr', 'remotes',\n",
      "  'repr', 'rlang', 'rmarkdown', 'roxygen2', 'rpart', 'rstudioapi', 'sass',\n",
      "  'shiny', 'sourcetools', 'spatial', 'stringi', 'stringr', 'survival', 'sys',\n",
      "  'tempdisagg', 'testthat', 'tibble', 'tidyr', 'tinytex', 'tsbox', 'tzdb',\n",
      "  'usethis', 'utf8', 'uuid', 'vctrs', 'viridisLite', 'vroom', 'waldo',\n",
      "  'whisker', 'xfun', 'xml2', 'yaml', 'zip'\n",
      "\n"
     ]
    }
   ],
   "source": [
    "if (!require('BiocManager', quietly=TRUE))\n",
    "    install.packages('BiocManager')\n",
    "BiocManager::install(version='3.16')"
   ]
  },
  {
   "cell_type": "markdown",
   "id": "1a20cc38-78ec-4fa3-a215-3a2be6e11f0c",
   "metadata": {},
   "source": [
    "## Bioconductor: graph, Rgraphviz\n",
    "\n",
    "You can't get these from CRAN."
   ]
  },
  {
   "cell_type": "code",
   "execution_count": 4,
   "id": "d9f02c24-e64a-470a-b0a1-6596fe1e305b",
   "metadata": {},
   "outputs": [
    {
     "name": "stderr",
     "output_type": "stream",
     "text": [
      "'getOption(\"repos\")' replaces Bioconductor standard repositories, see\n",
      "'help(\"repositories\", package = \"BiocManager\")' for details.\n",
      "Replacement repositories:\n",
      "    CRAN: https://cran.r-project.org\n",
      "\n",
      "Bioconductor version 3.16 (BiocManager 1.30.22), R 4.2.1 (2022-06-23)\n",
      "\n",
      "Installing package(s) 'graph', 'Rgraphviz'\n",
      "\n",
      "also installing the dependency ‘BiocGenerics’\n",
      "\n",
      "\n"
     ]
    },
    {
     "name": "stdout",
     "output_type": "stream",
     "text": [
      "\n",
      "The downloaded binary packages are in\n",
      "\t/var/folders/vt/g8zbc68n2nj8dkk85n8b19440000gn/T//RtmpYQIBQE/downloaded_packages\n"
     ]
    },
    {
     "name": "stderr",
     "output_type": "stream",
     "text": [
      "Old packages: 'askpass', 'BH', 'bit', 'boot', 'bslib', 'cachem', 'callr',\n",
      "  'class', 'cli', 'cluster', 'codetools', 'colorspace', 'commonmark', 'cpp11',\n",
      "  'credentials', 'curl', 'data.table', 'digest', 'downlit', 'dplyr',\n",
      "  'evaluate', 'fansi', 'fastmap', 'fontawesome', 'foreign', 'fs', 'gert',\n",
      "  'ggplot2', 'gh', 'gtable', 'highr', 'hms', 'htmltools', 'htmlwidgets',\n",
      "  'httpuv', 'httr', 'IRkernel', 'isoband', 'jsonlite', 'KernSmooth', 'knitr',\n",
      "  'labeling', 'later', 'lattice', 'MASS', 'Matrix', 'mgcv', 'nlme', 'nnet',\n",
      "  'openssl', 'pbdZMQ', 'pillar', 'pkgbuild', 'pkgdown', 'pkgload', 'processx',\n",
      "  'profvis', 'promises', 'ps', 'purrr', 'ragg', 'Rcpp', 'readr', 'remotes',\n",
      "  'repr', 'rlang', 'rmarkdown', 'roxygen2', 'rpart', 'rstudioapi', 'sass',\n",
      "  'shiny', 'sourcetools', 'spatial', 'stringi', 'stringr', 'survival', 'sys',\n",
      "  'tempdisagg', 'testthat', 'tibble', 'tidyr', 'tinytex', 'tsbox', 'tzdb',\n",
      "  'usethis', 'utf8', 'uuid', 'vctrs', 'viridisLite', 'vroom', 'waldo',\n",
      "  'whisker', 'xfun', 'xml2', 'yaml', 'zip'\n",
      "\n"
     ]
    }
   ],
   "source": [
    "BiocManager::install(c('graph', 'Rgraphviz'))"
   ]
  },
  {
   "cell_type": "markdown",
   "id": "55add94f-5967-49b8-a230-7b20564636c0",
   "metadata": {},
   "source": [
    "## CRAN: bnlearn, gRain"
   ]
  },
  {
   "cell_type": "code",
   "execution_count": 5,
   "id": "e1860b56-237d-4772-8ad0-43f19c5feafd",
   "metadata": {},
   "outputs": [
    {
     "name": "stderr",
     "output_type": "stream",
     "text": [
      "Warning message:\n",
      "“dependency ‘RBGL’ is not available”\n",
      "also installing the dependencies ‘bitops’, ‘gtools’, ‘caTools’, ‘gplots’, ‘backports’, ‘igraph’, ‘gRbase’, ‘ROCR’, ‘Rmpfr’, ‘gmp’, ‘broom’, ‘RcppArmadillo’, ‘RcppEigen’, ‘microbenchmark’\n",
      "\n",
      "\n"
     ]
    },
    {
     "name": "stdout",
     "output_type": "stream",
     "text": [
      "\n",
      "The downloaded binary packages are in\n",
      "\t/var/folders/vt/g8zbc68n2nj8dkk85n8b19440000gn/T//RtmpYQIBQE/downloaded_packages\n"
     ]
    }
   ],
   "source": [
    "install.packages(c('bnlearn', 'gRain'), dependencies=TRUE)"
   ]
  },
  {
   "cell_type": "code",
   "execution_count": null,
   "id": "b256020a-85db-4162-bf0f-f67db6486d07",
   "metadata": {},
   "outputs": [],
   "source": []
  }
 ],
 "metadata": {
  "kernelspec": {
   "display_name": "R",
   "language": "R",
   "name": "ir"
  },
  "language_info": {
   "codemirror_mode": "r",
   "file_extension": ".r",
   "mimetype": "text/x-r-source",
   "name": "R",
   "pygments_lexer": "r",
   "version": "4.2.1"
  },
  "widgets": {
   "application/vnd.jupyter.widget-state+json": {
    "state": {},
    "version_major": 2,
    "version_minor": 0
   }
  }
 },
 "nbformat": 4,
 "nbformat_minor": 5
}
