{
 "cells": [
  {
   "cell_type": "code",
   "execution_count": 1,
   "id": "8ee8e4e2-386b-487c-aa51-4103621cec08",
   "metadata": {
    "execution": {
     "iopub.execute_input": "2023-09-20T05:18:39.100893Z",
     "iopub.status.busy": "2023-09-20T05:18:39.099893Z",
     "iopub.status.idle": "2023-09-20T05:18:39.337078Z",
     "shell.execute_reply": "2023-09-20T05:18:39.337078Z",
     "shell.execute_reply.started": "2023-09-20T05:18:39.100893Z"
    },
    "tags": []
   },
   "outputs": [
    {
     "name": "stdout",
     "output_type": "stream",
     "text": [
      "3.5.14\n"
     ]
    }
   ],
   "source": [
    "import rpy2\n",
    "import rpy2.robjects as robjects\n",
    "\n",
    "print(rpy2.__version__)"
   ]
  },
  {
   "cell_type": "code",
   "execution_count": 5,
   "id": "0cd8a78c-957e-4ab8-af88-97d529087b5e",
   "metadata": {
    "execution": {
     "iopub.execute_input": "2023-09-20T05:19:43.694352Z",
     "iopub.status.busy": "2023-09-20T05:19:43.694352Z",
     "iopub.status.idle": "2023-09-20T05:19:43.699538Z",
     "shell.execute_reply": "2023-09-20T05:19:43.699538Z",
     "shell.execute_reply.started": "2023-09-20T05:19:43.694352Z"
    },
    "tags": []
   },
   "outputs": [],
   "source": [
    "script = '''\n",
    "library(bnlearn)\n",
    "library(gRain)\n",
    "\n",
    "v <- readRDS('./rds/huang-v.rds')\n",
    "p <- readRDS('./rds/huang-p.rds')\n",
    "g <- readRDS('./rds/huang-g.rds')\n",
    "b <- readRDS('./rds/huang-b.rds')\n",
    "t <- readRDS('./rds/huang-t.rds')\n",
    "'''\n",
    "\n",
    "_ = robjects.r(script)"
   ]
  },
  {
   "cell_type": "code",
   "execution_count": 6,
   "id": "353f3967-6011-41fa-b8c3-1bf96a3092b8",
   "metadata": {
    "execution": {
     "iopub.execute_input": "2023-09-20T05:19:53.425076Z",
     "iopub.status.busy": "2023-09-20T05:19:53.425076Z",
     "iopub.status.idle": "2023-09-20T05:19:53.430711Z",
     "shell.execute_reply": "2023-09-20T05:19:53.430711Z",
     "shell.execute_reply.started": "2023-09-20T05:19:53.425076Z"
    },
    "tags": []
   },
   "outputs": [],
   "source": [
    "v = robjects.r(\"v\")\n",
    "p = robjects.r(\"p\")\n",
    "g = robjects.r(\"g\")\n",
    "b = robjects.r(\"b\")\n",
    "t = robjects.r(\"t\")"
   ]
  },
  {
   "cell_type": "code",
   "execution_count": 7,
   "id": "e95936d6-bad1-45e4-b3c8-76be19fd58ef",
   "metadata": {
    "execution": {
     "iopub.execute_input": "2023-09-20T05:19:54.571822Z",
     "iopub.status.busy": "2023-09-20T05:19:54.571822Z",
     "iopub.status.idle": "2023-09-20T05:19:54.578934Z",
     "shell.execute_reply": "2023-09-20T05:19:54.578934Z",
     "shell.execute_reply.started": "2023-09-20T05:19:54.571822Z"
    },
    "tags": []
   },
   "outputs": [
    {
     "data": {
      "text/plain": [
       "{'A': ['on', 'off'],\n",
       " 'B': ['on', 'off'],\n",
       " 'C': ['on', 'off'],\n",
       " 'D': ['on', 'off'],\n",
       " 'E': ['on', 'off'],\n",
       " 'F': ['on', 'off'],\n",
       " 'G': ['on', 'off'],\n",
       " 'H': ['on', 'off']}"
      ]
     },
     "execution_count": 7,
     "metadata": {},
     "output_type": "execute_result"
    }
   ],
   "source": [
    "n2v = {_item[0]: [_i for _i in _item[1]] for _item in v.items()}\n",
    "n2v"
   ]
  },
  {
   "cell_type": "code",
   "execution_count": 29,
   "id": "10c9120e-f5c1-427b-9852-e369490b2d14",
   "metadata": {
    "execution": {
     "iopub.execute_input": "2023-09-20T05:28:55.924667Z",
     "iopub.status.busy": "2023-09-20T05:28:55.923666Z",
     "iopub.status.idle": "2023-09-20T05:28:55.929086Z",
     "shell.execute_reply": "2023-09-20T05:28:55.929086Z",
     "shell.execute_reply.started": "2023-09-20T05:28:55.924667Z"
    },
    "tags": []
   },
   "outputs": [
    {
     "data": {
      "text/plain": [
       "(9, 2)"
      ]
     },
     "execution_count": 29,
     "metadata": {},
     "output_type": "execute_result"
    }
   ],
   "source": [
    "robjects.r('arcs(g)').nrow, robjects.r('arcs(g)').ncol"
   ]
  },
  {
   "cell_type": "code",
   "execution_count": 38,
   "id": "f502a461-a811-41a6-9127-78a7d6ca1e7e",
   "metadata": {
    "execution": {
     "iopub.execute_input": "2023-09-20T05:35:56.537269Z",
     "iopub.status.busy": "2023-09-20T05:35:56.537269Z",
     "iopub.status.idle": "2023-09-20T05:35:56.544353Z",
     "shell.execute_reply": "2023-09-20T05:35:56.544353Z",
     "shell.execute_reply.started": "2023-09-20T05:35:56.537269Z"
    },
    "tags": []
   },
   "outputs": [
    {
     "data": {
      "text/plain": [
       "[('A', 'B'),\n",
       " ('A', 'C'),\n",
       " ('B', 'D'),\n",
       " ('C', 'E'),\n",
       " ('C', 'G'),\n",
       " ('D', 'F'),\n",
       " ('E', 'F'),\n",
       " ('E', 'H'),\n",
       " ('G', 'H')]"
      ]
     },
     "execution_count": 38,
     "metadata": {},
     "output_type": "execute_result"
    }
   ],
   "source": [
    "step = robjects.r('arcs(g)').nrow\n",
    "arcs = [n for _, n in robjects.r('arcs(g)').items()]\n",
    "arcs = [arcs[i:i+step] for i in range(0, len(arcs), step)]\n",
    "arcs = list(zip(*arcs))\n",
    "arcs"
   ]
  },
  {
   "cell_type": "code",
   "execution_count": 8,
   "id": "e865cf90-925e-43c9-9408-c4e696feafea",
   "metadata": {
    "execution": {
     "iopub.execute_input": "2023-09-20T05:19:58.585775Z",
     "iopub.status.busy": "2023-09-20T05:19:58.585775Z",
     "iopub.status.idle": "2023-09-20T05:19:58.592097Z",
     "shell.execute_reply": "2023-09-20T05:19:58.592097Z",
     "shell.execute_reply.started": "2023-09-20T05:19:58.585775Z"
    },
    "tags": []
   },
   "outputs": [],
   "source": [
    "def query(script='querygrain(t, nodes=nodes(g))'):\n",
    "    print(f'{script=}')\n",
    "    e = robjects.r(script)\n",
    "    _n = [_n for _n in e.names]\n",
    "    _p = [[_i for _i in _e] for _e in e]\n",
    "    \n",
    "    return {name: {_val: _prob for _val, _prob in zip(n2v[name], probs)} \n",
    "            for name, probs in zip(_n, _p)}\n",
    "\n",
    "def get_posteriors(e=None):\n",
    "    if e is None or len(e) == 0:\n",
    "        return query()\n",
    "    \n",
    "    keys = e.keys()\n",
    "    \n",
    "    nodes = ','.join([f'\"{k}\"' for k in keys])\n",
    "    nodes = f'c({nodes})'\n",
    "    \n",
    "    states = ','.join([f'\"{e[k]}\"' for k in keys])\n",
    "    states = f'c({states})'\n",
    "    \n",
    "    q = f'querygrain(setEvidence(t, nodes={nodes}, states={states}), nodes=nodes(g))'\n",
    "    q = query(q)\n",
    "    \n",
    "    p = {_n: {_val: 1.0 if _val == _v else 0.0 for _val in n2v[_n]} \n",
    "         for _n, _v in e.items()}\n",
    "    \n",
    "    return {**p, **q}"
   ]
  },
  {
   "cell_type": "code",
   "execution_count": 9,
   "id": "6fa22ced-0242-4d24-ba6c-b8009f6f82b4",
   "metadata": {
    "execution": {
     "iopub.execute_input": "2023-09-20T05:19:59.399860Z",
     "iopub.status.busy": "2023-09-20T05:19:59.399860Z",
     "iopub.status.idle": "2023-09-20T05:19:59.407410Z",
     "shell.execute_reply": "2023-09-20T05:19:59.407410Z",
     "shell.execute_reply.started": "2023-09-20T05:19:59.399860Z"
    },
    "tags": []
   },
   "outputs": [
    {
     "name": "stdout",
     "output_type": "stream",
     "text": [
      "script='querygrain(t, nodes=nodes(g))'\n"
     ]
    },
    {
     "data": {
      "text/plain": [
       "{'A': {'on': 0.5, 'off': 0.5},\n",
       " 'B': {'on': 0.45000000000000007, 'off': 0.55},\n",
       " 'C': {'on': 0.4499999999999999, 'off': 0.55},\n",
       " 'D': {'on': 0.6799999999999999, 'off': 0.32},\n",
       " 'E': {'on': 0.4650000000000001, 'off': 0.535},\n",
       " 'F': {'on': 0.17630600000000002, 'off': 0.823694},\n",
       " 'G': {'on': 0.415, 'off': 0.5850000000000001},\n",
       " 'H': {'on': 0.8231, 'off': 0.17689999999999997}}"
      ]
     },
     "execution_count": 9,
     "metadata": {},
     "output_type": "execute_result"
    }
   ],
   "source": [
    "get_posteriors()"
   ]
  },
  {
   "cell_type": "code",
   "execution_count": 10,
   "id": "92ee09b4-56c4-43d9-aa38-e5f8f9f14780",
   "metadata": {
    "execution": {
     "iopub.execute_input": "2023-09-20T05:19:59.962333Z",
     "iopub.status.busy": "2023-09-20T05:19:59.962333Z",
     "iopub.status.idle": "2023-09-20T05:19:59.969984Z",
     "shell.execute_reply": "2023-09-20T05:19:59.969984Z",
     "shell.execute_reply.started": "2023-09-20T05:19:59.962333Z"
    },
    "tags": []
   },
   "outputs": [
    {
     "name": "stdout",
     "output_type": "stream",
     "text": [
      "script='querygrain(setEvidence(t, nodes=c(\"A\"), states=c(\"on\")), nodes=nodes(g))'\n"
     ]
    },
    {
     "data": {
      "text/plain": [
       "{'A': {'on': 1.0, 'off': 0.0},\n",
       " 'B': {'on': 0.5, 'off': 0.5},\n",
       " 'C': {'on': 0.7000000000000001, 'off': 0.30000000000000004},\n",
       " 'D': {'on': 0.7, 'off': 0.3},\n",
       " 'E': {'on': 0.39, 'off': 0.61},\n",
       " 'F': {'on': 0.18934, 'off': 0.81066},\n",
       " 'G': {'on': 0.59, 'off': 0.41},\n",
       " 'H': {'on': 0.7826, 'off': 0.2174}}"
      ]
     },
     "execution_count": 10,
     "metadata": {},
     "output_type": "execute_result"
    }
   ],
   "source": [
    "get_posteriors({'A': 'on'})"
   ]
  },
  {
   "cell_type": "code",
   "execution_count": 11,
   "id": "00022251-61e5-464b-857e-416488665b6b",
   "metadata": {
    "execution": {
     "iopub.execute_input": "2023-09-20T05:20:00.466272Z",
     "iopub.status.busy": "2023-09-20T05:20:00.465272Z",
     "iopub.status.idle": "2023-09-20T05:20:00.472553Z",
     "shell.execute_reply": "2023-09-20T05:20:00.472553Z",
     "shell.execute_reply.started": "2023-09-20T05:20:00.466272Z"
    },
    "tags": []
   },
   "outputs": [
    {
     "name": "stdout",
     "output_type": "stream",
     "text": [
      "script='querygrain(setEvidence(t, nodes=c(\"A\",\"B\"), states=c(\"on\",\"on\")), nodes=nodes(g))'\n"
     ]
    },
    {
     "data": {
      "text/plain": [
       "{'A': {'on': 1.0, 'off': 0.0},\n",
       " 'B': {'on': 1.0, 'off': 0.0},\n",
       " 'C': {'on': 0.7, 'off': 0.30000000000000004},\n",
       " 'D': {'on': 0.9, 'off': 0.1},\n",
       " 'E': {'on': 0.39, 'off': 0.61},\n",
       " 'F': {'on': 0.06978000000000001, 'off': 0.93022},\n",
       " 'G': {'on': 0.59, 'off': 0.41},\n",
       " 'H': {'on': 0.7826, 'off': 0.2174}}"
      ]
     },
     "execution_count": 11,
     "metadata": {},
     "output_type": "execute_result"
    }
   ],
   "source": [
    "get_posteriors({'A': 'on', 'B': 'on'})"
   ]
  },
  {
   "cell_type": "code",
   "execution_count": 12,
   "id": "ecb07b3a-a480-4e3e-bf89-14e153e9294f",
   "metadata": {
    "execution": {
     "iopub.execute_input": "2023-09-20T05:20:01.092495Z",
     "iopub.status.busy": "2023-09-20T05:20:01.092495Z",
     "iopub.status.idle": "2023-09-20T05:20:01.099547Z",
     "shell.execute_reply": "2023-09-20T05:20:01.099547Z",
     "shell.execute_reply.started": "2023-09-20T05:20:01.092495Z"
    },
    "tags": []
   },
   "outputs": [
    {
     "name": "stdout",
     "output_type": "stream",
     "text": [
      "script='querygrain(setEvidence(t, nodes=c(\"A\",\"B\"), states=c(\"on\",\"off\")), nodes=nodes(g))'\n"
     ]
    },
    {
     "data": {
      "text/plain": [
       "{'A': {'on': 1.0, 'off': 0.0},\n",
       " 'B': {'on': 0.0, 'off': 1.0},\n",
       " 'C': {'on': 0.7, 'off': 0.3},\n",
       " 'D': {'on': 0.5, 'off': 0.5},\n",
       " 'E': {'on': 0.39000000000000007, 'off': 0.61},\n",
       " 'F': {'on': 0.3089, 'off': 0.6911},\n",
       " 'G': {'on': 0.5900000000000001, 'off': 0.41},\n",
       " 'H': {'on': 0.7826, 'off': 0.2174}}"
      ]
     },
     "execution_count": 12,
     "metadata": {},
     "output_type": "execute_result"
    }
   ],
   "source": [
    "get_posteriors({'A': 'on', 'B': 'off'})"
   ]
  },
  {
   "cell_type": "code",
   "execution_count": null,
   "id": "dadf3589-1fbb-482f-88a8-b80175198846",
   "metadata": {},
   "outputs": [],
   "source": []
  }
 ],
 "metadata": {
  "environment": {
   "kernel": "python3",
   "name": "common-cpu.m111",
   "type": "gcloud",
   "uri": "gcr.io/deeplearning-platform-release/base-cpu:m111"
  },
  "kernelspec": {
   "display_name": "Python 3 (ipykernel)",
   "language": "python",
   "name": "python3"
  },
  "language_info": {
   "codemirror_mode": {
    "name": "ipython",
    "version": 3
   },
   "file_extension": ".py",
   "mimetype": "text/x-python",
   "name": "python",
   "nbconvert_exporter": "python",
   "pygments_lexer": "ipython3",
   "version": "3.11.4"
  },
  "widgets": {
   "application/vnd.jupyter.widget-state+json": {
    "state": {},
    "version_major": 2,
    "version_minor": 0
   }
  }
 },
 "nbformat": 4,
 "nbformat_minor": 5
}
