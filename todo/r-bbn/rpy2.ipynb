{
 "cells": [
  {
   "cell_type": "code",
   "execution_count": 15,
   "id": "8ee8e4e2-386b-487c-aa51-4103621cec08",
   "metadata": {},
   "outputs": [
    {
     "name": "stdout",
     "output_type": "stream",
     "text": [
      "3.5.11\n"
     ]
    }
   ],
   "source": [
    "import rpy2\n",
    "import rpy2.robjects as robjects\n",
    "\n",
    "print(rpy2.__version__)"
   ]
  },
  {
   "cell_type": "code",
   "execution_count": 16,
   "id": "0cd8a78c-957e-4ab8-af88-97d529087b5e",
   "metadata": {},
   "outputs": [
    {
     "name": "stderr",
     "output_type": "stream",
     "text": [
      "R[write to console]: Loading required package: gRbase\n",
      "\n"
     ]
    }
   ],
   "source": [
    "script = '''\n",
    "library(bnlearn)\n",
    "library(gRain)\n",
    "'''\n",
    "\n",
    "_ = robjects.r(script)"
   ]
  },
  {
   "cell_type": "code",
   "execution_count": 17,
   "id": "353f3967-6011-41fa-b8c3-1bf96a3092b8",
   "metadata": {},
   "outputs": [],
   "source": [
    "v = robjects.r(\"v <- readRDS('./rds/huang-v.rds')\")\n",
    "p = robjects.r(\"p <- readRDS('./rds/huang-p.rds')\")\n",
    "g = robjects.r(\"g <- readRDS('./rds/huang-g.rds')\")\n",
    "b = robjects.r(\"b <- readRDS('./rds/huang-b.rds')\")\n",
    "t = robjects.r(\"t <- readRDS('./rds/huang-t.rds')\")"
   ]
  },
  {
   "cell_type": "code",
   "execution_count": 11,
   "id": "e865cf90-925e-43c9-9408-c4e696feafea",
   "metadata": {},
   "outputs": [],
   "source": [
    "def query(script='querygrain(t, nodes=nodes(g))'):\n",
    "    e = robjects.r(script)\n",
    "    _v = [(_v[0], [_i for _i in _v[1]]) for _v in v.items()]\n",
    "    _p = [[_i for _i in _e] for _e in e]\n",
    "\n",
    "    return {name: {_val: _prob for _val, _prob in zip(values, probs)} \n",
    "            for (name, values), probs in zip(_v, _p)}\n",
    "\n",
    "def get_posteriors(e=None):\n",
    "    if e is None or len(e) == 0:\n",
    "        return query()\n",
    "    \n",
    "    keys = e.keys()\n",
    "    \n",
    "    nodes = ','.join([f'\"{k}\"' for k in keys])\n",
    "    nodes = f'c({nodes})'\n",
    "    \n",
    "    states = ','.join([f'\"{e[k]}\"' for k in keys])\n",
    "    states = f'c({states})'\n",
    "    \n",
    "    q = f'querygrain(setEvidence(t, nodes={nodes}, states={states}), nodes=nodes(g))'\n",
    "    q = query(q)\n",
    "    \n",
    "    return q"
   ]
  },
  {
   "cell_type": "code",
   "execution_count": 12,
   "id": "6fa22ced-0242-4d24-ba6c-b8009f6f82b4",
   "metadata": {},
   "outputs": [
    {
     "name": "stderr",
     "output_type": "stream",
     "text": [
      "R[write to console]: Error in (function (classes, fdef, mtable)  : \n",
      "  unable to find an inherited method for function ‘nodes’ for signature ‘\"bn\"’\n",
      "\n"
     ]
    },
    {
     "ename": "RRuntimeError",
     "evalue": "Error in (function (classes, fdef, mtable)  : \n  unable to find an inherited method for function ‘nodes’ for signature ‘\"bn\"’\n",
     "output_type": "error",
     "traceback": [
      "\u001b[0;31m---------------------------------------------------------------------------\u001b[0m",
      "\u001b[0;31mRRuntimeError\u001b[0m                             Traceback (most recent call last)",
      "Cell \u001b[0;32mIn[5], line 1\u001b[0m\n\u001b[0;32m----> 1\u001b[0m \u001b[43mget_posteriors\u001b[49m\u001b[43m(\u001b[49m\u001b[43m)\u001b[49m\n",
      "Cell \u001b[0;32mIn[4], line 11\u001b[0m, in \u001b[0;36mget_posteriors\u001b[0;34m(e)\u001b[0m\n\u001b[1;32m      9\u001b[0m \u001b[38;5;28;01mdef\u001b[39;00m \u001b[38;5;21mget_posteriors\u001b[39m(e\u001b[38;5;241m=\u001b[39m\u001b[38;5;28;01mNone\u001b[39;00m):\n\u001b[1;32m     10\u001b[0m     \u001b[38;5;28;01mif\u001b[39;00m e \u001b[38;5;129;01mis\u001b[39;00m \u001b[38;5;28;01mNone\u001b[39;00m \u001b[38;5;129;01mor\u001b[39;00m \u001b[38;5;28mlen\u001b[39m(e) \u001b[38;5;241m==\u001b[39m \u001b[38;5;241m0\u001b[39m:\n\u001b[0;32m---> 11\u001b[0m         \u001b[38;5;28;01mreturn\u001b[39;00m \u001b[43mquery\u001b[49m\u001b[43m(\u001b[49m\u001b[43m)\u001b[49m\n\u001b[1;32m     13\u001b[0m     keys \u001b[38;5;241m=\u001b[39m e\u001b[38;5;241m.\u001b[39mkeys()\n\u001b[1;32m     15\u001b[0m     nodes \u001b[38;5;241m=\u001b[39m \u001b[38;5;124m'\u001b[39m\u001b[38;5;124m,\u001b[39m\u001b[38;5;124m'\u001b[39m\u001b[38;5;241m.\u001b[39mjoin([\u001b[38;5;124mf\u001b[39m\u001b[38;5;124m'\u001b[39m\u001b[38;5;124m\"\u001b[39m\u001b[38;5;132;01m{\u001b[39;00mk\u001b[38;5;132;01m}\u001b[39;00m\u001b[38;5;124m\"\u001b[39m\u001b[38;5;124m'\u001b[39m \u001b[38;5;28;01mfor\u001b[39;00m k \u001b[38;5;129;01min\u001b[39;00m keys])\n",
      "Cell \u001b[0;32mIn[4], line 2\u001b[0m, in \u001b[0;36mquery\u001b[0;34m(script)\u001b[0m\n\u001b[1;32m      1\u001b[0m \u001b[38;5;28;01mdef\u001b[39;00m \u001b[38;5;21mquery\u001b[39m(script\u001b[38;5;241m=\u001b[39m\u001b[38;5;124m'\u001b[39m\u001b[38;5;124mquerygrain(t, nodes=nodes(g))\u001b[39m\u001b[38;5;124m'\u001b[39m):\n\u001b[0;32m----> 2\u001b[0m     e \u001b[38;5;241m=\u001b[39m \u001b[43mrobjects\u001b[49m\u001b[38;5;241;43m.\u001b[39;49m\u001b[43mr\u001b[49m\u001b[43m(\u001b[49m\u001b[43mscript\u001b[49m\u001b[43m)\u001b[49m\n\u001b[1;32m      3\u001b[0m     _v \u001b[38;5;241m=\u001b[39m [(_v[\u001b[38;5;241m0\u001b[39m], [_i \u001b[38;5;28;01mfor\u001b[39;00m _i \u001b[38;5;129;01min\u001b[39;00m _v[\u001b[38;5;241m1\u001b[39m]]) \u001b[38;5;28;01mfor\u001b[39;00m _v \u001b[38;5;129;01min\u001b[39;00m v\u001b[38;5;241m.\u001b[39mitems()]\n\u001b[1;32m      4\u001b[0m     _p \u001b[38;5;241m=\u001b[39m [[_i \u001b[38;5;28;01mfor\u001b[39;00m _i \u001b[38;5;129;01min\u001b[39;00m _e] \u001b[38;5;28;01mfor\u001b[39;00m _e \u001b[38;5;129;01min\u001b[39;00m e]\n",
      "File \u001b[0;32m/opt/conda/lib/python3.10/site-packages/rpy2/robjects/__init__.py:459\u001b[0m, in \u001b[0;36mR.__call__\u001b[0;34m(self, string)\u001b[0m\n\u001b[1;32m    457\u001b[0m \u001b[38;5;28;01mdef\u001b[39;00m \u001b[38;5;21m__call__\u001b[39m(\u001b[38;5;28mself\u001b[39m, string):\n\u001b[1;32m    458\u001b[0m     p \u001b[38;5;241m=\u001b[39m rinterface\u001b[38;5;241m.\u001b[39mparse(string)\n\u001b[0;32m--> 459\u001b[0m     res \u001b[38;5;241m=\u001b[39m \u001b[38;5;28;43mself\u001b[39;49m\u001b[38;5;241;43m.\u001b[39;49m\u001b[43meval\u001b[49m\u001b[43m(\u001b[49m\u001b[43mp\u001b[49m\u001b[43m)\u001b[49m\n\u001b[1;32m    460\u001b[0m     \u001b[38;5;28;01mreturn\u001b[39;00m conversion\u001b[38;5;241m.\u001b[39mget_conversion()\u001b[38;5;241m.\u001b[39mrpy2py(res)\n",
      "File \u001b[0;32m/opt/conda/lib/python3.10/site-packages/rpy2/robjects/functions.py:208\u001b[0m, in \u001b[0;36mSignatureTranslatedFunction.__call__\u001b[0;34m(self, *args, **kwargs)\u001b[0m\n\u001b[1;32m    206\u001b[0m         v \u001b[38;5;241m=\u001b[39m kwargs\u001b[38;5;241m.\u001b[39mpop(k)\n\u001b[1;32m    207\u001b[0m         kwargs[r_k] \u001b[38;5;241m=\u001b[39m v\n\u001b[0;32m--> 208\u001b[0m \u001b[38;5;28;01mreturn\u001b[39;00m (\u001b[38;5;28;43msuper\u001b[39;49m\u001b[43m(\u001b[49m\u001b[43mSignatureTranslatedFunction\u001b[49m\u001b[43m,\u001b[49m\u001b[43m \u001b[49m\u001b[38;5;28;43mself\u001b[39;49m\u001b[43m)\u001b[49m\n\u001b[1;32m    209\u001b[0m \u001b[43m        \u001b[49m\u001b[38;5;241;43m.\u001b[39;49m\u001b[38;5;21;43m__call__\u001b[39;49m\u001b[43m(\u001b[49m\u001b[38;5;241;43m*\u001b[39;49m\u001b[43margs\u001b[49m\u001b[43m,\u001b[49m\u001b[43m \u001b[49m\u001b[38;5;241;43m*\u001b[39;49m\u001b[38;5;241;43m*\u001b[39;49m\u001b[43mkwargs\u001b[49m\u001b[43m)\u001b[49m)\n",
      "File \u001b[0;32m/opt/conda/lib/python3.10/site-packages/rpy2/robjects/functions.py:131\u001b[0m, in \u001b[0;36mFunction.__call__\u001b[0;34m(self, *args, **kwargs)\u001b[0m\n\u001b[1;32m    129\u001b[0m     \u001b[38;5;28;01melse\u001b[39;00m:\n\u001b[1;32m    130\u001b[0m         new_kwargs[k] \u001b[38;5;241m=\u001b[39m cv\u001b[38;5;241m.\u001b[39mpy2rpy(v)\n\u001b[0;32m--> 131\u001b[0m res \u001b[38;5;241m=\u001b[39m \u001b[38;5;28;43msuper\u001b[39;49m\u001b[43m(\u001b[49m\u001b[43mFunction\u001b[49m\u001b[43m,\u001b[49m\u001b[43m \u001b[49m\u001b[38;5;28;43mself\u001b[39;49m\u001b[43m)\u001b[49m\u001b[38;5;241;43m.\u001b[39;49m\u001b[38;5;21;43m__call__\u001b[39;49m\u001b[43m(\u001b[49m\u001b[38;5;241;43m*\u001b[39;49m\u001b[43mnew_args\u001b[49m\u001b[43m,\u001b[49m\u001b[43m \u001b[49m\u001b[38;5;241;43m*\u001b[39;49m\u001b[38;5;241;43m*\u001b[39;49m\u001b[43mnew_kwargs\u001b[49m\u001b[43m)\u001b[49m\n\u001b[1;32m    132\u001b[0m res \u001b[38;5;241m=\u001b[39m cv\u001b[38;5;241m.\u001b[39mrpy2py(res)\n\u001b[1;32m    133\u001b[0m \u001b[38;5;28;01mreturn\u001b[39;00m res\n",
      "File \u001b[0;32m/opt/conda/lib/python3.10/site-packages/rpy2/rinterface_lib/conversion.py:45\u001b[0m, in \u001b[0;36m_cdata_res_to_rinterface.<locals>._\u001b[0;34m(*args, **kwargs)\u001b[0m\n\u001b[1;32m     44\u001b[0m \u001b[38;5;28;01mdef\u001b[39;00m \u001b[38;5;21m_\u001b[39m(\u001b[38;5;241m*\u001b[39margs, \u001b[38;5;241m*\u001b[39m\u001b[38;5;241m*\u001b[39mkwargs):\n\u001b[0;32m---> 45\u001b[0m     cdata \u001b[38;5;241m=\u001b[39m \u001b[43mfunction\u001b[49m\u001b[43m(\u001b[49m\u001b[38;5;241;43m*\u001b[39;49m\u001b[43margs\u001b[49m\u001b[43m,\u001b[49m\u001b[43m \u001b[49m\u001b[38;5;241;43m*\u001b[39;49m\u001b[38;5;241;43m*\u001b[39;49m\u001b[43mkwargs\u001b[49m\u001b[43m)\u001b[49m\n\u001b[1;32m     46\u001b[0m     \u001b[38;5;66;03m# TODO: test cdata is of the expected CType\u001b[39;00m\n\u001b[1;32m     47\u001b[0m     \u001b[38;5;28;01mreturn\u001b[39;00m _cdata_to_rinterface(cdata)\n",
      "File \u001b[0;32m/opt/conda/lib/python3.10/site-packages/rpy2/rinterface.py:817\u001b[0m, in \u001b[0;36mSexpClosure.__call__\u001b[0;34m(self, *args, **kwargs)\u001b[0m\n\u001b[1;32m    810\u001b[0m     res \u001b[38;5;241m=\u001b[39m rmemory\u001b[38;5;241m.\u001b[39mprotect(\n\u001b[1;32m    811\u001b[0m         openrlib\u001b[38;5;241m.\u001b[39mrlib\u001b[38;5;241m.\u001b[39mR_tryEval(\n\u001b[1;32m    812\u001b[0m             call_r,\n\u001b[1;32m    813\u001b[0m             call_context\u001b[38;5;241m.\u001b[39m__sexp__\u001b[38;5;241m.\u001b[39m_cdata,\n\u001b[1;32m    814\u001b[0m             error_occured)\n\u001b[1;32m    815\u001b[0m     )\n\u001b[1;32m    816\u001b[0m     \u001b[38;5;28;01mif\u001b[39;00m error_occured[\u001b[38;5;241m0\u001b[39m]:\n\u001b[0;32m--> 817\u001b[0m         \u001b[38;5;28;01mraise\u001b[39;00m embedded\u001b[38;5;241m.\u001b[39mRRuntimeError(_rinterface\u001b[38;5;241m.\u001b[39m_geterrmessage())\n\u001b[1;32m    818\u001b[0m \u001b[38;5;28;01mreturn\u001b[39;00m res\n",
      "\u001b[0;31mRRuntimeError\u001b[0m: Error in (function (classes, fdef, mtable)  : \n  unable to find an inherited method for function ‘nodes’ for signature ‘\"bn\"’\n"
     ]
    }
   ],
   "source": [
    "get_posteriors()"
   ]
  },
  {
   "cell_type": "code",
   "execution_count": 13,
   "id": "92ee09b4-56c4-43d9-aa38-e5f8f9f14780",
   "metadata": {},
   "outputs": [],
   "source": [
    "get_posteriors({'A': 'on'})"
   ]
  },
  {
   "cell_type": "code",
   "execution_count": 14,
   "id": "00022251-61e5-464b-857e-416488665b6b",
   "metadata": {},
   "outputs": [],
   "source": [
    "get_posteriors({'A': 'on', 'B': 'on'})"
   ]
  },
  {
   "cell_type": "code",
   "execution_count": null,
   "id": "ecb07b3a-a480-4e3e-bf89-14e153e9294f",
   "metadata": {},
   "outputs": [],
   "source": []
  }
 ],
 "metadata": {
  "environment": {
   "kernel": "python3",
   "name": "common-cpu.m111",
   "type": "gcloud",
   "uri": "gcr.io/deeplearning-platform-release/base-cpu:m111"
  },
  "kernelspec": {
   "display_name": "Python 3",
   "language": "python",
   "name": "python3"
  },
  "language_info": {
   "codemirror_mode": {
    "name": "ipython",
    "version": 3
   },
   "file_extension": ".py",
   "mimetype": "text/x-python",
   "name": "python",
   "nbconvert_exporter": "python",
   "pygments_lexer": "ipython3",
   "version": "3.10.12"
  },
  "widgets": {
   "application/vnd.jupyter.widget-state+json": {
    "state": {},
    "version_major": 2,
    "version_minor": 0
   }
  }
 },
 "nbformat": 4,
 "nbformat_minor": 5
}
