{
 "cells": [
  {
   "cell_type": "code",
   "execution_count": 1,
   "id": "8ee8e4e2-386b-487c-aa51-4103621cec08",
   "metadata": {},
   "outputs": [
    {
     "name": "stdout",
     "output_type": "stream",
     "text": [
      "3.5.11\n"
     ]
    }
   ],
   "source": [
    "import rpy2\n",
    "import rpy2.robjects as robjects\n",
    "\n",
    "print(rpy2.__version__)"
   ]
  },
  {
   "cell_type": "code",
   "execution_count": 2,
   "id": "0cd8a78c-957e-4ab8-af88-97d529087b5e",
   "metadata": {},
   "outputs": [
    {
     "name": "stderr",
     "output_type": "stream",
     "text": [
      "R[write to console]: Loading required package: gRbase\n",
      "\n",
      "R[write to console]: \n",
      "Attaching package: ‘gRbase’\n",
      "\n",
      "\n",
      "R[write to console]: The following objects are masked from ‘package:bnlearn’:\n",
      "\n",
      "    ancestors, children, nodes, parents\n",
      "\n",
      "\n"
     ]
    }
   ],
   "source": [
    "script = '''\n",
    "library(bnlearn)\n",
    "library(gRain)\n",
    "'''\n",
    "\n",
    "_ = robjects.r(script)"
   ]
  },
  {
   "cell_type": "code",
   "execution_count": 3,
   "id": "353f3967-6011-41fa-b8c3-1bf96a3092b8",
   "metadata": {},
   "outputs": [],
   "source": [
    "v = robjects.r(\"v <- readRDS('./rds/huang-v.rds')\")\n",
    "p = robjects.r(\"p <- readRDS('./rds/huang-p.rds')\")\n",
    "g = robjects.r(\"g <- readRDS('./rds/huang-g.rds')\")\n",
    "b = robjects.r(\"b <- readRDS('./rds/huang-b.rds')\")\n",
    "t = robjects.r(\"t <- readRDS('./rds/huang-t.rds')\")"
   ]
  },
  {
   "cell_type": "code",
   "execution_count": 4,
   "id": "e95936d6-bad1-45e4-b3c8-76be19fd58ef",
   "metadata": {},
   "outputs": [
    {
     "data": {
      "text/plain": [
       "{'A': ['on', 'off'],\n",
       " 'B': ['on', 'off'],\n",
       " 'C': ['on', 'off'],\n",
       " 'D': ['on', 'off'],\n",
       " 'E': ['on', 'off'],\n",
       " 'F': ['on', 'off'],\n",
       " 'G': ['on', 'off'],\n",
       " 'H': ['on', 'off']}"
      ]
     },
     "execution_count": 4,
     "metadata": {},
     "output_type": "execute_result"
    }
   ],
   "source": [
    "n2v = {_item[0]: [_i for _i in _item[1]] for _item in v.items()}\n",
    "n2v"
   ]
  },
  {
   "cell_type": "code",
   "execution_count": 5,
   "id": "e865cf90-925e-43c9-9408-c4e696feafea",
   "metadata": {},
   "outputs": [],
   "source": [
    "def query(script='querygrain(t, nodes=nodes(g))'):\n",
    "    print(f'{script=}')\n",
    "    e = robjects.r(script)\n",
    "    _n = [_n for _n in e.names]\n",
    "    _p = [[_i for _i in _e] for _e in e]\n",
    "    \n",
    "    return {name: {_val: _prob for _val, _prob in zip(n2v[name], probs)} \n",
    "            for name, probs in zip(_n, _p)}\n",
    "\n",
    "def get_posteriors(e=None):\n",
    "    if e is None or len(e) == 0:\n",
    "        return query()\n",
    "    \n",
    "    keys = e.keys()\n",
    "    \n",
    "    nodes = ','.join([f'\"{k}\"' for k in keys])\n",
    "    nodes = f'c({nodes})'\n",
    "    \n",
    "    states = ','.join([f'\"{e[k]}\"' for k in keys])\n",
    "    states = f'c({states})'\n",
    "    \n",
    "    q = f'querygrain(setEvidence(t, nodes={nodes}, states={states}), nodes=nodes(g))'\n",
    "    q = query(q)\n",
    "    \n",
    "    p = {_n: {_val: 1.0 if _val == _v else 0.0 for _val in n2v[_n]} \n",
    "         for _n, _v in e.items()}\n",
    "    \n",
    "    return {**p, **q}"
   ]
  },
  {
   "cell_type": "code",
   "execution_count": 6,
   "id": "6fa22ced-0242-4d24-ba6c-b8009f6f82b4",
   "metadata": {},
   "outputs": [
    {
     "name": "stdout",
     "output_type": "stream",
     "text": [
      "script='querygrain(t, nodes=nodes(g))'\n"
     ]
    },
    {
     "data": {
      "text/plain": [
       "{'A': {'on': 0.5, 'off': 0.5},\n",
       " 'B': {'on': 0.45000000000000007, 'off': 0.55},\n",
       " 'C': {'on': 0.4499999999999999, 'off': 0.55},\n",
       " 'D': {'on': 0.6799999999999999, 'off': 0.32},\n",
       " 'E': {'on': 0.4650000000000001, 'off': 0.535},\n",
       " 'F': {'on': 0.17630600000000002, 'off': 0.823694},\n",
       " 'G': {'on': 0.415, 'off': 0.5850000000000001},\n",
       " 'H': {'on': 0.8231, 'off': 0.17689999999999997}}"
      ]
     },
     "execution_count": 6,
     "metadata": {},
     "output_type": "execute_result"
    }
   ],
   "source": [
    "get_posteriors()"
   ]
  },
  {
   "cell_type": "code",
   "execution_count": 7,
   "id": "92ee09b4-56c4-43d9-aa38-e5f8f9f14780",
   "metadata": {},
   "outputs": [
    {
     "name": "stdout",
     "output_type": "stream",
     "text": [
      "script='querygrain(setEvidence(t, nodes=c(\"A\"), states=c(\"on\")), nodes=nodes(g))'\n"
     ]
    },
    {
     "data": {
      "text/plain": [
       "{'A': {'on': 1.0, 'off': 0.0},\n",
       " 'B': {'on': 0.5, 'off': 0.5},\n",
       " 'C': {'on': 0.7000000000000001, 'off': 0.30000000000000004},\n",
       " 'D': {'on': 0.7, 'off': 0.3},\n",
       " 'E': {'on': 0.39, 'off': 0.61},\n",
       " 'F': {'on': 0.18934, 'off': 0.8106599999999999},\n",
       " 'G': {'on': 0.59, 'off': 0.41},\n",
       " 'H': {'on': 0.7826, 'off': 0.2174}}"
      ]
     },
     "execution_count": 7,
     "metadata": {},
     "output_type": "execute_result"
    }
   ],
   "source": [
    "get_posteriors({'A': 'on'})"
   ]
  },
  {
   "cell_type": "code",
   "execution_count": 8,
   "id": "00022251-61e5-464b-857e-416488665b6b",
   "metadata": {},
   "outputs": [
    {
     "name": "stdout",
     "output_type": "stream",
     "text": [
      "script='querygrain(setEvidence(t, nodes=c(\"A\",\"B\"), states=c(\"on\",\"on\")), nodes=nodes(g))'\n"
     ]
    },
    {
     "data": {
      "text/plain": [
       "{'A': {'on': 1.0, 'off': 0.0},\n",
       " 'B': {'on': 1.0, 'off': 0.0},\n",
       " 'C': {'on': 0.7, 'off': 0.30000000000000004},\n",
       " 'D': {'on': 0.9, 'off': 0.1},\n",
       " 'E': {'on': 0.39, 'off': 0.61},\n",
       " 'F': {'on': 0.06978000000000001, 'off': 0.93022},\n",
       " 'G': {'on': 0.59, 'off': 0.41},\n",
       " 'H': {'on': 0.7826, 'off': 0.2174}}"
      ]
     },
     "execution_count": 8,
     "metadata": {},
     "output_type": "execute_result"
    }
   ],
   "source": [
    "get_posteriors({'A': 'on', 'B': 'on'})"
   ]
  },
  {
   "cell_type": "code",
   "execution_count": 9,
   "id": "ecb07b3a-a480-4e3e-bf89-14e153e9294f",
   "metadata": {},
   "outputs": [
    {
     "name": "stdout",
     "output_type": "stream",
     "text": [
      "script='querygrain(setEvidence(t, nodes=c(\"A\",\"B\"), states=c(\"on\",\"off\")), nodes=nodes(g))'\n"
     ]
    },
    {
     "data": {
      "text/plain": [
       "{'A': {'on': 1.0, 'off': 0.0},\n",
       " 'B': {'on': 0.0, 'off': 1.0},\n",
       " 'C': {'on': 0.7, 'off': 0.3},\n",
       " 'D': {'on': 0.5, 'off': 0.5},\n",
       " 'E': {'on': 0.39000000000000007, 'off': 0.61},\n",
       " 'F': {'on': 0.3089, 'off': 0.6911},\n",
       " 'G': {'on': 0.5900000000000001, 'off': 0.41},\n",
       " 'H': {'on': 0.7826, 'off': 0.2174}}"
      ]
     },
     "execution_count": 9,
     "metadata": {},
     "output_type": "execute_result"
    }
   ],
   "source": [
    "get_posteriors({'A': 'on', 'B': 'off'})"
   ]
  },
  {
   "cell_type": "code",
   "execution_count": null,
   "id": "dadf3589-1fbb-482f-88a8-b80175198846",
   "metadata": {},
   "outputs": [],
   "source": []
  }
 ],
 "metadata": {
  "environment": {
   "kernel": "python3",
   "name": "common-cpu.m111",
   "type": "gcloud",
   "uri": "gcr.io/deeplearning-platform-release/base-cpu:m111"
  },
  "kernelspec": {
   "display_name": "Python 3",
   "language": "python",
   "name": "python3"
  },
  "language_info": {
   "codemirror_mode": {
    "name": "ipython",
    "version": 3
   },
   "file_extension": ".py",
   "mimetype": "text/x-python",
   "name": "python",
   "nbconvert_exporter": "python",
   "pygments_lexer": "ipython3",
   "version": "3.10.12"
  },
  "widgets": {
   "application/vnd.jupyter.widget-state+json": {
    "state": {},
    "version_major": 2,
    "version_minor": 0
   }
  }
 },
 "nbformat": 4,
 "nbformat_minor": 5
}
