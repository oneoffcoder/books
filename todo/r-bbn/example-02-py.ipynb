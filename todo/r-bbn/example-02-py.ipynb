{
 "cells": [
  {
   "cell_type": "code",
   "execution_count": 1,
   "id": "f4295115-f64f-408c-a34b-d821a7a7fe0d",
   "metadata": {},
   "outputs": [],
   "source": [
    "from darkstar.inference import from_bbn_json\n",
    "\n",
    "m = from_bbn_json('./data/huang-bbn.json')"
   ]
  },
  {
   "cell_type": "code",
   "execution_count": 2,
   "id": "f2c9fa03-0d18-4828-b635-1f53a87f42ac",
   "metadata": {},
   "outputs": [
    {
     "data": {
      "text/plain": [
       "[[{'A': 'off', '__p__': '0.50000'}, {'A': 'on', '__p__': '0.50000'}],\n",
       " [{'B': 'off', '__p__': '0.55000'}, {'B': 'on', '__p__': '0.45000'}],\n",
       " [{'C': 'off', '__p__': '0.55000'}, {'C': 'on', '__p__': '0.45000'}],\n",
       " [{'D': 'off', '__p__': '0.32000'}, {'D': 'on', '__p__': '0.68000'}],\n",
       " [{'E': 'off', '__p__': '0.53500'}, {'E': 'on', '__p__': '0.46500'}],\n",
       " [{'F': 'off', '__p__': '0.82369'}, {'F': 'on', '__p__': '0.17631'}],\n",
       " [{'G': 'off', '__p__': '0.58500'}, {'G': 'on', '__p__': '0.41500'}],\n",
       " [{'H': 'off', '__p__': '0.17690'}, {'H': 'on', '__p__': '0.82310'}]]"
      ]
     },
     "execution_count": 2,
     "metadata": {},
     "output_type": "execute_result"
    }
   ],
   "source": [
    "[m.get_posterior_by_name(n) for n in m.get_node_names()]"
   ]
  },
  {
   "cell_type": "code",
   "execution_count": 3,
   "id": "d700ba7b-e09e-4ad5-8e4d-761668f0b548",
   "metadata": {},
   "outputs": [
    {
     "data": {
      "text/plain": [
       "[[{'A': 'off', '__p__': '0.00000'}, {'A': 'on', '__p__': '1.00000'}],\n",
       " [{'B': 'off', '__p__': '0.50000'}, {'B': 'on', '__p__': '0.50000'}],\n",
       " [{'C': 'off', '__p__': '0.30000'}, {'C': 'on', '__p__': '0.70000'}],\n",
       " [{'D': 'off', '__p__': '0.30000'}, {'D': 'on', '__p__': '0.70000'}],\n",
       " [{'E': 'off', '__p__': '0.61000'}, {'E': 'on', '__p__': '0.39000'}],\n",
       " [{'F': 'off', '__p__': '0.81066'}, {'F': 'on', '__p__': '0.18934'}],\n",
       " [{'G': 'off', '__p__': '0.41000'}, {'G': 'on', '__p__': '0.59000'}],\n",
       " [{'H': 'off', '__p__': '0.21740'}, {'H': 'on', '__p__': '0.78260'}]]"
      ]
     },
     "execution_count": 3,
     "metadata": {},
     "output_type": "execute_result"
    }
   ],
   "source": [
    "m.assert_evidences_by_name({'A': {'off': 0.0, 'on': 1.0}})\n",
    "[m.get_posterior_by_name(n) for n in m.get_node_names()]"
   ]
  },
  {
   "cell_type": "code",
   "execution_count": 4,
   "id": "40a27359-f435-4ccf-8745-a3264c7844da",
   "metadata": {},
   "outputs": [
    {
     "data": {
      "text/plain": [
       "[[{'A': 'off', '__p__': '0.52460'}, {'A': 'on', '__p__': '0.47540'}],\n",
       " [{'B': 'off', '__p__': '0.55246'}, {'B': 'on', '__p__': '0.44754'}],\n",
       " [{'C': 'off', '__p__': '0.59871'}, {'C': 'on', '__p__': '0.40129'}],\n",
       " [{'D': 'off', '__p__': '0.32098'}, {'D': 'on', '__p__': '0.67902'}],\n",
       " [{'E': 'off', '__p__': '0.61748'}, {'E': 'on', '__p__': '0.38252'}],\n",
       " [{'F': 'off', '__p__': '0.79805'}, {'F': 'on', '__p__': '0.20195'}],\n",
       " [{'G': 'off', '__p__': '0.67519'}, {'G': 'on', '__p__': '0.32481'}],\n",
       " [{'H': 'off', '__p__': '0.00000'}, {'H': 'on', '__p__': '1.00000'}]]"
      ]
     },
     "execution_count": 4,
     "metadata": {},
     "output_type": "execute_result"
    }
   ],
   "source": [
    "m.assert_evidences_by_name({'H': {'off': 0.0, 'on': 1.0}})\n",
    "[m.get_posterior_by_name(n) for n in m.get_node_names()]"
   ]
  },
  {
   "cell_type": "code",
   "execution_count": null,
   "id": "feee6a1e-33e5-4919-a088-cbc4fbab10bd",
   "metadata": {},
   "outputs": [],
   "source": []
  }
 ],
 "metadata": {
  "kernelspec": {
   "display_name": "Python 3 (ipykernel)",
   "language": "python",
   "name": "python3"
  },
  "language_info": {
   "codemirror_mode": {
    "name": "ipython",
    "version": 3
   },
   "file_extension": ".py",
   "mimetype": "text/x-python",
   "name": "python",
   "nbconvert_exporter": "python",
   "pygments_lexer": "ipython3",
   "version": "3.9.16"
  },
  "widgets": {
   "application/vnd.jupyter.widget-state+json": {
    "state": {},
    "version_major": 2,
    "version_minor": 0
   }
  }
 },
 "nbformat": 4,
 "nbformat_minor": 5
}
