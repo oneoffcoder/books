{
 "cells": [
  {
   "cell_type": "code",
   "execution_count": 1,
   "id": "f4295115-f64f-408c-a34b-d821a7a7fe0d",
   "metadata": {},
   "outputs": [
    {
     "name": "stdout",
     "output_type": "stream",
     "text": [
      "moralize: 0.00002s\n",
      "candidates | t=11: 0.00007s\n",
      "candidates | t=9: 0.00005s\n",
      "candidates | t=7: 0.00003s\n",
      "candidates | t=5: 0.00002s\n",
      "candidates | t=4: 0.00002s\n",
      "candidates | t=3: 0.00001s\n",
      "candidates | t=1: 0.00001s\n",
      "triangulate: 0.00027s\n",
      "get_tree: 0.00005s\n",
      "initializing:  0.00031s\n"
     ]
    }
   ],
   "source": [
    "from darkstar.inference import from_bbn_json\n",
    "\n",
    "m = from_bbn_json('./data/huang-bbn.json')"
   ]
  },
  {
   "cell_type": "code",
   "execution_count": 2,
   "id": "f2c9fa03-0d18-4828-b635-1f53a87f42ac",
   "metadata": {},
   "outputs": [
    {
     "data": {
      "text/plain": [
       "[[{'A': 'off', 'p': '0.50000'}, {'A': 'on', 'p': '0.50000'}],\n",
       " [{'B': 'off', 'p': '0.55000'}, {'B': 'on', 'p': '0.45000'}],\n",
       " [{'C': 'off', 'p': '0.55000'}, {'C': 'on', 'p': '0.45000'}],\n",
       " [{'D': 'off', 'p': '0.32000'}, {'D': 'on', 'p': '0.68000'}],\n",
       " [{'E': 'off', 'p': '0.53500'}, {'E': 'on', 'p': '0.46500'}],\n",
       " [{'F': 'off', 'p': '0.82369'}, {'F': 'on', 'p': '0.17631'}],\n",
       " [{'G': 'off', 'p': '0.58500'}, {'G': 'on', 'p': '0.41500'}],\n",
       " [{'H': 'off', 'p': '0.17690'}, {'H': 'on', 'p': '0.82310'}]]"
      ]
     },
     "execution_count": 2,
     "metadata": {},
     "output_type": "execute_result"
    }
   ],
   "source": [
    "[m.get_posterior_by_name(n) for n in m.get_node_names()]"
   ]
  },
  {
   "cell_type": "code",
   "execution_count": 3,
   "id": "d700ba7b-e09e-4ad5-8e4d-761668f0b548",
   "metadata": {},
   "outputs": [
    {
     "data": {
      "text/plain": [
       "[[{'A': 'off', 'p': '0.00000'}, {'A': 'on', 'p': '1.00000'}],\n",
       " [{'B': 'off', 'p': '0.50000'}, {'B': 'on', 'p': '0.50000'}],\n",
       " [{'C': 'off', 'p': '0.30000'}, {'C': 'on', 'p': '0.70000'}],\n",
       " [{'D': 'off', 'p': '0.30000'}, {'D': 'on', 'p': '0.70000'}],\n",
       " [{'E': 'off', 'p': '0.61000'}, {'E': 'on', 'p': '0.39000'}],\n",
       " [{'F': 'off', 'p': '0.81066'}, {'F': 'on', 'p': '0.18934'}],\n",
       " [{'G': 'off', 'p': '0.41000'}, {'G': 'on', 'p': '0.59000'}],\n",
       " [{'H': 'off', 'p': '0.21740'}, {'H': 'on', 'p': '0.78260'}]]"
      ]
     },
     "execution_count": 3,
     "metadata": {},
     "output_type": "execute_result"
    }
   ],
   "source": [
    "m.assert_evidences_by_name({'A': {'off': 0.0, 'on': 1.0}})\n",
    "[m.get_posterior_by_name(n) for n in m.get_node_names()]"
   ]
  },
  {
   "cell_type": "code",
   "execution_count": 4,
   "id": "40a27359-f435-4ccf-8745-a3264c7844da",
   "metadata": {},
   "outputs": [
    {
     "data": {
      "text/plain": [
       "[[{'A': 'off', 'p': '0.52460'}, {'A': 'on', 'p': '0.47540'}],\n",
       " [{'B': 'off', 'p': '0.55246'}, {'B': 'on', 'p': '0.44754'}],\n",
       " [{'C': 'off', 'p': '0.59871'}, {'C': 'on', 'p': '0.40129'}],\n",
       " [{'D': 'off', 'p': '0.32098'}, {'D': 'on', 'p': '0.67902'}],\n",
       " [{'E': 'off', 'p': '0.61748'}, {'E': 'on', 'p': '0.38252'}],\n",
       " [{'F': 'off', 'p': '0.79805'}, {'F': 'on', 'p': '0.20195'}],\n",
       " [{'G': 'off', 'p': '0.67519'}, {'G': 'on', 'p': '0.32481'}],\n",
       " [{'H': 'off', 'p': '0.00000'}, {'H': 'on', 'p': '1.00000'}]]"
      ]
     },
     "execution_count": 4,
     "metadata": {},
     "output_type": "execute_result"
    }
   ],
   "source": [
    "m.assert_evidences_by_name({'H': {'off': 0.0, 'on': 1.0}})\n",
    "[m.get_posterior_by_name(n) for n in m.get_node_names()]"
   ]
  },
  {
   "cell_type": "code",
   "execution_count": null,
   "id": "feee6a1e-33e5-4919-a088-cbc4fbab10bd",
   "metadata": {},
   "outputs": [],
   "source": []
  }
 ],
 "metadata": {
  "kernelspec": {
   "display_name": "Python 3 (ipykernel)",
   "language": "python",
   "name": "python3"
  },
  "language_info": {
   "codemirror_mode": {
    "name": "ipython",
    "version": 3
   },
   "file_extension": ".py",
   "mimetype": "text/x-python",
   "name": "python",
   "nbconvert_exporter": "python",
   "pygments_lexer": "ipython3",
   "version": "3.9.16"
  },
  "widgets": {
   "application/vnd.jupyter.widget-state+json": {
    "state": {},
    "version_major": 2,
    "version_minor": 0
   }
  }
 },
 "nbformat": 4,
 "nbformat_minor": 5
}
