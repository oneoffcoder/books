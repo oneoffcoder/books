{
 "cells": [
  {
   "cell_type": "code",
   "execution_count": 1,
   "id": "260b0d6c-dacd-4129-93c5-663080fe65d8",
   "metadata": {},
   "outputs": [],
   "source": [
    "from darkstar.inference import from_bbn_json\n",
    "\n",
    "m = from_bbn_json('./data/covid-bbn.json')"
   ]
  },
  {
   "cell_type": "code",
   "execution_count": 2,
   "id": "2614a2df-d72a-4c91-8c42-8667acf6825e",
   "metadata": {},
   "outputs": [
    {
     "data": {
      "text/plain": [
       "[[{'AbdominalPain': 'No', '__p__': '0.85900'},\n",
       "  {'AbdominalPain': 'Yes', '__p__': '0.14100'}],\n",
       " [{'Age30orMore': '18_to_29', '__p__': '0.37090'},\n",
       "  {'Age30orMore': '30+', '__p__': '0.62910'}],\n",
       " [{'Chestpain': 'No', '__p__': '0.81120'},\n",
       "  {'Chestpain': 'Yes', '__p__': '0.18880'}],\n",
       " [{'Chills': 'No', '__p__': '0.80260'}, {'Chills': 'Yes', '__p__': '0.19740'}],\n",
       " [{'Cough': 'No', '__p__': '0.42500'}, {'Cough': 'Yes', '__p__': '0.57500'}],\n",
       " [{'Diarrhea': 'No', '__p__': '0.72450'},\n",
       "  {'Diarrhea': 'Yes', '__p__': '0.27550'}],\n",
       " [{'Difficultybreathing': 'No', '__p__': '0.78520'},\n",
       "  {'Difficultybreathing': 'Yes', '__p__': '0.21480'}],\n",
       " [{'ExcessSweat': 'No', '__p__': '0.93270'},\n",
       "  {'ExcessSweat': 'Yes', '__p__': '0.06730'}],\n",
       " [{'Fatigue': 'No', '__p__': '0.61820'},\n",
       "  {'Fatigue': 'Yes', '__p__': '0.38180'}],\n",
       " [{'Fever': 'No', '__p__': '0.37644'}, {'Fever': 'Yes', '__p__': '0.62356'}],\n",
       " [{'GenderFemale': 'No', '__p__': '0.42080'},\n",
       "  {'GenderFemale': 'Yes', '__p__': '0.57920'}],\n",
       " [{'Headaches': 'No', '__p__': '0.55300'},\n",
       "  {'Headaches': 'Yes', '__p__': '0.44700'}],\n",
       " [{'LossAppetite': 'No', '__p__': '0.76788'},\n",
       "  {'LossAppetite': 'Yes', '__p__': '0.23212'}],\n",
       " [{'LossSmell': 'No', '__p__': '0.91972'},\n",
       "  {'LossSmell': 'Yes', '__p__': '0.08028'}],\n",
       " [{'LossTaste': 'No', '__p__': '0.80400'},\n",
       "  {'LossTaste': 'Yes', '__p__': '0.19600'}],\n",
       " [{'MuscleAches': 'No', '__p__': '0.64640'},\n",
       "  {'MuscleAches': 'Yes', '__p__': '0.35360'}],\n",
       " [{'Runnynose': 'No', '__p__': '0.41640'},\n",
       "  {'Runnynose': 'Yes', '__p__': '0.58360'}],\n",
       " [{'Sorethroat': 'No', '__p__': '0.61821'},\n",
       "  {'Sorethroat': 'Yes', '__p__': '0.38179'}],\n",
       " [{'TestPositive': 'Negative', '__p__': '0.68016'},\n",
       "  {'TestPositive': 'Positive', '__p__': '0.31984'}],\n",
       " [{'Wheezing': 'No', '__p__': '0.77438'},\n",
       "  {'Wheezing': 'Yes', '__p__': '0.22562'}]]"
      ]
     },
     "execution_count": 2,
     "metadata": {},
     "output_type": "execute_result"
    }
   ],
   "source": [
    "[m.get_posterior_by_name(n) for n in m.get_node_names()]"
   ]
  },
  {
   "cell_type": "code",
   "execution_count": 3,
   "id": "6bdfdfbd-cb0a-40df-ae6c-4b6a8d3a585b",
   "metadata": {},
   "outputs": [
    {
     "data": {
      "text/plain": [
       "[[{'AbdominalPain': 'No', '__p__': '0.85890'},\n",
       "  {'AbdominalPain': 'Yes', '__p__': '0.14110'}],\n",
       " [{'Age30orMore': '18_to_29', '__p__': '0.38646'},\n",
       "  {'Age30orMore': '30+', '__p__': '0.61354'}],\n",
       " [{'Chestpain': 'No', '__p__': '0.72940'},\n",
       "  {'Chestpain': 'Yes', '__p__': '0.27060'}],\n",
       " [{'Chills': 'No', '__p__': '0.75310'}, {'Chills': 'Yes', '__p__': '0.24690'}],\n",
       " [{'Cough': 'No', '__p__': '0.40438'}, {'Cough': 'Yes', '__p__': '0.59562'}],\n",
       " [{'Diarrhea': 'No', '__p__': '0.72208'},\n",
       "  {'Diarrhea': 'Yes', '__p__': '0.27792'}],\n",
       " [{'Difficultybreathing': 'No', '__p__': '0.77842'},\n",
       "  {'Difficultybreathing': 'Yes', '__p__': '0.22158'}],\n",
       " [{'ExcessSweat': 'No', '__p__': '0.92345'},\n",
       "  {'ExcessSweat': 'Yes', '__p__': '0.07655'}],\n",
       " [{'Fatigue': 'No', '__p__': '0.62831'},\n",
       "  {'Fatigue': 'Yes', '__p__': '0.37169'}],\n",
       " [{'Fever': 'No', '__p__': '0.36631'}, {'Fever': 'Yes', '__p__': '0.63369'}],\n",
       " [{'GenderFemale': 'No', '__p__': '0.41861'},\n",
       "  {'GenderFemale': 'Yes', '__p__': '0.58139'}],\n",
       " [{'Headaches': 'No', '__p__': '0.44815'},\n",
       "  {'Headaches': 'Yes', '__p__': '0.55185'}],\n",
       " [{'LossAppetite': 'No', '__p__': '0.74523'},\n",
       "  {'LossAppetite': 'Yes', '__p__': '0.25477'}],\n",
       " [{'LossSmell': 'No', '__p__': '0.88962'},\n",
       "  {'LossSmell': 'Yes', '__p__': '0.11038'}],\n",
       " [{'LossTaste': 'No', '__p__': '0.78204'},\n",
       "  {'LossTaste': 'Yes', '__p__': '0.21796'}],\n",
       " [{'MuscleAches': 'No', '__p__': '0.63885'},\n",
       "  {'MuscleAches': 'Yes', '__p__': '0.36115'}],\n",
       " [{'Runnynose': 'No', '__p__': '0.41402'},\n",
       "  {'Runnynose': 'Yes', '__p__': '0.58598'}],\n",
       " [{'Sorethroat': 'No', '__p__': '0.61442'},\n",
       "  {'Sorethroat': 'Yes', '__p__': '0.38558'}],\n",
       " [{'TestPositive': 'Negative', '__p__': '0.00000'},\n",
       "  {'TestPositive': 'Positive', '__p__': '1.00000'}],\n",
       " [{'Wheezing': 'No', '__p__': '0.76627'},\n",
       "  {'Wheezing': 'Yes', '__p__': '0.23373'}]]"
      ]
     },
     "execution_count": 3,
     "metadata": {},
     "output_type": "execute_result"
    }
   ],
   "source": [
    "m.assert_evidences_by_name({'TestPositive': {'Negative': 0.0, 'Positive': 1.0}})\n",
    "[m.get_posterior_by_name(n) for n in m.get_node_names()]"
   ]
  },
  {
   "cell_type": "code",
   "execution_count": null,
   "id": "d82c9e47-47ab-4077-923b-5b612a5115f7",
   "metadata": {},
   "outputs": [],
   "source": []
  }
 ],
 "metadata": {
  "kernelspec": {
   "display_name": "Python 3 (ipykernel)",
   "language": "python",
   "name": "python3"
  },
  "language_info": {
   "codemirror_mode": {
    "name": "ipython",
    "version": 3
   },
   "file_extension": ".py",
   "mimetype": "text/x-python",
   "name": "python",
   "nbconvert_exporter": "python",
   "pygments_lexer": "ipython3",
   "version": "3.9.16"
  },
  "widgets": {
   "application/vnd.jupyter.widget-state+json": {
    "state": {},
    "version_major": 2,
    "version_minor": 0
   }
  }
 },
 "nbformat": 4,
 "nbformat_minor": 5
}
