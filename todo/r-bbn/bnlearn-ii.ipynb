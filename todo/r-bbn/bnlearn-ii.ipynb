{
 "cells": [
  {
   "cell_type": "code",
   "execution_count": 1,
   "id": "42f4d922-d5a3-4847-8eb5-4a82f85e473f",
   "metadata": {
    "tags": []
   },
   "outputs": [
    {
     "name": "stderr",
     "output_type": "stream",
     "text": [
      "Loading required package: gRbase\n",
      "\n",
      "\n",
      "Attaching package: ‘gRbase’\n",
      "\n",
      "\n",
      "The following objects are masked from ‘package:bnlearn’:\n",
      "\n",
      "    ancestors, children, nodes, parents\n",
      "\n",
      "\n"
     ]
    }
   ],
   "source": [
    "library(bnlearn)\n",
    "library(gRain)"
   ]
  },
  {
   "cell_type": "code",
   "execution_count": 2,
   "id": "b7245982-2c2a-4821-92a0-809adc6a536c",
   "metadata": {
    "tags": []
   },
   "outputs": [],
   "source": [
    "g <- empty.graph(nodes=c('X', 'Y', 'Z'))\n",
    "g <- set.arc(g, from='X', to='Y')\n",
    "g <- set.arc(g, from='Z', to='Y')"
   ]
  },
  {
   "cell_type": "code",
   "execution_count": 3,
   "id": "fe7916c2-456f-4bee-bdad-d9d48d2ef162",
   "metadata": {
    "tags": []
   },
   "outputs": [],
   "source": [
    "X.lv <- c('off', 'on')\n",
    "Y.lv <- c('off', 'on')\n",
    "Z.lv <- c('off', 'on')"
   ]
  },
  {
   "cell_type": "code",
   "execution_count": 4,
   "id": "3e41c717-0372-46a1-a22c-a48f1b6a5a3d",
   "metadata": {
    "tags": []
   },
   "outputs": [],
   "source": [
    "X.prob <- array(c(0.8, 0.2), dim=2, dimnames=list(X=X.lv))\n",
    "Y.prob <- array(c(0.8, 0.2, 0.2, 0.8, 0.8, 0.2, 0.2, 0.8), dim=c(2, 2, 2), dimnames=list(Y=Y.lv, X=X.lv, Z=Z.lv))\n",
    "Z.prob <- array(c(0.8, 0.2), dim=2, dimnames=list(Z=Z.lv))"
   ]
  },
  {
   "cell_type": "code",
   "execution_count": 5,
   "id": "f5480f5f-e664-4216-badc-195fd10ce1f3",
   "metadata": {},
   "outputs": [],
   "source": [
    "p <- list(X=X.prob, Y=Y.prob, Z=Z.prob)"
   ]
  },
  {
   "cell_type": "code",
   "execution_count": 6,
   "id": "eea627d5-8dea-4e14-a202-b888de48acd2",
   "metadata": {},
   "outputs": [],
   "source": [
    "b <- custom.fit(g, p)"
   ]
  },
  {
   "cell_type": "code",
   "execution_count": 7,
   "id": "73401601-e2e9-4dd5-9dc1-8152ad5cf67e",
   "metadata": {},
   "outputs": [
    {
     "name": "stderr",
     "output_type": "stream",
     "text": [
      "Warning message:\n",
      "“Any reference to graphNEL objects will be removed in future versions of gRbase\n",
      "Please use igraphs instead\n",
      "”\n",
      "Warning message:\n",
      "“Any reference to graphNEL objects will be removed in future versions of gRbase\n",
      "Please use igraphs instead\n",
      "”\n"
     ]
    }
   ],
   "source": [
    "t <- compile(as.grain(b))"
   ]
  },
  {
   "cell_type": "code",
   "execution_count": 8,
   "id": "93b2bc43-f693-4b43-847e-171d58f4ae1f",
   "metadata": {},
   "outputs": [
    {
     "data": {
      "text/html": [
       "<dl>\n",
       "\t<dt>$X</dt>\n",
       "\t\t<dd><style>\n",
       ".dl-inline {width: auto; margin:0; padding: 0}\n",
       ".dl-inline>dt, .dl-inline>dd {float: none; width: auto; display: inline-block}\n",
       ".dl-inline>dt::after {content: \":\\0020\"; padding-right: .5ex}\n",
       ".dl-inline>dt:not(:first-of-type) {padding-left: .5ex}\n",
       "</style><dl class=dl-inline><dt>off</dt><dd>0.8</dd><dt>on</dt><dd>0.2</dd></dl>\n",
       "</dd>\n",
       "\t<dt>$Y</dt>\n",
       "\t\t<dd><style>\n",
       ".dl-inline {width: auto; margin:0; padding: 0}\n",
       ".dl-inline>dt, .dl-inline>dd {float: none; width: auto; display: inline-block}\n",
       ".dl-inline>dt::after {content: \":\\0020\"; padding-right: .5ex}\n",
       ".dl-inline>dt:not(:first-of-type) {padding-left: .5ex}\n",
       "</style><dl class=dl-inline><dt>off</dt><dd>0.68</dd><dt>on</dt><dd>0.32</dd></dl>\n",
       "</dd>\n",
       "\t<dt>$Z</dt>\n",
       "\t\t<dd><style>\n",
       ".dl-inline {width: auto; margin:0; padding: 0}\n",
       ".dl-inline>dt, .dl-inline>dd {float: none; width: auto; display: inline-block}\n",
       ".dl-inline>dt::after {content: \":\\0020\"; padding-right: .5ex}\n",
       ".dl-inline>dt:not(:first-of-type) {padding-left: .5ex}\n",
       "</style><dl class=dl-inline><dt>off</dt><dd>0.8</dd><dt>on</dt><dd>0.2</dd></dl>\n",
       "</dd>\n",
       "</dl>\n"
      ],
      "text/latex": [
       "\\begin{description}\n",
       "\\item[\\$X] \\begin{description*}\n",
       "\\item[off] 0.8\n",
       "\\item[on] 0.2\n",
       "\\end{description*}\n",
       "\n",
       "\\item[\\$Y] \\begin{description*}\n",
       "\\item[off] 0.68\n",
       "\\item[on] 0.32\n",
       "\\end{description*}\n",
       "\n",
       "\\item[\\$Z] \\begin{description*}\n",
       "\\item[off] 0.8\n",
       "\\item[on] 0.2\n",
       "\\end{description*}\n",
       "\n",
       "\\end{description}\n"
      ],
      "text/markdown": [
       "$X\n",
       ":   off\n",
       ":   0.8on\n",
       ":   0.2\n",
       "\n",
       "\n",
       "$Y\n",
       ":   off\n",
       ":   0.68on\n",
       ":   0.32\n",
       "\n",
       "\n",
       "$Z\n",
       ":   off\n",
       ":   0.8on\n",
       ":   0.2\n",
       "\n",
       "\n",
       "\n",
       "\n"
      ],
      "text/plain": [
       "$X\n",
       "X\n",
       "off  on \n",
       "0.8 0.2 \n",
       "\n",
       "$Y\n",
       "Y\n",
       " off   on \n",
       "0.68 0.32 \n",
       "\n",
       "$Z\n",
       "Z\n",
       "off  on \n",
       "0.8 0.2 \n"
      ]
     },
     "metadata": {},
     "output_type": "display_data"
    }
   ],
   "source": [
    "querygrain(t, nodes=c('X', 'Y', 'Z'))"
   ]
  },
  {
   "cell_type": "code",
   "execution_count": null,
   "id": "e782fa5a-b30a-422f-b38d-5e5711862dca",
   "metadata": {},
   "outputs": [],
   "source": []
  }
 ],
 "metadata": {
  "kernelspec": {
   "display_name": "R",
   "language": "R",
   "name": "ir"
  },
  "language_info": {
   "codemirror_mode": "r",
   "file_extension": ".r",
   "mimetype": "text/x-r-source",
   "name": "R",
   "pygments_lexer": "r",
   "version": "4.2.1"
  },
  "widgets": {
   "application/vnd.jupyter.widget-state+json": {
    "state": {},
    "version_major": 2,
    "version_minor": 0
   }
  }
 },
 "nbformat": 4,
 "nbformat_minor": 5
}
