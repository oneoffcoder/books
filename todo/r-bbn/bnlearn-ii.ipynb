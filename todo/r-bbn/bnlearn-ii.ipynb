{
 "cells": [
  {
   "cell_type": "code",
   "execution_count": 1,
   "id": "42f4d922-d5a3-4847-8eb5-4a82f85e473f",
   "metadata": {
    "tags": []
   },
   "outputs": [
    {
     "name": "stderr",
     "output_type": "stream",
     "text": [
      "Loading required package: gRbase\n",
      "\n",
      "\n",
      "Attaching package: ‘gRbase’\n",
      "\n",
      "\n",
      "The following objects are masked from ‘package:bnlearn’:\n",
      "\n",
      "    ancestors, children, nodes, parents\n",
      "\n",
      "\n",
      "Loading required package: graph\n",
      "\n",
      "Loading required package: BiocGenerics\n",
      "\n",
      "\n",
      "Attaching package: ‘BiocGenerics’\n",
      "\n",
      "\n",
      "The following object is masked from ‘package:bnlearn’:\n",
      "\n",
      "    score\n",
      "\n",
      "\n",
      "The following objects are masked from ‘package:stats’:\n",
      "\n",
      "    IQR, mad, sd, var, xtabs\n",
      "\n",
      "\n",
      "The following objects are masked from ‘package:base’:\n",
      "\n",
      "    anyDuplicated, aperm, append, as.data.frame, basename, cbind,\n",
      "    colnames, dirname, do.call, duplicated, eval, evalq, Filter, Find,\n",
      "    get, grep, grepl, intersect, is.unsorted, lapply, Map, mapply,\n",
      "    match, mget, order, paste, pmax, pmax.int, pmin, pmin.int,\n",
      "    Position, rank, rbind, Reduce, rownames, sapply, setdiff, sort,\n",
      "    table, tapply, union, unique, unsplit, which.max, which.min\n",
      "\n",
      "\n",
      "\n",
      "Attaching package: ‘graph’\n",
      "\n",
      "\n",
      "The following objects are masked from ‘package:bnlearn’:\n",
      "\n",
      "    degree, nodes, nodes<-\n",
      "\n",
      "\n",
      "Loading required package: grid\n",
      "\n"
     ]
    }
   ],
   "source": [
    "library(bnlearn)\n",
    "library(gRain)\n",
    "library(Rgraphviz)"
   ]
  },
  {
   "cell_type": "code",
   "execution_count": 2,
   "id": "b7245982-2c2a-4821-92a0-809adc6a536c",
   "metadata": {
    "tags": []
   },
   "outputs": [],
   "source": [
    "g <- empty.graph(nodes=c('X', 'Y', 'Z'))\n",
    "g <- set.arc(g, from='X', to='Y')\n",
    "g <- set.arc(g, from='Z', to='Y')"
   ]
  },
  {
   "cell_type": "code",
   "execution_count": 21,
   "id": "fe7916c2-456f-4bee-bdad-d9d48d2ef162",
   "metadata": {
    "tags": []
   },
   "outputs": [],
   "source": [
    "X.lv <- c('off', 'on')\n",
    "Y.lv <- c('off', 'on')\n",
    "Z.lv <- c('off', 'on')"
   ]
  },
  {
   "cell_type": "code",
   "execution_count": 22,
   "id": "3e41c717-0372-46a1-a22c-a48f1b6a5a3d",
   "metadata": {
    "tags": []
   },
   "outputs": [],
   "source": [
    "X.prob <- array(c(0.8, 0.2), dim=2, dimnames=list(X=X.lv))\n",
    "Y.prob <- array(c(0.8, 0.2, 0.2, 0.8, 0.8, 0.2, 0.2, 0.8), dim=c(2, 2, 2), dimnames=list(Y=Y.lv, X=X.lv, Z=Z.lv))\n",
    "Z.prob <- array(c(0.8, 0.2), dim=2, dimnames=list(Z=Z.lv))"
   ]
  },
  {
   "cell_type": "code",
   "execution_count": 24,
   "id": "e600edb0-c751-4021-a6d3-110fa0012253",
   "metadata": {
    "tags": []
   },
   "outputs": [
    {
     "data": {
      "text/html": [
       "<style>\n",
       ".dl-inline {width: auto; margin:0; padding: 0}\n",
       ".dl-inline>dt, .dl-inline>dd {float: none; width: auto; display: inline-block}\n",
       ".dl-inline>dt::after {content: \":\\0020\"; padding-right: .5ex}\n",
       ".dl-inline>dt:not(:first-of-type) {padding-left: .5ex}\n",
       "</style><dl class=dl-inline><dt>off</dt><dd>0.8</dd><dt>on</dt><dd>0.2</dd></dl>\n"
      ],
      "text/latex": [
       "\\begin{description*}\n",
       "\\item[off] 0.8\n",
       "\\item[on] 0.2\n",
       "\\end{description*}\n"
      ],
      "text/markdown": [
       "off\n",
       ":   0.8on\n",
       ":   0.2\n",
       "\n"
      ],
      "text/plain": [
       "X\n",
       "off  on \n",
       "0.8 0.2 "
      ]
     },
     "metadata": {},
     "output_type": "display_data"
    },
    {
     "data": {
      "text/html": [
       "<style>\n",
       ".list-inline {list-style: none; margin:0; padding: 0}\n",
       ".list-inline>li {display: inline-block}\n",
       ".list-inline>li:not(:last-child)::after {content: \"\\00b7\"; padding: 0 .5ex}\n",
       "</style>\n",
       "<ol class=list-inline><li>0.8</li><li>0.2</li><li>0.2</li><li>0.8</li><li>0.8</li><li>0.2</li><li>0.2</li><li>0.8</li></ol>\n"
      ],
      "text/latex": [
       "\\begin{enumerate*}\n",
       "\\item 0.8\n",
       "\\item 0.2\n",
       "\\item 0.2\n",
       "\\item 0.8\n",
       "\\item 0.8\n",
       "\\item 0.2\n",
       "\\item 0.2\n",
       "\\item 0.8\n",
       "\\end{enumerate*}\n"
      ],
      "text/markdown": [
       "1. 0.8\n",
       "2. 0.2\n",
       "3. 0.2\n",
       "4. 0.8\n",
       "5. 0.8\n",
       "6. 0.2\n",
       "7. 0.2\n",
       "8. 0.8\n",
       "\n",
       "\n"
      ],
      "text/plain": [
       ", , Z = off\n",
       "\n",
       "     X\n",
       "Y     off  on\n",
       "  off 0.8 0.2\n",
       "  on  0.2 0.8\n",
       "\n",
       ", , Z = on\n",
       "\n",
       "     X\n",
       "Y     off  on\n",
       "  off 0.8 0.2\n",
       "  on  0.2 0.8\n"
      ]
     },
     "metadata": {},
     "output_type": "display_data"
    },
    {
     "data": {
      "text/html": [
       "<style>\n",
       ".dl-inline {width: auto; margin:0; padding: 0}\n",
       ".dl-inline>dt, .dl-inline>dd {float: none; width: auto; display: inline-block}\n",
       ".dl-inline>dt::after {content: \":\\0020\"; padding-right: .5ex}\n",
       ".dl-inline>dt:not(:first-of-type) {padding-left: .5ex}\n",
       "</style><dl class=dl-inline><dt>off</dt><dd>0.8</dd><dt>on</dt><dd>0.2</dd></dl>\n"
      ],
      "text/latex": [
       "\\begin{description*}\n",
       "\\item[off] 0.8\n",
       "\\item[on] 0.2\n",
       "\\end{description*}\n"
      ],
      "text/markdown": [
       "off\n",
       ":   0.8on\n",
       ":   0.2\n",
       "\n"
      ],
      "text/plain": [
       "Z\n",
       "off  on \n",
       "0.8 0.2 "
      ]
     },
     "metadata": {},
     "output_type": "display_data"
    }
   ],
   "source": [
    "X.prob\n",
    "Y.prob\n",
    "Z.prob"
   ]
  },
  {
   "cell_type": "code",
   "execution_count": null,
   "id": "f5480f5f-e664-4216-badc-195fd10ce1f3",
   "metadata": {},
   "outputs": [],
   "source": [
    "p <- list(X=X.prob, Y=Y.prob, Z=Z.prob)"
   ]
  }
 ],
 "metadata": {
  "kernelspec": {
   "display_name": "R",
   "language": "R",
   "name": "ir431"
  },
  "language_info": {
   "codemirror_mode": "r",
   "file_extension": ".r",
   "mimetype": "text/x-r-source",
   "name": "R",
   "pygments_lexer": "r",
   "version": "4.3.1"
  }
 },
 "nbformat": 4,
 "nbformat_minor": 5
}
