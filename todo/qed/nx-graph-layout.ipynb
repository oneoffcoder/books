{
 "cells": [
  {
   "cell_type": "code",
   "execution_count": 1,
   "id": "7b8b4e1d-c6a2-45d0-94eb-44e2efc1c706",
   "metadata": {
    "execution": {
     "iopub.execute_input": "2023-09-20T23:28:50.613472Z",
     "iopub.status.busy": "2023-09-20T23:28:50.613472Z",
     "iopub.status.idle": "2023-09-20T23:28:50.620591Z",
     "shell.execute_reply": "2023-09-20T23:28:50.620591Z",
     "shell.execute_reply.started": "2023-09-20T23:28:50.613472Z"
    },
    "tags": []
   },
   "outputs": [],
   "source": [
    "import json\n",
    "\n",
    "with open('./graph.json', 'r') as fp:\n",
    "    data = json.load(fp)"
   ]
  },
  {
   "cell_type": "code",
   "execution_count": 2,
   "id": "0d4894cc-01ea-410e-a31a-fe30f24f955c",
   "metadata": {
    "execution": {
     "iopub.execute_input": "2023-09-20T23:28:50.622597Z",
     "iopub.status.busy": "2023-09-20T23:28:50.621596Z",
     "iopub.status.idle": "2023-09-20T23:28:50.633865Z",
     "shell.execute_reply": "2023-09-20T23:28:50.633339Z",
     "shell.execute_reply.started": "2023-09-20T23:28:50.622597Z"
    },
    "tags": []
   },
   "outputs": [
    {
     "data": {
      "text/plain": [
       "{'nodes': [{'id': 1, 'name': 'A'},\n",
       "  {'id': 2, 'name': 'B'},\n",
       "  {'id': 3, 'name': 'C'},\n",
       "  {'id': 4, 'name': 'D'},\n",
       "  {'id': 5, 'name': 'E'},\n",
       "  {'id': 6, 'name': 'F'},\n",
       "  {'id': 7, 'name': 'G'},\n",
       "  {'id': 8, 'name': 'H'},\n",
       "  {'id': 9, 'name': 'I'},\n",
       "  {'id': 10, 'name': 'J'}],\n",
       " 'links': [{'source': 1, 'target': 2},\n",
       "  {'source': 1, 'target': 5},\n",
       "  {'source': 1, 'target': 6},\n",
       "  {'source': 2, 'target': 3},\n",
       "  {'source': 2, 'target': 7},\n",
       "  {'source': 3, 'target': 4},\n",
       "  {'source': 8, 'target': 3},\n",
       "  {'source': 4, 'target': 5},\n",
       "  {'source': 4, 'target': 9},\n",
       "  {'source': 5, 'target': 10}]}"
      ]
     },
     "execution_count": 2,
     "metadata": {},
     "output_type": "execute_result"
    }
   ],
   "source": [
    "data"
   ]
  },
  {
   "cell_type": "code",
   "execution_count": 3,
   "id": "96adcb46-f626-424a-899e-4f9e4778de72",
   "metadata": {
    "execution": {
     "iopub.execute_input": "2023-09-20T23:28:50.634905Z",
     "iopub.status.busy": "2023-09-20T23:28:50.634388Z",
     "iopub.status.idle": "2023-09-20T23:28:50.780519Z",
     "shell.execute_reply": "2023-09-20T23:28:50.780519Z",
     "shell.execute_reply.started": "2023-09-20T23:28:50.634905Z"
    },
    "tags": []
   },
   "outputs": [
    {
     "data": {
      "text/plain": [
       "([1, 2, 3, 4, 5, 6, 7, 8, 9, 10],\n",
       " [(1, 2),\n",
       "  (1, 5),\n",
       "  (1, 6),\n",
       "  (2, 3),\n",
       "  (2, 7),\n",
       "  (3, 4),\n",
       "  (3, 8),\n",
       "  (4, 5),\n",
       "  (4, 9),\n",
       "  (5, 10)])"
      ]
     },
     "execution_count": 3,
     "metadata": {},
     "output_type": "execute_result"
    }
   ],
   "source": [
    "import networkx as nx\n",
    "\n",
    "g = nx.Graph()\n",
    "\n",
    "for n in data['nodes']:\n",
    "    g.add_node(n['id'])\n",
    "    \n",
    "for e in data['links']:\n",
    "    g.add_edge(e['source'], e['target'])\n",
    "\n",
    "list(g.nodes()), list(g.edges())"
   ]
  },
  {
   "cell_type": "code",
   "execution_count": 14,
   "id": "6dddf58e-3f94-43a6-b7c1-ca33d34956fe",
   "metadata": {
    "execution": {
     "iopub.execute_input": "2023-09-20T23:31:48.268997Z",
     "iopub.status.busy": "2023-09-20T23:31:48.268997Z",
     "iopub.status.idle": "2023-09-20T23:31:48.327751Z",
     "shell.execute_reply": "2023-09-20T23:31:48.327751Z",
     "shell.execute_reply.started": "2023-09-20T23:31:48.268997Z"
    },
    "tags": []
   },
   "outputs": [],
   "source": [
    "dot_pos = nx.nx_agraph.graphviz_layout(g, prog='dot')"
   ]
  },
  {
   "cell_type": "code",
   "execution_count": 15,
   "id": "d6fa2517-2cf6-43f3-a975-1ca7ff83ac7b",
   "metadata": {
    "execution": {
     "iopub.execute_input": "2023-09-20T23:32:01.463507Z",
     "iopub.status.busy": "2023-09-20T23:32:01.463507Z",
     "iopub.status.idle": "2023-09-20T23:32:01.590648Z",
     "shell.execute_reply": "2023-09-20T23:32:01.590648Z",
     "shell.execute_reply.started": "2023-09-20T23:32:01.463507Z"
    },
    "tags": []
   },
   "outputs": [],
   "source": [
    "neato_pos = nx.nx_agraph.graphviz_layout(g, prog='neato')"
   ]
  },
  {
   "cell_type": "code",
   "execution_count": 25,
   "id": "1714c580-666d-46c2-acc0-c2cb9a5ca4d5",
   "metadata": {
    "execution": {
     "iopub.execute_input": "2023-09-20T23:35:03.592956Z",
     "iopub.status.busy": "2023-09-20T23:35:03.592956Z",
     "iopub.status.idle": "2023-09-20T23:35:03.610387Z",
     "shell.execute_reply": "2023-09-20T23:35:03.610387Z",
     "shell.execute_reply.started": "2023-09-20T23:35:03.592956Z"
    },
    "tags": []
   },
   "outputs": [],
   "source": [
    "spring_pos = nx.spring_layout(g, iterations=200, seed=37)"
   ]
  },
  {
   "cell_type": "code",
   "execution_count": 28,
   "id": "c5034fc9-e153-4c0e-a4db-e70fd5712c77",
   "metadata": {
    "execution": {
     "iopub.execute_input": "2023-09-20T23:36:15.991850Z",
     "iopub.status.busy": "2023-09-20T23:36:15.990851Z",
     "iopub.status.idle": "2023-09-20T23:36:15.994676Z",
     "shell.execute_reply": "2023-09-20T23:36:15.994676Z",
     "shell.execute_reply.started": "2023-09-20T23:36:15.991850Z"
    },
    "tags": []
   },
   "outputs": [],
   "source": [
    "shell_pos = nx.shell_layout(g)"
   ]
  },
  {
   "cell_type": "code",
   "execution_count": 31,
   "id": "8c0abf2b-e7d5-420e-8fc8-4a218d822180",
   "metadata": {
    "execution": {
     "iopub.execute_input": "2023-09-20T23:36:49.571407Z",
     "iopub.status.busy": "2023-09-20T23:36:49.570408Z",
     "iopub.status.idle": "2023-09-20T23:36:49.575112Z",
     "shell.execute_reply": "2023-09-20T23:36:49.575112Z",
     "shell.execute_reply.started": "2023-09-20T23:36:49.571407Z"
    },
    "tags": []
   },
   "outputs": [],
   "source": [
    "spectral_pos = nx.spectral_layout(g)"
   ]
  },
  {
   "cell_type": "code",
   "execution_count": 37,
   "id": "0f63dbae-ddd9-420c-8eb5-d61be50c4c62",
   "metadata": {
    "execution": {
     "iopub.execute_input": "2023-09-20T23:37:55.773187Z",
     "iopub.status.busy": "2023-09-20T23:37:55.773187Z",
     "iopub.status.idle": "2023-09-20T23:37:55.776572Z",
     "shell.execute_reply": "2023-09-20T23:37:55.776572Z",
     "shell.execute_reply.started": "2023-09-20T23:37:55.773187Z"
    },
    "tags": []
   },
   "outputs": [],
   "source": [
    "spiral_pos = nx.spiral_layout(g)"
   ]
  },
  {
   "cell_type": "code",
   "execution_count": 38,
   "id": "be174a9e-c401-4695-aa40-38bf757c27ec",
   "metadata": {
    "execution": {
     "iopub.execute_input": "2023-09-20T23:38:07.627520Z",
     "iopub.status.busy": "2023-09-20T23:38:07.626518Z",
     "iopub.status.idle": "2023-09-20T23:38:07.631554Z",
     "shell.execute_reply": "2023-09-20T23:38:07.631554Z",
     "shell.execute_reply.started": "2023-09-20T23:38:07.627520Z"
    },
    "tags": []
   },
   "outputs": [],
   "source": [
    "planar_pos = nx.planar_layout(g)"
   ]
  },
  {
   "cell_type": "code",
   "execution_count": 39,
   "id": "1fe3f45d-011d-4e60-b445-254b093ec22f",
   "metadata": {
    "execution": {
     "iopub.execute_input": "2023-09-20T23:38:10.929498Z",
     "iopub.status.busy": "2023-09-20T23:38:10.929498Z",
     "iopub.status.idle": "2023-09-20T23:38:10.932776Z",
     "shell.execute_reply": "2023-09-20T23:38:10.932776Z",
     "shell.execute_reply.started": "2023-09-20T23:38:10.929498Z"
    },
    "tags": []
   },
   "outputs": [],
   "source": [
    "pos = planar_pos"
   ]
  },
  {
   "cell_type": "code",
   "execution_count": 40,
   "id": "b1462099-fd73-45b6-9192-10a79d3d69de",
   "metadata": {
    "execution": {
     "iopub.execute_input": "2023-09-20T23:38:11.162632Z",
     "iopub.status.busy": "2023-09-20T23:38:11.162127Z",
     "iopub.status.idle": "2023-09-20T23:38:11.312974Z",
     "shell.execute_reply": "2023-09-20T23:38:11.312974Z",
     "shell.execute_reply.started": "2023-09-20T23:38:11.162632Z"
    },
    "tags": []
   },
   "outputs": [
    {
     "data": {
      "image/png": "[encoded data removed]",
      "text/plain": [
       "<Figure size 500x500 with 1 Axes>"
      ]
     },
     "metadata": {},
     "output_type": "display_data"
    }
   ],
   "source": [
    "import matplotlib.pyplot as plt\n",
    "\n",
    "fig, ax = plt.subplots(figsize=(5, 5))\n",
    "\n",
    "nx.draw_networkx_nodes(\n",
    "    G=g,\n",
    "    pos=pos,\n",
    "    ax=ax,\n",
    "    node_size=100,\n",
    "    node_color='#2eb82e',\n",
    "    alpha=1.0,\n",
    "    margins=(0.01, 0.01)\n",
    ")\n",
    "nx.draw_networkx_labels(\n",
    "    G=g,\n",
    "    pos=pos,\n",
    "    font_size=10,\n",
    "    font_color='r',\n",
    "    ax=ax\n",
    ")\n",
    "nx.draw_networkx_edges(\n",
    "    G=g,\n",
    "    pos=pos,\n",
    "    ax=ax,\n",
    "    alpha=1.0\n",
    ")\n",
    "\n",
    "fig.tight_layout()"
   ]
  },
  {
   "cell_type": "code",
   "execution_count": null,
   "id": "4f5d5561-fc55-44f4-b1e2-c1ecc11567c8",
   "metadata": {},
   "outputs": [],
   "source": []
  }
 ],
 "metadata": {
  "kernelspec": {
   "display_name": "Python 3 (ipykernel)",
   "language": "python",
   "name": "python3"
  },
  "language_info": {
   "codemirror_mode": {
    "name": "ipython",
    "version": 3
   },
   "file_extension": ".py",
   "mimetype": "text/x-python",
   "name": "python",
   "nbconvert_exporter": "python",
   "pygments_lexer": "ipython3",
   "version": "3.11.4"
  },
  "widgets": {
   "application/vnd.jupyter.widget-state+json": {
    "state": {},
    "version_major": 2,
    "version_minor": 0
   }
  }
 },
 "nbformat": 4,
 "nbformat_minor": 5
}
