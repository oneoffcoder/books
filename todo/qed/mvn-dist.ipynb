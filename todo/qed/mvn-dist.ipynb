{
 "cells": [
  {
   "cell_type": "markdown",
   "id": "d93eec44-f2af-488d-a745-65756f78f047",
   "metadata": {},
   "source": [
    "# Multivariate Gaussian\n",
    "\n",
    "- [numpy positive semi-definite warning](https://stackoverflow.com/questions/41515522/numpy-positive-semi-definite-warning)"
   ]
  },
  {
   "cell_type": "markdown",
   "id": "e983d2f4-fff5-4003-bd97-d47094fa527f",
   "metadata": {},
   "source": [
    "## Sample data"
   ]
  },
  {
   "cell_type": "code",
   "execution_count": 34,
   "id": "c1093199-4028-43f2-8dd0-1c9d07549ef3",
   "metadata": {},
   "outputs": [
    {
     "data": {
      "text/plain": [
       "(1000, 3)"
      ]
     },
     "execution_count": 34,
     "metadata": {},
     "output_type": "execute_result"
    }
   ],
   "source": [
    "import pandas as pd\n",
    "import numpy as np\n",
    "\n",
    "np.random.seed(37)\n",
    "size = 1_000\n",
    "\n",
    "a = np.random.normal(1, 1, size)\n",
    "b = np.random.normal(1 + 2 * a, 1)\n",
    "c = np.random.normal(1 + 3 * b, 1)\n",
    "\n",
    "df = pd.DataFrame({'a': a, 'b': b, 'c': c})\n",
    "df.shape"
   ]
  },
  {
   "cell_type": "code",
   "execution_count": 35,
   "id": "dffd1d0b-ed93-4cef-823f-76bdb287be35",
   "metadata": {},
   "outputs": [
    {
     "data": {
      "text/html": [
       "<div>\n",
       "<style scoped>\n",
       "    .dataframe tbody tr th:only-of-type {\n",
       "        vertical-align: middle;\n",
       "    }\n",
       "\n",
       "    .dataframe tbody tr th {\n",
       "        vertical-align: top;\n",
       "    }\n",
       "\n",
       "    .dataframe thead th {\n",
       "        text-align: right;\n",
       "    }\n",
       "</style>\n",
       "<table border=\"1\" class=\"dataframe\">\n",
       "  <thead>\n",
       "    <tr style=\"text-align: right;\">\n",
       "      <th></th>\n",
       "      <th>a</th>\n",
       "      <th>b</th>\n",
       "      <th>c</th>\n",
       "    </tr>\n",
       "  </thead>\n",
       "  <tbody>\n",
       "    <tr>\n",
       "      <th>0</th>\n",
       "      <td>0.945536</td>\n",
       "      <td>2.231118</td>\n",
       "      <td>7.747877</td>\n",
       "    </tr>\n",
       "    <tr>\n",
       "      <th>1</th>\n",
       "      <td>1.674308</td>\n",
       "      <td>4.276228</td>\n",
       "      <td>12.709732</td>\n",
       "    </tr>\n",
       "    <tr>\n",
       "      <th>2</th>\n",
       "      <td>1.346647</td>\n",
       "      <td>2.705018</td>\n",
       "      <td>8.896767</td>\n",
       "    </tr>\n",
       "    <tr>\n",
       "      <th>3</th>\n",
       "      <td>-0.300346</td>\n",
       "      <td>0.909744</td>\n",
       "      <td>1.781620</td>\n",
       "    </tr>\n",
       "    <tr>\n",
       "      <th>4</th>\n",
       "      <td>2.518512</td>\n",
       "      <td>6.479523</td>\n",
       "      <td>21.004581</td>\n",
       "    </tr>\n",
       "  </tbody>\n",
       "</table>\n",
       "</div>"
      ],
      "text/plain": [
       "          a         b          c\n",
       "0  0.945536  2.231118   7.747877\n",
       "1  1.674308  4.276228  12.709732\n",
       "2  1.346647  2.705018   8.896767\n",
       "3 -0.300346  0.909744   1.781620\n",
       "4  2.518512  6.479523  21.004581"
      ]
     },
     "execution_count": 35,
     "metadata": {},
     "output_type": "execute_result"
    }
   ],
   "source": [
    "df.head()"
   ]
  },
  {
   "cell_type": "markdown",
   "id": "b9b91b84-7ab8-4467-8b55-8785763c637b",
   "metadata": {},
   "source": [
    "## Compute mean and covariance"
   ]
  },
  {
   "cell_type": "code",
   "execution_count": 36,
   "id": "a20d649a-565f-4962-8352-e9f28c44251c",
   "metadata": {},
   "outputs": [],
   "source": [
    "m = df.mean()\n",
    "c = df.cov()\n",
    "s = np.random.multivariate_normal(m, c, size=size)"
   ]
  },
  {
   "cell_type": "code",
   "execution_count": 37,
   "id": "0ec33ab6-bfe4-419b-a4d4-ffff26bf3211",
   "metadata": {},
   "outputs": [
    {
     "data": {
      "text/plain": [
       "array([ 1.01277839,  3.00947207, 10.01831793])"
      ]
     },
     "execution_count": 37,
     "metadata": {},
     "output_type": "execute_result"
    }
   ],
   "source": [
    "m.values"
   ]
  },
  {
   "cell_type": "code",
   "execution_count": 13,
   "id": "af08c258-8b76-4c95-89d6-d2cd72d15185",
   "metadata": {},
   "outputs": [
    {
     "data": {
      "text/plain": [
       "array([[ 0.9634615 ,  1.92320946,  5.75834371],\n",
       "       [ 1.92320946,  4.81764836, 14.37726705],\n",
       "       [ 5.75834371, 14.37726705, 43.87527426]])"
      ]
     },
     "execution_count": 13,
     "metadata": {},
     "output_type": "execute_result"
    }
   ],
   "source": [
    "c.values"
   ]
  },
  {
   "cell_type": "code",
   "execution_count": 40,
   "id": "680ab7d0-89f4-4050-9c36-ddf438ca8159",
   "metadata": {},
   "outputs": [
    {
     "data": {
      "text/plain": [
       "a    0.969306\n",
       "b    2.930238\n",
       "c    9.780896\n",
       "dtype: float64"
      ]
     },
     "execution_count": 40,
     "metadata": {},
     "output_type": "execute_result"
    }
   ],
   "source": [
    "pd.DataFrame(s, columns=['a', 'b', 'c']).mean()"
   ]
  },
  {
   "cell_type": "code",
   "execution_count": 41,
   "id": "c698c110-4469-431a-977d-284bd15eade0",
   "metadata": {},
   "outputs": [
    {
     "data": {
      "text/html": [
       "<div>\n",
       "<style scoped>\n",
       "    .dataframe tbody tr th:only-of-type {\n",
       "        vertical-align: middle;\n",
       "    }\n",
       "\n",
       "    .dataframe tbody tr th {\n",
       "        vertical-align: top;\n",
       "    }\n",
       "\n",
       "    .dataframe thead th {\n",
       "        text-align: right;\n",
       "    }\n",
       "</style>\n",
       "<table border=\"1\" class=\"dataframe\">\n",
       "  <thead>\n",
       "    <tr style=\"text-align: right;\">\n",
       "      <th></th>\n",
       "      <th>a</th>\n",
       "      <th>b</th>\n",
       "      <th>c</th>\n",
       "    </tr>\n",
       "  </thead>\n",
       "  <tbody>\n",
       "    <tr>\n",
       "      <th>a</th>\n",
       "      <td>1.009078</td>\n",
       "      <td>1.995169</td>\n",
       "      <td>6.004501</td>\n",
       "    </tr>\n",
       "    <tr>\n",
       "      <th>b</th>\n",
       "      <td>1.995169</td>\n",
       "      <td>4.961893</td>\n",
       "      <td>14.870129</td>\n",
       "    </tr>\n",
       "    <tr>\n",
       "      <th>c</th>\n",
       "      <td>6.004501</td>\n",
       "      <td>14.870129</td>\n",
       "      <td>45.498812</td>\n",
       "    </tr>\n",
       "  </tbody>\n",
       "</table>\n",
       "</div>"
      ],
      "text/plain": [
       "          a          b          c\n",
       "a  1.009078   1.995169   6.004501\n",
       "b  1.995169   4.961893  14.870129\n",
       "c  6.004501  14.870129  45.498812"
      ]
     },
     "execution_count": 41,
     "metadata": {},
     "output_type": "execute_result"
    }
   ],
   "source": [
    "pd.DataFrame(s, columns=['a', 'b', 'c']).cov()"
   ]
  },
  {
   "cell_type": "markdown",
   "id": "e3acb775-884c-4049-8841-82447824b301",
   "metadata": {},
   "source": [
    "## Assertion"
   ]
  },
  {
   "cell_type": "code",
   "execution_count": 26,
   "id": "e07e3f0e-043b-4371-8b21-424dcf4002f8",
   "metadata": {},
   "outputs": [],
   "source": [
    "m = pd.Series([1.5, 3.009472, 10.018318], ['a', 'b', 'c'])\n",
    "c = pd.DataFrame([\n",
    "    [ 0.0,  1.92320946,  5.75834371],\n",
    "    [ 1.92320946,  4.81764836, 14.37726705],\n",
    "    [ 5.75834371, 14.37726705, 43.87527426]\n",
    "])"
   ]
  },
  {
   "cell_type": "code",
   "execution_count": 27,
   "id": "8c327f48-7144-4985-af93-fcde5b2a4530",
   "metadata": {},
   "outputs": [
    {
     "data": {
      "text/plain": [
       "-0.7480182977029629"
      ]
     },
     "execution_count": 27,
     "metadata": {},
     "output_type": "execute_result"
    }
   ],
   "source": [
    "min_eig = np.min(np.real(np.linalg.eigvals(c)))\n",
    "min_eig"
   ]
  },
  {
   "cell_type": "code",
   "execution_count": 28,
   "id": "c6eb0a2e-2ad4-490a-b596-59f0562598b8",
   "metadata": {},
   "outputs": [
    {
     "data": {
      "text/html": [
       "<div>\n",
       "<style scoped>\n",
       "    .dataframe tbody tr th:only-of-type {\n",
       "        vertical-align: middle;\n",
       "    }\n",
       "\n",
       "    .dataframe tbody tr th {\n",
       "        vertical-align: top;\n",
       "    }\n",
       "\n",
       "    .dataframe thead th {\n",
       "        text-align: right;\n",
       "    }\n",
       "</style>\n",
       "<table border=\"1\" class=\"dataframe\">\n",
       "  <thead>\n",
       "    <tr style=\"text-align: right;\">\n",
       "      <th></th>\n",
       "      <th>0</th>\n",
       "      <th>1</th>\n",
       "      <th>2</th>\n",
       "    </tr>\n",
       "  </thead>\n",
       "  <tbody>\n",
       "    <tr>\n",
       "      <th>0</th>\n",
       "      <td>7.480183</td>\n",
       "      <td>1.923209</td>\n",
       "      <td>5.758344</td>\n",
       "    </tr>\n",
       "    <tr>\n",
       "      <th>1</th>\n",
       "      <td>1.923209</td>\n",
       "      <td>12.297831</td>\n",
       "      <td>14.377267</td>\n",
       "    </tr>\n",
       "    <tr>\n",
       "      <th>2</th>\n",
       "      <td>5.758344</td>\n",
       "      <td>14.377267</td>\n",
       "      <td>51.355457</td>\n",
       "    </tr>\n",
       "  </tbody>\n",
       "</table>\n",
       "</div>"
      ],
      "text/plain": [
       "          0          1          2\n",
       "0  7.480183   1.923209   5.758344\n",
       "1  1.923209  12.297831  14.377267\n",
       "2  5.758344  14.377267  51.355457"
      ]
     },
     "execution_count": 28,
     "metadata": {},
     "output_type": "execute_result"
    }
   ],
   "source": [
    "if min_eig < 0:\n",
    "    c -= 10*min_eig * np.eye(*c.shape)\n",
    "c"
   ]
  },
  {
   "cell_type": "code",
   "execution_count": 30,
   "id": "f06dc4ee-90ce-4805-8fa3-7ecaf56cd7eb",
   "metadata": {},
   "outputs": [],
   "source": [
    "s = np.random.multivariate_normal(m, c, size=size)"
   ]
  },
  {
   "cell_type": "code",
   "execution_count": 31,
   "id": "ecdc1277-3d21-456a-b402-2304764b0d64",
   "metadata": {},
   "outputs": [
    {
     "data": {
      "text/html": [
       "<div>\n",
       "<style scoped>\n",
       "    .dataframe tbody tr th:only-of-type {\n",
       "        vertical-align: middle;\n",
       "    }\n",
       "\n",
       "    .dataframe tbody tr th {\n",
       "        vertical-align: top;\n",
       "    }\n",
       "\n",
       "    .dataframe thead th {\n",
       "        text-align: right;\n",
       "    }\n",
       "</style>\n",
       "<table border=\"1\" class=\"dataframe\">\n",
       "  <thead>\n",
       "    <tr style=\"text-align: right;\">\n",
       "      <th></th>\n",
       "      <th>a</th>\n",
       "      <th>b</th>\n",
       "      <th>c</th>\n",
       "    </tr>\n",
       "  </thead>\n",
       "  <tbody>\n",
       "    <tr>\n",
       "      <th>a</th>\n",
       "      <td>7.651128</td>\n",
       "      <td>1.810444</td>\n",
       "      <td>5.699311</td>\n",
       "    </tr>\n",
       "    <tr>\n",
       "      <th>b</th>\n",
       "      <td>1.810444</td>\n",
       "      <td>11.553545</td>\n",
       "      <td>12.799748</td>\n",
       "    </tr>\n",
       "    <tr>\n",
       "      <th>c</th>\n",
       "      <td>5.699311</td>\n",
       "      <td>12.799748</td>\n",
       "      <td>51.446776</td>\n",
       "    </tr>\n",
       "  </tbody>\n",
       "</table>\n",
       "</div>"
      ],
      "text/plain": [
       "          a          b          c\n",
       "a  7.651128   1.810444   5.699311\n",
       "b  1.810444  11.553545  12.799748\n",
       "c  5.699311  12.799748  51.446776"
      ]
     },
     "execution_count": 31,
     "metadata": {},
     "output_type": "execute_result"
    }
   ],
   "source": [
    "pd.DataFrame(s, columns=['a', 'b', 'c']).cov()"
   ]
  },
  {
   "cell_type": "code",
   "execution_count": 32,
   "id": "57f96a98-c148-41e1-8afc-012ab1be40d3",
   "metadata": {},
   "outputs": [
    {
     "data": {
      "text/plain": [
       "a     1.508072\n",
       "b     3.043604\n",
       "c    10.272000\n",
       "dtype: float64"
      ]
     },
     "execution_count": 32,
     "metadata": {},
     "output_type": "execute_result"
    }
   ],
   "source": [
    "pd.DataFrame(s, columns=['a', 'b', 'c']).mean()"
   ]
  },
  {
   "cell_type": "code",
   "execution_count": null,
   "id": "c24cdc3a-0cab-4126-9093-2c4e7edf4b05",
   "metadata": {},
   "outputs": [],
   "source": []
  }
 ],
 "metadata": {
  "kernelspec": {
   "display_name": "Python 3 (ipykernel)",
   "language": "python",
   "name": "python3"
  },
  "language_info": {
   "codemirror_mode": {
    "name": "ipython",
    "version": 3
   },
   "file_extension": ".py",
   "mimetype": "text/x-python",
   "name": "python",
   "nbconvert_exporter": "python",
   "pygments_lexer": "ipython3",
   "version": "3.11.6"
  },
  "widgets": {
   "application/vnd.jupyter.widget-state+json": {
    "state": {},
    "version_major": 2,
    "version_minor": 0
   }
  }
 },
 "nbformat": 4,
 "nbformat_minor": 5
}
