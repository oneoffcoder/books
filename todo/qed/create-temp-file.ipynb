{
 "cells": [
  {
   "cell_type": "code",
   "execution_count": 4,
   "id": "86445d13-7a93-4683-93db-47beb9d88a4c",
   "metadata": {},
   "outputs": [
    {
     "name": "stdout",
     "output_type": "stream",
     "text": [
      "/var/folders/vt/g8zbc68n2nj8dkk85n8b19440000gn/T/tmp0iu1iy0v.R\n",
      "['__class__', '__delattr__', '__dict__', '__dir__', '__doc__', '__enter__', '__eq__', '__exit__', '__format__', '__ge__', '__getattr__', '__getattribute__', '__gt__', '__hash__', '__init__', '__init_subclass__', '__iter__', '__le__', '__lt__', '__module__', '__ne__', '__new__', '__reduce__', '__reduce_ex__', '__repr__', '__setattr__', '__sizeof__', '__str__', '__subclasshook__', '__weakref__', '_closer', 'close', 'delete', 'file', 'name', 'write']\n"
     ]
    }
   ],
   "source": [
    "from tempfile import NamedTemporaryFile\n",
    "\n",
    "with NamedTemporaryFile(mode='w', suffix='.R', delete=False) as fp:\n",
    "    s = '''\n",
    "    R.Version()\n",
    "    paste('hi')\n",
    "    '''\n",
    "    \n",
    "    fp.write(s)\n",
    "    print(fp.name)\n",
    "    print(dir(fp))"
   ]
  },
  {
   "cell_type": "code",
   "execution_count": 14,
   "id": "5842daab-4098-411d-add1-90fd0e7c8f65",
   "metadata": {},
   "outputs": [
    {
     "name": "stdout",
     "output_type": "stream",
     "text": [
      "/var/folders/vt/g8zbc68n2nj8dkk85n8b19440000gn/T/tmpct1tsp1g.R\n",
      "<class 'tempfile._TemporaryFileWrapper'>\n",
      "<class 'str'>\n"
     ]
    }
   ],
   "source": [
    "fp = None\n",
    "\n",
    "try:\n",
    "    fp = NamedTemporaryFile(mode='w', suffix='.R', delete=False)\n",
    "    print(fp.name)\n",
    "    print(type(fp))\n",
    "    print(type(fp.name))\n",
    "    \n",
    "    s = '''\n",
    "    R.Version()\n",
    "    paste('hi')\n",
    "    '''\n",
    "    \n",
    "    fp.write(s)\n",
    "except:\n",
    "    ...\n",
    "finally:\n",
    "    if fp is not None:\n",
    "        try:\n",
    "            fp.close()\n",
    "        except:\n",
    "            ..."
   ]
  },
  {
   "cell_type": "code",
   "execution_count": 9,
   "id": "752b7b58-49a4-4efe-86f5-81fc0f0d1c3d",
   "metadata": {},
   "outputs": [
    {
     "name": "stdout",
     "output_type": "stream",
     "text": [
      "\n",
      "    R.Version()\n",
      "    paste('hi')\n",
      "    "
     ]
    }
   ],
   "source": [
    "!cat /var/folders/vt/g8zbc68n2nj8dkk85n8b19440000gn/T/tmpmb7xro5t.R"
   ]
  },
  {
   "cell_type": "code",
   "execution_count": 13,
   "id": "960990e8-426e-4987-afa5-f3c04af29ca7",
   "metadata": {},
   "outputs": [
    {
     "name": "stdout",
     "output_type": "stream",
     "text": [
      "<class '_io.TextIOWrapper'>\n"
     ]
    }
   ],
   "source": [
    "with open('./delete-me.txt', 'w') as fp:\n",
    "    print(type(fp))"
   ]
  },
  {
   "cell_type": "code",
   "execution_count": 15,
   "id": "51c07c82-64a1-4d9d-976c-6a38413e92ee",
   "metadata": {},
   "outputs": [
    {
     "data": {
      "text/plain": [
       "'/var/folders/vt/g8zbc68n2nj8dkk85n8b19440000gn/T/tmpp2poixch'"
      ]
     },
     "execution_count": 15,
     "metadata": {},
     "output_type": "execute_result"
    }
   ],
   "source": [
    "import tempfile\n",
    "\n",
    "temp_dir = tempfile.mkdtemp()\n",
    "temp_dir"
   ]
  },
  {
   "cell_type": "code",
   "execution_count": null,
   "id": "499d55da-fca2-4bce-a32f-e136b8b7b4cd",
   "metadata": {},
   "outputs": [],
   "source": []
  }
 ],
 "metadata": {
  "kernelspec": {
   "display_name": "Python 3 (ipykernel)",
   "language": "python",
   "name": "python3"
  },
  "language_info": {
   "codemirror_mode": {
    "name": "ipython",
    "version": 3
   },
   "file_extension": ".py",
   "mimetype": "text/x-python",
   "name": "python",
   "nbconvert_exporter": "python",
   "pygments_lexer": "ipython3",
   "version": "3.9.16"
  },
  "widgets": {
   "application/vnd.jupyter.widget-state+json": {
    "state": {},
    "version_major": 2,
    "version_minor": 0
   }
  }
 },
 "nbformat": 4,
 "nbformat_minor": 5
}
