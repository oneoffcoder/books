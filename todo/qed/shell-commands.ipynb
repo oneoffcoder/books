{
 "cells": [
  {
   "cell_type": "markdown",
   "id": "6878baeb-bf29-4ad4-91b0-78b1eb3979d5",
   "metadata": {},
   "source": [
    "# Shell Commands"
   ]
  },
  {
   "cell_type": "markdown",
   "id": "9c1268ee-ae5f-45e8-95c9-2786c500f476",
   "metadata": {},
   "source": [
    "## os "
   ]
  },
  {
   "cell_type": "code",
   "execution_count": 18,
   "id": "5dd72ab0-ac5c-4f85-a5cd-cdeb61b270bd",
   "metadata": {},
   "outputs": [
    {
     "name": "stdout",
     "output_type": "stream",
     "text": [
      "total 1000\n",
      "drwxr-xr-x  10 super  staff     320 Sep 23 17:41 \u001b[34m.\u001b[m\u001b[m\n",
      "drwxr-xr-x  10 super  staff     320 Sep 23 01:20 \u001b[34m..\u001b[m\u001b[m\n",
      "drwxr-xr-x   5 super  staff     160 Sep 23 17:37 \u001b[34m.ipynb_checkpoints\u001b[m\u001b[m\n",
      "-rw-r--r--   1 super  staff   14895 Sep 23 17:41 Untitled.ipynb\n",
      "-rw-r--r--   1 super  staff    4062 Sep 23 00:52 create-temp-file.ipynb\n",
      "-rw-r--r--   1 super  staff    1027 Sep 23 00:08 graph.json\n",
      "drwxr-xr-x  17 super  staff     544 Sep 23 00:08 \u001b[34mlayout\u001b[m\u001b[m\n",
      "-rw-r--r--   1 super  staff     332 Sep 23 01:27 layout.tar.gz\n",
      "-rw-r--r--   1 super  staff  464916 Sep 23 00:08 nx-graph-layout.ipynb\n",
      "-rw-r--r--   1 super  staff   12846 Sep 23 01:27 targz-demo.ipynb\n"
     ]
    },
    {
     "data": {
      "text/plain": [
       "0"
      ]
     },
     "execution_count": 18,
     "metadata": {},
     "output_type": "execute_result"
    }
   ],
   "source": [
    "import os\n",
    "\n",
    "os.system('ls -la')"
   ]
  },
  {
   "cell_type": "code",
   "execution_count": 21,
   "id": "c0cbf866-dc5d-4532-9803-8addedc1a800",
   "metadata": {},
   "outputs": [
    {
     "name": "stdout",
     "output_type": "stream",
     "text": [
      "total 984\n",
      "drwxr-xr-x  10 super  staff     320 Sep 23 17:43 \u001b[34m.\u001b[m\u001b[m\n",
      "drwxr-xr-x  10 super  staff     320 Sep 23 01:20 \u001b[34m..\u001b[m\u001b[m\n",
      "drwxr-xr-x   5 super  staff     160 Sep 23 17:37 \u001b[34m.ipynb_checkpoints\u001b[m\u001b[m\n",
      "-rw-r--r--   1 super  staff    4280 Sep 23 17:43 Untitled.ipynb\n",
      "-rw-r--r--   1 super  staff    4062 Sep 23 00:52 create-temp-file.ipynb\n",
      "-rw-r--r--   1 super  staff    1027 Sep 23 00:08 graph.json\n",
      "drwxr-xr-x  17 super  staff     544 Sep 23 00:08 \u001b[34mlayout\u001b[m\u001b[m\n",
      "-rw-r--r--   1 super  staff     332 Sep 23 01:27 layout.tar.gz\n",
      "-rw-r--r--   1 super  staff  464916 Sep 23 00:08 nx-graph-layout.ipynb\n",
      "-rw-r--r--   1 super  staff   12846 Sep 23 01:27 targz-demo.ipynb\n",
      "\n"
     ]
    }
   ],
   "source": [
    "stream = os.popen('ls -la')\n",
    "print(stream.read())"
   ]
  },
  {
   "cell_type": "markdown",
   "id": "15c074e5-dbe9-41c1-b111-43bff934566c",
   "metadata": {},
   "source": [
    "## subprocess"
   ]
  },
  {
   "cell_type": "markdown",
   "id": "ffc09c73-4616-47d5-80ec-0d93a3e6d792",
   "metadata": {},
   "source": [
    "### Popen"
   ]
  },
  {
   "cell_type": "markdown",
   "id": "7c45583b-f8cb-4fad-9cad-9d1624a7f139",
   "metadata": {},
   "source": [
    "Universal lines."
   ]
  },
  {
   "cell_type": "code",
   "execution_count": 33,
   "id": "15d4bdd2-f17b-42ed-8b84-7f5ebf348a75",
   "metadata": {},
   "outputs": [
    {
     "name": "stdout",
     "output_type": "stream",
     "text": [
      "total 984\n",
      "-rw-r--r--   1 super  staff    7323 Sep 23 17:51 Untitled.ipynb\n",
      "-rw-r--r--   1 super  staff    4062 Sep 23 00:52 create-temp-file.ipynb\n",
      "-rw-r--r--   1 super  staff    1027 Sep 23 00:08 graph.json\n",
      "drwxr-xr-x  17 super  staff     544 Sep 23 00:08 \u001b[34mlayout\u001b[m\u001b[m\n",
      "-rw-r--r--   1 super  staff     332 Sep 23 01:27 layout.tar.gz\n",
      "-rw-r--r--   1 super  staff  464916 Sep 23 00:08 nx-graph-layout.ipynb\n",
      "-rw-r--r--   1 super  staff   12846 Sep 23 01:27 targz-demo.ipynb\n",
      "\n",
      "\n"
     ]
    }
   ],
   "source": [
    "import subprocess\n",
    "\n",
    "p = subprocess.Popen(\n",
    "    ['ls', '-l'], \n",
    "    stdout=subprocess.PIPE, \n",
    "    stderr=subprocess.PIPE,\n",
    "    universal_newlines=True\n",
    ")\n",
    "sout, serr = p.communicate()\n",
    "print(sout)\n",
    "print(serr)"
   ]
  },
  {
   "cell_type": "markdown",
   "id": "45e8b13d-7f2d-4f3a-95b4-addd94118351",
   "metadata": {},
   "source": [
    "No universal lines requires decoding the bytes in the string."
   ]
  },
  {
   "cell_type": "code",
   "execution_count": 34,
   "id": "a2b60e8b-e2a5-432d-ac71-e569528fe945",
   "metadata": {},
   "outputs": [
    {
     "name": "stdout",
     "output_type": "stream",
     "text": [
      "total 984\n",
      "-rw-r--r--   1 super  staff    7323 Sep 23 17:51 Untitled.ipynb\n",
      "-rw-r--r--   1 super  staff    4062 Sep 23 00:52 create-temp-file.ipynb\n",
      "-rw-r--r--   1 super  staff    1027 Sep 23 00:08 graph.json\n",
      "drwxr-xr-x  17 super  staff     544 Sep 23 00:08 \u001b[34mlayout\u001b[m\u001b[m\n",
      "-rw-r--r--   1 super  staff     332 Sep 23 01:27 layout.tar.gz\n",
      "-rw-r--r--   1 super  staff  464916 Sep 23 00:08 nx-graph-layout.ipynb\n",
      "-rw-r--r--   1 super  staff   12846 Sep 23 01:27 targz-demo.ipynb\n",
      "\n",
      "\n"
     ]
    }
   ],
   "source": [
    "p = subprocess.Popen(\n",
    "    ['ls', '-l'], \n",
    "    stdout=subprocess.PIPE, \n",
    "    stderr=subprocess.PIPE\n",
    ")\n",
    "sout, serr = p.communicate()\n",
    "print(sout.decode())\n",
    "print(serr.decode())"
   ]
  },
  {
   "cell_type": "markdown",
   "id": "220c8468-86f6-4c0c-a0f4-7bb4268ecadb",
   "metadata": {},
   "source": [
    "The function `communicate()` waits until the process is done. You can poll as follows."
   ]
  },
  {
   "cell_type": "code",
   "execution_count": 37,
   "id": "d9516d55-1b76-4a31-8d95-e1044bab6321",
   "metadata": {},
   "outputs": [
    {
     "name": "stdout",
     "output_type": "stream",
     "text": [
      "PING python.org (151.101.192.223): 56 data bytes\n",
      "64 bytes from 151.101.192.223: icmp_seq=0 ttl=60 time=12.194 ms\n",
      "64 bytes from 151.101.192.223: icmp_seq=1 ttl=60 time=21.160 ms\n",
      "64 bytes from 151.101.192.223: icmp_seq=2 ttl=60 time=14.822 ms\n",
      "64 bytes from 151.101.192.223: icmp_seq=3 ttl=60 time=18.069 ms\n",
      "\n",
      "--- python.org ping statistics ---\n",
      "code=0\n",
      "4 packets transmitted, 4 packets received, 0.0% packet loss\n",
      "round-trip min/avg/max/stddev = 12.194/16.561/21.160/3.373 ms\n"
     ]
    }
   ],
   "source": [
    "p = subprocess.Popen(\n",
    "    ['ping', '-c', '4', 'python.org'],\n",
    "    stdout=subprocess.PIPE,\n",
    "    stderr=subprocess.PIPE,\n",
    "    universal_newlines=True\n",
    ")\n",
    "\n",
    "while True:\n",
    "    line = p.stdout.readline()\n",
    "    print(line.strip())\n",
    "    \n",
    "    code = p.poll()\n",
    "    if code is not None:\n",
    "        print(f'{code=}')\n",
    "        for line in p.stdout.readlines():\n",
    "            print(line.strip())\n",
    "        break"
   ]
  },
  {
   "cell_type": "markdown",
   "id": "3c9bb24b-497f-4cf7-8415-c1023e50260c",
   "metadata": {},
   "source": [
    "Use `shlex` to tokenize the command."
   ]
  },
  {
   "cell_type": "code",
   "execution_count": 38,
   "id": "d879281d-f75b-4abf-bb07-582f2787c62f",
   "metadata": {},
   "outputs": [
    {
     "data": {
      "text/plain": [
       "['ping', '-c', '4', 'python.org']"
      ]
     },
     "execution_count": 38,
     "metadata": {},
     "output_type": "execute_result"
    }
   ],
   "source": [
    "import shlex\n",
    "\n",
    "shlex.split('ping -c 4 python.org')"
   ]
  },
  {
   "cell_type": "code",
   "execution_count": 40,
   "id": "a1af35f6-1ff4-4bbe-af44-9bef045f0672",
   "metadata": {},
   "outputs": [
    {
     "name": "stdout",
     "output_type": "stream",
     "text": [
      "PING python.org (151.101.0.223): 56 data bytes\n",
      "64 bytes from 151.101.0.223: icmp_seq=0 ttl=60 time=16.664 ms\n",
      "64 bytes from 151.101.0.223: icmp_seq=1 ttl=60 time=16.722 ms\n",
      "64 bytes from 151.101.0.223: icmp_seq=2 ttl=60 time=11.854 ms\n",
      "64 bytes from 151.101.0.223: icmp_seq=3 ttl=60 time=16.022 ms\n",
      "\n",
      "--- python.org ping statistics ---\n",
      "4 packets transmitted, 4 packets received, 0.0% packet loss\n",
      "round-trip min/avg/max/stddev = 11.854/15.316/16.722/2.017 ms\n",
      "\n",
      "code=0\n"
     ]
    }
   ],
   "source": [
    "p = subprocess.Popen(\n",
    "    shlex.split('ping -c 4 python.org'),\n",
    "    stdout=subprocess.PIPE,\n",
    "    stderr=subprocess.PIPE,\n",
    "    universal_newlines=True\n",
    ")\n",
    "\n",
    "while True:\n",
    "    line = p.stdout.readline()\n",
    "    print(line.strip())\n",
    "    \n",
    "    code = p.poll()\n",
    "    if code is not None:\n",
    "        print(f'{code=}')\n",
    "        for line in p.stdout.readlines():\n",
    "            print(line.strip())\n",
    "        break"
   ]
  },
  {
   "cell_type": "markdown",
   "id": "4eb40a2f-8838-473e-a9f5-658dd368fa53",
   "metadata": {},
   "source": [
    "### run"
   ]
  },
  {
   "cell_type": "code",
   "execution_count": 47,
   "id": "b140e46a-55b5-4abf-82ae-840bd10e544c",
   "metadata": {},
   "outputs": [],
   "source": [
    "p = subprocess.run(\n",
    "    ['ls', '-l'],\n",
    "    stdout=subprocess.PIPE,\n",
    "    universal_newlines=True\n",
    ")"
   ]
  },
  {
   "cell_type": "code",
   "execution_count": 48,
   "id": "9031585f-58af-4fc6-ac9d-17d0f469ab0c",
   "metadata": {},
   "outputs": [
    {
     "data": {
      "text/plain": [
       "['ls', '-l']"
      ]
     },
     "execution_count": 48,
     "metadata": {},
     "output_type": "execute_result"
    }
   ],
   "source": [
    "p.args"
   ]
  },
  {
   "cell_type": "code",
   "execution_count": 49,
   "id": "15286735-cebd-409d-8db7-99fff4531fe5",
   "metadata": {},
   "outputs": [
    {
     "data": {
      "text/plain": [
       "0"
      ]
     },
     "execution_count": 49,
     "metadata": {},
     "output_type": "execute_result"
    }
   ],
   "source": [
    "p.returncode"
   ]
  },
  {
   "cell_type": "code",
   "execution_count": 50,
   "id": "941b3884-0e57-483a-97b8-a873961f4d0b",
   "metadata": {},
   "outputs": [
    {
     "name": "stdout",
     "output_type": "stream",
     "text": [
      "total 992\n",
      "-rw-r--r--   1 super  staff    4062 Sep 23 00:52 create-temp-file.ipynb\n",
      "-rw-r--r--   1 super  staff    1027 Sep 23 00:08 graph.json\n",
      "drwxr-xr-x  17 super  staff     544 Sep 23 00:08 \u001b[34mlayout\u001b[m\u001b[m\n",
      "-rw-r--r--   1 super  staff     332 Sep 23 01:27 layout.tar.gz\n",
      "-rw-r--r--   1 super  staff  464916 Sep 23 00:08 nx-graph-layout.ipynb\n",
      "-rw-r--r--   1 super  staff   11310 Sep 23 18:31 shell-commands.ipynb\n",
      "-rw-r--r--   1 super  staff   12846 Sep 23 01:27 targz-demo.ipynb\n",
      "\n"
     ]
    }
   ],
   "source": [
    "print(p.stdout)"
   ]
  },
  {
   "cell_type": "markdown",
   "id": "ceb740c4-c840-4162-bcf4-c496698e8a54",
   "metadata": {},
   "source": [
    "To access SSH server.\n",
    "\n",
    "```python\n",
    "import subprocess\n",
    "\n",
    "ssh = subprocess.Popen([\"ssh\", \"-i .ssh/id_rsa\", \"user@host\"],\n",
    "                        stdin =subprocess.PIPE,\n",
    "                        stdout=subprocess.PIPE,\n",
    "                        stderr=subprocess.PIPE,\n",
    "                        universal_newlines=True,\n",
    "                        bufsize=0)\n",
    " \n",
    "# Send ssh commands to stdin\n",
    "ssh.stdin.write(\"uname -a\\n\")\n",
    "ssh.stdin.write(\"uptime\\n\")\n",
    "ssh.stdin.close()\n",
    "\n",
    "# Fetch output\n",
    "for line in ssh.stdout:\n",
    "    print(line.strip())\n",
    "```"
   ]
  },
  {
   "cell_type": "code",
   "execution_count": null,
   "id": "b79d8f2f-dff3-4f97-986a-f0e5e1e0f1c5",
   "metadata": {},
   "outputs": [],
   "source": []
  }
 ],
 "metadata": {
  "kernelspec": {
   "display_name": "Python 3 (ipykernel)",
   "language": "python",
   "name": "python3"
  },
  "language_info": {
   "codemirror_mode": {
    "name": "ipython",
    "version": 3
   },
   "file_extension": ".py",
   "mimetype": "text/x-python",
   "name": "python",
   "nbconvert_exporter": "python",
   "pygments_lexer": "ipython3",
   "version": "3.9.16"
  },
  "widgets": {
   "application/vnd.jupyter.widget-state+json": {
    "state": {},
    "version_major": 2,
    "version_minor": 0
   }
  }
 },
 "nbformat": 4,
 "nbformat_minor": 5
}
