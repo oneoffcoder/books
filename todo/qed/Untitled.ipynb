{
 "cells": [
  {
   "cell_type": "code",
   "execution_count": 1,
   "id": "c38f5090-03ef-4e11-a547-c62967621f52",
   "metadata": {},
   "outputs": [
    {
     "data": {
      "text/plain": [
       "(1000, 3)"
      ]
     },
     "execution_count": 1,
     "metadata": {},
     "output_type": "execute_result"
    }
   ],
   "source": [
    "import pandas as pd\n",
    "import numpy as np\n",
    "\n",
    "np.random.seed(37)\n",
    "size = 1_000\n",
    "\n",
    "h = np.random.normal(1, 1, size) # hidden, confounder\n",
    "c = np.random.normal(1 + 2 * h, 1) # cause\n",
    "e = np.random.normal(1 + 3 * h + 3.5 * c, 1) # effect\n",
    "\n",
    "df = pd.DataFrame({'h': h, 'c': c, 'e': e})\n",
    "df.shape"
   ]
  },
  {
   "cell_type": "code",
   "execution_count": 7,
   "id": "5da54876-342b-405a-ad9c-0586be2b0bac",
   "metadata": {},
   "outputs": [
    {
     "data": {
      "text/html": [
       "<div>\n",
       "<style scoped>\n",
       "    .dataframe tbody tr th:only-of-type {\n",
       "        vertical-align: middle;\n",
       "    }\n",
       "\n",
       "    .dataframe tbody tr th {\n",
       "        vertical-align: top;\n",
       "    }\n",
       "\n",
       "    .dataframe thead th {\n",
       "        text-align: right;\n",
       "    }\n",
       "</style>\n",
       "<table border=\"1\" class=\"dataframe\">\n",
       "  <thead>\n",
       "    <tr style=\"text-align: right;\">\n",
       "      <th></th>\n",
       "      <th>h</th>\n",
       "      <th>c</th>\n",
       "      <th>e</th>\n",
       "    </tr>\n",
       "  </thead>\n",
       "  <tbody>\n",
       "    <tr>\n",
       "      <th>0</th>\n",
       "      <td>0.945536</td>\n",
       "      <td>2.231118</td>\n",
       "      <td>11.700045</td>\n",
       "    </tr>\n",
       "    <tr>\n",
       "      <th>1</th>\n",
       "      <td>1.674308</td>\n",
       "      <td>4.276228</td>\n",
       "      <td>19.870771</td>\n",
       "    </tr>\n",
       "    <tr>\n",
       "      <th>2</th>\n",
       "      <td>1.346647</td>\n",
       "      <td>2.705018</td>\n",
       "      <td>14.289217</td>\n",
       "    </tr>\n",
       "    <tr>\n",
       "      <th>3</th>\n",
       "      <td>-0.300346</td>\n",
       "      <td>0.909744</td>\n",
       "      <td>1.335454</td>\n",
       "    </tr>\n",
       "    <tr>\n",
       "      <th>4</th>\n",
       "      <td>2.518512</td>\n",
       "      <td>6.479523</td>\n",
       "      <td>31.799879</td>\n",
       "    </tr>\n",
       "  </tbody>\n",
       "</table>\n",
       "</div>"
      ],
      "text/plain": [
       "          h         c          e\n",
       "0  0.945536  2.231118  11.700045\n",
       "1  1.674308  4.276228  19.870771\n",
       "2  1.346647  2.705018  14.289217\n",
       "3 -0.300346  0.909744   1.335454\n",
       "4  2.518512  6.479523  31.799879"
      ]
     },
     "execution_count": 7,
     "metadata": {},
     "output_type": "execute_result"
    }
   ],
   "source": [
    "df.head()"
   ]
  },
  {
   "cell_type": "code",
   "execution_count": 3,
   "id": "ca766791-bde3-4970-a213-a7476b1a8535",
   "metadata": {},
   "outputs": [
    {
     "data": {
      "text/plain": [
       "array([ 1.01277839,  3.00947207, 14.56138912])"
      ]
     },
     "execution_count": 3,
     "metadata": {},
     "output_type": "execute_result"
    }
   ],
   "source": [
    "df.mean().values"
   ]
  },
  {
   "cell_type": "code",
   "execution_count": 6,
   "id": "862cf423-3383-4a90-a2bf-cc2d60b99477",
   "metadata": {},
   "outputs": [
    {
     "data": {
      "text/plain": [
       "array([[  0.9634615 ,   1.92320946,   9.61033293],\n",
       "       [  1.92320946,   4.81764836,  22.5557196 ],\n",
       "       [  9.61033293,  22.5557196 , 108.4477975 ]])"
      ]
     },
     "execution_count": 6,
     "metadata": {},
     "output_type": "execute_result"
    }
   ],
   "source": [
    "df.cov().values"
   ]
  },
  {
   "cell_type": "code",
   "execution_count": null,
   "id": "34c66e65-46a4-4719-bda2-55528fdbb437",
   "metadata": {},
   "outputs": [],
   "source": []
  }
 ],
 "metadata": {
  "kernelspec": {
   "display_name": "Python 3 (ipykernel)",
   "language": "python",
   "name": "python3"
  },
  "language_info": {
   "codemirror_mode": {
    "name": "ipython",
    "version": 3
   },
   "file_extension": ".py",
   "mimetype": "text/x-python",
   "name": "python",
   "nbconvert_exporter": "python",
   "pygments_lexer": "ipython3",
   "version": "3.11.6"
  },
  "widgets": {
   "application/vnd.jupyter.widget-state+json": {
    "state": {},
    "version_major": 2,
    "version_minor": 0
   }
  }
 },
 "nbformat": 4,
 "nbformat_minor": 5
}
