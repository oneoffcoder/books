{
 "cells": [
  {
   "cell_type": "markdown",
   "id": "145404d2-fb1a-4035-bb08-a446e31a2d43",
   "metadata": {},
   "source": [
    "# QED sampling"
   ]
  },
  {
   "cell_type": "code",
   "execution_count": 11,
   "id": "75790822-17b7-4940-8fa4-1e7afd4e04ed",
   "metadata": {},
   "outputs": [],
   "source": [
    "import numpy as np\n",
    "import pandas as pd\n",
    "\n",
    "np.random.seed(37)\n",
    "np.set_printoptions(\n",
    "    precision=10,\n",
    "    formatter={'float': lambda v: f'{v:.10f}'}\n",
    ")\n",
    "\n",
    "n = 10_000\n",
    "A = np.random.normal(0, 1, n)\n",
    "B = np.random.normal(0, 1, n)\n",
    "C = np.random.normal(A, 1, n)\n",
    "D = np.random.normal(0.2 * A + 0.8 * B, 1, n)"
   ]
  },
  {
   "cell_type": "code",
   "execution_count": 12,
   "id": "ad81ca80-ec44-45bc-b3dd-f8b5bb0d113b",
   "metadata": {},
   "outputs": [
    {
     "data": {
      "text/plain": [
       "(10000, 4)"
      ]
     },
     "execution_count": 12,
     "metadata": {},
     "output_type": "execute_result"
    }
   ],
   "source": [
    "E = np.vstack([A, B, C, D]).T\n",
    "E.shape"
   ]
  },
  {
   "cell_type": "code",
   "execution_count": 17,
   "id": "b90cdcf3-6b99-4695-a26b-82f4184f06a7",
   "metadata": {},
   "outputs": [
    {
     "data": {
      "text/plain": [
       "array([[0.9907002440, 0.0078436913, 1.0009352395, 0.2036429872],\n",
       "       [0.0078436913, 1.0100180410, 0.0140579594, 0.7985879082],\n",
       "       [1.0009352395, 0.0140579594, 1.9957039315, 0.2253232977],\n",
       "       [0.2036429872, 0.7985879082, 0.2253232977, 1.6851371822]])"
      ]
     },
     "execution_count": 17,
     "metadata": {},
     "output_type": "execute_result"
    }
   ],
   "source": [
    "np.cov(E.T)"
   ]
  },
  {
   "cell_type": "code",
   "execution_count": 21,
   "id": "d054c834-f180-4750-93bc-1c49924bdcfd",
   "metadata": {},
   "outputs": [
    {
     "data": {
      "text/html": [
       "<div>\n",
       "<style scoped>\n",
       "    .dataframe tbody tr th:only-of-type {\n",
       "        vertical-align: middle;\n",
       "    }\n",
       "\n",
       "    .dataframe tbody tr th {\n",
       "        vertical-align: top;\n",
       "    }\n",
       "\n",
       "    .dataframe thead th {\n",
       "        text-align: right;\n",
       "    }\n",
       "</style>\n",
       "<table border=\"1\" class=\"dataframe\">\n",
       "  <thead>\n",
       "    <tr style=\"text-align: right;\">\n",
       "      <th></th>\n",
       "      <th>0</th>\n",
       "      <th>1</th>\n",
       "      <th>2</th>\n",
       "      <th>3</th>\n",
       "    </tr>\n",
       "  </thead>\n",
       "  <tbody>\n",
       "    <tr>\n",
       "      <th>0</th>\n",
       "      <td>0.990700</td>\n",
       "      <td>0.007844</td>\n",
       "      <td>1.000935</td>\n",
       "      <td>0.203643</td>\n",
       "    </tr>\n",
       "    <tr>\n",
       "      <th>1</th>\n",
       "      <td>0.007844</td>\n",
       "      <td>1.010018</td>\n",
       "      <td>0.014058</td>\n",
       "      <td>0.798588</td>\n",
       "    </tr>\n",
       "    <tr>\n",
       "      <th>2</th>\n",
       "      <td>1.000935</td>\n",
       "      <td>0.014058</td>\n",
       "      <td>1.995704</td>\n",
       "      <td>0.225323</td>\n",
       "    </tr>\n",
       "    <tr>\n",
       "      <th>3</th>\n",
       "      <td>0.203643</td>\n",
       "      <td>0.798588</td>\n",
       "      <td>0.225323</td>\n",
       "      <td>1.685137</td>\n",
       "    </tr>\n",
       "  </tbody>\n",
       "</table>\n",
       "</div>"
      ],
      "text/plain": [
       "          0         1         2         3\n",
       "0  0.990700  0.007844  1.000935  0.203643\n",
       "1  0.007844  1.010018  0.014058  0.798588\n",
       "2  1.000935  0.014058  1.995704  0.225323\n",
       "3  0.203643  0.798588  0.225323  1.685137"
      ]
     },
     "execution_count": 21,
     "metadata": {},
     "output_type": "execute_result"
    }
   ],
   "source": [
    "pd.DataFrame(E).cov()"
   ]
  },
  {
   "cell_type": "code",
   "execution_count": 24,
   "id": "c15f1308-c166-4bd1-8bc8-2f82b3bf14b6",
   "metadata": {},
   "outputs": [
    {
     "data": {
      "text/plain": [
       "array([0.0017234068, -0.0091710062, 0.0067119637, -0.0180855967])"
      ]
     },
     "execution_count": 24,
     "metadata": {},
     "output_type": "execute_result"
    }
   ],
   "source": [
    "pd.DataFrame(E).mean().values"
   ]
  },
  {
   "cell_type": "code",
   "execution_count": 25,
   "id": "0f66a47e-7f8c-4104-95e1-2d6326bae727",
   "metadata": {},
   "outputs": [
    {
     "data": {
      "text/plain": [
       "array([0.9907002440, 1.0100180410, 1.9957039315, 1.6851371822])"
      ]
     },
     "execution_count": 25,
     "metadata": {},
     "output_type": "execute_result"
    }
   ],
   "source": [
    "pd.DataFrame(E).var().values"
   ]
  },
  {
   "cell_type": "code",
   "execution_count": null,
   "id": "fa9dc0b6-f9fd-4c35-a808-778525c1d859",
   "metadata": {},
   "outputs": [],
   "source": []
  }
 ],
 "metadata": {
  "kernelspec": {
   "display_name": "Python 3 (ipykernel)",
   "language": "python",
   "name": "python3"
  },
  "language_info": {
   "codemirror_mode": {
    "name": "ipython",
    "version": 3
   },
   "file_extension": ".py",
   "mimetype": "text/x-python",
   "name": "python",
   "nbconvert_exporter": "python",
   "pygments_lexer": "ipython3",
   "version": "3.11.6"
  },
  "widgets": {
   "application/vnd.jupyter.widget-state+json": {
    "state": {},
    "version_major": 2,
    "version_minor": 0
   }
  }
 },
 "nbformat": 4,
 "nbformat_minor": 5
}
