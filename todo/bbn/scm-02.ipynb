{
 "cells": [
  {
   "cell_type": "code",
   "execution_count": 1,
   "id": "8d28c37d-91d5-460e-bd92-530970165f84",
   "metadata": {},
   "outputs": [],
   "source": [
    "from pybbn.probabilistic import create_reasoning_model\n",
    "import numpy as np\n",
    "import pandas as pd\n",
    "\n",
    "def get_model():\n",
    "    d = {\n",
    "        'nodes': ['u_g', 'u_d', 'u_r', 'drug', 'gender', 'recovery'],\n",
    "        'edges': [\n",
    "            ('u_g', 'gender'),\n",
    "            ('u_d', 'drug'),\n",
    "            ('u_r', 'recovery'),\n",
    "            ('gender', 'drug'), \n",
    "            ('gender', 'recovery'), \n",
    "            ('drug', 'recovery')\n",
    "        ]\n",
    "    }\n",
    "    \n",
    "    p = {\n",
    "        'u_g': {\n",
    "            'columns': ['u_g', '__p__'],\n",
    "            'data': [\n",
    "                ['u0', 0.5],\n",
    "                ['u1', 0.5]\n",
    "            ]\n",
    "        },\n",
    "        'u_d': {\n",
    "            'columns': ['u_d', '__p__'],\n",
    "            'data': [\n",
    "                ['u0', 0.5],\n",
    "                ['u1', 0.5]\n",
    "            ]\n",
    "        },\n",
    "        'u_r': {\n",
    "            'columns': ['u_r', '__p__'],\n",
    "            'data': [\n",
    "                ['u0', 0.8],\n",
    "                ['u1', 0.2]\n",
    "            ]\n",
    "        },\n",
    "        'gender': {\n",
    "            'columns': ['u_g', 'gender', '__p__'],\n",
    "            'data': [\n",
    "                ['u0', 'male', 0.51],\n",
    "                ['u0', 'female', 0.49],\n",
    "                ['u1', 'male', 0.51],\n",
    "                ['u1', 'female', 0.49]\n",
    "            ]\n",
    "        },\n",
    "        'drug': {\n",
    "            'columns': ['u_d', 'gender', 'drug', '__p__'],\n",
    "            'data': [\n",
    "                ['u0', 'female', 'no', 0.24],\n",
    "                ['u0', 'female', 'yes', 0.76],\n",
    "                ['u0', 'male', 'no', 0.76],\n",
    "                ['u0', 'male', 'yes', 0.24],\n",
    "                ['u1', 'female', 'no', 0.24],\n",
    "                ['u1', 'female', 'yes', 0.76],\n",
    "                ['u1', 'male', 'no', 0.76],\n",
    "                ['u1', 'male', 'yes', 0.24]\n",
    "            ]\n",
    "        },\n",
    "        'recovery': {\n",
    "            'columns': ['u_r', 'gender', 'drug', 'recovery', '__p__'],\n",
    "            'data': [\n",
    "                ['u0', 'female', 'no', 'no', 0.90],\n",
    "                ['u0', 'female', 'no', 'yes', 0.10],\n",
    "                ['u0', 'female', 'yes', 'no', 0.27],\n",
    "                ['u0', 'female', 'yes', 'yes', 0.73],\n",
    "                ['u0', 'male', 'no', 'no', 0.99],\n",
    "                ['u0', 'male', 'no', 'yes', 0.01],\n",
    "                ['u0', 'male', 'yes', 'no', 0.07],\n",
    "                ['u0', 'male', 'yes', 'yes', 0.93],\n",
    "                ['u1', 'female', 'no', 'no', 0.90],\n",
    "                ['u1', 'female', 'no', 'yes', 0.10],\n",
    "                ['u1', 'female', 'yes', 'no', 0.27],\n",
    "                ['u1', 'female', 'yes', 'yes', 0.73],\n",
    "                ['u1', 'male', 'no', 'no', 0.99],\n",
    "                ['u1', 'male', 'no', 'yes', 0.01],\n",
    "                ['u1', 'male', 'yes', 'no', 0.07],\n",
    "                ['u1', 'male', 'yes', 'yes', 0.93]\n",
    "            ]\n",
    "        }\n",
    "    }\n",
    "    \n",
    "    model = create_reasoning_model(d, p)\n",
    "    return model\n",
    "\n",
    "model = get_model()"
   ]
  },
  {
   "cell_type": "code",
   "execution_count": 2,
   "id": "5920f38f-93dd-49a9-9353-636a0f20aea6",
   "metadata": {},
   "outputs": [
    {
     "data": {
      "text/plain": [
       "(['u_g', 'u_d', 'u_r', 'drug', 'gender', 'recovery'],\n",
       " [('u_g', 'gender'),\n",
       "  ('u_d', 'drug'),\n",
       "  ('u_r', 'recovery'),\n",
       "  ('drug', 'recovery'),\n",
       "  ('gender', 'drug'),\n",
       "  ('gender', 'recovery')])"
      ]
     },
     "execution_count": 2,
     "metadata": {},
     "output_type": "execute_result"
    }
   ],
   "source": [
    "list(model.d.nodes()), list(model.d.edges())"
   ]
  },
  {
   "cell_type": "code",
   "execution_count": 3,
   "id": "3b9f4bc8-ca7b-4f59-bf1c-63e5d5d1b700",
   "metadata": {},
   "outputs": [
    {
     "data": {
      "text/plain": [
       "{'u_g':   u_g  __p__\n",
       " 0  u0    0.5\n",
       " 1  u1    0.5,\n",
       " 'u_d':   u_d  __p__\n",
       " 0  u0    0.5\n",
       " 1  u1    0.5,\n",
       " 'u_r':   u_r  __p__\n",
       " 0  u0    0.8\n",
       " 1  u1    0.2,\n",
       " 'drug':   drug   __p__\n",
       " 0   no  0.5052\n",
       " 1  yes  0.4948,\n",
       " 'gender':    gender  __p__\n",
       " 0  female   0.49\n",
       " 1    male   0.51,\n",
       " 'recovery':   recovery    __p__\n",
       " 0       no  0.59868\n",
       " 1      yes  0.40132}"
      ]
     },
     "execution_count": 3,
     "metadata": {},
     "output_type": "execute_result"
    }
   ],
   "source": [
    "model.pquery()"
   ]
  },
  {
   "cell_type": "code",
   "execution_count": 5,
   "id": "63d54327-0ab4-4db6-a4be-7b082475cf49",
   "metadata": {},
   "outputs": [
    {
     "data": {
      "text/plain": [
       "{'u_g':   u_g  __p__\n",
       " 0  u0    0.5\n",
       " 1  u1    0.5,\n",
       " 'u_d':   u_d  __p__\n",
       " 0  u0    0.5\n",
       " 1  u1    0.5,\n",
       " 'u_r':   u_r  __p__\n",
       " 0  u0    0.8\n",
       " 1  u1    0.2,\n",
       " 'drug':   drug  __p__\n",
       " 0   no    0.0\n",
       " 1  yes    1.0,\n",
       " 'gender':    gender  __p__\n",
       " 0  female    0.0\n",
       " 1    male    1.0,\n",
       " 'recovery':   recovery  __p__\n",
       " 0       no    0.0\n",
       " 1      yes    1.0}"
      ]
     },
     "execution_count": 5,
     "metadata": {},
     "output_type": "execute_result"
    }
   ],
   "source": [
    "model.pquery(evidences=model.e({'gender': 'male', 'drug': 'yes', 'recovery': 'yes'}))"
   ]
  },
  {
   "cell_type": "code",
   "execution_count": 6,
   "id": "3e9c773a-32c5-4cbf-a0d0-8ccebcd0c8cb",
   "metadata": {},
   "outputs": [
    {
     "data": {
      "text/plain": [
       "{'u_g':   u_g  __p__\n",
       " 0  u0    0.5\n",
       " 1  u1    0.5,\n",
       " 'u_d':   u_d  __p__\n",
       " 0  u0    0.5\n",
       " 1  u1    0.5,\n",
       " 'u_r':   u_r  __p__\n",
       " 0  u0    0.8\n",
       " 1  u1    0.2,\n",
       " 'drug':   drug  __p__\n",
       " 0   no    0.0\n",
       " 1  yes    1.0,\n",
       " 'gender':    gender  __p__\n",
       " 0  female    0.0\n",
       " 1    male    1.0,\n",
       " 'recovery':   recovery  __p__\n",
       " 0       no    1.0\n",
       " 1      yes    0.0}"
      ]
     },
     "execution_count": 6,
     "metadata": {},
     "output_type": "execute_result"
    }
   ],
   "source": [
    "model.pquery(evidences=model.e({'gender': 'male', 'drug': 'yes', 'recovery': 'no'}))"
   ]
  },
  {
   "cell_type": "code",
   "execution_count": null,
   "id": "2aa723a4-eb77-44a5-98e6-72e395d3eacc",
   "metadata": {},
   "outputs": [],
   "source": []
  }
 ],
 "metadata": {
  "kernelspec": {
   "display_name": "Python 3 (ipykernel)",
   "language": "python",
   "name": "python3"
  },
  "language_info": {
   "codemirror_mode": {
    "name": "ipython",
    "version": 3
   },
   "file_extension": ".py",
   "mimetype": "text/x-python",
   "name": "python",
   "nbconvert_exporter": "python",
   "pygments_lexer": "ipython3",
   "version": "3.11.5"
  }
 },
 "nbformat": 4,
 "nbformat_minor": 5
}
