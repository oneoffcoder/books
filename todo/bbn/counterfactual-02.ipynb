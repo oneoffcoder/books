{
 "cells": [
  {
   "cell_type": "markdown",
   "id": "29c42b9c-e8e7-494b-acea-a839c6939144",
   "metadata": {},
   "source": [
    "# Estimating counterfactuals\n"
   ]
  },
  {
   "cell_type": "markdown",
   "id": "e267fa0d-90a4-4a42-98fc-210cfb840dbf",
   "metadata": {},
   "source": [
    "## Data simulation"
   ]
  },
  {
   "cell_type": "code",
   "execution_count": 1,
   "id": "eb048f27-2c19-47ba-b1d5-b9bb8d9294e4",
   "metadata": {},
   "outputs": [],
   "source": [
    "import networkx as nx\n",
    "from pybbn.probabilistic import create_reasoning_model\n",
    "\n",
    "def get_model():\n",
    "    d = nx.DiGraph()\n",
    "    d.add_nodes_from(['drug', 'gender', 'recovery'])\n",
    "    d.add_edges_from([('gender', 'drug'), ('gender', 'recovery'), ('drug', 'recovery')])\n",
    "    \n",
    "    p = {\n",
    "        'gender': {\n",
    "            'columns': ['gender', '__p__'],\n",
    "            'data': [\n",
    "                ['male', 0.51], ['female', 0.49]\n",
    "            ]\n",
    "        },\n",
    "        'drug': {\n",
    "            'columns': ['gender', 'drug', '__p__'],\n",
    "            'data': [\n",
    "                ['female', 'no', 0.24],\n",
    "                ['female', 'yes', 0.76],\n",
    "                ['male', 'no', 0.76],\n",
    "                ['male', 'yes', 0.24]\n",
    "            ]\n",
    "        },\n",
    "        'recovery': {\n",
    "            'columns': ['gender', 'drug', 'recovery', '__p__'],\n",
    "            'data': [\n",
    "                ['female', 'no', 'no', 0.90],\n",
    "                ['female', 'no', 'yes', 0.10],\n",
    "                ['female', 'yes', 'no', 0.27],\n",
    "                ['female', 'yes', 'yes', 0.73],\n",
    "                ['male', 'no', 'no', 0.99],\n",
    "                ['male', 'no', 'yes', 0.01],\n",
    "                ['male', 'yes', 'no', 0.07],\n",
    "                ['male', 'yes', 'yes', 0.93]\n",
    "            ]\n",
    "        }\n",
    "    }\n",
    "    \n",
    "    model = create_reasoning_model(d, p)\n",
    "    return model\n",
    "\n",
    "model = get_model()"
   ]
  },
  {
   "cell_type": "code",
   "execution_count": 2,
   "id": "e797d365-8d9b-4cb0-a0e3-20b849871c9d",
   "metadata": {},
   "outputs": [],
   "source": [
    "q = model.pquery()"
   ]
  },
  {
   "cell_type": "code",
   "execution_count": 3,
   "id": "e454f081-f69f-4e81-b3c3-42f045e1ab7c",
   "metadata": {},
   "outputs": [
    {
     "data": {
      "text/html": [
       "<div>\n",
       "<style scoped>\n",
       "    .dataframe tbody tr th:only-of-type {\n",
       "        vertical-align: middle;\n",
       "    }\n",
       "\n",
       "    .dataframe tbody tr th {\n",
       "        vertical-align: top;\n",
       "    }\n",
       "\n",
       "    .dataframe thead th {\n",
       "        text-align: right;\n",
       "    }\n",
       "</style>\n",
       "<table border=\"1\" class=\"dataframe\">\n",
       "  <thead>\n",
       "    <tr style=\"text-align: right;\">\n",
       "      <th></th>\n",
       "      <th>gender</th>\n",
       "      <th>__p__</th>\n",
       "    </tr>\n",
       "  </thead>\n",
       "  <tbody>\n",
       "    <tr>\n",
       "      <th>0</th>\n",
       "      <td>female</td>\n",
       "      <td>0.49</td>\n",
       "    </tr>\n",
       "    <tr>\n",
       "      <th>1</th>\n",
       "      <td>male</td>\n",
       "      <td>0.51</td>\n",
       "    </tr>\n",
       "  </tbody>\n",
       "</table>\n",
       "</div>"
      ],
      "text/plain": [
       "   gender  __p__\n",
       "0  female   0.49\n",
       "1    male   0.51"
      ]
     },
     "execution_count": 3,
     "metadata": {},
     "output_type": "execute_result"
    }
   ],
   "source": [
    "q['gender']"
   ]
  },
  {
   "cell_type": "code",
   "execution_count": 4,
   "id": "8618bec2-cf96-47f5-afb9-e133aaa975d6",
   "metadata": {},
   "outputs": [
    {
     "data": {
      "text/html": [
       "<div>\n",
       "<style scoped>\n",
       "    .dataframe tbody tr th:only-of-type {\n",
       "        vertical-align: middle;\n",
       "    }\n",
       "\n",
       "    .dataframe tbody tr th {\n",
       "        vertical-align: top;\n",
       "    }\n",
       "\n",
       "    .dataframe thead th {\n",
       "        text-align: right;\n",
       "    }\n",
       "</style>\n",
       "<table border=\"1\" class=\"dataframe\">\n",
       "  <thead>\n",
       "    <tr style=\"text-align: right;\">\n",
       "      <th></th>\n",
       "      <th>drug</th>\n",
       "      <th>__p__</th>\n",
       "    </tr>\n",
       "  </thead>\n",
       "  <tbody>\n",
       "    <tr>\n",
       "      <th>0</th>\n",
       "      <td>no</td>\n",
       "      <td>0.5052</td>\n",
       "    </tr>\n",
       "    <tr>\n",
       "      <th>1</th>\n",
       "      <td>yes</td>\n",
       "      <td>0.4948</td>\n",
       "    </tr>\n",
       "  </tbody>\n",
       "</table>\n",
       "</div>"
      ],
      "text/plain": [
       "  drug   __p__\n",
       "0   no  0.5052\n",
       "1  yes  0.4948"
      ]
     },
     "execution_count": 4,
     "metadata": {},
     "output_type": "execute_result"
    }
   ],
   "source": [
    "q['drug']"
   ]
  },
  {
   "cell_type": "code",
   "execution_count": 5,
   "id": "49891456-17fd-408b-97fb-37ffb9a7587c",
   "metadata": {},
   "outputs": [
    {
     "data": {
      "text/html": [
       "<div>\n",
       "<style scoped>\n",
       "    .dataframe tbody tr th:only-of-type {\n",
       "        vertical-align: middle;\n",
       "    }\n",
       "\n",
       "    .dataframe tbody tr th {\n",
       "        vertical-align: top;\n",
       "    }\n",
       "\n",
       "    .dataframe thead th {\n",
       "        text-align: right;\n",
       "    }\n",
       "</style>\n",
       "<table border=\"1\" class=\"dataframe\">\n",
       "  <thead>\n",
       "    <tr style=\"text-align: right;\">\n",
       "      <th></th>\n",
       "      <th>recovery</th>\n",
       "      <th>__p__</th>\n",
       "    </tr>\n",
       "  </thead>\n",
       "  <tbody>\n",
       "    <tr>\n",
       "      <th>0</th>\n",
       "      <td>no</td>\n",
       "      <td>0.59868</td>\n",
       "    </tr>\n",
       "    <tr>\n",
       "      <th>1</th>\n",
       "      <td>yes</td>\n",
       "      <td>0.40132</td>\n",
       "    </tr>\n",
       "  </tbody>\n",
       "</table>\n",
       "</div>"
      ],
      "text/plain": [
       "  recovery    __p__\n",
       "0       no  0.59868\n",
       "1      yes  0.40132"
      ]
     },
     "execution_count": 5,
     "metadata": {},
     "output_type": "execute_result"
    }
   ],
   "source": [
    "q['recovery']"
   ]
  },
  {
   "cell_type": "code",
   "execution_count": 6,
   "id": "d21dca60-1ad0-43d5-a3ed-4db0fe17e273",
   "metadata": {},
   "outputs": [
    {
     "data": {
      "text/plain": [
       "(10000, 3)"
      ]
     },
     "execution_count": 6,
     "metadata": {},
     "output_type": "execute_result"
    }
   ],
   "source": [
    "import numpy as np\n",
    "\n",
    "N = 10_000\n",
    "Xy = model.sample(max_samples=N) \\\n",
    "    .assign(\n",
    "        gender=lambda d: d['gender'].map({'male': 1, 'female': 0}),\n",
    "        drug=lambda d: d['drug'].map({'yes': 1, 'no': 0}),\n",
    "        recovery=lambda d: d['recovery'].map({'yes': 1, 'no': 0})\n",
    "    )\n",
    "Xy.shape"
   ]
  },
  {
   "cell_type": "code",
   "execution_count": 7,
   "id": "8790081d-2330-43eb-9767-59cb7a419edc",
   "metadata": {},
   "outputs": [
    {
     "data": {
      "text/html": [
       "<div>\n",
       "<style scoped>\n",
       "    .dataframe tbody tr th:only-of-type {\n",
       "        vertical-align: middle;\n",
       "    }\n",
       "\n",
       "    .dataframe tbody tr th {\n",
       "        vertical-align: top;\n",
       "    }\n",
       "\n",
       "    .dataframe thead th {\n",
       "        text-align: right;\n",
       "    }\n",
       "</style>\n",
       "<table border=\"1\" class=\"dataframe\">\n",
       "  <thead>\n",
       "    <tr style=\"text-align: right;\">\n",
       "      <th></th>\n",
       "      <th>gender</th>\n",
       "      <th>drug</th>\n",
       "      <th>recovery</th>\n",
       "    </tr>\n",
       "  </thead>\n",
       "  <tbody>\n",
       "    <tr>\n",
       "      <th>0</th>\n",
       "      <td>1</td>\n",
       "      <td>0</td>\n",
       "      <td>0</td>\n",
       "    </tr>\n",
       "    <tr>\n",
       "      <th>1</th>\n",
       "      <td>1</td>\n",
       "      <td>1</td>\n",
       "      <td>1</td>\n",
       "    </tr>\n",
       "    <tr>\n",
       "      <th>2</th>\n",
       "      <td>0</td>\n",
       "      <td>1</td>\n",
       "      <td>0</td>\n",
       "    </tr>\n",
       "    <tr>\n",
       "      <th>3</th>\n",
       "      <td>1</td>\n",
       "      <td>1</td>\n",
       "      <td>1</td>\n",
       "    </tr>\n",
       "    <tr>\n",
       "      <th>4</th>\n",
       "      <td>0</td>\n",
       "      <td>1</td>\n",
       "      <td>1</td>\n",
       "    </tr>\n",
       "  </tbody>\n",
       "</table>\n",
       "</div>"
      ],
      "text/plain": [
       "   gender  drug  recovery\n",
       "0       1     0         0\n",
       "1       1     1         1\n",
       "2       0     1         0\n",
       "3       1     1         1\n",
       "4       0     1         1"
      ]
     },
     "execution_count": 7,
     "metadata": {},
     "output_type": "execute_result"
    }
   ],
   "source": [
    "Xy.head()"
   ]
  },
  {
   "cell_type": "code",
   "execution_count": 8,
   "id": "100cb35a-5ce3-4c29-9504-9d78655b6d82",
   "metadata": {},
   "outputs": [
    {
     "data": {
      "text/html": [
       "<div>\n",
       "<style scoped>\n",
       "    .dataframe tbody tr th:only-of-type {\n",
       "        vertical-align: middle;\n",
       "    }\n",
       "\n",
       "    .dataframe tbody tr th {\n",
       "        vertical-align: top;\n",
       "    }\n",
       "\n",
       "    .dataframe thead th {\n",
       "        text-align: right;\n",
       "    }\n",
       "</style>\n",
       "<table border=\"1\" class=\"dataframe\">\n",
       "  <thead>\n",
       "    <tr style=\"text-align: right;\">\n",
       "      <th></th>\n",
       "      <th>gender</th>\n",
       "      <th>drug</th>\n",
       "      <th>recovery</th>\n",
       "    </tr>\n",
       "  </thead>\n",
       "  <tbody>\n",
       "    <tr>\n",
       "      <th>count</th>\n",
       "      <td>10000.000000</td>\n",
       "      <td>10000.000000</td>\n",
       "      <td>10000.000000</td>\n",
       "    </tr>\n",
       "    <tr>\n",
       "      <th>mean</th>\n",
       "      <td>0.507700</td>\n",
       "      <td>0.494700</td>\n",
       "      <td>0.400700</td>\n",
       "    </tr>\n",
       "    <tr>\n",
       "      <th>std</th>\n",
       "      <td>0.499966</td>\n",
       "      <td>0.499997</td>\n",
       "      <td>0.490065</td>\n",
       "    </tr>\n",
       "    <tr>\n",
       "      <th>min</th>\n",
       "      <td>0.000000</td>\n",
       "      <td>0.000000</td>\n",
       "      <td>0.000000</td>\n",
       "    </tr>\n",
       "    <tr>\n",
       "      <th>25%</th>\n",
       "      <td>0.000000</td>\n",
       "      <td>0.000000</td>\n",
       "      <td>0.000000</td>\n",
       "    </tr>\n",
       "    <tr>\n",
       "      <th>50%</th>\n",
       "      <td>1.000000</td>\n",
       "      <td>0.000000</td>\n",
       "      <td>0.000000</td>\n",
       "    </tr>\n",
       "    <tr>\n",
       "      <th>75%</th>\n",
       "      <td>1.000000</td>\n",
       "      <td>1.000000</td>\n",
       "      <td>1.000000</td>\n",
       "    </tr>\n",
       "    <tr>\n",
       "      <th>max</th>\n",
       "      <td>1.000000</td>\n",
       "      <td>1.000000</td>\n",
       "      <td>1.000000</td>\n",
       "    </tr>\n",
       "  </tbody>\n",
       "</table>\n",
       "</div>"
      ],
      "text/plain": [
       "             gender          drug      recovery\n",
       "count  10000.000000  10000.000000  10000.000000\n",
       "mean       0.507700      0.494700      0.400700\n",
       "std        0.499966      0.499997      0.490065\n",
       "min        0.000000      0.000000      0.000000\n",
       "25%        0.000000      0.000000      0.000000\n",
       "50%        1.000000      0.000000      0.000000\n",
       "75%        1.000000      1.000000      1.000000\n",
       "max        1.000000      1.000000      1.000000"
      ]
     },
     "execution_count": 8,
     "metadata": {},
     "output_type": "execute_result"
    }
   ],
   "source": [
    "Xy.describe()"
   ]
  },
  {
   "cell_type": "markdown",
   "id": "ee4f8374-6431-45fa-a2a7-12bd8626de87",
   "metadata": {},
   "source": [
    "## Prediction model"
   ]
  },
  {
   "cell_type": "code",
   "execution_count": 9,
   "id": "f4c2c616-ee2c-46c7-b19a-24e1f61c99c6",
   "metadata": {},
   "outputs": [],
   "source": [
    "from sklearn.ensemble import RandomForestClassifier, RandomForestRegressor\n",
    "\n",
    "X_p, y_p = Xy[['gender', 'drug']], Xy['recovery']\n",
    "\n",
    "p_model = RandomForestClassifier(n_estimators=500, class_weight='balanced', n_jobs=-1, random_state=37) \\\n",
    "    .fit(X_p, y_p)"
   ]
  },
  {
   "cell_type": "code",
   "execution_count": 10,
   "id": "43505447-4f87-4ab0-aa96-d55fa61b5bd4",
   "metadata": {},
   "outputs": [
    {
     "data": {
      "text/plain": [
       "(0.504534031072188, 0.4034913610586378)"
      ]
     },
     "execution_count": 10,
     "metadata": {},
     "output_type": "execute_result"
    }
   ],
   "source": [
    "from sklearn.metrics import roc_auc_score, average_precision_score\n",
    "\n",
    "roc_auc_score(y_p, p_model.predict_proba(X_p)[:,1]), average_precision_score(y_p, p_model.predict_proba(X_p)[:,1])"
   ]
  },
  {
   "cell_type": "markdown",
   "id": "eff28739-89ca-41f7-94f8-7d2ca1bc5893",
   "metadata": {},
   "source": [
    "## Counterfactual 1\n",
    "\n",
    "- f: did not take pill, did not recover\n",
    "- cf: take pill\n",
    "- 16% chance recovery had taken pill (male)\n",
    "- 67% chance recovery had taken pill (female)"
   ]
  },
  {
   "cell_type": "code",
   "execution_count": 20,
   "id": "ff158671-6991-4903-87f0-a4a233344325",
   "metadata": {},
   "outputs": [
    {
     "data": {
      "text/plain": [
       "(array([-0.50435072, -0.49564928]),\n",
       " array([0.49951073, 0.50048927]),\n",
       " array([-0.00483998,  0.00483998]))"
      ]
     },
     "execution_count": 20,
     "metadata": {},
     "output_type": "execute_result"
    }
   ],
   "source": [
    "import pandas as pd\n",
    "\n",
    "def to_df(v, c):\n",
    "    return pd.DataFrame([v], columns=c)\n",
    "\n",
    "g, d, r = 1, 0, 0\n",
    "\n",
    "a_pred = (r - p_model.predict_proba(to_df([g, d], ['gender', 'drug'])))[0]\n",
    "p_pred = p_model.predict_proba(to_df([g, 1], ['gender', 'drug']))[0]\n",
    "\n",
    "a_pred, p_pred, p_pred + a_pred"
   ]
  },
  {
   "cell_type": "code",
   "execution_count": 21,
   "id": "3af45d22-2be9-4101-bcba-014feeb05e5a",
   "metadata": {},
   "outputs": [
    {
     "data": {
      "text/plain": [
       "(array([-0.49351408, -0.50648592]),\n",
       " array([0.50449366, 0.49550634]),\n",
       " array([ 0.01097958, -0.01097958]))"
      ]
     },
     "execution_count": 21,
     "metadata": {},
     "output_type": "execute_result"
    }
   ],
   "source": [
    "g, d, r = 0, 0, 0\n",
    "\n",
    "a_pred = (r - p_model.predict_proba(to_df([g, d], ['gender', 'drug'])))[0]\n",
    "p_pred = p_model.predict_proba(to_df([g, 1], ['gender', 'drug']))[0]\n",
    "\n",
    "a_pred, p_pred, p_pred + a_pred"
   ]
  },
  {
   "cell_type": "code",
   "execution_count": 23,
   "id": "fe89efe7-c817-4fc5-b4db-a05f3c1a4ebb",
   "metadata": {},
   "outputs": [
    {
     "data": {
      "text/plain": [
       "(array([0.49550634, 0.50449366]),\n",
       " array([0.49351408, 0.50648592]),\n",
       " array([0.98902042, 1.01097958]))"
      ]
     },
     "execution_count": 23,
     "metadata": {},
     "output_type": "execute_result"
    }
   ],
   "source": [
    "g, d, r = 0, 1, 1\n",
    "\n",
    "a_pred = (r - p_model.predict_proba(to_df([g, d], ['gender', 'drug'])))[0]\n",
    "p_pred = p_model.predict_proba(to_df([g, 0], ['gender', 'drug']))[0]\n",
    "\n",
    "a_pred, p_pred, p_pred + a_pred"
   ]
  },
  {
   "cell_type": "code",
   "execution_count": null,
   "id": "ec6e7dee-7fe9-4dcd-94e3-ab891946ec34",
   "metadata": {},
   "outputs": [],
   "source": []
  }
 ],
 "metadata": {
  "kernelspec": {
   "display_name": "Python 3 (ipykernel)",
   "language": "python",
   "name": "python3"
  },
  "language_info": {
   "codemirror_mode": {
    "name": "ipython",
    "version": 3
   },
   "file_extension": ".py",
   "mimetype": "text/x-python",
   "name": "python",
   "nbconvert_exporter": "python",
   "pygments_lexer": "ipython3",
   "version": "3.11.5"
  },
  "widgets": {
   "application/vnd.jupyter.widget-state+json": {
    "state": {},
    "version_major": 2,
    "version_minor": 0
   }
  }
 },
 "nbformat": 4,
 "nbformat_minor": 5
}
