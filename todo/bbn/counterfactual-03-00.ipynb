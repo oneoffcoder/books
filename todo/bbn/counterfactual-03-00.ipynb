{
 "cells": [
  {
   "cell_type": "markdown",
   "id": "29c42b9c-e8e7-494b-acea-a839c6939144",
   "metadata": {},
   "source": [
    "# Estimating counterfactuals"
   ]
  },
  {
   "cell_type": "markdown",
   "id": "3fd2429e-ca47-4022-8035-eff8598504e3",
   "metadata": {},
   "source": [
    "## Reasoning model"
   ]
  },
  {
   "cell_type": "code",
   "execution_count": 1,
   "id": "eb048f27-2c19-47ba-b1d5-b9bb8d9294e4",
   "metadata": {},
   "outputs": [],
   "source": [
    "from pybbn.probabilistic import create_reasoning_model\n",
    "\n",
    "def get_model():\n",
    "    d = {\n",
    "        'nodes': ['drug', 'gender', 'recovery'],\n",
    "        'edges': [('gender', 'drug'), ('gender', 'recovery'), ('drug', 'recovery')]\n",
    "    }\n",
    "    \n",
    "    p = {\n",
    "        'gender': {\n",
    "            'columns': ['gender', '__p__'],\n",
    "            'data': [\n",
    "                ['male', 0.51], ['female', 0.49]\n",
    "            ]\n",
    "        },\n",
    "        'drug': {\n",
    "            'columns': ['gender', 'drug', '__p__'],\n",
    "            'data': [\n",
    "                ['female', 'no', 0.24],\n",
    "                ['female', 'yes', 0.76],\n",
    "                ['male', 'no', 0.76],\n",
    "                ['male', 'yes', 0.24]\n",
    "            ]\n",
    "        },\n",
    "        'recovery': {\n",
    "            'columns': ['gender', 'drug', 'recovery', '__p__'],\n",
    "            'data': [\n",
    "                ['female', 'no', 'no', 0.90],\n",
    "                ['female', 'no', 'yes', 0.10],\n",
    "                ['female', 'yes', 'no', 0.27],\n",
    "                ['female', 'yes', 'yes', 0.73],\n",
    "                ['male', 'no', 'no', 0.99],\n",
    "                ['male', 'no', 'yes', 0.01],\n",
    "                ['male', 'yes', 'no', 0.07],\n",
    "                ['male', 'yes', 'yes', 0.93]\n",
    "            ]\n",
    "        }\n",
    "    }\n",
    "    \n",
    "    model = create_reasoning_model(d, p)\n",
    "    return model\n",
    "\n",
    "model = get_model()"
   ]
  },
  {
   "cell_type": "markdown",
   "id": "e267fa0d-90a4-4a42-98fc-210cfb840dbf",
   "metadata": {},
   "source": [
    "## Data simulation"
   ]
  },
  {
   "cell_type": "code",
   "execution_count": 2,
   "id": "e08f8aaa-22eb-48be-991b-3f553b1d2957",
   "metadata": {},
   "outputs": [
    {
     "data": {
      "text/plain": [
       "(10000, 3)"
      ]
     },
     "execution_count": 2,
     "metadata": {},
     "output_type": "execute_result"
    }
   ],
   "source": [
    "N = 10_000\n",
    "Xy = model.sample(max_samples=N)\n",
    "Xy.shape"
   ]
  },
  {
   "cell_type": "code",
   "execution_count": 3,
   "id": "8790081d-2330-43eb-9767-59cb7a419edc",
   "metadata": {},
   "outputs": [
    {
     "data": {
      "text/html": [
       "<div>\n",
       "<style scoped>\n",
       "    .dataframe tbody tr th:only-of-type {\n",
       "        vertical-align: middle;\n",
       "    }\n",
       "\n",
       "    .dataframe tbody tr th {\n",
       "        vertical-align: top;\n",
       "    }\n",
       "\n",
       "    .dataframe thead th {\n",
       "        text-align: right;\n",
       "    }\n",
       "</style>\n",
       "<table border=\"1\" class=\"dataframe\">\n",
       "  <thead>\n",
       "    <tr style=\"text-align: right;\">\n",
       "      <th></th>\n",
       "      <th>gender</th>\n",
       "      <th>drug</th>\n",
       "      <th>recovery</th>\n",
       "    </tr>\n",
       "  </thead>\n",
       "  <tbody>\n",
       "    <tr>\n",
       "      <th>0</th>\n",
       "      <td>male</td>\n",
       "      <td>no</td>\n",
       "      <td>no</td>\n",
       "    </tr>\n",
       "    <tr>\n",
       "      <th>1</th>\n",
       "      <td>male</td>\n",
       "      <td>yes</td>\n",
       "      <td>yes</td>\n",
       "    </tr>\n",
       "    <tr>\n",
       "      <th>2</th>\n",
       "      <td>female</td>\n",
       "      <td>yes</td>\n",
       "      <td>no</td>\n",
       "    </tr>\n",
       "    <tr>\n",
       "      <th>3</th>\n",
       "      <td>male</td>\n",
       "      <td>yes</td>\n",
       "      <td>yes</td>\n",
       "    </tr>\n",
       "    <tr>\n",
       "      <th>4</th>\n",
       "      <td>female</td>\n",
       "      <td>yes</td>\n",
       "      <td>yes</td>\n",
       "    </tr>\n",
       "  </tbody>\n",
       "</table>\n",
       "</div>"
      ],
      "text/plain": [
       "   gender drug recovery\n",
       "0    male   no       no\n",
       "1    male  yes      yes\n",
       "2  female  yes       no\n",
       "3    male  yes      yes\n",
       "4  female  yes      yes"
      ]
     },
     "execution_count": 3,
     "metadata": {},
     "output_type": "execute_result"
    }
   ],
   "source": [
    "Xy.head()"
   ]
  },
  {
   "cell_type": "markdown",
   "id": "105d41ae-15cc-41d6-ba10-2e3320b42530",
   "metadata": {},
   "source": [
    "## Learn hidden node"
   ]
  },
  {
   "cell_type": "code",
   "execution_count": 4,
   "id": "e3b75f93-d822-4ca1-8433-8e1df5d292a8",
   "metadata": {},
   "outputs": [
    {
     "data": {
      "text/plain": [
       "(10000, 4)"
      ]
     },
     "execution_count": 4,
     "metadata": {},
     "output_type": "execute_result"
    }
   ],
   "source": [
    "import pandas as pd\n",
    "import numpy as np\n",
    "from sklearn.cluster import KMeans\n",
    "\n",
    "def learn_hidden_node(n_clusters, Xy):\n",
    "    X = pd.get_dummies(Xy).map(int)\n",
    "\n",
    "    if n_clusters == 'auto':\n",
    "        u_records = X.drop_duplicates().shape[0]\n",
    "        u_values = Xy['recovery'].unique().shape[0]\n",
    "        n_clusters = (u_records + u_values) / 2.0\n",
    "        n_clusters = np.round(n_clusters)\n",
    "        n_clusters = int(n_clusters)\n",
    "        \n",
    "    n_unique = X.drop_duplicates().shape[0]\n",
    "    if n_clusters > n_unique:\n",
    "        n_clusters = n_unique\n",
    "\n",
    "    n_unique = Xy['recovery'].unique().shape[0]\n",
    "    if n_clusters < n_unique:\n",
    "        n_clusters = n_unique\n",
    "    \n",
    "    k = KMeans(n_init='auto', n_clusters=n_clusters, max_iter=1_000, random_state=37).fit(X)\n",
    "    c = k.predict(X)\n",
    "    \n",
    "    return Xy.assign(**{'__u__': [f'c{label}' for label in c]})\n",
    "\n",
    "Xy = learn_hidden_node('auto', Xy)\n",
    "Xy.shape"
   ]
  },
  {
   "cell_type": "code",
   "execution_count": 6,
   "id": "340a400e-5708-456c-865c-ec3800bf5979",
   "metadata": {},
   "outputs": [
    {
     "data": {
      "text/html": [
       "<div>\n",
       "<style scoped>\n",
       "    .dataframe tbody tr th:only-of-type {\n",
       "        vertical-align: middle;\n",
       "    }\n",
       "\n",
       "    .dataframe tbody tr th {\n",
       "        vertical-align: top;\n",
       "    }\n",
       "\n",
       "    .dataframe thead th {\n",
       "        text-align: right;\n",
       "    }\n",
       "</style>\n",
       "<table border=\"1\" class=\"dataframe\">\n",
       "  <thead>\n",
       "    <tr style=\"text-align: right;\">\n",
       "      <th></th>\n",
       "      <th>gender</th>\n",
       "      <th>drug</th>\n",
       "      <th>recovery</th>\n",
       "      <th>__u__</th>\n",
       "    </tr>\n",
       "  </thead>\n",
       "  <tbody>\n",
       "    <tr>\n",
       "      <th>0</th>\n",
       "      <td>male</td>\n",
       "      <td>no</td>\n",
       "      <td>no</td>\n",
       "      <td>c1</td>\n",
       "    </tr>\n",
       "    <tr>\n",
       "      <th>1</th>\n",
       "      <td>male</td>\n",
       "      <td>yes</td>\n",
       "      <td>yes</td>\n",
       "      <td>c0</td>\n",
       "    </tr>\n",
       "    <tr>\n",
       "      <th>2</th>\n",
       "      <td>female</td>\n",
       "      <td>yes</td>\n",
       "      <td>no</td>\n",
       "      <td>c3</td>\n",
       "    </tr>\n",
       "    <tr>\n",
       "      <th>3</th>\n",
       "      <td>male</td>\n",
       "      <td>yes</td>\n",
       "      <td>yes</td>\n",
       "      <td>c0</td>\n",
       "    </tr>\n",
       "    <tr>\n",
       "      <th>4</th>\n",
       "      <td>female</td>\n",
       "      <td>yes</td>\n",
       "      <td>yes</td>\n",
       "      <td>c0</td>\n",
       "    </tr>\n",
       "  </tbody>\n",
       "</table>\n",
       "</div>"
      ],
      "text/plain": [
       "   gender drug recovery __u__\n",
       "0    male   no       no    c1\n",
       "1    male  yes      yes    c0\n",
       "2  female  yes       no    c3\n",
       "3    male  yes      yes    c0\n",
       "4  female  yes      yes    c0"
      ]
     },
     "execution_count": 6,
     "metadata": {},
     "output_type": "execute_result"
    }
   ],
   "source": [
    "Xy.head()"
   ]
  },
  {
   "cell_type": "markdown",
   "id": "8dc27078-988d-4ac5-a5d3-d26f35ae45c2",
   "metadata": {},
   "source": [
    "## Build SCM"
   ]
  },
  {
   "cell_type": "code",
   "execution_count": 7,
   "id": "8fde256d-6c26-48ce-af0b-5e2169039d58",
   "metadata": {},
   "outputs": [],
   "source": [
    "import itertools\n",
    "\n",
    "def get_cpt_with_parents(y, parents, df):\n",
    "    pa_domains = {pa: sorted(list(df[pa].unique())) for pa in parents}\n",
    "    y_domain = sorted(list(df[y].unique()))\n",
    "\n",
    "    N = df.shape[0]\n",
    "    data = []\n",
    "    for pa_v in itertools.product(*[pa_domains[pa] for pa in parents]):\n",
    "        for y_v in y_domain:\n",
    "            q_pa = ' and '.join([f'{_pa}==\"{_pa_v}\"' for _pa, _pa_v in zip(parents, pa_v)])\n",
    "            q_joint = f'{q_pa} and {y}==\"{y_v}\"'\n",
    "\n",
    "            p_pa = df.query(q_pa).shape[0]\n",
    "            p_joint = df.query(q_joint).shape[0]\n",
    "\n",
    "            p = p_joint / p_pa if p_pa != 0 else 0\n",
    "\n",
    "            row = list(pa_v) + [y_v, p]\n",
    "            data.append(row)\n",
    "\n",
    "    return {\n",
    "        'columns': parents + [y, '__p__'],\n",
    "        'data': data\n",
    "    }\n",
    "\n",
    "def get_cpt_without_parents(y, df):\n",
    "    n = df[y].value_counts().sort_index()\n",
    "    p = n / df.shape[0]\n",
    "    return {\n",
    "        'columns': [y, '__p__'],\n",
    "        'data': [[_i, _v] for _i, _v in zip(p.index, p.values)]\n",
    "    }\n",
    "\n",
    "def get_cpt(y, parents, df):\n",
    "    if len(parents) == 0:\n",
    "        return get_cpt_without_parents(y, df)\n",
    "    else:\n",
    "        return get_cpt_with_parents(y, parents, df)\n",
    "\n",
    "def get_scm_parameters(y, parents, df, model):\n",
    "    p = {p: model.node_potentials[p].to_dict('split', index=False) for p in parents}\n",
    "    p['__u__'] = get_cpt('__u__', [], df)\n",
    "    p[y] = get_cpt(y, parents + ['__u__'], df)\n",
    "\n",
    "    return p\n",
    "\n",
    "def get_scm_graph(y, parents, model):\n",
    "    d = model.d.copy()\n",
    "\n",
    "    include_nodes = set(parents + [y])\n",
    "    all_nodes = set(d.nodes())\n",
    "    for n in all_nodes:\n",
    "        if n not in include_nodes:\n",
    "            d.remove_node(n)\n",
    "    \n",
    "    d.add_node('__u__')\n",
    "    d.add_edge('__u__', y)\n",
    "    \n",
    "    return d\n",
    "\n",
    "def get_scm(y, parents, Xy, model):\n",
    "    d = get_scm_graph(y, parents, model)\n",
    "    p = get_scm_parameters(y, parents, Xy, model)\n",
    "    m = create_reasoning_model(d, p)\n",
    "    return m\n",
    "\n",
    "scm_model = get_scm('recovery', ['gender', 'drug'], Xy, model)"
   ]
  },
  {
   "cell_type": "markdown",
   "id": "38c1bbb6-651a-4aae-8cab-39f35edfee7c",
   "metadata": {},
   "source": [
    "## Abduction"
   ]
  },
  {
   "cell_type": "code",
   "execution_count": 8,
   "id": "e6edbc8f-8b77-489a-805d-9cf20129749b",
   "metadata": {},
   "outputs": [
    {
     "data": {
      "text/html": [
       "<div>\n",
       "<style scoped>\n",
       "    .dataframe tbody tr th:only-of-type {\n",
       "        vertical-align: middle;\n",
       "    }\n",
       "\n",
       "    .dataframe tbody tr th {\n",
       "        vertical-align: top;\n",
       "    }\n",
       "\n",
       "    .dataframe thead th {\n",
       "        text-align: right;\n",
       "    }\n",
       "</style>\n",
       "<table border=\"1\" class=\"dataframe\">\n",
       "  <thead>\n",
       "    <tr style=\"text-align: right;\">\n",
       "      <th></th>\n",
       "      <th>__u__</th>\n",
       "      <th>__p__</th>\n",
       "    </tr>\n",
       "  </thead>\n",
       "  <tbody>\n",
       "    <tr>\n",
       "      <th>0</th>\n",
       "      <td>c0</td>\n",
       "      <td>0.996020</td>\n",
       "    </tr>\n",
       "    <tr>\n",
       "      <th>1</th>\n",
       "      <td>c1</td>\n",
       "      <td>0.000995</td>\n",
       "    </tr>\n",
       "    <tr>\n",
       "      <th>2</th>\n",
       "      <td>c2</td>\n",
       "      <td>0.000995</td>\n",
       "    </tr>\n",
       "    <tr>\n",
       "      <th>3</th>\n",
       "      <td>c3</td>\n",
       "      <td>0.000995</td>\n",
       "    </tr>\n",
       "    <tr>\n",
       "      <th>4</th>\n",
       "      <td>c4</td>\n",
       "      <td>0.000995</td>\n",
       "    </tr>\n",
       "  </tbody>\n",
       "</table>\n",
       "</div>"
      ],
      "text/plain": [
       "  __u__     __p__\n",
       "0    c0  0.996020\n",
       "1    c1  0.000995\n",
       "2    c2  0.000995\n",
       "3    c3  0.000995\n",
       "4    c4  0.000995"
      ]
     },
     "execution_count": 8,
     "metadata": {},
     "output_type": "execute_result"
    }
   ],
   "source": [
    "_e = scm_model.get_observation_evidences({'gender': 'male', 'drug': 'yes', 'recovery': 'yes'})\n",
    "u = scm_model.pquery(['__u__'], evidences=_e)['__u__'] \\\n",
    "    .assign(**{'__p__': lambda d: d['__p__'] + 0.001}) \\\n",
    "    .assign(**{'__p__': lambda d: d['__p__'] / d['__p__'].sum()})\n",
    "u"
   ]
  },
  {
   "cell_type": "markdown",
   "id": "6486711d-b1f6-4a43-abe7-ed5ee13aeed0",
   "metadata": {},
   "source": [
    "## Prediction"
   ]
  },
  {
   "cell_type": "code",
   "execution_count": 9,
   "id": "2ac9e8a3-adb9-4d6b-b36b-2c235cb48ea6",
   "metadata": {},
   "outputs": [
    {
     "data": {
      "text/html": [
       "<div>\n",
       "<style scoped>\n",
       "    .dataframe tbody tr th:only-of-type {\n",
       "        vertical-align: middle;\n",
       "    }\n",
       "\n",
       "    .dataframe tbody tr th {\n",
       "        vertical-align: top;\n",
       "    }\n",
       "\n",
       "    .dataframe thead th {\n",
       "        text-align: right;\n",
       "    }\n",
       "</style>\n",
       "<table border=\"1\" class=\"dataframe\">\n",
       "  <thead>\n",
       "    <tr style=\"text-align: right;\">\n",
       "      <th></th>\n",
       "      <th>recovery</th>\n",
       "      <th>__p__</th>\n",
       "    </tr>\n",
       "  </thead>\n",
       "  <tbody>\n",
       "    <tr>\n",
       "      <th>0</th>\n",
       "      <td>no</td>\n",
       "      <td>0.603564</td>\n",
       "    </tr>\n",
       "    <tr>\n",
       "      <th>1</th>\n",
       "      <td>yes</td>\n",
       "      <td>0.396436</td>\n",
       "    </tr>\n",
       "  </tbody>\n",
       "</table>\n",
       "</div>"
      ],
      "text/plain": [
       "  recovery     __p__\n",
       "0       no  0.603564\n",
       "1      yes  0.396436"
      ]
     },
     "execution_count": 9,
     "metadata": {},
     "output_type": "execute_result"
    }
   ],
   "source": [
    "_e = scm_model.get_observation_evidences({'gender': 'male', 'drug': 'no'})\n",
    "_e['__u__'] = u\n",
    "\n",
    "scm_model.pquery(['recovery'], evidences=_e)['recovery']"
   ]
  },
  {
   "cell_type": "code",
   "execution_count": null,
   "id": "3af45d22-2be9-4101-bcba-014feeb05e5a",
   "metadata": {},
   "outputs": [],
   "source": []
  }
 ],
 "metadata": {
  "kernelspec": {
   "display_name": "Python 3 (ipykernel)",
   "language": "python",
   "name": "python3"
  },
  "language_info": {
   "codemirror_mode": {
    "name": "ipython",
    "version": 3
   },
   "file_extension": ".py",
   "mimetype": "text/x-python",
   "name": "python",
   "nbconvert_exporter": "python",
   "pygments_lexer": "ipython3",
   "version": "3.11.5"
  },
  "widgets": {
   "application/vnd.jupyter.widget-state+json": {
    "state": {},
    "version_major": 2,
    "version_minor": 0
   }
  }
 },
 "nbformat": 4,
 "nbformat_minor": 5
}
