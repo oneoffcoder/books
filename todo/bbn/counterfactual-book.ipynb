{
 "cells": [
  {
   "cell_type": "code",
   "execution_count": 31,
   "id": "ba9f1769-108c-426d-8983-00fe86b021a8",
   "metadata": {},
   "outputs": [
    {
     "data": {
      "text/plain": [
       "(10000, 3)"
      ]
     },
     "execution_count": 31,
     "metadata": {},
     "output_type": "execute_result"
    }
   ],
   "source": [
    "import numpy as np\n",
    "import pandas as pd\n",
    "\n",
    "np.random.seed(37)\n",
    "N = 10_000\n",
    "\n",
    "Xy = pd.DataFrame({'X': np.random.normal(0, 1, size=N)}) \\\n",
    "    .assign(H=lambda d: np.random.normal(0.5 * d['X'])) \\\n",
    "    .assign(Y=lambda d: np.random.normal(0.7 * d['X'] + 0.4 * d['H']))\n",
    "\n",
    "Xy.shape"
   ]
  },
  {
   "cell_type": "code",
   "execution_count": 32,
   "id": "8c7ead51-dcfa-4018-88aa-d9e0ca3a2321",
   "metadata": {},
   "outputs": [
    {
     "data": {
      "text/html": [
       "<div>\n",
       "<style scoped>\n",
       "    .dataframe tbody tr th:only-of-type {\n",
       "        vertical-align: middle;\n",
       "    }\n",
       "\n",
       "    .dataframe tbody tr th {\n",
       "        vertical-align: top;\n",
       "    }\n",
       "\n",
       "    .dataframe thead th {\n",
       "        text-align: right;\n",
       "    }\n",
       "</style>\n",
       "<table border=\"1\" class=\"dataframe\">\n",
       "  <thead>\n",
       "    <tr style=\"text-align: right;\">\n",
       "      <th></th>\n",
       "      <th>X</th>\n",
       "      <th>H</th>\n",
       "      <th>Y</th>\n",
       "    </tr>\n",
       "  </thead>\n",
       "  <tbody>\n",
       "    <tr>\n",
       "      <th>0</th>\n",
       "      <td>-0.054464</td>\n",
       "      <td>0.106650</td>\n",
       "      <td>0.226980</td>\n",
       "    </tr>\n",
       "    <tr>\n",
       "      <th>1</th>\n",
       "      <td>0.674308</td>\n",
       "      <td>-0.624299</td>\n",
       "      <td>1.034886</td>\n",
       "    </tr>\n",
       "    <tr>\n",
       "      <th>2</th>\n",
       "      <td>0.346647</td>\n",
       "      <td>0.069607</td>\n",
       "      <td>0.869452</td>\n",
       "    </tr>\n",
       "    <tr>\n",
       "      <th>3</th>\n",
       "      <td>-1.300346</td>\n",
       "      <td>-0.795850</td>\n",
       "      <td>-2.299419</td>\n",
       "    </tr>\n",
       "    <tr>\n",
       "      <th>4</th>\n",
       "      <td>1.518512</td>\n",
       "      <td>-0.291432</td>\n",
       "      <td>0.576593</td>\n",
       "    </tr>\n",
       "  </tbody>\n",
       "</table>\n",
       "</div>"
      ],
      "text/plain": [
       "          X         H         Y\n",
       "0 -0.054464  0.106650  0.226980\n",
       "1  0.674308 -0.624299  1.034886\n",
       "2  0.346647  0.069607  0.869452\n",
       "3 -1.300346 -0.795850 -2.299419\n",
       "4  1.518512 -0.291432  0.576593"
      ]
     },
     "execution_count": 32,
     "metadata": {},
     "output_type": "execute_result"
    }
   ],
   "source": [
    "Xy.head()"
   ]
  },
  {
   "cell_type": "code",
   "execution_count": 38,
   "id": "8d76d853-72c3-4b51-8e17-3ecf62234a59",
   "metadata": {},
   "outputs": [
    {
     "data": {
      "text/plain": [
       "array([0.64409077, 0.35590923])"
      ]
     },
     "execution_count": 38,
     "metadata": {},
     "output_type": "execute_result"
    }
   ],
   "source": [
    "from sklearn.ensemble import RandomForestRegressor\n",
    "from sklearn.linear_model import LinearRegression\n",
    "\n",
    "X, y = Xy[['X', 'H']], Xy['Y']\n",
    "\n",
    "m = RandomForestRegressor(n_jobs=-1, random_state=37).fit(X, y)\n",
    "m.feature_importances_\n",
    "\n",
    "# m = LinearRegression(fit_intercept=False, n_jobs=-1).fit(X, y)\n",
    "# m.coef_"
   ]
  },
  {
   "cell_type": "code",
   "execution_count": 41,
   "id": "4944cbbb-3689-4afe-8bc2-aac2463b9ef6",
   "metadata": {},
   "outputs": [
    {
     "data": {
      "text/plain": [
       "u_y       0.254300\n",
       "y_pred    1.992901\n",
       "y_cf      2.247202\n",
       "dtype: float64"
      ]
     },
     "execution_count": 41,
     "metadata": {},
     "output_type": "execute_result"
    }
   ],
   "source": [
    "def to_df(v, c):\n",
    "    return pd.DataFrame([v], columns=c)\n",
    "\n",
    "x, h, y = 0.5, 1, 1.5\n",
    "\n",
    "u_y = y - m.predict(to_df([x, h], ['X', 'H']))[0]\n",
    "y_pred = m.predict(to_df([x, 2], ['X', 'H']))[0]\n",
    "\n",
    "pd.Series({\n",
    "    'u_y': u_y,\n",
    "    'y_pred': y_pred,\n",
    "    'y_cf': y_pred + u_y\n",
    "})"
   ]
  },
  {
   "cell_type": "code",
   "execution_count": null,
   "id": "f6d3351f-f329-4ac4-832a-2e1e3a547c38",
   "metadata": {},
   "outputs": [],
   "source": []
  }
 ],
 "metadata": {
  "kernelspec": {
   "display_name": "Python 3 (ipykernel)",
   "language": "python",
   "name": "python3"
  },
  "language_info": {
   "codemirror_mode": {
    "name": "ipython",
    "version": 3
   },
   "file_extension": ".py",
   "mimetype": "text/x-python",
   "name": "python",
   "nbconvert_exporter": "python",
   "pygments_lexer": "ipython3",
   "version": "3.11.6"
  },
  "widgets": {
   "application/vnd.jupyter.widget-state+json": {
    "state": {},
    "version_major": 2,
    "version_minor": 0
   }
  }
 },
 "nbformat": 4,
 "nbformat_minor": 5
}
