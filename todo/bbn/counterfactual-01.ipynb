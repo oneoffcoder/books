{
 "cells": [
  {
   "cell_type": "markdown",
   "id": "29c42b9c-e8e7-494b-acea-a839c6939144",
   "metadata": {},
   "source": [
    "# Estimating counterfactuals\n",
    "\n",
    "## Background\n",
    "\n",
    "Estimating counterfactuals is done in 3 steps.\n",
    "\n",
    "1. Abduction: compute $P(U|e)$, where $U$ is the noise (latent/hidden variable) and $e$ is the evidence (factual; what actually happened)\n",
    "2. Action: modify the (causal) graph, $M$, to be $M_x$ based on the hypothetical (counterfactual; had something else happened)\n",
    "3. Prediction: predict the result using the results from abduction and action\n",
    "\n",
    "Denote the following binary variables.\n",
    "\n",
    "- $G$ is gender\n",
    "- $D$ is whether the drug/medication was taken\n",
    "- $R$ is whether the patient recovered\n",
    "\n",
    "The causal graph has the following relationships.\n",
    "\n",
    "- $G \\rightarrow D$\n",
    "- $G \\rightarrow R$\n",
    "- $D \\rightarrow R$\n",
    "\n",
    "The (deterministic) Structural Causal Model (SCM) is specified as below.\n",
    "\n",
    "- $G = f_G(U_G) = U_G$\n",
    "- $D = f_D(G, U_D) = \\alpha G + U_D$\n",
    "- $R = f_R(G, D, U_R) = \\beta G + \\gamma D + U_R$\n",
    "\n",
    "Notice the $U = \\{ U_G, U_D, U_R \\}$ are errors, noise, hidden or latent variables. They are the carriers of information to make counterfactual computation works. They are so crucial, we need to estimate them. In the SCM above, we can use algebra to manipulate the equations so that the noise variables become the dependent variable.\n",
    "\n",
    "- $U_G = G$\n",
    "- $U_D = D - \\alpha G$\n",
    "- $U_R = R - (\\beta G + \\gamma D)$\n",
    "\n",
    "Estimating the $U$ is the abduction step. Now, why is estimating the $U$ important? It is the variance of the world at the time of the factual. The hypothetical concerns doing something differently with the same conditions at the time of the factual. Abduction is done with the evidence (what we actually observed or happened; the factual); in words, we compute $U$ from what actually happend $\\{ G=g, D=d, R=r \\}$.\n",
    "\n",
    "Onto the action step, that's the hypothetical action/change (the counterfactual). In the graphical sense, it is the `do` operator. If our counterfactual concerns $D$, then we can denote the action as $D^*=d'$.\n",
    "\n",
    "In the prediction step, we use what we have from abduction and action to make the prediction.\n",
    "\n",
    "$R = \\beta g + \\gamma d' + U_R$\n",
    "\n",
    "Stare at this equation. $U_R$ is computed from the factual; $d'$ is the counterfactual; $g$ is also part of the factual.\n",
    "\n",
    "## Experimentation\n",
    "\n",
    "- Instrumental Variable (IV)\n",
    "  - https://www.sciencedirect.com/topics/medicine-and-dentistry/instrumental-variable-analysis#:~:text=Unlike%20an%20observed%20control%20variable,selection%20into%20the%20treatment%20condition.\n",
    "- Additive Noise Model (ANM)\n",
    "  - https://proceedings.mlr.press/v104/assaad19a/assaad19a.pdf"
   ]
  },
  {
   "cell_type": "markdown",
   "id": "e267fa0d-90a4-4a42-98fc-210cfb840dbf",
   "metadata": {},
   "source": [
    "## Data simulation"
   ]
  },
  {
   "cell_type": "code",
   "execution_count": 1,
   "id": "eb048f27-2c19-47ba-b1d5-b9bb8d9294e4",
   "metadata": {},
   "outputs": [],
   "source": [
    "import networkx as nx\n",
    "from pybbn.probabilistic import create_reasoning_model\n",
    "\n",
    "def get_model():\n",
    "    d = nx.DiGraph()\n",
    "    d.add_nodes_from(['drug', 'gender', 'recovery'])\n",
    "    d.add_edges_from([('gender', 'drug'), ('gender', 'recovery'), ('drug', 'recovery')])\n",
    "    \n",
    "    p = {\n",
    "        'gender': {\n",
    "            'columns': ['gender', '__p__'],\n",
    "            'data': [\n",
    "                ['male', 0.51], ['female', 0.49]\n",
    "            ]\n",
    "        },\n",
    "        'drug': {\n",
    "            'columns': ['gender', 'drug', '__p__'],\n",
    "            'data': [\n",
    "                ['female', 'no', 0.24],\n",
    "                ['female', 'yes', 0.76],\n",
    "                ['male', 'no', 0.76],\n",
    "                ['male', 'yes', 0.24]\n",
    "            ]\n",
    "        },\n",
    "        'recovery': {\n",
    "            'columns': ['gender', 'drug', 'recovery', '__p__'],\n",
    "            'data': [\n",
    "                ['female', 'no', 'no', 0.90],\n",
    "                ['female', 'no', 'yes', 0.10],\n",
    "                ['female', 'yes', 'no', 0.27],\n",
    "                ['female', 'yes', 'yes', 0.73],\n",
    "                ['male', 'no', 'no', 0.99],\n",
    "                ['male', 'no', 'yes', 0.01],\n",
    "                ['male', 'yes', 'no', 0.07],\n",
    "                ['male', 'yes', 'yes', 0.93]\n",
    "            ]\n",
    "        }\n",
    "    }\n",
    "    \n",
    "    model = create_reasoning_model(d, p)\n",
    "    return model\n",
    "\n",
    "model = get_model()"
   ]
  },
  {
   "cell_type": "code",
   "execution_count": 2,
   "id": "d21dca60-1ad0-43d5-a3ed-4db0fe17e273",
   "metadata": {},
   "outputs": [
    {
     "data": {
      "text/plain": [
       "(10000, 5)"
      ]
     },
     "execution_count": 2,
     "metadata": {},
     "output_type": "execute_result"
    }
   ],
   "source": [
    "import numpy as np\n",
    "\n",
    "N = 10_000\n",
    "Xy = model.sample(max_samples=N) \\\n",
    "    .assign(\n",
    "        gender=lambda d: d['gender'].map({'male': 1, 'female': 0}),\n",
    "        drug=lambda d: d['drug'].map({'yes': 1, 'no': 0}),\n",
    "        recovery=lambda d: d['recovery'].map({'yes': 1, 'no': 0}),\n",
    "        gaussian=np.random.normal(size=N),\n",
    "        uniform=np.random.uniform(size=N)\n",
    "    )\n",
    "Xy.shape"
   ]
  },
  {
   "cell_type": "code",
   "execution_count": 3,
   "id": "8790081d-2330-43eb-9767-59cb7a419edc",
   "metadata": {},
   "outputs": [
    {
     "data": {
      "text/html": [
       "<div>\n",
       "<style scoped>\n",
       "    .dataframe tbody tr th:only-of-type {\n",
       "        vertical-align: middle;\n",
       "    }\n",
       "\n",
       "    .dataframe tbody tr th {\n",
       "        vertical-align: top;\n",
       "    }\n",
       "\n",
       "    .dataframe thead th {\n",
       "        text-align: right;\n",
       "    }\n",
       "</style>\n",
       "<table border=\"1\" class=\"dataframe\">\n",
       "  <thead>\n",
       "    <tr style=\"text-align: right;\">\n",
       "      <th></th>\n",
       "      <th>gender</th>\n",
       "      <th>drug</th>\n",
       "      <th>recovery</th>\n",
       "      <th>gaussian</th>\n",
       "      <th>uniform</th>\n",
       "    </tr>\n",
       "  </thead>\n",
       "  <tbody>\n",
       "    <tr>\n",
       "      <th>0</th>\n",
       "      <td>1</td>\n",
       "      <td>0</td>\n",
       "      <td>0</td>\n",
       "      <td>0.104978</td>\n",
       "      <td>0.884945</td>\n",
       "    </tr>\n",
       "    <tr>\n",
       "      <th>1</th>\n",
       "      <td>1</td>\n",
       "      <td>1</td>\n",
       "      <td>1</td>\n",
       "      <td>-0.814426</td>\n",
       "      <td>0.559221</td>\n",
       "    </tr>\n",
       "    <tr>\n",
       "      <th>2</th>\n",
       "      <td>0</td>\n",
       "      <td>1</td>\n",
       "      <td>0</td>\n",
       "      <td>0.248942</td>\n",
       "      <td>0.804547</td>\n",
       "    </tr>\n",
       "    <tr>\n",
       "      <th>3</th>\n",
       "      <td>1</td>\n",
       "      <td>1</td>\n",
       "      <td>1</td>\n",
       "      <td>0.164245</td>\n",
       "      <td>0.649493</td>\n",
       "    </tr>\n",
       "    <tr>\n",
       "      <th>4</th>\n",
       "      <td>0</td>\n",
       "      <td>1</td>\n",
       "      <td>1</td>\n",
       "      <td>1.037087</td>\n",
       "      <td>0.521910</td>\n",
       "    </tr>\n",
       "  </tbody>\n",
       "</table>\n",
       "</div>"
      ],
      "text/plain": [
       "   gender  drug  recovery  gaussian   uniform\n",
       "0       1     0         0  0.104978  0.884945\n",
       "1       1     1         1 -0.814426  0.559221\n",
       "2       0     1         0  0.248942  0.804547\n",
       "3       1     1         1  0.164245  0.649493\n",
       "4       0     1         1  1.037087  0.521910"
      ]
     },
     "execution_count": 3,
     "metadata": {},
     "output_type": "execute_result"
    }
   ],
   "source": [
    "Xy.head()"
   ]
  },
  {
   "cell_type": "markdown",
   "id": "105d41ae-15cc-41d6-ba10-2e3320b42530",
   "metadata": {},
   "source": [
    "## Distribution of noise"
   ]
  },
  {
   "cell_type": "code",
   "execution_count": 4,
   "id": "c5010faa-9124-4123-8a23-5281126b3c80",
   "metadata": {},
   "outputs": [
    {
     "data": {
      "image/png": "[encoded data removed]",
      "text/plain": [
       "<Figure size 1000x350 with 6 Axes>"
      ]
     },
     "metadata": {},
     "output_type": "display_data"
    }
   ],
   "source": [
    "import matplotlib.pyplot as plt\n",
    "\n",
    "fig, ax = plt.subplots(2, 3, figsize=(10, 3.5))\n",
    "ax = np.ravel(ax)\n",
    "\n",
    "Xy.pivot(columns=['gender'], values=['gaussian']).plot(kind='box', ax=ax[0])\n",
    "Xy.pivot(columns=['drug'], values=['gaussian']).plot(kind='box', ax=ax[1])\n",
    "Xy.pivot(columns=['recovery'], values=['gaussian']).plot(kind='box', ax=ax[2])\n",
    "Xy.pivot(columns=['gender'], values=['gaussian']).plot(kind='kde', ax=ax[3])\n",
    "Xy.pivot(columns=['drug'], values=['gaussian']).plot(kind='kde', ax=ax[4])\n",
    "Xy.pivot(columns=['recovery'], values=['gaussian']).plot(kind='kde', ax=ax[5])\n",
    "\n",
    "ax[0].set_title('Noise by gender (Gaussian)')\n",
    "ax[1].set_title('Noise by drug (Gaussian)')\n",
    "ax[2].set_title('Noise by recovery (Gaussian)')\n",
    "ax[3].legend().remove()\n",
    "ax[4].legend().remove()\n",
    "ax[5].legend().remove()\n",
    "\n",
    "fig.tight_layout()"
   ]
  },
  {
   "cell_type": "code",
   "execution_count": 5,
   "id": "642d85a6-baeb-4f96-9ce5-44939928203f",
   "metadata": {},
   "outputs": [
    {
     "data": {
      "image/png": "[encoded data removed]",
      "text/plain": [
       "<Figure size 1000x350 with 6 Axes>"
      ]
     },
     "metadata": {},
     "output_type": "display_data"
    }
   ],
   "source": [
    "fig, ax = plt.subplots(2, 3, figsize=(10, 3.5))\n",
    "ax = np.ravel(ax)\n",
    "\n",
    "Xy.pivot(columns=['gender'], values=['gaussian']).plot(kind='box', ax=ax[0])\n",
    "Xy.pivot(columns=['drug'], values=['gaussian']).plot(kind='box', ax=ax[1])\n",
    "Xy.pivot(columns=['recovery'], values=['gaussian']).plot(kind='box', ax=ax[2])\n",
    "Xy.pivot(columns=['gender'], values=['gaussian']).plot(kind='kde', ax=ax[3])\n",
    "Xy.pivot(columns=['drug'], values=['gaussian']).plot(kind='kde', ax=ax[4])\n",
    "Xy.pivot(columns=['recovery'], values=['gaussian']).plot(kind='kde', ax=ax[5])\n",
    "\n",
    "ax[0].set_title('Noise by gender (Uniform)')\n",
    "ax[1].set_title('Noise by drug (Uniform)')\n",
    "ax[2].set_title('Noise by recovery (Uniform)')\n",
    "ax[3].legend().remove()\n",
    "ax[4].legend().remove()\n",
    "ax[5].legend().remove()\n",
    "\n",
    "fig.tight_layout()"
   ]
  },
  {
   "cell_type": "markdown",
   "id": "9bfba8a3-d57e-4ff8-94ff-5e26f5bf95fb",
   "metadata": {},
   "source": [
    "## Point-biserial correlations"
   ]
  },
  {
   "cell_type": "code",
   "execution_count": 6,
   "id": "0916b24f-3d19-45e7-acf1-a358fb6feb39",
   "metadata": {},
   "outputs": [],
   "source": [
    "import pandas as pd\n",
    "\n",
    "def compute_point_biserial(df, G, F):\n",
    "    m_1 = df[df[G]==1][F].mean()\n",
    "    m_0 = df[df[G]==0][F].mean()\n",
    "    \n",
    "    n_1 = df[df[G]==1].shape[0]\n",
    "    n_0 = df[df[G]==0].shape[0]\n",
    "    n = n_1 + n_0\n",
    "    \n",
    "    s = df[F].std()\n",
    "\n",
    "    p = ((m_1 - m_0) / s) * np.sqrt((n_1 * n_0) / np.power(n, 2.0))\n",
    "    \n",
    "    return p"
   ]
  },
  {
   "cell_type": "code",
   "execution_count": 7,
   "id": "93ccf764-527e-4475-b389-2a8d9af83193",
   "metadata": {},
   "outputs": [
    {
     "data": {
      "text/plain": [
       "gender      0.006049\n",
       "drug        0.009331\n",
       "recovery   -0.013235\n",
       "dtype: float64"
      ]
     },
     "execution_count": 7,
     "metadata": {},
     "output_type": "execute_result"
    }
   ],
   "source": [
    "pd.Series({c: compute_point_biserial(Xy, c, 'gaussian') for c in ['gender', 'drug', 'recovery']})"
   ]
  },
  {
   "cell_type": "code",
   "execution_count": 8,
   "id": "bddbd5b6-3a02-4e89-b033-3fce30caea1d",
   "metadata": {},
   "outputs": [
    {
     "data": {
      "text/plain": [
       "gender      0.002057\n",
       "drug       -0.006482\n",
       "recovery    0.003073\n",
       "dtype: float64"
      ]
     },
     "execution_count": 8,
     "metadata": {},
     "output_type": "execute_result"
    }
   ],
   "source": [
    "pd.Series({c: compute_point_biserial(Xy, c, 'uniform') for c in ['gender', 'drug', 'recovery']})"
   ]
  },
  {
   "cell_type": "markdown",
   "id": "9a3c786c-b84e-416f-aca5-9691a3243313",
   "metadata": {},
   "source": [
    "## t-test"
   ]
  },
  {
   "cell_type": "code",
   "execution_count": 9,
   "id": "c346c3c1-2c61-4a0d-8b95-369de3a67208",
   "metadata": {},
   "outputs": [],
   "source": [
    "from scipy.stats import ttest_ind\n",
    "\n",
    "def compute_ttest(df, G, F):\n",
    "    r = ttest_ind(Xy[Xy[G]==0][F], Xy[Xy[G]==1][F], random_state=37)\n",
    "    return r.pvalue"
   ]
  },
  {
   "cell_type": "code",
   "execution_count": 10,
   "id": "2417c686-ac8e-4675-bfb7-5a112f17f1ad",
   "metadata": {},
   "outputs": [
    {
     "data": {
      "text/plain": [
       "gender      0.545245\n",
       "drug        0.350819\n",
       "recovery    0.185687\n",
       "dtype: float64"
      ]
     },
     "execution_count": 10,
     "metadata": {},
     "output_type": "execute_result"
    }
   ],
   "source": [
    "pd.Series({c: compute_ttest(Xy, c, 'gaussian') for c in ['gender', 'drug', 'recovery']})"
   ]
  },
  {
   "cell_type": "code",
   "execution_count": 11,
   "id": "e6595915-d9fb-46cc-871f-78f70e776f01",
   "metadata": {},
   "outputs": [
    {
     "data": {
      "text/plain": [
       "gender      0.836998\n",
       "drug        0.516851\n",
       "recovery    0.758668\n",
       "dtype: float64"
      ]
     },
     "execution_count": 11,
     "metadata": {},
     "output_type": "execute_result"
    }
   ],
   "source": [
    "pd.Series({c: compute_ttest(Xy, c, 'uniform') for c in ['gender', 'drug', 'recovery']})"
   ]
  },
  {
   "cell_type": "markdown",
   "id": "46432ace-8053-4588-a309-9fcd17f7e9f9",
   "metadata": {},
   "source": [
    "## KS-test"
   ]
  },
  {
   "cell_type": "code",
   "execution_count": 12,
   "id": "aa394848-89e9-4382-b4a0-26f5eb9d5634",
   "metadata": {},
   "outputs": [],
   "source": [
    "from scipy.stats import kstest\n",
    "\n",
    "def compute_ks_test(df, G, F):\n",
    "    r = kstest(Xy[Xy[G]==0][F], Xy[Xy[G]==1][F])\n",
    "    return r.pvalue"
   ]
  },
  {
   "cell_type": "code",
   "execution_count": 13,
   "id": "f9af444e-0589-4e39-9355-597099269b3b",
   "metadata": {},
   "outputs": [
    {
     "data": {
      "text/plain": [
       "gender      0.360754\n",
       "drug        0.224405\n",
       "recovery    0.306844\n",
       "dtype: float64"
      ]
     },
     "execution_count": 13,
     "metadata": {},
     "output_type": "execute_result"
    }
   ],
   "source": [
    "pd.Series({c: compute_ks_test(Xy, c, 'gaussian') for c in ['gender', 'drug', 'recovery']})"
   ]
  },
  {
   "cell_type": "code",
   "execution_count": 14,
   "id": "a2ffcb53-091e-4c15-a5c3-85eb617a127d",
   "metadata": {},
   "outputs": [
    {
     "data": {
      "text/plain": [
       "gender      0.501519\n",
       "drug        0.781362\n",
       "recovery    0.570905\n",
       "dtype: float64"
      ]
     },
     "execution_count": 14,
     "metadata": {},
     "output_type": "execute_result"
    }
   ],
   "source": [
    "pd.Series({c: compute_ks_test(Xy, c, 'uniform') for c in ['gender', 'drug', 'recovery']})"
   ]
  },
  {
   "cell_type": "markdown",
   "id": "7d809159-7568-4433-911b-a5fce042fbb1",
   "metadata": {},
   "source": [
    "## Abduction models"
   ]
  },
  {
   "cell_type": "code",
   "execution_count": 15,
   "id": "9c002d30-f442-434a-a638-4486aff9d5d9",
   "metadata": {},
   "outputs": [],
   "source": [
    "from sklearn.ensemble import RandomForestRegressor\n",
    "\n",
    "X, y = Xy[['gender', 'drug', 'recovery']], Xy['gaussian']\n",
    "g_model = RandomForestRegressor(n_jobs=-1, random_state=37) \\\n",
    "    .fit(X, y)\n",
    "\n",
    "X, y = Xy[['gender', 'drug', 'recovery']], Xy['uniform']\n",
    "u_model = RandomForestRegressor(n_jobs=-1, random_state=37) \\\n",
    "    .fit(X, y)"
   ]
  },
  {
   "cell_type": "markdown",
   "id": "ee4f8374-6431-45fa-a2a7-12bd8626de87",
   "metadata": {},
   "source": [
    "## Prediction models"
   ]
  },
  {
   "cell_type": "code",
   "execution_count": 16,
   "id": "f4c2c616-ee2c-46c7-b19a-24e1f61c99c6",
   "metadata": {},
   "outputs": [],
   "source": [
    "from sklearn.ensemble import RandomForestClassifier\n",
    "\n",
    "X, y = Xy[['gender', 'drug', 'gaussian']].rename(columns={'gaussian': 'u'}), Xy['recovery']\n",
    "r_g_model = RandomForestClassifier(n_jobs=-1, random_state=37) \\\n",
    "    .fit(X, y)\n",
    "\n",
    "X, y = Xy[['gender', 'drug', 'uniform']].rename(columns={'uniform': 'u'}), Xy['recovery']\n",
    "r_u_model = RandomForestClassifier(n_jobs=-1, random_state=37) \\\n",
    "    .fit(X, y)"
   ]
  },
  {
   "cell_type": "markdown",
   "id": "eff28739-89ca-41f7-94f8-7d2ca1bc5893",
   "metadata": {},
   "source": [
    "## Counterfactual 1\n",
    "\n",
    "- f: did not take pill, did not recover\n",
    "- cf: take pill\n",
    "- 16% chance recovery had taken pill (male)\n",
    "- 67% chance recovery had taken pill (female)"
   ]
  },
  {
   "cell_type": "code",
   "execution_count": 17,
   "id": "ff158671-6991-4903-87f0-a4a233344325",
   "metadata": {},
   "outputs": [
    {
     "data": {
      "text/plain": [
       "(array([0.84, 0.16]), array([1., 0.]))"
      ]
     },
     "execution_count": 17,
     "metadata": {},
     "output_type": "execute_result"
    }
   ],
   "source": [
    "def to_df(v, c):\n",
    "    return pd.DataFrame([v], columns=c)\n",
    "\n",
    "g_pred = g_model.predict(to_df([1, 0, 0], ['gender', 'drug', 'recovery']))[0]\n",
    "u_pred = u_model.predict(to_df([1, 0, 0], ['gender', 'drug', 'recovery']))[0]\n",
    "\n",
    "g_cf = r_g_model.predict_proba(to_df([1, 1, g_pred], ['gender', 'drug', 'u']))[0]\n",
    "u_cf = r_u_model.predict_proba(to_df([1, 1, u_pred], ['gender', 'drug', 'u']))[0]\n",
    "\n",
    "g_cf, u_cf"
   ]
  },
  {
   "cell_type": "code",
   "execution_count": 18,
   "id": "789f5629-70a0-4596-b2ff-dce8a5117cef",
   "metadata": {},
   "outputs": [
    {
     "data": {
      "text/plain": [
       "(array([0.33, 0.67]), array([0.08, 0.92]))"
      ]
     },
     "execution_count": 18,
     "metadata": {},
     "output_type": "execute_result"
    }
   ],
   "source": [
    "g_pred = g_model.predict(to_df([0, 0, 0], ['gender', 'drug', 'recovery']))[0]\n",
    "u_pred = u_model.predict(to_df([0, 0, 0], ['gender', 'drug', 'recovery']))[0]\n",
    "\n",
    "g_cf = r_g_model.predict_proba(to_df([0, 1, g_pred], ['gender', 'drug', 'u']))[0]\n",
    "u_cf = r_u_model.predict_proba(to_df([0, 1, u_pred], ['gender', 'drug', 'u']))[0]\n",
    "\n",
    "g_cf, u_cf"
   ]
  },
  {
   "cell_type": "markdown",
   "id": "abe97654-1716-41aa-bd54-e8aef91d09f9",
   "metadata": {},
   "source": [
    "## Counterfactual 2\n",
    "\n",
    "- f: took pill, did recover\n",
    "- cf: did not take pill\n",
    "- 79% chance recovery had not taken pill (male)\n",
    "- 84% chance recovery had not taken pill (female)"
   ]
  },
  {
   "cell_type": "code",
   "execution_count": 19,
   "id": "270943eb-ea3f-4619-bf3e-a2c0152f5867",
   "metadata": {},
   "outputs": [
    {
     "data": {
      "text/plain": [
       "(array([0.21, 0.79]), array([0., 1.]))"
      ]
     },
     "execution_count": 19,
     "metadata": {},
     "output_type": "execute_result"
    }
   ],
   "source": [
    "g_pred = g_model.predict(to_df([1, 1, 1], ['gender', 'drug', 'recovery']))[0]\n",
    "u_pred = u_model.predict(to_df([1, 1, 1], ['gender', 'drug', 'recovery']))[0]\n",
    "\n",
    "g_cf = r_g_model.predict_proba(to_df([1, 0, g_pred], ['gender', 'drug', 'u']))[0]\n",
    "u_cf = r_u_model.predict_proba(to_df([1, 0, u_pred], ['gender', 'drug', 'u']))[0]\n",
    "\n",
    "g_cf, u_cf"
   ]
  },
  {
   "cell_type": "code",
   "execution_count": 20,
   "id": "9ec3a76a-7b52-4e35-aea4-66061821cb4c",
   "metadata": {},
   "outputs": [
    {
     "data": {
      "text/plain": [
       "(array([0.16, 0.84]), array([0.22, 0.78]))"
      ]
     },
     "execution_count": 20,
     "metadata": {},
     "output_type": "execute_result"
    }
   ],
   "source": [
    "g_pred = g_model.predict(to_df([0, 1, 0], ['gender', 'drug', 'recovery']))[0]\n",
    "u_pred = u_model.predict(to_df([0, 1, 0], ['gender', 'drug', 'recovery']))[0]\n",
    "\n",
    "g_cf = r_g_model.predict_proba(to_df([0, 0, g_pred], ['gender', 'drug', 'u']))[0]\n",
    "u_cf = r_u_model.predict_proba(to_df([0, 0, u_pred], ['gender', 'drug', 'u']))[0]\n",
    "\n",
    "g_cf, u_cf"
   ]
  },
  {
   "cell_type": "markdown",
   "id": "90ed77b2-c933-4424-9239-bc74c225e030",
   "metadata": {},
   "source": [
    "## All possible counterfactuals"
   ]
  },
  {
   "cell_type": "code",
   "execution_count": 21,
   "id": "602ae468-0775-4382-9d54-a2a4232b4f7b",
   "metadata": {},
   "outputs": [
    {
     "data": {
      "text/html": [
       "<div>\n",
       "<style scoped>\n",
       "    .dataframe tbody tr th:only-of-type {\n",
       "        vertical-align: middle;\n",
       "    }\n",
       "\n",
       "    .dataframe tbody tr th {\n",
       "        vertical-align: top;\n",
       "    }\n",
       "\n",
       "    .dataframe thead th {\n",
       "        text-align: right;\n",
       "    }\n",
       "</style>\n",
       "<table border=\"1\" class=\"dataframe\">\n",
       "  <thead>\n",
       "    <tr style=\"text-align: right;\">\n",
       "      <th></th>\n",
       "      <th>gender</th>\n",
       "      <th>drug</th>\n",
       "      <th>recovery</th>\n",
       "      <th>d</th>\n",
       "      <th>u</th>\n",
       "      <th>y_0</th>\n",
       "      <th>y_1</th>\n",
       "    </tr>\n",
       "  </thead>\n",
       "  <tbody>\n",
       "    <tr>\n",
       "      <th>0</th>\n",
       "      <td>0</td>\n",
       "      <td>0</td>\n",
       "      <td>0</td>\n",
       "      <td>1</td>\n",
       "      <td>-0.014090</td>\n",
       "      <td>0.33</td>\n",
       "      <td>0.67</td>\n",
       "    </tr>\n",
       "    <tr>\n",
       "      <th>1</th>\n",
       "      <td>0</td>\n",
       "      <td>0</td>\n",
       "      <td>1</td>\n",
       "      <td>1</td>\n",
       "      <td>-0.037018</td>\n",
       "      <td>0.15</td>\n",
       "      <td>0.85</td>\n",
       "    </tr>\n",
       "    <tr>\n",
       "      <th>2</th>\n",
       "      <td>0</td>\n",
       "      <td>1</td>\n",
       "      <td>0</td>\n",
       "      <td>0</td>\n",
       "      <td>0.016466</td>\n",
       "      <td>0.16</td>\n",
       "      <td>0.84</td>\n",
       "    </tr>\n",
       "    <tr>\n",
       "      <th>3</th>\n",
       "      <td>0</td>\n",
       "      <td>1</td>\n",
       "      <td>1</td>\n",
       "      <td>0</td>\n",
       "      <td>-0.018855</td>\n",
       "      <td>0.28</td>\n",
       "      <td>0.72</td>\n",
       "    </tr>\n",
       "    <tr>\n",
       "      <th>4</th>\n",
       "      <td>1</td>\n",
       "      <td>0</td>\n",
       "      <td>0</td>\n",
       "      <td>1</td>\n",
       "      <td>-0.002620</td>\n",
       "      <td>0.84</td>\n",
       "      <td>0.16</td>\n",
       "    </tr>\n",
       "    <tr>\n",
       "      <th>5</th>\n",
       "      <td>1</td>\n",
       "      <td>0</td>\n",
       "      <td>1</td>\n",
       "      <td>1</td>\n",
       "      <td>-0.013726</td>\n",
       "      <td>0.64</td>\n",
       "      <td>0.36</td>\n",
       "    </tr>\n",
       "    <tr>\n",
       "      <th>6</th>\n",
       "      <td>1</td>\n",
       "      <td>1</td>\n",
       "      <td>0</td>\n",
       "      <td>0</td>\n",
       "      <td>0.020605</td>\n",
       "      <td>0.40</td>\n",
       "      <td>0.60</td>\n",
       "    </tr>\n",
       "    <tr>\n",
       "      <th>7</th>\n",
       "      <td>1</td>\n",
       "      <td>1</td>\n",
       "      <td>1</td>\n",
       "      <td>0</td>\n",
       "      <td>-0.010957</td>\n",
       "      <td>0.21</td>\n",
       "      <td>0.79</td>\n",
       "    </tr>\n",
       "  </tbody>\n",
       "</table>\n",
       "</div>"
      ],
      "text/plain": [
       "   gender  drug  recovery  d         u   y_0   y_1\n",
       "0       0     0         0  1 -0.014090  0.33  0.67\n",
       "1       0     0         1  1 -0.037018  0.15  0.85\n",
       "2       0     1         0  0  0.016466  0.16  0.84\n",
       "3       0     1         1  0 -0.018855  0.28  0.72\n",
       "4       1     0         0  1 -0.002620  0.84  0.16\n",
       "5       1     0         1  1 -0.013726  0.64  0.36\n",
       "6       1     1         0  0  0.020605  0.40  0.60\n",
       "7       1     1         1  0 -0.010957  0.21  0.79"
      ]
     },
     "execution_count": 21,
     "metadata": {},
     "output_type": "execute_result"
    }
   ],
   "source": [
    "import itertools\n",
    "\n",
    "def abduct(m, df):\n",
    "    df = df[['gender', 'drug', 'recovery']]\n",
    "    y = m.predict(df)\n",
    "    return y\n",
    "    \n",
    "def predict(m, df):\n",
    "    df = df[['gender', 'd', 'u']].rename(columns={'d': 'drug'})\n",
    "    y = m.predict_proba(df)\n",
    "    return y[:,0]\n",
    "    \n",
    "pd.DataFrame(itertools.product(*[[0, 1] for _ in range(3)]), columns=['gender', 'drug', 'recovery']) \\\n",
    "    .assign(d=lambda d: d['drug'].apply(lambda v: 1 if v == 0 else 0)) \\\n",
    "    .assign(u=lambda d: abduct(g_model, d)) \\\n",
    "    .assign(y_0=lambda d: predict(r_g_model, d)) \\\n",
    "    .assign(y_1=lambda d: 1 - d['y_0'])"
   ]
  },
  {
   "cell_type": "code",
   "execution_count": 22,
   "id": "0682e315-ec0a-4a09-ab0a-6ba6f9be6083",
   "metadata": {},
   "outputs": [
    {
     "data": {
      "text/html": [
       "<div>\n",
       "<style scoped>\n",
       "    .dataframe tbody tr th:only-of-type {\n",
       "        vertical-align: middle;\n",
       "    }\n",
       "\n",
       "    .dataframe tbody tr th {\n",
       "        vertical-align: top;\n",
       "    }\n",
       "\n",
       "    .dataframe thead th {\n",
       "        text-align: right;\n",
       "    }\n",
       "</style>\n",
       "<table border=\"1\" class=\"dataframe\">\n",
       "  <thead>\n",
       "    <tr style=\"text-align: right;\">\n",
       "      <th></th>\n",
       "      <th>gender</th>\n",
       "      <th>drug</th>\n",
       "      <th>recovery</th>\n",
       "      <th>d</th>\n",
       "      <th>u</th>\n",
       "      <th>y_0</th>\n",
       "      <th>y_1</th>\n",
       "    </tr>\n",
       "  </thead>\n",
       "  <tbody>\n",
       "    <tr>\n",
       "      <th>0</th>\n",
       "      <td>0</td>\n",
       "      <td>0</td>\n",
       "      <td>0</td>\n",
       "      <td>1</td>\n",
       "      <td>0.497193</td>\n",
       "      <td>0.08</td>\n",
       "      <td>0.92</td>\n",
       "    </tr>\n",
       "    <tr>\n",
       "      <th>1</th>\n",
       "      <td>0</td>\n",
       "      <td>0</td>\n",
       "      <td>1</td>\n",
       "      <td>1</td>\n",
       "      <td>0.498254</td>\n",
       "      <td>0.18</td>\n",
       "      <td>0.82</td>\n",
       "    </tr>\n",
       "    <tr>\n",
       "      <th>2</th>\n",
       "      <td>0</td>\n",
       "      <td>1</td>\n",
       "      <td>0</td>\n",
       "      <td>0</td>\n",
       "      <td>0.492533</td>\n",
       "      <td>0.22</td>\n",
       "      <td>0.78</td>\n",
       "    </tr>\n",
       "    <tr>\n",
       "      <th>3</th>\n",
       "      <td>0</td>\n",
       "      <td>1</td>\n",
       "      <td>1</td>\n",
       "      <td>0</td>\n",
       "      <td>0.501431</td>\n",
       "      <td>0.09</td>\n",
       "      <td>0.91</td>\n",
       "    </tr>\n",
       "    <tr>\n",
       "      <th>4</th>\n",
       "      <td>1</td>\n",
       "      <td>0</td>\n",
       "      <td>0</td>\n",
       "      <td>1</td>\n",
       "      <td>0.502606</td>\n",
       "      <td>1.00</td>\n",
       "      <td>0.00</td>\n",
       "    </tr>\n",
       "    <tr>\n",
       "      <th>5</th>\n",
       "      <td>1</td>\n",
       "      <td>0</td>\n",
       "      <td>1</td>\n",
       "      <td>1</td>\n",
       "      <td>0.496545</td>\n",
       "      <td>0.27</td>\n",
       "      <td>0.73</td>\n",
       "    </tr>\n",
       "    <tr>\n",
       "      <th>6</th>\n",
       "      <td>1</td>\n",
       "      <td>1</td>\n",
       "      <td>0</td>\n",
       "      <td>0</td>\n",
       "      <td>0.494662</td>\n",
       "      <td>1.00</td>\n",
       "      <td>0.00</td>\n",
       "    </tr>\n",
       "    <tr>\n",
       "      <th>7</th>\n",
       "      <td>1</td>\n",
       "      <td>1</td>\n",
       "      <td>1</td>\n",
       "      <td>0</td>\n",
       "      <td>0.498378</td>\n",
       "      <td>0.00</td>\n",
       "      <td>1.00</td>\n",
       "    </tr>\n",
       "  </tbody>\n",
       "</table>\n",
       "</div>"
      ],
      "text/plain": [
       "   gender  drug  recovery  d         u   y_0   y_1\n",
       "0       0     0         0  1  0.497193  0.08  0.92\n",
       "1       0     0         1  1  0.498254  0.18  0.82\n",
       "2       0     1         0  0  0.492533  0.22  0.78\n",
       "3       0     1         1  0  0.501431  0.09  0.91\n",
       "4       1     0         0  1  0.502606  1.00  0.00\n",
       "5       1     0         1  1  0.496545  0.27  0.73\n",
       "6       1     1         0  0  0.494662  1.00  0.00\n",
       "7       1     1         1  0  0.498378  0.00  1.00"
      ]
     },
     "execution_count": 22,
     "metadata": {},
     "output_type": "execute_result"
    }
   ],
   "source": [
    "pd.DataFrame(itertools.product(*[[0, 1] for _ in range(3)]), columns=['gender', 'drug', 'recovery']) \\\n",
    "    .assign(d=lambda d: d['drug'].apply(lambda v: 1 if v == 0 else 0)) \\\n",
    "    .assign(u=lambda d: abduct(u_model, d)) \\\n",
    "    .assign(y_0=lambda d: predict(r_u_model, d)) \\\n",
    "    .assign(y_1=lambda d: 1 - d['y_0'])"
   ]
  },
  {
   "cell_type": "code",
   "execution_count": null,
   "id": "3af45d22-2be9-4101-bcba-014feeb05e5a",
   "metadata": {},
   "outputs": [],
   "source": []
  }
 ],
 "metadata": {
  "kernelspec": {
   "display_name": "Python 3 (ipykernel)",
   "language": "python",
   "name": "python3"
  },
  "language_info": {
   "codemirror_mode": {
    "name": "ipython",
    "version": 3
   },
   "file_extension": ".py",
   "mimetype": "text/x-python",
   "name": "python",
   "nbconvert_exporter": "python",
   "pygments_lexer": "ipython3",
   "version": "3.11.5"
  }
 },
 "nbformat": 4,
 "nbformat_minor": 5
}
