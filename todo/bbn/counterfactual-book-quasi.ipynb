{
 "cells": [
  {
   "cell_type": "code",
   "execution_count": 1,
   "id": "4b4ad3f4-3a88-4fee-86c1-3a49db8379fd",
   "metadata": {},
   "outputs": [
    {
     "data": {
      "text/plain": [
       "(1000, 3)"
      ]
     },
     "execution_count": 1,
     "metadata": {},
     "output_type": "execute_result"
    }
   ],
   "source": [
    "import pandas as pd\n",
    "import numpy as np\n",
    "from scipy.stats import binom\n",
    "\n",
    "np.random.seed(37)\n",
    "\n",
    "N = 1_000\n",
    "\n",
    "X = np.random.binomial(1, 0.1, N)\n",
    "H = binom.rvs(1, 1 / (1 + np.exp(-(0.1 + 2.3 * X))))\n",
    "Y = binom.rvs(1, 1 / (1 + np.exp(-(0.1 + 2.3 * X - 3.4 * H))))\n",
    "\n",
    "Xy = pd.DataFrame({'X': np.random.binomial(1, 0.1, N)}) \\\n",
    "    .assign(H=lambda d: binom.rvs(1, 1 / (1 + np.exp(-(1.3 * d['X']))))) \\\n",
    "    .assign(Y=lambda d: binom.rvs(1, 1 / (1 + np.exp(-(2.3 * d['X'] + 0.5 * d['H'])))))\n",
    "\n",
    "Xy.shape"
   ]
  },
  {
   "cell_type": "code",
   "execution_count": 2,
   "id": "400af716-a104-47b2-86c7-f930859e7ab4",
   "metadata": {},
   "outputs": [
    {
     "data": {
      "text/html": [
       "<div>\n",
       "<style scoped>\n",
       "    .dataframe tbody tr th:only-of-type {\n",
       "        vertical-align: middle;\n",
       "    }\n",
       "\n",
       "    .dataframe tbody tr th {\n",
       "        vertical-align: top;\n",
       "    }\n",
       "\n",
       "    .dataframe thead th {\n",
       "        text-align: right;\n",
       "    }\n",
       "</style>\n",
       "<table border=\"1\" class=\"dataframe\">\n",
       "  <thead>\n",
       "    <tr style=\"text-align: right;\">\n",
       "      <th></th>\n",
       "      <th>X</th>\n",
       "      <th>H</th>\n",
       "      <th>Y</th>\n",
       "    </tr>\n",
       "  </thead>\n",
       "  <tbody>\n",
       "    <tr>\n",
       "      <th>0</th>\n",
       "      <td>0</td>\n",
       "      <td>0</td>\n",
       "      <td>0</td>\n",
       "    </tr>\n",
       "    <tr>\n",
       "      <th>1</th>\n",
       "      <td>0</td>\n",
       "      <td>0</td>\n",
       "      <td>0</td>\n",
       "    </tr>\n",
       "    <tr>\n",
       "      <th>2</th>\n",
       "      <td>0</td>\n",
       "      <td>0</td>\n",
       "      <td>0</td>\n",
       "    </tr>\n",
       "    <tr>\n",
       "      <th>3</th>\n",
       "      <td>0</td>\n",
       "      <td>0</td>\n",
       "      <td>0</td>\n",
       "    </tr>\n",
       "    <tr>\n",
       "      <th>4</th>\n",
       "      <td>1</td>\n",
       "      <td>0</td>\n",
       "      <td>1</td>\n",
       "    </tr>\n",
       "  </tbody>\n",
       "</table>\n",
       "</div>"
      ],
      "text/plain": [
       "   X  H  Y\n",
       "0  0  0  0\n",
       "1  0  0  0\n",
       "2  0  0  0\n",
       "3  0  0  0\n",
       "4  1  0  1"
      ]
     },
     "execution_count": 2,
     "metadata": {},
     "output_type": "execute_result"
    }
   ],
   "source": [
    "Xy.head()"
   ]
  },
  {
   "cell_type": "code",
   "execution_count": 12,
   "id": "4d6d8eff-ce54-4a39-ab59-749e352a7d1c",
   "metadata": {},
   "outputs": [
    {
     "data": {
      "text/plain": [
       "X    0.749739\n",
       "H    0.250261\n",
       "dtype: float64"
      ]
     },
     "execution_count": 12,
     "metadata": {},
     "output_type": "execute_result"
    }
   ],
   "source": [
    "from sklearn.ensemble import RandomForestClassifier\n",
    "\n",
    "X = Xy[['X', 'H']]\n",
    "y = Xy['Y']\n",
    "\n",
    "m = RandomForestClassifier(n_jobs=-1, random_state=37).fit(X, y)\n",
    "\n",
    "pd.Series(m.feature_importances_, X.columns)"
   ]
  },
  {
   "cell_type": "code",
   "execution_count": 10,
   "id": "5af2c55e-3220-456a-8073-da09ab482c82",
   "metadata": {},
   "outputs": [
    {
     "data": {
      "text/plain": [
       "X    0.061349\n",
       "H    0.016505\n",
       "Y    0.922145\n",
       "dtype: float64"
      ]
     },
     "execution_count": 10,
     "metadata": {},
     "output_type": "execute_result"
    }
   ],
   "source": [
    "from sklearn.ensemble import RandomForestRegressor\n",
    "\n",
    "A = Xy[['X', 'H', 'Y']]\n",
    "b = y - m.predict_proba(X)[:,1]\n",
    "\n",
    "u = RandomForestRegressor(n_jobs=-1, random_state=37).fit(A, b)\n",
    "\n",
    "pd.Series(u.feature_importances_, A.columns)"
   ]
  },
  {
   "cell_type": "code",
   "execution_count": 5,
   "id": "d74656b9-332f-4c32-a452-4909732f3a2f",
   "metadata": {},
   "outputs": [
    {
     "data": {
      "text/plain": [
       "<Axes: xlabel='y', ylabel='b'>"
      ]
     },
     "execution_count": 5,
     "metadata": {},
     "output_type": "execute_result"
    },
    {
     "data": {
      "image/png": "[encoded data removed]",
      "text/plain": [
       "<Figure size 640x480 with 1 Axes>"
      ]
     },
     "metadata": {},
     "output_type": "display_data"
    }
   ],
   "source": [
    "import seaborn as sns\n",
    "\n",
    "sns.boxplot(data=pd.DataFrame({'y': y, 'b': b}), x='y', y='b')"
   ]
  },
  {
   "cell_type": "code",
   "execution_count": 6,
   "id": "4154e37a-5e37-4389-87f7-8c6772143ca8",
   "metadata": {},
   "outputs": [],
   "source": [
    "def to_df(v, c):\n",
    "    return pd.DataFrame([v], columns=c)\n",
    "\n",
    "def softmax(x):\n",
    "    e_x = np.exp(x - np.max(x))\n",
    "    return e_x / e_x.sum(axis=0)\n",
    "\n"
   ]
  },
  {
   "cell_type": "code",
   "execution_count": 7,
   "id": "7d58e302-e3f4-407d-9391-a97c5e197421",
   "metadata": {},
   "outputs": [
    {
     "data": {
      "text/html": [
       "<div>\n",
       "<style scoped>\n",
       "    .dataframe tbody tr th:only-of-type {\n",
       "        vertical-align: middle;\n",
       "    }\n",
       "\n",
       "    .dataframe tbody tr th {\n",
       "        vertical-align: top;\n",
       "    }\n",
       "\n",
       "    .dataframe thead th {\n",
       "        text-align: right;\n",
       "    }\n",
       "</style>\n",
       "<table border=\"1\" class=\"dataframe\">\n",
       "  <thead>\n",
       "    <tr style=\"text-align: right;\">\n",
       "      <th></th>\n",
       "      <th>y=0</th>\n",
       "      <th>y=1</th>\n",
       "    </tr>\n",
       "  </thead>\n",
       "  <tbody>\n",
       "    <tr>\n",
       "      <th>y_f</th>\n",
       "      <td>0.039008</td>\n",
       "      <td>0.960992</td>\n",
       "    </tr>\n",
       "    <tr>\n",
       "      <th>u_y</th>\n",
       "      <td>0.039008</td>\n",
       "      <td>0.039008</td>\n",
       "    </tr>\n",
       "    <tr>\n",
       "      <th>y_pred</th>\n",
       "      <td>0.000000</td>\n",
       "      <td>1.000000</td>\n",
       "    </tr>\n",
       "    <tr>\n",
       "      <th>y_cf</th>\n",
       "      <td>0.039008</td>\n",
       "      <td>1.039008</td>\n",
       "    </tr>\n",
       "    <tr>\n",
       "      <th>y_cf*</th>\n",
       "      <td>0.268941</td>\n",
       "      <td>0.731059</td>\n",
       "    </tr>\n",
       "  </tbody>\n",
       "</table>\n",
       "</div>"
      ],
      "text/plain": [
       "             y=0       y=1\n",
       "y_f     0.039008  0.960992\n",
       "u_y     0.039008  0.039008\n",
       "y_pred  0.000000  1.000000\n",
       "y_cf    0.039008  1.039008\n",
       "y_cf*   0.268941  0.731059"
      ]
     },
     "execution_count": 7,
     "metadata": {},
     "output_type": "execute_result"
    }
   ],
   "source": [
    "x, h, y = 1, 1, 1\n",
    "\n",
    "y_f = m.predict_proba(to_df([x, h], ['X', 'H']))[0]\n",
    "u_y = u.predict(to_df([x, h, y], ['X', 'H', 'Y']))[0]\n",
    "y_pred = m.predict_proba(to_df([x, 0], ['X', 'H']))[0]\n",
    "\n",
    "pd.DataFrame(\n",
    "    [y_f, [u_y, u_y], y_pred, y_pred + u_y, softmax(y_pred + u_y)],\n",
    "    columns=['y=0', 'y=1'],\n",
    "    index=['y_f', 'u_y', 'y_pred', 'y_cf', 'y_cf*']\n",
    ")"
   ]
  },
  {
   "cell_type": "code",
   "execution_count": 8,
   "id": "5d130beb-3988-4bf1-9ffb-d9bf1565f136",
   "metadata": {},
   "outputs": [
    {
     "data": {
      "text/html": [
       "<div>\n",
       "<style scoped>\n",
       "    .dataframe tbody tr th:only-of-type {\n",
       "        vertical-align: middle;\n",
       "    }\n",
       "\n",
       "    .dataframe tbody tr th {\n",
       "        vertical-align: top;\n",
       "    }\n",
       "\n",
       "    .dataframe thead th {\n",
       "        text-align: right;\n",
       "    }\n",
       "</style>\n",
       "<table border=\"1\" class=\"dataframe\">\n",
       "  <thead>\n",
       "    <tr style=\"text-align: right;\">\n",
       "      <th></th>\n",
       "      <th>y=0</th>\n",
       "      <th>y=1</th>\n",
       "    </tr>\n",
       "  </thead>\n",
       "  <tbody>\n",
       "    <tr>\n",
       "      <th>y_f</th>\n",
       "      <td>0.000000</td>\n",
       "      <td>1.000000</td>\n",
       "    </tr>\n",
       "    <tr>\n",
       "      <th>u_y</th>\n",
       "      <td>0.000000</td>\n",
       "      <td>0.000000</td>\n",
       "    </tr>\n",
       "    <tr>\n",
       "      <th>y_pred</th>\n",
       "      <td>0.039008</td>\n",
       "      <td>0.960992</td>\n",
       "    </tr>\n",
       "    <tr>\n",
       "      <th>y_cf</th>\n",
       "      <td>0.039008</td>\n",
       "      <td>0.960992</td>\n",
       "    </tr>\n",
       "    <tr>\n",
       "      <th>y_cf*</th>\n",
       "      <td>0.284554</td>\n",
       "      <td>0.715446</td>\n",
       "    </tr>\n",
       "  </tbody>\n",
       "</table>\n",
       "</div>"
      ],
      "text/plain": [
       "             y=0       y=1\n",
       "y_f     0.000000  1.000000\n",
       "u_y     0.000000  0.000000\n",
       "y_pred  0.039008  0.960992\n",
       "y_cf    0.039008  0.960992\n",
       "y_cf*   0.284554  0.715446"
      ]
     },
     "execution_count": 8,
     "metadata": {},
     "output_type": "execute_result"
    }
   ],
   "source": [
    "x, h, y = 1, 0, 1\n",
    "\n",
    "y_f = m.predict_proba(to_df([x, h], ['X', 'H']))[0]\n",
    "u_y = u.predict(to_df([x, h, y], ['X', 'H', 'Y']))[0]\n",
    "y_pred = m.predict_proba(to_df([1, 1], ['X', 'H']))[0]\n",
    "\n",
    "pd.DataFrame(\n",
    "    [y_f, [u_y, u_y], y_pred, y_pred + u_y, softmax(y_pred + u_y)],\n",
    "    columns=['y=0', 'y=1'],\n",
    "    index=['y_f', 'u_y', 'y_pred', 'y_cf', 'y_cf*']\n",
    ")"
   ]
  },
  {
   "cell_type": "code",
   "execution_count": null,
   "id": "81934b56-7ae2-4b66-82d0-4b5f5f1e1e60",
   "metadata": {},
   "outputs": [],
   "source": []
  }
 ],
 "metadata": {
  "kernelspec": {
   "display_name": "Python 3 (ipykernel)",
   "language": "python",
   "name": "python3"
  },
  "language_info": {
   "codemirror_mode": {
    "name": "ipython",
    "version": 3
   },
   "file_extension": ".py",
   "mimetype": "text/x-python",
   "name": "python",
   "nbconvert_exporter": "python",
   "pygments_lexer": "ipython3",
   "version": "3.11.6"
  },
  "widgets": {
   "application/vnd.jupyter.widget-state+json": {
    "state": {},
    "version_major": 2,
    "version_minor": 0
   }
  }
 },
 "nbformat": 4,
 "nbformat_minor": 5
}
