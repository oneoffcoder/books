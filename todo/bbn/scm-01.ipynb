{
 "cells": [
  {
   "cell_type": "code",
   "execution_count": 6,
   "id": "bab66cc8-4cb3-479b-9354-6d9cc86a677e",
   "metadata": {},
   "outputs": [],
   "source": [
    "from pybbn.probabilistic import create_reasoning_model\n",
    "import numpy as np\n",
    "import pandas as pd\n",
    "\n",
    "def get_model():\n",
    "    d = {\n",
    "        'nodes': ['drug', 'gender', 'recovery'],\n",
    "        'edges': [('gender', 'drug'), ('gender', 'recovery'), ('drug', 'recovery')]\n",
    "    }\n",
    "    \n",
    "    p = {\n",
    "        'gender': {\n",
    "            'columns': ['gender', '__p__'],\n",
    "            'data': [\n",
    "                ['male', 0.51], ['female', 0.49]\n",
    "            ]\n",
    "        },\n",
    "        'drug': {\n",
    "            'columns': ['gender', 'drug', '__p__'],\n",
    "            'data': [\n",
    "                ['female', 'no', 0.24],\n",
    "                ['female', 'yes', 0.76],\n",
    "                ['male', 'no', 0.76],\n",
    "                ['male', 'yes', 0.24]\n",
    "            ]\n",
    "        },\n",
    "        'recovery': {\n",
    "            'columns': ['gender', 'drug', 'recovery', '__p__'],\n",
    "            'data': [\n",
    "                ['female', 'no', 'no', 0.90],\n",
    "                ['female', 'no', 'yes', 0.10],\n",
    "                ['female', 'yes', 'no', 0.27],\n",
    "                ['female', 'yes', 'yes', 0.73],\n",
    "                ['male', 'no', 'no', 0.99],\n",
    "                ['male', 'no', 'yes', 0.01],\n",
    "                ['male', 'yes', 'no', 0.07],\n",
    "                ['male', 'yes', 'yes', 0.93]\n",
    "            ]\n",
    "        }\n",
    "    }\n",
    "    \n",
    "    model = create_reasoning_model(d, p)\n",
    "    return model\n",
    "\n",
    "model = get_model()"
   ]
  },
  {
   "cell_type": "code",
   "execution_count": 7,
   "id": "f58baeb1-a108-40e5-a26d-6628f0082233",
   "metadata": {},
   "outputs": [],
   "source": [
    "q = model.pquery()"
   ]
  },
  {
   "cell_type": "code",
   "execution_count": 8,
   "id": "02a8c406-49ba-4aa2-b7de-bee34b1538e3",
   "metadata": {},
   "outputs": [
    {
     "data": {
      "text/html": [
       "<div>\n",
       "<style scoped>\n",
       "    .dataframe tbody tr th:only-of-type {\n",
       "        vertical-align: middle;\n",
       "    }\n",
       "\n",
       "    .dataframe tbody tr th {\n",
       "        vertical-align: top;\n",
       "    }\n",
       "\n",
       "    .dataframe thead th {\n",
       "        text-align: right;\n",
       "    }\n",
       "</style>\n",
       "<table border=\"1\" class=\"dataframe\">\n",
       "  <thead>\n",
       "    <tr style=\"text-align: right;\">\n",
       "      <th></th>\n",
       "      <th>gender</th>\n",
       "      <th>__p__</th>\n",
       "    </tr>\n",
       "  </thead>\n",
       "  <tbody>\n",
       "    <tr>\n",
       "      <th>0</th>\n",
       "      <td>female</td>\n",
       "      <td>0.49</td>\n",
       "    </tr>\n",
       "    <tr>\n",
       "      <th>1</th>\n",
       "      <td>male</td>\n",
       "      <td>0.51</td>\n",
       "    </tr>\n",
       "  </tbody>\n",
       "</table>\n",
       "</div>"
      ],
      "text/plain": [
       "   gender  __p__\n",
       "0  female   0.49\n",
       "1    male   0.51"
      ]
     },
     "execution_count": 8,
     "metadata": {},
     "output_type": "execute_result"
    }
   ],
   "source": [
    "q['gender']"
   ]
  },
  {
   "cell_type": "code",
   "execution_count": 9,
   "id": "a84506cb-6404-4451-8dfa-266ec88119c5",
   "metadata": {},
   "outputs": [
    {
     "data": {
      "text/html": [
       "<div>\n",
       "<style scoped>\n",
       "    .dataframe tbody tr th:only-of-type {\n",
       "        vertical-align: middle;\n",
       "    }\n",
       "\n",
       "    .dataframe tbody tr th {\n",
       "        vertical-align: top;\n",
       "    }\n",
       "\n",
       "    .dataframe thead th {\n",
       "        text-align: right;\n",
       "    }\n",
       "</style>\n",
       "<table border=\"1\" class=\"dataframe\">\n",
       "  <thead>\n",
       "    <tr style=\"text-align: right;\">\n",
       "      <th></th>\n",
       "      <th>drug</th>\n",
       "      <th>__p__</th>\n",
       "    </tr>\n",
       "  </thead>\n",
       "  <tbody>\n",
       "    <tr>\n",
       "      <th>0</th>\n",
       "      <td>no</td>\n",
       "      <td>0.5052</td>\n",
       "    </tr>\n",
       "    <tr>\n",
       "      <th>1</th>\n",
       "      <td>yes</td>\n",
       "      <td>0.4948</td>\n",
       "    </tr>\n",
       "  </tbody>\n",
       "</table>\n",
       "</div>"
      ],
      "text/plain": [
       "  drug   __p__\n",
       "0   no  0.5052\n",
       "1  yes  0.4948"
      ]
     },
     "execution_count": 9,
     "metadata": {},
     "output_type": "execute_result"
    }
   ],
   "source": [
    "q['drug']"
   ]
  },
  {
   "cell_type": "code",
   "execution_count": 10,
   "id": "5d96aeca-b1a6-4e3c-87e5-fc2c8f7811f9",
   "metadata": {},
   "outputs": [
    {
     "data": {
      "text/html": [
       "<div>\n",
       "<style scoped>\n",
       "    .dataframe tbody tr th:only-of-type {\n",
       "        vertical-align: middle;\n",
       "    }\n",
       "\n",
       "    .dataframe tbody tr th {\n",
       "        vertical-align: top;\n",
       "    }\n",
       "\n",
       "    .dataframe thead th {\n",
       "        text-align: right;\n",
       "    }\n",
       "</style>\n",
       "<table border=\"1\" class=\"dataframe\">\n",
       "  <thead>\n",
       "    <tr style=\"text-align: right;\">\n",
       "      <th></th>\n",
       "      <th>recovery</th>\n",
       "      <th>__p__</th>\n",
       "    </tr>\n",
       "  </thead>\n",
       "  <tbody>\n",
       "    <tr>\n",
       "      <th>0</th>\n",
       "      <td>no</td>\n",
       "      <td>0.59868</td>\n",
       "    </tr>\n",
       "    <tr>\n",
       "      <th>1</th>\n",
       "      <td>yes</td>\n",
       "      <td>0.40132</td>\n",
       "    </tr>\n",
       "  </tbody>\n",
       "</table>\n",
       "</div>"
      ],
      "text/plain": [
       "  recovery    __p__\n",
       "0       no  0.59868\n",
       "1      yes  0.40132"
      ]
     },
     "execution_count": 10,
     "metadata": {},
     "output_type": "execute_result"
    }
   ],
   "source": [
    "q['recovery']"
   ]
  },
  {
   "cell_type": "code",
   "execution_count": null,
   "id": "64e91ae6-4b0f-445a-becf-f7254a8f6fe7",
   "metadata": {},
   "outputs": [],
   "source": []
  },
  {
   "cell_type": "code",
   "execution_count": 64,
   "id": "5f1eacd8-2524-4c0c-ac33-1948b2bce6af",
   "metadata": {},
   "outputs": [],
   "source": [
    "def add_priors(p0, p1):\n",
    "    p = p0 + p1\n",
    "    p = p / np.sum(p)\n",
    "    return p"
   ]
  },
  {
   "cell_type": "code",
   "execution_count": 125,
   "id": "f79bc22a-95f4-46c8-9722-9718aa1183d0",
   "metadata": {},
   "outputs": [
    {
     "data": {
      "text/plain": [
       "array([0.07, 0.93])"
      ]
     },
     "execution_count": 125,
     "metadata": {},
     "output_type": "execute_result"
    }
   ],
   "source": [
    "p_true = model.pquery(evidences=model.e({'gender': 'male', 'drug': 'yes'}))['recovery'].__p__.values\n",
    "p_true"
   ]
  },
  {
   "cell_type": "code",
   "execution_count": 126,
   "id": "d43e7024-19ba-49e8-a650-4796cfe6bf2b",
   "metadata": {},
   "outputs": [
    {
     "data": {
      "text/plain": [
       "array([0., 1.])"
      ]
     },
     "execution_count": 126,
     "metadata": {},
     "output_type": "execute_result"
    }
   ],
   "source": [
    "p_pred = model.pquery(evidences=model.e({'gender': 'male', 'drug': 'yes', 'recovery': 'yes'}))['recovery'].__p__.values\n",
    "p_pred"
   ]
  },
  {
   "cell_type": "code",
   "execution_count": 127,
   "id": "d7e20559-0e67-4980-bb7d-8cc064c1d5d7",
   "metadata": {},
   "outputs": [
    {
     "data": {
      "text/plain": [
       "array([ 0.07, -0.07])"
      ]
     },
     "execution_count": 127,
     "metadata": {},
     "output_type": "execute_result"
    }
   ],
   "source": [
    "p_true - p_pred"
   ]
  },
  {
   "cell_type": "code",
   "execution_count": 152,
   "id": "05f306c6-0adb-447c-a86b-c5b082ac97bc",
   "metadata": {},
   "outputs": [
    {
     "data": {
      "text/plain": [
       "array([0.06039897, 0.93960103])"
      ]
     },
     "execution_count": 152,
     "metadata": {},
     "output_type": "execute_result"
    }
   ],
   "source": [
    "def normalize(p0, p1, e):\n",
    "    p0 = p0 + e\n",
    "    p1 = p1 + e\n",
    "    p = p0 + p1\n",
    "    return [p0 / p, p1 / p]\n",
    "\n",
    "e = np.array(list(np.arange(0, 0.08, 0.01)) + list(-np.arange(0.01, 0.08, 0.01)))\n",
    "e = np.random.choice(e, size=100)\n",
    "\n",
    "np.mean(np.array([normalize(p_true[0], p_true[1], _e) for _e in e]), axis=0)"
   ]
  },
  {
   "cell_type": "code",
   "execution_count": null,
   "id": "cf35f97d-c1be-4a9d-980a-71770b9c13d9",
   "metadata": {},
   "outputs": [],
   "source": []
  },
  {
   "cell_type": "code",
   "execution_count": null,
   "id": "c0620c69-aab0-4dfb-8976-b79223f02fbb",
   "metadata": {},
   "outputs": [],
   "source": []
  },
  {
   "cell_type": "code",
   "execution_count": null,
   "id": "d87208d1-e77c-4f67-ae73-c11a17f0515b",
   "metadata": {},
   "outputs": [],
   "source": []
  },
  {
   "cell_type": "code",
   "execution_count": null,
   "id": "647e3575-ea34-48bd-a3f2-51546213bc93",
   "metadata": {},
   "outputs": [],
   "source": []
  },
  {
   "cell_type": "code",
   "execution_count": null,
   "id": "17c43ca7-6115-4ec8-a5a2-b8b47f9d752d",
   "metadata": {},
   "outputs": [],
   "source": []
  },
  {
   "cell_type": "code",
   "execution_count": null,
   "id": "cf6c7744-d345-4c2c-9f5e-5e1421c08d35",
   "metadata": {},
   "outputs": [],
   "source": []
  },
  {
   "cell_type": "code",
   "execution_count": 94,
   "id": "a80f7129-2bb3-4dbe-84e3-067958a501b3",
   "metadata": {},
   "outputs": [
    {
     "data": {
      "text/plain": [
       "array([0.4955, 0.5045])"
      ]
     },
     "execution_count": 94,
     "metadata": {},
     "output_type": "execute_result"
    }
   ],
   "source": [
    "u = model.pquery(evidences=model.e({'gender': 'male', 'drug': 'yes', 'recovery': 'yes'}))['recovery'].__p__.values\n",
    "y = model.pquery(evidences=model.e({'gender': 'male', 'drug': 'no'}))['recovery'].__p__.values\n",
    "\n",
    "u_c = np.random.multinomial(5_000, u)\n",
    "y_c = np.random.multinomial(5_000, y)\n",
    "\n",
    "add_priors(u_c, y_c)"
   ]
  },
  {
   "cell_type": "code",
   "execution_count": 93,
   "id": "0eb9ce38-6438-45af-b174-0fdf8d69bb45",
   "metadata": {},
   "outputs": [
    {
     "data": {
      "text/plain": [
       "array([   0, 5000])"
      ]
     },
     "execution_count": 93,
     "metadata": {},
     "output_type": "execute_result"
    }
   ],
   "source": [
    "np.random.multinomial(5_000, u)"
   ]
  },
  {
   "cell_type": "code",
   "execution_count": 90,
   "id": "143fc973-8982-412b-b0c8-bca2e7b5fd74",
   "metadata": {},
   "outputs": [
    {
     "data": {
      "text/plain": [
       "{'drug':   drug  __p__\n",
       " 0   no    0.0\n",
       " 1  yes    1.0,\n",
       " 'gender':    gender  __p__\n",
       " 0  female    0.0\n",
       " 1    male    1.0,\n",
       " 'recovery':   recovery  __p__\n",
       " 0       no    0.0\n",
       " 1      yes    1.0}"
      ]
     },
     "execution_count": 90,
     "metadata": {},
     "output_type": "execute_result"
    }
   ],
   "source": [
    "model.pquery(evidences=model.e({'gender': 'male', 'drug': 'yes', 'recovery': 'yes'}))"
   ]
  },
  {
   "cell_type": "code",
   "execution_count": null,
   "id": "f6e8c937-d52f-4da4-a786-e5b728eb29cc",
   "metadata": {},
   "outputs": [],
   "source": []
  },
  {
   "cell_type": "code",
   "execution_count": 119,
   "id": "52b7d3cc-8a63-4ba6-9dbc-eba95305d00e",
   "metadata": {},
   "outputs": [
    {
     "data": {
      "text/plain": [
       "array([0.721, 0.279])"
      ]
     },
     "execution_count": 119,
     "metadata": {},
     "output_type": "execute_result"
    }
   ],
   "source": [
    "u = model.pquery(evidences=model.e({'gender': 'male', 'drug': 'yes', 'recovery': 'yes'}))['recovery'].__p__.values\n",
    "y = model.pquery(evidences=model.e({'gender': 'male', 'drug': 'no'}))['recovery'].__p__.values\n",
    "\n",
    "u_c = np.random.multinomial(1_000, np.array([0.5, 0.5]))\n",
    "y_c = np.random.multinomial(1_000, y)\n",
    "\n",
    "add_priors(u_c, y_c)"
   ]
  },
  {
   "cell_type": "code",
   "execution_count": 120,
   "id": "41f865eb-f4c2-436c-b4ac-a07fb2fc369d",
   "metadata": {},
   "outputs": [
    {
     "data": {
      "text/plain": [
       "array([450, 550])"
      ]
     },
     "execution_count": 120,
     "metadata": {},
     "output_type": "execute_result"
    }
   ],
   "source": [
    "u_c"
   ]
  },
  {
   "cell_type": "code",
   "execution_count": 121,
   "id": "fc0d6adf-919f-4be5-b77b-dd09193a97ee",
   "metadata": {},
   "outputs": [
    {
     "data": {
      "text/plain": [
       "array([992,   8])"
      ]
     },
     "execution_count": 121,
     "metadata": {},
     "output_type": "execute_result"
    }
   ],
   "source": [
    "y_c"
   ]
  },
  {
   "cell_type": "code",
   "execution_count": 118,
   "id": "0942de87-94f8-47f1-ab84-482f88077150",
   "metadata": {},
   "outputs": [
    {
     "data": {
      "text/plain": [
       "array([0.289, 0.711])"
      ]
     },
     "execution_count": 118,
     "metadata": {},
     "output_type": "execute_result"
    }
   ],
   "source": [
    "u = model.pquery(evidences=model.e({'gender': 'male', 'drug': 'no', 'recovery': 'no'}))['recovery'].__p__.values\n",
    "y = model.pquery(evidences=model.e({'gender': 'male', 'drug': 'yes'}))['recovery'].__p__.values\n",
    "\n",
    "u_c = np.random.multinomial(1_000, np.array([0.5, 0.5]))\n",
    "y_c = np.random.multinomial(1_000, y)\n",
    "\n",
    "add_priors(u_c, y_c)"
   ]
  },
  {
   "cell_type": "code",
   "execution_count": null,
   "id": "ea0782f0-cbe8-4b73-b9fe-fdf69524c93d",
   "metadata": {},
   "outputs": [],
   "source": []
  },
  {
   "cell_type": "code",
   "execution_count": null,
   "id": "6a8b29b4-913e-4754-aa68-05f3fc82d8b4",
   "metadata": {},
   "outputs": [],
   "source": []
  },
  {
   "cell_type": "code",
   "execution_count": null,
   "id": "64525a1e-f73e-4b1e-b97d-d65fe5c93574",
   "metadata": {},
   "outputs": [],
   "source": []
  },
  {
   "cell_type": "code",
   "execution_count": 66,
   "id": "9774b107-deed-4941-880e-8244d61e3328",
   "metadata": {},
   "outputs": [
    {
     "data": {
      "text/plain": [
       "array([0.84, 0.16])"
      ]
     },
     "execution_count": 66,
     "metadata": {},
     "output_type": "execute_result"
    }
   ],
   "source": [
    "u = model.pquery(evidences=model.e({'gender': 'male', 'drug': 'no'}))['recovery'].__p__.values\n",
    "y = model.pquery(evidences=model.e({'gender': 'male', 'drug': 'yes'}))['recovery'].__p__.values\n",
    "\n",
    "u_c = np.random.multinomial(500, u)\n",
    "y_c = np.random.multinomial(100, y)\n",
    "\n",
    "add_priors(u_c, y_c)"
   ]
  },
  {
   "cell_type": "code",
   "execution_count": null,
   "id": "57eba9fe-18d4-4bd0-b03b-b5e56521dc65",
   "metadata": {},
   "outputs": [],
   "source": []
  },
  {
   "cell_type": "code",
   "execution_count": 67,
   "id": "65973410-7eb6-495a-ad21-c4091f593a5e",
   "metadata": {},
   "outputs": [
    {
     "data": {
      "text/plain": [
       "array([0.38333333, 0.61666667])"
      ]
     },
     "execution_count": 67,
     "metadata": {},
     "output_type": "execute_result"
    }
   ],
   "source": [
    "u = model.pquery(evidences=model.e({'gender': 'female', 'drug': 'yes'}))['recovery'].__p__.values\n",
    "y = model.pquery(evidences=model.e({'gender': 'female', 'drug': 'no'}))['recovery'].__p__.values\n",
    "\n",
    "u_c = np.random.multinomial(500, u)\n",
    "y_c = np.random.multinomial(100, y)\n",
    "\n",
    "add_priors(u_c, y_c)"
   ]
  },
  {
   "cell_type": "code",
   "execution_count": null,
   "id": "0488b04e-f308-4806-8711-7589dd7104ba",
   "metadata": {},
   "outputs": [],
   "source": []
  },
  {
   "cell_type": "code",
   "execution_count": 71,
   "id": "bb55834f-aaa3-45f1-a0b6-0c4892eb626e",
   "metadata": {},
   "outputs": [
    {
     "data": {
      "text/plain": [
       "array([0.78166667, 0.21833333])"
      ]
     },
     "execution_count": 71,
     "metadata": {},
     "output_type": "execute_result"
    }
   ],
   "source": [
    "u = model.pquery(evidences=model.e({'gender': 'female', 'drug': 'no'}))['recovery'].__p__.values\n",
    "y = model.pquery(evidences=model.e({'gender': 'female', 'drug': 'yes'}))['recovery'].__p__.values\n",
    "\n",
    "u_c = np.random.multinomial(500, u)\n",
    "y_c = np.random.multinomial(100, y)\n",
    "\n",
    "add_priors(u_c, y_c)"
   ]
  },
  {
   "cell_type": "code",
   "execution_count": null,
   "id": "c01ccc62-7813-4149-9a07-c6c96a0ff6fa",
   "metadata": {},
   "outputs": [],
   "source": []
  },
  {
   "cell_type": "code",
   "execution_count": null,
   "id": "a454e8a0-4282-4c24-9c0f-986e83ab9893",
   "metadata": {},
   "outputs": [],
   "source": []
  },
  {
   "cell_type": "code",
   "execution_count": null,
   "id": "e48787ef-4b84-4608-93b8-4bfd671b5c7b",
   "metadata": {},
   "outputs": [],
   "source": []
  },
  {
   "cell_type": "code",
   "execution_count": null,
   "id": "1c568313-e7d2-4692-86c2-c9440c275a2c",
   "metadata": {},
   "outputs": [],
   "source": []
  },
  {
   "cell_type": "code",
   "execution_count": 73,
   "id": "e2ad9628-ed6d-43ee-86de-344eddabad3f",
   "metadata": {},
   "outputs": [
    {
     "data": {
      "text/plain": [
       "array([[3.47799424e-03, 9.96522006e-01],\n",
       "       [1.93513677e-05, 9.99980649e-01],\n",
       "       [1.31672200e-02, 9.86832780e-01],\n",
       "       [2.59302549e-08, 9.99999974e-01],\n",
       "       [2.58939574e-01, 7.41060426e-01],\n",
       "       [3.87513109e-03, 9.96124869e-01],\n",
       "       [8.03741838e-05, 9.99919626e-01],\n",
       "       [9.13347769e-11, 1.00000000e+00],\n",
       "       [2.70618792e-06, 9.99997294e-01],\n",
       "       [6.45611400e-07, 9.99999354e-01]])"
      ]
     },
     "execution_count": 73,
     "metadata": {},
     "output_type": "execute_result"
    }
   ],
   "source": [
    "np.random.dirichlet([0.1, 0.9], size=10)"
   ]
  },
  {
   "cell_type": "code",
   "execution_count": 82,
   "id": "5aab1c78-3e55-41e5-b8b0-f314b43f52e4",
   "metadata": {},
   "outputs": [
    {
     "data": {
      "text/plain": [
       "array([0.0996, 0.9004])"
      ]
     },
     "execution_count": 82,
     "metadata": {},
     "output_type": "execute_result"
    }
   ],
   "source": [
    "np.mean(np.array([np.random.multinomial(1, a) for a in np.random.dirichlet([0.1, 0.90], size=10_000)]), axis=0)"
   ]
  },
  {
   "cell_type": "code",
   "execution_count": 85,
   "id": "40924625-dbc5-4cc6-86a5-9646cb607d8a",
   "metadata": {},
   "outputs": [
    {
     "data": {
      "text/plain": [
       "array([1038, 8962])"
      ]
     },
     "execution_count": 85,
     "metadata": {},
     "output_type": "execute_result"
    }
   ],
   "source": [
    "np.random.multinomial(10_000, [0.1, 0.90])"
   ]
  },
  {
   "cell_type": "code",
   "execution_count": null,
   "id": "9ca19ade-f438-4f31-9f36-fb9c46842b02",
   "metadata": {},
   "outputs": [],
   "source": []
  },
  {
   "cell_type": "code",
   "execution_count": 72,
   "id": "6193cb4f-44fc-46cf-9189-9be701fdb4c4",
   "metadata": {},
   "outputs": [
    {
     "data": {
      "text/plain": [
       "\u001b[0;31mDocstring:\u001b[0m\n",
       "dirichlet(alpha, size=None)\n",
       "\n",
       "Draw samples from the Dirichlet distribution.\n",
       "\n",
       "Draw `size` samples of dimension k from a Dirichlet distribution. A\n",
       "Dirichlet-distributed random variable can be seen as a multivariate\n",
       "generalization of a Beta distribution. The Dirichlet distribution\n",
       "is a conjugate prior of a multinomial distribution in Bayesian\n",
       "inference.\n",
       "\n",
       ".. note::\n",
       "    New code should use the `~numpy.random.Generator.dirichlet`\n",
       "    method of a `~numpy.random.Generator` instance instead;\n",
       "    please see the :ref:`random-quick-start`.\n",
       "\n",
       "Parameters\n",
       "----------\n",
       "alpha : sequence of floats, length k\n",
       "    Parameter of the distribution (length ``k`` for sample of\n",
       "    length ``k``).\n",
       "size : int or tuple of ints, optional\n",
       "    Output shape.  If the given shape is, e.g., ``(m, n)``, then\n",
       "    ``m * n * k`` samples are drawn.  Default is None, in which case a\n",
       "    vector of length ``k`` is returned.\n",
       "\n",
       "Returns\n",
       "-------\n",
       "samples : ndarray,\n",
       "    The drawn samples, of shape ``(size, k)``.\n",
       "\n",
       "Raises\n",
       "------\n",
       "ValueError\n",
       "    If any value in ``alpha`` is less than or equal to zero\n",
       "\n",
       "See Also\n",
       "--------\n",
       "random.Generator.dirichlet: which should be used for new code.\n",
       "\n",
       "Notes\n",
       "-----\n",
       "The Dirichlet distribution is a distribution over vectors\n",
       ":math:`x` that fulfil the conditions :math:`x_i>0` and\n",
       ":math:`\\sum_{i=1}^k x_i = 1`.\n",
       "\n",
       "The probability density function :math:`p` of a\n",
       "Dirichlet-distributed random vector :math:`X` is\n",
       "proportional to\n",
       "\n",
       ".. math:: p(x) \\propto \\prod_{i=1}^{k}{x^{\\alpha_i-1}_i},\n",
       "\n",
       "where :math:`\\alpha` is a vector containing the positive\n",
       "concentration parameters.\n",
       "\n",
       "The method uses the following property for computation: let :math:`Y`\n",
       "be a random vector which has components that follow a standard gamma\n",
       "distribution, then :math:`X = \\frac{1}{\\sum_{i=1}^k{Y_i}} Y`\n",
       "is Dirichlet-distributed\n",
       "\n",
       "References\n",
       "----------\n",
       ".. [1] David McKay, \"Information Theory, Inference and Learning\n",
       "       Algorithms,\" chapter 23,\n",
       "       http://www.inference.org.uk/mackay/itila/\n",
       ".. [2] Wikipedia, \"Dirichlet distribution\",\n",
       "       https://en.wikipedia.org/wiki/Dirichlet_distribution\n",
       "\n",
       "Examples\n",
       "--------\n",
       "Taking an example cited in Wikipedia, this distribution can be used if\n",
       "one wanted to cut strings (each of initial length 1.0) into K pieces\n",
       "with different lengths, where each piece had, on average, a designated\n",
       "average length, but allowing some variation in the relative sizes of\n",
       "the pieces.\n",
       "\n",
       ">>> s = np.random.dirichlet((10, 5, 3), 20).transpose()\n",
       "\n",
       ">>> import matplotlib.pyplot as plt\n",
       ">>> plt.barh(range(20), s[0])\n",
       ">>> plt.barh(range(20), s[1], left=s[0], color='g')\n",
       ">>> plt.barh(range(20), s[2], left=s[0]+s[1], color='r')\n",
       ">>> plt.title(\"Lengths of Strings\")\n",
       "\u001b[0;31mType:\u001b[0m      builtin_function_or_method"
      ]
     },
     "metadata": {},
     "output_type": "display_data"
    }
   ],
   "source": [
    "??np.random.dirichlet"
   ]
  },
  {
   "cell_type": "code",
   "execution_count": null,
   "id": "66685b3b-b31e-412e-b714-7146adcfbf03",
   "metadata": {},
   "outputs": [],
   "source": []
  }
 ],
 "metadata": {
  "kernelspec": {
   "display_name": "Python 3 (ipykernel)",
   "language": "python",
   "name": "python3"
  },
  "language_info": {
   "codemirror_mode": {
    "name": "ipython",
    "version": 3
   },
   "file_extension": ".py",
   "mimetype": "text/x-python",
   "name": "python",
   "nbconvert_exporter": "python",
   "pygments_lexer": "ipython3",
   "version": "3.11.5"
  },
  "widgets": {
   "application/vnd.jupyter.widget-state+json": {
    "state": {},
    "version_major": 2,
    "version_minor": 0
   }
  }
 },
 "nbformat": 4,
 "nbformat_minor": 5
}
