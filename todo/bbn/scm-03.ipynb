{
 "cells": [
  {
   "cell_type": "code",
   "execution_count": 1,
   "id": "e95fd05b-1fe5-49dc-807f-bf9741cda48e",
   "metadata": {},
   "outputs": [],
   "source": [
    "from pybbn.probabilistic import create_reasoning_model\n",
    "import numpy as np\n",
    "import pandas as pd\n",
    "\n",
    "def get_model():\n",
    "    d = {\n",
    "        'nodes': ['u_g', 'u_d', 'u_r', 'drug', 'gender', 'recovery'],\n",
    "        'edges': [\n",
    "            ('u_g', 'gender'),\n",
    "            ('u_d', 'drug'),\n",
    "            ('u_r', 'recovery'),\n",
    "            ('gender', 'drug'), \n",
    "            ('gender', 'recovery'), \n",
    "            ('drug', 'recovery')\n",
    "        ]\n",
    "    }\n",
    "    \n",
    "    p = {\n",
    "        'u_g': {\n",
    "            'columns': ['u_g', '__p__'],\n",
    "            'data': [\n",
    "                ['u0', 0.5],\n",
    "                ['u1', 0.5]\n",
    "            ]\n",
    "        },\n",
    "        'u_d': {\n",
    "            'columns': ['u_d', '__p__'],\n",
    "            'data': [\n",
    "                ['u0', 0.5],\n",
    "                ['u1', 0.5]\n",
    "            ]\n",
    "        },\n",
    "        'u_r': {\n",
    "            'columns': ['u_r', '__p__'],\n",
    "            'data': [\n",
    "                ['u0', 0.5],\n",
    "                ['u1', 0.5]\n",
    "            ]\n",
    "        },\n",
    "        'gender': {\n",
    "            'columns': ['u_g', 'gender', '__p__'],\n",
    "            'data': [\n",
    "                ['u0', 'male', 0.51],\n",
    "                ['u0', 'female', 0.49],\n",
    "                ['u1', 'male', 0.51],\n",
    "                ['u1', 'female', 0.49]\n",
    "            ]\n",
    "        },\n",
    "        'drug': {\n",
    "            'columns': ['u_d', 'gender', 'drug', '__p__'],\n",
    "            'data': [\n",
    "                ['u0', 'female', 'no', 0.24],\n",
    "                ['u0', 'female', 'yes', 0.76],\n",
    "                ['u0', 'male', 'no', 0.76],\n",
    "                ['u0', 'male', 'yes', 0.24],\n",
    "                ['u1', 'female', 'no', 0.24],\n",
    "                ['u1', 'female', 'yes', 0.76],\n",
    "                ['u1', 'male', 'no', 0.76],\n",
    "                ['u1', 'male', 'yes', 0.24]\n",
    "            ]\n",
    "        },\n",
    "        'recovery': {\n",
    "            'columns': ['u_r', 'gender', 'drug', 'recovery', '__p__'],\n",
    "            'data': [['u0', 'female', 'no', 'no', 0.754120773744139],\n",
    " ['u0', 'female', 'no', 'yes', 0.24587922625586092],\n",
    " ['u0', 'female', 'yes', 'no', 0.42974710008826483],\n",
    " ['u0', 'female', 'yes', 'yes', 0.5702528999117352],\n",
    " ['u0', 'male', 'no', 'no', 0.9181246406473548],\n",
    " ['u0', 'male', 'no', 'yes', 0.08187535935264474],\n",
    " ['u0', 'male', 'yes', 'no', 0.23193221295721053],\n",
    " ['u0', 'male', 'yes', 'yes', 0.7680677870427897],\n",
    " ['u1', 'female', 'no', 'no', 0.732675080329264],\n",
    " ['u1', 'female', 'no', 'yes', 0.2673249196707359],\n",
    " ['u1', 'female', 'yes', 'no', 0.4180664522355722],\n",
    " ['u1', 'female', 'yes', 'yes', 0.5819335477644277],\n",
    " ['u1', 'male', 'no', 'no', 0.905961176198435],\n",
    " ['u1', 'male', 'no', 'yes', 0.09403882380156531],\n",
    " ['u1', 'male', 'yes', 'no', 0.21603039449722883],\n",
    " ['u1', 'male', 'yes', 'yes', 0.7839696055027713]]\n",
    "        }\n",
    "    }\n",
    "    \n",
    "    model = create_reasoning_model(d, p)\n",
    "    return model\n",
    "\n",
    "model = get_model()"
   ]
  },
  {
   "cell_type": "code",
   "execution_count": 2,
   "id": "72e5188a-57e1-4073-9b8e-8b42de147097",
   "metadata": {},
   "outputs": [
    {
     "data": {
      "text/plain": [
       "{'u_g':   u_g  __p__\n",
       " 0  u0    0.5\n",
       " 1  u1    0.5,\n",
       " 'u_d':   u_d  __p__\n",
       " 0  u0    0.5\n",
       " 1  u1    0.5,\n",
       " 'u_r':   u_r  __p__\n",
       " 0  u0    0.5\n",
       " 1  u1    0.5,\n",
       " 'drug':   drug   __p__\n",
       " 0   no  0.5052\n",
       " 1  yes  0.4948,\n",
       " 'gender':    gender  __p__\n",
       " 0  female   0.49\n",
       " 1    male   0.51,\n",
       " 'recovery':   recovery    __p__\n",
       " 0       no  0.62621\n",
       " 1      yes  0.37379}"
      ]
     },
     "execution_count": 2,
     "metadata": {},
     "output_type": "execute_result"
    }
   ],
   "source": [
    "model.pquery()"
   ]
  },
  {
   "cell_type": "code",
   "execution_count": 3,
   "id": "76bcf837-237e-437f-a1d9-927a26fbc289",
   "metadata": {},
   "outputs": [
    {
     "data": {
      "text/html": [
       "<div>\n",
       "<style scoped>\n",
       "    .dataframe tbody tr th:only-of-type {\n",
       "        vertical-align: middle;\n",
       "    }\n",
       "\n",
       "    .dataframe tbody tr th {\n",
       "        vertical-align: top;\n",
       "    }\n",
       "\n",
       "    .dataframe thead th {\n",
       "        text-align: right;\n",
       "    }\n",
       "</style>\n",
       "<table border=\"1\" class=\"dataframe\">\n",
       "  <thead>\n",
       "    <tr style=\"text-align: right;\">\n",
       "      <th></th>\n",
       "      <th>recovery</th>\n",
       "      <th>__p__</th>\n",
       "    </tr>\n",
       "  </thead>\n",
       "  <tbody>\n",
       "    <tr>\n",
       "      <th>0</th>\n",
       "      <td>no</td>\n",
       "      <td>0.911981</td>\n",
       "    </tr>\n",
       "    <tr>\n",
       "      <th>1</th>\n",
       "      <td>yes</td>\n",
       "      <td>0.088019</td>\n",
       "    </tr>\n",
       "  </tbody>\n",
       "</table>\n",
       "</div>"
      ],
      "text/plain": [
       "  recovery     __p__\n",
       "0       no  0.911981\n",
       "1      yes  0.088019"
      ]
     },
     "execution_count": 3,
     "metadata": {},
     "output_type": "execute_result"
    }
   ],
   "source": [
    "a = model.pquery(evidences=model.e({'gender': 'male', 'drug': 'yes', 'recovery': 'yes'}))\n",
    "h = {**model.e({'gender': 'male', 'drug': 'no'}), **{'u_r': a['u_r']}}\n",
    "model.pquery(evidences=h)['recovery']"
   ]
  },
  {
   "cell_type": "code",
   "execution_count": 4,
   "id": "f3071bcf-3e25-4270-8f71-0ef5dd84800a",
   "metadata": {},
   "outputs": [
    {
     "data": {
      "text/html": [
       "<div>\n",
       "<style scoped>\n",
       "    .dataframe tbody tr th:only-of-type {\n",
       "        vertical-align: middle;\n",
       "    }\n",
       "\n",
       "    .dataframe tbody tr th {\n",
       "        vertical-align: top;\n",
       "    }\n",
       "\n",
       "    .dataframe thead th {\n",
       "        text-align: right;\n",
       "    }\n",
       "</style>\n",
       "<table border=\"1\" class=\"dataframe\">\n",
       "  <thead>\n",
       "    <tr style=\"text-align: right;\">\n",
       "      <th></th>\n",
       "      <th>recovery</th>\n",
       "      <th>__p__</th>\n",
       "    </tr>\n",
       "  </thead>\n",
       "  <tbody>\n",
       "    <tr>\n",
       "      <th>0</th>\n",
       "      <td>no</td>\n",
       "      <td>0.224034</td>\n",
       "    </tr>\n",
       "    <tr>\n",
       "      <th>1</th>\n",
       "      <td>yes</td>\n",
       "      <td>0.775966</td>\n",
       "    </tr>\n",
       "  </tbody>\n",
       "</table>\n",
       "</div>"
      ],
      "text/plain": [
       "  recovery     __p__\n",
       "0       no  0.224034\n",
       "1      yes  0.775966"
      ]
     },
     "execution_count": 4,
     "metadata": {},
     "output_type": "execute_result"
    }
   ],
   "source": [
    "a = model.pquery(evidences=model.e({'gender': 'male', 'drug': 'no', 'recovery': 'no'}))\n",
    "h = {**model.e({'gender': 'male', 'drug': 'yes'}), **{'u_r': a['u_r']}}\n",
    "model.pquery(evidences=h)['recovery']"
   ]
  },
  {
   "cell_type": "code",
   "execution_count": 5,
   "id": "827515bb-08a9-4249-b987-3147f1f04e38",
   "metadata": {},
   "outputs": [
    {
     "data": {
      "text/html": [
       "<div>\n",
       "<style scoped>\n",
       "    .dataframe tbody tr th:only-of-type {\n",
       "        vertical-align: middle;\n",
       "    }\n",
       "\n",
       "    .dataframe tbody tr th {\n",
       "        vertical-align: top;\n",
       "    }\n",
       "\n",
       "    .dataframe thead th {\n",
       "        text-align: right;\n",
       "    }\n",
       "</style>\n",
       "<table border=\"1\" class=\"dataframe\">\n",
       "  <thead>\n",
       "    <tr style=\"text-align: right;\">\n",
       "      <th></th>\n",
       "      <th>recovery</th>\n",
       "      <th>__p__</th>\n",
       "    </tr>\n",
       "  </thead>\n",
       "  <tbody>\n",
       "    <tr>\n",
       "      <th>0</th>\n",
       "      <td>no</td>\n",
       "      <td>0.743289</td>\n",
       "    </tr>\n",
       "    <tr>\n",
       "      <th>1</th>\n",
       "      <td>yes</td>\n",
       "      <td>0.256711</td>\n",
       "    </tr>\n",
       "  </tbody>\n",
       "</table>\n",
       "</div>"
      ],
      "text/plain": [
       "  recovery     __p__\n",
       "0       no  0.743289\n",
       "1      yes  0.256711"
      ]
     },
     "execution_count": 5,
     "metadata": {},
     "output_type": "execute_result"
    }
   ],
   "source": [
    "a = model.pquery(evidences=model.e({'gender': 'female', 'drug': 'yes', 'recovery': 'yes'}))\n",
    "h = {**model.e({'gender': 'female', 'drug': 'no'}), **{'u_r': a['u_r']}}\n",
    "model.pquery(evidences=h)['recovery']"
   ]
  },
  {
   "cell_type": "code",
   "execution_count": 6,
   "id": "8ecec93e-2792-4f5b-9a01-ef97bd8a74d9",
   "metadata": {},
   "outputs": [
    {
     "data": {
      "text/html": [
       "<div>\n",
       "<style scoped>\n",
       "    .dataframe tbody tr th:only-of-type {\n",
       "        vertical-align: middle;\n",
       "    }\n",
       "\n",
       "    .dataframe tbody tr th {\n",
       "        vertical-align: top;\n",
       "    }\n",
       "\n",
       "    .dataframe thead th {\n",
       "        text-align: right;\n",
       "    }\n",
       "</style>\n",
       "<table border=\"1\" class=\"dataframe\">\n",
       "  <thead>\n",
       "    <tr style=\"text-align: right;\">\n",
       "      <th></th>\n",
       "      <th>recovery</th>\n",
       "      <th>__p__</th>\n",
       "    </tr>\n",
       "  </thead>\n",
       "  <tbody>\n",
       "    <tr>\n",
       "      <th>0</th>\n",
       "      <td>no</td>\n",
       "      <td>0.423663</td>\n",
       "    </tr>\n",
       "    <tr>\n",
       "      <th>1</th>\n",
       "      <td>yes</td>\n",
       "      <td>0.576337</td>\n",
       "    </tr>\n",
       "  </tbody>\n",
       "</table>\n",
       "</div>"
      ],
      "text/plain": [
       "  recovery     __p__\n",
       "0       no  0.423663\n",
       "1      yes  0.576337"
      ]
     },
     "execution_count": 6,
     "metadata": {},
     "output_type": "execute_result"
    }
   ],
   "source": [
    "a = model.pquery(evidences=model.e({'gender': 'female', 'drug': 'no', 'recovery': 'yes'}))\n",
    "h = {**model.e({'gender': 'female', 'drug': 'yes'}), **{'u_r': a['u_r']}}\n",
    "model.pquery(evidences=h)['recovery']"
   ]
  },
  {
   "cell_type": "code",
   "execution_count": null,
   "id": "dfe0e795-6c44-4e38-be5a-b8d614447603",
   "metadata": {},
   "outputs": [],
   "source": []
  }
 ],
 "metadata": {
  "kernelspec": {
   "display_name": "Python 3 (ipykernel)",
   "language": "python",
   "name": "python3"
  },
  "language_info": {
   "codemirror_mode": {
    "name": "ipython",
    "version": 3
   },
   "file_extension": ".py",
   "mimetype": "text/x-python",
   "name": "python",
   "nbconvert_exporter": "python",
   "pygments_lexer": "ipython3",
   "version": "3.11.6"
  },
  "widgets": {
   "application/vnd.jupyter.widget-state+json": {
    "state": {},
    "version_major": 2,
    "version_minor": 0
   }
  }
 },
 "nbformat": 4,
 "nbformat_minor": 5
}
