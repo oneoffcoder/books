{
 "cells": [
  {
   "cell_type": "code",
   "execution_count": 1,
   "id": "eb048f27-2c19-47ba-b1d5-b9bb8d9294e4",
   "metadata": {},
   "outputs": [],
   "source": [
    "import networkx as nx\n",
    "from pybbn.probabilistic import create_reasoning_model\n",
    "\n",
    "def get_model():\n",
    "    d = nx.DiGraph()\n",
    "    d.add_nodes_from(['drug', 'gender', 'recovery'])\n",
    "    d.add_edges_from([('gender', 'drug'), ('gender', 'recovery'), ('drug', 'recovery')])\n",
    "    \n",
    "    p = {\n",
    "        'gender': {\n",
    "            'columns': ['gender', '__p__'],\n",
    "            'data': [\n",
    "                ['male', 0.51], ['female', 0.49]\n",
    "            ]\n",
    "        },\n",
    "        'drug': {\n",
    "            'columns': ['gender', 'drug', '__p__'],\n",
    "            'data': [\n",
    "                ['female', 'no', 0.24],\n",
    "                ['female', 'yes', 0.76],\n",
    "                ['male', 'no', 0.76],\n",
    "                ['male', 'yes', 0.24]\n",
    "            ]\n",
    "        },\n",
    "        'recovery': {\n",
    "            'columns': ['gender', 'drug', 'recovery', '__p__'],\n",
    "            'data': [\n",
    "                ['female', 'no', 'no', 0.90],\n",
    "                ['female', 'no', 'yes', 0.10],\n",
    "                ['female', 'yes', 'no', 0.27],\n",
    "                ['female', 'yes', 'yes', 0.73],\n",
    "                ['male', 'no', 'no', 0.99],\n",
    "                ['male', 'no', 'yes', 0.01],\n",
    "                ['male', 'yes', 'no', 0.07],\n",
    "                ['male', 'yes', 'yes', 0.93]\n",
    "            ]\n",
    "        }\n",
    "    }\n",
    "    \n",
    "    model = create_reasoning_model(d, p)\n",
    "    return model\n",
    "\n",
    "model = get_model()"
   ]
  },
  {
   "cell_type": "code",
   "execution_count": 2,
   "id": "d21dca60-1ad0-43d5-a3ed-4db0fe17e273",
   "metadata": {},
   "outputs": [
    {
     "data": {
      "text/plain": [
       "(10000, 3)"
      ]
     },
     "execution_count": 2,
     "metadata": {},
     "output_type": "execute_result"
    }
   ],
   "source": [
    "Xy = model.sample(max_samples=10_000) \\\n",
    "    .assign(\n",
    "        gender=lambda d: d['gender'].map({'male': 1, 'female': 0}),\n",
    "        drug=lambda d: d['drug'].map({'yes': 1, 'no': 0}),\n",
    "        recovery=lambda d: d['recovery'].map({'yes': 1, 'no': 0}),\n",
    "    )\n",
    "Xy.shape"
   ]
  },
  {
   "cell_type": "code",
   "execution_count": 3,
   "id": "8790081d-2330-43eb-9767-59cb7a419edc",
   "metadata": {},
   "outputs": [
    {
     "data": {
      "text/html": [
       "<div>\n",
       "<style scoped>\n",
       "    .dataframe tbody tr th:only-of-type {\n",
       "        vertical-align: middle;\n",
       "    }\n",
       "\n",
       "    .dataframe tbody tr th {\n",
       "        vertical-align: top;\n",
       "    }\n",
       "\n",
       "    .dataframe thead th {\n",
       "        text-align: right;\n",
       "    }\n",
       "</style>\n",
       "<table border=\"1\" class=\"dataframe\">\n",
       "  <thead>\n",
       "    <tr style=\"text-align: right;\">\n",
       "      <th></th>\n",
       "      <th>gender</th>\n",
       "      <th>drug</th>\n",
       "      <th>recovery</th>\n",
       "    </tr>\n",
       "  </thead>\n",
       "  <tbody>\n",
       "    <tr>\n",
       "      <th>0</th>\n",
       "      <td>1</td>\n",
       "      <td>0</td>\n",
       "      <td>0</td>\n",
       "    </tr>\n",
       "    <tr>\n",
       "      <th>1</th>\n",
       "      <td>1</td>\n",
       "      <td>1</td>\n",
       "      <td>1</td>\n",
       "    </tr>\n",
       "    <tr>\n",
       "      <th>2</th>\n",
       "      <td>0</td>\n",
       "      <td>1</td>\n",
       "      <td>0</td>\n",
       "    </tr>\n",
       "    <tr>\n",
       "      <th>3</th>\n",
       "      <td>1</td>\n",
       "      <td>1</td>\n",
       "      <td>1</td>\n",
       "    </tr>\n",
       "    <tr>\n",
       "      <th>4</th>\n",
       "      <td>0</td>\n",
       "      <td>1</td>\n",
       "      <td>1</td>\n",
       "    </tr>\n",
       "  </tbody>\n",
       "</table>\n",
       "</div>"
      ],
      "text/plain": [
       "   gender  drug  recovery\n",
       "0       1     0         0\n",
       "1       1     1         1\n",
       "2       0     1         0\n",
       "3       1     1         1\n",
       "4       0     1         1"
      ]
     },
     "execution_count": 3,
     "metadata": {},
     "output_type": "execute_result"
    }
   ],
   "source": [
    "Xy.head()"
   ]
  },
  {
   "cell_type": "code",
   "execution_count": 4,
   "id": "f4c2c616-ee2c-46c7-b19a-24e1f61c99c6",
   "metadata": {},
   "outputs": [],
   "source": [
    "from sklearn.ensemble import RandomForestClassifier, RandomForestRegressor\n",
    "\n",
    "X, y = Xy[['gender', 'drug']], Xy['recovery']\n",
    "\n",
    "y_model = RandomForestClassifier(n_jobs=-1, random_state=37) \\\n",
    "    .fit(X, y)\n",
    "\n",
    "y_pred = y_model.predict_proba(X)"
   ]
  },
  {
   "cell_type": "code",
   "execution_count": 5,
   "id": "166e5326-9ac7-469e-bff2-3a29cb583cd2",
   "metadata": {},
   "outputs": [
    {
     "data": {
      "text/plain": [
       "(10000, 6)"
      ]
     },
     "execution_count": 5,
     "metadata": {},
     "output_type": "execute_result"
    }
   ],
   "source": [
    "import pandas as pd\n",
    "\n",
    "u = pd.DataFrame(y_pred, columns=['p0', 'p1']) \\\n",
    "    .assign(y0=(y==0).astype(int)) \\\n",
    "    .assign(y1=(y==1).astype(int)) \\\n",
    "    .assign(u0=lambda d: d['y0'] - d['p0']) \\\n",
    "    .assign(u1=lambda d: d['y1'] - d['p1'])\n",
    "u.shape"
   ]
  },
  {
   "cell_type": "code",
   "execution_count": 6,
   "id": "e9fd04fd-27a9-49e2-a61d-8f7eec5a432e",
   "metadata": {},
   "outputs": [],
   "source": [
    "X, y = Xy[['gender', 'drug', 'recovery']], u['u0']\n",
    "\n",
    "u0_model = RandomForestRegressor(n_jobs=-1, random_state=37) \\\n",
    "    .fit(X, y)"
   ]
  },
  {
   "cell_type": "code",
   "execution_count": 7,
   "id": "193c14df-a1a1-4a14-b421-02f264063b20",
   "metadata": {},
   "outputs": [],
   "source": [
    "X, y = Xy[['gender', 'drug', 'recovery']], u['u1']\n",
    "\n",
    "u1_model = RandomForestRegressor(n_jobs=-1, random_state=37) \\\n",
    "    .fit(X, y)"
   ]
  },
  {
   "cell_type": "code",
   "execution_count": 17,
   "id": "62abb516-e364-4b46-9382-7d4483a65c59",
   "metadata": {},
   "outputs": [
    {
     "data": {
      "text/plain": [
       "(array([ 0.39675612, -0.39675612]),\n",
       " array([0.59693957, 0.40306043]),\n",
       " array([0.99369569, 0.00630431]))"
      ]
     },
     "execution_count": 17,
     "metadata": {},
     "output_type": "execute_result"
    }
   ],
   "source": [
    "import numpy as np\n",
    "\n",
    "def to_df(v, c):\n",
    "    return pd.DataFrame([v], columns=c)\n",
    "\n",
    "u0_pred = u0_model.predict(to_df([1, 0, 0], ['gender', 'drug', 'recovery']))[0]\n",
    "u1_pred = u1_model.predict(to_df([1, 0, 0], ['gender', 'drug', 'recovery']))[0]\n",
    "\n",
    "u_pred = np.array([u0_pred, u1_pred])\n",
    "z_pred = y_model.predict_proba(to_df([1, 1], ['gender', 'drug']))[0]\n",
    "\n",
    "u_pred, z_pred, z_pred + u_pred"
   ]
  },
  {
   "cell_type": "code",
   "execution_count": 19,
   "id": "b82e3762-c0df-4365-8726-e6c0c2c7cb0d",
   "metadata": {},
   "outputs": [
    {
     "data": {
      "text/plain": [
       "(array([-0.59693957,  0.59693957]),\n",
       " array([0.60324388, 0.39675612]),\n",
       " array([0.00630431, 0.99369569]))"
      ]
     },
     "execution_count": 19,
     "metadata": {},
     "output_type": "execute_result"
    }
   ],
   "source": [
    "u0_pred = u0_model.predict(to_df([1, 1, 1], ['gender', 'drug', 'recovery']))[0]\n",
    "u1_pred = u1_model.predict(to_df([1, 1, 1], ['gender', 'drug', 'recovery']))[0]\n",
    "\n",
    "u_pred = np.array([u0_pred, u1_pred])\n",
    "z_pred = y_model.predict_proba(to_df([1, 0], ['gender', 'drug']))[0]\n",
    "\n",
    "u_pred, z_pred, z_pred + u_pred"
   ]
  },
  {
   "cell_type": "code",
   "execution_count": 18,
   "id": "eb70cfb8-28b9-4fb8-b599-c86912033197",
   "metadata": {},
   "outputs": [
    {
     "data": {
      "text/plain": [
       "(array([ 0.40852612, -0.40852612]),\n",
       " array([0.60535339, 0.39464661]),\n",
       " array([ 1.01387952, -0.01387952]))"
      ]
     },
     "execution_count": 18,
     "metadata": {},
     "output_type": "execute_result"
    }
   ],
   "source": [
    "u0_pred = u0_model.predict(to_df([0, 0, 0], ['gender', 'drug', 'recovery']))[0]\n",
    "u1_pred = u1_model.predict(to_df([0, 0, 0], ['gender', 'drug', 'recovery']))[0]\n",
    "\n",
    "u_pred = np.array([u0_pred, u1_pred])\n",
    "z_pred = y_model.predict_proba(to_df([0, 1], ['gender', 'drug']))[0]\n",
    "\n",
    "u_pred, z_pred, z_pred + u_pred"
   ]
  },
  {
   "cell_type": "code",
   "execution_count": 20,
   "id": "18ebb7d4-d615-4af8-9424-af859e8fc8c5",
   "metadata": {},
   "outputs": [
    {
     "data": {
      "text/plain": [
       "(array([-0.60535339,  0.60535339]),\n",
       " array([0.59147388, 0.40852612]),\n",
       " array([-0.01387952,  1.01387952]))"
      ]
     },
     "execution_count": 20,
     "metadata": {},
     "output_type": "execute_result"
    }
   ],
   "source": [
    "u0_pred = u0_model.predict(to_df([0, 1, 1], ['gender', 'drug', 'recovery']))[0]\n",
    "u1_pred = u1_model.predict(to_df([0, 1, 1], ['gender', 'drug', 'recovery']))[0]\n",
    "\n",
    "u_pred = np.array([u0_pred, u1_pred])\n",
    "z_pred = y_model.predict_proba(to_df([0, 0], ['gender', 'drug']))[0]\n",
    "\n",
    "u_pred, z_pred, z_pred + u_pred"
   ]
  },
  {
   "cell_type": "code",
   "execution_count": null,
   "id": "3af45d22-2be9-4101-bcba-014feeb05e5a",
   "metadata": {},
   "outputs": [],
   "source": []
  }
 ],
 "metadata": {
  "kernelspec": {
   "display_name": "Python 3 (ipykernel)",
   "language": "python",
   "name": "python3"
  },
  "language_info": {
   "codemirror_mode": {
    "name": "ipython",
    "version": 3
   },
   "file_extension": ".py",
   "mimetype": "text/x-python",
   "name": "python",
   "nbconvert_exporter": "python",
   "pygments_lexer": "ipython3",
   "version": "3.11.5"
  }
 },
 "nbformat": 4,
 "nbformat_minor": 5
}
