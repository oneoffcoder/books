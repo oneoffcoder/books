{
 "cells": [
  {
   "cell_type": "markdown",
   "id": "29c42b9c-e8e7-494b-acea-a839c6939144",
   "metadata": {},
   "source": [
    "# Estimating counterfactuals"
   ]
  },
  {
   "cell_type": "markdown",
   "id": "e267fa0d-90a4-4a42-98fc-210cfb840dbf",
   "metadata": {},
   "source": [
    "## Data simulation"
   ]
  },
  {
   "cell_type": "code",
   "execution_count": 5,
   "id": "eb048f27-2c19-47ba-b1d5-b9bb8d9294e4",
   "metadata": {},
   "outputs": [],
   "source": [
    "import networkx as nx\n",
    "from pybbn.probabilistic import create_reasoning_model\n",
    "\n",
    "def get_model():\n",
    "    d = nx.DiGraph()\n",
    "    d.add_nodes_from(['drug', 'gender', 'recovery'])\n",
    "    d.add_edges_from([('gender', 'drug'), ('gender', 'recovery'), ('drug', 'recovery')])\n",
    "    \n",
    "    p = {\n",
    "        'gender': {\n",
    "            'columns': ['gender', '__p__'],\n",
    "            'data': [\n",
    "                ['male', 0.51], ['female', 0.49]\n",
    "            ]\n",
    "        },\n",
    "        'drug': {\n",
    "            'columns': ['gender', 'drug', '__p__'],\n",
    "            'data': [\n",
    "                ['female', 'no', 0.24],\n",
    "                ['female', 'yes', 0.76],\n",
    "                ['male', 'no', 0.76],\n",
    "                ['male', 'yes', 0.24]\n",
    "            ]\n",
    "        },\n",
    "        'recovery': {\n",
    "            'columns': ['gender', 'drug', 'recovery', '__p__'],\n",
    "            'data': [\n",
    "                ['female', 'no', 'no', 0.90],\n",
    "                ['female', 'no', 'yes', 0.10],\n",
    "                ['female', 'yes', 'no', 0.27],\n",
    "                ['female', 'yes', 'yes', 0.73],\n",
    "                ['male', 'no', 'no', 0.99],\n",
    "                ['male', 'no', 'yes', 0.01],\n",
    "                ['male', 'yes', 'no', 0.07],\n",
    "                ['male', 'yes', 'yes', 0.93]\n",
    "            ]\n",
    "        }\n",
    "    }\n",
    "    \n",
    "    model = create_reasoning_model(d, p)\n",
    "    return model\n",
    "\n",
    "model = get_model()"
   ]
  },
  {
   "cell_type": "code",
   "execution_count": 10,
   "id": "d21dca60-1ad0-43d5-a3ed-4db0fe17e273",
   "metadata": {},
   "outputs": [
    {
     "data": {
      "text/plain": [
       "(10000, 3)"
      ]
     },
     "execution_count": 10,
     "metadata": {},
     "output_type": "execute_result"
    }
   ],
   "source": [
    "import numpy as np\n",
    "\n",
    "N = 10_000\n",
    "Xy = model.sample(max_samples=N) \\\n",
    "    .assign(\n",
    "        gender=lambda d: d['gender'].map({'male': 1, 'female': 0}),\n",
    "        drug=lambda d: d['drug'].map({'yes': 1, 'no': 0}),\n",
    "        recovery=lambda d: d['recovery'].map({'yes': 1, 'no': 0})\n",
    "    )\n",
    "Xy.shape"
   ]
  },
  {
   "cell_type": "code",
   "execution_count": 11,
   "id": "8790081d-2330-43eb-9767-59cb7a419edc",
   "metadata": {},
   "outputs": [
    {
     "data": {
      "text/html": [
       "<div>\n",
       "<style scoped>\n",
       "    .dataframe tbody tr th:only-of-type {\n",
       "        vertical-align: middle;\n",
       "    }\n",
       "\n",
       "    .dataframe tbody tr th {\n",
       "        vertical-align: top;\n",
       "    }\n",
       "\n",
       "    .dataframe thead th {\n",
       "        text-align: right;\n",
       "    }\n",
       "</style>\n",
       "<table border=\"1\" class=\"dataframe\">\n",
       "  <thead>\n",
       "    <tr style=\"text-align: right;\">\n",
       "      <th></th>\n",
       "      <th>gender</th>\n",
       "      <th>drug</th>\n",
       "      <th>recovery</th>\n",
       "    </tr>\n",
       "  </thead>\n",
       "  <tbody>\n",
       "    <tr>\n",
       "      <th>0</th>\n",
       "      <td>1</td>\n",
       "      <td>0</td>\n",
       "      <td>0</td>\n",
       "    </tr>\n",
       "    <tr>\n",
       "      <th>1</th>\n",
       "      <td>1</td>\n",
       "      <td>1</td>\n",
       "      <td>1</td>\n",
       "    </tr>\n",
       "    <tr>\n",
       "      <th>2</th>\n",
       "      <td>0</td>\n",
       "      <td>1</td>\n",
       "      <td>0</td>\n",
       "    </tr>\n",
       "    <tr>\n",
       "      <th>3</th>\n",
       "      <td>1</td>\n",
       "      <td>1</td>\n",
       "      <td>1</td>\n",
       "    </tr>\n",
       "    <tr>\n",
       "      <th>4</th>\n",
       "      <td>0</td>\n",
       "      <td>1</td>\n",
       "      <td>1</td>\n",
       "    </tr>\n",
       "  </tbody>\n",
       "</table>\n",
       "</div>"
      ],
      "text/plain": [
       "   gender  drug  recovery\n",
       "0       1     0         0\n",
       "1       1     1         1\n",
       "2       0     1         0\n",
       "3       1     1         1\n",
       "4       0     1         1"
      ]
     },
     "execution_count": 11,
     "metadata": {},
     "output_type": "execute_result"
    }
   ],
   "source": [
    "Xy.head()"
   ]
  },
  {
   "cell_type": "markdown",
   "id": "ee4f8374-6431-45fa-a2a7-12bd8626de87",
   "metadata": {},
   "source": [
    "## Prediction models"
   ]
  },
  {
   "cell_type": "code",
   "execution_count": 54,
   "id": "f4c2c616-ee2c-46c7-b19a-24e1f61c99c6",
   "metadata": {},
   "outputs": [],
   "source": [
    "from sklearn.ensemble import RandomForestClassifier\n",
    "\n",
    "X, y = Xy[['gender', 'drug']], Xy['recovery']\n",
    "p_model = RandomForestClassifier(n_jobs=-1, random_state=37) \\\n",
    "    .fit(X, y)"
   ]
  },
  {
   "cell_type": "code",
   "execution_count": 55,
   "id": "30b7db0d-69ee-446d-b759-ebc35625479a",
   "metadata": {},
   "outputs": [
    {
     "data": {
      "text/plain": [
       "array([0.39675612, 0.59693957, 0.39464661, ..., 0.40852612, 0.59693957,\n",
       "       0.60535339])"
      ]
     },
     "execution_count": 55,
     "metadata": {},
     "output_type": "execute_result"
    }
   ],
   "source": [
    "from sklearn.preprocessing import OneHotEncoder\n",
    "\n",
    "u = OneHotEncoder(sparse_output=False).fit_transform(Xy[['recovery']]) - p_model.predict_proba(X)\n",
    "u = [_u[_y] for _u, _y in zip(u, y)]\n",
    "u = np.array(u)\n",
    "u"
   ]
  },
  {
   "cell_type": "code",
   "execution_count": 56,
   "id": "3076ee59-15f4-44ac-b23f-cf9ea4f5b2d4",
   "metadata": {},
   "outputs": [],
   "source": [
    "X, y = Xy[['gender', 'drug']].assign(noise=u), Xy['recovery']\n",
    "p_model = RandomForestClassifier(n_jobs=-1, random_state=37) \\\n",
    "    .fit(X, y)"
   ]
  },
  {
   "cell_type": "markdown",
   "id": "7d809159-7568-4433-911b-a5fce042fbb1",
   "metadata": {},
   "source": [
    "## Abduction models"
   ]
  },
  {
   "cell_type": "code",
   "execution_count": 57,
   "id": "9c002d30-f442-434a-a638-4486aff9d5d9",
   "metadata": {},
   "outputs": [],
   "source": [
    "from sklearn.ensemble import RandomForestRegressor\n",
    "from sklearn.linear_model import LinearRegression\n",
    "\n",
    "X, y = Xy[['gender', 'drug', 'recovery']], u\n",
    "u_model = RandomForestRegressor(n_jobs=-1, random_state=37) \\\n",
    "    .fit(X, y)"
   ]
  },
  {
   "cell_type": "markdown",
   "id": "eff28739-89ca-41f7-94f8-7d2ca1bc5893",
   "metadata": {},
   "source": [
    "## Counterfactual 1\n",
    "\n",
    "- f: did not take pill, did not recover\n",
    "- cf: take pill\n",
    "- 16% chance recovery had taken pill (male)\n",
    "- 67% chance recovery had taken pill (female)"
   ]
  },
  {
   "cell_type": "code",
   "execution_count": 65,
   "id": "ff158671-6991-4903-87f0-a4a233344325",
   "metadata": {},
   "outputs": [
    {
     "data": {
      "text/plain": [
       "(0.5969395680230405, array([[0., 1.]]))"
      ]
     },
     "execution_count": 65,
     "metadata": {},
     "output_type": "execute_result"
    }
   ],
   "source": [
    "import pandas as pd\n",
    "\n",
    "def to_df(v, c):\n",
    "    return pd.DataFrame([v], columns=c)\n",
    "\n",
    "u = u_model.predict(to_df([1, 1, 1], ['gender', 'drug', 'recovery']))[0]\n",
    "p = p_model.predict_proba(to_df([1, 0, u], ['gender', 'drug', 'noise']))\n",
    "\n",
    "u, p"
   ]
  },
  {
   "cell_type": "code",
   "execution_count": 67,
   "id": "789f5629-70a0-4596-b2ff-dce8a5117cef",
   "metadata": {},
   "outputs": [
    {
     "data": {
      "text/plain": [
       "(0.5914738763863162, array([[0., 1.]]))"
      ]
     },
     "execution_count": 67,
     "metadata": {},
     "output_type": "execute_result"
    }
   ],
   "source": [
    "u = u_model.predict(to_df([0, 0, 1], ['gender', 'drug', 'recovery']))[0]\n",
    "p = p_model.predict_proba(to_df([1, 1, u], ['gender', 'drug', 'noise']))\n",
    "\n",
    "u, p"
   ]
  },
  {
   "cell_type": "code",
   "execution_count": null,
   "id": "3af45d22-2be9-4101-bcba-014feeb05e5a",
   "metadata": {},
   "outputs": [],
   "source": []
  }
 ],
 "metadata": {
  "kernelspec": {
   "display_name": "Python 3 (ipykernel)",
   "language": "python",
   "name": "python3"
  },
  "language_info": {
   "codemirror_mode": {
    "name": "ipython",
    "version": 3
   },
   "file_extension": ".py",
   "mimetype": "text/x-python",
   "name": "python",
   "nbconvert_exporter": "python",
   "pygments_lexer": "ipython3",
   "version": "3.11.6"
  },
  "widgets": {
   "application/vnd.jupyter.widget-state+json": {
    "state": {},
    "version_major": 2,
    "version_minor": 0
   }
  }
 },
 "nbformat": 4,
 "nbformat_minor": 5
}
