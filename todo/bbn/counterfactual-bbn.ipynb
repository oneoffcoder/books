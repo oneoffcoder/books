{
 "cells": [
  {
   "cell_type": "code",
   "execution_count": 1,
   "id": "3153c67f-f7d2-4d00-adca-c79193668ee1",
   "metadata": {},
   "outputs": [],
   "source": [
    "import networkx as nx\n",
    "from pybbn.probabilistic import create_reasoning_model\n",
    "\n",
    "def get_model():\n",
    "    d = nx.DiGraph()\n",
    "    d.add_nodes_from(['drug', 'gender', 'recovery'])\n",
    "    d.add_edges_from([('gender', 'drug'), ('gender', 'recovery'), ('drug', 'recovery')])\n",
    "    \n",
    "    p = {\n",
    "        'gender': {\n",
    "            'columns': ['gender', '__p__'],\n",
    "            'data': [\n",
    "                ['male', 0.51], ['female', 0.49]\n",
    "            ]\n",
    "        },\n",
    "        'drug': {\n",
    "            'columns': ['gender', 'drug', '__p__'],\n",
    "            'data': [\n",
    "                ['female', 'no', 0.24],\n",
    "                ['female', 'yes', 0.76],\n",
    "                ['male', 'no', 0.76],\n",
    "                ['male', 'yes', 0.24]\n",
    "            ]\n",
    "        },\n",
    "        'recovery': {\n",
    "            'columns': ['gender', 'drug', 'recovery', '__p__'],\n",
    "            'data': [\n",
    "                ['female', 'no', 'no', 0.90],\n",
    "                ['female', 'no', 'yes', 0.10],\n",
    "                ['female', 'yes', 'no', 0.27],\n",
    "                ['female', 'yes', 'yes', 0.73],\n",
    "                ['male', 'no', 'no', 0.99],\n",
    "                ['male', 'no', 'yes', 0.01],\n",
    "                ['male', 'yes', 'no', 0.07],\n",
    "                ['male', 'yes', 'yes', 0.93]\n",
    "            ]\n",
    "        }\n",
    "    }\n",
    "    \n",
    "    model = create_reasoning_model(d, p)\n",
    "    return model\n",
    "\n",
    "model = get_model()"
   ]
  },
  {
   "cell_type": "code",
   "execution_count": 2,
   "id": "7ddc08f3-001f-4230-9a80-4098c7c3b63c",
   "metadata": {},
   "outputs": [
    {
     "data": {
      "text/plain": [
       "(recovery\n",
       " no     0.99\n",
       " yes    0.01\n",
       " Name: __p__, dtype: float64,\n",
       " recovery\n",
       " no     0.01\n",
       " yes    0.99\n",
       " Name: __p__, dtype: float64)"
      ]
     },
     "execution_count": 2,
     "metadata": {},
     "output_type": "execute_result"
    }
   ],
   "source": [
    "def o(kv):\n",
    "    return {k: model.create_observation_evidences(k, v) for k, v in kv.items()}\n",
    "    \n",
    "e = o({'gender': 'male', 'drug': 'no'})\n",
    "\n",
    "f = model.pquery(evidences=e)['recovery'].set_index(['recovery'])['__p__']\n",
    "a = 1 - f\n",
    "f, a"
   ]
  },
  {
   "cell_type": "code",
   "execution_count": 3,
   "id": "cf6dcfeb-83cc-4943-bfb7-814b094ee6b2",
   "metadata": {},
   "outputs": [
    {
     "data": {
      "text/plain": [
       "(recovery\n",
       " no     0.07\n",
       " yes    0.93\n",
       " Name: __p__, dtype: float64,\n",
       " recovery\n",
       " no     0.08\n",
       " yes    1.92\n",
       " Name: __p__, dtype: float64)"
      ]
     },
     "execution_count": 3,
     "metadata": {},
     "output_type": "execute_result"
    }
   ],
   "source": [
    "e = o({'gender': 'male', 'drug': 'yes'})\n",
    "\n",
    "c = model.pquery(evidences=e)['recovery'].set_index(['recovery'])['__p__']\n",
    "p = c + a\n",
    "c, p"
   ]
  },
  {
   "cell_type": "code",
   "execution_count": 4,
   "id": "0b5b87c9-0ea6-4514-8913-87bcf979e633",
   "metadata": {},
   "outputs": [
    {
     "data": {
      "text/plain": [
       "recovery\n",
       "no     0.04\n",
       "yes    0.96\n",
       "Name: __p__, dtype: float64"
      ]
     },
     "execution_count": 4,
     "metadata": {},
     "output_type": "execute_result"
    }
   ],
   "source": [
    "p / p.sum()"
   ]
  },
  {
   "cell_type": "code",
   "execution_count": null,
   "id": "2609cd96-0f08-41f2-9ff3-c1a79b839c84",
   "metadata": {},
   "outputs": [],
   "source": []
  },
  {
   "cell_type": "code",
   "execution_count": null,
   "id": "89c43c65-58c1-4b5c-8c60-9380d4cd08c9",
   "metadata": {},
   "outputs": [],
   "source": []
  }
 ],
 "metadata": {
  "kernelspec": {
   "display_name": "Python 3 (ipykernel)",
   "language": "python",
   "name": "python3"
  },
  "language_info": {
   "codemirror_mode": {
    "name": "ipython",
    "version": 3
   },
   "file_extension": ".py",
   "mimetype": "text/x-python",
   "name": "python",
   "nbconvert_exporter": "python",
   "pygments_lexer": "ipython3",
   "version": "3.11.6"
  },
  "widgets": {
   "application/vnd.jupyter.widget-state+json": {
    "state": {},
    "version_major": 2,
    "version_minor": 0
   }
  }
 },
 "nbformat": 4,
 "nbformat_minor": 5
}
