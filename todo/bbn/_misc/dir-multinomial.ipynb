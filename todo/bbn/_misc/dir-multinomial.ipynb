{
 "cells": [
  {
   "cell_type": "code",
   "execution_count": 2,
   "id": "170c2c53-b659-4db3-a7be-32502958d566",
   "metadata": {},
   "outputs": [
    {
     "data": {
      "image/png": "[encoded data removed]",
      "text/plain": [
       "<Figure size 500x500 with 1 Axes>"
      ]
     },
     "metadata": {},
     "output_type": "display_data"
    }
   ],
   "source": [
    "from scipy.stats import dirichlet_multinomial as dm\n",
    "import pandas as pd\n",
    "import numpy as np\n",
    "from kneed import KneeLocator\n",
    "import matplotlib.pyplot as plt\n",
    "\n",
    "x = [10, 10]\n",
    "n = sum(x)\n",
    "alphas = [0.1, 0.5] + list(range(1, 110, 10))\n",
    "\n",
    "p = [dm.pmf(x, [a, a], n) for a in alphas]\n",
    "p = pd.Series(p, alphas)\n",
    "\n",
    "kneedle = KneeLocator(p.index, p.values, S=1.0, curve='concave', direction='increasing')\n",
    "\n",
    "fig, ax = plt.subplots(figsize=(5, 5))\n",
    "\n",
    "p.plot(kind='line', title=f'knee={int(kneedle.knee)}', ylabel='PMF', xlabel='alpha', ax=ax)\n",
    "\n",
    "fig.tight_layout()"
   ]
  },
  {
   "cell_type": "markdown",
   "id": "aed604b5-490d-4e98-ac48-0242fd385a39",
   "metadata": {},
   "source": [
    "## Example 1"
   ]
  },
  {
   "cell_type": "code",
   "execution_count": 13,
   "id": "1828a3dd-3337-41db-a6a8-09012c866233",
   "metadata": {},
   "outputs": [
    {
     "data": {
      "text/html": [
       "<div>\n",
       "<style scoped>\n",
       "    .dataframe tbody tr th:only-of-type {\n",
       "        vertical-align: middle;\n",
       "    }\n",
       "\n",
       "    .dataframe tbody tr th {\n",
       "        vertical-align: top;\n",
       "    }\n",
       "\n",
       "    .dataframe thead th {\n",
       "        text-align: right;\n",
       "    }\n",
       "</style>\n",
       "<table border=\"1\" class=\"dataframe\">\n",
       "  <thead>\n",
       "    <tr style=\"text-align: right;\">\n",
       "      <th></th>\n",
       "      <th>v0</th>\n",
       "      <th>v1</th>\n",
       "    </tr>\n",
       "  </thead>\n",
       "  <tbody>\n",
       "    <tr>\n",
       "      <th>0</th>\n",
       "      <td>0</td>\n",
       "      <td>1</td>\n",
       "    </tr>\n",
       "    <tr>\n",
       "      <th>1</th>\n",
       "      <td>0</td>\n",
       "      <td>1</td>\n",
       "    </tr>\n",
       "    <tr>\n",
       "      <th>2</th>\n",
       "      <td>1</td>\n",
       "      <td>0</td>\n",
       "    </tr>\n",
       "    <tr>\n",
       "      <th>3</th>\n",
       "      <td>1</td>\n",
       "      <td>0</td>\n",
       "    </tr>\n",
       "    <tr>\n",
       "      <th>4</th>\n",
       "      <td>1</td>\n",
       "      <td>0</td>\n",
       "    </tr>\n",
       "    <tr>\n",
       "      <th>...</th>\n",
       "      <td>...</td>\n",
       "      <td>...</td>\n",
       "    </tr>\n",
       "    <tr>\n",
       "      <th>9995</th>\n",
       "      <td>0</td>\n",
       "      <td>1</td>\n",
       "    </tr>\n",
       "    <tr>\n",
       "      <th>9996</th>\n",
       "      <td>1</td>\n",
       "      <td>0</td>\n",
       "    </tr>\n",
       "    <tr>\n",
       "      <th>9997</th>\n",
       "      <td>1</td>\n",
       "      <td>0</td>\n",
       "    </tr>\n",
       "    <tr>\n",
       "      <th>9998</th>\n",
       "      <td>1</td>\n",
       "      <td>0</td>\n",
       "    </tr>\n",
       "    <tr>\n",
       "      <th>9999</th>\n",
       "      <td>0</td>\n",
       "      <td>1</td>\n",
       "    </tr>\n",
       "  </tbody>\n",
       "</table>\n",
       "<p>10000 rows × 2 columns</p>\n",
       "</div>"
      ],
      "text/plain": [
       "      v0  v1\n",
       "0      0   1\n",
       "1      0   1\n",
       "2      1   0\n",
       "3      1   0\n",
       "4      1   0\n",
       "...   ..  ..\n",
       "9995   0   1\n",
       "9996   1   0\n",
       "9997   1   0\n",
       "9998   1   0\n",
       "9999   0   1\n",
       "\n",
       "[10000 rows x 2 columns]"
      ]
     },
     "execution_count": 13,
     "metadata": {},
     "output_type": "execute_result"
    }
   ],
   "source": [
    "from scipy.stats import dirichlet, multinomial\n",
    "\n",
    "N = 10_000\n",
    "alpha = [8, 2]\n",
    "\n",
    "_d = dirichlet.rvs(alpha, size=N)\n",
    "_m = (multinomial.rvs(1, p) for p in _d)\n",
    "\n",
    "df = pd.DataFrame(_m, columns=[f'v{i}' for i in range(len(alpha))])\n",
    "df"
   ]
  },
  {
   "cell_type": "code",
   "execution_count": 14,
   "id": "18ad9cc8-7fc8-4d0d-b798-fb0e423f89ff",
   "metadata": {},
   "outputs": [
    {
     "data": {
      "text/plain": [
       "array([0.8004, 0.1996])"
      ]
     },
     "execution_count": 14,
     "metadata": {},
     "output_type": "execute_result"
    }
   ],
   "source": [
    "x = (df.sum() / df.shape[0]).values\n",
    "x"
   ]
  },
  {
   "cell_type": "code",
   "execution_count": 16,
   "id": "d326818c-830d-4aaa-bb1b-7661e3fbc4ef",
   "metadata": {},
   "outputs": [
    {
     "data": {
      "text/html": [
       "<div>\n",
       "<style scoped>\n",
       "    .dataframe tbody tr th:only-of-type {\n",
       "        vertical-align: middle;\n",
       "    }\n",
       "\n",
       "    .dataframe tbody tr th {\n",
       "        vertical-align: top;\n",
       "    }\n",
       "\n",
       "    .dataframe thead th {\n",
       "        text-align: right;\n",
       "    }\n",
       "</style>\n",
       "<table border=\"1\" class=\"dataframe\">\n",
       "  <thead>\n",
       "    <tr style=\"text-align: right;\">\n",
       "      <th></th>\n",
       "      <th>z_0</th>\n",
       "      <th>z_1</th>\n",
       "    </tr>\n",
       "  </thead>\n",
       "  <tbody>\n",
       "    <tr>\n",
       "      <th>mean</th>\n",
       "      <td>1.841371</td>\n",
       "      <td>0.229613</td>\n",
       "    </tr>\n",
       "    <tr>\n",
       "      <th>std</th>\n",
       "      <td>1.302247</td>\n",
       "      <td>0.852186</td>\n",
       "    </tr>\n",
       "  </tbody>\n",
       "</table>\n",
       "</div>"
      ],
      "text/plain": [
       "           z_0       z_1\n",
       "mean  1.841371  0.229613\n",
       "std   1.302247  0.852186"
      ]
     },
     "execution_count": 16,
     "metadata": {},
     "output_type": "execute_result"
    }
   ],
   "source": [
    "from numpy.random import gumbel\n",
    "\n",
    "U = pd.DataFrame([(x, gumbel(0, 1, x.shape)) for _ in range(10_000)], columns=['p', 'g']) \\\n",
    "    .assign(z=lambda d: d['p'] + d['g']) \\\n",
    "    .assign(j=lambda d: d['z'].apply(np.argmax)) \\\n",
    "    .assign(r=lambda d: (d['j'] != 0).astype(int)) \\\n",
    "    .query('r == 0') \\\n",
    "    .assign(z_0=lambda d: d['z'].apply(lambda v: v[0])) \\\n",
    "    .assign(z_1=lambda d: d['z'].apply(lambda v: v[1]))[['z_0', 'z_1']] \\\n",
    "    .describe().loc[['mean', 'std']]\n",
    "\n",
    "U"
   ]
  },
  {
   "cell_type": "code",
   "execution_count": 17,
   "id": "ce35f4c4-d75a-4f21-bb12-7f73d8ac77fa",
   "metadata": {},
   "outputs": [
    {
     "data": {
      "text/plain": [
       "z_0    1.264161\n",
       "z_1   -0.347597\n",
       "Name: mean, dtype: float64"
      ]
     },
     "execution_count": 17,
     "metadata": {},
     "output_type": "execute_result"
    }
   ],
   "source": [
    "U.loc['mean'] - 0.57721"
   ]
  },
  {
   "cell_type": "markdown",
   "id": "86051347-689b-4358-b011-d5bddd53a64f",
   "metadata": {},
   "source": [
    "## Example 2"
   ]
  },
  {
   "cell_type": "code",
   "execution_count": 18,
   "id": "5485c132-edbe-4a0d-8aeb-05a1b3b7da4a",
   "metadata": {},
   "outputs": [
    {
     "data": {
      "text/html": [
       "<div>\n",
       "<style scoped>\n",
       "    .dataframe tbody tr th:only-of-type {\n",
       "        vertical-align: middle;\n",
       "    }\n",
       "\n",
       "    .dataframe tbody tr th {\n",
       "        vertical-align: top;\n",
       "    }\n",
       "\n",
       "    .dataframe thead th {\n",
       "        text-align: right;\n",
       "    }\n",
       "</style>\n",
       "<table border=\"1\" class=\"dataframe\">\n",
       "  <thead>\n",
       "    <tr style=\"text-align: right;\">\n",
       "      <th></th>\n",
       "      <th>v0</th>\n",
       "      <th>v1</th>\n",
       "      <th>v2</th>\n",
       "    </tr>\n",
       "  </thead>\n",
       "  <tbody>\n",
       "    <tr>\n",
       "      <th>0</th>\n",
       "      <td>0</td>\n",
       "      <td>1</td>\n",
       "      <td>0</td>\n",
       "    </tr>\n",
       "    <tr>\n",
       "      <th>1</th>\n",
       "      <td>0</td>\n",
       "      <td>1</td>\n",
       "      <td>0</td>\n",
       "    </tr>\n",
       "    <tr>\n",
       "      <th>2</th>\n",
       "      <td>0</td>\n",
       "      <td>1</td>\n",
       "      <td>0</td>\n",
       "    </tr>\n",
       "    <tr>\n",
       "      <th>3</th>\n",
       "      <td>0</td>\n",
       "      <td>1</td>\n",
       "      <td>0</td>\n",
       "    </tr>\n",
       "    <tr>\n",
       "      <th>4</th>\n",
       "      <td>0</td>\n",
       "      <td>1</td>\n",
       "      <td>0</td>\n",
       "    </tr>\n",
       "    <tr>\n",
       "      <th>...</th>\n",
       "      <td>...</td>\n",
       "      <td>...</td>\n",
       "      <td>...</td>\n",
       "    </tr>\n",
       "    <tr>\n",
       "      <th>9995</th>\n",
       "      <td>0</td>\n",
       "      <td>1</td>\n",
       "      <td>0</td>\n",
       "    </tr>\n",
       "    <tr>\n",
       "      <th>9996</th>\n",
       "      <td>1</td>\n",
       "      <td>0</td>\n",
       "      <td>0</td>\n",
       "    </tr>\n",
       "    <tr>\n",
       "      <th>9997</th>\n",
       "      <td>1</td>\n",
       "      <td>0</td>\n",
       "      <td>0</td>\n",
       "    </tr>\n",
       "    <tr>\n",
       "      <th>9998</th>\n",
       "      <td>0</td>\n",
       "      <td>0</td>\n",
       "      <td>1</td>\n",
       "    </tr>\n",
       "    <tr>\n",
       "      <th>9999</th>\n",
       "      <td>0</td>\n",
       "      <td>0</td>\n",
       "      <td>1</td>\n",
       "    </tr>\n",
       "  </tbody>\n",
       "</table>\n",
       "<p>10000 rows × 3 columns</p>\n",
       "</div>"
      ],
      "text/plain": [
       "      v0  v1  v2\n",
       "0      0   1   0\n",
       "1      0   1   0\n",
       "2      0   1   0\n",
       "3      0   1   0\n",
       "4      0   1   0\n",
       "...   ..  ..  ..\n",
       "9995   0   1   0\n",
       "9996   1   0   0\n",
       "9997   1   0   0\n",
       "9998   0   0   1\n",
       "9999   0   0   1\n",
       "\n",
       "[10000 rows x 3 columns]"
      ]
     },
     "execution_count": 18,
     "metadata": {},
     "output_type": "execute_result"
    }
   ],
   "source": [
    "N = 10_000\n",
    "alpha = [5, 3, 2]\n",
    "\n",
    "_d = dirichlet.rvs(alpha, size=N)\n",
    "_m = (multinomial.rvs(1, p) for p in _d)\n",
    "\n",
    "df = pd.DataFrame(_m, columns=[f'v{i}' for i in range(len(alpha))])\n",
    "df"
   ]
  },
  {
   "cell_type": "code",
   "execution_count": 19,
   "id": "8e0348ee-3839-4b87-bcaa-1a8a4fb03d26",
   "metadata": {},
   "outputs": [
    {
     "data": {
      "text/plain": [
       "array([0.503 , 0.3036, 0.1934])"
      ]
     },
     "execution_count": 19,
     "metadata": {},
     "output_type": "execute_result"
    }
   ],
   "source": [
    "x = (df.sum() / df.shape[0]).values\n",
    "x"
   ]
  },
  {
   "cell_type": "code",
   "execution_count": 61,
   "id": "bc47464b-7e93-4383-821a-6e13d3c7c176",
   "metadata": {},
   "outputs": [
    {
     "data": {
      "text/html": [
       "<div>\n",
       "<style scoped>\n",
       "    .dataframe tbody tr th:only-of-type {\n",
       "        vertical-align: middle;\n",
       "    }\n",
       "\n",
       "    .dataframe tbody tr th {\n",
       "        vertical-align: top;\n",
       "    }\n",
       "\n",
       "    .dataframe thead th {\n",
       "        text-align: right;\n",
       "    }\n",
       "</style>\n",
       "<table border=\"1\" class=\"dataframe\">\n",
       "  <thead>\n",
       "    <tr style=\"text-align: right;\">\n",
       "      <th></th>\n",
       "      <th>j</th>\n",
       "      <th>k_0</th>\n",
       "      <th>k_1</th>\n",
       "      <th>k_2</th>\n",
       "      <th>z_0</th>\n",
       "      <th>z_1</th>\n",
       "      <th>z_2</th>\n",
       "    </tr>\n",
       "  </thead>\n",
       "  <tbody>\n",
       "    <tr>\n",
       "      <th>0</th>\n",
       "      <td>0</td>\n",
       "      <td>1</td>\n",
       "      <td>0</td>\n",
       "      <td>0</td>\n",
       "      <td>0.890337</td>\n",
       "      <td>NaN</td>\n",
       "      <td>NaN</td>\n",
       "    </tr>\n",
       "    <tr>\n",
       "      <th>1</th>\n",
       "      <td>0</td>\n",
       "      <td>1</td>\n",
       "      <td>0</td>\n",
       "      <td>0</td>\n",
       "      <td>2.713561</td>\n",
       "      <td>NaN</td>\n",
       "      <td>NaN</td>\n",
       "    </tr>\n",
       "    <tr>\n",
       "      <th>2</th>\n",
       "      <td>2</td>\n",
       "      <td>0</td>\n",
       "      <td>0</td>\n",
       "      <td>1</td>\n",
       "      <td>NaN</td>\n",
       "      <td>NaN</td>\n",
       "      <td>0.315806</td>\n",
       "    </tr>\n",
       "    <tr>\n",
       "      <th>3</th>\n",
       "      <td>1</td>\n",
       "      <td>0</td>\n",
       "      <td>1</td>\n",
       "      <td>0</td>\n",
       "      <td>NaN</td>\n",
       "      <td>2.398031</td>\n",
       "      <td>NaN</td>\n",
       "    </tr>\n",
       "    <tr>\n",
       "      <th>4</th>\n",
       "      <td>1</td>\n",
       "      <td>0</td>\n",
       "      <td>1</td>\n",
       "      <td>0</td>\n",
       "      <td>NaN</td>\n",
       "      <td>0.693204</td>\n",
       "      <td>NaN</td>\n",
       "    </tr>\n",
       "    <tr>\n",
       "      <th>...</th>\n",
       "      <td>...</td>\n",
       "      <td>...</td>\n",
       "      <td>...</td>\n",
       "      <td>...</td>\n",
       "      <td>...</td>\n",
       "      <td>...</td>\n",
       "      <td>...</td>\n",
       "    </tr>\n",
       "    <tr>\n",
       "      <th>9995</th>\n",
       "      <td>1</td>\n",
       "      <td>0</td>\n",
       "      <td>1</td>\n",
       "      <td>0</td>\n",
       "      <td>NaN</td>\n",
       "      <td>2.385641</td>\n",
       "      <td>NaN</td>\n",
       "    </tr>\n",
       "    <tr>\n",
       "      <th>9996</th>\n",
       "      <td>1</td>\n",
       "      <td>0</td>\n",
       "      <td>1</td>\n",
       "      <td>0</td>\n",
       "      <td>NaN</td>\n",
       "      <td>0.757497</td>\n",
       "      <td>NaN</td>\n",
       "    </tr>\n",
       "    <tr>\n",
       "      <th>9997</th>\n",
       "      <td>0</td>\n",
       "      <td>1</td>\n",
       "      <td>0</td>\n",
       "      <td>0</td>\n",
       "      <td>0.707251</td>\n",
       "      <td>NaN</td>\n",
       "      <td>NaN</td>\n",
       "    </tr>\n",
       "    <tr>\n",
       "      <th>9998</th>\n",
       "      <td>0</td>\n",
       "      <td>1</td>\n",
       "      <td>0</td>\n",
       "      <td>0</td>\n",
       "      <td>2.944565</td>\n",
       "      <td>NaN</td>\n",
       "      <td>NaN</td>\n",
       "    </tr>\n",
       "    <tr>\n",
       "      <th>9999</th>\n",
       "      <td>0</td>\n",
       "      <td>1</td>\n",
       "      <td>0</td>\n",
       "      <td>0</td>\n",
       "      <td>0.982289</td>\n",
       "      <td>NaN</td>\n",
       "      <td>NaN</td>\n",
       "    </tr>\n",
       "  </tbody>\n",
       "</table>\n",
       "<p>10000 rows × 7 columns</p>\n",
       "</div>"
      ],
      "text/plain": [
       "      j  k_0  k_1  k_2       z_0       z_1       z_2\n",
       "0     0    1    0    0  0.890337       NaN       NaN\n",
       "1     0    1    0    0  2.713561       NaN       NaN\n",
       "2     2    0    0    1       NaN       NaN  0.315806\n",
       "3     1    0    1    0       NaN  2.398031       NaN\n",
       "4     1    0    1    0       NaN  0.693204       NaN\n",
       "...  ..  ...  ...  ...       ...       ...       ...\n",
       "9995  1    0    1    0       NaN  2.385641       NaN\n",
       "9996  1    0    1    0       NaN  0.757497       NaN\n",
       "9997  0    1    0    0  0.707251       NaN       NaN\n",
       "9998  0    1    0    0  2.944565       NaN       NaN\n",
       "9999  0    1    0    0  0.982289       NaN       NaN\n",
       "\n",
       "[10000 rows x 7 columns]"
      ]
     },
     "execution_count": 61,
     "metadata": {},
     "output_type": "execute_result"
    }
   ],
   "source": [
    "U = pd.DataFrame([(x, gumbel(0, 1, x.shape)) for _ in range(10_000)], columns=['p', 'g']) \\\n",
    "    .assign(z=lambda d: d['p'] + d['g']) \\\n",
    "    .assign(j=lambda d: d['z'].apply(np.argmax)) \\\n",
    "    .assign(\n",
    "        k_0=lambda d: (d['j'] == 0).astype(int),\n",
    "        k_1=lambda d: (d['j'] == 1).astype(int),\n",
    "        k_2=lambda d: (d['j'] == 2).astype(int)\n",
    "    ) \\\n",
    "    .assign(\n",
    "        z_0=lambda d: d['z'].apply(lambda v: v[0]),\n",
    "        z_1=lambda d: d['z'].apply(lambda v: v[1]),\n",
    "        z_2=lambda d: d['z'].apply(lambda v: v[2])\n",
    "    ) \\\n",
    "    .assign(\n",
    "        z_0=lambda d: np.select([d['k_0']==1], [d['z_0'] * d['k_0']], np.nan),\n",
    "        z_1=lambda d: np.select([d['k_1']==1], [d['z_1'] * d['k_1']], np.nan),\n",
    "        z_2=lambda d: np.select([d['k_2']==1], [d['z_2'] * d['k_2']], np.nan),\n",
    "    )[['j', 'k_0', 'k_1', 'k_2', 'z_0', 'z_1', 'z_2']]\n",
    "\n",
    "U"
   ]
  },
  {
   "cell_type": "code",
   "execution_count": 62,
   "id": "59cd7591-f124-44f5-b192-1edab41dc4a8",
   "metadata": {},
   "outputs": [
    {
     "data": {
      "text/plain": [
       "j\n",
       "0    3884\n",
       "1    3183\n",
       "2    2933\n",
       "Name: count, dtype: int64"
      ]
     },
     "execution_count": 62,
     "metadata": {},
     "output_type": "execute_result"
    }
   ],
   "source": [
    "U['j'].value_counts()"
   ]
  },
  {
   "cell_type": "code",
   "execution_count": 63,
   "id": "72c363fe-e48a-4727-a532-5d186e5be828",
   "metadata": {},
   "outputs": [
    {
     "data": {
      "text/plain": [
       "k_0    3884\n",
       "k_1    3183\n",
       "k_2    2933\n",
       "dtype: int64"
      ]
     },
     "execution_count": 63,
     "metadata": {},
     "output_type": "execute_result"
    }
   ],
   "source": [
    "U[['k_0', 'k_1', 'k_2']].sum()"
   ]
  },
  {
   "cell_type": "code",
   "execution_count": 64,
   "id": "1586081a-4b56-48eb-b64b-1d3dcf2bbe6b",
   "metadata": {},
   "outputs": [
    {
     "data": {
      "text/plain": [
       "z_0    1.443863\n",
       "dtype: float64"
      ]
     },
     "execution_count": 64,
     "metadata": {},
     "output_type": "execute_result"
    }
   ],
   "source": [
    "U[['z_0']].dropna().mean()  - 0.57721"
   ]
  },
  {
   "cell_type": "code",
   "execution_count": 65,
   "id": "de01f9f7-2550-4e93-b0de-b6fab8900dd1",
   "metadata": {},
   "outputs": [
    {
     "data": {
      "text/plain": [
       "z_1    1.438467\n",
       "dtype: float64"
      ]
     },
     "execution_count": 65,
     "metadata": {},
     "output_type": "execute_result"
    }
   ],
   "source": [
    "U[['z_1']].dropna().mean()  - 0.57721"
   ]
  },
  {
   "cell_type": "code",
   "execution_count": 66,
   "id": "410c8252-69f4-49e5-b191-a376c9011ff3",
   "metadata": {},
   "outputs": [
    {
     "data": {
      "text/plain": [
       "z_2    1.457983\n",
       "dtype: float64"
      ]
     },
     "execution_count": 66,
     "metadata": {},
     "output_type": "execute_result"
    }
   ],
   "source": [
    "U[['z_2']].dropna().mean()  - 0.57721"
   ]
  },
  {
   "cell_type": "code",
   "execution_count": null,
   "id": "dd178b6d-776f-4230-877c-4cd399018e90",
   "metadata": {},
   "outputs": [],
   "source": []
  }
 ],
 "metadata": {
  "kernelspec": {
   "display_name": "Python 3 (ipykernel)",
   "language": "python",
   "name": "python3"
  },
  "language_info": {
   "codemirror_mode": {
    "name": "ipython",
    "version": 3
   },
   "file_extension": ".py",
   "mimetype": "text/x-python",
   "name": "python",
   "nbconvert_exporter": "python",
   "pygments_lexer": "ipython3",
   "version": "3.11.6"
  },
  "widgets": {
   "application/vnd.jupyter.widget-state+json": {
    "state": {},
    "version_major": 2,
    "version_minor": 0
   }
  }
 },
 "nbformat": 4,
 "nbformat_minor": 5
}
