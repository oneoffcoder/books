{
 "cells": [
  {
   "cell_type": "markdown",
   "id": "a3a86924-bdf2-44f5-a400-67dda99d6e98",
   "metadata": {},
   "source": [
    "# Counterfactuals"
   ]
  },
  {
   "cell_type": "markdown",
   "id": "a83497bd-e032-4513-a920-09d00911f0a0",
   "metadata": {},
   "source": [
    "## Structural Causal Model (SCM)"
   ]
  },
  {
   "cell_type": "markdown",
   "id": "4083a874-4c1d-4d5b-b068-9206ad4b4ce9",
   "metadata": {},
   "source": [
    "### Structure"
   ]
  },
  {
   "cell_type": "code",
   "execution_count": 1,
   "id": "64a8871c-902d-4660-bec9-c6d6e048e861",
   "metadata": {},
   "outputs": [],
   "source": [
    "import networkx as nx\n",
    "\n",
    "g = nx.DiGraph()\n",
    "g.add_nodes_from(['X', 'Z', 'Y'])\n",
    "g.add_edges_from([('X', 'Z'), ('X', 'Y'), ('Z', 'Y')])"
   ]
  },
  {
   "cell_type": "code",
   "execution_count": 2,
   "id": "1cbdd16a-c86e-4afa-883e-bd111394940a",
   "metadata": {},
   "outputs": [
    {
     "data": {
      "image/png": "[encoded data removed]",
      "text/plain": [
       "<Figure size 300x300 with 1 Axes>"
      ]
     },
     "metadata": {},
     "output_type": "display_data"
    }
   ],
   "source": [
    "import matplotlib.pyplot as plt\n",
    "\n",
    "fig, ax = plt.subplots(figsize=(3, 3))\n",
    "\n",
    "pos = nx.nx_agraph.graphviz_layout(g, prog='dot')\n",
    "nx.draw(g, pos=pos, with_labels=True, node_color='red')\n",
    "\n",
    "fig.tight_layout()"
   ]
  },
  {
   "cell_type": "markdown",
   "id": "ca9a933b-296b-4bfd-a039-2fb8a253d1e7",
   "metadata": {},
   "source": [
    "### Parameters\n",
    "\n",
    "- $X \\sim \\mathcal{N}(1, 1)$\n",
    "- $Z \\sim \\mathcal{N}(0.5 X, 1)$\n",
    "- $Y \\sim \\mathcal{N}(0.7 X + 0.4 Z, 1)$"
   ]
  },
  {
   "cell_type": "code",
   "execution_count": 3,
   "id": "b4cab8c2-f398-4b63-96a7-a2f09aac383b",
   "metadata": {},
   "outputs": [
    {
     "data": {
      "text/plain": [
       "(10000, 3)"
      ]
     },
     "execution_count": 3,
     "metadata": {},
     "output_type": "execute_result"
    }
   ],
   "source": [
    "import numpy as np\n",
    "import pandas as pd\n",
    "\n",
    "np.random.seed(37)\n",
    "\n",
    "Xy = pd.DataFrame({'X': np.random.normal(1, 1, 10_000)}) \\\n",
    "    .assign(Z=lambda d: np.random.normal(0.5 * d['X'], 1)) \\\n",
    "    .assign(Y=lambda d: np.random.normal(0.7 * d['X'] + 0.4 * d['Z'], 1))\n",
    "Xy.shape"
   ]
  },
  {
   "cell_type": "markdown",
   "id": "742dadbf-7db4-465c-9de5-2cc02be6584c",
   "metadata": {},
   "source": [
    "## Linear counterfactual estimation\n",
    "\n",
    "- $X = e_X$\n",
    "- $Z = \\beta X + e_Z$\n",
    "- $Y = \\alpha X + \\gamma Z + e_Y$"
   ]
  },
  {
   "cell_type": "code",
   "execution_count": 4,
   "id": "60e60a0a-112c-4723-b6d6-8c975dae656f",
   "metadata": {},
   "outputs": [
    {
     "data": {
      "text/plain": [
       "X    0.499326\n",
       "dtype: float64"
      ]
     },
     "execution_count": 4,
     "metadata": {},
     "output_type": "execute_result"
    }
   ],
   "source": [
    "from sklearn.linear_model import LinearRegression\n",
    "\n",
    "X, y = Xy[['X']], Xy['Z']\n",
    "m_z = LinearRegression(fit_intercept=False).fit(X, y)\n",
    "\n",
    "pd.Series(m_z.coef_, X.columns)"
   ]
  },
  {
   "cell_type": "code",
   "execution_count": 5,
   "id": "a419d8e1-9bb7-4032-b7ec-ea6da16e7cb9",
   "metadata": {},
   "outputs": [
    {
     "data": {
      "text/plain": [
       "X    0.704584\n",
       "Z    0.406117\n",
       "dtype: float64"
      ]
     },
     "execution_count": 5,
     "metadata": {},
     "output_type": "execute_result"
    }
   ],
   "source": [
    "X, y = Xy[['X', 'Z']], Xy['Y']\n",
    "m_y = LinearRegression(fit_intercept=False).fit(X, y)\n",
    "\n",
    "pd.Series(m_y.coef_, X.columns)"
   ]
  },
  {
   "cell_type": "markdown",
   "id": "d9ae5738-b547-4f10-82e8-6ecf5d89f9b5",
   "metadata": {},
   "source": [
    "### Abduction"
   ]
  },
  {
   "cell_type": "code",
   "execution_count": 6,
   "id": "a8a40fa0-ea06-48e5-9ba1-ebfb1abcd668",
   "metadata": {},
   "outputs": [],
   "source": [
    "x_u = 0.5\n",
    "z_u = 1.0\n",
    "y_u = 1.5"
   ]
  },
  {
   "cell_type": "code",
   "execution_count": 7,
   "id": "0d418de0-6d2b-46d1-924d-b5160aba1dbb",
   "metadata": {},
   "outputs": [
    {
     "data": {
      "text/plain": [
       "(0.5, 0.7503369785092123, 0.7415910542801099)"
      ]
     },
     "execution_count": 7,
     "metadata": {},
     "output_type": "execute_result"
    }
   ],
   "source": [
    "e_x = x_u\n",
    "e_z = (z_u - m_z.predict(pd.DataFrame([[x_u]], columns=['X'])))[0]\n",
    "e_y = (y_u - m_y.predict(pd.DataFrame([[x_u, z_u]], columns=['X', 'Z'])))[0]\n",
    "\n",
    "e_x, e_z, e_y"
   ]
  },
  {
   "cell_type": "markdown",
   "id": "9b9f4261-8bbd-4105-a724-b5d12ada580b",
   "metadata": {},
   "source": [
    "## Intervention"
   ]
  },
  {
   "cell_type": "code",
   "execution_count": 8,
   "id": "c7f3a97f-3ee3-4772-9f86-45e2770b97ff",
   "metadata": {},
   "outputs": [],
   "source": [
    "z = 2.0"
   ]
  },
  {
   "cell_type": "markdown",
   "id": "80b5d12b-e38f-4da6-bf84-f135dfcf4598",
   "metadata": {},
   "source": [
    "### Prediction"
   ]
  },
  {
   "cell_type": "code",
   "execution_count": 9,
   "id": "563f2010-3189-49e5-b846-b254fe4597d8",
   "metadata": {},
   "outputs": [
    {
     "data": {
      "text/plain": [
       "1.9061169903480661"
      ]
     },
     "execution_count": 9,
     "metadata": {},
     "output_type": "execute_result"
    }
   ],
   "source": [
    "m_y.predict(pd.DataFrame([[x_u, z]], columns=['X', 'Z']))[0] + e_y"
   ]
  },
  {
   "cell_type": "markdown",
   "id": "20f9a598-6b02-4d76-bab5-cc275ae55d2a",
   "metadata": {},
   "source": [
    "## Non-linear counterfactual estimation"
   ]
  },
  {
   "cell_type": "code",
   "execution_count": 10,
   "id": "dde43414-a7d3-4e3c-9544-eefbadb49c1c",
   "metadata": {},
   "outputs": [],
   "source": [
    "from sklearn.ensemble import RandomForestRegressor\n",
    "\n",
    "X, y = Xy[['X']], Xy['Z']\n",
    "m_z = RandomForestRegressor(random_state=37, n_jobs=-1).fit(X, y)\n",
    "\n",
    "X, y = Xy[['X', 'Z']], Xy['Y']\n",
    "m_y = RandomForestRegressor(random_state=37, n_jobs=-1).fit(X, y)"
   ]
  },
  {
   "cell_type": "markdown",
   "id": "5639f23b-eb3e-4bab-9f5d-da388eea8890",
   "metadata": {},
   "source": [
    "Abduction"
   ]
  },
  {
   "cell_type": "code",
   "execution_count": 11,
   "id": "c745ca14-5663-42be-949a-243148ca2693",
   "metadata": {},
   "outputs": [],
   "source": [
    "x_u = 0.5\n",
    "z_u = 1.0\n",
    "y_u = 1.5"
   ]
  },
  {
   "cell_type": "code",
   "execution_count": 12,
   "id": "f77acf2e-6ee4-4b7b-8754-ccd929681d51",
   "metadata": {},
   "outputs": [
    {
     "data": {
      "text/plain": [
       "(0.5, 1.242769153204119, 1.4091147922985516)"
      ]
     },
     "execution_count": 12,
     "metadata": {},
     "output_type": "execute_result"
    }
   ],
   "source": [
    "e_x = x_u\n",
    "e_z = (z_u - m_z.predict(pd.DataFrame([[x_u]], columns=['X'])))[0]\n",
    "e_y = (y_u - m_y.predict(pd.DataFrame([[x_u, z_u]], columns=['X', 'Z'])))[0]\n",
    "\n",
    "e_x, e_z, e_y"
   ]
  },
  {
   "cell_type": "markdown",
   "id": "39d4031e-9ec8-4069-9282-e152780d8fde",
   "metadata": {},
   "source": [
    "Intervention"
   ]
  },
  {
   "cell_type": "code",
   "execution_count": 13,
   "id": "138c062d-23a7-474a-9d71-3e0281baa9df",
   "metadata": {},
   "outputs": [],
   "source": [
    "z = 2.0"
   ]
  },
  {
   "cell_type": "markdown",
   "id": "a7c825f8-3e97-4a24-933d-f71b116dc4ea",
   "metadata": {},
   "source": [
    "Prediction"
   ]
  },
  {
   "cell_type": "code",
   "execution_count": 14,
   "id": "9c282e2e-dc36-4151-9975-66e6a6430dc3",
   "metadata": {},
   "outputs": [
    {
     "data": {
      "text/plain": [
       "2.2044840873996496"
      ]
     },
     "execution_count": 14,
     "metadata": {},
     "output_type": "execute_result"
    }
   ],
   "source": [
    "m_y.predict(pd.DataFrame([[x_u, z]], columns=['X', 'Z']))[0] + e_y"
   ]
  },
  {
   "cell_type": "markdown",
   "id": "97603d8d-1a31-4e2b-8e5f-735f440105e4",
   "metadata": {},
   "source": [
    "## Discretization"
   ]
  },
  {
   "cell_type": "code",
   "execution_count": 15,
   "id": "542ae3ba-084c-4ced-924e-c1cbe173dae7",
   "metadata": {},
   "outputs": [
    {
     "data": {
      "text/plain": [
       "((10000, 3), (10000, 3))"
      ]
     },
     "execution_count": 15,
     "metadata": {},
     "output_type": "execute_result"
    }
   ],
   "source": [
    "from sklearn.mixture import GaussianMixture\n",
    "\n",
    "def l2m(means):\n",
    "    return {i: m for i, m in enumerate(np.ravel(means))}\n",
    "\n",
    "def m2o(means):\n",
    "    return {m: i for i, m in enumerate(sorted(np.ravel(means)))}\n",
    "\n",
    "def l2o(means):\n",
    "    _l2m = l2m(means)\n",
    "    _m2o = m2o(means)\n",
    "    return {l: _m2o[m] for l, m in _l2m.items()}\n",
    "\n",
    "def discretize(X, n_components=3):\n",
    "    m = GaussianMixture(n_components=n_components, random_state=37)\n",
    "    m.fit(X)\n",
    "\n",
    "    lab2ord = l2o(m.means_)\n",
    "    s = pd.Series(m.predict(X)) \\\n",
    "        .map(lab2ord) \\\n",
    "        .map({0: 'low', 1: 'med', 2: 'high'})\n",
    "    return s\n",
    "\n",
    "df = pd.DataFrame({\n",
    "    'X': discretize(Xy[['X']]),\n",
    "    'Y': discretize(Xy[['Y']]),\n",
    "    'Z': discretize(Xy[['Z']])\n",
    "})\n",
    "Xy.shape, df.shape"
   ]
  },
  {
   "cell_type": "markdown",
   "id": "11c14f74-8132-43c0-aef5-218cdfa3f9be",
   "metadata": {},
   "source": [
    "## Bayesian network"
   ]
  },
  {
   "cell_type": "code",
   "execution_count": 16,
   "id": "1d75ca96-5882-4fd4-8db0-2cdc3b41e8ae",
   "metadata": {},
   "outputs": [],
   "source": [
    "import itertools\n",
    "from pybbn.pptc import create_pptc_model\n",
    "\n",
    "data = [('low', 'med', 'high') for _ in ['X', 'Z']]\n",
    "data = itertools.product(*data)\n",
    "data = ([x, z, df[(df['X']==x) & (df['Z']==z)].shape[0] / df[df['X']==x].shape[0]] for x, z in data)\n",
    "z_param = list(data)\n",
    "\n",
    "data = [('low', 'med', 'high') for _ in ['X', 'Z', 'Y']]\n",
    "data = itertools.product(*data)\n",
    "data = ([x, z, y, df[(df['X']==x) & (df['Z']==z) & (df['Y']==y)].shape[0] / df[(df['X']==x) & (df['Z']==z)].shape[0]] for x, z, y in data)\n",
    "y_param = list(data)\n",
    "\n",
    "p = {\n",
    "    'X': {\n",
    "        'columns': ['X', '__p__'],\n",
    "        'data': [\n",
    "            ['low', df[df['X']=='low'].shape[0] / df.shape[0]],\n",
    "            ['med', df[df['X']=='med'].shape[0] / df.shape[0]],\n",
    "            ['high', df[df['X']=='high'].shape[0] / df.shape[0]]\n",
    "        ]\n",
    "    },\n",
    "    'Z': {\n",
    "        'columns': ['X', 'Z', '__p__'],\n",
    "        'data': z_param\n",
    "    },\n",
    "    'Y': {\n",
    "        'columns': ['X', 'Z', 'Y', '__p__'],\n",
    "        'data': y_param\n",
    "    }\n",
    "}\n",
    "\n",
    "m = create_pptc_model(g, p)"
   ]
  },
  {
   "cell_type": "code",
   "execution_count": 17,
   "id": "3a7cfef4-dba8-44e8-919a-8a542fe228af",
   "metadata": {},
   "outputs": [],
   "source": [
    "q = m.query()"
   ]
  },
  {
   "cell_type": "code",
   "execution_count": 18,
   "id": "d602455f-9220-4ece-ac3d-0839b7bced0b",
   "metadata": {},
   "outputs": [
    {
     "data": {
      "text/html": [
       "<div>\n",
       "<style scoped>\n",
       "    .dataframe tbody tr th:only-of-type {\n",
       "        vertical-align: middle;\n",
       "    }\n",
       "\n",
       "    .dataframe tbody tr th {\n",
       "        vertical-align: top;\n",
       "    }\n",
       "\n",
       "    .dataframe thead th {\n",
       "        text-align: right;\n",
       "    }\n",
       "</style>\n",
       "<table border=\"1\" class=\"dataframe\">\n",
       "  <thead>\n",
       "    <tr style=\"text-align: right;\">\n",
       "      <th></th>\n",
       "      <th>X</th>\n",
       "      <th>__p__</th>\n",
       "    </tr>\n",
       "  </thead>\n",
       "  <tbody>\n",
       "    <tr>\n",
       "      <th>0</th>\n",
       "      <td>high</td>\n",
       "      <td>0.2635</td>\n",
       "    </tr>\n",
       "    <tr>\n",
       "      <th>1</th>\n",
       "      <td>low</td>\n",
       "      <td>0.2270</td>\n",
       "    </tr>\n",
       "    <tr>\n",
       "      <th>2</th>\n",
       "      <td>med</td>\n",
       "      <td>0.5095</td>\n",
       "    </tr>\n",
       "  </tbody>\n",
       "</table>\n",
       "</div>"
      ],
      "text/plain": [
       "      X   __p__\n",
       "0  high  0.2635\n",
       "1   low  0.2270\n",
       "2   med  0.5095"
      ]
     },
     "execution_count": 18,
     "metadata": {},
     "output_type": "execute_result"
    }
   ],
   "source": [
    "q['X']"
   ]
  },
  {
   "cell_type": "code",
   "execution_count": 19,
   "id": "96e207ca-fb84-4ed5-8dc0-f368ac1c383a",
   "metadata": {},
   "outputs": [
    {
     "data": {
      "text/html": [
       "<div>\n",
       "<style scoped>\n",
       "    .dataframe tbody tr th:only-of-type {\n",
       "        vertical-align: middle;\n",
       "    }\n",
       "\n",
       "    .dataframe tbody tr th {\n",
       "        vertical-align: top;\n",
       "    }\n",
       "\n",
       "    .dataframe thead th {\n",
       "        text-align: right;\n",
       "    }\n",
       "</style>\n",
       "<table border=\"1\" class=\"dataframe\">\n",
       "  <thead>\n",
       "    <tr style=\"text-align: right;\">\n",
       "      <th></th>\n",
       "      <th>Z</th>\n",
       "      <th>__p__</th>\n",
       "    </tr>\n",
       "  </thead>\n",
       "  <tbody>\n",
       "    <tr>\n",
       "      <th>0</th>\n",
       "      <td>high</td>\n",
       "      <td>0.2385</td>\n",
       "    </tr>\n",
       "    <tr>\n",
       "      <th>1</th>\n",
       "      <td>low</td>\n",
       "      <td>0.2673</td>\n",
       "    </tr>\n",
       "    <tr>\n",
       "      <th>2</th>\n",
       "      <td>med</td>\n",
       "      <td>0.4942</td>\n",
       "    </tr>\n",
       "  </tbody>\n",
       "</table>\n",
       "</div>"
      ],
      "text/plain": [
       "      Z   __p__\n",
       "0  high  0.2385\n",
       "1   low  0.2673\n",
       "2   med  0.4942"
      ]
     },
     "execution_count": 19,
     "metadata": {},
     "output_type": "execute_result"
    }
   ],
   "source": [
    "q['Z']"
   ]
  },
  {
   "cell_type": "code",
   "execution_count": 20,
   "id": "f8da9c88-de73-4a6d-a46e-50c7d74b4681",
   "metadata": {},
   "outputs": [
    {
     "data": {
      "text/html": [
       "<div>\n",
       "<style scoped>\n",
       "    .dataframe tbody tr th:only-of-type {\n",
       "        vertical-align: middle;\n",
       "    }\n",
       "\n",
       "    .dataframe tbody tr th {\n",
       "        vertical-align: top;\n",
       "    }\n",
       "\n",
       "    .dataframe thead th {\n",
       "        text-align: right;\n",
       "    }\n",
       "</style>\n",
       "<table border=\"1\" class=\"dataframe\">\n",
       "  <thead>\n",
       "    <tr style=\"text-align: right;\">\n",
       "      <th></th>\n",
       "      <th>Y</th>\n",
       "      <th>__p__</th>\n",
       "    </tr>\n",
       "  </thead>\n",
       "  <tbody>\n",
       "    <tr>\n",
       "      <th>0</th>\n",
       "      <td>high</td>\n",
       "      <td>0.2796</td>\n",
       "    </tr>\n",
       "    <tr>\n",
       "      <th>1</th>\n",
       "      <td>low</td>\n",
       "      <td>0.2354</td>\n",
       "    </tr>\n",
       "    <tr>\n",
       "      <th>2</th>\n",
       "      <td>med</td>\n",
       "      <td>0.4850</td>\n",
       "    </tr>\n",
       "  </tbody>\n",
       "</table>\n",
       "</div>"
      ],
      "text/plain": [
       "      Y   __p__\n",
       "0  high  0.2796\n",
       "1   low  0.2354\n",
       "2   med  0.4850"
      ]
     },
     "execution_count": 20,
     "metadata": {},
     "output_type": "execute_result"
    }
   ],
   "source": [
    "q['Y']"
   ]
  },
  {
   "cell_type": "markdown",
   "id": "cb58bd80-9d7c-442e-ad77-d551b00e7de3",
   "metadata": {},
   "source": [
    "Abduction"
   ]
  },
  {
   "cell_type": "code",
   "execution_count": 21,
   "id": "cc76a874-1d62-4f41-9677-c9854556e1a2",
   "metadata": {},
   "outputs": [],
   "source": [
    "x_u = 'med'\n",
    "z_u = 'low'\n",
    "y_u = 'med'"
   ]
  },
  {
   "cell_type": "code",
   "execution_count": 22,
   "id": "bafe1c6c-f5a5-4562-9ea2-49080e9307fe",
   "metadata": {},
   "outputs": [
    {
     "data": {
      "text/plain": [
       "(0.5095, 0.26123650637880275, 0.5514650638617581)"
      ]
     },
     "execution_count": 22,
     "metadata": {},
     "output_type": "execute_result"
    }
   ],
   "source": [
    "e_x = m.query(['X'])['X'].set_index(['X']).loc[x_u].__p__\n",
    "\n",
    "_e = m.get_observation_evidences({'X': x_u})\n",
    "e_z = m.query(['Z'], evidences=_e)['Z'].set_index(['Z']).loc[z_u].__p__\n",
    "\n",
    "_e = m.get_observation_evidences({'X': x_u, 'Z': z_u})\n",
    "e_y = m.query(['Y'], evidences=_e)['Y'].set_index(['Y']).loc[y_u].__p__\n",
    "\n",
    "e_x, e_z, e_y"
   ]
  },
  {
   "cell_type": "markdown",
   "id": "460ef7bb-5c1f-46ef-8cef-4275201d2ea7",
   "metadata": {},
   "source": [
    "Action"
   ]
  },
  {
   "cell_type": "code",
   "execution_count": 23,
   "id": "824bc368-67dc-4a99-84a5-55edff087c65",
   "metadata": {},
   "outputs": [],
   "source": [
    "z = 'high'"
   ]
  },
  {
   "cell_type": "markdown",
   "id": "79d72a5b-a6e9-4a64-8169-156671d1b7c5",
   "metadata": {},
   "source": [
    "Prediction"
   ]
  },
  {
   "cell_type": "code",
   "execution_count": 24,
   "id": "f0ef4f6c-72d5-4760-977b-adcf5615b5b4",
   "metadata": {},
   "outputs": [
    {
     "data": {
      "text/plain": [
       "0.9810946934913878"
      ]
     },
     "execution_count": 24,
     "metadata": {},
     "output_type": "execute_result"
    }
   ],
   "source": [
    "_e = m.get_observation_evidences({'X': x_u, 'Z': z})\n",
    "\n",
    "m.query(['Y'], evidences=_e)['Y'].set_index(['Y']).loc['high'].__p__ + e_y"
   ]
  },
  {
   "cell_type": "markdown",
   "id": "756b1b9d-35fd-4e1f-84a8-4d0e154607a3",
   "metadata": {},
   "source": [
    "## Random forest"
   ]
  },
  {
   "cell_type": "code",
   "execution_count": 30,
   "id": "fcb6d54a-8925-4d3d-adc9-1c69b10b3082",
   "metadata": {},
   "outputs": [],
   "source": [
    "from sklearn.ensemble import RandomForestClassifier\n",
    "\n",
    "Xy_df = df.assign(\n",
    "    X=lambda d: d['X'].map({'low': 0, 'med': 1, 'high': 2}),\n",
    "    Y=lambda d: d['Y'].map({'low': 0, 'med': 1, 'high': 2}),\n",
    "    Z=lambda d: d['Z'].map({'low': 0, 'med': 1, 'high': 2})\n",
    ")\n",
    "\n",
    "X, y = Xy_df[['X']], Xy_df['Z']\n",
    "m_z = RandomForestClassifier(random_state=37).fit(X, y)\n",
    "\n",
    "X, y = Xy_df[['X', 'Z']], Xy_df['Y']\n",
    "m_y = RandomForestClassifier(random_state=37).fit(X, y)"
   ]
  },
  {
   "cell_type": "markdown",
   "id": "4e3ee855-e802-480b-9517-808a7c837089",
   "metadata": {},
   "source": [
    "Abduction"
   ]
  },
  {
   "cell_type": "code",
   "execution_count": 31,
   "id": "40d83344-e0da-4037-a9d6-0e006b690ddb",
   "metadata": {},
   "outputs": [],
   "source": [
    "x_u = 1\n",
    "z_u = 0\n",
    "y_u = 1"
   ]
  },
  {
   "cell_type": "code",
   "execution_count": 32,
   "id": "0112f61b-4832-49c0-8750-05b98f489046",
   "metadata": {},
   "outputs": [
    {
     "data": {
      "text/plain": [
       "(1, -0.26134255453494204, 0.4485814895278367)"
      ]
     },
     "execution_count": 32,
     "metadata": {},
     "output_type": "execute_result"
    }
   ],
   "source": [
    "e_x = x_u\n",
    "e_z = z_u - m_z.predict_proba(pd.DataFrame([[x_u]], columns=['X']))[0,z_u]\n",
    "e_y = y_u - m_y.predict_proba(pd.DataFrame([[x_u, z_u]], columns=['X', 'Z']))[0, y_u]\n",
    "\n",
    "e_x, e_z, e_y"
   ]
  },
  {
   "cell_type": "markdown",
   "id": "75ff4349-4904-4099-8b87-c28a1be504de",
   "metadata": {},
   "source": [
    "Action"
   ]
  },
  {
   "cell_type": "code",
   "execution_count": 33,
   "id": "c0a70f0d-4fa7-4362-8e55-e4b6657caa7a",
   "metadata": {},
   "outputs": [],
   "source": [
    "z = 2"
   ]
  },
  {
   "cell_type": "markdown",
   "id": "812826b3-01a4-4b68-b2ef-f9e7e3ce592e",
   "metadata": {},
   "source": [
    "Prediction"
   ]
  },
  {
   "cell_type": "code",
   "execution_count": 35,
   "id": "df752024-abb5-44a8-8617-49ea3c3dcaf0",
   "metadata": {},
   "outputs": [
    {
     "data": {
      "text/plain": [
       "array([0.95920565])"
      ]
     },
     "execution_count": 35,
     "metadata": {},
     "output_type": "execute_result"
    }
   ],
   "source": [
    "m_y.predict_proba(pd.DataFrame([[x_u, z]], columns=['X', 'Z']))[:,1] + e_y"
   ]
  },
  {
   "cell_type": "code",
   "execution_count": null,
   "id": "5834927d-13ef-45b9-9b70-69a7580113df",
   "metadata": {},
   "outputs": [],
   "source": []
  }
 ],
 "metadata": {
  "kernelspec": {
   "display_name": "Python 3 (ipykernel)",
   "language": "python",
   "name": "python3"
  },
  "language_info": {
   "codemirror_mode": {
    "name": "ipython",
    "version": 3
   },
   "file_extension": ".py",
   "mimetype": "text/x-python",
   "name": "python",
   "nbconvert_exporter": "python",
   "pygments_lexer": "ipython3",
   "version": "3.11.6"
  },
  "widgets": {
   "application/vnd.jupyter.widget-state+json": {
    "state": {},
    "version_major": 2,
    "version_minor": 0
   }
  }
 },
 "nbformat": 4,
 "nbformat_minor": 5
}
