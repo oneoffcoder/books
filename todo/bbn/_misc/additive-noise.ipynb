{
 "cells": [
  {
   "cell_type": "markdown",
   "id": "8ac0e4f4-7e29-43fa-bb7f-182969d8a248",
   "metadata": {},
   "source": [
    "# Counterfactual Computation with Addititive Noise"
   ]
  },
  {
   "cell_type": "markdown",
   "id": "d61bb510-ea8e-438e-b653-c2267e369420",
   "metadata": {},
   "source": [
    "## Causal network"
   ]
  },
  {
   "cell_type": "code",
   "execution_count": 1,
   "id": "f16808ea-b341-459c-950c-b6da3c47c89c",
   "metadata": {},
   "outputs": [],
   "source": [
    "import networkx as nx\n",
    "import numpy as np\n",
    "import pandas as pd\n",
    "from pybbn.pptc import PptcModel, create_pptc_model\n",
    "from pybbn.sampling import sample\n",
    "\n",
    "np.random.seed(37)\n",
    "\n",
    "def get_model() -> PptcModel:\n",
    "    d = nx.DiGraph()\n",
    "    d.add_nodes_from(['drug', 'gender', 'recovery'])\n",
    "    d.add_edges_from([('gender', 'drug'), ('gender', 'recovery'), ('drug', 'recovery')])\n",
    "\n",
    "    p = {\n",
    "        'gender': {\n",
    "            'columns': ['gender', '__p__'],\n",
    "            'data': [\n",
    "                ['male', 0.51], ['female', 0.49]\n",
    "            ]\n",
    "        },\n",
    "        'drug': {\n",
    "            'columns': ['gender', 'drug', '__p__'],\n",
    "            'data': [\n",
    "                ['female', 'no', 0.24],\n",
    "                ['female', 'yes', 0.76],\n",
    "                ['male', 'no', 0.76],\n",
    "                ['male', 'yes', 0.24]\n",
    "            ]\n",
    "        },\n",
    "        'recovery': {\n",
    "            'columns': ['gender', 'drug', 'recovery', '__p__'],\n",
    "            'data': [\n",
    "                ['female', 'no', 'no', 0.90],\n",
    "                ['female', 'no', 'yes', 0.10],\n",
    "                ['female', 'yes', 'no', 0.27],\n",
    "                ['female', 'yes', 'yes', 0.73],\n",
    "                ['male', 'no', 'no', 0.99],\n",
    "                ['male', 'no', 'yes', 0.01],\n",
    "                ['male', 'yes', 'no', 0.07],\n",
    "                ['male', 'yes', 'yes', 0.93]\n",
    "            ]\n",
    "        }\n",
    "    }\n",
    "\n",
    "    m = create_pptc_model(d, p)\n",
    "    return m\n",
    "\n",
    "model = get_model()"
   ]
  },
  {
   "cell_type": "markdown",
   "id": "42ba9dc8-e9a0-4e17-b920-8e56ca045956",
   "metadata": {},
   "source": [
    "## Sampling"
   ]
  },
  {
   "cell_type": "code",
   "execution_count": 2,
   "id": "d7df1132-5711-442f-8c2f-98fdbc527f4e",
   "metadata": {},
   "outputs": [
    {
     "data": {
      "text/plain": [
       "(10000, 5)"
      ]
     },
     "execution_count": 2,
     "metadata": {},
     "output_type": "execute_result"
    }
   ],
   "source": [
    "N = 10_000\n",
    "Xy = sample(model, max_samples=N) \\\n",
    "    .assign(\n",
    "        gender=lambda d: d['gender'].map({'male': 1, 'female': 0}),\n",
    "        drug=lambda d: d['drug'].map({'yes': 1, 'no': 0}),\n",
    "        recovery=lambda d: d['recovery'].map({'yes': 1, 'no': 0})\n",
    "    ) \\\n",
    "    .assign(\n",
    "        U_d=np.random.normal(0, 1, size=N),\n",
    "        U_r=np.random.normal(0, 1, size=N)\n",
    "    ) \\\n",
    "    .rename(columns={'gender': 'G', 'drug': 'D', 'recovery': 'R'})\n",
    "\n",
    "Xy.shape"
   ]
  },
  {
   "cell_type": "code",
   "execution_count": 3,
   "id": "c47b1e54-be25-4d50-9217-00c54c7c4b22",
   "metadata": {},
   "outputs": [
    {
     "data": {
      "text/html": [
       "<div>\n",
       "<style scoped>\n",
       "    .dataframe tbody tr th:only-of-type {\n",
       "        vertical-align: middle;\n",
       "    }\n",
       "\n",
       "    .dataframe tbody tr th {\n",
       "        vertical-align: top;\n",
       "    }\n",
       "\n",
       "    .dataframe thead th {\n",
       "        text-align: right;\n",
       "    }\n",
       "</style>\n",
       "<table border=\"1\" class=\"dataframe\">\n",
       "  <thead>\n",
       "    <tr style=\"text-align: right;\">\n",
       "      <th></th>\n",
       "      <th>G</th>\n",
       "      <th>D</th>\n",
       "      <th>R</th>\n",
       "      <th>U_d</th>\n",
       "      <th>U_r</th>\n",
       "    </tr>\n",
       "  </thead>\n",
       "  <tbody>\n",
       "    <tr>\n",
       "      <th>0</th>\n",
       "      <td>1</td>\n",
       "      <td>0</td>\n",
       "      <td>0</td>\n",
       "      <td>0.104978</td>\n",
       "      <td>0.151996</td>\n",
       "    </tr>\n",
       "    <tr>\n",
       "      <th>1</th>\n",
       "      <td>1</td>\n",
       "      <td>1</td>\n",
       "      <td>1</td>\n",
       "      <td>-0.814426</td>\n",
       "      <td>0.988001</td>\n",
       "    </tr>\n",
       "    <tr>\n",
       "      <th>2</th>\n",
       "      <td>0</td>\n",
       "      <td>1</td>\n",
       "      <td>0</td>\n",
       "      <td>0.248942</td>\n",
       "      <td>0.548840</td>\n",
       "    </tr>\n",
       "    <tr>\n",
       "      <th>3</th>\n",
       "      <td>1</td>\n",
       "      <td>1</td>\n",
       "      <td>1</td>\n",
       "      <td>0.164245</td>\n",
       "      <td>1.118099</td>\n",
       "    </tr>\n",
       "    <tr>\n",
       "      <th>4</th>\n",
       "      <td>0</td>\n",
       "      <td>1</td>\n",
       "      <td>1</td>\n",
       "      <td>1.037087</td>\n",
       "      <td>1.884652</td>\n",
       "    </tr>\n",
       "  </tbody>\n",
       "</table>\n",
       "</div>"
      ],
      "text/plain": [
       "   G  D  R       U_d       U_r\n",
       "0  1  0  0  0.104978  0.151996\n",
       "1  1  1  1 -0.814426  0.988001\n",
       "2  0  1  0  0.248942  0.548840\n",
       "3  1  1  1  0.164245  1.118099\n",
       "4  0  1  1  1.037087  1.884652"
      ]
     },
     "execution_count": 3,
     "metadata": {},
     "output_type": "execute_result"
    }
   ],
   "source": [
    "Xy.head()"
   ]
  },
  {
   "cell_type": "markdown",
   "id": "f4a4f3dd-d2fb-4113-8675-7d9bd6234cd7",
   "metadata": {},
   "source": [
    "## Structural causal models"
   ]
  },
  {
   "cell_type": "code",
   "execution_count": 7,
   "id": "09b5e156-23b1-4afa-8bdc-489661fc88f8",
   "metadata": {},
   "outputs": [],
   "source": [
    "from sklearn.ensemble import RandomForestRegressor\n",
    "from sklearn.ensemble import RandomForestClassifier\n",
    "\n",
    "def record(vals, cols):\n",
    "    return pd.DataFrame([vals], columns=cols)\n",
    "\n",
    "X, y = Xy[['G', 'D', 'R']], Xy['U_r']\n",
    "u_model = RandomForestRegressor(random_state=37, n_jobs=-1).fit(X, y)\n",
    "\n",
    "X, y = Xy[['G', 'D', 'U_r']], Xy['R']\n",
    "y_model = RandomForestClassifier(random_state=37, n_jobs=-1).fit(X, y)"
   ]
  },
  {
   "cell_type": "markdown",
   "id": "b8f482e5-4ebc-4df5-aea5-54ab8724ba74",
   "metadata": {},
   "source": [
    "## Counterfactual 1\n",
    "\n",
    "We observe a patient who was male, $G=1$, took the drug, $D=1$ and recovered $R=1$. What is the probability of recovery had the patient `not` taken the drug?"
   ]
  },
  {
   "cell_type": "code",
   "execution_count": 8,
   "id": "b57b7d50-2cbd-4a8a-b553-8d4e4e906321",
   "metadata": {},
   "outputs": [],
   "source": [
    "G, D, R = 1, 1, 1\n",
    "_D = 0"
   ]
  },
  {
   "cell_type": "code",
   "execution_count": 9,
   "id": "4f405abb-ef58-4ece-8d1b-c14d4248c7aa",
   "metadata": {},
   "outputs": [
    {
     "data": {
      "text/plain": [
       "0.009851258822790709"
      ]
     },
     "execution_count": 9,
     "metadata": {},
     "output_type": "execute_result"
    }
   ],
   "source": [
    "u_r = u_model.predict(record([G, D, R], ['G', 'D', 'R']))[0]\n",
    "u_r"
   ]
  },
  {
   "cell_type": "code",
   "execution_count": 10,
   "id": "55cbae4a-e062-446f-90ef-f9035ca6c5bf",
   "metadata": {},
   "outputs": [
    {
     "data": {
      "text/plain": [
       "array([[0.7, 0.3]])"
      ]
     },
     "execution_count": 10,
     "metadata": {},
     "output_type": "execute_result"
    }
   ],
   "source": [
    "y_model.predict_proba(record([G, _D, u_r], ['G', 'D', 'U_r']))"
   ]
  },
  {
   "cell_type": "markdown",
   "id": "ad193365-b1ee-4e52-a5bd-baca8b262ced",
   "metadata": {},
   "source": [
    "## Counterfactual 2\n",
    "\n",
    "We observe a patient who was female, $G=0$, took the drug, $D=1$ and recovered $R=1$. What is the probability of recovery had the patient `not` taken the drug?"
   ]
  },
  {
   "cell_type": "code",
   "execution_count": 11,
   "id": "0522e5f4-fb48-46e4-85f1-ffc76428329c",
   "metadata": {},
   "outputs": [],
   "source": [
    "G, D, R = 0, 1, 1\n",
    "_D = 0"
   ]
  },
  {
   "cell_type": "code",
   "execution_count": 12,
   "id": "d4eb7d59-8f85-4889-9dda-d939ebc78a93",
   "metadata": {},
   "outputs": [
    {
     "data": {
      "text/plain": [
       "-0.043631856154001704"
      ]
     },
     "execution_count": 12,
     "metadata": {},
     "output_type": "execute_result"
    }
   ],
   "source": [
    "u_r = u_model.predict(record([G, D, R], ['G', 'D', 'R']))[0]\n",
    "u_r"
   ]
  },
  {
   "cell_type": "code",
   "execution_count": 13,
   "id": "475e2fbf-f0e5-494d-8dee-682036682460",
   "metadata": {},
   "outputs": [
    {
     "data": {
      "text/plain": [
       "array([[0.72, 0.28]])"
      ]
     },
     "execution_count": 13,
     "metadata": {},
     "output_type": "execute_result"
    }
   ],
   "source": [
    "y_model.predict_proba(record([G, _D, u_r], ['G', 'D', 'U_r']))"
   ]
  }
 ],
 "metadata": {
  "kernelspec": {
   "display_name": "Python 3 (ipykernel)",
   "language": "python",
   "name": "python3"
  },
  "language_info": {
   "codemirror_mode": {
    "name": "ipython",
    "version": 3
   },
   "file_extension": ".py",
   "mimetype": "text/x-python",
   "name": "python",
   "nbconvert_exporter": "python",
   "pygments_lexer": "ipython3",
   "version": "3.11.6"
  },
  "widgets": {
   "application/vnd.jupyter.widget-state+json": {
    "state": {},
    "version_major": 2,
    "version_minor": 0
   }
  }
 },
 "nbformat": 4,
 "nbformat_minor": 5
}
