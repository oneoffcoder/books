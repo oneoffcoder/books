{
 "cells": [
  {
   "cell_type": "markdown",
   "id": "63a045ce-5b5e-4a7c-9d12-3cca029b56d3",
   "metadata": {},
   "source": [
    "# Gumbel-Max Trick\n",
    "\n",
    "The Gumbel-Max trick is an approach to sample values from a categorical variable. Assume we have a categorical variable $X$  with $k$ values and $\\theta_X = \\{ p_1, p_2, \\ldots, p_k \\}$ defines the probabilities of each value (note $\\sum_k p_k = 1$). Then we can sample values from $X$ using the Guble-Max trick as follows.\n",
    "\n",
    "- for each $p_k$ simulate $z_k ~ \\mathcal{G}(0, 1)$ and set $g_k = p_k + z_k$\n",
    "- return $\\arg\\max_k g_k$, where $k$ points to the k-th value\n",
    "\n",
    "The [Gumbel distribution](https://en.wikipedia.org/wiki/Gumbel_distribution) models a distribution of maximum or minium values. For example, it could be used to model the distribution of the maximum values of a river. In multinomial logistic regression, the errors of the latent variables follow a Gumbel distribution."
   ]
  },
  {
   "cell_type": "markdown",
   "id": "c0e3af29-945e-4d2d-9a84-cf09e95b1e8f",
   "metadata": {},
   "source": [
    "## Simple example"
   ]
  },
  {
   "cell_type": "code",
   "execution_count": 1,
   "id": "d304f2cc-4376-4a8e-b034-b26c3414761f",
   "metadata": {},
   "outputs": [
    {
     "data": {
      "text/plain": [
       "(array([0.5, 0.5]), array([0.98094889, 0.74723253]))"
      ]
     },
     "execution_count": 1,
     "metadata": {},
     "output_type": "execute_result"
    }
   ],
   "source": [
    "import numpy as np\n",
    "from numpy.random import gumbel\n",
    "\n",
    "x = np.array([0.5, 0.5])\n",
    "z = gumbel(loc=0, scale=1, size=x.shape)\n",
    "\n",
    "x, z"
   ]
  },
  {
   "cell_type": "code",
   "execution_count": 2,
   "id": "778a689b-af0e-4e08-a46e-6ee796b5940a",
   "metadata": {},
   "outputs": [
    {
     "data": {
      "text/plain": [
       "array([1.48094889, 1.24723253])"
      ]
     },
     "execution_count": 2,
     "metadata": {},
     "output_type": "execute_result"
    }
   ],
   "source": [
    "x + z"
   ]
  },
  {
   "cell_type": "code",
   "execution_count": 3,
   "id": "ad1501be-f179-4ca0-96af-22600dc9dc36",
   "metadata": {},
   "outputs": [
    {
     "data": {
      "text/plain": [
       "0"
      ]
     },
     "execution_count": 3,
     "metadata": {},
     "output_type": "execute_result"
    }
   ],
   "source": [
    "(x + z).argmax()"
   ]
  },
  {
   "cell_type": "markdown",
   "id": "c72c5a7c-6ca0-4443-b75d-f518b0c1bd53",
   "metadata": {},
   "source": [
    "## Sample"
   ]
  },
  {
   "cell_type": "code",
   "execution_count": 4,
   "id": "c25efec0-4322-4ab2-acb7-37d95e91650e",
   "metadata": {},
   "outputs": [
    {
     "data": {
      "text/plain": [
       "array([1, 1, 0, ..., 1, 1, 0])"
      ]
     },
     "execution_count": 4,
     "metadata": {},
     "output_type": "execute_result"
    }
   ],
   "source": [
    "samples = np.argmax(np.array([x + gumbel(0, 1, x.shape) for _ in range(10_000)]), axis=1)\n",
    "samples"
   ]
  },
  {
   "cell_type": "code",
   "execution_count": 5,
   "id": "2db42465-158f-4f7c-b753-84b428a505e5",
   "metadata": {},
   "outputs": [],
   "source": [
    "_, counts = np.unique(samples, return_counts=True)"
   ]
  },
  {
   "cell_type": "code",
   "execution_count": 6,
   "id": "82445f98-3214-4ba3-9f9d-9b5124d52166",
   "metadata": {},
   "outputs": [
    {
     "data": {
      "text/plain": [
       "array([4958, 5042])"
      ]
     },
     "execution_count": 6,
     "metadata": {},
     "output_type": "execute_result"
    }
   ],
   "source": [
    "counts"
   ]
  },
  {
   "cell_type": "code",
   "execution_count": 7,
   "id": "db8ca08c-71ec-4171-a31c-4e4476600dc5",
   "metadata": {},
   "outputs": [
    {
     "data": {
      "text/plain": [
       "array([0.4958, 0.5042])"
      ]
     },
     "execution_count": 7,
     "metadata": {},
     "output_type": "execute_result"
    }
   ],
   "source": [
    "counts / np.sum(counts)"
   ]
  },
  {
   "cell_type": "markdown",
   "id": "d7e4499c-6533-4603-8e31-e7f482606bc2",
   "metadata": {},
   "source": [
    "As you can see, the proportion of sampled values matches closely with the true proportions."
   ]
  },
  {
   "cell_type": "markdown",
   "id": "6741d0a7-12c4-42c1-87e1-9b5fe717fdfb",
   "metadata": {},
   "source": [
    "## Sample, keep track of priors\n",
    "\n",
    "We are going to perform sampling using the Gumbel-Max trick. As we sample, we will keep track of the prior `g`."
   ]
  },
  {
   "cell_type": "code",
   "execution_count": 8,
   "id": "4f2b0a3a-af10-41da-b89a-e347b017a3b3",
   "metadata": {},
   "outputs": [
    {
     "data": {
      "text/html": [
       "<div>\n",
       "<style scoped>\n",
       "    .dataframe tbody tr th:only-of-type {\n",
       "        vertical-align: middle;\n",
       "    }\n",
       "\n",
       "    .dataframe tbody tr th {\n",
       "        vertical-align: top;\n",
       "    }\n",
       "\n",
       "    .dataframe thead th {\n",
       "        text-align: right;\n",
       "    }\n",
       "</style>\n",
       "<table border=\"1\" class=\"dataframe\">\n",
       "  <thead>\n",
       "    <tr style=\"text-align: right;\">\n",
       "      <th></th>\n",
       "      <th>p</th>\n",
       "      <th>g</th>\n",
       "      <th>z</th>\n",
       "      <th>j</th>\n",
       "    </tr>\n",
       "  </thead>\n",
       "  <tbody>\n",
       "    <tr>\n",
       "      <th>0</th>\n",
       "      <td>[0.8, 0.2]</td>\n",
       "      <td>[-0.11362697649369283, -0.9736320492222224]</td>\n",
       "      <td>[0.6863730235063072, -0.7736320492222224]</td>\n",
       "      <td>0</td>\n",
       "    </tr>\n",
       "    <tr>\n",
       "      <th>1</th>\n",
       "      <td>[0.8, 0.2]</td>\n",
       "      <td>[-0.610495978777585, 0.8084945646445472]</td>\n",
       "      <td>[0.18950402122241505, 1.0084945646445471]</td>\n",
       "      <td>1</td>\n",
       "    </tr>\n",
       "    <tr>\n",
       "      <th>2</th>\n",
       "      <td>[0.8, 0.2]</td>\n",
       "      <td>[0.2654703065780095, 0.20365001204867103]</td>\n",
       "      <td>[1.0654703065780096, 0.403650012048671]</td>\n",
       "      <td>0</td>\n",
       "    </tr>\n",
       "    <tr>\n",
       "      <th>3</th>\n",
       "      <td>[0.8, 0.2]</td>\n",
       "      <td>[1.5661774297412336, 0.6892010308912532]</td>\n",
       "      <td>[2.3661774297412337, 0.8892010308912532]</td>\n",
       "      <td>0</td>\n",
       "    </tr>\n",
       "    <tr>\n",
       "      <th>4</th>\n",
       "      <td>[0.8, 0.2]</td>\n",
       "      <td>[2.33190284920853, -0.5669642129060366]</td>\n",
       "      <td>[3.1319028492085303, -0.3669642129060366]</td>\n",
       "      <td>0</td>\n",
       "    </tr>\n",
       "    <tr>\n",
       "      <th>5</th>\n",
       "      <td>[0.8, 0.2]</td>\n",
       "      <td>[-0.3292231899985446, 2.4961360972384687]</td>\n",
       "      <td>[0.47077681000145544, 2.696136097238469]</td>\n",
       "      <td>1</td>\n",
       "    </tr>\n",
       "    <tr>\n",
       "      <th>6</th>\n",
       "      <td>[0.8, 0.2]</td>\n",
       "      <td>[0.18872523946302888, -0.14890675021054955]</td>\n",
       "      <td>[0.9887252394630289, 0.05109324978945046]</td>\n",
       "      <td>0</td>\n",
       "    </tr>\n",
       "    <tr>\n",
       "      <th>7</th>\n",
       "      <td>[0.8, 0.2]</td>\n",
       "      <td>[6.185039489501733, 4.965461905062004]</td>\n",
       "      <td>[6.985039489501733, 5.1654619050620045]</td>\n",
       "      <td>0</td>\n",
       "    </tr>\n",
       "    <tr>\n",
       "      <th>8</th>\n",
       "      <td>[0.8, 0.2]</td>\n",
       "      <td>[1.7302317395733458, 3.031986574399711]</td>\n",
       "      <td>[2.530231739573346, 3.2319865743997114]</td>\n",
       "      <td>1</td>\n",
       "    </tr>\n",
       "    <tr>\n",
       "      <th>9</th>\n",
       "      <td>[0.8, 0.2]</td>\n",
       "      <td>[-0.4012850276990852, -0.36008669125316056]</td>\n",
       "      <td>[0.39871497230091485, -0.16008669125316055]</td>\n",
       "      <td>0</td>\n",
       "    </tr>\n",
       "  </tbody>\n",
       "</table>\n",
       "</div>"
      ],
      "text/plain": [
       "            p                                            g  \\\n",
       "0  [0.8, 0.2]  [-0.11362697649369283, -0.9736320492222224]   \n",
       "1  [0.8, 0.2]     [-0.610495978777585, 0.8084945646445472]   \n",
       "2  [0.8, 0.2]    [0.2654703065780095, 0.20365001204867103]   \n",
       "3  [0.8, 0.2]     [1.5661774297412336, 0.6892010308912532]   \n",
       "4  [0.8, 0.2]      [2.33190284920853, -0.5669642129060366]   \n",
       "5  [0.8, 0.2]    [-0.3292231899985446, 2.4961360972384687]   \n",
       "6  [0.8, 0.2]  [0.18872523946302888, -0.14890675021054955]   \n",
       "7  [0.8, 0.2]       [6.185039489501733, 4.965461905062004]   \n",
       "8  [0.8, 0.2]      [1.7302317395733458, 3.031986574399711]   \n",
       "9  [0.8, 0.2]  [-0.4012850276990852, -0.36008669125316056]   \n",
       "\n",
       "                                             z  j  \n",
       "0    [0.6863730235063072, -0.7736320492222224]  0  \n",
       "1    [0.18950402122241505, 1.0084945646445471]  1  \n",
       "2      [1.0654703065780096, 0.403650012048671]  0  \n",
       "3     [2.3661774297412337, 0.8892010308912532]  0  \n",
       "4    [3.1319028492085303, -0.3669642129060366]  0  \n",
       "5     [0.47077681000145544, 2.696136097238469]  1  \n",
       "6    [0.9887252394630289, 0.05109324978945046]  0  \n",
       "7      [6.985039489501733, 5.1654619050620045]  0  \n",
       "8      [2.530231739573346, 3.2319865743997114]  1  \n",
       "9  [0.39871497230091485, -0.16008669125316055]  0  "
      ]
     },
     "execution_count": 8,
     "metadata": {},
     "output_type": "execute_result"
    }
   ],
   "source": [
    "import pandas as pd\n",
    "\n",
    "x = np.array([0.8, 0.2])\n",
    "\n",
    "s = pd.DataFrame([(x, gumbel(0, 1, x.shape)) for _ in range(10_000)], columns=['p', 'g']) \\\n",
    "    .assign(z=lambda d: d['p'] + d['g']) \\\n",
    "    .assign(j=lambda d: d['z'].apply(np.argmax))\n",
    "\n",
    "s.head(10)"
   ]
  },
  {
   "cell_type": "markdown",
   "id": "fc4e4249-fd48-49be-b9db-e190dafa1746",
   "metadata": {},
   "source": [
    "These are the averaged values of location and scale.\n",
    "\n",
    "- $g_0 = 1.82 \\pm 1.3$\n",
    "- $g_1 = 1.81 \\pm 1.3$"
   ]
  },
  {
   "cell_type": "code",
   "execution_count": 9,
   "id": "3b6e1097-253e-4793-a6c6-b9f2241cfa02",
   "metadata": {},
   "outputs": [
    {
     "data": {
      "text/plain": [
       "1.8405172612830005"
      ]
     },
     "execution_count": 9,
     "metadata": {},
     "output_type": "execute_result"
    }
   ],
   "source": [
    "pd.DataFrame(np.array(s['z'].tolist()), columns=['g_0', 'g_1']) \\\n",
    "    .join(s[['j']]) \\\n",
    "    .query('j==0')['g_0'].mean()"
   ]
  },
  {
   "cell_type": "code",
   "execution_count": 10,
   "id": "7ac66802-0e32-4587-956f-8cbedcbf9bb9",
   "metadata": {},
   "outputs": [
    {
     "data": {
      "text/plain": [
       "1.7656388761849071"
      ]
     },
     "execution_count": 10,
     "metadata": {},
     "output_type": "execute_result"
    }
   ],
   "source": [
    "pd.DataFrame(np.array(s['z'].tolist()), columns=['g_0', 'g_1']) \\\n",
    "    .join(s[['j']]) \\\n",
    "    .query('j==1')['g_1'].mean()"
   ]
  },
  {
   "cell_type": "code",
   "execution_count": 11,
   "id": "222f737a-3e08-431d-bd4a-07418ab36162",
   "metadata": {},
   "outputs": [
    {
     "data": {
      "text/plain": [
       "1.3105895776675982"
      ]
     },
     "execution_count": 11,
     "metadata": {},
     "output_type": "execute_result"
    }
   ],
   "source": [
    "pd.DataFrame(np.array(s['z'].tolist()), columns=['g_0', 'g_1']) \\\n",
    "    .join(s[['j']]) \\\n",
    "    .query('j==0')['g_0'].std()"
   ]
  },
  {
   "cell_type": "code",
   "execution_count": 12,
   "id": "447b9a60-5650-48b4-87c9-505f57fcb978",
   "metadata": {},
   "outputs": [
    {
     "data": {
      "text/plain": [
       "1.2571968756132792"
      ]
     },
     "execution_count": 12,
     "metadata": {},
     "output_type": "execute_result"
    }
   ],
   "source": [
    "pd.DataFrame(np.array(s['z'].tolist()), columns=['g_0', 'g_1']) \\\n",
    "    .join(s[['j']]) \\\n",
    "    .query('j==1')['g_1'].std()"
   ]
  },
  {
   "cell_type": "markdown",
   "id": "30540647-0d1d-4824-9bf0-4fce1c64d2d5",
   "metadata": {},
   "source": [
    "## Inferring P(U|e)\n",
    "\n",
    "Let's say $e = \\{X=0\\}$, then let's use sampling with rejection to compute $P(U|e)$."
   ]
  },
  {
   "cell_type": "code",
   "execution_count": 13,
   "id": "89f56155-1863-4519-b28c-65d50306d1d6",
   "metadata": {},
   "outputs": [
    {
     "data": {
      "text/html": [
       "<div>\n",
       "<style scoped>\n",
       "    .dataframe tbody tr th:only-of-type {\n",
       "        vertical-align: middle;\n",
       "    }\n",
       "\n",
       "    .dataframe tbody tr th {\n",
       "        vertical-align: top;\n",
       "    }\n",
       "\n",
       "    .dataframe thead th {\n",
       "        text-align: right;\n",
       "    }\n",
       "</style>\n",
       "<table border=\"1\" class=\"dataframe\">\n",
       "  <thead>\n",
       "    <tr style=\"text-align: right;\">\n",
       "      <th></th>\n",
       "      <th>z_0</th>\n",
       "      <th>z_1</th>\n",
       "    </tr>\n",
       "  </thead>\n",
       "  <tbody>\n",
       "    <tr>\n",
       "      <th>mean</th>\n",
       "      <td>1.816715</td>\n",
       "      <td>0.230677</td>\n",
       "    </tr>\n",
       "    <tr>\n",
       "      <th>std</th>\n",
       "      <td>1.293434</td>\n",
       "      <td>0.857210</td>\n",
       "    </tr>\n",
       "  </tbody>\n",
       "</table>\n",
       "</div>"
      ],
      "text/plain": [
       "           z_0       z_1\n",
       "mean  1.816715  0.230677\n",
       "std   1.293434  0.857210"
      ]
     },
     "execution_count": 13,
     "metadata": {},
     "output_type": "execute_result"
    }
   ],
   "source": [
    "U = pd.DataFrame([(x, gumbel(0, 1, x.shape)) for _ in range(10_000)], columns=['p', 'g']) \\\n",
    "    .assign(z=lambda d: d['p'] + d['g']) \\\n",
    "    .assign(j=lambda d: d['z'].apply(np.argmax)) \\\n",
    "    .assign(r=lambda d: (d['j'] != 0).astype(int)) \\\n",
    "    .query('r == 0') \\\n",
    "    .assign(z_0=lambda d: d['z'].apply(lambda v: v[0])) \\\n",
    "    .assign(z_1=lambda d: d['z'].apply(lambda v: v[1]))[['z_0', 'z_1']] \\\n",
    "    .describe().loc[['mean', 'std']]\n",
    "\n",
    "U"
   ]
  },
  {
   "cell_type": "code",
   "execution_count": 14,
   "id": "477572c5-5797-4b33-8b67-563243a98515",
   "metadata": {},
   "outputs": [
    {
     "data": {
      "text/plain": [
       "(1.8167146034170647,\n",
       " 0.23067720926502758,\n",
       " 1.2934344579794417,\n",
       " 1.2934344579794417)"
      ]
     },
     "execution_count": 14,
     "metadata": {},
     "output_type": "execute_result"
    }
   ],
   "source": [
    "U.loc['mean'].z_0, U.loc['mean'].z_1, U.loc['std'].z_0, U.loc['std'].z_0"
   ]
  },
  {
   "cell_type": "code",
   "execution_count": 15,
   "id": "85a9f771-3c38-43b3-bdeb-dade61fbfc2a",
   "metadata": {},
   "outputs": [
    {
     "data": {
      "text/plain": [
       "z_0    1.239505\n",
       "z_1   -0.346533\n",
       "Name: mean, dtype: float64"
      ]
     },
     "execution_count": 15,
     "metadata": {},
     "output_type": "execute_result"
    }
   ],
   "source": [
    "U.loc['mean'] - 0.57721"
   ]
  },
  {
   "cell_type": "markdown",
   "id": "df82bbee-d25d-4020-a370-e3920c3dc530",
   "metadata": {},
   "source": [
    "## References\n",
    "\n",
    "- [Counterfactual Policy Introspection using Structural Causal Models](https://www.michaelkoberst.com/assets/papers/ms-thesis-michael-oberst.pdf)"
   ]
  },
  {
   "cell_type": "code",
   "execution_count": null,
   "id": "61d79c9e-8d9f-4014-9644-edb05407c783",
   "metadata": {},
   "outputs": [],
   "source": []
  }
 ],
 "metadata": {
  "kernelspec": {
   "display_name": "Python 3 (ipykernel)",
   "language": "python",
   "name": "python3"
  },
  "language_info": {
   "codemirror_mode": {
    "name": "ipython",
    "version": 3
   },
   "file_extension": ".py",
   "mimetype": "text/x-python",
   "name": "python",
   "nbconvert_exporter": "python",
   "pygments_lexer": "ipython3",
   "version": "3.11.6"
  },
  "widgets": {
   "application/vnd.jupyter.widget-state+json": {
    "state": {},
    "version_major": 2,
    "version_minor": 0
   }
  }
 },
 "nbformat": 4,
 "nbformat_minor": 5
}
