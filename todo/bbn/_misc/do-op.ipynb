{
 "cells": [
  {
   "cell_type": "markdown",
   "id": "4a309191-577b-4695-92f8-a26fca49346b",
   "metadata": {},
   "source": [
    "# do-operator"
   ]
  },
  {
   "cell_type": "markdown",
   "id": "bd0a48e6-d464-450e-9c81-af9cfb0d1aba",
   "metadata": {},
   "source": [
    "## Causal network"
   ]
  },
  {
   "cell_type": "code",
   "execution_count": 1,
   "id": "d3843766-5c49-42c8-8421-09f8afb1b13c",
   "metadata": {},
   "outputs": [],
   "source": [
    "import networkx as nx\n",
    "from pybbn.pptc import create_pptc_model\n",
    "\n",
    "d = nx.DiGraph()\n",
    "d.add_nodes_from(['drug', 'gender', 'recovery'])\n",
    "d.add_edges_from([('gender', 'drug'), ('gender', 'recovery'), ('drug', 'recovery')])\n",
    "\n",
    "p = {\n",
    "    'gender': {\n",
    "        'columns': ['gender', '__p__'],\n",
    "        'data': [\n",
    "            ['male', 0.51], ['female', 0.49]\n",
    "        ]\n",
    "    },\n",
    "    'drug': {\n",
    "        'columns': ['gender', 'drug', '__p__'],\n",
    "        'data': [\n",
    "            ['female', 'no', 0.24],\n",
    "            ['female', 'yes', 0.76],\n",
    "            ['male', 'no', 0.76],\n",
    "            ['male', 'yes', 0.24]\n",
    "        ]\n",
    "    },\n",
    "    'recovery': {\n",
    "        'columns': ['gender', 'drug', 'recovery', '__p__'],\n",
    "        'data': [\n",
    "            ['female', 'no', 'no', 0.31],\n",
    "            ['female', 'no', 'yes', 0.69],\n",
    "            ['female', 'yes', 'no', 0.27],\n",
    "            ['female', 'yes', 'yes', 0.73],\n",
    "            ['male', 'no', 'no', 0.13],\n",
    "            ['male', 'no', 'yes', 0.87],\n",
    "            ['male', 'yes', 'no', 0.07],\n",
    "            ['male', 'yes', 'yes', 0.93]\n",
    "        ]\n",
    "    }\n",
    "}\n",
    "\n",
    "m = create_pptc_model(d, p)"
   ]
  },
  {
   "cell_type": "markdown",
   "id": "a1f6fa33-b935-4e4f-ae40-99436f433060",
   "metadata": {},
   "source": [
    "### Marginal probabilities"
   ]
  },
  {
   "cell_type": "code",
   "execution_count": 2,
   "id": "7886f5aa-e7f2-442b-beff-683ff6d8dcc2",
   "metadata": {},
   "outputs": [],
   "source": [
    "q = m.query()"
   ]
  },
  {
   "cell_type": "code",
   "execution_count": 3,
   "id": "b7e8f508-c692-4ab7-a5d3-0790a53130a9",
   "metadata": {},
   "outputs": [
    {
     "data": {
      "text/html": [
       "<div>\n",
       "<style scoped>\n",
       "    .dataframe tbody tr th:only-of-type {\n",
       "        vertical-align: middle;\n",
       "    }\n",
       "\n",
       "    .dataframe tbody tr th {\n",
       "        vertical-align: top;\n",
       "    }\n",
       "\n",
       "    .dataframe thead th {\n",
       "        text-align: right;\n",
       "    }\n",
       "</style>\n",
       "<table border=\"1\" class=\"dataframe\">\n",
       "  <thead>\n",
       "    <tr style=\"text-align: right;\">\n",
       "      <th></th>\n",
       "      <th>gender</th>\n",
       "      <th>__p__</th>\n",
       "    </tr>\n",
       "  </thead>\n",
       "  <tbody>\n",
       "    <tr>\n",
       "      <th>0</th>\n",
       "      <td>female</td>\n",
       "      <td>0.49</td>\n",
       "    </tr>\n",
       "    <tr>\n",
       "      <th>1</th>\n",
       "      <td>male</td>\n",
       "      <td>0.51</td>\n",
       "    </tr>\n",
       "  </tbody>\n",
       "</table>\n",
       "</div>"
      ],
      "text/plain": [
       "   gender  __p__\n",
       "0  female   0.49\n",
       "1    male   0.51"
      ]
     },
     "execution_count": 3,
     "metadata": {},
     "output_type": "execute_result"
    }
   ],
   "source": [
    "q['gender']"
   ]
  },
  {
   "cell_type": "code",
   "execution_count": 4,
   "id": "44b8668e-e580-4e1b-858c-26226429aed0",
   "metadata": {},
   "outputs": [
    {
     "data": {
      "text/html": [
       "<div>\n",
       "<style scoped>\n",
       "    .dataframe tbody tr th:only-of-type {\n",
       "        vertical-align: middle;\n",
       "    }\n",
       "\n",
       "    .dataframe tbody tr th {\n",
       "        vertical-align: top;\n",
       "    }\n",
       "\n",
       "    .dataframe thead th {\n",
       "        text-align: right;\n",
       "    }\n",
       "</style>\n",
       "<table border=\"1\" class=\"dataframe\">\n",
       "  <thead>\n",
       "    <tr style=\"text-align: right;\">\n",
       "      <th></th>\n",
       "      <th>drug</th>\n",
       "      <th>__p__</th>\n",
       "    </tr>\n",
       "  </thead>\n",
       "  <tbody>\n",
       "    <tr>\n",
       "      <th>0</th>\n",
       "      <td>no</td>\n",
       "      <td>0.5052</td>\n",
       "    </tr>\n",
       "    <tr>\n",
       "      <th>1</th>\n",
       "      <td>yes</td>\n",
       "      <td>0.4948</td>\n",
       "    </tr>\n",
       "  </tbody>\n",
       "</table>\n",
       "</div>"
      ],
      "text/plain": [
       "  drug   __p__\n",
       "0   no  0.5052\n",
       "1  yes  0.4948"
      ]
     },
     "execution_count": 4,
     "metadata": {},
     "output_type": "execute_result"
    }
   ],
   "source": [
    "q['drug']"
   ]
  },
  {
   "cell_type": "code",
   "execution_count": 5,
   "id": "1b8003eb-7390-4375-bbfb-14a30114eb3f",
   "metadata": {},
   "outputs": [
    {
     "data": {
      "text/html": [
       "<div>\n",
       "<style scoped>\n",
       "    .dataframe tbody tr th:only-of-type {\n",
       "        vertical-align: middle;\n",
       "    }\n",
       "\n",
       "    .dataframe tbody tr th {\n",
       "        vertical-align: top;\n",
       "    }\n",
       "\n",
       "    .dataframe thead th {\n",
       "        text-align: right;\n",
       "    }\n",
       "</style>\n",
       "<table border=\"1\" class=\"dataframe\">\n",
       "  <thead>\n",
       "    <tr style=\"text-align: right;\">\n",
       "      <th></th>\n",
       "      <th>recovery</th>\n",
       "      <th>__p__</th>\n",
       "    </tr>\n",
       "  </thead>\n",
       "  <tbody>\n",
       "    <tr>\n",
       "      <th>0</th>\n",
       "      <td>no</td>\n",
       "      <td>0.19596</td>\n",
       "    </tr>\n",
       "    <tr>\n",
       "      <th>1</th>\n",
       "      <td>yes</td>\n",
       "      <td>0.80404</td>\n",
       "    </tr>\n",
       "  </tbody>\n",
       "</table>\n",
       "</div>"
      ],
      "text/plain": [
       "  recovery    __p__\n",
       "0       no  0.19596\n",
       "1      yes  0.80404"
      ]
     },
     "execution_count": 5,
     "metadata": {},
     "output_type": "execute_result"
    }
   ],
   "source": [
    "q['recovery']"
   ]
  },
  {
   "cell_type": "markdown",
   "id": "ea037d3c-db04-49ea-ac24-c286ad380b9d",
   "metadata": {},
   "source": [
    "### Interventional probabilities"
   ]
  },
  {
   "cell_type": "code",
   "execution_count": 6,
   "id": "8ca177da-18e4-4b99-9563-3e77437df369",
   "metadata": {},
   "outputs": [
    {
     "name": "stdout",
     "output_type": "stream",
     "text": [
      "P(Y=yes | do(X=yes)) = 0.83200\n",
      "P(Y=yes | do(X=no)) = 0.78180\n",
      "ACE = P(Y=yes | do(X=yes)) - P(Y=yes | do(X=no)) = 0.05020\n"
     ]
    }
   ],
   "source": [
    "from pybbn.doop import do\n",
    "\n",
    "p_Y_do_X_1 = do(Y=['recovery'], y=['yes'], X=['drug'], x=['yes'], Z=['gender'], model=m)\n",
    "p_Y_do_X_0 = do(Y=['recovery'], y=['yes'], X=['drug'], x=['no'], Z=['gender'], model=m)\n",
    "\n",
    "print(f'P(Y=yes | do(X=yes)) = {p_Y_do_X_1:.5f}')\n",
    "print(f'P(Y=yes | do(X=no)) = {p_Y_do_X_0:.5f}')\n",
    "print(f'ACE = P(Y=yes | do(X=yes)) - P(Y=yes | do(X=no)) = {p_Y_do_X_1 - p_Y_do_X_0:.5f}')"
   ]
  },
  {
   "cell_type": "markdown",
   "id": "894ef5e4-d291-44f6-8983-ec9f2926f24f",
   "metadata": {},
   "source": [
    "## Sampling"
   ]
  },
  {
   "cell_type": "code",
   "execution_count": 7,
   "id": "eb6b7316-f6ee-4d98-b52f-4e39b2633865",
   "metadata": {},
   "outputs": [
    {
     "data": {
      "text/plain": [
       "(1000, 3)"
      ]
     },
     "execution_count": 7,
     "metadata": {},
     "output_type": "execute_result"
    }
   ],
   "source": [
    "from pybbn.sampling import sample\n",
    "import pandas as pd\n",
    "\n",
    "df = sample(m, max_samples=1_000)\n",
    "df.shape"
   ]
  },
  {
   "cell_type": "code",
   "execution_count": 8,
   "id": "798c6477-b264-427f-a10e-f22161f60336",
   "metadata": {},
   "outputs": [
    {
     "data": {
      "text/html": [
       "<div>\n",
       "<style scoped>\n",
       "    .dataframe tbody tr th:only-of-type {\n",
       "        vertical-align: middle;\n",
       "    }\n",
       "\n",
       "    .dataframe tbody tr th {\n",
       "        vertical-align: top;\n",
       "    }\n",
       "\n",
       "    .dataframe thead th {\n",
       "        text-align: right;\n",
       "    }\n",
       "</style>\n",
       "<table border=\"1\" class=\"dataframe\">\n",
       "  <thead>\n",
       "    <tr style=\"text-align: right;\">\n",
       "      <th></th>\n",
       "      <th>gender</th>\n",
       "      <th>drug</th>\n",
       "      <th>recovery</th>\n",
       "    </tr>\n",
       "  </thead>\n",
       "  <tbody>\n",
       "    <tr>\n",
       "      <th>0</th>\n",
       "      <td>male</td>\n",
       "      <td>no</td>\n",
       "      <td>no</td>\n",
       "    </tr>\n",
       "    <tr>\n",
       "      <th>1</th>\n",
       "      <td>male</td>\n",
       "      <td>yes</td>\n",
       "      <td>yes</td>\n",
       "    </tr>\n",
       "    <tr>\n",
       "      <th>2</th>\n",
       "      <td>female</td>\n",
       "      <td>yes</td>\n",
       "      <td>yes</td>\n",
       "    </tr>\n",
       "    <tr>\n",
       "      <th>3</th>\n",
       "      <td>male</td>\n",
       "      <td>yes</td>\n",
       "      <td>yes</td>\n",
       "    </tr>\n",
       "    <tr>\n",
       "      <th>4</th>\n",
       "      <td>female</td>\n",
       "      <td>yes</td>\n",
       "      <td>yes</td>\n",
       "    </tr>\n",
       "  </tbody>\n",
       "</table>\n",
       "</div>"
      ],
      "text/plain": [
       "   gender drug recovery\n",
       "0    male   no       no\n",
       "1    male  yes      yes\n",
       "2  female  yes      yes\n",
       "3    male  yes      yes\n",
       "4  female  yes      yes"
      ]
     },
     "execution_count": 8,
     "metadata": {},
     "output_type": "execute_result"
    }
   ],
   "source": [
    "df.head()"
   ]
  },
  {
   "cell_type": "code",
   "execution_count": 9,
   "id": "30eb0334-074d-4546-ad3b-24a1f2ba4cbe",
   "metadata": {},
   "outputs": [
    {
     "data": {
      "text/plain": [
       "{'female': 0.49, 'male': 0.51}"
      ]
     },
     "execution_count": 9,
     "metadata": {},
     "output_type": "execute_result"
    }
   ],
   "source": [
    "m.query()['gender'].set_index(['gender'])['__p__'].to_dict()"
   ]
  },
  {
   "cell_type": "code",
   "execution_count": 10,
   "id": "48e22cdc-02df-494a-ad34-74e1b9c91ab5",
   "metadata": {},
   "outputs": [
    {
     "data": {
      "text/plain": [
       "{'female': 0.518, 'male': 0.482}"
      ]
     },
     "execution_count": 10,
     "metadata": {},
     "output_type": "execute_result"
    }
   ],
   "source": [
    "(df['gender'].value_counts() / df.shape[0]).to_dict()"
   ]
  },
  {
   "cell_type": "code",
   "execution_count": 11,
   "id": "c127829d-fca0-4901-8c3c-b0651577155d",
   "metadata": {},
   "outputs": [
    {
     "data": {
      "text/plain": [
       "drug\n",
       "no     0.501\n",
       "yes    0.499\n",
       "Name: count, dtype: float64"
      ]
     },
     "execution_count": 11,
     "metadata": {},
     "output_type": "execute_result"
    }
   ],
   "source": [
    "df['drug'].value_counts() / df.shape[0]"
   ]
  },
  {
   "cell_type": "code",
   "execution_count": 12,
   "id": "bd0e4eb6-e7d5-4a5f-80fe-c419aeec3fe8",
   "metadata": {},
   "outputs": [
    {
     "data": {
      "text/plain": [
       "recovery\n",
       "yes    0.793\n",
       "no     0.207\n",
       "Name: count, dtype: float64"
      ]
     },
     "execution_count": 12,
     "metadata": {},
     "output_type": "execute_result"
    }
   ],
   "source": [
    "df['recovery'].value_counts() / df.shape[0]"
   ]
  },
  {
   "cell_type": "markdown",
   "id": "4576b340-fd14-47d8-8773-b936a2d64543",
   "metadata": {},
   "source": [
    "## Structural casual model\n",
    "\n",
    "The functional form is written as follows.\n",
    "\n",
    "- $G = e_G$\n",
    "- $D = f_D (G) + e_D$\n",
    "- $R = f_R (G, D) + e_R$\n",
    "\n",
    "With algebraic manipulations, we can isolate $U = \\{e_G, e_D, e_R\\}$ as follows.\n",
    "\n",
    "- $e_G = G$\n",
    "- $e_D = D - f_D(G)$\n",
    "- $e_R = R - f_R(G, D)$"
   ]
  },
  {
   "cell_type": "code",
   "execution_count": 13,
   "id": "a9e57baf-72a7-44ba-8798-e5cfe8fa333e",
   "metadata": {},
   "outputs": [
    {
     "data": {
      "text/plain": [
       "(1000, 3)"
      ]
     },
     "execution_count": 13,
     "metadata": {},
     "output_type": "execute_result"
    }
   ],
   "source": [
    "Xy = df.assign(\n",
    "    gender=lambda d: d['gender'].map({'male': 1, 'female': 0}),\n",
    "    drug=lambda d: d['drug'].map({'yes': 1, 'no': 0}),\n",
    "    recovery=lambda d: d['recovery'].map({'yes': 1, 'no': 0})\n",
    ")\n",
    "Xy.shape"
   ]
  },
  {
   "cell_type": "code",
   "execution_count": 14,
   "id": "e1ed8ca3-c9fc-4e36-9de7-7a6897417625",
   "metadata": {},
   "outputs": [],
   "source": [
    "from sklearn.ensemble import RandomForestClassifier\n",
    "\n",
    "X, y = Xy[['gender']], Xy['drug']\n",
    "m_d = RandomForestClassifier(class_weight='balanced', random_state=37).fit(X, y)\n",
    "\n",
    "X, y = Xy[['gender', 'drug']], Xy['recovery']\n",
    "m_r = RandomForestClassifier(class_weight='balanced', random_state=37).fit(X, y)"
   ]
  },
  {
   "cell_type": "markdown",
   "id": "5c4e5c4c-fbca-4294-84ca-af21dc956e6c",
   "metadata": {},
   "source": [
    "- Male, taken drug and recovered.\n",
    "- What is probability of recovered had patient not taken drug given male, taken drug and recovered?"
   ]
  },
  {
   "cell_type": "code",
   "execution_count": 15,
   "id": "ad0f44aa-b7e2-4e8e-b4fd-0f23f4c13fa2",
   "metadata": {},
   "outputs": [],
   "source": [
    "g = 1\n",
    "d = 1\n",
    "r = 1"
   ]
  },
  {
   "cell_type": "markdown",
   "id": "9ffb9525-02d4-4762-8520-ec8c8dd83387",
   "metadata": {},
   "source": [
    "Abduction"
   ]
  },
  {
   "cell_type": "code",
   "execution_count": 16,
   "id": "b512515b-5230-43da-8dc1-bd29938c049c",
   "metadata": {},
   "outputs": [
    {
     "data": {
      "text/plain": [
       "1"
      ]
     },
     "execution_count": 16,
     "metadata": {},
     "output_type": "execute_result"
    }
   ],
   "source": [
    "e_g = g\n",
    "e_g"
   ]
  },
  {
   "cell_type": "code",
   "execution_count": 17,
   "id": "25b117cf-5805-47ae-9300-1b71e9d438f9",
   "metadata": {},
   "outputs": [
    {
     "data": {
      "text/plain": [
       "0.5014892194192951"
      ]
     },
     "execution_count": 17,
     "metadata": {},
     "output_type": "execute_result"
    }
   ],
   "source": [
    "e_d = (d - m_d.predict_proba(pd.DataFrame([[g]], columns=['gender']))[:,1])[0]\n",
    "e_d"
   ]
  },
  {
   "cell_type": "code",
   "execution_count": 18,
   "id": "9fa989a2-6f1f-4e1d-be06-84c5ff04d98f",
   "metadata": {},
   "outputs": [
    {
     "data": {
      "text/plain": [
       "0.4571883977928637"
      ]
     },
     "execution_count": 18,
     "metadata": {},
     "output_type": "execute_result"
    }
   ],
   "source": [
    "e_r = (r - m_r.predict_proba(pd.DataFrame([[g, d]], columns=['gender', 'drug']))[:,1])[0]\n",
    "e_r"
   ]
  },
  {
   "cell_type": "markdown",
   "id": "fa99b913-5355-441e-8585-e30a52be032d",
   "metadata": {},
   "source": [
    "Action"
   ]
  },
  {
   "cell_type": "code",
   "execution_count": 19,
   "id": "b815b82f-c58d-4fa0-89c8-5c9a62fe6497",
   "metadata": {},
   "outputs": [],
   "source": [
    "d = 0"
   ]
  },
  {
   "cell_type": "markdown",
   "id": "e2075722-c95d-4eb8-8ac0-2708af2b6d9b",
   "metadata": {},
   "source": [
    "Prediction"
   ]
  },
  {
   "cell_type": "code",
   "execution_count": 20,
   "id": "2e829fa0-c7de-4995-9ec1-b7db50ec600c",
   "metadata": {},
   "outputs": [
    {
     "data": {
      "text/plain": [
       "0.47898707520802136"
      ]
     },
     "execution_count": 20,
     "metadata": {},
     "output_type": "execute_result"
    }
   ],
   "source": [
    "r_d = m_r.predict_proba(pd.DataFrame([[g, d]], columns=['gender', 'drug']))[:,1][0]\n",
    "r_d"
   ]
  },
  {
   "cell_type": "code",
   "execution_count": 21,
   "id": "d7c64094-f87f-4e4a-85a9-86a0d08840d0",
   "metadata": {},
   "outputs": [
    {
     "data": {
      "text/plain": [
       "0.9361754730008851"
      ]
     },
     "execution_count": 21,
     "metadata": {},
     "output_type": "execute_result"
    }
   ],
   "source": [
    "r_d + e_r"
   ]
  },
  {
   "cell_type": "code",
   "execution_count": 22,
   "id": "8739d32d-e1df-415b-9451-8f29849c7f15",
   "metadata": {},
   "outputs": [
    {
     "data": {
      "text/plain": [
       "['male', 'yes', 'yes', 0.93]"
      ]
     },
     "execution_count": 22,
     "metadata": {},
     "output_type": "execute_result"
    }
   ],
   "source": [
    "['female', 'no', 'no', 0.31],\n",
    "['female', 'no', 'yes', 0.69],\n",
    "['female', 'yes', 'no', 0.27],\n",
    "['female', 'yes', 'yes', 0.73],\n",
    "['male', 'no', 'no', 0.13],\n",
    "['male', 'no', 'yes', 0.87],\n",
    "['male', 'yes', 'no', 0.07],\n",
    "['male', 'yes', 'yes', 0.93]"
   ]
  },
  {
   "cell_type": "code",
   "execution_count": 23,
   "id": "d1c4bb9c-bde0-4b5a-9bff-849c0bcf2917",
   "metadata": {},
   "outputs": [
    {
     "data": {
      "text/plain": [
       "array([[0.49269755, 0.50730245],\n",
       "       [0.52313748, 0.47686252],\n",
       "       [0.52101292, 0.47898708],\n",
       "       [0.4571884 , 0.5428116 ]])"
      ]
     },
     "execution_count": 23,
     "metadata": {},
     "output_type": "execute_result"
    }
   ],
   "source": [
    "m_r.predict_proba(pd.DataFrame([[0, 0], [0, 1], [1, 0], [1, 1]], columns=['gender', 'drug']))"
   ]
  },
  {
   "cell_type": "code",
   "execution_count": 24,
   "id": "e4337b30-3a41-429b-b1e6-5e3043670c08",
   "metadata": {},
   "outputs": [
    {
     "data": {
      "text/plain": [
       "(0.5428116022071363, -0.47898707520802136, 0.06382452699911495)"
      ]
     },
     "execution_count": 24,
     "metadata": {},
     "output_type": "execute_result"
    }
   ],
   "source": [
    "g = 1\n",
    "d = 0\n",
    "r = 0\n",
    "\n",
    "e_g = g\n",
    "e_d = (d - m_d.predict_proba(pd.DataFrame([[g]], columns=['gender']))[:,1])[0]\n",
    "e_r = (r - m_r.predict_proba(pd.DataFrame([[g, d]], columns=['gender', 'drug']))[:,1])[0]\n",
    "\n",
    "d = 1\n",
    "r_d = m_r.predict_proba(pd.DataFrame([[g, d]], columns=['gender', 'drug']))[:,1][0]\n",
    "\n",
    "r_d, e_r, r_d + e_r"
   ]
  },
  {
   "cell_type": "code",
   "execution_count": 25,
   "id": "b4376273-d010-463a-8eeb-16b46c2f083e",
   "metadata": {},
   "outputs": [
    {
     "data": {
      "text/plain": [
       "(0.5073024487921536, 0.5231374773914773, 1.030439926183631)"
      ]
     },
     "execution_count": 25,
     "metadata": {},
     "output_type": "execute_result"
    }
   ],
   "source": [
    "g = 0\n",
    "d = 1\n",
    "r = 1\n",
    "\n",
    "e_g = g\n",
    "e_d = (d - m_d.predict_proba(pd.DataFrame([[g]], columns=['gender']))[:,1])[0]\n",
    "e_r = (r - m_r.predict_proba(pd.DataFrame([[g, d]], columns=['gender', 'drug']))[:,1])[0]\n",
    "\n",
    "d = 0\n",
    "r_d = m_r.predict_proba(pd.DataFrame([[g, d]], columns=['gender', 'drug']))[:,1][0]\n",
    "\n",
    "r_d, e_r, r_d + e_r"
   ]
  },
  {
   "cell_type": "code",
   "execution_count": 26,
   "id": "2680a1bb-4cec-48d0-be61-642e15bf6337",
   "metadata": {},
   "outputs": [
    {
     "data": {
      "text/plain": [
       "(0.4768625226085227, 0.4926975512078464, 0.9695600738163691)"
      ]
     },
     "execution_count": 26,
     "metadata": {},
     "output_type": "execute_result"
    }
   ],
   "source": [
    "g = 0\n",
    "d = 0\n",
    "r = 1\n",
    "\n",
    "e_g = g\n",
    "e_d = (d - m_d.predict_proba(pd.DataFrame([[g]], columns=['gender']))[:,1])[0]\n",
    "e_r = (r - m_r.predict_proba(pd.DataFrame([[g, d]], columns=['gender', 'drug']))[:,1])[0]\n",
    "\n",
    "d = 1\n",
    "r_d = m_r.predict_proba(pd.DataFrame([[g, d]], columns=['gender', 'drug']))[:,1][0]\n",
    "\n",
    "r_d, e_r, r_d + e_r"
   ]
  },
  {
   "cell_type": "code",
   "execution_count": null,
   "id": "4727ef11-baeb-4724-878c-3342e7b84292",
   "metadata": {},
   "outputs": [],
   "source": []
  },
  {
   "cell_type": "code",
   "execution_count": null,
   "id": "733d436c-b701-496b-b227-7ef9baf37798",
   "metadata": {},
   "outputs": [],
   "source": []
  },
  {
   "cell_type": "code",
   "execution_count": 27,
   "id": "77edc4e1-8daf-4c79-829f-201fbe48f7ad",
   "metadata": {},
   "outputs": [],
   "source": [
    "from sklearn.linear_model import LinearRegression\n",
    "\n",
    "X, y = Xy[['gender']], Xy['drug']\n",
    "m_d = LinearRegression()\n",
    "m_d.fit(X, y)\n",
    "\n",
    "X, y = Xy[['gender', 'drug']], Xy['recovery']\n",
    "m_r = LinearRegression().fit(X, y)"
   ]
  },
  {
   "cell_type": "code",
   "execution_count": 28,
   "id": "662bcd41-0033-4a94-a55d-18a576319f81",
   "metadata": {},
   "outputs": [
    {
     "data": {
      "text/plain": [
       "(0.7942583962022296, 0.19259864516488523, 0.9868570413671148)"
      ]
     },
     "execution_count": 28,
     "metadata": {},
     "output_type": "execute_result"
    }
   ],
   "source": [
    "g = 1\n",
    "d = 1\n",
    "r = 1\n",
    "\n",
    "e_g = g\n",
    "e_d = (d - m_d.predict(pd.DataFrame([[g]], columns=['gender'])))[0]\n",
    "e_r = (r - m_r.predict(pd.DataFrame([[g, d]], columns=['gender', 'drug'])))[0]\n",
    "\n",
    "d = 0\n",
    "r_d = m_r.predict(pd.DataFrame([[g, d]], columns=['gender', 'drug']))[0]\n",
    "\n",
    "r_d, e_r, r_d + e_r"
   ]
  },
  {
   "cell_type": "code",
   "execution_count": 29,
   "id": "4fa28071-3a41-4a04-9931-1ce0627cd72b",
   "metadata": {},
   "outputs": [
    {
     "data": {
      "text/plain": [
       "(0.8074013548351148, 0.2057416037977704, 1.0131429586328853)"
      ]
     },
     "execution_count": 29,
     "metadata": {},
     "output_type": "execute_result"
    }
   ],
   "source": [
    "g = 1\n",
    "d = 0\n",
    "r = 1\n",
    "\n",
    "e_g = g\n",
    "e_d = (d - m_d.predict(pd.DataFrame([[g]], columns=['gender'])))[0]\n",
    "e_r = (r - m_r.predict(pd.DataFrame([[g, d]], columns=['gender', 'drug'])))[0]\n",
    "\n",
    "d = 1\n",
    "r_d = m_r.predict(pd.DataFrame([[g, d]], columns=['gender', 'drug']))[0]\n",
    "\n",
    "r_d, e_r, r_d + e_r"
   ]
  },
  {
   "cell_type": "code",
   "execution_count": null,
   "id": "da30bd8e-8bbf-4f78-b224-0b3d70b235a0",
   "metadata": {},
   "outputs": [],
   "source": []
  }
 ],
 "metadata": {
  "kernelspec": {
   "display_name": "Python 3 (ipykernel)",
   "language": "python",
   "name": "python3"
  },
  "language_info": {
   "codemirror_mode": {
    "name": "ipython",
    "version": 3
   },
   "file_extension": ".py",
   "mimetype": "text/x-python",
   "name": "python",
   "nbconvert_exporter": "python",
   "pygments_lexer": "ipython3",
   "version": "3.11.6"
  },
  "widgets": {
   "application/vnd.jupyter.widget-state+json": {
    "state": {},
    "version_major": 2,
    "version_minor": 0
   }
  }
 },
 "nbformat": 4,
 "nbformat_minor": 5
}
