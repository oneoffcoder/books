{
 "cells": [
  {
   "cell_type": "markdown",
   "id": "078ad20e-bf8a-4196-82b7-de177ca4bc6a",
   "metadata": {},
   "source": [
    "# Gumbel Machinery\n",
    "\n",
    "[Gumbel Machinery](https://cmaddis.github.io/gumbel-machinery)"
   ]
  },
  {
   "cell_type": "markdown",
   "id": "d1a893cd-d374-48ee-b1c0-e7e7325077a4",
   "metadata": {},
   "source": [
    "## Basic"
   ]
  },
  {
   "cell_type": "code",
   "execution_count": 1,
   "id": "889892c5-2056-4202-a10f-5706c5fe972a",
   "metadata": {},
   "outputs": [],
   "source": [
    "import numpy as np\n",
    "\n",
    "alpha = np.array([1.0, 4.0, 6.0, 4.0, 1.0])\n",
    "uniform = np.random.rand(5)\n",
    "gumbels = -np.log(-np.log(uniform)) + np.log(alpha)\n",
    "K = np.argmax(gumbels)"
   ]
  },
  {
   "cell_type": "code",
   "execution_count": 2,
   "id": "b07d2385-5f3b-4a45-9415-e5bb0598a43f",
   "metadata": {},
   "outputs": [
    {
     "data": {
      "text/plain": [
       "1"
      ]
     },
     "execution_count": 2,
     "metadata": {},
     "output_type": "execute_result"
    }
   ],
   "source": [
    "K"
   ]
  },
  {
   "cell_type": "markdown",
   "id": "3ad5c012-7f1f-4aa3-b88f-6482de398058",
   "metadata": {},
   "source": [
    "## Top-down, truncated"
   ]
  },
  {
   "cell_type": "code",
   "execution_count": 4,
   "id": "78cbe964-aace-4644-bb08-d846288b37cd",
   "metadata": {},
   "outputs": [],
   "source": [
    "def truncated_gumbel(alpha, truncation):\n",
    "    gumbel = np.random.gumbel() + np.log(alpha)\n",
    "    return -np.log(np.exp(-gumbel) + np.exp(-truncation))\n",
    "\n",
    "def topdown(alphas, k):\n",
    "    topgumbel = np.random.gumbel() + np.log(sum(alphas))\n",
    "    gumbels = []\n",
    "    for i in range(len(alphas)):\n",
    "        if i == k:\n",
    "            gumbel = topgumbel\n",
    "        else:\n",
    "            gumbel = truncated_gumbel(alphas[i], topgumbel)\n",
    "        gumbels.append(gumbel)\n",
    "    return gumbels"
   ]
  },
  {
   "cell_type": "code",
   "execution_count": 5,
   "id": "784c680e-1ebb-497a-a9d4-0576f305e3fe",
   "metadata": {},
   "outputs": [
    {
     "data": {
      "text/plain": [
       "[0.4009548031127406,\n",
       " 3.810074197981101,\n",
       " 2.091188681819038,\n",
       " 1.4685647536099093,\n",
       " 0.26880406626074643]"
      ]
     },
     "execution_count": 5,
     "metadata": {},
     "output_type": "execute_result"
    }
   ],
   "source": [
    "topdown([1.0, 4.0, 6.0, 4.0, 1.0], 1)"
   ]
  },
  {
   "cell_type": "code",
   "execution_count": 6,
   "id": "6c7526e4-ae7e-4cc0-bbd3-f36613ce2eb5",
   "metadata": {},
   "outputs": [
    {
     "data": {
      "text/plain": [
       "[1.4446002068406625,\n",
       " 1.9673427704374287,\n",
       " 1.0156692882895622,\n",
       " 0.8749062964793195,\n",
       " -0.232073276072848]"
      ]
     },
     "execution_count": 6,
     "metadata": {},
     "output_type": "execute_result"
    }
   ],
   "source": [
    "topdown([1.0, 4.0, 6.0, 4.0, 1.0], 1)"
   ]
  },
  {
   "cell_type": "code",
   "execution_count": 8,
   "id": "d89a4996-b2fc-46d3-a343-8afbd508469f",
   "metadata": {},
   "outputs": [
    {
     "data": {
      "text/plain": [
       "[-0.4130987101324357,\n",
       " 2.069408069714429,\n",
       " 0.36218932712618457,\n",
       " 0.8769883312748507,\n",
       " -1.0999703389276922]"
      ]
     },
     "execution_count": 8,
     "metadata": {},
     "output_type": "execute_result"
    }
   ],
   "source": [
    "topdown([1.0, 4.0, 6.0, 4.0, 1.0], 1)"
   ]
  },
  {
   "cell_type": "markdown",
   "id": "7f25d339-7bd5-4279-a8f1-103be5f0027f",
   "metadata": {},
   "source": [
    "## Rejection"
   ]
  },
  {
   "cell_type": "code",
   "execution_count": 9,
   "id": "12c6c796-0e0a-4346-bad3-3bf9f7a38e71",
   "metadata": {},
   "outputs": [],
   "source": [
    "def rejection(alphas, k):\n",
    "    log_alphas = np.log(alphas)\n",
    "    gumbels = np.random.gumbel(size=len(alphas))\n",
    "    while k != np.argmax(gumbels + log_alphas):\n",
    "        gumbels = np.random.gumbel(size=len(alphas))\n",
    "    return (gumbels + log_alphas).tolist()"
   ]
  },
  {
   "cell_type": "code",
   "execution_count": 10,
   "id": "13762fb0-db95-4544-9c3a-0aad54e4a5a4",
   "metadata": {},
   "outputs": [
    {
     "data": {
      "text/plain": [
       "[-0.08321533934696304,\n",
       " 3.2248223834948964,\n",
       " 0.9705408559121248,\n",
       " 2.2549412894805028,\n",
       " 2.7198182298543196]"
      ]
     },
     "execution_count": 10,
     "metadata": {},
     "output_type": "execute_result"
    }
   ],
   "source": [
    "rejection([1.0, 4.0, 6.0, 4.0, 1.0], 1)"
   ]
  },
  {
   "cell_type": "code",
   "execution_count": 11,
   "id": "f16d152f-6c8b-4e38-bddb-b0de55efd82b",
   "metadata": {},
   "outputs": [
    {
     "data": {
      "text/plain": [
       "[0.6115495781386859,\n",
       " 2.039384649245685,\n",
       " 1.577156303506922,\n",
       " 1.474300190441932,\n",
       " 0.5587199074250211]"
      ]
     },
     "execution_count": 11,
     "metadata": {},
     "output_type": "execute_result"
    }
   ],
   "source": [
    "rejection([1.0, 4.0, 6.0, 4.0, 1.0], 1)"
   ]
  },
  {
   "cell_type": "code",
   "execution_count": null,
   "id": "f4d7729d-2d50-4194-80b7-b8589b8841a2",
   "metadata": {},
   "outputs": [],
   "source": []
  }
 ],
 "metadata": {
  "kernelspec": {
   "display_name": "Python 3 (ipykernel)",
   "language": "python",
   "name": "python3"
  },
  "language_info": {
   "codemirror_mode": {
    "name": "ipython",
    "version": 3
   },
   "file_extension": ".py",
   "mimetype": "text/x-python",
   "name": "python",
   "nbconvert_exporter": "python",
   "pygments_lexer": "ipython3",
   "version": "3.11.6"
  },
  "widgets": {
   "application/vnd.jupyter.widget-state+json": {
    "state": {},
    "version_major": 2,
    "version_minor": 0
   }
  }
 },
 "nbformat": 4,
 "nbformat_minor": 5
}
