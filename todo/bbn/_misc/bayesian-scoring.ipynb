{
 "cells": [
  {
   "cell_type": "markdown",
   "id": "69b2c5f5-68c1-4f82-b4ef-318b281fda6e",
   "metadata": {},
   "source": [
    "# Bayesian Network Scoring\n",
    "\n",
    "- $n$ is the number of variables, $i$ is the i-th variable\n",
    "- $q_i$ is the number of parent instantiations of the i-th variable, $j$ is the j-th instantiation\n",
    "- $r_i$ is the of values of the i-th variable, $k$ is the k-th value\n",
    "- $N$ is the total number of samples\n",
    "- $N_{ijk}$ is the count of samples for the i-th variable having its parents in the j-th instantiation and itself being in the k-th instantiation\n",
    "- $N'_{ijk}$ is the prior over $N_{ijk}$\n",
    "- $N_{ij}$ is the count of samples for the i-th variable having its parents in the j-th instantiation\n",
    "- $N'_{ij}$ is the prior over $N_{ij}$\n",
    "- $K = \\sum_i^n (r_i - 1) q_i$ is the number of parameters\n",
    "\n",
    "Entropy metric\n",
    "\n",
    "$H(B_S, D) = -N \\sum_i^n \\sum_j^{q_i} \\sum_k^{r_i} \\dfrac{N_{ijk}}{N} \\log \\dfrac{N_{ijk}}{N_{ij}}$\n",
    "\n",
    "AIC (Aikake Information Criterion) metric\n",
    "\n",
    "$Q_{\\mathrm{AIC}}(B_S, D) = H(B_S, D) + K$\n",
    "\n",
    "MDL (Minimum Description Length) metric\n",
    "\n",
    "$Q_{\\mathrm{MDL}}(B_S, D) = H(B_S, D) + \\dfrac{K}{2} \\log N$\n",
    "\n",
    "Bayesian metric\n",
    "\n",
    "$Q_{B}(B_S, D) = \\prod_i^n \\prod_j^{q_i} \\dfrac{\\Gamma(N'_{ij})}{\\Gamma(N'_{ij} + N_{ij})} \\prod_k^{r_i} \\dfrac{\\Gamma(N'_{ijk} + N_{ijk})}{\\Gamma(N'_{ijk})}$\n",
    "\n",
    "K2 metric uses Bayesian metric and has $N'_{ijk} = 1$ and $N'_{ij} = r_i$\n",
    "\n",
    "$Q_{\\mathrm{K2}}(B_S, D) = \\prod_i^n \\prod_j^{q_i} \\dfrac{(r_i - 1)!}{(r_i - 1 + N_{ij})!} \\prod_k^{r_i} N_{ijk}!$\n",
    "\n",
    "BDeu metric uses Bayesian metric and has $N'_{ijk} = \\dfrac{1}{r_i q_i}$ and $N'_{ij} = \\dfrac{1}{q_i}$"
   ]
  },
  {
   "cell_type": "code",
   "execution_count": null,
   "id": "65676657-2165-4865-b762-5edda450c872",
   "metadata": {},
   "outputs": [],
   "source": []
  },
  {
   "cell_type": "markdown",
   "id": "aef2240c-88ba-4c92-9d20-d356a8cec984",
   "metadata": {},
   "source": [
    "## References\n",
    "\n",
    "- [Bayesian Network Classifiers in Weka](https://weka.sourceforge.io/manuals/weka.bn.pdf)\n",
    "- [Scoring functions for learning Bayesian networks](http://www.lx.it.pt/~asmc/pub/talks/09-TA/ta_pres.pdf)"
   ]
  },
  {
   "cell_type": "code",
   "execution_count": null,
   "id": "e600cd71-8e60-4284-a53d-57bd090566e8",
   "metadata": {},
   "outputs": [],
   "source": []
  }
 ],
 "metadata": {
  "kernelspec": {
   "display_name": "Python 3 (ipykernel)",
   "language": "python",
   "name": "python3"
  },
  "language_info": {
   "codemirror_mode": {
    "name": "ipython",
    "version": 3
   },
   "file_extension": ".py",
   "mimetype": "text/x-python",
   "name": "python",
   "nbconvert_exporter": "python",
   "pygments_lexer": "ipython3",
   "version": "3.11.6"
  },
  "widgets": {
   "application/vnd.jupyter.widget-state+json": {
    "state": {},
    "version_major": 2,
    "version_minor": 0
   }
  }
 },
 "nbformat": 4,
 "nbformat_minor": 5
}
