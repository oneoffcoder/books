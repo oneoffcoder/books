{
 "cells": [
  {
   "cell_type": "code",
   "execution_count": 1,
   "id": "bab66cc8-4cb3-479b-9354-6d9cc86a677e",
   "metadata": {},
   "outputs": [],
   "source": [
    "from pybbn.probabilistic import create_reasoning_model\n",
    "\n",
    "def get_model():\n",
    "    d = {\n",
    "        'nodes': ['A', 'B', 'C'],\n",
    "        'edges': [('A', 'B'), ('B', 'C')]\n",
    "    }\n",
    "    \n",
    "    p = {\n",
    "        'A': {\n",
    "            'columns': ['A', '__p__'],\n",
    "            'data': [\n",
    "                ['t', 0.20], ['f', 0.80]\n",
    "            ]\n",
    "        },\n",
    "        'B': {\n",
    "            'columns': ['A', 'B', '__p__'],\n",
    "            'data': [\n",
    "                ['f', 'f', 0.90],\n",
    "                ['f', 't', 0.10],\n",
    "                ['t', 'f', 0.10],\n",
    "                ['t', 't', 0.90]\n",
    "            ]\n",
    "        },\n",
    "        'C': {\n",
    "            'columns': ['B', 'C', '__p__'],\n",
    "            'data': [\n",
    "                ['f', 'f', 0.60],\n",
    "                ['f', 't', 0.40],\n",
    "                ['t', 'f', 0.40],\n",
    "                ['t', 't', 0.60]\n",
    "            ]\n",
    "        }\n",
    "    }\n",
    "    \n",
    "    model = create_reasoning_model(d, p)\n",
    "    return model\n",
    "\n",
    "model = get_model()"
   ]
  },
  {
   "cell_type": "code",
   "execution_count": 2,
   "id": "f58baeb1-a108-40e5-a26d-6628f0082233",
   "metadata": {},
   "outputs": [],
   "source": [
    "q = model.pquery()"
   ]
  },
  {
   "cell_type": "code",
   "execution_count": 3,
   "id": "02a8c406-49ba-4aa2-b7de-bee34b1538e3",
   "metadata": {},
   "outputs": [
    {
     "data": {
      "text/html": [
       "<div>\n",
       "<style scoped>\n",
       "    .dataframe tbody tr th:only-of-type {\n",
       "        vertical-align: middle;\n",
       "    }\n",
       "\n",
       "    .dataframe tbody tr th {\n",
       "        vertical-align: top;\n",
       "    }\n",
       "\n",
       "    .dataframe thead th {\n",
       "        text-align: right;\n",
       "    }\n",
       "</style>\n",
       "<table border=\"1\" class=\"dataframe\">\n",
       "  <thead>\n",
       "    <tr style=\"text-align: right;\">\n",
       "      <th></th>\n",
       "      <th>A</th>\n",
       "      <th>__p__</th>\n",
       "    </tr>\n",
       "  </thead>\n",
       "  <tbody>\n",
       "    <tr>\n",
       "      <th>0</th>\n",
       "      <td>f</td>\n",
       "      <td>0.8</td>\n",
       "    </tr>\n",
       "    <tr>\n",
       "      <th>1</th>\n",
       "      <td>t</td>\n",
       "      <td>0.2</td>\n",
       "    </tr>\n",
       "  </tbody>\n",
       "</table>\n",
       "</div>"
      ],
      "text/plain": [
       "   A  __p__\n",
       "0  f    0.8\n",
       "1  t    0.2"
      ]
     },
     "execution_count": 3,
     "metadata": {},
     "output_type": "execute_result"
    }
   ],
   "source": [
    "q['A']"
   ]
  },
  {
   "cell_type": "code",
   "execution_count": 4,
   "id": "a84506cb-6404-4451-8dfa-266ec88119c5",
   "metadata": {},
   "outputs": [
    {
     "data": {
      "text/html": [
       "<div>\n",
       "<style scoped>\n",
       "    .dataframe tbody tr th:only-of-type {\n",
       "        vertical-align: middle;\n",
       "    }\n",
       "\n",
       "    .dataframe tbody tr th {\n",
       "        vertical-align: top;\n",
       "    }\n",
       "\n",
       "    .dataframe thead th {\n",
       "        text-align: right;\n",
       "    }\n",
       "</style>\n",
       "<table border=\"1\" class=\"dataframe\">\n",
       "  <thead>\n",
       "    <tr style=\"text-align: right;\">\n",
       "      <th></th>\n",
       "      <th>B</th>\n",
       "      <th>__p__</th>\n",
       "    </tr>\n",
       "  </thead>\n",
       "  <tbody>\n",
       "    <tr>\n",
       "      <th>0</th>\n",
       "      <td>f</td>\n",
       "      <td>0.74</td>\n",
       "    </tr>\n",
       "    <tr>\n",
       "      <th>1</th>\n",
       "      <td>t</td>\n",
       "      <td>0.26</td>\n",
       "    </tr>\n",
       "  </tbody>\n",
       "</table>\n",
       "</div>"
      ],
      "text/plain": [
       "   B  __p__\n",
       "0  f   0.74\n",
       "1  t   0.26"
      ]
     },
     "execution_count": 4,
     "metadata": {},
     "output_type": "execute_result"
    }
   ],
   "source": [
    "q['B']"
   ]
  },
  {
   "cell_type": "code",
   "execution_count": 5,
   "id": "5d96aeca-b1a6-4e3c-87e5-fc2c8f7811f9",
   "metadata": {},
   "outputs": [
    {
     "data": {
      "text/html": [
       "<div>\n",
       "<style scoped>\n",
       "    .dataframe tbody tr th:only-of-type {\n",
       "        vertical-align: middle;\n",
       "    }\n",
       "\n",
       "    .dataframe tbody tr th {\n",
       "        vertical-align: top;\n",
       "    }\n",
       "\n",
       "    .dataframe thead th {\n",
       "        text-align: right;\n",
       "    }\n",
       "</style>\n",
       "<table border=\"1\" class=\"dataframe\">\n",
       "  <thead>\n",
       "    <tr style=\"text-align: right;\">\n",
       "      <th></th>\n",
       "      <th>C</th>\n",
       "      <th>__p__</th>\n",
       "    </tr>\n",
       "  </thead>\n",
       "  <tbody>\n",
       "    <tr>\n",
       "      <th>0</th>\n",
       "      <td>f</td>\n",
       "      <td>0.548</td>\n",
       "    </tr>\n",
       "    <tr>\n",
       "      <th>1</th>\n",
       "      <td>t</td>\n",
       "      <td>0.452</td>\n",
       "    </tr>\n",
       "  </tbody>\n",
       "</table>\n",
       "</div>"
      ],
      "text/plain": [
       "   C  __p__\n",
       "0  f  0.548\n",
       "1  t  0.452"
      ]
     },
     "execution_count": 5,
     "metadata": {},
     "output_type": "execute_result"
    }
   ],
   "source": [
    "q['C']"
   ]
  },
  {
   "cell_type": "code",
   "execution_count": 8,
   "id": "d9dcb4c5-04b6-4ff6-b388-357422303a31",
   "metadata": {},
   "outputs": [],
   "source": [
    "from pybbn.counterfactual import get_scm_dp\n",
    "\n",
    "def get_scm_model(method):\n",
    "    d, p = get_scm_dp('B', model, method=method)\n",
    "    m = create_reasoning_model(d, p)\n",
    "    return m\n",
    "\n",
    "v_model = get_scm_model('vi')\n",
    "r_model = get_scm_model('random')\n",
    "k_model = get_scm_model('kmeans')"
   ]
  },
  {
   "cell_type": "code",
   "execution_count": 26,
   "id": "cd64f2db-e2c5-41d1-bb05-9474b6953677",
   "metadata": {},
   "outputs": [
    {
     "data": {
      "text/html": [
       "<div>\n",
       "<style scoped>\n",
       "    .dataframe tbody tr th:only-of-type {\n",
       "        vertical-align: middle;\n",
       "    }\n",
       "\n",
       "    .dataframe tbody tr th {\n",
       "        vertical-align: top;\n",
       "    }\n",
       "\n",
       "    .dataframe thead th {\n",
       "        text-align: right;\n",
       "    }\n",
       "</style>\n",
       "<table border=\"1\" class=\"dataframe\">\n",
       "  <thead>\n",
       "    <tr style=\"text-align: right;\">\n",
       "      <th></th>\n",
       "      <th>A</th>\n",
       "      <th>__u__</th>\n",
       "      <th>B</th>\n",
       "      <th>__p__</th>\n",
       "    </tr>\n",
       "  </thead>\n",
       "  <tbody>\n",
       "    <tr>\n",
       "      <th>0</th>\n",
       "      <td>f</td>\n",
       "      <td>u0</td>\n",
       "      <td>f</td>\n",
       "      <td>1.0</td>\n",
       "    </tr>\n",
       "    <tr>\n",
       "      <th>1</th>\n",
       "      <td>f</td>\n",
       "      <td>u0</td>\n",
       "      <td>t</td>\n",
       "      <td>0.0</td>\n",
       "    </tr>\n",
       "    <tr>\n",
       "      <th>2</th>\n",
       "      <td>f</td>\n",
       "      <td>u1</td>\n",
       "      <td>f</td>\n",
       "      <td>0.0</td>\n",
       "    </tr>\n",
       "    <tr>\n",
       "      <th>3</th>\n",
       "      <td>f</td>\n",
       "      <td>u1</td>\n",
       "      <td>t</td>\n",
       "      <td>1.0</td>\n",
       "    </tr>\n",
       "    <tr>\n",
       "      <th>4</th>\n",
       "      <td>f</td>\n",
       "      <td>u2</td>\n",
       "      <td>f</td>\n",
       "      <td>0.0</td>\n",
       "    </tr>\n",
       "    <tr>\n",
       "      <th>5</th>\n",
       "      <td>f</td>\n",
       "      <td>u2</td>\n",
       "      <td>t</td>\n",
       "      <td>0.0</td>\n",
       "    </tr>\n",
       "    <tr>\n",
       "      <th>6</th>\n",
       "      <td>f</td>\n",
       "      <td>u3</td>\n",
       "      <td>f</td>\n",
       "      <td>0.0</td>\n",
       "    </tr>\n",
       "    <tr>\n",
       "      <th>7</th>\n",
       "      <td>f</td>\n",
       "      <td>u3</td>\n",
       "      <td>t</td>\n",
       "      <td>0.0</td>\n",
       "    </tr>\n",
       "    <tr>\n",
       "      <th>8</th>\n",
       "      <td>t</td>\n",
       "      <td>u0</td>\n",
       "      <td>f</td>\n",
       "      <td>0.0</td>\n",
       "    </tr>\n",
       "    <tr>\n",
       "      <th>9</th>\n",
       "      <td>t</td>\n",
       "      <td>u0</td>\n",
       "      <td>t</td>\n",
       "      <td>0.0</td>\n",
       "    </tr>\n",
       "    <tr>\n",
       "      <th>10</th>\n",
       "      <td>t</td>\n",
       "      <td>u1</td>\n",
       "      <td>f</td>\n",
       "      <td>0.0</td>\n",
       "    </tr>\n",
       "    <tr>\n",
       "      <th>11</th>\n",
       "      <td>t</td>\n",
       "      <td>u1</td>\n",
       "      <td>t</td>\n",
       "      <td>0.0</td>\n",
       "    </tr>\n",
       "    <tr>\n",
       "      <th>12</th>\n",
       "      <td>t</td>\n",
       "      <td>u2</td>\n",
       "      <td>f</td>\n",
       "      <td>1.0</td>\n",
       "    </tr>\n",
       "    <tr>\n",
       "      <th>13</th>\n",
       "      <td>t</td>\n",
       "      <td>u2</td>\n",
       "      <td>t</td>\n",
       "      <td>0.0</td>\n",
       "    </tr>\n",
       "    <tr>\n",
       "      <th>14</th>\n",
       "      <td>t</td>\n",
       "      <td>u3</td>\n",
       "      <td>f</td>\n",
       "      <td>0.0</td>\n",
       "    </tr>\n",
       "    <tr>\n",
       "      <th>15</th>\n",
       "      <td>t</td>\n",
       "      <td>u3</td>\n",
       "      <td>t</td>\n",
       "      <td>1.0</td>\n",
       "    </tr>\n",
       "  </tbody>\n",
       "</table>\n",
       "</div>"
      ],
      "text/plain": [
       "    A __u__  B  __p__\n",
       "0   f    u0  f    1.0\n",
       "1   f    u0  t    0.0\n",
       "2   f    u1  f    0.0\n",
       "3   f    u1  t    1.0\n",
       "4   f    u2  f    0.0\n",
       "5   f    u2  t    0.0\n",
       "6   f    u3  f    0.0\n",
       "7   f    u3  t    0.0\n",
       "8   t    u0  f    0.0\n",
       "9   t    u0  t    0.0\n",
       "10  t    u1  f    0.0\n",
       "11  t    u1  t    0.0\n",
       "12  t    u2  f    1.0\n",
       "13  t    u2  t    0.0\n",
       "14  t    u3  f    0.0\n",
       "15  t    u3  t    1.0"
      ]
     },
     "execution_count": 26,
     "metadata": {},
     "output_type": "execute_result"
    }
   ],
   "source": [
    "v_model.node_potentials['B']"
   ]
  },
  {
   "cell_type": "code",
   "execution_count": 27,
   "id": "3ec30594-7821-4a3f-a1b2-0332964650a8",
   "metadata": {},
   "outputs": [
    {
     "data": {
      "text/html": [
       "<div>\n",
       "<style scoped>\n",
       "    .dataframe tbody tr th:only-of-type {\n",
       "        vertical-align: middle;\n",
       "    }\n",
       "\n",
       "    .dataframe tbody tr th {\n",
       "        vertical-align: top;\n",
       "    }\n",
       "\n",
       "    .dataframe thead th {\n",
       "        text-align: right;\n",
       "    }\n",
       "</style>\n",
       "<table border=\"1\" class=\"dataframe\">\n",
       "  <thead>\n",
       "    <tr style=\"text-align: right;\">\n",
       "      <th></th>\n",
       "      <th>A</th>\n",
       "      <th>__u__</th>\n",
       "      <th>B</th>\n",
       "      <th>__p__</th>\n",
       "    </tr>\n",
       "  </thead>\n",
       "  <tbody>\n",
       "    <tr>\n",
       "      <th>0</th>\n",
       "      <td>f</td>\n",
       "      <td>u0</td>\n",
       "      <td>f</td>\n",
       "      <td>0.748176</td>\n",
       "    </tr>\n",
       "    <tr>\n",
       "      <th>1</th>\n",
       "      <td>f</td>\n",
       "      <td>u0</td>\n",
       "      <td>t</td>\n",
       "      <td>0.251824</td>\n",
       "    </tr>\n",
       "    <tr>\n",
       "      <th>2</th>\n",
       "      <td>f</td>\n",
       "      <td>u1</td>\n",
       "      <td>f</td>\n",
       "      <td>0.742993</td>\n",
       "    </tr>\n",
       "    <tr>\n",
       "      <th>3</th>\n",
       "      <td>f</td>\n",
       "      <td>u1</td>\n",
       "      <td>t</td>\n",
       "      <td>0.257007</td>\n",
       "    </tr>\n",
       "    <tr>\n",
       "      <th>4</th>\n",
       "      <td>t</td>\n",
       "      <td>u0</td>\n",
       "      <td>f</td>\n",
       "      <td>0.722277</td>\n",
       "    </tr>\n",
       "    <tr>\n",
       "      <th>5</th>\n",
       "      <td>t</td>\n",
       "      <td>u0</td>\n",
       "      <td>t</td>\n",
       "      <td>0.277723</td>\n",
       "    </tr>\n",
       "    <tr>\n",
       "      <th>6</th>\n",
       "      <td>t</td>\n",
       "      <td>u1</td>\n",
       "      <td>f</td>\n",
       "      <td>0.753465</td>\n",
       "    </tr>\n",
       "    <tr>\n",
       "      <th>7</th>\n",
       "      <td>t</td>\n",
       "      <td>u1</td>\n",
       "      <td>t</td>\n",
       "      <td>0.246535</td>\n",
       "    </tr>\n",
       "  </tbody>\n",
       "</table>\n",
       "</div>"
      ],
      "text/plain": [
       "   A __u__  B     __p__\n",
       "0  f    u0  f  0.748176\n",
       "1  f    u0  t  0.251824\n",
       "2  f    u1  f  0.742993\n",
       "3  f    u1  t  0.257007\n",
       "4  t    u0  f  0.722277\n",
       "5  t    u0  t  0.277723\n",
       "6  t    u1  f  0.753465\n",
       "7  t    u1  t  0.246535"
      ]
     },
     "execution_count": 27,
     "metadata": {},
     "output_type": "execute_result"
    }
   ],
   "source": [
    "r_model.node_potentials['B']"
   ]
  },
  {
   "cell_type": "code",
   "execution_count": 28,
   "id": "fb270531-6b5d-4af1-bb33-42b9b293be4a",
   "metadata": {},
   "outputs": [
    {
     "data": {
      "text/html": [
       "<div>\n",
       "<style scoped>\n",
       "    .dataframe tbody tr th:only-of-type {\n",
       "        vertical-align: middle;\n",
       "    }\n",
       "\n",
       "    .dataframe tbody tr th {\n",
       "        vertical-align: top;\n",
       "    }\n",
       "\n",
       "    .dataframe thead th {\n",
       "        text-align: right;\n",
       "    }\n",
       "</style>\n",
       "<table border=\"1\" class=\"dataframe\">\n",
       "  <thead>\n",
       "    <tr style=\"text-align: right;\">\n",
       "      <th></th>\n",
       "      <th>A</th>\n",
       "      <th>__u__</th>\n",
       "      <th>B</th>\n",
       "      <th>__p__</th>\n",
       "    </tr>\n",
       "  </thead>\n",
       "  <tbody>\n",
       "    <tr>\n",
       "      <th>0</th>\n",
       "      <td>f</td>\n",
       "      <td>u0</td>\n",
       "      <td>f</td>\n",
       "      <td>0.0</td>\n",
       "    </tr>\n",
       "    <tr>\n",
       "      <th>1</th>\n",
       "      <td>f</td>\n",
       "      <td>u0</td>\n",
       "      <td>t</td>\n",
       "      <td>1.0</td>\n",
       "    </tr>\n",
       "    <tr>\n",
       "      <th>2</th>\n",
       "      <td>f</td>\n",
       "      <td>u1</td>\n",
       "      <td>f</td>\n",
       "      <td>1.0</td>\n",
       "    </tr>\n",
       "    <tr>\n",
       "      <th>3</th>\n",
       "      <td>f</td>\n",
       "      <td>u1</td>\n",
       "      <td>t</td>\n",
       "      <td>0.0</td>\n",
       "    </tr>\n",
       "    <tr>\n",
       "      <th>4</th>\n",
       "      <td>t</td>\n",
       "      <td>u0</td>\n",
       "      <td>f</td>\n",
       "      <td>0.0</td>\n",
       "    </tr>\n",
       "    <tr>\n",
       "      <th>5</th>\n",
       "      <td>t</td>\n",
       "      <td>u0</td>\n",
       "      <td>t</td>\n",
       "      <td>1.0</td>\n",
       "    </tr>\n",
       "    <tr>\n",
       "      <th>6</th>\n",
       "      <td>t</td>\n",
       "      <td>u1</td>\n",
       "      <td>f</td>\n",
       "      <td>1.0</td>\n",
       "    </tr>\n",
       "    <tr>\n",
       "      <th>7</th>\n",
       "      <td>t</td>\n",
       "      <td>u1</td>\n",
       "      <td>t</td>\n",
       "      <td>0.0</td>\n",
       "    </tr>\n",
       "  </tbody>\n",
       "</table>\n",
       "</div>"
      ],
      "text/plain": [
       "   A __u__  B  __p__\n",
       "0  f    u0  f    0.0\n",
       "1  f    u0  t    1.0\n",
       "2  f    u1  f    1.0\n",
       "3  f    u1  t    0.0\n",
       "4  t    u0  f    0.0\n",
       "5  t    u0  t    1.0\n",
       "6  t    u1  f    1.0\n",
       "7  t    u1  t    0.0"
      ]
     },
     "execution_count": 28,
     "metadata": {},
     "output_type": "execute_result"
    }
   ],
   "source": [
    "k_model.node_potentials['B']"
   ]
  },
  {
   "cell_type": "code",
   "execution_count": 19,
   "id": "3c095d6a-0d17-40c6-bff9-6ff8eb5ae206",
   "metadata": {},
   "outputs": [
    {
     "data": {
      "text/plain": [
       "{'A':    A  __p__\n",
       " 0  f    1.0\n",
       " 1  t    0.0,\n",
       " 'B':    B     __p__\n",
       " 0  f  0.745578\n",
       " 1  t  0.254422,\n",
       " '__u__':   __u__     __p__\n",
       " 0    u0  0.745578\n",
       " 1    u1  0.254422\n",
       " 2    u2  0.000000\n",
       " 3    u3  0.000000}"
      ]
     },
     "execution_count": 19,
     "metadata": {},
     "output_type": "execute_result"
    }
   ],
   "source": [
    "v_model.pquery(evidences=v_model.e({'A': 'f'}))"
   ]
  },
  {
   "cell_type": "code",
   "execution_count": 23,
   "id": "8d775371-f55e-4112-a92c-052c3c1e756d",
   "metadata": {},
   "outputs": [
    {
     "data": {
      "text/plain": [
       "{'A':    A  __p__\n",
       " 0  f    0.0\n",
       " 1  t    1.0,\n",
       " 'B':    B    __p__\n",
       " 0  f  0.73789\n",
       " 1  t  0.26211,\n",
       " '__u__':   __u__   __p__\n",
       " 0    u0  0.4994\n",
       " 1    u1  0.5006}"
      ]
     },
     "execution_count": 23,
     "metadata": {},
     "output_type": "execute_result"
    }
   ],
   "source": [
    "r_model.pquery(evidences=r_model.e({'A': 't'}))"
   ]
  },
  {
   "cell_type": "code",
   "execution_count": 25,
   "id": "54dcde44-0a5e-4023-a0be-381ca460af4b",
   "metadata": {},
   "outputs": [
    {
     "data": {
      "text/plain": [
       "{'A':    A  __p__\n",
       " 0  f    1.0\n",
       " 1  t    0.0,\n",
       " 'B':    B  __p__\n",
       " 0  f  0.744\n",
       " 1  t  0.256,\n",
       " '__u__':   __u__  __p__\n",
       " 0    u0  0.256\n",
       " 1    u1  0.744}"
      ]
     },
     "execution_count": 25,
     "metadata": {},
     "output_type": "execute_result"
    }
   ],
   "source": [
    "k_model.pquery(evidences=k_model.e({'A': 'f'}))"
   ]
  },
  {
   "cell_type": "code",
   "execution_count": null,
   "id": "ab9fbe11-272f-4688-90d7-23b65755a3ca",
   "metadata": {},
   "outputs": [],
   "source": []
  },
  {
   "cell_type": "code",
   "execution_count": null,
   "id": "e0f932ea-859d-497b-a588-14ff026a0864",
   "metadata": {},
   "outputs": [],
   "source": []
  },
  {
   "cell_type": "code",
   "execution_count": 6,
   "id": "31a4ce39-148c-4970-a5a8-403e91cae289",
   "metadata": {},
   "outputs": [],
   "source": [
    "a_model = model.scm_equation('A')\n",
    "b_model = model.scm_equation('B')\n",
    "c_model = model.scm_equation('C')"
   ]
  },
  {
   "cell_type": "code",
   "execution_count": 7,
   "id": "929c3371-74e0-4315-a019-6582390cc5e5",
   "metadata": {},
   "outputs": [
    {
     "data": {
      "text/plain": [
       "{'A':    A   __p__\n",
       " 0  f  0.7971\n",
       " 1  t  0.2029,\n",
       " '__u__':   __u__   __p__\n",
       " 0    u0  0.7971\n",
       " 1    u1  0.2029}"
      ]
     },
     "execution_count": 7,
     "metadata": {},
     "output_type": "execute_result"
    }
   ],
   "source": [
    "a_model.pquery()"
   ]
  },
  {
   "cell_type": "code",
   "execution_count": 8,
   "id": "1fb23015-5090-4503-8226-57778336caf1",
   "metadata": {},
   "outputs": [
    {
     "data": {
      "text/plain": [
       "{'A':    A     __p__\n",
       " 0  f  0.939148\n",
       " 1  t  0.060852,\n",
       " 'B':    B     __p__\n",
       " 0  f  0.745105\n",
       " 1  t  0.254895,\n",
       " '__u__':   __u__     __p__\n",
       " 0    u0  0.700208\n",
       " 1    u1  0.238940\n",
       " 2    u2  0.044896\n",
       " 3    u3  0.015955}"
      ]
     },
     "execution_count": 8,
     "metadata": {},
     "output_type": "execute_result"
    }
   ],
   "source": [
    "b_model.pquery()"
   ]
  },
  {
   "cell_type": "code",
   "execution_count": 9,
   "id": "17c9fa63-0aed-4d9c-9e40-002e71fd37a5",
   "metadata": {},
   "outputs": [
    {
     "data": {
      "text/plain": [
       "{'B':    B     __p__\n",
       " 0  f  0.894138\n",
       " 1  t  0.105862,\n",
       " 'C':    C     __p__\n",
       " 0  f  0.549723\n",
       " 1  t  0.450277,\n",
       " '__u__':   __u__     __p__\n",
       " 0    u0  0.490094\n",
       " 1    u1  0.404045\n",
       " 2    u2  0.059630\n",
       " 3    u3  0.046232}"
      ]
     },
     "execution_count": 9,
     "metadata": {},
     "output_type": "execute_result"
    }
   ],
   "source": [
    "c_model.pquery()"
   ]
  },
  {
   "cell_type": "code",
   "execution_count": null,
   "id": "c6963da9-4d10-4a6d-8557-6803d2bea882",
   "metadata": {},
   "outputs": [],
   "source": []
  },
  {
   "cell_type": "code",
   "execution_count": 15,
   "id": "f315487a-e586-487a-8029-c227fea87a04",
   "metadata": {},
   "outputs": [
    {
     "data": {
      "text/plain": [
       "{'A':    A   __p__\n",
       " 0  f  0.7971\n",
       " 1  t  0.2029,\n",
       " 'B':     A __u__  B  __p__\n",
       " 0   f    u0  f    1.0\n",
       " 1   f    u0  t    0.0\n",
       " 2   f    u1  f    0.0\n",
       " 3   f    u1  t    1.0\n",
       " 4   f    u2  f    0.0\n",
       " 5   f    u2  t    0.0\n",
       " 6   f    u3  f    0.0\n",
       " 7   f    u3  t    0.0\n",
       " 8   t    u0  f    0.0\n",
       " 9   t    u0  t    0.0\n",
       " 10  t    u1  f    0.0\n",
       " 11  t    u1  t    0.0\n",
       " 12  t    u2  f    1.0\n",
       " 13  t    u2  t    0.0\n",
       " 14  t    u3  f    0.0\n",
       " 15  t    u3  t    1.0,\n",
       " '__u__':   __u__   __p__\n",
       " 0    u0  0.5943\n",
       " 1    u1  0.2028\n",
       " 2    u2  0.1497\n",
       " 3    u3  0.0532}"
      ]
     },
     "execution_count": 15,
     "metadata": {},
     "output_type": "execute_result"
    }
   ],
   "source": [
    "b_model.node_potentials"
   ]
  },
  {
   "cell_type": "code",
   "execution_count": null,
   "id": "032a8685-4f77-42ba-9808-ed9a30673cab",
   "metadata": {},
   "outputs": [],
   "source": []
  },
  {
   "cell_type": "code",
   "execution_count": null,
   "id": "0990ea0c-a3bd-4f01-9252-3d019f29acc9",
   "metadata": {},
   "outputs": [],
   "source": []
  },
  {
   "cell_type": "code",
   "execution_count": null,
   "id": "9d5e0478-6f22-494d-93be-49503a711ebd",
   "metadata": {},
   "outputs": [],
   "source": []
  },
  {
   "cell_type": "code",
   "execution_count": 12,
   "id": "43671c30-c3ae-45ad-b867-16ff8ad17ef7",
   "metadata": {},
   "outputs": [
    {
     "data": {
      "text/plain": [
       "{'A':    A  __p__\n",
       " 0  f    0.0\n",
       " 1  t    1.0,\n",
       " 'B':    B     __p__\n",
       " 0  f  0.737802\n",
       " 1  t  0.262198,\n",
       " '__u__':   __u__     __p__\n",
       " 0    u0  0.000000\n",
       " 1    u1  0.000000\n",
       " 2    u2  0.737802\n",
       " 3    u3  0.262198}"
      ]
     },
     "execution_count": 12,
     "metadata": {},
     "output_type": "execute_result"
    }
   ],
   "source": [
    "b_model.pquery(evidences=b_model.e({'A': 't'}))"
   ]
  },
  {
   "cell_type": "code",
   "execution_count": 13,
   "id": "02db9cad-b52b-4462-ab35-e502c6b5273a",
   "metadata": {},
   "outputs": [
    {
     "data": {
      "text/plain": [
       "{'A':    A  __p__\n",
       " 0  f    1.0\n",
       " 1  t    0.0,\n",
       " 'B':    B     __p__\n",
       " 0  f  0.745578\n",
       " 1  t  0.254422,\n",
       " '__u__':   __u__     __p__\n",
       " 0    u0  0.745578\n",
       " 1    u1  0.254422\n",
       " 2    u2  0.000000\n",
       " 3    u3  0.000000}"
      ]
     },
     "execution_count": 13,
     "metadata": {},
     "output_type": "execute_result"
    }
   ],
   "source": [
    "b_model.pquery(evidences=b_model.e({'A': 'f'}))"
   ]
  },
  {
   "cell_type": "code",
   "execution_count": 17,
   "id": "b49b8d90-6421-4724-ab10-338ee9635e94",
   "metadata": {},
   "outputs": [
    {
     "data": {
      "text/plain": [
       "{'A':    A  __p__\n",
       " 0  f    1.0\n",
       " 1  t    0.0,\n",
       " 'B':    B     __p__\n",
       " 0  f  0.745578\n",
       " 1  t  0.254422,\n",
       " '__u__':   __u__     __p__\n",
       " 0    u0  0.745578\n",
       " 1    u1  0.254422\n",
       " 2    u2  0.000000\n",
       " 3    u3  0.000000}"
      ]
     },
     "execution_count": 17,
     "metadata": {},
     "output_type": "execute_result"
    }
   ],
   "source": [
    "q = b_model.pquery(evidences=b_model.e({'A': 't'}))\n",
    "\n",
    "e = b_model.e({'A': 'f'})\n",
    "e['__u__'] = q['__u__'] \\\n",
    "            .assign(**{'__p__': lambda d: d['__p__'] + 0.001}) \\\n",
    "            .assign(**{'__p__': lambda d: d['__p__'] / d['__p__'].sum()})\n",
    "\n",
    "b_model.pquery(evidences=e)"
   ]
  },
  {
   "cell_type": "code",
   "execution_count": null,
   "id": "c8675388-2d6b-44d9-a42e-702668b134f5",
   "metadata": {},
   "outputs": [],
   "source": []
  },
  {
   "cell_type": "code",
   "execution_count": null,
   "id": "e0021622-8342-4d85-ab8d-b4514d99eba3",
   "metadata": {},
   "outputs": [],
   "source": []
  },
  {
   "cell_type": "code",
   "execution_count": null,
   "id": "8ed3c168-d29c-4730-8deb-e1f403609e49",
   "metadata": {},
   "outputs": [],
   "source": []
  },
  {
   "cell_type": "code",
   "execution_count": 18,
   "id": "a381cb9f-23f0-4815-8a12-1afd43637d0d",
   "metadata": {},
   "outputs": [
    {
     "data": {
      "text/plain": [
       "{'B':    B  __p__\n",
       " 0  f  0.744\n",
       " 1  t  0.256,\n",
       " 'C':     B __u__  C  __p__\n",
       " 0   f    u0  f    1.0\n",
       " 1   f    u0  t    0.0\n",
       " 2   f    u1  f    0.0\n",
       " 3   f    u1  t    1.0\n",
       " 4   f    u2  f    0.0\n",
       " 5   f    u2  t    0.0\n",
       " 6   f    u3  f    0.0\n",
       " 7   f    u3  t    0.0\n",
       " 8   t    u0  f    0.0\n",
       " 9   t    u0  t    0.0\n",
       " 10  t    u1  f    0.0\n",
       " 11  t    u1  t    0.0\n",
       " 12  t    u2  f    1.0\n",
       " 13  t    u2  t    0.0\n",
       " 14  t    u3  f    0.0\n",
       " 15  t    u3  t    1.0,\n",
       " '__u__':   __u__   __p__\n",
       " 0    u0  0.4078\n",
       " 1    u1  0.3362\n",
       " 2    u2  0.1442\n",
       " 3    u3  0.1118}"
      ]
     },
     "execution_count": 18,
     "metadata": {},
     "output_type": "execute_result"
    }
   ],
   "source": [
    "c_model.node_potentials"
   ]
  },
  {
   "cell_type": "code",
   "execution_count": null,
   "id": "0b0df571-6567-4df3-9e9a-64d5d583aac7",
   "metadata": {},
   "outputs": [],
   "source": []
  }
 ],
 "metadata": {
  "kernelspec": {
   "display_name": "Python 3 (ipykernel)",
   "language": "python",
   "name": "python3"
  },
  "language_info": {
   "codemirror_mode": {
    "name": "ipython",
    "version": 3
   },
   "file_extension": ".py",
   "mimetype": "text/x-python",
   "name": "python",
   "nbconvert_exporter": "python",
   "pygments_lexer": "ipython3",
   "version": "3.11.5"
  },
  "widgets": {
   "application/vnd.jupyter.widget-state+json": {
    "state": {},
    "version_major": 2,
    "version_minor": 0
   }
  }
 },
 "nbformat": 4,
 "nbformat_minor": 5
}
