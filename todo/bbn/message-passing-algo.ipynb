{
 "cells": [
  {
   "cell_type": "markdown",
   "id": "cb46256c-d934-458e-a7a4-14d0d1a7d47c",
   "metadata": {},
   "source": [
    "# Message Passing Algorithm"
   ]
  },
  {
   "cell_type": "markdown",
   "id": "2d782fa1-ea67-4b19-873d-931e708d2aaa",
   "metadata": {},
   "source": [
    "## Jointree"
   ]
  },
  {
   "cell_type": "code",
   "execution_count": 1,
   "id": "23ddb924-17a6-42cf-ae2f-8fd20b4ff8eb",
   "metadata": {},
   "outputs": [],
   "source": [
    "import networkx as nx\n",
    "\n",
    "def get_jointree():\n",
    "    g = nx.Graph()\n",
    "\n",
    "    clusters = ['ABD', 'ADE', 'DEF', 'ACE', 'CEG', 'EGH']\n",
    "    sepsets = ['AD', 'DE', 'AE', 'CE', 'EG']\n",
    "\n",
    "    for n in clusters:\n",
    "        g.add_node(n, type='cluster', nodes=set(n))\n",
    "    for n in sepsets:\n",
    "        g.add_node(n, type='sepset', nodes=set(n))\n",
    "    \n",
    "    g.add_edges_from([\n",
    "        ('ABD', 'AD'), ('AD', 'ADE'),\n",
    "        ('ADE', 'DE'), ('DE', 'DEF'),\n",
    "        ('ADE', 'AE'), ('AE', 'ACE'),\n",
    "        ('ACE', 'CE'), ('CE', 'CEG'),\n",
    "        ('CEG', 'EG'), ('EG', 'EGH')\n",
    "    ])\n",
    "    \n",
    "    return g\n",
    "\n",
    "g = get_jointree()"
   ]
  },
  {
   "cell_type": "code",
   "execution_count": 2,
   "id": "9462d36b-c10d-4e59-842f-e34059d5d4c7",
   "metadata": {},
   "outputs": [
    {
     "data": {
      "image/png": "[encoded data removed]",
      "text/plain": [
       "<Figure size 500x500 with 1 Axes>"
      ]
     },
     "metadata": {},
     "output_type": "display_data"
    }
   ],
   "source": [
    "import matplotlib.pyplot as plt\n",
    "\n",
    "pos = nx.nx_agraph.graphviz_layout(g, prog='neato')\n",
    "cluster_n = list(filter(lambda n: g.nodes[n]['type'] == 'cluster', g.nodes()))\n",
    "sepset_n = list(filter(lambda n: g.nodes[n]['type'] == 'sepset', g.nodes()))\n",
    "\n",
    "fig, ax = plt.subplots(figsize=(5, 5))\n",
    "\n",
    "nx.draw_networkx_edges(g, pos, ax=ax)\n",
    "nx.draw_networkx_nodes(g, pos, ax=ax, nodelist=cluster_n, node_color='#ff9999', node_shape='o', alpha=1)\n",
    "nx.draw_networkx_nodes(g, pos, ax=ax, nodelist=sepset_n, node_color='#80b3ff', node_shape='s', alpha=1)\n",
    "nx.draw_networkx_labels(g, pos, ax=ax)\n",
    "\n",
    "fig.tight_layout()"
   ]
  },
  {
   "cell_type": "markdown",
   "id": "01c7100c-bf03-4a36-889e-afe6d2eaae37",
   "metadata": {},
   "source": [
    "## Collect, Distribute"
   ]
  },
  {
   "cell_type": "code",
   "execution_count": 3,
   "id": "1d767bb8-812b-4444-8a20-5726a219363a",
   "metadata": {},
   "outputs": [],
   "source": [
    "import itertools\n",
    "\n",
    "def cwalk(x, s, y, g, marked, messages):\n",
    "    marked.append(y)\n",
    "    \n",
    "    for _s in g.neighbors(y):\n",
    "        for _y in g.neighbors(_s):\n",
    "            if _y in marked:\n",
    "                continue\n",
    "            cwalk(y, _s, _y, g, marked, messages)\n",
    "\n",
    "    m = y, s, x\n",
    "    messages.append(m)\n",
    "\n",
    "def dwalk(x, g, marked, messages):\n",
    "    marked.append(x)\n",
    "    \n",
    "    for s in g.neighbors(x):\n",
    "        for y in g.neighbors(s):\n",
    "            if y in marked:\n",
    "                continue\n",
    "\n",
    "            m = x, s, y\n",
    "            messages.append(m)\n",
    "\n",
    "            dwalk(y, g, marked, messages)\n",
    "\n",
    "def collect(x, g):\n",
    "    messages = []\n",
    "    marked = [x]\n",
    "\n",
    "    for s in g.neighbors(x):\n",
    "        for y in g.neighbors(s):\n",
    "            if y in marked:\n",
    "                continue\n",
    "            cwalk(x, s, y, g, marked, messages)\n",
    "\n",
    "    return messages\n",
    "\n",
    "def distribute(x, g):\n",
    "    messages = []\n",
    "    marked = []\n",
    "\n",
    "    dwalk(x, g, marked, messages)\n",
    "\n",
    "    return messages"
   ]
  },
  {
   "cell_type": "code",
   "execution_count": 4,
   "id": "a1750154-8dcf-4341-ab04-5e3fb58cdc1a",
   "metadata": {},
   "outputs": [
    {
     "data": {
      "text/plain": [
       "[('ABD', 'AD', 'ADE'),\n",
       " ('DEF', 'DE', 'ADE'),\n",
       " ('ADE', 'AE', 'ACE'),\n",
       " ('EGH', 'EG', 'CEG'),\n",
       " ('CEG', 'CE', 'ACE')]"
      ]
     },
     "execution_count": 4,
     "metadata": {},
     "output_type": "execute_result"
    }
   ],
   "source": [
    "collect('ACE', g)"
   ]
  },
  {
   "cell_type": "code",
   "execution_count": 5,
   "id": "67685453-923e-4edf-83e7-c19484cfc287",
   "metadata": {},
   "outputs": [
    {
     "data": {
      "text/plain": [
       "[('ACE', 'AE', 'ADE'),\n",
       " ('ADE', 'AD', 'ABD'),\n",
       " ('ADE', 'DE', 'DEF'),\n",
       " ('ACE', 'CE', 'CEG'),\n",
       " ('CEG', 'EG', 'EGH')]"
      ]
     },
     "execution_count": 5,
     "metadata": {},
     "output_type": "execute_result"
    }
   ],
   "source": [
    "distribute('ACE', g)"
   ]
  },
  {
   "cell_type": "code",
   "execution_count": null,
   "id": "a3625265-7664-4c43-8e5a-b7d362ef79d6",
   "metadata": {},
   "outputs": [],
   "source": []
  }
 ],
 "metadata": {
  "kernelspec": {
   "display_name": "Python 3 (ipykernel)",
   "language": "python",
   "name": "python3"
  },
  "language_info": {
   "codemirror_mode": {
    "name": "ipython",
    "version": 3
   },
   "file_extension": ".py",
   "mimetype": "text/x-python",
   "name": "python",
   "nbconvert_exporter": "python",
   "pygments_lexer": "ipython3",
   "version": "3.11.6"
  },
  "widgets": {
   "application/vnd.jupyter.widget-state+json": {
    "state": {},
    "version_major": 2,
    "version_minor": 0
   }
  }
 },
 "nbformat": 4,
 "nbformat_minor": 5
}
