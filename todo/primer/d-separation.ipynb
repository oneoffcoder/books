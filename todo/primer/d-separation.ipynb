{
 "cells": [
  {
   "cell_type": "markdown",
   "id": "floppy-prior",
   "metadata": {},
   "source": [
    "# d-separation\n",
    "\n",
    "`d-separation` stands for `direction-separation` and it is a `rule` for reading off conditional independence relationships in a DAG. \n"
   ]
  },
  {
   "cell_type": "code",
   "execution_count": 1,
   "id": "fleet-furniture",
   "metadata": {
    "tags": []
   },
   "outputs": [],
   "source": [
    "import networkx as nx\n",
    "\n",
    "def get_dag(nodes, edges):\n",
    "    g = nx.DiGraph()\n",
    "    \n",
    "    _ = [g.add_node(n) for n in nodes]\n",
    "    _ = [g.add_edge(p, c) for p, c in edges]\n",
    "    \n",
    "    return g\n",
    "\n",
    "nodes = ['D', 'I', 'G', 'S', 'L']\n",
    "edges = [('D', 'G'), ('I', 'G'), ('I', 'S'), ('G', 'L')]\n",
    "\n",
    "g = get_dag(nodes, edges)"
   ]
  },
  {
   "cell_type": "code",
   "execution_count": 2,
   "id": "sporting-douglas",
   "metadata": {
    "tags": []
   },
   "outputs": [
    {
     "data": {
      "text/plain": [
       "NodeView(('D', 'I', 'G', 'S', 'L'))"
      ]
     },
     "execution_count": 2,
     "metadata": {},
     "output_type": "execute_result"
    }
   ],
   "source": [
    "g.nodes()"
   ]
  },
  {
   "cell_type": "code",
   "execution_count": 3,
   "id": "handled-integral",
   "metadata": {
    "tags": []
   },
   "outputs": [
    {
     "data": {
      "text/plain": [
       "OutEdgeView([('D', 'G'), ('I', 'G'), ('I', 'S'), ('G', 'L')])"
      ]
     },
     "execution_count": 3,
     "metadata": {},
     "output_type": "execute_result"
    }
   ],
   "source": [
    "g.edges()"
   ]
  },
  {
   "cell_type": "code",
   "execution_count": 20,
   "id": "brave-input",
   "metadata": {
    "execution": {
     "iopub.execute_input": "2021-10-05T03:31:44.119466Z",
     "iopub.status.busy": "2021-10-05T03:31:44.119129Z",
     "iopub.status.idle": "2021-10-05T03:31:44.134313Z",
     "shell.execute_reply": "2021-10-05T03:31:44.133132Z",
     "shell.execute_reply.started": "2021-10-05T03:31:44.119427Z"
    },
    "tags": []
   },
   "outputs": [],
   "source": [
    "from networkx.algorithms.dag import descendants\n",
    "from networkx.algorithms.simple_paths import all_simple_paths\n",
    "\n",
    "def get_paths(g, source, target):\n",
    "    return all_simple_paths(g.to_undirected(), source, target)\n",
    "\n",
    "def get_descendants(g):\n",
    "    return {n: list(descendants(g, n)) for n in g.nodes()}\n",
    "\n",
    "def is_path_active(g, path, Z, descendants):\n",
    "    def get_triplet(i):\n",
    "        return path[i-1], path[i], path[i+1]\n",
    "    \n",
    "    def is_collider(x, z, y):\n",
    "        if g.has_edge(x, z) and g.has_edge(y, z):\n",
    "            return True\n",
    "        return False\n",
    "    \n",
    "    def is_collider_active(z):\n",
    "        if z in Z:\n",
    "            return True\n",
    "        if len(set(descendants[z]) & set(Z)) > 0:\n",
    "            return True\n",
    "        return False\n",
    "    \n",
    "    def is_noncollider_active(z):\n",
    "        if z in Z:\n",
    "            return False\n",
    "        return True\n",
    "    \n",
    "    def is_node_active(x, z, y):\n",
    "        if is_collider(x, z, y):\n",
    "            return is_collider_active(z)\n",
    "        return is_noncollider_active(z)\n",
    "    \n",
    "    nodes = (i for i in range(len(path)))\n",
    "    nodes = filter(lambda i: 0 < i < len(path) - 1, nodes)\n",
    "    nodes = map(lambda i: get_triplet(i), nodes)\n",
    "    nodes = map(lambda tup: is_node_active(*tup), nodes)\n",
    "    return all(nodes)\n",
    "\n",
    "def is_d_separated(g, source, target, Z=[]):\n",
    "    m = get_descendants(g)\n",
    "    paths = get_paths(g, source, target)\n",
    "    for p in paths:\n",
    "        if not is_path_active(g, p, Z, m):\n",
    "            return True\n",
    "    return False"
   ]
  },
  {
   "cell_type": "code",
   "execution_count": 21,
   "id": "cathedral-point",
   "metadata": {
    "execution": {
     "iopub.execute_input": "2021-10-05T03:31:45.902758Z",
     "iopub.status.busy": "2021-10-05T03:31:45.902402Z",
     "iopub.status.idle": "2021-10-05T03:31:45.910935Z",
     "shell.execute_reply": "2021-10-05T03:31:45.910160Z",
     "shell.execute_reply.started": "2021-10-05T03:31:45.902718Z"
    },
    "tags": []
   },
   "outputs": [
    {
     "name": "stdout",
     "output_type": "stream",
     "text": [
      "path = ['D', 'G', 'I', 'S']\n",
      "Active(D, S | []) = False\n",
      "Active(D, S | [L]) = True\n",
      "Active(D, S | [L, I]) = False\n"
     ]
    }
   ],
   "source": [
    "descendant_map = get_descendants(g)\n",
    "path = next(get_paths(g, 'D', 'S'))\n",
    "\n",
    "r1 = is_path_active(g, path, [], descendant_map)\n",
    "r2 = is_path_active(g, path, ['L'], descendant_map)\n",
    "r3 = is_path_active(g, path, ['L', 'I'], descendant_map)\n",
    "\n",
    "print(f'path = {path}')\n",
    "print(f'Active(D, S | []) = {r1}')\n",
    "print(f'Active(D, S | [L]) = {r2}')\n",
    "print(f'Active(D, S | [L, I]) = {r3}')"
   ]
  },
  {
   "cell_type": "code",
   "execution_count": 22,
   "id": "crazy-kuwait",
   "metadata": {
    "execution": {
     "iopub.execute_input": "2021-10-05T03:31:47.092850Z",
     "iopub.status.busy": "2021-10-05T03:31:47.092712Z",
     "iopub.status.idle": "2021-10-05T03:31:47.095818Z",
     "shell.execute_reply": "2021-10-05T03:31:47.095351Z",
     "shell.execute_reply.started": "2021-10-05T03:31:47.092835Z"
    }
   },
   "outputs": [
    {
     "name": "stdout",
     "output_type": "stream",
     "text": [
      "source=D, target=S\n",
      "I(D, S | []) = True\n",
      "I(D, S | [L]) = False\n",
      "I(D, S | [L, I]) = True\n"
     ]
    }
   ],
   "source": [
    "r1 = is_d_separated(g, 'D', 'S')\n",
    "r2 = is_d_separated(g, 'D', 'S', ['L'])\n",
    "r3 = is_d_separated(g, 'D', 'S', ['L', 'I'])\n",
    "\n",
    "print(f'source=D, target=S')\n",
    "print(f'I(D, S | []) = {r1}')\n",
    "print(f'I(D, S | [L]) = {r2}')\n",
    "print(f'I(D, S | [L, I]) = {r3}')"
   ]
  },
  {
   "cell_type": "code",
   "execution_count": null,
   "id": "motivated-extension",
   "metadata": {},
   "outputs": [],
   "source": []
  },
  {
   "cell_type": "code",
   "execution_count": null,
   "id": "tracked-baker",
   "metadata": {},
   "outputs": [],
   "source": []
  }
 ],
 "metadata": {
  "kernelspec": {
   "display_name": "Python 3",
   "language": "python",
   "name": "python3"
  },
  "language_info": {
   "codemirror_mode": {
    "name": "ipython",
    "version": 3
   },
   "file_extension": ".py",
   "mimetype": "text/x-python",
   "name": "python",
   "nbconvert_exporter": "python",
   "pygments_lexer": "ipython3",
   "version": "3.8.5"
  },
  "widgets": {
   "application/vnd.jupyter.widget-state+json": {
    "state": {},
    "version_major": 2,
    "version_minor": 0
   }
  }
 },
 "nbformat": 4,
 "nbformat_minor": 5
}
