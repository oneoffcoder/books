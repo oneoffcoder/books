{
 "cells": [
  {
   "cell_type": "markdown",
   "id": "smart-fantasy",
   "metadata": {},
   "source": [
    "# d-separation\n",
    "\n",
    "`d-separation` stands for `direction-separation` and it is a `rule` for reading off conditional independence relationships in a DAG. \n"
   ]
  },
  {
   "cell_type": "code",
   "execution_count": 1,
   "id": "distant-surname",
   "metadata": {
    "execution": {
     "iopub.execute_input": "2021-10-04T16:51:42.935596Z",
     "iopub.status.busy": "2021-10-04T16:51:42.935402Z",
     "iopub.status.idle": "2021-10-04T16:51:43.131006Z",
     "shell.execute_reply": "2021-10-04T16:51:43.130564Z",
     "shell.execute_reply.started": "2021-10-04T16:51:42.935538Z"
    }
   },
   "outputs": [],
   "source": [
    "import networkx as nx\n",
    "\n",
    "def get_dag(nodes, edges):\n",
    "    g = nx.DiGraph()\n",
    "    \n",
    "    _ = [g.add_node(n) for n in nodes]\n",
    "    _ = [g.add_edge(p, c) for p, c in edges]\n",
    "    \n",
    "    return g\n",
    "\n",
    "nodes = ['D', 'I', 'G', 'S', 'L']\n",
    "edges = [('D', 'G'), ('I', 'G'), ('I', 'S'), ('G', 'L')]\n",
    "\n",
    "g = get_dag(nodes, edges)"
   ]
  },
  {
   "cell_type": "code",
   "execution_count": 2,
   "id": "gross-nerve",
   "metadata": {
    "execution": {
     "iopub.execute_input": "2021-10-04T16:51:45.632124Z",
     "iopub.status.busy": "2021-10-04T16:51:45.631981Z",
     "iopub.status.idle": "2021-10-04T16:51:45.638527Z",
     "shell.execute_reply": "2021-10-04T16:51:45.638125Z",
     "shell.execute_reply.started": "2021-10-04T16:51:45.632108Z"
    }
   },
   "outputs": [
    {
     "data": {
      "text/plain": [
       "NodeView(('D', 'I', 'G', 'S', 'L'))"
      ]
     },
     "execution_count": 2,
     "metadata": {},
     "output_type": "execute_result"
    }
   ],
   "source": [
    "g.nodes()"
   ]
  },
  {
   "cell_type": "code",
   "execution_count": 3,
   "id": "parallel-sound",
   "metadata": {
    "execution": {
     "iopub.execute_input": "2021-10-04T16:51:48.510270Z",
     "iopub.status.busy": "2021-10-04T16:51:48.510116Z",
     "iopub.status.idle": "2021-10-04T16:51:48.512835Z",
     "shell.execute_reply": "2021-10-04T16:51:48.512452Z",
     "shell.execute_reply.started": "2021-10-04T16:51:48.510254Z"
    }
   },
   "outputs": [
    {
     "data": {
      "text/plain": [
       "OutEdgeView([('D', 'G'), ('I', 'G'), ('I', 'S'), ('G', 'L')])"
      ]
     },
     "execution_count": 3,
     "metadata": {},
     "output_type": "execute_result"
    }
   ],
   "source": [
    "g.edges()"
   ]
  },
  {
   "cell_type": "code",
   "execution_count": 19,
   "id": "basic-nightlife",
   "metadata": {
    "execution": {
     "iopub.execute_input": "2021-10-04T17:37:45.386639Z",
     "iopub.status.busy": "2021-10-04T17:37:45.386394Z",
     "iopub.status.idle": "2021-10-04T17:37:45.397831Z",
     "shell.execute_reply": "2021-10-04T17:37:45.397196Z",
     "shell.execute_reply.started": "2021-10-04T17:37:45.386612Z"
    }
   },
   "outputs": [
    {
     "data": {
      "text/plain": [
       "False"
      ]
     },
     "execution_count": 19,
     "metadata": {},
     "output_type": "execute_result"
    }
   ],
   "source": [
    "from networkx.algorithms.dag import ancestors, descendants\n",
    "from networkx.algorithms.simple_paths import all_simple_paths\n",
    "\n",
    "def get_paths(g, source, target):\n",
    "    return all_simple_paths(g.to_undirected(), source, target)\n",
    "\n",
    "def get_descendants(g):\n",
    "    return {n: list(descendants(g, n)) for n in g.nodes()}\n",
    "\n",
    "def is_path_active(g, path, Z, descendants):\n",
    "    def is_collider(x, z, y):\n",
    "        if g.has_edge(x, z) and g.has_edge(y, z):\n",
    "            return True\n",
    "        return False\n",
    "    \n",
    "    def is_collider_active(z):\n",
    "        if z in Z:\n",
    "            return True\n",
    "        if len(set(descendants[z]) & set(Z)) > 0:\n",
    "            return True\n",
    "        return False\n",
    "    \n",
    "    def is_noncollider_active(z):\n",
    "        if z in Z:\n",
    "            return False\n",
    "        return True\n",
    "    \n",
    "    for i, node in enumerate(path):\n",
    "        if i > 0 and i < len(path) - 1:\n",
    "            if is_collider(path[i-1], path[i], path[i+1]):\n",
    "                is_active = is_collider_active(node)                \n",
    "            else:\n",
    "                is_active = is_noncollider_active(node)\n",
    "            \n",
    "            if not is_active:\n",
    "                return False\n",
    "                \n",
    "    return True\n",
    "            \n",
    "is_path_active(g, ['D', 'G', 'I', 'S'], ['L', 'I'], get_descendants(g))"
   ]
  },
  {
   "cell_type": "code",
   "execution_count": 10,
   "id": "sound-variance",
   "metadata": {
    "execution": {
     "iopub.execute_input": "2021-10-04T17:10:29.167490Z",
     "iopub.status.busy": "2021-10-04T17:10:29.167328Z",
     "iopub.status.idle": "2021-10-04T17:10:29.169827Z",
     "shell.execute_reply": "2021-10-04T17:10:29.169369Z",
     "shell.execute_reply.started": "2021-10-04T17:10:29.167472Z"
    }
   },
   "outputs": [],
   "source": [
    "_, *rest, _ = ['D', 'G', 'I', 'S']"
   ]
  },
  {
   "cell_type": "code",
   "execution_count": 11,
   "id": "injured-increase",
   "metadata": {
    "execution": {
     "iopub.execute_input": "2021-10-04T17:10:30.785173Z",
     "iopub.status.busy": "2021-10-04T17:10:30.784795Z",
     "iopub.status.idle": "2021-10-04T17:10:30.790388Z",
     "shell.execute_reply": "2021-10-04T17:10:30.789457Z",
     "shell.execute_reply.started": "2021-10-04T17:10:30.785126Z"
    }
   },
   "outputs": [
    {
     "data": {
      "text/plain": [
       "['G', 'I']"
      ]
     },
     "execution_count": 11,
     "metadata": {},
     "output_type": "execute_result"
    }
   ],
   "source": [
    "rest"
   ]
  },
  {
   "cell_type": "code",
   "execution_count": null,
   "id": "regulation-authorization",
   "metadata": {},
   "outputs": [],
   "source": []
  }
 ],
 "metadata": {
  "kernelspec": {
   "display_name": "Python 3",
   "language": "python",
   "name": "python3"
  },
  "language_info": {
   "codemirror_mode": {
    "name": "ipython",
    "version": 3
   },
   "file_extension": ".py",
   "mimetype": "text/x-python",
   "name": "python",
   "nbconvert_exporter": "python",
   "pygments_lexer": "ipython3",
   "version": "3.8.5"
  },
  "widgets": {
   "application/vnd.jupyter.widget-state+json": {
    "state": {},
    "version_major": 2,
    "version_minor": 0
   }
  }
 },
 "nbformat": 4,
 "nbformat_minor": 5
}
