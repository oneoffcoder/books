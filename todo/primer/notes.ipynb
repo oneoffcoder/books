{
 "cells": [
  {
   "cell_type": "markdown",
   "id": "specialized-provider",
   "metadata": {},
   "source": [
    "## Preliminaries"
   ]
  },
  {
   "cell_type": "markdown",
   "id": "emotional-empty",
   "metadata": {},
   "source": [
    "### Study question 1.4.1"
   ]
  },
  {
   "cell_type": "code",
   "execution_count": 1,
   "id": "committed-structure",
   "metadata": {
    "execution": {
     "iopub.status.idle": "2021-10-05T06:52:13.573294Z",
     "shell.execute_reply": "2021-10-05T06:52:13.572884Z",
     "shell.execute_reply.started": "2021-10-05T06:52:13.388678Z"
    }
   },
   "outputs": [],
   "source": [
    "import networkx as nx\n",
    "\n",
    "g = nx.DiGraph()\n",
    "\n",
    "nodes = ['W', 'X', 'Y', 'Z', 'T']\n",
    "edges = [('X', 'W'), ('X', 'Y'), ('W', 'Y'), ('W', 'Z'), ('Y', 'Z'), ('Y', 'T'), ('Z', 'T')]\n",
    "\n",
    "_ = [g.add_node(n) for n in nodes]\n",
    "_ = [g.add_edge(p, c) for p, c in edges]"
   ]
  },
  {
   "cell_type": "code",
   "execution_count": 2,
   "id": "activated-break",
   "metadata": {
    "execution": {
     "iopub.execute_input": "2021-10-05T06:52:13.574147Z",
     "iopub.status.busy": "2021-10-05T06:52:13.573999Z",
     "iopub.status.idle": "2021-10-05T06:52:13.581322Z",
     "shell.execute_reply": "2021-10-05T06:52:13.580871Z",
     "shell.execute_reply.started": "2021-10-05T06:52:13.574132Z"
    }
   },
   "outputs": [
    {
     "data": {
      "text/plain": [
       "['W', 'Y']"
      ]
     },
     "execution_count": 2,
     "metadata": {},
     "output_type": "execute_result"
    }
   ],
   "source": [
    "list(g.predecessors('Z'))"
   ]
  },
  {
   "cell_type": "code",
   "execution_count": 3,
   "id": "interesting-brake",
   "metadata": {
    "execution": {
     "iopub.execute_input": "2021-10-05T06:52:13.583620Z",
     "iopub.status.busy": "2021-10-05T06:52:13.583503Z",
     "iopub.status.idle": "2021-10-05T06:52:13.586317Z",
     "shell.execute_reply": "2021-10-05T06:52:13.585932Z",
     "shell.execute_reply.started": "2021-10-05T06:52:13.583606Z"
    }
   },
   "outputs": [
    {
     "data": {
      "text/plain": [
       "['X', 'W', 'Y']"
      ]
     },
     "execution_count": 3,
     "metadata": {},
     "output_type": "execute_result"
    }
   ],
   "source": [
    "from networkx.algorithms.dag import ancestors\n",
    "\n",
    "list(ancestors(g, 'Z'))"
   ]
  },
  {
   "cell_type": "code",
   "execution_count": 4,
   "id": "southwest-absorption",
   "metadata": {
    "execution": {
     "iopub.execute_input": "2021-10-05T06:52:13.587177Z",
     "iopub.status.busy": "2021-10-05T06:52:13.587012Z",
     "iopub.status.idle": "2021-10-05T06:52:13.589943Z",
     "shell.execute_reply": "2021-10-05T06:52:13.589644Z",
     "shell.execute_reply.started": "2021-10-05T06:52:13.587157Z"
    }
   },
   "outputs": [
    {
     "data": {
      "text/plain": [
       "['Y', 'Z']"
      ]
     },
     "execution_count": 4,
     "metadata": {},
     "output_type": "execute_result"
    }
   ],
   "source": [
    "list(g.successors('W'))"
   ]
  },
  {
   "cell_type": "code",
   "execution_count": 5,
   "id": "parental-silver",
   "metadata": {
    "execution": {
     "iopub.execute_input": "2021-10-05T06:52:13.590533Z",
     "iopub.status.busy": "2021-10-05T06:52:13.590403Z",
     "iopub.status.idle": "2021-10-05T06:52:13.593842Z",
     "shell.execute_reply": "2021-10-05T06:52:13.593356Z",
     "shell.execute_reply.started": "2021-10-05T06:52:13.590511Z"
    }
   },
   "outputs": [
    {
     "data": {
      "text/plain": [
       "['T', 'Z', 'Y']"
      ]
     },
     "execution_count": 5,
     "metadata": {},
     "output_type": "execute_result"
    }
   ],
   "source": [
    "from networkx.algorithms.dag import descendants\n",
    "\n",
    "list(descendants(g, 'W'))"
   ]
  },
  {
   "cell_type": "code",
   "execution_count": 6,
   "id": "casual-factory",
   "metadata": {
    "execution": {
     "iopub.execute_input": "2021-10-05T06:52:13.594749Z",
     "iopub.status.busy": "2021-10-05T06:52:13.594569Z",
     "iopub.status.idle": "2021-10-05T06:52:13.598304Z",
     "shell.execute_reply": "2021-10-05T06:52:13.597949Z",
     "shell.execute_reply.started": "2021-10-05T06:52:13.594727Z"
    }
   },
   "outputs": [
    {
     "data": {
      "text/plain": [
       "[['X', 'W', 'Y', 'Z', 'T'],\n",
       " ['X', 'W', 'Y', 'T'],\n",
       " ['X', 'W', 'Z', 'T'],\n",
       " ['X', 'Y', 'Z', 'T'],\n",
       " ['X', 'Y', 'T']]"
      ]
     },
     "execution_count": 6,
     "metadata": {},
     "output_type": "execute_result"
    }
   ],
   "source": [
    "from networkx.algorithms.simple_paths import all_simple_paths\n",
    "\n",
    "list(all_simple_paths(g, 'X', 'T'))"
   ]
  },
  {
   "cell_type": "markdown",
   "id": "micro-theme",
   "metadata": {},
   "source": [
    "### Study question 1.5.1"
   ]
  },
  {
   "cell_type": "code",
   "execution_count": 7,
   "id": "settled-forest",
   "metadata": {
    "execution": {
     "iopub.execute_input": "2021-10-05T06:52:13.599008Z",
     "iopub.status.busy": "2021-10-05T06:52:13.598884Z",
     "iopub.status.idle": "2021-10-05T06:52:13.742139Z",
     "shell.execute_reply": "2021-10-05T06:52:13.741755Z",
     "shell.execute_reply.started": "2021-10-05T06:52:13.598994Z"
    }
   },
   "outputs": [],
   "source": [
    "import numpy as np\n",
    "import pandas as pd\n",
    "\n",
    "np.random.seed(37)\n",
    "\n",
    "N = 10_000\n",
    "\n",
    "U_x = np.random.normal(0, 1, N)\n",
    "U_y = np.random.normal(0, 1, N)\n",
    "U_z = np.random.normal(0, 1, N)\n",
    "\n",
    "X = U_x\n",
    "Y = (1/3) * X + U_y\n",
    "Z = (1/16) * Y + U_z\n",
    "\n",
    "df = pd.DataFrame({\n",
    "    'X': X,\n",
    "    'Y': Y,\n",
    "    'Z': Z\n",
    "})"
   ]
  },
  {
   "cell_type": "code",
   "execution_count": 8,
   "id": "supreme-highlight",
   "metadata": {
    "execution": {
     "iopub.execute_input": "2021-10-05T06:52:13.743424Z",
     "iopub.status.busy": "2021-10-05T06:52:13.743303Z",
     "iopub.status.idle": "2021-10-05T06:52:13.750217Z",
     "shell.execute_reply": "2021-10-05T06:52:13.749869Z",
     "shell.execute_reply.started": "2021-10-05T06:52:13.743409Z"
    }
   },
   "outputs": [
    {
     "data": {
      "text/html": [
       "<div>\n",
       "<style scoped>\n",
       "    .dataframe tbody tr th:only-of-type {\n",
       "        vertical-align: middle;\n",
       "    }\n",
       "\n",
       "    .dataframe tbody tr th {\n",
       "        vertical-align: top;\n",
       "    }\n",
       "\n",
       "    .dataframe thead th {\n",
       "        text-align: right;\n",
       "    }\n",
       "</style>\n",
       "<table border=\"1\" class=\"dataframe\">\n",
       "  <thead>\n",
       "    <tr style=\"text-align: right;\">\n",
       "      <th></th>\n",
       "      <th>X</th>\n",
       "      <th>Y</th>\n",
       "      <th>Z</th>\n",
       "    </tr>\n",
       "  </thead>\n",
       "  <tbody>\n",
       "    <tr>\n",
       "      <th>0</th>\n",
       "      <td>-0.054464</td>\n",
       "      <td>0.115728</td>\n",
       "      <td>0.229677</td>\n",
       "    </tr>\n",
       "    <tr>\n",
       "      <th>1</th>\n",
       "      <td>0.674308</td>\n",
       "      <td>-0.736683</td>\n",
       "      <td>0.766547</td>\n",
       "    </tr>\n",
       "    <tr>\n",
       "      <th>2</th>\n",
       "      <td>0.346647</td>\n",
       "      <td>0.011832</td>\n",
       "      <td>0.599696</td>\n",
       "    </tr>\n",
       "    <tr>\n",
       "      <th>3</th>\n",
       "      <td>-1.300346</td>\n",
       "      <td>-0.579125</td>\n",
       "      <td>-1.107032</td>\n",
       "    </tr>\n",
       "    <tr>\n",
       "      <th>4</th>\n",
       "      <td>1.518512</td>\n",
       "      <td>-0.544518</td>\n",
       "      <td>-0.403825</td>\n",
       "    </tr>\n",
       "  </tbody>\n",
       "</table>\n",
       "</div>"
      ],
      "text/plain": [
       "          X         Y         Z\n",
       "0 -0.054464  0.115728  0.229677\n",
       "1  0.674308 -0.736683  0.766547\n",
       "2  0.346647  0.011832  0.599696\n",
       "3 -1.300346 -0.579125 -1.107032\n",
       "4  1.518512 -0.544518 -0.403825"
      ]
     },
     "execution_count": 8,
     "metadata": {},
     "output_type": "execute_result"
    }
   ],
   "source": [
    "df.head()"
   ]
  },
  {
   "cell_type": "code",
   "execution_count": 9,
   "id": "certified-politics",
   "metadata": {
    "execution": {
     "iopub.execute_input": "2021-10-05T06:52:13.751120Z",
     "iopub.status.busy": "2021-10-05T06:52:13.751008Z",
     "iopub.status.idle": "2021-10-05T06:52:14.057678Z",
     "shell.execute_reply": "2021-10-05T06:52:14.057268Z",
     "shell.execute_reply.started": "2021-10-05T06:52:13.751106Z"
    }
   },
   "outputs": [
    {
     "data": {
      "text/plain": [
       "array([0.21822383])"
      ]
     },
     "execution_count": 9,
     "metadata": {},
     "output_type": "execute_result"
    }
   ],
   "source": [
    "from sklearn.linear_model import LinearRegression\n",
    "\n",
    "X = df[['Y']]\n",
    "y = df.Z\n",
    "\n",
    "model = LinearRegression().fit(X, y)\n",
    "model.predict(np.array([[3]]))"
   ]
  },
  {
   "cell_type": "code",
   "execution_count": 10,
   "id": "laughing-person",
   "metadata": {
    "execution": {
     "iopub.execute_input": "2021-10-05T06:52:14.058400Z",
     "iopub.status.busy": "2021-10-05T06:52:14.058264Z",
     "iopub.status.idle": "2021-10-05T06:52:14.064895Z",
     "shell.execute_reply": "2021-10-05T06:52:14.064382Z",
     "shell.execute_reply.started": "2021-10-05T06:52:14.058382Z"
    }
   },
   "outputs": [
    {
     "data": {
      "text/plain": [
       "array([0.09937442])"
      ]
     },
     "execution_count": 10,
     "metadata": {},
     "output_type": "execute_result"
    }
   ],
   "source": [
    "X = df[['X']]\n",
    "y = df.Z\n",
    "\n",
    "model = LinearRegression().fit(X, y)\n",
    "model.predict(np.array([[3]]))"
   ]
  },
  {
   "cell_type": "code",
   "execution_count": 11,
   "id": "popular-constant",
   "metadata": {
    "execution": {
     "iopub.execute_input": "2021-10-05T06:52:14.065868Z",
     "iopub.status.busy": "2021-10-05T06:52:14.065608Z",
     "iopub.status.idle": "2021-10-05T06:52:14.081658Z",
     "shell.execute_reply": "2021-10-05T06:52:14.081247Z",
     "shell.execute_reply.started": "2021-10-05T06:52:14.065849Z"
    }
   },
   "outputs": [
    {
     "data": {
      "text/plain": [
       "array([0.21900358])"
      ]
     },
     "execution_count": 11,
     "metadata": {},
     "output_type": "execute_result"
    }
   ],
   "source": [
    "X = df[['X', 'Y']]\n",
    "y = df.Z\n",
    "\n",
    "model = LinearRegression().fit(X, y)\n",
    "model.predict(np.array([[1, 3]]))"
   ]
  },
  {
   "cell_type": "code",
   "execution_count": 12,
   "id": "tired-cutting",
   "metadata": {
    "execution": {
     "iopub.execute_input": "2021-10-05T06:52:14.082331Z",
     "iopub.status.busy": "2021-10-05T06:52:14.082204Z",
     "iopub.status.idle": "2021-10-05T06:52:14.089602Z",
     "shell.execute_reply": "2021-10-05T06:52:14.089231Z",
     "shell.execute_reply.started": "2021-10-05T06:52:14.082316Z"
    }
   },
   "outputs": [
    {
     "data": {
      "text/html": [
       "<div>\n",
       "<style scoped>\n",
       "    .dataframe tbody tr th:only-of-type {\n",
       "        vertical-align: middle;\n",
       "    }\n",
       "\n",
       "    .dataframe tbody tr th {\n",
       "        vertical-align: top;\n",
       "    }\n",
       "\n",
       "    .dataframe thead th {\n",
       "        text-align: right;\n",
       "    }\n",
       "</style>\n",
       "<table border=\"1\" class=\"dataframe\">\n",
       "  <thead>\n",
       "    <tr style=\"text-align: right;\">\n",
       "      <th></th>\n",
       "      <th>X</th>\n",
       "      <th>Y</th>\n",
       "      <th>Z</th>\n",
       "    </tr>\n",
       "  </thead>\n",
       "  <tbody>\n",
       "    <tr>\n",
       "      <th>X</th>\n",
       "      <td>0.990700</td>\n",
       "      <td>0.338077</td>\n",
       "      <td>0.031365</td>\n",
       "    </tr>\n",
       "    <tr>\n",
       "      <th>Y</th>\n",
       "      <td>0.338077</td>\n",
       "      <td>1.125325</td>\n",
       "      <td>0.079959</td>\n",
       "    </tr>\n",
       "    <tr>\n",
       "      <th>Z</th>\n",
       "      <td>0.031365</td>\n",
       "      <td>0.079959</td>\n",
       "      <td>0.990133</td>\n",
       "    </tr>\n",
       "  </tbody>\n",
       "</table>\n",
       "</div>"
      ],
      "text/plain": [
       "          X         Y         Z\n",
       "X  0.990700  0.338077  0.031365\n",
       "Y  0.338077  1.125325  0.079959\n",
       "Z  0.031365  0.079959  0.990133"
      ]
     },
     "execution_count": 12,
     "metadata": {},
     "output_type": "execute_result"
    }
   ],
   "source": [
    "df.cov()"
   ]
  },
  {
   "cell_type": "markdown",
   "id": "sexual-england",
   "metadata": {},
   "source": [
    "## Graphical Models and Their Applications"
   ]
  },
  {
   "cell_type": "markdown",
   "id": "maritime-kruger",
   "metadata": {},
   "source": [
    "### Study question 2.3.1"
   ]
  },
  {
   "cell_type": "code",
   "execution_count": 13,
   "id": "naval-magnitude",
   "metadata": {
    "execution": {
     "iopub.execute_input": "2021-10-05T06:52:14.090452Z",
     "iopub.status.busy": "2021-10-05T06:52:14.090205Z",
     "iopub.status.idle": "2021-10-05T06:52:14.093723Z",
     "shell.execute_reply": "2021-10-05T06:52:14.093293Z",
     "shell.execute_reply.started": "2021-10-05T06:52:14.090434Z"
    }
   },
   "outputs": [],
   "source": [
    "fig2_5 = nx.DiGraph()\n",
    "\n",
    "nodes = ['X', 'R', 'S', 'T', 'U', 'V', 'Y']\n",
    "edges = [('X', 'R'), ('R', 'S'), ('S', 'T'), ('U', 'T'), ('V', 'U'), ('V', 'Y')]\n",
    "\n",
    "_ = [fig2_5.add_node(n) for n in nodes]\n",
    "_ = [fig2_5.add_edge(p, c) for p, c in edges]"
   ]
  },
  {
   "cell_type": "code",
   "execution_count": 14,
   "id": "vertical-appraisal",
   "metadata": {
    "execution": {
     "iopub.execute_input": "2021-10-05T06:52:14.094559Z",
     "iopub.status.busy": "2021-10-05T06:52:14.094322Z",
     "iopub.status.idle": "2021-10-05T06:52:14.098113Z",
     "shell.execute_reply": "2021-10-05T06:52:14.097627Z",
     "shell.execute_reply.started": "2021-10-05T06:52:14.094542Z"
    }
   },
   "outputs": [],
   "source": [
    "fig2_6 = nx.DiGraph()\n",
    "\n",
    "nodes = ['X', 'R', 'S', 'T', 'U', 'V', 'Y', 'P']\n",
    "edges = [('X', 'R'), ('R', 'S'), ('S', 'T'), ('U', 'T'), ('V', 'U'), ('V', 'Y'), ('T', 'P')]\n",
    "\n",
    "_ = [fig2_6.add_node(n) for n in nodes]\n",
    "_ = [fig2_6.add_edge(p, c) for p, c in edges]"
   ]
  },
  {
   "cell_type": "markdown",
   "id": "critical-license",
   "metadata": {},
   "source": [
    "a. List all pairs of variables in the graph that are independent conditional on the set $Z=\\{R,V\\}$."
   ]
  },
  {
   "cell_type": "code",
   "execution_count": 15,
   "id": "raised-associate",
   "metadata": {
    "execution": {
     "iopub.execute_input": "2021-10-05T06:52:14.099032Z",
     "iopub.status.busy": "2021-10-05T06:52:14.098797Z",
     "iopub.status.idle": "2021-10-05T06:52:14.106071Z",
     "shell.execute_reply": "2021-10-05T06:52:14.105617Z",
     "shell.execute_reply.started": "2021-10-05T06:52:14.099015Z"
    }
   },
   "outputs": [],
   "source": [
    "def get_paths(g, source, target):\n",
    "    return all_simple_paths(g.to_undirected(), source, target)\n",
    "\n",
    "def get_descendants(g):\n",
    "    return {n: list(descendants(g, n)) for n in g.nodes()}\n",
    "\n",
    "def is_path_active(g, path, Z, descendants):\n",
    "    def get_triplet(i):\n",
    "        return path[i-1], path[i], path[i+1]\n",
    "    \n",
    "    def is_collider(x, z, y):\n",
    "        if g.has_edge(x, z) and g.has_edge(y, z):\n",
    "            return True\n",
    "        return False\n",
    "    \n",
    "    def is_collider_active(z):\n",
    "        if z in Z:\n",
    "            return True\n",
    "        if len(set(descendants[z]) & set(Z)) > 0:\n",
    "            return True\n",
    "        return False\n",
    "    \n",
    "    def is_noncollider_active(z):\n",
    "        if z in Z:\n",
    "            return False\n",
    "        return True\n",
    "    \n",
    "    def is_node_active(x, z, y):\n",
    "        if is_collider(x, z, y):\n",
    "            return is_collider_active(z)\n",
    "        return is_noncollider_active(z)\n",
    "    \n",
    "    nodes = (i for i in range(len(path)))\n",
    "    nodes = filter(lambda i: 0 < i < len(path) - 1, nodes)\n",
    "    nodes = map(lambda i: get_triplet(i), nodes)\n",
    "    \n",
    "    for x, z, y in nodes:\n",
    "        if not is_node_active(x, z, y):\n",
    "            return False\n",
    "        \n",
    "    return True\n",
    "\n",
    "def is_d_separated(g, source, target, Z=[]):\n",
    "    m = get_descendants(g)\n",
    "    paths = get_paths(g, source, target)\n",
    "    for p in paths:\n",
    "        if not is_path_active(g, p, Z, m):\n",
    "            return True\n",
    "    return False"
   ]
  },
  {
   "cell_type": "code",
   "execution_count": 16,
   "id": "miniature-roman",
   "metadata": {
    "execution": {
     "iopub.execute_input": "2021-10-05T06:52:14.106914Z",
     "iopub.status.busy": "2021-10-05T06:52:14.106680Z",
     "iopub.status.idle": "2021-10-05T06:52:14.112258Z",
     "shell.execute_reply": "2021-10-05T06:52:14.111862Z",
     "shell.execute_reply.started": "2021-10-05T06:52:14.106895Z"
    }
   },
   "outputs": [
    {
     "data": {
      "text/plain": [
       "True"
      ]
     },
     "execution_count": 16,
     "metadata": {},
     "output_type": "execute_result"
    }
   ],
   "source": [
    "is_d_separated(fig2_5, 'X', 'Y', ['R', 'V'])"
   ]
  },
  {
   "cell_type": "code",
   "execution_count": 17,
   "id": "suffering-baghdad",
   "metadata": {
    "execution": {
     "iopub.execute_input": "2021-10-05T06:52:14.113071Z",
     "iopub.status.busy": "2021-10-05T06:52:14.112857Z",
     "iopub.status.idle": "2021-10-05T06:52:14.119065Z",
     "shell.execute_reply": "2021-10-05T06:52:14.118568Z",
     "shell.execute_reply.started": "2021-10-05T06:52:14.113053Z"
    }
   },
   "outputs": [
    {
     "name": "stdout",
     "output_type": "stream",
     "text": [
      "I(X, S | [R,V]) = True\n",
      "I(X, T | [R,V]) = True\n",
      "I(X, U | [R,V]) = True\n",
      "I(X, Y | [R,V]) = True\n",
      "I(S, T | [R,V]) = False\n",
      "I(S, U | [R,V]) = True\n",
      "I(S, Y | [R,V]) = True\n",
      "I(T, U | [R,V]) = False\n",
      "I(T, Y | [R,V]) = True\n",
      "I(U, Y | [R,V]) = True\n"
     ]
    }
   ],
   "source": [
    "from itertools import combinations\n",
    "\n",
    "for source, target in combinations(['X', 'S', 'T', 'U', 'Y'], 2):\n",
    "    d_sep = is_d_separated(fig2_5, source, target, ['R', 'V'])\n",
    "    print(f'I({source}, {target} | [R,V]) = {d_sep}')"
   ]
  },
  {
   "cell_type": "markdown",
   "id": "decent-examination",
   "metadata": {},
   "source": [
    "b. For each pair of non-adjacent variables, give a set of variables that, when conditioned on, renders that pair independent."
   ]
  },
  {
   "cell_type": "code",
   "execution_count": 18,
   "id": "heated-colorado",
   "metadata": {
    "execution": {
     "iopub.execute_input": "2021-10-05T06:52:14.119950Z",
     "iopub.status.busy": "2021-10-05T06:52:14.119803Z",
     "iopub.status.idle": "2021-10-05T06:52:14.128363Z",
     "shell.execute_reply": "2021-10-05T06:52:14.127887Z",
     "shell.execute_reply.started": "2021-10-05T06:52:14.119933Z"
    }
   },
   "outputs": [],
   "source": [
    "from itertools import chain\n",
    "\n",
    "def get_neighbors(g):\n",
    "    return {n: set(g.predecessors(n)) | set(g.successors(n)) for n in g.nodes()}\n",
    "\n",
    "def all_nodes_in_paths(g, source, target):\n",
    "    paths = get_paths(g, source, target)\n",
    "    paths = (p[1:len(p)-1] for p in get_paths(g, source, target))\n",
    "    paths = chain(*paths)\n",
    "    paths = set(paths)\n",
    "    \n",
    "    return paths\n",
    "\n",
    "def get_conditional_independence_stmt(X, Y, Z):\n",
    "    if len(Z) == 0:\n",
    "        return f'I({X}, {Y})'\n",
    "    else:\n",
    "        given = ','.join(Z)\n",
    "        return f'I({X}, {Y} | {given})'\n",
    "    \n",
    "def get_implied_conditional_independencies(g):\n",
    "    n_map = get_neighbors(g)\n",
    "    \n",
    "    is_non_neighbor = lambda p: p[1] not in n_map[p[0]]\n",
    "    get_nodes_between = lambda p: (p[0], p[1], all_nodes_in_paths(g, p[0], p[1]))\n",
    "    to_triplet = lambda t: [(t[0], t[1], [z]) for z in t[2]] + [(t[0], t[1], [])]\n",
    "    d_sep = lambda t: (t[0], t[1], t[2], is_d_separated(g, t[0], t[1], t[2]))\n",
    "\n",
    "    pairs = combinations(g.nodes(), 2)\n",
    "    pairs = filter(is_non_neighbor, pairs)\n",
    "    pairs = map(get_nodes_between, pairs)\n",
    "    pairs = map(to_triplet, pairs)\n",
    "    pairs = chain(*pairs)\n",
    "    pairs = map(d_sep, pairs)\n",
    "    pairs = filter(lambda t: t[3], pairs)\n",
    "    pairs = map(lambda t: get_conditional_independence_stmt(t[0], t[1], t[2]), pairs)\n",
    "    \n",
    "    return pairs"
   ]
  },
  {
   "cell_type": "code",
   "execution_count": 19,
   "id": "herbal-weapon",
   "metadata": {
    "execution": {
     "iopub.execute_input": "2021-10-05T06:52:14.129212Z",
     "iopub.status.busy": "2021-10-05T06:52:14.128998Z",
     "iopub.status.idle": "2021-10-05T06:52:14.143177Z",
     "shell.execute_reply": "2021-10-05T06:52:14.142669Z",
     "shell.execute_reply.started": "2021-10-05T06:52:14.129194Z"
    }
   },
   "outputs": [
    {
     "data": {
      "text/plain": [
       "['I(X, S | R)',\n",
       " 'I(X, T | R)',\n",
       " 'I(X, T | S)',\n",
       " 'I(X, U | R)',\n",
       " 'I(X, U | S)',\n",
       " 'I(X, U)',\n",
       " 'I(X, V | R)',\n",
       " 'I(X, V | U)',\n",
       " 'I(X, V | S)',\n",
       " 'I(X, V)',\n",
       " 'I(X, Y | V)',\n",
       " 'I(X, Y | S)',\n",
       " 'I(X, Y | R)',\n",
       " 'I(X, Y | U)',\n",
       " 'I(X, Y)',\n",
       " 'I(R, T | S)',\n",
       " 'I(R, U | S)',\n",
       " 'I(R, U)',\n",
       " 'I(R, V | U)',\n",
       " 'I(R, V | S)',\n",
       " 'I(R, V)',\n",
       " 'I(R, Y | V)',\n",
       " 'I(R, Y | U)',\n",
       " 'I(R, Y | S)',\n",
       " 'I(R, Y)',\n",
       " 'I(S, U)',\n",
       " 'I(S, V | U)',\n",
       " 'I(S, V)',\n",
       " 'I(S, Y | U)',\n",
       " 'I(S, Y | V)',\n",
       " 'I(S, Y)',\n",
       " 'I(T, V | U)',\n",
       " 'I(T, Y | U)',\n",
       " 'I(T, Y | V)',\n",
       " 'I(U, Y | V)']"
      ]
     },
     "execution_count": 19,
     "metadata": {},
     "output_type": "execute_result"
    }
   ],
   "source": [
    "list(get_implied_conditional_independencies(fig2_5))"
   ]
  },
  {
   "cell_type": "markdown",
   "id": "incredible-apple",
   "metadata": {},
   "source": [
    "c. List all pairs of variables in the graph of Figure 2.6 that are independent conditional on the set $Z=\\{R,P\\}$."
   ]
  },
  {
   "cell_type": "code",
   "execution_count": 20,
   "id": "improved-liberia",
   "metadata": {
    "execution": {
     "iopub.execute_input": "2021-10-05T06:52:14.143928Z",
     "iopub.status.busy": "2021-10-05T06:52:14.143787Z",
     "iopub.status.idle": "2021-10-05T06:52:14.149930Z",
     "shell.execute_reply": "2021-10-05T06:52:14.149424Z",
     "shell.execute_reply.started": "2021-10-05T06:52:14.143911Z"
    }
   },
   "outputs": [
    {
     "name": "stdout",
     "output_type": "stream",
     "text": [
      "I(X, S | [R,P]) = True\n",
      "I(X, T | [R,P]) = True\n",
      "I(X, U | [R,P]) = True\n",
      "I(X, Y | [R,P]) = True\n",
      "I(X, V | [R,P]) = True\n"
     ]
    }
   ],
   "source": [
    "for source, target in combinations(['X', 'S', 'T', 'U', 'Y', 'V'], 2):\n",
    "    d_sep = is_d_separated(fig2_6, source, target, ['R', 'P'])\n",
    "    if d_sep:\n",
    "        print(f'I({source}, {target} | [R,P]) = {d_sep}')"
   ]
  },
  {
   "cell_type": "markdown",
   "id": "communist-railway",
   "metadata": {},
   "source": [
    "d. For each pair of non-adjacent variables in in Figure 2.6, give a set of variables that, when conditioned on,renders that pair independent."
   ]
  },
  {
   "cell_type": "code",
   "execution_count": 21,
   "id": "christian-specialist",
   "metadata": {
    "execution": {
     "iopub.execute_input": "2021-10-05T06:52:14.150650Z",
     "iopub.status.busy": "2021-10-05T06:52:14.150513Z",
     "iopub.status.idle": "2021-10-05T06:52:14.166284Z",
     "shell.execute_reply": "2021-10-05T06:52:14.165752Z",
     "shell.execute_reply.started": "2021-10-05T06:52:14.150633Z"
    }
   },
   "outputs": [
    {
     "data": {
      "text/plain": [
       "['I(X, S | R)',\n",
       " 'I(X, T | R)',\n",
       " 'I(X, T | S)',\n",
       " 'I(X, U | R)',\n",
       " 'I(X, U | S)',\n",
       " 'I(X, U)',\n",
       " 'I(X, V | R)',\n",
       " 'I(X, V | U)',\n",
       " 'I(X, V | S)',\n",
       " 'I(X, V)',\n",
       " 'I(X, Y | V)',\n",
       " 'I(X, Y | S)',\n",
       " 'I(X, Y | R)',\n",
       " 'I(X, Y | U)',\n",
       " 'I(X, Y)',\n",
       " 'I(X, P | R)',\n",
       " 'I(X, P | T)',\n",
       " 'I(X, P | S)',\n",
       " 'I(R, T | S)',\n",
       " 'I(R, U | S)',\n",
       " 'I(R, U)',\n",
       " 'I(R, V | U)',\n",
       " 'I(R, V | S)',\n",
       " 'I(R, V)',\n",
       " 'I(R, Y | V)',\n",
       " 'I(R, Y | U)',\n",
       " 'I(R, Y | S)',\n",
       " 'I(R, Y)',\n",
       " 'I(R, P | T)',\n",
       " 'I(R, P | S)',\n",
       " 'I(S, U)',\n",
       " 'I(S, V | U)',\n",
       " 'I(S, V)',\n",
       " 'I(S, Y | U)',\n",
       " 'I(S, Y | V)',\n",
       " 'I(S, Y)',\n",
       " 'I(S, P | T)',\n",
       " 'I(T, V | U)',\n",
       " 'I(T, Y | U)',\n",
       " 'I(T, Y | V)',\n",
       " 'I(U, Y | V)',\n",
       " 'I(U, P | T)',\n",
       " 'I(V, P | T)',\n",
       " 'I(V, P | U)',\n",
       " 'I(Y, P | T)',\n",
       " 'I(Y, P | U)',\n",
       " 'I(Y, P | V)']"
      ]
     },
     "execution_count": 21,
     "metadata": {},
     "output_type": "execute_result"
    }
   ],
   "source": [
    "list(get_implied_conditional_independencies(fig2_6))"
   ]
  },
  {
   "cell_type": "markdown",
   "id": "dress-pound",
   "metadata": {},
   "source": [
    "e. Suppose we generate data by the model described in Figure 2.5, and we fit them with the linear equation $Y=a+bX+cZ$. Which of the variables in the model may be chosen for $Z$ so as to guarantee that the slope b would be equal to zero?"
   ]
  },
  {
   "cell_type": "code",
   "execution_count": 22,
   "id": "fatty-outline",
   "metadata": {
    "execution": {
     "iopub.execute_input": "2021-10-05T06:52:14.167106Z",
     "iopub.status.busy": "2021-10-05T06:52:14.166957Z",
     "iopub.status.idle": "2021-10-05T06:52:14.172027Z",
     "shell.execute_reply": "2021-10-05T06:52:14.171346Z",
     "shell.execute_reply.started": "2021-10-05T06:52:14.167087Z"
    }
   },
   "outputs": [
    {
     "data": {
      "text/plain": [
       "[('R', True), ('S', True), ('T', False), ('U', True), ('V', True)]"
      ]
     },
     "execution_count": 22,
     "metadata": {},
     "output_type": "execute_result"
    }
   ],
   "source": [
    "[(z, is_d_separated(fig2_5, 'X', 'Y', [z])) \n",
    " for z in fig2_5.nodes() if z not in ['X', 'Y']]"
   ]
  },
  {
   "cell_type": "code",
   "execution_count": 23,
   "id": "selective-douglas",
   "metadata": {
    "execution": {
     "iopub.execute_input": "2021-10-05T06:52:14.172983Z",
     "iopub.status.busy": "2021-10-05T06:52:14.172765Z",
     "iopub.status.idle": "2021-10-05T06:52:14.224572Z",
     "shell.execute_reply": "2021-10-05T06:52:14.224091Z",
     "shell.execute_reply.started": "2021-10-05T06:52:14.172964Z"
    }
   },
   "outputs": [],
   "source": [
    "from networkx.algorithms.dag import topological_sort\n",
    "\n",
    "def simulate(g, ceof=0.7, n_samples=10_000):\n",
    "    parents = {n: set(g.predecessors(n)) for n in g.nodes()}\n",
    "    values = {}\n",
    "\n",
    "    nodes = list(topological_sort(g))\n",
    "\n",
    "    for n in nodes:\n",
    "        pas = parents[n]\n",
    "\n",
    "        if len(pas) == 0:\n",
    "            values[n] = np.random.normal(0, 1, n_samples)\n",
    "        else:\n",
    "            v = np.zeros(n_samples)\n",
    "            for pa in pas:\n",
    "                v = v + ceof * values[pa]\n",
    "            values[n] = v\n",
    "\n",
    "    df = pd.DataFrame(values)\n",
    "    return df\n",
    "\n",
    "# df = simulate(fig2_5)\n",
    "df = pd.read_csv('./fig2_5.csv')"
   ]
  },
  {
   "cell_type": "code",
   "execution_count": 24,
   "id": "electric-nashville",
   "metadata": {
    "execution": {
     "iopub.execute_input": "2021-10-05T06:52:14.225306Z",
     "iopub.status.busy": "2021-10-05T06:52:14.225169Z",
     "iopub.status.idle": "2021-10-05T06:52:14.234999Z",
     "shell.execute_reply": "2021-10-05T06:52:14.234379Z",
     "shell.execute_reply.started": "2021-10-05T06:52:14.225290Z"
    }
   },
   "outputs": [
    {
     "data": {
      "text/html": [
       "<div>\n",
       "<style scoped>\n",
       "    .dataframe tbody tr th:only-of-type {\n",
       "        vertical-align: middle;\n",
       "    }\n",
       "\n",
       "    .dataframe tbody tr th {\n",
       "        vertical-align: top;\n",
       "    }\n",
       "\n",
       "    .dataframe thead th {\n",
       "        text-align: right;\n",
       "    }\n",
       "</style>\n",
       "<table border=\"1\" class=\"dataframe\">\n",
       "  <thead>\n",
       "    <tr style=\"text-align: right;\">\n",
       "      <th></th>\n",
       "      <th>R</th>\n",
       "      <th>S</th>\n",
       "      <th>T</th>\n",
       "      <th>U</th>\n",
       "      <th>V</th>\n",
       "      <th>X</th>\n",
       "      <th>Y</th>\n",
       "    </tr>\n",
       "  </thead>\n",
       "  <tbody>\n",
       "    <tr>\n",
       "      <th>0</th>\n",
       "      <td>1.072982</td>\n",
       "      <td>1.276989</td>\n",
       "      <td>-0.086071</td>\n",
       "      <td>-1.208541</td>\n",
       "      <td>-1.382943</td>\n",
       "      <td>0.131102</td>\n",
       "      <td>-0.618901</td>\n",
       "    </tr>\n",
       "    <tr>\n",
       "      <th>1</th>\n",
       "      <td>0.156704</td>\n",
       "      <td>0.392222</td>\n",
       "      <td>-0.838862</td>\n",
       "      <td>-1.497830</td>\n",
       "      <td>0.806445</td>\n",
       "      <td>-0.905952</td>\n",
       "      <td>1.360863</td>\n",
       "    </tr>\n",
       "    <tr>\n",
       "      <th>2</th>\n",
       "      <td>0.662780</td>\n",
       "      <td>-0.668059</td>\n",
       "      <td>-1.097601</td>\n",
       "      <td>-1.089884</td>\n",
       "      <td>0.169829</td>\n",
       "      <td>0.612817</td>\n",
       "      <td>-0.412453</td>\n",
       "    </tr>\n",
       "    <tr>\n",
       "      <th>3</th>\n",
       "      <td>-0.970600</td>\n",
       "      <td>-0.646592</td>\n",
       "      <td>-0.481943</td>\n",
       "      <td>-0.197093</td>\n",
       "      <td>-0.001528</td>\n",
       "      <td>-1.624300</td>\n",
       "      <td>-0.778605</td>\n",
       "    </tr>\n",
       "    <tr>\n",
       "      <th>4</th>\n",
       "      <td>0.131710</td>\n",
       "      <td>-0.809683</td>\n",
       "      <td>-1.169966</td>\n",
       "      <td>-0.570742</td>\n",
       "      <td>-0.248697</td>\n",
       "      <td>-0.768592</td>\n",
       "      <td>0.987305</td>\n",
       "    </tr>\n",
       "  </tbody>\n",
       "</table>\n",
       "</div>"
      ],
      "text/plain": [
       "          R         S         T         U         V         X         Y\n",
       "0  1.072982  1.276989 -0.086071 -1.208541 -1.382943  0.131102 -0.618901\n",
       "1  0.156704  0.392222 -0.838862 -1.497830  0.806445 -0.905952  1.360863\n",
       "2  0.662780 -0.668059 -1.097601 -1.089884  0.169829  0.612817 -0.412453\n",
       "3 -0.970600 -0.646592 -0.481943 -0.197093 -0.001528 -1.624300 -0.778605\n",
       "4  0.131710 -0.809683 -1.169966 -0.570742 -0.248697 -0.768592  0.987305"
      ]
     },
     "execution_count": 24,
     "metadata": {},
     "output_type": "execute_result"
    }
   ],
   "source": [
    "df.head()"
   ]
  },
  {
   "cell_type": "code",
   "execution_count": 25,
   "id": "impressive-uncertainty",
   "metadata": {
    "execution": {
     "iopub.execute_input": "2021-10-05T06:52:14.237247Z",
     "iopub.status.busy": "2021-10-05T06:52:14.237040Z",
     "iopub.status.idle": "2021-10-05T06:52:14.401429Z",
     "shell.execute_reply": "2021-10-05T06:52:14.400973Z",
     "shell.execute_reply.started": "2021-10-05T06:52:14.237222Z"
    }
   },
   "outputs": [
    {
     "data": {
      "text/html": [
       "<table class=\"simpletable\">\n",
       "<caption>OLS Regression Results</caption>\n",
       "<tr>\n",
       "  <th>Dep. Variable:</th>            <td>Y</td>        <th>  R-squared:         </th> <td>   0.488</td> \n",
       "</tr>\n",
       "<tr>\n",
       "  <th>Model:</th>                   <td>OLS</td>       <th>  Adj. R-squared:    </th> <td>   0.488</td> \n",
       "</tr>\n",
       "<tr>\n",
       "  <th>Method:</th>             <td>Least Squares</td>  <th>  F-statistic:       </th> <td>   4761.</td> \n",
       "</tr>\n",
       "<tr>\n",
       "  <th>Date:</th>             <td>Tue, 05 Oct 2021</td> <th>  Prob (F-statistic):</th>  <td>  0.00</td>  \n",
       "</tr>\n",
       "<tr>\n",
       "  <th>Time:</th>                 <td>02:52:14</td>     <th>  Log-Likelihood:    </th> <td> -10897.</td> \n",
       "</tr>\n",
       "<tr>\n",
       "  <th>No. Observations:</th>      <td> 10000</td>      <th>  AIC:               </th> <td>2.180e+04</td>\n",
       "</tr>\n",
       "<tr>\n",
       "  <th>Df Residuals:</th>          <td>  9997</td>      <th>  BIC:               </th> <td>2.182e+04</td>\n",
       "</tr>\n",
       "<tr>\n",
       "  <th>Df Model:</th>              <td>     2</td>      <th>                     </th>     <td> </td>    \n",
       "</tr>\n",
       "<tr>\n",
       "  <th>Covariance Type:</th>      <td>nonrobust</td>    <th>                     </th>     <td> </td>    \n",
       "</tr>\n",
       "</table>\n",
       "<table class=\"simpletable\">\n",
       "<tr>\n",
       "      <td></td>         <th>coef</th>     <th>std err</th>      <th>t</th>      <th>P>|t|</th>  <th>[0.025</th>    <th>0.975]</th>  \n",
       "</tr>\n",
       "<tr>\n",
       "  <th>Intercept</th> <td>   -0.0041</td> <td>    0.007</td> <td>   -0.568</td> <td> 0.570</td> <td>   -0.018</td> <td>    0.010</td>\n",
       "</tr>\n",
       "<tr>\n",
       "  <th>X</th>         <td>   -0.0052</td> <td>    0.007</td> <td>   -0.710</td> <td> 0.478</td> <td>   -0.019</td> <td>    0.009</td>\n",
       "</tr>\n",
       "<tr>\n",
       "  <th>V</th>         <td>    0.7116</td> <td>    0.007</td> <td>   97.585</td> <td> 0.000</td> <td>    0.697</td> <td>    0.726</td>\n",
       "</tr>\n",
       "</table>\n",
       "<table class=\"simpletable\">\n",
       "<tr>\n",
       "  <th>Omnibus:</th>       <td> 0.358</td> <th>  Durbin-Watson:     </th> <td>   2.021</td>\n",
       "</tr>\n",
       "<tr>\n",
       "  <th>Prob(Omnibus):</th> <td> 0.836</td> <th>  Jarque-Bera (JB):  </th> <td>   0.364</td>\n",
       "</tr>\n",
       "<tr>\n",
       "  <th>Skew:</th>          <td> 0.015</td> <th>  Prob(JB):          </th> <td>   0.834</td>\n",
       "</tr>\n",
       "<tr>\n",
       "  <th>Kurtosis:</th>      <td> 2.995</td> <th>  Cond. No.          </th> <td>    1.02</td>\n",
       "</tr>\n",
       "</table><br/><br/>Notes:<br/>[1] Standard Errors assume that the covariance matrix of the errors is correctly specified."
      ],
      "text/plain": [
       "<class 'statsmodels.iolib.summary.Summary'>\n",
       "\"\"\"\n",
       "                            OLS Regression Results                            \n",
       "==============================================================================\n",
       "Dep. Variable:                      Y   R-squared:                       0.488\n",
       "Model:                            OLS   Adj. R-squared:                  0.488\n",
       "Method:                 Least Squares   F-statistic:                     4761.\n",
       "Date:                Tue, 05 Oct 2021   Prob (F-statistic):               0.00\n",
       "Time:                        02:52:14   Log-Likelihood:                -10897.\n",
       "No. Observations:               10000   AIC:                         2.180e+04\n",
       "Df Residuals:                    9997   BIC:                         2.182e+04\n",
       "Df Model:                           2                                         \n",
       "Covariance Type:            nonrobust                                         \n",
       "==============================================================================\n",
       "                 coef    std err          t      P>|t|      [0.025      0.975]\n",
       "------------------------------------------------------------------------------\n",
       "Intercept     -0.0041      0.007     -0.568      0.570      -0.018       0.010\n",
       "X             -0.0052      0.007     -0.710      0.478      -0.019       0.009\n",
       "V              0.7116      0.007     97.585      0.000       0.697       0.726\n",
       "==============================================================================\n",
       "Omnibus:                        0.358   Durbin-Watson:                   2.021\n",
       "Prob(Omnibus):                  0.836   Jarque-Bera (JB):                0.364\n",
       "Skew:                           0.015   Prob(JB):                        0.834\n",
       "Kurtosis:                       2.995   Cond. No.                         1.02\n",
       "==============================================================================\n",
       "\n",
       "Notes:\n",
       "[1] Standard Errors assume that the covariance matrix of the errors is correctly specified.\n",
       "\"\"\""
      ]
     },
     "execution_count": 25,
     "metadata": {},
     "output_type": "execute_result"
    }
   ],
   "source": [
    "import statsmodels.api as sm\n",
    "from patsy import dmatrices\n",
    "\n",
    "y, X = dmatrices('Y ~ X + V', data=df, return_type='dataframe')\n",
    "mod = sm.OLS(y, X)\n",
    "res = mod.fit()\n",
    "res.summary()"
   ]
  },
  {
   "cell_type": "code",
   "execution_count": 26,
   "id": "exotic-yellow",
   "metadata": {
    "execution": {
     "iopub.execute_input": "2021-10-05T06:52:14.403495Z",
     "iopub.status.busy": "2021-10-05T06:52:14.403335Z",
     "iopub.status.idle": "2021-10-05T06:52:14.422229Z",
     "shell.execute_reply": "2021-10-05T06:52:14.421761Z",
     "shell.execute_reply.started": "2021-10-05T06:52:14.403476Z"
    }
   },
   "outputs": [
    {
     "data": {
      "text/html": [
       "<table class=\"simpletable\">\n",
       "<caption>OLS Regression Results</caption>\n",
       "<tr>\n",
       "  <th>Dep. Variable:</th>            <td>Y</td>        <th>  R-squared:         </th> <td>   0.138</td> \n",
       "</tr>\n",
       "<tr>\n",
       "  <th>Model:</th>                   <td>OLS</td>       <th>  Adj. R-squared:    </th> <td>   0.138</td> \n",
       "</tr>\n",
       "<tr>\n",
       "  <th>Method:</th>             <td>Least Squares</td>  <th>  F-statistic:       </th> <td>   798.1</td> \n",
       "</tr>\n",
       "<tr>\n",
       "  <th>Date:</th>             <td>Tue, 05 Oct 2021</td> <th>  Prob (F-statistic):</th> <td>2.62e-322</td>\n",
       "</tr>\n",
       "<tr>\n",
       "  <th>Time:</th>                 <td>02:52:14</td>     <th>  Log-Likelihood:    </th> <td> -13502.</td> \n",
       "</tr>\n",
       "<tr>\n",
       "  <th>No. Observations:</th>      <td> 10000</td>      <th>  AIC:               </th> <td>2.701e+04</td>\n",
       "</tr>\n",
       "<tr>\n",
       "  <th>Df Residuals:</th>          <td>  9997</td>      <th>  BIC:               </th> <td>2.703e+04</td>\n",
       "</tr>\n",
       "<tr>\n",
       "  <th>Df Model:</th>              <td>     2</td>      <th>                     </th>     <td> </td>    \n",
       "</tr>\n",
       "<tr>\n",
       "  <th>Covariance Type:</th>      <td>nonrobust</td>    <th>                     </th>     <td> </td>    \n",
       "</tr>\n",
       "</table>\n",
       "<table class=\"simpletable\">\n",
       "<tr>\n",
       "      <td></td>         <th>coef</th>     <th>std err</th>      <th>t</th>      <th>P>|t|</th>  <th>[0.025</th>    <th>0.975]</th>  \n",
       "</tr>\n",
       "<tr>\n",
       "  <th>Intercept</th> <td>   -0.0048</td> <td>    0.009</td> <td>   -0.512</td> <td> 0.609</td> <td>   -0.023</td> <td>    0.014</td>\n",
       "</tr>\n",
       "<tr>\n",
       "  <th>X</th>         <td>   -0.1354</td> <td>    0.010</td> <td>  -13.464</td> <td> 0.000</td> <td>   -0.155</td> <td>   -0.116</td>\n",
       "</tr>\n",
       "<tr>\n",
       "  <th>T</th>         <td>    0.4006</td> <td>    0.010</td> <td>   39.952</td> <td> 0.000</td> <td>    0.381</td> <td>    0.420</td>\n",
       "</tr>\n",
       "</table>\n",
       "<table class=\"simpletable\">\n",
       "<tr>\n",
       "  <th>Omnibus:</th>       <td> 0.215</td> <th>  Durbin-Watson:     </th> <td>   1.992</td>\n",
       "</tr>\n",
       "<tr>\n",
       "  <th>Prob(Omnibus):</th> <td> 0.898</td> <th>  Jarque-Bera (JB):  </th> <td>   0.186</td>\n",
       "</tr>\n",
       "<tr>\n",
       "  <th>Skew:</th>          <td> 0.003</td> <th>  Prob(JB):          </th> <td>   0.911</td>\n",
       "</tr>\n",
       "<tr>\n",
       "  <th>Kurtosis:</th>      <td> 3.020</td> <th>  Cond. No.          </th> <td>    1.43</td>\n",
       "</tr>\n",
       "</table><br/><br/>Notes:<br/>[1] Standard Errors assume that the covariance matrix of the errors is correctly specified."
      ],
      "text/plain": [
       "<class 'statsmodels.iolib.summary.Summary'>\n",
       "\"\"\"\n",
       "                            OLS Regression Results                            \n",
       "==============================================================================\n",
       "Dep. Variable:                      Y   R-squared:                       0.138\n",
       "Model:                            OLS   Adj. R-squared:                  0.138\n",
       "Method:                 Least Squares   F-statistic:                     798.1\n",
       "Date:                Tue, 05 Oct 2021   Prob (F-statistic):          2.62e-322\n",
       "Time:                        02:52:14   Log-Likelihood:                -13502.\n",
       "No. Observations:               10000   AIC:                         2.701e+04\n",
       "Df Residuals:                    9997   BIC:                         2.703e+04\n",
       "Df Model:                           2                                         \n",
       "Covariance Type:            nonrobust                                         \n",
       "==============================================================================\n",
       "                 coef    std err          t      P>|t|      [0.025      0.975]\n",
       "------------------------------------------------------------------------------\n",
       "Intercept     -0.0048      0.009     -0.512      0.609      -0.023       0.014\n",
       "X             -0.1354      0.010    -13.464      0.000      -0.155      -0.116\n",
       "T              0.4006      0.010     39.952      0.000       0.381       0.420\n",
       "==============================================================================\n",
       "Omnibus:                        0.215   Durbin-Watson:                   1.992\n",
       "Prob(Omnibus):                  0.898   Jarque-Bera (JB):                0.186\n",
       "Skew:                           0.003   Prob(JB):                        0.911\n",
       "Kurtosis:                       3.020   Cond. No.                         1.43\n",
       "==============================================================================\n",
       "\n",
       "Notes:\n",
       "[1] Standard Errors assume that the covariance matrix of the errors is correctly specified.\n",
       "\"\"\""
      ]
     },
     "execution_count": 26,
     "metadata": {},
     "output_type": "execute_result"
    }
   ],
   "source": [
    "y, X = dmatrices('Y ~ X + T', data=df, return_type='dataframe')\n",
    "mod = sm.OLS(y, X)\n",
    "res = mod.fit()\n",
    "res.summary()"
   ]
  },
  {
   "cell_type": "markdown",
   "id": "encouraging-purple",
   "metadata": {},
   "source": [
    "f. Continuing question (e), suppose we fit the data with the equation:\n",
    "\n",
    "- $Y=a+bX+cR+dS+eT+fP$\n",
    "\n",
    "which of the coefficients would be zero?"
   ]
  },
  {
   "cell_type": "code",
   "execution_count": 27,
   "id": "vertical-pharmacy",
   "metadata": {
    "execution": {
     "iopub.execute_input": "2021-10-05T06:52:14.423075Z",
     "iopub.status.busy": "2021-10-05T06:52:14.422934Z",
     "iopub.status.idle": "2021-10-05T06:52:14.462669Z",
     "shell.execute_reply": "2021-10-05T06:52:14.462164Z",
     "shell.execute_reply.started": "2021-10-05T06:52:14.423057Z"
    }
   },
   "outputs": [
    {
     "data": {
      "text/html": [
       "<table class=\"simpletable\">\n",
       "<caption>OLS Regression Results</caption>\n",
       "<tr>\n",
       "  <th>Dep. Variable:</th>            <td>Y</td>        <th>  R-squared:         </th> <td>   0.235</td> \n",
       "</tr>\n",
       "<tr>\n",
       "  <th>Model:</th>                   <td>OLS</td>       <th>  Adj. R-squared:    </th> <td>   0.235</td> \n",
       "</tr>\n",
       "<tr>\n",
       "  <th>Method:</th>             <td>Least Squares</td>  <th>  F-statistic:       </th> <td>   613.8</td> \n",
       "</tr>\n",
       "<tr>\n",
       "  <th>Date:</th>             <td>Tue, 05 Oct 2021</td> <th>  Prob (F-statistic):</th>  <td>  0.00</td>  \n",
       "</tr>\n",
       "<tr>\n",
       "  <th>Time:</th>                 <td>02:52:14</td>     <th>  Log-Likelihood:    </th> <td> -12909.</td> \n",
       "</tr>\n",
       "<tr>\n",
       "  <th>No. Observations:</th>      <td> 10000</td>      <th>  AIC:               </th> <td>2.583e+04</td>\n",
       "</tr>\n",
       "<tr>\n",
       "  <th>Df Residuals:</th>          <td>  9994</td>      <th>  BIC:               </th> <td>2.587e+04</td>\n",
       "</tr>\n",
       "<tr>\n",
       "  <th>Df Model:</th>              <td>     5</td>      <th>                     </th>     <td> </td>    \n",
       "</tr>\n",
       "<tr>\n",
       "  <th>Covariance Type:</th>      <td>nonrobust</td>    <th>                     </th>     <td> </td>    \n",
       "</tr>\n",
       "</table>\n",
       "<table class=\"simpletable\">\n",
       "<tr>\n",
       "      <td></td>         <th>coef</th>     <th>std err</th>      <th>t</th>      <th>P>|t|</th>  <th>[0.025</th>    <th>0.975]</th>  \n",
       "</tr>\n",
       "<tr>\n",
       "  <th>Intercept</th> <td>    0.0082</td> <td>    0.009</td> <td>    0.934</td> <td> 0.350</td> <td>   -0.009</td> <td>    0.025</td>\n",
       "</tr>\n",
       "<tr>\n",
       "  <th>X</th>         <td>    0.0195</td> <td>    0.012</td> <td>    1.566</td> <td> 0.117</td> <td>   -0.005</td> <td>    0.044</td>\n",
       "</tr>\n",
       "<tr>\n",
       "  <th>R</th>         <td>   -0.0146</td> <td>    0.015</td> <td>   -0.968</td> <td> 0.333</td> <td>   -0.044</td> <td>    0.015</td>\n",
       "</tr>\n",
       "<tr>\n",
       "  <th>S</th>         <td>   -0.4554</td> <td>    0.015</td> <td>  -30.616</td> <td> 0.000</td> <td>   -0.485</td> <td>   -0.426</td>\n",
       "</tr>\n",
       "<tr>\n",
       "  <th>T</th>         <td>    0.6771</td> <td>    0.015</td> <td>   45.438</td> <td> 0.000</td> <td>    0.648</td> <td>    0.706</td>\n",
       "</tr>\n",
       "<tr>\n",
       "  <th>P</th>         <td>   -0.0042</td> <td>    0.012</td> <td>   -0.342</td> <td> 0.732</td> <td>   -0.028</td> <td>    0.020</td>\n",
       "</tr>\n",
       "</table>\n",
       "<table class=\"simpletable\">\n",
       "<tr>\n",
       "  <th>Omnibus:</th>       <td> 0.410</td> <th>  Durbin-Watson:     </th> <td>   2.017</td>\n",
       "</tr>\n",
       "<tr>\n",
       "  <th>Prob(Omnibus):</th> <td> 0.815</td> <th>  Jarque-Bera (JB):  </th> <td>   0.375</td>\n",
       "</tr>\n",
       "<tr>\n",
       "  <th>Skew:</th>          <td> 0.004</td> <th>  Prob(JB):          </th> <td>   0.829</td>\n",
       "</tr>\n",
       "<tr>\n",
       "  <th>Kurtosis:</th>      <td> 3.029</td> <th>  Cond. No.          </th> <td>    3.93</td>\n",
       "</tr>\n",
       "</table><br/><br/>Notes:<br/>[1] Standard Errors assume that the covariance matrix of the errors is correctly specified."
      ],
      "text/plain": [
       "<class 'statsmodels.iolib.summary.Summary'>\n",
       "\"\"\"\n",
       "                            OLS Regression Results                            \n",
       "==============================================================================\n",
       "Dep. Variable:                      Y   R-squared:                       0.235\n",
       "Model:                            OLS   Adj. R-squared:                  0.235\n",
       "Method:                 Least Squares   F-statistic:                     613.8\n",
       "Date:                Tue, 05 Oct 2021   Prob (F-statistic):               0.00\n",
       "Time:                        02:52:14   Log-Likelihood:                -12909.\n",
       "No. Observations:               10000   AIC:                         2.583e+04\n",
       "Df Residuals:                    9994   BIC:                         2.587e+04\n",
       "Df Model:                           5                                         \n",
       "Covariance Type:            nonrobust                                         \n",
       "==============================================================================\n",
       "                 coef    std err          t      P>|t|      [0.025      0.975]\n",
       "------------------------------------------------------------------------------\n",
       "Intercept      0.0082      0.009      0.934      0.350      -0.009       0.025\n",
       "X              0.0195      0.012      1.566      0.117      -0.005       0.044\n",
       "R             -0.0146      0.015     -0.968      0.333      -0.044       0.015\n",
       "S             -0.4554      0.015    -30.616      0.000      -0.485      -0.426\n",
       "T              0.6771      0.015     45.438      0.000       0.648       0.706\n",
       "P             -0.0042      0.012     -0.342      0.732      -0.028       0.020\n",
       "==============================================================================\n",
       "Omnibus:                        0.410   Durbin-Watson:                   2.017\n",
       "Prob(Omnibus):                  0.815   Jarque-Bera (JB):                0.375\n",
       "Skew:                           0.004   Prob(JB):                        0.829\n",
       "Kurtosis:                       3.029   Cond. No.                         3.93\n",
       "==============================================================================\n",
       "\n",
       "Notes:\n",
       "[1] Standard Errors assume that the covariance matrix of the errors is correctly specified.\n",
       "\"\"\""
      ]
     },
     "execution_count": 27,
     "metadata": {},
     "output_type": "execute_result"
    }
   ],
   "source": [
    "df = pd.read_csv('./fig2_6.csv')\n",
    "\n",
    "y, X = dmatrices('Y ~ X + R + S + T + P', data=df, return_type='dataframe')\n",
    "mod = sm.OLS(y, X)\n",
    "res = mod.fit()\n",
    "res.summary()"
   ]
  },
  {
   "cell_type": "markdown",
   "id": "floral-switch",
   "metadata": {},
   "source": [
    "### Study question 2.4.1"
   ]
  },
  {
   "cell_type": "code",
   "execution_count": 28,
   "id": "careful-function",
   "metadata": {
    "execution": {
     "iopub.execute_input": "2021-10-05T06:55:26.339290Z",
     "iopub.status.busy": "2021-10-05T06:55:26.339104Z",
     "iopub.status.idle": "2021-10-05T06:55:26.343626Z",
     "shell.execute_reply": "2021-10-05T06:55:26.343053Z",
     "shell.execute_reply.started": "2021-10-05T06:55:26.339270Z"
    }
   },
   "outputs": [],
   "source": [
    "fig2_9 = nx.DiGraph()\n",
    "\n",
    "nodes = ['Z1', 'Z2', 'Z3', 'X', 'W', 'Y']\n",
    "edges = [\n",
    "    ('Z1', 'Z3'), ('Z1', 'X'), \n",
    "    ('Z2', 'Z3'), ('Z2', 'Y'), \n",
    "    ('Z3', 'X'), ('Z3', 'Y'), \n",
    "    ('X', 'W'), ('W', 'Y')\n",
    "]\n",
    "\n",
    "_ = [fig2_9.add_node(n) for n in nodes]\n",
    "_ = [fig2_9.add_edge(p, c) for p, c in edges]"
   ]
  },
  {
   "cell_type": "markdown",
   "id": "cross-knock",
   "metadata": {},
   "source": [
    "a. For each pair of non-adjacent nodes in this graph, find a set of variables that d-separates that pair. What does this list tell us about independencies in the data?"
   ]
  },
  {
   "cell_type": "code",
   "execution_count": 29,
   "id": "controversial-framework",
   "metadata": {
    "execution": {
     "iopub.execute_input": "2021-10-05T06:56:11.623167Z",
     "iopub.status.busy": "2021-10-05T06:56:11.622930Z",
     "iopub.status.idle": "2021-10-05T06:56:11.638351Z",
     "shell.execute_reply": "2021-10-05T06:56:11.637773Z",
     "shell.execute_reply.started": "2021-10-05T06:56:11.623141Z"
    }
   },
   "outputs": [
    {
     "data": {
      "text/plain": [
       "['I(Z1, Z2 | X)',\n",
       " 'I(Z1, Z2 | W)',\n",
       " 'I(Z1, Z2 | Z3)',\n",
       " 'I(Z1, Z2)',\n",
       " 'I(Z1, W | X)',\n",
       " 'I(Z1, W | Z2)',\n",
       " 'I(Z1, W | Z3)',\n",
       " 'I(Z1, W)',\n",
       " 'I(Z1, Y | X)',\n",
       " 'I(Z1, Y | Z2)',\n",
       " 'I(Z1, Y | W)',\n",
       " 'I(Z1, Y | Z3)',\n",
       " 'I(Z1, Y)',\n",
       " 'I(Z2, X | Z1)',\n",
       " 'I(Z2, X | W)',\n",
       " 'I(Z2, X | Z3)',\n",
       " 'I(Z2, X)',\n",
       " 'I(Z2, W | X)',\n",
       " 'I(Z2, W | Z1)',\n",
       " 'I(Z2, W | Z3)',\n",
       " 'I(Z2, W)',\n",
       " 'I(Z3, W | X)',\n",
       " 'I(Z3, W | Z1)',\n",
       " 'I(Z3, W | Z2)',\n",
       " 'I(Z3, W)',\n",
       " 'I(X, Y | Z1)',\n",
       " 'I(X, Y | Z2)',\n",
       " 'I(X, Y | W)',\n",
       " 'I(X, Y | Z3)',\n",
       " 'I(X, Y)']"
      ]
     },
     "execution_count": 29,
     "metadata": {},
     "output_type": "execute_result"
    }
   ],
   "source": [
    "list(get_implied_conditional_independencies(fig2_9))"
   ]
  },
  {
   "cell_type": "code",
   "execution_count": null,
   "id": "round-radius",
   "metadata": {},
   "outputs": [],
   "source": []
  }
 ],
 "metadata": {
  "kernelspec": {
   "display_name": "Python 3",
   "language": "python",
   "name": "python3"
  },
  "language_info": {
   "codemirror_mode": {
    "name": "ipython",
    "version": 3
   },
   "file_extension": ".py",
   "mimetype": "text/x-python",
   "name": "python",
   "nbconvert_exporter": "python",
   "pygments_lexer": "ipython3",
   "version": "3.8.5"
  },
  "widgets": {
   "application/vnd.jupyter.widget-state+json": {
    "state": {},
    "version_major": 2,
    "version_minor": 0
   }
  }
 },
 "nbformat": 4,
 "nbformat_minor": 5
}
