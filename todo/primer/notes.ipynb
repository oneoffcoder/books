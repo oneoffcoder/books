{
 "cells": [
  {
   "cell_type": "markdown",
   "id": "ordered-mount",
   "metadata": {},
   "source": [
    "## Preliminaries"
   ]
  },
  {
   "cell_type": "markdown",
   "id": "joint-approval",
   "metadata": {},
   "source": [
    "### Study question 1.4.1"
   ]
  },
  {
   "cell_type": "code",
   "execution_count": 1,
   "id": "thousand-america",
   "metadata": {
    "execution": {
     "iopub.execute_input": "2021-10-03T03:26:36.386346Z",
     "iopub.status.busy": "2021-10-03T03:26:36.386121Z",
     "iopub.status.idle": "2021-10-03T03:26:36.575383Z",
     "shell.execute_reply": "2021-10-03T03:26:36.574974Z",
     "shell.execute_reply.started": "2021-10-03T03:26:36.386284Z"
    }
   },
   "outputs": [],
   "source": [
    "import networkx as nx\n",
    "\n",
    "g = nx.DiGraph()\n",
    "\n",
    "nodes = ['W', 'X', 'Y', 'Z', 'T']\n",
    "edges = [('X', 'W'), ('X', 'Y'), ('W', 'Y'), ('W', 'Z'), ('Y', 'Z'), ('Y', 'T'), ('Z', 'T')]\n",
    "\n",
    "_ = [g.add_node(n) for n in nodes]\n",
    "_ = [g.add_edge(p, c) for p, c in edges]"
   ]
  },
  {
   "cell_type": "code",
   "execution_count": 2,
   "id": "productive-float",
   "metadata": {
    "execution": {
     "iopub.execute_input": "2021-10-03T03:26:36.576085Z",
     "iopub.status.busy": "2021-10-03T03:26:36.575965Z",
     "iopub.status.idle": "2021-10-03T03:26:36.582689Z",
     "shell.execute_reply": "2021-10-03T03:26:36.582200Z",
     "shell.execute_reply.started": "2021-10-03T03:26:36.576070Z"
    }
   },
   "outputs": [
    {
     "data": {
      "text/plain": [
       "['W', 'Y']"
      ]
     },
     "execution_count": 2,
     "metadata": {},
     "output_type": "execute_result"
    }
   ],
   "source": [
    "list(g.predecessors('Z'))"
   ]
  },
  {
   "cell_type": "code",
   "execution_count": 3,
   "id": "weird-bahamas",
   "metadata": {
    "execution": {
     "iopub.execute_input": "2021-10-03T03:26:36.584204Z",
     "iopub.status.busy": "2021-10-03T03:26:36.583995Z",
     "iopub.status.idle": "2021-10-03T03:26:36.588684Z",
     "shell.execute_reply": "2021-10-03T03:26:36.588136Z",
     "shell.execute_reply.started": "2021-10-03T03:26:36.584180Z"
    }
   },
   "outputs": [
    {
     "data": {
      "text/plain": [
       "['Y', 'W', 'X']"
      ]
     },
     "execution_count": 3,
     "metadata": {},
     "output_type": "execute_result"
    }
   ],
   "source": [
    "from networkx.algorithms.dag import ancestors\n",
    "\n",
    "list(ancestors(g, 'Z'))"
   ]
  },
  {
   "cell_type": "code",
   "execution_count": 4,
   "id": "streaming-drilling",
   "metadata": {
    "execution": {
     "iopub.execute_input": "2021-10-03T03:26:36.590008Z",
     "iopub.status.busy": "2021-10-03T03:26:36.589796Z",
     "iopub.status.idle": "2021-10-03T03:26:36.593479Z",
     "shell.execute_reply": "2021-10-03T03:26:36.593036Z",
     "shell.execute_reply.started": "2021-10-03T03:26:36.589983Z"
    }
   },
   "outputs": [
    {
     "data": {
      "text/plain": [
       "['Y', 'Z']"
      ]
     },
     "execution_count": 4,
     "metadata": {},
     "output_type": "execute_result"
    }
   ],
   "source": [
    "list(g.successors('W'))"
   ]
  },
  {
   "cell_type": "code",
   "execution_count": 5,
   "id": "vietnamese-simon",
   "metadata": {
    "execution": {
     "iopub.execute_input": "2021-10-03T03:26:36.594752Z",
     "iopub.status.busy": "2021-10-03T03:26:36.594537Z",
     "iopub.status.idle": "2021-10-03T03:26:36.598886Z",
     "shell.execute_reply": "2021-10-03T03:26:36.598472Z",
     "shell.execute_reply.started": "2021-10-03T03:26:36.594726Z"
    }
   },
   "outputs": [
    {
     "data": {
      "text/plain": [
       "['Y', 'Z', 'T']"
      ]
     },
     "execution_count": 5,
     "metadata": {},
     "output_type": "execute_result"
    }
   ],
   "source": [
    "from networkx.algorithms.dag import descendants\n",
    "\n",
    "list(descendants(g, 'W'))"
   ]
  },
  {
   "cell_type": "code",
   "execution_count": 6,
   "id": "early-devil",
   "metadata": {
    "execution": {
     "iopub.execute_input": "2021-10-03T03:26:36.599579Z",
     "iopub.status.busy": "2021-10-03T03:26:36.599431Z",
     "iopub.status.idle": "2021-10-03T03:26:36.604034Z",
     "shell.execute_reply": "2021-10-03T03:26:36.603526Z",
     "shell.execute_reply.started": "2021-10-03T03:26:36.599564Z"
    }
   },
   "outputs": [
    {
     "data": {
      "text/plain": [
       "[['X', 'W', 'Y', 'Z', 'T'],\n",
       " ['X', 'W', 'Y', 'T'],\n",
       " ['X', 'W', 'Z', 'T'],\n",
       " ['X', 'Y', 'Z', 'T'],\n",
       " ['X', 'Y', 'T']]"
      ]
     },
     "execution_count": 6,
     "metadata": {},
     "output_type": "execute_result"
    }
   ],
   "source": [
    "from networkx.algorithms.simple_paths import all_simple_paths\n",
    "\n",
    "list(all_simple_paths(g, 'X', 'T'))"
   ]
  },
  {
   "cell_type": "markdown",
   "id": "physical-market",
   "metadata": {},
   "source": [
    "### Study question 1.5.1"
   ]
  },
  {
   "cell_type": "code",
   "execution_count": 7,
   "id": "serious-instruction",
   "metadata": {
    "execution": {
     "iopub.execute_input": "2021-10-03T03:26:36.604621Z",
     "iopub.status.busy": "2021-10-03T03:26:36.604493Z",
     "iopub.status.idle": "2021-10-03T03:26:36.751448Z",
     "shell.execute_reply": "2021-10-03T03:26:36.751008Z",
     "shell.execute_reply.started": "2021-10-03T03:26:36.604601Z"
    }
   },
   "outputs": [],
   "source": [
    "import numpy as np\n",
    "import pandas as pd\n",
    "\n",
    "np.random.seed(37)\n",
    "\n",
    "N = 10_000\n",
    "\n",
    "U_x = np.random.normal(0, 1, N)\n",
    "U_y = np.random.normal(0, 1, N)\n",
    "U_z = np.random.normal(0, 1, N)\n",
    "\n",
    "X = U_x\n",
    "Y = (1/3) * X + U_y\n",
    "Z = (1/16) * Y + U_z\n",
    "\n",
    "df = pd.DataFrame({\n",
    "    'X': X,\n",
    "    'Y': Y,\n",
    "    'Z': Z\n",
    "})"
   ]
  },
  {
   "cell_type": "code",
   "execution_count": 8,
   "id": "several-second",
   "metadata": {
    "execution": {
     "iopub.execute_input": "2021-10-03T03:26:36.752162Z",
     "iopub.status.busy": "2021-10-03T03:26:36.752018Z",
     "iopub.status.idle": "2021-10-03T03:26:36.760328Z",
     "shell.execute_reply": "2021-10-03T03:26:36.759995Z",
     "shell.execute_reply.started": "2021-10-03T03:26:36.752143Z"
    }
   },
   "outputs": [
    {
     "data": {
      "text/html": [
       "<div>\n",
       "<style scoped>\n",
       "    .dataframe tbody tr th:only-of-type {\n",
       "        vertical-align: middle;\n",
       "    }\n",
       "\n",
       "    .dataframe tbody tr th {\n",
       "        vertical-align: top;\n",
       "    }\n",
       "\n",
       "    .dataframe thead th {\n",
       "        text-align: right;\n",
       "    }\n",
       "</style>\n",
       "<table border=\"1\" class=\"dataframe\">\n",
       "  <thead>\n",
       "    <tr style=\"text-align: right;\">\n",
       "      <th></th>\n",
       "      <th>X</th>\n",
       "      <th>Y</th>\n",
       "      <th>Z</th>\n",
       "    </tr>\n",
       "  </thead>\n",
       "  <tbody>\n",
       "    <tr>\n",
       "      <th>0</th>\n",
       "      <td>-0.054464</td>\n",
       "      <td>0.115728</td>\n",
       "      <td>0.229677</td>\n",
       "    </tr>\n",
       "    <tr>\n",
       "      <th>1</th>\n",
       "      <td>0.674308</td>\n",
       "      <td>-0.736683</td>\n",
       "      <td>0.766547</td>\n",
       "    </tr>\n",
       "    <tr>\n",
       "      <th>2</th>\n",
       "      <td>0.346647</td>\n",
       "      <td>0.011832</td>\n",
       "      <td>0.599696</td>\n",
       "    </tr>\n",
       "    <tr>\n",
       "      <th>3</th>\n",
       "      <td>-1.300346</td>\n",
       "      <td>-0.579125</td>\n",
       "      <td>-1.107032</td>\n",
       "    </tr>\n",
       "    <tr>\n",
       "      <th>4</th>\n",
       "      <td>1.518512</td>\n",
       "      <td>-0.544518</td>\n",
       "      <td>-0.403825</td>\n",
       "    </tr>\n",
       "  </tbody>\n",
       "</table>\n",
       "</div>"
      ],
      "text/plain": [
       "          X         Y         Z\n",
       "0 -0.054464  0.115728  0.229677\n",
       "1  0.674308 -0.736683  0.766547\n",
       "2  0.346647  0.011832  0.599696\n",
       "3 -1.300346 -0.579125 -1.107032\n",
       "4  1.518512 -0.544518 -0.403825"
      ]
     },
     "execution_count": 8,
     "metadata": {},
     "output_type": "execute_result"
    }
   ],
   "source": [
    "df.head()"
   ]
  },
  {
   "cell_type": "code",
   "execution_count": 9,
   "id": "southeast-movie",
   "metadata": {
    "execution": {
     "iopub.execute_input": "2021-10-03T03:26:36.761543Z",
     "iopub.status.busy": "2021-10-03T03:26:36.761404Z",
     "iopub.status.idle": "2021-10-03T03:26:37.093842Z",
     "shell.execute_reply": "2021-10-03T03:26:37.093450Z",
     "shell.execute_reply.started": "2021-10-03T03:26:36.761527Z"
    }
   },
   "outputs": [
    {
     "data": {
      "text/plain": [
       "array([0.21822383])"
      ]
     },
     "execution_count": 9,
     "metadata": {},
     "output_type": "execute_result"
    }
   ],
   "source": [
    "from sklearn.linear_model import LinearRegression\n",
    "\n",
    "X = df[['Y']]\n",
    "y = df.Z\n",
    "\n",
    "model = LinearRegression().fit(X, y)\n",
    "model.predict(np.array([[3]]))"
   ]
  },
  {
   "cell_type": "code",
   "execution_count": 10,
   "id": "mathematical-feelings",
   "metadata": {
    "execution": {
     "iopub.execute_input": "2021-10-03T03:26:37.094675Z",
     "iopub.status.busy": "2021-10-03T03:26:37.094518Z",
     "iopub.status.idle": "2021-10-03T03:26:37.101261Z",
     "shell.execute_reply": "2021-10-03T03:26:37.100746Z",
     "shell.execute_reply.started": "2021-10-03T03:26:37.094655Z"
    }
   },
   "outputs": [
    {
     "data": {
      "text/plain": [
       "array([0.09937442])"
      ]
     },
     "execution_count": 10,
     "metadata": {},
     "output_type": "execute_result"
    }
   ],
   "source": [
    "X = df[['X']]\n",
    "y = df.Z\n",
    "\n",
    "model = LinearRegression().fit(X, y)\n",
    "model.predict(np.array([[3]]))"
   ]
  },
  {
   "cell_type": "code",
   "execution_count": 11,
   "id": "swiss-mercury",
   "metadata": {
    "execution": {
     "iopub.execute_input": "2021-10-03T03:26:37.102218Z",
     "iopub.status.busy": "2021-10-03T03:26:37.101965Z",
     "iopub.status.idle": "2021-10-03T03:26:37.118467Z",
     "shell.execute_reply": "2021-10-03T03:26:37.117986Z",
     "shell.execute_reply.started": "2021-10-03T03:26:37.102199Z"
    }
   },
   "outputs": [
    {
     "data": {
      "text/plain": [
       "array([0.21900358])"
      ]
     },
     "execution_count": 11,
     "metadata": {},
     "output_type": "execute_result"
    }
   ],
   "source": [
    "X = df[['X', 'Y']]\n",
    "y = df.Z\n",
    "\n",
    "model = LinearRegression().fit(X, y)\n",
    "model.predict(np.array([[1, 3]]))"
   ]
  },
  {
   "cell_type": "code",
   "execution_count": 12,
   "id": "blind-young",
   "metadata": {
    "execution": {
     "iopub.execute_input": "2021-10-03T03:26:37.119242Z",
     "iopub.status.busy": "2021-10-03T03:26:37.119104Z",
     "iopub.status.idle": "2021-10-03T03:26:37.125892Z",
     "shell.execute_reply": "2021-10-03T03:26:37.125225Z",
     "shell.execute_reply.started": "2021-10-03T03:26:37.119225Z"
    }
   },
   "outputs": [
    {
     "data": {
      "text/html": [
       "<div>\n",
       "<style scoped>\n",
       "    .dataframe tbody tr th:only-of-type {\n",
       "        vertical-align: middle;\n",
       "    }\n",
       "\n",
       "    .dataframe tbody tr th {\n",
       "        vertical-align: top;\n",
       "    }\n",
       "\n",
       "    .dataframe thead th {\n",
       "        text-align: right;\n",
       "    }\n",
       "</style>\n",
       "<table border=\"1\" class=\"dataframe\">\n",
       "  <thead>\n",
       "    <tr style=\"text-align: right;\">\n",
       "      <th></th>\n",
       "      <th>X</th>\n",
       "      <th>Y</th>\n",
       "      <th>Z</th>\n",
       "    </tr>\n",
       "  </thead>\n",
       "  <tbody>\n",
       "    <tr>\n",
       "      <th>X</th>\n",
       "      <td>0.990700</td>\n",
       "      <td>0.338077</td>\n",
       "      <td>0.031365</td>\n",
       "    </tr>\n",
       "    <tr>\n",
       "      <th>Y</th>\n",
       "      <td>0.338077</td>\n",
       "      <td>1.125325</td>\n",
       "      <td>0.079959</td>\n",
       "    </tr>\n",
       "    <tr>\n",
       "      <th>Z</th>\n",
       "      <td>0.031365</td>\n",
       "      <td>0.079959</td>\n",
       "      <td>0.990133</td>\n",
       "    </tr>\n",
       "  </tbody>\n",
       "</table>\n",
       "</div>"
      ],
      "text/plain": [
       "          X         Y         Z\n",
       "X  0.990700  0.338077  0.031365\n",
       "Y  0.338077  1.125325  0.079959\n",
       "Z  0.031365  0.079959  0.990133"
      ]
     },
     "execution_count": 12,
     "metadata": {},
     "output_type": "execute_result"
    }
   ],
   "source": [
    "df.cov()"
   ]
  },
  {
   "cell_type": "markdown",
   "id": "massive-tourism",
   "metadata": {},
   "source": [
    "## Graphical Models and Their Applications"
   ]
  },
  {
   "cell_type": "markdown",
   "id": "circular-rover",
   "metadata": {},
   "source": [
    "### Study question 2.3.1"
   ]
  },
  {
   "cell_type": "code",
   "execution_count": 13,
   "id": "respective-adaptation",
   "metadata": {
    "execution": {
     "iopub.execute_input": "2021-10-03T03:26:37.126772Z",
     "iopub.status.busy": "2021-10-03T03:26:37.126626Z",
     "iopub.status.idle": "2021-10-03T03:26:37.130316Z",
     "shell.execute_reply": "2021-10-03T03:26:37.129823Z",
     "shell.execute_reply.started": "2021-10-03T03:26:37.126755Z"
    }
   },
   "outputs": [],
   "source": [
    "fig2_5 = nx.DiGraph()\n",
    "\n",
    "nodes = ['X', 'R', 'S', 'T', 'U', 'V', 'Y']\n",
    "edges = [('X', 'R'), ('R', 'S'), ('S', 'T'), ('U', 'T'), ('V', 'U'), ('V', 'Y')]\n",
    "\n",
    "_ = [fig2_5.add_node(n) for n in nodes]\n",
    "_ = [fig2_5.add_edge(p, c) for p, c in edges]"
   ]
  },
  {
   "cell_type": "code",
   "execution_count": 14,
   "id": "objective-still",
   "metadata": {
    "execution": {
     "iopub.execute_input": "2021-10-03T03:26:37.131124Z",
     "iopub.status.busy": "2021-10-03T03:26:37.130956Z",
     "iopub.status.idle": "2021-10-03T03:26:37.135476Z",
     "shell.execute_reply": "2021-10-03T03:26:37.135058Z",
     "shell.execute_reply.started": "2021-10-03T03:26:37.131103Z"
    }
   },
   "outputs": [],
   "source": [
    "fig2_6 = nx.DiGraph()\n",
    "\n",
    "nodes = ['X', 'R', 'S', 'T', 'U', 'V', 'Y', 'P']\n",
    "edges = [('X', 'R'), ('R', 'S'), ('S', 'T'), ('U', 'T'), ('V', 'U'), ('V', 'Y'), ('T', 'P')]\n",
    "\n",
    "_ = [fig2_6.add_node(n) for n in nodes]\n",
    "_ = [fig2_6.add_edge(p, c) for p, c in edges]"
   ]
  },
  {
   "cell_type": "code",
   "execution_count": null,
   "id": "normal-bottom",
   "metadata": {},
   "outputs": [],
   "source": []
  }
 ],
 "metadata": {
  "kernelspec": {
   "display_name": "Python 3",
   "language": "python",
   "name": "python3"
  },
  "language_info": {
   "codemirror_mode": {
    "name": "ipython",
    "version": 3
   },
   "file_extension": ".py",
   "mimetype": "text/x-python",
   "name": "python",
   "nbconvert_exporter": "python",
   "pygments_lexer": "ipython3",
   "version": "3.8.5"
  },
  "widgets": {
   "application/vnd.jupyter.widget-state+json": {
    "state": {},
    "version_major": 2,
    "version_minor": 0
   }
  }
 },
 "nbformat": 4,
 "nbformat_minor": 5
}
