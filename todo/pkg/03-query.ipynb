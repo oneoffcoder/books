{
 "cells": [
  {
   "cell_type": "markdown",
   "id": "25cad656-4382-4831-8f0b-34f35c5a8519",
   "metadata": {},
   "source": [
    "# Query"
   ]
  },
  {
   "cell_type": "markdown",
   "id": "f4253a3c-a359-44b5-a1db-a6b898ec2779",
   "metadata": {},
   "source": [
    "## Load data"
   ]
  },
  {
   "cell_type": "code",
   "execution_count": 1,
   "id": "65590ba2-b571-4abc-bd0c-41a5c96ca77a",
   "metadata": {},
   "outputs": [
    {
     "data": {
      "text/plain": [
       "((90, 1539), (90, 1536), (90, 1536), (90,), (90,), (90,))"
      ]
     },
     "execution_count": 1,
     "metadata": {},
     "output_type": "execute_result"
    }
   ],
   "source": [
    "import pandas as pd\n",
    "\n",
    "Xy = pd.read_csv('./stash/Xytc.csv')\n",
    "X = Xy[Xy.columns.drop(['title', 'y', 'c'])]\n",
    "M = X.values\n",
    "y = Xy['y']\n",
    "t = Xy['title']\n",
    "c = Xy['c']\n",
    "\n",
    "Xy.shape, X.shape, M.shape, t.shape, y.shape, c.shape"
   ]
  },
  {
   "cell_type": "code",
   "execution_count": 2,
   "id": "e965c9b9-8980-45e1-91aa-5cae41a73fce",
   "metadata": {},
   "outputs": [
    {
     "data": {
      "text/html": [
       "<div>\n",
       "<style scoped>\n",
       "    .dataframe tbody tr th:only-of-type {\n",
       "        vertical-align: middle;\n",
       "    }\n",
       "\n",
       "    .dataframe tbody tr th {\n",
       "        vertical-align: top;\n",
       "    }\n",
       "\n",
       "    .dataframe thead th {\n",
       "        text-align: right;\n",
       "    }\n",
       "</style>\n",
       "<table border=\"1\" class=\"dataframe\">\n",
       "  <thead>\n",
       "    <tr style=\"text-align: right;\">\n",
       "      <th></th>\n",
       "      <th>title</th>\n",
       "      <th>y</th>\n",
       "      <th>c</th>\n",
       "    </tr>\n",
       "  </thead>\n",
       "  <tbody>\n",
       "    <tr>\n",
       "      <th>0</th>\n",
       "      <td>The Hundred-Page Machine Learning Book</td>\n",
       "      <td>machine_learning</td>\n",
       "      <td>7</td>\n",
       "    </tr>\n",
       "    <tr>\n",
       "      <th>1</th>\n",
       "      <td>Programming Python</td>\n",
       "      <td>python</td>\n",
       "      <td>11</td>\n",
       "    </tr>\n",
       "    <tr>\n",
       "      <th>2</th>\n",
       "      <td>The Java Language Specification</td>\n",
       "      <td>java</td>\n",
       "      <td>12</td>\n",
       "    </tr>\n",
       "    <tr>\n",
       "      <th>3</th>\n",
       "      <td>Artificial Intelligence: A Modern Approach</td>\n",
       "      <td>computer_science</td>\n",
       "      <td>7</td>\n",
       "    </tr>\n",
       "    <tr>\n",
       "      <th>4</th>\n",
       "      <td>Speaking JavaScript: An In-Depth Guide for Pro...</td>\n",
       "      <td>javascript</td>\n",
       "      <td>5</td>\n",
       "    </tr>\n",
       "  </tbody>\n",
       "</table>\n",
       "</div>"
      ],
      "text/plain": [
       "                                               title                 y   c\n",
       "0             The Hundred-Page Machine Learning Book  machine_learning   7\n",
       "1                                 Programming Python            python  11\n",
       "2                    The Java Language Specification              java  12\n",
       "3         Artificial Intelligence: A Modern Approach  computer_science   7\n",
       "4  Speaking JavaScript: An In-Depth Guide for Pro...        javascript   5"
      ]
     },
     "execution_count": 2,
     "metadata": {},
     "output_type": "execute_result"
    }
   ],
   "source": [
    "Xy[['title', 'y', 'c']].head()"
   ]
  },
  {
   "cell_type": "markdown",
   "id": "c6bdace1-016b-48f2-ae74-b3f780af043d",
   "metadata": {},
   "source": [
    "## Manual similarity"
   ]
  },
  {
   "cell_type": "code",
   "execution_count": 3,
   "id": "7085bfd4-0f7f-4b65-8801-6e899e653e52",
   "metadata": {},
   "outputs": [],
   "source": [
    "from openai import OpenAI\n",
    "import numpy as np\n",
    "\n",
    "def embed_func(docs, model='text-embedding-ada-002'):\n",
    "    client = OpenAI()\n",
    "    docs = [d.replace('\\n', ' ') for d in docs]\n",
    "    res = client.embeddings.create(input=docs, model=model)\n",
    "    return [d.embedding for d in res.data]\n",
    "\n",
    "def get_query(doc):\n",
    "    v = embed_func([doc])\n",
    "    return np.array(v[0]).reshape(1, -1)"
   ]
  },
  {
   "cell_type": "code",
   "execution_count": 4,
   "id": "1eb21703-a0a1-44c4-af0d-764a7deb24db",
   "metadata": {},
   "outputs": [],
   "source": [
    "q = get_query('java')"
   ]
  },
  {
   "cell_type": "code",
   "execution_count": 5,
   "id": "a402ab68-e638-4bd2-b204-3a4e1e64974f",
   "metadata": {},
   "outputs": [
    {
     "data": {
      "text/plain": [
       "(1, 1536)"
      ]
     },
     "execution_count": 5,
     "metadata": {},
     "output_type": "execute_result"
    }
   ],
   "source": [
    "q.shape"
   ]
  },
  {
   "cell_type": "code",
   "execution_count": 6,
   "id": "6ea02937-fb1b-4e8a-965a-c43aef88a031",
   "metadata": {},
   "outputs": [
    {
     "data": {
      "text/plain": [
       "array([[0.75620226, 0.82191143, 0.85270945, 0.77329626, 0.81568013,\n",
       "        0.83236009, 0.78334782, 0.77840476, 0.79508663, 0.80488755,\n",
       "        0.79164975, 0.73128099, 0.78161609, 0.75559099, 0.81313488,\n",
       "        0.76628753, 0.7614802 , 0.78256975, 0.75278296, 0.73819919,\n",
       "        0.73481335, 0.77438821, 0.7849678 , 0.7358972 , 0.76641887,\n",
       "        0.78284678, 0.73030078, 0.77287208, 0.75486842, 0.76532978,\n",
       "        0.76187055, 0.77997775, 0.75899437, 0.8462908 , 0.75206765,\n",
       "        0.77664705, 0.76767852, 0.8108311 , 0.78038733, 0.881127  ,\n",
       "        0.75612125, 0.79508663, 0.80369215, 0.74262596, 0.74555309,\n",
       "        0.79233768, 0.77471897, 0.75338057, 0.7803994 , 0.85961638,\n",
       "        0.79324922, 0.7915885 , 0.78046965, 0.74783312, 0.77565827,\n",
       "        0.78968255, 0.83236009, 0.81233559, 0.79691991, 0.83185281,\n",
       "        0.7583959 , 0.78431428, 0.77444394, 0.73503698, 0.81339892,\n",
       "        0.75255622, 0.76638075, 0.77589243, 0.82187042, 0.76227486,\n",
       "        0.85538339, 0.79819681, 0.74123089, 0.81742936, 0.7193089 ,\n",
       "        0.73707644, 0.74048719, 0.75227096, 0.77400235, 0.87647451,\n",
       "        0.82338791, 0.7706755 , 0.76948722, 0.75050797, 0.7709666 ,\n",
       "        0.80482635, 0.78262707, 0.7639848 , 0.76539305, 0.75091087]])"
      ]
     },
     "execution_count": 6,
     "metadata": {},
     "output_type": "execute_result"
    }
   ],
   "source": [
    "from sklearn.metrics.pairwise import cosine_similarity\n",
    "\n",
    "cosine_similarity(q, M)"
   ]
  },
  {
   "cell_type": "markdown",
   "id": "888e71b4-d02a-478e-9da8-d99d666a550a",
   "metadata": {},
   "source": [
    "## Langchain vector search similarity"
   ]
  },
  {
   "cell_type": "code",
   "execution_count": 7,
   "id": "8e6e808c-52d5-46b4-a6b4-159bd44167b1",
   "metadata": {},
   "outputs": [],
   "source": [
    "import pathlib\n",
    "from langchain_openai import OpenAIEmbeddings\n",
    "from langchain.vectorstores import Chroma\n",
    "\n",
    "def get_db(db_path=pathlib.Path('./book_vdb')):\n",
    "    db = Chroma(\n",
    "        persist_directory=str(db_path), \n",
    "        embedding_function=OpenAIEmbeddings(model='text-embedding-ada-002')\n",
    "    )\n",
    "    return db\n",
    "\n",
    "db = get_db()"
   ]
  },
  {
   "cell_type": "code",
   "execution_count": 8,
   "id": "1c3b20ca-4139-452c-9b43-269a0a1fb8c3",
   "metadata": {},
   "outputs": [
    {
     "data": {
      "text/plain": [
       "[Document(page_content='The Java™ Programming Language', metadata={'subject': 'java', 'topic': 12}),\n",
       " Document(page_content='Effective Java', metadata={'subject': 'java', 'topic': 12}),\n",
       " Document(page_content='Thinking in Java', metadata={'subject': 'java', 'topic': 12}),\n",
       " Document(page_content='Head First Java', metadata={'subject': 'java', 'topic': 12})]"
      ]
     },
     "execution_count": 8,
     "metadata": {},
     "output_type": "execute_result"
    }
   ],
   "source": [
    "docs = db.search('java', search_type='similarity')\n",
    "docs"
   ]
  },
  {
   "cell_type": "code",
   "execution_count": 9,
   "id": "c3e3a90b-e3cb-4d72-af41-b64d842ddf5a",
   "metadata": {},
   "outputs": [
    {
     "data": {
      "text/plain": [
       "[Document(page_content='The Java™ Programming Language', metadata={'subject': 'java', 'topic': 12}),\n",
       " Document(page_content='Effective Java', metadata={'subject': 'java', 'topic': 12}),\n",
       " Document(page_content='JavaScript: The Good Parts', metadata={'subject': 'javascript', 'topic': 13}),\n",
       " Document(page_content='Python Crash Course', metadata={'subject': 'python', 'topic': 11})]"
      ]
     },
     "execution_count": 9,
     "metadata": {},
     "output_type": "execute_result"
    }
   ],
   "source": [
    "docs = db.search('java', search_type='mmr')\n",
    "docs"
   ]
  },
  {
   "cell_type": "code",
   "execution_count": 10,
   "id": "cabd0116-49c7-4886-98bd-e1e851df56d4",
   "metadata": {},
   "outputs": [
    {
     "data": {
      "text/plain": [
       "12"
      ]
     },
     "execution_count": 10,
     "metadata": {},
     "output_type": "execute_result"
    }
   ],
   "source": [
    "topic = docs[0].metadata['topic']\n",
    "topic"
   ]
  },
  {
   "cell_type": "markdown",
   "id": "7be57a3b-def0-4bf5-bb66-cede395bd50a",
   "metadata": {},
   "source": [
    "## Chroma search similarity"
   ]
  },
  {
   "cell_type": "code",
   "execution_count": 11,
   "id": "0d7d352b-6acd-41d5-8583-57f0a9f65008",
   "metadata": {},
   "outputs": [],
   "source": [
    "import chromadb\n",
    "from chromadb.config import Settings\n",
    "\n",
    "client = chromadb.PersistentClient(\n",
    "    path='./vdb', \n",
    "    settings=Settings(anonymized_telemetry=False)\n",
    ")\n",
    "collection = client.create_collection(\n",
    "    name='books',\n",
    "    get_or_create=True\n",
    ")"
   ]
  },
  {
   "cell_type": "code",
   "execution_count": 12,
   "id": "13561397-e502-4066-be64-580e94840c04",
   "metadata": {},
   "outputs": [
    {
     "data": {
      "text/plain": [
       "{'ids': [['39', '79', '49', '70', '2']],\n",
       " 'distances': None,\n",
       " 'metadatas': [[{'subject': 'java', 'topic': 12},\n",
       "   {'subject': 'java', 'topic': 12},\n",
       "   {'subject': 'java', 'topic': 12},\n",
       "   {'subject': 'java', 'topic': 12},\n",
       "   {'subject': 'java', 'topic': 12}]],\n",
       " 'embeddings': None,\n",
       " 'documents': None,\n",
       " 'uris': None,\n",
       " 'data': None}"
      ]
     },
     "execution_count": 12,
     "metadata": {},
     "output_type": "execute_result"
    }
   ],
   "source": [
    "def collection_query(txt, n_results=5):\n",
    "    return collection.query(\n",
    "        query_embeddings=get_query(txt),\n",
    "        n_results=n_results,\n",
    "        include=['metadatas']\n",
    "    )\n",
    "\n",
    "collection_query('java')"
   ]
  },
  {
   "cell_type": "markdown",
   "id": "c67f9ff3-3632-4d4c-a267-68b3caa7f1de",
   "metadata": {},
   "source": [
    "## Probabilistic search similarity"
   ]
  },
  {
   "cell_type": "code",
   "execution_count": 13,
   "id": "94e13d59-dbf5-4d3a-a23a-b3077e05e575",
   "metadata": {},
   "outputs": [],
   "source": [
    "from pybbn.serde import dict_to_model\n",
    "import json\n",
    "\n",
    "with open('./stash/model.json', 'r') as fp:\n",
    "    model = dict_to_model(json.load(fp))"
   ]
  },
  {
   "cell_type": "code",
   "execution_count": 14,
   "id": "243ad886-53e6-489e-b7c0-dff315c06736",
   "metadata": {},
   "outputs": [],
   "source": [
    "def get_lift(m, p):\n",
    "    return m \\\n",
    "    .join(p[['__p__']], lsuffix='lhs', rsuffix='rhs') \\\n",
    "    .assign(__p__=lambda d: d['__p__rhs'] / d['__p__lhs']) \\\n",
    "    [m.columns]"
   ]
  },
  {
   "cell_type": "code",
   "execution_count": 15,
   "id": "fbf474a8-0cdb-4327-81f9-eed5b1379d4a",
   "metadata": {},
   "outputs": [],
   "source": [
    "mq = model.pquery()"
   ]
  },
  {
   "cell_type": "code",
   "execution_count": 16,
   "id": "76f0b93b-0ed7-430d-afe1-8ec6f1972fce",
   "metadata": {},
   "outputs": [],
   "source": [
    "e = model.e({f'c{topic}': 1})\n",
    "pq = model.pquery(evidences=e)"
   ]
  },
  {
   "cell_type": "code",
   "execution_count": 17,
   "id": "952af5ec-8753-4106-a218-3f33c6161f06",
   "metadata": {},
   "outputs": [],
   "source": [
    "lq = {k: get_lift(mq[k], pq[k]) for k in pq}"
   ]
  },
  {
   "cell_type": "code",
   "execution_count": 18,
   "id": "1d6903bd-9555-4cf2-b38b-6efc774a42b4",
   "metadata": {},
   "outputs": [
    {
     "data": {
      "text/html": [
       "<div>\n",
       "<style scoped>\n",
       "    .dataframe tbody tr th:only-of-type {\n",
       "        vertical-align: middle;\n",
       "    }\n",
       "\n",
       "    .dataframe tbody tr th {\n",
       "        vertical-align: top;\n",
       "    }\n",
       "\n",
       "    .dataframe thead th {\n",
       "        text-align: right;\n",
       "    }\n",
       "</style>\n",
       "<table border=\"1\" class=\"dataframe\">\n",
       "  <thead>\n",
       "    <tr style=\"text-align: right;\">\n",
       "      <th></th>\n",
       "      <th>c0</th>\n",
       "      <th>__p__</th>\n",
       "    </tr>\n",
       "  </thead>\n",
       "  <tbody>\n",
       "    <tr>\n",
       "      <th>0</th>\n",
       "      <td>0</td>\n",
       "      <td>0.011807</td>\n",
       "    </tr>\n",
       "    <tr>\n",
       "      <th>1</th>\n",
       "      <td>1</td>\n",
       "      <td>0.988193</td>\n",
       "    </tr>\n",
       "  </tbody>\n",
       "</table>\n",
       "</div>"
      ],
      "text/plain": [
       "   c0     __p__\n",
       "0   0  0.011807\n",
       "1   1  0.988193"
      ]
     },
     "execution_count": 18,
     "metadata": {},
     "output_type": "execute_result"
    }
   ],
   "source": [
    "mq['c0']"
   ]
  },
  {
   "cell_type": "code",
   "execution_count": 19,
   "id": "6773cb2e-e774-49e3-b18d-04bca2a7da2e",
   "metadata": {},
   "outputs": [
    {
     "data": {
      "text/html": [
       "<div>\n",
       "<style scoped>\n",
       "    .dataframe tbody tr th:only-of-type {\n",
       "        vertical-align: middle;\n",
       "    }\n",
       "\n",
       "    .dataframe tbody tr th {\n",
       "        vertical-align: top;\n",
       "    }\n",
       "\n",
       "    .dataframe thead th {\n",
       "        text-align: right;\n",
       "    }\n",
       "</style>\n",
       "<table border=\"1\" class=\"dataframe\">\n",
       "  <thead>\n",
       "    <tr style=\"text-align: right;\">\n",
       "      <th></th>\n",
       "      <th>c0</th>\n",
       "      <th>__p__</th>\n",
       "    </tr>\n",
       "  </thead>\n",
       "  <tbody>\n",
       "    <tr>\n",
       "      <th>0</th>\n",
       "      <td>0</td>\n",
       "      <td>0.002822</td>\n",
       "    </tr>\n",
       "    <tr>\n",
       "      <th>1</th>\n",
       "      <td>1</td>\n",
       "      <td>0.997178</td>\n",
       "    </tr>\n",
       "  </tbody>\n",
       "</table>\n",
       "</div>"
      ],
      "text/plain": [
       "   c0     __p__\n",
       "0   0  0.002822\n",
       "1   1  0.997178"
      ]
     },
     "execution_count": 19,
     "metadata": {},
     "output_type": "execute_result"
    }
   ],
   "source": [
    "pq['c0']"
   ]
  },
  {
   "cell_type": "code",
   "execution_count": 20,
   "id": "5c323e3d-3593-4442-a51f-78147ac5cc64",
   "metadata": {},
   "outputs": [
    {
     "data": {
      "text/html": [
       "<div>\n",
       "<style scoped>\n",
       "    .dataframe tbody tr th:only-of-type {\n",
       "        vertical-align: middle;\n",
       "    }\n",
       "\n",
       "    .dataframe tbody tr th {\n",
       "        vertical-align: top;\n",
       "    }\n",
       "\n",
       "    .dataframe thead th {\n",
       "        text-align: right;\n",
       "    }\n",
       "</style>\n",
       "<table border=\"1\" class=\"dataframe\">\n",
       "  <thead>\n",
       "    <tr style=\"text-align: right;\">\n",
       "      <th></th>\n",
       "      <th>c0</th>\n",
       "      <th>__p__</th>\n",
       "    </tr>\n",
       "  </thead>\n",
       "  <tbody>\n",
       "    <tr>\n",
       "      <th>0</th>\n",
       "      <td>0</td>\n",
       "      <td>0.238969</td>\n",
       "    </tr>\n",
       "    <tr>\n",
       "      <th>1</th>\n",
       "      <td>1</td>\n",
       "      <td>1.009093</td>\n",
       "    </tr>\n",
       "  </tbody>\n",
       "</table>\n",
       "</div>"
      ],
      "text/plain": [
       "   c0     __p__\n",
       "0   0  0.238969\n",
       "1   1  1.009093"
      ]
     },
     "execution_count": 20,
     "metadata": {},
     "output_type": "execute_result"
    }
   ],
   "source": [
    "lq['c0']"
   ]
  },
  {
   "cell_type": "code",
   "execution_count": 21,
   "id": "e758dd9e-bda4-4c79-bc59-f547724e56ec",
   "metadata": {},
   "outputs": [
    {
     "data": {
      "text/plain": [
       "1.0090930330818166"
      ]
     },
     "execution_count": 21,
     "metadata": {},
     "output_type": "execute_result"
    }
   ],
   "source": [
    "lq['c0']['__p__'].max()"
   ]
  },
  {
   "cell_type": "code",
   "execution_count": 22,
   "id": "8150fc3c-4174-4049-bd9b-9945309576f6",
   "metadata": {},
   "outputs": [
    {
     "data": {
      "text/html": [
       "<div>\n",
       "<style scoped>\n",
       "    .dataframe tbody tr th:only-of-type {\n",
       "        vertical-align: middle;\n",
       "    }\n",
       "\n",
       "    .dataframe tbody tr th {\n",
       "        vertical-align: top;\n",
       "    }\n",
       "\n",
       "    .dataframe thead th {\n",
       "        text-align: right;\n",
       "    }\n",
       "</style>\n",
       "<table border=\"1\" class=\"dataframe\">\n",
       "  <thead>\n",
       "    <tr style=\"text-align: right;\">\n",
       "      <th></th>\n",
       "      <th>topic</th>\n",
       "      <th>lift</th>\n",
       "    </tr>\n",
       "  </thead>\n",
       "  <tbody>\n",
       "    <tr>\n",
       "      <th>0</th>\n",
       "      <td>6</td>\n",
       "      <td>9.103931</td>\n",
       "    </tr>\n",
       "    <tr>\n",
       "      <th>1</th>\n",
       "      <td>3</td>\n",
       "      <td>8.829003</td>\n",
       "    </tr>\n",
       "    <tr>\n",
       "      <th>2</th>\n",
       "      <td>7</td>\n",
       "      <td>1.923106</td>\n",
       "    </tr>\n",
       "  </tbody>\n",
       "</table>\n",
       "</div>"
      ],
      "text/plain": [
       "   topic      lift\n",
       "0      6  9.103931\n",
       "1      3  8.829003\n",
       "2      7  1.923106"
      ]
     },
     "execution_count": 22,
     "metadata": {},
     "output_type": "execute_result"
    }
   ],
   "source": [
    "topics = ((_k, _df) for _k, _df in lq.items())\n",
    "topics = filter(lambda tup: f'c{topic}' != tup[0], topics)\n",
    "topics = map(lambda tup: (tup[0], tup[1], tup[1]['__p__'].max()), topics)\n",
    "topics = sorted(topics, key=lambda tup: tup[2], reverse=True)\n",
    "topics = map(lambda tup: (int(tup[0][1:]), tup[2]), topics)\n",
    "topics = filter(lambda tup: tup[1] > 1.5, topics)\n",
    "topics = map(lambda tup: {'topic': tup[0], 'lift': tup[1]}, topics)\n",
    "\n",
    "pd.DataFrame(topics)"
   ]
  },
  {
   "cell_type": "markdown",
   "id": "76531321-9a99-429b-af9b-6cda80904c49",
   "metadata": {},
   "source": [
    "## Search other topics"
   ]
  },
  {
   "cell_type": "code",
   "execution_count": 23,
   "id": "615934fc-f8ac-40da-b6be-bf677ddc610e",
   "metadata": {},
   "outputs": [
    {
     "data": {
      "text/plain": [
       "[Document(page_content='The Art of Computer Programming', metadata={'subject': 'computer_science', 'topic': 6}),\n",
       " Document(page_content='Structure and Interpretation of Computer Programs', metadata={'subject': 'computer_science', 'topic': 6}),\n",
       " Document(page_content='Introduction to Algorithms', metadata={'subject': 'computer_science', 'topic': 6})]"
      ]
     },
     "execution_count": 23,
     "metadata": {},
     "output_type": "execute_result"
    }
   ],
   "source": [
    "db.search('java', search_type='mmr', filter={'topic': 6})"
   ]
  },
  {
   "cell_type": "code",
   "execution_count": 27,
   "id": "507222dc-61e2-46b7-8383-16a00ed936e2",
   "metadata": {},
   "outputs": [
    {
     "data": {
      "text/plain": [
       "[Document(page_content='Operating System Concepts', metadata={'subject': 'computer_science', 'topic': 3}),\n",
       " Document(page_content='Computer Networking: A Top-Down Approach', metadata={'subject': 'computer_science', 'topic': 3}),\n",
       " Document(page_content='Principles: Life and Work', metadata={'subject': 'finance', 'topic': 3}),\n",
       " Document(page_content='Machine Learning: A Probabilistic Perspective', metadata={'subject': 'machine_learning', 'topic': 3})]"
      ]
     },
     "execution_count": 27,
     "metadata": {},
     "output_type": "execute_result"
    }
   ],
   "source": [
    "db.search('java', search_type='mmr', filter={'topic': 3})"
   ]
  },
  {
   "cell_type": "code",
   "execution_count": 28,
   "id": "7d12b3fb-ed10-4648-9108-769f17b2498d",
   "metadata": {},
   "outputs": [
    {
     "data": {
      "text/plain": [
       "[Document(page_content='Spring in Action', metadata={'subject': 'java', 'topic': 7}),\n",
       " Document(page_content='Machine Learning Yearning', metadata={'subject': 'machine_learning', 'topic': 7}),\n",
       " Document(page_content='Artificial Intelligence: A Modern Approach', metadata={'subject': 'computer_science', 'topic': 7}),\n",
       " Document(page_content='Hands-On Machine Learning with Scikit-Learn, Keras, and TensorFlow', metadata={'subject': 'machine_learning', 'topic': 7})]"
      ]
     },
     "execution_count": 28,
     "metadata": {},
     "output_type": "execute_result"
    }
   ],
   "source": [
    "db.search('java', search_type='mmr', filter={'topic': 7})"
   ]
  },
  {
   "cell_type": "code",
   "execution_count": 24,
   "id": "4bbe054e-57e6-4e0c-ae5b-32f00e1dafd4",
   "metadata": {},
   "outputs": [
    {
     "data": {
      "text/plain": [
       "[Document(page_content='The Art of Computer Programming', metadata={'subject': 'computer_science', 'topic': 6}),\n",
       " Document(page_content='Structure and Interpretation of Computer Programs', metadata={'subject': 'computer_science', 'topic': 6}),\n",
       " Document(page_content='Introduction to Algorithms', metadata={'subject': 'computer_science', 'topic': 6})]"
      ]
     },
     "execution_count": 24,
     "metadata": {},
     "output_type": "execute_result"
    }
   ],
   "source": [
    "db.search('java', search_type='similarity', filter={'topic': 6})"
   ]
  },
  {
   "cell_type": "code",
   "execution_count": 26,
   "id": "d505fbb5-518c-4e7c-ab8e-e2acd08b9bd0",
   "metadata": {},
   "outputs": [
    {
     "data": {
      "text/plain": [
       "{'ids': [['57', '45', '6']],\n",
       " 'distances': [[0.3753288051549073, 0.41532464663156055, 0.43330439504246915]],\n",
       " 'metadatas': [[{'subject': 'computer_science', 'topic': 6},\n",
       "   {'subject': 'computer_science', 'topic': 6},\n",
       "   {'subject': 'computer_science', 'topic': 6}]],\n",
       " 'embeddings': None,\n",
       " 'documents': [['The Art of Computer Programming',\n",
       "   'Structure and Interpretation of Computer Programs',\n",
       "   'Introduction to Algorithms']],\n",
       " 'uris': None,\n",
       " 'data': None}"
      ]
     },
     "execution_count": 26,
     "metadata": {},
     "output_type": "execute_result"
    }
   ],
   "source": [
    "collection.query(\n",
    "    query_embeddings=get_query('java'),\n",
    "    where={'topic': {'$eq': 6}},\n",
    "    n_results=3\n",
    ")"
   ]
  },
  {
   "cell_type": "code",
   "execution_count": null,
   "id": "876f9fde-a84c-4558-aadc-a8586541a0c8",
   "metadata": {},
   "outputs": [],
   "source": []
  }
 ],
 "metadata": {
  "kernelspec": {
   "display_name": "Python 3 (ipykernel)",
   "language": "python",
   "name": "python3"
  },
  "language_info": {
   "codemirror_mode": {
    "name": "ipython",
    "version": 3
   },
   "file_extension": ".py",
   "mimetype": "text/x-python",
   "name": "python",
   "nbconvert_exporter": "python",
   "pygments_lexer": "ipython3",
   "version": "3.11.5"
  }
 },
 "nbformat": 4,
 "nbformat_minor": 5
}
