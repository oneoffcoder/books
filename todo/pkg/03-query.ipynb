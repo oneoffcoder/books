{
 "cells": [
  {
   "cell_type": "code",
   "execution_count": 5,
   "id": "65590ba2-b571-4abc-bd0c-41a5c96ca77a",
   "metadata": {},
   "outputs": [
    {
     "data": {
      "text/plain": [
       "((90, 1538), (90, 1536), (90, 1536), (90,), (90,))"
      ]
     },
     "execution_count": 5,
     "metadata": {},
     "output_type": "execute_result"
    }
   ],
   "source": [
    "import pandas as pd\n",
    "\n",
    "Xy = pd.read_csv('./stash/Xy.csv')\n",
    "X = Xy[Xy.columns.drop(['title', 'y'])]\n",
    "M = X.values\n",
    "t = Xy['title']\n",
    "y = Xy['y']\n",
    "\n",
    "Xy.shape, X.shape, M.shape, t.shape, y.shape"
   ]
  },
  {
   "cell_type": "code",
   "execution_count": 18,
   "id": "e965c9b9-8980-45e1-91aa-5cae41a73fce",
   "metadata": {},
   "outputs": [
    {
     "data": {
      "text/html": [
       "<div>\n",
       "<style scoped>\n",
       "    .dataframe tbody tr th:only-of-type {\n",
       "        vertical-align: middle;\n",
       "    }\n",
       "\n",
       "    .dataframe tbody tr th {\n",
       "        vertical-align: top;\n",
       "    }\n",
       "\n",
       "    .dataframe thead th {\n",
       "        text-align: right;\n",
       "    }\n",
       "</style>\n",
       "<table border=\"1\" class=\"dataframe\">\n",
       "  <thead>\n",
       "    <tr style=\"text-align: right;\">\n",
       "      <th></th>\n",
       "      <th>title</th>\n",
       "      <th>y</th>\n",
       "    </tr>\n",
       "  </thead>\n",
       "  <tbody>\n",
       "    <tr>\n",
       "      <th>0</th>\n",
       "      <td>Java: The Complete Reference</td>\n",
       "      <td>java</td>\n",
       "    </tr>\n",
       "    <tr>\n",
       "      <th>1</th>\n",
       "      <td>Core Java An Integrated Approach (Black Book)</td>\n",
       "      <td>java</td>\n",
       "    </tr>\n",
       "    <tr>\n",
       "      <th>2</th>\n",
       "      <td>Head First Java</td>\n",
       "      <td>java</td>\n",
       "    </tr>\n",
       "    <tr>\n",
       "      <th>3</th>\n",
       "      <td>Effective Java</td>\n",
       "      <td>java</td>\n",
       "    </tr>\n",
       "    <tr>\n",
       "      <th>4</th>\n",
       "      <td>Thinking in Java</td>\n",
       "      <td>java</td>\n",
       "    </tr>\n",
       "  </tbody>\n",
       "</table>\n",
       "</div>"
      ],
      "text/plain": [
       "                                           title     y\n",
       "0                   Java: The Complete Reference  java\n",
       "1  Core Java An Integrated Approach (Black Book)  java\n",
       "2                                Head First Java  java\n",
       "3                                 Effective Java  java\n",
       "4                               Thinking in Java  java"
      ]
     },
     "execution_count": 18,
     "metadata": {},
     "output_type": "execute_result"
    }
   ],
   "source": [
    "Xy[['title', 'y']].head()"
   ]
  },
  {
   "cell_type": "code",
   "execution_count": 14,
   "id": "7085bfd4-0f7f-4b65-8801-6e899e653e52",
   "metadata": {},
   "outputs": [],
   "source": [
    "from openai import OpenAI\n",
    "import numpy as np\n",
    "\n",
    "def embed_func(docs, model='text-embedding-ada-002'):\n",
    "    client = OpenAI()\n",
    "    docs = [d.replace('\\n', ' ') for d in docs]\n",
    "    res = client.embeddings.create(input=docs, model=model)\n",
    "    return [d.embedding for d in res.data]\n",
    "\n",
    "def query(doc):\n",
    "    v = embed_func([doc])\n",
    "    return np.array(v[0]).reshape(1, -1)"
   ]
  },
  {
   "cell_type": "code",
   "execution_count": 15,
   "id": "1eb21703-a0a1-44c4-af0d-764a7deb24db",
   "metadata": {},
   "outputs": [],
   "source": [
    "q = query('java')"
   ]
  },
  {
   "cell_type": "code",
   "execution_count": 16,
   "id": "a402ab68-e638-4bd2-b204-3a4e1e64974f",
   "metadata": {},
   "outputs": [
    {
     "data": {
      "text/plain": [
       "(1, 1536)"
      ]
     },
     "execution_count": 16,
     "metadata": {},
     "output_type": "execute_result"
    }
   ],
   "source": [
    "q.shape"
   ]
  },
  {
   "cell_type": "code",
   "execution_count": 19,
   "id": "6ea02937-fb1b-4e8a-965a-c43aef88a031",
   "metadata": {},
   "outputs": [
    {
     "data": {
      "text/plain": [
       "array([[0.8462908 , 0.83185281, 0.85538339, 0.87647451, 0.85961638,\n",
       "        0.85270945, 0.881127  , 0.81339892, 0.82338791, 0.77840476,\n",
       "        0.73819919, 0.74783312, 0.73707644, 0.74555309, 0.73503698,\n",
       "        0.75091087, 0.7358972 , 0.7193089 , 0.73481335, 0.74123089,\n",
       "        0.83236009, 0.79508663, 0.78262707, 0.81313488, 0.79819681,\n",
       "        0.79164975, 0.81742936, 0.81568013, 0.82187042, 0.80369215,\n",
       "        0.80488755, 0.75255622, 0.7849678 , 0.78256975, 0.8108311 ,\n",
       "        0.80482635, 0.7915885 , 0.76187055, 0.77997775, 0.82191143,\n",
       "        0.75486842, 0.73128099, 0.75050797, 0.74262596, 0.7614802 ,\n",
       "        0.75338057, 0.74048719, 0.75612125, 0.73030078, 0.75278296,\n",
       "        0.77400235, 0.76227486, 0.75206765, 0.7639848 , 0.7583959 ,\n",
       "        0.75620226, 0.77471897, 0.75559099, 0.76638075, 0.78284678,\n",
       "        0.75899437, 0.77287208, 0.7706755 , 0.76948722, 0.76641887,\n",
       "        0.77664705, 0.76532978, 0.7709666 , 0.7803994 , 0.76767852,\n",
       "        0.78334782, 0.79233768, 0.81233559, 0.78038733, 0.78968255,\n",
       "        0.76628753, 0.76539305, 0.77438821, 0.79324922, 0.77329626,\n",
       "        0.83236009, 0.79508663, 0.78431428, 0.79691991, 0.77589243,\n",
       "        0.77565827, 0.78161609, 0.77444394, 0.75227096, 0.78046965]])"
      ]
     },
     "execution_count": 19,
     "metadata": {},
     "output_type": "execute_result"
    }
   ],
   "source": [
    "from sklearn.metrics.pairwise import cosine_similarity\n",
    "\n",
    "cosine_similarity(q, M)"
   ]
  },
  {
   "cell_type": "code",
   "execution_count": null,
   "id": "8e6e808c-52d5-46b4-a6b4-159bd44167b1",
   "metadata": {},
   "outputs": [],
   "source": []
  }
 ],
 "metadata": {
  "kernelspec": {
   "display_name": "Python 3 (ipykernel)",
   "language": "python",
   "name": "python3"
  },
  "language_info": {
   "codemirror_mode": {
    "name": "ipython",
    "version": 3
   },
   "file_extension": ".py",
   "mimetype": "text/x-python",
   "name": "python",
   "nbconvert_exporter": "python",
   "pygments_lexer": "ipython3",
   "version": "3.11.5"
  }
 },
 "nbformat": 4,
 "nbformat_minor": 5
}
