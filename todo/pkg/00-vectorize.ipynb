{
 "cells": [
  {
   "cell_type": "markdown",
   "id": "0e97c2e1-53c6-487a-ae50-7884d1f76158",
   "metadata": {},
   "source": [
    "# Create Embeddings"
   ]
  },
  {
   "cell_type": "markdown",
   "id": "bf60c003-9f0f-4d25-8a67-776ad7c54ff2",
   "metadata": {},
   "source": [
    "## Load data"
   ]
  },
  {
   "cell_type": "code",
   "execution_count": 6,
   "id": "98b2684f-c5e8-4220-962e-9b143467fc98",
   "metadata": {},
   "outputs": [
    {
     "data": {
      "text/plain": [
       "(90, 2)"
      ]
     },
     "execution_count": 6,
     "metadata": {},
     "output_type": "execute_result"
    }
   ],
   "source": [
    "import pathlib\n",
    "import pandas as pd\n",
    "\n",
    "def load(path):\n",
    "    with open(path, 'r') as fp:\n",
    "        df = fp.read()\n",
    "        df = df.split('\\n')\n",
    "        df = [line.strip().replace('\"', '') for line in df if len(line.strip()) > 0]\n",
    "        return pd.DataFrame({'title': df, 'y': path.stem})\n",
    "\n",
    "df = pathlib.Path('./data').glob('*.txt')\n",
    "df = [load(p) for p in df]\n",
    "df = pd.concat(df).reset_index(drop=True)\n",
    "df.shape"
   ]
  },
  {
   "cell_type": "code",
   "execution_count": 82,
   "id": "6163d8d7-e62c-4a32-a551-2fe2fb42ea00",
   "metadata": {},
   "outputs": [
    {
     "data": {
      "text/html": [
       "<div>\n",
       "<style scoped>\n",
       "    .dataframe tbody tr th:only-of-type {\n",
       "        vertical-align: middle;\n",
       "    }\n",
       "\n",
       "    .dataframe tbody tr th {\n",
       "        vertical-align: top;\n",
       "    }\n",
       "\n",
       "    .dataframe thead th {\n",
       "        text-align: right;\n",
       "    }\n",
       "</style>\n",
       "<table border=\"1\" class=\"dataframe\">\n",
       "  <thead>\n",
       "    <tr style=\"text-align: right;\">\n",
       "      <th></th>\n",
       "      <th>title</th>\n",
       "      <th>y</th>\n",
       "    </tr>\n",
       "  </thead>\n",
       "  <tbody>\n",
       "    <tr>\n",
       "      <th>0</th>\n",
       "      <td>Java: The Complete Reference</td>\n",
       "      <td>java</td>\n",
       "    </tr>\n",
       "    <tr>\n",
       "      <th>1</th>\n",
       "      <td>Core Java An Integrated Approach (Black Book)</td>\n",
       "      <td>java</td>\n",
       "    </tr>\n",
       "    <tr>\n",
       "      <th>2</th>\n",
       "      <td>Head First Java</td>\n",
       "      <td>java</td>\n",
       "    </tr>\n",
       "    <tr>\n",
       "      <th>3</th>\n",
       "      <td>Effective Java</td>\n",
       "      <td>java</td>\n",
       "    </tr>\n",
       "    <tr>\n",
       "      <th>4</th>\n",
       "      <td>Thinking in Java</td>\n",
       "      <td>java</td>\n",
       "    </tr>\n",
       "  </tbody>\n",
       "</table>\n",
       "</div>"
      ],
      "text/plain": [
       "                                           title     y\n",
       "0                   Java: The Complete Reference  java\n",
       "1  Core Java An Integrated Approach (Black Book)  java\n",
       "2                                Head First Java  java\n",
       "3                                 Effective Java  java\n",
       "4                               Thinking in Java  java"
      ]
     },
     "execution_count": 82,
     "metadata": {},
     "output_type": "execute_result"
    }
   ],
   "source": [
    "df.head()"
   ]
  },
  {
   "cell_type": "code",
   "execution_count": 7,
   "id": "d59f52cd-1177-48f8-9645-29869438aaa8",
   "metadata": {},
   "outputs": [
    {
     "data": {
      "text/plain": [
       "y\n",
       "computer_science    10\n",
       "csharp              10\n",
       "finance             10\n",
       "java                10\n",
       "javascript          10\n",
       "machine_learning    10\n",
       "python              10\n",
       "real_estate         10\n",
       "web                 10\n",
       "dtype: int64"
      ]
     },
     "execution_count": 7,
     "metadata": {},
     "output_type": "execute_result"
    }
   ],
   "source": [
    "df.groupby(['y']).size()"
   ]
  },
  {
   "cell_type": "markdown",
   "id": "cf09a4ca-8e45-42c3-8b76-e64aa67e02d5",
   "metadata": {},
   "source": [
    "## Vectorize"
   ]
  },
  {
   "cell_type": "code",
   "execution_count": 8,
   "id": "e219e0d4-a1dd-444d-b3f6-cbbb311665df",
   "metadata": {},
   "outputs": [
    {
     "name": "stdout",
     "output_type": "stream",
     "text": [
      "CPU times: user 208 ms, sys: 56.2 ms, total: 264 ms\n",
      "Wall time: 681 ms\n"
     ]
    },
    {
     "data": {
      "text/plain": [
       "90"
      ]
     },
     "execution_count": 8,
     "metadata": {},
     "output_type": "execute_result"
    }
   ],
   "source": [
    "%%time\n",
    "\n",
    "import itertools\n",
    "from openai import OpenAI\n",
    "\n",
    "def embed_func(docs, model='text-embedding-ada-002'):\n",
    "    docs = [d.replace('\\n', ' ') for d in docs]\n",
    "    res = client.embeddings.create(input=docs, model=model)\n",
    "    return [d.embedding for d in res.data]\n",
    "\n",
    "def split_list(input_list, chunk_size):\n",
    "    return [input_list[i:i + chunk_size] for i in range(0, len(input_list), chunk_size)]\n",
    "\n",
    "client = OpenAI()\n",
    "\n",
    "embeddings = split_list(list(df['title']), 500)\n",
    "embeddings = map(embed_func, embeddings)\n",
    "embeddings = itertools.chain(*embeddings)\n",
    "embeddings = list(embeddings)\n",
    "len(embeddings)"
   ]
  },
  {
   "cell_type": "code",
   "execution_count": 10,
   "id": "c4bf9efd-d4e4-4367-b98a-3c265a1bbc15",
   "metadata": {},
   "outputs": [
    {
     "data": {
      "text/plain": [
       "(90, 2)"
      ]
     },
     "execution_count": 10,
     "metadata": {},
     "output_type": "execute_result"
    }
   ],
   "source": [
    "Xy = pd.DataFrame({'vector': embeddings, 'y': df['y']})\n",
    "Xy.shape"
   ]
  },
  {
   "cell_type": "code",
   "execution_count": 11,
   "id": "fcbd6a54-a9d3-4fc6-b13e-5de950fd313e",
   "metadata": {},
   "outputs": [
    {
     "data": {
      "text/html": [
       "<div>\n",
       "<style scoped>\n",
       "    .dataframe tbody tr th:only-of-type {\n",
       "        vertical-align: middle;\n",
       "    }\n",
       "\n",
       "    .dataframe tbody tr th {\n",
       "        vertical-align: top;\n",
       "    }\n",
       "\n",
       "    .dataframe thead th {\n",
       "        text-align: right;\n",
       "    }\n",
       "</style>\n",
       "<table border=\"1\" class=\"dataframe\">\n",
       "  <thead>\n",
       "    <tr style=\"text-align: right;\">\n",
       "      <th></th>\n",
       "      <th>vector</th>\n",
       "      <th>y</th>\n",
       "    </tr>\n",
       "  </thead>\n",
       "  <tbody>\n",
       "    <tr>\n",
       "      <th>0</th>\n",
       "      <td>[0.0022508783731609583, -0.004211004823446274,...</td>\n",
       "      <td>java</td>\n",
       "    </tr>\n",
       "    <tr>\n",
       "      <th>1</th>\n",
       "      <td>[0.008307374082505703, -0.0205343309789896, 0....</td>\n",
       "      <td>java</td>\n",
       "    </tr>\n",
       "    <tr>\n",
       "      <th>2</th>\n",
       "      <td>[0.010946471244096756, 0.010107582435011864, -...</td>\n",
       "      <td>java</td>\n",
       "    </tr>\n",
       "    <tr>\n",
       "      <th>3</th>\n",
       "      <td>[-0.010318228043615818, 0.007110248785465956, ...</td>\n",
       "      <td>java</td>\n",
       "    </tr>\n",
       "    <tr>\n",
       "      <th>4</th>\n",
       "      <td>[-0.001255613286048174, 0.002567031653597951, ...</td>\n",
       "      <td>java</td>\n",
       "    </tr>\n",
       "  </tbody>\n",
       "</table>\n",
       "</div>"
      ],
      "text/plain": [
       "                                              vector     y\n",
       "0  [0.0022508783731609583, -0.004211004823446274,...  java\n",
       "1  [0.008307374082505703, -0.0205343309789896, 0....  java\n",
       "2  [0.010946471244096756, 0.010107582435011864, -...  java\n",
       "3  [-0.010318228043615818, 0.007110248785465956, ...  java\n",
       "4  [-0.001255613286048174, 0.002567031653597951, ...  java"
      ]
     },
     "execution_count": 11,
     "metadata": {},
     "output_type": "execute_result"
    }
   ],
   "source": [
    "Xy.head()"
   ]
  },
  {
   "cell_type": "markdown",
   "id": "8d30a0e8-00e1-44a7-b0fc-1a186ef58637",
   "metadata": {},
   "source": [
    "## Compute similarities"
   ]
  },
  {
   "cell_type": "code",
   "execution_count": 50,
   "id": "1ee01002-ac70-4f99-a1d3-97e0ec8f7a3c",
   "metadata": {},
   "outputs": [],
   "source": [
    "import numpy as np\n",
    "from sklearn.metrics.pairwise import cosine_similarity\n",
    "\n",
    "def get_avg_similarities(i, j, y0, y1):\n",
    "    a = np.array(Xy[Xy['y']==y0]['vector'].tolist())\n",
    "    b = np.array(Xy[Xy['y']==y1]['vector'].tolist())\n",
    "\n",
    "    c = np.triu(cosine_similarity(a, b), k=1)\n",
    "    c = np.array([c[i,j] for j in range(c.shape[1]) for i in range(c.shape[0]) if j > i])\n",
    "    return {\n",
    "        'i': i,\n",
    "        'j': j,\n",
    "        'y0': y0,\n",
    "        'y1': y1,\n",
    "        'sim': np.mean(c)\n",
    "    }"
   ]
  },
  {
   "cell_type": "code",
   "execution_count": 62,
   "id": "a3b98981-33a9-4ba6-a7ed-62810283048f",
   "metadata": {},
   "outputs": [],
   "source": [
    "import itertools\n",
    "\n",
    "clazz = df['y'].unique()\n",
    "sim_df = [(i, j, y0, y1) for j, y1 in enumerate(clazz) for i, y0 in enumerate(clazz) if j >= i]\n",
    "sim_df = [get_avg_similarities(i, j, y0, y1) for i, j, y0, y1 in sim_df]\n",
    "sim_df = pd.DataFrame(sim_df)"
   ]
  },
  {
   "cell_type": "code",
   "execution_count": 70,
   "id": "826394d0-ee1f-4900-a996-d90f6770f542",
   "metadata": {},
   "outputs": [
    {
     "data": {
      "text/html": [
       "<div>\n",
       "<style scoped>\n",
       "    .dataframe tbody tr th:only-of-type {\n",
       "        vertical-align: middle;\n",
       "    }\n",
       "\n",
       "    .dataframe tbody tr th {\n",
       "        vertical-align: top;\n",
       "    }\n",
       "\n",
       "    .dataframe thead th {\n",
       "        text-align: right;\n",
       "    }\n",
       "</style>\n",
       "<table border=\"1\" class=\"dataframe\">\n",
       "  <thead>\n",
       "    <tr style=\"text-align: right;\">\n",
       "      <th></th>\n",
       "      <th>java</th>\n",
       "      <th>real_estate</th>\n",
       "      <th>javascript</th>\n",
       "      <th>python</th>\n",
       "      <th>finance</th>\n",
       "      <th>machine_learning</th>\n",
       "      <th>csharp</th>\n",
       "      <th>computer_science</th>\n",
       "      <th>web</th>\n",
       "    </tr>\n",
       "  </thead>\n",
       "  <tbody>\n",
       "    <tr>\n",
       "      <th>java</th>\n",
       "      <td>0.856407</td>\n",
       "      <td>0.769469</td>\n",
       "      <td>0.824093</td>\n",
       "      <td>0.805603</td>\n",
       "      <td>0.767229</td>\n",
       "      <td>0.789297</td>\n",
       "      <td>0.810542</td>\n",
       "      <td>0.812209</td>\n",
       "      <td>0.783262</td>\n",
       "    </tr>\n",
       "    <tr>\n",
       "      <th>real_estate</th>\n",
       "      <td>0.769469</td>\n",
       "      <td>0.875555</td>\n",
       "      <td>0.767489</td>\n",
       "      <td>0.751921</td>\n",
       "      <td>0.802737</td>\n",
       "      <td>0.750062</td>\n",
       "      <td>0.756452</td>\n",
       "      <td>0.761262</td>\n",
       "      <td>0.750552</td>\n",
       "    </tr>\n",
       "    <tr>\n",
       "      <th>javascript</th>\n",
       "      <td>0.824093</td>\n",
       "      <td>0.767489</td>\n",
       "      <td>0.877622</td>\n",
       "      <td>0.806343</td>\n",
       "      <td>0.760471</td>\n",
       "      <td>0.785221</td>\n",
       "      <td>0.801511</td>\n",
       "      <td>0.799254</td>\n",
       "      <td>0.825318</td>\n",
       "    </tr>\n",
       "    <tr>\n",
       "      <th>python</th>\n",
       "      <td>0.805603</td>\n",
       "      <td>0.751921</td>\n",
       "      <td>0.806343</td>\n",
       "      <td>0.872754</td>\n",
       "      <td>0.748293</td>\n",
       "      <td>0.829757</td>\n",
       "      <td>0.776803</td>\n",
       "      <td>0.780263</td>\n",
       "      <td>0.772255</td>\n",
       "    </tr>\n",
       "    <tr>\n",
       "      <th>finance</th>\n",
       "      <td>0.767229</td>\n",
       "      <td>0.802737</td>\n",
       "      <td>0.760471</td>\n",
       "      <td>0.748293</td>\n",
       "      <td>0.817658</td>\n",
       "      <td>0.757858</td>\n",
       "      <td>0.745366</td>\n",
       "      <td>0.773515</td>\n",
       "      <td>0.748979</td>\n",
       "    </tr>\n",
       "    <tr>\n",
       "      <th>machine_learning</th>\n",
       "      <td>0.789297</td>\n",
       "      <td>0.750062</td>\n",
       "      <td>0.785221</td>\n",
       "      <td>0.829757</td>\n",
       "      <td>0.757858</td>\n",
       "      <td>0.868658</td>\n",
       "      <td>0.768335</td>\n",
       "      <td>0.803196</td>\n",
       "      <td>0.764194</td>\n",
       "    </tr>\n",
       "    <tr>\n",
       "      <th>csharp</th>\n",
       "      <td>0.810542</td>\n",
       "      <td>0.756452</td>\n",
       "      <td>0.801511</td>\n",
       "      <td>0.776803</td>\n",
       "      <td>0.745366</td>\n",
       "      <td>0.768335</td>\n",
       "      <td>0.867506</td>\n",
       "      <td>0.794327</td>\n",
       "      <td>0.769790</td>\n",
       "    </tr>\n",
       "    <tr>\n",
       "      <th>computer_science</th>\n",
       "      <td>0.812209</td>\n",
       "      <td>0.761262</td>\n",
       "      <td>0.799254</td>\n",
       "      <td>0.780263</td>\n",
       "      <td>0.773515</td>\n",
       "      <td>0.803196</td>\n",
       "      <td>0.794327</td>\n",
       "      <td>0.823804</td>\n",
       "      <td>0.786443</td>\n",
       "    </tr>\n",
       "    <tr>\n",
       "      <th>web</th>\n",
       "      <td>0.783262</td>\n",
       "      <td>0.750552</td>\n",
       "      <td>0.825318</td>\n",
       "      <td>0.772255</td>\n",
       "      <td>0.748979</td>\n",
       "      <td>0.764194</td>\n",
       "      <td>0.769790</td>\n",
       "      <td>0.786443</td>\n",
       "      <td>0.822367</td>\n",
       "    </tr>\n",
       "  </tbody>\n",
       "</table>\n",
       "</div>"
      ],
      "text/plain": [
       "                      java  real_estate  javascript    python   finance  \\\n",
       "java              0.856407     0.769469    0.824093  0.805603  0.767229   \n",
       "real_estate       0.769469     0.875555    0.767489  0.751921  0.802737   \n",
       "javascript        0.824093     0.767489    0.877622  0.806343  0.760471   \n",
       "python            0.805603     0.751921    0.806343  0.872754  0.748293   \n",
       "finance           0.767229     0.802737    0.760471  0.748293  0.817658   \n",
       "machine_learning  0.789297     0.750062    0.785221  0.829757  0.757858   \n",
       "csharp            0.810542     0.756452    0.801511  0.776803  0.745366   \n",
       "computer_science  0.812209     0.761262    0.799254  0.780263  0.773515   \n",
       "web               0.783262     0.750552    0.825318  0.772255  0.748979   \n",
       "\n",
       "                  machine_learning    csharp  computer_science       web  \n",
       "java                      0.789297  0.810542          0.812209  0.783262  \n",
       "real_estate               0.750062  0.756452          0.761262  0.750552  \n",
       "javascript                0.785221  0.801511          0.799254  0.825318  \n",
       "python                    0.829757  0.776803          0.780263  0.772255  \n",
       "finance                   0.757858  0.745366          0.773515  0.748979  \n",
       "machine_learning          0.868658  0.768335          0.803196  0.764194  \n",
       "csharp                    0.768335  0.867506          0.794327  0.769790  \n",
       "computer_science          0.803196  0.794327          0.823804  0.786443  \n",
       "web                       0.764194  0.769790          0.786443  0.822367  "
      ]
     },
     "execution_count": 70,
     "metadata": {},
     "output_type": "execute_result"
    }
   ],
   "source": [
    "sim_mat = np.zeros((len(clazz), len(clazz)))\n",
    "\n",
    "for i, _ in enumerate(clazz):\n",
    "    for j, _ in enumerate(clazz):\n",
    "        if j >= i:\n",
    "            s = sim_df[(sim_df['i']==i) & (sim_df['j']==j)].iloc[0]['sim']\n",
    "            sim_mat[i, j] = sim_mat[j, i] = s\n",
    "\n",
    "sim_mat = pd.DataFrame(sim_mat, columns=clazz, index=clazz)\n",
    "sim_mat"
   ]
  },
  {
   "cell_type": "code",
   "execution_count": 71,
   "id": "b05da634-811f-4176-93a4-e7cfff54196a",
   "metadata": {},
   "outputs": [
    {
     "data": {
      "text/plain": [
       "array([0, 1, 2, 3, 4, 5, 6, 7, 2])"
      ]
     },
     "execution_count": 71,
     "metadata": {},
     "output_type": "execute_result"
    }
   ],
   "source": [
    "np.argmax(sim_mat, axis=1)"
   ]
  },
  {
   "cell_type": "code",
   "execution_count": 83,
   "id": "c4fd62a6-87d9-4f02-87c3-0a33c457806f",
   "metadata": {},
   "outputs": [
    {
     "data": {
      "text/plain": [
       "(90, 1538)"
      ]
     },
     "execution_count": 83,
     "metadata": {},
     "output_type": "execute_result"
    }
   ],
   "source": [
    "columns = [f'x{i}' for i, _ in enumerate(Xy['vector'].iloc[0])]\n",
    "_Xy = pd.DataFrame(Xy['vector'].values.tolist(), columns=columns).assign(title=df['title'], y=Xy['y'])\n",
    "_Xy.shape"
   ]
  },
  {
   "cell_type": "code",
   "execution_count": 84,
   "id": "89f2444b-f413-459c-bff1-6cd6ce6593f9",
   "metadata": {},
   "outputs": [],
   "source": [
    "_Xy.to_csv('./stash/Xy.csv', index=False)"
   ]
  },
  {
   "cell_type": "code",
   "execution_count": null,
   "id": "d924608d-bb91-40af-9f8d-175add6174af",
   "metadata": {},
   "outputs": [],
   "source": []
  }
 ],
 "metadata": {
  "kernelspec": {
   "display_name": "Python 3 (ipykernel)",
   "language": "python",
   "name": "python3"
  },
  "language_info": {
   "codemirror_mode": {
    "name": "ipython",
    "version": 3
   },
   "file_extension": ".py",
   "mimetype": "text/x-python",
   "name": "python",
   "nbconvert_exporter": "python",
   "pygments_lexer": "ipython3",
   "version": "3.11.6"
  },
  "widgets": {
   "application/vnd.jupyter.widget-state+json": {
    "state": {},
    "version_major": 2,
    "version_minor": 0
   }
  }
 },
 "nbformat": 4,
 "nbformat_minor": 5
}
