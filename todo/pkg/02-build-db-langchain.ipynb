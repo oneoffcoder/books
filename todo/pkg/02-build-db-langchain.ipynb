{
 "cells": [
  {
   "cell_type": "code",
   "execution_count": null,
   "id": "d4c8d42c-aa95-4b87-bf88-36c839fd5ab2",
   "metadata": {},
   "outputs": [],
   "source": []
  },
  {
   "cell_type": "code",
   "execution_count": 1,
   "id": "a9f27714-4932-467a-881d-fee782ed660c",
   "metadata": {},
   "outputs": [
    {
     "data": {
      "text/plain": [
       "((90, 1538), (90, 1536), (90,), (90,))"
      ]
     },
     "execution_count": 1,
     "metadata": {},
     "output_type": "execute_result"
    }
   ],
   "source": [
    "import pandas as pd\n",
    "\n",
    "Xy = pd.read_csv('./stash/Xy.csv')\n",
    "X = Xy[Xy.columns.drop(['title', 'y'])]\n",
    "t = Xy['title']\n",
    "y = Xy['y']\n",
    "\n",
    "Xy.shape, X.shape, t.shape, y.shape"
   ]
  },
  {
   "cell_type": "code",
   "execution_count": 2,
   "id": "1edc354c-bbd2-4ef2-aa82-f5360adfc568",
   "metadata": {},
   "outputs": [
    {
     "data": {
      "text/plain": [
       "(90, 4)"
      ]
     },
     "execution_count": 2,
     "metadata": {},
     "output_type": "execute_result"
    }
   ],
   "source": [
    "df = pd.DataFrame({\n",
    "    'id': list(range(Xy.shape[0])),\n",
    "    'document': t,\n",
    "    'metadata': [{'subject': _y} for _y in y],\n",
    "    'embedding': [[float(_x) for _x in _v] for _v in X.values]\n",
    "})\n",
    "df.shape"
   ]
  },
  {
   "cell_type": "code",
   "execution_count": 3,
   "id": "dd53b657-ad3e-4619-9ef7-b3c4309b63d3",
   "metadata": {},
   "outputs": [
    {
     "data": {
      "text/html": [
       "<div>\n",
       "<style scoped>\n",
       "    .dataframe tbody tr th:only-of-type {\n",
       "        vertical-align: middle;\n",
       "    }\n",
       "\n",
       "    .dataframe tbody tr th {\n",
       "        vertical-align: top;\n",
       "    }\n",
       "\n",
       "    .dataframe thead th {\n",
       "        text-align: right;\n",
       "    }\n",
       "</style>\n",
       "<table border=\"1\" class=\"dataframe\">\n",
       "  <thead>\n",
       "    <tr style=\"text-align: right;\">\n",
       "      <th></th>\n",
       "      <th>id</th>\n",
       "      <th>document</th>\n",
       "      <th>metadata</th>\n",
       "      <th>embedding</th>\n",
       "    </tr>\n",
       "  </thead>\n",
       "  <tbody>\n",
       "    <tr>\n",
       "      <th>0</th>\n",
       "      <td>0</td>\n",
       "      <td>Java: The Complete Reference</td>\n",
       "      <td>{'subject': 'java'}</td>\n",
       "      <td>[0.0022508783731609, -0.0042110048234462, 0.01...</td>\n",
       "    </tr>\n",
       "    <tr>\n",
       "      <th>1</th>\n",
       "      <td>1</td>\n",
       "      <td>Core Java An Integrated Approach (Black Book)</td>\n",
       "      <td>{'subject': 'java'}</td>\n",
       "      <td>[0.0083073740825057, -0.0205343309789896, 0.01...</td>\n",
       "    </tr>\n",
       "    <tr>\n",
       "      <th>2</th>\n",
       "      <td>2</td>\n",
       "      <td>Head First Java</td>\n",
       "      <td>{'subject': 'java'}</td>\n",
       "      <td>[0.0109464712440967, 0.0101075824350118, -0.00...</td>\n",
       "    </tr>\n",
       "    <tr>\n",
       "      <th>3</th>\n",
       "      <td>3</td>\n",
       "      <td>Effective Java</td>\n",
       "      <td>{'subject': 'java'}</td>\n",
       "      <td>[-0.0103182280436158, 0.0071102487854659, 0.00...</td>\n",
       "    </tr>\n",
       "    <tr>\n",
       "      <th>4</th>\n",
       "      <td>4</td>\n",
       "      <td>Thinking in Java</td>\n",
       "      <td>{'subject': 'java'}</td>\n",
       "      <td>[-0.0012556132860481, 0.0025670316535979, 0.01...</td>\n",
       "    </tr>\n",
       "  </tbody>\n",
       "</table>\n",
       "</div>"
      ],
      "text/plain": [
       "   id                                       document             metadata  \\\n",
       "0   0                   Java: The Complete Reference  {'subject': 'java'}   \n",
       "1   1  Core Java An Integrated Approach (Black Book)  {'subject': 'java'}   \n",
       "2   2                                Head First Java  {'subject': 'java'}   \n",
       "3   3                                 Effective Java  {'subject': 'java'}   \n",
       "4   4                               Thinking in Java  {'subject': 'java'}   \n",
       "\n",
       "                                           embedding  \n",
       "0  [0.0022508783731609, -0.0042110048234462, 0.01...  \n",
       "1  [0.0083073740825057, -0.0205343309789896, 0.01...  \n",
       "2  [0.0109464712440967, 0.0101075824350118, -0.00...  \n",
       "3  [-0.0103182280436158, 0.0071102487854659, 0.00...  \n",
       "4  [-0.0012556132860481, 0.0025670316535979, 0.01...  "
      ]
     },
     "execution_count": 3,
     "metadata": {},
     "output_type": "execute_result"
    }
   ],
   "source": [
    "df.head()"
   ]
  },
  {
   "cell_type": "code",
   "execution_count": 4,
   "id": "6dae6c29-c648-4221-9f5a-b25266d5028c",
   "metadata": {},
   "outputs": [
    {
     "data": {
      "text/plain": [
       "88"
      ]
     },
     "execution_count": 4,
     "metadata": {},
     "output_type": "execute_result"
    }
   ],
   "source": [
    "t2e = {r['document']: r['embedding'] for _, r in df.iterrows()}\n",
    "len(t2e)"
   ]
  },
  {
   "cell_type": "code",
   "execution_count": 5,
   "id": "d2a91631-96d0-40e5-b407-ed96c41186dd",
   "metadata": {},
   "outputs": [],
   "source": [
    "import pathlib\n",
    "import shutil\n",
    "from langchain_core.documents.base import Document\n",
    "from langchain.vectorstores import Chroma\n",
    "from openai import OpenAI\n",
    "\n",
    "class MockEmbedding:\n",
    "    def __init__(self, t2e, embedding_model='text-embedding-ada-002'):\n",
    "        self.t2e = t2e\n",
    "        self.embedding_model = embedding_model\n",
    "        self.client = OpenAI()\n",
    "\n",
    "    def __embed(self, t):\n",
    "        if t in self.t2e:\n",
    "            return self.t2e[t]\n",
    "            \n",
    "        docs = [t.replace('\\n', ' ')]\n",
    "        res = self.client.embeddings.create(input=docs, model=self.embedding_model)\n",
    "        return res.data[0].embedding\n",
    "        \n",
    "    def embed_documents(self, texts):\n",
    "        return [self.__embed(t) for t in texts]\n",
    "\n",
    "    def embed_query(self, query):\n",
    "        return self.__embed(query)\n",
    "        \n",
    "def get_documents():\n",
    "    def r2d(r):\n",
    "        document = Document(page_content=r['document'], metadata=r['metadata'])\n",
    "        return document\n",
    "        \n",
    "    return df.apply(r2d, axis=1).tolist()\n",
    "\n",
    "def get_db(db_path=pathlib.Path('./book_vdb')):\n",
    "    documents = get_documents()\n",
    "    embedding_function = MockEmbedding(t2e=t2e)\n",
    "    \n",
    "    if db_path.exists():\n",
    "        db = Chroma(\n",
    "            persist_directory=str(db_path), \n",
    "            embedding_function=embedding_function\n",
    "        )\n",
    "    else:\n",
    "        db_path.mkdir(parents=True, exist_ok=True)\n",
    "        db = Chroma.from_documents(\n",
    "            documents=documents, \n",
    "            embedding=embedding_function, \n",
    "            persist_directory=str(db_path)\n",
    "        )\n",
    "\n",
    "    return db\n",
    "\n",
    "def get_retriever(db_path=pathlib.Path('./book_vdb'), retriever_params=None):\n",
    "    if retriever_params is None:\n",
    "        retriever_params = {\n",
    "            'search_type': 'mmr',\n",
    "            'search_kwargs': {\n",
    "                'k': 5,\n",
    "                'fetch_k': 100,\n",
    "                'lambda_mult': 0.5,\n",
    "                'score_threshold': 0.2\n",
    "            }\n",
    "        }\n",
    "        \n",
    "    return get_db(db_path).as_retriever(**retriever_params)\n",
    "    \n",
    "retriever = get_retriever()\n",
    "vectorstore = retriever.vectorstore"
   ]
  },
  {
   "cell_type": "code",
   "execution_count": 6,
   "id": "099b4534-bdd3-496b-9acb-f0cb81db9f64",
   "metadata": {},
   "outputs": [
    {
     "data": {
      "text/plain": [
       "[Document(page_content='The Java™ Programming Language', metadata={'subject': 'java'}),\n",
       " Document(page_content='Effective Java', metadata={'subject': 'java'}),\n",
       " Document(page_content='Thinking in Java', metadata={'subject': 'java'}),\n",
       " Document(page_content='Head First Java', metadata={'subject': 'java'})]"
      ]
     },
     "execution_count": 6,
     "metadata": {},
     "output_type": "execute_result"
    }
   ],
   "source": [
    "vectorstore.search('java', search_type='similarity')"
   ]
  },
  {
   "cell_type": "code",
   "execution_count": null,
   "id": "1cca9cf7-c45d-42e8-9fa0-1cb78a254fcc",
   "metadata": {},
   "outputs": [],
   "source": []
  }
 ],
 "metadata": {
  "kernelspec": {
   "display_name": "Python 3 (ipykernel)",
   "language": "python",
   "name": "python3"
  },
  "language_info": {
   "codemirror_mode": {
    "name": "ipython",
    "version": 3
   },
   "file_extension": ".py",
   "mimetype": "text/x-python",
   "name": "python",
   "nbconvert_exporter": "python",
   "pygments_lexer": "ipython3",
   "version": "3.11.5"
  }
 },
 "nbformat": 4,
 "nbformat_minor": 5
}
