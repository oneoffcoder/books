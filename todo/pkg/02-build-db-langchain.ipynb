{
 "cells": [
  {
   "cell_type": "markdown",
   "id": "65f82a79-881c-4330-8c32-eba65ba8009b",
   "metadata": {},
   "source": [
    "# Create Vector DB with Langchain"
   ]
  },
  {
   "cell_type": "markdown",
   "id": "c568d83e-a584-43ee-811c-b8f1108f07e5",
   "metadata": {},
   "source": [
    "## Import data"
   ]
  },
  {
   "cell_type": "code",
   "execution_count": 1,
   "id": "a9f27714-4932-467a-881d-fee782ed660c",
   "metadata": {},
   "outputs": [
    {
     "data": {
      "text/plain": [
       "((90, 1539), (90, 1536), (90,), (90,))"
      ]
     },
     "execution_count": 1,
     "metadata": {},
     "output_type": "execute_result"
    }
   ],
   "source": [
    "import pandas as pd\n",
    "\n",
    "Xy = pd.read_csv('./stash/Xytc.csv')\n",
    "X = Xy[Xy.columns.drop(['title', 'y', 'c'])]\n",
    "y = Xy['y']\n",
    "t = Xy['title']\n",
    "c = Xy['c']\n",
    "\n",
    "Xy.shape, X.shape, t.shape, y.shape"
   ]
  },
  {
   "cell_type": "code",
   "execution_count": 2,
   "id": "1edc354c-bbd2-4ef2-aa82-f5360adfc568",
   "metadata": {},
   "outputs": [
    {
     "data": {
      "text/plain": [
       "(90, 4)"
      ]
     },
     "execution_count": 2,
     "metadata": {},
     "output_type": "execute_result"
    }
   ],
   "source": [
    "df = pd.DataFrame({\n",
    "    'id': list(range(Xy.shape[0])),\n",
    "    'document': t,\n",
    "    'metadata': [{'subject': _y, 'topic': _c} for _y, _c in zip(y, c)],\n",
    "    'embedding': [[float(_x) for _x in _v] for _v in X.values]\n",
    "})\n",
    "df.shape"
   ]
  },
  {
   "cell_type": "code",
   "execution_count": 3,
   "id": "dd53b657-ad3e-4619-9ef7-b3c4309b63d3",
   "metadata": {},
   "outputs": [
    {
     "data": {
      "text/html": [
       "<div>\n",
       "<style scoped>\n",
       "    .dataframe tbody tr th:only-of-type {\n",
       "        vertical-align: middle;\n",
       "    }\n",
       "\n",
       "    .dataframe tbody tr th {\n",
       "        vertical-align: top;\n",
       "    }\n",
       "\n",
       "    .dataframe thead th {\n",
       "        text-align: right;\n",
       "    }\n",
       "</style>\n",
       "<table border=\"1\" class=\"dataframe\">\n",
       "  <thead>\n",
       "    <tr style=\"text-align: right;\">\n",
       "      <th></th>\n",
       "      <th>id</th>\n",
       "      <th>document</th>\n",
       "      <th>metadata</th>\n",
       "      <th>embedding</th>\n",
       "    </tr>\n",
       "  </thead>\n",
       "  <tbody>\n",
       "    <tr>\n",
       "      <th>0</th>\n",
       "      <td>0</td>\n",
       "      <td>The Hundred-Page Machine Learning Book</td>\n",
       "      <td>{'subject': 'machine_learning', 'topic': 7}</td>\n",
       "      <td>[-0.0195070374757051, 0.0134451435878872, 0.01...</td>\n",
       "    </tr>\n",
       "    <tr>\n",
       "      <th>1</th>\n",
       "      <td>1</td>\n",
       "      <td>Programming Python</td>\n",
       "      <td>{'subject': 'python', 'topic': 11}</td>\n",
       "      <td>[-2.161007796530612e-05, -0.012101643718779, 0...</td>\n",
       "    </tr>\n",
       "    <tr>\n",
       "      <th>2</th>\n",
       "      <td>2</td>\n",
       "      <td>The Java Language Specification</td>\n",
       "      <td>{'subject': 'java', 'topic': 12}</td>\n",
       "      <td>[0.0095693012699484, 0.0100918794050812, 0.015...</td>\n",
       "    </tr>\n",
       "    <tr>\n",
       "      <th>3</th>\n",
       "      <td>3</td>\n",
       "      <td>Artificial Intelligence: A Modern Approach</td>\n",
       "      <td>{'subject': 'computer_science', 'topic': 7}</td>\n",
       "      <td>[-0.0194937139749526, -0.0022757838014513, 0.0...</td>\n",
       "    </tr>\n",
       "    <tr>\n",
       "      <th>4</th>\n",
       "      <td>4</td>\n",
       "      <td>Speaking JavaScript: An In-Depth Guide for Pro...</td>\n",
       "      <td>{'subject': 'javascript', 'topic': 5}</td>\n",
       "      <td>[0.008368537761271, 0.0069584059529006, 0.0078...</td>\n",
       "    </tr>\n",
       "  </tbody>\n",
       "</table>\n",
       "</div>"
      ],
      "text/plain": [
       "   id                                           document  \\\n",
       "0   0             The Hundred-Page Machine Learning Book   \n",
       "1   1                                 Programming Python   \n",
       "2   2                    The Java Language Specification   \n",
       "3   3         Artificial Intelligence: A Modern Approach   \n",
       "4   4  Speaking JavaScript: An In-Depth Guide for Pro...   \n",
       "\n",
       "                                      metadata  \\\n",
       "0  {'subject': 'machine_learning', 'topic': 7}   \n",
       "1           {'subject': 'python', 'topic': 11}   \n",
       "2             {'subject': 'java', 'topic': 12}   \n",
       "3  {'subject': 'computer_science', 'topic': 7}   \n",
       "4        {'subject': 'javascript', 'topic': 5}   \n",
       "\n",
       "                                           embedding  \n",
       "0  [-0.0195070374757051, 0.0134451435878872, 0.01...  \n",
       "1  [-2.161007796530612e-05, -0.012101643718779, 0...  \n",
       "2  [0.0095693012699484, 0.0100918794050812, 0.015...  \n",
       "3  [-0.0194937139749526, -0.0022757838014513, 0.0...  \n",
       "4  [0.008368537761271, 0.0069584059529006, 0.0078...  "
      ]
     },
     "execution_count": 3,
     "metadata": {},
     "output_type": "execute_result"
    }
   ],
   "source": [
    "df.head()"
   ]
  },
  {
   "cell_type": "code",
   "execution_count": 4,
   "id": "6dae6c29-c648-4221-9f5a-b25266d5028c",
   "metadata": {},
   "outputs": [
    {
     "data": {
      "text/plain": [
       "88"
      ]
     },
     "execution_count": 4,
     "metadata": {},
     "output_type": "execute_result"
    }
   ],
   "source": [
    "t2e = {r['document']: r['embedding'] for _, r in df.iterrows()}\n",
    "len(t2e)"
   ]
  },
  {
   "cell_type": "markdown",
   "id": "98e08c35-b68f-4044-ae7a-3371fa29cea8",
   "metadata": {},
   "source": [
    "## Create vector database"
   ]
  },
  {
   "cell_type": "code",
   "execution_count": 5,
   "id": "d2a91631-96d0-40e5-b407-ed96c41186dd",
   "metadata": {},
   "outputs": [],
   "source": [
    "import pathlib\n",
    "import shutil\n",
    "from langchain_core.documents.base import Document\n",
    "from langchain.vectorstores import Chroma\n",
    "from openai import OpenAI\n",
    "\n",
    "class MockEmbedding:\n",
    "    def __init__(self, t2e, embedding_model='text-embedding-ada-002'):\n",
    "        self.t2e = t2e\n",
    "        self.embedding_model = embedding_model\n",
    "        self.client = OpenAI()\n",
    "\n",
    "    def __embed(self, t):\n",
    "        if t in self.t2e:\n",
    "            return self.t2e[t]\n",
    "            \n",
    "        docs = [t.replace('\\n', ' ')]\n",
    "        res = self.client.embeddings.create(input=docs, model=self.embedding_model)\n",
    "        return res.data[0].embedding\n",
    "        \n",
    "    def embed_documents(self, texts):\n",
    "        return [self.__embed(t) for t in texts]\n",
    "\n",
    "    def embed_query(self, query):\n",
    "        return self.__embed(query)\n",
    "        \n",
    "def get_documents():\n",
    "    def r2d(r):\n",
    "        document = Document(page_content=r['document'], metadata=r['metadata'])\n",
    "        return document\n",
    "        \n",
    "    return df.apply(r2d, axis=1).tolist()\n",
    "\n",
    "def get_db(db_path=pathlib.Path('./book_vdb')):\n",
    "    documents = get_documents()\n",
    "    embedding_function = MockEmbedding(t2e=t2e)\n",
    "    \n",
    "    if db_path.exists():\n",
    "        db = Chroma(\n",
    "            persist_directory=str(db_path), \n",
    "            embedding_function=embedding_function\n",
    "        )\n",
    "    else:\n",
    "        db_path.mkdir(parents=True, exist_ok=True)\n",
    "        db = Chroma.from_documents(\n",
    "            documents=documents, \n",
    "            embedding=embedding_function, \n",
    "            persist_directory=str(db_path)\n",
    "        )\n",
    "\n",
    "    return db\n",
    "\n",
    "def get_retriever(db_path=pathlib.Path('./book_vdb'), retriever_params=None):\n",
    "    if retriever_params is None:\n",
    "        retriever_params = {\n",
    "            'search_type': 'mmr',\n",
    "            'search_kwargs': {\n",
    "                'k': 5,\n",
    "                'fetch_k': 100,\n",
    "                'lambda_mult': 0.5,\n",
    "                'score_threshold': 0.2\n",
    "            }\n",
    "        }\n",
    "        \n",
    "    return get_db(db_path).as_retriever(**retriever_params)\n",
    "    \n",
    "retriever = get_retriever()\n",
    "vectorstore = retriever.vectorstore"
   ]
  },
  {
   "cell_type": "markdown",
   "id": "346f82da-ca8e-4187-a154-bf35f21e6f8d",
   "metadata": {},
   "source": [
    "## Query"
   ]
  },
  {
   "cell_type": "code",
   "execution_count": 6,
   "id": "1cca9cf7-c45d-42e8-9fa0-1cb78a254fcc",
   "metadata": {},
   "outputs": [
    {
     "name": "stderr",
     "output_type": "stream",
     "text": [
      "Number of requested results 100 is greater than number of elements in index 90, updating n_results = 90\n"
     ]
    },
    {
     "data": {
      "text/plain": [
       "[Document(page_content='The Java™ Programming Language', metadata={'subject': 'java', 'topic': 12}),\n",
       " Document(page_content='Pro AngularJS', metadata={'subject': 'web', 'topic': 9}),\n",
       " Document(page_content='Node.js Design Patterns', metadata={'subject': 'web', 'topic': 13}),\n",
       " Document(page_content='Deep Learning', metadata={'subject': 'machine_learning', 'topic': 7}),\n",
       " Document(page_content='Security Analysis', metadata={'subject': 'finance', 'topic': 8})]"
      ]
     },
     "execution_count": 6,
     "metadata": {},
     "output_type": "execute_result"
    }
   ],
   "source": [
    "retriever.invoke('java', n_results=10)"
   ]
  },
  {
   "cell_type": "code",
   "execution_count": 7,
   "id": "099b4534-bdd3-496b-9acb-f0cb81db9f64",
   "metadata": {},
   "outputs": [
    {
     "data": {
      "text/plain": [
       "[Document(page_content='The Java™ Programming Language', metadata={'subject': 'java', 'topic': 12}),\n",
       " Document(page_content='Effective Java', metadata={'subject': 'java', 'topic': 12}),\n",
       " Document(page_content='Thinking in Java', metadata={'subject': 'java', 'topic': 12}),\n",
       " Document(page_content='Head First Java', metadata={'subject': 'java', 'topic': 12})]"
      ]
     },
     "execution_count": 7,
     "metadata": {},
     "output_type": "execute_result"
    }
   ],
   "source": [
    "vectorstore.search('java', search_type='similarity')"
   ]
  },
  {
   "cell_type": "code",
   "execution_count": 8,
   "id": "43efaa4a-504e-4979-bb3b-ec63408fdbd5",
   "metadata": {},
   "outputs": [
    {
     "data": {
      "text/plain": [
       "[Document(page_content='The Java™ Programming Language', metadata={'subject': 'java', 'topic': 12}),\n",
       " Document(page_content='Effective Java', metadata={'subject': 'java', 'topic': 12}),\n",
       " Document(page_content='JavaScript: The Good Parts', metadata={'subject': 'javascript', 'topic': 13}),\n",
       " Document(page_content='Python Crash Course', metadata={'subject': 'python', 'topic': 11})]"
      ]
     },
     "execution_count": 8,
     "metadata": {},
     "output_type": "execute_result"
    }
   ],
   "source": [
    "vectorstore.search('java', search_type='mmr')"
   ]
  },
  {
   "cell_type": "code",
   "execution_count": null,
   "id": "adc80b4e-0485-4406-a4e5-4b55bd62d4df",
   "metadata": {},
   "outputs": [],
   "source": []
  }
 ],
 "metadata": {
  "kernelspec": {
   "display_name": "Python 3 (ipykernel)",
   "language": "python",
   "name": "python3"
  },
  "language_info": {
   "codemirror_mode": {
    "name": "ipython",
    "version": 3
   },
   "file_extension": ".py",
   "mimetype": "text/x-python",
   "name": "python",
   "nbconvert_exporter": "python",
   "pygments_lexer": "ipython3",
   "version": "3.11.6"
  },
  "widgets": {
   "application/vnd.jupyter.widget-state+json": {
    "state": {},
    "version_major": 2,
    "version_minor": 0
   }
  }
 },
 "nbformat": 4,
 "nbformat_minor": 5
}
