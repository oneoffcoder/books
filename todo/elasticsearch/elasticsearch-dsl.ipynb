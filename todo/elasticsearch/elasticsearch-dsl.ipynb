{
 "cells": [
  {
   "cell_type": "code",
   "execution_count": 49,
   "metadata": {},
   "outputs": [
    {
     "data": {
      "text/plain": [
       "<Elasticsearch([{'host': 'localhost', 'port': 9200}])>"
      ]
     },
     "execution_count": 49,
     "metadata": {},
     "output_type": "execute_result"
    }
   ],
   "source": [
    "from elasticsearch_dsl import connections\n",
    "from elasticsearch import Elasticsearch\n",
    "\n",
    "# ??connections.create_connection\n",
    "# ??Elasticsearch\n",
    "\n",
    "connections.create_connection(hosts=['localhost:9200'], timeout=20)"
   ]
  },
  {
   "cell_type": "code",
   "execution_count": 50,
   "metadata": {},
   "outputs": [],
   "source": [
    "from elasticsearch_dsl import Document, Date, Integer, Keyword, Text\n",
    "\n",
    "class Person(Document):\n",
    "    first_name = Text(analyzer='snowball')\n",
    "    last_name = Text(analyzer='snowball')\n",
    "    gender = Text(analyzer='snowball')\n",
    "    age = Integer()\n",
    "\n",
    "    class Index:\n",
    "        name = 'person'\n",
    "        settings = {\n",
    "          'number_of_shards': 2,\n",
    "        }\n",
    "\n",
    "    def save(self, ** kwargs):\n",
    "        return super(Person, self).save(**kwargs)"
   ]
  },
  {
   "cell_type": "code",
   "execution_count": 51,
   "metadata": {},
   "outputs": [],
   "source": [
    "Person.init()"
   ]
  },
  {
   "cell_type": "code",
   "execution_count": 52,
   "metadata": {},
   "outputs": [
    {
     "data": {
      "text/plain": [
       "'updated'"
      ]
     },
     "execution_count": 52,
     "metadata": {},
     "output_type": "execute_result"
    }
   ],
   "source": [
    "p = Person(\n",
    "    meta={'id': 1},\n",
    "    first_name='John',\n",
    "    last_name='Smith',\n",
    "    gender='M',\n",
    "    age=22\n",
    ")\n",
    "p.save()"
   ]
  },
  {
   "cell_type": "code",
   "execution_count": 53,
   "metadata": {},
   "outputs": [
    {
     "data": {
      "text/plain": [
       "'updated'"
      ]
     },
     "execution_count": 53,
     "metadata": {},
     "output_type": "execute_result"
    }
   ],
   "source": [
    "p = Person(\n",
    "    meta={'id': 2},\n",
    "    first_name='James',\n",
    "    last_name='Smith',\n",
    "    gender='M',\n",
    "    age=23\n",
    ")\n",
    "p.save()"
   ]
  },
  {
   "cell_type": "code",
   "execution_count": 54,
   "metadata": {},
   "outputs": [
    {
     "data": {
      "text/plain": [
       "{'first_name': 'James', 'last_name': 'Smith', 'gender': 'M', 'age': 23}"
      ]
     },
     "execution_count": 54,
     "metadata": {},
     "output_type": "execute_result"
    }
   ],
   "source": [
    "p.to_dict()"
   ]
  },
  {
   "cell_type": "code",
   "execution_count": 55,
   "metadata": {},
   "outputs": [
    {
     "data": {
      "text/plain": [
       "({'index': 'person', 'id': '1', 'version': 3, 'seq_no': 5, 'p...},\n",
       " 'John',\n",
       " 'Smith',\n",
       " 'M',\n",
       " 22,\n",
       " '1')"
      ]
     },
     "execution_count": 55,
     "metadata": {},
     "output_type": "execute_result"
    }
   ],
   "source": [
    "p = Person.get(id=1)\n",
    "p.meta, p.first_name, p.last_name, p.gender, p.age, p.meta.id"
   ]
  },
  {
   "cell_type": "code",
   "execution_count": 56,
   "metadata": {},
   "outputs": [
    {
     "data": {
      "text/plain": [
       "[Person(index='person', id='1'), Person(index='person', id='2')]"
      ]
     },
     "execution_count": 56,
     "metadata": {},
     "output_type": "execute_result"
    }
   ],
   "source": [
    "Person.mget([1, 2, 3], missing='skip')"
   ]
  },
  {
   "cell_type": "code",
   "execution_count": 30,
   "metadata": {},
   "outputs": [],
   "source": [
    "p = Person.get(id=2)\n",
    "p.delete()"
   ]
  },
  {
   "cell_type": "code",
   "execution_count": null,
   "metadata": {},
   "outputs": [],
   "source": []
  },
  {
   "cell_type": "code",
   "execution_count": 65,
   "metadata": {},
   "outputs": [
    {
     "name": "stdout",
     "output_type": "stream",
     "text": [
      "1\n",
      "<class 'elasticsearch_dsl.response.hit.Hit'> 1 Person(id='1')\n"
     ]
    }
   ],
   "source": [
    "from elasticsearch_dsl import Search\n",
    "\n",
    "s = Search(index='person')\n",
    "s.update_from_dict({'from': 0, 'size': 1, 'query': {'match_all': {}}})\n",
    "\n",
    "hits = s.execute()\n",
    "print(len(hits))\n",
    "\n",
    "for hit in hits:\n",
    "    print(type(hit), hit.meta.id, Person(meta={'id': hit.meta.id}, **hit.to_dict()))\n",
    "    "
   ]
  },
  {
   "cell_type": "code",
   "execution_count": 62,
   "metadata": {},
   "outputs": [
    {
     "data": {
      "text/plain": [
       "<Hit(person/1): {'first_name': 'John', 'last_name': 'Smith', 'gender': 'M', ...}>"
      ]
     },
     "execution_count": 62,
     "metadata": {},
     "output_type": "execute_result"
    }
   ],
   "source": [
    "hits[0]"
   ]
  },
  {
   "cell_type": "code",
   "execution_count": 41,
   "metadata": {},
   "outputs": [
    {
     "data": {
      "text/plain": [
       "[<Hit(person/1): {'first_name': 'John', 'last_name': 'Smith', 'gender': 'M', ...}>, <Hit(person/2): {'first_name': 'James', 'last_name': 'Smith', 'gender': 'M',...}>]"
      ]
     },
     "execution_count": 41,
     "metadata": {},
     "output_type": "execute_result"
    }
   ],
   "source": [
    "hits[0:2]"
   ]
  },
  {
   "cell_type": "code",
   "execution_count": 22,
   "metadata": {},
   "outputs": [
    {
     "data": {
      "text/plain": [
       "{'cluster_name': 'docker-cluster',\n",
       " 'status': 'yellow',\n",
       " 'timed_out': False,\n",
       " 'number_of_nodes': 1,\n",
       " 'number_of_data_nodes': 1,\n",
       " 'active_primary_shards': 5,\n",
       " 'active_shards': 5,\n",
       " 'relocating_shards': 0,\n",
       " 'initializing_shards': 0,\n",
       " 'unassigned_shards': 2,\n",
       " 'delayed_unassigned_shards': 0,\n",
       " 'number_of_pending_tasks': 0,\n",
       " 'number_of_in_flight_fetch': 0,\n",
       " 'task_max_waiting_in_queue_millis': 0,\n",
       " 'active_shards_percent_as_number': 71.42857142857143}"
      ]
     },
     "execution_count": 22,
     "metadata": {},
     "output_type": "execute_result"
    }
   ],
   "source": [
    "connections.get_connection().cluster.health()"
   ]
  },
  {
   "cell_type": "code",
   "execution_count": null,
   "metadata": {},
   "outputs": [],
   "source": []
  }
 ],
 "metadata": {
  "kernelspec": {
   "display_name": "Python 3",
   "language": "python",
   "name": "python3"
  },
  "language_info": {
   "codemirror_mode": {
    "name": "ipython",
    "version": 3
   },
   "file_extension": ".py",
   "mimetype": "text/x-python",
   "name": "python",
   "nbconvert_exporter": "python",
   "pygments_lexer": "ipython3",
   "version": "3.8.3"
  },
  "widgets": {
   "application/vnd.jupyter.widget-state+json": {
    "state": {},
    "version_major": 2,
    "version_minor": 0
   }
  }
 },
 "nbformat": 4,
 "nbformat_minor": 4
}
