{
 "cells": [
  {
   "cell_type": "markdown",
   "metadata": {},
   "source": [
    "# Using packages"
   ]
  },
  {
   "cell_type": "markdown",
   "metadata": {},
   "source": [
    "## Math"
   ]
  },
  {
   "cell_type": "code",
   "execution_count": 1,
   "metadata": {},
   "outputs": [
    {
     "name": "stdout",
     "output_type": "stream",
     "text": [
      "0.05001\n",
      "0.78170\n",
      "0.18364\n",
      "0.06528\n",
      "0.78969\n"
     ]
    }
   ],
   "source": [
    "import java.lang.Math;\n",
    "\n",
    "for (int i = 0; i < 5; i++) {\n",
    "    var num = Math.random();\n",
    "    var s = String.format(\"%.5f\", num);\n",
    "    System.out.println(s);\n",
    "}"
   ]
  },
  {
   "cell_type": "markdown",
   "metadata": {},
   "source": [
    "## Strings"
   ]
  },
  {
   "cell_type": "code",
   "execution_count": 2,
   "metadata": {},
   "outputs": [
    {
     "name": "stdout",
     "output_type": "stream",
     "text": [
      "One-Off Coder\n",
      "7526 Old Linton Hall Road\n",
      "Gainesville VA 20155\n",
      "https://www.oneoffcoder.com\n",
      "info@oneoffcoder.com\n"
     ]
    }
   ],
   "source": [
    "import java.lang.StringBuilder;\n",
    "\n",
    "var entity = \"One-Off Coder\";\n",
    "var address = \"7526 Old Linton Hall Road\";\n",
    "var city = \"Gainesville\";\n",
    "var state = \"VA\";\n",
    "var zip = 20155;\n",
    "var www = \"https://www.oneoffcoder.com\";\n",
    "var email = \"info@oneoffcoder.com\";\n",
    "\n",
    "var label = new StringBuilder()\n",
    "    .append(entity).append('\\n')\n",
    "    .append(address).append('\\n')\n",
    "    .append(city).append(' ')\n",
    "        .append(state).append(' ')\n",
    "        .append(zip).append('\\n')\n",
    "    .append(www).append('\\n')\n",
    "    .append(email)\n",
    "    .toString();\n",
    "    \n",
    "System.out.println(label);"
   ]
  },
  {
   "cell_type": "markdown",
   "metadata": {},
   "source": [
    "## HTTP"
   ]
  },
  {
   "cell_type": "code",
   "execution_count": 3,
   "metadata": {},
   "outputs": [
    {
     "name": "stdout",
     "output_type": "stream",
     "text": [
      "178\n"
     ]
    }
   ],
   "source": [
    "import java.net.http.HttpClient;\n",
    "import java.net.http.HttpRequest;\n",
    "import java.net.http.HttpResponse;\n",
    "\n",
    "String uri = \"http://www.oneoffcoder.com\";\n",
    "\n",
    "HttpClient client = HttpClient.newHttpClient();\n",
    "HttpRequest request = HttpRequest.newBuilder()\n",
    "      .uri(URI.create(uri))\n",
    "      .build();\n",
    "\n",
    "HttpResponse<String> response =\n",
    "      client.send(request, HttpResponse.BodyHandlers.ofString());\n",
    "\n",
    "String body = response.body();\n",
    "\n",
    "System.out.println(body.length());"
   ]
  },
  {
   "cell_type": "markdown",
   "metadata": {},
   "source": [
    "## Third-party libraries\n",
    "\n",
    "* [Maven Repository](https://mvnrepository.com/)\n",
    "* [Writing CSV files](http://opencsv.sourceforge.net/)"
   ]
  },
  {
   "cell_type": "code",
   "execution_count": 4,
   "metadata": {},
   "outputs": [],
   "source": [
    "%maven com.opencsv:opencsv:5.0\n",
    "\n",
    "import com.opencsv.*;\n",
    "\n",
    "var writer = new CSVWriterBuilder(new FileWriter(\"demo.csv\"))\n",
    "    .withSeparator(ICSVParser.DEFAULT_SEPARATOR)\n",
    "    .withQuoteChar(ICSVParser.DEFAULT_QUOTE_CHARACTER)\n",
    "    .withEscapeChar(ICSVParser.DEFAULT_ESCAPE_CHARACTER)\n",
    "    .withLineEnd(ICSVWriter.DEFAULT_LINE_END)\n",
    "    .build();\n",
    "    \n",
    "var entries = new String[][] {\n",
    "    { \"first_name\", \"last_name\" },\n",
    "    { \"John\", \"Doe\" },\n",
    "    { \"Jane\", \"Smith\" }\n",
    "};\n",
    "\n",
    "for (String[] row : entries) {\n",
    "    writer.writeNext(row);\n",
    "}\n",
    "\n",
    "writer.close();"
   ]
  },
  {
   "cell_type": "code",
   "execution_count": 5,
   "metadata": {},
   "outputs": [
    {
     "name": "stdout",
     "output_type": "stream",
     "text": [
      "John, Doe\n",
      "Jane, Smith\n"
     ]
    }
   ],
   "source": [
    "import com.opencsv.*;\n",
    "\n",
    "final var parser = new CSVParserBuilder()\n",
    "    .withSeparator(ICSVParser.DEFAULT_SEPARATOR)\n",
    "    .withQuoteChar(ICSVParser.DEFAULT_QUOTE_CHARACTER)\n",
    "    .withEscapeChar(ICSVParser.DEFAULT_ESCAPE_CHARACTER)\n",
    "    .build();\n",
    "    \n",
    "final var reader = new CSVReaderBuilder(new FileReader(\"demo.csv\"))\n",
    "    .withSkipLines(1)\n",
    "    .withCSVParser(parser)\n",
    "    .build();\n",
    "    \n",
    "String[] line;\n",
    "while ((line = reader.readNext()) != null) {\n",
    "   for (int i = 0; i < line.length; i++) {\n",
    "       System.out.print(line[i]);\n",
    "       if (i < line.length - 1) {\n",
    "           System.out.print(\", \");\n",
    "       } else if (i == line.length - 1) {\n",
    "           System.out.println();\n",
    "       }\n",
    "   }\n",
    "}\n",
    "\n",
    "reader.close();"
   ]
  }
 ],
 "metadata": {
  "kernelspec": {
   "display_name": "Java",
   "language": "java",
   "name": "java"
  },
  "language_info": {
   "codemirror_mode": "java",
   "file_extension": ".jshell",
   "mimetype": "text/x-java-source",
   "name": "Java",
   "pygments_lexer": "java",
   "version": "14-ea+18-Ubuntu-1"
  }
 },
 "nbformat": 4,
 "nbformat_minor": 4
}
