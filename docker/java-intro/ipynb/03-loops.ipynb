{
 "cells": [
  {
   "cell_type": "markdown",
   "metadata": {},
   "source": [
    "# while loop"
   ]
  },
  {
   "cell_type": "code",
   "execution_count": 1,
   "metadata": {},
   "outputs": [
    {
     "name": "stdout",
     "output_type": "stream",
     "text": [
      "0\n",
      "1\n",
      "2\n",
      "3\n",
      "4\n",
      "5\n",
      "6\n",
      "7\n",
      "8\n",
      "9\n"
     ]
    }
   ],
   "source": [
    "var n = 0;\n",
    "\n",
    "while (n < 10) {\n",
    "    System.out.println(n);\n",
    "    n++;\n",
    "}"
   ]
  },
  {
   "cell_type": "markdown",
   "metadata": {},
   "source": [
    "# do-while loop"
   ]
  },
  {
   "cell_type": "code",
   "execution_count": 2,
   "metadata": {},
   "outputs": [
    {
     "name": "stdout",
     "output_type": "stream",
     "text": [
      "0\n",
      "1\n",
      "2\n",
      "3\n",
      "4\n",
      "5\n",
      "6\n",
      "7\n",
      "8\n",
      "9\n"
     ]
    }
   ],
   "source": [
    "var n = 0;\n",
    "\n",
    "do {\n",
    "    System.out.println(n);\n",
    "    n++;\n",
    "} while (n < 10)"
   ]
  },
  {
   "cell_type": "markdown",
   "metadata": {},
   "source": [
    "# for loop"
   ]
  },
  {
   "cell_type": "code",
   "execution_count": 3,
   "metadata": {},
   "outputs": [
    {
     "name": "stdout",
     "output_type": "stream",
     "text": [
      "john\n",
      "jane\n",
      "joe\n",
      "jackson\n"
     ]
    }
   ],
   "source": [
    "var names = new String[] { \"john\", \"jane\", \"joe\", \"jackson\" };\n",
    "\n",
    "for (int i = 0; i < names.length; i++) {\n",
    "    System.out.println(names[i]);\n",
    "}"
   ]
  },
  {
   "cell_type": "code",
   "execution_count": 4,
   "metadata": {},
   "outputs": [
    {
     "name": "stdout",
     "output_type": "stream",
     "text": [
      "1\n",
      "3\n",
      "5\n"
     ]
    }
   ],
   "source": [
    "var numbers = new int[] { 0, 1, 2, 3, 4, 5, 6, 7, 8, 9, 10 };\n",
    "var numOfOdds = 0;\n",
    "\n",
    "for (int i = 0; i < numbers.length; i++) {\n",
    "    if (numbers[i] % 2 > 0) {\n",
    "        System.out.println(numbers[i]);\n",
    "        numOfOdds++;\n",
    "    }\n",
    "    \n",
    "    if (numOfOdds >= 3) {\n",
    "        break;\n",
    "    }\n",
    "}"
   ]
  },
  {
   "cell_type": "markdown",
   "metadata": {},
   "source": [
    "# for-each loop"
   ]
  },
  {
   "cell_type": "code",
   "execution_count": 5,
   "metadata": {},
   "outputs": [],
   "source": [
    "var numbers = new int[] { 0, 1, 2, 3, 4, 5, 6, 7, 8, 9, 10 };\n",
    "var sum = 0;\n",
    "\n",
    "for (int x : numbers) {\n",
    "    sum += x;\n",
    "}"
   ]
  },
  {
   "cell_type": "code",
   "execution_count": 6,
   "metadata": {},
   "outputs": [
    {
     "name": "stdout",
     "output_type": "stream",
     "text": [
      "0\n",
      "1\n",
      "2\n",
      "3\n"
     ]
    }
   ],
   "source": [
    "var matrix = new int[][] { {0, 1}, {2, 3} };\n",
    "\n",
    "for (int[] row : matrix) {\n",
    "    for (int v : row) {\n",
    "        System.out.println(v);\n",
    "    }\n",
    "}"
   ]
  },
  {
   "cell_type": "markdown",
   "metadata": {},
   "source": [
    "# Jump statements"
   ]
  },
  {
   "cell_type": "markdown",
   "metadata": {},
   "source": [
    "## break"
   ]
  },
  {
   "cell_type": "code",
   "execution_count": 7,
   "metadata": {},
   "outputs": [
    {
     "name": "stdout",
     "output_type": "stream",
     "text": [
      "found 3 at index 3\n"
     ]
    }
   ],
   "source": [
    "var numbers = new int[] { 0, 1, 2, 3, 4, 5 };\n",
    "\n",
    "for (int i = 0; i < numbers.length; i++) {\n",
    "    if (numbers[i] == 3) {\n",
    "        System.out.println(\"found 3 at index \" + i);\n",
    "        break;\n",
    "    }\n",
    "}"
   ]
  },
  {
   "cell_type": "code",
   "execution_count": 8,
   "metadata": {},
   "outputs": [
    {
     "name": "stdout",
     "output_type": "stream",
     "text": [
      "found 3 at i = 1, j = 1\n"
     ]
    }
   ],
   "source": [
    "var matrix = new int[][] { {0, 1}, {2, 3}, {4, 5} };\n",
    "\n",
    "rowIter: for (int i = 0; i < matrix.length; i++) {\n",
    "    for (int j = 0; j < matrix[i].length; j++) {\n",
    "        if (matrix[i][j] == 3) {\n",
    "            System.out.println(\"found 3 at i = \" + i + \", j = \" + j);\n",
    "            break rowIter;\n",
    "        }\n",
    "    }\n",
    "}"
   ]
  },
  {
   "cell_type": "markdown",
   "metadata": {},
   "source": [
    "## continue"
   ]
  },
  {
   "cell_type": "code",
   "execution_count": 9,
   "metadata": {},
   "outputs": [
    {
     "name": "stdout",
     "output_type": "stream",
     "text": [
      "found odd number 1 at index 1\n",
      "found odd number 3 at index 3\n",
      "found odd number 5 at index 5\n"
     ]
    }
   ],
   "source": [
    "var numbers = new int[] { 0, 1, 2, 3, 4, 5 };\n",
    "\n",
    "for (int i = 0; i < numbers.length; i++) {\n",
    "    if (numbers[i] % 2 == 0) {\n",
    "        continue;\n",
    "    }\n",
    "    System.out.println(\"found odd number \" + numbers[i] + \" at index \" + i);\n",
    "}"
   ]
  },
  {
   "cell_type": "code",
   "execution_count": 10,
   "metadata": {},
   "outputs": [
    {
     "name": "stdout",
     "output_type": "stream",
     "text": [
      "found odd number 1 at i = 0, j = 1\n",
      "found odd number 3 at i = 1, j = 0\n",
      "found odd number 7 at i = 2, j = 1\n"
     ]
    }
   ],
   "source": [
    "var matrix = new int[][] { {0, 1, 2}, {3, 4, 5}, {6, 7, 8} };\n",
    "\n",
    "rowIter: for (int i = 0; i < matrix.length; i++) {\n",
    "    for (int j = 0; j < matrix[i].length; j++) {\n",
    "        if (matrix[i][j] % 2 != 0) {\n",
    "            System.out.println(\"found odd number \" + matrix[i][j] + \" at i = \" + i + \", j = \" + j);\n",
    "            continue rowIter;\n",
    "        }\n",
    "    }\n",
    "}"
   ]
  }
 ],
 "metadata": {
  "kernelspec": {
   "display_name": "Java",
   "language": "java",
   "name": "java"
  },
  "language_info": {
   "codemirror_mode": "java",
   "file_extension": ".jshell",
   "mimetype": "text/x-java-source",
   "name": "Java",
   "pygments_lexer": "java",
   "version": "14-ea+18-Ubuntu-1"
  }
 },
 "nbformat": 4,
 "nbformat_minor": 4
}
