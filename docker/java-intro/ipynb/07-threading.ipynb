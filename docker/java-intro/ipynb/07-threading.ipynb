{
 "cells": [
  {
   "cell_type": "markdown",
   "metadata": {},
   "source": [
    "# Threading"
   ]
  },
  {
   "cell_type": "markdown",
   "metadata": {},
   "source": [
    "## Implementing Runnable"
   ]
  },
  {
   "cell_type": "code",
   "execution_count": 45,
   "metadata": {},
   "outputs": [
    {
     "name": "stdout",
     "output_type": "stream",
     "text": [
      "\n",
      "hi"
     ]
    }
   ],
   "source": [
    "public class TikTokRunnable implements Runnable {\n",
    "  final int maxIters = 5;\n",
    "  final int sleepTime = 500;\n",
    "\n",
    "  public void run() {\n",
    "    for (int i = 0; i < maxIters; i++) {\n",
    "      System.out.println(\"hi\");\n",
    "\n",
    "      try {\n",
    "        Thread.sleep(sleepTime);\n",
    "      } catch (InterruptedException e) {\n",
    "        // swallow\n",
    "      }\n",
    "    }\n",
    "  }\n",
    "}\n",
    "\n",
    "var t = new Thread(new TikTokRunnable());\n",
    "t.start();"
   ]
  },
  {
   "cell_type": "markdown",
   "metadata": {},
   "source": [
    "## Extending Thread"
   ]
  },
  {
   "cell_type": "code",
   "execution_count": 37,
   "metadata": {},
   "outputs": [],
   "source": [
    "public class TikTokThread extends Thread {\n",
    "  final int maxIters = 5;\n",
    "  final int sleepTime = 500;\n",
    "\n",
    "  @Override\n",
    "  public void run() {\n",
    "    for (int i = 0; i < maxIters; i++) {\n",
    "      System.out.println(\"hi\");\n",
    "\n",
    "      try {\n",
    "        Thread.sleep(sleepTime);\n",
    "      } catch (InterruptedException e) {\n",
    "        // swallow\n",
    "      }\n",
    "    }\n",
    "  }\n",
    "}\n",
    "\n",
    "var t = new TikTokThread();\n",
    "t.start();"
   ]
  },
  {
   "cell_type": "markdown",
   "metadata": {},
   "source": [
    "## Anonymous subclass"
   ]
  },
  {
   "cell_type": "code",
   "execution_count": 46,
   "metadata": {},
   "outputs": [],
   "source": [
    "var t = new Thread(\"test\") {\n",
    "  final int maxIters = 5;\n",
    "  final int sleepTime = 500;\n",
    "\n",
    "  @Override\n",
    "  public void run() {\n",
    "    for (int i = 0; i < maxIters; i++) {\n",
    "      System.out.println(\"hi\");\n",
    "\n",
    "      try {\n",
    "        Thread.sleep(sleepTime);\n",
    "      } catch (InterruptedException e) {\n",
    "        // swallow\n",
    "      }\n",
    "    }\n",
    "  }\n",
    "};\n",
    "\n",
    "t.start()"
   ]
  },
  {
   "cell_type": "markdown",
   "metadata": {},
   "source": [
    "## Lambda runnable"
   ]
  },
  {
   "cell_type": "code",
   "execution_count": 40,
   "metadata": {},
   "outputs": [],
   "source": [
    "Thread t = new Thread(() -> {\n",
    "  final int maxIters = 5;\n",
    "  final int sleepTime = 500;\n",
    "\n",
    "  for (int i = 0; i < maxIters; i++) {\n",
    "    System.out.println(\"hi\");\n",
    "\n",
    "    try {\n",
    "      Thread.sleep(sleepTime);\n",
    "    } catch (InterruptedException e) {\n",
    "      // swallow\n",
    "    }\n",
    "  }\n",
    "});\n",
    "\n",
    "t.start();"
   ]
  },
  {
   "cell_type": "markdown",
   "metadata": {},
   "source": [
    "# Long-running thread"
   ]
  },
  {
   "cell_type": "code",
   "execution_count": 44,
   "metadata": {},
   "outputs": [
    {
     "name": "stdout",
     "output_type": "stream",
     "text": [
      "hi 0: 0\n",
      "hi 1: 0\n",
      "hi 2: 0\n",
      "hi 3: 0"
     ]
    }
   ],
   "source": [
    "Thread[] threads = new Thread[5];\n",
    "\n",
    "for (int i = 0; i < threads.length; i++) {\n",
    "    final int id = i;\n",
    "    threads[i] = new Thread(() -> { \n",
    "        for (int j = 0; j < 5; j++) {\n",
    "            System.out.println(\"hi \" + id + \": \" + j);\n",
    "            \n",
    "            try {\n",
    "                Thread.sleep(1000L);\n",
    "            } catch (InterruptedException e) {\n",
    "                e.printStackTrace();\n",
    "            }\n",
    "        }\n",
    "    });\n",
    "}\n",
    "\n",
    "for (Thread t : threads) {\n",
    "    t.start();\n",
    "}"
   ]
  },
  {
   "cell_type": "code",
   "execution_count": null,
   "metadata": {},
   "outputs": [],
   "source": []
  }
 ],
 "metadata": {
  "kernelspec": {
   "display_name": "Java",
   "language": "java",
   "name": "java"
  },
  "language_info": {
   "codemirror_mode": "java",
   "file_extension": ".jshell",
   "mimetype": "text/x-java-source",
   "name": "Java",
   "pygments_lexer": "java",
   "version": "14-ea+18-Ubuntu-1"
  }
 },
 "nbformat": 4,
 "nbformat_minor": 4
}
