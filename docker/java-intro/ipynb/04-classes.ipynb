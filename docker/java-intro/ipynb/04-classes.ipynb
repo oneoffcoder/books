{
 "cells": [
  {
   "cell_type": "markdown",
   "metadata": {},
   "source": [
    "# Basic class"
   ]
  },
  {
   "cell_type": "code",
   "execution_count": 1,
   "metadata": {},
   "outputs": [],
   "source": [
    "public class Car {\n",
    "    String make;\n",
    "    String model;\n",
    "    int year;\n",
    "    \n",
    "    public Car(String make, String model, int year) {\n",
    "        this.make = make;\n",
    "        this.model = model;\n",
    "        this.year = year;\n",
    "    }\n",
    "}"
   ]
  },
  {
   "cell_type": "code",
   "execution_count": 2,
   "metadata": {},
   "outputs": [
    {
     "name": "stdout",
     "output_type": "stream",
     "text": [
      "Honda Accord 2019\n"
     ]
    }
   ],
   "source": [
    "var car = new Car(\"Honda\", \"Accord\", 2019);\n",
    "\n",
    "System.out.println(car.make + \" \" + car.model + \" \" + car.year);"
   ]
  },
  {
   "cell_type": "markdown",
   "metadata": {},
   "source": [
    "# Getters/setters or accessors/mutators"
   ]
  },
  {
   "cell_type": "code",
   "execution_count": 3,
   "metadata": {},
   "outputs": [],
   "source": [
    "public class Car {\n",
    "    private String make;\n",
    "    private String model;\n",
    "    private int year;\n",
    "    \n",
    "    public Car(String make, String model, int year) {\n",
    "        this.make = make;\n",
    "        this.model = model;\n",
    "        this.year = year;\n",
    "    }\n",
    "    \n",
    "    public String getMake() {\n",
    "        return make;\n",
    "    }\n",
    "    \n",
    "    public String getModel() {\n",
    "        return model;\n",
    "    }\n",
    "    \n",
    "    public int getYear() {\n",
    "        return year;\n",
    "    }\n",
    "    \n",
    "    public void setMake(String make) {\n",
    "        this.make = make;\n",
    "    }\n",
    "    \n",
    "    public void setModel(String model) {\n",
    "        this.model = model;\n",
    "    }\n",
    "    \n",
    "    public void setYear(int year) {\n",
    "        this.year = year;\n",
    "    }\n",
    "}"
   ]
  },
  {
   "cell_type": "code",
   "execution_count": 4,
   "metadata": {},
   "outputs": [
    {
     "name": "stdout",
     "output_type": "stream",
     "text": [
      "Honda Accord 2019\n"
     ]
    }
   ],
   "source": [
    "var car = new Car(\"Honda\", \"Accord\", 2019);\n",
    "\n",
    "System.out.println(car.getMake() + \" \" + car.getModel() + \" \" + car.getYear());"
   ]
  },
  {
   "cell_type": "markdown",
   "metadata": {},
   "source": [
    "# Overriding methods"
   ]
  },
  {
   "cell_type": "code",
   "execution_count": 5,
   "metadata": {},
   "outputs": [],
   "source": [
    "public class Car {\n",
    "    private String make;\n",
    "    private String model;\n",
    "    private int year;\n",
    "    \n",
    "    public Car() {\n",
    "        this.make = \"None\";\n",
    "        this.model = \"None\";\n",
    "        this.year = -1;\n",
    "    }\n",
    "    \n",
    "    public Car(String make, String model, int year) {\n",
    "        this.make = make;\n",
    "        this.model = model;\n",
    "        this.year = year;\n",
    "    }\n",
    "    \n",
    "    public String getMake() {\n",
    "        return make;\n",
    "    }\n",
    "    \n",
    "    public String getModel() {\n",
    "        return model;\n",
    "    }\n",
    "    \n",
    "    public int getYear() {\n",
    "        return year;\n",
    "    }\n",
    "    \n",
    "    public void setMake(String make) {\n",
    "        this.make = make;\n",
    "    }\n",
    "    \n",
    "    public void setModel(String model) {\n",
    "        this.model = model;\n",
    "    }\n",
    "    \n",
    "    public void setYear(int year) {\n",
    "        this.year = year;\n",
    "    }\n",
    "    \n",
    "    @Override\n",
    "    public String toString() {\n",
    "        return make + \" \" + model + \" \" + year;\n",
    "    }\n",
    "    \n",
    "    @Override\n",
    "    public boolean equals(Object object) {\n",
    "        if (object == this) {\n",
    "            return true;\n",
    "        }\n",
    "        \n",
    "        if (null == object || !(object instanceof Car)) {\n",
    "            return false;\n",
    "        }\n",
    "        \n",
    "        var that = (Car)object;\n",
    "        if (this.make.equals(that.make) \n",
    "            && this.model.equals(that.model)\n",
    "            && this.year == that.year) {\n",
    "            return true;\n",
    "        }\n",
    "        \n",
    "        return false;\n",
    "    }\n",
    "    \n",
    "    @Override\n",
    "    public int hashCode() {\n",
    "        int result = 17;\n",
    "        result = 31 * result + make.hashCode();\n",
    "        result = 31 * result + model.hashCode();\n",
    "        result = 31 * result + (new Integer(year)).hashCode();\n",
    "        return result;\n",
    "    }\n",
    "}"
   ]
  },
  {
   "cell_type": "code",
   "execution_count": 6,
   "metadata": {},
   "outputs": [
    {
     "name": "stdout",
     "output_type": "stream",
     "text": [
      "Honda Accord 2019\n"
     ]
    }
   ],
   "source": [
    "var car = new Car(\"Honda\", \"Accord\", 2019);\n",
    "\n",
    "System.out.println(car);"
   ]
  },
  {
   "cell_type": "code",
   "execution_count": 7,
   "metadata": {},
   "outputs": [
    {
     "name": "stdout",
     "output_type": "stream",
     "text": [
      "true\n",
      "false\n",
      "-1048876746\n",
      "-1048876746\n",
      "-1048876745\n"
     ]
    }
   ],
   "source": [
    "var car1 = new Car(\"Honda\", \"Accord\", 2019);\n",
    "var car2 = new Car(\"Honda\", \"Accord\", 2019);\n",
    "var car3 = new Car(\"Honda\", \"Accord\", 2020);\n",
    "\n",
    "System.out.println(car1.equals(car2));\n",
    "System.out.println(car1.equals(car3));\n",
    "\n",
    "System.out.println(car1.hashCode());\n",
    "System.out.println(car2.hashCode());\n",
    "System.out.println(car3.hashCode());"
   ]
  },
  {
   "cell_type": "markdown",
   "metadata": {},
   "source": [
    "# Methods with logic"
   ]
  },
  {
   "cell_type": "code",
   "execution_count": 8,
   "metadata": {},
   "outputs": [],
   "source": [
    "public class Car {\n",
    "    private String make;\n",
    "    private String model;\n",
    "    private int year;\n",
    "    private double milesPerGallon;\n",
    "    \n",
    "    public Car() {\n",
    "        this(\"None\", \"None\", -1, 0.0d);\n",
    "    }\n",
    "    \n",
    "    public Car(String make, String model, int year, double milesPerGallon) {\n",
    "        this.make = make;\n",
    "        this.model = model;\n",
    "        this.year = year;\n",
    "        this.milesPerGallon = milesPerGallon;\n",
    "    }\n",
    "    \n",
    "    public String getMake() {\n",
    "        return make;\n",
    "    }\n",
    "    \n",
    "    public String getModel() {\n",
    "        return model;\n",
    "    }\n",
    "    \n",
    "    public int getYear() {\n",
    "        return year;\n",
    "    }\n",
    "    \n",
    "    public double getMilesPerGallon() {\n",
    "        return milesPerGallon;\n",
    "    }\n",
    "    \n",
    "    public double getMiles(double gallons) {\n",
    "        return milesPerGallon * gallons;\n",
    "    }\n",
    "    \n",
    "    public double getGallons(double miles) {\n",
    "        return (1.0 / milesPerGallon) * miles;\n",
    "    }\n",
    "    \n",
    "    @Override\n",
    "    public String toString() {\n",
    "        return make + \" \" + model + \" \" + year;\n",
    "    }\n",
    "    \n",
    "    @Override\n",
    "    public boolean equals(Object object) {\n",
    "        if (object == this) {\n",
    "            return true;\n",
    "        }\n",
    "        \n",
    "        if (null == object || !(object instanceof Car)) {\n",
    "            return false;\n",
    "        }\n",
    "        \n",
    "        var that = (Car)object;\n",
    "        if (this.make.equals(that.make) \n",
    "            && this.model.equals(that.model)\n",
    "            && this.year == that.year\n",
    "            && this.milesPerGallon == that.milesPerGallon) {\n",
    "            return true;\n",
    "        }\n",
    "        \n",
    "        return false;\n",
    "    }\n",
    "    \n",
    "    @Override\n",
    "    public int hashCode() {\n",
    "        int result = 17;\n",
    "        result = 31 * result + make.hashCode();\n",
    "        result = 31 * result + model.hashCode();\n",
    "        result = 31 * result + (new Integer(year)).hashCode();\n",
    "        result = 31 * result + (new Double(milesPerGallon).hashCode());\n",
    "        return result;\n",
    "    }\n",
    "}"
   ]
  },
  {
   "cell_type": "code",
   "execution_count": 10,
   "metadata": {},
   "outputs": [
    {
     "name": "stdout",
     "output_type": "stream",
     "text": [
      "Honda Accord 2019 can travel 100 but needs 4.55 gallons of gas\n",
      "Honda Accord 2019 with 20 gallons of gas can travel 440.0 miles\n"
     ]
    }
   ],
   "source": [
    "Car car = new Car(\"Honda\", \"Accord\", 2019, 22.0d);\n",
    "\n",
    "var miles = 100;\n",
    "var gallons = 20;\n",
    "\n",
    "var gallonsRequired = car.getGallons(miles);\n",
    "var mileage = car.getMiles(gallons);\n",
    "\n",
    "System.out.println(car + \" can travel \" + miles + \n",
    "    \" but needs \" + String.format(\"%.2f\", gallonsRequired) + \" gallons of gas\");\n",
    "    \n",
    "System.out.println(car + \" with \" + gallons + \n",
    "    \" gallons of gas can travel \" + mileage + \" miles\");;"
   ]
  },
  {
   "cell_type": "markdown",
   "metadata": {},
   "source": [
    "## Static methods"
   ]
  },
  {
   "cell_type": "code",
   "execution_count": 11,
   "metadata": {},
   "outputs": [],
   "source": [
    "public class Car {\n",
    "    private String make;\n",
    "    private String model;\n",
    "    private int year;\n",
    "    private double milesPerGallon;\n",
    "    \n",
    "    public Car() {\n",
    "        this(\"None\", \"None\", -1, 0.0d);\n",
    "    }\n",
    "    \n",
    "    public Car(String make, String model, int year, double milesPerGallon) {\n",
    "        this.make = make;\n",
    "        this.model = model;\n",
    "        this.year = year;\n",
    "        this.milesPerGallon = milesPerGallon;\n",
    "    }\n",
    "    \n",
    "    public String getMake() {\n",
    "        return make;\n",
    "    }\n",
    "    \n",
    "    public String getModel() {\n",
    "        return model;\n",
    "    }\n",
    "    \n",
    "    public int getYear() {\n",
    "        return year;\n",
    "    }\n",
    "    \n",
    "    public double getMilesPerGallon() {\n",
    "        return milesPerGallon;\n",
    "    }\n",
    "    \n",
    "    public double getMiles(double gallons) {\n",
    "        return milesPerGallon * gallons;\n",
    "    }\n",
    "    \n",
    "    public double getGallons(double miles) {\n",
    "        return (1.0 / milesPerGallon) * miles;\n",
    "    }\n",
    "    \n",
    "    @Override\n",
    "    public String toString() {\n",
    "        return make + \" \" + model + \" \" + year;\n",
    "    }\n",
    "    \n",
    "    @Override\n",
    "    public boolean equals(Object object) {\n",
    "        if (object == this) {\n",
    "            return true;\n",
    "        }\n",
    "        \n",
    "        if (null == object || !(object instanceof Car)) {\n",
    "            return false;\n",
    "        }\n",
    "        \n",
    "        var that = (Car)object;\n",
    "        if (this.make.equals(that.make) \n",
    "            && this.model.equals(that.model)\n",
    "            && this.year == that.year\n",
    "            && this.milesPerGallon == that.milesPerGallon) {\n",
    "            return true;\n",
    "        }\n",
    "        \n",
    "        return false;\n",
    "    }\n",
    "    \n",
    "    @Override\n",
    "    public int hashCode() {\n",
    "        int result = 17;\n",
    "        result = 31 * result + make.hashCode();\n",
    "        result = 31 * result + model.hashCode();\n",
    "        result = 31 * result + (new Integer(year)).hashCode();\n",
    "        result = 31 * result + (new Double(milesPerGallon).hashCode());\n",
    "        return result;\n",
    "    }\n",
    "    \n",
    "    public static Car getBetterMileage(Car lhs, Car rhs) {\n",
    "        return lhs.milesPerGallon > rhs.milesPerGallon ? lhs : rhs;\n",
    "    }\n",
    "}"
   ]
  },
  {
   "cell_type": "code",
   "execution_count": 13,
   "metadata": {},
   "outputs": [
    {
     "name": "stdout",
     "output_type": "stream",
     "text": [
      "Honda Accord 2019 vs Honda Civic 2019\n",
      "Honda Civic 2019 has better mileage\n"
     ]
    }
   ],
   "source": [
    "Car car1 = new Car(\"Honda\", \"Accord\", 2019, 22.0);\n",
    "Car car2 = new Car(\"Honda\", \"Civic\", 2019, 25.0);\n",
    "\n",
    "System.out.println(car1 + \" vs \" + car2);\n",
    "System.out.println(Car.getBetterMileage(car1, car2) + \" has better mileage\");"
   ]
  },
  {
   "cell_type": "markdown",
   "metadata": {},
   "source": [
    "## Variable-length methods"
   ]
  },
  {
   "cell_type": "code",
   "execution_count": 17,
   "metadata": {},
   "outputs": [],
   "source": [
    "public class Car {\n",
    "    private String make;\n",
    "    private String model;\n",
    "    private int year;\n",
    "    private double milesPerGallon;\n",
    "    private String[] passengers;\n",
    "    \n",
    "    public Car() {\n",
    "        this(\"None\", \"None\", -1, 0.0d);\n",
    "    }\n",
    "    \n",
    "    public Car(String make, String model, int year, double milesPerGallon) {\n",
    "        this.make = make;\n",
    "        this.model = model;\n",
    "        this.year = year;\n",
    "        this.milesPerGallon = milesPerGallon;\n",
    "    }\n",
    "    \n",
    "    public String getMake() {\n",
    "        return make;\n",
    "    }\n",
    "    \n",
    "    public String getModel() {\n",
    "        return model;\n",
    "    }\n",
    "    \n",
    "    public int getYear() {\n",
    "        return year;\n",
    "    }\n",
    "    \n",
    "    public double getMilesPerGallon() {\n",
    "        return milesPerGallon;\n",
    "    }\n",
    "    \n",
    "    public double getMiles(double gallons) {\n",
    "        return milesPerGallon * gallons;\n",
    "    }\n",
    "    \n",
    "    public double getGallons(double miles) {\n",
    "        return (1.0 / milesPerGallon) * miles;\n",
    "    }\n",
    "    \n",
    "    public String[] getPassengers() {\n",
    "        return this.passengers;\n",
    "    }\n",
    "    \n",
    "    public void setPassengers(String ... passengers) {\n",
    "        this.passengers = passengers;\n",
    "    }\n",
    "    \n",
    "    @Override\n",
    "    public String toString() {\n",
    "        return make + \" \" + model + \" \" + year;\n",
    "    }\n",
    "    \n",
    "    @Override\n",
    "    public boolean equals(Object object) {\n",
    "        if (object == this) {\n",
    "            return true;\n",
    "        }\n",
    "        \n",
    "        if (null == object || !(object instanceof Car)) {\n",
    "            return false;\n",
    "        }\n",
    "        \n",
    "        var that = (Car)object;\n",
    "        if (this.make.equals(that.make) \n",
    "            && this.model.equals(that.model)\n",
    "            && this.year == that.year\n",
    "            && this.milesPerGallon == that.milesPerGallon) {\n",
    "            return true;\n",
    "        }\n",
    "        \n",
    "        return false;\n",
    "    }\n",
    "    \n",
    "    @Override\n",
    "    public int hashCode() {\n",
    "        int result = 17;\n",
    "        result = 31 * result + make.hashCode();\n",
    "        result = 31 * result + model.hashCode();\n",
    "        result = 31 * result + (new Integer(year)).hashCode();\n",
    "        result = 31 * result + (new Double(milesPerGallon).hashCode());\n",
    "        return result;\n",
    "    }\n",
    "    \n",
    "    public static Car getBetterMileage(Car lhs, Car rhs) {\n",
    "        return lhs.milesPerGallon > rhs.milesPerGallon ? lhs : rhs;\n",
    "    }\n",
    "}"
   ]
  },
  {
   "cell_type": "code",
   "execution_count": 19,
   "metadata": {},
   "outputs": [
    {
     "name": "stdout",
     "output_type": "stream",
     "text": [
      "John\n",
      "Joe\n",
      "Jane\n",
      "Joyce\n"
     ]
    }
   ],
   "source": [
    "Car car = new Car(\"Honda\", \"Accord\", 2019, 22.0);\n",
    "car.setPassengers(\"John\", \"Joe\", \"Jane\", \"Joyce\");\n",
    "\n",
    "for (String passenger : car.getPassengers()) {\n",
    "    System.out.println(passenger);\n",
    "}"
   ]
  },
  {
   "cell_type": "markdown",
   "metadata": {},
   "source": [
    "# Inheritance\n",
    "\n",
    "* abstract classes\n",
    "* dynamic method dispatch\n",
    "* polymorphism\n",
    "* final field\n",
    "* final method"
   ]
  },
  {
   "cell_type": "code",
   "execution_count": 30,
   "metadata": {},
   "outputs": [],
   "source": [
    "public abstract class Pet {\n",
    "    protected final String name;\n",
    "    \n",
    "    public Pet(String name) {\n",
    "        this.name = name;\n",
    "    }\n",
    "    \n",
    "    public final String whoAmI() {\n",
    "        return \"Pet\";\n",
    "    }\n",
    "    \n",
    "    public abstract String getNoise();\n",
    "    \n",
    "    @Override\n",
    "    public String toString() {\n",
    "        return name;\n",
    "    }\n",
    "}\n",
    "\n",
    "public class Dog extends Pet {\n",
    "    public Dog(String name) {\n",
    "        super(name);\n",
    "    }\n",
    "    \n",
    "    @Override\n",
    "    public String getNoise() {\n",
    "        return \"woof!\";\n",
    "    }\n",
    "    \n",
    "    @Override\n",
    "    public String toString() {\n",
    "        return \"Dog: \" + name;\n",
    "    }\n",
    "}\n",
    "\n",
    "public class Cat extends Pet {\n",
    "    public Cat(String name) {\n",
    "        super(name);\n",
    "    }\n",
    "    \n",
    "    @Override\n",
    "    public String getNoise() {\n",
    "        return \"meow!\";\n",
    "    }\n",
    "    \n",
    "    @Override\n",
    "    public String toString() {\n",
    "        return \"Cat: \" + name;\n",
    "    }\n",
    "}"
   ]
  },
  {
   "cell_type": "code",
   "execution_count": 31,
   "metadata": {},
   "outputs": [
    {
     "name": "stdout",
     "output_type": "stream",
     "text": [
      "Dog: Max says woof!\n",
      "Cat: Nancy says meow!\n",
      "Dog: Max is a Pet\n",
      "Cat: Nancy is a Pet\n"
     ]
    }
   ],
   "source": [
    "Pet dog = new Dog(\"Max\");\n",
    "Pet cat = new Cat(\"Nancy\");\n",
    "\n",
    "System.out.println(dog + \" says \" + dog.getNoise());\n",
    "System.out.println(cat + \" says \" + cat.getNoise());\n",
    "\n",
    "System.out.println(dog + \" is a \" + dog.whoAmI());\n",
    "System.out.println(cat + \" is a \" + cat.whoAmI());"
   ]
  },
  {
   "cell_type": "markdown",
   "metadata": {},
   "source": [
    "# Packaging"
   ]
  },
  {
   "cell_type": "markdown",
   "metadata": {},
   "source": [
    "```java\n",
    "package com.oneoffcoder.pet;\n",
    "\n",
    "public abstract class Pet {\n",
    "    protected final String name;\n",
    "    \n",
    "    public Pet(String name) {\n",
    "        this.name = name;\n",
    "    }\n",
    "    \n",
    "    public final String whoAmI() {\n",
    "        return \"Pet\";\n",
    "    }\n",
    "    \n",
    "    public abstract String getNoise();\n",
    "    \n",
    "    @Override\n",
    "    public String toString() {\n",
    "        return name;\n",
    "    }\n",
    "}\n",
    "\n",
    "public class Dog extends Pet {\n",
    "    public Dog(String name) {\n",
    "        super(name);\n",
    "    }\n",
    "    \n",
    "    @Override\n",
    "    public String getNoise() {\n",
    "        return \"woof!\";\n",
    "    }\n",
    "    \n",
    "    @Override\n",
    "    public String toString() {\n",
    "        return \"Dog: \" + name;\n",
    "    }\n",
    "}\n",
    "\n",
    "public class Cat extends Pet {\n",
    "    public Cat(String name) {\n",
    "        super(name);\n",
    "    }\n",
    "    \n",
    "    @Override\n",
    "    public String getNoise() {\n",
    "        return \"meow!\";\n",
    "    }\n",
    "    \n",
    "    @Override\n",
    "    public String toString() {\n",
    "        return \"Cat: \" + name;\n",
    "    }\n",
    "}\n",
    "\n",
    "import com.oneoffcoder.pet.*;\n",
    "\n",
    "Pet dog = new Dog(\"Max\");\n",
    "Pet cat = new Cat(\"Nancy\");\n",
    "```"
   ]
  },
  {
   "cell_type": "markdown",
   "metadata": {},
   "source": [
    "# Interface"
   ]
  },
  {
   "cell_type": "markdown",
   "metadata": {},
   "source": [
    "## Typical interface"
   ]
  },
  {
   "cell_type": "code",
   "execution_count": 33,
   "metadata": {},
   "outputs": [],
   "source": [
    "public interface Pet {\n",
    "    public String getName();\n",
    "    public String getNoise();\n",
    "}"
   ]
  },
  {
   "cell_type": "markdown",
   "metadata": {},
   "source": [
    "## Nested interfaces"
   ]
  },
  {
   "cell_type": "code",
   "execution_count": 34,
   "metadata": {},
   "outputs": [],
   "source": [
    "public interface Pet {\n",
    "    public interface TYPE {\n",
    "        public int DOG = 1;\n",
    "        public int CAT = 2;\n",
    "    }\n",
    "    public String getName();\n",
    "    public String getNoise();\n",
    "    public int getType();\n",
    "}"
   ]
  },
  {
   "cell_type": "markdown",
   "metadata": {},
   "source": [
    "## Interface implementation"
   ]
  },
  {
   "cell_type": "code",
   "execution_count": 35,
   "metadata": {},
   "outputs": [],
   "source": [
    "public abstract class AbstractPet implements Pet {\n",
    "    protected final String name;\n",
    "    protected final int type;\n",
    "    \n",
    "    public AbstractPet(String name, int type) {\n",
    "        this.name = name;\n",
    "        this.type = type;\n",
    "    }\n",
    "    \n",
    "    public String getName() { return name; }\n",
    "    public int getType() { return type; }\n",
    "    \n",
    "    @Override\n",
    "    public String toString() {\n",
    "        return name;\n",
    "    }\n",
    "}\n",
    "\n",
    "public class Dog extends AbstractPet {\n",
    "    public Dog(String name) {\n",
    "        super(name, Pet.TYPE.DOG);\n",
    "    }\n",
    "    \n",
    "    @Override\n",
    "    public String getNoise() {\n",
    "        return \"woof!\";\n",
    "    }\n",
    "}\n",
    "\n",
    "public class Cat extends AbstractPet {\n",
    "    public Cat(String name) {\n",
    "        super(name, Pet.TYPE.CAT);\n",
    "    }\n",
    "    \n",
    "    @Override\n",
    "    public String getNoise() {\n",
    "        return \"meow!\";\n",
    "    }\n",
    "}"
   ]
  },
  {
   "cell_type": "code",
   "execution_count": 37,
   "metadata": {},
   "outputs": [
    {
     "name": "stdout",
     "output_type": "stream",
     "text": [
      "Max says woof!\n",
      "Nancy says meow!\n"
     ]
    }
   ],
   "source": [
    "var pets = new Pet[] { new Dog(\"Max\"), new Cat(\"Nancy\") };\n",
    "\n",
    "for (Pet pet : pets) {\n",
    "    System.out.println(pet + \" says \" + pet.getNoise());\n",
    "}"
   ]
  },
  {
   "cell_type": "markdown",
   "metadata": {},
   "source": [
    "## More on interfaces\n",
    "\n",
    "* default methods\n",
    "* static methods"
   ]
  },
  {
   "cell_type": "code",
   "execution_count": 43,
   "metadata": {},
   "outputs": [],
   "source": [
    "public interface Pet {\n",
    "    public interface TYPE {\n",
    "        public int DOG = 1;\n",
    "        public int CAT = 2;\n",
    "    }\n",
    "    public String getName();\n",
    "    public String getNoise();\n",
    "    public int getType();\n",
    "    \n",
    "    default String whoAmI() {\n",
    "        return \"Pet\";\n",
    "    }\n",
    "    \n",
    "    static String getNaturalType(int type) {\n",
    "        switch (type) {\n",
    "            case TYPE.DOG:\n",
    "                return \"Dog\";\n",
    "            case TYPE.CAT:\n",
    "                return \"Cat\";\n",
    "            default:\n",
    "                return \"Uknown\";\n",
    "        }\n",
    "    }\n",
    "}\n",
    "\n",
    "public abstract class AbstractPet implements Pet {\n",
    "    protected final String name;\n",
    "    protected final int type;\n",
    "    \n",
    "    public AbstractPet(String name, int type) {\n",
    "        this.name = name;\n",
    "        this.type = type;\n",
    "    }\n",
    "    \n",
    "    public String getName() { return name; }\n",
    "    public int getType() { return type; }\n",
    "    \n",
    "    @Override\n",
    "    public String toString() {\n",
    "        return name;\n",
    "    }\n",
    "}\n",
    "\n",
    "public class Dog extends AbstractPet {\n",
    "    public Dog(String name) {\n",
    "        super(name, Pet.TYPE.DOG);\n",
    "    }\n",
    "    \n",
    "    @Override\n",
    "    public String whoAmI() {\n",
    "        return \"Dog\";\n",
    "    }\n",
    "    \n",
    "    @Override\n",
    "    public String getNoise() {\n",
    "        return \"woof!\";\n",
    "    }\n",
    "}\n",
    "\n",
    "public class Cat extends AbstractPet {\n",
    "    public Cat(String name) {\n",
    "        super(name, Pet.TYPE.CAT);\n",
    "    }\n",
    "    \n",
    "    @Override\n",
    "    public String getNoise() {\n",
    "        return \"meow!\";\n",
    "    }\n",
    "}"
   ]
  },
  {
   "cell_type": "code",
   "execution_count": 44,
   "metadata": {},
   "outputs": [
    {
     "name": "stdout",
     "output_type": "stream",
     "text": [
      "Max says woof!\n",
      "\tMax is a Dog\n",
      "\tMax is naturally a Dog\n",
      "Nancy says meow!\n",
      "\tNancy is a Pet\n",
      "\tNancy is naturally a Cat\n"
     ]
    }
   ],
   "source": [
    "var pets = new Pet[] { new Dog(\"Max\"), new Cat(\"Nancy\") };\n",
    "\n",
    "for (Pet pet : pets) {\n",
    "    System.out.println(pet + \" says \" + pet.getNoise());\n",
    "    System.out.println(\"\\t\" + pet + \" is a \" + pet.whoAmI());\n",
    "    System.out.println(\"\\t\" + pet + \" is naturally a \" + Pet.getNaturalType(pet.getType()));\n",
    "}"
   ]
  },
  {
   "cell_type": "code",
   "execution_count": null,
   "metadata": {},
   "outputs": [],
   "source": []
  }
 ],
 "metadata": {
  "kernelspec": {
   "display_name": "Java",
   "language": "java",
   "name": "java"
  },
  "language_info": {
   "name": ""
  }
 },
 "nbformat": 4,
 "nbformat_minor": 4
}
