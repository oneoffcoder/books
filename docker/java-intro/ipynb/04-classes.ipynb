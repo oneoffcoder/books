{
 "cells": [
  {
   "cell_type": "markdown",
   "metadata": {},
   "source": [
    "# Basic class"
   ]
  },
  {
   "cell_type": "code",
   "execution_count": 1,
   "metadata": {},
   "outputs": [],
   "source": [
    "public class Car {\n",
    "    String make;\n",
    "    String model;\n",
    "    int year;\n",
    "    \n",
    "    public Car(String make, String model, int year) {\n",
    "        this.make = make;\n",
    "        this.model = model;\n",
    "        this.year = year;\n",
    "    }\n",
    "}"
   ]
  },
  {
   "cell_type": "code",
   "execution_count": 2,
   "metadata": {},
   "outputs": [
    {
     "name": "stdout",
     "output_type": "stream",
     "text": [
      "Honda Accord 2019\n"
     ]
    }
   ],
   "source": [
    "var car = new Car(\"Honda\", \"Accord\", 2019);\n",
    "\n",
    "System.out.println(car.make + \" \" + car.model + \" \" + car.year);"
   ]
  },
  {
   "cell_type": "markdown",
   "metadata": {},
   "source": [
    "# Getters/setters or accessors/mutators"
   ]
  },
  {
   "cell_type": "code",
   "execution_count": 3,
   "metadata": {},
   "outputs": [],
   "source": [
    "public class Car {\n",
    "    private String make;\n",
    "    private String model;\n",
    "    private int year;\n",
    "    \n",
    "    public Car(String make, String model, int year) {\n",
    "        this.make = make;\n",
    "        this.model = model;\n",
    "        this.year = year;\n",
    "    }\n",
    "    \n",
    "    public String getMake() {\n",
    "        return make;\n",
    "    }\n",
    "    \n",
    "    public String getModel() {\n",
    "        return model;\n",
    "    }\n",
    "    \n",
    "    public int getYear() {\n",
    "        return year;\n",
    "    }\n",
    "    \n",
    "    public void setMake(String make) {\n",
    "        this.make = make;\n",
    "    }\n",
    "    \n",
    "    public void setModel(String model) {\n",
    "        this.model = model;\n",
    "    }\n",
    "    \n",
    "    public void setYear(int year) {\n",
    "        this.year = year;\n",
    "    }\n",
    "}"
   ]
  },
  {
   "cell_type": "code",
   "execution_count": 4,
   "metadata": {},
   "outputs": [
    {
     "name": "stdout",
     "output_type": "stream",
     "text": [
      "Honda Accord 2019\n"
     ]
    }
   ],
   "source": [
    "var car = new Car(\"Honda\", \"Accord\", 2019);\n",
    "\n",
    "System.out.println(car.getMake() + \" \" + car.getModel() + \" \" + car.getYear());"
   ]
  },
  {
   "cell_type": "markdown",
   "metadata": {},
   "source": [
    "# Overriding methods"
   ]
  },
  {
   "cell_type": "code",
   "execution_count": 5,
   "metadata": {},
   "outputs": [],
   "source": [
    "public class Car {\n",
    "    private String make;\n",
    "    private String model;\n",
    "    private int year;\n",
    "    \n",
    "    public Car() {\n",
    "        this.make = \"None\";\n",
    "        this.model = \"None\";\n",
    "        this.year = -1;\n",
    "    }\n",
    "    \n",
    "    public Car(String make, String model, int year) {\n",
    "        this.make = make;\n",
    "        this.model = model;\n",
    "        this.year = year;\n",
    "    }\n",
    "    \n",
    "    public String getMake() {\n",
    "        return make;\n",
    "    }\n",
    "    \n",
    "    public String getModel() {\n",
    "        return model;\n",
    "    }\n",
    "    \n",
    "    public int getYear() {\n",
    "        return year;\n",
    "    }\n",
    "    \n",
    "    public void setMake(String make) {\n",
    "        this.make = make;\n",
    "    }\n",
    "    \n",
    "    public void setModel(String model) {\n",
    "        this.model = model;\n",
    "    }\n",
    "    \n",
    "    public void setYear(int year) {\n",
    "        this.year = year;\n",
    "    }\n",
    "    \n",
    "    @Override\n",
    "    public String toString() {\n",
    "        return make + \" \" + model + \" \" + year;\n",
    "    }\n",
    "    \n",
    "    @Override\n",
    "    public boolean equals(Object object) {\n",
    "        if (object == this) {\n",
    "            return true;\n",
    "        }\n",
    "        \n",
    "        if (null == object || !(object instanceof Car)) {\n",
    "            return false;\n",
    "        }\n",
    "        \n",
    "        var that = (Car)object;\n",
    "        if (this.make.equals(that.make) \n",
    "            && this.model.equals(that.model)\n",
    "            && this.year == that.year) {\n",
    "            return true;\n",
    "        }\n",
    "        \n",
    "        return false;\n",
    "    }\n",
    "    \n",
    "    @Override\n",
    "    public int hashCode() {\n",
    "        int result = 17;\n",
    "        result = 31 * result + make.hashCode();\n",
    "        result = 31 * result + model.hashCode();\n",
    "        result = 31 * result + (new Integer(year)).hashCode();\n",
    "        return result;\n",
    "    }\n",
    "}"
   ]
  },
  {
   "cell_type": "code",
   "execution_count": 6,
   "metadata": {},
   "outputs": [
    {
     "name": "stdout",
     "output_type": "stream",
     "text": [
      "Honda Accord 2019\n"
     ]
    }
   ],
   "source": [
    "var car = new Car(\"Honda\", \"Accord\", 2019);\n",
    "\n",
    "System.out.println(car);"
   ]
  },
  {
   "cell_type": "code",
   "execution_count": 7,
   "metadata": {},
   "outputs": [
    {
     "name": "stdout",
     "output_type": "stream",
     "text": [
      "true\n",
      "false\n",
      "-1048876746\n",
      "-1048876746\n",
      "-1048876745\n"
     ]
    }
   ],
   "source": [
    "var car1 = new Car(\"Honda\", \"Accord\", 2019);\n",
    "var car2 = new Car(\"Honda\", \"Accord\", 2019);\n",
    "var car3 = new Car(\"Honda\", \"Accord\", 2020);\n",
    "\n",
    "System.out.println(car1.equals(car2));\n",
    "System.out.println(car1.equals(car3));\n",
    "\n",
    "System.out.println(car1.hashCode());\n",
    "System.out.println(car2.hashCode());\n",
    "System.out.println(car3.hashCode());"
   ]
  },
  {
   "cell_type": "markdown",
   "metadata": {},
   "source": [
    "# Methods with logic"
   ]
  },
  {
   "cell_type": "code",
   "execution_count": 8,
   "metadata": {},
   "outputs": [],
   "source": [
    "public class Car {\n",
    "    private String make;\n",
    "    private String model;\n",
    "    private int year;\n",
    "    private double milesPerGallon;\n",
    "    \n",
    "    public Car() {\n",
    "        this(\"None\", \"None\", -1, 0.0d);\n",
    "    }\n",
    "    \n",
    "    public Car(String make, String model, int year, double milesPerGallon) {\n",
    "        this.make = make;\n",
    "        this.model = model;\n",
    "        this.year = year;\n",
    "        this.milesPerGallon = milesPerGallon;\n",
    "    }\n",
    "    \n",
    "    public String getMake() {\n",
    "        return make;\n",
    "    }\n",
    "    \n",
    "    public String getModel() {\n",
    "        return model;\n",
    "    }\n",
    "    \n",
    "    public int getYear() {\n",
    "        return year;\n",
    "    }\n",
    "    \n",
    "    public double getMilesPerGallon() {\n",
    "        return milesPerGallon;\n",
    "    }\n",
    "    \n",
    "    public double getMiles(double gallons) {\n",
    "        return milesPerGallon * gallons;\n",
    "    }\n",
    "    \n",
    "    public double getGallons(double miles) {\n",
    "        return (1.0 / milesPerGallon) * miles;\n",
    "    }\n",
    "    \n",
    "    @Override\n",
    "    public String toString() {\n",
    "        return make + \" \" + model + \" \" + year;\n",
    "    }\n",
    "    \n",
    "    @Override\n",
    "    public boolean equals(Object object) {\n",
    "        if (object == this) {\n",
    "            return true;\n",
    "        }\n",
    "        \n",
    "        if (null == object || !(object instanceof Car)) {\n",
    "            return false;\n",
    "        }\n",
    "        \n",
    "        var that = (Car)object;\n",
    "        if (this.make.equals(that.make) \n",
    "            && this.model.equals(that.model)\n",
    "            && this.year == that.year\n",
    "            && this.milesPerGallon == that.milesPerGallon) {\n",
    "            return true;\n",
    "        }\n",
    "        \n",
    "        return false;\n",
    "    }\n",
    "    \n",
    "    @Override\n",
    "    public int hashCode() {\n",
    "        int result = 17;\n",
    "        result = 31 * result + make.hashCode();\n",
    "        result = 31 * result + model.hashCode();\n",
    "        result = 31 * result + (new Integer(year)).hashCode();\n",
    "        result = 31 * result + (new Double(milesPerGallon).hashCode());\n",
    "        return result;\n",
    "    }\n",
    "}"
   ]
  },
  {
   "cell_type": "code",
   "execution_count": 10,
   "metadata": {},
   "outputs": [
    {
     "name": "stdout",
     "output_type": "stream",
     "text": [
      "Honda Accord 2019 can travel 100 but needs 4.55 gallons of gas\n",
      "Honda Accord 2019 with 20 gallons of gas can travel 440.0 miles\n"
     ]
    }
   ],
   "source": [
    "Car car = new Car(\"Honda\", \"Accord\", 2019, 22.0d);\n",
    "\n",
    "var miles = 100;\n",
    "var gallons = 20;\n",
    "\n",
    "var gallonsRequired = car.getGallons(miles);\n",
    "var mileage = car.getMiles(gallons);\n",
    "\n",
    "System.out.println(car + \" can travel \" + miles + \n",
    "    \" but needs \" + String.format(\"%.2f\", gallonsRequired) + \" gallons of gas\");\n",
    "    \n",
    "System.out.println(car + \" with \" + gallons + \n",
    "    \" gallons of gas can travel \" + mileage + \" miles\");;"
   ]
  },
  {
   "cell_type": "markdown",
   "metadata": {},
   "source": [
    "## Static methods"
   ]
  },
  {
   "cell_type": "code",
   "execution_count": 11,
   "metadata": {},
   "outputs": [],
   "source": [
    "public class Car {\n",
    "    private String make;\n",
    "    private String model;\n",
    "    private int year;\n",
    "    private double milesPerGallon;\n",
    "    \n",
    "    public Car() {\n",
    "        this(\"None\", \"None\", -1, 0.0d);\n",
    "    }\n",
    "    \n",
    "    public Car(String make, String model, int year, double milesPerGallon) {\n",
    "        this.make = make;\n",
    "        this.model = model;\n",
    "        this.year = year;\n",
    "        this.milesPerGallon = milesPerGallon;\n",
    "    }\n",
    "    \n",
    "    public String getMake() {\n",
    "        return make;\n",
    "    }\n",
    "    \n",
    "    public String getModel() {\n",
    "        return model;\n",
    "    }\n",
    "    \n",
    "    public int getYear() {\n",
    "        return year;\n",
    "    }\n",
    "    \n",
    "    public double getMilesPerGallon() {\n",
    "        return milesPerGallon;\n",
    "    }\n",
    "    \n",
    "    public double getMiles(double gallons) {\n",
    "        return milesPerGallon * gallons;\n",
    "    }\n",
    "    \n",
    "    public double getGallons(double miles) {\n",
    "        return (1.0 / milesPerGallon) * miles;\n",
    "    }\n",
    "    \n",
    "    @Override\n",
    "    public String toString() {\n",
    "        return make + \" \" + model + \" \" + year;\n",
    "    }\n",
    "    \n",
    "    @Override\n",
    "    public boolean equals(Object object) {\n",
    "        if (object == this) {\n",
    "            return true;\n",
    "        }\n",
    "        \n",
    "        if (null == object || !(object instanceof Car)) {\n",
    "            return false;\n",
    "        }\n",
    "        \n",
    "        var that = (Car)object;\n",
    "        if (this.make.equals(that.make) \n",
    "            && this.model.equals(that.model)\n",
    "            && this.year == that.year\n",
    "            && this.milesPerGallon == that.milesPerGallon) {\n",
    "            return true;\n",
    "        }\n",
    "        \n",
    "        return false;\n",
    "    }\n",
    "    \n",
    "    @Override\n",
    "    public int hashCode() {\n",
    "        int result = 17;\n",
    "        result = 31 * result + make.hashCode();\n",
    "        result = 31 * result + model.hashCode();\n",
    "        result = 31 * result + (new Integer(year)).hashCode();\n",
    "        result = 31 * result + (new Double(milesPerGallon).hashCode());\n",
    "        return result;\n",
    "    }\n",
    "    \n",
    "    public static Car getBetterMileage(Car lhs, Car rhs) {\n",
    "        return lhs.milesPerGallon > rhs.milesPerGallon ? lhs : rhs;\n",
    "    }\n",
    "}"
   ]
  },
  {
   "cell_type": "code",
   "execution_count": 13,
   "metadata": {},
   "outputs": [
    {
     "name": "stdout",
     "output_type": "stream",
     "text": [
      "Honda Accord 2019 vs Honda Civic 2019\n",
      "Honda Civic 2019 has better mileage\n"
     ]
    }
   ],
   "source": [
    "Car car1 = new Car(\"Honda\", \"Accord\", 2019, 22.0);\n",
    "Car car2 = new Car(\"Honda\", \"Civic\", 2019, 25.0);\n",
    "\n",
    "System.out.println(car1 + \" vs \" + car2);\n",
    "System.out.println(Car.getBetterMileage(car1, car2) + \" has better mileage\");"
   ]
  },
  {
   "cell_type": "markdown",
   "metadata": {},
   "source": [
    "## Variable-length methods"
   ]
  },
  {
   "cell_type": "code",
   "execution_count": 17,
   "metadata": {},
   "outputs": [],
   "source": [
    "public class Car {\n",
    "    private String make;\n",
    "    private String model;\n",
    "    private int year;\n",
    "    private double milesPerGallon;\n",
    "    private String[] passengers;\n",
    "    \n",
    "    public Car() {\n",
    "        this(\"None\", \"None\", -1, 0.0d);\n",
    "    }\n",
    "    \n",
    "    public Car(String make, String model, int year, double milesPerGallon) {\n",
    "        this.make = make;\n",
    "        this.model = model;\n",
    "        this.year = year;\n",
    "        this.milesPerGallon = milesPerGallon;\n",
    "    }\n",
    "    \n",
    "    public String getMake() {\n",
    "        return make;\n",
    "    }\n",
    "    \n",
    "    public String getModel() {\n",
    "        return model;\n",
    "    }\n",
    "    \n",
    "    public int getYear() {\n",
    "        return year;\n",
    "    }\n",
    "    \n",
    "    public double getMilesPerGallon() {\n",
    "        return milesPerGallon;\n",
    "    }\n",
    "    \n",
    "    public double getMiles(double gallons) {\n",
    "        return milesPerGallon * gallons;\n",
    "    }\n",
    "    \n",
    "    public double getGallons(double miles) {\n",
    "        return (1.0 / milesPerGallon) * miles;\n",
    "    }\n",
    "    \n",
    "    public String[] getPassengers() {\n",
    "        return this.passengers;\n",
    "    }\n",
    "    \n",
    "    public void setPassengers(String ... passengers) {\n",
    "        this.passengers = passengers;\n",
    "    }\n",
    "    \n",
    "    @Override\n",
    "    public String toString() {\n",
    "        return make + \" \" + model + \" \" + year;\n",
    "    }\n",
    "    \n",
    "    @Override\n",
    "    public boolean equals(Object object) {\n",
    "        if (object == this) {\n",
    "            return true;\n",
    "        }\n",
    "        \n",
    "        if (null == object || !(object instanceof Car)) {\n",
    "            return false;\n",
    "        }\n",
    "        \n",
    "        var that = (Car)object;\n",
    "        if (this.make.equals(that.make) \n",
    "            && this.model.equals(that.model)\n",
    "            && this.year == that.year\n",
    "            && this.milesPerGallon == that.milesPerGallon) {\n",
    "            return true;\n",
    "        }\n",
    "        \n",
    "        return false;\n",
    "    }\n",
    "    \n",
    "    @Override\n",
    "    public int hashCode() {\n",
    "        int result = 17;\n",
    "        result = 31 * result + make.hashCode();\n",
    "        result = 31 * result + model.hashCode();\n",
    "        result = 31 * result + (new Integer(year)).hashCode();\n",
    "        result = 31 * result + (new Double(milesPerGallon).hashCode());\n",
    "        return result;\n",
    "    }\n",
    "    \n",
    "    public static Car getBetterMileage(Car lhs, Car rhs) {\n",
    "        return lhs.milesPerGallon > rhs.milesPerGallon ? lhs : rhs;\n",
    "    }\n",
    "}"
   ]
  },
  {
   "cell_type": "code",
   "execution_count": 19,
   "metadata": {},
   "outputs": [
    {
     "name": "stdout",
     "output_type": "stream",
     "text": [
      "John\n",
      "Joe\n",
      "Jane\n",
      "Joyce\n"
     ]
    }
   ],
   "source": [
    "Car car = new Car(\"Honda\", \"Accord\", 2019, 22.0);\n",
    "car.setPassengers(\"John\", \"Joe\", \"Jane\", \"Joyce\");\n",
    "\n",
    "for (String passenger : car.getPassengers()) {\n",
    "    System.out.println(passenger);\n",
    "}"
   ]
  },
  {
   "cell_type": "code",
   "execution_count": null,
   "metadata": {},
   "outputs": [],
   "source": []
  }
 ],
 "metadata": {
  "kernelspec": {
   "display_name": "Java",
   "language": "java",
   "name": "java"
  },
  "language_info": {
   "name": ""
  }
 },
 "nbformat": 4,
 "nbformat_minor": 4
}
