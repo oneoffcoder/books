{
 "cells": [
  {
   "cell_type": "markdown",
   "metadata": {},
   "source": [
    "# Exception handling with try-catch-finally"
   ]
  },
  {
   "cell_type": "markdown",
   "metadata": {},
   "source": [
    "## Simple problem"
   ]
  },
  {
   "cell_type": "code",
   "execution_count": 1,
   "metadata": {},
   "outputs": [
    {
     "ename": "EvalException",
     "evalue": "/ by zero",
     "output_type": "error",
     "traceback": [
      "\u001b[1m\u001b[31m---------------------------------------------------------------------------\u001b[0m",
      "\u001b[1m\u001b[31mjava.lang.ArithmeticException: / by zero\u001b[0m",
      "\u001b[1m\u001b[31m\tat .(#14:1)\u001b[0m"
     ]
    }
   ],
   "source": [
    "var a = 10;\n",
    "var b = 0;\n",
    "var c = a / b;"
   ]
  },
  {
   "cell_type": "markdown",
   "metadata": {},
   "source": [
    "## Simple try-catch"
   ]
  },
  {
   "cell_type": "code",
   "execution_count": 2,
   "metadata": {},
   "outputs": [
    {
     "name": "stdout",
     "output_type": "stream",
     "text": [
      "10 / 0 => java.lang.ArithmeticException: / by zero\n"
     ]
    }
   ],
   "source": [
    "var a = 10;\n",
    "var b = 0;\n",
    "\n",
    "try {\n",
    "    var c = a / b;\n",
    "    System.out.println(a + \" / \" + b + \" = \" + c);\n",
    "} catch (ArithmeticException e) {\n",
    "    System.out.println(a + \" / \" + b + \" => \" + e);\n",
    "}"
   ]
  },
  {
   "cell_type": "markdown",
   "metadata": {},
   "source": [
    "## Simple throw"
   ]
  },
  {
   "cell_type": "code",
   "execution_count": 3,
   "metadata": {},
   "outputs": [
    {
     "ename": "EvalException",
     "evalue": "10 / 0 => java.lang.ArithmeticException: / by zero",
     "output_type": "error",
     "traceback": [
      "\u001b[1m\u001b[31m---------------------------------------------------------------------------\u001b[0m",
      "\u001b[1m\u001b[31mjava.lang.ArithmeticException: 10 / 0 => java.lang.ArithmeticException: / by zero\u001b[0m",
      "\u001b[1m\u001b[31m\tat .(#16:1)\u001b[0m"
     ]
    }
   ],
   "source": [
    "var a = 10;\n",
    "var b = 0;\n",
    "\n",
    "try {\n",
    "    var c = a / b;\n",
    "    System.out.println(a + \" / \" + b + \" = \" + c);\n",
    "} catch (ArithmeticException e) {\n",
    "    throw new ArithmeticException(a + \" / \" + b + \" => \" + e);\n",
    "}"
   ]
  },
  {
   "cell_type": "markdown",
   "metadata": {},
   "source": [
    "## Simple try-catch-finally"
   ]
  },
  {
   "cell_type": "code",
   "execution_count": 4,
   "metadata": {},
   "outputs": [
    {
     "name": "stderr",
     "output_type": "stream",
     "text": [
      "10 / 0 cannot be computed\n"
     ]
    }
   ],
   "source": [
    "var a = 10;\n",
    "var b = 0;\n",
    "var c = -1;\n",
    "\n",
    "try {\n",
    "    c = a / b;\n",
    "} catch (ArithmeticException e) {\n",
    "    // swallow\n",
    "} finally {\n",
    "    if (c == -1) {\n",
    "        System.err.println(a + \" / \" + b + \" cannot be computed\");\n",
    "    }\n",
    "}"
   ]
  },
  {
   "cell_type": "markdown",
   "metadata": {},
   "source": [
    "# Try-catch-finally with resources"
   ]
  },
  {
   "cell_type": "code",
   "execution_count": 5,
   "metadata": {},
   "outputs": [
    {
     "name": "stdout",
     "output_type": "stream",
     "text": [
      "John, Doe\n",
      "Jane, Smith\n"
     ]
    }
   ],
   "source": [
    "%maven com.opencsv:opencsv:5.0\n",
    "\n",
    "import com.opencsv.*;\n",
    "\n",
    "try (var writer = new CSVWriterBuilder(new FileWriter(\"demo.csv\"))\n",
    "    .withSeparator(ICSVParser.DEFAULT_SEPARATOR)\n",
    "    .withQuoteChar(ICSVParser.DEFAULT_QUOTE_CHARACTER)\n",
    "    .withEscapeChar(ICSVParser.DEFAULT_ESCAPE_CHARACTER)\n",
    "    .withLineEnd(ICSVWriter.DEFAULT_LINE_END)\n",
    "    .build()) {\n",
    "    \n",
    "    var entries = new String[][] {\n",
    "        { \"first_name\", \"last_name\" },\n",
    "        { \"John\", \"Doe\" },\n",
    "        { \"Jane\", \"Smith\" }\n",
    "    };\n",
    "\n",
    "    for (String[] row : entries) {\n",
    "        writer.writeNext(row);\n",
    "    }\n",
    "}\n",
    "\n",
    "final var parser = new CSVParserBuilder()\n",
    "    .withSeparator(ICSVParser.DEFAULT_SEPARATOR)\n",
    "    .withQuoteChar(ICSVParser.DEFAULT_QUOTE_CHARACTER)\n",
    "    .withEscapeChar(ICSVParser.DEFAULT_ESCAPE_CHARACTER)\n",
    "    .build();\n",
    "    \n",
    "try (var reader = new CSVReaderBuilder(new FileReader(\"demo.csv\"))\n",
    "    .withSkipLines(1)\n",
    "    .withCSVParser(parser)\n",
    "    .build()) {\n",
    "    String[] line;\n",
    "    while ((line = reader.readNext()) != null) {\n",
    "       for (int i = 0; i < line.length; i++) {\n",
    "           System.out.print(line[i]);\n",
    "           if (i < line.length - 1) {\n",
    "               System.out.print(\", \");\n",
    "           } else if (i == line.length - 1) {\n",
    "               System.out.println();\n",
    "           }\n",
    "       }\n",
    "    }\n",
    "}"
   ]
  },
  {
   "cell_type": "code",
   "execution_count": null,
   "metadata": {},
   "outputs": [],
   "source": []
  }
 ],
 "metadata": {
  "kernelspec": {
   "display_name": "Java",
   "language": "java",
   "name": "java"
  },
  "language_info": {
   "name": ""
  }
 },
 "nbformat": 4,
 "nbformat_minor": 4
}
