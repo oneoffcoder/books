{
 "cells": [
  {
   "cell_type": "markdown",
   "metadata": {},
   "source": [
    "# Control statements"
   ]
  },
  {
   "cell_type": "markdown",
   "metadata": {},
   "source": [
    "# if-else"
   ]
  },
  {
   "cell_type": "markdown",
   "metadata": {},
   "source": [
    "## simple if-else"
   ]
  },
  {
   "cell_type": "code",
   "execution_count": 1,
   "metadata": {},
   "outputs": [
    {
     "name": "stdout",
     "output_type": "stream",
     "text": [
      "a >= b\n"
     ]
    }
   ],
   "source": [
    "int a = 10;\n",
    "int b = 9;\n",
    "\n",
    "if (a < b) {\n",
    "    System.out.println(\"a < b\");\n",
    "} else {\n",
    "    System.out.println(\"a >= b\");\n",
    "}"
   ]
  },
  {
   "cell_type": "markdown",
   "metadata": {},
   "source": [
    "## if-elseif-else"
   ]
  },
  {
   "cell_type": "code",
   "execution_count": 2,
   "metadata": {},
   "outputs": [
    {
     "name": "stdout",
     "output_type": "stream",
     "text": [
      "a <= 10\n"
     ]
    }
   ],
   "source": [
    "int a = 9;\n",
    "\n",
    "if (a > 20) {\n",
    "    System.out.println(\"a > 20\");\n",
    "} else if (a > 10) {\n",
    "    System.out.println(\"a > 10\");\n",
    "} else {\n",
    "    System.out.println(\"a <= 10\");\n",
    "}"
   ]
  },
  {
   "cell_type": "markdown",
   "metadata": {},
   "source": [
    "## nested if-else"
   ]
  },
  {
   "cell_type": "code",
   "execution_count": 3,
   "metadata": {},
   "outputs": [
    {
     "name": "stdout",
     "output_type": "stream",
     "text": [
      "a > 5\n"
     ]
    }
   ],
   "source": [
    "int a = 9;\n",
    "\n",
    "if (a > 20) {\n",
    "    System.out.println(\"a > 20\");\n",
    "} else if (a > 10) {\n",
    "    System.out.println(\"a > 10\");\n",
    "} else {\n",
    "    if (a > 5) {\n",
    "        System.out.println(\"a > 5\");\n",
    "    } else {\n",
    "        System.out.println(\"a <= 5\");\n",
    "    }\n",
    "}"
   ]
  },
  {
   "cell_type": "markdown",
   "metadata": {},
   "source": [
    "# switch"
   ]
  },
  {
   "cell_type": "markdown",
   "metadata": {},
   "source": [
    "## Basic switch"
   ]
  },
  {
   "cell_type": "code",
   "execution_count": 4,
   "metadata": {},
   "outputs": [
    {
     "name": "stdout",
     "output_type": "stream",
     "text": [
      "good job!\n"
     ]
    }
   ],
   "source": [
    "char grade = 'B';\n",
    "\n",
    "switch (grade) {\n",
    "    case 'A':\n",
    "        System.out.println(\"great job!\");\n",
    "        break;\n",
    "    case 'B':\n",
    "        System.out.println(\"good job!\");\n",
    "        break;\n",
    "    case 'C':\n",
    "        System.out.println(\"let's do better!\");\n",
    "        break;\n",
    "    case 'D':\n",
    "        System.out.println(\"need serious improvement!\");\n",
    "        break;\n",
    "    default:\n",
    "        System.out.println(\"ouch!\");\n",
    "}"
   ]
  },
  {
   "cell_type": "markdown",
   "metadata": {},
   "source": [
    "## New switch (preview)"
   ]
  },
  {
   "cell_type": "code",
   "execution_count": 5,
   "metadata": {},
   "outputs": [
    {
     "name": "stdout",
     "output_type": "stream",
     "text": [
      "good job!\n"
     ]
    }
   ],
   "source": [
    "char grade = 'B';\n",
    "\n",
    "switch (grade) {\n",
    "    case 'A' -> System.out.println(\"great job!\");\n",
    "    case 'B' -> System.out.println(\"good job!\");\n",
    "    case 'C' -> System.out.println(\"let's do better!\");\n",
    "    case 'D' -> System.out.println(\"need serious improvement!\");\n",
    "    default -> System.out.println(\"ouch!\");\n",
    "}"
   ]
  },
  {
   "cell_type": "markdown",
   "metadata": {},
   "source": [
    "## Nested switches"
   ]
  },
  {
   "cell_type": "code",
   "execution_count": 7,
   "metadata": {},
   "outputs": [
    {
     "name": "stdout",
     "output_type": "stream",
     "text": [
      "minority female\n"
     ]
    }
   ],
   "source": [
    "int ethnicity = 1;\n",
    "String gender = \"female\";\n",
    "\n",
    "switch (ethnicity) {\n",
    "    case 0:\n",
    "        switch (gender) {\n",
    "            case \"male\":\n",
    "                System.out.println(\"white male\");\n",
    "                break;\n",
    "            default:\n",
    "                System.out.println(\"white female\");\n",
    "        }\n",
    "    case 1:\n",
    "        switch (gender) {\n",
    "            case \"male\":\n",
    "                System.out.println(\"minority male\");\n",
    "                break;\n",
    "            default:\n",
    "                System.out.println(\"minority female\");\n",
    "        }\n",
    "}"
   ]
  },
  {
   "cell_type": "code",
   "execution_count": null,
   "metadata": {},
   "outputs": [],
   "source": []
  }
 ],
 "metadata": {
  "kernelspec": {
   "display_name": "Java",
   "language": "java",
   "name": "java"
  },
  "language_info": {
   "name": ""
  }
 },
 "nbformat": 4,
 "nbformat_minor": 4
}
