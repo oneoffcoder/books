{
 "cells": [
  {
   "cell_type": "markdown",
   "metadata": {},
   "source": [
    "# Hello, world"
   ]
  },
  {
   "cell_type": "code",
   "execution_count": 1,
   "metadata": {},
   "outputs": [
    {
     "name": "stdout",
     "output_type": "stream",
     "text": [
      "Hello, world!\n"
     ]
    }
   ],
   "source": [
    "System.out.println(\"Hello, world!\");"
   ]
  },
  {
   "cell_type": "markdown",
   "metadata": {},
   "source": [
    "# Basic types"
   ]
  },
  {
   "cell_type": "code",
   "execution_count": 2,
   "metadata": {},
   "outputs": [],
   "source": [
    "byte b = 127;\n",
    "short s = 32_767;\n",
    "int i = 2_147_483_647;\n",
    "long l = 9_223_372_036_854_775_807L;\n",
    "float f = 3.4e38f;\n",
    "double d = 1.7e308d;\n",
    "char c = 'Z';\n",
    "boolean b = true;\n",
    "String t = \"Hello, world!\";"
   ]
  },
  {
   "cell_type": "markdown",
   "metadata": {},
   "source": [
    "# Arrays"
   ]
  },
  {
   "cell_type": "code",
   "execution_count": 3,
   "metadata": {},
   "outputs": [
    {
     "data": {
      "text/plain": [
       "11"
      ]
     },
     "execution_count": 3,
     "metadata": {},
     "output_type": "execute_result"
    }
   ],
   "source": [
    "int months[] = new int[12];\n",
    "\n",
    "months[0] = 0;\n",
    "months[1] = 1;\n",
    "months[2] = 2;\n",
    "months[3] = 3;\n",
    "months[4] = 4;\n",
    "months[5] = 5;\n",
    "months[6] = 6;\n",
    "months[7] = 7;\n",
    "months[8] = 8;\n",
    "months[9] = 9;\n",
    "months[10] = 10;\n",
    "months[11] = 11;"
   ]
  },
  {
   "cell_type": "code",
   "execution_count": 4,
   "metadata": {},
   "outputs": [],
   "source": [
    "int months[] = { 0, 1, 2, 3, 4, 5, 6, 7, 8, 9, 10, 11 };"
   ]
  },
  {
   "cell_type": "code",
   "execution_count": 5,
   "metadata": {},
   "outputs": [
    {
     "data": {
      "text/plain": [
       "4"
      ]
     },
     "execution_count": 5,
     "metadata": {},
     "output_type": "execute_result"
    }
   ],
   "source": [
    "int matrix[][] = new int[2][2];\n",
    "matrix[0][0] = 1;\n",
    "matrix[0][1] = 2;\n",
    "matrix[1][0] = 3;\n",
    "matrix[1][1] = 4;"
   ]
  },
  {
   "cell_type": "code",
   "execution_count": 6,
   "metadata": {},
   "outputs": [],
   "source": [
    "int matrix[][] = { {1, 2}, {3, 4} };"
   ]
  },
  {
   "cell_type": "markdown",
   "metadata": {},
   "source": [
    "# Type inference with var"
   ]
  },
  {
   "cell_type": "code",
   "execution_count": 7,
   "metadata": {},
   "outputs": [],
   "source": [
    "var d = 10.0;\n",
    "var s = \"Hello, World!\";\n",
    "var b = true;\n",
    "var a = new int[] { 0, 1, 2 };\n",
    "var m = new int[][] { {1, 2}, {3, 4} };"
   ]
  },
  {
   "cell_type": "markdown",
   "metadata": {},
   "source": [
    "# String"
   ]
  },
  {
   "cell_type": "code",
   "execution_count": 8,
   "metadata": {},
   "outputs": [],
   "source": [
    "var s1 = \"Hi\"; // basic string\n",
    "var s2 = \"Hello, I am \" + \" very hungry.\"; // string concatenation\n",
    "var s3 = \"I am \" + String.format(\"%.2f\", 55.555) + \" inches tall.\"; // string formatting"
   ]
  }
 ],
 "metadata": {
  "kernelspec": {
   "display_name": "Java",
   "language": "java",
   "name": "java"
  },
  "language_info": {
   "codemirror_mode": "java",
   "file_extension": ".jshell",
   "mimetype": "text/x-java-source",
   "name": "Java",
   "pygments_lexer": "java",
   "version": "14-ea+18-Ubuntu-1"
  }
 },
 "nbformat": 4,
 "nbformat_minor": 4
}
